{
 "cells": [
  {
   "cell_type": "code",
   "execution_count": 10,
   "id": "2feeb277",
   "metadata": {},
   "outputs": [],
   "source": [
    "def get_distribution(samples, variables=None):\n",
    "    \"\"\"\n",
    "    For marginal distribution, P(A): get_distribution(samples, variables=['A'])\n",
    "    For joint distribution, P(A, B): get_distribution(samples, variables=['A', 'B'])\n",
    "    \"\"\"\n",
    "    if variables is None:\n",
    "        raise ValueError(\"variables must be specified\")\n",
    "\n",
    "    return samples.groupby(variables).size() / samples.shape[0]"
   ]
  },
  {
   "cell_type": "code",
   "execution_count": 24,
   "id": "cdb2e2f1",
   "metadata": {},
   "outputs": [],
   "source": [
    "# Define a model\n",
    "from pgmpy.factors.discrete import TabularCPD\n",
    "\n",
    "from pgmpy.utils import get_example_model\n",
    "\n",
    "alarm = get_example_model(\"alarm\")"
   ]
  },
  {
   "cell_type": "markdown",
   "id": "d3219f21",
   "metadata": {},
   "source": [
    "# Normal Bayesian Network (no time variation)"
   ]
  },
  {
   "cell_type": "markdown",
   "id": "6c064112",
   "metadata": {},
   "source": [
    "## Normal simulation"
   ]
  },
  {
   "cell_type": "code",
   "execution_count": 28,
   "id": "94e02da7",
   "metadata": {},
   "outputs": [
    {
     "data": {
      "application/vnd.jupyter.widget-view+json": {
       "model_id": "0ce37073bf334951ad58a6eff0d1da43",
       "version_major": 2,
       "version_minor": 0
      },
      "text/plain": [
       "  0%|          | 0/37 [00:00<?, ?it/s]"
      ]
     },
     "metadata": {},
     "output_type": "display_data"
    },
    {
     "data": {
      "text/plain": [
       "HISTORY\n",
       "FALSE    0.9452\n",
       "TRUE     0.0548\n",
       "dtype: float64"
      ]
     },
     "execution_count": 28,
     "metadata": {},
     "output_type": "execute_result"
    }
   ],
   "source": [
    "samples = alarm.simulate(n_samples=int(1e4))\n",
    "get_distribution(samples, variables=[\"HISTORY\"])  # P(HISTORY)"
   ]
  },
  {
   "cell_type": "markdown",
   "id": "b6d6664d",
   "metadata": {},
   "source": [
    "## Simulation with some evidence"
   ]
  },
  {
   "cell_type": "code",
   "execution_count": 23,
   "id": "6ebdeade",
   "metadata": {},
   "outputs": [
    {
     "data": {
      "application/vnd.jupyter.widget-view+json": {
       "model_id": "4198ee465d5e445ea3a19f552be79035",
       "version_major": 2,
       "version_minor": 0
      },
      "text/plain": [
       "  0%|          | 0/10000 [00:00<?, ?it/s]"
      ]
     },
     "metadata": {},
     "output_type": "display_data"
    },
    {
     "data": {
      "text/plain": [
       "HISTORY\n",
       "FALSE    0.9847\n",
       "TRUE     0.0153\n",
       "dtype: float64"
      ]
     },
     "execution_count": 23,
     "metadata": {},
     "output_type": "execute_result"
    }
   ],
   "source": [
    "samples = alarm.simulate(n_samples=int(1e4), evidence={\"CVP\": \"NORMAL\", \"HR\": \"HIGH\"})\n",
    "get_distribution(samples, variables=[\"HISTORY\"])  # P(HISTORY)"
   ]
  },
  {
   "cell_type": "markdown",
   "id": "e58aaee7",
   "metadata": {},
   "source": [
    "## Simulation with soft/virtual evidence"
   ]
  },
  {
   "cell_type": "code",
   "execution_count": 32,
   "id": "edb1b6dd",
   "metadata": {},
   "outputs": [
    {
     "data": {
      "application/vnd.jupyter.widget-view+json": {
       "model_id": "cbe81269ceca45e8820b724f6a07c6dc",
       "version_major": 2,
       "version_minor": 0
      },
      "text/plain": [
       "  0%|          | 0/10000 [00:00<?, ?it/s]"
      ]
     },
     "metadata": {},
     "output_type": "display_data"
    },
    {
     "data": {
      "text/plain": [
       "HISTORY\n",
       "FALSE    0.9609\n",
       "TRUE     0.0391\n",
       "dtype: float64"
      ]
     },
     "execution_count": 32,
     "metadata": {},
     "output_type": "execute_result"
    }
   ],
   "source": [
    "soft_evidence = [\n",
    "    TabularCPD(\n",
    "        \"CVP\", 3, [[0.2], [0.3], [0.5]], state_names={\"CVP\": [\"NORMAL\", \"LOW\", \"HIGH\"]}\n",
    "    )\n",
    "]\n",
    "samples = alarm.simulate(n_samples=int(1e4), virtual_evidence=soft_evidence)\n",
    "get_distribution(samples, variables=[\"HISTORY\"])  # P(HISTORY)"
   ]
  },
  {
   "cell_type": "markdown",
   "id": "9332944a",
   "metadata": {},
   "source": [
    "## Simulation with intervention"
   ]
  },
  {
   "cell_type": "code",
   "execution_count": 33,
   "id": "b89529e8",
   "metadata": {},
   "outputs": [
    {
     "data": {
      "application/vnd.jupyter.widget-view+json": {
       "model_id": "150dc33e0f574cb0b6ce42dd2979d165",
       "version_major": 2,
       "version_minor": 0
      },
      "text/plain": [
       "  0%|          | 0/10000 [00:00<?, ?it/s]"
      ]
     },
     "metadata": {},
     "output_type": "display_data"
    },
    {
     "data": {
      "text/plain": [
       "HISTORY\n",
       "FALSE    0.9488\n",
       "TRUE     0.0512\n",
       "dtype: float64"
      ]
     },
     "execution_count": 33,
     "metadata": {},
     "output_type": "execute_result"
    }
   ],
   "source": [
    "samples = alarm.simulate(n_samples=int(1e4), do={\"CVP\": \"NORMAL\", \"HR\": \"HIGH\"})\n",
    "get_distribution(samples, variables=[\"HISTORY\"])  # P(HISTORY)"
   ]
  },
  {
   "cell_type": "markdown",
   "id": "4b9fa901",
   "metadata": {},
   "source": [
    "## Simulation with soft/virtual intervention"
   ]
  },
  {
   "cell_type": "code",
   "execution_count": 34,
   "id": "eab6d41b",
   "metadata": {},
   "outputs": [
    {
     "data": {
      "application/vnd.jupyter.widget-view+json": {
       "model_id": "ca9257f0d60a40528336a12d64a5e7d0",
       "version_major": 2,
       "version_minor": 0
      },
      "text/plain": [
       "  0%|          | 0/10000 [00:00<?, ?it/s]"
      ]
     },
     "metadata": {},
     "output_type": "display_data"
    },
    {
     "data": {
      "text/plain": [
       "HISTORY\n",
       "FALSE    0.9508\n",
       "TRUE     0.0492\n",
       "dtype: float64"
      ]
     },
     "execution_count": 34,
     "metadata": {},
     "output_type": "execute_result"
    }
   ],
   "source": [
    "soft_evidence = [\n",
    "    TabularCPD(\n",
    "        \"CVP\", 3, [[0.2], [0.3], [0.5]], state_names={\"CVP\": [\"NORMAL\", \"LOW\", \"HIGH\"]}\n",
    "    )\n",
    "]\n",
    "samples = alarm.simulate(n_samples=int(1e4), virtual_intervention=soft_evidence)\n",
    "get_distribution(samples, variables=[\"HISTORY\"])  # P(HISTORY)"
   ]
  },
  {
   "cell_type": "code",
   "execution_count": null,
   "id": "b73df00a",
   "metadata": {},
   "outputs": [],
   "source": []
  }
 ],
 "metadata": {
  "kernelspec": {
   "display_name": "Python 3",
   "language": "python",
   "name": "python3"
  },
  "language_info": {
   "codemirror_mode": {
    "name": "ipython",
    "version": 3
   },
   "file_extension": ".py",
   "mimetype": "text/x-python",
   "name": "python",
   "nbconvert_exporter": "python",
   "pygments_lexer": "ipython3",
   "version": "3.8.11"
  }
 },
 "nbformat": 4,
 "nbformat_minor": 5
}
