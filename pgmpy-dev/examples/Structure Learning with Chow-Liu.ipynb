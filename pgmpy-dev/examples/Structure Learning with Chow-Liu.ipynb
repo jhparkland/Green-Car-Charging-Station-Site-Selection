{
 "cells": [
  {
   "cell_type": "markdown",
   "metadata": {},
   "source": [
    "# Learning Tree Structure from Data using the Chow-Liu Algorithm "
   ]
  },
  {
   "cell_type": "markdown",
   "metadata": {},
   "source": [
    "In this notebook, we show an example for learning the structure of a Bayesian Network using the Chow-Liu algorithm.  We will first build a model to generate some data and then attempt to learn the model's graph structure back from the generated data."
   ]
  },
  {
   "cell_type": "markdown",
   "metadata": {},
   "source": [
    "## First, create a tree graph"
   ]
  },
  {
   "cell_type": "code",
   "execution_count": 1,
   "metadata": {},
   "outputs": [
    {
     "data": {
      "image/png": "[encoded data removed]",
      "text/plain": [
       "<Figure size 432x288 with 1 Axes>"
      ]
     },
     "metadata": {},
     "output_type": "display_data"
    }
   ],
   "source": [
    "import networkx as nx\n",
    "import matplotlib.pyplot as plt\n",
    "\n",
    "from pgmpy.models import BayesianNetwork\n",
    "\n",
    "# construct the tree graph structure\n",
    "model = BayesianNetwork([(\"A\", \"B\"), (\"A\", \"C\"), (\"B\", \"D\"), (\"B\", \"E\"), (\"C\", \"F\")])\n",
    "nx.draw_circular(\n",
    "    model, with_labels=True, arrowsize=30, node_size=800, alpha=0.3, font_weight=\"bold\"\n",
    ")\n",
    "plt.show()"
   ]
  },
  {
   "cell_type": "markdown",
   "metadata": {},
   "source": [
    "## Then, add CPDs to our tree to create a Bayesian network"
   ]
  },
  {
   "cell_type": "code",
   "execution_count": 2,
   "metadata": {},
   "outputs": [],
   "source": [
    "from pgmpy.factors.discrete import TabularCPD\n",
    "\n",
    "# add CPD to each edge\n",
    "cpd_a = TabularCPD(\"A\", 2, [[0.4], [0.6]])\n",
    "cpd_b = TabularCPD(\n",
    "    \"B\", 3, [[0.6, 0.2], [0.3, 0.5], [0.1, 0.3]], evidence=[\"A\"], evidence_card=[2]\n",
    ")\n",
    "cpd_c = TabularCPD(\"C\", 2, [[0.3, 0.4], [0.7, 0.6]], evidence=[\"A\"], evidence_card=[2])\n",
    "cpd_d = TabularCPD(\n",
    "    \"D\",\n",
    "    3,\n",
    "    [[0.5, 0.3, 0.1], [0.4, 0.4, 0.8], [0.1, 0.3, 0.1]],\n",
    "    evidence=[\"B\"],\n",
    "    evidence_card=[3],\n",
    ")\n",
    "cpd_e = TabularCPD(\n",
    "    \"E\", 2, [[0.3, 0.5, 0.2], [0.7, 0.5, 0.8]], evidence=[\"B\"], evidence_card=[3]\n",
    ")\n",
    "cpd_f = TabularCPD(\n",
    "    \"F\", 3, [[0.3, 0.6], [0.5, 0.2], [0.2, 0.2]], evidence=[\"C\"], evidence_card=[2]\n",
    ")\n",
    "model.add_cpds(cpd_a, cpd_b, cpd_c, cpd_d, cpd_e, cpd_f)"
   ]
  },
  {
   "cell_type": "markdown",
   "metadata": {},
   "source": [
    "## Next, generate sample data from our tree Bayesian network"
   ]
  },
  {
   "cell_type": "code",
   "execution_count": 3,
   "metadata": {},
   "outputs": [
    {
     "name": "stderr",
     "output_type": "stream",
     "text": [
      "Generating for node: D: 100%|██████████| 6/6 [00:00<00:00, 275.41it/s]"
     ]
    },
    {
     "name": "stdout",
     "output_type": "stream",
     "text": [
      "      A  B  C  D  E  F\n",
      "0     0  1  0  2  0  1\n",
      "1     0  0  0  1  1  1\n",
      "2     1  1  0  1  0  1\n",
      "3     1  2  1  1  1  0\n",
      "4     0  0  1  1  0  0\n",
      "...  .. .. .. .. .. ..\n",
      "9995  0  1  1  0  1  0\n",
      "9996  0  0  1  1  1  0\n",
      "9997  1  1  0  2  1  2\n",
      "9998  1  0  0  0  1  0\n",
      "9999  1  1  1  0  1  0\n",
      "\n",
      "[10000 rows x 6 columns]\n"
     ]
    },
    {
     "name": "stderr",
     "output_type": "stream",
     "text": [
      "\n"
     ]
    }
   ],
   "source": [
    "from pgmpy.sampling import BayesianModelSampling\n",
    "\n",
    "# sample data from BN\n",
    "inference = BayesianModelSampling(model)\n",
    "df_data = inference.forward_sample(size=10000)\n",
    "print(df_data)"
   ]
  },
  {
   "cell_type": "markdown",
   "metadata": {},
   "source": [
    "## Finally, apply the Chow-Liu algorithm to learn the tree graph from sample data"
   ]
  },
  {
   "cell_type": "code",
   "execution_count": 4,
   "metadata": {},
   "outputs": [
    {
     "name": "stderr",
     "output_type": "stream",
     "text": [
      "Building tree: 100%|██████████| 15/15.0 [00:00<00:00, 4518.10it/s]\n"
     ]
    },
    {
     "data": {
      "image/png": "[encoded data removed]",
      "text/plain": [
       "<Figure size 432x288 with 1 Axes>"
      ]
     },
     "metadata": {},
     "output_type": "display_data"
    }
   ],
   "source": [
    "from pgmpy.estimators import TreeSearch\n",
    "\n",
    "# learn graph structure\n",
    "est = TreeSearch(df_data, root_node=\"A\")\n",
    "dag = est.estimate(estimator_type=\"chow-liu\")\n",
    "nx.draw_circular(\n",
    "    dag, with_labels=True, arrowsize=30, node_size=800, alpha=0.3, font_weight=\"bold\"\n",
    ")\n",
    "plt.show()"
   ]
  },
  {
   "cell_type": "markdown",
   "metadata": {},
   "source": [
    "## To parameterize the learned graph from data, check out the other tutorials for more info"
   ]
  },
  {
   "cell_type": "code",
   "execution_count": 5,
   "metadata": {},
   "outputs": [
    {
     "data": {
      "text/plain": [
       "[<TabularCPD representing P(A:2) at 0x7f24dd4dbdf0>,\n",
       " <TabularCPD representing P(B:3 | A:2) at 0x7f24dd4d4ee0>,\n",
       " <TabularCPD representing P(C:2 | A:2) at 0x7f24dd4d7790>,\n",
       " <TabularCPD representing P(D:3 | B:3) at 0x7f24dd4d7ee0>,\n",
       " <TabularCPD representing P(E:2 | B:3) at 0x7f24dd4c7cd0>,\n",
       " <TabularCPD representing P(F:3 | C:2) at 0x7f24dd4d7c10>]"
      ]
     },
     "execution_count": 5,
     "metadata": {},
     "output_type": "execute_result"
    }
   ],
   "source": [
    "from pgmpy.estimators import BayesianEstimator\n",
    "\n",
    "# there are many choices of parametrization, here is one example\n",
    "model = BayesianNetwork(dag.edges())\n",
    "model.fit(\n",
    "    df_data, estimator=BayesianEstimator, prior_type=\"dirichlet\", pseudo_counts=0.1\n",
    ")\n",
    "model.get_cpds()"
   ]
  }
 ],
 "metadata": {
  "anaconda-cloud": {},
  "kernelspec": {
   "display_name": "Python 3",
   "language": "python",
   "name": "python3"
  },
  "language_info": {
   "codemirror_mode": {
    "name": "ipython",
    "version": 3
   },
   "file_extension": ".py",
   "mimetype": "text/x-python",
   "name": "python",
   "nbconvert_exporter": "python",
   "pygments_lexer": "ipython3",
   "version": "3.8.8"
  }
 },
 "nbformat": 4,
 "nbformat_minor": 1
}
