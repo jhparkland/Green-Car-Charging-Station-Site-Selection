{
 "cells": [
  {
   "cell_type": "markdown",
   "metadata": {
    "collapsed": false
   },
   "source": [
    "# 확률 네트워크기반 친환경 자동차 충전소(GVCS) 로케이션 인텔리전스(Location Intelligence) 대시보드"
   ]
  },
  {
   "cell_type": "markdown",
   "metadata": {
    "pycharm": {
     "name": "#%% md\n"
    }
   },
   "source": [
    "## 제안 배경\n",
    "\n",
    "**친환경 자동차 생산에만 관심이 쏠려 사용자를 고려하지 못한 설치로 인한 잉여 충전소 발생**\n",
    "\n",
    "- 민관 협력을 통해 충전 서비스 관련 사업이 꾸준히 증가함. 하지만 전국에 설치된 공공 급속충전기 총 2,896개(2021년 기준) 중 하루 1회 이하로 사용한 충전기가 1,164개로 전체의 40.1%를 차지하고 있다. 심지어 17개는 전혀 사용하지 않은 것으로 나타남.\n",
    "\n",
    "- 이와 같은 충전소마다 이용 편차가 큰 이유는 전기차 보급 목표에 따라 구역별로  충전소를 나눠 설치했기 때문이라는 지적도 있다.\n",
    "\n",
    "- 한국전기차충전협동조합은 앞으로 수요가 몰리는 거점을 중심을 중심으로 충전기 설치를 해야하 한다는 의견 주장함.\n",
    "\n",
    "- 기존의 정부 중심으로 공급자 입장에서 설치하던 충전소를 친환경 자동차 차주를 고려해 이용자 중심으로 변화 설치가 필요하다는 지적도 있다.\n",
    "\n",
    "즉, **꾸준히 증가하는 친환경 차량의 수요를 위해 저비용 고효율의 충전소 설치를 목표 한다.** 충전소 설치 사업자의 기대 수익 최적화를 위해 사용자 입장을 고려한 체계적이며 최적의 입지 선정 결과를 제시함."
   ]
  },
  {
   "cell_type": "markdown",
   "metadata": {},
   "source": [
    "## 사용 데이터\n",
    "\n",
    "1. 대기오염 실시간 측정 정보(환경부)\n",
    "2. 행정구역별 주민등록인구\n",
    "3. 부산 유동인구\n",
    "4. 연료별 자동차 등록대수\n",
    "5. 실시간 전기차 충전소 상태정보\n",
    "6. 수소차 충전소 현황\n",
    "7. 전기차 충전기 가격\n",
    "8. 수소 충전소 종류별 구축 비용\n",
    "9. 도로보급률 \n",
    "10. 부산 자치구 면적\n",
    "11. 부산 평균소득\n",
    "12. 부산 주차장 \n",
    "13. 전국 LPG 충전소 현황(가스안전공사)"
   ]
  },
  {
   "cell_type": "code",
   "execution_count": 4,
   "metadata": {
    "collapsed": false,
    "jupyter": {
     "outputs_hidden": false
    },
    "pycharm": {
     "name": "#%%\n"
    }
   },
   "outputs": [
    {
     "name": "stderr",
     "output_type": "stream",
     "text": [
      "c:\\Users\\SAMSUNG\\anaconda3\\envs\\GVCS\\lib\\site-packages\\pgmpy\\global_vars.py:11: UserWarning: Failed to initialize NumPy: module compiled against API version 0x10 but this version of numpy is 0xe (Triggered internally at  ..\\torch\\csrc\\utils\\tensor_numpy.cpp:68.)\n",
      "  device = torch.device(\"cpu\")\n"
     ]
    }
   ],
   "source": [
    "import pandas as pd\n",
    "import matplotlib.pyplot as plt\n",
    "import seaborn as sns\n",
    "import osmnx as ox\n",
    "import networkx as nx\n",
    "import numpy as np\n",
    "from scipy.stats import norm\n",
    "import plotly.express as px\n",
    "import plotly.graph_objects as go\n",
    "import pgmpy as pg\n",
    "from pgmpy.factors.discrete import JointProbabilityDistribution as JPD"
   ]
  },
  {
   "cell_type": "markdown",
   "metadata": {},
   "source": [
    "## 데이터 적합성 판단 기준"
   ]
  },
  {
   "cell_type": "code",
   "execution_count": 5,
   "metadata": {},
   "outputs": [],
   "source": [
    "# 환경 요인 판단 기준\n",
    "o3_standard = 0.003     # 오존\n",
    "so2_standard = 0.002    # 아황산가스\n",
    "no2_standard = 0.012    # 이산화질소    \n",
    "co_standard = 0.3       # 일산화탄소\n",
    "pm10_standard = 15      # 미세먼지\n",
    "pm25_standard = 10      # 초미세먼지\n",
    "\n",
    "\n",
    "# 사회 요인 판단 기준\n",
    "density_standard = 20_000  # 인구밀도\n",
    "floating_standard = 400_000   # 유동인구밀도\n",
    "\n",
    "EV_per_charger_standard = 5.1     # 전기차충전기당 전기차수\n",
    "HV_per_charger_standard = 346.53    # 수소차충전기당 수소차수\n",
    "street_supply_standard = 2.916917867     # 도로보급률 (이용률 높은 충전소 도로보급률의 하위25%)\n",
    "\n",
    "# 경제 요인 판단 기준\n",
    "EVCS_cost_standard = 35_000_000             # 급속 충전기 설치비용\n",
    "# 17_500_000(정부보조금 최대지원가능금액, 출처 한국에너지공단 '2022년 전기차충전서비스산업육성산업) / 0.5(보조율) = 35_000_000\n",
    "HVCS_cost_standard = 3_000_000_000    # 수소충전소 구축 비용\n",
    "# 1_500_000_000(정부보조금 최대지원가능금액, 출처 환경부'2022년 수소차 보급 및 충전소 설치사업 보조금 업무처리지침 / 0.5 (일반수소충전소 보조율) = 3_000_000_000(구축비용)\n",
    "# 4_200_000_000(정부보조금 최대지원가능금액, 출처 환경부'2022년 수소차 보급 및 충전소 설치사업 보조금 업무처리지침 / 0.7 (특수수소충전소 보조율) = 6_000_000_000(구축비용)\n",
    "income_standard = 3_600          # 연 평균소득\n",
    "maintenance_cost_standard = 100      # 유지비용\n",
    "HVCS_income_standard = 0        # 수소충전소 기대수익\n",
    "\n",
    "# 기술 요인 판단 기준\n",
    "maximum_charge_standard = 33.456    # 충전가능 수소차 수"
   ]
  },
  {
   "cell_type": "code",
   "execution_count": 6,
   "metadata": {
    "collapsed": false,
    "pycharm": {
     "name": "#%%\n"
    }
   },
   "outputs": [],
   "source": [
    "def advanced_replace(df, col, str, regex):\n",
    "    '''\n",
    "    DataFrame 특정 열의 특수문자 제거\n",
    "    :param df: 대상 DataFrame\n",
    "    :param col: column\n",
    "    :param str: 제거할 특수 문자.\n",
    "    :param regex: 적용할 정규표현식\n",
    "    :return:\n",
    "    '''\n",
    "    df[col] = df[col].replace(str,0)\n",
    "    df[col] = df[col].replace(to_replace=regex, value=r'', regex=True)\n",
    "    return df"
   ]
  },
  {
   "cell_type": "code",
   "execution_count": 7,
   "metadata": {},
   "outputs": [],
   "source": [
    "def show_norm(mean,std,min,max):\n",
    "     '''\n",
    "     정규분포 함수를 matplotlib을 통해 시각화\n",
    "     mean: 평균값\n",
    "     std: 표준편차\n",
    "     min: 관측된 데이터의 최솟값\n",
    "     max: 관측된 데이터의 최댓값\n",
    "     '''\n",
    "     min = min - std\n",
    "     # x값 설정(min에서 max까지 unit만큼씩 증가하는 x)\n",
    "     x = np.linspace(min,max,100)\n",
    "     # y값은 평균이 mean이고 표준편차가 std인 확률밀도함수\n",
    "     fig = px.line(x=x,y=norm.pdf(x,loc=mean,scale=std))\n",
    "     fig.show()"
   ]
  },
  {
   "cell_type": "code",
   "execution_count": 8,
   "metadata": {},
   "outputs": [],
   "source": [
    "def cal_norm(mean,std,min,max,value,affect):\n",
    "     '''\n",
    "     정규분포에서 value에 대한 누적확률 구하기\n",
    "     mean: 평균값\n",
    "     std: 표준편차\n",
    "     min: 관측된 데이터의 최솟값\n",
    "     max: 관측된 데이터의 최댓값\n",
    "     value: 누적확률을 구하고자 하는 데이터의 측정값\n",
    "     affect: 입지에 긍정/부정적인 영향(True/False)\n",
    "     '''\n",
    "     min = min - std\n",
    "     red ='rgb(239,85,59)'\n",
    "     blue = 'rgb(100,110,250)'\n",
    "     fig = go.Figure()\n",
    "     \n",
    "     # 확률 값을 구할 특정 구간의 범위 설정\n",
    "     cum_a = np.linspace(min,value,100)\n",
    "     cum_b = np.linspace(value,max,100)\n",
    "     \n",
    "     # value까지의 누적확률에서 min까지의 누적확률을 뺌\n",
    "     pro = norm(mean,std).cdf(value)-norm(mean,std).cdf(min).round(3)\n",
    "     if affect == True:\n",
    "          # 구간 사이에 색을 채움\n",
    "          fig.add_trace(go.Scatter(x=cum_a,y=norm.pdf(cum_a,mean,std), fill = 'tozeroy',name='적합',line=dict(color=blue)))\n",
    "          fig.add_trace(go.Scatter(x=cum_b,y=norm.pdf(cum_b,mean,std), fill = 'tozeroy',name='부적합',line=dict(color=red)))\n",
    "          fig.update_yaxes(visible=False)\n",
    "          annotations = []\n",
    "          annotations.append(dict(x=value, y=norm.pdf(value,loc=mean,scale=std), showarrow=False, text=round(pro,3), font=dict(size=15,color=blue), xshift=-40, yshift=-100, bordercolor=blue,borderwidth=2))\n",
    "          annotations.append(dict(x=value, y=norm.pdf(value,loc=mean,scale=std), showarrow=False, text=round(1-pro,3),font=dict(size=15,color=red),xshift=40, yshift=-100, bordercolor=red,borderwidth=2))\n",
    "     else:\n",
    "          fig.add_trace(go.Scatter(x=cum_a,y=norm.pdf(cum_a,mean,std), fill = 'tozeroy',name='부적합',line=dict(color=red)))\n",
    "          fig.add_trace(go.Scatter(x=cum_b,y=norm.pdf(cum_b,mean,std), fill = 'tozeroy',name='적합',line=dict(color=blue)))\n",
    "          fig.update_yaxes(visible=False)\n",
    "          annotations = []\n",
    "          annotations.append(dict(x=value, y=norm.pdf(value,loc=mean,scale=std), showarrow=False, text=round(pro,3), font=dict(size=15,color=red), xshift=-40, yshift=-100, bordercolor=red,borderwidth=2))\n",
    "          annotations.append(dict(x=value, y=norm.pdf(value,loc=mean,scale=std), showarrow=False, text=round(1-pro,3),font=dict(size=15,color=blue),xshift=40, yshift=-100, bordercolor=blue,borderwidth=2))     \n",
    "          pro = 1 - pro\n",
    "     fig.update_layout(annotations=annotations)\n",
    "     \n",
    "     fig.show()\n",
    "\n",
    "     # 최종 누적확률 반환\n",
    "     return pro, 1-pro"
   ]
  },
  {
   "cell_type": "code",
   "execution_count": 9,
   "metadata": {},
   "outputs": [],
   "source": [
    "# 데이터의 수를 통한 확률 계산\n",
    "def cal_pro(dataframe,column,standard,affect):\n",
    "    if dataframe[column].dtypes == 'dtype(\\'O\\')':\n",
    "        num = dataframe[dataframe[column]==standard].shape[0]\n",
    "        total_num = dataframe.shape[0]\n",
    "    else:\n",
    "        if affect == True:\n",
    "            num = dataframe[dataframe[column]>=standard].shape[0]\n",
    "            total_num = dataframe.shape[0]\n",
    "        else:\n",
    "            num = dataframe[dataframe[column]<=standard].shape[0]\n",
    "            total_num = dataframe.shape[0]\n",
    "\n",
    "    probability = num/total_num\n",
    "\n",
    "    return probability, 1-probability"
   ]
  },
  {
   "cell_type": "markdown",
   "metadata": {},
   "source": [
    "## 상위 요소 - 환경적 요인\n",
    "\n",
    "대기오염도를 기반하여 확률 값을 계산한다."
   ]
  },
  {
   "cell_type": "markdown",
   "metadata": {},
   "source": [
    "### 대기오염도 데이터 불러오기"
   ]
  },
  {
   "cell_type": "code",
   "execution_count": 10,
   "metadata": {},
   "outputs": [
    {
     "data": {
      "text/html": [
       "<div>\n",
       "<style scoped>\n",
       "    .dataframe tbody tr th:only-of-type {\n",
       "        vertical-align: middle;\n",
       "    }\n",
       "\n",
       "    .dataframe tbody tr th {\n",
       "        vertical-align: top;\n",
       "    }\n",
       "\n",
       "    .dataframe thead th {\n",
       "        text-align: right;\n",
       "    }\n",
       "</style>\n",
       "<table border=\"1\" class=\"dataframe\">\n",
       "  <thead>\n",
       "    <tr style=\"text-align: right;\">\n",
       "      <th></th>\n",
       "      <th>sidoName</th>\n",
       "      <th>stationName</th>\n",
       "      <th>mangName</th>\n",
       "      <th>so2Value</th>\n",
       "      <th>coValue</th>\n",
       "      <th>o3Value</th>\n",
       "      <th>no2Value</th>\n",
       "      <th>pm10Value</th>\n",
       "      <th>pm25Value</th>\n",
       "      <th>khaiValue</th>\n",
       "    </tr>\n",
       "  </thead>\n",
       "  <tbody>\n",
       "    <tr>\n",
       "      <th>0</th>\n",
       "      <td>충북</td>\n",
       "      <td>송정동(봉명동)</td>\n",
       "      <td>도시대기</td>\n",
       "      <td>0.002</td>\n",
       "      <td>0.6</td>\n",
       "      <td>0.003</td>\n",
       "      <td>0.022</td>\n",
       "      <td>65.0</td>\n",
       "      <td>12.0</td>\n",
       "      <td>56.0</td>\n",
       "    </tr>\n",
       "    <tr>\n",
       "      <th>1</th>\n",
       "      <td>충북</td>\n",
       "      <td>사천동</td>\n",
       "      <td>도시대기</td>\n",
       "      <td>0.002</td>\n",
       "      <td>0.5</td>\n",
       "      <td>0.002</td>\n",
       "      <td>0.019</td>\n",
       "      <td>28.0</td>\n",
       "      <td>22.0</td>\n",
       "      <td>59.0</td>\n",
       "    </tr>\n",
       "    <tr>\n",
       "      <th>2</th>\n",
       "      <td>충북</td>\n",
       "      <td>용담동</td>\n",
       "      <td>도시대기</td>\n",
       "      <td>NaN</td>\n",
       "      <td>0.4</td>\n",
       "      <td>0.002</td>\n",
       "      <td>0.018</td>\n",
       "      <td>12.0</td>\n",
       "      <td>11.0</td>\n",
       "      <td>30.0</td>\n",
       "    </tr>\n",
       "    <tr>\n",
       "      <th>3</th>\n",
       "      <td>충북</td>\n",
       "      <td>용암동</td>\n",
       "      <td>도시대기</td>\n",
       "      <td>0.002</td>\n",
       "      <td>0.5</td>\n",
       "      <td>0.002</td>\n",
       "      <td>0.017</td>\n",
       "      <td>31.0</td>\n",
       "      <td>15.0</td>\n",
       "      <td>52.0</td>\n",
       "    </tr>\n",
       "    <tr>\n",
       "      <th>4</th>\n",
       "      <td>충북</td>\n",
       "      <td>복대동</td>\n",
       "      <td>도로변대기</td>\n",
       "      <td>0.004</td>\n",
       "      <td>0.7</td>\n",
       "      <td>0.002</td>\n",
       "      <td>0.028</td>\n",
       "      <td>25.0</td>\n",
       "      <td>10.0</td>\n",
       "      <td>47.0</td>\n",
       "    </tr>\n",
       "    <tr>\n",
       "      <th>...</th>\n",
       "      <td>...</td>\n",
       "      <td>...</td>\n",
       "      <td>...</td>\n",
       "      <td>...</td>\n",
       "      <td>...</td>\n",
       "      <td>...</td>\n",
       "      <td>...</td>\n",
       "      <td>...</td>\n",
       "      <td>...</td>\n",
       "      <td>...</td>\n",
       "    </tr>\n",
       "    <tr>\n",
       "      <th>10907</th>\n",
       "      <td>강원</td>\n",
       "      <td>묵호항</td>\n",
       "      <td>항만</td>\n",
       "      <td>0.013</td>\n",
       "      <td>1.3</td>\n",
       "      <td>0.003</td>\n",
       "      <td>0.034</td>\n",
       "      <td>33.0</td>\n",
       "      <td>16.0</td>\n",
       "      <td>56.0</td>\n",
       "    </tr>\n",
       "    <tr>\n",
       "      <th>10908</th>\n",
       "      <td>강원</td>\n",
       "      <td>철원(DMZ)</td>\n",
       "      <td>교외대기</td>\n",
       "      <td>0.001</td>\n",
       "      <td>0.3</td>\n",
       "      <td>0.023</td>\n",
       "      <td>0.010</td>\n",
       "      <td>28.0</td>\n",
       "      <td>27.0</td>\n",
       "      <td>82.0</td>\n",
       "    </tr>\n",
       "    <tr>\n",
       "      <th>10909</th>\n",
       "      <td>강원</td>\n",
       "      <td>화천(DMZ)</td>\n",
       "      <td>교외대기</td>\n",
       "      <td>0.001</td>\n",
       "      <td>0.3</td>\n",
       "      <td>0.033</td>\n",
       "      <td>0.007</td>\n",
       "      <td>16.0</td>\n",
       "      <td>15.0</td>\n",
       "      <td>64.0</td>\n",
       "    </tr>\n",
       "    <tr>\n",
       "      <th>10910</th>\n",
       "      <td>강원</td>\n",
       "      <td>인제(DMZ)</td>\n",
       "      <td>교외대기</td>\n",
       "      <td>0.001</td>\n",
       "      <td>0.2</td>\n",
       "      <td>0.038</td>\n",
       "      <td>0.005</td>\n",
       "      <td>10.0</td>\n",
       "      <td>8.0</td>\n",
       "      <td>57.0</td>\n",
       "    </tr>\n",
       "    <tr>\n",
       "      <th>10911</th>\n",
       "      <td>강원</td>\n",
       "      <td>고성(DMZ)</td>\n",
       "      <td>교외대기</td>\n",
       "      <td>0.002</td>\n",
       "      <td>0.2</td>\n",
       "      <td>0.044</td>\n",
       "      <td>0.005</td>\n",
       "      <td>20.0</td>\n",
       "      <td>12.0</td>\n",
       "      <td>62.0</td>\n",
       "    </tr>\n",
       "  </tbody>\n",
       "</table>\n",
       "<p>10912 rows × 10 columns</p>\n",
       "</div>"
      ],
      "text/plain": [
       "      sidoName stationName mangName  so2Value  coValue  o3Value  no2Value  \\\n",
       "0           충북    송정동(봉명동)     도시대기     0.002      0.6    0.003     0.022   \n",
       "1           충북         사천동     도시대기     0.002      0.5    0.002     0.019   \n",
       "2           충북         용담동     도시대기       NaN      0.4    0.002     0.018   \n",
       "3           충북         용암동     도시대기     0.002      0.5    0.002     0.017   \n",
       "4           충북         복대동    도로변대기     0.004      0.7    0.002     0.028   \n",
       "...        ...         ...      ...       ...      ...      ...       ...   \n",
       "10907       강원         묵호항       항만     0.013      1.3    0.003     0.034   \n",
       "10908       강원     철원(DMZ)     교외대기     0.001      0.3    0.023     0.010   \n",
       "10909       강원     화천(DMZ)     교외대기     0.001      0.3    0.033     0.007   \n",
       "10910       강원     인제(DMZ)     교외대기     0.001      0.2    0.038     0.005   \n",
       "10911       강원     고성(DMZ)     교외대기     0.002      0.2    0.044     0.005   \n",
       "\n",
       "       pm10Value  pm25Value  khaiValue  \n",
       "0           65.0       12.0       56.0  \n",
       "1           28.0       22.0       59.0  \n",
       "2           12.0       11.0       30.0  \n",
       "3           31.0       15.0       52.0  \n",
       "4           25.0       10.0       47.0  \n",
       "...          ...        ...        ...  \n",
       "10907       33.0       16.0       56.0  \n",
       "10908       28.0       27.0       82.0  \n",
       "10909       16.0       15.0       64.0  \n",
       "10910       10.0        8.0       57.0  \n",
       "10911       20.0       12.0       62.0  \n",
       "\n",
       "[10912 rows x 10 columns]"
      ]
     },
     "execution_count": 10,
     "metadata": {},
     "output_type": "execute_result"
    }
   ],
   "source": [
    "air_pollution_file_path = \"C:\\\\Users\\\\SAMSUNG\\\\Desktop\\\\Green-Car-Charging-Station-Site-Selection\\\\Data\\\\대기오염시도별실시간측정정보(환경부).csv\"\n",
    "df_air_pollution = pd.read_csv(air_pollution_file_path, encoding='cp949')\n",
    "df_air_pollution"
   ]
  },
  {
   "cell_type": "markdown",
   "metadata": {},
   "source": [
    "### 결측값 보간"
   ]
  },
  {
   "cell_type": "code",
   "execution_count": 11,
   "metadata": {},
   "outputs": [
    {
     "data": {
      "text/html": [
       "<div>\n",
       "<style scoped>\n",
       "    .dataframe tbody tr th:only-of-type {\n",
       "        vertical-align: middle;\n",
       "    }\n",
       "\n",
       "    .dataframe tbody tr th {\n",
       "        vertical-align: top;\n",
       "    }\n",
       "\n",
       "    .dataframe thead th {\n",
       "        text-align: right;\n",
       "    }\n",
       "</style>\n",
       "<table border=\"1\" class=\"dataframe\">\n",
       "  <thead>\n",
       "    <tr style=\"text-align: right;\">\n",
       "      <th></th>\n",
       "      <th>sidoName</th>\n",
       "      <th>stationName</th>\n",
       "      <th>mangName</th>\n",
       "      <th>so2Value</th>\n",
       "      <th>coValue</th>\n",
       "      <th>o3Value</th>\n",
       "      <th>no2Value</th>\n",
       "      <th>pm10Value</th>\n",
       "      <th>pm25Value</th>\n",
       "      <th>khaiValue</th>\n",
       "    </tr>\n",
       "  </thead>\n",
       "  <tbody>\n",
       "    <tr>\n",
       "      <th>0</th>\n",
       "      <td>충북</td>\n",
       "      <td>송정동(봉명동)</td>\n",
       "      <td>도시대기</td>\n",
       "      <td>0.002</td>\n",
       "      <td>0.6</td>\n",
       "      <td>0.003</td>\n",
       "      <td>0.022</td>\n",
       "      <td>65.0</td>\n",
       "      <td>12.0</td>\n",
       "      <td>56.0</td>\n",
       "    </tr>\n",
       "    <tr>\n",
       "      <th>1</th>\n",
       "      <td>충북</td>\n",
       "      <td>사천동</td>\n",
       "      <td>도시대기</td>\n",
       "      <td>0.002</td>\n",
       "      <td>0.5</td>\n",
       "      <td>0.002</td>\n",
       "      <td>0.019</td>\n",
       "      <td>28.0</td>\n",
       "      <td>22.0</td>\n",
       "      <td>59.0</td>\n",
       "    </tr>\n",
       "    <tr>\n",
       "      <th>2</th>\n",
       "      <td>충북</td>\n",
       "      <td>용담동</td>\n",
       "      <td>도시대기</td>\n",
       "      <td>0.002</td>\n",
       "      <td>0.4</td>\n",
       "      <td>0.002</td>\n",
       "      <td>0.018</td>\n",
       "      <td>12.0</td>\n",
       "      <td>11.0</td>\n",
       "      <td>30.0</td>\n",
       "    </tr>\n",
       "    <tr>\n",
       "      <th>3</th>\n",
       "      <td>충북</td>\n",
       "      <td>용암동</td>\n",
       "      <td>도시대기</td>\n",
       "      <td>0.002</td>\n",
       "      <td>0.5</td>\n",
       "      <td>0.002</td>\n",
       "      <td>0.017</td>\n",
       "      <td>31.0</td>\n",
       "      <td>15.0</td>\n",
       "      <td>52.0</td>\n",
       "    </tr>\n",
       "    <tr>\n",
       "      <th>4</th>\n",
       "      <td>충북</td>\n",
       "      <td>복대동</td>\n",
       "      <td>도로변대기</td>\n",
       "      <td>0.004</td>\n",
       "      <td>0.7</td>\n",
       "      <td>0.002</td>\n",
       "      <td>0.028</td>\n",
       "      <td>25.0</td>\n",
       "      <td>10.0</td>\n",
       "      <td>47.0</td>\n",
       "    </tr>\n",
       "    <tr>\n",
       "      <th>...</th>\n",
       "      <td>...</td>\n",
       "      <td>...</td>\n",
       "      <td>...</td>\n",
       "      <td>...</td>\n",
       "      <td>...</td>\n",
       "      <td>...</td>\n",
       "      <td>...</td>\n",
       "      <td>...</td>\n",
       "      <td>...</td>\n",
       "      <td>...</td>\n",
       "    </tr>\n",
       "    <tr>\n",
       "      <th>10907</th>\n",
       "      <td>강원</td>\n",
       "      <td>묵호항</td>\n",
       "      <td>항만</td>\n",
       "      <td>0.013</td>\n",
       "      <td>1.3</td>\n",
       "      <td>0.003</td>\n",
       "      <td>0.034</td>\n",
       "      <td>33.0</td>\n",
       "      <td>16.0</td>\n",
       "      <td>56.0</td>\n",
       "    </tr>\n",
       "    <tr>\n",
       "      <th>10908</th>\n",
       "      <td>강원</td>\n",
       "      <td>철원(DMZ)</td>\n",
       "      <td>교외대기</td>\n",
       "      <td>0.001</td>\n",
       "      <td>0.3</td>\n",
       "      <td>0.023</td>\n",
       "      <td>0.010</td>\n",
       "      <td>28.0</td>\n",
       "      <td>27.0</td>\n",
       "      <td>82.0</td>\n",
       "    </tr>\n",
       "    <tr>\n",
       "      <th>10909</th>\n",
       "      <td>강원</td>\n",
       "      <td>화천(DMZ)</td>\n",
       "      <td>교외대기</td>\n",
       "      <td>0.001</td>\n",
       "      <td>0.3</td>\n",
       "      <td>0.033</td>\n",
       "      <td>0.007</td>\n",
       "      <td>16.0</td>\n",
       "      <td>15.0</td>\n",
       "      <td>64.0</td>\n",
       "    </tr>\n",
       "    <tr>\n",
       "      <th>10910</th>\n",
       "      <td>강원</td>\n",
       "      <td>인제(DMZ)</td>\n",
       "      <td>교외대기</td>\n",
       "      <td>0.001</td>\n",
       "      <td>0.2</td>\n",
       "      <td>0.038</td>\n",
       "      <td>0.005</td>\n",
       "      <td>10.0</td>\n",
       "      <td>8.0</td>\n",
       "      <td>57.0</td>\n",
       "    </tr>\n",
       "    <tr>\n",
       "      <th>10911</th>\n",
       "      <td>강원</td>\n",
       "      <td>고성(DMZ)</td>\n",
       "      <td>교외대기</td>\n",
       "      <td>0.002</td>\n",
       "      <td>0.2</td>\n",
       "      <td>0.044</td>\n",
       "      <td>0.005</td>\n",
       "      <td>20.0</td>\n",
       "      <td>12.0</td>\n",
       "      <td>62.0</td>\n",
       "    </tr>\n",
       "  </tbody>\n",
       "</table>\n",
       "<p>10912 rows × 10 columns</p>\n",
       "</div>"
      ],
      "text/plain": [
       "      sidoName stationName mangName  so2Value  coValue  o3Value  no2Value  \\\n",
       "0           충북    송정동(봉명동)     도시대기     0.002      0.6    0.003     0.022   \n",
       "1           충북         사천동     도시대기     0.002      0.5    0.002     0.019   \n",
       "2           충북         용담동     도시대기     0.002      0.4    0.002     0.018   \n",
       "3           충북         용암동     도시대기     0.002      0.5    0.002     0.017   \n",
       "4           충북         복대동    도로변대기     0.004      0.7    0.002     0.028   \n",
       "...        ...         ...      ...       ...      ...      ...       ...   \n",
       "10907       강원         묵호항       항만     0.013      1.3    0.003     0.034   \n",
       "10908       강원     철원(DMZ)     교외대기     0.001      0.3    0.023     0.010   \n",
       "10909       강원     화천(DMZ)     교외대기     0.001      0.3    0.033     0.007   \n",
       "10910       강원     인제(DMZ)     교외대기     0.001      0.2    0.038     0.005   \n",
       "10911       강원     고성(DMZ)     교외대기     0.002      0.2    0.044     0.005   \n",
       "\n",
       "       pm10Value  pm25Value  khaiValue  \n",
       "0           65.0       12.0       56.0  \n",
       "1           28.0       22.0       59.0  \n",
       "2           12.0       11.0       30.0  \n",
       "3           31.0       15.0       52.0  \n",
       "4           25.0       10.0       47.0  \n",
       "...          ...        ...        ...  \n",
       "10907       33.0       16.0       56.0  \n",
       "10908       28.0       27.0       82.0  \n",
       "10909       16.0       15.0       64.0  \n",
       "10910       10.0        8.0       57.0  \n",
       "10911       20.0       12.0       62.0  \n",
       "\n",
       "[10912 rows x 10 columns]"
      ]
     },
     "execution_count": 11,
     "metadata": {},
     "output_type": "execute_result"
    }
   ],
   "source": [
    "df_air_pollution = df_air_pollution.interpolate(method='pad')\n",
    "df_air_pollution"
   ]
  },
  {
   "cell_type": "markdown",
   "metadata": {},
   "source": [
    "### 부산 대기오염 데이터 추출"
   ]
  },
  {
   "cell_type": "code",
   "execution_count": 12,
   "metadata": {},
   "outputs": [
    {
     "data": {
      "text/html": [
       "<div>\n",
       "<style scoped>\n",
       "    .dataframe tbody tr th:only-of-type {\n",
       "        vertical-align: middle;\n",
       "    }\n",
       "\n",
       "    .dataframe tbody tr th {\n",
       "        vertical-align: top;\n",
       "    }\n",
       "\n",
       "    .dataframe thead th {\n",
       "        text-align: right;\n",
       "    }\n",
       "</style>\n",
       "<table border=\"1\" class=\"dataframe\">\n",
       "  <thead>\n",
       "    <tr style=\"text-align: right;\">\n",
       "      <th></th>\n",
       "      <th>sidoName</th>\n",
       "      <th>stationName</th>\n",
       "      <th>mangName</th>\n",
       "      <th>so2Value</th>\n",
       "      <th>coValue</th>\n",
       "      <th>o3Value</th>\n",
       "      <th>no2Value</th>\n",
       "      <th>pm10Value</th>\n",
       "      <th>pm25Value</th>\n",
       "      <th>khaiValue</th>\n",
       "    </tr>\n",
       "  </thead>\n",
       "  <tbody>\n",
       "    <tr>\n",
       "      <th>0</th>\n",
       "      <td>부산</td>\n",
       "      <td>광복동</td>\n",
       "      <td>도시대기</td>\n",
       "      <td>0.002</td>\n",
       "      <td>0.3</td>\n",
       "      <td>0.016</td>\n",
       "      <td>0.018</td>\n",
       "      <td>11.0</td>\n",
       "      <td>8.0</td>\n",
       "      <td>30.0</td>\n",
       "    </tr>\n",
       "    <tr>\n",
       "      <th>1</th>\n",
       "      <td>부산</td>\n",
       "      <td>초량동</td>\n",
       "      <td>도로변대기</td>\n",
       "      <td>0.002</td>\n",
       "      <td>0.4</td>\n",
       "      <td>0.010</td>\n",
       "      <td>0.028</td>\n",
       "      <td>16.0</td>\n",
       "      <td>5.0</td>\n",
       "      <td>47.0</td>\n",
       "    </tr>\n",
       "    <tr>\n",
       "      <th>2</th>\n",
       "      <td>부산</td>\n",
       "      <td>태종대</td>\n",
       "      <td>도시대기</td>\n",
       "      <td>0.003</td>\n",
       "      <td>0.2</td>\n",
       "      <td>0.019</td>\n",
       "      <td>0.020</td>\n",
       "      <td>15.0</td>\n",
       "      <td>10.0</td>\n",
       "      <td>33.0</td>\n",
       "    </tr>\n",
       "    <tr>\n",
       "      <th>3</th>\n",
       "      <td>부산</td>\n",
       "      <td>청학동</td>\n",
       "      <td>도시대기</td>\n",
       "      <td>0.003</td>\n",
       "      <td>0.2</td>\n",
       "      <td>0.021</td>\n",
       "      <td>0.018</td>\n",
       "      <td>10.0</td>\n",
       "      <td>7.0</td>\n",
       "      <td>35.0</td>\n",
       "    </tr>\n",
       "    <tr>\n",
       "      <th>4</th>\n",
       "      <td>부산</td>\n",
       "      <td>전포동</td>\n",
       "      <td>도시대기</td>\n",
       "      <td>0.002</td>\n",
       "      <td>0.2</td>\n",
       "      <td>0.016</td>\n",
       "      <td>0.014</td>\n",
       "      <td>14.0</td>\n",
       "      <td>10.0</td>\n",
       "      <td>37.0</td>\n",
       "    </tr>\n",
       "    <tr>\n",
       "      <th>...</th>\n",
       "      <td>...</td>\n",
       "      <td>...</td>\n",
       "      <td>...</td>\n",
       "      <td>...</td>\n",
       "      <td>...</td>\n",
       "      <td>...</td>\n",
       "      <td>...</td>\n",
       "      <td>...</td>\n",
       "      <td>...</td>\n",
       "      <td>...</td>\n",
       "    </tr>\n",
       "    <tr>\n",
       "      <th>625</th>\n",
       "      <td>부산</td>\n",
       "      <td>하단동</td>\n",
       "      <td>도시대기</td>\n",
       "      <td>0.003</td>\n",
       "      <td>0.4</td>\n",
       "      <td>0.015</td>\n",
       "      <td>0.029</td>\n",
       "      <td>43.0</td>\n",
       "      <td>23.0</td>\n",
       "      <td>66.0</td>\n",
       "    </tr>\n",
       "    <tr>\n",
       "      <th>626</th>\n",
       "      <td>부산</td>\n",
       "      <td>하단동</td>\n",
       "      <td>도시대기</td>\n",
       "      <td>0.003</td>\n",
       "      <td>0.3</td>\n",
       "      <td>0.023</td>\n",
       "      <td>0.015</td>\n",
       "      <td>31.0</td>\n",
       "      <td>22.0</td>\n",
       "      <td>59.0</td>\n",
       "    </tr>\n",
       "    <tr>\n",
       "      <th>627</th>\n",
       "      <td>부산</td>\n",
       "      <td>하단동</td>\n",
       "      <td>도시대기</td>\n",
       "      <td>0.002</td>\n",
       "      <td>0.5</td>\n",
       "      <td>0.005</td>\n",
       "      <td>0.031</td>\n",
       "      <td>25.0</td>\n",
       "      <td>17.0</td>\n",
       "      <td>51.0</td>\n",
       "    </tr>\n",
       "    <tr>\n",
       "      <th>628</th>\n",
       "      <td>부산</td>\n",
       "      <td>하단동</td>\n",
       "      <td>도시대기</td>\n",
       "      <td>0.004</td>\n",
       "      <td>0.5</td>\n",
       "      <td>0.002</td>\n",
       "      <td>0.047</td>\n",
       "      <td>27.0</td>\n",
       "      <td>17.0</td>\n",
       "      <td>78.0</td>\n",
       "    </tr>\n",
       "    <tr>\n",
       "      <th>629</th>\n",
       "      <td>부산</td>\n",
       "      <td>하단동</td>\n",
       "      <td>도시대기</td>\n",
       "      <td>0.004</td>\n",
       "      <td>0.8</td>\n",
       "      <td>0.002</td>\n",
       "      <td>0.061</td>\n",
       "      <td>32.0</td>\n",
       "      <td>26.0</td>\n",
       "      <td>101.0</td>\n",
       "    </tr>\n",
       "  </tbody>\n",
       "</table>\n",
       "<p>630 rows × 10 columns</p>\n",
       "</div>"
      ],
      "text/plain": [
       "    sidoName stationName mangName  so2Value  coValue  o3Value  no2Value  \\\n",
       "0         부산         광복동     도시대기     0.002      0.3    0.016     0.018   \n",
       "1         부산         초량동    도로변대기     0.002      0.4    0.010     0.028   \n",
       "2         부산         태종대     도시대기     0.003      0.2    0.019     0.020   \n",
       "3         부산         청학동     도시대기     0.003      0.2    0.021     0.018   \n",
       "4         부산         전포동     도시대기     0.002      0.2    0.016     0.014   \n",
       "..       ...         ...      ...       ...      ...      ...       ...   \n",
       "625       부산         하단동     도시대기     0.003      0.4    0.015     0.029   \n",
       "626       부산         하단동     도시대기     0.003      0.3    0.023     0.015   \n",
       "627       부산         하단동     도시대기     0.002      0.5    0.005     0.031   \n",
       "628       부산         하단동     도시대기     0.004      0.5    0.002     0.047   \n",
       "629       부산         하단동     도시대기     0.004      0.8    0.002     0.061   \n",
       "\n",
       "     pm10Value  pm25Value  khaiValue  \n",
       "0         11.0        8.0       30.0  \n",
       "1         16.0        5.0       47.0  \n",
       "2         15.0       10.0       33.0  \n",
       "3         10.0        7.0       35.0  \n",
       "4         14.0       10.0       37.0  \n",
       "..         ...        ...        ...  \n",
       "625       43.0       23.0       66.0  \n",
       "626       31.0       22.0       59.0  \n",
       "627       25.0       17.0       51.0  \n",
       "628       27.0       17.0       78.0  \n",
       "629       32.0       26.0      101.0  \n",
       "\n",
       "[630 rows x 10 columns]"
      ]
     },
     "execution_count": 12,
     "metadata": {},
     "output_type": "execute_result"
    }
   ],
   "source": [
    "df_air_pollution = df_air_pollution[df_air_pollution['sidoName']=='부산']\n",
    "df_air_pollution.reset_index(drop=True,inplace=True)\n",
    "df_air_pollution"
   ]
  },
  {
   "cell_type": "markdown",
   "metadata": {},
   "source": [
    "#### 부산시 일산화탄소 적합도"
   ]
  },
  {
   "cell_type": "code",
   "execution_count": 13,
   "metadata": {},
   "outputs": [
    {
     "data": {
      "application/vnd.plotly.v1+json": {
       "config": {
        "plotlyServerURL": "https://plot.ly"
       },
       "data": [
        {
         "fill": "tozeroy",
         "line": {
          "color": "rgb(239,85,59)"
         },
         "name": "부적합",
         "type": "scatter",
         "x": [
          -0.05011238124923392,
          -0.046575892549746714,
          -0.0430394038502595,
          -0.03950291515077229,
          -0.035966426451285075,
          -0.032429937751797866,
          -0.028893449052310654,
          -0.025356960352823442,
          -0.02182047165333623,
          -0.018283982953849018,
          -0.01474749425436181,
          -0.011211005554874594,
          -0.007674516855387385,
          -0.00413802815590017,
          -0.0006015394564129611,
          0.0029349492430742544,
          0.006471437942561463,
          0.010007926642048671,
          0.013544415341535887,
          0.017080904041023096,
          0.020617392740510304,
          0.024153881439997527,
          0.027690370139484735,
          0.031226858838971944,
          0.03476334753845915,
          0.03829983623794636,
          0.04183632493743358,
          0.04537281363692079,
          0.048909302336408,
          0.05244579103589521,
          0.05598227973538243,
          0.05951876843486964,
          0.06305525713435685,
          0.06659174583384406,
          0.07012823453333127,
          0.07366472323281849,
          0.0772012119323057,
          0.08073770063179292,
          0.08427418933128011,
          0.08781067803076734,
          0.09134716673025453,
          0.09488365542974175,
          0.09842014412922898,
          0.10195663282871617,
          0.10549312152820339,
          0.10902961022769059,
          0.11256609892717781,
          0.11610258762666503,
          0.11963907632615223,
          0.12317556502563945,
          0.12671205372512664,
          0.13024854242461387,
          0.1337850311241011,
          0.13732151982358828,
          0.1408580085230755,
          0.14439449722256273,
          0.14793098592204992,
          0.15146747462153715,
          0.15500396332102434,
          0.15854045202051156,
          0.16207694071999879,
          0.16561342941948598,
          0.1691499181189732,
          0.1726864068184604,
          0.17622289551794762,
          0.17975938421743484,
          0.18329587291692204,
          0.18683236161640926,
          0.19036885031589645,
          0.19390533901538368,
          0.1974418277148709,
          0.20097831641435812,
          0.20451480511384532,
          0.2080512938133325,
          0.21158778251281976,
          0.21512427121230696,
          0.21866075991179415,
          0.22219724861128134,
          0.2257337373107686,
          0.2292702260102558,
          0.23280671470974298,
          0.23634320340923023,
          0.23987969210871743,
          0.24341618080820462,
          0.24695266950769187,
          0.2504891582071791,
          0.2540256469066663,
          0.2575621356061535,
          0.2610986243056407,
          0.2646351130051279,
          0.26817160170461507,
          0.2717080904041024,
          0.27524457910358957,
          0.27878106780307677,
          0.28231755650256396,
          0.28585404520205115,
          0.28939053390153835,
          0.29292702260102566,
          0.29646351130051285,
          0.3
         ],
         "y": [
          0.012350107005380794,
          0.013337843641295987,
          0.014396584796633038,
          0.015530745161459863,
          0.016744958048103723,
          0.018044081928935696,
          0.019433206838400188,
          0.020917660606549843,
          0.02250301488947658,
          0.02419509096017508,
          0.025999965221543207,
          0.027923974401432374,
          0.029973720387914973,
          0.032156074661252323,
          0.034478182277438235,
          0.036947465356672655,
          0.039571626028703316,
          0.04235864878567116,
          0.04531680219193198,
          0.04845463989930597,
          0.0517810009153546,
          0.05530500907160998,
          0.059036071638206435,
          0.06298387703110025,
          0.0671583915580256,
          0.07156985514954955,
          0.07622877602205283,
          0.08114592422021132,
          0.0863323239875861,
          0.09179924491526803,
          0.09755819182017576,
          0.10362089330658719,
          0.10999928896680967,
          0.1167055151795583,
          0.12375188946764179,
          0.13115089337994565,
          0.13891515386646036,
          0.14705742311923317,
          0.1555905568566272,
          0.16452749103314734,
          0.17388121696233913,
          0.18366475484587816,
          0.19389112570793213,
          0.20457332174019835,
          0.21572427506965972,
          0.2273568249680763,
          0.23948368352949734,
          0.25211739984962434,
          0.2652703227486645,
          0.27895456208735603,
          0.29318194873407444,
          0.30796399324935503,
          0.3233118433626998,
          0.339236240325197,
          0.35574747423017955,
          0.37285533840288354,
          0.3905690829687688,
          0.4088973677187987,
          0.427848214398489,
          0.447428958555893,
          0.46764620109181243,
          0.4885057596633965,
          0.5100126200998317,
          0.532170887995977,
          0.5549837406565665,
          0.5784533795698241,
          0.6025809835950805,
          0.6273666630540974,
          0.6528094149203076,
          0.6789070793039789,
          0.7056562974343636,
          0.7330524713421944,
          0.7610897254473236,
          0.7897608702568909,
          0.8190573683790845,
          0.8489693030562939,
          0.8794853494192238,
          0.9105927486603086,
          0.9422772853205215,
          0.974523267878404,
          1.007313512823821,
          1.040629332391574,
          1.0744505261216104,
          1.1087553764031006,
          1.1435206481491857,
          1.1787215927376982,
          1.2143319563407156,
          1.2503239927523446,
          1.2866684808098374,
          1.3233347464879057,
          1.3602906897300995,
          1.397502816064309,
          1.434936273031973,
          1.47255489144247,
          1.5103212314454686,
          1.5481966333948842,
          1.5861412734585303,
          1.6241142239077067,
          1.6620735180008837,
          1.699976219355496
         ]
        },
        {
         "fill": "tozeroy",
         "line": {
          "color": "rgb(100,110,250)"
         },
         "name": "적합",
         "type": "scatter",
         "x": [
          0.3,
          0.30808080808080807,
          0.31616161616161614,
          0.3242424242424242,
          0.3323232323232323,
          0.3404040404040404,
          0.34848484848484845,
          0.35656565656565653,
          0.36464646464646466,
          0.3727272727272727,
          0.3808080808080808,
          0.3888888888888889,
          0.396969696969697,
          0.40505050505050505,
          0.4131313131313131,
          0.4212121212121212,
          0.4292929292929293,
          0.43737373737373736,
          0.44545454545454544,
          0.4535353535353535,
          0.4616161616161616,
          0.4696969696969697,
          0.47777777777777775,
          0.4858585858585859,
          0.4939393939393939,
          0.502020202020202,
          0.51010101010101,
          0.5181818181818182,
          0.5262626262626262,
          0.5343434343434343,
          0.5424242424242425,
          0.5505050505050505,
          0.5585858585858585,
          0.5666666666666667,
          0.5747474747474748,
          0.5828282828282828,
          0.5909090909090908,
          0.598989898989899,
          0.6070707070707071,
          0.6151515151515151,
          0.6232323232323231,
          0.6313131313131313,
          0.6393939393939394,
          0.6474747474747475,
          0.6555555555555556,
          0.6636363636363636,
          0.6717171717171717,
          0.6797979797979798,
          0.6878787878787879,
          0.6959595959595959,
          0.704040404040404,
          0.7121212121212122,
          0.7202020202020202,
          0.7282828282828282,
          0.7363636363636363,
          0.7444444444444445,
          0.7525252525252526,
          0.7606060606060606,
          0.7686868686868686,
          0.7767676767676768,
          0.7848484848484849,
          0.7929292929292929,
          0.801010101010101,
          0.8090909090909091,
          0.8171717171717172,
          0.8252525252525253,
          0.8333333333333333,
          0.8414141414141414,
          0.8494949494949495,
          0.8575757575757577,
          0.8656565656565656,
          0.8737373737373737,
          0.8818181818181818,
          0.88989898989899,
          0.8979797979797979,
          0.906060606060606,
          0.9141414141414141,
          0.9222222222222223,
          0.9303030303030302,
          0.9383838383838383,
          0.9464646464646465,
          0.9545454545454546,
          0.9626262626262627,
          0.9707070707070706,
          0.9787878787878788,
          0.9868686868686869,
          0.994949494949495,
          1.003030303030303,
          1.011111111111111,
          1.0191919191919192,
          1.0272727272727273,
          1.0353535353535352,
          1.0434343434343434,
          1.0515151515151515,
          1.0595959595959596,
          1.0676767676767676,
          1.0757575757575757,
          1.0838383838383838,
          1.091919191919192,
          1.1
         ],
         "y": [
          1.699976219355496,
          1.7861343931955607,
          1.871228821454718,
          1.9547046258754937,
          2.0359957226601133,
          2.1145310153966284,
          2.189740928541526,
          2.2610641800227245,
          2.327954682539281,
          2.389888456398774,
          2.4463704325116167,
          2.496941022650259,
          2.5411823354044327,
          2.5787239204657215,
          2.6092479309176175,
          2.632493602968739,
          2.648260964843258,
          2.6564137010533093,
          2.6568811146736806,
          2.6496591481110108,
          2.6348104417534297,
          2.6124634293149382,
          2.5828104881480227,
          2.5461051817830667,
          2.5026586499741663,
          2.4528352181285973,
          2.397047312756693,
          2.3357497821429987,
          2.2694337315189266,
          2.1986199893982827,
          2.1238523262878815,
          2.045690548657413,
          1.9647035898806224,
          1.8814627159581154,
          1.7965349573892238,
          1.7104768698304225,
          1.6238287154702675,
          1.537109144718782,
          1.4508104442367922,
          1.3653944029195264,
          1.2812888326049945,
          1.1988847653990025,
          1.1185343349725696,
          1.0405493353409032,
          0.9652004377829801,
          0.8927170349676221,
          0.8232876712243814,
          0.7570610093894006,
          0.6941472778658014,
          0.6346201365084285,
          0.5785188966650784,
          0.5258510291241213,
          0.47659489373265823,
          0.430702625925215,
          0.3881031181767838,
          0.3487050382808621,
          0.31239983115421716,
          0.27906465638016326,
          0.2485652197161202,
          0.22075846311056138,
          0.19549508421235526,
          0.17262186274124725,
          0.1519837772708296,
          0.13342590182568653,
          0.11679507710688768,
          0.10194135605296424,
          0.0887192277588899,
          0.07698862747790056,
          0.06661574350566213,
          0.057473634197472256,
          0.049442670217357695,
          0.042410818397098614,
          0.03627378433826593,
          0.03093503117415044,
          0.026305691779314366,
          0.022304391233583565,
          0.018856995576582283,
          0.015896301889091982,
          0.013361683566531933,
          0.011198703361513383,
          0.009358705415504934,
          0.007798396117224519,
          0.00647942225445706,
          0.005367953597385704,
          0.004434275789943292,
          0.0036523982500283564,
          0.0029996807031736133,
          0.00245648100599998,
          0.0020058260598158116,
          0.0016331068716248101,
          0.0013257981871134345,
          0.0010732025929822264,
          0.0008662185574740214,
          0.0006971315400149156,
          0.0005594270445426565,
          0.00044762430693671957,
          0.00035712918548183917,
          0.0002841047551922415,
          0.00022535808322405004,
          0.00017824167523289322
         ]
        }
       ],
       "layout": {
        "annotations": [
         {
          "bordercolor": "rgb(239,85,59)",
          "borderwidth": 2,
          "font": {
           "color": "rgb(239,85,59)",
           "size": 15
          },
          "showarrow": false,
          "text": "0.171",
          "x": 0.3,
          "xshift": -40,
          "y": 1.699976219355496,
          "yshift": -100
         },
         {
          "bordercolor": "rgb(100,110,250)",
          "borderwidth": 2,
          "font": {
           "color": "rgb(100,110,250)",
           "size": 15
          },
          "showarrow": false,
          "text": "0.829",
          "x": 0.3,
          "xshift": 40,
          "y": 1.699976219355496,
          "yshift": -100
         }
        ],
        "template": {
         "data": {
          "bar": [
           {
            "error_x": {
             "color": "#2a3f5f"
            },
            "error_y": {
             "color": "#2a3f5f"
            },
            "marker": {
             "line": {
              "color": "#E5ECF6",
              "width": 0.5
             },
             "pattern": {
              "fillmode": "overlay",
              "size": 10,
              "solidity": 0.2
             }
            },
            "type": "bar"
           }
          ],
          "barpolar": [
           {
            "marker": {
             "line": {
              "color": "#E5ECF6",
              "width": 0.5
             },
             "pattern": {
              "fillmode": "overlay",
              "size": 10,
              "solidity": 0.2
             }
            },
            "type": "barpolar"
           }
          ],
          "carpet": [
           {
            "aaxis": {
             "endlinecolor": "#2a3f5f",
             "gridcolor": "white",
             "linecolor": "white",
             "minorgridcolor": "white",
             "startlinecolor": "#2a3f5f"
            },
            "baxis": {
             "endlinecolor": "#2a3f5f",
             "gridcolor": "white",
             "linecolor": "white",
             "minorgridcolor": "white",
             "startlinecolor": "#2a3f5f"
            },
            "type": "carpet"
           }
          ],
          "choropleth": [
           {
            "colorbar": {
             "outlinewidth": 0,
             "ticks": ""
            },
            "type": "choropleth"
           }
          ],
          "contour": [
           {
            "colorbar": {
             "outlinewidth": 0,
             "ticks": ""
            },
            "colorscale": [
             [
              0,
              "#0d0887"
             ],
             [
              0.1111111111111111,
              "#46039f"
             ],
             [
              0.2222222222222222,
              "#7201a8"
             ],
             [
              0.3333333333333333,
              "#9c179e"
             ],
             [
              0.4444444444444444,
              "#bd3786"
             ],
             [
              0.5555555555555556,
              "#d8576b"
             ],
             [
              0.6666666666666666,
              "#ed7953"
             ],
             [
              0.7777777777777778,
              "#fb9f3a"
             ],
             [
              0.8888888888888888,
              "#fdca26"
             ],
             [
              1,
              "#f0f921"
             ]
            ],
            "type": "contour"
           }
          ],
          "contourcarpet": [
           {
            "colorbar": {
             "outlinewidth": 0,
             "ticks": ""
            },
            "type": "contourcarpet"
           }
          ],
          "heatmap": [
           {
            "colorbar": {
             "outlinewidth": 0,
             "ticks": ""
            },
            "colorscale": [
             [
              0,
              "#0d0887"
             ],
             [
              0.1111111111111111,
              "#46039f"
             ],
             [
              0.2222222222222222,
              "#7201a8"
             ],
             [
              0.3333333333333333,
              "#9c179e"
             ],
             [
              0.4444444444444444,
              "#bd3786"
             ],
             [
              0.5555555555555556,
              "#d8576b"
             ],
             [
              0.6666666666666666,
              "#ed7953"
             ],
             [
              0.7777777777777778,
              "#fb9f3a"
             ],
             [
              0.8888888888888888,
              "#fdca26"
             ],
             [
              1,
              "#f0f921"
             ]
            ],
            "type": "heatmap"
           }
          ],
          "heatmapgl": [
           {
            "colorbar": {
             "outlinewidth": 0,
             "ticks": ""
            },
            "colorscale": [
             [
              0,
              "#0d0887"
             ],
             [
              0.1111111111111111,
              "#46039f"
             ],
             [
              0.2222222222222222,
              "#7201a8"
             ],
             [
              0.3333333333333333,
              "#9c179e"
             ],
             [
              0.4444444444444444,
              "#bd3786"
             ],
             [
              0.5555555555555556,
              "#d8576b"
             ],
             [
              0.6666666666666666,
              "#ed7953"
             ],
             [
              0.7777777777777778,
              "#fb9f3a"
             ],
             [
              0.8888888888888888,
              "#fdca26"
             ],
             [
              1,
              "#f0f921"
             ]
            ],
            "type": "heatmapgl"
           }
          ],
          "histogram": [
           {
            "marker": {
             "pattern": {
              "fillmode": "overlay",
              "size": 10,
              "solidity": 0.2
             }
            },
            "type": "histogram"
           }
          ],
          "histogram2d": [
           {
            "colorbar": {
             "outlinewidth": 0,
             "ticks": ""
            },
            "colorscale": [
             [
              0,
              "#0d0887"
             ],
             [
              0.1111111111111111,
              "#46039f"
             ],
             [
              0.2222222222222222,
              "#7201a8"
             ],
             [
              0.3333333333333333,
              "#9c179e"
             ],
             [
              0.4444444444444444,
              "#bd3786"
             ],
             [
              0.5555555555555556,
              "#d8576b"
             ],
             [
              0.6666666666666666,
              "#ed7953"
             ],
             [
              0.7777777777777778,
              "#fb9f3a"
             ],
             [
              0.8888888888888888,
              "#fdca26"
             ],
             [
              1,
              "#f0f921"
             ]
            ],
            "type": "histogram2d"
           }
          ],
          "histogram2dcontour": [
           {
            "colorbar": {
             "outlinewidth": 0,
             "ticks": ""
            },
            "colorscale": [
             [
              0,
              "#0d0887"
             ],
             [
              0.1111111111111111,
              "#46039f"
             ],
             [
              0.2222222222222222,
              "#7201a8"
             ],
             [
              0.3333333333333333,
              "#9c179e"
             ],
             [
              0.4444444444444444,
              "#bd3786"
             ],
             [
              0.5555555555555556,
              "#d8576b"
             ],
             [
              0.6666666666666666,
              "#ed7953"
             ],
             [
              0.7777777777777778,
              "#fb9f3a"
             ],
             [
              0.8888888888888888,
              "#fdca26"
             ],
             [
              1,
              "#f0f921"
             ]
            ],
            "type": "histogram2dcontour"
           }
          ],
          "mesh3d": [
           {
            "colorbar": {
             "outlinewidth": 0,
             "ticks": ""
            },
            "type": "mesh3d"
           }
          ],
          "parcoords": [
           {
            "line": {
             "colorbar": {
              "outlinewidth": 0,
              "ticks": ""
             }
            },
            "type": "parcoords"
           }
          ],
          "pie": [
           {
            "automargin": true,
            "type": "pie"
           }
          ],
          "scatter": [
           {
            "marker": {
             "colorbar": {
              "outlinewidth": 0,
              "ticks": ""
             }
            },
            "type": "scatter"
           }
          ],
          "scatter3d": [
           {
            "line": {
             "colorbar": {
              "outlinewidth": 0,
              "ticks": ""
             }
            },
            "marker": {
             "colorbar": {
              "outlinewidth": 0,
              "ticks": ""
             }
            },
            "type": "scatter3d"
           }
          ],
          "scattercarpet": [
           {
            "marker": {
             "colorbar": {
              "outlinewidth": 0,
              "ticks": ""
             }
            },
            "type": "scattercarpet"
           }
          ],
          "scattergeo": [
           {
            "marker": {
             "colorbar": {
              "outlinewidth": 0,
              "ticks": ""
             }
            },
            "type": "scattergeo"
           }
          ],
          "scattergl": [
           {
            "marker": {
             "colorbar": {
              "outlinewidth": 0,
              "ticks": ""
             }
            },
            "type": "scattergl"
           }
          ],
          "scattermapbox": [
           {
            "marker": {
             "colorbar": {
              "outlinewidth": 0,
              "ticks": ""
             }
            },
            "type": "scattermapbox"
           }
          ],
          "scatterpolar": [
           {
            "marker": {
             "colorbar": {
              "outlinewidth": 0,
              "ticks": ""
             }
            },
            "type": "scatterpolar"
           }
          ],
          "scatterpolargl": [
           {
            "marker": {
             "colorbar": {
              "outlinewidth": 0,
              "ticks": ""
             }
            },
            "type": "scatterpolargl"
           }
          ],
          "scatterternary": [
           {
            "marker": {
             "colorbar": {
              "outlinewidth": 0,
              "ticks": ""
             }
            },
            "type": "scatterternary"
           }
          ],
          "surface": [
           {
            "colorbar": {
             "outlinewidth": 0,
             "ticks": ""
            },
            "colorscale": [
             [
              0,
              "#0d0887"
             ],
             [
              0.1111111111111111,
              "#46039f"
             ],
             [
              0.2222222222222222,
              "#7201a8"
             ],
             [
              0.3333333333333333,
              "#9c179e"
             ],
             [
              0.4444444444444444,
              "#bd3786"
             ],
             [
              0.5555555555555556,
              "#d8576b"
             ],
             [
              0.6666666666666666,
              "#ed7953"
             ],
             [
              0.7777777777777778,
              "#fb9f3a"
             ],
             [
              0.8888888888888888,
              "#fdca26"
             ],
             [
              1,
              "#f0f921"
             ]
            ],
            "type": "surface"
           }
          ],
          "table": [
           {
            "cells": {
             "fill": {
              "color": "#EBF0F8"
             },
             "line": {
              "color": "white"
             }
            },
            "header": {
             "fill": {
              "color": "#C8D4E3"
             },
             "line": {
              "color": "white"
             }
            },
            "type": "table"
           }
          ]
         },
         "layout": {
          "annotationdefaults": {
           "arrowcolor": "#2a3f5f",
           "arrowhead": 0,
           "arrowwidth": 1
          },
          "autotypenumbers": "strict",
          "coloraxis": {
           "colorbar": {
            "outlinewidth": 0,
            "ticks": ""
           }
          },
          "colorscale": {
           "diverging": [
            [
             0,
             "#8e0152"
            ],
            [
             0.1,
             "#c51b7d"
            ],
            [
             0.2,
             "#de77ae"
            ],
            [
             0.3,
             "#f1b6da"
            ],
            [
             0.4,
             "#fde0ef"
            ],
            [
             0.5,
             "#f7f7f7"
            ],
            [
             0.6,
             "#e6f5d0"
            ],
            [
             0.7,
             "#b8e186"
            ],
            [
             0.8,
             "#7fbc41"
            ],
            [
             0.9,
             "#4d9221"
            ],
            [
             1,
             "#276419"
            ]
           ],
           "sequential": [
            [
             0,
             "#0d0887"
            ],
            [
             0.1111111111111111,
             "#46039f"
            ],
            [
             0.2222222222222222,
             "#7201a8"
            ],
            [
             0.3333333333333333,
             "#9c179e"
            ],
            [
             0.4444444444444444,
             "#bd3786"
            ],
            [
             0.5555555555555556,
             "#d8576b"
            ],
            [
             0.6666666666666666,
             "#ed7953"
            ],
            [
             0.7777777777777778,
             "#fb9f3a"
            ],
            [
             0.8888888888888888,
             "#fdca26"
            ],
            [
             1,
             "#f0f921"
            ]
           ],
           "sequentialminus": [
            [
             0,
             "#0d0887"
            ],
            [
             0.1111111111111111,
             "#46039f"
            ],
            [
             0.2222222222222222,
             "#7201a8"
            ],
            [
             0.3333333333333333,
             "#9c179e"
            ],
            [
             0.4444444444444444,
             "#bd3786"
            ],
            [
             0.5555555555555556,
             "#d8576b"
            ],
            [
             0.6666666666666666,
             "#ed7953"
            ],
            [
             0.7777777777777778,
             "#fb9f3a"
            ],
            [
             0.8888888888888888,
             "#fdca26"
            ],
            [
             1,
             "#f0f921"
            ]
           ]
          },
          "colorway": [
           "#636efa",
           "#EF553B",
           "#00cc96",
           "#ab63fa",
           "#FFA15A",
           "#19d3f3",
           "#FF6692",
           "#B6E880",
           "#FF97FF",
           "#FECB52"
          ],
          "font": {
           "color": "#2a3f5f"
          },
          "geo": {
           "bgcolor": "white",
           "lakecolor": "white",
           "landcolor": "#E5ECF6",
           "showlakes": true,
           "showland": true,
           "subunitcolor": "white"
          },
          "hoverlabel": {
           "align": "left"
          },
          "hovermode": "closest",
          "mapbox": {
           "style": "light"
          },
          "paper_bgcolor": "white",
          "plot_bgcolor": "#E5ECF6",
          "polar": {
           "angularaxis": {
            "gridcolor": "white",
            "linecolor": "white",
            "ticks": ""
           },
           "bgcolor": "#E5ECF6",
           "radialaxis": {
            "gridcolor": "white",
            "linecolor": "white",
            "ticks": ""
           }
          },
          "scene": {
           "xaxis": {
            "backgroundcolor": "#E5ECF6",
            "gridcolor": "white",
            "gridwidth": 2,
            "linecolor": "white",
            "showbackground": true,
            "ticks": "",
            "zerolinecolor": "white"
           },
           "yaxis": {
            "backgroundcolor": "#E5ECF6",
            "gridcolor": "white",
            "gridwidth": 2,
            "linecolor": "white",
            "showbackground": true,
            "ticks": "",
            "zerolinecolor": "white"
           },
           "zaxis": {
            "backgroundcolor": "#E5ECF6",
            "gridcolor": "white",
            "gridwidth": 2,
            "linecolor": "white",
            "showbackground": true,
            "ticks": "",
            "zerolinecolor": "white"
           }
          },
          "shapedefaults": {
           "line": {
            "color": "#2a3f5f"
           }
          },
          "ternary": {
           "aaxis": {
            "gridcolor": "white",
            "linecolor": "white",
            "ticks": ""
           },
           "baxis": {
            "gridcolor": "white",
            "linecolor": "white",
            "ticks": ""
           },
           "bgcolor": "#E5ECF6",
           "caxis": {
            "gridcolor": "white",
            "linecolor": "white",
            "ticks": ""
           }
          },
          "title": {
           "x": 0.05
          },
          "xaxis": {
           "automargin": true,
           "gridcolor": "white",
           "linecolor": "white",
           "ticks": "",
           "title": {
            "standoff": 15
           },
           "zerolinecolor": "white",
           "zerolinewidth": 2
          },
          "yaxis": {
           "automargin": true,
           "gridcolor": "white",
           "linecolor": "white",
           "ticks": "",
           "title": {
            "standoff": 15
           },
           "zerolinecolor": "white",
           "zerolinewidth": 2
          }
         }
        },
        "yaxis": {
         "visible": false
        }
       }
      }
     },
     "metadata": {},
     "output_type": "display_data"
    },
    {
     "data": {
      "text/plain": [
       "0.8287531282163694"
      ]
     },
     "execution_count": 13,
     "metadata": {},
     "output_type": "execute_result"
    }
   ],
   "source": [
    "co_pro,co_pro_negative = cal_norm(df_air_pollution['coValue'].mean(),\n",
    "                                  df_air_pollution['coValue'].std(),\n",
    "                                  df_air_pollution['coValue'].min(),\n",
    "                                  df_air_pollution['coValue'].max(),\n",
    "                                  co_standard,\n",
    "                                  False)\n",
    "co_pro"
   ]
  },
  {
   "cell_type": "markdown",
   "metadata": {},
   "source": [
    "#### 부산시 이산화질소 적합도"
   ]
  },
  {
   "cell_type": "code",
   "execution_count": 14,
   "metadata": {},
   "outputs": [
    {
     "data": {
      "application/vnd.plotly.v1+json": {
       "config": {
        "plotlyServerURL": "https://plot.ly"
       },
       "data": [
        {
         "fill": "tozeroy",
         "line": {
          "color": "rgb(239,85,59)"
         },
         "name": "부적합",
         "type": "scatter",
         "x": [
          -0.013482172600794599,
          -0.01322477691795829,
          -0.012967381235121981,
          -0.012709985552285672,
          -0.012452589869449363,
          -0.012195194186613053,
          -0.011937798503776744,
          -0.011680402820940435,
          -0.011423007138104126,
          -0.011165611455267817,
          -0.010908215772431508,
          -0.010650820089595198,
          -0.010393424406758889,
          -0.01013602872392258,
          -0.009878633041086271,
          -0.009621237358249962,
          -0.009363841675413653,
          -0.009106445992577344,
          -0.008849050309741036,
          -0.008591654626904727,
          -0.008334258944068418,
          -0.008076863261232109,
          -0.007819467578395798,
          -0.0075620718955594895,
          -0.007304676212723181,
          -0.007047280529886872,
          -0.006789884847050563,
          -0.006532489164214253,
          -0.006275093481377944,
          -0.006017697798541635,
          -0.005760302115705326,
          -0.005502906432869017,
          -0.005245510750032708,
          -0.004988115067196399,
          -0.00473071938436009,
          -0.004473323701523781,
          -0.0042159280186874724,
          -0.003958532335851162,
          -0.003701136653014853,
          -0.003443740970178544,
          -0.0031863452873422352,
          -0.0029289496045059264,
          -0.0026715539216696175,
          -0.0024141582388333086,
          -0.002156762555996998,
          -0.0018993668731606891,
          -0.0016419711903243803,
          -0.0013845755074880714,
          -0.0011271798246517625,
          -0.0008697841418154537,
          -0.0006123884589791448,
          -0.0003549927761428359,
          -0.00009759709330652705,
          0.00015979858952978356,
          0.0004171942723660924,
          0.0006745899552024013,
          0.0009319856380387102,
          0.001189381320875019,
          0.001446777003711328,
          0.0017041726865476368,
          0.0019615683693839474,
          0.0022189640522202563,
          0.002476359735056565,
          0.002733755417892874,
          0.002991151100729183,
          0.0032485467835654917,
          0.0035059424664018006,
          0.0037633381492381095,
          0.004020733832074418,
          0.004278129514910727,
          0.004535525197747036,
          0.004792920880583345,
          0.005050316563419654,
          0.005307712246255966,
          0.005565107929092275,
          0.005822503611928584,
          0.006079899294764893,
          0.006337294977601202,
          0.0065946906604375105,
          0.006852086343273819,
          0.007109482026110128,
          0.007366877708946437,
          0.007624273391782746,
          0.007881669074619055,
          0.008139064757455364,
          0.008396460440291673,
          0.008653856123127981,
          0.00891125180596429,
          0.009168647488800603,
          0.009426043171636912,
          0.00968343885447322,
          0.00994083453730953,
          0.010198230220145838,
          0.010455625902982147,
          0.010713021585818456,
          0.010970417268654765,
          0.011227812951491074,
          0.011485208634327383,
          0.011742604317163691,
          0.012
         ],
         "y": [
          0.23146126863326524,
          0.2444972077367689,
          0.2581857621756191,
          0.2725545808043204,
          0.28763219333400664,
          0.30344802231535845,
          0.32003239433777453,
          0.33741655037966134,
          0.35563265524300713,
          0.3747138060038599,
          0.39469403940880643,
          0.41560833814618175,
          0.4374926359194355,
          0.46038382124893623,
          0.48431973992744826,
          0.5093391960536324,
          0.535481951567163,
          0.5627887242084822,
          0.5913011838257826,
          0.6210619469515788,
          0.6521145695711734,
          0.6845035380054751,
          0.7182742578309836,
          0.753473040760331,
          0.7901470894075684,
          0.828344479863432,
          0.8681141420070981,
          0.9095058374824762,
          0.9525701352688879,
          0.9973583847780402,
          1.0439226864115498,
          1.0923158595158697,
          1.1425914076744483,
          1.1948034812800483,
          1.2490068373337422,
          1.3052567964208626,
          1.3636091968182822,
          1.42412034569182,
          1.4868469673472762,
          1.5518461485036263,
          1.6191752805622175,
          1.6888919988514541,
          1.7610541188323852,
          1.8357195692568242,
          1.912946322276168,
          1.9927923205058793,
          2.0753154010576607,
          2.160573216558747,
          2.2486231531852914,
          2.339522245744732,
          2.4333270898500965,
          2.5300937512375117,
          2.6298776722867325,
          2.732733575813189,
          2.83871536620895,
          2.947876028019058,
          3.0602675220488225,
          3.1759406791069837,
          3.2949450914990166,
          3.417329002394297,
          3.5431391932003096,
          3.6724208690866087,
          3.8052175428107486,
          3.9415709170077506,
          4.081520765114182,
          4.225104811107133,
          4.372358608247529,
          4.523315417026256,
          4.67800608252033,
          4.836458911374979,
          4.9986995486357735,
          5.164750854663047,
          5.334632782368484,
          5.508362255021209,
          5.685953044877579,
          5.867415652895556,
          6.052757189800505,
          6.241981258774956,
          6.435087840049989,
          6.632073177680317,
          6.83292966878926,
          7.037645755573042,
          7.246205820356604,
          7.4585900839951815,
          7.674774507917215,
          7.894730700104852,
          8.118425825308117,
          8.345822519788069,
          8.57687881088253,
          8.81154804168554,
          9.049778801128507,
          9.2915148597468,
          9.536695111410747,
          9.785253521294088,
          10.037119080346445,
          10.292215766528695,
          10.550462513061992,
          10.811773183931793,
          11.076056556878255,
          11.34321631409347
         ]
        },
        {
         "fill": "tozeroy",
         "line": {
          "color": "rgb(100,110,250)"
         },
         "name": "적합",
         "type": "scatter",
         "x": [
          0.012,
          0.012767676767676768,
          0.013535353535353536,
          0.014303030303030304,
          0.015070707070707071,
          0.01583838383838384,
          0.016606060606060607,
          0.017373737373737375,
          0.018141414141414142,
          0.01890909090909091,
          0.019676767676767678,
          0.020444444444444446,
          0.02121212121212121,
          0.02197979797979798,
          0.022747474747474745,
          0.023515151515151517,
          0.02428282828282828,
          0.025050505050505052,
          0.025818181818181817,
          0.026585858585858588,
          0.027353535353535352,
          0.02812121212121212,
          0.028888888888888888,
          0.029656565656565655,
          0.030424242424242423,
          0.03119191919191919,
          0.03195959595959596,
          0.03272727272727273,
          0.033494949494949494,
          0.03426262626262626,
          0.03503030303030303,
          0.0357979797979798,
          0.036565656565656565,
          0.03733333333333333,
          0.0381010101010101,
          0.03886868686868687,
          0.039636363636363636,
          0.0404040404040404,
          0.04117171717171717,
          0.04193939393939394,
          0.04270707070707071,
          0.04347474747474747,
          0.044242424242424236,
          0.045010101010101014,
          0.04577777777777778,
          0.04654545454545454,
          0.04731313131313131,
          0.048080808080808085,
          0.04884848484848485,
          0.049616161616161614,
          0.05038383838383838,
          0.051151515151515156,
          0.05191919191919192,
          0.052686868686868685,
          0.05345454545454545,
          0.05422222222222223,
          0.05498989898989899,
          0.055757575757575756,
          0.05652525252525252,
          0.0572929292929293,
          0.05806060606060606,
          0.05882828282828283,
          0.05959595959595959,
          0.06036363636363637,
          0.061131313131313134,
          0.0618989898989899,
          0.06266666666666666,
          0.06343434343434343,
          0.0642020202020202,
          0.06496969696969697,
          0.06573737373737373,
          0.0665050505050505,
          0.06727272727272728,
          0.06804040404040404,
          0.0688080808080808,
          0.06957575757575757,
          0.07034343434343435,
          0.07111111111111111,
          0.07187878787878788,
          0.07264646464646464,
          0.07341414141414142,
          0.07418181818181818,
          0.07494949494949495,
          0.07571717171717171,
          0.07648484848484847,
          0.07725252525252525,
          0.07802020202020202,
          0.07878787878787878,
          0.07955555555555555,
          0.08032323232323232,
          0.08109090909090909,
          0.08185858585858585,
          0.08262626262626262,
          0.0833939393939394,
          0.08416161616161616,
          0.08492929292929292,
          0.08569696969696969,
          0.08646464646464645,
          0.08723232323232323,
          0.088
         ],
         "y": [
          11.34321631409347,
          12.15607139285878,
          12.990622126620638,
          13.843513813166163,
          14.711007158575738,
          15.588996351943264,
          16.473033597325863,
          17.358360081868174,
          18.239943227795568,
          19.11251994041194,
          19.97064542763289,
          20.80874703240858,
          21.621182391235717,
          22.4023011134253,
          23.14650907038115,
          23.84833429513256,
          24.502493422701942,
          25.103957554087643,
          25.648016402682856,
          26.13033958320331,
          26.547033930352722,
          26.894695787495966,
          27.17045728378047,
          27.372025719967755,
          27.497715306531838,
          27.546470639535155,
          27.517881457028466,
          27.412188387395904,
          27.230279576991567,
          26.973678263173774,
          26.64452153593961,
          26.24553070234392,
          25.77997382849411,
          25.251621180199045,
          24.664694411809556,
          24.02381046044841,
          23.333921187340643,
          22.6002498676547,
          21.828225664206386,
          21.02341722834902,
          20.191466553886393,
          19.33802416809693,
          18.468686679776834,
          17.58893761997787,
          16.704092409678143,
          15.819248173183865,
          14.939238990071319,
          14.068597045523337,
          13.211520002602303,
          12.371844783844793,
          11.55302781688983,
          10.758131672707416,
          9.989817908070908,
          9.250345818492715,
          8.541576715742258,
          7.86498326662876,
          7.221663367815622,
          6.612357985411217,
          6.037472357874661,
          5.497099945883277,
          4.991048512361919,
          4.518867728684895,
          4.079877727688269,
          3.673198058939647,
          3.297776544947129,
          2.952417586825932,
          2.6358095225558182,
          2.34655069857832,
          2.0831739744221713,
          1.8441694387651317,
          1.6280051724652451,
          1.4331459484384779,
          1.2580698088392581,
          1.1012825060427898,
          0.9613298348669563,
          0.8368079189424966,
          0.7263715439644035,
          0.6287406547272951,
          0.5427051515033636,
          0.4671281347307716,
          0.4009477555124402,
          0.3431778335283826,
          0.29290740414227756,
          0.2492993532716942,
          0.2115882925412775,
          0.17907781889542018,
          0.15113729273824553,
          0.1271982572896967,
          0.10675060965190165,
          0.08933862147685176,
          0.07455689447006886,
          0.06204632355660756,
          0.05149012862276493,
          0.042610004524152915,
          0.035162428663871065,
          0.028935155993481308,
          0.023743922833789156,
          0.019429373476001578,
          0.01585421710054161,
          0.012900617109785085
         ]
        }
       ],
       "layout": {
        "annotations": [
         {
          "bordercolor": "rgb(239,85,59)",
          "borderwidth": 2,
          "font": {
           "color": "rgb(239,85,59)",
           "size": 15
          },
          "showarrow": false,
          "text": "0.09",
          "x": 0.012,
          "xshift": -40,
          "y": 11.34321631409347,
          "yshift": -100
         },
         {
          "bordercolor": "rgb(100,110,250)",
          "borderwidth": 2,
          "font": {
           "color": "rgb(100,110,250)",
           "size": 15
          },
          "showarrow": false,
          "text": "0.91",
          "x": 0.012,
          "xshift": 40,
          "y": 11.34321631409347,
          "yshift": -100
         }
        ],
        "template": {
         "data": {
          "bar": [
           {
            "error_x": {
             "color": "#2a3f5f"
            },
            "error_y": {
             "color": "#2a3f5f"
            },
            "marker": {
             "line": {
              "color": "#E5ECF6",
              "width": 0.5
             },
             "pattern": {
              "fillmode": "overlay",
              "size": 10,
              "solidity": 0.2
             }
            },
            "type": "bar"
           }
          ],
          "barpolar": [
           {
            "marker": {
             "line": {
              "color": "#E5ECF6",
              "width": 0.5
             },
             "pattern": {
              "fillmode": "overlay",
              "size": 10,
              "solidity": 0.2
             }
            },
            "type": "barpolar"
           }
          ],
          "carpet": [
           {
            "aaxis": {
             "endlinecolor": "#2a3f5f",
             "gridcolor": "white",
             "linecolor": "white",
             "minorgridcolor": "white",
             "startlinecolor": "#2a3f5f"
            },
            "baxis": {
             "endlinecolor": "#2a3f5f",
             "gridcolor": "white",
             "linecolor": "white",
             "minorgridcolor": "white",
             "startlinecolor": "#2a3f5f"
            },
            "type": "carpet"
           }
          ],
          "choropleth": [
           {
            "colorbar": {
             "outlinewidth": 0,
             "ticks": ""
            },
            "type": "choropleth"
           }
          ],
          "contour": [
           {
            "colorbar": {
             "outlinewidth": 0,
             "ticks": ""
            },
            "colorscale": [
             [
              0,
              "#0d0887"
             ],
             [
              0.1111111111111111,
              "#46039f"
             ],
             [
              0.2222222222222222,
              "#7201a8"
             ],
             [
              0.3333333333333333,
              "#9c179e"
             ],
             [
              0.4444444444444444,
              "#bd3786"
             ],
             [
              0.5555555555555556,
              "#d8576b"
             ],
             [
              0.6666666666666666,
              "#ed7953"
             ],
             [
              0.7777777777777778,
              "#fb9f3a"
             ],
             [
              0.8888888888888888,
              "#fdca26"
             ],
             [
              1,
              "#f0f921"
             ]
            ],
            "type": "contour"
           }
          ],
          "contourcarpet": [
           {
            "colorbar": {
             "outlinewidth": 0,
             "ticks": ""
            },
            "type": "contourcarpet"
           }
          ],
          "heatmap": [
           {
            "colorbar": {
             "outlinewidth": 0,
             "ticks": ""
            },
            "colorscale": [
             [
              0,
              "#0d0887"
             ],
             [
              0.1111111111111111,
              "#46039f"
             ],
             [
              0.2222222222222222,
              "#7201a8"
             ],
             [
              0.3333333333333333,
              "#9c179e"
             ],
             [
              0.4444444444444444,
              "#bd3786"
             ],
             [
              0.5555555555555556,
              "#d8576b"
             ],
             [
              0.6666666666666666,
              "#ed7953"
             ],
             [
              0.7777777777777778,
              "#fb9f3a"
             ],
             [
              0.8888888888888888,
              "#fdca26"
             ],
             [
              1,
              "#f0f921"
             ]
            ],
            "type": "heatmap"
           }
          ],
          "heatmapgl": [
           {
            "colorbar": {
             "outlinewidth": 0,
             "ticks": ""
            },
            "colorscale": [
             [
              0,
              "#0d0887"
             ],
             [
              0.1111111111111111,
              "#46039f"
             ],
             [
              0.2222222222222222,
              "#7201a8"
             ],
             [
              0.3333333333333333,
              "#9c179e"
             ],
             [
              0.4444444444444444,
              "#bd3786"
             ],
             [
              0.5555555555555556,
              "#d8576b"
             ],
             [
              0.6666666666666666,
              "#ed7953"
             ],
             [
              0.7777777777777778,
              "#fb9f3a"
             ],
             [
              0.8888888888888888,
              "#fdca26"
             ],
             [
              1,
              "#f0f921"
             ]
            ],
            "type": "heatmapgl"
           }
          ],
          "histogram": [
           {
            "marker": {
             "pattern": {
              "fillmode": "overlay",
              "size": 10,
              "solidity": 0.2
             }
            },
            "type": "histogram"
           }
          ],
          "histogram2d": [
           {
            "colorbar": {
             "outlinewidth": 0,
             "ticks": ""
            },
            "colorscale": [
             [
              0,
              "#0d0887"
             ],
             [
              0.1111111111111111,
              "#46039f"
             ],
             [
              0.2222222222222222,
              "#7201a8"
             ],
             [
              0.3333333333333333,
              "#9c179e"
             ],
             [
              0.4444444444444444,
              "#bd3786"
             ],
             [
              0.5555555555555556,
              "#d8576b"
             ],
             [
              0.6666666666666666,
              "#ed7953"
             ],
             [
              0.7777777777777778,
              "#fb9f3a"
             ],
             [
              0.8888888888888888,
              "#fdca26"
             ],
             [
              1,
              "#f0f921"
             ]
            ],
            "type": "histogram2d"
           }
          ],
          "histogram2dcontour": [
           {
            "colorbar": {
             "outlinewidth": 0,
             "ticks": ""
            },
            "colorscale": [
             [
              0,
              "#0d0887"
             ],
             [
              0.1111111111111111,
              "#46039f"
             ],
             [
              0.2222222222222222,
              "#7201a8"
             ],
             [
              0.3333333333333333,
              "#9c179e"
             ],
             [
              0.4444444444444444,
              "#bd3786"
             ],
             [
              0.5555555555555556,
              "#d8576b"
             ],
             [
              0.6666666666666666,
              "#ed7953"
             ],
             [
              0.7777777777777778,
              "#fb9f3a"
             ],
             [
              0.8888888888888888,
              "#fdca26"
             ],
             [
              1,
              "#f0f921"
             ]
            ],
            "type": "histogram2dcontour"
           }
          ],
          "mesh3d": [
           {
            "colorbar": {
             "outlinewidth": 0,
             "ticks": ""
            },
            "type": "mesh3d"
           }
          ],
          "parcoords": [
           {
            "line": {
             "colorbar": {
              "outlinewidth": 0,
              "ticks": ""
             }
            },
            "type": "parcoords"
           }
          ],
          "pie": [
           {
            "automargin": true,
            "type": "pie"
           }
          ],
          "scatter": [
           {
            "marker": {
             "colorbar": {
              "outlinewidth": 0,
              "ticks": ""
             }
            },
            "type": "scatter"
           }
          ],
          "scatter3d": [
           {
            "line": {
             "colorbar": {
              "outlinewidth": 0,
              "ticks": ""
             }
            },
            "marker": {
             "colorbar": {
              "outlinewidth": 0,
              "ticks": ""
             }
            },
            "type": "scatter3d"
           }
          ],
          "scattercarpet": [
           {
            "marker": {
             "colorbar": {
              "outlinewidth": 0,
              "ticks": ""
             }
            },
            "type": "scattercarpet"
           }
          ],
          "scattergeo": [
           {
            "marker": {
             "colorbar": {
              "outlinewidth": 0,
              "ticks": ""
             }
            },
            "type": "scattergeo"
           }
          ],
          "scattergl": [
           {
            "marker": {
             "colorbar": {
              "outlinewidth": 0,
              "ticks": ""
             }
            },
            "type": "scattergl"
           }
          ],
          "scattermapbox": [
           {
            "marker": {
             "colorbar": {
              "outlinewidth": 0,
              "ticks": ""
             }
            },
            "type": "scattermapbox"
           }
          ],
          "scatterpolar": [
           {
            "marker": {
             "colorbar": {
              "outlinewidth": 0,
              "ticks": ""
             }
            },
            "type": "scatterpolar"
           }
          ],
          "scatterpolargl": [
           {
            "marker": {
             "colorbar": {
              "outlinewidth": 0,
              "ticks": ""
             }
            },
            "type": "scatterpolargl"
           }
          ],
          "scatterternary": [
           {
            "marker": {
             "colorbar": {
              "outlinewidth": 0,
              "ticks": ""
             }
            },
            "type": "scatterternary"
           }
          ],
          "surface": [
           {
            "colorbar": {
             "outlinewidth": 0,
             "ticks": ""
            },
            "colorscale": [
             [
              0,
              "#0d0887"
             ],
             [
              0.1111111111111111,
              "#46039f"
             ],
             [
              0.2222222222222222,
              "#7201a8"
             ],
             [
              0.3333333333333333,
              "#9c179e"
             ],
             [
              0.4444444444444444,
              "#bd3786"
             ],
             [
              0.5555555555555556,
              "#d8576b"
             ],
             [
              0.6666666666666666,
              "#ed7953"
             ],
             [
              0.7777777777777778,
              "#fb9f3a"
             ],
             [
              0.8888888888888888,
              "#fdca26"
             ],
             [
              1,
              "#f0f921"
             ]
            ],
            "type": "surface"
           }
          ],
          "table": [
           {
            "cells": {
             "fill": {
              "color": "#EBF0F8"
             },
             "line": {
              "color": "white"
             }
            },
            "header": {
             "fill": {
              "color": "#C8D4E3"
             },
             "line": {
              "color": "white"
             }
            },
            "type": "table"
           }
          ]
         },
         "layout": {
          "annotationdefaults": {
           "arrowcolor": "#2a3f5f",
           "arrowhead": 0,
           "arrowwidth": 1
          },
          "autotypenumbers": "strict",
          "coloraxis": {
           "colorbar": {
            "outlinewidth": 0,
            "ticks": ""
           }
          },
          "colorscale": {
           "diverging": [
            [
             0,
             "#8e0152"
            ],
            [
             0.1,
             "#c51b7d"
            ],
            [
             0.2,
             "#de77ae"
            ],
            [
             0.3,
             "#f1b6da"
            ],
            [
             0.4,
             "#fde0ef"
            ],
            [
             0.5,
             "#f7f7f7"
            ],
            [
             0.6,
             "#e6f5d0"
            ],
            [
             0.7,
             "#b8e186"
            ],
            [
             0.8,
             "#7fbc41"
            ],
            [
             0.9,
             "#4d9221"
            ],
            [
             1,
             "#276419"
            ]
           ],
           "sequential": [
            [
             0,
             "#0d0887"
            ],
            [
             0.1111111111111111,
             "#46039f"
            ],
            [
             0.2222222222222222,
             "#7201a8"
            ],
            [
             0.3333333333333333,
             "#9c179e"
            ],
            [
             0.4444444444444444,
             "#bd3786"
            ],
            [
             0.5555555555555556,
             "#d8576b"
            ],
            [
             0.6666666666666666,
             "#ed7953"
            ],
            [
             0.7777777777777778,
             "#fb9f3a"
            ],
            [
             0.8888888888888888,
             "#fdca26"
            ],
            [
             1,
             "#f0f921"
            ]
           ],
           "sequentialminus": [
            [
             0,
             "#0d0887"
            ],
            [
             0.1111111111111111,
             "#46039f"
            ],
            [
             0.2222222222222222,
             "#7201a8"
            ],
            [
             0.3333333333333333,
             "#9c179e"
            ],
            [
             0.4444444444444444,
             "#bd3786"
            ],
            [
             0.5555555555555556,
             "#d8576b"
            ],
            [
             0.6666666666666666,
             "#ed7953"
            ],
            [
             0.7777777777777778,
             "#fb9f3a"
            ],
            [
             0.8888888888888888,
             "#fdca26"
            ],
            [
             1,
             "#f0f921"
            ]
           ]
          },
          "colorway": [
           "#636efa",
           "#EF553B",
           "#00cc96",
           "#ab63fa",
           "#FFA15A",
           "#19d3f3",
           "#FF6692",
           "#B6E880",
           "#FF97FF",
           "#FECB52"
          ],
          "font": {
           "color": "#2a3f5f"
          },
          "geo": {
           "bgcolor": "white",
           "lakecolor": "white",
           "landcolor": "#E5ECF6",
           "showlakes": true,
           "showland": true,
           "subunitcolor": "white"
          },
          "hoverlabel": {
           "align": "left"
          },
          "hovermode": "closest",
          "mapbox": {
           "style": "light"
          },
          "paper_bgcolor": "white",
          "plot_bgcolor": "#E5ECF6",
          "polar": {
           "angularaxis": {
            "gridcolor": "white",
            "linecolor": "white",
            "ticks": ""
           },
           "bgcolor": "#E5ECF6",
           "radialaxis": {
            "gridcolor": "white",
            "linecolor": "white",
            "ticks": ""
           }
          },
          "scene": {
           "xaxis": {
            "backgroundcolor": "#E5ECF6",
            "gridcolor": "white",
            "gridwidth": 2,
            "linecolor": "white",
            "showbackground": true,
            "ticks": "",
            "zerolinecolor": "white"
           },
           "yaxis": {
            "backgroundcolor": "#E5ECF6",
            "gridcolor": "white",
            "gridwidth": 2,
            "linecolor": "white",
            "showbackground": true,
            "ticks": "",
            "zerolinecolor": "white"
           },
           "zaxis": {
            "backgroundcolor": "#E5ECF6",
            "gridcolor": "white",
            "gridwidth": 2,
            "linecolor": "white",
            "showbackground": true,
            "ticks": "",
            "zerolinecolor": "white"
           }
          },
          "shapedefaults": {
           "line": {
            "color": "#2a3f5f"
           }
          },
          "ternary": {
           "aaxis": {
            "gridcolor": "white",
            "linecolor": "white",
            "ticks": ""
           },
           "baxis": {
            "gridcolor": "white",
            "linecolor": "white",
            "ticks": ""
           },
           "bgcolor": "#E5ECF6",
           "caxis": {
            "gridcolor": "white",
            "linecolor": "white",
            "ticks": ""
           }
          },
          "title": {
           "x": 0.05
          },
          "xaxis": {
           "automargin": true,
           "gridcolor": "white",
           "linecolor": "white",
           "ticks": "",
           "title": {
            "standoff": 15
           },
           "zerolinecolor": "white",
           "zerolinewidth": 2
          },
          "yaxis": {
           "automargin": true,
           "gridcolor": "white",
           "linecolor": "white",
           "ticks": "",
           "title": {
            "standoff": 15
           },
           "zerolinecolor": "white",
           "zerolinewidth": 2
          }
         }
        },
        "yaxis": {
         "visible": false
        }
       }
      }
     },
     "metadata": {},
     "output_type": "display_data"
    },
    {
     "data": {
      "text/plain": [
       "0.909590433996196"
      ]
     },
     "execution_count": 14,
     "metadata": {},
     "output_type": "execute_result"
    }
   ],
   "source": [
    "no2_pro,no2_pro_negative = cal_norm(df_air_pollution['no2Value'].mean(),\n",
    "                                    df_air_pollution['no2Value'].std(),\n",
    "                                    df_air_pollution['no2Value'].min(),\n",
    "                                    df_air_pollution['no2Value'].max(),\n",
    "                                    no2_standard,\n",
    "                                    False)\n",
    "no2_pro"
   ]
  },
  {
   "cell_type": "markdown",
   "metadata": {},
   "source": [
    "#### 부산시 오존 적합도"
   ]
  },
  {
   "cell_type": "code",
   "execution_count": 15,
   "metadata": {},
   "outputs": [
    {
     "data": {
      "application/vnd.plotly.v1+json": {
       "config": {
        "plotlyServerURL": "https://plot.ly"
       },
       "data": [
        {
         "fill": "tozeroy",
         "line": {
          "color": "rgb(239,85,59)"
         },
         "name": "부적합",
         "type": "scatter",
         "x": [
          -0.010069783147038231,
          -0.009937765135451986,
          -0.009805747123865742,
          -0.009673729112279497,
          -0.009541711100693252,
          -0.009409693089107007,
          -0.009277675077520763,
          -0.009145657065934518,
          -0.009013639054348273,
          -0.008881621042762028,
          -0.008749603031175784,
          -0.008617585019589539,
          -0.008485567008003294,
          -0.008353548996417048,
          -0.008221530984830805,
          -0.00808951297324456,
          -0.007957494961658314,
          -0.007825476950072071,
          -0.007693458938485826,
          -0.0075614409268995805,
          -0.007429422915313335,
          -0.007297404903727091,
          -0.007165386892140847,
          -0.007033368880554601,
          -0.006901350868968357,
          -0.006769332857382113,
          -0.006637314845795867,
          -0.006505296834209622,
          -0.006373278822623378,
          -0.0062412608110371335,
          -0.006109242799450888,
          -0.005977224787864643,
          -0.005845206776278399,
          -0.005713188764692154,
          -0.005581170753105909,
          -0.005449152741519665,
          -0.0053171347299334195,
          -0.005185116718347175,
          -0.00505309870676093,
          -0.004921080695174686,
          -0.00478906268358844,
          -0.004657044672002196,
          -0.004525026660415951,
          -0.0043930086488297064,
          -0.004260990637243461,
          -0.004128972625657217,
          -0.003996954614070972,
          -0.0038649366024847273,
          -0.003732918590898483,
          -0.0036009005793122377,
          -0.0034688825677259933,
          -0.003336864556139748,
          -0.0032048465445535038,
          -0.0030728285329672585,
          -0.002940810521381014,
          -0.002808792509794769,
          -0.0026767744982085246,
          -0.0025447564866222794,
          -0.002412738475036035,
          -0.00228072046344979,
          -0.0021487024518635454,
          -0.0020166844402773002,
          -0.001884666428691055,
          -0.0017526484171048115,
          -0.0016206304055185663,
          -0.001488612393932321,
          -0.0013565943823460776,
          -0.0012245763707598323,
          -0.0010925583591735871,
          -0.0009605403475873419,
          -0.0008285223360010984,
          -0.0006965043244148532,
          -0.000564486312828608,
          -0.00043246830124236274,
          -0.00030045028965611925,
          -0.00016843227806987403,
          -0.000036414266483628804,
          0.00009560374510261642,
          0.0002276217566888599,
          0.00035963976827510513,
          0.0004916577798613504,
          0.0006236757914475938,
          0.0007556938030338391,
          0.0008877118146200843,
          0.0010197298262063295,
          0.001151747837792573,
          0.0012837658493788182,
          0.0014157838609650635,
          0.0015478018725513087,
          0.0016798198841375522,
          0.0018118378957237974,
          0.0019438559073100426,
          0.002075873918896288,
          0.0022078919304825313,
          0.0023399099420687765,
          0.0024719279536550218,
          0.0026039459652412653,
          0.0027359639768275105,
          0.0028679819884137557,
          0.003
         ],
         "y": [
          5.505372476886441,
          5.6337298395435775,
          5.764259941646827,
          5.896975566447146,
          6.031888849251251,
          6.169011255521749,
          6.308353558956408,
          6.449925819565017,
          6.593737361762667,
          6.73979675249876,
          6.888111779441449,
          7.038689429237446,
          7.191535865867768,
          7.346656409120082,
          7.504055513198859,
          7.663736745494725,
          7.825702765534732,
          7.989955304135674,
          8.1564951427826,
          8.325322093255203,
          8.496434977524745,
          8.669831607944618,
          8.845508767757492,
          9.02346219194257,
          9.203686548426253,
          9.386175419679887,
          9.570921284728096,
          9.75791550159155,
          9.947148290187847,
          10.13860871571416,
          10.332284672535632,
          10.528162868602902,
          10.726228810422606,
          10.926466788604232,
          11.128859864006758,
          11.333389854508244,
          11.54003732242147,
          11.74878156257835,
          11.9596005911057,
          12.172471134914664,
          12.387368621925658,
          12.604267172050598,
          12.823139588953467,
          13.043957352610226,
          13.266690612688365,
          13.491308182766002,
          13.717777535410105,
          13.946064798132582,
          14.176134750242605,
          14.407950820613085,
          14.641475086378161,
          14.876668272578428,
          15.113489752769564,
          15.351897550609463,
          15.5918483424383,
          15.83329746086504,
          16.07619889937316,
          16.32050531795769,
          16.566168049804528,
          16.81313710902235,
          17.06136119943654,
          17.310787724453384,
          17.56136279800218,
          17.813031256561658,
          18.06573667227632,
          18.31942136716707,
          18.57402642843974,
          18.829491724893863,
          19.08575592443303,
          19.34275651267716,
          19.600429812675753,
          19.858711005720316,
          20.11753415325268,
          20.37683221986521,
          20.63653709738736,
          20.89657963005222,
          21.156889640735127,
          21.41739595825575,
          21.678026445733373,
          21.93870802998429,
          22.19936673194887,
          22.45992769813463,
          22.72031523306069,
          22.98045283268752,
          23.24026321881492,
          23.49966837442995,
          23.758589579985298,
          24.016947450587498,
          24.27466197407332,
          24.53165254995129,
          24.78783802918453,
          25.043136754789643,
          25.297466603225594,
          25.55074502654523,
          25.80288909528128,
          26.05381554203731,
          26.303440805753553,
          26.55168107661612,
          26.79845234157744,
          27.043670430454732
         ]
        },
        {
         "fill": "tozeroy",
         "line": {
          "color": "rgb(100,110,250)"
         },
         "name": "적합",
         "type": "scatter",
         "x": [
          0.003,
          0.003494949494949495,
          0.00398989898989899,
          0.004484848484848485,
          0.00497979797979798,
          0.005474747474747474,
          0.0059696969696969695,
          0.006464646464646465,
          0.006959595959595959,
          0.007454545454545454,
          0.00794949494949495,
          0.008444444444444444,
          0.008939393939393938,
          0.009434343434343434,
          0.009929292929292928,
          0.010424242424242423,
          0.010919191919191919,
          0.011414141414141411,
          0.011909090909090907,
          0.012404040404040403,
          0.012898989898989896,
          0.013393939393939392,
          0.013888888888888888,
          0.01438383838383838,
          0.014878787878787877,
          0.015373737373737373,
          0.015868686868686865,
          0.01636363636363636,
          0.016858585858585858,
          0.01735353535353535,
          0.017848484848484846,
          0.018343434343434342,
          0.018838383838383835,
          0.01933333333333333,
          0.019828282828282823,
          0.02032323232323232,
          0.020818181818181816,
          0.021313131313131308,
          0.021808080808080804,
          0.0223030303030303,
          0.022797979797979793,
          0.02329292929292929,
          0.023787878787878785,
          0.024282828282828278,
          0.024777777777777774,
          0.02527272727272727,
          0.025767676767676762,
          0.02626262626262626,
          0.026757575757575754,
          0.027252525252525247,
          0.027747474747474743,
          0.028242424242424236,
          0.02873737373737373,
          0.029232323232323228,
          0.02972727272727272,
          0.030222222222222216,
          0.030717171717171712,
          0.031212121212121205,
          0.031707070707070704,
          0.0322020202020202,
          0.03269696969696969,
          0.03319191919191919,
          0.03368686868686868,
          0.034181818181818174,
          0.034676767676767674,
          0.035171717171717166,
          0.035666666666666666,
          0.03616161616161616,
          0.03665656565656565,
          0.03715151515151515,
          0.03764646464646464,
          0.038141414141414136,
          0.038636363636363635,
          0.03913131313131313,
          0.03962626262626262,
          0.04012121212121212,
          0.04061616161616161,
          0.041111111111111105,
          0.041606060606060605,
          0.0421010101010101,
          0.04259595959595959,
          0.04309090909090909,
          0.04358585858585858,
          0.044080808080808075,
          0.044575757575757574,
          0.04507070707070707,
          0.04556565656565656,
          0.04606060606060606,
          0.04655555555555555,
          0.047050505050505044,
          0.047545454545454544,
          0.048040404040404036,
          0.04853535353535353,
          0.04903030303030303,
          0.04952525252525252,
          0.05002020202020201,
          0.05051515151515151,
          0.051010101010101006,
          0.0515050505050505,
          0.052
         ],
         "y": [
          27.043670430454732,
          27.94775351372452,
          28.824378884121558,
          29.6691288769783,
          30.477645708440402,
          31.24566853138342,
          31.96907055754991,
          32.64389579737734,
          33.266394962644526,
          33.833060077907604,
          34.340657354883305,
          34.78625789948167,
          35.16726584395819,
          35.48144352636501,
          35.726933375706025,
          35.902276203378044,
          36.00642564892081,
          36.03875857999779,
          35.99908130199035,
          35.887631490631705,
          35.70507582070201,
          35.452503323884606,
          35.131414568368704,
          34.74370681061046,
          34.291655324805234,
          33.77789116710787,
          33.20537567857629,
          32.57737207241313,
          31.89741448666437,
          31.169274912552055,
          30.396928430659447,
          29.58451720198439,
          28.736313668310814,
          27.856683416448586,
          26.950048153830895,
          26.020849229044327,
          25.073512110536672,
          24.112412210549373,
          23.141842409903,
          22.165982603354912,
          21.188871545638058,
          20.2143812358156,
          19.246194033106114,
          18.28778265171174,
          17.342393136267738,
          16.413030874143505,
          15.50244965673257,
          14.61314375978071,
          13.747342973351543,
          12.907010475766546,
          12.093843413242057,
          11.3092760183412,
          10.554485076027815,
          9.83039752622066,
          9.137699976367102,
          8.476849886667084,
          7.848088184073482,
          7.251453058890055,
          6.68679469943196,
          6.15379072549624,
          5.651962089952649,
          5.180689229216411,
          4.739228257282887,
          4.326727013957377,
          3.9422407954623995,
          3.5847476143167856,
          3.2531628548366336,
          2.946353210410487,
          2.6631498084790395,
          2.4023604485683547,
          2.162780897484316,
          1.943205203617053,
          1.742435009009279,
          1.5592878532376013,
          1.3926044771075134,
          1.2412551465790156,
          1.1041450281660474,
          0.9802186562712548,
          0.8684635405414278,
          0.767912967400916,
          0.6776480545071594,
          0.596799120062007,
          0.5245464308083274,
          0.4601203932602602,
          0.402801252382106,
          0.3519183606754845,
          0.30684907858867233,
          0.2670173644568042,
          0.23189210894356233,
          0.2009852653054468,
          0.173849822851981,
          0.15007766683393337,
          0.12929736375131454,
          0.11117190681761481,
          0.09539645211949369,
          0.0816960719341679,
          0.0698235477614606,
          0.059557221935061085,
          0.0506989232294502,
          0.04307197869767931
         ]
        }
       ],
       "layout": {
        "annotations": [
         {
          "bordercolor": "rgb(239,85,59)",
          "borderwidth": 2,
          "font": {
           "color": "rgb(239,85,59)",
           "size": 15
          },
          "showarrow": false,
          "text": "0.198",
          "x": 0.003,
          "xshift": -40,
          "y": 27.043670430454732,
          "yshift": -100
         },
         {
          "bordercolor": "rgb(100,110,250)",
          "borderwidth": 2,
          "font": {
           "color": "rgb(100,110,250)",
           "size": 15
          },
          "showarrow": false,
          "text": "0.802",
          "x": 0.003,
          "xshift": 40,
          "y": 27.043670430454732,
          "yshift": -100
         }
        ],
        "template": {
         "data": {
          "bar": [
           {
            "error_x": {
             "color": "#2a3f5f"
            },
            "error_y": {
             "color": "#2a3f5f"
            },
            "marker": {
             "line": {
              "color": "#E5ECF6",
              "width": 0.5
             },
             "pattern": {
              "fillmode": "overlay",
              "size": 10,
              "solidity": 0.2
             }
            },
            "type": "bar"
           }
          ],
          "barpolar": [
           {
            "marker": {
             "line": {
              "color": "#E5ECF6",
              "width": 0.5
             },
             "pattern": {
              "fillmode": "overlay",
              "size": 10,
              "solidity": 0.2
             }
            },
            "type": "barpolar"
           }
          ],
          "carpet": [
           {
            "aaxis": {
             "endlinecolor": "#2a3f5f",
             "gridcolor": "white",
             "linecolor": "white",
             "minorgridcolor": "white",
             "startlinecolor": "#2a3f5f"
            },
            "baxis": {
             "endlinecolor": "#2a3f5f",
             "gridcolor": "white",
             "linecolor": "white",
             "minorgridcolor": "white",
             "startlinecolor": "#2a3f5f"
            },
            "type": "carpet"
           }
          ],
          "choropleth": [
           {
            "colorbar": {
             "outlinewidth": 0,
             "ticks": ""
            },
            "type": "choropleth"
           }
          ],
          "contour": [
           {
            "colorbar": {
             "outlinewidth": 0,
             "ticks": ""
            },
            "colorscale": [
             [
              0,
              "#0d0887"
             ],
             [
              0.1111111111111111,
              "#46039f"
             ],
             [
              0.2222222222222222,
              "#7201a8"
             ],
             [
              0.3333333333333333,
              "#9c179e"
             ],
             [
              0.4444444444444444,
              "#bd3786"
             ],
             [
              0.5555555555555556,
              "#d8576b"
             ],
             [
              0.6666666666666666,
              "#ed7953"
             ],
             [
              0.7777777777777778,
              "#fb9f3a"
             ],
             [
              0.8888888888888888,
              "#fdca26"
             ],
             [
              1,
              "#f0f921"
             ]
            ],
            "type": "contour"
           }
          ],
          "contourcarpet": [
           {
            "colorbar": {
             "outlinewidth": 0,
             "ticks": ""
            },
            "type": "contourcarpet"
           }
          ],
          "heatmap": [
           {
            "colorbar": {
             "outlinewidth": 0,
             "ticks": ""
            },
            "colorscale": [
             [
              0,
              "#0d0887"
             ],
             [
              0.1111111111111111,
              "#46039f"
             ],
             [
              0.2222222222222222,
              "#7201a8"
             ],
             [
              0.3333333333333333,
              "#9c179e"
             ],
             [
              0.4444444444444444,
              "#bd3786"
             ],
             [
              0.5555555555555556,
              "#d8576b"
             ],
             [
              0.6666666666666666,
              "#ed7953"
             ],
             [
              0.7777777777777778,
              "#fb9f3a"
             ],
             [
              0.8888888888888888,
              "#fdca26"
             ],
             [
              1,
              "#f0f921"
             ]
            ],
            "type": "heatmap"
           }
          ],
          "heatmapgl": [
           {
            "colorbar": {
             "outlinewidth": 0,
             "ticks": ""
            },
            "colorscale": [
             [
              0,
              "#0d0887"
             ],
             [
              0.1111111111111111,
              "#46039f"
             ],
             [
              0.2222222222222222,
              "#7201a8"
             ],
             [
              0.3333333333333333,
              "#9c179e"
             ],
             [
              0.4444444444444444,
              "#bd3786"
             ],
             [
              0.5555555555555556,
              "#d8576b"
             ],
             [
              0.6666666666666666,
              "#ed7953"
             ],
             [
              0.7777777777777778,
              "#fb9f3a"
             ],
             [
              0.8888888888888888,
              "#fdca26"
             ],
             [
              1,
              "#f0f921"
             ]
            ],
            "type": "heatmapgl"
           }
          ],
          "histogram": [
           {
            "marker": {
             "pattern": {
              "fillmode": "overlay",
              "size": 10,
              "solidity": 0.2
             }
            },
            "type": "histogram"
           }
          ],
          "histogram2d": [
           {
            "colorbar": {
             "outlinewidth": 0,
             "ticks": ""
            },
            "colorscale": [
             [
              0,
              "#0d0887"
             ],
             [
              0.1111111111111111,
              "#46039f"
             ],
             [
              0.2222222222222222,
              "#7201a8"
             ],
             [
              0.3333333333333333,
              "#9c179e"
             ],
             [
              0.4444444444444444,
              "#bd3786"
             ],
             [
              0.5555555555555556,
              "#d8576b"
             ],
             [
              0.6666666666666666,
              "#ed7953"
             ],
             [
              0.7777777777777778,
              "#fb9f3a"
             ],
             [
              0.8888888888888888,
              "#fdca26"
             ],
             [
              1,
              "#f0f921"
             ]
            ],
            "type": "histogram2d"
           }
          ],
          "histogram2dcontour": [
           {
            "colorbar": {
             "outlinewidth": 0,
             "ticks": ""
            },
            "colorscale": [
             [
              0,
              "#0d0887"
             ],
             [
              0.1111111111111111,
              "#46039f"
             ],
             [
              0.2222222222222222,
              "#7201a8"
             ],
             [
              0.3333333333333333,
              "#9c179e"
             ],
             [
              0.4444444444444444,
              "#bd3786"
             ],
             [
              0.5555555555555556,
              "#d8576b"
             ],
             [
              0.6666666666666666,
              "#ed7953"
             ],
             [
              0.7777777777777778,
              "#fb9f3a"
             ],
             [
              0.8888888888888888,
              "#fdca26"
             ],
             [
              1,
              "#f0f921"
             ]
            ],
            "type": "histogram2dcontour"
           }
          ],
          "mesh3d": [
           {
            "colorbar": {
             "outlinewidth": 0,
             "ticks": ""
            },
            "type": "mesh3d"
           }
          ],
          "parcoords": [
           {
            "line": {
             "colorbar": {
              "outlinewidth": 0,
              "ticks": ""
             }
            },
            "type": "parcoords"
           }
          ],
          "pie": [
           {
            "automargin": true,
            "type": "pie"
           }
          ],
          "scatter": [
           {
            "marker": {
             "colorbar": {
              "outlinewidth": 0,
              "ticks": ""
             }
            },
            "type": "scatter"
           }
          ],
          "scatter3d": [
           {
            "line": {
             "colorbar": {
              "outlinewidth": 0,
              "ticks": ""
             }
            },
            "marker": {
             "colorbar": {
              "outlinewidth": 0,
              "ticks": ""
             }
            },
            "type": "scatter3d"
           }
          ],
          "scattercarpet": [
           {
            "marker": {
             "colorbar": {
              "outlinewidth": 0,
              "ticks": ""
             }
            },
            "type": "scattercarpet"
           }
          ],
          "scattergeo": [
           {
            "marker": {
             "colorbar": {
              "outlinewidth": 0,
              "ticks": ""
             }
            },
            "type": "scattergeo"
           }
          ],
          "scattergl": [
           {
            "marker": {
             "colorbar": {
              "outlinewidth": 0,
              "ticks": ""
             }
            },
            "type": "scattergl"
           }
          ],
          "scattermapbox": [
           {
            "marker": {
             "colorbar": {
              "outlinewidth": 0,
              "ticks": ""
             }
            },
            "type": "scattermapbox"
           }
          ],
          "scatterpolar": [
           {
            "marker": {
             "colorbar": {
              "outlinewidth": 0,
              "ticks": ""
             }
            },
            "type": "scatterpolar"
           }
          ],
          "scatterpolargl": [
           {
            "marker": {
             "colorbar": {
              "outlinewidth": 0,
              "ticks": ""
             }
            },
            "type": "scatterpolargl"
           }
          ],
          "scatterternary": [
           {
            "marker": {
             "colorbar": {
              "outlinewidth": 0,
              "ticks": ""
             }
            },
            "type": "scatterternary"
           }
          ],
          "surface": [
           {
            "colorbar": {
             "outlinewidth": 0,
             "ticks": ""
            },
            "colorscale": [
             [
              0,
              "#0d0887"
             ],
             [
              0.1111111111111111,
              "#46039f"
             ],
             [
              0.2222222222222222,
              "#7201a8"
             ],
             [
              0.3333333333333333,
              "#9c179e"
             ],
             [
              0.4444444444444444,
              "#bd3786"
             ],
             [
              0.5555555555555556,
              "#d8576b"
             ],
             [
              0.6666666666666666,
              "#ed7953"
             ],
             [
              0.7777777777777778,
              "#fb9f3a"
             ],
             [
              0.8888888888888888,
              "#fdca26"
             ],
             [
              1,
              "#f0f921"
             ]
            ],
            "type": "surface"
           }
          ],
          "table": [
           {
            "cells": {
             "fill": {
              "color": "#EBF0F8"
             },
             "line": {
              "color": "white"
             }
            },
            "header": {
             "fill": {
              "color": "#C8D4E3"
             },
             "line": {
              "color": "white"
             }
            },
            "type": "table"
           }
          ]
         },
         "layout": {
          "annotationdefaults": {
           "arrowcolor": "#2a3f5f",
           "arrowhead": 0,
           "arrowwidth": 1
          },
          "autotypenumbers": "strict",
          "coloraxis": {
           "colorbar": {
            "outlinewidth": 0,
            "ticks": ""
           }
          },
          "colorscale": {
           "diverging": [
            [
             0,
             "#8e0152"
            ],
            [
             0.1,
             "#c51b7d"
            ],
            [
             0.2,
             "#de77ae"
            ],
            [
             0.3,
             "#f1b6da"
            ],
            [
             0.4,
             "#fde0ef"
            ],
            [
             0.5,
             "#f7f7f7"
            ],
            [
             0.6,
             "#e6f5d0"
            ],
            [
             0.7,
             "#b8e186"
            ],
            [
             0.8,
             "#7fbc41"
            ],
            [
             0.9,
             "#4d9221"
            ],
            [
             1,
             "#276419"
            ]
           ],
           "sequential": [
            [
             0,
             "#0d0887"
            ],
            [
             0.1111111111111111,
             "#46039f"
            ],
            [
             0.2222222222222222,
             "#7201a8"
            ],
            [
             0.3333333333333333,
             "#9c179e"
            ],
            [
             0.4444444444444444,
             "#bd3786"
            ],
            [
             0.5555555555555556,
             "#d8576b"
            ],
            [
             0.6666666666666666,
             "#ed7953"
            ],
            [
             0.7777777777777778,
             "#fb9f3a"
            ],
            [
             0.8888888888888888,
             "#fdca26"
            ],
            [
             1,
             "#f0f921"
            ]
           ],
           "sequentialminus": [
            [
             0,
             "#0d0887"
            ],
            [
             0.1111111111111111,
             "#46039f"
            ],
            [
             0.2222222222222222,
             "#7201a8"
            ],
            [
             0.3333333333333333,
             "#9c179e"
            ],
            [
             0.4444444444444444,
             "#bd3786"
            ],
            [
             0.5555555555555556,
             "#d8576b"
            ],
            [
             0.6666666666666666,
             "#ed7953"
            ],
            [
             0.7777777777777778,
             "#fb9f3a"
            ],
            [
             0.8888888888888888,
             "#fdca26"
            ],
            [
             1,
             "#f0f921"
            ]
           ]
          },
          "colorway": [
           "#636efa",
           "#EF553B",
           "#00cc96",
           "#ab63fa",
           "#FFA15A",
           "#19d3f3",
           "#FF6692",
           "#B6E880",
           "#FF97FF",
           "#FECB52"
          ],
          "font": {
           "color": "#2a3f5f"
          },
          "geo": {
           "bgcolor": "white",
           "lakecolor": "white",
           "landcolor": "#E5ECF6",
           "showlakes": true,
           "showland": true,
           "subunitcolor": "white"
          },
          "hoverlabel": {
           "align": "left"
          },
          "hovermode": "closest",
          "mapbox": {
           "style": "light"
          },
          "paper_bgcolor": "white",
          "plot_bgcolor": "#E5ECF6",
          "polar": {
           "angularaxis": {
            "gridcolor": "white",
            "linecolor": "white",
            "ticks": ""
           },
           "bgcolor": "#E5ECF6",
           "radialaxis": {
            "gridcolor": "white",
            "linecolor": "white",
            "ticks": ""
           }
          },
          "scene": {
           "xaxis": {
            "backgroundcolor": "#E5ECF6",
            "gridcolor": "white",
            "gridwidth": 2,
            "linecolor": "white",
            "showbackground": true,
            "ticks": "",
            "zerolinecolor": "white"
           },
           "yaxis": {
            "backgroundcolor": "#E5ECF6",
            "gridcolor": "white",
            "gridwidth": 2,
            "linecolor": "white",
            "showbackground": true,
            "ticks": "",
            "zerolinecolor": "white"
           },
           "zaxis": {
            "backgroundcolor": "#E5ECF6",
            "gridcolor": "white",
            "gridwidth": 2,
            "linecolor": "white",
            "showbackground": true,
            "ticks": "",
            "zerolinecolor": "white"
           }
          },
          "shapedefaults": {
           "line": {
            "color": "#2a3f5f"
           }
          },
          "ternary": {
           "aaxis": {
            "gridcolor": "white",
            "linecolor": "white",
            "ticks": ""
           },
           "baxis": {
            "gridcolor": "white",
            "linecolor": "white",
            "ticks": ""
           },
           "bgcolor": "#E5ECF6",
           "caxis": {
            "gridcolor": "white",
            "linecolor": "white",
            "ticks": ""
           }
          },
          "title": {
           "x": 0.05
          },
          "xaxis": {
           "automargin": true,
           "gridcolor": "white",
           "linecolor": "white",
           "ticks": "",
           "title": {
            "standoff": 15
           },
           "zerolinecolor": "white",
           "zerolinewidth": 2
          },
          "yaxis": {
           "automargin": true,
           "gridcolor": "white",
           "linecolor": "white",
           "ticks": "",
           "title": {
            "standoff": 15
           },
           "zerolinecolor": "white",
           "zerolinewidth": 2
          }
         }
        },
        "yaxis": {
         "visible": false
        }
       }
      }
     },
     "metadata": {},
     "output_type": "display_data"
    },
    {
     "data": {
      "text/plain": [
       "0.8017202428389887"
      ]
     },
     "execution_count": 15,
     "metadata": {},
     "output_type": "execute_result"
    }
   ],
   "source": [
    "o3_pro,o3_pro_negative = cal_norm(df_air_pollution['o3Value'].mean(),\n",
    "                                  df_air_pollution['o3Value'].std(),\n",
    "                                  df_air_pollution['o3Value'].min(),\n",
    "                                  df_air_pollution['o3Value'].max(),\n",
    "                                  o3_standard,\n",
    "                                  False)\n",
    "o3_pro"
   ]
  },
  {
   "cell_type": "markdown",
   "metadata": {},
   "source": [
    "#### 부산시 미세먼지 적합도"
   ]
  },
  {
   "cell_type": "code",
   "execution_count": 16,
   "metadata": {},
   "outputs": [
    {
     "data": {
      "application/vnd.plotly.v1+json": {
       "config": {
        "plotlyServerURL": "https://plot.ly"
       },
       "data": [
        {
         "fill": "tozeroy",
         "line": {
          "color": "rgb(239,85,59)"
         },
         "name": "부적합",
         "type": "scatter",
         "x": [
          -13.035647375307377,
          -12.75245901798104,
          -12.469270660654702,
          -12.186082303328366,
          -11.90289394600203,
          -11.619705588675691,
          -11.336517231349355,
          -11.053328874023018,
          -10.77014051669668,
          -10.486952159370343,
          -10.203763802044005,
          -9.920575444717668,
          -9.637387087391332,
          -9.354198730064994,
          -9.071010372738657,
          -8.78782201541232,
          -8.504633658085982,
          -8.221445300759646,
          -7.938256943433309,
          -7.655068586106972,
          -7.371880228780634,
          -7.088691871454298,
          -6.8055035141279605,
          -6.522315156801623,
          -6.239126799475287,
          -5.955938442148949,
          -5.672750084822612,
          -5.389561727496274,
          -5.106373370169938,
          -4.8231850128436005,
          -4.539996655517264,
          -4.256808298190926,
          -3.973619940864589,
          -3.6904315835382526,
          -3.4072432262119143,
          -3.124054868885578,
          -2.8408665115592413,
          -2.557678154232903,
          -2.2744897969065665,
          -1.99130143958023,
          -1.7081130822538917,
          -1.4249247249275552,
          -1.1417363676012187,
          -0.8585480102748804,
          -0.5753596529485439,
          -0.29217129562220734,
          -0.008982938295869047,
          0.27420541903046747,
          0.557393776356804,
          0.8405821336831423,
          1.1237704910094788,
          1.406958848335817,
          1.6901472056621536,
          1.97333556298849,
          2.2565239203148284,
          2.539712277641165,
          2.8229006349675014,
          3.106088992293838,
          3.3892773496201762,
          3.6724657069465145,
          3.9556540642728493,
          4.238842421599188,
          4.522030778925526,
          4.805219136251861,
          5.088407493578199,
          5.371595850904537,
          5.654784208230872,
          5.93797256555721,
          6.2211609228835485,
          6.504349280209883,
          6.7875376375362215,
          7.07072599486256,
          7.3539143521888946,
          7.637102709515233,
          7.920291066841571,
          8.203479424167906,
          8.486667781494244,
          8.769856138820582,
          9.053044496146917,
          9.336232853473255,
          9.619421210799594,
          9.902609568125929,
          10.185797925452267,
          10.468986282778605,
          10.75217464010494,
          11.035362997431278,
          11.318551354757616,
          11.601739712083951,
          11.88492806941029,
          12.168116426736628,
          12.451304784062962,
          12.7344931413893,
          13.017681498715639,
          13.300869856041974,
          13.584058213368312,
          13.86724657069465,
          14.150434928020985,
          14.433623285347323,
          14.716811642673662,
          15
         ],
         "y": [
          0.0006072954214295694,
          0.0006317514764278818,
          0.0006570469555765575,
          0.0006832040500657714,
          0.0007102452536815397,
          0.0007381933545477333,
          0.0007670714262082442,
          0.0007969028180352793,
          0.0008277111449502487,
          0.0008595202764442669,
          0.0008923543248858907,
          0.0009262376331043627,
          0.0009611947612373279,
          0.0009972504728327039,
          0.0010344297201952024,
          0.0010727576289688162,
          0.0011122594819474442,
          0.0011529607021067993,
          0.0011948868348516809,
          0.0012380635294737012,
          0.001282516519815681,
          0.001328271604139968,
          0.0013753546241991423,
          0.0014237914435087369,
          0.0014736079248228913,
          0.0015248299068150815,
          0.001577483179967468,
          0.0016315934616737298,
          0.001687186370561647,
          0.001744287400043223,
          0.0018029218911015023,
          0.001863115004324873,
          0.0019248916912010935,
          0.0019882766646849587,
          0.002053294369055026,
          0.00211996894907655,
          0.0021883242184893743,
          0.002258383627841231,
          0.0023301702316885684,
          0.002403706655188787,
          0.0024790150601094523,
          0.0025561171102817543,
          0.0026350339365273363,
          0.0027157861010892064,
          0.002798393561599307,
          0.002882875634616993,
          0.00296925095877444,
          0.0030575374575666316,
          0.00314775230182542,
          0.0032399118719186964,
          0.003334031719717454,
          0.0034301265303751213,
          0.0035282100839651416,
          0.003628295217024364,
          0.003730393784051314,
          0.003834516619009869,
          0.003940673496890368,
          0.004048873095381471,
          0.00415912295670749,
          0.004271429449687093,
          0.004385797732070545,
          0.004502231713213759,
          0.004620734017148425,
          0.004741305946108549,
          0.004863947444574544,
          0.004988657063896891,
          0.005115431927562015,
          0.005244267697163753,
          0.0053751585391442,
          0.005508097092368218,
          0.005643074436596235,
          0.005780080061920019,
          0.005919101839226424,
          0.006060125991753949,
          0.0062031370678068114,
          0.0063481179146911105,
          0.006495049653937147,
          0.006643911657871555,
          0.006794681527602229,
          0.006947335072478369,
          0.007101846291086937,
          0.00725818735384596,
          0.007416328587253948,
          0.007576238459853284,
          0.007737883569964292,
          0.007901228635244928,
          0.008066236484129451,
          0.008232868049197753,
          0.008401082362524863,
          0.008570836553058294,
          0.008742085846068618,
          0.008914783564716368,
          0.009088881133775876,
          0.009264328085554226,
          0.009441072068040705,
          0.009619058855319327,
          0.009798232360274276,
          0.00997853464961489,
          0.010159905961243753,
          0.010342284723988382
         ]
        },
        {
         "fill": "tozeroy",
         "line": {
          "color": "rgb(100,110,250)"
         },
         "name": "적합",
         "type": "scatter",
         "x": [
          15,
          15.848484848484848,
          16.696969696969695,
          17.545454545454547,
          18.393939393939394,
          19.242424242424242,
          20.09090909090909,
          20.939393939393938,
          21.78787878787879,
          22.636363636363637,
          23.484848484848484,
          24.333333333333336,
          25.18181818181818,
          26.03030303030303,
          26.87878787878788,
          27.727272727272727,
          28.575757575757578,
          29.424242424242422,
          30.272727272727273,
          31.12121212121212,
          31.96969696969697,
          32.81818181818182,
          33.66666666666667,
          34.515151515151516,
          35.36363636363636,
          36.21212121212121,
          37.06060606060606,
          37.90909090909091,
          38.75757575757576,
          39.60606060606061,
          40.45454545454545,
          41.303030303030305,
          42.151515151515156,
          43,
          43.848484848484844,
          44.6969696969697,
          45.54545454545455,
          46.39393939393939,
          47.24242424242424,
          48.09090909090909,
          48.93939393939394,
          49.78787878787879,
          50.63636363636364,
          51.484848484848484,
          52.333333333333336,
          53.18181818181818,
          54.03030303030303,
          54.87878787878788,
          55.72727272727273,
          56.57575757575758,
          57.42424242424242,
          58.27272727272727,
          59.121212121212125,
          59.96969696969697,
          60.81818181818182,
          61.66666666666667,
          62.515151515151516,
          63.36363636363637,
          64.21212121212122,
          65.06060606060606,
          65.9090909090909,
          66.75757575757575,
          67.60606060606061,
          68.45454545454545,
          69.30303030303031,
          70.15151515151516,
          71,
          71.84848484848484,
          72.69696969696969,
          73.54545454545455,
          74.3939393939394,
          75.24242424242425,
          76.0909090909091,
          76.93939393939394,
          77.78787878787878,
          78.63636363636364,
          79.48484848484848,
          80.33333333333333,
          81.18181818181819,
          82.03030303030303,
          82.87878787878788,
          83.72727272727273,
          84.57575757575758,
          85.42424242424242,
          86.27272727272728,
          87.12121212121212,
          87.96969696969697,
          88.81818181818183,
          89.66666666666667,
          90.51515151515152,
          91.36363636363636,
          92.21212121212122,
          93.06060606060606,
          93.9090909090909,
          94.75757575757576,
          95.60606060606061,
          96.45454545454545,
          97.30303030303031,
          98.15151515151516,
          99
         ],
         "y": [
          0.010342284723988382,
          0.010894116158659005,
          0.01145261495686208,
          0.01201584905756984,
          0.01258176052328534,
          0.013148176082227816,
          0.013712819348496904,
          0.014273324650409366,
          0.014827252371170954,
          0.015372105680397707,
          0.015905348510219228,
          0.016424424606268362,
          0.01692677746226704,
          0.017409870927618296,
          0.01787121026084092,
          0.018308363388229103,
          0.018718982117125152,
          0.019100823046943483,
          0.019451767918793224,
          0.019769843146357314,
          0.020053238276661906,
          0.020300323139491365,
          0.020509663458370606,
          0.020680034714062386,
          0.020810434073148254,
          0.020900090219138027,
          0.020948470951274663,
          0.020955288446299236,
          0.02092050211039353,
          0.020844318981763848,
          0.020727191678280115,
          0.02056981391863452,
          0.020373113679026413,
          0.02013824407982042,
          0.01986657212738931,
          0.019559665464908223,
          0.01921927731172315,
          0.018847329793644788,
          0.018445895885755625,
          0.018017180204772602,
          0.017563498899469707,
          0.017087258895004676,
          0.016590936750165746,
          0.016077057385595325,
          0.01554817293607373,
          0.01500684197115059,
          0.014455609316055556,
          0.013896986689227299,
          0.01333343435434717,
          0.012767343963871301,
          0.012201022748175307,
          0.01163667918003366,
          0.011076410218737913,
          0.010522190212199405,
          0.009975861509359831,
          0.009439126809602748,
          0.008913543251048258,
          0.008400518216013226,
          0.007901306809878491,
          0.007417010949422374,
          0.006948579978605545,
          0.006496812714018634,
          0.006062360808870276,
          0.005645733313582431,
          0.005247302302801814,
          0.0048673094329105505,
          0.0045058732908567324,
          0.0041629973942170825,
          0.0038385787037000805,
          0.0035324165126198992,
          0.003244221583013502,
          0.0029736254048106092,
          0.0027201894625609162,
          0.0024834144034293986,
          0.00226274901024184,
          0.0020575988940557846,
          0.0018673348318118007,
          0.0016913006858644193,
          0.0015288208533953125,
          0.001379207204686132,
          0.0012417654798095405,
          0.0011158011233412442,
          0.0010006245460838735,
          0.0008955558114297879,
          0.0007999287518024448,
          0.0007130945275550328,
          0.0006344246467430367,
          0.0005633134693157281,
          0.0004991802235001611,
          0.0004414705655054066,
          0.00038965771619381027,
          0.00034324321010011777,
          0.00030175729318806014,
          0.0002647590060833805,
          0.0002318359892833454,
          0.00020260404608880798,
          0.00017670649781034934,
          0.00015381336423838757,
          0.00013362040050973384,
          0.00011584801941793138
         ]
        }
       ],
       "layout": {
        "annotations": [
         {
          "bordercolor": "rgb(239,85,59)",
          "borderwidth": 2,
          "font": {
           "color": "rgb(239,85,59)",
           "size": 15
          },
          "showarrow": false,
          "text": "0.113",
          "x": 15,
          "xshift": -40,
          "y": 0.010342284723988382,
          "yshift": -100
         },
         {
          "bordercolor": "rgb(100,110,250)",
          "borderwidth": 2,
          "font": {
           "color": "rgb(100,110,250)",
           "size": 15
          },
          "showarrow": false,
          "text": "0.887",
          "x": 15,
          "xshift": 40,
          "y": 0.010342284723988382,
          "yshift": -100
         }
        ],
        "template": {
         "data": {
          "bar": [
           {
            "error_x": {
             "color": "#2a3f5f"
            },
            "error_y": {
             "color": "#2a3f5f"
            },
            "marker": {
             "line": {
              "color": "#E5ECF6",
              "width": 0.5
             },
             "pattern": {
              "fillmode": "overlay",
              "size": 10,
              "solidity": 0.2
             }
            },
            "type": "bar"
           }
          ],
          "barpolar": [
           {
            "marker": {
             "line": {
              "color": "#E5ECF6",
              "width": 0.5
             },
             "pattern": {
              "fillmode": "overlay",
              "size": 10,
              "solidity": 0.2
             }
            },
            "type": "barpolar"
           }
          ],
          "carpet": [
           {
            "aaxis": {
             "endlinecolor": "#2a3f5f",
             "gridcolor": "white",
             "linecolor": "white",
             "minorgridcolor": "white",
             "startlinecolor": "#2a3f5f"
            },
            "baxis": {
             "endlinecolor": "#2a3f5f",
             "gridcolor": "white",
             "linecolor": "white",
             "minorgridcolor": "white",
             "startlinecolor": "#2a3f5f"
            },
            "type": "carpet"
           }
          ],
          "choropleth": [
           {
            "colorbar": {
             "outlinewidth": 0,
             "ticks": ""
            },
            "type": "choropleth"
           }
          ],
          "contour": [
           {
            "colorbar": {
             "outlinewidth": 0,
             "ticks": ""
            },
            "colorscale": [
             [
              0,
              "#0d0887"
             ],
             [
              0.1111111111111111,
              "#46039f"
             ],
             [
              0.2222222222222222,
              "#7201a8"
             ],
             [
              0.3333333333333333,
              "#9c179e"
             ],
             [
              0.4444444444444444,
              "#bd3786"
             ],
             [
              0.5555555555555556,
              "#d8576b"
             ],
             [
              0.6666666666666666,
              "#ed7953"
             ],
             [
              0.7777777777777778,
              "#fb9f3a"
             ],
             [
              0.8888888888888888,
              "#fdca26"
             ],
             [
              1,
              "#f0f921"
             ]
            ],
            "type": "contour"
           }
          ],
          "contourcarpet": [
           {
            "colorbar": {
             "outlinewidth": 0,
             "ticks": ""
            },
            "type": "contourcarpet"
           }
          ],
          "heatmap": [
           {
            "colorbar": {
             "outlinewidth": 0,
             "ticks": ""
            },
            "colorscale": [
             [
              0,
              "#0d0887"
             ],
             [
              0.1111111111111111,
              "#46039f"
             ],
             [
              0.2222222222222222,
              "#7201a8"
             ],
             [
              0.3333333333333333,
              "#9c179e"
             ],
             [
              0.4444444444444444,
              "#bd3786"
             ],
             [
              0.5555555555555556,
              "#d8576b"
             ],
             [
              0.6666666666666666,
              "#ed7953"
             ],
             [
              0.7777777777777778,
              "#fb9f3a"
             ],
             [
              0.8888888888888888,
              "#fdca26"
             ],
             [
              1,
              "#f0f921"
             ]
            ],
            "type": "heatmap"
           }
          ],
          "heatmapgl": [
           {
            "colorbar": {
             "outlinewidth": 0,
             "ticks": ""
            },
            "colorscale": [
             [
              0,
              "#0d0887"
             ],
             [
              0.1111111111111111,
              "#46039f"
             ],
             [
              0.2222222222222222,
              "#7201a8"
             ],
             [
              0.3333333333333333,
              "#9c179e"
             ],
             [
              0.4444444444444444,
              "#bd3786"
             ],
             [
              0.5555555555555556,
              "#d8576b"
             ],
             [
              0.6666666666666666,
              "#ed7953"
             ],
             [
              0.7777777777777778,
              "#fb9f3a"
             ],
             [
              0.8888888888888888,
              "#fdca26"
             ],
             [
              1,
              "#f0f921"
             ]
            ],
            "type": "heatmapgl"
           }
          ],
          "histogram": [
           {
            "marker": {
             "pattern": {
              "fillmode": "overlay",
              "size": 10,
              "solidity": 0.2
             }
            },
            "type": "histogram"
           }
          ],
          "histogram2d": [
           {
            "colorbar": {
             "outlinewidth": 0,
             "ticks": ""
            },
            "colorscale": [
             [
              0,
              "#0d0887"
             ],
             [
              0.1111111111111111,
              "#46039f"
             ],
             [
              0.2222222222222222,
              "#7201a8"
             ],
             [
              0.3333333333333333,
              "#9c179e"
             ],
             [
              0.4444444444444444,
              "#bd3786"
             ],
             [
              0.5555555555555556,
              "#d8576b"
             ],
             [
              0.6666666666666666,
              "#ed7953"
             ],
             [
              0.7777777777777778,
              "#fb9f3a"
             ],
             [
              0.8888888888888888,
              "#fdca26"
             ],
             [
              1,
              "#f0f921"
             ]
            ],
            "type": "histogram2d"
           }
          ],
          "histogram2dcontour": [
           {
            "colorbar": {
             "outlinewidth": 0,
             "ticks": ""
            },
            "colorscale": [
             [
              0,
              "#0d0887"
             ],
             [
              0.1111111111111111,
              "#46039f"
             ],
             [
              0.2222222222222222,
              "#7201a8"
             ],
             [
              0.3333333333333333,
              "#9c179e"
             ],
             [
              0.4444444444444444,
              "#bd3786"
             ],
             [
              0.5555555555555556,
              "#d8576b"
             ],
             [
              0.6666666666666666,
              "#ed7953"
             ],
             [
              0.7777777777777778,
              "#fb9f3a"
             ],
             [
              0.8888888888888888,
              "#fdca26"
             ],
             [
              1,
              "#f0f921"
             ]
            ],
            "type": "histogram2dcontour"
           }
          ],
          "mesh3d": [
           {
            "colorbar": {
             "outlinewidth": 0,
             "ticks": ""
            },
            "type": "mesh3d"
           }
          ],
          "parcoords": [
           {
            "line": {
             "colorbar": {
              "outlinewidth": 0,
              "ticks": ""
             }
            },
            "type": "parcoords"
           }
          ],
          "pie": [
           {
            "automargin": true,
            "type": "pie"
           }
          ],
          "scatter": [
           {
            "marker": {
             "colorbar": {
              "outlinewidth": 0,
              "ticks": ""
             }
            },
            "type": "scatter"
           }
          ],
          "scatter3d": [
           {
            "line": {
             "colorbar": {
              "outlinewidth": 0,
              "ticks": ""
             }
            },
            "marker": {
             "colorbar": {
              "outlinewidth": 0,
              "ticks": ""
             }
            },
            "type": "scatter3d"
           }
          ],
          "scattercarpet": [
           {
            "marker": {
             "colorbar": {
              "outlinewidth": 0,
              "ticks": ""
             }
            },
            "type": "scattercarpet"
           }
          ],
          "scattergeo": [
           {
            "marker": {
             "colorbar": {
              "outlinewidth": 0,
              "ticks": ""
             }
            },
            "type": "scattergeo"
           }
          ],
          "scattergl": [
           {
            "marker": {
             "colorbar": {
              "outlinewidth": 0,
              "ticks": ""
             }
            },
            "type": "scattergl"
           }
          ],
          "scattermapbox": [
           {
            "marker": {
             "colorbar": {
              "outlinewidth": 0,
              "ticks": ""
             }
            },
            "type": "scattermapbox"
           }
          ],
          "scatterpolar": [
           {
            "marker": {
             "colorbar": {
              "outlinewidth": 0,
              "ticks": ""
             }
            },
            "type": "scatterpolar"
           }
          ],
          "scatterpolargl": [
           {
            "marker": {
             "colorbar": {
              "outlinewidth": 0,
              "ticks": ""
             }
            },
            "type": "scatterpolargl"
           }
          ],
          "scatterternary": [
           {
            "marker": {
             "colorbar": {
              "outlinewidth": 0,
              "ticks": ""
             }
            },
            "type": "scatterternary"
           }
          ],
          "surface": [
           {
            "colorbar": {
             "outlinewidth": 0,
             "ticks": ""
            },
            "colorscale": [
             [
              0,
              "#0d0887"
             ],
             [
              0.1111111111111111,
              "#46039f"
             ],
             [
              0.2222222222222222,
              "#7201a8"
             ],
             [
              0.3333333333333333,
              "#9c179e"
             ],
             [
              0.4444444444444444,
              "#bd3786"
             ],
             [
              0.5555555555555556,
              "#d8576b"
             ],
             [
              0.6666666666666666,
              "#ed7953"
             ],
             [
              0.7777777777777778,
              "#fb9f3a"
             ],
             [
              0.8888888888888888,
              "#fdca26"
             ],
             [
              1,
              "#f0f921"
             ]
            ],
            "type": "surface"
           }
          ],
          "table": [
           {
            "cells": {
             "fill": {
              "color": "#EBF0F8"
             },
             "line": {
              "color": "white"
             }
            },
            "header": {
             "fill": {
              "color": "#C8D4E3"
             },
             "line": {
              "color": "white"
             }
            },
            "type": "table"
           }
          ]
         },
         "layout": {
          "annotationdefaults": {
           "arrowcolor": "#2a3f5f",
           "arrowhead": 0,
           "arrowwidth": 1
          },
          "autotypenumbers": "strict",
          "coloraxis": {
           "colorbar": {
            "outlinewidth": 0,
            "ticks": ""
           }
          },
          "colorscale": {
           "diverging": [
            [
             0,
             "#8e0152"
            ],
            [
             0.1,
             "#c51b7d"
            ],
            [
             0.2,
             "#de77ae"
            ],
            [
             0.3,
             "#f1b6da"
            ],
            [
             0.4,
             "#fde0ef"
            ],
            [
             0.5,
             "#f7f7f7"
            ],
            [
             0.6,
             "#e6f5d0"
            ],
            [
             0.7,
             "#b8e186"
            ],
            [
             0.8,
             "#7fbc41"
            ],
            [
             0.9,
             "#4d9221"
            ],
            [
             1,
             "#276419"
            ]
           ],
           "sequential": [
            [
             0,
             "#0d0887"
            ],
            [
             0.1111111111111111,
             "#46039f"
            ],
            [
             0.2222222222222222,
             "#7201a8"
            ],
            [
             0.3333333333333333,
             "#9c179e"
            ],
            [
             0.4444444444444444,
             "#bd3786"
            ],
            [
             0.5555555555555556,
             "#d8576b"
            ],
            [
             0.6666666666666666,
             "#ed7953"
            ],
            [
             0.7777777777777778,
             "#fb9f3a"
            ],
            [
             0.8888888888888888,
             "#fdca26"
            ],
            [
             1,
             "#f0f921"
            ]
           ],
           "sequentialminus": [
            [
             0,
             "#0d0887"
            ],
            [
             0.1111111111111111,
             "#46039f"
            ],
            [
             0.2222222222222222,
             "#7201a8"
            ],
            [
             0.3333333333333333,
             "#9c179e"
            ],
            [
             0.4444444444444444,
             "#bd3786"
            ],
            [
             0.5555555555555556,
             "#d8576b"
            ],
            [
             0.6666666666666666,
             "#ed7953"
            ],
            [
             0.7777777777777778,
             "#fb9f3a"
            ],
            [
             0.8888888888888888,
             "#fdca26"
            ],
            [
             1,
             "#f0f921"
            ]
           ]
          },
          "colorway": [
           "#636efa",
           "#EF553B",
           "#00cc96",
           "#ab63fa",
           "#FFA15A",
           "#19d3f3",
           "#FF6692",
           "#B6E880",
           "#FF97FF",
           "#FECB52"
          ],
          "font": {
           "color": "#2a3f5f"
          },
          "geo": {
           "bgcolor": "white",
           "lakecolor": "white",
           "landcolor": "#E5ECF6",
           "showlakes": true,
           "showland": true,
           "subunitcolor": "white"
          },
          "hoverlabel": {
           "align": "left"
          },
          "hovermode": "closest",
          "mapbox": {
           "style": "light"
          },
          "paper_bgcolor": "white",
          "plot_bgcolor": "#E5ECF6",
          "polar": {
           "angularaxis": {
            "gridcolor": "white",
            "linecolor": "white",
            "ticks": ""
           },
           "bgcolor": "#E5ECF6",
           "radialaxis": {
            "gridcolor": "white",
            "linecolor": "white",
            "ticks": ""
           }
          },
          "scene": {
           "xaxis": {
            "backgroundcolor": "#E5ECF6",
            "gridcolor": "white",
            "gridwidth": 2,
            "linecolor": "white",
            "showbackground": true,
            "ticks": "",
            "zerolinecolor": "white"
           },
           "yaxis": {
            "backgroundcolor": "#E5ECF6",
            "gridcolor": "white",
            "gridwidth": 2,
            "linecolor": "white",
            "showbackground": true,
            "ticks": "",
            "zerolinecolor": "white"
           },
           "zaxis": {
            "backgroundcolor": "#E5ECF6",
            "gridcolor": "white",
            "gridwidth": 2,
            "linecolor": "white",
            "showbackground": true,
            "ticks": "",
            "zerolinecolor": "white"
           }
          },
          "shapedefaults": {
           "line": {
            "color": "#2a3f5f"
           }
          },
          "ternary": {
           "aaxis": {
            "gridcolor": "white",
            "linecolor": "white",
            "ticks": ""
           },
           "baxis": {
            "gridcolor": "white",
            "linecolor": "white",
            "ticks": ""
           },
           "bgcolor": "#E5ECF6",
           "caxis": {
            "gridcolor": "white",
            "linecolor": "white",
            "ticks": ""
           }
          },
          "title": {
           "x": 0.05
          },
          "xaxis": {
           "automargin": true,
           "gridcolor": "white",
           "linecolor": "white",
           "ticks": "",
           "title": {
            "standoff": 15
           },
           "zerolinecolor": "white",
           "zerolinewidth": 2
          },
          "yaxis": {
           "automargin": true,
           "gridcolor": "white",
           "linecolor": "white",
           "ticks": "",
           "title": {
            "standoff": 15
           },
           "zerolinecolor": "white",
           "zerolinewidth": 2
          }
         }
        },
        "yaxis": {
         "visible": false
        }
       }
      }
     },
     "metadata": {},
     "output_type": "display_data"
    },
    {
     "data": {
      "text/plain": [
       "0.8866811666335976"
      ]
     },
     "execution_count": 16,
     "metadata": {},
     "output_type": "execute_result"
    }
   ],
   "source": [
    "pm10_pro,pm10_pro_negative = cal_norm(df_air_pollution['pm10Value'].mean(),df_air_pollution['pm10Value'].std(),\n",
    "df_air_pollution['pm10Value'].min(),df_air_pollution['pm10Value'].max(),pm10_standard,False)\n",
    "pm10_pro"
   ]
  },
  {
   "cell_type": "code",
   "execution_count": 17,
   "metadata": {},
   "outputs": [
    {
     "data": {
      "application/vnd.plotly.v1+json": {
       "config": {
        "plotlyServerURL": "https://plot.ly"
       },
       "data": [
        {
         "fill": "tozeroy",
         "line": {
          "color": "rgb(239,85,59)"
         },
         "name": "부적합",
         "type": "scatter",
         "x": [
          -8.04725669729813,
          -7.864961175103199,
          -7.682665652908268,
          -7.500370130713337,
          -7.3180746085184065,
          -7.135779086323477,
          -6.953483564128546,
          -6.771188041933615,
          -6.5888925197386845,
          -6.406596997543754,
          -6.224301475348823,
          -6.042005953153893,
          -5.8597104309589625,
          -5.677414908764032,
          -5.495119386569101,
          -5.31282386437417,
          -5.13052834217924,
          -4.948232819984309,
          -4.765937297789378,
          -4.583641775594447,
          -4.401346253399517,
          -4.219050731204586,
          -4.036755209009656,
          -3.8544596868147254,
          -3.6721641646197947,
          -3.489868642424864,
          -3.307573120229933,
          -3.1252775980350025,
          -2.9429820758400727,
          -2.760686553645142,
          -2.578391031450211,
          -2.3960955092552805,
          -2.2137999870603497,
          -2.031504464865419,
          -1.8492089426704883,
          -1.6669134204755576,
          -1.4846178982806268,
          -1.302322376085697,
          -1.1200268538907663,
          -0.9377313316958356,
          -0.7554358095009048,
          -0.5731402873059741,
          -0.3908447651110434,
          -0.20854924291611265,
          -0.026253720721182816,
          0.1560418014737479,
          0.33833732366867864,
          0.5206328458636094,
          0.7029283680585401,
          0.8852238902534708,
          1.0675194124484015,
          1.2498149346433323,
          1.432110456838263,
          1.6144059790331937,
          1.7967015012281244,
          1.9789970234230552,
          2.161292545617984,
          2.343588067812915,
          2.5258835900078456,
          2.7081791122027763,
          2.890474634397707,
          3.0727701565926377,
          3.2550656787875685,
          3.437361200982499,
          3.61965672317743,
          3.8019522453723607,
          3.9842477675672914,
          4.166543289762222,
          4.348838811957153,
          4.5311343341520836,
          4.713429856347014,
          4.895725378541945,
          5.078020900736876,
          5.260316422931805,
          5.442611945126735,
          5.624907467321666,
          5.807202989516597,
          5.989498511711528,
          6.171794033906458,
          6.354089556101389,
          6.53638507829632,
          6.7186806004912505,
          6.900976122686181,
          7.083271644881112,
          7.265567167076043,
          7.447862689270973,
          7.630158211465904,
          7.812453733660835,
          7.994749255855764,
          8.177044778050695,
          8.359340300245625,
          8.541635822440556,
          8.723931344635487,
          8.906226866830417,
          9.088522389025348,
          9.270817911220279,
          9.45311343341521,
          9.63540895561014,
          9.817704477805071,
          10
         ],
         "y": [
          0.001172646105936993,
          0.0012242519441112978,
          0.001277780869782717,
          0.0013332871828091368,
          0.001390825899368388,
          0.0014504527218693493,
          0.0015122240066062953,
          0.001576196729113076,
          0.0016424284471762917,
          0.001710977261469505,
          0.0017819017737734897,
          0.0018552610427507576,
          0.0019311145372460409,
          0.0020095220870880296,
          0.0020905438313715175,
          0.0021742401642031047,
          0.0022606716778979354,
          0.0023498991036193114,
          0.0024419832494577283,
          0.0025369849359506524,
          0.0026349649290494724,
          0.002735983870545165,
          0.0028401022059697206,
          0.0029473801099957823,
          0.0030578774093628696,
          0.003171653503364239,
          0.003288767281934653,
          0.003409277041385302,
          0.0035332403978386353,
          0.003660714198422082,
          0.0037917544302862546,
          0.003926416127519882,
          0.004064753276040256,
          0.004206818716544993,
          0.004352664045617394,
          0.00450233951508488,
          0.004655893929736539,
          0.004813374543513005,
          0.004974826954288446,
          0.0051402949973714685,
          0.005309820637858545,
          0.005483443861980154,
          0.005661202567586541,
          0.00584313245392659,
          0.006029266910879571,
          0.006219636907805924,
          0.006414270882189239,
          0.006613194628247576,
          0.006816431185697904,
          0.0070240007288630245,
          0.00723592045631544,
          0.007452204481257707,
          0.007672863722843466,
          0.007897905798647652,
          0.008127334918498513,
          0.008361151779887667,
          0.008599353465177867,
          0.008841933340830879,
          0.009088880958880729,
          0.009340181960879202,
          0.009595817984542777,
          0.009855766573330597,
          0.010120001089184691,
          0.010388490628662967,
          0.010661199942696181,
          0.010938089360198366,
          0.01121911471575979,
          0.011504227281648889,
          0.011793373704347842,
          0.012086495945842978,
          0.012383531229888212,
          0.012684411993455083,
          0.012989065843578788,
          0.013297415519803976,
          0.013609378862428604,
          0.013924868786737325,
          0.014243793263409452,
          0.014566055305278467,
          0.014891552960612344,
          0.015220179313074943,
          0.015551822488519895,
          0.01588636566875816,
          0.016223687112430652,
          0.016563660183106035,
          0.01690615338471294,
          0.017251030404403563,
          0.01759815016293394,
          0.017947366872632778,
          0.018298530103018403,
          0.01865148485410907,
          0.0190060716374586,
          0.019362126564934766,
          0.01971948144524333,
          0.020077963888185817,
          0.020437397416624124,
          0.020797601586109417,
          0.021158392112117733,
          0.021519581004818485,
          0.021880976711286866,
          0.022242384265054718
         ]
        },
        {
         "fill": "tozeroy",
         "line": {
          "color": "rgb(100,110,250)"
         },
         "name": "적합",
         "type": "scatter",
         "x": [
          10,
          10.454545454545455,
          10.909090909090908,
          11.363636363636363,
          11.818181818181818,
          12.272727272727273,
          12.727272727272727,
          13.181818181818182,
          13.636363636363637,
          14.09090909090909,
          14.545454545454545,
          15,
          15.454545454545453,
          15.90909090909091,
          16.363636363636363,
          16.81818181818182,
          17.272727272727273,
          17.727272727272727,
          18.18181818181818,
          18.636363636363637,
          19.09090909090909,
          19.545454545454547,
          20,
          20.454545454545453,
          20.909090909090907,
          21.363636363636363,
          21.81818181818182,
          22.272727272727273,
          22.727272727272727,
          23.18181818181818,
          23.636363636363637,
          24.09090909090909,
          24.545454545454547,
          25,
          25.454545454545453,
          25.909090909090907,
          26.363636363636363,
          26.818181818181817,
          27.272727272727273,
          27.727272727272727,
          28.18181818181818,
          28.636363636363637,
          29.09090909090909,
          29.545454545454543,
          30,
          30.454545454545453,
          30.90909090909091,
          31.363636363636363,
          31.818181818181817,
          32.27272727272727,
          32.72727272727273,
          33.18181818181818,
          33.63636363636364,
          34.09090909090909,
          34.54545454545455,
          35,
          35.45454545454545,
          35.90909090909091,
          36.36363636363636,
          36.81818181818181,
          37.27272727272727,
          37.72727272727273,
          38.18181818181818,
          38.63636363636364,
          39.09090909090909,
          39.54545454545455,
          40,
          40.45454545454545,
          40.90909090909091,
          41.36363636363636,
          41.81818181818181,
          42.27272727272727,
          42.72727272727273,
          43.18181818181818,
          43.63636363636363,
          44.090909090909086,
          44.54545454545455,
          45,
          45.45454545454545,
          45.90909090909091,
          46.36363636363636,
          46.81818181818182,
          47.27272727272727,
          47.72727272727273,
          48.18181818181818,
          48.63636363636363,
          49.090909090909086,
          49.54545454545455,
          50,
          50.45454545454545,
          50.90909090909091,
          51.36363636363636,
          51.81818181818182,
          52.27272727272727,
          52.72727272727273,
          53.18181818181818,
          53.63636363636363,
          54.090909090909086,
          54.54545454545455,
          55
         ],
         "y": [
          0.022242384265054718,
          0.02314228827135798,
          0.024037871935210686,
          0.02492587963582897,
          0.025802971838889303,
          0.026665744998857675,
          0.02751075272926608,
          0.028334528067114815,
          0.029133606638461155,
          0.02990455051514969,
          0.030643972537874622,
          0.03134856086864076,
          0.03201510352647128,
          0.03264051265411697,
          0.03322184826072829,
          0.03375634118607953,
          0.034241415036048564,
          0.034674706846666285,
          0.035054086245102006,
          0.035377672890337844,
          0.03564385199383239,
          0.035851287740960164,
          0.03599893445715678,
          0.03608604538817536,
          0.036112178991298316,
          0.0360772026633438,
          0.03598129386142521,
          0.03582493860320954,
          0.03560892736440911,
          0.035334348421960975,
          0.03500257872133178,
          0.03461527237518268,
          0.03417434692780713,
          0.03368196754491447,
          0.033140529311110244,
          0.032552637837500654,
          0.031921088398951525,
          0.03124884383444459,
          0.03053901145453419,
          0.029794819207012862,
          0.0290195913555027,
          0.028216723925816145,
          0.02738966017165008,
          0.026541866304619452,
          0.025676807723982772,
          0.024797925968888315,
          0.02390861660084727,
          0.023012208206721903,
          0.022111942693136915,
          0.02121095702223531,
          0.020312266516476087,
          0.019418749837086333,
          0.018533135717212226,
          0.017657991507132036,
          0.016795713565456092,
          0.01594851950738331,
          0.015118442299122077,
          0.014307326166802359,
          0.013516824268855374,
          0.012748398063133595,
          0.012003318284165173,
          0.01128266743202104,
          0.010587343662419356,
          0.009918065957960336,
          0.009275380452795452,
          0.008659667777574303,
          0.008071151288131634,
          0.0075099060399944385,
          0.006975868371299742,
          0.0064688459589837604,
          0.005988528216982999,
          0.005534496910509002,
          0.005106236867042211,
          0.0047031466723492735,
          0.004324549248371807,
          0.003969702219070992,
          0.0036378079800544237,
          0.003328023397877109,
          0.0030394690751250997,
          0.002771238127596836,
          0.0025224044299460642,
          0.0022920302959082216,
          0.002079173568582846,
          0.0018828941050872611,
          0.0017022596481488831,
          0.0015363510847982006,
          0.001384267099212812,
          0.0012451282329107734,
          0.0011180803708807018,
          0.0010022976768617946,
          0.0008969850048574562,
          0.0008013798171007809,
          0.0007147536411181835,
          0.0006364131002964639,
          0.0005657005534928775,
          0.0005019943797873119,
          0.00044470894451369364,
          0.0003932942822807461,
          0.0003472355318573219,
          0.00030605215661245474
         ]
        }
       ],
       "layout": {
        "annotations": [
         {
          "bordercolor": "rgb(239,85,59)",
          "borderwidth": 2,
          "font": {
           "color": "rgb(239,85,59)",
           "size": 15
          },
          "showarrow": false,
          "text": "0.158",
          "x": 10,
          "xshift": -40,
          "y": 0.022242384265054718,
          "yshift": -100
         },
         {
          "bordercolor": "rgb(100,110,250)",
          "borderwidth": 2,
          "font": {
           "color": "rgb(100,110,250)",
           "size": 15
          },
          "showarrow": false,
          "text": "0.842",
          "x": 10,
          "xshift": 40,
          "y": 0.022242384265054718,
          "yshift": -100
         }
        ],
        "template": {
         "data": {
          "bar": [
           {
            "error_x": {
             "color": "#2a3f5f"
            },
            "error_y": {
             "color": "#2a3f5f"
            },
            "marker": {
             "line": {
              "color": "#E5ECF6",
              "width": 0.5
             },
             "pattern": {
              "fillmode": "overlay",
              "size": 10,
              "solidity": 0.2
             }
            },
            "type": "bar"
           }
          ],
          "barpolar": [
           {
            "marker": {
             "line": {
              "color": "#E5ECF6",
              "width": 0.5
             },
             "pattern": {
              "fillmode": "overlay",
              "size": 10,
              "solidity": 0.2
             }
            },
            "type": "barpolar"
           }
          ],
          "carpet": [
           {
            "aaxis": {
             "endlinecolor": "#2a3f5f",
             "gridcolor": "white",
             "linecolor": "white",
             "minorgridcolor": "white",
             "startlinecolor": "#2a3f5f"
            },
            "baxis": {
             "endlinecolor": "#2a3f5f",
             "gridcolor": "white",
             "linecolor": "white",
             "minorgridcolor": "white",
             "startlinecolor": "#2a3f5f"
            },
            "type": "carpet"
           }
          ],
          "choropleth": [
           {
            "colorbar": {
             "outlinewidth": 0,
             "ticks": ""
            },
            "type": "choropleth"
           }
          ],
          "contour": [
           {
            "colorbar": {
             "outlinewidth": 0,
             "ticks": ""
            },
            "colorscale": [
             [
              0,
              "#0d0887"
             ],
             [
              0.1111111111111111,
              "#46039f"
             ],
             [
              0.2222222222222222,
              "#7201a8"
             ],
             [
              0.3333333333333333,
              "#9c179e"
             ],
             [
              0.4444444444444444,
              "#bd3786"
             ],
             [
              0.5555555555555556,
              "#d8576b"
             ],
             [
              0.6666666666666666,
              "#ed7953"
             ],
             [
              0.7777777777777778,
              "#fb9f3a"
             ],
             [
              0.8888888888888888,
              "#fdca26"
             ],
             [
              1,
              "#f0f921"
             ]
            ],
            "type": "contour"
           }
          ],
          "contourcarpet": [
           {
            "colorbar": {
             "outlinewidth": 0,
             "ticks": ""
            },
            "type": "contourcarpet"
           }
          ],
          "heatmap": [
           {
            "colorbar": {
             "outlinewidth": 0,
             "ticks": ""
            },
            "colorscale": [
             [
              0,
              "#0d0887"
             ],
             [
              0.1111111111111111,
              "#46039f"
             ],
             [
              0.2222222222222222,
              "#7201a8"
             ],
             [
              0.3333333333333333,
              "#9c179e"
             ],
             [
              0.4444444444444444,
              "#bd3786"
             ],
             [
              0.5555555555555556,
              "#d8576b"
             ],
             [
              0.6666666666666666,
              "#ed7953"
             ],
             [
              0.7777777777777778,
              "#fb9f3a"
             ],
             [
              0.8888888888888888,
              "#fdca26"
             ],
             [
              1,
              "#f0f921"
             ]
            ],
            "type": "heatmap"
           }
          ],
          "heatmapgl": [
           {
            "colorbar": {
             "outlinewidth": 0,
             "ticks": ""
            },
            "colorscale": [
             [
              0,
              "#0d0887"
             ],
             [
              0.1111111111111111,
              "#46039f"
             ],
             [
              0.2222222222222222,
              "#7201a8"
             ],
             [
              0.3333333333333333,
              "#9c179e"
             ],
             [
              0.4444444444444444,
              "#bd3786"
             ],
             [
              0.5555555555555556,
              "#d8576b"
             ],
             [
              0.6666666666666666,
              "#ed7953"
             ],
             [
              0.7777777777777778,
              "#fb9f3a"
             ],
             [
              0.8888888888888888,
              "#fdca26"
             ],
             [
              1,
              "#f0f921"
             ]
            ],
            "type": "heatmapgl"
           }
          ],
          "histogram": [
           {
            "marker": {
             "pattern": {
              "fillmode": "overlay",
              "size": 10,
              "solidity": 0.2
             }
            },
            "type": "histogram"
           }
          ],
          "histogram2d": [
           {
            "colorbar": {
             "outlinewidth": 0,
             "ticks": ""
            },
            "colorscale": [
             [
              0,
              "#0d0887"
             ],
             [
              0.1111111111111111,
              "#46039f"
             ],
             [
              0.2222222222222222,
              "#7201a8"
             ],
             [
              0.3333333333333333,
              "#9c179e"
             ],
             [
              0.4444444444444444,
              "#bd3786"
             ],
             [
              0.5555555555555556,
              "#d8576b"
             ],
             [
              0.6666666666666666,
              "#ed7953"
             ],
             [
              0.7777777777777778,
              "#fb9f3a"
             ],
             [
              0.8888888888888888,
              "#fdca26"
             ],
             [
              1,
              "#f0f921"
             ]
            ],
            "type": "histogram2d"
           }
          ],
          "histogram2dcontour": [
           {
            "colorbar": {
             "outlinewidth": 0,
             "ticks": ""
            },
            "colorscale": [
             [
              0,
              "#0d0887"
             ],
             [
              0.1111111111111111,
              "#46039f"
             ],
             [
              0.2222222222222222,
              "#7201a8"
             ],
             [
              0.3333333333333333,
              "#9c179e"
             ],
             [
              0.4444444444444444,
              "#bd3786"
             ],
             [
              0.5555555555555556,
              "#d8576b"
             ],
             [
              0.6666666666666666,
              "#ed7953"
             ],
             [
              0.7777777777777778,
              "#fb9f3a"
             ],
             [
              0.8888888888888888,
              "#fdca26"
             ],
             [
              1,
              "#f0f921"
             ]
            ],
            "type": "histogram2dcontour"
           }
          ],
          "mesh3d": [
           {
            "colorbar": {
             "outlinewidth": 0,
             "ticks": ""
            },
            "type": "mesh3d"
           }
          ],
          "parcoords": [
           {
            "line": {
             "colorbar": {
              "outlinewidth": 0,
              "ticks": ""
             }
            },
            "type": "parcoords"
           }
          ],
          "pie": [
           {
            "automargin": true,
            "type": "pie"
           }
          ],
          "scatter": [
           {
            "marker": {
             "colorbar": {
              "outlinewidth": 0,
              "ticks": ""
             }
            },
            "type": "scatter"
           }
          ],
          "scatter3d": [
           {
            "line": {
             "colorbar": {
              "outlinewidth": 0,
              "ticks": ""
             }
            },
            "marker": {
             "colorbar": {
              "outlinewidth": 0,
              "ticks": ""
             }
            },
            "type": "scatter3d"
           }
          ],
          "scattercarpet": [
           {
            "marker": {
             "colorbar": {
              "outlinewidth": 0,
              "ticks": ""
             }
            },
            "type": "scattercarpet"
           }
          ],
          "scattergeo": [
           {
            "marker": {
             "colorbar": {
              "outlinewidth": 0,
              "ticks": ""
             }
            },
            "type": "scattergeo"
           }
          ],
          "scattergl": [
           {
            "marker": {
             "colorbar": {
              "outlinewidth": 0,
              "ticks": ""
             }
            },
            "type": "scattergl"
           }
          ],
          "scattermapbox": [
           {
            "marker": {
             "colorbar": {
              "outlinewidth": 0,
              "ticks": ""
             }
            },
            "type": "scattermapbox"
           }
          ],
          "scatterpolar": [
           {
            "marker": {
             "colorbar": {
              "outlinewidth": 0,
              "ticks": ""
             }
            },
            "type": "scatterpolar"
           }
          ],
          "scatterpolargl": [
           {
            "marker": {
             "colorbar": {
              "outlinewidth": 0,
              "ticks": ""
             }
            },
            "type": "scatterpolargl"
           }
          ],
          "scatterternary": [
           {
            "marker": {
             "colorbar": {
              "outlinewidth": 0,
              "ticks": ""
             }
            },
            "type": "scatterternary"
           }
          ],
          "surface": [
           {
            "colorbar": {
             "outlinewidth": 0,
             "ticks": ""
            },
            "colorscale": [
             [
              0,
              "#0d0887"
             ],
             [
              0.1111111111111111,
              "#46039f"
             ],
             [
              0.2222222222222222,
              "#7201a8"
             ],
             [
              0.3333333333333333,
              "#9c179e"
             ],
             [
              0.4444444444444444,
              "#bd3786"
             ],
             [
              0.5555555555555556,
              "#d8576b"
             ],
             [
              0.6666666666666666,
              "#ed7953"
             ],
             [
              0.7777777777777778,
              "#fb9f3a"
             ],
             [
              0.8888888888888888,
              "#fdca26"
             ],
             [
              1,
              "#f0f921"
             ]
            ],
            "type": "surface"
           }
          ],
          "table": [
           {
            "cells": {
             "fill": {
              "color": "#EBF0F8"
             },
             "line": {
              "color": "white"
             }
            },
            "header": {
             "fill": {
              "color": "#C8D4E3"
             },
             "line": {
              "color": "white"
             }
            },
            "type": "table"
           }
          ]
         },
         "layout": {
          "annotationdefaults": {
           "arrowcolor": "#2a3f5f",
           "arrowhead": 0,
           "arrowwidth": 1
          },
          "autotypenumbers": "strict",
          "coloraxis": {
           "colorbar": {
            "outlinewidth": 0,
            "ticks": ""
           }
          },
          "colorscale": {
           "diverging": [
            [
             0,
             "#8e0152"
            ],
            [
             0.1,
             "#c51b7d"
            ],
            [
             0.2,
             "#de77ae"
            ],
            [
             0.3,
             "#f1b6da"
            ],
            [
             0.4,
             "#fde0ef"
            ],
            [
             0.5,
             "#f7f7f7"
            ],
            [
             0.6,
             "#e6f5d0"
            ],
            [
             0.7,
             "#b8e186"
            ],
            [
             0.8,
             "#7fbc41"
            ],
            [
             0.9,
             "#4d9221"
            ],
            [
             1,
             "#276419"
            ]
           ],
           "sequential": [
            [
             0,
             "#0d0887"
            ],
            [
             0.1111111111111111,
             "#46039f"
            ],
            [
             0.2222222222222222,
             "#7201a8"
            ],
            [
             0.3333333333333333,
             "#9c179e"
            ],
            [
             0.4444444444444444,
             "#bd3786"
            ],
            [
             0.5555555555555556,
             "#d8576b"
            ],
            [
             0.6666666666666666,
             "#ed7953"
            ],
            [
             0.7777777777777778,
             "#fb9f3a"
            ],
            [
             0.8888888888888888,
             "#fdca26"
            ],
            [
             1,
             "#f0f921"
            ]
           ],
           "sequentialminus": [
            [
             0,
             "#0d0887"
            ],
            [
             0.1111111111111111,
             "#46039f"
            ],
            [
             0.2222222222222222,
             "#7201a8"
            ],
            [
             0.3333333333333333,
             "#9c179e"
            ],
            [
             0.4444444444444444,
             "#bd3786"
            ],
            [
             0.5555555555555556,
             "#d8576b"
            ],
            [
             0.6666666666666666,
             "#ed7953"
            ],
            [
             0.7777777777777778,
             "#fb9f3a"
            ],
            [
             0.8888888888888888,
             "#fdca26"
            ],
            [
             1,
             "#f0f921"
            ]
           ]
          },
          "colorway": [
           "#636efa",
           "#EF553B",
           "#00cc96",
           "#ab63fa",
           "#FFA15A",
           "#19d3f3",
           "#FF6692",
           "#B6E880",
           "#FF97FF",
           "#FECB52"
          ],
          "font": {
           "color": "#2a3f5f"
          },
          "geo": {
           "bgcolor": "white",
           "lakecolor": "white",
           "landcolor": "#E5ECF6",
           "showlakes": true,
           "showland": true,
           "subunitcolor": "white"
          },
          "hoverlabel": {
           "align": "left"
          },
          "hovermode": "closest",
          "mapbox": {
           "style": "light"
          },
          "paper_bgcolor": "white",
          "plot_bgcolor": "#E5ECF6",
          "polar": {
           "angularaxis": {
            "gridcolor": "white",
            "linecolor": "white",
            "ticks": ""
           },
           "bgcolor": "#E5ECF6",
           "radialaxis": {
            "gridcolor": "white",
            "linecolor": "white",
            "ticks": ""
           }
          },
          "scene": {
           "xaxis": {
            "backgroundcolor": "#E5ECF6",
            "gridcolor": "white",
            "gridwidth": 2,
            "linecolor": "white",
            "showbackground": true,
            "ticks": "",
            "zerolinecolor": "white"
           },
           "yaxis": {
            "backgroundcolor": "#E5ECF6",
            "gridcolor": "white",
            "gridwidth": 2,
            "linecolor": "white",
            "showbackground": true,
            "ticks": "",
            "zerolinecolor": "white"
           },
           "zaxis": {
            "backgroundcolor": "#E5ECF6",
            "gridcolor": "white",
            "gridwidth": 2,
            "linecolor": "white",
            "showbackground": true,
            "ticks": "",
            "zerolinecolor": "white"
           }
          },
          "shapedefaults": {
           "line": {
            "color": "#2a3f5f"
           }
          },
          "ternary": {
           "aaxis": {
            "gridcolor": "white",
            "linecolor": "white",
            "ticks": ""
           },
           "baxis": {
            "gridcolor": "white",
            "linecolor": "white",
            "ticks": ""
           },
           "bgcolor": "#E5ECF6",
           "caxis": {
            "gridcolor": "white",
            "linecolor": "white",
            "ticks": ""
           }
          },
          "title": {
           "x": 0.05
          },
          "xaxis": {
           "automargin": true,
           "gridcolor": "white",
           "linecolor": "white",
           "ticks": "",
           "title": {
            "standoff": 15
           },
           "zerolinecolor": "white",
           "zerolinewidth": 2
          },
          "yaxis": {
           "automargin": true,
           "gridcolor": "white",
           "linecolor": "white",
           "ticks": "",
           "title": {
            "standoff": 15
           },
           "zerolinecolor": "white",
           "zerolinewidth": 2
          }
         }
        },
        "yaxis": {
         "visible": false
        }
       }
      }
     },
     "metadata": {},
     "output_type": "display_data"
    },
    {
     "data": {
      "text/plain": [
       "0.8415688322677302"
      ]
     },
     "execution_count": 17,
     "metadata": {},
     "output_type": "execute_result"
    }
   ],
   "source": [
    "pm25_pro,pm25_pro_negative = cal_norm(df_air_pollution['pm25Value'].mean(),df_air_pollution['pm25Value'].std(),\n",
    "df_air_pollution['pm25Value'].min(),df_air_pollution['pm25Value'].max(),pm25_standard,False)\n",
    "pm25_pro"
   ]
  },
  {
   "cell_type": "markdown",
   "metadata": {
    "collapsed": false
   },
   "source": [
    "## 상위 요소 - 사회적 요인"
   ]
  },
  {
   "cell_type": "markdown",
   "metadata": {
    "collapsed": false
   },
   "source": [
    "### 고정인구 인구밀도 "
   ]
  },
  {
   "cell_type": "code",
   "execution_count": 18,
   "metadata": {
    "collapsed": false,
    "pycharm": {
     "name": "#%%\n"
    }
   },
   "outputs": [
    {
     "data": {
      "text/html": [
       "<div>\n",
       "<style scoped>\n",
       "    .dataframe tbody tr th:only-of-type {\n",
       "        vertical-align: middle;\n",
       "    }\n",
       "\n",
       "    .dataframe tbody tr th {\n",
       "        vertical-align: top;\n",
       "    }\n",
       "\n",
       "    .dataframe thead th {\n",
       "        text-align: right;\n",
       "    }\n",
       "</style>\n",
       "<table border=\"1\" class=\"dataframe\">\n",
       "  <thead>\n",
       "    <tr style=\"text-align: right;\">\n",
       "      <th></th>\n",
       "      <th>행정구역(시군구)별</th>\n",
       "      <th>행정구역(동읍면)별</th>\n",
       "      <th>총인구수 (명)</th>\n",
       "      <th>면적(km^2)</th>\n",
       "      <th>인구밀도(km^2)</th>\n",
       "    </tr>\n",
       "  </thead>\n",
       "  <tbody>\n",
       "    <tr>\n",
       "      <th>0</th>\n",
       "      <td>강서구</td>\n",
       "      <td>가덕도동</td>\n",
       "      <td>4081</td>\n",
       "      <td>19.42</td>\n",
       "      <td>210.0</td>\n",
       "    </tr>\n",
       "    <tr>\n",
       "      <th>1</th>\n",
       "      <td>강서구</td>\n",
       "      <td>가락동</td>\n",
       "      <td>2312</td>\n",
       "      <td>14.09</td>\n",
       "      <td>164.0</td>\n",
       "    </tr>\n",
       "    <tr>\n",
       "      <th>2</th>\n",
       "      <td>강서구</td>\n",
       "      <td>강동동</td>\n",
       "      <td>4179</td>\n",
       "      <td>16.31</td>\n",
       "      <td>256.0</td>\n",
       "    </tr>\n",
       "    <tr>\n",
       "      <th>3</th>\n",
       "      <td>강서구</td>\n",
       "      <td>녹산동</td>\n",
       "      <td>35872</td>\n",
       "      <td>58.93</td>\n",
       "      <td>609.0</td>\n",
       "    </tr>\n",
       "    <tr>\n",
       "      <th>4</th>\n",
       "      <td>강서구</td>\n",
       "      <td>대저1동</td>\n",
       "      <td>6417</td>\n",
       "      <td>13.66</td>\n",
       "      <td>470.0</td>\n",
       "    </tr>\n",
       "    <tr>\n",
       "      <th>...</th>\n",
       "      <td>...</td>\n",
       "      <td>...</td>\n",
       "      <td>...</td>\n",
       "      <td>...</td>\n",
       "      <td>...</td>\n",
       "    </tr>\n",
       "    <tr>\n",
       "      <th>200</th>\n",
       "      <td>해운대구</td>\n",
       "      <td>좌2동</td>\n",
       "      <td>31635</td>\n",
       "      <td>0.50</td>\n",
       "      <td>63270.0</td>\n",
       "    </tr>\n",
       "    <tr>\n",
       "      <th>201</th>\n",
       "      <td>해운대구</td>\n",
       "      <td>좌3동</td>\n",
       "      <td>15891</td>\n",
       "      <td>0.72</td>\n",
       "      <td>22071.0</td>\n",
       "    </tr>\n",
       "    <tr>\n",
       "      <th>202</th>\n",
       "      <td>해운대구</td>\n",
       "      <td>좌4동</td>\n",
       "      <td>22883</td>\n",
       "      <td>1.80</td>\n",
       "      <td>12713.0</td>\n",
       "    </tr>\n",
       "    <tr>\n",
       "      <th>203</th>\n",
       "      <td>해운대구</td>\n",
       "      <td>중1동</td>\n",
       "      <td>27840</td>\n",
       "      <td>1.73</td>\n",
       "      <td>16092.0</td>\n",
       "    </tr>\n",
       "    <tr>\n",
       "      <th>204</th>\n",
       "      <td>해운대구</td>\n",
       "      <td>중2동</td>\n",
       "      <td>15790</td>\n",
       "      <td>1.16</td>\n",
       "      <td>13612.0</td>\n",
       "    </tr>\n",
       "  </tbody>\n",
       "</table>\n",
       "<p>205 rows × 5 columns</p>\n",
       "</div>"
      ],
      "text/plain": [
       "    행정구역(시군구)별 행정구역(동읍면)별  총인구수 (명)  면적(km^2)  인구밀도(km^2)\n",
       "0          강서구       가덕도동      4081     19.42       210.0\n",
       "1          강서구        가락동      2312     14.09       164.0\n",
       "2          강서구        강동동      4179     16.31       256.0\n",
       "3          강서구        녹산동     35872     58.93       609.0\n",
       "4          강서구       대저1동      6417     13.66       470.0\n",
       "..         ...        ...       ...       ...         ...\n",
       "200       해운대구        좌2동     31635      0.50     63270.0\n",
       "201       해운대구        좌3동     15891      0.72     22071.0\n",
       "202       해운대구        좌4동     22883      1.80     12713.0\n",
       "203       해운대구        중1동     27840      1.73     16092.0\n",
       "204       해운대구        중2동     15790      1.16     13612.0\n",
       "\n",
       "[205 rows x 5 columns]"
      ]
     },
     "execution_count": 18,
     "metadata": {},
     "output_type": "execute_result"
    }
   ],
   "source": [
    "people_file_path = 'C:\\\\Users\\\\SAMSUNG\\\\Desktop\\\\Green-Car-Charging-Station-Site-Selection\\\\Data\\\\행정구역 읍면동 주민등록인구.csv'\n",
    "df_density = pd.read_csv(people_file_path, encoding='cp949')\n",
    "df_density = df_density.sort_values(by=[\"행정구역(시군구)별\",\"행정구역(동읍면)별\"],ascending=True).reset_index(drop=True)\n",
    "df_density"
   ]
  },
  {
   "cell_type": "code",
   "execution_count": 19,
   "metadata": {},
   "outputs": [
    {
     "data": {
      "application/vnd.plotly.v1+json": {
       "config": {
        "plotlyServerURL": "https://plot.ly"
       },
       "data": [
        {
         "fill": "tozeroy",
         "line": {
          "color": "rgb(239,85,59)"
         },
         "name": "부적합",
         "type": "scatter",
         "x": [
          -22539.356006511385,
          -22109.66554179915,
          -21679.975077086914,
          -21250.284612374675,
          -20820.59414766244,
          -20390.903682950204,
          -19961.21321823797,
          -19531.522753525733,
          -19101.832288813494,
          -18672.141824101258,
          -18242.451359389022,
          -17812.760894676787,
          -17383.07042996455,
          -16953.379965252316,
          -16523.68950054008,
          -16093.999035827841,
          -15664.308571115605,
          -15234.61810640337,
          -14804.927641691133,
          -14375.237176978897,
          -13945.54671226666,
          -13515.856247554424,
          -13086.165782842188,
          -12656.475318129951,
          -12226.784853417716,
          -11797.09438870548,
          -11367.403923993243,
          -10937.713459281007,
          -10508.022994568772,
          -10078.332529856534,
          -9648.642065144299,
          -9218.951600432061,
          -8789.261135719826,
          -8359.57067100759,
          -7929.880206295353,
          -7500.189741583117,
          -7070.49927687088,
          -6640.808812158644,
          -6211.118347446409,
          -5781.427882734173,
          -5351.737418021934,
          -4922.046953309698,
          -4492.356488597463,
          -4062.6660238852273,
          -3632.975559172992,
          -3203.285094460756,
          -2773.594629748517,
          -2343.9041650362815,
          -1914.213700324046,
          -1484.5232356118104,
          -1054.8327708995748,
          -625.1423061873356,
          -195.45184147510008,
          234.23862323713547,
          663.929087949371,
          1093.6195526616066,
          1523.3100173738421,
          1953.0004820860813,
          2382.690946798317,
          2812.3814115105524,
          3242.071876222788,
          3671.7623409350235,
          4101.452805647263,
          4531.143270359498,
          4960.833735071734,
          5390.524199783969,
          5820.214664496205,
          6249.905129208444,
          6679.59559392068,
          7109.286058632915,
          7538.976523345151,
          7968.666988057386,
          8398.357452769626,
          8828.047917481861,
          9257.738382194097,
          9687.428846906332,
          10117.119311618568,
          10546.809776330803,
          10976.500241043039,
          11406.190705755274,
          11835.881170467517,
          12265.571635179753,
          12695.262099891988,
          13124.952564604224,
          13554.64302931646,
          13984.333494028695,
          14414.02395874093,
          14843.714423453166,
          15273.404888165402,
          15703.095352877637,
          16132.785817589873,
          16562.476282302116,
          16992.16674701435,
          17421.857211726587,
          17851.547676438822,
          18281.238141151058,
          18710.928605863293,
          19140.61907057553,
          19570.309535287764,
          20000
         ],
         "y": [
          0.0000022794965811137965,
          0.0000023679551387607984,
          0.000002458965464404876,
          0.000002552559191338254,
          0.0000026487663343351426,
          0.000002747615184247582,
          0.0000028491322017542394,
          0.000002953341910462772,
          0.000003060266789575541,
          0.000003169927166337394,
          0.0000032823411084927813,
          0.0000033975243169878155,
          0.0000035154900191605487,
          0.0000036362488626704444,
          0.000003759808810424691,
          0.00000388617503676572,
          0.000004015349825189978,
          0.000004147332467873513,
          0.000004282119167284502,
          0.000004419702940166954,
          0.0000045600735241832055,
          0.000004703217287505326,
          0.000004849117141647626,
          0.000004997752457833278,
          0.000005149098987188551,
          0.000005303128785057449,
          0.0000054598101397280784,
          0.000005619107505859775,
          0.0000057809814428967585,
          0.000005945388558749829,
          0.000006112281459022543,
          0.0000062816087020522456,
          0.000006453314760029184,
          0.000006627339986449084,
          0.0000068036205901453855,
          0.000006982088616137608,
          0.000007162671933521275,
          0.000007345294230613,
          0.000007529875017551636,
          0.000007716329636542589,
          0.000007904569279917852,
          0.000008094501016168866,
          0.000008286027824092951,
          0.000008479048635176967,
          0.000008673458384323915,
          0.000008869148069009645,
          0.000009066004816937382,
          0.000009263911962237895,
          0.000009462749130242541,
          0.000009662392330835286,
          0.000009862714060368175,
          0.000010063583412102772,
          0.00001026486619511763,
          0.000010466425061599177,
          0.00001066811964241047,
          0.00001086980669080924,
          0.000011071340234163374,
          0.0000112725717334889,
          0.000011473350250612301,
          0.000011673522622736122,
          0.00001187293364416389,
          0.000012071426254918018,
          0.000012268841735962138,
          0.000012465019910717716,
          0.000012659799352543592,
          0.000012853017597826546,
          0.00001304451136431118,
          0.000013234116774278228,
          0.000013421669582162149,
          0.000013607005406181537,
          0.00001378995996353936,
          0.000013970369308734755,
          0.00001414807007451386,
          0.000014322899714973972,
          0.00001449469675032358,
          0.000014663301012790035,
          0.000014828553893157647,
          0.000014990298587410741,
          0.000015148380342950084,
          0.000015302646703845877,
          0.000015452947754587007,
          0.00001559913636178431,
          0.000015741068413285135,
          0.000015878603054157476,
          0.00001601160291900473,
          0.000016139934360076353,
          0.000016263467670645425,
          0.000016382077303131598,
          0.00001649564208145686,
          0.000016604045407131958,
          0.000016707175458583455,
          0.00001680492538324481,
          0.00001689719348194993,
          0.000016983883385183986,
          0.000017064904220764126,
          0.000017140170772541763,
          0.000017209603629738635,
          0.00001727312932655025,
          0.000017330680471673317,
          0.00001738219586743747
         ]
        },
        {
         "fill": "tozeroy",
         "line": {
          "color": "rgb(100,110,250)"
         },
         "name": "적합",
         "type": "scatter",
         "x": [
          20000,
          22352.777777777777,
          24705.555555555555,
          27058.333333333336,
          29411.11111111111,
          31763.88888888889,
          34116.66666666667,
          36469.444444444445,
          38822.22222222222,
          41175,
          43527.77777777778,
          45880.555555555555,
          48233.333333333336,
          50586.11111111111,
          52938.88888888889,
          55291.666666666664,
          57644.444444444445,
          59997.222222222226,
          62350,
          64702.77777777778,
          67055.55555555556,
          69408.33333333334,
          71761.11111111111,
          74113.88888888889,
          76466.66666666667,
          78819.44444444444,
          81172.22222222222,
          83525,
          85877.77777777778,
          88230.55555555556,
          90583.33333333333,
          92936.11111111111,
          95288.88888888889,
          97641.66666666667,
          99994.44444444445,
          102347.22222222222,
          104700,
          107052.77777777778,
          109405.55555555556,
          111758.33333333333,
          114111.11111111111,
          116463.88888888889,
          118816.66666666667,
          121169.44444444445,
          123522.22222222222,
          125875,
          128227.77777777778,
          130580.55555555556,
          132933.33333333334,
          135286.11111111112,
          137638.88888888888,
          139991.6666666667,
          142344.44444444444,
          144697.22222222222,
          147050,
          149402.77777777778,
          151755.55555555556,
          154108.33333333334,
          156461.11111111112,
          158813.8888888889,
          161166.66666666666,
          163519.44444444444,
          165872.22222222222,
          168225,
          170577.77777777778,
          172930.55555555556,
          175283.33333333334,
          177636.11111111112,
          179988.8888888889,
          182341.66666666666,
          184694.44444444444,
          187047.22222222222,
          189400,
          191752.77777777778,
          194105.55555555556,
          196458.33333333334,
          198811.11111111112,
          201163.8888888889,
          203516.66666666666,
          205869.44444444444,
          208222.22222222222,
          210575,
          212927.77777777778,
          215280.55555555556,
          217633.33333333334,
          219986.11111111112,
          222338.8888888889,
          224691.66666666666,
          227044.44444444444,
          229397.22222222222,
          231750,
          234102.77777777778,
          236455.55555555556,
          238808.33333333334,
          241161.11111111112,
          243513.8888888889,
          245866.6666666667,
          248219.44444444444,
          250572.22222222222,
          252925
         ],
         "y": [
          0.00001738219586743747,
          0.0000175551591482028,
          0.000017540453689219356,
          0.000017338550730512253,
          0.000016955893668167787,
          0.00001640455655486381,
          0.000015701611429043014,
          0.000014868250717875696,
          0.000013928727624420654,
          0.000012909188299280254,
          0.00001183647391213865,
          0.000010736968391599225,
          0.000009635559193597746,
          0.000008554765171267176,
          0.000007514069044010992,
          0.0000065294738931851554,
          0.0000056132853238127666,
          0.000004774104994745389,
          0.000004017008343717828,
          0.0000033438702801463784,
          0.0000027537976735740263,
          0.0000022436264736211362,
          0.0000018084437405568303,
          0.000001442099975165124,
          0.000001137684014276414,
          8.87940493679603e-7,
          6.856176481436644e-7,
          5.237403496177895e-7,
          3.9580930463427967e-7,
          2.959319696130003e-7,
          2.1889391545221695e-7,
          1.6018115269815787e-7,
          1.159644998568284e-7,
          8.305669080311579e-8,
          5.8851848441705965e-8,
          4.125546740755943e-8,
          2.8611381987236544e-8,
          1.9630532439157607e-8,
          1.3324816668569257e-8,
          8.948007213070669e-9,
          5.944664213496629e-9,
          3.907187483249625e-9,
          2.540604677907342e-9,
          1.634352966231719e-9,
          1.0401369809883552e-9,
          6.548941926233604e-10,
          4.079318930481107e-10,
          2.5138542952282045e-10,
          1.532598736299225e-10,
          9.243846900826191e-11,
          5.5158563156504625e-11,
          3.256184952167237e-11,
          1.9016960530658996e-11,
          1.0987757477084233e-11,
          6.28077079282264e-12,
          3.5518346874371606e-12,
          1.9871399908104224e-12,
          1.099866824606414e-12,
          6.022650500066794e-13,
          3.2626549022217683e-13,
          1.7486002589159628e-13,
          9.271411486823761e-14,
          4.863367569291046e-14,
          2.5238541389365302e-14,
          1.295768235988871e-14,
          6.581521840841385e-15,
          3.3072059747187138e-15,
          1.6441145799702658e-15,
          8.08609496058335e-16,
          3.9344271979372716e-16,
          1.8939133690671737e-16,
          9.01933723573894e-17,
          4.2493750273234964e-17,
          1.9806667762054503e-17,
          9.133425528363468e-18,
          4.1666966840057964e-18,
          1.880554836188643e-18,
          8.396843063942571e-19,
          3.709214857260445e-19,
          1.621003172406852e-19,
          7.008444825542191e-20,
          2.9977497286452727e-20,
          1.2685424526838923e-20,
          5.310685204421629e-21,
          2.1995408492440125e-21,
          9.01258605954097e-22,
          3.6534463758382996e-22,
          1.4651833324712975e-22,
          5.813224854267999e-23,
          2.2818032457918008e-23,
          8.86084592964946e-24,
          3.4041453605137045e-24,
          1.2938291388196549e-24,
          4.864986940567775e-25,
          1.8097656860677928e-25,
          6.660378957774445e-26,
          2.4249983663599976e-26,
          8.73493908020433e-27,
          3.112749917582705e-27,
          1.0973988479095877e-27
         ]
        }
       ],
       "layout": {
        "annotations": [
         {
          "bordercolor": "rgb(239,85,59)",
          "borderwidth": 2,
          "font": {
           "color": "rgb(239,85,59)",
           "size": 15
          },
          "showarrow": false,
          "text": "0.419",
          "x": 20000,
          "xshift": -40,
          "y": 0.00001738219586743747,
          "yshift": -100
         },
         {
          "bordercolor": "rgb(100,110,250)",
          "borderwidth": 2,
          "font": {
           "color": "rgb(100,110,250)",
           "size": 15
          },
          "showarrow": false,
          "text": "0.581",
          "x": 20000,
          "xshift": 40,
          "y": 0.00001738219586743747,
          "yshift": -100
         }
        ],
        "template": {
         "data": {
          "bar": [
           {
            "error_x": {
             "color": "#2a3f5f"
            },
            "error_y": {
             "color": "#2a3f5f"
            },
            "marker": {
             "line": {
              "color": "#E5ECF6",
              "width": 0.5
             },
             "pattern": {
              "fillmode": "overlay",
              "size": 10,
              "solidity": 0.2
             }
            },
            "type": "bar"
           }
          ],
          "barpolar": [
           {
            "marker": {
             "line": {
              "color": "#E5ECF6",
              "width": 0.5
             },
             "pattern": {
              "fillmode": "overlay",
              "size": 10,
              "solidity": 0.2
             }
            },
            "type": "barpolar"
           }
          ],
          "carpet": [
           {
            "aaxis": {
             "endlinecolor": "#2a3f5f",
             "gridcolor": "white",
             "linecolor": "white",
             "minorgridcolor": "white",
             "startlinecolor": "#2a3f5f"
            },
            "baxis": {
             "endlinecolor": "#2a3f5f",
             "gridcolor": "white",
             "linecolor": "white",
             "minorgridcolor": "white",
             "startlinecolor": "#2a3f5f"
            },
            "type": "carpet"
           }
          ],
          "choropleth": [
           {
            "colorbar": {
             "outlinewidth": 0,
             "ticks": ""
            },
            "type": "choropleth"
           }
          ],
          "contour": [
           {
            "colorbar": {
             "outlinewidth": 0,
             "ticks": ""
            },
            "colorscale": [
             [
              0,
              "#0d0887"
             ],
             [
              0.1111111111111111,
              "#46039f"
             ],
             [
              0.2222222222222222,
              "#7201a8"
             ],
             [
              0.3333333333333333,
              "#9c179e"
             ],
             [
              0.4444444444444444,
              "#bd3786"
             ],
             [
              0.5555555555555556,
              "#d8576b"
             ],
             [
              0.6666666666666666,
              "#ed7953"
             ],
             [
              0.7777777777777778,
              "#fb9f3a"
             ],
             [
              0.8888888888888888,
              "#fdca26"
             ],
             [
              1,
              "#f0f921"
             ]
            ],
            "type": "contour"
           }
          ],
          "contourcarpet": [
           {
            "colorbar": {
             "outlinewidth": 0,
             "ticks": ""
            },
            "type": "contourcarpet"
           }
          ],
          "heatmap": [
           {
            "colorbar": {
             "outlinewidth": 0,
             "ticks": ""
            },
            "colorscale": [
             [
              0,
              "#0d0887"
             ],
             [
              0.1111111111111111,
              "#46039f"
             ],
             [
              0.2222222222222222,
              "#7201a8"
             ],
             [
              0.3333333333333333,
              "#9c179e"
             ],
             [
              0.4444444444444444,
              "#bd3786"
             ],
             [
              0.5555555555555556,
              "#d8576b"
             ],
             [
              0.6666666666666666,
              "#ed7953"
             ],
             [
              0.7777777777777778,
              "#fb9f3a"
             ],
             [
              0.8888888888888888,
              "#fdca26"
             ],
             [
              1,
              "#f0f921"
             ]
            ],
            "type": "heatmap"
           }
          ],
          "heatmapgl": [
           {
            "colorbar": {
             "outlinewidth": 0,
             "ticks": ""
            },
            "colorscale": [
             [
              0,
              "#0d0887"
             ],
             [
              0.1111111111111111,
              "#46039f"
             ],
             [
              0.2222222222222222,
              "#7201a8"
             ],
             [
              0.3333333333333333,
              "#9c179e"
             ],
             [
              0.4444444444444444,
              "#bd3786"
             ],
             [
              0.5555555555555556,
              "#d8576b"
             ],
             [
              0.6666666666666666,
              "#ed7953"
             ],
             [
              0.7777777777777778,
              "#fb9f3a"
             ],
             [
              0.8888888888888888,
              "#fdca26"
             ],
             [
              1,
              "#f0f921"
             ]
            ],
            "type": "heatmapgl"
           }
          ],
          "histogram": [
           {
            "marker": {
             "pattern": {
              "fillmode": "overlay",
              "size": 10,
              "solidity": 0.2
             }
            },
            "type": "histogram"
           }
          ],
          "histogram2d": [
           {
            "colorbar": {
             "outlinewidth": 0,
             "ticks": ""
            },
            "colorscale": [
             [
              0,
              "#0d0887"
             ],
             [
              0.1111111111111111,
              "#46039f"
             ],
             [
              0.2222222222222222,
              "#7201a8"
             ],
             [
              0.3333333333333333,
              "#9c179e"
             ],
             [
              0.4444444444444444,
              "#bd3786"
             ],
             [
              0.5555555555555556,
              "#d8576b"
             ],
             [
              0.6666666666666666,
              "#ed7953"
             ],
             [
              0.7777777777777778,
              "#fb9f3a"
             ],
             [
              0.8888888888888888,
              "#fdca26"
             ],
             [
              1,
              "#f0f921"
             ]
            ],
            "type": "histogram2d"
           }
          ],
          "histogram2dcontour": [
           {
            "colorbar": {
             "outlinewidth": 0,
             "ticks": ""
            },
            "colorscale": [
             [
              0,
              "#0d0887"
             ],
             [
              0.1111111111111111,
              "#46039f"
             ],
             [
              0.2222222222222222,
              "#7201a8"
             ],
             [
              0.3333333333333333,
              "#9c179e"
             ],
             [
              0.4444444444444444,
              "#bd3786"
             ],
             [
              0.5555555555555556,
              "#d8576b"
             ],
             [
              0.6666666666666666,
              "#ed7953"
             ],
             [
              0.7777777777777778,
              "#fb9f3a"
             ],
             [
              0.8888888888888888,
              "#fdca26"
             ],
             [
              1,
              "#f0f921"
             ]
            ],
            "type": "histogram2dcontour"
           }
          ],
          "mesh3d": [
           {
            "colorbar": {
             "outlinewidth": 0,
             "ticks": ""
            },
            "type": "mesh3d"
           }
          ],
          "parcoords": [
           {
            "line": {
             "colorbar": {
              "outlinewidth": 0,
              "ticks": ""
             }
            },
            "type": "parcoords"
           }
          ],
          "pie": [
           {
            "automargin": true,
            "type": "pie"
           }
          ],
          "scatter": [
           {
            "marker": {
             "colorbar": {
              "outlinewidth": 0,
              "ticks": ""
             }
            },
            "type": "scatter"
           }
          ],
          "scatter3d": [
           {
            "line": {
             "colorbar": {
              "outlinewidth": 0,
              "ticks": ""
             }
            },
            "marker": {
             "colorbar": {
              "outlinewidth": 0,
              "ticks": ""
             }
            },
            "type": "scatter3d"
           }
          ],
          "scattercarpet": [
           {
            "marker": {
             "colorbar": {
              "outlinewidth": 0,
              "ticks": ""
             }
            },
            "type": "scattercarpet"
           }
          ],
          "scattergeo": [
           {
            "marker": {
             "colorbar": {
              "outlinewidth": 0,
              "ticks": ""
             }
            },
            "type": "scattergeo"
           }
          ],
          "scattergl": [
           {
            "marker": {
             "colorbar": {
              "outlinewidth": 0,
              "ticks": ""
             }
            },
            "type": "scattergl"
           }
          ],
          "scattermapbox": [
           {
            "marker": {
             "colorbar": {
              "outlinewidth": 0,
              "ticks": ""
             }
            },
            "type": "scattermapbox"
           }
          ],
          "scatterpolar": [
           {
            "marker": {
             "colorbar": {
              "outlinewidth": 0,
              "ticks": ""
             }
            },
            "type": "scatterpolar"
           }
          ],
          "scatterpolargl": [
           {
            "marker": {
             "colorbar": {
              "outlinewidth": 0,
              "ticks": ""
             }
            },
            "type": "scatterpolargl"
           }
          ],
          "scatterternary": [
           {
            "marker": {
             "colorbar": {
              "outlinewidth": 0,
              "ticks": ""
             }
            },
            "type": "scatterternary"
           }
          ],
          "surface": [
           {
            "colorbar": {
             "outlinewidth": 0,
             "ticks": ""
            },
            "colorscale": [
             [
              0,
              "#0d0887"
             ],
             [
              0.1111111111111111,
              "#46039f"
             ],
             [
              0.2222222222222222,
              "#7201a8"
             ],
             [
              0.3333333333333333,
              "#9c179e"
             ],
             [
              0.4444444444444444,
              "#bd3786"
             ],
             [
              0.5555555555555556,
              "#d8576b"
             ],
             [
              0.6666666666666666,
              "#ed7953"
             ],
             [
              0.7777777777777778,
              "#fb9f3a"
             ],
             [
              0.8888888888888888,
              "#fdca26"
             ],
             [
              1,
              "#f0f921"
             ]
            ],
            "type": "surface"
           }
          ],
          "table": [
           {
            "cells": {
             "fill": {
              "color": "#EBF0F8"
             },
             "line": {
              "color": "white"
             }
            },
            "header": {
             "fill": {
              "color": "#C8D4E3"
             },
             "line": {
              "color": "white"
             }
            },
            "type": "table"
           }
          ]
         },
         "layout": {
          "annotationdefaults": {
           "arrowcolor": "#2a3f5f",
           "arrowhead": 0,
           "arrowwidth": 1
          },
          "autotypenumbers": "strict",
          "coloraxis": {
           "colorbar": {
            "outlinewidth": 0,
            "ticks": ""
           }
          },
          "colorscale": {
           "diverging": [
            [
             0,
             "#8e0152"
            ],
            [
             0.1,
             "#c51b7d"
            ],
            [
             0.2,
             "#de77ae"
            ],
            [
             0.3,
             "#f1b6da"
            ],
            [
             0.4,
             "#fde0ef"
            ],
            [
             0.5,
             "#f7f7f7"
            ],
            [
             0.6,
             "#e6f5d0"
            ],
            [
             0.7,
             "#b8e186"
            ],
            [
             0.8,
             "#7fbc41"
            ],
            [
             0.9,
             "#4d9221"
            ],
            [
             1,
             "#276419"
            ]
           ],
           "sequential": [
            [
             0,
             "#0d0887"
            ],
            [
             0.1111111111111111,
             "#46039f"
            ],
            [
             0.2222222222222222,
             "#7201a8"
            ],
            [
             0.3333333333333333,
             "#9c179e"
            ],
            [
             0.4444444444444444,
             "#bd3786"
            ],
            [
             0.5555555555555556,
             "#d8576b"
            ],
            [
             0.6666666666666666,
             "#ed7953"
            ],
            [
             0.7777777777777778,
             "#fb9f3a"
            ],
            [
             0.8888888888888888,
             "#fdca26"
            ],
            [
             1,
             "#f0f921"
            ]
           ],
           "sequentialminus": [
            [
             0,
             "#0d0887"
            ],
            [
             0.1111111111111111,
             "#46039f"
            ],
            [
             0.2222222222222222,
             "#7201a8"
            ],
            [
             0.3333333333333333,
             "#9c179e"
            ],
            [
             0.4444444444444444,
             "#bd3786"
            ],
            [
             0.5555555555555556,
             "#d8576b"
            ],
            [
             0.6666666666666666,
             "#ed7953"
            ],
            [
             0.7777777777777778,
             "#fb9f3a"
            ],
            [
             0.8888888888888888,
             "#fdca26"
            ],
            [
             1,
             "#f0f921"
            ]
           ]
          },
          "colorway": [
           "#636efa",
           "#EF553B",
           "#00cc96",
           "#ab63fa",
           "#FFA15A",
           "#19d3f3",
           "#FF6692",
           "#B6E880",
           "#FF97FF",
           "#FECB52"
          ],
          "font": {
           "color": "#2a3f5f"
          },
          "geo": {
           "bgcolor": "white",
           "lakecolor": "white",
           "landcolor": "#E5ECF6",
           "showlakes": true,
           "showland": true,
           "subunitcolor": "white"
          },
          "hoverlabel": {
           "align": "left"
          },
          "hovermode": "closest",
          "mapbox": {
           "style": "light"
          },
          "paper_bgcolor": "white",
          "plot_bgcolor": "#E5ECF6",
          "polar": {
           "angularaxis": {
            "gridcolor": "white",
            "linecolor": "white",
            "ticks": ""
           },
           "bgcolor": "#E5ECF6",
           "radialaxis": {
            "gridcolor": "white",
            "linecolor": "white",
            "ticks": ""
           }
          },
          "scene": {
           "xaxis": {
            "backgroundcolor": "#E5ECF6",
            "gridcolor": "white",
            "gridwidth": 2,
            "linecolor": "white",
            "showbackground": true,
            "ticks": "",
            "zerolinecolor": "white"
           },
           "yaxis": {
            "backgroundcolor": "#E5ECF6",
            "gridcolor": "white",
            "gridwidth": 2,
            "linecolor": "white",
            "showbackground": true,
            "ticks": "",
            "zerolinecolor": "white"
           },
           "zaxis": {
            "backgroundcolor": "#E5ECF6",
            "gridcolor": "white",
            "gridwidth": 2,
            "linecolor": "white",
            "showbackground": true,
            "ticks": "",
            "zerolinecolor": "white"
           }
          },
          "shapedefaults": {
           "line": {
            "color": "#2a3f5f"
           }
          },
          "ternary": {
           "aaxis": {
            "gridcolor": "white",
            "linecolor": "white",
            "ticks": ""
           },
           "baxis": {
            "gridcolor": "white",
            "linecolor": "white",
            "ticks": ""
           },
           "bgcolor": "#E5ECF6",
           "caxis": {
            "gridcolor": "white",
            "linecolor": "white",
            "ticks": ""
           }
          },
          "title": {
           "x": 0.05
          },
          "xaxis": {
           "automargin": true,
           "gridcolor": "white",
           "linecolor": "white",
           "ticks": "",
           "title": {
            "standoff": 15
           },
           "zerolinecolor": "white",
           "zerolinewidth": 2
          },
          "yaxis": {
           "automargin": true,
           "gridcolor": "white",
           "linecolor": "white",
           "ticks": "",
           "title": {
            "standoff": 15
           },
           "zerolinecolor": "white",
           "zerolinewidth": 2
          }
         }
        },
        "yaxis": {
         "visible": false
        }
       }
      }
     },
     "metadata": {},
     "output_type": "display_data"
    }
   ],
   "source": [
    "density_pro, density_pro_negative = cal_norm(df_density['인구밀도(km^2)'].mean(),\n",
    "                                             df_density['인구밀도(km^2)'].std(),\n",
    "                                             df_density['인구밀도(km^2)'].min(),\n",
    "                                             df_density['인구밀도(km^2)'].max(),\n",
    "                                             density_standard,\n",
    "                                             False)"
   ]
  },
  {
   "cell_type": "markdown",
   "metadata": {},
   "source": [
    "### 유동인구 인구밀도"
   ]
  },
  {
   "cell_type": "code",
   "execution_count": 20,
   "metadata": {},
   "outputs": [
    {
     "data": {
      "text/html": [
       "<div>\n",
       "<style scoped>\n",
       "    .dataframe tbody tr th:only-of-type {\n",
       "        vertical-align: middle;\n",
       "    }\n",
       "\n",
       "    .dataframe tbody tr th {\n",
       "        vertical-align: top;\n",
       "    }\n",
       "\n",
       "    .dataframe thead th {\n",
       "        text-align: right;\n",
       "    }\n",
       "</style>\n",
       "<table border=\"1\" class=\"dataframe\">\n",
       "  <thead>\n",
       "    <tr style=\"text-align: right;\">\n",
       "      <th></th>\n",
       "      <th>구군</th>\n",
       "      <th>1월</th>\n",
       "      <th>2월</th>\n",
       "      <th>3월</th>\n",
       "      <th>4월</th>\n",
       "      <th>5월</th>\n",
       "      <th>6월</th>\n",
       "      <th>7월</th>\n",
       "      <th>8월</th>\n",
       "      <th>9월</th>\n",
       "      <th>10월</th>\n",
       "      <th>11월</th>\n",
       "      <th>12월</th>\n",
       "      <th>월 평균</th>\n",
       "    </tr>\n",
       "  </thead>\n",
       "  <tbody>\n",
       "    <tr>\n",
       "      <th>0</th>\n",
       "      <td>강서구</td>\n",
       "      <td>325,284.39</td>\n",
       "      <td>323,049.87</td>\n",
       "      <td>335,120.06</td>\n",
       "      <td>340,570.52</td>\n",
       "      <td>332,289.77</td>\n",
       "      <td>340,678.45</td>\n",
       "      <td>337,488.64</td>\n",
       "      <td>328,374.74</td>\n",
       "      <td>328,764.38</td>\n",
       "      <td>333,414.26</td>\n",
       "      <td>340,405.10</td>\n",
       "      <td>337,753.15</td>\n",
       "      <td>333,599.44</td>\n",
       "    </tr>\n",
       "    <tr>\n",
       "      <th>1</th>\n",
       "      <td>금정구</td>\n",
       "      <td>482,598.89</td>\n",
       "      <td>477,047.11</td>\n",
       "      <td>484,669.59</td>\n",
       "      <td>490,864.46</td>\n",
       "      <td>487,435.45</td>\n",
       "      <td>484,936.00</td>\n",
       "      <td>483,898.58</td>\n",
       "      <td>482,964.23</td>\n",
       "      <td>487,082.06</td>\n",
       "      <td>484,633.90</td>\n",
       "      <td>485,502.59</td>\n",
       "      <td>488,392.99</td>\n",
       "      <td>485,002.15</td>\n",
       "    </tr>\n",
       "    <tr>\n",
       "      <th>2</th>\n",
       "      <td>기장군</td>\n",
       "      <td>341,181.17</td>\n",
       "      <td>343,398.79</td>\n",
       "      <td>342,489.52</td>\n",
       "      <td>345,184.20</td>\n",
       "      <td>348,793.68</td>\n",
       "      <td>348,500.32</td>\n",
       "      <td>350,763.40</td>\n",
       "      <td>349,328.59</td>\n",
       "      <td>348,077.97</td>\n",
       "      <td>348,449.77</td>\n",
       "      <td>345,905.89</td>\n",
       "      <td>344,245.29</td>\n",
       "      <td>346,359.88</td>\n",
       "    </tr>\n",
       "    <tr>\n",
       "      <th>3</th>\n",
       "      <td>남구</td>\n",
       "      <td>539,072.58</td>\n",
       "      <td>526,693.91</td>\n",
       "      <td>524,611.67</td>\n",
       "      <td>524,961.53</td>\n",
       "      <td>526,758.54</td>\n",
       "      <td>531,078.89</td>\n",
       "      <td>529,810.42</td>\n",
       "      <td>530,199.16</td>\n",
       "      <td>531,658.35</td>\n",
       "      <td>525,870.37</td>\n",
       "      <td>528,106.40</td>\n",
       "      <td>531,610.18</td>\n",
       "      <td>529,202.67</td>\n",
       "    </tr>\n",
       "    <tr>\n",
       "      <th>4</th>\n",
       "      <td>동구</td>\n",
       "      <td>185,466.33</td>\n",
       "      <td>185,459.30</td>\n",
       "      <td>189,082.61</td>\n",
       "      <td>192,702.25</td>\n",
       "      <td>189,819.14</td>\n",
       "      <td>191,618.73</td>\n",
       "      <td>189,864.16</td>\n",
       "      <td>189,368.74</td>\n",
       "      <td>190,328.67</td>\n",
       "      <td>191,182.03</td>\n",
       "      <td>194,732.77</td>\n",
       "      <td>193,341.86</td>\n",
       "      <td>190,247.22</td>\n",
       "    </tr>\n",
       "    <tr>\n",
       "      <th>5</th>\n",
       "      <td>동래구</td>\n",
       "      <td>553,655.76</td>\n",
       "      <td>549,718.60</td>\n",
       "      <td>543,091.96</td>\n",
       "      <td>535,439.53</td>\n",
       "      <td>533,908.61</td>\n",
       "      <td>528,124.07</td>\n",
       "      <td>527,730.64</td>\n",
       "      <td>525,468.79</td>\n",
       "      <td>532,656.70</td>\n",
       "      <td>527,498.20</td>\n",
       "      <td>520,126.56</td>\n",
       "      <td>524,788.88</td>\n",
       "      <td>533,517.36</td>\n",
       "    </tr>\n",
       "    <tr>\n",
       "      <th>6</th>\n",
       "      <td>부산진구</td>\n",
       "      <td>757,261.10</td>\n",
       "      <td>760,742.04</td>\n",
       "      <td>760,212.63</td>\n",
       "      <td>761,728.33</td>\n",
       "      <td>765,460.09</td>\n",
       "      <td>764,636.01</td>\n",
       "      <td>759,638.81</td>\n",
       "      <td>754,837.78</td>\n",
       "      <td>763,942.81</td>\n",
       "      <td>761,731.75</td>\n",
       "      <td>763,818.34</td>\n",
       "      <td>768,957.14</td>\n",
       "      <td>761,913.90</td>\n",
       "    </tr>\n",
       "    <tr>\n",
       "      <th>7</th>\n",
       "      <td>북구</td>\n",
       "      <td>559,133.62</td>\n",
       "      <td>554,946.17</td>\n",
       "      <td>543,084.57</td>\n",
       "      <td>543,479.25</td>\n",
       "      <td>543,145.91</td>\n",
       "      <td>540,381.96</td>\n",
       "      <td>542,289.98</td>\n",
       "      <td>546,905.11</td>\n",
       "      <td>551,394.74</td>\n",
       "      <td>542,887.88</td>\n",
       "      <td>539,732.97</td>\n",
       "      <td>545,952.52</td>\n",
       "      <td>546,111.22</td>\n",
       "    </tr>\n",
       "    <tr>\n",
       "      <th>8</th>\n",
       "      <td>사상구</td>\n",
       "      <td>496,102.34</td>\n",
       "      <td>492,871.78</td>\n",
       "      <td>493,054.71</td>\n",
       "      <td>496,932.63</td>\n",
       "      <td>494,094.59</td>\n",
       "      <td>494,207.66</td>\n",
       "      <td>492,973.61</td>\n",
       "      <td>490,296.85</td>\n",
       "      <td>493,842.47</td>\n",
       "      <td>491,808.21</td>\n",
       "      <td>493,815.86</td>\n",
       "      <td>495,297.44</td>\n",
       "      <td>493,774.85</td>\n",
       "    </tr>\n",
       "    <tr>\n",
       "      <th>9</th>\n",
       "      <td>사하구</td>\n",
       "      <td>641,541.35</td>\n",
       "      <td>632,045.91</td>\n",
       "      <td>628,461.73</td>\n",
       "      <td>633,805.98</td>\n",
       "      <td>630,333.83</td>\n",
       "      <td>629,635.14</td>\n",
       "      <td>630,260.69</td>\n",
       "      <td>631,377.03</td>\n",
       "      <td>633,402.47</td>\n",
       "      <td>627,551.97</td>\n",
       "      <td>625,380.25</td>\n",
       "      <td>631,475.21</td>\n",
       "      <td>631,272.63</td>\n",
       "    </tr>\n",
       "    <tr>\n",
       "      <th>10</th>\n",
       "      <td>서구</td>\n",
       "      <td>244,816.18</td>\n",
       "      <td>247,144.65</td>\n",
       "      <td>246,832.32</td>\n",
       "      <td>249,028.55</td>\n",
       "      <td>245,968.42</td>\n",
       "      <td>232,053.80</td>\n",
       "      <td>230,458.90</td>\n",
       "      <td>229,377.92</td>\n",
       "      <td>228,929.31</td>\n",
       "      <td>225,006.09</td>\n",
       "      <td>222,113.90</td>\n",
       "      <td>223,835.54</td>\n",
       "      <td>235,463.80</td>\n",
       "    </tr>\n",
       "    <tr>\n",
       "      <th>11</th>\n",
       "      <td>수영구</td>\n",
       "      <td>339,989.93</td>\n",
       "      <td>335,887.41</td>\n",
       "      <td>345,588.95</td>\n",
       "      <td>358,682.04</td>\n",
       "      <td>356,153.28</td>\n",
       "      <td>344,222.04</td>\n",
       "      <td>345,425.50</td>\n",
       "      <td>342,987.83</td>\n",
       "      <td>342,228.84</td>\n",
       "      <td>340,723.32</td>\n",
       "      <td>340,813.55</td>\n",
       "      <td>345,960.31</td>\n",
       "      <td>344,888.58</td>\n",
       "    </tr>\n",
       "    <tr>\n",
       "      <th>12</th>\n",
       "      <td>연제구</td>\n",
       "      <td>394,132.20</td>\n",
       "      <td>390,539.12</td>\n",
       "      <td>393,604.79</td>\n",
       "      <td>396,276.36</td>\n",
       "      <td>394,296.80</td>\n",
       "      <td>399,403.98</td>\n",
       "      <td>401,469.81</td>\n",
       "      <td>400,414.71</td>\n",
       "      <td>398,036.79</td>\n",
       "      <td>395,250.20</td>\n",
       "      <td>398,436.74</td>\n",
       "      <td>401,486.80</td>\n",
       "      <td>396,945.69</td>\n",
       "    </tr>\n",
       "    <tr>\n",
       "      <th>13</th>\n",
       "      <td>영도구</td>\n",
       "      <td>248,178.99</td>\n",
       "      <td>246,981.20</td>\n",
       "      <td>242,904.23</td>\n",
       "      <td>243,650.92</td>\n",
       "      <td>245,374.40</td>\n",
       "      <td>244,196.20</td>\n",
       "      <td>243,830.89</td>\n",
       "      <td>244,457.54</td>\n",
       "      <td>244,665.84</td>\n",
       "      <td>242,981.94</td>\n",
       "      <td>241,042.77</td>\n",
       "      <td>240,790.94</td>\n",
       "      <td>244,087.99</td>\n",
       "    </tr>\n",
       "    <tr>\n",
       "      <th>14</th>\n",
       "      <td>중구</td>\n",
       "      <td>105,170.15</td>\n",
       "      <td>106,603.51</td>\n",
       "      <td>110,729.44</td>\n",
       "      <td>110,668.93</td>\n",
       "      <td>113,610.04</td>\n",
       "      <td>128,260.41</td>\n",
       "      <td>127,285.37</td>\n",
       "      <td>124,056.84</td>\n",
       "      <td>127,550.96</td>\n",
       "      <td>131,073.84</td>\n",
       "      <td>135,646.63</td>\n",
       "      <td>134,834.02</td>\n",
       "      <td>121,290.85</td>\n",
       "    </tr>\n",
       "    <tr>\n",
       "      <th>15</th>\n",
       "      <td>해운대구</td>\n",
       "      <td>867,047.22</td>\n",
       "      <td>871,849.92</td>\n",
       "      <td>858,675.53</td>\n",
       "      <td>862,845.41</td>\n",
       "      <td>867,445.21</td>\n",
       "      <td>867,936.68</td>\n",
       "      <td>875,772.89</td>\n",
       "      <td>871,029.74</td>\n",
       "      <td>864,691.10</td>\n",
       "      <td>864,549.71</td>\n",
       "      <td>863,913.89</td>\n",
       "      <td>878,342.31</td>\n",
       "      <td>867,841.63</td>\n",
       "    </tr>\n",
       "  </tbody>\n",
       "</table>\n",
       "</div>"
      ],
      "text/plain": [
       "      구군          1월          2월          3월          4월          5월  \\\n",
       "0    강서구  325,284.39  323,049.87  335,120.06  340,570.52  332,289.77   \n",
       "1    금정구  482,598.89  477,047.11  484,669.59  490,864.46  487,435.45   \n",
       "2    기장군  341,181.17  343,398.79  342,489.52  345,184.20  348,793.68   \n",
       "3     남구  539,072.58  526,693.91  524,611.67  524,961.53  526,758.54   \n",
       "4     동구  185,466.33  185,459.30  189,082.61  192,702.25  189,819.14   \n",
       "5    동래구  553,655.76  549,718.60  543,091.96  535,439.53  533,908.61   \n",
       "6   부산진구  757,261.10  760,742.04  760,212.63  761,728.33  765,460.09   \n",
       "7     북구  559,133.62  554,946.17  543,084.57  543,479.25  543,145.91   \n",
       "8    사상구  496,102.34  492,871.78  493,054.71  496,932.63  494,094.59   \n",
       "9    사하구  641,541.35  632,045.91  628,461.73  633,805.98  630,333.83   \n",
       "10    서구  244,816.18  247,144.65  246,832.32  249,028.55  245,968.42   \n",
       "11   수영구  339,989.93  335,887.41  345,588.95  358,682.04  356,153.28   \n",
       "12   연제구  394,132.20  390,539.12  393,604.79  396,276.36  394,296.80   \n",
       "13   영도구  248,178.99  246,981.20  242,904.23  243,650.92  245,374.40   \n",
       "14    중구  105,170.15  106,603.51  110,729.44  110,668.93  113,610.04   \n",
       "15  해운대구  867,047.22  871,849.92  858,675.53  862,845.41  867,445.21   \n",
       "\n",
       "            6월          7월          8월          9월         10월         11월  \\\n",
       "0   340,678.45  337,488.64  328,374.74  328,764.38  333,414.26  340,405.10   \n",
       "1   484,936.00  483,898.58  482,964.23  487,082.06  484,633.90  485,502.59   \n",
       "2   348,500.32  350,763.40  349,328.59  348,077.97  348,449.77  345,905.89   \n",
       "3   531,078.89  529,810.42  530,199.16  531,658.35  525,870.37  528,106.40   \n",
       "4   191,618.73  189,864.16  189,368.74  190,328.67  191,182.03  194,732.77   \n",
       "5   528,124.07  527,730.64  525,468.79  532,656.70  527,498.20  520,126.56   \n",
       "6   764,636.01  759,638.81  754,837.78  763,942.81  761,731.75  763,818.34   \n",
       "7   540,381.96  542,289.98  546,905.11  551,394.74  542,887.88  539,732.97   \n",
       "8   494,207.66  492,973.61  490,296.85  493,842.47  491,808.21  493,815.86   \n",
       "9   629,635.14  630,260.69  631,377.03  633,402.47  627,551.97  625,380.25   \n",
       "10  232,053.80  230,458.90  229,377.92  228,929.31  225,006.09  222,113.90   \n",
       "11  344,222.04  345,425.50  342,987.83  342,228.84  340,723.32  340,813.55   \n",
       "12  399,403.98  401,469.81  400,414.71  398,036.79  395,250.20  398,436.74   \n",
       "13  244,196.20  243,830.89  244,457.54  244,665.84  242,981.94  241,042.77   \n",
       "14  128,260.41  127,285.37  124,056.84  127,550.96  131,073.84  135,646.63   \n",
       "15  867,936.68  875,772.89  871,029.74  864,691.10  864,549.71  863,913.89   \n",
       "\n",
       "           12월        월 평균  \n",
       "0   337,753.15  333,599.44  \n",
       "1   488,392.99  485,002.15  \n",
       "2   344,245.29  346,359.88  \n",
       "3   531,610.18  529,202.67  \n",
       "4   193,341.86  190,247.22  \n",
       "5   524,788.88  533,517.36  \n",
       "6   768,957.14  761,913.90  \n",
       "7   545,952.52  546,111.22  \n",
       "8   495,297.44  493,774.85  \n",
       "9   631,475.21  631,272.63  \n",
       "10  223,835.54  235,463.80  \n",
       "11  345,960.31  344,888.58  \n",
       "12  401,486.80  396,945.69  \n",
       "13  240,790.94  244,087.99  \n",
       "14  134,834.02  121,290.85  \n",
       "15  878,342.31  867,841.63  "
      ]
     },
     "execution_count": 20,
     "metadata": {},
     "output_type": "execute_result"
    }
   ],
   "source": [
    "foottraffic_file_path = 'C:\\\\Users\\\\SAMSUNG\\\\Desktop\\\\Green-Car-Charging-Station-Site-Selection\\\\Data\\\\부산 유동인구 데이터.csv'\n",
    "df_foottraffic = pd.read_csv(foottraffic_file_path, encoding='cp949')\n",
    "df_foottraffic"
   ]
  },
  {
   "cell_type": "code",
   "execution_count": 21,
   "metadata": {},
   "outputs": [],
   "source": [
    "foottraffic_col = df_foottraffic.iloc[:,1:-1].columns.tolist()"
   ]
  },
  {
   "cell_type": "code",
   "execution_count": 22,
   "metadata": {},
   "outputs": [
    {
     "data": {
      "text/html": [
       "<div>\n",
       "<style scoped>\n",
       "    .dataframe tbody tr th:only-of-type {\n",
       "        vertical-align: middle;\n",
       "    }\n",
       "\n",
       "    .dataframe tbody tr th {\n",
       "        vertical-align: top;\n",
       "    }\n",
       "\n",
       "    .dataframe thead th {\n",
       "        text-align: right;\n",
       "    }\n",
       "</style>\n",
       "<table border=\"1\" class=\"dataframe\">\n",
       "  <thead>\n",
       "    <tr style=\"text-align: right;\">\n",
       "      <th></th>\n",
       "      <th>월 평균</th>\n",
       "    </tr>\n",
       "    <tr>\n",
       "      <th>구군</th>\n",
       "      <th></th>\n",
       "    </tr>\n",
       "  </thead>\n",
       "  <tbody>\n",
       "    <tr>\n",
       "      <th>강서구</th>\n",
       "      <td>333,599.44</td>\n",
       "    </tr>\n",
       "    <tr>\n",
       "      <th>금정구</th>\n",
       "      <td>485,002.15</td>\n",
       "    </tr>\n",
       "    <tr>\n",
       "      <th>기장군</th>\n",
       "      <td>346,359.88</td>\n",
       "    </tr>\n",
       "    <tr>\n",
       "      <th>남구</th>\n",
       "      <td>529,202.67</td>\n",
       "    </tr>\n",
       "    <tr>\n",
       "      <th>동구</th>\n",
       "      <td>190,247.22</td>\n",
       "    </tr>\n",
       "    <tr>\n",
       "      <th>동래구</th>\n",
       "      <td>533,517.36</td>\n",
       "    </tr>\n",
       "    <tr>\n",
       "      <th>부산진구</th>\n",
       "      <td>761,913.90</td>\n",
       "    </tr>\n",
       "    <tr>\n",
       "      <th>북구</th>\n",
       "      <td>546,111.22</td>\n",
       "    </tr>\n",
       "    <tr>\n",
       "      <th>사상구</th>\n",
       "      <td>493,774.85</td>\n",
       "    </tr>\n",
       "    <tr>\n",
       "      <th>사하구</th>\n",
       "      <td>631,272.63</td>\n",
       "    </tr>\n",
       "    <tr>\n",
       "      <th>서구</th>\n",
       "      <td>235,463.80</td>\n",
       "    </tr>\n",
       "    <tr>\n",
       "      <th>수영구</th>\n",
       "      <td>344,888.58</td>\n",
       "    </tr>\n",
       "    <tr>\n",
       "      <th>연제구</th>\n",
       "      <td>396,945.69</td>\n",
       "    </tr>\n",
       "    <tr>\n",
       "      <th>영도구</th>\n",
       "      <td>244,087.99</td>\n",
       "    </tr>\n",
       "    <tr>\n",
       "      <th>중구</th>\n",
       "      <td>121,290.85</td>\n",
       "    </tr>\n",
       "    <tr>\n",
       "      <th>해운대구</th>\n",
       "      <td>867,841.63</td>\n",
       "    </tr>\n",
       "  </tbody>\n",
       "</table>\n",
       "</div>"
      ],
      "text/plain": [
       "            월 평균\n",
       "구군              \n",
       "강서구   333,599.44\n",
       "금정구   485,002.15\n",
       "기장군   346,359.88\n",
       "남구    529,202.67\n",
       "동구    190,247.22\n",
       "동래구   533,517.36\n",
       "부산진구  761,913.90\n",
       "북구    546,111.22\n",
       "사상구   493,774.85\n",
       "사하구   631,272.63\n",
       "서구    235,463.80\n",
       "수영구   344,888.58\n",
       "연제구   396,945.69\n",
       "영도구   244,087.99\n",
       "중구    121,290.85\n",
       "해운대구  867,841.63"
      ]
     },
     "execution_count": 22,
     "metadata": {},
     "output_type": "execute_result"
    }
   ],
   "source": [
    "df_foottraffic = df_foottraffic.drop(columns=foottraffic_col)\n",
    "df_foottraffic.set_index('구군',inplace=True)\n",
    "df_foottraffic"
   ]
  },
  {
   "cell_type": "code",
   "execution_count": 23,
   "metadata": {},
   "outputs": [],
   "source": [
    "advanced_replace(df_foottraffic, '월 평균','-',r'[^0-9.0-9]')\n",
    "df_foottraffic['월 평균'] = df_foottraffic['월 평균'].astype(float)"
   ]
  },
  {
   "cell_type": "code",
   "execution_count": 24,
   "metadata": {},
   "outputs": [],
   "source": [
    "density = []\n",
    "population = df_foottraffic['월 평균'].tolist()\n",
    "area = df_density['면적(km^2)'].tolist()\n",
    "list_p_a = list(zip(population,area))\n",
    "for x,y in list_p_a:\n",
    "    val = x/y\n",
    "    density.append(val)"
   ]
  },
  {
   "cell_type": "code",
   "execution_count": 25,
   "metadata": {},
   "outputs": [],
   "source": [
    "df_foottraffic.insert(1,'유동인구밀도(km2당)',density)"
   ]
  },
  {
   "cell_type": "code",
   "execution_count": 26,
   "metadata": {},
   "outputs": [
    {
     "data": {
      "text/html": [
       "<div>\n",
       "<style scoped>\n",
       "    .dataframe tbody tr th:only-of-type {\n",
       "        vertical-align: middle;\n",
       "    }\n",
       "\n",
       "    .dataframe tbody tr th {\n",
       "        vertical-align: top;\n",
       "    }\n",
       "\n",
       "    .dataframe thead th {\n",
       "        text-align: right;\n",
       "    }\n",
       "</style>\n",
       "<table border=\"1\" class=\"dataframe\">\n",
       "  <thead>\n",
       "    <tr style=\"text-align: right;\">\n",
       "      <th></th>\n",
       "      <th>월 평균</th>\n",
       "      <th>유동인구밀도(km2당)</th>\n",
       "    </tr>\n",
       "    <tr>\n",
       "      <th>구군</th>\n",
       "      <th></th>\n",
       "      <th></th>\n",
       "    </tr>\n",
       "  </thead>\n",
       "  <tbody>\n",
       "    <tr>\n",
       "      <th>강서구</th>\n",
       "      <td>333599.44</td>\n",
       "      <td>1.717814e+04</td>\n",
       "    </tr>\n",
       "    <tr>\n",
       "      <th>금정구</th>\n",
       "      <td>485002.15</td>\n",
       "      <td>3.442173e+04</td>\n",
       "    </tr>\n",
       "    <tr>\n",
       "      <th>기장군</th>\n",
       "      <td>346359.88</td>\n",
       "      <td>2.123604e+04</td>\n",
       "    </tr>\n",
       "    <tr>\n",
       "      <th>남구</th>\n",
       "      <td>529202.67</td>\n",
       "      <td>8.980191e+03</td>\n",
       "    </tr>\n",
       "    <tr>\n",
       "      <th>동구</th>\n",
       "      <td>190247.22</td>\n",
       "      <td>1.392732e+04</td>\n",
       "    </tr>\n",
       "    <tr>\n",
       "      <th>동래구</th>\n",
       "      <td>533517.36</td>\n",
       "      <td>1.967973e+04</td>\n",
       "    </tr>\n",
       "    <tr>\n",
       "      <th>부산진구</th>\n",
       "      <td>761913.90</td>\n",
       "      <td>6.144467e+04</td>\n",
       "    </tr>\n",
       "    <tr>\n",
       "      <th>북구</th>\n",
       "      <td>546111.22</td>\n",
       "      <td>1.680342e+05</td>\n",
       "    </tr>\n",
       "    <tr>\n",
       "      <th>사상구</th>\n",
       "      <td>493774.85</td>\n",
       "      <td>4.614718e+05</td>\n",
       "    </tr>\n",
       "    <tr>\n",
       "      <th>사하구</th>\n",
       "      <td>631272.63</td>\n",
       "      <td>6.787878e+05</td>\n",
       "    </tr>\n",
       "    <tr>\n",
       "      <th>서구</th>\n",
       "      <td>235463.80</td>\n",
       "      <td>6.262335e+04</td>\n",
       "    </tr>\n",
       "    <tr>\n",
       "      <th>수영구</th>\n",
       "      <td>344888.58</td>\n",
       "      <td>4.926980e+06</td>\n",
       "    </tr>\n",
       "    <tr>\n",
       "      <th>연제구</th>\n",
       "      <td>396945.69</td>\n",
       "      <td>2.145652e+05</td>\n",
       "    </tr>\n",
       "    <tr>\n",
       "      <th>영도구</th>\n",
       "      <td>244087.99</td>\n",
       "      <td>6.596973e+05</td>\n",
       "    </tr>\n",
       "    <tr>\n",
       "      <th>중구</th>\n",
       "      <td>121290.85</td>\n",
       "      <td>1.810311e+05</td>\n",
       "    </tr>\n",
       "    <tr>\n",
       "      <th>해운대구</th>\n",
       "      <td>867841.63</td>\n",
       "      <td>4.036473e+05</td>\n",
       "    </tr>\n",
       "  </tbody>\n",
       "</table>\n",
       "</div>"
      ],
      "text/plain": [
       "           월 평균  유동인구밀도(km2당)\n",
       "구군                           \n",
       "강서구   333599.44  1.717814e+04\n",
       "금정구   485002.15  3.442173e+04\n",
       "기장군   346359.88  2.123604e+04\n",
       "남구    529202.67  8.980191e+03\n",
       "동구    190247.22  1.392732e+04\n",
       "동래구   533517.36  1.967973e+04\n",
       "부산진구  761913.90  6.144467e+04\n",
       "북구    546111.22  1.680342e+05\n",
       "사상구   493774.85  4.614718e+05\n",
       "사하구   631272.63  6.787878e+05\n",
       "서구    235463.80  6.262335e+04\n",
       "수영구   344888.58  4.926980e+06\n",
       "연제구   396945.69  2.145652e+05\n",
       "영도구   244087.99  6.596973e+05\n",
       "중구    121290.85  1.810311e+05\n",
       "해운대구  867841.63  4.036473e+05"
      ]
     },
     "execution_count": 26,
     "metadata": {},
     "output_type": "execute_result"
    }
   ],
   "source": [
    "df_foottraffic"
   ]
  },
  {
   "cell_type": "code",
   "execution_count": 27,
   "metadata": {},
   "outputs": [
    {
     "data": {
      "application/vnd.plotly.v1+json": {
       "config": {
        "plotlyServerURL": "https://plot.ly"
       },
       "data": [
        {
         "fill": "tozeroy",
         "line": {
          "color": "rgb(239,85,59)"
         },
         "name": "부적합",
         "type": "scatter",
         "x": [
          -83854.6885088947,
          -78967.26741284526,
          -74079.84631679583,
          -69192.42522074637,
          -64305.004124696934,
          -59417.583028647496,
          -54530.16193259806,
          -49642.74083654861,
          -44755.31974049917,
          -39867.898644449735,
          -34980.47754840029,
          -30093.05645235085,
          -25205.635356301413,
          -20318.214260251967,
          -15430.793164202521,
          -10543.372068153083,
          -5655.950972103645,
          -768.5298760542064,
          4118.891219995232,
          9006.312316044685,
          13893.733412094123,
          18781.15450814356,
          23668.575604193,
          28555.99670024244,
          33443.41779629188,
          38330.83889234133,
          43218.25998839077,
          48105.681084440206,
          52993.10218048966,
          57880.52327653908,
          62767.944372588536,
          67655.36546863796,
          72542.78656468741,
          77430.20766073687,
          82317.62875678629,
          87205.04985283574,
          92092.47094888517,
          96979.89204493462,
          101867.31314098407,
          106754.7342370335,
          111642.15533308295,
          116529.57642913237,
          121416.99752518183,
          126304.41862123128,
          131191.8397172807,
          136079.26081333015,
          140966.68190937958,
          145854.10300542903,
          150741.52410147846,
          155628.9451975279,
          160516.36629357736,
          165403.78738962678,
          170291.20848567624,
          175178.62958172566,
          180066.0506777751,
          184953.47177382454,
          189840.89286987402,
          194728.31396592344,
          199615.73506197287,
          204503.15615802235,
          209390.57725407177,
          214277.9983501212,
          219165.41944617062,
          224052.8405422201,
          228940.26163826953,
          233827.68273431895,
          238715.10383036843,
          243602.52492641786,
          248489.94602246728,
          253377.3671185167,
          258264.7882145662,
          263152.2093106156,
          268039.63040666503,
          272927.0515027145,
          277814.47259876394,
          282701.89369481336,
          287589.31479086285,
          292476.73588691227,
          297364.1569829617,
          302251.5780790111,
          307138.9991750606,
          312026.42027111,
          316913.84136715945,
          321801.2624632089,
          326688.68355925835,
          331576.1046553078,
          336463.52575135726,
          341350.9468474067,
          346238.3679434561,
          351125.78903950553,
          356013.210135555,
          360900.63123160444,
          365788.05232765386,
          370675.47342370334,
          375562.89451975276,
          380450.3156158022,
          385337.7367118516,
          390225.1578079011,
          395112.5789039505,
          400000
         ],
         "y": [
          7.33846034047919e-8,
          7.797773711058066e-8,
          8.281133821800981e-8,
          8.789465709309427e-8,
          9.323707658321982e-8,
          9.884809820750404e-8,
          1.0473732715704012e-7,
          1.1091445608529414e-7,
          1.1738924767267913e-7,
          1.2417151595338558e-7,
          1.3127110639689986e-7,
          1.3869787474128727e-7,
          1.4646166458024002e-7,
          1.545722837111034e-7,
          1.6303947925655008e-7,
          1.7187291157830032e-7,
          1.8108212700723122e-7,
          1.9067652942038798e-7,
          2.0066535070177646e-7,
          2.11057620130346e-7,
          2.2186213274526473e-7,
          2.330874167453854e-7,
          2.447416999867035e-7,
          2.5683287564855984e-7,
          2.693684671463307e-7,
          2.82355592375315e-7,
          2.9580092737746394e-7,
          3.0971066952944385e-7,
          3.240905003572423e-7,
          3.389455480890854e-7,
          3.542803500647942e-7,
          3.7009881512578805e-7,
          3.864041861157766e-7,
          4.031990026276308e-7,
          4.2048506413701935e-7,
          4.3826339366806736e-7,
          4.565342021404798e-7,
          4.752968535512614e-7,
          4.945498311473047e-7,
          5.1429070474765e-7,
          5.345160993761404e-7,
          5.552216653664481e-7,
          5.764020501019775e-7,
          5.980508715529937e-7,
          6.201606937723695e-7,
          6.427230045096195e-7,
          6.657281951003783e-7,
          6.891655427851202e-7,
          7.130231956067326e-7,
          7.37288160031551e-7,
          7.619462914325613e-7,
          7.869822875667844e-7,
          8.123796851712765e-7,
          8.381208597937938e-7,
          8.641870289649632e-7,
          8.90558258808796e-7,
          9.172134741776032e-7,
          9.441304723858683e-7,
          9.712859406054216e-7,
          9.986554769713775e-7,
          0.0000010262136154348267,
          0.0000010539338543842207,
          0.000001081788689042834,
          0.0000011097496476347078,
          0.0000011377873312960812,
          0.000001165871457693669,
          0.0000011939709082951906,
          0.0000012220537792214958,
          0.0000012500874355934738,
          0.0000012780385692707557,
          0.0000013058732598631564,
          0.0000013335570388798875,
          0.0000013610549568659237,
          0.0000013883316533595833,
          0.000001415351429490499,
          0.0000014420783230228002,
          0.0000014684761856345258,
          0.000001494508762211214,
          0.0000015201397719192908,
          0.0000015453329908133656,
          0.000001570052335720998,
          0.0000015942619491388934,
          0.0000016179262848659578,
          0.0000016410101940912286,
          0.0000016634790116484355,
          0.0000016852986421439369,
          0.0000017064356456610043,
          0.0000017268573227409708,
          0.000001746531798340646,
          0.0000017654281044656216,
          0.0000017835162611807127,
          0.0000018007673557017687,
          0.0000018171536192774591,
          0.0000018326485015754004,
          0.0000018472267422940971,
          0.0000018608644397306253,
          0.0000018735391160437515,
          0.000001885229778963199,
          0.0000018959169797080378,
          0.0000019055828668905936
         ]
        },
        {
         "fill": "tozeroy",
         "line": {
          "color": "rgb(100,110,250)"
         },
         "name": "적합",
         "type": "scatter",
         "x": [
          400000,
          404725.67303030303,
          409451.34606060607,
          414177.0190909091,
          418902.69212121214,
          423628.3651515152,
          428354.0381818182,
          433079.7112121212,
          437805.3842424242,
          442531.05727272725,
          447256.7303030303,
          451982.4033333333,
          456708.07636363636,
          461433.7493939394,
          466159.4224242424,
          470885.09545454546,
          475610.7684848485,
          480336.4415151515,
          485062.1145454545,
          489787.7875757576,
          494513.4606060606,
          499239.1336363636,
          503964.80666666664,
          508690.4796969697,
          513416.1527272727,
          518141.82575757575,
          522867.4987878788,
          527593.1718181819,
          532318.8448484848,
          537044.5178787878,
          541770.1909090909,
          546495.8639393939,
          551221.536969697,
          555947.21,
          560672.883030303,
          565398.556060606,
          570124.229090909,
          574849.9021212121,
          579575.5751515152,
          584301.2481818182,
          589026.9212121211,
          593752.5942424242,
          598478.2672727272,
          603203.9403030303,
          607929.6133333333,
          612655.2863636364,
          617380.9593939394,
          622106.6324242424,
          626832.3054545454,
          631557.9784848485,
          636283.6515151515,
          641009.3245454545,
          645734.9975757576,
          650460.6706060607,
          655186.3436363636,
          659912.0166666666,
          664637.6896969697,
          669363.3627272728,
          674089.0357575756,
          678814.7087878787,
          683540.3818181818,
          688266.0548484848,
          692991.7278787878,
          697717.4009090909,
          702443.073939394,
          707168.746969697,
          711894.4199999999,
          716620.093030303,
          721345.7660606061,
          726071.4390909091,
          730797.1121212121,
          735522.7851515152,
          740248.4581818181,
          744974.1312121211,
          749699.8042424242,
          754425.4772727273,
          759151.1503030303,
          763876.8233333332,
          768602.4963636363,
          773328.1693939394,
          778053.8424242424,
          782779.5154545454,
          787505.1884848485,
          792230.8615151516,
          796956.5345454544,
          801682.2075757575,
          806407.8806060606,
          811133.5536363636,
          815859.2266666666,
          820584.8996969697,
          825310.5727272728,
          830036.2457575757,
          834761.9187878787,
          839487.5918181818,
          844213.2648484849,
          848938.9378787879,
          853664.6109090908,
          858390.2839393939,
          863115.9569696969,
          867841.63
         ],
         "y": [
          0.0000019055828668905936,
          0.000001913942439231443,
          0.0000019213188773335996,
          0.0000019277005506153053,
          0.0000019330773727182177,
          0.0000019374408280717002,
          0.000001940783994366289,
          0.000001943101560853303,
          0.0000019443898424028922,
          0.0000019446467892684317,
          0.000001943871992521044,
          0.0000019420666851340863,
          0.0000019392337387135755,
          0.0000019353776558866814,
          0.0000019305045583765373,
          0.00000192462217080757,
          0.000001917739800301323,
          0.0000019098683119382093,
          0.0000019010201001757536,
          0.0000018912090563285624,
          0.000001880450532229454,
          0.0000018687613002047916,
          0.000001856159509510078,
          0.0000018426646393841624,
          0.0000018282974488919998,
          0.0000018130799237366681,
          0.0000017970352202313111,
          0.0000017801876066307237,
          0.0000017625624020304666,
          0.0000017441859130485835,
          0.0000017250853685112501,
          0.0000017052888523689091,
          0.0000016848252350736803,
          0.000001663724103652064,
          0.0000016420156907091267,
          0.0000016197308026015531,
          0.0000015969007470170783,
          0.0000015735572601969977,
          0.000001549732434036595,
          0.000001525458643295538,
          0.0000015007684731465572,
          0.00000147569464728609,
          0.0000014502699568250374,
          0.0000014245271901714478,
          0.000001398499064109818,
          0.0000013722181562737977,
          0.0000013457168392005472,
          0.0000013190272161457647,
          0.00000129218105882863,
          0.0000012652097472655676,
          0.0000012381442118409746,
          0.000001211014877751834,
          0.0000011838516119516143,
          0.0000011566836727070154,
          0.0000011295396618690737,
          0.0000011024474799479177,
          0.0000010754342840681721,
          0.0000010485264488696297,
          0.0000010217495304054819,
          9.95128233078146e-7,
          9.68686379640609e-7,
          9.424468842792317e-7,
          9.164317287822923e-7,
          8.906619417871268e-7,
          8.651575810876168e-7,
          8.399377189731025e-7,
          8.150204305594788e-7,
          7.904227850634296e-7,
          7.661608399613715e-7,
          7.422496379658713e-7,
          7.187032067439949e-7,
          6.9553456129434e-7,
          6.727557088923433e-7,
          6.503776565069255e-7,
          6.284104205856182e-7,
          6.068630390999915e-7,
          5.857435857385326e-7,
          5.650591861300653e-7,
          5.448160359773729e-7,
          5.250194209778707e-7,
          5.056737384059752e-7,
          4.867825202302161e-7,
          4.683484576371287e-7,
          4.503734268335095e-7,
          4.3285851599873034e-7,
          4.158040532594361e-7,
          3.9920963556011704e-7,
          3.830741583046311e-7,
          3.6739584564587674e-7,
          3.5217228130330145e-7,
          3.374004397908521e-7,
          3.2307671794124896e-7,
          3.091969666160916e-7,
          2.9575652249523087e-7,
          2.827502398430522e-7,
          2.701725221537627e-7,
          2.580173535824523e-7,
          2.462783300735446e-7,
          2.3494869010326812e-7,
          2.240213449578902e-7
         ]
        }
       ],
       "layout": {
        "annotations": [
         {
          "bordercolor": "rgb(239,85,59)",
          "borderwidth": 2,
          "font": {
           "color": "rgb(239,85,59)",
           "size": 15
          },
          "showarrow": false,
          "text": "0.415",
          "x": 400000,
          "xshift": -40,
          "y": 0.0000019055828668905936,
          "yshift": -100
         },
         {
          "bordercolor": "rgb(100,110,250)",
          "borderwidth": 2,
          "font": {
           "color": "rgb(100,110,250)",
           "size": 15
          },
          "showarrow": false,
          "text": "0.585",
          "x": 400000,
          "xshift": 40,
          "y": 0.0000019055828668905936,
          "yshift": -100
         }
        ],
        "template": {
         "data": {
          "bar": [
           {
            "error_x": {
             "color": "#2a3f5f"
            },
            "error_y": {
             "color": "#2a3f5f"
            },
            "marker": {
             "line": {
              "color": "#E5ECF6",
              "width": 0.5
             },
             "pattern": {
              "fillmode": "overlay",
              "size": 10,
              "solidity": 0.2
             }
            },
            "type": "bar"
           }
          ],
          "barpolar": [
           {
            "marker": {
             "line": {
              "color": "#E5ECF6",
              "width": 0.5
             },
             "pattern": {
              "fillmode": "overlay",
              "size": 10,
              "solidity": 0.2
             }
            },
            "type": "barpolar"
           }
          ],
          "carpet": [
           {
            "aaxis": {
             "endlinecolor": "#2a3f5f",
             "gridcolor": "white",
             "linecolor": "white",
             "minorgridcolor": "white",
             "startlinecolor": "#2a3f5f"
            },
            "baxis": {
             "endlinecolor": "#2a3f5f",
             "gridcolor": "white",
             "linecolor": "white",
             "minorgridcolor": "white",
             "startlinecolor": "#2a3f5f"
            },
            "type": "carpet"
           }
          ],
          "choropleth": [
           {
            "colorbar": {
             "outlinewidth": 0,
             "ticks": ""
            },
            "type": "choropleth"
           }
          ],
          "contour": [
           {
            "colorbar": {
             "outlinewidth": 0,
             "ticks": ""
            },
            "colorscale": [
             [
              0,
              "#0d0887"
             ],
             [
              0.1111111111111111,
              "#46039f"
             ],
             [
              0.2222222222222222,
              "#7201a8"
             ],
             [
              0.3333333333333333,
              "#9c179e"
             ],
             [
              0.4444444444444444,
              "#bd3786"
             ],
             [
              0.5555555555555556,
              "#d8576b"
             ],
             [
              0.6666666666666666,
              "#ed7953"
             ],
             [
              0.7777777777777778,
              "#fb9f3a"
             ],
             [
              0.8888888888888888,
              "#fdca26"
             ],
             [
              1,
              "#f0f921"
             ]
            ],
            "type": "contour"
           }
          ],
          "contourcarpet": [
           {
            "colorbar": {
             "outlinewidth": 0,
             "ticks": ""
            },
            "type": "contourcarpet"
           }
          ],
          "heatmap": [
           {
            "colorbar": {
             "outlinewidth": 0,
             "ticks": ""
            },
            "colorscale": [
             [
              0,
              "#0d0887"
             ],
             [
              0.1111111111111111,
              "#46039f"
             ],
             [
              0.2222222222222222,
              "#7201a8"
             ],
             [
              0.3333333333333333,
              "#9c179e"
             ],
             [
              0.4444444444444444,
              "#bd3786"
             ],
             [
              0.5555555555555556,
              "#d8576b"
             ],
             [
              0.6666666666666666,
              "#ed7953"
             ],
             [
              0.7777777777777778,
              "#fb9f3a"
             ],
             [
              0.8888888888888888,
              "#fdca26"
             ],
             [
              1,
              "#f0f921"
             ]
            ],
            "type": "heatmap"
           }
          ],
          "heatmapgl": [
           {
            "colorbar": {
             "outlinewidth": 0,
             "ticks": ""
            },
            "colorscale": [
             [
              0,
              "#0d0887"
             ],
             [
              0.1111111111111111,
              "#46039f"
             ],
             [
              0.2222222222222222,
              "#7201a8"
             ],
             [
              0.3333333333333333,
              "#9c179e"
             ],
             [
              0.4444444444444444,
              "#bd3786"
             ],
             [
              0.5555555555555556,
              "#d8576b"
             ],
             [
              0.6666666666666666,
              "#ed7953"
             ],
             [
              0.7777777777777778,
              "#fb9f3a"
             ],
             [
              0.8888888888888888,
              "#fdca26"
             ],
             [
              1,
              "#f0f921"
             ]
            ],
            "type": "heatmapgl"
           }
          ],
          "histogram": [
           {
            "marker": {
             "pattern": {
              "fillmode": "overlay",
              "size": 10,
              "solidity": 0.2
             }
            },
            "type": "histogram"
           }
          ],
          "histogram2d": [
           {
            "colorbar": {
             "outlinewidth": 0,
             "ticks": ""
            },
            "colorscale": [
             [
              0,
              "#0d0887"
             ],
             [
              0.1111111111111111,
              "#46039f"
             ],
             [
              0.2222222222222222,
              "#7201a8"
             ],
             [
              0.3333333333333333,
              "#9c179e"
             ],
             [
              0.4444444444444444,
              "#bd3786"
             ],
             [
              0.5555555555555556,
              "#d8576b"
             ],
             [
              0.6666666666666666,
              "#ed7953"
             ],
             [
              0.7777777777777778,
              "#fb9f3a"
             ],
             [
              0.8888888888888888,
              "#fdca26"
             ],
             [
              1,
              "#f0f921"
             ]
            ],
            "type": "histogram2d"
           }
          ],
          "histogram2dcontour": [
           {
            "colorbar": {
             "outlinewidth": 0,
             "ticks": ""
            },
            "colorscale": [
             [
              0,
              "#0d0887"
             ],
             [
              0.1111111111111111,
              "#46039f"
             ],
             [
              0.2222222222222222,
              "#7201a8"
             ],
             [
              0.3333333333333333,
              "#9c179e"
             ],
             [
              0.4444444444444444,
              "#bd3786"
             ],
             [
              0.5555555555555556,
              "#d8576b"
             ],
             [
              0.6666666666666666,
              "#ed7953"
             ],
             [
              0.7777777777777778,
              "#fb9f3a"
             ],
             [
              0.8888888888888888,
              "#fdca26"
             ],
             [
              1,
              "#f0f921"
             ]
            ],
            "type": "histogram2dcontour"
           }
          ],
          "mesh3d": [
           {
            "colorbar": {
             "outlinewidth": 0,
             "ticks": ""
            },
            "type": "mesh3d"
           }
          ],
          "parcoords": [
           {
            "line": {
             "colorbar": {
              "outlinewidth": 0,
              "ticks": ""
             }
            },
            "type": "parcoords"
           }
          ],
          "pie": [
           {
            "automargin": true,
            "type": "pie"
           }
          ],
          "scatter": [
           {
            "marker": {
             "colorbar": {
              "outlinewidth": 0,
              "ticks": ""
             }
            },
            "type": "scatter"
           }
          ],
          "scatter3d": [
           {
            "line": {
             "colorbar": {
              "outlinewidth": 0,
              "ticks": ""
             }
            },
            "marker": {
             "colorbar": {
              "outlinewidth": 0,
              "ticks": ""
             }
            },
            "type": "scatter3d"
           }
          ],
          "scattercarpet": [
           {
            "marker": {
             "colorbar": {
              "outlinewidth": 0,
              "ticks": ""
             }
            },
            "type": "scattercarpet"
           }
          ],
          "scattergeo": [
           {
            "marker": {
             "colorbar": {
              "outlinewidth": 0,
              "ticks": ""
             }
            },
            "type": "scattergeo"
           }
          ],
          "scattergl": [
           {
            "marker": {
             "colorbar": {
              "outlinewidth": 0,
              "ticks": ""
             }
            },
            "type": "scattergl"
           }
          ],
          "scattermapbox": [
           {
            "marker": {
             "colorbar": {
              "outlinewidth": 0,
              "ticks": ""
             }
            },
            "type": "scattermapbox"
           }
          ],
          "scatterpolar": [
           {
            "marker": {
             "colorbar": {
              "outlinewidth": 0,
              "ticks": ""
             }
            },
            "type": "scatterpolar"
           }
          ],
          "scatterpolargl": [
           {
            "marker": {
             "colorbar": {
              "outlinewidth": 0,
              "ticks": ""
             }
            },
            "type": "scatterpolargl"
           }
          ],
          "scatterternary": [
           {
            "marker": {
             "colorbar": {
              "outlinewidth": 0,
              "ticks": ""
             }
            },
            "type": "scatterternary"
           }
          ],
          "surface": [
           {
            "colorbar": {
             "outlinewidth": 0,
             "ticks": ""
            },
            "colorscale": [
             [
              0,
              "#0d0887"
             ],
             [
              0.1111111111111111,
              "#46039f"
             ],
             [
              0.2222222222222222,
              "#7201a8"
             ],
             [
              0.3333333333333333,
              "#9c179e"
             ],
             [
              0.4444444444444444,
              "#bd3786"
             ],
             [
              0.5555555555555556,
              "#d8576b"
             ],
             [
              0.6666666666666666,
              "#ed7953"
             ],
             [
              0.7777777777777778,
              "#fb9f3a"
             ],
             [
              0.8888888888888888,
              "#fdca26"
             ],
             [
              1,
              "#f0f921"
             ]
            ],
            "type": "surface"
           }
          ],
          "table": [
           {
            "cells": {
             "fill": {
              "color": "#EBF0F8"
             },
             "line": {
              "color": "white"
             }
            },
            "header": {
             "fill": {
              "color": "#C8D4E3"
             },
             "line": {
              "color": "white"
             }
            },
            "type": "table"
           }
          ]
         },
         "layout": {
          "annotationdefaults": {
           "arrowcolor": "#2a3f5f",
           "arrowhead": 0,
           "arrowwidth": 1
          },
          "autotypenumbers": "strict",
          "coloraxis": {
           "colorbar": {
            "outlinewidth": 0,
            "ticks": ""
           }
          },
          "colorscale": {
           "diverging": [
            [
             0,
             "#8e0152"
            ],
            [
             0.1,
             "#c51b7d"
            ],
            [
             0.2,
             "#de77ae"
            ],
            [
             0.3,
             "#f1b6da"
            ],
            [
             0.4,
             "#fde0ef"
            ],
            [
             0.5,
             "#f7f7f7"
            ],
            [
             0.6,
             "#e6f5d0"
            ],
            [
             0.7,
             "#b8e186"
            ],
            [
             0.8,
             "#7fbc41"
            ],
            [
             0.9,
             "#4d9221"
            ],
            [
             1,
             "#276419"
            ]
           ],
           "sequential": [
            [
             0,
             "#0d0887"
            ],
            [
             0.1111111111111111,
             "#46039f"
            ],
            [
             0.2222222222222222,
             "#7201a8"
            ],
            [
             0.3333333333333333,
             "#9c179e"
            ],
            [
             0.4444444444444444,
             "#bd3786"
            ],
            [
             0.5555555555555556,
             "#d8576b"
            ],
            [
             0.6666666666666666,
             "#ed7953"
            ],
            [
             0.7777777777777778,
             "#fb9f3a"
            ],
            [
             0.8888888888888888,
             "#fdca26"
            ],
            [
             1,
             "#f0f921"
            ]
           ],
           "sequentialminus": [
            [
             0,
             "#0d0887"
            ],
            [
             0.1111111111111111,
             "#46039f"
            ],
            [
             0.2222222222222222,
             "#7201a8"
            ],
            [
             0.3333333333333333,
             "#9c179e"
            ],
            [
             0.4444444444444444,
             "#bd3786"
            ],
            [
             0.5555555555555556,
             "#d8576b"
            ],
            [
             0.6666666666666666,
             "#ed7953"
            ],
            [
             0.7777777777777778,
             "#fb9f3a"
            ],
            [
             0.8888888888888888,
             "#fdca26"
            ],
            [
             1,
             "#f0f921"
            ]
           ]
          },
          "colorway": [
           "#636efa",
           "#EF553B",
           "#00cc96",
           "#ab63fa",
           "#FFA15A",
           "#19d3f3",
           "#FF6692",
           "#B6E880",
           "#FF97FF",
           "#FECB52"
          ],
          "font": {
           "color": "#2a3f5f"
          },
          "geo": {
           "bgcolor": "white",
           "lakecolor": "white",
           "landcolor": "#E5ECF6",
           "showlakes": true,
           "showland": true,
           "subunitcolor": "white"
          },
          "hoverlabel": {
           "align": "left"
          },
          "hovermode": "closest",
          "mapbox": {
           "style": "light"
          },
          "paper_bgcolor": "white",
          "plot_bgcolor": "#E5ECF6",
          "polar": {
           "angularaxis": {
            "gridcolor": "white",
            "linecolor": "white",
            "ticks": ""
           },
           "bgcolor": "#E5ECF6",
           "radialaxis": {
            "gridcolor": "white",
            "linecolor": "white",
            "ticks": ""
           }
          },
          "scene": {
           "xaxis": {
            "backgroundcolor": "#E5ECF6",
            "gridcolor": "white",
            "gridwidth": 2,
            "linecolor": "white",
            "showbackground": true,
            "ticks": "",
            "zerolinecolor": "white"
           },
           "yaxis": {
            "backgroundcolor": "#E5ECF6",
            "gridcolor": "white",
            "gridwidth": 2,
            "linecolor": "white",
            "showbackground": true,
            "ticks": "",
            "zerolinecolor": "white"
           },
           "zaxis": {
            "backgroundcolor": "#E5ECF6",
            "gridcolor": "white",
            "gridwidth": 2,
            "linecolor": "white",
            "showbackground": true,
            "ticks": "",
            "zerolinecolor": "white"
           }
          },
          "shapedefaults": {
           "line": {
            "color": "#2a3f5f"
           }
          },
          "ternary": {
           "aaxis": {
            "gridcolor": "white",
            "linecolor": "white",
            "ticks": ""
           },
           "baxis": {
            "gridcolor": "white",
            "linecolor": "white",
            "ticks": ""
           },
           "bgcolor": "#E5ECF6",
           "caxis": {
            "gridcolor": "white",
            "linecolor": "white",
            "ticks": ""
           }
          },
          "title": {
           "x": 0.05
          },
          "xaxis": {
           "automargin": true,
           "gridcolor": "white",
           "linecolor": "white",
           "ticks": "",
           "title": {
            "standoff": 15
           },
           "zerolinecolor": "white",
           "zerolinewidth": 2
          },
          "yaxis": {
           "automargin": true,
           "gridcolor": "white",
           "linecolor": "white",
           "ticks": "",
           "title": {
            "standoff": 15
           },
           "zerolinecolor": "white",
           "zerolinewidth": 2
          }
         }
        },
        "yaxis": {
         "visible": false
        }
       }
      }
     },
     "metadata": {},
     "output_type": "display_data"
    },
    {
     "data": {
      "text/plain": [
       "0.5848617448890694"
      ]
     },
     "execution_count": 27,
     "metadata": {},
     "output_type": "execute_result"
    }
   ],
   "source": [
    "floating_pro,floating_pro_negative = cal_norm(df_foottraffic['월 평균'].mean(),\n",
    "                                              df_foottraffic['월 평균'].std(),\n",
    "                                              df_foottraffic['월 평균'].min(),          \n",
    "                                              df_foottraffic['월 평균'].max(),  \n",
    "                                              floating_standard,\n",
    "                                              False)\n",
    "floating_pro"
   ]
  },
  {
   "cell_type": "markdown",
   "metadata": {},
   "source": [
    "### 친환경차 등록대수"
   ]
  },
  {
   "cell_type": "code",
   "execution_count": 28,
   "metadata": {},
   "outputs": [
    {
     "data": {
      "text/html": [
       "<div>\n",
       "<style scoped>\n",
       "    .dataframe tbody tr th:only-of-type {\n",
       "        vertical-align: middle;\n",
       "    }\n",
       "\n",
       "    .dataframe tbody tr th {\n",
       "        vertical-align: top;\n",
       "    }\n",
       "\n",
       "    .dataframe thead th {\n",
       "        text-align: right;\n",
       "    }\n",
       "</style>\n",
       "<table border=\"1\" class=\"dataframe\">\n",
       "  <thead>\n",
       "    <tr style=\"text-align: right;\">\n",
       "      <th></th>\n",
       "      <th>시도</th>\n",
       "      <th>시군구</th>\n",
       "      <th>읍면동</th>\n",
       "      <th>수소</th>\n",
       "      <th>전기</th>\n",
       "      <th>전기차충전소당 전기차 수</th>\n",
       "    </tr>\n",
       "  </thead>\n",
       "  <tbody>\n",
       "    <tr>\n",
       "      <th>0</th>\n",
       "      <td>부산광역시</td>\n",
       "      <td>강서구</td>\n",
       "      <td>강동동</td>\n",
       "      <td>6</td>\n",
       "      <td>71</td>\n",
       "      <td>14.200000</td>\n",
       "    </tr>\n",
       "    <tr>\n",
       "      <th>1</th>\n",
       "      <td>부산광역시</td>\n",
       "      <td>강서구</td>\n",
       "      <td>구랑동</td>\n",
       "      <td>2</td>\n",
       "      <td>35</td>\n",
       "      <td>17.500000</td>\n",
       "    </tr>\n",
       "    <tr>\n",
       "      <th>2</th>\n",
       "      <td>부산광역시</td>\n",
       "      <td>강서구</td>\n",
       "      <td>녹산동</td>\n",
       "      <td>2</td>\n",
       "      <td>32</td>\n",
       "      <td>32.000000</td>\n",
       "    </tr>\n",
       "    <tr>\n",
       "      <th>3</th>\n",
       "      <td>부산광역시</td>\n",
       "      <td>강서구</td>\n",
       "      <td>눌차동</td>\n",
       "      <td>0</td>\n",
       "      <td>15</td>\n",
       "      <td>15.000000</td>\n",
       "    </tr>\n",
       "    <tr>\n",
       "      <th>4</th>\n",
       "      <td>부산광역시</td>\n",
       "      <td>강서구</td>\n",
       "      <td>대저1동</td>\n",
       "      <td>4</td>\n",
       "      <td>290</td>\n",
       "      <td>24.166667</td>\n",
       "    </tr>\n",
       "    <tr>\n",
       "      <th>...</th>\n",
       "      <td>...</td>\n",
       "      <td>...</td>\n",
       "      <td>...</td>\n",
       "      <td>...</td>\n",
       "      <td>...</td>\n",
       "      <td>...</td>\n",
       "    </tr>\n",
       "    <tr>\n",
       "      <th>130</th>\n",
       "      <td>부산광역시</td>\n",
       "      <td>해운대구</td>\n",
       "      <td>송정동</td>\n",
       "      <td>2</td>\n",
       "      <td>176</td>\n",
       "      <td>3.914894</td>\n",
       "    </tr>\n",
       "    <tr>\n",
       "      <th>131</th>\n",
       "      <td>부산광역시</td>\n",
       "      <td>해운대구</td>\n",
       "      <td>우동</td>\n",
       "      <td>35</td>\n",
       "      <td>5091</td>\n",
       "      <td>10.695378</td>\n",
       "    </tr>\n",
       "    <tr>\n",
       "      <th>132</th>\n",
       "      <td>부산광역시</td>\n",
       "      <td>해운대구</td>\n",
       "      <td>재송동</td>\n",
       "      <td>25</td>\n",
       "      <td>1895</td>\n",
       "      <td>21.292135</td>\n",
       "    </tr>\n",
       "    <tr>\n",
       "      <th>133</th>\n",
       "      <td>부산광역시</td>\n",
       "      <td>해운대구</td>\n",
       "      <td>좌동</td>\n",
       "      <td>32</td>\n",
       "      <td>1902</td>\n",
       "      <td>6.558621</td>\n",
       "    </tr>\n",
       "    <tr>\n",
       "      <th>134</th>\n",
       "      <td>부산광역시</td>\n",
       "      <td>해운대구</td>\n",
       "      <td>중동</td>\n",
       "      <td>24</td>\n",
       "      <td>1175</td>\n",
       "      <td>4.916318</td>\n",
       "    </tr>\n",
       "  </tbody>\n",
       "</table>\n",
       "<p>135 rows × 6 columns</p>\n",
       "</div>"
      ],
      "text/plain": [
       "        시도   시군구   읍면동  수소    전기  전기차충전소당 전기차 수\n",
       "0    부산광역시   강서구   강동동   6    71      14.200000\n",
       "1    부산광역시   강서구   구랑동   2    35      17.500000\n",
       "2    부산광역시   강서구   녹산동   2    32      32.000000\n",
       "3    부산광역시   강서구   눌차동   0    15      15.000000\n",
       "4    부산광역시   강서구  대저1동   4   290      24.166667\n",
       "..     ...   ...   ...  ..   ...            ...\n",
       "130  부산광역시  해운대구   송정동   2   176       3.914894\n",
       "131  부산광역시  해운대구    우동  35  5091      10.695378\n",
       "132  부산광역시  해운대구   재송동  25  1895      21.292135\n",
       "133  부산광역시  해운대구    좌동  32  1902       6.558621\n",
       "134  부산광역시  해운대구    중동  24  1175       4.916318\n",
       "\n",
       "[135 rows x 6 columns]"
      ]
     },
     "execution_count": 28,
     "metadata": {},
     "output_type": "execute_result"
    }
   ],
   "source": [
    "vehicle_file_path = 'C:\\\\Users\\\\SAMSUNG\\\\Desktop\\\\Green-Car-Charging-Station-Site-Selection\\\\Data\\\\연료별_자동차등록대수.csv'\n",
    "df_vehicle = pd.read_csv(vehicle_file_path, encoding='cp949')\n",
    "df_vehicle"
   ]
  },
  {
   "cell_type": "markdown",
   "metadata": {},
   "source": [
    "### 전기차 충전기수"
   ]
  },
  {
   "cell_type": "code",
   "execution_count": 29,
   "metadata": {},
   "outputs": [
    {
     "data": {
      "text/html": [
       "<div>\n",
       "<style scoped>\n",
       "    .dataframe tbody tr th:only-of-type {\n",
       "        vertical-align: middle;\n",
       "    }\n",
       "\n",
       "    .dataframe tbody tr th {\n",
       "        vertical-align: top;\n",
       "    }\n",
       "\n",
       "    .dataframe thead th {\n",
       "        text-align: right;\n",
       "    }\n",
       "</style>\n",
       "<table border=\"1\" class=\"dataframe\">\n",
       "  <thead>\n",
       "    <tr style=\"text-align: right;\">\n",
       "      <th></th>\n",
       "      <th>운영기관</th>\n",
       "      <th>충전소</th>\n",
       "      <th>충전기ID</th>\n",
       "      <th>충전기타입</th>\n",
       "      <th>지역</th>\n",
       "      <th>시군구</th>\n",
       "      <th>행정동</th>\n",
       "      <th>주소</th>\n",
       "      <th>이용가능시간</th>\n",
       "      <th>이용자 제한</th>\n",
       "      <th>충전용량</th>\n",
       "      <th>비고</th>\n",
       "    </tr>\n",
       "  </thead>\n",
       "  <tbody>\n",
       "    <tr>\n",
       "      <th>0</th>\n",
       "      <td>환경부(한국자동차환경협회)</td>\n",
       "      <td>kbs 부산방송총국</td>\n",
       "      <td>1</td>\n",
       "      <td>DC차데모+AC3상+DC콤보</td>\n",
       "      <td>부산광역시</td>\n",
       "      <td>수영구</td>\n",
       "      <td>남천동</td>\n",
       "      <td>부산광역시 수영구 수영로 429</td>\n",
       "      <td>24시간 이용가능</td>\n",
       "      <td>NaN</td>\n",
       "      <td>200kW멀티</td>\n",
       "      <td>NaN</td>\n",
       "    </tr>\n",
       "    <tr>\n",
       "      <th>1</th>\n",
       "      <td>환경부(한국자동차환경협회)</td>\n",
       "      <td>kbs 부산방송총국</td>\n",
       "      <td>11</td>\n",
       "      <td>DC콤보</td>\n",
       "      <td>부산광역시</td>\n",
       "      <td>수영구</td>\n",
       "      <td>남천동</td>\n",
       "      <td>부산광역시 수영구 수영로 429</td>\n",
       "      <td>24시간 이용가능</td>\n",
       "      <td>NaN</td>\n",
       "      <td>200kW멀티</td>\n",
       "      <td>NaN</td>\n",
       "    </tr>\n",
       "    <tr>\n",
       "      <th>2</th>\n",
       "      <td>환경부(한국자동차환경협회)</td>\n",
       "      <td>kbs 부산방송총국</td>\n",
       "      <td>12</td>\n",
       "      <td>DC콤보</td>\n",
       "      <td>부산광역시</td>\n",
       "      <td>수영구</td>\n",
       "      <td>남천동</td>\n",
       "      <td>부산광역시 수영구 수영로 429</td>\n",
       "      <td>24시간 이용가능</td>\n",
       "      <td>NaN</td>\n",
       "      <td>200kW멀티</td>\n",
       "      <td>NaN</td>\n",
       "    </tr>\n",
       "    <tr>\n",
       "      <th>3</th>\n",
       "      <td>환경부(한국자동차환경협회)</td>\n",
       "      <td>국립부산과학관</td>\n",
       "      <td>11</td>\n",
       "      <td>DC콤보</td>\n",
       "      <td>부산광역시</td>\n",
       "      <td>기장군</td>\n",
       "      <td>기장읍</td>\n",
       "      <td>부산광역시 기장군 기장읍 석산리 293</td>\n",
       "      <td>24시간 이용가능</td>\n",
       "      <td>NaN</td>\n",
       "      <td>100kW멀티</td>\n",
       "      <td>NaN</td>\n",
       "    </tr>\n",
       "    <tr>\n",
       "      <th>4</th>\n",
       "      <td>환경부(한국자동차환경협회)</td>\n",
       "      <td>국립부산과학관</td>\n",
       "      <td>12</td>\n",
       "      <td>DC콤보</td>\n",
       "      <td>부산광역시</td>\n",
       "      <td>기장군</td>\n",
       "      <td>기장읍</td>\n",
       "      <td>부산광역시 기장군 기장읍 석산리 293</td>\n",
       "      <td>24시간 이용가능</td>\n",
       "      <td>NaN</td>\n",
       "      <td>100kW멀티</td>\n",
       "      <td>NaN</td>\n",
       "    </tr>\n",
       "    <tr>\n",
       "      <th>...</th>\n",
       "      <td>...</td>\n",
       "      <td>...</td>\n",
       "      <td>...</td>\n",
       "      <td>...</td>\n",
       "      <td>...</td>\n",
       "      <td>...</td>\n",
       "      <td>...</td>\n",
       "      <td>...</td>\n",
       "      <td>...</td>\n",
       "      <td>...</td>\n",
       "      <td>...</td>\n",
       "      <td>...</td>\n",
       "    </tr>\n",
       "    <tr>\n",
       "      <th>6602</th>\n",
       "      <td>한국전자금융</td>\n",
       "      <td>부산 플러스타워</td>\n",
       "      <td>1</td>\n",
       "      <td>AC완속</td>\n",
       "      <td>부산광역시</td>\n",
       "      <td>강서구</td>\n",
       "      <td>명지동</td>\n",
       "      <td>부산광역시 강서구 명지국제1로 56-1플러스타워(3598-2 플러스타워)</td>\n",
       "      <td>24시간 이용가능</td>\n",
       "      <td>NaN</td>\n",
       "      <td>7kW</td>\n",
       "      <td>NaN</td>\n",
       "    </tr>\n",
       "    <tr>\n",
       "      <th>6603</th>\n",
       "      <td>한국전자금융</td>\n",
       "      <td>부산 플러스타워</td>\n",
       "      <td>2</td>\n",
       "      <td>AC완속</td>\n",
       "      <td>부산광역시</td>\n",
       "      <td>강서구</td>\n",
       "      <td>명지동</td>\n",
       "      <td>부산광역시 강서구 명지국제1로 56-1플러스타워(3598-2 플러스타워)</td>\n",
       "      <td>24시간 이용가능</td>\n",
       "      <td>NaN</td>\n",
       "      <td>7kW</td>\n",
       "      <td>NaN</td>\n",
       "    </tr>\n",
       "    <tr>\n",
       "      <th>6604</th>\n",
       "      <td>한국전자금융</td>\n",
       "      <td>부산 휴마트괴정점</td>\n",
       "      <td>1</td>\n",
       "      <td>AC완속</td>\n",
       "      <td>부산광역시</td>\n",
       "      <td>사하구</td>\n",
       "      <td>괴정동</td>\n",
       "      <td>부산광역시 사하구 낙동대로 123휴마트괴정점(괴정동 358-1)</td>\n",
       "      <td>24시간 이용가능</td>\n",
       "      <td>NaN</td>\n",
       "      <td>7kW</td>\n",
       "      <td>NaN</td>\n",
       "    </tr>\n",
       "    <tr>\n",
       "      <th>6605</th>\n",
       "      <td>한국전자금융</td>\n",
       "      <td>부산 휴마트괴정점</td>\n",
       "      <td>2</td>\n",
       "      <td>AC완속</td>\n",
       "      <td>부산광역시</td>\n",
       "      <td>사하구</td>\n",
       "      <td>괴정동</td>\n",
       "      <td>부산광역시 사하구 낙동대로 123휴마트괴정점(괴정동 358-1)</td>\n",
       "      <td>24시간 이용가능</td>\n",
       "      <td>NaN</td>\n",
       "      <td>7kW</td>\n",
       "      <td>NaN</td>\n",
       "    </tr>\n",
       "    <tr>\n",
       "      <th>6606</th>\n",
       "      <td>한국전자금융</td>\n",
       "      <td>부산 휴마트괴정점</td>\n",
       "      <td>3</td>\n",
       "      <td>AC완속</td>\n",
       "      <td>부산광역시</td>\n",
       "      <td>사하구</td>\n",
       "      <td>괴정동</td>\n",
       "      <td>부산광역시 사하구 낙동대로 123휴마트괴정점(괴정동 358-1)</td>\n",
       "      <td>24시간 이용가능</td>\n",
       "      <td>NaN</td>\n",
       "      <td>7kW</td>\n",
       "      <td>NaN</td>\n",
       "    </tr>\n",
       "  </tbody>\n",
       "</table>\n",
       "<p>6607 rows × 12 columns</p>\n",
       "</div>"
      ],
      "text/plain": [
       "                운영기관         충전소  충전기ID            충전기타입      지역   시군구   행정동  \\\n",
       "0     환경부(한국자동차환경협회)  kbs 부산방송총국      1  DC차데모+AC3상+DC콤보  부산광역시   수영구    남천동   \n",
       "1     환경부(한국자동차환경협회)  kbs 부산방송총국     11             DC콤보  부산광역시   수영구    남천동   \n",
       "2     환경부(한국자동차환경협회)  kbs 부산방송총국     12             DC콤보  부산광역시   수영구    남천동   \n",
       "3     환경부(한국자동차환경협회)     국립부산과학관     11             DC콤보  부산광역시   기장군   기장읍    \n",
       "4     환경부(한국자동차환경협회)     국립부산과학관     12             DC콤보  부산광역시   기장군   기장읍    \n",
       "...              ...         ...    ...              ...     ...   ...   ...   \n",
       "6602          한국전자금융    부산 플러스타워      1             AC완속  부산광역시   강서구    명지동   \n",
       "6603          한국전자금융    부산 플러스타워      2             AC완속  부산광역시   강서구    명지동   \n",
       "6604          한국전자금융   부산 휴마트괴정점      1             AC완속  부산광역시   사하구    괴정동   \n",
       "6605          한국전자금융   부산 휴마트괴정점      2             AC완속  부산광역시   사하구    괴정동   \n",
       "6606          한국전자금융   부산 휴마트괴정점      3             AC완속  부산광역시   사하구    괴정동   \n",
       "\n",
       "                                            주소     이용가능시간 이용자 제한     충전용량  비고  \n",
       "0                            부산광역시 수영구 수영로 429  24시간 이용가능    NaN  200kW멀티 NaN  \n",
       "1                            부산광역시 수영구 수영로 429  24시간 이용가능    NaN  200kW멀티 NaN  \n",
       "2                            부산광역시 수영구 수영로 429  24시간 이용가능    NaN  200kW멀티 NaN  \n",
       "3                        부산광역시 기장군 기장읍 석산리 293  24시간 이용가능    NaN  100kW멀티 NaN  \n",
       "4                        부산광역시 기장군 기장읍 석산리 293  24시간 이용가능    NaN  100kW멀티 NaN  \n",
       "...                                        ...        ...    ...      ...  ..  \n",
       "6602  부산광역시 강서구 명지국제1로 56-1플러스타워(3598-2 플러스타워)  24시간 이용가능    NaN      7kW NaN  \n",
       "6603  부산광역시 강서구 명지국제1로 56-1플러스타워(3598-2 플러스타워)  24시간 이용가능    NaN      7kW NaN  \n",
       "6604       부산광역시 사하구 낙동대로 123휴마트괴정점(괴정동 358-1)  24시간 이용가능    NaN      7kW NaN  \n",
       "6605       부산광역시 사하구 낙동대로 123휴마트괴정점(괴정동 358-1)  24시간 이용가능    NaN      7kW NaN  \n",
       "6606       부산광역시 사하구 낙동대로 123휴마트괴정점(괴정동 358-1)  24시간 이용가능    NaN      7kW NaN  \n",
       "\n",
       "[6607 rows x 12 columns]"
      ]
     },
     "execution_count": 29,
     "metadata": {},
     "output_type": "execute_result"
    }
   ],
   "source": [
    "EVCS_file_path = 'C:\\\\Users\\\\SAMSUNG\\\\Desktop\\\\Green-Car-Charging-Station-Site-Selection\\\\Data\\\\전기차충전소 리스트.csv'\n",
    "df_EVCS = pd.read_csv(EVCS_file_path, encoding='cp949')\n",
    "df_EVCS"
   ]
  },
  {
   "cell_type": "code",
   "execution_count": 30,
   "metadata": {},
   "outputs": [],
   "source": [
    "# si = []\n",
    "# gu = []\n",
    "# for i in range(df_EVCS.shape[0]):\n",
    "#     strings = df_EVCS.iloc[i]['addr'].split()\n",
    "#     si.append(strings[0])\n",
    "#     gu.append(strings[1])\n",
    "# df_EVCS.drop(columns='addr',inplace=True)\n",
    "# df_EVCS.insert(4,'addr_gu',gu)\n",
    "# df_EVCS.insert(4,'addr_si',si)\n",
    "# df_EVCS.to_csv(EVCS_file_path,encoding='cp949',index=False)"
   ]
  },
  {
   "cell_type": "markdown",
   "metadata": {},
   "source": [
    "#### 급속 완속 구분\n",
    "    완속충전타입:AC완속 \n",
    "    급속충전타입:DC차데모, AC3상, DC콤보\n",
    "    chger_type\n",
    "    1:DC차데모\n",
    "    2:AC완속\n",
    "    3:DC차데모+AC3상\n",
    "    4:DC콤보\n",
    "    5:DC차데모+DC콤보\n",
    "    6:DC차데모+AC3상+DC콤보"
   ]
  },
  {
   "cell_type": "code",
   "execution_count": 31,
   "metadata": {},
   "outputs": [
    {
     "data": {
      "text/html": [
       "<div>\n",
       "<style scoped>\n",
       "    .dataframe tbody tr th:only-of-type {\n",
       "        vertical-align: middle;\n",
       "    }\n",
       "\n",
       "    .dataframe tbody tr th {\n",
       "        vertical-align: top;\n",
       "    }\n",
       "\n",
       "    .dataframe thead th {\n",
       "        text-align: right;\n",
       "    }\n",
       "</style>\n",
       "<table border=\"1\" class=\"dataframe\">\n",
       "  <thead>\n",
       "    <tr style=\"text-align: right;\">\n",
       "      <th></th>\n",
       "      <th>운영기관</th>\n",
       "      <th>충전소</th>\n",
       "      <th>충전기ID</th>\n",
       "      <th>충전기타입</th>\n",
       "      <th>지역</th>\n",
       "      <th>시군구</th>\n",
       "      <th>행정동</th>\n",
       "      <th>주소</th>\n",
       "      <th>이용가능시간</th>\n",
       "      <th>이용자 제한</th>\n",
       "      <th>충전용량</th>\n",
       "      <th>비고</th>\n",
       "    </tr>\n",
       "  </thead>\n",
       "  <tbody>\n",
       "    <tr>\n",
       "      <th>0</th>\n",
       "      <td>환경부(한국자동차환경협회)</td>\n",
       "      <td>kbs 부산방송총국</td>\n",
       "      <td>1</td>\n",
       "      <td>DC차데모+AC3상+DC콤보</td>\n",
       "      <td>부산광역시</td>\n",
       "      <td>수영구</td>\n",
       "      <td>남천동</td>\n",
       "      <td>부산광역시 수영구 수영로 429</td>\n",
       "      <td>24시간 이용가능</td>\n",
       "      <td>NaN</td>\n",
       "      <td>200kW멀티</td>\n",
       "      <td>NaN</td>\n",
       "    </tr>\n",
       "    <tr>\n",
       "      <th>1</th>\n",
       "      <td>환경부(한국자동차환경협회)</td>\n",
       "      <td>kbs 부산방송총국</td>\n",
       "      <td>11</td>\n",
       "      <td>DC콤보</td>\n",
       "      <td>부산광역시</td>\n",
       "      <td>수영구</td>\n",
       "      <td>남천동</td>\n",
       "      <td>부산광역시 수영구 수영로 429</td>\n",
       "      <td>24시간 이용가능</td>\n",
       "      <td>NaN</td>\n",
       "      <td>200kW멀티</td>\n",
       "      <td>NaN</td>\n",
       "    </tr>\n",
       "    <tr>\n",
       "      <th>2</th>\n",
       "      <td>환경부(한국자동차환경협회)</td>\n",
       "      <td>kbs 부산방송총국</td>\n",
       "      <td>12</td>\n",
       "      <td>DC콤보</td>\n",
       "      <td>부산광역시</td>\n",
       "      <td>수영구</td>\n",
       "      <td>남천동</td>\n",
       "      <td>부산광역시 수영구 수영로 429</td>\n",
       "      <td>24시간 이용가능</td>\n",
       "      <td>NaN</td>\n",
       "      <td>200kW멀티</td>\n",
       "      <td>NaN</td>\n",
       "    </tr>\n",
       "    <tr>\n",
       "      <th>3</th>\n",
       "      <td>환경부(한국자동차환경협회)</td>\n",
       "      <td>국립부산과학관</td>\n",
       "      <td>11</td>\n",
       "      <td>DC콤보</td>\n",
       "      <td>부산광역시</td>\n",
       "      <td>기장군</td>\n",
       "      <td>기장읍</td>\n",
       "      <td>부산광역시 기장군 기장읍 석산리 293</td>\n",
       "      <td>24시간 이용가능</td>\n",
       "      <td>NaN</td>\n",
       "      <td>100kW멀티</td>\n",
       "      <td>NaN</td>\n",
       "    </tr>\n",
       "    <tr>\n",
       "      <th>4</th>\n",
       "      <td>환경부(한국자동차환경협회)</td>\n",
       "      <td>국립부산과학관</td>\n",
       "      <td>12</td>\n",
       "      <td>DC콤보</td>\n",
       "      <td>부산광역시</td>\n",
       "      <td>기장군</td>\n",
       "      <td>기장읍</td>\n",
       "      <td>부산광역시 기장군 기장읍 석산리 293</td>\n",
       "      <td>24시간 이용가능</td>\n",
       "      <td>NaN</td>\n",
       "      <td>100kW멀티</td>\n",
       "      <td>NaN</td>\n",
       "    </tr>\n",
       "    <tr>\n",
       "      <th>...</th>\n",
       "      <td>...</td>\n",
       "      <td>...</td>\n",
       "      <td>...</td>\n",
       "      <td>...</td>\n",
       "      <td>...</td>\n",
       "      <td>...</td>\n",
       "      <td>...</td>\n",
       "      <td>...</td>\n",
       "      <td>...</td>\n",
       "      <td>...</td>\n",
       "      <td>...</td>\n",
       "      <td>...</td>\n",
       "    </tr>\n",
       "    <tr>\n",
       "      <th>492</th>\n",
       "      <td>모던텍</td>\n",
       "      <td>유엔공원 EV충전소(맘차지)</td>\n",
       "      <td>1</td>\n",
       "      <td>DC차데모+DC콤보</td>\n",
       "      <td>부산광역시</td>\n",
       "      <td>남구</td>\n",
       "      <td>대연동</td>\n",
       "      <td>부산광역시 남구 석포로 134SK 유엔주유소 옆(대연동 949-4)</td>\n",
       "      <td>08:00 ~ 22:00</td>\n",
       "      <td>NaN</td>\n",
       "      <td>50kW단독</td>\n",
       "      <td>NaN</td>\n",
       "    </tr>\n",
       "    <tr>\n",
       "      <th>493</th>\n",
       "      <td>모던텍</td>\n",
       "      <td>유엔공원 EV충전소(맘차지)</td>\n",
       "      <td>2</td>\n",
       "      <td>DC차데모+DC콤보</td>\n",
       "      <td>부산광역시</td>\n",
       "      <td>남구</td>\n",
       "      <td>대연동</td>\n",
       "      <td>부산광역시 남구 석포로 134SK 유엔주유소 옆(대연동 949-4)</td>\n",
       "      <td>08:00 ~ 22:00</td>\n",
       "      <td>NaN</td>\n",
       "      <td>50kW단독</td>\n",
       "      <td>NaN</td>\n",
       "    </tr>\n",
       "    <tr>\n",
       "      <th>494</th>\n",
       "      <td>모던텍</td>\n",
       "      <td>유엔공원 EV충전소(맘차지)</td>\n",
       "      <td>3</td>\n",
       "      <td>DC차데모+DC콤보</td>\n",
       "      <td>부산광역시</td>\n",
       "      <td>남구</td>\n",
       "      <td>대연동</td>\n",
       "      <td>부산광역시 남구 석포로 134SK 유엔주유소 옆(대연동 949-4)</td>\n",
       "      <td>08:00 ~ 22:00</td>\n",
       "      <td>NaN</td>\n",
       "      <td>50kW단독</td>\n",
       "      <td>NaN</td>\n",
       "    </tr>\n",
       "    <tr>\n",
       "      <th>495</th>\n",
       "      <td>모던텍</td>\n",
       "      <td>유엔공원 EV충전소(맘차지)</td>\n",
       "      <td>4</td>\n",
       "      <td>DC차데모+DC콤보</td>\n",
       "      <td>부산광역시</td>\n",
       "      <td>남구</td>\n",
       "      <td>대연동</td>\n",
       "      <td>부산광역시 남구 석포로 134SK 유엔주유소 옆(대연동 949-4)</td>\n",
       "      <td>08:00 ~ 22:00</td>\n",
       "      <td>NaN</td>\n",
       "      <td>50kW단독</td>\n",
       "      <td>NaN</td>\n",
       "    </tr>\n",
       "    <tr>\n",
       "      <th>496</th>\n",
       "      <td>한국전자금융</td>\n",
       "      <td>롯데월드 어드벤처 부산</td>\n",
       "      <td>8</td>\n",
       "      <td>DC차데모+DC콤보</td>\n",
       "      <td>부산광역시</td>\n",
       "      <td>기장군</td>\n",
       "      <td>기장읍</td>\n",
       "      <td>부산광역시 기장군 기장읍 동부산관광로 42롯데월드 어드벤처 부산(시랑리 산46)</td>\n",
       "      <td>24시간 이용가능</td>\n",
       "      <td>시설 상황에 따라 이용이 제한될 수 있음</td>\n",
       "      <td>50kW단독</td>\n",
       "      <td>NaN</td>\n",
       "    </tr>\n",
       "  </tbody>\n",
       "</table>\n",
       "<p>497 rows × 12 columns</p>\n",
       "</div>"
      ],
      "text/plain": [
       "               운영기관              충전소  충전기ID            충전기타입      지역   시군구  \\\n",
       "0    환경부(한국자동차환경협회)       kbs 부산방송총국      1  DC차데모+AC3상+DC콤보  부산광역시   수영구    \n",
       "1    환경부(한국자동차환경협회)       kbs 부산방송총국     11             DC콤보  부산광역시   수영구    \n",
       "2    환경부(한국자동차환경협회)       kbs 부산방송총국     12             DC콤보  부산광역시   수영구    \n",
       "3    환경부(한국자동차환경협회)          국립부산과학관     11             DC콤보  부산광역시   기장군    \n",
       "4    환경부(한국자동차환경협회)          국립부산과학관     12             DC콤보  부산광역시   기장군    \n",
       "..              ...              ...    ...              ...     ...   ...   \n",
       "492             모던텍  유엔공원 EV충전소(맘차지)      1       DC차데모+DC콤보  부산광역시    남구    \n",
       "493             모던텍  유엔공원 EV충전소(맘차지)      2       DC차데모+DC콤보  부산광역시    남구    \n",
       "494             모던텍  유엔공원 EV충전소(맘차지)      3       DC차데모+DC콤보  부산광역시    남구    \n",
       "495             모던텍  유엔공원 EV충전소(맘차지)      4       DC차데모+DC콤보  부산광역시    남구    \n",
       "496          한국전자금융     롯데월드 어드벤처 부산      8       DC차데모+DC콤보  부산광역시   기장군    \n",
       "\n",
       "      행정동                                            주소         이용가능시간  \\\n",
       "0     남천동                             부산광역시 수영구 수영로 429      24시간 이용가능   \n",
       "1     남천동                             부산광역시 수영구 수영로 429      24시간 이용가능   \n",
       "2     남천동                             부산광역시 수영구 수영로 429      24시간 이용가능   \n",
       "3    기장읍                          부산광역시 기장군 기장읍 석산리 293      24시간 이용가능   \n",
       "4    기장읍                          부산광역시 기장군 기장읍 석산리 293      24시간 이용가능   \n",
       "..    ...                                           ...            ...   \n",
       "492   대연동         부산광역시 남구 석포로 134SK 유엔주유소 옆(대연동 949-4)  08:00 ~ 22:00   \n",
       "493   대연동         부산광역시 남구 석포로 134SK 유엔주유소 옆(대연동 949-4)  08:00 ~ 22:00   \n",
       "494   대연동         부산광역시 남구 석포로 134SK 유엔주유소 옆(대연동 949-4)  08:00 ~ 22:00   \n",
       "495   대연동         부산광역시 남구 석포로 134SK 유엔주유소 옆(대연동 949-4)  08:00 ~ 22:00   \n",
       "496  기장읍   부산광역시 기장군 기장읍 동부산관광로 42롯데월드 어드벤처 부산(시랑리 산46)      24시간 이용가능   \n",
       "\n",
       "                     이용자 제한     충전용량  비고  \n",
       "0                       NaN  200kW멀티 NaN  \n",
       "1                       NaN  200kW멀티 NaN  \n",
       "2                       NaN  200kW멀티 NaN  \n",
       "3                       NaN  100kW멀티 NaN  \n",
       "4                       NaN  100kW멀티 NaN  \n",
       "..                      ...      ...  ..  \n",
       "492                     NaN   50kW단독 NaN  \n",
       "493                     NaN   50kW단독 NaN  \n",
       "494                     NaN   50kW단독 NaN  \n",
       "495                     NaN   50kW단독 NaN  \n",
       "496  시설 상황에 따라 이용이 제한될 수 있음   50kW단독 NaN  \n",
       "\n",
       "[497 rows x 12 columns]"
      ]
     },
     "execution_count": 31,
     "metadata": {},
     "output_type": "execute_result"
    }
   ],
   "source": [
    "df_EVCS_standard = df_EVCS[df_EVCS['충전기타입']=='AC완속'].reset_index(drop=True)\n",
    "df_EVCS_fast = df_EVCS[df_EVCS['충전기타입']!='AC완속'].reset_index(drop=True)\n",
    "df_EVCS_fast"
   ]
  },
  {
   "cell_type": "code",
   "execution_count": 32,
   "metadata": {},
   "outputs": [],
   "source": [
    "# 구별 전기차 완속충전기 수\n",
    "EVCS_standard_group = df_EVCS_standard.groupby(by=['시군구','행정동'])\n",
    "\n",
    "# 구별 전기차 급속충전기 수\n",
    "EVCS_fast_group = df_EVCS_fast.groupby(by=['시군구','행정동'])"
   ]
  },
  {
   "cell_type": "markdown",
   "metadata": {},
   "source": [
    "### 전기차 충전기당 전기차 수\n",
    "\n",
    "   충전기 1기당 전기차 수 = 행정구 전기차 수 / 행정구 충전기 수  "
   ]
  },
  {
   "cell_type": "code",
   "execution_count": 33,
   "metadata": {},
   "outputs": [
    {
     "ename": "ValueError",
     "evalue": "cannot insert 전기차충전소당 전기차 수, already exists",
     "output_type": "error",
     "traceback": [
      "\u001b[1;31m---------------------------------------------------------------------------\u001b[0m",
      "\u001b[1;31mValueError\u001b[0m                                Traceback (most recent call last)",
      "\u001b[1;32mc:\\Users\\SAMSUNG\\Desktop\\Green-Car-Charging-Station-Site-Selection\\Notebook\\GVCS\\GVCS.ipynb 셀 49\u001b[0m in \u001b[0;36m<cell line: 11>\u001b[1;34m()\u001b[0m\n\u001b[0;32m      <a href='vscode-notebook-cell:/c%3A/Users/SAMSUNG/Desktop/Green-Car-Charging-Station-Site-Selection/Notebook/GVCS/GVCS.ipynb#X66sZmlsZQ%3D%3D?line=8'>9</a>\u001b[0m         result \u001b[39m=\u001b[39m df_vehicle[df_vehicle[\u001b[39m'\u001b[39m\u001b[39m읍면동\u001b[39m\u001b[39m'\u001b[39m]\u001b[39m==\u001b[39mdong][\u001b[39m'\u001b[39m\u001b[39m전기\u001b[39m\u001b[39m'\u001b[39m]\u001b[39m.\u001b[39mvalues[\u001b[39m0\u001b[39m]\n\u001b[0;32m     <a href='vscode-notebook-cell:/c%3A/Users/SAMSUNG/Desktop/Green-Car-Charging-Station-Site-Selection/Notebook/GVCS/GVCS.ipynb#X66sZmlsZQ%3D%3D?line=9'>10</a>\u001b[0m     EV_per_charger\u001b[39m.\u001b[39mappend(result)\n\u001b[1;32m---> <a href='vscode-notebook-cell:/c%3A/Users/SAMSUNG/Desktop/Green-Car-Charging-Station-Site-Selection/Notebook/GVCS/GVCS.ipynb#X66sZmlsZQ%3D%3D?line=10'>11</a>\u001b[0m df_vehicle\u001b[39m.\u001b[39;49minsert(\u001b[39m5\u001b[39;49m,\u001b[39m'\u001b[39;49m\u001b[39m전기차충전소당 전기차 수\u001b[39;49m\u001b[39m'\u001b[39;49m, EV_per_charger)\n",
      "File \u001b[1;32mc:\\Users\\SAMSUNG\\anaconda3\\envs\\GVCS\\lib\\site-packages\\pandas\\core\\frame.py:4440\u001b[0m, in \u001b[0;36mDataFrame.insert\u001b[1;34m(self, loc, column, value, allow_duplicates)\u001b[0m\n\u001b[0;32m   4434\u001b[0m     \u001b[39mraise\u001b[39;00m \u001b[39mValueError\u001b[39;00m(\n\u001b[0;32m   4435\u001b[0m         \u001b[39m\"\u001b[39m\u001b[39mCannot specify \u001b[39m\u001b[39m'\u001b[39m\u001b[39mallow_duplicates=True\u001b[39m\u001b[39m'\u001b[39m\u001b[39m when \u001b[39m\u001b[39m\"\u001b[39m\n\u001b[0;32m   4436\u001b[0m         \u001b[39m\"\u001b[39m\u001b[39m'\u001b[39m\u001b[39mself.flags.allows_duplicate_labels\u001b[39m\u001b[39m'\u001b[39m\u001b[39m is False.\u001b[39m\u001b[39m\"\u001b[39m\n\u001b[0;32m   4437\u001b[0m     )\n\u001b[0;32m   4438\u001b[0m \u001b[39mif\u001b[39;00m \u001b[39mnot\u001b[39;00m allow_duplicates \u001b[39mand\u001b[39;00m column \u001b[39min\u001b[39;00m \u001b[39mself\u001b[39m\u001b[39m.\u001b[39mcolumns:\n\u001b[0;32m   4439\u001b[0m     \u001b[39m# Should this be a different kind of error??\u001b[39;00m\n\u001b[1;32m-> 4440\u001b[0m     \u001b[39mraise\u001b[39;00m \u001b[39mValueError\u001b[39;00m(\u001b[39mf\u001b[39m\u001b[39m\"\u001b[39m\u001b[39mcannot insert \u001b[39m\u001b[39m{\u001b[39;00mcolumn\u001b[39m}\u001b[39;00m\u001b[39m, already exists\u001b[39m\u001b[39m\"\u001b[39m)\n\u001b[0;32m   4441\u001b[0m \u001b[39mif\u001b[39;00m \u001b[39mnot\u001b[39;00m \u001b[39misinstance\u001b[39m(loc, \u001b[39mint\u001b[39m):\n\u001b[0;32m   4442\u001b[0m     \u001b[39mraise\u001b[39;00m \u001b[39mTypeError\u001b[39;00m(\u001b[39m\"\u001b[39m\u001b[39mloc must be int\u001b[39m\u001b[39m\"\u001b[39m)\n",
      "\u001b[1;31mValueError\u001b[0m: cannot insert 전기차충전소당 전기차 수, already exists"
     ]
    }
   ],
   "source": [
    "EV_per_charger = []\n",
    "dong_vehicle = df_vehicle['읍면동'].tolist()\n",
    "dong_EVCS = df_EVCS['행정동'].tolist()\n",
    "dong_EVCS = list(set(dong_EVCS))\n",
    "for dong in dong_vehicle:\n",
    "    if dong in dong_EVCS:           \n",
    "        result = df_vehicle[df_vehicle['읍면동']==dong]['전기'].values[0]  / df_EVCS[df_EVCS['행정동']==dong]['충전기ID'].count()\n",
    "    else:\n",
    "        result = df_vehicle[df_vehicle['읍면동']==dong]['전기'].values[0]\n",
    "    EV_per_charger.append(result)\n",
    "df_vehicle.insert(5,'전기차충전소당 전기차 수', EV_per_charger)"
   ]
  },
  {
   "cell_type": "code",
   "execution_count": null,
   "metadata": {},
   "outputs": [],
   "source": [
    "df_vehicle.to_csv(vehicle_file_path,encoding='cp949',index=False)"
   ]
  },
  {
   "cell_type": "code",
   "execution_count": 34,
   "metadata": {},
   "outputs": [
    {
     "data": {
      "text/html": [
       "<div>\n",
       "<style scoped>\n",
       "    .dataframe tbody tr th:only-of-type {\n",
       "        vertical-align: middle;\n",
       "    }\n",
       "\n",
       "    .dataframe tbody tr th {\n",
       "        vertical-align: top;\n",
       "    }\n",
       "\n",
       "    .dataframe thead th {\n",
       "        text-align: right;\n",
       "    }\n",
       "</style>\n",
       "<table border=\"1\" class=\"dataframe\">\n",
       "  <thead>\n",
       "    <tr style=\"text-align: right;\">\n",
       "      <th></th>\n",
       "      <th>시도</th>\n",
       "      <th>시군구</th>\n",
       "      <th>읍면동</th>\n",
       "      <th>수소</th>\n",
       "      <th>전기</th>\n",
       "      <th>전기차충전소당 전기차 수</th>\n",
       "    </tr>\n",
       "  </thead>\n",
       "  <tbody>\n",
       "    <tr>\n",
       "      <th>0</th>\n",
       "      <td>부산광역시</td>\n",
       "      <td>강서구</td>\n",
       "      <td>강동동</td>\n",
       "      <td>6</td>\n",
       "      <td>71</td>\n",
       "      <td>14.200000</td>\n",
       "    </tr>\n",
       "    <tr>\n",
       "      <th>1</th>\n",
       "      <td>부산광역시</td>\n",
       "      <td>강서구</td>\n",
       "      <td>구랑동</td>\n",
       "      <td>2</td>\n",
       "      <td>35</td>\n",
       "      <td>17.500000</td>\n",
       "    </tr>\n",
       "    <tr>\n",
       "      <th>2</th>\n",
       "      <td>부산광역시</td>\n",
       "      <td>강서구</td>\n",
       "      <td>녹산동</td>\n",
       "      <td>2</td>\n",
       "      <td>32</td>\n",
       "      <td>32.000000</td>\n",
       "    </tr>\n",
       "    <tr>\n",
       "      <th>3</th>\n",
       "      <td>부산광역시</td>\n",
       "      <td>강서구</td>\n",
       "      <td>눌차동</td>\n",
       "      <td>0</td>\n",
       "      <td>15</td>\n",
       "      <td>15.000000</td>\n",
       "    </tr>\n",
       "    <tr>\n",
       "      <th>4</th>\n",
       "      <td>부산광역시</td>\n",
       "      <td>강서구</td>\n",
       "      <td>대저1동</td>\n",
       "      <td>4</td>\n",
       "      <td>290</td>\n",
       "      <td>24.166667</td>\n",
       "    </tr>\n",
       "    <tr>\n",
       "      <th>...</th>\n",
       "      <td>...</td>\n",
       "      <td>...</td>\n",
       "      <td>...</td>\n",
       "      <td>...</td>\n",
       "      <td>...</td>\n",
       "      <td>...</td>\n",
       "    </tr>\n",
       "    <tr>\n",
       "      <th>130</th>\n",
       "      <td>부산광역시</td>\n",
       "      <td>해운대구</td>\n",
       "      <td>송정동</td>\n",
       "      <td>2</td>\n",
       "      <td>176</td>\n",
       "      <td>3.914894</td>\n",
       "    </tr>\n",
       "    <tr>\n",
       "      <th>131</th>\n",
       "      <td>부산광역시</td>\n",
       "      <td>해운대구</td>\n",
       "      <td>우동</td>\n",
       "      <td>35</td>\n",
       "      <td>5091</td>\n",
       "      <td>10.695378</td>\n",
       "    </tr>\n",
       "    <tr>\n",
       "      <th>132</th>\n",
       "      <td>부산광역시</td>\n",
       "      <td>해운대구</td>\n",
       "      <td>재송동</td>\n",
       "      <td>25</td>\n",
       "      <td>1895</td>\n",
       "      <td>21.292135</td>\n",
       "    </tr>\n",
       "    <tr>\n",
       "      <th>133</th>\n",
       "      <td>부산광역시</td>\n",
       "      <td>해운대구</td>\n",
       "      <td>좌동</td>\n",
       "      <td>32</td>\n",
       "      <td>1902</td>\n",
       "      <td>6.558621</td>\n",
       "    </tr>\n",
       "    <tr>\n",
       "      <th>134</th>\n",
       "      <td>부산광역시</td>\n",
       "      <td>해운대구</td>\n",
       "      <td>중동</td>\n",
       "      <td>24</td>\n",
       "      <td>1175</td>\n",
       "      <td>4.916318</td>\n",
       "    </tr>\n",
       "  </tbody>\n",
       "</table>\n",
       "<p>135 rows × 6 columns</p>\n",
       "</div>"
      ],
      "text/plain": [
       "        시도   시군구   읍면동  수소    전기  전기차충전소당 전기차 수\n",
       "0    부산광역시   강서구   강동동   6    71      14.200000\n",
       "1    부산광역시   강서구   구랑동   2    35      17.500000\n",
       "2    부산광역시   강서구   녹산동   2    32      32.000000\n",
       "3    부산광역시   강서구   눌차동   0    15      15.000000\n",
       "4    부산광역시   강서구  대저1동   4   290      24.166667\n",
       "..     ...   ...   ...  ..   ...            ...\n",
       "130  부산광역시  해운대구   송정동   2   176       3.914894\n",
       "131  부산광역시  해운대구    우동  35  5091      10.695378\n",
       "132  부산광역시  해운대구   재송동  25  1895      21.292135\n",
       "133  부산광역시  해운대구    좌동  32  1902       6.558621\n",
       "134  부산광역시  해운대구    중동  24  1175       4.916318\n",
       "\n",
       "[135 rows x 6 columns]"
      ]
     },
     "execution_count": 34,
     "metadata": {},
     "output_type": "execute_result"
    }
   ],
   "source": [
    "df_vehicle"
   ]
  },
  {
   "cell_type": "code",
   "execution_count": 35,
   "metadata": {},
   "outputs": [
    {
     "data": {
      "application/vnd.plotly.v1+json": {
       "config": {
        "plotlyServerURL": "https://plot.ly"
       },
       "data": [
        {
         "fill": "tozeroy",
         "line": {
          "color": "rgb(239,85,59)"
         },
         "name": "부적합",
         "type": "scatter",
         "x": [
          -172.55244741959677,
          -170.75797825374227,
          -168.96350908788776,
          -167.16903992203322,
          -165.3745707561787,
          -163.5801015903242,
          -161.7856324244697,
          -159.9911632586152,
          -158.19669409276068,
          -156.40222492690617,
          -154.60775576105164,
          -152.81328659519713,
          -151.01881742934262,
          -149.2243482634881,
          -147.4298790976336,
          -145.63540993177907,
          -143.84094076592456,
          -142.04647160007005,
          -140.25200243421554,
          -138.45753326836103,
          -136.66306410250652,
          -134.86859493665202,
          -133.07412577079748,
          -131.27965660494297,
          -129.48518743908846,
          -127.69071827323395,
          -125.89624910737945,
          -124.10177994152492,
          -122.30731077567042,
          -120.5128416098159,
          -118.71837244396139,
          -116.92390327810688,
          -115.12943411225237,
          -113.33496494639785,
          -111.54049578054334,
          -109.74602661468882,
          -107.95155744883431,
          -106.1570882829798,
          -104.36261911712529,
          -102.56814995127077,
          -100.77368078541626,
          -98.97921161956175,
          -97.18474245370723,
          -95.39027328785272,
          -93.59580412199821,
          -91.80133495614369,
          -90.00686579028918,
          -88.21239662443467,
          -86.41792745858015,
          -84.62345829272564,
          -82.82898912687114,
          -81.03451996101661,
          -79.2400507951621,
          -77.4455816293076,
          -75.65111246345307,
          -73.85664329759857,
          -72.06217413174406,
          -70.26770496588954,
          -68.47323580003503,
          -66.67876663418052,
          -64.884297468326,
          -63.08982830247149,
          -61.29535913661698,
          -59.50088997076246,
          -57.70642080490795,
          -55.91195163905344,
          -54.11748247319892,
          -52.32301330734441,
          -50.5285441414899,
          -48.73407497563538,
          -46.93960580978087,
          -45.145136643926364,
          -43.35066747807184,
          -41.55619831221733,
          -39.761729146362825,
          -37.96725998050832,
          -36.17279081465381,
          -34.37832164879927,
          -32.58385248294476,
          -30.789383317090255,
          -28.994914151235747,
          -27.20044498538124,
          -25.40597581952673,
          -23.611506653672194,
          -21.817037487817686,
          -20.022568321963178,
          -18.22809915610867,
          -16.43362999025416,
          -14.639160824399653,
          -12.844691658545116,
          -11.050222492690608,
          -9.2557533268361,
          -7.461284160981592,
          -5.666814995127083,
          -3.872345829272575,
          -2.0778766634180386,
          -0.28340749756353034,
          1.5110616682909779,
          3.305530834145486,
          5.1
         ],
         "y": [
          0.001092083554731961,
          0.001106022623681629,
          0.0011200184698140075,
          0.0011340687652861739,
          0.0011481711351502952,
          0.0011623231577964908,
          0.0011765223654266117,
          0.001190766244559014,
          0.0012050522365643795,
          0.0012193777382326072,
          0.0012337401023707955,
          0.0012481366384322783,
          0.0012625646131766938,
          0.0012770212513610023,
          0.0012915037364613796,
          0.0013060092114258561,
          0.0013205347794575774,
          0.0013350775048285143,
          0.0013496344137234285,
          0.001364202495113895,
          0.0013787787016621253,
          0.0013933599506543387,
          0.001407943124963387,
          0.0014225250740403145,
          0.0014371026149345195,
          0.0014516725333421454,
          0.0014662315846823125,
          0.0014807764952007713,
          0.0014953039631005439,
          0.0015098106596990724,
          0.0015242932306113975,
          0.0015387482969588416,
          0.0015531724566026604,
          0.0015675622854020963,
          0.001581914338496244,
          0.001596225151609121,
          0.0016104912423772983,
          0.0016247091116994427,
          0.0016388752451070815,
          0.001652986114155889,
          0.0016670381778367707,
          0.0016810278840059957,
          0.0016949516708336073,
          0.0017088059682693337,
          0.0017225871995251761,
          0.0017362917825738575,
          0.0017499161316622798,
          0.0017634566588391287,
          0.0017769097754957376,
          0.0017902718939193192,
          0.0018035394288576402,
          0.001816708799094215,
          0.0018297764290330638,
          0.001842738750292083,
          0.0018555922033040445,
          0.0018683332389242407,
          0.001880958320043778,
          0.0018934639232075013,
          0.0019058465402355322,
          0.0019181026798473894,
          0.0019302288692876503,
          0.001942221655952107,
          0.001954077609013357,
          0.0019657933210447754,
          0.001977365409641793,
          0.001988790519039412,
          0.0020000653217248864,
          0.0020111865200444856,
          0.0020221508478032654,
          0.002032955071856759,
          0.0020435959936935173,
          0.0020540704510074092,
          0.002064375319258612,
          0.002074507513222213,
          0.0020844639885233486,
          0.0020942417431578293,
          0.002103837818997165,
          0.0021132493032769667,
          0.00212247333006765,
          0.0021315070817264276,
          0.0021403477903295443,
          0.0021489927390837475,
          0.002157439263715986,
          0.0021656847538403345,
          0.002173726654301179,
          0.0021815624664916784,
          0.0021891897496465686,
          0.0021966061221083562,
          0.002203809262565999,
          0.0022107969112651585,
          0.0022175668711891497,
          0.002224117009209723,
          0.002230445257206835,
          0.002236549613156579,
          0.002242428142186486,
          0.0022480789775974094,
          0.0022535003218512413,
          0.0022586904475237215,
          0.002263647698221649,
          0.0022683704894637955
         ]
        },
        {
         "fill": "tozeroy",
         "line": {
          "color": "rgb(100,110,250)"
         },
         "name": "적합",
         "type": "scatter",
         "x": [
          5.1,
          24.664646464646466,
          44.22929292929293,
          63.7939393939394,
          83.35858585858585,
          102.92323232323233,
          122.48787878787878,
          142.05252525252524,
          161.61717171717171,
          181.1818181818182,
          200.74646464646466,
          220.3111111111111,
          239.87575757575758,
          259.4404040404041,
          279.0050505050505,
          298.569696969697,
          318.13434343434346,
          337.6989898989899,
          357.2636363636364,
          376.82828282828285,
          396.39292929292935,
          415.9575757575758,
          435.52222222222224,
          455.08686868686874,
          474.6515151515152,
          494.2161616161616,
          513.7808080808081,
          533.3454545454546,
          552.910101010101,
          572.4747474747475,
          592.039393939394,
          611.6040404040405,
          631.1686868686869,
          650.7333333333333,
          670.2979797979798,
          689.8626262626263,
          709.4272727272728,
          728.9919191919192,
          748.5565656565657,
          768.1212121212121,
          787.6858585858587,
          807.2505050505051,
          826.8151515151516,
          846.379797979798,
          865.9444444444445,
          885.5090909090909,
          905.0737373737375,
          924.6383838383839,
          944.2030303030303,
          963.7676767676768,
          983.3323232323232,
          1002.8969696969698,
          1022.4616161616162,
          1042.0262626262625,
          1061.590909090909,
          1081.1555555555556,
          1100.720202020202,
          1120.2848484848485,
          1139.8494949494948,
          1159.4141414141413,
          1178.978787878788,
          1198.5434343434342,
          1218.1080808080808,
          1237.6727272727271,
          1257.2373737373737,
          1276.8020202020202,
          1296.3666666666666,
          1315.9313131313131,
          1335.4959595959594,
          1355.060606060606,
          1374.6252525252526,
          1394.189898989899,
          1413.7545454545455,
          1433.3191919191918,
          1452.8838383838383,
          1472.448484848485,
          1492.0131313131312,
          1511.5777777777778,
          1531.142424242424,
          1550.7070707070707,
          1570.2717171717172,
          1589.8363636363636,
          1609.4010101010101,
          1628.9656565656564,
          1648.530303030303,
          1668.0949494949493,
          1687.659595959596,
          1707.2242424242424,
          1726.7888888888888,
          1746.3535353535353,
          1765.9181818181817,
          1785.4828282828282,
          1805.0474747474748,
          1824.612121212121,
          1844.1767676767677,
          1863.741414141414,
          1883.3060606060606,
          1902.870707070707,
          1922.4353535353534,
          1942
         ],
         "y": [
          0.0022683704894637955,
          0.002304278506708587,
          0.002310855088230979,
          0.0022878482670054216,
          0.0022361374084849564,
          0.0021576774302230406,
          0.0020553761529634508,
          0.0019329155100261445,
          0.0017945319349535452,
          0.001644774160469631,
          0.0014882576400267328,
          0.0013294338412035882,
          0.0011723899895761671,
          0.0010206908847021107,
          0.0008772697088899495,
          0.0007443698847826093,
          0.0006235355479506338,
          0.0005156445168629159,
          0.00042097504605069524,
          0.00033929625419761375,
          0.00026997188566246387,
          0.00021206782278070192,
          0.00016445526362792958,
          0.00012590342418186904,
          0.00009515772884521387,
          0.00007100147276636053,
          0.000052300688896091455,
          0.00003803331884992278,
          0.000027304724701570162,
          0.000019352101929887935,
          0.00001354051698892603,
          0.000009353176134727739,
          0.0000063782236298396115,
          0.00000429395149575619,
          0.0000028538509647279472,
          0.000001872501642639004,
          0.0000012129136627735383,
          7.756295237911916e-7,
          4.896610261736657e-7,
          3.0517820046665996e-7,
          1.877708793392411e-7,
          1.140564198487941e-7,
          6.83955731565757e-8,
          4.049048829841186e-8,
          2.3664361878555247e-8,
          1.3653793951202369e-8,
          7.777296463311998e-9,
          4.3734153666239e-9,
          2.4278931054766997e-9,
          1.3306234104674772e-9,
          7.199420179208467e-10,
          3.845533906108631e-10,
          2.0278346126011237e-10,
          1.0556627109119372e-10,
          5.425435362825726e-11,
          2.7527119559692454e-11,
          1.3788077232683938e-11,
          6.818100657111379e-12,
          3.3284334085848723e-12,
          1.6041061334227742e-12,
          7.6320830769969e-13,
          3.5848405356610797e-13,
          1.6623151279501556e-13,
          7.609806881405075e-14,
          3.43914650467466e-14,
          1.5344208137566838e-14,
          6.7585736044656925e-15,
          2.9388835480979856e-15,
          1.2616139150033535e-15,
          5.346718580193382e-16,
          2.236994644929414e-16,
          9.239730961069897e-17,
          3.7676492908552215e-17,
          1.5166954260873048e-17,
          6.027580885815831e-18,
          2.3648547958314895e-18,
          9.159730069544385e-19,
          3.5024958879661934e-19,
          1.3221762614875048e-19,
          4.9274002343272324e-20,
          1.812855076295441e-20,
          6.584534796295665e-21,
          2.3610428550421837e-21,
          8.357943015212242e-22,
          2.920866477931584e-22,
          1.0077220604717761e-22,
          3.432310669931485e-23,
          1.1541152447844526e-23,
          3.8311444575455835e-24,
          1.2555229071655677e-24,
          4.0619775311927733e-25,
          1.2973798711041148e-25,
          4.0908500166600185e-26,
          1.2734348227892209e-26,
          3.9134217023130174e-27,
          1.1872805120261591e-27,
          3.5560412694103964e-28,
          1.0514702962906825e-28,
          3.0693328491352665e-29,
          8.8452014642649e-30
         ]
        }
       ],
       "layout": {
        "annotations": [
         {
          "bordercolor": "rgb(239,85,59)",
          "borderwidth": 2,
          "font": {
           "color": "rgb(239,85,59)",
           "size": 15
          },
          "showarrow": false,
          "text": "0.313",
          "x": 5.1,
          "xshift": -40,
          "y": 0.0022683704894637955,
          "yshift": -100
         },
         {
          "bordercolor": "rgb(100,110,250)",
          "borderwidth": 2,
          "font": {
           "color": "rgb(100,110,250)",
           "size": 15
          },
          "showarrow": false,
          "text": "0.687",
          "x": 5.1,
          "xshift": 40,
          "y": 0.0022683704894637955,
          "yshift": -100
         }
        ],
        "template": {
         "data": {
          "bar": [
           {
            "error_x": {
             "color": "#2a3f5f"
            },
            "error_y": {
             "color": "#2a3f5f"
            },
            "marker": {
             "line": {
              "color": "#E5ECF6",
              "width": 0.5
             },
             "pattern": {
              "fillmode": "overlay",
              "size": 10,
              "solidity": 0.2
             }
            },
            "type": "bar"
           }
          ],
          "barpolar": [
           {
            "marker": {
             "line": {
              "color": "#E5ECF6",
              "width": 0.5
             },
             "pattern": {
              "fillmode": "overlay",
              "size": 10,
              "solidity": 0.2
             }
            },
            "type": "barpolar"
           }
          ],
          "carpet": [
           {
            "aaxis": {
             "endlinecolor": "#2a3f5f",
             "gridcolor": "white",
             "linecolor": "white",
             "minorgridcolor": "white",
             "startlinecolor": "#2a3f5f"
            },
            "baxis": {
             "endlinecolor": "#2a3f5f",
             "gridcolor": "white",
             "linecolor": "white",
             "minorgridcolor": "white",
             "startlinecolor": "#2a3f5f"
            },
            "type": "carpet"
           }
          ],
          "choropleth": [
           {
            "colorbar": {
             "outlinewidth": 0,
             "ticks": ""
            },
            "type": "choropleth"
           }
          ],
          "contour": [
           {
            "colorbar": {
             "outlinewidth": 0,
             "ticks": ""
            },
            "colorscale": [
             [
              0,
              "#0d0887"
             ],
             [
              0.1111111111111111,
              "#46039f"
             ],
             [
              0.2222222222222222,
              "#7201a8"
             ],
             [
              0.3333333333333333,
              "#9c179e"
             ],
             [
              0.4444444444444444,
              "#bd3786"
             ],
             [
              0.5555555555555556,
              "#d8576b"
             ],
             [
              0.6666666666666666,
              "#ed7953"
             ],
             [
              0.7777777777777778,
              "#fb9f3a"
             ],
             [
              0.8888888888888888,
              "#fdca26"
             ],
             [
              1,
              "#f0f921"
             ]
            ],
            "type": "contour"
           }
          ],
          "contourcarpet": [
           {
            "colorbar": {
             "outlinewidth": 0,
             "ticks": ""
            },
            "type": "contourcarpet"
           }
          ],
          "heatmap": [
           {
            "colorbar": {
             "outlinewidth": 0,
             "ticks": ""
            },
            "colorscale": [
             [
              0,
              "#0d0887"
             ],
             [
              0.1111111111111111,
              "#46039f"
             ],
             [
              0.2222222222222222,
              "#7201a8"
             ],
             [
              0.3333333333333333,
              "#9c179e"
             ],
             [
              0.4444444444444444,
              "#bd3786"
             ],
             [
              0.5555555555555556,
              "#d8576b"
             ],
             [
              0.6666666666666666,
              "#ed7953"
             ],
             [
              0.7777777777777778,
              "#fb9f3a"
             ],
             [
              0.8888888888888888,
              "#fdca26"
             ],
             [
              1,
              "#f0f921"
             ]
            ],
            "type": "heatmap"
           }
          ],
          "heatmapgl": [
           {
            "colorbar": {
             "outlinewidth": 0,
             "ticks": ""
            },
            "colorscale": [
             [
              0,
              "#0d0887"
             ],
             [
              0.1111111111111111,
              "#46039f"
             ],
             [
              0.2222222222222222,
              "#7201a8"
             ],
             [
              0.3333333333333333,
              "#9c179e"
             ],
             [
              0.4444444444444444,
              "#bd3786"
             ],
             [
              0.5555555555555556,
              "#d8576b"
             ],
             [
              0.6666666666666666,
              "#ed7953"
             ],
             [
              0.7777777777777778,
              "#fb9f3a"
             ],
             [
              0.8888888888888888,
              "#fdca26"
             ],
             [
              1,
              "#f0f921"
             ]
            ],
            "type": "heatmapgl"
           }
          ],
          "histogram": [
           {
            "marker": {
             "pattern": {
              "fillmode": "overlay",
              "size": 10,
              "solidity": 0.2
             }
            },
            "type": "histogram"
           }
          ],
          "histogram2d": [
           {
            "colorbar": {
             "outlinewidth": 0,
             "ticks": ""
            },
            "colorscale": [
             [
              0,
              "#0d0887"
             ],
             [
              0.1111111111111111,
              "#46039f"
             ],
             [
              0.2222222222222222,
              "#7201a8"
             ],
             [
              0.3333333333333333,
              "#9c179e"
             ],
             [
              0.4444444444444444,
              "#bd3786"
             ],
             [
              0.5555555555555556,
              "#d8576b"
             ],
             [
              0.6666666666666666,
              "#ed7953"
             ],
             [
              0.7777777777777778,
              "#fb9f3a"
             ],
             [
              0.8888888888888888,
              "#fdca26"
             ],
             [
              1,
              "#f0f921"
             ]
            ],
            "type": "histogram2d"
           }
          ],
          "histogram2dcontour": [
           {
            "colorbar": {
             "outlinewidth": 0,
             "ticks": ""
            },
            "colorscale": [
             [
              0,
              "#0d0887"
             ],
             [
              0.1111111111111111,
              "#46039f"
             ],
             [
              0.2222222222222222,
              "#7201a8"
             ],
             [
              0.3333333333333333,
              "#9c179e"
             ],
             [
              0.4444444444444444,
              "#bd3786"
             ],
             [
              0.5555555555555556,
              "#d8576b"
             ],
             [
              0.6666666666666666,
              "#ed7953"
             ],
             [
              0.7777777777777778,
              "#fb9f3a"
             ],
             [
              0.8888888888888888,
              "#fdca26"
             ],
             [
              1,
              "#f0f921"
             ]
            ],
            "type": "histogram2dcontour"
           }
          ],
          "mesh3d": [
           {
            "colorbar": {
             "outlinewidth": 0,
             "ticks": ""
            },
            "type": "mesh3d"
           }
          ],
          "parcoords": [
           {
            "line": {
             "colorbar": {
              "outlinewidth": 0,
              "ticks": ""
             }
            },
            "type": "parcoords"
           }
          ],
          "pie": [
           {
            "automargin": true,
            "type": "pie"
           }
          ],
          "scatter": [
           {
            "marker": {
             "colorbar": {
              "outlinewidth": 0,
              "ticks": ""
             }
            },
            "type": "scatter"
           }
          ],
          "scatter3d": [
           {
            "line": {
             "colorbar": {
              "outlinewidth": 0,
              "ticks": ""
             }
            },
            "marker": {
             "colorbar": {
              "outlinewidth": 0,
              "ticks": ""
             }
            },
            "type": "scatter3d"
           }
          ],
          "scattercarpet": [
           {
            "marker": {
             "colorbar": {
              "outlinewidth": 0,
              "ticks": ""
             }
            },
            "type": "scattercarpet"
           }
          ],
          "scattergeo": [
           {
            "marker": {
             "colorbar": {
              "outlinewidth": 0,
              "ticks": ""
             }
            },
            "type": "scattergeo"
           }
          ],
          "scattergl": [
           {
            "marker": {
             "colorbar": {
              "outlinewidth": 0,
              "ticks": ""
             }
            },
            "type": "scattergl"
           }
          ],
          "scattermapbox": [
           {
            "marker": {
             "colorbar": {
              "outlinewidth": 0,
              "ticks": ""
             }
            },
            "type": "scattermapbox"
           }
          ],
          "scatterpolar": [
           {
            "marker": {
             "colorbar": {
              "outlinewidth": 0,
              "ticks": ""
             }
            },
            "type": "scatterpolar"
           }
          ],
          "scatterpolargl": [
           {
            "marker": {
             "colorbar": {
              "outlinewidth": 0,
              "ticks": ""
             }
            },
            "type": "scatterpolargl"
           }
          ],
          "scatterternary": [
           {
            "marker": {
             "colorbar": {
              "outlinewidth": 0,
              "ticks": ""
             }
            },
            "type": "scatterternary"
           }
          ],
          "surface": [
           {
            "colorbar": {
             "outlinewidth": 0,
             "ticks": ""
            },
            "colorscale": [
             [
              0,
              "#0d0887"
             ],
             [
              0.1111111111111111,
              "#46039f"
             ],
             [
              0.2222222222222222,
              "#7201a8"
             ],
             [
              0.3333333333333333,
              "#9c179e"
             ],
             [
              0.4444444444444444,
              "#bd3786"
             ],
             [
              0.5555555555555556,
              "#d8576b"
             ],
             [
              0.6666666666666666,
              "#ed7953"
             ],
             [
              0.7777777777777778,
              "#fb9f3a"
             ],
             [
              0.8888888888888888,
              "#fdca26"
             ],
             [
              1,
              "#f0f921"
             ]
            ],
            "type": "surface"
           }
          ],
          "table": [
           {
            "cells": {
             "fill": {
              "color": "#EBF0F8"
             },
             "line": {
              "color": "white"
             }
            },
            "header": {
             "fill": {
              "color": "#C8D4E3"
             },
             "line": {
              "color": "white"
             }
            },
            "type": "table"
           }
          ]
         },
         "layout": {
          "annotationdefaults": {
           "arrowcolor": "#2a3f5f",
           "arrowhead": 0,
           "arrowwidth": 1
          },
          "autotypenumbers": "strict",
          "coloraxis": {
           "colorbar": {
            "outlinewidth": 0,
            "ticks": ""
           }
          },
          "colorscale": {
           "diverging": [
            [
             0,
             "#8e0152"
            ],
            [
             0.1,
             "#c51b7d"
            ],
            [
             0.2,
             "#de77ae"
            ],
            [
             0.3,
             "#f1b6da"
            ],
            [
             0.4,
             "#fde0ef"
            ],
            [
             0.5,
             "#f7f7f7"
            ],
            [
             0.6,
             "#e6f5d0"
            ],
            [
             0.7,
             "#b8e186"
            ],
            [
             0.8,
             "#7fbc41"
            ],
            [
             0.9,
             "#4d9221"
            ],
            [
             1,
             "#276419"
            ]
           ],
           "sequential": [
            [
             0,
             "#0d0887"
            ],
            [
             0.1111111111111111,
             "#46039f"
            ],
            [
             0.2222222222222222,
             "#7201a8"
            ],
            [
             0.3333333333333333,
             "#9c179e"
            ],
            [
             0.4444444444444444,
             "#bd3786"
            ],
            [
             0.5555555555555556,
             "#d8576b"
            ],
            [
             0.6666666666666666,
             "#ed7953"
            ],
            [
             0.7777777777777778,
             "#fb9f3a"
            ],
            [
             0.8888888888888888,
             "#fdca26"
            ],
            [
             1,
             "#f0f921"
            ]
           ],
           "sequentialminus": [
            [
             0,
             "#0d0887"
            ],
            [
             0.1111111111111111,
             "#46039f"
            ],
            [
             0.2222222222222222,
             "#7201a8"
            ],
            [
             0.3333333333333333,
             "#9c179e"
            ],
            [
             0.4444444444444444,
             "#bd3786"
            ],
            [
             0.5555555555555556,
             "#d8576b"
            ],
            [
             0.6666666666666666,
             "#ed7953"
            ],
            [
             0.7777777777777778,
             "#fb9f3a"
            ],
            [
             0.8888888888888888,
             "#fdca26"
            ],
            [
             1,
             "#f0f921"
            ]
           ]
          },
          "colorway": [
           "#636efa",
           "#EF553B",
           "#00cc96",
           "#ab63fa",
           "#FFA15A",
           "#19d3f3",
           "#FF6692",
           "#B6E880",
           "#FF97FF",
           "#FECB52"
          ],
          "font": {
           "color": "#2a3f5f"
          },
          "geo": {
           "bgcolor": "white",
           "lakecolor": "white",
           "landcolor": "#E5ECF6",
           "showlakes": true,
           "showland": true,
           "subunitcolor": "white"
          },
          "hoverlabel": {
           "align": "left"
          },
          "hovermode": "closest",
          "mapbox": {
           "style": "light"
          },
          "paper_bgcolor": "white",
          "plot_bgcolor": "#E5ECF6",
          "polar": {
           "angularaxis": {
            "gridcolor": "white",
            "linecolor": "white",
            "ticks": ""
           },
           "bgcolor": "#E5ECF6",
           "radialaxis": {
            "gridcolor": "white",
            "linecolor": "white",
            "ticks": ""
           }
          },
          "scene": {
           "xaxis": {
            "backgroundcolor": "#E5ECF6",
            "gridcolor": "white",
            "gridwidth": 2,
            "linecolor": "white",
            "showbackground": true,
            "ticks": "",
            "zerolinecolor": "white"
           },
           "yaxis": {
            "backgroundcolor": "#E5ECF6",
            "gridcolor": "white",
            "gridwidth": 2,
            "linecolor": "white",
            "showbackground": true,
            "ticks": "",
            "zerolinecolor": "white"
           },
           "zaxis": {
            "backgroundcolor": "#E5ECF6",
            "gridcolor": "white",
            "gridwidth": 2,
            "linecolor": "white",
            "showbackground": true,
            "ticks": "",
            "zerolinecolor": "white"
           }
          },
          "shapedefaults": {
           "line": {
            "color": "#2a3f5f"
           }
          },
          "ternary": {
           "aaxis": {
            "gridcolor": "white",
            "linecolor": "white",
            "ticks": ""
           },
           "baxis": {
            "gridcolor": "white",
            "linecolor": "white",
            "ticks": ""
           },
           "bgcolor": "#E5ECF6",
           "caxis": {
            "gridcolor": "white",
            "linecolor": "white",
            "ticks": ""
           }
          },
          "title": {
           "x": 0.05
          },
          "xaxis": {
           "automargin": true,
           "gridcolor": "white",
           "linecolor": "white",
           "ticks": "",
           "title": {
            "standoff": 15
           },
           "zerolinecolor": "white",
           "zerolinewidth": 2
          },
          "yaxis": {
           "automargin": true,
           "gridcolor": "white",
           "linecolor": "white",
           "ticks": "",
           "title": {
            "standoff": 15
           },
           "zerolinecolor": "white",
           "zerolinewidth": 2
          }
         }
        },
        "yaxis": {
         "visible": false
        }
       }
      }
     },
     "metadata": {},
     "output_type": "display_data"
    }
   ],
   "source": [
    "EV_per_charger_pro, EV_per_charger_pro_negative = cal_norm(df_vehicle['전기차충전소당 전기차 수'].mean(),\n",
    "                                                           df_vehicle['전기차충전소당 전기차 수'].std(),\n",
    "                                                           df_vehicle['전기차충전소당 전기차 수'].min(),\n",
    "                                                           df_vehicle['전기차충전소당 전기차 수'].max(),\n",
    "                                                           EV_per_charger_standard,\n",
    "                                                           False)"
   ]
  },
  {
   "cell_type": "markdown",
   "metadata": {},
   "source": [
    "### 전기차 충전소 이용률 계산"
   ]
  },
  {
   "cell_type": "markdown",
   "metadata": {},
   "source": [
    "충전소 수"
   ]
  },
  {
   "cell_type": "code",
   "execution_count": 36,
   "metadata": {},
   "outputs": [
    {
     "data": {
      "text/html": [
       "<div>\n",
       "<style scoped>\n",
       "    .dataframe tbody tr th:only-of-type {\n",
       "        vertical-align: middle;\n",
       "    }\n",
       "\n",
       "    .dataframe tbody tr th {\n",
       "        vertical-align: top;\n",
       "    }\n",
       "\n",
       "    .dataframe thead th {\n",
       "        text-align: right;\n",
       "    }\n",
       "</style>\n",
       "<table border=\"1\" class=\"dataframe\">\n",
       "  <thead>\n",
       "    <tr style=\"text-align: right;\">\n",
       "      <th></th>\n",
       "      <th>chgerId</th>\n",
       "      <th>chgerType</th>\n",
       "      <th>lat</th>\n",
       "      <th>lng</th>\n",
       "      <th>stat</th>\n",
       "      <th>statUpdDt</th>\n",
       "      <th>lastTsdt</th>\n",
       "      <th>lastTedt</th>\n",
       "      <th>nowTsdt</th>\n",
       "      <th>output</th>\n",
       "      <th>zcode</th>\n",
       "      <th>zscode</th>\n",
       "    </tr>\n",
       "    <tr>\n",
       "      <th>statId</th>\n",
       "      <th></th>\n",
       "      <th></th>\n",
       "      <th></th>\n",
       "      <th></th>\n",
       "      <th></th>\n",
       "      <th></th>\n",
       "      <th></th>\n",
       "      <th></th>\n",
       "      <th></th>\n",
       "      <th></th>\n",
       "      <th></th>\n",
       "      <th></th>\n",
       "    </tr>\n",
       "  </thead>\n",
       "  <tbody>\n",
       "    <tr>\n",
       "      <th>EP200480</th>\n",
       "      <td>37</td>\n",
       "      <td>222</td>\n",
       "      <td>1300.406436</td>\n",
       "      <td>4773.259633</td>\n",
       "      <td>8</td>\n",
       "      <td>7.474000e+14</td>\n",
       "      <td>7.474000e+14</td>\n",
       "      <td>7.474000e+14</td>\n",
       "      <td>7.474000e+14</td>\n",
       "      <td>1850</td>\n",
       "      <td>962</td>\n",
       "      <td>981610.0</td>\n",
       "    </tr>\n",
       "    <tr>\n",
       "      <th>GN000986</th>\n",
       "      <td>266</td>\n",
       "      <td>190</td>\n",
       "      <td>1342.815466</td>\n",
       "      <td>4908.255055</td>\n",
       "      <td>6</td>\n",
       "      <td>7.676000e+14</td>\n",
       "      <td>7.676000e+14</td>\n",
       "      <td>7.676000e+14</td>\n",
       "      <td>7.676000e+14</td>\n",
       "      <td>1900</td>\n",
       "      <td>988</td>\n",
       "      <td>1014980.0</td>\n",
       "    </tr>\n",
       "    <tr>\n",
       "      <th>GS000075</th>\n",
       "      <td>114</td>\n",
       "      <td>304</td>\n",
       "      <td>2672.276508</td>\n",
       "      <td>9817.006108</td>\n",
       "      <td>22</td>\n",
       "      <td>1.535200e+15</td>\n",
       "      <td>1.535200e+15</td>\n",
       "      <td>1.535200e+15</td>\n",
       "      <td>1.535200e+15</td>\n",
       "      <td>15200</td>\n",
       "      <td>1976</td>\n",
       "      <td>2002600.0</td>\n",
       "    </tr>\n",
       "    <tr>\n",
       "      <th>HE001095</th>\n",
       "      <td>38</td>\n",
       "      <td>190</td>\n",
       "      <td>1333.227872</td>\n",
       "      <td>4900.908906</td>\n",
       "      <td>12</td>\n",
       "      <td>7.676000e+14</td>\n",
       "      <td>7.676000e+14</td>\n",
       "      <td>7.676000e+14</td>\n",
       "      <td>7.676000e+14</td>\n",
       "      <td>3800</td>\n",
       "      <td>988</td>\n",
       "      <td>1002440.0</td>\n",
       "    </tr>\n",
       "    <tr>\n",
       "      <th>HE001097</th>\n",
       "      <td>38</td>\n",
       "      <td>228</td>\n",
       "      <td>1333.844080</td>\n",
       "      <td>4901.232400</td>\n",
       "      <td>13</td>\n",
       "      <td>7.676000e+14</td>\n",
       "      <td>7.676000e+14</td>\n",
       "      <td>7.676000e+14</td>\n",
       "      <td>7.676000e+14</td>\n",
       "      <td>1900</td>\n",
       "      <td>988</td>\n",
       "      <td>1002440.0</td>\n",
       "    </tr>\n",
       "    <tr>\n",
       "      <th>...</th>\n",
       "      <td>...</td>\n",
       "      <td>...</td>\n",
       "      <td>...</td>\n",
       "      <td>...</td>\n",
       "      <td>...</td>\n",
       "      <td>...</td>\n",
       "      <td>...</td>\n",
       "      <td>...</td>\n",
       "      <td>...</td>\n",
       "      <td>...</td>\n",
       "      <td>...</td>\n",
       "      <td>...</td>\n",
       "    </tr>\n",
       "    <tr>\n",
       "      <th>ST265308</th>\n",
       "      <td>380</td>\n",
       "      <td>608</td>\n",
       "      <td>5348.080161</td>\n",
       "      <td>19604.961110</td>\n",
       "      <td>9</td>\n",
       "      <td>3.070400e+15</td>\n",
       "      <td>3.070400e+15</td>\n",
       "      <td>3.070400e+15</td>\n",
       "      <td>3.070400e+15</td>\n",
       "      <td>15200</td>\n",
       "      <td>3952</td>\n",
       "      <td>4032560.0</td>\n",
       "    </tr>\n",
       "    <tr>\n",
       "      <th>ST265309</th>\n",
       "      <td>380</td>\n",
       "      <td>608</td>\n",
       "      <td>5348.080161</td>\n",
       "      <td>19604.961110</td>\n",
       "      <td>9</td>\n",
       "      <td>3.070400e+15</td>\n",
       "      <td>3.070400e+15</td>\n",
       "      <td>3.070400e+15</td>\n",
       "      <td>3.070400e+15</td>\n",
       "      <td>15200</td>\n",
       "      <td>3952</td>\n",
       "      <td>4032560.0</td>\n",
       "    </tr>\n",
       "    <tr>\n",
       "      <th>ST267115</th>\n",
       "      <td>38</td>\n",
       "      <td>228</td>\n",
       "      <td>1337.230826</td>\n",
       "      <td>4909.990302</td>\n",
       "      <td>6</td>\n",
       "      <td>7.676000e+14</td>\n",
       "      <td>7.676000e+14</td>\n",
       "      <td>7.676000e+14</td>\n",
       "      <td>7.676000e+14</td>\n",
       "      <td>1900</td>\n",
       "      <td>988</td>\n",
       "      <td>1014980.0</td>\n",
       "    </tr>\n",
       "    <tr>\n",
       "      <th>ST267116</th>\n",
       "      <td>38</td>\n",
       "      <td>228</td>\n",
       "      <td>1337.296697</td>\n",
       "      <td>4910.275173</td>\n",
       "      <td>35</td>\n",
       "      <td>7.676000e+14</td>\n",
       "      <td>7.676000e+14</td>\n",
       "      <td>7.676000e+14</td>\n",
       "      <td>7.676000e+14</td>\n",
       "      <td>1900</td>\n",
       "      <td>988</td>\n",
       "      <td>1014980.0</td>\n",
       "    </tr>\n",
       "    <tr>\n",
       "      <th>ST267119</th>\n",
       "      <td>570</td>\n",
       "      <td>1140</td>\n",
       "      <td>6685.849713</td>\n",
       "      <td>24550.668227</td>\n",
       "      <td>10</td>\n",
       "      <td>3.838000e+15</td>\n",
       "      <td>3.838000e+15</td>\n",
       "      <td>3.838000e+15</td>\n",
       "      <td>3.838000e+15</td>\n",
       "      <td>9500</td>\n",
       "      <td>4940</td>\n",
       "      <td>5074900.0</td>\n",
       "    </tr>\n",
       "  </tbody>\n",
       "</table>\n",
       "<p>65 rows × 12 columns</p>\n",
       "</div>"
      ],
      "text/plain": [
       "          chgerId  chgerType          lat           lng  stat     statUpdDt  \\\n",
       "statId                                                                        \n",
       "EP200480       37        222  1300.406436   4773.259633     8  7.474000e+14   \n",
       "GN000986      266        190  1342.815466   4908.255055     6  7.676000e+14   \n",
       "GS000075      114        304  2672.276508   9817.006108    22  1.535200e+15   \n",
       "HE001095       38        190  1333.227872   4900.908906    12  7.676000e+14   \n",
       "HE001097       38        228  1333.844080   4901.232400    13  7.676000e+14   \n",
       "...           ...        ...          ...           ...   ...           ...   \n",
       "ST265308      380        608  5348.080161  19604.961110     9  3.070400e+15   \n",
       "ST265309      380        608  5348.080161  19604.961110     9  3.070400e+15   \n",
       "ST267115       38        228  1337.230826   4909.990302     6  7.676000e+14   \n",
       "ST267116       38        228  1337.296697   4910.275173    35  7.676000e+14   \n",
       "ST267119      570       1140  6685.849713  24550.668227    10  3.838000e+15   \n",
       "\n",
       "              lastTsdt      lastTedt       nowTsdt  output  zcode     zscode  \n",
       "statId                                                                        \n",
       "EP200480  7.474000e+14  7.474000e+14  7.474000e+14    1850    962   981610.0  \n",
       "GN000986  7.676000e+14  7.676000e+14  7.676000e+14    1900    988  1014980.0  \n",
       "GS000075  1.535200e+15  1.535200e+15  1.535200e+15   15200   1976  2002600.0  \n",
       "HE001095  7.676000e+14  7.676000e+14  7.676000e+14    3800    988  1002440.0  \n",
       "HE001097  7.676000e+14  7.676000e+14  7.676000e+14    1900    988  1002440.0  \n",
       "...                ...           ...           ...     ...    ...        ...  \n",
       "ST265308  3.070400e+15  3.070400e+15  3.070400e+15   15200   3952  4032560.0  \n",
       "ST265309  3.070400e+15  3.070400e+15  3.070400e+15   15200   3952  4032560.0  \n",
       "ST267115  7.676000e+14  7.676000e+14  7.676000e+14    1900    988  1014980.0  \n",
       "ST267116  7.676000e+14  7.676000e+14  7.676000e+14    1900    988  1014980.0  \n",
       "ST267119  3.838000e+15  3.838000e+15  3.838000e+15    9500   4940  5074900.0  \n",
       "\n",
       "[65 rows x 12 columns]"
      ]
     },
     "execution_count": 36,
     "metadata": {},
     "output_type": "execute_result"
    }
   ],
   "source": [
    "userate_file_path = 'C:\\\\Users\\\\SAMSUNG\\\\Desktop\\\\Green-Car-Charging-Station-Site-Selection\\\\Data\\\\실시간 전기차 충전소 상태정보.csv'\n",
    "df_userate = pd.read_csv(userate_file_path,encoding='cp949')\n",
    "df_userate.sort_values(by=['region_2depth_name','region_3depth_name'])\n",
    "# stat : 하루 이용자 수\n",
    "use_rate = df_userate.groupby('statId').sum()\n",
    "high_rate = use_rate[use_rate['stat']>=5.1].index.tolist()\n",
    "use_rate[use_rate['stat']>=EV_per_charger_standard]"
   ]
  },
  {
   "cell_type": "code",
   "execution_count": 37,
   "metadata": {},
   "outputs": [],
   "source": [
    "high_rate_dong = []\n",
    "for name in high_rate:\n",
    "    dong = df_userate[df_userate['statId']==name]['region_3depth_name'].values[0]\n",
    "    high_rate_dong.append(dong)\n",
    "high_rate_dong = list(set(high_rate_dong))"
   ]
  },
  {
   "cell_type": "code",
   "execution_count": 38,
   "metadata": {},
   "outputs": [],
   "source": [
    "# # 이상치 제거\n",
    "# def get_outlier(df, column, weight=1.5):\n",
    "#   # target 값과 상관관계가 높은 열을 우선적으로 진행\n",
    "#   quantile_25 = np.percentile(df[column].values, 25)\n",
    "#   quantile_75 = np.percentile(df[column].values, 75)\n",
    "\n",
    "#   IQR = quantile_75 - quantile_25\n",
    "#   IQR_weight = IQR*weight\n",
    "  \n",
    "#   lowest = quantile_25\n",
    "#   highest = quantile_75 + IQR_weight\n",
    "  \n",
    "#   outlier_idx = df[column][ (df[column] < lowest) | (df[column] > highest) ].index\n",
    "#   return outlier_idx\n",
    "\n",
    "# val = []\n",
    "# for dong in high_rate_dong:\n",
    "#     val.append(df_street_supply[df_street_supply['법정동']==dong]['도로보급률'].values[0])\n",
    "# df = pd.DataFrame(list(zip(high_rate_dong,val)),columns=['법정동','도로보급률'])\n",
    "# # 함수 사용해서 이상치 값 삭제\n",
    "# outlier_idx = get_outlier(df=df, column='도로보급률', weight=1.5)\n",
    "# df.drop(outlier_idx, axis=0, inplace=True)\n",
    "# df['도로보급률'].min()"
   ]
  },
  {
   "cell_type": "markdown",
   "metadata": {},
   "source": [
    "#### 부산 전기차 충전소 적합확률"
   ]
  },
  {
   "cell_type": "code",
   "execution_count": 39,
   "metadata": {},
   "outputs": [
    {
     "data": {
      "application/vnd.plotly.v1+json": {
       "config": {
        "plotlyServerURL": "https://plot.ly"
       },
       "data": [
        {
         "fill": "tozeroy",
         "line": {
          "color": "rgb(239,85,59)"
         },
         "name": "부적합",
         "type": "scatter",
         "x": [
          -7.246218173726013,
          -7.121508899243932,
          -6.996799624761851,
          -6.8720903502797706,
          -6.747381075797689,
          -6.622671801315608,
          -6.497962526833527,
          -6.3732532523514465,
          -6.248543977869366,
          -6.123834703387285,
          -5.999125428905204,
          -5.874416154423123,
          -5.749706879941042,
          -5.624997605458961,
          -5.50028833097688,
          -5.375579056494799,
          -5.250869782012718,
          -5.126160507530637,
          -5.001451233048556,
          -4.876741958566475,
          -4.752032684084394,
          -4.6273234096023135,
          -4.502614135120233,
          -4.377904860638152,
          -4.253195586156071,
          -4.12848631167399,
          -4.0037770371919095,
          -3.879067762709828,
          -3.754358488227747,
          -3.629649213745666,
          -3.5049399392635854,
          -3.380230664781504,
          -3.2555213902994233,
          -3.130812115817342,
          -3.0061028413352613,
          -2.8813935668531805,
          -2.7566842923710997,
          -2.631975017889019,
          -2.507265743406938,
          -2.3825564689248573,
          -2.2578471944427756,
          -2.133137919960695,
          -2.008428645478614,
          -1.8837193709965332,
          -1.7590100965144524,
          -1.6343008220323716,
          -1.5095915475502908,
          -1.384882273068209,
          -1.2601729985861283,
          -1.1354637241040475,
          -1.0107544496219667,
          -0.8860451751398859,
          -0.7613359006578051,
          -0.6366266261757243,
          -0.5119173516936426,
          -0.3872080772115618,
          -0.262498802729481,
          -0.1377895282474002,
          -0.013080253765319405,
          0.1116290207167614,
          0.2363382951988422,
          0.3610475696809239,
          0.4857568441630047,
          0.6104661186450855,
          0.7351753931271663,
          0.859884667609248,
          0.9845939420913288,
          1.1093032165734096,
          1.2340124910554904,
          1.3587217655375712,
          1.483431040019652,
          1.6081403145017328,
          1.7328495889838136,
          1.8575588634658944,
          1.9822681379479752,
          2.106977412430056,
          2.231686686912137,
          2.3563959613942176,
          2.4811052358762984,
          2.605814510358381,
          2.7305237848404618,
          2.8552330593225426,
          2.9799423338046234,
          3.104651608286704,
          3.229360882768785,
          3.3540701572508658,
          3.4787794317329466,
          3.6034887062150274,
          3.728197980697108,
          3.852907255179189,
          3.9776165296612698,
          4.102325804143351,
          4.227035078625431,
          4.351744353107514,
          4.476453627589595,
          4.6011629020716756,
          4.725872176553756,
          4.850581451035837,
          4.975290725517918,
          5.1
         ],
         "y": [
          0.007313392803145336,
          0.007569595674278337,
          0.007832453586689431,
          0.008102039246477954,
          0.008378421793339284,
          0.008661666594526985,
          0.00895183503743635,
          0.009248984321136872,
          0.009553167247194868,
          0.00986443201014014,
          0.010182821987943425,
          0.010508375532883142,
          0.010841125763191801,
          0.011181100355883282,
          0.011528321341172655,
          0.011882804898909947,
          0.012244561157458278,
          0.012613593995455167,
          0.012989900846903065,
          0.013373472510042176,
          0.013764292960464023,
          0.014162339168929268,
          0.014567580924357107,
          0.014979980662456358,
          0.015399493300470253,
          0.015826066078507523,
          0.016259638407932153,
          0.016700141727282562,
          0.01714749936618815,
          0.017601626417747398,
          0.01806242961982658,
          0.018529807245731566,
          0.019003649004697778,
          0.01948383595263445,
          0.019970240413548994,
          0.02046272591206595,
          0.020961147117442253,
          0.021465349799466397,
          0.02197517079661394,
          0.022490437996814983,
          0.023010970331171582,
          0.02353657778094394,
          0.0240670613981038,
          0.024602213339732244,
          0.025141816916516006,
          0.025685646655573238,
          0.02623346837781401,
          0.02678503929001587,
          0.027340108091766856,
          0.02789841509740143,
          0.028459692373025286,
          0.029023663888695955,
          0.029590045685795374,
          0.030158546059599806,
          0.030728865757020617,
          0.03130069818945715,
          0.031873729660670404,
          0.03244763960955251,
          0.033022100867634366,
          0.033596779931139104,
          0.03417133724735578,
          0.034745427515073514,
          0.035318699998782455,
          0.03589079885631366,
          0.036461363479557196,
          0.0370300288478634,
          0.03759642589370018,
          0.03816018188010614,
          0.038720920789447895,
          0.03927826372295825,
          0.039831829310502116,
          0.040381234129986704,
          0.04092609313580471,
          0.041466020095670984,
          0.042000628035187164,
          0.0425295296894433,
          0.04305233796094186,
          0.04356866638310673,
          0.04407812958861882,
          0.04458034378180068,
          0.04507492721425415,
          0.045561500662939444,
          0.04603968790986898,
          0.0465091162225772,
          0.04696941683451639,
          0.04742022542451985,
          0.047861182594466804,
          0.0482919343442783,
          0.048712132543370874,
          0.04912143539769313,
          0.0495195079114725,
          0.049906022342801906,
          0.050280658652202034,
          0.05064310494330193,
          0.050993057894790715,
          0.051330223182804426,
          0.051654315892926045,
          0.05196506092099233,
          0.052262193361919326,
          0.05254545888577752
         ]
        },
        {
         "fill": "tozeroy",
         "line": {
          "color": "rgb(100,110,250)"
         },
         "name": "적합",
         "type": "scatter",
         "x": [
          5.1,
          5.462626262626262,
          5.825252525252525,
          6.1878787878787875,
          6.55050505050505,
          6.913131313131313,
          7.275757575757575,
          7.638383838383838,
          8.0010101010101,
          8.363636363636363,
          8.726262626262626,
          9.088888888888889,
          9.451515151515151,
          9.814141414141414,
          10.176767676767676,
          10.539393939393939,
          10.902020202020202,
          11.264646464646464,
          11.627272727272727,
          11.98989898989899,
          12.352525252525252,
          12.715151515151515,
          13.077777777777778,
          13.44040404040404,
          13.803030303030303,
          14.165656565656565,
          14.528282828282828,
          14.89090909090909,
          15.253535353535353,
          15.616161616161616,
          15.978787878787879,
          16.34141414141414,
          16.704040404040406,
          17.066666666666666,
          17.429292929292927,
          17.79191919191919,
          18.154545454545456,
          18.517171717171717,
          18.879797979797978,
          19.242424242424242,
          19.605050505050507,
          19.967676767676767,
          20.33030303030303,
          20.692929292929293,
          21.055555555555557,
          21.41818181818182,
          21.78080808080808,
          22.143434343434343,
          22.506060606060608,
          22.868686868686872,
          23.23131313131313,
          23.593939393939394,
          23.956565656565658,
          24.319191919191923,
          24.68181818181818,
          25.044444444444444,
          25.40707070707071,
          25.769696969696973,
          26.13232323232323,
          26.494949494949495,
          26.85757575757576,
          27.220202020202024,
          27.58282828282828,
          27.945454545454545,
          28.30808080808081,
          28.670707070707074,
          29.03333333333333,
          29.395959595959596,
          29.75858585858586,
          30.121212121212125,
          30.483838383838382,
          30.846464646464646,
          31.20909090909091,
          31.571717171717175,
          31.934343434343432,
          32.2969696969697,
          32.65959595959596,
          33.022222222222226,
          33.38484848484848,
          33.74747474747475,
          34.11010101010101,
          34.472727272727276,
          34.83535353535353,
          35.1979797979798,
          35.56060606060606,
          35.92323232323233,
          36.285858585858584,
          36.64848484848485,
          37.01111111111111,
          37.37373737373738,
          37.73636363636364,
          38.0989898989899,
          38.46161616161616,
          38.82424242424243,
          39.186868686868685,
          39.54949494949495,
          39.912121212121214,
          40.27474747474748,
          40.63737373737374,
          41
         ],
         "y": [
          0.05254545888577752,
          0.05328813452364879,
          0.053906137882078355,
          0.054394913635560115,
          0.054750833899405084,
          0.05497124306987897,
          0.05505449081985897,
          0.05499995267653702,
          0.05480803782225608,
          0.054480183982167266,
          0.054018839488056615,
          0.05342743283134552,
          0.05271033023490679,
          0.051872781978140485,
          0.05092085839822424,
          0.049861376658538806,
          0.04870181951946952,
          0.047450247464232743,
          0.04611520562091735,
          0.04470562698016117,
          0.04323073343517452,
          0.041699936167328415,
          0.04012273686714876,
          0.03850863121891262,
          0.036867015989387825,
          0.035207100950414766,
          0.03353782673428842,
          0.0318677895739139,
          0.030205173720381118,
          0.02855769216297264,
          0.026932536104743027,
          0.02533633347465572,
          0.02377511658861772,
          0.02225429891010784,
          0.020778660709590134,
          0.019352343283253987,
          0.017978851268067836,
          0.016661062483414795,
          0.015401244640918507,
          0.014201078194171346,
          0.013061684549152306,
          0.011983658823903011,
          0.010967106331824164,
          0.010011681965686602,
          0.009116631677725506,
          0.008280835283347294,
          0.007502849860174798,
          0.006780953068405336,
          0.006113185780710047,
          0.005497393478102969,
          0.004931265940346736,
          0.004412374833621346,
          0.003938208872586067,
          0.0035062063069999354,
          0.003113784553320186,
          0.0027583668579634667,
          0.002437405940209323,
          0.0021484046182873792,
          0.0018889334714760632,
          0.001656645633717023,
          0.0014492888501739028,
          0.0012647149573706386,
          0.001100886970219641,
          0.0009558839757112539,
          0.0008279040437063602,
          0.0007152653706594131,
          0.0006164058727645474,
          0.0005298814415639802,
          0.00045436306810413507,
          0.0003886330318876815,
          0.0003315803387492004,
          0.0002821955779484448,
          0.0002395653537584276,
          0.00020286643110747468,
          0.0001713597188437742,
          0.00014438419829960623,
          0.00012135088935500064,
          0.00010173693139440801,
          0.00008507984261793498,
          0.00007097200826190006,
          0.00005905543650599625,
          0.00004901681025767709,
          0.0000405828536330091,
          0.000033516023789746807,
          0.000027610531779180286,
          0.000022688690213553487,
          0.000018597580724636437,
          0.000015206030333731363,
          0.000012401882873847545,
          0.000010089549406821511,
          0.000008187820066686842,
          0.0000066279188420844094,
          0.000005351782395069751,
          0.00000431054401661962,
          0.0000034632041621051848,
          0.000002775469621714873,
          0.0000022187441975144405,
          0.0000017692547244150106,
          0.0000014072973382324482,
          0.0000011165900189875568
         ]
        }
       ],
       "layout": {
        "annotations": [
         {
          "bordercolor": "rgb(239,85,59)",
          "borderwidth": 2,
          "font": {
           "color": "rgb(239,85,59)",
           "size": 15
          },
          "showarrow": false,
          "text": "0.358",
          "x": 5.1,
          "xshift": -40,
          "y": 0.05254545888577752,
          "yshift": -100
         },
         {
          "bordercolor": "rgb(100,110,250)",
          "borderwidth": 2,
          "font": {
           "color": "rgb(100,110,250)",
           "size": 15
          },
          "showarrow": false,
          "text": "0.642",
          "x": 5.1,
          "xshift": 40,
          "y": 0.05254545888577752,
          "yshift": -100
         }
        ],
        "template": {
         "data": {
          "bar": [
           {
            "error_x": {
             "color": "#2a3f5f"
            },
            "error_y": {
             "color": "#2a3f5f"
            },
            "marker": {
             "line": {
              "color": "#E5ECF6",
              "width": 0.5
             },
             "pattern": {
              "fillmode": "overlay",
              "size": 10,
              "solidity": 0.2
             }
            },
            "type": "bar"
           }
          ],
          "barpolar": [
           {
            "marker": {
             "line": {
              "color": "#E5ECF6",
              "width": 0.5
             },
             "pattern": {
              "fillmode": "overlay",
              "size": 10,
              "solidity": 0.2
             }
            },
            "type": "barpolar"
           }
          ],
          "carpet": [
           {
            "aaxis": {
             "endlinecolor": "#2a3f5f",
             "gridcolor": "white",
             "linecolor": "white",
             "minorgridcolor": "white",
             "startlinecolor": "#2a3f5f"
            },
            "baxis": {
             "endlinecolor": "#2a3f5f",
             "gridcolor": "white",
             "linecolor": "white",
             "minorgridcolor": "white",
             "startlinecolor": "#2a3f5f"
            },
            "type": "carpet"
           }
          ],
          "choropleth": [
           {
            "colorbar": {
             "outlinewidth": 0,
             "ticks": ""
            },
            "type": "choropleth"
           }
          ],
          "contour": [
           {
            "colorbar": {
             "outlinewidth": 0,
             "ticks": ""
            },
            "colorscale": [
             [
              0,
              "#0d0887"
             ],
             [
              0.1111111111111111,
              "#46039f"
             ],
             [
              0.2222222222222222,
              "#7201a8"
             ],
             [
              0.3333333333333333,
              "#9c179e"
             ],
             [
              0.4444444444444444,
              "#bd3786"
             ],
             [
              0.5555555555555556,
              "#d8576b"
             ],
             [
              0.6666666666666666,
              "#ed7953"
             ],
             [
              0.7777777777777778,
              "#fb9f3a"
             ],
             [
              0.8888888888888888,
              "#fdca26"
             ],
             [
              1,
              "#f0f921"
             ]
            ],
            "type": "contour"
           }
          ],
          "contourcarpet": [
           {
            "colorbar": {
             "outlinewidth": 0,
             "ticks": ""
            },
            "type": "contourcarpet"
           }
          ],
          "heatmap": [
           {
            "colorbar": {
             "outlinewidth": 0,
             "ticks": ""
            },
            "colorscale": [
             [
              0,
              "#0d0887"
             ],
             [
              0.1111111111111111,
              "#46039f"
             ],
             [
              0.2222222222222222,
              "#7201a8"
             ],
             [
              0.3333333333333333,
              "#9c179e"
             ],
             [
              0.4444444444444444,
              "#bd3786"
             ],
             [
              0.5555555555555556,
              "#d8576b"
             ],
             [
              0.6666666666666666,
              "#ed7953"
             ],
             [
              0.7777777777777778,
              "#fb9f3a"
             ],
             [
              0.8888888888888888,
              "#fdca26"
             ],
             [
              1,
              "#f0f921"
             ]
            ],
            "type": "heatmap"
           }
          ],
          "heatmapgl": [
           {
            "colorbar": {
             "outlinewidth": 0,
             "ticks": ""
            },
            "colorscale": [
             [
              0,
              "#0d0887"
             ],
             [
              0.1111111111111111,
              "#46039f"
             ],
             [
              0.2222222222222222,
              "#7201a8"
             ],
             [
              0.3333333333333333,
              "#9c179e"
             ],
             [
              0.4444444444444444,
              "#bd3786"
             ],
             [
              0.5555555555555556,
              "#d8576b"
             ],
             [
              0.6666666666666666,
              "#ed7953"
             ],
             [
              0.7777777777777778,
              "#fb9f3a"
             ],
             [
              0.8888888888888888,
              "#fdca26"
             ],
             [
              1,
              "#f0f921"
             ]
            ],
            "type": "heatmapgl"
           }
          ],
          "histogram": [
           {
            "marker": {
             "pattern": {
              "fillmode": "overlay",
              "size": 10,
              "solidity": 0.2
             }
            },
            "type": "histogram"
           }
          ],
          "histogram2d": [
           {
            "colorbar": {
             "outlinewidth": 0,
             "ticks": ""
            },
            "colorscale": [
             [
              0,
              "#0d0887"
             ],
             [
              0.1111111111111111,
              "#46039f"
             ],
             [
              0.2222222222222222,
              "#7201a8"
             ],
             [
              0.3333333333333333,
              "#9c179e"
             ],
             [
              0.4444444444444444,
              "#bd3786"
             ],
             [
              0.5555555555555556,
              "#d8576b"
             ],
             [
              0.6666666666666666,
              "#ed7953"
             ],
             [
              0.7777777777777778,
              "#fb9f3a"
             ],
             [
              0.8888888888888888,
              "#fdca26"
             ],
             [
              1,
              "#f0f921"
             ]
            ],
            "type": "histogram2d"
           }
          ],
          "histogram2dcontour": [
           {
            "colorbar": {
             "outlinewidth": 0,
             "ticks": ""
            },
            "colorscale": [
             [
              0,
              "#0d0887"
             ],
             [
              0.1111111111111111,
              "#46039f"
             ],
             [
              0.2222222222222222,
              "#7201a8"
             ],
             [
              0.3333333333333333,
              "#9c179e"
             ],
             [
              0.4444444444444444,
              "#bd3786"
             ],
             [
              0.5555555555555556,
              "#d8576b"
             ],
             [
              0.6666666666666666,
              "#ed7953"
             ],
             [
              0.7777777777777778,
              "#fb9f3a"
             ],
             [
              0.8888888888888888,
              "#fdca26"
             ],
             [
              1,
              "#f0f921"
             ]
            ],
            "type": "histogram2dcontour"
           }
          ],
          "mesh3d": [
           {
            "colorbar": {
             "outlinewidth": 0,
             "ticks": ""
            },
            "type": "mesh3d"
           }
          ],
          "parcoords": [
           {
            "line": {
             "colorbar": {
              "outlinewidth": 0,
              "ticks": ""
             }
            },
            "type": "parcoords"
           }
          ],
          "pie": [
           {
            "automargin": true,
            "type": "pie"
           }
          ],
          "scatter": [
           {
            "marker": {
             "colorbar": {
              "outlinewidth": 0,
              "ticks": ""
             }
            },
            "type": "scatter"
           }
          ],
          "scatter3d": [
           {
            "line": {
             "colorbar": {
              "outlinewidth": 0,
              "ticks": ""
             }
            },
            "marker": {
             "colorbar": {
              "outlinewidth": 0,
              "ticks": ""
             }
            },
            "type": "scatter3d"
           }
          ],
          "scattercarpet": [
           {
            "marker": {
             "colorbar": {
              "outlinewidth": 0,
              "ticks": ""
             }
            },
            "type": "scattercarpet"
           }
          ],
          "scattergeo": [
           {
            "marker": {
             "colorbar": {
              "outlinewidth": 0,
              "ticks": ""
             }
            },
            "type": "scattergeo"
           }
          ],
          "scattergl": [
           {
            "marker": {
             "colorbar": {
              "outlinewidth": 0,
              "ticks": ""
             }
            },
            "type": "scattergl"
           }
          ],
          "scattermapbox": [
           {
            "marker": {
             "colorbar": {
              "outlinewidth": 0,
              "ticks": ""
             }
            },
            "type": "scattermapbox"
           }
          ],
          "scatterpolar": [
           {
            "marker": {
             "colorbar": {
              "outlinewidth": 0,
              "ticks": ""
             }
            },
            "type": "scatterpolar"
           }
          ],
          "scatterpolargl": [
           {
            "marker": {
             "colorbar": {
              "outlinewidth": 0,
              "ticks": ""
             }
            },
            "type": "scatterpolargl"
           }
          ],
          "scatterternary": [
           {
            "marker": {
             "colorbar": {
              "outlinewidth": 0,
              "ticks": ""
             }
            },
            "type": "scatterternary"
           }
          ],
          "surface": [
           {
            "colorbar": {
             "outlinewidth": 0,
             "ticks": ""
            },
            "colorscale": [
             [
              0,
              "#0d0887"
             ],
             [
              0.1111111111111111,
              "#46039f"
             ],
             [
              0.2222222222222222,
              "#7201a8"
             ],
             [
              0.3333333333333333,
              "#9c179e"
             ],
             [
              0.4444444444444444,
              "#bd3786"
             ],
             [
              0.5555555555555556,
              "#d8576b"
             ],
             [
              0.6666666666666666,
              "#ed7953"
             ],
             [
              0.7777777777777778,
              "#fb9f3a"
             ],
             [
              0.8888888888888888,
              "#fdca26"
             ],
             [
              1,
              "#f0f921"
             ]
            ],
            "type": "surface"
           }
          ],
          "table": [
           {
            "cells": {
             "fill": {
              "color": "#EBF0F8"
             },
             "line": {
              "color": "white"
             }
            },
            "header": {
             "fill": {
              "color": "#C8D4E3"
             },
             "line": {
              "color": "white"
             }
            },
            "type": "table"
           }
          ]
         },
         "layout": {
          "annotationdefaults": {
           "arrowcolor": "#2a3f5f",
           "arrowhead": 0,
           "arrowwidth": 1
          },
          "autotypenumbers": "strict",
          "coloraxis": {
           "colorbar": {
            "outlinewidth": 0,
            "ticks": ""
           }
          },
          "colorscale": {
           "diverging": [
            [
             0,
             "#8e0152"
            ],
            [
             0.1,
             "#c51b7d"
            ],
            [
             0.2,
             "#de77ae"
            ],
            [
             0.3,
             "#f1b6da"
            ],
            [
             0.4,
             "#fde0ef"
            ],
            [
             0.5,
             "#f7f7f7"
            ],
            [
             0.6,
             "#e6f5d0"
            ],
            [
             0.7,
             "#b8e186"
            ],
            [
             0.8,
             "#7fbc41"
            ],
            [
             0.9,
             "#4d9221"
            ],
            [
             1,
             "#276419"
            ]
           ],
           "sequential": [
            [
             0,
             "#0d0887"
            ],
            [
             0.1111111111111111,
             "#46039f"
            ],
            [
             0.2222222222222222,
             "#7201a8"
            ],
            [
             0.3333333333333333,
             "#9c179e"
            ],
            [
             0.4444444444444444,
             "#bd3786"
            ],
            [
             0.5555555555555556,
             "#d8576b"
            ],
            [
             0.6666666666666666,
             "#ed7953"
            ],
            [
             0.7777777777777778,
             "#fb9f3a"
            ],
            [
             0.8888888888888888,
             "#fdca26"
            ],
            [
             1,
             "#f0f921"
            ]
           ],
           "sequentialminus": [
            [
             0,
             "#0d0887"
            ],
            [
             0.1111111111111111,
             "#46039f"
            ],
            [
             0.2222222222222222,
             "#7201a8"
            ],
            [
             0.3333333333333333,
             "#9c179e"
            ],
            [
             0.4444444444444444,
             "#bd3786"
            ],
            [
             0.5555555555555556,
             "#d8576b"
            ],
            [
             0.6666666666666666,
             "#ed7953"
            ],
            [
             0.7777777777777778,
             "#fb9f3a"
            ],
            [
             0.8888888888888888,
             "#fdca26"
            ],
            [
             1,
             "#f0f921"
            ]
           ]
          },
          "colorway": [
           "#636efa",
           "#EF553B",
           "#00cc96",
           "#ab63fa",
           "#FFA15A",
           "#19d3f3",
           "#FF6692",
           "#B6E880",
           "#FF97FF",
           "#FECB52"
          ],
          "font": {
           "color": "#2a3f5f"
          },
          "geo": {
           "bgcolor": "white",
           "lakecolor": "white",
           "landcolor": "#E5ECF6",
           "showlakes": true,
           "showland": true,
           "subunitcolor": "white"
          },
          "hoverlabel": {
           "align": "left"
          },
          "hovermode": "closest",
          "mapbox": {
           "style": "light"
          },
          "paper_bgcolor": "white",
          "plot_bgcolor": "#E5ECF6",
          "polar": {
           "angularaxis": {
            "gridcolor": "white",
            "linecolor": "white",
            "ticks": ""
           },
           "bgcolor": "#E5ECF6",
           "radialaxis": {
            "gridcolor": "white",
            "linecolor": "white",
            "ticks": ""
           }
          },
          "scene": {
           "xaxis": {
            "backgroundcolor": "#E5ECF6",
            "gridcolor": "white",
            "gridwidth": 2,
            "linecolor": "white",
            "showbackground": true,
            "ticks": "",
            "zerolinecolor": "white"
           },
           "yaxis": {
            "backgroundcolor": "#E5ECF6",
            "gridcolor": "white",
            "gridwidth": 2,
            "linecolor": "white",
            "showbackground": true,
            "ticks": "",
            "zerolinecolor": "white"
           },
           "zaxis": {
            "backgroundcolor": "#E5ECF6",
            "gridcolor": "white",
            "gridwidth": 2,
            "linecolor": "white",
            "showbackground": true,
            "ticks": "",
            "zerolinecolor": "white"
           }
          },
          "shapedefaults": {
           "line": {
            "color": "#2a3f5f"
           }
          },
          "ternary": {
           "aaxis": {
            "gridcolor": "white",
            "linecolor": "white",
            "ticks": ""
           },
           "baxis": {
            "gridcolor": "white",
            "linecolor": "white",
            "ticks": ""
           },
           "bgcolor": "#E5ECF6",
           "caxis": {
            "gridcolor": "white",
            "linecolor": "white",
            "ticks": ""
           }
          },
          "title": {
           "x": 0.05
          },
          "xaxis": {
           "automargin": true,
           "gridcolor": "white",
           "linecolor": "white",
           "ticks": "",
           "title": {
            "standoff": 15
           },
           "zerolinecolor": "white",
           "zerolinewidth": 2
          },
          "yaxis": {
           "automargin": true,
           "gridcolor": "white",
           "linecolor": "white",
           "ticks": "",
           "title": {
            "standoff": 15
           },
           "zerolinecolor": "white",
           "zerolinewidth": 2
          }
         }
        },
        "yaxis": {
         "visible": false
        }
       }
      }
     },
     "metadata": {},
     "output_type": "display_data"
    }
   ],
   "source": [
    "pro,pro_negative = cal_norm(use_rate['stat'].mean(),\n",
    "                            use_rate['stat'].std(),\n",
    "                            use_rate['stat'].min(),\n",
    "                            use_rate['stat'].max(),\n",
    "                            EV_per_charger_standard,\n",
    "                            False)"
   ]
  },
  {
   "cell_type": "markdown",
   "metadata": {},
   "source": [
    "### 수소충전소 수"
   ]
  },
  {
   "cell_type": "code",
   "execution_count": 40,
   "metadata": {},
   "outputs": [],
   "source": [
    "HVCS_file_path = 'C:\\\\Users\\\\SAMSUNG\\\\Desktop\\\\Green-Car-Charging-Station-Site-Selection\\\\Data\\\\부산 수소차 충전소 현황.csv'\n",
    "df_HVCS = pd.read_csv(HVCS_file_path, encoding='cp949')"
   ]
  },
  {
   "cell_type": "code",
   "execution_count": 41,
   "metadata": {},
   "outputs": [
    {
     "data": {
      "text/html": [
       "<div>\n",
       "<style scoped>\n",
       "    .dataframe tbody tr th:only-of-type {\n",
       "        vertical-align: middle;\n",
       "    }\n",
       "\n",
       "    .dataframe tbody tr th {\n",
       "        vertical-align: top;\n",
       "    }\n",
       "\n",
       "    .dataframe thead th {\n",
       "        text-align: right;\n",
       "    }\n",
       "</style>\n",
       "<table border=\"1\" class=\"dataframe\">\n",
       "  <thead>\n",
       "    <tr style=\"text-align: right;\">\n",
       "      <th></th>\n",
       "      <th>충전소</th>\n",
       "      <th>충전기</th>\n",
       "      <th>시</th>\n",
       "      <th>구</th>\n",
       "      <th>주소</th>\n",
       "      <th>위도</th>\n",
       "      <th>경도</th>\n",
       "      <th>하루평균충전횟수</th>\n",
       "      <th>최대 충전 수소차수</th>\n",
       "      <th>공급방식</th>\n",
       "      <th>충전소 설치방식</th>\n",
       "      <th>압축기용량</th>\n",
       "      <th>충전기용량</th>\n",
       "      <th>충전압력</th>\n",
       "      <th>운영시간</th>\n",
       "      <th>평균가동률</th>\n",
       "      <th>충전가격</th>\n",
       "    </tr>\n",
       "  </thead>\n",
       "  <tbody>\n",
       "    <tr>\n",
       "      <th>0</th>\n",
       "      <td>서부산NK수소충전소</td>\n",
       "      <td>1</td>\n",
       "      <td>부산광역시</td>\n",
       "      <td>강서구</td>\n",
       "      <td>부산광역시 강서구 가락대로 347</td>\n",
       "      <td>35.113171</td>\n",
       "      <td>128.843291</td>\n",
       "      <td>14</td>\n",
       "      <td>67</td>\n",
       "      <td>튜브트레일러</td>\n",
       "      <td>단독</td>\n",
       "      <td>302.63</td>\n",
       "      <td>33.4</td>\n",
       "      <td>700</td>\n",
       "      <td>10</td>\n",
       "      <td>35.0</td>\n",
       "      <td>8800</td>\n",
       "    </tr>\n",
       "    <tr>\n",
       "      <th>1</th>\n",
       "      <td>H부산수소충전소</td>\n",
       "      <td>3</td>\n",
       "      <td>부산광역시</td>\n",
       "      <td>사상구</td>\n",
       "      <td>부산광역시 사상구 학감대로 167</td>\n",
       "      <td>35.145864</td>\n",
       "      <td>128.987651</td>\n",
       "      <td>60</td>\n",
       "      <td>70</td>\n",
       "      <td>천연가스개질</td>\n",
       "      <td>복합</td>\n",
       "      <td>308.00</td>\n",
       "      <td>25.0</td>\n",
       "      <td>700</td>\n",
       "      <td>12</td>\n",
       "      <td>41.6</td>\n",
       "      <td>8800</td>\n",
       "    </tr>\n",
       "    <tr>\n",
       "      <th>2</th>\n",
       "      <td>하이넷부산정관수소충</td>\n",
       "      <td>1</td>\n",
       "      <td>부산광역시</td>\n",
       "      <td>기장군</td>\n",
       "      <td>부산광역시 기장군 정관읍 신정관로 187</td>\n",
       "      <td>35.328714</td>\n",
       "      <td>129.201710</td>\n",
       "      <td>16</td>\n",
       "      <td>60</td>\n",
       "      <td>천연가스개질</td>\n",
       "      <td>복합</td>\n",
       "      <td>NaN</td>\n",
       "      <td>25.0</td>\n",
       "      <td>700</td>\n",
       "      <td>12</td>\n",
       "      <td>33.3</td>\n",
       "      <td>8800</td>\n",
       "    </tr>\n",
       "  </tbody>\n",
       "</table>\n",
       "</div>"
      ],
      "text/plain": [
       "          충전소  충전기      시    구                       주소         위도  \\\n",
       "0  서부산NK수소충전소    1  부산광역시  강서구      부산광역시 강서구 가락대로 347   35.113171   \n",
       "1    H부산수소충전소    3  부산광역시  사상구      부산광역시 사상구 학감대로 167   35.145864   \n",
       "2  하이넷부산정관수소충    1  부산광역시  기장군  부산광역시 기장군 정관읍 신정관로 187   35.328714   \n",
       "\n",
       "           경도  하루평균충전횟수  최대 충전 수소차수    공급방식 충전소 설치방식   압축기용량  충전기용량  충전압력  \\\n",
       "0  128.843291        14          67  튜브트레일러       단독  302.63   33.4   700   \n",
       "1  128.987651        60          70  천연가스개질       복합  308.00   25.0   700   \n",
       "2  129.201710        16          60  천연가스개질       복합     NaN   25.0   700   \n",
       "\n",
       "   운영시간  평균가동률  충전가격  \n",
       "0    10   35.0  8800  \n",
       "1    12   41.6  8800  \n",
       "2    12   33.3  8800  "
      ]
     },
     "execution_count": 41,
     "metadata": {},
     "output_type": "execute_result"
    }
   ],
   "source": [
    "address_city = []\n",
    "address_gu = []\n",
    "for i in range(df_HVCS.shape[0]):\n",
    "    strings = df_HVCS.iloc[i]['주소'].split()\n",
    "    address_city.append(strings.pop(0))\n",
    "    address_gu.append(strings.pop(0))\n",
    "df_HVCS.insert(2,\"시\",address_city)\n",
    "df_HVCS.insert(3,\"구\",address_gu)    \n",
    "df_HVCS"
   ]
  },
  {
   "cell_type": "markdown",
   "metadata": {},
   "source": [
    "### 수소차충전기당 수소자동차 수 "
   ]
  },
  {
   "cell_type": "code",
   "execution_count": 42,
   "metadata": {},
   "outputs": [
    {
     "data": {
      "text/plain": [
       "513.0"
      ]
     },
     "execution_count": 42,
     "metadata": {},
     "output_type": "execute_result"
    }
   ],
   "source": [
    "# 부산시에 충전소는 3곳으로, 구단위로 구하는 것이 불가능\n",
    "# 부산시의 수소충전소당 수소자동차 수\n",
    "HV_per_charger = df_vehicle['수소'].sum() / df_HVCS['충전소'].count()\n",
    "HV_per_charger"
   ]
  },
  {
   "cell_type": "code",
   "execution_count": 43,
   "metadata": {},
   "outputs": [
    {
     "data": {
      "text/plain": [
       "33.45652173913044"
      ]
     },
     "execution_count": 43,
     "metadata": {},
     "output_type": "execute_result"
    }
   ],
   "source": [
    "#### 수소차 충전기당 1일 충전 수요\n",
    "# 수소차 1일 평균 충전수요\n",
    "need_HVCS = df_vehicle['수소'].sum() * (1/9.2) \n",
    "# 수소차 충전기당 1일 평균 충전수요\n",
    "need_HVCS_per_charger = need_HVCS / df_HVCS['충전기'].sum()\n",
    "need_HVCS_per_charger"
   ]
  },
  {
   "cell_type": "markdown",
   "metadata": {},
   "source": [
    "#### 가동률이 50%가 되도록 하는 수소 충전소당 수소차 수\n",
    "충전소요시간 15분, 가동률 50% => 시간당 2대 충전\n",
    "\n",
    "충전소 평균 운영시간 11.3h\n",
    "\n",
    "충전주기 9.2일\n",
    "\n",
    "충전기 수\n",
    "\n",
    "충전소 수\n",
    "\n",
    "2 * 11.3 * 9.2 * 5 / 3 = 346.533"
   ]
  },
  {
   "cell_type": "code",
   "execution_count": 44,
   "metadata": {},
   "outputs": [],
   "source": [
    "if HV_per_charger >= HV_per_charger_standard:\n",
    "    HV_per_charger_pro = 1.0\n",
    "    HV_per_charger_pro_negative = 0\n",
    "else:\n",
    "    HV_per_charger_pro = 0\n",
    "    HV_per_charger_pro_negative = 1.0"
   ]
  },
  {
   "cell_type": "markdown",
   "metadata": {},
   "source": [
    "### 도로 보급률"
   ]
  },
  {
   "cell_type": "code",
   "execution_count": 45,
   "metadata": {},
   "outputs": [
    {
     "data": {
      "text/html": [
       "<div>\n",
       "<style scoped>\n",
       "    .dataframe tbody tr th:only-of-type {\n",
       "        vertical-align: middle;\n",
       "    }\n",
       "\n",
       "    .dataframe tbody tr th {\n",
       "        vertical-align: top;\n",
       "    }\n",
       "\n",
       "    .dataframe thead th {\n",
       "        text-align: right;\n",
       "    }\n",
       "</style>\n",
       "<table border=\"1\" class=\"dataframe\">\n",
       "  <thead>\n",
       "    <tr style=\"text-align: right;\">\n",
       "      <th></th>\n",
       "      <th>행정구</th>\n",
       "      <th>법정동</th>\n",
       "      <th>행정동</th>\n",
       "      <th>도로연장(km)</th>\n",
       "      <th>총인구수 (명)</th>\n",
       "      <th>면적(km^2)</th>\n",
       "      <th>도로보급률</th>\n",
       "    </tr>\n",
       "  </thead>\n",
       "  <tbody>\n",
       "    <tr>\n",
       "      <th>0</th>\n",
       "      <td>강서구</td>\n",
       "      <td>가덕도동</td>\n",
       "      <td>가덕도동</td>\n",
       "      <td>63.024042</td>\n",
       "      <td>4081</td>\n",
       "      <td>19.42</td>\n",
       "      <td>7.079431</td>\n",
       "    </tr>\n",
       "    <tr>\n",
       "      <th>1</th>\n",
       "      <td>강서구</td>\n",
       "      <td>가락동</td>\n",
       "      <td>가락동</td>\n",
       "      <td>50.605329</td>\n",
       "      <td>2312</td>\n",
       "      <td>14.09</td>\n",
       "      <td>8.866390</td>\n",
       "    </tr>\n",
       "    <tr>\n",
       "      <th>2</th>\n",
       "      <td>강서구</td>\n",
       "      <td>강동동</td>\n",
       "      <td>강동동</td>\n",
       "      <td>28.907008</td>\n",
       "      <td>4179</td>\n",
       "      <td>16.31</td>\n",
       "      <td>3.501386</td>\n",
       "    </tr>\n",
       "    <tr>\n",
       "      <th>3</th>\n",
       "      <td>강서구</td>\n",
       "      <td>녹산동</td>\n",
       "      <td>녹산동</td>\n",
       "      <td>305.938534</td>\n",
       "      <td>35872</td>\n",
       "      <td>58.93</td>\n",
       "      <td>6.654082</td>\n",
       "    </tr>\n",
       "    <tr>\n",
       "      <th>4</th>\n",
       "      <td>강서구</td>\n",
       "      <td>대저1동</td>\n",
       "      <td>대저1동</td>\n",
       "      <td>86.238678</td>\n",
       "      <td>6417</td>\n",
       "      <td>13.66</td>\n",
       "      <td>9.211084</td>\n",
       "    </tr>\n",
       "    <tr>\n",
       "      <th>...</th>\n",
       "      <td>...</td>\n",
       "      <td>...</td>\n",
       "      <td>...</td>\n",
       "      <td>...</td>\n",
       "      <td>...</td>\n",
       "      <td>...</td>\n",
       "      <td>...</td>\n",
       "    </tr>\n",
       "    <tr>\n",
       "      <th>200</th>\n",
       "      <td>해운대구</td>\n",
       "      <td>좌동</td>\n",
       "      <td>좌2동</td>\n",
       "      <td>5.592018</td>\n",
       "      <td>31635</td>\n",
       "      <td>0.50</td>\n",
       "      <td>1.406046</td>\n",
       "    </tr>\n",
       "    <tr>\n",
       "      <th>201</th>\n",
       "      <td>해운대구</td>\n",
       "      <td>좌동</td>\n",
       "      <td>좌3동</td>\n",
       "      <td>7.319492</td>\n",
       "      <td>15891</td>\n",
       "      <td>0.72</td>\n",
       "      <td>2.163909</td>\n",
       "    </tr>\n",
       "    <tr>\n",
       "      <th>202</th>\n",
       "      <td>해운대구</td>\n",
       "      <td>좌동</td>\n",
       "      <td>좌4동</td>\n",
       "      <td>15.660067</td>\n",
       "      <td>22883</td>\n",
       "      <td>1.80</td>\n",
       "      <td>2.440062</td>\n",
       "    </tr>\n",
       "    <tr>\n",
       "      <th>203</th>\n",
       "      <td>해운대구</td>\n",
       "      <td>중동</td>\n",
       "      <td>중1동</td>\n",
       "      <td>21.117586</td>\n",
       "      <td>27840</td>\n",
       "      <td>1.73</td>\n",
       "      <td>3.042892</td>\n",
       "    </tr>\n",
       "    <tr>\n",
       "      <th>204</th>\n",
       "      <td>해운대구</td>\n",
       "      <td>중동</td>\n",
       "      <td>중2동</td>\n",
       "      <td>17.039749</td>\n",
       "      <td>15790</td>\n",
       "      <td>1.16</td>\n",
       "      <td>3.981467</td>\n",
       "    </tr>\n",
       "  </tbody>\n",
       "</table>\n",
       "<p>205 rows × 7 columns</p>\n",
       "</div>"
      ],
      "text/plain": [
       "      행정구   법정동   행정동    도로연장(km)  총인구수 (명)  면적(km^2)     도로보급률\n",
       "0     강서구  가덕도동  가덕도동   63.024042      4081     19.42  7.079431\n",
       "1     강서구   가락동   가락동   50.605329      2312     14.09  8.866390\n",
       "2     강서구   강동동   강동동   28.907008      4179     16.31  3.501386\n",
       "3     강서구   녹산동   녹산동  305.938534     35872     58.93  6.654082\n",
       "4     강서구  대저1동  대저1동   86.238678      6417     13.66  9.211084\n",
       "..    ...   ...   ...         ...       ...       ...       ...\n",
       "200  해운대구    좌동   좌2동    5.592018     31635      0.50  1.406046\n",
       "201  해운대구    좌동   좌3동    7.319492     15891      0.72  2.163909\n",
       "202  해운대구    좌동   좌4동   15.660067     22883      1.80  2.440062\n",
       "203  해운대구    중동   중1동   21.117586     27840      1.73  3.042892\n",
       "204  해운대구    중동   중2동   17.039749     15790      1.16  3.981467\n",
       "\n",
       "[205 rows x 7 columns]"
      ]
     },
     "execution_count": 45,
     "metadata": {},
     "output_type": "execute_result"
    }
   ],
   "source": [
    "street_supply_file_path = 'C:\\\\Users\\\\SAMSUNG\\\\Desktop\\\\Green-Car-Charging-Station-Site-Selection\\\\Data\\\\도로보급률.csv'\n",
    "df_street_supply = pd.read_csv(street_supply_file_path, encoding='cp949')\n",
    "df_street_supply"
   ]
  },
  {
   "cell_type": "code",
   "execution_count": 46,
   "metadata": {},
   "outputs": [
    {
     "data": {
      "application/vnd.plotly.v1+json": {
       "config": {
        "plotlyServerURL": "https://plot.ly"
       },
       "data": [
        {
         "fill": "tozeroy",
         "line": {
          "color": "rgb(239,85,59)"
         },
         "name": "부적합",
         "type": "scatter",
         "x": [
          -0.5756199827532795,
          -0.5403418226547616,
          -0.5050636625562436,
          -0.4697855024577256,
          -0.4345073423592076,
          -0.39922918226068965,
          -0.3639510221621717,
          -0.3286728620636537,
          -0.29339470196513573,
          -0.25811654186661775,
          -0.22283838176809978,
          -0.1875602216695818,
          -0.15228206157106383,
          -0.11700390147254586,
          -0.08172574137402788,
          -0.04644758127550985,
          -0.011169421176991934,
          0.024108738921525985,
          0.059386899020044015,
          0.09466505911856204,
          0.12994321921707996,
          0.16522137931559788,
          0.2004995394141159,
          0.23577769951263394,
          0.27105585961115186,
          0.3063340197096698,
          0.3416121798081878,
          0.37689033990670584,
          0.41216850000522376,
          0.4474466601037417,
          0.4827248202022598,
          0.5180029803007777,
          0.5532811403992957,
          0.5885593004978136,
          0.6238374605963315,
          0.6591156206948496,
          0.6943937807933676,
          0.7296719408918855,
          0.7649501009904036,
          0.8002282610889215,
          0.8355064211874395,
          0.8707845812859574,
          0.9060627413844753,
          0.9413409014829934,
          0.9766190615815113,
          1.0118972216800293,
          1.0471753817785474,
          1.0824535418770653,
          1.1177317019755832,
          1.1530098620741012,
          1.188288022172619,
          1.2235661822711372,
          1.2588443423696551,
          1.294122502468173,
          1.3294006625666912,
          1.3646788226652091,
          1.399956982763727,
          1.435235142862245,
          1.4705133029607629,
          1.5057914630592808,
          1.5410696231577992,
          1.576347783256317,
          1.611625943354835,
          1.646904103453353,
          1.6821822635518708,
          1.7174604236503888,
          1.7527385837489067,
          1.7880167438474246,
          1.8232949039459425,
          1.8585730640444609,
          1.8938512241429788,
          1.9291293842414967,
          1.9644075443400146,
          1.9996857044385326,
          2.0349638645370502,
          2.0702420246355686,
          2.105520184734087,
          2.1407983448326044,
          2.176076504931123,
          2.2113546650296403,
          2.2466328251281587,
          2.281910985226676,
          2.3171891453251945,
          2.352467305423712,
          2.3877454655222303,
          2.4230236256207487,
          2.458301785719266,
          2.4935799458177845,
          2.528858105916302,
          2.5641362660148204,
          2.599414426113338,
          2.634692586211856,
          2.6699707463103746,
          2.705248906408892,
          2.7405270665074104,
          2.775805226605928,
          2.8110833867044462,
          2.8463615468029637,
          2.881639706901482,
          2.916917867
         ],
         "y": [
          0.015479227970325929,
          0.016159834670380423,
          0.01686436500552607,
          0.017593349758873444,
          0.01834731609158888,
          0.019126786620126037,
          0.019932278462003065,
          0.02076430225085685,
          0.021623361121616048,
          0.022509949666745802,
          0.023424552864630455,
          0.024367644981275943,
          0.02533968844662961,
          0.026341132706933012,
          0.027372413054641113,
          0.028433949437559867,
          0.02952614524897234,
          0.030649386100641492,
          0.03180403858069502,
          0.03299044899851253,
          0.03420894211885071,
          0.03545981988755281,
          0.03674336015129851,
          0.038059815373956814,
          0.039409411352206894,
          0.04079234593319094,
          0.04220878773705694,
          0.04365887488733972,
          0.045142713752211634,
          0.046660377699713075,
          0.04821190587014527,
          0.04979730196887219,
          0.05141653308283792,
          0.05306952852415407,
          0.05475617870415732,
          0.05647633404136772,
          0.05822980390680688,
          0.06001635561014854,
          0.061835713430182244,
          0.06368755769306628,
          0.06557152390183354,
          0.06748720192058952,
          0.06943413521680622,
          0.07141182016507254,
          0.07341970541560228,
          0.07545719133073601,
          0.07752362949259173,
          0.07961832228493035,
          0.08174052255220038,
          0.08388943333861121,
          0.08606420770996318,
          0.08826394866082331,
          0.09048770910949237,
          0.09273449198304838,
          0.09500325039458528,
          0.09729288791458608,
          0.09960225893818078,
          0.10193016914984186,
          0.1042753760868601,
          0.10663658980273043,
          0.1090124736313478,
          0.11140164505268427,
          0.11380267666037606,
          0.11621409723140189,
          0.11863439289778335,
          0.12106200841997686,
          0.12349534856136689,
          0.1259327795629998,
          0.1283726307174317,
          0.13081319604028818,
          0.13325273603786225,
          0.1356894795688022,
          0.13812162579766638,
          0.14054734623785048,
          0.14296478688112113,
          0.14537207041072311,
          0.14776729849476206,
          0.15014855415630815,
          0.15251390421641048,
          0.15486140180596686,
          0.15718908894215536,
          0.15949499916490126,
          0.1617771602286351,
          0.16403359684438323,
          0.16626233346703617,
          0.1684613971224478,
          0.1706288202688474,
          0.17276264368688143,
          0.17486091939245502,
          0.17692171356641048,
          0.17894310949496178,
          0.1809232105147021,
          0.18286014295591563,
          0.18475205907785824,
          0.18659713998961783,
          0.18839359855013352,
          0.19013968224093725,
          0.19183367600518345,
          0.1934739050465547,
          0.19505873758166978
         ]
        },
        {
         "fill": "tozeroy",
         "line": {
          "color": "rgb(100,110,250)"
         },
         "name": "적합",
         "type": "scatter",
         "x": [
          2.916917867,
          3.0424350245050507,
          3.167952182010101,
          3.2934693395151515,
          3.418986497020202,
          3.5445036545252524,
          3.670020812030303,
          3.7955379695353537,
          3.921055127040404,
          4.046572284545454,
          4.172089442050504,
          4.2976065995555555,
          4.423123757060606,
          4.548640914565656,
          4.674158072070707,
          4.799675229575757,
          4.925192387080807,
          5.0507095445858585,
          5.176226702090909,
          5.301743859595959,
          5.42726101710101,
          5.55277817460606,
          5.6782953321111105,
          5.803812489616162,
          5.929329647121212,
          6.054846804626262,
          6.180363962131313,
          6.305881119636363,
          6.4313982771414135,
          6.556915434646465,
          6.682432592151515,
          6.807949749656565,
          6.933466907161616,
          7.0589840646666655,
          7.184501222171717,
          7.310018379676768,
          7.435535537181817,
          7.561052694686868,
          7.686569852191919,
          7.812087009696969,
          7.93760416720202,
          8.06312132470707,
          8.18863848221212,
          8.314155639717171,
          8.439672797222222,
          8.565189954727272,
          8.690707112232323,
          8.816224269737374,
          8.941741427242423,
          9.067258584747474,
          9.192775742252525,
          9.318292899757575,
          9.443810057262626,
          9.569327214767677,
          9.694844372272726,
          9.820361529777777,
          9.945878687282828,
          10.071395844787878,
          10.196913002292929,
          10.322430159797978,
          10.44794731730303,
          10.57346447480808,
          10.69898163231313,
          10.82449878981818,
          10.950015947323232,
          11.075533104828283,
          11.201050262333332,
          11.326567419838383,
          11.452084577343435,
          11.577601734848484,
          11.703118892353535,
          11.828636049858586,
          11.954153207363635,
          12.079670364868687,
          12.205187522373738,
          12.330704679878787,
          12.456221837383838,
          12.58173899488889,
          12.707256152393938,
          12.83277330989899,
          12.958290467404039,
          13.08380762490909,
          13.209324782414141,
          13.33484193991919,
          13.460359097424242,
          13.585876254929293,
          13.711393412434342,
          13.836910569939393,
          13.962427727444444,
          14.087944884949493,
          14.213462042454545,
          14.338979199959596,
          14.464496357464645,
          14.590013514969696,
          14.715530672474747,
          14.841047829979797,
          14.966564987484848,
          15.092082144989899,
          15.217599302494948,
          15.34311646
         ],
         "y": [
          0.19505873758166978,
          0.20022492762061178,
          0.20460423709080683,
          0.2081396608458555,
          0.21078456388794978,
          0.21250370491823525,
          0.21327401773929594,
          0.21308512629065962,
          0.21193957724143958,
          0.20985278285162595,
          0.20685267589414022,
          0.20297908743821214,
          0.19828286686909843,
          0.19282477131910628,
          0.1866741584075514,
          0.1799075215820333,
          0.1726069112330724,
          0.1648582870027989,
          0.15674984728514302,
          0.1483703808538186,
          0.1398076829599184,
          0.13114707428066064,
          0.1224700559944223,
          0.11385312826353987,
          0.10536679280911847,
          0.09707475335482234,
          0.0890333207881779,
          0.0812910232090312,
          0.07388841484646037,
          0.0668580723296444,
          0.060224762151365845,
          0.05400575947214626,
          0.04821129573551294,
          0.04284511090923018,
          0.03790508549787632,
          0.03338392771494691,
          0.02926989225272017,
          0.025547508817570636,
          0.022198300864910626,
          0.019201477622902627,
          0.016534585390293007,
          0.01417410709191253,
          0.012096002049703713,
          0.01027618076914451,
          0.008690912162301652,
          0.0073171629625189555,
          0.006132871086419559,
          0.005117156341384896,
          0.004250473154417409,
          0.003514710920767729,
          0.002893248160477653,
          0.002370966960621331,
          0.0019342342099813827,
          0.0015708559446109853,
          0.0012700107619969356,
          0.0010221677722554738,
          0.0008189939781770389,
          0.0006532553491704481,
          0.0005187152094856707,
          0.00041003292532838505,
          0.0003226652698571528,
          0.00025277228539803876,
          0.00019712895931295907,
          0.00015304359012753967,
          0.00011828334624116109,
          0.0000910072101531982,
          0.00006970625355877651,
          0.0000531509980384146,
          0.00004034547636542858,
          0.000030487514015614714,
          0.000022934692409811115,
          0.00001717542801246431,
          0.00001280459830436506,
          0.000009503161075043115,
          0.000007021242352296644,
          0.000005164206248494854,
          0.0000037812634381040074,
          0.000002756220976409303,
          0.0000020000224630582028,
          0.0000014447724607806338,
          0.0000010389814120343815,
          7.43806282844087e-7,
          5.300973689680823e-7,
          3.7609295349794515e-7,
          2.6563083408426526e-7,
          1.8676931115009833e-7,
          1.3073030958805325e-7,
          9.109421630491677e-8,
          6.319010249004454e-8,
          4.363661533110282e-8,
          2.9998310519097565e-8,
          2.0529873670110484e-8,
          1.3986836533561575e-8,
          9.486291442365104e-9,
          6.404971013203506e-9,
          4.30508386080915e-9,
          2.8806454222856893e-9,
          1.9188531292075878e-9,
          1.272440274323193e-9,
          8.399952304775878e-10
         ]
        }
       ],
       "layout": {
        "annotations": [
         {
          "bordercolor": "rgb(239,85,59)",
          "borderwidth": 2,
          "font": {
           "color": "rgb(239,85,59)",
           "size": 15
          },
          "showarrow": false,
          "text": "0.325",
          "x": 2.916917867,
          "xshift": -40,
          "y": 0.19505873758166978,
          "yshift": -100
         },
         {
          "bordercolor": "rgb(100,110,250)",
          "borderwidth": 2,
          "font": {
           "color": "rgb(100,110,250)",
           "size": 15
          },
          "showarrow": false,
          "text": "0.675",
          "x": 2.916917867,
          "xshift": 40,
          "y": 0.19505873758166978,
          "yshift": -100
         }
        ],
        "template": {
         "data": {
          "bar": [
           {
            "error_x": {
             "color": "#2a3f5f"
            },
            "error_y": {
             "color": "#2a3f5f"
            },
            "marker": {
             "line": {
              "color": "#E5ECF6",
              "width": 0.5
             },
             "pattern": {
              "fillmode": "overlay",
              "size": 10,
              "solidity": 0.2
             }
            },
            "type": "bar"
           }
          ],
          "barpolar": [
           {
            "marker": {
             "line": {
              "color": "#E5ECF6",
              "width": 0.5
             },
             "pattern": {
              "fillmode": "overlay",
              "size": 10,
              "solidity": 0.2
             }
            },
            "type": "barpolar"
           }
          ],
          "carpet": [
           {
            "aaxis": {
             "endlinecolor": "#2a3f5f",
             "gridcolor": "white",
             "linecolor": "white",
             "minorgridcolor": "white",
             "startlinecolor": "#2a3f5f"
            },
            "baxis": {
             "endlinecolor": "#2a3f5f",
             "gridcolor": "white",
             "linecolor": "white",
             "minorgridcolor": "white",
             "startlinecolor": "#2a3f5f"
            },
            "type": "carpet"
           }
          ],
          "choropleth": [
           {
            "colorbar": {
             "outlinewidth": 0,
             "ticks": ""
            },
            "type": "choropleth"
           }
          ],
          "contour": [
           {
            "colorbar": {
             "outlinewidth": 0,
             "ticks": ""
            },
            "colorscale": [
             [
              0,
              "#0d0887"
             ],
             [
              0.1111111111111111,
              "#46039f"
             ],
             [
              0.2222222222222222,
              "#7201a8"
             ],
             [
              0.3333333333333333,
              "#9c179e"
             ],
             [
              0.4444444444444444,
              "#bd3786"
             ],
             [
              0.5555555555555556,
              "#d8576b"
             ],
             [
              0.6666666666666666,
              "#ed7953"
             ],
             [
              0.7777777777777778,
              "#fb9f3a"
             ],
             [
              0.8888888888888888,
              "#fdca26"
             ],
             [
              1,
              "#f0f921"
             ]
            ],
            "type": "contour"
           }
          ],
          "contourcarpet": [
           {
            "colorbar": {
             "outlinewidth": 0,
             "ticks": ""
            },
            "type": "contourcarpet"
           }
          ],
          "heatmap": [
           {
            "colorbar": {
             "outlinewidth": 0,
             "ticks": ""
            },
            "colorscale": [
             [
              0,
              "#0d0887"
             ],
             [
              0.1111111111111111,
              "#46039f"
             ],
             [
              0.2222222222222222,
              "#7201a8"
             ],
             [
              0.3333333333333333,
              "#9c179e"
             ],
             [
              0.4444444444444444,
              "#bd3786"
             ],
             [
              0.5555555555555556,
              "#d8576b"
             ],
             [
              0.6666666666666666,
              "#ed7953"
             ],
             [
              0.7777777777777778,
              "#fb9f3a"
             ],
             [
              0.8888888888888888,
              "#fdca26"
             ],
             [
              1,
              "#f0f921"
             ]
            ],
            "type": "heatmap"
           }
          ],
          "heatmapgl": [
           {
            "colorbar": {
             "outlinewidth": 0,
             "ticks": ""
            },
            "colorscale": [
             [
              0,
              "#0d0887"
             ],
             [
              0.1111111111111111,
              "#46039f"
             ],
             [
              0.2222222222222222,
              "#7201a8"
             ],
             [
              0.3333333333333333,
              "#9c179e"
             ],
             [
              0.4444444444444444,
              "#bd3786"
             ],
             [
              0.5555555555555556,
              "#d8576b"
             ],
             [
              0.6666666666666666,
              "#ed7953"
             ],
             [
              0.7777777777777778,
              "#fb9f3a"
             ],
             [
              0.8888888888888888,
              "#fdca26"
             ],
             [
              1,
              "#f0f921"
             ]
            ],
            "type": "heatmapgl"
           }
          ],
          "histogram": [
           {
            "marker": {
             "pattern": {
              "fillmode": "overlay",
              "size": 10,
              "solidity": 0.2
             }
            },
            "type": "histogram"
           }
          ],
          "histogram2d": [
           {
            "colorbar": {
             "outlinewidth": 0,
             "ticks": ""
            },
            "colorscale": [
             [
              0,
              "#0d0887"
             ],
             [
              0.1111111111111111,
              "#46039f"
             ],
             [
              0.2222222222222222,
              "#7201a8"
             ],
             [
              0.3333333333333333,
              "#9c179e"
             ],
             [
              0.4444444444444444,
              "#bd3786"
             ],
             [
              0.5555555555555556,
              "#d8576b"
             ],
             [
              0.6666666666666666,
              "#ed7953"
             ],
             [
              0.7777777777777778,
              "#fb9f3a"
             ],
             [
              0.8888888888888888,
              "#fdca26"
             ],
             [
              1,
              "#f0f921"
             ]
            ],
            "type": "histogram2d"
           }
          ],
          "histogram2dcontour": [
           {
            "colorbar": {
             "outlinewidth": 0,
             "ticks": ""
            },
            "colorscale": [
             [
              0,
              "#0d0887"
             ],
             [
              0.1111111111111111,
              "#46039f"
             ],
             [
              0.2222222222222222,
              "#7201a8"
             ],
             [
              0.3333333333333333,
              "#9c179e"
             ],
             [
              0.4444444444444444,
              "#bd3786"
             ],
             [
              0.5555555555555556,
              "#d8576b"
             ],
             [
              0.6666666666666666,
              "#ed7953"
             ],
             [
              0.7777777777777778,
              "#fb9f3a"
             ],
             [
              0.8888888888888888,
              "#fdca26"
             ],
             [
              1,
              "#f0f921"
             ]
            ],
            "type": "histogram2dcontour"
           }
          ],
          "mesh3d": [
           {
            "colorbar": {
             "outlinewidth": 0,
             "ticks": ""
            },
            "type": "mesh3d"
           }
          ],
          "parcoords": [
           {
            "line": {
             "colorbar": {
              "outlinewidth": 0,
              "ticks": ""
             }
            },
            "type": "parcoords"
           }
          ],
          "pie": [
           {
            "automargin": true,
            "type": "pie"
           }
          ],
          "scatter": [
           {
            "marker": {
             "colorbar": {
              "outlinewidth": 0,
              "ticks": ""
             }
            },
            "type": "scatter"
           }
          ],
          "scatter3d": [
           {
            "line": {
             "colorbar": {
              "outlinewidth": 0,
              "ticks": ""
             }
            },
            "marker": {
             "colorbar": {
              "outlinewidth": 0,
              "ticks": ""
             }
            },
            "type": "scatter3d"
           }
          ],
          "scattercarpet": [
           {
            "marker": {
             "colorbar": {
              "outlinewidth": 0,
              "ticks": ""
             }
            },
            "type": "scattercarpet"
           }
          ],
          "scattergeo": [
           {
            "marker": {
             "colorbar": {
              "outlinewidth": 0,
              "ticks": ""
             }
            },
            "type": "scattergeo"
           }
          ],
          "scattergl": [
           {
            "marker": {
             "colorbar": {
              "outlinewidth": 0,
              "ticks": ""
             }
            },
            "type": "scattergl"
           }
          ],
          "scattermapbox": [
           {
            "marker": {
             "colorbar": {
              "outlinewidth": 0,
              "ticks": ""
             }
            },
            "type": "scattermapbox"
           }
          ],
          "scatterpolar": [
           {
            "marker": {
             "colorbar": {
              "outlinewidth": 0,
              "ticks": ""
             }
            },
            "type": "scatterpolar"
           }
          ],
          "scatterpolargl": [
           {
            "marker": {
             "colorbar": {
              "outlinewidth": 0,
              "ticks": ""
             }
            },
            "type": "scatterpolargl"
           }
          ],
          "scatterternary": [
           {
            "marker": {
             "colorbar": {
              "outlinewidth": 0,
              "ticks": ""
             }
            },
            "type": "scatterternary"
           }
          ],
          "surface": [
           {
            "colorbar": {
             "outlinewidth": 0,
             "ticks": ""
            },
            "colorscale": [
             [
              0,
              "#0d0887"
             ],
             [
              0.1111111111111111,
              "#46039f"
             ],
             [
              0.2222222222222222,
              "#7201a8"
             ],
             [
              0.3333333333333333,
              "#9c179e"
             ],
             [
              0.4444444444444444,
              "#bd3786"
             ],
             [
              0.5555555555555556,
              "#d8576b"
             ],
             [
              0.6666666666666666,
              "#ed7953"
             ],
             [
              0.7777777777777778,
              "#fb9f3a"
             ],
             [
              0.8888888888888888,
              "#fdca26"
             ],
             [
              1,
              "#f0f921"
             ]
            ],
            "type": "surface"
           }
          ],
          "table": [
           {
            "cells": {
             "fill": {
              "color": "#EBF0F8"
             },
             "line": {
              "color": "white"
             }
            },
            "header": {
             "fill": {
              "color": "#C8D4E3"
             },
             "line": {
              "color": "white"
             }
            },
            "type": "table"
           }
          ]
         },
         "layout": {
          "annotationdefaults": {
           "arrowcolor": "#2a3f5f",
           "arrowhead": 0,
           "arrowwidth": 1
          },
          "autotypenumbers": "strict",
          "coloraxis": {
           "colorbar": {
            "outlinewidth": 0,
            "ticks": ""
           }
          },
          "colorscale": {
           "diverging": [
            [
             0,
             "#8e0152"
            ],
            [
             0.1,
             "#c51b7d"
            ],
            [
             0.2,
             "#de77ae"
            ],
            [
             0.3,
             "#f1b6da"
            ],
            [
             0.4,
             "#fde0ef"
            ],
            [
             0.5,
             "#f7f7f7"
            ],
            [
             0.6,
             "#e6f5d0"
            ],
            [
             0.7,
             "#b8e186"
            ],
            [
             0.8,
             "#7fbc41"
            ],
            [
             0.9,
             "#4d9221"
            ],
            [
             1,
             "#276419"
            ]
           ],
           "sequential": [
            [
             0,
             "#0d0887"
            ],
            [
             0.1111111111111111,
             "#46039f"
            ],
            [
             0.2222222222222222,
             "#7201a8"
            ],
            [
             0.3333333333333333,
             "#9c179e"
            ],
            [
             0.4444444444444444,
             "#bd3786"
            ],
            [
             0.5555555555555556,
             "#d8576b"
            ],
            [
             0.6666666666666666,
             "#ed7953"
            ],
            [
             0.7777777777777778,
             "#fb9f3a"
            ],
            [
             0.8888888888888888,
             "#fdca26"
            ],
            [
             1,
             "#f0f921"
            ]
           ],
           "sequentialminus": [
            [
             0,
             "#0d0887"
            ],
            [
             0.1111111111111111,
             "#46039f"
            ],
            [
             0.2222222222222222,
             "#7201a8"
            ],
            [
             0.3333333333333333,
             "#9c179e"
            ],
            [
             0.4444444444444444,
             "#bd3786"
            ],
            [
             0.5555555555555556,
             "#d8576b"
            ],
            [
             0.6666666666666666,
             "#ed7953"
            ],
            [
             0.7777777777777778,
             "#fb9f3a"
            ],
            [
             0.8888888888888888,
             "#fdca26"
            ],
            [
             1,
             "#f0f921"
            ]
           ]
          },
          "colorway": [
           "#636efa",
           "#EF553B",
           "#00cc96",
           "#ab63fa",
           "#FFA15A",
           "#19d3f3",
           "#FF6692",
           "#B6E880",
           "#FF97FF",
           "#FECB52"
          ],
          "font": {
           "color": "#2a3f5f"
          },
          "geo": {
           "bgcolor": "white",
           "lakecolor": "white",
           "landcolor": "#E5ECF6",
           "showlakes": true,
           "showland": true,
           "subunitcolor": "white"
          },
          "hoverlabel": {
           "align": "left"
          },
          "hovermode": "closest",
          "mapbox": {
           "style": "light"
          },
          "paper_bgcolor": "white",
          "plot_bgcolor": "#E5ECF6",
          "polar": {
           "angularaxis": {
            "gridcolor": "white",
            "linecolor": "white",
            "ticks": ""
           },
           "bgcolor": "#E5ECF6",
           "radialaxis": {
            "gridcolor": "white",
            "linecolor": "white",
            "ticks": ""
           }
          },
          "scene": {
           "xaxis": {
            "backgroundcolor": "#E5ECF6",
            "gridcolor": "white",
            "gridwidth": 2,
            "linecolor": "white",
            "showbackground": true,
            "ticks": "",
            "zerolinecolor": "white"
           },
           "yaxis": {
            "backgroundcolor": "#E5ECF6",
            "gridcolor": "white",
            "gridwidth": 2,
            "linecolor": "white",
            "showbackground": true,
            "ticks": "",
            "zerolinecolor": "white"
           },
           "zaxis": {
            "backgroundcolor": "#E5ECF6",
            "gridcolor": "white",
            "gridwidth": 2,
            "linecolor": "white",
            "showbackground": true,
            "ticks": "",
            "zerolinecolor": "white"
           }
          },
          "shapedefaults": {
           "line": {
            "color": "#2a3f5f"
           }
          },
          "ternary": {
           "aaxis": {
            "gridcolor": "white",
            "linecolor": "white",
            "ticks": ""
           },
           "baxis": {
            "gridcolor": "white",
            "linecolor": "white",
            "ticks": ""
           },
           "bgcolor": "#E5ECF6",
           "caxis": {
            "gridcolor": "white",
            "linecolor": "white",
            "ticks": ""
           }
          },
          "title": {
           "x": 0.05
          },
          "xaxis": {
           "automargin": true,
           "gridcolor": "white",
           "linecolor": "white",
           "ticks": "",
           "title": {
            "standoff": 15
           },
           "zerolinecolor": "white",
           "zerolinewidth": 2
          },
          "yaxis": {
           "automargin": true,
           "gridcolor": "white",
           "linecolor": "white",
           "ticks": "",
           "title": {
            "standoff": 15
           },
           "zerolinecolor": "white",
           "zerolinewidth": 2
          }
         }
        },
        "yaxis": {
         "visible": false
        }
       }
      }
     },
     "metadata": {},
     "output_type": "display_data"
    }
   ],
   "source": [
    "street_supply_pro, street_supply_pro_negative = cal_norm(df_street_supply['도로보급률'].mean(),\n",
    "                                                         df_street_supply['도로보급률'].std(),\n",
    "                                                         df_street_supply['도로보급률'].min(),\n",
    "                                                         df_street_supply['도로보급률'].max(),\n",
    "                                                         street_supply_standard,\n",
    "                                                         False)"
   ]
  },
  {
   "cell_type": "markdown",
   "metadata": {},
   "source": [
    "## 상위 요소 - 경제적 요소"
   ]
  },
  {
   "cell_type": "markdown",
   "metadata": {},
   "source": [
    "### 전기차 충전기 비용"
   ]
  },
  {
   "cell_type": "code",
   "execution_count": 47,
   "metadata": {},
   "outputs": [
    {
     "data": {
      "text/html": [
       "<div>\n",
       "<style scoped>\n",
       "    .dataframe tbody tr th:only-of-type {\n",
       "        vertical-align: middle;\n",
       "    }\n",
       "\n",
       "    .dataframe tbody tr th {\n",
       "        vertical-align: top;\n",
       "    }\n",
       "\n",
       "    .dataframe thead th {\n",
       "        text-align: right;\n",
       "    }\n",
       "</style>\n",
       "<table border=\"1\" class=\"dataframe\">\n",
       "  <thead>\n",
       "    <tr style=\"text-align: right;\">\n",
       "      <th></th>\n",
       "      <th>모델명</th>\n",
       "      <th>타입</th>\n",
       "      <th>충전기가격</th>\n",
       "      <th>전격용량</th>\n",
       "      <th>충전기</th>\n",
       "    </tr>\n",
       "  </thead>\n",
       "  <tbody>\n",
       "    <tr>\n",
       "      <th>0</th>\n",
       "      <td>JC-6511PS-B-PO-BC</td>\n",
       "      <td>벽부착형 또는 스탠드형(폴 포함)</td>\n",
       "      <td>1800000</td>\n",
       "      <td>7 kW</td>\n",
       "      <td>완속</td>\n",
       "    </tr>\n",
       "    <tr>\n",
       "      <th>1</th>\n",
       "      <td>JEV-AW-107</td>\n",
       "      <td>벽부착형</td>\n",
       "      <td>2000000</td>\n",
       "      <td>7 kWh</td>\n",
       "      <td>완속</td>\n",
       "    </tr>\n",
       "    <tr>\n",
       "      <th>2</th>\n",
       "      <td>JEV-AS-107</td>\n",
       "      <td>스탠드형</td>\n",
       "      <td>2000000</td>\n",
       "      <td>7 kWh</td>\n",
       "      <td>완속</td>\n",
       "    </tr>\n",
       "    <tr>\n",
       "      <th>3</th>\n",
       "      <td>CS 100X 2BC01W</td>\n",
       "      <td>벽부착형</td>\n",
       "      <td>1452080</td>\n",
       "      <td>7 kWh</td>\n",
       "      <td>완속</td>\n",
       "    </tr>\n",
       "    <tr>\n",
       "      <th>4</th>\n",
       "      <td>CS 500A 2BC04W</td>\n",
       "      <td>벽부착형</td>\n",
       "      <td>1889248</td>\n",
       "      <td>7 kWh</td>\n",
       "      <td>완속</td>\n",
       "    </tr>\n",
       "    <tr>\n",
       "      <th>5</th>\n",
       "      <td>CS 200A 2BC03C</td>\n",
       "      <td>스탠드형</td>\n",
       "      <td>2018074</td>\n",
       "      <td>7 kWh</td>\n",
       "      <td>완속</td>\n",
       "    </tr>\n",
       "    <tr>\n",
       "      <th>6</th>\n",
       "      <td>CS 200A 3BC01C</td>\n",
       "      <td>스탠드형</td>\n",
       "      <td>3435449</td>\n",
       "      <td>14 kWh</td>\n",
       "      <td>완속</td>\n",
       "    </tr>\n",
       "    <tr>\n",
       "      <th>7</th>\n",
       "      <td>UK-NC7W-TCE</td>\n",
       "      <td>벽부착형 또는 스탠드형(폴 포함)</td>\n",
       "      <td>1800000</td>\n",
       "      <td>7 kW</td>\n",
       "      <td>완속</td>\n",
       "    </tr>\n",
       "    <tr>\n",
       "      <th>8</th>\n",
       "      <td>PECOH-HSC</td>\n",
       "      <td>벽부착형 또는 스탠드형(폴 포함)</td>\n",
       "      <td>770000</td>\n",
       "      <td>7 kW</td>\n",
       "      <td>완속</td>\n",
       "    </tr>\n",
       "    <tr>\n",
       "      <th>9</th>\n",
       "      <td>SPVseries</td>\n",
       "      <td>스탠드형</td>\n",
       "      <td>27500000</td>\n",
       "      <td>100kW</td>\n",
       "      <td>급속</td>\n",
       "    </tr>\n",
       "    <tr>\n",
       "      <th>10</th>\n",
       "      <td>SSEVC21F-BCCI100KW</td>\n",
       "      <td>스탠드형</td>\n",
       "      <td>58000000</td>\n",
       "      <td>100kW</td>\n",
       "      <td>급속</td>\n",
       "    </tr>\n",
       "    <tr>\n",
       "      <th>11</th>\n",
       "      <td>SSEVC21F-BCCI200KW</td>\n",
       "      <td>스탠드형</td>\n",
       "      <td>40000000</td>\n",
       "      <td>200kW</td>\n",
       "      <td>급속</td>\n",
       "    </tr>\n",
       "    <tr>\n",
       "      <th>12</th>\n",
       "      <td>FC100-DCM-PS</td>\n",
       "      <td>스탠드형</td>\n",
       "      <td>26000000</td>\n",
       "      <td>100kW</td>\n",
       "      <td>급속</td>\n",
       "    </tr>\n",
       "    <tr>\n",
       "      <th>13</th>\n",
       "      <td>EVD100J-DBB</td>\n",
       "      <td>스탠드형</td>\n",
       "      <td>48000000</td>\n",
       "      <td>100kW</td>\n",
       "      <td>급속</td>\n",
       "    </tr>\n",
       "    <tr>\n",
       "      <th>14</th>\n",
       "      <td>FC50K-CC</td>\n",
       "      <td>스탠드형</td>\n",
       "      <td>18000000</td>\n",
       "      <td>50kW</td>\n",
       "      <td>급속</td>\n",
       "    </tr>\n",
       "    <tr>\n",
       "      <th>15</th>\n",
       "      <td>CF-100M</td>\n",
       "      <td>스탠드형</td>\n",
       "      <td>21500000</td>\n",
       "      <td>50kW</td>\n",
       "      <td>급속</td>\n",
       "    </tr>\n",
       "    <tr>\n",
       "      <th>16</th>\n",
       "      <td>SVI-OF50T</td>\n",
       "      <td>스탠드형</td>\n",
       "      <td>16900000</td>\n",
       "      <td>50kW</td>\n",
       "      <td>급속</td>\n",
       "    </tr>\n",
       "    <tr>\n",
       "      <th>17</th>\n",
       "      <td>CF-200M(1CH)</td>\n",
       "      <td>스탠드형</td>\n",
       "      <td>30000000</td>\n",
       "      <td>100kW</td>\n",
       "      <td>급속</td>\n",
       "    </tr>\n",
       "    <tr>\n",
       "      <th>18</th>\n",
       "      <td>CF-200M(2CH)</td>\n",
       "      <td>스탠드형</td>\n",
       "      <td>33500000</td>\n",
       "      <td>100kW</td>\n",
       "      <td>급속</td>\n",
       "    </tr>\n",
       "  </tbody>\n",
       "</table>\n",
       "</div>"
      ],
      "text/plain": [
       "                   모델명                  타입     충전기가격    전격용량 충전기\n",
       "0    JC-6511PS-B-PO-BC  벽부착형 또는 스탠드형(폴 포함)   1800000    7 kW  완속\n",
       "1           JEV-AW-107                벽부착형   2000000   7 kWh  완속\n",
       "2           JEV-AS-107                스탠드형   2000000   7 kWh  완속\n",
       "3       CS 100X 2BC01W                벽부착형   1452080   7 kWh  완속\n",
       "4       CS 500A 2BC04W                벽부착형   1889248   7 kWh  완속\n",
       "5       CS 200A 2BC03C                스탠드형   2018074   7 kWh  완속\n",
       "6       CS 200A 3BC01C                스탠드형   3435449  14 kWh  완속\n",
       "7          UK-NC7W-TCE  벽부착형 또는 스탠드형(폴 포함)   1800000    7 kW  완속\n",
       "8            PECOH-HSC  벽부착형 또는 스탠드형(폴 포함)    770000    7 kW  완속\n",
       "9            SPVseries                스탠드형  27500000   100kW  급속\n",
       "10  SSEVC21F-BCCI100KW                스탠드형  58000000   100kW  급속\n",
       "11  SSEVC21F-BCCI200KW                스탠드형  40000000   200kW  급속\n",
       "12        FC100-DCM-PS                스탠드형  26000000   100kW  급속\n",
       "13         EVD100J-DBB                스탠드형  48000000   100kW  급속\n",
       "14            FC50K-CC                스탠드형  18000000    50kW  급속\n",
       "15             CF-100M                스탠드형  21500000    50kW  급속\n",
       "16           SVI-OF50T                스탠드형  16900000    50kW  급속\n",
       "17        CF-200M(1CH)                스탠드형  30000000   100kW  급속\n",
       "18        CF-200M(2CH)                스탠드형  33500000   100kW  급속"
      ]
     },
     "execution_count": 47,
     "metadata": {},
     "output_type": "execute_result"
    }
   ],
   "source": [
    "EVCS_cost_file_path = 'C:\\\\Users\\\\SAMSUNG\\\\Desktop\\\\Green-Car-Charging-Station-Site-Selection\\\\Data\\\\전기차 충전기 가격.csv'\n",
    "df_EVCS_cost = pd.read_csv(EVCS_cost_file_path, encoding='cp949')\n",
    "df_EVCS_cost"
   ]
  },
  {
   "cell_type": "code",
   "execution_count": 48,
   "metadata": {},
   "outputs": [
    {
     "data": {
      "application/vnd.plotly.v1+json": {
       "config": {
        "plotlyServerURL": "https://plot.ly"
       },
       "data": [
        {
         "fill": "tozeroy",
         "line": {
          "color": "rgb(100,110,250)"
         },
         "name": "적합",
         "type": "scatter",
         "x": [
          3597017.878184857,
          3914219.7177991513,
          4231421.557413446,
          4548623.39702774,
          4865825.236642035,
          5183027.076256329,
          5500228.915870624,
          5817430.755484918,
          6134632.595099213,
          6451834.434713507,
          6769036.274327802,
          7086238.113942096,
          7403439.95355639,
          7720641.793170684,
          8037843.6327849785,
          8355045.472399273,
          8672247.312013566,
          8989449.151627861,
          9306650.991242155,
          9623852.83085645,
          9941054.670470744,
          10258256.510085039,
          10575458.349699333,
          10892660.189313628,
          11209862.028927922,
          11527063.868542217,
          11844265.708156511,
          12161467.547770806,
          12478669.3873851,
          12795871.226999395,
          13113073.066613689,
          13430274.906227984,
          13747476.745842278,
          14064678.585456572,
          14381880.425070867,
          14699082.264685161,
          15016284.104299456,
          15333485.94391375,
          15650687.783528045,
          15967889.62314234,
          16285091.462756634,
          16602293.302370928,
          16919495.141985223,
          17236696.981599517,
          17553898.82121381,
          17871100.660828106,
          18188302.5004424,
          18505504.340056695,
          18822706.17967099,
          19139908.019285284,
          19457109.85889958,
          19774311.698513873,
          20091513.538128167,
          20408715.37774246,
          20725917.217356756,
          21043119.05697105,
          21360320.896585345,
          21677522.73619964,
          21994724.575813934,
          22311926.41542823,
          22629128.255042523,
          22946330.094656818,
          23263531.934271112,
          23580733.773885407,
          23897935.6134997,
          24215137.453113995,
          24532339.29272829,
          24849541.132342584,
          25166742.97195688,
          25483944.811571173,
          25801146.651185468,
          26118348.490799762,
          26435550.330414057,
          26752752.17002835,
          27069954.009642646,
          27387155.84925694,
          27704357.688871235,
          28021559.52848553,
          28338761.368099824,
          28655963.207714118,
          28973165.047328413,
          29290366.886942707,
          29607568.726557,
          29924770.566171296,
          30241972.40578559,
          30559174.245399885,
          30876376.08501418,
          31193577.924628474,
          31510779.76424277,
          31827981.603857063,
          32145183.443471357,
          32462385.28308565,
          32779587.122699946,
          33096788.96231424,
          33413990.801928535,
          33731192.64154283,
          34048394.48115712,
          34365596.32077141,
          34682798.160385706,
          35000000
         ],
         "y": [
          3.099239149314937e-9,
          3.259828706872526e-9,
          3.426790464066388e-9,
          3.6002561310187983e-9,
          3.780352753642521e-9,
          3.967202181526271e-9,
          4.160920524182357e-9,
          4.3616175969743e-9,
          4.569396358149732e-9,
          4.78435233851014e-9,
          5.006573065353302e-9,
          5.236137482425985e-9,
          5.4731153677229336e-9,
          5.717566751062724e-9,
          5.969541333461077e-9,
          6.229077910406869e-9,
          6.496203801224877e-9,
          6.7709342867814326e-9,
          7.053272057853908e-9,
          7.343206676541945e-9,
          7.640714053146469e-9,
          7.945755940981706e-9,
          8.258279451614566e-9,
          8.578216593044698e-9,
          8.90548383334646e-9,
          9.239981692290718e-9,
          9.58159436344917e-9,
          9.930189369256545e-9,
          1.0285617251466186e-8,
          1.0647711299381826e-8,
          1.1016287318182852e-8,
          1.1391143439581501e-8,
          1.1772059976958688e-8,
          1.2158799327020009e-8,
          1.2551105919895373e-8,
          1.2948706219474692e-8,
          1.3351308775628355e-8,
          1.3758604329805202e-8,
          1.4170265975332736e-8,
          1.4585949373564945e-8,
          1.5005293026832857e-8,
          1.542791860895246e-8,
          1.5853431353834787e-8,
          1.6281420502524203e-8,
          1.671145980876473e-8,
          1.714310810296089e-8,
          1.7575909914160542e-8,
          1.8009396149443525e-8,
          1.8443084829852342e-8,
          1.8876481881751594e-8,
          1.9309081982251686e-8,
          1.9740369457081612e-8,
          2.0169819229046103e-8,
          2.05968978149556e-8,
          2.102106436867491e-8,
          2.144177176769902e-8,
          2.1858467740433933e-8,
          2.2270596031138044e-8,
          2.267759759926636e-8,
          2.3078911849757487e-8,
          2.3473977890612913e-8,
          2.3862235813940804e-8,
          2.424312799647348e-8,
          2.461610041542021e-8,
          2.4980603975385987e-8,
          2.5336095841972924e-8,
          2.568204077758571e-8,
          2.601791247488602e-8,
          2.6343194883284153e-8,
          2.6657383523819642e-8,
          2.6959986787767157e-8,
          2.725052721430933e-8,
          2.752854274264517e-8,
          2.779358793395102e-8,
          2.8045235158680882e-8,
          2.8283075744784235e-8,
          2.8506721082531805e-8,
          2.8715803681772843e-8,
          2.8909978177601006e-8,
          2.9088922280578815e-8,
          2.9252337667862848e-8,
          2.9399950811781798e-8,
          2.9531513742646837e-8,
          2.9646804742816976e-8,
          2.9745628969300513e-8,
          2.982781900244542e-8,
          2.989323531855601e-8,
          2.994176668456837e-8,
          2.9973330473221974e-8,
          2.9987872897477315e-8,
          2.998536916324882e-8,
          2.9965823539845925e-8,
          2.9929269347842126e-8,
          2.9875768864420364e-8,
          2.9805413146571055e-8,
          2.971832177284531e-8,
          2.96146425046886e-8,
          2.9494550868697373e-8,
          2.935824966145175e-8,
          2.920596837887954e-8
         ]
        },
        {
         "fill": "tozeroy",
         "line": {
          "color": "rgb(239,85,59)"
         },
         "name": "부적합",
         "type": "scatter",
         "x": [
          35000000,
          35232323.23232323,
          35464646.464646466,
          35696969.696969695,
          35929292.92929293,
          36161616.16161616,
          36393939.39393939,
          36626262.62626263,
          36858585.85858586,
          37090909.09090909,
          37323232.32323232,
          37555555.55555555,
          37787878.78787879,
          38020202.02020202,
          38252525.252525255,
          38484848.484848484,
          38717171.71717171,
          38949494.94949495,
          39181818.18181818,
          39414141.41414142,
          39646464.646464646,
          39878787.878787875,
          40111111.11111111,
          40343434.34343434,
          40575757.57575758,
          40808080.80808081,
          41040404.04040404,
          41272727.27272727,
          41505050.5050505,
          41737373.73737374,
          41969696.96969697,
          42202020.2020202,
          42434343.434343435,
          42666666.666666664,
          42898989.8989899,
          43131313.13131313,
          43363636.36363636,
          43595959.5959596,
          43828282.828282826,
          44060606.06060606,
          44292929.29292929,
          44525252.52525252,
          44757575.75757576,
          44989898.98989899,
          45222222.222222224,
          45454545.45454545,
          45686868.68686868,
          45919191.91919192,
          46151515.15151515,
          46383838.383838385,
          46616161.616161615,
          46848484.848484844,
          47080808.08080808,
          47313131.31313131,
          47545454.54545455,
          47777777.777777776,
          48010101.010101005,
          48242424.24242424,
          48474747.47474747,
          48707070.70707071,
          48939393.93939394,
          49171717.17171717,
          49404040.4040404,
          49636363.63636363,
          49868686.86868687,
          50101010.1010101,
          50333333.33333333,
          50565656.565656565,
          50797979.797979794,
          51030303.03030303,
          51262626.26262626,
          51494949.49494949,
          51727272.72727273,
          51959595.95959596,
          52191919.19191919,
          52424242.42424242,
          52656565.65656565,
          52888888.88888889,
          53121212.121212125,
          53353535.353535354,
          53585858.58585858,
          53818181.81818181,
          54050505.05050505,
          54282828.28282829,
          54515151.515151516,
          54747474.747474745,
          54979797.979797974,
          55212121.21212121,
          55444444.44444445,
          55676767.67676768,
          55909090.90909091,
          56141414.141414136,
          56373737.37373737,
          56606060.60606061,
          56838383.83838384,
          57070707.07070707,
          57303030.3030303,
          57535353.535353534,
          57767676.76767677,
          58000000
         ],
         "y": [
          2.920596837887954e-8,
          2.9084443912756407e-8,
          2.8954592861407215e-8,
          2.8816531417872166e-8,
          2.8670382732441864e-8,
          2.851627672964084e-8,
          2.835434991580921e-8,
          2.8184745177681375e-8,
          2.8007611572377634e-8,
          2.782310410924039e-8,
          2.7631383523961866e-8,
          2.7432616045463446e-8,
          2.722697315599957e-8,
          2.701463134497018e-8,
          2.679577185693564e-8,
          2.657058043433691e-8,
          2.6339247055431025e-8,
          2.6101965667958112e-8,
          2.585893391906097e-8,
          2.5610352881981767e-8,
          2.5356426780062568e-8,
          2.5097362708577348e-8,
          2.4833370354922766e-8,
          2.4564661717693306e-8,
          2.4291450825163324e-8,
          2.4013953453694832e-8,
          2.3732386846583716e-8,
          2.3446969433851385e-8,
          2.315792055348053e-8,
          2.286546017458493e-8,
          2.2569808622993687e-8,
          2.2271186309718703e-8,
          2.196981346276286e-8,
          2.1665909862713e-8,
          2.13596945825481e-8,
          2.105138573207853e-8,
          2.0741200207416334e-8,
          2.042935344586079e-8,
          2.0116059186566126e-8,
          1.9801529237340623e-8,
          1.948597324790874e-8,
          1.9169598489948245e-8,
          1.8852609644196126e-8,
          1.853520859489672e-8,
          1.8217594231845843e-8,
          1.7899962260264696e-8,
          1.7582505018716272e-8,
          1.726541130525698e-8,
          1.6948866211995097e-8,
          1.6633050968206758e-8,
          1.6318142792139905e-8,
          1.600431475161521e-8,
          1.5691735633512965e-8,
          1.5380569822214027e-8,
          1.5070977187042953e-8,
          1.4763112978741497e-8,
          1.4457127734980711e-8,
          1.415316719490107e-8,
          1.3851372222650876e-8,
          1.3551878739874756e-8,
          1.325481766708664e-8,
          1.2960314873843453e-8,
          1.2668491137619836e-8,
          1.237946211126738e-8,
          1.2093338298926511e-8,
          1.1810225040244455e-8,
          1.1530222502738158e-8,
          1.1253425682127926e-8,
          1.097992441045452e-8,
          1.0709803371780435e-8,
          1.0443142125265205e-8,
          1.0180015135393524e-8,
          9.920491809125917e-9,
          9.664636539732315e-9,
          9.412508757061106e-9,
          9.164162983988764e-9,
          8.919648898788843e-9,
          8.679011403153259e-9,
          8.44229069559403e-9,
          8.209522349949384e-9,
          7.98073739871492e-9,
          7.755962420917908e-9,
          7.535219634250904e-9,
          7.3185269911798946e-9,
          7.105898278741622e-9,
          6.897343221745164e-9,
          6.6928675890939734e-9,
          6.492473302945832e-9,
          6.296158550430913e-9,
          6.103917897650649e-9,
          5.91574240568376e-9,
          5.731619748329843e-9,
          5.5515343313252705e-9,
          5.37546741277143e-9,
          5.203397224520586e-9,
          5.035299094270829e-9,
          4.871145568127831e-9,
          4.710906533397794e-9,
          4.554549341383237e-9,
          4.402038929960474e-9
         ]
        }
       ],
       "layout": {
        "annotations": [
         {
          "bordercolor": "rgb(100,110,250)",
          "borderwidth": 2,
          "font": {
           "color": "rgb(100,110,250)",
           "size": 15
          },
          "showarrow": false,
          "text": "0.574",
          "x": 35000000,
          "xshift": -40,
          "y": 2.920596837887954e-8,
          "yshift": -100
         },
         {
          "bordercolor": "rgb(239,85,59)",
          "borderwidth": 2,
          "font": {
           "color": "rgb(239,85,59)",
           "size": 15
          },
          "showarrow": false,
          "text": "0.426",
          "x": 35000000,
          "xshift": 40,
          "y": 2.920596837887954e-8,
          "yshift": -100
         }
        ],
        "template": {
         "data": {
          "bar": [
           {
            "error_x": {
             "color": "#2a3f5f"
            },
            "error_y": {
             "color": "#2a3f5f"
            },
            "marker": {
             "line": {
              "color": "#E5ECF6",
              "width": 0.5
             },
             "pattern": {
              "fillmode": "overlay",
              "size": 10,
              "solidity": 0.2
             }
            },
            "type": "bar"
           }
          ],
          "barpolar": [
           {
            "marker": {
             "line": {
              "color": "#E5ECF6",
              "width": 0.5
             },
             "pattern": {
              "fillmode": "overlay",
              "size": 10,
              "solidity": 0.2
             }
            },
            "type": "barpolar"
           }
          ],
          "carpet": [
           {
            "aaxis": {
             "endlinecolor": "#2a3f5f",
             "gridcolor": "white",
             "linecolor": "white",
             "minorgridcolor": "white",
             "startlinecolor": "#2a3f5f"
            },
            "baxis": {
             "endlinecolor": "#2a3f5f",
             "gridcolor": "white",
             "linecolor": "white",
             "minorgridcolor": "white",
             "startlinecolor": "#2a3f5f"
            },
            "type": "carpet"
           }
          ],
          "choropleth": [
           {
            "colorbar": {
             "outlinewidth": 0,
             "ticks": ""
            },
            "type": "choropleth"
           }
          ],
          "contour": [
           {
            "colorbar": {
             "outlinewidth": 0,
             "ticks": ""
            },
            "colorscale": [
             [
              0,
              "#0d0887"
             ],
             [
              0.1111111111111111,
              "#46039f"
             ],
             [
              0.2222222222222222,
              "#7201a8"
             ],
             [
              0.3333333333333333,
              "#9c179e"
             ],
             [
              0.4444444444444444,
              "#bd3786"
             ],
             [
              0.5555555555555556,
              "#d8576b"
             ],
             [
              0.6666666666666666,
              "#ed7953"
             ],
             [
              0.7777777777777778,
              "#fb9f3a"
             ],
             [
              0.8888888888888888,
              "#fdca26"
             ],
             [
              1,
              "#f0f921"
             ]
            ],
            "type": "contour"
           }
          ],
          "contourcarpet": [
           {
            "colorbar": {
             "outlinewidth": 0,
             "ticks": ""
            },
            "type": "contourcarpet"
           }
          ],
          "heatmap": [
           {
            "colorbar": {
             "outlinewidth": 0,
             "ticks": ""
            },
            "colorscale": [
             [
              0,
              "#0d0887"
             ],
             [
              0.1111111111111111,
              "#46039f"
             ],
             [
              0.2222222222222222,
              "#7201a8"
             ],
             [
              0.3333333333333333,
              "#9c179e"
             ],
             [
              0.4444444444444444,
              "#bd3786"
             ],
             [
              0.5555555555555556,
              "#d8576b"
             ],
             [
              0.6666666666666666,
              "#ed7953"
             ],
             [
              0.7777777777777778,
              "#fb9f3a"
             ],
             [
              0.8888888888888888,
              "#fdca26"
             ],
             [
              1,
              "#f0f921"
             ]
            ],
            "type": "heatmap"
           }
          ],
          "heatmapgl": [
           {
            "colorbar": {
             "outlinewidth": 0,
             "ticks": ""
            },
            "colorscale": [
             [
              0,
              "#0d0887"
             ],
             [
              0.1111111111111111,
              "#46039f"
             ],
             [
              0.2222222222222222,
              "#7201a8"
             ],
             [
              0.3333333333333333,
              "#9c179e"
             ],
             [
              0.4444444444444444,
              "#bd3786"
             ],
             [
              0.5555555555555556,
              "#d8576b"
             ],
             [
              0.6666666666666666,
              "#ed7953"
             ],
             [
              0.7777777777777778,
              "#fb9f3a"
             ],
             [
              0.8888888888888888,
              "#fdca26"
             ],
             [
              1,
              "#f0f921"
             ]
            ],
            "type": "heatmapgl"
           }
          ],
          "histogram": [
           {
            "marker": {
             "pattern": {
              "fillmode": "overlay",
              "size": 10,
              "solidity": 0.2
             }
            },
            "type": "histogram"
           }
          ],
          "histogram2d": [
           {
            "colorbar": {
             "outlinewidth": 0,
             "ticks": ""
            },
            "colorscale": [
             [
              0,
              "#0d0887"
             ],
             [
              0.1111111111111111,
              "#46039f"
             ],
             [
              0.2222222222222222,
              "#7201a8"
             ],
             [
              0.3333333333333333,
              "#9c179e"
             ],
             [
              0.4444444444444444,
              "#bd3786"
             ],
             [
              0.5555555555555556,
              "#d8576b"
             ],
             [
              0.6666666666666666,
              "#ed7953"
             ],
             [
              0.7777777777777778,
              "#fb9f3a"
             ],
             [
              0.8888888888888888,
              "#fdca26"
             ],
             [
              1,
              "#f0f921"
             ]
            ],
            "type": "histogram2d"
           }
          ],
          "histogram2dcontour": [
           {
            "colorbar": {
             "outlinewidth": 0,
             "ticks": ""
            },
            "colorscale": [
             [
              0,
              "#0d0887"
             ],
             [
              0.1111111111111111,
              "#46039f"
             ],
             [
              0.2222222222222222,
              "#7201a8"
             ],
             [
              0.3333333333333333,
              "#9c179e"
             ],
             [
              0.4444444444444444,
              "#bd3786"
             ],
             [
              0.5555555555555556,
              "#d8576b"
             ],
             [
              0.6666666666666666,
              "#ed7953"
             ],
             [
              0.7777777777777778,
              "#fb9f3a"
             ],
             [
              0.8888888888888888,
              "#fdca26"
             ],
             [
              1,
              "#f0f921"
             ]
            ],
            "type": "histogram2dcontour"
           }
          ],
          "mesh3d": [
           {
            "colorbar": {
             "outlinewidth": 0,
             "ticks": ""
            },
            "type": "mesh3d"
           }
          ],
          "parcoords": [
           {
            "line": {
             "colorbar": {
              "outlinewidth": 0,
              "ticks": ""
             }
            },
            "type": "parcoords"
           }
          ],
          "pie": [
           {
            "automargin": true,
            "type": "pie"
           }
          ],
          "scatter": [
           {
            "marker": {
             "colorbar": {
              "outlinewidth": 0,
              "ticks": ""
             }
            },
            "type": "scatter"
           }
          ],
          "scatter3d": [
           {
            "line": {
             "colorbar": {
              "outlinewidth": 0,
              "ticks": ""
             }
            },
            "marker": {
             "colorbar": {
              "outlinewidth": 0,
              "ticks": ""
             }
            },
            "type": "scatter3d"
           }
          ],
          "scattercarpet": [
           {
            "marker": {
             "colorbar": {
              "outlinewidth": 0,
              "ticks": ""
             }
            },
            "type": "scattercarpet"
           }
          ],
          "scattergeo": [
           {
            "marker": {
             "colorbar": {
              "outlinewidth": 0,
              "ticks": ""
             }
            },
            "type": "scattergeo"
           }
          ],
          "scattergl": [
           {
            "marker": {
             "colorbar": {
              "outlinewidth": 0,
              "ticks": ""
             }
            },
            "type": "scattergl"
           }
          ],
          "scattermapbox": [
           {
            "marker": {
             "colorbar": {
              "outlinewidth": 0,
              "ticks": ""
             }
            },
            "type": "scattermapbox"
           }
          ],
          "scatterpolar": [
           {
            "marker": {
             "colorbar": {
              "outlinewidth": 0,
              "ticks": ""
             }
            },
            "type": "scatterpolar"
           }
          ],
          "scatterpolargl": [
           {
            "marker": {
             "colorbar": {
              "outlinewidth": 0,
              "ticks": ""
             }
            },
            "type": "scatterpolargl"
           }
          ],
          "scatterternary": [
           {
            "marker": {
             "colorbar": {
              "outlinewidth": 0,
              "ticks": ""
             }
            },
            "type": "scatterternary"
           }
          ],
          "surface": [
           {
            "colorbar": {
             "outlinewidth": 0,
             "ticks": ""
            },
            "colorscale": [
             [
              0,
              "#0d0887"
             ],
             [
              0.1111111111111111,
              "#46039f"
             ],
             [
              0.2222222222222222,
              "#7201a8"
             ],
             [
              0.3333333333333333,
              "#9c179e"
             ],
             [
              0.4444444444444444,
              "#bd3786"
             ],
             [
              0.5555555555555556,
              "#d8576b"
             ],
             [
              0.6666666666666666,
              "#ed7953"
             ],
             [
              0.7777777777777778,
              "#fb9f3a"
             ],
             [
              0.8888888888888888,
              "#fdca26"
             ],
             [
              1,
              "#f0f921"
             ]
            ],
            "type": "surface"
           }
          ],
          "table": [
           {
            "cells": {
             "fill": {
              "color": "#EBF0F8"
             },
             "line": {
              "color": "white"
             }
            },
            "header": {
             "fill": {
              "color": "#C8D4E3"
             },
             "line": {
              "color": "white"
             }
            },
            "type": "table"
           }
          ]
         },
         "layout": {
          "annotationdefaults": {
           "arrowcolor": "#2a3f5f",
           "arrowhead": 0,
           "arrowwidth": 1
          },
          "autotypenumbers": "strict",
          "coloraxis": {
           "colorbar": {
            "outlinewidth": 0,
            "ticks": ""
           }
          },
          "colorscale": {
           "diverging": [
            [
             0,
             "#8e0152"
            ],
            [
             0.1,
             "#c51b7d"
            ],
            [
             0.2,
             "#de77ae"
            ],
            [
             0.3,
             "#f1b6da"
            ],
            [
             0.4,
             "#fde0ef"
            ],
            [
             0.5,
             "#f7f7f7"
            ],
            [
             0.6,
             "#e6f5d0"
            ],
            [
             0.7,
             "#b8e186"
            ],
            [
             0.8,
             "#7fbc41"
            ],
            [
             0.9,
             "#4d9221"
            ],
            [
             1,
             "#276419"
            ]
           ],
           "sequential": [
            [
             0,
             "#0d0887"
            ],
            [
             0.1111111111111111,
             "#46039f"
            ],
            [
             0.2222222222222222,
             "#7201a8"
            ],
            [
             0.3333333333333333,
             "#9c179e"
            ],
            [
             0.4444444444444444,
             "#bd3786"
            ],
            [
             0.5555555555555556,
             "#d8576b"
            ],
            [
             0.6666666666666666,
             "#ed7953"
            ],
            [
             0.7777777777777778,
             "#fb9f3a"
            ],
            [
             0.8888888888888888,
             "#fdca26"
            ],
            [
             1,
             "#f0f921"
            ]
           ],
           "sequentialminus": [
            [
             0,
             "#0d0887"
            ],
            [
             0.1111111111111111,
             "#46039f"
            ],
            [
             0.2222222222222222,
             "#7201a8"
            ],
            [
             0.3333333333333333,
             "#9c179e"
            ],
            [
             0.4444444444444444,
             "#bd3786"
            ],
            [
             0.5555555555555556,
             "#d8576b"
            ],
            [
             0.6666666666666666,
             "#ed7953"
            ],
            [
             0.7777777777777778,
             "#fb9f3a"
            ],
            [
             0.8888888888888888,
             "#fdca26"
            ],
            [
             1,
             "#f0f921"
            ]
           ]
          },
          "colorway": [
           "#636efa",
           "#EF553B",
           "#00cc96",
           "#ab63fa",
           "#FFA15A",
           "#19d3f3",
           "#FF6692",
           "#B6E880",
           "#FF97FF",
           "#FECB52"
          ],
          "font": {
           "color": "#2a3f5f"
          },
          "geo": {
           "bgcolor": "white",
           "lakecolor": "white",
           "landcolor": "#E5ECF6",
           "showlakes": true,
           "showland": true,
           "subunitcolor": "white"
          },
          "hoverlabel": {
           "align": "left"
          },
          "hovermode": "closest",
          "mapbox": {
           "style": "light"
          },
          "paper_bgcolor": "white",
          "plot_bgcolor": "#E5ECF6",
          "polar": {
           "angularaxis": {
            "gridcolor": "white",
            "linecolor": "white",
            "ticks": ""
           },
           "bgcolor": "#E5ECF6",
           "radialaxis": {
            "gridcolor": "white",
            "linecolor": "white",
            "ticks": ""
           }
          },
          "scene": {
           "xaxis": {
            "backgroundcolor": "#E5ECF6",
            "gridcolor": "white",
            "gridwidth": 2,
            "linecolor": "white",
            "showbackground": true,
            "ticks": "",
            "zerolinecolor": "white"
           },
           "yaxis": {
            "backgroundcolor": "#E5ECF6",
            "gridcolor": "white",
            "gridwidth": 2,
            "linecolor": "white",
            "showbackground": true,
            "ticks": "",
            "zerolinecolor": "white"
           },
           "zaxis": {
            "backgroundcolor": "#E5ECF6",
            "gridcolor": "white",
            "gridwidth": 2,
            "linecolor": "white",
            "showbackground": true,
            "ticks": "",
            "zerolinecolor": "white"
           }
          },
          "shapedefaults": {
           "line": {
            "color": "#2a3f5f"
           }
          },
          "ternary": {
           "aaxis": {
            "gridcolor": "white",
            "linecolor": "white",
            "ticks": ""
           },
           "baxis": {
            "gridcolor": "white",
            "linecolor": "white",
            "ticks": ""
           },
           "bgcolor": "#E5ECF6",
           "caxis": {
            "gridcolor": "white",
            "linecolor": "white",
            "ticks": ""
           }
          },
          "title": {
           "x": 0.05
          },
          "xaxis": {
           "automargin": true,
           "gridcolor": "white",
           "linecolor": "white",
           "ticks": "",
           "title": {
            "standoff": 15
           },
           "zerolinecolor": "white",
           "zerolinewidth": 2
          },
          "yaxis": {
           "automargin": true,
           "gridcolor": "white",
           "linecolor": "white",
           "ticks": "",
           "title": {
            "standoff": 15
           },
           "zerolinecolor": "white",
           "zerolinewidth": 2
          }
         }
        },
        "yaxis": {
         "visible": false
        }
       }
      }
     },
     "metadata": {},
     "output_type": "display_data"
    }
   ],
   "source": [
    "EVCS_cost_pro, EVCS_cost_pro_negative = cal_norm(df_EVCS_cost[df_EVCS_cost['충전기']=='급속']['충전기가격'].mean(),\n",
    "                                         df_EVCS_cost[df_EVCS_cost['충전기']=='급속']['충전기가격'].std(),\n",
    "                                         df_EVCS_cost[df_EVCS_cost['충전기']=='급속']['충전기가격'].min(),\n",
    "                                         df_EVCS_cost[df_EVCS_cost['충전기']=='급속']['충전기가격'].max(),\n",
    "                                         EVCS_cost_standard,\n",
    "                                         True)"
   ]
  },
  {
   "cell_type": "markdown",
   "metadata": {},
   "source": [
    "### 수소충전소 구축비용"
   ]
  },
  {
   "cell_type": "code",
   "execution_count": 49,
   "metadata": {},
   "outputs": [
    {
     "data": {
      "text/html": [
       "<div>\n",
       "<style scoped>\n",
       "    .dataframe tbody tr th:only-of-type {\n",
       "        vertical-align: middle;\n",
       "    }\n",
       "\n",
       "    .dataframe tbody tr th {\n",
       "        vertical-align: top;\n",
       "    }\n",
       "\n",
       "    .dataframe thead th {\n",
       "        text-align: right;\n",
       "    }\n",
       "</style>\n",
       "<table border=\"1\" class=\"dataframe\">\n",
       "  <thead>\n",
       "    <tr style=\"text-align: right;\">\n",
       "      <th></th>\n",
       "      <th>구축 비용</th>\n",
       "    </tr>\n",
       "    <tr>\n",
       "      <th>충전소 종류</th>\n",
       "      <th></th>\n",
       "    </tr>\n",
       "  </thead>\n",
       "  <tbody>\n",
       "    <tr>\n",
       "      <th>파이프라인</th>\n",
       "      <td>2400000000</td>\n",
       "    </tr>\n",
       "    <tr>\n",
       "      <th>튜브트레일러</th>\n",
       "      <td>2200000000</td>\n",
       "    </tr>\n",
       "    <tr>\n",
       "      <th>이동식</th>\n",
       "      <td>1800000000</td>\n",
       "    </tr>\n",
       "    <tr>\n",
       "      <th>천연가스개질</th>\n",
       "      <td>4600000000</td>\n",
       "    </tr>\n",
       "    <tr>\n",
       "      <th>수전해</th>\n",
       "      <td>3100000000</td>\n",
       "    </tr>\n",
       "  </tbody>\n",
       "</table>\n",
       "</div>"
      ],
      "text/plain": [
       "             구축 비용\n",
       "충전소 종류            \n",
       "파이프라인   2400000000\n",
       "튜브트레일러  2200000000\n",
       "이동식     1800000000\n",
       "천연가스개질  4600000000\n",
       "수전해     3100000000"
      ]
     },
     "execution_count": 49,
     "metadata": {},
     "output_type": "execute_result"
    }
   ],
   "source": [
    "HVCS_cost_file_path = 'C:\\\\Users\\\\SAMSUNG\\\\Desktop\\\\Green-Car-Charging-Station-Site-Selection\\\\Data\\\\수소 충전소 종류별 구축 비용.csv'\n",
    "df_HVCS_cost = pd.read_csv(HVCS_cost_file_path, encoding='cp949')\n",
    "df_HVCS_cost = df_HVCS_cost.set_index('충전소 종류')\n",
    "df_HVCS_cost"
   ]
  },
  {
   "cell_type": "markdown",
   "metadata": {},
   "source": [
    "#### 수소 충전소 구축 비용 적합도"
   ]
  },
  {
   "cell_type": "code",
   "execution_count": 50,
   "metadata": {},
   "outputs": [
    {
     "data": {
      "application/vnd.plotly.v1+json": {
       "config": {
        "plotlyServerURL": "https://plot.ly"
       },
       "data": [
        {
         "fill": "tozeroy",
         "line": {
          "color": "rgb(100,110,250)"
         },
         "name": "적합",
         "type": "scatter",
         "x": [
          699091284.4381692,
          722332786.6155615,
          745574288.7929537,
          768815790.970346,
          792057293.1477381,
          815298795.3251303,
          838540297.5025226,
          861781799.6799148,
          885023301.8573071,
          908264804.0346992,
          931506306.2120914,
          954747808.3894837,
          977989310.5668759,
          1001230812.7442682,
          1024472314.9216604,
          1047713817.0990527,
          1070955319.2764449,
          1094196821.4538372,
          1117438323.6312294,
          1140679825.8086214,
          1163921327.986014,
          1187162830.163406,
          1210404332.3407981,
          1233645834.5181904,
          1256887336.6955826,
          1280128838.8729749,
          1303370341.050367,
          1326611843.2277594,
          1349853345.4051516,
          1373094847.5825438,
          1396336349.7599359,
          1419577851.9373283,
          1442819354.1147203,
          1466060856.2921128,
          1489302358.4695048,
          1512543860.6468973,
          1535785362.8242893,
          1559026865.0016816,
          1582268367.1790738,
          1605509869.356466,
          1628751371.5338583,
          1651992873.7112505,
          1675234375.8886428,
          1698475878.0660348,
          1721717380.2434273,
          1744958882.4208193,
          1768200384.5982118,
          1791441886.7756038,
          1814683388.952996,
          1837924891.1303883,
          1861166393.3077805,
          1884407895.4851727,
          1907649397.662565,
          1930890899.8399572,
          1954132402.0173495,
          1977373904.1947417,
          2000615406.372134,
          2023856908.5495262,
          2047098410.7269182,
          2070339912.9043105,
          2093581415.0817027,
          2116822917.259095,
          2140064419.4364872,
          2163305921.613879,
          2186547423.7912717,
          2209788925.968664,
          2233030428.146056,
          2256271930.323448,
          2279513432.5008407,
          2302754934.678233,
          2325996436.855625,
          2349237939.033017,
          2372479441.210409,
          2395720943.3878016,
          2418962445.565194,
          2442203947.742586,
          2465445449.919978,
          2488686952.0973706,
          2511928454.274763,
          2535169956.452155,
          2558411458.629547,
          2581652960.8069396,
          2604894462.984332,
          2628135965.161724,
          2651377467.339116,
          2674618969.516508,
          2697860471.6939006,
          2721101973.871293,
          2744343476.048685,
          2767584978.226077,
          2790826480.4034696,
          2814067982.580862,
          2837309484.758254,
          2860550986.935646,
          2883792489.113038,
          2907033991.290431,
          2930275493.467823,
          2953516995.645215,
          2976758497.822607,
          3000000000
         ],
         "y": [
          5.6654167259799576e-11,
          5.899269267460261e-11,
          6.140037468826754e-11,
          6.387784637299155e-11,
          6.642567132095136e-11,
          6.9044339816723e-11,
          7.173426502272308e-11,
          7.449577918858903e-11,
          7.732912989577104e-11,
          8.02344763489401e-11,
          8.32118857261143e-11,
          8.626132959967724e-11,
          8.938268044069543e-11,
          9.257570821914032e-11,
          9.584007711278172e-11,
          9.917534233763853e-11,
          1.025809471129495e-10,
          1.0605621977366189e-10,
          1.0960037104342022e-10,
          1.1321249148097978e-10,
          1.168915491128586e-10,
          1.2063638726488207e-10,
          1.2444572260506602e-10,
          1.283181434100186e-10,
          1.322521080667282e-10,
          1.3624594382123588e-10,
          1.4029784578526927e-10,
          1.444058762114398e-10,
          1.4856796404707872e-10,
          1.527819047762066e-10,
          1.570453605584988e-10,
          1.6135586067343034e-10,
          1.6571080227704778e-10,
          1.7010745147804174e-10,
          1.7454294473896477e-10,
          1.7901429060757454e-10,
          1.8351837178236813e-10,
          1.8805194751542997e-10,
          1.926116563547258e-10,
          1.9719401922696098e-10,
          2.0179544286107365e-10,
          2.0641222355135877e-10,
          2.1104055125812367e-10,
          2.1567651404266328e-10,
          2.2031610283221205e-10,
          2.249552165093912e-10,
          2.2958966731952878e-10,
          2.3421518658807733e-10,
          2.388274307392197e-10,
          2.434219876056115e-10,
          2.4799438301809255e-10,
          2.5254008766309217e-10,
          2.57054524194374e-10,
          2.615330745847094e-10,
          2.6597108770204786e-10,
          2.7036388709376636e-10,
          2.7470677896163594e-10,
          2.7899506030924477e-10,
          2.8322402724276997e-10,
          2.87388983405197e-10,
          2.9148524852335034e-10,
          2.955081670464278e-10,
          2.9945311685412643e-10,
          3.033155180119097e-10,
          3.0709084155050517e-10,
          3.107746182463332e-10,
          3.1436244737926025e-10,
          3.178500054438408e-10,
          3.21233054790067e-10,
          3.245074521695856e-10,
          3.276691571633632e-10,
          3.307142404668946e-10,
          3.336388920092438e-10,
          3.364394288824942e-10,
          3.391123030585532e-10,
          3.4165410887071474e-10,
          3.4406159023792625e-10,
          3.463316476103287e-10,
          3.484613446153493e-10,
          3.5044791438440953e-10,
          3.522887655411779e-10,
          3.539814878332294e-10,
          3.5552385738998684e-10,
          3.569138415908885e-10,
          3.58149603528869e-10,
          3.5922950605543296e-10,
          3.601521153948539e-10,
          3.6091620431632926e-10,
          3.615207548542698e-10,
          3.619649605682799e-10,
          3.6224822833580767e-10,
          3.623701796718868e-10,
          3.6233065157185816e-10,
          3.6212969687444613e-10,
          3.6176758414405674e-10,
          3.612447970726651e-10,
          3.605620334031563e-10,
          3.5972020337747516e-10,
          3.5872042771441485e-10,
          3.5756403512333453e-10
         ]
        },
        {
         "fill": "tozeroy",
         "line": {
          "color": "rgb(239,85,59)"
         },
         "name": "부적합",
         "type": "scatter",
         "x": [
          3000000000,
          3016161616.1616163,
          3032323232.323232,
          3048484848.4848485,
          3064646464.646465,
          3080808080.8080807,
          3096969696.969697,
          3113131313.1313133,
          3129292929.292929,
          3145454545.4545455,
          3161616161.616162,
          3177777777.7777777,
          3193939393.939394,
          3210101010.1010103,
          3226262626.262626,
          3242424242.4242425,
          3258585858.5858583,
          3274747474.7474747,
          3290909090.909091,
          3307070707.0707073,
          3323232323.232323,
          3339393939.3939395,
          3355555555.5555553,
          3371717171.7171717,
          3387878787.878788,
          3404040404.040404,
          3420202020.20202,
          3436363636.3636365,
          3452525252.5252523,
          3468686868.6868687,
          3484848484.848485,
          3501010101.010101,
          3517171717.171717,
          3533333333.3333335,
          3549494949.4949493,
          3565656565.6565657,
          3581818181.818182,
          3597979797.979798,
          3614141414.141414,
          3630303030.30303,
          3646464646.4646463,
          3662626262.6262627,
          3678787878.787879,
          3694949494.949495,
          3711111111.111111,
          3727272727.272727,
          3743434343.4343433,
          3759595959.5959597,
          3775757575.757576,
          3791919191.919192,
          3808080808.080808,
          3824242424.242424,
          3840404040.4040403,
          3856565656.5656567,
          3872727272.727273,
          3888888888.888889,
          3905050505.050505,
          3921212121.212121,
          3937373737.3737373,
          3953535353.5353537,
          3969696969.69697,
          3985858585.858586,
          4002020202.020202,
          4018181818.181818,
          4034343434.3434343,
          4050505050.5050507,
          4066666666.6666665,
          4082828282.828283,
          4098989898.9898987,
          4115151515.151515,
          4131313131.3131313,
          4147474747.4747477,
          4163636363.6363635,
          4179797979.79798,
          4195959595.9595957,
          4212121212.121212,
          4228282828.2828283,
          4244444444.4444447,
          4260606060.6060605,
          4276767676.767677,
          4292929292.9292927,
          4309090909.090909,
          4325252525.252525,
          4341414141.414142,
          4357575757.575758,
          4373737373.737373,
          4389898989.89899,
          4406060606.060606,
          4422222222.222222,
          4438383838.383839,
          4454545454.545454,
          4470707070.70707,
          4486868686.868687,
          4503030303.030303,
          4519191919.191919,
          4535353535.353536,
          4551515151.515152,
          4567676767.676767,
          4583838383.838384,
          4600000000
         ],
         "y": [
          3.5756403512333453e-10,
          3.5666838995047115e-10,
          3.556983235133382e-10,
          3.546544557268331e-10,
          3.535374523945561e-10,
          3.523480245011369e-10,
          3.5108692745811265e-10,
          3.497549603044773e-10,
          3.4835296486308653e-10,
          3.46881824854164e-10,
          3.4534246496721737e-10,
          3.4373584989272606e-10,
          3.420629833150209e-10,
          3.403249068678272e-10,
          3.3852269905399124e-10,
          3.366574741309575e-10,
          3.3473038096360935e-10,
          3.327426018461226e-10,
          3.306953512945241e-10,
          3.285898748116769e-10,
          3.2642744762645015e-10,
          3.242093734088553e-10,
          3.219369829629587e-10,
          3.196116328994002e-10,
          3.1723470428936724e-10,
          3.14807601301888e-10,
          3.1233174982631904e-10,
          3.0980859608191273e-10,
          3.072396052163528e-10,
          3.046262598951495e-10,
          3.0197005888378594e-10,
          2.9927251562449854e-10,
          2.9653515680957114e-10,
          2.937595209530089e-10,
          2.9094715696244496e-10,
          2.880996227131142e-10,
          2.8521848362571215e-10,
          2.823053112499287e-10,
          2.7936168185542494e-10,
          2.763891750319911e-10,
          2.733893723005911e-10,
          2.7036385573696777e-10,
          2.673142066094443e-10,
          2.642420040325186e-10,
          2.6114882363780834e-10,
          2.5803623626385805e-10,
          2.5490580666627607e-10,
          2.517590922496213e-10,
          2.4859764182240926e-10,
          2.454229943765582e-10,
          2.4223667789253956e-10,
          2.3904020817144797e-10,
          2.358350876951435e-10,
          2.3262280451556938e-10,
          2.2940483117428407e-10,
          2.2618262365319106e-10,
          2.2295762035738808e-10,
          2.1973124113099867e-10,
          2.1650488630678404e-10,
          2.1327993579027562e-10,
          2.1005774817910269e-10,
          2.068396599181291e-10,
          2.0362698449094957e-10,
          2.004210116482346e-10,
          1.9722300667334728e-10,
          1.9403420968559776e-10,
          1.9085583498143417e-10,
          1.876890704138109e-10,
          1.84535076809913e-10,
          1.8139498742735366e-10,
          1.7826990744890552e-10,
          1.7516091351576417e-10,
          1.7206905329928831e-10,
          1.6899534511110055e-10,
          1.6594077755138185e-10,
          1.6290630919513363e-10,
          1.5989286831613424e-10,
          1.5690135264825933e-10,
          1.5393262918379045e-10,
          1.5098753400828514e-10,
          1.4806687217153763e-10,
          1.451714175941096e-10,
          1.423019130088736e-10,
          1.3945906993696413e-10,
          1.366435686974957e-10,
          1.3385605845036808e-10,
          1.310971572714417e-10,
          1.2836745225933624e-10,
          1.2566749967306772e-10,
          1.2299782509971388e-10,
          1.2035892365126901e-10,
          1.1775126018982e-10,
          1.1517526958015775e-10,
          1.1263135696890848e-10,
          1.1011989808925609e-10,
          1.0764123959030505e-10,
          1.0519569939011911e-10,
          1.0278356705145641e-10,
          1.0040510417920917e-10,
          9.806054483854934e-11
         ]
        }
       ],
       "layout": {
        "annotations": [
         {
          "bordercolor": "rgb(100,110,250)",
          "borderwidth": 2,
          "font": {
           "color": "rgb(100,110,250)",
           "size": 15
          },
          "showarrow": false,
          "text": "0.538",
          "x": 3000000000,
          "xshift": -40,
          "y": 3.5756403512333453e-10,
          "yshift": -100
         },
         {
          "bordercolor": "rgb(239,85,59)",
          "borderwidth": 2,
          "font": {
           "color": "rgb(239,85,59)",
           "size": 15
          },
          "showarrow": false,
          "text": "0.462",
          "x": 3000000000,
          "xshift": 40,
          "y": 3.5756403512333453e-10,
          "yshift": -100
         }
        ],
        "template": {
         "data": {
          "bar": [
           {
            "error_x": {
             "color": "#2a3f5f"
            },
            "error_y": {
             "color": "#2a3f5f"
            },
            "marker": {
             "line": {
              "color": "#E5ECF6",
              "width": 0.5
             },
             "pattern": {
              "fillmode": "overlay",
              "size": 10,
              "solidity": 0.2
             }
            },
            "type": "bar"
           }
          ],
          "barpolar": [
           {
            "marker": {
             "line": {
              "color": "#E5ECF6",
              "width": 0.5
             },
             "pattern": {
              "fillmode": "overlay",
              "size": 10,
              "solidity": 0.2
             }
            },
            "type": "barpolar"
           }
          ],
          "carpet": [
           {
            "aaxis": {
             "endlinecolor": "#2a3f5f",
             "gridcolor": "white",
             "linecolor": "white",
             "minorgridcolor": "white",
             "startlinecolor": "#2a3f5f"
            },
            "baxis": {
             "endlinecolor": "#2a3f5f",
             "gridcolor": "white",
             "linecolor": "white",
             "minorgridcolor": "white",
             "startlinecolor": "#2a3f5f"
            },
            "type": "carpet"
           }
          ],
          "choropleth": [
           {
            "colorbar": {
             "outlinewidth": 0,
             "ticks": ""
            },
            "type": "choropleth"
           }
          ],
          "contour": [
           {
            "colorbar": {
             "outlinewidth": 0,
             "ticks": ""
            },
            "colorscale": [
             [
              0,
              "#0d0887"
             ],
             [
              0.1111111111111111,
              "#46039f"
             ],
             [
              0.2222222222222222,
              "#7201a8"
             ],
             [
              0.3333333333333333,
              "#9c179e"
             ],
             [
              0.4444444444444444,
              "#bd3786"
             ],
             [
              0.5555555555555556,
              "#d8576b"
             ],
             [
              0.6666666666666666,
              "#ed7953"
             ],
             [
              0.7777777777777778,
              "#fb9f3a"
             ],
             [
              0.8888888888888888,
              "#fdca26"
             ],
             [
              1,
              "#f0f921"
             ]
            ],
            "type": "contour"
           }
          ],
          "contourcarpet": [
           {
            "colorbar": {
             "outlinewidth": 0,
             "ticks": ""
            },
            "type": "contourcarpet"
           }
          ],
          "heatmap": [
           {
            "colorbar": {
             "outlinewidth": 0,
             "ticks": ""
            },
            "colorscale": [
             [
              0,
              "#0d0887"
             ],
             [
              0.1111111111111111,
              "#46039f"
             ],
             [
              0.2222222222222222,
              "#7201a8"
             ],
             [
              0.3333333333333333,
              "#9c179e"
             ],
             [
              0.4444444444444444,
              "#bd3786"
             ],
             [
              0.5555555555555556,
              "#d8576b"
             ],
             [
              0.6666666666666666,
              "#ed7953"
             ],
             [
              0.7777777777777778,
              "#fb9f3a"
             ],
             [
              0.8888888888888888,
              "#fdca26"
             ],
             [
              1,
              "#f0f921"
             ]
            ],
            "type": "heatmap"
           }
          ],
          "heatmapgl": [
           {
            "colorbar": {
             "outlinewidth": 0,
             "ticks": ""
            },
            "colorscale": [
             [
              0,
              "#0d0887"
             ],
             [
              0.1111111111111111,
              "#46039f"
             ],
             [
              0.2222222222222222,
              "#7201a8"
             ],
             [
              0.3333333333333333,
              "#9c179e"
             ],
             [
              0.4444444444444444,
              "#bd3786"
             ],
             [
              0.5555555555555556,
              "#d8576b"
             ],
             [
              0.6666666666666666,
              "#ed7953"
             ],
             [
              0.7777777777777778,
              "#fb9f3a"
             ],
             [
              0.8888888888888888,
              "#fdca26"
             ],
             [
              1,
              "#f0f921"
             ]
            ],
            "type": "heatmapgl"
           }
          ],
          "histogram": [
           {
            "marker": {
             "pattern": {
              "fillmode": "overlay",
              "size": 10,
              "solidity": 0.2
             }
            },
            "type": "histogram"
           }
          ],
          "histogram2d": [
           {
            "colorbar": {
             "outlinewidth": 0,
             "ticks": ""
            },
            "colorscale": [
             [
              0,
              "#0d0887"
             ],
             [
              0.1111111111111111,
              "#46039f"
             ],
             [
              0.2222222222222222,
              "#7201a8"
             ],
             [
              0.3333333333333333,
              "#9c179e"
             ],
             [
              0.4444444444444444,
              "#bd3786"
             ],
             [
              0.5555555555555556,
              "#d8576b"
             ],
             [
              0.6666666666666666,
              "#ed7953"
             ],
             [
              0.7777777777777778,
              "#fb9f3a"
             ],
             [
              0.8888888888888888,
              "#fdca26"
             ],
             [
              1,
              "#f0f921"
             ]
            ],
            "type": "histogram2d"
           }
          ],
          "histogram2dcontour": [
           {
            "colorbar": {
             "outlinewidth": 0,
             "ticks": ""
            },
            "colorscale": [
             [
              0,
              "#0d0887"
             ],
             [
              0.1111111111111111,
              "#46039f"
             ],
             [
              0.2222222222222222,
              "#7201a8"
             ],
             [
              0.3333333333333333,
              "#9c179e"
             ],
             [
              0.4444444444444444,
              "#bd3786"
             ],
             [
              0.5555555555555556,
              "#d8576b"
             ],
             [
              0.6666666666666666,
              "#ed7953"
             ],
             [
              0.7777777777777778,
              "#fb9f3a"
             ],
             [
              0.8888888888888888,
              "#fdca26"
             ],
             [
              1,
              "#f0f921"
             ]
            ],
            "type": "histogram2dcontour"
           }
          ],
          "mesh3d": [
           {
            "colorbar": {
             "outlinewidth": 0,
             "ticks": ""
            },
            "type": "mesh3d"
           }
          ],
          "parcoords": [
           {
            "line": {
             "colorbar": {
              "outlinewidth": 0,
              "ticks": ""
             }
            },
            "type": "parcoords"
           }
          ],
          "pie": [
           {
            "automargin": true,
            "type": "pie"
           }
          ],
          "scatter": [
           {
            "marker": {
             "colorbar": {
              "outlinewidth": 0,
              "ticks": ""
             }
            },
            "type": "scatter"
           }
          ],
          "scatter3d": [
           {
            "line": {
             "colorbar": {
              "outlinewidth": 0,
              "ticks": ""
             }
            },
            "marker": {
             "colorbar": {
              "outlinewidth": 0,
              "ticks": ""
             }
            },
            "type": "scatter3d"
           }
          ],
          "scattercarpet": [
           {
            "marker": {
             "colorbar": {
              "outlinewidth": 0,
              "ticks": ""
             }
            },
            "type": "scattercarpet"
           }
          ],
          "scattergeo": [
           {
            "marker": {
             "colorbar": {
              "outlinewidth": 0,
              "ticks": ""
             }
            },
            "type": "scattergeo"
           }
          ],
          "scattergl": [
           {
            "marker": {
             "colorbar": {
              "outlinewidth": 0,
              "ticks": ""
             }
            },
            "type": "scattergl"
           }
          ],
          "scattermapbox": [
           {
            "marker": {
             "colorbar": {
              "outlinewidth": 0,
              "ticks": ""
             }
            },
            "type": "scattermapbox"
           }
          ],
          "scatterpolar": [
           {
            "marker": {
             "colorbar": {
              "outlinewidth": 0,
              "ticks": ""
             }
            },
            "type": "scatterpolar"
           }
          ],
          "scatterpolargl": [
           {
            "marker": {
             "colorbar": {
              "outlinewidth": 0,
              "ticks": ""
             }
            },
            "type": "scatterpolargl"
           }
          ],
          "scatterternary": [
           {
            "marker": {
             "colorbar": {
              "outlinewidth": 0,
              "ticks": ""
             }
            },
            "type": "scatterternary"
           }
          ],
          "surface": [
           {
            "colorbar": {
             "outlinewidth": 0,
             "ticks": ""
            },
            "colorscale": [
             [
              0,
              "#0d0887"
             ],
             [
              0.1111111111111111,
              "#46039f"
             ],
             [
              0.2222222222222222,
              "#7201a8"
             ],
             [
              0.3333333333333333,
              "#9c179e"
             ],
             [
              0.4444444444444444,
              "#bd3786"
             ],
             [
              0.5555555555555556,
              "#d8576b"
             ],
             [
              0.6666666666666666,
              "#ed7953"
             ],
             [
              0.7777777777777778,
              "#fb9f3a"
             ],
             [
              0.8888888888888888,
              "#fdca26"
             ],
             [
              1,
              "#f0f921"
             ]
            ],
            "type": "surface"
           }
          ],
          "table": [
           {
            "cells": {
             "fill": {
              "color": "#EBF0F8"
             },
             "line": {
              "color": "white"
             }
            },
            "header": {
             "fill": {
              "color": "#C8D4E3"
             },
             "line": {
              "color": "white"
             }
            },
            "type": "table"
           }
          ]
         },
         "layout": {
          "annotationdefaults": {
           "arrowcolor": "#2a3f5f",
           "arrowhead": 0,
           "arrowwidth": 1
          },
          "autotypenumbers": "strict",
          "coloraxis": {
           "colorbar": {
            "outlinewidth": 0,
            "ticks": ""
           }
          },
          "colorscale": {
           "diverging": [
            [
             0,
             "#8e0152"
            ],
            [
             0.1,
             "#c51b7d"
            ],
            [
             0.2,
             "#de77ae"
            ],
            [
             0.3,
             "#f1b6da"
            ],
            [
             0.4,
             "#fde0ef"
            ],
            [
             0.5,
             "#f7f7f7"
            ],
            [
             0.6,
             "#e6f5d0"
            ],
            [
             0.7,
             "#b8e186"
            ],
            [
             0.8,
             "#7fbc41"
            ],
            [
             0.9,
             "#4d9221"
            ],
            [
             1,
             "#276419"
            ]
           ],
           "sequential": [
            [
             0,
             "#0d0887"
            ],
            [
             0.1111111111111111,
             "#46039f"
            ],
            [
             0.2222222222222222,
             "#7201a8"
            ],
            [
             0.3333333333333333,
             "#9c179e"
            ],
            [
             0.4444444444444444,
             "#bd3786"
            ],
            [
             0.5555555555555556,
             "#d8576b"
            ],
            [
             0.6666666666666666,
             "#ed7953"
            ],
            [
             0.7777777777777778,
             "#fb9f3a"
            ],
            [
             0.8888888888888888,
             "#fdca26"
            ],
            [
             1,
             "#f0f921"
            ]
           ],
           "sequentialminus": [
            [
             0,
             "#0d0887"
            ],
            [
             0.1111111111111111,
             "#46039f"
            ],
            [
             0.2222222222222222,
             "#7201a8"
            ],
            [
             0.3333333333333333,
             "#9c179e"
            ],
            [
             0.4444444444444444,
             "#bd3786"
            ],
            [
             0.5555555555555556,
             "#d8576b"
            ],
            [
             0.6666666666666666,
             "#ed7953"
            ],
            [
             0.7777777777777778,
             "#fb9f3a"
            ],
            [
             0.8888888888888888,
             "#fdca26"
            ],
            [
             1,
             "#f0f921"
            ]
           ]
          },
          "colorway": [
           "#636efa",
           "#EF553B",
           "#00cc96",
           "#ab63fa",
           "#FFA15A",
           "#19d3f3",
           "#FF6692",
           "#B6E880",
           "#FF97FF",
           "#FECB52"
          ],
          "font": {
           "color": "#2a3f5f"
          },
          "geo": {
           "bgcolor": "white",
           "lakecolor": "white",
           "landcolor": "#E5ECF6",
           "showlakes": true,
           "showland": true,
           "subunitcolor": "white"
          },
          "hoverlabel": {
           "align": "left"
          },
          "hovermode": "closest",
          "mapbox": {
           "style": "light"
          },
          "paper_bgcolor": "white",
          "plot_bgcolor": "#E5ECF6",
          "polar": {
           "angularaxis": {
            "gridcolor": "white",
            "linecolor": "white",
            "ticks": ""
           },
           "bgcolor": "#E5ECF6",
           "radialaxis": {
            "gridcolor": "white",
            "linecolor": "white",
            "ticks": ""
           }
          },
          "scene": {
           "xaxis": {
            "backgroundcolor": "#E5ECF6",
            "gridcolor": "white",
            "gridwidth": 2,
            "linecolor": "white",
            "showbackground": true,
            "ticks": "",
            "zerolinecolor": "white"
           },
           "yaxis": {
            "backgroundcolor": "#E5ECF6",
            "gridcolor": "white",
            "gridwidth": 2,
            "linecolor": "white",
            "showbackground": true,
            "ticks": "",
            "zerolinecolor": "white"
           },
           "zaxis": {
            "backgroundcolor": "#E5ECF6",
            "gridcolor": "white",
            "gridwidth": 2,
            "linecolor": "white",
            "showbackground": true,
            "ticks": "",
            "zerolinecolor": "white"
           }
          },
          "shapedefaults": {
           "line": {
            "color": "#2a3f5f"
           }
          },
          "ternary": {
           "aaxis": {
            "gridcolor": "white",
            "linecolor": "white",
            "ticks": ""
           },
           "baxis": {
            "gridcolor": "white",
            "linecolor": "white",
            "ticks": ""
           },
           "bgcolor": "#E5ECF6",
           "caxis": {
            "gridcolor": "white",
            "linecolor": "white",
            "ticks": ""
           }
          },
          "title": {
           "x": 0.05
          },
          "xaxis": {
           "automargin": true,
           "gridcolor": "white",
           "linecolor": "white",
           "ticks": "",
           "title": {
            "standoff": 15
           },
           "zerolinecolor": "white",
           "zerolinewidth": 2
          },
          "yaxis": {
           "automargin": true,
           "gridcolor": "white",
           "linecolor": "white",
           "ticks": "",
           "title": {
            "standoff": 15
           },
           "zerolinecolor": "white",
           "zerolinewidth": 2
          }
         }
        },
        "yaxis": {
         "visible": false
        }
       }
      }
     },
     "metadata": {},
     "output_type": "display_data"
    },
    {
     "data": {
      "text/plain": [
       "0.5379381229554602"
      ]
     },
     "execution_count": 50,
     "metadata": {},
     "output_type": "execute_result"
    }
   ],
   "source": [
    "HVCS_cost_pro,HVCS_cost_pro_negative  = cal_norm(df_HVCS_cost['구축 비용'].mean(),\n",
    "                                                 df_HVCS_cost['구축 비용'].std(),\n",
    "                                                 df_HVCS_cost['구축 비용'].min(),\n",
    "                                                 df_HVCS_cost['구축 비용'].max(),\n",
    "                                                 HVCS_cost_standard,\n",
    "                                                 True)\n",
    "HVCS_cost_pro"
   ]
  },
  {
   "cell_type": "markdown",
   "metadata": {},
   "source": [
    "### 평균소득"
   ]
  },
  {
   "cell_type": "code",
   "execution_count": 51,
   "metadata": {},
   "outputs": [
    {
     "data": {
      "text/html": [
       "<div>\n",
       "<style scoped>\n",
       "    .dataframe tbody tr th:only-of-type {\n",
       "        vertical-align: middle;\n",
       "    }\n",
       "\n",
       "    .dataframe tbody tr th {\n",
       "        vertical-align: top;\n",
       "    }\n",
       "\n",
       "    .dataframe thead th {\n",
       "        text-align: right;\n",
       "    }\n",
       "</style>\n",
       "<table border=\"1\" class=\"dataframe\">\n",
       "  <thead>\n",
       "    <tr style=\"text-align: right;\">\n",
       "      <th></th>\n",
       "      <th>행정구</th>\n",
       "      <th>행정동</th>\n",
       "      <th>가구당인구수</th>\n",
       "      <th>평균소득금액(만)</th>\n",
       "    </tr>\n",
       "  </thead>\n",
       "  <tbody>\n",
       "    <tr>\n",
       "      <th>0</th>\n",
       "      <td>강서구</td>\n",
       "      <td>가덕도동</td>\n",
       "      <td>2.00</td>\n",
       "      <td>2414.330000</td>\n",
       "    </tr>\n",
       "    <tr>\n",
       "      <th>1</th>\n",
       "      <td>강서구</td>\n",
       "      <td>가락동</td>\n",
       "      <td>1.77</td>\n",
       "      <td>1765.034000</td>\n",
       "    </tr>\n",
       "    <tr>\n",
       "      <th>2</th>\n",
       "      <td>강서구</td>\n",
       "      <td>강동동</td>\n",
       "      <td>1.99</td>\n",
       "      <td>2650.385000</td>\n",
       "    </tr>\n",
       "    <tr>\n",
       "      <th>3</th>\n",
       "      <td>강서구</td>\n",
       "      <td>녹산동</td>\n",
       "      <td>1.94</td>\n",
       "      <td>2143.833333</td>\n",
       "    </tr>\n",
       "    <tr>\n",
       "      <th>4</th>\n",
       "      <td>강서구</td>\n",
       "      <td>대저1동</td>\n",
       "      <td>1.91</td>\n",
       "      <td>3128.142500</td>\n",
       "    </tr>\n",
       "    <tr>\n",
       "      <th>...</th>\n",
       "      <td>...</td>\n",
       "      <td>...</td>\n",
       "      <td>...</td>\n",
       "      <td>...</td>\n",
       "    </tr>\n",
       "    <tr>\n",
       "      <th>200</th>\n",
       "      <td>해운대구</td>\n",
       "      <td>좌2동</td>\n",
       "      <td>2.37</td>\n",
       "      <td>3611.697857</td>\n",
       "    </tr>\n",
       "    <tr>\n",
       "      <th>201</th>\n",
       "      <td>해운대구</td>\n",
       "      <td>좌3동</td>\n",
       "      <td>2.35</td>\n",
       "      <td>3054.358462</td>\n",
       "    </tr>\n",
       "    <tr>\n",
       "      <th>202</th>\n",
       "      <td>해운대구</td>\n",
       "      <td>좌4동</td>\n",
       "      <td>2.49</td>\n",
       "      <td>3271.529231</td>\n",
       "    </tr>\n",
       "    <tr>\n",
       "      <th>203</th>\n",
       "      <td>해운대구</td>\n",
       "      <td>중1동</td>\n",
       "      <td>2.69</td>\n",
       "      <td>4010.241000</td>\n",
       "    </tr>\n",
       "    <tr>\n",
       "      <th>204</th>\n",
       "      <td>해운대구</td>\n",
       "      <td>중2동</td>\n",
       "      <td>2.25</td>\n",
       "      <td>3184.035455</td>\n",
       "    </tr>\n",
       "  </tbody>\n",
       "</table>\n",
       "<p>205 rows × 4 columns</p>\n",
       "</div>"
      ],
      "text/plain": [
       "      행정구   행정동  가구당인구수    평균소득금액(만)\n",
       "0     강서구  가덕도동    2.00  2414.330000\n",
       "1     강서구   가락동    1.77  1765.034000\n",
       "2     강서구   강동동    1.99  2650.385000\n",
       "3     강서구   녹산동    1.94  2143.833333\n",
       "4     강서구  대저1동    1.91  3128.142500\n",
       "..    ...   ...     ...          ...\n",
       "200  해운대구   좌2동    2.37  3611.697857\n",
       "201  해운대구   좌3동    2.35  3054.358462\n",
       "202  해운대구   좌4동    2.49  3271.529231\n",
       "203  해운대구   중1동    2.69  4010.241000\n",
       "204  해운대구   중2동    2.25  3184.035455\n",
       "\n",
       "[205 rows x 4 columns]"
      ]
     },
     "execution_count": 51,
     "metadata": {},
     "output_type": "execute_result"
    }
   ],
   "source": [
    "income_file_path = 'C:\\\\Users\\\\SAMSUNG\\\\Desktop\\\\Green-Car-Charging-Station-Site-Selection\\\\Data\\\\부산 평균소득.csv'\n",
    "df_income = pd.read_csv(income_file_path,encoding='cp949')\n",
    "df_income"
   ]
  },
  {
   "cell_type": "code",
   "execution_count": 52,
   "metadata": {},
   "outputs": [],
   "source": [
    "# gu = []\n",
    "# dong = []\n",
    "# for i in range(df_income.shape[0]):\n",
    "#     text = df_income.iloc[i]['행정동']\n",
    "#     strings = text.split()\n",
    "#     gu.append(strings[1])\n",
    "#     dong.append(strings[2])"
   ]
  },
  {
   "cell_type": "code",
   "execution_count": 53,
   "metadata": {},
   "outputs": [],
   "source": [
    "# df_income.drop(columns='행정동',inplace=True)\n",
    "# df_income.insert(0,'행정구',gu)\n",
    "# df_income.insert(1,'행정동',dong)\n",
    "# df_income.to_csv(income_file_path,encoding='cp949',index=False)"
   ]
  },
  {
   "cell_type": "code",
   "execution_count": 54,
   "metadata": {},
   "outputs": [
    {
     "data": {
      "application/vnd.plotly.v1+json": {
       "config": {
        "plotlyServerURL": "https://plot.ly"
       },
       "data": [
        {
         "fill": "tozeroy",
         "line": {
          "color": "rgb(239,85,59)"
         },
         "name": "부적합",
         "type": "scatter",
         "x": [
          999.7211389932572,
          1025.9865820337293,
          1052.2520250742016,
          1078.5174681146736,
          1104.782911155146,
          1131.048354195618,
          1157.31379723609,
          1183.5792402765624,
          1209.8446833170344,
          1236.1101263575065,
          1262.3755693979788,
          1288.6410124384508,
          1314.906455478923,
          1341.1718985193952,
          1367.4373415598673,
          1393.7027846003393,
          1419.9682276408116,
          1446.233670681284,
          1472.499113721756,
          1498.764556762228,
          1525.0299998027003,
          1551.2954428431724,
          1577.5608858836445,
          1603.8263289241168,
          1630.0917719645888,
          1656.3572150050609,
          1682.6226580455332,
          1708.8881010860052,
          1735.1535441264773,
          1761.4189871669496,
          1787.6844302074217,
          1813.9498732478937,
          1840.215316288366,
          1866.4807593288383,
          1892.7462023693104,
          1919.0116454097824,
          1945.2770884502547,
          1971.5425314907268,
          1997.8079745311989,
          2024.0734175716711,
          2050.3388606121434,
          2076.6043036526153,
          2102.8697466930876,
          2129.13518973356,
          2155.4006327740317,
          2181.666075814504,
          2207.9315188549763,
          2234.196961895448,
          2260.4624049359204,
          2286.7278479763927,
          2312.9932910168645,
          2339.258734057337,
          2365.524177097809,
          2391.789620138281,
          2418.0550631787532,
          2444.3205062192255,
          2470.5859492596974,
          2496.8513923001697,
          2523.116835340642,
          2549.382278381114,
          2575.647721421586,
          2601.9131644620584,
          2628.17860750253,
          2654.444050543003,
          2680.709493583475,
          2706.9749366239466,
          2733.2403796644194,
          2759.505822704891,
          2785.7712657453635,
          2812.036708785836,
          2838.3021518263076,
          2864.56759486678,
          2890.833037907252,
          2917.098480947724,
          2943.3639239881963,
          2969.6293670286686,
          2995.8948100691405,
          3022.1602531096128,
          3048.425696150085,
          3074.691139190557,
          3100.956582231029,
          3127.2220252715015,
          3153.4874683119733,
          3179.7529113524456,
          3206.018354392918,
          3232.2837974333897,
          3258.549240473862,
          3284.8146835143343,
          3311.080126554806,
          3337.3455695952784,
          3363.6110126357507,
          3389.876455676223,
          3416.141898716695,
          3442.407341757167,
          3468.6727847976395,
          3494.9382278381113,
          3521.2036708785836,
          3547.469113919056,
          3573.7345569595277,
          3600
         ],
         "y": [
          0.000014431465306125227,
          0.000015837866738354822,
          0.00001736020651153544,
          0.00001900575110847199,
          0.000020781990215206387,
          0.00002269661977782645,
          0.000024757522154797502,
          0.00002697274324479896,
          0.000029350466485797437,
          0.00003189898363934384,
          0.000034626662294867335,
          0.0000375419100520446,
          0.00004065313536510444,
          0.000043968705061110864,
          0.000047496898574735765,
          0.00005124585897463489,
          0.00005522354089108211,
          0.000059437655490765854,
          0.00006389561268233503,
          0.00006860446077508461,
          0.00007357082385273784,
          0.00007880083716423261,
          0.00008430008087331744,
          0.00009007351254816213,
          0.00009612539881060237,
          0.00010245924660156349,
          0.0001090777345541213,
          0.00011598264499802843,
          0.00012317479714882152,
          0.000130653982060293,
          0.00013841889994063803,
          0.00014646710044946505,
          0.00015479492660459924,
          0.00016339746293377947,
          0.0001722684885065317,
          0.00018140043547535138,
          0.0001907843537425458,
          0.00020040988234944665,
          0.00021026522815804913,
          0.0002203371523613802,
          0.00023061096531806923,
          0.00024107053015876725,
          0.0002516982755574362,
          0.0002624752179993757,
          0.00027338099381057034,
          0.00028439390113995955,
          0.00029549095200815105,
          0.00030664793445354553,
          0.0003178394847205528,
          0.0003290391693453651,
          0.00034021957690349823,
          0.00035135241909093864,
          0.00036240864071823665,
          0.0003733585381052999,
          0.0003841718852749894,
          0.0003948180672569795,
          0.0004052662197307844,
          0.00041548537415937676,
          0.000425444607493484,
          0.00043511319546238276,
          0.0004444607684107241,
          0.000453457468593453,
          0.00046207410780296955,
          0.00047028232417495373,
          0.00047805473700227757,
          0.000485365098380577,
          0.0004921884405146071,
          0.00049850121753164,
          0.0005042814406768775,
          0.0005095088058059933,
          0.0005141648121412613,
          0.0005182328713198006,
          0.0005216984058347674,
          0.0005245489360521379,
          0.0005267741550762666,
          0.0005283659908357412,
          0.0005293186548661762,
          0.0005296286773773762,
          0.0005292949283075717,
          0.0005283186241859444,
          0.0005267033207451215,
          0.0005244548913464202,
          0.0005215814914010373,
          0.0005180935090887948,
          0.0005140035027911846,
          0.0005093261257660508,
          0.0005040780386961419,
          0.0004982778108418311,
          0.000491945810618536,
          0.000485104086500848,
          0.00047777623922731245,
          0.0004699872863414919,
          0.0004617635201558759,
          0.00045313236026492875,
          0.0004441222017618569,
          0.0004347622603303759,
          0.000425082415387894,
          0.00041511305245025984,
          0.00040488490587081043,
          0.00039442890307835884
         ]
        },
        {
         "fill": "tozeroy",
         "line": {
          "color": "rgb(100,110,250)"
         },
         "name": "적합",
         "type": "scatter",
         "x": [
          3600,
          3614.8115151515153,
          3629.62303030303,
          3644.4345454545455,
          3659.2460606060604,
          3674.0575757575757,
          3688.869090909091,
          3703.680606060606,
          3718.492121212121,
          3733.3036363636365,
          3748.1151515151514,
          3762.9266666666667,
          3777.738181818182,
          3792.549696969697,
          3807.3612121212122,
          3822.172727272727,
          3836.9842424242424,
          3851.7957575757578,
          3866.6072727272726,
          3881.418787878788,
          3896.230303030303,
          3911.041818181818,
          3925.8533333333335,
          3940.6648484848483,
          3955.4763636363637,
          3970.287878787879,
          3985.099393939394,
          3999.910909090909,
          4014.7224242424245,
          4029.5339393939394,
          4044.3454545454547,
          4059.1569696969696,
          4073.968484848485,
          4088.78,
          4103.5915151515155,
          4118.40303030303,
          4133.214545454545,
          4148.02606060606,
          4162.837575757576,
          4177.649090909091,
          4192.460606060606,
          4207.272121212121,
          4222.083636363636,
          4236.895151515151,
          4251.706666666667,
          4266.518181818182,
          4281.329696969697,
          4296.141212121212,
          4310.952727272727,
          4325.764242424242,
          4340.575757575758,
          4355.387272727273,
          4370.198787878788,
          4385.0103030303035,
          4399.821818181818,
          4414.633333333333,
          4429.444848484849,
          4444.256363636364,
          4459.067878787879,
          4473.8793939393945,
          4488.690909090909,
          4503.502424242424,
          4518.313939393939,
          4533.125454545455,
          4547.93696969697,
          4562.748484848485,
          4577.56,
          4592.371515151515,
          4607.18303030303,
          4621.994545454545,
          4636.806060606061,
          4651.617575757576,
          4666.4290909090905,
          4681.240606060606,
          4696.052121212121,
          4710.863636363636,
          4725.675151515152,
          4740.486666666667,
          4755.298181818182,
          4770.109696969697,
          4784.921212121212,
          4799.732727272727,
          4814.544242424243,
          4829.355757575758,
          4844.167272727273,
          4858.978787878788,
          4873.790303030303,
          4888.601818181818,
          4903.413333333334,
          4918.224848484849,
          4933.036363636364,
          4947.847878787879,
          4962.659393939394,
          4977.470909090909,
          4992.282424242425,
          5007.09393939394,
          5021.905454545455,
          5036.7169696969695,
          5051.528484848484,
          5066.34
         ],
         "y": [
          0.00039442890307835884,
          0.0003884437890713768,
          0.000382401608410942,
          0.00037630788398506607,
          0.00037016811103492695,
          0.00036398774916669035,
          0.0003577722145604396,
          0.00035152687239091283,
          0.0003452570294739408,
          0.0003389679271516426,
          0.0003326647344285617,
          0.00032635254137004425,
          0.00032003635277325396,
          0.00031372108212029276,
          0.00030741154582196277,
          0.00030111245775977044,
          0.0002948284241328119,
          0.0002885639386152464,
          0.00028232337782910347,
          0.000276110997136234,
          0.00026993092675228254,
          0.0002637871681846261,
          0.0002576835909953274,
          0.00025162392988924696,
          0.00024561178212659127,
          0.0002396506052583241,
          0.00023374371518203633,
          0.00022789428451507494,
          0.0002221053412809603,
          0.00021637976790437656,
          0.00021072030050931837,
          0.000205129528514302,
          0.00019960989451790778,
          0.0001941636944673272,
          0.0001887930781020194,
          0.00018350004966406189,
          0.00017828646886629507,
          0.00017315405210891838,
          0.00016810437393479134,
          0.00016313886871333313,
          0.0001582588325425902,
          0.00015346542535876813,
          0.00014875967324228036,
          0.0001441424709091657,
          0.0001396145843765772,
          0.00013517665379091722,
          0.00013082919640711266,
          0.0001265726097074895,
          0.00012240717464868977,
          0.00011833305902510422,
          0.000114350320937363,
          0.00011045891235451505,
          0.00010665868275865359,
          0.00010294938286091023,
          0.00009933066837791593,
          0.00009580210385804224,
          0.00009236316654697757,
          0.0000890132502824489,
          0.00008575166940818086,
          0.00008257766269749437,
          0.00007949039727725914,
          0.0000764889725432553,
          0.00007357242405835383,
          0.0000707397274252862,
          0.00006798980212615422,
          0.0000653215153212125,
          0.00006273368559985595,
          0.00006022508667714032,
          0.00005779445102956906,
          0.00005544047346429116,
          0.000053161814616260645,
          0.00005095710436832034,
          0.00004882494518957889,
          0.0000467639153878591,
          0.0000447725722723948,
          0.00004284945522335064,
          0.000040993088665131917,
          0.00003920198494083296,
          0.000037474647085546794,
          0.00003580957149662836,
          0.00003420525049935562,
          0.00003266017480677822,
          0.00003117283587287968,
          0.000029741728138496975,
          0.000028365351169750783,
          0.000027042211689036596,
          0.00002577082549890677,
          0.000024549719299440955,
          0.000023377432399959032,
          0.00002225251832616633,
          0.000021173546324046947,
          0.000020139102762032168,
          0.0000191477924331647,
          0.000018198239759160626,
          0.00001728908989843833,
          0.000016419009760334542,
          0.000015586688927865242,
          0.00001479084049151456,
          0.000014030201796643051,
          0.000013303535107204911
         ]
        }
       ],
       "layout": {
        "annotations": [
         {
          "bordercolor": "rgb(239,85,59)",
          "borderwidth": 2,
          "font": {
           "color": "rgb(239,85,59)",
           "size": 15
          },
          "showarrow": false,
          "text": "0.775",
          "x": 3600,
          "xshift": -40,
          "y": 0.00039442890307835884,
          "yshift": -100
         },
         {
          "bordercolor": "rgb(100,110,250)",
          "borderwidth": 2,
          "font": {
           "color": "rgb(100,110,250)",
           "size": 15
          },
          "showarrow": false,
          "text": "0.225",
          "x": 3600,
          "xshift": 40,
          "y": 0.00039442890307835884,
          "yshift": -100
         }
        ],
        "template": {
         "data": {
          "bar": [
           {
            "error_x": {
             "color": "#2a3f5f"
            },
            "error_y": {
             "color": "#2a3f5f"
            },
            "marker": {
             "line": {
              "color": "#E5ECF6",
              "width": 0.5
             },
             "pattern": {
              "fillmode": "overlay",
              "size": 10,
              "solidity": 0.2
             }
            },
            "type": "bar"
           }
          ],
          "barpolar": [
           {
            "marker": {
             "line": {
              "color": "#E5ECF6",
              "width": 0.5
             },
             "pattern": {
              "fillmode": "overlay",
              "size": 10,
              "solidity": 0.2
             }
            },
            "type": "barpolar"
           }
          ],
          "carpet": [
           {
            "aaxis": {
             "endlinecolor": "#2a3f5f",
             "gridcolor": "white",
             "linecolor": "white",
             "minorgridcolor": "white",
             "startlinecolor": "#2a3f5f"
            },
            "baxis": {
             "endlinecolor": "#2a3f5f",
             "gridcolor": "white",
             "linecolor": "white",
             "minorgridcolor": "white",
             "startlinecolor": "#2a3f5f"
            },
            "type": "carpet"
           }
          ],
          "choropleth": [
           {
            "colorbar": {
             "outlinewidth": 0,
             "ticks": ""
            },
            "type": "choropleth"
           }
          ],
          "contour": [
           {
            "colorbar": {
             "outlinewidth": 0,
             "ticks": ""
            },
            "colorscale": [
             [
              0,
              "#0d0887"
             ],
             [
              0.1111111111111111,
              "#46039f"
             ],
             [
              0.2222222222222222,
              "#7201a8"
             ],
             [
              0.3333333333333333,
              "#9c179e"
             ],
             [
              0.4444444444444444,
              "#bd3786"
             ],
             [
              0.5555555555555556,
              "#d8576b"
             ],
             [
              0.6666666666666666,
              "#ed7953"
             ],
             [
              0.7777777777777778,
              "#fb9f3a"
             ],
             [
              0.8888888888888888,
              "#fdca26"
             ],
             [
              1,
              "#f0f921"
             ]
            ],
            "type": "contour"
           }
          ],
          "contourcarpet": [
           {
            "colorbar": {
             "outlinewidth": 0,
             "ticks": ""
            },
            "type": "contourcarpet"
           }
          ],
          "heatmap": [
           {
            "colorbar": {
             "outlinewidth": 0,
             "ticks": ""
            },
            "colorscale": [
             [
              0,
              "#0d0887"
             ],
             [
              0.1111111111111111,
              "#46039f"
             ],
             [
              0.2222222222222222,
              "#7201a8"
             ],
             [
              0.3333333333333333,
              "#9c179e"
             ],
             [
              0.4444444444444444,
              "#bd3786"
             ],
             [
              0.5555555555555556,
              "#d8576b"
             ],
             [
              0.6666666666666666,
              "#ed7953"
             ],
             [
              0.7777777777777778,
              "#fb9f3a"
             ],
             [
              0.8888888888888888,
              "#fdca26"
             ],
             [
              1,
              "#f0f921"
             ]
            ],
            "type": "heatmap"
           }
          ],
          "heatmapgl": [
           {
            "colorbar": {
             "outlinewidth": 0,
             "ticks": ""
            },
            "colorscale": [
             [
              0,
              "#0d0887"
             ],
             [
              0.1111111111111111,
              "#46039f"
             ],
             [
              0.2222222222222222,
              "#7201a8"
             ],
             [
              0.3333333333333333,
              "#9c179e"
             ],
             [
              0.4444444444444444,
              "#bd3786"
             ],
             [
              0.5555555555555556,
              "#d8576b"
             ],
             [
              0.6666666666666666,
              "#ed7953"
             ],
             [
              0.7777777777777778,
              "#fb9f3a"
             ],
             [
              0.8888888888888888,
              "#fdca26"
             ],
             [
              1,
              "#f0f921"
             ]
            ],
            "type": "heatmapgl"
           }
          ],
          "histogram": [
           {
            "marker": {
             "pattern": {
              "fillmode": "overlay",
              "size": 10,
              "solidity": 0.2
             }
            },
            "type": "histogram"
           }
          ],
          "histogram2d": [
           {
            "colorbar": {
             "outlinewidth": 0,
             "ticks": ""
            },
            "colorscale": [
             [
              0,
              "#0d0887"
             ],
             [
              0.1111111111111111,
              "#46039f"
             ],
             [
              0.2222222222222222,
              "#7201a8"
             ],
             [
              0.3333333333333333,
              "#9c179e"
             ],
             [
              0.4444444444444444,
              "#bd3786"
             ],
             [
              0.5555555555555556,
              "#d8576b"
             ],
             [
              0.6666666666666666,
              "#ed7953"
             ],
             [
              0.7777777777777778,
              "#fb9f3a"
             ],
             [
              0.8888888888888888,
              "#fdca26"
             ],
             [
              1,
              "#f0f921"
             ]
            ],
            "type": "histogram2d"
           }
          ],
          "histogram2dcontour": [
           {
            "colorbar": {
             "outlinewidth": 0,
             "ticks": ""
            },
            "colorscale": [
             [
              0,
              "#0d0887"
             ],
             [
              0.1111111111111111,
              "#46039f"
             ],
             [
              0.2222222222222222,
              "#7201a8"
             ],
             [
              0.3333333333333333,
              "#9c179e"
             ],
             [
              0.4444444444444444,
              "#bd3786"
             ],
             [
              0.5555555555555556,
              "#d8576b"
             ],
             [
              0.6666666666666666,
              "#ed7953"
             ],
             [
              0.7777777777777778,
              "#fb9f3a"
             ],
             [
              0.8888888888888888,
              "#fdca26"
             ],
             [
              1,
              "#f0f921"
             ]
            ],
            "type": "histogram2dcontour"
           }
          ],
          "mesh3d": [
           {
            "colorbar": {
             "outlinewidth": 0,
             "ticks": ""
            },
            "type": "mesh3d"
           }
          ],
          "parcoords": [
           {
            "line": {
             "colorbar": {
              "outlinewidth": 0,
              "ticks": ""
             }
            },
            "type": "parcoords"
           }
          ],
          "pie": [
           {
            "automargin": true,
            "type": "pie"
           }
          ],
          "scatter": [
           {
            "marker": {
             "colorbar": {
              "outlinewidth": 0,
              "ticks": ""
             }
            },
            "type": "scatter"
           }
          ],
          "scatter3d": [
           {
            "line": {
             "colorbar": {
              "outlinewidth": 0,
              "ticks": ""
             }
            },
            "marker": {
             "colorbar": {
              "outlinewidth": 0,
              "ticks": ""
             }
            },
            "type": "scatter3d"
           }
          ],
          "scattercarpet": [
           {
            "marker": {
             "colorbar": {
              "outlinewidth": 0,
              "ticks": ""
             }
            },
            "type": "scattercarpet"
           }
          ],
          "scattergeo": [
           {
            "marker": {
             "colorbar": {
              "outlinewidth": 0,
              "ticks": ""
             }
            },
            "type": "scattergeo"
           }
          ],
          "scattergl": [
           {
            "marker": {
             "colorbar": {
              "outlinewidth": 0,
              "ticks": ""
             }
            },
            "type": "scattergl"
           }
          ],
          "scattermapbox": [
           {
            "marker": {
             "colorbar": {
              "outlinewidth": 0,
              "ticks": ""
             }
            },
            "type": "scattermapbox"
           }
          ],
          "scatterpolar": [
           {
            "marker": {
             "colorbar": {
              "outlinewidth": 0,
              "ticks": ""
             }
            },
            "type": "scatterpolar"
           }
          ],
          "scatterpolargl": [
           {
            "marker": {
             "colorbar": {
              "outlinewidth": 0,
              "ticks": ""
             }
            },
            "type": "scatterpolargl"
           }
          ],
          "scatterternary": [
           {
            "marker": {
             "colorbar": {
              "outlinewidth": 0,
              "ticks": ""
             }
            },
            "type": "scatterternary"
           }
          ],
          "surface": [
           {
            "colorbar": {
             "outlinewidth": 0,
             "ticks": ""
            },
            "colorscale": [
             [
              0,
              "#0d0887"
             ],
             [
              0.1111111111111111,
              "#46039f"
             ],
             [
              0.2222222222222222,
              "#7201a8"
             ],
             [
              0.3333333333333333,
              "#9c179e"
             ],
             [
              0.4444444444444444,
              "#bd3786"
             ],
             [
              0.5555555555555556,
              "#d8576b"
             ],
             [
              0.6666666666666666,
              "#ed7953"
             ],
             [
              0.7777777777777778,
              "#fb9f3a"
             ],
             [
              0.8888888888888888,
              "#fdca26"
             ],
             [
              1,
              "#f0f921"
             ]
            ],
            "type": "surface"
           }
          ],
          "table": [
           {
            "cells": {
             "fill": {
              "color": "#EBF0F8"
             },
             "line": {
              "color": "white"
             }
            },
            "header": {
             "fill": {
              "color": "#C8D4E3"
             },
             "line": {
              "color": "white"
             }
            },
            "type": "table"
           }
          ]
         },
         "layout": {
          "annotationdefaults": {
           "arrowcolor": "#2a3f5f",
           "arrowhead": 0,
           "arrowwidth": 1
          },
          "autotypenumbers": "strict",
          "coloraxis": {
           "colorbar": {
            "outlinewidth": 0,
            "ticks": ""
           }
          },
          "colorscale": {
           "diverging": [
            [
             0,
             "#8e0152"
            ],
            [
             0.1,
             "#c51b7d"
            ],
            [
             0.2,
             "#de77ae"
            ],
            [
             0.3,
             "#f1b6da"
            ],
            [
             0.4,
             "#fde0ef"
            ],
            [
             0.5,
             "#f7f7f7"
            ],
            [
             0.6,
             "#e6f5d0"
            ],
            [
             0.7,
             "#b8e186"
            ],
            [
             0.8,
             "#7fbc41"
            ],
            [
             0.9,
             "#4d9221"
            ],
            [
             1,
             "#276419"
            ]
           ],
           "sequential": [
            [
             0,
             "#0d0887"
            ],
            [
             0.1111111111111111,
             "#46039f"
            ],
            [
             0.2222222222222222,
             "#7201a8"
            ],
            [
             0.3333333333333333,
             "#9c179e"
            ],
            [
             0.4444444444444444,
             "#bd3786"
            ],
            [
             0.5555555555555556,
             "#d8576b"
            ],
            [
             0.6666666666666666,
             "#ed7953"
            ],
            [
             0.7777777777777778,
             "#fb9f3a"
            ],
            [
             0.8888888888888888,
             "#fdca26"
            ],
            [
             1,
             "#f0f921"
            ]
           ],
           "sequentialminus": [
            [
             0,
             "#0d0887"
            ],
            [
             0.1111111111111111,
             "#46039f"
            ],
            [
             0.2222222222222222,
             "#7201a8"
            ],
            [
             0.3333333333333333,
             "#9c179e"
            ],
            [
             0.4444444444444444,
             "#bd3786"
            ],
            [
             0.5555555555555556,
             "#d8576b"
            ],
            [
             0.6666666666666666,
             "#ed7953"
            ],
            [
             0.7777777777777778,
             "#fb9f3a"
            ],
            [
             0.8888888888888888,
             "#fdca26"
            ],
            [
             1,
             "#f0f921"
            ]
           ]
          },
          "colorway": [
           "#636efa",
           "#EF553B",
           "#00cc96",
           "#ab63fa",
           "#FFA15A",
           "#19d3f3",
           "#FF6692",
           "#B6E880",
           "#FF97FF",
           "#FECB52"
          ],
          "font": {
           "color": "#2a3f5f"
          },
          "geo": {
           "bgcolor": "white",
           "lakecolor": "white",
           "landcolor": "#E5ECF6",
           "showlakes": true,
           "showland": true,
           "subunitcolor": "white"
          },
          "hoverlabel": {
           "align": "left"
          },
          "hovermode": "closest",
          "mapbox": {
           "style": "light"
          },
          "paper_bgcolor": "white",
          "plot_bgcolor": "#E5ECF6",
          "polar": {
           "angularaxis": {
            "gridcolor": "white",
            "linecolor": "white",
            "ticks": ""
           },
           "bgcolor": "#E5ECF6",
           "radialaxis": {
            "gridcolor": "white",
            "linecolor": "white",
            "ticks": ""
           }
          },
          "scene": {
           "xaxis": {
            "backgroundcolor": "#E5ECF6",
            "gridcolor": "white",
            "gridwidth": 2,
            "linecolor": "white",
            "showbackground": true,
            "ticks": "",
            "zerolinecolor": "white"
           },
           "yaxis": {
            "backgroundcolor": "#E5ECF6",
            "gridcolor": "white",
            "gridwidth": 2,
            "linecolor": "white",
            "showbackground": true,
            "ticks": "",
            "zerolinecolor": "white"
           },
           "zaxis": {
            "backgroundcolor": "#E5ECF6",
            "gridcolor": "white",
            "gridwidth": 2,
            "linecolor": "white",
            "showbackground": true,
            "ticks": "",
            "zerolinecolor": "white"
           }
          },
          "shapedefaults": {
           "line": {
            "color": "#2a3f5f"
           }
          },
          "ternary": {
           "aaxis": {
            "gridcolor": "white",
            "linecolor": "white",
            "ticks": ""
           },
           "baxis": {
            "gridcolor": "white",
            "linecolor": "white",
            "ticks": ""
           },
           "bgcolor": "#E5ECF6",
           "caxis": {
            "gridcolor": "white",
            "linecolor": "white",
            "ticks": ""
           }
          },
          "title": {
           "x": 0.05
          },
          "xaxis": {
           "automargin": true,
           "gridcolor": "white",
           "linecolor": "white",
           "ticks": "",
           "title": {
            "standoff": 15
           },
           "zerolinecolor": "white",
           "zerolinewidth": 2
          },
          "yaxis": {
           "automargin": true,
           "gridcolor": "white",
           "linecolor": "white",
           "ticks": "",
           "title": {
            "standoff": 15
           },
           "zerolinecolor": "white",
           "zerolinewidth": 2
          }
         }
        },
        "yaxis": {
         "visible": false
        }
       }
      }
     },
     "metadata": {},
     "output_type": "display_data"
    }
   ],
   "source": [
    "income_pro, income_pro_negative = cal_norm(df_income['평균소득금액(만)'].mean(),\n",
    "                                           df_income['평균소득금액(만)'].std(),\n",
    "                                           df_income['평균소득금액(만)'].min(),\n",
    "                                           df_income['평균소득금액(만)'].max(),\n",
    "                                           income_standard,\n",
    "                                           False)"
   ]
  },
  {
   "cell_type": "markdown",
   "metadata": {},
   "source": [
    "### 수소차충전소 기대수익"
   ]
  },
  {
   "cell_type": "markdown",
   "metadata": {},
   "source": [
    "#### 연간 유지비용"
   ]
  },
  {
   "cell_type": "markdown",
   "metadata": {},
   "source": [
    "연간 운영비는 약 3.25억원이 소요되며, 그 세부내역은 아래와 같다.\n",
    "\n",
    "- 인건비: 6,000만 원(인건비: 안전관리책임자 1인 4천만 원 + 충전원 1인 2천만 원)\n",
    "- 전기세 비용: 16,200만 원(칠러: 5 kWh/kg, 압축기: 3.3 kWh/kg 등) [10% 가동 시 1,620만 원, 50% 가동 시 8,100만 원]\n",
    "- 유지보수비: 3,000만 원(장비 수리비 및 노후장비 교체비용)\n",
    "- 고압가스 품질검사: 400만 원(100만 원 × 4회)\n",
    "- 연간 도로점용료: 500만 원(부지 공시지가의5% 가정, 10만 원/m2, 1,000 m2)\n",
    "- 카드수수료: 5,400만 원(3%, 10,000원/kg) [10% 가동 시 540만 원, 50% 가동 시 2,700만 원]\n",
    "- 기타: 1,000만 원(공과금, 교육훈련비, 물품구입비, 경비용역비 등)\n",
    "\n",
    "정부보조금을 제외한 본인 투자금 15억 원, 할인율 10%, 회수기간 15년을 가정하면, 연간수익 2\n",
    "억 원이 손익분기점이 된다. 수소충전소가 100%가동할 경우에는 판매마진 3,000원/kg으로 유지\n",
    "가능하며, 초기에 가동률이 10%로 낮을 경우에는판매마진이 3,000원/kg이라면 운영비 보조금을 연\n",
    "간 2.8억 원 지원하여야 적자를 면할 수 있다"
   ]
  },
  {
   "cell_type": "markdown",
   "metadata": {},
   "source": [
    "연간 기대수익 = 연간 판매수익 - 연간 유지비용"
   ]
  },
  {
   "cell_type": "code",
   "execution_count": 55,
   "metadata": {},
   "outputs": [],
   "source": [
    "def cal_maintenance_cost(station_type, operating_rate):\n",
    "    # 인건비\n",
    "    if station_type == '복합':\n",
    "        labor_cost = 40_000_000\n",
    "    else:\n",
    "        labor_cost = 60_000_000\n",
    "    # 전기세\n",
    "    # 가동률 1%당 162만원\n",
    "    elec_cost = operating_rate * 1_620_000\n",
    "    # 카드수수료\n",
    "    # 가동률 1%당 54만원\n",
    "    card_cost = operating_rate * 540_000 \n",
    "    # 기타(장비 교체비용, 품질검사비, 연간 도로점용료, 물품구입비, 공과금 등)\n",
    "    etc = 30_000_000 + 4_000_000 + 5_000_000 + 10_000_000\n",
    "    maintenance_cost = labor_cost + elec_cost + card_cost + etc\n",
    "\n",
    "    return maintenance_cost"
   ]
  },
  {
   "cell_type": "markdown",
   "metadata": {},
   "source": [
    "#### 연간 판매수익"
   ]
  },
  {
   "cell_type": "code",
   "execution_count": 56,
   "metadata": {},
   "outputs": [],
   "source": [
    "def cal_revenue(charge_time_average, sale_cost, maintenance_cost):\n",
    "    # 수소연료 평균 공급단가(1kg당)\n",
    "    hidrogen_cost = 6_000\n",
    "    # 수소연료 판매 마진(1kg당)\n",
    "    revenue_per_kg = sale_cost - hidrogen_cost\n",
    "    # 수소차 1회 평균 수소연료 충전량(kg)\n",
    "    charge_amount = 3.736 \n",
    "    # 일평균 판매수익\n",
    "    day_revenue = revenue_per_kg * charge_amount * charge_time_average \n",
    "    year_revenue = day_revenue * 365\n",
    "    # 수소연료구입비 보조금\n",
    "    grant = 0\n",
    "\n",
    "    # 수소연료구입비 보조금 지원금 반영\n",
    "    diff = year_revenue - maintenance_cost\n",
    "    \n",
    "    if diff < 0:\n",
    "        diff = -diff\n",
    "        # 기준단가\n",
    "        grant_cost_standard = sale_cost - (maintenance_cost / charge_amount * charge_time_average * 365)\n",
    "        # 지원단가 (수소연료공급단가에 기준단가와 차액의 70%)\n",
    "        grant_cost = (hidrogen_cost - grant_cost_standard) * 0.7\n",
    "        # 지원금액\n",
    "        grant = grant_cost * charge_amount * charge_time_average * 365\n",
    "        # 최대지원금액은 적자의 80%\n",
    "        if grant > diff * 0.8:\n",
    "            grant = diff * 0.8\n",
    "    # 연간수입 + 보조금\n",
    "    year_revenue = year_revenue + grant\n",
    "    # 연간수입에 유지보수비용을 뺀 순수익\n",
    "    diff = year_revenue - maintenance_cost    \n",
    "\n",
    "    return diff"
   ]
  },
  {
   "cell_type": "markdown",
   "metadata": {},
   "source": [
    "#### 연간 기대 수익"
   ]
  },
  {
   "cell_type": "code",
   "execution_count": 57,
   "metadata": {},
   "outputs": [
    {
     "data": {
      "text/plain": [
       "[-26229062.399999976, 50235520.00000003, -19967385.599999994]"
      ]
     },
     "execution_count": 57,
     "metadata": {},
     "output_type": "execute_result"
    }
   ],
   "source": [
    "revenue = []\n",
    "for i in range(df_HVCS.shape[0]):\n",
    "    maintenance_cost = cal_maintenance_cost(df_HVCS.iloc[i]['충전소 설치방식'],df_HVCS.iloc[i]['평균가동률'])\n",
    "    rev = cal_revenue(df_HVCS.iloc[i]['하루평균충전횟수'], df_HVCS.iloc[i]['충전가격'], maintenance_cost)\n",
    "    revenue.append(rev)\n",
    "revenue    "
   ]
  },
  {
   "cell_type": "code",
   "execution_count": 58,
   "metadata": {},
   "outputs": [
    {
     "data": {
      "text/html": [
       "<div>\n",
       "<style scoped>\n",
       "    .dataframe tbody tr th:only-of-type {\n",
       "        vertical-align: middle;\n",
       "    }\n",
       "\n",
       "    .dataframe tbody tr th {\n",
       "        vertical-align: top;\n",
       "    }\n",
       "\n",
       "    .dataframe thead th {\n",
       "        text-align: right;\n",
       "    }\n",
       "</style>\n",
       "<table border=\"1\" class=\"dataframe\">\n",
       "  <thead>\n",
       "    <tr style=\"text-align: right;\">\n",
       "      <th></th>\n",
       "      <th>충전소</th>\n",
       "      <th>충전기</th>\n",
       "      <th>시</th>\n",
       "      <th>구</th>\n",
       "      <th>주소</th>\n",
       "      <th>위도</th>\n",
       "      <th>경도</th>\n",
       "      <th>하루평균충전횟수</th>\n",
       "      <th>최대 충전 수소차수</th>\n",
       "      <th>공급방식</th>\n",
       "      <th>충전소 설치방식</th>\n",
       "      <th>압축기용량</th>\n",
       "      <th>충전기용량</th>\n",
       "      <th>충전압력</th>\n",
       "      <th>운영시간</th>\n",
       "      <th>평균가동률</th>\n",
       "      <th>충전가격</th>\n",
       "      <th>연간기대수익</th>\n",
       "    </tr>\n",
       "  </thead>\n",
       "  <tbody>\n",
       "    <tr>\n",
       "      <th>0</th>\n",
       "      <td>서부산NK수소충전소</td>\n",
       "      <td>1</td>\n",
       "      <td>부산광역시</td>\n",
       "      <td>강서구</td>\n",
       "      <td>부산광역시 강서구 가락대로 347</td>\n",
       "      <td>35.113171</td>\n",
       "      <td>128.843291</td>\n",
       "      <td>14</td>\n",
       "      <td>67</td>\n",
       "      <td>튜브트레일러</td>\n",
       "      <td>단독</td>\n",
       "      <td>302.63</td>\n",
       "      <td>33.4</td>\n",
       "      <td>700</td>\n",
       "      <td>10</td>\n",
       "      <td>35.0</td>\n",
       "      <td>8800</td>\n",
       "      <td>-26229062.4</td>\n",
       "    </tr>\n",
       "    <tr>\n",
       "      <th>1</th>\n",
       "      <td>H부산수소충전소</td>\n",
       "      <td>3</td>\n",
       "      <td>부산광역시</td>\n",
       "      <td>사상구</td>\n",
       "      <td>부산광역시 사상구 학감대로 167</td>\n",
       "      <td>35.145864</td>\n",
       "      <td>128.987651</td>\n",
       "      <td>60</td>\n",
       "      <td>70</td>\n",
       "      <td>천연가스개질</td>\n",
       "      <td>복합</td>\n",
       "      <td>308.00</td>\n",
       "      <td>25.0</td>\n",
       "      <td>700</td>\n",
       "      <td>12</td>\n",
       "      <td>41.6</td>\n",
       "      <td>8800</td>\n",
       "      <td>50235520.0</td>\n",
       "    </tr>\n",
       "    <tr>\n",
       "      <th>2</th>\n",
       "      <td>하이넷부산정관수소충</td>\n",
       "      <td>1</td>\n",
       "      <td>부산광역시</td>\n",
       "      <td>기장군</td>\n",
       "      <td>부산광역시 기장군 정관읍 신정관로 187</td>\n",
       "      <td>35.328714</td>\n",
       "      <td>129.201710</td>\n",
       "      <td>16</td>\n",
       "      <td>60</td>\n",
       "      <td>천연가스개질</td>\n",
       "      <td>복합</td>\n",
       "      <td>NaN</td>\n",
       "      <td>25.0</td>\n",
       "      <td>700</td>\n",
       "      <td>12</td>\n",
       "      <td>33.3</td>\n",
       "      <td>8800</td>\n",
       "      <td>-19967385.6</td>\n",
       "    </tr>\n",
       "  </tbody>\n",
       "</table>\n",
       "</div>"
      ],
      "text/plain": [
       "          충전소  충전기      시    구                       주소         위도  \\\n",
       "0  서부산NK수소충전소    1  부산광역시  강서구      부산광역시 강서구 가락대로 347   35.113171   \n",
       "1    H부산수소충전소    3  부산광역시  사상구      부산광역시 사상구 학감대로 167   35.145864   \n",
       "2  하이넷부산정관수소충    1  부산광역시  기장군  부산광역시 기장군 정관읍 신정관로 187   35.328714   \n",
       "\n",
       "           경도  하루평균충전횟수  최대 충전 수소차수    공급방식 충전소 설치방식   압축기용량  충전기용량  충전압력  \\\n",
       "0  128.843291        14          67  튜브트레일러       단독  302.63   33.4   700   \n",
       "1  128.987651        60          70  천연가스개질       복합  308.00   25.0   700   \n",
       "2  129.201710        16          60  천연가스개질       복합     NaN   25.0   700   \n",
       "\n",
       "   운영시간  평균가동률  충전가격      연간기대수익  \n",
       "0    10   35.0  8800 -26229062.4  \n",
       "1    12   41.6  8800  50235520.0  \n",
       "2    12   33.3  8800 -19967385.6  "
      ]
     },
     "execution_count": 58,
     "metadata": {},
     "output_type": "execute_result"
    }
   ],
   "source": [
    "df_HVCS.insert(17,'연간기대수익',revenue)\n",
    "df_HVCS"
   ]
  },
  {
   "cell_type": "code",
   "execution_count": 59,
   "metadata": {},
   "outputs": [
    {
     "data": {
      "text/plain": [
       "count    3.000000e+00\n",
       "mean     1.346357e+06\n",
       "std      4.245486e+07\n",
       "min     -2.622906e+07\n",
       "25%     -2.309822e+07\n",
       "50%     -1.996739e+07\n",
       "75%      1.513407e+07\n",
       "max      5.023552e+07\n",
       "Name: 연간기대수익, dtype: float64"
      ]
     },
     "execution_count": 59,
     "metadata": {},
     "output_type": "execute_result"
    }
   ],
   "source": [
    "df_HVCS['연간기대수익'].describe()"
   ]
  },
  {
   "cell_type": "code",
   "execution_count": 60,
   "metadata": {},
   "outputs": [
    {
     "data": {
      "application/vnd.plotly.v1+json": {
       "config": {
        "plotlyServerURL": "https://plot.ly"
       },
       "data": [
        {
         "fill": "tozeroy",
         "line": {
          "color": "rgb(239,85,59)"
         },
         "name": "부적합",
         "type": "scatter",
         "x": [
          -400000000,
          -395959595.959596,
          -391919191.9191919,
          -387878787.8787879,
          -383838383.83838385,
          -379797979.7979798,
          -375757575.75757575,
          -371717171.7171717,
          -367676767.6767677,
          -363636363.6363636,
          -359595959.5959596,
          -355555555.5555556,
          -351515151.5151515,
          -347474747.4747475,
          -343434343.43434346,
          -339393939.3939394,
          -335353535.35353535,
          -331313131.31313133,
          -327272727.27272725,
          -323232323.2323232,
          -319191919.1919192,
          -315151515.1515151,
          -311111111.1111111,
          -307070707.0707071,
          -303030303.030303,
          -298989898.989899,
          -294949494.94949496,
          -290909090.9090909,
          -286868686.86868685,
          -282828282.82828283,
          -278787878.78787875,
          -274747474.74747473,
          -270707070.7070707,
          -266666666.6666667,
          -262626262.62626263,
          -258585858.58585858,
          -254545454.54545456,
          -250505050.5050505,
          -246464646.46464646,
          -242424242.42424244,
          -238383838.3838384,
          -234343434.34343433,
          -230303030.3030303,
          -226262626.26262626,
          -222222222.2222222,
          -218181818.1818182,
          -214141414.14141414,
          -210101010.1010101,
          -206060606.06060606,
          -202020202.020202,
          -197979797.979798,
          -193939393.93939394,
          -189898989.89898992,
          -185858585.85858586,
          -181818181.8181818,
          -177777777.7777778,
          -173737373.73737374,
          -169696969.6969697,
          -165656565.65656567,
          -161616161.6161616,
          -157575757.57575756,
          -153535353.53535354,
          -149494949.4949495,
          -145454545.45454547,
          -141414141.41414142,
          -137373737.37373737,
          -133333333.33333334,
          -129292929.29292929,
          -125252525.25252527,
          -121212121.21212119,
          -117171717.17171717,
          -113131313.13131315,
          -109090909.09090912,
          -105050505.05050504,
          -101010101.01010102,
          -96969696.969697,
          -92929292.92929292,
          -88888888.8888889,
          -84848484.84848487,
          -80808080.80808079,
          -76767676.76767677,
          -72727272.72727275,
          -68686868.68686867,
          -64646464.646464646,
          -60606060.606060624,
          -56565656.56565654,
          -52525252.52525252,
          -48484848.4848485,
          -44444444.44444442,
          -40404040.404040396,
          -36363636.363636374,
          -32323232.323232353,
          -28282828.28282827,
          -24242424.24242425,
          -20202020.202020228,
          -16161616.161616147,
          -12121212.121212125,
          -8080808.080808103,
          -4040404.0404040217,
          0
         ],
         "y": [
          5.952532419775854e-11,
          6.687045984228753e-11,
          7.499941399854121e-11,
          8.397933873285059e-11,
          9.388107442780467e-11,
          1.0477910200130521e-10,
          1.167514580526084e-10,
          1.2987960944559387e-10,
          1.4424828392074678e-10,
          1.5994525346494222e-10,
          1.7706106736643918e-10,
          1.956887321453324e-10,
          2.159233358801746e-10,
          2.3786161485192506e-10,
          2.6160146089811295e-10,
          2.87241368413435e-10,
          3.1487982054703147e-10,
          3.44614614829165e-10,
          3.765421292073656e-10,
          4.1075653027922406e-10,
          4.473489263693329e-10,
          4.86406469003204e-10,
          5.28011407271749e-10,
          5.722401005448428e-10,
          6.191619959690646e-10,
          6.688385781589868e-10,
          7.213222994483178e-10,
          7.766554999906425e-10,
          8.34869327872699e-10,
          8.959826702086206e-10,
          9.600011069037221e-10,
          1.026915899393736e-9,
          1.0967030271626491e-9,
          1.1693222852030048e-9,
          1.2447164557915058e-9,
          1.3228105679959605e-9,
          1.4035112581950978e-9,
          1.486706244570677e-9,
          1.5722639280141722e-9,
          1.6600331311736835e-9,
          1.7498429864489625e-9,
          1.841502982625442e-9,
          1.9348031785270524e-9,
          2.029514590571194e-9,
          2.12538975943987e-9,
          2.2221634992545746e-9,
          2.3195538306784343e-9,
          2.417263097289965e-9,
          2.514979262404322e-9,
          2.6123773812884103e-9,
          2.709121241456428e-9,
          2.804865161474756e-9,
          2.899255936483568e-9,
          2.9919349164916036e-9,
          3.0825402014551046e-9,
          3.170708935246235e-9,
          3.2560796788836623e-9,
          3.3382948418697066e-9,
          3.4170031491839547e-9,
          3.4918621204481763e-9,
          3.5625405370248025e-9,
          3.6287208723593195e-9,
          3.6901016607398778e-9,
          3.7463997798344055e-9,
          3.797352622880551e-9,
          3.842720137245591e-9,
          3.882286707235469e-9,
          3.915862860502207e-9,
          3.943286779159938e-9,
          3.964425598749401e-9,
          3.97917648046202e-9,
          3.987467444516496e-9,
          3.989257955238333e-9,
          3.984539251187869e-9,
          3.973334416574804e-9,
          3.955698193144735e-9,
          3.9317165346826366e-9,
          3.901505909206271e-9,
          3.8652123567762405e-9,
          3.823010313587553e-9,
          3.775101215590455e-9,
          3.7217118972795123e-9,
          3.663092803456021e-9,
          3.5995160336806666e-9,
          3.5312732407658252e-9,
          3.4586734059902785e-9,
          3.3820405147381237e-9,
          3.3017111569589784e-9,
          3.218032077213816e-9,
          3.1313576991111137e-9,
          3.0420476486578336e-9,
          2.9504643004605364e-9,
          2.85697036982967e-9,
          2.761926572685284e-9,
          2.6656893737592236e-9,
          2.5686088419649507e-9,
          2.471026629991547e-9,
          2.37327409320571e-9,
          2.2756705608483683e-9,
          2.1785217703255054e-9
         ]
        },
        {
         "fill": "tozeroy",
         "line": {
          "color": "rgb(100,110,250)"
         },
         "name": "적합",
         "type": "scatter",
         "x": [
          0,
          1616161.616161616,
          3232323.232323232,
          4848484.848484848,
          6464646.464646464,
          8080808.080808081,
          9696969.696969695,
          11313131.313131312,
          12929292.929292928,
          14545454.545454545,
          16161616.161616161,
          17777777.777777776,
          19393939.39393939,
          21010101.01010101,
          22626262.626262624,
          24242424.242424242,
          25858585.858585857,
          27474747.47474747,
          29090909.09090909,
          30707070.707070705,
          32323232.323232323,
          33939393.93939394,
          35555555.55555555,
          37171717.17171717,
          38787878.78787878,
          40404040.4040404,
          42020202.02020202,
          43636363.63636363,
          45252525.25252525,
          46868686.86868686,
          48484848.484848484,
          50101010.1010101,
          51717171.71717171,
          53333333.33333333,
          54949494.94949494,
          56565656.565656565,
          58181818.18181818,
          59797979.797979794,
          61414141.41414141,
          63030303.030303024,
          64646464.646464646,
          66262626.26262626,
          67878787.87878788,
          69494949.49494949,
          71111111.1111111,
          72727272.72727272,
          74343434.34343433,
          75959595.95959595,
          77575757.57575756,
          79191919.1919192,
          80808080.8080808,
          82424242.42424242,
          84040404.04040404,
          85656565.65656565,
          87272727.27272727,
          88888888.88888888,
          90505050.5050505,
          92121212.12121211,
          93737373.73737372,
          95353535.35353535,
          96969696.96969697,
          98585858.58585858,
          100202020.2020202,
          101818181.81818181,
          103434343.43434343,
          105050505.05050504,
          106666666.66666666,
          108282828.28282827,
          109898989.89898989,
          111515151.5151515,
          113131313.13131313,
          114747474.74747474,
          116363636.36363636,
          117979797.97979797,
          119595959.59595959,
          121212121.2121212,
          122828282.82828282,
          124444444.44444443,
          126060606.06060605,
          127676767.67676766,
          129292929.29292929,
          130909090.9090909,
          132525252.52525252,
          134141414.14141414,
          135757575.75757575,
          137373737.37373737,
          138989898.98989898,
          140606060.6060606,
          142222222.2222222,
          143838383.83838382,
          145454545.45454544,
          147070707.07070705,
          148686868.68686867,
          150303030.30303028,
          151919191.9191919,
          153535353.5353535,
          155151515.15151513,
          156767676.76767677,
          158383838.3838384,
          160000000
         ],
         "y": [
          2.1785217703255054e-9,
          2.1398552425832065e-9,
          2.1013260725508946e-9,
          2.062951730698293e-9,
          2.0247492505098847e-9,
          1.9867352188344346e-9,
          1.9489257669897543e-9,
          1.911336562622514e-9,
          1.8739828023215947e-9,
          1.836879204982065e-9,
          1.8000400059156394e-9,
          1.7634789517021465e-9,
          1.7272092957753254e-9,
          1.691243794735085e-9,
          1.6555947053771723e-9,
          1.6202737824301205e-9,
          1.5852922769882474e-9,
          1.550660935628467e-9,
          1.5163900001976999e-9,
          1.4824892082567292e-9,
          1.4489677941654835e-9,
          1.4158344907938818e-9,
          1.3830975318416178e-9,
          1.3507646547495075e-9,
          1.3188431041843882e-9,
          1.287339636078886e-9,
          1.2562605222068507e-9,
          1.2256115552746979e-9,
          1.195398054508473e-9,
          1.1656248717160093e-9,
          1.1362963978032142e-9,
          1.1074165697232122e-9,
          1.0789888778368e-9,
          1.0510163736625021e-9,
          1.0235016779943071e-9,
          9.96446989365132e-10,
          9.698540928339257e-10,
          9.437243690743826e-10,
          9.180588037432327e-10,
          8.92857997106169e-10,
          8.681221738995892e-10,
          8.438511934065114e-10,
          8.200445597252031e-10,
          7.967014322093315e-10,
          7.738206360587068e-10,
          7.514006730400162e-10,
          7.294397323172878e-10,
          7.07935701372217e-10,
          6.868861769948822e-10,
          6.662884763258387e-10,
          6.461396479310169e-10,
          6.264364828913697e-10,
          6.071755258897129e-10,
          5.88353086277725e-10,
          5.699652491066591e-10,
          5.520078861058411e-10,
          5.344766665936692e-10,
          5.173670683063673e-10,
          5.006743881304169e-10,
          4.843937527251483e-10,
          4.685201290226607e-10,
          4.5304833459282456e-10,
          4.37973047861786e-10,
          4.2328881817303163e-10,
          4.0899007568070225e-10,
          3.9507114106550176e-10,
          3.815262350641798e-10,
          3.6834948780421213e-10,
          3.5553494793592607e-10,
          3.4307659155496046e-10,
          3.309683309085575e-10,
          3.192040228798133e-10,
          3.077774772445941e-10,
          2.9668246469644986e-10,
          2.859127246354084e-10,
          2.7546197271712984e-10,
          2.6532390815943366e-10,
          2.554922208037792e-10,
          2.4596059792978404e-10,
          2.367227308213988e-10,
          2.277723210838344e-10,
          2.1910308671083744e-10,
          2.107087679023562e-10,
          2.0258313263309386e-10,
          1.9471998197287458e-10,
          1.871131551601507e-10,
          1.7975653443037766e-10,
          1.7264404960135138e-10,
          1.6576968241796138e-10,
          1.591274706591404e-10,
          1.5271151201011645e-10,
          1.465159677033623e-10,
          1.4053506593192456e-10,
          1.34763105039064e-10,
          1.2919445648839032e-10,
          1.238235676188896e-10,
          1.1864496418945402e-10,
          1.1365325271770347e-10,
          1.0884312261806535e-10,
          1.0420934814422591e-10
         ]
        }
       ],
       "layout": {
        "annotations": [
         {
          "bordercolor": "rgb(239,85,59)",
          "borderwidth": 2,
          "font": {
           "color": "rgb(239,85,59)",
           "size": 15
          },
          "showarrow": false,
          "text": "0.862",
          "x": 0,
          "xshift": -40,
          "y": 2.1785217703255054e-9,
          "yshift": -100
         },
         {
          "bordercolor": "rgb(100,110,250)",
          "borderwidth": 2,
          "font": {
           "color": "rgb(100,110,250)",
           "size": 15
          },
          "showarrow": false,
          "text": "0.138",
          "x": 0,
          "xshift": 40,
          "y": 2.1785217703255054e-9,
          "yshift": -100
         }
        ],
        "template": {
         "data": {
          "bar": [
           {
            "error_x": {
             "color": "#2a3f5f"
            },
            "error_y": {
             "color": "#2a3f5f"
            },
            "marker": {
             "line": {
              "color": "#E5ECF6",
              "width": 0.5
             },
             "pattern": {
              "fillmode": "overlay",
              "size": 10,
              "solidity": 0.2
             }
            },
            "type": "bar"
           }
          ],
          "barpolar": [
           {
            "marker": {
             "line": {
              "color": "#E5ECF6",
              "width": 0.5
             },
             "pattern": {
              "fillmode": "overlay",
              "size": 10,
              "solidity": 0.2
             }
            },
            "type": "barpolar"
           }
          ],
          "carpet": [
           {
            "aaxis": {
             "endlinecolor": "#2a3f5f",
             "gridcolor": "white",
             "linecolor": "white",
             "minorgridcolor": "white",
             "startlinecolor": "#2a3f5f"
            },
            "baxis": {
             "endlinecolor": "#2a3f5f",
             "gridcolor": "white",
             "linecolor": "white",
             "minorgridcolor": "white",
             "startlinecolor": "#2a3f5f"
            },
            "type": "carpet"
           }
          ],
          "choropleth": [
           {
            "colorbar": {
             "outlinewidth": 0,
             "ticks": ""
            },
            "type": "choropleth"
           }
          ],
          "contour": [
           {
            "colorbar": {
             "outlinewidth": 0,
             "ticks": ""
            },
            "colorscale": [
             [
              0,
              "#0d0887"
             ],
             [
              0.1111111111111111,
              "#46039f"
             ],
             [
              0.2222222222222222,
              "#7201a8"
             ],
             [
              0.3333333333333333,
              "#9c179e"
             ],
             [
              0.4444444444444444,
              "#bd3786"
             ],
             [
              0.5555555555555556,
              "#d8576b"
             ],
             [
              0.6666666666666666,
              "#ed7953"
             ],
             [
              0.7777777777777778,
              "#fb9f3a"
             ],
             [
              0.8888888888888888,
              "#fdca26"
             ],
             [
              1,
              "#f0f921"
             ]
            ],
            "type": "contour"
           }
          ],
          "contourcarpet": [
           {
            "colorbar": {
             "outlinewidth": 0,
             "ticks": ""
            },
            "type": "contourcarpet"
           }
          ],
          "heatmap": [
           {
            "colorbar": {
             "outlinewidth": 0,
             "ticks": ""
            },
            "colorscale": [
             [
              0,
              "#0d0887"
             ],
             [
              0.1111111111111111,
              "#46039f"
             ],
             [
              0.2222222222222222,
              "#7201a8"
             ],
             [
              0.3333333333333333,
              "#9c179e"
             ],
             [
              0.4444444444444444,
              "#bd3786"
             ],
             [
              0.5555555555555556,
              "#d8576b"
             ],
             [
              0.6666666666666666,
              "#ed7953"
             ],
             [
              0.7777777777777778,
              "#fb9f3a"
             ],
             [
              0.8888888888888888,
              "#fdca26"
             ],
             [
              1,
              "#f0f921"
             ]
            ],
            "type": "heatmap"
           }
          ],
          "heatmapgl": [
           {
            "colorbar": {
             "outlinewidth": 0,
             "ticks": ""
            },
            "colorscale": [
             [
              0,
              "#0d0887"
             ],
             [
              0.1111111111111111,
              "#46039f"
             ],
             [
              0.2222222222222222,
              "#7201a8"
             ],
             [
              0.3333333333333333,
              "#9c179e"
             ],
             [
              0.4444444444444444,
              "#bd3786"
             ],
             [
              0.5555555555555556,
              "#d8576b"
             ],
             [
              0.6666666666666666,
              "#ed7953"
             ],
             [
              0.7777777777777778,
              "#fb9f3a"
             ],
             [
              0.8888888888888888,
              "#fdca26"
             ],
             [
              1,
              "#f0f921"
             ]
            ],
            "type": "heatmapgl"
           }
          ],
          "histogram": [
           {
            "marker": {
             "pattern": {
              "fillmode": "overlay",
              "size": 10,
              "solidity": 0.2
             }
            },
            "type": "histogram"
           }
          ],
          "histogram2d": [
           {
            "colorbar": {
             "outlinewidth": 0,
             "ticks": ""
            },
            "colorscale": [
             [
              0,
              "#0d0887"
             ],
             [
              0.1111111111111111,
              "#46039f"
             ],
             [
              0.2222222222222222,
              "#7201a8"
             ],
             [
              0.3333333333333333,
              "#9c179e"
             ],
             [
              0.4444444444444444,
              "#bd3786"
             ],
             [
              0.5555555555555556,
              "#d8576b"
             ],
             [
              0.6666666666666666,
              "#ed7953"
             ],
             [
              0.7777777777777778,
              "#fb9f3a"
             ],
             [
              0.8888888888888888,
              "#fdca26"
             ],
             [
              1,
              "#f0f921"
             ]
            ],
            "type": "histogram2d"
           }
          ],
          "histogram2dcontour": [
           {
            "colorbar": {
             "outlinewidth": 0,
             "ticks": ""
            },
            "colorscale": [
             [
              0,
              "#0d0887"
             ],
             [
              0.1111111111111111,
              "#46039f"
             ],
             [
              0.2222222222222222,
              "#7201a8"
             ],
             [
              0.3333333333333333,
              "#9c179e"
             ],
             [
              0.4444444444444444,
              "#bd3786"
             ],
             [
              0.5555555555555556,
              "#d8576b"
             ],
             [
              0.6666666666666666,
              "#ed7953"
             ],
             [
              0.7777777777777778,
              "#fb9f3a"
             ],
             [
              0.8888888888888888,
              "#fdca26"
             ],
             [
              1,
              "#f0f921"
             ]
            ],
            "type": "histogram2dcontour"
           }
          ],
          "mesh3d": [
           {
            "colorbar": {
             "outlinewidth": 0,
             "ticks": ""
            },
            "type": "mesh3d"
           }
          ],
          "parcoords": [
           {
            "line": {
             "colorbar": {
              "outlinewidth": 0,
              "ticks": ""
             }
            },
            "type": "parcoords"
           }
          ],
          "pie": [
           {
            "automargin": true,
            "type": "pie"
           }
          ],
          "scatter": [
           {
            "marker": {
             "colorbar": {
              "outlinewidth": 0,
              "ticks": ""
             }
            },
            "type": "scatter"
           }
          ],
          "scatter3d": [
           {
            "line": {
             "colorbar": {
              "outlinewidth": 0,
              "ticks": ""
             }
            },
            "marker": {
             "colorbar": {
              "outlinewidth": 0,
              "ticks": ""
             }
            },
            "type": "scatter3d"
           }
          ],
          "scattercarpet": [
           {
            "marker": {
             "colorbar": {
              "outlinewidth": 0,
              "ticks": ""
             }
            },
            "type": "scattercarpet"
           }
          ],
          "scattergeo": [
           {
            "marker": {
             "colorbar": {
              "outlinewidth": 0,
              "ticks": ""
             }
            },
            "type": "scattergeo"
           }
          ],
          "scattergl": [
           {
            "marker": {
             "colorbar": {
              "outlinewidth": 0,
              "ticks": ""
             }
            },
            "type": "scattergl"
           }
          ],
          "scattermapbox": [
           {
            "marker": {
             "colorbar": {
              "outlinewidth": 0,
              "ticks": ""
             }
            },
            "type": "scattermapbox"
           }
          ],
          "scatterpolar": [
           {
            "marker": {
             "colorbar": {
              "outlinewidth": 0,
              "ticks": ""
             }
            },
            "type": "scatterpolar"
           }
          ],
          "scatterpolargl": [
           {
            "marker": {
             "colorbar": {
              "outlinewidth": 0,
              "ticks": ""
             }
            },
            "type": "scatterpolargl"
           }
          ],
          "scatterternary": [
           {
            "marker": {
             "colorbar": {
              "outlinewidth": 0,
              "ticks": ""
             }
            },
            "type": "scatterternary"
           }
          ],
          "surface": [
           {
            "colorbar": {
             "outlinewidth": 0,
             "ticks": ""
            },
            "colorscale": [
             [
              0,
              "#0d0887"
             ],
             [
              0.1111111111111111,
              "#46039f"
             ],
             [
              0.2222222222222222,
              "#7201a8"
             ],
             [
              0.3333333333333333,
              "#9c179e"
             ],
             [
              0.4444444444444444,
              "#bd3786"
             ],
             [
              0.5555555555555556,
              "#d8576b"
             ],
             [
              0.6666666666666666,
              "#ed7953"
             ],
             [
              0.7777777777777778,
              "#fb9f3a"
             ],
             [
              0.8888888888888888,
              "#fdca26"
             ],
             [
              1,
              "#f0f921"
             ]
            ],
            "type": "surface"
           }
          ],
          "table": [
           {
            "cells": {
             "fill": {
              "color": "#EBF0F8"
             },
             "line": {
              "color": "white"
             }
            },
            "header": {
             "fill": {
              "color": "#C8D4E3"
             },
             "line": {
              "color": "white"
             }
            },
            "type": "table"
           }
          ]
         },
         "layout": {
          "annotationdefaults": {
           "arrowcolor": "#2a3f5f",
           "arrowhead": 0,
           "arrowwidth": 1
          },
          "autotypenumbers": "strict",
          "coloraxis": {
           "colorbar": {
            "outlinewidth": 0,
            "ticks": ""
           }
          },
          "colorscale": {
           "diverging": [
            [
             0,
             "#8e0152"
            ],
            [
             0.1,
             "#c51b7d"
            ],
            [
             0.2,
             "#de77ae"
            ],
            [
             0.3,
             "#f1b6da"
            ],
            [
             0.4,
             "#fde0ef"
            ],
            [
             0.5,
             "#f7f7f7"
            ],
            [
             0.6,
             "#e6f5d0"
            ],
            [
             0.7,
             "#b8e186"
            ],
            [
             0.8,
             "#7fbc41"
            ],
            [
             0.9,
             "#4d9221"
            ],
            [
             1,
             "#276419"
            ]
           ],
           "sequential": [
            [
             0,
             "#0d0887"
            ],
            [
             0.1111111111111111,
             "#46039f"
            ],
            [
             0.2222222222222222,
             "#7201a8"
            ],
            [
             0.3333333333333333,
             "#9c179e"
            ],
            [
             0.4444444444444444,
             "#bd3786"
            ],
            [
             0.5555555555555556,
             "#d8576b"
            ],
            [
             0.6666666666666666,
             "#ed7953"
            ],
            [
             0.7777777777777778,
             "#fb9f3a"
            ],
            [
             0.8888888888888888,
             "#fdca26"
            ],
            [
             1,
             "#f0f921"
            ]
           ],
           "sequentialminus": [
            [
             0,
             "#0d0887"
            ],
            [
             0.1111111111111111,
             "#46039f"
            ],
            [
             0.2222222222222222,
             "#7201a8"
            ],
            [
             0.3333333333333333,
             "#9c179e"
            ],
            [
             0.4444444444444444,
             "#bd3786"
            ],
            [
             0.5555555555555556,
             "#d8576b"
            ],
            [
             0.6666666666666666,
             "#ed7953"
            ],
            [
             0.7777777777777778,
             "#fb9f3a"
            ],
            [
             0.8888888888888888,
             "#fdca26"
            ],
            [
             1,
             "#f0f921"
            ]
           ]
          },
          "colorway": [
           "#636efa",
           "#EF553B",
           "#00cc96",
           "#ab63fa",
           "#FFA15A",
           "#19d3f3",
           "#FF6692",
           "#B6E880",
           "#FF97FF",
           "#FECB52"
          ],
          "font": {
           "color": "#2a3f5f"
          },
          "geo": {
           "bgcolor": "white",
           "lakecolor": "white",
           "landcolor": "#E5ECF6",
           "showlakes": true,
           "showland": true,
           "subunitcolor": "white"
          },
          "hoverlabel": {
           "align": "left"
          },
          "hovermode": "closest",
          "mapbox": {
           "style": "light"
          },
          "paper_bgcolor": "white",
          "plot_bgcolor": "#E5ECF6",
          "polar": {
           "angularaxis": {
            "gridcolor": "white",
            "linecolor": "white",
            "ticks": ""
           },
           "bgcolor": "#E5ECF6",
           "radialaxis": {
            "gridcolor": "white",
            "linecolor": "white",
            "ticks": ""
           }
          },
          "scene": {
           "xaxis": {
            "backgroundcolor": "#E5ECF6",
            "gridcolor": "white",
            "gridwidth": 2,
            "linecolor": "white",
            "showbackground": true,
            "ticks": "",
            "zerolinecolor": "white"
           },
           "yaxis": {
            "backgroundcolor": "#E5ECF6",
            "gridcolor": "white",
            "gridwidth": 2,
            "linecolor": "white",
            "showbackground": true,
            "ticks": "",
            "zerolinecolor": "white"
           },
           "zaxis": {
            "backgroundcolor": "#E5ECF6",
            "gridcolor": "white",
            "gridwidth": 2,
            "linecolor": "white",
            "showbackground": true,
            "ticks": "",
            "zerolinecolor": "white"
           }
          },
          "shapedefaults": {
           "line": {
            "color": "#2a3f5f"
           }
          },
          "ternary": {
           "aaxis": {
            "gridcolor": "white",
            "linecolor": "white",
            "ticks": ""
           },
           "baxis": {
            "gridcolor": "white",
            "linecolor": "white",
            "ticks": ""
           },
           "bgcolor": "#E5ECF6",
           "caxis": {
            "gridcolor": "white",
            "linecolor": "white",
            "ticks": ""
           }
          },
          "title": {
           "x": 0.05
          },
          "xaxis": {
           "automargin": true,
           "gridcolor": "white",
           "linecolor": "white",
           "ticks": "",
           "title": {
            "standoff": 15
           },
           "zerolinecolor": "white",
           "zerolinewidth": 2
          },
          "yaxis": {
           "automargin": true,
           "gridcolor": "white",
           "linecolor": "white",
           "ticks": "",
           "title": {
            "standoff": 15
           },
           "zerolinecolor": "white",
           "zerolinewidth": 2
          }
         }
        },
        "yaxis": {
         "visible": false
        }
       }
      }
     },
     "metadata": {},
     "output_type": "display_data"
    }
   ],
   "source": [
    "# 수소충전소 \n",
    "# 평균 수익: -110_000_000\n",
    "HVCS_income_pro, HVCS_income_pro_negative = cal_norm(-110_000_000,\n",
    "                                                     100_000_000,\n",
    "                                                     -300_000_000,\n",
    "                                                     160_000_000,\n",
    "                                                     HVCS_income_standard,\n",
    "                                                     False)"
   ]
  },
  {
   "cell_type": "markdown",
   "metadata": {},
   "source": [
    "## 상위 요소 - 기술적 요소"
   ]
  },
  {
   "cell_type": "markdown",
   "metadata": {},
   "source": [
    "### 전기차 충전기 용량"
   ]
  },
  {
   "cell_type": "code",
   "execution_count": 61,
   "metadata": {},
   "outputs": [
    {
     "data": {
      "text/html": [
       "<div>\n",
       "<style scoped>\n",
       "    .dataframe tbody tr th:only-of-type {\n",
       "        vertical-align: middle;\n",
       "    }\n",
       "\n",
       "    .dataframe tbody tr th {\n",
       "        vertical-align: top;\n",
       "    }\n",
       "\n",
       "    .dataframe thead tr th {\n",
       "        text-align: left;\n",
       "    }\n",
       "\n",
       "    .dataframe thead tr:last-of-type th {\n",
       "        text-align: right;\n",
       "    }\n",
       "</style>\n",
       "<table border=\"1\" class=\"dataframe\">\n",
       "  <thead>\n",
       "    <tr>\n",
       "      <th></th>\n",
       "      <th colspan=\"8\" halign=\"left\">충전기ID</th>\n",
       "      <th colspan=\"8\" halign=\"left\">비고</th>\n",
       "    </tr>\n",
       "    <tr>\n",
       "      <th></th>\n",
       "      <th>count</th>\n",
       "      <th>mean</th>\n",
       "      <th>std</th>\n",
       "      <th>min</th>\n",
       "      <th>25%</th>\n",
       "      <th>50%</th>\n",
       "      <th>75%</th>\n",
       "      <th>max</th>\n",
       "      <th>count</th>\n",
       "      <th>mean</th>\n",
       "      <th>std</th>\n",
       "      <th>min</th>\n",
       "      <th>25%</th>\n",
       "      <th>50%</th>\n",
       "      <th>75%</th>\n",
       "      <th>max</th>\n",
       "    </tr>\n",
       "    <tr>\n",
       "      <th>충전용량</th>\n",
       "      <th></th>\n",
       "      <th></th>\n",
       "      <th></th>\n",
       "      <th></th>\n",
       "      <th></th>\n",
       "      <th></th>\n",
       "      <th></th>\n",
       "      <th></th>\n",
       "      <th></th>\n",
       "      <th></th>\n",
       "      <th></th>\n",
       "      <th></th>\n",
       "      <th></th>\n",
       "      <th></th>\n",
       "      <th></th>\n",
       "      <th></th>\n",
       "    </tr>\n",
       "  </thead>\n",
       "  <tbody>\n",
       "    <tr>\n",
       "      <th>100kW단독</th>\n",
       "      <td>308.0</td>\n",
       "      <td>2.860390</td>\n",
       "      <td>10.316016</td>\n",
       "      <td>1.0</td>\n",
       "      <td>1.0</td>\n",
       "      <td>1.0</td>\n",
       "      <td>2.0</td>\n",
       "      <td>91.0</td>\n",
       "      <td>0.0</td>\n",
       "      <td>NaN</td>\n",
       "      <td>NaN</td>\n",
       "      <td>NaN</td>\n",
       "      <td>NaN</td>\n",
       "      <td>NaN</td>\n",
       "      <td>NaN</td>\n",
       "      <td>NaN</td>\n",
       "    </tr>\n",
       "    <tr>\n",
       "      <th>100kW멀티</th>\n",
       "      <td>35.0</td>\n",
       "      <td>10.971429</td>\n",
       "      <td>23.319376</td>\n",
       "      <td>1.0</td>\n",
       "      <td>1.0</td>\n",
       "      <td>1.0</td>\n",
       "      <td>11.0</td>\n",
       "      <td>91.0</td>\n",
       "      <td>0.0</td>\n",
       "      <td>NaN</td>\n",
       "      <td>NaN</td>\n",
       "      <td>NaN</td>\n",
       "      <td>NaN</td>\n",
       "      <td>NaN</td>\n",
       "      <td>NaN</td>\n",
       "      <td>NaN</td>\n",
       "    </tr>\n",
       "    <tr>\n",
       "      <th>200kW단독</th>\n",
       "      <td>6.0</td>\n",
       "      <td>1.500000</td>\n",
       "      <td>0.547723</td>\n",
       "      <td>1.0</td>\n",
       "      <td>1.0</td>\n",
       "      <td>1.5</td>\n",
       "      <td>2.0</td>\n",
       "      <td>2.0</td>\n",
       "      <td>0.0</td>\n",
       "      <td>NaN</td>\n",
       "      <td>NaN</td>\n",
       "      <td>NaN</td>\n",
       "      <td>NaN</td>\n",
       "      <td>NaN</td>\n",
       "      <td>NaN</td>\n",
       "      <td>NaN</td>\n",
       "    </tr>\n",
       "    <tr>\n",
       "      <th>200kW멀티</th>\n",
       "      <td>27.0</td>\n",
       "      <td>17.333333</td>\n",
       "      <td>6.120583</td>\n",
       "      <td>1.0</td>\n",
       "      <td>12.0</td>\n",
       "      <td>21.0</td>\n",
       "      <td>22.0</td>\n",
       "      <td>24.0</td>\n",
       "      <td>0.0</td>\n",
       "      <td>NaN</td>\n",
       "      <td>NaN</td>\n",
       "      <td>NaN</td>\n",
       "      <td>NaN</td>\n",
       "      <td>NaN</td>\n",
       "      <td>NaN</td>\n",
       "      <td>NaN</td>\n",
       "    </tr>\n",
       "    <tr>\n",
       "      <th>50kW단독</th>\n",
       "      <td>121.0</td>\n",
       "      <td>1.991736</td>\n",
       "      <td>2.006223</td>\n",
       "      <td>1.0</td>\n",
       "      <td>1.0</td>\n",
       "      <td>1.0</td>\n",
       "      <td>2.0</td>\n",
       "      <td>11.0</td>\n",
       "      <td>0.0</td>\n",
       "      <td>NaN</td>\n",
       "      <td>NaN</td>\n",
       "      <td>NaN</td>\n",
       "      <td>NaN</td>\n",
       "      <td>NaN</td>\n",
       "      <td>NaN</td>\n",
       "      <td>NaN</td>\n",
       "    </tr>\n",
       "  </tbody>\n",
       "</table>\n",
       "</div>"
      ],
      "text/plain": [
       "         충전기ID                                                       비고       \\\n",
       "         count       mean        std  min   25%   50%   75%   max count mean   \n",
       "충전용량                                                                           \n",
       "100kW단독  308.0   2.860390  10.316016  1.0   1.0   1.0   2.0  91.0   0.0  NaN   \n",
       "100kW멀티   35.0  10.971429  23.319376  1.0   1.0   1.0  11.0  91.0   0.0  NaN   \n",
       "200kW단독    6.0   1.500000   0.547723  1.0   1.0   1.5   2.0   2.0   0.0  NaN   \n",
       "200kW멀티   27.0  17.333333   6.120583  1.0  12.0  21.0  22.0  24.0   0.0  NaN   \n",
       "50kW단독   121.0   1.991736   2.006223  1.0   1.0   1.0   2.0  11.0   0.0  NaN   \n",
       "\n",
       "                                 \n",
       "        std min 25% 50% 75% max  \n",
       "충전용량                             \n",
       "100kW단독 NaN NaN NaN NaN NaN NaN  \n",
       "100kW멀티 NaN NaN NaN NaN NaN NaN  \n",
       "200kW단독 NaN NaN NaN NaN NaN NaN  \n",
       "200kW멀티 NaN NaN NaN NaN NaN NaN  \n",
       "50kW단독  NaN NaN NaN NaN NaN NaN  "
      ]
     },
     "execution_count": 61,
     "metadata": {},
     "output_type": "execute_result"
    }
   ],
   "source": [
    "charge_capacity = df_EVCS_fast.groupby('충전용량')\n",
    "charge_capacity.describe()"
   ]
  },
  {
   "cell_type": "code",
   "execution_count": 62,
   "metadata": {},
   "outputs": [],
   "source": [
    "capacity_50only_pro = df_EVCS_fast[df_EVCS_fast['충전용량']=='50kW단독']['운영기관'].count() / df_EVCS_fast['충전용량'].shape[0]\n",
    "capacity_100only_pro = df_EVCS_fast[df_EVCS_fast['충전용량']=='100kW단독']['운영기관'].count() / df_EVCS_fast['충전용량'].shape[0]\n",
    "capacity_100multi_pro = df_EVCS_fast[df_EVCS_fast['충전용량']=='100kW멀티']['운영기관'].count() / df_EVCS_fast['충전용량'].shape[0]\n",
    "capacity_200only_pro = df_EVCS_fast[df_EVCS_fast['충전용량']=='200kW단독']['운영기관'].count() / df_EVCS_fast['충전용량'].shape[0]\n",
    "capacity_200multi_pro = df_EVCS_fast[df_EVCS_fast['충전용량']=='200kW멀티']['운영기관'].count() / df_EVCS_fast['충전용량'].shape[0]"
   ]
  },
  {
   "cell_type": "markdown",
   "metadata": {},
   "source": [
    "### 수소연료 공급방식"
   ]
  },
  {
   "cell_type": "code",
   "execution_count": 63,
   "metadata": {},
   "outputs": [
    {
     "data": {
      "text/html": [
       "<div>\n",
       "<style scoped>\n",
       "    .dataframe tbody tr th:only-of-type {\n",
       "        vertical-align: middle;\n",
       "    }\n",
       "\n",
       "    .dataframe tbody tr th {\n",
       "        vertical-align: top;\n",
       "    }\n",
       "\n",
       "    .dataframe thead th {\n",
       "        text-align: right;\n",
       "    }\n",
       "</style>\n",
       "<table border=\"1\" class=\"dataframe\">\n",
       "  <thead>\n",
       "    <tr style=\"text-align: right;\">\n",
       "      <th></th>\n",
       "      <th>충전소</th>\n",
       "      <th>충전기</th>\n",
       "      <th>시</th>\n",
       "      <th>구</th>\n",
       "      <th>주소</th>\n",
       "      <th>위도</th>\n",
       "      <th>경도</th>\n",
       "      <th>하루평균충전횟수</th>\n",
       "      <th>최대 충전 수소차수</th>\n",
       "      <th>공급방식</th>\n",
       "      <th>충전소 설치방식</th>\n",
       "      <th>압축기용량</th>\n",
       "      <th>충전기용량</th>\n",
       "      <th>충전압력</th>\n",
       "      <th>운영시간</th>\n",
       "      <th>평균가동률</th>\n",
       "      <th>충전가격</th>\n",
       "      <th>연간기대수익</th>\n",
       "    </tr>\n",
       "  </thead>\n",
       "  <tbody>\n",
       "    <tr>\n",
       "      <th>0</th>\n",
       "      <td>서부산NK수소충전소</td>\n",
       "      <td>1</td>\n",
       "      <td>부산광역시</td>\n",
       "      <td>강서구</td>\n",
       "      <td>부산광역시 강서구 가락대로 347</td>\n",
       "      <td>35.113171</td>\n",
       "      <td>128.843291</td>\n",
       "      <td>14</td>\n",
       "      <td>67</td>\n",
       "      <td>튜브트레일러</td>\n",
       "      <td>단독</td>\n",
       "      <td>302.63</td>\n",
       "      <td>33.4</td>\n",
       "      <td>700</td>\n",
       "      <td>10</td>\n",
       "      <td>35.0</td>\n",
       "      <td>8800</td>\n",
       "      <td>-26229062.4</td>\n",
       "    </tr>\n",
       "    <tr>\n",
       "      <th>1</th>\n",
       "      <td>H부산수소충전소</td>\n",
       "      <td>3</td>\n",
       "      <td>부산광역시</td>\n",
       "      <td>사상구</td>\n",
       "      <td>부산광역시 사상구 학감대로 167</td>\n",
       "      <td>35.145864</td>\n",
       "      <td>128.987651</td>\n",
       "      <td>60</td>\n",
       "      <td>70</td>\n",
       "      <td>천연가스개질</td>\n",
       "      <td>복합</td>\n",
       "      <td>308.00</td>\n",
       "      <td>25.0</td>\n",
       "      <td>700</td>\n",
       "      <td>12</td>\n",
       "      <td>41.6</td>\n",
       "      <td>8800</td>\n",
       "      <td>50235520.0</td>\n",
       "    </tr>\n",
       "    <tr>\n",
       "      <th>2</th>\n",
       "      <td>하이넷부산정관수소충</td>\n",
       "      <td>1</td>\n",
       "      <td>부산광역시</td>\n",
       "      <td>기장군</td>\n",
       "      <td>부산광역시 기장군 정관읍 신정관로 187</td>\n",
       "      <td>35.328714</td>\n",
       "      <td>129.201710</td>\n",
       "      <td>16</td>\n",
       "      <td>60</td>\n",
       "      <td>천연가스개질</td>\n",
       "      <td>복합</td>\n",
       "      <td>NaN</td>\n",
       "      <td>25.0</td>\n",
       "      <td>700</td>\n",
       "      <td>12</td>\n",
       "      <td>33.3</td>\n",
       "      <td>8800</td>\n",
       "      <td>-19967385.6</td>\n",
       "    </tr>\n",
       "  </tbody>\n",
       "</table>\n",
       "</div>"
      ],
      "text/plain": [
       "          충전소  충전기      시    구                       주소         위도  \\\n",
       "0  서부산NK수소충전소    1  부산광역시  강서구      부산광역시 강서구 가락대로 347   35.113171   \n",
       "1    H부산수소충전소    3  부산광역시  사상구      부산광역시 사상구 학감대로 167   35.145864   \n",
       "2  하이넷부산정관수소충    1  부산광역시  기장군  부산광역시 기장군 정관읍 신정관로 187   35.328714   \n",
       "\n",
       "           경도  하루평균충전횟수  최대 충전 수소차수    공급방식 충전소 설치방식   압축기용량  충전기용량  충전압력  \\\n",
       "0  128.843291        14          67  튜브트레일러       단독  302.63   33.4   700   \n",
       "1  128.987651        60          70  천연가스개질       복합  308.00   25.0   700   \n",
       "2  129.201710        16          60  천연가스개질       복합     NaN   25.0   700   \n",
       "\n",
       "   운영시간  평균가동률  충전가격      연간기대수익  \n",
       "0    10   35.0  8800 -26229062.4  \n",
       "1    12   41.6  8800  50235520.0  \n",
       "2    12   33.3  8800 -19967385.6  "
      ]
     },
     "execution_count": 63,
     "metadata": {},
     "output_type": "execute_result"
    }
   ],
   "source": [
    "df_HVCS"
   ]
  },
  {
   "cell_type": "code",
   "execution_count": 64,
   "metadata": {},
   "outputs": [],
   "source": [
    "HVCS_type_tube_pro = df_HVCS[df_HVCS['공급방식']=='튜브트레일러']['충전소'].count() / df_HVCS['충전소'].shape[0]\n",
    "HVCS_type_reformation_pro = df_HVCS[df_HVCS['공급방식']=='천연가스개질']['충전소'].count() / df_HVCS['충전소'].shape[0]"
   ]
  },
  {
   "cell_type": "markdown",
   "metadata": {},
   "source": [
    "### 충전소당 공급 가능 차량 수 "
   ]
  },
  {
   "cell_type": "markdown",
   "metadata": {},
   "source": [
    "#### 적합 기준\n",
    "수소차 1대 충전시 15분 가량 소요\n",
    "\n",
    "시간당 충전 가능 차량 수 : 60 / 15 = 4\n",
    "\n",
    "충전소 평균 운영시간 11.3h\n",
    "\n",
    "하루 충전가능 수 : 4 * 11.3 = 45.3"
   ]
  },
  {
   "cell_type": "code",
   "execution_count": 65,
   "metadata": {},
   "outputs": [
    {
     "data": {
      "application/vnd.plotly.v1+json": {
       "config": {
        "plotlyServerURL": "https://plot.ly"
       },
       "data": [
        {
         "fill": "tozeroy",
         "line": {
          "color": "rgb(239,85,59)"
         },
         "name": "부적합",
         "type": "scatter",
         "x": [
          45.140260908879135,
          45.02223807141571,
          44.904215233952286,
          44.78619239648886,
          44.66816955902543,
          44.55014672156201,
          44.43212388409858,
          44.31410104663516,
          44.19607820917173,
          44.0780553717083,
          43.96003253424488,
          43.84200969678145,
          43.723986859318025,
          43.605964021854604,
          43.487941184391175,
          43.369918346927754,
          43.251895509464326,
          43.1338726720009,
          43.01584983453748,
          42.89782699707405,
          42.77980415961062,
          42.6617813221472,
          42.54375848468377,
          42.42573564722035,
          42.30771280975692,
          42.18968997229349,
          42.07166713483007,
          41.953644297366644,
          41.835621459903216,
          41.717598622439795,
          41.599575784976366,
          41.481552947512945,
          41.36353011004952,
          41.24550727258609,
          41.12748443512267,
          41.00946159765924,
          40.89143876019581,
          40.77341592273239,
          40.65539308526896,
          40.53737024780554,
          40.41934741034211,
          40.301324572878684,
          40.18330173541526,
          40.065278897951835,
          39.94725606048841,
          39.829233223024985,
          39.71121038556156,
          39.59318754809813,
          39.47516471063471,
          39.35714187317128,
          39.23911903570786,
          39.12109619824443,
          39.003073360781,
          38.88505052331758,
          38.76702768585415,
          38.64900484839073,
          38.5309820109273,
          38.412959173463875,
          38.294936336000454,
          38.176913498537026,
          38.0588906610736,
          37.940867823610176,
          37.82284498614675,
          37.70482214868332,
          37.5867993112199,
          37.46877647375647,
          37.35075363629305,
          37.23273079882962,
          37.11470796136619,
          36.99668512390277,
          36.878662286439344,
          36.76063944897592,
          36.642616611512494,
          36.524593774049066,
          36.40657093658564,
          36.28854809912222,
          36.17052526165879,
          36.05250242419537,
          35.93447958673194,
          35.81645674926851,
          35.69843391180509,
          35.58041107434166,
          35.46238823687824,
          35.34436539941481,
          35.226342561951384,
          35.10831972448796,
          34.990296887024535,
          34.87227404956111,
          34.754251212097685,
          34.63622837463426,
          34.51820553717083,
          34.40018269970741,
          34.28215986224398,
          34.16413702478056,
          34.04611418731713,
          33.9280913498537,
          33.81006851239028,
          33.69204567492685,
          33.57402283746343,
          33.456
         ],
         "y": [
          0.000026079621994047615,
          0.00002378114108797432,
          0.00002167376501331664,
          0.00001974268904054969,
          0.000017974156703672744,
          0.000016355394197454936,
          0.000014874548154406054,
          0.000013520626687189456,
          0.000012283443580922223,
          0.00001115356551912183,
          0.000010122262226896609,
          0.000009181459415305332,
          0.000008323694411574244,
          0.000007542074361017959,
          0.0000068302368880221925,
          0.000006182313105272369,
          0.000005592892862510003,
          0.000005056992128443333,
          0.0000045700224019847755,
          0.0000041277620517139,
          0.0000037263294853364092,
          0.000003362158053901012,
          0.0000030319725986235487,
          0.000002732767551326758,
          0.0000024617865027125083,
          0.0000022165031559252225,
          0.0000019946035861181065,
          0.0000017939697299860616,
          0.0000016126640324633073,
          0.000001448915180988328,
          0.000001301104860901955,
          0.0000011677554686562442,
          0.000001047518722562588,
          9.391651137913535e-7,
          8.415741432435149e-7,
          7.537252927436793e-7,
          6.746896817478449e-7,
          6.036223634150103e-7,
          5.397552164565558e-7,
          4.823903916490395e-7,
          4.308942742729499e-7,
          3.8469192602206503e-7,
          3.432619721141756e-7,
          3.0613190142517826e-7,
          2.7287374946512985e-7,
          2.4310013591809564e-7,
          2.1646063027903248e-7,
          1.9263842084221753e-7,
          1.7134726392884318e-7,
          1.5232869178878445e-7,
          1.3534945907545772e-7,
          1.2019920917575663e-7,
          1.0668834298207311e-7,
          9.464607392301916e-8,
          8.391865422666184e-8,
          7.43677584776884e-8,
          6.586901155084949e-8,
          5.831064896029946e-8,
          5.159229856085039e-8,
          4.562387337568101e-8,
          4.032456610847285e-8,
          3.5621936629095624e-8,
          3.14510844035814e-8,
          2.775389847386513e-8,
          2.4478378183206596e-8,
          2.1578018391894784e-8,
          1.9011253437153736e-8,
          1.6740954563478123e-8,
          1.473397598717589e-8,
          1.296074516382346e-8,
          1.139489320172042e-8,
          1.001292171023011e-8,
          8.793902690972941e-9,
          7.719208374006165e-9,
          6.772268172041936e-9,
          5.938350175049668e-9,
          5.204364836760287e-9,
          4.558688715076857e-9,
          3.99100632154302e-9,
          3.492168312100961e-9,
          3.0540644135707035e-9,
          2.669509628727747e-9,
          2.3321423985904413e-9,
          2.0363335245322153e-9,
          1.7771047660275143e-9,
          1.5500561330722113e-9,
          1.3513009863918532e-9,
          1.177408144201174e-9,
          1.0253502721963936e-9,
          8.924579042874716e-10,
          7.763785059020077e-10,
          6.750400500661093e-10,
          5.866186293969596e-10,
          5.095096750963531e-10,
          4.4230239744669234e-10,
          3.837571015800134e-10,
          3.32785067783276e-10,
          2.8843071765791477e-10,
          2.498558163782151e-10,
          2.1632548737675066e-10
         ]
        },
        {
         "fill": "tozeroy",
         "line": {
          "color": "rgb(100,110,250)"
         },
         "name": "적합",
         "type": "scatter",
         "x": [
          33.456,
          33.98063438705395,
          34.5052687741079,
          35.02990316116184,
          35.554537548215784,
          36.079171935269734,
          36.60380632232368,
          37.12844070937763,
          37.65307509643157,
          38.177709483485515,
          38.702343870539465,
          39.22697825759341,
          39.75161264464735,
          40.2762470317013,
          40.800881418755246,
          41.32551580580919,
          41.85015019286314,
          42.37478457991708,
          42.89941896697103,
          43.42405335402498,
          43.94868774107892,
          44.473322128132864,
          44.997956515186814,
          45.52259090224076,
          46.0472252892947,
          46.57185967634865,
          47.096494063402595,
          47.621128450456546,
          48.14576283751049,
          48.67039722456444,
          49.19503161161838,
          49.719665998672326,
          50.24430038572628,
          50.76893477278022,
          51.29356915983416,
          51.818203546888114,
          52.34283793394206,
          52.867472320996,
          53.39210670804995,
          53.916741095103895,
          54.44137548215784,
          54.96600986921179,
          55.49064425626573,
          56.015278643319675,
          56.539913030373626,
          57.06454741742757,
          57.58918180448151,
          58.11381619153546,
          58.638450578589406,
          59.16308496564335,
          59.6877193526973,
          60.21235373975125,
          60.73698812680519,
          61.26162251385914,
          61.78625690091309,
          62.31089128796703,
          62.835525675020975,
          63.360160062074925,
          63.88479444912887,
          64.40942883618281,
          64.93406322323676,
          65.4586976102907,
          65.98333199734465,
          66.5079663843986,
          67.03260077145254,
          67.55723515850649,
          68.08186954556044,
          68.60650393261437,
          69.13113831966832,
          69.65577270672227,
          70.18040709377621,
          70.70504148083018,
          71.22967586788411,
          71.75431025493805,
          72.27894464199201,
          72.80357902904595,
          73.32821341609989,
          73.85284780315385,
          74.37748219020779,
          74.90211657726172,
          75.42675096431569,
          75.95138535136962,
          76.47601973842356,
          77.00065412547752,
          77.52528851253146,
          78.04992289958541,
          78.57455728663936,
          79.0991916736933,
          79.62382606074725,
          80.1484604478012,
          80.67309483485514,
          81.19772922190909,
          81.72236360896304,
          82.24699799601697,
          82.77163238307092,
          83.29626677012487,
          83.82090115717881,
          84.34553554423276,
          84.87016993128671,
          85.39480431834065
         ],
         "y": [
          2.1632548737675066e-10,
          4.0882432047277327e-10,
          7.645861449720822e-10,
          1.4150663118689299e-9,
          2.5917184930966833e-9,
          4.6974214972694985e-9,
          8.425426647526505e-9,
          1.4954949146865932e-8,
          2.626870400235765e-8,
          4.5661799299747584e-8,
          7.854672148438201e-8,
          1.3370996394521552e-7,
          2.2524758771852367e-7,
          3.7550627014639204e-7,
          6.194908632124351e-7,
          0.0000010113774943725184,
          0.000001634001055831821,
          0.0000026124744275663496,
          0.0000041334475470481435,
          0.000006471925082663298,
          0.000010028020186022971,
          0.000015376503283487557,
          0.000023332465845662897,
          0.00003503679401424875,
          0.00005206534478030461,
          0.00007656562025809545,
          0.00011142420116409766,
          0.00016046706929451812,
          0.00022869305723330843,
          0.00032253786535775867,
          0.00045016228027148873,
          0.0006217533936343744,
          0.0008498218524463273,
          0.0011494717229491994,
          0.0015386128577564288,
          0.002038079357842218,
          0.0026716126489473137,
          0.0034656648314913842,
          0.0044489783793631825,
          0.005651902988152111,
          0.0071054202613492915,
          0.008839862482635968,
          0.010883332948090527,
          0.013259861557039766,
          0.015987359159748603,
          0.01907546533491557,
          0.02252341393146825,
          0.026318065480038386,
          0.030432271906367724,
          0.03482374353663627,
          0.039434578532145825,
          0.0441915891216795,
          0.049007517322996394,
          0.053783177026617945,
          0.05841049292703018,
          0.06277633502348842,
          0.0667669766744925,
          0.07027294145675617,
          0.07319395614451726,
          0.07544369977820706,
          0.076954036061135,
          0.07767843988571421,
          0.07759437764258431,
          0.07670447141245806,
          0.07503636312473738,
          0.07264128850131679,
          0.06959146342909406,
          0.06597646876367333,
          0.06189888596605303,
          0.05746947980362739,
          0.05280224245366824,
          0.04800960529468918,
          0.0431980926595004,
          0.03846464030215956,
          0.03389373636310227,
          0.029555471101516687,
          0.025504510520847058,
          0.021779944437475295,
          0.01840590641940398,
          0.015392824555890108,
          0.012739139601573078,
          0.010433320339190519,
          0.008456013247527379,
          0.006782181924788322,
          0.005383117793239755,
          0.004228233851182245,
          0.003286584344803065,
          0.002528082446889528,
          0.0019244133096372202,
          0.0014496599416338003,
          0.0010806737246588363,
          0.000797230148503656,
          0.0005820140960697735,
          0.00042047866056979803,
          0.0003006180716970907,
          0.00021268990485108057,
          0.0001489153055309306,
          0.00010317927322156096,
          0.00007074671185749725,
          0.000048004364260650184
         ]
        }
       ],
       "layout": {
        "annotations": [
         {
          "bordercolor": "rgb(239,85,59)",
          "borderwidth": 2,
          "font": {
           "color": "rgb(239,85,59)",
           "size": 15
          },
          "showarrow": false,
          "text": "0.0",
          "x": 33.456,
          "xshift": -40,
          "y": 2.1632548737675066e-10,
          "yshift": -100
         },
         {
          "bordercolor": "rgb(100,110,250)",
          "borderwidth": 2,
          "font": {
           "color": "rgb(100,110,250)",
           "size": 15
          },
          "showarrow": false,
          "text": "1.0",
          "x": 33.456,
          "xshift": 40,
          "y": 2.1632548737675066e-10,
          "yshift": -100
         }
        ],
        "template": {
         "data": {
          "bar": [
           {
            "error_x": {
             "color": "#2a3f5f"
            },
            "error_y": {
             "color": "#2a3f5f"
            },
            "marker": {
             "line": {
              "color": "#E5ECF6",
              "width": 0.5
             },
             "pattern": {
              "fillmode": "overlay",
              "size": 10,
              "solidity": 0.2
             }
            },
            "type": "bar"
           }
          ],
          "barpolar": [
           {
            "marker": {
             "line": {
              "color": "#E5ECF6",
              "width": 0.5
             },
             "pattern": {
              "fillmode": "overlay",
              "size": 10,
              "solidity": 0.2
             }
            },
            "type": "barpolar"
           }
          ],
          "carpet": [
           {
            "aaxis": {
             "endlinecolor": "#2a3f5f",
             "gridcolor": "white",
             "linecolor": "white",
             "minorgridcolor": "white",
             "startlinecolor": "#2a3f5f"
            },
            "baxis": {
             "endlinecolor": "#2a3f5f",
             "gridcolor": "white",
             "linecolor": "white",
             "minorgridcolor": "white",
             "startlinecolor": "#2a3f5f"
            },
            "type": "carpet"
           }
          ],
          "choropleth": [
           {
            "colorbar": {
             "outlinewidth": 0,
             "ticks": ""
            },
            "type": "choropleth"
           }
          ],
          "contour": [
           {
            "colorbar": {
             "outlinewidth": 0,
             "ticks": ""
            },
            "colorscale": [
             [
              0,
              "#0d0887"
             ],
             [
              0.1111111111111111,
              "#46039f"
             ],
             [
              0.2222222222222222,
              "#7201a8"
             ],
             [
              0.3333333333333333,
              "#9c179e"
             ],
             [
              0.4444444444444444,
              "#bd3786"
             ],
             [
              0.5555555555555556,
              "#d8576b"
             ],
             [
              0.6666666666666666,
              "#ed7953"
             ],
             [
              0.7777777777777778,
              "#fb9f3a"
             ],
             [
              0.8888888888888888,
              "#fdca26"
             ],
             [
              1,
              "#f0f921"
             ]
            ],
            "type": "contour"
           }
          ],
          "contourcarpet": [
           {
            "colorbar": {
             "outlinewidth": 0,
             "ticks": ""
            },
            "type": "contourcarpet"
           }
          ],
          "heatmap": [
           {
            "colorbar": {
             "outlinewidth": 0,
             "ticks": ""
            },
            "colorscale": [
             [
              0,
              "#0d0887"
             ],
             [
              0.1111111111111111,
              "#46039f"
             ],
             [
              0.2222222222222222,
              "#7201a8"
             ],
             [
              0.3333333333333333,
              "#9c179e"
             ],
             [
              0.4444444444444444,
              "#bd3786"
             ],
             [
              0.5555555555555556,
              "#d8576b"
             ],
             [
              0.6666666666666666,
              "#ed7953"
             ],
             [
              0.7777777777777778,
              "#fb9f3a"
             ],
             [
              0.8888888888888888,
              "#fdca26"
             ],
             [
              1,
              "#f0f921"
             ]
            ],
            "type": "heatmap"
           }
          ],
          "heatmapgl": [
           {
            "colorbar": {
             "outlinewidth": 0,
             "ticks": ""
            },
            "colorscale": [
             [
              0,
              "#0d0887"
             ],
             [
              0.1111111111111111,
              "#46039f"
             ],
             [
              0.2222222222222222,
              "#7201a8"
             ],
             [
              0.3333333333333333,
              "#9c179e"
             ],
             [
              0.4444444444444444,
              "#bd3786"
             ],
             [
              0.5555555555555556,
              "#d8576b"
             ],
             [
              0.6666666666666666,
              "#ed7953"
             ],
             [
              0.7777777777777778,
              "#fb9f3a"
             ],
             [
              0.8888888888888888,
              "#fdca26"
             ],
             [
              1,
              "#f0f921"
             ]
            ],
            "type": "heatmapgl"
           }
          ],
          "histogram": [
           {
            "marker": {
             "pattern": {
              "fillmode": "overlay",
              "size": 10,
              "solidity": 0.2
             }
            },
            "type": "histogram"
           }
          ],
          "histogram2d": [
           {
            "colorbar": {
             "outlinewidth": 0,
             "ticks": ""
            },
            "colorscale": [
             [
              0,
              "#0d0887"
             ],
             [
              0.1111111111111111,
              "#46039f"
             ],
             [
              0.2222222222222222,
              "#7201a8"
             ],
             [
              0.3333333333333333,
              "#9c179e"
             ],
             [
              0.4444444444444444,
              "#bd3786"
             ],
             [
              0.5555555555555556,
              "#d8576b"
             ],
             [
              0.6666666666666666,
              "#ed7953"
             ],
             [
              0.7777777777777778,
              "#fb9f3a"
             ],
             [
              0.8888888888888888,
              "#fdca26"
             ],
             [
              1,
              "#f0f921"
             ]
            ],
            "type": "histogram2d"
           }
          ],
          "histogram2dcontour": [
           {
            "colorbar": {
             "outlinewidth": 0,
             "ticks": ""
            },
            "colorscale": [
             [
              0,
              "#0d0887"
             ],
             [
              0.1111111111111111,
              "#46039f"
             ],
             [
              0.2222222222222222,
              "#7201a8"
             ],
             [
              0.3333333333333333,
              "#9c179e"
             ],
             [
              0.4444444444444444,
              "#bd3786"
             ],
             [
              0.5555555555555556,
              "#d8576b"
             ],
             [
              0.6666666666666666,
              "#ed7953"
             ],
             [
              0.7777777777777778,
              "#fb9f3a"
             ],
             [
              0.8888888888888888,
              "#fdca26"
             ],
             [
              1,
              "#f0f921"
             ]
            ],
            "type": "histogram2dcontour"
           }
          ],
          "mesh3d": [
           {
            "colorbar": {
             "outlinewidth": 0,
             "ticks": ""
            },
            "type": "mesh3d"
           }
          ],
          "parcoords": [
           {
            "line": {
             "colorbar": {
              "outlinewidth": 0,
              "ticks": ""
             }
            },
            "type": "parcoords"
           }
          ],
          "pie": [
           {
            "automargin": true,
            "type": "pie"
           }
          ],
          "scatter": [
           {
            "marker": {
             "colorbar": {
              "outlinewidth": 0,
              "ticks": ""
             }
            },
            "type": "scatter"
           }
          ],
          "scatter3d": [
           {
            "line": {
             "colorbar": {
              "outlinewidth": 0,
              "ticks": ""
             }
            },
            "marker": {
             "colorbar": {
              "outlinewidth": 0,
              "ticks": ""
             }
            },
            "type": "scatter3d"
           }
          ],
          "scattercarpet": [
           {
            "marker": {
             "colorbar": {
              "outlinewidth": 0,
              "ticks": ""
             }
            },
            "type": "scattercarpet"
           }
          ],
          "scattergeo": [
           {
            "marker": {
             "colorbar": {
              "outlinewidth": 0,
              "ticks": ""
             }
            },
            "type": "scattergeo"
           }
          ],
          "scattergl": [
           {
            "marker": {
             "colorbar": {
              "outlinewidth": 0,
              "ticks": ""
             }
            },
            "type": "scattergl"
           }
          ],
          "scattermapbox": [
           {
            "marker": {
             "colorbar": {
              "outlinewidth": 0,
              "ticks": ""
             }
            },
            "type": "scattermapbox"
           }
          ],
          "scatterpolar": [
           {
            "marker": {
             "colorbar": {
              "outlinewidth": 0,
              "ticks": ""
             }
            },
            "type": "scatterpolar"
           }
          ],
          "scatterpolargl": [
           {
            "marker": {
             "colorbar": {
              "outlinewidth": 0,
              "ticks": ""
             }
            },
            "type": "scatterpolargl"
           }
          ],
          "scatterternary": [
           {
            "marker": {
             "colorbar": {
              "outlinewidth": 0,
              "ticks": ""
             }
            },
            "type": "scatterternary"
           }
          ],
          "surface": [
           {
            "colorbar": {
             "outlinewidth": 0,
             "ticks": ""
            },
            "colorscale": [
             [
              0,
              "#0d0887"
             ],
             [
              0.1111111111111111,
              "#46039f"
             ],
             [
              0.2222222222222222,
              "#7201a8"
             ],
             [
              0.3333333333333333,
              "#9c179e"
             ],
             [
              0.4444444444444444,
              "#bd3786"
             ],
             [
              0.5555555555555556,
              "#d8576b"
             ],
             [
              0.6666666666666666,
              "#ed7953"
             ],
             [
              0.7777777777777778,
              "#fb9f3a"
             ],
             [
              0.8888888888888888,
              "#fdca26"
             ],
             [
              1,
              "#f0f921"
             ]
            ],
            "type": "surface"
           }
          ],
          "table": [
           {
            "cells": {
             "fill": {
              "color": "#EBF0F8"
             },
             "line": {
              "color": "white"
             }
            },
            "header": {
             "fill": {
              "color": "#C8D4E3"
             },
             "line": {
              "color": "white"
             }
            },
            "type": "table"
           }
          ]
         },
         "layout": {
          "annotationdefaults": {
           "arrowcolor": "#2a3f5f",
           "arrowhead": 0,
           "arrowwidth": 1
          },
          "autotypenumbers": "strict",
          "coloraxis": {
           "colorbar": {
            "outlinewidth": 0,
            "ticks": ""
           }
          },
          "colorscale": {
           "diverging": [
            [
             0,
             "#8e0152"
            ],
            [
             0.1,
             "#c51b7d"
            ],
            [
             0.2,
             "#de77ae"
            ],
            [
             0.3,
             "#f1b6da"
            ],
            [
             0.4,
             "#fde0ef"
            ],
            [
             0.5,
             "#f7f7f7"
            ],
            [
             0.6,
             "#e6f5d0"
            ],
            [
             0.7,
             "#b8e186"
            ],
            [
             0.8,
             "#7fbc41"
            ],
            [
             0.9,
             "#4d9221"
            ],
            [
             1,
             "#276419"
            ]
           ],
           "sequential": [
            [
             0,
             "#0d0887"
            ],
            [
             0.1111111111111111,
             "#46039f"
            ],
            [
             0.2222222222222222,
             "#7201a8"
            ],
            [
             0.3333333333333333,
             "#9c179e"
            ],
            [
             0.4444444444444444,
             "#bd3786"
            ],
            [
             0.5555555555555556,
             "#d8576b"
            ],
            [
             0.6666666666666666,
             "#ed7953"
            ],
            [
             0.7777777777777778,
             "#fb9f3a"
            ],
            [
             0.8888888888888888,
             "#fdca26"
            ],
            [
             1,
             "#f0f921"
            ]
           ],
           "sequentialminus": [
            [
             0,
             "#0d0887"
            ],
            [
             0.1111111111111111,
             "#46039f"
            ],
            [
             0.2222222222222222,
             "#7201a8"
            ],
            [
             0.3333333333333333,
             "#9c179e"
            ],
            [
             0.4444444444444444,
             "#bd3786"
            ],
            [
             0.5555555555555556,
             "#d8576b"
            ],
            [
             0.6666666666666666,
             "#ed7953"
            ],
            [
             0.7777777777777778,
             "#fb9f3a"
            ],
            [
             0.8888888888888888,
             "#fdca26"
            ],
            [
             1,
             "#f0f921"
            ]
           ]
          },
          "colorway": [
           "#636efa",
           "#EF553B",
           "#00cc96",
           "#ab63fa",
           "#FFA15A",
           "#19d3f3",
           "#FF6692",
           "#B6E880",
           "#FF97FF",
           "#FECB52"
          ],
          "font": {
           "color": "#2a3f5f"
          },
          "geo": {
           "bgcolor": "white",
           "lakecolor": "white",
           "landcolor": "#E5ECF6",
           "showlakes": true,
           "showland": true,
           "subunitcolor": "white"
          },
          "hoverlabel": {
           "align": "left"
          },
          "hovermode": "closest",
          "mapbox": {
           "style": "light"
          },
          "paper_bgcolor": "white",
          "plot_bgcolor": "#E5ECF6",
          "polar": {
           "angularaxis": {
            "gridcolor": "white",
            "linecolor": "white",
            "ticks": ""
           },
           "bgcolor": "#E5ECF6",
           "radialaxis": {
            "gridcolor": "white",
            "linecolor": "white",
            "ticks": ""
           }
          },
          "scene": {
           "xaxis": {
            "backgroundcolor": "#E5ECF6",
            "gridcolor": "white",
            "gridwidth": 2,
            "linecolor": "white",
            "showbackground": true,
            "ticks": "",
            "zerolinecolor": "white"
           },
           "yaxis": {
            "backgroundcolor": "#E5ECF6",
            "gridcolor": "white",
            "gridwidth": 2,
            "linecolor": "white",
            "showbackground": true,
            "ticks": "",
            "zerolinecolor": "white"
           },
           "zaxis": {
            "backgroundcolor": "#E5ECF6",
            "gridcolor": "white",
            "gridwidth": 2,
            "linecolor": "white",
            "showbackground": true,
            "ticks": "",
            "zerolinecolor": "white"
           }
          },
          "shapedefaults": {
           "line": {
            "color": "#2a3f5f"
           }
          },
          "ternary": {
           "aaxis": {
            "gridcolor": "white",
            "linecolor": "white",
            "ticks": ""
           },
           "baxis": {
            "gridcolor": "white",
            "linecolor": "white",
            "ticks": ""
           },
           "bgcolor": "#E5ECF6",
           "caxis": {
            "gridcolor": "white",
            "linecolor": "white",
            "ticks": ""
           }
          },
          "title": {
           "x": 0.05
          },
          "xaxis": {
           "automargin": true,
           "gridcolor": "white",
           "linecolor": "white",
           "ticks": "",
           "title": {
            "standoff": 15
           },
           "zerolinecolor": "white",
           "zerolinewidth": 2
          },
          "yaxis": {
           "automargin": true,
           "gridcolor": "white",
           "linecolor": "white",
           "ticks": "",
           "title": {
            "standoff": 15
           },
           "zerolinecolor": "white",
           "zerolinewidth": 2
          }
         }
        },
        "yaxis": {
         "visible": false
        }
       }
      }
     },
     "metadata": {},
     "output_type": "display_data"
    }
   ],
   "source": [
    "maximum_charge_pro, maximum_charge_pro_negative = cal_norm(df_HVCS['최대 충전 수소차수'].mean(),\n",
    "                                                           df_HVCS['최대 충전 수소차수'].std(),\n",
    "                                                           df_HVCS['최대 충전 수소차수'].mean()-3*df_HVCS['최대 충전 수소차수'].std(),\n",
    "                                                           df_HVCS['최대 충전 수소차수'].max()+3*df_HVCS['최대 충전 수소차수'].std(),\n",
    "                                                           maximum_charge_standard,\n",
    "                                                           False)"
   ]
  },
  {
   "cell_type": "markdown",
   "metadata": {},
   "source": [
    "## 결합 확률로 상위 요인 도출하기\n"
   ]
  },
  {
   "cell_type": "code",
   "execution_count": 66,
   "metadata": {},
   "outputs": [
    {
     "name": "stdout",
     "output_type": "stream",
     "text": [
      "환경변수(전기,수소) [0.8287531282163694, 0.909590433996196, 0.8017202428389887, 0.8866811666335976, 0.8415688322677302]\n",
      "사회변수(전기) [0.5805761941127271, 0.5848617448890694, 0.6873863517690764, 0.674869398608691]\n",
      "사회변수(수소) [0.5805761941127271, 0.5848617448890694, 1.0, 0.674869398608691]\n",
      "경제변수(전기) [0.5739632891115474, 0.22531111975287588]\n",
      "경제변수(수소) [0.5379381229554602, 0.22531111975287588, 0.13766606094638267]\n",
      "기술변수(전기) [[0.24346076458752516, 0.6197183098591549, 0.07042253521126761, 0.012072434607645875, 0.05432595573440644]]\n",
      "기술변수(수소) [[0.3333333333333333, 0.6666666666666666], 0.9999999998273305]\n"
     ]
    }
   ],
   "source": [
    "## 상위 요인별 하위변수 \n",
    "# E는 전기차, H는 수소차\n",
    "variable_environment = [] # 환경변수는 전기/수소 동일\n",
    "variable_social_E = []\n",
    "variable_social_H = []\n",
    "variable_economic_E = []\n",
    "variable_economic_H = []\n",
    "variable_technical_E = []\n",
    "variable_technical_H = []\n",
    "\n",
    "variable_environment.append(co_pro)\n",
    "variable_environment.append(no2_pro)\n",
    "variable_environment.append(o3_pro)\n",
    "variable_environment.append(pm10_pro)\n",
    "variable_environment.append(pm25_pro)\n",
    "\n",
    "\n",
    "variable_social_E.append(density_pro)\n",
    "variable_social_E.append(floating_pro)\n",
    "variable_social_E.append(EV_per_charger_pro)\n",
    "variable_social_E.append(street_supply_pro)\n",
    "\n",
    "variable_social_H.append(density_pro)\n",
    "variable_social_H.append(floating_pro)\n",
    "variable_social_H.append(HV_per_charger_pro)\n",
    "variable_social_H.append(street_supply_pro)\n",
    "\n",
    "\n",
    "variable_economic_E.append(EVCS_cost_pro)\n",
    "variable_economic_E.append(income_pro)\n",
    "\n",
    "variable_economic_H.append(HVCS_cost_pro)\n",
    "variable_economic_H.append(income_pro)\n",
    "variable_economic_H.append(HVCS_income_pro)\n",
    "\n",
    "capacity_pro = [capacity_50only_pro, capacity_100only_pro, capacity_100multi_pro, capacity_200only_pro, capacity_200multi_pro]\n",
    "variable_technical_E.append(capacity_pro)\n",
    "\n",
    "HVCS_type_pro = [HVCS_type_tube_pro, HVCS_type_reformation_pro]\n",
    "variable_technical_H.append(HVCS_type_pro)\n",
    "variable_technical_H.append(maximum_charge_pro)\n",
    "\n",
    "\n",
    "## 상위 요인 결합 가중치\n",
    "weight_environment = [0.3,0.3,0.1,0.15,0.15]            # co, no2, ozone, pm10, pm25\n",
    "weight_social_E = [0.35,0.15,0.35,0.15]                 # 인구밀도, 유동인구밀도, 충전기당 전기차 수, 도로보급률\n",
    "weight_social_H = [0.35,0.15,0.35,0.15]                 # 인구밀도, 유동인구밀도, 충전기당 수소차 수, 도로보급률\n",
    "weight_economic_E = [0.8,0.2]                           # 전기차충전기 설치비용, 평균소득\n",
    "weight_economic_H = [0.4,0.2,0.4]                       # 수소차충전기 설치비용, 평균소득, 수소차충전소 기대수익\n",
    "weight_technical_E = [[0.7,0.7,0.9,0.7,1.0]]            # 충전기용량\n",
    "weight_technical_H = [[0.35,0.7],0.3]                   # 수소연료 공급방식, 충전소당 공급가능 차량 수\n",
    "\n",
    "\n",
    "## 최종 확률 결합 가중치\n",
    "weight_total = [0.1, 0.4, 0.3, 0.2]     # 환경적 요인, 사회적 요인, 경제적 요인, 기술적 요인\n",
    "\n",
    "\n",
    "print(\"환경변수(전기,수소)\",variable_environment)\n",
    "print(\"사회변수(전기)\",variable_social_E)\n",
    "print(\"사회변수(수소)\",variable_social_H)\n",
    "print(\"경제변수(전기)\",variable_economic_E)\n",
    "print(\"경제변수(수소)\",variable_economic_H)\n",
    "print(\"기술변수(전기)\",variable_technical_E)\n",
    "print(\"기술변수(수소)\",variable_technical_H)"
   ]
  },
  {
   "cell_type": "markdown",
   "metadata": {},
   "source": [
    "### 결합확률(Joint Probability) 함수"
   ]
  },
  {
   "cell_type": "code",
   "execution_count": 67,
   "metadata": {},
   "outputs": [],
   "source": [
    "# 결합 확률 구하기\n",
    "def joint_pro(variable, weight):\n",
    "    result = 0.0\n",
    "    variable_weight = list(zip(variable,weight))\n",
    "    for pro, wei in variable_weight:\n",
    "        # 이중리스트인 경우\n",
    "        if isinstance(pro,list) and isinstance(wei,list):\n",
    "            max = 0.0\n",
    "            value_w = -1\n",
    "            v_w = list(zip(pro,wei))\n",
    "            for p,w in v_w:\n",
    "                if max <= p:\n",
    "                    max = p\n",
    "                    value_w = w\n",
    "            result += max*value_w\n",
    "            \n",
    "        else:\n",
    "            result += pro*wei\n",
    "    return result"
   ]
  },
  {
   "cell_type": "code",
   "execution_count": 68,
   "metadata": {},
   "outputs": [
    {
     "name": "stdout",
     "output_type": "stream",
     "text": [
      "Joint Probability\n",
      "0.860913 / 0.139087\n",
      "0.632747 / 0.367253\n",
      "0.742161 / 0.257839\n",
      "0.504233 / 0.495767\n",
      "0.315304 / 0.684696\n",
      "0.433803 / 0.566197\n",
      "0.766667 / 0.233333\n"
     ]
    }
   ],
   "source": [
    "# 상위 요소 결합 확률\n",
    "environment_joint_pro = round(joint_pro(variable_environment,weight_environment),6)\n",
    "social_joint_pro_E = round(joint_pro(variable_social_E,weight_social_E),6)\n",
    "social_joint_pro_H = round(joint_pro(variable_social_H,weight_social_H),6)\n",
    "economic_joint_pro_E = round(joint_pro(variable_economic_E,weight_economic_E),6)\n",
    "economic_joint_pro_H = round(joint_pro(variable_economic_H,weight_economic_H),6)\n",
    "technical_joint_pro_E = round(joint_pro(variable_technical_E,weight_technical_E),6)\n",
    "technical_joint_pro_H = round(joint_pro(variable_technical_H,weight_technical_H),6)\n",
    "\n",
    "print(\"Joint Probability\")\n",
    "print(environment_joint_pro, \"/\", round(1-environment_joint_pro,6))\n",
    "print(social_joint_pro_E,\"/\", round(1-social_joint_pro_E,6))\n",
    "print(social_joint_pro_H,\"/\", round(1-social_joint_pro_H,6))\n",
    "print(economic_joint_pro_E,\"/\", round(1-economic_joint_pro_E,6))\n",
    "print(economic_joint_pro_H,\"/\", round(1-economic_joint_pro_H,6))\n",
    "print(technical_joint_pro_E,\"/\", round(1-technical_joint_pro_E,6))\n",
    "print(technical_joint_pro_H,\"/\", round(1-technical_joint_pro_H,6))"
   ]
  },
  {
   "cell_type": "markdown",
   "metadata": {},
   "source": [
    "### 조건부확률(Conditional Probability) 분포표\n",
    "\n",
    " - 환경적 요인\n",
    "\n",
    "    오존, 아황산가스, 이산화질소, 일산화탄소, 미세먼지(pm10, pm25)\n",
    "\n",
    " - 사회적 요인\n",
    "   \n",
    "    고정인구수, 유동인구 수, 친환경 자동차 등록대수, LPG 충전소 수, 충전소 수(전기,수소), 교통 편의성, 주변 충전소와의 거리, 고속도로 여부\n",
    "\n",
    " - 경제적 요인\n",
    "   \n",
    "    전기차 충전기 설치 비용, 수소 충전소 구축 비용, LPG 충전소 토지비용, 총 유지비용, 주차 구획 수\n",
    "\n",
    " - 기술적 요소\n",
    "\n",
    "    복합 충전소 여부(수소), 충전시간에 따른 급속/완속 충전 방식"
   ]
  },
  {
   "cell_type": "code",
   "execution_count": 69,
   "metadata": {},
   "outputs": [],
   "source": [
    "# 조건부 확률 구하기\n",
    "def conditional_pro(weight):\n",
    "    '''\n",
    "    weight : 결합할 변수의 가중치 값(list)\n",
    "    '''\n",
    "    \n",
    "    table_len = 1\n",
    "    for wei in weight:\n",
    "        weight_len = 0\n",
    "        if isinstance(wei,list):    # 상태가 3개 이상인 정성적인 변수의 가중치인 경우\n",
    "            for i in wei:\n",
    "                weight_len += 1\n",
    "            # 조건부확률테이블의 길이는 (변수 cardinality들의 곱)의 크기를 가짐\n",
    "            table_len *= weight_len\n",
    "        else:\n",
    "            table_len *= 2\n",
    "    \n",
    "    # 결과 리스트 초기화\n",
    "    result_True = [0.0]*table_len\n",
    "    result_False = []\n",
    "    # 변수의 T,F 상태 변화 주기\n",
    "    cycle = table_len\n",
    "    for i in range(len(weight)): \n",
    "        # cardinality가 3개 이상인 변수의 가중치인 경우(정성적)\n",
    "        if isinstance(weight[i],list):\n",
    "            cycle = cycle / len(weight[i])\n",
    "            pos = 0\n",
    "            for wei in weight[i]:\n",
    "                for j in range(table_len):          \n",
    "                    if int(j/cycle)%len(weight[i]) == pos:\n",
    "                        result_True[j] += wei\n",
    "                        result_True[j] = round(result_True[j],6)\n",
    "                pos += 1\n",
    "        else:\n",
    "            cycle = cycle/2\n",
    "            for j in range(table_len): \n",
    "                if int(j/cycle)%2 == 0:\n",
    "                    result_True[j] += weight[i]\n",
    "                    result_True[j] = round(result_True[j],6)\n",
    "    for pro in result_True:\n",
    "        result_False.append(round(1-pro,6))\n",
    "\n",
    "    return result_True, result_False\n"
   ]
  },
  {
   "cell_type": "code",
   "execution_count": 70,
   "metadata": {},
   "outputs": [
    {
     "name": "stdout",
     "output_type": "stream",
     "text": [
      "환경적 요소 조건부 확률 \n",
      " [1.0, 0.85, 0.85, 0.7, 0.9, 0.75, 0.75, 0.6, 0.7, 0.55, 0.55, 0.4, 0.6, 0.45, 0.45, 0.3, 0.7, 0.55, 0.55, 0.4, 0.6, 0.45, 0.45, 0.3, 0.4, 0.25, 0.25, 0.1, 0.3, 0.15, 0.15, 0.0] \n",
      " [0.0, 0.15, 0.15, 0.3, 0.1, 0.25, 0.25, 0.4, 0.3, 0.45, 0.45, 0.6, 0.4, 0.55, 0.55, 0.7, 0.3, 0.45, 0.45, 0.6, 0.4, 0.55, 0.55, 0.7, 0.6, 0.75, 0.75, 0.9, 0.7, 0.85, 0.85, 1.0]\n",
      "사회적(전기) 요소 조건부 확률 \n",
      " [1.0, 0.85, 0.65, 0.5, 0.85, 0.7, 0.5, 0.35, 0.65, 0.5, 0.3, 0.15, 0.5, 0.35, 0.15, 0.0] \n",
      " [0.0, 0.15, 0.35, 0.5, 0.15, 0.3, 0.5, 0.65, 0.35, 0.5, 0.7, 0.85, 0.5, 0.65, 0.85, 1.0]\n",
      "사회적(수소) 요소 조건부 확률 \n",
      " [1.0, 0.85, 0.65, 0.5, 0.85, 0.7, 0.5, 0.35, 0.65, 0.5, 0.3, 0.15, 0.5, 0.35, 0.15, 0.0] \n",
      " [0.0, 0.15, 0.35, 0.5, 0.15, 0.3, 0.5, 0.65, 0.35, 0.5, 0.7, 0.85, 0.5, 0.65, 0.85, 1.0]\n",
      "경제적(전기) 요소 조건부 확률 \n",
      " [1.0, 0.8, 0.2, 0.0] \n",
      " [0.0, 0.2, 0.8, 1.0]\n",
      "경제적(수소) 요소 조건부 확률 \n",
      " [1.0, 0.6, 0.8, 0.4, 0.6, 0.2, 0.4, 0.0] \n",
      " [0.0, 0.4, 0.2, 0.6, 0.4, 0.8, 0.6, 1.0]\n",
      "기술적(전기) 요소 조건부 확률 \n",
      " [0.7, 0.7, 0.9, 0.7, 1.0] \n",
      " [0.3, 0.3, 0.1, 0.3, 0.0]\n",
      "기술적(수소) 요소 조건부 확률 \n",
      " [0.65, 0.35, 1.0, 0.7] \n",
      " [0.35, 0.65, 0.0, 0.3]\n"
     ]
    }
   ],
   "source": [
    "# 상위 요인 조건부 확률\n",
    "environment_pro, environment_pro_negative = conditional_pro(weight_environment)\n",
    "social_E_pro, social_E_pro_negative = conditional_pro(weight_social_E)\n",
    "social_H_pro, social_H_pro_negative = conditional_pro(weight_social_H)\n",
    "economic_E_pro, economic_E_pro_negative = conditional_pro(weight_economic_E)\n",
    "economic_H_pro, economic_H_pro_negative = conditional_pro(weight_economic_H)\n",
    "technical_E_pro, technical_E_pro_negative = conditional_pro(weight_technical_E)\n",
    "technical_H_pro, technical_H_pro_negative = conditional_pro(weight_technical_H)\n",
    "\n",
    "print(\"환경적 요소 조건부 확률\",'\\n', environment_pro,'\\n',environment_pro_negative)\n",
    "print(\"사회적(전기) 요소 조건부 확률\",'\\n', social_E_pro,'\\n',social_E_pro_negative)\n",
    "print(\"사회적(수소) 요소 조건부 확률\",'\\n', social_H_pro,'\\n',social_H_pro_negative)\n",
    "print(\"경제적(전기) 요소 조건부 확률\",'\\n', economic_E_pro,'\\n',economic_E_pro_negative)\n",
    "print(\"경제적(수소) 요소 조건부 확률\",'\\n', economic_H_pro,'\\n',economic_H_pro_negative)\n",
    "print(\"기술적(전기) 요소 조건부 확률\",'\\n', technical_E_pro,'\\n',technical_E_pro_negative)\n",
    "print(\"기술적(수소) 요소 조건부 확률\",'\\n', technical_H_pro,'\\n',technical_H_pro_negative)"
   ]
  },
  {
   "cell_type": "markdown",
   "metadata": {},
   "source": [
    "## 베이지안 네트워크 모델 구성"
   ]
  },
  {
   "cell_type": "code",
   "execution_count": 71,
   "metadata": {},
   "outputs": [],
   "source": [
    "from IPython.core.display import Image\n",
    "from networkx.drawing.nx_pydot import to_pydot\n",
    "\n",
    "from pgmpy.factors.discrete import TabularCPD\n",
    "from pgmpy.models import BayesianModel"
   ]
  },
  {
   "cell_type": "code",
   "execution_count": 72,
   "metadata": {},
   "outputs": [],
   "source": [
    "from pgmpy.inference import VariableElimination\n",
    "from pgmpy.factors.discrete import DiscreteFactor\n",
    "from pgmpy.models import FactorGraph"
   ]
  },
  {
   "cell_type": "code",
   "execution_count": 73,
   "metadata": {},
   "outputs": [
    {
     "name": "stderr",
     "output_type": "stream",
     "text": [
      "c:\\Users\\SAMSUNG\\anaconda3\\envs\\GVCS\\lib\\site-packages\\pgmpy\\models\\BayesianModel.py:8: FutureWarning:\n",
      "\n",
      "BayesianModel has been renamed to BayesianNetwork. Please use BayesianNetwork class, BayesianModel will be removed in future.\n",
      "\n"
     ]
    }
   ],
   "source": [
    "### 전기차 요인\n",
    "# 환경적 요인 하위 변수 확률\n",
    "o3 = [[o3_pro], [1-o3_pro]]\n",
    "no2 = [[no2_pro], [1-no2_pro]]\n",
    "co = [[co_pro], [1-co_pro]]\n",
    "pm10 = [[pm10_pro], [1-pm10_pro]]\n",
    "pm25 = [[pm25_pro], [1-pm25_pro]]\n",
    "\n",
    "# 사회적 요인 하위 변수 확률\n",
    "density = [[density_pro],[1-density_pro]]\n",
    "floating = [[floating_pro],[1-floating_pro]]\n",
    "EV_per_charger = [[EV_per_charger_pro],[1-EV_per_charger_pro]]\n",
    "street_supply = [[street_supply_pro],[1-street_supply_pro]]\n",
    "\n",
    "# 경제적 요인 하위 변수 확률\n",
    "EVCS_cost = [[EVCS_cost_pro],[1-EVCS_cost_pro]]\n",
    "income = [[income_pro],[1-income_pro]]\n",
    "\n",
    "# 기술적 요인 하위 변수 확률\n",
    "capacity = [[capacity_50only_pro], [capacity_100only_pro], [capacity_100multi_pro], [capacity_200only_pro], [capacity_200multi_pro]]\n",
    "\n",
    "\n",
    "### 수소차 요인\n",
    "# 환경적 요인은 전기차와 동일 -> 환경적 모델 하나로 구성\n",
    "\n",
    "# 사회적 요인 하위 변수 확률\n",
    "density = [[density_pro],[1-density_pro]]\n",
    "floating = [[floating_pro],[1-floating_pro]]\n",
    "HV_per_charger = [[HV_per_charger_pro],[1-HV_per_charger_pro]]\n",
    "street_supply = [[street_supply_pro],[1-street_supply_pro]]\n",
    "\n",
    "# 경제적 요인 하위 변수 확률\n",
    "HVCS_cost = [[HVCS_cost_pro],[1-HVCS_cost_pro]]\n",
    "income = [[income_pro],[1-income_pro]]\n",
    "HVCS_income = [[HVCS_income_pro],[1-HVCS_income_pro]]\n",
    "\n",
    "# 기술적 요인 하위 변수 확률\n",
    "HVCS_type = [[HVCS_type_tube_pro],[HVCS_type_reformation_pro]]\n",
    "maximum_charge = [[maximum_charge_pro],[1-maximum_charge_pro]]\n",
    "\n",
    "environment_model = BayesianModel([('o3', 'environment'), ('no2', 'environment'), ('co', 'environment'),\n",
    "                                   ('pm10', 'environment'), ('pm25', 'environment')])\n",
    "social_model_E = BayesianModel([('density','social_E'),('floating','social_E'),('EV_per_charger','social_E'),('street_supply','social_E')])\n",
    "social_model_H = BayesianModel([('density','social_H'),('floating','social_H'),('HV_per_charger','social_H'),('street_supply','social_H')])\n",
    "economic_model_E = BayesianModel([('EVCS_cost','economic_E'),('income','economic_E')])\n",
    "economic_model_H = BayesianModel([('HVCS_cost','economic_H'),('income','economic_H'),('HVCS_income','economic_H')])\n",
    "technical_model_E = BayesianModel([('capacity','technical_E')])\n",
    "technical_model_H = BayesianModel([('HVCS_type','technical_H'),('maximum_charge','technical_H')])\n",
    "\n",
    "\n",
    "### 환경적 요인의 하위 변수 모델링 \n",
    "P_co = TabularCPD('co', 2,values=co)\n",
    "P_no2 = TabularCPD('no2', 2,values=no2)\n",
    "P_o3 = TabularCPD('o3', 2,values=o3)\n",
    "P_pm10 = TabularCPD('pm10', 2,values=pm10)\n",
    "P_pm25 = TabularCPD('pm25', 2,values=pm25)\n",
    "P_environment_I_co_no2_o3_pm10_pm25 = TabularCPD('environment',2,[environment_pro,environment_pro_negative],\n",
    "                                                 evidence=['co','no2','o3','pm10','pm25'],\n",
    "                                                 evidence_card=[2,2,2,2,2]\n",
    "                                                 )\n",
    "\n",
    "environment_model.add_cpds(P_co, P_no2, P_o3, P_pm10, P_pm25, P_environment_I_co_no2_o3_pm10_pm25)                                \n",
    "\n",
    "\n",
    "### 사회적 요인의 하위 변수 모델링(전기)\n",
    "P_density = TabularCPD('density',2,values=density)\n",
    "P_floating = TabularCPD('floating',2,values=floating)\n",
    "P_EV_per_charger = TabularCPD('EV_per_charger',2,values=EV_per_charger)\n",
    "P_street_supply = TabularCPD('street_supply',2,values=street_supply)\n",
    "P_social_E_I_density_floating_EV_per_charger_street_supply = TabularCPD('social_E',2,[social_E_pro,social_E_pro_negative],\n",
    "                                                                        evidence=['density','floating','EV_per_charger','street_supply'],\n",
    "                                                                        evidence_card=[2,2,2,2])\n",
    "\n",
    "social_model_E.add_cpds(P_density, P_floating, P_EV_per_charger, P_street_supply, P_social_E_I_density_floating_EV_per_charger_street_supply)\n",
    "\n",
    "\n",
    "### 사회적 요인의 하위 변수 모델링(수소)\n",
    "P_density = TabularCPD('density',2,values=density)\n",
    "P_floating = TabularCPD('floating',2,values=floating)\n",
    "P_HV_per_charger = TabularCPD('HV_per_charger',2,values=HV_per_charger)\n",
    "P_street_supply = TabularCPD('street_supply',2,values=street_supply)\n",
    "P_social_H_I_density_floating_HV_per_charger_street_supply = TabularCPD('social_H',2,[social_H_pro,social_H_pro_negative],\n",
    "                                                                        evidence=['density','floating','HV_per_charger','street_supply'],\n",
    "                                                                        evidence_card=[2,2,2,2])\n",
    "\n",
    "social_model_H.add_cpds(P_density, P_floating, P_HV_per_charger, P_street_supply, P_social_H_I_density_floating_HV_per_charger_street_supply)\n",
    "\n",
    "### 경제적 요인의 하위 변수 모델링(전기)\n",
    "P_EVCS_cost = TabularCPD('EVCS_cost',2,values=EVCS_cost)\n",
    "P_income = TabularCPD('income',2,values=income)\n",
    "P_economic_E_I_EVCS_cost_income = TabularCPD('economic_E',2,[economic_E_pro,economic_E_pro_negative],\n",
    "                                             evidence=['EVCS_cost','income'],\n",
    "                                             evidence_card=[2,2])\n",
    "\n",
    "economic_model_E.add_cpds(P_EVCS_cost, P_income, P_economic_E_I_EVCS_cost_income)   \n",
    "\n",
    "### 경제적 요인의 하위 변수 모델링(수소)\n",
    "P_HVCS_cost = TabularCPD('HVCS_cost',2,values=HVCS_cost)\n",
    "P_income = TabularCPD('income',2,values=income)\n",
    "P_HVCS_income = TabularCPD('HVCS_income',2,values=HVCS_income)\n",
    "P_economic_H_I_HVCS_cost_income_HVCS_income = TabularCPD('economic_H',2,[economic_H_pro,economic_H_pro_negative],\n",
    "                                                         evidence=['HVCS_cost','income','HVCS_income'],\n",
    "                                                         evidence_card=[2,2,2])\n",
    "\n",
    "economic_model_H.add_cpds(P_HVCS_cost, P_income, P_HVCS_income, P_economic_H_I_HVCS_cost_income_HVCS_income)       \n",
    "\n",
    "### 기술적 요인의 하위 변수 모델링(전기)\n",
    "P_capacity = TabularCPD('capacity',5,values=capacity)\n",
    "P_technical_E_I_capacity = TabularCPD('technical_E',2,[technical_E_pro,technical_E_pro_negative],\n",
    "                                  evidence=['capacity'],\n",
    "                                  evidence_card=[5])\n",
    "\n",
    "technical_model_E.add_cpds(P_capacity, P_technical_E_I_capacity)\n",
    "\n",
    "\n",
    "### 기술적 요인의 하위 변수 모델링(수소)\n",
    "P_HVCS_type = TabularCPD('HVCS_type',2,values=HVCS_type)\n",
    "P_maximum_charge = TabularCPD('maximum_charge',2,values=maximum_charge)\n",
    "P_technical_H_I_HVCS_type_maximum_charge = TabularCPD('technical_H',2,[technical_H_pro,technical_H_pro_negative],\n",
    "                                       evidence=['HVCS_type','maximum_charge'],\n",
    "                                       evidence_card=[2,2])\n",
    "\n",
    "technical_model_H.add_cpds(P_HVCS_type, P_maximum_charge, P_technical_H_I_HVCS_type_maximum_charge)\n",
    "\n",
    "\n",
    "infer_environment = VariableElimination(environment_model)\n",
    "infer_social_E = VariableElimination(social_model_E)\n",
    "infer_social_H = VariableElimination(social_model_H)\n",
    "infer_economic_E = VariableElimination(economic_model_E)\n",
    "infer_economic_H = VariableElimination(economic_model_H)\n",
    "infer_technical_E = VariableElimination(technical_model_E)\n",
    "infer_technical_H = VariableElimination(technical_model_H)"
   ]
  },
  {
   "cell_type": "code",
   "execution_count": 74,
   "metadata": {},
   "outputs": [
    {
     "data": {
      "text/plain": [
       "8980.191243848634"
      ]
     },
     "execution_count": 74,
     "metadata": {},
     "output_type": "execute_result"
    }
   ],
   "source": [
    "df_foottraffic.loc['남구']['유동인구밀도(km2당)']"
   ]
  },
  {
   "cell_type": "markdown",
   "metadata": {},
   "source": [
    "## 입지에 대한 확률 업데이트"
   ]
  },
  {
   "cell_type": "markdown",
   "metadata": {},
   "source": [
    "### 관측하고자 하는 입지\n",
    "\n",
    "전기차 : 주차장\n",
    "\n",
    "수소차 : LPG 충전소"
   ]
  },
  {
   "cell_type": "code",
   "execution_count": 75,
   "metadata": {},
   "outputs": [
    {
     "data": {
      "text/html": [
       "<div>\n",
       "<style scoped>\n",
       "    .dataframe tbody tr th:only-of-type {\n",
       "        vertical-align: middle;\n",
       "    }\n",
       "\n",
       "    .dataframe tbody tr th {\n",
       "        vertical-align: top;\n",
       "    }\n",
       "\n",
       "    .dataframe thead th {\n",
       "        text-align: right;\n",
       "    }\n",
       "</style>\n",
       "<table border=\"1\" class=\"dataframe\">\n",
       "  <thead>\n",
       "    <tr style=\"text-align: right;\">\n",
       "      <th></th>\n",
       "      <th>시도</th>\n",
       "      <th>행정구</th>\n",
       "      <th>법정동</th>\n",
       "      <th>행정동</th>\n",
       "      <th>주차장명</th>\n",
       "      <th>주차장구분</th>\n",
       "      <th>주차장유형</th>\n",
       "      <th>소재지지번주소</th>\n",
       "      <th>주차구획수</th>\n",
       "      <th>위도</th>\n",
       "      <th>...</th>\n",
       "      <th>충전소당 전기차 차량 수</th>\n",
       "      <th>도로 보급률</th>\n",
       "      <th>전기차 충전기 구축 비용</th>\n",
       "      <th>평균소득</th>\n",
       "      <th>전기 충전기 용량</th>\n",
       "      <th>환경적요인</th>\n",
       "      <th>사회적요인</th>\n",
       "      <th>경제적요인</th>\n",
       "      <th>기술적요인</th>\n",
       "      <th>최종확률</th>\n",
       "    </tr>\n",
       "  </thead>\n",
       "  <tbody>\n",
       "    <tr>\n",
       "      <th>0</th>\n",
       "      <td>부산광역시</td>\n",
       "      <td>사상구</td>\n",
       "      <td>모라동</td>\n",
       "      <td>모라1동</td>\n",
       "      <td>고동바위공영주차장</td>\n",
       "      <td>공영</td>\n",
       "      <td>노외</td>\n",
       "      <td>부산광역시 사상구 모라동  1359</td>\n",
       "      <td>41</td>\n",
       "      <td>35.188432</td>\n",
       "      <td>...</td>\n",
       "      <td>0.414815</td>\n",
       "      <td>0.795122</td>\n",
       "      <td>0.573963</td>\n",
       "      <td>0.907317</td>\n",
       "      <td>0.619718</td>\n",
       "      <td>0.860913</td>\n",
       "      <td>0.65</td>\n",
       "      <td>0.659171</td>\n",
       "      <td>0.730382</td>\n",
       "      <td>0.689919</td>\n",
       "    </tr>\n",
       "    <tr>\n",
       "      <th>1</th>\n",
       "      <td>부산광역시</td>\n",
       "      <td>사상구</td>\n",
       "      <td>모라동</td>\n",
       "      <td>모라1동</td>\n",
       "      <td>모라중학교 지하(노외)</td>\n",
       "      <td>공영</td>\n",
       "      <td>노외</td>\n",
       "      <td>부산광역시 사상구 모라동  1348</td>\n",
       "      <td>136</td>\n",
       "      <td>35.190036</td>\n",
       "      <td>...</td>\n",
       "      <td>0.414815</td>\n",
       "      <td>0.795122</td>\n",
       "      <td>0.573963</td>\n",
       "      <td>0.907317</td>\n",
       "      <td>0.619718</td>\n",
       "      <td>0.860913</td>\n",
       "      <td>0.65</td>\n",
       "      <td>0.659171</td>\n",
       "      <td>0.730382</td>\n",
       "      <td>0.689919</td>\n",
       "    </tr>\n",
       "    <tr>\n",
       "      <th>2</th>\n",
       "      <td>부산광역시</td>\n",
       "      <td>사상구</td>\n",
       "      <td>모라동</td>\n",
       "      <td>모라1동</td>\n",
       "      <td>감전역 역세권 공영주차장</td>\n",
       "      <td>공영</td>\n",
       "      <td>노외</td>\n",
       "      <td>부산광역시 사상구 모라동  1348</td>\n",
       "      <td>215</td>\n",
       "      <td>35.190036</td>\n",
       "      <td>...</td>\n",
       "      <td>0.414815</td>\n",
       "      <td>0.795122</td>\n",
       "      <td>0.573963</td>\n",
       "      <td>0.907317</td>\n",
       "      <td>0.619718</td>\n",
       "      <td>0.860913</td>\n",
       "      <td>0.65</td>\n",
       "      <td>0.659171</td>\n",
       "      <td>0.730382</td>\n",
       "      <td>0.689919</td>\n",
       "    </tr>\n",
       "    <tr>\n",
       "      <th>3</th>\n",
       "      <td>부산광역시</td>\n",
       "      <td>사상구</td>\n",
       "      <td>학장동</td>\n",
       "      <td>학장동</td>\n",
       "      <td>동영공업주변</td>\n",
       "      <td>공영</td>\n",
       "      <td>노상</td>\n",
       "      <td>부산광역시 사상구 학장동  748-1</td>\n",
       "      <td>414</td>\n",
       "      <td>35.140978</td>\n",
       "      <td>...</td>\n",
       "      <td>0.540741</td>\n",
       "      <td>0.600000</td>\n",
       "      <td>0.573963</td>\n",
       "      <td>1.000000</td>\n",
       "      <td>0.619718</td>\n",
       "      <td>0.700000</td>\n",
       "      <td>0.65</td>\n",
       "      <td>0.659171</td>\n",
       "      <td>0.730382</td>\n",
       "      <td>0.673828</td>\n",
       "    </tr>\n",
       "    <tr>\n",
       "      <th>4</th>\n",
       "      <td>부산광역시</td>\n",
       "      <td>사상구</td>\n",
       "      <td>주례동</td>\n",
       "      <td>주례3동</td>\n",
       "      <td>공영주차장(주례역)</td>\n",
       "      <td>공영</td>\n",
       "      <td>노상</td>\n",
       "      <td>부산광역시 사상구 주례동  506</td>\n",
       "      <td>8</td>\n",
       "      <td>35.149997</td>\n",
       "      <td>...</td>\n",
       "      <td>0.155556</td>\n",
       "      <td>0.151220</td>\n",
       "      <td>0.573963</td>\n",
       "      <td>1.000000</td>\n",
       "      <td>0.619718</td>\n",
       "      <td>0.860913</td>\n",
       "      <td>0.85</td>\n",
       "      <td>0.659171</td>\n",
       "      <td>0.730382</td>\n",
       "      <td>0.769919</td>\n",
       "    </tr>\n",
       "    <tr>\n",
       "      <th>...</th>\n",
       "      <td>...</td>\n",
       "      <td>...</td>\n",
       "      <td>...</td>\n",
       "      <td>...</td>\n",
       "      <td>...</td>\n",
       "      <td>...</td>\n",
       "      <td>...</td>\n",
       "      <td>...</td>\n",
       "      <td>...</td>\n",
       "      <td>...</td>\n",
       "      <td>...</td>\n",
       "      <td>...</td>\n",
       "      <td>...</td>\n",
       "      <td>...</td>\n",
       "      <td>...</td>\n",
       "      <td>...</td>\n",
       "      <td>...</td>\n",
       "      <td>...</td>\n",
       "      <td>...</td>\n",
       "      <td>...</td>\n",
       "      <td>...</td>\n",
       "    </tr>\n",
       "    <tr>\n",
       "      <th>629</th>\n",
       "      <td>부산광역시</td>\n",
       "      <td>사하구</td>\n",
       "      <td>괴정동</td>\n",
       "      <td>괴정2동</td>\n",
       "      <td>동주마루 공영주차장</td>\n",
       "      <td>공영</td>\n",
       "      <td>노외</td>\n",
       "      <td>부산광역시 사하구 괴정동  380-36</td>\n",
       "      <td>48</td>\n",
       "      <td>35.100100</td>\n",
       "      <td>...</td>\n",
       "      <td>0.496296</td>\n",
       "      <td>0.400000</td>\n",
       "      <td>0.573963</td>\n",
       "      <td>0.292683</td>\n",
       "      <td>0.619718</td>\n",
       "      <td>0.860913</td>\n",
       "      <td>1.00</td>\n",
       "      <td>0.459171</td>\n",
       "      <td>0.730382</td>\n",
       "      <td>0.769919</td>\n",
       "    </tr>\n",
       "    <tr>\n",
       "      <th>630</th>\n",
       "      <td>부산광역시</td>\n",
       "      <td>사하구</td>\n",
       "      <td>하단동</td>\n",
       "      <td>하단2동</td>\n",
       "      <td>을숙도 공영주차장</td>\n",
       "      <td>공영</td>\n",
       "      <td>노외</td>\n",
       "      <td>부산광역시 사하구 하단동  1149-5</td>\n",
       "      <td>340</td>\n",
       "      <td>35.109428</td>\n",
       "      <td>...</td>\n",
       "      <td>0.622222</td>\n",
       "      <td>0.014634</td>\n",
       "      <td>0.573963</td>\n",
       "      <td>0.668293</td>\n",
       "      <td>0.619718</td>\n",
       "      <td>0.850000</td>\n",
       "      <td>0.50</td>\n",
       "      <td>0.459171</td>\n",
       "      <td>0.730382</td>\n",
       "      <td>0.568828</td>\n",
       "    </tr>\n",
       "    <tr>\n",
       "      <th>631</th>\n",
       "      <td>부산광역시</td>\n",
       "      <td>사하구</td>\n",
       "      <td>신평동</td>\n",
       "      <td>신평1동</td>\n",
       "      <td>신평장림산업단지 공영주차장</td>\n",
       "      <td>공영</td>\n",
       "      <td>노외</td>\n",
       "      <td>부산광역시 사하구 신평동  545-2</td>\n",
       "      <td>140</td>\n",
       "      <td>35.088806</td>\n",
       "      <td>...</td>\n",
       "      <td>0.400000</td>\n",
       "      <td>0.370732</td>\n",
       "      <td>0.573963</td>\n",
       "      <td>0.356098</td>\n",
       "      <td>0.619718</td>\n",
       "      <td>0.860913</td>\n",
       "      <td>0.65</td>\n",
       "      <td>0.459171</td>\n",
       "      <td>0.730382</td>\n",
       "      <td>0.629919</td>\n",
       "    </tr>\n",
       "    <tr>\n",
       "      <th>632</th>\n",
       "      <td>부산광역시</td>\n",
       "      <td>사하구</td>\n",
       "      <td>장림동</td>\n",
       "      <td>장림1동</td>\n",
       "      <td>장림 노외 공영주차장</td>\n",
       "      <td>공영</td>\n",
       "      <td>노외</td>\n",
       "      <td>부산광역시 사하구 장림동  328-4</td>\n",
       "      <td>53</td>\n",
       "      <td>35.082143</td>\n",
       "      <td>...</td>\n",
       "      <td>0.281481</td>\n",
       "      <td>0.639024</td>\n",
       "      <td>0.573963</td>\n",
       "      <td>0.356098</td>\n",
       "      <td>0.619718</td>\n",
       "      <td>0.700000</td>\n",
       "      <td>0.65</td>\n",
       "      <td>0.459171</td>\n",
       "      <td>0.730382</td>\n",
       "      <td>0.613828</td>\n",
       "    </tr>\n",
       "    <tr>\n",
       "      <th>633</th>\n",
       "      <td>부산광역시</td>\n",
       "      <td>사하구</td>\n",
       "      <td>장림동</td>\n",
       "      <td>장림1동</td>\n",
       "      <td>장림동 복합 공영주차장</td>\n",
       "      <td>공영</td>\n",
       "      <td>노외</td>\n",
       "      <td>부산광역시 사하구 장림동  1144-1</td>\n",
       "      <td>236</td>\n",
       "      <td>35.081482</td>\n",
       "      <td>...</td>\n",
       "      <td>0.281481</td>\n",
       "      <td>0.639024</td>\n",
       "      <td>0.573963</td>\n",
       "      <td>0.356098</td>\n",
       "      <td>0.619718</td>\n",
       "      <td>0.700000</td>\n",
       "      <td>0.65</td>\n",
       "      <td>0.459171</td>\n",
       "      <td>0.730382</td>\n",
       "      <td>0.613828</td>\n",
       "    </tr>\n",
       "  </tbody>\n",
       "</table>\n",
       "<p>634 rows × 28 columns</p>\n",
       "</div>"
      ],
      "text/plain": [
       "        시도  행정구  법정동   행정동            주차장명 주차장구분 주차장유형                소재지지번주소  \\\n",
       "0    부산광역시  사상구  모라동  모라1동       고동바위공영주차장    공영    노외    부산광역시 사상구 모라동  1359   \n",
       "1    부산광역시  사상구  모라동  모라1동    모라중학교 지하(노외)    공영    노외    부산광역시 사상구 모라동  1348   \n",
       "2    부산광역시  사상구  모라동  모라1동   감전역 역세권 공영주차장    공영    노외    부산광역시 사상구 모라동  1348   \n",
       "3    부산광역시  사상구  학장동   학장동          동영공업주변    공영    노상   부산광역시 사상구 학장동  748-1   \n",
       "4    부산광역시  사상구  주례동  주례3동      공영주차장(주례역)    공영    노상     부산광역시 사상구 주례동  506   \n",
       "..     ...  ...  ...   ...             ...   ...   ...                    ...   \n",
       "629  부산광역시  사하구  괴정동  괴정2동      동주마루 공영주차장    공영    노외  부산광역시 사하구 괴정동  380-36   \n",
       "630  부산광역시  사하구  하단동  하단2동       을숙도 공영주차장    공영    노외  부산광역시 사하구 하단동  1149-5   \n",
       "631  부산광역시  사하구  신평동  신평1동  신평장림산업단지 공영주차장    공영    노외   부산광역시 사하구 신평동  545-2   \n",
       "632  부산광역시  사하구  장림동  장림1동     장림 노외 공영주차장    공영    노외   부산광역시 사하구 장림동  328-4   \n",
       "633  부산광역시  사하구  장림동  장림1동    장림동 복합 공영주차장    공영    노외  부산광역시 사하구 장림동  1144-1   \n",
       "\n",
       "     주차구획수         위도  ...  충전소당 전기차 차량 수    도로 보급률  전기차 충전기 구축 비용      평균소득  \\\n",
       "0       41  35.188432  ...       0.414815  0.795122       0.573963  0.907317   \n",
       "1      136  35.190036  ...       0.414815  0.795122       0.573963  0.907317   \n",
       "2      215  35.190036  ...       0.414815  0.795122       0.573963  0.907317   \n",
       "3      414  35.140978  ...       0.540741  0.600000       0.573963  1.000000   \n",
       "4        8  35.149997  ...       0.155556  0.151220       0.573963  1.000000   \n",
       "..     ...        ...  ...            ...       ...            ...       ...   \n",
       "629     48  35.100100  ...       0.496296  0.400000       0.573963  0.292683   \n",
       "630    340  35.109428  ...       0.622222  0.014634       0.573963  0.668293   \n",
       "631    140  35.088806  ...       0.400000  0.370732       0.573963  0.356098   \n",
       "632     53  35.082143  ...       0.281481  0.639024       0.573963  0.356098   \n",
       "633    236  35.081482  ...       0.281481  0.639024       0.573963  0.356098   \n",
       "\n",
       "     전기 충전기 용량     환경적요인  사회적요인     경제적요인     기술적요인      최종확률  \n",
       "0     0.619718  0.860913   0.65  0.659171  0.730382  0.689919  \n",
       "1     0.619718  0.860913   0.65  0.659171  0.730382  0.689919  \n",
       "2     0.619718  0.860913   0.65  0.659171  0.730382  0.689919  \n",
       "3     0.619718  0.700000   0.65  0.659171  0.730382  0.673828  \n",
       "4     0.619718  0.860913   0.85  0.659171  0.730382  0.769919  \n",
       "..         ...       ...    ...       ...       ...       ...  \n",
       "629   0.619718  0.860913   1.00  0.459171  0.730382  0.769919  \n",
       "630   0.619718  0.850000   0.50  0.459171  0.730382  0.568828  \n",
       "631   0.619718  0.860913   0.65  0.459171  0.730382  0.629919  \n",
       "632   0.619718  0.700000   0.65  0.459171  0.730382  0.613828  \n",
       "633   0.619718  0.700000   0.65  0.459171  0.730382  0.613828  \n",
       "\n",
       "[634 rows x 28 columns]"
      ]
     },
     "execution_count": 75,
     "metadata": {},
     "output_type": "execute_result"
    }
   ],
   "source": [
    "parking_file_path = 'C:\\\\Users\\\\SAMSUNG\\\\Desktop\\\\Green-Car-Charging-Station-Site-Selection\\\\Data\\\\부산 주차장 현황.csv'\n",
    "df_parking = pd.read_csv(parking_file_path,encoding='cp949')\n",
    "df_parking"
   ]
  },
  {
   "cell_type": "code",
   "execution_count": 76,
   "metadata": {},
   "outputs": [],
   "source": [
    "### LPG 충전소 현황 데이터 불러오기 (수소차)\n",
    "LPG_file_path = 'C:\\\\Users\\\\SAMSUNG\\\\Desktop\\\\Green-Car-Charging-Station-Site-Selection\\\\Data\\\\부산 LPG 충전소 현황(한국가스안전공사).csv'\n",
    "df_LPG = pd.read_csv(LPG_file_path, encoding='cp949')\n",
    "# 복합충전소를 위해 1500 m^2이상의 부지가 요구됨\n",
    "df_LPG = df_LPG[df_LPG['면적'] >= 1500].reset_index(drop=True)"
   ]
  },
  {
   "cell_type": "markdown",
   "metadata": {},
   "source": [
    "#### 관측된 데이트에 따른 확률 업데이트(전기차)"
   ]
  },
  {
   "cell_type": "code",
   "execution_count": 77,
   "metadata": {},
   "outputs": [],
   "source": [
    "def parking_update(name, infer_environment, infer_social_E, infer_economic_E, infer_technical_E, list_co, list_no2, list_o3, list_pm10, list_pm25, list_density, list_floating, list_EV_per_charger, list_street_supply, list_EVCS_cost, list_income, list_charge_capacity, co_pro, no2_pro, o3_pro, pm10_pro, pm25_pro):\n",
    "    # 해당 주차장의 후보지 \n",
    "    gu = df_parking[df_parking['주차장명']==name]['행정구'].values[0]  \n",
    "    dong = df_parking[df_parking['주차장명']==name]['법정동'].values[0]\n",
    "    dong_sep = df_parking[df_parking['주차장명']==name]['행정동'].values[0]     # 행정동 단위\n",
    "\n",
    "    # 환경적 변수값\n",
    "    list_A = df_air_pollution['stationName'].tolist()\n",
    "    if dong in list_A:\n",
    "        parking_co = df_air_pollution[df_air_pollution['stationName']==dong]['coValue'].values[0]\n",
    "        parking_no2 = df_air_pollution[df_air_pollution['stationName']==dong]['no2Value'].values[0]\n",
    "        parking_o3 = df_air_pollution[df_air_pollution['stationName']==dong]['o3Value'].values[0]\n",
    "        parking_pm10 = df_air_pollution[df_air_pollution['stationName']==dong]['pm10Value'].values[0]\n",
    "        parking_pm25 = df_air_pollution[df_air_pollution['stationName']==dong]['pm25Value'].values[0]\n",
    "\n",
    "        co_pro_p = cal_pro(df_air_pollution, 'coValue', parking_co, 0)\n",
    "        no2_pro_p = cal_pro(df_air_pollution, 'no2Value', parking_no2, 0)\n",
    "        o3_pro_p = cal_pro(df_air_pollution, 'o3Value', parking_o3, 0)\n",
    "        pm10_pro_p = cal_pro(df_air_pollution, 'pm10Value', parking_pm10, 0)\n",
    "        pm25_pro_p = cal_pro(df_air_pollution, 'pm25Value', parking_pm25, 0)\n",
    "        list_co.append(co_pro_p[0])\n",
    "        list_no2.append(no2_pro_p[0])\n",
    "        list_o3.append(o3_pro_p[0])\n",
    "        list_pm10.append(pm10_pro_p[0])\n",
    "        list_pm25.append(pm25_pro_p[0])\n",
    "        \n",
    "        if parking_co > co_standard:\n",
    "            co_state = 0 \n",
    "        else:\n",
    "            co_state = 1\n",
    "        \n",
    "        if parking_no2 > no2_standard:\n",
    "            no2_state = 0 \n",
    "        else:\n",
    "            no2_state = 1\n",
    "\n",
    "        if parking_o3 > o3_standard:\n",
    "            o3_state = 0 \n",
    "        else:\n",
    "            o3_state = 1\n",
    "\n",
    "        if parking_pm10 > pm10_standard:\n",
    "            pm10_state = 0 \n",
    "        else:\n",
    "            pm10_state = 1\n",
    "            \n",
    "        if parking_pm25 > pm25_standard:\n",
    "            pm25_state = 0 \n",
    "        else:\n",
    "            pm25_state = 1\n",
    "\n",
    "        result_env = infer_environment.query([\"environment\"], evidence={\"co\":co_state,\n",
    "                                                                        \"no2\":no2_state,\n",
    "                                                                        \"o3\":o3_state,\n",
    "                                                                        \"pm10\":pm10_state,\n",
    "                                                                        \"pm25\":pm25_state},\n",
    "                                             show_progress=False)\n",
    "    else:\n",
    "        list_co.append(co_pro)\n",
    "        list_no2.append(no2_pro)\n",
    "        list_o3.append(o3_pro)\n",
    "        list_pm10.append(pm10_pro)\n",
    "        list_pm25.append(pm25_pro)\n",
    "        \n",
    "        result_env = infer_environment.query([\"environment\"],show_progress=False)\n",
    "        \n",
    "    # 사회적 변수값\n",
    "    parking_density = df_density[df_density['행정구역(동읍면)별']==dong_sep]['인구밀도(km^2)'].values[0] \n",
    "    parking_floating = df_foottraffic.loc[gu]['유동인구밀도(km2당)']\n",
    "    parking_EV_per_charger = df_vehicle[df_vehicle['읍면동']==dong]['전기차충전소당 전기차 수'].values[0]\n",
    "    parking_street_supply = df_street_supply[df_street_supply['행정동']==dong_sep]['도로보급률'].values[0]\n",
    "\n",
    "    density_pro = cal_pro(df_density, '인구밀도(km^2)', parking_density, 0)\n",
    "    floating_pro = cal_pro(df_foottraffic, '유동인구밀도(km2당)', parking_floating, 0)\n",
    "    EV_per_charger_pro = cal_pro(df_vehicle, '전기차충전소당 전기차 수', parking_EV_per_charger, 0)\n",
    "    street_supply_pro = cal_pro(df_street_supply, '도로보급률', parking_street_supply, 0)\n",
    "\n",
    "    list_density.append(density_pro[0])\n",
    "    list_floating.append(floating_pro[0])\n",
    "    list_EV_per_charger.append(EV_per_charger_pro[0])\n",
    "    list_street_supply.append(street_supply_pro[0])\n",
    "\n",
    "    ### 관측된 수치를 기준치로 적합성 판단\n",
    "    # 0:적합, 1:부적합\n",
    "    if parking_density > density_standard:\n",
    "        density_state = 0 \n",
    "    else:\n",
    "        density_state = 1\n",
    "\n",
    "    if parking_floating > floating_standard:\n",
    "        floating_state = 0 \n",
    "    else:\n",
    "        floating_state = 1\n",
    "    \n",
    "    if parking_EV_per_charger > EV_per_charger_standard:\n",
    "        EV_per_charger_state = 0 \n",
    "    else:\n",
    "        EV_per_charger_state = 1\n",
    "    \n",
    "    if parking_street_supply > street_supply_standard:\n",
    "        street_supply_state = 0 \n",
    "    else:\n",
    "        street_supply_state = 1\n",
    "\n",
    "    # 경제적 변수값\n",
    "    parking_income = df_income[df_income['행정동']==dong_sep]['평균소득금액(만)'].values[0]\n",
    "\n",
    "    income_pro = cal_pro(df_income, '평균소득금액(만)', parking_income, 0)\n",
    "    \n",
    "    list_EVCS_cost.append(EVCS_cost_pro)\n",
    "    list_income.append(income_pro[0])\n",
    "\n",
    "    ### 관측된 수치를 기준치로 적합성 판단\n",
    "    # 0:적합, 1:부적합\n",
    "    if parking_income > income_standard:\n",
    "        income_state = 0\n",
    "    else:\n",
    "        income_state = 1\n",
    "\n",
    "    # 기술적 변수값\n",
    "    list_charge_capacity.append(capacity_100only_pro)\n",
    "         \n",
    "\n",
    "    ### 기술적 요인의 하위 변수 업데이트(전기)    \n",
    "    result_soc = infer_social_E.query([\"social_E\"], evidence={\"density\":density_state,\n",
    "                                                              \"floating\":floating_state,\n",
    "                                                              \"EV_per_charger\":EV_per_charger_state,\n",
    "                                                              \"street_supply\":street_supply_state},\n",
    "                                      show_progress=False)\n",
    "    result_eco = infer_economic_E.query([\"economic_E\"], evidence={\"income\":income_state}, show_progress=False)\n",
    "    result_tec = infer_technical_E.query([\"technical_E\"],show_progress=False)\n",
    "\n",
    "    pro_env = result_env.get_value(environment=0)\n",
    "    pro_soc = result_soc.get_value(social_E=0)\n",
    "    pro_eco = result_eco.get_value(economic_E=0)\n",
    "    pro_tec = result_tec.get_value(technical_E=0)\n",
    "\n",
    "    return pro_env, pro_soc, pro_eco, pro_tec"
   ]
  },
  {
   "cell_type": "code",
   "execution_count": 78,
   "metadata": {},
   "outputs": [],
   "source": [
    "parking_list = df_parking['주차장명'].tolist()\n",
    "list_co = []\n",
    "list_no2 = []\n",
    "list_o3 = []\n",
    "list_pm10 = []\n",
    "list_pm25 = []\n",
    "list_density = []\n",
    "list_floating = []\n",
    "list_EV_per_charger = []\n",
    "list_street_supply = []\n",
    "list_EVCS_cost = []\n",
    "list_income = []\n",
    "list_charge_capacity = []\n",
    "\n",
    "list_env_E = []\n",
    "list_soc_E = []\n",
    "list_eco_E = []\n",
    "list_tec_E = []\n",
    "list_total_E = []\n",
    "\n",
    "list_total_E_ex_env = []\n",
    "list_total_E_ex_soc = []\n",
    "list_total_E_ex_eco = []\n",
    "list_total_E_ex_tec = []\n",
    "\n",
    "for place in parking_list:\n",
    "    pro_env_E, pro_soc_E, pro_eco_E, pro_tec_E = parking_update(place, infer_environment, infer_social_E, infer_economic_E, infer_technical_E, list_co, list_no2, list_o3, list_pm10, list_pm25, list_density, list_floating, list_EV_per_charger, list_street_supply, list_EVCS_cost, list_income, list_charge_capacity, co_pro, no2_pro, o3_pro, pm10_pro, pm25_pro)\n",
    "    list_env_E.append(round(pro_env_E,6))\n",
    "    list_soc_E.append(round(pro_soc_E,6))\n",
    "    list_eco_E.append(round(pro_eco_E,6))\n",
    "    list_tec_E.append(round(pro_tec_E,6))\n",
    "    # 가중치를 통해 최종확률 도출\n",
    "    total_pro = 0\n",
    "    total_pro += pro_env_E * weight_total[0]\n",
    "    total_pro += pro_soc_E * weight_total[1]\n",
    "    total_pro += pro_eco_E * weight_total[2]\n",
    "    total_pro += pro_tec_E * weight_total[3]\n",
    "    list_total_E.append(round(total_pro,6))\n",
    "\n",
    "    # 전파분석\n",
    "    total_pro = 0\n",
    "    total_pro += 1 * weight_total[0]\n",
    "    total_pro += pro_soc_E * weight_total[1]\n",
    "    total_pro += pro_eco_E * weight_total[2]\n",
    "    total_pro += pro_tec_E * weight_total[3]\n",
    "    list_total_E_ex_env.append(round(total_pro,6))\n",
    "\n",
    "    total_pro = 0\n",
    "    total_pro += pro_env_E * weight_total[0]\n",
    "    total_pro += 1 * weight_total[1]\n",
    "    total_pro += pro_eco_E * weight_total[2]\n",
    "    total_pro += pro_tec_E * weight_total[3]\n",
    "    list_total_E_ex_soc.append(round(total_pro,6))\n",
    "\n",
    "    total_pro = 0\n",
    "    total_pro += pro_env_E * weight_total[0]\n",
    "    total_pro += pro_soc_E * weight_total[1]\n",
    "    total_pro += 1 * weight_total[2]\n",
    "    total_pro += pro_tec_E * weight_total[3]\n",
    "    list_total_E_ex_eco.append(round(total_pro,6))\n",
    "\n",
    "    total_pro = 0\n",
    "    total_pro += pro_env_E * weight_total[0]\n",
    "    total_pro += pro_soc_E * weight_total[1]\n",
    "    total_pro += pro_eco_E * weight_total[2]\n",
    "    total_pro += 1 * weight_total[3]\n",
    "    list_total_E_ex_tec.append(round(total_pro,6))"
   ]
  },
  {
   "cell_type": "code",
   "execution_count": 79,
   "metadata": {},
   "outputs": [
    {
     "ename": "ValueError",
     "evalue": "cannot insert 전기 충전기 용량, already exists",
     "output_type": "error",
     "traceback": [
      "\u001b[1;31m---------------------------------------------------------------------------\u001b[0m",
      "\u001b[1;31mValueError\u001b[0m                                Traceback (most recent call last)",
      "\u001b[1;32mc:\\Users\\SAMSUNG\\Desktop\\Green-Car-Charging-Station-Site-Selection\\Notebook\\GVCS\\GVCS.ipynb 셀 126\u001b[0m in \u001b[0;36m<cell line: 11>\u001b[1;34m()\u001b[0m\n\u001b[0;32m      <a href='vscode-notebook-cell:/c%3A/Users/SAMSUNG/Desktop/Green-Car-Charging-Station-Site-Selection/Notebook/GVCS/GVCS.ipynb#Y236sZmlsZQ%3D%3D?line=0'>1</a>\u001b[0m \u001b[39m# df_parking.insert(11,'기술적요인(True) 최종확률',list_total_E_ex_tec)\u001b[39;00m\n\u001b[0;32m      <a href='vscode-notebook-cell:/c%3A/Users/SAMSUNG/Desktop/Green-Car-Charging-Station-Site-Selection/Notebook/GVCS/GVCS.ipynb#Y236sZmlsZQ%3D%3D?line=1'>2</a>\u001b[0m \u001b[39m# df_parking.insert(11,'경제적요인(True) 최종확률',list_total_E_ex_eco)\u001b[39;00m\n\u001b[0;32m      <a href='vscode-notebook-cell:/c%3A/Users/SAMSUNG/Desktop/Green-Car-Charging-Station-Site-Selection/Notebook/GVCS/GVCS.ipynb#Y236sZmlsZQ%3D%3D?line=2'>3</a>\u001b[0m \u001b[39m# df_parking.insert(11,'사회적요인(True) 최종확률',list_total_E_ex_soc)\u001b[39;00m\n\u001b[1;32m   (...)\u001b[0m\n\u001b[0;32m      <a href='vscode-notebook-cell:/c%3A/Users/SAMSUNG/Desktop/Green-Car-Charging-Station-Site-Selection/Notebook/GVCS/GVCS.ipynb#Y236sZmlsZQ%3D%3D?line=7'>8</a>\u001b[0m \u001b[39m# df_parking.insert(11,'사회적요인',list_soc_E)\u001b[39;00m\n\u001b[0;32m      <a href='vscode-notebook-cell:/c%3A/Users/SAMSUNG/Desktop/Green-Car-Charging-Station-Site-Selection/Notebook/GVCS/GVCS.ipynb#Y236sZmlsZQ%3D%3D?line=8'>9</a>\u001b[0m \u001b[39m# df_parking.insert(11,'환경적요인',list_env_E)\u001b[39;00m\n\u001b[1;32m---> <a href='vscode-notebook-cell:/c%3A/Users/SAMSUNG/Desktop/Green-Car-Charging-Station-Site-Selection/Notebook/GVCS/GVCS.ipynb#Y236sZmlsZQ%3D%3D?line=10'>11</a>\u001b[0m df_parking\u001b[39m.\u001b[39;49minsert(\u001b[39m11\u001b[39;49m,\u001b[39m'\u001b[39;49m\u001b[39m전기 충전기 용량\u001b[39;49m\u001b[39m'\u001b[39;49m, list_charge_capacity)\n\u001b[0;32m     <a href='vscode-notebook-cell:/c%3A/Users/SAMSUNG/Desktop/Green-Car-Charging-Station-Site-Selection/Notebook/GVCS/GVCS.ipynb#Y236sZmlsZQ%3D%3D?line=11'>12</a>\u001b[0m df_parking\u001b[39m.\u001b[39minsert(\u001b[39m11\u001b[39m,\u001b[39m'\u001b[39m\u001b[39m평균소득\u001b[39m\u001b[39m'\u001b[39m, list_income)\n\u001b[0;32m     <a href='vscode-notebook-cell:/c%3A/Users/SAMSUNG/Desktop/Green-Car-Charging-Station-Site-Selection/Notebook/GVCS/GVCS.ipynb#Y236sZmlsZQ%3D%3D?line=12'>13</a>\u001b[0m df_parking\u001b[39m.\u001b[39minsert(\u001b[39m11\u001b[39m,\u001b[39m'\u001b[39m\u001b[39m전기차 충전기 구축 비용\u001b[39m\u001b[39m'\u001b[39m, list_EVCS_cost)\n",
      "File \u001b[1;32mc:\\Users\\SAMSUNG\\anaconda3\\envs\\GVCS\\lib\\site-packages\\pandas\\core\\frame.py:4440\u001b[0m, in \u001b[0;36mDataFrame.insert\u001b[1;34m(self, loc, column, value, allow_duplicates)\u001b[0m\n\u001b[0;32m   4434\u001b[0m     \u001b[39mraise\u001b[39;00m \u001b[39mValueError\u001b[39;00m(\n\u001b[0;32m   4435\u001b[0m         \u001b[39m\"\u001b[39m\u001b[39mCannot specify \u001b[39m\u001b[39m'\u001b[39m\u001b[39mallow_duplicates=True\u001b[39m\u001b[39m'\u001b[39m\u001b[39m when \u001b[39m\u001b[39m\"\u001b[39m\n\u001b[0;32m   4436\u001b[0m         \u001b[39m\"\u001b[39m\u001b[39m'\u001b[39m\u001b[39mself.flags.allows_duplicate_labels\u001b[39m\u001b[39m'\u001b[39m\u001b[39m is False.\u001b[39m\u001b[39m\"\u001b[39m\n\u001b[0;32m   4437\u001b[0m     )\n\u001b[0;32m   4438\u001b[0m \u001b[39mif\u001b[39;00m \u001b[39mnot\u001b[39;00m allow_duplicates \u001b[39mand\u001b[39;00m column \u001b[39min\u001b[39;00m \u001b[39mself\u001b[39m\u001b[39m.\u001b[39mcolumns:\n\u001b[0;32m   4439\u001b[0m     \u001b[39m# Should this be a different kind of error??\u001b[39;00m\n\u001b[1;32m-> 4440\u001b[0m     \u001b[39mraise\u001b[39;00m \u001b[39mValueError\u001b[39;00m(\u001b[39mf\u001b[39m\u001b[39m\"\u001b[39m\u001b[39mcannot insert \u001b[39m\u001b[39m{\u001b[39;00mcolumn\u001b[39m}\u001b[39;00m\u001b[39m, already exists\u001b[39m\u001b[39m\"\u001b[39m)\n\u001b[0;32m   4441\u001b[0m \u001b[39mif\u001b[39;00m \u001b[39mnot\u001b[39;00m \u001b[39misinstance\u001b[39m(loc, \u001b[39mint\u001b[39m):\n\u001b[0;32m   4442\u001b[0m     \u001b[39mraise\u001b[39;00m \u001b[39mTypeError\u001b[39;00m(\u001b[39m\"\u001b[39m\u001b[39mloc must be int\u001b[39m\u001b[39m\"\u001b[39m)\n",
      "\u001b[1;31mValueError\u001b[0m: cannot insert 전기 충전기 용량, already exists"
     ]
    }
   ],
   "source": [
    "# df_parking.insert(11,'기술적요인(True) 최종확률',list_total_E_ex_tec)\n",
    "# df_parking.insert(11,'경제적요인(True) 최종확률',list_total_E_ex_eco)\n",
    "# df_parking.insert(11,'사회적요인(True) 최종확률',list_total_E_ex_soc)\n",
    "# df_parking.insert(11,'환경적요인(True) 최종확률',list_total_E_ex_env)\n",
    "# df_parking.insert(11,'최종확률',list_total_E)\n",
    "# df_parking.insert(11,'기술적요인',list_tec_E)\n",
    "# df_parking.insert(11,'경제적요인',list_eco_E)\n",
    "# df_parking.insert(11,'사회적요인',list_soc_E)\n",
    "# df_parking.insert(11,'환경적요인',list_env_E)\n",
    "\n",
    "df_parking.insert(11,'전기 충전기 용량', list_charge_capacity)\n",
    "df_parking.insert(11,'평균소득', list_income)\n",
    "df_parking.insert(11,'전기차 충전기 구축 비용', list_EVCS_cost)\n",
    "df_parking.insert(11,'도로 보급률', list_street_supply)\n",
    "df_parking.insert(11,'충전소당 전기차 차량 수', list_EV_per_charger)\n",
    "df_parking.insert(11,'월 평균 유동인구 인구밀도', list_floating)\n",
    "df_parking.insert(11,'고정인구 인구밀도', list_density)\n",
    "df_parking.insert(11,'pm25', list_pm25)\n",
    "df_parking.insert(11,'pm10', list_pm10)\n",
    "df_parking.insert(11,'o3', list_o3)\n",
    "df_parking.insert(11,'no2', list_no2)\n",
    "df_parking.insert(11,'co', list_co)\n",
    "df_parking"
   ]
  },
  {
   "cell_type": "code",
   "execution_count": null,
   "metadata": {},
   "outputs": [
    {
     "ename": "KeyError",
     "evalue": "'환경적요인(True) 최종확률'",
     "output_type": "error",
     "traceback": [
      "\u001b[1;31m---------------------------------------------------------------------------\u001b[0m",
      "\u001b[1;31mKeyError\u001b[0m                                  Traceback (most recent call last)",
      "File \u001b[1;32mc:\\Users\\SAMSUNG\\anaconda3\\envs\\GVCS\\lib\\site-packages\\pandas\\core\\indexes\\base.py:3621\u001b[0m, in \u001b[0;36mIndex.get_loc\u001b[1;34m(self, key, method, tolerance)\u001b[0m\n\u001b[0;32m   3620\u001b[0m \u001b[39mtry\u001b[39;00m:\n\u001b[1;32m-> 3621\u001b[0m     \u001b[39mreturn\u001b[39;00m \u001b[39mself\u001b[39;49m\u001b[39m.\u001b[39;49m_engine\u001b[39m.\u001b[39;49mget_loc(casted_key)\n\u001b[0;32m   3622\u001b[0m \u001b[39mexcept\u001b[39;00m \u001b[39mKeyError\u001b[39;00m \u001b[39mas\u001b[39;00m err:\n",
      "File \u001b[1;32mc:\\Users\\SAMSUNG\\anaconda3\\envs\\GVCS\\lib\\site-packages\\pandas\\_libs\\index.pyx:136\u001b[0m, in \u001b[0;36mpandas._libs.index.IndexEngine.get_loc\u001b[1;34m()\u001b[0m\n",
      "File \u001b[1;32mc:\\Users\\SAMSUNG\\anaconda3\\envs\\GVCS\\lib\\site-packages\\pandas\\_libs\\index.pyx:163\u001b[0m, in \u001b[0;36mpandas._libs.index.IndexEngine.get_loc\u001b[1;34m()\u001b[0m\n",
      "File \u001b[1;32mpandas\\_libs\\hashtable_class_helper.pxi:5198\u001b[0m, in \u001b[0;36mpandas._libs.hashtable.PyObjectHashTable.get_item\u001b[1;34m()\u001b[0m\n",
      "File \u001b[1;32mpandas\\_libs\\hashtable_class_helper.pxi:5206\u001b[0m, in \u001b[0;36mpandas._libs.hashtable.PyObjectHashTable.get_item\u001b[1;34m()\u001b[0m\n",
      "\u001b[1;31mKeyError\u001b[0m: '환경적요인(True) 최종확률'",
      "\nThe above exception was the direct cause of the following exception:\n",
      "\u001b[1;31mKeyError\u001b[0m                                  Traceback (most recent call last)",
      "\u001b[1;32mc:\\Users\\SAMSUNG\\Desktop\\Green-Car-Charging-Station-Site-Selection\\Notebook\\GVCS\\GVCS.ipynb 셀 127\u001b[0m in \u001b[0;36m<cell line: 1>\u001b[1;34m()\u001b[0m\n\u001b[1;32m----> <a href='vscode-notebook-cell:/c%3A/Users/SAMSUNG/Desktop/Green-Car-Charging-Station-Site-Selection/Notebook/GVCS/GVCS.ipynb#Y242sZmlsZQ%3D%3D?line=0'>1</a>\u001b[0m \u001b[39mprint\u001b[39m(df_parking[\u001b[39m'\u001b[39;49m\u001b[39m환경적요인(True) 최종확률\u001b[39;49m\u001b[39m'\u001b[39;49m]\u001b[39m.\u001b[39mmin(),\u001b[39m\"\u001b[39m\u001b[39m/\u001b[39m\u001b[39m\"\u001b[39m,df_parking[\u001b[39m'\u001b[39m\u001b[39m환경적요인(True) 최종확률\u001b[39m\u001b[39m'\u001b[39m]\u001b[39m.\u001b[39mmax(), \u001b[39m\"\u001b[39m\u001b[39m diff = \u001b[39m\u001b[39m\"\u001b[39m, df_parking[\u001b[39m'\u001b[39m\u001b[39m환경적요인(True) 최종확률\u001b[39m\u001b[39m'\u001b[39m]\u001b[39m.\u001b[39mmax()\u001b[39m-\u001b[39mdf_parking[\u001b[39m'\u001b[39m\u001b[39m환경적요인(True) 최종확률\u001b[39m\u001b[39m'\u001b[39m]\u001b[39m.\u001b[39mmin())\n\u001b[0;32m      <a href='vscode-notebook-cell:/c%3A/Users/SAMSUNG/Desktop/Green-Car-Charging-Station-Site-Selection/Notebook/GVCS/GVCS.ipynb#Y242sZmlsZQ%3D%3D?line=1'>2</a>\u001b[0m \u001b[39mprint\u001b[39m(df_parking[\u001b[39m'\u001b[39m\u001b[39m사회적요인(True) 최종확률\u001b[39m\u001b[39m'\u001b[39m]\u001b[39m.\u001b[39mmin(),\u001b[39m\"\u001b[39m\u001b[39m/\u001b[39m\u001b[39m\"\u001b[39m,df_parking[\u001b[39m'\u001b[39m\u001b[39m사회적요인(True) 최종확률\u001b[39m\u001b[39m'\u001b[39m]\u001b[39m.\u001b[39mmax(), \u001b[39m\"\u001b[39m\u001b[39m diff = \u001b[39m\u001b[39m\"\u001b[39m, df_parking[\u001b[39m'\u001b[39m\u001b[39m사회적요인(True) 최종확률\u001b[39m\u001b[39m'\u001b[39m]\u001b[39m.\u001b[39mmax()\u001b[39m-\u001b[39mdf_parking[\u001b[39m'\u001b[39m\u001b[39m사회적요인(True) 최종확률\u001b[39m\u001b[39m'\u001b[39m]\u001b[39m.\u001b[39mmin())\n\u001b[0;32m      <a href='vscode-notebook-cell:/c%3A/Users/SAMSUNG/Desktop/Green-Car-Charging-Station-Site-Selection/Notebook/GVCS/GVCS.ipynb#Y242sZmlsZQ%3D%3D?line=2'>3</a>\u001b[0m \u001b[39mprint\u001b[39m(df_parking[\u001b[39m'\u001b[39m\u001b[39m경제적요인(True) 최종확률\u001b[39m\u001b[39m'\u001b[39m]\u001b[39m.\u001b[39mmin(),\u001b[39m\"\u001b[39m\u001b[39m/\u001b[39m\u001b[39m\"\u001b[39m,df_parking[\u001b[39m'\u001b[39m\u001b[39m경제적요인(True) 최종확률\u001b[39m\u001b[39m'\u001b[39m]\u001b[39m.\u001b[39mmax(), \u001b[39m\"\u001b[39m\u001b[39m diff = \u001b[39m\u001b[39m\"\u001b[39m, df_parking[\u001b[39m'\u001b[39m\u001b[39m경제적요인(True) 최종확률\u001b[39m\u001b[39m'\u001b[39m]\u001b[39m.\u001b[39mmax()\u001b[39m-\u001b[39mdf_parking[\u001b[39m'\u001b[39m\u001b[39m경제적요인(True) 최종확률\u001b[39m\u001b[39m'\u001b[39m]\u001b[39m.\u001b[39mmin())\n",
      "File \u001b[1;32mc:\\Users\\SAMSUNG\\anaconda3\\envs\\GVCS\\lib\\site-packages\\pandas\\core\\frame.py:3505\u001b[0m, in \u001b[0;36mDataFrame.__getitem__\u001b[1;34m(self, key)\u001b[0m\n\u001b[0;32m   3503\u001b[0m \u001b[39mif\u001b[39;00m \u001b[39mself\u001b[39m\u001b[39m.\u001b[39mcolumns\u001b[39m.\u001b[39mnlevels \u001b[39m>\u001b[39m \u001b[39m1\u001b[39m:\n\u001b[0;32m   3504\u001b[0m     \u001b[39mreturn\u001b[39;00m \u001b[39mself\u001b[39m\u001b[39m.\u001b[39m_getitem_multilevel(key)\n\u001b[1;32m-> 3505\u001b[0m indexer \u001b[39m=\u001b[39m \u001b[39mself\u001b[39;49m\u001b[39m.\u001b[39;49mcolumns\u001b[39m.\u001b[39;49mget_loc(key)\n\u001b[0;32m   3506\u001b[0m \u001b[39mif\u001b[39;00m is_integer(indexer):\n\u001b[0;32m   3507\u001b[0m     indexer \u001b[39m=\u001b[39m [indexer]\n",
      "File \u001b[1;32mc:\\Users\\SAMSUNG\\anaconda3\\envs\\GVCS\\lib\\site-packages\\pandas\\core\\indexes\\base.py:3623\u001b[0m, in \u001b[0;36mIndex.get_loc\u001b[1;34m(self, key, method, tolerance)\u001b[0m\n\u001b[0;32m   3621\u001b[0m     \u001b[39mreturn\u001b[39;00m \u001b[39mself\u001b[39m\u001b[39m.\u001b[39m_engine\u001b[39m.\u001b[39mget_loc(casted_key)\n\u001b[0;32m   3622\u001b[0m \u001b[39mexcept\u001b[39;00m \u001b[39mKeyError\u001b[39;00m \u001b[39mas\u001b[39;00m err:\n\u001b[1;32m-> 3623\u001b[0m     \u001b[39mraise\u001b[39;00m \u001b[39mKeyError\u001b[39;00m(key) \u001b[39mfrom\u001b[39;00m \u001b[39merr\u001b[39;00m\n\u001b[0;32m   3624\u001b[0m \u001b[39mexcept\u001b[39;00m \u001b[39mTypeError\u001b[39;00m:\n\u001b[0;32m   3625\u001b[0m     \u001b[39m# If we have a listlike key, _check_indexing_error will raise\u001b[39;00m\n\u001b[0;32m   3626\u001b[0m     \u001b[39m#  InvalidIndexError. Otherwise we fall through and re-raise\u001b[39;00m\n\u001b[0;32m   3627\u001b[0m     \u001b[39m#  the TypeError.\u001b[39;00m\n\u001b[0;32m   3628\u001b[0m     \u001b[39mself\u001b[39m\u001b[39m.\u001b[39m_check_indexing_error(key)\n",
      "\u001b[1;31mKeyError\u001b[0m: '환경적요인(True) 최종확률'"
     ]
    }
   ],
   "source": [
    "print(df_parking['환경적요인(True) 최종확률'].min(),\"/\",df_parking['환경적요인(True) 최종확률'].max(), \" diff = \", df_parking['환경적요인(True) 최종확률'].max()-df_parking['환경적요인(True) 최종확률'].min())\n",
    "print(df_parking['사회적요인(True) 최종확률'].min(),\"/\",df_parking['사회적요인(True) 최종확률'].max(), \" diff = \", df_parking['사회적요인(True) 최종확률'].max()-df_parking['사회적요인(True) 최종확률'].min())\n",
    "print(df_parking['경제적요인(True) 최종확률'].min(),\"/\",df_parking['경제적요인(True) 최종확률'].max(), \" diff = \", df_parking['경제적요인(True) 최종확률'].max()-df_parking['경제적요인(True) 최종확률'].min())\n",
    "print(df_parking['기술적요인(True) 최종확률'].min(),\"/\",df_parking['기술적요인(True) 최종확률'].max(), \" diff = \", df_parking['기술적요인(True) 최종확률'].max()-df_parking['기술적요인(True) 최종확률'].min())\n"
   ]
  },
  {
   "cell_type": "code",
   "execution_count": null,
   "metadata": {},
   "outputs": [],
   "source": [
    "df_parking.to_csv(parking_file_path,encoding='cp949',index=False)"
   ]
  },
  {
   "cell_type": "markdown",
   "metadata": {},
   "source": [
    "#### 관측된 데이터에 따른 확률 업데이트(수소차)"
   ]
  },
  {
   "cell_type": "code",
   "execution_count": 80,
   "metadata": {},
   "outputs": [],
   "source": [
    "def LPG_update(name, infer_environment, infer_social_H, infer_economic_H, infer_technical_H, list_co, list_no2, list_o3, list_pm10, list_pm25, list_density, list_floating, list_HV_per_charger, list_street_supply, list_HVCS_cost, list_income, list_HVCS_income, list_HVCS_type, list_maximum_charge, co_pro, no2_pro, o3_pro, pm10_pro, pm25_pro):\n",
    "    # 해당 주차장의 후보지 \n",
    "    gu = df_LPG[df_LPG['업소명']==name]['행정구'].values[0]  \n",
    "    dong = df_LPG[df_LPG['업소명']==name]['법정동'].values[0]\n",
    "    dong_sep = df_LPG[df_LPG['업소명']==name]['행정동'].values[0]     # 행정동 단위\n",
    "    # 환경적 변수값\n",
    "    list_A = df_air_pollution['stationName'].tolist()\n",
    "    if dong in list_A:\n",
    "        LPG_co = df_air_pollution[df_air_pollution['stationName']==dong]['coValue'].values[0]\n",
    "        LPG_no2 = df_air_pollution[df_air_pollution['stationName']==dong]['no2Value'].values[0]\n",
    "        LPG_o3 = df_air_pollution[df_air_pollution['stationName']==dong]['o3Value'].values[0]\n",
    "        LPG_pm10 = df_air_pollution[df_air_pollution['stationName']==dong]['pm10Value'].values[0]\n",
    "        LPG_pm25 = df_air_pollution[df_air_pollution['stationName']==dong]['pm25Value'].values[0]\n",
    "\n",
    "        co_pro_p = cal_pro(df_air_pollution, 'coValue', LPG_co, 0)\n",
    "        no2_pro_p = cal_pro(df_air_pollution, 'no2Value', LPG_no2, 0)\n",
    "        o3_pro_p = cal_pro(df_air_pollution, 'o3Value', LPG_o3, 0)\n",
    "        pm10_pro_p = cal_pro(df_air_pollution, 'pm10Value', LPG_pm10, 0)\n",
    "        pm25_pro_p = cal_pro(df_air_pollution, 'pm25Value', LPG_pm25, 0)\n",
    "        \n",
    "        list_co.append(co_pro_p[0])\n",
    "        list_no2.append(no2_pro_p[0])\n",
    "        list_o3.append(o3_pro_p[0])\n",
    "        list_pm10.append(pm10_pro_p[0])\n",
    "        list_pm25.append(pm25_pro_p[0])\n",
    "\n",
    "        if LPG_co > co_standard:\n",
    "            co_state = 0 \n",
    "        else:\n",
    "            co_state = 1\n",
    "        \n",
    "        if LPG_no2 > no2_standard:\n",
    "            no2_state = 0 \n",
    "        else:\n",
    "            no2_state = 1\n",
    "\n",
    "        if LPG_o3 > o3_standard:\n",
    "            o3_state = 0 \n",
    "        else:\n",
    "            o3_state = 1\n",
    "\n",
    "        if LPG_pm10 > pm10_standard:\n",
    "            pm10_state = 0 \n",
    "        else:\n",
    "            pm10_state = 1\n",
    "            \n",
    "        if LPG_pm25 > pm25_standard:\n",
    "            pm25_state = 0 \n",
    "        else:\n",
    "            pm25_state = 1\n",
    "\n",
    "        result_env = infer_environment.query([\"environment\"], evidence={\"co\":co_state,\n",
    "                                                                        \"no2\":no2_state,\n",
    "                                                                        \"o3\":o3_state,\n",
    "                                                                        \"pm10\":pm10_state,\n",
    "                                                                        \"pm25\":pm25_state},\n",
    "                                             show_progress=False)\n",
    "    else:\n",
    "        list_co.append(co_pro)\n",
    "        list_no2.append(no2_pro)\n",
    "        list_o3.append(o3_pro)\n",
    "        list_pm10.append(pm10_pro)\n",
    "        list_pm25.append(pm25_pro)\n",
    "\n",
    "        result_env = infer_environment.query([\"environment\"],show_progress=False)\n",
    "\n",
    "    # 사회적 변수값\n",
    "    LPG_density = df_density[df_density['행정구역(동읍면)별']==dong_sep]['인구밀도(km^2)'].values[0] \n",
    "    LPG_floating = df_foottraffic.loc[gu]['유동인구밀도(km2당)']\n",
    "    LPG_street_supply = df_street_supply[df_street_supply['행정동']==dong_sep]['도로보급률'].values[0]\n",
    "\n",
    "    density_pro = cal_pro(df_density, '인구밀도(km^2)', LPG_density, 0)\n",
    "    floating_pro = cal_pro(df_foottraffic, '유동인구밀도(km2당)', LPG_floating, 0)\n",
    "    street_supply_pro = cal_pro(df_street_supply, '도로보급률', LPG_street_supply, 0)\n",
    "\n",
    "    list_density.append(density_pro[0])\n",
    "    list_floating.append(floating_pro[0])\n",
    "    list_HV_per_charger.append(HV_per_charger_pro)\n",
    "    list_street_supply.append(street_supply_pro[0])\n",
    "\n",
    "    # 경제적 변수값\n",
    "    LPG_HVCS_cost = df_HVCS_cost.loc['천연가스개질']['구축 비용']\n",
    "    LPG_income = df_income[df_income['행정동']==dong_sep]['평균소득금액(만)'].values[0]\n",
    "    \n",
    "    HVCS_cost_pro = cal_pro(df_HVCS_cost, '구축 비용', df_HVCS_cost.loc['천연가스개질']['구축 비용'], 1)\n",
    "    income_pro = cal_pro(df_income, '평균소득금액(만)', LPG_income, 0)\n",
    "\n",
    "    list_HVCS_cost.append(HVCS_cost_pro[0])\n",
    "    list_income.append(income_pro[0])\n",
    "    list_HVCS_income.append(HVCS_income_pro)\n",
    "\n",
    "    # 기술적 변수값\n",
    "    LPG_HVCS_type = '천연가스개질'\n",
    "    HVCS_type_pro = cal_pro(df_HVCS, '공급방식', LPG_HVCS_type, 0)\n",
    "\n",
    "    list_HVCS_type.append(HVCS_type_pro[0])\n",
    "    list_maximum_charge.append(maximum_charge_pro)    \n",
    "    \n",
    "    ### 관측된 수치를 기준치로 적합성 판단\n",
    "    # 0:적합, 1:부적합\n",
    "    if LPG_density > density_standard:\n",
    "        density_state = 0 \n",
    "    else:\n",
    "        density_state = 1\n",
    "\n",
    "    if LPG_floating > floating_standard:\n",
    "        floating_state = 0 \n",
    "    else:\n",
    "        floating_state = 1\n",
    "    \n",
    "    if LPG_street_supply > street_supply_standard:\n",
    "        street_supply_state = 0 \n",
    "    else:\n",
    "        street_supply_state = 1\n",
    "\n",
    "    if LPG_HVCS_cost > HVCS_cost_standard:\n",
    "        street_supply_state = 1 \n",
    "    else:\n",
    "        street_supply_state = 0\n",
    "\n",
    "    if LPG_income > income_standard:\n",
    "        income_state = 0\n",
    "    else:\n",
    "        income_state = 1\n",
    "\n",
    "    if LPG_HVCS_type == '천연가스개질':\n",
    "        HVCS_type_state = 1 # 천연가스개질\n",
    "    else:\n",
    "        HVCS_type_state = 0 # 튜브트레일러\n",
    "        \n",
    "\n",
    "    ### 기술적 요인의 하위 변수 업데이트(전기)    \n",
    "    result_soc = infer_social_H.query([\"social_H\"], evidence={\"density\":density_state,\n",
    "                                                              \"floating\":floating_state,\n",
    "                                                              \"street_supply\":street_supply_state},\n",
    "                                      show_progress=False)\n",
    "    result_eco = infer_economic_H.query([\"economic_H\"], evidence={\"income\":income_state}, show_progress=False)\n",
    "    result_tec = infer_technical_H.query([\"technical_H\"],evidence={\"HVCS_type\":HVCS_type_state}, show_progress=False)\n",
    "\n",
    "    pro_env = result_env.get_value(environment=0)\n",
    "    pro_soc = result_soc.get_value(social_H=0)\n",
    "    pro_eco = result_eco.get_value(economic_H=0)\n",
    "    pro_tec = result_tec.get_value(technical_H=0)\n",
    "\n",
    "    return pro_env, pro_soc, pro_eco, pro_tec"
   ]
  },
  {
   "cell_type": "code",
   "execution_count": 82,
   "metadata": {},
   "outputs": [],
   "source": [
    "LPG_list = df_LPG['업소명'].tolist()\n",
    "\n",
    "list_co = []\n",
    "list_no2 = []\n",
    "list_o3 = []\n",
    "list_pm10 = []\n",
    "list_pm25 = []\n",
    "list_density = []\n",
    "list_floating = []\n",
    "list_HV_per_charger = []\n",
    "list_street_supply = []\n",
    "list_HVCS_cost = []\n",
    "list_income = []\n",
    "list_HVCS_income = []\n",
    "list_HVCS_type = []\n",
    "list_maximum_charge = []\n",
    "\n",
    "list_env_H = []\n",
    "list_soc_H = []\n",
    "list_eco_H = []\n",
    "list_tec_H = []\n",
    "list_total_H = []\n",
    "\n",
    "for place in LPG_list:\n",
    "    pro_env_H, pro_soc_H, pro_eco_H, pro_tec_H = LPG_update(place, infer_environment, infer_social_H, infer_economic_H, infer_technical_H, list_co, list_no2, list_o3, list_pm10, list_pm25, list_density, list_floating, list_HV_per_charger, list_street_supply, list_HVCS_cost, list_income, list_HVCS_income, list_HVCS_type, list_maximum_charge, co_pro, no2_pro, o3_pro, pm10_pro, pm25_pro)\n",
    "    list_env_H.append(round(pro_env_H,6))\n",
    "    list_soc_H.append(round(pro_soc_H,6))\n",
    "    list_eco_H.append(round(pro_eco_H,6))\n",
    "    list_tec_H.append(round(pro_tec_H,6))\n",
    "    # 가중치를 통해 최종확률 도출\n",
    "    total_pro = 0\n",
    "    total_pro += pro_env_H * weight_total[0]\n",
    "    total_pro += pro_soc_H * weight_total[1]\n",
    "    total_pro += pro_eco_H * weight_total[2]\n",
    "    total_pro += pro_tec_H * weight_total[3]\n",
    "    list_total_H.append(round(total_pro,6))"
   ]
  },
  {
   "cell_type": "code",
   "execution_count": null,
   "metadata": {},
   "outputs": [],
   "source": [
    "# df_LPG.insert(12,'최종확률',list_total_H)\n",
    "# df_LPG.insert(12,'기술적요인',list_tec_H)\n",
    "# df_LPG.insert(12,'경제적요인',list_eco_H)\n",
    "# df_LPG.insert(12,'사회적요인',list_soc_H)\n",
    "# df_LPG.insert(12,'환경적요인',list_env_H)\n",
    "df_LPG.insert(12,'1일 최대 충전 공급량', list_maximum_charge)\n",
    "df_LPG.insert(12,'연료공급방식', list_HVCS_type)\n",
    "df_LPG.insert(12,'수소충전소 기대수익', list_HVCS_income)\n",
    "df_LPG.insert(12,'후보지 평균 소득', list_income)\n",
    "df_LPG.insert(12,'수소차 충전소 구축비용', list_HVCS_cost)\n",
    "df_LPG.insert(12,'도로 보급률', list_street_supply)\n",
    "df_LPG.insert(12,'충전소당 수소차 차량 수', list_HV_per_charger)\n",
    "df_LPG.insert(12,'유동인구밀도', list_floating)\n",
    "df_LPG.insert(12,'인구밀도', list_density)\n",
    "df_LPG.insert(12,'pm25', list_pm25)\n",
    "df_LPG.insert(12,'pm10', list_pm10)\n",
    "df_LPG.insert(12,'o3', list_o3)\n",
    "df_LPG.insert(12,'no2', list_no2)\n",
    "df_LPG.insert(12,'co', list_co)"
   ]
  },
  {
   "cell_type": "code",
   "execution_count": null,
   "metadata": {},
   "outputs": [],
   "source": [
    "df_LPG.to_csv(LPG_file_path,encoding='cp949',index=False)"
   ]
  },
  {
   "cell_type": "code",
   "execution_count": null,
   "metadata": {},
   "outputs": [
    {
     "data": {
      "text/html": [
       "<div>\n",
       "<style scoped>\n",
       "    .dataframe tbody tr th:only-of-type {\n",
       "        vertical-align: middle;\n",
       "    }\n",
       "\n",
       "    .dataframe tbody tr th {\n",
       "        vertical-align: top;\n",
       "    }\n",
       "\n",
       "    .dataframe thead th {\n",
       "        text-align: right;\n",
       "    }\n",
       "</style>\n",
       "<table border=\"1\" class=\"dataframe\">\n",
       "  <thead>\n",
       "    <tr style=\"text-align: right;\">\n",
       "      <th></th>\n",
       "      <th>행정시</th>\n",
       "      <th>행정구</th>\n",
       "      <th>법정동</th>\n",
       "      <th>행정동</th>\n",
       "      <th>업소명</th>\n",
       "      <th>소재지</th>\n",
       "      <th>관리구분</th>\n",
       "      <th>위도</th>\n",
       "      <th>경도</th>\n",
       "      <th>면적</th>\n",
       "      <th>...</th>\n",
       "      <th>유동인구밀도</th>\n",
       "      <th>도로보급률</th>\n",
       "      <th>설치비용</th>\n",
       "      <th>평균소득</th>\n",
       "      <th>연료공급방식</th>\n",
       "      <th>환경적요인</th>\n",
       "      <th>사회적요인</th>\n",
       "      <th>경제적요인</th>\n",
       "      <th>기술적요인</th>\n",
       "      <th>최종확률</th>\n",
       "    </tr>\n",
       "  </thead>\n",
       "  <tbody>\n",
       "    <tr>\n",
       "      <th>0</th>\n",
       "      <td>부산</td>\n",
       "      <td>강서구</td>\n",
       "      <td>대저1동</td>\n",
       "      <td>대저1동</td>\n",
       "      <td>개인택시신공항충전소</td>\n",
       "      <td>부산 강서구 경전철로188번길 95</td>\n",
       "      <td>자동차충전</td>\n",
       "      <td>35.198669</td>\n",
       "      <td>128.966594</td>\n",
       "      <td>2545.0</td>\n",
       "      <td>...</td>\n",
       "      <td>0.1875</td>\n",
       "      <td>0.975610</td>\n",
       "      <td>0.2</td>\n",
       "      <td>0.595122</td>\n",
       "      <td>0.666667</td>\n",
       "      <td>0.860913</td>\n",
       "      <td>0.35</td>\n",
       "      <td>0.270242</td>\n",
       "      <td>0.999989</td>\n",
       "      <td>0.507162</td>\n",
       "    </tr>\n",
       "    <tr>\n",
       "      <th>1</th>\n",
       "      <td>부산</td>\n",
       "      <td>강서구</td>\n",
       "      <td>대저2동</td>\n",
       "      <td>대저2동</td>\n",
       "      <td>부산공항LPG충전소</td>\n",
       "      <td>부산 강서구 공항로 459</td>\n",
       "      <td>자동차충전</td>\n",
       "      <td>35.149064</td>\n",
       "      <td>128.951891</td>\n",
       "      <td>3105.0</td>\n",
       "      <td>...</td>\n",
       "      <td>0.1875</td>\n",
       "      <td>0.965854</td>\n",
       "      <td>0.2</td>\n",
       "      <td>0.912195</td>\n",
       "      <td>0.666667</td>\n",
       "      <td>0.860913</td>\n",
       "      <td>0.35</td>\n",
       "      <td>0.470242</td>\n",
       "      <td>0.999989</td>\n",
       "      <td>0.567162</td>\n",
       "    </tr>\n",
       "    <tr>\n",
       "      <th>2</th>\n",
       "      <td>부산</td>\n",
       "      <td>강서구</td>\n",
       "      <td>녹산동</td>\n",
       "      <td>녹산동</td>\n",
       "      <td>신항만에너지</td>\n",
       "      <td>부산 강서구 낙동남로 507</td>\n",
       "      <td>자동차충전</td>\n",
       "      <td>35.112947</td>\n",
       "      <td>128.875260</td>\n",
       "      <td>3105.0</td>\n",
       "      <td>...</td>\n",
       "      <td>0.1875</td>\n",
       "      <td>0.931707</td>\n",
       "      <td>0.2</td>\n",
       "      <td>0.141463</td>\n",
       "      <td>0.666667</td>\n",
       "      <td>0.700000</td>\n",
       "      <td>0.35</td>\n",
       "      <td>0.270242</td>\n",
       "      <td>0.999989</td>\n",
       "      <td>0.491070</td>\n",
       "    </tr>\n",
       "    <tr>\n",
       "      <th>3</th>\n",
       "      <td>부산</td>\n",
       "      <td>강서구</td>\n",
       "      <td>녹산동</td>\n",
       "      <td>녹산동</td>\n",
       "      <td>르노삼성자동차(주)</td>\n",
       "      <td>부산 강서구 르노삼성대로 61</td>\n",
       "      <td>자동차충전</td>\n",
       "      <td>35.095408</td>\n",
       "      <td>128.883215</td>\n",
       "      <td>1538.0</td>\n",
       "      <td>...</td>\n",
       "      <td>0.1875</td>\n",
       "      <td>0.931707</td>\n",
       "      <td>0.2</td>\n",
       "      <td>0.141463</td>\n",
       "      <td>0.666667</td>\n",
       "      <td>0.700000</td>\n",
       "      <td>0.35</td>\n",
       "      <td>0.270242</td>\n",
       "      <td>0.999989</td>\n",
       "      <td>0.491070</td>\n",
       "    </tr>\n",
       "    <tr>\n",
       "      <th>4</th>\n",
       "      <td>부산</td>\n",
       "      <td>강서구</td>\n",
       "      <td>가락동</td>\n",
       "      <td>가락동</td>\n",
       "      <td>죽림LPG충전소</td>\n",
       "      <td>부산 강서구 호계로 102</td>\n",
       "      <td>자동차충전</td>\n",
       "      <td>35.200736</td>\n",
       "      <td>128.893462</td>\n",
       "      <td>1580.0</td>\n",
       "      <td>...</td>\n",
       "      <td>0.1875</td>\n",
       "      <td>0.970732</td>\n",
       "      <td>0.2</td>\n",
       "      <td>0.009756</td>\n",
       "      <td>0.666667</td>\n",
       "      <td>0.860913</td>\n",
       "      <td>0.35</td>\n",
       "      <td>0.270242</td>\n",
       "      <td>0.999989</td>\n",
       "      <td>0.507162</td>\n",
       "    </tr>\n",
       "    <tr>\n",
       "      <th>5</th>\n",
       "      <td>부산</td>\n",
       "      <td>강서구</td>\n",
       "      <td>가락동</td>\n",
       "      <td>가락동</td>\n",
       "      <td>가락충전소</td>\n",
       "      <td>부산 강서구 호계로 195</td>\n",
       "      <td>자동차충전</td>\n",
       "      <td>35.208847</td>\n",
       "      <td>128.890148</td>\n",
       "      <td>2600.0</td>\n",
       "      <td>...</td>\n",
       "      <td>0.1875</td>\n",
       "      <td>0.970732</td>\n",
       "      <td>0.2</td>\n",
       "      <td>0.009756</td>\n",
       "      <td>0.666667</td>\n",
       "      <td>0.860913</td>\n",
       "      <td>0.35</td>\n",
       "      <td>0.270242</td>\n",
       "      <td>0.999989</td>\n",
       "      <td>0.507162</td>\n",
       "    </tr>\n",
       "    <tr>\n",
       "      <th>6</th>\n",
       "      <td>부산</td>\n",
       "      <td>금정구</td>\n",
       "      <td>금사회동동</td>\n",
       "      <td>금사회동동</td>\n",
       "      <td>(주)해연</td>\n",
       "      <td>부산 금정구 개좌로 225-15</td>\n",
       "      <td>용기+탱크+13kg용기</td>\n",
       "      <td>35.230796</td>\n",
       "      <td>129.122388</td>\n",
       "      <td>3346.0</td>\n",
       "      <td>...</td>\n",
       "      <td>0.3750</td>\n",
       "      <td>0.941463</td>\n",
       "      <td>0.2</td>\n",
       "      <td>0.097561</td>\n",
       "      <td>0.666667</td>\n",
       "      <td>0.860913</td>\n",
       "      <td>0.35</td>\n",
       "      <td>0.270242</td>\n",
       "      <td>0.999989</td>\n",
       "      <td>0.507162</td>\n",
       "    </tr>\n",
       "    <tr>\n",
       "      <th>7</th>\n",
       "      <td>부산</td>\n",
       "      <td>금정구</td>\n",
       "      <td>금사회동동</td>\n",
       "      <td>금사회동동</td>\n",
       "      <td>(주)신진가스</td>\n",
       "      <td>부산 금정구 반송로 433</td>\n",
       "      <td>자동차충전</td>\n",
       "      <td>35.215006</td>\n",
       "      <td>129.111143</td>\n",
       "      <td>1646.4</td>\n",
       "      <td>...</td>\n",
       "      <td>0.3750</td>\n",
       "      <td>0.941463</td>\n",
       "      <td>0.2</td>\n",
       "      <td>0.097561</td>\n",
       "      <td>0.666667</td>\n",
       "      <td>0.860913</td>\n",
       "      <td>0.35</td>\n",
       "      <td>0.270242</td>\n",
       "      <td>0.999989</td>\n",
       "      <td>0.507162</td>\n",
       "    </tr>\n",
       "    <tr>\n",
       "      <th>8</th>\n",
       "      <td>부산</td>\n",
       "      <td>기장군</td>\n",
       "      <td>기장읍</td>\n",
       "      <td>기장읍</td>\n",
       "      <td>마라톤가스(주)청강충전소</td>\n",
       "      <td>부산 기장군 기장읍 기장대로 343 A동</td>\n",
       "      <td>자동차충전</td>\n",
       "      <td>35.225657</td>\n",
       "      <td>129.213988</td>\n",
       "      <td>2592.0</td>\n",
       "      <td>...</td>\n",
       "      <td>0.3125</td>\n",
       "      <td>0.521951</td>\n",
       "      <td>0.2</td>\n",
       "      <td>0.209756</td>\n",
       "      <td>0.666667</td>\n",
       "      <td>0.550000</td>\n",
       "      <td>0.35</td>\n",
       "      <td>0.270242</td>\n",
       "      <td>0.999989</td>\n",
       "      <td>0.476070</td>\n",
       "    </tr>\n",
       "    <tr>\n",
       "      <th>9</th>\n",
       "      <td>부산</td>\n",
       "      <td>기장군</td>\n",
       "      <td>기장읍</td>\n",
       "      <td>기장읍</td>\n",
       "      <td>한국에너지산업(주)</td>\n",
       "      <td>부산 기장군 기장읍 기장대로413번길 38</td>\n",
       "      <td>용기+자동차+탱크+13kg용기</td>\n",
       "      <td>35.235543</td>\n",
       "      <td>129.215629</td>\n",
       "      <td>2473.0</td>\n",
       "      <td>...</td>\n",
       "      <td>0.3125</td>\n",
       "      <td>0.521951</td>\n",
       "      <td>0.2</td>\n",
       "      <td>0.209756</td>\n",
       "      <td>0.666667</td>\n",
       "      <td>0.550000</td>\n",
       "      <td>0.35</td>\n",
       "      <td>0.270242</td>\n",
       "      <td>0.999989</td>\n",
       "      <td>0.476070</td>\n",
       "    </tr>\n",
       "    <tr>\n",
       "      <th>10</th>\n",
       "      <td>부산</td>\n",
       "      <td>기장군</td>\n",
       "      <td>장안읍</td>\n",
       "      <td>장안읍</td>\n",
       "      <td>선암가스충전소</td>\n",
       "      <td>부산 기장군 장안읍 기장대로 1451</td>\n",
       "      <td>자동차+13kg용기</td>\n",
       "      <td>35.321585</td>\n",
       "      <td>129.241320</td>\n",
       "      <td>2717.0</td>\n",
       "      <td>...</td>\n",
       "      <td>0.3125</td>\n",
       "      <td>0.985366</td>\n",
       "      <td>0.2</td>\n",
       "      <td>0.136585</td>\n",
       "      <td>0.666667</td>\n",
       "      <td>0.860913</td>\n",
       "      <td>0.35</td>\n",
       "      <td>0.270242</td>\n",
       "      <td>0.999989</td>\n",
       "      <td>0.507162</td>\n",
       "    </tr>\n",
       "    <tr>\n",
       "      <th>11</th>\n",
       "      <td>부산</td>\n",
       "      <td>기장군</td>\n",
       "      <td>장안읍</td>\n",
       "      <td>장안읍</td>\n",
       "      <td>KH에너지(주)직영장안충전소(부산방향)</td>\n",
       "      <td>부산 기장군 장안읍 동해고속도로 25</td>\n",
       "      <td>자동차충전</td>\n",
       "      <td>35.377525</td>\n",
       "      <td>129.246402</td>\n",
       "      <td>15637.0</td>\n",
       "      <td>...</td>\n",
       "      <td>0.3125</td>\n",
       "      <td>0.985366</td>\n",
       "      <td>0.2</td>\n",
       "      <td>0.136585</td>\n",
       "      <td>0.666667</td>\n",
       "      <td>0.860913</td>\n",
       "      <td>0.35</td>\n",
       "      <td>0.270242</td>\n",
       "      <td>0.999989</td>\n",
       "      <td>0.507162</td>\n",
       "    </tr>\n",
       "    <tr>\n",
       "      <th>12</th>\n",
       "      <td>부산</td>\n",
       "      <td>기장군</td>\n",
       "      <td>장안읍</td>\n",
       "      <td>장안읍</td>\n",
       "      <td>KH에너지(주)직영장안충전소(울산방향)</td>\n",
       "      <td>부산 기장군 장안읍 동해고속도로 26</td>\n",
       "      <td>자동차충전</td>\n",
       "      <td>35.382870</td>\n",
       "      <td>129.248394</td>\n",
       "      <td>37294.0</td>\n",
       "      <td>...</td>\n",
       "      <td>0.3125</td>\n",
       "      <td>0.985366</td>\n",
       "      <td>0.2</td>\n",
       "      <td>0.136585</td>\n",
       "      <td>0.666667</td>\n",
       "      <td>0.860913</td>\n",
       "      <td>0.35</td>\n",
       "      <td>0.270242</td>\n",
       "      <td>0.999989</td>\n",
       "      <td>0.507162</td>\n",
       "    </tr>\n",
       "    <tr>\n",
       "      <th>13</th>\n",
       "      <td>부산</td>\n",
       "      <td>기장군</td>\n",
       "      <td>정관읍</td>\n",
       "      <td>정관읍</td>\n",
       "      <td>정림에너지</td>\n",
       "      <td>부산 기장군 정관읍 신정관로 187</td>\n",
       "      <td>자동차충전</td>\n",
       "      <td>35.328714</td>\n",
       "      <td>129.201710</td>\n",
       "      <td>2575.0</td>\n",
       "      <td>...</td>\n",
       "      <td>0.3125</td>\n",
       "      <td>0.180488</td>\n",
       "      <td>0.2</td>\n",
       "      <td>0.136585</td>\n",
       "      <td>0.666667</td>\n",
       "      <td>0.860913</td>\n",
       "      <td>0.35</td>\n",
       "      <td>0.270242</td>\n",
       "      <td>0.999989</td>\n",
       "      <td>0.507162</td>\n",
       "    </tr>\n",
       "    <tr>\n",
       "      <th>14</th>\n",
       "      <td>부산</td>\n",
       "      <td>기장군</td>\n",
       "      <td>정관읍</td>\n",
       "      <td>정관읍</td>\n",
       "      <td>광신개발(주)직영 정관가스충전소</td>\n",
       "      <td>부산 기장군 정관읍 정관로 907</td>\n",
       "      <td>자동차+13kg용기</td>\n",
       "      <td>35.324749</td>\n",
       "      <td>129.210964</td>\n",
       "      <td>1899.0</td>\n",
       "      <td>...</td>\n",
       "      <td>0.3125</td>\n",
       "      <td>0.180488</td>\n",
       "      <td>0.2</td>\n",
       "      <td>0.136585</td>\n",
       "      <td>0.666667</td>\n",
       "      <td>0.860913</td>\n",
       "      <td>0.35</td>\n",
       "      <td>0.270242</td>\n",
       "      <td>0.999989</td>\n",
       "      <td>0.507162</td>\n",
       "    </tr>\n",
       "    <tr>\n",
       "      <th>15</th>\n",
       "      <td>부산</td>\n",
       "      <td>기장군</td>\n",
       "      <td>철마면</td>\n",
       "      <td>철마면</td>\n",
       "      <td>개인택시동부산충전소</td>\n",
       "      <td>부산 기장군 철마면 반송로 1022</td>\n",
       "      <td>자동차충전</td>\n",
       "      <td>35.235930</td>\n",
       "      <td>129.163728</td>\n",
       "      <td>2543.0</td>\n",
       "      <td>...</td>\n",
       "      <td>0.3125</td>\n",
       "      <td>0.687805</td>\n",
       "      <td>0.2</td>\n",
       "      <td>0.136585</td>\n",
       "      <td>0.666667</td>\n",
       "      <td>0.860913</td>\n",
       "      <td>0.35</td>\n",
       "      <td>0.270242</td>\n",
       "      <td>0.999989</td>\n",
       "      <td>0.507162</td>\n",
       "    </tr>\n",
       "    <tr>\n",
       "      <th>16</th>\n",
       "      <td>부산</td>\n",
       "      <td>동구</td>\n",
       "      <td>범일동</td>\n",
       "      <td>범일5동</td>\n",
       "      <td>개인택시남부LPG충전소</td>\n",
       "      <td>부산 동구 성남로 42</td>\n",
       "      <td>자동차충전</td>\n",
       "      <td>35.130627</td>\n",
       "      <td>129.054917</td>\n",
       "      <td>1518.5</td>\n",
       "      <td>...</td>\n",
       "      <td>0.1250</td>\n",
       "      <td>0.956098</td>\n",
       "      <td>0.2</td>\n",
       "      <td>0.770732</td>\n",
       "      <td>0.666667</td>\n",
       "      <td>0.860913</td>\n",
       "      <td>0.35</td>\n",
       "      <td>0.270242</td>\n",
       "      <td>0.999989</td>\n",
       "      <td>0.507162</td>\n",
       "    </tr>\n",
       "    <tr>\n",
       "      <th>17</th>\n",
       "      <td>부산</td>\n",
       "      <td>동구</td>\n",
       "      <td>범일동</td>\n",
       "      <td>범일5동</td>\n",
       "      <td>(주)대양씨앤씨(구:녹색에너지 범일영업소)</td>\n",
       "      <td>부산 동구 성남로 74-3</td>\n",
       "      <td>용기+13kg용기</td>\n",
       "      <td>35.130891</td>\n",
       "      <td>129.057587</td>\n",
       "      <td>3169.8</td>\n",
       "      <td>...</td>\n",
       "      <td>0.1250</td>\n",
       "      <td>0.956098</td>\n",
       "      <td>0.2</td>\n",
       "      <td>0.770732</td>\n",
       "      <td>0.666667</td>\n",
       "      <td>0.860913</td>\n",
       "      <td>0.35</td>\n",
       "      <td>0.270242</td>\n",
       "      <td>0.999989</td>\n",
       "      <td>0.507162</td>\n",
       "    </tr>\n",
       "    <tr>\n",
       "      <th>18</th>\n",
       "      <td>부산</td>\n",
       "      <td>북구</td>\n",
       "      <td>금곡동</td>\n",
       "      <td>금곡동</td>\n",
       "      <td>개인택시 금곡역충전소</td>\n",
       "      <td>부산 북구 금곡대로 704</td>\n",
       "      <td>자동차충전</td>\n",
       "      <td>35.269475</td>\n",
       "      <td>129.018781</td>\n",
       "      <td>2055.0</td>\n",
       "      <td>...</td>\n",
       "      <td>0.5625</td>\n",
       "      <td>0.107317</td>\n",
       "      <td>0.2</td>\n",
       "      <td>0.239024</td>\n",
       "      <td>0.666667</td>\n",
       "      <td>0.860913</td>\n",
       "      <td>0.70</td>\n",
       "      <td>0.270242</td>\n",
       "      <td>0.999989</td>\n",
       "      <td>0.647162</td>\n",
       "    </tr>\n",
       "    <tr>\n",
       "      <th>19</th>\n",
       "      <td>부산</td>\n",
       "      <td>북구</td>\n",
       "      <td>만덕동</td>\n",
       "      <td>만덕1동</td>\n",
       "      <td>(주)삼보</td>\n",
       "      <td>부산 북구 만덕대로 327-0</td>\n",
       "      <td>자동차충전</td>\n",
       "      <td>35.213643</td>\n",
       "      <td>129.040635</td>\n",
       "      <td>3837.0</td>\n",
       "      <td>...</td>\n",
       "      <td>0.5625</td>\n",
       "      <td>0.136585</td>\n",
       "      <td>0.2</td>\n",
       "      <td>0.795122</td>\n",
       "      <td>0.666667</td>\n",
       "      <td>0.860913</td>\n",
       "      <td>0.70</td>\n",
       "      <td>0.470242</td>\n",
       "      <td>0.999989</td>\n",
       "      <td>0.707162</td>\n",
       "    </tr>\n",
       "    <tr>\n",
       "      <th>20</th>\n",
       "      <td>부산</td>\n",
       "      <td>사상구</td>\n",
       "      <td>주례동</td>\n",
       "      <td>감전동</td>\n",
       "      <td>팔성가스충전소</td>\n",
       "      <td>부산 사상구 가야대로 75</td>\n",
       "      <td>자동차+13kg용기</td>\n",
       "      <td>35.151317</td>\n",
       "      <td>128.980986</td>\n",
       "      <td>2946.6</td>\n",
       "      <td>...</td>\n",
       "      <td>0.8125</td>\n",
       "      <td>0.907317</td>\n",
       "      <td>0.2</td>\n",
       "      <td>0.492683</td>\n",
       "      <td>0.666667</td>\n",
       "      <td>0.860913</td>\n",
       "      <td>0.50</td>\n",
       "      <td>0.270242</td>\n",
       "      <td>0.999989</td>\n",
       "      <td>0.567162</td>\n",
       "    </tr>\n",
       "    <tr>\n",
       "      <th>21</th>\n",
       "      <td>부산</td>\n",
       "      <td>사상구</td>\n",
       "      <td>엄궁동</td>\n",
       "      <td>엄궁동</td>\n",
       "      <td>(주)성은에너지제2충전소</td>\n",
       "      <td>부산 사상구 강변대로 412</td>\n",
       "      <td>자동차충전</td>\n",
       "      <td>35.122092</td>\n",
       "      <td>128.962063</td>\n",
       "      <td>3732.4</td>\n",
       "      <td>...</td>\n",
       "      <td>0.8125</td>\n",
       "      <td>0.195122</td>\n",
       "      <td>0.2</td>\n",
       "      <td>0.960976</td>\n",
       "      <td>0.666667</td>\n",
       "      <td>0.860913</td>\n",
       "      <td>0.50</td>\n",
       "      <td>0.470242</td>\n",
       "      <td>0.999989</td>\n",
       "      <td>0.627162</td>\n",
       "    </tr>\n",
       "    <tr>\n",
       "      <th>22</th>\n",
       "      <td>부산</td>\n",
       "      <td>사상구</td>\n",
       "      <td>감전동</td>\n",
       "      <td>감전동</td>\n",
       "      <td>극동유화(주)감전충전소</td>\n",
       "      <td>부산 사상구 낙동대로 878</td>\n",
       "      <td>용기+자동차+탱크+13kg용기</td>\n",
       "      <td>35.138888</td>\n",
       "      <td>128.971339</td>\n",
       "      <td>2886.1</td>\n",
       "      <td>...</td>\n",
       "      <td>0.8125</td>\n",
       "      <td>0.907317</td>\n",
       "      <td>0.2</td>\n",
       "      <td>0.492683</td>\n",
       "      <td>0.666667</td>\n",
       "      <td>0.860913</td>\n",
       "      <td>0.50</td>\n",
       "      <td>0.270242</td>\n",
       "      <td>0.999989</td>\n",
       "      <td>0.567162</td>\n",
       "    </tr>\n",
       "    <tr>\n",
       "      <th>23</th>\n",
       "      <td>부산</td>\n",
       "      <td>사하구</td>\n",
       "      <td>장림동</td>\n",
       "      <td>장림2동</td>\n",
       "      <td>광진기업(주)장림영업소</td>\n",
       "      <td>부산 사하구 다대로 309</td>\n",
       "      <td>용기+자동차+13kg용기</td>\n",
       "      <td>35.075007</td>\n",
       "      <td>128.977163</td>\n",
       "      <td>1604.0</td>\n",
       "      <td>...</td>\n",
       "      <td>0.9375</td>\n",
       "      <td>0.039024</td>\n",
       "      <td>0.2</td>\n",
       "      <td>0.356098</td>\n",
       "      <td>0.666667</td>\n",
       "      <td>0.700000</td>\n",
       "      <td>0.50</td>\n",
       "      <td>0.270242</td>\n",
       "      <td>0.999989</td>\n",
       "      <td>0.551070</td>\n",
       "    </tr>\n",
       "    <tr>\n",
       "      <th>24</th>\n",
       "      <td>부산</td>\n",
       "      <td>사하구</td>\n",
       "      <td>신평동</td>\n",
       "      <td>신평2동</td>\n",
       "      <td>광신가스(주)을숙도대로충전소</td>\n",
       "      <td>부산 사하구 을숙도대로 530</td>\n",
       "      <td>자동차충전</td>\n",
       "      <td>35.085225</td>\n",
       "      <td>128.963646</td>\n",
       "      <td>1632.0</td>\n",
       "      <td>...</td>\n",
       "      <td>0.9375</td>\n",
       "      <td>0.317073</td>\n",
       "      <td>0.2</td>\n",
       "      <td>0.356098</td>\n",
       "      <td>0.666667</td>\n",
       "      <td>0.860913</td>\n",
       "      <td>0.50</td>\n",
       "      <td>0.270242</td>\n",
       "      <td>0.999989</td>\n",
       "      <td>0.567162</td>\n",
       "    </tr>\n",
       "    <tr>\n",
       "      <th>25</th>\n",
       "      <td>부산</td>\n",
       "      <td>사하구</td>\n",
       "      <td>신평동</td>\n",
       "      <td>신평1동</td>\n",
       "      <td>개인택시사하엘피지충전소</td>\n",
       "      <td>부산 사하구 을숙도대로 583</td>\n",
       "      <td>자동차충전</td>\n",
       "      <td>35.085534</td>\n",
       "      <td>128.969349</td>\n",
       "      <td>1657.0</td>\n",
       "      <td>...</td>\n",
       "      <td>0.9375</td>\n",
       "      <td>0.370732</td>\n",
       "      <td>0.2</td>\n",
       "      <td>0.356098</td>\n",
       "      <td>0.666667</td>\n",
       "      <td>0.860913</td>\n",
       "      <td>0.50</td>\n",
       "      <td>0.270242</td>\n",
       "      <td>0.999989</td>\n",
       "      <td>0.567162</td>\n",
       "    </tr>\n",
       "    <tr>\n",
       "      <th>26</th>\n",
       "      <td>부산</td>\n",
       "      <td>연제구</td>\n",
       "      <td>거제동</td>\n",
       "      <td>거제2동</td>\n",
       "      <td>부산개인택시엘피지충전소</td>\n",
       "      <td>부산 연제구 월드컵대로 399</td>\n",
       "      <td>자동차충전</td>\n",
       "      <td>35.186013</td>\n",
       "      <td>129.055974</td>\n",
       "      <td>9212.0</td>\n",
       "      <td>...</td>\n",
       "      <td>0.6875</td>\n",
       "      <td>0.468293</td>\n",
       "      <td>0.2</td>\n",
       "      <td>0.839024</td>\n",
       "      <td>0.666667</td>\n",
       "      <td>0.860913</td>\n",
       "      <td>0.35</td>\n",
       "      <td>0.470242</td>\n",
       "      <td>0.999989</td>\n",
       "      <td>0.567162</td>\n",
       "    </tr>\n",
       "    <tr>\n",
       "      <th>27</th>\n",
       "      <td>부산</td>\n",
       "      <td>영도구</td>\n",
       "      <td>영선동</td>\n",
       "      <td>영선2동</td>\n",
       "      <td>(주)태종에너지</td>\n",
       "      <td>부산 영도구 영선대로 41</td>\n",
       "      <td>자동차충전</td>\n",
       "      <td>35.084996</td>\n",
       "      <td>129.040033</td>\n",
       "      <td>1610.2</td>\n",
       "      <td>...</td>\n",
       "      <td>0.8750</td>\n",
       "      <td>0.648780</td>\n",
       "      <td>0.2</td>\n",
       "      <td>0.546341</td>\n",
       "      <td>0.666667</td>\n",
       "      <td>0.860913</td>\n",
       "      <td>0.85</td>\n",
       "      <td>0.270242</td>\n",
       "      <td>0.999989</td>\n",
       "      <td>0.707162</td>\n",
       "    </tr>\n",
       "    <tr>\n",
       "      <th>28</th>\n",
       "      <td>부산</td>\n",
       "      <td>영도구</td>\n",
       "      <td>청학동</td>\n",
       "      <td>청학2동</td>\n",
       "      <td>부산에너지</td>\n",
       "      <td>부산 영도구 해양로 160</td>\n",
       "      <td>용기+자동차+탱크+13kg용기</td>\n",
       "      <td>35.091275</td>\n",
       "      <td>129.069484</td>\n",
       "      <td>5801.0</td>\n",
       "      <td>...</td>\n",
       "      <td>0.8750</td>\n",
       "      <td>0.224390</td>\n",
       "      <td>0.2</td>\n",
       "      <td>0.546341</td>\n",
       "      <td>0.666667</td>\n",
       "      <td>0.400000</td>\n",
       "      <td>0.50</td>\n",
       "      <td>0.270242</td>\n",
       "      <td>0.999989</td>\n",
       "      <td>0.521070</td>\n",
       "    </tr>\n",
       "    <tr>\n",
       "      <th>29</th>\n",
       "      <td>부산</td>\n",
       "      <td>영도구</td>\n",
       "      <td>동삼동</td>\n",
       "      <td>동삼1동</td>\n",
       "      <td>개인택시 영도LPG충전소</td>\n",
       "      <td>부산 영도구 해양로 296</td>\n",
       "      <td>자동차충전</td>\n",
       "      <td>35.082176</td>\n",
       "      <td>129.076429</td>\n",
       "      <td>1818.0</td>\n",
       "      <td>...</td>\n",
       "      <td>0.8750</td>\n",
       "      <td>0.268293</td>\n",
       "      <td>0.2</td>\n",
       "      <td>0.653659</td>\n",
       "      <td>0.666667</td>\n",
       "      <td>0.860913</td>\n",
       "      <td>0.50</td>\n",
       "      <td>0.270242</td>\n",
       "      <td>0.999989</td>\n",
       "      <td>0.567162</td>\n",
       "    </tr>\n",
       "    <tr>\n",
       "      <th>30</th>\n",
       "      <td>부산</td>\n",
       "      <td>해운대구</td>\n",
       "      <td>송정동</td>\n",
       "      <td>송정동</td>\n",
       "      <td>이원 해운대LPG충전소</td>\n",
       "      <td>부산 해운대구 해운대로 1255</td>\n",
       "      <td>용기+자동차+탱크+13kg용기</td>\n",
       "      <td>35.196728</td>\n",
       "      <td>129.205260</td>\n",
       "      <td>3700.0</td>\n",
       "      <td>...</td>\n",
       "      <td>0.7500</td>\n",
       "      <td>0.712195</td>\n",
       "      <td>0.2</td>\n",
       "      <td>0.551220</td>\n",
       "      <td>0.666667</td>\n",
       "      <td>0.860913</td>\n",
       "      <td>0.50</td>\n",
       "      <td>0.270242</td>\n",
       "      <td>0.999989</td>\n",
       "      <td>0.567162</td>\n",
       "    </tr>\n",
       "  </tbody>\n",
       "</table>\n",
       "<p>31 rows × 28 columns</p>\n",
       "</div>"
      ],
      "text/plain": [
       "   행정시   행정구    법정동    행정동                      업소명                      소재지  \\\n",
       "0   부산   강서구   대저1동   대저1동               개인택시신공항충전소      부산 강서구 경전철로188번길 95   \n",
       "1   부산   강서구   대저2동   대저2동               부산공항LPG충전소           부산 강서구 공항로 459   \n",
       "2   부산   강서구    녹산동    녹산동                   신항만에너지         부산 강서구 낙동남로 507    \n",
       "3   부산   강서구    녹산동    녹산동               르노삼성자동차(주)         부산 강서구 르노삼성대로 61   \n",
       "4   부산   강서구    가락동    가락동                 죽림LPG충전소          부산 강서구 호계로 102    \n",
       "5   부산   강서구    가락동    가락동                    가락충전소          부산 강서구 호계로 195    \n",
       "6   부산   금정구  금사회동동  금사회동동                    (주)해연       부산 금정구 개좌로 225-15    \n",
       "7   부산   금정구  금사회동동  금사회동동                  (주)신진가스          부산 금정구 반송로 433    \n",
       "8   부산   기장군    기장읍    기장읍            마라톤가스(주)청강충전소   부산 기장군 기장읍 기장대로 343 A동   \n",
       "9   부산   기장군    기장읍    기장읍               한국에너지산업(주)  부산 기장군 기장읍 기장대로413번길 38   \n",
       "10  부산   기장군    장안읍    장안읍                  선암가스충전소    부산 기장군 장안읍 기장대로 1451    \n",
       "11  부산   기장군    장안읍    장안읍    KH에너지(주)직영장안충전소(부산방향)     부산 기장군 장안읍 동해고속도로 25   \n",
       "12  부산   기장군    장안읍    장안읍    KH에너지(주)직영장안충전소(울산방향)     부산 기장군 장안읍 동해고속도로 26   \n",
       "13  부산   기장군    정관읍    정관읍                    정림에너지     부산 기장군 정관읍 신정관로 187    \n",
       "14  부산   기장군    정관읍    정관읍        광신개발(주)직영 정관가스충전소       부산 기장군 정관읍 정관로 907   \n",
       "15  부산   기장군    철마면    철마면               개인택시동부산충전소      부산 기장군 철마면 반송로 1022   \n",
       "16  부산    동구    범일동   범일5동             개인택시남부LPG충전소             부산 동구 성남로 42   \n",
       "17  부산    동구    범일동   범일5동  (주)대양씨앤씨(구:녹색에너지 범일영업소)           부산 동구 성남로 74-3   \n",
       "18  부산    북구    금곡동    금곡동              개인택시 금곡역충전소           부산 북구 금곡대로 704   \n",
       "19  부산    북구    만덕동   만덕1동                    (주)삼보         부산 북구 만덕대로 327-0   \n",
       "20  부산   사상구    주례동    감전동                  팔성가스충전소           부산 사상구 가야대로 75   \n",
       "21  부산   사상구    엄궁동    엄궁동            (주)성은에너지제2충전소          부산 사상구 강변대로 412   \n",
       "22  부산   사상구    감전동    감전동             극동유화(주)감전충전소          부산 사상구 낙동대로 878   \n",
       "23  부산   사하구    장림동   장림2동             광진기업(주)장림영업소           부산 사하구 다대로 309   \n",
       "24  부산   사하구    신평동   신평2동          광신가스(주)을숙도대로충전소         부산 사하구 을숙도대로 530   \n",
       "25  부산   사하구    신평동   신평1동             개인택시사하엘피지충전소         부산 사하구 을숙도대로 583   \n",
       "26  부산   연제구    거제동   거제2동             부산개인택시엘피지충전소         부산 연제구 월드컵대로 399   \n",
       "27  부산   영도구    영선동   영선2동                 (주)태종에너지           부산 영도구 영선대로 41   \n",
       "28  부산   영도구    청학동   청학2동                    부산에너지           부산 영도구 해양로 160   \n",
       "29  부산   영도구    동삼동   동삼1동            개인택시 영도LPG충전소           부산 영도구 해양로 296   \n",
       "30  부산  해운대구    송정동    송정동             이원 해운대LPG충전소        부산 해운대구 해운대로 1255   \n",
       "\n",
       "                관리구분         위도          경도       면적  ...  유동인구밀도     도로보급률  \\\n",
       "0              자동차충전  35.198669  128.966594   2545.0  ...  0.1875  0.975610   \n",
       "1              자동차충전  35.149064  128.951891   3105.0  ...  0.1875  0.965854   \n",
       "2              자동차충전  35.112947  128.875260   3105.0  ...  0.1875  0.931707   \n",
       "3              자동차충전  35.095408  128.883215   1538.0  ...  0.1875  0.931707   \n",
       "4              자동차충전  35.200736  128.893462   1580.0  ...  0.1875  0.970732   \n",
       "5              자동차충전  35.208847  128.890148   2600.0  ...  0.1875  0.970732   \n",
       "6       용기+탱크+13kg용기  35.230796  129.122388   3346.0  ...  0.3750  0.941463   \n",
       "7              자동차충전  35.215006  129.111143   1646.4  ...  0.3750  0.941463   \n",
       "8              자동차충전  35.225657  129.213988   2592.0  ...  0.3125  0.521951   \n",
       "9   용기+자동차+탱크+13kg용기  35.235543  129.215629   2473.0  ...  0.3125  0.521951   \n",
       "10        자동차+13kg용기  35.321585  129.241320   2717.0  ...  0.3125  0.985366   \n",
       "11             자동차충전  35.377525  129.246402  15637.0  ...  0.3125  0.985366   \n",
       "12             자동차충전  35.382870  129.248394  37294.0  ...  0.3125  0.985366   \n",
       "13             자동차충전  35.328714  129.201710   2575.0  ...  0.3125  0.180488   \n",
       "14        자동차+13kg용기  35.324749  129.210964   1899.0  ...  0.3125  0.180488   \n",
       "15             자동차충전  35.235930  129.163728   2543.0  ...  0.3125  0.687805   \n",
       "16             자동차충전  35.130627  129.054917   1518.5  ...  0.1250  0.956098   \n",
       "17         용기+13kg용기  35.130891  129.057587   3169.8  ...  0.1250  0.956098   \n",
       "18             자동차충전  35.269475  129.018781   2055.0  ...  0.5625  0.107317   \n",
       "19             자동차충전  35.213643  129.040635   3837.0  ...  0.5625  0.136585   \n",
       "20        자동차+13kg용기  35.151317  128.980986   2946.6  ...  0.8125  0.907317   \n",
       "21             자동차충전  35.122092  128.962063   3732.4  ...  0.8125  0.195122   \n",
       "22  용기+자동차+탱크+13kg용기  35.138888  128.971339   2886.1  ...  0.8125  0.907317   \n",
       "23     용기+자동차+13kg용기  35.075007  128.977163   1604.0  ...  0.9375  0.039024   \n",
       "24             자동차충전  35.085225  128.963646   1632.0  ...  0.9375  0.317073   \n",
       "25             자동차충전  35.085534  128.969349   1657.0  ...  0.9375  0.370732   \n",
       "26             자동차충전  35.186013  129.055974   9212.0  ...  0.6875  0.468293   \n",
       "27             자동차충전  35.084996  129.040033   1610.2  ...  0.8750  0.648780   \n",
       "28  용기+자동차+탱크+13kg용기  35.091275  129.069484   5801.0  ...  0.8750  0.224390   \n",
       "29             자동차충전  35.082176  129.076429   1818.0  ...  0.8750  0.268293   \n",
       "30  용기+자동차+탱크+13kg용기  35.196728  129.205260   3700.0  ...  0.7500  0.712195   \n",
       "\n",
       "    설치비용      평균소득    연료공급방식     환경적요인  사회적요인     경제적요인     기술적요인      최종확률  \n",
       "0    0.2  0.595122  0.666667  0.860913   0.35  0.270242  0.999989  0.507162  \n",
       "1    0.2  0.912195  0.666667  0.860913   0.35  0.470242  0.999989  0.567162  \n",
       "2    0.2  0.141463  0.666667  0.700000   0.35  0.270242  0.999989  0.491070  \n",
       "3    0.2  0.141463  0.666667  0.700000   0.35  0.270242  0.999989  0.491070  \n",
       "4    0.2  0.009756  0.666667  0.860913   0.35  0.270242  0.999989  0.507162  \n",
       "5    0.2  0.009756  0.666667  0.860913   0.35  0.270242  0.999989  0.507162  \n",
       "6    0.2  0.097561  0.666667  0.860913   0.35  0.270242  0.999989  0.507162  \n",
       "7    0.2  0.097561  0.666667  0.860913   0.35  0.270242  0.999989  0.507162  \n",
       "8    0.2  0.209756  0.666667  0.550000   0.35  0.270242  0.999989  0.476070  \n",
       "9    0.2  0.209756  0.666667  0.550000   0.35  0.270242  0.999989  0.476070  \n",
       "10   0.2  0.136585  0.666667  0.860913   0.35  0.270242  0.999989  0.507162  \n",
       "11   0.2  0.136585  0.666667  0.860913   0.35  0.270242  0.999989  0.507162  \n",
       "12   0.2  0.136585  0.666667  0.860913   0.35  0.270242  0.999989  0.507162  \n",
       "13   0.2  0.136585  0.666667  0.860913   0.35  0.270242  0.999989  0.507162  \n",
       "14   0.2  0.136585  0.666667  0.860913   0.35  0.270242  0.999989  0.507162  \n",
       "15   0.2  0.136585  0.666667  0.860913   0.35  0.270242  0.999989  0.507162  \n",
       "16   0.2  0.770732  0.666667  0.860913   0.35  0.270242  0.999989  0.507162  \n",
       "17   0.2  0.770732  0.666667  0.860913   0.35  0.270242  0.999989  0.507162  \n",
       "18   0.2  0.239024  0.666667  0.860913   0.70  0.270242  0.999989  0.647162  \n",
       "19   0.2  0.795122  0.666667  0.860913   0.70  0.470242  0.999989  0.707162  \n",
       "20   0.2  0.492683  0.666667  0.860913   0.50  0.270242  0.999989  0.567162  \n",
       "21   0.2  0.960976  0.666667  0.860913   0.50  0.470242  0.999989  0.627162  \n",
       "22   0.2  0.492683  0.666667  0.860913   0.50  0.270242  0.999989  0.567162  \n",
       "23   0.2  0.356098  0.666667  0.700000   0.50  0.270242  0.999989  0.551070  \n",
       "24   0.2  0.356098  0.666667  0.860913   0.50  0.270242  0.999989  0.567162  \n",
       "25   0.2  0.356098  0.666667  0.860913   0.50  0.270242  0.999989  0.567162  \n",
       "26   0.2  0.839024  0.666667  0.860913   0.35  0.470242  0.999989  0.567162  \n",
       "27   0.2  0.546341  0.666667  0.860913   0.85  0.270242  0.999989  0.707162  \n",
       "28   0.2  0.546341  0.666667  0.400000   0.50  0.270242  0.999989  0.521070  \n",
       "29   0.2  0.653659  0.666667  0.860913   0.50  0.270242  0.999989  0.567162  \n",
       "30   0.2  0.551220  0.666667  0.860913   0.50  0.270242  0.999989  0.567162  \n",
       "\n",
       "[31 rows x 28 columns]"
      ]
     },
     "execution_count": 216,
     "metadata": {},
     "output_type": "execute_result"
    }
   ],
   "source": [
    "df_LPG"
   ]
  },
  {
   "cell_type": "code",
   "execution_count": null,
   "metadata": {},
   "outputs": [
    {
     "name": "stdout",
     "output_type": "stream",
     "text": [
      "27 번째 주소 못가져옴\n",
      "37 번째 주소 못가져옴\n",
      "77 번째 주소 못가져옴\n",
      "85 번째 주소 못가져옴\n",
      "87 번째 주소 못가져옴\n",
      "96 번째 주소 못가져옴\n",
      "180 번째 주소 못가져옴\n",
      "183 번째 주소 못가져옴\n",
      "225 번째 주소 못가져옴\n",
      "230 번째 주소 못가져옴\n",
      "299 번째 주소 못가져옴\n",
      "365 번째 주소 못가져옴\n",
      "517 번째 주소 못가져옴\n",
      "538 번째 주소 못가져옴\n",
      "592 번째 주소 못가져옴\n"
     ]
    }
   ],
   "source": [
    "# import requests\n",
    "# import json\n",
    "# import numpy as np\n",
    "# import pandas as pd\n",
    "\n",
    "\n",
    "# parking_file_path = 'C:\\\\Users\\\\SAMSUNG\\\\Desktop\\\\Green-Car-Charging-Station-Site-Selection\\\\Data\\\\부산 주차장 현황.csv'\n",
    "# df_parking = pd.read_csv(parking_file_path,encoding='cp949')\n",
    "# addrs = df_parking['소재지지번주소'].tolist()\n",
    "\n",
    "# locations = []\n",
    "# for addr in addrs:\n",
    "#     url = 'https://dapi.kakao.com/v2/local/search/address.json?query={}'.format(addr)\n",
    "#     headers = {\n",
    "#     ## 여러분의 카카오 API의 REST API키를 아래 예시와 같이 입력해주세요\n",
    "#     ## \"Authorization\": \"KakaoAK REST API키 입력 gogo\"}\n",
    "#     \"Authorization\": \"KakaoAK 4287bf970222f73d8c88dd3c394bdc99\"}\n",
    "#     place = requests.get(url, headers = headers).json()['documents']\n",
    "#     locations.append(place)\n",
    "\n",
    "\n",
    "# city = [] ## 법정동\n",
    "# town = [] ## 행정동\n",
    "# for i in range(len(locations)):\n",
    "#     try:\n",
    "#         city.append(locations[i][0].get('address').get('region_3depth_name'))\n",
    "#         town.append(locations[i][0].get('address').get('region_3depth_h_name'))\n",
    "        \n",
    "#     except IndexError:\n",
    "#         print(i,'번째 주소 못가져옴', end ='')\n",
    "#         print()\n",
    "#         city.append('없음')\n",
    "#         town.append('없음')\n",
    "    \n",
    "#     except AttributeError:\n",
    "#         city.append(locations[i][0].get('road_address').get('region_3depth_name'))\n",
    "#         town.append(locations[i][0].get('road_address').get('region_3depth_name'))\n",
    "\n",
    "# file_path = 'C:\\\\Users\\\\SAMSUNG\\\\Desktop\\\\주차장 행정동.csv'\n",
    "# df_dong = pd.DataFrame(list(zip(city,town)),columns=['법정동','행정동'])\n",
    "# df_dong.to_csv(file_path,encoding='cp949',index=False)\n",
    "\n"
   ]
  }
 ],
 "metadata": {
  "kernelspec": {
   "display_name": "Python 3.10.4 ('GVCS')",
   "language": "python",
   "name": "python3"
  },
  "language_info": {
   "codemirror_mode": {
    "name": "ipython",
    "version": 3
   },
   "file_extension": ".py",
   "mimetype": "text/x-python",
   "name": "python",
   "nbconvert_exporter": "python",
   "pygments_lexer": "ipython3",
   "version": "3.10.4"
  },
  "vscode": {
   "interpreter": {
    "hash": "f050bb9fd34efe2ad4050694f9ad3d2282b57f28f06302e823e69ca1f91b4def"
   }
  }
 },
 "nbformat": 4,
 "nbformat_minor": 4
}
