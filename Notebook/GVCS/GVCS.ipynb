{
 "cells": [
  {
   "cell_type": "markdown",
   "metadata": {
    "collapsed": false
   },
   "source": [
    "# 확률 네트워크기반 친환경 자동차 충전소(GVCS) 로케이션 인텔리전스(Location Intelligence) 대시보드"
   ]
  },
  {
   "cell_type": "markdown",
   "metadata": {
    "pycharm": {
     "name": "#%% md\n"
    }
   },
   "source": [
    "## 제안 배경\n",
    "\n",
    "**친환경 자동차 생산에만 관심이 쏠려 사용자를 고려하지 못한 설치로 인한 잉여 충전소 발생**\n",
    "\n",
    "- 민관 협력을 통해 충전 서비스 관련 사업이 꾸준히 증가함. 하지만 전국에 설치된 공공 급속충전기 총 2,896개(2021년 기준) 중 하루 1회 이하로 사용한 충전기가 1,164개로 전체의 40.1%를 차지하고 있다. 심지어 17개는 전혀 사용하지 않은 것으로 나타남.\n",
    "\n",
    "- 이와 같은 충전소마다 이용 편차가 큰 이유는 전기차 보급 목표에 따라 구역별로  충전소를 나눠 설치했기 때문이라는 지적도 있다.\n",
    "\n",
    "- 한국전기차충전협동조합은 앞으로 수요가 몰리는 거점을 중심을 중심으로 충전기 설치를 해야하 한다는 의견 주장함.\n",
    "\n",
    "- 기존의 정부 중심으로 공급자 입장에서 설치하던 충전소를 친환경 자동차 차주를 고려해 이용자 중심으로 변화 설치가 필요하다는 지적도 있다.\n",
    "\n",
    "즉, **꾸준히 증가하는 친환경 차량의 수요를 위해 저비용 고효율의 충전소 설치를 목표 한다.** 충전소 설치 사업자의 기대 수익 최적화를 위해 사용자 입장을 고려한 체계적이며 최적의 입지 선정 결과를 제시함."
   ]
  },
  {
   "cell_type": "markdown",
   "metadata": {},
   "source": [
    "## 사용 데이터\n",
    "\n",
    "1. 충전소 위치 및 현황 정보\n",
    "2. 급속충전기 보급 현황\n",
    "3. LPG충전소 현황\n",
    "4. 오존 월별 대기오염도\n",
    "5. 아황산가스 월별 대기오염도\n",
    "6. 이산화질소 월별 대기오염도\n",
    "7. 미세먼지 월별 대기오염도\n",
    "8. 행정구역별 인구수\n",
    "9. 항만 현황\n",
    "10. 지역별 전기차 등록대 수"
   ]
  },
  {
   "cell_type": "code",
   "execution_count": 124,
   "metadata": {
    "collapsed": false,
    "jupyter": {
     "outputs_hidden": false
    },
    "pycharm": {
     "name": "#%%\n"
    }
   },
   "outputs": [],
   "source": [
    "import pandas as pd\n",
    "import matplotlib.pyplot as plt\n",
    "import seaborn as sns\n",
    "import osmnx as ox\n",
    "import networkx as nx\n",
    "import numpy as np\n",
    "from scipy.stats import norm\n",
    "import plotly.express as px\n",
    "import plotly.graph_objects as go\n",
    "import pgmpy as pg\n",
    "from pgmpy.factors.discrete import JointProbabilityDistribution as JPD"
   ]
  },
  {
   "cell_type": "markdown",
   "metadata": {},
   "source": [
    "## 데이터 적합성 판단 기준"
   ]
  },
  {
   "cell_type": "code",
   "execution_count": 477,
   "metadata": {},
   "outputs": [],
   "source": [
    "# 환경 요인 판단 기준\n",
    "o3_standard = 0.003     # 오존\n",
    "so2_standard = 0.002    # 아황산가스\n",
    "no2_standard = 0.012    # 이산화질소    \n",
    "co_standard = 0.3       # 일산화탄소\n",
    "pm10_standard = 15      # 미세먼지\n",
    "pm25_standard = 10      # 초미세먼지\n",
    "\n",
    "\n",
    "# 사회 요인 판단 기준\n",
    "density_standard = 40_000  # 인구밀도\n",
    "floating_density_standard = 400_000   # 유동인구밀도\n",
    "\n",
    "EV_per_charger_standard = 5.1     # 전기차충전기당 전기차수\n",
    "HV_per_charger_standard = 100    # 수소차충전기당 수소차수\n",
    "street_supply_standard = 0.3     # 도로보급률\n",
    "\n",
    "# 경제 요인 판단 기준\n",
    "EVCS_cost_standard = 35_000_000             # 급속 충전기 설치비용\n",
    "# 17_500_000(정부보조금 최대지원가능금액, 출처 한국에너지공단 '2022년 전기차충전서비스산업육성산업) / 0.5(보조율) = 35_000_000\n",
    "HVCS_construction_cost_standard = 3_000_000_000    # 수소충전소 구축 비용\n",
    "# 1_500_000_000(정부보조금 최대지원가능금액, 출처 환경부'2022년 수소차 보급 및 충전소 설치사업 보조금 업무처리지침 / 0.5 (일반수소충전소 보조율) = 3_000_000_000(구축비용)\n",
    "# 4_200_000_000(정부보조금 최대지원가능금액, 출처 환경부'2022년 수소차 보급 및 충전소 설치사업 보조금 업무처리지침 / 0.7 (특수수소충전소 보조율) = 6_000_000_000(구축비용)\n",
    "income_standard = 3_600          # 연 평균소득\n",
    "maintenance_cost_standard = 100      # 유지비용\n",
    "\n",
    "# 기술 요인 판단 기준\n",
    "charger_pro_default = 0.38          # 충전기 용량(전기,수소)\n",
    "                                    # 수소 공급 방식(수소)\n",
    "                                    # 충전소당 공급가능한 전력량(전기)\n",
    "                                    # 하루 최대 충전가능 수소차 수(수소)\n",
    "                                    # 폐배터리 처리장 유무(전기) "
   ]
  },
  {
   "cell_type": "code",
   "execution_count": 126,
   "metadata": {
    "collapsed": false,
    "pycharm": {
     "name": "#%%\n"
    }
   },
   "outputs": [],
   "source": [
    "def advanced_replace(df, col, str, regex):\n",
    "    '''\n",
    "    DataFrame 특정 열의 특수문자 제거\n",
    "    :param df: 대상 DataFrame\n",
    "    :param col: column\n",
    "    :param str: 제거할 특수 문자.\n",
    "    :param regex: 적용할 정규표현식\n",
    "    :return:\n",
    "    '''\n",
    "    df[col] = df[col].replace(str,0)\n",
    "    df[col] = df[col].replace(to_replace=regex, value=r'', regex=True)\n",
    "    return df"
   ]
  },
  {
   "cell_type": "code",
   "execution_count": 127,
   "metadata": {},
   "outputs": [],
   "source": [
    "def show_norm(mean,std,min,max):\n",
    "     '''\n",
    "     정규분포 함수를 matplotlib을 통해 시각화\n",
    "     mean: 평균값\n",
    "     std: 표준편차\n",
    "     min: 관측된 데이터의 최솟값\n",
    "     max: 관측된 데이터의 최댓값\n",
    "     '''\n",
    "     min = min - std\n",
    "     # x값 설정(min에서 max까지 unit만큼씩 증가하는 x)\n",
    "     x = np.linspace(min,max,100)\n",
    "     # y값은 평균이 mean이고 표준편차가 std인 확률밀도함수\n",
    "     fig = px.line(x=x,y=norm.pdf(x,loc=mean,scale=std))\n",
    "     fig.show()"
   ]
  },
  {
   "cell_type": "code",
   "execution_count": 257,
   "metadata": {},
   "outputs": [],
   "source": [
    "def cal_norm(mean,std,min,max,value,affect):\n",
    "     '''\n",
    "     정규분포에서 value에 대한 누적확률 구하기\n",
    "     mean: 평균값\n",
    "     std: 표준편차\n",
    "     min: 관측된 데이터의 최솟값\n",
    "     max: 관측된 데이터의 최댓값\n",
    "     value: 누적확률을 구하고자 하는 데이터의 측정값\n",
    "     affect: 입지에 긍정/부정적인 영향(True/False)\n",
    "     '''\n",
    "     min = min - std\n",
    "     red ='rgb(239,85,59)'\n",
    "     blue = 'rgb(100,110,250)'\n",
    "     fig = go.Figure()\n",
    "     \n",
    "     # 확률 값을 구할 특정 구간의 범위 설정\n",
    "     cum_a = np.linspace(min,value,100)\n",
    "     cum_b = np.linspace(value,max,100)\n",
    "     \n",
    "     # value까지의 누적확률에서 min까지의 누적확률을 뺌\n",
    "     pro = norm(mean,std).cdf(value)-norm(mean,std).cdf(min).round(3)\n",
    "     if affect == True:\n",
    "          # 구간 사이에 색을 채움\n",
    "          fig.add_trace(go.Scatter(x=cum_a,y=norm.pdf(cum_a,mean,std), fill = 'tozeroy',name='적합',line=dict(color=blue)))\n",
    "          fig.add_trace(go.Scatter(x=cum_b,y=norm.pdf(cum_b,mean,std), fill = 'tozeroy',name='부적합',line=dict(color=red)))\n",
    "          fig.update_yaxes(visible=False)\n",
    "          annotations = []\n",
    "          annotations.append(dict(x=value, y=norm.pdf(value,loc=mean,scale=std), showarrow=False, text=round(pro,3), font=dict(size=15,color=blue), xshift=-40, yshift=-100, bordercolor=blue,borderwidth=2))\n",
    "          annotations.append(dict(x=value, y=norm.pdf(value,loc=mean,scale=std), showarrow=False, text=round(1-pro,3),font=dict(size=15,color=red),xshift=40, yshift=-100, bordercolor=red,borderwidth=2))\n",
    "     else:\n",
    "          fig.add_trace(go.Scatter(x=cum_a,y=norm.pdf(cum_a,mean,std), fill = 'tozeroy',name='부적합',line=dict(color=red)))\n",
    "          fig.add_trace(go.Scatter(x=cum_b,y=norm.pdf(cum_b,mean,std), fill = 'tozeroy',name='적합',line=dict(color=blue)))\n",
    "          fig.update_yaxes(visible=False)\n",
    "          annotations = []\n",
    "          annotations.append(dict(x=value, y=norm.pdf(value,loc=mean,scale=std), showarrow=False, text=round(pro,3), font=dict(size=15,color=red), xshift=-40, yshift=-100, bordercolor=red,borderwidth=2))\n",
    "          annotations.append(dict(x=value, y=norm.pdf(value,loc=mean,scale=std), showarrow=False, text=round(1-pro,3),font=dict(size=15,color=blue),xshift=40, yshift=-100, bordercolor=blue,borderwidth=2))     \n",
    "          pro = 1 - pro\n",
    "     fig.update_layout(annotations=annotations)\n",
    "     \n",
    "     fig.show()\n",
    "\n",
    "     # 최종 누적확률 반환\n",
    "     return pro, 1-pro"
   ]
  },
  {
   "cell_type": "code",
   "execution_count": 129,
   "metadata": {},
   "outputs": [],
   "source": [
    "# 데이터의 수를 통한 확률 계산\n",
    "def cal_pro(dataframe,column,standard,affect):\n",
    "    if dataframe[column].dtypes == 'dtype(\\'O\\')':\n",
    "        num = dataframe[dataframe[column]==standard].shape[0]\n",
    "        total_num = dataframe.shape[0]\n",
    "    else:\n",
    "        if affect == True:\n",
    "            num = dataframe[dataframe[column]>=standard].shape[0]\n",
    "            total_num = dataframe.shape[0]\n",
    "        else:\n",
    "            num = dataframe[dataframe[column]<standard].shape[0]\n",
    "            total_num = dataframe.shape[0]\n",
    "\n",
    "    probability = num/total_num\n",
    "\n",
    "    return probability, 1-probability"
   ]
  },
  {
   "cell_type": "markdown",
   "metadata": {},
   "source": [
    "## 상위 요소 - 환경적 요인\n",
    "\n",
    "대기오염도를 기반하여 확률 값을 계산한다."
   ]
  },
  {
   "cell_type": "markdown",
   "metadata": {},
   "source": [
    "### 대기오염도 데이터 불러오기"
   ]
  },
  {
   "cell_type": "code",
   "execution_count": 258,
   "metadata": {},
   "outputs": [
    {
     "data": {
      "text/html": [
       "<div>\n",
       "<style scoped>\n",
       "    .dataframe tbody tr th:only-of-type {\n",
       "        vertical-align: middle;\n",
       "    }\n",
       "\n",
       "    .dataframe tbody tr th {\n",
       "        vertical-align: top;\n",
       "    }\n",
       "\n",
       "    .dataframe thead th {\n",
       "        text-align: right;\n",
       "    }\n",
       "</style>\n",
       "<table border=\"1\" class=\"dataframe\">\n",
       "  <thead>\n",
       "    <tr style=\"text-align: right;\">\n",
       "      <th></th>\n",
       "      <th>sidoName</th>\n",
       "      <th>stationName</th>\n",
       "      <th>mangName</th>\n",
       "      <th>so2Value</th>\n",
       "      <th>coValue</th>\n",
       "      <th>o3Value</th>\n",
       "      <th>no2Value</th>\n",
       "      <th>pm10Value</th>\n",
       "      <th>pm25Value</th>\n",
       "      <th>khaiValue</th>\n",
       "    </tr>\n",
       "  </thead>\n",
       "  <tbody>\n",
       "    <tr>\n",
       "      <th>0</th>\n",
       "      <td>충북</td>\n",
       "      <td>송정동(봉명동)</td>\n",
       "      <td>도시대기</td>\n",
       "      <td>0.002</td>\n",
       "      <td>0.6</td>\n",
       "      <td>0.003</td>\n",
       "      <td>0.022</td>\n",
       "      <td>65.0</td>\n",
       "      <td>12.0</td>\n",
       "      <td>56.0</td>\n",
       "    </tr>\n",
       "    <tr>\n",
       "      <th>1</th>\n",
       "      <td>충북</td>\n",
       "      <td>사천동</td>\n",
       "      <td>도시대기</td>\n",
       "      <td>0.002</td>\n",
       "      <td>0.5</td>\n",
       "      <td>0.002</td>\n",
       "      <td>0.019</td>\n",
       "      <td>28.0</td>\n",
       "      <td>22.0</td>\n",
       "      <td>59.0</td>\n",
       "    </tr>\n",
       "    <tr>\n",
       "      <th>2</th>\n",
       "      <td>충북</td>\n",
       "      <td>용담동</td>\n",
       "      <td>도시대기</td>\n",
       "      <td>NaN</td>\n",
       "      <td>0.4</td>\n",
       "      <td>0.002</td>\n",
       "      <td>0.018</td>\n",
       "      <td>12.0</td>\n",
       "      <td>11.0</td>\n",
       "      <td>30.0</td>\n",
       "    </tr>\n",
       "    <tr>\n",
       "      <th>3</th>\n",
       "      <td>충북</td>\n",
       "      <td>용암동</td>\n",
       "      <td>도시대기</td>\n",
       "      <td>0.002</td>\n",
       "      <td>0.5</td>\n",
       "      <td>0.002</td>\n",
       "      <td>0.017</td>\n",
       "      <td>31.0</td>\n",
       "      <td>15.0</td>\n",
       "      <td>52.0</td>\n",
       "    </tr>\n",
       "    <tr>\n",
       "      <th>4</th>\n",
       "      <td>충북</td>\n",
       "      <td>복대동</td>\n",
       "      <td>도로변대기</td>\n",
       "      <td>0.004</td>\n",
       "      <td>0.7</td>\n",
       "      <td>0.002</td>\n",
       "      <td>0.028</td>\n",
       "      <td>25.0</td>\n",
       "      <td>10.0</td>\n",
       "      <td>47.0</td>\n",
       "    </tr>\n",
       "    <tr>\n",
       "      <th>...</th>\n",
       "      <td>...</td>\n",
       "      <td>...</td>\n",
       "      <td>...</td>\n",
       "      <td>...</td>\n",
       "      <td>...</td>\n",
       "      <td>...</td>\n",
       "      <td>...</td>\n",
       "      <td>...</td>\n",
       "      <td>...</td>\n",
       "      <td>...</td>\n",
       "    </tr>\n",
       "    <tr>\n",
       "      <th>10907</th>\n",
       "      <td>강원</td>\n",
       "      <td>묵호항</td>\n",
       "      <td>항만</td>\n",
       "      <td>0.013</td>\n",
       "      <td>1.3</td>\n",
       "      <td>0.003</td>\n",
       "      <td>0.034</td>\n",
       "      <td>33.0</td>\n",
       "      <td>16.0</td>\n",
       "      <td>56.0</td>\n",
       "    </tr>\n",
       "    <tr>\n",
       "      <th>10908</th>\n",
       "      <td>강원</td>\n",
       "      <td>철원(DMZ)</td>\n",
       "      <td>교외대기</td>\n",
       "      <td>0.001</td>\n",
       "      <td>0.3</td>\n",
       "      <td>0.023</td>\n",
       "      <td>0.010</td>\n",
       "      <td>28.0</td>\n",
       "      <td>27.0</td>\n",
       "      <td>82.0</td>\n",
       "    </tr>\n",
       "    <tr>\n",
       "      <th>10909</th>\n",
       "      <td>강원</td>\n",
       "      <td>화천(DMZ)</td>\n",
       "      <td>교외대기</td>\n",
       "      <td>0.001</td>\n",
       "      <td>0.3</td>\n",
       "      <td>0.033</td>\n",
       "      <td>0.007</td>\n",
       "      <td>16.0</td>\n",
       "      <td>15.0</td>\n",
       "      <td>64.0</td>\n",
       "    </tr>\n",
       "    <tr>\n",
       "      <th>10910</th>\n",
       "      <td>강원</td>\n",
       "      <td>인제(DMZ)</td>\n",
       "      <td>교외대기</td>\n",
       "      <td>0.001</td>\n",
       "      <td>0.2</td>\n",
       "      <td>0.038</td>\n",
       "      <td>0.005</td>\n",
       "      <td>10.0</td>\n",
       "      <td>8.0</td>\n",
       "      <td>57.0</td>\n",
       "    </tr>\n",
       "    <tr>\n",
       "      <th>10911</th>\n",
       "      <td>강원</td>\n",
       "      <td>고성(DMZ)</td>\n",
       "      <td>교외대기</td>\n",
       "      <td>0.002</td>\n",
       "      <td>0.2</td>\n",
       "      <td>0.044</td>\n",
       "      <td>0.005</td>\n",
       "      <td>20.0</td>\n",
       "      <td>12.0</td>\n",
       "      <td>62.0</td>\n",
       "    </tr>\n",
       "  </tbody>\n",
       "</table>\n",
       "<p>10912 rows × 10 columns</p>\n",
       "</div>"
      ],
      "text/plain": [
       "      sidoName stationName mangName  so2Value  coValue  o3Value  no2Value  \\\n",
       "0           충북    송정동(봉명동)     도시대기     0.002      0.6    0.003     0.022   \n",
       "1           충북         사천동     도시대기     0.002      0.5    0.002     0.019   \n",
       "2           충북         용담동     도시대기       NaN      0.4    0.002     0.018   \n",
       "3           충북         용암동     도시대기     0.002      0.5    0.002     0.017   \n",
       "4           충북         복대동    도로변대기     0.004      0.7    0.002     0.028   \n",
       "...        ...         ...      ...       ...      ...      ...       ...   \n",
       "10907       강원         묵호항       항만     0.013      1.3    0.003     0.034   \n",
       "10908       강원     철원(DMZ)     교외대기     0.001      0.3    0.023     0.010   \n",
       "10909       강원     화천(DMZ)     교외대기     0.001      0.3    0.033     0.007   \n",
       "10910       강원     인제(DMZ)     교외대기     0.001      0.2    0.038     0.005   \n",
       "10911       강원     고성(DMZ)     교외대기     0.002      0.2    0.044     0.005   \n",
       "\n",
       "       pm10Value  pm25Value  khaiValue  \n",
       "0           65.0       12.0       56.0  \n",
       "1           28.0       22.0       59.0  \n",
       "2           12.0       11.0       30.0  \n",
       "3           31.0       15.0       52.0  \n",
       "4           25.0       10.0       47.0  \n",
       "...          ...        ...        ...  \n",
       "10907       33.0       16.0       56.0  \n",
       "10908       28.0       27.0       82.0  \n",
       "10909       16.0       15.0       64.0  \n",
       "10910       10.0        8.0       57.0  \n",
       "10911       20.0       12.0       62.0  \n",
       "\n",
       "[10912 rows x 10 columns]"
      ]
     },
     "execution_count": 258,
     "metadata": {},
     "output_type": "execute_result"
    }
   ],
   "source": [
    "air_pollution_file_path = \"C:\\\\Users\\\\SAMSUNG\\\\Desktop\\\\Green-Car-Charging-Station-Site-Selection\\\\Data\\\\대기오염시도별실시간측정정보(환경부).csv\"\n",
    "df_air_pollution = pd.read_csv(air_pollution_file_path, encoding='cp949')\n",
    "df_air_pollution"
   ]
  },
  {
   "cell_type": "markdown",
   "metadata": {},
   "source": [
    "### 결측값 보간"
   ]
  },
  {
   "cell_type": "code",
   "execution_count": 259,
   "metadata": {},
   "outputs": [
    {
     "data": {
      "text/html": [
       "<div>\n",
       "<style scoped>\n",
       "    .dataframe tbody tr th:only-of-type {\n",
       "        vertical-align: middle;\n",
       "    }\n",
       "\n",
       "    .dataframe tbody tr th {\n",
       "        vertical-align: top;\n",
       "    }\n",
       "\n",
       "    .dataframe thead th {\n",
       "        text-align: right;\n",
       "    }\n",
       "</style>\n",
       "<table border=\"1\" class=\"dataframe\">\n",
       "  <thead>\n",
       "    <tr style=\"text-align: right;\">\n",
       "      <th></th>\n",
       "      <th>sidoName</th>\n",
       "      <th>stationName</th>\n",
       "      <th>mangName</th>\n",
       "      <th>so2Value</th>\n",
       "      <th>coValue</th>\n",
       "      <th>o3Value</th>\n",
       "      <th>no2Value</th>\n",
       "      <th>pm10Value</th>\n",
       "      <th>pm25Value</th>\n",
       "      <th>khaiValue</th>\n",
       "    </tr>\n",
       "  </thead>\n",
       "  <tbody>\n",
       "    <tr>\n",
       "      <th>0</th>\n",
       "      <td>충북</td>\n",
       "      <td>송정동(봉명동)</td>\n",
       "      <td>도시대기</td>\n",
       "      <td>0.002</td>\n",
       "      <td>0.6</td>\n",
       "      <td>0.003</td>\n",
       "      <td>0.022</td>\n",
       "      <td>65.0</td>\n",
       "      <td>12.0</td>\n",
       "      <td>56.0</td>\n",
       "    </tr>\n",
       "    <tr>\n",
       "      <th>1</th>\n",
       "      <td>충북</td>\n",
       "      <td>사천동</td>\n",
       "      <td>도시대기</td>\n",
       "      <td>0.002</td>\n",
       "      <td>0.5</td>\n",
       "      <td>0.002</td>\n",
       "      <td>0.019</td>\n",
       "      <td>28.0</td>\n",
       "      <td>22.0</td>\n",
       "      <td>59.0</td>\n",
       "    </tr>\n",
       "    <tr>\n",
       "      <th>2</th>\n",
       "      <td>충북</td>\n",
       "      <td>용담동</td>\n",
       "      <td>도시대기</td>\n",
       "      <td>0.002</td>\n",
       "      <td>0.4</td>\n",
       "      <td>0.002</td>\n",
       "      <td>0.018</td>\n",
       "      <td>12.0</td>\n",
       "      <td>11.0</td>\n",
       "      <td>30.0</td>\n",
       "    </tr>\n",
       "    <tr>\n",
       "      <th>3</th>\n",
       "      <td>충북</td>\n",
       "      <td>용암동</td>\n",
       "      <td>도시대기</td>\n",
       "      <td>0.002</td>\n",
       "      <td>0.5</td>\n",
       "      <td>0.002</td>\n",
       "      <td>0.017</td>\n",
       "      <td>31.0</td>\n",
       "      <td>15.0</td>\n",
       "      <td>52.0</td>\n",
       "    </tr>\n",
       "    <tr>\n",
       "      <th>4</th>\n",
       "      <td>충북</td>\n",
       "      <td>복대동</td>\n",
       "      <td>도로변대기</td>\n",
       "      <td>0.004</td>\n",
       "      <td>0.7</td>\n",
       "      <td>0.002</td>\n",
       "      <td>0.028</td>\n",
       "      <td>25.0</td>\n",
       "      <td>10.0</td>\n",
       "      <td>47.0</td>\n",
       "    </tr>\n",
       "    <tr>\n",
       "      <th>...</th>\n",
       "      <td>...</td>\n",
       "      <td>...</td>\n",
       "      <td>...</td>\n",
       "      <td>...</td>\n",
       "      <td>...</td>\n",
       "      <td>...</td>\n",
       "      <td>...</td>\n",
       "      <td>...</td>\n",
       "      <td>...</td>\n",
       "      <td>...</td>\n",
       "    </tr>\n",
       "    <tr>\n",
       "      <th>10907</th>\n",
       "      <td>강원</td>\n",
       "      <td>묵호항</td>\n",
       "      <td>항만</td>\n",
       "      <td>0.013</td>\n",
       "      <td>1.3</td>\n",
       "      <td>0.003</td>\n",
       "      <td>0.034</td>\n",
       "      <td>33.0</td>\n",
       "      <td>16.0</td>\n",
       "      <td>56.0</td>\n",
       "    </tr>\n",
       "    <tr>\n",
       "      <th>10908</th>\n",
       "      <td>강원</td>\n",
       "      <td>철원(DMZ)</td>\n",
       "      <td>교외대기</td>\n",
       "      <td>0.001</td>\n",
       "      <td>0.3</td>\n",
       "      <td>0.023</td>\n",
       "      <td>0.010</td>\n",
       "      <td>28.0</td>\n",
       "      <td>27.0</td>\n",
       "      <td>82.0</td>\n",
       "    </tr>\n",
       "    <tr>\n",
       "      <th>10909</th>\n",
       "      <td>강원</td>\n",
       "      <td>화천(DMZ)</td>\n",
       "      <td>교외대기</td>\n",
       "      <td>0.001</td>\n",
       "      <td>0.3</td>\n",
       "      <td>0.033</td>\n",
       "      <td>0.007</td>\n",
       "      <td>16.0</td>\n",
       "      <td>15.0</td>\n",
       "      <td>64.0</td>\n",
       "    </tr>\n",
       "    <tr>\n",
       "      <th>10910</th>\n",
       "      <td>강원</td>\n",
       "      <td>인제(DMZ)</td>\n",
       "      <td>교외대기</td>\n",
       "      <td>0.001</td>\n",
       "      <td>0.2</td>\n",
       "      <td>0.038</td>\n",
       "      <td>0.005</td>\n",
       "      <td>10.0</td>\n",
       "      <td>8.0</td>\n",
       "      <td>57.0</td>\n",
       "    </tr>\n",
       "    <tr>\n",
       "      <th>10911</th>\n",
       "      <td>강원</td>\n",
       "      <td>고성(DMZ)</td>\n",
       "      <td>교외대기</td>\n",
       "      <td>0.002</td>\n",
       "      <td>0.2</td>\n",
       "      <td>0.044</td>\n",
       "      <td>0.005</td>\n",
       "      <td>20.0</td>\n",
       "      <td>12.0</td>\n",
       "      <td>62.0</td>\n",
       "    </tr>\n",
       "  </tbody>\n",
       "</table>\n",
       "<p>10912 rows × 10 columns</p>\n",
       "</div>"
      ],
      "text/plain": [
       "      sidoName stationName mangName  so2Value  coValue  o3Value  no2Value  \\\n",
       "0           충북    송정동(봉명동)     도시대기     0.002      0.6    0.003     0.022   \n",
       "1           충북         사천동     도시대기     0.002      0.5    0.002     0.019   \n",
       "2           충북         용담동     도시대기     0.002      0.4    0.002     0.018   \n",
       "3           충북         용암동     도시대기     0.002      0.5    0.002     0.017   \n",
       "4           충북         복대동    도로변대기     0.004      0.7    0.002     0.028   \n",
       "...        ...         ...      ...       ...      ...      ...       ...   \n",
       "10907       강원         묵호항       항만     0.013      1.3    0.003     0.034   \n",
       "10908       강원     철원(DMZ)     교외대기     0.001      0.3    0.023     0.010   \n",
       "10909       강원     화천(DMZ)     교외대기     0.001      0.3    0.033     0.007   \n",
       "10910       강원     인제(DMZ)     교외대기     0.001      0.2    0.038     0.005   \n",
       "10911       강원     고성(DMZ)     교외대기     0.002      0.2    0.044     0.005   \n",
       "\n",
       "       pm10Value  pm25Value  khaiValue  \n",
       "0           65.0       12.0       56.0  \n",
       "1           28.0       22.0       59.0  \n",
       "2           12.0       11.0       30.0  \n",
       "3           31.0       15.0       52.0  \n",
       "4           25.0       10.0       47.0  \n",
       "...          ...        ...        ...  \n",
       "10907       33.0       16.0       56.0  \n",
       "10908       28.0       27.0       82.0  \n",
       "10909       16.0       15.0       64.0  \n",
       "10910       10.0        8.0       57.0  \n",
       "10911       20.0       12.0       62.0  \n",
       "\n",
       "[10912 rows x 10 columns]"
      ]
     },
     "execution_count": 259,
     "metadata": {},
     "output_type": "execute_result"
    }
   ],
   "source": [
    "df_air_pollution = df_air_pollution.interpolate(method='pad')\n",
    "df_air_pollution"
   ]
  },
  {
   "cell_type": "markdown",
   "metadata": {},
   "source": [
    "### 부산 대기오염 데이터 추출"
   ]
  },
  {
   "cell_type": "code",
   "execution_count": 260,
   "metadata": {},
   "outputs": [
    {
     "data": {
      "text/html": [
       "<div>\n",
       "<style scoped>\n",
       "    .dataframe tbody tr th:only-of-type {\n",
       "        vertical-align: middle;\n",
       "    }\n",
       "\n",
       "    .dataframe tbody tr th {\n",
       "        vertical-align: top;\n",
       "    }\n",
       "\n",
       "    .dataframe thead th {\n",
       "        text-align: right;\n",
       "    }\n",
       "</style>\n",
       "<table border=\"1\" class=\"dataframe\">\n",
       "  <thead>\n",
       "    <tr style=\"text-align: right;\">\n",
       "      <th></th>\n",
       "      <th>sidoName</th>\n",
       "      <th>stationName</th>\n",
       "      <th>mangName</th>\n",
       "      <th>so2Value</th>\n",
       "      <th>coValue</th>\n",
       "      <th>o3Value</th>\n",
       "      <th>no2Value</th>\n",
       "      <th>pm10Value</th>\n",
       "      <th>pm25Value</th>\n",
       "      <th>khaiValue</th>\n",
       "    </tr>\n",
       "  </thead>\n",
       "  <tbody>\n",
       "    <tr>\n",
       "      <th>0</th>\n",
       "      <td>부산</td>\n",
       "      <td>광복동</td>\n",
       "      <td>도시대기</td>\n",
       "      <td>0.002</td>\n",
       "      <td>0.3</td>\n",
       "      <td>0.016</td>\n",
       "      <td>0.018</td>\n",
       "      <td>11.0</td>\n",
       "      <td>8.0</td>\n",
       "      <td>30.0</td>\n",
       "    </tr>\n",
       "    <tr>\n",
       "      <th>1</th>\n",
       "      <td>부산</td>\n",
       "      <td>초량동</td>\n",
       "      <td>도로변대기</td>\n",
       "      <td>0.002</td>\n",
       "      <td>0.4</td>\n",
       "      <td>0.010</td>\n",
       "      <td>0.028</td>\n",
       "      <td>16.0</td>\n",
       "      <td>5.0</td>\n",
       "      <td>47.0</td>\n",
       "    </tr>\n",
       "    <tr>\n",
       "      <th>2</th>\n",
       "      <td>부산</td>\n",
       "      <td>태종대</td>\n",
       "      <td>도시대기</td>\n",
       "      <td>0.003</td>\n",
       "      <td>0.2</td>\n",
       "      <td>0.019</td>\n",
       "      <td>0.020</td>\n",
       "      <td>15.0</td>\n",
       "      <td>10.0</td>\n",
       "      <td>33.0</td>\n",
       "    </tr>\n",
       "    <tr>\n",
       "      <th>3</th>\n",
       "      <td>부산</td>\n",
       "      <td>청학동</td>\n",
       "      <td>도시대기</td>\n",
       "      <td>0.003</td>\n",
       "      <td>0.2</td>\n",
       "      <td>0.021</td>\n",
       "      <td>0.018</td>\n",
       "      <td>10.0</td>\n",
       "      <td>7.0</td>\n",
       "      <td>35.0</td>\n",
       "    </tr>\n",
       "    <tr>\n",
       "      <th>4</th>\n",
       "      <td>부산</td>\n",
       "      <td>전포동</td>\n",
       "      <td>도시대기</td>\n",
       "      <td>0.002</td>\n",
       "      <td>0.2</td>\n",
       "      <td>0.016</td>\n",
       "      <td>0.014</td>\n",
       "      <td>14.0</td>\n",
       "      <td>10.0</td>\n",
       "      <td>37.0</td>\n",
       "    </tr>\n",
       "    <tr>\n",
       "      <th>...</th>\n",
       "      <td>...</td>\n",
       "      <td>...</td>\n",
       "      <td>...</td>\n",
       "      <td>...</td>\n",
       "      <td>...</td>\n",
       "      <td>...</td>\n",
       "      <td>...</td>\n",
       "      <td>...</td>\n",
       "      <td>...</td>\n",
       "      <td>...</td>\n",
       "    </tr>\n",
       "    <tr>\n",
       "      <th>625</th>\n",
       "      <td>부산</td>\n",
       "      <td>하단동</td>\n",
       "      <td>도시대기</td>\n",
       "      <td>0.003</td>\n",
       "      <td>0.4</td>\n",
       "      <td>0.015</td>\n",
       "      <td>0.029</td>\n",
       "      <td>43.0</td>\n",
       "      <td>23.0</td>\n",
       "      <td>66.0</td>\n",
       "    </tr>\n",
       "    <tr>\n",
       "      <th>626</th>\n",
       "      <td>부산</td>\n",
       "      <td>하단동</td>\n",
       "      <td>도시대기</td>\n",
       "      <td>0.003</td>\n",
       "      <td>0.3</td>\n",
       "      <td>0.023</td>\n",
       "      <td>0.015</td>\n",
       "      <td>31.0</td>\n",
       "      <td>22.0</td>\n",
       "      <td>59.0</td>\n",
       "    </tr>\n",
       "    <tr>\n",
       "      <th>627</th>\n",
       "      <td>부산</td>\n",
       "      <td>하단동</td>\n",
       "      <td>도시대기</td>\n",
       "      <td>0.002</td>\n",
       "      <td>0.5</td>\n",
       "      <td>0.005</td>\n",
       "      <td>0.031</td>\n",
       "      <td>25.0</td>\n",
       "      <td>17.0</td>\n",
       "      <td>51.0</td>\n",
       "    </tr>\n",
       "    <tr>\n",
       "      <th>628</th>\n",
       "      <td>부산</td>\n",
       "      <td>하단동</td>\n",
       "      <td>도시대기</td>\n",
       "      <td>0.004</td>\n",
       "      <td>0.5</td>\n",
       "      <td>0.002</td>\n",
       "      <td>0.047</td>\n",
       "      <td>27.0</td>\n",
       "      <td>17.0</td>\n",
       "      <td>78.0</td>\n",
       "    </tr>\n",
       "    <tr>\n",
       "      <th>629</th>\n",
       "      <td>부산</td>\n",
       "      <td>하단동</td>\n",
       "      <td>도시대기</td>\n",
       "      <td>0.004</td>\n",
       "      <td>0.8</td>\n",
       "      <td>0.002</td>\n",
       "      <td>0.061</td>\n",
       "      <td>32.0</td>\n",
       "      <td>26.0</td>\n",
       "      <td>101.0</td>\n",
       "    </tr>\n",
       "  </tbody>\n",
       "</table>\n",
       "<p>630 rows × 10 columns</p>\n",
       "</div>"
      ],
      "text/plain": [
       "    sidoName stationName mangName  so2Value  coValue  o3Value  no2Value  \\\n",
       "0         부산         광복동     도시대기     0.002      0.3    0.016     0.018   \n",
       "1         부산         초량동    도로변대기     0.002      0.4    0.010     0.028   \n",
       "2         부산         태종대     도시대기     0.003      0.2    0.019     0.020   \n",
       "3         부산         청학동     도시대기     0.003      0.2    0.021     0.018   \n",
       "4         부산         전포동     도시대기     0.002      0.2    0.016     0.014   \n",
       "..       ...         ...      ...       ...      ...      ...       ...   \n",
       "625       부산         하단동     도시대기     0.003      0.4    0.015     0.029   \n",
       "626       부산         하단동     도시대기     0.003      0.3    0.023     0.015   \n",
       "627       부산         하단동     도시대기     0.002      0.5    0.005     0.031   \n",
       "628       부산         하단동     도시대기     0.004      0.5    0.002     0.047   \n",
       "629       부산         하단동     도시대기     0.004      0.8    0.002     0.061   \n",
       "\n",
       "     pm10Value  pm25Value  khaiValue  \n",
       "0         11.0        8.0       30.0  \n",
       "1         16.0        5.0       47.0  \n",
       "2         15.0       10.0       33.0  \n",
       "3         10.0        7.0       35.0  \n",
       "4         14.0       10.0       37.0  \n",
       "..         ...        ...        ...  \n",
       "625       43.0       23.0       66.0  \n",
       "626       31.0       22.0       59.0  \n",
       "627       25.0       17.0       51.0  \n",
       "628       27.0       17.0       78.0  \n",
       "629       32.0       26.0      101.0  \n",
       "\n",
       "[630 rows x 10 columns]"
      ]
     },
     "execution_count": 260,
     "metadata": {},
     "output_type": "execute_result"
    }
   ],
   "source": [
    "df_air_pollution = df_air_pollution[df_air_pollution['sidoName']=='부산']\n",
    "df_air_pollution.reset_index(drop=True,inplace=True)\n",
    "df_air_pollution"
   ]
  },
  {
   "cell_type": "markdown",
   "metadata": {},
   "source": [
    "#### 부산시 오존 적합도"
   ]
  },
  {
   "cell_type": "code",
   "execution_count": 261,
   "metadata": {},
   "outputs": [
    {
     "data": {
      "application/vnd.plotly.v1+json": {
       "config": {
        "plotlyServerURL": "https://plot.ly"
       },
       "data": [
        {
         "fill": "tozeroy",
         "line": {
          "color": "rgb(239,85,59)"
         },
         "name": "부적합",
         "type": "scatter",
         "x": [
          -0.010069783147038231,
          -0.009937765135451986,
          -0.009805747123865742,
          -0.009673729112279497,
          -0.009541711100693252,
          -0.009409693089107007,
          -0.009277675077520763,
          -0.009145657065934518,
          -0.009013639054348273,
          -0.008881621042762028,
          -0.008749603031175784,
          -0.008617585019589539,
          -0.008485567008003294,
          -0.008353548996417048,
          -0.008221530984830805,
          -0.00808951297324456,
          -0.007957494961658314,
          -0.007825476950072071,
          -0.007693458938485826,
          -0.0075614409268995805,
          -0.007429422915313335,
          -0.007297404903727091,
          -0.007165386892140847,
          -0.007033368880554601,
          -0.006901350868968357,
          -0.006769332857382113,
          -0.006637314845795867,
          -0.006505296834209622,
          -0.006373278822623378,
          -0.0062412608110371335,
          -0.006109242799450888,
          -0.005977224787864643,
          -0.005845206776278399,
          -0.005713188764692154,
          -0.005581170753105909,
          -0.005449152741519665,
          -0.0053171347299334195,
          -0.005185116718347175,
          -0.00505309870676093,
          -0.004921080695174686,
          -0.00478906268358844,
          -0.004657044672002196,
          -0.004525026660415951,
          -0.0043930086488297064,
          -0.004260990637243461,
          -0.004128972625657217,
          -0.003996954614070972,
          -0.0038649366024847273,
          -0.003732918590898483,
          -0.0036009005793122377,
          -0.0034688825677259933,
          -0.003336864556139748,
          -0.0032048465445535038,
          -0.0030728285329672585,
          -0.002940810521381014,
          -0.002808792509794769,
          -0.0026767744982085246,
          -0.0025447564866222794,
          -0.002412738475036035,
          -0.00228072046344979,
          -0.0021487024518635454,
          -0.0020166844402773002,
          -0.001884666428691055,
          -0.0017526484171048115,
          -0.0016206304055185663,
          -0.001488612393932321,
          -0.0013565943823460776,
          -0.0012245763707598323,
          -0.0010925583591735871,
          -0.0009605403475873419,
          -0.0008285223360010984,
          -0.0006965043244148532,
          -0.000564486312828608,
          -0.00043246830124236274,
          -0.00030045028965611925,
          -0.00016843227806987403,
          -0.000036414266483628804,
          0.00009560374510261642,
          0.0002276217566888599,
          0.00035963976827510513,
          0.0004916577798613504,
          0.0006236757914475938,
          0.0007556938030338391,
          0.0008877118146200843,
          0.0010197298262063295,
          0.001151747837792573,
          0.0012837658493788182,
          0.0014157838609650635,
          0.0015478018725513087,
          0.0016798198841375522,
          0.0018118378957237974,
          0.0019438559073100426,
          0.002075873918896288,
          0.0022078919304825313,
          0.0023399099420687765,
          0.0024719279536550218,
          0.0026039459652412653,
          0.0027359639768275105,
          0.0028679819884137557,
          0.003
         ],
         "y": [
          5.505372476886441,
          5.6337298395435775,
          5.764259941646827,
          5.896975566447146,
          6.031888849251251,
          6.169011255521749,
          6.308353558956408,
          6.449925819565017,
          6.593737361762667,
          6.73979675249876,
          6.888111779441449,
          7.038689429237446,
          7.191535865867768,
          7.346656409120082,
          7.504055513198859,
          7.663736745494725,
          7.825702765534732,
          7.989955304135674,
          8.1564951427826,
          8.325322093255203,
          8.496434977524745,
          8.669831607944618,
          8.845508767757492,
          9.02346219194257,
          9.203686548426253,
          9.386175419679887,
          9.570921284728096,
          9.75791550159155,
          9.947148290187847,
          10.13860871571416,
          10.332284672535632,
          10.528162868602902,
          10.726228810422606,
          10.926466788604232,
          11.128859864006758,
          11.333389854508244,
          11.54003732242147,
          11.74878156257835,
          11.9596005911057,
          12.172471134914664,
          12.387368621925658,
          12.604267172050598,
          12.823139588953467,
          13.043957352610226,
          13.266690612688365,
          13.491308182766002,
          13.717777535410105,
          13.946064798132582,
          14.176134750242605,
          14.407950820613085,
          14.641475086378161,
          14.876668272578428,
          15.113489752769564,
          15.351897550609463,
          15.5918483424383,
          15.83329746086504,
          16.07619889937316,
          16.32050531795769,
          16.566168049804528,
          16.81313710902235,
          17.06136119943654,
          17.310787724453384,
          17.56136279800218,
          17.813031256561658,
          18.06573667227632,
          18.31942136716707,
          18.57402642843974,
          18.829491724893863,
          19.08575592443303,
          19.34275651267716,
          19.600429812675753,
          19.858711005720316,
          20.11753415325268,
          20.37683221986521,
          20.63653709738736,
          20.89657963005222,
          21.156889640735127,
          21.41739595825575,
          21.678026445733373,
          21.93870802998429,
          22.19936673194887,
          22.45992769813463,
          22.72031523306069,
          22.98045283268752,
          23.24026321881492,
          23.49966837442995,
          23.758589579985298,
          24.016947450587498,
          24.27466197407332,
          24.53165254995129,
          24.78783802918453,
          25.043136754789643,
          25.297466603225594,
          25.55074502654523,
          25.80288909528128,
          26.05381554203731,
          26.303440805753553,
          26.55168107661612,
          26.79845234157744,
          27.043670430454732
         ]
        },
        {
         "fill": "tozeroy",
         "line": {
          "color": "rgb(100,110,250)"
         },
         "name": "적합",
         "type": "scatter",
         "x": [
          0.003,
          0.003494949494949495,
          0.00398989898989899,
          0.004484848484848485,
          0.00497979797979798,
          0.005474747474747474,
          0.0059696969696969695,
          0.006464646464646465,
          0.006959595959595959,
          0.007454545454545454,
          0.00794949494949495,
          0.008444444444444444,
          0.008939393939393938,
          0.009434343434343434,
          0.009929292929292928,
          0.010424242424242423,
          0.010919191919191919,
          0.011414141414141411,
          0.011909090909090907,
          0.012404040404040403,
          0.012898989898989896,
          0.013393939393939392,
          0.013888888888888888,
          0.01438383838383838,
          0.014878787878787877,
          0.015373737373737373,
          0.015868686868686865,
          0.01636363636363636,
          0.016858585858585858,
          0.01735353535353535,
          0.017848484848484846,
          0.018343434343434342,
          0.018838383838383835,
          0.01933333333333333,
          0.019828282828282823,
          0.02032323232323232,
          0.020818181818181816,
          0.021313131313131308,
          0.021808080808080804,
          0.0223030303030303,
          0.022797979797979793,
          0.02329292929292929,
          0.023787878787878785,
          0.024282828282828278,
          0.024777777777777774,
          0.02527272727272727,
          0.025767676767676762,
          0.02626262626262626,
          0.026757575757575754,
          0.027252525252525247,
          0.027747474747474743,
          0.028242424242424236,
          0.02873737373737373,
          0.029232323232323228,
          0.02972727272727272,
          0.030222222222222216,
          0.030717171717171712,
          0.031212121212121205,
          0.031707070707070704,
          0.0322020202020202,
          0.03269696969696969,
          0.03319191919191919,
          0.03368686868686868,
          0.034181818181818174,
          0.034676767676767674,
          0.035171717171717166,
          0.035666666666666666,
          0.03616161616161616,
          0.03665656565656565,
          0.03715151515151515,
          0.03764646464646464,
          0.038141414141414136,
          0.038636363636363635,
          0.03913131313131313,
          0.03962626262626262,
          0.04012121212121212,
          0.04061616161616161,
          0.041111111111111105,
          0.041606060606060605,
          0.0421010101010101,
          0.04259595959595959,
          0.04309090909090909,
          0.04358585858585858,
          0.044080808080808075,
          0.044575757575757574,
          0.04507070707070707,
          0.04556565656565656,
          0.04606060606060606,
          0.04655555555555555,
          0.047050505050505044,
          0.047545454545454544,
          0.048040404040404036,
          0.04853535353535353,
          0.04903030303030303,
          0.04952525252525252,
          0.05002020202020201,
          0.05051515151515151,
          0.051010101010101006,
          0.0515050505050505,
          0.052
         ],
         "y": [
          27.043670430454732,
          27.94775351372452,
          28.824378884121558,
          29.6691288769783,
          30.477645708440402,
          31.24566853138342,
          31.96907055754991,
          32.64389579737734,
          33.266394962644526,
          33.833060077907604,
          34.340657354883305,
          34.78625789948167,
          35.16726584395819,
          35.48144352636501,
          35.726933375706025,
          35.902276203378044,
          36.00642564892081,
          36.03875857999779,
          35.99908130199035,
          35.887631490631705,
          35.70507582070201,
          35.452503323884606,
          35.131414568368704,
          34.74370681061046,
          34.291655324805234,
          33.77789116710787,
          33.20537567857629,
          32.57737207241313,
          31.89741448666437,
          31.169274912552055,
          30.396928430659447,
          29.58451720198439,
          28.736313668310814,
          27.856683416448586,
          26.950048153830895,
          26.020849229044327,
          25.073512110536672,
          24.112412210549373,
          23.141842409903,
          22.165982603354912,
          21.188871545638058,
          20.2143812358156,
          19.246194033106114,
          18.28778265171174,
          17.342393136267738,
          16.413030874143505,
          15.50244965673257,
          14.61314375978071,
          13.747342973351543,
          12.907010475766546,
          12.093843413242057,
          11.3092760183412,
          10.554485076027815,
          9.83039752622066,
          9.137699976367102,
          8.476849886667084,
          7.848088184073482,
          7.251453058890055,
          6.68679469943196,
          6.15379072549624,
          5.651962089952649,
          5.180689229216411,
          4.739228257282887,
          4.326727013957377,
          3.9422407954623995,
          3.5847476143167856,
          3.2531628548366336,
          2.946353210410487,
          2.6631498084790395,
          2.4023604485683547,
          2.162780897484316,
          1.943205203617053,
          1.742435009009279,
          1.5592878532376013,
          1.3926044771075134,
          1.2412551465790156,
          1.1041450281660474,
          0.9802186562712548,
          0.8684635405414278,
          0.767912967400916,
          0.6776480545071594,
          0.596799120062007,
          0.5245464308083274,
          0.4601203932602602,
          0.402801252382106,
          0.3519183606754845,
          0.30684907858867233,
          0.2670173644568042,
          0.23189210894356233,
          0.2009852653054468,
          0.173849822851981,
          0.15007766683393337,
          0.12929736375131454,
          0.11117190681761481,
          0.09539645211949369,
          0.0816960719341679,
          0.0698235477614606,
          0.059557221935061085,
          0.0506989232294502,
          0.04307197869767931
         ]
        }
       ],
       "layout": {
        "annotations": [
         {
          "bordercolor": "rgb(239,85,59)",
          "borderwidth": 2,
          "font": {
           "color": "rgb(239,85,59)",
           "size": 15
          },
          "showarrow": false,
          "text": "0.198",
          "x": 0.003,
          "xshift": -40,
          "y": 27.043670430454732,
          "yshift": -100
         },
         {
          "bordercolor": "rgb(100,110,250)",
          "borderwidth": 2,
          "font": {
           "color": "rgb(100,110,250)",
           "size": 15
          },
          "showarrow": false,
          "text": "0.802",
          "x": 0.003,
          "xshift": 40,
          "y": 27.043670430454732,
          "yshift": -100
         }
        ],
        "template": {
         "data": {
          "bar": [
           {
            "error_x": {
             "color": "#2a3f5f"
            },
            "error_y": {
             "color": "#2a3f5f"
            },
            "marker": {
             "line": {
              "color": "#E5ECF6",
              "width": 0.5
             },
             "pattern": {
              "fillmode": "overlay",
              "size": 10,
              "solidity": 0.2
             }
            },
            "type": "bar"
           }
          ],
          "barpolar": [
           {
            "marker": {
             "line": {
              "color": "#E5ECF6",
              "width": 0.5
             },
             "pattern": {
              "fillmode": "overlay",
              "size": 10,
              "solidity": 0.2
             }
            },
            "type": "barpolar"
           }
          ],
          "carpet": [
           {
            "aaxis": {
             "endlinecolor": "#2a3f5f",
             "gridcolor": "white",
             "linecolor": "white",
             "minorgridcolor": "white",
             "startlinecolor": "#2a3f5f"
            },
            "baxis": {
             "endlinecolor": "#2a3f5f",
             "gridcolor": "white",
             "linecolor": "white",
             "minorgridcolor": "white",
             "startlinecolor": "#2a3f5f"
            },
            "type": "carpet"
           }
          ],
          "choropleth": [
           {
            "colorbar": {
             "outlinewidth": 0,
             "ticks": ""
            },
            "type": "choropleth"
           }
          ],
          "contour": [
           {
            "colorbar": {
             "outlinewidth": 0,
             "ticks": ""
            },
            "colorscale": [
             [
              0,
              "#0d0887"
             ],
             [
              0.1111111111111111,
              "#46039f"
             ],
             [
              0.2222222222222222,
              "#7201a8"
             ],
             [
              0.3333333333333333,
              "#9c179e"
             ],
             [
              0.4444444444444444,
              "#bd3786"
             ],
             [
              0.5555555555555556,
              "#d8576b"
             ],
             [
              0.6666666666666666,
              "#ed7953"
             ],
             [
              0.7777777777777778,
              "#fb9f3a"
             ],
             [
              0.8888888888888888,
              "#fdca26"
             ],
             [
              1,
              "#f0f921"
             ]
            ],
            "type": "contour"
           }
          ],
          "contourcarpet": [
           {
            "colorbar": {
             "outlinewidth": 0,
             "ticks": ""
            },
            "type": "contourcarpet"
           }
          ],
          "heatmap": [
           {
            "colorbar": {
             "outlinewidth": 0,
             "ticks": ""
            },
            "colorscale": [
             [
              0,
              "#0d0887"
             ],
             [
              0.1111111111111111,
              "#46039f"
             ],
             [
              0.2222222222222222,
              "#7201a8"
             ],
             [
              0.3333333333333333,
              "#9c179e"
             ],
             [
              0.4444444444444444,
              "#bd3786"
             ],
             [
              0.5555555555555556,
              "#d8576b"
             ],
             [
              0.6666666666666666,
              "#ed7953"
             ],
             [
              0.7777777777777778,
              "#fb9f3a"
             ],
             [
              0.8888888888888888,
              "#fdca26"
             ],
             [
              1,
              "#f0f921"
             ]
            ],
            "type": "heatmap"
           }
          ],
          "heatmapgl": [
           {
            "colorbar": {
             "outlinewidth": 0,
             "ticks": ""
            },
            "colorscale": [
             [
              0,
              "#0d0887"
             ],
             [
              0.1111111111111111,
              "#46039f"
             ],
             [
              0.2222222222222222,
              "#7201a8"
             ],
             [
              0.3333333333333333,
              "#9c179e"
             ],
             [
              0.4444444444444444,
              "#bd3786"
             ],
             [
              0.5555555555555556,
              "#d8576b"
             ],
             [
              0.6666666666666666,
              "#ed7953"
             ],
             [
              0.7777777777777778,
              "#fb9f3a"
             ],
             [
              0.8888888888888888,
              "#fdca26"
             ],
             [
              1,
              "#f0f921"
             ]
            ],
            "type": "heatmapgl"
           }
          ],
          "histogram": [
           {
            "marker": {
             "pattern": {
              "fillmode": "overlay",
              "size": 10,
              "solidity": 0.2
             }
            },
            "type": "histogram"
           }
          ],
          "histogram2d": [
           {
            "colorbar": {
             "outlinewidth": 0,
             "ticks": ""
            },
            "colorscale": [
             [
              0,
              "#0d0887"
             ],
             [
              0.1111111111111111,
              "#46039f"
             ],
             [
              0.2222222222222222,
              "#7201a8"
             ],
             [
              0.3333333333333333,
              "#9c179e"
             ],
             [
              0.4444444444444444,
              "#bd3786"
             ],
             [
              0.5555555555555556,
              "#d8576b"
             ],
             [
              0.6666666666666666,
              "#ed7953"
             ],
             [
              0.7777777777777778,
              "#fb9f3a"
             ],
             [
              0.8888888888888888,
              "#fdca26"
             ],
             [
              1,
              "#f0f921"
             ]
            ],
            "type": "histogram2d"
           }
          ],
          "histogram2dcontour": [
           {
            "colorbar": {
             "outlinewidth": 0,
             "ticks": ""
            },
            "colorscale": [
             [
              0,
              "#0d0887"
             ],
             [
              0.1111111111111111,
              "#46039f"
             ],
             [
              0.2222222222222222,
              "#7201a8"
             ],
             [
              0.3333333333333333,
              "#9c179e"
             ],
             [
              0.4444444444444444,
              "#bd3786"
             ],
             [
              0.5555555555555556,
              "#d8576b"
             ],
             [
              0.6666666666666666,
              "#ed7953"
             ],
             [
              0.7777777777777778,
              "#fb9f3a"
             ],
             [
              0.8888888888888888,
              "#fdca26"
             ],
             [
              1,
              "#f0f921"
             ]
            ],
            "type": "histogram2dcontour"
           }
          ],
          "mesh3d": [
           {
            "colorbar": {
             "outlinewidth": 0,
             "ticks": ""
            },
            "type": "mesh3d"
           }
          ],
          "parcoords": [
           {
            "line": {
             "colorbar": {
              "outlinewidth": 0,
              "ticks": ""
             }
            },
            "type": "parcoords"
           }
          ],
          "pie": [
           {
            "automargin": true,
            "type": "pie"
           }
          ],
          "scatter": [
           {
            "marker": {
             "colorbar": {
              "outlinewidth": 0,
              "ticks": ""
             }
            },
            "type": "scatter"
           }
          ],
          "scatter3d": [
           {
            "line": {
             "colorbar": {
              "outlinewidth": 0,
              "ticks": ""
             }
            },
            "marker": {
             "colorbar": {
              "outlinewidth": 0,
              "ticks": ""
             }
            },
            "type": "scatter3d"
           }
          ],
          "scattercarpet": [
           {
            "marker": {
             "colorbar": {
              "outlinewidth": 0,
              "ticks": ""
             }
            },
            "type": "scattercarpet"
           }
          ],
          "scattergeo": [
           {
            "marker": {
             "colorbar": {
              "outlinewidth": 0,
              "ticks": ""
             }
            },
            "type": "scattergeo"
           }
          ],
          "scattergl": [
           {
            "marker": {
             "colorbar": {
              "outlinewidth": 0,
              "ticks": ""
             }
            },
            "type": "scattergl"
           }
          ],
          "scattermapbox": [
           {
            "marker": {
             "colorbar": {
              "outlinewidth": 0,
              "ticks": ""
             }
            },
            "type": "scattermapbox"
           }
          ],
          "scatterpolar": [
           {
            "marker": {
             "colorbar": {
              "outlinewidth": 0,
              "ticks": ""
             }
            },
            "type": "scatterpolar"
           }
          ],
          "scatterpolargl": [
           {
            "marker": {
             "colorbar": {
              "outlinewidth": 0,
              "ticks": ""
             }
            },
            "type": "scatterpolargl"
           }
          ],
          "scatterternary": [
           {
            "marker": {
             "colorbar": {
              "outlinewidth": 0,
              "ticks": ""
             }
            },
            "type": "scatterternary"
           }
          ],
          "surface": [
           {
            "colorbar": {
             "outlinewidth": 0,
             "ticks": ""
            },
            "colorscale": [
             [
              0,
              "#0d0887"
             ],
             [
              0.1111111111111111,
              "#46039f"
             ],
             [
              0.2222222222222222,
              "#7201a8"
             ],
             [
              0.3333333333333333,
              "#9c179e"
             ],
             [
              0.4444444444444444,
              "#bd3786"
             ],
             [
              0.5555555555555556,
              "#d8576b"
             ],
             [
              0.6666666666666666,
              "#ed7953"
             ],
             [
              0.7777777777777778,
              "#fb9f3a"
             ],
             [
              0.8888888888888888,
              "#fdca26"
             ],
             [
              1,
              "#f0f921"
             ]
            ],
            "type": "surface"
           }
          ],
          "table": [
           {
            "cells": {
             "fill": {
              "color": "#EBF0F8"
             },
             "line": {
              "color": "white"
             }
            },
            "header": {
             "fill": {
              "color": "#C8D4E3"
             },
             "line": {
              "color": "white"
             }
            },
            "type": "table"
           }
          ]
         },
         "layout": {
          "annotationdefaults": {
           "arrowcolor": "#2a3f5f",
           "arrowhead": 0,
           "arrowwidth": 1
          },
          "autotypenumbers": "strict",
          "coloraxis": {
           "colorbar": {
            "outlinewidth": 0,
            "ticks": ""
           }
          },
          "colorscale": {
           "diverging": [
            [
             0,
             "#8e0152"
            ],
            [
             0.1,
             "#c51b7d"
            ],
            [
             0.2,
             "#de77ae"
            ],
            [
             0.3,
             "#f1b6da"
            ],
            [
             0.4,
             "#fde0ef"
            ],
            [
             0.5,
             "#f7f7f7"
            ],
            [
             0.6,
             "#e6f5d0"
            ],
            [
             0.7,
             "#b8e186"
            ],
            [
             0.8,
             "#7fbc41"
            ],
            [
             0.9,
             "#4d9221"
            ],
            [
             1,
             "#276419"
            ]
           ],
           "sequential": [
            [
             0,
             "#0d0887"
            ],
            [
             0.1111111111111111,
             "#46039f"
            ],
            [
             0.2222222222222222,
             "#7201a8"
            ],
            [
             0.3333333333333333,
             "#9c179e"
            ],
            [
             0.4444444444444444,
             "#bd3786"
            ],
            [
             0.5555555555555556,
             "#d8576b"
            ],
            [
             0.6666666666666666,
             "#ed7953"
            ],
            [
             0.7777777777777778,
             "#fb9f3a"
            ],
            [
             0.8888888888888888,
             "#fdca26"
            ],
            [
             1,
             "#f0f921"
            ]
           ],
           "sequentialminus": [
            [
             0,
             "#0d0887"
            ],
            [
             0.1111111111111111,
             "#46039f"
            ],
            [
             0.2222222222222222,
             "#7201a8"
            ],
            [
             0.3333333333333333,
             "#9c179e"
            ],
            [
             0.4444444444444444,
             "#bd3786"
            ],
            [
             0.5555555555555556,
             "#d8576b"
            ],
            [
             0.6666666666666666,
             "#ed7953"
            ],
            [
             0.7777777777777778,
             "#fb9f3a"
            ],
            [
             0.8888888888888888,
             "#fdca26"
            ],
            [
             1,
             "#f0f921"
            ]
           ]
          },
          "colorway": [
           "#636efa",
           "#EF553B",
           "#00cc96",
           "#ab63fa",
           "#FFA15A",
           "#19d3f3",
           "#FF6692",
           "#B6E880",
           "#FF97FF",
           "#FECB52"
          ],
          "font": {
           "color": "#2a3f5f"
          },
          "geo": {
           "bgcolor": "white",
           "lakecolor": "white",
           "landcolor": "#E5ECF6",
           "showlakes": true,
           "showland": true,
           "subunitcolor": "white"
          },
          "hoverlabel": {
           "align": "left"
          },
          "hovermode": "closest",
          "mapbox": {
           "style": "light"
          },
          "paper_bgcolor": "white",
          "plot_bgcolor": "#E5ECF6",
          "polar": {
           "angularaxis": {
            "gridcolor": "white",
            "linecolor": "white",
            "ticks": ""
           },
           "bgcolor": "#E5ECF6",
           "radialaxis": {
            "gridcolor": "white",
            "linecolor": "white",
            "ticks": ""
           }
          },
          "scene": {
           "xaxis": {
            "backgroundcolor": "#E5ECF6",
            "gridcolor": "white",
            "gridwidth": 2,
            "linecolor": "white",
            "showbackground": true,
            "ticks": "",
            "zerolinecolor": "white"
           },
           "yaxis": {
            "backgroundcolor": "#E5ECF6",
            "gridcolor": "white",
            "gridwidth": 2,
            "linecolor": "white",
            "showbackground": true,
            "ticks": "",
            "zerolinecolor": "white"
           },
           "zaxis": {
            "backgroundcolor": "#E5ECF6",
            "gridcolor": "white",
            "gridwidth": 2,
            "linecolor": "white",
            "showbackground": true,
            "ticks": "",
            "zerolinecolor": "white"
           }
          },
          "shapedefaults": {
           "line": {
            "color": "#2a3f5f"
           }
          },
          "ternary": {
           "aaxis": {
            "gridcolor": "white",
            "linecolor": "white",
            "ticks": ""
           },
           "baxis": {
            "gridcolor": "white",
            "linecolor": "white",
            "ticks": ""
           },
           "bgcolor": "#E5ECF6",
           "caxis": {
            "gridcolor": "white",
            "linecolor": "white",
            "ticks": ""
           }
          },
          "title": {
           "x": 0.05
          },
          "xaxis": {
           "automargin": true,
           "gridcolor": "white",
           "linecolor": "white",
           "ticks": "",
           "title": {
            "standoff": 15
           },
           "zerolinecolor": "white",
           "zerolinewidth": 2
          },
          "yaxis": {
           "automargin": true,
           "gridcolor": "white",
           "linecolor": "white",
           "ticks": "",
           "title": {
            "standoff": 15
           },
           "zerolinecolor": "white",
           "zerolinewidth": 2
          }
         }
        },
        "yaxis": {
         "visible": false
        }
       }
      }
     },
     "metadata": {},
     "output_type": "display_data"
    },
    {
     "data": {
      "text/plain": [
       "0.8017202428389887"
      ]
     },
     "execution_count": 261,
     "metadata": {},
     "output_type": "execute_result"
    }
   ],
   "source": [
    "o3_pro,o3_pro_negative = cal_norm(df_air_pollution['o3Value'].mean(),df_air_pollution['o3Value'].std(),\n",
    "df_air_pollution['o3Value'].min(),df_air_pollution['o3Value'].max(),o3_standard,False)\n",
    "o3_pro"
   ]
  },
  {
   "cell_type": "markdown",
   "metadata": {},
   "source": [
    "#### 부산시 아황산가스 적합도"
   ]
  },
  {
   "cell_type": "code",
   "execution_count": 263,
   "metadata": {},
   "outputs": [
    {
     "data": {
      "application/vnd.plotly.v1+json": {
       "config": {
        "plotlyServerURL": "https://plot.ly"
       },
       "data": [
        {
         "fill": "tozeroy",
         "line": {
          "color": "rgb(239,85,59)"
         },
         "name": "부적합",
         "type": "scatter",
         "x": [
          -0.0003050176774148498,
          -0.00028173467057227556,
          -0.0002584516637297013,
          -0.00023516865688712706,
          -0.00021188565004455283,
          -0.00018860264320197858,
          -0.00016531963635940433,
          -0.0001420366295168301,
          -0.00011875362267425586,
          -0.00009547061583168161,
          -0.00007218760898910738,
          -0.00004890460214653316,
          -0.000025621595303958883,
          -0.000002338588461384659,
          0.000020944418381189565,
          0.00004422742522376384,
          0.00006751043206633807,
          0.00009079343890891229,
          0.00011407644575148657,
          0.0001373594525940608,
          0.00016064245943663502,
          0.0001839254662792093,
          0.00020720847312178346,
          0.00023049147996435774,
          0.000253774486806932,
          0.0002770574936495062,
          0.00030034050049208047,
          0.00032362350733465474,
          0.0003469065141772289,
          0.0003701895210198032,
          0.00039347252786237747,
          0.00041675553470495164,
          0.0004400385415475259,
          0.0004633215483901002,
          0.00048660455523267436,
          0.0005098875620752486,
          0.0005331705689178229,
          0.0005564535757603971,
          0.0005797365826029714,
          0.0006030195894455456,
          0.0006263025962881198,
          0.0006495856031306941,
          0.0006728686099732684,
          0.0006961516168158426,
          0.0007194346236584167,
          0.000742717630500991,
          0.0007660006373435653,
          0.0007892836441861395,
          0.0008125666510287138,
          0.0008358496578712881,
          0.0008591326647138622,
          0.0008824156715564364,
          0.0009056986783990107,
          0.000928981685241585,
          0.0009522646920841593,
          0.0009755476989267335,
          0.0009988307057693076,
          0.0010221137126118819,
          0.0010453967194544562,
          0.0010686797262970304,
          0.0010919627331396047,
          0.001115245739982179,
          0.001138528746824753,
          0.0011618117536673273,
          0.0011850947605099016,
          0.001208377767352476,
          0.0012316607741950502,
          0.0012549437810376242,
          0.0012782267878801985,
          0.0013015097947227728,
          0.001324792801565347,
          0.0013480758084079213,
          0.0013713588152504956,
          0.0013946418220930697,
          0.001417924828935644,
          0.0014412078357782182,
          0.0014644908426207925,
          0.0014877738494633668,
          0.001511056856305941,
          0.0015343398631485151,
          0.0015576228699910894,
          0.0015809058768336637,
          0.001604188883676238,
          0.0016274718905188122,
          0.0016507548973613865,
          0.0016740379042039606,
          0.001697320911046535,
          0.0017206039178891091,
          0.0017438869247316832,
          0.0017671699315742577,
          0.0017904529384168318,
          0.0018137359452594063,
          0.0018370189521019803,
          0.0018603019589445548,
          0.0018835849657871289,
          0.001906867972629703,
          0.0019301509794722774,
          0.0019534339863148515,
          0.001976716993157426,
          0.002
         ],
         "y": [
          11.560325595614255,
          12.098491823716255,
          12.657681567226495,
          13.238502372403454,
          13.841568638713207,
          14.467501133377166,
          15.116926473366775,
          15.790476574372962,
          16.488788066333573,
          17.212501675158027,
          17.962261570350186,
          18.73871467829412,
          19.542509961035865,
          20.374297660464766,
          21.234728507873346,
          22.124452898951823,
          23.044120034354705,
          23.994377026061105,
          24.97586796983726,
          25.989232984199827,
          27.035107216371383,
          28.114119815813922,
          29.22689287602517,
          30.374040345380575,
          31.556166907906814,
          32.77386683497564,
          34.02772280901192,
          35.31830472041567,
          36.64616843900653,
          38.01185456140496,
          39.415887135875145,
          40.858772366261945,
          42.34099729676335,
          43.8630284793874,
          45.42531062605068,
          47.02826524738071,
          48.67228928038963,
          50.35775370728935,
          52.08500216781901,
          53.85434956755245,
          55.66608068475069,
          57.52044877841318,
          59.41767420027182,
          61.35794301355432,
          63.34140562142318,
          65.36817540807071,
          67.4383273955199,
          69.55189691924457,
          71.70887832577917,
          73.90922369554086,
          76.15284159412953,
          78.43959585540985,
          80.76930439970937,
          83.14173809048877,
          85.55661963285448,
          88.01362251729056,
          90.51237001198344,
          93.05243420710349,
          95.63333511438405,
          98.25453982531302,
          100.91546173120979,
          103.6154598084134,
          106.35383797175068,
          109.12984449938266,
          111.94267153205242,
          114.79145464966871,
          117.6752725280624,
          120.59314667864541,
          123.54404127358559,
          126.52686305898246,
          129.54046135839428,
          132.58362816891946,
          135.65509835188172,
          138.7535499200024,
          141.87760442277272,
          145.02582743155529,
          148.19672912575683,
          151.38876498121442,
          154.6003365617355,
          157.82979241451758,
          161.07542906995894,
          164.33549214614288,
          167.60817755805377,
          170.8916328313439,
          174.18395852023477,
          177.48320972889152,
          180.78739773536483,
          184.09449171694502,
          187.40242057552533,
          190.70907486131694,
          194.01230879300908,
          197.30994237221665,
          200.5997635898034,
          203.87953072142756,
          207.14697470940135,
          210.39980162772298,
          213.63569522689252,
          216.85231955489436,
          220.0473216504995,
          223.21833430481644
         ]
        },
        {
         "fill": "tozeroy",
         "line": {
          "color": "rgb(100,110,250)"
         },
         "name": "적합",
         "type": "scatter",
         "x": [
          0.002,
          0.0020909090909090908,
          0.002181818181818182,
          0.0022727272727272726,
          0.0023636363636363638,
          0.0024545454545454545,
          0.002545454545454545,
          0.0026363636363636363,
          0.0027272727272727275,
          0.002818181818181818,
          0.002909090909090909,
          0.003,
          0.0030909090909090908,
          0.0031818181818181815,
          0.0032727272727272726,
          0.003363636363636364,
          0.0034545454545454545,
          0.003545454545454545,
          0.0036363636363636364,
          0.0037272727272727275,
          0.0038181818181818182,
          0.003909090909090909,
          0.004,
          0.004090909090909091,
          0.0041818181818181815,
          0.004272727272727273,
          0.004363636363636363,
          0.004454545454545454,
          0.004545454545454545,
          0.004636363636363636,
          0.0047272727272727275,
          0.004818181818181819,
          0.004909090909090909,
          0.004999999999999999,
          0.00509090909090909,
          0.0051818181818181815,
          0.005272727272727273,
          0.005363636363636364,
          0.005454545454545455,
          0.005545454545454545,
          0.005636363636363636,
          0.005727272727272727,
          0.005818181818181818,
          0.005909090909090909,
          0.006,
          0.00609090909090909,
          0.0061818181818181816,
          0.006272727272727273,
          0.006363636363636363,
          0.006454545454545454,
          0.006545454545454545,
          0.006636363636363636,
          0.006727272727272727,
          0.006818181818181818,
          0.006909090909090909,
          0.007,
          0.00709090909090909,
          0.007181818181818182,
          0.007272727272727273,
          0.007363636363636363,
          0.007454545454545454,
          0.007545454545454545,
          0.0076363636363636364,
          0.007727272727272727,
          0.007818181818181818,
          0.007909090909090909,
          0.008,
          0.00809090909090909,
          0.008181818181818182,
          0.008272727272727272,
          0.008363636363636363,
          0.008454545454545454,
          0.008545454545454545,
          0.008636363636363636,
          0.008727272727272726,
          0.008818181818181819,
          0.008909090909090908,
          0.009,
          0.00909090909090909,
          0.009181818181818182,
          0.009272727272727273,
          0.009363636363636362,
          0.009454545454545455,
          0.009545454545454544,
          0.009636363636363636,
          0.009727272727272727,
          0.009818181818181818,
          0.009909090909090909,
          0.01,
          0.01009090909090909,
          0.01018181818181818,
          0.010272727272727272,
          0.010363636363636363,
          0.010454545454545454,
          0.010545454545454545,
          0.010636363636363637,
          0.010727272727272726,
          0.010818181818181817,
          0.010909090909090908,
          0.011
         ],
         "y": [
          223.21833430481644,
          235.3250095815844,
          246.8873362763008,
          257.76387380100346,
          267.81678531331795,
          276.91472022172,
          284.9356562333814,
          291.7696154635461,
          297.32117034482155,
          301.5116596389779,
          304.28104266678673,
          305.58933067572104,
          305.417547651797,
          303.7681883081226,
          300.66515780002095,
          296.1531952029427,
          290.2968001874441,
          283.178698882629,
          274.89789992737855,
          265.5674045405319,
          255.3116445833551,
          244.26372966479116,
          232.56258813164342,
          220.35008723369097,
          207.76821495961727,
          194.95640025443265,
          182.04903993367077,
          169.17329008930506,
          156.44716769652865,
          143.97799508002953,
          131.86120649206168,
          120.17952287770727,
          109.00248848863492,
          98.38635181348283,
          88.37426368608763,
          78.99675767377393,
          70.27247209043595,
          62.2090692707976,
          54.804306032275754,
          48.04720940251025,
          41.919313496766115,
          36.395916630612845,
          31.44732205653008,
          27.040030810309393,
          23.137860738261526,
          19.702971560197764,
          16.696781545839947,
          14.080766821622516,
          11.817139302336141,
          9.869403625532364,
          8.202797169820114,
          6.78462021819011,
          5.584465580061774,
          4.574358539415315,
          3.7288189058033656,
          3.0248572839998746,
          2.4419175326133833,
          1.9617768442563215,
          1.5684140424366357,
          1.2478556418254776,
          0.9880080400630764,
          0.7784829719567141,
          0.6104221205666381,
          0.47632559205079805,
          0.3698878582029669,
          0.2858437772303911,
          0.21982643439024063,
          0.16823780602610788,
          0.12813264272652067,
          0.09711548376794354,
          0.0732503457906288,
          0.05498236131325868,
          0.04107046336120119,
          0.030530106886738934,
          0.02258497186429038,
          0.01662659391948644,
          0.012180904348609608,
          0.008880722155079696,
          0.006443317612355295,
          0.00465225277384233,
          0.003342793694317519,
          0.0023902776571290535,
          0.001700903350487632,
          0.0012044906365517012,
          0.0008488280581128543,
          0.000595289924858913,
          0.00041546060072115775,
          0.00028855171781880587,
          0.0001994389552381556,
          0.00013717937622612672,
          0.0000938988263375493,
          0.00006396229103327137,
          0.00004335911060549744,
          0.000029250226022548374,
          0.000019636794458960616,
          0.000013119112892980303,
          0.000008722296610056188,
          0.000005770982269961284,
          0.0000037998034772148586,
          0.0000024898033020516023
         ]
        }
       ],
       "layout": {
        "annotations": [
         {
          "bordercolor": "rgb(239,85,59)",
          "borderwidth": 2,
          "font": {
           "color": "rgb(239,85,59)",
           "size": 15
          },
          "showarrow": false,
          "text": "0.209",
          "x": 0.002,
          "xshift": -40,
          "y": 223.21833430481644,
          "yshift": -100
         },
         {
          "bordercolor": "rgb(100,110,250)",
          "borderwidth": 2,
          "font": {
           "color": "rgb(100,110,250)",
           "size": 15
          },
          "showarrow": false,
          "text": "0.791",
          "x": 0.002,
          "xshift": 40,
          "y": 223.21833430481644,
          "yshift": -100
         }
        ],
        "template": {
         "data": {
          "bar": [
           {
            "error_x": {
             "color": "#2a3f5f"
            },
            "error_y": {
             "color": "#2a3f5f"
            },
            "marker": {
             "line": {
              "color": "#E5ECF6",
              "width": 0.5
             },
             "pattern": {
              "fillmode": "overlay",
              "size": 10,
              "solidity": 0.2
             }
            },
            "type": "bar"
           }
          ],
          "barpolar": [
           {
            "marker": {
             "line": {
              "color": "#E5ECF6",
              "width": 0.5
             },
             "pattern": {
              "fillmode": "overlay",
              "size": 10,
              "solidity": 0.2
             }
            },
            "type": "barpolar"
           }
          ],
          "carpet": [
           {
            "aaxis": {
             "endlinecolor": "#2a3f5f",
             "gridcolor": "white",
             "linecolor": "white",
             "minorgridcolor": "white",
             "startlinecolor": "#2a3f5f"
            },
            "baxis": {
             "endlinecolor": "#2a3f5f",
             "gridcolor": "white",
             "linecolor": "white",
             "minorgridcolor": "white",
             "startlinecolor": "#2a3f5f"
            },
            "type": "carpet"
           }
          ],
          "choropleth": [
           {
            "colorbar": {
             "outlinewidth": 0,
             "ticks": ""
            },
            "type": "choropleth"
           }
          ],
          "contour": [
           {
            "colorbar": {
             "outlinewidth": 0,
             "ticks": ""
            },
            "colorscale": [
             [
              0,
              "#0d0887"
             ],
             [
              0.1111111111111111,
              "#46039f"
             ],
             [
              0.2222222222222222,
              "#7201a8"
             ],
             [
              0.3333333333333333,
              "#9c179e"
             ],
             [
              0.4444444444444444,
              "#bd3786"
             ],
             [
              0.5555555555555556,
              "#d8576b"
             ],
             [
              0.6666666666666666,
              "#ed7953"
             ],
             [
              0.7777777777777778,
              "#fb9f3a"
             ],
             [
              0.8888888888888888,
              "#fdca26"
             ],
             [
              1,
              "#f0f921"
             ]
            ],
            "type": "contour"
           }
          ],
          "contourcarpet": [
           {
            "colorbar": {
             "outlinewidth": 0,
             "ticks": ""
            },
            "type": "contourcarpet"
           }
          ],
          "heatmap": [
           {
            "colorbar": {
             "outlinewidth": 0,
             "ticks": ""
            },
            "colorscale": [
             [
              0,
              "#0d0887"
             ],
             [
              0.1111111111111111,
              "#46039f"
             ],
             [
              0.2222222222222222,
              "#7201a8"
             ],
             [
              0.3333333333333333,
              "#9c179e"
             ],
             [
              0.4444444444444444,
              "#bd3786"
             ],
             [
              0.5555555555555556,
              "#d8576b"
             ],
             [
              0.6666666666666666,
              "#ed7953"
             ],
             [
              0.7777777777777778,
              "#fb9f3a"
             ],
             [
              0.8888888888888888,
              "#fdca26"
             ],
             [
              1,
              "#f0f921"
             ]
            ],
            "type": "heatmap"
           }
          ],
          "heatmapgl": [
           {
            "colorbar": {
             "outlinewidth": 0,
             "ticks": ""
            },
            "colorscale": [
             [
              0,
              "#0d0887"
             ],
             [
              0.1111111111111111,
              "#46039f"
             ],
             [
              0.2222222222222222,
              "#7201a8"
             ],
             [
              0.3333333333333333,
              "#9c179e"
             ],
             [
              0.4444444444444444,
              "#bd3786"
             ],
             [
              0.5555555555555556,
              "#d8576b"
             ],
             [
              0.6666666666666666,
              "#ed7953"
             ],
             [
              0.7777777777777778,
              "#fb9f3a"
             ],
             [
              0.8888888888888888,
              "#fdca26"
             ],
             [
              1,
              "#f0f921"
             ]
            ],
            "type": "heatmapgl"
           }
          ],
          "histogram": [
           {
            "marker": {
             "pattern": {
              "fillmode": "overlay",
              "size": 10,
              "solidity": 0.2
             }
            },
            "type": "histogram"
           }
          ],
          "histogram2d": [
           {
            "colorbar": {
             "outlinewidth": 0,
             "ticks": ""
            },
            "colorscale": [
             [
              0,
              "#0d0887"
             ],
             [
              0.1111111111111111,
              "#46039f"
             ],
             [
              0.2222222222222222,
              "#7201a8"
             ],
             [
              0.3333333333333333,
              "#9c179e"
             ],
             [
              0.4444444444444444,
              "#bd3786"
             ],
             [
              0.5555555555555556,
              "#d8576b"
             ],
             [
              0.6666666666666666,
              "#ed7953"
             ],
             [
              0.7777777777777778,
              "#fb9f3a"
             ],
             [
              0.8888888888888888,
              "#fdca26"
             ],
             [
              1,
              "#f0f921"
             ]
            ],
            "type": "histogram2d"
           }
          ],
          "histogram2dcontour": [
           {
            "colorbar": {
             "outlinewidth": 0,
             "ticks": ""
            },
            "colorscale": [
             [
              0,
              "#0d0887"
             ],
             [
              0.1111111111111111,
              "#46039f"
             ],
             [
              0.2222222222222222,
              "#7201a8"
             ],
             [
              0.3333333333333333,
              "#9c179e"
             ],
             [
              0.4444444444444444,
              "#bd3786"
             ],
             [
              0.5555555555555556,
              "#d8576b"
             ],
             [
              0.6666666666666666,
              "#ed7953"
             ],
             [
              0.7777777777777778,
              "#fb9f3a"
             ],
             [
              0.8888888888888888,
              "#fdca26"
             ],
             [
              1,
              "#f0f921"
             ]
            ],
            "type": "histogram2dcontour"
           }
          ],
          "mesh3d": [
           {
            "colorbar": {
             "outlinewidth": 0,
             "ticks": ""
            },
            "type": "mesh3d"
           }
          ],
          "parcoords": [
           {
            "line": {
             "colorbar": {
              "outlinewidth": 0,
              "ticks": ""
             }
            },
            "type": "parcoords"
           }
          ],
          "pie": [
           {
            "automargin": true,
            "type": "pie"
           }
          ],
          "scatter": [
           {
            "marker": {
             "colorbar": {
              "outlinewidth": 0,
              "ticks": ""
             }
            },
            "type": "scatter"
           }
          ],
          "scatter3d": [
           {
            "line": {
             "colorbar": {
              "outlinewidth": 0,
              "ticks": ""
             }
            },
            "marker": {
             "colorbar": {
              "outlinewidth": 0,
              "ticks": ""
             }
            },
            "type": "scatter3d"
           }
          ],
          "scattercarpet": [
           {
            "marker": {
             "colorbar": {
              "outlinewidth": 0,
              "ticks": ""
             }
            },
            "type": "scattercarpet"
           }
          ],
          "scattergeo": [
           {
            "marker": {
             "colorbar": {
              "outlinewidth": 0,
              "ticks": ""
             }
            },
            "type": "scattergeo"
           }
          ],
          "scattergl": [
           {
            "marker": {
             "colorbar": {
              "outlinewidth": 0,
              "ticks": ""
             }
            },
            "type": "scattergl"
           }
          ],
          "scattermapbox": [
           {
            "marker": {
             "colorbar": {
              "outlinewidth": 0,
              "ticks": ""
             }
            },
            "type": "scattermapbox"
           }
          ],
          "scatterpolar": [
           {
            "marker": {
             "colorbar": {
              "outlinewidth": 0,
              "ticks": ""
             }
            },
            "type": "scatterpolar"
           }
          ],
          "scatterpolargl": [
           {
            "marker": {
             "colorbar": {
              "outlinewidth": 0,
              "ticks": ""
             }
            },
            "type": "scatterpolargl"
           }
          ],
          "scatterternary": [
           {
            "marker": {
             "colorbar": {
              "outlinewidth": 0,
              "ticks": ""
             }
            },
            "type": "scatterternary"
           }
          ],
          "surface": [
           {
            "colorbar": {
             "outlinewidth": 0,
             "ticks": ""
            },
            "colorscale": [
             [
              0,
              "#0d0887"
             ],
             [
              0.1111111111111111,
              "#46039f"
             ],
             [
              0.2222222222222222,
              "#7201a8"
             ],
             [
              0.3333333333333333,
              "#9c179e"
             ],
             [
              0.4444444444444444,
              "#bd3786"
             ],
             [
              0.5555555555555556,
              "#d8576b"
             ],
             [
              0.6666666666666666,
              "#ed7953"
             ],
             [
              0.7777777777777778,
              "#fb9f3a"
             ],
             [
              0.8888888888888888,
              "#fdca26"
             ],
             [
              1,
              "#f0f921"
             ]
            ],
            "type": "surface"
           }
          ],
          "table": [
           {
            "cells": {
             "fill": {
              "color": "#EBF0F8"
             },
             "line": {
              "color": "white"
             }
            },
            "header": {
             "fill": {
              "color": "#C8D4E3"
             },
             "line": {
              "color": "white"
             }
            },
            "type": "table"
           }
          ]
         },
         "layout": {
          "annotationdefaults": {
           "arrowcolor": "#2a3f5f",
           "arrowhead": 0,
           "arrowwidth": 1
          },
          "autotypenumbers": "strict",
          "coloraxis": {
           "colorbar": {
            "outlinewidth": 0,
            "ticks": ""
           }
          },
          "colorscale": {
           "diverging": [
            [
             0,
             "#8e0152"
            ],
            [
             0.1,
             "#c51b7d"
            ],
            [
             0.2,
             "#de77ae"
            ],
            [
             0.3,
             "#f1b6da"
            ],
            [
             0.4,
             "#fde0ef"
            ],
            [
             0.5,
             "#f7f7f7"
            ],
            [
             0.6,
             "#e6f5d0"
            ],
            [
             0.7,
             "#b8e186"
            ],
            [
             0.8,
             "#7fbc41"
            ],
            [
             0.9,
             "#4d9221"
            ],
            [
             1,
             "#276419"
            ]
           ],
           "sequential": [
            [
             0,
             "#0d0887"
            ],
            [
             0.1111111111111111,
             "#46039f"
            ],
            [
             0.2222222222222222,
             "#7201a8"
            ],
            [
             0.3333333333333333,
             "#9c179e"
            ],
            [
             0.4444444444444444,
             "#bd3786"
            ],
            [
             0.5555555555555556,
             "#d8576b"
            ],
            [
             0.6666666666666666,
             "#ed7953"
            ],
            [
             0.7777777777777778,
             "#fb9f3a"
            ],
            [
             0.8888888888888888,
             "#fdca26"
            ],
            [
             1,
             "#f0f921"
            ]
           ],
           "sequentialminus": [
            [
             0,
             "#0d0887"
            ],
            [
             0.1111111111111111,
             "#46039f"
            ],
            [
             0.2222222222222222,
             "#7201a8"
            ],
            [
             0.3333333333333333,
             "#9c179e"
            ],
            [
             0.4444444444444444,
             "#bd3786"
            ],
            [
             0.5555555555555556,
             "#d8576b"
            ],
            [
             0.6666666666666666,
             "#ed7953"
            ],
            [
             0.7777777777777778,
             "#fb9f3a"
            ],
            [
             0.8888888888888888,
             "#fdca26"
            ],
            [
             1,
             "#f0f921"
            ]
           ]
          },
          "colorway": [
           "#636efa",
           "#EF553B",
           "#00cc96",
           "#ab63fa",
           "#FFA15A",
           "#19d3f3",
           "#FF6692",
           "#B6E880",
           "#FF97FF",
           "#FECB52"
          ],
          "font": {
           "color": "#2a3f5f"
          },
          "geo": {
           "bgcolor": "white",
           "lakecolor": "white",
           "landcolor": "#E5ECF6",
           "showlakes": true,
           "showland": true,
           "subunitcolor": "white"
          },
          "hoverlabel": {
           "align": "left"
          },
          "hovermode": "closest",
          "mapbox": {
           "style": "light"
          },
          "paper_bgcolor": "white",
          "plot_bgcolor": "#E5ECF6",
          "polar": {
           "angularaxis": {
            "gridcolor": "white",
            "linecolor": "white",
            "ticks": ""
           },
           "bgcolor": "#E5ECF6",
           "radialaxis": {
            "gridcolor": "white",
            "linecolor": "white",
            "ticks": ""
           }
          },
          "scene": {
           "xaxis": {
            "backgroundcolor": "#E5ECF6",
            "gridcolor": "white",
            "gridwidth": 2,
            "linecolor": "white",
            "showbackground": true,
            "ticks": "",
            "zerolinecolor": "white"
           },
           "yaxis": {
            "backgroundcolor": "#E5ECF6",
            "gridcolor": "white",
            "gridwidth": 2,
            "linecolor": "white",
            "showbackground": true,
            "ticks": "",
            "zerolinecolor": "white"
           },
           "zaxis": {
            "backgroundcolor": "#E5ECF6",
            "gridcolor": "white",
            "gridwidth": 2,
            "linecolor": "white",
            "showbackground": true,
            "ticks": "",
            "zerolinecolor": "white"
           }
          },
          "shapedefaults": {
           "line": {
            "color": "#2a3f5f"
           }
          },
          "ternary": {
           "aaxis": {
            "gridcolor": "white",
            "linecolor": "white",
            "ticks": ""
           },
           "baxis": {
            "gridcolor": "white",
            "linecolor": "white",
            "ticks": ""
           },
           "bgcolor": "#E5ECF6",
           "caxis": {
            "gridcolor": "white",
            "linecolor": "white",
            "ticks": ""
           }
          },
          "title": {
           "x": 0.05
          },
          "xaxis": {
           "automargin": true,
           "gridcolor": "white",
           "linecolor": "white",
           "ticks": "",
           "title": {
            "standoff": 15
           },
           "zerolinecolor": "white",
           "zerolinewidth": 2
          },
          "yaxis": {
           "automargin": true,
           "gridcolor": "white",
           "linecolor": "white",
           "ticks": "",
           "title": {
            "standoff": 15
           },
           "zerolinecolor": "white",
           "zerolinewidth": 2
          }
         }
        },
        "yaxis": {
         "visible": false
        }
       }
      }
     },
     "metadata": {},
     "output_type": "display_data"
    },
    {
     "data": {
      "text/plain": [
       "0.7911203783441816"
      ]
     },
     "execution_count": 263,
     "metadata": {},
     "output_type": "execute_result"
    }
   ],
   "source": [
    "so2_pro,so2_pro_negative = cal_norm(df_air_pollution['so2Value'].mean(),\n",
    "                                    df_air_pollution['so2Value'].std(),\n",
    "                                    df_air_pollution['so2Value'].min(),\n",
    "                                    df_air_pollution['so2Value'].max(),\n",
    "                                    so2_standard,\n",
    "                                    False)\n",
    "so2_pro"
   ]
  },
  {
   "cell_type": "markdown",
   "metadata": {},
   "source": [
    "#### 부산시 이산화질소 적합도"
   ]
  },
  {
   "cell_type": "code",
   "execution_count": 135,
   "metadata": {},
   "outputs": [
    {
     "data": {
      "text/plain": [
       "0.909590433996196"
      ]
     },
     "execution_count": 135,
     "metadata": {},
     "output_type": "execute_result"
    }
   ],
   "source": [
    "no2_pro,no2_pro_negative = cal_norm(df_air_pollution['no2Value'].mean(),df_air_pollution['no2Value'].std(),\n",
    "df_air_pollution['no2Value'].min(),df_air_pollution['no2Value'].max(),no2_standard,False)\n",
    "no2_pro"
   ]
  },
  {
   "cell_type": "markdown",
   "metadata": {},
   "source": [
    "#### 부산시 일산화탄소 적합도"
   ]
  },
  {
   "cell_type": "code",
   "execution_count": 136,
   "metadata": {},
   "outputs": [
    {
     "data": {
      "text/plain": [
       "0.8287531282163694"
      ]
     },
     "execution_count": 136,
     "metadata": {},
     "output_type": "execute_result"
    }
   ],
   "source": [
    "co_pro,co_pro_negative = cal_norm(df_air_pollution['coValue'].mean(),df_air_pollution['coValue'].std(),\n",
    "df_air_pollution['coValue'].min(),df_air_pollution['coValue'].max(),co_standard,False)\n",
    "co_pro"
   ]
  },
  {
   "cell_type": "markdown",
   "metadata": {},
   "source": [
    "#### 부산시 미세먼지 적합도"
   ]
  },
  {
   "cell_type": "code",
   "execution_count": 137,
   "metadata": {},
   "outputs": [
    {
     "data": {
      "text/plain": [
       "0.8866811666335976"
      ]
     },
     "execution_count": 137,
     "metadata": {},
     "output_type": "execute_result"
    }
   ],
   "source": [
    "pm10_pro,pm10_pro_negative = cal_norm(df_air_pollution['pm10Value'].mean(),df_air_pollution['pm10Value'].std(),\n",
    "df_air_pollution['pm10Value'].min(),df_air_pollution['pm10Value'].max(),pm10_standard,False)\n",
    "pm10_pro"
   ]
  },
  {
   "cell_type": "code",
   "execution_count": 138,
   "metadata": {},
   "outputs": [
    {
     "data": {
      "text/plain": [
       "0.8415688322677302"
      ]
     },
     "execution_count": 138,
     "metadata": {},
     "output_type": "execute_result"
    }
   ],
   "source": [
    "pm25_pro,pm25_pro_negative = cal_norm(df_air_pollution['pm25Value'].mean(),df_air_pollution['pm25Value'].std(),\n",
    "df_air_pollution['pm25Value'].min(),df_air_pollution['pm25Value'].max(),pm25_standard,False)\n",
    "pm25_pro"
   ]
  },
  {
   "cell_type": "markdown",
   "metadata": {},
   "source": [
    "#### 부산시 통합대기환경 지수 적합도"
   ]
  },
  {
   "cell_type": "code",
   "execution_count": 139,
   "metadata": {},
   "outputs": [
    {
     "data": {
      "text/plain": [
       "0.8220286272881268"
      ]
     },
     "execution_count": 139,
     "metadata": {},
     "output_type": "execute_result"
    }
   ],
   "source": [
    "khai_pro,khai_pro_negative = cal_norm(df_air_pollution['khaiValue'].mean(),df_air_pollution['khaiValue'].std(),\n",
    "df_air_pollution['khaiValue'].min(),df_air_pollution['khaiValue'].max(),khai_standard,False)\n",
    "khai_pro"
   ]
  },
  {
   "cell_type": "markdown",
   "metadata": {
    "collapsed": false
   },
   "source": [
    "## 상위 요소 - 사회적 요인"
   ]
  },
  {
   "cell_type": "markdown",
   "metadata": {
    "collapsed": false
   },
   "source": [
    "### 인구밀도 "
   ]
  },
  {
   "cell_type": "code",
   "execution_count": 461,
   "metadata": {
    "collapsed": false,
    "pycharm": {
     "name": "#%%\n"
    }
   },
   "outputs": [
    {
     "data": {
      "text/html": [
       "<div>\n",
       "<style scoped>\n",
       "    .dataframe tbody tr th:only-of-type {\n",
       "        vertical-align: middle;\n",
       "    }\n",
       "\n",
       "    .dataframe tbody tr th {\n",
       "        vertical-align: top;\n",
       "    }\n",
       "\n",
       "    .dataframe thead th {\n",
       "        text-align: right;\n",
       "    }\n",
       "</style>\n",
       "<table border=\"1\" class=\"dataframe\">\n",
       "  <thead>\n",
       "    <tr style=\"text-align: right;\">\n",
       "      <th></th>\n",
       "      <th>행정구역(시군구)별</th>\n",
       "      <th>행정구역(동읍면)별</th>\n",
       "      <th>총인구수 (명)</th>\n",
       "      <th>면적(km^2)</th>\n",
       "      <th>인구밀도(km^2)</th>\n",
       "    </tr>\n",
       "  </thead>\n",
       "  <tbody>\n",
       "    <tr>\n",
       "      <th>0</th>\n",
       "      <td>강서구</td>\n",
       "      <td>가덕도동</td>\n",
       "      <td>4081</td>\n",
       "      <td>19.42</td>\n",
       "      <td>210</td>\n",
       "    </tr>\n",
       "    <tr>\n",
       "      <th>1</th>\n",
       "      <td>강서구</td>\n",
       "      <td>가락동</td>\n",
       "      <td>2312</td>\n",
       "      <td>14.09</td>\n",
       "      <td>164</td>\n",
       "    </tr>\n",
       "    <tr>\n",
       "      <th>2</th>\n",
       "      <td>강서구</td>\n",
       "      <td>강동동</td>\n",
       "      <td>4179</td>\n",
       "      <td>16.31</td>\n",
       "      <td>256</td>\n",
       "    </tr>\n",
       "    <tr>\n",
       "      <th>3</th>\n",
       "      <td>강서구</td>\n",
       "      <td>녹산동</td>\n",
       "      <td>35872</td>\n",
       "      <td>58.93</td>\n",
       "      <td>609</td>\n",
       "    </tr>\n",
       "    <tr>\n",
       "      <th>4</th>\n",
       "      <td>강서구</td>\n",
       "      <td>대저1동</td>\n",
       "      <td>6417</td>\n",
       "      <td>13.66</td>\n",
       "      <td>470</td>\n",
       "    </tr>\n",
       "    <tr>\n",
       "      <th>...</th>\n",
       "      <td>...</td>\n",
       "      <td>...</td>\n",
       "      <td>...</td>\n",
       "      <td>...</td>\n",
       "      <td>...</td>\n",
       "    </tr>\n",
       "    <tr>\n",
       "      <th>200</th>\n",
       "      <td>해운대구</td>\n",
       "      <td>좌2동</td>\n",
       "      <td>31635</td>\n",
       "      <td>0.50</td>\n",
       "      <td>63270</td>\n",
       "    </tr>\n",
       "    <tr>\n",
       "      <th>201</th>\n",
       "      <td>해운대구</td>\n",
       "      <td>좌3동</td>\n",
       "      <td>15891</td>\n",
       "      <td>0.72</td>\n",
       "      <td>22071</td>\n",
       "    </tr>\n",
       "    <tr>\n",
       "      <th>202</th>\n",
       "      <td>해운대구</td>\n",
       "      <td>좌4동</td>\n",
       "      <td>22883</td>\n",
       "      <td>1.80</td>\n",
       "      <td>12713</td>\n",
       "    </tr>\n",
       "    <tr>\n",
       "      <th>203</th>\n",
       "      <td>해운대구</td>\n",
       "      <td>중1동</td>\n",
       "      <td>27840</td>\n",
       "      <td>1.73</td>\n",
       "      <td>16092</td>\n",
       "    </tr>\n",
       "    <tr>\n",
       "      <th>204</th>\n",
       "      <td>해운대구</td>\n",
       "      <td>중2동</td>\n",
       "      <td>15790</td>\n",
       "      <td>1.16</td>\n",
       "      <td>13612</td>\n",
       "    </tr>\n",
       "  </tbody>\n",
       "</table>\n",
       "<p>205 rows × 5 columns</p>\n",
       "</div>"
      ],
      "text/plain": [
       "    행정구역(시군구)별 행정구역(동읍면)별  총인구수 (명)  면적(km^2)  인구밀도(km^2)\n",
       "0          강서구       가덕도동      4081     19.42         210\n",
       "1          강서구        가락동      2312     14.09         164\n",
       "2          강서구        강동동      4179     16.31         256\n",
       "3          강서구        녹산동     35872     58.93         609\n",
       "4          강서구       대저1동      6417     13.66         470\n",
       "..         ...        ...       ...       ...         ...\n",
       "200       해운대구        좌2동     31635      0.50       63270\n",
       "201       해운대구        좌3동     15891      0.72       22071\n",
       "202       해운대구        좌4동     22883      1.80       12713\n",
       "203       해운대구        중1동     27840      1.73       16092\n",
       "204       해운대구        중2동     15790      1.16       13612\n",
       "\n",
       "[205 rows x 5 columns]"
      ]
     },
     "execution_count": 461,
     "metadata": {},
     "output_type": "execute_result"
    }
   ],
   "source": [
    "people_file_path = 'C:\\\\Users\\\\SAMSUNG\\\\Desktop\\\\Green-Car-Charging-Station-Site-Selection\\\\Data\\\\행정구역 읍면동 주민등록인구.csv'\n",
    "df_density = pd.read_csv(people_file_path, encoding='cp949')\n",
    "df_density = df_density.sort_values(by=[\"행정구역(시군구)별\",\"행정구역(동읍면)별\"],ascending=True).reset_index(drop=True)\n",
    "df_density"
   ]
  },
  {
   "cell_type": "code",
   "execution_count": 464,
   "metadata": {},
   "outputs": [
    {
     "data": {
      "text/plain": [
       "6214"
      ]
     },
     "execution_count": 464,
     "metadata": {},
     "output_type": "execute_result"
    }
   ],
   "source": [
    "23107-16893"
   ]
  },
  {
   "cell_type": "code",
   "execution_count": 459,
   "metadata": {},
   "outputs": [
    {
     "data": {
      "application/vnd.plotly.v1+json": {
       "config": {
        "plotlyServerURL": "https://plot.ly"
       },
       "data": [
        {
         "fill": "tozeroy",
         "line": {
          "color": "rgb(239,85,59)"
         },
         "name": "부적합",
         "type": "scatter",
         "x": [
          -22808.62550744732,
          -22174.194946766034,
          -21539.764386084746,
          -20905.33382540346,
          -20270.903264722176,
          -19636.47270404089,
          -19002.042143359602,
          -18367.611582678317,
          -17733.181021997032,
          -17098.750461315743,
          -16464.31990063446,
          -15829.889339953173,
          -15195.458779271887,
          -14561.028218590602,
          -13926.597657909315,
          -13292.16709722803,
          -12657.736536546743,
          -12023.305975865456,
          -11388.875415184171,
          -10754.444854502884,
          -10120.0142938216,
          -9485.583733140313,
          -8851.153172459028,
          -8216.72261177774,
          -7582.292051096454,
          -6947.861490415169,
          -6313.430929733884,
          -5679.0003690525955,
          -5044.5698083713105,
          -4410.1392476900255,
          -3775.7086870087405,
          -3141.278126327452,
          -2506.847565646167,
          -1872.417004964882,
          -1237.9864442835933,
          -603.5558836023083,
          30.874677078976674,
          665.3052377602617,
          1299.7357984415503,
          1934.1663591228353,
          2568.5969198041203,
          3203.027480485409,
          3837.458041166694,
          4471.888601847979,
          5106.319162529264,
          5740.7497232105525,
          6375.1802838918375,
          7009.610844573122,
          7644.041405254411,
          8278.471965935696,
          8912.902526616981,
          9547.333087298266,
          10181.763647979551,
          10816.194208660836,
          11450.624769342128,
          12085.055330023413,
          12719.485890704698,
          13353.916451385983,
          13988.347012067268,
          14622.777572748553,
          15257.208133429838,
          15891.63869411113,
          16526.069254792415,
          17160.4998154737,
          17794.930376154985,
          18429.36093683627,
          19063.791497517555,
          19698.22205819884,
          20332.652618880133,
          20967.083179561418,
          21601.513740242703,
          22235.944300923988,
          22870.374861605273,
          23504.805422286558,
          24139.235982967843,
          24773.666543649135,
          25408.09710433042,
          26042.527665011705,
          26676.95822569299,
          27311.388786374275,
          27945.81934705556,
          28580.249907736845,
          29214.680468418137,
          29849.111029099422,
          30483.541589780707,
          31117.972150461992,
          31752.402711143277,
          32386.833271824562,
          33021.26383250585,
          33655.694393187136,
          34290.12495386842,
          34924.555514549706,
          35558.98607523099,
          36193.416635912276,
          36827.84719659356,
          37462.277757274845,
          38096.708317956145,
          38731.13887863743,
          39365.569439318715,
          40000
         ],
         "y": [
          0.0000023056245739356395,
          0.000002437469611196222,
          0.0000025748611577522522,
          0.0000027178933451689616,
          0.0000028666521221107527,
          0.0000030212145267525764,
          0.0000031816479544709485,
          0.0000033480094240450654,
          0.000003520344845782259,
          0.000003698688295153825,
          0.00000388306129568567,
          0.000004073472114990977,
          0.000004269915077957588,
          0.000004472369901209255,
          0.000004680801053045569,
          0.000004895157143128539,
          0.000005115370346223064,
          0.000005341355864312363,
          0.00000557301143139657,
          0.000005810216865242038,
          0.000006052833670279386,
          0.000006300704695749278,
          0.000006553653853065623,
          0.0000068114858962060675,
          0.0000070739862687491745,
          0.000007340921020956419,
          0.000007612036800045752,
          0.000007887060916522209,
          0.000008165701489121017,
          0.00000844764767058077,
          0.000008732569956099902,
          0.000009020120575940608,
          0.000009309933973232251,
          0.00000960162736759341,
          0.000009894801404740293,
          0.000010189040891781943,
          0.000010483915617422243,
          0.000010778981255798137,
          0.000011073780352185862,
          0.0000113678433883058,
          0.000011660689924454952,
          0.000011951829815197763,
          0.000012240764494854665,
          0.000012526988328546768,
          0.000012809990024088437,
          0.00001308925409957061,
          0.000013364262401050232,
          0.000013634495664358665,
          0.000013899435114667758,
          0.000014158564097109702,
          0.000014411369731438845,
          0.000014657344583453414,
          0.000014895988345664935,
          0.000015126809519515568,
          0.000015349327091300864,
          0.00001556307219385897,
          0.000015767589746038872,
          0.000015962440061960905,
          0.0000161472004221329,
          0.000016321466598585953,
          0.000016484854326344172,
          0.000016637000713742975,
          0.000016777565584359537,
          0.000016906232743615762,
          0.000017022711163456805,
          0.000017126736078895286,
          0.00001721806999063992,
          0.000017296503568495386,
          0.000017361856450724148,
          0.000017413977935098258,
          0.0000174527475579352,
          0.000017478075558003994,
          0.000017489903222801085,
          0.000017488203115326295,
          0.000017472979180132936,
          0.000017444266728078278,
          0.000017402132299856946,
          0.000017346673409055413,
          0.00001727801816611625,
          0.000017196324785241825,
          0.000017101780976893708,
          0.000016994603229152705,
          0.000016875035981790115,
          0.000016743350697460196,
          0.00001659984483495291,
          0.00001644484072994137,
          0.000016278684389116667,
          0.000016101744204021257,
          0.00001591440959126829,
          0.000015717089566165386,
          0.000015510211257046482,
          0.000015294218367852012,
          0.000015069569596685621,
          0.00001483673701821343,
          0.000014596204437859745,
          0.000014348465725790832,
          0.000014094023138666562,
          0.00001383338563707911,
          0.000013567067206489638,
          0.000013295585189319764
         ]
        },
        {
         "fill": "tozeroy",
         "line": {
          "color": "rgb(100,110,250)"
         },
         "name": "적합",
         "type": "scatter",
         "x": [
          40000,
          42150.757575757576,
          44301.51515151515,
          46452.27272727273,
          48603.030303030304,
          50753.78787878788,
          52904.545454545456,
          55055.30303030303,
          57206.06060606061,
          59356.818181818184,
          61507.57575757576,
          63658.333333333336,
          65809.09090909091,
          67959.84848484848,
          70110.60606060606,
          72261.36363636365,
          74412.12121212122,
          76562.87878787878,
          78713.63636363637,
          80864.39393939395,
          83015.15151515152,
          85165.90909090909,
          87316.66666666667,
          89467.42424242425,
          91618.18181818182,
          93768.93939393939,
          95919.69696969698,
          98070.45454545456,
          100221.21212121213,
          102371.9696969697,
          104522.72727272728,
          106673.48484848486,
          108824.24242424243,
          110975,
          113125.75757575758,
          115276.51515151517,
          117427.27272727274,
          119578.0303030303,
          121728.78787878789,
          123879.54545454547,
          126030.30303030304,
          128181.06060606061,
          130331.81818181819,
          132482.57575757577,
          134633.33333333334,
          136784.0909090909,
          138934.8484848485,
          141085.60606060608,
          143236.36363636365,
          145387.12121212122,
          147537.87878787878,
          149688.63636363638,
          151839.39393939395,
          153990.15151515152,
          156140.90909090912,
          158291.6666666667,
          160442.42424242425,
          162593.18181818182,
          164743.9393939394,
          166894.696969697,
          169045.45454545456,
          171196.21212121213,
          173346.96969696973,
          175497.7272727273,
          177648.48484848486,
          179799.24242424243,
          181950,
          184100.7575757576,
          186251.51515151517,
          188402.27272727274,
          190553.03030303033,
          192703.7878787879,
          194854.54545454547,
          197005.30303030304,
          199156.0606060606,
          201306.8181818182,
          203457.57575757577,
          205608.33333333334,
          207759.09090909094,
          209909.8484848485,
          212060.60606060608,
          214211.36363636365,
          216362.12121212122,
          218512.8787878788,
          220663.63636363638,
          222814.39393939395,
          224965.15151515155,
          227115.90909090912,
          229266.6666666667,
          231417.42424242425,
          233568.18181818182,
          235718.93939393942,
          237869.696969697,
          240020.45454545456,
          242171.21212121216,
          244321.96969696973,
          246472.7272727273,
          248623.48484848486,
          250774.24242424243,
          252925
         ],
         "y": [
          0.000013295585189319764,
          0.000012343757857956163,
          0.000011358623783465318,
          0.000010359586509069718,
          0.000009364778555487146,
          0.000008390560783209665,
          0.0000074511421399070115,
          0.000006558327397242157,
          0.000005721392244870825,
          0.000004947077767005468,
          0.000004239690330410026,
          0.0000036012885524261123,
          0.0000030319364148835895,
          0.000002530000706516624,
          0.000002092471639714361,
          0.0000017152874230521223,
          0.0000013936464431820777,
          0.0000011222941597911651,
          8.957754995719887e-7,
          7.086471445077533e-7,
          5.556474016537737e-7,
          4.318241420921593e-7,
          3.326235042792627e-7,
          2.539436369131942e-7,
          1.9215873026230294e-7,
          1.4411901668024475e-7,
          1.0713240265344314e-7,
          7.893303180049732e-8,
          5.7641478028476546e-8,
          4.172053002529429e-8,
          2.99297376925669e-8,
          2.1281115504140558e-8,
          1.4997685830462983e-8,
          1.047592786903396e-8,
          7.252690282744688e-9,
          4.976730791915758e-9,
          3.3847574338100648e-9,
          2.2816516384559976e-9,
          1.5244370961593531e-9,
          1.0095040472852527e-9,
          6.625901953180487e-10,
          4.3104273581440856e-10,
          2.779291124987008e-10,
          1.7761765640811382e-10,
          1.1250624111772185e-10,
          7.063264654710138e-11,
          4.395140149874497e-11,
          2.7106806890609493e-11,
          1.6569995110411804e-11,
          1.0039331233088231e-11,
          6.028726349560997e-12,
          3.588266939632071e-12,
          2.1168120594931784e-12,
          1.2377081281668805e-12,
          7.172863556878913e-13,
          4.120076511406874e-13,
          2.3456130935089596e-13,
          1.3235667792921664e-13,
          7.402420019071391e-14,
          4.103363338639997e-14,
          2.2544707702135496e-14,
          1.2276869195426754e-14,
          6.626268550820702e-15,
          3.5447762089140417e-15,
          1.8795201933619834e-15,
          9.877420768068989e-16,
          5.14491848116466e-16,
          2.656145283291983e-16,
          1.359137948860299e-16,
          6.893085035553408e-17,
          3.464991058953168e-17,
          1.726350540824349e-17,
          8.524997037910289e-18,
          4.172514677666636e-18,
          2.024136955766034e-18,
          9.732407838509976e-19,
          4.638089130965317e-19,
          2.1907673785047335e-19,
          1.0256326207817879e-19,
          4.759110295376257e-20,
          2.1887597781787063e-20,
          9.977203107827095e-21,
          4.507730175516106e-21,
          2.018577348723521e-21,
          8.95924192092373e-22,
          3.9412639110518095e-22,
          1.7184549612610454e-22,
          7.426414349441037e-23,
          3.1809627516653157e-23,
          1.3504433649667766e-23,
          5.6824098163029714e-24,
          2.3698841321812928e-24,
          9.796254494358668e-25,
          4.0135750627411726e-25,
          1.6298254871713656e-25,
          6.559778953215608e-26,
          2.616831083683952e-26,
          1.0346669084580562e-26,
          4.0547474894055096e-27,
          1.5749452193371127e-27
         ]
        }
       ],
       "layout": {
        "annotations": [
         {
          "bordercolor": "rgb(239,85,59)",
          "borderwidth": 2,
          "font": {
           "color": "rgb(239,85,59)",
           "size": 15
          },
          "showarrow": false,
          "text": "0.749",
          "x": 40000,
          "xshift": -40,
          "y": 0.000013295585189319764,
          "yshift": -100
         },
         {
          "bordercolor": "rgb(100,110,250)",
          "borderwidth": 2,
          "font": {
           "color": "rgb(100,110,250)",
           "size": 15
          },
          "showarrow": false,
          "text": "0.251",
          "x": 40000,
          "xshift": 40,
          "y": 0.000013295585189319764,
          "yshift": -100
         }
        ],
        "template": {
         "data": {
          "bar": [
           {
            "error_x": {
             "color": "#2a3f5f"
            },
            "error_y": {
             "color": "#2a3f5f"
            },
            "marker": {
             "line": {
              "color": "#E5ECF6",
              "width": 0.5
             },
             "pattern": {
              "fillmode": "overlay",
              "size": 10,
              "solidity": 0.2
             }
            },
            "type": "bar"
           }
          ],
          "barpolar": [
           {
            "marker": {
             "line": {
              "color": "#E5ECF6",
              "width": 0.5
             },
             "pattern": {
              "fillmode": "overlay",
              "size": 10,
              "solidity": 0.2
             }
            },
            "type": "barpolar"
           }
          ],
          "carpet": [
           {
            "aaxis": {
             "endlinecolor": "#2a3f5f",
             "gridcolor": "white",
             "linecolor": "white",
             "minorgridcolor": "white",
             "startlinecolor": "#2a3f5f"
            },
            "baxis": {
             "endlinecolor": "#2a3f5f",
             "gridcolor": "white",
             "linecolor": "white",
             "minorgridcolor": "white",
             "startlinecolor": "#2a3f5f"
            },
            "type": "carpet"
           }
          ],
          "choropleth": [
           {
            "colorbar": {
             "outlinewidth": 0,
             "ticks": ""
            },
            "type": "choropleth"
           }
          ],
          "contour": [
           {
            "colorbar": {
             "outlinewidth": 0,
             "ticks": ""
            },
            "colorscale": [
             [
              0,
              "#0d0887"
             ],
             [
              0.1111111111111111,
              "#46039f"
             ],
             [
              0.2222222222222222,
              "#7201a8"
             ],
             [
              0.3333333333333333,
              "#9c179e"
             ],
             [
              0.4444444444444444,
              "#bd3786"
             ],
             [
              0.5555555555555556,
              "#d8576b"
             ],
             [
              0.6666666666666666,
              "#ed7953"
             ],
             [
              0.7777777777777778,
              "#fb9f3a"
             ],
             [
              0.8888888888888888,
              "#fdca26"
             ],
             [
              1,
              "#f0f921"
             ]
            ],
            "type": "contour"
           }
          ],
          "contourcarpet": [
           {
            "colorbar": {
             "outlinewidth": 0,
             "ticks": ""
            },
            "type": "contourcarpet"
           }
          ],
          "heatmap": [
           {
            "colorbar": {
             "outlinewidth": 0,
             "ticks": ""
            },
            "colorscale": [
             [
              0,
              "#0d0887"
             ],
             [
              0.1111111111111111,
              "#46039f"
             ],
             [
              0.2222222222222222,
              "#7201a8"
             ],
             [
              0.3333333333333333,
              "#9c179e"
             ],
             [
              0.4444444444444444,
              "#bd3786"
             ],
             [
              0.5555555555555556,
              "#d8576b"
             ],
             [
              0.6666666666666666,
              "#ed7953"
             ],
             [
              0.7777777777777778,
              "#fb9f3a"
             ],
             [
              0.8888888888888888,
              "#fdca26"
             ],
             [
              1,
              "#f0f921"
             ]
            ],
            "type": "heatmap"
           }
          ],
          "heatmapgl": [
           {
            "colorbar": {
             "outlinewidth": 0,
             "ticks": ""
            },
            "colorscale": [
             [
              0,
              "#0d0887"
             ],
             [
              0.1111111111111111,
              "#46039f"
             ],
             [
              0.2222222222222222,
              "#7201a8"
             ],
             [
              0.3333333333333333,
              "#9c179e"
             ],
             [
              0.4444444444444444,
              "#bd3786"
             ],
             [
              0.5555555555555556,
              "#d8576b"
             ],
             [
              0.6666666666666666,
              "#ed7953"
             ],
             [
              0.7777777777777778,
              "#fb9f3a"
             ],
             [
              0.8888888888888888,
              "#fdca26"
             ],
             [
              1,
              "#f0f921"
             ]
            ],
            "type": "heatmapgl"
           }
          ],
          "histogram": [
           {
            "marker": {
             "pattern": {
              "fillmode": "overlay",
              "size": 10,
              "solidity": 0.2
             }
            },
            "type": "histogram"
           }
          ],
          "histogram2d": [
           {
            "colorbar": {
             "outlinewidth": 0,
             "ticks": ""
            },
            "colorscale": [
             [
              0,
              "#0d0887"
             ],
             [
              0.1111111111111111,
              "#46039f"
             ],
             [
              0.2222222222222222,
              "#7201a8"
             ],
             [
              0.3333333333333333,
              "#9c179e"
             ],
             [
              0.4444444444444444,
              "#bd3786"
             ],
             [
              0.5555555555555556,
              "#d8576b"
             ],
             [
              0.6666666666666666,
              "#ed7953"
             ],
             [
              0.7777777777777778,
              "#fb9f3a"
             ],
             [
              0.8888888888888888,
              "#fdca26"
             ],
             [
              1,
              "#f0f921"
             ]
            ],
            "type": "histogram2d"
           }
          ],
          "histogram2dcontour": [
           {
            "colorbar": {
             "outlinewidth": 0,
             "ticks": ""
            },
            "colorscale": [
             [
              0,
              "#0d0887"
             ],
             [
              0.1111111111111111,
              "#46039f"
             ],
             [
              0.2222222222222222,
              "#7201a8"
             ],
             [
              0.3333333333333333,
              "#9c179e"
             ],
             [
              0.4444444444444444,
              "#bd3786"
             ],
             [
              0.5555555555555556,
              "#d8576b"
             ],
             [
              0.6666666666666666,
              "#ed7953"
             ],
             [
              0.7777777777777778,
              "#fb9f3a"
             ],
             [
              0.8888888888888888,
              "#fdca26"
             ],
             [
              1,
              "#f0f921"
             ]
            ],
            "type": "histogram2dcontour"
           }
          ],
          "mesh3d": [
           {
            "colorbar": {
             "outlinewidth": 0,
             "ticks": ""
            },
            "type": "mesh3d"
           }
          ],
          "parcoords": [
           {
            "line": {
             "colorbar": {
              "outlinewidth": 0,
              "ticks": ""
             }
            },
            "type": "parcoords"
           }
          ],
          "pie": [
           {
            "automargin": true,
            "type": "pie"
           }
          ],
          "scatter": [
           {
            "marker": {
             "colorbar": {
              "outlinewidth": 0,
              "ticks": ""
             }
            },
            "type": "scatter"
           }
          ],
          "scatter3d": [
           {
            "line": {
             "colorbar": {
              "outlinewidth": 0,
              "ticks": ""
             }
            },
            "marker": {
             "colorbar": {
              "outlinewidth": 0,
              "ticks": ""
             }
            },
            "type": "scatter3d"
           }
          ],
          "scattercarpet": [
           {
            "marker": {
             "colorbar": {
              "outlinewidth": 0,
              "ticks": ""
             }
            },
            "type": "scattercarpet"
           }
          ],
          "scattergeo": [
           {
            "marker": {
             "colorbar": {
              "outlinewidth": 0,
              "ticks": ""
             }
            },
            "type": "scattergeo"
           }
          ],
          "scattergl": [
           {
            "marker": {
             "colorbar": {
              "outlinewidth": 0,
              "ticks": ""
             }
            },
            "type": "scattergl"
           }
          ],
          "scattermapbox": [
           {
            "marker": {
             "colorbar": {
              "outlinewidth": 0,
              "ticks": ""
             }
            },
            "type": "scattermapbox"
           }
          ],
          "scatterpolar": [
           {
            "marker": {
             "colorbar": {
              "outlinewidth": 0,
              "ticks": ""
             }
            },
            "type": "scatterpolar"
           }
          ],
          "scatterpolargl": [
           {
            "marker": {
             "colorbar": {
              "outlinewidth": 0,
              "ticks": ""
             }
            },
            "type": "scatterpolargl"
           }
          ],
          "scatterternary": [
           {
            "marker": {
             "colorbar": {
              "outlinewidth": 0,
              "ticks": ""
             }
            },
            "type": "scatterternary"
           }
          ],
          "surface": [
           {
            "colorbar": {
             "outlinewidth": 0,
             "ticks": ""
            },
            "colorscale": [
             [
              0,
              "#0d0887"
             ],
             [
              0.1111111111111111,
              "#46039f"
             ],
             [
              0.2222222222222222,
              "#7201a8"
             ],
             [
              0.3333333333333333,
              "#9c179e"
             ],
             [
              0.4444444444444444,
              "#bd3786"
             ],
             [
              0.5555555555555556,
              "#d8576b"
             ],
             [
              0.6666666666666666,
              "#ed7953"
             ],
             [
              0.7777777777777778,
              "#fb9f3a"
             ],
             [
              0.8888888888888888,
              "#fdca26"
             ],
             [
              1,
              "#f0f921"
             ]
            ],
            "type": "surface"
           }
          ],
          "table": [
           {
            "cells": {
             "fill": {
              "color": "#EBF0F8"
             },
             "line": {
              "color": "white"
             }
            },
            "header": {
             "fill": {
              "color": "#C8D4E3"
             },
             "line": {
              "color": "white"
             }
            },
            "type": "table"
           }
          ]
         },
         "layout": {
          "annotationdefaults": {
           "arrowcolor": "#2a3f5f",
           "arrowhead": 0,
           "arrowwidth": 1
          },
          "autotypenumbers": "strict",
          "coloraxis": {
           "colorbar": {
            "outlinewidth": 0,
            "ticks": ""
           }
          },
          "colorscale": {
           "diverging": [
            [
             0,
             "#8e0152"
            ],
            [
             0.1,
             "#c51b7d"
            ],
            [
             0.2,
             "#de77ae"
            ],
            [
             0.3,
             "#f1b6da"
            ],
            [
             0.4,
             "#fde0ef"
            ],
            [
             0.5,
             "#f7f7f7"
            ],
            [
             0.6,
             "#e6f5d0"
            ],
            [
             0.7,
             "#b8e186"
            ],
            [
             0.8,
             "#7fbc41"
            ],
            [
             0.9,
             "#4d9221"
            ],
            [
             1,
             "#276419"
            ]
           ],
           "sequential": [
            [
             0,
             "#0d0887"
            ],
            [
             0.1111111111111111,
             "#46039f"
            ],
            [
             0.2222222222222222,
             "#7201a8"
            ],
            [
             0.3333333333333333,
             "#9c179e"
            ],
            [
             0.4444444444444444,
             "#bd3786"
            ],
            [
             0.5555555555555556,
             "#d8576b"
            ],
            [
             0.6666666666666666,
             "#ed7953"
            ],
            [
             0.7777777777777778,
             "#fb9f3a"
            ],
            [
             0.8888888888888888,
             "#fdca26"
            ],
            [
             1,
             "#f0f921"
            ]
           ],
           "sequentialminus": [
            [
             0,
             "#0d0887"
            ],
            [
             0.1111111111111111,
             "#46039f"
            ],
            [
             0.2222222222222222,
             "#7201a8"
            ],
            [
             0.3333333333333333,
             "#9c179e"
            ],
            [
             0.4444444444444444,
             "#bd3786"
            ],
            [
             0.5555555555555556,
             "#d8576b"
            ],
            [
             0.6666666666666666,
             "#ed7953"
            ],
            [
             0.7777777777777778,
             "#fb9f3a"
            ],
            [
             0.8888888888888888,
             "#fdca26"
            ],
            [
             1,
             "#f0f921"
            ]
           ]
          },
          "colorway": [
           "#636efa",
           "#EF553B",
           "#00cc96",
           "#ab63fa",
           "#FFA15A",
           "#19d3f3",
           "#FF6692",
           "#B6E880",
           "#FF97FF",
           "#FECB52"
          ],
          "font": {
           "color": "#2a3f5f"
          },
          "geo": {
           "bgcolor": "white",
           "lakecolor": "white",
           "landcolor": "#E5ECF6",
           "showlakes": true,
           "showland": true,
           "subunitcolor": "white"
          },
          "hoverlabel": {
           "align": "left"
          },
          "hovermode": "closest",
          "mapbox": {
           "style": "light"
          },
          "paper_bgcolor": "white",
          "plot_bgcolor": "#E5ECF6",
          "polar": {
           "angularaxis": {
            "gridcolor": "white",
            "linecolor": "white",
            "ticks": ""
           },
           "bgcolor": "#E5ECF6",
           "radialaxis": {
            "gridcolor": "white",
            "linecolor": "white",
            "ticks": ""
           }
          },
          "scene": {
           "xaxis": {
            "backgroundcolor": "#E5ECF6",
            "gridcolor": "white",
            "gridwidth": 2,
            "linecolor": "white",
            "showbackground": true,
            "ticks": "",
            "zerolinecolor": "white"
           },
           "yaxis": {
            "backgroundcolor": "#E5ECF6",
            "gridcolor": "white",
            "gridwidth": 2,
            "linecolor": "white",
            "showbackground": true,
            "ticks": "",
            "zerolinecolor": "white"
           },
           "zaxis": {
            "backgroundcolor": "#E5ECF6",
            "gridcolor": "white",
            "gridwidth": 2,
            "linecolor": "white",
            "showbackground": true,
            "ticks": "",
            "zerolinecolor": "white"
           }
          },
          "shapedefaults": {
           "line": {
            "color": "#2a3f5f"
           }
          },
          "ternary": {
           "aaxis": {
            "gridcolor": "white",
            "linecolor": "white",
            "ticks": ""
           },
           "baxis": {
            "gridcolor": "white",
            "linecolor": "white",
            "ticks": ""
           },
           "bgcolor": "#E5ECF6",
           "caxis": {
            "gridcolor": "white",
            "linecolor": "white",
            "ticks": ""
           }
          },
          "title": {
           "x": 0.05
          },
          "xaxis": {
           "automargin": true,
           "gridcolor": "white",
           "linecolor": "white",
           "ticks": "",
           "title": {
            "standoff": 15
           },
           "zerolinecolor": "white",
           "zerolinewidth": 2
          },
          "yaxis": {
           "automargin": true,
           "gridcolor": "white",
           "linecolor": "white",
           "ticks": "",
           "title": {
            "standoff": 15
           },
           "zerolinecolor": "white",
           "zerolinewidth": 2
          }
         }
        },
        "yaxis": {
         "visible": false
        }
       }
      }
     },
     "metadata": {},
     "output_type": "display_data"
    }
   ],
   "source": [
    "density_pro, density_pro_negative = cal_norm(df_density['인구밀도(km^2)'].mean(),\n",
    "                                             df_density['인구밀도(km^2)'].std(),\n",
    "                                             df_density['인구밀도(km^2)'].min(),\n",
    "                                             df_density['인구밀도(km^2)'].max(),\n",
    "                                             density_standard,\n",
    "                                             False)"
   ]
  },
  {
   "cell_type": "markdown",
   "metadata": {},
   "source": [
    "### 유동인구밀도"
   ]
  },
  {
   "cell_type": "code",
   "execution_count": 158,
   "metadata": {},
   "outputs": [
    {
     "data": {
      "text/html": [
       "<div>\n",
       "<style scoped>\n",
       "    .dataframe tbody tr th:only-of-type {\n",
       "        vertical-align: middle;\n",
       "    }\n",
       "\n",
       "    .dataframe tbody tr th {\n",
       "        vertical-align: top;\n",
       "    }\n",
       "\n",
       "    .dataframe thead th {\n",
       "        text-align: right;\n",
       "    }\n",
       "</style>\n",
       "<table border=\"1\" class=\"dataframe\">\n",
       "  <thead>\n",
       "    <tr style=\"text-align: right;\">\n",
       "      <th></th>\n",
       "      <th>구군</th>\n",
       "      <th>1월</th>\n",
       "      <th>2월</th>\n",
       "      <th>3월</th>\n",
       "      <th>4월</th>\n",
       "      <th>5월</th>\n",
       "      <th>6월</th>\n",
       "      <th>7월</th>\n",
       "      <th>8월</th>\n",
       "      <th>9월</th>\n",
       "      <th>10월</th>\n",
       "      <th>11월</th>\n",
       "      <th>12월</th>\n",
       "      <th>월 평균</th>\n",
       "    </tr>\n",
       "  </thead>\n",
       "  <tbody>\n",
       "    <tr>\n",
       "      <th>0</th>\n",
       "      <td>강서구</td>\n",
       "      <td>325,284.39</td>\n",
       "      <td>323,049.87</td>\n",
       "      <td>335,120.06</td>\n",
       "      <td>340,570.52</td>\n",
       "      <td>332,289.77</td>\n",
       "      <td>340,678.45</td>\n",
       "      <td>337,488.64</td>\n",
       "      <td>328,374.74</td>\n",
       "      <td>328,764.38</td>\n",
       "      <td>333,414.26</td>\n",
       "      <td>340,405.10</td>\n",
       "      <td>337,753.15</td>\n",
       "      <td>333,599.44</td>\n",
       "    </tr>\n",
       "    <tr>\n",
       "      <th>1</th>\n",
       "      <td>금정구</td>\n",
       "      <td>482,598.89</td>\n",
       "      <td>477,047.11</td>\n",
       "      <td>484,669.59</td>\n",
       "      <td>490,864.46</td>\n",
       "      <td>487,435.45</td>\n",
       "      <td>484,936.00</td>\n",
       "      <td>483,898.58</td>\n",
       "      <td>482,964.23</td>\n",
       "      <td>487,082.06</td>\n",
       "      <td>484,633.90</td>\n",
       "      <td>485,502.59</td>\n",
       "      <td>488,392.99</td>\n",
       "      <td>485,002.15</td>\n",
       "    </tr>\n",
       "    <tr>\n",
       "      <th>2</th>\n",
       "      <td>기장군</td>\n",
       "      <td>341,181.17</td>\n",
       "      <td>343,398.79</td>\n",
       "      <td>342,489.52</td>\n",
       "      <td>345,184.20</td>\n",
       "      <td>348,793.68</td>\n",
       "      <td>348,500.32</td>\n",
       "      <td>350,763.40</td>\n",
       "      <td>349,328.59</td>\n",
       "      <td>348,077.97</td>\n",
       "      <td>348,449.77</td>\n",
       "      <td>345,905.89</td>\n",
       "      <td>344,245.29</td>\n",
       "      <td>346,359.88</td>\n",
       "    </tr>\n",
       "    <tr>\n",
       "      <th>3</th>\n",
       "      <td>남구</td>\n",
       "      <td>539,072.58</td>\n",
       "      <td>526,693.91</td>\n",
       "      <td>524,611.67</td>\n",
       "      <td>524,961.53</td>\n",
       "      <td>526,758.54</td>\n",
       "      <td>531,078.89</td>\n",
       "      <td>529,810.42</td>\n",
       "      <td>530,199.16</td>\n",
       "      <td>531,658.35</td>\n",
       "      <td>525,870.37</td>\n",
       "      <td>528,106.40</td>\n",
       "      <td>531,610.18</td>\n",
       "      <td>529,202.67</td>\n",
       "    </tr>\n",
       "    <tr>\n",
       "      <th>4</th>\n",
       "      <td>동구</td>\n",
       "      <td>185,466.33</td>\n",
       "      <td>185,459.30</td>\n",
       "      <td>189,082.61</td>\n",
       "      <td>192,702.25</td>\n",
       "      <td>189,819.14</td>\n",
       "      <td>191,618.73</td>\n",
       "      <td>189,864.16</td>\n",
       "      <td>189,368.74</td>\n",
       "      <td>190,328.67</td>\n",
       "      <td>191,182.03</td>\n",
       "      <td>194,732.77</td>\n",
       "      <td>193,341.86</td>\n",
       "      <td>190,247.22</td>\n",
       "    </tr>\n",
       "    <tr>\n",
       "      <th>5</th>\n",
       "      <td>동래구</td>\n",
       "      <td>553,655.76</td>\n",
       "      <td>549,718.60</td>\n",
       "      <td>543,091.96</td>\n",
       "      <td>535,439.53</td>\n",
       "      <td>533,908.61</td>\n",
       "      <td>528,124.07</td>\n",
       "      <td>527,730.64</td>\n",
       "      <td>525,468.79</td>\n",
       "      <td>532,656.70</td>\n",
       "      <td>527,498.20</td>\n",
       "      <td>520,126.56</td>\n",
       "      <td>524,788.88</td>\n",
       "      <td>533,517.36</td>\n",
       "    </tr>\n",
       "    <tr>\n",
       "      <th>6</th>\n",
       "      <td>부산진구</td>\n",
       "      <td>757,261.10</td>\n",
       "      <td>760,742.04</td>\n",
       "      <td>760,212.63</td>\n",
       "      <td>761,728.33</td>\n",
       "      <td>765,460.09</td>\n",
       "      <td>764,636.01</td>\n",
       "      <td>759,638.81</td>\n",
       "      <td>754,837.78</td>\n",
       "      <td>763,942.81</td>\n",
       "      <td>761,731.75</td>\n",
       "      <td>763,818.34</td>\n",
       "      <td>768,957.14</td>\n",
       "      <td>761,913.90</td>\n",
       "    </tr>\n",
       "    <tr>\n",
       "      <th>7</th>\n",
       "      <td>북구</td>\n",
       "      <td>559,133.62</td>\n",
       "      <td>554,946.17</td>\n",
       "      <td>543,084.57</td>\n",
       "      <td>543,479.25</td>\n",
       "      <td>543,145.91</td>\n",
       "      <td>540,381.96</td>\n",
       "      <td>542,289.98</td>\n",
       "      <td>546,905.11</td>\n",
       "      <td>551,394.74</td>\n",
       "      <td>542,887.88</td>\n",
       "      <td>539,732.97</td>\n",
       "      <td>545,952.52</td>\n",
       "      <td>546,111.22</td>\n",
       "    </tr>\n",
       "    <tr>\n",
       "      <th>8</th>\n",
       "      <td>사상구</td>\n",
       "      <td>496,102.34</td>\n",
       "      <td>492,871.78</td>\n",
       "      <td>493,054.71</td>\n",
       "      <td>496,932.63</td>\n",
       "      <td>494,094.59</td>\n",
       "      <td>494,207.66</td>\n",
       "      <td>492,973.61</td>\n",
       "      <td>490,296.85</td>\n",
       "      <td>493,842.47</td>\n",
       "      <td>491,808.21</td>\n",
       "      <td>493,815.86</td>\n",
       "      <td>495,297.44</td>\n",
       "      <td>493,774.85</td>\n",
       "    </tr>\n",
       "    <tr>\n",
       "      <th>9</th>\n",
       "      <td>사하구</td>\n",
       "      <td>641,541.35</td>\n",
       "      <td>632,045.91</td>\n",
       "      <td>628,461.73</td>\n",
       "      <td>633,805.98</td>\n",
       "      <td>630,333.83</td>\n",
       "      <td>629,635.14</td>\n",
       "      <td>630,260.69</td>\n",
       "      <td>631,377.03</td>\n",
       "      <td>633,402.47</td>\n",
       "      <td>627,551.97</td>\n",
       "      <td>625,380.25</td>\n",
       "      <td>631,475.21</td>\n",
       "      <td>631,272.63</td>\n",
       "    </tr>\n",
       "    <tr>\n",
       "      <th>10</th>\n",
       "      <td>서구</td>\n",
       "      <td>244,816.18</td>\n",
       "      <td>247,144.65</td>\n",
       "      <td>246,832.32</td>\n",
       "      <td>249,028.55</td>\n",
       "      <td>245,968.42</td>\n",
       "      <td>232,053.80</td>\n",
       "      <td>230,458.90</td>\n",
       "      <td>229,377.92</td>\n",
       "      <td>228,929.31</td>\n",
       "      <td>225,006.09</td>\n",
       "      <td>222,113.90</td>\n",
       "      <td>223,835.54</td>\n",
       "      <td>235,463.80</td>\n",
       "    </tr>\n",
       "    <tr>\n",
       "      <th>11</th>\n",
       "      <td>수영구</td>\n",
       "      <td>339,989.93</td>\n",
       "      <td>335,887.41</td>\n",
       "      <td>345,588.95</td>\n",
       "      <td>358,682.04</td>\n",
       "      <td>356,153.28</td>\n",
       "      <td>344,222.04</td>\n",
       "      <td>345,425.50</td>\n",
       "      <td>342,987.83</td>\n",
       "      <td>342,228.84</td>\n",
       "      <td>340,723.32</td>\n",
       "      <td>340,813.55</td>\n",
       "      <td>345,960.31</td>\n",
       "      <td>344,888.58</td>\n",
       "    </tr>\n",
       "    <tr>\n",
       "      <th>12</th>\n",
       "      <td>연제구</td>\n",
       "      <td>394,132.20</td>\n",
       "      <td>390,539.12</td>\n",
       "      <td>393,604.79</td>\n",
       "      <td>396,276.36</td>\n",
       "      <td>394,296.80</td>\n",
       "      <td>399,403.98</td>\n",
       "      <td>401,469.81</td>\n",
       "      <td>400,414.71</td>\n",
       "      <td>398,036.79</td>\n",
       "      <td>395,250.20</td>\n",
       "      <td>398,436.74</td>\n",
       "      <td>401,486.80</td>\n",
       "      <td>396,945.69</td>\n",
       "    </tr>\n",
       "    <tr>\n",
       "      <th>13</th>\n",
       "      <td>영도구</td>\n",
       "      <td>248,178.99</td>\n",
       "      <td>246,981.20</td>\n",
       "      <td>242,904.23</td>\n",
       "      <td>243,650.92</td>\n",
       "      <td>245,374.40</td>\n",
       "      <td>244,196.20</td>\n",
       "      <td>243,830.89</td>\n",
       "      <td>244,457.54</td>\n",
       "      <td>244,665.84</td>\n",
       "      <td>242,981.94</td>\n",
       "      <td>241,042.77</td>\n",
       "      <td>240,790.94</td>\n",
       "      <td>244,087.99</td>\n",
       "    </tr>\n",
       "    <tr>\n",
       "      <th>14</th>\n",
       "      <td>중구</td>\n",
       "      <td>105,170.15</td>\n",
       "      <td>106,603.51</td>\n",
       "      <td>110,729.44</td>\n",
       "      <td>110,668.93</td>\n",
       "      <td>113,610.04</td>\n",
       "      <td>128,260.41</td>\n",
       "      <td>127,285.37</td>\n",
       "      <td>124,056.84</td>\n",
       "      <td>127,550.96</td>\n",
       "      <td>131,073.84</td>\n",
       "      <td>135,646.63</td>\n",
       "      <td>134,834.02</td>\n",
       "      <td>121,290.85</td>\n",
       "    </tr>\n",
       "    <tr>\n",
       "      <th>15</th>\n",
       "      <td>해운대구</td>\n",
       "      <td>867,047.22</td>\n",
       "      <td>871,849.92</td>\n",
       "      <td>858,675.53</td>\n",
       "      <td>862,845.41</td>\n",
       "      <td>867,445.21</td>\n",
       "      <td>867,936.68</td>\n",
       "      <td>875,772.89</td>\n",
       "      <td>871,029.74</td>\n",
       "      <td>864,691.10</td>\n",
       "      <td>864,549.71</td>\n",
       "      <td>863,913.89</td>\n",
       "      <td>878,342.31</td>\n",
       "      <td>867,841.63</td>\n",
       "    </tr>\n",
       "  </tbody>\n",
       "</table>\n",
       "</div>"
      ],
      "text/plain": [
       "      구군          1월          2월          3월          4월          5월  \\\n",
       "0    강서구  325,284.39  323,049.87  335,120.06  340,570.52  332,289.77   \n",
       "1    금정구  482,598.89  477,047.11  484,669.59  490,864.46  487,435.45   \n",
       "2    기장군  341,181.17  343,398.79  342,489.52  345,184.20  348,793.68   \n",
       "3     남구  539,072.58  526,693.91  524,611.67  524,961.53  526,758.54   \n",
       "4     동구  185,466.33  185,459.30  189,082.61  192,702.25  189,819.14   \n",
       "5    동래구  553,655.76  549,718.60  543,091.96  535,439.53  533,908.61   \n",
       "6   부산진구  757,261.10  760,742.04  760,212.63  761,728.33  765,460.09   \n",
       "7     북구  559,133.62  554,946.17  543,084.57  543,479.25  543,145.91   \n",
       "8    사상구  496,102.34  492,871.78  493,054.71  496,932.63  494,094.59   \n",
       "9    사하구  641,541.35  632,045.91  628,461.73  633,805.98  630,333.83   \n",
       "10    서구  244,816.18  247,144.65  246,832.32  249,028.55  245,968.42   \n",
       "11   수영구  339,989.93  335,887.41  345,588.95  358,682.04  356,153.28   \n",
       "12   연제구  394,132.20  390,539.12  393,604.79  396,276.36  394,296.80   \n",
       "13   영도구  248,178.99  246,981.20  242,904.23  243,650.92  245,374.40   \n",
       "14    중구  105,170.15  106,603.51  110,729.44  110,668.93  113,610.04   \n",
       "15  해운대구  867,047.22  871,849.92  858,675.53  862,845.41  867,445.21   \n",
       "\n",
       "            6월          7월          8월          9월         10월         11월  \\\n",
       "0   340,678.45  337,488.64  328,374.74  328,764.38  333,414.26  340,405.10   \n",
       "1   484,936.00  483,898.58  482,964.23  487,082.06  484,633.90  485,502.59   \n",
       "2   348,500.32  350,763.40  349,328.59  348,077.97  348,449.77  345,905.89   \n",
       "3   531,078.89  529,810.42  530,199.16  531,658.35  525,870.37  528,106.40   \n",
       "4   191,618.73  189,864.16  189,368.74  190,328.67  191,182.03  194,732.77   \n",
       "5   528,124.07  527,730.64  525,468.79  532,656.70  527,498.20  520,126.56   \n",
       "6   764,636.01  759,638.81  754,837.78  763,942.81  761,731.75  763,818.34   \n",
       "7   540,381.96  542,289.98  546,905.11  551,394.74  542,887.88  539,732.97   \n",
       "8   494,207.66  492,973.61  490,296.85  493,842.47  491,808.21  493,815.86   \n",
       "9   629,635.14  630,260.69  631,377.03  633,402.47  627,551.97  625,380.25   \n",
       "10  232,053.80  230,458.90  229,377.92  228,929.31  225,006.09  222,113.90   \n",
       "11  344,222.04  345,425.50  342,987.83  342,228.84  340,723.32  340,813.55   \n",
       "12  399,403.98  401,469.81  400,414.71  398,036.79  395,250.20  398,436.74   \n",
       "13  244,196.20  243,830.89  244,457.54  244,665.84  242,981.94  241,042.77   \n",
       "14  128,260.41  127,285.37  124,056.84  127,550.96  131,073.84  135,646.63   \n",
       "15  867,936.68  875,772.89  871,029.74  864,691.10  864,549.71  863,913.89   \n",
       "\n",
       "           12월        월 평균  \n",
       "0   337,753.15  333,599.44  \n",
       "1   488,392.99  485,002.15  \n",
       "2   344,245.29  346,359.88  \n",
       "3   531,610.18  529,202.67  \n",
       "4   193,341.86  190,247.22  \n",
       "5   524,788.88  533,517.36  \n",
       "6   768,957.14  761,913.90  \n",
       "7   545,952.52  546,111.22  \n",
       "8   495,297.44  493,774.85  \n",
       "9   631,475.21  631,272.63  \n",
       "10  223,835.54  235,463.80  \n",
       "11  345,960.31  344,888.58  \n",
       "12  401,486.80  396,945.69  \n",
       "13  240,790.94  244,087.99  \n",
       "14  134,834.02  121,290.85  \n",
       "15  878,342.31  867,841.63  "
      ]
     },
     "execution_count": 158,
     "metadata": {},
     "output_type": "execute_result"
    }
   ],
   "source": [
    "foottraffic_file_path = 'C:\\\\Users\\\\SAMSUNG\\\\Desktop\\\\Green-Car-Charging-Station-Site-Selection\\\\Data\\\\부산 유동인구 데이터.csv'\n",
    "df_foottraffic = pd.read_csv(foottraffic_file_path, encoding='cp949')\n",
    "df_foottraffic"
   ]
  },
  {
   "cell_type": "code",
   "execution_count": 159,
   "metadata": {},
   "outputs": [],
   "source": [
    "foottraffic_col = df_foottraffic.iloc[:,1:-1].columns.tolist()"
   ]
  },
  {
   "cell_type": "code",
   "execution_count": 160,
   "metadata": {},
   "outputs": [
    {
     "data": {
      "text/html": [
       "<div>\n",
       "<style scoped>\n",
       "    .dataframe tbody tr th:only-of-type {\n",
       "        vertical-align: middle;\n",
       "    }\n",
       "\n",
       "    .dataframe tbody tr th {\n",
       "        vertical-align: top;\n",
       "    }\n",
       "\n",
       "    .dataframe thead th {\n",
       "        text-align: right;\n",
       "    }\n",
       "</style>\n",
       "<table border=\"1\" class=\"dataframe\">\n",
       "  <thead>\n",
       "    <tr style=\"text-align: right;\">\n",
       "      <th></th>\n",
       "      <th>월 평균</th>\n",
       "    </tr>\n",
       "    <tr>\n",
       "      <th>구군</th>\n",
       "      <th></th>\n",
       "    </tr>\n",
       "  </thead>\n",
       "  <tbody>\n",
       "    <tr>\n",
       "      <th>강서구</th>\n",
       "      <td>333,599.44</td>\n",
       "    </tr>\n",
       "    <tr>\n",
       "      <th>금정구</th>\n",
       "      <td>485,002.15</td>\n",
       "    </tr>\n",
       "    <tr>\n",
       "      <th>기장군</th>\n",
       "      <td>346,359.88</td>\n",
       "    </tr>\n",
       "    <tr>\n",
       "      <th>남구</th>\n",
       "      <td>529,202.67</td>\n",
       "    </tr>\n",
       "    <tr>\n",
       "      <th>동구</th>\n",
       "      <td>190,247.22</td>\n",
       "    </tr>\n",
       "    <tr>\n",
       "      <th>동래구</th>\n",
       "      <td>533,517.36</td>\n",
       "    </tr>\n",
       "    <tr>\n",
       "      <th>부산진구</th>\n",
       "      <td>761,913.90</td>\n",
       "    </tr>\n",
       "    <tr>\n",
       "      <th>북구</th>\n",
       "      <td>546,111.22</td>\n",
       "    </tr>\n",
       "    <tr>\n",
       "      <th>사상구</th>\n",
       "      <td>493,774.85</td>\n",
       "    </tr>\n",
       "    <tr>\n",
       "      <th>사하구</th>\n",
       "      <td>631,272.63</td>\n",
       "    </tr>\n",
       "    <tr>\n",
       "      <th>서구</th>\n",
       "      <td>235,463.80</td>\n",
       "    </tr>\n",
       "    <tr>\n",
       "      <th>수영구</th>\n",
       "      <td>344,888.58</td>\n",
       "    </tr>\n",
       "    <tr>\n",
       "      <th>연제구</th>\n",
       "      <td>396,945.69</td>\n",
       "    </tr>\n",
       "    <tr>\n",
       "      <th>영도구</th>\n",
       "      <td>244,087.99</td>\n",
       "    </tr>\n",
       "    <tr>\n",
       "      <th>중구</th>\n",
       "      <td>121,290.85</td>\n",
       "    </tr>\n",
       "    <tr>\n",
       "      <th>해운대구</th>\n",
       "      <td>867,841.63</td>\n",
       "    </tr>\n",
       "  </tbody>\n",
       "</table>\n",
       "</div>"
      ],
      "text/plain": [
       "            월 평균\n",
       "구군              \n",
       "강서구   333,599.44\n",
       "금정구   485,002.15\n",
       "기장군   346,359.88\n",
       "남구    529,202.67\n",
       "동구    190,247.22\n",
       "동래구   533,517.36\n",
       "부산진구  761,913.90\n",
       "북구    546,111.22\n",
       "사상구   493,774.85\n",
       "사하구   631,272.63\n",
       "서구    235,463.80\n",
       "수영구   344,888.58\n",
       "연제구   396,945.69\n",
       "영도구   244,087.99\n",
       "중구    121,290.85\n",
       "해운대구  867,841.63"
      ]
     },
     "execution_count": 160,
     "metadata": {},
     "output_type": "execute_result"
    }
   ],
   "source": [
    "df_foottraffic.drop(columns=foottraffic_col, inplace=True)\n",
    "df_foottraffic.set_index('구군',inplace=True)\n",
    "df_foottraffic"
   ]
  },
  {
   "cell_type": "code",
   "execution_count": 162,
   "metadata": {},
   "outputs": [
    {
     "data": {
      "text/html": [
       "<div>\n",
       "<style scoped>\n",
       "    .dataframe tbody tr th:only-of-type {\n",
       "        vertical-align: middle;\n",
       "    }\n",
       "\n",
       "    .dataframe tbody tr th {\n",
       "        vertical-align: top;\n",
       "    }\n",
       "\n",
       "    .dataframe thead th {\n",
       "        text-align: right;\n",
       "    }\n",
       "</style>\n",
       "<table border=\"1\" class=\"dataframe\">\n",
       "  <thead>\n",
       "    <tr style=\"text-align: right;\">\n",
       "      <th></th>\n",
       "      <th>월 평균</th>\n",
       "    </tr>\n",
       "    <tr>\n",
       "      <th>구군</th>\n",
       "      <th></th>\n",
       "    </tr>\n",
       "  </thead>\n",
       "  <tbody>\n",
       "    <tr>\n",
       "      <th>강서구</th>\n",
       "      <td>333599.44</td>\n",
       "    </tr>\n",
       "    <tr>\n",
       "      <th>금정구</th>\n",
       "      <td>485002.15</td>\n",
       "    </tr>\n",
       "    <tr>\n",
       "      <th>기장군</th>\n",
       "      <td>346359.88</td>\n",
       "    </tr>\n",
       "    <tr>\n",
       "      <th>남구</th>\n",
       "      <td>529202.67</td>\n",
       "    </tr>\n",
       "    <tr>\n",
       "      <th>동구</th>\n",
       "      <td>190247.22</td>\n",
       "    </tr>\n",
       "    <tr>\n",
       "      <th>동래구</th>\n",
       "      <td>533517.36</td>\n",
       "    </tr>\n",
       "    <tr>\n",
       "      <th>부산진구</th>\n",
       "      <td>761913.90</td>\n",
       "    </tr>\n",
       "    <tr>\n",
       "      <th>북구</th>\n",
       "      <td>546111.22</td>\n",
       "    </tr>\n",
       "    <tr>\n",
       "      <th>사상구</th>\n",
       "      <td>493774.85</td>\n",
       "    </tr>\n",
       "    <tr>\n",
       "      <th>사하구</th>\n",
       "      <td>631272.63</td>\n",
       "    </tr>\n",
       "    <tr>\n",
       "      <th>서구</th>\n",
       "      <td>235463.80</td>\n",
       "    </tr>\n",
       "    <tr>\n",
       "      <th>수영구</th>\n",
       "      <td>344888.58</td>\n",
       "    </tr>\n",
       "    <tr>\n",
       "      <th>연제구</th>\n",
       "      <td>396945.69</td>\n",
       "    </tr>\n",
       "    <tr>\n",
       "      <th>영도구</th>\n",
       "      <td>244087.99</td>\n",
       "    </tr>\n",
       "    <tr>\n",
       "      <th>중구</th>\n",
       "      <td>121290.85</td>\n",
       "    </tr>\n",
       "    <tr>\n",
       "      <th>해운대구</th>\n",
       "      <td>867841.63</td>\n",
       "    </tr>\n",
       "  </tbody>\n",
       "</table>\n",
       "</div>"
      ],
      "text/plain": [
       "           월 평균\n",
       "구군             \n",
       "강서구   333599.44\n",
       "금정구   485002.15\n",
       "기장군   346359.88\n",
       "남구    529202.67\n",
       "동구    190247.22\n",
       "동래구   533517.36\n",
       "부산진구  761913.90\n",
       "북구    546111.22\n",
       "사상구   493774.85\n",
       "사하구   631272.63\n",
       "서구    235463.80\n",
       "수영구   344888.58\n",
       "연제구   396945.69\n",
       "영도구   244087.99\n",
       "중구    121290.85\n",
       "해운대구  867841.63"
      ]
     },
     "execution_count": 162,
     "metadata": {},
     "output_type": "execute_result"
    }
   ],
   "source": [
    "advanced_replace(df_foottraffic, '월 평균','-',r'[^0-9.0-9]')\n",
    "df_foottraffic['월 평균'] = df_foottraffic['월 평균'].astype(float)"
   ]
  },
  {
   "cell_type": "code",
   "execution_count": 201,
   "metadata": {},
   "outputs": [],
   "source": [
    "density = []\n",
    "population = df_foottraffic['월 평균'].tolist()\n",
    "area = df_area['면적(km2)'].tolist()\n",
    "list_p_a = list(zip(population,area))\n",
    "for x,y in list_p_a:\n",
    "    val = x/y\n",
    "    density.append(val)"
   ]
  },
  {
   "cell_type": "code",
   "execution_count": 203,
   "metadata": {},
   "outputs": [
    {
     "data": {
      "text/html": [
       "<div>\n",
       "<style scoped>\n",
       "    .dataframe tbody tr th:only-of-type {\n",
       "        vertical-align: middle;\n",
       "    }\n",
       "\n",
       "    .dataframe tbody tr th {\n",
       "        vertical-align: top;\n",
       "    }\n",
       "\n",
       "    .dataframe thead th {\n",
       "        text-align: right;\n",
       "    }\n",
       "</style>\n",
       "<table border=\"1\" class=\"dataframe\">\n",
       "  <thead>\n",
       "    <tr style=\"text-align: right;\">\n",
       "      <th></th>\n",
       "      <th>월 평균</th>\n",
       "      <th>유동인구밀도(km2당)</th>\n",
       "    </tr>\n",
       "    <tr>\n",
       "      <th>구군</th>\n",
       "      <th></th>\n",
       "      <th></th>\n",
       "    </tr>\n",
       "  </thead>\n",
       "  <tbody>\n",
       "    <tr>\n",
       "      <th>강서구</th>\n",
       "      <td>333599.44</td>\n",
       "      <td>1863.684022</td>\n",
       "    </tr>\n",
       "    <tr>\n",
       "      <th>금정구</th>\n",
       "      <td>485002.15</td>\n",
       "      <td>7439.824360</td>\n",
       "    </tr>\n",
       "    <tr>\n",
       "      <th>기장군</th>\n",
       "      <td>346359.88</td>\n",
       "      <td>1588.806789</td>\n",
       "    </tr>\n",
       "    <tr>\n",
       "      <th>남구</th>\n",
       "      <td>529202.67</td>\n",
       "      <td>20424.649556</td>\n",
       "    </tr>\n",
       "    <tr>\n",
       "      <th>동구</th>\n",
       "      <td>190247.22</td>\n",
       "      <td>19412.981633</td>\n",
       "    </tr>\n",
       "    <tr>\n",
       "      <th>동래구</th>\n",
       "      <td>533517.36</td>\n",
       "      <td>31947.147305</td>\n",
       "    </tr>\n",
       "    <tr>\n",
       "      <th>부산진구</th>\n",
       "      <td>761913.90</td>\n",
       "      <td>25662.307174</td>\n",
       "    </tr>\n",
       "    <tr>\n",
       "      <th>북구</th>\n",
       "      <td>546111.22</td>\n",
       "      <td>14258.778590</td>\n",
       "    </tr>\n",
       "    <tr>\n",
       "      <th>사상구</th>\n",
       "      <td>493774.85</td>\n",
       "      <td>13777.200056</td>\n",
       "    </tr>\n",
       "    <tr>\n",
       "      <th>사하구</th>\n",
       "      <td>631272.63</td>\n",
       "      <td>15138.432374</td>\n",
       "    </tr>\n",
       "    <tr>\n",
       "      <th>서구</th>\n",
       "      <td>235463.80</td>\n",
       "      <td>16964.250720</td>\n",
       "    </tr>\n",
       "    <tr>\n",
       "      <th>수영구</th>\n",
       "      <td>344888.58</td>\n",
       "      <td>33812.605882</td>\n",
       "    </tr>\n",
       "    <tr>\n",
       "      <th>연제구</th>\n",
       "      <td>396945.69</td>\n",
       "      <td>32859.742550</td>\n",
       "    </tr>\n",
       "    <tr>\n",
       "      <th>영도구</th>\n",
       "      <td>244087.99</td>\n",
       "      <td>17274.450814</td>\n",
       "    </tr>\n",
       "    <tr>\n",
       "      <th>중구</th>\n",
       "      <td>121290.85</td>\n",
       "      <td>43318.160714</td>\n",
       "    </tr>\n",
       "    <tr>\n",
       "      <th>해운대구</th>\n",
       "      <td>867841.63</td>\n",
       "      <td>16870.949261</td>\n",
       "    </tr>\n",
       "  </tbody>\n",
       "</table>\n",
       "</div>"
      ],
      "text/plain": [
       "           월 평균  유동인구밀도(km2당)\n",
       "구군                           \n",
       "강서구   333599.44   1863.684022\n",
       "금정구   485002.15   7439.824360\n",
       "기장군   346359.88   1588.806789\n",
       "남구    529202.67  20424.649556\n",
       "동구    190247.22  19412.981633\n",
       "동래구   533517.36  31947.147305\n",
       "부산진구  761913.90  25662.307174\n",
       "북구    546111.22  14258.778590\n",
       "사상구   493774.85  13777.200056\n",
       "사하구   631272.63  15138.432374\n",
       "서구    235463.80  16964.250720\n",
       "수영구   344888.58  33812.605882\n",
       "연제구   396945.69  32859.742550\n",
       "영도구   244087.99  17274.450814\n",
       "중구    121290.85  43318.160714\n",
       "해운대구  867841.63  16870.949261"
      ]
     },
     "execution_count": 203,
     "metadata": {},
     "output_type": "execute_result"
    }
   ],
   "source": [
    "df_foottraffic.insert(1,'유동인구밀도(km2당)',density)\n",
    "df_foottraffic"
   ]
  },
  {
   "cell_type": "code",
   "execution_count": null,
   "metadata": {},
   "outputs": [
    {
     "data": {
      "text/plain": [
       "0.5848617448890694"
      ]
     },
     "execution_count": 28,
     "metadata": {},
     "output_type": "execute_result"
    }
   ],
   "source": [
    "foottraffic_pro,foottraffic_pro_negative = cal_norm(df_foottraffic['월 평균'].mean(),df_foottraffic['월 평균'].std(),\n",
    "df_foottraffic['월 평균'].min(),df_foottraffic['월 평균'].max(),foottraffic_standard,False)\n",
    "foottraffic_pro"
   ]
  },
  {
   "cell_type": "markdown",
   "metadata": {},
   "source": [
    "### 친환경차 등록대수"
   ]
  },
  {
   "cell_type": "code",
   "execution_count": 474,
   "metadata": {},
   "outputs": [
    {
     "data": {
      "text/html": [
       "<div>\n",
       "<style scoped>\n",
       "    .dataframe tbody tr th:only-of-type {\n",
       "        vertical-align: middle;\n",
       "    }\n",
       "\n",
       "    .dataframe tbody tr th {\n",
       "        vertical-align: top;\n",
       "    }\n",
       "\n",
       "    .dataframe thead th {\n",
       "        text-align: right;\n",
       "    }\n",
       "</style>\n",
       "<table border=\"1\" class=\"dataframe\">\n",
       "  <thead>\n",
       "    <tr style=\"text-align: right;\">\n",
       "      <th></th>\n",
       "      <th>시도</th>\n",
       "      <th>강서구</th>\n",
       "      <th>읍면동</th>\n",
       "      <th>수소</th>\n",
       "      <th>전기</th>\n",
       "    </tr>\n",
       "  </thead>\n",
       "  <tbody>\n",
       "    <tr>\n",
       "      <th>0</th>\n",
       "      <td>부산광역시</td>\n",
       "      <td>강서구</td>\n",
       "      <td>강동동</td>\n",
       "      <td>6</td>\n",
       "      <td>71</td>\n",
       "    </tr>\n",
       "    <tr>\n",
       "      <th>1</th>\n",
       "      <td>부산광역시</td>\n",
       "      <td>강서구</td>\n",
       "      <td>구랑동</td>\n",
       "      <td>2</td>\n",
       "      <td>35</td>\n",
       "    </tr>\n",
       "    <tr>\n",
       "      <th>2</th>\n",
       "      <td>부산광역시</td>\n",
       "      <td>강서구</td>\n",
       "      <td>녹산동</td>\n",
       "      <td>2</td>\n",
       "      <td>32</td>\n",
       "    </tr>\n",
       "    <tr>\n",
       "      <th>3</th>\n",
       "      <td>부산광역시</td>\n",
       "      <td>강서구</td>\n",
       "      <td>눌차동</td>\n",
       "      <td>0</td>\n",
       "      <td>15</td>\n",
       "    </tr>\n",
       "    <tr>\n",
       "      <th>4</th>\n",
       "      <td>부산광역시</td>\n",
       "      <td>강서구</td>\n",
       "      <td>대저1동</td>\n",
       "      <td>4</td>\n",
       "      <td>290</td>\n",
       "    </tr>\n",
       "    <tr>\n",
       "      <th>...</th>\n",
       "      <td>...</td>\n",
       "      <td>...</td>\n",
       "      <td>...</td>\n",
       "      <td>...</td>\n",
       "      <td>...</td>\n",
       "    </tr>\n",
       "    <tr>\n",
       "      <th>189</th>\n",
       "      <td>부산광역시</td>\n",
       "      <td>해운대구</td>\n",
       "      <td>송정동</td>\n",
       "      <td>2</td>\n",
       "      <td>176</td>\n",
       "    </tr>\n",
       "    <tr>\n",
       "      <th>190</th>\n",
       "      <td>부산광역시</td>\n",
       "      <td>해운대구</td>\n",
       "      <td>우동</td>\n",
       "      <td>35</td>\n",
       "      <td>5091</td>\n",
       "    </tr>\n",
       "    <tr>\n",
       "      <th>191</th>\n",
       "      <td>부산광역시</td>\n",
       "      <td>해운대구</td>\n",
       "      <td>재송동</td>\n",
       "      <td>25</td>\n",
       "      <td>1895</td>\n",
       "    </tr>\n",
       "    <tr>\n",
       "      <th>192</th>\n",
       "      <td>부산광역시</td>\n",
       "      <td>해운대구</td>\n",
       "      <td>좌동</td>\n",
       "      <td>32</td>\n",
       "      <td>1902</td>\n",
       "    </tr>\n",
       "    <tr>\n",
       "      <th>193</th>\n",
       "      <td>부산광역시</td>\n",
       "      <td>해운대구</td>\n",
       "      <td>중동</td>\n",
       "      <td>24</td>\n",
       "      <td>1175</td>\n",
       "    </tr>\n",
       "  </tbody>\n",
       "</table>\n",
       "<p>194 rows × 5 columns</p>\n",
       "</div>"
      ],
      "text/plain": [
       "        시도   강서구    읍면동  수소    전기\n",
       "0    부산광역시   강서구   강동동    6    71\n",
       "1    부산광역시   강서구   구랑동    2    35\n",
       "2    부산광역시   강서구   녹산동    2    32\n",
       "3    부산광역시   강서구   눌차동    0    15\n",
       "4    부산광역시   강서구  대저1동    4   290\n",
       "..     ...   ...    ...  ..   ...\n",
       "189  부산광역시  해운대구   송정동    2   176\n",
       "190  부산광역시  해운대구    우동   35  5091\n",
       "191  부산광역시  해운대구   재송동   25  1895\n",
       "192  부산광역시  해운대구    좌동   32  1902\n",
       "193  부산광역시  해운대구    중동   24  1175\n",
       "\n",
       "[194 rows x 5 columns]"
      ]
     },
     "execution_count": 474,
     "metadata": {},
     "output_type": "execute_result"
    }
   ],
   "source": [
    "vehicle_file_path = 'C:\\\\Users\\\\SAMSUNG\\\\Desktop\\\\Green-Car-Charging-Station-Site-Selection\\\\Data\\\\연료별_자동차등록대수.csv'\n",
    "df_vehicle = pd.read_csv(vehicle_file_path, encoding='cp949')\n",
    "df_vehicle"
   ]
  },
  {
   "cell_type": "markdown",
   "metadata": {},
   "source": [
    "### LPG 충전소 현황 데이터 불러오기 (수소차)"
   ]
  },
  {
   "cell_type": "code",
   "execution_count": 352,
   "metadata": {},
   "outputs": [
    {
     "data": {
      "text/html": [
       "<div>\n",
       "<style scoped>\n",
       "    .dataframe tbody tr th:only-of-type {\n",
       "        vertical-align: middle;\n",
       "    }\n",
       "\n",
       "    .dataframe tbody tr th {\n",
       "        vertical-align: top;\n",
       "    }\n",
       "\n",
       "    .dataframe thead th {\n",
       "        text-align: right;\n",
       "    }\n",
       "</style>\n",
       "<table border=\"1\" class=\"dataframe\">\n",
       "  <thead>\n",
       "    <tr style=\"text-align: right;\">\n",
       "      <th></th>\n",
       "      <th>행정시</th>\n",
       "      <th>행정구</th>\n",
       "      <th>업소명</th>\n",
       "      <th>소재지</th>\n",
       "      <th>관리구분</th>\n",
       "      <th>위도</th>\n",
       "      <th>경도</th>\n",
       "      <th>면적</th>\n",
       "      <th>공시지가</th>\n",
       "      <th>토지비용</th>\n",
       "      <th>교차로 수</th>\n",
       "    </tr>\n",
       "  </thead>\n",
       "  <tbody>\n",
       "    <tr>\n",
       "      <th>0</th>\n",
       "      <td>부산</td>\n",
       "      <td>강서구</td>\n",
       "      <td>개인택시신공항충전소</td>\n",
       "      <td>부산 강서구 경전철로188번길 95</td>\n",
       "      <td>자동차충전</td>\n",
       "      <td>35.198669</td>\n",
       "      <td>128.966594</td>\n",
       "      <td>2545.0</td>\n",
       "      <td>2144000.0</td>\n",
       "      <td>5.456480e+09</td>\n",
       "      <td>52</td>\n",
       "    </tr>\n",
       "    <tr>\n",
       "      <th>1</th>\n",
       "      <td>부산</td>\n",
       "      <td>강서구</td>\n",
       "      <td>부산공항LPG충전소</td>\n",
       "      <td>부산 강서구 공항로 459</td>\n",
       "      <td>자동차충전</td>\n",
       "      <td>35.149064</td>\n",
       "      <td>128.951891</td>\n",
       "      <td>3105.0</td>\n",
       "      <td>1174000.0</td>\n",
       "      <td>3.645270e+09</td>\n",
       "      <td>16</td>\n",
       "    </tr>\n",
       "    <tr>\n",
       "      <th>2</th>\n",
       "      <td>부산</td>\n",
       "      <td>강서구</td>\n",
       "      <td>신항만에너지</td>\n",
       "      <td>부산 강서구 낙동남로 507</td>\n",
       "      <td>자동차충전</td>\n",
       "      <td>35.112947</td>\n",
       "      <td>128.875260</td>\n",
       "      <td>3105.0</td>\n",
       "      <td>1174000.0</td>\n",
       "      <td>3.645270e+09</td>\n",
       "      <td>76</td>\n",
       "    </tr>\n",
       "    <tr>\n",
       "      <th>3</th>\n",
       "      <td>부산</td>\n",
       "      <td>강서구</td>\n",
       "      <td>(주)지원네트웍스 부산강서LPG충전소</td>\n",
       "      <td>부산 강서구 낙동북로 310</td>\n",
       "      <td>자동차충전</td>\n",
       "      <td>35.212507</td>\n",
       "      <td>128.962572</td>\n",
       "      <td>1396.0</td>\n",
       "      <td>1140000.0</td>\n",
       "      <td>1.591440e+09</td>\n",
       "      <td>32</td>\n",
       "    </tr>\n",
       "    <tr>\n",
       "      <th>4</th>\n",
       "      <td>부산</td>\n",
       "      <td>강서구</td>\n",
       "      <td>신명지에너지</td>\n",
       "      <td>부산 강서구 르노삼성대로 560</td>\n",
       "      <td>자동차충전</td>\n",
       "      <td>35.097554</td>\n",
       "      <td>128.927351</td>\n",
       "      <td>481.0</td>\n",
       "      <td>700300.0</td>\n",
       "      <td>3.368443e+08</td>\n",
       "      <td>159</td>\n",
       "    </tr>\n",
       "    <tr>\n",
       "      <th>...</th>\n",
       "      <td>...</td>\n",
       "      <td>...</td>\n",
       "      <td>...</td>\n",
       "      <td>...</td>\n",
       "      <td>...</td>\n",
       "      <td>...</td>\n",
       "      <td>...</td>\n",
       "      <td>...</td>\n",
       "      <td>...</td>\n",
       "      <td>...</td>\n",
       "      <td>...</td>\n",
       "    </tr>\n",
       "    <tr>\n",
       "      <th>58</th>\n",
       "      <td>부산</td>\n",
       "      <td>연제구</td>\n",
       "      <td>부산개인택시엘피지충전소</td>\n",
       "      <td>부산 연제구 월드컵대로 399</td>\n",
       "      <td>자동차충전</td>\n",
       "      <td>35.186013</td>\n",
       "      <td>129.055974</td>\n",
       "      <td>9212.0</td>\n",
       "      <td>688600.0</td>\n",
       "      <td>6.343383e+09</td>\n",
       "      <td>146</td>\n",
       "    </tr>\n",
       "    <tr>\n",
       "      <th>59</th>\n",
       "      <td>부산</td>\n",
       "      <td>영도구</td>\n",
       "      <td>(주)태종에너지</td>\n",
       "      <td>부산 영도구 영선대로 41</td>\n",
       "      <td>자동차충전</td>\n",
       "      <td>35.084996</td>\n",
       "      <td>129.040033</td>\n",
       "      <td>1610.2</td>\n",
       "      <td>2679000.0</td>\n",
       "      <td>4.313726e+09</td>\n",
       "      <td>255</td>\n",
       "    </tr>\n",
       "    <tr>\n",
       "      <th>60</th>\n",
       "      <td>부산</td>\n",
       "      <td>영도구</td>\n",
       "      <td>부산에너지</td>\n",
       "      <td>부산 영도구 해양로 160</td>\n",
       "      <td>용기+자동차+탱크+13kg용기</td>\n",
       "      <td>35.091275</td>\n",
       "      <td>129.069484</td>\n",
       "      <td>5801.0</td>\n",
       "      <td>989400.0</td>\n",
       "      <td>5.739509e+09</td>\n",
       "      <td>67</td>\n",
       "    </tr>\n",
       "    <tr>\n",
       "      <th>61</th>\n",
       "      <td>부산</td>\n",
       "      <td>영도구</td>\n",
       "      <td>개인택시 영도LPG충전소</td>\n",
       "      <td>부산 영도구 해양로 296</td>\n",
       "      <td>자동차충전</td>\n",
       "      <td>35.082176</td>\n",
       "      <td>129.076429</td>\n",
       "      <td>1818.0</td>\n",
       "      <td>349800.0</td>\n",
       "      <td>6.359364e+08</td>\n",
       "      <td>98</td>\n",
       "    </tr>\n",
       "    <tr>\n",
       "      <th>62</th>\n",
       "      <td>부산</td>\n",
       "      <td>해운대구</td>\n",
       "      <td>이원 해운대LPG충전소</td>\n",
       "      <td>부산 해운대구 해운대로 1255</td>\n",
       "      <td>용기+자동차+탱크+13kg용기</td>\n",
       "      <td>35.196728</td>\n",
       "      <td>129.205260</td>\n",
       "      <td>3700.0</td>\n",
       "      <td>1607000.0</td>\n",
       "      <td>5.945900e+09</td>\n",
       "      <td>64</td>\n",
       "    </tr>\n",
       "  </tbody>\n",
       "</table>\n",
       "<p>63 rows × 11 columns</p>\n",
       "</div>"
      ],
      "text/plain": [
       "   행정시   행정구                   업소명                  소재지              관리구분  \\\n",
       "0   부산   강서구            개인택시신공항충전소  부산 강서구 경전철로188번길 95             자동차충전   \n",
       "1   부산   강서구            부산공항LPG충전소       부산 강서구 공항로 459             자동차충전   \n",
       "2   부산   강서구                신항만에너지     부산 강서구 낙동남로 507              자동차충전   \n",
       "3   부산   강서구  (주)지원네트웍스 부산강서LPG충전소     부산 강서구 낙동북로 310              자동차충전   \n",
       "4   부산   강서구                신명지에너지    부산 강서구 르노삼성대로 560             자동차충전   \n",
       "..  ..   ...                   ...                  ...               ...   \n",
       "58  부산   연제구          부산개인택시엘피지충전소     부산 연제구 월드컵대로 399             자동차충전   \n",
       "59  부산   영도구              (주)태종에너지       부산 영도구 영선대로 41             자동차충전   \n",
       "60  부산   영도구                 부산에너지       부산 영도구 해양로 160  용기+자동차+탱크+13kg용기   \n",
       "61  부산   영도구         개인택시 영도LPG충전소       부산 영도구 해양로 296             자동차충전   \n",
       "62  부산  해운대구          이원 해운대LPG충전소    부산 해운대구 해운대로 1255  용기+자동차+탱크+13kg용기   \n",
       "\n",
       "           위도          경도      면적       공시지가          토지비용  교차로 수  \n",
       "0   35.198669  128.966594  2545.0  2144000.0  5.456480e+09     52  \n",
       "1   35.149064  128.951891  3105.0  1174000.0  3.645270e+09     16  \n",
       "2   35.112947  128.875260  3105.0  1174000.0  3.645270e+09     76  \n",
       "3   35.212507  128.962572  1396.0  1140000.0  1.591440e+09     32  \n",
       "4   35.097554  128.927351   481.0   700300.0  3.368443e+08    159  \n",
       "..        ...         ...     ...        ...           ...    ...  \n",
       "58  35.186013  129.055974  9212.0   688600.0  6.343383e+09    146  \n",
       "59  35.084996  129.040033  1610.2  2679000.0  4.313726e+09    255  \n",
       "60  35.091275  129.069484  5801.0   989400.0  5.739509e+09     67  \n",
       "61  35.082176  129.076429  1818.0   349800.0  6.359364e+08     98  \n",
       "62  35.196728  129.205260  3700.0  1607000.0  5.945900e+09     64  \n",
       "\n",
       "[63 rows x 11 columns]"
      ]
     },
     "execution_count": 352,
     "metadata": {},
     "output_type": "execute_result"
    }
   ],
   "source": [
    "LPG_file_path = 'C:\\\\Users\\\\SAMSUNG\\\\Desktop\\\\Green-Car-Charging-Station-Site-Selection\\\\Data\\\\부산 LPG 충전소 현황(한국가스안전공사).csv'\n",
    "df_LPG = pd.read_csv(LPG_file_path, encoding='cp949')\n",
    "df_LPG"
   ]
  },
  {
   "cell_type": "code",
   "execution_count": 353,
   "metadata": {},
   "outputs": [
    {
     "data": {
      "text/html": [
       "<div>\n",
       "<style scoped>\n",
       "    .dataframe tbody tr th:only-of-type {\n",
       "        vertical-align: middle;\n",
       "    }\n",
       "\n",
       "    .dataframe tbody tr th {\n",
       "        vertical-align: top;\n",
       "    }\n",
       "\n",
       "    .dataframe thead th {\n",
       "        text-align: right;\n",
       "    }\n",
       "</style>\n",
       "<table border=\"1\" class=\"dataframe\">\n",
       "  <thead>\n",
       "    <tr style=\"text-align: right;\">\n",
       "      <th></th>\n",
       "      <th>행정시</th>\n",
       "      <th>행정구</th>\n",
       "      <th>업소명</th>\n",
       "      <th>소재지</th>\n",
       "      <th>관리구분</th>\n",
       "      <th>위도</th>\n",
       "      <th>경도</th>\n",
       "      <th>면적</th>\n",
       "      <th>공시지가</th>\n",
       "      <th>토지비용</th>\n",
       "      <th>교차로 수</th>\n",
       "    </tr>\n",
       "  </thead>\n",
       "  <tbody>\n",
       "    <tr>\n",
       "      <th>0</th>\n",
       "      <td>부산</td>\n",
       "      <td>강서구</td>\n",
       "      <td>개인택시신공항충전소</td>\n",
       "      <td>부산 강서구 경전철로188번길 95</td>\n",
       "      <td>자동차충전</td>\n",
       "      <td>35.198669</td>\n",
       "      <td>128.966594</td>\n",
       "      <td>2545.0</td>\n",
       "      <td>2144000.0</td>\n",
       "      <td>5.456480e+09</td>\n",
       "      <td>52</td>\n",
       "    </tr>\n",
       "    <tr>\n",
       "      <th>1</th>\n",
       "      <td>부산</td>\n",
       "      <td>강서구</td>\n",
       "      <td>부산공항LPG충전소</td>\n",
       "      <td>부산 강서구 공항로 459</td>\n",
       "      <td>자동차충전</td>\n",
       "      <td>35.149064</td>\n",
       "      <td>128.951891</td>\n",
       "      <td>3105.0</td>\n",
       "      <td>1174000.0</td>\n",
       "      <td>3.645270e+09</td>\n",
       "      <td>16</td>\n",
       "    </tr>\n",
       "    <tr>\n",
       "      <th>2</th>\n",
       "      <td>부산</td>\n",
       "      <td>강서구</td>\n",
       "      <td>신항만에너지</td>\n",
       "      <td>부산 강서구 낙동남로 507</td>\n",
       "      <td>자동차충전</td>\n",
       "      <td>35.112947</td>\n",
       "      <td>128.875260</td>\n",
       "      <td>3105.0</td>\n",
       "      <td>1174000.0</td>\n",
       "      <td>3.645270e+09</td>\n",
       "      <td>76</td>\n",
       "    </tr>\n",
       "    <tr>\n",
       "      <th>3</th>\n",
       "      <td>부산</td>\n",
       "      <td>강서구</td>\n",
       "      <td>르노삼성자동차(주)</td>\n",
       "      <td>부산 강서구 르노삼성대로 61</td>\n",
       "      <td>자동차충전</td>\n",
       "      <td>35.095408</td>\n",
       "      <td>128.883215</td>\n",
       "      <td>1538.0</td>\n",
       "      <td>640100.0</td>\n",
       "      <td>9.844738e+08</td>\n",
       "      <td>82</td>\n",
       "    </tr>\n",
       "    <tr>\n",
       "      <th>4</th>\n",
       "      <td>부산</td>\n",
       "      <td>강서구</td>\n",
       "      <td>죽림LPG충전소</td>\n",
       "      <td>부산 강서구 호계로 102</td>\n",
       "      <td>자동차충전</td>\n",
       "      <td>35.200736</td>\n",
       "      <td>128.893462</td>\n",
       "      <td>1580.0</td>\n",
       "      <td>1017000.0</td>\n",
       "      <td>1.606860e+09</td>\n",
       "      <td>16</td>\n",
       "    </tr>\n",
       "    <tr>\n",
       "      <th>5</th>\n",
       "      <td>부산</td>\n",
       "      <td>강서구</td>\n",
       "      <td>가락충전소</td>\n",
       "      <td>부산 강서구 호계로 195</td>\n",
       "      <td>자동차충전</td>\n",
       "      <td>35.208847</td>\n",
       "      <td>128.890148</td>\n",
       "      <td>2600.0</td>\n",
       "      <td>1017000.0</td>\n",
       "      <td>2.644200e+09</td>\n",
       "      <td>20</td>\n",
       "    </tr>\n",
       "    <tr>\n",
       "      <th>6</th>\n",
       "      <td>부산</td>\n",
       "      <td>금정구</td>\n",
       "      <td>(주)해연</td>\n",
       "      <td>부산 금정구 개좌로 225-15</td>\n",
       "      <td>용기+탱크+13kg용기</td>\n",
       "      <td>35.230796</td>\n",
       "      <td>129.122388</td>\n",
       "      <td>3346.0</td>\n",
       "      <td>1370000.0</td>\n",
       "      <td>4.584020e+09</td>\n",
       "      <td>119</td>\n",
       "    </tr>\n",
       "    <tr>\n",
       "      <th>7</th>\n",
       "      <td>부산</td>\n",
       "      <td>금정구</td>\n",
       "      <td>(주)신진가스</td>\n",
       "      <td>부산 금정구 반송로 433</td>\n",
       "      <td>자동차충전</td>\n",
       "      <td>35.215006</td>\n",
       "      <td>129.111143</td>\n",
       "      <td>1646.4</td>\n",
       "      <td>2797000.0</td>\n",
       "      <td>4.604981e+09</td>\n",
       "      <td>407</td>\n",
       "    </tr>\n",
       "    <tr>\n",
       "      <th>8</th>\n",
       "      <td>부산</td>\n",
       "      <td>기장군</td>\n",
       "      <td>마라톤가스(주)청강충전소</td>\n",
       "      <td>부산 기장군 기장읍 기장대로 343 A동</td>\n",
       "      <td>자동차충전</td>\n",
       "      <td>35.225657</td>\n",
       "      <td>129.213988</td>\n",
       "      <td>2592.0</td>\n",
       "      <td>1069000.0</td>\n",
       "      <td>2.770848e+09</td>\n",
       "      <td>45</td>\n",
       "    </tr>\n",
       "    <tr>\n",
       "      <th>9</th>\n",
       "      <td>부산</td>\n",
       "      <td>기장군</td>\n",
       "      <td>한국에너지산업(주)</td>\n",
       "      <td>부산 기장군 기장읍 기장대로413번길 38</td>\n",
       "      <td>용기+자동차+탱크+13kg용기</td>\n",
       "      <td>35.235543</td>\n",
       "      <td>129.215629</td>\n",
       "      <td>2473.0</td>\n",
       "      <td>1063000.0</td>\n",
       "      <td>2.628799e+09</td>\n",
       "      <td>241</td>\n",
       "    </tr>\n",
       "    <tr>\n",
       "      <th>10</th>\n",
       "      <td>부산</td>\n",
       "      <td>기장군</td>\n",
       "      <td>선암가스충전소</td>\n",
       "      <td>부산 기장군 장안읍 기장대로 1451</td>\n",
       "      <td>자동차+13kg용기</td>\n",
       "      <td>35.321585</td>\n",
       "      <td>129.241320</td>\n",
       "      <td>2717.0</td>\n",
       "      <td>1060000.0</td>\n",
       "      <td>2.880020e+09</td>\n",
       "      <td>75</td>\n",
       "    </tr>\n",
       "    <tr>\n",
       "      <th>11</th>\n",
       "      <td>부산</td>\n",
       "      <td>기장군</td>\n",
       "      <td>KH에너지(주)직영장안충전소(부산방향)</td>\n",
       "      <td>부산 기장군 장안읍 동해고속도로 25</td>\n",
       "      <td>자동차충전</td>\n",
       "      <td>35.377525</td>\n",
       "      <td>129.246402</td>\n",
       "      <td>15637.0</td>\n",
       "      <td>263500.0</td>\n",
       "      <td>4.120350e+09</td>\n",
       "      <td>20</td>\n",
       "    </tr>\n",
       "    <tr>\n",
       "      <th>12</th>\n",
       "      <td>부산</td>\n",
       "      <td>기장군</td>\n",
       "      <td>KH에너지(주)직영장안충전소(울산방향)</td>\n",
       "      <td>부산 기장군 장안읍 동해고속도로 26</td>\n",
       "      <td>자동차충전</td>\n",
       "      <td>35.382870</td>\n",
       "      <td>129.248394</td>\n",
       "      <td>37294.0</td>\n",
       "      <td>263500.0</td>\n",
       "      <td>9.826969e+09</td>\n",
       "      <td>9</td>\n",
       "    </tr>\n",
       "    <tr>\n",
       "      <th>13</th>\n",
       "      <td>부산</td>\n",
       "      <td>기장군</td>\n",
       "      <td>정림에너지</td>\n",
       "      <td>부산 기장군 정관읍 신정관로 187</td>\n",
       "      <td>자동차충전</td>\n",
       "      <td>35.328714</td>\n",
       "      <td>129.201710</td>\n",
       "      <td>2575.0</td>\n",
       "      <td>743500.0</td>\n",
       "      <td>1.914512e+09</td>\n",
       "      <td>62</td>\n",
       "    </tr>\n",
       "    <tr>\n",
       "      <th>14</th>\n",
       "      <td>부산</td>\n",
       "      <td>기장군</td>\n",
       "      <td>광신개발(주)직영 정관가스충전소</td>\n",
       "      <td>부산 기장군 정관읍 정관로 907</td>\n",
       "      <td>자동차+13kg용기</td>\n",
       "      <td>35.324749</td>\n",
       "      <td>129.210964</td>\n",
       "      <td>1899.0</td>\n",
       "      <td>877400.0</td>\n",
       "      <td>1.666183e+09</td>\n",
       "      <td>81</td>\n",
       "    </tr>\n",
       "    <tr>\n",
       "      <th>15</th>\n",
       "      <td>부산</td>\n",
       "      <td>기장군</td>\n",
       "      <td>개인택시동부산충전소</td>\n",
       "      <td>부산 기장군 철마면 반송로 1022</td>\n",
       "      <td>자동차충전</td>\n",
       "      <td>35.235930</td>\n",
       "      <td>129.163728</td>\n",
       "      <td>2543.0</td>\n",
       "      <td>923000.0</td>\n",
       "      <td>2.347189e+09</td>\n",
       "      <td>71</td>\n",
       "    </tr>\n",
       "    <tr>\n",
       "      <th>16</th>\n",
       "      <td>부산</td>\n",
       "      <td>동구</td>\n",
       "      <td>개인택시남부LPG충전소</td>\n",
       "      <td>부산 동구 성남로 42</td>\n",
       "      <td>자동차충전</td>\n",
       "      <td>35.130627</td>\n",
       "      <td>129.054917</td>\n",
       "      <td>1518.5</td>\n",
       "      <td>1701000.0</td>\n",
       "      <td>2.582968e+09</td>\n",
       "      <td>257</td>\n",
       "    </tr>\n",
       "    <tr>\n",
       "      <th>17</th>\n",
       "      <td>부산</td>\n",
       "      <td>동구</td>\n",
       "      <td>(주)대양씨앤씨(구:녹색에너지 범일영업소)</td>\n",
       "      <td>부산 동구 성남로 74-3</td>\n",
       "      <td>용기+13kg용기</td>\n",
       "      <td>35.130891</td>\n",
       "      <td>129.057587</td>\n",
       "      <td>3169.8</td>\n",
       "      <td>1545000.0</td>\n",
       "      <td>4.897341e+09</td>\n",
       "      <td>258</td>\n",
       "    </tr>\n",
       "    <tr>\n",
       "      <th>18</th>\n",
       "      <td>부산</td>\n",
       "      <td>북구</td>\n",
       "      <td>개인택시 금곡역충전소</td>\n",
       "      <td>부산 북구 금곡대로 704</td>\n",
       "      <td>자동차충전</td>\n",
       "      <td>35.269475</td>\n",
       "      <td>129.018781</td>\n",
       "      <td>2055.0</td>\n",
       "      <td>842500.0</td>\n",
       "      <td>1.731338e+09</td>\n",
       "      <td>47</td>\n",
       "    </tr>\n",
       "    <tr>\n",
       "      <th>19</th>\n",
       "      <td>부산</td>\n",
       "      <td>북구</td>\n",
       "      <td>(주)삼보</td>\n",
       "      <td>부산 북구 만덕대로 327-0</td>\n",
       "      <td>자동차충전</td>\n",
       "      <td>35.213643</td>\n",
       "      <td>129.040635</td>\n",
       "      <td>3837.0</td>\n",
       "      <td>1608000.0</td>\n",
       "      <td>6.169896e+09</td>\n",
       "      <td>169</td>\n",
       "    </tr>\n",
       "    <tr>\n",
       "      <th>20</th>\n",
       "      <td>부산</td>\n",
       "      <td>사상구</td>\n",
       "      <td>팔성가스충전소</td>\n",
       "      <td>부산 사상구 가야대로 75</td>\n",
       "      <td>자동차+13kg용기</td>\n",
       "      <td>35.151317</td>\n",
       "      <td>128.980986</td>\n",
       "      <td>2946.6</td>\n",
       "      <td>3247000.0</td>\n",
       "      <td>9.567610e+09</td>\n",
       "      <td>241</td>\n",
       "    </tr>\n",
       "    <tr>\n",
       "      <th>21</th>\n",
       "      <td>부산</td>\n",
       "      <td>사상구</td>\n",
       "      <td>(주)성은에너지제2충전소</td>\n",
       "      <td>부산 사상구 강변대로 412</td>\n",
       "      <td>자동차충전</td>\n",
       "      <td>35.122092</td>\n",
       "      <td>128.962063</td>\n",
       "      <td>3732.4</td>\n",
       "      <td>2373000.0</td>\n",
       "      <td>8.856985e+09</td>\n",
       "      <td>50</td>\n",
       "    </tr>\n",
       "    <tr>\n",
       "      <th>22</th>\n",
       "      <td>부산</td>\n",
       "      <td>사상구</td>\n",
       "      <td>극동유화(주)감전충전소</td>\n",
       "      <td>부산 사상구 낙동대로 878</td>\n",
       "      <td>용기+자동차+탱크+13kg용기</td>\n",
       "      <td>35.138888</td>\n",
       "      <td>128.971339</td>\n",
       "      <td>2886.1</td>\n",
       "      <td>3201000.0</td>\n",
       "      <td>9.238406e+09</td>\n",
       "      <td>112</td>\n",
       "    </tr>\n",
       "    <tr>\n",
       "      <th>23</th>\n",
       "      <td>부산</td>\n",
       "      <td>사하구</td>\n",
       "      <td>광진기업(주)장림영업소</td>\n",
       "      <td>부산 사하구 다대로 309</td>\n",
       "      <td>용기+자동차+13kg용기</td>\n",
       "      <td>35.075007</td>\n",
       "      <td>128.977163</td>\n",
       "      <td>1604.0</td>\n",
       "      <td>2665000.0</td>\n",
       "      <td>4.274660e+09</td>\n",
       "      <td>54</td>\n",
       "    </tr>\n",
       "    <tr>\n",
       "      <th>24</th>\n",
       "      <td>부산</td>\n",
       "      <td>사하구</td>\n",
       "      <td>광신가스(주)을숙도대로충전소</td>\n",
       "      <td>부산 사하구 을숙도대로 530</td>\n",
       "      <td>자동차충전</td>\n",
       "      <td>35.085225</td>\n",
       "      <td>128.963646</td>\n",
       "      <td>1632.0</td>\n",
       "      <td>1095000.0</td>\n",
       "      <td>1.787040e+09</td>\n",
       "      <td>111</td>\n",
       "    </tr>\n",
       "    <tr>\n",
       "      <th>25</th>\n",
       "      <td>부산</td>\n",
       "      <td>사하구</td>\n",
       "      <td>개인택시사하엘피지충전소</td>\n",
       "      <td>부산 사하구 을숙도대로 583</td>\n",
       "      <td>자동차충전</td>\n",
       "      <td>35.085534</td>\n",
       "      <td>128.969349</td>\n",
       "      <td>1657.0</td>\n",
       "      <td>1498000.0</td>\n",
       "      <td>2.482186e+09</td>\n",
       "      <td>129</td>\n",
       "    </tr>\n",
       "    <tr>\n",
       "      <th>26</th>\n",
       "      <td>부산</td>\n",
       "      <td>연제구</td>\n",
       "      <td>부산개인택시엘피지충전소</td>\n",
       "      <td>부산 연제구 월드컵대로 399</td>\n",
       "      <td>자동차충전</td>\n",
       "      <td>35.186013</td>\n",
       "      <td>129.055974</td>\n",
       "      <td>9212.0</td>\n",
       "      <td>688600.0</td>\n",
       "      <td>6.343383e+09</td>\n",
       "      <td>146</td>\n",
       "    </tr>\n",
       "    <tr>\n",
       "      <th>27</th>\n",
       "      <td>부산</td>\n",
       "      <td>영도구</td>\n",
       "      <td>(주)태종에너지</td>\n",
       "      <td>부산 영도구 영선대로 41</td>\n",
       "      <td>자동차충전</td>\n",
       "      <td>35.084996</td>\n",
       "      <td>129.040033</td>\n",
       "      <td>1610.2</td>\n",
       "      <td>2679000.0</td>\n",
       "      <td>4.313726e+09</td>\n",
       "      <td>255</td>\n",
       "    </tr>\n",
       "    <tr>\n",
       "      <th>28</th>\n",
       "      <td>부산</td>\n",
       "      <td>영도구</td>\n",
       "      <td>부산에너지</td>\n",
       "      <td>부산 영도구 해양로 160</td>\n",
       "      <td>용기+자동차+탱크+13kg용기</td>\n",
       "      <td>35.091275</td>\n",
       "      <td>129.069484</td>\n",
       "      <td>5801.0</td>\n",
       "      <td>989400.0</td>\n",
       "      <td>5.739509e+09</td>\n",
       "      <td>67</td>\n",
       "    </tr>\n",
       "    <tr>\n",
       "      <th>29</th>\n",
       "      <td>부산</td>\n",
       "      <td>영도구</td>\n",
       "      <td>개인택시 영도LPG충전소</td>\n",
       "      <td>부산 영도구 해양로 296</td>\n",
       "      <td>자동차충전</td>\n",
       "      <td>35.082176</td>\n",
       "      <td>129.076429</td>\n",
       "      <td>1818.0</td>\n",
       "      <td>349800.0</td>\n",
       "      <td>6.359364e+08</td>\n",
       "      <td>98</td>\n",
       "    </tr>\n",
       "    <tr>\n",
       "      <th>30</th>\n",
       "      <td>부산</td>\n",
       "      <td>해운대구</td>\n",
       "      <td>이원 해운대LPG충전소</td>\n",
       "      <td>부산 해운대구 해운대로 1255</td>\n",
       "      <td>용기+자동차+탱크+13kg용기</td>\n",
       "      <td>35.196728</td>\n",
       "      <td>129.205260</td>\n",
       "      <td>3700.0</td>\n",
       "      <td>1607000.0</td>\n",
       "      <td>5.945900e+09</td>\n",
       "      <td>64</td>\n",
       "    </tr>\n",
       "  </tbody>\n",
       "</table>\n",
       "</div>"
      ],
      "text/plain": [
       "   행정시   행정구                      업소명                      소재지  \\\n",
       "0   부산   강서구               개인택시신공항충전소      부산 강서구 경전철로188번길 95   \n",
       "1   부산   강서구               부산공항LPG충전소           부산 강서구 공항로 459   \n",
       "2   부산   강서구                   신항만에너지         부산 강서구 낙동남로 507    \n",
       "3   부산   강서구               르노삼성자동차(주)         부산 강서구 르노삼성대로 61   \n",
       "4   부산   강서구                 죽림LPG충전소          부산 강서구 호계로 102    \n",
       "5   부산   강서구                    가락충전소          부산 강서구 호계로 195    \n",
       "6   부산   금정구                    (주)해연       부산 금정구 개좌로 225-15    \n",
       "7   부산   금정구                  (주)신진가스          부산 금정구 반송로 433    \n",
       "8   부산   기장군            마라톤가스(주)청강충전소   부산 기장군 기장읍 기장대로 343 A동   \n",
       "9   부산   기장군               한국에너지산업(주)  부산 기장군 기장읍 기장대로413번길 38   \n",
       "10  부산   기장군                  선암가스충전소    부산 기장군 장안읍 기장대로 1451    \n",
       "11  부산   기장군    KH에너지(주)직영장안충전소(부산방향)     부산 기장군 장안읍 동해고속도로 25   \n",
       "12  부산   기장군    KH에너지(주)직영장안충전소(울산방향)     부산 기장군 장안읍 동해고속도로 26   \n",
       "13  부산   기장군                    정림에너지     부산 기장군 정관읍 신정관로 187    \n",
       "14  부산   기장군        광신개발(주)직영 정관가스충전소       부산 기장군 정관읍 정관로 907   \n",
       "15  부산   기장군               개인택시동부산충전소      부산 기장군 철마면 반송로 1022   \n",
       "16  부산    동구             개인택시남부LPG충전소             부산 동구 성남로 42   \n",
       "17  부산    동구  (주)대양씨앤씨(구:녹색에너지 범일영업소)           부산 동구 성남로 74-3   \n",
       "18  부산    북구              개인택시 금곡역충전소           부산 북구 금곡대로 704   \n",
       "19  부산    북구                    (주)삼보         부산 북구 만덕대로 327-0   \n",
       "20  부산   사상구                  팔성가스충전소           부산 사상구 가야대로 75   \n",
       "21  부산   사상구            (주)성은에너지제2충전소          부산 사상구 강변대로 412   \n",
       "22  부산   사상구             극동유화(주)감전충전소          부산 사상구 낙동대로 878   \n",
       "23  부산   사하구             광진기업(주)장림영업소           부산 사하구 다대로 309   \n",
       "24  부산   사하구          광신가스(주)을숙도대로충전소         부산 사하구 을숙도대로 530   \n",
       "25  부산   사하구             개인택시사하엘피지충전소         부산 사하구 을숙도대로 583   \n",
       "26  부산   연제구             부산개인택시엘피지충전소         부산 연제구 월드컵대로 399   \n",
       "27  부산   영도구                 (주)태종에너지           부산 영도구 영선대로 41   \n",
       "28  부산   영도구                    부산에너지           부산 영도구 해양로 160   \n",
       "29  부산   영도구            개인택시 영도LPG충전소           부산 영도구 해양로 296   \n",
       "30  부산  해운대구             이원 해운대LPG충전소        부산 해운대구 해운대로 1255   \n",
       "\n",
       "                관리구분         위도          경도       면적       공시지가          토지비용  \\\n",
       "0              자동차충전  35.198669  128.966594   2545.0  2144000.0  5.456480e+09   \n",
       "1              자동차충전  35.149064  128.951891   3105.0  1174000.0  3.645270e+09   \n",
       "2              자동차충전  35.112947  128.875260   3105.0  1174000.0  3.645270e+09   \n",
       "3              자동차충전  35.095408  128.883215   1538.0   640100.0  9.844738e+08   \n",
       "4              자동차충전  35.200736  128.893462   1580.0  1017000.0  1.606860e+09   \n",
       "5              자동차충전  35.208847  128.890148   2600.0  1017000.0  2.644200e+09   \n",
       "6       용기+탱크+13kg용기  35.230796  129.122388   3346.0  1370000.0  4.584020e+09   \n",
       "7              자동차충전  35.215006  129.111143   1646.4  2797000.0  4.604981e+09   \n",
       "8              자동차충전  35.225657  129.213988   2592.0  1069000.0  2.770848e+09   \n",
       "9   용기+자동차+탱크+13kg용기  35.235543  129.215629   2473.0  1063000.0  2.628799e+09   \n",
       "10        자동차+13kg용기  35.321585  129.241320   2717.0  1060000.0  2.880020e+09   \n",
       "11             자동차충전  35.377525  129.246402  15637.0   263500.0  4.120350e+09   \n",
       "12             자동차충전  35.382870  129.248394  37294.0   263500.0  9.826969e+09   \n",
       "13             자동차충전  35.328714  129.201710   2575.0   743500.0  1.914512e+09   \n",
       "14        자동차+13kg용기  35.324749  129.210964   1899.0   877400.0  1.666183e+09   \n",
       "15             자동차충전  35.235930  129.163728   2543.0   923000.0  2.347189e+09   \n",
       "16             자동차충전  35.130627  129.054917   1518.5  1701000.0  2.582968e+09   \n",
       "17         용기+13kg용기  35.130891  129.057587   3169.8  1545000.0  4.897341e+09   \n",
       "18             자동차충전  35.269475  129.018781   2055.0   842500.0  1.731338e+09   \n",
       "19             자동차충전  35.213643  129.040635   3837.0  1608000.0  6.169896e+09   \n",
       "20        자동차+13kg용기  35.151317  128.980986   2946.6  3247000.0  9.567610e+09   \n",
       "21             자동차충전  35.122092  128.962063   3732.4  2373000.0  8.856985e+09   \n",
       "22  용기+자동차+탱크+13kg용기  35.138888  128.971339   2886.1  3201000.0  9.238406e+09   \n",
       "23     용기+자동차+13kg용기  35.075007  128.977163   1604.0  2665000.0  4.274660e+09   \n",
       "24             자동차충전  35.085225  128.963646   1632.0  1095000.0  1.787040e+09   \n",
       "25             자동차충전  35.085534  128.969349   1657.0  1498000.0  2.482186e+09   \n",
       "26             자동차충전  35.186013  129.055974   9212.0   688600.0  6.343383e+09   \n",
       "27             자동차충전  35.084996  129.040033   1610.2  2679000.0  4.313726e+09   \n",
       "28  용기+자동차+탱크+13kg용기  35.091275  129.069484   5801.0   989400.0  5.739509e+09   \n",
       "29             자동차충전  35.082176  129.076429   1818.0   349800.0  6.359364e+08   \n",
       "30  용기+자동차+탱크+13kg용기  35.196728  129.205260   3700.0  1607000.0  5.945900e+09   \n",
       "\n",
       "    교차로 수  \n",
       "0      52  \n",
       "1      16  \n",
       "2      76  \n",
       "3      82  \n",
       "4      16  \n",
       "5      20  \n",
       "6     119  \n",
       "7     407  \n",
       "8      45  \n",
       "9     241  \n",
       "10     75  \n",
       "11     20  \n",
       "12      9  \n",
       "13     62  \n",
       "14     81  \n",
       "15     71  \n",
       "16    257  \n",
       "17    258  \n",
       "18     47  \n",
       "19    169  \n",
       "20    241  \n",
       "21     50  \n",
       "22    112  \n",
       "23     54  \n",
       "24    111  \n",
       "25    129  \n",
       "26    146  \n",
       "27    255  \n",
       "28     67  \n",
       "29     98  \n",
       "30     64  "
      ]
     },
     "execution_count": 353,
     "metadata": {},
     "output_type": "execute_result"
    }
   ],
   "source": [
    "# 복합충전소를 위해 1500 m^2이상의 부지가 요구됨\n",
    "df_LPG = df_LPG[df_LPG['면적'] >= 1500].reset_index(drop=True)\n",
    "df_LPG"
   ]
  },
  {
   "cell_type": "code",
   "execution_count": 355,
   "metadata": {},
   "outputs": [
    {
     "data": {
      "text/html": [
       "<div>\n",
       "<style scoped>\n",
       "    .dataframe tbody tr th:only-of-type {\n",
       "        vertical-align: middle;\n",
       "    }\n",
       "\n",
       "    .dataframe tbody tr th {\n",
       "        vertical-align: top;\n",
       "    }\n",
       "\n",
       "    .dataframe thead th {\n",
       "        text-align: right;\n",
       "    }\n",
       "</style>\n",
       "<table border=\"1\" class=\"dataframe\">\n",
       "  <thead>\n",
       "    <tr style=\"text-align: right;\">\n",
       "      <th></th>\n",
       "      <th>행정시</th>\n",
       "      <th>업소명</th>\n",
       "      <th>소재지</th>\n",
       "      <th>관리구분</th>\n",
       "      <th>위도</th>\n",
       "      <th>경도</th>\n",
       "      <th>면적</th>\n",
       "      <th>공시지가</th>\n",
       "      <th>토지비용</th>\n",
       "      <th>교차로 수</th>\n",
       "    </tr>\n",
       "    <tr>\n",
       "      <th>행정구</th>\n",
       "      <th></th>\n",
       "      <th></th>\n",
       "      <th></th>\n",
       "      <th></th>\n",
       "      <th></th>\n",
       "      <th></th>\n",
       "      <th></th>\n",
       "      <th></th>\n",
       "      <th></th>\n",
       "      <th></th>\n",
       "    </tr>\n",
       "  </thead>\n",
       "  <tbody>\n",
       "    <tr>\n",
       "      <th>강서구</th>\n",
       "      <td>6</td>\n",
       "      <td>6</td>\n",
       "      <td>6</td>\n",
       "      <td>6</td>\n",
       "      <td>6</td>\n",
       "      <td>6</td>\n",
       "      <td>6</td>\n",
       "      <td>6</td>\n",
       "      <td>6</td>\n",
       "      <td>6</td>\n",
       "    </tr>\n",
       "    <tr>\n",
       "      <th>금정구</th>\n",
       "      <td>2</td>\n",
       "      <td>2</td>\n",
       "      <td>2</td>\n",
       "      <td>2</td>\n",
       "      <td>2</td>\n",
       "      <td>2</td>\n",
       "      <td>2</td>\n",
       "      <td>2</td>\n",
       "      <td>2</td>\n",
       "      <td>2</td>\n",
       "    </tr>\n",
       "    <tr>\n",
       "      <th>기장군</th>\n",
       "      <td>8</td>\n",
       "      <td>8</td>\n",
       "      <td>8</td>\n",
       "      <td>8</td>\n",
       "      <td>8</td>\n",
       "      <td>8</td>\n",
       "      <td>8</td>\n",
       "      <td>8</td>\n",
       "      <td>8</td>\n",
       "      <td>8</td>\n",
       "    </tr>\n",
       "    <tr>\n",
       "      <th>동구</th>\n",
       "      <td>2</td>\n",
       "      <td>2</td>\n",
       "      <td>2</td>\n",
       "      <td>2</td>\n",
       "      <td>2</td>\n",
       "      <td>2</td>\n",
       "      <td>2</td>\n",
       "      <td>2</td>\n",
       "      <td>2</td>\n",
       "      <td>2</td>\n",
       "    </tr>\n",
       "    <tr>\n",
       "      <th>북구</th>\n",
       "      <td>2</td>\n",
       "      <td>2</td>\n",
       "      <td>2</td>\n",
       "      <td>2</td>\n",
       "      <td>2</td>\n",
       "      <td>2</td>\n",
       "      <td>2</td>\n",
       "      <td>2</td>\n",
       "      <td>2</td>\n",
       "      <td>2</td>\n",
       "    </tr>\n",
       "    <tr>\n",
       "      <th>사상구</th>\n",
       "      <td>3</td>\n",
       "      <td>3</td>\n",
       "      <td>3</td>\n",
       "      <td>3</td>\n",
       "      <td>3</td>\n",
       "      <td>3</td>\n",
       "      <td>3</td>\n",
       "      <td>3</td>\n",
       "      <td>3</td>\n",
       "      <td>3</td>\n",
       "    </tr>\n",
       "    <tr>\n",
       "      <th>사하구</th>\n",
       "      <td>3</td>\n",
       "      <td>3</td>\n",
       "      <td>3</td>\n",
       "      <td>3</td>\n",
       "      <td>3</td>\n",
       "      <td>3</td>\n",
       "      <td>3</td>\n",
       "      <td>3</td>\n",
       "      <td>3</td>\n",
       "      <td>3</td>\n",
       "    </tr>\n",
       "    <tr>\n",
       "      <th>연제구</th>\n",
       "      <td>1</td>\n",
       "      <td>1</td>\n",
       "      <td>1</td>\n",
       "      <td>1</td>\n",
       "      <td>1</td>\n",
       "      <td>1</td>\n",
       "      <td>1</td>\n",
       "      <td>1</td>\n",
       "      <td>1</td>\n",
       "      <td>1</td>\n",
       "    </tr>\n",
       "    <tr>\n",
       "      <th>영도구</th>\n",
       "      <td>3</td>\n",
       "      <td>3</td>\n",
       "      <td>3</td>\n",
       "      <td>3</td>\n",
       "      <td>3</td>\n",
       "      <td>3</td>\n",
       "      <td>3</td>\n",
       "      <td>3</td>\n",
       "      <td>3</td>\n",
       "      <td>3</td>\n",
       "    </tr>\n",
       "    <tr>\n",
       "      <th>해운대구</th>\n",
       "      <td>1</td>\n",
       "      <td>1</td>\n",
       "      <td>1</td>\n",
       "      <td>1</td>\n",
       "      <td>1</td>\n",
       "      <td>1</td>\n",
       "      <td>1</td>\n",
       "      <td>1</td>\n",
       "      <td>1</td>\n",
       "      <td>1</td>\n",
       "    </tr>\n",
       "  </tbody>\n",
       "</table>\n",
       "</div>"
      ],
      "text/plain": [
       "      행정시  업소명  소재지  관리구분  위도  경도  면적  공시지가  토지비용  교차로 수\n",
       "행정구                                                     \n",
       "강서구     6    6    6     6   6   6   6     6     6      6\n",
       "금정구     2    2    2     2   2   2   2     2     2      2\n",
       "기장군     8    8    8     8   8   8   8     8     8      8\n",
       "동구      2    2    2     2   2   2   2     2     2      2\n",
       "북구      2    2    2     2   2   2   2     2     2      2\n",
       "사상구     3    3    3     3   3   3   3     3     3      3\n",
       "사하구     3    3    3     3   3   3   3     3     3      3\n",
       "연제구     1    1    1     1   1   1   1     1     1      1\n",
       "영도구     3    3    3     3   3   3   3     3     3      3\n",
       "해운대구    1    1    1     1   1   1   1     1     1      1"
      ]
     },
     "execution_count": 355,
     "metadata": {},
     "output_type": "execute_result"
    }
   ],
   "source": [
    "LPG_group = df_LPG.groupby('행정구').count()\n",
    "LPG_group"
   ]
  },
  {
   "cell_type": "markdown",
   "metadata": {},
   "source": [
    "### 전기차 충전기수"
   ]
  },
  {
   "cell_type": "code",
   "execution_count": 434,
   "metadata": {},
   "outputs": [
    {
     "data": {
      "text/html": [
       "<div>\n",
       "<style scoped>\n",
       "    .dataframe tbody tr th:only-of-type {\n",
       "        vertical-align: middle;\n",
       "    }\n",
       "\n",
       "    .dataframe tbody tr th {\n",
       "        vertical-align: top;\n",
       "    }\n",
       "\n",
       "    .dataframe thead th {\n",
       "        text-align: right;\n",
       "    }\n",
       "</style>\n",
       "<table border=\"1\" class=\"dataframe\">\n",
       "  <thead>\n",
       "    <tr style=\"text-align: right;\">\n",
       "      <th></th>\n",
       "      <th>운영기관</th>\n",
       "      <th>충전소</th>\n",
       "      <th>충전기ID</th>\n",
       "      <th>충전기타입</th>\n",
       "      <th>지역</th>\n",
       "      <th>시군구</th>\n",
       "      <th>주소</th>\n",
       "      <th>이용가능시간</th>\n",
       "      <th>이용자 제한</th>\n",
       "      <th>충전용량</th>\n",
       "      <th>비고</th>\n",
       "    </tr>\n",
       "  </thead>\n",
       "  <tbody>\n",
       "    <tr>\n",
       "      <th>0</th>\n",
       "      <td>환경부(한국자동차환경협회)</td>\n",
       "      <td>kbs 부산방송총국</td>\n",
       "      <td>1</td>\n",
       "      <td>DC차데모+AC3상+DC콤보</td>\n",
       "      <td>부산광역시</td>\n",
       "      <td>수영구</td>\n",
       "      <td>부산광역시 수영구 수영로 429</td>\n",
       "      <td>24시간 이용가능</td>\n",
       "      <td>NaN</td>\n",
       "      <td>급속(200kW동시)</td>\n",
       "      <td>NaN</td>\n",
       "    </tr>\n",
       "    <tr>\n",
       "      <th>1</th>\n",
       "      <td>환경부(한국자동차환경협회)</td>\n",
       "      <td>kbs 부산방송총국</td>\n",
       "      <td>11</td>\n",
       "      <td>DC콤보</td>\n",
       "      <td>부산광역시</td>\n",
       "      <td>수영구</td>\n",
       "      <td>부산광역시 수영구 수영로 429</td>\n",
       "      <td>24시간 이용가능</td>\n",
       "      <td>NaN</td>\n",
       "      <td>급속(200kW동시)</td>\n",
       "      <td>NaN</td>\n",
       "    </tr>\n",
       "    <tr>\n",
       "      <th>2</th>\n",
       "      <td>환경부(한국자동차환경협회)</td>\n",
       "      <td>kbs 부산방송총국</td>\n",
       "      <td>12</td>\n",
       "      <td>DC콤보</td>\n",
       "      <td>부산광역시</td>\n",
       "      <td>수영구</td>\n",
       "      <td>부산광역시 수영구 수영로 429</td>\n",
       "      <td>24시간 이용가능</td>\n",
       "      <td>NaN</td>\n",
       "      <td>급속(200kW동시)</td>\n",
       "      <td>NaN</td>\n",
       "    </tr>\n",
       "    <tr>\n",
       "      <th>3</th>\n",
       "      <td>환경부(한국자동차환경협회)</td>\n",
       "      <td>국립부산과학관</td>\n",
       "      <td>11</td>\n",
       "      <td>DC콤보</td>\n",
       "      <td>부산광역시</td>\n",
       "      <td>기장군</td>\n",
       "      <td>부산광역시 기장군 기장읍 석산리 293</td>\n",
       "      <td>24시간 이용가능</td>\n",
       "      <td>NaN</td>\n",
       "      <td>급속(100kW동시)</td>\n",
       "      <td>NaN</td>\n",
       "    </tr>\n",
       "    <tr>\n",
       "      <th>4</th>\n",
       "      <td>환경부(한국자동차환경협회)</td>\n",
       "      <td>국립부산과학관</td>\n",
       "      <td>12</td>\n",
       "      <td>DC콤보</td>\n",
       "      <td>부산광역시</td>\n",
       "      <td>기장군</td>\n",
       "      <td>부산광역시 기장군 기장읍 석산리 293</td>\n",
       "      <td>24시간 이용가능</td>\n",
       "      <td>NaN</td>\n",
       "      <td>급속(100kW동시)</td>\n",
       "      <td>NaN</td>\n",
       "    </tr>\n",
       "    <tr>\n",
       "      <th>...</th>\n",
       "      <td>...</td>\n",
       "      <td>...</td>\n",
       "      <td>...</td>\n",
       "      <td>...</td>\n",
       "      <td>...</td>\n",
       "      <td>...</td>\n",
       "      <td>...</td>\n",
       "      <td>...</td>\n",
       "      <td>...</td>\n",
       "      <td>...</td>\n",
       "      <td>...</td>\n",
       "    </tr>\n",
       "    <tr>\n",
       "      <th>6602</th>\n",
       "      <td>한국전자금융</td>\n",
       "      <td>부산 플러스타워</td>\n",
       "      <td>1</td>\n",
       "      <td>AC완속</td>\n",
       "      <td>부산광역시</td>\n",
       "      <td>강서구</td>\n",
       "      <td>부산광역시 강서구 명지국제1로 56-1플러스타워(3598-2 플러스타워)</td>\n",
       "      <td>24시간 이용가능</td>\n",
       "      <td>NaN</td>\n",
       "      <td>7kW</td>\n",
       "      <td>NaN</td>\n",
       "    </tr>\n",
       "    <tr>\n",
       "      <th>6603</th>\n",
       "      <td>한국전자금융</td>\n",
       "      <td>부산 플러스타워</td>\n",
       "      <td>2</td>\n",
       "      <td>AC완속</td>\n",
       "      <td>부산광역시</td>\n",
       "      <td>강서구</td>\n",
       "      <td>부산광역시 강서구 명지국제1로 56-1플러스타워(3598-2 플러스타워)</td>\n",
       "      <td>24시간 이용가능</td>\n",
       "      <td>NaN</td>\n",
       "      <td>7kW</td>\n",
       "      <td>NaN</td>\n",
       "    </tr>\n",
       "    <tr>\n",
       "      <th>6604</th>\n",
       "      <td>한국전자금융</td>\n",
       "      <td>부산 휴마트괴정점</td>\n",
       "      <td>1</td>\n",
       "      <td>AC완속</td>\n",
       "      <td>부산광역시</td>\n",
       "      <td>사하구</td>\n",
       "      <td>부산광역시 사하구 낙동대로 123휴마트괴정점(괴정동 358-1)</td>\n",
       "      <td>24시간 이용가능</td>\n",
       "      <td>NaN</td>\n",
       "      <td>7kW</td>\n",
       "      <td>NaN</td>\n",
       "    </tr>\n",
       "    <tr>\n",
       "      <th>6605</th>\n",
       "      <td>한국전자금융</td>\n",
       "      <td>부산 휴마트괴정점</td>\n",
       "      <td>2</td>\n",
       "      <td>AC완속</td>\n",
       "      <td>부산광역시</td>\n",
       "      <td>사하구</td>\n",
       "      <td>부산광역시 사하구 낙동대로 123휴마트괴정점(괴정동 358-1)</td>\n",
       "      <td>24시간 이용가능</td>\n",
       "      <td>NaN</td>\n",
       "      <td>7kW</td>\n",
       "      <td>NaN</td>\n",
       "    </tr>\n",
       "    <tr>\n",
       "      <th>6606</th>\n",
       "      <td>한국전자금융</td>\n",
       "      <td>부산 휴마트괴정점</td>\n",
       "      <td>3</td>\n",
       "      <td>AC완속</td>\n",
       "      <td>부산광역시</td>\n",
       "      <td>사하구</td>\n",
       "      <td>부산광역시 사하구 낙동대로 123휴마트괴정점(괴정동 358-1)</td>\n",
       "      <td>24시간 이용가능</td>\n",
       "      <td>NaN</td>\n",
       "      <td>7kW</td>\n",
       "      <td>NaN</td>\n",
       "    </tr>\n",
       "  </tbody>\n",
       "</table>\n",
       "<p>6607 rows × 11 columns</p>\n",
       "</div>"
      ],
      "text/plain": [
       "                운영기관         충전소  충전기ID            충전기타입      지역   시군구  \\\n",
       "0     환경부(한국자동차환경협회)  kbs 부산방송총국      1  DC차데모+AC3상+DC콤보  부산광역시   수영구    \n",
       "1     환경부(한국자동차환경협회)  kbs 부산방송총국     11             DC콤보  부산광역시   수영구    \n",
       "2     환경부(한국자동차환경협회)  kbs 부산방송총국     12             DC콤보  부산광역시   수영구    \n",
       "3     환경부(한국자동차환경협회)     국립부산과학관     11             DC콤보  부산광역시   기장군    \n",
       "4     환경부(한국자동차환경협회)     국립부산과학관     12             DC콤보  부산광역시   기장군    \n",
       "...              ...         ...    ...              ...     ...   ...   \n",
       "6602          한국전자금융    부산 플러스타워      1             AC완속  부산광역시   강서구    \n",
       "6603          한국전자금융    부산 플러스타워      2             AC완속  부산광역시   강서구    \n",
       "6604          한국전자금융   부산 휴마트괴정점      1             AC완속  부산광역시   사하구    \n",
       "6605          한국전자금융   부산 휴마트괴정점      2             AC완속  부산광역시   사하구    \n",
       "6606          한국전자금융   부산 휴마트괴정점      3             AC완속  부산광역시   사하구    \n",
       "\n",
       "                                            주소     이용가능시간 이용자 제한         충전용량  \\\n",
       "0                            부산광역시 수영구 수영로 429  24시간 이용가능    NaN  급속(200kW동시)   \n",
       "1                            부산광역시 수영구 수영로 429  24시간 이용가능    NaN  급속(200kW동시)   \n",
       "2                            부산광역시 수영구 수영로 429  24시간 이용가능    NaN  급속(200kW동시)   \n",
       "3                        부산광역시 기장군 기장읍 석산리 293  24시간 이용가능    NaN  급속(100kW동시)   \n",
       "4                        부산광역시 기장군 기장읍 석산리 293  24시간 이용가능    NaN  급속(100kW동시)   \n",
       "...                                        ...        ...    ...          ...   \n",
       "6602  부산광역시 강서구 명지국제1로 56-1플러스타워(3598-2 플러스타워)  24시간 이용가능    NaN          7kW   \n",
       "6603  부산광역시 강서구 명지국제1로 56-1플러스타워(3598-2 플러스타워)  24시간 이용가능    NaN          7kW   \n",
       "6604       부산광역시 사하구 낙동대로 123휴마트괴정점(괴정동 358-1)  24시간 이용가능    NaN          7kW   \n",
       "6605       부산광역시 사하구 낙동대로 123휴마트괴정점(괴정동 358-1)  24시간 이용가능    NaN          7kW   \n",
       "6606       부산광역시 사하구 낙동대로 123휴마트괴정점(괴정동 358-1)  24시간 이용가능    NaN          7kW   \n",
       "\n",
       "      비고  \n",
       "0    NaN  \n",
       "1    NaN  \n",
       "2    NaN  \n",
       "3    NaN  \n",
       "4    NaN  \n",
       "...   ..  \n",
       "6602 NaN  \n",
       "6603 NaN  \n",
       "6604 NaN  \n",
       "6605 NaN  \n",
       "6606 NaN  \n",
       "\n",
       "[6607 rows x 11 columns]"
      ]
     },
     "execution_count": 434,
     "metadata": {},
     "output_type": "execute_result"
    }
   ],
   "source": [
    "EVCS_file_path = 'C:\\\\Users\\\\SAMSUNG\\\\Desktop\\\\Green-Car-Charging-Station-Site-Selection\\\\Data\\\\전기차충전소 리스트.csv'\n",
    "df_EVCS = pd.read_csv(EVCS_file_path, encoding='cp949')\n",
    "df_EVCS"
   ]
  },
  {
   "cell_type": "code",
   "execution_count": null,
   "metadata": {},
   "outputs": [],
   "source": [
    "# si = []\n",
    "# gu = []\n",
    "# for i in range(df_EVCS.shape[0]):\n",
    "#     strings = df_EVCS.iloc[i]['addr'].split()\n",
    "#     si.append(strings[0])\n",
    "#     gu.append(strings[1])\n",
    "# df_EVCS.drop(columns='addr',inplace=True)\n",
    "# df_EVCS.insert(4,'addr_gu',gu)\n",
    "# df_EVCS.insert(4,'addr_si',si)\n",
    "# df_EVCS.to_csv(EVCS_file_path,encoding='cp949',index=False)"
   ]
  },
  {
   "cell_type": "markdown",
   "metadata": {},
   "source": [
    "#### 급속 완속 여부\n",
    "    완속충전타입:AC완속 \n",
    "    급속충전타입:DC차데모, AC3상, DC콤보\n",
    "    chger_type\n",
    "    1:DC차데모\n",
    "    2:AC완속\n",
    "    3:DC차데모+AC3상\n",
    "    4:DC콤보\n",
    "    5:DC차데모+DC콤보\n",
    "    6:DC차데모+AC3상+DC콤보"
   ]
  },
  {
   "cell_type": "code",
   "execution_count": 441,
   "metadata": {},
   "outputs": [
    {
     "data": {
      "text/html": [
       "<div>\n",
       "<style scoped>\n",
       "    .dataframe tbody tr th:only-of-type {\n",
       "        vertical-align: middle;\n",
       "    }\n",
       "\n",
       "    .dataframe tbody tr th {\n",
       "        vertical-align: top;\n",
       "    }\n",
       "\n",
       "    .dataframe thead th {\n",
       "        text-align: right;\n",
       "    }\n",
       "</style>\n",
       "<table border=\"1\" class=\"dataframe\">\n",
       "  <thead>\n",
       "    <tr style=\"text-align: right;\">\n",
       "      <th></th>\n",
       "      <th>운영기관</th>\n",
       "      <th>충전소</th>\n",
       "      <th>충전기ID</th>\n",
       "      <th>충전기타입</th>\n",
       "      <th>지역</th>\n",
       "      <th>시군구</th>\n",
       "      <th>주소</th>\n",
       "      <th>이용가능시간</th>\n",
       "      <th>이용자 제한</th>\n",
       "      <th>충전용량</th>\n",
       "      <th>비고</th>\n",
       "    </tr>\n",
       "  </thead>\n",
       "  <tbody>\n",
       "    <tr>\n",
       "      <th>0</th>\n",
       "      <td>환경부(한국자동차환경협회)</td>\n",
       "      <td>kbs 부산방송총국</td>\n",
       "      <td>1</td>\n",
       "      <td>DC차데모+AC3상+DC콤보</td>\n",
       "      <td>부산광역시</td>\n",
       "      <td>수영구</td>\n",
       "      <td>부산광역시 수영구 수영로 429</td>\n",
       "      <td>24시간 이용가능</td>\n",
       "      <td>NaN</td>\n",
       "      <td>급속(200kW동시)</td>\n",
       "      <td>NaN</td>\n",
       "    </tr>\n",
       "    <tr>\n",
       "      <th>1</th>\n",
       "      <td>환경부(한국자동차환경협회)</td>\n",
       "      <td>kbs 부산방송총국</td>\n",
       "      <td>11</td>\n",
       "      <td>DC콤보</td>\n",
       "      <td>부산광역시</td>\n",
       "      <td>수영구</td>\n",
       "      <td>부산광역시 수영구 수영로 429</td>\n",
       "      <td>24시간 이용가능</td>\n",
       "      <td>NaN</td>\n",
       "      <td>급속(200kW동시)</td>\n",
       "      <td>NaN</td>\n",
       "    </tr>\n",
       "    <tr>\n",
       "      <th>2</th>\n",
       "      <td>환경부(한국자동차환경협회)</td>\n",
       "      <td>kbs 부산방송총국</td>\n",
       "      <td>12</td>\n",
       "      <td>DC콤보</td>\n",
       "      <td>부산광역시</td>\n",
       "      <td>수영구</td>\n",
       "      <td>부산광역시 수영구 수영로 429</td>\n",
       "      <td>24시간 이용가능</td>\n",
       "      <td>NaN</td>\n",
       "      <td>급속(200kW동시)</td>\n",
       "      <td>NaN</td>\n",
       "    </tr>\n",
       "    <tr>\n",
       "      <th>3</th>\n",
       "      <td>환경부(한국자동차환경협회)</td>\n",
       "      <td>국립부산과학관</td>\n",
       "      <td>11</td>\n",
       "      <td>DC콤보</td>\n",
       "      <td>부산광역시</td>\n",
       "      <td>기장군</td>\n",
       "      <td>부산광역시 기장군 기장읍 석산리 293</td>\n",
       "      <td>24시간 이용가능</td>\n",
       "      <td>NaN</td>\n",
       "      <td>급속(100kW동시)</td>\n",
       "      <td>NaN</td>\n",
       "    </tr>\n",
       "    <tr>\n",
       "      <th>4</th>\n",
       "      <td>환경부(한국자동차환경협회)</td>\n",
       "      <td>국립부산과학관</td>\n",
       "      <td>12</td>\n",
       "      <td>DC콤보</td>\n",
       "      <td>부산광역시</td>\n",
       "      <td>기장군</td>\n",
       "      <td>부산광역시 기장군 기장읍 석산리 293</td>\n",
       "      <td>24시간 이용가능</td>\n",
       "      <td>NaN</td>\n",
       "      <td>급속(100kW동시)</td>\n",
       "      <td>NaN</td>\n",
       "    </tr>\n",
       "    <tr>\n",
       "      <th>...</th>\n",
       "      <td>...</td>\n",
       "      <td>...</td>\n",
       "      <td>...</td>\n",
       "      <td>...</td>\n",
       "      <td>...</td>\n",
       "      <td>...</td>\n",
       "      <td>...</td>\n",
       "      <td>...</td>\n",
       "      <td>...</td>\n",
       "      <td>...</td>\n",
       "      <td>...</td>\n",
       "    </tr>\n",
       "    <tr>\n",
       "      <th>492</th>\n",
       "      <td>모던텍</td>\n",
       "      <td>유엔공원 EV충전소(맘차지)</td>\n",
       "      <td>1</td>\n",
       "      <td>DC차데모+DC콤보</td>\n",
       "      <td>부산광역시</td>\n",
       "      <td>남구</td>\n",
       "      <td>부산광역시 남구 석포로 134SK 유엔주유소 옆(대연동 949-4)</td>\n",
       "      <td>08:00 ~ 22:00</td>\n",
       "      <td>NaN</td>\n",
       "      <td>50kW</td>\n",
       "      <td>NaN</td>\n",
       "    </tr>\n",
       "    <tr>\n",
       "      <th>493</th>\n",
       "      <td>모던텍</td>\n",
       "      <td>유엔공원 EV충전소(맘차지)</td>\n",
       "      <td>2</td>\n",
       "      <td>DC차데모+DC콤보</td>\n",
       "      <td>부산광역시</td>\n",
       "      <td>남구</td>\n",
       "      <td>부산광역시 남구 석포로 134SK 유엔주유소 옆(대연동 949-4)</td>\n",
       "      <td>08:00 ~ 22:00</td>\n",
       "      <td>NaN</td>\n",
       "      <td>50kW</td>\n",
       "      <td>NaN</td>\n",
       "    </tr>\n",
       "    <tr>\n",
       "      <th>494</th>\n",
       "      <td>모던텍</td>\n",
       "      <td>유엔공원 EV충전소(맘차지)</td>\n",
       "      <td>3</td>\n",
       "      <td>DC차데모+DC콤보</td>\n",
       "      <td>부산광역시</td>\n",
       "      <td>남구</td>\n",
       "      <td>부산광역시 남구 석포로 134SK 유엔주유소 옆(대연동 949-4)</td>\n",
       "      <td>08:00 ~ 22:00</td>\n",
       "      <td>NaN</td>\n",
       "      <td>50kW</td>\n",
       "      <td>NaN</td>\n",
       "    </tr>\n",
       "    <tr>\n",
       "      <th>495</th>\n",
       "      <td>모던텍</td>\n",
       "      <td>유엔공원 EV충전소(맘차지)</td>\n",
       "      <td>4</td>\n",
       "      <td>DC차데모+DC콤보</td>\n",
       "      <td>부산광역시</td>\n",
       "      <td>남구</td>\n",
       "      <td>부산광역시 남구 석포로 134SK 유엔주유소 옆(대연동 949-4)</td>\n",
       "      <td>08:00 ~ 22:00</td>\n",
       "      <td>NaN</td>\n",
       "      <td>50kW</td>\n",
       "      <td>NaN</td>\n",
       "    </tr>\n",
       "    <tr>\n",
       "      <th>496</th>\n",
       "      <td>한국전자금융</td>\n",
       "      <td>롯데월드 어드벤처 부산</td>\n",
       "      <td>8</td>\n",
       "      <td>DC차데모+DC콤보</td>\n",
       "      <td>부산광역시</td>\n",
       "      <td>기장군</td>\n",
       "      <td>부산광역시 기장군 기장읍 동부산관광로 42롯데월드 어드벤처 부산(시랑리 산46)</td>\n",
       "      <td>24시간 이용가능</td>\n",
       "      <td>시설 상황에 따라 이용이 제한될 수 있음</td>\n",
       "      <td>50kW</td>\n",
       "      <td>NaN</td>\n",
       "    </tr>\n",
       "  </tbody>\n",
       "</table>\n",
       "<p>497 rows × 11 columns</p>\n",
       "</div>"
      ],
      "text/plain": [
       "               운영기관              충전소  충전기ID            충전기타입      지역   시군구  \\\n",
       "0    환경부(한국자동차환경협회)       kbs 부산방송총국      1  DC차데모+AC3상+DC콤보  부산광역시   수영구    \n",
       "1    환경부(한국자동차환경협회)       kbs 부산방송총국     11             DC콤보  부산광역시   수영구    \n",
       "2    환경부(한국자동차환경협회)       kbs 부산방송총국     12             DC콤보  부산광역시   수영구    \n",
       "3    환경부(한국자동차환경협회)          국립부산과학관     11             DC콤보  부산광역시   기장군    \n",
       "4    환경부(한국자동차환경협회)          국립부산과학관     12             DC콤보  부산광역시   기장군    \n",
       "..              ...              ...    ...              ...     ...   ...   \n",
       "492             모던텍  유엔공원 EV충전소(맘차지)      1       DC차데모+DC콤보  부산광역시    남구    \n",
       "493             모던텍  유엔공원 EV충전소(맘차지)      2       DC차데모+DC콤보  부산광역시    남구    \n",
       "494             모던텍  유엔공원 EV충전소(맘차지)      3       DC차데모+DC콤보  부산광역시    남구    \n",
       "495             모던텍  유엔공원 EV충전소(맘차지)      4       DC차데모+DC콤보  부산광역시    남구    \n",
       "496          한국전자금융     롯데월드 어드벤처 부산      8       DC차데모+DC콤보  부산광역시   기장군    \n",
       "\n",
       "                                               주소         이용가능시간  \\\n",
       "0                               부산광역시 수영구 수영로 429      24시간 이용가능   \n",
       "1                               부산광역시 수영구 수영로 429      24시간 이용가능   \n",
       "2                               부산광역시 수영구 수영로 429      24시간 이용가능   \n",
       "3                           부산광역시 기장군 기장읍 석산리 293      24시간 이용가능   \n",
       "4                           부산광역시 기장군 기장읍 석산리 293      24시간 이용가능   \n",
       "..                                            ...            ...   \n",
       "492         부산광역시 남구 석포로 134SK 유엔주유소 옆(대연동 949-4)  08:00 ~ 22:00   \n",
       "493         부산광역시 남구 석포로 134SK 유엔주유소 옆(대연동 949-4)  08:00 ~ 22:00   \n",
       "494         부산광역시 남구 석포로 134SK 유엔주유소 옆(대연동 949-4)  08:00 ~ 22:00   \n",
       "495         부산광역시 남구 석포로 134SK 유엔주유소 옆(대연동 949-4)  08:00 ~ 22:00   \n",
       "496  부산광역시 기장군 기장읍 동부산관광로 42롯데월드 어드벤처 부산(시랑리 산46)      24시간 이용가능   \n",
       "\n",
       "                     이용자 제한         충전용량  비고  \n",
       "0                       NaN  급속(200kW동시) NaN  \n",
       "1                       NaN  급속(200kW동시) NaN  \n",
       "2                       NaN  급속(200kW동시) NaN  \n",
       "3                       NaN  급속(100kW동시) NaN  \n",
       "4                       NaN  급속(100kW동시) NaN  \n",
       "..                      ...          ...  ..  \n",
       "492                     NaN         50kW NaN  \n",
       "493                     NaN         50kW NaN  \n",
       "494                     NaN         50kW NaN  \n",
       "495                     NaN         50kW NaN  \n",
       "496  시설 상황에 따라 이용이 제한될 수 있음         50kW NaN  \n",
       "\n",
       "[497 rows x 11 columns]"
      ]
     },
     "execution_count": 441,
     "metadata": {},
     "output_type": "execute_result"
    }
   ],
   "source": [
    "df_EVCS_standard = df_EVCS[df_EVCS['충전기타입']=='AC완속'].reset_index(drop=True)\n",
    "df_EVCS_fast = df_EVCS[df_EVCS['충전기타입']!='AC완속'].reset_index(drop=True)\n",
    "df_EVCS_fast"
   ]
  },
  {
   "cell_type": "code",
   "execution_count": 479,
   "metadata": {},
   "outputs": [],
   "source": [
    "# 구별 전기차 완속충전기 수\n",
    "EVCS_standard_group = df_EVCS_standard.groupby('시군구')\n",
    "\n",
    "# 구별 전기차 급속충전기 수\n",
    "EVCS_fast_group = df_EVCS_fast.groupby('시군구')"
   ]
  },
  {
   "cell_type": "markdown",
   "metadata": {},
   "source": [
    "### 전기차 급속충전기 1기당 전기차 수\n",
    "\n",
    "   충전기 1기당 전기차 수 = 행정구 전기차 수 / 행정구 충전기 수  "
   ]
  },
  {
   "cell_type": "code",
   "execution_count": 457,
   "metadata": {},
   "outputs": [
    {
     "data": {
      "text/html": [
       "<div>\n",
       "<style scoped>\n",
       "    .dataframe tbody tr th:only-of-type {\n",
       "        vertical-align: middle;\n",
       "    }\n",
       "\n",
       "    .dataframe tbody tr th {\n",
       "        vertical-align: top;\n",
       "    }\n",
       "\n",
       "    .dataframe thead th {\n",
       "        text-align: right;\n",
       "    }\n",
       "</style>\n",
       "<table border=\"1\" class=\"dataframe\">\n",
       "  <thead>\n",
       "    <tr style=\"text-align: right;\">\n",
       "      <th></th>\n",
       "      <th>수소</th>\n",
       "      <th>전기</th>\n",
       "    </tr>\n",
       "    <tr>\n",
       "      <th>시군구</th>\n",
       "      <th></th>\n",
       "      <th></th>\n",
       "    </tr>\n",
       "  </thead>\n",
       "  <tbody>\n",
       "    <tr>\n",
       "      <th>강서구</th>\n",
       "      <td>177</td>\n",
       "      <td>4787</td>\n",
       "    </tr>\n",
       "    <tr>\n",
       "      <th>금정구</th>\n",
       "      <td>87</td>\n",
       "      <td>3635</td>\n",
       "    </tr>\n",
       "    <tr>\n",
       "      <th>기장군</th>\n",
       "      <td>104</td>\n",
       "      <td>4053</td>\n",
       "    </tr>\n",
       "    <tr>\n",
       "      <th>남구</th>\n",
       "      <td>98</td>\n",
       "      <td>4488</td>\n",
       "    </tr>\n",
       "    <tr>\n",
       "      <th>동구</th>\n",
       "      <td>30</td>\n",
       "      <td>8153</td>\n",
       "    </tr>\n",
       "    <tr>\n",
       "      <th>동래구</th>\n",
       "      <td>102</td>\n",
       "      <td>4832</td>\n",
       "    </tr>\n",
       "    <tr>\n",
       "      <th>부산진구</th>\n",
       "      <td>182</td>\n",
       "      <td>9869</td>\n",
       "    </tr>\n",
       "    <tr>\n",
       "      <th>북구</th>\n",
       "      <td>112</td>\n",
       "      <td>4124</td>\n",
       "    </tr>\n",
       "    <tr>\n",
       "      <th>사상구</th>\n",
       "      <td>111</td>\n",
       "      <td>2793</td>\n",
       "    </tr>\n",
       "    <tr>\n",
       "      <th>사하구</th>\n",
       "      <td>118</td>\n",
       "      <td>3762</td>\n",
       "    </tr>\n",
       "    <tr>\n",
       "      <th>서구</th>\n",
       "      <td>52</td>\n",
       "      <td>1189</td>\n",
       "    </tr>\n",
       "    <tr>\n",
       "      <th>수영구</th>\n",
       "      <td>68</td>\n",
       "      <td>7422</td>\n",
       "    </tr>\n",
       "    <tr>\n",
       "      <th>연제구</th>\n",
       "      <td>86</td>\n",
       "      <td>8763</td>\n",
       "    </tr>\n",
       "    <tr>\n",
       "      <th>영도구</th>\n",
       "      <td>47</td>\n",
       "      <td>1212</td>\n",
       "    </tr>\n",
       "    <tr>\n",
       "      <th>중구</th>\n",
       "      <td>18</td>\n",
       "      <td>4325</td>\n",
       "    </tr>\n",
       "    <tr>\n",
       "      <th>해운대구</th>\n",
       "      <td>147</td>\n",
       "      <td>11636</td>\n",
       "    </tr>\n",
       "  </tbody>\n",
       "</table>\n",
       "</div>"
      ],
      "text/plain": [
       "       수소     전기\n",
       "시군구             \n",
       "강서구   177   4787\n",
       "금정구    87   3635\n",
       "기장군   104   4053\n",
       "남구     98   4488\n",
       "동구     30   8153\n",
       "동래구   102   4832\n",
       "부산진구  182   9869\n",
       "북구    112   4124\n",
       "사상구   111   2793\n",
       "사하구   118   3762\n",
       "서구     52   1189\n",
       "수영구    68   7422\n",
       "연제구    86   8763\n",
       "영도구    47   1212\n",
       "중구     18   4325\n",
       "해운대구  147  11636"
      ]
     },
     "execution_count": 457,
     "metadata": {},
     "output_type": "execute_result"
    }
   ],
   "source": [
    "vehicle_gu = df_vehicle.groupby('시군구').sum()\n",
    "vehicle_gu"
   ]
  },
  {
   "cell_type": "code",
   "execution_count": 475,
   "metadata": {},
   "outputs": [],
   "source": [
    "EV_per_charger = []\n",
    "for i in range(vehicle_gu.shape[0]):            # 행정동 급속 충전기 수                         # 행정동 완속 충전기 수\n",
    "    result = vehicle_gu.iloc[i]['전기']  / (EVCS_fast_group.count().iloc[i]['충전기ID'] + EVCS_standard_group.count().iloc[i]['충전기ID'])\n",
    "    EV_per_charger.append(result)"
   ]
  },
  {
   "cell_type": "code",
   "execution_count": 476,
   "metadata": {},
   "outputs": [
    {
     "data": {
      "text/html": [
       "<div>\n",
       "<style scoped>\n",
       "    .dataframe tbody tr th:only-of-type {\n",
       "        vertical-align: middle;\n",
       "    }\n",
       "\n",
       "    .dataframe tbody tr th {\n",
       "        vertical-align: top;\n",
       "    }\n",
       "\n",
       "    .dataframe thead th {\n",
       "        text-align: right;\n",
       "    }\n",
       "</style>\n",
       "<table border=\"1\" class=\"dataframe\">\n",
       "  <thead>\n",
       "    <tr style=\"text-align: right;\">\n",
       "      <th></th>\n",
       "      <th>충전기당 전기차수</th>\n",
       "    </tr>\n",
       "  </thead>\n",
       "  <tbody>\n",
       "    <tr>\n",
       "      <th>강서구</th>\n",
       "      <td>10.206823</td>\n",
       "    </tr>\n",
       "    <tr>\n",
       "      <th>금정구</th>\n",
       "      <td>11.466877</td>\n",
       "    </tr>\n",
       "    <tr>\n",
       "      <th>기장군</th>\n",
       "      <td>7.885214</td>\n",
       "    </tr>\n",
       "    <tr>\n",
       "      <th>남구</th>\n",
       "      <td>6.114441</td>\n",
       "    </tr>\n",
       "    <tr>\n",
       "      <th>동구</th>\n",
       "      <td>67.380165</td>\n",
       "    </tr>\n",
       "    <tr>\n",
       "      <th>동래구</th>\n",
       "      <td>9.168880</td>\n",
       "    </tr>\n",
       "    <tr>\n",
       "      <th>부산진구</th>\n",
       "      <td>16.339404</td>\n",
       "    </tr>\n",
       "    <tr>\n",
       "      <th>북구</th>\n",
       "      <td>10.938992</td>\n",
       "    </tr>\n",
       "    <tr>\n",
       "      <th>사상구</th>\n",
       "      <td>8.755486</td>\n",
       "    </tr>\n",
       "    <tr>\n",
       "      <th>사하구</th>\n",
       "      <td>9.796875</td>\n",
       "    </tr>\n",
       "    <tr>\n",
       "      <th>서구</th>\n",
       "      <td>8.742647</td>\n",
       "    </tr>\n",
       "    <tr>\n",
       "      <th>수영구</th>\n",
       "      <td>27.694030</td>\n",
       "    </tr>\n",
       "    <tr>\n",
       "      <th>연제구</th>\n",
       "      <td>24.754237</td>\n",
       "    </tr>\n",
       "    <tr>\n",
       "      <th>영도구</th>\n",
       "      <td>7.973684</td>\n",
       "    </tr>\n",
       "    <tr>\n",
       "      <th>중구</th>\n",
       "      <td>154.464286</td>\n",
       "    </tr>\n",
       "    <tr>\n",
       "      <th>해운대구</th>\n",
       "      <td>8.964561</td>\n",
       "    </tr>\n",
       "  </tbody>\n",
       "</table>\n",
       "</div>"
      ],
      "text/plain": [
       "       충전기당 전기차수\n",
       "강서구    10.206823\n",
       "금정구    11.466877\n",
       "기장군     7.885214\n",
       "남구      6.114441\n",
       "동구     67.380165\n",
       "동래구     9.168880\n",
       "부산진구   16.339404\n",
       "북구     10.938992\n",
       "사상구     8.755486\n",
       "사하구     9.796875\n",
       "서구      8.742647\n",
       "수영구    27.694030\n",
       "연제구    24.754237\n",
       "영도구     7.973684\n",
       "중구    154.464286\n",
       "해운대구    8.964561"
      ]
     },
     "execution_count": 476,
     "metadata": {},
     "output_type": "execute_result"
    }
   ],
   "source": [
    "gu = vehicle_gu.index.tolist()\n",
    "column = ['충전기당 전기차수']\n",
    "df_EV_per_charger = pd.DataFrame(columns=column,index=gu,data=EV_per_charger)\n",
    "df_EV_per_charger"
   ]
  },
  {
   "cell_type": "code",
   "execution_count": 478,
   "metadata": {},
   "outputs": [
    {
     "data": {
      "application/vnd.plotly.v1+json": {
       "config": {
        "plotlyServerURL": "https://plot.ly"
       },
       "data": [
        {
         "fill": "tozeroy",
         "line": {
          "color": "rgb(239,85,59)"
         },
         "name": "부적합",
         "type": "scatter",
         "x": [
          -31.69224886923194,
          -31.32060999176495,
          -30.94897111429796,
          -30.57733223683097,
          -30.20569335936398,
          -29.83405448189699,
          -29.462415604430003,
          -29.090776726963014,
          -28.719137849496025,
          -28.347498972029037,
          -27.975860094562044,
          -27.604221217095056,
          -27.232582339628067,
          -26.860943462161078,
          -26.48930458469409,
          -26.1176657072271,
          -25.746026829760112,
          -25.37438795229312,
          -25.00274907482613,
          -24.631110197359142,
          -24.259471319892153,
          -23.887832442425164,
          -23.516193564958172,
          -23.144554687491187,
          -22.772915810024195,
          -22.401276932557206,
          -22.029638055090217,
          -21.65799917762323,
          -21.28636030015624,
          -20.914721422689247,
          -20.543082545222262,
          -20.17144366775527,
          -19.79980479028828,
          -19.428165912821292,
          -19.0565270353543,
          -18.684888157887315,
          -18.313249280420322,
          -17.941610402953334,
          -17.569971525486345,
          -17.198332648019356,
          -16.826693770552367,
          -16.455054893085375,
          -16.08341601561839,
          -15.7117771381514,
          -15.340138260684409,
          -14.96849938321742,
          -14.596860505750431,
          -14.225221628283442,
          -13.85358275081645,
          -13.481943873349461,
          -13.110304995882473,
          -12.738666118415484,
          -12.367027240948495,
          -11.995388363481506,
          -11.623749486014518,
          -11.252110608547525,
          -10.880471731080537,
          -10.508832853613548,
          -10.137193976146559,
          -9.76555509867957,
          -9.393916221212582,
          -9.02227734374559,
          -8.6506384662786,
          -8.278999588811612,
          -7.907360711344623,
          -7.535721833877634,
          -7.164082956410645,
          -6.792444078943657,
          -6.420805201476664,
          -6.049166324009676,
          -5.677527446542687,
          -5.305888569075698,
          -4.934249691608709,
          -4.5626108141417205,
          -4.190971936674728,
          -3.8193330592077395,
          -3.4476941817407507,
          -3.076055304273762,
          -2.704416426806773,
          -2.3327775493397844,
          -1.9611386718727957,
          -1.5894997944058034,
          -1.2178609169388146,
          -0.8462220394718258,
          -0.4745831620048371,
          -0.10294428453784832,
          0.26869459292914044,
          0.6403334703961292,
          1.0119723478631215,
          1.3836112253301067,
          1.755250102797099,
          2.1268889802640913,
          2.4985278577310766,
          2.870166735198069,
          3.241805612665054,
          3.6134444901320464,
          3.9850833675990387,
          4.356722245066024,
          4.728361122533016,
          5.1
         ],
         "y": [
          0.0035082005136936067,
          0.0035595824954189567,
          0.003611368052778405,
          0.00366355297684879,
          0.003716132881081199,
          0.003769103200441903,
          0.0038224591906277318,
          0.003876195927357479,
          0.003930308305740785,
          0.0039847910397259895,
          0.0040396386616283865,
          0.004094845521740254,
          0.004150405788024065,
          0.0042063134458901535,
          0.004262562298060159,
          0.004319145964517465,
          0.004376057882545847,
          0.004433291306857497,
          0.0044908393098114984,
          0.004548694781723873,
          0.004606850431270147,
          0.0046652987859814735,
          0.004724032192835168,
          0.004783042818940563,
          0.004842322652320959,
          0.00490186350279244,
          0.004961657002940263,
          0.005021694609193433,
          0.005081967602998065,
          0.0051424670920900434,
          0.005203184011867449,
          0.005264109126863142,
          0.005325233032317826,
          0.005386546155853891,
          0.005448038759250204,
          0.005509700940318005,
          0.005571522634877982,
          0.005633493618838511,
          0.005695603510375014,
          0.005757841772210278,
          0.005820197713995538,
          0.005882660494792069,
          0.005945219125652884,
          0.006007862472304186,
          0.006070579257926021,
          0.006133358066031607,
          0.006196187343444683,
          0.006259055403374167,
          0.006321950428585335,
          0.006384860474666685,
          0.0064477734733915095,
          0.006510677236173224,
          0.006573559457613319,
          0.006636407719140818,
          0.0066992094927419855,
          0.0067619521447790385,
          0.006824622939896392,
          0.006887209045013106,
          0.006949697533399907,
          0.007012075388839293,
          0.007074329509866973,
          0.007136446714092987,
          0.007198413742600628,
          0.007260217264421366,
          0.007321843881083799,
          0.007383280131234617,
          0.00744451249532954,
          0.007505527400392058,
          0.0075663112248378,
          0.00762685030336225,
          0.0076871309318894895,
          0.007747139372579584,
          0.007806861858892164,
          0.007866284600703691,
          0.007925393789475878,
          0.007984175603472596,
          0.008042616213022677,
          0.0081007017858258,
          0.008158418492298815,
          0.008215752510959538,
          0.008272690033845311,
          0.008329217271963308,
          0.008385320460769681,
          0.008440985865674589,
          0.008496199787570017,
          0.00855094856837738,
          0.0086052185966118,
          0.008658996312959896,
          0.008712268215868013,
          0.008765020867137593,
          0.008817240897524585,
          0.008868915012339594,
          0.00892002999704554,
          0.008970572722849573,
          0.009020530152285917,
          0.009069889344786409,
          0.009118637462235346,
          0.009166761774505396,
          0.009214249664971202,
          0.009261088635997387
         ]
        },
        {
         "fill": "tozeroy",
         "line": {
          "color": "rgb(100,110,250)"
         },
         "name": "적합",
         "type": "scatter",
         "x": [
          5.1,
          6.608730158730158,
          8.117460317460317,
          9.626190476190477,
          11.134920634920636,
          12.643650793650794,
          14.152380952380954,
          15.661111111111111,
          17.16984126984127,
          18.67857142857143,
          20.18730158730159,
          21.69603174603175,
          23.20476190476191,
          24.71349206349207,
          26.22222222222222,
          27.73095238095238,
          29.23968253968254,
          30.7484126984127,
          32.25714285714286,
          33.76587301587302,
          35.27460317460318,
          36.78333333333334,
          38.2920634920635,
          39.80079365079366,
          41.30952380952382,
          42.81825396825398,
          44.32698412698414,
          45.83571428571429,
          47.34444444444445,
          48.85317460317461,
          50.36190476190477,
          51.87063492063493,
          53.37936507936509,
          54.88809523809525,
          56.396825396825406,
          57.905555555555566,
          59.414285714285725,
          60.923015873015885,
          62.43174603174604,
          63.9404761904762,
          65.44920634920635,
          66.95793650793651,
          68.46666666666667,
          69.97539682539683,
          71.48412698412699,
          72.99285714285715,
          74.5015873015873,
          76.01031746031747,
          77.51904761904763,
          79.02777777777779,
          80.53650793650795,
          82.0452380952381,
          83.55396825396826,
          85.06269841269842,
          86.57142857142857,
          88.08015873015873,
          89.58888888888889,
          91.09761904761905,
          92.60634920634921,
          94.11507936507937,
          95.62380952380953,
          97.13253968253969,
          98.64126984126985,
          100.15,
          101.65873015873017,
          103.16746031746032,
          104.67619047619048,
          106.18492063492064,
          107.6936507936508,
          109.20238095238096,
          110.71111111111112,
          112.21984126984128,
          113.72857142857144,
          115.2373015873016,
          116.74603174603176,
          118.2547619047619,
          119.76349206349207,
          121.27222222222223,
          122.78095238095239,
          124.28968253968254,
          125.7984126984127,
          127.30714285714286,
          128.81587301587302,
          130.3246031746032,
          131.83333333333334,
          133.34206349206352,
          134.85079365079366,
          136.3595238095238,
          137.86825396825398,
          139.37698412698413,
          140.8857142857143,
          142.39444444444445,
          143.90317460317462,
          145.41190476190476,
          146.92063492063494,
          148.42936507936508,
          149.93809523809526,
          151.4468253968254,
          152.95555555555558,
          154.46428571428572
         ],
         "y": [
          0.009261088635997387,
          0.009444320100529743,
          0.009615851147891184,
          0.009774918413978043,
          0.009920805299920437,
          0.010052847342210111,
          0.010170437249481683,
          0.010273029552574517,
          0.010360144818082636,
          0.01043137337986465,
          0.010486378547882315,
          0.01052489925920155,
          0.01054675214194978,
          0.01055183296939742,
          0.010540117488029467,
          0.010511661610401533,
          0.010466600970634586,
          0.010405149847493043,
          0.010327599467010834,
          0.010234315703479043,
          0.010125736204189743,
          0.010002366969551351,
          0.009864778425964659,
          0.009713601034097429,
          0.009549520479849402,
          0.00937327249929938,
          0.009185637392223394,
          0.008987434281331287,
          0.0087795151761639,
          0.008562758901612443,
          0.008338064951266204,
          0.008106347325276873,
          0.007868528411172061,
          0.0076255329640921975,
          0.007378282240309577,
          0.007127688334670369,
          0.006874648768842605,
          0.006620041373024511,
          0.006364719499142477,
          0.006109507598624745,
          0.005855197192655813,
          0.0056025432574790465,
          0.0053522610419019945,
          0.005105023328748729,
          0.004861458146672583,
          0.0046221469335613625,
          0.004387623147802014,
          0.004158371318981919,
          0.003934826525242286,
          0.0037173742805103466,
          0.0035063508112582508,
          0.0033020436992964126,
          0.003104692864428117,
          0.0029144918585826624,
          0.002731589441310531,
          0.0025560914052628076,
          0.0023880626194779514,
          0.002227529257945081,
          0.0020744811809817617,
          0.0019288744374277452,
          0.0017906338564826019,
          0.0016596556991687295,
          0.0015358103408441236,
          0.0014189449578812156,
          0.0013088861935283446,
          0.0012054427800375325,
          0.0011084080963357052,
          0.0010175626427963173,
          0.0009326764169969329,
          0.00085351117668956,
          0.0007798225785315149,
          0.0007113621833950677,
          0.0006478793212671357,
          0.00058912281084238,
          0.000534842530884262,
          0.0004847908422623908,
          0.00043872386125814056,
          0.00039640258625436007,
          0.00035759388128297023,
          0.000322071321093254,
          0.00028961590342326503,
          0.00026001663500957456,
          0.00023307099856090916,
          0.00020858530845594488,
          0.00018637496331273343,
          0.00016626460382678673,
          0.00014808818439742476,
          0.00013168896706918138,
          0.00011691944621901174,
          0.0001036412122330286,
          0.00009172476215096006,
          0.00008104926492467873,
          0.00007150228855081782,
          0.00006297949590807522,
          0.00005538431566794238,
          0.0000486275941633108,
          0.00004262723360177916,
          0.00003730782150781783,
          0.00003260025577756507,
          0.00002844136923838294
         ]
        }
       ],
       "layout": {
        "annotations": [
         {
          "bordercolor": "rgb(239,85,59)",
          "borderwidth": 2,
          "font": {
           "color": "rgb(239,85,59)",
           "size": 15
          },
          "showarrow": false,
          "text": "0.236",
          "x": 5.1,
          "xshift": -40,
          "y": 0.009261088635997387,
          "yshift": -100
         },
         {
          "bordercolor": "rgb(100,110,250)",
          "borderwidth": 2,
          "font": {
           "color": "rgb(100,110,250)",
           "size": 15
          },
          "showarrow": false,
          "text": "0.764",
          "x": 5.1,
          "xshift": 40,
          "y": 0.009261088635997387,
          "yshift": -100
         }
        ],
        "template": {
         "data": {
          "bar": [
           {
            "error_x": {
             "color": "#2a3f5f"
            },
            "error_y": {
             "color": "#2a3f5f"
            },
            "marker": {
             "line": {
              "color": "#E5ECF6",
              "width": 0.5
             },
             "pattern": {
              "fillmode": "overlay",
              "size": 10,
              "solidity": 0.2
             }
            },
            "type": "bar"
           }
          ],
          "barpolar": [
           {
            "marker": {
             "line": {
              "color": "#E5ECF6",
              "width": 0.5
             },
             "pattern": {
              "fillmode": "overlay",
              "size": 10,
              "solidity": 0.2
             }
            },
            "type": "barpolar"
           }
          ],
          "carpet": [
           {
            "aaxis": {
             "endlinecolor": "#2a3f5f",
             "gridcolor": "white",
             "linecolor": "white",
             "minorgridcolor": "white",
             "startlinecolor": "#2a3f5f"
            },
            "baxis": {
             "endlinecolor": "#2a3f5f",
             "gridcolor": "white",
             "linecolor": "white",
             "minorgridcolor": "white",
             "startlinecolor": "#2a3f5f"
            },
            "type": "carpet"
           }
          ],
          "choropleth": [
           {
            "colorbar": {
             "outlinewidth": 0,
             "ticks": ""
            },
            "type": "choropleth"
           }
          ],
          "contour": [
           {
            "colorbar": {
             "outlinewidth": 0,
             "ticks": ""
            },
            "colorscale": [
             [
              0,
              "#0d0887"
             ],
             [
              0.1111111111111111,
              "#46039f"
             ],
             [
              0.2222222222222222,
              "#7201a8"
             ],
             [
              0.3333333333333333,
              "#9c179e"
             ],
             [
              0.4444444444444444,
              "#bd3786"
             ],
             [
              0.5555555555555556,
              "#d8576b"
             ],
             [
              0.6666666666666666,
              "#ed7953"
             ],
             [
              0.7777777777777778,
              "#fb9f3a"
             ],
             [
              0.8888888888888888,
              "#fdca26"
             ],
             [
              1,
              "#f0f921"
             ]
            ],
            "type": "contour"
           }
          ],
          "contourcarpet": [
           {
            "colorbar": {
             "outlinewidth": 0,
             "ticks": ""
            },
            "type": "contourcarpet"
           }
          ],
          "heatmap": [
           {
            "colorbar": {
             "outlinewidth": 0,
             "ticks": ""
            },
            "colorscale": [
             [
              0,
              "#0d0887"
             ],
             [
              0.1111111111111111,
              "#46039f"
             ],
             [
              0.2222222222222222,
              "#7201a8"
             ],
             [
              0.3333333333333333,
              "#9c179e"
             ],
             [
              0.4444444444444444,
              "#bd3786"
             ],
             [
              0.5555555555555556,
              "#d8576b"
             ],
             [
              0.6666666666666666,
              "#ed7953"
             ],
             [
              0.7777777777777778,
              "#fb9f3a"
             ],
             [
              0.8888888888888888,
              "#fdca26"
             ],
             [
              1,
              "#f0f921"
             ]
            ],
            "type": "heatmap"
           }
          ],
          "heatmapgl": [
           {
            "colorbar": {
             "outlinewidth": 0,
             "ticks": ""
            },
            "colorscale": [
             [
              0,
              "#0d0887"
             ],
             [
              0.1111111111111111,
              "#46039f"
             ],
             [
              0.2222222222222222,
              "#7201a8"
             ],
             [
              0.3333333333333333,
              "#9c179e"
             ],
             [
              0.4444444444444444,
              "#bd3786"
             ],
             [
              0.5555555555555556,
              "#d8576b"
             ],
             [
              0.6666666666666666,
              "#ed7953"
             ],
             [
              0.7777777777777778,
              "#fb9f3a"
             ],
             [
              0.8888888888888888,
              "#fdca26"
             ],
             [
              1,
              "#f0f921"
             ]
            ],
            "type": "heatmapgl"
           }
          ],
          "histogram": [
           {
            "marker": {
             "pattern": {
              "fillmode": "overlay",
              "size": 10,
              "solidity": 0.2
             }
            },
            "type": "histogram"
           }
          ],
          "histogram2d": [
           {
            "colorbar": {
             "outlinewidth": 0,
             "ticks": ""
            },
            "colorscale": [
             [
              0,
              "#0d0887"
             ],
             [
              0.1111111111111111,
              "#46039f"
             ],
             [
              0.2222222222222222,
              "#7201a8"
             ],
             [
              0.3333333333333333,
              "#9c179e"
             ],
             [
              0.4444444444444444,
              "#bd3786"
             ],
             [
              0.5555555555555556,
              "#d8576b"
             ],
             [
              0.6666666666666666,
              "#ed7953"
             ],
             [
              0.7777777777777778,
              "#fb9f3a"
             ],
             [
              0.8888888888888888,
              "#fdca26"
             ],
             [
              1,
              "#f0f921"
             ]
            ],
            "type": "histogram2d"
           }
          ],
          "histogram2dcontour": [
           {
            "colorbar": {
             "outlinewidth": 0,
             "ticks": ""
            },
            "colorscale": [
             [
              0,
              "#0d0887"
             ],
             [
              0.1111111111111111,
              "#46039f"
             ],
             [
              0.2222222222222222,
              "#7201a8"
             ],
             [
              0.3333333333333333,
              "#9c179e"
             ],
             [
              0.4444444444444444,
              "#bd3786"
             ],
             [
              0.5555555555555556,
              "#d8576b"
             ],
             [
              0.6666666666666666,
              "#ed7953"
             ],
             [
              0.7777777777777778,
              "#fb9f3a"
             ],
             [
              0.8888888888888888,
              "#fdca26"
             ],
             [
              1,
              "#f0f921"
             ]
            ],
            "type": "histogram2dcontour"
           }
          ],
          "mesh3d": [
           {
            "colorbar": {
             "outlinewidth": 0,
             "ticks": ""
            },
            "type": "mesh3d"
           }
          ],
          "parcoords": [
           {
            "line": {
             "colorbar": {
              "outlinewidth": 0,
              "ticks": ""
             }
            },
            "type": "parcoords"
           }
          ],
          "pie": [
           {
            "automargin": true,
            "type": "pie"
           }
          ],
          "scatter": [
           {
            "marker": {
             "colorbar": {
              "outlinewidth": 0,
              "ticks": ""
             }
            },
            "type": "scatter"
           }
          ],
          "scatter3d": [
           {
            "line": {
             "colorbar": {
              "outlinewidth": 0,
              "ticks": ""
             }
            },
            "marker": {
             "colorbar": {
              "outlinewidth": 0,
              "ticks": ""
             }
            },
            "type": "scatter3d"
           }
          ],
          "scattercarpet": [
           {
            "marker": {
             "colorbar": {
              "outlinewidth": 0,
              "ticks": ""
             }
            },
            "type": "scattercarpet"
           }
          ],
          "scattergeo": [
           {
            "marker": {
             "colorbar": {
              "outlinewidth": 0,
              "ticks": ""
             }
            },
            "type": "scattergeo"
           }
          ],
          "scattergl": [
           {
            "marker": {
             "colorbar": {
              "outlinewidth": 0,
              "ticks": ""
             }
            },
            "type": "scattergl"
           }
          ],
          "scattermapbox": [
           {
            "marker": {
             "colorbar": {
              "outlinewidth": 0,
              "ticks": ""
             }
            },
            "type": "scattermapbox"
           }
          ],
          "scatterpolar": [
           {
            "marker": {
             "colorbar": {
              "outlinewidth": 0,
              "ticks": ""
             }
            },
            "type": "scatterpolar"
           }
          ],
          "scatterpolargl": [
           {
            "marker": {
             "colorbar": {
              "outlinewidth": 0,
              "ticks": ""
             }
            },
            "type": "scatterpolargl"
           }
          ],
          "scatterternary": [
           {
            "marker": {
             "colorbar": {
              "outlinewidth": 0,
              "ticks": ""
             }
            },
            "type": "scatterternary"
           }
          ],
          "surface": [
           {
            "colorbar": {
             "outlinewidth": 0,
             "ticks": ""
            },
            "colorscale": [
             [
              0,
              "#0d0887"
             ],
             [
              0.1111111111111111,
              "#46039f"
             ],
             [
              0.2222222222222222,
              "#7201a8"
             ],
             [
              0.3333333333333333,
              "#9c179e"
             ],
             [
              0.4444444444444444,
              "#bd3786"
             ],
             [
              0.5555555555555556,
              "#d8576b"
             ],
             [
              0.6666666666666666,
              "#ed7953"
             ],
             [
              0.7777777777777778,
              "#fb9f3a"
             ],
             [
              0.8888888888888888,
              "#fdca26"
             ],
             [
              1,
              "#f0f921"
             ]
            ],
            "type": "surface"
           }
          ],
          "table": [
           {
            "cells": {
             "fill": {
              "color": "#EBF0F8"
             },
             "line": {
              "color": "white"
             }
            },
            "header": {
             "fill": {
              "color": "#C8D4E3"
             },
             "line": {
              "color": "white"
             }
            },
            "type": "table"
           }
          ]
         },
         "layout": {
          "annotationdefaults": {
           "arrowcolor": "#2a3f5f",
           "arrowhead": 0,
           "arrowwidth": 1
          },
          "autotypenumbers": "strict",
          "coloraxis": {
           "colorbar": {
            "outlinewidth": 0,
            "ticks": ""
           }
          },
          "colorscale": {
           "diverging": [
            [
             0,
             "#8e0152"
            ],
            [
             0.1,
             "#c51b7d"
            ],
            [
             0.2,
             "#de77ae"
            ],
            [
             0.3,
             "#f1b6da"
            ],
            [
             0.4,
             "#fde0ef"
            ],
            [
             0.5,
             "#f7f7f7"
            ],
            [
             0.6,
             "#e6f5d0"
            ],
            [
             0.7,
             "#b8e186"
            ],
            [
             0.8,
             "#7fbc41"
            ],
            [
             0.9,
             "#4d9221"
            ],
            [
             1,
             "#276419"
            ]
           ],
           "sequential": [
            [
             0,
             "#0d0887"
            ],
            [
             0.1111111111111111,
             "#46039f"
            ],
            [
             0.2222222222222222,
             "#7201a8"
            ],
            [
             0.3333333333333333,
             "#9c179e"
            ],
            [
             0.4444444444444444,
             "#bd3786"
            ],
            [
             0.5555555555555556,
             "#d8576b"
            ],
            [
             0.6666666666666666,
             "#ed7953"
            ],
            [
             0.7777777777777778,
             "#fb9f3a"
            ],
            [
             0.8888888888888888,
             "#fdca26"
            ],
            [
             1,
             "#f0f921"
            ]
           ],
           "sequentialminus": [
            [
             0,
             "#0d0887"
            ],
            [
             0.1111111111111111,
             "#46039f"
            ],
            [
             0.2222222222222222,
             "#7201a8"
            ],
            [
             0.3333333333333333,
             "#9c179e"
            ],
            [
             0.4444444444444444,
             "#bd3786"
            ],
            [
             0.5555555555555556,
             "#d8576b"
            ],
            [
             0.6666666666666666,
             "#ed7953"
            ],
            [
             0.7777777777777778,
             "#fb9f3a"
            ],
            [
             0.8888888888888888,
             "#fdca26"
            ],
            [
             1,
             "#f0f921"
            ]
           ]
          },
          "colorway": [
           "#636efa",
           "#EF553B",
           "#00cc96",
           "#ab63fa",
           "#FFA15A",
           "#19d3f3",
           "#FF6692",
           "#B6E880",
           "#FF97FF",
           "#FECB52"
          ],
          "font": {
           "color": "#2a3f5f"
          },
          "geo": {
           "bgcolor": "white",
           "lakecolor": "white",
           "landcolor": "#E5ECF6",
           "showlakes": true,
           "showland": true,
           "subunitcolor": "white"
          },
          "hoverlabel": {
           "align": "left"
          },
          "hovermode": "closest",
          "mapbox": {
           "style": "light"
          },
          "paper_bgcolor": "white",
          "plot_bgcolor": "#E5ECF6",
          "polar": {
           "angularaxis": {
            "gridcolor": "white",
            "linecolor": "white",
            "ticks": ""
           },
           "bgcolor": "#E5ECF6",
           "radialaxis": {
            "gridcolor": "white",
            "linecolor": "white",
            "ticks": ""
           }
          },
          "scene": {
           "xaxis": {
            "backgroundcolor": "#E5ECF6",
            "gridcolor": "white",
            "gridwidth": 2,
            "linecolor": "white",
            "showbackground": true,
            "ticks": "",
            "zerolinecolor": "white"
           },
           "yaxis": {
            "backgroundcolor": "#E5ECF6",
            "gridcolor": "white",
            "gridwidth": 2,
            "linecolor": "white",
            "showbackground": true,
            "ticks": "",
            "zerolinecolor": "white"
           },
           "zaxis": {
            "backgroundcolor": "#E5ECF6",
            "gridcolor": "white",
            "gridwidth": 2,
            "linecolor": "white",
            "showbackground": true,
            "ticks": "",
            "zerolinecolor": "white"
           }
          },
          "shapedefaults": {
           "line": {
            "color": "#2a3f5f"
           }
          },
          "ternary": {
           "aaxis": {
            "gridcolor": "white",
            "linecolor": "white",
            "ticks": ""
           },
           "baxis": {
            "gridcolor": "white",
            "linecolor": "white",
            "ticks": ""
           },
           "bgcolor": "#E5ECF6",
           "caxis": {
            "gridcolor": "white",
            "linecolor": "white",
            "ticks": ""
           }
          },
          "title": {
           "x": 0.05
          },
          "xaxis": {
           "automargin": true,
           "gridcolor": "white",
           "linecolor": "white",
           "ticks": "",
           "title": {
            "standoff": 15
           },
           "zerolinecolor": "white",
           "zerolinewidth": 2
          },
          "yaxis": {
           "automargin": true,
           "gridcolor": "white",
           "linecolor": "white",
           "ticks": "",
           "title": {
            "standoff": 15
           },
           "zerolinecolor": "white",
           "zerolinewidth": 2
          }
         }
        },
        "yaxis": {
         "visible": false
        }
       }
      }
     },
     "metadata": {},
     "output_type": "display_data"
    }
   ],
   "source": [
    "EVCS_pro,EVCS_pro_negative = cal_norm(df_EV_per_charger['충전기당 전기차수'].mean(),\n",
    "                                      df_EV_per_charger['충전기당 전기차수'].std(),\n",
    "                                      df_EV_per_charger['충전기당 전기차수'].min(),\n",
    "                                      df_EV_per_charger['충전기당 전기차수'].max(),\n",
    "                                      EV_per_charger_standard,\n",
    "                                      False)"
   ]
  },
  {
   "cell_type": "markdown",
   "metadata": {},
   "source": [
    "### 전기차 충전소 이용률 계산"
   ]
  },
  {
   "cell_type": "code",
   "execution_count": 405,
   "metadata": {},
   "outputs": [
    {
     "data": {
      "text/html": [
       "<div>\n",
       "<style scoped>\n",
       "    .dataframe tbody tr th:only-of-type {\n",
       "        vertical-align: middle;\n",
       "    }\n",
       "\n",
       "    .dataframe tbody tr th {\n",
       "        vertical-align: top;\n",
       "    }\n",
       "\n",
       "    .dataframe thead th {\n",
       "        text-align: right;\n",
       "    }\n",
       "</style>\n",
       "<table border=\"1\" class=\"dataframe\">\n",
       "  <thead>\n",
       "    <tr style=\"text-align: right;\">\n",
       "      <th></th>\n",
       "      <th>statNm</th>\n",
       "      <th>statId</th>\n",
       "      <th>chgerId</th>\n",
       "      <th>chgerType</th>\n",
       "      <th>addr</th>\n",
       "      <th>region_2depth_name</th>\n",
       "      <th>region_3depth_name</th>\n",
       "      <th>lat</th>\n",
       "      <th>lng</th>\n",
       "      <th>useTime</th>\n",
       "      <th>...</th>\n",
       "      <th>lastTsdt</th>\n",
       "      <th>lastTedt</th>\n",
       "      <th>nowTsdt</th>\n",
       "      <th>output</th>\n",
       "      <th>method</th>\n",
       "      <th>zcode</th>\n",
       "      <th>zscode</th>\n",
       "      <th>kind</th>\n",
       "      <th>kindDetail</th>\n",
       "      <th>parkingFree</th>\n",
       "    </tr>\n",
       "  </thead>\n",
       "  <tbody>\n",
       "    <tr>\n",
       "      <th>74</th>\n",
       "      <td>대저역 (대저차량기지)</td>\n",
       "      <td>ME20C190</td>\n",
       "      <td>91</td>\n",
       "      <td>4</td>\n",
       "      <td>부산광역시 강서구 대저1동 1619</td>\n",
       "      <td>강서구</td>\n",
       "      <td>대저1동</td>\n",
       "      <td>35.213220</td>\n",
       "      <td>128.954243</td>\n",
       "      <td>24시간 이용가능</td>\n",
       "      <td>...</td>\n",
       "      <td>2.020000e+13</td>\n",
       "      <td>2.020000e+13</td>\n",
       "      <td>NaN</td>\n",
       "      <td>100</td>\n",
       "      <td>단독</td>\n",
       "      <td>26</td>\n",
       "      <td>26440.0</td>\n",
       "      <td>A0</td>\n",
       "      <td>A003</td>\n",
       "      <td>Y</td>\n",
       "    </tr>\n",
       "    <tr>\n",
       "      <th>118</th>\n",
       "      <td>(주)응카</td>\n",
       "      <td>KE000593</td>\n",
       "      <td>1</td>\n",
       "      <td>4</td>\n",
       "      <td>부산광역시 강서구 대저중앙로394번길 32</td>\n",
       "      <td>강서구</td>\n",
       "      <td>대저1동</td>\n",
       "      <td>35.219401</td>\n",
       "      <td>128.988252</td>\n",
       "      <td>주중 08:00~19:00, 주말 09:00~18:00</td>\n",
       "      <td>...</td>\n",
       "      <td>2.020000e+13</td>\n",
       "      <td>2.020000e+13</td>\n",
       "      <td>2.020000e+13</td>\n",
       "      <td>100</td>\n",
       "      <td>동시</td>\n",
       "      <td>26</td>\n",
       "      <td>26440.0</td>\n",
       "      <td>H0</td>\n",
       "      <td>H003</td>\n",
       "      <td>Y</td>\n",
       "    </tr>\n",
       "    <tr>\n",
       "      <th>119</th>\n",
       "      <td>(주)응카</td>\n",
       "      <td>KE000593</td>\n",
       "      <td>2</td>\n",
       "      <td>4</td>\n",
       "      <td>부산광역시 강서구 대저중앙로394번길 32</td>\n",
       "      <td>강서구</td>\n",
       "      <td>대저1동</td>\n",
       "      <td>35.219401</td>\n",
       "      <td>128.988252</td>\n",
       "      <td>주중 08:00~19:00, 주말 09:00~18:00</td>\n",
       "      <td>...</td>\n",
       "      <td>2.020000e+13</td>\n",
       "      <td>2.020000e+13</td>\n",
       "      <td>2.020000e+13</td>\n",
       "      <td>100</td>\n",
       "      <td>동시</td>\n",
       "      <td>26</td>\n",
       "      <td>26440.0</td>\n",
       "      <td>H0</td>\n",
       "      <td>H003</td>\n",
       "      <td>Y</td>\n",
       "    </tr>\n",
       "    <tr>\n",
       "      <th>266</th>\n",
       "      <td>대저역 (대저차량기지)</td>\n",
       "      <td>ME20C190</td>\n",
       "      <td>91</td>\n",
       "      <td>4</td>\n",
       "      <td>부산광역시 강서구 대저1동 1619</td>\n",
       "      <td>강서구</td>\n",
       "      <td>대저1동</td>\n",
       "      <td>35.213220</td>\n",
       "      <td>128.954243</td>\n",
       "      <td>24시간 이용가능</td>\n",
       "      <td>...</td>\n",
       "      <td>2.020000e+13</td>\n",
       "      <td>2.020000e+13</td>\n",
       "      <td>NaN</td>\n",
       "      <td>100</td>\n",
       "      <td>단독</td>\n",
       "      <td>26</td>\n",
       "      <td>26440.0</td>\n",
       "      <td>A0</td>\n",
       "      <td>A003</td>\n",
       "      <td>Y</td>\n",
       "    </tr>\n",
       "    <tr>\n",
       "      <th>311</th>\n",
       "      <td>(주)응카</td>\n",
       "      <td>KE000593</td>\n",
       "      <td>1</td>\n",
       "      <td>4</td>\n",
       "      <td>부산광역시 강서구 대저중앙로394번길 32</td>\n",
       "      <td>강서구</td>\n",
       "      <td>대저1동</td>\n",
       "      <td>35.219401</td>\n",
       "      <td>128.988252</td>\n",
       "      <td>주중 08:00~19:00, 주말 09:00~18:00</td>\n",
       "      <td>...</td>\n",
       "      <td>2.020000e+13</td>\n",
       "      <td>2.020000e+13</td>\n",
       "      <td>2.020000e+13</td>\n",
       "      <td>100</td>\n",
       "      <td>동시</td>\n",
       "      <td>26</td>\n",
       "      <td>26440.0</td>\n",
       "      <td>H0</td>\n",
       "      <td>H003</td>\n",
       "      <td>Y</td>\n",
       "    </tr>\n",
       "    <tr>\n",
       "      <th>...</th>\n",
       "      <td>...</td>\n",
       "      <td>...</td>\n",
       "      <td>...</td>\n",
       "      <td>...</td>\n",
       "      <td>...</td>\n",
       "      <td>...</td>\n",
       "      <td>...</td>\n",
       "      <td>...</td>\n",
       "      <td>...</td>\n",
       "      <td>...</td>\n",
       "      <td>...</td>\n",
       "      <td>...</td>\n",
       "      <td>...</td>\n",
       "      <td>...</td>\n",
       "      <td>...</td>\n",
       "      <td>...</td>\n",
       "      <td>...</td>\n",
       "      <td>...</td>\n",
       "      <td>...</td>\n",
       "      <td>...</td>\n",
       "      <td>...</td>\n",
       "    </tr>\n",
       "    <tr>\n",
       "      <th>6791</th>\n",
       "      <td>부산달맞이주유소</td>\n",
       "      <td>GS000075</td>\n",
       "      <td>2</td>\n",
       "      <td>4</td>\n",
       "      <td>부산광역시 해운대구 달맞이길 57</td>\n",
       "      <td>해운대구</td>\n",
       "      <td>중동</td>\n",
       "      <td>35.161533</td>\n",
       "      <td>129.171133</td>\n",
       "      <td>24시간 이용가능</td>\n",
       "      <td>...</td>\n",
       "      <td>2.020000e+13</td>\n",
       "      <td>2.020000e+13</td>\n",
       "      <td>2.020000e+13</td>\n",
       "      <td>200</td>\n",
       "      <td>단독</td>\n",
       "      <td>26</td>\n",
       "      <td>26350.0</td>\n",
       "      <td>E0</td>\n",
       "      <td>E007</td>\n",
       "      <td>Y</td>\n",
       "    </tr>\n",
       "    <tr>\n",
       "      <th>6890</th>\n",
       "      <td>중동역 공영주차장</td>\n",
       "      <td>ME174114</td>\n",
       "      <td>1</td>\n",
       "      <td>6</td>\n",
       "      <td>부산광역시 해운대구 해운대로 731</td>\n",
       "      <td>해운대구</td>\n",
       "      <td>중동</td>\n",
       "      <td>35.166826</td>\n",
       "      <td>129.169979</td>\n",
       "      <td>24시간 이용가능</td>\n",
       "      <td>...</td>\n",
       "      <td>2.020000e+13</td>\n",
       "      <td>2.020000e+13</td>\n",
       "      <td>2.020000e+13</td>\n",
       "      <td>50</td>\n",
       "      <td>단독</td>\n",
       "      <td>26</td>\n",
       "      <td>26350.0</td>\n",
       "      <td>B0</td>\n",
       "      <td>B001</td>\n",
       "      <td>N</td>\n",
       "    </tr>\n",
       "    <tr>\n",
       "      <th>6907</th>\n",
       "      <td>이마트 해운대점</td>\n",
       "      <td>ME184074</td>\n",
       "      <td>1</td>\n",
       "      <td>6</td>\n",
       "      <td>부산광역시 해운대구 좌동순환로 511</td>\n",
       "      <td>해운대구</td>\n",
       "      <td>중동</td>\n",
       "      <td>35.165994</td>\n",
       "      <td>129.167388</td>\n",
       "      <td>10:00~24:00</td>\n",
       "      <td>...</td>\n",
       "      <td>2.020000e+13</td>\n",
       "      <td>2.020000e+13</td>\n",
       "      <td>NaN</td>\n",
       "      <td>50</td>\n",
       "      <td>단독</td>\n",
       "      <td>26</td>\n",
       "      <td>26350.0</td>\n",
       "      <td>E0</td>\n",
       "      <td>E001</td>\n",
       "      <td>Y</td>\n",
       "    </tr>\n",
       "    <tr>\n",
       "      <th>6980</th>\n",
       "      <td>부산달맞이주유소</td>\n",
       "      <td>GS000075</td>\n",
       "      <td>1</td>\n",
       "      <td>4</td>\n",
       "      <td>부산광역시 해운대구 달맞이길 57</td>\n",
       "      <td>해운대구</td>\n",
       "      <td>중동</td>\n",
       "      <td>35.161533</td>\n",
       "      <td>129.171133</td>\n",
       "      <td>24시간 이용가능</td>\n",
       "      <td>...</td>\n",
       "      <td>2.020000e+13</td>\n",
       "      <td>2.020000e+13</td>\n",
       "      <td>2.020000e+13</td>\n",
       "      <td>200</td>\n",
       "      <td>단독</td>\n",
       "      <td>26</td>\n",
       "      <td>26350.0</td>\n",
       "      <td>E0</td>\n",
       "      <td>E007</td>\n",
       "      <td>Y</td>\n",
       "    </tr>\n",
       "    <tr>\n",
       "      <th>6981</th>\n",
       "      <td>부산달맞이주유소</td>\n",
       "      <td>GS000075</td>\n",
       "      <td>2</td>\n",
       "      <td>4</td>\n",
       "      <td>부산광역시 해운대구 달맞이길 57</td>\n",
       "      <td>해운대구</td>\n",
       "      <td>중동</td>\n",
       "      <td>35.161533</td>\n",
       "      <td>129.171133</td>\n",
       "      <td>24시간 이용가능</td>\n",
       "      <td>...</td>\n",
       "      <td>2.020000e+13</td>\n",
       "      <td>2.020000e+13</td>\n",
       "      <td>2.020000e+13</td>\n",
       "      <td>200</td>\n",
       "      <td>단독</td>\n",
       "      <td>26</td>\n",
       "      <td>26350.0</td>\n",
       "      <td>E0</td>\n",
       "      <td>E007</td>\n",
       "      <td>Y</td>\n",
       "    </tr>\n",
       "  </tbody>\n",
       "</table>\n",
       "<p>7068 rows × 26 columns</p>\n",
       "</div>"
      ],
      "text/plain": [
       "             statNm    statId  chgerId  chgerType                     addr  \\\n",
       "74    대저역 (대저차량기지)   ME20C190       91          4      부산광역시 강서구 대저1동 1619   \n",
       "118           (주)응카  KE000593        1          4  부산광역시 강서구 대저중앙로394번길 32   \n",
       "119           (주)응카  KE000593        2          4  부산광역시 강서구 대저중앙로394번길 32   \n",
       "266   대저역 (대저차량기지)   ME20C190       91          4      부산광역시 강서구 대저1동 1619   \n",
       "311           (주)응카  KE000593        1          4  부산광역시 강서구 대저중앙로394번길 32   \n",
       "...             ...       ...      ...        ...                      ...   \n",
       "6791       부산달맞이주유소  GS000075        2          4       부산광역시 해운대구 달맞이길 57   \n",
       "6890      중동역 공영주차장  ME174114        1          6      부산광역시 해운대구 해운대로 731   \n",
       "6907       이마트 해운대점  ME184074        1          6     부산광역시 해운대구 좌동순환로 511   \n",
       "6980       부산달맞이주유소  GS000075        1          4       부산광역시 해운대구 달맞이길 57   \n",
       "6981       부산달맞이주유소  GS000075        2          4       부산광역시 해운대구 달맞이길 57   \n",
       "\n",
       "     region_2depth_name region_3depth_name        lat         lng  \\\n",
       "74                  강서구               대저1동  35.213220  128.954243   \n",
       "118                 강서구               대저1동  35.219401  128.988252   \n",
       "119                 강서구               대저1동  35.219401  128.988252   \n",
       "266                 강서구               대저1동  35.213220  128.954243   \n",
       "311                 강서구               대저1동  35.219401  128.988252   \n",
       "...                 ...                ...        ...         ...   \n",
       "6791               해운대구                 중동  35.161533  129.171133   \n",
       "6890               해운대구                 중동  35.166826  129.169979   \n",
       "6907               해운대구                 중동  35.165994  129.167388   \n",
       "6980               해운대구                 중동  35.161533  129.171133   \n",
       "6981               해운대구                 중동  35.161533  129.171133   \n",
       "\n",
       "                             useTime  ...      lastTsdt      lastTedt  \\\n",
       "74                         24시간 이용가능  ...  2.020000e+13  2.020000e+13   \n",
       "118   주중 08:00~19:00, 주말 09:00~18:00  ...  2.020000e+13  2.020000e+13   \n",
       "119   주중 08:00~19:00, 주말 09:00~18:00  ...  2.020000e+13  2.020000e+13   \n",
       "266                        24시간 이용가능  ...  2.020000e+13  2.020000e+13   \n",
       "311   주중 08:00~19:00, 주말 09:00~18:00  ...  2.020000e+13  2.020000e+13   \n",
       "...                              ...  ...           ...           ...   \n",
       "6791                       24시간 이용가능  ...  2.020000e+13  2.020000e+13   \n",
       "6890                       24시간 이용가능  ...  2.020000e+13  2.020000e+13   \n",
       "6907                     10:00~24:00  ...  2.020000e+13  2.020000e+13   \n",
       "6980                       24시간 이용가능  ...  2.020000e+13  2.020000e+13   \n",
       "6981                       24시간 이용가능  ...  2.020000e+13  2.020000e+13   \n",
       "\n",
       "           nowTsdt output  method  zcode   zscode  kind  kindDetail  \\\n",
       "74             NaN    100      단독     26  26440.0    A0        A003   \n",
       "118   2.020000e+13    100      동시     26  26440.0    H0        H003   \n",
       "119   2.020000e+13    100      동시     26  26440.0    H0        H003   \n",
       "266            NaN    100      단독     26  26440.0    A0        A003   \n",
       "311   2.020000e+13    100      동시     26  26440.0    H0        H003   \n",
       "...            ...    ...     ...    ...      ...   ...         ...   \n",
       "6791  2.020000e+13    200      단독     26  26350.0    E0        E007   \n",
       "6890  2.020000e+13     50      단독     26  26350.0    B0        B001   \n",
       "6907           NaN     50      단독     26  26350.0    E0        E001   \n",
       "6980  2.020000e+13    200      단독     26  26350.0    E0        E007   \n",
       "6981  2.020000e+13    200      단독     26  26350.0    E0        E007   \n",
       "\n",
       "      parkingFree  \n",
       "74              Y  \n",
       "118             Y  \n",
       "119             Y  \n",
       "266             Y  \n",
       "311             Y  \n",
       "...           ...  \n",
       "6791            Y  \n",
       "6890            N  \n",
       "6907            Y  \n",
       "6980            Y  \n",
       "6981            Y  \n",
       "\n",
       "[7068 rows x 26 columns]"
      ]
     },
     "execution_count": 405,
     "metadata": {},
     "output_type": "execute_result"
    }
   ],
   "source": [
    "userate_file_path = 'C:\\\\Users\\\\SAMSUNG\\\\Desktop\\\\Green-Car-Charging-Station-Site-Selection\\\\Data\\\\실시간 전기차 충전소 상태정보.csv'\n",
    "df_userate = pd.read_csv(userate_file_path,encoding='cp949')\n",
    "df_userate.sort_values(by=['region_2depth_name','region_3depth_name'])"
   ]
  },
  {
   "cell_type": "code",
   "execution_count": 406,
   "metadata": {},
   "outputs": [],
   "source": [
    "use_rate = df_userate.groupby('statId').sum()\n",
    "high_rate = use_rate[use_rate['stat']>=2].index.tolist()"
   ]
  },
  {
   "cell_type": "code",
   "execution_count": 409,
   "metadata": {},
   "outputs": [
    {
     "data": {
      "text/plain": [
       "53"
      ]
     },
     "execution_count": 409,
     "metadata": {},
     "output_type": "execute_result"
    }
   ],
   "source": [
    "high_rate_dong = []\n",
    "for name in high_rate:\n",
    "    dong = df_userate[df_userate['statId']==name]['region_3depth_name'].values[0]\n",
    "    high_rate_dong.append(dong)\n",
    "high_rate_dong = list(set(high_rate_dong))\n",
    "len(high_rate_dong)"
   ]
  },
  {
   "cell_type": "markdown",
   "metadata": {},
   "source": [
    "### 이용률이 높은 충전소의 변수값들"
   ]
  },
  {
   "cell_type": "code",
   "execution_count": null,
   "metadata": {},
   "outputs": [],
   "source": []
  },
  {
   "cell_type": "markdown",
   "metadata": {},
   "source": [
    "### 수소충전소 수"
   ]
  },
  {
   "cell_type": "code",
   "execution_count": 481,
   "metadata": {},
   "outputs": [],
   "source": [
    "HVCS_file_path = 'C:\\\\Users\\\\SAMSUNG\\\\Desktop\\\\Green-Car-Charging-Station-Site-Selection\\\\Data\\\\부산 수소차 충전소 현황.csv'\n",
    "df_HVCS = pd.read_csv(HVCS_file_path, encoding='cp949')"
   ]
  },
  {
   "cell_type": "code",
   "execution_count": 417,
   "metadata": {},
   "outputs": [
    {
     "data": {
      "text/html": [
       "<div>\n",
       "<style scoped>\n",
       "    .dataframe tbody tr th:only-of-type {\n",
       "        vertical-align: middle;\n",
       "    }\n",
       "\n",
       "    .dataframe tbody tr th {\n",
       "        vertical-align: top;\n",
       "    }\n",
       "\n",
       "    .dataframe thead th {\n",
       "        text-align: right;\n",
       "    }\n",
       "</style>\n",
       "<table border=\"1\" class=\"dataframe\">\n",
       "  <thead>\n",
       "    <tr style=\"text-align: right;\">\n",
       "      <th></th>\n",
       "      <th>충전소</th>\n",
       "      <th>충전기</th>\n",
       "      <th>시</th>\n",
       "      <th>구</th>\n",
       "      <th>주소</th>\n",
       "      <th>위도</th>\n",
       "      <th>경도</th>\n",
       "      <th>하루평균충전횟수</th>\n",
       "      <th>최대 충전 수소차수</th>\n",
       "      <th>공급방식</th>\n",
       "      <th>충전소 설치방식</th>\n",
       "      <th>압축기용량</th>\n",
       "      <th>충전기용량</th>\n",
       "      <th>충전압력</th>\n",
       "      <th>운영시간</th>\n",
       "      <th>평균가동률</th>\n",
       "    </tr>\n",
       "  </thead>\n",
       "  <tbody>\n",
       "    <tr>\n",
       "      <th>0</th>\n",
       "      <td>서부산NK수소충전소</td>\n",
       "      <td>1</td>\n",
       "      <td>부산광역시</td>\n",
       "      <td>강서구</td>\n",
       "      <td>부산광역시 강서구 가락대로 347</td>\n",
       "      <td>35.113171</td>\n",
       "      <td>128.843291</td>\n",
       "      <td>14</td>\n",
       "      <td>67</td>\n",
       "      <td>튜브트레일러</td>\n",
       "      <td>단독</td>\n",
       "      <td>302.63</td>\n",
       "      <td>33.4</td>\n",
       "      <td>700</td>\n",
       "      <td>10</td>\n",
       "      <td>35.0</td>\n",
       "    </tr>\n",
       "    <tr>\n",
       "      <th>1</th>\n",
       "      <td>H부산수소충전소</td>\n",
       "      <td>3</td>\n",
       "      <td>부산광역시</td>\n",
       "      <td>사상구</td>\n",
       "      <td>부산광역시 사상구 학감대로 167</td>\n",
       "      <td>35.145864</td>\n",
       "      <td>128.987651</td>\n",
       "      <td>60</td>\n",
       "      <td>70</td>\n",
       "      <td>천연가스개질</td>\n",
       "      <td>복합</td>\n",
       "      <td>308.00</td>\n",
       "      <td>25.0</td>\n",
       "      <td>700</td>\n",
       "      <td>12</td>\n",
       "      <td>41.6</td>\n",
       "    </tr>\n",
       "    <tr>\n",
       "      <th>2</th>\n",
       "      <td>하이넷부산정관수소충</td>\n",
       "      <td>1</td>\n",
       "      <td>부산광역시</td>\n",
       "      <td>기장군</td>\n",
       "      <td>부산광역시 기장군 정관읍 신정관로 187</td>\n",
       "      <td>35.328714</td>\n",
       "      <td>129.201710</td>\n",
       "      <td>16</td>\n",
       "      <td>60</td>\n",
       "      <td>천연가스개질</td>\n",
       "      <td>복합</td>\n",
       "      <td>NaN</td>\n",
       "      <td>25.0</td>\n",
       "      <td>700</td>\n",
       "      <td>12</td>\n",
       "      <td>33.3</td>\n",
       "    </tr>\n",
       "  </tbody>\n",
       "</table>\n",
       "</div>"
      ],
      "text/plain": [
       "          충전소  충전기      시    구                       주소         위도  \\\n",
       "0  서부산NK수소충전소    1  부산광역시  강서구      부산광역시 강서구 가락대로 347   35.113171   \n",
       "1    H부산수소충전소    3  부산광역시  사상구      부산광역시 사상구 학감대로 167   35.145864   \n",
       "2  하이넷부산정관수소충    1  부산광역시  기장군  부산광역시 기장군 정관읍 신정관로 187   35.328714   \n",
       "\n",
       "           경도  하루평균충전횟수  최대 충전 수소차수    공급방식 충전소 설치방식   압축기용량  충전기용량  충전압력  \\\n",
       "0  128.843291        14          67  튜브트레일러       단독  302.63   33.4   700   \n",
       "1  128.987651        60          70  천연가스개질       복합  308.00   25.0   700   \n",
       "2  129.201710        16          60  천연가스개질       복합     NaN   25.0   700   \n",
       "\n",
       "   운영시간  평균가동률  \n",
       "0    10   35.0  \n",
       "1    12   41.6  \n",
       "2    12   33.3  "
      ]
     },
     "execution_count": 417,
     "metadata": {},
     "output_type": "execute_result"
    }
   ],
   "source": [
    "address_city = []\n",
    "address_gu = []\n",
    "for i in range(df_HVCS.shape[0]):\n",
    "    strings = df_HVCS.iloc[i]['주소'].split()\n",
    "    address_city.append(strings.pop(0))\n",
    "    address_gu.append(strings.pop(0))\n",
    "df_HVCS.insert(2,\"시\",address_city)\n",
    "df_HVCS.insert(3,\"구\",address_gu)    \n",
    "df_HVCS"
   ]
  },
  {
   "cell_type": "markdown",
   "metadata": {},
   "source": [
    "### 수소차충전기당 수소자동차 수 "
   ]
  },
  {
   "cell_type": "code",
   "execution_count": 419,
   "metadata": {},
   "outputs": [
    {
     "data": {
      "text/plain": [
       "307.8"
      ]
     },
     "execution_count": 419,
     "metadata": {},
     "output_type": "execute_result"
    }
   ],
   "source": [
    "# 부산에 5기만 존재하기 때문에 구단위로 구하는 것이 불가능\n",
    "# 부산시의 수소충전기당 수소자동차 수\n",
    "HV_per_charger = vehicle_gu['수소'].sum() / df_HVCS['충전기'].sum()\n",
    "HV_per_charger"
   ]
  },
  {
   "cell_type": "markdown",
   "metadata": {},
   "source": [
    "### 도로 보급률"
   ]
  },
  {
   "cell_type": "code",
   "execution_count": 365,
   "metadata": {},
   "outputs": [
    {
     "data": {
      "text/html": [
       "<div>\n",
       "<style scoped>\n",
       "    .dataframe tbody tr th:only-of-type {\n",
       "        vertical-align: middle;\n",
       "    }\n",
       "\n",
       "    .dataframe tbody tr th {\n",
       "        vertical-align: top;\n",
       "    }\n",
       "\n",
       "    .dataframe thead th {\n",
       "        text-align: right;\n",
       "    }\n",
       "</style>\n",
       "<table border=\"1\" class=\"dataframe\">\n",
       "  <thead>\n",
       "    <tr style=\"text-align: right;\">\n",
       "      <th></th>\n",
       "      <th>행정구</th>\n",
       "      <th>행정동</th>\n",
       "      <th>도로연장(km)</th>\n",
       "      <th>면적(km^2)</th>\n",
       "      <th>도로보급률</th>\n",
       "      <th>도로보급률 지수</th>\n",
       "    </tr>\n",
       "  </thead>\n",
       "  <tbody>\n",
       "    <tr>\n",
       "      <th>0</th>\n",
       "      <td>강서구</td>\n",
       "      <td>가덕도동</td>\n",
       "      <td>63.024042</td>\n",
       "      <td>19.42</td>\n",
       "      <td>7.079431</td>\n",
       "      <td>0.397613</td>\n",
       "    </tr>\n",
       "    <tr>\n",
       "      <th>1</th>\n",
       "      <td>강서구</td>\n",
       "      <td>가락동</td>\n",
       "      <td>50.605329</td>\n",
       "      <td>14.09</td>\n",
       "      <td>8.866390</td>\n",
       "      <td>0.776725</td>\n",
       "    </tr>\n",
       "    <tr>\n",
       "      <th>2</th>\n",
       "      <td>강서구</td>\n",
       "      <td>강동동</td>\n",
       "      <td>28.907008</td>\n",
       "      <td>16.31</td>\n",
       "      <td>3.501386</td>\n",
       "      <td>0.212054</td>\n",
       "    </tr>\n",
       "    <tr>\n",
       "      <th>3</th>\n",
       "      <td>강서구</td>\n",
       "      <td>녹산동</td>\n",
       "      <td>305.938534</td>\n",
       "      <td>58.93</td>\n",
       "      <td>6.654082</td>\n",
       "      <td>0.072362</td>\n",
       "    </tr>\n",
       "    <tr>\n",
       "      <th>4</th>\n",
       "      <td>강서구</td>\n",
       "      <td>대저1동</td>\n",
       "      <td>86.238678</td>\n",
       "      <td>13.66</td>\n",
       "      <td>9.211084</td>\n",
       "      <td>0.491914</td>\n",
       "    </tr>\n",
       "    <tr>\n",
       "      <th>...</th>\n",
       "      <td>...</td>\n",
       "      <td>...</td>\n",
       "      <td>...</td>\n",
       "      <td>...</td>\n",
       "      <td>...</td>\n",
       "      <td>...</td>\n",
       "    </tr>\n",
       "    <tr>\n",
       "      <th>200</th>\n",
       "      <td>해운대구</td>\n",
       "      <td>좌2동</td>\n",
       "      <td>5.592018</td>\n",
       "      <td>0.50</td>\n",
       "      <td>1.406046</td>\n",
       "      <td>0.176767</td>\n",
       "    </tr>\n",
       "    <tr>\n",
       "      <th>201</th>\n",
       "      <td>해운대구</td>\n",
       "      <td>좌3동</td>\n",
       "      <td>7.319492</td>\n",
       "      <td>0.72</td>\n",
       "      <td>2.163909</td>\n",
       "      <td>0.319865</td>\n",
       "    </tr>\n",
       "    <tr>\n",
       "      <th>202</th>\n",
       "      <td>해운대구</td>\n",
       "      <td>좌4동</td>\n",
       "      <td>15.660067</td>\n",
       "      <td>1.80</td>\n",
       "      <td>2.440062</td>\n",
       "      <td>0.190098</td>\n",
       "    </tr>\n",
       "    <tr>\n",
       "      <th>203</th>\n",
       "      <td>해운대구</td>\n",
       "      <td>중1동</td>\n",
       "      <td>21.117586</td>\n",
       "      <td>1.73</td>\n",
       "      <td>3.042892</td>\n",
       "      <td>0.219229</td>\n",
       "    </tr>\n",
       "    <tr>\n",
       "      <th>204</th>\n",
       "      <td>해운대구</td>\n",
       "      <td>중2동</td>\n",
       "      <td>17.039749</td>\n",
       "      <td>1.16</td>\n",
       "      <td>3.981467</td>\n",
       "      <td>0.465150</td>\n",
       "    </tr>\n",
       "  </tbody>\n",
       "</table>\n",
       "<p>205 rows × 6 columns</p>\n",
       "</div>"
      ],
      "text/plain": [
       "      행정구   행정동    도로연장(km)  면적(km^2)     도로보급률  도로보급률 지수\n",
       "0     강서구  가덕도동   63.024042     19.42  7.079431  0.397613\n",
       "1     강서구   가락동   50.605329     14.09  8.866390  0.776725\n",
       "2     강서구   강동동   28.907008     16.31  3.501386  0.212054\n",
       "3     강서구   녹산동  305.938534     58.93  6.654082  0.072362\n",
       "4     강서구  대저1동   86.238678     13.66  9.211084  0.491914\n",
       "..    ...   ...         ...       ...       ...       ...\n",
       "200  해운대구   좌2동    5.592018      0.50  1.406046  0.176767\n",
       "201  해운대구   좌3동    7.319492      0.72  2.163909  0.319865\n",
       "202  해운대구   좌4동   15.660067      1.80  2.440062  0.190098\n",
       "203  해운대구   중1동   21.117586      1.73  3.042892  0.219229\n",
       "204  해운대구   중2동   17.039749      1.16  3.981467  0.465150\n",
       "\n",
       "[205 rows x 6 columns]"
      ]
     },
     "execution_count": 365,
     "metadata": {},
     "output_type": "execute_result"
    }
   ],
   "source": [
    "# 주차장 정보\n",
    "street_supply_file_path = 'C:\\\\Users\\\\SAMSUNG\\\\Desktop\\\\Green-Car-Charging-Station-Site-Selection\\\\Data\\\\도로보급률.csv'\n",
    "df_street_supply = pd.read_csv(street_supply_file_path, encoding='cp949')\n",
    "df_street_supply"
   ]
  },
  {
   "cell_type": "code",
   "execution_count": 366,
   "metadata": {},
   "outputs": [
    {
     "data": {
      "application/vnd.plotly.v1+json": {
       "config": {
        "plotlyServerURL": "https://plot.ly"
       },
       "data": [
        {
         "fill": "tozeroy",
         "line": {
          "color": "rgb(239,85,59)"
         },
         "name": "부적합",
         "type": "scatter",
         "x": [
          -2.1154448187440114,
          -2.0910463862314455,
          -2.06664795371888,
          -2.042249521206314,
          -2.017851088693748,
          -1.9934526561811825,
          -1.9690542236686168,
          -1.944655791156051,
          -1.9202573586434852,
          -1.8958589261309196,
          -1.8714604936183536,
          -1.847062061105788,
          -1.822663628593222,
          -1.7982651960806564,
          -1.7738667635680905,
          -1.7494683310555248,
          -1.7250698985429591,
          -1.7006714660303932,
          -1.6762730335178275,
          -1.6518746010052618,
          -1.627476168492696,
          -1.6030777359801303,
          -1.5786793034675646,
          -1.5542808709549987,
          -1.5298824384424328,
          -1.505484005929867,
          -1.4810855734173014,
          -1.4566871409047355,
          -1.4322887083921698,
          -1.4078902758796041,
          -1.3834918433670382,
          -1.3590934108544726,
          -1.3346949783419069,
          -1.310296545829341,
          -1.285898113316775,
          -1.2614996808042096,
          -1.2371012482916437,
          -1.2127028157790778,
          -1.188304383266512,
          -1.1639059507539464,
          -1.1395075182413805,
          -1.1151090857288148,
          -1.0907106532162492,
          -1.0663122207036833,
          -1.0419137881911176,
          -1.0175153556785517,
          -0.993116923165986,
          -0.9687184906534203,
          -0.9443200581408544,
          -0.9199216256282887,
          -0.8955231931157228,
          -0.8711247606031571,
          -0.8467263280905915,
          -0.8223278955780255,
          -0.7979294630654599,
          -0.7735310305528942,
          -0.7491325980403283,
          -0.7247341655277626,
          -0.7003357330151967,
          -0.675937300502631,
          -0.6515388679900653,
          -0.6271404354774994,
          -0.6027420029649337,
          -0.5783435704523678,
          -0.5539451379398022,
          -0.5295467054272365,
          -0.5051482729146706,
          -0.4807498404021049,
          -0.456351407889539,
          -0.4319529753769733,
          -0.4075545428644076,
          -0.3831561103518417,
          -0.35875767783927603,
          -0.33435924532671013,
          -0.30996081281414445,
          -0.28556238030157877,
          -0.26116394778901286,
          -0.23676551527644718,
          -0.2123670827638815,
          -0.1879686502513156,
          -0.1635702177387499,
          -0.139171785226184,
          -0.11477335271361833,
          -0.09037492020105242,
          -0.06597648768848696,
          -0.04157805517592106,
          -0.017179622663355154,
          0.007218809849210306,
          0.03161724236177621,
          0.056015674874342114,
          0.08041410738690802,
          0.10481253989947348,
          0.12921097241203938,
          0.1536094049246053,
          0.17800783743717075,
          0.20240626994973665,
          0.22680470246230255,
          0.251203134974868,
          0.2756015674874339,
          0.3
         ],
         "y": [
          0.0657375453785563,
          0.06684310632371653,
          0.06795821989600397,
          0.06908274633571665,
          0.07021653977397804,
          0.07135944820989833,
          0.07251131349147052,
          0.07367197130027865,
          0.07484125114009162,
          0.07601897632941552,
          0.07720496399807295,
          0.07839902508787643,
          0.07960096435745975,
          0.08081058039132823,
          0.08202766561318561,
          0.08325200630359272,
          0.0844833826220096,
          0.08572156863326899,
          0.08696633233852627,
          0.08821743571072736,
          0.08947463473463187,
          0.09073767945142577,
          0.09200631400795398,
          0.0932802767105981,
          0.09455930008382304,
          0.09584311093340957,
          0.09713143041438745,
          0.09842397410367892,
          0.09972045207745786,
          0.10102056899322655,
          0.10232402417660569,
          0.10363051171283139,
          0.10493972054294597,
          0.10625133456466661,
          0.10756503273790981,
          0.10888048919494643,
          0.11019737335515664,
          0.11151535004434865,
          0.11283407961860252,
          0.11415321809259373,
          0.11547241727234643,
          0.11679132489236362,
          0.11810958475707413,
          0.11942683688653313,
          0.12074271766630819,
          0.12205686000147717,
          0.12336889347466086,
          0.12467844450800773,
          0.1259851365290436,
          0.12728859014029514,
          0.12858842329259107,
          0.12988425146194021,
          0.13117568782988218,
          0.13246234346720082,
          0.13374382752088748,
          0.1350197474042361,
          0.13628970898994877,
          0.1375533168061256,
          0.13881017423500963,
          0.14005988371435327,
          0.14130204694126888,
          0.14253626507842315,
          0.14376213896243095,
          0.14497926931430075,
          0.14618725695178159,
          0.1473857030034573,
          0.14857420912443103,
          0.14975237771344097,
          0.1509198121312445,
          0.1520761169201069,
          0.15322089802422617,
          0.15435376301092607,
          0.15547432129244515,
          0.15658218434814888,
          0.15767696594699032,
          0.15875828237004222,
          0.1598257526329239,
          0.1608789987079429,
          0.16191764574577253,
          0.16294132229648414,
          0.16394966052975313,
          0.16494229645405692,
          0.16591887013468315,
          0.1668790259103663,
          0.16782241260837072,
          0.16874868375783922,
          0.16965749780122577,
          0.17054851830363307,
          0.17142141415987522,
          0.1722758597990879,
          0.17311153538670948,
          0.17392812702365784,
          0.17472532694252976,
          0.17550283370065137,
          0.17626035236981039,
          0.17699759472250343,
          0.17771427941453322,
          0.17841013216379514,
          0.17908488592509275,
          0.17973828106082781
         ]
        },
        {
         "fill": "tozeroy",
         "line": {
          "color": "rgb(100,110,250)"
         },
         "name": "적합",
         "type": "scatter",
         "x": [
          0.3,
          0.49379780838383835,
          0.6875956167676767,
          0.8813934251515152,
          1.0751912335353535,
          1.2689890419191918,
          1.4627868503030304,
          1.6565846586868687,
          1.850382467070707,
          2.0441802754545453,
          2.2379780838383834,
          2.431775892222222,
          2.6255737006060604,
          2.8193715089898985,
          3.013169317373737,
          3.206967125757575,
          3.4007649341414137,
          3.594562742525252,
          3.7883605509090903,
          3.982158359292929,
          4.175956167676767,
          4.369753976060606,
          4.563551784444444,
          4.757349592828282,
          4.951147401212121,
          5.144945209595959,
          5.338743017979797,
          5.532540826363635,
          5.726338634747474,
          5.920136443131312,
          6.1139342515151505,
          6.307732059898989,
          6.5015298682828275,
          6.695327676666666,
          6.889125485050505,
          7.082923293434343,
          7.276721101818181,
          7.47051891020202,
          7.664316718585858,
          7.858114526969696,
          8.051912335353535,
          8.245710143737373,
          8.439507952121213,
          8.633305760505051,
          8.827103568888889,
          9.020901377272727,
          9.214699185656565,
          9.408496994040403,
          9.602294802424243,
          9.796092610808081,
          9.98989041919192,
          10.183688227575757,
          10.377486035959596,
          10.571283844343434,
          10.765081652727272,
          10.958879461111112,
          11.15267726949495,
          11.346475077878788,
          11.540272886262626,
          11.734070694646464,
          11.927868503030302,
          12.121666311414142,
          12.31546411979798,
          12.509261928181818,
          12.703059736565656,
          12.896857544949494,
          13.090655353333332,
          13.28445316171717,
          13.47825097010101,
          13.672048778484848,
          13.865846586868686,
          14.059644395252525,
          14.253442203636363,
          14.4472400120202,
          14.64103782040404,
          14.834835628787879,
          15.028633437171717,
          15.222431245555555,
          15.416229053939393,
          15.610026862323231,
          15.803824670707069,
          15.997622479090909,
          16.191420287474745,
          16.385218095858583,
          16.579015904242425,
          16.772813712626263,
          16.9666115210101,
          17.16040932939394,
          17.354207137777777,
          17.548004946161615,
          17.741802754545454,
          17.93560056292929,
          18.12939837131313,
          18.323196179696968,
          18.516993988080806,
          18.710791796464644,
          18.904589604848486,
          19.098387413232324,
          19.292185221616162,
          19.48598303
         ],
         "y": [
          0.17973828106082781,
          0.1841415679018525,
          0.18707607437961024,
          0.18846895305290745,
          0.18828535723351175,
          0.18652988992063294,
          0.18324641199754263,
          0.17851622084843152,
          0.17245470499111767,
          0.16520666690945995,
          0.15694057870243647,
          0.14784208840964774,
          0.13810712558616495,
          0.12793496148817918,
          0.11752156269521989,
          0.10705353958608947,
          0.09670293679039499,
          0.08662304663166857,
          0.07694535430685781,
          0.06777765078830889,
          0.0592032814022543,
          0.05128143907363721,
          0.04404836451225081,
          0.03751928302215248,
          0.03169088969860487,
          0.026544190882522523,
          0.022047518225450962,
          0.01815955021286762,
          0.014832201717407385,
          0.012013272202856501,
          0.009648774811319103,
          0.007684899323839472,
          0.006069589960537672,
          0.004753742811137315,
          0.003692046560075102,
          0.0028435038162387192,
          0.002171678942633816,
          0.0016447223110596988,
          0.0012352211120146876,
          0.0009199240789215977,
          0.0006793826097708284,
          0.0004975446079337979,
          0.0003613306319633265,
          0.00026021522061726507,
          0.00018582997557069076,
          0.00013159942821922764,
          0.00009241604815154733,
          0.00006435702252770632,
          0.00004444261979399877,
          0.000030433963735230032,
          0.00002066676706037306,
          0.000013916875074641313,
          0.00000929321686192445,
          0.000006153831114821689,
          0.0000040409198228484355,
          0.000002631298101650129,
          0.0000016990847028950315,
          0.0000010879656055816356,
          6.908288415972347e-7,
          4.349916437006933e-7,
          2.716104819377651e-7,
          1.6817726939032737e-7,
          1.0326264049492922e-7,
          6.287446663596478e-8,
          3.7963003108682193e-8,
          2.2730132411893833e-8,
          1.3495796763035302e-8,
          7.946030942515353e-9,
          4.639349950227403e-9,
          2.6860814192494432e-9,
          1.5421846318724911e-9,
          8.780287325374008e-10,
          4.957197745921876e-10,
          2.7753573994594194e-10,
          1.5408371846426397e-10,
          8.483005373776132e-11,
          4.631246448018732e-11,
          2.5072705583229626e-11,
          1.346045276541139e-11,
          7.165942093320751e-12,
          3.783049979982195e-12,
          1.9804597586574735e-12,
          1.0281231170116758e-12,
          5.292725674134324e-13,
          2.7018970923503544e-13,
          1.3677709695661627e-13,
          6.866147332418351e-14,
          3.4179681641025424e-14,
          1.687244678108747e-14,
          8.259300725702023e-15,
          4.009254730238675e-15,
          1.9299194359807148e-15,
          9.212338090826688e-16,
          4.3606950308800266e-16,
          2.0469004451857978e-16,
          9.527805536760838e-17,
          4.397888427860606e-17,
          2.0130320466255006e-17,
          9.13718311948072e-18,
          4.112719851264201e-18
         ]
        }
       ],
       "layout": {
        "annotations": [
         {
          "bordercolor": "rgb(239,85,59)",
          "borderwidth": 2,
          "font": {
           "color": "rgb(239,85,59)",
           "size": 15
          },
          "showarrow": false,
          "text": "0.305",
          "x": 0.3,
          "xshift": -40,
          "y": 0.17973828106082781,
          "yshift": -100
         },
         {
          "bordercolor": "rgb(100,110,250)",
          "borderwidth": 2,
          "font": {
           "color": "rgb(100,110,250)",
           "size": 15
          },
          "showarrow": false,
          "text": "0.695",
          "x": 0.3,
          "xshift": 40,
          "y": 0.17973828106082781,
          "yshift": -100
         }
        ],
        "template": {
         "data": {
          "bar": [
           {
            "error_x": {
             "color": "#2a3f5f"
            },
            "error_y": {
             "color": "#2a3f5f"
            },
            "marker": {
             "line": {
              "color": "#E5ECF6",
              "width": 0.5
             },
             "pattern": {
              "fillmode": "overlay",
              "size": 10,
              "solidity": 0.2
             }
            },
            "type": "bar"
           }
          ],
          "barpolar": [
           {
            "marker": {
             "line": {
              "color": "#E5ECF6",
              "width": 0.5
             },
             "pattern": {
              "fillmode": "overlay",
              "size": 10,
              "solidity": 0.2
             }
            },
            "type": "barpolar"
           }
          ],
          "carpet": [
           {
            "aaxis": {
             "endlinecolor": "#2a3f5f",
             "gridcolor": "white",
             "linecolor": "white",
             "minorgridcolor": "white",
             "startlinecolor": "#2a3f5f"
            },
            "baxis": {
             "endlinecolor": "#2a3f5f",
             "gridcolor": "white",
             "linecolor": "white",
             "minorgridcolor": "white",
             "startlinecolor": "#2a3f5f"
            },
            "type": "carpet"
           }
          ],
          "choropleth": [
           {
            "colorbar": {
             "outlinewidth": 0,
             "ticks": ""
            },
            "type": "choropleth"
           }
          ],
          "contour": [
           {
            "colorbar": {
             "outlinewidth": 0,
             "ticks": ""
            },
            "colorscale": [
             [
              0,
              "#0d0887"
             ],
             [
              0.1111111111111111,
              "#46039f"
             ],
             [
              0.2222222222222222,
              "#7201a8"
             ],
             [
              0.3333333333333333,
              "#9c179e"
             ],
             [
              0.4444444444444444,
              "#bd3786"
             ],
             [
              0.5555555555555556,
              "#d8576b"
             ],
             [
              0.6666666666666666,
              "#ed7953"
             ],
             [
              0.7777777777777778,
              "#fb9f3a"
             ],
             [
              0.8888888888888888,
              "#fdca26"
             ],
             [
              1,
              "#f0f921"
             ]
            ],
            "type": "contour"
           }
          ],
          "contourcarpet": [
           {
            "colorbar": {
             "outlinewidth": 0,
             "ticks": ""
            },
            "type": "contourcarpet"
           }
          ],
          "heatmap": [
           {
            "colorbar": {
             "outlinewidth": 0,
             "ticks": ""
            },
            "colorscale": [
             [
              0,
              "#0d0887"
             ],
             [
              0.1111111111111111,
              "#46039f"
             ],
             [
              0.2222222222222222,
              "#7201a8"
             ],
             [
              0.3333333333333333,
              "#9c179e"
             ],
             [
              0.4444444444444444,
              "#bd3786"
             ],
             [
              0.5555555555555556,
              "#d8576b"
             ],
             [
              0.6666666666666666,
              "#ed7953"
             ],
             [
              0.7777777777777778,
              "#fb9f3a"
             ],
             [
              0.8888888888888888,
              "#fdca26"
             ],
             [
              1,
              "#f0f921"
             ]
            ],
            "type": "heatmap"
           }
          ],
          "heatmapgl": [
           {
            "colorbar": {
             "outlinewidth": 0,
             "ticks": ""
            },
            "colorscale": [
             [
              0,
              "#0d0887"
             ],
             [
              0.1111111111111111,
              "#46039f"
             ],
             [
              0.2222222222222222,
              "#7201a8"
             ],
             [
              0.3333333333333333,
              "#9c179e"
             ],
             [
              0.4444444444444444,
              "#bd3786"
             ],
             [
              0.5555555555555556,
              "#d8576b"
             ],
             [
              0.6666666666666666,
              "#ed7953"
             ],
             [
              0.7777777777777778,
              "#fb9f3a"
             ],
             [
              0.8888888888888888,
              "#fdca26"
             ],
             [
              1,
              "#f0f921"
             ]
            ],
            "type": "heatmapgl"
           }
          ],
          "histogram": [
           {
            "marker": {
             "pattern": {
              "fillmode": "overlay",
              "size": 10,
              "solidity": 0.2
             }
            },
            "type": "histogram"
           }
          ],
          "histogram2d": [
           {
            "colorbar": {
             "outlinewidth": 0,
             "ticks": ""
            },
            "colorscale": [
             [
              0,
              "#0d0887"
             ],
             [
              0.1111111111111111,
              "#46039f"
             ],
             [
              0.2222222222222222,
              "#7201a8"
             ],
             [
              0.3333333333333333,
              "#9c179e"
             ],
             [
              0.4444444444444444,
              "#bd3786"
             ],
             [
              0.5555555555555556,
              "#d8576b"
             ],
             [
              0.6666666666666666,
              "#ed7953"
             ],
             [
              0.7777777777777778,
              "#fb9f3a"
             ],
             [
              0.8888888888888888,
              "#fdca26"
             ],
             [
              1,
              "#f0f921"
             ]
            ],
            "type": "histogram2d"
           }
          ],
          "histogram2dcontour": [
           {
            "colorbar": {
             "outlinewidth": 0,
             "ticks": ""
            },
            "colorscale": [
             [
              0,
              "#0d0887"
             ],
             [
              0.1111111111111111,
              "#46039f"
             ],
             [
              0.2222222222222222,
              "#7201a8"
             ],
             [
              0.3333333333333333,
              "#9c179e"
             ],
             [
              0.4444444444444444,
              "#bd3786"
             ],
             [
              0.5555555555555556,
              "#d8576b"
             ],
             [
              0.6666666666666666,
              "#ed7953"
             ],
             [
              0.7777777777777778,
              "#fb9f3a"
             ],
             [
              0.8888888888888888,
              "#fdca26"
             ],
             [
              1,
              "#f0f921"
             ]
            ],
            "type": "histogram2dcontour"
           }
          ],
          "mesh3d": [
           {
            "colorbar": {
             "outlinewidth": 0,
             "ticks": ""
            },
            "type": "mesh3d"
           }
          ],
          "parcoords": [
           {
            "line": {
             "colorbar": {
              "outlinewidth": 0,
              "ticks": ""
             }
            },
            "type": "parcoords"
           }
          ],
          "pie": [
           {
            "automargin": true,
            "type": "pie"
           }
          ],
          "scatter": [
           {
            "marker": {
             "colorbar": {
              "outlinewidth": 0,
              "ticks": ""
             }
            },
            "type": "scatter"
           }
          ],
          "scatter3d": [
           {
            "line": {
             "colorbar": {
              "outlinewidth": 0,
              "ticks": ""
             }
            },
            "marker": {
             "colorbar": {
              "outlinewidth": 0,
              "ticks": ""
             }
            },
            "type": "scatter3d"
           }
          ],
          "scattercarpet": [
           {
            "marker": {
             "colorbar": {
              "outlinewidth": 0,
              "ticks": ""
             }
            },
            "type": "scattercarpet"
           }
          ],
          "scattergeo": [
           {
            "marker": {
             "colorbar": {
              "outlinewidth": 0,
              "ticks": ""
             }
            },
            "type": "scattergeo"
           }
          ],
          "scattergl": [
           {
            "marker": {
             "colorbar": {
              "outlinewidth": 0,
              "ticks": ""
             }
            },
            "type": "scattergl"
           }
          ],
          "scattermapbox": [
           {
            "marker": {
             "colorbar": {
              "outlinewidth": 0,
              "ticks": ""
             }
            },
            "type": "scattermapbox"
           }
          ],
          "scatterpolar": [
           {
            "marker": {
             "colorbar": {
              "outlinewidth": 0,
              "ticks": ""
             }
            },
            "type": "scatterpolar"
           }
          ],
          "scatterpolargl": [
           {
            "marker": {
             "colorbar": {
              "outlinewidth": 0,
              "ticks": ""
             }
            },
            "type": "scatterpolargl"
           }
          ],
          "scatterternary": [
           {
            "marker": {
             "colorbar": {
              "outlinewidth": 0,
              "ticks": ""
             }
            },
            "type": "scatterternary"
           }
          ],
          "surface": [
           {
            "colorbar": {
             "outlinewidth": 0,
             "ticks": ""
            },
            "colorscale": [
             [
              0,
              "#0d0887"
             ],
             [
              0.1111111111111111,
              "#46039f"
             ],
             [
              0.2222222222222222,
              "#7201a8"
             ],
             [
              0.3333333333333333,
              "#9c179e"
             ],
             [
              0.4444444444444444,
              "#bd3786"
             ],
             [
              0.5555555555555556,
              "#d8576b"
             ],
             [
              0.6666666666666666,
              "#ed7953"
             ],
             [
              0.7777777777777778,
              "#fb9f3a"
             ],
             [
              0.8888888888888888,
              "#fdca26"
             ],
             [
              1,
              "#f0f921"
             ]
            ],
            "type": "surface"
           }
          ],
          "table": [
           {
            "cells": {
             "fill": {
              "color": "#EBF0F8"
             },
             "line": {
              "color": "white"
             }
            },
            "header": {
             "fill": {
              "color": "#C8D4E3"
             },
             "line": {
              "color": "white"
             }
            },
            "type": "table"
           }
          ]
         },
         "layout": {
          "annotationdefaults": {
           "arrowcolor": "#2a3f5f",
           "arrowhead": 0,
           "arrowwidth": 1
          },
          "autotypenumbers": "strict",
          "coloraxis": {
           "colorbar": {
            "outlinewidth": 0,
            "ticks": ""
           }
          },
          "colorscale": {
           "diverging": [
            [
             0,
             "#8e0152"
            ],
            [
             0.1,
             "#c51b7d"
            ],
            [
             0.2,
             "#de77ae"
            ],
            [
             0.3,
             "#f1b6da"
            ],
            [
             0.4,
             "#fde0ef"
            ],
            [
             0.5,
             "#f7f7f7"
            ],
            [
             0.6,
             "#e6f5d0"
            ],
            [
             0.7,
             "#b8e186"
            ],
            [
             0.8,
             "#7fbc41"
            ],
            [
             0.9,
             "#4d9221"
            ],
            [
             1,
             "#276419"
            ]
           ],
           "sequential": [
            [
             0,
             "#0d0887"
            ],
            [
             0.1111111111111111,
             "#46039f"
            ],
            [
             0.2222222222222222,
             "#7201a8"
            ],
            [
             0.3333333333333333,
             "#9c179e"
            ],
            [
             0.4444444444444444,
             "#bd3786"
            ],
            [
             0.5555555555555556,
             "#d8576b"
            ],
            [
             0.6666666666666666,
             "#ed7953"
            ],
            [
             0.7777777777777778,
             "#fb9f3a"
            ],
            [
             0.8888888888888888,
             "#fdca26"
            ],
            [
             1,
             "#f0f921"
            ]
           ],
           "sequentialminus": [
            [
             0,
             "#0d0887"
            ],
            [
             0.1111111111111111,
             "#46039f"
            ],
            [
             0.2222222222222222,
             "#7201a8"
            ],
            [
             0.3333333333333333,
             "#9c179e"
            ],
            [
             0.4444444444444444,
             "#bd3786"
            ],
            [
             0.5555555555555556,
             "#d8576b"
            ],
            [
             0.6666666666666666,
             "#ed7953"
            ],
            [
             0.7777777777777778,
             "#fb9f3a"
            ],
            [
             0.8888888888888888,
             "#fdca26"
            ],
            [
             1,
             "#f0f921"
            ]
           ]
          },
          "colorway": [
           "#636efa",
           "#EF553B",
           "#00cc96",
           "#ab63fa",
           "#FFA15A",
           "#19d3f3",
           "#FF6692",
           "#B6E880",
           "#FF97FF",
           "#FECB52"
          ],
          "font": {
           "color": "#2a3f5f"
          },
          "geo": {
           "bgcolor": "white",
           "lakecolor": "white",
           "landcolor": "#E5ECF6",
           "showlakes": true,
           "showland": true,
           "subunitcolor": "white"
          },
          "hoverlabel": {
           "align": "left"
          },
          "hovermode": "closest",
          "mapbox": {
           "style": "light"
          },
          "paper_bgcolor": "white",
          "plot_bgcolor": "#E5ECF6",
          "polar": {
           "angularaxis": {
            "gridcolor": "white",
            "linecolor": "white",
            "ticks": ""
           },
           "bgcolor": "#E5ECF6",
           "radialaxis": {
            "gridcolor": "white",
            "linecolor": "white",
            "ticks": ""
           }
          },
          "scene": {
           "xaxis": {
            "backgroundcolor": "#E5ECF6",
            "gridcolor": "white",
            "gridwidth": 2,
            "linecolor": "white",
            "showbackground": true,
            "ticks": "",
            "zerolinecolor": "white"
           },
           "yaxis": {
            "backgroundcolor": "#E5ECF6",
            "gridcolor": "white",
            "gridwidth": 2,
            "linecolor": "white",
            "showbackground": true,
            "ticks": "",
            "zerolinecolor": "white"
           },
           "zaxis": {
            "backgroundcolor": "#E5ECF6",
            "gridcolor": "white",
            "gridwidth": 2,
            "linecolor": "white",
            "showbackground": true,
            "ticks": "",
            "zerolinecolor": "white"
           }
          },
          "shapedefaults": {
           "line": {
            "color": "#2a3f5f"
           }
          },
          "ternary": {
           "aaxis": {
            "gridcolor": "white",
            "linecolor": "white",
            "ticks": ""
           },
           "baxis": {
            "gridcolor": "white",
            "linecolor": "white",
            "ticks": ""
           },
           "bgcolor": "#E5ECF6",
           "caxis": {
            "gridcolor": "white",
            "linecolor": "white",
            "ticks": ""
           }
          },
          "title": {
           "x": 0.05
          },
          "xaxis": {
           "automargin": true,
           "gridcolor": "white",
           "linecolor": "white",
           "ticks": "",
           "title": {
            "standoff": 15
           },
           "zerolinecolor": "white",
           "zerolinewidth": 2
          },
          "yaxis": {
           "automargin": true,
           "gridcolor": "white",
           "linecolor": "white",
           "ticks": "",
           "title": {
            "standoff": 15
           },
           "zerolinecolor": "white",
           "zerolinewidth": 2
          }
         }
        },
        "yaxis": {
         "visible": false
        }
       }
      }
     },
     "metadata": {},
     "output_type": "display_data"
    }
   ],
   "source": [
    "street_supply_pro, street_supply_pro_negative = cal_norm(df_street_supply['도로보급률 지수'].mean(),\n",
    "                                                         df_street_supply['도로보급률 지수'].std(),\n",
    "                                                         df_street_supply['도로보급률 지수'].min(),\n",
    "                                                         df_street_supply['도로보급률 지수'].max(),\n",
    "                                                         street_supply_standard,\n",
    "                                                         False)"
   ]
  },
  {
   "cell_type": "markdown",
   "metadata": {},
   "source": [
    "## 상위 요소 - 경제적 요소"
   ]
  },
  {
   "cell_type": "markdown",
   "metadata": {},
   "source": [
    "### 전기차 충전기 비용"
   ]
  },
  {
   "cell_type": "code",
   "execution_count": 369,
   "metadata": {},
   "outputs": [
    {
     "data": {
      "text/html": [
       "<div>\n",
       "<style scoped>\n",
       "    .dataframe tbody tr th:only-of-type {\n",
       "        vertical-align: middle;\n",
       "    }\n",
       "\n",
       "    .dataframe tbody tr th {\n",
       "        vertical-align: top;\n",
       "    }\n",
       "\n",
       "    .dataframe thead th {\n",
       "        text-align: right;\n",
       "    }\n",
       "</style>\n",
       "<table border=\"1\" class=\"dataframe\">\n",
       "  <thead>\n",
       "    <tr style=\"text-align: right;\">\n",
       "      <th></th>\n",
       "      <th>모델명</th>\n",
       "      <th>타입</th>\n",
       "      <th>충전기가격</th>\n",
       "      <th>전격용량</th>\n",
       "      <th>충전기</th>\n",
       "    </tr>\n",
       "  </thead>\n",
       "  <tbody>\n",
       "    <tr>\n",
       "      <th>0</th>\n",
       "      <td>JC-6511PS-B-PO-BC</td>\n",
       "      <td>벽부착형 또는 스탠드형(폴 포함)</td>\n",
       "      <td>1800000</td>\n",
       "      <td>7 kW</td>\n",
       "      <td>완속</td>\n",
       "    </tr>\n",
       "    <tr>\n",
       "      <th>1</th>\n",
       "      <td>JEV-AW-107</td>\n",
       "      <td>벽부착형</td>\n",
       "      <td>2000000</td>\n",
       "      <td>7 kWh</td>\n",
       "      <td>완속</td>\n",
       "    </tr>\n",
       "    <tr>\n",
       "      <th>2</th>\n",
       "      <td>JEV-AS-107</td>\n",
       "      <td>스탠드형</td>\n",
       "      <td>2000000</td>\n",
       "      <td>7 kWh</td>\n",
       "      <td>완속</td>\n",
       "    </tr>\n",
       "    <tr>\n",
       "      <th>3</th>\n",
       "      <td>CS 100X 2BC01W</td>\n",
       "      <td>벽부착형</td>\n",
       "      <td>1452080</td>\n",
       "      <td>7 kWh</td>\n",
       "      <td>완속</td>\n",
       "    </tr>\n",
       "    <tr>\n",
       "      <th>4</th>\n",
       "      <td>CS 500A 2BC04W</td>\n",
       "      <td>벽부착형</td>\n",
       "      <td>1889248</td>\n",
       "      <td>7 kWh</td>\n",
       "      <td>완속</td>\n",
       "    </tr>\n",
       "    <tr>\n",
       "      <th>5</th>\n",
       "      <td>CS 200A 2BC03C</td>\n",
       "      <td>스탠드형</td>\n",
       "      <td>2018074</td>\n",
       "      <td>7 kWh</td>\n",
       "      <td>완속</td>\n",
       "    </tr>\n",
       "    <tr>\n",
       "      <th>6</th>\n",
       "      <td>CS 200A 3BC01C</td>\n",
       "      <td>스탠드형</td>\n",
       "      <td>3435449</td>\n",
       "      <td>14 kWh</td>\n",
       "      <td>완속</td>\n",
       "    </tr>\n",
       "    <tr>\n",
       "      <th>7</th>\n",
       "      <td>UK-NC7W-TCE</td>\n",
       "      <td>벽부착형 또는 스탠드형(폴 포함)</td>\n",
       "      <td>1800000</td>\n",
       "      <td>7 kW</td>\n",
       "      <td>완속</td>\n",
       "    </tr>\n",
       "    <tr>\n",
       "      <th>8</th>\n",
       "      <td>PECOH-HSC</td>\n",
       "      <td>벽부착형 또는 스탠드형(폴 포함)</td>\n",
       "      <td>770000</td>\n",
       "      <td>7 kW</td>\n",
       "      <td>완속</td>\n",
       "    </tr>\n",
       "    <tr>\n",
       "      <th>9</th>\n",
       "      <td>SPVseries</td>\n",
       "      <td>스탠드형</td>\n",
       "      <td>27500000</td>\n",
       "      <td>100kW</td>\n",
       "      <td>급속</td>\n",
       "    </tr>\n",
       "    <tr>\n",
       "      <th>10</th>\n",
       "      <td>SSEVC21F-BCCI100KW</td>\n",
       "      <td>스탠드형</td>\n",
       "      <td>58000000</td>\n",
       "      <td>100kW</td>\n",
       "      <td>급속</td>\n",
       "    </tr>\n",
       "    <tr>\n",
       "      <th>11</th>\n",
       "      <td>SSEVC21F-BCCI200KW</td>\n",
       "      <td>스탠드형</td>\n",
       "      <td>40000000</td>\n",
       "      <td>200kW</td>\n",
       "      <td>급속</td>\n",
       "    </tr>\n",
       "    <tr>\n",
       "      <th>12</th>\n",
       "      <td>FC100-DCM-PS</td>\n",
       "      <td>스탠드형</td>\n",
       "      <td>26000000</td>\n",
       "      <td>100kW</td>\n",
       "      <td>급속</td>\n",
       "    </tr>\n",
       "    <tr>\n",
       "      <th>13</th>\n",
       "      <td>EVD100J-DBB</td>\n",
       "      <td>스탠드형</td>\n",
       "      <td>48000000</td>\n",
       "      <td>100kW</td>\n",
       "      <td>급속</td>\n",
       "    </tr>\n",
       "    <tr>\n",
       "      <th>14</th>\n",
       "      <td>FC50K-CC</td>\n",
       "      <td>스탠드형</td>\n",
       "      <td>18000000</td>\n",
       "      <td>50kW</td>\n",
       "      <td>급속</td>\n",
       "    </tr>\n",
       "    <tr>\n",
       "      <th>15</th>\n",
       "      <td>CF-100M</td>\n",
       "      <td>스탠드형</td>\n",
       "      <td>21500000</td>\n",
       "      <td>50kW</td>\n",
       "      <td>급속</td>\n",
       "    </tr>\n",
       "    <tr>\n",
       "      <th>16</th>\n",
       "      <td>SVI-OF50T</td>\n",
       "      <td>스탠드형</td>\n",
       "      <td>16900000</td>\n",
       "      <td>50kW</td>\n",
       "      <td>급속</td>\n",
       "    </tr>\n",
       "    <tr>\n",
       "      <th>17</th>\n",
       "      <td>CF-200M(1CH)</td>\n",
       "      <td>스탠드형</td>\n",
       "      <td>30000000</td>\n",
       "      <td>100kW</td>\n",
       "      <td>급속</td>\n",
       "    </tr>\n",
       "    <tr>\n",
       "      <th>18</th>\n",
       "      <td>CF-200M(2CH)</td>\n",
       "      <td>스탠드형</td>\n",
       "      <td>33500000</td>\n",
       "      <td>100kW</td>\n",
       "      <td>급속</td>\n",
       "    </tr>\n",
       "  </tbody>\n",
       "</table>\n",
       "</div>"
      ],
      "text/plain": [
       "                   모델명                  타입     충전기가격    전격용량 충전기\n",
       "0    JC-6511PS-B-PO-BC  벽부착형 또는 스탠드형(폴 포함)   1800000    7 kW  완속\n",
       "1           JEV-AW-107                벽부착형   2000000   7 kWh  완속\n",
       "2           JEV-AS-107                스탠드형   2000000   7 kWh  완속\n",
       "3       CS 100X 2BC01W                벽부착형   1452080   7 kWh  완속\n",
       "4       CS 500A 2BC04W                벽부착형   1889248   7 kWh  완속\n",
       "5       CS 200A 2BC03C                스탠드형   2018074   7 kWh  완속\n",
       "6       CS 200A 3BC01C                스탠드형   3435449  14 kWh  완속\n",
       "7          UK-NC7W-TCE  벽부착형 또는 스탠드형(폴 포함)   1800000    7 kW  완속\n",
       "8            PECOH-HSC  벽부착형 또는 스탠드형(폴 포함)    770000    7 kW  완속\n",
       "9            SPVseries                스탠드형  27500000   100kW  급속\n",
       "10  SSEVC21F-BCCI100KW                스탠드형  58000000   100kW  급속\n",
       "11  SSEVC21F-BCCI200KW                스탠드형  40000000   200kW  급속\n",
       "12        FC100-DCM-PS                스탠드형  26000000   100kW  급속\n",
       "13         EVD100J-DBB                스탠드형  48000000   100kW  급속\n",
       "14            FC50K-CC                스탠드형  18000000    50kW  급속\n",
       "15             CF-100M                스탠드형  21500000    50kW  급속\n",
       "16           SVI-OF50T                스탠드형  16900000    50kW  급속\n",
       "17        CF-200M(1CH)                스탠드형  30000000   100kW  급속\n",
       "18        CF-200M(2CH)                스탠드형  33500000   100kW  급속"
      ]
     },
     "execution_count": 369,
     "metadata": {},
     "output_type": "execute_result"
    }
   ],
   "source": [
    "EVCS_cost_file_path = 'C:\\\\Users\\\\SAMSUNG\\\\Desktop\\\\Green-Car-Charging-Station-Site-Selection\\\\Data\\\\전기차 충전기 가격.csv'\n",
    "df_EVCS_cost = pd.read_csv(EVCS_cost_file_path, encoding='cp949')\n",
    "df_EVCS_cost"
   ]
  },
  {
   "cell_type": "code",
   "execution_count": 370,
   "metadata": {},
   "outputs": [
    {
     "data": {
      "application/vnd.plotly.v1+json": {
       "config": {
        "plotlyServerURL": "https://plot.ly"
       },
       "data": [
        {
         "fill": "tozeroy",
         "line": {
          "color": "rgb(100,110,250)"
         },
         "name": "적합",
         "type": "scatter",
         "x": [
          3597017.878184857,
          3914219.7177991513,
          4231421.557413446,
          4548623.39702774,
          4865825.236642035,
          5183027.076256329,
          5500228.915870624,
          5817430.755484918,
          6134632.595099213,
          6451834.434713507,
          6769036.274327802,
          7086238.113942096,
          7403439.95355639,
          7720641.793170684,
          8037843.6327849785,
          8355045.472399273,
          8672247.312013566,
          8989449.151627861,
          9306650.991242155,
          9623852.83085645,
          9941054.670470744,
          10258256.510085039,
          10575458.349699333,
          10892660.189313628,
          11209862.028927922,
          11527063.868542217,
          11844265.708156511,
          12161467.547770806,
          12478669.3873851,
          12795871.226999395,
          13113073.066613689,
          13430274.906227984,
          13747476.745842278,
          14064678.585456572,
          14381880.425070867,
          14699082.264685161,
          15016284.104299456,
          15333485.94391375,
          15650687.783528045,
          15967889.62314234,
          16285091.462756634,
          16602293.302370928,
          16919495.141985223,
          17236696.981599517,
          17553898.82121381,
          17871100.660828106,
          18188302.5004424,
          18505504.340056695,
          18822706.17967099,
          19139908.019285284,
          19457109.85889958,
          19774311.698513873,
          20091513.538128167,
          20408715.37774246,
          20725917.217356756,
          21043119.05697105,
          21360320.896585345,
          21677522.73619964,
          21994724.575813934,
          22311926.41542823,
          22629128.255042523,
          22946330.094656818,
          23263531.934271112,
          23580733.773885407,
          23897935.6134997,
          24215137.453113995,
          24532339.29272829,
          24849541.132342584,
          25166742.97195688,
          25483944.811571173,
          25801146.651185468,
          26118348.490799762,
          26435550.330414057,
          26752752.17002835,
          27069954.009642646,
          27387155.84925694,
          27704357.688871235,
          28021559.52848553,
          28338761.368099824,
          28655963.207714118,
          28973165.047328413,
          29290366.886942707,
          29607568.726557,
          29924770.566171296,
          30241972.40578559,
          30559174.245399885,
          30876376.08501418,
          31193577.924628474,
          31510779.76424277,
          31827981.603857063,
          32145183.443471357,
          32462385.28308565,
          32779587.122699946,
          33096788.96231424,
          33413990.801928535,
          33731192.64154283,
          34048394.48115712,
          34365596.32077141,
          34682798.160385706,
          35000000
         ],
         "y": [
          3.099239149314937e-9,
          3.259828706872526e-9,
          3.426790464066388e-9,
          3.6002561310187983e-9,
          3.780352753642521e-9,
          3.967202181526271e-9,
          4.160920524182357e-9,
          4.3616175969743e-9,
          4.569396358149732e-9,
          4.78435233851014e-9,
          5.006573065353302e-9,
          5.236137482425985e-9,
          5.4731153677229336e-9,
          5.717566751062724e-9,
          5.969541333461077e-9,
          6.229077910406869e-9,
          6.496203801224877e-9,
          6.7709342867814326e-9,
          7.053272057853908e-9,
          7.343206676541945e-9,
          7.640714053146469e-9,
          7.945755940981706e-9,
          8.258279451614566e-9,
          8.578216593044698e-9,
          8.90548383334646e-9,
          9.239981692290718e-9,
          9.58159436344917e-9,
          9.930189369256545e-9,
          1.0285617251466186e-8,
          1.0647711299381826e-8,
          1.1016287318182852e-8,
          1.1391143439581501e-8,
          1.1772059976958688e-8,
          1.2158799327020009e-8,
          1.2551105919895373e-8,
          1.2948706219474692e-8,
          1.3351308775628355e-8,
          1.3758604329805202e-8,
          1.4170265975332736e-8,
          1.4585949373564945e-8,
          1.5005293026832857e-8,
          1.542791860895246e-8,
          1.5853431353834787e-8,
          1.6281420502524203e-8,
          1.671145980876473e-8,
          1.714310810296089e-8,
          1.7575909914160542e-8,
          1.8009396149443525e-8,
          1.8443084829852342e-8,
          1.8876481881751594e-8,
          1.9309081982251686e-8,
          1.9740369457081612e-8,
          2.0169819229046103e-8,
          2.05968978149556e-8,
          2.102106436867491e-8,
          2.144177176769902e-8,
          2.1858467740433933e-8,
          2.2270596031138044e-8,
          2.267759759926636e-8,
          2.3078911849757487e-8,
          2.3473977890612913e-8,
          2.3862235813940804e-8,
          2.424312799647348e-8,
          2.461610041542021e-8,
          2.4980603975385987e-8,
          2.5336095841972924e-8,
          2.568204077758571e-8,
          2.601791247488602e-8,
          2.6343194883284153e-8,
          2.6657383523819642e-8,
          2.6959986787767157e-8,
          2.725052721430933e-8,
          2.752854274264517e-8,
          2.779358793395102e-8,
          2.8045235158680882e-8,
          2.8283075744784235e-8,
          2.8506721082531805e-8,
          2.8715803681772843e-8,
          2.8909978177601006e-8,
          2.9088922280578815e-8,
          2.9252337667862848e-8,
          2.9399950811781798e-8,
          2.9531513742646837e-8,
          2.9646804742816976e-8,
          2.9745628969300513e-8,
          2.982781900244542e-8,
          2.989323531855601e-8,
          2.994176668456837e-8,
          2.9973330473221974e-8,
          2.9987872897477315e-8,
          2.998536916324882e-8,
          2.9965823539845925e-8,
          2.9929269347842126e-8,
          2.9875768864420364e-8,
          2.9805413146571055e-8,
          2.971832177284531e-8,
          2.96146425046886e-8,
          2.9494550868697373e-8,
          2.935824966145175e-8,
          2.920596837887954e-8
         ]
        },
        {
         "fill": "tozeroy",
         "line": {
          "color": "rgb(239,85,59)"
         },
         "name": "부적합",
         "type": "scatter",
         "x": [
          35000000,
          35232323.23232323,
          35464646.464646466,
          35696969.696969695,
          35929292.92929293,
          36161616.16161616,
          36393939.39393939,
          36626262.62626263,
          36858585.85858586,
          37090909.09090909,
          37323232.32323232,
          37555555.55555555,
          37787878.78787879,
          38020202.02020202,
          38252525.252525255,
          38484848.484848484,
          38717171.71717171,
          38949494.94949495,
          39181818.18181818,
          39414141.41414142,
          39646464.646464646,
          39878787.878787875,
          40111111.11111111,
          40343434.34343434,
          40575757.57575758,
          40808080.80808081,
          41040404.04040404,
          41272727.27272727,
          41505050.5050505,
          41737373.73737374,
          41969696.96969697,
          42202020.2020202,
          42434343.434343435,
          42666666.666666664,
          42898989.8989899,
          43131313.13131313,
          43363636.36363636,
          43595959.5959596,
          43828282.828282826,
          44060606.06060606,
          44292929.29292929,
          44525252.52525252,
          44757575.75757576,
          44989898.98989899,
          45222222.222222224,
          45454545.45454545,
          45686868.68686868,
          45919191.91919192,
          46151515.15151515,
          46383838.383838385,
          46616161.616161615,
          46848484.848484844,
          47080808.08080808,
          47313131.31313131,
          47545454.54545455,
          47777777.777777776,
          48010101.010101005,
          48242424.24242424,
          48474747.47474747,
          48707070.70707071,
          48939393.93939394,
          49171717.17171717,
          49404040.4040404,
          49636363.63636363,
          49868686.86868687,
          50101010.1010101,
          50333333.33333333,
          50565656.565656565,
          50797979.797979794,
          51030303.03030303,
          51262626.26262626,
          51494949.49494949,
          51727272.72727273,
          51959595.95959596,
          52191919.19191919,
          52424242.42424242,
          52656565.65656565,
          52888888.88888889,
          53121212.121212125,
          53353535.353535354,
          53585858.58585858,
          53818181.81818181,
          54050505.05050505,
          54282828.28282829,
          54515151.515151516,
          54747474.747474745,
          54979797.979797974,
          55212121.21212121,
          55444444.44444445,
          55676767.67676768,
          55909090.90909091,
          56141414.141414136,
          56373737.37373737,
          56606060.60606061,
          56838383.83838384,
          57070707.07070707,
          57303030.3030303,
          57535353.535353534,
          57767676.76767677,
          58000000
         ],
         "y": [
          2.920596837887954e-8,
          2.9084443912756407e-8,
          2.8954592861407215e-8,
          2.8816531417872166e-8,
          2.8670382732441864e-8,
          2.851627672964084e-8,
          2.835434991580921e-8,
          2.8184745177681375e-8,
          2.8007611572377634e-8,
          2.782310410924039e-8,
          2.7631383523961866e-8,
          2.7432616045463446e-8,
          2.722697315599957e-8,
          2.701463134497018e-8,
          2.679577185693564e-8,
          2.657058043433691e-8,
          2.6339247055431025e-8,
          2.6101965667958112e-8,
          2.585893391906097e-8,
          2.5610352881981767e-8,
          2.5356426780062568e-8,
          2.5097362708577348e-8,
          2.4833370354922766e-8,
          2.4564661717693306e-8,
          2.4291450825163324e-8,
          2.4013953453694832e-8,
          2.3732386846583716e-8,
          2.3446969433851385e-8,
          2.315792055348053e-8,
          2.286546017458493e-8,
          2.2569808622993687e-8,
          2.2271186309718703e-8,
          2.196981346276286e-8,
          2.1665909862713e-8,
          2.13596945825481e-8,
          2.105138573207853e-8,
          2.0741200207416334e-8,
          2.042935344586079e-8,
          2.0116059186566126e-8,
          1.9801529237340623e-8,
          1.948597324790874e-8,
          1.9169598489948245e-8,
          1.8852609644196126e-8,
          1.853520859489672e-8,
          1.8217594231845843e-8,
          1.7899962260264696e-8,
          1.7582505018716272e-8,
          1.726541130525698e-8,
          1.6948866211995097e-8,
          1.6633050968206758e-8,
          1.6318142792139905e-8,
          1.600431475161521e-8,
          1.5691735633512965e-8,
          1.5380569822214027e-8,
          1.5070977187042953e-8,
          1.4763112978741497e-8,
          1.4457127734980711e-8,
          1.415316719490107e-8,
          1.3851372222650876e-8,
          1.3551878739874756e-8,
          1.325481766708664e-8,
          1.2960314873843453e-8,
          1.2668491137619836e-8,
          1.237946211126738e-8,
          1.2093338298926511e-8,
          1.1810225040244455e-8,
          1.1530222502738158e-8,
          1.1253425682127926e-8,
          1.097992441045452e-8,
          1.0709803371780435e-8,
          1.0443142125265205e-8,
          1.0180015135393524e-8,
          9.920491809125917e-9,
          9.664636539732315e-9,
          9.412508757061106e-9,
          9.164162983988764e-9,
          8.919648898788843e-9,
          8.679011403153259e-9,
          8.44229069559403e-9,
          8.209522349949384e-9,
          7.98073739871492e-9,
          7.755962420917908e-9,
          7.535219634250904e-9,
          7.3185269911798946e-9,
          7.105898278741622e-9,
          6.897343221745164e-9,
          6.6928675890939734e-9,
          6.492473302945832e-9,
          6.296158550430913e-9,
          6.103917897650649e-9,
          5.91574240568376e-9,
          5.731619748329843e-9,
          5.5515343313252705e-9,
          5.37546741277143e-9,
          5.203397224520586e-9,
          5.035299094270829e-9,
          4.871145568127831e-9,
          4.710906533397794e-9,
          4.554549341383237e-9,
          4.402038929960474e-9
         ]
        }
       ],
       "layout": {
        "annotations": [
         {
          "bordercolor": "rgb(100,110,250)",
          "borderwidth": 2,
          "font": {
           "color": "rgb(100,110,250)",
           "size": 15
          },
          "showarrow": false,
          "text": "0.574",
          "x": 35000000,
          "xshift": -40,
          "y": 2.920596837887954e-8,
          "yshift": -100
         },
         {
          "bordercolor": "rgb(239,85,59)",
          "borderwidth": 2,
          "font": {
           "color": "rgb(239,85,59)",
           "size": 15
          },
          "showarrow": false,
          "text": "0.426",
          "x": 35000000,
          "xshift": 40,
          "y": 2.920596837887954e-8,
          "yshift": -100
         }
        ],
        "template": {
         "data": {
          "bar": [
           {
            "error_x": {
             "color": "#2a3f5f"
            },
            "error_y": {
             "color": "#2a3f5f"
            },
            "marker": {
             "line": {
              "color": "#E5ECF6",
              "width": 0.5
             },
             "pattern": {
              "fillmode": "overlay",
              "size": 10,
              "solidity": 0.2
             }
            },
            "type": "bar"
           }
          ],
          "barpolar": [
           {
            "marker": {
             "line": {
              "color": "#E5ECF6",
              "width": 0.5
             },
             "pattern": {
              "fillmode": "overlay",
              "size": 10,
              "solidity": 0.2
             }
            },
            "type": "barpolar"
           }
          ],
          "carpet": [
           {
            "aaxis": {
             "endlinecolor": "#2a3f5f",
             "gridcolor": "white",
             "linecolor": "white",
             "minorgridcolor": "white",
             "startlinecolor": "#2a3f5f"
            },
            "baxis": {
             "endlinecolor": "#2a3f5f",
             "gridcolor": "white",
             "linecolor": "white",
             "minorgridcolor": "white",
             "startlinecolor": "#2a3f5f"
            },
            "type": "carpet"
           }
          ],
          "choropleth": [
           {
            "colorbar": {
             "outlinewidth": 0,
             "ticks": ""
            },
            "type": "choropleth"
           }
          ],
          "contour": [
           {
            "colorbar": {
             "outlinewidth": 0,
             "ticks": ""
            },
            "colorscale": [
             [
              0,
              "#0d0887"
             ],
             [
              0.1111111111111111,
              "#46039f"
             ],
             [
              0.2222222222222222,
              "#7201a8"
             ],
             [
              0.3333333333333333,
              "#9c179e"
             ],
             [
              0.4444444444444444,
              "#bd3786"
             ],
             [
              0.5555555555555556,
              "#d8576b"
             ],
             [
              0.6666666666666666,
              "#ed7953"
             ],
             [
              0.7777777777777778,
              "#fb9f3a"
             ],
             [
              0.8888888888888888,
              "#fdca26"
             ],
             [
              1,
              "#f0f921"
             ]
            ],
            "type": "contour"
           }
          ],
          "contourcarpet": [
           {
            "colorbar": {
             "outlinewidth": 0,
             "ticks": ""
            },
            "type": "contourcarpet"
           }
          ],
          "heatmap": [
           {
            "colorbar": {
             "outlinewidth": 0,
             "ticks": ""
            },
            "colorscale": [
             [
              0,
              "#0d0887"
             ],
             [
              0.1111111111111111,
              "#46039f"
             ],
             [
              0.2222222222222222,
              "#7201a8"
             ],
             [
              0.3333333333333333,
              "#9c179e"
             ],
             [
              0.4444444444444444,
              "#bd3786"
             ],
             [
              0.5555555555555556,
              "#d8576b"
             ],
             [
              0.6666666666666666,
              "#ed7953"
             ],
             [
              0.7777777777777778,
              "#fb9f3a"
             ],
             [
              0.8888888888888888,
              "#fdca26"
             ],
             [
              1,
              "#f0f921"
             ]
            ],
            "type": "heatmap"
           }
          ],
          "heatmapgl": [
           {
            "colorbar": {
             "outlinewidth": 0,
             "ticks": ""
            },
            "colorscale": [
             [
              0,
              "#0d0887"
             ],
             [
              0.1111111111111111,
              "#46039f"
             ],
             [
              0.2222222222222222,
              "#7201a8"
             ],
             [
              0.3333333333333333,
              "#9c179e"
             ],
             [
              0.4444444444444444,
              "#bd3786"
             ],
             [
              0.5555555555555556,
              "#d8576b"
             ],
             [
              0.6666666666666666,
              "#ed7953"
             ],
             [
              0.7777777777777778,
              "#fb9f3a"
             ],
             [
              0.8888888888888888,
              "#fdca26"
             ],
             [
              1,
              "#f0f921"
             ]
            ],
            "type": "heatmapgl"
           }
          ],
          "histogram": [
           {
            "marker": {
             "pattern": {
              "fillmode": "overlay",
              "size": 10,
              "solidity": 0.2
             }
            },
            "type": "histogram"
           }
          ],
          "histogram2d": [
           {
            "colorbar": {
             "outlinewidth": 0,
             "ticks": ""
            },
            "colorscale": [
             [
              0,
              "#0d0887"
             ],
             [
              0.1111111111111111,
              "#46039f"
             ],
             [
              0.2222222222222222,
              "#7201a8"
             ],
             [
              0.3333333333333333,
              "#9c179e"
             ],
             [
              0.4444444444444444,
              "#bd3786"
             ],
             [
              0.5555555555555556,
              "#d8576b"
             ],
             [
              0.6666666666666666,
              "#ed7953"
             ],
             [
              0.7777777777777778,
              "#fb9f3a"
             ],
             [
              0.8888888888888888,
              "#fdca26"
             ],
             [
              1,
              "#f0f921"
             ]
            ],
            "type": "histogram2d"
           }
          ],
          "histogram2dcontour": [
           {
            "colorbar": {
             "outlinewidth": 0,
             "ticks": ""
            },
            "colorscale": [
             [
              0,
              "#0d0887"
             ],
             [
              0.1111111111111111,
              "#46039f"
             ],
             [
              0.2222222222222222,
              "#7201a8"
             ],
             [
              0.3333333333333333,
              "#9c179e"
             ],
             [
              0.4444444444444444,
              "#bd3786"
             ],
             [
              0.5555555555555556,
              "#d8576b"
             ],
             [
              0.6666666666666666,
              "#ed7953"
             ],
             [
              0.7777777777777778,
              "#fb9f3a"
             ],
             [
              0.8888888888888888,
              "#fdca26"
             ],
             [
              1,
              "#f0f921"
             ]
            ],
            "type": "histogram2dcontour"
           }
          ],
          "mesh3d": [
           {
            "colorbar": {
             "outlinewidth": 0,
             "ticks": ""
            },
            "type": "mesh3d"
           }
          ],
          "parcoords": [
           {
            "line": {
             "colorbar": {
              "outlinewidth": 0,
              "ticks": ""
             }
            },
            "type": "parcoords"
           }
          ],
          "pie": [
           {
            "automargin": true,
            "type": "pie"
           }
          ],
          "scatter": [
           {
            "marker": {
             "colorbar": {
              "outlinewidth": 0,
              "ticks": ""
             }
            },
            "type": "scatter"
           }
          ],
          "scatter3d": [
           {
            "line": {
             "colorbar": {
              "outlinewidth": 0,
              "ticks": ""
             }
            },
            "marker": {
             "colorbar": {
              "outlinewidth": 0,
              "ticks": ""
             }
            },
            "type": "scatter3d"
           }
          ],
          "scattercarpet": [
           {
            "marker": {
             "colorbar": {
              "outlinewidth": 0,
              "ticks": ""
             }
            },
            "type": "scattercarpet"
           }
          ],
          "scattergeo": [
           {
            "marker": {
             "colorbar": {
              "outlinewidth": 0,
              "ticks": ""
             }
            },
            "type": "scattergeo"
           }
          ],
          "scattergl": [
           {
            "marker": {
             "colorbar": {
              "outlinewidth": 0,
              "ticks": ""
             }
            },
            "type": "scattergl"
           }
          ],
          "scattermapbox": [
           {
            "marker": {
             "colorbar": {
              "outlinewidth": 0,
              "ticks": ""
             }
            },
            "type": "scattermapbox"
           }
          ],
          "scatterpolar": [
           {
            "marker": {
             "colorbar": {
              "outlinewidth": 0,
              "ticks": ""
             }
            },
            "type": "scatterpolar"
           }
          ],
          "scatterpolargl": [
           {
            "marker": {
             "colorbar": {
              "outlinewidth": 0,
              "ticks": ""
             }
            },
            "type": "scatterpolargl"
           }
          ],
          "scatterternary": [
           {
            "marker": {
             "colorbar": {
              "outlinewidth": 0,
              "ticks": ""
             }
            },
            "type": "scatterternary"
           }
          ],
          "surface": [
           {
            "colorbar": {
             "outlinewidth": 0,
             "ticks": ""
            },
            "colorscale": [
             [
              0,
              "#0d0887"
             ],
             [
              0.1111111111111111,
              "#46039f"
             ],
             [
              0.2222222222222222,
              "#7201a8"
             ],
             [
              0.3333333333333333,
              "#9c179e"
             ],
             [
              0.4444444444444444,
              "#bd3786"
             ],
             [
              0.5555555555555556,
              "#d8576b"
             ],
             [
              0.6666666666666666,
              "#ed7953"
             ],
             [
              0.7777777777777778,
              "#fb9f3a"
             ],
             [
              0.8888888888888888,
              "#fdca26"
             ],
             [
              1,
              "#f0f921"
             ]
            ],
            "type": "surface"
           }
          ],
          "table": [
           {
            "cells": {
             "fill": {
              "color": "#EBF0F8"
             },
             "line": {
              "color": "white"
             }
            },
            "header": {
             "fill": {
              "color": "#C8D4E3"
             },
             "line": {
              "color": "white"
             }
            },
            "type": "table"
           }
          ]
         },
         "layout": {
          "annotationdefaults": {
           "arrowcolor": "#2a3f5f",
           "arrowhead": 0,
           "arrowwidth": 1
          },
          "autotypenumbers": "strict",
          "coloraxis": {
           "colorbar": {
            "outlinewidth": 0,
            "ticks": ""
           }
          },
          "colorscale": {
           "diverging": [
            [
             0,
             "#8e0152"
            ],
            [
             0.1,
             "#c51b7d"
            ],
            [
             0.2,
             "#de77ae"
            ],
            [
             0.3,
             "#f1b6da"
            ],
            [
             0.4,
             "#fde0ef"
            ],
            [
             0.5,
             "#f7f7f7"
            ],
            [
             0.6,
             "#e6f5d0"
            ],
            [
             0.7,
             "#b8e186"
            ],
            [
             0.8,
             "#7fbc41"
            ],
            [
             0.9,
             "#4d9221"
            ],
            [
             1,
             "#276419"
            ]
           ],
           "sequential": [
            [
             0,
             "#0d0887"
            ],
            [
             0.1111111111111111,
             "#46039f"
            ],
            [
             0.2222222222222222,
             "#7201a8"
            ],
            [
             0.3333333333333333,
             "#9c179e"
            ],
            [
             0.4444444444444444,
             "#bd3786"
            ],
            [
             0.5555555555555556,
             "#d8576b"
            ],
            [
             0.6666666666666666,
             "#ed7953"
            ],
            [
             0.7777777777777778,
             "#fb9f3a"
            ],
            [
             0.8888888888888888,
             "#fdca26"
            ],
            [
             1,
             "#f0f921"
            ]
           ],
           "sequentialminus": [
            [
             0,
             "#0d0887"
            ],
            [
             0.1111111111111111,
             "#46039f"
            ],
            [
             0.2222222222222222,
             "#7201a8"
            ],
            [
             0.3333333333333333,
             "#9c179e"
            ],
            [
             0.4444444444444444,
             "#bd3786"
            ],
            [
             0.5555555555555556,
             "#d8576b"
            ],
            [
             0.6666666666666666,
             "#ed7953"
            ],
            [
             0.7777777777777778,
             "#fb9f3a"
            ],
            [
             0.8888888888888888,
             "#fdca26"
            ],
            [
             1,
             "#f0f921"
            ]
           ]
          },
          "colorway": [
           "#636efa",
           "#EF553B",
           "#00cc96",
           "#ab63fa",
           "#FFA15A",
           "#19d3f3",
           "#FF6692",
           "#B6E880",
           "#FF97FF",
           "#FECB52"
          ],
          "font": {
           "color": "#2a3f5f"
          },
          "geo": {
           "bgcolor": "white",
           "lakecolor": "white",
           "landcolor": "#E5ECF6",
           "showlakes": true,
           "showland": true,
           "subunitcolor": "white"
          },
          "hoverlabel": {
           "align": "left"
          },
          "hovermode": "closest",
          "mapbox": {
           "style": "light"
          },
          "paper_bgcolor": "white",
          "plot_bgcolor": "#E5ECF6",
          "polar": {
           "angularaxis": {
            "gridcolor": "white",
            "linecolor": "white",
            "ticks": ""
           },
           "bgcolor": "#E5ECF6",
           "radialaxis": {
            "gridcolor": "white",
            "linecolor": "white",
            "ticks": ""
           }
          },
          "scene": {
           "xaxis": {
            "backgroundcolor": "#E5ECF6",
            "gridcolor": "white",
            "gridwidth": 2,
            "linecolor": "white",
            "showbackground": true,
            "ticks": "",
            "zerolinecolor": "white"
           },
           "yaxis": {
            "backgroundcolor": "#E5ECF6",
            "gridcolor": "white",
            "gridwidth": 2,
            "linecolor": "white",
            "showbackground": true,
            "ticks": "",
            "zerolinecolor": "white"
           },
           "zaxis": {
            "backgroundcolor": "#E5ECF6",
            "gridcolor": "white",
            "gridwidth": 2,
            "linecolor": "white",
            "showbackground": true,
            "ticks": "",
            "zerolinecolor": "white"
           }
          },
          "shapedefaults": {
           "line": {
            "color": "#2a3f5f"
           }
          },
          "ternary": {
           "aaxis": {
            "gridcolor": "white",
            "linecolor": "white",
            "ticks": ""
           },
           "baxis": {
            "gridcolor": "white",
            "linecolor": "white",
            "ticks": ""
           },
           "bgcolor": "#E5ECF6",
           "caxis": {
            "gridcolor": "white",
            "linecolor": "white",
            "ticks": ""
           }
          },
          "title": {
           "x": 0.05
          },
          "xaxis": {
           "automargin": true,
           "gridcolor": "white",
           "linecolor": "white",
           "ticks": "",
           "title": {
            "standoff": 15
           },
           "zerolinecolor": "white",
           "zerolinewidth": 2
          },
          "yaxis": {
           "automargin": true,
           "gridcolor": "white",
           "linecolor": "white",
           "ticks": "",
           "title": {
            "standoff": 15
           },
           "zerolinecolor": "white",
           "zerolinewidth": 2
          }
         }
        },
        "yaxis": {
         "visible": false
        }
       }
      }
     },
     "metadata": {},
     "output_type": "display_data"
    }
   ],
   "source": [
    "EVCS_cost, EVCS_cost_negative = cal_norm(df_EVCS_cost[df_EVCS_cost['충전기']=='급속']['충전기가격'].mean(),\n",
    "                                         df_EVCS_cost[df_EVCS_cost['충전기']=='급속']['충전기가격'].std(),\n",
    "                                         df_EVCS_cost[df_EVCS_cost['충전기']=='급속']['충전기가격'].min(),\n",
    "                                         df_EVCS_cost[df_EVCS_cost['충전기']=='급속']['충전기가격'].max(),\n",
    "                                         EVCS_cost_standard,\n",
    "                                         True)"
   ]
  },
  {
   "cell_type": "markdown",
   "metadata": {},
   "source": [
    "### 수소충전소 구축비용"
   ]
  },
  {
   "cell_type": "code",
   "execution_count": null,
   "metadata": {},
   "outputs": [
    {
     "data": {
      "text/html": [
       "<div>\n",
       "<style scoped>\n",
       "    .dataframe tbody tr th:only-of-type {\n",
       "        vertical-align: middle;\n",
       "    }\n",
       "\n",
       "    .dataframe tbody tr th {\n",
       "        vertical-align: top;\n",
       "    }\n",
       "\n",
       "    .dataframe thead th {\n",
       "        text-align: right;\n",
       "    }\n",
       "</style>\n",
       "<table border=\"1\" class=\"dataframe\">\n",
       "  <thead>\n",
       "    <tr style=\"text-align: right;\">\n",
       "      <th></th>\n",
       "      <th>구축 비용</th>\n",
       "    </tr>\n",
       "    <tr>\n",
       "      <th>충전소 종류</th>\n",
       "      <th></th>\n",
       "    </tr>\n",
       "  </thead>\n",
       "  <tbody>\n",
       "    <tr>\n",
       "      <th>파이프라인</th>\n",
       "      <td>2400000000</td>\n",
       "    </tr>\n",
       "    <tr>\n",
       "      <th>튜브트레일러방식</th>\n",
       "      <td>2200000000</td>\n",
       "    </tr>\n",
       "    <tr>\n",
       "      <th>이동식</th>\n",
       "      <td>1800000000</td>\n",
       "    </tr>\n",
       "    <tr>\n",
       "      <th>천연가스개질방식</th>\n",
       "      <td>4600000000</td>\n",
       "    </tr>\n",
       "    <tr>\n",
       "      <th>수전해방식</th>\n",
       "      <td>3100000000</td>\n",
       "    </tr>\n",
       "  </tbody>\n",
       "</table>\n",
       "</div>"
      ],
      "text/plain": [
       "               구축 비용\n",
       "충전소 종류              \n",
       "파이프라인     2400000000\n",
       "튜브트레일러방식  2200000000\n",
       "이동식       1800000000\n",
       "천연가스개질방식  4600000000\n",
       "수전해방식     3100000000"
      ]
     },
     "execution_count": 113,
     "metadata": {},
     "output_type": "execute_result"
    }
   ],
   "source": [
    "HVCS_construction_cost_file_path = 'C:\\\\Users\\\\SAMSUNG\\\\Desktop\\\\Green-Car-Charging-Station-Site-Selection\\\\Data\\\\수소 충전소 종류별 구축 비용.csv'\n",
    "df_HVCS_construction_cost = pd.read_csv(HVCS_construction_cost_file_path, encoding='cp949')\n",
    "df_HVCS_construction_cost = df_HVCS_construction_cost.set_index('충전소 종류')\n",
    "df_HVCS_construction_cost"
   ]
  },
  {
   "cell_type": "markdown",
   "metadata": {},
   "source": [
    "#### 수소 충전소 구축 비용 적합도"
   ]
  },
  {
   "cell_type": "code",
   "execution_count": 414,
   "metadata": {},
   "outputs": [
    {
     "data": {
      "application/vnd.plotly.v1+json": {
       "config": {
        "plotlyServerURL": "https://plot.ly"
       },
       "data": [
        {
         "fill": "tozeroy",
         "line": {
          "color": "rgb(100,110,250)"
         },
         "name": "적합",
         "type": "scatter",
         "x": [
          699091284.4381692,
          722332786.6155615,
          745574288.7929537,
          768815790.970346,
          792057293.1477381,
          815298795.3251303,
          838540297.5025226,
          861781799.6799148,
          885023301.8573071,
          908264804.0346992,
          931506306.2120914,
          954747808.3894837,
          977989310.5668759,
          1001230812.7442682,
          1024472314.9216604,
          1047713817.0990527,
          1070955319.2764449,
          1094196821.4538372,
          1117438323.6312294,
          1140679825.8086214,
          1163921327.986014,
          1187162830.163406,
          1210404332.3407981,
          1233645834.5181904,
          1256887336.6955826,
          1280128838.8729749,
          1303370341.050367,
          1326611843.2277594,
          1349853345.4051516,
          1373094847.5825438,
          1396336349.7599359,
          1419577851.9373283,
          1442819354.1147203,
          1466060856.2921128,
          1489302358.4695048,
          1512543860.6468973,
          1535785362.8242893,
          1559026865.0016816,
          1582268367.1790738,
          1605509869.356466,
          1628751371.5338583,
          1651992873.7112505,
          1675234375.8886428,
          1698475878.0660348,
          1721717380.2434273,
          1744958882.4208193,
          1768200384.5982118,
          1791441886.7756038,
          1814683388.952996,
          1837924891.1303883,
          1861166393.3077805,
          1884407895.4851727,
          1907649397.662565,
          1930890899.8399572,
          1954132402.0173495,
          1977373904.1947417,
          2000615406.372134,
          2023856908.5495262,
          2047098410.7269182,
          2070339912.9043105,
          2093581415.0817027,
          2116822917.259095,
          2140064419.4364872,
          2163305921.613879,
          2186547423.7912717,
          2209788925.968664,
          2233030428.146056,
          2256271930.323448,
          2279513432.5008407,
          2302754934.678233,
          2325996436.855625,
          2349237939.033017,
          2372479441.210409,
          2395720943.3878016,
          2418962445.565194,
          2442203947.742586,
          2465445449.919978,
          2488686952.0973706,
          2511928454.274763,
          2535169956.452155,
          2558411458.629547,
          2581652960.8069396,
          2604894462.984332,
          2628135965.161724,
          2651377467.339116,
          2674618969.516508,
          2697860471.6939006,
          2721101973.871293,
          2744343476.048685,
          2767584978.226077,
          2790826480.4034696,
          2814067982.580862,
          2837309484.758254,
          2860550986.935646,
          2883792489.113038,
          2907033991.290431,
          2930275493.467823,
          2953516995.645215,
          2976758497.822607,
          3000000000
         ],
         "y": [
          5.6654167259799576e-11,
          5.899269267460261e-11,
          6.140037468826754e-11,
          6.387784637299155e-11,
          6.642567132095136e-11,
          6.9044339816723e-11,
          7.173426502272308e-11,
          7.449577918858903e-11,
          7.732912989577104e-11,
          8.02344763489401e-11,
          8.32118857261143e-11,
          8.626132959967724e-11,
          8.938268044069543e-11,
          9.257570821914032e-11,
          9.584007711278172e-11,
          9.917534233763853e-11,
          1.025809471129495e-10,
          1.0605621977366189e-10,
          1.0960037104342022e-10,
          1.1321249148097978e-10,
          1.168915491128586e-10,
          1.2063638726488207e-10,
          1.2444572260506602e-10,
          1.283181434100186e-10,
          1.322521080667282e-10,
          1.3624594382123588e-10,
          1.4029784578526927e-10,
          1.444058762114398e-10,
          1.4856796404707872e-10,
          1.527819047762066e-10,
          1.570453605584988e-10,
          1.6135586067343034e-10,
          1.6571080227704778e-10,
          1.7010745147804174e-10,
          1.7454294473896477e-10,
          1.7901429060757454e-10,
          1.8351837178236813e-10,
          1.8805194751542997e-10,
          1.926116563547258e-10,
          1.9719401922696098e-10,
          2.0179544286107365e-10,
          2.0641222355135877e-10,
          2.1104055125812367e-10,
          2.1567651404266328e-10,
          2.2031610283221205e-10,
          2.249552165093912e-10,
          2.2958966731952878e-10,
          2.3421518658807733e-10,
          2.388274307392197e-10,
          2.434219876056115e-10,
          2.4799438301809255e-10,
          2.5254008766309217e-10,
          2.57054524194374e-10,
          2.615330745847094e-10,
          2.6597108770204786e-10,
          2.7036388709376636e-10,
          2.7470677896163594e-10,
          2.7899506030924477e-10,
          2.8322402724276997e-10,
          2.87388983405197e-10,
          2.9148524852335034e-10,
          2.955081670464278e-10,
          2.9945311685412643e-10,
          3.033155180119097e-10,
          3.0709084155050517e-10,
          3.107746182463332e-10,
          3.1436244737926025e-10,
          3.178500054438408e-10,
          3.21233054790067e-10,
          3.245074521695856e-10,
          3.276691571633632e-10,
          3.307142404668946e-10,
          3.336388920092438e-10,
          3.364394288824942e-10,
          3.391123030585532e-10,
          3.4165410887071474e-10,
          3.4406159023792625e-10,
          3.463316476103287e-10,
          3.484613446153493e-10,
          3.5044791438440953e-10,
          3.522887655411779e-10,
          3.539814878332294e-10,
          3.5552385738998684e-10,
          3.569138415908885e-10,
          3.58149603528869e-10,
          3.5922950605543296e-10,
          3.601521153948539e-10,
          3.6091620431632926e-10,
          3.615207548542698e-10,
          3.619649605682799e-10,
          3.6224822833580767e-10,
          3.623701796718868e-10,
          3.6233065157185816e-10,
          3.6212969687444613e-10,
          3.6176758414405674e-10,
          3.612447970726651e-10,
          3.605620334031563e-10,
          3.5972020337747516e-10,
          3.5872042771441485e-10,
          3.5756403512333453e-10
         ]
        },
        {
         "fill": "tozeroy",
         "line": {
          "color": "rgb(239,85,59)"
         },
         "name": "부적합",
         "type": "scatter",
         "x": [
          3000000000,
          3016161616.1616163,
          3032323232.323232,
          3048484848.4848485,
          3064646464.646465,
          3080808080.8080807,
          3096969696.969697,
          3113131313.1313133,
          3129292929.292929,
          3145454545.4545455,
          3161616161.616162,
          3177777777.7777777,
          3193939393.939394,
          3210101010.1010103,
          3226262626.262626,
          3242424242.4242425,
          3258585858.5858583,
          3274747474.7474747,
          3290909090.909091,
          3307070707.0707073,
          3323232323.232323,
          3339393939.3939395,
          3355555555.5555553,
          3371717171.7171717,
          3387878787.878788,
          3404040404.040404,
          3420202020.20202,
          3436363636.3636365,
          3452525252.5252523,
          3468686868.6868687,
          3484848484.848485,
          3501010101.010101,
          3517171717.171717,
          3533333333.3333335,
          3549494949.4949493,
          3565656565.6565657,
          3581818181.818182,
          3597979797.979798,
          3614141414.141414,
          3630303030.30303,
          3646464646.4646463,
          3662626262.6262627,
          3678787878.787879,
          3694949494.949495,
          3711111111.111111,
          3727272727.272727,
          3743434343.4343433,
          3759595959.5959597,
          3775757575.757576,
          3791919191.919192,
          3808080808.080808,
          3824242424.242424,
          3840404040.4040403,
          3856565656.5656567,
          3872727272.727273,
          3888888888.888889,
          3905050505.050505,
          3921212121.212121,
          3937373737.3737373,
          3953535353.5353537,
          3969696969.69697,
          3985858585.858586,
          4002020202.020202,
          4018181818.181818,
          4034343434.3434343,
          4050505050.5050507,
          4066666666.6666665,
          4082828282.828283,
          4098989898.9898987,
          4115151515.151515,
          4131313131.3131313,
          4147474747.4747477,
          4163636363.6363635,
          4179797979.79798,
          4195959595.9595957,
          4212121212.121212,
          4228282828.2828283,
          4244444444.4444447,
          4260606060.6060605,
          4276767676.767677,
          4292929292.9292927,
          4309090909.090909,
          4325252525.252525,
          4341414141.414142,
          4357575757.575758,
          4373737373.737373,
          4389898989.89899,
          4406060606.060606,
          4422222222.222222,
          4438383838.383839,
          4454545454.545454,
          4470707070.70707,
          4486868686.868687,
          4503030303.030303,
          4519191919.191919,
          4535353535.353536,
          4551515151.515152,
          4567676767.676767,
          4583838383.838384,
          4600000000
         ],
         "y": [
          3.5756403512333453e-10,
          3.5666838995047115e-10,
          3.556983235133382e-10,
          3.546544557268331e-10,
          3.535374523945561e-10,
          3.523480245011369e-10,
          3.5108692745811265e-10,
          3.497549603044773e-10,
          3.4835296486308653e-10,
          3.46881824854164e-10,
          3.4534246496721737e-10,
          3.4373584989272606e-10,
          3.420629833150209e-10,
          3.403249068678272e-10,
          3.3852269905399124e-10,
          3.366574741309575e-10,
          3.3473038096360935e-10,
          3.327426018461226e-10,
          3.306953512945241e-10,
          3.285898748116769e-10,
          3.2642744762645015e-10,
          3.242093734088553e-10,
          3.219369829629587e-10,
          3.196116328994002e-10,
          3.1723470428936724e-10,
          3.14807601301888e-10,
          3.1233174982631904e-10,
          3.0980859608191273e-10,
          3.072396052163528e-10,
          3.046262598951495e-10,
          3.0197005888378594e-10,
          2.9927251562449854e-10,
          2.9653515680957114e-10,
          2.937595209530089e-10,
          2.9094715696244496e-10,
          2.880996227131142e-10,
          2.8521848362571215e-10,
          2.823053112499287e-10,
          2.7936168185542494e-10,
          2.763891750319911e-10,
          2.733893723005911e-10,
          2.7036385573696777e-10,
          2.673142066094443e-10,
          2.642420040325186e-10,
          2.6114882363780834e-10,
          2.5803623626385805e-10,
          2.5490580666627607e-10,
          2.517590922496213e-10,
          2.4859764182240926e-10,
          2.454229943765582e-10,
          2.4223667789253956e-10,
          2.3904020817144797e-10,
          2.358350876951435e-10,
          2.3262280451556938e-10,
          2.2940483117428407e-10,
          2.2618262365319106e-10,
          2.2295762035738808e-10,
          2.1973124113099867e-10,
          2.1650488630678404e-10,
          2.1327993579027562e-10,
          2.1005774817910269e-10,
          2.068396599181291e-10,
          2.0362698449094957e-10,
          2.004210116482346e-10,
          1.9722300667334728e-10,
          1.9403420968559776e-10,
          1.9085583498143417e-10,
          1.876890704138109e-10,
          1.84535076809913e-10,
          1.8139498742735366e-10,
          1.7826990744890552e-10,
          1.7516091351576417e-10,
          1.7206905329928831e-10,
          1.6899534511110055e-10,
          1.6594077755138185e-10,
          1.6290630919513363e-10,
          1.5989286831613424e-10,
          1.5690135264825933e-10,
          1.5393262918379045e-10,
          1.5098753400828514e-10,
          1.4806687217153763e-10,
          1.451714175941096e-10,
          1.423019130088736e-10,
          1.3945906993696413e-10,
          1.366435686974957e-10,
          1.3385605845036808e-10,
          1.310971572714417e-10,
          1.2836745225933624e-10,
          1.2566749967306772e-10,
          1.2299782509971388e-10,
          1.2035892365126901e-10,
          1.1775126018982e-10,
          1.1517526958015775e-10,
          1.1263135696890848e-10,
          1.1011989808925609e-10,
          1.0764123959030505e-10,
          1.0519569939011911e-10,
          1.0278356705145641e-10,
          1.0040510417920917e-10,
          9.806054483854934e-11
         ]
        }
       ],
       "layout": {
        "annotations": [
         {
          "bordercolor": "rgb(100,110,250)",
          "borderwidth": 2,
          "font": {
           "color": "rgb(100,110,250)",
           "size": 15
          },
          "showarrow": false,
          "text": "0.538",
          "x": 3000000000,
          "xshift": -40,
          "y": 3.5756403512333453e-10,
          "yshift": -100
         },
         {
          "bordercolor": "rgb(239,85,59)",
          "borderwidth": 2,
          "font": {
           "color": "rgb(239,85,59)",
           "size": 15
          },
          "showarrow": false,
          "text": "0.462",
          "x": 3000000000,
          "xshift": 40,
          "y": 3.5756403512333453e-10,
          "yshift": -100
         }
        ],
        "template": {
         "data": {
          "bar": [
           {
            "error_x": {
             "color": "#2a3f5f"
            },
            "error_y": {
             "color": "#2a3f5f"
            },
            "marker": {
             "line": {
              "color": "#E5ECF6",
              "width": 0.5
             },
             "pattern": {
              "fillmode": "overlay",
              "size": 10,
              "solidity": 0.2
             }
            },
            "type": "bar"
           }
          ],
          "barpolar": [
           {
            "marker": {
             "line": {
              "color": "#E5ECF6",
              "width": 0.5
             },
             "pattern": {
              "fillmode": "overlay",
              "size": 10,
              "solidity": 0.2
             }
            },
            "type": "barpolar"
           }
          ],
          "carpet": [
           {
            "aaxis": {
             "endlinecolor": "#2a3f5f",
             "gridcolor": "white",
             "linecolor": "white",
             "minorgridcolor": "white",
             "startlinecolor": "#2a3f5f"
            },
            "baxis": {
             "endlinecolor": "#2a3f5f",
             "gridcolor": "white",
             "linecolor": "white",
             "minorgridcolor": "white",
             "startlinecolor": "#2a3f5f"
            },
            "type": "carpet"
           }
          ],
          "choropleth": [
           {
            "colorbar": {
             "outlinewidth": 0,
             "ticks": ""
            },
            "type": "choropleth"
           }
          ],
          "contour": [
           {
            "colorbar": {
             "outlinewidth": 0,
             "ticks": ""
            },
            "colorscale": [
             [
              0,
              "#0d0887"
             ],
             [
              0.1111111111111111,
              "#46039f"
             ],
             [
              0.2222222222222222,
              "#7201a8"
             ],
             [
              0.3333333333333333,
              "#9c179e"
             ],
             [
              0.4444444444444444,
              "#bd3786"
             ],
             [
              0.5555555555555556,
              "#d8576b"
             ],
             [
              0.6666666666666666,
              "#ed7953"
             ],
             [
              0.7777777777777778,
              "#fb9f3a"
             ],
             [
              0.8888888888888888,
              "#fdca26"
             ],
             [
              1,
              "#f0f921"
             ]
            ],
            "type": "contour"
           }
          ],
          "contourcarpet": [
           {
            "colorbar": {
             "outlinewidth": 0,
             "ticks": ""
            },
            "type": "contourcarpet"
           }
          ],
          "heatmap": [
           {
            "colorbar": {
             "outlinewidth": 0,
             "ticks": ""
            },
            "colorscale": [
             [
              0,
              "#0d0887"
             ],
             [
              0.1111111111111111,
              "#46039f"
             ],
             [
              0.2222222222222222,
              "#7201a8"
             ],
             [
              0.3333333333333333,
              "#9c179e"
             ],
             [
              0.4444444444444444,
              "#bd3786"
             ],
             [
              0.5555555555555556,
              "#d8576b"
             ],
             [
              0.6666666666666666,
              "#ed7953"
             ],
             [
              0.7777777777777778,
              "#fb9f3a"
             ],
             [
              0.8888888888888888,
              "#fdca26"
             ],
             [
              1,
              "#f0f921"
             ]
            ],
            "type": "heatmap"
           }
          ],
          "heatmapgl": [
           {
            "colorbar": {
             "outlinewidth": 0,
             "ticks": ""
            },
            "colorscale": [
             [
              0,
              "#0d0887"
             ],
             [
              0.1111111111111111,
              "#46039f"
             ],
             [
              0.2222222222222222,
              "#7201a8"
             ],
             [
              0.3333333333333333,
              "#9c179e"
             ],
             [
              0.4444444444444444,
              "#bd3786"
             ],
             [
              0.5555555555555556,
              "#d8576b"
             ],
             [
              0.6666666666666666,
              "#ed7953"
             ],
             [
              0.7777777777777778,
              "#fb9f3a"
             ],
             [
              0.8888888888888888,
              "#fdca26"
             ],
             [
              1,
              "#f0f921"
             ]
            ],
            "type": "heatmapgl"
           }
          ],
          "histogram": [
           {
            "marker": {
             "pattern": {
              "fillmode": "overlay",
              "size": 10,
              "solidity": 0.2
             }
            },
            "type": "histogram"
           }
          ],
          "histogram2d": [
           {
            "colorbar": {
             "outlinewidth": 0,
             "ticks": ""
            },
            "colorscale": [
             [
              0,
              "#0d0887"
             ],
             [
              0.1111111111111111,
              "#46039f"
             ],
             [
              0.2222222222222222,
              "#7201a8"
             ],
             [
              0.3333333333333333,
              "#9c179e"
             ],
             [
              0.4444444444444444,
              "#bd3786"
             ],
             [
              0.5555555555555556,
              "#d8576b"
             ],
             [
              0.6666666666666666,
              "#ed7953"
             ],
             [
              0.7777777777777778,
              "#fb9f3a"
             ],
             [
              0.8888888888888888,
              "#fdca26"
             ],
             [
              1,
              "#f0f921"
             ]
            ],
            "type": "histogram2d"
           }
          ],
          "histogram2dcontour": [
           {
            "colorbar": {
             "outlinewidth": 0,
             "ticks": ""
            },
            "colorscale": [
             [
              0,
              "#0d0887"
             ],
             [
              0.1111111111111111,
              "#46039f"
             ],
             [
              0.2222222222222222,
              "#7201a8"
             ],
             [
              0.3333333333333333,
              "#9c179e"
             ],
             [
              0.4444444444444444,
              "#bd3786"
             ],
             [
              0.5555555555555556,
              "#d8576b"
             ],
             [
              0.6666666666666666,
              "#ed7953"
             ],
             [
              0.7777777777777778,
              "#fb9f3a"
             ],
             [
              0.8888888888888888,
              "#fdca26"
             ],
             [
              1,
              "#f0f921"
             ]
            ],
            "type": "histogram2dcontour"
           }
          ],
          "mesh3d": [
           {
            "colorbar": {
             "outlinewidth": 0,
             "ticks": ""
            },
            "type": "mesh3d"
           }
          ],
          "parcoords": [
           {
            "line": {
             "colorbar": {
              "outlinewidth": 0,
              "ticks": ""
             }
            },
            "type": "parcoords"
           }
          ],
          "pie": [
           {
            "automargin": true,
            "type": "pie"
           }
          ],
          "scatter": [
           {
            "marker": {
             "colorbar": {
              "outlinewidth": 0,
              "ticks": ""
             }
            },
            "type": "scatter"
           }
          ],
          "scatter3d": [
           {
            "line": {
             "colorbar": {
              "outlinewidth": 0,
              "ticks": ""
             }
            },
            "marker": {
             "colorbar": {
              "outlinewidth": 0,
              "ticks": ""
             }
            },
            "type": "scatter3d"
           }
          ],
          "scattercarpet": [
           {
            "marker": {
             "colorbar": {
              "outlinewidth": 0,
              "ticks": ""
             }
            },
            "type": "scattercarpet"
           }
          ],
          "scattergeo": [
           {
            "marker": {
             "colorbar": {
              "outlinewidth": 0,
              "ticks": ""
             }
            },
            "type": "scattergeo"
           }
          ],
          "scattergl": [
           {
            "marker": {
             "colorbar": {
              "outlinewidth": 0,
              "ticks": ""
             }
            },
            "type": "scattergl"
           }
          ],
          "scattermapbox": [
           {
            "marker": {
             "colorbar": {
              "outlinewidth": 0,
              "ticks": ""
             }
            },
            "type": "scattermapbox"
           }
          ],
          "scatterpolar": [
           {
            "marker": {
             "colorbar": {
              "outlinewidth": 0,
              "ticks": ""
             }
            },
            "type": "scatterpolar"
           }
          ],
          "scatterpolargl": [
           {
            "marker": {
             "colorbar": {
              "outlinewidth": 0,
              "ticks": ""
             }
            },
            "type": "scatterpolargl"
           }
          ],
          "scatterternary": [
           {
            "marker": {
             "colorbar": {
              "outlinewidth": 0,
              "ticks": ""
             }
            },
            "type": "scatterternary"
           }
          ],
          "surface": [
           {
            "colorbar": {
             "outlinewidth": 0,
             "ticks": ""
            },
            "colorscale": [
             [
              0,
              "#0d0887"
             ],
             [
              0.1111111111111111,
              "#46039f"
             ],
             [
              0.2222222222222222,
              "#7201a8"
             ],
             [
              0.3333333333333333,
              "#9c179e"
             ],
             [
              0.4444444444444444,
              "#bd3786"
             ],
             [
              0.5555555555555556,
              "#d8576b"
             ],
             [
              0.6666666666666666,
              "#ed7953"
             ],
             [
              0.7777777777777778,
              "#fb9f3a"
             ],
             [
              0.8888888888888888,
              "#fdca26"
             ],
             [
              1,
              "#f0f921"
             ]
            ],
            "type": "surface"
           }
          ],
          "table": [
           {
            "cells": {
             "fill": {
              "color": "#EBF0F8"
             },
             "line": {
              "color": "white"
             }
            },
            "header": {
             "fill": {
              "color": "#C8D4E3"
             },
             "line": {
              "color": "white"
             }
            },
            "type": "table"
           }
          ]
         },
         "layout": {
          "annotationdefaults": {
           "arrowcolor": "#2a3f5f",
           "arrowhead": 0,
           "arrowwidth": 1
          },
          "autotypenumbers": "strict",
          "coloraxis": {
           "colorbar": {
            "outlinewidth": 0,
            "ticks": ""
           }
          },
          "colorscale": {
           "diverging": [
            [
             0,
             "#8e0152"
            ],
            [
             0.1,
             "#c51b7d"
            ],
            [
             0.2,
             "#de77ae"
            ],
            [
             0.3,
             "#f1b6da"
            ],
            [
             0.4,
             "#fde0ef"
            ],
            [
             0.5,
             "#f7f7f7"
            ],
            [
             0.6,
             "#e6f5d0"
            ],
            [
             0.7,
             "#b8e186"
            ],
            [
             0.8,
             "#7fbc41"
            ],
            [
             0.9,
             "#4d9221"
            ],
            [
             1,
             "#276419"
            ]
           ],
           "sequential": [
            [
             0,
             "#0d0887"
            ],
            [
             0.1111111111111111,
             "#46039f"
            ],
            [
             0.2222222222222222,
             "#7201a8"
            ],
            [
             0.3333333333333333,
             "#9c179e"
            ],
            [
             0.4444444444444444,
             "#bd3786"
            ],
            [
             0.5555555555555556,
             "#d8576b"
            ],
            [
             0.6666666666666666,
             "#ed7953"
            ],
            [
             0.7777777777777778,
             "#fb9f3a"
            ],
            [
             0.8888888888888888,
             "#fdca26"
            ],
            [
             1,
             "#f0f921"
            ]
           ],
           "sequentialminus": [
            [
             0,
             "#0d0887"
            ],
            [
             0.1111111111111111,
             "#46039f"
            ],
            [
             0.2222222222222222,
             "#7201a8"
            ],
            [
             0.3333333333333333,
             "#9c179e"
            ],
            [
             0.4444444444444444,
             "#bd3786"
            ],
            [
             0.5555555555555556,
             "#d8576b"
            ],
            [
             0.6666666666666666,
             "#ed7953"
            ],
            [
             0.7777777777777778,
             "#fb9f3a"
            ],
            [
             0.8888888888888888,
             "#fdca26"
            ],
            [
             1,
             "#f0f921"
            ]
           ]
          },
          "colorway": [
           "#636efa",
           "#EF553B",
           "#00cc96",
           "#ab63fa",
           "#FFA15A",
           "#19d3f3",
           "#FF6692",
           "#B6E880",
           "#FF97FF",
           "#FECB52"
          ],
          "font": {
           "color": "#2a3f5f"
          },
          "geo": {
           "bgcolor": "white",
           "lakecolor": "white",
           "landcolor": "#E5ECF6",
           "showlakes": true,
           "showland": true,
           "subunitcolor": "white"
          },
          "hoverlabel": {
           "align": "left"
          },
          "hovermode": "closest",
          "mapbox": {
           "style": "light"
          },
          "paper_bgcolor": "white",
          "plot_bgcolor": "#E5ECF6",
          "polar": {
           "angularaxis": {
            "gridcolor": "white",
            "linecolor": "white",
            "ticks": ""
           },
           "bgcolor": "#E5ECF6",
           "radialaxis": {
            "gridcolor": "white",
            "linecolor": "white",
            "ticks": ""
           }
          },
          "scene": {
           "xaxis": {
            "backgroundcolor": "#E5ECF6",
            "gridcolor": "white",
            "gridwidth": 2,
            "linecolor": "white",
            "showbackground": true,
            "ticks": "",
            "zerolinecolor": "white"
           },
           "yaxis": {
            "backgroundcolor": "#E5ECF6",
            "gridcolor": "white",
            "gridwidth": 2,
            "linecolor": "white",
            "showbackground": true,
            "ticks": "",
            "zerolinecolor": "white"
           },
           "zaxis": {
            "backgroundcolor": "#E5ECF6",
            "gridcolor": "white",
            "gridwidth": 2,
            "linecolor": "white",
            "showbackground": true,
            "ticks": "",
            "zerolinecolor": "white"
           }
          },
          "shapedefaults": {
           "line": {
            "color": "#2a3f5f"
           }
          },
          "ternary": {
           "aaxis": {
            "gridcolor": "white",
            "linecolor": "white",
            "ticks": ""
           },
           "baxis": {
            "gridcolor": "white",
            "linecolor": "white",
            "ticks": ""
           },
           "bgcolor": "#E5ECF6",
           "caxis": {
            "gridcolor": "white",
            "linecolor": "white",
            "ticks": ""
           }
          },
          "title": {
           "x": 0.05
          },
          "xaxis": {
           "automargin": true,
           "gridcolor": "white",
           "linecolor": "white",
           "ticks": "",
           "title": {
            "standoff": 15
           },
           "zerolinecolor": "white",
           "zerolinewidth": 2
          },
          "yaxis": {
           "automargin": true,
           "gridcolor": "white",
           "linecolor": "white",
           "ticks": "",
           "title": {
            "standoff": 15
           },
           "zerolinecolor": "white",
           "zerolinewidth": 2
          }
         }
        },
        "yaxis": {
         "visible": false
        }
       }
      }
     },
     "metadata": {},
     "output_type": "display_data"
    },
    {
     "data": {
      "text/plain": [
       "0.5379381229554602"
      ]
     },
     "execution_count": 414,
     "metadata": {},
     "output_type": "execute_result"
    }
   ],
   "source": [
    "HVCS_construction_cost_pro,HVCS_construction_cost_pro_negative  = cal_norm(df_HVCS_construction_cost['구축 비용'].mean(),\n",
    "                                                                           df_HVCS_construction_cost['구축 비용'].std(),\n",
    "                                                                           df_HVCS_construction_cost['구축 비용'].min(),\n",
    "                                                                           df_HVCS_construction_cost['구축 비용'].max(),\n",
    "                                                                           HVCS_construction_cost_standard,\n",
    "                                                                           True)\n",
    "HVCS_construction_cost_pro"
   ]
  },
  {
   "cell_type": "markdown",
   "metadata": {},
   "source": [
    "### 평균소득"
   ]
  },
  {
   "cell_type": "code",
   "execution_count": null,
   "metadata": {},
   "outputs": [
    {
     "data": {
      "text/html": [
       "<div>\n",
       "<style scoped>\n",
       "    .dataframe tbody tr th:only-of-type {\n",
       "        vertical-align: middle;\n",
       "    }\n",
       "\n",
       "    .dataframe tbody tr th {\n",
       "        vertical-align: top;\n",
       "    }\n",
       "\n",
       "    .dataframe thead th {\n",
       "        text-align: right;\n",
       "    }\n",
       "</style>\n",
       "<table border=\"1\" class=\"dataframe\">\n",
       "  <thead>\n",
       "    <tr style=\"text-align: right;\">\n",
       "      <th></th>\n",
       "      <th>행정구</th>\n",
       "      <th>행정동</th>\n",
       "      <th>가구당인구수</th>\n",
       "      <th>평균소득금액(만)</th>\n",
       "      <th>면적(km^2)</th>\n",
       "      <th>도로연장(km)</th>\n",
       "      <th>인구밀도(km^2)</th>\n",
       "      <th>도로보급률</th>\n",
       "      <th>도로보급률 지수</th>\n",
       "    </tr>\n",
       "  </thead>\n",
       "  <tbody>\n",
       "    <tr>\n",
       "      <th>0</th>\n",
       "      <td>강서구</td>\n",
       "      <td>가덕도동</td>\n",
       "      <td>2.00</td>\n",
       "      <td>2414.330000</td>\n",
       "      <td>19.42</td>\n",
       "      <td>63.024042</td>\n",
       "      <td>210</td>\n",
       "      <td>7.079431</td>\n",
       "      <td>0.397613</td>\n",
       "    </tr>\n",
       "    <tr>\n",
       "      <th>1</th>\n",
       "      <td>강서구</td>\n",
       "      <td>가락동</td>\n",
       "      <td>1.77</td>\n",
       "      <td>1765.034000</td>\n",
       "      <td>14.09</td>\n",
       "      <td>50.605329</td>\n",
       "      <td>164</td>\n",
       "      <td>8.866390</td>\n",
       "      <td>0.776725</td>\n",
       "    </tr>\n",
       "    <tr>\n",
       "      <th>2</th>\n",
       "      <td>강서구</td>\n",
       "      <td>강동동</td>\n",
       "      <td>1.99</td>\n",
       "      <td>2650.385000</td>\n",
       "      <td>16.31</td>\n",
       "      <td>28.907008</td>\n",
       "      <td>256</td>\n",
       "      <td>3.501386</td>\n",
       "      <td>0.212054</td>\n",
       "    </tr>\n",
       "    <tr>\n",
       "      <th>3</th>\n",
       "      <td>강서구</td>\n",
       "      <td>녹산동</td>\n",
       "      <td>1.94</td>\n",
       "      <td>2143.833333</td>\n",
       "      <td>58.93</td>\n",
       "      <td>305.938534</td>\n",
       "      <td>609</td>\n",
       "      <td>6.654082</td>\n",
       "      <td>0.072362</td>\n",
       "    </tr>\n",
       "    <tr>\n",
       "      <th>4</th>\n",
       "      <td>강서구</td>\n",
       "      <td>대저1동</td>\n",
       "      <td>1.91</td>\n",
       "      <td>3128.142500</td>\n",
       "      <td>13.66</td>\n",
       "      <td>86.238678</td>\n",
       "      <td>470</td>\n",
       "      <td>9.211084</td>\n",
       "      <td>0.491914</td>\n",
       "    </tr>\n",
       "    <tr>\n",
       "      <th>...</th>\n",
       "      <td>...</td>\n",
       "      <td>...</td>\n",
       "      <td>...</td>\n",
       "      <td>...</td>\n",
       "      <td>...</td>\n",
       "      <td>...</td>\n",
       "      <td>...</td>\n",
       "      <td>...</td>\n",
       "      <td>...</td>\n",
       "    </tr>\n",
       "    <tr>\n",
       "      <th>200</th>\n",
       "      <td>해운대구</td>\n",
       "      <td>좌2동</td>\n",
       "      <td>2.37</td>\n",
       "      <td>3611.697857</td>\n",
       "      <td>0.50</td>\n",
       "      <td>5.592018</td>\n",
       "      <td>63270</td>\n",
       "      <td>1.406046</td>\n",
       "      <td>0.176767</td>\n",
       "    </tr>\n",
       "    <tr>\n",
       "      <th>201</th>\n",
       "      <td>해운대구</td>\n",
       "      <td>좌3동</td>\n",
       "      <td>2.35</td>\n",
       "      <td>3054.358462</td>\n",
       "      <td>0.72</td>\n",
       "      <td>7.319492</td>\n",
       "      <td>22071</td>\n",
       "      <td>2.163909</td>\n",
       "      <td>0.319865</td>\n",
       "    </tr>\n",
       "    <tr>\n",
       "      <th>202</th>\n",
       "      <td>해운대구</td>\n",
       "      <td>좌4동</td>\n",
       "      <td>2.49</td>\n",
       "      <td>3271.529231</td>\n",
       "      <td>1.80</td>\n",
       "      <td>15.660067</td>\n",
       "      <td>12713</td>\n",
       "      <td>2.440062</td>\n",
       "      <td>0.190098</td>\n",
       "    </tr>\n",
       "    <tr>\n",
       "      <th>203</th>\n",
       "      <td>해운대구</td>\n",
       "      <td>중1동</td>\n",
       "      <td>2.69</td>\n",
       "      <td>4010.241000</td>\n",
       "      <td>1.73</td>\n",
       "      <td>21.117586</td>\n",
       "      <td>16092</td>\n",
       "      <td>3.042892</td>\n",
       "      <td>0.219229</td>\n",
       "    </tr>\n",
       "    <tr>\n",
       "      <th>204</th>\n",
       "      <td>해운대구</td>\n",
       "      <td>중2동</td>\n",
       "      <td>2.25</td>\n",
       "      <td>3184.035455</td>\n",
       "      <td>1.16</td>\n",
       "      <td>17.039749</td>\n",
       "      <td>13612</td>\n",
       "      <td>3.981467</td>\n",
       "      <td>0.465150</td>\n",
       "    </tr>\n",
       "  </tbody>\n",
       "</table>\n",
       "<p>205 rows × 9 columns</p>\n",
       "</div>"
      ],
      "text/plain": [
       "      행정구   행정동  가구당인구수    평균소득금액(만)  면적(km^2)    도로연장(km)  인구밀도(km^2)  \\\n",
       "0     강서구  가덕도동    2.00  2414.330000     19.42   63.024042         210   \n",
       "1     강서구   가락동    1.77  1765.034000     14.09   50.605329         164   \n",
       "2     강서구   강동동    1.99  2650.385000     16.31   28.907008         256   \n",
       "3     강서구   녹산동    1.94  2143.833333     58.93  305.938534         609   \n",
       "4     강서구  대저1동    1.91  3128.142500     13.66   86.238678         470   \n",
       "..    ...   ...     ...          ...       ...         ...         ...   \n",
       "200  해운대구   좌2동    2.37  3611.697857      0.50    5.592018       63270   \n",
       "201  해운대구   좌3동    2.35  3054.358462      0.72    7.319492       22071   \n",
       "202  해운대구   좌4동    2.49  3271.529231      1.80   15.660067       12713   \n",
       "203  해운대구   중1동    2.69  4010.241000      1.73   21.117586       16092   \n",
       "204  해운대구   중2동    2.25  3184.035455      1.16   17.039749       13612   \n",
       "\n",
       "        도로보급률  도로보급률 지수  \n",
       "0    7.079431  0.397613  \n",
       "1    8.866390  0.776725  \n",
       "2    3.501386  0.212054  \n",
       "3    6.654082  0.072362  \n",
       "4    9.211084  0.491914  \n",
       "..        ...       ...  \n",
       "200  1.406046  0.176767  \n",
       "201  2.163909  0.319865  \n",
       "202  2.440062  0.190098  \n",
       "203  3.042892  0.219229  \n",
       "204  3.981467  0.465150  \n",
       "\n",
       "[205 rows x 9 columns]"
      ]
     },
     "metadata": {},
     "output_type": "display_data"
    }
   ],
   "source": [
    "income_file_path = 'C:\\\\Users\\\\SAMSUNG\\\\Desktop\\\\Green-Car-Charging-Station-Site-Selection\\\\Data\\\\부산 평균소득(인구밀도, 도로보급률).csv'\n",
    "df_income = pd.read_csv(income_file_path,encoding='cp949')\n",
    "df_income"
   ]
  },
  {
   "cell_type": "code",
   "execution_count": null,
   "metadata": {},
   "outputs": [],
   "source": [
    "# gu = []\n",
    "# dong = []\n",
    "# for i in range(df_income.shape[0]):\n",
    "#     text = df_income.iloc[i]['행정동']\n",
    "#     strings = text.split()\n",
    "#     gu.append(strings[1])\n",
    "#     dong.append(strings[2])"
   ]
  },
  {
   "cell_type": "code",
   "execution_count": null,
   "metadata": {},
   "outputs": [
    {
     "data": {
      "text/html": [
       "<div>\n",
       "<style scoped>\n",
       "    .dataframe tbody tr th:only-of-type {\n",
       "        vertical-align: middle;\n",
       "    }\n",
       "\n",
       "    .dataframe tbody tr th {\n",
       "        vertical-align: top;\n",
       "    }\n",
       "\n",
       "    .dataframe thead th {\n",
       "        text-align: right;\n",
       "    }\n",
       "</style>\n",
       "<table border=\"1\" class=\"dataframe\">\n",
       "  <thead>\n",
       "    <tr style=\"text-align: right;\">\n",
       "      <th></th>\n",
       "      <th>가구당인구수</th>\n",
       "      <th>평균소득금액(만)</th>\n",
       "    </tr>\n",
       "  </thead>\n",
       "  <tbody>\n",
       "    <tr>\n",
       "      <th>0</th>\n",
       "      <td>2.00</td>\n",
       "      <td>2414.330000</td>\n",
       "    </tr>\n",
       "    <tr>\n",
       "      <th>1</th>\n",
       "      <td>1.77</td>\n",
       "      <td>1765.034000</td>\n",
       "    </tr>\n",
       "    <tr>\n",
       "      <th>2</th>\n",
       "      <td>1.99</td>\n",
       "      <td>2650.385000</td>\n",
       "    </tr>\n",
       "    <tr>\n",
       "      <th>3</th>\n",
       "      <td>1.94</td>\n",
       "      <td>2143.833333</td>\n",
       "    </tr>\n",
       "    <tr>\n",
       "      <th>4</th>\n",
       "      <td>1.91</td>\n",
       "      <td>3128.142500</td>\n",
       "    </tr>\n",
       "    <tr>\n",
       "      <th>...</th>\n",
       "      <td>...</td>\n",
       "      <td>...</td>\n",
       "    </tr>\n",
       "    <tr>\n",
       "      <th>200</th>\n",
       "      <td>2.37</td>\n",
       "      <td>3611.697857</td>\n",
       "    </tr>\n",
       "    <tr>\n",
       "      <th>201</th>\n",
       "      <td>2.35</td>\n",
       "      <td>3054.358462</td>\n",
       "    </tr>\n",
       "    <tr>\n",
       "      <th>202</th>\n",
       "      <td>2.49</td>\n",
       "      <td>3271.529231</td>\n",
       "    </tr>\n",
       "    <tr>\n",
       "      <th>203</th>\n",
       "      <td>2.69</td>\n",
       "      <td>4010.241000</td>\n",
       "    </tr>\n",
       "    <tr>\n",
       "      <th>204</th>\n",
       "      <td>2.25</td>\n",
       "      <td>3184.035455</td>\n",
       "    </tr>\n",
       "  </tbody>\n",
       "</table>\n",
       "<p>205 rows × 2 columns</p>\n",
       "</div>"
      ],
      "text/plain": [
       "     가구당인구수    평균소득금액(만)\n",
       "0      2.00  2414.330000\n",
       "1      1.77  1765.034000\n",
       "2      1.99  2650.385000\n",
       "3      1.94  2143.833333\n",
       "4      1.91  3128.142500\n",
       "..      ...          ...\n",
       "200    2.37  3611.697857\n",
       "201    2.35  3054.358462\n",
       "202    2.49  3271.529231\n",
       "203    2.69  4010.241000\n",
       "204    2.25  3184.035455\n",
       "\n",
       "[205 rows x 2 columns]"
      ]
     },
     "metadata": {},
     "output_type": "display_data"
    }
   ],
   "source": [
    "# df_income.drop(columns='행정동',inplace=True)\n",
    "# df_income.insert(0,'행정구',gu)\n",
    "# df_income.insert(1,'행정동',dong)\n",
    "# df_income.to_csv(income_file_path,encoding='cp949',index=False)"
   ]
  },
  {
   "cell_type": "code",
   "execution_count": 408,
   "metadata": {},
   "outputs": [
    {
     "data": {
      "application/vnd.plotly.v1+json": {
       "config": {
        "plotlyServerURL": "https://plot.ly"
       },
       "data": [
        {
         "fill": "tozeroy",
         "line": {
          "color": "rgb(239,85,59)"
         },
         "name": "부적합",
         "type": "scatter",
         "x": [
          999.7211389932572,
          1025.9865820337293,
          1052.2520250742016,
          1078.5174681146736,
          1104.782911155146,
          1131.048354195618,
          1157.31379723609,
          1183.5792402765624,
          1209.8446833170344,
          1236.1101263575065,
          1262.3755693979788,
          1288.6410124384508,
          1314.906455478923,
          1341.1718985193952,
          1367.4373415598673,
          1393.7027846003393,
          1419.9682276408116,
          1446.233670681284,
          1472.499113721756,
          1498.764556762228,
          1525.0299998027003,
          1551.2954428431724,
          1577.5608858836445,
          1603.8263289241168,
          1630.0917719645888,
          1656.3572150050609,
          1682.6226580455332,
          1708.8881010860052,
          1735.1535441264773,
          1761.4189871669496,
          1787.6844302074217,
          1813.9498732478937,
          1840.215316288366,
          1866.4807593288383,
          1892.7462023693104,
          1919.0116454097824,
          1945.2770884502547,
          1971.5425314907268,
          1997.8079745311989,
          2024.0734175716711,
          2050.3388606121434,
          2076.6043036526153,
          2102.8697466930876,
          2129.13518973356,
          2155.4006327740317,
          2181.666075814504,
          2207.9315188549763,
          2234.196961895448,
          2260.4624049359204,
          2286.7278479763927,
          2312.9932910168645,
          2339.258734057337,
          2365.524177097809,
          2391.789620138281,
          2418.0550631787532,
          2444.3205062192255,
          2470.5859492596974,
          2496.8513923001697,
          2523.116835340642,
          2549.382278381114,
          2575.647721421586,
          2601.9131644620584,
          2628.17860750253,
          2654.444050543003,
          2680.709493583475,
          2706.9749366239466,
          2733.2403796644194,
          2759.505822704891,
          2785.7712657453635,
          2812.036708785836,
          2838.3021518263076,
          2864.56759486678,
          2890.833037907252,
          2917.098480947724,
          2943.3639239881963,
          2969.6293670286686,
          2995.8948100691405,
          3022.1602531096128,
          3048.425696150085,
          3074.691139190557,
          3100.956582231029,
          3127.2220252715015,
          3153.4874683119733,
          3179.7529113524456,
          3206.018354392918,
          3232.2837974333897,
          3258.549240473862,
          3284.8146835143343,
          3311.080126554806,
          3337.3455695952784,
          3363.6110126357507,
          3389.876455676223,
          3416.141898716695,
          3442.407341757167,
          3468.6727847976395,
          3494.9382278381113,
          3521.2036708785836,
          3547.469113919056,
          3573.7345569595277,
          3600
         ],
         "y": [
          0.000014431465306125227,
          0.000015837866738354822,
          0.00001736020651153544,
          0.00001900575110847199,
          0.000020781990215206387,
          0.00002269661977782645,
          0.000024757522154797502,
          0.00002697274324479896,
          0.000029350466485797437,
          0.00003189898363934384,
          0.000034626662294867335,
          0.0000375419100520446,
          0.00004065313536510444,
          0.000043968705061110864,
          0.000047496898574735765,
          0.00005124585897463489,
          0.00005522354089108211,
          0.000059437655490765854,
          0.00006389561268233503,
          0.00006860446077508461,
          0.00007357082385273784,
          0.00007880083716423261,
          0.00008430008087331744,
          0.00009007351254816213,
          0.00009612539881060237,
          0.00010245924660156349,
          0.0001090777345541213,
          0.00011598264499802843,
          0.00012317479714882152,
          0.000130653982060293,
          0.00013841889994063803,
          0.00014646710044946505,
          0.00015479492660459924,
          0.00016339746293377947,
          0.0001722684885065317,
          0.00018140043547535138,
          0.0001907843537425458,
          0.00020040988234944665,
          0.00021026522815804913,
          0.0002203371523613802,
          0.00023061096531806923,
          0.00024107053015876725,
          0.0002516982755574362,
          0.0002624752179993757,
          0.00027338099381057034,
          0.00028439390113995955,
          0.00029549095200815105,
          0.00030664793445354553,
          0.0003178394847205528,
          0.0003290391693453651,
          0.00034021957690349823,
          0.00035135241909093864,
          0.00036240864071823665,
          0.0003733585381052999,
          0.0003841718852749894,
          0.0003948180672569795,
          0.0004052662197307844,
          0.00041548537415937676,
          0.000425444607493484,
          0.00043511319546238276,
          0.0004444607684107241,
          0.000453457468593453,
          0.00046207410780296955,
          0.00047028232417495373,
          0.00047805473700227757,
          0.000485365098380577,
          0.0004921884405146071,
          0.00049850121753164,
          0.0005042814406768775,
          0.0005095088058059933,
          0.0005141648121412613,
          0.0005182328713198006,
          0.0005216984058347674,
          0.0005245489360521379,
          0.0005267741550762666,
          0.0005283659908357412,
          0.0005293186548661762,
          0.0005296286773773762,
          0.0005292949283075717,
          0.0005283186241859444,
          0.0005267033207451215,
          0.0005244548913464202,
          0.0005215814914010373,
          0.0005180935090887948,
          0.0005140035027911846,
          0.0005093261257660508,
          0.0005040780386961419,
          0.0004982778108418311,
          0.000491945810618536,
          0.000485104086500848,
          0.00047777623922731245,
          0.0004699872863414919,
          0.0004617635201558759,
          0.00045313236026492875,
          0.0004441222017618569,
          0.0004347622603303759,
          0.000425082415387894,
          0.00041511305245025984,
          0.00040488490587081043,
          0.00039442890307835884
         ]
        },
        {
         "fill": "tozeroy",
         "line": {
          "color": "rgb(100,110,250)"
         },
         "name": "적합",
         "type": "scatter",
         "x": [
          3600,
          3614.8115151515153,
          3629.62303030303,
          3644.4345454545455,
          3659.2460606060604,
          3674.0575757575757,
          3688.869090909091,
          3703.680606060606,
          3718.492121212121,
          3733.3036363636365,
          3748.1151515151514,
          3762.9266666666667,
          3777.738181818182,
          3792.549696969697,
          3807.3612121212122,
          3822.172727272727,
          3836.9842424242424,
          3851.7957575757578,
          3866.6072727272726,
          3881.418787878788,
          3896.230303030303,
          3911.041818181818,
          3925.8533333333335,
          3940.6648484848483,
          3955.4763636363637,
          3970.287878787879,
          3985.099393939394,
          3999.910909090909,
          4014.7224242424245,
          4029.5339393939394,
          4044.3454545454547,
          4059.1569696969696,
          4073.968484848485,
          4088.78,
          4103.5915151515155,
          4118.40303030303,
          4133.214545454545,
          4148.02606060606,
          4162.837575757576,
          4177.649090909091,
          4192.460606060606,
          4207.272121212121,
          4222.083636363636,
          4236.895151515151,
          4251.706666666667,
          4266.518181818182,
          4281.329696969697,
          4296.141212121212,
          4310.952727272727,
          4325.764242424242,
          4340.575757575758,
          4355.387272727273,
          4370.198787878788,
          4385.0103030303035,
          4399.821818181818,
          4414.633333333333,
          4429.444848484849,
          4444.256363636364,
          4459.067878787879,
          4473.8793939393945,
          4488.690909090909,
          4503.502424242424,
          4518.313939393939,
          4533.125454545455,
          4547.93696969697,
          4562.748484848485,
          4577.56,
          4592.371515151515,
          4607.18303030303,
          4621.994545454545,
          4636.806060606061,
          4651.617575757576,
          4666.4290909090905,
          4681.240606060606,
          4696.052121212121,
          4710.863636363636,
          4725.675151515152,
          4740.486666666667,
          4755.298181818182,
          4770.109696969697,
          4784.921212121212,
          4799.732727272727,
          4814.544242424243,
          4829.355757575758,
          4844.167272727273,
          4858.978787878788,
          4873.790303030303,
          4888.601818181818,
          4903.413333333334,
          4918.224848484849,
          4933.036363636364,
          4947.847878787879,
          4962.659393939394,
          4977.470909090909,
          4992.282424242425,
          5007.09393939394,
          5021.905454545455,
          5036.7169696969695,
          5051.528484848484,
          5066.34
         ],
         "y": [
          0.00039442890307835884,
          0.0003884437890713768,
          0.000382401608410942,
          0.00037630788398506607,
          0.00037016811103492695,
          0.00036398774916669035,
          0.0003577722145604396,
          0.00035152687239091283,
          0.0003452570294739408,
          0.0003389679271516426,
          0.0003326647344285617,
          0.00032635254137004425,
          0.00032003635277325396,
          0.00031372108212029276,
          0.00030741154582196277,
          0.00030111245775977044,
          0.0002948284241328119,
          0.0002885639386152464,
          0.00028232337782910347,
          0.000276110997136234,
          0.00026993092675228254,
          0.0002637871681846261,
          0.0002576835909953274,
          0.00025162392988924696,
          0.00024561178212659127,
          0.0002396506052583241,
          0.00023374371518203633,
          0.00022789428451507494,
          0.0002221053412809603,
          0.00021637976790437656,
          0.00021072030050931837,
          0.000205129528514302,
          0.00019960989451790778,
          0.0001941636944673272,
          0.0001887930781020194,
          0.00018350004966406189,
          0.00017828646886629507,
          0.00017315405210891838,
          0.00016810437393479134,
          0.00016313886871333313,
          0.0001582588325425902,
          0.00015346542535876813,
          0.00014875967324228036,
          0.0001441424709091657,
          0.0001396145843765772,
          0.00013517665379091722,
          0.00013082919640711266,
          0.0001265726097074895,
          0.00012240717464868977,
          0.00011833305902510422,
          0.000114350320937363,
          0.00011045891235451505,
          0.00010665868275865359,
          0.00010294938286091023,
          0.00009933066837791593,
          0.00009580210385804224,
          0.00009236316654697757,
          0.0000890132502824489,
          0.00008575166940818086,
          0.00008257766269749437,
          0.00007949039727725914,
          0.0000764889725432553,
          0.00007357242405835383,
          0.0000707397274252862,
          0.00006798980212615422,
          0.0000653215153212125,
          0.00006273368559985595,
          0.00006022508667714032,
          0.00005779445102956906,
          0.00005544047346429116,
          0.000053161814616260645,
          0.00005095710436832034,
          0.00004882494518957889,
          0.0000467639153878591,
          0.0000447725722723948,
          0.00004284945522335064,
          0.000040993088665131917,
          0.00003920198494083296,
          0.000037474647085546794,
          0.00003580957149662836,
          0.00003420525049935562,
          0.00003266017480677822,
          0.00003117283587287968,
          0.000029741728138496975,
          0.000028365351169750783,
          0.000027042211689036596,
          0.00002577082549890677,
          0.000024549719299440955,
          0.000023377432399959032,
          0.00002225251832616633,
          0.000021173546324046947,
          0.000020139102762032168,
          0.0000191477924331647,
          0.000018198239759160626,
          0.00001728908989843833,
          0.000016419009760334542,
          0.000015586688927865242,
          0.00001479084049151456,
          0.000014030201796643051,
          0.000013303535107204911
         ]
        }
       ],
       "layout": {
        "annotations": [
         {
          "bordercolor": "rgb(239,85,59)",
          "borderwidth": 2,
          "font": {
           "color": "rgb(239,85,59)",
           "size": 15
          },
          "showarrow": false,
          "text": "0.775",
          "x": 3600,
          "xshift": -40,
          "y": 0.00039442890307835884,
          "yshift": -100
         },
         {
          "bordercolor": "rgb(100,110,250)",
          "borderwidth": 2,
          "font": {
           "color": "rgb(100,110,250)",
           "size": 15
          },
          "showarrow": false,
          "text": "0.225",
          "x": 3600,
          "xshift": 40,
          "y": 0.00039442890307835884,
          "yshift": -100
         }
        ],
        "template": {
         "data": {
          "bar": [
           {
            "error_x": {
             "color": "#2a3f5f"
            },
            "error_y": {
             "color": "#2a3f5f"
            },
            "marker": {
             "line": {
              "color": "#E5ECF6",
              "width": 0.5
             },
             "pattern": {
              "fillmode": "overlay",
              "size": 10,
              "solidity": 0.2
             }
            },
            "type": "bar"
           }
          ],
          "barpolar": [
           {
            "marker": {
             "line": {
              "color": "#E5ECF6",
              "width": 0.5
             },
             "pattern": {
              "fillmode": "overlay",
              "size": 10,
              "solidity": 0.2
             }
            },
            "type": "barpolar"
           }
          ],
          "carpet": [
           {
            "aaxis": {
             "endlinecolor": "#2a3f5f",
             "gridcolor": "white",
             "linecolor": "white",
             "minorgridcolor": "white",
             "startlinecolor": "#2a3f5f"
            },
            "baxis": {
             "endlinecolor": "#2a3f5f",
             "gridcolor": "white",
             "linecolor": "white",
             "minorgridcolor": "white",
             "startlinecolor": "#2a3f5f"
            },
            "type": "carpet"
           }
          ],
          "choropleth": [
           {
            "colorbar": {
             "outlinewidth": 0,
             "ticks": ""
            },
            "type": "choropleth"
           }
          ],
          "contour": [
           {
            "colorbar": {
             "outlinewidth": 0,
             "ticks": ""
            },
            "colorscale": [
             [
              0,
              "#0d0887"
             ],
             [
              0.1111111111111111,
              "#46039f"
             ],
             [
              0.2222222222222222,
              "#7201a8"
             ],
             [
              0.3333333333333333,
              "#9c179e"
             ],
             [
              0.4444444444444444,
              "#bd3786"
             ],
             [
              0.5555555555555556,
              "#d8576b"
             ],
             [
              0.6666666666666666,
              "#ed7953"
             ],
             [
              0.7777777777777778,
              "#fb9f3a"
             ],
             [
              0.8888888888888888,
              "#fdca26"
             ],
             [
              1,
              "#f0f921"
             ]
            ],
            "type": "contour"
           }
          ],
          "contourcarpet": [
           {
            "colorbar": {
             "outlinewidth": 0,
             "ticks": ""
            },
            "type": "contourcarpet"
           }
          ],
          "heatmap": [
           {
            "colorbar": {
             "outlinewidth": 0,
             "ticks": ""
            },
            "colorscale": [
             [
              0,
              "#0d0887"
             ],
             [
              0.1111111111111111,
              "#46039f"
             ],
             [
              0.2222222222222222,
              "#7201a8"
             ],
             [
              0.3333333333333333,
              "#9c179e"
             ],
             [
              0.4444444444444444,
              "#bd3786"
             ],
             [
              0.5555555555555556,
              "#d8576b"
             ],
             [
              0.6666666666666666,
              "#ed7953"
             ],
             [
              0.7777777777777778,
              "#fb9f3a"
             ],
             [
              0.8888888888888888,
              "#fdca26"
             ],
             [
              1,
              "#f0f921"
             ]
            ],
            "type": "heatmap"
           }
          ],
          "heatmapgl": [
           {
            "colorbar": {
             "outlinewidth": 0,
             "ticks": ""
            },
            "colorscale": [
             [
              0,
              "#0d0887"
             ],
             [
              0.1111111111111111,
              "#46039f"
             ],
             [
              0.2222222222222222,
              "#7201a8"
             ],
             [
              0.3333333333333333,
              "#9c179e"
             ],
             [
              0.4444444444444444,
              "#bd3786"
             ],
             [
              0.5555555555555556,
              "#d8576b"
             ],
             [
              0.6666666666666666,
              "#ed7953"
             ],
             [
              0.7777777777777778,
              "#fb9f3a"
             ],
             [
              0.8888888888888888,
              "#fdca26"
             ],
             [
              1,
              "#f0f921"
             ]
            ],
            "type": "heatmapgl"
           }
          ],
          "histogram": [
           {
            "marker": {
             "pattern": {
              "fillmode": "overlay",
              "size": 10,
              "solidity": 0.2
             }
            },
            "type": "histogram"
           }
          ],
          "histogram2d": [
           {
            "colorbar": {
             "outlinewidth": 0,
             "ticks": ""
            },
            "colorscale": [
             [
              0,
              "#0d0887"
             ],
             [
              0.1111111111111111,
              "#46039f"
             ],
             [
              0.2222222222222222,
              "#7201a8"
             ],
             [
              0.3333333333333333,
              "#9c179e"
             ],
             [
              0.4444444444444444,
              "#bd3786"
             ],
             [
              0.5555555555555556,
              "#d8576b"
             ],
             [
              0.6666666666666666,
              "#ed7953"
             ],
             [
              0.7777777777777778,
              "#fb9f3a"
             ],
             [
              0.8888888888888888,
              "#fdca26"
             ],
             [
              1,
              "#f0f921"
             ]
            ],
            "type": "histogram2d"
           }
          ],
          "histogram2dcontour": [
           {
            "colorbar": {
             "outlinewidth": 0,
             "ticks": ""
            },
            "colorscale": [
             [
              0,
              "#0d0887"
             ],
             [
              0.1111111111111111,
              "#46039f"
             ],
             [
              0.2222222222222222,
              "#7201a8"
             ],
             [
              0.3333333333333333,
              "#9c179e"
             ],
             [
              0.4444444444444444,
              "#bd3786"
             ],
             [
              0.5555555555555556,
              "#d8576b"
             ],
             [
              0.6666666666666666,
              "#ed7953"
             ],
             [
              0.7777777777777778,
              "#fb9f3a"
             ],
             [
              0.8888888888888888,
              "#fdca26"
             ],
             [
              1,
              "#f0f921"
             ]
            ],
            "type": "histogram2dcontour"
           }
          ],
          "mesh3d": [
           {
            "colorbar": {
             "outlinewidth": 0,
             "ticks": ""
            },
            "type": "mesh3d"
           }
          ],
          "parcoords": [
           {
            "line": {
             "colorbar": {
              "outlinewidth": 0,
              "ticks": ""
             }
            },
            "type": "parcoords"
           }
          ],
          "pie": [
           {
            "automargin": true,
            "type": "pie"
           }
          ],
          "scatter": [
           {
            "marker": {
             "colorbar": {
              "outlinewidth": 0,
              "ticks": ""
             }
            },
            "type": "scatter"
           }
          ],
          "scatter3d": [
           {
            "line": {
             "colorbar": {
              "outlinewidth": 0,
              "ticks": ""
             }
            },
            "marker": {
             "colorbar": {
              "outlinewidth": 0,
              "ticks": ""
             }
            },
            "type": "scatter3d"
           }
          ],
          "scattercarpet": [
           {
            "marker": {
             "colorbar": {
              "outlinewidth": 0,
              "ticks": ""
             }
            },
            "type": "scattercarpet"
           }
          ],
          "scattergeo": [
           {
            "marker": {
             "colorbar": {
              "outlinewidth": 0,
              "ticks": ""
             }
            },
            "type": "scattergeo"
           }
          ],
          "scattergl": [
           {
            "marker": {
             "colorbar": {
              "outlinewidth": 0,
              "ticks": ""
             }
            },
            "type": "scattergl"
           }
          ],
          "scattermapbox": [
           {
            "marker": {
             "colorbar": {
              "outlinewidth": 0,
              "ticks": ""
             }
            },
            "type": "scattermapbox"
           }
          ],
          "scatterpolar": [
           {
            "marker": {
             "colorbar": {
              "outlinewidth": 0,
              "ticks": ""
             }
            },
            "type": "scatterpolar"
           }
          ],
          "scatterpolargl": [
           {
            "marker": {
             "colorbar": {
              "outlinewidth": 0,
              "ticks": ""
             }
            },
            "type": "scatterpolargl"
           }
          ],
          "scatterternary": [
           {
            "marker": {
             "colorbar": {
              "outlinewidth": 0,
              "ticks": ""
             }
            },
            "type": "scatterternary"
           }
          ],
          "surface": [
           {
            "colorbar": {
             "outlinewidth": 0,
             "ticks": ""
            },
            "colorscale": [
             [
              0,
              "#0d0887"
             ],
             [
              0.1111111111111111,
              "#46039f"
             ],
             [
              0.2222222222222222,
              "#7201a8"
             ],
             [
              0.3333333333333333,
              "#9c179e"
             ],
             [
              0.4444444444444444,
              "#bd3786"
             ],
             [
              0.5555555555555556,
              "#d8576b"
             ],
             [
              0.6666666666666666,
              "#ed7953"
             ],
             [
              0.7777777777777778,
              "#fb9f3a"
             ],
             [
              0.8888888888888888,
              "#fdca26"
             ],
             [
              1,
              "#f0f921"
             ]
            ],
            "type": "surface"
           }
          ],
          "table": [
           {
            "cells": {
             "fill": {
              "color": "#EBF0F8"
             },
             "line": {
              "color": "white"
             }
            },
            "header": {
             "fill": {
              "color": "#C8D4E3"
             },
             "line": {
              "color": "white"
             }
            },
            "type": "table"
           }
          ]
         },
         "layout": {
          "annotationdefaults": {
           "arrowcolor": "#2a3f5f",
           "arrowhead": 0,
           "arrowwidth": 1
          },
          "autotypenumbers": "strict",
          "coloraxis": {
           "colorbar": {
            "outlinewidth": 0,
            "ticks": ""
           }
          },
          "colorscale": {
           "diverging": [
            [
             0,
             "#8e0152"
            ],
            [
             0.1,
             "#c51b7d"
            ],
            [
             0.2,
             "#de77ae"
            ],
            [
             0.3,
             "#f1b6da"
            ],
            [
             0.4,
             "#fde0ef"
            ],
            [
             0.5,
             "#f7f7f7"
            ],
            [
             0.6,
             "#e6f5d0"
            ],
            [
             0.7,
             "#b8e186"
            ],
            [
             0.8,
             "#7fbc41"
            ],
            [
             0.9,
             "#4d9221"
            ],
            [
             1,
             "#276419"
            ]
           ],
           "sequential": [
            [
             0,
             "#0d0887"
            ],
            [
             0.1111111111111111,
             "#46039f"
            ],
            [
             0.2222222222222222,
             "#7201a8"
            ],
            [
             0.3333333333333333,
             "#9c179e"
            ],
            [
             0.4444444444444444,
             "#bd3786"
            ],
            [
             0.5555555555555556,
             "#d8576b"
            ],
            [
             0.6666666666666666,
             "#ed7953"
            ],
            [
             0.7777777777777778,
             "#fb9f3a"
            ],
            [
             0.8888888888888888,
             "#fdca26"
            ],
            [
             1,
             "#f0f921"
            ]
           ],
           "sequentialminus": [
            [
             0,
             "#0d0887"
            ],
            [
             0.1111111111111111,
             "#46039f"
            ],
            [
             0.2222222222222222,
             "#7201a8"
            ],
            [
             0.3333333333333333,
             "#9c179e"
            ],
            [
             0.4444444444444444,
             "#bd3786"
            ],
            [
             0.5555555555555556,
             "#d8576b"
            ],
            [
             0.6666666666666666,
             "#ed7953"
            ],
            [
             0.7777777777777778,
             "#fb9f3a"
            ],
            [
             0.8888888888888888,
             "#fdca26"
            ],
            [
             1,
             "#f0f921"
            ]
           ]
          },
          "colorway": [
           "#636efa",
           "#EF553B",
           "#00cc96",
           "#ab63fa",
           "#FFA15A",
           "#19d3f3",
           "#FF6692",
           "#B6E880",
           "#FF97FF",
           "#FECB52"
          ],
          "font": {
           "color": "#2a3f5f"
          },
          "geo": {
           "bgcolor": "white",
           "lakecolor": "white",
           "landcolor": "#E5ECF6",
           "showlakes": true,
           "showland": true,
           "subunitcolor": "white"
          },
          "hoverlabel": {
           "align": "left"
          },
          "hovermode": "closest",
          "mapbox": {
           "style": "light"
          },
          "paper_bgcolor": "white",
          "plot_bgcolor": "#E5ECF6",
          "polar": {
           "angularaxis": {
            "gridcolor": "white",
            "linecolor": "white",
            "ticks": ""
           },
           "bgcolor": "#E5ECF6",
           "radialaxis": {
            "gridcolor": "white",
            "linecolor": "white",
            "ticks": ""
           }
          },
          "scene": {
           "xaxis": {
            "backgroundcolor": "#E5ECF6",
            "gridcolor": "white",
            "gridwidth": 2,
            "linecolor": "white",
            "showbackground": true,
            "ticks": "",
            "zerolinecolor": "white"
           },
           "yaxis": {
            "backgroundcolor": "#E5ECF6",
            "gridcolor": "white",
            "gridwidth": 2,
            "linecolor": "white",
            "showbackground": true,
            "ticks": "",
            "zerolinecolor": "white"
           },
           "zaxis": {
            "backgroundcolor": "#E5ECF6",
            "gridcolor": "white",
            "gridwidth": 2,
            "linecolor": "white",
            "showbackground": true,
            "ticks": "",
            "zerolinecolor": "white"
           }
          },
          "shapedefaults": {
           "line": {
            "color": "#2a3f5f"
           }
          },
          "ternary": {
           "aaxis": {
            "gridcolor": "white",
            "linecolor": "white",
            "ticks": ""
           },
           "baxis": {
            "gridcolor": "white",
            "linecolor": "white",
            "ticks": ""
           },
           "bgcolor": "#E5ECF6",
           "caxis": {
            "gridcolor": "white",
            "linecolor": "white",
            "ticks": ""
           }
          },
          "title": {
           "x": 0.05
          },
          "xaxis": {
           "automargin": true,
           "gridcolor": "white",
           "linecolor": "white",
           "ticks": "",
           "title": {
            "standoff": 15
           },
           "zerolinecolor": "white",
           "zerolinewidth": 2
          },
          "yaxis": {
           "automargin": true,
           "gridcolor": "white",
           "linecolor": "white",
           "ticks": "",
           "title": {
            "standoff": 15
           },
           "zerolinecolor": "white",
           "zerolinewidth": 2
          }
         }
        },
        "yaxis": {
         "visible": false
        }
       }
      }
     },
     "metadata": {},
     "output_type": "display_data"
    }
   ],
   "source": [
    "income_pro, income_pro_negative = cal_norm(df_income['평균소득금액(만)'].mean(),\n",
    "                                           df_income['평균소득금액(만)'].std(),\n",
    "                                           df_income['평균소득금액(만)'].min(),\n",
    "                                           df_income['평균소득금액(만)'].max(),\n",
    "                                           income_standard,\n",
    "                                           False)"
   ]
  },
  {
   "cell_type": "markdown",
   "metadata": {},
   "source": [
    "### 전기차충전소 유지비용"
   ]
  },
  {
   "cell_type": "code",
   "execution_count": null,
   "metadata": {},
   "outputs": [],
   "source": []
  },
  {
   "cell_type": "markdown",
   "metadata": {},
   "source": [
    "### 수소차충전소 기대수익"
   ]
  },
  {
   "cell_type": "markdown",
   "metadata": {},
   "source": [
    "#### 연간 유지비용"
   ]
  },
  {
   "cell_type": "markdown",
   "metadata": {},
   "source": [
    "연간 운영비는 약 3.25억원이 소요되며, 그 세부내역은 아래와 같다.\n",
    "\n",
    "- 인건비: 6,000만 원(인건비: 안전관리책임자 1인 4천만 원 + 충전원 1인 2천만 원)\n",
    "- 전기세 비용: 16,200만 원(칠러: 5 kWh/kg, 압축기: 3.3 kWh/kg 등) [10% 가동 시 1,620만 원, 50% 가동 시 8,100만 원]\n",
    "- 유지보수비: 3,000만 원(장비 수리비 및 노후장비 교체비용)\n",
    "- 고압가스 품질검사: 400만 원(100만 원 × 4회)\n",
    "- 연간 도로점용료: 500만 원(부지 공시지가의5% 가정, 10만 원/m2, 1,000 m2)\n",
    "- 카드수수료: 5,400만 원(3%, 10,000원/kg) [10% 가동 시 540만 원, 50% 가동 시 2,700만 원]\n",
    "- 기타: 1,000만 원(공과금, 교육훈련비, 물품구입비, 경비용역비 등)\n",
    "\n",
    "정부보조금을 제외한 본인 투자금 15억 원, 할인율 10%, 회수기간 15년을 가정하면, 연간수익 2\n",
    "억 원이 손익분기점이 된다. 수소충전소가 100%가동할 경우에는 판매마진 3,000원/kg으로 유지\n",
    "가능하며, 초기에 가동률이 10%로 낮을 경우에는판매마진이 3,000원/kg이라면 운영비 보조금을 연\n",
    "간 2.8억 원 지원하여야 적자를 면할 수 있다"
   ]
  },
  {
   "cell_type": "code",
   "execution_count": 508,
   "metadata": {},
   "outputs": [],
   "source": [
    "def cal_maintenance_cost(station_type, operating_rate):\n",
    "    # 인건비\n",
    "    if station_type == '복합':\n",
    "        labor_cost = 40_000_000\n",
    "    else:\n",
    "        labor_cost = 60_000_000\n",
    "    # 전기세\n",
    "    # 가동률 1%당 162만원\n",
    "    elec_cost = operating_rate * 1_620_000\n",
    "    # 카드수수료\n",
    "    # 가동률 1%당 54만원\n",
    "    card_cost = operating_rate * 540_000 \n",
    "    # 기타(장비 교체비용, 품질검사비, 연간 도로점용료, 물품구입비, 공과금 등)\n",
    "    etc = 30_000_000 + 4_000_000 + 5_000_000 + 10_000_000\n",
    "    maintenance_cost = labor_cost + elec_cost + card_cost + etc\n",
    "\n",
    "    return maintenance_cost"
   ]
  },
  {
   "cell_type": "markdown",
   "metadata": {},
   "source": [
    "#### 연간 판매수익"
   ]
  },
  {
   "cell_type": "code",
   "execution_count": 524,
   "metadata": {},
   "outputs": [],
   "source": [
    "def cal_revenue(charge_time_average, sale_cost, maintenance_cost):\n",
    "    # 수소연료 평균 공급단가(1kg당)\n",
    "    hidrogen_cost = 6_000\n",
    "    # 수소연료 판매 마진(1kg당)\n",
    "    revenue_per_kg = sale_cost - hidrogen_cost\n",
    "    # 수소차 1회 평균 수소연료 충전량(kg)\n",
    "    charge_amount = 3.736 \n",
    "    # 일평균 판매수익\n",
    "    day_revenue = revenue_per_kg * charge_amount * charge_time_average \n",
    "    year_revenue = day_revenue * 365\n",
    "    # 수소연료구입비 보조금\n",
    "    grant = 0\n",
    "\n",
    "    # 수소연료구입비 보조금 지원금 반영\n",
    "    diff = year_revenue - maintenance_cost\n",
    "    if diff < 0:\n",
    "        diff = -diff\n",
    "        # 기준단가\n",
    "        grant_cost_standard = sale_cost - (maintenance_cost / charge_amount * charge_time_average * 365)\n",
    "        # 지원단가 (수소연료공급단가에 기준단가와 차액의 70%)\n",
    "        grant_cost = (hidrogen_cost - grant_cost_standard) * 0.7\n",
    "        # 지원금액\n",
    "        grant = grant_cost * charge_amount * charge_time_average * 365\n",
    "        # 최대지원금액은 적자의 80%\n",
    "        if grant > diff * 0.8:\n",
    "            grant = diff * 0.8\n",
    "    # 연간수입 + 보조금\n",
    "    year_revenue = year_revenue + grant\n",
    "    # 연간수입에 유지보수비용을 뺀 순수익\n",
    "    diff = year_revenue - maintenance_cost    \n",
    "\n",
    "    return diff"
   ]
  },
  {
   "cell_type": "markdown",
   "metadata": {},
   "source": [
    "#### 연간 기대 수익"
   ]
  },
  {
   "cell_type": "code",
   "execution_count": 525,
   "metadata": {},
   "outputs": [
    {
     "data": {
      "text/plain": [
       "[-26229062.399999976, 50235520.00000003, -19967385.599999994]"
      ]
     },
     "execution_count": 525,
     "metadata": {},
     "output_type": "execute_result"
    }
   ],
   "source": [
    "revenue = []\n",
    "for i in range(df_HVCS.shape[0]):\n",
    "    maintenance_cost = cal_maintenance_cost(df_HVCS.iloc[i]['충전소 설치방식'],df_HVCS.iloc[i]['평균가동률'])\n",
    "    rev = cal_revenue(df_HVCS.iloc[i]['하루평균충전횟수'], df_HVCS.iloc[i]['충전가격'], maintenance_cost)\n",
    "    revenue.append(rev)\n",
    "revenue    "
   ]
  },
  {
   "cell_type": "code",
   "execution_count": 526,
   "metadata": {},
   "outputs": [
    {
     "data": {
      "text/html": [
       "<div>\n",
       "<style scoped>\n",
       "    .dataframe tbody tr th:only-of-type {\n",
       "        vertical-align: middle;\n",
       "    }\n",
       "\n",
       "    .dataframe tbody tr th {\n",
       "        vertical-align: top;\n",
       "    }\n",
       "\n",
       "    .dataframe thead th {\n",
       "        text-align: right;\n",
       "    }\n",
       "</style>\n",
       "<table border=\"1\" class=\"dataframe\">\n",
       "  <thead>\n",
       "    <tr style=\"text-align: right;\">\n",
       "      <th></th>\n",
       "      <th>충전소</th>\n",
       "      <th>충전기</th>\n",
       "      <th>주소</th>\n",
       "      <th>위도</th>\n",
       "      <th>경도</th>\n",
       "      <th>하루평균충전횟수</th>\n",
       "      <th>최대 충전 수소차수</th>\n",
       "      <th>공급방식</th>\n",
       "      <th>충전소 설치방식</th>\n",
       "      <th>압축기용량</th>\n",
       "      <th>충전기용량</th>\n",
       "      <th>충전압력</th>\n",
       "      <th>운영시간</th>\n",
       "      <th>평균가동률</th>\n",
       "      <th>충전가격</th>\n",
       "      <th>연간기대수익</th>\n",
       "    </tr>\n",
       "  </thead>\n",
       "  <tbody>\n",
       "    <tr>\n",
       "      <th>0</th>\n",
       "      <td>서부산NK수소충전소</td>\n",
       "      <td>1</td>\n",
       "      <td>부산광역시 강서구 가락대로 347</td>\n",
       "      <td>35.113171</td>\n",
       "      <td>128.843291</td>\n",
       "      <td>14</td>\n",
       "      <td>67</td>\n",
       "      <td>튜브트레일러</td>\n",
       "      <td>단독</td>\n",
       "      <td>302.63</td>\n",
       "      <td>33.4</td>\n",
       "      <td>700</td>\n",
       "      <td>10</td>\n",
       "      <td>35.0</td>\n",
       "      <td>8800</td>\n",
       "      <td>-26229062.4</td>\n",
       "    </tr>\n",
       "    <tr>\n",
       "      <th>1</th>\n",
       "      <td>H부산수소충전소</td>\n",
       "      <td>3</td>\n",
       "      <td>부산광역시 사상구 학감대로 167</td>\n",
       "      <td>35.145864</td>\n",
       "      <td>128.987651</td>\n",
       "      <td>60</td>\n",
       "      <td>70</td>\n",
       "      <td>천연가스개질</td>\n",
       "      <td>복합</td>\n",
       "      <td>308.00</td>\n",
       "      <td>25.0</td>\n",
       "      <td>700</td>\n",
       "      <td>12</td>\n",
       "      <td>41.6</td>\n",
       "      <td>8800</td>\n",
       "      <td>50235520.0</td>\n",
       "    </tr>\n",
       "    <tr>\n",
       "      <th>2</th>\n",
       "      <td>하이넷부산정관수소충</td>\n",
       "      <td>1</td>\n",
       "      <td>부산광역시 기장군 정관읍 신정관로 187</td>\n",
       "      <td>35.328714</td>\n",
       "      <td>129.201710</td>\n",
       "      <td>16</td>\n",
       "      <td>60</td>\n",
       "      <td>천연가스개질</td>\n",
       "      <td>복합</td>\n",
       "      <td>NaN</td>\n",
       "      <td>25.0</td>\n",
       "      <td>700</td>\n",
       "      <td>12</td>\n",
       "      <td>33.3</td>\n",
       "      <td>8800</td>\n",
       "      <td>-19967385.6</td>\n",
       "    </tr>\n",
       "  </tbody>\n",
       "</table>\n",
       "</div>"
      ],
      "text/plain": [
       "          충전소  충전기                       주소         위도          경도  하루평균충전횟수  \\\n",
       "0  서부산NK수소충전소    1      부산광역시 강서구 가락대로 347   35.113171  128.843291        14   \n",
       "1    H부산수소충전소    3      부산광역시 사상구 학감대로 167   35.145864  128.987651        60   \n",
       "2  하이넷부산정관수소충    1  부산광역시 기장군 정관읍 신정관로 187   35.328714  129.201710        16   \n",
       "\n",
       "   최대 충전 수소차수    공급방식 충전소 설치방식   압축기용량  충전기용량  충전압력  운영시간  평균가동률  충전가격  \\\n",
       "0          67  튜브트레일러       단독  302.63   33.4   700    10   35.0  8800   \n",
       "1          70  천연가스개질       복합  308.00   25.0   700    12   41.6  8800   \n",
       "2          60  천연가스개질       복합     NaN   25.0   700    12   33.3  8800   \n",
       "\n",
       "       연간기대수익  \n",
       "0 -26229062.4  \n",
       "1  50235520.0  \n",
       "2 -19967385.6  "
      ]
     },
     "execution_count": 526,
     "metadata": {},
     "output_type": "execute_result"
    }
   ],
   "source": [
    "df_HVCS.insert(15,'연간기대수익',revenue)\n",
    "df_HVCS"
   ]
  },
  {
   "cell_type": "markdown",
   "metadata": {},
   "source": [
    "## 상위 요소 - 기술적 요소"
   ]
  },
  {
   "cell_type": "markdown",
   "metadata": {},
   "source": [
    "## 결합 확률로 상위 요인 도출하기\n"
   ]
  },
  {
   "cell_type": "code",
   "execution_count": 485,
   "metadata": {},
   "outputs": [
    {
     "name": "stdout",
     "output_type": "stream",
     "text": [
      "환경변수(전기,수소) [0.8287531282163694, 0.7911203783441816, 0.909590433996196, 0.8017202428389887, 0.8866811666335976, 0.8415688322677302, 0.8220286272881268]\n",
      "사회변수(전기) [0.5383756609850885, 0.5848617448890694, 0.07199999999999995, 0.7642892244022137, 0.8271541215787344, 0.36267883177388427, 0.06454319041386954]\n",
      "사회변수(수소) [0.5383756609850885, 0.5848617448890694, 0.7148108415065166, 0.049000000000000044, 0.9583233017989948, 0.5666707016477999, 0.6587994540723359, 0.2608072089192539]\n",
      "경제변수(전기) [0.5739632891115474, 0.302234490619828]\n",
      "경제변수(수소) [0.8809981599397956, 0.5379381229554602]\n",
      "기술변수(전기) [0.38]\n",
      "기술변수(수소) [1.0]\n"
     ]
    }
   ],
   "source": [
    "# E는 전기차, H는 수소차\n",
    "variable_environment = [] # 환경변수는 전기/수소 동일\n",
    "variable_social_E = []\n",
    "variable_social_H = []\n",
    "variable_economic_E = []\n",
    "variable_economic_H = []\n",
    "variable_technical_E = []\n",
    "variable_technical_H = []\n",
    "\n",
    "## 상위 요인 결합 가중치\n",
    "weight_environment = [0.13,0.13,0.13,0.13,0.13,0.13,0.22]   # co, so2, no2, ozone, pm10, pm25, 통합대기환경지수(khai)\n",
    "weight_social_E = [0.1,0.1,0.3,0.15,0.15,0.1,0.1]           # 고정인구, 유동인구, 전기차 수, 전기차 충전소 수, 교통 편의성, 고속도로 여부, 주변충전소 최단거리\n",
    "weight_social_H = [0.1,0.1,0.1,0.2,0.15,0.15,0.1,0.1]       # 고정인구, 유동인구, LPG 충전소 수, 수소차 수, 수소차 충전소 수, 교통 편의성, 고속도로 여부, 주변충전소 최단거리\n",
    "weight_economic_E = [0.5,0.5]                               # 전기차충전기 설치비용, 주차 구획수\n",
    "weight_economic_H = [0.5,0.5]                               # LPG 충전소 토지비용, 수소충전소 구축 비용\n",
    "weight_technical_E = [1.0]                                  # 급속/완속 적합성\n",
    "weight_technical_H = [1.0]                                  # 복합 충전소 여부\n",
    "\n",
    "## 최종 확률 결합 가중치\n",
    "weight_total = [0.15, 0.4, 0.3, 0.15]     # 환경적 요인, 사회적 요인, 경제적 요인, 기술적 요인\n",
    "\n",
    "variable_environment.append(co_pro)\n",
    "variable_environment.append(so2_pro)\n",
    "variable_environment.append(no2_pro)\n",
    "variable_environment.append(o3_pro)\n",
    "variable_environment.append(pm10_pro)\n",
    "variable_environment.append(pm25_pro)\n",
    "variable_environment.append(khai_pro)\n",
    "\n",
    "\n",
    "variable_social_E.append(busan_people_pro)\n",
    "variable_social_E.append(foottraffic_pro)\n",
    "variable_social_E.append(elec_vehicle_pro)\n",
    "variable_social_E.append(EVCS_pro)\n",
    "variable_social_E.append(intersection_E_pro)\n",
    "variable_social_E.append(EV_distance_pro)\n",
    "variable_social_E.append(highway_E_pro)\n",
    "\n",
    "variable_social_H.append(busan_people_pro)\n",
    "variable_social_H.append(foottraffic_pro)\n",
    "variable_social_H.append(LPG_pro)\n",
    "variable_social_H.append(hidro_vehicle_pro)\n",
    "variable_social_H.append(HVCS_pro)\n",
    "variable_social_H.append(intersection_H_pro)\n",
    "variable_social_H.append(HV_distance_pro)\n",
    "variable_social_H.append(highway_H_pro)\n",
    "\n",
    "\n",
    "variable_economic_E.append(EVCS_cost)\n",
    "variable_economic_E.append(parking_area_pro)\n",
    "\n",
    "variable_economic_H.append(LPG_land_pro)\n",
    "variable_economic_H.append(HVCS_construction_cost_pro)\n",
    "\n",
    "\n",
    "variable_technical_E.append(charger_pro_fast)\n",
    "\n",
    "variable_technical_H.append(complex_pro)\n",
    "\n",
    "\n",
    "print(\"환경변수(전기,수소)\",variable_environment)\n",
    "print(\"사회변수(전기)\",variable_social_E)\n",
    "print(\"사회변수(수소)\",variable_social_H)\n",
    "print(\"경제변수(전기)\",variable_economic_E)\n",
    "print(\"경제변수(수소)\",variable_economic_H)\n",
    "print(\"기술변수(전기)\",variable_technical_E)\n",
    "print(\"기술변수(수소)\",variable_technical_H)"
   ]
  },
  {
   "cell_type": "markdown",
   "metadata": {},
   "source": [
    "### 결합확률(Joint Probability) 함수"
   ]
  },
  {
   "cell_type": "code",
   "execution_count": 486,
   "metadata": {},
   "outputs": [],
   "source": [
    "# 결합 확률 구하기\n",
    "def joint_pro(variable, weight):\n",
    "    result = 0.0\n",
    "    variable_weight = list(zip(variable,weight))\n",
    "    for pro, wei in variable_weight:\n",
    "        result += pro*wei\n",
    "    return result"
   ]
  },
  {
   "cell_type": "code",
   "execution_count": 487,
   "metadata": {},
   "outputs": [
    {
     "name": "stdout",
     "output_type": "stream",
     "text": [
      "Joint Probability\n",
      "0.838573 / 0.161427\n",
      "0.415362 / 0.584638\n",
      "0.514315 / 0.485685\n",
      "0.438099 / 0.561901\n",
      "0.709468 / 0.290532\n",
      "0.38 / 0.62\n",
      "1.0 / 0.0\n"
     ]
    }
   ],
   "source": [
    "# 상위 요소 결합 확률\n",
    "x_joint_pro = round(joint_pro(variable_environment,weight_environment),6)\n",
    "social_joint_pro_E = round(joint_pro(variable_social_E,weight_social_E),6)\n",
    "social_joint_pro_H = round(joint_pro(variable_social_H,weight_social_H),6)\n",
    "economic_joint_pro_E = round(joint_pro(variable_economic_E,weight_economic_E),6)\n",
    "economic_joint_pro_H = round(joint_pro(variable_economic_H,weight_economic_H),6)\n",
    "technical_joint_pro_E = round(joint_pro(variable_technical_E,weight_technical_E),6)\n",
    "technical_joint_pro_H = round(joint_pro(variable_technical_H,weight_technical_H),6)\n",
    "\n",
    "print(\"Joint Probability\")\n",
    "print(x_joint_pro, \"/\", round(1-x_joint_pro,6))\n",
    "print(social_joint_pro_E,\"/\", round(1-social_joint_pro_E,6))\n",
    "print(social_joint_pro_H,\"/\", round(1-social_joint_pro_H,6))\n",
    "print(economic_joint_pro_E,\"/\", round(1-economic_joint_pro_E,6))\n",
    "print(economic_joint_pro_H,\"/\", round(1-economic_joint_pro_H,6))\n",
    "print(technical_joint_pro_E,\"/\", round(1-technical_joint_pro_E,6))\n",
    "print(technical_joint_pro_H,\"/\", round(1-technical_joint_pro_H,6))"
   ]
  },
  {
   "cell_type": "markdown",
   "metadata": {},
   "source": [
    "### 조건부확률(Conditional Probability) 분포표\n",
    "\n",
    " - 환경적 요인\n",
    "\n",
    "    오존, 아황산가스, 이산화질소, 일산화탄소, 미세먼지(pm10, pm25)\n",
    "\n",
    " - 사회적 요인\n",
    "   \n",
    "    고정인구수, 유동인구 수, 친환경 자동차 등록대수, LPG 충전소 수, 충전소 수(전기,수소), 교통 편의성, 주변 충전소와의 거리, 고속도로 여부\n",
    "\n",
    " - 경제적 요인\n",
    "   \n",
    "    전기차 충전기 설치 비용, 수소 충전소 구축 비용, LPG 충전소 토지비용, 총 유지비용, 주차 구획 수\n",
    "\n",
    " - 기술적 요소\n",
    "\n",
    "    복합 충전소 여부(수소), 충전시간에 따른 급속/완속 충전 방식"
   ]
  },
  {
   "cell_type": "code",
   "execution_count": 488,
   "metadata": {},
   "outputs": [],
   "source": [
    "# 조건부 확률 구하기\n",
    "def conditional_pro(weight):\n",
    "    '''\n",
    "    weight : 결합할 변수의 가중치 값(list)\n",
    "    '''\n",
    "    # 조건부확률테이블의 길이는 2^(하위 변수)의 크기를 가짐\n",
    "    table_len = 2**len(weight)\n",
    "    # 결과 리스트 초기화\n",
    "    result_True = [0.0]*table_len\n",
    "    \n",
    "    for i in range(len(weight)): # 3번\n",
    "        for j in range(table_len): # 8번\n",
    "            # 변수의 T,F 거짓값\n",
    "            cycle = table_len/(2**(i+1))\n",
    "            if int(j/cycle)%2 == 0:\n",
    "                result_True[j] += weight[i]\n",
    "                # 부동소수점 오차 제거\n",
    "                result_True[j] = round(result_True[j],6)\n",
    "\n",
    "    result_False = list(reversed(result_True))\n",
    "\n",
    "    return result_True, result_False\n"
   ]
  },
  {
   "cell_type": "code",
   "execution_count": 489,
   "metadata": {},
   "outputs": [
    {
     "name": "stdout",
     "output_type": "stream",
     "text": [
      "환경적 요소 조건부 확률 \n",
      " [1.0, 0.78, 0.87, 0.65, 0.87, 0.65, 0.74, 0.52, 0.87, 0.65, 0.74, 0.52, 0.74, 0.52, 0.61, 0.39, 0.87, 0.65, 0.74, 0.52, 0.74, 0.52, 0.61, 0.39, 0.74, 0.52, 0.61, 0.39, 0.61, 0.39, 0.48, 0.26, 0.87, 0.65, 0.74, 0.52, 0.74, 0.52, 0.61, 0.39, 0.74, 0.52, 0.61, 0.39, 0.61, 0.39, 0.48, 0.26, 0.74, 0.52, 0.61, 0.39, 0.61, 0.39, 0.48, 0.26, 0.61, 0.39, 0.48, 0.26, 0.48, 0.26, 0.35, 0.13, 0.87, 0.65, 0.74, 0.52, 0.74, 0.52, 0.61, 0.39, 0.74, 0.52, 0.61, 0.39, 0.61, 0.39, 0.48, 0.26, 0.74, 0.52, 0.61, 0.39, 0.61, 0.39, 0.48, 0.26, 0.61, 0.39, 0.48, 0.26, 0.48, 0.26, 0.35, 0.13, 0.74, 0.52, 0.61, 0.39, 0.61, 0.39, 0.48, 0.26, 0.61, 0.39, 0.48, 0.26, 0.48, 0.26, 0.35, 0.13, 0.61, 0.39, 0.48, 0.26, 0.48, 0.26, 0.35, 0.13, 0.48, 0.26, 0.35, 0.13, 0.35, 0.13, 0.22, 0.0] \n",
      " [0.0, 0.22, 0.13, 0.35, 0.13, 0.35, 0.26, 0.48, 0.13, 0.35, 0.26, 0.48, 0.26, 0.48, 0.39, 0.61, 0.13, 0.35, 0.26, 0.48, 0.26, 0.48, 0.39, 0.61, 0.26, 0.48, 0.39, 0.61, 0.39, 0.61, 0.52, 0.74, 0.13, 0.35, 0.26, 0.48, 0.26, 0.48, 0.39, 0.61, 0.26, 0.48, 0.39, 0.61, 0.39, 0.61, 0.52, 0.74, 0.26, 0.48, 0.39, 0.61, 0.39, 0.61, 0.52, 0.74, 0.39, 0.61, 0.52, 0.74, 0.52, 0.74, 0.65, 0.87, 0.13, 0.35, 0.26, 0.48, 0.26, 0.48, 0.39, 0.61, 0.26, 0.48, 0.39, 0.61, 0.39, 0.61, 0.52, 0.74, 0.26, 0.48, 0.39, 0.61, 0.39, 0.61, 0.52, 0.74, 0.39, 0.61, 0.52, 0.74, 0.52, 0.74, 0.65, 0.87, 0.26, 0.48, 0.39, 0.61, 0.39, 0.61, 0.52, 0.74, 0.39, 0.61, 0.52, 0.74, 0.52, 0.74, 0.65, 0.87, 0.39, 0.61, 0.52, 0.74, 0.52, 0.74, 0.65, 0.87, 0.52, 0.74, 0.65, 0.87, 0.65, 0.87, 0.78, 1.0]\n",
      "사회적(전기) 요소 조건부 확률 \n",
      " [1.0, 0.9, 0.9, 0.8, 0.85, 0.75, 0.75, 0.65, 0.85, 0.75, 0.75, 0.65, 0.7, 0.6, 0.6, 0.5, 0.7, 0.6, 0.6, 0.5, 0.55, 0.45, 0.45, 0.35, 0.55, 0.45, 0.45, 0.35, 0.4, 0.3, 0.3, 0.2, 0.9, 0.8, 0.8, 0.7, 0.75, 0.65, 0.65, 0.55, 0.75, 0.65, 0.65, 0.55, 0.6, 0.5, 0.5, 0.4, 0.6, 0.5, 0.5, 0.4, 0.45, 0.35, 0.35, 0.25, 0.45, 0.35, 0.35, 0.25, 0.3, 0.2, 0.2, 0.1, 0.9, 0.8, 0.8, 0.7, 0.75, 0.65, 0.65, 0.55, 0.75, 0.65, 0.65, 0.55, 0.6, 0.5, 0.5, 0.4, 0.6, 0.5, 0.5, 0.4, 0.45, 0.35, 0.35, 0.25, 0.45, 0.35, 0.35, 0.25, 0.3, 0.2, 0.2, 0.1, 0.8, 0.7, 0.7, 0.6, 0.65, 0.55, 0.55, 0.45, 0.65, 0.55, 0.55, 0.45, 0.5, 0.4, 0.4, 0.3, 0.5, 0.4, 0.4, 0.3, 0.35, 0.25, 0.25, 0.15, 0.35, 0.25, 0.25, 0.15, 0.2, 0.1, 0.1, 0.0] \n",
      " [0.0, 0.1, 0.1, 0.2, 0.15, 0.25, 0.25, 0.35, 0.15, 0.25, 0.25, 0.35, 0.3, 0.4, 0.4, 0.5, 0.3, 0.4, 0.4, 0.5, 0.45, 0.55, 0.55, 0.65, 0.45, 0.55, 0.55, 0.65, 0.6, 0.7, 0.7, 0.8, 0.1, 0.2, 0.2, 0.3, 0.25, 0.35, 0.35, 0.45, 0.25, 0.35, 0.35, 0.45, 0.4, 0.5, 0.5, 0.6, 0.4, 0.5, 0.5, 0.6, 0.55, 0.65, 0.65, 0.75, 0.55, 0.65, 0.65, 0.75, 0.7, 0.8, 0.8, 0.9, 0.1, 0.2, 0.2, 0.3, 0.25, 0.35, 0.35, 0.45, 0.25, 0.35, 0.35, 0.45, 0.4, 0.5, 0.5, 0.6, 0.4, 0.5, 0.5, 0.6, 0.55, 0.65, 0.65, 0.75, 0.55, 0.65, 0.65, 0.75, 0.7, 0.8, 0.8, 0.9, 0.2, 0.3, 0.3, 0.4, 0.35, 0.45, 0.45, 0.55, 0.35, 0.45, 0.45, 0.55, 0.5, 0.6, 0.6, 0.7, 0.5, 0.6, 0.6, 0.7, 0.65, 0.75, 0.75, 0.85, 0.65, 0.75, 0.75, 0.85, 0.8, 0.9, 0.9, 1.0]\n",
      "사회적(수소) 요소 조건부 확률 \n",
      " [1.0, 0.9, 0.9, 0.8, 0.85, 0.75, 0.75, 0.65, 0.85, 0.75, 0.75, 0.65, 0.7, 0.6, 0.6, 0.5, 0.8, 0.7, 0.7, 0.6, 0.65, 0.55, 0.55, 0.45, 0.65, 0.55, 0.55, 0.45, 0.5, 0.4, 0.4, 0.3, 0.9, 0.8, 0.8, 0.7, 0.75, 0.65, 0.65, 0.55, 0.75, 0.65, 0.65, 0.55, 0.6, 0.5, 0.5, 0.4, 0.7, 0.6, 0.6, 0.5, 0.55, 0.45, 0.45, 0.35, 0.55, 0.45, 0.45, 0.35, 0.4, 0.3, 0.3, 0.2, 0.9, 0.8, 0.8, 0.7, 0.75, 0.65, 0.65, 0.55, 0.75, 0.65, 0.65, 0.55, 0.6, 0.5, 0.5, 0.4, 0.7, 0.6, 0.6, 0.5, 0.55, 0.45, 0.45, 0.35, 0.55, 0.45, 0.45, 0.35, 0.4, 0.3, 0.3, 0.2, 0.8, 0.7, 0.7, 0.6, 0.65, 0.55, 0.55, 0.45, 0.65, 0.55, 0.55, 0.45, 0.5, 0.4, 0.4, 0.3, 0.6, 0.5, 0.5, 0.4, 0.45, 0.35, 0.35, 0.25, 0.45, 0.35, 0.35, 0.25, 0.3, 0.2, 0.2, 0.1, 0.9, 0.8, 0.8, 0.7, 0.75, 0.65, 0.65, 0.55, 0.75, 0.65, 0.65, 0.55, 0.6, 0.5, 0.5, 0.4, 0.7, 0.6, 0.6, 0.5, 0.55, 0.45, 0.45, 0.35, 0.55, 0.45, 0.45, 0.35, 0.4, 0.3, 0.3, 0.2, 0.8, 0.7, 0.7, 0.6, 0.65, 0.55, 0.55, 0.45, 0.65, 0.55, 0.55, 0.45, 0.5, 0.4, 0.4, 0.3, 0.6, 0.5, 0.5, 0.4, 0.45, 0.35, 0.35, 0.25, 0.45, 0.35, 0.35, 0.25, 0.3, 0.2, 0.2, 0.1, 0.8, 0.7, 0.7, 0.6, 0.65, 0.55, 0.55, 0.45, 0.65, 0.55, 0.55, 0.45, 0.5, 0.4, 0.4, 0.3, 0.6, 0.5, 0.5, 0.4, 0.45, 0.35, 0.35, 0.25, 0.45, 0.35, 0.35, 0.25, 0.3, 0.2, 0.2, 0.1, 0.7, 0.6, 0.6, 0.5, 0.55, 0.45, 0.45, 0.35, 0.55, 0.45, 0.45, 0.35, 0.4, 0.3, 0.3, 0.2, 0.5, 0.4, 0.4, 0.3, 0.35, 0.25, 0.25, 0.15, 0.35, 0.25, 0.25, 0.15, 0.2, 0.1, 0.1, 0.0] \n",
      " [0.0, 0.1, 0.1, 0.2, 0.15, 0.25, 0.25, 0.35, 0.15, 0.25, 0.25, 0.35, 0.3, 0.4, 0.4, 0.5, 0.2, 0.3, 0.3, 0.4, 0.35, 0.45, 0.45, 0.55, 0.35, 0.45, 0.45, 0.55, 0.5, 0.6, 0.6, 0.7, 0.1, 0.2, 0.2, 0.3, 0.25, 0.35, 0.35, 0.45, 0.25, 0.35, 0.35, 0.45, 0.4, 0.5, 0.5, 0.6, 0.3, 0.4, 0.4, 0.5, 0.45, 0.55, 0.55, 0.65, 0.45, 0.55, 0.55, 0.65, 0.6, 0.7, 0.7, 0.8, 0.1, 0.2, 0.2, 0.3, 0.25, 0.35, 0.35, 0.45, 0.25, 0.35, 0.35, 0.45, 0.4, 0.5, 0.5, 0.6, 0.3, 0.4, 0.4, 0.5, 0.45, 0.55, 0.55, 0.65, 0.45, 0.55, 0.55, 0.65, 0.6, 0.7, 0.7, 0.8, 0.2, 0.3, 0.3, 0.4, 0.35, 0.45, 0.45, 0.55, 0.35, 0.45, 0.45, 0.55, 0.5, 0.6, 0.6, 0.7, 0.4, 0.5, 0.5, 0.6, 0.55, 0.65, 0.65, 0.75, 0.55, 0.65, 0.65, 0.75, 0.7, 0.8, 0.8, 0.9, 0.1, 0.2, 0.2, 0.3, 0.25, 0.35, 0.35, 0.45, 0.25, 0.35, 0.35, 0.45, 0.4, 0.5, 0.5, 0.6, 0.3, 0.4, 0.4, 0.5, 0.45, 0.55, 0.55, 0.65, 0.45, 0.55, 0.55, 0.65, 0.6, 0.7, 0.7, 0.8, 0.2, 0.3, 0.3, 0.4, 0.35, 0.45, 0.45, 0.55, 0.35, 0.45, 0.45, 0.55, 0.5, 0.6, 0.6, 0.7, 0.4, 0.5, 0.5, 0.6, 0.55, 0.65, 0.65, 0.75, 0.55, 0.65, 0.65, 0.75, 0.7, 0.8, 0.8, 0.9, 0.2, 0.3, 0.3, 0.4, 0.35, 0.45, 0.45, 0.55, 0.35, 0.45, 0.45, 0.55, 0.5, 0.6, 0.6, 0.7, 0.4, 0.5, 0.5, 0.6, 0.55, 0.65, 0.65, 0.75, 0.55, 0.65, 0.65, 0.75, 0.7, 0.8, 0.8, 0.9, 0.3, 0.4, 0.4, 0.5, 0.45, 0.55, 0.55, 0.65, 0.45, 0.55, 0.55, 0.65, 0.6, 0.7, 0.7, 0.8, 0.5, 0.6, 0.6, 0.7, 0.65, 0.75, 0.75, 0.85, 0.65, 0.75, 0.75, 0.85, 0.8, 0.9, 0.9, 1.0]\n",
      "경제적(전기) 요소 조건부 확률 \n",
      " [1.0, 0.5, 0.5, 0.0] \n",
      " [0.0, 0.5, 0.5, 1.0]\n",
      "경제적(수소) 요소 조건부 확률 \n",
      " [1.0, 0.5, 0.5, 0.0] \n",
      " [0.0, 0.5, 0.5, 1.0]\n",
      "기술적(전기) 요소 조건부 확률 \n",
      " [1.0, 0.0] \n",
      " [0.0, 1.0]\n",
      "기술적(수소) 요소 조건부 확률 \n",
      " [1.0, 0.0] \n",
      " [0.0, 1.0]\n"
     ]
    }
   ],
   "source": [
    "# 상위 요인 조건부 확률\n",
    "environment_pro, environment_pro_negative = conditional_pro(weight_environment)\n",
    "social_E_pro, social_E_pro_negative = conditional_pro(weight_social_E)\n",
    "social_H_pro, social_H_pro_negative = conditional_pro(weight_social_H)\n",
    "economic_E_pro, economic_E_pro_negative = conditional_pro(weight_economic_E)\n",
    "economic_H_pro, economic_H_pro_negative = conditional_pro(weight_economic_H)\n",
    "technical_E_pro, technical_E_pro_negative = conditional_pro(weight_technical_E)\n",
    "technical_H_pro, technical_H_pro_negative = conditional_pro(weight_technical_H)\n",
    "\n",
    "print(\"환경적 요소 조건부 확률\",'\\n', environment_pro,'\\n',environment_pro_negative)\n",
    "print(\"사회적(전기) 요소 조건부 확률\",'\\n', social_E_pro,'\\n',social_E_pro_negative)\n",
    "print(\"사회적(수소) 요소 조건부 확률\",'\\n', social_H_pro,'\\n',social_H_pro_negative)\n",
    "print(\"경제적(전기) 요소 조건부 확률\",'\\n', economic_E_pro,'\\n',economic_E_pro_negative)\n",
    "print(\"경제적(수소) 요소 조건부 확률\",'\\n', economic_H_pro,'\\n',economic_H_pro_negative)\n",
    "print(\"기술적(전기) 요소 조건부 확률\",'\\n', technical_E_pro,'\\n',technical_E_pro_negative)\n",
    "print(\"기술적(수소) 요소 조건부 확률\",'\\n', technical_H_pro,'\\n',technical_H_pro_negative)"
   ]
  },
  {
   "cell_type": "markdown",
   "metadata": {},
   "source": [
    "## 베이지안 네트워크 모델 구성"
   ]
  },
  {
   "cell_type": "code",
   "execution_count": 490,
   "metadata": {},
   "outputs": [],
   "source": [
    "from IPython.core.display import Image\n",
    "from networkx.drawing.nx_pydot import to_pydot\n",
    "\n",
    "from pgmpy.factors.discrete import TabularCPD\n",
    "from pgmpy.models import BayesianModel"
   ]
  },
  {
   "cell_type": "code",
   "execution_count": 491,
   "metadata": {},
   "outputs": [],
   "source": [
    "from pgmpy.inference import VariableElimination\n",
    "from pgmpy.factors.discrete import DiscreteFactor\n",
    "from pgmpy.models import FactorGraph"
   ]
  },
  {
   "cell_type": "code",
   "execution_count": 492,
   "metadata": {},
   "outputs": [
    {
     "name": "stderr",
     "output_type": "stream",
     "text": [
      "c:\\Users\\SAMSUNG\\anaconda3\\envs\\GVCS\\lib\\site-packages\\pgmpy\\models\\BayesianModel.py:8: FutureWarning:\n",
      "\n",
      "BayesianModel has been renamed to BayesianNetwork. Please use BayesianNetwork class, BayesianModel will be removed in future.\n",
      "\n"
     ]
    }
   ],
   "source": [
    "### 전기차 요인\n",
    "# 환경적 요인 하위 변수 확률\n",
    "o3 = [[o3_pro], [1-o3_pro]]\n",
    "so2 = [[so2_pro], [1-so2_pro]]\n",
    "no2 = [[no2_pro], [1-no2_pro]]\n",
    "co = [[co_pro], [1-co_pro]]\n",
    "pm10 = [[pm10_pro], [1-pm10_pro]]\n",
    "pm25 = [[pm25_pro], [1-pm25_pro]]\n",
    "khai = [[khai_pro], [1-khai_pro]]\n",
    "\n",
    "# 사회적 요인 하위 변수 확률\n",
    "people = [[busan_people_pro],[1-busan_people_pro]]\n",
    "floating = [[foottraffic_pro],[1-foottraffic_pro]]\n",
    "EV = [[elec_vehicle_pro],[1-elec_vehicle_pro]]\n",
    "EVCS = [[EVCS_pro],[1-EVCS_pro]]\n",
    "intersection_E = [[intersection_E_pro],[1-intersection_E_pro]]\n",
    "distance_E = [[EV_distance_pro],[1-EV_distance_pro]]\n",
    "highway_E = [[highway_E_pro],[1-highway_E_pro]]\n",
    "\n",
    "# 경제적 요인 하위 변수 확률\n",
    "cost_E = [[EVCS_cost],[1-EVCS_cost]]\n",
    "area = [[parking_area_pro],[1-parking_area_pro]]\n",
    "\n",
    "# 기술적 요인 하위 변수 확률\n",
    "type = [[charger_pro_fast],[1-charger_pro_fast]]\n",
    "\n",
    "\n",
    "### 수소차 요인\n",
    "# 환경적 요인은 전기차와 동일 -> 환경적 모델 하나로 구성\n",
    "\n",
    "# 사회적 요인 하위 변수 확률\n",
    "people = [[busan_people_pro],[1-busan_people_pro]]\n",
    "floating = [[foottraffic_pro],[1-foottraffic_pro]]\n",
    "LPG = [[LPG_pro],[1-LPG_pro]]\n",
    "HV = [[hidro_vehicle_pro],[1-hidro_vehicle_pro]]\n",
    "HVCS = [[HVCS_pro],[1-HVCS_pro]]\n",
    "intersection_H = [[intersection_H_pro],[1-intersection_H_pro]]\n",
    "distance_H = [[HV_distance_pro],[1-HV_distance_pro]]\n",
    "highway_H = [[highway_H_pro],[1-highway_H_pro]] \n",
    "\n",
    "# 경제적 요인 하위 변수 확률\n",
    "cost_H = [[HVCS_construction_cost_pro],[1-HVCS_construction_cost_pro]]\n",
    "LPG_land = [[LPG_land_pro],[1-LPG_land_pro]]\n",
    "\n",
    "# 기술적 요인 하위 변수 확률\n",
    "complex = [[complex_pro],[1-complex_pro]]\n",
    "\n",
    "environment_model = BayesianModel([('o3', 'environment'), ('so2', 'environment'), ('no2', 'environment'), ('co', 'environment'),\n",
    "                                   ('pm10', 'environment'), ('pm25', 'environment'), ('khai', 'environment')])\n",
    "social_model_E = BayesianModel([('people','social_E'),('floating','social_E'),('EV','social_E'),('EVCS','social_E'),\n",
    "                                ('intersection_E','social_E'),('distance_E','social_E'),('highway_E','social_E')])\n",
    "social_model_H = BayesianModel([('people','social_H'),('floating','social_H'),('LPG','social_H'),('HV','social_H'),('HVCS','social_H'),\n",
    "                                ('intersection_H','social_H'),('distance_H','social_H'),('highway_H','social_H')])\n",
    "economic_model_E = BayesianModel([('cost_E','economic_E'),('area','economic_E')])\n",
    "economic_model_H = BayesianModel([('cost_H','economic_H'),('LPG_land','economic_H')])\n",
    "technical_model_E = BayesianModel([('type','technical_E')])\n",
    "technical_model_H = BayesianModel([('complex','technical_H')])\n",
    "\n",
    "\n",
    "### 환경적 요인의 하위 변수 모델링 \n",
    "P_o3 = TabularCPD('o3', 2,values=o3)\n",
    "P_so2 = TabularCPD('so2', 2,values=so2)\n",
    "P_no2 = TabularCPD('no2', 2,values=no2)\n",
    "P_co = TabularCPD('co', 2,values=co)\n",
    "P_pm10 = TabularCPD('pm10', 2,values=pm10)\n",
    "P_pm25 = TabularCPD('pm25', 2,values=pm25)\n",
    "P_khai = TabularCPD('khai',2,values=khai)\n",
    "P_environment_I_o3_so2_no2_co_pm10_pm25_khai = TabularCPD('environment',2,[environment_pro,environment_pro_negative],\n",
    "                                                            evidence=['o3','so2','no2','co','pm10','pm25','khai'],\n",
    "                                                            evidence_card=[2,2,2,2,2,2,2]\n",
    "                                                            )\n",
    "\n",
    "environment_model.add_cpds(P_o3,P_so2,P_no2,P_co,P_pm10,P_pm25,P_khai, P_environment_I_o3_so2_no2_co_pm10_pm25_khai)                                \n",
    "\n",
    "\n",
    "### 사회적 요인의 하위 변수 모델링(전기)\n",
    "P_people = TabularCPD('people',2,values=people)\n",
    "P_floating = TabularCPD('floating',2,values=floating)\n",
    "P_EV = TabularCPD('EV',2,values=EV)\n",
    "P_EVCS = TabularCPD('EVCS',2,values=EVCS)\n",
    "P_intersection_E = TabularCPD('intersection_E',2,values=intersection_E)\n",
    "P_distance_E = TabularCPD('distance_E',2,values=distance_E)\n",
    "P_highway_E = TabularCPD('highway_E',2,values=highway_E)\n",
    "P_social_E_I_people_floating_EV_EVCS_intersection_E_distance_E_highway_E = TabularCPD('social_E',2,[social_E_pro,social_E_pro_negative],\n",
    "                                                                                        evidence=['people','floating','EV','EVCS',\n",
    "                                                                                                  'intersection_E','distance_E','highway_E'],\n",
    "                                                                                        evidence_card=[2,2,2,2,2,2,2])\n",
    "\n",
    "social_model_E.add_cpds(P_people,P_floating,P_EV,P_EVCS,P_intersection_E,P_distance_E,P_highway_E,P_social_E_I_people_floating_EV_EVCS_intersection_E_distance_E_highway_E)\n",
    "\n",
    "\n",
    "### 사회적 요인의 하위 변수 모델링(수소)\n",
    "P_people = TabularCPD('people',2,values=people)\n",
    "P_floating = TabularCPD('floating',2,values=floating)\n",
    "P_LPG = TabularCPD('LPG',2,values=LPG)\n",
    "P_HV = TabularCPD('HV',2,values=HV)\n",
    "P_HVCS = TabularCPD('HVCS',2,values=HVCS)\n",
    "P_intersection_H = TabularCPD('intersection_H',2,values=intersection_H)\n",
    "P_distance_H = TabularCPD('distance_H',2,values=distance_H)\n",
    "P_highway_H = TabularCPD('highway_H',2,values=highway_H)\n",
    "P_social_H_I_people_floating_LPG_HV_HVCS_intersection_H_distance_H_highway_H = TabularCPD('social_H',2,[social_H_pro,social_H_pro_negative],\n",
    "                                                                                            evidence=['people','floating','LPG','HV',\n",
    "                                                                                                      'HVCS','intersection_H','distance_H','highway_H'],\n",
    "                                                                                            evidence_card=[2,2,2,2,2,2,2,2])\n",
    "\n",
    "social_model_H.add_cpds(P_people,P_floating,P_LPG,P_HV,P_HVCS,P_intersection_H,P_distance_H,P_highway_H,P_social_H_I_people_floating_LPG_HV_HVCS_intersection_H_distance_H_highway_H) \n",
    "\n",
    "### 경제적 요인의 하위 변수 모델링(전기)\n",
    "P_cost_E = TabularCPD('cost_E',2,values=cost_E)\n",
    "P_area = TabularCPD('area',2,values=area)\n",
    "P_economic_E_I_cost_E_area = TabularCPD('economic_E',2,[economic_E_pro,economic_E_pro_negative],\n",
    "                                        evidence=['cost_E','area'],\n",
    "                                        evidence_card=[2,2])\n",
    "\n",
    "economic_model_E.add_cpds(P_cost_E,P_area,P_economic_E_I_cost_E_area)   \n",
    "\n",
    "### 경제적 요인의 하위 변수 모델링(수소)\n",
    "P_cost_H = TabularCPD('cost_H',2,values=cost_H)\n",
    "P_LPG_land = TabularCPD('LPG_land',2,values=LPG_land)\n",
    "P_economic_H_I_cost_H_LPG_land = TabularCPD('economic_H',2,[economic_H_pro,economic_H_pro_negative],\n",
    "                                            evidence=['cost_H','LPG_land'],\n",
    "                                            evidence_card=[2,2])\n",
    "\n",
    "economic_model_H.add_cpds(P_cost_H,P_LPG_land,P_economic_H_I_cost_H_LPG_land)       \n",
    "\n",
    "### 기술적 요인의 하위 변수 모델링(전기)\n",
    "P_type = TabularCPD('type',2,values=type)\n",
    "P_technical_E_I_type = TabularCPD('technical_E',2,[technical_E_pro,technical_E_pro_negative],\n",
    "                            evidence=['type'],\n",
    "                            evidence_card=[2])\n",
    "\n",
    "technical_model_E.add_cpds(P_type,P_technical_E_I_type)\n",
    "\n",
    "\n",
    "### 기술적 요인의 하위 변수 모델링(수소)\n",
    "P_complex = TabularCPD('complex',2,values=complex)\n",
    "P_technical_H_I_complex = TabularCPD('technical_H',2,[technical_H_pro,technical_H_pro_negative],\n",
    "                                    evidence=['complex'],\n",
    "                                    evidence_card=[2])\n",
    "\n",
    "technical_model_H.add_cpds(P_complex,P_technical_H_I_complex)\n",
    "\n",
    "\n",
    "infer_environment = VariableElimination(environment_model)\n",
    "infer_social_E = VariableElimination(social_model_E)\n",
    "infer_social_H = VariableElimination(social_model_H)\n",
    "infer_economic_E = VariableElimination(economic_model_E)\n",
    "infer_economic_H = VariableElimination(economic_model_H)\n",
    "infer_technical_E = VariableElimination(technical_model_E)\n",
    "infer_technical_H = VariableElimination(technical_model_H)"
   ]
  },
  {
   "cell_type": "code",
   "execution_count": 493,
   "metadata": {},
   "outputs": [
    {
     "name": "stdout",
     "output_type": "stream",
     "text": [
      "+----------------+---------+-----+---------+---------+---------+\n",
      "| o3             | o3(0)   | ... | o3(1)   | o3(1)   | o3(1)   |\n",
      "+----------------+---------+-----+---------+---------+---------+\n",
      "| so2            | so2(0)  | ... | so2(1)  | so2(1)  | so2(1)  |\n",
      "+----------------+---------+-----+---------+---------+---------+\n",
      "| no2            | no2(0)  | ... | no2(1)  | no2(1)  | no2(1)  |\n",
      "+----------------+---------+-----+---------+---------+---------+\n",
      "| co             | co(0)   | ... | co(1)   | co(1)   | co(1)   |\n",
      "+----------------+---------+-----+---------+---------+---------+\n",
      "| pm10           | pm10(0) | ... | pm10(1) | pm10(1) | pm10(1) |\n",
      "+----------------+---------+-----+---------+---------+---------+\n",
      "| pm25           | pm25(0) | ... | pm25(0) | pm25(1) | pm25(1) |\n",
      "+----------------+---------+-----+---------+---------+---------+\n",
      "| khai           | khai(0) | ... | khai(1) | khai(0) | khai(1) |\n",
      "+----------------+---------+-----+---------+---------+---------+\n",
      "| environment(0) | 1.0     | ... | 0.13    | 0.22    | 0.0     |\n",
      "+----------------+---------+-----+---------+---------+---------+\n",
      "| environment(1) | 0.0     | ... | 0.87    | 0.78    | 1.0     |\n",
      "+----------------+---------+-----+---------+---------+---------+\n",
      "+----------------+-----+-------------------+\n",
      "| people         | ... | people(1)         |\n",
      "+----------------+-----+-------------------+\n",
      "| floating       | ... | floating(1)       |\n",
      "+----------------+-----+-------------------+\n",
      "| EV             | ... | EV(1)             |\n",
      "+----------------+-----+-------------------+\n",
      "| EVCS           | ... | EVCS(1)           |\n",
      "+----------------+-----+-------------------+\n",
      "| intersection_E | ... | intersection_E(1) |\n",
      "+----------------+-----+-------------------+\n",
      "| distance_E     | ... | distance_E(1)     |\n",
      "+----------------+-----+-------------------+\n",
      "| highway_E      | ... | highway_E(1)      |\n",
      "+----------------+-----+-------------------+\n",
      "| social_E(0)    | ... | 0.0               |\n",
      "+----------------+-----+-------------------+\n",
      "| social_E(1)    | ... | 1.0               |\n",
      "+----------------+-----+-------------------+\n",
      "+---------------+-----------+-----------+-----------+-----------+\n",
      "| cost_E        | cost_E(0) | cost_E(0) | cost_E(1) | cost_E(1) |\n",
      "+---------------+-----------+-----------+-----------+-----------+\n",
      "| area          | area(0)   | area(1)   | area(0)   | area(1)   |\n",
      "+---------------+-----------+-----------+-----------+-----------+\n",
      "| economic_E(0) | 1.0       | 0.5       | 0.5       | 0.0       |\n",
      "+---------------+-----------+-----------+-----------+-----------+\n",
      "| economic_E(1) | 0.0       | 0.5       | 0.5       | 1.0       |\n",
      "+---------------+-----------+-----------+-----------+-----------+\n",
      "+----------------+---------+---------+\n",
      "| type           | type(0) | type(1) |\n",
      "+----------------+---------+---------+\n",
      "| technical_E(0) | 1.0     | 0.0     |\n",
      "+----------------+---------+---------+\n",
      "| technical_E(1) | 0.0     | 1.0     |\n",
      "+----------------+---------+---------+\n"
     ]
    }
   ],
   "source": [
    "### 전기차\n",
    "# 조건부확률 분포표\n",
    "print(P_environment_I_o3_so2_no2_co_pm10_pm25_khai)                             # 환경적 요인\n",
    "print(P_social_E_I_people_floating_EV_EVCS_intersection_E_distance_E_highway_E) # 사회적 요인\n",
    "print(P_economic_E_I_cost_E_area)                                               # 경제적 요인\n",
    "print(P_technical_E_I_type)                                                     # 기술적 요인"
   ]
  },
  {
   "cell_type": "code",
   "execution_count": 494,
   "metadata": {},
   "outputs": [
    {
     "name": "stdout",
     "output_type": "stream",
     "text": [
      "+-------+-----------+\n",
      "| o3    |   phi(o3) |\n",
      "+=======+===========+\n",
      "| o3(0) |    0.8264 |\n",
      "+-------+-----------+\n",
      "| o3(1) |    0.1736 |\n",
      "+-------+-----------+\n",
      "+--------+------------+\n",
      "| so2    |   phi(so2) |\n",
      "+========+============+\n",
      "| so2(0) |     0.8167 |\n",
      "+--------+------------+\n",
      "| so2(1) |     0.1833 |\n",
      "+--------+------------+\n",
      "+--------+------------+\n",
      "| no2    |   phi(no2) |\n",
      "+========+============+\n",
      "| no2(0) |     0.9223 |\n",
      "+--------+------------+\n",
      "| no2(1) |     0.0777 |\n",
      "+--------+------------+\n",
      "+-------+-----------+\n",
      "| co    |   phi(co) |\n",
      "+=======+===========+\n",
      "| co(0) |    0.8508 |\n",
      "+-------+-----------+\n",
      "| co(1) |    0.1492 |\n",
      "+-------+-----------+\n",
      "+---------+-------------+\n",
      "| pm10    |   phi(pm10) |\n",
      "+=========+=============+\n",
      "| pm10(0) |      0.9023 |\n",
      "+---------+-------------+\n",
      "| pm10(1) |      0.0977 |\n",
      "+---------+-------------+\n",
      "+---------+-------------+\n",
      "| pm25    |   phi(pm25) |\n",
      "+=========+=============+\n",
      "| pm25(0) |      0.8622 |\n",
      "+---------+-------------+\n",
      "| pm25(1) |      0.1378 |\n",
      "+---------+-------------+\n",
      "+---------+-------------+\n",
      "| khai    |   phi(khai) |\n",
      "+=========+=============+\n",
      "| khai(0) |      0.8604 |\n",
      "+---------+-------------+\n",
      "| khai(1) |      0.1396 |\n",
      "+---------+-------------+\n"
     ]
    }
   ],
   "source": [
    "# 환경적요인의 상태(True:0)를 아는 경우, 각 하위 요인의 확률(True:0,False:1)\n",
    "print(infer_environment.query([\"o3\"], evidence={\"environment\":0},show_progress=False))\n",
    "print(infer_environment.query([\"so2\"], evidence={\"environment\":0},show_progress=False))\n",
    "print(infer_environment.query([\"no2\"], evidence={\"environment\":0},show_progress=False))\n",
    "print(infer_environment.query([\"co\"], evidence={\"environment\":0},show_progress=False))\n",
    "print(infer_environment.query([\"pm10\"], evidence={\"environment\":0},show_progress=False))\n",
    "print(infer_environment.query([\"pm25\"], evidence={\"environment\":0},show_progress=False))\n",
    "print(infer_environment.query([\"khai\"], evidence={\"environment\":0},show_progress=False))"
   ]
  },
  {
   "cell_type": "code",
   "execution_count": 495,
   "metadata": {},
   "outputs": [
    {
     "name": "stdout",
     "output_type": "stream",
     "text": [
      "+----------------+--------------------+\n",
      "| environment    |   phi(environment) |\n",
      "+================+====================+\n",
      "| environment(0) |             0.8386 |\n",
      "+----------------+--------------------+\n",
      "| environment(1) |             0.1614 |\n",
      "+----------------+--------------------+\n",
      "+-------------+-----------------+\n",
      "| social_E    |   phi(social_E) |\n",
      "+=============+=================+\n",
      "| social_E(0) |          0.4154 |\n",
      "+-------------+-----------------+\n",
      "| social_E(1) |          0.5846 |\n",
      "+-------------+-----------------+\n",
      "+---------------+-------------------+\n",
      "| economic_E    |   phi(economic_E) |\n",
      "+===============+===================+\n",
      "| economic_E(0) |            0.4381 |\n",
      "+---------------+-------------------+\n",
      "| economic_E(1) |            0.5619 |\n",
      "+---------------+-------------------+\n",
      "+----------------+--------------------+\n",
      "| technical_E    |   phi(technical_E) |\n",
      "+================+====================+\n",
      "| technical_E(0) |             0.3800 |\n",
      "+----------------+--------------------+\n",
      "| technical_E(1) |             0.6200 |\n",
      "+----------------+--------------------+\n"
     ]
    }
   ],
   "source": [
    "### 전기차\n",
    "# 하위요인의 상태를 모르는 경우, 상위 요인의 상태(적합:0, 부적합:1)에 대한 확률\n",
    "print(infer_environment.query([\"environment\"],show_progress=False))\n",
    "print(infer_social_E.query([\"social_E\"],show_progress=False))\n",
    "print(infer_economic_E.query([\"economic_E\"],show_progress=False))\n",
    "print(infer_technical_E.query([\"technical_E\"],show_progress=False))"
   ]
  },
  {
   "cell_type": "code",
   "execution_count": 496,
   "metadata": {},
   "outputs": [
    {
     "name": "stdout",
     "output_type": "stream",
     "text": [
      "+----------------+--------------------+\n",
      "| environment    |   phi(environment) |\n",
      "+================+====================+\n",
      "| environment(0) |             0.7461 |\n",
      "+----------------+--------------------+\n",
      "| environment(1) |             0.2539 |\n",
      "+----------------+--------------------+\n"
     ]
    },
    {
     "data": {
      "text/plain": [
       "0.7461023537134321"
      ]
     },
     "execution_count": 496,
     "metadata": {},
     "output_type": "execute_result"
    }
   ],
   "source": [
    "# 하위 요인(o3, no2)의 상태(o3:적합, no2:부적합)가 밝혀진 경우, 환경적 요인의 상태에 대한 확률\n",
    "result = infer_environment.query([\"environment\"], evidence={\"o3\":0, \"no2\":1}, show_progress=False)\n",
    "print(result)\n",
    "# 환경적 요인이 적합할 확률\n",
    "result.get_value(environment=0)"
   ]
  },
  {
   "cell_type": "markdown",
   "metadata": {},
   "source": [
    "## 입지에 대한 확률 업데이트"
   ]
  },
  {
   "cell_type": "markdown",
   "metadata": {},
   "source": [
    "#### 관측된 데이트에 따른 확률 업데이트(전기차)"
   ]
  },
  {
   "cell_type": "code",
   "execution_count": 497,
   "metadata": {},
   "outputs": [],
   "source": [
    "def parking_update(name, infer_environment, infer_social_E, infer_economic_E, infer_technical_E):\n",
    "    parking_area = df_parking[df_parking['주차장명']==name]['주차구획수'].values[0]\n",
    "    parking_distance = df_parking[df_parking['주차장명']==name]['주변충전소 최단거리'].values[0]\n",
    "    parking_highway= df_parking[df_parking['주차장명']==name]['주변고속도로까지 최단거리'].values[0]\n",
    "    parking_intersection = df_parking[df_parking['주차장명']==name]['교차로'].values[0]\n",
    "    gu = df_parking[df_parking['주차장명']==name]['행정구'].values[0]  \n",
    "    parking_people = df_busan_people.loc[gu].values[0] \n",
    "    parking_floating = df_foottraffic.loc[gu].values[0]\n",
    "    charger_pro_fast,charger_pro_standard = charge_type(parking_people,parking_floating)\n",
    "    type = [[charger_pro_fast],[charger_pro_standard]]\n",
    "\n",
    "    ### 관측된 수치를 기준치로 적합성 판단\n",
    "    # 0:적합, 1:부적합\n",
    "    if parking_area > parking_area_standard:\n",
    "        area_state = 0 \n",
    "    else:\n",
    "        area_state = 1\n",
    "    \n",
    "    if parking_distance > EV_distance_standard:\n",
    "        distance_E_state = 0 \n",
    "    else:\n",
    "        distance_E_state = 1\n",
    "\n",
    "    if parking_highway > highway_standard_E:\n",
    "        highway_E_state = 1 \n",
    "    else:\n",
    "        highway_E_state = 0\n",
    "    \n",
    "    if parking_intersection > intersection_standard:\n",
    "        intersection_E_state = 0 \n",
    "    else:\n",
    "        intersection_E_state = 1\n",
    "    \n",
    "    if parking_people > busan_people_standard:\n",
    "        people_state = 0 \n",
    "    else:\n",
    "        people_state = 1\n",
    "        \n",
    "    if parking_floating > foottraffic_standard:\n",
    "        floating_state = 0 \n",
    "    else:\n",
    "        floating_state = 1\n",
    "\n",
    "    ### 기술적 요인의 하위 변수 업데이트(전기)\n",
    "    technical_model_E = BayesianModel([('type','technical_E')])\n",
    "\n",
    "    P_type = TabularCPD('type',2,values=type)\n",
    "    P_technical_E_I_type = TabularCPD('technical_E',2,[technical_E_pro,technical_E_pro_negative],\n",
    "                                evidence=['type'],\n",
    "                                evidence_card=[2])\n",
    "\n",
    "    technical_model_E.add_cpds(P_type,P_technical_E_I_type)\n",
    "    infer_technical_E = VariableElimination(technical_model_E)\n",
    "    \n",
    "    result_env = infer_environment.query([\"environment\"],show_progress=False)\n",
    "    result_soc = infer_social_E.query([\"social_E\"],evidence={\"distance_E\":distance_E_state,\"highway_E\":highway_E_state,\"intersection_E\":intersection_E_state,\n",
    "                                                \"people\":people_state,\"floating\":floating_state}, show_progress=False)\n",
    "    result_eco = infer_economic_E.query([\"economic_E\"],evidence={\"area\":area_state},show_progress=False)\n",
    "    result_tec = infer_technical_E.query([\"technical_E\"],show_progress=False)\n",
    "\n",
    "    pro_env = result_env.get_value(environment=0)\n",
    "    pro_soc = result_soc.get_value(social_E=0)\n",
    "    pro_eco = result_eco.get_value(economic_E=0)\n",
    "    pro_tec = result_tec.get_value(technical_E=0)\n",
    "\n",
    "    return pro_env, pro_soc, pro_eco, pro_tec"
   ]
  },
  {
   "cell_type": "code",
   "execution_count": 498,
   "metadata": {},
   "outputs": [],
   "source": [
    "# parking_list = df_parking['주차장명'].tolist()\n",
    "# list_env_E = []\n",
    "# list_soc_E = []\n",
    "# list_eco_E = []\n",
    "# list_tec_E = []\n",
    "# list_total_E = []\n",
    "# for place in parking_list:\n",
    "#     pro_env_E, pro_soc_E, pro_eco_E, pro_tec_E = parking_update(place, infer_environment, infer_social_E, infer_economic_E, infer_technical_E)\n",
    "#     list_env_E.append(round(pro_env_E,6))\n",
    "#     list_soc_E.append(round(pro_soc_E,6))\n",
    "#     list_eco_E.append(round(pro_eco_E,6))\n",
    "#     list_tec_E.append(round(pro_tec_E,6))\n",
    "#     # 가중치를 통해 최종확률 도출\n",
    "#     total_pro = 0\n",
    "#     total_pro += pro_env_E * weight_total[0]\n",
    "#     total_pro += pro_soc_E * weight_total[1]\n",
    "#     total_pro += pro_eco_E * weight_total[2]\n",
    "#     total_pro += pro_tec_E * weight_total[3]\n",
    "#     list_total_E.append(round(total_pro,6))"
   ]
  },
  {
   "cell_type": "code",
   "execution_count": 499,
   "metadata": {},
   "outputs": [],
   "source": [
    "# df_parking.insert(14,'기술적요인',list_tec_E)\n",
    "# df_parking.insert(14,'경제적요인',list_eco_E)\n",
    "# df_parking.insert(14,'사회적요인',list_soc_E)\n",
    "# df_parking.insert(14,'환경적요인',list_env_E)\n",
    "# df_parking.insert(18,'최종확률',list_total_E)\n",
    "# df_parking.to_csv(parking_file_path,encoding='cp949')"
   ]
  },
  {
   "cell_type": "markdown",
   "metadata": {},
   "source": [
    "#### 관측된 데이터에 대한 확률 업데이트(수소차)"
   ]
  },
  {
   "cell_type": "code",
   "execution_count": 500,
   "metadata": {},
   "outputs": [],
   "source": [
    "def LPG_update(name, infer_environment, infer_social_H, infer_economic_H, infer_technical_H):\n",
    "    gu = df_LPG[df_LPG['업소명']==name]['행정구'].values[0]                              \n",
    "    LPG_people = df_busan_people.loc[gu].values[0] \n",
    "    LPG_floating = df_foottraffic.loc[gu].values[0]\n",
    "    LPG_land = df_LPG[df_LPG['업소명']==name]['토지비용'].values[0]                    \n",
    "    LPG_distance = df_LPG[df_LPG['업소명']==name]['주변충전소 최단거리'].values[0]     \n",
    "    LPG_highway = df_LPG[df_LPG['업소명']==name]['주변고속도로 최단거리'].values[0]    \n",
    "    LPG_intersection = df_LPG[df_LPG['업소명']==name]['교차로 수'].values[0]     \n",
    "    LPG_type = charge_type(LPG_people,LPG_floating)\n",
    "\n",
    "    # 기존 LPG 충전소 위경도 추출\n",
    "    LPG_lat = df_LPG['위도'].tolist()\n",
    "    LPG_lon = df_LPG['경도'].tolist()\n",
    "    location_LPG = list(zip(LPG_lat,LPG_lon))\n",
    "    location_place = (df_LPG[df_LPG['업소명']==name]['위도'].values[0], df_LPG[df_LPG['업소명']==name]['경도'].values[0]) \n",
    "    if location_place in location_LPG:\n",
    "        complex_pro = 1.0\n",
    "    else:\n",
    "        complex_pro = 0.0\n",
    "    \n",
    "    ### 관측된 수치를 기준치로 적합성 판단\n",
    "    # 0:적합, 1:부적합\n",
    "    if LPG_people > busan_people_standard:\n",
    "        people_state = 0\n",
    "    else:\n",
    "        people_state = 1\n",
    "    \n",
    "    if LPG_floating > foottraffic_standard:\n",
    "        floating_state = 0\n",
    "    else:\n",
    "        floating_state = 1\n",
    "    \n",
    "    if LPG_land > LPG_land_standard:\n",
    "        land_state = 1\n",
    "    else:\n",
    "        land_state = 0\n",
    "\n",
    "    if LPG_distance > HV_distance_standard:\n",
    "        distance_state = 0\n",
    "    else:\n",
    "        distance_state = 1\n",
    "    \n",
    "    if LPG_highway > highway_standard_H:\n",
    "        highway_state = 1\n",
    "    else:\n",
    "        highway_state = 0\n",
    "    \n",
    "    if LPG_intersection > intersection_standard:\n",
    "        intersection_state = 0\n",
    "    else:\n",
    "        intersection_state = 1\n",
    "\n",
    "    if complex_pro == 1.0:\n",
    "        complex_state = 0\n",
    "    else: \n",
    "        complex_state = 1\n",
    "    \n",
    "    result_env = infer_environment.query([\"environment\"],show_progress=False)\n",
    "    result_soc = infer_social_H.query([\"social_H\"],evidence={\"distance_H\":distance_state,\"highway_H\":highway_state,\"intersection_H\":intersection_state,\n",
    "                                                             \"people\":people_state,\"floating\":floating_state}, show_progress=False)\n",
    "    result_eco = infer_economic_H.query([\"economic_H\"],evidence={\"LPG_land\":land_state},show_progress=False)\n",
    "    result_tec = infer_technical_H.query([\"technical_H\"],evidence={\"complex\":complex_state},show_progress=False)\n",
    "\n",
    "    pro_env = result_env.get_value(environment=0)\n",
    "    pro_soc = result_soc.get_value(social_H=0)\n",
    "    pro_eco = result_eco.get_value(economic_H=0)\n",
    "    pro_tec = result_tec.get_value(technical_H=0)\n",
    "\n",
    "    return pro_env, pro_soc, pro_eco, pro_tec"
   ]
  },
  {
   "cell_type": "code",
   "execution_count": 501,
   "metadata": {},
   "outputs": [],
   "source": [
    "# LPG_list = df_LPG['업소명'].tolist()\n",
    "# list_env_H = []\n",
    "# list_soc_H = []\n",
    "# list_eco_H = []\n",
    "# list_tec_H = []\n",
    "# list_total_H = []\n",
    "# for place in LPG_list:\n",
    "#     pro_env_H, pro_soc_H, pro_eco_H, pro_tec_H = LPG_update(place, infer_environment, infer_social_H, infer_economic_H, infer_technical_H)\n",
    "#     list_env_H.append(round(pro_env_H,6))\n",
    "#     list_soc_H.append(round(pro_soc_H,6))\n",
    "#     list_eco_H.append(round(pro_eco_H,6))\n",
    "#     list_tec_H.append(round(pro_tec_H,6))\n",
    "#     # 가중치를 통해 최종확률 도출\n",
    "#     total_pro = 0\n",
    "#     total_pro += pro_env_H * weight_total[0]\n",
    "#     total_pro += pro_soc_H * weight_total[1]\n",
    "#     total_pro += pro_eco_H * weight_total[2]\n",
    "#     total_pro += pro_tec_H * weight_total[3]\n",
    "#     list_total_H.append(round(total_pro,6))"
   ]
  },
  {
   "cell_type": "code",
   "execution_count": 502,
   "metadata": {},
   "outputs": [],
   "source": [
    "# df_LPG.insert(13,'기술적요인',list_tec_H)\n",
    "# df_LPG.insert(13,'경제적요인',list_eco_H)\n",
    "# df_LPG.insert(13,'사회적요인',list_soc_H)\n",
    "# df_LPG.insert(13,'환경적요인',list_env_H)\n",
    "# df_LPG.insert(17,'최종확률',list_total_H)\n",
    "# df_LPG.to_csv(LPG_file_path,encoding='cp949')"
   ]
  },
  {
   "cell_type": "code",
   "execution_count": 503,
   "metadata": {},
   "outputs": [
    {
     "data": {
      "text/html": [
       "<div>\n",
       "<style scoped>\n",
       "    .dataframe tbody tr th:only-of-type {\n",
       "        vertical-align: middle;\n",
       "    }\n",
       "\n",
       "    .dataframe tbody tr th {\n",
       "        vertical-align: top;\n",
       "    }\n",
       "\n",
       "    .dataframe thead th {\n",
       "        text-align: right;\n",
       "    }\n",
       "</style>\n",
       "<table border=\"1\" class=\"dataframe\">\n",
       "  <thead>\n",
       "    <tr style=\"text-align: right;\">\n",
       "      <th></th>\n",
       "      <th>운영형태</th>\n",
       "      <th>행정구</th>\n",
       "      <th>관리기관명</th>\n",
       "      <th>주차장명</th>\n",
       "      <th>주차장관리번호</th>\n",
       "      <th>소재지도로명주소</th>\n",
       "      <th>주차장구분</th>\n",
       "      <th>주차장유형</th>\n",
       "      <th>주차구획수</th>\n",
       "      <th>위도</th>\n",
       "      <th>경도</th>\n",
       "      <th>교차로</th>\n",
       "      <th>주변고속도로까지 최단거리</th>\n",
       "      <th>주변충전소 최단거리</th>\n",
       "      <th>환경적요인</th>\n",
       "      <th>사회적요인</th>\n",
       "      <th>경제적요인</th>\n",
       "      <th>기술적요인</th>\n",
       "      <th>최종확률</th>\n",
       "    </tr>\n",
       "  </thead>\n",
       "  <tbody>\n",
       "    <tr>\n",
       "      <th>0</th>\n",
       "      <td>구(군)직영</td>\n",
       "      <td>사상구</td>\n",
       "      <td>부산광역시 사상구청</td>\n",
       "      <td>감전동주변</td>\n",
       "      <td>2010000013</td>\n",
       "      <td>사상구 감전동 589-2</td>\n",
       "      <td>공영</td>\n",
       "      <td>노외</td>\n",
       "      <td>26</td>\n",
       "      <td>35.154108</td>\n",
       "      <td>128.980071</td>\n",
       "      <td>239</td>\n",
       "      <td>4346.343726</td>\n",
       "      <td>0.061228</td>\n",
       "      <td>0.838573</td>\n",
       "      <td>0.643981</td>\n",
       "      <td>0.252453</td>\n",
       "      <td>0.488554</td>\n",
       "      <td>0.532397</td>\n",
       "    </tr>\n",
       "    <tr>\n",
       "      <th>1</th>\n",
       "      <td>민간위탁</td>\n",
       "      <td>사상구</td>\n",
       "      <td>부산광역시 사상구청</td>\n",
       "      <td>엄궁초등학교지하주차장</td>\n",
       "      <td>2010000016</td>\n",
       "      <td>사상구 엄궁로191번길 23</td>\n",
       "      <td>공영</td>\n",
       "      <td>노외</td>\n",
       "      <td>93</td>\n",
       "      <td>35.128446</td>\n",
       "      <td>128.973403</td>\n",
       "      <td>85</td>\n",
       "      <td>7240.940505</td>\n",
       "      <td>0.112529</td>\n",
       "      <td>0.838573</td>\n",
       "      <td>0.493981</td>\n",
       "      <td>0.252453</td>\n",
       "      <td>0.488554</td>\n",
       "      <td>0.472397</td>\n",
       "    </tr>\n",
       "    <tr>\n",
       "      <th>2</th>\n",
       "      <td>구(군)직영</td>\n",
       "      <td>사상구</td>\n",
       "      <td>부산광역시 사상구청</td>\n",
       "      <td>일신주택주변</td>\n",
       "      <td>2011000003</td>\n",
       "      <td>사상구 주례3동 545-3</td>\n",
       "      <td>공영</td>\n",
       "      <td>노외</td>\n",
       "      <td>10</td>\n",
       "      <td>35.145207</td>\n",
       "      <td>129.000672</td>\n",
       "      <td>165</td>\n",
       "      <td>5584.115172</td>\n",
       "      <td>0.247823</td>\n",
       "      <td>0.838573</td>\n",
       "      <td>0.643981</td>\n",
       "      <td>0.252453</td>\n",
       "      <td>0.488554</td>\n",
       "      <td>0.532397</td>\n",
       "    </tr>\n",
       "    <tr>\n",
       "      <th>3</th>\n",
       "      <td>구(군)직영</td>\n",
       "      <td>사상구</td>\n",
       "      <td>부산광역시 사상구청</td>\n",
       "      <td>주례중학교주변</td>\n",
       "      <td>2012000004</td>\n",
       "      <td>사상구 주례2동 82-13</td>\n",
       "      <td>공영</td>\n",
       "      <td>노외</td>\n",
       "      <td>8</td>\n",
       "      <td>35.154384</td>\n",
       "      <td>129.011131</td>\n",
       "      <td>276</td>\n",
       "      <td>5040.598424</td>\n",
       "      <td>0.094006</td>\n",
       "      <td>0.838573</td>\n",
       "      <td>0.643981</td>\n",
       "      <td>0.252453</td>\n",
       "      <td>0.488554</td>\n",
       "      <td>0.532397</td>\n",
       "    </tr>\n",
       "    <tr>\n",
       "      <th>4</th>\n",
       "      <td>민간위탁</td>\n",
       "      <td>사상구</td>\n",
       "      <td>부산광역시 사상구청</td>\n",
       "      <td>모라1동행정복지센터주변</td>\n",
       "      <td>2007001725</td>\n",
       "      <td>사상구 백양대로 949-6</td>\n",
       "      <td>공영</td>\n",
       "      <td>노상</td>\n",
       "      <td>156</td>\n",
       "      <td>35.171044</td>\n",
       "      <td>128.988085</td>\n",
       "      <td>249</td>\n",
       "      <td>2512.034932</td>\n",
       "      <td>0.190308</td>\n",
       "      <td>0.838573</td>\n",
       "      <td>0.643981</td>\n",
       "      <td>0.752453</td>\n",
       "      <td>0.488554</td>\n",
       "      <td>0.682397</td>\n",
       "    </tr>\n",
       "    <tr>\n",
       "      <th>...</th>\n",
       "      <td>...</td>\n",
       "      <td>...</td>\n",
       "      <td>...</td>\n",
       "      <td>...</td>\n",
       "      <td>...</td>\n",
       "      <td>...</td>\n",
       "      <td>...</td>\n",
       "      <td>...</td>\n",
       "      <td>...</td>\n",
       "      <td>...</td>\n",
       "      <td>...</td>\n",
       "      <td>...</td>\n",
       "      <td>...</td>\n",
       "      <td>...</td>\n",
       "      <td>...</td>\n",
       "      <td>...</td>\n",
       "      <td>...</td>\n",
       "      <td>...</td>\n",
       "      <td>...</td>\n",
       "    </tr>\n",
       "    <tr>\n",
       "      <th>468</th>\n",
       "      <td>민간위탁</td>\n",
       "      <td>중구</td>\n",
       "      <td>부산광역시 중구청</td>\n",
       "      <td>중앙동 노외공영주차장</td>\n",
       "      <td>2009000002</td>\n",
       "      <td>중구 대청로135번길 36</td>\n",
       "      <td>공영</td>\n",
       "      <td>노외</td>\n",
       "      <td>29</td>\n",
       "      <td>35.104229</td>\n",
       "      <td>129.034810</td>\n",
       "      <td>593</td>\n",
       "      <td>10976.446670</td>\n",
       "      <td>0.143217</td>\n",
       "      <td>0.838573</td>\n",
       "      <td>0.443981</td>\n",
       "      <td>0.252453</td>\n",
       "      <td>0.393172</td>\n",
       "      <td>0.438090</td>\n",
       "    </tr>\n",
       "    <tr>\n",
       "      <th>469</th>\n",
       "      <td>민간운영</td>\n",
       "      <td>기장군</td>\n",
       "      <td>부산광역시 기장군청</td>\n",
       "      <td>1구역 2소</td>\n",
       "      <td>2008000002</td>\n",
       "      <td>기장군 기장읍 280-2</td>\n",
       "      <td>공영</td>\n",
       "      <td>노상</td>\n",
       "      <td>12</td>\n",
       "      <td>35.222141</td>\n",
       "      <td>129.206947</td>\n",
       "      <td>19</td>\n",
       "      <td>162.104257</td>\n",
       "      <td>1.603011</td>\n",
       "      <td>0.838573</td>\n",
       "      <td>0.493981</td>\n",
       "      <td>0.252453</td>\n",
       "      <td>0.327783</td>\n",
       "      <td>0.448282</td>\n",
       "    </tr>\n",
       "    <tr>\n",
       "      <th>470</th>\n",
       "      <td>민간운영</td>\n",
       "      <td>기장군</td>\n",
       "      <td>부산광역시 기장군청</td>\n",
       "      <td>1구역 3소</td>\n",
       "      <td>2008000003</td>\n",
       "      <td>기장군 기장읍 444-1</td>\n",
       "      <td>공영</td>\n",
       "      <td>노상</td>\n",
       "      <td>13</td>\n",
       "      <td>35.222141</td>\n",
       "      <td>129.206947</td>\n",
       "      <td>19</td>\n",
       "      <td>162.104257</td>\n",
       "      <td>1.603011</td>\n",
       "      <td>0.838573</td>\n",
       "      <td>0.493981</td>\n",
       "      <td>0.252453</td>\n",
       "      <td>0.327783</td>\n",
       "      <td>0.448282</td>\n",
       "    </tr>\n",
       "    <tr>\n",
       "      <th>471</th>\n",
       "      <td>민간운영</td>\n",
       "      <td>기장군</td>\n",
       "      <td>부산광역시 기장군청</td>\n",
       "      <td>3구역 1소</td>\n",
       "      <td>2008000006</td>\n",
       "      <td>기장군 기장읍 418-12</td>\n",
       "      <td>공영</td>\n",
       "      <td>노상</td>\n",
       "      <td>24</td>\n",
       "      <td>35.222141</td>\n",
       "      <td>129.206947</td>\n",
       "      <td>19</td>\n",
       "      <td>162.104257</td>\n",
       "      <td>1.603011</td>\n",
       "      <td>0.838573</td>\n",
       "      <td>0.493981</td>\n",
       "      <td>0.252453</td>\n",
       "      <td>0.327783</td>\n",
       "      <td>0.448282</td>\n",
       "    </tr>\n",
       "    <tr>\n",
       "      <th>472</th>\n",
       "      <td>시설관리공단위탁</td>\n",
       "      <td>기장군</td>\n",
       "      <td>부산광역시 기장군청</td>\n",
       "      <td>기장시장 공영주차장</td>\n",
       "      <td>2018000001</td>\n",
       "      <td>기장군 읍내로94번길 9</td>\n",
       "      <td>공영</td>\n",
       "      <td>노외</td>\n",
       "      <td>216</td>\n",
       "      <td>35.244174</td>\n",
       "      <td>129.214471</td>\n",
       "      <td>341</td>\n",
       "      <td>1051.519295</td>\n",
       "      <td>0.079494</td>\n",
       "      <td>0.838573</td>\n",
       "      <td>0.443981</td>\n",
       "      <td>0.752453</td>\n",
       "      <td>0.327783</td>\n",
       "      <td>0.578282</td>\n",
       "    </tr>\n",
       "  </tbody>\n",
       "</table>\n",
       "<p>473 rows × 19 columns</p>\n",
       "</div>"
      ],
      "text/plain": [
       "         운영형태  행정구       관리기관명          주차장명     주차장관리번호          소재지도로명주소  \\\n",
       "0      구(군)직영  사상구  부산광역시 사상구청         감전동주변  2010000013     사상구 감전동 589-2   \n",
       "1        민간위탁  사상구  부산광역시 사상구청   엄궁초등학교지하주차장  2010000016  사상구 엄궁로191번길 23    \n",
       "2      구(군)직영  사상구  부산광역시 사상구청        일신주택주변  2011000003    사상구 주례3동 545-3   \n",
       "3      구(군)직영  사상구  부산광역시 사상구청       주례중학교주변  2012000004    사상구 주례2동 82-13   \n",
       "4        민간위탁  사상구  부산광역시 사상구청  모라1동행정복지센터주변  2007001725    사상구 백양대로 949-6   \n",
       "..        ...  ...         ...           ...         ...               ...   \n",
       "468      민간위탁   중구   부산광역시 중구청   중앙동 노외공영주차장  2009000002   중구 대청로135번길 36    \n",
       "469      민간운영  기장군  부산광역시 기장군청        1구역 2소  2008000002     기장군 기장읍 280-2   \n",
       "470      민간운영  기장군  부산광역시 기장군청        1구역 3소  2008000003     기장군 기장읍 444-1   \n",
       "471      민간운영  기장군  부산광역시 기장군청        3구역 1소  2008000006    기장군 기장읍 418-12   \n",
       "472  시설관리공단위탁  기장군  부산광역시 기장군청    기장시장 공영주차장  2018000001    기장군 읍내로94번길 9    \n",
       "\n",
       "    주차장구분 주차장유형  주차구획수         위도          경도  교차로  주변고속도로까지 최단거리  주변충전소 최단거리  \\\n",
       "0      공영    노외     26  35.154108  128.980071  239    4346.343726    0.061228   \n",
       "1      공영    노외     93  35.128446  128.973403   85    7240.940505    0.112529   \n",
       "2      공영    노외     10  35.145207  129.000672  165    5584.115172    0.247823   \n",
       "3      공영    노외      8  35.154384  129.011131  276    5040.598424    0.094006   \n",
       "4      공영    노상    156  35.171044  128.988085  249    2512.034932    0.190308   \n",
       "..    ...   ...    ...        ...         ...  ...            ...         ...   \n",
       "468    공영    노외     29  35.104229  129.034810  593   10976.446670    0.143217   \n",
       "469    공영    노상     12  35.222141  129.206947   19     162.104257    1.603011   \n",
       "470    공영    노상     13  35.222141  129.206947   19     162.104257    1.603011   \n",
       "471    공영    노상     24  35.222141  129.206947   19     162.104257    1.603011   \n",
       "472    공영    노외    216  35.244174  129.214471  341    1051.519295    0.079494   \n",
       "\n",
       "        환경적요인     사회적요인     경제적요인     기술적요인      최종확률  \n",
       "0    0.838573  0.643981  0.252453  0.488554  0.532397  \n",
       "1    0.838573  0.493981  0.252453  0.488554  0.472397  \n",
       "2    0.838573  0.643981  0.252453  0.488554  0.532397  \n",
       "3    0.838573  0.643981  0.252453  0.488554  0.532397  \n",
       "4    0.838573  0.643981  0.752453  0.488554  0.682397  \n",
       "..        ...       ...       ...       ...       ...  \n",
       "468  0.838573  0.443981  0.252453  0.393172  0.438090  \n",
       "469  0.838573  0.493981  0.252453  0.327783  0.448282  \n",
       "470  0.838573  0.493981  0.252453  0.327783  0.448282  \n",
       "471  0.838573  0.493981  0.252453  0.327783  0.448282  \n",
       "472  0.838573  0.443981  0.752453  0.327783  0.578282  \n",
       "\n",
       "[473 rows x 19 columns]"
      ]
     },
     "execution_count": 503,
     "metadata": {},
     "output_type": "execute_result"
    }
   ],
   "source": [
    "df_parking"
   ]
  },
  {
   "cell_type": "code",
   "execution_count": 504,
   "metadata": {},
   "outputs": [
    {
     "data": {
      "text/html": [
       "<div>\n",
       "<style scoped>\n",
       "    .dataframe tbody tr th:only-of-type {\n",
       "        vertical-align: middle;\n",
       "    }\n",
       "\n",
       "    .dataframe tbody tr th {\n",
       "        vertical-align: top;\n",
       "    }\n",
       "\n",
       "    .dataframe thead th {\n",
       "        text-align: right;\n",
       "    }\n",
       "</style>\n",
       "<table border=\"1\" class=\"dataframe\">\n",
       "  <thead>\n",
       "    <tr style=\"text-align: right;\">\n",
       "      <th></th>\n",
       "      <th>행정시</th>\n",
       "      <th>행정구</th>\n",
       "      <th>업소명</th>\n",
       "      <th>소재지</th>\n",
       "      <th>관리구분</th>\n",
       "      <th>위도</th>\n",
       "      <th>경도</th>\n",
       "      <th>면적</th>\n",
       "      <th>공시지가</th>\n",
       "      <th>토지비용</th>\n",
       "      <th>교차로 수</th>\n",
       "    </tr>\n",
       "  </thead>\n",
       "  <tbody>\n",
       "    <tr>\n",
       "      <th>0</th>\n",
       "      <td>부산</td>\n",
       "      <td>강서구</td>\n",
       "      <td>개인택시신공항충전소</td>\n",
       "      <td>부산 강서구 경전철로188번길 95</td>\n",
       "      <td>자동차충전</td>\n",
       "      <td>35.198669</td>\n",
       "      <td>128.966594</td>\n",
       "      <td>2545.0</td>\n",
       "      <td>2144000.0</td>\n",
       "      <td>5.456480e+09</td>\n",
       "      <td>52</td>\n",
       "    </tr>\n",
       "    <tr>\n",
       "      <th>1</th>\n",
       "      <td>부산</td>\n",
       "      <td>강서구</td>\n",
       "      <td>부산공항LPG충전소</td>\n",
       "      <td>부산 강서구 공항로 459</td>\n",
       "      <td>자동차충전</td>\n",
       "      <td>35.149064</td>\n",
       "      <td>128.951891</td>\n",
       "      <td>3105.0</td>\n",
       "      <td>1174000.0</td>\n",
       "      <td>3.645270e+09</td>\n",
       "      <td>16</td>\n",
       "    </tr>\n",
       "    <tr>\n",
       "      <th>2</th>\n",
       "      <td>부산</td>\n",
       "      <td>강서구</td>\n",
       "      <td>신항만에너지</td>\n",
       "      <td>부산 강서구 낙동남로 507</td>\n",
       "      <td>자동차충전</td>\n",
       "      <td>35.112947</td>\n",
       "      <td>128.875260</td>\n",
       "      <td>3105.0</td>\n",
       "      <td>1174000.0</td>\n",
       "      <td>3.645270e+09</td>\n",
       "      <td>76</td>\n",
       "    </tr>\n",
       "    <tr>\n",
       "      <th>3</th>\n",
       "      <td>부산</td>\n",
       "      <td>강서구</td>\n",
       "      <td>르노삼성자동차(주)</td>\n",
       "      <td>부산 강서구 르노삼성대로 61</td>\n",
       "      <td>자동차충전</td>\n",
       "      <td>35.095408</td>\n",
       "      <td>128.883215</td>\n",
       "      <td>1538.0</td>\n",
       "      <td>640100.0</td>\n",
       "      <td>9.844738e+08</td>\n",
       "      <td>82</td>\n",
       "    </tr>\n",
       "    <tr>\n",
       "      <th>4</th>\n",
       "      <td>부산</td>\n",
       "      <td>강서구</td>\n",
       "      <td>죽림LPG충전소</td>\n",
       "      <td>부산 강서구 호계로 102</td>\n",
       "      <td>자동차충전</td>\n",
       "      <td>35.200736</td>\n",
       "      <td>128.893462</td>\n",
       "      <td>1580.0</td>\n",
       "      <td>1017000.0</td>\n",
       "      <td>1.606860e+09</td>\n",
       "      <td>16</td>\n",
       "    </tr>\n",
       "    <tr>\n",
       "      <th>5</th>\n",
       "      <td>부산</td>\n",
       "      <td>강서구</td>\n",
       "      <td>가락충전소</td>\n",
       "      <td>부산 강서구 호계로 195</td>\n",
       "      <td>자동차충전</td>\n",
       "      <td>35.208847</td>\n",
       "      <td>128.890148</td>\n",
       "      <td>2600.0</td>\n",
       "      <td>1017000.0</td>\n",
       "      <td>2.644200e+09</td>\n",
       "      <td>20</td>\n",
       "    </tr>\n",
       "    <tr>\n",
       "      <th>6</th>\n",
       "      <td>부산</td>\n",
       "      <td>금정구</td>\n",
       "      <td>(주)해연</td>\n",
       "      <td>부산 금정구 개좌로 225-15</td>\n",
       "      <td>용기+탱크+13kg용기</td>\n",
       "      <td>35.230796</td>\n",
       "      <td>129.122388</td>\n",
       "      <td>3346.0</td>\n",
       "      <td>1370000.0</td>\n",
       "      <td>4.584020e+09</td>\n",
       "      <td>119</td>\n",
       "    </tr>\n",
       "    <tr>\n",
       "      <th>7</th>\n",
       "      <td>부산</td>\n",
       "      <td>금정구</td>\n",
       "      <td>(주)신진가스</td>\n",
       "      <td>부산 금정구 반송로 433</td>\n",
       "      <td>자동차충전</td>\n",
       "      <td>35.215006</td>\n",
       "      <td>129.111143</td>\n",
       "      <td>1646.4</td>\n",
       "      <td>2797000.0</td>\n",
       "      <td>4.604981e+09</td>\n",
       "      <td>407</td>\n",
       "    </tr>\n",
       "    <tr>\n",
       "      <th>8</th>\n",
       "      <td>부산</td>\n",
       "      <td>기장군</td>\n",
       "      <td>마라톤가스(주)청강충전소</td>\n",
       "      <td>부산 기장군 기장읍 기장대로 343 A동</td>\n",
       "      <td>자동차충전</td>\n",
       "      <td>35.225657</td>\n",
       "      <td>129.213988</td>\n",
       "      <td>2592.0</td>\n",
       "      <td>1069000.0</td>\n",
       "      <td>2.770848e+09</td>\n",
       "      <td>45</td>\n",
       "    </tr>\n",
       "    <tr>\n",
       "      <th>9</th>\n",
       "      <td>부산</td>\n",
       "      <td>기장군</td>\n",
       "      <td>한국에너지산업(주)</td>\n",
       "      <td>부산 기장군 기장읍 기장대로413번길 38</td>\n",
       "      <td>용기+자동차+탱크+13kg용기</td>\n",
       "      <td>35.235543</td>\n",
       "      <td>129.215629</td>\n",
       "      <td>2473.0</td>\n",
       "      <td>1063000.0</td>\n",
       "      <td>2.628799e+09</td>\n",
       "      <td>241</td>\n",
       "    </tr>\n",
       "    <tr>\n",
       "      <th>10</th>\n",
       "      <td>부산</td>\n",
       "      <td>기장군</td>\n",
       "      <td>선암가스충전소</td>\n",
       "      <td>부산 기장군 장안읍 기장대로 1451</td>\n",
       "      <td>자동차+13kg용기</td>\n",
       "      <td>35.321585</td>\n",
       "      <td>129.241320</td>\n",
       "      <td>2717.0</td>\n",
       "      <td>1060000.0</td>\n",
       "      <td>2.880020e+09</td>\n",
       "      <td>75</td>\n",
       "    </tr>\n",
       "    <tr>\n",
       "      <th>11</th>\n",
       "      <td>부산</td>\n",
       "      <td>기장군</td>\n",
       "      <td>KH에너지(주)직영장안충전소(부산방향)</td>\n",
       "      <td>부산 기장군 장안읍 동해고속도로 25</td>\n",
       "      <td>자동차충전</td>\n",
       "      <td>35.377525</td>\n",
       "      <td>129.246402</td>\n",
       "      <td>15637.0</td>\n",
       "      <td>263500.0</td>\n",
       "      <td>4.120350e+09</td>\n",
       "      <td>20</td>\n",
       "    </tr>\n",
       "    <tr>\n",
       "      <th>12</th>\n",
       "      <td>부산</td>\n",
       "      <td>기장군</td>\n",
       "      <td>KH에너지(주)직영장안충전소(울산방향)</td>\n",
       "      <td>부산 기장군 장안읍 동해고속도로 26</td>\n",
       "      <td>자동차충전</td>\n",
       "      <td>35.382870</td>\n",
       "      <td>129.248394</td>\n",
       "      <td>37294.0</td>\n",
       "      <td>263500.0</td>\n",
       "      <td>9.826969e+09</td>\n",
       "      <td>9</td>\n",
       "    </tr>\n",
       "    <tr>\n",
       "      <th>13</th>\n",
       "      <td>부산</td>\n",
       "      <td>기장군</td>\n",
       "      <td>정림에너지</td>\n",
       "      <td>부산 기장군 정관읍 신정관로 187</td>\n",
       "      <td>자동차충전</td>\n",
       "      <td>35.328714</td>\n",
       "      <td>129.201710</td>\n",
       "      <td>2575.0</td>\n",
       "      <td>743500.0</td>\n",
       "      <td>1.914512e+09</td>\n",
       "      <td>62</td>\n",
       "    </tr>\n",
       "    <tr>\n",
       "      <th>14</th>\n",
       "      <td>부산</td>\n",
       "      <td>기장군</td>\n",
       "      <td>광신개발(주)직영 정관가스충전소</td>\n",
       "      <td>부산 기장군 정관읍 정관로 907</td>\n",
       "      <td>자동차+13kg용기</td>\n",
       "      <td>35.324749</td>\n",
       "      <td>129.210964</td>\n",
       "      <td>1899.0</td>\n",
       "      <td>877400.0</td>\n",
       "      <td>1.666183e+09</td>\n",
       "      <td>81</td>\n",
       "    </tr>\n",
       "    <tr>\n",
       "      <th>15</th>\n",
       "      <td>부산</td>\n",
       "      <td>기장군</td>\n",
       "      <td>개인택시동부산충전소</td>\n",
       "      <td>부산 기장군 철마면 반송로 1022</td>\n",
       "      <td>자동차충전</td>\n",
       "      <td>35.235930</td>\n",
       "      <td>129.163728</td>\n",
       "      <td>2543.0</td>\n",
       "      <td>923000.0</td>\n",
       "      <td>2.347189e+09</td>\n",
       "      <td>71</td>\n",
       "    </tr>\n",
       "    <tr>\n",
       "      <th>16</th>\n",
       "      <td>부산</td>\n",
       "      <td>동구</td>\n",
       "      <td>개인택시남부LPG충전소</td>\n",
       "      <td>부산 동구 성남로 42</td>\n",
       "      <td>자동차충전</td>\n",
       "      <td>35.130627</td>\n",
       "      <td>129.054917</td>\n",
       "      <td>1518.5</td>\n",
       "      <td>1701000.0</td>\n",
       "      <td>2.582968e+09</td>\n",
       "      <td>257</td>\n",
       "    </tr>\n",
       "    <tr>\n",
       "      <th>17</th>\n",
       "      <td>부산</td>\n",
       "      <td>동구</td>\n",
       "      <td>(주)대양씨앤씨(구:녹색에너지 범일영업소)</td>\n",
       "      <td>부산 동구 성남로 74-3</td>\n",
       "      <td>용기+13kg용기</td>\n",
       "      <td>35.130891</td>\n",
       "      <td>129.057587</td>\n",
       "      <td>3169.8</td>\n",
       "      <td>1545000.0</td>\n",
       "      <td>4.897341e+09</td>\n",
       "      <td>258</td>\n",
       "    </tr>\n",
       "    <tr>\n",
       "      <th>18</th>\n",
       "      <td>부산</td>\n",
       "      <td>북구</td>\n",
       "      <td>개인택시 금곡역충전소</td>\n",
       "      <td>부산 북구 금곡대로 704</td>\n",
       "      <td>자동차충전</td>\n",
       "      <td>35.269475</td>\n",
       "      <td>129.018781</td>\n",
       "      <td>2055.0</td>\n",
       "      <td>842500.0</td>\n",
       "      <td>1.731338e+09</td>\n",
       "      <td>47</td>\n",
       "    </tr>\n",
       "    <tr>\n",
       "      <th>19</th>\n",
       "      <td>부산</td>\n",
       "      <td>북구</td>\n",
       "      <td>(주)삼보</td>\n",
       "      <td>부산 북구 만덕대로 327-0</td>\n",
       "      <td>자동차충전</td>\n",
       "      <td>35.213643</td>\n",
       "      <td>129.040635</td>\n",
       "      <td>3837.0</td>\n",
       "      <td>1608000.0</td>\n",
       "      <td>6.169896e+09</td>\n",
       "      <td>169</td>\n",
       "    </tr>\n",
       "    <tr>\n",
       "      <th>20</th>\n",
       "      <td>부산</td>\n",
       "      <td>사상구</td>\n",
       "      <td>팔성가스충전소</td>\n",
       "      <td>부산 사상구 가야대로 75</td>\n",
       "      <td>자동차+13kg용기</td>\n",
       "      <td>35.151317</td>\n",
       "      <td>128.980986</td>\n",
       "      <td>2946.6</td>\n",
       "      <td>3247000.0</td>\n",
       "      <td>9.567610e+09</td>\n",
       "      <td>241</td>\n",
       "    </tr>\n",
       "    <tr>\n",
       "      <th>21</th>\n",
       "      <td>부산</td>\n",
       "      <td>사상구</td>\n",
       "      <td>(주)성은에너지제2충전소</td>\n",
       "      <td>부산 사상구 강변대로 412</td>\n",
       "      <td>자동차충전</td>\n",
       "      <td>35.122092</td>\n",
       "      <td>128.962063</td>\n",
       "      <td>3732.4</td>\n",
       "      <td>2373000.0</td>\n",
       "      <td>8.856985e+09</td>\n",
       "      <td>50</td>\n",
       "    </tr>\n",
       "    <tr>\n",
       "      <th>22</th>\n",
       "      <td>부산</td>\n",
       "      <td>사상구</td>\n",
       "      <td>극동유화(주)감전충전소</td>\n",
       "      <td>부산 사상구 낙동대로 878</td>\n",
       "      <td>용기+자동차+탱크+13kg용기</td>\n",
       "      <td>35.138888</td>\n",
       "      <td>128.971339</td>\n",
       "      <td>2886.1</td>\n",
       "      <td>3201000.0</td>\n",
       "      <td>9.238406e+09</td>\n",
       "      <td>112</td>\n",
       "    </tr>\n",
       "    <tr>\n",
       "      <th>23</th>\n",
       "      <td>부산</td>\n",
       "      <td>사하구</td>\n",
       "      <td>광진기업(주)장림영업소</td>\n",
       "      <td>부산 사하구 다대로 309</td>\n",
       "      <td>용기+자동차+13kg용기</td>\n",
       "      <td>35.075007</td>\n",
       "      <td>128.977163</td>\n",
       "      <td>1604.0</td>\n",
       "      <td>2665000.0</td>\n",
       "      <td>4.274660e+09</td>\n",
       "      <td>54</td>\n",
       "    </tr>\n",
       "    <tr>\n",
       "      <th>24</th>\n",
       "      <td>부산</td>\n",
       "      <td>사하구</td>\n",
       "      <td>광신가스(주)을숙도대로충전소</td>\n",
       "      <td>부산 사하구 을숙도대로 530</td>\n",
       "      <td>자동차충전</td>\n",
       "      <td>35.085225</td>\n",
       "      <td>128.963646</td>\n",
       "      <td>1632.0</td>\n",
       "      <td>1095000.0</td>\n",
       "      <td>1.787040e+09</td>\n",
       "      <td>111</td>\n",
       "    </tr>\n",
       "    <tr>\n",
       "      <th>25</th>\n",
       "      <td>부산</td>\n",
       "      <td>사하구</td>\n",
       "      <td>개인택시사하엘피지충전소</td>\n",
       "      <td>부산 사하구 을숙도대로 583</td>\n",
       "      <td>자동차충전</td>\n",
       "      <td>35.085534</td>\n",
       "      <td>128.969349</td>\n",
       "      <td>1657.0</td>\n",
       "      <td>1498000.0</td>\n",
       "      <td>2.482186e+09</td>\n",
       "      <td>129</td>\n",
       "    </tr>\n",
       "    <tr>\n",
       "      <th>26</th>\n",
       "      <td>부산</td>\n",
       "      <td>연제구</td>\n",
       "      <td>부산개인택시엘피지충전소</td>\n",
       "      <td>부산 연제구 월드컵대로 399</td>\n",
       "      <td>자동차충전</td>\n",
       "      <td>35.186013</td>\n",
       "      <td>129.055974</td>\n",
       "      <td>9212.0</td>\n",
       "      <td>688600.0</td>\n",
       "      <td>6.343383e+09</td>\n",
       "      <td>146</td>\n",
       "    </tr>\n",
       "    <tr>\n",
       "      <th>27</th>\n",
       "      <td>부산</td>\n",
       "      <td>영도구</td>\n",
       "      <td>(주)태종에너지</td>\n",
       "      <td>부산 영도구 영선대로 41</td>\n",
       "      <td>자동차충전</td>\n",
       "      <td>35.084996</td>\n",
       "      <td>129.040033</td>\n",
       "      <td>1610.2</td>\n",
       "      <td>2679000.0</td>\n",
       "      <td>4.313726e+09</td>\n",
       "      <td>255</td>\n",
       "    </tr>\n",
       "    <tr>\n",
       "      <th>28</th>\n",
       "      <td>부산</td>\n",
       "      <td>영도구</td>\n",
       "      <td>부산에너지</td>\n",
       "      <td>부산 영도구 해양로 160</td>\n",
       "      <td>용기+자동차+탱크+13kg용기</td>\n",
       "      <td>35.091275</td>\n",
       "      <td>129.069484</td>\n",
       "      <td>5801.0</td>\n",
       "      <td>989400.0</td>\n",
       "      <td>5.739509e+09</td>\n",
       "      <td>67</td>\n",
       "    </tr>\n",
       "    <tr>\n",
       "      <th>29</th>\n",
       "      <td>부산</td>\n",
       "      <td>영도구</td>\n",
       "      <td>개인택시 영도LPG충전소</td>\n",
       "      <td>부산 영도구 해양로 296</td>\n",
       "      <td>자동차충전</td>\n",
       "      <td>35.082176</td>\n",
       "      <td>129.076429</td>\n",
       "      <td>1818.0</td>\n",
       "      <td>349800.0</td>\n",
       "      <td>6.359364e+08</td>\n",
       "      <td>98</td>\n",
       "    </tr>\n",
       "    <tr>\n",
       "      <th>30</th>\n",
       "      <td>부산</td>\n",
       "      <td>해운대구</td>\n",
       "      <td>이원 해운대LPG충전소</td>\n",
       "      <td>부산 해운대구 해운대로 1255</td>\n",
       "      <td>용기+자동차+탱크+13kg용기</td>\n",
       "      <td>35.196728</td>\n",
       "      <td>129.205260</td>\n",
       "      <td>3700.0</td>\n",
       "      <td>1607000.0</td>\n",
       "      <td>5.945900e+09</td>\n",
       "      <td>64</td>\n",
       "    </tr>\n",
       "  </tbody>\n",
       "</table>\n",
       "</div>"
      ],
      "text/plain": [
       "   행정시   행정구                      업소명                      소재지  \\\n",
       "0   부산   강서구               개인택시신공항충전소      부산 강서구 경전철로188번길 95   \n",
       "1   부산   강서구               부산공항LPG충전소           부산 강서구 공항로 459   \n",
       "2   부산   강서구                   신항만에너지         부산 강서구 낙동남로 507    \n",
       "3   부산   강서구               르노삼성자동차(주)         부산 강서구 르노삼성대로 61   \n",
       "4   부산   강서구                 죽림LPG충전소          부산 강서구 호계로 102    \n",
       "5   부산   강서구                    가락충전소          부산 강서구 호계로 195    \n",
       "6   부산   금정구                    (주)해연       부산 금정구 개좌로 225-15    \n",
       "7   부산   금정구                  (주)신진가스          부산 금정구 반송로 433    \n",
       "8   부산   기장군            마라톤가스(주)청강충전소   부산 기장군 기장읍 기장대로 343 A동   \n",
       "9   부산   기장군               한국에너지산업(주)  부산 기장군 기장읍 기장대로413번길 38   \n",
       "10  부산   기장군                  선암가스충전소    부산 기장군 장안읍 기장대로 1451    \n",
       "11  부산   기장군    KH에너지(주)직영장안충전소(부산방향)     부산 기장군 장안읍 동해고속도로 25   \n",
       "12  부산   기장군    KH에너지(주)직영장안충전소(울산방향)     부산 기장군 장안읍 동해고속도로 26   \n",
       "13  부산   기장군                    정림에너지     부산 기장군 정관읍 신정관로 187    \n",
       "14  부산   기장군        광신개발(주)직영 정관가스충전소       부산 기장군 정관읍 정관로 907   \n",
       "15  부산   기장군               개인택시동부산충전소      부산 기장군 철마면 반송로 1022   \n",
       "16  부산    동구             개인택시남부LPG충전소             부산 동구 성남로 42   \n",
       "17  부산    동구  (주)대양씨앤씨(구:녹색에너지 범일영업소)           부산 동구 성남로 74-3   \n",
       "18  부산    북구              개인택시 금곡역충전소           부산 북구 금곡대로 704   \n",
       "19  부산    북구                    (주)삼보         부산 북구 만덕대로 327-0   \n",
       "20  부산   사상구                  팔성가스충전소           부산 사상구 가야대로 75   \n",
       "21  부산   사상구            (주)성은에너지제2충전소          부산 사상구 강변대로 412   \n",
       "22  부산   사상구             극동유화(주)감전충전소          부산 사상구 낙동대로 878   \n",
       "23  부산   사하구             광진기업(주)장림영업소           부산 사하구 다대로 309   \n",
       "24  부산   사하구          광신가스(주)을숙도대로충전소         부산 사하구 을숙도대로 530   \n",
       "25  부산   사하구             개인택시사하엘피지충전소         부산 사하구 을숙도대로 583   \n",
       "26  부산   연제구             부산개인택시엘피지충전소         부산 연제구 월드컵대로 399   \n",
       "27  부산   영도구                 (주)태종에너지           부산 영도구 영선대로 41   \n",
       "28  부산   영도구                    부산에너지           부산 영도구 해양로 160   \n",
       "29  부산   영도구            개인택시 영도LPG충전소           부산 영도구 해양로 296   \n",
       "30  부산  해운대구             이원 해운대LPG충전소        부산 해운대구 해운대로 1255   \n",
       "\n",
       "                관리구분         위도          경도       면적       공시지가          토지비용  \\\n",
       "0              자동차충전  35.198669  128.966594   2545.0  2144000.0  5.456480e+09   \n",
       "1              자동차충전  35.149064  128.951891   3105.0  1174000.0  3.645270e+09   \n",
       "2              자동차충전  35.112947  128.875260   3105.0  1174000.0  3.645270e+09   \n",
       "3              자동차충전  35.095408  128.883215   1538.0   640100.0  9.844738e+08   \n",
       "4              자동차충전  35.200736  128.893462   1580.0  1017000.0  1.606860e+09   \n",
       "5              자동차충전  35.208847  128.890148   2600.0  1017000.0  2.644200e+09   \n",
       "6       용기+탱크+13kg용기  35.230796  129.122388   3346.0  1370000.0  4.584020e+09   \n",
       "7              자동차충전  35.215006  129.111143   1646.4  2797000.0  4.604981e+09   \n",
       "8              자동차충전  35.225657  129.213988   2592.0  1069000.0  2.770848e+09   \n",
       "9   용기+자동차+탱크+13kg용기  35.235543  129.215629   2473.0  1063000.0  2.628799e+09   \n",
       "10        자동차+13kg용기  35.321585  129.241320   2717.0  1060000.0  2.880020e+09   \n",
       "11             자동차충전  35.377525  129.246402  15637.0   263500.0  4.120350e+09   \n",
       "12             자동차충전  35.382870  129.248394  37294.0   263500.0  9.826969e+09   \n",
       "13             자동차충전  35.328714  129.201710   2575.0   743500.0  1.914512e+09   \n",
       "14        자동차+13kg용기  35.324749  129.210964   1899.0   877400.0  1.666183e+09   \n",
       "15             자동차충전  35.235930  129.163728   2543.0   923000.0  2.347189e+09   \n",
       "16             자동차충전  35.130627  129.054917   1518.5  1701000.0  2.582968e+09   \n",
       "17         용기+13kg용기  35.130891  129.057587   3169.8  1545000.0  4.897341e+09   \n",
       "18             자동차충전  35.269475  129.018781   2055.0   842500.0  1.731338e+09   \n",
       "19             자동차충전  35.213643  129.040635   3837.0  1608000.0  6.169896e+09   \n",
       "20        자동차+13kg용기  35.151317  128.980986   2946.6  3247000.0  9.567610e+09   \n",
       "21             자동차충전  35.122092  128.962063   3732.4  2373000.0  8.856985e+09   \n",
       "22  용기+자동차+탱크+13kg용기  35.138888  128.971339   2886.1  3201000.0  9.238406e+09   \n",
       "23     용기+자동차+13kg용기  35.075007  128.977163   1604.0  2665000.0  4.274660e+09   \n",
       "24             자동차충전  35.085225  128.963646   1632.0  1095000.0  1.787040e+09   \n",
       "25             자동차충전  35.085534  128.969349   1657.0  1498000.0  2.482186e+09   \n",
       "26             자동차충전  35.186013  129.055974   9212.0   688600.0  6.343383e+09   \n",
       "27             자동차충전  35.084996  129.040033   1610.2  2679000.0  4.313726e+09   \n",
       "28  용기+자동차+탱크+13kg용기  35.091275  129.069484   5801.0   989400.0  5.739509e+09   \n",
       "29             자동차충전  35.082176  129.076429   1818.0   349800.0  6.359364e+08   \n",
       "30  용기+자동차+탱크+13kg용기  35.196728  129.205260   3700.0  1607000.0  5.945900e+09   \n",
       "\n",
       "    교차로 수  \n",
       "0      52  \n",
       "1      16  \n",
       "2      76  \n",
       "3      82  \n",
       "4      16  \n",
       "5      20  \n",
       "6     119  \n",
       "7     407  \n",
       "8      45  \n",
       "9     241  \n",
       "10     75  \n",
       "11     20  \n",
       "12      9  \n",
       "13     62  \n",
       "14     81  \n",
       "15     71  \n",
       "16    257  \n",
       "17    258  \n",
       "18     47  \n",
       "19    169  \n",
       "20    241  \n",
       "21     50  \n",
       "22    112  \n",
       "23     54  \n",
       "24    111  \n",
       "25    129  \n",
       "26    146  \n",
       "27    255  \n",
       "28     67  \n",
       "29     98  \n",
       "30     64  "
      ]
     },
     "execution_count": 504,
     "metadata": {},
     "output_type": "execute_result"
    }
   ],
   "source": [
    "df_LPG"
   ]
  },
  {
   "cell_type": "code",
   "execution_count": null,
   "metadata": {},
   "outputs": [],
   "source": []
  }
 ],
 "metadata": {
  "interpreter": {
   "hash": "f050bb9fd34efe2ad4050694f9ad3d2282b57f28f06302e823e69ca1f91b4def"
  },
  "kernelspec": {
   "display_name": "Python 3.10.4 ('GVCS')",
   "language": "python",
   "name": "python3"
  },
  "language_info": {
   "codemirror_mode": {
    "name": "ipython",
    "version": 3
   },
   "file_extension": ".py",
   "mimetype": "text/x-python",
   "name": "python",
   "nbconvert_exporter": "python",
   "pygments_lexer": "ipython3",
   "version": "3.10.4"
  }
 },
 "nbformat": 4,
 "nbformat_minor": 4
}
