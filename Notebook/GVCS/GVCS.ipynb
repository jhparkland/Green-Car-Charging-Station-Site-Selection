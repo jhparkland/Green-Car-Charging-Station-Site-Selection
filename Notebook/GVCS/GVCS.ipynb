{
 "cells": [
  {
   "cell_type": "markdown",
   "metadata": {
    "collapsed": false
   },
   "source": [
    "# 확률 네트워크기반 친환경 자동차 충전소(GVCS) 로케이션 인텔리전스(Location Intelligence) 대시보드"
   ]
  },
  {
   "cell_type": "markdown",
   "metadata": {
    "pycharm": {
     "name": "#%% md\n"
    }
   },
   "source": [
    "## 제안 배경\n",
    "\n",
    "**친환경 자동차 생산에만 관심이 쏠려 사용자를 고려하지 못한 설치로 인한 잉여 충전소 발생**\n",
    "\n",
    "- 민관 협력을 통해 충전 서비스 관련 사업이 꾸준히 증가함. 하지만 전국에 설치된 공공 급속충전기 총 2,896개(2021년 기준) 중 하루 1회 이하로 사용한 충전기가 1,164개로 전체의 40.1%를 차지하고 있다. 심지어 17개는 전혀 사용하지 않은 것으로 나타남.\n",
    "\n",
    "- 이와 같은 충전소마다 이용 편차가 큰 이유는 전기차 보급 목표에 따라 구역별로  충전소를 나눠 설치했기 때문이라는 지적도 있다.\n",
    "\n",
    "- 한국전기차충전협동조합은 앞으로 수요가 몰리는 거점을 중심을 중심으로 충전기 설치를 해야하 한다는 의견 주장함.\n",
    "\n",
    "- 기존의 정부 중심으로 공급자 입장에서 설치하던 충전소를 친환경 자동차 차주를 고려해 이용자 중심으로 변화 설치가 필요하다는 지적도 있다.\n",
    "\n",
    "즉, **꾸준히 증가하는 친환경 차량의 수요를 위해 저비용 고효율의 충전소 설치를 목표 한다.** 충전소 설치 사업자의 기대 수익 최적화를 위해 사용자 입장을 고려한 체계적이며 최적의 입지 선정 결과를 제시함."
   ]
  },
  {
   "cell_type": "markdown",
   "metadata": {},
   "source": [
    "## 사용 데이터\n",
    "\n",
    "1. 충전소 위치 및 현황 정보\n",
    "2. 급속충전기 보급 현황\n",
    "3. LPG충전소 현황\n",
    "4. 오존 월별 대기오염도\n",
    "5. 아황산가스 월별 대기오염도\n",
    "6. 이산화질소 월별 대기오염도\n",
    "7. 미세먼지 월별 대기오염도\n",
    "8. 행정구역별 인구수\n",
    "9. 항만 현황\n",
    "10. 지역별 전기차 등록대 수"
   ]
  },
  {
   "cell_type": "code",
   "execution_count": 405,
   "metadata": {
    "collapsed": false,
    "jupyter": {
     "outputs_hidden": false
    },
    "pycharm": {
     "name": "#%%\n"
    }
   },
   "outputs": [],
   "source": [
    "import pandas as pd\n",
    "import matplotlib.pyplot as plt\n",
    "import seaborn as sns\n",
    "import osmnx as ox\n",
    "import networkx as nx\n",
    "import numpy as np\n",
    "from scipy.stats import norm\n",
    "import plotly.express as px\n",
    "import plotly.graph_objects as go"
   ]
  },
  {
   "cell_type": "markdown",
   "metadata": {},
   "source": [
    "## 상위 요소 - 환경적 요인\n",
    "\n",
    "대기오염도를 기반하여 확률 값을 계산한다."
   ]
  },
  {
   "cell_type": "markdown",
   "metadata": {},
   "source": [
    "### 오존 월별 대기오염도 데이터 불러오기"
   ]
  },
  {
   "cell_type": "code",
   "execution_count": 406,
   "metadata": {
    "collapsed": false,
    "jupyter": {
     "outputs_hidden": false
    },
    "pycharm": {
     "name": "#%%\n"
    }
   },
   "outputs": [
    {
     "data": {
      "text/html": [
       "<div>\n",
       "<style scoped>\n",
       "    .dataframe tbody tr th:only-of-type {\n",
       "        vertical-align: middle;\n",
       "    }\n",
       "\n",
       "    .dataframe tbody tr th {\n",
       "        vertical-align: top;\n",
       "    }\n",
       "\n",
       "    .dataframe thead th {\n",
       "        text-align: right;\n",
       "    }\n",
       "</style>\n",
       "<table border=\"1\" class=\"dataframe\">\n",
       "  <thead>\n",
       "    <tr style=\"text-align: right;\">\n",
       "      <th></th>\n",
       "      <th>구분(1)</th>\n",
       "      <th>구분(2)</th>\n",
       "      <th>2021.02</th>\n",
       "      <th>2021.03</th>\n",
       "      <th>2021.04</th>\n",
       "      <th>2021.05</th>\n",
       "      <th>2021.06</th>\n",
       "      <th>2021.07</th>\n",
       "    </tr>\n",
       "  </thead>\n",
       "  <tbody>\n",
       "    <tr>\n",
       "      <th>0</th>\n",
       "      <td>총계</td>\n",
       "      <td>소계</td>\n",
       "      <td>0.029</td>\n",
       "      <td>0.034</td>\n",
       "      <td>0.043</td>\n",
       "      <td>0.042</td>\n",
       "      <td>0.044</td>\n",
       "      <td>0.033</td>\n",
       "    </tr>\n",
       "    <tr>\n",
       "      <th>1</th>\n",
       "      <td>서울특별시</td>\n",
       "      <td>서울특별시</td>\n",
       "      <td>0.022</td>\n",
       "      <td>0.025</td>\n",
       "      <td>0.037</td>\n",
       "      <td>0.036</td>\n",
       "      <td>0.041</td>\n",
       "      <td>0.038</td>\n",
       "    </tr>\n",
       "    <tr>\n",
       "      <th>2</th>\n",
       "      <td>부산광역시</td>\n",
       "      <td>부산광역시</td>\n",
       "      <td>0.031</td>\n",
       "      <td>0.036</td>\n",
       "      <td>0.043</td>\n",
       "      <td>0.041</td>\n",
       "      <td>0.041</td>\n",
       "      <td>0.028</td>\n",
       "    </tr>\n",
       "    <tr>\n",
       "      <th>3</th>\n",
       "      <td>대구광역시</td>\n",
       "      <td>대구광역시</td>\n",
       "      <td>0.025</td>\n",
       "      <td>0.032</td>\n",
       "      <td>0.043</td>\n",
       "      <td>0.040</td>\n",
       "      <td>0.045</td>\n",
       "      <td>0.031</td>\n",
       "    </tr>\n",
       "    <tr>\n",
       "      <th>4</th>\n",
       "      <td>인천광역시</td>\n",
       "      <td>인천광역시</td>\n",
       "      <td>0.026</td>\n",
       "      <td>0.030</td>\n",
       "      <td>0.040</td>\n",
       "      <td>0.042</td>\n",
       "      <td>0.044</td>\n",
       "      <td>0.041</td>\n",
       "    </tr>\n",
       "    <tr>\n",
       "      <th>...</th>\n",
       "      <td>...</td>\n",
       "      <td>...</td>\n",
       "      <td>...</td>\n",
       "      <td>...</td>\n",
       "      <td>...</td>\n",
       "      <td>...</td>\n",
       "      <td>...</td>\n",
       "      <td>...</td>\n",
       "    </tr>\n",
       "    <tr>\n",
       "      <th>167</th>\n",
       "      <td>경상남도</td>\n",
       "      <td>합천</td>\n",
       "      <td>0.034</td>\n",
       "      <td>0.039</td>\n",
       "      <td>0.050</td>\n",
       "      <td>0.048</td>\n",
       "      <td>0.051</td>\n",
       "      <td>0.038**</td>\n",
       "    </tr>\n",
       "    <tr>\n",
       "      <th>168</th>\n",
       "      <td>경상남도</td>\n",
       "      <td>도평균</td>\n",
       "      <td>0.032</td>\n",
       "      <td>0.037</td>\n",
       "      <td>0.044</td>\n",
       "      <td>0.044</td>\n",
       "      <td>0.045</td>\n",
       "      <td>0.031</td>\n",
       "    </tr>\n",
       "    <tr>\n",
       "      <th>169</th>\n",
       "      <td>제주특별자치도</td>\n",
       "      <td>제주특별자치도</td>\n",
       "      <td>0.044</td>\n",
       "      <td>0.046</td>\n",
       "      <td>0.051</td>\n",
       "      <td>0.051</td>\n",
       "      <td>0.045</td>\n",
       "      <td>0.029</td>\n",
       "    </tr>\n",
       "    <tr>\n",
       "      <th>170</th>\n",
       "      <td>제주특별자치도</td>\n",
       "      <td>서귀포</td>\n",
       "      <td>0.045</td>\n",
       "      <td>0.048</td>\n",
       "      <td>0.054</td>\n",
       "      <td>0.052</td>\n",
       "      <td>0.046</td>\n",
       "      <td>0.028</td>\n",
       "    </tr>\n",
       "    <tr>\n",
       "      <th>171</th>\n",
       "      <td>제주특별자치도</td>\n",
       "      <td>도평균</td>\n",
       "      <td>0.044</td>\n",
       "      <td>0.047</td>\n",
       "      <td>0.053</td>\n",
       "      <td>0.051</td>\n",
       "      <td>0.045</td>\n",
       "      <td>0.029</td>\n",
       "    </tr>\n",
       "  </tbody>\n",
       "</table>\n",
       "<p>172 rows × 8 columns</p>\n",
       "</div>"
      ],
      "text/plain": [
       "       구분(1)    구분(2) 2021.02 2021.03 2021.04 2021.05 2021.06  2021.07\n",
       "0         총계       소계   0.029   0.034   0.043   0.042   0.044    0.033\n",
       "1      서울특별시    서울특별시   0.022   0.025   0.037   0.036   0.041    0.038\n",
       "2      부산광역시    부산광역시   0.031   0.036   0.043   0.041   0.041    0.028\n",
       "3      대구광역시    대구광역시   0.025   0.032   0.043   0.040   0.045    0.031\n",
       "4      인천광역시    인천광역시   0.026   0.030   0.040   0.042   0.044    0.041\n",
       "..       ...      ...     ...     ...     ...     ...     ...      ...\n",
       "167     경상남도       합천   0.034   0.039   0.050   0.048   0.051  0.038**\n",
       "168     경상남도      도평균   0.032   0.037   0.044   0.044   0.045    0.031\n",
       "169  제주특별자치도  제주특별자치도   0.044   0.046   0.051   0.051   0.045    0.029\n",
       "170  제주특별자치도      서귀포   0.045   0.048   0.054   0.052   0.046    0.028\n",
       "171  제주특별자치도      도평균   0.044   0.047   0.053   0.051   0.045    0.029\n",
       "\n",
       "[172 rows x 8 columns]"
      ]
     },
     "execution_count": 406,
     "metadata": {},
     "output_type": "execute_result"
    }
   ],
   "source": [
    "ozone_file_path = \"C:\\\\Users\\\\SAMSUNG\\\\Desktop\\\\Green-Car-Charging-Station-Site-Selection\\\\Data\\\\오존_월별_도시별_대기오염도.csv\"\n",
    "df_ozone = pd.read_csv(ozone_file_path, encoding='cp949')\n",
    "df_ozone"
   ]
  },
  {
   "cell_type": "code",
   "execution_count": 407,
   "metadata": {
    "collapsed": false,
    "pycharm": {
     "name": "#%%\n"
    }
   },
   "outputs": [
    {
     "name": "stdout",
     "output_type": "stream",
     "text": [
      "<class 'pandas.core.frame.DataFrame'>\n",
      "RangeIndex: 172 entries, 0 to 171\n",
      "Data columns (total 8 columns):\n",
      " #   Column   Non-Null Count  Dtype \n",
      "---  ------   --------------  ----- \n",
      " 0   구분(1)    172 non-null    object\n",
      " 1   구분(2)    172 non-null    object\n",
      " 2   2021.02  172 non-null    object\n",
      " 3   2021.03  172 non-null    object\n",
      " 4   2021.04  172 non-null    object\n",
      " 5   2021.05  172 non-null    object\n",
      " 6   2021.06  172 non-null    object\n",
      " 7   2021.07  172 non-null    object\n",
      "dtypes: object(8)\n",
      "memory usage: 10.9+ KB\n"
     ]
    }
   ],
   "source": [
    "df_ozone.info()"
   ]
  },
  {
   "cell_type": "code",
   "execution_count": 408,
   "metadata": {
    "collapsed": false,
    "pycharm": {
     "name": "#%%\n"
    }
   },
   "outputs": [],
   "source": [
    "ozen_col =  df_ozone.iloc[:,2:-1].columns.tolist()"
   ]
  },
  {
   "cell_type": "code",
   "execution_count": 409,
   "metadata": {
    "collapsed": false,
    "pycharm": {
     "name": "#%%\n"
    }
   },
   "outputs": [],
   "source": [
    "df_ozone.drop(columns=ozen_col, inplace=True)"
   ]
  },
  {
   "cell_type": "code",
   "execution_count": 410,
   "metadata": {
    "collapsed": false,
    "pycharm": {
     "name": "#%%\n"
    }
   },
   "outputs": [],
   "source": [
    "def advanced_replace(df, col, str, regex):\n",
    "    '''\n",
    "    DataFrame 특정 열의 특수문자 제거\n",
    "    :param df: 대상 DataFrame\n",
    "    :param col: column\n",
    "    :param str: 제거할 특수 문자.\n",
    "    :param regex: 적용할 정규표현식\n",
    "    :return:\n",
    "    '''\n",
    "    df[col] = df[col].replace(str,0)\n",
    "    df[col] = df[col].replace(to_replace=regex, value=r'', regex=True)\n",
    "    return df"
   ]
  },
  {
   "cell_type": "code",
   "execution_count": 411,
   "metadata": {
    "collapsed": false,
    "pycharm": {
     "name": "#%%\n"
    }
   },
   "outputs": [
    {
     "name": "stdout",
     "output_type": "stream",
     "text": [
      "<class 'pandas.core.frame.DataFrame'>\n",
      "RangeIndex: 172 entries, 0 to 171\n",
      "Data columns (total 3 columns):\n",
      " #   Column   Non-Null Count  Dtype  \n",
      "---  ------   --------------  -----  \n",
      " 0   구분(1)    172 non-null    object \n",
      " 1   구분(2)    172 non-null    object \n",
      " 2   2021.07  172 non-null    float64\n",
      "dtypes: float64(1), object(2)\n",
      "memory usage: 4.2+ KB\n"
     ]
    }
   ],
   "source": [
    "# 해당 컬럼 float 타입으로 변경\n",
    "advanced_replace(df_ozone, df_ozone.iloc[:,2:].columns.tolist(), '-', r'[^0-9.0-9]')\n",
    "df_ozone['2021.07'] = df_ozone['2021.07'].astype(float)\n",
    "df_ozone.info()"
   ]
  },
  {
   "cell_type": "code",
   "execution_count": 412,
   "metadata": {},
   "outputs": [],
   "source": [
    "def show_norm(mean,std,min,max):\n",
    "     '''\n",
    "     정규분포 함수를 matplotlib을 통해 시각화\n",
    "     mean: 평균값\n",
    "     std: 표준편차\n",
    "     min: 관측된 데이터의 최솟값\n",
    "     max: 관측된 데이터의 최댓값\n",
    "     '''\n",
    "     min = min - std\n",
    "     # x값 설정(min에서 max까지 unit만큼씩 증가하는 x)\n",
    "     x = np.linspace(min,max,100)\n",
    "     # y값은 평균이 mean이고 표준편차가 std인 확률밀도함수\n",
    "     fig = px.line(x=x,y=norm.pdf(x,loc=mean,scale=std))\n",
    "     fig.show()"
   ]
  },
  {
   "cell_type": "code",
   "execution_count": 413,
   "metadata": {},
   "outputs": [
    {
     "data": {
      "application/vnd.plotly.v1+json": {
       "config": {
        "plotlyServerURL": "https://plot.ly"
       },
       "data": [
        {
         "hovertemplate": "x=%{x}<br>y=%{y}<extra></extra>",
         "legendgroup": "",
         "line": {
          "color": "#636efa",
          "dash": "solid"
         },
         "mode": "lines",
         "name": "",
         "orientation": "v",
         "showlegend": false,
         "type": "scatter",
         "x": [
          0.013605603165889407,
          0.01406413242684002,
          0.014522661687790631,
          0.014981190948741244,
          0.015439720209691855,
          0.015898249470642466,
          0.01635677873159308,
          0.01681530799254369,
          0.017273837253494302,
          0.017732366514444917,
          0.018190895775395528,
          0.01864942503634614,
          0.019107954297296753,
          0.019566483558247364,
          0.020025012819197975,
          0.02048354208014859,
          0.0209420713410992,
          0.02140060060204981,
          0.021859129863000426,
          0.022317659123951034,
          0.022776188384901648,
          0.02323471764585226,
          0.02369324690680287,
          0.024151776167753485,
          0.024610305428704096,
          0.025068834689654707,
          0.02552736395060532,
          0.025985893211555932,
          0.026444422472506543,
          0.026902951733457157,
          0.02736148099440777,
          0.02782001025535838,
          0.028278539516308994,
          0.028737068777259605,
          0.029195598038210216,
          0.029654127299160827,
          0.03011265656011144,
          0.030571185821062052,
          0.031029715082012663,
          0.03148824434296328,
          0.03194677360391389,
          0.032405302864864496,
          0.03286383212581511,
          0.033322361386765725,
          0.03378089064771633,
          0.03423941990866695,
          0.03469794916961756,
          0.03515647843056817,
          0.035615007691518784,
          0.0360735369524694,
          0.036532066213420006,
          0.03699059547437062,
          0.037449124735321235,
          0.03790765399627184,
          0.03836618325722246,
          0.03882471251817307,
          0.03928324177912368,
          0.03974177104007429,
          0.04020030030102491,
          0.040658829561975515,
          0.04111735882292613,
          0.041575888083876744,
          0.04203441734482735,
          0.042492946605777966,
          0.04295147586672858,
          0.04341000512767919,
          0.0438685343886298,
          0.04432706364958042,
          0.044785592910531025,
          0.04524412217148164,
          0.04570265143243225,
          0.04616118069338286,
          0.046619709954333476,
          0.04707823921528408,
          0.0475367684762347,
          0.04799529773718531,
          0.04845382699813592,
          0.048912356259086534,
          0.04937088552003715,
          0.049829414780987756,
          0.05028794404193837,
          0.050746473302888985,
          0.05120500256383959,
          0.05166353182479021,
          0.052122061085740815,
          0.05258059034669143,
          0.053039119607642043,
          0.05349764886859265,
          0.053956178129543265,
          0.05441470739049388,
          0.05487323665144449,
          0.0553317659123951,
          0.055790295173345716,
          0.056248824434296324,
          0.05670735369524694,
          0.05716588295619755,
          0.05762441221714816,
          0.058082941478098775,
          0.05854147073904939,
          0.059
         ],
         "xaxis": "x",
         "y": [
          0.23163280608591946,
          0.3080294869805355,
          0.40667423964826876,
          0.5330441492379837,
          0.6936523229533839,
          0.8961540170283431,
          1.1494381660704707,
          1.4636954325234917,
          1.8504526150987235,
          2.3225622669879775,
          2.8941358327529887,
          3.580408679718312,
          4.397526233292164,
          5.362242163539762,
          6.491522312665093,
          7.802051844321985,
          9.309647907514472,
          11.028585824684654,
          12.970853223284093,
          15.145353321723347,
          17.557085350869574,
          20.206336362247278,
          23.08792391584719,
          26.190532813242374,
          29.4961906358003,
          32.979925932517396,
          36.60964917432015,
          40.34628992013037,
          44.144214099345795,
          47.951933207070816,
          51.713103063000304,
          55.36779434403998,
          58.854001278528095,
          62.10933971426542,
          65.0728723114448,
          67.68698788919991,
          69.89925486480988,
          71.66416595027727,
          72.94469321596927,
          73.71357937372656,
          73.95430240479247,
          73.66166585645635,
          72.84198535204423,
          71.51286196485559,
          69.70255381374285,
          67.44897721503938,
          64.79838669846619,
          61.80379804577361,
          58.52322936346961,
          55.01784148205936,
          51.35006045008671,
          47.58176167347619,
          43.772587772767174,
          39.97846119932934,
          36.25033897691991,
          32.63324164927175,
          29.165572685453526,
          25.878729242402784,
          22.79699120776655,
          19.937663568508025,
          17.311437880318287,
          14.922932228611918,
          12.771365627283306,
          10.851322146567332,
          9.153561878724867,
          7.665839699340431,
          6.373698147930115,
          5.261207093015858,
          4.31162963920369,
          3.508000504514285,
          2.833609450464464,
          2.27238798372823,
          1.8092022641228893,
          1.4300588426036878,
          1.122232494351547,
          0.8743270566143387,
          0.6762809332953407,
          0.5193289287158207,
          0.3959314804367415,
          0.29968133800207525,
          0.2251964349513399,
          0.16800626214329878,
          0.12443758525097684,
          0.09150394683707755,
          0.06680211696774155,
          0.04841754567080244,
          0.034839945173904506,
          0.02488939279378529,
          0.017652787243317085,
          0.012430094175861977,
          0.008689558229436074,
          0.006030913829184536,
          0.004155570889933407,
          0.0028427614283116636,
          0.0019306888105570892,
          0.0013018060686211615,
          0.0008714499525528425,
          0.0005791629294049209,
          0.0003821388640672589,
          0.00025032475926428795
         ],
         "yaxis": "y"
        }
       ],
       "layout": {
        "legend": {
         "tracegroupgap": 0
        },
        "margin": {
         "t": 60
        },
        "template": {
         "data": {
          "bar": [
           {
            "error_x": {
             "color": "#2a3f5f"
            },
            "error_y": {
             "color": "#2a3f5f"
            },
            "marker": {
             "line": {
              "color": "#E5ECF6",
              "width": 0.5
             },
             "pattern": {
              "fillmode": "overlay",
              "size": 10,
              "solidity": 0.2
             }
            },
            "type": "bar"
           }
          ],
          "barpolar": [
           {
            "marker": {
             "line": {
              "color": "#E5ECF6",
              "width": 0.5
             },
             "pattern": {
              "fillmode": "overlay",
              "size": 10,
              "solidity": 0.2
             }
            },
            "type": "barpolar"
           }
          ],
          "carpet": [
           {
            "aaxis": {
             "endlinecolor": "#2a3f5f",
             "gridcolor": "white",
             "linecolor": "white",
             "minorgridcolor": "white",
             "startlinecolor": "#2a3f5f"
            },
            "baxis": {
             "endlinecolor": "#2a3f5f",
             "gridcolor": "white",
             "linecolor": "white",
             "minorgridcolor": "white",
             "startlinecolor": "#2a3f5f"
            },
            "type": "carpet"
           }
          ],
          "choropleth": [
           {
            "colorbar": {
             "outlinewidth": 0,
             "ticks": ""
            },
            "type": "choropleth"
           }
          ],
          "contour": [
           {
            "colorbar": {
             "outlinewidth": 0,
             "ticks": ""
            },
            "colorscale": [
             [
              0,
              "#0d0887"
             ],
             [
              0.1111111111111111,
              "#46039f"
             ],
             [
              0.2222222222222222,
              "#7201a8"
             ],
             [
              0.3333333333333333,
              "#9c179e"
             ],
             [
              0.4444444444444444,
              "#bd3786"
             ],
             [
              0.5555555555555556,
              "#d8576b"
             ],
             [
              0.6666666666666666,
              "#ed7953"
             ],
             [
              0.7777777777777778,
              "#fb9f3a"
             ],
             [
              0.8888888888888888,
              "#fdca26"
             ],
             [
              1,
              "#f0f921"
             ]
            ],
            "type": "contour"
           }
          ],
          "contourcarpet": [
           {
            "colorbar": {
             "outlinewidth": 0,
             "ticks": ""
            },
            "type": "contourcarpet"
           }
          ],
          "heatmap": [
           {
            "colorbar": {
             "outlinewidth": 0,
             "ticks": ""
            },
            "colorscale": [
             [
              0,
              "#0d0887"
             ],
             [
              0.1111111111111111,
              "#46039f"
             ],
             [
              0.2222222222222222,
              "#7201a8"
             ],
             [
              0.3333333333333333,
              "#9c179e"
             ],
             [
              0.4444444444444444,
              "#bd3786"
             ],
             [
              0.5555555555555556,
              "#d8576b"
             ],
             [
              0.6666666666666666,
              "#ed7953"
             ],
             [
              0.7777777777777778,
              "#fb9f3a"
             ],
             [
              0.8888888888888888,
              "#fdca26"
             ],
             [
              1,
              "#f0f921"
             ]
            ],
            "type": "heatmap"
           }
          ],
          "heatmapgl": [
           {
            "colorbar": {
             "outlinewidth": 0,
             "ticks": ""
            },
            "colorscale": [
             [
              0,
              "#0d0887"
             ],
             [
              0.1111111111111111,
              "#46039f"
             ],
             [
              0.2222222222222222,
              "#7201a8"
             ],
             [
              0.3333333333333333,
              "#9c179e"
             ],
             [
              0.4444444444444444,
              "#bd3786"
             ],
             [
              0.5555555555555556,
              "#d8576b"
             ],
             [
              0.6666666666666666,
              "#ed7953"
             ],
             [
              0.7777777777777778,
              "#fb9f3a"
             ],
             [
              0.8888888888888888,
              "#fdca26"
             ],
             [
              1,
              "#f0f921"
             ]
            ],
            "type": "heatmapgl"
           }
          ],
          "histogram": [
           {
            "marker": {
             "pattern": {
              "fillmode": "overlay",
              "size": 10,
              "solidity": 0.2
             }
            },
            "type": "histogram"
           }
          ],
          "histogram2d": [
           {
            "colorbar": {
             "outlinewidth": 0,
             "ticks": ""
            },
            "colorscale": [
             [
              0,
              "#0d0887"
             ],
             [
              0.1111111111111111,
              "#46039f"
             ],
             [
              0.2222222222222222,
              "#7201a8"
             ],
             [
              0.3333333333333333,
              "#9c179e"
             ],
             [
              0.4444444444444444,
              "#bd3786"
             ],
             [
              0.5555555555555556,
              "#d8576b"
             ],
             [
              0.6666666666666666,
              "#ed7953"
             ],
             [
              0.7777777777777778,
              "#fb9f3a"
             ],
             [
              0.8888888888888888,
              "#fdca26"
             ],
             [
              1,
              "#f0f921"
             ]
            ],
            "type": "histogram2d"
           }
          ],
          "histogram2dcontour": [
           {
            "colorbar": {
             "outlinewidth": 0,
             "ticks": ""
            },
            "colorscale": [
             [
              0,
              "#0d0887"
             ],
             [
              0.1111111111111111,
              "#46039f"
             ],
             [
              0.2222222222222222,
              "#7201a8"
             ],
             [
              0.3333333333333333,
              "#9c179e"
             ],
             [
              0.4444444444444444,
              "#bd3786"
             ],
             [
              0.5555555555555556,
              "#d8576b"
             ],
             [
              0.6666666666666666,
              "#ed7953"
             ],
             [
              0.7777777777777778,
              "#fb9f3a"
             ],
             [
              0.8888888888888888,
              "#fdca26"
             ],
             [
              1,
              "#f0f921"
             ]
            ],
            "type": "histogram2dcontour"
           }
          ],
          "mesh3d": [
           {
            "colorbar": {
             "outlinewidth": 0,
             "ticks": ""
            },
            "type": "mesh3d"
           }
          ],
          "parcoords": [
           {
            "line": {
             "colorbar": {
              "outlinewidth": 0,
              "ticks": ""
             }
            },
            "type": "parcoords"
           }
          ],
          "pie": [
           {
            "automargin": true,
            "type": "pie"
           }
          ],
          "scatter": [
           {
            "marker": {
             "colorbar": {
              "outlinewidth": 0,
              "ticks": ""
             }
            },
            "type": "scatter"
           }
          ],
          "scatter3d": [
           {
            "line": {
             "colorbar": {
              "outlinewidth": 0,
              "ticks": ""
             }
            },
            "marker": {
             "colorbar": {
              "outlinewidth": 0,
              "ticks": ""
             }
            },
            "type": "scatter3d"
           }
          ],
          "scattercarpet": [
           {
            "marker": {
             "colorbar": {
              "outlinewidth": 0,
              "ticks": ""
             }
            },
            "type": "scattercarpet"
           }
          ],
          "scattergeo": [
           {
            "marker": {
             "colorbar": {
              "outlinewidth": 0,
              "ticks": ""
             }
            },
            "type": "scattergeo"
           }
          ],
          "scattergl": [
           {
            "marker": {
             "colorbar": {
              "outlinewidth": 0,
              "ticks": ""
             }
            },
            "type": "scattergl"
           }
          ],
          "scattermapbox": [
           {
            "marker": {
             "colorbar": {
              "outlinewidth": 0,
              "ticks": ""
             }
            },
            "type": "scattermapbox"
           }
          ],
          "scatterpolar": [
           {
            "marker": {
             "colorbar": {
              "outlinewidth": 0,
              "ticks": ""
             }
            },
            "type": "scatterpolar"
           }
          ],
          "scatterpolargl": [
           {
            "marker": {
             "colorbar": {
              "outlinewidth": 0,
              "ticks": ""
             }
            },
            "type": "scatterpolargl"
           }
          ],
          "scatterternary": [
           {
            "marker": {
             "colorbar": {
              "outlinewidth": 0,
              "ticks": ""
             }
            },
            "type": "scatterternary"
           }
          ],
          "surface": [
           {
            "colorbar": {
             "outlinewidth": 0,
             "ticks": ""
            },
            "colorscale": [
             [
              0,
              "#0d0887"
             ],
             [
              0.1111111111111111,
              "#46039f"
             ],
             [
              0.2222222222222222,
              "#7201a8"
             ],
             [
              0.3333333333333333,
              "#9c179e"
             ],
             [
              0.4444444444444444,
              "#bd3786"
             ],
             [
              0.5555555555555556,
              "#d8576b"
             ],
             [
              0.6666666666666666,
              "#ed7953"
             ],
             [
              0.7777777777777778,
              "#fb9f3a"
             ],
             [
              0.8888888888888888,
              "#fdca26"
             ],
             [
              1,
              "#f0f921"
             ]
            ],
            "type": "surface"
           }
          ],
          "table": [
           {
            "cells": {
             "fill": {
              "color": "#EBF0F8"
             },
             "line": {
              "color": "white"
             }
            },
            "header": {
             "fill": {
              "color": "#C8D4E3"
             },
             "line": {
              "color": "white"
             }
            },
            "type": "table"
           }
          ]
         },
         "layout": {
          "annotationdefaults": {
           "arrowcolor": "#2a3f5f",
           "arrowhead": 0,
           "arrowwidth": 1
          },
          "autotypenumbers": "strict",
          "coloraxis": {
           "colorbar": {
            "outlinewidth": 0,
            "ticks": ""
           }
          },
          "colorscale": {
           "diverging": [
            [
             0,
             "#8e0152"
            ],
            [
             0.1,
             "#c51b7d"
            ],
            [
             0.2,
             "#de77ae"
            ],
            [
             0.3,
             "#f1b6da"
            ],
            [
             0.4,
             "#fde0ef"
            ],
            [
             0.5,
             "#f7f7f7"
            ],
            [
             0.6,
             "#e6f5d0"
            ],
            [
             0.7,
             "#b8e186"
            ],
            [
             0.8,
             "#7fbc41"
            ],
            [
             0.9,
             "#4d9221"
            ],
            [
             1,
             "#276419"
            ]
           ],
           "sequential": [
            [
             0,
             "#0d0887"
            ],
            [
             0.1111111111111111,
             "#46039f"
            ],
            [
             0.2222222222222222,
             "#7201a8"
            ],
            [
             0.3333333333333333,
             "#9c179e"
            ],
            [
             0.4444444444444444,
             "#bd3786"
            ],
            [
             0.5555555555555556,
             "#d8576b"
            ],
            [
             0.6666666666666666,
             "#ed7953"
            ],
            [
             0.7777777777777778,
             "#fb9f3a"
            ],
            [
             0.8888888888888888,
             "#fdca26"
            ],
            [
             1,
             "#f0f921"
            ]
           ],
           "sequentialminus": [
            [
             0,
             "#0d0887"
            ],
            [
             0.1111111111111111,
             "#46039f"
            ],
            [
             0.2222222222222222,
             "#7201a8"
            ],
            [
             0.3333333333333333,
             "#9c179e"
            ],
            [
             0.4444444444444444,
             "#bd3786"
            ],
            [
             0.5555555555555556,
             "#d8576b"
            ],
            [
             0.6666666666666666,
             "#ed7953"
            ],
            [
             0.7777777777777778,
             "#fb9f3a"
            ],
            [
             0.8888888888888888,
             "#fdca26"
            ],
            [
             1,
             "#f0f921"
            ]
           ]
          },
          "colorway": [
           "#636efa",
           "#EF553B",
           "#00cc96",
           "#ab63fa",
           "#FFA15A",
           "#19d3f3",
           "#FF6692",
           "#B6E880",
           "#FF97FF",
           "#FECB52"
          ],
          "font": {
           "color": "#2a3f5f"
          },
          "geo": {
           "bgcolor": "white",
           "lakecolor": "white",
           "landcolor": "#E5ECF6",
           "showlakes": true,
           "showland": true,
           "subunitcolor": "white"
          },
          "hoverlabel": {
           "align": "left"
          },
          "hovermode": "closest",
          "mapbox": {
           "style": "light"
          },
          "paper_bgcolor": "white",
          "plot_bgcolor": "#E5ECF6",
          "polar": {
           "angularaxis": {
            "gridcolor": "white",
            "linecolor": "white",
            "ticks": ""
           },
           "bgcolor": "#E5ECF6",
           "radialaxis": {
            "gridcolor": "white",
            "linecolor": "white",
            "ticks": ""
           }
          },
          "scene": {
           "xaxis": {
            "backgroundcolor": "#E5ECF6",
            "gridcolor": "white",
            "gridwidth": 2,
            "linecolor": "white",
            "showbackground": true,
            "ticks": "",
            "zerolinecolor": "white"
           },
           "yaxis": {
            "backgroundcolor": "#E5ECF6",
            "gridcolor": "white",
            "gridwidth": 2,
            "linecolor": "white",
            "showbackground": true,
            "ticks": "",
            "zerolinecolor": "white"
           },
           "zaxis": {
            "backgroundcolor": "#E5ECF6",
            "gridcolor": "white",
            "gridwidth": 2,
            "linecolor": "white",
            "showbackground": true,
            "ticks": "",
            "zerolinecolor": "white"
           }
          },
          "shapedefaults": {
           "line": {
            "color": "#2a3f5f"
           }
          },
          "ternary": {
           "aaxis": {
            "gridcolor": "white",
            "linecolor": "white",
            "ticks": ""
           },
           "baxis": {
            "gridcolor": "white",
            "linecolor": "white",
            "ticks": ""
           },
           "bgcolor": "#E5ECF6",
           "caxis": {
            "gridcolor": "white",
            "linecolor": "white",
            "ticks": ""
           }
          },
          "title": {
           "x": 0.05
          },
          "xaxis": {
           "automargin": true,
           "gridcolor": "white",
           "linecolor": "white",
           "ticks": "",
           "title": {
            "standoff": 15
           },
           "zerolinecolor": "white",
           "zerolinewidth": 2
          },
          "yaxis": {
           "automargin": true,
           "gridcolor": "white",
           "linecolor": "white",
           "ticks": "",
           "title": {
            "standoff": 15
           },
           "zerolinecolor": "white",
           "zerolinewidth": 2
          }
         }
        },
        "xaxis": {
         "anchor": "y",
         "domain": [
          0,
          1
         ],
         "title": {
          "text": "x"
         }
        },
        "yaxis": {
         "anchor": "x",
         "domain": [
          0,
          1
         ],
         "title": {
          "text": "y"
         }
        }
       }
      }
     },
     "metadata": {},
     "output_type": "display_data"
    }
   ],
   "source": [
    "mean = df_ozone.iloc[:,2].mean()\n",
    "std = df_ozone.iloc[:,2].std()\n",
    "min = df_ozone.iloc[:,2].min()\n",
    "max = df_ozone.iloc[:,2].max()\n",
    "show_norm(mean,std,min,max)"
   ]
  },
  {
   "cell_type": "markdown",
   "metadata": {},
   "source": [
    "### 부산광역시 오존의 누적확률 구하기"
   ]
  },
  {
   "cell_type": "code",
   "execution_count": 414,
   "metadata": {},
   "outputs": [],
   "source": [
    "def cal_norm(mean,std,min,max,value):\n",
    "     '''\n",
    "     정규분포에서 value에 대한 누적확률 구하기\n",
    "     mean: 평균값\n",
    "     std: 표준편차\n",
    "     min: 관측된 데이터의 최솟값\n",
    "     max: 관측된 데이터의 최댓값\n",
    "     value: 누적확률을 구하고자 하는 데이터의 측정값\n",
    "     '''\n",
    "     min = min - std\n",
    "     red ='rgb(239,85,59)'\n",
    "     blue = 'rgb(100,110,250)'\n",
    "     fig = go.Figure()\n",
    "     \n",
    "     # 확률 값을 구할 특정 구간의 범위 설정\n",
    "     cum_a = np.linspace(min,value,100)\n",
    "     cum_b = np.linspace(value,max,100)\n",
    "     \n",
    "     pro = norm(mean,std).cdf(value)-norm(mean,std).cdf(min).round(3)\n",
    "     # 구간 사이에 색을 채움\n",
    "     fig.add_trace(go.Scatter(x=cum_a,y=norm.pdf(cum_a,mean,std), fill = 'tozeroy',name='적합',text=pro,line=dict(color=blue)))\n",
    "     fig.add_trace(go.Scatter(x=cum_b,y=norm.pdf(cum_b,mean,std), fill = 'tozeroy',name='부적합',text=pro,line=dict(color=red)))\n",
    "     annotations =[]\n",
    "     annotations.append(dict(x=value, y=norm.pdf(value,loc=mean,scale=std), showarrow=False, text=round(pro,3), font=dict(size=15,color=blue), xshift=-40, yshift=-100, bordercolor=blue,borderwidth=2))\n",
    "     annotations.append(dict(x=value, y=norm.pdf(value,loc=mean,scale=std), showarrow=False, text=round(1-pro,3),font=dict(size=15,color=red),xshift=40, yshift=-100, bordercolor=red,borderwidth=2))\n",
    "     fig.update_layout(annotations=annotations)\n",
    "     # value까지의 누적확률에서 min까지의 누적확률을 뺌\n",
    "     fig.show()\n",
    "\n",
    "     # 최종 누적확률 반환\n",
    "     return pro"
   ]
  },
  {
   "cell_type": "code",
   "execution_count": 415,
   "metadata": {},
   "outputs": [
    {
     "data": {
      "application/vnd.plotly.v1+json": {
       "config": {
        "plotlyServerURL": "https://plot.ly"
       },
       "data": [
        {
         "fill": "tozeroy",
         "line": {
          "color": "rgb(100,110,250)"
         },
         "name": "적합",
         "text": "0.23346014669602194",
         "type": "scatter",
         "x": [
          0.013605603165889407,
          0.013751001113708706,
          0.013896399061528005,
          0.014041797009347304,
          0.014187194957166603,
          0.014332592904985902,
          0.014477990852805201,
          0.0146233888006245,
          0.014768786748443799,
          0.014914184696263098,
          0.015059582644082397,
          0.015204980591901696,
          0.015350378539720995,
          0.015495776487540294,
          0.015641174435359593,
          0.01578657238317889,
          0.01593197033099819,
          0.016077368278817488,
          0.01622276622663679,
          0.016368164174456086,
          0.016513562122275387,
          0.016658960070094684,
          0.016804358017913985,
          0.016949755965733282,
          0.017095153913552583,
          0.01724055186137188,
          0.01738594980919118,
          0.017531347757010478,
          0.01767674570482978,
          0.017822143652649076,
          0.017967541600468373,
          0.018112939548287674,
          0.018258337496106974,
          0.01840373544392627,
          0.01854913339174557,
          0.01869453133956487,
          0.01883992928738417,
          0.018985327235203468,
          0.019130725183022765,
          0.019276123130842066,
          0.019421521078661366,
          0.019566919026480663,
          0.01971231697429996,
          0.01985771492211926,
          0.02000311286993856,
          0.02014851081775786,
          0.020293908765577157,
          0.020439306713396457,
          0.020584704661215755,
          0.020730102609035055,
          0.020875500556854353,
          0.021020898504673653,
          0.02116629645249295,
          0.02131169440031225,
          0.02145709234813155,
          0.02160249029595085,
          0.021747888243770146,
          0.021893286191589444,
          0.022038684139408744,
          0.022184082087228045,
          0.022329480035047342,
          0.02247487798286664,
          0.02262027593068594,
          0.02276567387850524,
          0.022911071826324538,
          0.023056469774143835,
          0.023201867721963136,
          0.023347265669782437,
          0.023492663617601734,
          0.02363806156542103,
          0.023783459513240332,
          0.023928857461059633,
          0.02407425540887893,
          0.024219653356698227,
          0.024365051304517528,
          0.02451044925233683,
          0.024655847200156126,
          0.024801245147975423,
          0.024946643095794724,
          0.025092041043614025,
          0.025237438991433322,
          0.02538283693925262,
          0.02552823488707192,
          0.025673632834891217,
          0.025819030782710514,
          0.025964428730529815,
          0.026109826678349116,
          0.026255224626168413,
          0.02640062257398771,
          0.02654602052180701,
          0.02669141846962631,
          0.02683681641744561,
          0.026982214365264906,
          0.027127612313084207,
          0.027273010260903507,
          0.027418408208722805,
          0.027563806156542102,
          0.027709204104361403,
          0.027854602052180703,
          0.028
         ],
         "y": [
          0.23163280608591946,
          0.2537428854035232,
          0.27776157642952154,
          0.30383300654453604,
          0.33211020643903977,
          0.3627554805876673,
          0.3959407771255559,
          0.431848055386245,
          0.47066964921186466,
          0.5126086239953216,
          0.5578791252616648,
          0.606706716442859,
          0.6593287033475936,
          0.7159944426768615,
          0.7769656317877317,
          0.8425165767635056,
          0.9129344357094468,
          0.98851943406103,
          1.06958504856758,
          1.15645815649976,
          1.2494791465263981,
          1.349001987615928,
          1.4553942522423697,
          1.5690370901165402,
          1.690325148622205,
          1.8196664361154462,
          1.95748212424598,
          2.1042062854821713,
          2.260285562070128,
          2.4261787627314075,
          2.6023563835067907,
          2.789300049285074,
          2.98750187271843,
          3.197463727420015,
          3.4196964325664303,
          3.6547188462881834,
          3.9030568655260804,
          4.16524233036088,
          4.441811831187863,
          4.73330541750692,
          5.040265207532453,
          5.363233898294744,
          5.702753176404899,
          6.059362030187645,
          6.433594964448697,
          6.8259801197347345,
          7.237037298560436,
          7.667275901718938,
          8.117192778453123,
          8.58726999494539,
          9.07797252627701,
          9.589745877712865,
          10.123013641877689,
          10.678174999102845,
          11.25560216893213,
          11.855637821477638,
          12.478592458005572,
          13.124741770803567,
          13.794323993028092,
          14.487537249849085,
          15.20453692279222,
          15.945433039721925,
          16.710287703404028,
          17.499112572031827,
          18.311866405485343,
          19.148452691417177,
          20.008717365513593,
          20.89244664046127,
          21.799364958254813,
          22.729133080501413,
          23.681346331315464,
          24.65553300724244,
          25.651152968405615,
          26.66759642472896,
          27.704182930652465,
          28.760160601222466,
          29.83470556180748,
          30.926921642960203,
          32.035840331120575,
          33.16042098493363,
          34.29955132594355,
          35.45204821132274,
          36.61665869510828,
          37.79206138315203,
          38.976868085649826,
          40.16962576970616,
          41.36881881292197,
          42.5728715574711,
          43.780151162563456,
          44.988970751591,
          46.197592848624495,
          47.40423309728443,
          48.60706425335986,
          49.80422044090386,
          50.99380165990674,
          52.17387853204699,
          53.34249726945753,
          54.49768484993334,
          55.63745438055547,
          56.75981063032846
         ]
        },
        {
         "fill": "tozeroy",
         "line": {
          "color": "rgb(239,85,59)"
         },
         "name": "부적합",
         "text": "0.23346014669602194",
         "type": "scatter",
         "x": [
          0.028,
          0.028313131313131314,
          0.028626262626262628,
          0.02893939393939394,
          0.029252525252525252,
          0.029565656565656566,
          0.02987878787878788,
          0.030191919191919193,
          0.030505050505050507,
          0.030818181818181817,
          0.03113131313131313,
          0.03144444444444444,
          0.031757575757575755,
          0.03207070707070707,
          0.03238383838383838,
          0.0326969696969697,
          0.03301010101010101,
          0.033323232323232324,
          0.03363636363636364,
          0.03394949494949495,
          0.034262626262626265,
          0.03457575757575758,
          0.034888888888888886,
          0.0352020202020202,
          0.035515151515151513,
          0.03582828282828283,
          0.03614141414141414,
          0.036454545454545455,
          0.03676767676767677,
          0.03708080808080808,
          0.037393939393939396,
          0.0377070707070707,
          0.038020202020202024,
          0.03833333333333333,
          0.038646464646464644,
          0.03895959595959596,
          0.03927272727272727,
          0.039585858585858585,
          0.0398989898989899,
          0.04021212121212121,
          0.04052525252525253,
          0.04083838383838384,
          0.04115151515151515,
          0.04146464646464647,
          0.041777777777777775,
          0.04209090909090909,
          0.0424040404040404,
          0.042717171717171716,
          0.04303030303030303,
          0.043343434343434344,
          0.04365656565656566,
          0.043969696969696964,
          0.044282828282828285,
          0.04459595959595959,
          0.04490909090909091,
          0.04522222222222222,
          0.04553535353535354,
          0.04584848484848485,
          0.04616161616161616,
          0.046474747474747474,
          0.04678787878787879,
          0.0471010101010101,
          0.04741414141414141,
          0.04772727272727273,
          0.048040404040404036,
          0.04835353535353536,
          0.048666666666666664,
          0.04897979797979798,
          0.04929292929292929,
          0.049606060606060605,
          0.04991919191919192,
          0.05023232323232323,
          0.050545454545454546,
          0.05085858585858585,
          0.051171717171717174,
          0.05148484848484848,
          0.0517979797979798,
          0.05211111111111111,
          0.05242424242424242,
          0.052737373737373736,
          0.05305050505050505,
          0.05336363636363636,
          0.05367676767676768,
          0.05398989898989899,
          0.0543030303030303,
          0.05461616161616162,
          0.054929292929292925,
          0.055242424242424246,
          0.05555555555555555,
          0.055868686868686866,
          0.05618181818181818,
          0.056494949494949494,
          0.05680808080808081,
          0.05712121212121212,
          0.057434343434343435,
          0.05774747474747474,
          0.05806060606060606,
          0.05837373737373737,
          0.05868686868686869,
          0.059
         ],
         "y": [
          56.75981063032846,
          59.10841316963048,
          61.34713732012705,
          63.45647479195396,
          65.41754187170982,
          67.21235908192479,
          68.8241245228445,
          70.2374751110579,
          71.43873004947167,
          72.41611114045446,
          73.1599349842071,
          73.66277267783136,
          73.91957333240023,
          73.92774853621476,
          73.68721578906407,
          73.20039988825661,
          72.47219223385926,
          71.50986900823129,
          70.32297014380347,
          68.92314189441745,
          67.32394664280442,
          65.54064428641138,
          63.58995012613503,
          61.489774622509174,
          59.25895067144554,
          56.91695418195817,
          54.483623711948596,
          51.97888474077799,
          49.422483839481565,
          46.833737555809364,
          44.23130028007337,
          41.6329547200596,
          39.055427911908176,
          36.51423495271374,
          34.02355188354057,
          31.596118401677607,
          29.24317035976199,
          26.974401336133603,
          24.797951951875646,
          22.720425078693868,
          20.746924637879356,
          18.88111534033535,
          17.125300463776682,
          15.480514605163656,
          13.946628280616517,
          12.522461265231467,
          11.20590166296601,
          9.994027861947233,
          8.88323075189292,
          7.869333845842511,
          6.947709245924187,
          6.1133877105380705,
          5.361161406865809,
          4.685678257740681,
          4.081527106560958,
          3.5433132204270064,
          3.065723923836571,
          2.643584398424219,
          2.2719038952052073,
          1.9459127828316407,
          1.6610909980213988,
          1.4131885732526188,
          1.1982389936557036,
          1.0125661821800613,
          0.8527859325412216,
          0.7158026065349542,
          0.5988018896306373,
          0.4992403599810695,
          0.4148325746994564,
          0.34353631686313707,
          0.28353658035076185,
          0.23322880011710237,
          0.1912017653003657,
          0.1562205836931857,
          0.1272100002496565,
          0.10323831072578069,
          0.08350205518134042,
          0.0673116255058584,
          0.05407787668256955,
          0.04329979324215689,
          0.03455323015161241,
          0.02748072094473501,
          0.0217823248228045,
          0.017207468248839425,
          0.013547724689033919,
          0.010630468061267783,
          0.008313330574857097,
          0.006479393449051951,
          0.005033038974238389,
          0.0038963940659434023,
          0.0030062984428750866,
          0.002311734473303545,
          0.0017716602683452765,
          0.001353192496169651,
          0.001030090435724918,
          0.000781497814127139,
          0.0005909038495281668,
          0.00044528955661754597,
          0.0003344296998305457,
          0.00025032475926428795
         ]
        }
       ],
       "layout": {
        "annotations": [
         {
          "bordercolor": "rgb(100,110,250)",
          "borderwidth": 2,
          "font": {
           "color": "rgb(100,110,250)",
           "size": 15
          },
          "showarrow": false,
          "text": "0.233",
          "x": 0.028,
          "xshift": -40,
          "y": 56.75981063032846,
          "yshift": -100
         },
         {
          "bordercolor": "rgb(239,85,59)",
          "borderwidth": 2,
          "font": {
           "color": "rgb(239,85,59)",
           "size": 15
          },
          "showarrow": false,
          "text": "0.767",
          "x": 0.028,
          "xshift": 40,
          "y": 56.75981063032846,
          "yshift": -100
         }
        ],
        "template": {
         "data": {
          "bar": [
           {
            "error_x": {
             "color": "#2a3f5f"
            },
            "error_y": {
             "color": "#2a3f5f"
            },
            "marker": {
             "line": {
              "color": "#E5ECF6",
              "width": 0.5
             },
             "pattern": {
              "fillmode": "overlay",
              "size": 10,
              "solidity": 0.2
             }
            },
            "type": "bar"
           }
          ],
          "barpolar": [
           {
            "marker": {
             "line": {
              "color": "#E5ECF6",
              "width": 0.5
             },
             "pattern": {
              "fillmode": "overlay",
              "size": 10,
              "solidity": 0.2
             }
            },
            "type": "barpolar"
           }
          ],
          "carpet": [
           {
            "aaxis": {
             "endlinecolor": "#2a3f5f",
             "gridcolor": "white",
             "linecolor": "white",
             "minorgridcolor": "white",
             "startlinecolor": "#2a3f5f"
            },
            "baxis": {
             "endlinecolor": "#2a3f5f",
             "gridcolor": "white",
             "linecolor": "white",
             "minorgridcolor": "white",
             "startlinecolor": "#2a3f5f"
            },
            "type": "carpet"
           }
          ],
          "choropleth": [
           {
            "colorbar": {
             "outlinewidth": 0,
             "ticks": ""
            },
            "type": "choropleth"
           }
          ],
          "contour": [
           {
            "colorbar": {
             "outlinewidth": 0,
             "ticks": ""
            },
            "colorscale": [
             [
              0,
              "#0d0887"
             ],
             [
              0.1111111111111111,
              "#46039f"
             ],
             [
              0.2222222222222222,
              "#7201a8"
             ],
             [
              0.3333333333333333,
              "#9c179e"
             ],
             [
              0.4444444444444444,
              "#bd3786"
             ],
             [
              0.5555555555555556,
              "#d8576b"
             ],
             [
              0.6666666666666666,
              "#ed7953"
             ],
             [
              0.7777777777777778,
              "#fb9f3a"
             ],
             [
              0.8888888888888888,
              "#fdca26"
             ],
             [
              1,
              "#f0f921"
             ]
            ],
            "type": "contour"
           }
          ],
          "contourcarpet": [
           {
            "colorbar": {
             "outlinewidth": 0,
             "ticks": ""
            },
            "type": "contourcarpet"
           }
          ],
          "heatmap": [
           {
            "colorbar": {
             "outlinewidth": 0,
             "ticks": ""
            },
            "colorscale": [
             [
              0,
              "#0d0887"
             ],
             [
              0.1111111111111111,
              "#46039f"
             ],
             [
              0.2222222222222222,
              "#7201a8"
             ],
             [
              0.3333333333333333,
              "#9c179e"
             ],
             [
              0.4444444444444444,
              "#bd3786"
             ],
             [
              0.5555555555555556,
              "#d8576b"
             ],
             [
              0.6666666666666666,
              "#ed7953"
             ],
             [
              0.7777777777777778,
              "#fb9f3a"
             ],
             [
              0.8888888888888888,
              "#fdca26"
             ],
             [
              1,
              "#f0f921"
             ]
            ],
            "type": "heatmap"
           }
          ],
          "heatmapgl": [
           {
            "colorbar": {
             "outlinewidth": 0,
             "ticks": ""
            },
            "colorscale": [
             [
              0,
              "#0d0887"
             ],
             [
              0.1111111111111111,
              "#46039f"
             ],
             [
              0.2222222222222222,
              "#7201a8"
             ],
             [
              0.3333333333333333,
              "#9c179e"
             ],
             [
              0.4444444444444444,
              "#bd3786"
             ],
             [
              0.5555555555555556,
              "#d8576b"
             ],
             [
              0.6666666666666666,
              "#ed7953"
             ],
             [
              0.7777777777777778,
              "#fb9f3a"
             ],
             [
              0.8888888888888888,
              "#fdca26"
             ],
             [
              1,
              "#f0f921"
             ]
            ],
            "type": "heatmapgl"
           }
          ],
          "histogram": [
           {
            "marker": {
             "pattern": {
              "fillmode": "overlay",
              "size": 10,
              "solidity": 0.2
             }
            },
            "type": "histogram"
           }
          ],
          "histogram2d": [
           {
            "colorbar": {
             "outlinewidth": 0,
             "ticks": ""
            },
            "colorscale": [
             [
              0,
              "#0d0887"
             ],
             [
              0.1111111111111111,
              "#46039f"
             ],
             [
              0.2222222222222222,
              "#7201a8"
             ],
             [
              0.3333333333333333,
              "#9c179e"
             ],
             [
              0.4444444444444444,
              "#bd3786"
             ],
             [
              0.5555555555555556,
              "#d8576b"
             ],
             [
              0.6666666666666666,
              "#ed7953"
             ],
             [
              0.7777777777777778,
              "#fb9f3a"
             ],
             [
              0.8888888888888888,
              "#fdca26"
             ],
             [
              1,
              "#f0f921"
             ]
            ],
            "type": "histogram2d"
           }
          ],
          "histogram2dcontour": [
           {
            "colorbar": {
             "outlinewidth": 0,
             "ticks": ""
            },
            "colorscale": [
             [
              0,
              "#0d0887"
             ],
             [
              0.1111111111111111,
              "#46039f"
             ],
             [
              0.2222222222222222,
              "#7201a8"
             ],
             [
              0.3333333333333333,
              "#9c179e"
             ],
             [
              0.4444444444444444,
              "#bd3786"
             ],
             [
              0.5555555555555556,
              "#d8576b"
             ],
             [
              0.6666666666666666,
              "#ed7953"
             ],
             [
              0.7777777777777778,
              "#fb9f3a"
             ],
             [
              0.8888888888888888,
              "#fdca26"
             ],
             [
              1,
              "#f0f921"
             ]
            ],
            "type": "histogram2dcontour"
           }
          ],
          "mesh3d": [
           {
            "colorbar": {
             "outlinewidth": 0,
             "ticks": ""
            },
            "type": "mesh3d"
           }
          ],
          "parcoords": [
           {
            "line": {
             "colorbar": {
              "outlinewidth": 0,
              "ticks": ""
             }
            },
            "type": "parcoords"
           }
          ],
          "pie": [
           {
            "automargin": true,
            "type": "pie"
           }
          ],
          "scatter": [
           {
            "marker": {
             "colorbar": {
              "outlinewidth": 0,
              "ticks": ""
             }
            },
            "type": "scatter"
           }
          ],
          "scatter3d": [
           {
            "line": {
             "colorbar": {
              "outlinewidth": 0,
              "ticks": ""
             }
            },
            "marker": {
             "colorbar": {
              "outlinewidth": 0,
              "ticks": ""
             }
            },
            "type": "scatter3d"
           }
          ],
          "scattercarpet": [
           {
            "marker": {
             "colorbar": {
              "outlinewidth": 0,
              "ticks": ""
             }
            },
            "type": "scattercarpet"
           }
          ],
          "scattergeo": [
           {
            "marker": {
             "colorbar": {
              "outlinewidth": 0,
              "ticks": ""
             }
            },
            "type": "scattergeo"
           }
          ],
          "scattergl": [
           {
            "marker": {
             "colorbar": {
              "outlinewidth": 0,
              "ticks": ""
             }
            },
            "type": "scattergl"
           }
          ],
          "scattermapbox": [
           {
            "marker": {
             "colorbar": {
              "outlinewidth": 0,
              "ticks": ""
             }
            },
            "type": "scattermapbox"
           }
          ],
          "scatterpolar": [
           {
            "marker": {
             "colorbar": {
              "outlinewidth": 0,
              "ticks": ""
             }
            },
            "type": "scatterpolar"
           }
          ],
          "scatterpolargl": [
           {
            "marker": {
             "colorbar": {
              "outlinewidth": 0,
              "ticks": ""
             }
            },
            "type": "scatterpolargl"
           }
          ],
          "scatterternary": [
           {
            "marker": {
             "colorbar": {
              "outlinewidth": 0,
              "ticks": ""
             }
            },
            "type": "scatterternary"
           }
          ],
          "surface": [
           {
            "colorbar": {
             "outlinewidth": 0,
             "ticks": ""
            },
            "colorscale": [
             [
              0,
              "#0d0887"
             ],
             [
              0.1111111111111111,
              "#46039f"
             ],
             [
              0.2222222222222222,
              "#7201a8"
             ],
             [
              0.3333333333333333,
              "#9c179e"
             ],
             [
              0.4444444444444444,
              "#bd3786"
             ],
             [
              0.5555555555555556,
              "#d8576b"
             ],
             [
              0.6666666666666666,
              "#ed7953"
             ],
             [
              0.7777777777777778,
              "#fb9f3a"
             ],
             [
              0.8888888888888888,
              "#fdca26"
             ],
             [
              1,
              "#f0f921"
             ]
            ],
            "type": "surface"
           }
          ],
          "table": [
           {
            "cells": {
             "fill": {
              "color": "#EBF0F8"
             },
             "line": {
              "color": "white"
             }
            },
            "header": {
             "fill": {
              "color": "#C8D4E3"
             },
             "line": {
              "color": "white"
             }
            },
            "type": "table"
           }
          ]
         },
         "layout": {
          "annotationdefaults": {
           "arrowcolor": "#2a3f5f",
           "arrowhead": 0,
           "arrowwidth": 1
          },
          "autotypenumbers": "strict",
          "coloraxis": {
           "colorbar": {
            "outlinewidth": 0,
            "ticks": ""
           }
          },
          "colorscale": {
           "diverging": [
            [
             0,
             "#8e0152"
            ],
            [
             0.1,
             "#c51b7d"
            ],
            [
             0.2,
             "#de77ae"
            ],
            [
             0.3,
             "#f1b6da"
            ],
            [
             0.4,
             "#fde0ef"
            ],
            [
             0.5,
             "#f7f7f7"
            ],
            [
             0.6,
             "#e6f5d0"
            ],
            [
             0.7,
             "#b8e186"
            ],
            [
             0.8,
             "#7fbc41"
            ],
            [
             0.9,
             "#4d9221"
            ],
            [
             1,
             "#276419"
            ]
           ],
           "sequential": [
            [
             0,
             "#0d0887"
            ],
            [
             0.1111111111111111,
             "#46039f"
            ],
            [
             0.2222222222222222,
             "#7201a8"
            ],
            [
             0.3333333333333333,
             "#9c179e"
            ],
            [
             0.4444444444444444,
             "#bd3786"
            ],
            [
             0.5555555555555556,
             "#d8576b"
            ],
            [
             0.6666666666666666,
             "#ed7953"
            ],
            [
             0.7777777777777778,
             "#fb9f3a"
            ],
            [
             0.8888888888888888,
             "#fdca26"
            ],
            [
             1,
             "#f0f921"
            ]
           ],
           "sequentialminus": [
            [
             0,
             "#0d0887"
            ],
            [
             0.1111111111111111,
             "#46039f"
            ],
            [
             0.2222222222222222,
             "#7201a8"
            ],
            [
             0.3333333333333333,
             "#9c179e"
            ],
            [
             0.4444444444444444,
             "#bd3786"
            ],
            [
             0.5555555555555556,
             "#d8576b"
            ],
            [
             0.6666666666666666,
             "#ed7953"
            ],
            [
             0.7777777777777778,
             "#fb9f3a"
            ],
            [
             0.8888888888888888,
             "#fdca26"
            ],
            [
             1,
             "#f0f921"
            ]
           ]
          },
          "colorway": [
           "#636efa",
           "#EF553B",
           "#00cc96",
           "#ab63fa",
           "#FFA15A",
           "#19d3f3",
           "#FF6692",
           "#B6E880",
           "#FF97FF",
           "#FECB52"
          ],
          "font": {
           "color": "#2a3f5f"
          },
          "geo": {
           "bgcolor": "white",
           "lakecolor": "white",
           "landcolor": "#E5ECF6",
           "showlakes": true,
           "showland": true,
           "subunitcolor": "white"
          },
          "hoverlabel": {
           "align": "left"
          },
          "hovermode": "closest",
          "mapbox": {
           "style": "light"
          },
          "paper_bgcolor": "white",
          "plot_bgcolor": "#E5ECF6",
          "polar": {
           "angularaxis": {
            "gridcolor": "white",
            "linecolor": "white",
            "ticks": ""
           },
           "bgcolor": "#E5ECF6",
           "radialaxis": {
            "gridcolor": "white",
            "linecolor": "white",
            "ticks": ""
           }
          },
          "scene": {
           "xaxis": {
            "backgroundcolor": "#E5ECF6",
            "gridcolor": "white",
            "gridwidth": 2,
            "linecolor": "white",
            "showbackground": true,
            "ticks": "",
            "zerolinecolor": "white"
           },
           "yaxis": {
            "backgroundcolor": "#E5ECF6",
            "gridcolor": "white",
            "gridwidth": 2,
            "linecolor": "white",
            "showbackground": true,
            "ticks": "",
            "zerolinecolor": "white"
           },
           "zaxis": {
            "backgroundcolor": "#E5ECF6",
            "gridcolor": "white",
            "gridwidth": 2,
            "linecolor": "white",
            "showbackground": true,
            "ticks": "",
            "zerolinecolor": "white"
           }
          },
          "shapedefaults": {
           "line": {
            "color": "#2a3f5f"
           }
          },
          "ternary": {
           "aaxis": {
            "gridcolor": "white",
            "linecolor": "white",
            "ticks": ""
           },
           "baxis": {
            "gridcolor": "white",
            "linecolor": "white",
            "ticks": ""
           },
           "bgcolor": "#E5ECF6",
           "caxis": {
            "gridcolor": "white",
            "linecolor": "white",
            "ticks": ""
           }
          },
          "title": {
           "x": 0.05
          },
          "xaxis": {
           "automargin": true,
           "gridcolor": "white",
           "linecolor": "white",
           "ticks": "",
           "title": {
            "standoff": 15
           },
           "zerolinecolor": "white",
           "zerolinewidth": 2
          },
          "yaxis": {
           "automargin": true,
           "gridcolor": "white",
           "linecolor": "white",
           "ticks": "",
           "title": {
            "standoff": 15
           },
           "zerolinecolor": "white",
           "zerolinewidth": 2
          }
         }
        }
       }
      }
     },
     "metadata": {},
     "output_type": "display_data"
    },
    {
     "data": {
      "text/plain": [
       "0.23346014669602194"
      ]
     },
     "execution_count": 415,
     "metadata": {},
     "output_type": "execute_result"
    }
   ],
   "source": [
    "busan_oz = df_ozone[df_ozone['구분(2)']=='부산광역시'].loc[2,'2021.07']\n",
    "ozone_pro = cal_norm(mean,std,min,max,busan_oz)\n",
    "ozone_pro"
   ]
  },
  {
   "cell_type": "markdown",
   "metadata": {
    "collapsed": false
   },
   "source": [
    "### 아황산가스 월별 데이터 불러오기"
   ]
  },
  {
   "cell_type": "code",
   "execution_count": 416,
   "metadata": {
    "collapsed": false,
    "pycharm": {
     "name": "#%%\n"
    }
   },
   "outputs": [
    {
     "data": {
      "text/html": [
       "<div>\n",
       "<style scoped>\n",
       "    .dataframe tbody tr th:only-of-type {\n",
       "        vertical-align: middle;\n",
       "    }\n",
       "\n",
       "    .dataframe tbody tr th {\n",
       "        vertical-align: top;\n",
       "    }\n",
       "\n",
       "    .dataframe thead th {\n",
       "        text-align: right;\n",
       "    }\n",
       "</style>\n",
       "<table border=\"1\" class=\"dataframe\">\n",
       "  <thead>\n",
       "    <tr style=\"text-align: right;\">\n",
       "      <th></th>\n",
       "      <th>구분(1)</th>\n",
       "      <th>구분(2)</th>\n",
       "      <th>2021.02</th>\n",
       "      <th>2021.03</th>\n",
       "      <th>2021.04</th>\n",
       "      <th>2021.05</th>\n",
       "      <th>2021.06</th>\n",
       "      <th>2021.07</th>\n",
       "    </tr>\n",
       "  </thead>\n",
       "  <tbody>\n",
       "    <tr>\n",
       "      <th>0</th>\n",
       "      <td>총계</td>\n",
       "      <td>소계</td>\n",
       "      <td>0.003</td>\n",
       "      <td>0.003</td>\n",
       "      <td>0.003</td>\n",
       "      <td>0.003</td>\n",
       "      <td>0.003</td>\n",
       "      <td>0.003</td>\n",
       "    </tr>\n",
       "    <tr>\n",
       "      <th>1</th>\n",
       "      <td>서울특별시</td>\n",
       "      <td>서울특별시</td>\n",
       "      <td>0.003</td>\n",
       "      <td>0.003</td>\n",
       "      <td>0.003</td>\n",
       "      <td>0.003</td>\n",
       "      <td>0.003</td>\n",
       "      <td>0.003</td>\n",
       "    </tr>\n",
       "    <tr>\n",
       "      <th>2</th>\n",
       "      <td>부산광역시</td>\n",
       "      <td>부산광역시</td>\n",
       "      <td>0.004</td>\n",
       "      <td>0.003</td>\n",
       "      <td>0.003</td>\n",
       "      <td>0.002</td>\n",
       "      <td>0.003</td>\n",
       "      <td>0.003</td>\n",
       "    </tr>\n",
       "    <tr>\n",
       "      <th>3</th>\n",
       "      <td>대구광역시</td>\n",
       "      <td>대구광역시</td>\n",
       "      <td>0.002</td>\n",
       "      <td>0.002</td>\n",
       "      <td>0.002</td>\n",
       "      <td>0.002</td>\n",
       "      <td>0.002</td>\n",
       "      <td>0.002</td>\n",
       "    </tr>\n",
       "    <tr>\n",
       "      <th>4</th>\n",
       "      <td>인천광역시</td>\n",
       "      <td>인천광역시</td>\n",
       "      <td>0.004</td>\n",
       "      <td>0.003</td>\n",
       "      <td>0.003</td>\n",
       "      <td>0.003</td>\n",
       "      <td>0.003</td>\n",
       "      <td>0.003</td>\n",
       "    </tr>\n",
       "    <tr>\n",
       "      <th>...</th>\n",
       "      <td>...</td>\n",
       "      <td>...</td>\n",
       "      <td>...</td>\n",
       "      <td>...</td>\n",
       "      <td>...</td>\n",
       "      <td>...</td>\n",
       "      <td>...</td>\n",
       "      <td>...</td>\n",
       "    </tr>\n",
       "    <tr>\n",
       "      <th>167</th>\n",
       "      <td>경상남도</td>\n",
       "      <td>합천</td>\n",
       "      <td>0.003</td>\n",
       "      <td>0.003</td>\n",
       "      <td>0.003</td>\n",
       "      <td>0.003</td>\n",
       "      <td>0.003</td>\n",
       "      <td>0.003**</td>\n",
       "    </tr>\n",
       "    <tr>\n",
       "      <th>168</th>\n",
       "      <td>경상남도</td>\n",
       "      <td>도평균</td>\n",
       "      <td>0.003</td>\n",
       "      <td>0.003</td>\n",
       "      <td>0.003</td>\n",
       "      <td>0.003</td>\n",
       "      <td>0.003</td>\n",
       "      <td>0.003</td>\n",
       "    </tr>\n",
       "    <tr>\n",
       "      <th>169</th>\n",
       "      <td>제주특별자치도</td>\n",
       "      <td>제주특별자치도</td>\n",
       "      <td>0.002</td>\n",
       "      <td>0.001</td>\n",
       "      <td>0.002</td>\n",
       "      <td>0.002</td>\n",
       "      <td>0.002</td>\n",
       "      <td>0.002</td>\n",
       "    </tr>\n",
       "    <tr>\n",
       "      <th>170</th>\n",
       "      <td>제주특별자치도</td>\n",
       "      <td>서귀포</td>\n",
       "      <td>0.001</td>\n",
       "      <td>0.001</td>\n",
       "      <td>0.001</td>\n",
       "      <td>0.001</td>\n",
       "      <td>0.001</td>\n",
       "      <td>0.001</td>\n",
       "    </tr>\n",
       "    <tr>\n",
       "      <th>171</th>\n",
       "      <td>제주특별자치도</td>\n",
       "      <td>도평균</td>\n",
       "      <td>0.002</td>\n",
       "      <td>0.001</td>\n",
       "      <td>0.002</td>\n",
       "      <td>0.001</td>\n",
       "      <td>0.001</td>\n",
       "      <td>0.001</td>\n",
       "    </tr>\n",
       "  </tbody>\n",
       "</table>\n",
       "<p>172 rows × 8 columns</p>\n",
       "</div>"
      ],
      "text/plain": [
       "       구분(1)    구분(2) 2021.02 2021.03 2021.04 2021.05 2021.06  2021.07\n",
       "0         총계       소계   0.003   0.003   0.003   0.003   0.003    0.003\n",
       "1      서울특별시    서울특별시   0.003   0.003   0.003   0.003   0.003    0.003\n",
       "2      부산광역시    부산광역시   0.004   0.003   0.003   0.002   0.003    0.003\n",
       "3      대구광역시    대구광역시   0.002   0.002   0.002   0.002   0.002    0.002\n",
       "4      인천광역시    인천광역시   0.004   0.003   0.003   0.003   0.003    0.003\n",
       "..       ...      ...     ...     ...     ...     ...     ...      ...\n",
       "167     경상남도       합천   0.003   0.003   0.003   0.003   0.003  0.003**\n",
       "168     경상남도      도평균   0.003   0.003   0.003   0.003   0.003    0.003\n",
       "169  제주특별자치도  제주특별자치도   0.002   0.001   0.002   0.002   0.002    0.002\n",
       "170  제주특별자치도      서귀포   0.001   0.001   0.001   0.001   0.001    0.001\n",
       "171  제주특별자치도      도평균   0.002   0.001   0.002   0.001   0.001    0.001\n",
       "\n",
       "[172 rows x 8 columns]"
      ]
     },
     "execution_count": 416,
     "metadata": {},
     "output_type": "execute_result"
    }
   ],
   "source": [
    "so2_file_path = 'C:\\\\Users\\\\SAMSUNG\\\\Desktop\\\\Green-Car-Charging-Station-Site-Selection\\\\Data\\\\아황산가스_월별_도시별_대기오염도.csv'\n",
    "df_so2 = pd.read_csv(so2_file_path, encoding='cp949')\n",
    "df_so2"
   ]
  },
  {
   "cell_type": "code",
   "execution_count": 417,
   "metadata": {
    "collapsed": false,
    "pycharm": {
     "name": "#%%\n"
    }
   },
   "outputs": [
    {
     "name": "stdout",
     "output_type": "stream",
     "text": [
      "<class 'pandas.core.frame.DataFrame'>\n",
      "RangeIndex: 172 entries, 0 to 171\n",
      "Data columns (total 8 columns):\n",
      " #   Column   Non-Null Count  Dtype \n",
      "---  ------   --------------  ----- \n",
      " 0   구분(1)    172 non-null    object\n",
      " 1   구분(2)    172 non-null    object\n",
      " 2   2021.02  172 non-null    object\n",
      " 3   2021.03  172 non-null    object\n",
      " 4   2021.04  172 non-null    object\n",
      " 5   2021.05  172 non-null    object\n",
      " 6   2021.06  172 non-null    object\n",
      " 7   2021.07  172 non-null    object\n",
      "dtypes: object(8)\n",
      "memory usage: 10.9+ KB\n"
     ]
    }
   ],
   "source": [
    "df_so2.info()"
   ]
  },
  {
   "cell_type": "code",
   "execution_count": 418,
   "metadata": {
    "collapsed": false,
    "pycharm": {
     "name": "#%%\n"
    }
   },
   "outputs": [],
   "source": [
    "so2_col = df_so2.iloc[:,2:-1].columns.tolist()"
   ]
  },
  {
   "cell_type": "code",
   "execution_count": 419,
   "metadata": {
    "collapsed": false,
    "pycharm": {
     "name": "#%%\n"
    }
   },
   "outputs": [
    {
     "data": {
      "text/html": [
       "<div>\n",
       "<style scoped>\n",
       "    .dataframe tbody tr th:only-of-type {\n",
       "        vertical-align: middle;\n",
       "    }\n",
       "\n",
       "    .dataframe tbody tr th {\n",
       "        vertical-align: top;\n",
       "    }\n",
       "\n",
       "    .dataframe thead th {\n",
       "        text-align: right;\n",
       "    }\n",
       "</style>\n",
       "<table border=\"1\" class=\"dataframe\">\n",
       "  <thead>\n",
       "    <tr style=\"text-align: right;\">\n",
       "      <th></th>\n",
       "      <th>구분(1)</th>\n",
       "      <th>구분(2)</th>\n",
       "      <th>2021.07</th>\n",
       "    </tr>\n",
       "  </thead>\n",
       "  <tbody>\n",
       "    <tr>\n",
       "      <th>0</th>\n",
       "      <td>총계</td>\n",
       "      <td>소계</td>\n",
       "      <td>0.003</td>\n",
       "    </tr>\n",
       "    <tr>\n",
       "      <th>1</th>\n",
       "      <td>서울특별시</td>\n",
       "      <td>서울특별시</td>\n",
       "      <td>0.003</td>\n",
       "    </tr>\n",
       "    <tr>\n",
       "      <th>2</th>\n",
       "      <td>부산광역시</td>\n",
       "      <td>부산광역시</td>\n",
       "      <td>0.003</td>\n",
       "    </tr>\n",
       "    <tr>\n",
       "      <th>3</th>\n",
       "      <td>대구광역시</td>\n",
       "      <td>대구광역시</td>\n",
       "      <td>0.002</td>\n",
       "    </tr>\n",
       "    <tr>\n",
       "      <th>4</th>\n",
       "      <td>인천광역시</td>\n",
       "      <td>인천광역시</td>\n",
       "      <td>0.003</td>\n",
       "    </tr>\n",
       "    <tr>\n",
       "      <th>...</th>\n",
       "      <td>...</td>\n",
       "      <td>...</td>\n",
       "      <td>...</td>\n",
       "    </tr>\n",
       "    <tr>\n",
       "      <th>167</th>\n",
       "      <td>경상남도</td>\n",
       "      <td>합천</td>\n",
       "      <td>0.003**</td>\n",
       "    </tr>\n",
       "    <tr>\n",
       "      <th>168</th>\n",
       "      <td>경상남도</td>\n",
       "      <td>도평균</td>\n",
       "      <td>0.003</td>\n",
       "    </tr>\n",
       "    <tr>\n",
       "      <th>169</th>\n",
       "      <td>제주특별자치도</td>\n",
       "      <td>제주특별자치도</td>\n",
       "      <td>0.002</td>\n",
       "    </tr>\n",
       "    <tr>\n",
       "      <th>170</th>\n",
       "      <td>제주특별자치도</td>\n",
       "      <td>서귀포</td>\n",
       "      <td>0.001</td>\n",
       "    </tr>\n",
       "    <tr>\n",
       "      <th>171</th>\n",
       "      <td>제주특별자치도</td>\n",
       "      <td>도평균</td>\n",
       "      <td>0.001</td>\n",
       "    </tr>\n",
       "  </tbody>\n",
       "</table>\n",
       "<p>172 rows × 3 columns</p>\n",
       "</div>"
      ],
      "text/plain": [
       "       구분(1)    구분(2)  2021.07\n",
       "0         총계       소계    0.003\n",
       "1      서울특별시    서울특별시    0.003\n",
       "2      부산광역시    부산광역시    0.003\n",
       "3      대구광역시    대구광역시    0.002\n",
       "4      인천광역시    인천광역시    0.003\n",
       "..       ...      ...      ...\n",
       "167     경상남도       합천  0.003**\n",
       "168     경상남도      도평균    0.003\n",
       "169  제주특별자치도  제주특별자치도    0.002\n",
       "170  제주특별자치도      서귀포    0.001\n",
       "171  제주특별자치도      도평균    0.001\n",
       "\n",
       "[172 rows x 3 columns]"
      ]
     },
     "execution_count": 419,
     "metadata": {},
     "output_type": "execute_result"
    }
   ],
   "source": [
    "df_so2.drop(columns=so2_col, inplace=True)\n",
    "df_so2"
   ]
  },
  {
   "cell_type": "code",
   "execution_count": 420,
   "metadata": {
    "collapsed": false,
    "pycharm": {
     "name": "#%%\n"
    }
   },
   "outputs": [],
   "source": [
    "advanced_replace(df_so2,'2021.07','-',r'[^0-9.0-9]')\n",
    "df_so2['2021.07'] = df_so2['2021.07'].astype(float)"
   ]
  },
  {
   "cell_type": "code",
   "execution_count": 421,
   "metadata": {
    "collapsed": false,
    "pycharm": {
     "name": "#%%\n"
    }
   },
   "outputs": [
    {
     "name": "stdout",
     "output_type": "stream",
     "text": [
      "<class 'pandas.core.frame.DataFrame'>\n",
      "RangeIndex: 172 entries, 0 to 171\n",
      "Data columns (total 3 columns):\n",
      " #   Column   Non-Null Count  Dtype  \n",
      "---  ------   --------------  -----  \n",
      " 0   구분(1)    172 non-null    object \n",
      " 1   구분(2)    172 non-null    object \n",
      " 2   2021.07  172 non-null    float64\n",
      "dtypes: float64(1), object(2)\n",
      "memory usage: 4.2+ KB\n"
     ]
    }
   ],
   "source": [
    "df_so2.info()"
   ]
  },
  {
   "cell_type": "code",
   "execution_count": 422,
   "metadata": {
    "collapsed": false,
    "pycharm": {
     "name": "#%%\n"
    }
   },
   "outputs": [
    {
     "data": {
      "text/html": [
       "<div>\n",
       "<style scoped>\n",
       "    .dataframe tbody tr th:only-of-type {\n",
       "        vertical-align: middle;\n",
       "    }\n",
       "\n",
       "    .dataframe tbody tr th {\n",
       "        vertical-align: top;\n",
       "    }\n",
       "\n",
       "    .dataframe thead th {\n",
       "        text-align: right;\n",
       "    }\n",
       "</style>\n",
       "<table border=\"1\" class=\"dataframe\">\n",
       "  <thead>\n",
       "    <tr style=\"text-align: right;\">\n",
       "      <th></th>\n",
       "      <th>2021.07</th>\n",
       "    </tr>\n",
       "  </thead>\n",
       "  <tbody>\n",
       "    <tr>\n",
       "      <th>count</th>\n",
       "      <td>172.000000</td>\n",
       "    </tr>\n",
       "    <tr>\n",
       "      <th>mean</th>\n",
       "      <td>0.002674</td>\n",
       "    </tr>\n",
       "    <tr>\n",
       "      <th>std</th>\n",
       "      <td>0.000764</td>\n",
       "    </tr>\n",
       "    <tr>\n",
       "      <th>min</th>\n",
       "      <td>0.001000</td>\n",
       "    </tr>\n",
       "    <tr>\n",
       "      <th>25%</th>\n",
       "      <td>0.002000</td>\n",
       "    </tr>\n",
       "    <tr>\n",
       "      <th>50%</th>\n",
       "      <td>0.003000</td>\n",
       "    </tr>\n",
       "    <tr>\n",
       "      <th>75%</th>\n",
       "      <td>0.003000</td>\n",
       "    </tr>\n",
       "    <tr>\n",
       "      <th>max</th>\n",
       "      <td>0.005000</td>\n",
       "    </tr>\n",
       "  </tbody>\n",
       "</table>\n",
       "</div>"
      ],
      "text/plain": [
       "          2021.07\n",
       "count  172.000000\n",
       "mean     0.002674\n",
       "std      0.000764\n",
       "min      0.001000\n",
       "25%      0.002000\n",
       "50%      0.003000\n",
       "75%      0.003000\n",
       "max      0.005000"
      ]
     },
     "execution_count": 422,
     "metadata": {},
     "output_type": "execute_result"
    }
   ],
   "source": [
    "df_so2.describe()"
   ]
  },
  {
   "cell_type": "code",
   "execution_count": 423,
   "metadata": {},
   "outputs": [
    {
     "data": {
      "application/vnd.plotly.v1+json": {
       "config": {
        "plotlyServerURL": "https://plot.ly"
       },
       "data": [
        {
         "hovertemplate": "x=%{x}<br>y=%{y}<extra></extra>",
         "legendgroup": "",
         "line": {
          "color": "#636efa",
          "dash": "solid"
         },
         "mode": "lines",
         "name": "",
         "orientation": "v",
         "showlegend": false,
         "type": "scatter",
         "x": [
          0.00023617061295251303,
          0.00028429010171056844,
          0.00033240959046862385,
          0.0003805290792266793,
          0.0004286485679847347,
          0.0004767680567427901,
          0.0005248875455008456,
          0.000573007034258901,
          0.0006211265230169564,
          0.0006692460117750118,
          0.0007173655005330672,
          0.0007654849892911226,
          0.0008136044780491781,
          0.0008617239668072336,
          0.000909843455565289,
          0.0009579629443233444,
          0.0010060824330814,
          0.0010542019218394553,
          0.0011023214105975107,
          0.0011504408993555661,
          0.0011985603881136215,
          0.001246679876871677,
          0.0012947993656297323,
          0.0013429188543877878,
          0.0013910383431458432,
          0.0014391578319038986,
          0.001487277320661954,
          0.0015353968094200094,
          0.0015835162981780648,
          0.0016316357869361202,
          0.0016797552756941756,
          0.001727874764452231,
          0.0017759942532102864,
          0.0018241137419683418,
          0.0018722332307263972,
          0.0019203527194844527,
          0.001968472208242508,
          0.0020165916970005635,
          0.002064711185758619,
          0.0021128306745166743,
          0.0021609501632747297,
          0.002209069652032785,
          0.0022571891407908405,
          0.002305308629548896,
          0.0023534281183069513,
          0.0024015476070650067,
          0.002449667095823062,
          0.0024977865845811176,
          0.0025459060733391734,
          0.002594025562097229,
          0.0026421450508552842,
          0.0026902645396133396,
          0.002738384028371395,
          0.0027865035171294504,
          0.002834623005887506,
          0.0028827424946455613,
          0.0029308619834036167,
          0.002978981472161672,
          0.0030271009609197275,
          0.003075220449677783,
          0.0031233399384358383,
          0.0031714594271938937,
          0.003219578915951949,
          0.0032676984047100045,
          0.00331581789346806,
          0.0033639373822261153,
          0.0034120568709841708,
          0.003460176359742226,
          0.0035082958485002816,
          0.003556415337258337,
          0.0036045348260163924,
          0.003652654314774448,
          0.003700773803532503,
          0.0037488932922905586,
          0.003797012781048614,
          0.0038451322698066694,
          0.003893251758564725,
          0.00394137124732278,
          0.003989490736080836,
          0.004037610224838891,
          0.004085729713596947,
          0.004133849202355003,
          0.004181968691113058,
          0.004230088179871114,
          0.0042782076686291685,
          0.004326327157387224,
          0.004374446646145279,
          0.004422566134903335,
          0.00447068562366139,
          0.004518805112419446,
          0.004566924601177501,
          0.004615044089935557,
          0.004663163578693612,
          0.004711283067451668,
          0.004759402556209723,
          0.0048075220449677785,
          0.004855641533725834,
          0.004903761022483889,
          0.004951880511241945,
          0.005
         ],
         "xaxis": "x",
         "y": [
          3.200664671758005,
          3.905834276635241,
          4.747487828394513,
          5.747650064921739,
          6.930956762737038,
          8.324774373254153,
          9.95928510541828,
          11.867528138299916,
          14.085387088278317,
          16.651513526516503,
          19.607176301872236,
          22.996026729527355,
          26.86377040984803,
          31.25773759147431,
          36.226345622850886,
          41.81844916849687,
          48.08257650363838,
          55.06605332577094,
          62.81401909305401,
          71.36834485044331,
          80.76646574208152,
          91.04014581360856,
          102.21419713734765,
          114.30517958226686,
          127.32011151828564,
          141.2552251997018,
          156.09480332128464,
          171.81013509472896,
          188.35863097962698,
          205.6831347736105,
          223.7114700068856,
          242.3562544262523,
          261.5150117729294,
          281.070604093866,
          300.89200057487614,
          320.8353905044205,
          340.7456386871663,
          360.45807169903196,
          379.8005731290488,
          398.5959557422761,
          416.6645686983416,
          433.8270889546953,
          449.9074381449289,
          464.7357598958745,
          478.15138803392045,
          490.0057336729325,
          500.1650189424224,
          508.5127871912804,
          514.9521238857997,
          519.407529014949,
          521.8263904343199,
          522.1800179519123,
          520.4642097387327,
          516.6993354296885,
          510.92993361689463,
          503.2238348557359,
          493.67083432775354,
          482.38095047468227,
          469.4823168125558,
          455.11876338627434,
          439.4471516356962,
          422.6345315979109,
          404.85519323955765,
          386.2876842628057,
          367.1118650148954,
          347.5060672957266,
          327.64441811921773,
          307.69438212469396,
          287.81456768652475,
          268.1528321988191,
          248.84471189839445,
          230.0121913136781,
          211.76281735301265,
          194.18915350527342,
          177.3685609080845,
          161.36328538154612,
          146.22082310746248,
          131.9745325737243,
          118.64445675787228,
          106.23831729179282,
          94.7526414767815,
          84.17398340469494,
          74.48020194896596,
          65.6417608532118,
          57.62301938090346,
          50.38348580407809,
          43.87901020934597,
          38.06289750024797,
          32.886925905672975,
          28.302260613506387,
          24.26025620932361,
          20.7131453097087,
          17.61461406300532,
          14.920267997218211,
          12.587993999971484,
          10.578226015422093,
          8.854123353289422,
          7.3816713566700685,
          6.129714610982479,
          5.0699329475349275
         ],
         "yaxis": "y"
        }
       ],
       "layout": {
        "legend": {
         "tracegroupgap": 0
        },
        "margin": {
         "t": 60
        },
        "template": {
         "data": {
          "bar": [
           {
            "error_x": {
             "color": "#2a3f5f"
            },
            "error_y": {
             "color": "#2a3f5f"
            },
            "marker": {
             "line": {
              "color": "#E5ECF6",
              "width": 0.5
             },
             "pattern": {
              "fillmode": "overlay",
              "size": 10,
              "solidity": 0.2
             }
            },
            "type": "bar"
           }
          ],
          "barpolar": [
           {
            "marker": {
             "line": {
              "color": "#E5ECF6",
              "width": 0.5
             },
             "pattern": {
              "fillmode": "overlay",
              "size": 10,
              "solidity": 0.2
             }
            },
            "type": "barpolar"
           }
          ],
          "carpet": [
           {
            "aaxis": {
             "endlinecolor": "#2a3f5f",
             "gridcolor": "white",
             "linecolor": "white",
             "minorgridcolor": "white",
             "startlinecolor": "#2a3f5f"
            },
            "baxis": {
             "endlinecolor": "#2a3f5f",
             "gridcolor": "white",
             "linecolor": "white",
             "minorgridcolor": "white",
             "startlinecolor": "#2a3f5f"
            },
            "type": "carpet"
           }
          ],
          "choropleth": [
           {
            "colorbar": {
             "outlinewidth": 0,
             "ticks": ""
            },
            "type": "choropleth"
           }
          ],
          "contour": [
           {
            "colorbar": {
             "outlinewidth": 0,
             "ticks": ""
            },
            "colorscale": [
             [
              0,
              "#0d0887"
             ],
             [
              0.1111111111111111,
              "#46039f"
             ],
             [
              0.2222222222222222,
              "#7201a8"
             ],
             [
              0.3333333333333333,
              "#9c179e"
             ],
             [
              0.4444444444444444,
              "#bd3786"
             ],
             [
              0.5555555555555556,
              "#d8576b"
             ],
             [
              0.6666666666666666,
              "#ed7953"
             ],
             [
              0.7777777777777778,
              "#fb9f3a"
             ],
             [
              0.8888888888888888,
              "#fdca26"
             ],
             [
              1,
              "#f0f921"
             ]
            ],
            "type": "contour"
           }
          ],
          "contourcarpet": [
           {
            "colorbar": {
             "outlinewidth": 0,
             "ticks": ""
            },
            "type": "contourcarpet"
           }
          ],
          "heatmap": [
           {
            "colorbar": {
             "outlinewidth": 0,
             "ticks": ""
            },
            "colorscale": [
             [
              0,
              "#0d0887"
             ],
             [
              0.1111111111111111,
              "#46039f"
             ],
             [
              0.2222222222222222,
              "#7201a8"
             ],
             [
              0.3333333333333333,
              "#9c179e"
             ],
             [
              0.4444444444444444,
              "#bd3786"
             ],
             [
              0.5555555555555556,
              "#d8576b"
             ],
             [
              0.6666666666666666,
              "#ed7953"
             ],
             [
              0.7777777777777778,
              "#fb9f3a"
             ],
             [
              0.8888888888888888,
              "#fdca26"
             ],
             [
              1,
              "#f0f921"
             ]
            ],
            "type": "heatmap"
           }
          ],
          "heatmapgl": [
           {
            "colorbar": {
             "outlinewidth": 0,
             "ticks": ""
            },
            "colorscale": [
             [
              0,
              "#0d0887"
             ],
             [
              0.1111111111111111,
              "#46039f"
             ],
             [
              0.2222222222222222,
              "#7201a8"
             ],
             [
              0.3333333333333333,
              "#9c179e"
             ],
             [
              0.4444444444444444,
              "#bd3786"
             ],
             [
              0.5555555555555556,
              "#d8576b"
             ],
             [
              0.6666666666666666,
              "#ed7953"
             ],
             [
              0.7777777777777778,
              "#fb9f3a"
             ],
             [
              0.8888888888888888,
              "#fdca26"
             ],
             [
              1,
              "#f0f921"
             ]
            ],
            "type": "heatmapgl"
           }
          ],
          "histogram": [
           {
            "marker": {
             "pattern": {
              "fillmode": "overlay",
              "size": 10,
              "solidity": 0.2
             }
            },
            "type": "histogram"
           }
          ],
          "histogram2d": [
           {
            "colorbar": {
             "outlinewidth": 0,
             "ticks": ""
            },
            "colorscale": [
             [
              0,
              "#0d0887"
             ],
             [
              0.1111111111111111,
              "#46039f"
             ],
             [
              0.2222222222222222,
              "#7201a8"
             ],
             [
              0.3333333333333333,
              "#9c179e"
             ],
             [
              0.4444444444444444,
              "#bd3786"
             ],
             [
              0.5555555555555556,
              "#d8576b"
             ],
             [
              0.6666666666666666,
              "#ed7953"
             ],
             [
              0.7777777777777778,
              "#fb9f3a"
             ],
             [
              0.8888888888888888,
              "#fdca26"
             ],
             [
              1,
              "#f0f921"
             ]
            ],
            "type": "histogram2d"
           }
          ],
          "histogram2dcontour": [
           {
            "colorbar": {
             "outlinewidth": 0,
             "ticks": ""
            },
            "colorscale": [
             [
              0,
              "#0d0887"
             ],
             [
              0.1111111111111111,
              "#46039f"
             ],
             [
              0.2222222222222222,
              "#7201a8"
             ],
             [
              0.3333333333333333,
              "#9c179e"
             ],
             [
              0.4444444444444444,
              "#bd3786"
             ],
             [
              0.5555555555555556,
              "#d8576b"
             ],
             [
              0.6666666666666666,
              "#ed7953"
             ],
             [
              0.7777777777777778,
              "#fb9f3a"
             ],
             [
              0.8888888888888888,
              "#fdca26"
             ],
             [
              1,
              "#f0f921"
             ]
            ],
            "type": "histogram2dcontour"
           }
          ],
          "mesh3d": [
           {
            "colorbar": {
             "outlinewidth": 0,
             "ticks": ""
            },
            "type": "mesh3d"
           }
          ],
          "parcoords": [
           {
            "line": {
             "colorbar": {
              "outlinewidth": 0,
              "ticks": ""
             }
            },
            "type": "parcoords"
           }
          ],
          "pie": [
           {
            "automargin": true,
            "type": "pie"
           }
          ],
          "scatter": [
           {
            "marker": {
             "colorbar": {
              "outlinewidth": 0,
              "ticks": ""
             }
            },
            "type": "scatter"
           }
          ],
          "scatter3d": [
           {
            "line": {
             "colorbar": {
              "outlinewidth": 0,
              "ticks": ""
             }
            },
            "marker": {
             "colorbar": {
              "outlinewidth": 0,
              "ticks": ""
             }
            },
            "type": "scatter3d"
           }
          ],
          "scattercarpet": [
           {
            "marker": {
             "colorbar": {
              "outlinewidth": 0,
              "ticks": ""
             }
            },
            "type": "scattercarpet"
           }
          ],
          "scattergeo": [
           {
            "marker": {
             "colorbar": {
              "outlinewidth": 0,
              "ticks": ""
             }
            },
            "type": "scattergeo"
           }
          ],
          "scattergl": [
           {
            "marker": {
             "colorbar": {
              "outlinewidth": 0,
              "ticks": ""
             }
            },
            "type": "scattergl"
           }
          ],
          "scattermapbox": [
           {
            "marker": {
             "colorbar": {
              "outlinewidth": 0,
              "ticks": ""
             }
            },
            "type": "scattermapbox"
           }
          ],
          "scatterpolar": [
           {
            "marker": {
             "colorbar": {
              "outlinewidth": 0,
              "ticks": ""
             }
            },
            "type": "scatterpolar"
           }
          ],
          "scatterpolargl": [
           {
            "marker": {
             "colorbar": {
              "outlinewidth": 0,
              "ticks": ""
             }
            },
            "type": "scatterpolargl"
           }
          ],
          "scatterternary": [
           {
            "marker": {
             "colorbar": {
              "outlinewidth": 0,
              "ticks": ""
             }
            },
            "type": "scatterternary"
           }
          ],
          "surface": [
           {
            "colorbar": {
             "outlinewidth": 0,
             "ticks": ""
            },
            "colorscale": [
             [
              0,
              "#0d0887"
             ],
             [
              0.1111111111111111,
              "#46039f"
             ],
             [
              0.2222222222222222,
              "#7201a8"
             ],
             [
              0.3333333333333333,
              "#9c179e"
             ],
             [
              0.4444444444444444,
              "#bd3786"
             ],
             [
              0.5555555555555556,
              "#d8576b"
             ],
             [
              0.6666666666666666,
              "#ed7953"
             ],
             [
              0.7777777777777778,
              "#fb9f3a"
             ],
             [
              0.8888888888888888,
              "#fdca26"
             ],
             [
              1,
              "#f0f921"
             ]
            ],
            "type": "surface"
           }
          ],
          "table": [
           {
            "cells": {
             "fill": {
              "color": "#EBF0F8"
             },
             "line": {
              "color": "white"
             }
            },
            "header": {
             "fill": {
              "color": "#C8D4E3"
             },
             "line": {
              "color": "white"
             }
            },
            "type": "table"
           }
          ]
         },
         "layout": {
          "annotationdefaults": {
           "arrowcolor": "#2a3f5f",
           "arrowhead": 0,
           "arrowwidth": 1
          },
          "autotypenumbers": "strict",
          "coloraxis": {
           "colorbar": {
            "outlinewidth": 0,
            "ticks": ""
           }
          },
          "colorscale": {
           "diverging": [
            [
             0,
             "#8e0152"
            ],
            [
             0.1,
             "#c51b7d"
            ],
            [
             0.2,
             "#de77ae"
            ],
            [
             0.3,
             "#f1b6da"
            ],
            [
             0.4,
             "#fde0ef"
            ],
            [
             0.5,
             "#f7f7f7"
            ],
            [
             0.6,
             "#e6f5d0"
            ],
            [
             0.7,
             "#b8e186"
            ],
            [
             0.8,
             "#7fbc41"
            ],
            [
             0.9,
             "#4d9221"
            ],
            [
             1,
             "#276419"
            ]
           ],
           "sequential": [
            [
             0,
             "#0d0887"
            ],
            [
             0.1111111111111111,
             "#46039f"
            ],
            [
             0.2222222222222222,
             "#7201a8"
            ],
            [
             0.3333333333333333,
             "#9c179e"
            ],
            [
             0.4444444444444444,
             "#bd3786"
            ],
            [
             0.5555555555555556,
             "#d8576b"
            ],
            [
             0.6666666666666666,
             "#ed7953"
            ],
            [
             0.7777777777777778,
             "#fb9f3a"
            ],
            [
             0.8888888888888888,
             "#fdca26"
            ],
            [
             1,
             "#f0f921"
            ]
           ],
           "sequentialminus": [
            [
             0,
             "#0d0887"
            ],
            [
             0.1111111111111111,
             "#46039f"
            ],
            [
             0.2222222222222222,
             "#7201a8"
            ],
            [
             0.3333333333333333,
             "#9c179e"
            ],
            [
             0.4444444444444444,
             "#bd3786"
            ],
            [
             0.5555555555555556,
             "#d8576b"
            ],
            [
             0.6666666666666666,
             "#ed7953"
            ],
            [
             0.7777777777777778,
             "#fb9f3a"
            ],
            [
             0.8888888888888888,
             "#fdca26"
            ],
            [
             1,
             "#f0f921"
            ]
           ]
          },
          "colorway": [
           "#636efa",
           "#EF553B",
           "#00cc96",
           "#ab63fa",
           "#FFA15A",
           "#19d3f3",
           "#FF6692",
           "#B6E880",
           "#FF97FF",
           "#FECB52"
          ],
          "font": {
           "color": "#2a3f5f"
          },
          "geo": {
           "bgcolor": "white",
           "lakecolor": "white",
           "landcolor": "#E5ECF6",
           "showlakes": true,
           "showland": true,
           "subunitcolor": "white"
          },
          "hoverlabel": {
           "align": "left"
          },
          "hovermode": "closest",
          "mapbox": {
           "style": "light"
          },
          "paper_bgcolor": "white",
          "plot_bgcolor": "#E5ECF6",
          "polar": {
           "angularaxis": {
            "gridcolor": "white",
            "linecolor": "white",
            "ticks": ""
           },
           "bgcolor": "#E5ECF6",
           "radialaxis": {
            "gridcolor": "white",
            "linecolor": "white",
            "ticks": ""
           }
          },
          "scene": {
           "xaxis": {
            "backgroundcolor": "#E5ECF6",
            "gridcolor": "white",
            "gridwidth": 2,
            "linecolor": "white",
            "showbackground": true,
            "ticks": "",
            "zerolinecolor": "white"
           },
           "yaxis": {
            "backgroundcolor": "#E5ECF6",
            "gridcolor": "white",
            "gridwidth": 2,
            "linecolor": "white",
            "showbackground": true,
            "ticks": "",
            "zerolinecolor": "white"
           },
           "zaxis": {
            "backgroundcolor": "#E5ECF6",
            "gridcolor": "white",
            "gridwidth": 2,
            "linecolor": "white",
            "showbackground": true,
            "ticks": "",
            "zerolinecolor": "white"
           }
          },
          "shapedefaults": {
           "line": {
            "color": "#2a3f5f"
           }
          },
          "ternary": {
           "aaxis": {
            "gridcolor": "white",
            "linecolor": "white",
            "ticks": ""
           },
           "baxis": {
            "gridcolor": "white",
            "linecolor": "white",
            "ticks": ""
           },
           "bgcolor": "#E5ECF6",
           "caxis": {
            "gridcolor": "white",
            "linecolor": "white",
            "ticks": ""
           }
          },
          "title": {
           "x": 0.05
          },
          "xaxis": {
           "automargin": true,
           "gridcolor": "white",
           "linecolor": "white",
           "ticks": "",
           "title": {
            "standoff": 15
           },
           "zerolinecolor": "white",
           "zerolinewidth": 2
          },
          "yaxis": {
           "automargin": true,
           "gridcolor": "white",
           "linecolor": "white",
           "ticks": "",
           "title": {
            "standoff": 15
           },
           "zerolinecolor": "white",
           "zerolinewidth": 2
          }
         }
        },
        "xaxis": {
         "anchor": "y",
         "domain": [
          0,
          1
         ],
         "title": {
          "text": "x"
         }
        },
        "yaxis": {
         "anchor": "x",
         "domain": [
          0,
          1
         ],
         "title": {
          "text": "y"
         }
        }
       }
      }
     },
     "metadata": {},
     "output_type": "display_data"
    }
   ],
   "source": [
    "mean = df_so2.iloc[:,2].mean()\n",
    "std = df_so2.iloc[:,2].std()\n",
    "min = df_so2.iloc[:,2].min()\n",
    "max = df_so2.iloc[:,2].max()\n",
    "show_norm(mean,std,min,max)"
   ]
  },
  {
   "cell_type": "markdown",
   "metadata": {},
   "source": [
    "### 부산광역시 아황산가스의 누적확률 구하기"
   ]
  },
  {
   "cell_type": "code",
   "execution_count": 424,
   "metadata": {},
   "outputs": [
    {
     "data": {
      "application/vnd.plotly.v1+json": {
       "config": {
        "plotlyServerURL": "https://plot.ly"
       },
       "data": [
        {
         "fill": "tozeroy",
         "line": {
          "color": "rgb(100,110,250)"
         },
         "name": "적합",
         "text": "0.6640367362231872",
         "type": "scatter",
         "x": [
          0.00023617061295251303,
          0.0002640880815085483,
          0.0002920055500645835,
          0.00031992301862061867,
          0.0003478404871766539,
          0.00037575795573268917,
          0.00040367542428872437,
          0.00043159289284475956,
          0.0004595103614007948,
          0.00048742782995683006,
          0.0005153452985128652,
          0.0005432627670689005,
          0.0005711802356249357,
          0.000599097704180971,
          0.0006270151727370062,
          0.0006549326412930413,
          0.0006828501098490766,
          0.0007107675784051118,
          0.0007386850469611471,
          0.0007666025155171822,
          0.0007945199840732175,
          0.0008224374526292527,
          0.0008503549211852879,
          0.0008782723897413231,
          0.0009061898582973584,
          0.0009341073268533936,
          0.0009620247954094289,
          0.000989942263965464,
          0.0010178597325214993,
          0.0010457772010775345,
          0.0010736946696335696,
          0.0011016121381896048,
          0.00112952960674564,
          0.0011574470753016753,
          0.0011853645438577106,
          0.0012132820124137458,
          0.001241199480969781,
          0.0012691169495258163,
          0.0012970344180818516,
          0.0013249518866378868,
          0.001352869355193922,
          0.0013807868237499573,
          0.0014087042923059926,
          0.0014366217608620278,
          0.0014645392294180626,
          0.0014924566979740979,
          0.0015203741665301331,
          0.0015482916350861684,
          0.0015762091036422036,
          0.0016041265721982389,
          0.0016320440407542741,
          0.0016599615093103094,
          0.0016878789778663446,
          0.0017157964464223799,
          0.0017437139149784151,
          0.0017716313835344504,
          0.0017995488520904856,
          0.0018274663206465209,
          0.0018553837892025561,
          0.0018833012577585914,
          0.0019112187263146262,
          0.0019391361948706614,
          0.0019670536634266967,
          0.001994971131982732,
          0.002022888600538767,
          0.0020508060690948024,
          0.0020787235376508377,
          0.002106641006206873,
          0.002134558474762908,
          0.0021624759433189434,
          0.0021903934118749787,
          0.002218310880431014,
          0.002246228348987049,
          0.002274145817543084,
          0.0023020632860991192,
          0.0023299807546551545,
          0.0023578982232111897,
          0.002385815691767225,
          0.0024137331603232602,
          0.0024416506288792955,
          0.0024695680974353307,
          0.002497485565991366,
          0.0025254030345474012,
          0.0025533205031034365,
          0.0025812379716594717,
          0.002609155440215507,
          0.0026370729087715422,
          0.0026649903773275775,
          0.0026929078458836123,
          0.0027208253144396476,
          0.002748742782995683,
          0.002776660251551718,
          0.0028045777201077533,
          0.0028324951886637886,
          0.002860412657219824,
          0.002888330125775859,
          0.0029162475943318943,
          0.0029441650628879296,
          0.002972082531443965,
          0.003
         ],
         "y": [
          3.200664671758005,
          3.5943425819909773,
          4.031053900184206,
          4.514790349176071,
          5.0498260263204005,
          5.640727115252971,
          6.292360692672349,
          7.009902448382207,
          7.798843126187337,
          8.664993483505379,
          9.614487558981267,
          10.653784030212975,
          11.789665438163462,
          13.029235051200553,
          14.379911140225461,
          15.849418437279965,
          17.44577655360185,
          19.17728513957058,
          21.05250557856365,
          23.080239019632167,
          25.26950057027248,
          27.629489490561497,
          30.16955525364175,
          32.89915936505123,
          35.82783286470961,
          38.96512947046032,
          42.32057436083779,
          45.90360863702827,
          49.72352954960985,
          53.789426624312355,
          58.11011387238572,
          62.69405832479656,
          67.54930518490234,
          72.68339995094668,
          78.10330791706028,
          83.81533151878963,
          89.82502604578397,
          96.13711429939663,
          102.75540082579992,
          109.68268640494448,
          116.92068352148095,
          124.46993358474029,
          132.32972670021508,
          140.49802482385772,
          148.97138915213867,
          157.74491261443808,
          166.81215833930108,
          176.16510496177727,
          185.7940996249567,
          195.68781950452376,
          205.8332426503629,
          216.21562889381644,
          226.81851151307112,
          237.62370028246815,
          248.61129645454096,
          259.75972013671947,
          271.0457504284697,
          282.4445785798957,
          293.92987432040337,
          305.4738653869425,
          317.0474301567628,
          328.62020316085164,
          340.1606931226412,
          351.6364130337131,
          363.0140216456301,
          374.25947562634065,
          385.3381915024907,
          396.2152163871058,
          406.855406377143,
          417.22361139897225,
          427.28486518348126,
          437.0045789676807,
          446.3487374477517,
          455.28409545065244,
          463.77837374872456,
          471.8004524150886,
          479.3205601076793,
          486.3104576769857,
          492.7436145172028,
          498.5953761225629,
          503.8431213698862,
          508.46640812441444,
          512.4471058580866,
          515.7695140766635,
          518.4204654733956,
          520.3894128609193,
          521.6684990782662,
          522.2526092245994,
          522.1394047337498,
          521.3293389718987,
          519.8256542128241,
          517.6343600189512,
          514.7641932299279,
          511.2265599315144,
          507.0354599441706,
          502.207394530884,
          496.76125817561103,
          490.7182154254373,
          484.101563919591,
          476.93658484530704
         ]
        },
        {
         "fill": "tozeroy",
         "line": {
          "color": "rgb(239,85,59)"
         },
         "name": "부적합",
         "text": "0.6640367362231872",
         "type": "scatter",
         "x": [
          0.003,
          0.0030202020202020202,
          0.0030404040404040404,
          0.0030606060606060605,
          0.0030808080808080807,
          0.003101010101010101,
          0.0031212121212121214,
          0.0031414141414141416,
          0.0031616161616161618,
          0.003181818181818182,
          0.003202020202020202,
          0.0032222222222222222,
          0.0032424242424242424,
          0.0032626262626262626,
          0.0032828282828282827,
          0.0033030303030303033,
          0.0033232323232323235,
          0.0033434343434343436,
          0.003363636363636364,
          0.003383838383838384,
          0.003404040404040404,
          0.0034242424242424243,
          0.0034444444444444444,
          0.0034646464646464646,
          0.0034848484848484847,
          0.003505050505050505,
          0.0035252525252525255,
          0.0035454545454545456,
          0.003565656565656566,
          0.003585858585858586,
          0.003606060606060606,
          0.0036262626262626263,
          0.0036464646464646464,
          0.0036666666666666666,
          0.003686868686868687,
          0.0037070707070707073,
          0.0037272727272727275,
          0.0037474747474747477,
          0.003767676767676768,
          0.003787878787878788,
          0.003808080808080808,
          0.0038282828282828283,
          0.0038484848484848485,
          0.0038686868686868686,
          0.0038888888888888888,
          0.003909090909090909,
          0.003929292929292929,
          0.003949494949494949,
          0.00396969696969697,
          0.00398989898989899,
          0.004010101010101011,
          0.00403030303030303,
          0.004050505050505051,
          0.004070707070707071,
          0.004090909090909091,
          0.004111111111111111,
          0.0041313131313131315,
          0.004151515151515152,
          0.004171717171717172,
          0.004191919191919192,
          0.004212121212121212,
          0.004232323232323232,
          0.0042525252525252525,
          0.004272727272727273,
          0.004292929292929293,
          0.004313131313131313,
          0.004333333333333333,
          0.004353535353535354,
          0.0043737373737373735,
          0.0043939393939393945,
          0.004414141414141414,
          0.004434343434343435,
          0.004454545454545455,
          0.004474747474747475,
          0.004494949494949495,
          0.004515151515151515,
          0.004535353535353536,
          0.004555555555555556,
          0.004575757575757576,
          0.004595959595959596,
          0.004616161616161616,
          0.004636363636363636,
          0.0046565656565656565,
          0.004676767676767677,
          0.004696969696969697,
          0.004717171717171717,
          0.004737373737373737,
          0.004757575757575757,
          0.004777777777777778,
          0.004797979797979798,
          0.004818181818181819,
          0.004838383838383838,
          0.004858585858585859,
          0.004878787878787879,
          0.004898989898989899,
          0.0049191919191919195,
          0.00493939393939394,
          0.00495959595959596,
          0.00497979797979798,
          0.005
         ],
         "y": [
          476.93658484530704,
          471.4250854862471,
          465.65143324848225,
          459.6268640180636,
          453.3629952412536,
          446.87178871039305,
          440.1655126483509,
          433.25670325904014,
          426.1581259117376,
          418.88273612626966,
          411.44364052452306,
          403.8540579112549,
          396.1272806438216,
          388.27663644626665,
          380.3154508182414,
          372.25701018352186,
          364.11452591648634,
          355.90109937787435,
          347.6296880835298,
          339.31307312168093,
          330.9638279257071,
          322.5942885003374,
          314.2165251898896,
          305.84231606756015,
          297.4831220149702,
          289.1500635512388,
          280.8538994608495,
          272.60500725956547,
          264.41336552769485,
          256.28853813017435,
          248.23966033327412,
          240.2754268182988,
          232.40408158350684,
          224.63340971665048,
          216.97073101209125,
          209.42289539841266,
          201.99628013486776,
          194.6967887279021,
          187.52985151239852,
          180.50042783623638,
          173.61300978124999,
          166.871627348734,
          160.2798550332793,
          153.84081970494157,
          147.5572097165465,
          141.43128515031685,
          135.46488911596077,
          129.65946001088136,
          124.0160446522335,
          118.53531219015774,
          113.21756871162762,
          108.06277244496714,
          103.07054947614097,
          98.24020988945665,
          93.5707642472094,
          89.06094032511945,
          84.70920002304467,
          80.51375637341808,
          76.47259057310225,
          72.58346896784589,
          68.84395992223651,
          65.25145051193313,
          61.80316297900379,
          58.496170895348925,
          55.32741498343478,
          52.29371854785769,
          49.391802475584775,
          46.61829976703717,
          43.96976956447601,
          41.44271064838952,
          39.033574376749826,
          36.73877704606523,
          34.554711657116485,
          32.47775907207026,
          30.50429855333972,
          28.63071767805939,
          26.853421625373947,
          25.168841836882375,
          23.57344405353192,
          22.06373573500681,
          20.636272870206746,
          19.2876661897517,
          18.014586793584126,
          16.813771208668154,
          15.682025893505429,
          14.616231207707564,
          13.613344866183775,
          12.670404898629887,
          11.784532135942742,
          10.952932245943561,
          10.172897341377594,
          9.441807183581448,
          8.757130005471051,
          8.116422977626938,
          7.51733234123208,
          6.957593231476662,
          6.4350292147814905,
          5.947551562825088,
          5.493158285895156,
          5.0699329475349275
         ]
        }
       ],
       "layout": {
        "annotations": [
         {
          "bordercolor": "rgb(100,110,250)",
          "borderwidth": 2,
          "font": {
           "color": "rgb(100,110,250)",
           "size": 15
          },
          "showarrow": false,
          "text": "0.664",
          "x": 0.003,
          "xshift": -40,
          "y": 476.93658484530704,
          "yshift": -100
         },
         {
          "bordercolor": "rgb(239,85,59)",
          "borderwidth": 2,
          "font": {
           "color": "rgb(239,85,59)",
           "size": 15
          },
          "showarrow": false,
          "text": "0.336",
          "x": 0.003,
          "xshift": 40,
          "y": 476.93658484530704,
          "yshift": -100
         }
        ],
        "template": {
         "data": {
          "bar": [
           {
            "error_x": {
             "color": "#2a3f5f"
            },
            "error_y": {
             "color": "#2a3f5f"
            },
            "marker": {
             "line": {
              "color": "#E5ECF6",
              "width": 0.5
             },
             "pattern": {
              "fillmode": "overlay",
              "size": 10,
              "solidity": 0.2
             }
            },
            "type": "bar"
           }
          ],
          "barpolar": [
           {
            "marker": {
             "line": {
              "color": "#E5ECF6",
              "width": 0.5
             },
             "pattern": {
              "fillmode": "overlay",
              "size": 10,
              "solidity": 0.2
             }
            },
            "type": "barpolar"
           }
          ],
          "carpet": [
           {
            "aaxis": {
             "endlinecolor": "#2a3f5f",
             "gridcolor": "white",
             "linecolor": "white",
             "minorgridcolor": "white",
             "startlinecolor": "#2a3f5f"
            },
            "baxis": {
             "endlinecolor": "#2a3f5f",
             "gridcolor": "white",
             "linecolor": "white",
             "minorgridcolor": "white",
             "startlinecolor": "#2a3f5f"
            },
            "type": "carpet"
           }
          ],
          "choropleth": [
           {
            "colorbar": {
             "outlinewidth": 0,
             "ticks": ""
            },
            "type": "choropleth"
           }
          ],
          "contour": [
           {
            "colorbar": {
             "outlinewidth": 0,
             "ticks": ""
            },
            "colorscale": [
             [
              0,
              "#0d0887"
             ],
             [
              0.1111111111111111,
              "#46039f"
             ],
             [
              0.2222222222222222,
              "#7201a8"
             ],
             [
              0.3333333333333333,
              "#9c179e"
             ],
             [
              0.4444444444444444,
              "#bd3786"
             ],
             [
              0.5555555555555556,
              "#d8576b"
             ],
             [
              0.6666666666666666,
              "#ed7953"
             ],
             [
              0.7777777777777778,
              "#fb9f3a"
             ],
             [
              0.8888888888888888,
              "#fdca26"
             ],
             [
              1,
              "#f0f921"
             ]
            ],
            "type": "contour"
           }
          ],
          "contourcarpet": [
           {
            "colorbar": {
             "outlinewidth": 0,
             "ticks": ""
            },
            "type": "contourcarpet"
           }
          ],
          "heatmap": [
           {
            "colorbar": {
             "outlinewidth": 0,
             "ticks": ""
            },
            "colorscale": [
             [
              0,
              "#0d0887"
             ],
             [
              0.1111111111111111,
              "#46039f"
             ],
             [
              0.2222222222222222,
              "#7201a8"
             ],
             [
              0.3333333333333333,
              "#9c179e"
             ],
             [
              0.4444444444444444,
              "#bd3786"
             ],
             [
              0.5555555555555556,
              "#d8576b"
             ],
             [
              0.6666666666666666,
              "#ed7953"
             ],
             [
              0.7777777777777778,
              "#fb9f3a"
             ],
             [
              0.8888888888888888,
              "#fdca26"
             ],
             [
              1,
              "#f0f921"
             ]
            ],
            "type": "heatmap"
           }
          ],
          "heatmapgl": [
           {
            "colorbar": {
             "outlinewidth": 0,
             "ticks": ""
            },
            "colorscale": [
             [
              0,
              "#0d0887"
             ],
             [
              0.1111111111111111,
              "#46039f"
             ],
             [
              0.2222222222222222,
              "#7201a8"
             ],
             [
              0.3333333333333333,
              "#9c179e"
             ],
             [
              0.4444444444444444,
              "#bd3786"
             ],
             [
              0.5555555555555556,
              "#d8576b"
             ],
             [
              0.6666666666666666,
              "#ed7953"
             ],
             [
              0.7777777777777778,
              "#fb9f3a"
             ],
             [
              0.8888888888888888,
              "#fdca26"
             ],
             [
              1,
              "#f0f921"
             ]
            ],
            "type": "heatmapgl"
           }
          ],
          "histogram": [
           {
            "marker": {
             "pattern": {
              "fillmode": "overlay",
              "size": 10,
              "solidity": 0.2
             }
            },
            "type": "histogram"
           }
          ],
          "histogram2d": [
           {
            "colorbar": {
             "outlinewidth": 0,
             "ticks": ""
            },
            "colorscale": [
             [
              0,
              "#0d0887"
             ],
             [
              0.1111111111111111,
              "#46039f"
             ],
             [
              0.2222222222222222,
              "#7201a8"
             ],
             [
              0.3333333333333333,
              "#9c179e"
             ],
             [
              0.4444444444444444,
              "#bd3786"
             ],
             [
              0.5555555555555556,
              "#d8576b"
             ],
             [
              0.6666666666666666,
              "#ed7953"
             ],
             [
              0.7777777777777778,
              "#fb9f3a"
             ],
             [
              0.8888888888888888,
              "#fdca26"
             ],
             [
              1,
              "#f0f921"
             ]
            ],
            "type": "histogram2d"
           }
          ],
          "histogram2dcontour": [
           {
            "colorbar": {
             "outlinewidth": 0,
             "ticks": ""
            },
            "colorscale": [
             [
              0,
              "#0d0887"
             ],
             [
              0.1111111111111111,
              "#46039f"
             ],
             [
              0.2222222222222222,
              "#7201a8"
             ],
             [
              0.3333333333333333,
              "#9c179e"
             ],
             [
              0.4444444444444444,
              "#bd3786"
             ],
             [
              0.5555555555555556,
              "#d8576b"
             ],
             [
              0.6666666666666666,
              "#ed7953"
             ],
             [
              0.7777777777777778,
              "#fb9f3a"
             ],
             [
              0.8888888888888888,
              "#fdca26"
             ],
             [
              1,
              "#f0f921"
             ]
            ],
            "type": "histogram2dcontour"
           }
          ],
          "mesh3d": [
           {
            "colorbar": {
             "outlinewidth": 0,
             "ticks": ""
            },
            "type": "mesh3d"
           }
          ],
          "parcoords": [
           {
            "line": {
             "colorbar": {
              "outlinewidth": 0,
              "ticks": ""
             }
            },
            "type": "parcoords"
           }
          ],
          "pie": [
           {
            "automargin": true,
            "type": "pie"
           }
          ],
          "scatter": [
           {
            "marker": {
             "colorbar": {
              "outlinewidth": 0,
              "ticks": ""
             }
            },
            "type": "scatter"
           }
          ],
          "scatter3d": [
           {
            "line": {
             "colorbar": {
              "outlinewidth": 0,
              "ticks": ""
             }
            },
            "marker": {
             "colorbar": {
              "outlinewidth": 0,
              "ticks": ""
             }
            },
            "type": "scatter3d"
           }
          ],
          "scattercarpet": [
           {
            "marker": {
             "colorbar": {
              "outlinewidth": 0,
              "ticks": ""
             }
            },
            "type": "scattercarpet"
           }
          ],
          "scattergeo": [
           {
            "marker": {
             "colorbar": {
              "outlinewidth": 0,
              "ticks": ""
             }
            },
            "type": "scattergeo"
           }
          ],
          "scattergl": [
           {
            "marker": {
             "colorbar": {
              "outlinewidth": 0,
              "ticks": ""
             }
            },
            "type": "scattergl"
           }
          ],
          "scattermapbox": [
           {
            "marker": {
             "colorbar": {
              "outlinewidth": 0,
              "ticks": ""
             }
            },
            "type": "scattermapbox"
           }
          ],
          "scatterpolar": [
           {
            "marker": {
             "colorbar": {
              "outlinewidth": 0,
              "ticks": ""
             }
            },
            "type": "scatterpolar"
           }
          ],
          "scatterpolargl": [
           {
            "marker": {
             "colorbar": {
              "outlinewidth": 0,
              "ticks": ""
             }
            },
            "type": "scatterpolargl"
           }
          ],
          "scatterternary": [
           {
            "marker": {
             "colorbar": {
              "outlinewidth": 0,
              "ticks": ""
             }
            },
            "type": "scatterternary"
           }
          ],
          "surface": [
           {
            "colorbar": {
             "outlinewidth": 0,
             "ticks": ""
            },
            "colorscale": [
             [
              0,
              "#0d0887"
             ],
             [
              0.1111111111111111,
              "#46039f"
             ],
             [
              0.2222222222222222,
              "#7201a8"
             ],
             [
              0.3333333333333333,
              "#9c179e"
             ],
             [
              0.4444444444444444,
              "#bd3786"
             ],
             [
              0.5555555555555556,
              "#d8576b"
             ],
             [
              0.6666666666666666,
              "#ed7953"
             ],
             [
              0.7777777777777778,
              "#fb9f3a"
             ],
             [
              0.8888888888888888,
              "#fdca26"
             ],
             [
              1,
              "#f0f921"
             ]
            ],
            "type": "surface"
           }
          ],
          "table": [
           {
            "cells": {
             "fill": {
              "color": "#EBF0F8"
             },
             "line": {
              "color": "white"
             }
            },
            "header": {
             "fill": {
              "color": "#C8D4E3"
             },
             "line": {
              "color": "white"
             }
            },
            "type": "table"
           }
          ]
         },
         "layout": {
          "annotationdefaults": {
           "arrowcolor": "#2a3f5f",
           "arrowhead": 0,
           "arrowwidth": 1
          },
          "autotypenumbers": "strict",
          "coloraxis": {
           "colorbar": {
            "outlinewidth": 0,
            "ticks": ""
           }
          },
          "colorscale": {
           "diverging": [
            [
             0,
             "#8e0152"
            ],
            [
             0.1,
             "#c51b7d"
            ],
            [
             0.2,
             "#de77ae"
            ],
            [
             0.3,
             "#f1b6da"
            ],
            [
             0.4,
             "#fde0ef"
            ],
            [
             0.5,
             "#f7f7f7"
            ],
            [
             0.6,
             "#e6f5d0"
            ],
            [
             0.7,
             "#b8e186"
            ],
            [
             0.8,
             "#7fbc41"
            ],
            [
             0.9,
             "#4d9221"
            ],
            [
             1,
             "#276419"
            ]
           ],
           "sequential": [
            [
             0,
             "#0d0887"
            ],
            [
             0.1111111111111111,
             "#46039f"
            ],
            [
             0.2222222222222222,
             "#7201a8"
            ],
            [
             0.3333333333333333,
             "#9c179e"
            ],
            [
             0.4444444444444444,
             "#bd3786"
            ],
            [
             0.5555555555555556,
             "#d8576b"
            ],
            [
             0.6666666666666666,
             "#ed7953"
            ],
            [
             0.7777777777777778,
             "#fb9f3a"
            ],
            [
             0.8888888888888888,
             "#fdca26"
            ],
            [
             1,
             "#f0f921"
            ]
           ],
           "sequentialminus": [
            [
             0,
             "#0d0887"
            ],
            [
             0.1111111111111111,
             "#46039f"
            ],
            [
             0.2222222222222222,
             "#7201a8"
            ],
            [
             0.3333333333333333,
             "#9c179e"
            ],
            [
             0.4444444444444444,
             "#bd3786"
            ],
            [
             0.5555555555555556,
             "#d8576b"
            ],
            [
             0.6666666666666666,
             "#ed7953"
            ],
            [
             0.7777777777777778,
             "#fb9f3a"
            ],
            [
             0.8888888888888888,
             "#fdca26"
            ],
            [
             1,
             "#f0f921"
            ]
           ]
          },
          "colorway": [
           "#636efa",
           "#EF553B",
           "#00cc96",
           "#ab63fa",
           "#FFA15A",
           "#19d3f3",
           "#FF6692",
           "#B6E880",
           "#FF97FF",
           "#FECB52"
          ],
          "font": {
           "color": "#2a3f5f"
          },
          "geo": {
           "bgcolor": "white",
           "lakecolor": "white",
           "landcolor": "#E5ECF6",
           "showlakes": true,
           "showland": true,
           "subunitcolor": "white"
          },
          "hoverlabel": {
           "align": "left"
          },
          "hovermode": "closest",
          "mapbox": {
           "style": "light"
          },
          "paper_bgcolor": "white",
          "plot_bgcolor": "#E5ECF6",
          "polar": {
           "angularaxis": {
            "gridcolor": "white",
            "linecolor": "white",
            "ticks": ""
           },
           "bgcolor": "#E5ECF6",
           "radialaxis": {
            "gridcolor": "white",
            "linecolor": "white",
            "ticks": ""
           }
          },
          "scene": {
           "xaxis": {
            "backgroundcolor": "#E5ECF6",
            "gridcolor": "white",
            "gridwidth": 2,
            "linecolor": "white",
            "showbackground": true,
            "ticks": "",
            "zerolinecolor": "white"
           },
           "yaxis": {
            "backgroundcolor": "#E5ECF6",
            "gridcolor": "white",
            "gridwidth": 2,
            "linecolor": "white",
            "showbackground": true,
            "ticks": "",
            "zerolinecolor": "white"
           },
           "zaxis": {
            "backgroundcolor": "#E5ECF6",
            "gridcolor": "white",
            "gridwidth": 2,
            "linecolor": "white",
            "showbackground": true,
            "ticks": "",
            "zerolinecolor": "white"
           }
          },
          "shapedefaults": {
           "line": {
            "color": "#2a3f5f"
           }
          },
          "ternary": {
           "aaxis": {
            "gridcolor": "white",
            "linecolor": "white",
            "ticks": ""
           },
           "baxis": {
            "gridcolor": "white",
            "linecolor": "white",
            "ticks": ""
           },
           "bgcolor": "#E5ECF6",
           "caxis": {
            "gridcolor": "white",
            "linecolor": "white",
            "ticks": ""
           }
          },
          "title": {
           "x": 0.05
          },
          "xaxis": {
           "automargin": true,
           "gridcolor": "white",
           "linecolor": "white",
           "ticks": "",
           "title": {
            "standoff": 15
           },
           "zerolinecolor": "white",
           "zerolinewidth": 2
          },
          "yaxis": {
           "automargin": true,
           "gridcolor": "white",
           "linecolor": "white",
           "ticks": "",
           "title": {
            "standoff": 15
           },
           "zerolinecolor": "white",
           "zerolinewidth": 2
          }
         }
        }
       }
      }
     },
     "metadata": {},
     "output_type": "display_data"
    },
    {
     "data": {
      "text/plain": [
       "0.6640367362231872"
      ]
     },
     "execution_count": 424,
     "metadata": {},
     "output_type": "execute_result"
    }
   ],
   "source": [
    "busan_so2 = df_so2[df_so2['구분(2)']=='부산광역시'].loc[2,'2021.07']\n",
    "so2_pro = cal_norm(mean,std,min,max,busan_so2)\n",
    "so2_pro"
   ]
  },
  {
   "cell_type": "markdown",
   "metadata": {
    "collapsed": false
   },
   "source": [
    "### 이산화질소 월별 데이터 불러오기"
   ]
  },
  {
   "cell_type": "code",
   "execution_count": 425,
   "metadata": {
    "collapsed": false,
    "pycharm": {
     "name": "#%%\n"
    }
   },
   "outputs": [
    {
     "data": {
      "text/html": [
       "<div>\n",
       "<style scoped>\n",
       "    .dataframe tbody tr th:only-of-type {\n",
       "        vertical-align: middle;\n",
       "    }\n",
       "\n",
       "    .dataframe tbody tr th {\n",
       "        vertical-align: top;\n",
       "    }\n",
       "\n",
       "    .dataframe thead th {\n",
       "        text-align: right;\n",
       "    }\n",
       "</style>\n",
       "<table border=\"1\" class=\"dataframe\">\n",
       "  <thead>\n",
       "    <tr style=\"text-align: right;\">\n",
       "      <th></th>\n",
       "      <th>구분(1)</th>\n",
       "      <th>구분(2)</th>\n",
       "      <th>2021.02</th>\n",
       "      <th>2021.03</th>\n",
       "      <th>2021.04</th>\n",
       "      <th>2021.05</th>\n",
       "      <th>2021.06</th>\n",
       "      <th>2021.07</th>\n",
       "    </tr>\n",
       "  </thead>\n",
       "  <tbody>\n",
       "    <tr>\n",
       "      <th>0</th>\n",
       "      <td>총계</td>\n",
       "      <td>소계</td>\n",
       "      <td>0.019</td>\n",
       "      <td>0.019</td>\n",
       "      <td>0.014</td>\n",
       "      <td>0.012</td>\n",
       "      <td>0.011</td>\n",
       "      <td>0.010</td>\n",
       "    </tr>\n",
       "    <tr>\n",
       "      <th>1</th>\n",
       "      <td>서울특별시</td>\n",
       "      <td>서울특별시</td>\n",
       "      <td>0.030</td>\n",
       "      <td>0.032</td>\n",
       "      <td>0.022</td>\n",
       "      <td>0.019</td>\n",
       "      <td>0.018</td>\n",
       "      <td>0.016</td>\n",
       "    </tr>\n",
       "    <tr>\n",
       "      <th>2</th>\n",
       "      <td>부산광역시</td>\n",
       "      <td>부산광역시</td>\n",
       "      <td>0.018</td>\n",
       "      <td>0.017</td>\n",
       "      <td>0.015</td>\n",
       "      <td>0.014</td>\n",
       "      <td>0.014</td>\n",
       "      <td>0.010</td>\n",
       "    </tr>\n",
       "    <tr>\n",
       "      <th>3</th>\n",
       "      <td>대구광역시</td>\n",
       "      <td>대구광역시</td>\n",
       "      <td>0.022</td>\n",
       "      <td>0.018</td>\n",
       "      <td>0.013</td>\n",
       "      <td>0.012</td>\n",
       "      <td>0.010</td>\n",
       "      <td>0.009</td>\n",
       "    </tr>\n",
       "    <tr>\n",
       "      <th>4</th>\n",
       "      <td>인천광역시</td>\n",
       "      <td>인천광역시</td>\n",
       "      <td>0.024</td>\n",
       "      <td>0.028</td>\n",
       "      <td>0.021</td>\n",
       "      <td>0.017</td>\n",
       "      <td>0.017</td>\n",
       "      <td>0.014</td>\n",
       "    </tr>\n",
       "    <tr>\n",
       "      <th>...</th>\n",
       "      <td>...</td>\n",
       "      <td>...</td>\n",
       "      <td>...</td>\n",
       "      <td>...</td>\n",
       "      <td>...</td>\n",
       "      <td>...</td>\n",
       "      <td>...</td>\n",
       "      <td>...</td>\n",
       "    </tr>\n",
       "    <tr>\n",
       "      <th>167</th>\n",
       "      <td>경상남도</td>\n",
       "      <td>합천</td>\n",
       "      <td>0.014</td>\n",
       "      <td>0.011</td>\n",
       "      <td>0.010</td>\n",
       "      <td>0.009</td>\n",
       "      <td>0.010</td>\n",
       "      <td>0.009**</td>\n",
       "    </tr>\n",
       "    <tr>\n",
       "      <th>168</th>\n",
       "      <td>경상남도</td>\n",
       "      <td>도평균</td>\n",
       "      <td>0.016</td>\n",
       "      <td>0.014</td>\n",
       "      <td>0.013</td>\n",
       "      <td>0.011</td>\n",
       "      <td>0.012</td>\n",
       "      <td>0.009</td>\n",
       "    </tr>\n",
       "    <tr>\n",
       "      <th>169</th>\n",
       "      <td>제주특별자치도</td>\n",
       "      <td>제주특별자치도</td>\n",
       "      <td>0.011</td>\n",
       "      <td>0.011</td>\n",
       "      <td>0.010</td>\n",
       "      <td>0.010</td>\n",
       "      <td>0.009</td>\n",
       "      <td>0.006</td>\n",
       "    </tr>\n",
       "    <tr>\n",
       "      <th>170</th>\n",
       "      <td>제주특별자치도</td>\n",
       "      <td>서귀포</td>\n",
       "      <td>0.007</td>\n",
       "      <td>0.007</td>\n",
       "      <td>0.006</td>\n",
       "      <td>0.006</td>\n",
       "      <td>0.005</td>\n",
       "      <td>0.004</td>\n",
       "    </tr>\n",
       "    <tr>\n",
       "      <th>171</th>\n",
       "      <td>제주특별자치도</td>\n",
       "      <td>도평균</td>\n",
       "      <td>0.009</td>\n",
       "      <td>0.009</td>\n",
       "      <td>0.008</td>\n",
       "      <td>0.008</td>\n",
       "      <td>0.007</td>\n",
       "      <td>0.005</td>\n",
       "    </tr>\n",
       "  </tbody>\n",
       "</table>\n",
       "<p>172 rows × 8 columns</p>\n",
       "</div>"
      ],
      "text/plain": [
       "       구분(1)    구분(2) 2021.02 2021.03 2021.04 2021.05 2021.06  2021.07\n",
       "0         총계       소계   0.019   0.019   0.014   0.012   0.011    0.010\n",
       "1      서울특별시    서울특별시   0.030   0.032   0.022   0.019   0.018    0.016\n",
       "2      부산광역시    부산광역시   0.018   0.017   0.015   0.014   0.014    0.010\n",
       "3      대구광역시    대구광역시   0.022   0.018   0.013   0.012   0.010    0.009\n",
       "4      인천광역시    인천광역시   0.024   0.028   0.021   0.017   0.017    0.014\n",
       "..       ...      ...     ...     ...     ...     ...     ...      ...\n",
       "167     경상남도       합천   0.014   0.011   0.010   0.009   0.010  0.009**\n",
       "168     경상남도      도평균   0.016   0.014   0.013   0.011   0.012    0.009\n",
       "169  제주특별자치도  제주특별자치도   0.011   0.011   0.010   0.010   0.009    0.006\n",
       "170  제주특별자치도      서귀포   0.007   0.007   0.006   0.006   0.005    0.004\n",
       "171  제주특별자치도      도평균   0.009   0.009   0.008   0.008   0.007    0.005\n",
       "\n",
       "[172 rows x 8 columns]"
      ]
     },
     "execution_count": 425,
     "metadata": {},
     "output_type": "execute_result"
    }
   ],
   "source": [
    "no2_file_path = 'C:\\\\Users\\\\SAMSUNG\\\\Desktop\\\\Green-Car-Charging-Station-Site-Selection\\\\Data\\\\이산화질소_월별_도시별_대기오염도.csv'\n",
    "df_no2 = pd.read_csv(no2_file_path, encoding='cp949')\n",
    "df_no2"
   ]
  },
  {
   "cell_type": "code",
   "execution_count": 426,
   "metadata": {
    "collapsed": false,
    "pycharm": {
     "name": "#%%\n"
    }
   },
   "outputs": [],
   "source": [
    "no2_col = df_no2.iloc[:,2:-1].columns.tolist()"
   ]
  },
  {
   "cell_type": "code",
   "execution_count": 427,
   "metadata": {
    "collapsed": false,
    "pycharm": {
     "name": "#%%\n"
    }
   },
   "outputs": [],
   "source": [
    "df_no2.drop(columns=no2_col, inplace=True)"
   ]
  },
  {
   "cell_type": "code",
   "execution_count": 428,
   "metadata": {
    "collapsed": false,
    "pycharm": {
     "name": "#%%\n"
    }
   },
   "outputs": [],
   "source": [
    "advanced_replace(df_no2,'2021.07','-',r'[^0-9.0-9]')\n",
    "df_no2['2021.07'] = df_no2['2021.07'].astype(float)"
   ]
  },
  {
   "cell_type": "code",
   "execution_count": 429,
   "metadata": {
    "collapsed": false,
    "pycharm": {
     "name": "#%%\n"
    }
   },
   "outputs": [
    {
     "name": "stdout",
     "output_type": "stream",
     "text": [
      "<class 'pandas.core.frame.DataFrame'>\n",
      "RangeIndex: 172 entries, 0 to 171\n",
      "Data columns (total 3 columns):\n",
      " #   Column   Non-Null Count  Dtype  \n",
      "---  ------   --------------  -----  \n",
      " 0   구분(1)    172 non-null    object \n",
      " 1   구분(2)    172 non-null    object \n",
      " 2   2021.07  172 non-null    float64\n",
      "dtypes: float64(1), object(2)\n",
      "memory usage: 4.2+ KB\n"
     ]
    }
   ],
   "source": [
    "df_no2.info()"
   ]
  },
  {
   "cell_type": "code",
   "execution_count": 430,
   "metadata": {
    "collapsed": false,
    "pycharm": {
     "name": "#%%\n"
    }
   },
   "outputs": [
    {
     "data": {
      "text/html": [
       "<div>\n",
       "<style scoped>\n",
       "    .dataframe tbody tr th:only-of-type {\n",
       "        vertical-align: middle;\n",
       "    }\n",
       "\n",
       "    .dataframe tbody tr th {\n",
       "        vertical-align: top;\n",
       "    }\n",
       "\n",
       "    .dataframe thead th {\n",
       "        text-align: right;\n",
       "    }\n",
       "</style>\n",
       "<table border=\"1\" class=\"dataframe\">\n",
       "  <thead>\n",
       "    <tr style=\"text-align: right;\">\n",
       "      <th></th>\n",
       "      <th>2021.07</th>\n",
       "    </tr>\n",
       "  </thead>\n",
       "  <tbody>\n",
       "    <tr>\n",
       "      <th>count</th>\n",
       "      <td>172.000000</td>\n",
       "    </tr>\n",
       "    <tr>\n",
       "      <th>mean</th>\n",
       "      <td>0.007610</td>\n",
       "    </tr>\n",
       "    <tr>\n",
       "      <th>std</th>\n",
       "      <td>0.003294</td>\n",
       "    </tr>\n",
       "    <tr>\n",
       "      <th>min</th>\n",
       "      <td>0.003000</td>\n",
       "    </tr>\n",
       "    <tr>\n",
       "      <th>25%</th>\n",
       "      <td>0.005000</td>\n",
       "    </tr>\n",
       "    <tr>\n",
       "      <th>50%</th>\n",
       "      <td>0.007000</td>\n",
       "    </tr>\n",
       "    <tr>\n",
       "      <th>75%</th>\n",
       "      <td>0.009250</td>\n",
       "    </tr>\n",
       "    <tr>\n",
       "      <th>max</th>\n",
       "      <td>0.019000</td>\n",
       "    </tr>\n",
       "  </tbody>\n",
       "</table>\n",
       "</div>"
      ],
      "text/plain": [
       "          2021.07\n",
       "count  172.000000\n",
       "mean     0.007610\n",
       "std      0.003294\n",
       "min      0.003000\n",
       "25%      0.005000\n",
       "50%      0.007000\n",
       "75%      0.009250\n",
       "max      0.019000"
      ]
     },
     "execution_count": 430,
     "metadata": {},
     "output_type": "execute_result"
    }
   ],
   "source": [
    "df_no2.describe()"
   ]
  },
  {
   "cell_type": "code",
   "execution_count": 431,
   "metadata": {},
   "outputs": [
    {
     "data": {
      "application/vnd.plotly.v1+json": {
       "config": {
        "plotlyServerURL": "https://plot.ly"
       },
       "data": [
        {
         "hovertemplate": "x=%{x}<br>y=%{y}<extra></extra>",
         "legendgroup": "",
         "line": {
          "color": "#636efa",
          "dash": "solid"
         },
         "mode": "lines",
         "name": "",
         "orientation": "v",
         "showlegend": false,
         "type": "scatter",
         "x": [
          -0.0002935353681110288,
          -0.00009865117247354364,
          0.00009623302316394151,
          0.00029111721880142665,
          0.0004860014144389118,
          0.000680885610076397,
          0.0008757698057138821,
          0.0010706540013513672,
          0.0012655381969888524,
          0.0014604223926263375,
          0.0016553065882638227,
          0.0018501907839013078,
          0.002045074979538793,
          0.002239959175176278,
          0.0024348433708137633,
          0.0026297275664512484,
          0.0028246117620887336,
          0.0030194959577262187,
          0.003214380153363704,
          0.003409264349001189,
          0.003604148544638674,
          0.003799032740276159,
          0.0039939169359136445,
          0.00418880113155113,
          0.004383685327188615,
          0.0045785695228260995,
          0.004773453718463585,
          0.004968337914101071,
          0.005163222109738555,
          0.00535810630537604,
          0.005552990501013526,
          0.005747874696651011,
          0.005942758892288496,
          0.006137643087925981,
          0.006332527283563466,
          0.006527411479200952,
          0.0067222956748384365,
          0.006917179870475921,
          0.007112064066113407,
          0.007306948261750892,
          0.007501832457388377,
          0.007696716653025862,
          0.007891600848663347,
          0.008086485044300833,
          0.008281369239938318,
          0.008476253435575802,
          0.008671137631213289,
          0.008866021826850774,
          0.009060906022488258,
          0.009255790218125743,
          0.009450674413763228,
          0.009645558609400714,
          0.009840442805038199,
          0.010035327000675684,
          0.01023021119631317,
          0.010425095391950655,
          0.01061997958758814,
          0.010814863783225624,
          0.011009747978863109,
          0.011204632174500595,
          0.01139951637013808,
          0.011594400565775565,
          0.011789284761413051,
          0.011984168957050536,
          0.01217905315268802,
          0.012373937348325505,
          0.01256882154396299,
          0.012763705739600477,
          0.012958589935237961,
          0.013153474130875446,
          0.013348358326512932,
          0.013543242522150417,
          0.013738126717787902,
          0.013933010913425387,
          0.014127895109062871,
          0.014322779304700358,
          0.014517663500337842,
          0.014712547695975327,
          0.014907431891612814,
          0.015102316087250298,
          0.015297200282887783,
          0.015492084478525268,
          0.015686968674162752,
          0.015881852869800237,
          0.016076737065437722,
          0.01627162126107521,
          0.016466505456712695,
          0.01666138965235018,
          0.016856273847987664,
          0.01705115804362515,
          0.017246042239262634,
          0.01744092643490012,
          0.017635810630537607,
          0.01783069482617509,
          0.018025579021812576,
          0.01822046321745006,
          0.018415347413087545,
          0.01861023160872503,
          0.018805115804362515,
          0.019
         ],
         "xaxis": "x",
         "y": [
          6.801941926782865,
          7.826073836491913,
          8.972931857793574,
          10.251896325019468,
          11.672219578304862,
          13.242869506134577,
          14.972356438405008,
          16.868544955566506,
          18.93845278534839,
          21.188039581340384,
          23.621988998755917,
          26.243488081127396,
          29.05400852477253,
          32.05309487180898,
          35.238165073192555,
          38.60432913729125,
          42.14423171515255,
          45.84792445189155,
          49.70277373934017,
          53.693409127862864,
          57.80171709035074,
          62.00688408053114,
          66.285491899456,
          70.61166729408237,
          74.95728648307163,
          79.29223396689504,
          83.58471356772,
          87.8016082001367,
          91.90888344117826,
          95.8720285942077,
          99.65652767361611,
          103.22835162219462,
          106.55446215368212,
          109.60331692758255,
          112.34536534344107,
          114.75352411074267,
          116.80362192243089,
          118.4748030384588,
          119.74988036378437,
          120.61562966508822,
          121.06301788420674,
          121.08736003641144,
          120.68840088268476,
          119.87031938502706,
          118.64165583604463,
          117.01516343969189,
          115.0075879500235,
          112.63938069222768,
          109.93435184242881,
          106.91927218338553,
          103.62343264383982,
          100.0781717407438,
          96.31638155697145,
          92.37200309417416,
          88.27952174367371,
          84.07347323053614,
          79.78796972959057,
          75.45625495783536,
          71.11029595294902,
          66.78041799520477,
          62.494987766000385,
          58.28014840793969,
          54.1596087060207,
          50.15448719194484,
          46.28321062515627,
          42.56146506125907,
          39.002196611273966,
          35.61565804741956,
          32.40949663928572,
          29.388878017801485,
          26.556640465739488,
          23.913473818628763,
          21.458117119090062,
          19.187569286083164,
          17.097307319760052,
          15.18150694108686,
          13.433261039847812,
          11.844791851015005,
          10.407653373868833,
          9.112921167808274,
          7.951367282355973,
          6.913618687592857,
          5.990298149009798,
          5.172147024367078,
          4.450129939501991,
          3.815521718070385,
          3.2599772928050235,
          2.7755856115540434,
          2.3549087710239207,
          1.991007767698003,
          1.6774563533644995,
          1.4083445278229232,
          1.1782732002500809,
          0.9823415104835569,
          0.8161282293731283,
          0.675668560490001,
          0.557427550650874,
          0.4582711901581119,
          0.3754361509641794,
          0.30649897697638057
         ],
         "yaxis": "y"
        }
       ],
       "layout": {
        "legend": {
         "tracegroupgap": 0
        },
        "margin": {
         "t": 60
        },
        "template": {
         "data": {
          "bar": [
           {
            "error_x": {
             "color": "#2a3f5f"
            },
            "error_y": {
             "color": "#2a3f5f"
            },
            "marker": {
             "line": {
              "color": "#E5ECF6",
              "width": 0.5
             },
             "pattern": {
              "fillmode": "overlay",
              "size": 10,
              "solidity": 0.2
             }
            },
            "type": "bar"
           }
          ],
          "barpolar": [
           {
            "marker": {
             "line": {
              "color": "#E5ECF6",
              "width": 0.5
             },
             "pattern": {
              "fillmode": "overlay",
              "size": 10,
              "solidity": 0.2
             }
            },
            "type": "barpolar"
           }
          ],
          "carpet": [
           {
            "aaxis": {
             "endlinecolor": "#2a3f5f",
             "gridcolor": "white",
             "linecolor": "white",
             "minorgridcolor": "white",
             "startlinecolor": "#2a3f5f"
            },
            "baxis": {
             "endlinecolor": "#2a3f5f",
             "gridcolor": "white",
             "linecolor": "white",
             "minorgridcolor": "white",
             "startlinecolor": "#2a3f5f"
            },
            "type": "carpet"
           }
          ],
          "choropleth": [
           {
            "colorbar": {
             "outlinewidth": 0,
             "ticks": ""
            },
            "type": "choropleth"
           }
          ],
          "contour": [
           {
            "colorbar": {
             "outlinewidth": 0,
             "ticks": ""
            },
            "colorscale": [
             [
              0,
              "#0d0887"
             ],
             [
              0.1111111111111111,
              "#46039f"
             ],
             [
              0.2222222222222222,
              "#7201a8"
             ],
             [
              0.3333333333333333,
              "#9c179e"
             ],
             [
              0.4444444444444444,
              "#bd3786"
             ],
             [
              0.5555555555555556,
              "#d8576b"
             ],
             [
              0.6666666666666666,
              "#ed7953"
             ],
             [
              0.7777777777777778,
              "#fb9f3a"
             ],
             [
              0.8888888888888888,
              "#fdca26"
             ],
             [
              1,
              "#f0f921"
             ]
            ],
            "type": "contour"
           }
          ],
          "contourcarpet": [
           {
            "colorbar": {
             "outlinewidth": 0,
             "ticks": ""
            },
            "type": "contourcarpet"
           }
          ],
          "heatmap": [
           {
            "colorbar": {
             "outlinewidth": 0,
             "ticks": ""
            },
            "colorscale": [
             [
              0,
              "#0d0887"
             ],
             [
              0.1111111111111111,
              "#46039f"
             ],
             [
              0.2222222222222222,
              "#7201a8"
             ],
             [
              0.3333333333333333,
              "#9c179e"
             ],
             [
              0.4444444444444444,
              "#bd3786"
             ],
             [
              0.5555555555555556,
              "#d8576b"
             ],
             [
              0.6666666666666666,
              "#ed7953"
             ],
             [
              0.7777777777777778,
              "#fb9f3a"
             ],
             [
              0.8888888888888888,
              "#fdca26"
             ],
             [
              1,
              "#f0f921"
             ]
            ],
            "type": "heatmap"
           }
          ],
          "heatmapgl": [
           {
            "colorbar": {
             "outlinewidth": 0,
             "ticks": ""
            },
            "colorscale": [
             [
              0,
              "#0d0887"
             ],
             [
              0.1111111111111111,
              "#46039f"
             ],
             [
              0.2222222222222222,
              "#7201a8"
             ],
             [
              0.3333333333333333,
              "#9c179e"
             ],
             [
              0.4444444444444444,
              "#bd3786"
             ],
             [
              0.5555555555555556,
              "#d8576b"
             ],
             [
              0.6666666666666666,
              "#ed7953"
             ],
             [
              0.7777777777777778,
              "#fb9f3a"
             ],
             [
              0.8888888888888888,
              "#fdca26"
             ],
             [
              1,
              "#f0f921"
             ]
            ],
            "type": "heatmapgl"
           }
          ],
          "histogram": [
           {
            "marker": {
             "pattern": {
              "fillmode": "overlay",
              "size": 10,
              "solidity": 0.2
             }
            },
            "type": "histogram"
           }
          ],
          "histogram2d": [
           {
            "colorbar": {
             "outlinewidth": 0,
             "ticks": ""
            },
            "colorscale": [
             [
              0,
              "#0d0887"
             ],
             [
              0.1111111111111111,
              "#46039f"
             ],
             [
              0.2222222222222222,
              "#7201a8"
             ],
             [
              0.3333333333333333,
              "#9c179e"
             ],
             [
              0.4444444444444444,
              "#bd3786"
             ],
             [
              0.5555555555555556,
              "#d8576b"
             ],
             [
              0.6666666666666666,
              "#ed7953"
             ],
             [
              0.7777777777777778,
              "#fb9f3a"
             ],
             [
              0.8888888888888888,
              "#fdca26"
             ],
             [
              1,
              "#f0f921"
             ]
            ],
            "type": "histogram2d"
           }
          ],
          "histogram2dcontour": [
           {
            "colorbar": {
             "outlinewidth": 0,
             "ticks": ""
            },
            "colorscale": [
             [
              0,
              "#0d0887"
             ],
             [
              0.1111111111111111,
              "#46039f"
             ],
             [
              0.2222222222222222,
              "#7201a8"
             ],
             [
              0.3333333333333333,
              "#9c179e"
             ],
             [
              0.4444444444444444,
              "#bd3786"
             ],
             [
              0.5555555555555556,
              "#d8576b"
             ],
             [
              0.6666666666666666,
              "#ed7953"
             ],
             [
              0.7777777777777778,
              "#fb9f3a"
             ],
             [
              0.8888888888888888,
              "#fdca26"
             ],
             [
              1,
              "#f0f921"
             ]
            ],
            "type": "histogram2dcontour"
           }
          ],
          "mesh3d": [
           {
            "colorbar": {
             "outlinewidth": 0,
             "ticks": ""
            },
            "type": "mesh3d"
           }
          ],
          "parcoords": [
           {
            "line": {
             "colorbar": {
              "outlinewidth": 0,
              "ticks": ""
             }
            },
            "type": "parcoords"
           }
          ],
          "pie": [
           {
            "automargin": true,
            "type": "pie"
           }
          ],
          "scatter": [
           {
            "marker": {
             "colorbar": {
              "outlinewidth": 0,
              "ticks": ""
             }
            },
            "type": "scatter"
           }
          ],
          "scatter3d": [
           {
            "line": {
             "colorbar": {
              "outlinewidth": 0,
              "ticks": ""
             }
            },
            "marker": {
             "colorbar": {
              "outlinewidth": 0,
              "ticks": ""
             }
            },
            "type": "scatter3d"
           }
          ],
          "scattercarpet": [
           {
            "marker": {
             "colorbar": {
              "outlinewidth": 0,
              "ticks": ""
             }
            },
            "type": "scattercarpet"
           }
          ],
          "scattergeo": [
           {
            "marker": {
             "colorbar": {
              "outlinewidth": 0,
              "ticks": ""
             }
            },
            "type": "scattergeo"
           }
          ],
          "scattergl": [
           {
            "marker": {
             "colorbar": {
              "outlinewidth": 0,
              "ticks": ""
             }
            },
            "type": "scattergl"
           }
          ],
          "scattermapbox": [
           {
            "marker": {
             "colorbar": {
              "outlinewidth": 0,
              "ticks": ""
             }
            },
            "type": "scattermapbox"
           }
          ],
          "scatterpolar": [
           {
            "marker": {
             "colorbar": {
              "outlinewidth": 0,
              "ticks": ""
             }
            },
            "type": "scatterpolar"
           }
          ],
          "scatterpolargl": [
           {
            "marker": {
             "colorbar": {
              "outlinewidth": 0,
              "ticks": ""
             }
            },
            "type": "scatterpolargl"
           }
          ],
          "scatterternary": [
           {
            "marker": {
             "colorbar": {
              "outlinewidth": 0,
              "ticks": ""
             }
            },
            "type": "scatterternary"
           }
          ],
          "surface": [
           {
            "colorbar": {
             "outlinewidth": 0,
             "ticks": ""
            },
            "colorscale": [
             [
              0,
              "#0d0887"
             ],
             [
              0.1111111111111111,
              "#46039f"
             ],
             [
              0.2222222222222222,
              "#7201a8"
             ],
             [
              0.3333333333333333,
              "#9c179e"
             ],
             [
              0.4444444444444444,
              "#bd3786"
             ],
             [
              0.5555555555555556,
              "#d8576b"
             ],
             [
              0.6666666666666666,
              "#ed7953"
             ],
             [
              0.7777777777777778,
              "#fb9f3a"
             ],
             [
              0.8888888888888888,
              "#fdca26"
             ],
             [
              1,
              "#f0f921"
             ]
            ],
            "type": "surface"
           }
          ],
          "table": [
           {
            "cells": {
             "fill": {
              "color": "#EBF0F8"
             },
             "line": {
              "color": "white"
             }
            },
            "header": {
             "fill": {
              "color": "#C8D4E3"
             },
             "line": {
              "color": "white"
             }
            },
            "type": "table"
           }
          ]
         },
         "layout": {
          "annotationdefaults": {
           "arrowcolor": "#2a3f5f",
           "arrowhead": 0,
           "arrowwidth": 1
          },
          "autotypenumbers": "strict",
          "coloraxis": {
           "colorbar": {
            "outlinewidth": 0,
            "ticks": ""
           }
          },
          "colorscale": {
           "diverging": [
            [
             0,
             "#8e0152"
            ],
            [
             0.1,
             "#c51b7d"
            ],
            [
             0.2,
             "#de77ae"
            ],
            [
             0.3,
             "#f1b6da"
            ],
            [
             0.4,
             "#fde0ef"
            ],
            [
             0.5,
             "#f7f7f7"
            ],
            [
             0.6,
             "#e6f5d0"
            ],
            [
             0.7,
             "#b8e186"
            ],
            [
             0.8,
             "#7fbc41"
            ],
            [
             0.9,
             "#4d9221"
            ],
            [
             1,
             "#276419"
            ]
           ],
           "sequential": [
            [
             0,
             "#0d0887"
            ],
            [
             0.1111111111111111,
             "#46039f"
            ],
            [
             0.2222222222222222,
             "#7201a8"
            ],
            [
             0.3333333333333333,
             "#9c179e"
            ],
            [
             0.4444444444444444,
             "#bd3786"
            ],
            [
             0.5555555555555556,
             "#d8576b"
            ],
            [
             0.6666666666666666,
             "#ed7953"
            ],
            [
             0.7777777777777778,
             "#fb9f3a"
            ],
            [
             0.8888888888888888,
             "#fdca26"
            ],
            [
             1,
             "#f0f921"
            ]
           ],
           "sequentialminus": [
            [
             0,
             "#0d0887"
            ],
            [
             0.1111111111111111,
             "#46039f"
            ],
            [
             0.2222222222222222,
             "#7201a8"
            ],
            [
             0.3333333333333333,
             "#9c179e"
            ],
            [
             0.4444444444444444,
             "#bd3786"
            ],
            [
             0.5555555555555556,
             "#d8576b"
            ],
            [
             0.6666666666666666,
             "#ed7953"
            ],
            [
             0.7777777777777778,
             "#fb9f3a"
            ],
            [
             0.8888888888888888,
             "#fdca26"
            ],
            [
             1,
             "#f0f921"
            ]
           ]
          },
          "colorway": [
           "#636efa",
           "#EF553B",
           "#00cc96",
           "#ab63fa",
           "#FFA15A",
           "#19d3f3",
           "#FF6692",
           "#B6E880",
           "#FF97FF",
           "#FECB52"
          ],
          "font": {
           "color": "#2a3f5f"
          },
          "geo": {
           "bgcolor": "white",
           "lakecolor": "white",
           "landcolor": "#E5ECF6",
           "showlakes": true,
           "showland": true,
           "subunitcolor": "white"
          },
          "hoverlabel": {
           "align": "left"
          },
          "hovermode": "closest",
          "mapbox": {
           "style": "light"
          },
          "paper_bgcolor": "white",
          "plot_bgcolor": "#E5ECF6",
          "polar": {
           "angularaxis": {
            "gridcolor": "white",
            "linecolor": "white",
            "ticks": ""
           },
           "bgcolor": "#E5ECF6",
           "radialaxis": {
            "gridcolor": "white",
            "linecolor": "white",
            "ticks": ""
           }
          },
          "scene": {
           "xaxis": {
            "backgroundcolor": "#E5ECF6",
            "gridcolor": "white",
            "gridwidth": 2,
            "linecolor": "white",
            "showbackground": true,
            "ticks": "",
            "zerolinecolor": "white"
           },
           "yaxis": {
            "backgroundcolor": "#E5ECF6",
            "gridcolor": "white",
            "gridwidth": 2,
            "linecolor": "white",
            "showbackground": true,
            "ticks": "",
            "zerolinecolor": "white"
           },
           "zaxis": {
            "backgroundcolor": "#E5ECF6",
            "gridcolor": "white",
            "gridwidth": 2,
            "linecolor": "white",
            "showbackground": true,
            "ticks": "",
            "zerolinecolor": "white"
           }
          },
          "shapedefaults": {
           "line": {
            "color": "#2a3f5f"
           }
          },
          "ternary": {
           "aaxis": {
            "gridcolor": "white",
            "linecolor": "white",
            "ticks": ""
           },
           "baxis": {
            "gridcolor": "white",
            "linecolor": "white",
            "ticks": ""
           },
           "bgcolor": "#E5ECF6",
           "caxis": {
            "gridcolor": "white",
            "linecolor": "white",
            "ticks": ""
           }
          },
          "title": {
           "x": 0.05
          },
          "xaxis": {
           "automargin": true,
           "gridcolor": "white",
           "linecolor": "white",
           "ticks": "",
           "title": {
            "standoff": 15
           },
           "zerolinecolor": "white",
           "zerolinewidth": 2
          },
          "yaxis": {
           "automargin": true,
           "gridcolor": "white",
           "linecolor": "white",
           "ticks": "",
           "title": {
            "standoff": 15
           },
           "zerolinecolor": "white",
           "zerolinewidth": 2
          }
         }
        },
        "xaxis": {
         "anchor": "y",
         "domain": [
          0,
          1
         ],
         "title": {
          "text": "x"
         }
        },
        "yaxis": {
         "anchor": "x",
         "domain": [
          0,
          1
         ],
         "title": {
          "text": "y"
         }
        }
       }
      }
     },
     "metadata": {},
     "output_type": "display_data"
    }
   ],
   "source": [
    "mean = df_no2.iloc[:,2].mean()\n",
    "std = df_no2.iloc[:,2].std()\n",
    "min = df_no2.iloc[:,2].min()\n",
    "max = df_no2.iloc[:,2].max()\n",
    "show_norm(mean,std,min,max)"
   ]
  },
  {
   "cell_type": "markdown",
   "metadata": {},
   "source": [
    "### 부산광역시 이산화질소 누적확률 구하기"
   ]
  },
  {
   "cell_type": "code",
   "execution_count": 432,
   "metadata": {},
   "outputs": [
    {
     "data": {
      "application/vnd.plotly.v1+json": {
       "config": {
        "plotlyServerURL": "https://plot.ly"
       },
       "data": [
        {
         "fill": "tozeroy",
         "line": {
          "color": "rgb(100,110,250)"
         },
         "name": "적합",
         "text": "0.7579343076402061",
         "type": "scatter",
         "x": [
          -0.0002935353681110288,
          -0.00018956026338263457,
          -0.00008558515865424033,
          0.000018389946074153917,
          0.00012236505080254813,
          0.0002263401555309424,
          0.0003303152602593366,
          0.00043429036498773084,
          0.0005382654697161251,
          0.0006422405744445193,
          0.0007462156791729136,
          0.0008501907839013078,
          0.000954165888629702,
          0.0010581409933580962,
          0.0011621160980864905,
          0.0012660912028148847,
          0.001370066307543279,
          0.0014740414122716731,
          0.0015780165170000673,
          0.0016819916217284616,
          0.001785966726456856,
          0.00188994183118525,
          0.0019939169359136444,
          0.0020978920406420384,
          0.002201867145370433,
          0.002305842250098827,
          0.0024098173548272213,
          0.0025137924595556153,
          0.0026177675642840097,
          0.0027217426690124037,
          0.002825717773740798,
          0.002929692878469192,
          0.0030336679831975866,
          0.003137643087925981,
          0.003241618192654375,
          0.0033455932973827695,
          0.0034495684021111635,
          0.003553543506839558,
          0.003657518611567952,
          0.0037614937162963463,
          0.0038654688210247408,
          0.003969443925753134,
          0.004073419030481529,
          0.004177394135209923,
          0.004281369239938318,
          0.004385344344666711,
          0.004489319449395106,
          0.0045932945541235,
          0.0046972696588518945,
          0.004801244763580289,
          0.0049052198683086825,
          0.005009194973037077,
          0.005113170077765471,
          0.005217145182493866,
          0.005321120287222259,
          0.005425095391950654,
          0.005529070496679048,
          0.005633045601407443,
          0.005737020706135836,
          0.005840995810864231,
          0.005944970915592625,
          0.0060489460203210195,
          0.006152921125049413,
          0.0062568962297778075,
          0.006360871334506202,
          0.006464846439234596,
          0.006568821543962991,
          0.006672796648691384,
          0.006776771753419779,
          0.006880746858148173,
          0.006984721962876568,
          0.007088697067604961,
          0.007192672172333356,
          0.00729664727706175,
          0.007400622381790145,
          0.007504597486518538,
          0.007608572591246933,
          0.007712547695975326,
          0.007816522800703721,
          0.007920497905432115,
          0.00802447301016051,
          0.008128448114888904,
          0.008232423219617297,
          0.008336398324345693,
          0.008440373429074086,
          0.008544348533802482,
          0.008648323638530875,
          0.008752298743259269,
          0.008856273847987664,
          0.008960248952716058,
          0.009064224057444451,
          0.009168199162172846,
          0.00927217426690124,
          0.009376149371629635,
          0.009480124476358029,
          0.009584099581086422,
          0.009688074685814818,
          0.009792049790543211,
          0.009896024895271607,
          0.01
         ],
         "y": [
          6.801941926782865,
          7.3336392080086235,
          7.899022114721165,
          8.499517808405075,
          9.136553794407304,
          9.811552048102575,
          10.525922726418269,
          11.281057472610586,
          12.078322325709367,
          12.91905024973985,
          13.804533301664927,
          14.736014460945501,
          15.714679147660698,
          16.741646460234215,
          17.817960167941873,
          18.944579497494743,
          20.12236975706042,
          21.352092845063197,
          22.634397694949122,
          23.96981071076853,
          25.358726251874565,
          26.801397228212924,
          28.29792587054231,
          29.848254742430868,
          31.452158062976718,
          33.109233410859424,
          34.81889388150271,
          36.58036076977841,
          38.3926568507761,
          40.25460033066789,
          42.164799538590216,
          44.12164842872198,
          46.12332295934525,
          48.16777841261991,
          50.25274771508778,
          52.37574081453995,
          54.53404516385265,
          56.72472735673068,
          58.944635954021244,
          61.1904055324074,
          63.458461979893045,
          65.74502905460163,
          68.04613621507649,
          70.35762772155407,
          72.67517299864451,
          74.99427824057138,
          77.31029923066583,
          79.61845533726283,
          81.91384463859228,
          84.19146011977992,
          86.44620687576425,
          88.67292024488306,
          90.86638478917742,
          93.02135402919149,
          95.13257083329948,
          97.1947883544509,
          99.20279140077065,
          101.15141812076075,
          103.03558187898817,
          104.850293194177,
          106.59068160860464,
          108.25201735567724,
          109.82973269156865,
          111.3194427568742,
          112.71696583537576,
          114.01834287924498,
          115.21985617331943,
          116.31804701546397,
          117.30973229544365,
          118.192019861155,
          118.96232256843986,
          119.6183709189821,
          120.15822419990053,
          120.58028004852015,
          120.88328237635105,
          121.06632759743407,
          121.12886911783104,
          121.0707200550415,
          120.89205416841051,
          120.59340499404487,
          120.17566319026558,
          119.6400721120804,
          118.98822164545221,
          118.22204034415418,
          117.34378592363765,
          116.3560341774881,
          115.26166639261434,
          114.06385534921122,
          112.76605000067768,
          111.37195893698063,
          109.88553274236547,
          108.31094536477018,
          106.65257461975277,
          104.91498195615479,
          103.10289161407437,
          101.22116930798893,
          99.27480056905382,
          97.26886888070932,
          95.20853374077423,
          93.09900878121897
         ]
        },
        {
         "fill": "tozeroy",
         "line": {
          "color": "rgb(239,85,59)"
         },
         "name": "부적합",
         "text": "0.7579343076402061",
         "type": "scatter",
         "x": [
          0.01,
          0.010090909090909091,
          0.010181818181818183,
          0.010272727272727274,
          0.010363636363636363,
          0.010454545454545454,
          0.010545454545454545,
          0.010636363636363637,
          0.010727272727272728,
          0.010818181818181819,
          0.01090909090909091,
          0.011,
          0.01109090909090909,
          0.011181818181818182,
          0.011272727272727273,
          0.011363636363636364,
          0.011454545454545455,
          0.011545454545454546,
          0.011636363636363636,
          0.011727272727272727,
          0.011818181818181818,
          0.011909090909090909,
          0.012,
          0.012090909090909091,
          0.012181818181818183,
          0.012272727272727272,
          0.012363636363636363,
          0.012454545454545454,
          0.012545454545454545,
          0.012636363636363637,
          0.012727272727272728,
          0.012818181818181819,
          0.012909090909090908,
          0.013,
          0.01309090909090909,
          0.013181818181818182,
          0.013272727272727273,
          0.013363636363636364,
          0.013454545454545455,
          0.013545454545454545,
          0.013636363636363637,
          0.013727272727272727,
          0.013818181818181818,
          0.01390909090909091,
          0.014,
          0.014090909090909091,
          0.01418181818181818,
          0.014272727272727274,
          0.014363636363636363,
          0.014454545454545454,
          0.014545454545454545,
          0.014636363636363637,
          0.014727272727272728,
          0.014818181818181817,
          0.01490909090909091,
          0.015,
          0.01509090909090909,
          0.015181818181818182,
          0.015272727272727273,
          0.015363636363636364,
          0.015454545454545453,
          0.015545454545454546,
          0.015636363636363636,
          0.01572727272727273,
          0.015818181818181818,
          0.015909090909090907,
          0.016,
          0.01609090909090909,
          0.016181818181818183,
          0.016272727272727272,
          0.016363636363636365,
          0.016454545454545454,
          0.016545454545454544,
          0.016636363636363637,
          0.016727272727272726,
          0.01681818181818182,
          0.01690909090909091,
          0.017,
          0.01709090909090909,
          0.01718181818181818,
          0.017272727272727273,
          0.017363636363636362,
          0.017454545454545455,
          0.017545454545454545,
          0.017636363636363638,
          0.017727272727272727,
          0.017818181818181816,
          0.01790909090909091,
          0.018000000000000002,
          0.018090909090909088,
          0.01818181818181818,
          0.018272727272727274,
          0.018363636363636363,
          0.018454545454545453,
          0.018545454545454546,
          0.01863636363636364,
          0.018727272727272724,
          0.018818181818181817,
          0.01890909090909091,
          0.019
         ],
         "y": [
          93.09900878121897,
          91.21838901972758,
          89.30768997574613,
          87.37042158255433,
          85.41007901035576,
          83.43013245669383,
          81.43401725608138,
          79.42512434634976,
          77.40679112649096,
          75.3822927378845,
          73.35483379779984,
          71.32754061096057,
          69.30345388177957,
          67.28552194664155,
          65.27659454234885,
          63.27941712357865,
          61.296625738947654,
          59.33074247206476,
          57.38417145079551,
          55.459195424881095,
          53.55797290907154,
          51.68253588605869,
          49.83478806075326,
          48.01650365484802,
          46.22932672816397,
          44.47477101099731,
          42.75422022958097,
          41.06892890485583,
          39.420023603014954,
          37.80850461475016,
          36.235248038790004,
          34.701008244179405,
          33.20642068480755,
          31.75200503894626,
          30.338168646008402,
          28.965210212372167,
          27.633323757937998,
          26.34260277508071,
          25.093044571825367,
          23.884554771400932,
          22.716951940801593,
          21.58997232160339,
          20.50327463702835,
          19.456444950115966,
          18.44900154883141,
          17.480399835009013,
          16.550037195179286,
          15.657257832550517,
          14.801357540697815,
          13.981588400841654,
          13.197163385966007,
          12.447260856416253,
          11.731028933025769,
          11.047589735230204,
          10.396043473036277,
          9.775472383103796,
          9.184944500569577,
          8.623517259582663,
          8.090240916821234,
          7.584161793521185,
          7.104325332754597,
          6.649778969850678,
          6.2195748149473244,
          5.812772147693884,
          5.428439725093491,
          5.065657904372653,
          4.723520583596575,
          4.401136963508452,
          4.097633134760491,
          3.812153495323562,
          3.5438620034106134,
          3.291943271729963,
          3.0556035092965153,
          2.834071317377263,
          2.626598346431345,
          2.43245982112901,
          2.2509549407004568,
          2.0814071619767733,
          1.9231643725461516,
          1.7755989614604628,
          1.6381077948957072,
          1.5101121040965488,
          1.3910572928248388,
          1.2804126713880886,
          1.1776711241491526,
          1.082348717217589,
          0.9939842527984409,
          0.9121387764300048,
          0.8363950430807484,
          0.7663569478006491,
          0.7016489263364883,
          0.6419153308268677,
          0.586819785393324,
          0.5360445261418203,
          0.4892897297856833,
          0.4462728347992964,
          0.40672785871313083,
          0.370404714866817,
          0.3370685316494608,
          0.30649897697638057
         ]
        }
       ],
       "layout": {
        "annotations": [
         {
          "bordercolor": "rgb(100,110,250)",
          "borderwidth": 2,
          "font": {
           "color": "rgb(100,110,250)",
           "size": 15
          },
          "showarrow": false,
          "text": "0.758",
          "x": 0.01,
          "xshift": -40,
          "y": 93.09900878121897,
          "yshift": -100
         },
         {
          "bordercolor": "rgb(239,85,59)",
          "borderwidth": 2,
          "font": {
           "color": "rgb(239,85,59)",
           "size": 15
          },
          "showarrow": false,
          "text": "0.242",
          "x": 0.01,
          "xshift": 40,
          "y": 93.09900878121897,
          "yshift": -100
         }
        ],
        "template": {
         "data": {
          "bar": [
           {
            "error_x": {
             "color": "#2a3f5f"
            },
            "error_y": {
             "color": "#2a3f5f"
            },
            "marker": {
             "line": {
              "color": "#E5ECF6",
              "width": 0.5
             },
             "pattern": {
              "fillmode": "overlay",
              "size": 10,
              "solidity": 0.2
             }
            },
            "type": "bar"
           }
          ],
          "barpolar": [
           {
            "marker": {
             "line": {
              "color": "#E5ECF6",
              "width": 0.5
             },
             "pattern": {
              "fillmode": "overlay",
              "size": 10,
              "solidity": 0.2
             }
            },
            "type": "barpolar"
           }
          ],
          "carpet": [
           {
            "aaxis": {
             "endlinecolor": "#2a3f5f",
             "gridcolor": "white",
             "linecolor": "white",
             "minorgridcolor": "white",
             "startlinecolor": "#2a3f5f"
            },
            "baxis": {
             "endlinecolor": "#2a3f5f",
             "gridcolor": "white",
             "linecolor": "white",
             "minorgridcolor": "white",
             "startlinecolor": "#2a3f5f"
            },
            "type": "carpet"
           }
          ],
          "choropleth": [
           {
            "colorbar": {
             "outlinewidth": 0,
             "ticks": ""
            },
            "type": "choropleth"
           }
          ],
          "contour": [
           {
            "colorbar": {
             "outlinewidth": 0,
             "ticks": ""
            },
            "colorscale": [
             [
              0,
              "#0d0887"
             ],
             [
              0.1111111111111111,
              "#46039f"
             ],
             [
              0.2222222222222222,
              "#7201a8"
             ],
             [
              0.3333333333333333,
              "#9c179e"
             ],
             [
              0.4444444444444444,
              "#bd3786"
             ],
             [
              0.5555555555555556,
              "#d8576b"
             ],
             [
              0.6666666666666666,
              "#ed7953"
             ],
             [
              0.7777777777777778,
              "#fb9f3a"
             ],
             [
              0.8888888888888888,
              "#fdca26"
             ],
             [
              1,
              "#f0f921"
             ]
            ],
            "type": "contour"
           }
          ],
          "contourcarpet": [
           {
            "colorbar": {
             "outlinewidth": 0,
             "ticks": ""
            },
            "type": "contourcarpet"
           }
          ],
          "heatmap": [
           {
            "colorbar": {
             "outlinewidth": 0,
             "ticks": ""
            },
            "colorscale": [
             [
              0,
              "#0d0887"
             ],
             [
              0.1111111111111111,
              "#46039f"
             ],
             [
              0.2222222222222222,
              "#7201a8"
             ],
             [
              0.3333333333333333,
              "#9c179e"
             ],
             [
              0.4444444444444444,
              "#bd3786"
             ],
             [
              0.5555555555555556,
              "#d8576b"
             ],
             [
              0.6666666666666666,
              "#ed7953"
             ],
             [
              0.7777777777777778,
              "#fb9f3a"
             ],
             [
              0.8888888888888888,
              "#fdca26"
             ],
             [
              1,
              "#f0f921"
             ]
            ],
            "type": "heatmap"
           }
          ],
          "heatmapgl": [
           {
            "colorbar": {
             "outlinewidth": 0,
             "ticks": ""
            },
            "colorscale": [
             [
              0,
              "#0d0887"
             ],
             [
              0.1111111111111111,
              "#46039f"
             ],
             [
              0.2222222222222222,
              "#7201a8"
             ],
             [
              0.3333333333333333,
              "#9c179e"
             ],
             [
              0.4444444444444444,
              "#bd3786"
             ],
             [
              0.5555555555555556,
              "#d8576b"
             ],
             [
              0.6666666666666666,
              "#ed7953"
             ],
             [
              0.7777777777777778,
              "#fb9f3a"
             ],
             [
              0.8888888888888888,
              "#fdca26"
             ],
             [
              1,
              "#f0f921"
             ]
            ],
            "type": "heatmapgl"
           }
          ],
          "histogram": [
           {
            "marker": {
             "pattern": {
              "fillmode": "overlay",
              "size": 10,
              "solidity": 0.2
             }
            },
            "type": "histogram"
           }
          ],
          "histogram2d": [
           {
            "colorbar": {
             "outlinewidth": 0,
             "ticks": ""
            },
            "colorscale": [
             [
              0,
              "#0d0887"
             ],
             [
              0.1111111111111111,
              "#46039f"
             ],
             [
              0.2222222222222222,
              "#7201a8"
             ],
             [
              0.3333333333333333,
              "#9c179e"
             ],
             [
              0.4444444444444444,
              "#bd3786"
             ],
             [
              0.5555555555555556,
              "#d8576b"
             ],
             [
              0.6666666666666666,
              "#ed7953"
             ],
             [
              0.7777777777777778,
              "#fb9f3a"
             ],
             [
              0.8888888888888888,
              "#fdca26"
             ],
             [
              1,
              "#f0f921"
             ]
            ],
            "type": "histogram2d"
           }
          ],
          "histogram2dcontour": [
           {
            "colorbar": {
             "outlinewidth": 0,
             "ticks": ""
            },
            "colorscale": [
             [
              0,
              "#0d0887"
             ],
             [
              0.1111111111111111,
              "#46039f"
             ],
             [
              0.2222222222222222,
              "#7201a8"
             ],
             [
              0.3333333333333333,
              "#9c179e"
             ],
             [
              0.4444444444444444,
              "#bd3786"
             ],
             [
              0.5555555555555556,
              "#d8576b"
             ],
             [
              0.6666666666666666,
              "#ed7953"
             ],
             [
              0.7777777777777778,
              "#fb9f3a"
             ],
             [
              0.8888888888888888,
              "#fdca26"
             ],
             [
              1,
              "#f0f921"
             ]
            ],
            "type": "histogram2dcontour"
           }
          ],
          "mesh3d": [
           {
            "colorbar": {
             "outlinewidth": 0,
             "ticks": ""
            },
            "type": "mesh3d"
           }
          ],
          "parcoords": [
           {
            "line": {
             "colorbar": {
              "outlinewidth": 0,
              "ticks": ""
             }
            },
            "type": "parcoords"
           }
          ],
          "pie": [
           {
            "automargin": true,
            "type": "pie"
           }
          ],
          "scatter": [
           {
            "marker": {
             "colorbar": {
              "outlinewidth": 0,
              "ticks": ""
             }
            },
            "type": "scatter"
           }
          ],
          "scatter3d": [
           {
            "line": {
             "colorbar": {
              "outlinewidth": 0,
              "ticks": ""
             }
            },
            "marker": {
             "colorbar": {
              "outlinewidth": 0,
              "ticks": ""
             }
            },
            "type": "scatter3d"
           }
          ],
          "scattercarpet": [
           {
            "marker": {
             "colorbar": {
              "outlinewidth": 0,
              "ticks": ""
             }
            },
            "type": "scattercarpet"
           }
          ],
          "scattergeo": [
           {
            "marker": {
             "colorbar": {
              "outlinewidth": 0,
              "ticks": ""
             }
            },
            "type": "scattergeo"
           }
          ],
          "scattergl": [
           {
            "marker": {
             "colorbar": {
              "outlinewidth": 0,
              "ticks": ""
             }
            },
            "type": "scattergl"
           }
          ],
          "scattermapbox": [
           {
            "marker": {
             "colorbar": {
              "outlinewidth": 0,
              "ticks": ""
             }
            },
            "type": "scattermapbox"
           }
          ],
          "scatterpolar": [
           {
            "marker": {
             "colorbar": {
              "outlinewidth": 0,
              "ticks": ""
             }
            },
            "type": "scatterpolar"
           }
          ],
          "scatterpolargl": [
           {
            "marker": {
             "colorbar": {
              "outlinewidth": 0,
              "ticks": ""
             }
            },
            "type": "scatterpolargl"
           }
          ],
          "scatterternary": [
           {
            "marker": {
             "colorbar": {
              "outlinewidth": 0,
              "ticks": ""
             }
            },
            "type": "scatterternary"
           }
          ],
          "surface": [
           {
            "colorbar": {
             "outlinewidth": 0,
             "ticks": ""
            },
            "colorscale": [
             [
              0,
              "#0d0887"
             ],
             [
              0.1111111111111111,
              "#46039f"
             ],
             [
              0.2222222222222222,
              "#7201a8"
             ],
             [
              0.3333333333333333,
              "#9c179e"
             ],
             [
              0.4444444444444444,
              "#bd3786"
             ],
             [
              0.5555555555555556,
              "#d8576b"
             ],
             [
              0.6666666666666666,
              "#ed7953"
             ],
             [
              0.7777777777777778,
              "#fb9f3a"
             ],
             [
              0.8888888888888888,
              "#fdca26"
             ],
             [
              1,
              "#f0f921"
             ]
            ],
            "type": "surface"
           }
          ],
          "table": [
           {
            "cells": {
             "fill": {
              "color": "#EBF0F8"
             },
             "line": {
              "color": "white"
             }
            },
            "header": {
             "fill": {
              "color": "#C8D4E3"
             },
             "line": {
              "color": "white"
             }
            },
            "type": "table"
           }
          ]
         },
         "layout": {
          "annotationdefaults": {
           "arrowcolor": "#2a3f5f",
           "arrowhead": 0,
           "arrowwidth": 1
          },
          "autotypenumbers": "strict",
          "coloraxis": {
           "colorbar": {
            "outlinewidth": 0,
            "ticks": ""
           }
          },
          "colorscale": {
           "diverging": [
            [
             0,
             "#8e0152"
            ],
            [
             0.1,
             "#c51b7d"
            ],
            [
             0.2,
             "#de77ae"
            ],
            [
             0.3,
             "#f1b6da"
            ],
            [
             0.4,
             "#fde0ef"
            ],
            [
             0.5,
             "#f7f7f7"
            ],
            [
             0.6,
             "#e6f5d0"
            ],
            [
             0.7,
             "#b8e186"
            ],
            [
             0.8,
             "#7fbc41"
            ],
            [
             0.9,
             "#4d9221"
            ],
            [
             1,
             "#276419"
            ]
           ],
           "sequential": [
            [
             0,
             "#0d0887"
            ],
            [
             0.1111111111111111,
             "#46039f"
            ],
            [
             0.2222222222222222,
             "#7201a8"
            ],
            [
             0.3333333333333333,
             "#9c179e"
            ],
            [
             0.4444444444444444,
             "#bd3786"
            ],
            [
             0.5555555555555556,
             "#d8576b"
            ],
            [
             0.6666666666666666,
             "#ed7953"
            ],
            [
             0.7777777777777778,
             "#fb9f3a"
            ],
            [
             0.8888888888888888,
             "#fdca26"
            ],
            [
             1,
             "#f0f921"
            ]
           ],
           "sequentialminus": [
            [
             0,
             "#0d0887"
            ],
            [
             0.1111111111111111,
             "#46039f"
            ],
            [
             0.2222222222222222,
             "#7201a8"
            ],
            [
             0.3333333333333333,
             "#9c179e"
            ],
            [
             0.4444444444444444,
             "#bd3786"
            ],
            [
             0.5555555555555556,
             "#d8576b"
            ],
            [
             0.6666666666666666,
             "#ed7953"
            ],
            [
             0.7777777777777778,
             "#fb9f3a"
            ],
            [
             0.8888888888888888,
             "#fdca26"
            ],
            [
             1,
             "#f0f921"
            ]
           ]
          },
          "colorway": [
           "#636efa",
           "#EF553B",
           "#00cc96",
           "#ab63fa",
           "#FFA15A",
           "#19d3f3",
           "#FF6692",
           "#B6E880",
           "#FF97FF",
           "#FECB52"
          ],
          "font": {
           "color": "#2a3f5f"
          },
          "geo": {
           "bgcolor": "white",
           "lakecolor": "white",
           "landcolor": "#E5ECF6",
           "showlakes": true,
           "showland": true,
           "subunitcolor": "white"
          },
          "hoverlabel": {
           "align": "left"
          },
          "hovermode": "closest",
          "mapbox": {
           "style": "light"
          },
          "paper_bgcolor": "white",
          "plot_bgcolor": "#E5ECF6",
          "polar": {
           "angularaxis": {
            "gridcolor": "white",
            "linecolor": "white",
            "ticks": ""
           },
           "bgcolor": "#E5ECF6",
           "radialaxis": {
            "gridcolor": "white",
            "linecolor": "white",
            "ticks": ""
           }
          },
          "scene": {
           "xaxis": {
            "backgroundcolor": "#E5ECF6",
            "gridcolor": "white",
            "gridwidth": 2,
            "linecolor": "white",
            "showbackground": true,
            "ticks": "",
            "zerolinecolor": "white"
           },
           "yaxis": {
            "backgroundcolor": "#E5ECF6",
            "gridcolor": "white",
            "gridwidth": 2,
            "linecolor": "white",
            "showbackground": true,
            "ticks": "",
            "zerolinecolor": "white"
           },
           "zaxis": {
            "backgroundcolor": "#E5ECF6",
            "gridcolor": "white",
            "gridwidth": 2,
            "linecolor": "white",
            "showbackground": true,
            "ticks": "",
            "zerolinecolor": "white"
           }
          },
          "shapedefaults": {
           "line": {
            "color": "#2a3f5f"
           }
          },
          "ternary": {
           "aaxis": {
            "gridcolor": "white",
            "linecolor": "white",
            "ticks": ""
           },
           "baxis": {
            "gridcolor": "white",
            "linecolor": "white",
            "ticks": ""
           },
           "bgcolor": "#E5ECF6",
           "caxis": {
            "gridcolor": "white",
            "linecolor": "white",
            "ticks": ""
           }
          },
          "title": {
           "x": 0.05
          },
          "xaxis": {
           "automargin": true,
           "gridcolor": "white",
           "linecolor": "white",
           "ticks": "",
           "title": {
            "standoff": 15
           },
           "zerolinecolor": "white",
           "zerolinewidth": 2
          },
          "yaxis": {
           "automargin": true,
           "gridcolor": "white",
           "linecolor": "white",
           "ticks": "",
           "title": {
            "standoff": 15
           },
           "zerolinecolor": "white",
           "zerolinewidth": 2
          }
         }
        }
       }
      }
     },
     "metadata": {},
     "output_type": "display_data"
    }
   ],
   "source": [
    "busan_no2 = df_no2[df_no2['구분(2)']=='부산광역시'].loc[2,'2021.07']\n",
    "no2_pro = cal_norm(mean,std,min,max,busan_no2)"
   ]
  },
  {
   "cell_type": "markdown",
   "metadata": {
    "collapsed": false
   },
   "source": [
    "### 일산화탄소 월별 데이터 불러오기"
   ]
  },
  {
   "cell_type": "code",
   "execution_count": 433,
   "metadata": {
    "collapsed": false,
    "pycharm": {
     "name": "#%%\n"
    }
   },
   "outputs": [
    {
     "data": {
      "text/html": [
       "<div>\n",
       "<style scoped>\n",
       "    .dataframe tbody tr th:only-of-type {\n",
       "        vertical-align: middle;\n",
       "    }\n",
       "\n",
       "    .dataframe tbody tr th {\n",
       "        vertical-align: top;\n",
       "    }\n",
       "\n",
       "    .dataframe thead th {\n",
       "        text-align: right;\n",
       "    }\n",
       "</style>\n",
       "<table border=\"1\" class=\"dataframe\">\n",
       "  <thead>\n",
       "    <tr style=\"text-align: right;\">\n",
       "      <th></th>\n",
       "      <th>구분(1)</th>\n",
       "      <th>구분(2)</th>\n",
       "      <th>2021.02</th>\n",
       "      <th>2021.03</th>\n",
       "      <th>2021.04</th>\n",
       "      <th>2021.05</th>\n",
       "      <th>2021.06</th>\n",
       "      <th>2021.07</th>\n",
       "    </tr>\n",
       "  </thead>\n",
       "  <tbody>\n",
       "    <tr>\n",
       "      <th>0</th>\n",
       "      <td>총계</td>\n",
       "      <td>소계</td>\n",
       "      <td>0.5</td>\n",
       "      <td>0.5</td>\n",
       "      <td>0.4</td>\n",
       "      <td>0.4</td>\n",
       "      <td>0.4</td>\n",
       "      <td>0.3</td>\n",
       "    </tr>\n",
       "    <tr>\n",
       "      <th>1</th>\n",
       "      <td>서울특별시</td>\n",
       "      <td>서울특별시</td>\n",
       "      <td>0.6</td>\n",
       "      <td>0.5</td>\n",
       "      <td>0.4</td>\n",
       "      <td>0.4</td>\n",
       "      <td>0.4</td>\n",
       "      <td>0.3</td>\n",
       "    </tr>\n",
       "    <tr>\n",
       "      <th>2</th>\n",
       "      <td>부산광역시</td>\n",
       "      <td>부산광역시</td>\n",
       "      <td>0.4</td>\n",
       "      <td>0.4</td>\n",
       "      <td>0.3</td>\n",
       "      <td>0.3</td>\n",
       "      <td>0.3</td>\n",
       "      <td>0.2</td>\n",
       "    </tr>\n",
       "    <tr>\n",
       "      <th>3</th>\n",
       "      <td>대구광역시</td>\n",
       "      <td>대구광역시</td>\n",
       "      <td>0.5</td>\n",
       "      <td>0.4</td>\n",
       "      <td>0.3</td>\n",
       "      <td>0.4</td>\n",
       "      <td>0.4</td>\n",
       "      <td>0.3</td>\n",
       "    </tr>\n",
       "    <tr>\n",
       "      <th>4</th>\n",
       "      <td>인천광역시</td>\n",
       "      <td>인천광역시</td>\n",
       "      <td>0.6</td>\n",
       "      <td>0.6</td>\n",
       "      <td>0.4</td>\n",
       "      <td>0.4</td>\n",
       "      <td>0.4</td>\n",
       "      <td>0.4</td>\n",
       "    </tr>\n",
       "    <tr>\n",
       "      <th>...</th>\n",
       "      <td>...</td>\n",
       "      <td>...</td>\n",
       "      <td>...</td>\n",
       "      <td>...</td>\n",
       "      <td>...</td>\n",
       "      <td>...</td>\n",
       "      <td>...</td>\n",
       "      <td>...</td>\n",
       "    </tr>\n",
       "    <tr>\n",
       "      <th>167</th>\n",
       "      <td>경상남도</td>\n",
       "      <td>합천</td>\n",
       "      <td>0.4</td>\n",
       "      <td>0.3</td>\n",
       "      <td>0.3</td>\n",
       "      <td>0.3</td>\n",
       "      <td>0.3</td>\n",
       "      <td>0.2**</td>\n",
       "    </tr>\n",
       "    <tr>\n",
       "      <th>168</th>\n",
       "      <td>경상남도</td>\n",
       "      <td>도평균</td>\n",
       "      <td>0.5</td>\n",
       "      <td>0.4</td>\n",
       "      <td>0.4</td>\n",
       "      <td>0.4</td>\n",
       "      <td>0.4</td>\n",
       "      <td>0.3</td>\n",
       "    </tr>\n",
       "    <tr>\n",
       "      <th>169</th>\n",
       "      <td>제주특별자치도</td>\n",
       "      <td>제주특별자치도</td>\n",
       "      <td>0.3</td>\n",
       "      <td>0.3</td>\n",
       "      <td>0.3</td>\n",
       "      <td>0.3</td>\n",
       "      <td>0.3</td>\n",
       "      <td>0.2</td>\n",
       "    </tr>\n",
       "    <tr>\n",
       "      <th>170</th>\n",
       "      <td>제주특별자치도</td>\n",
       "      <td>서귀포</td>\n",
       "      <td>0.3</td>\n",
       "      <td>0.3</td>\n",
       "      <td>0.3</td>\n",
       "      <td>0.3</td>\n",
       "      <td>0.2</td>\n",
       "      <td>0.2</td>\n",
       "    </tr>\n",
       "    <tr>\n",
       "      <th>171</th>\n",
       "      <td>제주특별자치도</td>\n",
       "      <td>도평균</td>\n",
       "      <td>0.3</td>\n",
       "      <td>0.3</td>\n",
       "      <td>0.3</td>\n",
       "      <td>0.3</td>\n",
       "      <td>0.3</td>\n",
       "      <td>0.2</td>\n",
       "    </tr>\n",
       "  </tbody>\n",
       "</table>\n",
       "<p>172 rows × 8 columns</p>\n",
       "</div>"
      ],
      "text/plain": [
       "       구분(1)    구분(2) 2021.02 2021.03 2021.04 2021.05 2021.06 2021.07\n",
       "0         총계       소계     0.5     0.5     0.4     0.4     0.4     0.3\n",
       "1      서울특별시    서울특별시     0.6     0.5     0.4     0.4     0.4     0.3\n",
       "2      부산광역시    부산광역시     0.4     0.4     0.3     0.3     0.3     0.2\n",
       "3      대구광역시    대구광역시     0.5     0.4     0.3     0.4     0.4     0.3\n",
       "4      인천광역시    인천광역시     0.6     0.6     0.4     0.4     0.4     0.4\n",
       "..       ...      ...     ...     ...     ...     ...     ...     ...\n",
       "167     경상남도       합천     0.4     0.3     0.3     0.3     0.3   0.2**\n",
       "168     경상남도      도평균     0.5     0.4     0.4     0.4     0.4     0.3\n",
       "169  제주특별자치도  제주특별자치도     0.3     0.3     0.3     0.3     0.3     0.2\n",
       "170  제주특별자치도      서귀포     0.3     0.3     0.3     0.3     0.2     0.2\n",
       "171  제주특별자치도      도평균     0.3     0.3     0.3     0.3     0.3     0.2\n",
       "\n",
       "[172 rows x 8 columns]"
      ]
     },
     "execution_count": 433,
     "metadata": {},
     "output_type": "execute_result"
    }
   ],
   "source": [
    "co_file_path = 'C:\\\\Users\\\\SAMSUNG\\\\Desktop\\\\Green-Car-Charging-Station-Site-Selection\\\\Data\\\\일산화탄소_월별_도시별_대기오염도.csv'\n",
    "df_co = pd.read_csv(co_file_path, encoding='cp949')\n",
    "df_co"
   ]
  },
  {
   "cell_type": "code",
   "execution_count": 434,
   "metadata": {
    "collapsed": false,
    "pycharm": {
     "name": "#%%\n"
    }
   },
   "outputs": [],
   "source": [
    "co_col = df_co.iloc[:,2:-1].columns.tolist()"
   ]
  },
  {
   "cell_type": "code",
   "execution_count": 435,
   "metadata": {
    "collapsed": false,
    "pycharm": {
     "name": "#%%\n"
    }
   },
   "outputs": [],
   "source": [
    "df_co.drop(columns=co_col, inplace=True)"
   ]
  },
  {
   "cell_type": "code",
   "execution_count": 436,
   "metadata": {
    "collapsed": false,
    "pycharm": {
     "name": "#%%\n"
    }
   },
   "outputs": [],
   "source": [
    "advanced_replace(df_co, '2021.07','-',r'[^0-9.0-9]')\n",
    "df_co['2021.07'] = df_co['2021.07'].astype(float)"
   ]
  },
  {
   "cell_type": "code",
   "execution_count": 437,
   "metadata": {
    "collapsed": false,
    "pycharm": {
     "name": "#%%\n"
    }
   },
   "outputs": [
    {
     "name": "stdout",
     "output_type": "stream",
     "text": [
      "<class 'pandas.core.frame.DataFrame'>\n",
      "RangeIndex: 172 entries, 0 to 171\n",
      "Data columns (total 3 columns):\n",
      " #   Column   Non-Null Count  Dtype  \n",
      "---  ------   --------------  -----  \n",
      " 0   구분(1)    172 non-null    object \n",
      " 1   구분(2)    172 non-null    object \n",
      " 2   2021.07  172 non-null    float64\n",
      "dtypes: float64(1), object(2)\n",
      "memory usage: 4.2+ KB\n"
     ]
    }
   ],
   "source": [
    "df_co.info()"
   ]
  },
  {
   "cell_type": "code",
   "execution_count": 438,
   "metadata": {
    "collapsed": false,
    "pycharm": {
     "name": "#%%\n"
    }
   },
   "outputs": [
    {
     "data": {
      "text/html": [
       "<div>\n",
       "<style scoped>\n",
       "    .dataframe tbody tr th:only-of-type {\n",
       "        vertical-align: middle;\n",
       "    }\n",
       "\n",
       "    .dataframe tbody tr th {\n",
       "        vertical-align: top;\n",
       "    }\n",
       "\n",
       "    .dataframe thead th {\n",
       "        text-align: right;\n",
       "    }\n",
       "</style>\n",
       "<table border=\"1\" class=\"dataframe\">\n",
       "  <thead>\n",
       "    <tr style=\"text-align: right;\">\n",
       "      <th></th>\n",
       "      <th>2021.07</th>\n",
       "    </tr>\n",
       "  </thead>\n",
       "  <tbody>\n",
       "    <tr>\n",
       "      <th>count</th>\n",
       "      <td>172.000000</td>\n",
       "    </tr>\n",
       "    <tr>\n",
       "      <th>mean</th>\n",
       "      <td>0.328488</td>\n",
       "    </tr>\n",
       "    <tr>\n",
       "      <th>std</th>\n",
       "      <td>0.084825</td>\n",
       "    </tr>\n",
       "    <tr>\n",
       "      <th>min</th>\n",
       "      <td>0.100000</td>\n",
       "    </tr>\n",
       "    <tr>\n",
       "      <th>25%</th>\n",
       "      <td>0.300000</td>\n",
       "    </tr>\n",
       "    <tr>\n",
       "      <th>50%</th>\n",
       "      <td>0.300000</td>\n",
       "    </tr>\n",
       "    <tr>\n",
       "      <th>75%</th>\n",
       "      <td>0.400000</td>\n",
       "    </tr>\n",
       "    <tr>\n",
       "      <th>max</th>\n",
       "      <td>0.600000</td>\n",
       "    </tr>\n",
       "  </tbody>\n",
       "</table>\n",
       "</div>"
      ],
      "text/plain": [
       "          2021.07\n",
       "count  172.000000\n",
       "mean     0.328488\n",
       "std      0.084825\n",
       "min      0.100000\n",
       "25%      0.300000\n",
       "50%      0.300000\n",
       "75%      0.400000\n",
       "max      0.600000"
      ]
     },
     "execution_count": 438,
     "metadata": {},
     "output_type": "execute_result"
    }
   ],
   "source": [
    "df_co.describe()"
   ]
  },
  {
   "cell_type": "code",
   "execution_count": 439,
   "metadata": {},
   "outputs": [
    {
     "data": {
      "application/vnd.plotly.v1+json": {
       "config": {
        "plotlyServerURL": "https://plot.ly"
       },
       "data": [
        {
         "hovertemplate": "x=%{x}<br>y=%{y}<extra></extra>",
         "legendgroup": "",
         "line": {
          "color": "#636efa",
          "dash": "solid"
         },
         "mode": "lines",
         "name": "",
         "orientation": "v",
         "showlegend": false,
         "type": "scatter",
         "x": [
          0.01517451776087285,
          0.021081845864298378,
          0.026989173967723903,
          0.03289650207114943,
          0.038803830174574956,
          0.044711158278000485,
          0.050618486381426006,
          0.056525814484851535,
          0.06243314258827706,
          0.0683404706917026,
          0.07424779879512812,
          0.08015512689855364,
          0.08606245500197916,
          0.0919697831054047,
          0.09787711120883022,
          0.10378443931225576,
          0.10969176741568128,
          0.1155990955191068,
          0.12150642362253233,
          0.12741375172595787,
          0.1333210798293834,
          0.1392284079328089,
          0.14513573603623442,
          0.15104306413965995,
          0.1569503922430855,
          0.16285772034651103,
          0.16876504844993656,
          0.1746723765533621,
          0.18057970465678758,
          0.1864870327602131,
          0.19239436086363865,
          0.19830168896706418,
          0.20420901707048972,
          0.21011634517391525,
          0.21602367327734073,
          0.22193100138076627,
          0.2278383294841918,
          0.23374565758761734,
          0.23965298569104287,
          0.2455603137944684,
          0.25146764189789395,
          0.2573749700013194,
          0.26328229810474496,
          0.2691896262081705,
          0.27509695431159603,
          0.28100428241502157,
          0.2869116105184471,
          0.29281893862187264,
          0.2987262667252981,
          0.30463359482872365,
          0.3105409229321492,
          0.3164482510355747,
          0.32235557913900026,
          0.3282629072424258,
          0.33417023534585133,
          0.3400775634492768,
          0.34598489155270234,
          0.3518922196561279,
          0.3577995477595534,
          0.36370687586297895,
          0.3696142039664045,
          0.37552153206982997,
          0.3814288601732555,
          0.38733618827668104,
          0.3932435163801066,
          0.3991508444835321,
          0.40505817258695764,
          0.4109655006903832,
          0.41687282879380866,
          0.4227801568972342,
          0.42868748500065973,
          0.43459481310408526,
          0.4405021412075108,
          0.44640946931093634,
          0.4523167974143618,
          0.45822412551778735,
          0.4641314536212129,
          0.4700387817246384,
          0.47594610982806396,
          0.4818534379314895,
          0.487760766034915,
          0.4936680941383405,
          0.49957542224176604,
          0.5054827503451915,
          0.5113900784486171,
          0.5172974065520426,
          0.5232047346554681,
          0.5291120627588937,
          0.5350193908623192,
          0.5409267189657447,
          0.5468340470691703,
          0.5527413751725958,
          0.5586487032760213,
          0.5645560313794469,
          0.5704633594828724,
          0.576370687586298,
          0.5822780156897234,
          0.5881853437931489,
          0.5940926718965744,
          0.6
         ],
         "xaxis": "x",
         "y": [
          0.005127041209480273,
          0.006614946212953231,
          0.008493360485930558,
          0.010852418387511168,
          0.013799623284972515,
          0.017462308806851026,
          0.021990232872178765,
          0.027558255603899188,
          0.03436903595457045,
          0.04265566411761341,
          0.05268412804784467,
          0.0647554933288757,
          0.07920765704418148,
          0.09641651925526977,
          0.1167964013497848,
          0.14079953021218428,
          0.16891440229284474,
          0.2016628436334728,
          0.2395955921168746,
          0.28328624786899276,
          0.33332346782259553,
          0.3903013215708302,
          0.45480777794902444,
          0.5274113548804166,
          0.6086460378637105,
          0.6989946533332736,
          0.7988709695399567,
          0.9086008864437597,
          1.028403163616276,
          1.1583702170504582,
          1.2984495874550663,
          1.4484267393280201,
          1.6079098872324151,
          1.7763175590124558,
          1.9528695916389225,
          2.136582211386624,
          2.326267774765717,
          2.5205396401385927,
          2.7178225039242188,
          2.916368373047927,
          3.1142781617920283,
          3.3095287029019715,
          3.500004757442674,
          3.6835354041744655,
          3.8579339963733754,
          4.0210407013855445,
          4.170766494690637,
          4.305137373834717,
          4.422337494846301,
          4.520749919397625,
          4.598993697567374,
          4.655956098751195,
          4.690818939710948,
          4.703078139171428,
          4.692555845739326,
          4.659404731294985,
          4.6041043049891215,
          4.527449372233101,
          4.4305310269393035,
          4.314710812369838,
          4.181588905792572,
          4.03296736565588,
          3.8708096199932087,
          3.69719746629444,
          3.5142868936014837,
          3.3242640270622883,
          3.1293024359838717,
          2.9315229431333125,
          2.7329569320863905,
          2.5355139787060947,
          2.3409544412044725,
          2.150867440016632,
          1.9666544531643988,
          1.7895185536603981,
          1.620459130625658,
          1.4602717717323168,
          1.3095528464140642,
          1.1687082204621253,
          1.0379654549394841,
          0.9173887960007788,
          0.8068962459491797,
          0.7062780172008633,
          0.6152157062815072,
          0.5333015803606296,
          0.4600574395345477,
          0.39495259935390215,
          0.33742062532637984,
          0.28687454000640616,
          0.24272031000498984,
          0.2043685016257966,
          0.17124406735735695,
          0.1427942893377011,
          0.1184949590632262,
          0.09785491458775826,
          0.08041908736529335,
          0.06577023131485982,
          0.053529517576911996,
          0.043356180993776534,
          0.034946399943399244,
          0.028031581210024418
         ],
         "yaxis": "y"
        }
       ],
       "layout": {
        "legend": {
         "tracegroupgap": 0
        },
        "margin": {
         "t": 60
        },
        "template": {
         "data": {
          "bar": [
           {
            "error_x": {
             "color": "#2a3f5f"
            },
            "error_y": {
             "color": "#2a3f5f"
            },
            "marker": {
             "line": {
              "color": "#E5ECF6",
              "width": 0.5
             },
             "pattern": {
              "fillmode": "overlay",
              "size": 10,
              "solidity": 0.2
             }
            },
            "type": "bar"
           }
          ],
          "barpolar": [
           {
            "marker": {
             "line": {
              "color": "#E5ECF6",
              "width": 0.5
             },
             "pattern": {
              "fillmode": "overlay",
              "size": 10,
              "solidity": 0.2
             }
            },
            "type": "barpolar"
           }
          ],
          "carpet": [
           {
            "aaxis": {
             "endlinecolor": "#2a3f5f",
             "gridcolor": "white",
             "linecolor": "white",
             "minorgridcolor": "white",
             "startlinecolor": "#2a3f5f"
            },
            "baxis": {
             "endlinecolor": "#2a3f5f",
             "gridcolor": "white",
             "linecolor": "white",
             "minorgridcolor": "white",
             "startlinecolor": "#2a3f5f"
            },
            "type": "carpet"
           }
          ],
          "choropleth": [
           {
            "colorbar": {
             "outlinewidth": 0,
             "ticks": ""
            },
            "type": "choropleth"
           }
          ],
          "contour": [
           {
            "colorbar": {
             "outlinewidth": 0,
             "ticks": ""
            },
            "colorscale": [
             [
              0,
              "#0d0887"
             ],
             [
              0.1111111111111111,
              "#46039f"
             ],
             [
              0.2222222222222222,
              "#7201a8"
             ],
             [
              0.3333333333333333,
              "#9c179e"
             ],
             [
              0.4444444444444444,
              "#bd3786"
             ],
             [
              0.5555555555555556,
              "#d8576b"
             ],
             [
              0.6666666666666666,
              "#ed7953"
             ],
             [
              0.7777777777777778,
              "#fb9f3a"
             ],
             [
              0.8888888888888888,
              "#fdca26"
             ],
             [
              1,
              "#f0f921"
             ]
            ],
            "type": "contour"
           }
          ],
          "contourcarpet": [
           {
            "colorbar": {
             "outlinewidth": 0,
             "ticks": ""
            },
            "type": "contourcarpet"
           }
          ],
          "heatmap": [
           {
            "colorbar": {
             "outlinewidth": 0,
             "ticks": ""
            },
            "colorscale": [
             [
              0,
              "#0d0887"
             ],
             [
              0.1111111111111111,
              "#46039f"
             ],
             [
              0.2222222222222222,
              "#7201a8"
             ],
             [
              0.3333333333333333,
              "#9c179e"
             ],
             [
              0.4444444444444444,
              "#bd3786"
             ],
             [
              0.5555555555555556,
              "#d8576b"
             ],
             [
              0.6666666666666666,
              "#ed7953"
             ],
             [
              0.7777777777777778,
              "#fb9f3a"
             ],
             [
              0.8888888888888888,
              "#fdca26"
             ],
             [
              1,
              "#f0f921"
             ]
            ],
            "type": "heatmap"
           }
          ],
          "heatmapgl": [
           {
            "colorbar": {
             "outlinewidth": 0,
             "ticks": ""
            },
            "colorscale": [
             [
              0,
              "#0d0887"
             ],
             [
              0.1111111111111111,
              "#46039f"
             ],
             [
              0.2222222222222222,
              "#7201a8"
             ],
             [
              0.3333333333333333,
              "#9c179e"
             ],
             [
              0.4444444444444444,
              "#bd3786"
             ],
             [
              0.5555555555555556,
              "#d8576b"
             ],
             [
              0.6666666666666666,
              "#ed7953"
             ],
             [
              0.7777777777777778,
              "#fb9f3a"
             ],
             [
              0.8888888888888888,
              "#fdca26"
             ],
             [
              1,
              "#f0f921"
             ]
            ],
            "type": "heatmapgl"
           }
          ],
          "histogram": [
           {
            "marker": {
             "pattern": {
              "fillmode": "overlay",
              "size": 10,
              "solidity": 0.2
             }
            },
            "type": "histogram"
           }
          ],
          "histogram2d": [
           {
            "colorbar": {
             "outlinewidth": 0,
             "ticks": ""
            },
            "colorscale": [
             [
              0,
              "#0d0887"
             ],
             [
              0.1111111111111111,
              "#46039f"
             ],
             [
              0.2222222222222222,
              "#7201a8"
             ],
             [
              0.3333333333333333,
              "#9c179e"
             ],
             [
              0.4444444444444444,
              "#bd3786"
             ],
             [
              0.5555555555555556,
              "#d8576b"
             ],
             [
              0.6666666666666666,
              "#ed7953"
             ],
             [
              0.7777777777777778,
              "#fb9f3a"
             ],
             [
              0.8888888888888888,
              "#fdca26"
             ],
             [
              1,
              "#f0f921"
             ]
            ],
            "type": "histogram2d"
           }
          ],
          "histogram2dcontour": [
           {
            "colorbar": {
             "outlinewidth": 0,
             "ticks": ""
            },
            "colorscale": [
             [
              0,
              "#0d0887"
             ],
             [
              0.1111111111111111,
              "#46039f"
             ],
             [
              0.2222222222222222,
              "#7201a8"
             ],
             [
              0.3333333333333333,
              "#9c179e"
             ],
             [
              0.4444444444444444,
              "#bd3786"
             ],
             [
              0.5555555555555556,
              "#d8576b"
             ],
             [
              0.6666666666666666,
              "#ed7953"
             ],
             [
              0.7777777777777778,
              "#fb9f3a"
             ],
             [
              0.8888888888888888,
              "#fdca26"
             ],
             [
              1,
              "#f0f921"
             ]
            ],
            "type": "histogram2dcontour"
           }
          ],
          "mesh3d": [
           {
            "colorbar": {
             "outlinewidth": 0,
             "ticks": ""
            },
            "type": "mesh3d"
           }
          ],
          "parcoords": [
           {
            "line": {
             "colorbar": {
              "outlinewidth": 0,
              "ticks": ""
             }
            },
            "type": "parcoords"
           }
          ],
          "pie": [
           {
            "automargin": true,
            "type": "pie"
           }
          ],
          "scatter": [
           {
            "marker": {
             "colorbar": {
              "outlinewidth": 0,
              "ticks": ""
             }
            },
            "type": "scatter"
           }
          ],
          "scatter3d": [
           {
            "line": {
             "colorbar": {
              "outlinewidth": 0,
              "ticks": ""
             }
            },
            "marker": {
             "colorbar": {
              "outlinewidth": 0,
              "ticks": ""
             }
            },
            "type": "scatter3d"
           }
          ],
          "scattercarpet": [
           {
            "marker": {
             "colorbar": {
              "outlinewidth": 0,
              "ticks": ""
             }
            },
            "type": "scattercarpet"
           }
          ],
          "scattergeo": [
           {
            "marker": {
             "colorbar": {
              "outlinewidth": 0,
              "ticks": ""
             }
            },
            "type": "scattergeo"
           }
          ],
          "scattergl": [
           {
            "marker": {
             "colorbar": {
              "outlinewidth": 0,
              "ticks": ""
             }
            },
            "type": "scattergl"
           }
          ],
          "scattermapbox": [
           {
            "marker": {
             "colorbar": {
              "outlinewidth": 0,
              "ticks": ""
             }
            },
            "type": "scattermapbox"
           }
          ],
          "scatterpolar": [
           {
            "marker": {
             "colorbar": {
              "outlinewidth": 0,
              "ticks": ""
             }
            },
            "type": "scatterpolar"
           }
          ],
          "scatterpolargl": [
           {
            "marker": {
             "colorbar": {
              "outlinewidth": 0,
              "ticks": ""
             }
            },
            "type": "scatterpolargl"
           }
          ],
          "scatterternary": [
           {
            "marker": {
             "colorbar": {
              "outlinewidth": 0,
              "ticks": ""
             }
            },
            "type": "scatterternary"
           }
          ],
          "surface": [
           {
            "colorbar": {
             "outlinewidth": 0,
             "ticks": ""
            },
            "colorscale": [
             [
              0,
              "#0d0887"
             ],
             [
              0.1111111111111111,
              "#46039f"
             ],
             [
              0.2222222222222222,
              "#7201a8"
             ],
             [
              0.3333333333333333,
              "#9c179e"
             ],
             [
              0.4444444444444444,
              "#bd3786"
             ],
             [
              0.5555555555555556,
              "#d8576b"
             ],
             [
              0.6666666666666666,
              "#ed7953"
             ],
             [
              0.7777777777777778,
              "#fb9f3a"
             ],
             [
              0.8888888888888888,
              "#fdca26"
             ],
             [
              1,
              "#f0f921"
             ]
            ],
            "type": "surface"
           }
          ],
          "table": [
           {
            "cells": {
             "fill": {
              "color": "#EBF0F8"
             },
             "line": {
              "color": "white"
             }
            },
            "header": {
             "fill": {
              "color": "#C8D4E3"
             },
             "line": {
              "color": "white"
             }
            },
            "type": "table"
           }
          ]
         },
         "layout": {
          "annotationdefaults": {
           "arrowcolor": "#2a3f5f",
           "arrowhead": 0,
           "arrowwidth": 1
          },
          "autotypenumbers": "strict",
          "coloraxis": {
           "colorbar": {
            "outlinewidth": 0,
            "ticks": ""
           }
          },
          "colorscale": {
           "diverging": [
            [
             0,
             "#8e0152"
            ],
            [
             0.1,
             "#c51b7d"
            ],
            [
             0.2,
             "#de77ae"
            ],
            [
             0.3,
             "#f1b6da"
            ],
            [
             0.4,
             "#fde0ef"
            ],
            [
             0.5,
             "#f7f7f7"
            ],
            [
             0.6,
             "#e6f5d0"
            ],
            [
             0.7,
             "#b8e186"
            ],
            [
             0.8,
             "#7fbc41"
            ],
            [
             0.9,
             "#4d9221"
            ],
            [
             1,
             "#276419"
            ]
           ],
           "sequential": [
            [
             0,
             "#0d0887"
            ],
            [
             0.1111111111111111,
             "#46039f"
            ],
            [
             0.2222222222222222,
             "#7201a8"
            ],
            [
             0.3333333333333333,
             "#9c179e"
            ],
            [
             0.4444444444444444,
             "#bd3786"
            ],
            [
             0.5555555555555556,
             "#d8576b"
            ],
            [
             0.6666666666666666,
             "#ed7953"
            ],
            [
             0.7777777777777778,
             "#fb9f3a"
            ],
            [
             0.8888888888888888,
             "#fdca26"
            ],
            [
             1,
             "#f0f921"
            ]
           ],
           "sequentialminus": [
            [
             0,
             "#0d0887"
            ],
            [
             0.1111111111111111,
             "#46039f"
            ],
            [
             0.2222222222222222,
             "#7201a8"
            ],
            [
             0.3333333333333333,
             "#9c179e"
            ],
            [
             0.4444444444444444,
             "#bd3786"
            ],
            [
             0.5555555555555556,
             "#d8576b"
            ],
            [
             0.6666666666666666,
             "#ed7953"
            ],
            [
             0.7777777777777778,
             "#fb9f3a"
            ],
            [
             0.8888888888888888,
             "#fdca26"
            ],
            [
             1,
             "#f0f921"
            ]
           ]
          },
          "colorway": [
           "#636efa",
           "#EF553B",
           "#00cc96",
           "#ab63fa",
           "#FFA15A",
           "#19d3f3",
           "#FF6692",
           "#B6E880",
           "#FF97FF",
           "#FECB52"
          ],
          "font": {
           "color": "#2a3f5f"
          },
          "geo": {
           "bgcolor": "white",
           "lakecolor": "white",
           "landcolor": "#E5ECF6",
           "showlakes": true,
           "showland": true,
           "subunitcolor": "white"
          },
          "hoverlabel": {
           "align": "left"
          },
          "hovermode": "closest",
          "mapbox": {
           "style": "light"
          },
          "paper_bgcolor": "white",
          "plot_bgcolor": "#E5ECF6",
          "polar": {
           "angularaxis": {
            "gridcolor": "white",
            "linecolor": "white",
            "ticks": ""
           },
           "bgcolor": "#E5ECF6",
           "radialaxis": {
            "gridcolor": "white",
            "linecolor": "white",
            "ticks": ""
           }
          },
          "scene": {
           "xaxis": {
            "backgroundcolor": "#E5ECF6",
            "gridcolor": "white",
            "gridwidth": 2,
            "linecolor": "white",
            "showbackground": true,
            "ticks": "",
            "zerolinecolor": "white"
           },
           "yaxis": {
            "backgroundcolor": "#E5ECF6",
            "gridcolor": "white",
            "gridwidth": 2,
            "linecolor": "white",
            "showbackground": true,
            "ticks": "",
            "zerolinecolor": "white"
           },
           "zaxis": {
            "backgroundcolor": "#E5ECF6",
            "gridcolor": "white",
            "gridwidth": 2,
            "linecolor": "white",
            "showbackground": true,
            "ticks": "",
            "zerolinecolor": "white"
           }
          },
          "shapedefaults": {
           "line": {
            "color": "#2a3f5f"
           }
          },
          "ternary": {
           "aaxis": {
            "gridcolor": "white",
            "linecolor": "white",
            "ticks": ""
           },
           "baxis": {
            "gridcolor": "white",
            "linecolor": "white",
            "ticks": ""
           },
           "bgcolor": "#E5ECF6",
           "caxis": {
            "gridcolor": "white",
            "linecolor": "white",
            "ticks": ""
           }
          },
          "title": {
           "x": 0.05
          },
          "xaxis": {
           "automargin": true,
           "gridcolor": "white",
           "linecolor": "white",
           "ticks": "",
           "title": {
            "standoff": 15
           },
           "zerolinecolor": "white",
           "zerolinewidth": 2
          },
          "yaxis": {
           "automargin": true,
           "gridcolor": "white",
           "linecolor": "white",
           "ticks": "",
           "title": {
            "standoff": 15
           },
           "zerolinecolor": "white",
           "zerolinewidth": 2
          }
         }
        },
        "xaxis": {
         "anchor": "y",
         "domain": [
          0,
          1
         ],
         "title": {
          "text": "x"
         }
        },
        "yaxis": {
         "anchor": "x",
         "domain": [
          0,
          1
         ],
         "title": {
          "text": "y"
         }
        }
       }
      }
     },
     "metadata": {},
     "output_type": "display_data"
    }
   ],
   "source": [
    "mean = df_co.iloc[:,2].mean()\n",
    "std = df_co.iloc[:,2].std()\n",
    "min = df_co.iloc[:,2].min()\n",
    "max = df_co.iloc[:,2].max()\n",
    "show_norm(mean,std,min,max)"
   ]
  },
  {
   "cell_type": "markdown",
   "metadata": {},
   "source": [
    "### 부산광역시 일산화탄소 누적확률 구하기"
   ]
  },
  {
   "cell_type": "code",
   "execution_count": 440,
   "metadata": {},
   "outputs": [
    {
     "data": {
      "application/vnd.plotly.v1+json": {
       "config": {
        "plotlyServerURL": "https://plot.ly"
       },
       "data": [
        {
         "fill": "tozeroy",
         "line": {
          "color": "rgb(100,110,250)"
         },
         "name": "적합",
         "text": "0.064919397312361",
         "type": "scatter",
         "x": [
          0.01517451776087285,
          0.017041441823894336,
          0.018908365886915822,
          0.020775289949937308,
          0.022642214012958795,
          0.02450913807598028,
          0.026376062139001767,
          0.028242986202023253,
          0.03010991026504474,
          0.03197683432806622,
          0.03384375839108771,
          0.0357106824541092,
          0.037577606517130685,
          0.03944453058015217,
          0.04131145464317366,
          0.04317837870619515,
          0.04504530276921663,
          0.04691222683223811,
          0.0487791508952596,
          0.05064607495828109,
          0.052512999021302575,
          0.05437992308432406,
          0.05624684714734555,
          0.05811377121036704,
          0.05998069527338852,
          0.061847619336410004,
          0.0637145433994315,
          0.06558146746245298,
          0.06744839152547447,
          0.06931531558849595,
          0.07118223965151743,
          0.07304916371453893,
          0.07491608777756041,
          0.0767830118405819,
          0.07864993590360338,
          0.08051685996662487,
          0.08238378402964636,
          0.08425070809266784,
          0.08611763215568934,
          0.08798455621871082,
          0.0898514802817323,
          0.09171840434475378,
          0.09358532840777527,
          0.09545225247079676,
          0.09731917653381825,
          0.09918610059683973,
          0.10105302465986123,
          0.10291994872288271,
          0.10478687278590419,
          0.10665379684892567,
          0.10852072091194716,
          0.11038764497496865,
          0.11225456903799014,
          0.11412149310101162,
          0.11598841716403312,
          0.1178553412270546,
          0.11972226529007608,
          0.12158918935309757,
          0.12345611341611905,
          0.12532303747914053,
          0.12718996154216203,
          0.12905688560518352,
          0.130923809668205,
          0.1327907337312265,
          0.134657657794248,
          0.13652458185726946,
          0.13839150592029092,
          0.14025842998331245,
          0.14212535404633392,
          0.1439922781093554,
          0.1458592021723769,
          0.14772612623539838,
          0.14959305029841985,
          0.15145997436144137,
          0.15332689842446284,
          0.1551938224874843,
          0.15706074655050584,
          0.1589276706135273,
          0.16079459467654877,
          0.16266151873957024,
          0.16452844280259177,
          0.16639536686561324,
          0.1682622909286347,
          0.17012921499165623,
          0.1719961390546777,
          0.17386306311769917,
          0.1757299871807207,
          0.17759691124374216,
          0.17946383530676363,
          0.18133075936978515,
          0.18319768343280662,
          0.1850646074958281,
          0.18693153155884962,
          0.1887984556218711,
          0.19066537968489256,
          0.19253230374791402,
          0.19439922781093555,
          0.19626615187395702,
          0.1981330759369785,
          0.2
         ],
         "y": [
          0.005127041209480273,
          0.005559897164058981,
          0.006026377586096722,
          0.0065288328320357416,
          0.007069755394134087,
          0.007651786722993589,
          0.008277724241616028,
          0.008950528545644897,
          0.009673330783351683,
          0.010449440207763816,
          0.01128235189210469,
          0.01217575459842522,
          0.01313353878795336,
          0.01415980476026952,
          0.015258870906940733,
          0.01643528206370748,
          0.01769381794372517,
          0.019039501632713743,
          0.0204776081251712,
          0.02201367287906023,
          0.0236535003645892,
          0.025403172580883555,
          0.0272690575124816,
          0.029257817495706228,
          0.03137641746305567,
          0.033632133031839116,
          0.03603255840135667,
          0.03858561402100382,
          0.04129955398976966,
          0.04418297314570941,
          0.047244813802115135,
          0.05049437208529512,
          0.053941303827105894,
          0.057595629963688916,
          0.06146774139023873,
          0.06556840322010159,
          0.06990875839507216,
          0.07450033059244798,
          0.07935502637321072,
          0.08448513651467215,
          0.08990333647003536,
          0.09562268589661399,
          0.1016566271939315,
          0.10801898299259759,
          0.11472395253475569,
          0.12178610688701635,
          0.1292203829271622,
          0.13704207604653199,
          0.14526683151088732,
          0.15391063442374606,
          0.16298979823763912,
          0.1725209517605287,
          0.1825210246067222,
          0.19300723104404938,
          0.20399705219181483,
          0.21550821652715918,
          0.22755867866090007,
          0.2401665963477327,
          0.25335030569983547,
          0.2671282945774381,
          0.2815191741347915,
          0.29654164850520814,
          0.3122144826144298,
          0.3285564681175092,
          0.3455863874606598,
          0.36332297607613034,
          0.38178488272507627,
          0.4009906280106089,
          0.4209585610907175,
          0.4417068146285307,
          0.46325325802537975,
          0.48561544899039644,
          0.5088105835087892,
          0.532855444279552,
          0.5577663477021197,
          0.5835590895003083,
          0.6102488890808271,
          0.6378503327325836,
          0.6663773157819936,
          0.6958429838283786,
          0.7262596731924057,
          0.7576388507191963,
          0.7899910530862961,
          0.8233258257749672,
          0.8576516618713614,
          0.8929759408718508,
          0.9293048676741673,
          0.96664341194299,
          1.0049952480451438,
          1.0443626957555687,
          1.0847466619406974,
          1.1261465834307698,
          1.1685603712967938,
          1.2119843567514463,
          1.256413238896012,
          1.3018400345374828,
          1.348256030301203,
          1.395650737264815,
          1.4440118483388238,
          1.4933251986176361
         ]
        },
        {
         "fill": "tozeroy",
         "line": {
          "color": "rgb(239,85,59)"
         },
         "name": "부적합",
         "text": "0.064919397312361",
         "type": "scatter",
         "x": [
          0.2,
          0.20404040404040405,
          0.2080808080808081,
          0.21212121212121213,
          0.21616161616161617,
          0.2202020202020202,
          0.22424242424242424,
          0.2282828282828283,
          0.23232323232323232,
          0.2363636363636364,
          0.2404040404040404,
          0.24444444444444446,
          0.2484848484848485,
          0.25252525252525254,
          0.25656565656565655,
          0.2606060606060606,
          0.2646464646464647,
          0.2686868686868687,
          0.2727272727272727,
          0.2767676767676768,
          0.28080808080808084,
          0.28484848484848485,
          0.2888888888888889,
          0.29292929292929293,
          0.296969696969697,
          0.301010101010101,
          0.30505050505050507,
          0.3090909090909091,
          0.31313131313131315,
          0.3171717171717172,
          0.3212121212121212,
          0.32525252525252524,
          0.3292929292929293,
          0.33333333333333337,
          0.3373737373737374,
          0.3414141414141414,
          0.34545454545454546,
          0.3494949494949495,
          0.35353535353535354,
          0.35757575757575755,
          0.3616161616161616,
          0.3656565656565657,
          0.36969696969696975,
          0.37373737373737376,
          0.37777777777777777,
          0.38181818181818183,
          0.3858585858585859,
          0.3898989898989899,
          0.3939393939393939,
          0.397979797979798,
          0.40202020202020206,
          0.40606060606060607,
          0.4101010101010101,
          0.41414141414141414,
          0.4181818181818182,
          0.4222222222222222,
          0.4262626262626263,
          0.4303030303030303,
          0.43434343434343436,
          0.43838383838383843,
          0.44242424242424244,
          0.44646464646464645,
          0.4505050505050505,
          0.45454545454545453,
          0.4585858585858586,
          0.46262626262626266,
          0.4666666666666667,
          0.47070707070707074,
          0.47474747474747475,
          0.4787878787878788,
          0.48282828282828283,
          0.4868686868686869,
          0.4909090909090909,
          0.494949494949495,
          0.498989898989899,
          0.503030303030303,
          0.507070707070707,
          0.5111111111111111,
          0.5151515151515151,
          0.5191919191919192,
          0.5232323232323233,
          0.5272727272727273,
          0.5313131313131314,
          0.5353535353535354,
          0.5393939393939394,
          0.5434343434343434,
          0.5474747474747474,
          0.5515151515151515,
          0.5555555555555556,
          0.5595959595959596,
          0.5636363636363637,
          0.5676767676767677,
          0.5717171717171717,
          0.5757575757575757,
          0.5797979797979798,
          0.5838383838383838,
          0.5878787878787879,
          0.591919191919192,
          0.595959595959596,
          0.6
         ],
         "y": [
          1.4933251986176361,
          1.6032308016457166,
          1.7173245310714083,
          1.835368908120309,
          1.9570820697251188,
          2.08213736039614,
          2.210163420547861,
          2.34074480292702,
          2.473423142212668,
          2.6076988953964695,
          2.743033662302793,
          2.87885308669869,
          3.0145503290216413,
          3.1494900919869027,
          3.283013170411711,
          3.4144414867098467,
          3.543083563874668,
          3.668240378593884,
          3.7892115286355432,
          3.905301641016291,
          4.015826940901991,
          4.120121895872113,
          4.217545846255258,
          4.307489529839195,
          4.3893814084692675,
          4.462693704933789,
          4.5269480611176025,
          4.5817207326700045,
          4.626647241327307,
          4.661426413461084,
          4.685823742262498,
          4.699674021058335,
          4.702883206392979,
          4.695429481483937,
          4.67736350322766,
          4.648807828843424,
          4.6099555312337035,
          4.561068024945427,
          4.5024721369781044,
          4.434556468353348,
          4.357767103104281,
          4.272602730953841,
          4.179609258246999,
          4.079373988534136,
          3.972519459456946,
          3.8596970261875705,
          3.7415802835776573,
          3.618858419387139,
          3.492229589520859,
          3.362394403178705,
          3.2300496013288087,
          3.0958820060803025,
          2.9605628115240377,
          2.8247422786087912,
          2.6890448878245077,
          2.554064994080393,
          2.420363018406143,
          2.2884622011800406,
          2.158845931702997,
          2.0319556592871706,
          1.908189381790632,
          1.7879006988666863,
          1.6713984092473215,
          1.558946624260643,
          1.45076536358312,
          1.3470315940142559,
          1.2478806678732233,
          1.153408114468997,
          1.0636717359781986,
          0.9786939579473364,
          0.898464384468025,
          0.8229425087873609,
          0.7520605316296636,
          0.6857262417274463,
          0.6238259158884412,
          0.566227199256096,
          0.5127819301459163,
          0.4633288778523895,
          0.4176963660176729,
          0.3757047584352884,
          0.3371687884390247,
          0.3018997172165882,
          0.26970731041686996,
          0.24040162622705163,
          0.21379461163017427,
          0.18970150677537947,
          0.1679420602727089,
          0.1483415607435606,
          0.13073169210761612,
          0.11495122186732787,
          0.1008465330696215,
          0.0882720116959948,
          0.07709030197695463,
          0.06717244256956732,
          0.05839789670601703,
          0.05065448934709332,
          0.04383826408932481,
          0.037853272110433774,
          0.03261130482684249,
          0.028031581210024418
         ]
        }
       ],
       "layout": {
        "annotations": [
         {
          "bordercolor": "rgb(100,110,250)",
          "borderwidth": 2,
          "font": {
           "color": "rgb(100,110,250)",
           "size": 15
          },
          "showarrow": false,
          "text": "0.065",
          "x": 0.2,
          "xshift": -40,
          "y": 1.4933251986176361,
          "yshift": -100
         },
         {
          "bordercolor": "rgb(239,85,59)",
          "borderwidth": 2,
          "font": {
           "color": "rgb(239,85,59)",
           "size": 15
          },
          "showarrow": false,
          "text": "0.935",
          "x": 0.2,
          "xshift": 40,
          "y": 1.4933251986176361,
          "yshift": -100
         }
        ],
        "template": {
         "data": {
          "bar": [
           {
            "error_x": {
             "color": "#2a3f5f"
            },
            "error_y": {
             "color": "#2a3f5f"
            },
            "marker": {
             "line": {
              "color": "#E5ECF6",
              "width": 0.5
             },
             "pattern": {
              "fillmode": "overlay",
              "size": 10,
              "solidity": 0.2
             }
            },
            "type": "bar"
           }
          ],
          "barpolar": [
           {
            "marker": {
             "line": {
              "color": "#E5ECF6",
              "width": 0.5
             },
             "pattern": {
              "fillmode": "overlay",
              "size": 10,
              "solidity": 0.2
             }
            },
            "type": "barpolar"
           }
          ],
          "carpet": [
           {
            "aaxis": {
             "endlinecolor": "#2a3f5f",
             "gridcolor": "white",
             "linecolor": "white",
             "minorgridcolor": "white",
             "startlinecolor": "#2a3f5f"
            },
            "baxis": {
             "endlinecolor": "#2a3f5f",
             "gridcolor": "white",
             "linecolor": "white",
             "minorgridcolor": "white",
             "startlinecolor": "#2a3f5f"
            },
            "type": "carpet"
           }
          ],
          "choropleth": [
           {
            "colorbar": {
             "outlinewidth": 0,
             "ticks": ""
            },
            "type": "choropleth"
           }
          ],
          "contour": [
           {
            "colorbar": {
             "outlinewidth": 0,
             "ticks": ""
            },
            "colorscale": [
             [
              0,
              "#0d0887"
             ],
             [
              0.1111111111111111,
              "#46039f"
             ],
             [
              0.2222222222222222,
              "#7201a8"
             ],
             [
              0.3333333333333333,
              "#9c179e"
             ],
             [
              0.4444444444444444,
              "#bd3786"
             ],
             [
              0.5555555555555556,
              "#d8576b"
             ],
             [
              0.6666666666666666,
              "#ed7953"
             ],
             [
              0.7777777777777778,
              "#fb9f3a"
             ],
             [
              0.8888888888888888,
              "#fdca26"
             ],
             [
              1,
              "#f0f921"
             ]
            ],
            "type": "contour"
           }
          ],
          "contourcarpet": [
           {
            "colorbar": {
             "outlinewidth": 0,
             "ticks": ""
            },
            "type": "contourcarpet"
           }
          ],
          "heatmap": [
           {
            "colorbar": {
             "outlinewidth": 0,
             "ticks": ""
            },
            "colorscale": [
             [
              0,
              "#0d0887"
             ],
             [
              0.1111111111111111,
              "#46039f"
             ],
             [
              0.2222222222222222,
              "#7201a8"
             ],
             [
              0.3333333333333333,
              "#9c179e"
             ],
             [
              0.4444444444444444,
              "#bd3786"
             ],
             [
              0.5555555555555556,
              "#d8576b"
             ],
             [
              0.6666666666666666,
              "#ed7953"
             ],
             [
              0.7777777777777778,
              "#fb9f3a"
             ],
             [
              0.8888888888888888,
              "#fdca26"
             ],
             [
              1,
              "#f0f921"
             ]
            ],
            "type": "heatmap"
           }
          ],
          "heatmapgl": [
           {
            "colorbar": {
             "outlinewidth": 0,
             "ticks": ""
            },
            "colorscale": [
             [
              0,
              "#0d0887"
             ],
             [
              0.1111111111111111,
              "#46039f"
             ],
             [
              0.2222222222222222,
              "#7201a8"
             ],
             [
              0.3333333333333333,
              "#9c179e"
             ],
             [
              0.4444444444444444,
              "#bd3786"
             ],
             [
              0.5555555555555556,
              "#d8576b"
             ],
             [
              0.6666666666666666,
              "#ed7953"
             ],
             [
              0.7777777777777778,
              "#fb9f3a"
             ],
             [
              0.8888888888888888,
              "#fdca26"
             ],
             [
              1,
              "#f0f921"
             ]
            ],
            "type": "heatmapgl"
           }
          ],
          "histogram": [
           {
            "marker": {
             "pattern": {
              "fillmode": "overlay",
              "size": 10,
              "solidity": 0.2
             }
            },
            "type": "histogram"
           }
          ],
          "histogram2d": [
           {
            "colorbar": {
             "outlinewidth": 0,
             "ticks": ""
            },
            "colorscale": [
             [
              0,
              "#0d0887"
             ],
             [
              0.1111111111111111,
              "#46039f"
             ],
             [
              0.2222222222222222,
              "#7201a8"
             ],
             [
              0.3333333333333333,
              "#9c179e"
             ],
             [
              0.4444444444444444,
              "#bd3786"
             ],
             [
              0.5555555555555556,
              "#d8576b"
             ],
             [
              0.6666666666666666,
              "#ed7953"
             ],
             [
              0.7777777777777778,
              "#fb9f3a"
             ],
             [
              0.8888888888888888,
              "#fdca26"
             ],
             [
              1,
              "#f0f921"
             ]
            ],
            "type": "histogram2d"
           }
          ],
          "histogram2dcontour": [
           {
            "colorbar": {
             "outlinewidth": 0,
             "ticks": ""
            },
            "colorscale": [
             [
              0,
              "#0d0887"
             ],
             [
              0.1111111111111111,
              "#46039f"
             ],
             [
              0.2222222222222222,
              "#7201a8"
             ],
             [
              0.3333333333333333,
              "#9c179e"
             ],
             [
              0.4444444444444444,
              "#bd3786"
             ],
             [
              0.5555555555555556,
              "#d8576b"
             ],
             [
              0.6666666666666666,
              "#ed7953"
             ],
             [
              0.7777777777777778,
              "#fb9f3a"
             ],
             [
              0.8888888888888888,
              "#fdca26"
             ],
             [
              1,
              "#f0f921"
             ]
            ],
            "type": "histogram2dcontour"
           }
          ],
          "mesh3d": [
           {
            "colorbar": {
             "outlinewidth": 0,
             "ticks": ""
            },
            "type": "mesh3d"
           }
          ],
          "parcoords": [
           {
            "line": {
             "colorbar": {
              "outlinewidth": 0,
              "ticks": ""
             }
            },
            "type": "parcoords"
           }
          ],
          "pie": [
           {
            "automargin": true,
            "type": "pie"
           }
          ],
          "scatter": [
           {
            "marker": {
             "colorbar": {
              "outlinewidth": 0,
              "ticks": ""
             }
            },
            "type": "scatter"
           }
          ],
          "scatter3d": [
           {
            "line": {
             "colorbar": {
              "outlinewidth": 0,
              "ticks": ""
             }
            },
            "marker": {
             "colorbar": {
              "outlinewidth": 0,
              "ticks": ""
             }
            },
            "type": "scatter3d"
           }
          ],
          "scattercarpet": [
           {
            "marker": {
             "colorbar": {
              "outlinewidth": 0,
              "ticks": ""
             }
            },
            "type": "scattercarpet"
           }
          ],
          "scattergeo": [
           {
            "marker": {
             "colorbar": {
              "outlinewidth": 0,
              "ticks": ""
             }
            },
            "type": "scattergeo"
           }
          ],
          "scattergl": [
           {
            "marker": {
             "colorbar": {
              "outlinewidth": 0,
              "ticks": ""
             }
            },
            "type": "scattergl"
           }
          ],
          "scattermapbox": [
           {
            "marker": {
             "colorbar": {
              "outlinewidth": 0,
              "ticks": ""
             }
            },
            "type": "scattermapbox"
           }
          ],
          "scatterpolar": [
           {
            "marker": {
             "colorbar": {
              "outlinewidth": 0,
              "ticks": ""
             }
            },
            "type": "scatterpolar"
           }
          ],
          "scatterpolargl": [
           {
            "marker": {
             "colorbar": {
              "outlinewidth": 0,
              "ticks": ""
             }
            },
            "type": "scatterpolargl"
           }
          ],
          "scatterternary": [
           {
            "marker": {
             "colorbar": {
              "outlinewidth": 0,
              "ticks": ""
             }
            },
            "type": "scatterternary"
           }
          ],
          "surface": [
           {
            "colorbar": {
             "outlinewidth": 0,
             "ticks": ""
            },
            "colorscale": [
             [
              0,
              "#0d0887"
             ],
             [
              0.1111111111111111,
              "#46039f"
             ],
             [
              0.2222222222222222,
              "#7201a8"
             ],
             [
              0.3333333333333333,
              "#9c179e"
             ],
             [
              0.4444444444444444,
              "#bd3786"
             ],
             [
              0.5555555555555556,
              "#d8576b"
             ],
             [
              0.6666666666666666,
              "#ed7953"
             ],
             [
              0.7777777777777778,
              "#fb9f3a"
             ],
             [
              0.8888888888888888,
              "#fdca26"
             ],
             [
              1,
              "#f0f921"
             ]
            ],
            "type": "surface"
           }
          ],
          "table": [
           {
            "cells": {
             "fill": {
              "color": "#EBF0F8"
             },
             "line": {
              "color": "white"
             }
            },
            "header": {
             "fill": {
              "color": "#C8D4E3"
             },
             "line": {
              "color": "white"
             }
            },
            "type": "table"
           }
          ]
         },
         "layout": {
          "annotationdefaults": {
           "arrowcolor": "#2a3f5f",
           "arrowhead": 0,
           "arrowwidth": 1
          },
          "autotypenumbers": "strict",
          "coloraxis": {
           "colorbar": {
            "outlinewidth": 0,
            "ticks": ""
           }
          },
          "colorscale": {
           "diverging": [
            [
             0,
             "#8e0152"
            ],
            [
             0.1,
             "#c51b7d"
            ],
            [
             0.2,
             "#de77ae"
            ],
            [
             0.3,
             "#f1b6da"
            ],
            [
             0.4,
             "#fde0ef"
            ],
            [
             0.5,
             "#f7f7f7"
            ],
            [
             0.6,
             "#e6f5d0"
            ],
            [
             0.7,
             "#b8e186"
            ],
            [
             0.8,
             "#7fbc41"
            ],
            [
             0.9,
             "#4d9221"
            ],
            [
             1,
             "#276419"
            ]
           ],
           "sequential": [
            [
             0,
             "#0d0887"
            ],
            [
             0.1111111111111111,
             "#46039f"
            ],
            [
             0.2222222222222222,
             "#7201a8"
            ],
            [
             0.3333333333333333,
             "#9c179e"
            ],
            [
             0.4444444444444444,
             "#bd3786"
            ],
            [
             0.5555555555555556,
             "#d8576b"
            ],
            [
             0.6666666666666666,
             "#ed7953"
            ],
            [
             0.7777777777777778,
             "#fb9f3a"
            ],
            [
             0.8888888888888888,
             "#fdca26"
            ],
            [
             1,
             "#f0f921"
            ]
           ],
           "sequentialminus": [
            [
             0,
             "#0d0887"
            ],
            [
             0.1111111111111111,
             "#46039f"
            ],
            [
             0.2222222222222222,
             "#7201a8"
            ],
            [
             0.3333333333333333,
             "#9c179e"
            ],
            [
             0.4444444444444444,
             "#bd3786"
            ],
            [
             0.5555555555555556,
             "#d8576b"
            ],
            [
             0.6666666666666666,
             "#ed7953"
            ],
            [
             0.7777777777777778,
             "#fb9f3a"
            ],
            [
             0.8888888888888888,
             "#fdca26"
            ],
            [
             1,
             "#f0f921"
            ]
           ]
          },
          "colorway": [
           "#636efa",
           "#EF553B",
           "#00cc96",
           "#ab63fa",
           "#FFA15A",
           "#19d3f3",
           "#FF6692",
           "#B6E880",
           "#FF97FF",
           "#FECB52"
          ],
          "font": {
           "color": "#2a3f5f"
          },
          "geo": {
           "bgcolor": "white",
           "lakecolor": "white",
           "landcolor": "#E5ECF6",
           "showlakes": true,
           "showland": true,
           "subunitcolor": "white"
          },
          "hoverlabel": {
           "align": "left"
          },
          "hovermode": "closest",
          "mapbox": {
           "style": "light"
          },
          "paper_bgcolor": "white",
          "plot_bgcolor": "#E5ECF6",
          "polar": {
           "angularaxis": {
            "gridcolor": "white",
            "linecolor": "white",
            "ticks": ""
           },
           "bgcolor": "#E5ECF6",
           "radialaxis": {
            "gridcolor": "white",
            "linecolor": "white",
            "ticks": ""
           }
          },
          "scene": {
           "xaxis": {
            "backgroundcolor": "#E5ECF6",
            "gridcolor": "white",
            "gridwidth": 2,
            "linecolor": "white",
            "showbackground": true,
            "ticks": "",
            "zerolinecolor": "white"
           },
           "yaxis": {
            "backgroundcolor": "#E5ECF6",
            "gridcolor": "white",
            "gridwidth": 2,
            "linecolor": "white",
            "showbackground": true,
            "ticks": "",
            "zerolinecolor": "white"
           },
           "zaxis": {
            "backgroundcolor": "#E5ECF6",
            "gridcolor": "white",
            "gridwidth": 2,
            "linecolor": "white",
            "showbackground": true,
            "ticks": "",
            "zerolinecolor": "white"
           }
          },
          "shapedefaults": {
           "line": {
            "color": "#2a3f5f"
           }
          },
          "ternary": {
           "aaxis": {
            "gridcolor": "white",
            "linecolor": "white",
            "ticks": ""
           },
           "baxis": {
            "gridcolor": "white",
            "linecolor": "white",
            "ticks": ""
           },
           "bgcolor": "#E5ECF6",
           "caxis": {
            "gridcolor": "white",
            "linecolor": "white",
            "ticks": ""
           }
          },
          "title": {
           "x": 0.05
          },
          "xaxis": {
           "automargin": true,
           "gridcolor": "white",
           "linecolor": "white",
           "ticks": "",
           "title": {
            "standoff": 15
           },
           "zerolinecolor": "white",
           "zerolinewidth": 2
          },
          "yaxis": {
           "automargin": true,
           "gridcolor": "white",
           "linecolor": "white",
           "ticks": "",
           "title": {
            "standoff": 15
           },
           "zerolinecolor": "white",
           "zerolinewidth": 2
          }
         }
        }
       }
      }
     },
     "metadata": {},
     "output_type": "display_data"
    }
   ],
   "source": [
    "busan_co = df_co[df_co['구분(2)']=='부산광역시'].loc[2,'2021.07']\n",
    "co_pro = cal_norm(mean,std,min,max,busan_co)"
   ]
  },
  {
   "cell_type": "markdown",
   "metadata": {
    "collapsed": false
   },
   "source": [
    "### 미세먼지 월별 데이터 불러오기"
   ]
  },
  {
   "cell_type": "code",
   "execution_count": 441,
   "metadata": {
    "collapsed": false,
    "pycharm": {
     "name": "#%%\n"
    }
   },
   "outputs": [
    {
     "data": {
      "text/html": [
       "<div>\n",
       "<style scoped>\n",
       "    .dataframe tbody tr th:only-of-type {\n",
       "        vertical-align: middle;\n",
       "    }\n",
       "\n",
       "    .dataframe tbody tr th {\n",
       "        vertical-align: top;\n",
       "    }\n",
       "\n",
       "    .dataframe thead th {\n",
       "        text-align: right;\n",
       "    }\n",
       "</style>\n",
       "<table border=\"1\" class=\"dataframe\">\n",
       "  <thead>\n",
       "    <tr style=\"text-align: right;\">\n",
       "      <th></th>\n",
       "      <th>구분(1)</th>\n",
       "      <th>구분(2)</th>\n",
       "      <th>2021.02</th>\n",
       "      <th>2021.03</th>\n",
       "      <th>2021.04</th>\n",
       "      <th>2021.05</th>\n",
       "      <th>2021.06</th>\n",
       "      <th>2021.07</th>\n",
       "    </tr>\n",
       "  </thead>\n",
       "  <tbody>\n",
       "    <tr>\n",
       "      <th>0</th>\n",
       "      <td>총계</td>\n",
       "      <td>소계</td>\n",
       "      <td>25</td>\n",
       "      <td>27</td>\n",
       "      <td>17</td>\n",
       "      <td>19</td>\n",
       "      <td>19</td>\n",
       "      <td>12</td>\n",
       "    </tr>\n",
       "    <tr>\n",
       "      <th>1</th>\n",
       "      <td>서울특별시</td>\n",
       "      <td>서울특별시</td>\n",
       "      <td>29</td>\n",
       "      <td>32</td>\n",
       "      <td>19</td>\n",
       "      <td>20</td>\n",
       "      <td>19</td>\n",
       "      <td>15</td>\n",
       "    </tr>\n",
       "    <tr>\n",
       "      <th>2</th>\n",
       "      <td>부산광역시</td>\n",
       "      <td>부산광역시</td>\n",
       "      <td>21</td>\n",
       "      <td>21</td>\n",
       "      <td>15</td>\n",
       "      <td>16</td>\n",
       "      <td>15</td>\n",
       "      <td>9</td>\n",
       "    </tr>\n",
       "    <tr>\n",
       "      <th>3</th>\n",
       "      <td>대구광역시</td>\n",
       "      <td>대구광역시</td>\n",
       "      <td>24</td>\n",
       "      <td>23</td>\n",
       "      <td>17</td>\n",
       "      <td>18</td>\n",
       "      <td>20</td>\n",
       "      <td>10</td>\n",
       "    </tr>\n",
       "    <tr>\n",
       "      <th>4</th>\n",
       "      <td>인천광역시</td>\n",
       "      <td>인천광역시</td>\n",
       "      <td>28</td>\n",
       "      <td>33</td>\n",
       "      <td>19</td>\n",
       "      <td>20</td>\n",
       "      <td>23</td>\n",
       "      <td>19</td>\n",
       "    </tr>\n",
       "    <tr>\n",
       "      <th>...</th>\n",
       "      <td>...</td>\n",
       "      <td>...</td>\n",
       "      <td>...</td>\n",
       "      <td>...</td>\n",
       "      <td>...</td>\n",
       "      <td>...</td>\n",
       "      <td>...</td>\n",
       "      <td>...</td>\n",
       "    </tr>\n",
       "    <tr>\n",
       "      <th>167</th>\n",
       "      <td>경상남도</td>\n",
       "      <td>합천</td>\n",
       "      <td>18</td>\n",
       "      <td>17</td>\n",
       "      <td>14</td>\n",
       "      <td>15</td>\n",
       "      <td>18</td>\n",
       "      <td>11**</td>\n",
       "    </tr>\n",
       "    <tr>\n",
       "      <th>168</th>\n",
       "      <td>경상남도</td>\n",
       "      <td>도평균</td>\n",
       "      <td>19</td>\n",
       "      <td>19</td>\n",
       "      <td>15</td>\n",
       "      <td>15</td>\n",
       "      <td>16</td>\n",
       "      <td>12*</td>\n",
       "    </tr>\n",
       "    <tr>\n",
       "      <th>169</th>\n",
       "      <td>제주특별자치도</td>\n",
       "      <td>제주특별자치도</td>\n",
       "      <td>18</td>\n",
       "      <td>24</td>\n",
       "      <td>14</td>\n",
       "      <td>16</td>\n",
       "      <td>14</td>\n",
       "      <td>8</td>\n",
       "    </tr>\n",
       "    <tr>\n",
       "      <th>170</th>\n",
       "      <td>제주특별자치도</td>\n",
       "      <td>서귀포</td>\n",
       "      <td>16</td>\n",
       "      <td>23</td>\n",
       "      <td>14</td>\n",
       "      <td>16</td>\n",
       "      <td>12</td>\n",
       "      <td>8</td>\n",
       "    </tr>\n",
       "    <tr>\n",
       "      <th>171</th>\n",
       "      <td>제주특별자치도</td>\n",
       "      <td>도평균</td>\n",
       "      <td>17</td>\n",
       "      <td>23</td>\n",
       "      <td>14</td>\n",
       "      <td>16</td>\n",
       "      <td>13</td>\n",
       "      <td>8</td>\n",
       "    </tr>\n",
       "  </tbody>\n",
       "</table>\n",
       "<p>172 rows × 8 columns</p>\n",
       "</div>"
      ],
      "text/plain": [
       "       구분(1)    구분(2) 2021.02 2021.03 2021.04 2021.05 2021.06 2021.07\n",
       "0         총계       소계      25      27      17      19      19      12\n",
       "1      서울특별시    서울특별시      29      32      19      20      19      15\n",
       "2      부산광역시    부산광역시      21      21      15      16      15       9\n",
       "3      대구광역시    대구광역시      24      23      17      18      20      10\n",
       "4      인천광역시    인천광역시      28      33      19      20      23      19\n",
       "..       ...      ...     ...     ...     ...     ...     ...     ...\n",
       "167     경상남도       합천      18      17      14      15      18    11**\n",
       "168     경상남도      도평균      19      19      15      15      16     12*\n",
       "169  제주특별자치도  제주특별자치도      18      24      14      16      14       8\n",
       "170  제주특별자치도      서귀포      16      23      14      16      12       8\n",
       "171  제주특별자치도      도평균      17      23      14      16      13       8\n",
       "\n",
       "[172 rows x 8 columns]"
      ]
     },
     "execution_count": 441,
     "metadata": {},
     "output_type": "execute_result"
    }
   ],
   "source": [
    "pm25_file_path = 'C:\\\\Users\\\\SAMSUNG\\\\Desktop\\\\Green-Car-Charging-Station-Site-Selection\\\\Data\\\\미세먼지_PM2.5__월별_도시별_대기오염도.csv'\n",
    "df_pm25 = pd.read_csv(pm25_file_path, encoding='cp949')\n",
    "df_pm25"
   ]
  },
  {
   "cell_type": "code",
   "execution_count": 442,
   "metadata": {
    "collapsed": false,
    "pycharm": {
     "name": "#%%\n"
    }
   },
   "outputs": [
    {
     "name": "stdout",
     "output_type": "stream",
     "text": [
      "<class 'pandas.core.frame.DataFrame'>\n",
      "RangeIndex: 172 entries, 0 to 171\n",
      "Data columns (total 8 columns):\n",
      " #   Column   Non-Null Count  Dtype \n",
      "---  ------   --------------  ----- \n",
      " 0   구분(1)    172 non-null    object\n",
      " 1   구분(2)    172 non-null    object\n",
      " 2   2021.02  172 non-null    object\n",
      " 3   2021.03  172 non-null    object\n",
      " 4   2021.04  172 non-null    object\n",
      " 5   2021.05  172 non-null    object\n",
      " 6   2021.06  172 non-null    object\n",
      " 7   2021.07  172 non-null    object\n",
      "dtypes: object(8)\n",
      "memory usage: 10.9+ KB\n"
     ]
    }
   ],
   "source": [
    "df_pm25.info()"
   ]
  },
  {
   "cell_type": "code",
   "execution_count": 443,
   "metadata": {
    "collapsed": false,
    "pycharm": {
     "name": "#%%\n"
    }
   },
   "outputs": [],
   "source": [
    "pm25_col = df_pm25.iloc[:,2:-1].columns.tolist()"
   ]
  },
  {
   "cell_type": "code",
   "execution_count": 444,
   "metadata": {
    "collapsed": false,
    "pycharm": {
     "name": "#%%\n"
    }
   },
   "outputs": [],
   "source": [
    "df_pm25.drop(columns=pm25_col, inplace=True)"
   ]
  },
  {
   "cell_type": "code",
   "execution_count": 445,
   "metadata": {
    "collapsed": false,
    "pycharm": {
     "name": "#%%\n"
    }
   },
   "outputs": [],
   "source": [
    "advanced_replace(df_pm25, '2021.07','-',r'[^0-9.0-9]')\n",
    "df_pm25['2021.07'] = df_pm25['2021.07'].astype(float)"
   ]
  },
  {
   "cell_type": "code",
   "execution_count": 446,
   "metadata": {
    "collapsed": false,
    "pycharm": {
     "name": "#%%\n"
    }
   },
   "outputs": [
    {
     "name": "stdout",
     "output_type": "stream",
     "text": [
      "<class 'pandas.core.frame.DataFrame'>\n",
      "RangeIndex: 172 entries, 0 to 171\n",
      "Data columns (total 3 columns):\n",
      " #   Column   Non-Null Count  Dtype  \n",
      "---  ------   --------------  -----  \n",
      " 0   구분(1)    172 non-null    object \n",
      " 1   구분(2)    172 non-null    object \n",
      " 2   2021.07  172 non-null    float64\n",
      "dtypes: float64(1), object(2)\n",
      "memory usage: 4.2+ KB\n"
     ]
    }
   ],
   "source": [
    "df_pm25.info()"
   ]
  },
  {
   "cell_type": "code",
   "execution_count": 447,
   "metadata": {
    "collapsed": false,
    "pycharm": {
     "name": "#%%\n"
    }
   },
   "outputs": [
    {
     "data": {
      "text/html": [
       "<div>\n",
       "<style scoped>\n",
       "    .dataframe tbody tr th:only-of-type {\n",
       "        vertical-align: middle;\n",
       "    }\n",
       "\n",
       "    .dataframe tbody tr th {\n",
       "        vertical-align: top;\n",
       "    }\n",
       "\n",
       "    .dataframe thead th {\n",
       "        text-align: right;\n",
       "    }\n",
       "</style>\n",
       "<table border=\"1\" class=\"dataframe\">\n",
       "  <thead>\n",
       "    <tr style=\"text-align: right;\">\n",
       "      <th></th>\n",
       "      <th>2021.07</th>\n",
       "    </tr>\n",
       "  </thead>\n",
       "  <tbody>\n",
       "    <tr>\n",
       "      <th>count</th>\n",
       "      <td>172.000000</td>\n",
       "    </tr>\n",
       "    <tr>\n",
       "      <th>mean</th>\n",
       "      <td>11.558140</td>\n",
       "    </tr>\n",
       "    <tr>\n",
       "      <th>std</th>\n",
       "      <td>2.888188</td>\n",
       "    </tr>\n",
       "    <tr>\n",
       "      <th>min</th>\n",
       "      <td>0.000000</td>\n",
       "    </tr>\n",
       "    <tr>\n",
       "      <th>25%</th>\n",
       "      <td>10.000000</td>\n",
       "    </tr>\n",
       "    <tr>\n",
       "      <th>50%</th>\n",
       "      <td>11.000000</td>\n",
       "    </tr>\n",
       "    <tr>\n",
       "      <th>75%</th>\n",
       "      <td>13.000000</td>\n",
       "    </tr>\n",
       "    <tr>\n",
       "      <th>max</th>\n",
       "      <td>19.000000</td>\n",
       "    </tr>\n",
       "  </tbody>\n",
       "</table>\n",
       "</div>"
      ],
      "text/plain": [
       "          2021.07\n",
       "count  172.000000\n",
       "mean    11.558140\n",
       "std      2.888188\n",
       "min      0.000000\n",
       "25%     10.000000\n",
       "50%     11.000000\n",
       "75%     13.000000\n",
       "max     19.000000"
      ]
     },
     "execution_count": 447,
     "metadata": {},
     "output_type": "execute_result"
    }
   ],
   "source": [
    "df_pm25.describe()"
   ]
  },
  {
   "cell_type": "code",
   "execution_count": 448,
   "metadata": {},
   "outputs": [
    {
     "data": {
      "application/vnd.plotly.v1+json": {
       "config": {
        "plotlyServerURL": "https://plot.ly"
       },
       "data": [
        {
         "hovertemplate": "x=%{x}<br>y=%{y}<extra></extra>",
         "legendgroup": "",
         "line": {
          "color": "#636efa",
          "dash": "solid"
         },
         "mode": "lines",
         "name": "",
         "orientation": "v",
         "showlegend": false,
         "type": "scatter",
         "x": [
          -2.8881878863685206,
          -2.667095079435505,
          -2.44600227250249,
          -2.2249094655694748,
          -2.003816658636459,
          -1.7827238517034438,
          -1.5616310447704285,
          -1.340538237837413,
          -1.1194454309043977,
          -0.8983526239713824,
          -0.677259817038367,
          -0.45616701010535143,
          -0.2350742031723363,
          -0.013981396239321153,
          0.20711141069369443,
          0.42820421762671,
          0.6492970245597252,
          0.8703898314927403,
          1.0914826384257559,
          1.3125754453587715,
          1.5336682522917866,
          1.7547610592248017,
          1.9758538661578178,
          2.196946673090833,
          2.418039480023848,
          2.639132286956863,
          2.8602250938898783,
          3.0813179008228944,
          3.3024107077559095,
          3.5235035146889246,
          3.7445963216219407,
          3.965689128554956,
          4.186781935487971,
          4.4078747424209865,
          4.628967549354002,
          4.850060356287017,
          5.071153163220032,
          5.292245970153049,
          5.513338777086064,
          5.734431584019079,
          5.955524390952094,
          6.176617197885109,
          6.397710004818125,
          6.61880281175114,
          6.839895618684157,
          7.060988425617172,
          7.282081232550187,
          7.503174039483202,
          7.724266846416217,
          7.945359653349232,
          8.166452460282247,
          8.387545267215263,
          8.608638074148278,
          8.829730881081295,
          9.05082368801431,
          9.271916494947325,
          9.49300930188034,
          9.714102108813355,
          9.93519491574637,
          10.156287722679386,
          10.377380529612402,
          10.598473336545418,
          10.819566143478433,
          11.040658950411448,
          11.261751757344463,
          11.482844564277478,
          11.703937371210493,
          11.925030178143508,
          12.146122985076524,
          12.36721579200954,
          12.588308598942556,
          12.80940140587557,
          13.030494212808586,
          13.251587019741603,
          13.472679826674618,
          13.693772633607633,
          13.914865440540648,
          14.135958247473663,
          14.357051054406679,
          14.578143861339694,
          14.799236668272709,
          15.020329475205724,
          15.241422282138739,
          15.462515089071754,
          15.68360789600477,
          15.904700702937784,
          16.1257935098708,
          16.346886316803815,
          16.567979123736833,
          16.78907193066985,
          17.010164737602864,
          17.23125754453588,
          17.452350351468894,
          17.67344315840191,
          17.894535965334924,
          18.11562877226794,
          18.336721579200955,
          18.55781438613397,
          18.778907193066985,
          19
         ],
         "xaxis": "x",
         "y": [
          5.099785456332414e-7,
          7.457086424463244e-7,
          0.0000010840304382083028,
          0.0000015666385440642002,
          0.0000022508739130914707,
          0.0000032150561230326194,
          0.000004565422546091181,
          0.000006445081745168948,
          0.000009045465278521702,
          0.000012620844674049163,
          0.000017506565898699487,
          0.000024141738089893073,
          0.000033097190922716423,
          0.00004510957822736583,
          0.00006112254484245643,
          0.00008233587766646192,
          0.0001102635170029353,
          0.0001468011955042432,
          0.00019430428312234584,
          0.00025567613100648917,
          0.00033446680961685604,
          0.00043498161310161725,
          0.0005623980438907219,
          0.0007228891951953486,
          0.000923750519549566,
          0.001173525923932179,
          0.0014821279939848423,
          0.0018609459630433357,
          0.0023229338628015985,
          0.0028826701932553453,
          0.003556379516039075,
          0.004361905704946282,
          0.00531862628554522,
          0.0064472974696788985,
          0.007769820242509728,
          0.00930891927835561,
          0.0110877286126903,
          0.013129280914560766,
          0.015455900877575004,
          0.018088507619771807,
          0.021045835938382336,
          0.02434359163124229,
          0.027993561641242344,
          0.03200270522053179,
          0.0363722573226002,
          0.041096879662297116,
          0.046163897979762565,
          0.05155266566509417,
          0.05723409375055489,
          0.0631703851297719,
          0.06931500658616471,
          0.07561292578795373,
          0.08200113194633213,
          0.08840944858523118,
          0.09476163521865401,
          0.1009767621802801,
          0.10697083000559084,
          0.1126585923033977,
          0.11795552967509565,
          0.12277991263511112,
          0.12705488428251138,
          0.13071048919294212,
          0.13368557401692804,
          0.13592948778188735,
          0.13740351589899039,
          0.13808199116409606,
          0.1379530372071293,
          0.13701891430112298,
          0.13529595346163473,
          0.13281408152126492,
          0.12961595647766863,
          0.12575574802084288,
          0.12129761194466167,
          0.11631391845096044,
          0.11088330263027901,
          0.10508861030622466,
          0.09901481381786223,
          0.09274697024942857,
          0.08636828935542717,
          0.07995837039734904,
          0.07359165686578842,
          0.06733614626078978,
          0.06125237944250103,
          0.055392721242577034,
          0.04980093170058036,
          0.04451201603557497,
          0.03955233174959782,
          0.034939923427722515,
          0.030685050053669272,
          0.02679086606965476,
          0.02325421591807437,
          0.02006650224571374,
          0.017214590077126824,
          0.014681712760147316,
          0.012448350005874699,
          0.010493053530853799,
          0.00879320131629486,
          0.007325667015203983,
          0.006067396295703869,
          0.004995886694459349
         ],
         "yaxis": "y"
        }
       ],
       "layout": {
        "legend": {
         "tracegroupgap": 0
        },
        "margin": {
         "t": 60
        },
        "template": {
         "data": {
          "bar": [
           {
            "error_x": {
             "color": "#2a3f5f"
            },
            "error_y": {
             "color": "#2a3f5f"
            },
            "marker": {
             "line": {
              "color": "#E5ECF6",
              "width": 0.5
             },
             "pattern": {
              "fillmode": "overlay",
              "size": 10,
              "solidity": 0.2
             }
            },
            "type": "bar"
           }
          ],
          "barpolar": [
           {
            "marker": {
             "line": {
              "color": "#E5ECF6",
              "width": 0.5
             },
             "pattern": {
              "fillmode": "overlay",
              "size": 10,
              "solidity": 0.2
             }
            },
            "type": "barpolar"
           }
          ],
          "carpet": [
           {
            "aaxis": {
             "endlinecolor": "#2a3f5f",
             "gridcolor": "white",
             "linecolor": "white",
             "minorgridcolor": "white",
             "startlinecolor": "#2a3f5f"
            },
            "baxis": {
             "endlinecolor": "#2a3f5f",
             "gridcolor": "white",
             "linecolor": "white",
             "minorgridcolor": "white",
             "startlinecolor": "#2a3f5f"
            },
            "type": "carpet"
           }
          ],
          "choropleth": [
           {
            "colorbar": {
             "outlinewidth": 0,
             "ticks": ""
            },
            "type": "choropleth"
           }
          ],
          "contour": [
           {
            "colorbar": {
             "outlinewidth": 0,
             "ticks": ""
            },
            "colorscale": [
             [
              0,
              "#0d0887"
             ],
             [
              0.1111111111111111,
              "#46039f"
             ],
             [
              0.2222222222222222,
              "#7201a8"
             ],
             [
              0.3333333333333333,
              "#9c179e"
             ],
             [
              0.4444444444444444,
              "#bd3786"
             ],
             [
              0.5555555555555556,
              "#d8576b"
             ],
             [
              0.6666666666666666,
              "#ed7953"
             ],
             [
              0.7777777777777778,
              "#fb9f3a"
             ],
             [
              0.8888888888888888,
              "#fdca26"
             ],
             [
              1,
              "#f0f921"
             ]
            ],
            "type": "contour"
           }
          ],
          "contourcarpet": [
           {
            "colorbar": {
             "outlinewidth": 0,
             "ticks": ""
            },
            "type": "contourcarpet"
           }
          ],
          "heatmap": [
           {
            "colorbar": {
             "outlinewidth": 0,
             "ticks": ""
            },
            "colorscale": [
             [
              0,
              "#0d0887"
             ],
             [
              0.1111111111111111,
              "#46039f"
             ],
             [
              0.2222222222222222,
              "#7201a8"
             ],
             [
              0.3333333333333333,
              "#9c179e"
             ],
             [
              0.4444444444444444,
              "#bd3786"
             ],
             [
              0.5555555555555556,
              "#d8576b"
             ],
             [
              0.6666666666666666,
              "#ed7953"
             ],
             [
              0.7777777777777778,
              "#fb9f3a"
             ],
             [
              0.8888888888888888,
              "#fdca26"
             ],
             [
              1,
              "#f0f921"
             ]
            ],
            "type": "heatmap"
           }
          ],
          "heatmapgl": [
           {
            "colorbar": {
             "outlinewidth": 0,
             "ticks": ""
            },
            "colorscale": [
             [
              0,
              "#0d0887"
             ],
             [
              0.1111111111111111,
              "#46039f"
             ],
             [
              0.2222222222222222,
              "#7201a8"
             ],
             [
              0.3333333333333333,
              "#9c179e"
             ],
             [
              0.4444444444444444,
              "#bd3786"
             ],
             [
              0.5555555555555556,
              "#d8576b"
             ],
             [
              0.6666666666666666,
              "#ed7953"
             ],
             [
              0.7777777777777778,
              "#fb9f3a"
             ],
             [
              0.8888888888888888,
              "#fdca26"
             ],
             [
              1,
              "#f0f921"
             ]
            ],
            "type": "heatmapgl"
           }
          ],
          "histogram": [
           {
            "marker": {
             "pattern": {
              "fillmode": "overlay",
              "size": 10,
              "solidity": 0.2
             }
            },
            "type": "histogram"
           }
          ],
          "histogram2d": [
           {
            "colorbar": {
             "outlinewidth": 0,
             "ticks": ""
            },
            "colorscale": [
             [
              0,
              "#0d0887"
             ],
             [
              0.1111111111111111,
              "#46039f"
             ],
             [
              0.2222222222222222,
              "#7201a8"
             ],
             [
              0.3333333333333333,
              "#9c179e"
             ],
             [
              0.4444444444444444,
              "#bd3786"
             ],
             [
              0.5555555555555556,
              "#d8576b"
             ],
             [
              0.6666666666666666,
              "#ed7953"
             ],
             [
              0.7777777777777778,
              "#fb9f3a"
             ],
             [
              0.8888888888888888,
              "#fdca26"
             ],
             [
              1,
              "#f0f921"
             ]
            ],
            "type": "histogram2d"
           }
          ],
          "histogram2dcontour": [
           {
            "colorbar": {
             "outlinewidth": 0,
             "ticks": ""
            },
            "colorscale": [
             [
              0,
              "#0d0887"
             ],
             [
              0.1111111111111111,
              "#46039f"
             ],
             [
              0.2222222222222222,
              "#7201a8"
             ],
             [
              0.3333333333333333,
              "#9c179e"
             ],
             [
              0.4444444444444444,
              "#bd3786"
             ],
             [
              0.5555555555555556,
              "#d8576b"
             ],
             [
              0.6666666666666666,
              "#ed7953"
             ],
             [
              0.7777777777777778,
              "#fb9f3a"
             ],
             [
              0.8888888888888888,
              "#fdca26"
             ],
             [
              1,
              "#f0f921"
             ]
            ],
            "type": "histogram2dcontour"
           }
          ],
          "mesh3d": [
           {
            "colorbar": {
             "outlinewidth": 0,
             "ticks": ""
            },
            "type": "mesh3d"
           }
          ],
          "parcoords": [
           {
            "line": {
             "colorbar": {
              "outlinewidth": 0,
              "ticks": ""
             }
            },
            "type": "parcoords"
           }
          ],
          "pie": [
           {
            "automargin": true,
            "type": "pie"
           }
          ],
          "scatter": [
           {
            "marker": {
             "colorbar": {
              "outlinewidth": 0,
              "ticks": ""
             }
            },
            "type": "scatter"
           }
          ],
          "scatter3d": [
           {
            "line": {
             "colorbar": {
              "outlinewidth": 0,
              "ticks": ""
             }
            },
            "marker": {
             "colorbar": {
              "outlinewidth": 0,
              "ticks": ""
             }
            },
            "type": "scatter3d"
           }
          ],
          "scattercarpet": [
           {
            "marker": {
             "colorbar": {
              "outlinewidth": 0,
              "ticks": ""
             }
            },
            "type": "scattercarpet"
           }
          ],
          "scattergeo": [
           {
            "marker": {
             "colorbar": {
              "outlinewidth": 0,
              "ticks": ""
             }
            },
            "type": "scattergeo"
           }
          ],
          "scattergl": [
           {
            "marker": {
             "colorbar": {
              "outlinewidth": 0,
              "ticks": ""
             }
            },
            "type": "scattergl"
           }
          ],
          "scattermapbox": [
           {
            "marker": {
             "colorbar": {
              "outlinewidth": 0,
              "ticks": ""
             }
            },
            "type": "scattermapbox"
           }
          ],
          "scatterpolar": [
           {
            "marker": {
             "colorbar": {
              "outlinewidth": 0,
              "ticks": ""
             }
            },
            "type": "scatterpolar"
           }
          ],
          "scatterpolargl": [
           {
            "marker": {
             "colorbar": {
              "outlinewidth": 0,
              "ticks": ""
             }
            },
            "type": "scatterpolargl"
           }
          ],
          "scatterternary": [
           {
            "marker": {
             "colorbar": {
              "outlinewidth": 0,
              "ticks": ""
             }
            },
            "type": "scatterternary"
           }
          ],
          "surface": [
           {
            "colorbar": {
             "outlinewidth": 0,
             "ticks": ""
            },
            "colorscale": [
             [
              0,
              "#0d0887"
             ],
             [
              0.1111111111111111,
              "#46039f"
             ],
             [
              0.2222222222222222,
              "#7201a8"
             ],
             [
              0.3333333333333333,
              "#9c179e"
             ],
             [
              0.4444444444444444,
              "#bd3786"
             ],
             [
              0.5555555555555556,
              "#d8576b"
             ],
             [
              0.6666666666666666,
              "#ed7953"
             ],
             [
              0.7777777777777778,
              "#fb9f3a"
             ],
             [
              0.8888888888888888,
              "#fdca26"
             ],
             [
              1,
              "#f0f921"
             ]
            ],
            "type": "surface"
           }
          ],
          "table": [
           {
            "cells": {
             "fill": {
              "color": "#EBF0F8"
             },
             "line": {
              "color": "white"
             }
            },
            "header": {
             "fill": {
              "color": "#C8D4E3"
             },
             "line": {
              "color": "white"
             }
            },
            "type": "table"
           }
          ]
         },
         "layout": {
          "annotationdefaults": {
           "arrowcolor": "#2a3f5f",
           "arrowhead": 0,
           "arrowwidth": 1
          },
          "autotypenumbers": "strict",
          "coloraxis": {
           "colorbar": {
            "outlinewidth": 0,
            "ticks": ""
           }
          },
          "colorscale": {
           "diverging": [
            [
             0,
             "#8e0152"
            ],
            [
             0.1,
             "#c51b7d"
            ],
            [
             0.2,
             "#de77ae"
            ],
            [
             0.3,
             "#f1b6da"
            ],
            [
             0.4,
             "#fde0ef"
            ],
            [
             0.5,
             "#f7f7f7"
            ],
            [
             0.6,
             "#e6f5d0"
            ],
            [
             0.7,
             "#b8e186"
            ],
            [
             0.8,
             "#7fbc41"
            ],
            [
             0.9,
             "#4d9221"
            ],
            [
             1,
             "#276419"
            ]
           ],
           "sequential": [
            [
             0,
             "#0d0887"
            ],
            [
             0.1111111111111111,
             "#46039f"
            ],
            [
             0.2222222222222222,
             "#7201a8"
            ],
            [
             0.3333333333333333,
             "#9c179e"
            ],
            [
             0.4444444444444444,
             "#bd3786"
            ],
            [
             0.5555555555555556,
             "#d8576b"
            ],
            [
             0.6666666666666666,
             "#ed7953"
            ],
            [
             0.7777777777777778,
             "#fb9f3a"
            ],
            [
             0.8888888888888888,
             "#fdca26"
            ],
            [
             1,
             "#f0f921"
            ]
           ],
           "sequentialminus": [
            [
             0,
             "#0d0887"
            ],
            [
             0.1111111111111111,
             "#46039f"
            ],
            [
             0.2222222222222222,
             "#7201a8"
            ],
            [
             0.3333333333333333,
             "#9c179e"
            ],
            [
             0.4444444444444444,
             "#bd3786"
            ],
            [
             0.5555555555555556,
             "#d8576b"
            ],
            [
             0.6666666666666666,
             "#ed7953"
            ],
            [
             0.7777777777777778,
             "#fb9f3a"
            ],
            [
             0.8888888888888888,
             "#fdca26"
            ],
            [
             1,
             "#f0f921"
            ]
           ]
          },
          "colorway": [
           "#636efa",
           "#EF553B",
           "#00cc96",
           "#ab63fa",
           "#FFA15A",
           "#19d3f3",
           "#FF6692",
           "#B6E880",
           "#FF97FF",
           "#FECB52"
          ],
          "font": {
           "color": "#2a3f5f"
          },
          "geo": {
           "bgcolor": "white",
           "lakecolor": "white",
           "landcolor": "#E5ECF6",
           "showlakes": true,
           "showland": true,
           "subunitcolor": "white"
          },
          "hoverlabel": {
           "align": "left"
          },
          "hovermode": "closest",
          "mapbox": {
           "style": "light"
          },
          "paper_bgcolor": "white",
          "plot_bgcolor": "#E5ECF6",
          "polar": {
           "angularaxis": {
            "gridcolor": "white",
            "linecolor": "white",
            "ticks": ""
           },
           "bgcolor": "#E5ECF6",
           "radialaxis": {
            "gridcolor": "white",
            "linecolor": "white",
            "ticks": ""
           }
          },
          "scene": {
           "xaxis": {
            "backgroundcolor": "#E5ECF6",
            "gridcolor": "white",
            "gridwidth": 2,
            "linecolor": "white",
            "showbackground": true,
            "ticks": "",
            "zerolinecolor": "white"
           },
           "yaxis": {
            "backgroundcolor": "#E5ECF6",
            "gridcolor": "white",
            "gridwidth": 2,
            "linecolor": "white",
            "showbackground": true,
            "ticks": "",
            "zerolinecolor": "white"
           },
           "zaxis": {
            "backgroundcolor": "#E5ECF6",
            "gridcolor": "white",
            "gridwidth": 2,
            "linecolor": "white",
            "showbackground": true,
            "ticks": "",
            "zerolinecolor": "white"
           }
          },
          "shapedefaults": {
           "line": {
            "color": "#2a3f5f"
           }
          },
          "ternary": {
           "aaxis": {
            "gridcolor": "white",
            "linecolor": "white",
            "ticks": ""
           },
           "baxis": {
            "gridcolor": "white",
            "linecolor": "white",
            "ticks": ""
           },
           "bgcolor": "#E5ECF6",
           "caxis": {
            "gridcolor": "white",
            "linecolor": "white",
            "ticks": ""
           }
          },
          "title": {
           "x": 0.05
          },
          "xaxis": {
           "automargin": true,
           "gridcolor": "white",
           "linecolor": "white",
           "ticks": "",
           "title": {
            "standoff": 15
           },
           "zerolinecolor": "white",
           "zerolinewidth": 2
          },
          "yaxis": {
           "automargin": true,
           "gridcolor": "white",
           "linecolor": "white",
           "ticks": "",
           "title": {
            "standoff": 15
           },
           "zerolinecolor": "white",
           "zerolinewidth": 2
          }
         }
        },
        "xaxis": {
         "anchor": "y",
         "domain": [
          0,
          1
         ],
         "title": {
          "text": "x"
         }
        },
        "yaxis": {
         "anchor": "x",
         "domain": [
          0,
          1
         ],
         "title": {
          "text": "y"
         }
        }
       }
      }
     },
     "metadata": {},
     "output_type": "display_data"
    }
   ],
   "source": [
    "mean = df_pm25.iloc[:,2].mean()\n",
    "std = df_pm25.iloc[:,2].std()\n",
    "min = df_pm25.iloc[:,2].min()\n",
    "max = df_pm25.iloc[:,2].max()\n",
    "show_norm(mean,std,min,max)"
   ]
  },
  {
   "cell_type": "code",
   "execution_count": 449,
   "metadata": {},
   "outputs": [
    {
     "data": {
      "application/vnd.plotly.v1+json": {
       "config": {
        "plotlyServerURL": "https://plot.ly"
       },
       "data": [
        {
         "fill": "tozeroy",
         "line": {
          "color": "rgb(100,110,250)"
         },
         "name": "적합",
         "text": "0.18788293015230972",
         "type": "scatter",
         "x": [
          -2.8881878863685206,
          -2.7681051804456063,
          -2.648022474522692,
          -2.5279397685997775,
          -2.407857062676863,
          -2.287774356753949,
          -2.167691650831035,
          -2.04760894490812,
          -1.927526238985206,
          -1.8074435330622916,
          -1.6873608271393772,
          -1.5672781212164628,
          -1.4471954152935487,
          -1.3271127093706343,
          -1.20703000344772,
          -1.0869472975248056,
          -0.9668645916018912,
          -0.8467818856789768,
          -0.7266991797560625,
          -0.6066164738331481,
          -0.4865337679102337,
          -0.36645106198731936,
          -0.246368356064405,
          -0.12628565014149062,
          -0.0062029442185767,
          0.11387976170433767,
          0.23396246762725204,
          0.3540451735501664,
          0.47412787947308077,
          0.5942105853959951,
          0.7142932913189095,
          0.8343759972418239,
          0.9544587031647382,
          1.0745414090876526,
          1.194624115010567,
          1.314706820933481,
          1.4347895268563957,
          1.5548722327793096,
          1.6749549387022244,
          1.7950376446251384,
          1.9151203505480532,
          2.035203056470967,
          2.155285762393882,
          2.275368468316796,
          2.3954511742397107,
          2.5155338801626246,
          2.6356165860855394,
          2.7556992920084533,
          2.8757819979313672,
          2.995864703854282,
          3.115947409777196,
          3.236030115700111,
          3.3561128216230247,
          3.4761955275459395,
          3.5962782334688534,
          3.7163609393917683,
          3.836443645314682,
          3.956526351237597,
          4.0766090571605105,
          4.196691763083425,
          4.31677446900634,
          4.436857174929255,
          4.556939880852168,
          4.677022586775083,
          4.797105292697998,
          4.917187998620911,
          5.037270704543825,
          5.15735341046674,
          5.277436116389655,
          5.39751882231257,
          5.517601528235483,
          5.637684234158398,
          5.7577669400813125,
          5.877849646004227,
          5.99793235192714,
          6.118015057850055,
          6.23809776377297,
          6.358180469695885,
          6.478263175618798,
          6.598345881541713,
          6.7184285874646275,
          6.8385112933875405,
          6.958593999310455,
          7.07867670523337,
          7.198759411156285,
          7.318842117079198,
          7.438924823002113,
          7.559007528925028,
          7.679090234847942,
          7.799172940770855,
          7.91925564669377,
          8.039338352616685,
          8.1594210585396,
          8.279503764462513,
          8.399586470385428,
          8.519669176308343,
          8.639751882231256,
          8.75983458815417,
          8.879917294077085,
          9
         ],
         "y": [
          5.099785456332414e-7,
          6.273269065908844e-7,
          7.703448367025075e-7,
          9.443341351182754e-7,
          0.0000011556210731484293,
          0.0000014117391826403309,
          0.0000017216415536874115,
          0.000002095946802627501,
          0.0000025472233465812125,
          0.000003090317130476636,
          0.0000037427284954314437,
          0.000004525044451454272,
          0.000005461433219579918,
          0.00000658020853446054,
          0.000007914471842423358,
          0.000009502841184863029,
          0.000011390276213633401,
          0.00001362900943304,
          0.000016279594389253943,
          0.000019412082117441055,
          0.000023107337692260024,
          0.000027458509188861,
          0.000032572661726844455,
          0.000038572589514043066,
          0.00004559881890322317,
          0.00005381181539320362,
          0.00006339440721461071,
          0.00007455443760563819,
          0.00008752765706927104,
          0.00010258086577371174,
          0.00012001531477477449,
          0.0001401703728653609,
          0.00016342746355599763,
          0.0001902142739267115,
          0.0002210092338316964,
          0.00025634626015543795,
          0.00029681975648839756,
          0.0003430898536942846,
          0.0003958878713694995,
          0.00045602197414743126,
          0.0005243829901857852,
          0.0006019503520154646,
          0.000689798112260157,
          0.0007891009786064294,
          0.000901140303881167,
          0.0010273099582597588,
          0.001169122001585891,
          0.0013282120646521676,
          0.0015063443392088506,
          0.0017054160675932955,
          0.001927461414381313,
          0.0021746545945463057,
          0.0024493121254814906,
          0.002753894064117146,
          0.0030910040854812155,
          0.0034633882556487326,
          0.0038739323503474976,
          0.004325657570777693,
          0.004821714510699606,
          0.005365375233772641,
          0.005960023327699667,
          0.0066091418121300635,
          0.007316298790657364,
          0.008085130753734512,
          0.0089193234589962,
          0.009822590338353188,
          0.01079864840727717,
          0.01185119168084117,
          0.012983862133162929,
          0.014200218271696765,
          0.015503701435036292,
          0.016897599962160042,
          0.018385011421933946,
          0.019968803133666016,
          0.021651571252012447,
          0.02343559873191681,
          0.025322812530829155,
          0.02731474044545703,
          0.02941246801796271,
          0.03161659598104205,
          0.03392719874188173,
          0.036343784430792295,
          0.038865257060563235,
          0.04148988135653906,
          0.044215250824385835,
          0.04703825962188235,
          0.049955078792314485,
          0.05296113739975424,
          0.05605110908037826,
          0.05921890448887106,
          0.06245767007486283,
          0.0657597935714259,
          0.0691169165162246,
          0.07251995405646591,
          0.07595912221200188,
          0.07942397268761298,
          0.08290343523664467,
          0.08638586748491124,
          0.08985911202739139,
          0.09331056051210472
         ]
        },
        {
         "fill": "tozeroy",
         "line": {
          "color": "rgb(239,85,59)"
         },
         "name": "부적합",
         "text": "0.18788293015230972",
         "type": "scatter",
         "x": [
          9,
          9.1010101010101,
          9.202020202020202,
          9.303030303030303,
          9.404040404040405,
          9.505050505050505,
          9.606060606060606,
          9.707070707070708,
          9.808080808080808,
          9.909090909090908,
          10.01010101010101,
          10.11111111111111,
          10.212121212121213,
          10.313131313131313,
          10.414141414141413,
          10.515151515151516,
          10.616161616161616,
          10.717171717171716,
          10.818181818181818,
          10.919191919191919,
          11.02020202020202,
          11.121212121212121,
          11.222222222222221,
          11.323232323232324,
          11.424242424242424,
          11.525252525252526,
          11.626262626262626,
          11.727272727272727,
          11.828282828282829,
          11.929292929292929,
          12.030303030303031,
          12.131313131313131,
          12.232323232323232,
          12.333333333333334,
          12.434343434343434,
          12.535353535353536,
          12.636363636363637,
          12.737373737373737,
          12.838383838383837,
          12.93939393939394,
          13.040404040404042,
          13.141414141414142,
          13.242424242424242,
          13.343434343434343,
          13.444444444444445,
          13.545454545454545,
          13.646464646464647,
          13.747474747474747,
          13.848484848484848,
          13.94949494949495,
          14.05050505050505,
          14.151515151515152,
          14.252525252525253,
          14.353535353535353,
          14.454545454545453,
          14.555555555555555,
          14.656565656565657,
          14.757575757575758,
          14.858585858585858,
          14.959595959595958,
          15.06060606060606,
          15.161616161616163,
          15.262626262626263,
          15.363636363636363,
          15.464646464646464,
          15.565656565656566,
          15.666666666666668,
          15.767676767676768,
          15.868686868686869,
          15.969696969696969,
          16.070707070707073,
          16.17171717171717,
          16.272727272727273,
          16.373737373737374,
          16.474747474747474,
          16.575757575757574,
          16.676767676767675,
          16.77777777777778,
          16.87878787878788,
          16.97979797979798,
          17.080808080808083,
          17.18181818181818,
          17.282828282828284,
          17.383838383838384,
          17.484848484848484,
          17.58585858585859,
          17.686868686868685,
          17.78787878787879,
          17.88888888888889,
          17.98989898989899,
          18.09090909090909,
          18.19191919191919,
          18.292929292929294,
          18.393939393939394,
          18.494949494949495,
          18.595959595959595,
          18.696969696969695,
          18.7979797979798,
          18.8989898989899,
          19
         ],
         "y": [
          0.09331056051210472,
          0.09618742488366186,
          0.09903178150350932,
          0.10183561238896109,
          0.10459081831697475,
          0.10728925667243665,
          0.10992278061241631,
          0.11248327929106632,
          0.11496271887391593,
          0.11735318405665074,
          0.11964691979229487,
          0.12183637292220555,
          0.12391423340060138,
          0.12587347479960062,
          0.1277073937820382,
          0.1294096482327057,
          0.1309742937451435,
          0.13239581817068077,
          0.1336691739490115,
          0.13478980795511553,
          0.13575368861564796,
          0.1365573300688564,
          0.13719781316544302,
          0.13767280313332664,
          0.13798056375671652,
          0.13811996794899625,
          0.13809050462931463,
          0.13789228184417077,
          0.13752602610731154,
          0.13699307796358481,
          0.13629538381465583,
          0.13543548407634032,
          0.13441649776839057,
          0.13324210366754885,
          0.13191651818323427,
          0.13044447014204827,
          0.12883117269209107,
          0.12708229256061765,
          0.12520391691860722,
          0.12320251812317534,
          0.12108491662327224,
          0.11885824232565577,
          0.11652989472662424,
          0.11410750212039526,
          0.11159888019731212,
          0.10901199034428542,
          0.10635489795609122,
          0.10363573105946433,
          0.10086263954246248,
          0.09804375526951954,
          0.09518715334812923,
          0.09230081479643193,
          0.08939259084235363,
          0.08647016906461712,
          0.08354104156418764,
          0.0806124753318007,
          0.07769148495343473,
          0.07478480777122005,
          0.0718988815926016,
          0.06903982501587186,
          0.06621342041573099,
          0.06342509960856696,
          0.06067993219392037,
          0.05798261654632722,
          0.055337473410619266,
          0.05274844203398426,
          0.0502190787498056,
          0.04775255791163931,
          0.04535167506075597,
          0.04301885219755486,
          0.04075614501589996,
          0.038565251950068824,
          0.036447524876541945,
          0.03440398130729188,
          0.032435317907494175,
          0.03054192516864941,
          0.028723903067871714,
          0.026981077545491575,
          0.02531301763602406,
          0.02371905309184959,
          0.022198292344521017,
          0.020749640655304297,
          0.019371818314245812,
          0.01806337875559548,
          0.016822726466646,
          0.015648134576847692,
          0.014537762024269275,
          0.013489670206969272,
          0.012501839037491564,
          0.011572182329369235,
          0.010698562455111263,
          0.009878804225538261,
          0.009110707950440068,
          0.008392061650257725,
          0.007720652397773682,
          0.007094276777562614,
          0.006510750459155807,
          0.00596791688746615,
          0.005463655100973323,
          0.004995886694459349
         ]
        }
       ],
       "layout": {
        "annotations": [
         {
          "bordercolor": "rgb(100,110,250)",
          "borderwidth": 2,
          "font": {
           "color": "rgb(100,110,250)",
           "size": 15
          },
          "showarrow": false,
          "text": "0.188",
          "x": 9,
          "xshift": -40,
          "y": 0.09331056051210472,
          "yshift": -100
         },
         {
          "bordercolor": "rgb(239,85,59)",
          "borderwidth": 2,
          "font": {
           "color": "rgb(239,85,59)",
           "size": 15
          },
          "showarrow": false,
          "text": "0.812",
          "x": 9,
          "xshift": 40,
          "y": 0.09331056051210472,
          "yshift": -100
         }
        ],
        "template": {
         "data": {
          "bar": [
           {
            "error_x": {
             "color": "#2a3f5f"
            },
            "error_y": {
             "color": "#2a3f5f"
            },
            "marker": {
             "line": {
              "color": "#E5ECF6",
              "width": 0.5
             },
             "pattern": {
              "fillmode": "overlay",
              "size": 10,
              "solidity": 0.2
             }
            },
            "type": "bar"
           }
          ],
          "barpolar": [
           {
            "marker": {
             "line": {
              "color": "#E5ECF6",
              "width": 0.5
             },
             "pattern": {
              "fillmode": "overlay",
              "size": 10,
              "solidity": 0.2
             }
            },
            "type": "barpolar"
           }
          ],
          "carpet": [
           {
            "aaxis": {
             "endlinecolor": "#2a3f5f",
             "gridcolor": "white",
             "linecolor": "white",
             "minorgridcolor": "white",
             "startlinecolor": "#2a3f5f"
            },
            "baxis": {
             "endlinecolor": "#2a3f5f",
             "gridcolor": "white",
             "linecolor": "white",
             "minorgridcolor": "white",
             "startlinecolor": "#2a3f5f"
            },
            "type": "carpet"
           }
          ],
          "choropleth": [
           {
            "colorbar": {
             "outlinewidth": 0,
             "ticks": ""
            },
            "type": "choropleth"
           }
          ],
          "contour": [
           {
            "colorbar": {
             "outlinewidth": 0,
             "ticks": ""
            },
            "colorscale": [
             [
              0,
              "#0d0887"
             ],
             [
              0.1111111111111111,
              "#46039f"
             ],
             [
              0.2222222222222222,
              "#7201a8"
             ],
             [
              0.3333333333333333,
              "#9c179e"
             ],
             [
              0.4444444444444444,
              "#bd3786"
             ],
             [
              0.5555555555555556,
              "#d8576b"
             ],
             [
              0.6666666666666666,
              "#ed7953"
             ],
             [
              0.7777777777777778,
              "#fb9f3a"
             ],
             [
              0.8888888888888888,
              "#fdca26"
             ],
             [
              1,
              "#f0f921"
             ]
            ],
            "type": "contour"
           }
          ],
          "contourcarpet": [
           {
            "colorbar": {
             "outlinewidth": 0,
             "ticks": ""
            },
            "type": "contourcarpet"
           }
          ],
          "heatmap": [
           {
            "colorbar": {
             "outlinewidth": 0,
             "ticks": ""
            },
            "colorscale": [
             [
              0,
              "#0d0887"
             ],
             [
              0.1111111111111111,
              "#46039f"
             ],
             [
              0.2222222222222222,
              "#7201a8"
             ],
             [
              0.3333333333333333,
              "#9c179e"
             ],
             [
              0.4444444444444444,
              "#bd3786"
             ],
             [
              0.5555555555555556,
              "#d8576b"
             ],
             [
              0.6666666666666666,
              "#ed7953"
             ],
             [
              0.7777777777777778,
              "#fb9f3a"
             ],
             [
              0.8888888888888888,
              "#fdca26"
             ],
             [
              1,
              "#f0f921"
             ]
            ],
            "type": "heatmap"
           }
          ],
          "heatmapgl": [
           {
            "colorbar": {
             "outlinewidth": 0,
             "ticks": ""
            },
            "colorscale": [
             [
              0,
              "#0d0887"
             ],
             [
              0.1111111111111111,
              "#46039f"
             ],
             [
              0.2222222222222222,
              "#7201a8"
             ],
             [
              0.3333333333333333,
              "#9c179e"
             ],
             [
              0.4444444444444444,
              "#bd3786"
             ],
             [
              0.5555555555555556,
              "#d8576b"
             ],
             [
              0.6666666666666666,
              "#ed7953"
             ],
             [
              0.7777777777777778,
              "#fb9f3a"
             ],
             [
              0.8888888888888888,
              "#fdca26"
             ],
             [
              1,
              "#f0f921"
             ]
            ],
            "type": "heatmapgl"
           }
          ],
          "histogram": [
           {
            "marker": {
             "pattern": {
              "fillmode": "overlay",
              "size": 10,
              "solidity": 0.2
             }
            },
            "type": "histogram"
           }
          ],
          "histogram2d": [
           {
            "colorbar": {
             "outlinewidth": 0,
             "ticks": ""
            },
            "colorscale": [
             [
              0,
              "#0d0887"
             ],
             [
              0.1111111111111111,
              "#46039f"
             ],
             [
              0.2222222222222222,
              "#7201a8"
             ],
             [
              0.3333333333333333,
              "#9c179e"
             ],
             [
              0.4444444444444444,
              "#bd3786"
             ],
             [
              0.5555555555555556,
              "#d8576b"
             ],
             [
              0.6666666666666666,
              "#ed7953"
             ],
             [
              0.7777777777777778,
              "#fb9f3a"
             ],
             [
              0.8888888888888888,
              "#fdca26"
             ],
             [
              1,
              "#f0f921"
             ]
            ],
            "type": "histogram2d"
           }
          ],
          "histogram2dcontour": [
           {
            "colorbar": {
             "outlinewidth": 0,
             "ticks": ""
            },
            "colorscale": [
             [
              0,
              "#0d0887"
             ],
             [
              0.1111111111111111,
              "#46039f"
             ],
             [
              0.2222222222222222,
              "#7201a8"
             ],
             [
              0.3333333333333333,
              "#9c179e"
             ],
             [
              0.4444444444444444,
              "#bd3786"
             ],
             [
              0.5555555555555556,
              "#d8576b"
             ],
             [
              0.6666666666666666,
              "#ed7953"
             ],
             [
              0.7777777777777778,
              "#fb9f3a"
             ],
             [
              0.8888888888888888,
              "#fdca26"
             ],
             [
              1,
              "#f0f921"
             ]
            ],
            "type": "histogram2dcontour"
           }
          ],
          "mesh3d": [
           {
            "colorbar": {
             "outlinewidth": 0,
             "ticks": ""
            },
            "type": "mesh3d"
           }
          ],
          "parcoords": [
           {
            "line": {
             "colorbar": {
              "outlinewidth": 0,
              "ticks": ""
             }
            },
            "type": "parcoords"
           }
          ],
          "pie": [
           {
            "automargin": true,
            "type": "pie"
           }
          ],
          "scatter": [
           {
            "marker": {
             "colorbar": {
              "outlinewidth": 0,
              "ticks": ""
             }
            },
            "type": "scatter"
           }
          ],
          "scatter3d": [
           {
            "line": {
             "colorbar": {
              "outlinewidth": 0,
              "ticks": ""
             }
            },
            "marker": {
             "colorbar": {
              "outlinewidth": 0,
              "ticks": ""
             }
            },
            "type": "scatter3d"
           }
          ],
          "scattercarpet": [
           {
            "marker": {
             "colorbar": {
              "outlinewidth": 0,
              "ticks": ""
             }
            },
            "type": "scattercarpet"
           }
          ],
          "scattergeo": [
           {
            "marker": {
             "colorbar": {
              "outlinewidth": 0,
              "ticks": ""
             }
            },
            "type": "scattergeo"
           }
          ],
          "scattergl": [
           {
            "marker": {
             "colorbar": {
              "outlinewidth": 0,
              "ticks": ""
             }
            },
            "type": "scattergl"
           }
          ],
          "scattermapbox": [
           {
            "marker": {
             "colorbar": {
              "outlinewidth": 0,
              "ticks": ""
             }
            },
            "type": "scattermapbox"
           }
          ],
          "scatterpolar": [
           {
            "marker": {
             "colorbar": {
              "outlinewidth": 0,
              "ticks": ""
             }
            },
            "type": "scatterpolar"
           }
          ],
          "scatterpolargl": [
           {
            "marker": {
             "colorbar": {
              "outlinewidth": 0,
              "ticks": ""
             }
            },
            "type": "scatterpolargl"
           }
          ],
          "scatterternary": [
           {
            "marker": {
             "colorbar": {
              "outlinewidth": 0,
              "ticks": ""
             }
            },
            "type": "scatterternary"
           }
          ],
          "surface": [
           {
            "colorbar": {
             "outlinewidth": 0,
             "ticks": ""
            },
            "colorscale": [
             [
              0,
              "#0d0887"
             ],
             [
              0.1111111111111111,
              "#46039f"
             ],
             [
              0.2222222222222222,
              "#7201a8"
             ],
             [
              0.3333333333333333,
              "#9c179e"
             ],
             [
              0.4444444444444444,
              "#bd3786"
             ],
             [
              0.5555555555555556,
              "#d8576b"
             ],
             [
              0.6666666666666666,
              "#ed7953"
             ],
             [
              0.7777777777777778,
              "#fb9f3a"
             ],
             [
              0.8888888888888888,
              "#fdca26"
             ],
             [
              1,
              "#f0f921"
             ]
            ],
            "type": "surface"
           }
          ],
          "table": [
           {
            "cells": {
             "fill": {
              "color": "#EBF0F8"
             },
             "line": {
              "color": "white"
             }
            },
            "header": {
             "fill": {
              "color": "#C8D4E3"
             },
             "line": {
              "color": "white"
             }
            },
            "type": "table"
           }
          ]
         },
         "layout": {
          "annotationdefaults": {
           "arrowcolor": "#2a3f5f",
           "arrowhead": 0,
           "arrowwidth": 1
          },
          "autotypenumbers": "strict",
          "coloraxis": {
           "colorbar": {
            "outlinewidth": 0,
            "ticks": ""
           }
          },
          "colorscale": {
           "diverging": [
            [
             0,
             "#8e0152"
            ],
            [
             0.1,
             "#c51b7d"
            ],
            [
             0.2,
             "#de77ae"
            ],
            [
             0.3,
             "#f1b6da"
            ],
            [
             0.4,
             "#fde0ef"
            ],
            [
             0.5,
             "#f7f7f7"
            ],
            [
             0.6,
             "#e6f5d0"
            ],
            [
             0.7,
             "#b8e186"
            ],
            [
             0.8,
             "#7fbc41"
            ],
            [
             0.9,
             "#4d9221"
            ],
            [
             1,
             "#276419"
            ]
           ],
           "sequential": [
            [
             0,
             "#0d0887"
            ],
            [
             0.1111111111111111,
             "#46039f"
            ],
            [
             0.2222222222222222,
             "#7201a8"
            ],
            [
             0.3333333333333333,
             "#9c179e"
            ],
            [
             0.4444444444444444,
             "#bd3786"
            ],
            [
             0.5555555555555556,
             "#d8576b"
            ],
            [
             0.6666666666666666,
             "#ed7953"
            ],
            [
             0.7777777777777778,
             "#fb9f3a"
            ],
            [
             0.8888888888888888,
             "#fdca26"
            ],
            [
             1,
             "#f0f921"
            ]
           ],
           "sequentialminus": [
            [
             0,
             "#0d0887"
            ],
            [
             0.1111111111111111,
             "#46039f"
            ],
            [
             0.2222222222222222,
             "#7201a8"
            ],
            [
             0.3333333333333333,
             "#9c179e"
            ],
            [
             0.4444444444444444,
             "#bd3786"
            ],
            [
             0.5555555555555556,
             "#d8576b"
            ],
            [
             0.6666666666666666,
             "#ed7953"
            ],
            [
             0.7777777777777778,
             "#fb9f3a"
            ],
            [
             0.8888888888888888,
             "#fdca26"
            ],
            [
             1,
             "#f0f921"
            ]
           ]
          },
          "colorway": [
           "#636efa",
           "#EF553B",
           "#00cc96",
           "#ab63fa",
           "#FFA15A",
           "#19d3f3",
           "#FF6692",
           "#B6E880",
           "#FF97FF",
           "#FECB52"
          ],
          "font": {
           "color": "#2a3f5f"
          },
          "geo": {
           "bgcolor": "white",
           "lakecolor": "white",
           "landcolor": "#E5ECF6",
           "showlakes": true,
           "showland": true,
           "subunitcolor": "white"
          },
          "hoverlabel": {
           "align": "left"
          },
          "hovermode": "closest",
          "mapbox": {
           "style": "light"
          },
          "paper_bgcolor": "white",
          "plot_bgcolor": "#E5ECF6",
          "polar": {
           "angularaxis": {
            "gridcolor": "white",
            "linecolor": "white",
            "ticks": ""
           },
           "bgcolor": "#E5ECF6",
           "radialaxis": {
            "gridcolor": "white",
            "linecolor": "white",
            "ticks": ""
           }
          },
          "scene": {
           "xaxis": {
            "backgroundcolor": "#E5ECF6",
            "gridcolor": "white",
            "gridwidth": 2,
            "linecolor": "white",
            "showbackground": true,
            "ticks": "",
            "zerolinecolor": "white"
           },
           "yaxis": {
            "backgroundcolor": "#E5ECF6",
            "gridcolor": "white",
            "gridwidth": 2,
            "linecolor": "white",
            "showbackground": true,
            "ticks": "",
            "zerolinecolor": "white"
           },
           "zaxis": {
            "backgroundcolor": "#E5ECF6",
            "gridcolor": "white",
            "gridwidth": 2,
            "linecolor": "white",
            "showbackground": true,
            "ticks": "",
            "zerolinecolor": "white"
           }
          },
          "shapedefaults": {
           "line": {
            "color": "#2a3f5f"
           }
          },
          "ternary": {
           "aaxis": {
            "gridcolor": "white",
            "linecolor": "white",
            "ticks": ""
           },
           "baxis": {
            "gridcolor": "white",
            "linecolor": "white",
            "ticks": ""
           },
           "bgcolor": "#E5ECF6",
           "caxis": {
            "gridcolor": "white",
            "linecolor": "white",
            "ticks": ""
           }
          },
          "title": {
           "x": 0.05
          },
          "xaxis": {
           "automargin": true,
           "gridcolor": "white",
           "linecolor": "white",
           "ticks": "",
           "title": {
            "standoff": 15
           },
           "zerolinecolor": "white",
           "zerolinewidth": 2
          },
          "yaxis": {
           "automargin": true,
           "gridcolor": "white",
           "linecolor": "white",
           "ticks": "",
           "title": {
            "standoff": 15
           },
           "zerolinecolor": "white",
           "zerolinewidth": 2
          }
         }
        }
       }
      }
     },
     "metadata": {},
     "output_type": "display_data"
    }
   ],
   "source": [
    "busan_pm25 = df_pm25[df_pm25['구분(2)']=='부산광역시'].loc[2,'2021.07']\n",
    "pm25_pro = cal_norm(mean,std,min,max,busan_pm25)"
   ]
  },
  {
   "cell_type": "code",
   "execution_count": 450,
   "metadata": {
    "collapsed": false,
    "pycharm": {
     "name": "#%%\n"
    }
   },
   "outputs": [
    {
     "data": {
      "text/html": [
       "<div>\n",
       "<style scoped>\n",
       "    .dataframe tbody tr th:only-of-type {\n",
       "        vertical-align: middle;\n",
       "    }\n",
       "\n",
       "    .dataframe tbody tr th {\n",
       "        vertical-align: top;\n",
       "    }\n",
       "\n",
       "    .dataframe thead th {\n",
       "        text-align: right;\n",
       "    }\n",
       "</style>\n",
       "<table border=\"1\" class=\"dataframe\">\n",
       "  <thead>\n",
       "    <tr style=\"text-align: right;\">\n",
       "      <th></th>\n",
       "      <th>구분(1)</th>\n",
       "      <th>구분(2)</th>\n",
       "      <th>2021.02</th>\n",
       "      <th>2021.03</th>\n",
       "      <th>2021.04</th>\n",
       "      <th>2021.05</th>\n",
       "      <th>2021.06</th>\n",
       "      <th>2021.07</th>\n",
       "    </tr>\n",
       "  </thead>\n",
       "  <tbody>\n",
       "    <tr>\n",
       "      <th>0</th>\n",
       "      <td>총계</td>\n",
       "      <td>소계</td>\n",
       "      <td>43</td>\n",
       "      <td>65</td>\n",
       "      <td>41</td>\n",
       "      <td>52</td>\n",
       "      <td>32</td>\n",
       "      <td>22</td>\n",
       "    </tr>\n",
       "    <tr>\n",
       "      <th>1</th>\n",
       "      <td>서울특별시</td>\n",
       "      <td>서울특별시</td>\n",
       "      <td>48</td>\n",
       "      <td>67</td>\n",
       "      <td>42</td>\n",
       "      <td>61</td>\n",
       "      <td>33</td>\n",
       "      <td>24</td>\n",
       "    </tr>\n",
       "    <tr>\n",
       "      <th>2</th>\n",
       "      <td>부산광역시</td>\n",
       "      <td>부산광역시</td>\n",
       "      <td>37</td>\n",
       "      <td>60</td>\n",
       "      <td>37</td>\n",
       "      <td>36</td>\n",
       "      <td>26</td>\n",
       "      <td>18</td>\n",
       "    </tr>\n",
       "    <tr>\n",
       "      <th>3</th>\n",
       "      <td>대구광역시</td>\n",
       "      <td>대구광역시</td>\n",
       "      <td>41</td>\n",
       "      <td>59</td>\n",
       "      <td>42</td>\n",
       "      <td>41</td>\n",
       "      <td>35</td>\n",
       "      <td>19</td>\n",
       "    </tr>\n",
       "    <tr>\n",
       "      <th>4</th>\n",
       "      <td>인천광역시</td>\n",
       "      <td>인천광역시</td>\n",
       "      <td>46</td>\n",
       "      <td>69</td>\n",
       "      <td>42</td>\n",
       "      <td>59</td>\n",
       "      <td>36</td>\n",
       "      <td>29</td>\n",
       "    </tr>\n",
       "    <tr>\n",
       "      <th>...</th>\n",
       "      <td>...</td>\n",
       "      <td>...</td>\n",
       "      <td>...</td>\n",
       "      <td>...</td>\n",
       "      <td>...</td>\n",
       "      <td>...</td>\n",
       "      <td>...</td>\n",
       "      <td>...</td>\n",
       "    </tr>\n",
       "    <tr>\n",
       "      <th>167</th>\n",
       "      <td>경상남도</td>\n",
       "      <td>합천</td>\n",
       "      <td>29</td>\n",
       "      <td>44</td>\n",
       "      <td>32</td>\n",
       "      <td>36</td>\n",
       "      <td>27</td>\n",
       "      <td>17**</td>\n",
       "    </tr>\n",
       "    <tr>\n",
       "      <th>168</th>\n",
       "      <td>경상남도</td>\n",
       "      <td>도평균</td>\n",
       "      <td>33</td>\n",
       "      <td>53</td>\n",
       "      <td>34</td>\n",
       "      <td>36</td>\n",
       "      <td>27</td>\n",
       "      <td>20</td>\n",
       "    </tr>\n",
       "    <tr>\n",
       "      <th>169</th>\n",
       "      <td>제주특별자치도</td>\n",
       "      <td>제주특별자치도</td>\n",
       "      <td>36</td>\n",
       "      <td>76</td>\n",
       "      <td>37</td>\n",
       "      <td>44</td>\n",
       "      <td>27</td>\n",
       "      <td>17</td>\n",
       "    </tr>\n",
       "    <tr>\n",
       "      <th>170</th>\n",
       "      <td>제주특별자치도</td>\n",
       "      <td>서귀포</td>\n",
       "      <td>33</td>\n",
       "      <td>68</td>\n",
       "      <td>35</td>\n",
       "      <td>40</td>\n",
       "      <td>23</td>\n",
       "      <td>21</td>\n",
       "    </tr>\n",
       "    <tr>\n",
       "      <th>171</th>\n",
       "      <td>제주특별자치도</td>\n",
       "      <td>도평균</td>\n",
       "      <td>34</td>\n",
       "      <td>72</td>\n",
       "      <td>36</td>\n",
       "      <td>42</td>\n",
       "      <td>25</td>\n",
       "      <td>19</td>\n",
       "    </tr>\n",
       "  </tbody>\n",
       "</table>\n",
       "<p>172 rows × 8 columns</p>\n",
       "</div>"
      ],
      "text/plain": [
       "       구분(1)    구분(2) 2021.02 2021.03 2021.04 2021.05 2021.06 2021.07\n",
       "0         총계       소계      43      65      41      52      32      22\n",
       "1      서울특별시    서울특별시      48      67      42      61      33      24\n",
       "2      부산광역시    부산광역시      37      60      37      36      26      18\n",
       "3      대구광역시    대구광역시      41      59      42      41      35      19\n",
       "4      인천광역시    인천광역시      46      69      42      59      36      29\n",
       "..       ...      ...     ...     ...     ...     ...     ...     ...\n",
       "167     경상남도       합천      29      44      32      36      27    17**\n",
       "168     경상남도      도평균      33      53      34      36      27      20\n",
       "169  제주특별자치도  제주특별자치도      36      76      37      44      27      17\n",
       "170  제주특별자치도      서귀포      33      68      35      40      23      21\n",
       "171  제주특별자치도      도평균      34      72      36      42      25      19\n",
       "\n",
       "[172 rows x 8 columns]"
      ]
     },
     "execution_count": 450,
     "metadata": {},
     "output_type": "execute_result"
    }
   ],
   "source": [
    "pm10_file_path = 'C:\\\\Users\\\\SAMSUNG\\\\Desktop\\\\Green-Car-Charging-Station-Site-Selection\\\\Data\\\\미세먼지_PM10__월별_도시별_대기오염도.csv'\n",
    "df_pm10 = pd.read_csv(pm10_file_path, encoding='cp949')\n",
    "df_pm10"
   ]
  },
  {
   "cell_type": "code",
   "execution_count": 451,
   "metadata": {
    "collapsed": false,
    "pycharm": {
     "name": "#%%\n"
    }
   },
   "outputs": [],
   "source": [
    "pm10_col = df_pm10.iloc[:,2:-1].columns.tolist()"
   ]
  },
  {
   "cell_type": "code",
   "execution_count": 452,
   "metadata": {
    "collapsed": false,
    "pycharm": {
     "name": "#%%\n"
    }
   },
   "outputs": [],
   "source": [
    "df_pm10.drop(columns=pm10_col, inplace=True)"
   ]
  },
  {
   "cell_type": "code",
   "execution_count": 453,
   "metadata": {
    "collapsed": false,
    "pycharm": {
     "name": "#%%\n"
    }
   },
   "outputs": [],
   "source": [
    "advanced_replace(df_pm10, '2021.07', '-', r'[^0-9.0-9]')\n",
    "df_pm10['2021.07'] = df_pm10['2021.07'].astype(float)"
   ]
  },
  {
   "cell_type": "code",
   "execution_count": 454,
   "metadata": {
    "collapsed": false,
    "pycharm": {
     "name": "#%%\n"
    }
   },
   "outputs": [
    {
     "name": "stdout",
     "output_type": "stream",
     "text": [
      "<class 'pandas.core.frame.DataFrame'>\n",
      "RangeIndex: 172 entries, 0 to 171\n",
      "Data columns (total 3 columns):\n",
      " #   Column   Non-Null Count  Dtype  \n",
      "---  ------   --------------  -----  \n",
      " 0   구분(1)    172 non-null    object \n",
      " 1   구분(2)    172 non-null    object \n",
      " 2   2021.07  172 non-null    float64\n",
      "dtypes: float64(1), object(2)\n",
      "memory usage: 4.2+ KB\n"
     ]
    }
   ],
   "source": [
    "df_pm10.info()"
   ]
  },
  {
   "cell_type": "code",
   "execution_count": 455,
   "metadata": {
    "collapsed": false,
    "pycharm": {
     "name": "#%%\n"
    }
   },
   "outputs": [
    {
     "data": {
      "text/html": [
       "<div>\n",
       "<style scoped>\n",
       "    .dataframe tbody tr th:only-of-type {\n",
       "        vertical-align: middle;\n",
       "    }\n",
       "\n",
       "    .dataframe tbody tr th {\n",
       "        vertical-align: top;\n",
       "    }\n",
       "\n",
       "    .dataframe thead th {\n",
       "        text-align: right;\n",
       "    }\n",
       "</style>\n",
       "<table border=\"1\" class=\"dataframe\">\n",
       "  <thead>\n",
       "    <tr style=\"text-align: right;\">\n",
       "      <th></th>\n",
       "      <th>2021.07</th>\n",
       "    </tr>\n",
       "  </thead>\n",
       "  <tbody>\n",
       "    <tr>\n",
       "      <th>count</th>\n",
       "      <td>172.000000</td>\n",
       "    </tr>\n",
       "    <tr>\n",
       "      <th>mean</th>\n",
       "      <td>20.750000</td>\n",
       "    </tr>\n",
       "    <tr>\n",
       "      <th>std</th>\n",
       "      <td>4.725352</td>\n",
       "    </tr>\n",
       "    <tr>\n",
       "      <th>min</th>\n",
       "      <td>0.000000</td>\n",
       "    </tr>\n",
       "    <tr>\n",
       "      <th>25%</th>\n",
       "      <td>18.000000</td>\n",
       "    </tr>\n",
       "    <tr>\n",
       "      <th>50%</th>\n",
       "      <td>20.000000</td>\n",
       "    </tr>\n",
       "    <tr>\n",
       "      <th>75%</th>\n",
       "      <td>23.000000</td>\n",
       "    </tr>\n",
       "    <tr>\n",
       "      <th>max</th>\n",
       "      <td>36.000000</td>\n",
       "    </tr>\n",
       "  </tbody>\n",
       "</table>\n",
       "</div>"
      ],
      "text/plain": [
       "          2021.07\n",
       "count  172.000000\n",
       "mean    20.750000\n",
       "std      4.725352\n",
       "min      0.000000\n",
       "25%     18.000000\n",
       "50%     20.000000\n",
       "75%     23.000000\n",
       "max     36.000000"
      ]
     },
     "execution_count": 455,
     "metadata": {},
     "output_type": "execute_result"
    }
   ],
   "source": [
    "df_pm10.describe()"
   ]
  },
  {
   "cell_type": "code",
   "execution_count": 456,
   "metadata": {},
   "outputs": [
    {
     "data": {
      "application/vnd.plotly.v1+json": {
       "config": {
        "plotlyServerURL": "https://plot.ly"
       },
       "data": [
        {
         "hovertemplate": "x=%{x}<br>y=%{y}<extra></extra>",
         "legendgroup": "",
         "line": {
          "color": "#636efa",
          "dash": "solid"
         },
         "mode": "lines",
         "name": "",
         "orientation": "v",
         "showlegend": false,
         "type": "scatter",
         "x": [
          -4.7253515602990905,
          -4.313984372821322,
          -3.902617185343553,
          -3.491249997865785,
          -3.0798828103880163,
          -2.6685156229102476,
          -2.2571484354324793,
          -1.8457812479547107,
          -1.434414060476942,
          -1.0230468729991733,
          -0.6116796855214046,
          -0.20031249804363593,
          0.21105468943413186,
          0.6224218769119005,
          1.0337890643896692,
          1.445156251867438,
          1.8565234393452066,
          2.2678906268229753,
          2.679257814300744,
          3.0906250017785126,
          3.5019921892562813,
          3.91335937673405,
          4.324726564211819,
          4.736093751689587,
          5.147460939167354,
          5.558828126645123,
          5.970195314122892,
          6.38156250160066,
          6.792929689078429,
          7.204296876556198,
          7.615664064033966,
          8.027031251511735,
          8.438398438989504,
          8.849765626467272,
          9.261132813945041,
          9.67250000142281,
          10.083867188900578,
          10.495234376378347,
          10.906601563856116,
          11.317968751333884,
          11.729335938811653,
          12.140703126289422,
          12.55207031376719,
          12.96343750124496,
          13.374804688722728,
          13.786171876200497,
          14.197539063678265,
          14.608906251156034,
          15.020273438633799,
          15.431640626111568,
          15.843007813589336,
          16.254375001067103,
          16.665742188544876,
          17.07710937602264,
          17.488476563500413,
          17.899843750978178,
          18.31121093845595,
          18.722578125933715,
          19.133945313411488,
          19.545312500889253,
          19.956679688367025,
          20.36804687584479,
          20.779414063322562,
          21.190781250800327,
          21.6021484382781,
          22.013515625755865,
          22.424882813233637,
          22.836250000711402,
          23.247617188189174,
          23.65898437566694,
          24.070351563144712,
          24.481718750622477,
          24.89308593810025,
          25.304453125578014,
          25.715820313055787,
          26.12718750053355,
          26.538554688011324,
          26.94992187548909,
          27.36128906296686,
          27.772656250444626,
          28.1840234379224,
          28.595390625400164,
          29.006757812877936,
          29.4181250003557,
          29.829492187833473,
          30.24085937531124,
          30.65222656278901,
          31.063593750266776,
          31.474960937744548,
          31.886328125222313,
          32.297695312700085,
          32.70906250017785,
          33.12042968765562,
          33.53179687513339,
          33.94316406261116,
          34.354531250088925,
          34.76589843756669,
          35.17726562504446,
          35.58863281252223,
          36
         ],
         "xaxis": "x",
         "y": [
          4.1215948785132514e-8,
          6.565209430714918e-8,
          1.037864143126332e-7,
          1.6283249272898072e-7,
          2.535422120391129e-7,
          3.918033265096082e-7,
          6.008894832821432e-7,
          9.14596905174727e-7,
          0.0000013815719019795437,
          0.000002071218406530048,
          0.0000030816757581188743,
          0.000004550473895687641,
          0.000006668604372970962,
          0.000009698887428372712,
          0.000013999661169099504,
          0.00002005495865159737,
          0.000028512457923499095,
          0.000040230569838226735,
          0.00005633604453394095,
          0.00007829340088263459,
          0.0001079872808417994,
          0.00014781846675811233,
          0.0002008137383891247,
          0.00027074895510658753,
          0.00036228370253654866,
          0.0004811045299832207,
          0.0006340722326736231,
          0.0008293668337224242,
          0.0010766219583400254,
          0.0013870382662824058,
          0.001773463654766539,
          0.0022504262369012866,
          0.0028341048459857325,
          0.0035422212419840564,
          0.004393838538709778,
          0.00540905185190677,
          0.006608559976107383,
          0.00801311115508457,
          0.009642821749325289,
          0.011516373740835245,
          0.013650105332037766,
          0.01605701802707245,
          0.01874573302183187,
          0.02171943883710388,
          0.02497488017489314,
          0.02850144418086166,
          0.032280403888221426,
          0.03628437891609632,
          0.04047706997165542,
          0.044813316061698555,
          0.04923951154474384,
          0.053694404565351524,
          0.05811027966626184,
          0.06241450645368829,
          0.06653141435525493,
          0.07038443221230926,
          0.07389841223105179,
          0.07700204218657622,
          0.0796302390698561,
          0.08172641263663116,
          0.08324448920652851,
          0.08415059474283447,
          0.08442431137900308,
          0.08405944230579385,
          0.08306424500423427,
          0.08146112056561881,
          0.07928577542211347,
          0.07658589929394857,
          0.07341942770572406,
          0.06985247743898788,
          0.06595705754123046,
          0.06180866623084861,
          0.05748388495799601,
          0.05305807524600237,
          0.048603272457244544,
          0.04418635439666761,
          0.0398675430567655,
          0.03569927633939861,
          0.03172546479933383,
          0.02798112777365586,
          0.024492384913468567,
          0.02127676405815033,
          0.018343775197099666,
          0.015695693217392895,
          0.013328489182873014,
          0.011232850695792471,
          0.009395235902514194,
          0.0077989122192530435,
          0.006424939098772475,
          0.005253063357259014,
          0.004262505011088385,
          0.0034326206160832772,
          0.0027434392685144996,
          0.00217607337409946,
          0.0017130118201341422,
          0.0013383072311853813,
          0.0010376715975004662,
          0.0007984958714295692,
          0.0006098093241380965,
          0.0004621937690477559
         ],
         "yaxis": "y"
        }
       ],
       "layout": {
        "legend": {
         "tracegroupgap": 0
        },
        "margin": {
         "t": 60
        },
        "template": {
         "data": {
          "bar": [
           {
            "error_x": {
             "color": "#2a3f5f"
            },
            "error_y": {
             "color": "#2a3f5f"
            },
            "marker": {
             "line": {
              "color": "#E5ECF6",
              "width": 0.5
             },
             "pattern": {
              "fillmode": "overlay",
              "size": 10,
              "solidity": 0.2
             }
            },
            "type": "bar"
           }
          ],
          "barpolar": [
           {
            "marker": {
             "line": {
              "color": "#E5ECF6",
              "width": 0.5
             },
             "pattern": {
              "fillmode": "overlay",
              "size": 10,
              "solidity": 0.2
             }
            },
            "type": "barpolar"
           }
          ],
          "carpet": [
           {
            "aaxis": {
             "endlinecolor": "#2a3f5f",
             "gridcolor": "white",
             "linecolor": "white",
             "minorgridcolor": "white",
             "startlinecolor": "#2a3f5f"
            },
            "baxis": {
             "endlinecolor": "#2a3f5f",
             "gridcolor": "white",
             "linecolor": "white",
             "minorgridcolor": "white",
             "startlinecolor": "#2a3f5f"
            },
            "type": "carpet"
           }
          ],
          "choropleth": [
           {
            "colorbar": {
             "outlinewidth": 0,
             "ticks": ""
            },
            "type": "choropleth"
           }
          ],
          "contour": [
           {
            "colorbar": {
             "outlinewidth": 0,
             "ticks": ""
            },
            "colorscale": [
             [
              0,
              "#0d0887"
             ],
             [
              0.1111111111111111,
              "#46039f"
             ],
             [
              0.2222222222222222,
              "#7201a8"
             ],
             [
              0.3333333333333333,
              "#9c179e"
             ],
             [
              0.4444444444444444,
              "#bd3786"
             ],
             [
              0.5555555555555556,
              "#d8576b"
             ],
             [
              0.6666666666666666,
              "#ed7953"
             ],
             [
              0.7777777777777778,
              "#fb9f3a"
             ],
             [
              0.8888888888888888,
              "#fdca26"
             ],
             [
              1,
              "#f0f921"
             ]
            ],
            "type": "contour"
           }
          ],
          "contourcarpet": [
           {
            "colorbar": {
             "outlinewidth": 0,
             "ticks": ""
            },
            "type": "contourcarpet"
           }
          ],
          "heatmap": [
           {
            "colorbar": {
             "outlinewidth": 0,
             "ticks": ""
            },
            "colorscale": [
             [
              0,
              "#0d0887"
             ],
             [
              0.1111111111111111,
              "#46039f"
             ],
             [
              0.2222222222222222,
              "#7201a8"
             ],
             [
              0.3333333333333333,
              "#9c179e"
             ],
             [
              0.4444444444444444,
              "#bd3786"
             ],
             [
              0.5555555555555556,
              "#d8576b"
             ],
             [
              0.6666666666666666,
              "#ed7953"
             ],
             [
              0.7777777777777778,
              "#fb9f3a"
             ],
             [
              0.8888888888888888,
              "#fdca26"
             ],
             [
              1,
              "#f0f921"
             ]
            ],
            "type": "heatmap"
           }
          ],
          "heatmapgl": [
           {
            "colorbar": {
             "outlinewidth": 0,
             "ticks": ""
            },
            "colorscale": [
             [
              0,
              "#0d0887"
             ],
             [
              0.1111111111111111,
              "#46039f"
             ],
             [
              0.2222222222222222,
              "#7201a8"
             ],
             [
              0.3333333333333333,
              "#9c179e"
             ],
             [
              0.4444444444444444,
              "#bd3786"
             ],
             [
              0.5555555555555556,
              "#d8576b"
             ],
             [
              0.6666666666666666,
              "#ed7953"
             ],
             [
              0.7777777777777778,
              "#fb9f3a"
             ],
             [
              0.8888888888888888,
              "#fdca26"
             ],
             [
              1,
              "#f0f921"
             ]
            ],
            "type": "heatmapgl"
           }
          ],
          "histogram": [
           {
            "marker": {
             "pattern": {
              "fillmode": "overlay",
              "size": 10,
              "solidity": 0.2
             }
            },
            "type": "histogram"
           }
          ],
          "histogram2d": [
           {
            "colorbar": {
             "outlinewidth": 0,
             "ticks": ""
            },
            "colorscale": [
             [
              0,
              "#0d0887"
             ],
             [
              0.1111111111111111,
              "#46039f"
             ],
             [
              0.2222222222222222,
              "#7201a8"
             ],
             [
              0.3333333333333333,
              "#9c179e"
             ],
             [
              0.4444444444444444,
              "#bd3786"
             ],
             [
              0.5555555555555556,
              "#d8576b"
             ],
             [
              0.6666666666666666,
              "#ed7953"
             ],
             [
              0.7777777777777778,
              "#fb9f3a"
             ],
             [
              0.8888888888888888,
              "#fdca26"
             ],
             [
              1,
              "#f0f921"
             ]
            ],
            "type": "histogram2d"
           }
          ],
          "histogram2dcontour": [
           {
            "colorbar": {
             "outlinewidth": 0,
             "ticks": ""
            },
            "colorscale": [
             [
              0,
              "#0d0887"
             ],
             [
              0.1111111111111111,
              "#46039f"
             ],
             [
              0.2222222222222222,
              "#7201a8"
             ],
             [
              0.3333333333333333,
              "#9c179e"
             ],
             [
              0.4444444444444444,
              "#bd3786"
             ],
             [
              0.5555555555555556,
              "#d8576b"
             ],
             [
              0.6666666666666666,
              "#ed7953"
             ],
             [
              0.7777777777777778,
              "#fb9f3a"
             ],
             [
              0.8888888888888888,
              "#fdca26"
             ],
             [
              1,
              "#f0f921"
             ]
            ],
            "type": "histogram2dcontour"
           }
          ],
          "mesh3d": [
           {
            "colorbar": {
             "outlinewidth": 0,
             "ticks": ""
            },
            "type": "mesh3d"
           }
          ],
          "parcoords": [
           {
            "line": {
             "colorbar": {
              "outlinewidth": 0,
              "ticks": ""
             }
            },
            "type": "parcoords"
           }
          ],
          "pie": [
           {
            "automargin": true,
            "type": "pie"
           }
          ],
          "scatter": [
           {
            "marker": {
             "colorbar": {
              "outlinewidth": 0,
              "ticks": ""
             }
            },
            "type": "scatter"
           }
          ],
          "scatter3d": [
           {
            "line": {
             "colorbar": {
              "outlinewidth": 0,
              "ticks": ""
             }
            },
            "marker": {
             "colorbar": {
              "outlinewidth": 0,
              "ticks": ""
             }
            },
            "type": "scatter3d"
           }
          ],
          "scattercarpet": [
           {
            "marker": {
             "colorbar": {
              "outlinewidth": 0,
              "ticks": ""
             }
            },
            "type": "scattercarpet"
           }
          ],
          "scattergeo": [
           {
            "marker": {
             "colorbar": {
              "outlinewidth": 0,
              "ticks": ""
             }
            },
            "type": "scattergeo"
           }
          ],
          "scattergl": [
           {
            "marker": {
             "colorbar": {
              "outlinewidth": 0,
              "ticks": ""
             }
            },
            "type": "scattergl"
           }
          ],
          "scattermapbox": [
           {
            "marker": {
             "colorbar": {
              "outlinewidth": 0,
              "ticks": ""
             }
            },
            "type": "scattermapbox"
           }
          ],
          "scatterpolar": [
           {
            "marker": {
             "colorbar": {
              "outlinewidth": 0,
              "ticks": ""
             }
            },
            "type": "scatterpolar"
           }
          ],
          "scatterpolargl": [
           {
            "marker": {
             "colorbar": {
              "outlinewidth": 0,
              "ticks": ""
             }
            },
            "type": "scatterpolargl"
           }
          ],
          "scatterternary": [
           {
            "marker": {
             "colorbar": {
              "outlinewidth": 0,
              "ticks": ""
             }
            },
            "type": "scatterternary"
           }
          ],
          "surface": [
           {
            "colorbar": {
             "outlinewidth": 0,
             "ticks": ""
            },
            "colorscale": [
             [
              0,
              "#0d0887"
             ],
             [
              0.1111111111111111,
              "#46039f"
             ],
             [
              0.2222222222222222,
              "#7201a8"
             ],
             [
              0.3333333333333333,
              "#9c179e"
             ],
             [
              0.4444444444444444,
              "#bd3786"
             ],
             [
              0.5555555555555556,
              "#d8576b"
             ],
             [
              0.6666666666666666,
              "#ed7953"
             ],
             [
              0.7777777777777778,
              "#fb9f3a"
             ],
             [
              0.8888888888888888,
              "#fdca26"
             ],
             [
              1,
              "#f0f921"
             ]
            ],
            "type": "surface"
           }
          ],
          "table": [
           {
            "cells": {
             "fill": {
              "color": "#EBF0F8"
             },
             "line": {
              "color": "white"
             }
            },
            "header": {
             "fill": {
              "color": "#C8D4E3"
             },
             "line": {
              "color": "white"
             }
            },
            "type": "table"
           }
          ]
         },
         "layout": {
          "annotationdefaults": {
           "arrowcolor": "#2a3f5f",
           "arrowhead": 0,
           "arrowwidth": 1
          },
          "autotypenumbers": "strict",
          "coloraxis": {
           "colorbar": {
            "outlinewidth": 0,
            "ticks": ""
           }
          },
          "colorscale": {
           "diverging": [
            [
             0,
             "#8e0152"
            ],
            [
             0.1,
             "#c51b7d"
            ],
            [
             0.2,
             "#de77ae"
            ],
            [
             0.3,
             "#f1b6da"
            ],
            [
             0.4,
             "#fde0ef"
            ],
            [
             0.5,
             "#f7f7f7"
            ],
            [
             0.6,
             "#e6f5d0"
            ],
            [
             0.7,
             "#b8e186"
            ],
            [
             0.8,
             "#7fbc41"
            ],
            [
             0.9,
             "#4d9221"
            ],
            [
             1,
             "#276419"
            ]
           ],
           "sequential": [
            [
             0,
             "#0d0887"
            ],
            [
             0.1111111111111111,
             "#46039f"
            ],
            [
             0.2222222222222222,
             "#7201a8"
            ],
            [
             0.3333333333333333,
             "#9c179e"
            ],
            [
             0.4444444444444444,
             "#bd3786"
            ],
            [
             0.5555555555555556,
             "#d8576b"
            ],
            [
             0.6666666666666666,
             "#ed7953"
            ],
            [
             0.7777777777777778,
             "#fb9f3a"
            ],
            [
             0.8888888888888888,
             "#fdca26"
            ],
            [
             1,
             "#f0f921"
            ]
           ],
           "sequentialminus": [
            [
             0,
             "#0d0887"
            ],
            [
             0.1111111111111111,
             "#46039f"
            ],
            [
             0.2222222222222222,
             "#7201a8"
            ],
            [
             0.3333333333333333,
             "#9c179e"
            ],
            [
             0.4444444444444444,
             "#bd3786"
            ],
            [
             0.5555555555555556,
             "#d8576b"
            ],
            [
             0.6666666666666666,
             "#ed7953"
            ],
            [
             0.7777777777777778,
             "#fb9f3a"
            ],
            [
             0.8888888888888888,
             "#fdca26"
            ],
            [
             1,
             "#f0f921"
            ]
           ]
          },
          "colorway": [
           "#636efa",
           "#EF553B",
           "#00cc96",
           "#ab63fa",
           "#FFA15A",
           "#19d3f3",
           "#FF6692",
           "#B6E880",
           "#FF97FF",
           "#FECB52"
          ],
          "font": {
           "color": "#2a3f5f"
          },
          "geo": {
           "bgcolor": "white",
           "lakecolor": "white",
           "landcolor": "#E5ECF6",
           "showlakes": true,
           "showland": true,
           "subunitcolor": "white"
          },
          "hoverlabel": {
           "align": "left"
          },
          "hovermode": "closest",
          "mapbox": {
           "style": "light"
          },
          "paper_bgcolor": "white",
          "plot_bgcolor": "#E5ECF6",
          "polar": {
           "angularaxis": {
            "gridcolor": "white",
            "linecolor": "white",
            "ticks": ""
           },
           "bgcolor": "#E5ECF6",
           "radialaxis": {
            "gridcolor": "white",
            "linecolor": "white",
            "ticks": ""
           }
          },
          "scene": {
           "xaxis": {
            "backgroundcolor": "#E5ECF6",
            "gridcolor": "white",
            "gridwidth": 2,
            "linecolor": "white",
            "showbackground": true,
            "ticks": "",
            "zerolinecolor": "white"
           },
           "yaxis": {
            "backgroundcolor": "#E5ECF6",
            "gridcolor": "white",
            "gridwidth": 2,
            "linecolor": "white",
            "showbackground": true,
            "ticks": "",
            "zerolinecolor": "white"
           },
           "zaxis": {
            "backgroundcolor": "#E5ECF6",
            "gridcolor": "white",
            "gridwidth": 2,
            "linecolor": "white",
            "showbackground": true,
            "ticks": "",
            "zerolinecolor": "white"
           }
          },
          "shapedefaults": {
           "line": {
            "color": "#2a3f5f"
           }
          },
          "ternary": {
           "aaxis": {
            "gridcolor": "white",
            "linecolor": "white",
            "ticks": ""
           },
           "baxis": {
            "gridcolor": "white",
            "linecolor": "white",
            "ticks": ""
           },
           "bgcolor": "#E5ECF6",
           "caxis": {
            "gridcolor": "white",
            "linecolor": "white",
            "ticks": ""
           }
          },
          "title": {
           "x": 0.05
          },
          "xaxis": {
           "automargin": true,
           "gridcolor": "white",
           "linecolor": "white",
           "ticks": "",
           "title": {
            "standoff": 15
           },
           "zerolinecolor": "white",
           "zerolinewidth": 2
          },
          "yaxis": {
           "automargin": true,
           "gridcolor": "white",
           "linecolor": "white",
           "ticks": "",
           "title": {
            "standoff": 15
           },
           "zerolinecolor": "white",
           "zerolinewidth": 2
          }
         }
        },
        "xaxis": {
         "anchor": "y",
         "domain": [
          0,
          1
         ],
         "title": {
          "text": "x"
         }
        },
        "yaxis": {
         "anchor": "x",
         "domain": [
          0,
          1
         ],
         "title": {
          "text": "y"
         }
        }
       }
      }
     },
     "metadata": {},
     "output_type": "display_data"
    }
   ],
   "source": [
    "mean = df_pm10.iloc[:,2].mean()\n",
    "std = df_pm10.iloc[:,2].std()\n",
    "min = df_pm10.iloc[:,2].min()\n",
    "max = df_pm10.iloc[:,2].max()\n",
    "show_norm(mean,std,min,max)"
   ]
  },
  {
   "cell_type": "code",
   "execution_count": 457,
   "metadata": {},
   "outputs": [
    {
     "data": {
      "application/vnd.plotly.v1+json": {
       "config": {
        "plotlyServerURL": "https://plot.ly"
       },
       "data": [
        {
         "fill": "tozeroy",
         "line": {
          "color": "rgb(100,110,250)"
         },
         "name": "적합",
         "text": "0.2802943598724571",
         "type": "scatter",
         "x": [
          -4.7253515602990905,
          -4.4958025546395035,
          -4.266253548979917,
          -4.03670454332033,
          -3.8071555376607433,
          -3.5776065320011567,
          -3.34805752634157,
          -3.118508520681983,
          -2.8889595150223966,
          -2.65941050936281,
          -2.429861503703223,
          -2.2003124980436364,
          -1.9707634923840498,
          -1.7412144867244628,
          -1.5116654810648762,
          -1.2821164754052892,
          -1.0525674697457026,
          -0.823018464086116,
          -0.5934694584265294,
          -0.3639204527669424,
          -0.13437144710735538,
          0.09517755855223076,
          0.3247265642118178,
          0.5542755698714048,
          0.7838245755309909,
          1.013373581190578,
          1.242922586850165,
          1.472471592509752,
          1.7020205981693382,
          1.9315696038289252,
          2.161118609488512,
          2.3906676151480983,
          2.6202166208076854,
          2.8497656264672724,
          3.0793146321268585,
          3.3088636377864464,
          3.5384126434460317,
          3.7679616491056187,
          3.9975106547652057,
          4.227059660424793,
          4.45660866608438,
          4.686157671743967,
          4.915706677403552,
          5.145255683063139,
          5.374804688722726,
          5.604353694382313,
          5.8339027000419,
          6.063451705701487,
          6.293000711361072,
          6.522549717020659,
          6.7520987226802465,
          6.9816477283398335,
          7.2111967339994205,
          7.4407457396590075,
          7.670294745318595,
          7.89984375097818,
          8.129392756637767,
          8.358941762297354,
          8.58849076795694,
          8.818039773616528,
          9.047588779276115,
          9.2771377849357,
          9.506686790595287,
          9.736235796254874,
          9.965784801914461,
          10.195333807574048,
          10.424882813233635,
          10.654431818893222,
          10.883980824552808,
          11.113529830212395,
          11.343078835871983,
          11.572627841531569,
          11.802176847191154,
          12.031725852850743,
          12.261274858510328,
          12.490823864169917,
          12.720372869829502,
          12.949921875489087,
          13.179470881148676,
          13.409019886808261,
          13.63856889246785,
          13.868117898127435,
          14.097666903787024,
          14.32721590944661,
          14.556764915106195,
          14.786313920765783,
          15.015862926425369,
          15.245411932084957,
          15.474960937744543,
          15.704509943404132,
          15.934058949063717,
          16.163607954723304,
          16.39315696038289,
          16.622705966042474,
          16.852254971702067,
          17.081803977361652,
          17.311352983021237,
          17.540901988680822,
          17.770450994340408,
          18
         ],
         "y": [
          4.1215948785132514e-8,
          5.3492446396401596e-8,
          6.926195615007959e-8,
          8.946891702004526e-8,
          1.152987880459445e-7,
          1.4823557371170365e-7,
          1.9013202307710692e-7,
          2.4329502841066574e-7,
          3.105891885700197e-7,
          3.955620037839947e-7,
          5.025947373132741e-7,
          6.3708362096349e-7,
          8.056568003854458e-7,
          0.000001016433216572305,
          0.000001279330504942433,
          0.0000016064299644321378,
          0.0000020124077058005375,
          0.000002515042228202064,
          0.0000031358098904480853,
          0.000003900581029215036,
          0.000004840430817601337,
          0.000005992580335957949,
          0.000007401484719426347,
          0.000009120086623601281,
          0.000011211254574901178,
          0.000013749427001919368,
          0.00001682248382672386,
          0.000020533868371000027,
          0.000025004982932883812,
          0.000030377881639668833,
          0.00003681828399449782,
          0.00004451893181933681,
          0.00005370331095305074,
          0.00006462975698815739,
          0.0000775959614153732,
          0.00009294389068295413,
          0.00011106512576151822,
          0.00013240662373329652,
          0.00015747689560562225,
          0.00018685258590373505,
          0.00022118542956812664,
          0.00026120955023123616,
          0.0003077490510715365,
          0.00036172583516969704,
          0.0004241675766925546,
          0.0004962157474242292,
          0.000579133585319885,
          0.0006743138731035293,
          0.0007832863757539803,
          0.0009077247663730391,
          0.0010494528508207264,
          0.0012104498831111347,
          0.0013928547464255858,
          0.0015989687593090435,
          0.0018312568538096199,
          0.0020923468626747373,
          0.0023850266469298527,
          0.00271223879394312,
          0.0030770726201178994,
          0.0034827532223186577,
          0.003932627338634628,
          0.004430145802650577,
          0.004978842406451247,
          0.0055823090264319674,
          0.00624416691276239,
          0.0069680340980135215,
          0.007757488942768177,
          0.008616029905529937,
          0.00954703170022764,
          0.010553698086141611,
          0.011639011620965525,
          0.012805680796535551,
          0.014056085066844486,
          0.01539221836744301,
          0.01681563181215988,
          0.018327376335050567,
          0.019927946120309306,
          0.021617223728210497,
          0.023394427878642696,
          0.025258064893205864,
          0.027205884820042242,
          0.029234843270657652,
          0.03134106998334622,
          0.03351984509217976,
          0.03576558402300888,
          0.03807183185814892,
          0.040431267909513235,
          0.04283572111657639,
          0.045276196741933124,
          0.04774291467518194,
          0.050225359477768974,
          0.05271234211019613,
          0.05519207308201787,
          0.057652246558158635,
          0.060080134746450437,
          0.06246269168535903,
          0.06478666535222827,
          0.06703871682565367,
          0.06920554506535734,
          0.0712740157235164
         ]
        },
        {
         "fill": "tozeroy",
         "line": {
          "color": "rgb(239,85,59)"
         },
         "name": "부적합",
         "text": "0.2802943598724571",
         "type": "scatter",
         "x": [
          18,
          18.181818181818183,
          18.363636363636363,
          18.545454545454547,
          18.727272727272727,
          18.90909090909091,
          19.09090909090909,
          19.272727272727273,
          19.454545454545453,
          19.636363636363637,
          19.81818181818182,
          20,
          20.18181818181818,
          20.363636363636363,
          20.545454545454547,
          20.727272727272727,
          20.90909090909091,
          21.09090909090909,
          21.272727272727273,
          21.454545454545453,
          21.636363636363637,
          21.81818181818182,
          22,
          22.18181818181818,
          22.363636363636363,
          22.545454545454547,
          22.727272727272727,
          22.90909090909091,
          23.09090909090909,
          23.272727272727273,
          23.454545454545453,
          23.636363636363637,
          23.81818181818182,
          24,
          24.18181818181818,
          24.363636363636363,
          24.545454545454547,
          24.727272727272727,
          24.90909090909091,
          25.09090909090909,
          25.272727272727273,
          25.454545454545453,
          25.636363636363637,
          25.81818181818182,
          26,
          26.18181818181818,
          26.363636363636363,
          26.545454545454547,
          26.727272727272727,
          26.90909090909091,
          27.090909090909093,
          27.272727272727273,
          27.454545454545453,
          27.636363636363637,
          27.81818181818182,
          28,
          28.18181818181818,
          28.363636363636363,
          28.545454545454547,
          28.727272727272727,
          28.90909090909091,
          29.090909090909093,
          29.272727272727273,
          29.454545454545453,
          29.636363636363637,
          29.81818181818182,
          30,
          30.18181818181818,
          30.363636363636363,
          30.545454545454547,
          30.727272727272727,
          30.90909090909091,
          31.090909090909093,
          31.272727272727273,
          31.454545454545453,
          31.636363636363637,
          31.81818181818182,
          32,
          32.18181818181818,
          32.36363636363636,
          32.54545454545455,
          32.72727272727273,
          32.90909090909091,
          33.09090909090909,
          33.27272727272727,
          33.45454545454545,
          33.63636363636364,
          33.81818181818182,
          34,
          34.18181818181819,
          34.36363636363636,
          34.54545454545455,
          34.72727272727273,
          34.90909090909091,
          35.09090909090909,
          35.27272727272727,
          35.45454545454545,
          35.63636363636364,
          35.81818181818182,
          36
         ],
         "y": [
          0.0712740157235164,
          0.07283408425109221,
          0.07431819100672092,
          0.07572035224567315,
          0.07703483405703317,
          0.07825619131216846,
          0.07937930516416933,
          0.08039941873767469,
          0.0813121706613899,
          0.08211362611284109,
          0.08280030506632696,
          0.08336920746039918,
          0.08381783503023003,
          0.08414420958256477,
          0.0843468875262032,
          0.08442497050866297,
          0.08437811204935623,
          0.08420652010074552,
          0.08391095551098673,
          0.08349272640396369,
          0.08295367853480118,
          0.08229618172035678,
          0.08152311248428418,
          0.08063783309450898,
          0.07964416720686349,
          0.07854637236173258,
          0.0773491096104532,
          0.07605741057452373,
          0.07467664226310919,
          0.07321246999262826,
          0.07167081876619816,
          0.07005783348027578,
          0.06837983833092139,
          0.06664329579273959,
          0.06485476553980621,
          0.06302086366991133,
          0.061148222581442216,
          0.05924345183645155,
          0.05731310032421255,
          0.05536362001720036,
          0.053401331586339924,
          0.05143239211494173,
          0.04946276512143193,
          0.04749819307022952,
          0.045544172518370965,
          0.04360593201319189,
          0.04168841282398123,
          0.03979625255845463,
          0.03793377168355462,
          0.036104962939852873,
          0.03431348361005005,
          0.03256265057504833,
          0.03085543806608535,
          0.02919447799868826,
          0.027582062753920784,
          0.026020150254693404,
          0.02451037116988314,
          0.023054038066716662,
          0.021652156322318983,
          0.020305436598489716,
          0.019014308679574016,
          0.01777893647164333,
          0.016599233961960662,
          0.01547488194072001,
          0.014405345292137493,
          0.013389890668934479,
          0.012427604372878716,
          0.011517410274115984,
          0.01065808761330351,
          0.009848288542819076,
          0.00908655527633882,
          0.008371336729631022,
          0.007701004549289654,
          0.007073868440127256,
          0.006488190715876536,
          0.005942200011538372,
          0.0054341041090066105,
          0.0049621018403598,
          0.004524394045317076,
          0.004119193570710929,
          0.00374473431035189,
          0.0033992792932885057,
          0.0030811278371543445,
          0.002788621791017847,
          0.0025201508988967,
          0.002274157320872395,
          0.002049139353558844,
          0.001843654395570028,
          0.00165632120663561,
          0.00148582151117831,
          0.00133090099854674,
          0.0011903697727538947,
          0.001063102304569336,
          0.0009480369382183133,
          0.0008441750038245618,
          0.0007505795851618872,
          0.000666373990322505,
          0.0005907399706328035,
          0.0005229157306131386,
          0.0004621937690477559
         ]
        }
       ],
       "layout": {
        "annotations": [
         {
          "bordercolor": "rgb(100,110,250)",
          "borderwidth": 2,
          "font": {
           "color": "rgb(100,110,250)",
           "size": 15
          },
          "showarrow": false,
          "text": "0.28",
          "x": 18,
          "xshift": -40,
          "y": 0.0712740157235164,
          "yshift": -100
         },
         {
          "bordercolor": "rgb(239,85,59)",
          "borderwidth": 2,
          "font": {
           "color": "rgb(239,85,59)",
           "size": 15
          },
          "showarrow": false,
          "text": "0.72",
          "x": 18,
          "xshift": 40,
          "y": 0.0712740157235164,
          "yshift": -100
         }
        ],
        "template": {
         "data": {
          "bar": [
           {
            "error_x": {
             "color": "#2a3f5f"
            },
            "error_y": {
             "color": "#2a3f5f"
            },
            "marker": {
             "line": {
              "color": "#E5ECF6",
              "width": 0.5
             },
             "pattern": {
              "fillmode": "overlay",
              "size": 10,
              "solidity": 0.2
             }
            },
            "type": "bar"
           }
          ],
          "barpolar": [
           {
            "marker": {
             "line": {
              "color": "#E5ECF6",
              "width": 0.5
             },
             "pattern": {
              "fillmode": "overlay",
              "size": 10,
              "solidity": 0.2
             }
            },
            "type": "barpolar"
           }
          ],
          "carpet": [
           {
            "aaxis": {
             "endlinecolor": "#2a3f5f",
             "gridcolor": "white",
             "linecolor": "white",
             "minorgridcolor": "white",
             "startlinecolor": "#2a3f5f"
            },
            "baxis": {
             "endlinecolor": "#2a3f5f",
             "gridcolor": "white",
             "linecolor": "white",
             "minorgridcolor": "white",
             "startlinecolor": "#2a3f5f"
            },
            "type": "carpet"
           }
          ],
          "choropleth": [
           {
            "colorbar": {
             "outlinewidth": 0,
             "ticks": ""
            },
            "type": "choropleth"
           }
          ],
          "contour": [
           {
            "colorbar": {
             "outlinewidth": 0,
             "ticks": ""
            },
            "colorscale": [
             [
              0,
              "#0d0887"
             ],
             [
              0.1111111111111111,
              "#46039f"
             ],
             [
              0.2222222222222222,
              "#7201a8"
             ],
             [
              0.3333333333333333,
              "#9c179e"
             ],
             [
              0.4444444444444444,
              "#bd3786"
             ],
             [
              0.5555555555555556,
              "#d8576b"
             ],
             [
              0.6666666666666666,
              "#ed7953"
             ],
             [
              0.7777777777777778,
              "#fb9f3a"
             ],
             [
              0.8888888888888888,
              "#fdca26"
             ],
             [
              1,
              "#f0f921"
             ]
            ],
            "type": "contour"
           }
          ],
          "contourcarpet": [
           {
            "colorbar": {
             "outlinewidth": 0,
             "ticks": ""
            },
            "type": "contourcarpet"
           }
          ],
          "heatmap": [
           {
            "colorbar": {
             "outlinewidth": 0,
             "ticks": ""
            },
            "colorscale": [
             [
              0,
              "#0d0887"
             ],
             [
              0.1111111111111111,
              "#46039f"
             ],
             [
              0.2222222222222222,
              "#7201a8"
             ],
             [
              0.3333333333333333,
              "#9c179e"
             ],
             [
              0.4444444444444444,
              "#bd3786"
             ],
             [
              0.5555555555555556,
              "#d8576b"
             ],
             [
              0.6666666666666666,
              "#ed7953"
             ],
             [
              0.7777777777777778,
              "#fb9f3a"
             ],
             [
              0.8888888888888888,
              "#fdca26"
             ],
             [
              1,
              "#f0f921"
             ]
            ],
            "type": "heatmap"
           }
          ],
          "heatmapgl": [
           {
            "colorbar": {
             "outlinewidth": 0,
             "ticks": ""
            },
            "colorscale": [
             [
              0,
              "#0d0887"
             ],
             [
              0.1111111111111111,
              "#46039f"
             ],
             [
              0.2222222222222222,
              "#7201a8"
             ],
             [
              0.3333333333333333,
              "#9c179e"
             ],
             [
              0.4444444444444444,
              "#bd3786"
             ],
             [
              0.5555555555555556,
              "#d8576b"
             ],
             [
              0.6666666666666666,
              "#ed7953"
             ],
             [
              0.7777777777777778,
              "#fb9f3a"
             ],
             [
              0.8888888888888888,
              "#fdca26"
             ],
             [
              1,
              "#f0f921"
             ]
            ],
            "type": "heatmapgl"
           }
          ],
          "histogram": [
           {
            "marker": {
             "pattern": {
              "fillmode": "overlay",
              "size": 10,
              "solidity": 0.2
             }
            },
            "type": "histogram"
           }
          ],
          "histogram2d": [
           {
            "colorbar": {
             "outlinewidth": 0,
             "ticks": ""
            },
            "colorscale": [
             [
              0,
              "#0d0887"
             ],
             [
              0.1111111111111111,
              "#46039f"
             ],
             [
              0.2222222222222222,
              "#7201a8"
             ],
             [
              0.3333333333333333,
              "#9c179e"
             ],
             [
              0.4444444444444444,
              "#bd3786"
             ],
             [
              0.5555555555555556,
              "#d8576b"
             ],
             [
              0.6666666666666666,
              "#ed7953"
             ],
             [
              0.7777777777777778,
              "#fb9f3a"
             ],
             [
              0.8888888888888888,
              "#fdca26"
             ],
             [
              1,
              "#f0f921"
             ]
            ],
            "type": "histogram2d"
           }
          ],
          "histogram2dcontour": [
           {
            "colorbar": {
             "outlinewidth": 0,
             "ticks": ""
            },
            "colorscale": [
             [
              0,
              "#0d0887"
             ],
             [
              0.1111111111111111,
              "#46039f"
             ],
             [
              0.2222222222222222,
              "#7201a8"
             ],
             [
              0.3333333333333333,
              "#9c179e"
             ],
             [
              0.4444444444444444,
              "#bd3786"
             ],
             [
              0.5555555555555556,
              "#d8576b"
             ],
             [
              0.6666666666666666,
              "#ed7953"
             ],
             [
              0.7777777777777778,
              "#fb9f3a"
             ],
             [
              0.8888888888888888,
              "#fdca26"
             ],
             [
              1,
              "#f0f921"
             ]
            ],
            "type": "histogram2dcontour"
           }
          ],
          "mesh3d": [
           {
            "colorbar": {
             "outlinewidth": 0,
             "ticks": ""
            },
            "type": "mesh3d"
           }
          ],
          "parcoords": [
           {
            "line": {
             "colorbar": {
              "outlinewidth": 0,
              "ticks": ""
             }
            },
            "type": "parcoords"
           }
          ],
          "pie": [
           {
            "automargin": true,
            "type": "pie"
           }
          ],
          "scatter": [
           {
            "marker": {
             "colorbar": {
              "outlinewidth": 0,
              "ticks": ""
             }
            },
            "type": "scatter"
           }
          ],
          "scatter3d": [
           {
            "line": {
             "colorbar": {
              "outlinewidth": 0,
              "ticks": ""
             }
            },
            "marker": {
             "colorbar": {
              "outlinewidth": 0,
              "ticks": ""
             }
            },
            "type": "scatter3d"
           }
          ],
          "scattercarpet": [
           {
            "marker": {
             "colorbar": {
              "outlinewidth": 0,
              "ticks": ""
             }
            },
            "type": "scattercarpet"
           }
          ],
          "scattergeo": [
           {
            "marker": {
             "colorbar": {
              "outlinewidth": 0,
              "ticks": ""
             }
            },
            "type": "scattergeo"
           }
          ],
          "scattergl": [
           {
            "marker": {
             "colorbar": {
              "outlinewidth": 0,
              "ticks": ""
             }
            },
            "type": "scattergl"
           }
          ],
          "scattermapbox": [
           {
            "marker": {
             "colorbar": {
              "outlinewidth": 0,
              "ticks": ""
             }
            },
            "type": "scattermapbox"
           }
          ],
          "scatterpolar": [
           {
            "marker": {
             "colorbar": {
              "outlinewidth": 0,
              "ticks": ""
             }
            },
            "type": "scatterpolar"
           }
          ],
          "scatterpolargl": [
           {
            "marker": {
             "colorbar": {
              "outlinewidth": 0,
              "ticks": ""
             }
            },
            "type": "scatterpolargl"
           }
          ],
          "scatterternary": [
           {
            "marker": {
             "colorbar": {
              "outlinewidth": 0,
              "ticks": ""
             }
            },
            "type": "scatterternary"
           }
          ],
          "surface": [
           {
            "colorbar": {
             "outlinewidth": 0,
             "ticks": ""
            },
            "colorscale": [
             [
              0,
              "#0d0887"
             ],
             [
              0.1111111111111111,
              "#46039f"
             ],
             [
              0.2222222222222222,
              "#7201a8"
             ],
             [
              0.3333333333333333,
              "#9c179e"
             ],
             [
              0.4444444444444444,
              "#bd3786"
             ],
             [
              0.5555555555555556,
              "#d8576b"
             ],
             [
              0.6666666666666666,
              "#ed7953"
             ],
             [
              0.7777777777777778,
              "#fb9f3a"
             ],
             [
              0.8888888888888888,
              "#fdca26"
             ],
             [
              1,
              "#f0f921"
             ]
            ],
            "type": "surface"
           }
          ],
          "table": [
           {
            "cells": {
             "fill": {
              "color": "#EBF0F8"
             },
             "line": {
              "color": "white"
             }
            },
            "header": {
             "fill": {
              "color": "#C8D4E3"
             },
             "line": {
              "color": "white"
             }
            },
            "type": "table"
           }
          ]
         },
         "layout": {
          "annotationdefaults": {
           "arrowcolor": "#2a3f5f",
           "arrowhead": 0,
           "arrowwidth": 1
          },
          "autotypenumbers": "strict",
          "coloraxis": {
           "colorbar": {
            "outlinewidth": 0,
            "ticks": ""
           }
          },
          "colorscale": {
           "diverging": [
            [
             0,
             "#8e0152"
            ],
            [
             0.1,
             "#c51b7d"
            ],
            [
             0.2,
             "#de77ae"
            ],
            [
             0.3,
             "#f1b6da"
            ],
            [
             0.4,
             "#fde0ef"
            ],
            [
             0.5,
             "#f7f7f7"
            ],
            [
             0.6,
             "#e6f5d0"
            ],
            [
             0.7,
             "#b8e186"
            ],
            [
             0.8,
             "#7fbc41"
            ],
            [
             0.9,
             "#4d9221"
            ],
            [
             1,
             "#276419"
            ]
           ],
           "sequential": [
            [
             0,
             "#0d0887"
            ],
            [
             0.1111111111111111,
             "#46039f"
            ],
            [
             0.2222222222222222,
             "#7201a8"
            ],
            [
             0.3333333333333333,
             "#9c179e"
            ],
            [
             0.4444444444444444,
             "#bd3786"
            ],
            [
             0.5555555555555556,
             "#d8576b"
            ],
            [
             0.6666666666666666,
             "#ed7953"
            ],
            [
             0.7777777777777778,
             "#fb9f3a"
            ],
            [
             0.8888888888888888,
             "#fdca26"
            ],
            [
             1,
             "#f0f921"
            ]
           ],
           "sequentialminus": [
            [
             0,
             "#0d0887"
            ],
            [
             0.1111111111111111,
             "#46039f"
            ],
            [
             0.2222222222222222,
             "#7201a8"
            ],
            [
             0.3333333333333333,
             "#9c179e"
            ],
            [
             0.4444444444444444,
             "#bd3786"
            ],
            [
             0.5555555555555556,
             "#d8576b"
            ],
            [
             0.6666666666666666,
             "#ed7953"
            ],
            [
             0.7777777777777778,
             "#fb9f3a"
            ],
            [
             0.8888888888888888,
             "#fdca26"
            ],
            [
             1,
             "#f0f921"
            ]
           ]
          },
          "colorway": [
           "#636efa",
           "#EF553B",
           "#00cc96",
           "#ab63fa",
           "#FFA15A",
           "#19d3f3",
           "#FF6692",
           "#B6E880",
           "#FF97FF",
           "#FECB52"
          ],
          "font": {
           "color": "#2a3f5f"
          },
          "geo": {
           "bgcolor": "white",
           "lakecolor": "white",
           "landcolor": "#E5ECF6",
           "showlakes": true,
           "showland": true,
           "subunitcolor": "white"
          },
          "hoverlabel": {
           "align": "left"
          },
          "hovermode": "closest",
          "mapbox": {
           "style": "light"
          },
          "paper_bgcolor": "white",
          "plot_bgcolor": "#E5ECF6",
          "polar": {
           "angularaxis": {
            "gridcolor": "white",
            "linecolor": "white",
            "ticks": ""
           },
           "bgcolor": "#E5ECF6",
           "radialaxis": {
            "gridcolor": "white",
            "linecolor": "white",
            "ticks": ""
           }
          },
          "scene": {
           "xaxis": {
            "backgroundcolor": "#E5ECF6",
            "gridcolor": "white",
            "gridwidth": 2,
            "linecolor": "white",
            "showbackground": true,
            "ticks": "",
            "zerolinecolor": "white"
           },
           "yaxis": {
            "backgroundcolor": "#E5ECF6",
            "gridcolor": "white",
            "gridwidth": 2,
            "linecolor": "white",
            "showbackground": true,
            "ticks": "",
            "zerolinecolor": "white"
           },
           "zaxis": {
            "backgroundcolor": "#E5ECF6",
            "gridcolor": "white",
            "gridwidth": 2,
            "linecolor": "white",
            "showbackground": true,
            "ticks": "",
            "zerolinecolor": "white"
           }
          },
          "shapedefaults": {
           "line": {
            "color": "#2a3f5f"
           }
          },
          "ternary": {
           "aaxis": {
            "gridcolor": "white",
            "linecolor": "white",
            "ticks": ""
           },
           "baxis": {
            "gridcolor": "white",
            "linecolor": "white",
            "ticks": ""
           },
           "bgcolor": "#E5ECF6",
           "caxis": {
            "gridcolor": "white",
            "linecolor": "white",
            "ticks": ""
           }
          },
          "title": {
           "x": 0.05
          },
          "xaxis": {
           "automargin": true,
           "gridcolor": "white",
           "linecolor": "white",
           "ticks": "",
           "title": {
            "standoff": 15
           },
           "zerolinecolor": "white",
           "zerolinewidth": 2
          },
          "yaxis": {
           "automargin": true,
           "gridcolor": "white",
           "linecolor": "white",
           "ticks": "",
           "title": {
            "standoff": 15
           },
           "zerolinecolor": "white",
           "zerolinewidth": 2
          }
         }
        }
       }
      }
     },
     "metadata": {},
     "output_type": "display_data"
    }
   ],
   "source": [
    "busan_pm10 = df_pm10[df_pm10['구분(2)']=='부산광역시'].loc[2,'2021.07']\n",
    "pm10_pro = cal_norm(mean,std,min,max,busan_pm10)"
   ]
  },
  {
   "cell_type": "markdown",
   "metadata": {
    "collapsed": false
   },
   "source": [
    "## 상위 요소 - 사회적 요인"
   ]
  },
  {
   "cell_type": "markdown",
   "metadata": {
    "collapsed": false
   },
   "source": [
    "### 행정구역 인구 데이터 불러오기"
   ]
  },
  {
   "cell_type": "code",
   "execution_count": 458,
   "metadata": {
    "collapsed": false,
    "pycharm": {
     "name": "#%%\n"
    }
   },
   "outputs": [
    {
     "data": {
      "text/html": [
       "<div>\n",
       "<style scoped>\n",
       "    .dataframe tbody tr th:only-of-type {\n",
       "        vertical-align: middle;\n",
       "    }\n",
       "\n",
       "    .dataframe tbody tr th {\n",
       "        vertical-align: top;\n",
       "    }\n",
       "\n",
       "    .dataframe thead th {\n",
       "        text-align: right;\n",
       "    }\n",
       "</style>\n",
       "<table border=\"1\" class=\"dataframe\">\n",
       "  <thead>\n",
       "    <tr style=\"text-align: right;\">\n",
       "      <th></th>\n",
       "      <th>행정구역(시군구)별</th>\n",
       "      <th>총인구수 (명)</th>\n",
       "    </tr>\n",
       "  </thead>\n",
       "  <tbody>\n",
       "    <tr>\n",
       "      <th>0</th>\n",
       "      <td>전국</td>\n",
       "      <td>51592660</td>\n",
       "    </tr>\n",
       "    <tr>\n",
       "      <th>1</th>\n",
       "      <td>서울특별시</td>\n",
       "      <td>9500480</td>\n",
       "    </tr>\n",
       "    <tr>\n",
       "      <th>2</th>\n",
       "      <td>종로구</td>\n",
       "      <td>144005</td>\n",
       "    </tr>\n",
       "    <tr>\n",
       "      <th>3</th>\n",
       "      <td>중구</td>\n",
       "      <td>122087</td>\n",
       "    </tr>\n",
       "    <tr>\n",
       "      <th>4</th>\n",
       "      <td>용산구</td>\n",
       "      <td>222009</td>\n",
       "    </tr>\n",
       "    <tr>\n",
       "      <th>...</th>\n",
       "      <td>...</td>\n",
       "      <td>...</td>\n",
       "    </tr>\n",
       "    <tr>\n",
       "      <th>287</th>\n",
       "      <td>거창군</td>\n",
       "      <td>60756</td>\n",
       "    </tr>\n",
       "    <tr>\n",
       "      <th>288</th>\n",
       "      <td>합천군</td>\n",
       "      <td>42613</td>\n",
       "    </tr>\n",
       "    <tr>\n",
       "      <th>289</th>\n",
       "      <td>제주특별자치도</td>\n",
       "      <td>677413</td>\n",
       "    </tr>\n",
       "    <tr>\n",
       "      <th>290</th>\n",
       "      <td>제주시</td>\n",
       "      <td>493076</td>\n",
       "    </tr>\n",
       "    <tr>\n",
       "      <th>291</th>\n",
       "      <td>서귀포시</td>\n",
       "      <td>184337</td>\n",
       "    </tr>\n",
       "  </tbody>\n",
       "</table>\n",
       "<p>292 rows × 2 columns</p>\n",
       "</div>"
      ],
      "text/plain": [
       "    행정구역(시군구)별  총인구수 (명)\n",
       "0           전국  51592660\n",
       "1        서울특별시   9500480\n",
       "2          종로구    144005\n",
       "3           중구    122087\n",
       "4          용산구    222009\n",
       "..         ...       ...\n",
       "287        거창군     60756\n",
       "288        합천군     42613\n",
       "289    제주특별자치도    677413\n",
       "290        제주시    493076\n",
       "291       서귀포시    184337\n",
       "\n",
       "[292 rows x 2 columns]"
      ]
     },
     "execution_count": 458,
     "metadata": {},
     "output_type": "execute_result"
    }
   ],
   "source": [
    "people_file_path = 'C:\\\\Users\\\\SAMSUNG\\\\Desktop\\\\Green-Car-Charging-Station-Site-Selection\\\\Data\\\\행정구역_시군구_별__성별_인구수.csv'\n",
    "df_people = pd.read_csv(people_file_path, encoding='cp949', header=1)\n",
    "df_people"
   ]
  },
  {
   "cell_type": "markdown",
   "metadata": {},
   "source": [
    "### 부산광역시 인구 데이터 추출"
   ]
  },
  {
   "cell_type": "code",
   "execution_count": 459,
   "metadata": {},
   "outputs": [
    {
     "data": {
      "text/html": [
       "<div>\n",
       "<style scoped>\n",
       "    .dataframe tbody tr th:only-of-type {\n",
       "        vertical-align: middle;\n",
       "    }\n",
       "\n",
       "    .dataframe tbody tr th {\n",
       "        vertical-align: top;\n",
       "    }\n",
       "\n",
       "    .dataframe thead th {\n",
       "        text-align: right;\n",
       "    }\n",
       "</style>\n",
       "<table border=\"1\" class=\"dataframe\">\n",
       "  <thead>\n",
       "    <tr style=\"text-align: right;\">\n",
       "      <th></th>\n",
       "      <th>총인구수 (명)</th>\n",
       "    </tr>\n",
       "    <tr>\n",
       "      <th>행정구역(시군구)별</th>\n",
       "      <th></th>\n",
       "    </tr>\n",
       "  </thead>\n",
       "  <tbody>\n",
       "    <tr>\n",
       "      <th>강서구</th>\n",
       "      <td>143638.0</td>\n",
       "    </tr>\n",
       "    <tr>\n",
       "      <th>금정구</th>\n",
       "      <td>225033.0</td>\n",
       "    </tr>\n",
       "    <tr>\n",
       "      <th>기장군</th>\n",
       "      <td>176505.0</td>\n",
       "    </tr>\n",
       "    <tr>\n",
       "      <th>남구</th>\n",
       "      <td>260617.0</td>\n",
       "    </tr>\n",
       "    <tr>\n",
       "      <th>동구</th>\n",
       "      <td>88257.0</td>\n",
       "    </tr>\n",
       "    <tr>\n",
       "      <th>동래구</th>\n",
       "      <td>273976.0</td>\n",
       "    </tr>\n",
       "    <tr>\n",
       "      <th>부산진구</th>\n",
       "      <td>351022.0</td>\n",
       "    </tr>\n",
       "    <tr>\n",
       "      <th>북구</th>\n",
       "      <td>280852.0</td>\n",
       "    </tr>\n",
       "    <tr>\n",
       "      <th>사상구</th>\n",
       "      <td>206365.0</td>\n",
       "    </tr>\n",
       "    <tr>\n",
       "      <th>사하구</th>\n",
       "      <td>305556.0</td>\n",
       "    </tr>\n",
       "    <tr>\n",
       "      <th>서구</th>\n",
       "      <td>103961.0</td>\n",
       "    </tr>\n",
       "    <tr>\n",
       "      <th>수영구</th>\n",
       "      <td>174633.0</td>\n",
       "    </tr>\n",
       "    <tr>\n",
       "      <th>연제구</th>\n",
       "      <td>206677.0</td>\n",
       "    </tr>\n",
       "    <tr>\n",
       "      <th>영도구</th>\n",
       "      <td>109407.0</td>\n",
       "    </tr>\n",
       "    <tr>\n",
       "      <th>중구</th>\n",
       "      <td>40585.0</td>\n",
       "    </tr>\n",
       "    <tr>\n",
       "      <th>해운대구</th>\n",
       "      <td>393130.0</td>\n",
       "    </tr>\n",
       "  </tbody>\n",
       "</table>\n",
       "</div>"
      ],
      "text/plain": [
       "            총인구수 (명)\n",
       "행정구역(시군구)별          \n",
       "강서구         143638.0\n",
       "금정구         225033.0\n",
       "기장군         176505.0\n",
       "남구          260617.0\n",
       "동구           88257.0\n",
       "동래구         273976.0\n",
       "부산진구        351022.0\n",
       "북구          280852.0\n",
       "사상구         206365.0\n",
       "사하구         305556.0\n",
       "서구          103961.0\n",
       "수영구         174633.0\n",
       "연제구         206677.0\n",
       "영도구         109407.0\n",
       "중구           40585.0\n",
       "해운대구        393130.0"
      ]
     },
     "execution_count": 459,
     "metadata": {},
     "output_type": "execute_result"
    }
   ],
   "source": [
    "\n",
    "df_busan_people"
   ]
  },
  {
   "cell_type": "code",
   "execution_count": 460,
   "metadata": {},
   "outputs": [
    {
     "data": {
      "text/html": [
       "<div>\n",
       "<style scoped>\n",
       "    .dataframe tbody tr th:only-of-type {\n",
       "        vertical-align: middle;\n",
       "    }\n",
       "\n",
       "    .dataframe tbody tr th {\n",
       "        vertical-align: top;\n",
       "    }\n",
       "\n",
       "    .dataframe thead th {\n",
       "        text-align: right;\n",
       "    }\n",
       "</style>\n",
       "<table border=\"1\" class=\"dataframe\">\n",
       "  <thead>\n",
       "    <tr style=\"text-align: right;\">\n",
       "      <th></th>\n",
       "      <th>총인구수 (명)</th>\n",
       "    </tr>\n",
       "    <tr>\n",
       "      <th>행정구역(시군구)별</th>\n",
       "      <th></th>\n",
       "    </tr>\n",
       "  </thead>\n",
       "  <tbody>\n",
       "    <tr>\n",
       "      <th>강서구</th>\n",
       "      <td>143638.0</td>\n",
       "    </tr>\n",
       "    <tr>\n",
       "      <th>금정구</th>\n",
       "      <td>225033.0</td>\n",
       "    </tr>\n",
       "    <tr>\n",
       "      <th>기장군</th>\n",
       "      <td>176505.0</td>\n",
       "    </tr>\n",
       "    <tr>\n",
       "      <th>남구</th>\n",
       "      <td>260617.0</td>\n",
       "    </tr>\n",
       "    <tr>\n",
       "      <th>동구</th>\n",
       "      <td>88257.0</td>\n",
       "    </tr>\n",
       "    <tr>\n",
       "      <th>동래구</th>\n",
       "      <td>273976.0</td>\n",
       "    </tr>\n",
       "    <tr>\n",
       "      <th>부산진구</th>\n",
       "      <td>351022.0</td>\n",
       "    </tr>\n",
       "    <tr>\n",
       "      <th>북구</th>\n",
       "      <td>280852.0</td>\n",
       "    </tr>\n",
       "    <tr>\n",
       "      <th>사상구</th>\n",
       "      <td>206365.0</td>\n",
       "    </tr>\n",
       "    <tr>\n",
       "      <th>사하구</th>\n",
       "      <td>305556.0</td>\n",
       "    </tr>\n",
       "    <tr>\n",
       "      <th>서구</th>\n",
       "      <td>103961.0</td>\n",
       "    </tr>\n",
       "    <tr>\n",
       "      <th>수영구</th>\n",
       "      <td>174633.0</td>\n",
       "    </tr>\n",
       "    <tr>\n",
       "      <th>연제구</th>\n",
       "      <td>206677.0</td>\n",
       "    </tr>\n",
       "    <tr>\n",
       "      <th>영도구</th>\n",
       "      <td>109407.0</td>\n",
       "    </tr>\n",
       "    <tr>\n",
       "      <th>중구</th>\n",
       "      <td>40585.0</td>\n",
       "    </tr>\n",
       "    <tr>\n",
       "      <th>해운대구</th>\n",
       "      <td>393130.0</td>\n",
       "    </tr>\n",
       "  </tbody>\n",
       "</table>\n",
       "</div>"
      ],
      "text/plain": [
       "            총인구수 (명)\n",
       "행정구역(시군구)별          \n",
       "강서구         143638.0\n",
       "금정구         225033.0\n",
       "기장군         176505.0\n",
       "남구          260617.0\n",
       "동구           88257.0\n",
       "동래구         273976.0\n",
       "부산진구        351022.0\n",
       "북구          280852.0\n",
       "사상구         206365.0\n",
       "사하구         305556.0\n",
       "서구          103961.0\n",
       "수영구         174633.0\n",
       "연제구         206677.0\n",
       "영도구         109407.0\n",
       "중구           40585.0\n",
       "해운대구        393130.0"
      ]
     },
     "execution_count": 460,
     "metadata": {},
     "output_type": "execute_result"
    }
   ],
   "source": [
    "df_busan_people = df_people[28:44].sort_values('행정구역(시군구)별')\n",
    "df_busan_people.set_index('행정구역(시군구)별',inplace=True)\n",
    "df_busan_people['총인구수 (명)'] = df_busan_people['총인구수 (명)'].astype(float)\n",
    "df_busan_people"
   ]
  },
  {
   "cell_type": "code",
   "execution_count": 461,
   "metadata": {},
   "outputs": [
    {
     "data": {
      "text/html": [
       "<div>\n",
       "<style scoped>\n",
       "    .dataframe tbody tr th:only-of-type {\n",
       "        vertical-align: middle;\n",
       "    }\n",
       "\n",
       "    .dataframe tbody tr th {\n",
       "        vertical-align: top;\n",
       "    }\n",
       "\n",
       "    .dataframe thead th {\n",
       "        text-align: right;\n",
       "    }\n",
       "</style>\n",
       "<table border=\"1\" class=\"dataframe\">\n",
       "  <thead>\n",
       "    <tr style=\"text-align: right;\">\n",
       "      <th></th>\n",
       "      <th>총인구수 (명)</th>\n",
       "    </tr>\n",
       "  </thead>\n",
       "  <tbody>\n",
       "    <tr>\n",
       "      <th>count</th>\n",
       "      <td>16.000000</td>\n",
       "    </tr>\n",
       "    <tr>\n",
       "      <th>mean</th>\n",
       "      <td>208763.375000</td>\n",
       "    </tr>\n",
       "    <tr>\n",
       "      <th>std</th>\n",
       "      <td>98697.592227</td>\n",
       "    </tr>\n",
       "    <tr>\n",
       "      <th>min</th>\n",
       "      <td>40585.000000</td>\n",
       "    </tr>\n",
       "    <tr>\n",
       "      <th>25%</th>\n",
       "      <td>135080.250000</td>\n",
       "    </tr>\n",
       "    <tr>\n",
       "      <th>50%</th>\n",
       "      <td>206521.000000</td>\n",
       "    </tr>\n",
       "    <tr>\n",
       "      <th>75%</th>\n",
       "      <td>275695.000000</td>\n",
       "    </tr>\n",
       "    <tr>\n",
       "      <th>max</th>\n",
       "      <td>393130.000000</td>\n",
       "    </tr>\n",
       "  </tbody>\n",
       "</table>\n",
       "</div>"
      ],
      "text/plain": [
       "            총인구수 (명)\n",
       "count      16.000000\n",
       "mean   208763.375000\n",
       "std     98697.592227\n",
       "min     40585.000000\n",
       "25%    135080.250000\n",
       "50%    206521.000000\n",
       "75%    275695.000000\n",
       "max    393130.000000"
      ]
     },
     "execution_count": 461,
     "metadata": {},
     "output_type": "execute_result"
    }
   ],
   "source": [
    "df_busan_people.describe()"
   ]
  },
  {
   "cell_type": "code",
   "execution_count": 490,
   "metadata": {},
   "outputs": [
    {
     "data": {
      "application/vnd.plotly.v1+json": {
       "config": {
        "plotlyServerURL": "https://plot.ly"
       },
       "data": [
        {
         "fill": "tozeroy",
         "line": {
          "color": "rgb(100,110,250)"
         },
         "name": "적합",
         "text": "0.8336293889220413",
         "type": "scatter",
         "x": [
          -58112.59222721697,
          -54439.17210370973,
          -50765.75198020248,
          -47092.331856695244,
          -43418.911733188,
          -39745.49160968076,
          -36072.07148617352,
          -32398.651362666275,
          -28725.23123915903,
          -25051.81111565179,
          -21378.390992144545,
          -17704.970868637305,
          -14031.550745130065,
          -10358.130621622819,
          -6684.710498115579,
          -3011.290374608332,
          662.1297488989076,
          4335.549872406147,
          8008.969995913387,
          11682.390119420641,
          15355.81024292788,
          19029.23036643512,
          22702.65048994236,
          26376.0706134496,
          30049.49073695684,
          33722.91086046409,
          37396.33098397133,
          41069.75110747857,
          44743.17123098581,
          48416.59135449305,
          52090.011478000306,
          55763.431601507546,
          59436.851725014785,
          63110.271848522025,
          66783.69197202926,
          70457.11209553652,
          74130.53221904374,
          77803.95234255098,
          81477.37246605825,
          85150.79258956549,
          88824.21271307273,
          92497.63283657997,
          96171.05296008721,
          99844.47308359445,
          103517.89320710169,
          107191.31333060893,
          110864.73345411617,
          114538.15357762341,
          118211.57370113065,
          121884.99382463792,
          125558.41394814516,
          129231.8340716524,
          132905.25419515965,
          136578.67431866686,
          140252.09444217413,
          143925.51456568134,
          147598.9346891886,
          151272.35481269582,
          154945.7749362031,
          158619.19505971036,
          162292.61518321757,
          165966.03530672484,
          169639.45543023205,
          173312.87555373932,
          176986.29567724653,
          180659.7158007538,
          184333.135924261,
          188006.55604776827,
          191679.97617127548,
          195353.39629478275,
          199026.81641829002,
          202700.23654179723,
          206373.65666530444,
          210047.0767888117,
          213720.49691231892,
          217393.9170358262,
          221067.33715933346,
          224740.75728284067,
          228414.17740634794,
          232087.59752985515,
          235761.01765336242,
          239434.43777686963,
          243107.8579003769,
          246781.2780238841,
          250454.69814739138,
          254128.1182708986,
          257801.53839440586,
          261474.95851791312,
          265148.37864142034,
          268821.7987649276,
          272495.2188884348,
          276168.6390119421,
          279842.0591354493,
          283515.47925895656,
          287188.8993824638,
          290862.31950597104,
          294535.73962947825,
          298209.1597529855,
          301882.5798764928,
          305556
         ],
         "y": [
          1.0445612145729516e-7,
          1.1543569433682496e-7,
          1.273927570166248e-7,
          1.403937412696129e-7,
          1.545073528561181e-7,
          1.6980440409590352e-7,
          1.8635761419369638e-7,
          2.0424137581789096e-7,
          2.2353148662522094e-7,
          2.4430484465160474e-7,
          2.6663910675142706e-7,
          2.9061230956417306e-7,
          3.163024528180245e-7,
          3.437870451435937e-7,
          3.731426129657803e-7,
          4.044441734654052e-7,
          4.377646730519623e-7,
          4.7317439326087466e-7,
          5.107403264789594e-7,
          5.505255244054896e-7,
          5.925884226679256e-7,
          6.369821455251316e-7,
          6.837537951001167e-7,
          7.329437300822596e-7,
          7.845848393181143e-7,
          8.387018161628296e-7,
          8.953104398829903e-7,
          9.544168707785934e-7,
          0.0000010160169660189257,
          0.0000010800956234567449,
          0.0000011466261608899404,
          0.0000012155697383728215,
          0.0000012868748312339772,
          0.000001360476761428531,
          0.0000014362972947348575,
          0.0000015142443110953083,
          0.0000015942115550947523,
          0.0000016760784731678047,
          0.000001759710143625457,
          0.0000018449573049953203,
          0.0000019316564874793875,
          0.000002019630251552974,
          0.000002108687536863808,
          0.0000021986241236478887,
          0.0000022892232078670437,
          0.0000023802560902018044,
          0.000002471482977913173,
          0.0000025626538974302135,
          0.000002653509714340376,
          0.0000027437832562699898,
          0.0000028332005329582196,
          0.000002921482046664176,
          0.000003008344184919236,
          0.0000030935006865605205,
          0.0000031766641709722336,
          0.000003257547719533972,
          0.0000033358664974435454,
          0.000003411339403359346,
          0.0000034836907337062543,
          0.000003552651848019935,
          0.0000036179628213766167,
          0.000003679374069776234,
          0.000003736647934321797,
          0.0000037895602101704954,
          0.0000038379016065235776,
          0.00000388147912437182,
          0.0000039201173393180645,
          0.0000039536595775529416,
          0.000003981968973956621,
          0.00000400492940232927,
          0.000004022446268903821,
          0.000004034447161553901,
          0.000004040882348462097,
          0.000004041725121443071,
          0.000004036971980604896,
          0.000004026642658561963,
          0.000004010779983965065,
          0.0000039894495856693865,
          0.000003962739440399871,
          0.000003930759268276605,
          0.000003893639782012001,
          0.000003851531796968883,
          0.0000038046052105574116,
          0.0000037530478606338884,
          0.0000036970642736319675,
          0.0000036368743140947915,
          0.0000035727117480747807,
          0.000003504822733518362,
          0.0000034334642512496806,
          0.0000033589024905067545,
          0.000003281411203163982,
          0.0000032012700407970113,
          0.0000031187628886128526,
          0.000003034176209984212,
          0.0000029477974148997316,
          0.0000028599132650792794,
          0.0000027708083278164157,
          0.0000026807634898099615,
          0.000002590054541346557,
          0.000002498950840209827
         ]
        },
        {
         "fill": "tozeroy",
         "line": {
          "color": "rgb(239,85,59)"
         },
         "name": "부적합",
         "text": "0.8336293889220413",
         "type": "scatter",
         "x": [
          305556,
          306440.58585858584,
          307325.17171717173,
          308209.75757575757,
          309094.3434343434,
          309978.9292929293,
          310863.51515151514,
          311748.10101010103,
          312632.68686868687,
          313517.2727272727,
          314401.8585858586,
          315286.44444444444,
          316171.0303030303,
          317055.61616161617,
          317940.202020202,
          318824.7878787879,
          319709.37373737374,
          320593.9595959596,
          321478.54545454547,
          322363.1313131313,
          323247.71717171714,
          324132.30303030304,
          325016.8888888889,
          325901.4747474748,
          326786.0606060606,
          327670.64646464644,
          328555.23232323234,
          329439.8181818182,
          330324.404040404,
          331208.9898989899,
          332093.57575757575,
          332978.16161616164,
          333862.7474747475,
          334747.3333333333,
          335631.9191919192,
          336516.50505050505,
          337401.0909090909,
          338285.6767676768,
          339170.2626262626,
          340054.8484848485,
          340939.43434343435,
          341824.0202020202,
          342708.6060606061,
          343593.1919191919,
          344477.77777777775,
          345362.36363636365,
          346246.9494949495,
          347131.5353535353,
          348016.1212121212,
          348900.70707070705,
          349785.29292929295,
          350669.8787878788,
          351554.4646464646,
          352439.0505050505,
          353323.63636363635,
          354208.22222222225,
          355092.8080808081,
          355977.3939393939,
          356861.9797979798,
          357746.56565656565,
          358631.1515151515,
          359515.7373737374,
          360400.3232323232,
          361284.90909090906,
          362169.49494949495,
          363054.0808080808,
          363938.6666666667,
          364823.2525252525,
          365707.83838383836,
          366592.42424242425,
          367477.0101010101,
          368361.595959596,
          369246.1818181818,
          370130.76767676766,
          371015.35353535356,
          371899.9393939394,
          372784.5252525252,
          373669.1111111111,
          374553.69696969696,
          375438.2828282828,
          376322.8686868687,
          377207.45454545453,
          378092.04040404037,
          378976.62626262626,
          379861.2121212121,
          380745.797979798,
          381630.38383838383,
          382514.9696969697,
          383399.55555555556,
          384284.1414141414,
          385168.7272727273,
          386053.31313131313,
          386937.89898989897,
          387822.48484848486,
          388707.0707070707,
          389591.65656565654,
          390476.24242424243,
          391360.82828282827,
          392245.4141414141,
          393130
         ],
         "y": [
          0.000002498950840209827,
          0.000002476982821350689,
          0.000002455010707095459,
          0.000002433038047926321,
          0.000002411068362820865,
          0.0000023891051384085082,
          0.000002367151828147419,
          0.00000234521185152216,
          0.0000023232885932622696,
          0.0000023013854025819327,
          0.0000022795055924409365,
          0.000002257652438827052,
          0.000002235829180059986,
          0.0000022140390161170277,
          0.000002192285107980536,
          0.0000021705705770073047,
          0.0000021488985043199755,
          0.000002127271930220501,
          0.000002105693853625772,
          0.0000020841672315254384,
          0.0000020626949784619467,
          0.0000020412799660328477,
          0.000002019925022415366,
          0.0000019986329319132277,
          0.0000019774064345257522,
          0.0000019562482255391504,
          0.0000019351609551400248,
          0.000001914147228051003,
          0.0000018932096031884328,
          0.0000018723505933420928,
          0.00000185157266487681,
          0.000001830878237455892,
          0.000001810269683786277,
          0.0000017897493293852686,
          0.0000017693194523687333,
          0.0000017489822832606266,
          0.000001728740004823677,
          0.0000017085947519110906,
          0.0000016885486113391004,
          0.0000016686036217801539,
          0.0000016487617736766029,
          0.000001629025009174636,
          0.0000016093952220782883,
          0.0000015898742578233075,
          0.0000015704639134706175,
          0.0000015511659377191954,
          0.0000015319820309380853,
          0.000001512913845217307,
          0.0000014939629844374163,
          0.0000014751310043574376,
          0.0000014564194127209005,
          0.000001437829669379718,
          0.0000014193631864355954,
          0.0000014010213283987027,
          0.0000013828054123633118,
          0.0000013647167082000748,
          0.0000013467564387646695,
          0.0000013289257801224698,
          0.0000013112258617889408,
          0.0000012936577669854376,
          0.0000012762225329100649,
          0.0000012589211510232827,
          0.000001241754567347929,
          0.0000012247236827832916,
          0.0000012078293534329255,
          0.0000011910723909458539,
          0.0000011744535628707878,
          0.0000011579735930230639,
          0.0000011416331618638884,
          0.0000011254329068915841,
          0.0000011093734230444614,
          0.0000010934552631149487,
          0.0000010776789381746517,
          0.0000010620449180099525,
          0.0000010465536315678095,
          0.000001031205467411391,
          0.000001016000774185175,
          0.0000010009398610891668,
          9.860229983618698e-7,
          9.712504177716383e-7,
          9.566223131160698e-7,
          9.421388407290742e-7,
          9.278001199952464e-7,
          9.136062338712082e-7,
          8.995572294135575e-7,
          8.856531183130564e-7,
          8.718938774347378e-7,
          8.582794493635444e-7,
          8.448097429551947e-7,
          8.314846338918872e-7,
          8.183039652425406e-7,
          8.052675480272106e-7,
          7.923751617853422e-7,
          7.796265551475475e-7,
          7.670214464105587e-7,
          7.545595241150368e-7,
          7.422404476259185e-7,
          7.300638477149813e-7,
          7.18029327145303e-7,
          7.061364612573195e-7
         ]
        }
       ],
       "layout": {
        "annotations": [
         {
          "bordercolor": "rgb(100,110,250)",
          "borderwidth": 2,
          "font": {
           "color": "rgb(100,110,250)",
           "size": 15
          },
          "showarrow": false,
          "text": "0.834",
          "x": 305556,
          "xshift": -40,
          "y": 0.000002498950840209827,
          "yshift": -100
         },
         {
          "bordercolor": "rgb(239,85,59)",
          "borderwidth": 2,
          "font": {
           "color": "rgb(239,85,59)",
           "size": 15
          },
          "showarrow": false,
          "text": "0.166",
          "x": 305556,
          "xshift": 40,
          "y": 0.000002498950840209827,
          "yshift": -100
         }
        ],
        "template": {
         "data": {
          "bar": [
           {
            "error_x": {
             "color": "#2a3f5f"
            },
            "error_y": {
             "color": "#2a3f5f"
            },
            "marker": {
             "line": {
              "color": "#E5ECF6",
              "width": 0.5
             },
             "pattern": {
              "fillmode": "overlay",
              "size": 10,
              "solidity": 0.2
             }
            },
            "type": "bar"
           }
          ],
          "barpolar": [
           {
            "marker": {
             "line": {
              "color": "#E5ECF6",
              "width": 0.5
             },
             "pattern": {
              "fillmode": "overlay",
              "size": 10,
              "solidity": 0.2
             }
            },
            "type": "barpolar"
           }
          ],
          "carpet": [
           {
            "aaxis": {
             "endlinecolor": "#2a3f5f",
             "gridcolor": "white",
             "linecolor": "white",
             "minorgridcolor": "white",
             "startlinecolor": "#2a3f5f"
            },
            "baxis": {
             "endlinecolor": "#2a3f5f",
             "gridcolor": "white",
             "linecolor": "white",
             "minorgridcolor": "white",
             "startlinecolor": "#2a3f5f"
            },
            "type": "carpet"
           }
          ],
          "choropleth": [
           {
            "colorbar": {
             "outlinewidth": 0,
             "ticks": ""
            },
            "type": "choropleth"
           }
          ],
          "contour": [
           {
            "colorbar": {
             "outlinewidth": 0,
             "ticks": ""
            },
            "colorscale": [
             [
              0,
              "#0d0887"
             ],
             [
              0.1111111111111111,
              "#46039f"
             ],
             [
              0.2222222222222222,
              "#7201a8"
             ],
             [
              0.3333333333333333,
              "#9c179e"
             ],
             [
              0.4444444444444444,
              "#bd3786"
             ],
             [
              0.5555555555555556,
              "#d8576b"
             ],
             [
              0.6666666666666666,
              "#ed7953"
             ],
             [
              0.7777777777777778,
              "#fb9f3a"
             ],
             [
              0.8888888888888888,
              "#fdca26"
             ],
             [
              1,
              "#f0f921"
             ]
            ],
            "type": "contour"
           }
          ],
          "contourcarpet": [
           {
            "colorbar": {
             "outlinewidth": 0,
             "ticks": ""
            },
            "type": "contourcarpet"
           }
          ],
          "heatmap": [
           {
            "colorbar": {
             "outlinewidth": 0,
             "ticks": ""
            },
            "colorscale": [
             [
              0,
              "#0d0887"
             ],
             [
              0.1111111111111111,
              "#46039f"
             ],
             [
              0.2222222222222222,
              "#7201a8"
             ],
             [
              0.3333333333333333,
              "#9c179e"
             ],
             [
              0.4444444444444444,
              "#bd3786"
             ],
             [
              0.5555555555555556,
              "#d8576b"
             ],
             [
              0.6666666666666666,
              "#ed7953"
             ],
             [
              0.7777777777777778,
              "#fb9f3a"
             ],
             [
              0.8888888888888888,
              "#fdca26"
             ],
             [
              1,
              "#f0f921"
             ]
            ],
            "type": "heatmap"
           }
          ],
          "heatmapgl": [
           {
            "colorbar": {
             "outlinewidth": 0,
             "ticks": ""
            },
            "colorscale": [
             [
              0,
              "#0d0887"
             ],
             [
              0.1111111111111111,
              "#46039f"
             ],
             [
              0.2222222222222222,
              "#7201a8"
             ],
             [
              0.3333333333333333,
              "#9c179e"
             ],
             [
              0.4444444444444444,
              "#bd3786"
             ],
             [
              0.5555555555555556,
              "#d8576b"
             ],
             [
              0.6666666666666666,
              "#ed7953"
             ],
             [
              0.7777777777777778,
              "#fb9f3a"
             ],
             [
              0.8888888888888888,
              "#fdca26"
             ],
             [
              1,
              "#f0f921"
             ]
            ],
            "type": "heatmapgl"
           }
          ],
          "histogram": [
           {
            "marker": {
             "pattern": {
              "fillmode": "overlay",
              "size": 10,
              "solidity": 0.2
             }
            },
            "type": "histogram"
           }
          ],
          "histogram2d": [
           {
            "colorbar": {
             "outlinewidth": 0,
             "ticks": ""
            },
            "colorscale": [
             [
              0,
              "#0d0887"
             ],
             [
              0.1111111111111111,
              "#46039f"
             ],
             [
              0.2222222222222222,
              "#7201a8"
             ],
             [
              0.3333333333333333,
              "#9c179e"
             ],
             [
              0.4444444444444444,
              "#bd3786"
             ],
             [
              0.5555555555555556,
              "#d8576b"
             ],
             [
              0.6666666666666666,
              "#ed7953"
             ],
             [
              0.7777777777777778,
              "#fb9f3a"
             ],
             [
              0.8888888888888888,
              "#fdca26"
             ],
             [
              1,
              "#f0f921"
             ]
            ],
            "type": "histogram2d"
           }
          ],
          "histogram2dcontour": [
           {
            "colorbar": {
             "outlinewidth": 0,
             "ticks": ""
            },
            "colorscale": [
             [
              0,
              "#0d0887"
             ],
             [
              0.1111111111111111,
              "#46039f"
             ],
             [
              0.2222222222222222,
              "#7201a8"
             ],
             [
              0.3333333333333333,
              "#9c179e"
             ],
             [
              0.4444444444444444,
              "#bd3786"
             ],
             [
              0.5555555555555556,
              "#d8576b"
             ],
             [
              0.6666666666666666,
              "#ed7953"
             ],
             [
              0.7777777777777778,
              "#fb9f3a"
             ],
             [
              0.8888888888888888,
              "#fdca26"
             ],
             [
              1,
              "#f0f921"
             ]
            ],
            "type": "histogram2dcontour"
           }
          ],
          "mesh3d": [
           {
            "colorbar": {
             "outlinewidth": 0,
             "ticks": ""
            },
            "type": "mesh3d"
           }
          ],
          "parcoords": [
           {
            "line": {
             "colorbar": {
              "outlinewidth": 0,
              "ticks": ""
             }
            },
            "type": "parcoords"
           }
          ],
          "pie": [
           {
            "automargin": true,
            "type": "pie"
           }
          ],
          "scatter": [
           {
            "marker": {
             "colorbar": {
              "outlinewidth": 0,
              "ticks": ""
             }
            },
            "type": "scatter"
           }
          ],
          "scatter3d": [
           {
            "line": {
             "colorbar": {
              "outlinewidth": 0,
              "ticks": ""
             }
            },
            "marker": {
             "colorbar": {
              "outlinewidth": 0,
              "ticks": ""
             }
            },
            "type": "scatter3d"
           }
          ],
          "scattercarpet": [
           {
            "marker": {
             "colorbar": {
              "outlinewidth": 0,
              "ticks": ""
             }
            },
            "type": "scattercarpet"
           }
          ],
          "scattergeo": [
           {
            "marker": {
             "colorbar": {
              "outlinewidth": 0,
              "ticks": ""
             }
            },
            "type": "scattergeo"
           }
          ],
          "scattergl": [
           {
            "marker": {
             "colorbar": {
              "outlinewidth": 0,
              "ticks": ""
             }
            },
            "type": "scattergl"
           }
          ],
          "scattermapbox": [
           {
            "marker": {
             "colorbar": {
              "outlinewidth": 0,
              "ticks": ""
             }
            },
            "type": "scattermapbox"
           }
          ],
          "scatterpolar": [
           {
            "marker": {
             "colorbar": {
              "outlinewidth": 0,
              "ticks": ""
             }
            },
            "type": "scatterpolar"
           }
          ],
          "scatterpolargl": [
           {
            "marker": {
             "colorbar": {
              "outlinewidth": 0,
              "ticks": ""
             }
            },
            "type": "scatterpolargl"
           }
          ],
          "scatterternary": [
           {
            "marker": {
             "colorbar": {
              "outlinewidth": 0,
              "ticks": ""
             }
            },
            "type": "scatterternary"
           }
          ],
          "surface": [
           {
            "colorbar": {
             "outlinewidth": 0,
             "ticks": ""
            },
            "colorscale": [
             [
              0,
              "#0d0887"
             ],
             [
              0.1111111111111111,
              "#46039f"
             ],
             [
              0.2222222222222222,
              "#7201a8"
             ],
             [
              0.3333333333333333,
              "#9c179e"
             ],
             [
              0.4444444444444444,
              "#bd3786"
             ],
             [
              0.5555555555555556,
              "#d8576b"
             ],
             [
              0.6666666666666666,
              "#ed7953"
             ],
             [
              0.7777777777777778,
              "#fb9f3a"
             ],
             [
              0.8888888888888888,
              "#fdca26"
             ],
             [
              1,
              "#f0f921"
             ]
            ],
            "type": "surface"
           }
          ],
          "table": [
           {
            "cells": {
             "fill": {
              "color": "#EBF0F8"
             },
             "line": {
              "color": "white"
             }
            },
            "header": {
             "fill": {
              "color": "#C8D4E3"
             },
             "line": {
              "color": "white"
             }
            },
            "type": "table"
           }
          ]
         },
         "layout": {
          "annotationdefaults": {
           "arrowcolor": "#2a3f5f",
           "arrowhead": 0,
           "arrowwidth": 1
          },
          "autotypenumbers": "strict",
          "coloraxis": {
           "colorbar": {
            "outlinewidth": 0,
            "ticks": ""
           }
          },
          "colorscale": {
           "diverging": [
            [
             0,
             "#8e0152"
            ],
            [
             0.1,
             "#c51b7d"
            ],
            [
             0.2,
             "#de77ae"
            ],
            [
             0.3,
             "#f1b6da"
            ],
            [
             0.4,
             "#fde0ef"
            ],
            [
             0.5,
             "#f7f7f7"
            ],
            [
             0.6,
             "#e6f5d0"
            ],
            [
             0.7,
             "#b8e186"
            ],
            [
             0.8,
             "#7fbc41"
            ],
            [
             0.9,
             "#4d9221"
            ],
            [
             1,
             "#276419"
            ]
           ],
           "sequential": [
            [
             0,
             "#0d0887"
            ],
            [
             0.1111111111111111,
             "#46039f"
            ],
            [
             0.2222222222222222,
             "#7201a8"
            ],
            [
             0.3333333333333333,
             "#9c179e"
            ],
            [
             0.4444444444444444,
             "#bd3786"
            ],
            [
             0.5555555555555556,
             "#d8576b"
            ],
            [
             0.6666666666666666,
             "#ed7953"
            ],
            [
             0.7777777777777778,
             "#fb9f3a"
            ],
            [
             0.8888888888888888,
             "#fdca26"
            ],
            [
             1,
             "#f0f921"
            ]
           ],
           "sequentialminus": [
            [
             0,
             "#0d0887"
            ],
            [
             0.1111111111111111,
             "#46039f"
            ],
            [
             0.2222222222222222,
             "#7201a8"
            ],
            [
             0.3333333333333333,
             "#9c179e"
            ],
            [
             0.4444444444444444,
             "#bd3786"
            ],
            [
             0.5555555555555556,
             "#d8576b"
            ],
            [
             0.6666666666666666,
             "#ed7953"
            ],
            [
             0.7777777777777778,
             "#fb9f3a"
            ],
            [
             0.8888888888888888,
             "#fdca26"
            ],
            [
             1,
             "#f0f921"
            ]
           ]
          },
          "colorway": [
           "#636efa",
           "#EF553B",
           "#00cc96",
           "#ab63fa",
           "#FFA15A",
           "#19d3f3",
           "#FF6692",
           "#B6E880",
           "#FF97FF",
           "#FECB52"
          ],
          "font": {
           "color": "#2a3f5f"
          },
          "geo": {
           "bgcolor": "white",
           "lakecolor": "white",
           "landcolor": "#E5ECF6",
           "showlakes": true,
           "showland": true,
           "subunitcolor": "white"
          },
          "hoverlabel": {
           "align": "left"
          },
          "hovermode": "closest",
          "mapbox": {
           "style": "light"
          },
          "paper_bgcolor": "white",
          "plot_bgcolor": "#E5ECF6",
          "polar": {
           "angularaxis": {
            "gridcolor": "white",
            "linecolor": "white",
            "ticks": ""
           },
           "bgcolor": "#E5ECF6",
           "radialaxis": {
            "gridcolor": "white",
            "linecolor": "white",
            "ticks": ""
           }
          },
          "scene": {
           "xaxis": {
            "backgroundcolor": "#E5ECF6",
            "gridcolor": "white",
            "gridwidth": 2,
            "linecolor": "white",
            "showbackground": true,
            "ticks": "",
            "zerolinecolor": "white"
           },
           "yaxis": {
            "backgroundcolor": "#E5ECF6",
            "gridcolor": "white",
            "gridwidth": 2,
            "linecolor": "white",
            "showbackground": true,
            "ticks": "",
            "zerolinecolor": "white"
           },
           "zaxis": {
            "backgroundcolor": "#E5ECF6",
            "gridcolor": "white",
            "gridwidth": 2,
            "linecolor": "white",
            "showbackground": true,
            "ticks": "",
            "zerolinecolor": "white"
           }
          },
          "shapedefaults": {
           "line": {
            "color": "#2a3f5f"
           }
          },
          "ternary": {
           "aaxis": {
            "gridcolor": "white",
            "linecolor": "white",
            "ticks": ""
           },
           "baxis": {
            "gridcolor": "white",
            "linecolor": "white",
            "ticks": ""
           },
           "bgcolor": "#E5ECF6",
           "caxis": {
            "gridcolor": "white",
            "linecolor": "white",
            "ticks": ""
           }
          },
          "title": {
           "x": 0.05
          },
          "xaxis": {
           "automargin": true,
           "gridcolor": "white",
           "linecolor": "white",
           "ticks": "",
           "title": {
            "standoff": 15
           },
           "zerolinecolor": "white",
           "zerolinewidth": 2
          },
          "yaxis": {
           "automargin": true,
           "gridcolor": "white",
           "linecolor": "white",
           "ticks": "",
           "title": {
            "standoff": 15
           },
           "zerolinecolor": "white",
           "zerolinewidth": 2
          }
         }
        }
       }
      }
     },
     "metadata": {},
     "output_type": "display_data"
    }
   ],
   "source": [
    "busan_people_pro = cal_norm(df_busan_people['총인구수 (명)'].mean(), df_busan_people['총인구수 (명)'].std(), df_busan_people['총인구수 (명)'].min(), \n",
    "df_busan_people['총인구수 (명)'].max(), df_busan_people.loc['사하구']['총인구수 (명)'])"
   ]
  },
  {
   "cell_type": "markdown",
   "metadata": {},
   "source": [
    "### 유동인구 데이터 불러오기"
   ]
  },
  {
   "cell_type": "code",
   "execution_count": 463,
   "metadata": {},
   "outputs": [
    {
     "data": {
      "text/html": [
       "<div>\n",
       "<style scoped>\n",
       "    .dataframe tbody tr th:only-of-type {\n",
       "        vertical-align: middle;\n",
       "    }\n",
       "\n",
       "    .dataframe tbody tr th {\n",
       "        vertical-align: top;\n",
       "    }\n",
       "\n",
       "    .dataframe thead th {\n",
       "        text-align: right;\n",
       "    }\n",
       "</style>\n",
       "<table border=\"1\" class=\"dataframe\">\n",
       "  <thead>\n",
       "    <tr style=\"text-align: right;\">\n",
       "      <th></th>\n",
       "      <th>구군</th>\n",
       "      <th>1월</th>\n",
       "      <th>2월</th>\n",
       "      <th>3월</th>\n",
       "      <th>4월</th>\n",
       "      <th>5월</th>\n",
       "      <th>6월</th>\n",
       "      <th>7월</th>\n",
       "      <th>8월</th>\n",
       "      <th>9월</th>\n",
       "      <th>10월</th>\n",
       "      <th>11월</th>\n",
       "      <th>12월</th>\n",
       "      <th>월 평균</th>\n",
       "    </tr>\n",
       "  </thead>\n",
       "  <tbody>\n",
       "    <tr>\n",
       "      <th>0</th>\n",
       "      <td>강서구</td>\n",
       "      <td>325,284.39</td>\n",
       "      <td>323,049.87</td>\n",
       "      <td>335,120.06</td>\n",
       "      <td>340,570.52</td>\n",
       "      <td>332,289.77</td>\n",
       "      <td>340,678.45</td>\n",
       "      <td>337,488.64</td>\n",
       "      <td>328,374.74</td>\n",
       "      <td>328,764.38</td>\n",
       "      <td>333,414.26</td>\n",
       "      <td>340,405.10</td>\n",
       "      <td>337,753.15</td>\n",
       "      <td>333,599.44</td>\n",
       "    </tr>\n",
       "    <tr>\n",
       "      <th>1</th>\n",
       "      <td>금정구</td>\n",
       "      <td>482,598.89</td>\n",
       "      <td>477,047.11</td>\n",
       "      <td>484,669.59</td>\n",
       "      <td>490,864.46</td>\n",
       "      <td>487,435.45</td>\n",
       "      <td>484,936.00</td>\n",
       "      <td>483,898.58</td>\n",
       "      <td>482,964.23</td>\n",
       "      <td>487,082.06</td>\n",
       "      <td>484,633.90</td>\n",
       "      <td>485,502.59</td>\n",
       "      <td>488,392.99</td>\n",
       "      <td>485,002.15</td>\n",
       "    </tr>\n",
       "    <tr>\n",
       "      <th>2</th>\n",
       "      <td>기장군</td>\n",
       "      <td>341,181.17</td>\n",
       "      <td>343,398.79</td>\n",
       "      <td>342,489.52</td>\n",
       "      <td>345,184.20</td>\n",
       "      <td>348,793.68</td>\n",
       "      <td>348,500.32</td>\n",
       "      <td>350,763.40</td>\n",
       "      <td>349,328.59</td>\n",
       "      <td>348,077.97</td>\n",
       "      <td>348,449.77</td>\n",
       "      <td>345,905.89</td>\n",
       "      <td>344,245.29</td>\n",
       "      <td>346,359.88</td>\n",
       "    </tr>\n",
       "    <tr>\n",
       "      <th>3</th>\n",
       "      <td>남구</td>\n",
       "      <td>539,072.58</td>\n",
       "      <td>526,693.91</td>\n",
       "      <td>524,611.67</td>\n",
       "      <td>524,961.53</td>\n",
       "      <td>526,758.54</td>\n",
       "      <td>531,078.89</td>\n",
       "      <td>529,810.42</td>\n",
       "      <td>530,199.16</td>\n",
       "      <td>531,658.35</td>\n",
       "      <td>525,870.37</td>\n",
       "      <td>528,106.40</td>\n",
       "      <td>531,610.18</td>\n",
       "      <td>529,202.67</td>\n",
       "    </tr>\n",
       "    <tr>\n",
       "      <th>4</th>\n",
       "      <td>동구</td>\n",
       "      <td>185,466.33</td>\n",
       "      <td>185,459.30</td>\n",
       "      <td>189,082.61</td>\n",
       "      <td>192,702.25</td>\n",
       "      <td>189,819.14</td>\n",
       "      <td>191,618.73</td>\n",
       "      <td>189,864.16</td>\n",
       "      <td>189,368.74</td>\n",
       "      <td>190,328.67</td>\n",
       "      <td>191,182.03</td>\n",
       "      <td>194,732.77</td>\n",
       "      <td>193,341.86</td>\n",
       "      <td>190,247.22</td>\n",
       "    </tr>\n",
       "    <tr>\n",
       "      <th>5</th>\n",
       "      <td>동래구</td>\n",
       "      <td>553,655.76</td>\n",
       "      <td>549,718.60</td>\n",
       "      <td>543,091.96</td>\n",
       "      <td>535,439.53</td>\n",
       "      <td>533,908.61</td>\n",
       "      <td>528,124.07</td>\n",
       "      <td>527,730.64</td>\n",
       "      <td>525,468.79</td>\n",
       "      <td>532,656.70</td>\n",
       "      <td>527,498.20</td>\n",
       "      <td>520,126.56</td>\n",
       "      <td>524,788.88</td>\n",
       "      <td>533,517.36</td>\n",
       "    </tr>\n",
       "    <tr>\n",
       "      <th>6</th>\n",
       "      <td>부산진구</td>\n",
       "      <td>757,261.10</td>\n",
       "      <td>760,742.04</td>\n",
       "      <td>760,212.63</td>\n",
       "      <td>761,728.33</td>\n",
       "      <td>765,460.09</td>\n",
       "      <td>764,636.01</td>\n",
       "      <td>759,638.81</td>\n",
       "      <td>754,837.78</td>\n",
       "      <td>763,942.81</td>\n",
       "      <td>761,731.75</td>\n",
       "      <td>763,818.34</td>\n",
       "      <td>768,957.14</td>\n",
       "      <td>761,913.90</td>\n",
       "    </tr>\n",
       "    <tr>\n",
       "      <th>7</th>\n",
       "      <td>북구</td>\n",
       "      <td>559,133.62</td>\n",
       "      <td>554,946.17</td>\n",
       "      <td>543,084.57</td>\n",
       "      <td>543,479.25</td>\n",
       "      <td>543,145.91</td>\n",
       "      <td>540,381.96</td>\n",
       "      <td>542,289.98</td>\n",
       "      <td>546,905.11</td>\n",
       "      <td>551,394.74</td>\n",
       "      <td>542,887.88</td>\n",
       "      <td>539,732.97</td>\n",
       "      <td>545,952.52</td>\n",
       "      <td>546,111.22</td>\n",
       "    </tr>\n",
       "    <tr>\n",
       "      <th>8</th>\n",
       "      <td>사상구</td>\n",
       "      <td>496,102.34</td>\n",
       "      <td>492,871.78</td>\n",
       "      <td>493,054.71</td>\n",
       "      <td>496,932.63</td>\n",
       "      <td>494,094.59</td>\n",
       "      <td>494,207.66</td>\n",
       "      <td>492,973.61</td>\n",
       "      <td>490,296.85</td>\n",
       "      <td>493,842.47</td>\n",
       "      <td>491,808.21</td>\n",
       "      <td>493,815.86</td>\n",
       "      <td>495,297.44</td>\n",
       "      <td>493,774.85</td>\n",
       "    </tr>\n",
       "    <tr>\n",
       "      <th>9</th>\n",
       "      <td>사하구</td>\n",
       "      <td>641,541.35</td>\n",
       "      <td>632,045.91</td>\n",
       "      <td>628,461.73</td>\n",
       "      <td>633,805.98</td>\n",
       "      <td>630,333.83</td>\n",
       "      <td>629,635.14</td>\n",
       "      <td>630,260.69</td>\n",
       "      <td>631,377.03</td>\n",
       "      <td>633,402.47</td>\n",
       "      <td>627,551.97</td>\n",
       "      <td>625,380.25</td>\n",
       "      <td>631,475.21</td>\n",
       "      <td>631,272.63</td>\n",
       "    </tr>\n",
       "    <tr>\n",
       "      <th>10</th>\n",
       "      <td>서구</td>\n",
       "      <td>244,816.18</td>\n",
       "      <td>247,144.65</td>\n",
       "      <td>246,832.32</td>\n",
       "      <td>249,028.55</td>\n",
       "      <td>245,968.42</td>\n",
       "      <td>232,053.80</td>\n",
       "      <td>230,458.90</td>\n",
       "      <td>229,377.92</td>\n",
       "      <td>228,929.31</td>\n",
       "      <td>225,006.09</td>\n",
       "      <td>222,113.90</td>\n",
       "      <td>223,835.54</td>\n",
       "      <td>235,463.80</td>\n",
       "    </tr>\n",
       "    <tr>\n",
       "      <th>11</th>\n",
       "      <td>수영구</td>\n",
       "      <td>339,989.93</td>\n",
       "      <td>335,887.41</td>\n",
       "      <td>345,588.95</td>\n",
       "      <td>358,682.04</td>\n",
       "      <td>356,153.28</td>\n",
       "      <td>344,222.04</td>\n",
       "      <td>345,425.50</td>\n",
       "      <td>342,987.83</td>\n",
       "      <td>342,228.84</td>\n",
       "      <td>340,723.32</td>\n",
       "      <td>340,813.55</td>\n",
       "      <td>345,960.31</td>\n",
       "      <td>344,888.58</td>\n",
       "    </tr>\n",
       "    <tr>\n",
       "      <th>12</th>\n",
       "      <td>연제구</td>\n",
       "      <td>394,132.20</td>\n",
       "      <td>390,539.12</td>\n",
       "      <td>393,604.79</td>\n",
       "      <td>396,276.36</td>\n",
       "      <td>394,296.80</td>\n",
       "      <td>399,403.98</td>\n",
       "      <td>401,469.81</td>\n",
       "      <td>400,414.71</td>\n",
       "      <td>398,036.79</td>\n",
       "      <td>395,250.20</td>\n",
       "      <td>398,436.74</td>\n",
       "      <td>401,486.80</td>\n",
       "      <td>396,945.69</td>\n",
       "    </tr>\n",
       "    <tr>\n",
       "      <th>13</th>\n",
       "      <td>영도구</td>\n",
       "      <td>248,178.99</td>\n",
       "      <td>246,981.20</td>\n",
       "      <td>242,904.23</td>\n",
       "      <td>243,650.92</td>\n",
       "      <td>245,374.40</td>\n",
       "      <td>244,196.20</td>\n",
       "      <td>243,830.89</td>\n",
       "      <td>244,457.54</td>\n",
       "      <td>244,665.84</td>\n",
       "      <td>242,981.94</td>\n",
       "      <td>241,042.77</td>\n",
       "      <td>240,790.94</td>\n",
       "      <td>244,087.99</td>\n",
       "    </tr>\n",
       "    <tr>\n",
       "      <th>14</th>\n",
       "      <td>중구</td>\n",
       "      <td>105,170.15</td>\n",
       "      <td>106,603.51</td>\n",
       "      <td>110,729.44</td>\n",
       "      <td>110,668.93</td>\n",
       "      <td>113,610.04</td>\n",
       "      <td>128,260.41</td>\n",
       "      <td>127,285.37</td>\n",
       "      <td>124,056.84</td>\n",
       "      <td>127,550.96</td>\n",
       "      <td>131,073.84</td>\n",
       "      <td>135,646.63</td>\n",
       "      <td>134,834.02</td>\n",
       "      <td>121,290.85</td>\n",
       "    </tr>\n",
       "    <tr>\n",
       "      <th>15</th>\n",
       "      <td>해운대구</td>\n",
       "      <td>867,047.22</td>\n",
       "      <td>871,849.92</td>\n",
       "      <td>858,675.53</td>\n",
       "      <td>862,845.41</td>\n",
       "      <td>867,445.21</td>\n",
       "      <td>867,936.68</td>\n",
       "      <td>875,772.89</td>\n",
       "      <td>871,029.74</td>\n",
       "      <td>864,691.10</td>\n",
       "      <td>864,549.71</td>\n",
       "      <td>863,913.89</td>\n",
       "      <td>878,342.31</td>\n",
       "      <td>867,841.63</td>\n",
       "    </tr>\n",
       "  </tbody>\n",
       "</table>\n",
       "</div>"
      ],
      "text/plain": [
       "      구군          1월          2월          3월          4월          5월  \\\n",
       "0    강서구  325,284.39  323,049.87  335,120.06  340,570.52  332,289.77   \n",
       "1    금정구  482,598.89  477,047.11  484,669.59  490,864.46  487,435.45   \n",
       "2    기장군  341,181.17  343,398.79  342,489.52  345,184.20  348,793.68   \n",
       "3     남구  539,072.58  526,693.91  524,611.67  524,961.53  526,758.54   \n",
       "4     동구  185,466.33  185,459.30  189,082.61  192,702.25  189,819.14   \n",
       "5    동래구  553,655.76  549,718.60  543,091.96  535,439.53  533,908.61   \n",
       "6   부산진구  757,261.10  760,742.04  760,212.63  761,728.33  765,460.09   \n",
       "7     북구  559,133.62  554,946.17  543,084.57  543,479.25  543,145.91   \n",
       "8    사상구  496,102.34  492,871.78  493,054.71  496,932.63  494,094.59   \n",
       "9    사하구  641,541.35  632,045.91  628,461.73  633,805.98  630,333.83   \n",
       "10    서구  244,816.18  247,144.65  246,832.32  249,028.55  245,968.42   \n",
       "11   수영구  339,989.93  335,887.41  345,588.95  358,682.04  356,153.28   \n",
       "12   연제구  394,132.20  390,539.12  393,604.79  396,276.36  394,296.80   \n",
       "13   영도구  248,178.99  246,981.20  242,904.23  243,650.92  245,374.40   \n",
       "14    중구  105,170.15  106,603.51  110,729.44  110,668.93  113,610.04   \n",
       "15  해운대구  867,047.22  871,849.92  858,675.53  862,845.41  867,445.21   \n",
       "\n",
       "            6월          7월          8월          9월         10월         11월  \\\n",
       "0   340,678.45  337,488.64  328,374.74  328,764.38  333,414.26  340,405.10   \n",
       "1   484,936.00  483,898.58  482,964.23  487,082.06  484,633.90  485,502.59   \n",
       "2   348,500.32  350,763.40  349,328.59  348,077.97  348,449.77  345,905.89   \n",
       "3   531,078.89  529,810.42  530,199.16  531,658.35  525,870.37  528,106.40   \n",
       "4   191,618.73  189,864.16  189,368.74  190,328.67  191,182.03  194,732.77   \n",
       "5   528,124.07  527,730.64  525,468.79  532,656.70  527,498.20  520,126.56   \n",
       "6   764,636.01  759,638.81  754,837.78  763,942.81  761,731.75  763,818.34   \n",
       "7   540,381.96  542,289.98  546,905.11  551,394.74  542,887.88  539,732.97   \n",
       "8   494,207.66  492,973.61  490,296.85  493,842.47  491,808.21  493,815.86   \n",
       "9   629,635.14  630,260.69  631,377.03  633,402.47  627,551.97  625,380.25   \n",
       "10  232,053.80  230,458.90  229,377.92  228,929.31  225,006.09  222,113.90   \n",
       "11  344,222.04  345,425.50  342,987.83  342,228.84  340,723.32  340,813.55   \n",
       "12  399,403.98  401,469.81  400,414.71  398,036.79  395,250.20  398,436.74   \n",
       "13  244,196.20  243,830.89  244,457.54  244,665.84  242,981.94  241,042.77   \n",
       "14  128,260.41  127,285.37  124,056.84  127,550.96  131,073.84  135,646.63   \n",
       "15  867,936.68  875,772.89  871,029.74  864,691.10  864,549.71  863,913.89   \n",
       "\n",
       "           12월        월 평균  \n",
       "0   337,753.15  333,599.44  \n",
       "1   488,392.99  485,002.15  \n",
       "2   344,245.29  346,359.88  \n",
       "3   531,610.18  529,202.67  \n",
       "4   193,341.86  190,247.22  \n",
       "5   524,788.88  533,517.36  \n",
       "6   768,957.14  761,913.90  \n",
       "7   545,952.52  546,111.22  \n",
       "8   495,297.44  493,774.85  \n",
       "9   631,475.21  631,272.63  \n",
       "10  223,835.54  235,463.80  \n",
       "11  345,960.31  344,888.58  \n",
       "12  401,486.80  396,945.69  \n",
       "13  240,790.94  244,087.99  \n",
       "14  134,834.02  121,290.85  \n",
       "15  878,342.31  867,841.63  "
      ]
     },
     "execution_count": 463,
     "metadata": {},
     "output_type": "execute_result"
    }
   ],
   "source": [
    "foottraffic_file_path = 'C:\\\\Users\\\\SAMSUNG\\\\Desktop\\\\Green-Car-Charging-Station-Site-Selection\\\\Data\\\\부산 유동인구 데이터.csv'\n",
    "df_foottraffic = pd.read_csv(foottraffic_file_path, encoding='cp949')\n",
    "df_foottraffic"
   ]
  },
  {
   "cell_type": "code",
   "execution_count": 464,
   "metadata": {},
   "outputs": [],
   "source": [
    "foottraffic_col = df_foottraffic.iloc[:,1:-1].columns.tolist()"
   ]
  },
  {
   "cell_type": "code",
   "execution_count": 465,
   "metadata": {},
   "outputs": [
    {
     "data": {
      "text/html": [
       "<div>\n",
       "<style scoped>\n",
       "    .dataframe tbody tr th:only-of-type {\n",
       "        vertical-align: middle;\n",
       "    }\n",
       "\n",
       "    .dataframe tbody tr th {\n",
       "        vertical-align: top;\n",
       "    }\n",
       "\n",
       "    .dataframe thead th {\n",
       "        text-align: right;\n",
       "    }\n",
       "</style>\n",
       "<table border=\"1\" class=\"dataframe\">\n",
       "  <thead>\n",
       "    <tr style=\"text-align: right;\">\n",
       "      <th></th>\n",
       "      <th>월 평균</th>\n",
       "    </tr>\n",
       "    <tr>\n",
       "      <th>구군</th>\n",
       "      <th></th>\n",
       "    </tr>\n",
       "  </thead>\n",
       "  <tbody>\n",
       "    <tr>\n",
       "      <th>강서구</th>\n",
       "      <td>333,599.44</td>\n",
       "    </tr>\n",
       "    <tr>\n",
       "      <th>금정구</th>\n",
       "      <td>485,002.15</td>\n",
       "    </tr>\n",
       "    <tr>\n",
       "      <th>기장군</th>\n",
       "      <td>346,359.88</td>\n",
       "    </tr>\n",
       "    <tr>\n",
       "      <th>남구</th>\n",
       "      <td>529,202.67</td>\n",
       "    </tr>\n",
       "    <tr>\n",
       "      <th>동구</th>\n",
       "      <td>190,247.22</td>\n",
       "    </tr>\n",
       "    <tr>\n",
       "      <th>동래구</th>\n",
       "      <td>533,517.36</td>\n",
       "    </tr>\n",
       "    <tr>\n",
       "      <th>부산진구</th>\n",
       "      <td>761,913.90</td>\n",
       "    </tr>\n",
       "    <tr>\n",
       "      <th>북구</th>\n",
       "      <td>546,111.22</td>\n",
       "    </tr>\n",
       "    <tr>\n",
       "      <th>사상구</th>\n",
       "      <td>493,774.85</td>\n",
       "    </tr>\n",
       "    <tr>\n",
       "      <th>사하구</th>\n",
       "      <td>631,272.63</td>\n",
       "    </tr>\n",
       "    <tr>\n",
       "      <th>서구</th>\n",
       "      <td>235,463.80</td>\n",
       "    </tr>\n",
       "    <tr>\n",
       "      <th>수영구</th>\n",
       "      <td>344,888.58</td>\n",
       "    </tr>\n",
       "    <tr>\n",
       "      <th>연제구</th>\n",
       "      <td>396,945.69</td>\n",
       "    </tr>\n",
       "    <tr>\n",
       "      <th>영도구</th>\n",
       "      <td>244,087.99</td>\n",
       "    </tr>\n",
       "    <tr>\n",
       "      <th>중구</th>\n",
       "      <td>121,290.85</td>\n",
       "    </tr>\n",
       "    <tr>\n",
       "      <th>해운대구</th>\n",
       "      <td>867,841.63</td>\n",
       "    </tr>\n",
       "  </tbody>\n",
       "</table>\n",
       "</div>"
      ],
      "text/plain": [
       "            월 평균\n",
       "구군              \n",
       "강서구   333,599.44\n",
       "금정구   485,002.15\n",
       "기장군   346,359.88\n",
       "남구    529,202.67\n",
       "동구    190,247.22\n",
       "동래구   533,517.36\n",
       "부산진구  761,913.90\n",
       "북구    546,111.22\n",
       "사상구   493,774.85\n",
       "사하구   631,272.63\n",
       "서구    235,463.80\n",
       "수영구   344,888.58\n",
       "연제구   396,945.69\n",
       "영도구   244,087.99\n",
       "중구    121,290.85\n",
       "해운대구  867,841.63"
      ]
     },
     "execution_count": 465,
     "metadata": {},
     "output_type": "execute_result"
    }
   ],
   "source": [
    "df_foottraffic.drop(columns=foottraffic_col, inplace=True)\n",
    "df_foottraffic.set_index('구군',inplace=True)\n",
    "df_foottraffic"
   ]
  },
  {
   "cell_type": "code",
   "execution_count": 466,
   "metadata": {},
   "outputs": [],
   "source": [
    "advanced_replace(df_foottraffic, '월 평균','-',r'[^0-9.0-9]')\n",
    "df_foottraffic['월 평균'] = df_foottraffic['월 평균'].astype(float)"
   ]
  },
  {
   "cell_type": "code",
   "execution_count": 467,
   "metadata": {},
   "outputs": [
    {
     "data": {
      "text/html": [
       "<div>\n",
       "<style scoped>\n",
       "    .dataframe tbody tr th:only-of-type {\n",
       "        vertical-align: middle;\n",
       "    }\n",
       "\n",
       "    .dataframe tbody tr th {\n",
       "        vertical-align: top;\n",
       "    }\n",
       "\n",
       "    .dataframe thead th {\n",
       "        text-align: right;\n",
       "    }\n",
       "</style>\n",
       "<table border=\"1\" class=\"dataframe\">\n",
       "  <thead>\n",
       "    <tr style=\"text-align: right;\">\n",
       "      <th></th>\n",
       "      <th>월 평균</th>\n",
       "    </tr>\n",
       "  </thead>\n",
       "  <tbody>\n",
       "    <tr>\n",
       "      <th>count</th>\n",
       "      <td>16.000000</td>\n",
       "    </tr>\n",
       "    <tr>\n",
       "      <th>mean</th>\n",
       "      <td>441344.991250</td>\n",
       "    </tr>\n",
       "    <tr>\n",
       "      <th>std</th>\n",
       "      <td>205145.538509</td>\n",
       "    </tr>\n",
       "    <tr>\n",
       "      <th>min</th>\n",
       "      <td>121290.850000</td>\n",
       "    </tr>\n",
       "    <tr>\n",
       "      <th>25%</th>\n",
       "      <td>311221.577500</td>\n",
       "    </tr>\n",
       "    <tr>\n",
       "      <th>50%</th>\n",
       "      <td>440973.920000</td>\n",
       "    </tr>\n",
       "    <tr>\n",
       "      <th>75%</th>\n",
       "      <td>536665.825000</td>\n",
       "    </tr>\n",
       "    <tr>\n",
       "      <th>max</th>\n",
       "      <td>867841.630000</td>\n",
       "    </tr>\n",
       "  </tbody>\n",
       "</table>\n",
       "</div>"
      ],
      "text/plain": [
       "                월 평균\n",
       "count      16.000000\n",
       "mean   441344.991250\n",
       "std    205145.538509\n",
       "min    121290.850000\n",
       "25%    311221.577500\n",
       "50%    440973.920000\n",
       "75%    536665.825000\n",
       "max    867841.630000"
      ]
     },
     "execution_count": 467,
     "metadata": {},
     "output_type": "execute_result"
    }
   ],
   "source": [
    "df_foottraffic.describe()"
   ]
  },
  {
   "cell_type": "code",
   "execution_count": 468,
   "metadata": {},
   "outputs": [
    {
     "data": {
      "application/vnd.plotly.v1+json": {
       "config": {
        "plotlyServerURL": "https://plot.ly"
       },
       "data": [
        {
         "hovertemplate": "x=%{x}<br>y=%{y}<extra></extra>",
         "legendgroup": "",
         "line": {
          "color": "#636efa",
          "dash": "solid"
         },
         "mode": "lines",
         "name": "",
         "orientation": "v",
         "showlegend": false,
         "type": "scatter",
         "x": [
          -83854.6885088947,
          -74241.59438254223,
          -64628.500256189756,
          -55015.40612983729,
          -45402.31200348482,
          -35789.217877132345,
          -26176.12375077988,
          -16563.029624427407,
          -6949.935498074934,
          2663.158628277539,
          12276.252754630012,
          21889.346880982484,
          31502.441007334943,
          41115.535133687416,
          50728.62926003989,
          60341.723386392376,
          69954.81751274483,
          79567.91163909729,
          89181.00576544978,
          98794.09989180224,
          108407.19401815473,
          118020.28814450718,
          127633.38227085967,
          137246.47639721213,
          146859.5705235646,
          156472.66464991707,
          166085.75877626953,
          175698.85290262202,
          185311.94702897448,
          194925.04115532694,
          204538.13528167945,
          214151.2294080319,
          223764.32353438437,
          233377.41766073683,
          242990.5117870893,
          252603.6059134418,
          262216.70003979426,
          271829.7941661467,
          281442.8882924992,
          291055.9824188517,
          300669.07654520415,
          310282.1706715566,
          319895.26479790907,
          329508.3589242615,
          339121.45305061404,
          348734.5471769665,
          358347.64130331896,
          367960.7354296714,
          377573.8295560239,
          387186.9236823764,
          396800.01780872885,
          406413.1119350813,
          416026.20606143377,
          425639.3001877863,
          435252.39431413874,
          444865.4884404912,
          454478.58256684366,
          464091.6766931961,
          473704.7708195486,
          483317.86494590103,
          492930.9590722536,
          502544.05319860607,
          512157.1473249585,
          521770.241451311,
          531383.3355776635,
          540996.4297040158,
          550609.5238303684,
          560222.6179567208,
          569835.7120830733,
          579448.8062094259,
          589061.9003357782,
          598674.9944621308,
          608288.0885884832,
          617901.1827148357,
          627514.2768411881,
          637127.3709675407,
          646740.465093893,
          656353.5592202456,
          665966.6533465981,
          675579.7474729505,
          685192.8415993031,
          694805.9357256554,
          704419.029852008,
          714032.1239783603,
          723645.2181047129,
          733258.3122310652,
          742871.4063574178,
          752484.5004837704,
          762097.5946101227,
          771710.6887364753,
          781323.7828628276,
          790936.8769891802,
          800549.9711155326,
          810163.0652418851,
          819776.1593682375,
          829389.25349459,
          839002.3476209424,
          848615.441747295,
          858228.5358736475,
          867841.63
         ],
         "xaxis": "x",
         "y": [
          7.33846034047919e-8,
          8.264742723064996e-8,
          9.287526831684424e-8,
          1.041399055708089e-7,
          1.1651467632502156e-7,
          1.300739838908819e-7,
          1.4489273368061123e-7,
          1.6104569726200075e-7,
          1.7860680480461143e-7,
          1.976483675884135e-7,
          2.1824023356524052e-7,
          2.404488803744608e-7,
          2.64336451697711e-7,
          2.899597443704449e-7,
          3.1736915522387313e-7,
          3.4660759817975953e-7,
          3.7770940362982026e-7,
          4.1069921356606793e-7,
          4.455908872516666e-7,
          4.823864333960637e-7,
          5.210749857856623e-7,
          5.616318400852949e-7,
          6.04017570031352e-7,
          6.481772414526225e-7,
          6.940397424517289e-7,
          7.415172476354806e-7,
          7.905048334794646e-7,
          8.408802607406052e-7,
          8.925039382886181e-7,
          9.452190808189532e-7,
          9.988520706502213e-7,
          0.0000010532130312214232,
          0.0000011080966170206074,
          0.0000011632830215375124,
          0.0000012185392014871768,
          0.000001273620312055662,
          0.0000013282713443355532,
          0.0000013822289525157544,
          0.0000014352234548389057,
          0.0000014869809889145573,
          0.0000015372257987514286,
          0.0000015856826279208945,
          0.0000016320791906562963,
          0.0000016761486904938386,
          0.00000171763235432901,
          0.0000017562819485475411,
          0.000001791862243231863,
          0.0000018241533903716179,
          0.000001852953182536594,
          0.0000018780791596061365,
          0.000001899370532880975,
          0.0000019166898982084334,
          0.000001929924712594079,
          0.000001938988512103496,
          0.0000019438218526170766,
          0.000001944392959118559,
          0.000001940698073595815,
          0.0000019327614962250203,
          0.000001920635319206806,
          0.000001904398857332855,
          0.0000018841577839910706,
          0.0000018600429857759118,
          0.0000018322091530712552,
          0.000001800833127835541,
          0.0000017661120332705782,
          0.0000017282612130334437,
          0.0000016875120101036824,
          0.0000016441094173060925,
          0.0000015983096327860398,
          0.000001550377554426413,
          0.000001500584247282909,
          0.0000014492044176106738,
          0.0000013965139259859418,
          0.000001342787370428236,
          0.0000012882957683494957,
          0.0000012333043636521003,
          0.0000011780705824319038,
          0.0000011228421575836498,
          0.0000010678554392273625,
          0.0000010133339043494562,
          9.594868754559568e-7,
          9.065084544396552e-7,
          8.545766743372944e-7,
          8.038528682613829e-7,
          7.544812515917291e-7,
          7.065887105555101e-7,
          6.602847876542238e-7,
          6.156618520459341e-7,
          5.727954409870621e-7,
          5.317447567965198e-7,
          4.925533025339716e-7,
          4.552496386830619e-7,
          4.1984824259143093e-7,
          3.8635045222679176e-7,
          3.5474547594096606e-7,
          3.2501145036461316e-7,
          2.971165292536069e-7,
          2.710199870392125e-7,
          2.466733219621807e-7,
          2.240213449578902e-7
         ],
         "yaxis": "y"
        }
       ],
       "layout": {
        "legend": {
         "tracegroupgap": 0
        },
        "margin": {
         "t": 60
        },
        "template": {
         "data": {
          "bar": [
           {
            "error_x": {
             "color": "#2a3f5f"
            },
            "error_y": {
             "color": "#2a3f5f"
            },
            "marker": {
             "line": {
              "color": "#E5ECF6",
              "width": 0.5
             },
             "pattern": {
              "fillmode": "overlay",
              "size": 10,
              "solidity": 0.2
             }
            },
            "type": "bar"
           }
          ],
          "barpolar": [
           {
            "marker": {
             "line": {
              "color": "#E5ECF6",
              "width": 0.5
             },
             "pattern": {
              "fillmode": "overlay",
              "size": 10,
              "solidity": 0.2
             }
            },
            "type": "barpolar"
           }
          ],
          "carpet": [
           {
            "aaxis": {
             "endlinecolor": "#2a3f5f",
             "gridcolor": "white",
             "linecolor": "white",
             "minorgridcolor": "white",
             "startlinecolor": "#2a3f5f"
            },
            "baxis": {
             "endlinecolor": "#2a3f5f",
             "gridcolor": "white",
             "linecolor": "white",
             "minorgridcolor": "white",
             "startlinecolor": "#2a3f5f"
            },
            "type": "carpet"
           }
          ],
          "choropleth": [
           {
            "colorbar": {
             "outlinewidth": 0,
             "ticks": ""
            },
            "type": "choropleth"
           }
          ],
          "contour": [
           {
            "colorbar": {
             "outlinewidth": 0,
             "ticks": ""
            },
            "colorscale": [
             [
              0,
              "#0d0887"
             ],
             [
              0.1111111111111111,
              "#46039f"
             ],
             [
              0.2222222222222222,
              "#7201a8"
             ],
             [
              0.3333333333333333,
              "#9c179e"
             ],
             [
              0.4444444444444444,
              "#bd3786"
             ],
             [
              0.5555555555555556,
              "#d8576b"
             ],
             [
              0.6666666666666666,
              "#ed7953"
             ],
             [
              0.7777777777777778,
              "#fb9f3a"
             ],
             [
              0.8888888888888888,
              "#fdca26"
             ],
             [
              1,
              "#f0f921"
             ]
            ],
            "type": "contour"
           }
          ],
          "contourcarpet": [
           {
            "colorbar": {
             "outlinewidth": 0,
             "ticks": ""
            },
            "type": "contourcarpet"
           }
          ],
          "heatmap": [
           {
            "colorbar": {
             "outlinewidth": 0,
             "ticks": ""
            },
            "colorscale": [
             [
              0,
              "#0d0887"
             ],
             [
              0.1111111111111111,
              "#46039f"
             ],
             [
              0.2222222222222222,
              "#7201a8"
             ],
             [
              0.3333333333333333,
              "#9c179e"
             ],
             [
              0.4444444444444444,
              "#bd3786"
             ],
             [
              0.5555555555555556,
              "#d8576b"
             ],
             [
              0.6666666666666666,
              "#ed7953"
             ],
             [
              0.7777777777777778,
              "#fb9f3a"
             ],
             [
              0.8888888888888888,
              "#fdca26"
             ],
             [
              1,
              "#f0f921"
             ]
            ],
            "type": "heatmap"
           }
          ],
          "heatmapgl": [
           {
            "colorbar": {
             "outlinewidth": 0,
             "ticks": ""
            },
            "colorscale": [
             [
              0,
              "#0d0887"
             ],
             [
              0.1111111111111111,
              "#46039f"
             ],
             [
              0.2222222222222222,
              "#7201a8"
             ],
             [
              0.3333333333333333,
              "#9c179e"
             ],
             [
              0.4444444444444444,
              "#bd3786"
             ],
             [
              0.5555555555555556,
              "#d8576b"
             ],
             [
              0.6666666666666666,
              "#ed7953"
             ],
             [
              0.7777777777777778,
              "#fb9f3a"
             ],
             [
              0.8888888888888888,
              "#fdca26"
             ],
             [
              1,
              "#f0f921"
             ]
            ],
            "type": "heatmapgl"
           }
          ],
          "histogram": [
           {
            "marker": {
             "pattern": {
              "fillmode": "overlay",
              "size": 10,
              "solidity": 0.2
             }
            },
            "type": "histogram"
           }
          ],
          "histogram2d": [
           {
            "colorbar": {
             "outlinewidth": 0,
             "ticks": ""
            },
            "colorscale": [
             [
              0,
              "#0d0887"
             ],
             [
              0.1111111111111111,
              "#46039f"
             ],
             [
              0.2222222222222222,
              "#7201a8"
             ],
             [
              0.3333333333333333,
              "#9c179e"
             ],
             [
              0.4444444444444444,
              "#bd3786"
             ],
             [
              0.5555555555555556,
              "#d8576b"
             ],
             [
              0.6666666666666666,
              "#ed7953"
             ],
             [
              0.7777777777777778,
              "#fb9f3a"
             ],
             [
              0.8888888888888888,
              "#fdca26"
             ],
             [
              1,
              "#f0f921"
             ]
            ],
            "type": "histogram2d"
           }
          ],
          "histogram2dcontour": [
           {
            "colorbar": {
             "outlinewidth": 0,
             "ticks": ""
            },
            "colorscale": [
             [
              0,
              "#0d0887"
             ],
             [
              0.1111111111111111,
              "#46039f"
             ],
             [
              0.2222222222222222,
              "#7201a8"
             ],
             [
              0.3333333333333333,
              "#9c179e"
             ],
             [
              0.4444444444444444,
              "#bd3786"
             ],
             [
              0.5555555555555556,
              "#d8576b"
             ],
             [
              0.6666666666666666,
              "#ed7953"
             ],
             [
              0.7777777777777778,
              "#fb9f3a"
             ],
             [
              0.8888888888888888,
              "#fdca26"
             ],
             [
              1,
              "#f0f921"
             ]
            ],
            "type": "histogram2dcontour"
           }
          ],
          "mesh3d": [
           {
            "colorbar": {
             "outlinewidth": 0,
             "ticks": ""
            },
            "type": "mesh3d"
           }
          ],
          "parcoords": [
           {
            "line": {
             "colorbar": {
              "outlinewidth": 0,
              "ticks": ""
             }
            },
            "type": "parcoords"
           }
          ],
          "pie": [
           {
            "automargin": true,
            "type": "pie"
           }
          ],
          "scatter": [
           {
            "marker": {
             "colorbar": {
              "outlinewidth": 0,
              "ticks": ""
             }
            },
            "type": "scatter"
           }
          ],
          "scatter3d": [
           {
            "line": {
             "colorbar": {
              "outlinewidth": 0,
              "ticks": ""
             }
            },
            "marker": {
             "colorbar": {
              "outlinewidth": 0,
              "ticks": ""
             }
            },
            "type": "scatter3d"
           }
          ],
          "scattercarpet": [
           {
            "marker": {
             "colorbar": {
              "outlinewidth": 0,
              "ticks": ""
             }
            },
            "type": "scattercarpet"
           }
          ],
          "scattergeo": [
           {
            "marker": {
             "colorbar": {
              "outlinewidth": 0,
              "ticks": ""
             }
            },
            "type": "scattergeo"
           }
          ],
          "scattergl": [
           {
            "marker": {
             "colorbar": {
              "outlinewidth": 0,
              "ticks": ""
             }
            },
            "type": "scattergl"
           }
          ],
          "scattermapbox": [
           {
            "marker": {
             "colorbar": {
              "outlinewidth": 0,
              "ticks": ""
             }
            },
            "type": "scattermapbox"
           }
          ],
          "scatterpolar": [
           {
            "marker": {
             "colorbar": {
              "outlinewidth": 0,
              "ticks": ""
             }
            },
            "type": "scatterpolar"
           }
          ],
          "scatterpolargl": [
           {
            "marker": {
             "colorbar": {
              "outlinewidth": 0,
              "ticks": ""
             }
            },
            "type": "scatterpolargl"
           }
          ],
          "scatterternary": [
           {
            "marker": {
             "colorbar": {
              "outlinewidth": 0,
              "ticks": ""
             }
            },
            "type": "scatterternary"
           }
          ],
          "surface": [
           {
            "colorbar": {
             "outlinewidth": 0,
             "ticks": ""
            },
            "colorscale": [
             [
              0,
              "#0d0887"
             ],
             [
              0.1111111111111111,
              "#46039f"
             ],
             [
              0.2222222222222222,
              "#7201a8"
             ],
             [
              0.3333333333333333,
              "#9c179e"
             ],
             [
              0.4444444444444444,
              "#bd3786"
             ],
             [
              0.5555555555555556,
              "#d8576b"
             ],
             [
              0.6666666666666666,
              "#ed7953"
             ],
             [
              0.7777777777777778,
              "#fb9f3a"
             ],
             [
              0.8888888888888888,
              "#fdca26"
             ],
             [
              1,
              "#f0f921"
             ]
            ],
            "type": "surface"
           }
          ],
          "table": [
           {
            "cells": {
             "fill": {
              "color": "#EBF0F8"
             },
             "line": {
              "color": "white"
             }
            },
            "header": {
             "fill": {
              "color": "#C8D4E3"
             },
             "line": {
              "color": "white"
             }
            },
            "type": "table"
           }
          ]
         },
         "layout": {
          "annotationdefaults": {
           "arrowcolor": "#2a3f5f",
           "arrowhead": 0,
           "arrowwidth": 1
          },
          "autotypenumbers": "strict",
          "coloraxis": {
           "colorbar": {
            "outlinewidth": 0,
            "ticks": ""
           }
          },
          "colorscale": {
           "diverging": [
            [
             0,
             "#8e0152"
            ],
            [
             0.1,
             "#c51b7d"
            ],
            [
             0.2,
             "#de77ae"
            ],
            [
             0.3,
             "#f1b6da"
            ],
            [
             0.4,
             "#fde0ef"
            ],
            [
             0.5,
             "#f7f7f7"
            ],
            [
             0.6,
             "#e6f5d0"
            ],
            [
             0.7,
             "#b8e186"
            ],
            [
             0.8,
             "#7fbc41"
            ],
            [
             0.9,
             "#4d9221"
            ],
            [
             1,
             "#276419"
            ]
           ],
           "sequential": [
            [
             0,
             "#0d0887"
            ],
            [
             0.1111111111111111,
             "#46039f"
            ],
            [
             0.2222222222222222,
             "#7201a8"
            ],
            [
             0.3333333333333333,
             "#9c179e"
            ],
            [
             0.4444444444444444,
             "#bd3786"
            ],
            [
             0.5555555555555556,
             "#d8576b"
            ],
            [
             0.6666666666666666,
             "#ed7953"
            ],
            [
             0.7777777777777778,
             "#fb9f3a"
            ],
            [
             0.8888888888888888,
             "#fdca26"
            ],
            [
             1,
             "#f0f921"
            ]
           ],
           "sequentialminus": [
            [
             0,
             "#0d0887"
            ],
            [
             0.1111111111111111,
             "#46039f"
            ],
            [
             0.2222222222222222,
             "#7201a8"
            ],
            [
             0.3333333333333333,
             "#9c179e"
            ],
            [
             0.4444444444444444,
             "#bd3786"
            ],
            [
             0.5555555555555556,
             "#d8576b"
            ],
            [
             0.6666666666666666,
             "#ed7953"
            ],
            [
             0.7777777777777778,
             "#fb9f3a"
            ],
            [
             0.8888888888888888,
             "#fdca26"
            ],
            [
             1,
             "#f0f921"
            ]
           ]
          },
          "colorway": [
           "#636efa",
           "#EF553B",
           "#00cc96",
           "#ab63fa",
           "#FFA15A",
           "#19d3f3",
           "#FF6692",
           "#B6E880",
           "#FF97FF",
           "#FECB52"
          ],
          "font": {
           "color": "#2a3f5f"
          },
          "geo": {
           "bgcolor": "white",
           "lakecolor": "white",
           "landcolor": "#E5ECF6",
           "showlakes": true,
           "showland": true,
           "subunitcolor": "white"
          },
          "hoverlabel": {
           "align": "left"
          },
          "hovermode": "closest",
          "mapbox": {
           "style": "light"
          },
          "paper_bgcolor": "white",
          "plot_bgcolor": "#E5ECF6",
          "polar": {
           "angularaxis": {
            "gridcolor": "white",
            "linecolor": "white",
            "ticks": ""
           },
           "bgcolor": "#E5ECF6",
           "radialaxis": {
            "gridcolor": "white",
            "linecolor": "white",
            "ticks": ""
           }
          },
          "scene": {
           "xaxis": {
            "backgroundcolor": "#E5ECF6",
            "gridcolor": "white",
            "gridwidth": 2,
            "linecolor": "white",
            "showbackground": true,
            "ticks": "",
            "zerolinecolor": "white"
           },
           "yaxis": {
            "backgroundcolor": "#E5ECF6",
            "gridcolor": "white",
            "gridwidth": 2,
            "linecolor": "white",
            "showbackground": true,
            "ticks": "",
            "zerolinecolor": "white"
           },
           "zaxis": {
            "backgroundcolor": "#E5ECF6",
            "gridcolor": "white",
            "gridwidth": 2,
            "linecolor": "white",
            "showbackground": true,
            "ticks": "",
            "zerolinecolor": "white"
           }
          },
          "shapedefaults": {
           "line": {
            "color": "#2a3f5f"
           }
          },
          "ternary": {
           "aaxis": {
            "gridcolor": "white",
            "linecolor": "white",
            "ticks": ""
           },
           "baxis": {
            "gridcolor": "white",
            "linecolor": "white",
            "ticks": ""
           },
           "bgcolor": "#E5ECF6",
           "caxis": {
            "gridcolor": "white",
            "linecolor": "white",
            "ticks": ""
           }
          },
          "title": {
           "x": 0.05
          },
          "xaxis": {
           "automargin": true,
           "gridcolor": "white",
           "linecolor": "white",
           "ticks": "",
           "title": {
            "standoff": 15
           },
           "zerolinecolor": "white",
           "zerolinewidth": 2
          },
          "yaxis": {
           "automargin": true,
           "gridcolor": "white",
           "linecolor": "white",
           "ticks": "",
           "title": {
            "standoff": 15
           },
           "zerolinecolor": "white",
           "zerolinewidth": 2
          }
         }
        },
        "xaxis": {
         "anchor": "y",
         "domain": [
          0,
          1
         ],
         "title": {
          "text": "x"
         }
        },
        "yaxis": {
         "anchor": "x",
         "domain": [
          0,
          1
         ],
         "title": {
          "text": "y"
         }
        }
       }
      }
     },
     "metadata": {},
     "output_type": "display_data"
    }
   ],
   "source": [
    "# 부산 행정구 단위 유동인구 정규분포\n",
    "show_norm(df_foottraffic['월 평균'].mean(),df_foottraffic['월 평균'].std(),df_foottraffic['월 평균'].min(),df_foottraffic['월 평균'].max())"
   ]
  },
  {
   "cell_type": "code",
   "execution_count": 469,
   "metadata": {},
   "outputs": [
    {
     "data": {
      "application/vnd.plotly.v1+json": {
       "config": {
        "plotlyServerURL": "https://plot.ly"
       },
       "data": [
        {
         "fill": "tozeroy",
         "line": {
          "color": "rgb(100,110,250)"
         },
         "name": "적합",
         "text": "0.8177299761126527",
         "type": "scatter",
         "x": [
          -83854.6885088947,
          -76631.1802411281,
          -69407.67197336147,
          -62184.16370559487,
          -54960.65543782825,
          -47737.14717006164,
          -40513.63890229503,
          -33290.13063452842,
          -26066.622366761803,
          -18843.11409899519,
          -11619.605831228575,
          -4396.097563461968,
          2827.410704304639,
          10050.91897207126,
          17274.427239837867,
          24497.93550760449,
          31721.443775371095,
          38944.9520431377,
          46168.460310904324,
          53391.96857867093,
          60615.47684643755,
          67838.98511420414,
          75062.49338197077,
          82286.00164973739,
          89509.50991750398,
          96733.0181852706,
          103956.52645303722,
          111180.03472080384,
          118403.54298857044,
          125627.05125633706,
          132850.55952410368,
          140074.06779187027,
          147297.5760596369,
          154521.0843274035,
          161744.5925951701,
          168968.10086293673,
          176191.60913070335,
          183415.11739846994,
          190638.62566623656,
          197862.13393400318,
          205085.6422017698,
          212309.15046953643,
          219532.658737303,
          226756.1670050696,
          233979.67527283623,
          241203.18354060285,
          248426.69180836948,
          255650.2000761361,
          262873.70834390266,
          270097.2166116693,
          277320.7248794359,
          284544.2331472025,
          291767.74141496915,
          298991.24968273577,
          306214.7579505024,
          313438.26621826895,
          320661.7744860356,
          327885.2827538022,
          335108.7910215688,
          342332.29928933544,
          349555.80755710206,
          356779.3158248686,
          364002.82409263524,
          371226.33236040187,
          378449.8406281685,
          385673.3488959351,
          392896.85716370173,
          400120.36543146835,
          407343.8736992349,
          414567.38196700154,
          421790.89023476816,
          429014.3985025348,
          436237.9067703014,
          443461.415038068,
          450684.9233058346,
          457908.43157360126,
          465131.9398413678,
          472355.4481091344,
          479578.9563769011,
          486802.46464466763,
          494025.9729124343,
          501249.4811802009,
          508472.98944796756,
          515696.4977157341,
          522920.0059835007,
          530143.5142512673,
          537367.0225190339,
          544590.5307868007,
          551814.0390545672,
          559037.5473223338,
          566261.0555901004,
          573484.5638578669,
          580708.0721256337,
          587931.5803934003,
          595155.0886611668,
          602378.5969289334,
          609602.1051967,
          616825.6134644668,
          624049.1217322333,
          631272.63
         ],
         "y": [
          7.33846034047919e-8,
          8.025753400403151e-8,
          8.766539775282492e-8,
          9.563836434389757e-8,
          1.0420717163728573e-7,
          1.1340301818844578e-7,
          1.232574431003512e-7,
          1.338021929965812e-7,
          1.4506907601086243e-7,
          1.5708980279673638e-7,
          1.6989581467860406e-7,
          1.8351809919176713e-7,
          1.9798699339353875e-7,
          2.1333197546914017e-7,
          2.2958144530388469e-7,
          2.467624948458723e-7,
          2.649006692396746e-7,
          2.8401971986978993e-7,
          3.041413506112724e-7,
          3.252849587421236e-7,
          3.4746737212582724e-7,
          3.707025844207945e-7,
          3.9500149021439027e-7,
          4.2037162211044214e-7,
          4.4681689191856956e-7,
          4.743373381990773e-7,
          5.029288825064658e-7,
          5.325830967456845e-7,
          5.632869841061596e-7,
          5.950227760675272e-7,
          6.277677479761777e-7,
          6.614940556717824e-7,
          6.961685955965844e-7,
          7.317528907465236e-7,
          7.682030047214786e-7,
          8.054694860017235e-7,
          8.434973444190742e-7,
          8.822260616045111e-7,
          9.215896369799914e-7,
          9.615166706218108e-7,
          0.0000010019304840577663,
          0.000001042749279772303,
          0.0000010838863398851115,
          0.0000011252502641418433,
          0.0000011667452470136812,
          0.0000012082713933487224,
          0.0000012497250716560131,
          0.0000012909993037364307,
          0.0000013319841890074222,
          0.0000013725673615050132,
          0.000001412634477190758,
          0.0000014520697288476842,
          0.0000014907563855220995,
          0.00000152857735316155,
          0.0000015654157528173655,
          0.0000016011555125269655,
          0.0000016356819687700524,
          0.0000016688824732073656,
          0.0000017006470002637327,
          0.0000017308687510113033,
          0.0000017594447487462199,
          0.0000017862764216341296,
          0.0000018112701678279853,
          0.000001834337898536048,
          0.0000018553975546388256,
          0.000001874373592620265,
          0.00000189119743578965,
          0.0000019058078870245563,
          0.0000019181514995595996,
          0.000001928182902677634,
          0.000001935865079526288,
          0.000001941169594679325,
          0.0000019440767694851738,
          0.000001944575803689438,
          0.000001942664842279479,
          0.0000019383509869721065,
          0.000001931650252244825,
          0.0000019225874662915903,
          0.0000019111961177603,
          0.0000018975181495959731,
          0.0000018816037017656181,
          0.0000018635108050731493,
          0.0000018433050286807293,
          0.000001821059084332201,
          0.000001796852390620824,
          0.0000017707706009538482,
          0.0000017429050991374138,
          0.0000017133524667343684,
          0.0000016822139265327919,
          0.0000016495947666028885,
          0.0000016156037495136242,
          0.0000015803525113276911,
          0.0000015439549549944468,
          0.000001506526642716229,
          0.000001468184191775217,
          0.000001429044678177876,
          0.0000013892250523040946,
          0.0000013488415705414823,
          0.0000013080092466449352,
          0.0000012668413262910747
         ]
        },
        {
         "fill": "tozeroy",
         "line": {
          "color": "rgb(239,85,59)"
         },
         "name": "부적합",
         "text": "0.8177299761126527",
         "type": "scatter",
         "x": [
          631272.63,
          633662.2158585859,
          636051.8017171717,
          638441.3875757576,
          640830.9734343435,
          643220.5592929292,
          645610.1451515151,
          647999.731010101,
          650389.3168686868,
          652778.9027272727,
          655168.4885858586,
          657558.0744444445,
          659947.6603030303,
          662337.2461616162,
          664726.8320202021,
          667116.4178787878,
          669506.0037373737,
          671895.5895959596,
          674285.1754545454,
          676674.7613131313,
          679064.3471717172,
          681453.933030303,
          683843.5188888889,
          686233.1047474748,
          688622.6906060607,
          691012.2764646464,
          693401.8623232323,
          695791.4481818182,
          698181.034040404,
          700570.6198989899,
          702960.2057575758,
          705349.7916161616,
          707739.3774747475,
          710128.9633333334,
          712518.5491919192,
          714908.135050505,
          717297.720909091,
          719687.3067676767,
          722076.8926262626,
          724466.4784848485,
          726856.0643434343,
          729245.6502020202,
          731635.2360606061,
          734024.8219191919,
          736414.4077777778,
          738803.9936363637,
          741193.5794949495,
          743583.1653535353,
          745972.7512121212,
          748362.3370707071,
          750751.9229292929,
          753141.5087878788,
          755531.0946464647,
          757920.6805050506,
          760310.2663636364,
          762699.8522222223,
          765089.4380808081,
          767479.0239393939,
          769868.6097979798,
          772258.1956565657,
          774647.7815151515,
          777037.3673737374,
          779426.9532323233,
          781816.5390909091,
          784206.124949495,
          786595.7108080809,
          788985.2966666666,
          791374.8825252525,
          793764.4683838384,
          796154.0542424242,
          798543.6401010101,
          800933.225959596,
          803322.8118181818,
          805712.3976767677,
          808101.9835353536,
          810491.5693939393,
          812881.1552525252,
          815270.7411111111,
          817660.3269696969,
          820049.9128282828,
          822439.4986868687,
          824829.0845454546,
          827218.6704040405,
          829608.2562626263,
          831997.8421212122,
          834387.427979798,
          836777.0138383838,
          839166.5996969697,
          841556.1855555556,
          843945.7714141414,
          846335.3572727273,
          848724.9431313132,
          851114.528989899,
          853504.1148484849,
          855893.7007070708,
          858283.2865656565,
          860672.8724242424,
          863062.4582828283,
          865452.0441414141,
          867841.63
         ],
         "y": [
          0.0000012668413262910747,
          0.000001253167879072427,
          0.00000123947382873003,
          0.0000012257630959138152,
          0.0000012120395649216055,
          0.000001198307082004997,
          0.0000011845694537197517,
          0.0000011708304453215556,
          0.0000011570937792079033,
          0.0000011433631334068555,
          0.0000011296421401133511,
          0.0000011159343842736876,
          0.0000011022434022187538,
          0.0000010885726803465335,
          0.000001074925653854348,
          0.0000010613057055212505,
          0.0000010477161645409365,
          0.0000010341603054054858,
          0.0000010206413468401873,
          0.0000010071624507896537,
          9.937267214553987e-7,
          9.803372043849557e-7,
          9.669968856126137e-7,
          9.53708690851775e-7,
          9.40475484738881e-7,
          9.273000701288274e-7,
          9.141851874417215e-7,
          9.011335140608088e-7,
          8.881476637813257e-7,
          8.752301863100096e-7,
          8.623835668149541e-7,
          8.496102255254348e-7,
          8.36912517381309e-7,
          8.242927317315503e-7,
          8.117530920814229e-7,
          7.992957558877787e-7,
          7.869228144019212e-7,
          7.746362925594307e-7,
          7.624381489163237e-7,
          7.503302756308841e-7,
          7.38314498490462e-7,
          7.263925769825099e-7,
          7.145662044091075e-7,
          7.028370080441705e-7,
          6.912065493325354e-7,
          6.796763241300849e-7,
          6.682477629840296e-7,
          6.569222314524708e-7,
          6.457010304623201e-7,
          6.345853967046534e-7,
          6.235765030665334e-7,
          6.126754590983377e-7,
          6.018833115156018e-7,
          5.912010447343739e-7,
          5.806295814390617e-7,
          5.701697831817406e-7,
          5.598224510118886e-7,
          5.49588326135486e-7,
          5.394680906024223e-7,
          5.294623680211482e-7,
          5.195717242994917e-7,
          5.097966684105571e-7,
          5.001376531826362e-7,
          4.905950761120299e-7,
          4.81169280197706e-7,
          4.718605547967036e-7,
          4.6266913649919457e-7,
          4.5359521002212294e-7,
          4.4463890912034475e-7,
          4.358003175141852e-7,
          4.270794698323504e-7,
          4.1847635256913073e-7,
          4.0999090505483584e-7,
          4.0162302043841495e-7,
          3.9337254668123356e-7,
          3.8523928756096793e-7,
          3.772230036846076e-7,
          3.693234135095676e-7,
          3.615401943719104e-7,
          3.5387298352070726e-7,
          3.463213791575793e-7,
          3.388849414804656e-7,
          3.315631937306933e-7,
          3.243556232424352e-7,
          3.172616824936537e-7,
          3.102807901576637e-7,
          3.034123321544415e-7,
          2.9665566270084644e-7,
          2.900101053589353e-7,
          2.8347495408156145e-7,
          2.7704947425448126e-7,
          2.7073290373421037e-7,
          2.6452445388088356e-7,
          2.58423310585404e-7,
          2.524286352901897e-7,
          2.465395660028328e-7,
          2.4075521830202745e-7,
          2.350746863351364e-7,
          2.2949704380678327e-7,
          2.240213449578902e-7
         ]
        }
       ],
       "layout": {
        "annotations": [
         {
          "bordercolor": "rgb(100,110,250)",
          "borderwidth": 2,
          "font": {
           "color": "rgb(100,110,250)",
           "size": 15
          },
          "showarrow": false,
          "text": "0.818",
          "x": 631272.63,
          "xshift": -40,
          "y": 0.0000012668413262910747,
          "yshift": -100
         },
         {
          "bordercolor": "rgb(239,85,59)",
          "borderwidth": 2,
          "font": {
           "color": "rgb(239,85,59)",
           "size": 15
          },
          "showarrow": false,
          "text": "0.182",
          "x": 631272.63,
          "xshift": 40,
          "y": 0.0000012668413262910747,
          "yshift": -100
         }
        ],
        "template": {
         "data": {
          "bar": [
           {
            "error_x": {
             "color": "#2a3f5f"
            },
            "error_y": {
             "color": "#2a3f5f"
            },
            "marker": {
             "line": {
              "color": "#E5ECF6",
              "width": 0.5
             },
             "pattern": {
              "fillmode": "overlay",
              "size": 10,
              "solidity": 0.2
             }
            },
            "type": "bar"
           }
          ],
          "barpolar": [
           {
            "marker": {
             "line": {
              "color": "#E5ECF6",
              "width": 0.5
             },
             "pattern": {
              "fillmode": "overlay",
              "size": 10,
              "solidity": 0.2
             }
            },
            "type": "barpolar"
           }
          ],
          "carpet": [
           {
            "aaxis": {
             "endlinecolor": "#2a3f5f",
             "gridcolor": "white",
             "linecolor": "white",
             "minorgridcolor": "white",
             "startlinecolor": "#2a3f5f"
            },
            "baxis": {
             "endlinecolor": "#2a3f5f",
             "gridcolor": "white",
             "linecolor": "white",
             "minorgridcolor": "white",
             "startlinecolor": "#2a3f5f"
            },
            "type": "carpet"
           }
          ],
          "choropleth": [
           {
            "colorbar": {
             "outlinewidth": 0,
             "ticks": ""
            },
            "type": "choropleth"
           }
          ],
          "contour": [
           {
            "colorbar": {
             "outlinewidth": 0,
             "ticks": ""
            },
            "colorscale": [
             [
              0,
              "#0d0887"
             ],
             [
              0.1111111111111111,
              "#46039f"
             ],
             [
              0.2222222222222222,
              "#7201a8"
             ],
             [
              0.3333333333333333,
              "#9c179e"
             ],
             [
              0.4444444444444444,
              "#bd3786"
             ],
             [
              0.5555555555555556,
              "#d8576b"
             ],
             [
              0.6666666666666666,
              "#ed7953"
             ],
             [
              0.7777777777777778,
              "#fb9f3a"
             ],
             [
              0.8888888888888888,
              "#fdca26"
             ],
             [
              1,
              "#f0f921"
             ]
            ],
            "type": "contour"
           }
          ],
          "contourcarpet": [
           {
            "colorbar": {
             "outlinewidth": 0,
             "ticks": ""
            },
            "type": "contourcarpet"
           }
          ],
          "heatmap": [
           {
            "colorbar": {
             "outlinewidth": 0,
             "ticks": ""
            },
            "colorscale": [
             [
              0,
              "#0d0887"
             ],
             [
              0.1111111111111111,
              "#46039f"
             ],
             [
              0.2222222222222222,
              "#7201a8"
             ],
             [
              0.3333333333333333,
              "#9c179e"
             ],
             [
              0.4444444444444444,
              "#bd3786"
             ],
             [
              0.5555555555555556,
              "#d8576b"
             ],
             [
              0.6666666666666666,
              "#ed7953"
             ],
             [
              0.7777777777777778,
              "#fb9f3a"
             ],
             [
              0.8888888888888888,
              "#fdca26"
             ],
             [
              1,
              "#f0f921"
             ]
            ],
            "type": "heatmap"
           }
          ],
          "heatmapgl": [
           {
            "colorbar": {
             "outlinewidth": 0,
             "ticks": ""
            },
            "colorscale": [
             [
              0,
              "#0d0887"
             ],
             [
              0.1111111111111111,
              "#46039f"
             ],
             [
              0.2222222222222222,
              "#7201a8"
             ],
             [
              0.3333333333333333,
              "#9c179e"
             ],
             [
              0.4444444444444444,
              "#bd3786"
             ],
             [
              0.5555555555555556,
              "#d8576b"
             ],
             [
              0.6666666666666666,
              "#ed7953"
             ],
             [
              0.7777777777777778,
              "#fb9f3a"
             ],
             [
              0.8888888888888888,
              "#fdca26"
             ],
             [
              1,
              "#f0f921"
             ]
            ],
            "type": "heatmapgl"
           }
          ],
          "histogram": [
           {
            "marker": {
             "pattern": {
              "fillmode": "overlay",
              "size": 10,
              "solidity": 0.2
             }
            },
            "type": "histogram"
           }
          ],
          "histogram2d": [
           {
            "colorbar": {
             "outlinewidth": 0,
             "ticks": ""
            },
            "colorscale": [
             [
              0,
              "#0d0887"
             ],
             [
              0.1111111111111111,
              "#46039f"
             ],
             [
              0.2222222222222222,
              "#7201a8"
             ],
             [
              0.3333333333333333,
              "#9c179e"
             ],
             [
              0.4444444444444444,
              "#bd3786"
             ],
             [
              0.5555555555555556,
              "#d8576b"
             ],
             [
              0.6666666666666666,
              "#ed7953"
             ],
             [
              0.7777777777777778,
              "#fb9f3a"
             ],
             [
              0.8888888888888888,
              "#fdca26"
             ],
             [
              1,
              "#f0f921"
             ]
            ],
            "type": "histogram2d"
           }
          ],
          "histogram2dcontour": [
           {
            "colorbar": {
             "outlinewidth": 0,
             "ticks": ""
            },
            "colorscale": [
             [
              0,
              "#0d0887"
             ],
             [
              0.1111111111111111,
              "#46039f"
             ],
             [
              0.2222222222222222,
              "#7201a8"
             ],
             [
              0.3333333333333333,
              "#9c179e"
             ],
             [
              0.4444444444444444,
              "#bd3786"
             ],
             [
              0.5555555555555556,
              "#d8576b"
             ],
             [
              0.6666666666666666,
              "#ed7953"
             ],
             [
              0.7777777777777778,
              "#fb9f3a"
             ],
             [
              0.8888888888888888,
              "#fdca26"
             ],
             [
              1,
              "#f0f921"
             ]
            ],
            "type": "histogram2dcontour"
           }
          ],
          "mesh3d": [
           {
            "colorbar": {
             "outlinewidth": 0,
             "ticks": ""
            },
            "type": "mesh3d"
           }
          ],
          "parcoords": [
           {
            "line": {
             "colorbar": {
              "outlinewidth": 0,
              "ticks": ""
             }
            },
            "type": "parcoords"
           }
          ],
          "pie": [
           {
            "automargin": true,
            "type": "pie"
           }
          ],
          "scatter": [
           {
            "marker": {
             "colorbar": {
              "outlinewidth": 0,
              "ticks": ""
             }
            },
            "type": "scatter"
           }
          ],
          "scatter3d": [
           {
            "line": {
             "colorbar": {
              "outlinewidth": 0,
              "ticks": ""
             }
            },
            "marker": {
             "colorbar": {
              "outlinewidth": 0,
              "ticks": ""
             }
            },
            "type": "scatter3d"
           }
          ],
          "scattercarpet": [
           {
            "marker": {
             "colorbar": {
              "outlinewidth": 0,
              "ticks": ""
             }
            },
            "type": "scattercarpet"
           }
          ],
          "scattergeo": [
           {
            "marker": {
             "colorbar": {
              "outlinewidth": 0,
              "ticks": ""
             }
            },
            "type": "scattergeo"
           }
          ],
          "scattergl": [
           {
            "marker": {
             "colorbar": {
              "outlinewidth": 0,
              "ticks": ""
             }
            },
            "type": "scattergl"
           }
          ],
          "scattermapbox": [
           {
            "marker": {
             "colorbar": {
              "outlinewidth": 0,
              "ticks": ""
             }
            },
            "type": "scattermapbox"
           }
          ],
          "scatterpolar": [
           {
            "marker": {
             "colorbar": {
              "outlinewidth": 0,
              "ticks": ""
             }
            },
            "type": "scatterpolar"
           }
          ],
          "scatterpolargl": [
           {
            "marker": {
             "colorbar": {
              "outlinewidth": 0,
              "ticks": ""
             }
            },
            "type": "scatterpolargl"
           }
          ],
          "scatterternary": [
           {
            "marker": {
             "colorbar": {
              "outlinewidth": 0,
              "ticks": ""
             }
            },
            "type": "scatterternary"
           }
          ],
          "surface": [
           {
            "colorbar": {
             "outlinewidth": 0,
             "ticks": ""
            },
            "colorscale": [
             [
              0,
              "#0d0887"
             ],
             [
              0.1111111111111111,
              "#46039f"
             ],
             [
              0.2222222222222222,
              "#7201a8"
             ],
             [
              0.3333333333333333,
              "#9c179e"
             ],
             [
              0.4444444444444444,
              "#bd3786"
             ],
             [
              0.5555555555555556,
              "#d8576b"
             ],
             [
              0.6666666666666666,
              "#ed7953"
             ],
             [
              0.7777777777777778,
              "#fb9f3a"
             ],
             [
              0.8888888888888888,
              "#fdca26"
             ],
             [
              1,
              "#f0f921"
             ]
            ],
            "type": "surface"
           }
          ],
          "table": [
           {
            "cells": {
             "fill": {
              "color": "#EBF0F8"
             },
             "line": {
              "color": "white"
             }
            },
            "header": {
             "fill": {
              "color": "#C8D4E3"
             },
             "line": {
              "color": "white"
             }
            },
            "type": "table"
           }
          ]
         },
         "layout": {
          "annotationdefaults": {
           "arrowcolor": "#2a3f5f",
           "arrowhead": 0,
           "arrowwidth": 1
          },
          "autotypenumbers": "strict",
          "coloraxis": {
           "colorbar": {
            "outlinewidth": 0,
            "ticks": ""
           }
          },
          "colorscale": {
           "diverging": [
            [
             0,
             "#8e0152"
            ],
            [
             0.1,
             "#c51b7d"
            ],
            [
             0.2,
             "#de77ae"
            ],
            [
             0.3,
             "#f1b6da"
            ],
            [
             0.4,
             "#fde0ef"
            ],
            [
             0.5,
             "#f7f7f7"
            ],
            [
             0.6,
             "#e6f5d0"
            ],
            [
             0.7,
             "#b8e186"
            ],
            [
             0.8,
             "#7fbc41"
            ],
            [
             0.9,
             "#4d9221"
            ],
            [
             1,
             "#276419"
            ]
           ],
           "sequential": [
            [
             0,
             "#0d0887"
            ],
            [
             0.1111111111111111,
             "#46039f"
            ],
            [
             0.2222222222222222,
             "#7201a8"
            ],
            [
             0.3333333333333333,
             "#9c179e"
            ],
            [
             0.4444444444444444,
             "#bd3786"
            ],
            [
             0.5555555555555556,
             "#d8576b"
            ],
            [
             0.6666666666666666,
             "#ed7953"
            ],
            [
             0.7777777777777778,
             "#fb9f3a"
            ],
            [
             0.8888888888888888,
             "#fdca26"
            ],
            [
             1,
             "#f0f921"
            ]
           ],
           "sequentialminus": [
            [
             0,
             "#0d0887"
            ],
            [
             0.1111111111111111,
             "#46039f"
            ],
            [
             0.2222222222222222,
             "#7201a8"
            ],
            [
             0.3333333333333333,
             "#9c179e"
            ],
            [
             0.4444444444444444,
             "#bd3786"
            ],
            [
             0.5555555555555556,
             "#d8576b"
            ],
            [
             0.6666666666666666,
             "#ed7953"
            ],
            [
             0.7777777777777778,
             "#fb9f3a"
            ],
            [
             0.8888888888888888,
             "#fdca26"
            ],
            [
             1,
             "#f0f921"
            ]
           ]
          },
          "colorway": [
           "#636efa",
           "#EF553B",
           "#00cc96",
           "#ab63fa",
           "#FFA15A",
           "#19d3f3",
           "#FF6692",
           "#B6E880",
           "#FF97FF",
           "#FECB52"
          ],
          "font": {
           "color": "#2a3f5f"
          },
          "geo": {
           "bgcolor": "white",
           "lakecolor": "white",
           "landcolor": "#E5ECF6",
           "showlakes": true,
           "showland": true,
           "subunitcolor": "white"
          },
          "hoverlabel": {
           "align": "left"
          },
          "hovermode": "closest",
          "mapbox": {
           "style": "light"
          },
          "paper_bgcolor": "white",
          "plot_bgcolor": "#E5ECF6",
          "polar": {
           "angularaxis": {
            "gridcolor": "white",
            "linecolor": "white",
            "ticks": ""
           },
           "bgcolor": "#E5ECF6",
           "radialaxis": {
            "gridcolor": "white",
            "linecolor": "white",
            "ticks": ""
           }
          },
          "scene": {
           "xaxis": {
            "backgroundcolor": "#E5ECF6",
            "gridcolor": "white",
            "gridwidth": 2,
            "linecolor": "white",
            "showbackground": true,
            "ticks": "",
            "zerolinecolor": "white"
           },
           "yaxis": {
            "backgroundcolor": "#E5ECF6",
            "gridcolor": "white",
            "gridwidth": 2,
            "linecolor": "white",
            "showbackground": true,
            "ticks": "",
            "zerolinecolor": "white"
           },
           "zaxis": {
            "backgroundcolor": "#E5ECF6",
            "gridcolor": "white",
            "gridwidth": 2,
            "linecolor": "white",
            "showbackground": true,
            "ticks": "",
            "zerolinecolor": "white"
           }
          },
          "shapedefaults": {
           "line": {
            "color": "#2a3f5f"
           }
          },
          "ternary": {
           "aaxis": {
            "gridcolor": "white",
            "linecolor": "white",
            "ticks": ""
           },
           "baxis": {
            "gridcolor": "white",
            "linecolor": "white",
            "ticks": ""
           },
           "bgcolor": "#E5ECF6",
           "caxis": {
            "gridcolor": "white",
            "linecolor": "white",
            "ticks": ""
           }
          },
          "title": {
           "x": 0.05
          },
          "xaxis": {
           "automargin": true,
           "gridcolor": "white",
           "linecolor": "white",
           "ticks": "",
           "title": {
            "standoff": 15
           },
           "zerolinecolor": "white",
           "zerolinewidth": 2
          },
          "yaxis": {
           "automargin": true,
           "gridcolor": "white",
           "linecolor": "white",
           "ticks": "",
           "title": {
            "standoff": 15
           },
           "zerolinecolor": "white",
           "zerolinewidth": 2
          }
         }
        }
       }
      }
     },
     "metadata": {},
     "output_type": "display_data"
    },
    {
     "data": {
      "text/plain": [
       "0.8177299761126527"
      ]
     },
     "execution_count": 469,
     "metadata": {},
     "output_type": "execute_result"
    }
   ],
   "source": [
    "# 사하구 유동인구 확률 밀도 계산 \n",
    "busan_foottraffic = df_foottraffic.loc['사하구']['월 평균']\n",
    "foottraffic_pro = cal_norm(df_foottraffic['월 평균'].mean(),df_foottraffic['월 평균'].std(),df_foottraffic['월 평균'].min(),df_foottraffic['월 평균'].max(),busan_foottraffic)\n",
    "foottraffic_pro\n"
   ]
  },
  {
   "cell_type": "markdown",
   "metadata": {},
   "source": [
    "### 친환경 자동차 등록수 데이터 불러오기"
   ]
  },
  {
   "cell_type": "code",
   "execution_count": 470,
   "metadata": {},
   "outputs": [
    {
     "data": {
      "text/html": [
       "<div>\n",
       "<style scoped>\n",
       "    .dataframe tbody tr th:only-of-type {\n",
       "        vertical-align: middle;\n",
       "    }\n",
       "\n",
       "    .dataframe tbody tr th {\n",
       "        vertical-align: top;\n",
       "    }\n",
       "\n",
       "    .dataframe thead th {\n",
       "        text-align: right;\n",
       "    }\n",
       "</style>\n",
       "<table border=\"1\" class=\"dataframe\">\n",
       "  <thead>\n",
       "    <tr style=\"text-align: right;\">\n",
       "      <th></th>\n",
       "      <th>연료</th>\n",
       "      <th>서울</th>\n",
       "      <th>부산</th>\n",
       "      <th>대구</th>\n",
       "      <th>인천</th>\n",
       "      <th>광주</th>\n",
       "      <th>대전</th>\n",
       "      <th>울산</th>\n",
       "      <th>세종</th>\n",
       "      <th>경기</th>\n",
       "      <th>강원</th>\n",
       "      <th>충북</th>\n",
       "      <th>충남</th>\n",
       "      <th>전북</th>\n",
       "      <th>전남</th>\n",
       "      <th>경북</th>\n",
       "      <th>경남</th>\n",
       "      <th>제주</th>\n",
       "      <th>계</th>\n",
       "    </tr>\n",
       "  </thead>\n",
       "  <tbody>\n",
       "    <tr>\n",
       "      <th>0</th>\n",
       "      <td>휘발유</td>\n",
       "      <td>1,649,518</td>\n",
       "      <td>714,221</td>\n",
       "      <td>584,780</td>\n",
       "      <td>818,874</td>\n",
       "      <td>312,081</td>\n",
       "      <td>341,412</td>\n",
       "      <td>297,231</td>\n",
       "      <td>94,929</td>\n",
       "      <td>3,056,798</td>\n",
       "      <td>365,724</td>\n",
       "      <td>403,958</td>\n",
       "      <td>525,588</td>\n",
       "      <td>398,182</td>\n",
       "      <td>466,016</td>\n",
       "      <td>654,776</td>\n",
       "      <td>886,361</td>\n",
       "      <td>302,434</td>\n",
       "      <td>11,872,883</td>\n",
       "    </tr>\n",
       "    <tr>\n",
       "      <th>1</th>\n",
       "      <td>경유</td>\n",
       "      <td>1,077,183</td>\n",
       "      <td>550,411</td>\n",
       "      <td>449,206</td>\n",
       "      <td>627,029</td>\n",
       "      <td>266,237</td>\n",
       "      <td>247,724</td>\n",
       "      <td>217,553</td>\n",
       "      <td>66,126</td>\n",
       "      <td>2,450,214</td>\n",
       "      <td>371,277</td>\n",
       "      <td>380,402</td>\n",
       "      <td>516,001</td>\n",
       "      <td>430,676</td>\n",
       "      <td>547,999</td>\n",
       "      <td>664,042</td>\n",
       "      <td>736,135</td>\n",
       "      <td>253,205</td>\n",
       "      <td>9,851,420</td>\n",
       "    </tr>\n",
       "    <tr>\n",
       "      <th>2</th>\n",
       "      <td>엘피지</td>\n",
       "      <td>240,940</td>\n",
       "      <td>111,371</td>\n",
       "      <td>106,654</td>\n",
       "      <td>113,654</td>\n",
       "      <td>88,883</td>\n",
       "      <td>67,456</td>\n",
       "      <td>36,101</td>\n",
       "      <td>12,985</td>\n",
       "      <td>404,449</td>\n",
       "      <td>58,335</td>\n",
       "      <td>70,304</td>\n",
       "      <td>89,210</td>\n",
       "      <td>93,615</td>\n",
       "      <td>111,494</td>\n",
       "      <td>127,818</td>\n",
       "      <td>139,592</td>\n",
       "      <td>58,412</td>\n",
       "      <td>1,931,273</td>\n",
       "    </tr>\n",
       "    <tr>\n",
       "      <th>3</th>\n",
       "      <td>전기</td>\n",
       "      <td>45,133</td>\n",
       "      <td>16,059</td>\n",
       "      <td>18,076</td>\n",
       "      <td>15,191</td>\n",
       "      <td>6,233</td>\n",
       "      <td>9,550</td>\n",
       "      <td>3,948</td>\n",
       "      <td>2,180</td>\n",
       "      <td>50,111</td>\n",
       "      <td>9,117</td>\n",
       "      <td>10,421</td>\n",
       "      <td>12,142</td>\n",
       "      <td>8,931</td>\n",
       "      <td>10,658</td>\n",
       "      <td>13,018</td>\n",
       "      <td>14,957</td>\n",
       "      <td>26,931</td>\n",
       "      <td>272,656</td>\n",
       "    </tr>\n",
       "    <tr>\n",
       "      <th>4</th>\n",
       "      <td>하이브리드(휘발유+전기)</td>\n",
       "      <td>147,022</td>\n",
       "      <td>61,167</td>\n",
       "      <td>48,320</td>\n",
       "      <td>90,275</td>\n",
       "      <td>24,091</td>\n",
       "      <td>24,167</td>\n",
       "      <td>19,593</td>\n",
       "      <td>11,034</td>\n",
       "      <td>256,643</td>\n",
       "      <td>24,001</td>\n",
       "      <td>25,842</td>\n",
       "      <td>32,669</td>\n",
       "      <td>25,448</td>\n",
       "      <td>38,154</td>\n",
       "      <td>36,999</td>\n",
       "      <td>56,219</td>\n",
       "      <td>30,057</td>\n",
       "      <td>951,701</td>\n",
       "    </tr>\n",
       "    <tr>\n",
       "      <th>5</th>\n",
       "      <td>하이브리드(경유+전기)</td>\n",
       "      <td>2,656</td>\n",
       "      <td>4,187</td>\n",
       "      <td>2,146</td>\n",
       "      <td>7,672</td>\n",
       "      <td>464</td>\n",
       "      <td>393</td>\n",
       "      <td>194</td>\n",
       "      <td>141</td>\n",
       "      <td>3,964</td>\n",
       "      <td>286</td>\n",
       "      <td>580</td>\n",
       "      <td>461</td>\n",
       "      <td>694</td>\n",
       "      <td>486</td>\n",
       "      <td>405</td>\n",
       "      <td>1,774</td>\n",
       "      <td>341</td>\n",
       "      <td>26,844</td>\n",
       "    </tr>\n",
       "    <tr>\n",
       "      <th>6</th>\n",
       "      <td>하이브리드(LPG+전기)</td>\n",
       "      <td>1,601</td>\n",
       "      <td>735</td>\n",
       "      <td>806</td>\n",
       "      <td>696</td>\n",
       "      <td>628</td>\n",
       "      <td>481</td>\n",
       "      <td>457</td>\n",
       "      <td>153</td>\n",
       "      <td>3,453</td>\n",
       "      <td>611</td>\n",
       "      <td>639</td>\n",
       "      <td>728</td>\n",
       "      <td>785</td>\n",
       "      <td>833</td>\n",
       "      <td>974</td>\n",
       "      <td>1,034</td>\n",
       "      <td>335</td>\n",
       "      <td>14,949</td>\n",
       "    </tr>\n",
       "    <tr>\n",
       "      <th>7</th>\n",
       "      <td>기타연료</td>\n",
       "      <td>7,172</td>\n",
       "      <td>16,097</td>\n",
       "      <td>4,545</td>\n",
       "      <td>13,915</td>\n",
       "      <td>4,036</td>\n",
       "      <td>3,830</td>\n",
       "      <td>5,205</td>\n",
       "      <td>1,208</td>\n",
       "      <td>29,809</td>\n",
       "      <td>4,376</td>\n",
       "      <td>6,918</td>\n",
       "      <td>9,574</td>\n",
       "      <td>5,182</td>\n",
       "      <td>9,666</td>\n",
       "      <td>10,974</td>\n",
       "      <td>9,161</td>\n",
       "      <td>886</td>\n",
       "      <td>142,554</td>\n",
       "    </tr>\n",
       "    <tr>\n",
       "      <th>8</th>\n",
       "      <td>수소</td>\n",
       "      <td>2,435</td>\n",
       "      <td>1,473</td>\n",
       "      <td>352</td>\n",
       "      <td>1,139</td>\n",
       "      <td>1,018</td>\n",
       "      <td>1,045</td>\n",
       "      <td>2,395</td>\n",
       "      <td>205</td>\n",
       "      <td>4,004</td>\n",
       "      <td>1,959</td>\n",
       "      <td>1,095</td>\n",
       "      <td>908</td>\n",
       "      <td>1,435</td>\n",
       "      <td>448</td>\n",
       "      <td>77</td>\n",
       "      <td>1,899</td>\n",
       "      <td>5</td>\n",
       "      <td>21,892</td>\n",
       "    </tr>\n",
       "    <tr>\n",
       "      <th>9</th>\n",
       "      <td>총합</td>\n",
       "      <td>3,173,660</td>\n",
       "      <td>1,475,721</td>\n",
       "      <td>1,214,885</td>\n",
       "      <td>1,688,445</td>\n",
       "      <td>703,671</td>\n",
       "      <td>696,058</td>\n",
       "      <td>582,677</td>\n",
       "      <td>188,961</td>\n",
       "      <td>6,259,445</td>\n",
       "      <td>835,686</td>\n",
       "      <td>900,159</td>\n",
       "      <td>1,187,281</td>\n",
       "      <td>964,948</td>\n",
       "      <td>1,185,754</td>\n",
       "      <td>1,509,083</td>\n",
       "      <td>1,847,132</td>\n",
       "      <td>672,606</td>\n",
       "      <td>25,086,172</td>\n",
       "    </tr>\n",
       "  </tbody>\n",
       "</table>\n",
       "</div>"
      ],
      "text/plain": [
       "              연료         서울         부산         대구         인천       광주  \\\n",
       "0            휘발유  1,649,518    714,221    584,780    818,874  312,081   \n",
       "1             경유  1,077,183    550,411    449,206    627,029  266,237   \n",
       "2            엘피지    240,940    111,371    106,654    113,654   88,883   \n",
       "3             전기     45,133     16,059     18,076     15,191    6,233   \n",
       "4  하이브리드(휘발유+전기)    147,022     61,167     48,320     90,275   24,091   \n",
       "5   하이브리드(경유+전기)      2,656      4,187      2,146      7,672      464   \n",
       "6  하이브리드(LPG+전기)      1,601        735        806        696      628   \n",
       "7           기타연료      7,172     16,097      4,545     13,915    4,036   \n",
       "8             수소      2,435      1,473        352      1,139    1,018   \n",
       "9             총합  3,173,660  1,475,721  1,214,885  1,688,445  703,671   \n",
       "\n",
       "        대전       울산       세종         경기       강원       충북         충남       전북  \\\n",
       "0  341,412  297,231   94,929  3,056,798  365,724  403,958    525,588  398,182   \n",
       "1  247,724  217,553   66,126  2,450,214  371,277  380,402    516,001  430,676   \n",
       "2   67,456   36,101   12,985    404,449   58,335   70,304     89,210   93,615   \n",
       "3    9,550    3,948    2,180     50,111    9,117   10,421     12,142    8,931   \n",
       "4   24,167   19,593   11,034    256,643   24,001   25,842     32,669   25,448   \n",
       "5      393      194      141      3,964      286      580        461      694   \n",
       "6      481      457      153      3,453      611      639        728      785   \n",
       "7    3,830    5,205    1,208     29,809    4,376    6,918      9,574    5,182   \n",
       "8    1,045    2,395      205      4,004    1,959    1,095        908    1,435   \n",
       "9  696,058  582,677  188,961  6,259,445  835,686  900,159  1,187,281  964,948   \n",
       "\n",
       "          전남         경북         경남       제주           계  \n",
       "0    466,016    654,776    886,361  302,434  11,872,883  \n",
       "1    547,999    664,042    736,135  253,205   9,851,420  \n",
       "2    111,494    127,818    139,592   58,412   1,931,273  \n",
       "3     10,658     13,018     14,957   26,931     272,656  \n",
       "4     38,154     36,999     56,219   30,057     951,701  \n",
       "5        486        405      1,774      341      26,844  \n",
       "6        833        974      1,034      335      14,949  \n",
       "7      9,666     10,974      9,161      886     142,554  \n",
       "8        448         77      1,899        5      21,892  \n",
       "9  1,185,754  1,509,083  1,847,132  672,606  25,086,172  "
      ]
     },
     "execution_count": 470,
     "metadata": {},
     "output_type": "execute_result"
    }
   ],
   "source": [
    "vehicle_file_path = 'C:\\\\Users\\\\SAMSUNG\\\\Desktop\\\\Green-Car-Charging-Station-Site-Selection\\\\Data\\\\연료별 자동차 등록 수.csv'\n",
    "df_vehicle = pd.read_csv(vehicle_file_path, encoding='cp949')\n",
    "drop_col = df_vehicle.iloc[:,1:3].columns.tolist()\n",
    "df_vehicle.drop(columns=drop_col,inplace=True)\n",
    "df_vehicle"
   ]
  },
  {
   "cell_type": "code",
   "execution_count": 471,
   "metadata": {},
   "outputs": [
    {
     "data": {
      "text/plain": [
       "count        17.000000\n",
       "mean      74479.411765\n",
       "std       75151.087588\n",
       "min       13508.000000\n",
       "25%       34591.000000\n",
       "50%       50131.000000\n",
       "75%       73984.000000\n",
       "max      314171.000000\n",
       "dtype: float64"
      ]
     },
     "execution_count": 471,
     "metadata": {},
     "output_type": "execute_result"
    }
   ],
   "source": [
    "# 전국 자동차 수 통계값 구하기 (전기, 수소)\n",
    "col = df_vehicle.iloc[:,1:].columns.tolist()\n",
    "for c in col:\n",
    "    advanced_replace(df_vehicle,c,'-',r'[^0-9.0-9]')\n",
    "    df_vehicle[c] = df_vehicle[c].astype(int)\n",
    "df_elec_vehicle = df_vehicle.iloc[3:7,:-1].sum()\n",
    "df_elec_vehicle = df_elec_vehicle[1:]\n",
    "\n",
    "df_elec_vehicle = df_elec_vehicle.astype(int)\n",
    "df_elec_vehicle.describe()\n"
   ]
  },
  {
   "cell_type": "code",
   "execution_count": 472,
   "metadata": {},
   "outputs": [
    {
     "data": {
      "text/plain": [
       "count      17.000000\n",
       "mean     1287.764706\n",
       "std      1030.779531\n",
       "min         5.000000\n",
       "25%       448.000000\n",
       "50%      1095.000000\n",
       "75%      1899.000000\n",
       "max      4004.000000\n",
       "Name: 8, dtype: float64"
      ]
     },
     "execution_count": 472,
     "metadata": {},
     "output_type": "execute_result"
    }
   ],
   "source": [
    "df_hidro_vehicle = df_vehicle.iloc[8,1:-1]\n",
    "df_hidro_vehicle = df_hidro_vehicle.astype(int)\n",
    "df_hidro_vehicle.describe()"
   ]
  },
  {
   "cell_type": "code",
   "execution_count": 473,
   "metadata": {},
   "outputs": [
    {
     "data": {
      "application/vnd.plotly.v1+json": {
       "config": {
        "plotlyServerURL": "https://plot.ly"
       },
       "data": [
        {
         "hovertemplate": "x=%{x}<br>y=%{y}<extra></extra>",
         "legendgroup": "",
         "line": {
          "color": "#636efa",
          "dash": "solid"
         },
         "mode": "lines",
         "name": "",
         "orientation": "v",
         "showlegend": false,
         "type": "scatter",
         "x": [
          -61643.08758782105,
          -57846.985692994574,
          -54050.8837981681,
          -50254.78190334162,
          -46458.68000851515,
          -42662.57811368867,
          -38866.4762188622,
          -35070.37432403572,
          -31274.272429209246,
          -27478.17053438277,
          -23682.068639556295,
          -19885.96674472982,
          -16089.864849903344,
          -12293.762955076869,
          -8497.661060250393,
          -4701.559165423918,
          -905.4572705974424,
          2890.644624229033,
          6686.7465190555085,
          10482.848413881977,
          14278.95030870846,
          18075.052203534942,
          21871.15409836141,
          25667.25599318788,
          29463.35788801436,
          33259.459782840844,
          37055.56167766731,
          40851.66357249378,
          44647.76546732026,
          48443.867362146746,
          52239.969256973214,
          56036.07115179968,
          59832.173046626165,
          63628.27494145265,
          67424.37683627912,
          71220.47873110558,
          75016.58062593207,
          78812.68252075855,
          82608.784415585,
          86404.88631041149,
          90200.98820523797,
          93997.09010006445,
          97793.19199489093,
          101589.29388971739,
          105385.39578454387,
          109181.49767937035,
          112977.5995741968,
          116773.70146902329,
          120569.80336384977,
          124365.90525867626,
          128162.00715350274,
          131958.10904832918,
          135754.2109431557,
          139550.31283798214,
          143346.4147328086,
          147142.5166276351,
          150938.61852246156,
          154734.72041728807,
          158530.82231211453,
          162326.92420694098,
          166123.0261017675,
          169919.12799659395,
          173715.2298914204,
          177511.3317862469,
          181307.43368107337,
          185103.53557589988,
          188899.63747072633,
          192695.73936555278,
          196491.8412603793,
          200287.94315520575,
          204084.0450500322,
          207880.14694485872,
          211676.24883968517,
          215472.35073451162,
          219268.45262933814,
          223064.5545241646,
          226860.65641899104,
          230656.75831381755,
          234452.860208644,
          238248.96210347052,
          242045.06399829697,
          245841.16589312343,
          249637.26778794994,
          253433.3696827764,
          257229.4715776029,
          261025.57347242936,
          264821.6753672558,
          268617.7772620823,
          272413.8791569088,
          276209.98105173523,
          280006.08294656174,
          283802.1848413882,
          287598.28673621465,
          291394.38863104116,
          295190.4905258676,
          298986.5924206941,
          302782.6943155206,
          306578.79621034703,
          310374.89810517355,
          314171
         ],
         "xaxis": "x",
         "y": [
          0.0000010293012256662106,
          0.0000011264818237310633,
          0.0000012296960000385188,
          0.0000013389464411196047,
          0.0000014541878886041046,
          0.0000015753233646137669,
          0.000001702200754050023,
          0.0000018346098288431818,
          0.0000019722797982258083,
          0.0000021148774662254307,
          0.0000022620060727565954,
          0.0000024132048878902575,
          0.000002567949620099425,
          0.0000027256536885865815,
          0.0000028856703973083804,
          0.000003047296034199272,
          0.000003209773903585383,
          0.0000033722992831512715,
          0.0000035340252793997088,
          0.0000036940695376928033,
          0.0000038515217450773975,
          0.000004005451846596654,
          0.000004154918879102059,
          0.000004298980311133943,
          0.000004436701763649623,
          0.000004567166974636431,
          0.000004689487861304888,
          0.000004802814526918839,
          0.00000490634505562872,
          0.000004999334938107554,
          0.0000050811059734472324,
          0.0000051510544986758396,
          0.000005208658806342498,
          0.000005253485622738967,
          0.0000052851955342609166,
          0.000005303547266854307,
          0.000005308400743073811,
          0.0000052997188625713825,
          0.000005277567974358032,
          0.000005242117032429729,
          0.000005193635449788689,
          0.000005132489688987796,
          0.000005059138649552273,
          0.000004974127933486511,
          0.0000048780830890912796,
          0.000004771701950083811,
          0.000004655746201178831,
          0.000004531032312571413,
          0.00000439842199395872,
          0.000004258812323725202,
          0.000004113125710655574,
          0.000003962299844075558,
          0.0000038072777837745044,
          0.000003648998333632923,
          0.000003488386832823517,
          0.0000033263464860956348,
          0.0000031637503403540225,
          0.000003001433998902393,
          0.000002840189147760763,
          0.0000026807579508123583,
          0.000002523828352618528,
          0.0000023700303099706624,
          0.0000022199329560149864,
          0.0000020740426844428985,
          0.000001932802126098256,
          0.0000017965899766780344,
          0.0000016657216222061027,
          0.0000015404504987986177,
          0.0000014209701150160635,
          0.0000013074166588584177,
          0.000001199872107202002,
          0.000001098367753146729,
          0.0000010028880662447346,
          9.133748017828681e-7,
          8.297312780283027e-7,
          7.518267444307532e-7,
          6.795007690017732e-7,
          6.125675792467583e-7,
          5.508202978902826e-7,
          4.940350219951551e-7,
          4.4197470172279284e-7,
          3.943927827229904e-7,
          3.5103658379766474e-7,
          3.116503888980329e-7,
          2.7597823955255695e-7,
          2.4376642037172173e-7,
          2.147656362468128e-7,
          1.8873288518868049e-7,
          1.654330353966762e-7,
          1.4464011908665932e-7,
          1.2613835883847428e-7,
          1.097229447629594e-7,
          9.52005826664352e-8,
          8.238983464877737e-8,
          7.112127426113796e-8,
          6.123747852958101e-8,
          5.259287888430252e-8,
          4.5053492385878185e-8,
          3.8496553675649175e-8,
          3.281006686089094e-8
         ],
         "yaxis": "y"
        }
       ],
       "layout": {
        "legend": {
         "tracegroupgap": 0
        },
        "margin": {
         "t": 60
        },
        "template": {
         "data": {
          "bar": [
           {
            "error_x": {
             "color": "#2a3f5f"
            },
            "error_y": {
             "color": "#2a3f5f"
            },
            "marker": {
             "line": {
              "color": "#E5ECF6",
              "width": 0.5
             },
             "pattern": {
              "fillmode": "overlay",
              "size": 10,
              "solidity": 0.2
             }
            },
            "type": "bar"
           }
          ],
          "barpolar": [
           {
            "marker": {
             "line": {
              "color": "#E5ECF6",
              "width": 0.5
             },
             "pattern": {
              "fillmode": "overlay",
              "size": 10,
              "solidity": 0.2
             }
            },
            "type": "barpolar"
           }
          ],
          "carpet": [
           {
            "aaxis": {
             "endlinecolor": "#2a3f5f",
             "gridcolor": "white",
             "linecolor": "white",
             "minorgridcolor": "white",
             "startlinecolor": "#2a3f5f"
            },
            "baxis": {
             "endlinecolor": "#2a3f5f",
             "gridcolor": "white",
             "linecolor": "white",
             "minorgridcolor": "white",
             "startlinecolor": "#2a3f5f"
            },
            "type": "carpet"
           }
          ],
          "choropleth": [
           {
            "colorbar": {
             "outlinewidth": 0,
             "ticks": ""
            },
            "type": "choropleth"
           }
          ],
          "contour": [
           {
            "colorbar": {
             "outlinewidth": 0,
             "ticks": ""
            },
            "colorscale": [
             [
              0,
              "#0d0887"
             ],
             [
              0.1111111111111111,
              "#46039f"
             ],
             [
              0.2222222222222222,
              "#7201a8"
             ],
             [
              0.3333333333333333,
              "#9c179e"
             ],
             [
              0.4444444444444444,
              "#bd3786"
             ],
             [
              0.5555555555555556,
              "#d8576b"
             ],
             [
              0.6666666666666666,
              "#ed7953"
             ],
             [
              0.7777777777777778,
              "#fb9f3a"
             ],
             [
              0.8888888888888888,
              "#fdca26"
             ],
             [
              1,
              "#f0f921"
             ]
            ],
            "type": "contour"
           }
          ],
          "contourcarpet": [
           {
            "colorbar": {
             "outlinewidth": 0,
             "ticks": ""
            },
            "type": "contourcarpet"
           }
          ],
          "heatmap": [
           {
            "colorbar": {
             "outlinewidth": 0,
             "ticks": ""
            },
            "colorscale": [
             [
              0,
              "#0d0887"
             ],
             [
              0.1111111111111111,
              "#46039f"
             ],
             [
              0.2222222222222222,
              "#7201a8"
             ],
             [
              0.3333333333333333,
              "#9c179e"
             ],
             [
              0.4444444444444444,
              "#bd3786"
             ],
             [
              0.5555555555555556,
              "#d8576b"
             ],
             [
              0.6666666666666666,
              "#ed7953"
             ],
             [
              0.7777777777777778,
              "#fb9f3a"
             ],
             [
              0.8888888888888888,
              "#fdca26"
             ],
             [
              1,
              "#f0f921"
             ]
            ],
            "type": "heatmap"
           }
          ],
          "heatmapgl": [
           {
            "colorbar": {
             "outlinewidth": 0,
             "ticks": ""
            },
            "colorscale": [
             [
              0,
              "#0d0887"
             ],
             [
              0.1111111111111111,
              "#46039f"
             ],
             [
              0.2222222222222222,
              "#7201a8"
             ],
             [
              0.3333333333333333,
              "#9c179e"
             ],
             [
              0.4444444444444444,
              "#bd3786"
             ],
             [
              0.5555555555555556,
              "#d8576b"
             ],
             [
              0.6666666666666666,
              "#ed7953"
             ],
             [
              0.7777777777777778,
              "#fb9f3a"
             ],
             [
              0.8888888888888888,
              "#fdca26"
             ],
             [
              1,
              "#f0f921"
             ]
            ],
            "type": "heatmapgl"
           }
          ],
          "histogram": [
           {
            "marker": {
             "pattern": {
              "fillmode": "overlay",
              "size": 10,
              "solidity": 0.2
             }
            },
            "type": "histogram"
           }
          ],
          "histogram2d": [
           {
            "colorbar": {
             "outlinewidth": 0,
             "ticks": ""
            },
            "colorscale": [
             [
              0,
              "#0d0887"
             ],
             [
              0.1111111111111111,
              "#46039f"
             ],
             [
              0.2222222222222222,
              "#7201a8"
             ],
             [
              0.3333333333333333,
              "#9c179e"
             ],
             [
              0.4444444444444444,
              "#bd3786"
             ],
             [
              0.5555555555555556,
              "#d8576b"
             ],
             [
              0.6666666666666666,
              "#ed7953"
             ],
             [
              0.7777777777777778,
              "#fb9f3a"
             ],
             [
              0.8888888888888888,
              "#fdca26"
             ],
             [
              1,
              "#f0f921"
             ]
            ],
            "type": "histogram2d"
           }
          ],
          "histogram2dcontour": [
           {
            "colorbar": {
             "outlinewidth": 0,
             "ticks": ""
            },
            "colorscale": [
             [
              0,
              "#0d0887"
             ],
             [
              0.1111111111111111,
              "#46039f"
             ],
             [
              0.2222222222222222,
              "#7201a8"
             ],
             [
              0.3333333333333333,
              "#9c179e"
             ],
             [
              0.4444444444444444,
              "#bd3786"
             ],
             [
              0.5555555555555556,
              "#d8576b"
             ],
             [
              0.6666666666666666,
              "#ed7953"
             ],
             [
              0.7777777777777778,
              "#fb9f3a"
             ],
             [
              0.8888888888888888,
              "#fdca26"
             ],
             [
              1,
              "#f0f921"
             ]
            ],
            "type": "histogram2dcontour"
           }
          ],
          "mesh3d": [
           {
            "colorbar": {
             "outlinewidth": 0,
             "ticks": ""
            },
            "type": "mesh3d"
           }
          ],
          "parcoords": [
           {
            "line": {
             "colorbar": {
              "outlinewidth": 0,
              "ticks": ""
             }
            },
            "type": "parcoords"
           }
          ],
          "pie": [
           {
            "automargin": true,
            "type": "pie"
           }
          ],
          "scatter": [
           {
            "marker": {
             "colorbar": {
              "outlinewidth": 0,
              "ticks": ""
             }
            },
            "type": "scatter"
           }
          ],
          "scatter3d": [
           {
            "line": {
             "colorbar": {
              "outlinewidth": 0,
              "ticks": ""
             }
            },
            "marker": {
             "colorbar": {
              "outlinewidth": 0,
              "ticks": ""
             }
            },
            "type": "scatter3d"
           }
          ],
          "scattercarpet": [
           {
            "marker": {
             "colorbar": {
              "outlinewidth": 0,
              "ticks": ""
             }
            },
            "type": "scattercarpet"
           }
          ],
          "scattergeo": [
           {
            "marker": {
             "colorbar": {
              "outlinewidth": 0,
              "ticks": ""
             }
            },
            "type": "scattergeo"
           }
          ],
          "scattergl": [
           {
            "marker": {
             "colorbar": {
              "outlinewidth": 0,
              "ticks": ""
             }
            },
            "type": "scattergl"
           }
          ],
          "scattermapbox": [
           {
            "marker": {
             "colorbar": {
              "outlinewidth": 0,
              "ticks": ""
             }
            },
            "type": "scattermapbox"
           }
          ],
          "scatterpolar": [
           {
            "marker": {
             "colorbar": {
              "outlinewidth": 0,
              "ticks": ""
             }
            },
            "type": "scatterpolar"
           }
          ],
          "scatterpolargl": [
           {
            "marker": {
             "colorbar": {
              "outlinewidth": 0,
              "ticks": ""
             }
            },
            "type": "scatterpolargl"
           }
          ],
          "scatterternary": [
           {
            "marker": {
             "colorbar": {
              "outlinewidth": 0,
              "ticks": ""
             }
            },
            "type": "scatterternary"
           }
          ],
          "surface": [
           {
            "colorbar": {
             "outlinewidth": 0,
             "ticks": ""
            },
            "colorscale": [
             [
              0,
              "#0d0887"
             ],
             [
              0.1111111111111111,
              "#46039f"
             ],
             [
              0.2222222222222222,
              "#7201a8"
             ],
             [
              0.3333333333333333,
              "#9c179e"
             ],
             [
              0.4444444444444444,
              "#bd3786"
             ],
             [
              0.5555555555555556,
              "#d8576b"
             ],
             [
              0.6666666666666666,
              "#ed7953"
             ],
             [
              0.7777777777777778,
              "#fb9f3a"
             ],
             [
              0.8888888888888888,
              "#fdca26"
             ],
             [
              1,
              "#f0f921"
             ]
            ],
            "type": "surface"
           }
          ],
          "table": [
           {
            "cells": {
             "fill": {
              "color": "#EBF0F8"
             },
             "line": {
              "color": "white"
             }
            },
            "header": {
             "fill": {
              "color": "#C8D4E3"
             },
             "line": {
              "color": "white"
             }
            },
            "type": "table"
           }
          ]
         },
         "layout": {
          "annotationdefaults": {
           "arrowcolor": "#2a3f5f",
           "arrowhead": 0,
           "arrowwidth": 1
          },
          "autotypenumbers": "strict",
          "coloraxis": {
           "colorbar": {
            "outlinewidth": 0,
            "ticks": ""
           }
          },
          "colorscale": {
           "diverging": [
            [
             0,
             "#8e0152"
            ],
            [
             0.1,
             "#c51b7d"
            ],
            [
             0.2,
             "#de77ae"
            ],
            [
             0.3,
             "#f1b6da"
            ],
            [
             0.4,
             "#fde0ef"
            ],
            [
             0.5,
             "#f7f7f7"
            ],
            [
             0.6,
             "#e6f5d0"
            ],
            [
             0.7,
             "#b8e186"
            ],
            [
             0.8,
             "#7fbc41"
            ],
            [
             0.9,
             "#4d9221"
            ],
            [
             1,
             "#276419"
            ]
           ],
           "sequential": [
            [
             0,
             "#0d0887"
            ],
            [
             0.1111111111111111,
             "#46039f"
            ],
            [
             0.2222222222222222,
             "#7201a8"
            ],
            [
             0.3333333333333333,
             "#9c179e"
            ],
            [
             0.4444444444444444,
             "#bd3786"
            ],
            [
             0.5555555555555556,
             "#d8576b"
            ],
            [
             0.6666666666666666,
             "#ed7953"
            ],
            [
             0.7777777777777778,
             "#fb9f3a"
            ],
            [
             0.8888888888888888,
             "#fdca26"
            ],
            [
             1,
             "#f0f921"
            ]
           ],
           "sequentialminus": [
            [
             0,
             "#0d0887"
            ],
            [
             0.1111111111111111,
             "#46039f"
            ],
            [
             0.2222222222222222,
             "#7201a8"
            ],
            [
             0.3333333333333333,
             "#9c179e"
            ],
            [
             0.4444444444444444,
             "#bd3786"
            ],
            [
             0.5555555555555556,
             "#d8576b"
            ],
            [
             0.6666666666666666,
             "#ed7953"
            ],
            [
             0.7777777777777778,
             "#fb9f3a"
            ],
            [
             0.8888888888888888,
             "#fdca26"
            ],
            [
             1,
             "#f0f921"
            ]
           ]
          },
          "colorway": [
           "#636efa",
           "#EF553B",
           "#00cc96",
           "#ab63fa",
           "#FFA15A",
           "#19d3f3",
           "#FF6692",
           "#B6E880",
           "#FF97FF",
           "#FECB52"
          ],
          "font": {
           "color": "#2a3f5f"
          },
          "geo": {
           "bgcolor": "white",
           "lakecolor": "white",
           "landcolor": "#E5ECF6",
           "showlakes": true,
           "showland": true,
           "subunitcolor": "white"
          },
          "hoverlabel": {
           "align": "left"
          },
          "hovermode": "closest",
          "mapbox": {
           "style": "light"
          },
          "paper_bgcolor": "white",
          "plot_bgcolor": "#E5ECF6",
          "polar": {
           "angularaxis": {
            "gridcolor": "white",
            "linecolor": "white",
            "ticks": ""
           },
           "bgcolor": "#E5ECF6",
           "radialaxis": {
            "gridcolor": "white",
            "linecolor": "white",
            "ticks": ""
           }
          },
          "scene": {
           "xaxis": {
            "backgroundcolor": "#E5ECF6",
            "gridcolor": "white",
            "gridwidth": 2,
            "linecolor": "white",
            "showbackground": true,
            "ticks": "",
            "zerolinecolor": "white"
           },
           "yaxis": {
            "backgroundcolor": "#E5ECF6",
            "gridcolor": "white",
            "gridwidth": 2,
            "linecolor": "white",
            "showbackground": true,
            "ticks": "",
            "zerolinecolor": "white"
           },
           "zaxis": {
            "backgroundcolor": "#E5ECF6",
            "gridcolor": "white",
            "gridwidth": 2,
            "linecolor": "white",
            "showbackground": true,
            "ticks": "",
            "zerolinecolor": "white"
           }
          },
          "shapedefaults": {
           "line": {
            "color": "#2a3f5f"
           }
          },
          "ternary": {
           "aaxis": {
            "gridcolor": "white",
            "linecolor": "white",
            "ticks": ""
           },
           "baxis": {
            "gridcolor": "white",
            "linecolor": "white",
            "ticks": ""
           },
           "bgcolor": "#E5ECF6",
           "caxis": {
            "gridcolor": "white",
            "linecolor": "white",
            "ticks": ""
           }
          },
          "title": {
           "x": 0.05
          },
          "xaxis": {
           "automargin": true,
           "gridcolor": "white",
           "linecolor": "white",
           "ticks": "",
           "title": {
            "standoff": 15
           },
           "zerolinecolor": "white",
           "zerolinewidth": 2
          },
          "yaxis": {
           "automargin": true,
           "gridcolor": "white",
           "linecolor": "white",
           "ticks": "",
           "title": {
            "standoff": 15
           },
           "zerolinecolor": "white",
           "zerolinewidth": 2
          }
         }
        },
        "xaxis": {
         "anchor": "y",
         "domain": [
          0,
          1
         ],
         "title": {
          "text": "x"
         }
        },
        "yaxis": {
         "anchor": "x",
         "domain": [
          0,
          1
         ],
         "title": {
          "text": "y"
         }
        }
       }
      }
     },
     "metadata": {},
     "output_type": "display_data"
    },
    {
     "data": {
      "application/vnd.plotly.v1+json": {
       "config": {
        "plotlyServerURL": "https://plot.ly"
       },
       "data": [
        {
         "hovertemplate": "x=%{x}<br>y=%{y}<extra></extra>",
         "legendgroup": "",
         "line": {
          "color": "#636efa",
          "dash": "solid"
         },
         "mode": "lines",
         "name": "",
         "orientation": "v",
         "showlegend": false,
         "type": "scatter",
         "x": [
          -1025.7795308292025,
          -974.9736769824428,
          -924.1678231356832,
          -873.3619692889237,
          -822.556115442164,
          -771.7502615954044,
          -720.9444077486448,
          -670.1385539018852,
          -619.3327000551255,
          -568.5268462083659,
          -517.7209923616062,
          -466.9151385148467,
          -416.10928466808707,
          -365.3034308213274,
          -314.4975769745679,
          -263.69172312780825,
          -212.8858692810486,
          -162.08001543428895,
          -111.2741615875293,
          -60.468307740769774,
          -9.662453894010127,
          41.143399952749405,
          91.94925379950905,
          142.7551076462687,
          193.56096149302834,
          244.366815339788,
          295.17266918654764,
          345.9785230333073,
          396.7843768800667,
          447.59023072682635,
          498.396084573586,
          549.2019384203456,
          600.0077922671053,
          650.8136461138649,
          701.6194999606246,
          752.4253538073842,
          803.2312076541439,
          854.0370615009033,
          904.8429153476629,
          955.6487691944226,
          1006.4546230411822,
          1057.2604768879419,
          1108.0663307347013,
          1158.8721845814612,
          1209.6780384282206,
          1260.4838922749805,
          1311.2897461217399,
          1362.0955999684998,
          1412.9014538152592,
          1463.7073076620186,
          1514.5131615087785,
          1565.3190153555379,
          1616.1248692022978,
          1666.9307230490572,
          1717.736576895817,
          1768.5424307425765,
          1819.348284589336,
          1870.1541384360958,
          1920.9599922828552,
          1971.765846129615,
          2022.5716999763745,
          2073.3775538231343,
          2124.1834076698938,
          2174.9892615166536,
          2225.795115363413,
          2276.6009692101725,
          2327.4068230569324,
          2378.2126769036918,
          2429.0185307504516,
          2479.824384597211,
          2530.630238443971,
          2581.4360922907304,
          2632.2419461374902,
          2683.0477999842497,
          2733.853653831009,
          2784.659507677769,
          2835.4653615245284,
          2886.2712153712882,
          2937.0770692180477,
          2987.8829230648075,
          3038.688776911567,
          3089.494630758327,
          3140.3004846050862,
          3191.1063384518457,
          3241.912192298605,
          3292.7180461453654,
          3343.523899992125,
          3394.3297538388842,
          3445.1356076856437,
          3495.941461532403,
          3546.7473153791634,
          3597.553169225923,
          3648.3590230726822,
          3699.1648769194417,
          3749.970730766202,
          3800.7765846129614,
          3851.582438459721,
          3902.3882923064803,
          3953.1941461532397,
          4004
         ],
         "xaxis": "x",
         "y": [
          0.00003117758141504347,
          0.0000347823929593478,
          0.000038709844353046125,
          0.000042976231001428364,
          0.000047597063323649606,
          0.00005258682172129097,
          0.00005795869805039856,
          0.00006372432610455252,
          0.00006989350407838146,
          0.00007647391243066841,
          0.00008347083099224081,
          0.00009088685955407897,
          0.00009872164651309973,
          0.00010697163043447785,
          0.00011562979959813403,
          0.000124685474721858,
          0.00013412412008428153,
          0.00014392718819889887,
          0.00015407200300874568,
          0.00016453168627559607,
          0.00017527513142553212,
          0.0001862670285851472,
          0.00019746794390308812,
          0.00020883445550678756,
          0.00022031934760384977,
          0.0002318718633144067,
          0.0002434380158305035,
          0.00025496095645945524,
          0.00026638139704065583,
          0.00027763808315187013,
          0.00028866831346525756,
          0.00029940849959968023,
          0.000309794759868742,
          0.0003197635394674687,
          0.00032925224889730325,
          0.0003381999118200067,
          0.00034654781307444084,
          0.00035424013730125736,
          0.00036122458851080215,
          0.0003674529810065635,
          0.00037288179234339276,
          0.0003774726694550557,
          0.00038119287972336336,
          0.00038401569957052225,
          0.0003859207341224123,
          0.0003868941625941833,
          0.00038692890526819995,
          0.0003860247092423093,
          0.000384188151495607,
          0.0003814325592197176,
          0.0003777778487655633,
          0.0003732502859281765,
          0.000367882171605559,
          0.00036171145809375105,
          0.0003547813023932625,
          0.0003471395638789656,
          0.000338838254507084,
          0.0003299329503837165,
          0.00032048217398841284,
          0.00031054675662724825,
          0.00030018919078085446,
          0.0002894729819167412,
          0.00027846200905920113,
          0.00026721990296538136,
          0.00025580945015771185,
          0.0002442920303288662,
          0.0002327270937865158,
          0.00022117168466391808,
          0.0002096800146127652,
          0.00019830309064121463,
          0.00018708839968704994,
          0.00017607965144723735,
          0.00016531657994319946,
          0.0001548348033066063,
          0.00014466574034180442,
          0.00013483658157402702,
          0.0001253703117402413,
          0.00011628578003187788,
          0.00010759781386266326,
          0.00009931737151416295,
          0.0000914517287073392,
          0.00008400469395852762,
          0.00007697684749833132,
          0.00007036579855535094,
          0.00006416645592489161,
          0.00005837130694571866,
          0.00005297070028437984,
          0.00004795312826457014,
          0.000043305504866123754,
          0.000039013435942034574,
          0.00003506147865029146,
          0.00003143338755865988,
          0.000028112345344051097,
          0.00002508117646399355,
          0.00002232254261728664,
          0.000019819119226780996,
          0.00001755375256327467,
          0.00001550959748097925,
          0.00001367023604841193,
          0.000012019777631697858
         ],
         "yaxis": "y"
        }
       ],
       "layout": {
        "legend": {
         "tracegroupgap": 0
        },
        "margin": {
         "t": 60
        },
        "template": {
         "data": {
          "bar": [
           {
            "error_x": {
             "color": "#2a3f5f"
            },
            "error_y": {
             "color": "#2a3f5f"
            },
            "marker": {
             "line": {
              "color": "#E5ECF6",
              "width": 0.5
             },
             "pattern": {
              "fillmode": "overlay",
              "size": 10,
              "solidity": 0.2
             }
            },
            "type": "bar"
           }
          ],
          "barpolar": [
           {
            "marker": {
             "line": {
              "color": "#E5ECF6",
              "width": 0.5
             },
             "pattern": {
              "fillmode": "overlay",
              "size": 10,
              "solidity": 0.2
             }
            },
            "type": "barpolar"
           }
          ],
          "carpet": [
           {
            "aaxis": {
             "endlinecolor": "#2a3f5f",
             "gridcolor": "white",
             "linecolor": "white",
             "minorgridcolor": "white",
             "startlinecolor": "#2a3f5f"
            },
            "baxis": {
             "endlinecolor": "#2a3f5f",
             "gridcolor": "white",
             "linecolor": "white",
             "minorgridcolor": "white",
             "startlinecolor": "#2a3f5f"
            },
            "type": "carpet"
           }
          ],
          "choropleth": [
           {
            "colorbar": {
             "outlinewidth": 0,
             "ticks": ""
            },
            "type": "choropleth"
           }
          ],
          "contour": [
           {
            "colorbar": {
             "outlinewidth": 0,
             "ticks": ""
            },
            "colorscale": [
             [
              0,
              "#0d0887"
             ],
             [
              0.1111111111111111,
              "#46039f"
             ],
             [
              0.2222222222222222,
              "#7201a8"
             ],
             [
              0.3333333333333333,
              "#9c179e"
             ],
             [
              0.4444444444444444,
              "#bd3786"
             ],
             [
              0.5555555555555556,
              "#d8576b"
             ],
             [
              0.6666666666666666,
              "#ed7953"
             ],
             [
              0.7777777777777778,
              "#fb9f3a"
             ],
             [
              0.8888888888888888,
              "#fdca26"
             ],
             [
              1,
              "#f0f921"
             ]
            ],
            "type": "contour"
           }
          ],
          "contourcarpet": [
           {
            "colorbar": {
             "outlinewidth": 0,
             "ticks": ""
            },
            "type": "contourcarpet"
           }
          ],
          "heatmap": [
           {
            "colorbar": {
             "outlinewidth": 0,
             "ticks": ""
            },
            "colorscale": [
             [
              0,
              "#0d0887"
             ],
             [
              0.1111111111111111,
              "#46039f"
             ],
             [
              0.2222222222222222,
              "#7201a8"
             ],
             [
              0.3333333333333333,
              "#9c179e"
             ],
             [
              0.4444444444444444,
              "#bd3786"
             ],
             [
              0.5555555555555556,
              "#d8576b"
             ],
             [
              0.6666666666666666,
              "#ed7953"
             ],
             [
              0.7777777777777778,
              "#fb9f3a"
             ],
             [
              0.8888888888888888,
              "#fdca26"
             ],
             [
              1,
              "#f0f921"
             ]
            ],
            "type": "heatmap"
           }
          ],
          "heatmapgl": [
           {
            "colorbar": {
             "outlinewidth": 0,
             "ticks": ""
            },
            "colorscale": [
             [
              0,
              "#0d0887"
             ],
             [
              0.1111111111111111,
              "#46039f"
             ],
             [
              0.2222222222222222,
              "#7201a8"
             ],
             [
              0.3333333333333333,
              "#9c179e"
             ],
             [
              0.4444444444444444,
              "#bd3786"
             ],
             [
              0.5555555555555556,
              "#d8576b"
             ],
             [
              0.6666666666666666,
              "#ed7953"
             ],
             [
              0.7777777777777778,
              "#fb9f3a"
             ],
             [
              0.8888888888888888,
              "#fdca26"
             ],
             [
              1,
              "#f0f921"
             ]
            ],
            "type": "heatmapgl"
           }
          ],
          "histogram": [
           {
            "marker": {
             "pattern": {
              "fillmode": "overlay",
              "size": 10,
              "solidity": 0.2
             }
            },
            "type": "histogram"
           }
          ],
          "histogram2d": [
           {
            "colorbar": {
             "outlinewidth": 0,
             "ticks": ""
            },
            "colorscale": [
             [
              0,
              "#0d0887"
             ],
             [
              0.1111111111111111,
              "#46039f"
             ],
             [
              0.2222222222222222,
              "#7201a8"
             ],
             [
              0.3333333333333333,
              "#9c179e"
             ],
             [
              0.4444444444444444,
              "#bd3786"
             ],
             [
              0.5555555555555556,
              "#d8576b"
             ],
             [
              0.6666666666666666,
              "#ed7953"
             ],
             [
              0.7777777777777778,
              "#fb9f3a"
             ],
             [
              0.8888888888888888,
              "#fdca26"
             ],
             [
              1,
              "#f0f921"
             ]
            ],
            "type": "histogram2d"
           }
          ],
          "histogram2dcontour": [
           {
            "colorbar": {
             "outlinewidth": 0,
             "ticks": ""
            },
            "colorscale": [
             [
              0,
              "#0d0887"
             ],
             [
              0.1111111111111111,
              "#46039f"
             ],
             [
              0.2222222222222222,
              "#7201a8"
             ],
             [
              0.3333333333333333,
              "#9c179e"
             ],
             [
              0.4444444444444444,
              "#bd3786"
             ],
             [
              0.5555555555555556,
              "#d8576b"
             ],
             [
              0.6666666666666666,
              "#ed7953"
             ],
             [
              0.7777777777777778,
              "#fb9f3a"
             ],
             [
              0.8888888888888888,
              "#fdca26"
             ],
             [
              1,
              "#f0f921"
             ]
            ],
            "type": "histogram2dcontour"
           }
          ],
          "mesh3d": [
           {
            "colorbar": {
             "outlinewidth": 0,
             "ticks": ""
            },
            "type": "mesh3d"
           }
          ],
          "parcoords": [
           {
            "line": {
             "colorbar": {
              "outlinewidth": 0,
              "ticks": ""
             }
            },
            "type": "parcoords"
           }
          ],
          "pie": [
           {
            "automargin": true,
            "type": "pie"
           }
          ],
          "scatter": [
           {
            "marker": {
             "colorbar": {
              "outlinewidth": 0,
              "ticks": ""
             }
            },
            "type": "scatter"
           }
          ],
          "scatter3d": [
           {
            "line": {
             "colorbar": {
              "outlinewidth": 0,
              "ticks": ""
             }
            },
            "marker": {
             "colorbar": {
              "outlinewidth": 0,
              "ticks": ""
             }
            },
            "type": "scatter3d"
           }
          ],
          "scattercarpet": [
           {
            "marker": {
             "colorbar": {
              "outlinewidth": 0,
              "ticks": ""
             }
            },
            "type": "scattercarpet"
           }
          ],
          "scattergeo": [
           {
            "marker": {
             "colorbar": {
              "outlinewidth": 0,
              "ticks": ""
             }
            },
            "type": "scattergeo"
           }
          ],
          "scattergl": [
           {
            "marker": {
             "colorbar": {
              "outlinewidth": 0,
              "ticks": ""
             }
            },
            "type": "scattergl"
           }
          ],
          "scattermapbox": [
           {
            "marker": {
             "colorbar": {
              "outlinewidth": 0,
              "ticks": ""
             }
            },
            "type": "scattermapbox"
           }
          ],
          "scatterpolar": [
           {
            "marker": {
             "colorbar": {
              "outlinewidth": 0,
              "ticks": ""
             }
            },
            "type": "scatterpolar"
           }
          ],
          "scatterpolargl": [
           {
            "marker": {
             "colorbar": {
              "outlinewidth": 0,
              "ticks": ""
             }
            },
            "type": "scatterpolargl"
           }
          ],
          "scatterternary": [
           {
            "marker": {
             "colorbar": {
              "outlinewidth": 0,
              "ticks": ""
             }
            },
            "type": "scatterternary"
           }
          ],
          "surface": [
           {
            "colorbar": {
             "outlinewidth": 0,
             "ticks": ""
            },
            "colorscale": [
             [
              0,
              "#0d0887"
             ],
             [
              0.1111111111111111,
              "#46039f"
             ],
             [
              0.2222222222222222,
              "#7201a8"
             ],
             [
              0.3333333333333333,
              "#9c179e"
             ],
             [
              0.4444444444444444,
              "#bd3786"
             ],
             [
              0.5555555555555556,
              "#d8576b"
             ],
             [
              0.6666666666666666,
              "#ed7953"
             ],
             [
              0.7777777777777778,
              "#fb9f3a"
             ],
             [
              0.8888888888888888,
              "#fdca26"
             ],
             [
              1,
              "#f0f921"
             ]
            ],
            "type": "surface"
           }
          ],
          "table": [
           {
            "cells": {
             "fill": {
              "color": "#EBF0F8"
             },
             "line": {
              "color": "white"
             }
            },
            "header": {
             "fill": {
              "color": "#C8D4E3"
             },
             "line": {
              "color": "white"
             }
            },
            "type": "table"
           }
          ]
         },
         "layout": {
          "annotationdefaults": {
           "arrowcolor": "#2a3f5f",
           "arrowhead": 0,
           "arrowwidth": 1
          },
          "autotypenumbers": "strict",
          "coloraxis": {
           "colorbar": {
            "outlinewidth": 0,
            "ticks": ""
           }
          },
          "colorscale": {
           "diverging": [
            [
             0,
             "#8e0152"
            ],
            [
             0.1,
             "#c51b7d"
            ],
            [
             0.2,
             "#de77ae"
            ],
            [
             0.3,
             "#f1b6da"
            ],
            [
             0.4,
             "#fde0ef"
            ],
            [
             0.5,
             "#f7f7f7"
            ],
            [
             0.6,
             "#e6f5d0"
            ],
            [
             0.7,
             "#b8e186"
            ],
            [
             0.8,
             "#7fbc41"
            ],
            [
             0.9,
             "#4d9221"
            ],
            [
             1,
             "#276419"
            ]
           ],
           "sequential": [
            [
             0,
             "#0d0887"
            ],
            [
             0.1111111111111111,
             "#46039f"
            ],
            [
             0.2222222222222222,
             "#7201a8"
            ],
            [
             0.3333333333333333,
             "#9c179e"
            ],
            [
             0.4444444444444444,
             "#bd3786"
            ],
            [
             0.5555555555555556,
             "#d8576b"
            ],
            [
             0.6666666666666666,
             "#ed7953"
            ],
            [
             0.7777777777777778,
             "#fb9f3a"
            ],
            [
             0.8888888888888888,
             "#fdca26"
            ],
            [
             1,
             "#f0f921"
            ]
           ],
           "sequentialminus": [
            [
             0,
             "#0d0887"
            ],
            [
             0.1111111111111111,
             "#46039f"
            ],
            [
             0.2222222222222222,
             "#7201a8"
            ],
            [
             0.3333333333333333,
             "#9c179e"
            ],
            [
             0.4444444444444444,
             "#bd3786"
            ],
            [
             0.5555555555555556,
             "#d8576b"
            ],
            [
             0.6666666666666666,
             "#ed7953"
            ],
            [
             0.7777777777777778,
             "#fb9f3a"
            ],
            [
             0.8888888888888888,
             "#fdca26"
            ],
            [
             1,
             "#f0f921"
            ]
           ]
          },
          "colorway": [
           "#636efa",
           "#EF553B",
           "#00cc96",
           "#ab63fa",
           "#FFA15A",
           "#19d3f3",
           "#FF6692",
           "#B6E880",
           "#FF97FF",
           "#FECB52"
          ],
          "font": {
           "color": "#2a3f5f"
          },
          "geo": {
           "bgcolor": "white",
           "lakecolor": "white",
           "landcolor": "#E5ECF6",
           "showlakes": true,
           "showland": true,
           "subunitcolor": "white"
          },
          "hoverlabel": {
           "align": "left"
          },
          "hovermode": "closest",
          "mapbox": {
           "style": "light"
          },
          "paper_bgcolor": "white",
          "plot_bgcolor": "#E5ECF6",
          "polar": {
           "angularaxis": {
            "gridcolor": "white",
            "linecolor": "white",
            "ticks": ""
           },
           "bgcolor": "#E5ECF6",
           "radialaxis": {
            "gridcolor": "white",
            "linecolor": "white",
            "ticks": ""
           }
          },
          "scene": {
           "xaxis": {
            "backgroundcolor": "#E5ECF6",
            "gridcolor": "white",
            "gridwidth": 2,
            "linecolor": "white",
            "showbackground": true,
            "ticks": "",
            "zerolinecolor": "white"
           },
           "yaxis": {
            "backgroundcolor": "#E5ECF6",
            "gridcolor": "white",
            "gridwidth": 2,
            "linecolor": "white",
            "showbackground": true,
            "ticks": "",
            "zerolinecolor": "white"
           },
           "zaxis": {
            "backgroundcolor": "#E5ECF6",
            "gridcolor": "white",
            "gridwidth": 2,
            "linecolor": "white",
            "showbackground": true,
            "ticks": "",
            "zerolinecolor": "white"
           }
          },
          "shapedefaults": {
           "line": {
            "color": "#2a3f5f"
           }
          },
          "ternary": {
           "aaxis": {
            "gridcolor": "white",
            "linecolor": "white",
            "ticks": ""
           },
           "baxis": {
            "gridcolor": "white",
            "linecolor": "white",
            "ticks": ""
           },
           "bgcolor": "#E5ECF6",
           "caxis": {
            "gridcolor": "white",
            "linecolor": "white",
            "ticks": ""
           }
          },
          "title": {
           "x": 0.05
          },
          "xaxis": {
           "automargin": true,
           "gridcolor": "white",
           "linecolor": "white",
           "ticks": "",
           "title": {
            "standoff": 15
           },
           "zerolinecolor": "white",
           "zerolinewidth": 2
          },
          "yaxis": {
           "automargin": true,
           "gridcolor": "white",
           "linecolor": "white",
           "ticks": "",
           "title": {
            "standoff": 15
           },
           "zerolinecolor": "white",
           "zerolinewidth": 2
          }
         }
        },
        "xaxis": {
         "anchor": "y",
         "domain": [
          0,
          1
         ],
         "title": {
          "text": "x"
         }
        },
        "yaxis": {
         "anchor": "x",
         "domain": [
          0,
          1
         ],
         "title": {
          "text": "y"
         }
        }
       }
      }
     },
     "metadata": {},
     "output_type": "display_data"
    }
   ],
   "source": [
    "# 전국 전기차 정규분포\n",
    "show_norm(df_elec_vehicle.mean(), df_elec_vehicle.std(), df_elec_vehicle.min(), df_elec_vehicle.max())\n",
    "show_norm(df_hidro_vehicle.mean(), df_hidro_vehicle.std(), df_hidro_vehicle.min(), df_hidro_vehicle.max())"
   ]
  },
  {
   "cell_type": "code",
   "execution_count": 474,
   "metadata": {},
   "outputs": [
    {
     "name": "stdout",
     "output_type": "stream",
     "text": [
      "서울    196412\n",
      "부산     82148\n",
      "대구     69348\n",
      "인천    113834\n",
      "광주     31416\n",
      "대전     34591\n",
      "울산     24192\n",
      "세종     13508\n",
      "경기    314171\n",
      "강원     34015\n",
      "충북     37482\n",
      "충남     46000\n",
      "전북     35858\n",
      "전남     50131\n",
      "경북     51396\n",
      "경남     73984\n",
      "제주     57664\n",
      "dtype: int32\n",
      "서울    2435\n",
      "부산    1473\n",
      "대구     352\n",
      "인천    1139\n",
      "광주    1018\n",
      "대전    1045\n",
      "울산    2395\n",
      "세종     205\n",
      "경기    4004\n",
      "강원    1959\n",
      "충북    1095\n",
      "충남     908\n",
      "전북    1435\n",
      "전남     448\n",
      "경북      77\n",
      "경남    1899\n",
      "제주       5\n",
      "Name: 8, dtype: int32\n"
     ]
    }
   ],
   "source": [
    "print(df_elec_vehicle)\n",
    "print(df_hidro_vehicle)"
   ]
  },
  {
   "cell_type": "code",
   "execution_count": 475,
   "metadata": {},
   "outputs": [
    {
     "data": {
      "application/vnd.plotly.v1+json": {
       "config": {
        "plotlyServerURL": "https://plot.ly"
       },
       "data": [
        {
         "fill": "tozeroy",
         "line": {
          "color": "rgb(100,110,250)"
         },
         "name": "적합",
         "text": "0.5056384417276619",
         "type": "scatter",
         "x": [
          -61643.08758782105,
          -60190.65235966124,
          -58738.217131501435,
          -57285.78190334162,
          -55833.34667518181,
          -54380.91144702201,
          -52928.4762188622,
          -51476.040990702386,
          -50023.60576254258,
          -48571.17053438277,
          -47118.73530622297,
          -45666.300078063156,
          -44213.864849903344,
          -42761.42962174353,
          -41308.99439358373,
          -39856.55916542392,
          -38404.123937264114,
          -36951.6887091043,
          -35499.25348094449,
          -34046.81825278468,
          -32594.383024624876,
          -31141.947796465065,
          -29689.512568305257,
          -28237.07734014545,
          -26784.64211198564,
          -25332.206883825835,
          -23879.771655666023,
          -22427.336427506212,
          -20974.90119934641,
          -19522.465971186597,
          -18070.030743026786,
          -16617.595514866982,
          -15165.16028670717,
          -13712.72505854736,
          -12260.289830387555,
          -10807.854602227744,
          -9355.419374067933,
          -7902.984145908129,
          -6450.548917748318,
          -4998.1136895885065,
          -3545.6784614287026,
          -2093.2432332688913,
          -640.8080051090801,
          811.6272230507238,
          2264.062451210535,
          3716.4976793703463,
          5168.93290753015,
          6621.3681356899615,
          8073.803363849773,
          9526.238592009584,
          10978.67382016938,
          12431.109048329192,
          13883.544276489003,
          15335.979504648814,
          16788.414732808626,
          18240.849960968437,
          19693.285189128233,
          21145.720417288045,
          22598.155645447856,
          24050.590873607667,
          25503.02610176748,
          26955.46132992729,
          28407.896558087086,
          29860.331786246898,
          31312.76701440671,
          32765.20224256652,
          34217.63747072633,
          35670.07269888613,
          37122.50792704594,
          38574.94315520575,
          40027.37838336556,
          41479.81361152537,
          42932.248839685184,
          44384.68406784498,
          45837.11929600479,
          47289.5545241646,
          48741.989752324414,
          50194.424980484226,
          51646.86020864404,
          53099.29543680383,
          54551.730664963645,
          56004.165893123456,
          57456.60112128327,
          58909.03634944308,
          60361.47157760289,
          61813.90680576269,
          63266.3420339225,
          64718.77726208231,
          66171.21249024212,
          67623.64771840193,
          69076.08294656174,
          70528.51817472155,
          71980.95340288135,
          73433.38863104118,
          74885.82385920097,
          76338.25908736077,
          77790.6943155206,
          79243.12954368039,
          80695.56477184022,
          82148
         ],
         "y": [
          0.0000010293012256662106,
          0.000001065773138534624,
          0.0000011031252598859684,
          0.0000011413600505706253,
          0.0000011804790511780276,
          0.0000012204828478032385,
          0.0000012613710384463778,
          0.0000013031422001431046,
          0.0000013457938569258306,
          0.000001389322448716444,
          0.0000014337233012522238,
          0.0000014789905971472315,
          0.0000015251173481917628,
          0.0000015720953689924682,
          0.0000016199152520554404,
          0.0000016685663444139495,
          0.0000017180367259015633,
          0.0000017683131891700914,
          0.0000018193812215501969,
          0.0000018712249888505168,
          0.0000019238273211888392,
          0.000001977169700946215,
          0.0000020312322529318356,
          0.0000020859937368431812,
          0.000002141431542102164,
          0.000002197521685143971,
          0.0000022542388092308648,
          0.000002311556186858439,
          0.0000023694457248168036,
          0.0000024278779719636706,
          0.000002486822129760683,
          0.000002546246065618271,
          0.0000026061163290880086,
          0.000002666398170934891,
          0.0000027270555651150785,
          0.0000027880512336776374,
          0.0000028493466746014223,
          0.0000029109021925708276,
          0.0000029726769326864043,
          0.000003034628917098491,
          0.0000030967150845440705,
          0.0000031588913327589075,
          0.0000032211125637289154,
          0.0000032833327317363946,
          0.0000033455048941485376,
          0.0000034075812648873314,
          0.0000034695132705116617,
          0.000003531251608834301,
          0.0000035927463099882245,
          0.000003653946799848757,
          0.0000037148019657100985,
          0.0000037752602241070796,
          0.000003835269590665448,
          0.000003894777751856693,
          0.00000395373213852633,
          0.000004012080001057811,
          0.000004069768486027747,
          0.000004126744714201984,
          0.000004182955859716289,
          0.000004238349230280043,
          0.000004292872348236307,
          0.000004346473032307099,
          0.000004399099479848626,
          0.000004450700349437557,
          0.0000045012248436063085,
          0.00000455062279154269,
          0.00000459884473156712,
          0.000004645841993199077,
          0.000004691566778623434,
          0.0000047359722433668265,
          0.0000047790125759943446,
          0.000004820643076637473,
          0.000004860820234165478,
          0.0000048995018018142396,
          0.000004936646871088937,
          0.000004972215943759942,
          0.000005006171001774824,
          0.000005038475574913462,
          0.000005069094806017897,
          0.000005097995513633712,
          0.000005125146251905489,
          0.0000051505173675750465,
          0.000005174081053937892,
          0.000005195811401620504,
          0.000005215684446048659,
          0.000005233678211485099,
          0.000005249772751523254,
          0.000005263950185932592,
          0.000005276194733760315,
          0.000005286492742603641,
          0.000005294832713976626,
          0.0000053012053247056,
          0.000005305603444297445,
          0.000005308022148235452,
          0.000005308458727168036,
          0.0000053069126919663125,
          0.0000053033857746373315,
          0.000005297881925090556,
          0.0000052904073037660635,
          0.000005280970270143716
         ]
        },
        {
         "fill": "tozeroy",
         "line": {
          "color": "rgb(239,85,59)"
         },
         "name": "부적합",
         "text": "0.5056384417276619",
         "type": "scatter",
         "x": [
          82148,
          84491.66666666667,
          86835.33333333333,
          89179,
          91522.66666666667,
          93866.33333333333,
          96210,
          98553.66666666666,
          100897.33333333333,
          103241,
          105584.66666666666,
          107928.33333333333,
          110272,
          112615.66666666666,
          114959.33333333333,
          117303,
          119646.66666666666,
          121990.33333333333,
          124334,
          126677.66666666666,
          129021.33333333333,
          131365,
          133708.66666666666,
          136052.3333333333,
          138396,
          140739.66666666666,
          143083.3333333333,
          145427,
          147770.66666666666,
          150114.3333333333,
          152458,
          154801.66666666666,
          157145.3333333333,
          159489,
          161832.66666666666,
          164176.3333333333,
          166520,
          168863.66666666666,
          171207.3333333333,
          173551,
          175894.66666666666,
          178238.3333333333,
          180582,
          182925.66666666666,
          185269.3333333333,
          187613,
          189956.66666666666,
          192300.3333333333,
          194644,
          196987.66666666666,
          199331.3333333333,
          201675,
          204018.66666666666,
          206362.3333333333,
          208706,
          211049.66666666666,
          213393.3333333333,
          215737,
          218080.66666666666,
          220424.3333333333,
          222768,
          225111.66666666666,
          227455.3333333333,
          229799,
          232142.66666666666,
          234486.3333333333,
          236830,
          239173.66666666666,
          241517.3333333333,
          243861,
          246204.66666666666,
          248548.3333333333,
          250892,
          253235.66666666666,
          255579.3333333333,
          257923,
          260266.66666666666,
          262610.3333333333,
          264954,
          267297.6666666666,
          269641.3333333333,
          271985,
          274328.6666666666,
          276672.3333333333,
          279016,
          281359.6666666666,
          283703.3333333333,
          286047,
          288390.6666666666,
          290734.3333333333,
          293078,
          295421.6666666666,
          297765.3333333333,
          300109,
          302452.6666666666,
          304796.3333333333,
          307140,
          309483.6666666666,
          311827.3333333333,
          314171
         ],
         "y": [
          0.000005280970270143716,
          0.00000526163208908525,
          0.000005237268630410379,
          0.000005207950420827784,
          0.000005173762037805757,
          0.0000051348017030719956,
          0.000005091180812495297,
          0.000005043023405498022,
          0.0000049904655775357355,
          0.000004933654839537727,
          0.000004872749428526176,
          0.0000048079175739201466,
          0.0000047393367242812,
          0.0000046671927394683745,
          0.000004591679053340308,
          0.000004512995812270394,
          0.000004431348994826523,
          0.000004346949518009997,
          0.000004260012335449133,
          0.000004170755532902179,
          0.000004079399426343034,
          0.000003986165667782895,
          0.000003891276363823491,
          0.000003794953211744897,
          0.0000036974166577056192,
          0.000003598885081377318,
          0.00000349957401105405,
          0.000003399695372969521,
          0.0000032994567782285575,
          0.00000319906085041442,
          0.0000030987045965750217,
          0.0000029985788239220525,
          0.0000028988676042009388,
          0.000002799747787310078,
          0.000002701388565367934,
          0.0000026039510880499745,
          0.0000025075881296470188,
          0.0000024124438079353494,
          0.000002318653354599695,
          0.0000022263429366156096,
          0.00000213562952767996,
          0.0000020466208284794835,
          0.000001959415234309503,
          0.0000018741018482992696,
          0.0000017907605382685792,
          0.000001709462035033118,
          0.0000016302680697942179,
          0.00000155323154809281,
          0.000001478396757677556,
          0.0000014057996075333198,
          0.0000013354678952380356,
          0.0000012674215997630884,
          0.0000012016731968038256,
          0.0000011382279937217394,
          0.000001077084481197211,
          0.0000010182346987300894,
          9.616646111834295e-7,
          9.073544936419496e-7,
          8.552793219495179e-7,
          8.054091663975472e-7,
          7.577095861569188e-7,
          7.121420221781447e-7,
          6.686641864260953e-7,
          6.272304454651734e-7,
          5.877921965663994e-7,
          5.50298234667905e-7,
          5.146951086831728e-7,
          4.80927465815443e-7,
          4.4893838270056216e-7,
          4.186696823628341e-7,
          3.900622361278463e-7,
          3.630562497916282e-7,
          3.375915334958322e-7,
          3.136077549029531e-7,
          2.9104467540310595e-7,
          2.6984236921390875e-7,
          2.4994142535694784e-7,
          2.3128313260770487e-7,
          2.138096476203541e-7,
          1.974641465242464e-7,
          1.8219096037504065e-7,
          1.6793569492033092e-7,
          1.546453352072119e-7,
          1.4226833561777166e-7,
          1.3075469596810933e-7,
          1.2005602434746653e-7,
          1.1012558740678358e-7,
          1.0091834883079117e-7,
          9.23909967450713e-8,
          8.450196081984343e-8,
          7.721141983602533e-8,
          7.048130047688839e-8,
          6.427526810092378e-8,
          5.8558710238868805e-8,
          5.329871354073752e-8,
          4.846403487770918e-8,
          4.402506727934626e-8,
          3.9953801359344544e-8,
          3.6223782853363345e-8,
          3.281006686089094e-8
         ]
        }
       ],
       "layout": {
        "annotations": [
         {
          "bordercolor": "rgb(100,110,250)",
          "borderwidth": 2,
          "font": {
           "color": "rgb(100,110,250)",
           "size": 15
          },
          "showarrow": false,
          "text": "0.506",
          "x": 82148,
          "xshift": -40,
          "y": 0.000005280970270143716,
          "yshift": -100
         },
         {
          "bordercolor": "rgb(239,85,59)",
          "borderwidth": 2,
          "font": {
           "color": "rgb(239,85,59)",
           "size": 15
          },
          "showarrow": false,
          "text": "0.494",
          "x": 82148,
          "xshift": 40,
          "y": 0.000005280970270143716,
          "yshift": -100
         }
        ],
        "template": {
         "data": {
          "bar": [
           {
            "error_x": {
             "color": "#2a3f5f"
            },
            "error_y": {
             "color": "#2a3f5f"
            },
            "marker": {
             "line": {
              "color": "#E5ECF6",
              "width": 0.5
             },
             "pattern": {
              "fillmode": "overlay",
              "size": 10,
              "solidity": 0.2
             }
            },
            "type": "bar"
           }
          ],
          "barpolar": [
           {
            "marker": {
             "line": {
              "color": "#E5ECF6",
              "width": 0.5
             },
             "pattern": {
              "fillmode": "overlay",
              "size": 10,
              "solidity": 0.2
             }
            },
            "type": "barpolar"
           }
          ],
          "carpet": [
           {
            "aaxis": {
             "endlinecolor": "#2a3f5f",
             "gridcolor": "white",
             "linecolor": "white",
             "minorgridcolor": "white",
             "startlinecolor": "#2a3f5f"
            },
            "baxis": {
             "endlinecolor": "#2a3f5f",
             "gridcolor": "white",
             "linecolor": "white",
             "minorgridcolor": "white",
             "startlinecolor": "#2a3f5f"
            },
            "type": "carpet"
           }
          ],
          "choropleth": [
           {
            "colorbar": {
             "outlinewidth": 0,
             "ticks": ""
            },
            "type": "choropleth"
           }
          ],
          "contour": [
           {
            "colorbar": {
             "outlinewidth": 0,
             "ticks": ""
            },
            "colorscale": [
             [
              0,
              "#0d0887"
             ],
             [
              0.1111111111111111,
              "#46039f"
             ],
             [
              0.2222222222222222,
              "#7201a8"
             ],
             [
              0.3333333333333333,
              "#9c179e"
             ],
             [
              0.4444444444444444,
              "#bd3786"
             ],
             [
              0.5555555555555556,
              "#d8576b"
             ],
             [
              0.6666666666666666,
              "#ed7953"
             ],
             [
              0.7777777777777778,
              "#fb9f3a"
             ],
             [
              0.8888888888888888,
              "#fdca26"
             ],
             [
              1,
              "#f0f921"
             ]
            ],
            "type": "contour"
           }
          ],
          "contourcarpet": [
           {
            "colorbar": {
             "outlinewidth": 0,
             "ticks": ""
            },
            "type": "contourcarpet"
           }
          ],
          "heatmap": [
           {
            "colorbar": {
             "outlinewidth": 0,
             "ticks": ""
            },
            "colorscale": [
             [
              0,
              "#0d0887"
             ],
             [
              0.1111111111111111,
              "#46039f"
             ],
             [
              0.2222222222222222,
              "#7201a8"
             ],
             [
              0.3333333333333333,
              "#9c179e"
             ],
             [
              0.4444444444444444,
              "#bd3786"
             ],
             [
              0.5555555555555556,
              "#d8576b"
             ],
             [
              0.6666666666666666,
              "#ed7953"
             ],
             [
              0.7777777777777778,
              "#fb9f3a"
             ],
             [
              0.8888888888888888,
              "#fdca26"
             ],
             [
              1,
              "#f0f921"
             ]
            ],
            "type": "heatmap"
           }
          ],
          "heatmapgl": [
           {
            "colorbar": {
             "outlinewidth": 0,
             "ticks": ""
            },
            "colorscale": [
             [
              0,
              "#0d0887"
             ],
             [
              0.1111111111111111,
              "#46039f"
             ],
             [
              0.2222222222222222,
              "#7201a8"
             ],
             [
              0.3333333333333333,
              "#9c179e"
             ],
             [
              0.4444444444444444,
              "#bd3786"
             ],
             [
              0.5555555555555556,
              "#d8576b"
             ],
             [
              0.6666666666666666,
              "#ed7953"
             ],
             [
              0.7777777777777778,
              "#fb9f3a"
             ],
             [
              0.8888888888888888,
              "#fdca26"
             ],
             [
              1,
              "#f0f921"
             ]
            ],
            "type": "heatmapgl"
           }
          ],
          "histogram": [
           {
            "marker": {
             "pattern": {
              "fillmode": "overlay",
              "size": 10,
              "solidity": 0.2
             }
            },
            "type": "histogram"
           }
          ],
          "histogram2d": [
           {
            "colorbar": {
             "outlinewidth": 0,
             "ticks": ""
            },
            "colorscale": [
             [
              0,
              "#0d0887"
             ],
             [
              0.1111111111111111,
              "#46039f"
             ],
             [
              0.2222222222222222,
              "#7201a8"
             ],
             [
              0.3333333333333333,
              "#9c179e"
             ],
             [
              0.4444444444444444,
              "#bd3786"
             ],
             [
              0.5555555555555556,
              "#d8576b"
             ],
             [
              0.6666666666666666,
              "#ed7953"
             ],
             [
              0.7777777777777778,
              "#fb9f3a"
             ],
             [
              0.8888888888888888,
              "#fdca26"
             ],
             [
              1,
              "#f0f921"
             ]
            ],
            "type": "histogram2d"
           }
          ],
          "histogram2dcontour": [
           {
            "colorbar": {
             "outlinewidth": 0,
             "ticks": ""
            },
            "colorscale": [
             [
              0,
              "#0d0887"
             ],
             [
              0.1111111111111111,
              "#46039f"
             ],
             [
              0.2222222222222222,
              "#7201a8"
             ],
             [
              0.3333333333333333,
              "#9c179e"
             ],
             [
              0.4444444444444444,
              "#bd3786"
             ],
             [
              0.5555555555555556,
              "#d8576b"
             ],
             [
              0.6666666666666666,
              "#ed7953"
             ],
             [
              0.7777777777777778,
              "#fb9f3a"
             ],
             [
              0.8888888888888888,
              "#fdca26"
             ],
             [
              1,
              "#f0f921"
             ]
            ],
            "type": "histogram2dcontour"
           }
          ],
          "mesh3d": [
           {
            "colorbar": {
             "outlinewidth": 0,
             "ticks": ""
            },
            "type": "mesh3d"
           }
          ],
          "parcoords": [
           {
            "line": {
             "colorbar": {
              "outlinewidth": 0,
              "ticks": ""
             }
            },
            "type": "parcoords"
           }
          ],
          "pie": [
           {
            "automargin": true,
            "type": "pie"
           }
          ],
          "scatter": [
           {
            "marker": {
             "colorbar": {
              "outlinewidth": 0,
              "ticks": ""
             }
            },
            "type": "scatter"
           }
          ],
          "scatter3d": [
           {
            "line": {
             "colorbar": {
              "outlinewidth": 0,
              "ticks": ""
             }
            },
            "marker": {
             "colorbar": {
              "outlinewidth": 0,
              "ticks": ""
             }
            },
            "type": "scatter3d"
           }
          ],
          "scattercarpet": [
           {
            "marker": {
             "colorbar": {
              "outlinewidth": 0,
              "ticks": ""
             }
            },
            "type": "scattercarpet"
           }
          ],
          "scattergeo": [
           {
            "marker": {
             "colorbar": {
              "outlinewidth": 0,
              "ticks": ""
             }
            },
            "type": "scattergeo"
           }
          ],
          "scattergl": [
           {
            "marker": {
             "colorbar": {
              "outlinewidth": 0,
              "ticks": ""
             }
            },
            "type": "scattergl"
           }
          ],
          "scattermapbox": [
           {
            "marker": {
             "colorbar": {
              "outlinewidth": 0,
              "ticks": ""
             }
            },
            "type": "scattermapbox"
           }
          ],
          "scatterpolar": [
           {
            "marker": {
             "colorbar": {
              "outlinewidth": 0,
              "ticks": ""
             }
            },
            "type": "scatterpolar"
           }
          ],
          "scatterpolargl": [
           {
            "marker": {
             "colorbar": {
              "outlinewidth": 0,
              "ticks": ""
             }
            },
            "type": "scatterpolargl"
           }
          ],
          "scatterternary": [
           {
            "marker": {
             "colorbar": {
              "outlinewidth": 0,
              "ticks": ""
             }
            },
            "type": "scatterternary"
           }
          ],
          "surface": [
           {
            "colorbar": {
             "outlinewidth": 0,
             "ticks": ""
            },
            "colorscale": [
             [
              0,
              "#0d0887"
             ],
             [
              0.1111111111111111,
              "#46039f"
             ],
             [
              0.2222222222222222,
              "#7201a8"
             ],
             [
              0.3333333333333333,
              "#9c179e"
             ],
             [
              0.4444444444444444,
              "#bd3786"
             ],
             [
              0.5555555555555556,
              "#d8576b"
             ],
             [
              0.6666666666666666,
              "#ed7953"
             ],
             [
              0.7777777777777778,
              "#fb9f3a"
             ],
             [
              0.8888888888888888,
              "#fdca26"
             ],
             [
              1,
              "#f0f921"
             ]
            ],
            "type": "surface"
           }
          ],
          "table": [
           {
            "cells": {
             "fill": {
              "color": "#EBF0F8"
             },
             "line": {
              "color": "white"
             }
            },
            "header": {
             "fill": {
              "color": "#C8D4E3"
             },
             "line": {
              "color": "white"
             }
            },
            "type": "table"
           }
          ]
         },
         "layout": {
          "annotationdefaults": {
           "arrowcolor": "#2a3f5f",
           "arrowhead": 0,
           "arrowwidth": 1
          },
          "autotypenumbers": "strict",
          "coloraxis": {
           "colorbar": {
            "outlinewidth": 0,
            "ticks": ""
           }
          },
          "colorscale": {
           "diverging": [
            [
             0,
             "#8e0152"
            ],
            [
             0.1,
             "#c51b7d"
            ],
            [
             0.2,
             "#de77ae"
            ],
            [
             0.3,
             "#f1b6da"
            ],
            [
             0.4,
             "#fde0ef"
            ],
            [
             0.5,
             "#f7f7f7"
            ],
            [
             0.6,
             "#e6f5d0"
            ],
            [
             0.7,
             "#b8e186"
            ],
            [
             0.8,
             "#7fbc41"
            ],
            [
             0.9,
             "#4d9221"
            ],
            [
             1,
             "#276419"
            ]
           ],
           "sequential": [
            [
             0,
             "#0d0887"
            ],
            [
             0.1111111111111111,
             "#46039f"
            ],
            [
             0.2222222222222222,
             "#7201a8"
            ],
            [
             0.3333333333333333,
             "#9c179e"
            ],
            [
             0.4444444444444444,
             "#bd3786"
            ],
            [
             0.5555555555555556,
             "#d8576b"
            ],
            [
             0.6666666666666666,
             "#ed7953"
            ],
            [
             0.7777777777777778,
             "#fb9f3a"
            ],
            [
             0.8888888888888888,
             "#fdca26"
            ],
            [
             1,
             "#f0f921"
            ]
           ],
           "sequentialminus": [
            [
             0,
             "#0d0887"
            ],
            [
             0.1111111111111111,
             "#46039f"
            ],
            [
             0.2222222222222222,
             "#7201a8"
            ],
            [
             0.3333333333333333,
             "#9c179e"
            ],
            [
             0.4444444444444444,
             "#bd3786"
            ],
            [
             0.5555555555555556,
             "#d8576b"
            ],
            [
             0.6666666666666666,
             "#ed7953"
            ],
            [
             0.7777777777777778,
             "#fb9f3a"
            ],
            [
             0.8888888888888888,
             "#fdca26"
            ],
            [
             1,
             "#f0f921"
            ]
           ]
          },
          "colorway": [
           "#636efa",
           "#EF553B",
           "#00cc96",
           "#ab63fa",
           "#FFA15A",
           "#19d3f3",
           "#FF6692",
           "#B6E880",
           "#FF97FF",
           "#FECB52"
          ],
          "font": {
           "color": "#2a3f5f"
          },
          "geo": {
           "bgcolor": "white",
           "lakecolor": "white",
           "landcolor": "#E5ECF6",
           "showlakes": true,
           "showland": true,
           "subunitcolor": "white"
          },
          "hoverlabel": {
           "align": "left"
          },
          "hovermode": "closest",
          "mapbox": {
           "style": "light"
          },
          "paper_bgcolor": "white",
          "plot_bgcolor": "#E5ECF6",
          "polar": {
           "angularaxis": {
            "gridcolor": "white",
            "linecolor": "white",
            "ticks": ""
           },
           "bgcolor": "#E5ECF6",
           "radialaxis": {
            "gridcolor": "white",
            "linecolor": "white",
            "ticks": ""
           }
          },
          "scene": {
           "xaxis": {
            "backgroundcolor": "#E5ECF6",
            "gridcolor": "white",
            "gridwidth": 2,
            "linecolor": "white",
            "showbackground": true,
            "ticks": "",
            "zerolinecolor": "white"
           },
           "yaxis": {
            "backgroundcolor": "#E5ECF6",
            "gridcolor": "white",
            "gridwidth": 2,
            "linecolor": "white",
            "showbackground": true,
            "ticks": "",
            "zerolinecolor": "white"
           },
           "zaxis": {
            "backgroundcolor": "#E5ECF6",
            "gridcolor": "white",
            "gridwidth": 2,
            "linecolor": "white",
            "showbackground": true,
            "ticks": "",
            "zerolinecolor": "white"
           }
          },
          "shapedefaults": {
           "line": {
            "color": "#2a3f5f"
           }
          },
          "ternary": {
           "aaxis": {
            "gridcolor": "white",
            "linecolor": "white",
            "ticks": ""
           },
           "baxis": {
            "gridcolor": "white",
            "linecolor": "white",
            "ticks": ""
           },
           "bgcolor": "#E5ECF6",
           "caxis": {
            "gridcolor": "white",
            "linecolor": "white",
            "ticks": ""
           }
          },
          "title": {
           "x": 0.05
          },
          "xaxis": {
           "automargin": true,
           "gridcolor": "white",
           "linecolor": "white",
           "ticks": "",
           "title": {
            "standoff": 15
           },
           "zerolinecolor": "white",
           "zerolinewidth": 2
          },
          "yaxis": {
           "automargin": true,
           "gridcolor": "white",
           "linecolor": "white",
           "ticks": "",
           "title": {
            "standoff": 15
           },
           "zerolinecolor": "white",
           "zerolinewidth": 2
          }
         }
        }
       }
      }
     },
     "metadata": {},
     "output_type": "display_data"
    },
    {
     "name": "stdout",
     "output_type": "stream",
     "text": [
      "0.5056384417276619\n"
     ]
    },
    {
     "data": {
      "application/vnd.plotly.v1+json": {
       "config": {
        "plotlyServerURL": "https://plot.ly"
       },
       "data": [
        {
         "fill": "tozeroy",
         "line": {
          "color": "rgb(100,110,250)"
         },
         "name": "적합",
         "text": "0.5593075575000511",
         "type": "scatter",
         "x": [
          -1025.7795308292025,
          -1000.5393335480994,
          -975.2991362669964,
          -950.0589389858933,
          -924.8187417047902,
          -899.5785444236872,
          -874.3383471425841,
          -849.0981498614811,
          -823.8579525803781,
          -798.617755299275,
          -773.377558018172,
          -748.1373607370689,
          -722.8971634559658,
          -697.6569661748628,
          -672.4167688937598,
          -647.1765716126567,
          -621.9363743315537,
          -596.6961770504506,
          -571.4559797693476,
          -546.2157824882445,
          -520.9755852071414,
          -495.73538792603836,
          -470.4951906449353,
          -445.2549933638322,
          -420.01479608272916,
          -394.7745988016261,
          -369.53440152052303,
          -344.2942042394201,
          -319.054006958317,
          -293.81380967721395,
          -268.5736123961109,
          -243.33341511500782,
          -218.09321783390476,
          -192.8530205528017,
          -167.61282327169863,
          -142.37262599059557,
          -117.1324287094925,
          -91.89223142838944,
          -66.65203414728649,
          -41.41183686618342,
          -16.171639585080356,
          9.068557696022708,
          34.30875497712577,
          59.54895225822884,
          84.7891495393319,
          110.02934682043497,
          135.26954410153803,
          160.5097413826411,
          185.74993866374416,
          210.99013594484722,
          236.2303332259503,
          261.47053050705335,
          286.7107277881564,
          311.9509250692595,
          337.1911223503623,
          362.4313196314654,
          387.67151691256845,
          412.9117141936715,
          438.1519114747746,
          463.39210875587764,
          488.6323060369807,
          513.8725033180838,
          539.1127005991868,
          564.3528978802899,
          589.593095161393,
          614.833292442496,
          640.0734897235991,
          665.3136870047022,
          690.5538842858052,
          715.7940815669083,
          741.0342788480114,
          766.2744761291144,
          791.5146734102175,
          816.7548706913205,
          841.9950679724236,
          867.2352652535264,
          892.4754625346295,
          917.7156598157326,
          942.9558570968356,
          968.1960543779387,
          993.4362516590418,
          1018.6764489401448,
          1043.916646221248,
          1069.156843502351,
          1094.397040783454,
          1119.637238064557,
          1144.8774353456602,
          1170.1176326267632,
          1195.3578299078663,
          1220.5980271889694,
          1245.8382244700724,
          1271.0784217511755,
          1296.3186190322785,
          1321.5588163133816,
          1346.7990135944847,
          1372.0392108755877,
          1397.2794081566908,
          1422.5196054377939,
          1447.759802718897,
          1473
         ],
         "y": [
          0.00003117758141504347,
          0.00003292915770320913,
          0.000034758291706497094,
          0.000036667037862406766,
          0.000038657416988930174,
          0.000040731409462450904,
          0.000042890948147714676,
          0.000045137911092518126,
          0.00004747411400146042,
          0.00004990130250481531,
          0.000052421144240311574,
          0.00005503522076733806,
          0.00005774501933481651,
          0.000060551924525691454,
          0.00006345720980266865,
          0.00006646202898147876,
          0.00006956740765953812,
          0.00007277423462941661,
          0.00007608325330798801,
          0.00007949505321352485,
          0.00008301006152428769,
          0.00008662853475334815,
          0.00009035055057545141,
          0.00009417599984266912,
          0.0000981045788263948,
          0.00010213578172389098,
          0.00010626889346809171,
          0.00011050298287969318,
          0.00011483689620071395,
          0.00011926925104867394,
          0.0001237984308303096,
          0.00012842257965331986,
          0.00013313959777400182,
          0.00013794713761779652,
          0.0001428426004087096,
          0.00014782313344230367,
          0.0001528856280354733,
          0.00015802671818451576,
          0.00016324277996109147,
          0.00016852993167354902,
          0.00017388403481875082,
          0.00017930069584700864,
          0.0001847752687600064,
          0.00019030285855867977,
          0.0001958783255549326,
          0.0002014962905578215,
          0.00020715114094143694,
          0.0002128370375981727,
          0.00021854792277741308,
          0.0002242775288059055,
          0.00023001938768223037,
          0.00023576684153386233,
          0.0002415130539213417,
          0.0002472510219700819,
          0.00025297358930632393,
          0.0002586734597697632,
          0.00026434321187140903,
          0.00026997531396134487,
          0.00027556214006723453,
          0.00028109598636070923,
          0.00028656908820517914,
          0.0002919736377351768,
          0.0002973018019140689,
          0.0003025457410138984,
          0.0003076976274582501,
          0.00031274966496640537,
          0.000317694107934664,
          0.00032252328098860116,
          0.0003272295986381947,
          0.00033180558496622754,
          0.00033624389327915113,
          0.00034053732564869906,
          0.00034467885227197777,
          0.0003486616305775387,
          0.0003524790240050629,
          0.0003561246203867621,
          0.0003595922498594309,
          0.00036287600223726234,
          0.0003659702437770719,
          0.00036886963326944683,
          0.00037156913739155303,
          0.0003740640452598744,
          0.00037634998212402143,
          0.00037842292214591145,
          0.00038027920021208576,
          0.00038191552273065795,
          0.0003833289773683789,
          0.0003845170416875281,
          0.00038547759064678225,
          0.0003862089029348382,
          0.000386709666110371,
          0.0003869789805268412,
          0.0003870163620257237,
          0.0003868217433868745,
          0.00038639547452995064,
          0.0003857383214660413,
          0.00038485146400390525,
          0.0003837364922204292,
          0.0003823954017100855,
          0.00038083058763325713
         ]
        },
        {
         "fill": "tozeroy",
         "line": {
          "color": "rgb(239,85,59)"
         },
         "name": "부적합",
         "text": "0.5593075575000511",
         "type": "scatter",
         "x": [
          1473,
          1498.5656565656566,
          1524.1313131313132,
          1549.6969696969697,
          1575.2626262626263,
          1600.828282828283,
          1626.3939393939395,
          1651.9595959595958,
          1677.5252525252524,
          1703.090909090909,
          1728.6565656565656,
          1754.2222222222222,
          1779.7878787878788,
          1805.3535353535353,
          1830.919191919192,
          1856.4848484848485,
          1882.050505050505,
          1907.6161616161617,
          1933.181818181818,
          1958.7474747474748,
          1984.3131313131312,
          2009.878787878788,
          2035.4444444444443,
          2061.0101010101007,
          2086.5757575757575,
          2112.1414141414143,
          2137.7070707070707,
          2163.272727272727,
          2188.838383838384,
          2214.40404040404,
          2239.969696969697,
          2265.5353535353534,
          2291.10101010101,
          2316.6666666666665,
          2342.2323232323233,
          2367.7979797979797,
          2393.363636363636,
          2418.929292929293,
          2444.4949494949497,
          2470.060606060606,
          2495.6262626262624,
          2521.191919191919,
          2546.757575757576,
          2572.3232323232323,
          2597.8888888888887,
          2623.454545454545,
          2649.020202020202,
          2674.5858585858587,
          2700.151515151515,
          2725.7171717171714,
          2751.282828282828,
          2776.848484848485,
          2802.4141414141413,
          2827.9797979797977,
          2853.5454545454545,
          2879.1111111111113,
          2904.6767676767677,
          2930.242424242424,
          2955.8080808080804,
          2981.373737373737,
          3006.939393939394,
          3032.5050505050503,
          3058.0707070707067,
          3083.6363636363635,
          3109.2020202020203,
          3134.7676767676767,
          3160.333333333333,
          3185.89898989899,
          3211.4646464646466,
          3237.030303030303,
          3262.5959595959594,
          3288.1616161616157,
          3313.7272727272725,
          3339.2929292929293,
          3364.8585858585857,
          3390.424242424242,
          3415.989898989899,
          3441.5555555555557,
          3467.121212121212,
          3492.6868686868684,
          3518.252525252525,
          3543.8181818181815,
          3569.3838383838383,
          3594.9494949494947,
          3620.5151515151515,
          3646.080808080808,
          3671.6464646464647,
          3697.212121212121,
          3722.777777777778,
          3748.343434343434,
          3773.9090909090905,
          3799.4747474747473,
          3825.0404040404037,
          3850.6060606060605,
          3876.171717171717,
          3901.7373737373737,
          3927.30303030303,
          3952.868686868687,
          3978.434343434343,
          4004
         ],
         "y": [
          0.00038083058763325713,
          0.00037902038195868976,
          0.0003769868052812081,
          0.000374733550501975,
          0.00037226469369273625,
          0.0003695846818110702,
          0.00036669831935627194,
          0.00036361075402190356,
          0.0003603274614049635,
          0.00035685422883521817,
          0.00035319713839149436,
          0.00034936254917463327,
          0.0003453570789093385,
          0.00034118758494930596,
          0.00033686114476179276,
          0.00033238503596916047,
          0.00032776671602590963,
          0.0003230138016103116,
          0.0003181340478099344,
          0.0003131353271801659,
          0.0003080256087542546,
          0.0003028129370824344,
          0.00029750541137638277,
          0.0002921111648335867,
          0.0002866383442141895,
          0.0002810950897405616,
          0.00027548951538721,
          0.00026982968962573355,
          0.0002641236166863592,
          0.00025837921839418505,
          0.00025260431663463157,
          0.00024680661649879073,
          0.00024099369015537716,
          0.00023517296149186905,
          0.00022935169156318634,
          0.00022353696488193128,
          0.00021773567657982424,
          0.0002119545204655448,
          0.00020619997799974427,
          0.00020047830820357039,
          0.00019479553851265102,
          0.0001891574565841511,
          0.000183569603060262,
          0.00017803726528733277,
          0.00017256547198582075,
          0.00016715898886235175,
          0.00016182231515144335,
          0.00015655968107088815,
          0.0001513750461714167,
          0.00014627209855808923,
          0.00014125425495789974,
          0.00013632466160533216,
          0.0001314861959150929,
          0.00012674146890895942,
          0.00012209282836164232,
          0.00011754236262875232,
          0.00011309190511840208,
          0.00010874303936665399,
          0.00010449710467594612,
          0.00010035520227478467,
          0.00009631820195638552,
          0.00009238674915356256,
          0.00008856127240700313,
          0.00008484199118412178,
          0.00008122892400593935,
          0.00007772189683988625,
          0.00007432055171706311,
          0.00007102435553330091,
          0.00006783260899433007,
          0.00006474445566648728,
          0.00006175889109564333,
          0.000058874771958414054,
          0.000056090825211204626,
          0.00005340565720422607,
          0.00005081776272929259,
          0.00004832553397195409,
          0.00004592726934031754,
          0.000043621182144763785,
          0.00004140540910464324,
          0.00003927801865994659,
          0.00003723701906785604,
          0.000035280366266003964,
          0.000033405971486168674,
          0.000031611708604025384,
          0.000029895421212426613,
          0.000028254929407505368,
          0.00002668803627866916,
          0.000025192534095274452,
          0.000023766210184433547,
          0.000022406852496003625,
          0.000021112254852336263,
          0.000019880221881819968,
          0.00001870857363662465,
          0.000017595149896352685,
          0.00001653781416051445,
          0.000015534457333874032,
          0.000014583001109753795,
          0.00001368140105734217,
          0.000012827649419919109,
          0.000012019777631697858
         ]
        }
       ],
       "layout": {
        "annotations": [
         {
          "bordercolor": "rgb(100,110,250)",
          "borderwidth": 2,
          "font": {
           "color": "rgb(100,110,250)",
           "size": 15
          },
          "showarrow": false,
          "text": "0.559",
          "x": 1473,
          "xshift": -40,
          "y": 0.00038083058763325713,
          "yshift": -100
         },
         {
          "bordercolor": "rgb(239,85,59)",
          "borderwidth": 2,
          "font": {
           "color": "rgb(239,85,59)",
           "size": 15
          },
          "showarrow": false,
          "text": "0.441",
          "x": 1473,
          "xshift": 40,
          "y": 0.00038083058763325713,
          "yshift": -100
         }
        ],
        "template": {
         "data": {
          "bar": [
           {
            "error_x": {
             "color": "#2a3f5f"
            },
            "error_y": {
             "color": "#2a3f5f"
            },
            "marker": {
             "line": {
              "color": "#E5ECF6",
              "width": 0.5
             },
             "pattern": {
              "fillmode": "overlay",
              "size": 10,
              "solidity": 0.2
             }
            },
            "type": "bar"
           }
          ],
          "barpolar": [
           {
            "marker": {
             "line": {
              "color": "#E5ECF6",
              "width": 0.5
             },
             "pattern": {
              "fillmode": "overlay",
              "size": 10,
              "solidity": 0.2
             }
            },
            "type": "barpolar"
           }
          ],
          "carpet": [
           {
            "aaxis": {
             "endlinecolor": "#2a3f5f",
             "gridcolor": "white",
             "linecolor": "white",
             "minorgridcolor": "white",
             "startlinecolor": "#2a3f5f"
            },
            "baxis": {
             "endlinecolor": "#2a3f5f",
             "gridcolor": "white",
             "linecolor": "white",
             "minorgridcolor": "white",
             "startlinecolor": "#2a3f5f"
            },
            "type": "carpet"
           }
          ],
          "choropleth": [
           {
            "colorbar": {
             "outlinewidth": 0,
             "ticks": ""
            },
            "type": "choropleth"
           }
          ],
          "contour": [
           {
            "colorbar": {
             "outlinewidth": 0,
             "ticks": ""
            },
            "colorscale": [
             [
              0,
              "#0d0887"
             ],
             [
              0.1111111111111111,
              "#46039f"
             ],
             [
              0.2222222222222222,
              "#7201a8"
             ],
             [
              0.3333333333333333,
              "#9c179e"
             ],
             [
              0.4444444444444444,
              "#bd3786"
             ],
             [
              0.5555555555555556,
              "#d8576b"
             ],
             [
              0.6666666666666666,
              "#ed7953"
             ],
             [
              0.7777777777777778,
              "#fb9f3a"
             ],
             [
              0.8888888888888888,
              "#fdca26"
             ],
             [
              1,
              "#f0f921"
             ]
            ],
            "type": "contour"
           }
          ],
          "contourcarpet": [
           {
            "colorbar": {
             "outlinewidth": 0,
             "ticks": ""
            },
            "type": "contourcarpet"
           }
          ],
          "heatmap": [
           {
            "colorbar": {
             "outlinewidth": 0,
             "ticks": ""
            },
            "colorscale": [
             [
              0,
              "#0d0887"
             ],
             [
              0.1111111111111111,
              "#46039f"
             ],
             [
              0.2222222222222222,
              "#7201a8"
             ],
             [
              0.3333333333333333,
              "#9c179e"
             ],
             [
              0.4444444444444444,
              "#bd3786"
             ],
             [
              0.5555555555555556,
              "#d8576b"
             ],
             [
              0.6666666666666666,
              "#ed7953"
             ],
             [
              0.7777777777777778,
              "#fb9f3a"
             ],
             [
              0.8888888888888888,
              "#fdca26"
             ],
             [
              1,
              "#f0f921"
             ]
            ],
            "type": "heatmap"
           }
          ],
          "heatmapgl": [
           {
            "colorbar": {
             "outlinewidth": 0,
             "ticks": ""
            },
            "colorscale": [
             [
              0,
              "#0d0887"
             ],
             [
              0.1111111111111111,
              "#46039f"
             ],
             [
              0.2222222222222222,
              "#7201a8"
             ],
             [
              0.3333333333333333,
              "#9c179e"
             ],
             [
              0.4444444444444444,
              "#bd3786"
             ],
             [
              0.5555555555555556,
              "#d8576b"
             ],
             [
              0.6666666666666666,
              "#ed7953"
             ],
             [
              0.7777777777777778,
              "#fb9f3a"
             ],
             [
              0.8888888888888888,
              "#fdca26"
             ],
             [
              1,
              "#f0f921"
             ]
            ],
            "type": "heatmapgl"
           }
          ],
          "histogram": [
           {
            "marker": {
             "pattern": {
              "fillmode": "overlay",
              "size": 10,
              "solidity": 0.2
             }
            },
            "type": "histogram"
           }
          ],
          "histogram2d": [
           {
            "colorbar": {
             "outlinewidth": 0,
             "ticks": ""
            },
            "colorscale": [
             [
              0,
              "#0d0887"
             ],
             [
              0.1111111111111111,
              "#46039f"
             ],
             [
              0.2222222222222222,
              "#7201a8"
             ],
             [
              0.3333333333333333,
              "#9c179e"
             ],
             [
              0.4444444444444444,
              "#bd3786"
             ],
             [
              0.5555555555555556,
              "#d8576b"
             ],
             [
              0.6666666666666666,
              "#ed7953"
             ],
             [
              0.7777777777777778,
              "#fb9f3a"
             ],
             [
              0.8888888888888888,
              "#fdca26"
             ],
             [
              1,
              "#f0f921"
             ]
            ],
            "type": "histogram2d"
           }
          ],
          "histogram2dcontour": [
           {
            "colorbar": {
             "outlinewidth": 0,
             "ticks": ""
            },
            "colorscale": [
             [
              0,
              "#0d0887"
             ],
             [
              0.1111111111111111,
              "#46039f"
             ],
             [
              0.2222222222222222,
              "#7201a8"
             ],
             [
              0.3333333333333333,
              "#9c179e"
             ],
             [
              0.4444444444444444,
              "#bd3786"
             ],
             [
              0.5555555555555556,
              "#d8576b"
             ],
             [
              0.6666666666666666,
              "#ed7953"
             ],
             [
              0.7777777777777778,
              "#fb9f3a"
             ],
             [
              0.8888888888888888,
              "#fdca26"
             ],
             [
              1,
              "#f0f921"
             ]
            ],
            "type": "histogram2dcontour"
           }
          ],
          "mesh3d": [
           {
            "colorbar": {
             "outlinewidth": 0,
             "ticks": ""
            },
            "type": "mesh3d"
           }
          ],
          "parcoords": [
           {
            "line": {
             "colorbar": {
              "outlinewidth": 0,
              "ticks": ""
             }
            },
            "type": "parcoords"
           }
          ],
          "pie": [
           {
            "automargin": true,
            "type": "pie"
           }
          ],
          "scatter": [
           {
            "marker": {
             "colorbar": {
              "outlinewidth": 0,
              "ticks": ""
             }
            },
            "type": "scatter"
           }
          ],
          "scatter3d": [
           {
            "line": {
             "colorbar": {
              "outlinewidth": 0,
              "ticks": ""
             }
            },
            "marker": {
             "colorbar": {
              "outlinewidth": 0,
              "ticks": ""
             }
            },
            "type": "scatter3d"
           }
          ],
          "scattercarpet": [
           {
            "marker": {
             "colorbar": {
              "outlinewidth": 0,
              "ticks": ""
             }
            },
            "type": "scattercarpet"
           }
          ],
          "scattergeo": [
           {
            "marker": {
             "colorbar": {
              "outlinewidth": 0,
              "ticks": ""
             }
            },
            "type": "scattergeo"
           }
          ],
          "scattergl": [
           {
            "marker": {
             "colorbar": {
              "outlinewidth": 0,
              "ticks": ""
             }
            },
            "type": "scattergl"
           }
          ],
          "scattermapbox": [
           {
            "marker": {
             "colorbar": {
              "outlinewidth": 0,
              "ticks": ""
             }
            },
            "type": "scattermapbox"
           }
          ],
          "scatterpolar": [
           {
            "marker": {
             "colorbar": {
              "outlinewidth": 0,
              "ticks": ""
             }
            },
            "type": "scatterpolar"
           }
          ],
          "scatterpolargl": [
           {
            "marker": {
             "colorbar": {
              "outlinewidth": 0,
              "ticks": ""
             }
            },
            "type": "scatterpolargl"
           }
          ],
          "scatterternary": [
           {
            "marker": {
             "colorbar": {
              "outlinewidth": 0,
              "ticks": ""
             }
            },
            "type": "scatterternary"
           }
          ],
          "surface": [
           {
            "colorbar": {
             "outlinewidth": 0,
             "ticks": ""
            },
            "colorscale": [
             [
              0,
              "#0d0887"
             ],
             [
              0.1111111111111111,
              "#46039f"
             ],
             [
              0.2222222222222222,
              "#7201a8"
             ],
             [
              0.3333333333333333,
              "#9c179e"
             ],
             [
              0.4444444444444444,
              "#bd3786"
             ],
             [
              0.5555555555555556,
              "#d8576b"
             ],
             [
              0.6666666666666666,
              "#ed7953"
             ],
             [
              0.7777777777777778,
              "#fb9f3a"
             ],
             [
              0.8888888888888888,
              "#fdca26"
             ],
             [
              1,
              "#f0f921"
             ]
            ],
            "type": "surface"
           }
          ],
          "table": [
           {
            "cells": {
             "fill": {
              "color": "#EBF0F8"
             },
             "line": {
              "color": "white"
             }
            },
            "header": {
             "fill": {
              "color": "#C8D4E3"
             },
             "line": {
              "color": "white"
             }
            },
            "type": "table"
           }
          ]
         },
         "layout": {
          "annotationdefaults": {
           "arrowcolor": "#2a3f5f",
           "arrowhead": 0,
           "arrowwidth": 1
          },
          "autotypenumbers": "strict",
          "coloraxis": {
           "colorbar": {
            "outlinewidth": 0,
            "ticks": ""
           }
          },
          "colorscale": {
           "diverging": [
            [
             0,
             "#8e0152"
            ],
            [
             0.1,
             "#c51b7d"
            ],
            [
             0.2,
             "#de77ae"
            ],
            [
             0.3,
             "#f1b6da"
            ],
            [
             0.4,
             "#fde0ef"
            ],
            [
             0.5,
             "#f7f7f7"
            ],
            [
             0.6,
             "#e6f5d0"
            ],
            [
             0.7,
             "#b8e186"
            ],
            [
             0.8,
             "#7fbc41"
            ],
            [
             0.9,
             "#4d9221"
            ],
            [
             1,
             "#276419"
            ]
           ],
           "sequential": [
            [
             0,
             "#0d0887"
            ],
            [
             0.1111111111111111,
             "#46039f"
            ],
            [
             0.2222222222222222,
             "#7201a8"
            ],
            [
             0.3333333333333333,
             "#9c179e"
            ],
            [
             0.4444444444444444,
             "#bd3786"
            ],
            [
             0.5555555555555556,
             "#d8576b"
            ],
            [
             0.6666666666666666,
             "#ed7953"
            ],
            [
             0.7777777777777778,
             "#fb9f3a"
            ],
            [
             0.8888888888888888,
             "#fdca26"
            ],
            [
             1,
             "#f0f921"
            ]
           ],
           "sequentialminus": [
            [
             0,
             "#0d0887"
            ],
            [
             0.1111111111111111,
             "#46039f"
            ],
            [
             0.2222222222222222,
             "#7201a8"
            ],
            [
             0.3333333333333333,
             "#9c179e"
            ],
            [
             0.4444444444444444,
             "#bd3786"
            ],
            [
             0.5555555555555556,
             "#d8576b"
            ],
            [
             0.6666666666666666,
             "#ed7953"
            ],
            [
             0.7777777777777778,
             "#fb9f3a"
            ],
            [
             0.8888888888888888,
             "#fdca26"
            ],
            [
             1,
             "#f0f921"
            ]
           ]
          },
          "colorway": [
           "#636efa",
           "#EF553B",
           "#00cc96",
           "#ab63fa",
           "#FFA15A",
           "#19d3f3",
           "#FF6692",
           "#B6E880",
           "#FF97FF",
           "#FECB52"
          ],
          "font": {
           "color": "#2a3f5f"
          },
          "geo": {
           "bgcolor": "white",
           "lakecolor": "white",
           "landcolor": "#E5ECF6",
           "showlakes": true,
           "showland": true,
           "subunitcolor": "white"
          },
          "hoverlabel": {
           "align": "left"
          },
          "hovermode": "closest",
          "mapbox": {
           "style": "light"
          },
          "paper_bgcolor": "white",
          "plot_bgcolor": "#E5ECF6",
          "polar": {
           "angularaxis": {
            "gridcolor": "white",
            "linecolor": "white",
            "ticks": ""
           },
           "bgcolor": "#E5ECF6",
           "radialaxis": {
            "gridcolor": "white",
            "linecolor": "white",
            "ticks": ""
           }
          },
          "scene": {
           "xaxis": {
            "backgroundcolor": "#E5ECF6",
            "gridcolor": "white",
            "gridwidth": 2,
            "linecolor": "white",
            "showbackground": true,
            "ticks": "",
            "zerolinecolor": "white"
           },
           "yaxis": {
            "backgroundcolor": "#E5ECF6",
            "gridcolor": "white",
            "gridwidth": 2,
            "linecolor": "white",
            "showbackground": true,
            "ticks": "",
            "zerolinecolor": "white"
           },
           "zaxis": {
            "backgroundcolor": "#E5ECF6",
            "gridcolor": "white",
            "gridwidth": 2,
            "linecolor": "white",
            "showbackground": true,
            "ticks": "",
            "zerolinecolor": "white"
           }
          },
          "shapedefaults": {
           "line": {
            "color": "#2a3f5f"
           }
          },
          "ternary": {
           "aaxis": {
            "gridcolor": "white",
            "linecolor": "white",
            "ticks": ""
           },
           "baxis": {
            "gridcolor": "white",
            "linecolor": "white",
            "ticks": ""
           },
           "bgcolor": "#E5ECF6",
           "caxis": {
            "gridcolor": "white",
            "linecolor": "white",
            "ticks": ""
           }
          },
          "title": {
           "x": 0.05
          },
          "xaxis": {
           "automargin": true,
           "gridcolor": "white",
           "linecolor": "white",
           "ticks": "",
           "title": {
            "standoff": 15
           },
           "zerolinecolor": "white",
           "zerolinewidth": 2
          },
          "yaxis": {
           "automargin": true,
           "gridcolor": "white",
           "linecolor": "white",
           "ticks": "",
           "title": {
            "standoff": 15
           },
           "zerolinecolor": "white",
           "zerolinewidth": 2
          }
         }
        }
       }
      }
     },
     "metadata": {},
     "output_type": "display_data"
    },
    {
     "name": "stdout",
     "output_type": "stream",
     "text": [
      "0.5593075575000511\n"
     ]
    }
   ],
   "source": [
    "elec_vehicle_pro = cal_norm(df_elec_vehicle.mean(), df_elec_vehicle.std(), df_elec_vehicle.min(), df_elec_vehicle.max(),df_elec_vehicle['부산'])\n",
    "print(elec_vehicle_pro)\n",
    "hidro_vehicle_pro = cal_norm(df_hidro_vehicle.mean(), df_hidro_vehicle.std(), df_hidro_vehicle.min(), df_hidro_vehicle.max(),df_hidro_vehicle['부산'])\n",
    "print(hidro_vehicle_pro)"
   ]
  },
  {
   "cell_type": "markdown",
   "metadata": {},
   "source": [
    "### LPG 충전소 현황 데이터 불러오기 (수소차)"
   ]
  },
  {
   "cell_type": "code",
   "execution_count": 511,
   "metadata": {},
   "outputs": [
    {
     "data": {
      "text/html": [
       "<div>\n",
       "<style scoped>\n",
       "    .dataframe tbody tr th:only-of-type {\n",
       "        vertical-align: middle;\n",
       "    }\n",
       "\n",
       "    .dataframe tbody tr th {\n",
       "        vertical-align: top;\n",
       "    }\n",
       "\n",
       "    .dataframe thead th {\n",
       "        text-align: right;\n",
       "    }\n",
       "</style>\n",
       "<table border=\"1\" class=\"dataframe\">\n",
       "  <thead>\n",
       "    <tr style=\"text-align: right;\">\n",
       "      <th></th>\n",
       "      <th>행정구역</th>\n",
       "      <th>업소명</th>\n",
       "      <th>소재지</th>\n",
       "      <th>관리구분</th>\n",
       "      <th>위도</th>\n",
       "      <th>경도</th>\n",
       "      <th>면적</th>\n",
       "      <th>공시지가</th>\n",
       "    </tr>\n",
       "  </thead>\n",
       "  <tbody>\n",
       "    <tr>\n",
       "      <th>0</th>\n",
       "      <td>부산 강서구</td>\n",
       "      <td>개인택시신공항충전소</td>\n",
       "      <td>부산 강서구 경전철로188번길 95</td>\n",
       "      <td>자동차충전</td>\n",
       "      <td>35.198669</td>\n",
       "      <td>128.966594</td>\n",
       "      <td>2545.0</td>\n",
       "      <td>2144000.0</td>\n",
       "    </tr>\n",
       "    <tr>\n",
       "      <th>1</th>\n",
       "      <td>부산 강서구</td>\n",
       "      <td>부산공항LPG충전소</td>\n",
       "      <td>부산 강서구 공항로 459</td>\n",
       "      <td>자동차충전</td>\n",
       "      <td>35.149064</td>\n",
       "      <td>128.951891</td>\n",
       "      <td>3105.0</td>\n",
       "      <td>1174000.0</td>\n",
       "    </tr>\n",
       "    <tr>\n",
       "      <th>2</th>\n",
       "      <td>부산 강서구</td>\n",
       "      <td>신항만에너지</td>\n",
       "      <td>부산 강서구 낙동남로 507</td>\n",
       "      <td>자동차충전</td>\n",
       "      <td>35.112947</td>\n",
       "      <td>128.875260</td>\n",
       "      <td>3105.0</td>\n",
       "      <td>1174000.0</td>\n",
       "    </tr>\n",
       "    <tr>\n",
       "      <th>3</th>\n",
       "      <td>부산 강서구</td>\n",
       "      <td>르노삼성자동차(주)</td>\n",
       "      <td>부산 강서구 르노삼성대로 61</td>\n",
       "      <td>자동차충전</td>\n",
       "      <td>35.095408</td>\n",
       "      <td>128.883215</td>\n",
       "      <td>1538.0</td>\n",
       "      <td>640100.0</td>\n",
       "    </tr>\n",
       "    <tr>\n",
       "      <th>4</th>\n",
       "      <td>부산 강서구</td>\n",
       "      <td>죽림LPG충전소</td>\n",
       "      <td>부산 강서구 호계로 102</td>\n",
       "      <td>자동차충전</td>\n",
       "      <td>35.200736</td>\n",
       "      <td>128.893462</td>\n",
       "      <td>1580.0</td>\n",
       "      <td>1017000.0</td>\n",
       "    </tr>\n",
       "    <tr>\n",
       "      <th>5</th>\n",
       "      <td>부산 강서구</td>\n",
       "      <td>가락충전소</td>\n",
       "      <td>부산 강서구 호계로 195</td>\n",
       "      <td>자동차충전</td>\n",
       "      <td>35.208847</td>\n",
       "      <td>128.890148</td>\n",
       "      <td>2600.0</td>\n",
       "      <td>1017000.0</td>\n",
       "    </tr>\n",
       "    <tr>\n",
       "      <th>6</th>\n",
       "      <td>부산 금정구</td>\n",
       "      <td>(주)해연</td>\n",
       "      <td>부산 금정구 개좌로 225-15</td>\n",
       "      <td>용기+탱크+13kg용기</td>\n",
       "      <td>35.230796</td>\n",
       "      <td>129.122388</td>\n",
       "      <td>3346.0</td>\n",
       "      <td>1370000.0</td>\n",
       "    </tr>\n",
       "    <tr>\n",
       "      <th>7</th>\n",
       "      <td>부산 금정구</td>\n",
       "      <td>(주)신진가스</td>\n",
       "      <td>부산 금정구 반송로 433</td>\n",
       "      <td>자동차충전</td>\n",
       "      <td>35.215006</td>\n",
       "      <td>129.111143</td>\n",
       "      <td>1646.4</td>\n",
       "      <td>2797000.0</td>\n",
       "    </tr>\n",
       "    <tr>\n",
       "      <th>8</th>\n",
       "      <td>부산 기장군</td>\n",
       "      <td>마라톤가스(주)청강충전소</td>\n",
       "      <td>부산 기장군 기장읍 기장대로 343 A동</td>\n",
       "      <td>자동차충전</td>\n",
       "      <td>35.225657</td>\n",
       "      <td>129.213988</td>\n",
       "      <td>2592.0</td>\n",
       "      <td>1069000.0</td>\n",
       "    </tr>\n",
       "    <tr>\n",
       "      <th>9</th>\n",
       "      <td>부산 기장군</td>\n",
       "      <td>한국에너지산업(주)</td>\n",
       "      <td>부산 기장군 기장읍 기장대로413번길 38</td>\n",
       "      <td>용기+자동차+탱크+13kg용기</td>\n",
       "      <td>35.235543</td>\n",
       "      <td>129.215629</td>\n",
       "      <td>2473.0</td>\n",
       "      <td>1063000.0</td>\n",
       "    </tr>\n",
       "    <tr>\n",
       "      <th>10</th>\n",
       "      <td>부산 기장군</td>\n",
       "      <td>선암가스충전소</td>\n",
       "      <td>부산 기장군 장안읍 기장대로 1451</td>\n",
       "      <td>자동차+13kg용기</td>\n",
       "      <td>35.321585</td>\n",
       "      <td>129.241320</td>\n",
       "      <td>2717.0</td>\n",
       "      <td>1060000.0</td>\n",
       "    </tr>\n",
       "    <tr>\n",
       "      <th>11</th>\n",
       "      <td>부산 기장군</td>\n",
       "      <td>KH에너지(주)직영장안충전소(부산방향)</td>\n",
       "      <td>부산 기장군 장안읍 동해고속도로 25</td>\n",
       "      <td>자동차충전</td>\n",
       "      <td>35.377525</td>\n",
       "      <td>129.246402</td>\n",
       "      <td>15637.0</td>\n",
       "      <td>263500.0</td>\n",
       "    </tr>\n",
       "    <tr>\n",
       "      <th>12</th>\n",
       "      <td>부산 기장군</td>\n",
       "      <td>KH에너지(주)직영장안충전소(울산방향)</td>\n",
       "      <td>부산 기장군 장안읍 동해고속도로 26</td>\n",
       "      <td>자동차충전</td>\n",
       "      <td>35.382870</td>\n",
       "      <td>129.248394</td>\n",
       "      <td>37294.0</td>\n",
       "      <td>263500.0</td>\n",
       "    </tr>\n",
       "    <tr>\n",
       "      <th>13</th>\n",
       "      <td>부산 기장군</td>\n",
       "      <td>정림에너지</td>\n",
       "      <td>부산 기장군 정관읍 신정관로 187</td>\n",
       "      <td>자동차충전</td>\n",
       "      <td>35.328714</td>\n",
       "      <td>129.201710</td>\n",
       "      <td>2575.0</td>\n",
       "      <td>743500.0</td>\n",
       "    </tr>\n",
       "    <tr>\n",
       "      <th>14</th>\n",
       "      <td>부산 기장군</td>\n",
       "      <td>광신개발(주)직영 정관가스충전소</td>\n",
       "      <td>부산 기장군 정관읍 정관로 907</td>\n",
       "      <td>자동차+13kg용기</td>\n",
       "      <td>35.324749</td>\n",
       "      <td>129.210964</td>\n",
       "      <td>1899.0</td>\n",
       "      <td>877400.0</td>\n",
       "    </tr>\n",
       "    <tr>\n",
       "      <th>15</th>\n",
       "      <td>부산 기장군</td>\n",
       "      <td>개인택시동부산충전소</td>\n",
       "      <td>부산 기장군 철마면 반송로 1022</td>\n",
       "      <td>자동차충전</td>\n",
       "      <td>35.235930</td>\n",
       "      <td>129.163728</td>\n",
       "      <td>2543.0</td>\n",
       "      <td>923000.0</td>\n",
       "    </tr>\n",
       "    <tr>\n",
       "      <th>16</th>\n",
       "      <td>부산 동구</td>\n",
       "      <td>개인택시남부LPG충전소</td>\n",
       "      <td>부산 동구 성남로 42</td>\n",
       "      <td>자동차충전</td>\n",
       "      <td>35.130627</td>\n",
       "      <td>129.054917</td>\n",
       "      <td>1518.5</td>\n",
       "      <td>1701000.0</td>\n",
       "    </tr>\n",
       "    <tr>\n",
       "      <th>17</th>\n",
       "      <td>부산 동구</td>\n",
       "      <td>(주)대양씨앤씨(구:녹색에너지 범일영업소)</td>\n",
       "      <td>부산 동구 성남로 74-3</td>\n",
       "      <td>용기+13kg용기</td>\n",
       "      <td>35.130891</td>\n",
       "      <td>129.057587</td>\n",
       "      <td>3169.8</td>\n",
       "      <td>1545000.0</td>\n",
       "    </tr>\n",
       "    <tr>\n",
       "      <th>18</th>\n",
       "      <td>부산 북구</td>\n",
       "      <td>개인택시 금곡역충전소</td>\n",
       "      <td>부산 북구 금곡대로 704</td>\n",
       "      <td>자동차충전</td>\n",
       "      <td>35.269475</td>\n",
       "      <td>129.018781</td>\n",
       "      <td>2055.0</td>\n",
       "      <td>842500.0</td>\n",
       "    </tr>\n",
       "    <tr>\n",
       "      <th>19</th>\n",
       "      <td>부산 북구</td>\n",
       "      <td>(주)삼보</td>\n",
       "      <td>부산 북구 만덕대로 327-0</td>\n",
       "      <td>자동차충전</td>\n",
       "      <td>35.213643</td>\n",
       "      <td>129.040635</td>\n",
       "      <td>3837.0</td>\n",
       "      <td>1608000.0</td>\n",
       "    </tr>\n",
       "    <tr>\n",
       "      <th>20</th>\n",
       "      <td>부산 사상구</td>\n",
       "      <td>팔성가스충전소</td>\n",
       "      <td>부산 사상구 가야대로 75</td>\n",
       "      <td>자동차+13kg용기</td>\n",
       "      <td>35.151317</td>\n",
       "      <td>128.980986</td>\n",
       "      <td>2946.6</td>\n",
       "      <td>3247000.0</td>\n",
       "    </tr>\n",
       "    <tr>\n",
       "      <th>21</th>\n",
       "      <td>부산 사상구</td>\n",
       "      <td>(주)성은에너지제2충전소</td>\n",
       "      <td>부산 사상구 강변대로 412</td>\n",
       "      <td>자동차충전</td>\n",
       "      <td>35.122092</td>\n",
       "      <td>128.962063</td>\n",
       "      <td>3732.4</td>\n",
       "      <td>2373000.0</td>\n",
       "    </tr>\n",
       "    <tr>\n",
       "      <th>22</th>\n",
       "      <td>부산 사상구</td>\n",
       "      <td>극동유화(주)감전충전소</td>\n",
       "      <td>부산 사상구 낙동대로 878</td>\n",
       "      <td>용기+자동차+탱크+13kg용기</td>\n",
       "      <td>35.138888</td>\n",
       "      <td>128.971339</td>\n",
       "      <td>2886.1</td>\n",
       "      <td>3201000.0</td>\n",
       "    </tr>\n",
       "    <tr>\n",
       "      <th>23</th>\n",
       "      <td>부산 사하구</td>\n",
       "      <td>광진기업(주)장림영업소</td>\n",
       "      <td>부산 사하구 다대로 309</td>\n",
       "      <td>용기+자동차+13kg용기</td>\n",
       "      <td>35.075007</td>\n",
       "      <td>128.977163</td>\n",
       "      <td>1604.0</td>\n",
       "      <td>2665000.0</td>\n",
       "    </tr>\n",
       "    <tr>\n",
       "      <th>24</th>\n",
       "      <td>부산 사하구</td>\n",
       "      <td>광신가스(주)을숙도대로충전소</td>\n",
       "      <td>부산 사하구 을숙도대로 530</td>\n",
       "      <td>자동차충전</td>\n",
       "      <td>35.085225</td>\n",
       "      <td>128.963646</td>\n",
       "      <td>1632.0</td>\n",
       "      <td>1095000.0</td>\n",
       "    </tr>\n",
       "    <tr>\n",
       "      <th>25</th>\n",
       "      <td>부산 사하구</td>\n",
       "      <td>개인택시사하엘피지충전소</td>\n",
       "      <td>부산 사하구 을숙도대로 583</td>\n",
       "      <td>자동차충전</td>\n",
       "      <td>35.085534</td>\n",
       "      <td>128.969349</td>\n",
       "      <td>1657.0</td>\n",
       "      <td>1498000.0</td>\n",
       "    </tr>\n",
       "    <tr>\n",
       "      <th>26</th>\n",
       "      <td>부산 연제구</td>\n",
       "      <td>부산개인택시엘피지충전소</td>\n",
       "      <td>부산 연제구 월드컵대로 399</td>\n",
       "      <td>자동차충전</td>\n",
       "      <td>35.186013</td>\n",
       "      <td>129.055974</td>\n",
       "      <td>9212.0</td>\n",
       "      <td>688600.0</td>\n",
       "    </tr>\n",
       "    <tr>\n",
       "      <th>27</th>\n",
       "      <td>부산 영도구</td>\n",
       "      <td>(주)태종에너지</td>\n",
       "      <td>부산 영도구 영선대로 41</td>\n",
       "      <td>자동차충전</td>\n",
       "      <td>35.084996</td>\n",
       "      <td>129.040033</td>\n",
       "      <td>1610.2</td>\n",
       "      <td>2679000.0</td>\n",
       "    </tr>\n",
       "    <tr>\n",
       "      <th>28</th>\n",
       "      <td>부산 영도구</td>\n",
       "      <td>부산에너지</td>\n",
       "      <td>부산 영도구 해양로 160</td>\n",
       "      <td>용기+자동차+탱크+13kg용기</td>\n",
       "      <td>35.091275</td>\n",
       "      <td>129.069484</td>\n",
       "      <td>5801.0</td>\n",
       "      <td>989400.0</td>\n",
       "    </tr>\n",
       "    <tr>\n",
       "      <th>29</th>\n",
       "      <td>부산 영도구</td>\n",
       "      <td>개인택시 영도LPG충전소</td>\n",
       "      <td>부산 영도구 해양로 296</td>\n",
       "      <td>자동차충전</td>\n",
       "      <td>35.082176</td>\n",
       "      <td>129.076429</td>\n",
       "      <td>1818.0</td>\n",
       "      <td>349800.0</td>\n",
       "    </tr>\n",
       "    <tr>\n",
       "      <th>30</th>\n",
       "      <td>부산 해운대구</td>\n",
       "      <td>이원 해운대LPG충전소</td>\n",
       "      <td>부산 해운대구 해운대로 1255</td>\n",
       "      <td>용기+자동차+탱크+13kg용기</td>\n",
       "      <td>35.196728</td>\n",
       "      <td>129.205260</td>\n",
       "      <td>3700.0</td>\n",
       "      <td>1607000.0</td>\n",
       "    </tr>\n",
       "  </tbody>\n",
       "</table>\n",
       "</div>"
      ],
      "text/plain": [
       "       행정구역                      업소명                      소재지  \\\n",
       "0    부산 강서구               개인택시신공항충전소      부산 강서구 경전철로188번길 95   \n",
       "1    부산 강서구               부산공항LPG충전소           부산 강서구 공항로 459   \n",
       "2    부산 강서구                   신항만에너지         부산 강서구 낙동남로 507    \n",
       "3    부산 강서구               르노삼성자동차(주)         부산 강서구 르노삼성대로 61   \n",
       "4    부산 강서구                 죽림LPG충전소          부산 강서구 호계로 102    \n",
       "5    부산 강서구                    가락충전소          부산 강서구 호계로 195    \n",
       "6    부산 금정구                    (주)해연       부산 금정구 개좌로 225-15    \n",
       "7    부산 금정구                  (주)신진가스          부산 금정구 반송로 433    \n",
       "8    부산 기장군            마라톤가스(주)청강충전소   부산 기장군 기장읍 기장대로 343 A동   \n",
       "9    부산 기장군               한국에너지산업(주)  부산 기장군 기장읍 기장대로413번길 38   \n",
       "10   부산 기장군                  선암가스충전소    부산 기장군 장안읍 기장대로 1451    \n",
       "11   부산 기장군    KH에너지(주)직영장안충전소(부산방향)     부산 기장군 장안읍 동해고속도로 25   \n",
       "12   부산 기장군    KH에너지(주)직영장안충전소(울산방향)     부산 기장군 장안읍 동해고속도로 26   \n",
       "13   부산 기장군                    정림에너지     부산 기장군 정관읍 신정관로 187    \n",
       "14   부산 기장군        광신개발(주)직영 정관가스충전소       부산 기장군 정관읍 정관로 907   \n",
       "15   부산 기장군               개인택시동부산충전소      부산 기장군 철마면 반송로 1022   \n",
       "16    부산 동구             개인택시남부LPG충전소             부산 동구 성남로 42   \n",
       "17    부산 동구  (주)대양씨앤씨(구:녹색에너지 범일영업소)           부산 동구 성남로 74-3   \n",
       "18    부산 북구              개인택시 금곡역충전소           부산 북구 금곡대로 704   \n",
       "19    부산 북구                    (주)삼보         부산 북구 만덕대로 327-0   \n",
       "20   부산 사상구                  팔성가스충전소           부산 사상구 가야대로 75   \n",
       "21   부산 사상구            (주)성은에너지제2충전소          부산 사상구 강변대로 412   \n",
       "22   부산 사상구             극동유화(주)감전충전소          부산 사상구 낙동대로 878   \n",
       "23   부산 사하구             광진기업(주)장림영업소           부산 사하구 다대로 309   \n",
       "24   부산 사하구          광신가스(주)을숙도대로충전소         부산 사하구 을숙도대로 530   \n",
       "25   부산 사하구             개인택시사하엘피지충전소         부산 사하구 을숙도대로 583   \n",
       "26   부산 연제구             부산개인택시엘피지충전소         부산 연제구 월드컵대로 399   \n",
       "27   부산 영도구                 (주)태종에너지           부산 영도구 영선대로 41   \n",
       "28   부산 영도구                    부산에너지           부산 영도구 해양로 160   \n",
       "29   부산 영도구            개인택시 영도LPG충전소           부산 영도구 해양로 296   \n",
       "30  부산 해운대구             이원 해운대LPG충전소        부산 해운대구 해운대로 1255   \n",
       "\n",
       "                관리구분         위도          경도       면적       공시지가  \n",
       "0              자동차충전  35.198669  128.966594   2545.0  2144000.0  \n",
       "1              자동차충전  35.149064  128.951891   3105.0  1174000.0  \n",
       "2              자동차충전  35.112947  128.875260   3105.0  1174000.0  \n",
       "3              자동차충전  35.095408  128.883215   1538.0   640100.0  \n",
       "4              자동차충전  35.200736  128.893462   1580.0  1017000.0  \n",
       "5              자동차충전  35.208847  128.890148   2600.0  1017000.0  \n",
       "6       용기+탱크+13kg용기  35.230796  129.122388   3346.0  1370000.0  \n",
       "7              자동차충전  35.215006  129.111143   1646.4  2797000.0  \n",
       "8              자동차충전  35.225657  129.213988   2592.0  1069000.0  \n",
       "9   용기+자동차+탱크+13kg용기  35.235543  129.215629   2473.0  1063000.0  \n",
       "10        자동차+13kg용기  35.321585  129.241320   2717.0  1060000.0  \n",
       "11             자동차충전  35.377525  129.246402  15637.0   263500.0  \n",
       "12             자동차충전  35.382870  129.248394  37294.0   263500.0  \n",
       "13             자동차충전  35.328714  129.201710   2575.0   743500.0  \n",
       "14        자동차+13kg용기  35.324749  129.210964   1899.0   877400.0  \n",
       "15             자동차충전  35.235930  129.163728   2543.0   923000.0  \n",
       "16             자동차충전  35.130627  129.054917   1518.5  1701000.0  \n",
       "17         용기+13kg용기  35.130891  129.057587   3169.8  1545000.0  \n",
       "18             자동차충전  35.269475  129.018781   2055.0   842500.0  \n",
       "19             자동차충전  35.213643  129.040635   3837.0  1608000.0  \n",
       "20        자동차+13kg용기  35.151317  128.980986   2946.6  3247000.0  \n",
       "21             자동차충전  35.122092  128.962063   3732.4  2373000.0  \n",
       "22  용기+자동차+탱크+13kg용기  35.138888  128.971339   2886.1  3201000.0  \n",
       "23     용기+자동차+13kg용기  35.075007  128.977163   1604.0  2665000.0  \n",
       "24             자동차충전  35.085225  128.963646   1632.0  1095000.0  \n",
       "25             자동차충전  35.085534  128.969349   1657.0  1498000.0  \n",
       "26             자동차충전  35.186013  129.055974   9212.0   688600.0  \n",
       "27             자동차충전  35.084996  129.040033   1610.2  2679000.0  \n",
       "28  용기+자동차+탱크+13kg용기  35.091275  129.069484   5801.0   989400.0  \n",
       "29             자동차충전  35.082176  129.076429   1818.0   349800.0  \n",
       "30  용기+자동차+탱크+13kg용기  35.196728  129.205260   3700.0  1607000.0  "
      ]
     },
     "execution_count": 511,
     "metadata": {},
     "output_type": "execute_result"
    }
   ],
   "source": [
    "LPG_file_path = 'C:\\\\Users\\\\SAMSUNG\\\\Desktop\\\\Green-Car-Charging-Station-Site-Selection\\\\Data\\\\부산 LPG 충전소 현황(한국가스안전공사).csv'\n",
    "df_LPG = pd.read_csv(LPG_file_path, encoding='cp949')\n",
    "# 복합충전소를 위해 1500 m^2이상의 부지가 요구됨\n",
    "df_LPG = df_LPG[df_LPG['면적'] >= 1500].reset_index(drop=True)\n",
    "df_LPG"
   ]
  },
  {
   "cell_type": "code",
   "execution_count": 495,
   "metadata": {},
   "outputs": [
    {
     "data": {
      "text/plain": [
       "63"
      ]
     },
     "execution_count": 495,
     "metadata": {},
     "output_type": "execute_result"
    }
   ],
   "source": [
    "df_LPG.shape[0]"
   ]
  },
  {
   "cell_type": "code",
   "execution_count": 496,
   "metadata": {},
   "outputs": [
    {
     "data": {
      "text/html": [
       "<div>\n",
       "<style scoped>\n",
       "    .dataframe tbody tr th:only-of-type {\n",
       "        vertical-align: middle;\n",
       "    }\n",
       "\n",
       "    .dataframe tbody tr th {\n",
       "        vertical-align: top;\n",
       "    }\n",
       "\n",
       "    .dataframe thead th {\n",
       "        text-align: right;\n",
       "    }\n",
       "</style>\n",
       "<table border=\"1\" class=\"dataframe\">\n",
       "  <thead>\n",
       "    <tr style=\"text-align: right;\">\n",
       "      <th></th>\n",
       "      <th>업소명</th>\n",
       "      <th>소재지</th>\n",
       "      <th>관리구분</th>\n",
       "      <th>위도</th>\n",
       "      <th>경도</th>\n",
       "      <th>면적</th>\n",
       "      <th>공시지가</th>\n",
       "    </tr>\n",
       "    <tr>\n",
       "      <th>행정구역</th>\n",
       "      <th></th>\n",
       "      <th></th>\n",
       "      <th></th>\n",
       "      <th></th>\n",
       "      <th></th>\n",
       "      <th></th>\n",
       "      <th></th>\n",
       "    </tr>\n",
       "  </thead>\n",
       "  <tbody>\n",
       "    <tr>\n",
       "      <th>부산 강서구</th>\n",
       "      <td>9</td>\n",
       "      <td>9</td>\n",
       "      <td>9</td>\n",
       "      <td>9</td>\n",
       "      <td>9</td>\n",
       "      <td>9</td>\n",
       "      <td>9</td>\n",
       "    </tr>\n",
       "    <tr>\n",
       "      <th>부산 금정구</th>\n",
       "      <td>3</td>\n",
       "      <td>3</td>\n",
       "      <td>3</td>\n",
       "      <td>3</td>\n",
       "      <td>3</td>\n",
       "      <td>3</td>\n",
       "      <td>3</td>\n",
       "    </tr>\n",
       "    <tr>\n",
       "      <th>부산 기장군</th>\n",
       "      <td>13</td>\n",
       "      <td>13</td>\n",
       "      <td>13</td>\n",
       "      <td>13</td>\n",
       "      <td>13</td>\n",
       "      <td>13</td>\n",
       "      <td>13</td>\n",
       "    </tr>\n",
       "    <tr>\n",
       "      <th>부산 남구</th>\n",
       "      <td>1</td>\n",
       "      <td>1</td>\n",
       "      <td>1</td>\n",
       "      <td>1</td>\n",
       "      <td>1</td>\n",
       "      <td>1</td>\n",
       "      <td>1</td>\n",
       "    </tr>\n",
       "    <tr>\n",
       "      <th>부산 동구</th>\n",
       "      <td>6</td>\n",
       "      <td>6</td>\n",
       "      <td>6</td>\n",
       "      <td>6</td>\n",
       "      <td>6</td>\n",
       "      <td>6</td>\n",
       "      <td>6</td>\n",
       "    </tr>\n",
       "    <tr>\n",
       "      <th>부산 동래구</th>\n",
       "      <td>1</td>\n",
       "      <td>1</td>\n",
       "      <td>1</td>\n",
       "      <td>1</td>\n",
       "      <td>1</td>\n",
       "      <td>0</td>\n",
       "      <td>0</td>\n",
       "    </tr>\n",
       "    <tr>\n",
       "      <th>부산 북구</th>\n",
       "      <td>4</td>\n",
       "      <td>4</td>\n",
       "      <td>4</td>\n",
       "      <td>4</td>\n",
       "      <td>4</td>\n",
       "      <td>4</td>\n",
       "      <td>4</td>\n",
       "    </tr>\n",
       "    <tr>\n",
       "      <th>부산 사상구</th>\n",
       "      <td>12</td>\n",
       "      <td>12</td>\n",
       "      <td>12</td>\n",
       "      <td>12</td>\n",
       "      <td>12</td>\n",
       "      <td>11</td>\n",
       "      <td>11</td>\n",
       "    </tr>\n",
       "    <tr>\n",
       "      <th>부산 사하구</th>\n",
       "      <td>6</td>\n",
       "      <td>6</td>\n",
       "      <td>6</td>\n",
       "      <td>6</td>\n",
       "      <td>6</td>\n",
       "      <td>6</td>\n",
       "      <td>6</td>\n",
       "    </tr>\n",
       "    <tr>\n",
       "      <th>부산 서구</th>\n",
       "      <td>1</td>\n",
       "      <td>1</td>\n",
       "      <td>1</td>\n",
       "      <td>1</td>\n",
       "      <td>1</td>\n",
       "      <td>1</td>\n",
       "      <td>1</td>\n",
       "    </tr>\n",
       "    <tr>\n",
       "      <th>부산 수영구</th>\n",
       "      <td>1</td>\n",
       "      <td>1</td>\n",
       "      <td>1</td>\n",
       "      <td>1</td>\n",
       "      <td>1</td>\n",
       "      <td>1</td>\n",
       "      <td>1</td>\n",
       "    </tr>\n",
       "    <tr>\n",
       "      <th>부산 연제구</th>\n",
       "      <td>2</td>\n",
       "      <td>2</td>\n",
       "      <td>2</td>\n",
       "      <td>2</td>\n",
       "      <td>2</td>\n",
       "      <td>2</td>\n",
       "      <td>2</td>\n",
       "    </tr>\n",
       "    <tr>\n",
       "      <th>부산 영도구</th>\n",
       "      <td>3</td>\n",
       "      <td>3</td>\n",
       "      <td>3</td>\n",
       "      <td>3</td>\n",
       "      <td>3</td>\n",
       "      <td>3</td>\n",
       "      <td>3</td>\n",
       "    </tr>\n",
       "    <tr>\n",
       "      <th>부산 해운대구</th>\n",
       "      <td>1</td>\n",
       "      <td>1</td>\n",
       "      <td>1</td>\n",
       "      <td>1</td>\n",
       "      <td>1</td>\n",
       "      <td>1</td>\n",
       "      <td>1</td>\n",
       "    </tr>\n",
       "  </tbody>\n",
       "</table>\n",
       "</div>"
      ],
      "text/plain": [
       "         업소명  소재지  관리구분  위도  경도  면적  공시지가\n",
       "행정구역                                     \n",
       "부산 강서구     9    9     9   9   9   9     9\n",
       "부산 금정구     3    3     3   3   3   3     3\n",
       "부산 기장군    13   13    13  13  13  13    13\n",
       "부산 남구      1    1     1   1   1   1     1\n",
       "부산 동구      6    6     6   6   6   6     6\n",
       "부산 동래구     1    1     1   1   1   0     0\n",
       "부산 북구      4    4     4   4   4   4     4\n",
       "부산 사상구    12   12    12  12  12  11    11\n",
       "부산 사하구     6    6     6   6   6   6     6\n",
       "부산 서구      1    1     1   1   1   1     1\n",
       "부산 수영구     1    1     1   1   1   1     1\n",
       "부산 연제구     2    2     2   2   2   2     2\n",
       "부산 영도구     3    3     3   3   3   3     3\n",
       "부산 해운대구    1    1     1   1   1   1     1"
      ]
     },
     "execution_count": 496,
     "metadata": {},
     "output_type": "execute_result"
    }
   ],
   "source": [
    "LPG_group = df_LPG.groupby('행정구역').count()\n",
    "LPG_group\n"
   ]
  },
  {
   "cell_type": "code",
   "execution_count": 501,
   "metadata": {},
   "outputs": [
    {
     "name": "stdout",
     "output_type": "stream",
     "text": [
      "31\n"
     ]
    },
    {
     "data": {
      "application/vnd.plotly.v1+json": {
       "config": {
        "plotlyServerURL": "https://plot.ly"
       },
       "data": [
        {
         "fill": "tozeroy",
         "line": {
          "color": "rgb(100,110,250)"
         },
         "name": "적합",
         "text": "0.60763445399739",
         "type": "scatter",
         "x": [
          -3.1648714081174036,
          -3.072296949449551,
          -2.9797224907816986,
          -2.887148032113846,
          -2.7945735734459936,
          -2.701999114778141,
          -2.6094246561102885,
          -2.5168501974424355,
          -2.4242757387745835,
          -2.3317012801067305,
          -2.2391268214388784,
          -2.1465523627710255,
          -2.053977904103173,
          -1.9614034454353204,
          -1.868828986767468,
          -1.7762545280996154,
          -1.6836800694317628,
          -1.5911056107639103,
          -1.4985311520960578,
          -1.4059566934282053,
          -1.3133822347603528,
          -1.2208077760925,
          -1.1282333174246477,
          -1.0356588587567952,
          -0.9430844000889422,
          -0.8505099414210897,
          -0.7579354827532372,
          -0.6653610240853847,
          -0.5727865654175321,
          -0.4802121067496796,
          -0.3876376480818271,
          -0.2950631894139746,
          -0.20248873074612206,
          -0.10991427207826954,
          -0.017339813410417015,
          0.0752346452574355,
          0.16780910392528803,
          0.26038356259314055,
          0.35295802126099307,
          0.4455324799288456,
          0.5381069385966981,
          0.6306813972645511,
          0.7232558559324036,
          0.8158303146002561,
          0.9084047732681082,
          1.0009792319359612,
          1.0935536906038132,
          1.1861281492716662,
          1.2787026079395192,
          1.3712770666073713,
          1.4638515252752242,
          1.5564259839430763,
          1.6490004426109293,
          1.7415749012787813,
          1.8341493599466343,
          1.9267238186144864,
          2.0192982772823393,
          2.1118727359501914,
          2.2044471946180444,
          2.2970216532858965,
          2.3895961119537494,
          2.4821705706216015,
          2.5747450292894545,
          2.6673194879573066,
          2.7598939466251595,
          2.8524684052930125,
          2.9450428639608646,
          3.0376173226287175,
          3.1301917812965696,
          3.2227662399644226,
          3.3153406986322747,
          3.4079151573001276,
          3.5004896159679797,
          3.5930640746358327,
          3.6856385333036847,
          3.7782129919715377,
          3.87078745063939,
          3.9633619093072427,
          4.055936367975095,
          4.148510826642948,
          4.2410852853108,
          4.333659743978653,
          4.426234202646506,
          4.518808661314358,
          4.611383119982211,
          4.703957578650063,
          4.796532037317916,
          4.889106495985769,
          4.98168095465362,
          5.074255413321473,
          5.166829871989326,
          5.259404330657179,
          5.35197878932503,
          5.444553247992883,
          5.537127706660736,
          5.629702165328589,
          5.722276623996442,
          5.814851082664293,
          5.907425541332146,
          6
         ],
         "y": [
          0.017613489406835714,
          0.01834440407630802,
          0.019096212836809148,
          0.01986901407914324,
          0.02066287846591836,
          0.021477847667207672,
          0.022313933118397283,
          0.023171114804860133,
          0.024049340078185107,
          0.024948522508764424,
          0.025868540779599918,
          0.026809237626229523,
          0.027770418827696555,
          0.02875185225348828,
          0.029753266971353203,
          0.030774352420869455,
          0.03181475765757904,
          0.03287409067242339,
          0.03395191779111452,
          0.03504776315795286,
          0.03616110830845756,
          0.03729139183500741,
          0.038438009149499935,
          0.03960031234682424,
          0.040777610172708645,
          0.04196916809924857,
          0.043174208511142335,
          0.044391911005365756,
          0.04562141280669865,
          0.04686180930117996,
          0.048112154689214294,
          0.0493714627596812,
          0.050638707786011754,
          0.051912825544795774,
          0.053192714457068906,
          0.054477236852003015,
          0.055765220352288,
          0.05705545938004967,
          0.05834671678169808,
          0.05963772556964739,
          0.060927190778389935,
          0.062213791431951534,
          0.06349618261929825,
          0.0647729976738129,
          0.06604285045251322,
          0.06730433771024513,
          0.06855604156365543,
          0.06979653203933249,
          0.07102436970010052,
          0.07223810834306743,
          0.07343629776265857,
          0.07461748657152098,
          0.07578022507185855,
          0.07692306816945621,
          0.07804457832237728,
          0.07914332851606985,
          0.08021790525639949,
          0.08126691157193723,
          0.08228897001667612,
          0.08328272566422486,
          0.08424684908443865,
          0.0851800392933918,
          0.08608102666757748,
          0.08694857581323671,
          0.0877814883817715,
          0.0885786058222865,
          0.08933881206242957,
          0.09006103610886391,
          0.09074425455890255,
          0.09138749401506965,
          0.09198983339462162,
          0.09255040612636252,
          0.0930684022274238,
          0.09354307025304372,
          0.09397371911277863,
          0.09435971974700262,
          0.09470050665800335,
          0.09499557929045835,
          0.09524450325657434,
          0.09544691140169302,
          0.09560250470670364,
          0.09571105302415829,
          0.0957723956455527,
          0.09578644169781596,
          0.0957531703676395,
          0.09567263095287008,
          0.09554494274078967,
          0.09537029471370233,
          0.09514894508284549,
          0.09488122065223481,
          0.09456751601463616,
          0.0942082925824339,
          0.09380407745672709,
          0.09335546213853327,
          0.09286310108651089,
          0.0923277101261226,
          0.09175006471565145,
          0.09113099807494911,
          0.090471399183235,
          0.0897722106526791
         ]
        },
        {
         "fill": "tozeroy",
         "line": {
          "color": "rgb(239,85,59)"
         },
         "name": "부적합",
         "text": "0.60763445399739",
         "type": "scatter",
         "x": [
          6,
          6.070707070707071,
          6.141414141414141,
          6.212121212121212,
          6.282828282828283,
          6.353535353535354,
          6.424242424242424,
          6.494949494949495,
          6.565656565656566,
          6.636363636363637,
          6.707070707070707,
          6.777777777777778,
          6.848484848484849,
          6.919191919191919,
          6.98989898989899,
          7.0606060606060606,
          7.1313131313131315,
          7.202020202020202,
          7.2727272727272725,
          7.343434343434343,
          7.414141414141414,
          7.484848484848484,
          7.555555555555555,
          7.626262626262626,
          7.696969696969697,
          7.767676767676767,
          7.838383838383838,
          7.909090909090909,
          7.979797979797979,
          8.05050505050505,
          8.121212121212121,
          8.191919191919192,
          8.262626262626263,
          8.333333333333332,
          8.404040404040405,
          8.474747474747474,
          8.545454545454545,
          8.616161616161616,
          8.686868686868687,
          8.757575757575758,
          8.828282828282829,
          8.8989898989899,
          8.969696969696969,
          9.04040404040404,
          9.11111111111111,
          9.181818181818182,
          9.252525252525253,
          9.323232323232324,
          9.393939393939394,
          9.464646464646464,
          9.535353535353535,
          9.606060606060606,
          9.676767676767676,
          9.747474747474747,
          9.818181818181818,
          9.88888888888889,
          9.959595959595958,
          10.030303030303031,
          10.1010101010101,
          10.171717171717171,
          10.242424242424242,
          10.313131313131313,
          10.383838383838384,
          10.454545454545453,
          10.525252525252526,
          10.595959595959595,
          10.666666666666666,
          10.737373737373737,
          10.808080808080808,
          10.878787878787879,
          10.949494949494948,
          11.02020202020202,
          11.09090909090909,
          11.161616161616163,
          11.232323232323232,
          11.303030303030303,
          11.373737373737374,
          11.444444444444445,
          11.515151515151516,
          11.585858585858585,
          11.656565656565657,
          11.727272727272727,
          11.797979797979798,
          11.868686868686869,
          11.93939393939394,
          12.01010101010101,
          12.08080808080808,
          12.151515151515152,
          12.222222222222221,
          12.292929292929292,
          12.363636363636363,
          12.434343434343434,
          12.505050505050505,
          12.575757575757574,
          12.646464646464647,
          12.717171717171716,
          12.787878787878787,
          12.858585858585858,
          12.929292929292929,
          13
         ],
         "y": [
          0.0897722106526791,
          0.0892121285895517,
          0.08862999231336062,
          0.08802628015691155,
          0.08740148585383269,
          0.08675611786653033,
          0.08609069869767157,
          0.08540576418649726,
          0.08470186279128925,
          0.08397955485933353,
          0.08323941188573623,
          0.08248201576245981,
          0.08170795801895613,
          0.08091783905577701,
          0.08011226737254518,
          0.07929185879166693,
          0.0784572356791633,
          0.0776090261639884,
          0.07674786335719354,
          0.0758743845722811,
          0.0749892305480763,
          0.07409304467542438,
          0.0731864722289995,
          0.07227015960548541,
          0.07134475356936153,
          0.07041090050749654,
          0.06946924569372047,
          0.0685204325645103,
          0.06756510200688784,
          0.0666038916595891,
          0.06563743522852432,
          0.06466636181750396,
          0.06369129527516258,
          0.06271285355896662,
          0.06173164811714419,
          0.060748283289327694,
          0.05976335572664935,
          0.05877745383198073,
          0.05779115722095474,
          0.05680503620435786,
          0.05581965129242724,
          0.05483555272153503,
          0.0538532800036893,
          0.0528733614992276,
          0.051896314013027016,
          0.050922642414500716,
          0.04995283928159957,
          0.04898738456898493,
          0.04802674530048746,
          0.04707137528591602,
          0.04612171486223098,
          0.045178190659047435,
          0.04424121538838536,
          0.04331118765853777,
          0.04238849181188192,
          0.04147349778641442,
          0.04056656100074864,
          0.03966802226227115,
          0.03877820769811474,
          0.03789742870856644,
          0.03702598194249443,
          0.03616414929434087,
          0.035312197922196926,
          0.03447038028644377,
          0.03363893420841515,
          0.03281808294851,
          0.03200803530315723,
          0.031208985720013523,
          0.030421114430751656,
          0.029644587600779006,
          0.028879557495207913,
          0.02812616266038428,
          0.02738452812026802,
          0.026654765586946072,
          0.025936973684551484,
          0.025231238185851764,
          0.02453763226076663,
          0.023856216736069195,
          0.023187040365524093,
          0.022530140109714804,
          0.02188554142481425,
          0.02125325855955579,
          0.020633294859665745,
          0.020025643079026004,
          0.019430285696841517,
          0.018847195240097626,
          0.018276334610602237,
          0.017717657415919328,
          0.017171108303514135,
          0.016636623297443035,
          0.016114130136938173,
          0.01560354861625133,
          0.015104790925140018,
          0.014617761989396114,
          0.014142359810836318,
          0.013678475806193536,
          0.013225995144367885,
          0.012784797081517524,
          0.012354755293490291,
          0.011935738205118765
         ]
        }
       ],
       "layout": {
        "annotations": [
         {
          "bordercolor": "rgb(100,110,250)",
          "borderwidth": 2,
          "font": {
           "color": "rgb(100,110,250)",
           "size": 15
          },
          "showarrow": false,
          "text": "0.608",
          "x": 6,
          "xshift": -40,
          "y": 0.0897722106526791,
          "yshift": -100
         },
         {
          "bordercolor": "rgb(239,85,59)",
          "borderwidth": 2,
          "font": {
           "color": "rgb(239,85,59)",
           "size": 15
          },
          "showarrow": false,
          "text": "0.392",
          "x": 6,
          "xshift": 40,
          "y": 0.0897722106526791,
          "yshift": -100
         }
        ],
        "template": {
         "data": {
          "bar": [
           {
            "error_x": {
             "color": "#2a3f5f"
            },
            "error_y": {
             "color": "#2a3f5f"
            },
            "marker": {
             "line": {
              "color": "#E5ECF6",
              "width": 0.5
             },
             "pattern": {
              "fillmode": "overlay",
              "size": 10,
              "solidity": 0.2
             }
            },
            "type": "bar"
           }
          ],
          "barpolar": [
           {
            "marker": {
             "line": {
              "color": "#E5ECF6",
              "width": 0.5
             },
             "pattern": {
              "fillmode": "overlay",
              "size": 10,
              "solidity": 0.2
             }
            },
            "type": "barpolar"
           }
          ],
          "carpet": [
           {
            "aaxis": {
             "endlinecolor": "#2a3f5f",
             "gridcolor": "white",
             "linecolor": "white",
             "minorgridcolor": "white",
             "startlinecolor": "#2a3f5f"
            },
            "baxis": {
             "endlinecolor": "#2a3f5f",
             "gridcolor": "white",
             "linecolor": "white",
             "minorgridcolor": "white",
             "startlinecolor": "#2a3f5f"
            },
            "type": "carpet"
           }
          ],
          "choropleth": [
           {
            "colorbar": {
             "outlinewidth": 0,
             "ticks": ""
            },
            "type": "choropleth"
           }
          ],
          "contour": [
           {
            "colorbar": {
             "outlinewidth": 0,
             "ticks": ""
            },
            "colorscale": [
             [
              0,
              "#0d0887"
             ],
             [
              0.1111111111111111,
              "#46039f"
             ],
             [
              0.2222222222222222,
              "#7201a8"
             ],
             [
              0.3333333333333333,
              "#9c179e"
             ],
             [
              0.4444444444444444,
              "#bd3786"
             ],
             [
              0.5555555555555556,
              "#d8576b"
             ],
             [
              0.6666666666666666,
              "#ed7953"
             ],
             [
              0.7777777777777778,
              "#fb9f3a"
             ],
             [
              0.8888888888888888,
              "#fdca26"
             ],
             [
              1,
              "#f0f921"
             ]
            ],
            "type": "contour"
           }
          ],
          "contourcarpet": [
           {
            "colorbar": {
             "outlinewidth": 0,
             "ticks": ""
            },
            "type": "contourcarpet"
           }
          ],
          "heatmap": [
           {
            "colorbar": {
             "outlinewidth": 0,
             "ticks": ""
            },
            "colorscale": [
             [
              0,
              "#0d0887"
             ],
             [
              0.1111111111111111,
              "#46039f"
             ],
             [
              0.2222222222222222,
              "#7201a8"
             ],
             [
              0.3333333333333333,
              "#9c179e"
             ],
             [
              0.4444444444444444,
              "#bd3786"
             ],
             [
              0.5555555555555556,
              "#d8576b"
             ],
             [
              0.6666666666666666,
              "#ed7953"
             ],
             [
              0.7777777777777778,
              "#fb9f3a"
             ],
             [
              0.8888888888888888,
              "#fdca26"
             ],
             [
              1,
              "#f0f921"
             ]
            ],
            "type": "heatmap"
           }
          ],
          "heatmapgl": [
           {
            "colorbar": {
             "outlinewidth": 0,
             "ticks": ""
            },
            "colorscale": [
             [
              0,
              "#0d0887"
             ],
             [
              0.1111111111111111,
              "#46039f"
             ],
             [
              0.2222222222222222,
              "#7201a8"
             ],
             [
              0.3333333333333333,
              "#9c179e"
             ],
             [
              0.4444444444444444,
              "#bd3786"
             ],
             [
              0.5555555555555556,
              "#d8576b"
             ],
             [
              0.6666666666666666,
              "#ed7953"
             ],
             [
              0.7777777777777778,
              "#fb9f3a"
             ],
             [
              0.8888888888888888,
              "#fdca26"
             ],
             [
              1,
              "#f0f921"
             ]
            ],
            "type": "heatmapgl"
           }
          ],
          "histogram": [
           {
            "marker": {
             "pattern": {
              "fillmode": "overlay",
              "size": 10,
              "solidity": 0.2
             }
            },
            "type": "histogram"
           }
          ],
          "histogram2d": [
           {
            "colorbar": {
             "outlinewidth": 0,
             "ticks": ""
            },
            "colorscale": [
             [
              0,
              "#0d0887"
             ],
             [
              0.1111111111111111,
              "#46039f"
             ],
             [
              0.2222222222222222,
              "#7201a8"
             ],
             [
              0.3333333333333333,
              "#9c179e"
             ],
             [
              0.4444444444444444,
              "#bd3786"
             ],
             [
              0.5555555555555556,
              "#d8576b"
             ],
             [
              0.6666666666666666,
              "#ed7953"
             ],
             [
              0.7777777777777778,
              "#fb9f3a"
             ],
             [
              0.8888888888888888,
              "#fdca26"
             ],
             [
              1,
              "#f0f921"
             ]
            ],
            "type": "histogram2d"
           }
          ],
          "histogram2dcontour": [
           {
            "colorbar": {
             "outlinewidth": 0,
             "ticks": ""
            },
            "colorscale": [
             [
              0,
              "#0d0887"
             ],
             [
              0.1111111111111111,
              "#46039f"
             ],
             [
              0.2222222222222222,
              "#7201a8"
             ],
             [
              0.3333333333333333,
              "#9c179e"
             ],
             [
              0.4444444444444444,
              "#bd3786"
             ],
             [
              0.5555555555555556,
              "#d8576b"
             ],
             [
              0.6666666666666666,
              "#ed7953"
             ],
             [
              0.7777777777777778,
              "#fb9f3a"
             ],
             [
              0.8888888888888888,
              "#fdca26"
             ],
             [
              1,
              "#f0f921"
             ]
            ],
            "type": "histogram2dcontour"
           }
          ],
          "mesh3d": [
           {
            "colorbar": {
             "outlinewidth": 0,
             "ticks": ""
            },
            "type": "mesh3d"
           }
          ],
          "parcoords": [
           {
            "line": {
             "colorbar": {
              "outlinewidth": 0,
              "ticks": ""
             }
            },
            "type": "parcoords"
           }
          ],
          "pie": [
           {
            "automargin": true,
            "type": "pie"
           }
          ],
          "scatter": [
           {
            "marker": {
             "colorbar": {
              "outlinewidth": 0,
              "ticks": ""
             }
            },
            "type": "scatter"
           }
          ],
          "scatter3d": [
           {
            "line": {
             "colorbar": {
              "outlinewidth": 0,
              "ticks": ""
             }
            },
            "marker": {
             "colorbar": {
              "outlinewidth": 0,
              "ticks": ""
             }
            },
            "type": "scatter3d"
           }
          ],
          "scattercarpet": [
           {
            "marker": {
             "colorbar": {
              "outlinewidth": 0,
              "ticks": ""
             }
            },
            "type": "scattercarpet"
           }
          ],
          "scattergeo": [
           {
            "marker": {
             "colorbar": {
              "outlinewidth": 0,
              "ticks": ""
             }
            },
            "type": "scattergeo"
           }
          ],
          "scattergl": [
           {
            "marker": {
             "colorbar": {
              "outlinewidth": 0,
              "ticks": ""
             }
            },
            "type": "scattergl"
           }
          ],
          "scattermapbox": [
           {
            "marker": {
             "colorbar": {
              "outlinewidth": 0,
              "ticks": ""
             }
            },
            "type": "scattermapbox"
           }
          ],
          "scatterpolar": [
           {
            "marker": {
             "colorbar": {
              "outlinewidth": 0,
              "ticks": ""
             }
            },
            "type": "scatterpolar"
           }
          ],
          "scatterpolargl": [
           {
            "marker": {
             "colorbar": {
              "outlinewidth": 0,
              "ticks": ""
             }
            },
            "type": "scatterpolargl"
           }
          ],
          "scatterternary": [
           {
            "marker": {
             "colorbar": {
              "outlinewidth": 0,
              "ticks": ""
             }
            },
            "type": "scatterternary"
           }
          ],
          "surface": [
           {
            "colorbar": {
             "outlinewidth": 0,
             "ticks": ""
            },
            "colorscale": [
             [
              0,
              "#0d0887"
             ],
             [
              0.1111111111111111,
              "#46039f"
             ],
             [
              0.2222222222222222,
              "#7201a8"
             ],
             [
              0.3333333333333333,
              "#9c179e"
             ],
             [
              0.4444444444444444,
              "#bd3786"
             ],
             [
              0.5555555555555556,
              "#d8576b"
             ],
             [
              0.6666666666666666,
              "#ed7953"
             ],
             [
              0.7777777777777778,
              "#fb9f3a"
             ],
             [
              0.8888888888888888,
              "#fdca26"
             ],
             [
              1,
              "#f0f921"
             ]
            ],
            "type": "surface"
           }
          ],
          "table": [
           {
            "cells": {
             "fill": {
              "color": "#EBF0F8"
             },
             "line": {
              "color": "white"
             }
            },
            "header": {
             "fill": {
              "color": "#C8D4E3"
             },
             "line": {
              "color": "white"
             }
            },
            "type": "table"
           }
          ]
         },
         "layout": {
          "annotationdefaults": {
           "arrowcolor": "#2a3f5f",
           "arrowhead": 0,
           "arrowwidth": 1
          },
          "autotypenumbers": "strict",
          "coloraxis": {
           "colorbar": {
            "outlinewidth": 0,
            "ticks": ""
           }
          },
          "colorscale": {
           "diverging": [
            [
             0,
             "#8e0152"
            ],
            [
             0.1,
             "#c51b7d"
            ],
            [
             0.2,
             "#de77ae"
            ],
            [
             0.3,
             "#f1b6da"
            ],
            [
             0.4,
             "#fde0ef"
            ],
            [
             0.5,
             "#f7f7f7"
            ],
            [
             0.6,
             "#e6f5d0"
            ],
            [
             0.7,
             "#b8e186"
            ],
            [
             0.8,
             "#7fbc41"
            ],
            [
             0.9,
             "#4d9221"
            ],
            [
             1,
             "#276419"
            ]
           ],
           "sequential": [
            [
             0,
             "#0d0887"
            ],
            [
             0.1111111111111111,
             "#46039f"
            ],
            [
             0.2222222222222222,
             "#7201a8"
            ],
            [
             0.3333333333333333,
             "#9c179e"
            ],
            [
             0.4444444444444444,
             "#bd3786"
            ],
            [
             0.5555555555555556,
             "#d8576b"
            ],
            [
             0.6666666666666666,
             "#ed7953"
            ],
            [
             0.7777777777777778,
             "#fb9f3a"
            ],
            [
             0.8888888888888888,
             "#fdca26"
            ],
            [
             1,
             "#f0f921"
            ]
           ],
           "sequentialminus": [
            [
             0,
             "#0d0887"
            ],
            [
             0.1111111111111111,
             "#46039f"
            ],
            [
             0.2222222222222222,
             "#7201a8"
            ],
            [
             0.3333333333333333,
             "#9c179e"
            ],
            [
             0.4444444444444444,
             "#bd3786"
            ],
            [
             0.5555555555555556,
             "#d8576b"
            ],
            [
             0.6666666666666666,
             "#ed7953"
            ],
            [
             0.7777777777777778,
             "#fb9f3a"
            ],
            [
             0.8888888888888888,
             "#fdca26"
            ],
            [
             1,
             "#f0f921"
            ]
           ]
          },
          "colorway": [
           "#636efa",
           "#EF553B",
           "#00cc96",
           "#ab63fa",
           "#FFA15A",
           "#19d3f3",
           "#FF6692",
           "#B6E880",
           "#FF97FF",
           "#FECB52"
          ],
          "font": {
           "color": "#2a3f5f"
          },
          "geo": {
           "bgcolor": "white",
           "lakecolor": "white",
           "landcolor": "#E5ECF6",
           "showlakes": true,
           "showland": true,
           "subunitcolor": "white"
          },
          "hoverlabel": {
           "align": "left"
          },
          "hovermode": "closest",
          "mapbox": {
           "style": "light"
          },
          "paper_bgcolor": "white",
          "plot_bgcolor": "#E5ECF6",
          "polar": {
           "angularaxis": {
            "gridcolor": "white",
            "linecolor": "white",
            "ticks": ""
           },
           "bgcolor": "#E5ECF6",
           "radialaxis": {
            "gridcolor": "white",
            "linecolor": "white",
            "ticks": ""
           }
          },
          "scene": {
           "xaxis": {
            "backgroundcolor": "#E5ECF6",
            "gridcolor": "white",
            "gridwidth": 2,
            "linecolor": "white",
            "showbackground": true,
            "ticks": "",
            "zerolinecolor": "white"
           },
           "yaxis": {
            "backgroundcolor": "#E5ECF6",
            "gridcolor": "white",
            "gridwidth": 2,
            "linecolor": "white",
            "showbackground": true,
            "ticks": "",
            "zerolinecolor": "white"
           },
           "zaxis": {
            "backgroundcolor": "#E5ECF6",
            "gridcolor": "white",
            "gridwidth": 2,
            "linecolor": "white",
            "showbackground": true,
            "ticks": "",
            "zerolinecolor": "white"
           }
          },
          "shapedefaults": {
           "line": {
            "color": "#2a3f5f"
           }
          },
          "ternary": {
           "aaxis": {
            "gridcolor": "white",
            "linecolor": "white",
            "ticks": ""
           },
           "baxis": {
            "gridcolor": "white",
            "linecolor": "white",
            "ticks": ""
           },
           "bgcolor": "#E5ECF6",
           "caxis": {
            "gridcolor": "white",
            "linecolor": "white",
            "ticks": ""
           }
          },
          "title": {
           "x": 0.05
          },
          "xaxis": {
           "automargin": true,
           "gridcolor": "white",
           "linecolor": "white",
           "ticks": "",
           "title": {
            "standoff": 15
           },
           "zerolinecolor": "white",
           "zerolinewidth": 2
          },
          "yaxis": {
           "automargin": true,
           "gridcolor": "white",
           "linecolor": "white",
           "ticks": "",
           "title": {
            "standoff": 15
           },
           "zerolinecolor": "white",
           "zerolinewidth": 2
          }
         }
        }
       }
      }
     },
     "metadata": {},
     "output_type": "display_data"
    }
   ],
   "source": [
    "# 복합충전소를 위해 1500 m^2의 부지가 요구됨\n",
    "available_LPG = df_LPG[df_LPG['면적'] > 1500].loc['부산 사하구']['업소명']\n",
    "print(num_available_LPG)\n",
    "LPG_pro = cal_norm(LPG_group['업소명'].mean(),LPG_group['업소명'].std(),LPG_group['업소명'].min(),LPG_group['업소명'].max(),LPG_group.loc['부산 사하구']['업소명'])"
   ]
  },
  {
   "cell_type": "markdown",
   "metadata": {},
   "source": []
  },
  {
   "cell_type": "markdown",
   "metadata": {},
   "source": [
    "### 전기차 충전소 현황 데이터 불러오기"
   ]
  },
  {
   "cell_type": "code",
   "execution_count": 480,
   "metadata": {},
   "outputs": [
    {
     "data": {
      "text/html": [
       "<div>\n",
       "<style scoped>\n",
       "    .dataframe tbody tr th:only-of-type {\n",
       "        vertical-align: middle;\n",
       "    }\n",
       "\n",
       "    .dataframe tbody tr th {\n",
       "        vertical-align: top;\n",
       "    }\n",
       "\n",
       "    .dataframe thead th {\n",
       "        text-align: right;\n",
       "    }\n",
       "</style>\n",
       "<table border=\"1\" class=\"dataframe\">\n",
       "  <thead>\n",
       "    <tr style=\"text-align: right;\">\n",
       "      <th></th>\n",
       "      <th>운영기관</th>\n",
       "      <th>충전소</th>\n",
       "      <th>충전기ID</th>\n",
       "      <th>충전기타입</th>\n",
       "      <th>지역</th>\n",
       "      <th>시군구</th>\n",
       "      <th>주소</th>\n",
       "      <th>위도</th>\n",
       "      <th>경도</th>\n",
       "    </tr>\n",
       "  </thead>\n",
       "  <tbody>\n",
       "    <tr>\n",
       "      <th>0</th>\n",
       "      <td>환경부(한국자동차환경협회)</td>\n",
       "      <td>kbs 부산방송총국</td>\n",
       "      <td>1</td>\n",
       "      <td>DC차데모+AC3상+DC콤보</td>\n",
       "      <td>부산광역시</td>\n",
       "      <td>수영구</td>\n",
       "      <td>부산광역시 수영구 수영로 429</td>\n",
       "      <td>35.144806</td>\n",
       "      <td>129.107595</td>\n",
       "    </tr>\n",
       "    <tr>\n",
       "      <th>1</th>\n",
       "      <td>환경부(한국자동차환경협회)</td>\n",
       "      <td>kbs 부산방송총국</td>\n",
       "      <td>11</td>\n",
       "      <td>DC콤보</td>\n",
       "      <td>부산광역시</td>\n",
       "      <td>수영구</td>\n",
       "      <td>부산광역시 수영구 수영로 429</td>\n",
       "      <td>35.144806</td>\n",
       "      <td>129.107595</td>\n",
       "    </tr>\n",
       "    <tr>\n",
       "      <th>2</th>\n",
       "      <td>환경부(한국자동차환경협회)</td>\n",
       "      <td>kbs 부산방송총국</td>\n",
       "      <td>12</td>\n",
       "      <td>DC콤보</td>\n",
       "      <td>부산광역시</td>\n",
       "      <td>수영구</td>\n",
       "      <td>부산광역시 수영구 수영로 429</td>\n",
       "      <td>35.144806</td>\n",
       "      <td>129.107595</td>\n",
       "    </tr>\n",
       "    <tr>\n",
       "      <th>3</th>\n",
       "      <td>환경부(한국자동차환경협회)</td>\n",
       "      <td>국립부산과학관</td>\n",
       "      <td>11</td>\n",
       "      <td>DC콤보</td>\n",
       "      <td>부산광역시</td>\n",
       "      <td>기장군</td>\n",
       "      <td>부산광역시 기장군 기장읍 석산리 293</td>\n",
       "      <td>35.204002</td>\n",
       "      <td>129.212987</td>\n",
       "    </tr>\n",
       "    <tr>\n",
       "      <th>4</th>\n",
       "      <td>환경부(한국자동차환경협회)</td>\n",
       "      <td>국립부산과학관</td>\n",
       "      <td>12</td>\n",
       "      <td>DC콤보</td>\n",
       "      <td>부산광역시</td>\n",
       "      <td>기장군</td>\n",
       "      <td>부산광역시 기장군 기장읍 석산리 293</td>\n",
       "      <td>35.204002</td>\n",
       "      <td>129.212987</td>\n",
       "    </tr>\n",
       "    <tr>\n",
       "      <th>...</th>\n",
       "      <td>...</td>\n",
       "      <td>...</td>\n",
       "      <td>...</td>\n",
       "      <td>...</td>\n",
       "      <td>...</td>\n",
       "      <td>...</td>\n",
       "      <td>...</td>\n",
       "      <td>...</td>\n",
       "      <td>...</td>\n",
       "    </tr>\n",
       "    <tr>\n",
       "      <th>6291</th>\n",
       "      <td>한국전자금융</td>\n",
       "      <td>부산 플러스타워</td>\n",
       "      <td>1</td>\n",
       "      <td>AC완속</td>\n",
       "      <td>부산광역시</td>\n",
       "      <td>강서구</td>\n",
       "      <td>부산광역시 강서구 명지국제1로 56-1플러스타워(3598-2 플러스타워)</td>\n",
       "      <td>35.093685</td>\n",
       "      <td>128.905372</td>\n",
       "    </tr>\n",
       "    <tr>\n",
       "      <th>6292</th>\n",
       "      <td>한국전자금융</td>\n",
       "      <td>부산 플러스타워</td>\n",
       "      <td>2</td>\n",
       "      <td>AC완속</td>\n",
       "      <td>부산광역시</td>\n",
       "      <td>강서구</td>\n",
       "      <td>부산광역시 강서구 명지국제1로 56-1플러스타워(3598-2 플러스타워)</td>\n",
       "      <td>35.093685</td>\n",
       "      <td>128.905372</td>\n",
       "    </tr>\n",
       "    <tr>\n",
       "      <th>6293</th>\n",
       "      <td>한국전자금융</td>\n",
       "      <td>부산 휴마트괴정점</td>\n",
       "      <td>1</td>\n",
       "      <td>AC완속</td>\n",
       "      <td>부산광역시</td>\n",
       "      <td>사하구</td>\n",
       "      <td>부산광역시 사하구 낙동대로 123휴마트괴정점(괴정동 358-1)</td>\n",
       "      <td>35.103200</td>\n",
       "      <td>129.002528</td>\n",
       "    </tr>\n",
       "    <tr>\n",
       "      <th>6294</th>\n",
       "      <td>한국전자금융</td>\n",
       "      <td>부산 휴마트괴정점</td>\n",
       "      <td>2</td>\n",
       "      <td>AC완속</td>\n",
       "      <td>부산광역시</td>\n",
       "      <td>사하구</td>\n",
       "      <td>부산광역시 사하구 낙동대로 123휴마트괴정점(괴정동 358-1)</td>\n",
       "      <td>35.103200</td>\n",
       "      <td>129.002528</td>\n",
       "    </tr>\n",
       "    <tr>\n",
       "      <th>6295</th>\n",
       "      <td>한국전자금융</td>\n",
       "      <td>부산 휴마트괴정점</td>\n",
       "      <td>3</td>\n",
       "      <td>AC완속</td>\n",
       "      <td>부산광역시</td>\n",
       "      <td>사하구</td>\n",
       "      <td>부산광역시 사하구 낙동대로 123휴마트괴정점(괴정동 358-1)</td>\n",
       "      <td>35.103200</td>\n",
       "      <td>129.002528</td>\n",
       "    </tr>\n",
       "  </tbody>\n",
       "</table>\n",
       "<p>6296 rows × 9 columns</p>\n",
       "</div>"
      ],
      "text/plain": [
       "                운영기관         충전소  충전기ID            충전기타입      지역   시군구  \\\n",
       "0     환경부(한국자동차환경협회)  kbs 부산방송총국      1  DC차데모+AC3상+DC콤보  부산광역시   수영구    \n",
       "1     환경부(한국자동차환경협회)  kbs 부산방송총국     11             DC콤보  부산광역시   수영구    \n",
       "2     환경부(한국자동차환경협회)  kbs 부산방송총국     12             DC콤보  부산광역시   수영구    \n",
       "3     환경부(한국자동차환경협회)     국립부산과학관     11             DC콤보  부산광역시   기장군    \n",
       "4     환경부(한국자동차환경협회)     국립부산과학관     12             DC콤보  부산광역시   기장군    \n",
       "...              ...         ...    ...              ...     ...   ...   \n",
       "6291          한국전자금융    부산 플러스타워      1             AC완속  부산광역시   강서구    \n",
       "6292          한국전자금융    부산 플러스타워      2             AC완속  부산광역시   강서구    \n",
       "6293          한국전자금융   부산 휴마트괴정점      1             AC완속  부산광역시   사하구    \n",
       "6294          한국전자금융   부산 휴마트괴정점      2             AC완속  부산광역시   사하구    \n",
       "6295          한국전자금융   부산 휴마트괴정점      3             AC완속  부산광역시   사하구    \n",
       "\n",
       "                                            주소         위도          경도  \n",
       "0                            부산광역시 수영구 수영로 429  35.144806  129.107595  \n",
       "1                            부산광역시 수영구 수영로 429  35.144806  129.107595  \n",
       "2                            부산광역시 수영구 수영로 429  35.144806  129.107595  \n",
       "3                        부산광역시 기장군 기장읍 석산리 293  35.204002  129.212987  \n",
       "4                        부산광역시 기장군 기장읍 석산리 293  35.204002  129.212987  \n",
       "...                                        ...        ...         ...  \n",
       "6291  부산광역시 강서구 명지국제1로 56-1플러스타워(3598-2 플러스타워)  35.093685  128.905372  \n",
       "6292  부산광역시 강서구 명지국제1로 56-1플러스타워(3598-2 플러스타워)  35.093685  128.905372  \n",
       "6293       부산광역시 사하구 낙동대로 123휴마트괴정점(괴정동 358-1)  35.103200  129.002528  \n",
       "6294       부산광역시 사하구 낙동대로 123휴마트괴정점(괴정동 358-1)  35.103200  129.002528  \n",
       "6295       부산광역시 사하구 낙동대로 123휴마트괴정점(괴정동 358-1)  35.103200  129.002528  \n",
       "\n",
       "[6296 rows x 9 columns]"
      ]
     },
     "execution_count": 480,
     "metadata": {},
     "output_type": "execute_result"
    }
   ],
   "source": [
    "EVCS_file_path = 'C:\\\\Users\\\\SAMSUNG\\\\Desktop\\\\Green-Car-Charging-Station-Site-Selection\\\\Data\\\\부산 전기차 충전소 정보.csv'\n",
    "df_EVCS = pd.read_csv(EVCS_file_path, encoding='cp949')\n",
    "df_EVCS"
   ]
  },
  {
   "cell_type": "code",
   "execution_count": 481,
   "metadata": {},
   "outputs": [
    {
     "data": {
      "text/plain": [
       "6296"
      ]
     },
     "execution_count": 481,
     "metadata": {},
     "output_type": "execute_result"
    }
   ],
   "source": [
    "# 부산 전체 충전기 수 구하기\n",
    "df_EVCS.shape[0]"
   ]
  },
  {
   "cell_type": "code",
   "execution_count": 482,
   "metadata": {},
   "outputs": [
    {
     "data": {
      "text/html": [
       "<div>\n",
       "<style scoped>\n",
       "    .dataframe tbody tr th:only-of-type {\n",
       "        vertical-align: middle;\n",
       "    }\n",
       "\n",
       "    .dataframe tbody tr th {\n",
       "        vertical-align: top;\n",
       "    }\n",
       "\n",
       "    .dataframe thead th {\n",
       "        text-align: right;\n",
       "    }\n",
       "</style>\n",
       "<table border=\"1\" class=\"dataframe\">\n",
       "  <thead>\n",
       "    <tr style=\"text-align: right;\">\n",
       "      <th></th>\n",
       "      <th>운영기관</th>\n",
       "      <th>충전소</th>\n",
       "      <th>충전기ID</th>\n",
       "      <th>충전기타입</th>\n",
       "      <th>지역</th>\n",
       "      <th>주소</th>\n",
       "      <th>위도</th>\n",
       "      <th>경도</th>\n",
       "    </tr>\n",
       "    <tr>\n",
       "      <th>시군구</th>\n",
       "      <th></th>\n",
       "      <th></th>\n",
       "      <th></th>\n",
       "      <th></th>\n",
       "      <th></th>\n",
       "      <th></th>\n",
       "      <th></th>\n",
       "      <th></th>\n",
       "    </tr>\n",
       "  </thead>\n",
       "  <tbody>\n",
       "    <tr>\n",
       "      <th>강서구</th>\n",
       "      <td>465</td>\n",
       "      <td>465</td>\n",
       "      <td>465</td>\n",
       "      <td>465</td>\n",
       "      <td>465</td>\n",
       "      <td>465</td>\n",
       "      <td>465</td>\n",
       "      <td>465</td>\n",
       "    </tr>\n",
       "    <tr>\n",
       "      <th>금정구</th>\n",
       "      <td>311</td>\n",
       "      <td>311</td>\n",
       "      <td>311</td>\n",
       "      <td>311</td>\n",
       "      <td>311</td>\n",
       "      <td>311</td>\n",
       "      <td>311</td>\n",
       "      <td>311</td>\n",
       "    </tr>\n",
       "    <tr>\n",
       "      <th>기장군</th>\n",
       "      <td>504</td>\n",
       "      <td>504</td>\n",
       "      <td>504</td>\n",
       "      <td>504</td>\n",
       "      <td>504</td>\n",
       "      <td>504</td>\n",
       "      <td>504</td>\n",
       "      <td>504</td>\n",
       "    </tr>\n",
       "    <tr>\n",
       "      <th>남구</th>\n",
       "      <td>681</td>\n",
       "      <td>681</td>\n",
       "      <td>681</td>\n",
       "      <td>681</td>\n",
       "      <td>681</td>\n",
       "      <td>681</td>\n",
       "      <td>681</td>\n",
       "      <td>681</td>\n",
       "    </tr>\n",
       "    <tr>\n",
       "      <th>동구</th>\n",
       "      <td>119</td>\n",
       "      <td>119</td>\n",
       "      <td>119</td>\n",
       "      <td>119</td>\n",
       "      <td>119</td>\n",
       "      <td>119</td>\n",
       "      <td>119</td>\n",
       "      <td>119</td>\n",
       "    </tr>\n",
       "    <tr>\n",
       "      <th>동래구</th>\n",
       "      <td>471</td>\n",
       "      <td>471</td>\n",
       "      <td>471</td>\n",
       "      <td>471</td>\n",
       "      <td>471</td>\n",
       "      <td>471</td>\n",
       "      <td>471</td>\n",
       "      <td>471</td>\n",
       "    </tr>\n",
       "    <tr>\n",
       "      <th>부산진구</th>\n",
       "      <td>583</td>\n",
       "      <td>583</td>\n",
       "      <td>583</td>\n",
       "      <td>583</td>\n",
       "      <td>583</td>\n",
       "      <td>583</td>\n",
       "      <td>583</td>\n",
       "      <td>583</td>\n",
       "    </tr>\n",
       "    <tr>\n",
       "      <th>북구</th>\n",
       "      <td>353</td>\n",
       "      <td>353</td>\n",
       "      <td>353</td>\n",
       "      <td>353</td>\n",
       "      <td>353</td>\n",
       "      <td>353</td>\n",
       "      <td>353</td>\n",
       "      <td>353</td>\n",
       "    </tr>\n",
       "    <tr>\n",
       "      <th>사상구</th>\n",
       "      <td>315</td>\n",
       "      <td>315</td>\n",
       "      <td>315</td>\n",
       "      <td>315</td>\n",
       "      <td>315</td>\n",
       "      <td>315</td>\n",
       "      <td>315</td>\n",
       "      <td>315</td>\n",
       "    </tr>\n",
       "    <tr>\n",
       "      <th>사하구</th>\n",
       "      <td>346</td>\n",
       "      <td>346</td>\n",
       "      <td>346</td>\n",
       "      <td>346</td>\n",
       "      <td>346</td>\n",
       "      <td>346</td>\n",
       "      <td>346</td>\n",
       "      <td>346</td>\n",
       "    </tr>\n",
       "    <tr>\n",
       "      <th>서구</th>\n",
       "      <td>133</td>\n",
       "      <td>133</td>\n",
       "      <td>133</td>\n",
       "      <td>133</td>\n",
       "      <td>133</td>\n",
       "      <td>133</td>\n",
       "      <td>133</td>\n",
       "      <td>133</td>\n",
       "    </tr>\n",
       "    <tr>\n",
       "      <th>수영구</th>\n",
       "      <td>253</td>\n",
       "      <td>253</td>\n",
       "      <td>253</td>\n",
       "      <td>253</td>\n",
       "      <td>253</td>\n",
       "      <td>253</td>\n",
       "      <td>253</td>\n",
       "      <td>253</td>\n",
       "    </tr>\n",
       "    <tr>\n",
       "      <th>연제구</th>\n",
       "      <td>342</td>\n",
       "      <td>342</td>\n",
       "      <td>342</td>\n",
       "      <td>342</td>\n",
       "      <td>342</td>\n",
       "      <td>342</td>\n",
       "      <td>342</td>\n",
       "      <td>342</td>\n",
       "    </tr>\n",
       "    <tr>\n",
       "      <th>영도구</th>\n",
       "      <td>150</td>\n",
       "      <td>150</td>\n",
       "      <td>150</td>\n",
       "      <td>150</td>\n",
       "      <td>150</td>\n",
       "      <td>150</td>\n",
       "      <td>150</td>\n",
       "      <td>150</td>\n",
       "    </tr>\n",
       "    <tr>\n",
       "      <th>중구</th>\n",
       "      <td>28</td>\n",
       "      <td>28</td>\n",
       "      <td>28</td>\n",
       "      <td>28</td>\n",
       "      <td>28</td>\n",
       "      <td>28</td>\n",
       "      <td>28</td>\n",
       "      <td>28</td>\n",
       "    </tr>\n",
       "    <tr>\n",
       "      <th>해운대구</th>\n",
       "      <td>1237</td>\n",
       "      <td>1237</td>\n",
       "      <td>1237</td>\n",
       "      <td>1237</td>\n",
       "      <td>1237</td>\n",
       "      <td>1237</td>\n",
       "      <td>1237</td>\n",
       "      <td>1237</td>\n",
       "    </tr>\n",
       "  </tbody>\n",
       "</table>\n",
       "</div>"
      ],
      "text/plain": [
       "       운영기관   충전소  충전기ID  충전기타입    지역    주소    위도    경도\n",
       "시군구                                                    \n",
       "강서구     465   465    465    465   465   465   465   465\n",
       "금정구     311   311    311    311   311   311   311   311\n",
       "기장군     504   504    504    504   504   504   504   504\n",
       "남구      681   681    681    681   681   681   681   681\n",
       "동구      119   119    119    119   119   119   119   119\n",
       "동래구     471   471    471    471   471   471   471   471\n",
       "부산진구    583   583    583    583   583   583   583   583\n",
       "북구      353   353    353    353   353   353   353   353\n",
       "사상구     315   315    315    315   315   315   315   315\n",
       "사하구     346   346    346    346   346   346   346   346\n",
       "서구      133   133    133    133   133   133   133   133\n",
       "수영구     253   253    253    253   253   253   253   253\n",
       "연제구     342   342    342    342   342   342   342   342\n",
       "영도구     150   150    150    150   150   150   150   150\n",
       "중구       28    28     28     28    28    28    28    28\n",
       "해운대구   1237  1237   1237   1237  1237  1237  1237  1237"
      ]
     },
     "execution_count": 482,
     "metadata": {},
     "output_type": "execute_result"
    }
   ],
   "source": [
    "EVCS_group = df_EVCS.groupby('시군구').count()\n",
    "EVCS_group"
   ]
  },
  {
   "cell_type": "code",
   "execution_count": 483,
   "metadata": {},
   "outputs": [
    {
     "data": {
      "application/vnd.plotly.v1+json": {
       "config": {
        "plotlyServerURL": "https://plot.ly"
       },
       "data": [
        {
         "fill": "tozeroy",
         "line": {
          "color": "rgb(100,110,250)"
         },
         "name": "적합",
         "text": "0.4235229150327626",
         "type": "scatter",
         "x": [
          -258.20929841638616,
          -252.106174189958,
          -246.00304996352986,
          -239.89992573710174,
          -233.7968015106736,
          -227.69367728424544,
          -221.5905530578173,
          -215.48742883138914,
          -209.38430460496102,
          -203.28118037853287,
          -197.17805615210472,
          -191.0749319256766,
          -184.97180769924842,
          -178.8686834728203,
          -172.76555924639214,
          -166.662435019964,
          -160.55931079353587,
          -154.4561865671077,
          -148.35306234067957,
          -142.24993811425142,
          -136.14681388782327,
          -130.04368966139515,
          -123.940565434967,
          -117.83744120853885,
          -111.7343169821107,
          -105.63119275568255,
          -99.52806852925443,
          -93.42494430282628,
          -87.32182007639813,
          -81.21869584996998,
          -75.11557162354185,
          -69.0124473971137,
          -62.90932317068555,
          -56.8061989442574,
          -50.70307471782925,
          -44.59995049140113,
          -38.49682626497298,
          -32.39370203854483,
          -26.29057781211668,
          -20.18745358568856,
          -14.084329359260408,
          -7.981205132832258,
          -1.8780809064041364,
          4.225043320024042,
          10.328167546452164,
          16.431291772880343,
          22.534415999308465,
          28.637540225736586,
          34.740664452164765,
          40.84378867859289,
          46.946912905021065,
          53.05003713144919,
          59.15316135787731,
          65.25628558430549,
          71.35940981073361,
          77.46253403716173,
          83.56565826358991,
          89.66878249001803,
          95.77190671644621,
          101.87503094287433,
          107.97815516930245,
          114.08127939573063,
          120.18440362215875,
          126.28752784858693,
          132.39065207501505,
          138.49377630144318,
          144.59690052787136,
          150.70002475429948,
          156.80314898072766,
          162.90627320715578,
          169.0093974335839,
          175.11252166001208,
          181.2156458864402,
          187.31877011286838,
          193.4218943392965,
          199.52501856572462,
          205.6281427921528,
          211.73126701858092,
          217.83439124500904,
          223.93751547143722,
          230.04063969786534,
          236.14376392429352,
          242.24688815072165,
          248.35001237714977,
          254.4531366035779,
          260.5562608300061,
          266.65938505643425,
          272.76250928286237,
          278.8656335092905,
          284.9687577357186,
          291.07188196214685,
          297.17500618857497,
          303.2781304150031,
          309.3812546414312,
          315.48437886785933,
          321.58750309428757,
          327.6906273207157,
          333.7937515471438,
          339.89687577357194,
          346
         ],
         "y": [
          0.00010457290064859909,
          0.00010974827424718436,
          0.00011512741830556109,
          0.00012071530964708115,
          0.0001265168762400424,
          0.00013253698565092114,
          0.00013878043308058409,
          0.00014525192899684158,
          0.00015195608637866406,
          0.00015889740758936584,
          0.00016608027089808476,
          0.00017350891667092472,
          0.00018118743325518346,
          0.00018911974258215204,
          0.00019730958551603142,
          0.00020576050697856488,
          0.00021447584088101274,
          0.00022345869489710291,
          0.00023271193511255334,
          0.00024223817058867793,
          0.0002520397378794504,
          0.00026211868554318454,
          0.0002724767586917082,
          0.00028311538362152605,
          0.0002940356525729908,
          0.00030523830866491697,
          0.00031672373105336437,
          0.00032849192036448377,
          0.00034054248445233707,
          0.0003528746245334825,
          0.000365487121750828,
          0.00037837832421980396,
          0.0003915461346102782,
          0.00040498799831781995,
          0.0004187008922779212,
          0.0004326813144765698,
          0.0004469252742101726,
          0.0004614282831471986,
          0.00047618534724308943,
          0.0004911909595589227,
          0.0005064390940330536,
          0.0005219232002534548,
          0.0005376361992767638,
          0.0005535704805380987,
          0.0005697178998935394,
          0.0005860697788347864,
          0.0006026169049128988,
          0.0006193495334052029,
          0.0006362573902564337,
          0.000653329676321942,
          0.0006705550729373867,
          0.0006879217488357137,
          0.0007054173684284608,
          0.0007230291014644636,
          0.000740743634074952,
          0.0007585471812097911,
          0.0007764255004652506,
          0.0007943639072992264,
          0.0008123472916252612,
          0.0008303601357720755,
          0.0008483865337906113,
          0.000866410212085844,
          0.0008844145513458473,
          0.0009023826097358272,
          0.000920297147320064,
          0.0009381406516699984,
          0.0009558953646120066,
          0.0009735433100638287,
          0.000991066322904111,
          0.0010084460788151433,
          0.0010256641250346212,
          0.0010427019119481908,
          0.0010595408254506014,
          0.0010761622199995998,
          0.0010925474522831794,
          0.0011086779154175466,
          0.00112453507359014,
          0.001140100497059288,
          0.0011553558974196339,
          0.0011702831630402636,
          0.0011848643945806339,
          0.0011990819404878357,
          0.0012129184323775377,
          0.0012263568202000733,
          0.0012393804070926278,
          0.0012519728838183157,
          0.0012641183626931412,
          0.001275801410902399,
          0.0012870070831089955,
          0.0012977209532574808,
          0.001307929145479224,
          0.0013176183640061952,
          0.0013267759220031974,
          0.0013353897692310996,
          0.0013434485184567065,
          0.0013509414705282859,
          0.001357858638039489,
          0.0013641907675084274,
          0.0013699293600029727,
          0.0013750666901479413
         ]
        },
        {
         "fill": "tozeroy",
         "line": {
          "color": "rgb(239,85,59)"
         },
         "name": "부적합",
         "text": "0.4235229150327626",
         "type": "scatter",
         "x": [
          346,
          355,
          364,
          373,
          382,
          391,
          400,
          409,
          418,
          427,
          436,
          445,
          454,
          463,
          472,
          481,
          490,
          499,
          508,
          517,
          526,
          535,
          544,
          553,
          562,
          571,
          580,
          589,
          598,
          607,
          616,
          625,
          634,
          643,
          652,
          661,
          670,
          679,
          688,
          697,
          706,
          715,
          724,
          733,
          742,
          751,
          760,
          769,
          778,
          787,
          796,
          805,
          814,
          823,
          832,
          841,
          850,
          859,
          868,
          877,
          886,
          895,
          904,
          913,
          922,
          931,
          940,
          949,
          958,
          967,
          976,
          985,
          994,
          1003,
          1012,
          1021,
          1030,
          1039,
          1048,
          1057,
          1066,
          1075,
          1084,
          1093,
          1102,
          1111,
          1120,
          1129,
          1138,
          1147,
          1156,
          1165,
          1174,
          1183,
          1192,
          1201,
          1210,
          1219,
          1228,
          1237
         ],
         "y": [
          0.0013750666901479413,
          0.0013815309430561453,
          0.0013866537546758306,
          0.001390420005999596,
          0.0013928185577889729,
          0.0013938423054661165,
          0.0013934882141755183,
          0.0013917573337735582,
          0.001388654793642297,
          0.0013841897773633515,
          0.0013783754774268667,
          0.0013712290302881917,
          0.0013627714322196841,
          0.001353027436535942,
          0.0013420254328965103,
          0.0013297973095096596,
          0.0013163782991731869,
          0.0013018068101923236,
          0.0012861242433099994,
          0.0012693747958700285,
          0.0012516052545086843,
          0.0012328647777340095,
          0.0012132046698046415,
          0.001192678147360618,
          0.001171340100287339,
          0.0011492468483105347,
          0.0011264558948247546,
          0.0011030256794507258,
          0.0010790153307981545,
          0.001054484420880604,
          0.0010294927225883994,
          0.0010040999715746797,
          0.0009783656338494286,
          0.0009523486803072544,
          0.00092610736933772,
          0.0008996990385829761,
          0.0008731799068172567,
          0.0008466048868274038,
          0.000820027410073974,
          0.0007934992638096301,
          0.0007670704412264408,
          0.0007407890050973753,
          0.0007147009652706666,
          0.0006888501702697594,
          0.0006632782131471663,
          0.0006380243516385908,
          0.0006131254425649283,
          0.000588615890335,
          0.000564527609311756,
          0.0005408899997198559,
          0.0005177299366934823,
          0.000495071771990477,
          0.0004729373478327548,
          0.0004513460222737571,
          0.00043031470544168727,
          0.0004098579059625487,
          0.00038998778682966127,
          0.0003707142299563483,
          0.0003520449086257917,
          0.0003339853670364893,
          0.0003165391061331215,
          0.0002997076749106762,
          0.00028349076638406484,
          0.00026788631742585194,
          0.00025289061169068256,
          0.00023849838486613247,
          0.00022470293151552847,
          0.00021149621280834067,
          0.00019886896446752198,
          0.00018681080430017196,
          0.00017531033871762215,
          0.00016435526769298075,
          0.00015393248764784074,
          0.00014402819180476883,
          0.00013462796758788737,
          0.00012571689069990424,
          0.00011727961554989963,
          0.0001093004617516849,
          0.00010176349645720729,
          0.0000946526123329953,
          0.00008795160102969152,
          0.0000816442220350699,
          0.00007571426683932581,
          0.00007014561837769493,
          0.00006492230574941171,
          0.000060028554243554645,
          0.00005544883073134046,
          0.000051167884510852765,
          0.00004717078371400181,
          0.00004344294740668842,
          0.000039970173531717965,
          0.00003673866286000909,
          0.00003373503912914276,
          0.0000309463655593661,
          0.00002836015794591675,
          0.00002596439453306481,
          0.00002374752287971648,
          0.000021698463928911564,
          0.00001980661349422363,
          0.000018061841375078575
         ]
        }
       ],
       "layout": {
        "annotations": [
         {
          "bordercolor": "rgb(100,110,250)",
          "borderwidth": 2,
          "font": {
           "color": "rgb(100,110,250)",
           "size": 15
          },
          "showarrow": false,
          "text": "0.424",
          "x": 346,
          "xshift": -40,
          "y": 0.0013750666901479413,
          "yshift": -100
         },
         {
          "bordercolor": "rgb(239,85,59)",
          "borderwidth": 2,
          "font": {
           "color": "rgb(239,85,59)",
           "size": 15
          },
          "showarrow": false,
          "text": "0.576",
          "x": 346,
          "xshift": 40,
          "y": 0.0013750666901479413,
          "yshift": -100
         }
        ],
        "template": {
         "data": {
          "bar": [
           {
            "error_x": {
             "color": "#2a3f5f"
            },
            "error_y": {
             "color": "#2a3f5f"
            },
            "marker": {
             "line": {
              "color": "#E5ECF6",
              "width": 0.5
             },
             "pattern": {
              "fillmode": "overlay",
              "size": 10,
              "solidity": 0.2
             }
            },
            "type": "bar"
           }
          ],
          "barpolar": [
           {
            "marker": {
             "line": {
              "color": "#E5ECF6",
              "width": 0.5
             },
             "pattern": {
              "fillmode": "overlay",
              "size": 10,
              "solidity": 0.2
             }
            },
            "type": "barpolar"
           }
          ],
          "carpet": [
           {
            "aaxis": {
             "endlinecolor": "#2a3f5f",
             "gridcolor": "white",
             "linecolor": "white",
             "minorgridcolor": "white",
             "startlinecolor": "#2a3f5f"
            },
            "baxis": {
             "endlinecolor": "#2a3f5f",
             "gridcolor": "white",
             "linecolor": "white",
             "minorgridcolor": "white",
             "startlinecolor": "#2a3f5f"
            },
            "type": "carpet"
           }
          ],
          "choropleth": [
           {
            "colorbar": {
             "outlinewidth": 0,
             "ticks": ""
            },
            "type": "choropleth"
           }
          ],
          "contour": [
           {
            "colorbar": {
             "outlinewidth": 0,
             "ticks": ""
            },
            "colorscale": [
             [
              0,
              "#0d0887"
             ],
             [
              0.1111111111111111,
              "#46039f"
             ],
             [
              0.2222222222222222,
              "#7201a8"
             ],
             [
              0.3333333333333333,
              "#9c179e"
             ],
             [
              0.4444444444444444,
              "#bd3786"
             ],
             [
              0.5555555555555556,
              "#d8576b"
             ],
             [
              0.6666666666666666,
              "#ed7953"
             ],
             [
              0.7777777777777778,
              "#fb9f3a"
             ],
             [
              0.8888888888888888,
              "#fdca26"
             ],
             [
              1,
              "#f0f921"
             ]
            ],
            "type": "contour"
           }
          ],
          "contourcarpet": [
           {
            "colorbar": {
             "outlinewidth": 0,
             "ticks": ""
            },
            "type": "contourcarpet"
           }
          ],
          "heatmap": [
           {
            "colorbar": {
             "outlinewidth": 0,
             "ticks": ""
            },
            "colorscale": [
             [
              0,
              "#0d0887"
             ],
             [
              0.1111111111111111,
              "#46039f"
             ],
             [
              0.2222222222222222,
              "#7201a8"
             ],
             [
              0.3333333333333333,
              "#9c179e"
             ],
             [
              0.4444444444444444,
              "#bd3786"
             ],
             [
              0.5555555555555556,
              "#d8576b"
             ],
             [
              0.6666666666666666,
              "#ed7953"
             ],
             [
              0.7777777777777778,
              "#fb9f3a"
             ],
             [
              0.8888888888888888,
              "#fdca26"
             ],
             [
              1,
              "#f0f921"
             ]
            ],
            "type": "heatmap"
           }
          ],
          "heatmapgl": [
           {
            "colorbar": {
             "outlinewidth": 0,
             "ticks": ""
            },
            "colorscale": [
             [
              0,
              "#0d0887"
             ],
             [
              0.1111111111111111,
              "#46039f"
             ],
             [
              0.2222222222222222,
              "#7201a8"
             ],
             [
              0.3333333333333333,
              "#9c179e"
             ],
             [
              0.4444444444444444,
              "#bd3786"
             ],
             [
              0.5555555555555556,
              "#d8576b"
             ],
             [
              0.6666666666666666,
              "#ed7953"
             ],
             [
              0.7777777777777778,
              "#fb9f3a"
             ],
             [
              0.8888888888888888,
              "#fdca26"
             ],
             [
              1,
              "#f0f921"
             ]
            ],
            "type": "heatmapgl"
           }
          ],
          "histogram": [
           {
            "marker": {
             "pattern": {
              "fillmode": "overlay",
              "size": 10,
              "solidity": 0.2
             }
            },
            "type": "histogram"
           }
          ],
          "histogram2d": [
           {
            "colorbar": {
             "outlinewidth": 0,
             "ticks": ""
            },
            "colorscale": [
             [
              0,
              "#0d0887"
             ],
             [
              0.1111111111111111,
              "#46039f"
             ],
             [
              0.2222222222222222,
              "#7201a8"
             ],
             [
              0.3333333333333333,
              "#9c179e"
             ],
             [
              0.4444444444444444,
              "#bd3786"
             ],
             [
              0.5555555555555556,
              "#d8576b"
             ],
             [
              0.6666666666666666,
              "#ed7953"
             ],
             [
              0.7777777777777778,
              "#fb9f3a"
             ],
             [
              0.8888888888888888,
              "#fdca26"
             ],
             [
              1,
              "#f0f921"
             ]
            ],
            "type": "histogram2d"
           }
          ],
          "histogram2dcontour": [
           {
            "colorbar": {
             "outlinewidth": 0,
             "ticks": ""
            },
            "colorscale": [
             [
              0,
              "#0d0887"
             ],
             [
              0.1111111111111111,
              "#46039f"
             ],
             [
              0.2222222222222222,
              "#7201a8"
             ],
             [
              0.3333333333333333,
              "#9c179e"
             ],
             [
              0.4444444444444444,
              "#bd3786"
             ],
             [
              0.5555555555555556,
              "#d8576b"
             ],
             [
              0.6666666666666666,
              "#ed7953"
             ],
             [
              0.7777777777777778,
              "#fb9f3a"
             ],
             [
              0.8888888888888888,
              "#fdca26"
             ],
             [
              1,
              "#f0f921"
             ]
            ],
            "type": "histogram2dcontour"
           }
          ],
          "mesh3d": [
           {
            "colorbar": {
             "outlinewidth": 0,
             "ticks": ""
            },
            "type": "mesh3d"
           }
          ],
          "parcoords": [
           {
            "line": {
             "colorbar": {
              "outlinewidth": 0,
              "ticks": ""
             }
            },
            "type": "parcoords"
           }
          ],
          "pie": [
           {
            "automargin": true,
            "type": "pie"
           }
          ],
          "scatter": [
           {
            "marker": {
             "colorbar": {
              "outlinewidth": 0,
              "ticks": ""
             }
            },
            "type": "scatter"
           }
          ],
          "scatter3d": [
           {
            "line": {
             "colorbar": {
              "outlinewidth": 0,
              "ticks": ""
             }
            },
            "marker": {
             "colorbar": {
              "outlinewidth": 0,
              "ticks": ""
             }
            },
            "type": "scatter3d"
           }
          ],
          "scattercarpet": [
           {
            "marker": {
             "colorbar": {
              "outlinewidth": 0,
              "ticks": ""
             }
            },
            "type": "scattercarpet"
           }
          ],
          "scattergeo": [
           {
            "marker": {
             "colorbar": {
              "outlinewidth": 0,
              "ticks": ""
             }
            },
            "type": "scattergeo"
           }
          ],
          "scattergl": [
           {
            "marker": {
             "colorbar": {
              "outlinewidth": 0,
              "ticks": ""
             }
            },
            "type": "scattergl"
           }
          ],
          "scattermapbox": [
           {
            "marker": {
             "colorbar": {
              "outlinewidth": 0,
              "ticks": ""
             }
            },
            "type": "scattermapbox"
           }
          ],
          "scatterpolar": [
           {
            "marker": {
             "colorbar": {
              "outlinewidth": 0,
              "ticks": ""
             }
            },
            "type": "scatterpolar"
           }
          ],
          "scatterpolargl": [
           {
            "marker": {
             "colorbar": {
              "outlinewidth": 0,
              "ticks": ""
             }
            },
            "type": "scatterpolargl"
           }
          ],
          "scatterternary": [
           {
            "marker": {
             "colorbar": {
              "outlinewidth": 0,
              "ticks": ""
             }
            },
            "type": "scatterternary"
           }
          ],
          "surface": [
           {
            "colorbar": {
             "outlinewidth": 0,
             "ticks": ""
            },
            "colorscale": [
             [
              0,
              "#0d0887"
             ],
             [
              0.1111111111111111,
              "#46039f"
             ],
             [
              0.2222222222222222,
              "#7201a8"
             ],
             [
              0.3333333333333333,
              "#9c179e"
             ],
             [
              0.4444444444444444,
              "#bd3786"
             ],
             [
              0.5555555555555556,
              "#d8576b"
             ],
             [
              0.6666666666666666,
              "#ed7953"
             ],
             [
              0.7777777777777778,
              "#fb9f3a"
             ],
             [
              0.8888888888888888,
              "#fdca26"
             ],
             [
              1,
              "#f0f921"
             ]
            ],
            "type": "surface"
           }
          ],
          "table": [
           {
            "cells": {
             "fill": {
              "color": "#EBF0F8"
             },
             "line": {
              "color": "white"
             }
            },
            "header": {
             "fill": {
              "color": "#C8D4E3"
             },
             "line": {
              "color": "white"
             }
            },
            "type": "table"
           }
          ]
         },
         "layout": {
          "annotationdefaults": {
           "arrowcolor": "#2a3f5f",
           "arrowhead": 0,
           "arrowwidth": 1
          },
          "autotypenumbers": "strict",
          "coloraxis": {
           "colorbar": {
            "outlinewidth": 0,
            "ticks": ""
           }
          },
          "colorscale": {
           "diverging": [
            [
             0,
             "#8e0152"
            ],
            [
             0.1,
             "#c51b7d"
            ],
            [
             0.2,
             "#de77ae"
            ],
            [
             0.3,
             "#f1b6da"
            ],
            [
             0.4,
             "#fde0ef"
            ],
            [
             0.5,
             "#f7f7f7"
            ],
            [
             0.6,
             "#e6f5d0"
            ],
            [
             0.7,
             "#b8e186"
            ],
            [
             0.8,
             "#7fbc41"
            ],
            [
             0.9,
             "#4d9221"
            ],
            [
             1,
             "#276419"
            ]
           ],
           "sequential": [
            [
             0,
             "#0d0887"
            ],
            [
             0.1111111111111111,
             "#46039f"
            ],
            [
             0.2222222222222222,
             "#7201a8"
            ],
            [
             0.3333333333333333,
             "#9c179e"
            ],
            [
             0.4444444444444444,
             "#bd3786"
            ],
            [
             0.5555555555555556,
             "#d8576b"
            ],
            [
             0.6666666666666666,
             "#ed7953"
            ],
            [
             0.7777777777777778,
             "#fb9f3a"
            ],
            [
             0.8888888888888888,
             "#fdca26"
            ],
            [
             1,
             "#f0f921"
            ]
           ],
           "sequentialminus": [
            [
             0,
             "#0d0887"
            ],
            [
             0.1111111111111111,
             "#46039f"
            ],
            [
             0.2222222222222222,
             "#7201a8"
            ],
            [
             0.3333333333333333,
             "#9c179e"
            ],
            [
             0.4444444444444444,
             "#bd3786"
            ],
            [
             0.5555555555555556,
             "#d8576b"
            ],
            [
             0.6666666666666666,
             "#ed7953"
            ],
            [
             0.7777777777777778,
             "#fb9f3a"
            ],
            [
             0.8888888888888888,
             "#fdca26"
            ],
            [
             1,
             "#f0f921"
            ]
           ]
          },
          "colorway": [
           "#636efa",
           "#EF553B",
           "#00cc96",
           "#ab63fa",
           "#FFA15A",
           "#19d3f3",
           "#FF6692",
           "#B6E880",
           "#FF97FF",
           "#FECB52"
          ],
          "font": {
           "color": "#2a3f5f"
          },
          "geo": {
           "bgcolor": "white",
           "lakecolor": "white",
           "landcolor": "#E5ECF6",
           "showlakes": true,
           "showland": true,
           "subunitcolor": "white"
          },
          "hoverlabel": {
           "align": "left"
          },
          "hovermode": "closest",
          "mapbox": {
           "style": "light"
          },
          "paper_bgcolor": "white",
          "plot_bgcolor": "#E5ECF6",
          "polar": {
           "angularaxis": {
            "gridcolor": "white",
            "linecolor": "white",
            "ticks": ""
           },
           "bgcolor": "#E5ECF6",
           "radialaxis": {
            "gridcolor": "white",
            "linecolor": "white",
            "ticks": ""
           }
          },
          "scene": {
           "xaxis": {
            "backgroundcolor": "#E5ECF6",
            "gridcolor": "white",
            "gridwidth": 2,
            "linecolor": "white",
            "showbackground": true,
            "ticks": "",
            "zerolinecolor": "white"
           },
           "yaxis": {
            "backgroundcolor": "#E5ECF6",
            "gridcolor": "white",
            "gridwidth": 2,
            "linecolor": "white",
            "showbackground": true,
            "ticks": "",
            "zerolinecolor": "white"
           },
           "zaxis": {
            "backgroundcolor": "#E5ECF6",
            "gridcolor": "white",
            "gridwidth": 2,
            "linecolor": "white",
            "showbackground": true,
            "ticks": "",
            "zerolinecolor": "white"
           }
          },
          "shapedefaults": {
           "line": {
            "color": "#2a3f5f"
           }
          },
          "ternary": {
           "aaxis": {
            "gridcolor": "white",
            "linecolor": "white",
            "ticks": ""
           },
           "baxis": {
            "gridcolor": "white",
            "linecolor": "white",
            "ticks": ""
           },
           "bgcolor": "#E5ECF6",
           "caxis": {
            "gridcolor": "white",
            "linecolor": "white",
            "ticks": ""
           }
          },
          "title": {
           "x": 0.05
          },
          "xaxis": {
           "automargin": true,
           "gridcolor": "white",
           "linecolor": "white",
           "ticks": "",
           "title": {
            "standoff": 15
           },
           "zerolinecolor": "white",
           "zerolinewidth": 2
          },
          "yaxis": {
           "automargin": true,
           "gridcolor": "white",
           "linecolor": "white",
           "ticks": "",
           "title": {
            "standoff": 15
           },
           "zerolinecolor": "white",
           "zerolinewidth": 2
          }
         }
        }
       }
      }
     },
     "metadata": {},
     "output_type": "display_data"
    }
   ],
   "source": [
    "EVCS_group['충전소'] = EVCS_group['충전소'].astype(int)\n",
    "EVCS_pro = cal_norm(EVCS_group['충전소'].mean(),EVCS_group['충전소'].std(),EVCS_group['충전소'].min(),EVCS_group['충전소'].max(),EVCS_group.loc['사하구 ']['충전소'])"
   ]
  },
  {
   "cell_type": "markdown",
   "metadata": {},
   "source": [
    "### 수소충전소 현황 데이터 불러오기"
   ]
  },
  {
   "cell_type": "code",
   "execution_count": 484,
   "metadata": {},
   "outputs": [
    {
     "data": {
      "text/html": [
       "<div>\n",
       "<style scoped>\n",
       "    .dataframe tbody tr th:only-of-type {\n",
       "        vertical-align: middle;\n",
       "    }\n",
       "\n",
       "    .dataframe tbody tr th {\n",
       "        vertical-align: top;\n",
       "    }\n",
       "\n",
       "    .dataframe thead th {\n",
       "        text-align: right;\n",
       "    }\n",
       "</style>\n",
       "<table border=\"1\" class=\"dataframe\">\n",
       "  <thead>\n",
       "    <tr style=\"text-align: right;\">\n",
       "      <th></th>\n",
       "      <th>충전소</th>\n",
       "      <th>충전기</th>\n",
       "      <th>주소</th>\n",
       "      <th>이용가능시간</th>\n",
       "    </tr>\n",
       "  </thead>\n",
       "  <tbody>\n",
       "    <tr>\n",
       "      <th>0</th>\n",
       "      <td>상암수소충전소</td>\n",
       "      <td>1</td>\n",
       "      <td>서울특별시 마포구 하늘공원로 108</td>\n",
       "      <td>8~20시(연중무휴)</td>\n",
       "    </tr>\n",
       "    <tr>\n",
       "      <th>1</th>\n",
       "      <td>마곡에코수소충전소</td>\n",
       "      <td>1</td>\n",
       "      <td>서울특별시 강서구 양천로 225</td>\n",
       "      <td>8~20시(일요일 휴무)</td>\n",
       "    </tr>\n",
       "    <tr>\n",
       "      <th>2</th>\n",
       "      <td>오곡수소충전소</td>\n",
       "      <td>1</td>\n",
       "      <td>서울특별시 강서구 벌말로 271</td>\n",
       "      <td>8~22시(연중무휴)</td>\n",
       "    </tr>\n",
       "    <tr>\n",
       "      <th>3</th>\n",
       "      <td>H국회수소충전소</td>\n",
       "      <td>1</td>\n",
       "      <td>서울특별시 영등포구 의사당대로 1</td>\n",
       "      <td>평일 8~24시 / 주말, 공휴일 8~22시</td>\n",
       "    </tr>\n",
       "    <tr>\n",
       "      <th>4</th>\n",
       "      <td>양재수소충전소</td>\n",
       "      <td>1</td>\n",
       "      <td>서울특별시 서초구 바우뫼로12길 73</td>\n",
       "      <td>8~22시(연중무휴)</td>\n",
       "    </tr>\n",
       "    <tr>\n",
       "      <th>...</th>\n",
       "      <td>...</td>\n",
       "      <td>...</td>\n",
       "      <td>...</td>\n",
       "      <td>...</td>\n",
       "    </tr>\n",
       "    <tr>\n",
       "      <th>103</th>\n",
       "      <td>하이넷 통영용남수소충전소</td>\n",
       "      <td>1</td>\n",
       "      <td>경상남도 통영시 용남면 남해안대로 38</td>\n",
       "      <td>7~21시(매주 수요일 / 둘, 넷째주 일요일 휴무)</td>\n",
       "    </tr>\n",
       "    <tr>\n",
       "      <th>104</th>\n",
       "      <td>김해수소충전소</td>\n",
       "      <td>2</td>\n",
       "      <td>경상남도 김해시 김해대로2596번길 53</td>\n",
       "      <td>평일 8~21시 / 주말, 공휴일 9~18시</td>\n",
       "    </tr>\n",
       "    <tr>\n",
       "      <th>105</th>\n",
       "      <td>하이넷 거제장평수소충전소</td>\n",
       "      <td>1</td>\n",
       "      <td>경상남도 거제시 거제대로 5050</td>\n",
       "      <td>6~24시(일요일 휴무)</td>\n",
       "    </tr>\n",
       "    <tr>\n",
       "      <th>106</th>\n",
       "      <td>양산시증산수소충전소</td>\n",
       "      <td>1</td>\n",
       "      <td>경상남도 양산시 물금읍 메기로 114</td>\n",
       "      <td>7~23시(연중무휴)</td>\n",
       "    </tr>\n",
       "    <tr>\n",
       "      <th>107</th>\n",
       "      <td>H함안수소충전소</td>\n",
       "      <td>1</td>\n",
       "      <td>경상남도 함안군 군북면 현포로 205</td>\n",
       "      <td>8~22시(연중무휴)</td>\n",
       "    </tr>\n",
       "  </tbody>\n",
       "</table>\n",
       "<p>108 rows × 4 columns</p>\n",
       "</div>"
      ],
      "text/plain": [
       "               충전소  충전기                       주소  \\\n",
       "0          상암수소충전소    1     서울특별시 마포구 하늘공원로 108    \n",
       "1        마곡에코수소충전소    1       서울특별시 강서구 양천로 225    \n",
       "2          오곡수소충전소    1       서울특별시 강서구 벌말로 271    \n",
       "3         H국회수소충전소    1      서울특별시 영등포구 의사당대로 1    \n",
       "4          양재수소충전소    1    서울특별시 서초구 바우뫼로12길 73    \n",
       "..             ...  ...                      ...   \n",
       "103  하이넷 통영용남수소충전소    1   경상남도 통영시 용남면 남해안대로 38    \n",
       "104        김해수소충전소    2  경상남도 김해시 김해대로2596번길 53    \n",
       "105  하이넷 거제장평수소충전소    1      경상남도 거제시 거제대로 5050    \n",
       "106     양산시증산수소충전소    1    경상남도 양산시 물금읍 메기로 114    \n",
       "107       H함안수소충전소    1    경상남도 함안군 군북면 현포로 205    \n",
       "\n",
       "                            이용가능시간  \n",
       "0                      8~20시(연중무휴)  \n",
       "1                    8~20시(일요일 휴무)  \n",
       "2                      8~22시(연중무휴)  \n",
       "3         평일 8~24시 / 주말, 공휴일 8~22시  \n",
       "4                      8~22시(연중무휴)  \n",
       "..                             ...  \n",
       "103  7~21시(매주 수요일 / 둘, 넷째주 일요일 휴무)  \n",
       "104       평일 8~21시 / 주말, 공휴일 9~18시  \n",
       "105                  6~24시(일요일 휴무)  \n",
       "106                    7~23시(연중무휴)  \n",
       "107                    8~22시(연중무휴)  \n",
       "\n",
       "[108 rows x 4 columns]"
      ]
     },
     "execution_count": 484,
     "metadata": {},
     "output_type": "execute_result"
    }
   ],
   "source": [
    "HVCS_file_path = 'C:\\\\Users\\\\SAMSUNG\\\\Desktop\\\\Green-Car-Charging-Station-Site-Selection\\\\Data\\\\수소충전소(환경부).csv'\n",
    "df_HVCS = pd.read_csv(HVCS_file_path, encoding='cp949')\n",
    "df_HVCS"
   ]
  },
  {
   "cell_type": "code",
   "execution_count": 485,
   "metadata": {},
   "outputs": [
    {
     "data": {
      "text/html": [
       "<div>\n",
       "<style scoped>\n",
       "    .dataframe tbody tr th:only-of-type {\n",
       "        vertical-align: middle;\n",
       "    }\n",
       "\n",
       "    .dataframe tbody tr th {\n",
       "        vertical-align: top;\n",
       "    }\n",
       "\n",
       "    .dataframe thead th {\n",
       "        text-align: right;\n",
       "    }\n",
       "</style>\n",
       "<table border=\"1\" class=\"dataframe\">\n",
       "  <thead>\n",
       "    <tr style=\"text-align: right;\">\n",
       "      <th></th>\n",
       "      <th>충전소</th>\n",
       "      <th>충전기</th>\n",
       "      <th>시</th>\n",
       "      <th>구</th>\n",
       "      <th>주소</th>\n",
       "      <th>이용가능시간</th>\n",
       "    </tr>\n",
       "  </thead>\n",
       "  <tbody>\n",
       "    <tr>\n",
       "      <th>0</th>\n",
       "      <td>상암수소충전소</td>\n",
       "      <td>1</td>\n",
       "      <td>서울특별시</td>\n",
       "      <td>마포구</td>\n",
       "      <td>서울특별시 마포구 하늘공원로 108</td>\n",
       "      <td>8~20시(연중무휴)</td>\n",
       "    </tr>\n",
       "    <tr>\n",
       "      <th>1</th>\n",
       "      <td>마곡에코수소충전소</td>\n",
       "      <td>1</td>\n",
       "      <td>서울특별시</td>\n",
       "      <td>강서구</td>\n",
       "      <td>서울특별시 강서구 양천로 225</td>\n",
       "      <td>8~20시(일요일 휴무)</td>\n",
       "    </tr>\n",
       "    <tr>\n",
       "      <th>2</th>\n",
       "      <td>오곡수소충전소</td>\n",
       "      <td>1</td>\n",
       "      <td>서울특별시</td>\n",
       "      <td>강서구</td>\n",
       "      <td>서울특별시 강서구 벌말로 271</td>\n",
       "      <td>8~22시(연중무휴)</td>\n",
       "    </tr>\n",
       "    <tr>\n",
       "      <th>3</th>\n",
       "      <td>H국회수소충전소</td>\n",
       "      <td>1</td>\n",
       "      <td>서울특별시</td>\n",
       "      <td>영등포구</td>\n",
       "      <td>서울특별시 영등포구 의사당대로 1</td>\n",
       "      <td>평일 8~24시 / 주말, 공휴일 8~22시</td>\n",
       "    </tr>\n",
       "    <tr>\n",
       "      <th>4</th>\n",
       "      <td>양재수소충전소</td>\n",
       "      <td>1</td>\n",
       "      <td>서울특별시</td>\n",
       "      <td>서초구</td>\n",
       "      <td>서울특별시 서초구 바우뫼로12길 73</td>\n",
       "      <td>8~22시(연중무휴)</td>\n",
       "    </tr>\n",
       "    <tr>\n",
       "      <th>...</th>\n",
       "      <td>...</td>\n",
       "      <td>...</td>\n",
       "      <td>...</td>\n",
       "      <td>...</td>\n",
       "      <td>...</td>\n",
       "      <td>...</td>\n",
       "    </tr>\n",
       "    <tr>\n",
       "      <th>103</th>\n",
       "      <td>하이넷 통영용남수소충전소</td>\n",
       "      <td>1</td>\n",
       "      <td>경상남도</td>\n",
       "      <td>통영시</td>\n",
       "      <td>경상남도 통영시 용남면 남해안대로 38</td>\n",
       "      <td>7~21시(매주 수요일 / 둘, 넷째주 일요일 휴무)</td>\n",
       "    </tr>\n",
       "    <tr>\n",
       "      <th>104</th>\n",
       "      <td>김해수소충전소</td>\n",
       "      <td>2</td>\n",
       "      <td>경상남도</td>\n",
       "      <td>김해시</td>\n",
       "      <td>경상남도 김해시 김해대로2596번길 53</td>\n",
       "      <td>평일 8~21시 / 주말, 공휴일 9~18시</td>\n",
       "    </tr>\n",
       "    <tr>\n",
       "      <th>105</th>\n",
       "      <td>하이넷 거제장평수소충전소</td>\n",
       "      <td>1</td>\n",
       "      <td>경상남도</td>\n",
       "      <td>거제시</td>\n",
       "      <td>경상남도 거제시 거제대로 5050</td>\n",
       "      <td>6~24시(일요일 휴무)</td>\n",
       "    </tr>\n",
       "    <tr>\n",
       "      <th>106</th>\n",
       "      <td>양산시증산수소충전소</td>\n",
       "      <td>1</td>\n",
       "      <td>경상남도</td>\n",
       "      <td>양산시</td>\n",
       "      <td>경상남도 양산시 물금읍 메기로 114</td>\n",
       "      <td>7~23시(연중무휴)</td>\n",
       "    </tr>\n",
       "    <tr>\n",
       "      <th>107</th>\n",
       "      <td>H함안수소충전소</td>\n",
       "      <td>1</td>\n",
       "      <td>경상남도</td>\n",
       "      <td>함안군</td>\n",
       "      <td>경상남도 함안군 군북면 현포로 205</td>\n",
       "      <td>8~22시(연중무휴)</td>\n",
       "    </tr>\n",
       "  </tbody>\n",
       "</table>\n",
       "<p>108 rows × 6 columns</p>\n",
       "</div>"
      ],
      "text/plain": [
       "               충전소  충전기      시     구                       주소  \\\n",
       "0          상암수소충전소    1  서울특별시   마포구     서울특별시 마포구 하늘공원로 108    \n",
       "1        마곡에코수소충전소    1  서울특별시   강서구       서울특별시 강서구 양천로 225    \n",
       "2          오곡수소충전소    1  서울특별시   강서구       서울특별시 강서구 벌말로 271    \n",
       "3         H국회수소충전소    1  서울특별시  영등포구      서울특별시 영등포구 의사당대로 1    \n",
       "4          양재수소충전소    1  서울특별시   서초구    서울특별시 서초구 바우뫼로12길 73    \n",
       "..             ...  ...    ...   ...                      ...   \n",
       "103  하이넷 통영용남수소충전소    1   경상남도   통영시   경상남도 통영시 용남면 남해안대로 38    \n",
       "104        김해수소충전소    2   경상남도   김해시  경상남도 김해시 김해대로2596번길 53    \n",
       "105  하이넷 거제장평수소충전소    1   경상남도   거제시      경상남도 거제시 거제대로 5050    \n",
       "106     양산시증산수소충전소    1   경상남도   양산시    경상남도 양산시 물금읍 메기로 114    \n",
       "107       H함안수소충전소    1   경상남도   함안군    경상남도 함안군 군북면 현포로 205    \n",
       "\n",
       "                            이용가능시간  \n",
       "0                      8~20시(연중무휴)  \n",
       "1                    8~20시(일요일 휴무)  \n",
       "2                      8~22시(연중무휴)  \n",
       "3         평일 8~24시 / 주말, 공휴일 8~22시  \n",
       "4                      8~22시(연중무휴)  \n",
       "..                             ...  \n",
       "103  7~21시(매주 수요일 / 둘, 넷째주 일요일 휴무)  \n",
       "104       평일 8~21시 / 주말, 공휴일 9~18시  \n",
       "105                  6~24시(일요일 휴무)  \n",
       "106                    7~23시(연중무휴)  \n",
       "107                    8~22시(연중무휴)  \n",
       "\n",
       "[108 rows x 6 columns]"
      ]
     },
     "execution_count": 485,
     "metadata": {},
     "output_type": "execute_result"
    }
   ],
   "source": [
    "address_city = []\n",
    "address_gu = []\n",
    "for i in range(df_HVCS.shape[0]):\n",
    "    strings = df_HVCS.iloc[i]['주소'].split()\n",
    "    address_city.append(strings.pop(0))\n",
    "    address_gu.append(strings.pop(0))\n",
    "df_HVCS.insert(2,\"시\",address_city)\n",
    "df_HVCS.insert(3,\"구\",address_gu)    \n",
    "df_HVCS"
   ]
  },
  {
   "cell_type": "code",
   "execution_count": 486,
   "metadata": {},
   "outputs": [
    {
     "data": {
      "text/html": [
       "<div>\n",
       "<style scoped>\n",
       "    .dataframe tbody tr th:only-of-type {\n",
       "        vertical-align: middle;\n",
       "    }\n",
       "\n",
       "    .dataframe tbody tr th {\n",
       "        vertical-align: top;\n",
       "    }\n",
       "\n",
       "    .dataframe thead th {\n",
       "        text-align: right;\n",
       "    }\n",
       "</style>\n",
       "<table border=\"1\" class=\"dataframe\">\n",
       "  <thead>\n",
       "    <tr style=\"text-align: right;\">\n",
       "      <th></th>\n",
       "      <th>충전소</th>\n",
       "      <th>충전기</th>\n",
       "      <th>구</th>\n",
       "      <th>주소</th>\n",
       "      <th>이용가능시간</th>\n",
       "    </tr>\n",
       "    <tr>\n",
       "      <th>시</th>\n",
       "      <th></th>\n",
       "      <th></th>\n",
       "      <th></th>\n",
       "      <th></th>\n",
       "      <th></th>\n",
       "    </tr>\n",
       "  </thead>\n",
       "  <tbody>\n",
       "    <tr>\n",
       "      <th>강원도</th>\n",
       "      <td>7</td>\n",
       "      <td>7</td>\n",
       "      <td>7</td>\n",
       "      <td>7</td>\n",
       "      <td>7</td>\n",
       "    </tr>\n",
       "    <tr>\n",
       "      <th>경기도</th>\n",
       "      <td>19</td>\n",
       "      <td>19</td>\n",
       "      <td>19</td>\n",
       "      <td>19</td>\n",
       "      <td>19</td>\n",
       "    </tr>\n",
       "    <tr>\n",
       "      <th>경상남도</th>\n",
       "      <td>12</td>\n",
       "      <td>12</td>\n",
       "      <td>12</td>\n",
       "      <td>12</td>\n",
       "      <td>12</td>\n",
       "    </tr>\n",
       "    <tr>\n",
       "      <th>경상북도</th>\n",
       "      <td>2</td>\n",
       "      <td>2</td>\n",
       "      <td>2</td>\n",
       "      <td>2</td>\n",
       "      <td>2</td>\n",
       "    </tr>\n",
       "    <tr>\n",
       "      <th>광주광역시</th>\n",
       "      <td>6</td>\n",
       "      <td>6</td>\n",
       "      <td>6</td>\n",
       "      <td>6</td>\n",
       "      <td>6</td>\n",
       "    </tr>\n",
       "    <tr>\n",
       "      <th>대구광역시</th>\n",
       "      <td>4</td>\n",
       "      <td>4</td>\n",
       "      <td>4</td>\n",
       "      <td>4</td>\n",
       "      <td>4</td>\n",
       "    </tr>\n",
       "    <tr>\n",
       "      <th>대전광역시</th>\n",
       "      <td>6</td>\n",
       "      <td>6</td>\n",
       "      <td>6</td>\n",
       "      <td>6</td>\n",
       "      <td>6</td>\n",
       "    </tr>\n",
       "    <tr>\n",
       "      <th>부산광역시</th>\n",
       "      <td>3</td>\n",
       "      <td>3</td>\n",
       "      <td>3</td>\n",
       "      <td>3</td>\n",
       "      <td>3</td>\n",
       "    </tr>\n",
       "    <tr>\n",
       "      <th>서울특별시</th>\n",
       "      <td>6</td>\n",
       "      <td>6</td>\n",
       "      <td>6</td>\n",
       "      <td>6</td>\n",
       "      <td>6</td>\n",
       "    </tr>\n",
       "    <tr>\n",
       "      <th>세종특별자치시</th>\n",
       "      <td>2</td>\n",
       "      <td>2</td>\n",
       "      <td>2</td>\n",
       "      <td>2</td>\n",
       "      <td>2</td>\n",
       "    </tr>\n",
       "    <tr>\n",
       "      <th>울산광역시</th>\n",
       "      <td>9</td>\n",
       "      <td>9</td>\n",
       "      <td>9</td>\n",
       "      <td>9</td>\n",
       "      <td>9</td>\n",
       "    </tr>\n",
       "    <tr>\n",
       "      <th>인천광역시</th>\n",
       "      <td>5</td>\n",
       "      <td>5</td>\n",
       "      <td>5</td>\n",
       "      <td>5</td>\n",
       "      <td>5</td>\n",
       "    </tr>\n",
       "    <tr>\n",
       "      <th>전라남도</th>\n",
       "      <td>3</td>\n",
       "      <td>3</td>\n",
       "      <td>3</td>\n",
       "      <td>3</td>\n",
       "      <td>3</td>\n",
       "    </tr>\n",
       "    <tr>\n",
       "      <th>전라북도</th>\n",
       "      <td>5</td>\n",
       "      <td>5</td>\n",
       "      <td>5</td>\n",
       "      <td>5</td>\n",
       "      <td>5</td>\n",
       "    </tr>\n",
       "    <tr>\n",
       "      <th>충청남도</th>\n",
       "      <td>9</td>\n",
       "      <td>9</td>\n",
       "      <td>9</td>\n",
       "      <td>9</td>\n",
       "      <td>9</td>\n",
       "    </tr>\n",
       "    <tr>\n",
       "      <th>충청북도</th>\n",
       "      <td>10</td>\n",
       "      <td>10</td>\n",
       "      <td>10</td>\n",
       "      <td>10</td>\n",
       "      <td>10</td>\n",
       "    </tr>\n",
       "  </tbody>\n",
       "</table>\n",
       "</div>"
      ],
      "text/plain": [
       "         충전소  충전기   구  주소  이용가능시간\n",
       "시                                \n",
       "강원도        7    7   7   7       7\n",
       "경기도       19   19  19  19      19\n",
       "경상남도      12   12  12  12      12\n",
       "경상북도       2    2   2   2       2\n",
       "광주광역시      6    6   6   6       6\n",
       "대구광역시      4    4   4   4       4\n",
       "대전광역시      6    6   6   6       6\n",
       "부산광역시      3    3   3   3       3\n",
       "서울특별시      6    6   6   6       6\n",
       "세종특별자치시    2    2   2   2       2\n",
       "울산광역시      9    9   9   9       9\n",
       "인천광역시      5    5   5   5       5\n",
       "전라남도       3    3   3   3       3\n",
       "전라북도       5    5   5   5       5\n",
       "충청남도       9    9   9   9       9\n",
       "충청북도      10   10  10  10      10"
      ]
     },
     "execution_count": 486,
     "metadata": {},
     "output_type": "execute_result"
    }
   ],
   "source": [
    "df_HVCS_group = df_HVCS.groupby('시').count()\n",
    "df_HVCS_group"
   ]
  },
  {
   "cell_type": "code",
   "execution_count": 487,
   "metadata": {},
   "outputs": [
    {
     "data": {
      "text/html": [
       "<div>\n",
       "<style scoped>\n",
       "    .dataframe tbody tr th:only-of-type {\n",
       "        vertical-align: middle;\n",
       "    }\n",
       "\n",
       "    .dataframe tbody tr th {\n",
       "        vertical-align: top;\n",
       "    }\n",
       "\n",
       "    .dataframe thead th {\n",
       "        text-align: right;\n",
       "    }\n",
       "</style>\n",
       "<table border=\"1\" class=\"dataframe\">\n",
       "  <thead>\n",
       "    <tr style=\"text-align: right;\">\n",
       "      <th></th>\n",
       "      <th>충전소</th>\n",
       "      <th>충전기</th>\n",
       "      <th>시</th>\n",
       "      <th>구</th>\n",
       "      <th>주소</th>\n",
       "      <th>이용가능시간</th>\n",
       "    </tr>\n",
       "  </thead>\n",
       "  <tbody>\n",
       "    <tr>\n",
       "      <th>0</th>\n",
       "      <td>서부산NK수소충전소</td>\n",
       "      <td>1</td>\n",
       "      <td>부산광역시</td>\n",
       "      <td>강서구</td>\n",
       "      <td>부산광역시 강서구 가락대로 347</td>\n",
       "      <td>8~18시(토, 일요일 휴무)</td>\n",
       "    </tr>\n",
       "    <tr>\n",
       "      <th>1</th>\n",
       "      <td>H부산수소충전소</td>\n",
       "      <td>3</td>\n",
       "      <td>부산광역시</td>\n",
       "      <td>사상구</td>\n",
       "      <td>부산광역시 사상구 학감대로 167</td>\n",
       "      <td>버스 5~22시 / 넥쏘 10~22시(연중무휴)</td>\n",
       "    </tr>\n",
       "    <tr>\n",
       "      <th>2</th>\n",
       "      <td>하이넷부산정관수소충</td>\n",
       "      <td>1</td>\n",
       "      <td>부산광역시</td>\n",
       "      <td>기장군</td>\n",
       "      <td>부산광역시 기장군 정관읍 신정관로 187</td>\n",
       "      <td>8~20시(월요일 휴무)</td>\n",
       "    </tr>\n",
       "  </tbody>\n",
       "</table>\n",
       "</div>"
      ],
      "text/plain": [
       "          충전소  충전기      시    구                       주소  \\\n",
       "0  서부산NK수소충전소    1  부산광역시  강서구      부산광역시 강서구 가락대로 347    \n",
       "1    H부산수소충전소    3  부산광역시  사상구      부산광역시 사상구 학감대로 167    \n",
       "2  하이넷부산정관수소충    1  부산광역시  기장군  부산광역시 기장군 정관읍 신정관로 187    \n",
       "\n",
       "                       이용가능시간  \n",
       "0            8~18시(토, 일요일 휴무)  \n",
       "1  버스 5~22시 / 넥쏘 10~22시(연중무휴)  \n",
       "2               8~20시(월요일 휴무)  "
      ]
     },
     "execution_count": 487,
     "metadata": {},
     "output_type": "execute_result"
    }
   ],
   "source": [
    "df_busan_HVCS = df_HVCS[df_HVCS['시']=='부산광역시'].reset_index(drop=True)\n",
    "df_busan_HVCS"
   ]
  },
  {
   "cell_type": "code",
   "execution_count": 488,
   "metadata": {},
   "outputs": [
    {
     "data": {
      "text/html": [
       "<div>\n",
       "<style scoped>\n",
       "    .dataframe tbody tr th:only-of-type {\n",
       "        vertical-align: middle;\n",
       "    }\n",
       "\n",
       "    .dataframe tbody tr th {\n",
       "        vertical-align: top;\n",
       "    }\n",
       "\n",
       "    .dataframe thead th {\n",
       "        text-align: right;\n",
       "    }\n",
       "</style>\n",
       "<table border=\"1\" class=\"dataframe\">\n",
       "  <thead>\n",
       "    <tr style=\"text-align: right;\">\n",
       "      <th></th>\n",
       "      <th>충전소</th>\n",
       "      <th>충전기</th>\n",
       "      <th>구</th>\n",
       "      <th>주소</th>\n",
       "      <th>이용가능시간</th>\n",
       "    </tr>\n",
       "  </thead>\n",
       "  <tbody>\n",
       "    <tr>\n",
       "      <th>count</th>\n",
       "      <td>16.000000</td>\n",
       "      <td>16.000000</td>\n",
       "      <td>16.000000</td>\n",
       "      <td>16.000000</td>\n",
       "      <td>16.000000</td>\n",
       "    </tr>\n",
       "    <tr>\n",
       "      <th>mean</th>\n",
       "      <td>6.750000</td>\n",
       "      <td>6.750000</td>\n",
       "      <td>6.750000</td>\n",
       "      <td>6.750000</td>\n",
       "      <td>6.750000</td>\n",
       "    </tr>\n",
       "    <tr>\n",
       "      <th>std</th>\n",
       "      <td>4.374167</td>\n",
       "      <td>4.374167</td>\n",
       "      <td>4.374167</td>\n",
       "      <td>4.374167</td>\n",
       "      <td>4.374167</td>\n",
       "    </tr>\n",
       "    <tr>\n",
       "      <th>min</th>\n",
       "      <td>2.000000</td>\n",
       "      <td>2.000000</td>\n",
       "      <td>2.000000</td>\n",
       "      <td>2.000000</td>\n",
       "      <td>2.000000</td>\n",
       "    </tr>\n",
       "    <tr>\n",
       "      <th>25%</th>\n",
       "      <td>3.750000</td>\n",
       "      <td>3.750000</td>\n",
       "      <td>3.750000</td>\n",
       "      <td>3.750000</td>\n",
       "      <td>3.750000</td>\n",
       "    </tr>\n",
       "    <tr>\n",
       "      <th>50%</th>\n",
       "      <td>6.000000</td>\n",
       "      <td>6.000000</td>\n",
       "      <td>6.000000</td>\n",
       "      <td>6.000000</td>\n",
       "      <td>6.000000</td>\n",
       "    </tr>\n",
       "    <tr>\n",
       "      <th>75%</th>\n",
       "      <td>9.000000</td>\n",
       "      <td>9.000000</td>\n",
       "      <td>9.000000</td>\n",
       "      <td>9.000000</td>\n",
       "      <td>9.000000</td>\n",
       "    </tr>\n",
       "    <tr>\n",
       "      <th>max</th>\n",
       "      <td>19.000000</td>\n",
       "      <td>19.000000</td>\n",
       "      <td>19.000000</td>\n",
       "      <td>19.000000</td>\n",
       "      <td>19.000000</td>\n",
       "    </tr>\n",
       "  </tbody>\n",
       "</table>\n",
       "</div>"
      ],
      "text/plain": [
       "             충전소        충전기          구         주소     이용가능시간\n",
       "count  16.000000  16.000000  16.000000  16.000000  16.000000\n",
       "mean    6.750000   6.750000   6.750000   6.750000   6.750000\n",
       "std     4.374167   4.374167   4.374167   4.374167   4.374167\n",
       "min     2.000000   2.000000   2.000000   2.000000   2.000000\n",
       "25%     3.750000   3.750000   3.750000   3.750000   3.750000\n",
       "50%     6.000000   6.000000   6.000000   6.000000   6.000000\n",
       "75%     9.000000   9.000000   9.000000   9.000000   9.000000\n",
       "max    19.000000  19.000000  19.000000  19.000000  19.000000"
      ]
     },
     "execution_count": 488,
     "metadata": {},
     "output_type": "execute_result"
    }
   ],
   "source": [
    "df_HVCS_group.describe()"
   ]
  },
  {
   "cell_type": "code",
   "execution_count": 492,
   "metadata": {},
   "outputs": [
    {
     "data": {
      "application/vnd.plotly.v1+json": {
       "config": {
        "plotlyServerURL": "https://plot.ly"
       },
       "data": [
        {
         "fill": "tozeroy",
         "line": {
          "color": "rgb(100,110,250)"
         },
         "name": "적합",
         "text": "0.17763785000143326",
         "type": "scatter",
         "x": [
          -2.3741665872864663,
          -2.3198820763037746,
          -2.2655975653210834,
          -2.2113130543383916,
          -2.1570285433557,
          -2.1027440323730087,
          -2.048459521390317,
          -1.9941750104076252,
          -1.9398904994249337,
          -1.885605988442242,
          -1.8313214774595505,
          -1.7770369664768588,
          -1.7227524554941673,
          -1.6684679445114758,
          -1.6141834335287841,
          -1.5598989225460926,
          -1.5056144115634011,
          -1.4513299005807094,
          -1.3970453895980177,
          -1.3427608786153262,
          -1.2884763676326347,
          -1.234191856649943,
          -1.1799073456672515,
          -1.12562283468456,
          -1.0713383237018683,
          -1.0170538127191768,
          -0.9627693017364851,
          -0.9084847907537936,
          -0.8542002797711021,
          -0.7999157687884104,
          -0.7456312578057189,
          -0.6913467468230272,
          -0.6370622358403357,
          -0.5827777248576442,
          -0.5284932138749525,
          -0.474208702892261,
          -0.4199241919095693,
          -0.3656396809268778,
          -0.3113551699441861,
          -0.25707065896149484,
          -0.20278614797880312,
          -0.1485016369961114,
          -0.0942171260134197,
          -0.039932615030728424,
          0.01435189595196329,
          0.068636406934655,
          0.12292091791734627,
          0.177205428900038,
          0.2314899398827297,
          0.28577445086542097,
          0.3400589618481127,
          0.3943434728308044,
          0.4486279838134961,
          0.5029124947961874,
          0.5571970057788791,
          0.6114815167615708,
          0.6657660277442621,
          0.7200505387269538,
          0.7743350497096455,
          0.8286195606923368,
          0.8829040716750285,
          0.9371885826577202,
          0.9914730936404119,
          1.0457576046231032,
          1.100042115605795,
          1.1543266265884866,
          1.2086111375711779,
          1.2628956485538696,
          1.3171801595365613,
          1.371464670519253,
          1.4257491815019443,
          1.480033692484636,
          1.5343182034673277,
          1.588602714450019,
          1.6428872254327107,
          1.6971717364154024,
          1.7514562473980941,
          1.8057407583807858,
          1.8600252693634767,
          1.9143097803461684,
          1.96859429132886,
          2.022878802311552,
          2.0771633132942435,
          2.1314478242769352,
          2.185732335259627,
          2.240016846242318,
          2.2943013572250095,
          2.348585868207701,
          2.402870379190393,
          2.4571548901730846,
          2.5114394011557764,
          2.565723912138467,
          2.620008423121159,
          2.6742929341038506,
          2.7285774450865423,
          2.782861956069234,
          2.8371464670519257,
          2.8914309780346175,
          2.9457154890173083,
          3
         ],
         "y": [
          0.010356012009661937,
          0.010626777788912488,
          0.010902943605356943,
          0.011184563627978256,
          0.011471690876799261,
          0.011764377160127387,
          0.012062673011128266,
          0.012366627623770683,
          0.012676288788186421,
          0.012991702825490893,
          0.013312914522111922,
          0.013639967063675606,
          0.01397290196850039,
          0.014311759020751536,
          0.01465657620331046,
          0.01500738963041447,
          0.015364233480124648,
          0.015727139926680556,
          0.016096139072802527,
          0.016471258882003507,
          0.016852525110973883,
          0.017239961242104397,
          0.01763358841621319,
          0.018033425365544763,
          0.018439488347109647,
          0.018851791076434806,
          0.019270344661796137,
          0.019695157539005127,
          0.020126235406823255,
          0.020563581163078156,
          0.021007194841556918,
          0.021457073549752285,
          0.021913211407538456,
          0.022375599486853987,
          0.02284422575246939,
          0.023319075003918093,
          0.02380012881866926,
          0.024287365496621745,
          0.024780760005998256,
          0.02528028393071934,
          0.025785905419336404,
          0.026297589135603157,
          0.026815296210764707,
          0.027338984197643048,
          0.027868607026597665,
          0.028404114963438795,
          0.028945454569371334,
          0.029492568663045587,
          0.030045396284791075,
          0.030603872663108145,
          0.0311679291834914,
          0.03173749335965781,
          0.03231248880725075,
          0.03289283522009061,
          0.03347844834903993,
          0.034069239983550985,
          0.034665117935960374,
          0.0352659860285948,
          0.03587174408374928,
          0.03648228791659742,
          0.037097509331091454,
          0.03771729611890672,
          0.03834153206148397,
          0.038970096935219155,
          0.03960286651984925,
          0.04023971261007833,
          0.0408805030304869,
          0.04152510165376354,
          0.04217336842229523,
          0.0428251593731501,
          0.043480326666482445,
          0.044138718617387246,
          0.044800179731227574,
          0.04546455074245548,
          0.04613166865694281,
          0.04680136679783519,
          0.04747347485493906,
          0.048147818937646976,
          0.048824221631404145,
          0.0495025020577137,
          0.050182475937675636,
          0.0508639556590497,
          0.0515467503468291,
          0.052230665937307026,
          0.05291550525561512,
          0.05360106809670813,
          0.054287151309765004,
          0.05497354888597297,
          0.05566005204965666,
          0.05634644935271043,
          0.057032526772287734,
          0.05771806781169753,
          0.05840285360445338,
          0.0590866630214169,
          0.059769272780973264,
          0.06045045756217229,
          0.061129990120764484,
          0.061807641408058146,
          0.06248318069251862,
          0.06315637568402806
         ]
        },
        {
         "fill": "tozeroy",
         "line": {
          "color": "rgb(239,85,59)"
         },
         "name": "부적합",
         "text": "0.17763785000143326",
         "type": "scatter",
         "x": [
          3,
          3.1616161616161618,
          3.323232323232323,
          3.484848484848485,
          3.6464646464646466,
          3.808080808080808,
          3.9696969696969697,
          4.1313131313131315,
          4.292929292929293,
          4.454545454545455,
          4.616161616161616,
          4.777777777777778,
          4.9393939393939394,
          5.101010101010101,
          5.262626262626263,
          5.424242424242424,
          5.5858585858585865,
          5.747474747474747,
          5.909090909090909,
          6.070707070707071,
          6.232323232323233,
          6.3939393939393945,
          6.555555555555555,
          6.717171717171718,
          6.878787878787879,
          7.040404040404041,
          7.202020202020202,
          7.363636363636364,
          7.525252525252526,
          7.686868686868687,
          7.848484848484849,
          8.01010101010101,
          8.171717171717173,
          8.333333333333334,
          8.494949494949495,
          8.656565656565657,
          8.818181818181818,
          8.97979797979798,
          9.141414141414142,
          9.303030303030305,
          9.464646464646465,
          9.626262626262626,
          9.787878787878789,
          9.94949494949495,
          10.11111111111111,
          10.272727272727273,
          10.434343434343436,
          10.595959595959597,
          10.757575757575758,
          10.91919191919192,
          11.080808080808081,
          11.242424242424244,
          11.404040404040405,
          11.565656565656566,
          11.727272727272728,
          11.88888888888889,
          12.050505050505052,
          12.212121212121213,
          12.373737373737374,
          12.535353535353536,
          12.696969696969697,
          12.85858585858586,
          13.02020202020202,
          13.181818181818183,
          13.343434343434344,
          13.505050505050505,
          13.666666666666668,
          13.828282828282829,
          13.989898989898991,
          14.151515151515152,
          14.313131313131315,
          14.474747474747476,
          14.636363636363637,
          14.7979797979798,
          14.95959595959596,
          15.121212121212123,
          15.282828282828284,
          15.444444444444445,
          15.606060606060607,
          15.767676767676768,
          15.92929292929293,
          16.090909090909093,
          16.252525252525253,
          16.414141414141415,
          16.575757575757578,
          16.737373737373737,
          16.8989898989899,
          17.060606060606062,
          17.22222222222222,
          17.383838383838388,
          17.545454545454547,
          17.707070707070706,
          17.868686868686872,
          18.03030303030303,
          18.191919191919194,
          18.353535353535356,
          18.515151515151516,
          18.67676767676768,
          18.83838383838384,
          19
         ],
         "y": [
          0.06315637568402806,
          0.06514443445806126,
          0.06710340558306635,
          0.06902698908259723,
          0.07090884695231608,
          0.07274263713715988,
          0.07452204848609714,
          0.07624083642134453,
          0.07789285904502319,
          0.07947211339504492,
          0.0809727715537349,
          0.08238921630749173,
          0.08371607605379183,
          0.0849482586531538,
          0.08608098392833921,
          0.0871098145210826,
          0.08803068482797002,
          0.08883992775163783,
          0.08953429902110241,
          0.09011099885558149,
          0.09056769076940725,
          0.09090251734130032,
          0.0911141127990772,
          0.09120161230047455,
          0.09116465782183858,
          0.09100340059857046,
          0.09071850009404941,
          0.09031111950687039,
          0.08978291785922782,
          0.08913603874174807,
          0.08837309582162098,
          0.08749715525112785,
          0.08651171514224032,
          0.08542068229953986,
          0.08422834642796612,
          0.08293935205357472,
          0.0815586684143304,
          0.08009155759378603,
          0.0785435411831493,
          0.07692036576660698,
          0.07522796753080285,
          0.07347243630203341,
          0.07165997931406327,
          0.06979688500554906,
          0.06788948713900667,
          0.06594412952322691,
          0.06396713160822327,
          0.06196475520641428,
          0.059943172576054526,
          0.05790843608320992,
          0.055866449637123096,
          0.053822942070945484,
          0.05178344261584557,
          0.049753258591761204,
          0.047737455412876106,
          0.04574083898058231,
          0.043767940511553034,
          0.04182300382389013,
          0.0399099750803999,
          0.03803249496515452,
          0.03619389324783553,
          0.0343971856701463,
          0.032645073069990996,
          0.03093994264230065,
          0.029283871220457235,
          0.027678630449310383,
          0.026125693709855322,
          0.024626244646769147,
          0.023181187143183755,
          0.02179115658227876,
          0.020456532232448824,
          0.019177450591863307,
          0.017953819529088377,
          0.01678533305897252,
          0.015671486597067675,
          0.014611592541331958,
          0.013604796036579206,
          0.012650090784946472,
          0.011746334774380024,
          0.010892265806626767,
          0.010086516716298562,
          0.009327630183090506,
          0.008614073050026096,
          0.007944250071524963,
          0.0073165170260038655,
          0.00672919313850041,
          0.006180572769335482,
          0.00566893633499952,
          0.0051925604371673584,
          0.0047497271849393724,
          0.004338732704005824,
          0.003957894834384866,
          0.003605560025654322,
          0.0032801094451533246,
          0.002979964320458236,
          0.0027035905425332337,
          0.002449502560322525,
          0.0022162666012053105,
          0.002002503254696023,
          0.0018068894590713926
         ]
        }
       ],
       "layout": {
        "annotations": [
         {
          "bordercolor": "rgb(100,110,250)",
          "borderwidth": 2,
          "font": {
           "color": "rgb(100,110,250)",
           "size": 15
          },
          "showarrow": false,
          "text": "0.178",
          "x": 3,
          "xshift": -40,
          "y": 0.06315637568402806,
          "yshift": -100
         },
         {
          "bordercolor": "rgb(239,85,59)",
          "borderwidth": 2,
          "font": {
           "color": "rgb(239,85,59)",
           "size": 15
          },
          "showarrow": false,
          "text": "0.822",
          "x": 3,
          "xshift": 40,
          "y": 0.06315637568402806,
          "yshift": -100
         }
        ],
        "template": {
         "data": {
          "bar": [
           {
            "error_x": {
             "color": "#2a3f5f"
            },
            "error_y": {
             "color": "#2a3f5f"
            },
            "marker": {
             "line": {
              "color": "#E5ECF6",
              "width": 0.5
             },
             "pattern": {
              "fillmode": "overlay",
              "size": 10,
              "solidity": 0.2
             }
            },
            "type": "bar"
           }
          ],
          "barpolar": [
           {
            "marker": {
             "line": {
              "color": "#E5ECF6",
              "width": 0.5
             },
             "pattern": {
              "fillmode": "overlay",
              "size": 10,
              "solidity": 0.2
             }
            },
            "type": "barpolar"
           }
          ],
          "carpet": [
           {
            "aaxis": {
             "endlinecolor": "#2a3f5f",
             "gridcolor": "white",
             "linecolor": "white",
             "minorgridcolor": "white",
             "startlinecolor": "#2a3f5f"
            },
            "baxis": {
             "endlinecolor": "#2a3f5f",
             "gridcolor": "white",
             "linecolor": "white",
             "minorgridcolor": "white",
             "startlinecolor": "#2a3f5f"
            },
            "type": "carpet"
           }
          ],
          "choropleth": [
           {
            "colorbar": {
             "outlinewidth": 0,
             "ticks": ""
            },
            "type": "choropleth"
           }
          ],
          "contour": [
           {
            "colorbar": {
             "outlinewidth": 0,
             "ticks": ""
            },
            "colorscale": [
             [
              0,
              "#0d0887"
             ],
             [
              0.1111111111111111,
              "#46039f"
             ],
             [
              0.2222222222222222,
              "#7201a8"
             ],
             [
              0.3333333333333333,
              "#9c179e"
             ],
             [
              0.4444444444444444,
              "#bd3786"
             ],
             [
              0.5555555555555556,
              "#d8576b"
             ],
             [
              0.6666666666666666,
              "#ed7953"
             ],
             [
              0.7777777777777778,
              "#fb9f3a"
             ],
             [
              0.8888888888888888,
              "#fdca26"
             ],
             [
              1,
              "#f0f921"
             ]
            ],
            "type": "contour"
           }
          ],
          "contourcarpet": [
           {
            "colorbar": {
             "outlinewidth": 0,
             "ticks": ""
            },
            "type": "contourcarpet"
           }
          ],
          "heatmap": [
           {
            "colorbar": {
             "outlinewidth": 0,
             "ticks": ""
            },
            "colorscale": [
             [
              0,
              "#0d0887"
             ],
             [
              0.1111111111111111,
              "#46039f"
             ],
             [
              0.2222222222222222,
              "#7201a8"
             ],
             [
              0.3333333333333333,
              "#9c179e"
             ],
             [
              0.4444444444444444,
              "#bd3786"
             ],
             [
              0.5555555555555556,
              "#d8576b"
             ],
             [
              0.6666666666666666,
              "#ed7953"
             ],
             [
              0.7777777777777778,
              "#fb9f3a"
             ],
             [
              0.8888888888888888,
              "#fdca26"
             ],
             [
              1,
              "#f0f921"
             ]
            ],
            "type": "heatmap"
           }
          ],
          "heatmapgl": [
           {
            "colorbar": {
             "outlinewidth": 0,
             "ticks": ""
            },
            "colorscale": [
             [
              0,
              "#0d0887"
             ],
             [
              0.1111111111111111,
              "#46039f"
             ],
             [
              0.2222222222222222,
              "#7201a8"
             ],
             [
              0.3333333333333333,
              "#9c179e"
             ],
             [
              0.4444444444444444,
              "#bd3786"
             ],
             [
              0.5555555555555556,
              "#d8576b"
             ],
             [
              0.6666666666666666,
              "#ed7953"
             ],
             [
              0.7777777777777778,
              "#fb9f3a"
             ],
             [
              0.8888888888888888,
              "#fdca26"
             ],
             [
              1,
              "#f0f921"
             ]
            ],
            "type": "heatmapgl"
           }
          ],
          "histogram": [
           {
            "marker": {
             "pattern": {
              "fillmode": "overlay",
              "size": 10,
              "solidity": 0.2
             }
            },
            "type": "histogram"
           }
          ],
          "histogram2d": [
           {
            "colorbar": {
             "outlinewidth": 0,
             "ticks": ""
            },
            "colorscale": [
             [
              0,
              "#0d0887"
             ],
             [
              0.1111111111111111,
              "#46039f"
             ],
             [
              0.2222222222222222,
              "#7201a8"
             ],
             [
              0.3333333333333333,
              "#9c179e"
             ],
             [
              0.4444444444444444,
              "#bd3786"
             ],
             [
              0.5555555555555556,
              "#d8576b"
             ],
             [
              0.6666666666666666,
              "#ed7953"
             ],
             [
              0.7777777777777778,
              "#fb9f3a"
             ],
             [
              0.8888888888888888,
              "#fdca26"
             ],
             [
              1,
              "#f0f921"
             ]
            ],
            "type": "histogram2d"
           }
          ],
          "histogram2dcontour": [
           {
            "colorbar": {
             "outlinewidth": 0,
             "ticks": ""
            },
            "colorscale": [
             [
              0,
              "#0d0887"
             ],
             [
              0.1111111111111111,
              "#46039f"
             ],
             [
              0.2222222222222222,
              "#7201a8"
             ],
             [
              0.3333333333333333,
              "#9c179e"
             ],
             [
              0.4444444444444444,
              "#bd3786"
             ],
             [
              0.5555555555555556,
              "#d8576b"
             ],
             [
              0.6666666666666666,
              "#ed7953"
             ],
             [
              0.7777777777777778,
              "#fb9f3a"
             ],
             [
              0.8888888888888888,
              "#fdca26"
             ],
             [
              1,
              "#f0f921"
             ]
            ],
            "type": "histogram2dcontour"
           }
          ],
          "mesh3d": [
           {
            "colorbar": {
             "outlinewidth": 0,
             "ticks": ""
            },
            "type": "mesh3d"
           }
          ],
          "parcoords": [
           {
            "line": {
             "colorbar": {
              "outlinewidth": 0,
              "ticks": ""
             }
            },
            "type": "parcoords"
           }
          ],
          "pie": [
           {
            "automargin": true,
            "type": "pie"
           }
          ],
          "scatter": [
           {
            "marker": {
             "colorbar": {
              "outlinewidth": 0,
              "ticks": ""
             }
            },
            "type": "scatter"
           }
          ],
          "scatter3d": [
           {
            "line": {
             "colorbar": {
              "outlinewidth": 0,
              "ticks": ""
             }
            },
            "marker": {
             "colorbar": {
              "outlinewidth": 0,
              "ticks": ""
             }
            },
            "type": "scatter3d"
           }
          ],
          "scattercarpet": [
           {
            "marker": {
             "colorbar": {
              "outlinewidth": 0,
              "ticks": ""
             }
            },
            "type": "scattercarpet"
           }
          ],
          "scattergeo": [
           {
            "marker": {
             "colorbar": {
              "outlinewidth": 0,
              "ticks": ""
             }
            },
            "type": "scattergeo"
           }
          ],
          "scattergl": [
           {
            "marker": {
             "colorbar": {
              "outlinewidth": 0,
              "ticks": ""
             }
            },
            "type": "scattergl"
           }
          ],
          "scattermapbox": [
           {
            "marker": {
             "colorbar": {
              "outlinewidth": 0,
              "ticks": ""
             }
            },
            "type": "scattermapbox"
           }
          ],
          "scatterpolar": [
           {
            "marker": {
             "colorbar": {
              "outlinewidth": 0,
              "ticks": ""
             }
            },
            "type": "scatterpolar"
           }
          ],
          "scatterpolargl": [
           {
            "marker": {
             "colorbar": {
              "outlinewidth": 0,
              "ticks": ""
             }
            },
            "type": "scatterpolargl"
           }
          ],
          "scatterternary": [
           {
            "marker": {
             "colorbar": {
              "outlinewidth": 0,
              "ticks": ""
             }
            },
            "type": "scatterternary"
           }
          ],
          "surface": [
           {
            "colorbar": {
             "outlinewidth": 0,
             "ticks": ""
            },
            "colorscale": [
             [
              0,
              "#0d0887"
             ],
             [
              0.1111111111111111,
              "#46039f"
             ],
             [
              0.2222222222222222,
              "#7201a8"
             ],
             [
              0.3333333333333333,
              "#9c179e"
             ],
             [
              0.4444444444444444,
              "#bd3786"
             ],
             [
              0.5555555555555556,
              "#d8576b"
             ],
             [
              0.6666666666666666,
              "#ed7953"
             ],
             [
              0.7777777777777778,
              "#fb9f3a"
             ],
             [
              0.8888888888888888,
              "#fdca26"
             ],
             [
              1,
              "#f0f921"
             ]
            ],
            "type": "surface"
           }
          ],
          "table": [
           {
            "cells": {
             "fill": {
              "color": "#EBF0F8"
             },
             "line": {
              "color": "white"
             }
            },
            "header": {
             "fill": {
              "color": "#C8D4E3"
             },
             "line": {
              "color": "white"
             }
            },
            "type": "table"
           }
          ]
         },
         "layout": {
          "annotationdefaults": {
           "arrowcolor": "#2a3f5f",
           "arrowhead": 0,
           "arrowwidth": 1
          },
          "autotypenumbers": "strict",
          "coloraxis": {
           "colorbar": {
            "outlinewidth": 0,
            "ticks": ""
           }
          },
          "colorscale": {
           "diverging": [
            [
             0,
             "#8e0152"
            ],
            [
             0.1,
             "#c51b7d"
            ],
            [
             0.2,
             "#de77ae"
            ],
            [
             0.3,
             "#f1b6da"
            ],
            [
             0.4,
             "#fde0ef"
            ],
            [
             0.5,
             "#f7f7f7"
            ],
            [
             0.6,
             "#e6f5d0"
            ],
            [
             0.7,
             "#b8e186"
            ],
            [
             0.8,
             "#7fbc41"
            ],
            [
             0.9,
             "#4d9221"
            ],
            [
             1,
             "#276419"
            ]
           ],
           "sequential": [
            [
             0,
             "#0d0887"
            ],
            [
             0.1111111111111111,
             "#46039f"
            ],
            [
             0.2222222222222222,
             "#7201a8"
            ],
            [
             0.3333333333333333,
             "#9c179e"
            ],
            [
             0.4444444444444444,
             "#bd3786"
            ],
            [
             0.5555555555555556,
             "#d8576b"
            ],
            [
             0.6666666666666666,
             "#ed7953"
            ],
            [
             0.7777777777777778,
             "#fb9f3a"
            ],
            [
             0.8888888888888888,
             "#fdca26"
            ],
            [
             1,
             "#f0f921"
            ]
           ],
           "sequentialminus": [
            [
             0,
             "#0d0887"
            ],
            [
             0.1111111111111111,
             "#46039f"
            ],
            [
             0.2222222222222222,
             "#7201a8"
            ],
            [
             0.3333333333333333,
             "#9c179e"
            ],
            [
             0.4444444444444444,
             "#bd3786"
            ],
            [
             0.5555555555555556,
             "#d8576b"
            ],
            [
             0.6666666666666666,
             "#ed7953"
            ],
            [
             0.7777777777777778,
             "#fb9f3a"
            ],
            [
             0.8888888888888888,
             "#fdca26"
            ],
            [
             1,
             "#f0f921"
            ]
           ]
          },
          "colorway": [
           "#636efa",
           "#EF553B",
           "#00cc96",
           "#ab63fa",
           "#FFA15A",
           "#19d3f3",
           "#FF6692",
           "#B6E880",
           "#FF97FF",
           "#FECB52"
          ],
          "font": {
           "color": "#2a3f5f"
          },
          "geo": {
           "bgcolor": "white",
           "lakecolor": "white",
           "landcolor": "#E5ECF6",
           "showlakes": true,
           "showland": true,
           "subunitcolor": "white"
          },
          "hoverlabel": {
           "align": "left"
          },
          "hovermode": "closest",
          "mapbox": {
           "style": "light"
          },
          "paper_bgcolor": "white",
          "plot_bgcolor": "#E5ECF6",
          "polar": {
           "angularaxis": {
            "gridcolor": "white",
            "linecolor": "white",
            "ticks": ""
           },
           "bgcolor": "#E5ECF6",
           "radialaxis": {
            "gridcolor": "white",
            "linecolor": "white",
            "ticks": ""
           }
          },
          "scene": {
           "xaxis": {
            "backgroundcolor": "#E5ECF6",
            "gridcolor": "white",
            "gridwidth": 2,
            "linecolor": "white",
            "showbackground": true,
            "ticks": "",
            "zerolinecolor": "white"
           },
           "yaxis": {
            "backgroundcolor": "#E5ECF6",
            "gridcolor": "white",
            "gridwidth": 2,
            "linecolor": "white",
            "showbackground": true,
            "ticks": "",
            "zerolinecolor": "white"
           },
           "zaxis": {
            "backgroundcolor": "#E5ECF6",
            "gridcolor": "white",
            "gridwidth": 2,
            "linecolor": "white",
            "showbackground": true,
            "ticks": "",
            "zerolinecolor": "white"
           }
          },
          "shapedefaults": {
           "line": {
            "color": "#2a3f5f"
           }
          },
          "ternary": {
           "aaxis": {
            "gridcolor": "white",
            "linecolor": "white",
            "ticks": ""
           },
           "baxis": {
            "gridcolor": "white",
            "linecolor": "white",
            "ticks": ""
           },
           "bgcolor": "#E5ECF6",
           "caxis": {
            "gridcolor": "white",
            "linecolor": "white",
            "ticks": ""
           }
          },
          "title": {
           "x": 0.05
          },
          "xaxis": {
           "automargin": true,
           "gridcolor": "white",
           "linecolor": "white",
           "ticks": "",
           "title": {
            "standoff": 15
           },
           "zerolinecolor": "white",
           "zerolinewidth": 2
          },
          "yaxis": {
           "automargin": true,
           "gridcolor": "white",
           "linecolor": "white",
           "ticks": "",
           "title": {
            "standoff": 15
           },
           "zerolinecolor": "white",
           "zerolinewidth": 2
          }
         }
        }
       }
      }
     },
     "metadata": {},
     "output_type": "display_data"
    }
   ],
   "source": [
    "HVCS_pro = cal_norm(df_HVCS_group['충전소'].mean(),df_HVCS_group['충전소'].std(),df_HVCS_group['충전소'].min(),df_HVCS_group['충전소'].max(),df_HVCS_group.loc['부산광역시']['충전소'])"
   ]
  },
  {
   "cell_type": "markdown",
   "metadata": {},
   "source": [
    "### 교통 편의성 데이터"
   ]
  },
  {
   "cell_type": "markdown",
   "metadata": {},
   "source": [
    "### 주변 충전소와의 거리 데이터"
   ]
  },
  {
   "cell_type": "markdown",
   "metadata": {},
   "source": [
    "### 고속도로 여부"
   ]
  },
  {
   "cell_type": "markdown",
   "metadata": {},
   "source": [
    "## 상위 요소 - 경제적 요소"
   ]
  },
  {
   "cell_type": "markdown",
   "metadata": {},
   "source": [
    "### 전기차 충전기 정보 불러오기"
   ]
  },
  {
   "cell_type": "markdown",
   "metadata": {},
   "source": [
    "### 충전소 설치 비용 불러오기 (전기차)\n",
    "충전기 업체 마다 비용이 상이함\n",
    "충전기 종류도 매우 많고 데이터 또한 없음\n",
    "\n",
    "충전 사업 정부지원\n",
    "- 1기 200만원, 2~5기 180만원, 6기 이상 150만원\n",
    "\n",
    "총비용 \n",
    "- 전기차 충전기 제품 비용 + 한전시설부담금\n",
    "\n",
    "1. 파워큐브 - 비공용: 이동형 610,000원, 고정형 1,300,000원 / \n",
    "            - 공용: 주차면100면 이상 0원\n",
    "2. kt - 충전기 가격 X\n",
    "3. 지엔텔 - 충전기 가격 X\n",
    "4. 에버온 - 충전기 가격 X\n",
    "5. 삼성 - 비공용: 550,000원, \n",
    "        - 공용: (완속) 1,000,000원/1,600,000(2채널)  /  (급속) 58,000,000원(100kw), 40,000,000원(200kw)  \n",
    "               "
   ]
  },
  {
   "cell_type": "markdown",
   "metadata": {},
   "source": [
    "### 충전소 설치 비용 데이터 불러오기 (수소차) \n",
    "250kg급 수소충전소 구축비용을 종류별로 따져보면 파이프라인 방식 24억원, 튜브트레일러방식 22억원, 이동식 18억원이고, 현장공급방식중 천연가스개질방식은 46억원, 수전해방식은 31억원 가량 소요된다. 천연가스 개질방식이 가장 비싸고, 이동식이 가장 저렴"
   ]
  },
  {
   "cell_type": "markdown",
   "metadata": {},
   "source": [
    "### 총 유지비용"
   ]
  },
  {
   "cell_type": "markdown",
   "metadata": {},
   "source": [
    "### 주차 구획 수 데이터 불러오기"
   ]
  },
  {
   "cell_type": "code",
   "execution_count": null,
   "metadata": {},
   "outputs": [
    {
     "data": {
      "text/html": [
       "<div>\n",
       "<style scoped>\n",
       "    .dataframe tbody tr th:only-of-type {\n",
       "        vertical-align: middle;\n",
       "    }\n",
       "\n",
       "    .dataframe tbody tr th {\n",
       "        vertical-align: top;\n",
       "    }\n",
       "\n",
       "    .dataframe thead th {\n",
       "        text-align: right;\n",
       "    }\n",
       "</style>\n",
       "<table border=\"1\" class=\"dataframe\">\n",
       "  <thead>\n",
       "    <tr style=\"text-align: right;\">\n",
       "      <th></th>\n",
       "      <th>운영형태</th>\n",
       "      <th>관리기관명</th>\n",
       "      <th>주차장명</th>\n",
       "      <th>주차장관리번호</th>\n",
       "      <th>소재지지번주소</th>\n",
       "      <th>소재지도로명주소</th>\n",
       "      <th>전화번호</th>\n",
       "      <th>주차장유형</th>\n",
       "      <th>주차구획수</th>\n",
       "      <th>평일운영시작시각</th>\n",
       "      <th>...</th>\n",
       "      <th>부제시행구분</th>\n",
       "      <th>운영요일</th>\n",
       "      <th>요금정보</th>\n",
       "      <th>주차기본시간</th>\n",
       "      <th>추가단위시간</th>\n",
       "      <th>추가단위요금</th>\n",
       "      <th>1일주차권요금적용시간</th>\n",
       "      <th>결제방법</th>\n",
       "      <th>특기사항</th>\n",
       "      <th>실시간주차면수</th>\n",
       "    </tr>\n",
       "  </thead>\n",
       "  <tbody>\n",
       "    <tr>\n",
       "      <th>0</th>\n",
       "      <td>구(군)직영</td>\n",
       "      <td>부산광역시 사상구청</td>\n",
       "      <td>감전동주변</td>\n",
       "      <td>2010000013</td>\n",
       "      <td>-</td>\n",
       "      <td>사상구 감전동 589-2</td>\n",
       "      <td>051-310-4501</td>\n",
       "      <td>노외</td>\n",
       "      <td>26</td>\n",
       "      <td>0:00</td>\n",
       "      <td>...</td>\n",
       "      <td>-</td>\n",
       "      <td>-</td>\n",
       "      <td>-</td>\n",
       "      <td>10</td>\n",
       "      <td>10</td>\n",
       "      <td>0</td>\n",
       "      <td>-</td>\n",
       "      <td>-</td>\n",
       "      <td>-</td>\n",
       "      <td>-</td>\n",
       "    </tr>\n",
       "    <tr>\n",
       "      <th>1</th>\n",
       "      <td>구(군)직영</td>\n",
       "      <td>부산광역시 사상구청</td>\n",
       "      <td>장성주차장</td>\n",
       "      <td>2010000015</td>\n",
       "      <td>-</td>\n",
       "      <td>사상구 주례2동 92-278</td>\n",
       "      <td>051-310-4501</td>\n",
       "      <td>노외</td>\n",
       "      <td>16</td>\n",
       "      <td>0:00</td>\n",
       "      <td>...</td>\n",
       "      <td>-</td>\n",
       "      <td>-</td>\n",
       "      <td>-</td>\n",
       "      <td>10</td>\n",
       "      <td>10</td>\n",
       "      <td>0</td>\n",
       "      <td>-</td>\n",
       "      <td>-</td>\n",
       "      <td>-</td>\n",
       "      <td>-</td>\n",
       "    </tr>\n",
       "    <tr>\n",
       "      <th>2</th>\n",
       "      <td>민간위탁</td>\n",
       "      <td>부산광역시 사상구청</td>\n",
       "      <td>엄궁초등학교지하주차장</td>\n",
       "      <td>2010000016</td>\n",
       "      <td>사상구 엄궁로191번길 23 (엄궁동 47)</td>\n",
       "      <td>-</td>\n",
       "      <td>051-310-4503</td>\n",
       "      <td>노외</td>\n",
       "      <td>93</td>\n",
       "      <td>0:00</td>\n",
       "      <td>...</td>\n",
       "      <td>-</td>\n",
       "      <td>-</td>\n",
       "      <td>-</td>\n",
       "      <td>10</td>\n",
       "      <td>10</td>\n",
       "      <td>100</td>\n",
       "      <td>-</td>\n",
       "      <td>-</td>\n",
       "      <td>-</td>\n",
       "      <td>-</td>\n",
       "    </tr>\n",
       "    <tr>\n",
       "      <th>3</th>\n",
       "      <td>구(군)직영</td>\n",
       "      <td>부산광역시 사상구청</td>\n",
       "      <td>일신주택주변</td>\n",
       "      <td>2011000003</td>\n",
       "      <td>-</td>\n",
       "      <td>사상구 주례3동 545-3</td>\n",
       "      <td>051-310-4501</td>\n",
       "      <td>노외</td>\n",
       "      <td>10</td>\n",
       "      <td>0:00</td>\n",
       "      <td>...</td>\n",
       "      <td>-</td>\n",
       "      <td>-</td>\n",
       "      <td>-</td>\n",
       "      <td>10</td>\n",
       "      <td>10</td>\n",
       "      <td>0</td>\n",
       "      <td>-</td>\n",
       "      <td>-</td>\n",
       "      <td>-</td>\n",
       "      <td>-</td>\n",
       "    </tr>\n",
       "    <tr>\n",
       "      <th>4</th>\n",
       "      <td>구(군)직영</td>\n",
       "      <td>부산광역시 사상구청</td>\n",
       "      <td>주례중학교주변</td>\n",
       "      <td>2012000004</td>\n",
       "      <td>-</td>\n",
       "      <td>사상구 주례2동 82-13</td>\n",
       "      <td>051-310-4501</td>\n",
       "      <td>노외</td>\n",
       "      <td>8</td>\n",
       "      <td>0:00</td>\n",
       "      <td>...</td>\n",
       "      <td>-</td>\n",
       "      <td>-</td>\n",
       "      <td>-</td>\n",
       "      <td>10</td>\n",
       "      <td>10</td>\n",
       "      <td>0</td>\n",
       "      <td>-</td>\n",
       "      <td>-</td>\n",
       "      <td>-</td>\n",
       "      <td>-</td>\n",
       "    </tr>\n",
       "    <tr>\n",
       "      <th>...</th>\n",
       "      <td>...</td>\n",
       "      <td>...</td>\n",
       "      <td>...</td>\n",
       "      <td>...</td>\n",
       "      <td>...</td>\n",
       "      <td>...</td>\n",
       "      <td>...</td>\n",
       "      <td>...</td>\n",
       "      <td>...</td>\n",
       "      <td>...</td>\n",
       "      <td>...</td>\n",
       "      <td>...</td>\n",
       "      <td>...</td>\n",
       "      <td>...</td>\n",
       "      <td>...</td>\n",
       "      <td>...</td>\n",
       "      <td>...</td>\n",
       "      <td>...</td>\n",
       "      <td>...</td>\n",
       "      <td>...</td>\n",
       "      <td>...</td>\n",
       "    </tr>\n",
       "    <tr>\n",
       "      <th>610</th>\n",
       "      <td>구(군)직영</td>\n",
       "      <td>부산광역시 기장군청</td>\n",
       "      <td>정관읍 상업지역 노상주차장</td>\n",
       "      <td>2016000017</td>\n",
       "      <td>-</td>\n",
       "      <td>기장군 정관면 732</td>\n",
       "      <td>-</td>\n",
       "      <td>노상</td>\n",
       "      <td>46</td>\n",
       "      <td>0:00</td>\n",
       "      <td>...</td>\n",
       "      <td>-</td>\n",
       "      <td>-</td>\n",
       "      <td>-</td>\n",
       "      <td>10</td>\n",
       "      <td>10</td>\n",
       "      <td>0</td>\n",
       "      <td>-</td>\n",
       "      <td>-</td>\n",
       "      <td>-</td>\n",
       "      <td>-</td>\n",
       "    </tr>\n",
       "    <tr>\n",
       "      <th>611</th>\n",
       "      <td>민간운영</td>\n",
       "      <td>부산광역시 기장군청</td>\n",
       "      <td>1구역 2소</td>\n",
       "      <td>2008000002</td>\n",
       "      <td>-</td>\n",
       "      <td>기장군 기장읍 280-2</td>\n",
       "      <td>051-792-4719</td>\n",
       "      <td>노상</td>\n",
       "      <td>12</td>\n",
       "      <td>9:00</td>\n",
       "      <td>...</td>\n",
       "      <td>-</td>\n",
       "      <td>-</td>\n",
       "      <td>-</td>\n",
       "      <td>10</td>\n",
       "      <td>10</td>\n",
       "      <td>200</td>\n",
       "      <td>-</td>\n",
       "      <td>-</td>\n",
       "      <td>-</td>\n",
       "      <td>-</td>\n",
       "    </tr>\n",
       "    <tr>\n",
       "      <th>612</th>\n",
       "      <td>민간운영</td>\n",
       "      <td>부산광역시 기장군청</td>\n",
       "      <td>1구역 3소</td>\n",
       "      <td>2008000003</td>\n",
       "      <td>-</td>\n",
       "      <td>기장군 기장읍 444-1</td>\n",
       "      <td>051-792-4719</td>\n",
       "      <td>노상</td>\n",
       "      <td>13</td>\n",
       "      <td>9:00</td>\n",
       "      <td>...</td>\n",
       "      <td>-</td>\n",
       "      <td>-</td>\n",
       "      <td>-</td>\n",
       "      <td>10</td>\n",
       "      <td>10</td>\n",
       "      <td>200</td>\n",
       "      <td>-</td>\n",
       "      <td>-</td>\n",
       "      <td>-</td>\n",
       "      <td>-</td>\n",
       "    </tr>\n",
       "    <tr>\n",
       "      <th>613</th>\n",
       "      <td>민간운영</td>\n",
       "      <td>부산광역시 기장군청</td>\n",
       "      <td>3구역 1소</td>\n",
       "      <td>2008000006</td>\n",
       "      <td>-</td>\n",
       "      <td>기장군 기장읍 418-12</td>\n",
       "      <td>051-792-4719</td>\n",
       "      <td>노상</td>\n",
       "      <td>24</td>\n",
       "      <td>9:00</td>\n",
       "      <td>...</td>\n",
       "      <td>-</td>\n",
       "      <td>-</td>\n",
       "      <td>-</td>\n",
       "      <td>10</td>\n",
       "      <td>10</td>\n",
       "      <td>200</td>\n",
       "      <td>-</td>\n",
       "      <td>-</td>\n",
       "      <td>-</td>\n",
       "      <td>-</td>\n",
       "    </tr>\n",
       "    <tr>\n",
       "      <th>614</th>\n",
       "      <td>시설관리공단위탁</td>\n",
       "      <td>부산광역시 기장군청</td>\n",
       "      <td>기장시장 공영주차장</td>\n",
       "      <td>2018000001</td>\n",
       "      <td>기장군 읍내로94번길 9 (기장읍 대라리 70-3)</td>\n",
       "      <td>-</td>\n",
       "      <td>-</td>\n",
       "      <td>노외</td>\n",
       "      <td>216</td>\n",
       "      <td>0:00</td>\n",
       "      <td>...</td>\n",
       "      <td>-</td>\n",
       "      <td>-</td>\n",
       "      <td>-</td>\n",
       "      <td>10</td>\n",
       "      <td>10</td>\n",
       "      <td>-</td>\n",
       "      <td>-</td>\n",
       "      <td>-</td>\n",
       "      <td>-</td>\n",
       "      <td>-</td>\n",
       "    </tr>\n",
       "  </tbody>\n",
       "</table>\n",
       "<p>615 rows × 33 columns</p>\n",
       "</div>"
      ],
      "text/plain": [
       "         운영형태       관리기관명            주차장명     주차장관리번호  \\\n",
       "0      구(군)직영  부산광역시 사상구청           감전동주변  2010000013   \n",
       "1      구(군)직영  부산광역시 사상구청           장성주차장  2010000015   \n",
       "2        민간위탁  부산광역시 사상구청     엄궁초등학교지하주차장  2010000016   \n",
       "3      구(군)직영  부산광역시 사상구청          일신주택주변  2011000003   \n",
       "4      구(군)직영  부산광역시 사상구청         주례중학교주변  2012000004   \n",
       "..        ...         ...             ...         ...   \n",
       "610    구(군)직영  부산광역시 기장군청  정관읍 상업지역 노상주차장  2016000017   \n",
       "611      민간운영  부산광역시 기장군청          1구역 2소  2008000002   \n",
       "612      민간운영  부산광역시 기장군청          1구역 3소  2008000003   \n",
       "613      민간운영  부산광역시 기장군청          3구역 1소  2008000006   \n",
       "614  시설관리공단위탁  부산광역시 기장군청      기장시장 공영주차장  2018000001   \n",
       "\n",
       "                          소재지지번주소         소재지도로명주소          전화번호 주차장유형  주차구획수  \\\n",
       "0                               -    사상구 감전동 589-2  051-310-4501    노외     26   \n",
       "1                               -  사상구 주례2동 92-278  051-310-4501    노외     16   \n",
       "2        사상구 엄궁로191번길 23 (엄궁동 47)                -  051-310-4503    노외     93   \n",
       "3                               -   사상구 주례3동 545-3  051-310-4501    노외     10   \n",
       "4                               -   사상구 주례2동 82-13  051-310-4501    노외      8   \n",
       "..                            ...              ...           ...   ...    ...   \n",
       "610                             -      기장군 정관면 732             -    노상     46   \n",
       "611                             -    기장군 기장읍 280-2  051-792-4719    노상     12   \n",
       "612                             -    기장군 기장읍 444-1  051-792-4719    노상     13   \n",
       "613                             -   기장군 기장읍 418-12  051-792-4719    노상     24   \n",
       "614  기장군 읍내로94번길 9 (기장읍 대라리 70-3)                -             -    노외    216   \n",
       "\n",
       "    평일운영시작시각  ... 부제시행구분 운영요일 요금정보 주차기본시간 추가단위시간 추가단위요금 1일주차권요금적용시간 결제방법 특기사항  \\\n",
       "0       0:00  ...      -    -    -     10     10      0           -    -    -   \n",
       "1       0:00  ...      -    -    -     10     10      0           -    -    -   \n",
       "2       0:00  ...      -    -    -     10     10    100           -    -    -   \n",
       "3       0:00  ...      -    -    -     10     10      0           -    -    -   \n",
       "4       0:00  ...      -    -    -     10     10      0           -    -    -   \n",
       "..       ...  ...    ...  ...  ...    ...    ...    ...         ...  ...  ...   \n",
       "610     0:00  ...      -    -    -     10     10      0           -    -    -   \n",
       "611     9:00  ...      -    -    -     10     10    200           -    -    -   \n",
       "612     9:00  ...      -    -    -     10     10    200           -    -    -   \n",
       "613     9:00  ...      -    -    -     10     10    200           -    -    -   \n",
       "614     0:00  ...      -    -    -     10     10      -           -    -    -   \n",
       "\n",
       "    실시간주차면수  \n",
       "0         -  \n",
       "1         -  \n",
       "2         -  \n",
       "3         -  \n",
       "4         -  \n",
       "..      ...  \n",
       "610       -  \n",
       "611       -  \n",
       "612       -  \n",
       "613       -  \n",
       "614       -  \n",
       "\n",
       "[615 rows x 33 columns]"
      ]
     },
     "execution_count": 340,
     "metadata": {},
     "output_type": "execute_result"
    }
   ],
   "source": [
    "parking_file_path = 'C:\\\\Users\\\\SAMSUNG\\\\Desktop\\\\Green-Car-Charging-Station-Site-Selection\\\\Data\\\\부산광역시 공영주차장 정보 조회.csv'\n",
    "df_parking = pd.read_csv(parking_file_path, encoding='cp949')\n",
    "df_parking"
   ]
  },
  {
   "cell_type": "markdown",
   "metadata": {},
   "source": [
    "### 주차 구획수 통계 구하기"
   ]
  },
  {
   "cell_type": "code",
   "execution_count": null,
   "metadata": {},
   "outputs": [
    {
     "data": {
      "text/plain": [
       "count    615.000000\n",
       "mean      62.378862\n",
       "std       70.372193\n",
       "min       -4.000000\n",
       "25%       18.000000\n",
       "50%       38.000000\n",
       "75%       79.000000\n",
       "max      414.000000\n",
       "Name: 주차구획수, dtype: float64"
      ]
     },
     "execution_count": 341,
     "metadata": {},
     "output_type": "execute_result"
    }
   ],
   "source": [
    "df_parking_area = df_parking['주차구획수'].astype(int)\n",
    "df_parking_area.describe()"
   ]
  },
  {
   "cell_type": "code",
   "execution_count": null,
   "metadata": {},
   "outputs": [
    {
     "data": {
      "application/vnd.plotly.v1+json": {
       "config": {
        "plotlyServerURL": "https://plot.ly"
       },
       "data": [
        {
         "hovertemplate": "x=%{x}<br>y=%{y}<extra></extra>",
         "legendgroup": "",
         "line": {
          "color": "#636efa",
          "dash": "solid"
         },
         "mode": "lines",
         "name": "",
         "orientation": "v",
         "showlegend": false,
         "type": "scatter",
         "x": [
          -74.37219252508093,
          -69.43914007533265,
          -64.50608762558434,
          -59.573035175836054,
          -54.639982726087766,
          -49.70693027633947,
          -44.773877826591175,
          -39.840825376842886,
          -34.90777292709459,
          -29.974720477346295,
          -25.041668027598007,
          -20.10861557784971,
          -15.175563128101416,
          -10.242510678353128,
          -5.309458228604839,
          -0.3764057788565367,
          4.556646670891752,
          9.48969912064004,
          14.422751570388343,
          19.35580402013663,
          24.28885646988492,
          29.221908919633222,
          34.15496136938151,
          39.0880138191298,
          44.0210662688781,
          48.95411871862639,
          53.88717116837468,
          58.82022361812297,
          63.753276067871255,
          68.68632851761957,
          73.61938096736786,
          78.55243341711615,
          83.48548586686444,
          88.41853831661273,
          93.35159076636101,
          98.2846432161093,
          103.21769566585762,
          108.15074811560591,
          113.0838005653542,
          118.01685301510248,
          122.94990546485077,
          127.88295791459906,
          132.8160103643474,
          137.74906281409568,
          142.68211526384397,
          147.61516771359226,
          152.54822016334055,
          157.48127261308883,
          162.41432506283712,
          167.3473775125854,
          172.2804299623337,
          177.213482412082,
          182.14653486183028,
          187.07958731157856,
          192.01263976132685,
          196.94569221107514,
          201.87874466082343,
          206.81179711057172,
          211.74484956032006,
          216.67790201006835,
          221.61095445981664,
          226.54400690956493,
          231.47705935931322,
          236.4101118090615,
          241.3431642588098,
          246.27621670855808,
          251.20926915830637,
          256.14232160805466,
          261.07537405780295,
          266.00842650755123,
          270.9414789572995,
          275.87453140704787,
          280.80758385679616,
          285.74063630654445,
          290.67368875629273,
          295.606741206041,
          300.5397936557893,
          305.4728461055376,
          310.4058985552859,
          315.3389510050342,
          320.27200345478246,
          325.20505590453075,
          330.13810835427904,
          335.07116080402733,
          340.0042132537757,
          344.93726570352396,
          349.87031815327225,
          354.80337060302054,
          359.7364230527688,
          364.6694755025171,
          369.6025279522654,
          374.5355804020137,
          379.468632851762,
          384.40168530151027,
          389.33473775125856,
          394.26779020100685,
          399.2008426507552,
          404.1338951005035,
          409.06694755025177,
          414
         ],
         "xaxis": "x",
         "y": [
          0.0008580441113860472,
          0.0009808500582564352,
          0.0011157362281452607,
          0.0012629505701402363,
          0.0014225812403555597,
          0.0015945337171855154,
          0.001778509717360807,
          0.0019739887963678834,
          0.0021802135283785044,
          0.0023961791368086707,
          0.0026206283839076074,
          0.002852052424931398,
          0.003088698189947676,
          0.0033285826766926664,
          0.003569514325852071,
          0.003809121412445047,
          0.004044887132337909,
          0.004274190801560521,
          0.004494354329435314,
          0.004702692886532703,
          0.004896568477075004,
          0.005073444953861354,
          0.005230942891954976,
          0.005366892673160674,
          0.005479384132116905,
          0.005566811179114834,
          0.005627909943858971,
          0.005661789174396246,
          0.005667951869351329,
          0.005646307409605089,
          0.005597173775508567,
          0.005521269773807185,
          0.005419697539860848,
          0.005293915910508431,
          0.005145705566686809,
          0.004977127109707392,
          0.004790473450010428,
          0.004588218043959765,
          0.004372960607502352,
          0.00414737196318861,
          0.003914139640235283,
          0.0036759157501560225,
          0.0034352685098348744,
          0.0031946385888466447,
          0.0029563012290506467,
          0.002722334833710848,
          0.0024945964626649645,
          0.0022747044111010822,
          0.002064027803124976,
          0.0018636829069424582,
          0.0016745356837935045,
          0.0014972099233912103,
          0.001332100198033332,
          0.0011793887871379475,
          0.0010390656830847843,
          0.0009109507855327211,
          0.0007947174209832328,
          0.0006899163823112382,
          0.0005959997635964648,
          0.0005123439628049922,
          0.0004382713326226295,
          0.0003730700722512321,
          0.0003160120650109037,
          0.00026636847364172405,
          0.00022342300361977534,
          0.0001864828318600741,
          0.00015488727205668088,
          0.0001280143076594068,
          0.00010528516894028733,
          0.00008616716226015379,
          0.00007017497853797127,
          0.000056870715478546495,
          0.00004586284600998294,
          0.0000368043554330081,
          0.000029390253820887646,
          0.000023354649988291645,
          0.000018467550482701904,
          0.000014531522960187906,
          0.000011378339180850227,
          0.000008865689652368994,
          0.000006874040381991563,
          0.0000053036827659244244,
          0.000004072010650071726,
          0.0000031110441668747333,
          0.0000023652080799661,
          0.0000017893629339286675,
          0.0000013470801151593406,
          0.0000010091467353509273,
          7.522827776732681e-7,
          5.580509155462485e-7,
          4.1193855019942486e-7,
          3.0259165942199197e-7,
          2.2118077505585643e-7,
          1.608806098101431e-7,
          1.1644636540593478e-7,
          8.387143567443856e-8,
          6.011296123208026e-8,
          4.2873414545448874e-8,
          3.042803658096837e-8,
          2.1489469374785214e-8
         ],
         "yaxis": "y"
        }
       ],
       "layout": {
        "legend": {
         "tracegroupgap": 0
        },
        "margin": {
         "t": 60
        },
        "template": {
         "data": {
          "bar": [
           {
            "error_x": {
             "color": "#2a3f5f"
            },
            "error_y": {
             "color": "#2a3f5f"
            },
            "marker": {
             "line": {
              "color": "#E5ECF6",
              "width": 0.5
             },
             "pattern": {
              "fillmode": "overlay",
              "size": 10,
              "solidity": 0.2
             }
            },
            "type": "bar"
           }
          ],
          "barpolar": [
           {
            "marker": {
             "line": {
              "color": "#E5ECF6",
              "width": 0.5
             },
             "pattern": {
              "fillmode": "overlay",
              "size": 10,
              "solidity": 0.2
             }
            },
            "type": "barpolar"
           }
          ],
          "carpet": [
           {
            "aaxis": {
             "endlinecolor": "#2a3f5f",
             "gridcolor": "white",
             "linecolor": "white",
             "minorgridcolor": "white",
             "startlinecolor": "#2a3f5f"
            },
            "baxis": {
             "endlinecolor": "#2a3f5f",
             "gridcolor": "white",
             "linecolor": "white",
             "minorgridcolor": "white",
             "startlinecolor": "#2a3f5f"
            },
            "type": "carpet"
           }
          ],
          "choropleth": [
           {
            "colorbar": {
             "outlinewidth": 0,
             "ticks": ""
            },
            "type": "choropleth"
           }
          ],
          "contour": [
           {
            "colorbar": {
             "outlinewidth": 0,
             "ticks": ""
            },
            "colorscale": [
             [
              0,
              "#0d0887"
             ],
             [
              0.1111111111111111,
              "#46039f"
             ],
             [
              0.2222222222222222,
              "#7201a8"
             ],
             [
              0.3333333333333333,
              "#9c179e"
             ],
             [
              0.4444444444444444,
              "#bd3786"
             ],
             [
              0.5555555555555556,
              "#d8576b"
             ],
             [
              0.6666666666666666,
              "#ed7953"
             ],
             [
              0.7777777777777778,
              "#fb9f3a"
             ],
             [
              0.8888888888888888,
              "#fdca26"
             ],
             [
              1,
              "#f0f921"
             ]
            ],
            "type": "contour"
           }
          ],
          "contourcarpet": [
           {
            "colorbar": {
             "outlinewidth": 0,
             "ticks": ""
            },
            "type": "contourcarpet"
           }
          ],
          "heatmap": [
           {
            "colorbar": {
             "outlinewidth": 0,
             "ticks": ""
            },
            "colorscale": [
             [
              0,
              "#0d0887"
             ],
             [
              0.1111111111111111,
              "#46039f"
             ],
             [
              0.2222222222222222,
              "#7201a8"
             ],
             [
              0.3333333333333333,
              "#9c179e"
             ],
             [
              0.4444444444444444,
              "#bd3786"
             ],
             [
              0.5555555555555556,
              "#d8576b"
             ],
             [
              0.6666666666666666,
              "#ed7953"
             ],
             [
              0.7777777777777778,
              "#fb9f3a"
             ],
             [
              0.8888888888888888,
              "#fdca26"
             ],
             [
              1,
              "#f0f921"
             ]
            ],
            "type": "heatmap"
           }
          ],
          "heatmapgl": [
           {
            "colorbar": {
             "outlinewidth": 0,
             "ticks": ""
            },
            "colorscale": [
             [
              0,
              "#0d0887"
             ],
             [
              0.1111111111111111,
              "#46039f"
             ],
             [
              0.2222222222222222,
              "#7201a8"
             ],
             [
              0.3333333333333333,
              "#9c179e"
             ],
             [
              0.4444444444444444,
              "#bd3786"
             ],
             [
              0.5555555555555556,
              "#d8576b"
             ],
             [
              0.6666666666666666,
              "#ed7953"
             ],
             [
              0.7777777777777778,
              "#fb9f3a"
             ],
             [
              0.8888888888888888,
              "#fdca26"
             ],
             [
              1,
              "#f0f921"
             ]
            ],
            "type": "heatmapgl"
           }
          ],
          "histogram": [
           {
            "marker": {
             "pattern": {
              "fillmode": "overlay",
              "size": 10,
              "solidity": 0.2
             }
            },
            "type": "histogram"
           }
          ],
          "histogram2d": [
           {
            "colorbar": {
             "outlinewidth": 0,
             "ticks": ""
            },
            "colorscale": [
             [
              0,
              "#0d0887"
             ],
             [
              0.1111111111111111,
              "#46039f"
             ],
             [
              0.2222222222222222,
              "#7201a8"
             ],
             [
              0.3333333333333333,
              "#9c179e"
             ],
             [
              0.4444444444444444,
              "#bd3786"
             ],
             [
              0.5555555555555556,
              "#d8576b"
             ],
             [
              0.6666666666666666,
              "#ed7953"
             ],
             [
              0.7777777777777778,
              "#fb9f3a"
             ],
             [
              0.8888888888888888,
              "#fdca26"
             ],
             [
              1,
              "#f0f921"
             ]
            ],
            "type": "histogram2d"
           }
          ],
          "histogram2dcontour": [
           {
            "colorbar": {
             "outlinewidth": 0,
             "ticks": ""
            },
            "colorscale": [
             [
              0,
              "#0d0887"
             ],
             [
              0.1111111111111111,
              "#46039f"
             ],
             [
              0.2222222222222222,
              "#7201a8"
             ],
             [
              0.3333333333333333,
              "#9c179e"
             ],
             [
              0.4444444444444444,
              "#bd3786"
             ],
             [
              0.5555555555555556,
              "#d8576b"
             ],
             [
              0.6666666666666666,
              "#ed7953"
             ],
             [
              0.7777777777777778,
              "#fb9f3a"
             ],
             [
              0.8888888888888888,
              "#fdca26"
             ],
             [
              1,
              "#f0f921"
             ]
            ],
            "type": "histogram2dcontour"
           }
          ],
          "mesh3d": [
           {
            "colorbar": {
             "outlinewidth": 0,
             "ticks": ""
            },
            "type": "mesh3d"
           }
          ],
          "parcoords": [
           {
            "line": {
             "colorbar": {
              "outlinewidth": 0,
              "ticks": ""
             }
            },
            "type": "parcoords"
           }
          ],
          "pie": [
           {
            "automargin": true,
            "type": "pie"
           }
          ],
          "scatter": [
           {
            "marker": {
             "colorbar": {
              "outlinewidth": 0,
              "ticks": ""
             }
            },
            "type": "scatter"
           }
          ],
          "scatter3d": [
           {
            "line": {
             "colorbar": {
              "outlinewidth": 0,
              "ticks": ""
             }
            },
            "marker": {
             "colorbar": {
              "outlinewidth": 0,
              "ticks": ""
             }
            },
            "type": "scatter3d"
           }
          ],
          "scattercarpet": [
           {
            "marker": {
             "colorbar": {
              "outlinewidth": 0,
              "ticks": ""
             }
            },
            "type": "scattercarpet"
           }
          ],
          "scattergeo": [
           {
            "marker": {
             "colorbar": {
              "outlinewidth": 0,
              "ticks": ""
             }
            },
            "type": "scattergeo"
           }
          ],
          "scattergl": [
           {
            "marker": {
             "colorbar": {
              "outlinewidth": 0,
              "ticks": ""
             }
            },
            "type": "scattergl"
           }
          ],
          "scattermapbox": [
           {
            "marker": {
             "colorbar": {
              "outlinewidth": 0,
              "ticks": ""
             }
            },
            "type": "scattermapbox"
           }
          ],
          "scatterpolar": [
           {
            "marker": {
             "colorbar": {
              "outlinewidth": 0,
              "ticks": ""
             }
            },
            "type": "scatterpolar"
           }
          ],
          "scatterpolargl": [
           {
            "marker": {
             "colorbar": {
              "outlinewidth": 0,
              "ticks": ""
             }
            },
            "type": "scatterpolargl"
           }
          ],
          "scatterternary": [
           {
            "marker": {
             "colorbar": {
              "outlinewidth": 0,
              "ticks": ""
             }
            },
            "type": "scatterternary"
           }
          ],
          "surface": [
           {
            "colorbar": {
             "outlinewidth": 0,
             "ticks": ""
            },
            "colorscale": [
             [
              0,
              "#0d0887"
             ],
             [
              0.1111111111111111,
              "#46039f"
             ],
             [
              0.2222222222222222,
              "#7201a8"
             ],
             [
              0.3333333333333333,
              "#9c179e"
             ],
             [
              0.4444444444444444,
              "#bd3786"
             ],
             [
              0.5555555555555556,
              "#d8576b"
             ],
             [
              0.6666666666666666,
              "#ed7953"
             ],
             [
              0.7777777777777778,
              "#fb9f3a"
             ],
             [
              0.8888888888888888,
              "#fdca26"
             ],
             [
              1,
              "#f0f921"
             ]
            ],
            "type": "surface"
           }
          ],
          "table": [
           {
            "cells": {
             "fill": {
              "color": "#EBF0F8"
             },
             "line": {
              "color": "white"
             }
            },
            "header": {
             "fill": {
              "color": "#C8D4E3"
             },
             "line": {
              "color": "white"
             }
            },
            "type": "table"
           }
          ]
         },
         "layout": {
          "annotationdefaults": {
           "arrowcolor": "#2a3f5f",
           "arrowhead": 0,
           "arrowwidth": 1
          },
          "autotypenumbers": "strict",
          "coloraxis": {
           "colorbar": {
            "outlinewidth": 0,
            "ticks": ""
           }
          },
          "colorscale": {
           "diverging": [
            [
             0,
             "#8e0152"
            ],
            [
             0.1,
             "#c51b7d"
            ],
            [
             0.2,
             "#de77ae"
            ],
            [
             0.3,
             "#f1b6da"
            ],
            [
             0.4,
             "#fde0ef"
            ],
            [
             0.5,
             "#f7f7f7"
            ],
            [
             0.6,
             "#e6f5d0"
            ],
            [
             0.7,
             "#b8e186"
            ],
            [
             0.8,
             "#7fbc41"
            ],
            [
             0.9,
             "#4d9221"
            ],
            [
             1,
             "#276419"
            ]
           ],
           "sequential": [
            [
             0,
             "#0d0887"
            ],
            [
             0.1111111111111111,
             "#46039f"
            ],
            [
             0.2222222222222222,
             "#7201a8"
            ],
            [
             0.3333333333333333,
             "#9c179e"
            ],
            [
             0.4444444444444444,
             "#bd3786"
            ],
            [
             0.5555555555555556,
             "#d8576b"
            ],
            [
             0.6666666666666666,
             "#ed7953"
            ],
            [
             0.7777777777777778,
             "#fb9f3a"
            ],
            [
             0.8888888888888888,
             "#fdca26"
            ],
            [
             1,
             "#f0f921"
            ]
           ],
           "sequentialminus": [
            [
             0,
             "#0d0887"
            ],
            [
             0.1111111111111111,
             "#46039f"
            ],
            [
             0.2222222222222222,
             "#7201a8"
            ],
            [
             0.3333333333333333,
             "#9c179e"
            ],
            [
             0.4444444444444444,
             "#bd3786"
            ],
            [
             0.5555555555555556,
             "#d8576b"
            ],
            [
             0.6666666666666666,
             "#ed7953"
            ],
            [
             0.7777777777777778,
             "#fb9f3a"
            ],
            [
             0.8888888888888888,
             "#fdca26"
            ],
            [
             1,
             "#f0f921"
            ]
           ]
          },
          "colorway": [
           "#636efa",
           "#EF553B",
           "#00cc96",
           "#ab63fa",
           "#FFA15A",
           "#19d3f3",
           "#FF6692",
           "#B6E880",
           "#FF97FF",
           "#FECB52"
          ],
          "font": {
           "color": "#2a3f5f"
          },
          "geo": {
           "bgcolor": "white",
           "lakecolor": "white",
           "landcolor": "#E5ECF6",
           "showlakes": true,
           "showland": true,
           "subunitcolor": "white"
          },
          "hoverlabel": {
           "align": "left"
          },
          "hovermode": "closest",
          "mapbox": {
           "style": "light"
          },
          "paper_bgcolor": "white",
          "plot_bgcolor": "#E5ECF6",
          "polar": {
           "angularaxis": {
            "gridcolor": "white",
            "linecolor": "white",
            "ticks": ""
           },
           "bgcolor": "#E5ECF6",
           "radialaxis": {
            "gridcolor": "white",
            "linecolor": "white",
            "ticks": ""
           }
          },
          "scene": {
           "xaxis": {
            "backgroundcolor": "#E5ECF6",
            "gridcolor": "white",
            "gridwidth": 2,
            "linecolor": "white",
            "showbackground": true,
            "ticks": "",
            "zerolinecolor": "white"
           },
           "yaxis": {
            "backgroundcolor": "#E5ECF6",
            "gridcolor": "white",
            "gridwidth": 2,
            "linecolor": "white",
            "showbackground": true,
            "ticks": "",
            "zerolinecolor": "white"
           },
           "zaxis": {
            "backgroundcolor": "#E5ECF6",
            "gridcolor": "white",
            "gridwidth": 2,
            "linecolor": "white",
            "showbackground": true,
            "ticks": "",
            "zerolinecolor": "white"
           }
          },
          "shapedefaults": {
           "line": {
            "color": "#2a3f5f"
           }
          },
          "ternary": {
           "aaxis": {
            "gridcolor": "white",
            "linecolor": "white",
            "ticks": ""
           },
           "baxis": {
            "gridcolor": "white",
            "linecolor": "white",
            "ticks": ""
           },
           "bgcolor": "#E5ECF6",
           "caxis": {
            "gridcolor": "white",
            "linecolor": "white",
            "ticks": ""
           }
          },
          "title": {
           "x": 0.05
          },
          "xaxis": {
           "automargin": true,
           "gridcolor": "white",
           "linecolor": "white",
           "ticks": "",
           "title": {
            "standoff": 15
           },
           "zerolinecolor": "white",
           "zerolinewidth": 2
          },
          "yaxis": {
           "automargin": true,
           "gridcolor": "white",
           "linecolor": "white",
           "ticks": "",
           "title": {
            "standoff": 15
           },
           "zerolinecolor": "white",
           "zerolinewidth": 2
          }
         }
        },
        "xaxis": {
         "anchor": "y",
         "domain": [
          0,
          1
         ],
         "title": {
          "text": "x"
         }
        },
        "yaxis": {
         "anchor": "x",
         "domain": [
          0,
          1
         ],
         "title": {
          "text": "y"
         }
        }
       }
      }
     },
     "metadata": {},
     "output_type": "display_data"
    },
    {
     "data": {
      "application/vnd.plotly.v1+json": {
       "config": {
        "plotlyServerURL": "https://plot.ly"
       },
       "data": [
        {
         "fill": "tozeroy",
         "line": {
          "color": "rgb(100,110,250)"
         },
         "name": "적합",
         "text": "0.381979238207332",
         "type": "scatter",
         "x": [
          -74.37219252508093,
          -73.15631179250435,
          -71.94043105992779,
          -70.72455032735121,
          -69.50866959477463,
          -68.29278886219805,
          -67.07690812962149,
          -65.86102739704491,
          -64.64514666446833,
          -63.429265931891756,
          -62.213385199315184,
          -60.997504466738604,
          -59.78162373416203,
          -58.56574300158546,
          -57.34986226900888,
          -56.13398153643231,
          -54.91810080385574,
          -53.70222007127916,
          -52.48633933870258,
          -51.27045860612601,
          -50.054577873549434,
          -48.838697140972855,
          -47.62281640839628,
          -46.40693567581971,
          -45.19105494324313,
          -43.97517421066656,
          -42.75929347808999,
          -41.54341274551341,
          -40.327532012936835,
          -39.111651280360256,
          -37.895770547783684,
          -36.679889815207105,
          -35.46400908263053,
          -34.24812835005396,
          -33.03224761747738,
          -31.81636688490081,
          -30.60048615232423,
          -29.384605419747658,
          -28.168724687171085,
          -26.952843954594506,
          -25.736963222017934,
          -24.521082489441355,
          -23.305201756864783,
          -22.08932102428821,
          -20.87344029171163,
          -19.65755955913506,
          -18.44167882655848,
          -17.225798093981908,
          -16.00991736140533,
          -14.794036628828756,
          -13.578155896252184,
          -12.362275163675605,
          -11.146394431099033,
          -9.93051369852246,
          -8.714632965945881,
          -7.498752233369302,
          -6.282871500792737,
          -5.066990768216158,
          -3.8511100356395787,
          -2.6352293030630136,
          -1.4193485704864344,
          -0.20346783790985512,
          1.0124128946667241,
          2.228293627243289,
          3.4441743598198684,
          4.660055092396448,
          5.875935824973013,
          7.091816557549592,
          8.307697290126171,
          9.52357802270275,
          10.739458755279315,
          11.955339487855895,
          13.171220220432474,
          14.387100953009039,
          15.602981685585618,
          16.818862418162198,
          18.034743150738763,
          19.250623883315342,
          20.46650461589192,
          21.6823853484685,
          22.898266081045065,
          24.114146813621645,
          25.330027546198224,
          26.54590827877479,
          27.761789011351368,
          28.977669743927947,
          30.193550476504512,
          31.40943120908109,
          32.62531194165767,
          33.84119267423425,
          35.057073406810815,
          36.272954139387394,
          37.488834871963974,
          38.70471560454054,
          39.92059633711712,
          41.1364770696937,
          42.35235780227028,
          43.56823853484684,
          44.78411926742342,
          46
         ],
         "y": [
          0.0008580441113860472,
          0.0008872098305847923,
          0.0009170931042585777,
          0.0009476999617582145,
          0.0009790359758609904,
          0.0010111062407712798,
          0.0010439153501163683,
          0.001077467374977376,
          0.0011117658419964077,
          0.001146813711602243,
          0.0011826133563979714,
          0.0012191665397550586,
          0.0012564743946592643,
          0.0012945374028547423,
          0.0013333553743334623,
          0.0013729274272177919,
          0.001413251968084726,
          0.0014543266727807453,
          0.0014961484677767365,
          0.0015387135121126972,
          0.0015820171799821705,
          0.0016260540440064162,
          0.0016708178592483372,
          0.0017163015480159772,
          0.0017624971855051618,
          0.0018093959863304454,
          0.001856988291992977,
          0.001905263559333247,
          0.0019542103500158592,
          0.0020038163210925547,
          0.002054068216688621,
          0.00210495186085662,
          0.0021564521516400288,
          0.002208553056387881,
          0.002261237608359894,
          0.0023144879046597963,
          0.002368285105532695,
          0.002422609435060287,
          0.00247744018328556,
          0.002532755709796368,
          0.0025885334487948416,
          0.0026447499156770833,
          0.002701380715144944,
          0.0027584005508689458,
          0.0028157832367185238,
          0.002873501709572836,
          0.002931528043722318,
          0.0029898334668679925,
          0.0030483883777223794,
          0.0031071623652124706,
          0.0031661242292819313,
          0.003225242003286214,
          0.003284482977970821,
          0.0033438137270194084,
          0.0034032001341548603,
          0.003462607421772887,
          0.0035220001810841047,
          0.003581342403736923,
          0.0036405975148899633,
          0.003699728407699168,
          0.003758697479181138,
          0.0038174666674107263,
          0.003875997490007424,
          0.003934251083861602,
          0.003992188246048312,
          0.004049769475873024,
          0.004106955017990479,
          0.004163704906534665,
          0.004219979010194914,
          0.004275737078170208,
          0.004330938786930975,
          0.004385543787714973,
          0.004439511754681378,
          0.004492802433644787,
          0.004545375691308631,
          0.004597191564915444,
          0.004648210312229574,
          0.0046983924617661765,
          0.004747698863178884,
          0.004796090737717152,
          0.004843529728663228,
          0.004889977951657735,
          0.004935398044822162,
          0.004979753218586068,
          0.005023007305126522,
          0.0050651248073272336,
          0.0051060709471650164,
          0.0051458117134315804,
          0.005184313908699286,
          0.005221545195440301,
          0.005257474141209685,
          0.005292070262804194,
          0.0053253040693100745,
          0.005357147103954893,
          0.0053875719846803215,
          0.005416552443354975,
          0.005444063363548765,
          0.005470080816792747,
          0.005494582097251239,
          0.005517545754735883
         ]
        },
        {
         "fill": "tozeroy",
         "line": {
          "color": "rgb(239,85,59)"
         },
         "name": "부적합",
         "text": "0.381979238207332",
         "type": "scatter",
         "x": [
          46,
          49.717171717171716,
          53.43434343434343,
          57.151515151515156,
          60.868686868686865,
          64.58585858585859,
          68.30303030303031,
          72.02020202020202,
          75.73737373737373,
          79.45454545454545,
          83.17171717171718,
          86.88888888888889,
          90.60606060606061,
          94.32323232323233,
          98.04040404040404,
          101.75757575757575,
          105.47474747474747,
          109.1919191919192,
          112.9090909090909,
          116.62626262626263,
          120.34343434343434,
          124.06060606060606,
          127.77777777777777,
          131.49494949494948,
          135.21212121212122,
          138.92929292929293,
          142.64646464646466,
          146.36363636363637,
          150.08080808080808,
          153.7979797979798,
          157.5151515151515,
          161.2323232323232,
          164.94949494949495,
          168.66666666666669,
          172.3838383838384,
          176.1010101010101,
          179.8181818181818,
          183.53535353535352,
          187.25252525252526,
          190.96969696969697,
          194.68686868686868,
          198.40404040404042,
          202.12121212121212,
          205.83838383838383,
          209.55555555555554,
          213.27272727272728,
          216.989898989899,
          220.7070707070707,
          224.42424242424244,
          228.14141414141415,
          231.85858585858585,
          235.57575757575756,
          239.2929292929293,
          243.010101010101,
          246.72727272727272,
          250.44444444444443,
          254.16161616161617,
          257.8787878787879,
          261.5959595959596,
          265.3131313131313,
          269.030303030303,
          272.7474747474747,
          276.4646464646464,
          280.1818181818182,
          283.8989898989899,
          287.6161616161616,
          291.33333333333337,
          295.0505050505051,
          298.7676767676768,
          302.4848484848485,
          306.2020202020202,
          309.9191919191919,
          313.6363636363636,
          317.35353535353534,
          321.07070707070704,
          324.7878787878788,
          328.5050505050505,
          332.22222222222223,
          335.93939393939394,
          339.65656565656565,
          343.37373737373736,
          347.09090909090907,
          350.80808080808083,
          354.52525252525254,
          358.24242424242425,
          361.95959595959596,
          365.67676767676767,
          369.3939393939394,
          373.1111111111111,
          376.82828282828285,
          380.54545454545456,
          384.26262626262627,
          387.979797979798,
          391.6969696969697,
          395.4141414141414,
          399.1313131313131,
          402.8484848484849,
          406.5656565656566,
          410.2828282828283,
          414
         ],
         "y": [
          0.005517545754735883,
          0.005578010204137701,
          0.005623425310220493,
          0.005653414439739856,
          0.0056677277686272365,
          0.005666245747357291,
          0.005648980763596536,
          0.005616076969790433,
          0.005567808279045325,
          0.005504574568276941,
          0.005426896162239047,
          0.0053354067048543416,
          0.005230844554440936,
          0.005114042866237202,
          0.004985918548452449,
          0.0048474602964058856,
          0.004699715922789351,
          0.004543779210468633,
          0.004380776517437272,
          0.00421185336161329,
          0.004038161206319478,
          0.003860844655836699,
          0.0036810292548071196,
          0.0034998100660277565,
          0.003318241178930063,
          0.003137326276460231,
          0.0029580103618637344,
          0.0027811727197537303,
          0.002607621158513082,
          0.002438087554220095,
          0.002273224690524695,
          0.0021136043647961332,
          0.001959716708898203,
          0.0018119706535189239,
          0.0016706954483902156,
          0.0015361431371845285,
          0.0014084918754789803,
          0.0012878499729503372,
          0.0011742605368373785,
          0.0010677065925345586,
          0.0009681165587493055,
          0.0008753699586964859,
          0.0007893032550063123,
          0.0007097157040452897,
          0.0006363751348352942,
          0.0005690235683397407,
          0.0005073826042101769,
          0.00045115851380900923,
          0.00040004699012616366,
          0.0003537375168014354,
          0.00031191732959841127,
          0.00027427495413749815,
          0.00024050331331336908,
          0.0002103024064660595,
          0.00018338156995550346,
          0.00015946133525527695,
          0.0001382749060167148,
          0.00011956927977477784,
          0.00010310604311451833,
          0.0000886618712565621,
          0.00007602876423425838,
          0.00006501405221956226,
          0.000055440202213435244,
          0.00004714445735806696,
          0.00003997833866183394,
          0.0000338070370603874,
          0.000028508721570310835,
          0.000023973786919793415,
          0.000020104061549339657,
          0.00001681199434031165,
          0.000014019835915211723,
          0.000011658827915448821,
          0.0000096684113437227,
          0.00000799546289282596,
          0.000006593566194926513,
          0.0000054223231310223285,
          0.000004446708747482601,
          0.0000036364719371141703,
          0.000002965582852300651,
          0.000002411727019335793,
          0.000001955845304612078,
          0.0000015817182308541748,
          0.0000012755926394992321,
          0.0000010258483271083305,
          8.227020325524538e-7,
          6.579460010932735e-7,
          5.247182854591274e-7,
          4.1730194764711626e-7,
          3.3095038469169933e-7,
          2.6173610458733795e-7,
          2.0642041390078733e-7,
          1.623416367462863e-7,
          1.2731965751022793e-7,
          9.957476012208809e-8,
          7.765891914167315e-8,
          6.039787797261246e-8,
          4.6842523640138964e-8,
          3.622823320396723e-8,
          2.7941022201804606e-8,
          2.1489469374785214e-8
         ]
        }
       ],
       "layout": {
        "annotations": [
         {
          "bordercolor": "rgb(100,110,250)",
          "borderwidth": 2,
          "font": {
           "color": "rgb(100,110,250)",
           "size": 15
          },
          "showarrow": false,
          "text": "0.382",
          "x": 46,
          "xshift": -40,
          "y": 0.005517545754735883,
          "yshift": -100
         },
         {
          "bordercolor": "rgb(239,85,59)",
          "borderwidth": 2,
          "font": {
           "color": "rgb(239,85,59)",
           "size": 15
          },
          "showarrow": false,
          "text": "0.618",
          "x": 46,
          "xshift": 40,
          "y": 0.005517545754735883,
          "yshift": -100
         }
        ],
        "template": {
         "data": {
          "bar": [
           {
            "error_x": {
             "color": "#2a3f5f"
            },
            "error_y": {
             "color": "#2a3f5f"
            },
            "marker": {
             "line": {
              "color": "#E5ECF6",
              "width": 0.5
             },
             "pattern": {
              "fillmode": "overlay",
              "size": 10,
              "solidity": 0.2
             }
            },
            "type": "bar"
           }
          ],
          "barpolar": [
           {
            "marker": {
             "line": {
              "color": "#E5ECF6",
              "width": 0.5
             },
             "pattern": {
              "fillmode": "overlay",
              "size": 10,
              "solidity": 0.2
             }
            },
            "type": "barpolar"
           }
          ],
          "carpet": [
           {
            "aaxis": {
             "endlinecolor": "#2a3f5f",
             "gridcolor": "white",
             "linecolor": "white",
             "minorgridcolor": "white",
             "startlinecolor": "#2a3f5f"
            },
            "baxis": {
             "endlinecolor": "#2a3f5f",
             "gridcolor": "white",
             "linecolor": "white",
             "minorgridcolor": "white",
             "startlinecolor": "#2a3f5f"
            },
            "type": "carpet"
           }
          ],
          "choropleth": [
           {
            "colorbar": {
             "outlinewidth": 0,
             "ticks": ""
            },
            "type": "choropleth"
           }
          ],
          "contour": [
           {
            "colorbar": {
             "outlinewidth": 0,
             "ticks": ""
            },
            "colorscale": [
             [
              0,
              "#0d0887"
             ],
             [
              0.1111111111111111,
              "#46039f"
             ],
             [
              0.2222222222222222,
              "#7201a8"
             ],
             [
              0.3333333333333333,
              "#9c179e"
             ],
             [
              0.4444444444444444,
              "#bd3786"
             ],
             [
              0.5555555555555556,
              "#d8576b"
             ],
             [
              0.6666666666666666,
              "#ed7953"
             ],
             [
              0.7777777777777778,
              "#fb9f3a"
             ],
             [
              0.8888888888888888,
              "#fdca26"
             ],
             [
              1,
              "#f0f921"
             ]
            ],
            "type": "contour"
           }
          ],
          "contourcarpet": [
           {
            "colorbar": {
             "outlinewidth": 0,
             "ticks": ""
            },
            "type": "contourcarpet"
           }
          ],
          "heatmap": [
           {
            "colorbar": {
             "outlinewidth": 0,
             "ticks": ""
            },
            "colorscale": [
             [
              0,
              "#0d0887"
             ],
             [
              0.1111111111111111,
              "#46039f"
             ],
             [
              0.2222222222222222,
              "#7201a8"
             ],
             [
              0.3333333333333333,
              "#9c179e"
             ],
             [
              0.4444444444444444,
              "#bd3786"
             ],
             [
              0.5555555555555556,
              "#d8576b"
             ],
             [
              0.6666666666666666,
              "#ed7953"
             ],
             [
              0.7777777777777778,
              "#fb9f3a"
             ],
             [
              0.8888888888888888,
              "#fdca26"
             ],
             [
              1,
              "#f0f921"
             ]
            ],
            "type": "heatmap"
           }
          ],
          "heatmapgl": [
           {
            "colorbar": {
             "outlinewidth": 0,
             "ticks": ""
            },
            "colorscale": [
             [
              0,
              "#0d0887"
             ],
             [
              0.1111111111111111,
              "#46039f"
             ],
             [
              0.2222222222222222,
              "#7201a8"
             ],
             [
              0.3333333333333333,
              "#9c179e"
             ],
             [
              0.4444444444444444,
              "#bd3786"
             ],
             [
              0.5555555555555556,
              "#d8576b"
             ],
             [
              0.6666666666666666,
              "#ed7953"
             ],
             [
              0.7777777777777778,
              "#fb9f3a"
             ],
             [
              0.8888888888888888,
              "#fdca26"
             ],
             [
              1,
              "#f0f921"
             ]
            ],
            "type": "heatmapgl"
           }
          ],
          "histogram": [
           {
            "marker": {
             "pattern": {
              "fillmode": "overlay",
              "size": 10,
              "solidity": 0.2
             }
            },
            "type": "histogram"
           }
          ],
          "histogram2d": [
           {
            "colorbar": {
             "outlinewidth": 0,
             "ticks": ""
            },
            "colorscale": [
             [
              0,
              "#0d0887"
             ],
             [
              0.1111111111111111,
              "#46039f"
             ],
             [
              0.2222222222222222,
              "#7201a8"
             ],
             [
              0.3333333333333333,
              "#9c179e"
             ],
             [
              0.4444444444444444,
              "#bd3786"
             ],
             [
              0.5555555555555556,
              "#d8576b"
             ],
             [
              0.6666666666666666,
              "#ed7953"
             ],
             [
              0.7777777777777778,
              "#fb9f3a"
             ],
             [
              0.8888888888888888,
              "#fdca26"
             ],
             [
              1,
              "#f0f921"
             ]
            ],
            "type": "histogram2d"
           }
          ],
          "histogram2dcontour": [
           {
            "colorbar": {
             "outlinewidth": 0,
             "ticks": ""
            },
            "colorscale": [
             [
              0,
              "#0d0887"
             ],
             [
              0.1111111111111111,
              "#46039f"
             ],
             [
              0.2222222222222222,
              "#7201a8"
             ],
             [
              0.3333333333333333,
              "#9c179e"
             ],
             [
              0.4444444444444444,
              "#bd3786"
             ],
             [
              0.5555555555555556,
              "#d8576b"
             ],
             [
              0.6666666666666666,
              "#ed7953"
             ],
             [
              0.7777777777777778,
              "#fb9f3a"
             ],
             [
              0.8888888888888888,
              "#fdca26"
             ],
             [
              1,
              "#f0f921"
             ]
            ],
            "type": "histogram2dcontour"
           }
          ],
          "mesh3d": [
           {
            "colorbar": {
             "outlinewidth": 0,
             "ticks": ""
            },
            "type": "mesh3d"
           }
          ],
          "parcoords": [
           {
            "line": {
             "colorbar": {
              "outlinewidth": 0,
              "ticks": ""
             }
            },
            "type": "parcoords"
           }
          ],
          "pie": [
           {
            "automargin": true,
            "type": "pie"
           }
          ],
          "scatter": [
           {
            "marker": {
             "colorbar": {
              "outlinewidth": 0,
              "ticks": ""
             }
            },
            "type": "scatter"
           }
          ],
          "scatter3d": [
           {
            "line": {
             "colorbar": {
              "outlinewidth": 0,
              "ticks": ""
             }
            },
            "marker": {
             "colorbar": {
              "outlinewidth": 0,
              "ticks": ""
             }
            },
            "type": "scatter3d"
           }
          ],
          "scattercarpet": [
           {
            "marker": {
             "colorbar": {
              "outlinewidth": 0,
              "ticks": ""
             }
            },
            "type": "scattercarpet"
           }
          ],
          "scattergeo": [
           {
            "marker": {
             "colorbar": {
              "outlinewidth": 0,
              "ticks": ""
             }
            },
            "type": "scattergeo"
           }
          ],
          "scattergl": [
           {
            "marker": {
             "colorbar": {
              "outlinewidth": 0,
              "ticks": ""
             }
            },
            "type": "scattergl"
           }
          ],
          "scattermapbox": [
           {
            "marker": {
             "colorbar": {
              "outlinewidth": 0,
              "ticks": ""
             }
            },
            "type": "scattermapbox"
           }
          ],
          "scatterpolar": [
           {
            "marker": {
             "colorbar": {
              "outlinewidth": 0,
              "ticks": ""
             }
            },
            "type": "scatterpolar"
           }
          ],
          "scatterpolargl": [
           {
            "marker": {
             "colorbar": {
              "outlinewidth": 0,
              "ticks": ""
             }
            },
            "type": "scatterpolargl"
           }
          ],
          "scatterternary": [
           {
            "marker": {
             "colorbar": {
              "outlinewidth": 0,
              "ticks": ""
             }
            },
            "type": "scatterternary"
           }
          ],
          "surface": [
           {
            "colorbar": {
             "outlinewidth": 0,
             "ticks": ""
            },
            "colorscale": [
             [
              0,
              "#0d0887"
             ],
             [
              0.1111111111111111,
              "#46039f"
             ],
             [
              0.2222222222222222,
              "#7201a8"
             ],
             [
              0.3333333333333333,
              "#9c179e"
             ],
             [
              0.4444444444444444,
              "#bd3786"
             ],
             [
              0.5555555555555556,
              "#d8576b"
             ],
             [
              0.6666666666666666,
              "#ed7953"
             ],
             [
              0.7777777777777778,
              "#fb9f3a"
             ],
             [
              0.8888888888888888,
              "#fdca26"
             ],
             [
              1,
              "#f0f921"
             ]
            ],
            "type": "surface"
           }
          ],
          "table": [
           {
            "cells": {
             "fill": {
              "color": "#EBF0F8"
             },
             "line": {
              "color": "white"
             }
            },
            "header": {
             "fill": {
              "color": "#C8D4E3"
             },
             "line": {
              "color": "white"
             }
            },
            "type": "table"
           }
          ]
         },
         "layout": {
          "annotationdefaults": {
           "arrowcolor": "#2a3f5f",
           "arrowhead": 0,
           "arrowwidth": 1
          },
          "autotypenumbers": "strict",
          "coloraxis": {
           "colorbar": {
            "outlinewidth": 0,
            "ticks": ""
           }
          },
          "colorscale": {
           "diverging": [
            [
             0,
             "#8e0152"
            ],
            [
             0.1,
             "#c51b7d"
            ],
            [
             0.2,
             "#de77ae"
            ],
            [
             0.3,
             "#f1b6da"
            ],
            [
             0.4,
             "#fde0ef"
            ],
            [
             0.5,
             "#f7f7f7"
            ],
            [
             0.6,
             "#e6f5d0"
            ],
            [
             0.7,
             "#b8e186"
            ],
            [
             0.8,
             "#7fbc41"
            ],
            [
             0.9,
             "#4d9221"
            ],
            [
             1,
             "#276419"
            ]
           ],
           "sequential": [
            [
             0,
             "#0d0887"
            ],
            [
             0.1111111111111111,
             "#46039f"
            ],
            [
             0.2222222222222222,
             "#7201a8"
            ],
            [
             0.3333333333333333,
             "#9c179e"
            ],
            [
             0.4444444444444444,
             "#bd3786"
            ],
            [
             0.5555555555555556,
             "#d8576b"
            ],
            [
             0.6666666666666666,
             "#ed7953"
            ],
            [
             0.7777777777777778,
             "#fb9f3a"
            ],
            [
             0.8888888888888888,
             "#fdca26"
            ],
            [
             1,
             "#f0f921"
            ]
           ],
           "sequentialminus": [
            [
             0,
             "#0d0887"
            ],
            [
             0.1111111111111111,
             "#46039f"
            ],
            [
             0.2222222222222222,
             "#7201a8"
            ],
            [
             0.3333333333333333,
             "#9c179e"
            ],
            [
             0.4444444444444444,
             "#bd3786"
            ],
            [
             0.5555555555555556,
             "#d8576b"
            ],
            [
             0.6666666666666666,
             "#ed7953"
            ],
            [
             0.7777777777777778,
             "#fb9f3a"
            ],
            [
             0.8888888888888888,
             "#fdca26"
            ],
            [
             1,
             "#f0f921"
            ]
           ]
          },
          "colorway": [
           "#636efa",
           "#EF553B",
           "#00cc96",
           "#ab63fa",
           "#FFA15A",
           "#19d3f3",
           "#FF6692",
           "#B6E880",
           "#FF97FF",
           "#FECB52"
          ],
          "font": {
           "color": "#2a3f5f"
          },
          "geo": {
           "bgcolor": "white",
           "lakecolor": "white",
           "landcolor": "#E5ECF6",
           "showlakes": true,
           "showland": true,
           "subunitcolor": "white"
          },
          "hoverlabel": {
           "align": "left"
          },
          "hovermode": "closest",
          "mapbox": {
           "style": "light"
          },
          "paper_bgcolor": "white",
          "plot_bgcolor": "#E5ECF6",
          "polar": {
           "angularaxis": {
            "gridcolor": "white",
            "linecolor": "white",
            "ticks": ""
           },
           "bgcolor": "#E5ECF6",
           "radialaxis": {
            "gridcolor": "white",
            "linecolor": "white",
            "ticks": ""
           }
          },
          "scene": {
           "xaxis": {
            "backgroundcolor": "#E5ECF6",
            "gridcolor": "white",
            "gridwidth": 2,
            "linecolor": "white",
            "showbackground": true,
            "ticks": "",
            "zerolinecolor": "white"
           },
           "yaxis": {
            "backgroundcolor": "#E5ECF6",
            "gridcolor": "white",
            "gridwidth": 2,
            "linecolor": "white",
            "showbackground": true,
            "ticks": "",
            "zerolinecolor": "white"
           },
           "zaxis": {
            "backgroundcolor": "#E5ECF6",
            "gridcolor": "white",
            "gridwidth": 2,
            "linecolor": "white",
            "showbackground": true,
            "ticks": "",
            "zerolinecolor": "white"
           }
          },
          "shapedefaults": {
           "line": {
            "color": "#2a3f5f"
           }
          },
          "ternary": {
           "aaxis": {
            "gridcolor": "white",
            "linecolor": "white",
            "ticks": ""
           },
           "baxis": {
            "gridcolor": "white",
            "linecolor": "white",
            "ticks": ""
           },
           "bgcolor": "#E5ECF6",
           "caxis": {
            "gridcolor": "white",
            "linecolor": "white",
            "ticks": ""
           }
          },
          "title": {
           "x": 0.05
          },
          "xaxis": {
           "automargin": true,
           "gridcolor": "white",
           "linecolor": "white",
           "ticks": "",
           "title": {
            "standoff": 15
           },
           "zerolinecolor": "white",
           "zerolinewidth": 2
          },
          "yaxis": {
           "automargin": true,
           "gridcolor": "white",
           "linecolor": "white",
           "ticks": "",
           "title": {
            "standoff": 15
           },
           "zerolinecolor": "white",
           "zerolinewidth": 2
          }
         }
        }
       }
      }
     },
     "metadata": {},
     "output_type": "display_data"
    },
    {
     "data": {
      "text/plain": [
       "0.381979238207332"
      ]
     },
     "execution_count": 217,
     "metadata": {},
     "output_type": "execute_result"
    }
   ],
   "source": [
    "show_norm(df_parking_area.mean(),df_parking_area.std(),df_parking_area.min(),df_parking_area.max())\n",
    "parking_area_pro = cal_norm(df_parking_area.mean(),df_parking_area.std(),df_parking_area.min(),df_parking_area.max(),df_parking_area.iloc[610])\n",
    "parking_area_pro"
   ]
  },
  {
   "cell_type": "markdown",
   "metadata": {},
   "source": [
    "## 상위 요소 - 기술적 요소"
   ]
  },
  {
   "cell_type": "markdown",
   "metadata": {},
   "source": [
    "### 복합 충전소 여부 (수소차)\n",
    "\n",
    "기존의 LPG 충전소 부지에 수소충전소를 세우는 경우 \"적합\" 100%로 설정, 반대의 경우 \"부적합\" 100%로 설정함"
   ]
  },
  {
   "cell_type": "markdown",
   "metadata": {},
   "source": [
    "### 충전시간에 따른 충전방식 (전기차, 정성적) \n",
    " 유동인구가 해당지역의 거주인구보다 많은 지역에 해당하는 경우 급속충전의 이용율이 높음\n",
    " \n",
    " 따라서 \"급속충전\" 100%로 설정, 반대의 경우는 \"완속충전\" 100%로 설정함  "
   ]
  },
  {
   "cell_type": "code",
   "execution_count": null,
   "metadata": {},
   "outputs": [
    {
     "name": "stdout",
     "output_type": "stream",
     "text": [
      "Fast Charge: 0.48410058719061144\n",
      "Standard Charge: 0.5158994128093886\n"
     ]
    }
   ],
   "source": [
    "# 초기 충전기 타입의 확률는 0.5  \n",
    "charger_pro = 0.5\n",
    "\n",
    "# 유동인구와 고정인구에 따른 충전방식 적합도 계산 \n",
    "def charge_type(foottraffic_pro,busan_people_pro,charger_pro):\n",
    "    '''\n",
    "    foottraffic_pro : 유동인구 적합도\n",
    "    busan_people_pro : 고정인구 적합도\n",
    "    charger_pro : 설정하고자 하는 충전기 타입의 적합도 비율 초기값(0~1)\n",
    "    '''\n",
    "    \n",
    "    if foottraffic_pro >= busan_people_pro:\n",
    "        charger_type = 'Fast Charge'\n",
    "    else:\n",
    "        charger_type = 'Standard Charge'\n",
    "\n",
    "    # 유동인구와 기존인구와 차이가 나는 만큼 더 많은 확률 부여\n",
    "    if charger_type == 'Fast Charge':\n",
    "        diff = foottraffic_pro - busan_people_pro\n",
    "        charger_pro += diff\n",
    "        if charger_pro > 1:\n",
    "            charger_pro = 1.0\n",
    "        print('Fast Charge:', charger_pro)\n",
    "        print('Standard Charge:', 1-charger_pro)\n",
    "    elif charger_type == 'Standard Charge':\n",
    "        diff = busan_people_pro - foottraffic_pro\n",
    "        charger_pro += diff\n",
    "        if charger_pro > 1:\n",
    "            charger_pro = 1.0\n",
    "        print('Fast Charge:', 1-charger_pro)\n",
    "        print('Standard Charge:', charger_pro)\n",
    "    return charger_pro"
   ]
  },
  {
   "cell_type": "markdown",
   "metadata": {},
   "source": [
    "### 결합 확률로 상위 요인 도출하기\n"
   ]
  },
  {
   "cell_type": "code",
   "execution_count": 493,
   "metadata": {},
   "outputs": [
    {
     "name": "stdout",
     "output_type": "stream",
     "text": [
      "환경변수(전기,수소) [0.064919397312361, 0.6640367362231872, 0.7579343076402061, 0.23346014669602194, 0.2802943598724571, 0.18788293015230972]\n",
      "사회변수(전기) [0.8336293889220413, 0.8177299761126527, 0.5056384417276619, 0.5764770849672374]\n",
      "사회변수(수소) [0.8336293889220413, 0.8177299761126527, 0.5593075575000511, 0.8223621499985667]\n",
      "경제변수(전기) [0.381979238207332]\n",
      "경제변수(수소) []\n",
      "기술변수(전기) [0.5158994128093886]\n",
      "기술변수(수소) [0.60763445399739]\n"
     ]
    }
   ],
   "source": [
    "variable_enviroment_E = []\n",
    "variable_enviroment_H = []\n",
    "variable_social_E = []\n",
    "variable_social_H = []\n",
    "variable_economic_E = []\n",
    "variable_economic_H = []\n",
    "variable_technical_E = []\n",
    "variable_technical_H = []\n",
    "\n",
    "weight_enviroment = [1/6,1/6,1/6,1/6,1/6,1/6] # co, so2, no2, ozone, pm10, pm25 \n",
    "weight_social_E = [] # 고정인구, 유동인구, 전기차 수, 전기차 충전소 수\n",
    "weight_social_H = [] # 고정인구, 유동인구, 수소차 수, 수소차 충전소 수\n",
    "weight_economic_E = [] # 주차 구획수\n",
    "weight_economic_H = [] #\n",
    "weight_technical_E = [] # 급속/완속 적합성\n",
    "weight_technical_H = [] # LPG 충전소 수 \n",
    "\n",
    "variable_enviroment_E.append(co_pro)\n",
    "variable_enviroment_E.append(so2_pro)\n",
    "variable_enviroment_E.append(no2_pro)\n",
    "variable_enviroment_E.append(ozone_pro)\n",
    "variable_enviroment_E.append(pm10_pro)\n",
    "variable_enviroment_E.append(pm25_pro)\n",
    "\n",
    "# 환경변수는 전기차와 수소차 동일\n",
    "variable_enviroment_H = variable_enviroment_E\n",
    "\n",
    "variable_social_E.append(busan_people_pro)\n",
    "variable_social_E.append(foottraffic_pro)\n",
    "variable_social_E.append(elec_vehicle_pro)\n",
    "variable_social_E.append(1-EVCS_pro)\n",
    "\n",
    "variable_social_H.append(busan_people_pro)\n",
    "variable_social_H.append(foottraffic_pro)\n",
    "variable_social_H.append(hidro_vehicle_pro)\n",
    "variable_social_H.append(1-HVCS_pro)\n",
    "\n",
    "variable_economic_E.append(parking_area_pro)\n",
    "\n",
    "\n",
    "variable_technical_E.append(charger_pro)\n",
    "\n",
    "variable_technical_H.append(LPG_pro)\n",
    "\n",
    "print(\"환경변수(전기,수소)\",variable_enviroment_E)\n",
    "print(\"사회변수(전기)\",variable_social_E)\n",
    "print(\"사회변수(수소)\",variable_social_H)\n",
    "print(\"경제변수(전기)\",variable_economic_E)\n",
    "print(\"경제변수(수소)\",variable_economic_H)\n",
    "print(\"기술변수(전기)\",variable_technical_E)\n",
    "print(\"기술변수(수소)\",variable_technical_H)"
   ]
  },
  {
   "cell_type": "code",
   "execution_count": null,
   "metadata": {},
   "outputs": [],
   "source": [
    "# 결합 확률 구하기\n",
    "def combine_pro(list, weight):\n",
    "    result = 0.0\n",
    "    for i in range(len(list)):\n",
    "        pro = list.pop(0)\n",
    "        wei = weight.pop(0)\n",
    "        \n",
    "        result += pro*wei\n",
    "    return result"
   ]
  },
  {
   "cell_type": "code",
   "execution_count": null,
   "metadata": {},
   "outputs": [],
   "source": []
  }
 ],
 "metadata": {
  "interpreter": {
   "hash": "f050bb9fd34efe2ad4050694f9ad3d2282b57f28f06302e823e69ca1f91b4def"
  },
  "kernelspec": {
   "display_name": "Python 3.10.4 ('GVCS')",
   "language": "python",
   "name": "python3"
  },
  "language_info": {
   "codemirror_mode": {
    "name": "ipython",
    "version": 3
   },
   "file_extension": ".py",
   "mimetype": "text/x-python",
   "name": "python",
   "nbconvert_exporter": "python",
   "pygments_lexer": "ipython3",
   "version": "3.10.4"
  }
 },
 "nbformat": 4,
 "nbformat_minor": 4
}
