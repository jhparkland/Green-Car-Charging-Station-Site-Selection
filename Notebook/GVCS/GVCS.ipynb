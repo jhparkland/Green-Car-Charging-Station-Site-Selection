{
 "cells": [
  {
   "cell_type": "markdown",
   "metadata": {
    "collapsed": false
   },
   "source": [
    "# 확률 네트워크기반 친환경 자동차 충전소(GVCS) 로케이션 인텔리전스(Location Intelligence) 대시보드"
   ]
  },
  {
   "cell_type": "markdown",
   "metadata": {
    "pycharm": {
     "name": "#%% md\n"
    }
   },
   "source": [
    "## 제안 배경\n",
    "\n",
    "**친환경 자동차 생산에만 관심이 쏠려 사용자를 고려하지 못한 설치로 인한 잉여 충전소 발생**\n",
    "\n",
    "- 민관 협력을 통해 충전 서비스 관련 사업이 꾸준히 증가함. 하지만 전국에 설치된 공공 급속충전기 총 2,896개(2021년 기준) 중 하루 1회 이하로 사용한 충전기가 1,164개로 전체의 40.1%를 차지하고 있다. 심지어 17개는 전혀 사용하지 않은 것으로 나타남.\n",
    "\n",
    "- 이와 같은 충전소마다 이용 편차가 큰 이유는 전기차 보급 목표에 따라 구역별로  충전소를 나눠 설치했기 때문이라는 지적도 있다.\n",
    "\n",
    "- 한국전기차충전협동조합은 앞으로 수요가 몰리는 거점을 중심을 중심으로 충전기 설치를 해야하 한다는 의견 주장함.\n",
    "\n",
    "- 기존의 정부 중심으로 공급자 입장에서 설치하던 충전소를 친환경 자동차 차주를 고려해 이용자 중심으로 변화 설치가 필요하다는 지적도 있다.\n",
    "\n",
    "즉, **꾸준히 증가하는 친환경 차량의 수요를 위해 저비용 고효율의 충전소 설치를 목표 한다.** 충전소 설치 사업자의 기대 수익 최적화를 위해 사용자 입장을 고려한 체계적이며 최적의 입지 선정 결과를 제시함."
   ]
  },
  {
   "cell_type": "markdown",
   "metadata": {},
   "source": [
    "## 사용 데이터\n",
    "\n",
    "1. 충전소 위치 및 현황 정보\n",
    "2. 급속충전기 보급 현황\n",
    "3. LPG충전소 현황\n",
    "4. 오존 월별 대기오염도\n",
    "5. 아황산가스 월별 대기오염도\n",
    "6. 이산화질소 월별 대기오염도\n",
    "7. 미세먼지 월별 대기오염도\n",
    "8. 행정구역별 인구수\n",
    "9. 항만 현황\n",
    "10. 지역별 전기차 등록대 수"
   ]
  },
  {
   "cell_type": "code",
   "execution_count": 608,
   "metadata": {
    "collapsed": false,
    "jupyter": {
     "outputs_hidden": false
    },
    "pycharm": {
     "name": "#%%\n"
    }
   },
   "outputs": [],
   "source": [
    "import pandas as pd\n",
    "import matplotlib.pyplot as plt\n",
    "import seaborn as sns\n",
    "import osmnx as ox\n",
    "import networkx as nx\n",
    "import numpy as np\n",
    "from scipy.stats import norm\n",
    "import plotly.express as px\n",
    "import plotly.graph_objects as go"
   ]
  },
  {
   "cell_type": "markdown",
   "metadata": {},
   "source": [
    "## 상위 요소 - 환경적 요인\n",
    "\n",
    "대기오염도를 기반하여 확률 값을 계산한다."
   ]
  },
  {
   "cell_type": "markdown",
   "metadata": {},
   "source": [
    "### 오존 월별 대기오염도 데이터 불러오기"
   ]
  },
  {
   "cell_type": "code",
   "execution_count": 609,
   "metadata": {
    "collapsed": false,
    "jupyter": {
     "outputs_hidden": false
    },
    "pycharm": {
     "name": "#%%\n"
    }
   },
   "outputs": [
    {
     "data": {
      "text/html": [
       "<div>\n",
       "<style scoped>\n",
       "    .dataframe tbody tr th:only-of-type {\n",
       "        vertical-align: middle;\n",
       "    }\n",
       "\n",
       "    .dataframe tbody tr th {\n",
       "        vertical-align: top;\n",
       "    }\n",
       "\n",
       "    .dataframe thead th {\n",
       "        text-align: right;\n",
       "    }\n",
       "</style>\n",
       "<table border=\"1\" class=\"dataframe\">\n",
       "  <thead>\n",
       "    <tr style=\"text-align: right;\">\n",
       "      <th></th>\n",
       "      <th>구분(1)</th>\n",
       "      <th>구분(2)</th>\n",
       "      <th>2021.02</th>\n",
       "      <th>2021.03</th>\n",
       "      <th>2021.04</th>\n",
       "      <th>2021.05</th>\n",
       "      <th>2021.06</th>\n",
       "      <th>2021.07</th>\n",
       "    </tr>\n",
       "  </thead>\n",
       "  <tbody>\n",
       "    <tr>\n",
       "      <th>0</th>\n",
       "      <td>총계</td>\n",
       "      <td>소계</td>\n",
       "      <td>0.029</td>\n",
       "      <td>0.034</td>\n",
       "      <td>0.043</td>\n",
       "      <td>0.042</td>\n",
       "      <td>0.044</td>\n",
       "      <td>0.033</td>\n",
       "    </tr>\n",
       "    <tr>\n",
       "      <th>1</th>\n",
       "      <td>서울특별시</td>\n",
       "      <td>서울특별시</td>\n",
       "      <td>0.022</td>\n",
       "      <td>0.025</td>\n",
       "      <td>0.037</td>\n",
       "      <td>0.036</td>\n",
       "      <td>0.041</td>\n",
       "      <td>0.038</td>\n",
       "    </tr>\n",
       "    <tr>\n",
       "      <th>2</th>\n",
       "      <td>부산광역시</td>\n",
       "      <td>부산광역시</td>\n",
       "      <td>0.031</td>\n",
       "      <td>0.036</td>\n",
       "      <td>0.043</td>\n",
       "      <td>0.041</td>\n",
       "      <td>0.041</td>\n",
       "      <td>0.028</td>\n",
       "    </tr>\n",
       "    <tr>\n",
       "      <th>3</th>\n",
       "      <td>대구광역시</td>\n",
       "      <td>대구광역시</td>\n",
       "      <td>0.025</td>\n",
       "      <td>0.032</td>\n",
       "      <td>0.043</td>\n",
       "      <td>0.040</td>\n",
       "      <td>0.045</td>\n",
       "      <td>0.031</td>\n",
       "    </tr>\n",
       "    <tr>\n",
       "      <th>4</th>\n",
       "      <td>인천광역시</td>\n",
       "      <td>인천광역시</td>\n",
       "      <td>0.026</td>\n",
       "      <td>0.030</td>\n",
       "      <td>0.040</td>\n",
       "      <td>0.042</td>\n",
       "      <td>0.044</td>\n",
       "      <td>0.041</td>\n",
       "    </tr>\n",
       "    <tr>\n",
       "      <th>...</th>\n",
       "      <td>...</td>\n",
       "      <td>...</td>\n",
       "      <td>...</td>\n",
       "      <td>...</td>\n",
       "      <td>...</td>\n",
       "      <td>...</td>\n",
       "      <td>...</td>\n",
       "      <td>...</td>\n",
       "    </tr>\n",
       "    <tr>\n",
       "      <th>167</th>\n",
       "      <td>경상남도</td>\n",
       "      <td>합천</td>\n",
       "      <td>0.034</td>\n",
       "      <td>0.039</td>\n",
       "      <td>0.050</td>\n",
       "      <td>0.048</td>\n",
       "      <td>0.051</td>\n",
       "      <td>0.038**</td>\n",
       "    </tr>\n",
       "    <tr>\n",
       "      <th>168</th>\n",
       "      <td>경상남도</td>\n",
       "      <td>도평균</td>\n",
       "      <td>0.032</td>\n",
       "      <td>0.037</td>\n",
       "      <td>0.044</td>\n",
       "      <td>0.044</td>\n",
       "      <td>0.045</td>\n",
       "      <td>0.031</td>\n",
       "    </tr>\n",
       "    <tr>\n",
       "      <th>169</th>\n",
       "      <td>제주특별자치도</td>\n",
       "      <td>제주특별자치도</td>\n",
       "      <td>0.044</td>\n",
       "      <td>0.046</td>\n",
       "      <td>0.051</td>\n",
       "      <td>0.051</td>\n",
       "      <td>0.045</td>\n",
       "      <td>0.029</td>\n",
       "    </tr>\n",
       "    <tr>\n",
       "      <th>170</th>\n",
       "      <td>제주특별자치도</td>\n",
       "      <td>서귀포</td>\n",
       "      <td>0.045</td>\n",
       "      <td>0.048</td>\n",
       "      <td>0.054</td>\n",
       "      <td>0.052</td>\n",
       "      <td>0.046</td>\n",
       "      <td>0.028</td>\n",
       "    </tr>\n",
       "    <tr>\n",
       "      <th>171</th>\n",
       "      <td>제주특별자치도</td>\n",
       "      <td>도평균</td>\n",
       "      <td>0.044</td>\n",
       "      <td>0.047</td>\n",
       "      <td>0.053</td>\n",
       "      <td>0.051</td>\n",
       "      <td>0.045</td>\n",
       "      <td>0.029</td>\n",
       "    </tr>\n",
       "  </tbody>\n",
       "</table>\n",
       "<p>172 rows × 8 columns</p>\n",
       "</div>"
      ],
      "text/plain": [
       "       구분(1)    구분(2) 2021.02 2021.03 2021.04 2021.05 2021.06  2021.07\n",
       "0         총계       소계   0.029   0.034   0.043   0.042   0.044    0.033\n",
       "1      서울특별시    서울특별시   0.022   0.025   0.037   0.036   0.041    0.038\n",
       "2      부산광역시    부산광역시   0.031   0.036   0.043   0.041   0.041    0.028\n",
       "3      대구광역시    대구광역시   0.025   0.032   0.043   0.040   0.045    0.031\n",
       "4      인천광역시    인천광역시   0.026   0.030   0.040   0.042   0.044    0.041\n",
       "..       ...      ...     ...     ...     ...     ...     ...      ...\n",
       "167     경상남도       합천   0.034   0.039   0.050   0.048   0.051  0.038**\n",
       "168     경상남도      도평균   0.032   0.037   0.044   0.044   0.045    0.031\n",
       "169  제주특별자치도  제주특별자치도   0.044   0.046   0.051   0.051   0.045    0.029\n",
       "170  제주특별자치도      서귀포   0.045   0.048   0.054   0.052   0.046    0.028\n",
       "171  제주특별자치도      도평균   0.044   0.047   0.053   0.051   0.045    0.029\n",
       "\n",
       "[172 rows x 8 columns]"
      ]
     },
     "execution_count": 609,
     "metadata": {},
     "output_type": "execute_result"
    }
   ],
   "source": [
    "ozone_file_path = \"C:\\\\Users\\\\SAMSUNG\\\\Desktop\\\\Green-Car-Charging-Station-Site-Selection\\\\Data\\\\오존_월별_도시별_대기오염도.csv\"\n",
    "df_ozone = pd.read_csv(ozone_file_path, encoding='cp949')\n",
    "df_ozone"
   ]
  },
  {
   "cell_type": "code",
   "execution_count": 610,
   "metadata": {
    "collapsed": false,
    "pycharm": {
     "name": "#%%\n"
    }
   },
   "outputs": [
    {
     "name": "stdout",
     "output_type": "stream",
     "text": [
      "<class 'pandas.core.frame.DataFrame'>\n",
      "RangeIndex: 172 entries, 0 to 171\n",
      "Data columns (total 8 columns):\n",
      " #   Column   Non-Null Count  Dtype \n",
      "---  ------   --------------  ----- \n",
      " 0   구분(1)    172 non-null    object\n",
      " 1   구분(2)    172 non-null    object\n",
      " 2   2021.02  172 non-null    object\n",
      " 3   2021.03  172 non-null    object\n",
      " 4   2021.04  172 non-null    object\n",
      " 5   2021.05  172 non-null    object\n",
      " 6   2021.06  172 non-null    object\n",
      " 7   2021.07  172 non-null    object\n",
      "dtypes: object(8)\n",
      "memory usage: 10.9+ KB\n"
     ]
    }
   ],
   "source": [
    "df_ozone.info()"
   ]
  },
  {
   "cell_type": "code",
   "execution_count": 611,
   "metadata": {
    "collapsed": false,
    "pycharm": {
     "name": "#%%\n"
    }
   },
   "outputs": [],
   "source": [
    "ozen_col =  df_ozone.iloc[:,2:-1].columns.tolist()"
   ]
  },
  {
   "cell_type": "code",
   "execution_count": 612,
   "metadata": {
    "collapsed": false,
    "pycharm": {
     "name": "#%%\n"
    }
   },
   "outputs": [],
   "source": [
    "df_ozone.drop(columns=ozen_col, inplace=True)"
   ]
  },
  {
   "cell_type": "code",
   "execution_count": 613,
   "metadata": {
    "collapsed": false,
    "pycharm": {
     "name": "#%%\n"
    }
   },
   "outputs": [],
   "source": [
    "def advanced_replace(df, col, str, regex):\n",
    "    '''\n",
    "    DataFrame 특정 열의 특수문자 제거\n",
    "    :param df: 대상 DataFrame\n",
    "    :param col: column\n",
    "    :param str: 제거할 특수 문자.\n",
    "    :param regex: 적용할 정규표현식\n",
    "    :return:\n",
    "    '''\n",
    "    df[col] = df[col].replace(str,0)\n",
    "    df[col] = df[col].replace(to_replace=regex, value=r'', regex=True)\n",
    "    return df"
   ]
  },
  {
   "cell_type": "code",
   "execution_count": 614,
   "metadata": {
    "collapsed": false,
    "pycharm": {
     "name": "#%%\n"
    }
   },
   "outputs": [
    {
     "name": "stdout",
     "output_type": "stream",
     "text": [
      "<class 'pandas.core.frame.DataFrame'>\n",
      "RangeIndex: 172 entries, 0 to 171\n",
      "Data columns (total 3 columns):\n",
      " #   Column   Non-Null Count  Dtype  \n",
      "---  ------   --------------  -----  \n",
      " 0   구분(1)    172 non-null    object \n",
      " 1   구분(2)    172 non-null    object \n",
      " 2   2021.07  172 non-null    float64\n",
      "dtypes: float64(1), object(2)\n",
      "memory usage: 4.2+ KB\n"
     ]
    }
   ],
   "source": [
    "# 해당 컬럼 float 타입으로 변경\n",
    "advanced_replace(df_ozone, df_ozone.iloc[:,2:].columns.tolist(), '-', r'[^0-9.0-9]')\n",
    "df_ozone['2021.07'] = df_ozone['2021.07'].astype(float)\n",
    "df_ozone.info()"
   ]
  },
  {
   "cell_type": "code",
   "execution_count": 615,
   "metadata": {
    "collapsed": false,
    "pycharm": {
     "name": "#%%\n"
    }
   },
   "outputs": [],
   "source": [
    "ddd = df_ozone.describe()"
   ]
  },
  {
   "cell_type": "code",
   "execution_count": 616,
   "metadata": {},
   "outputs": [
    {
     "data": {
      "text/html": [
       "<div>\n",
       "<style scoped>\n",
       "    .dataframe tbody tr th:only-of-type {\n",
       "        vertical-align: middle;\n",
       "    }\n",
       "\n",
       "    .dataframe tbody tr th {\n",
       "        vertical-align: top;\n",
       "    }\n",
       "\n",
       "    .dataframe thead th {\n",
       "        text-align: right;\n",
       "    }\n",
       "</style>\n",
       "<table border=\"1\" class=\"dataframe\">\n",
       "  <thead>\n",
       "    <tr style=\"text-align: right;\">\n",
       "      <th></th>\n",
       "      <th>2021.07</th>\n",
       "    </tr>\n",
       "  </thead>\n",
       "  <tbody>\n",
       "    <tr>\n",
       "      <th>count</th>\n",
       "      <td>172.000000</td>\n",
       "    </tr>\n",
       "    <tr>\n",
       "      <th>mean</th>\n",
       "      <td>0.031924</td>\n",
       "    </tr>\n",
       "    <tr>\n",
       "      <th>std</th>\n",
       "      <td>0.005394</td>\n",
       "    </tr>\n",
       "    <tr>\n",
       "      <th>min</th>\n",
       "      <td>0.019000</td>\n",
       "    </tr>\n",
       "    <tr>\n",
       "      <th>25%</th>\n",
       "      <td>0.028000</td>\n",
       "    </tr>\n",
       "    <tr>\n",
       "      <th>50%</th>\n",
       "      <td>0.031000</td>\n",
       "    </tr>\n",
       "    <tr>\n",
       "      <th>75%</th>\n",
       "      <td>0.035000</td>\n",
       "    </tr>\n",
       "    <tr>\n",
       "      <th>max</th>\n",
       "      <td>0.059000</td>\n",
       "    </tr>\n",
       "  </tbody>\n",
       "</table>\n",
       "</div>"
      ],
      "text/plain": [
       "          2021.07\n",
       "count  172.000000\n",
       "mean     0.031924\n",
       "std      0.005394\n",
       "min      0.019000\n",
       "25%      0.028000\n",
       "50%      0.031000\n",
       "75%      0.035000\n",
       "max      0.059000"
      ]
     },
     "execution_count": 616,
     "metadata": {},
     "output_type": "execute_result"
    }
   ],
   "source": [
    "ddd"
   ]
  },
  {
   "cell_type": "code",
   "execution_count": 617,
   "metadata": {},
   "outputs": [],
   "source": [
    "def show_norm(mean,std,min,max):\n",
    "     '''\n",
    "     정규분포 함수를 matplotlib을 통해 시각화\n",
    "     mean: 평균값\n",
    "     std: 표준편차\n",
    "     min: 관측된 데이터의 최솟값\n",
    "     max: 관측된 데이터의 최댓값\n",
    "     '''\n",
    "     \n",
    "     # x값 설정(min에서 max까지 unit만큼씩 증가하는 x)\n",
    "     x = np.linspace(min,max,100)\n",
    "     # y값은 평균이 mean이고 표준편차가 std인 확률밀도함수\n",
    "     fig = px.line(x=x,y=norm.pdf(x,loc=mean,scale=std))\n",
    "     fig.show()"
   ]
  },
  {
   "cell_type": "code",
   "execution_count": 618,
   "metadata": {},
   "outputs": [
    {
     "data": {
      "application/vnd.plotly.v1+json": {
       "config": {
        "plotlyServerURL": "https://plot.ly"
       },
       "data": [
        {
         "hovertemplate": "x=%{x}<br>y=%{y}<extra></extra>",
         "legendgroup": "",
         "line": {
          "color": "#636efa",
          "dash": "solid"
         },
         "marker": {
          "symbol": "circle"
         },
         "mode": "lines",
         "name": "",
         "orientation": "v",
         "showlegend": false,
         "type": "scatter",
         "x": [
          0.019,
          0.019404040404040403,
          0.019808080808080806,
          0.020212121212121213,
          0.020616161616161616,
          0.02102020202020202,
          0.021424242424242422,
          0.02182828282828283,
          0.022232323232323232,
          0.022636363636363635,
          0.023040404040404038,
          0.02344444444444444,
          0.023848484848484848,
          0.02425252525252525,
          0.024656565656565654,
          0.02506060606060606,
          0.025464646464646464,
          0.025868686868686867,
          0.02627272727272727,
          0.026676767676767674,
          0.02708080808080808,
          0.027484848484848484,
          0.027888888888888887,
          0.028292929292929293,
          0.028696969696969693,
          0.0291010101010101,
          0.029505050505050503,
          0.029909090909090906,
          0.030313131313131313,
          0.030717171717171716,
          0.03112121212121212,
          0.031525252525252526,
          0.031929292929292925,
          0.03233333333333333,
          0.03273737373737373,
          0.03314141414141414,
          0.033545454545454545,
          0.033949494949494945,
          0.03435353535353535,
          0.03475757575757575,
          0.03516161616161616,
          0.035565656565656564,
          0.03596969696969697,
          0.03637373737373737,
          0.03677777777777777,
          0.03718181818181818,
          0.037585858585858584,
          0.03798989898989899,
          0.03839393939393939,
          0.03879797979797979,
          0.039202020202020196,
          0.0396060606060606,
          0.04001010101010101,
          0.04041414141414141,
          0.040818181818181816,
          0.041222222222222216,
          0.04162626262626262,
          0.04203030303030303,
          0.042434343434343436,
          0.042838383838383835,
          0.043242424242424235,
          0.04364646464646464,
          0.04405050505050505,
          0.044454545454545455,
          0.044858585858585855,
          0.045262626262626254,
          0.04566666666666666,
          0.04607070707070707,
          0.046474747474747474,
          0.046878787878787874,
          0.047282828282828274,
          0.04768686868686868,
          0.04809090909090909,
          0.048494949494949494,
          0.04889898989898989,
          0.0493030303030303,
          0.0497070707070707,
          0.050111111111111106,
          0.05051515151515151,
          0.05091919191919192,
          0.05132323232323231,
          0.05172727272727272,
          0.052131313131313126,
          0.05253535353535353,
          0.05293939393939394,
          0.05334343434343433,
          0.05374747474747474,
          0.054151515151515145,
          0.05455555555555555,
          0.05495959595959596,
          0.055363636363636365,
          0.05576767676767676,
          0.056171717171717164,
          0.05657575757575757,
          0.05697979797979798,
          0.057383838383838384,
          0.05778787878787878,
          0.058191919191919184,
          0.05859595959595959,
          0.059
         ],
         "xaxis": "x",
         "y": [
          4.192490704899243,
          5.00252459850673,
          5.935672897774332,
          7.003486399156386,
          8.21716905377349,
          9.587243477993848,
          11.12317818796199,
          12.832983465242012,
          14.722785255074978,
          16.79638895482085,
          19.054847229072738,
          21.496047939275098,
          24.114339745573805,
          26.900213779318175,
          29.840059865008953,
          32.91601498688858,
          36.10591998193367,
          39.383397778604284,
          42.718062923699776,
          46.075867739697095,
          49.419585381058646,
          52.70942451283768,
          55.90376456677906,
          58.95999482112847,
          61.83543520130301,
          64.48831201122866,
          66.87875806332958,
          68.96980412570554,
          70.72832744019139,
          72.1259234075637,
          73.13966842866775,
          73.75274528909664,
          73.95490725034097,
          73.74276295139147,
          73.11987105142661,
          72.09664092279978,
          70.69004326683256,
          68.92314189441748,
          66.82446472246586,
          64.4272379532209,
          61.76851214770417,
          58.88821226826894,
          55.82814562050406,
          52.631001930095515,
          49.339378590252025,
          45.99486153456788,
          42.637188422471446,
          39.30351611764168,
          36.02780907844581,
          32.8403595655393,
          29.76744480580628,
          26.831120715269506,
          24.049146723787793,
          21.435031862713164,
          18.998188720896998,
          16.74417923474738,
          14.675034587464994,
          12.789630730782143,
          11.0841011425979,
          9.552269291409496,
          8.186084761736405,
          6.976048955796933,
          5.911618571628206,
          4.9815775164082865,
          4.174370407418002,
          3.4783932212604114,
          2.88223887617552,
          2.374897498459999,
          1.9459127828316407,
          1.5854971823771877,
          1.2846096519868206,
          1.0350003332756665,
          0.8292269363246184,
          0.6606476815694394,
          0.523395557386869,
          0.41233837151184305,
          0.3230286730643463,
          0.2516471394932432,
          0.19494249734616675,
          0.15017050986486075,
          0.11503404407048595,
          0.08762574493410534,
          0.06637440804701493,
          0.049995763081094775,
          0.03744806176893327,
          0.0278926058720913,
          0.020659149507147364,
          0.015215961109712905,
          0.01114422683197717,
          0.008116412284288492,
          0.005878166162240187,
          0.004233340680367731,
          0.003031713685080225,
          0.0021590204252226615,
          0.0015289346404676926,
          0.0010766751573814712,
          0.0007539526416697781,
          0.0005250093580413383,
          0.00036354119006071445,
          0.00025032475926428795
         ],
         "yaxis": "y"
        }
       ],
       "layout": {
        "legend": {
         "tracegroupgap": 0
        },
        "margin": {
         "t": 60
        },
        "template": {
         "data": {
          "bar": [
           {
            "error_x": {
             "color": "#2a3f5f"
            },
            "error_y": {
             "color": "#2a3f5f"
            },
            "marker": {
             "line": {
              "color": "#E5ECF6",
              "width": 0.5
             },
             "pattern": {
              "fillmode": "overlay",
              "size": 10,
              "solidity": 0.2
             }
            },
            "type": "bar"
           }
          ],
          "barpolar": [
           {
            "marker": {
             "line": {
              "color": "#E5ECF6",
              "width": 0.5
             },
             "pattern": {
              "fillmode": "overlay",
              "size": 10,
              "solidity": 0.2
             }
            },
            "type": "barpolar"
           }
          ],
          "carpet": [
           {
            "aaxis": {
             "endlinecolor": "#2a3f5f",
             "gridcolor": "white",
             "linecolor": "white",
             "minorgridcolor": "white",
             "startlinecolor": "#2a3f5f"
            },
            "baxis": {
             "endlinecolor": "#2a3f5f",
             "gridcolor": "white",
             "linecolor": "white",
             "minorgridcolor": "white",
             "startlinecolor": "#2a3f5f"
            },
            "type": "carpet"
           }
          ],
          "choropleth": [
           {
            "colorbar": {
             "outlinewidth": 0,
             "ticks": ""
            },
            "type": "choropleth"
           }
          ],
          "contour": [
           {
            "colorbar": {
             "outlinewidth": 0,
             "ticks": ""
            },
            "colorscale": [
             [
              0,
              "#0d0887"
             ],
             [
              0.1111111111111111,
              "#46039f"
             ],
             [
              0.2222222222222222,
              "#7201a8"
             ],
             [
              0.3333333333333333,
              "#9c179e"
             ],
             [
              0.4444444444444444,
              "#bd3786"
             ],
             [
              0.5555555555555556,
              "#d8576b"
             ],
             [
              0.6666666666666666,
              "#ed7953"
             ],
             [
              0.7777777777777778,
              "#fb9f3a"
             ],
             [
              0.8888888888888888,
              "#fdca26"
             ],
             [
              1,
              "#f0f921"
             ]
            ],
            "type": "contour"
           }
          ],
          "contourcarpet": [
           {
            "colorbar": {
             "outlinewidth": 0,
             "ticks": ""
            },
            "type": "contourcarpet"
           }
          ],
          "heatmap": [
           {
            "colorbar": {
             "outlinewidth": 0,
             "ticks": ""
            },
            "colorscale": [
             [
              0,
              "#0d0887"
             ],
             [
              0.1111111111111111,
              "#46039f"
             ],
             [
              0.2222222222222222,
              "#7201a8"
             ],
             [
              0.3333333333333333,
              "#9c179e"
             ],
             [
              0.4444444444444444,
              "#bd3786"
             ],
             [
              0.5555555555555556,
              "#d8576b"
             ],
             [
              0.6666666666666666,
              "#ed7953"
             ],
             [
              0.7777777777777778,
              "#fb9f3a"
             ],
             [
              0.8888888888888888,
              "#fdca26"
             ],
             [
              1,
              "#f0f921"
             ]
            ],
            "type": "heatmap"
           }
          ],
          "heatmapgl": [
           {
            "colorbar": {
             "outlinewidth": 0,
             "ticks": ""
            },
            "colorscale": [
             [
              0,
              "#0d0887"
             ],
             [
              0.1111111111111111,
              "#46039f"
             ],
             [
              0.2222222222222222,
              "#7201a8"
             ],
             [
              0.3333333333333333,
              "#9c179e"
             ],
             [
              0.4444444444444444,
              "#bd3786"
             ],
             [
              0.5555555555555556,
              "#d8576b"
             ],
             [
              0.6666666666666666,
              "#ed7953"
             ],
             [
              0.7777777777777778,
              "#fb9f3a"
             ],
             [
              0.8888888888888888,
              "#fdca26"
             ],
             [
              1,
              "#f0f921"
             ]
            ],
            "type": "heatmapgl"
           }
          ],
          "histogram": [
           {
            "marker": {
             "pattern": {
              "fillmode": "overlay",
              "size": 10,
              "solidity": 0.2
             }
            },
            "type": "histogram"
           }
          ],
          "histogram2d": [
           {
            "colorbar": {
             "outlinewidth": 0,
             "ticks": ""
            },
            "colorscale": [
             [
              0,
              "#0d0887"
             ],
             [
              0.1111111111111111,
              "#46039f"
             ],
             [
              0.2222222222222222,
              "#7201a8"
             ],
             [
              0.3333333333333333,
              "#9c179e"
             ],
             [
              0.4444444444444444,
              "#bd3786"
             ],
             [
              0.5555555555555556,
              "#d8576b"
             ],
             [
              0.6666666666666666,
              "#ed7953"
             ],
             [
              0.7777777777777778,
              "#fb9f3a"
             ],
             [
              0.8888888888888888,
              "#fdca26"
             ],
             [
              1,
              "#f0f921"
             ]
            ],
            "type": "histogram2d"
           }
          ],
          "histogram2dcontour": [
           {
            "colorbar": {
             "outlinewidth": 0,
             "ticks": ""
            },
            "colorscale": [
             [
              0,
              "#0d0887"
             ],
             [
              0.1111111111111111,
              "#46039f"
             ],
             [
              0.2222222222222222,
              "#7201a8"
             ],
             [
              0.3333333333333333,
              "#9c179e"
             ],
             [
              0.4444444444444444,
              "#bd3786"
             ],
             [
              0.5555555555555556,
              "#d8576b"
             ],
             [
              0.6666666666666666,
              "#ed7953"
             ],
             [
              0.7777777777777778,
              "#fb9f3a"
             ],
             [
              0.8888888888888888,
              "#fdca26"
             ],
             [
              1,
              "#f0f921"
             ]
            ],
            "type": "histogram2dcontour"
           }
          ],
          "mesh3d": [
           {
            "colorbar": {
             "outlinewidth": 0,
             "ticks": ""
            },
            "type": "mesh3d"
           }
          ],
          "parcoords": [
           {
            "line": {
             "colorbar": {
              "outlinewidth": 0,
              "ticks": ""
             }
            },
            "type": "parcoords"
           }
          ],
          "pie": [
           {
            "automargin": true,
            "type": "pie"
           }
          ],
          "scatter": [
           {
            "fillpattern": {
             "fillmode": "overlay",
             "size": 10,
             "solidity": 0.2
            },
            "type": "scatter"
           }
          ],
          "scatter3d": [
           {
            "line": {
             "colorbar": {
              "outlinewidth": 0,
              "ticks": ""
             }
            },
            "marker": {
             "colorbar": {
              "outlinewidth": 0,
              "ticks": ""
             }
            },
            "type": "scatter3d"
           }
          ],
          "scattercarpet": [
           {
            "marker": {
             "colorbar": {
              "outlinewidth": 0,
              "ticks": ""
             }
            },
            "type": "scattercarpet"
           }
          ],
          "scattergeo": [
           {
            "marker": {
             "colorbar": {
              "outlinewidth": 0,
              "ticks": ""
             }
            },
            "type": "scattergeo"
           }
          ],
          "scattergl": [
           {
            "marker": {
             "colorbar": {
              "outlinewidth": 0,
              "ticks": ""
             }
            },
            "type": "scattergl"
           }
          ],
          "scattermapbox": [
           {
            "marker": {
             "colorbar": {
              "outlinewidth": 0,
              "ticks": ""
             }
            },
            "type": "scattermapbox"
           }
          ],
          "scatterpolar": [
           {
            "marker": {
             "colorbar": {
              "outlinewidth": 0,
              "ticks": ""
             }
            },
            "type": "scatterpolar"
           }
          ],
          "scatterpolargl": [
           {
            "marker": {
             "colorbar": {
              "outlinewidth": 0,
              "ticks": ""
             }
            },
            "type": "scatterpolargl"
           }
          ],
          "scatterternary": [
           {
            "marker": {
             "colorbar": {
              "outlinewidth": 0,
              "ticks": ""
             }
            },
            "type": "scatterternary"
           }
          ],
          "surface": [
           {
            "colorbar": {
             "outlinewidth": 0,
             "ticks": ""
            },
            "colorscale": [
             [
              0,
              "#0d0887"
             ],
             [
              0.1111111111111111,
              "#46039f"
             ],
             [
              0.2222222222222222,
              "#7201a8"
             ],
             [
              0.3333333333333333,
              "#9c179e"
             ],
             [
              0.4444444444444444,
              "#bd3786"
             ],
             [
              0.5555555555555556,
              "#d8576b"
             ],
             [
              0.6666666666666666,
              "#ed7953"
             ],
             [
              0.7777777777777778,
              "#fb9f3a"
             ],
             [
              0.8888888888888888,
              "#fdca26"
             ],
             [
              1,
              "#f0f921"
             ]
            ],
            "type": "surface"
           }
          ],
          "table": [
           {
            "cells": {
             "fill": {
              "color": "#EBF0F8"
             },
             "line": {
              "color": "white"
             }
            },
            "header": {
             "fill": {
              "color": "#C8D4E3"
             },
             "line": {
              "color": "white"
             }
            },
            "type": "table"
           }
          ]
         },
         "layout": {
          "annotationdefaults": {
           "arrowcolor": "#2a3f5f",
           "arrowhead": 0,
           "arrowwidth": 1
          },
          "autotypenumbers": "strict",
          "coloraxis": {
           "colorbar": {
            "outlinewidth": 0,
            "ticks": ""
           }
          },
          "colorscale": {
           "diverging": [
            [
             0,
             "#8e0152"
            ],
            [
             0.1,
             "#c51b7d"
            ],
            [
             0.2,
             "#de77ae"
            ],
            [
             0.3,
             "#f1b6da"
            ],
            [
             0.4,
             "#fde0ef"
            ],
            [
             0.5,
             "#f7f7f7"
            ],
            [
             0.6,
             "#e6f5d0"
            ],
            [
             0.7,
             "#b8e186"
            ],
            [
             0.8,
             "#7fbc41"
            ],
            [
             0.9,
             "#4d9221"
            ],
            [
             1,
             "#276419"
            ]
           ],
           "sequential": [
            [
             0,
             "#0d0887"
            ],
            [
             0.1111111111111111,
             "#46039f"
            ],
            [
             0.2222222222222222,
             "#7201a8"
            ],
            [
             0.3333333333333333,
             "#9c179e"
            ],
            [
             0.4444444444444444,
             "#bd3786"
            ],
            [
             0.5555555555555556,
             "#d8576b"
            ],
            [
             0.6666666666666666,
             "#ed7953"
            ],
            [
             0.7777777777777778,
             "#fb9f3a"
            ],
            [
             0.8888888888888888,
             "#fdca26"
            ],
            [
             1,
             "#f0f921"
            ]
           ],
           "sequentialminus": [
            [
             0,
             "#0d0887"
            ],
            [
             0.1111111111111111,
             "#46039f"
            ],
            [
             0.2222222222222222,
             "#7201a8"
            ],
            [
             0.3333333333333333,
             "#9c179e"
            ],
            [
             0.4444444444444444,
             "#bd3786"
            ],
            [
             0.5555555555555556,
             "#d8576b"
            ],
            [
             0.6666666666666666,
             "#ed7953"
            ],
            [
             0.7777777777777778,
             "#fb9f3a"
            ],
            [
             0.8888888888888888,
             "#fdca26"
            ],
            [
             1,
             "#f0f921"
            ]
           ]
          },
          "colorway": [
           "#636efa",
           "#EF553B",
           "#00cc96",
           "#ab63fa",
           "#FFA15A",
           "#19d3f3",
           "#FF6692",
           "#B6E880",
           "#FF97FF",
           "#FECB52"
          ],
          "font": {
           "color": "#2a3f5f"
          },
          "geo": {
           "bgcolor": "white",
           "lakecolor": "white",
           "landcolor": "#E5ECF6",
           "showlakes": true,
           "showland": true,
           "subunitcolor": "white"
          },
          "hoverlabel": {
           "align": "left"
          },
          "hovermode": "closest",
          "mapbox": {
           "style": "light"
          },
          "paper_bgcolor": "white",
          "plot_bgcolor": "#E5ECF6",
          "polar": {
           "angularaxis": {
            "gridcolor": "white",
            "linecolor": "white",
            "ticks": ""
           },
           "bgcolor": "#E5ECF6",
           "radialaxis": {
            "gridcolor": "white",
            "linecolor": "white",
            "ticks": ""
           }
          },
          "scene": {
           "xaxis": {
            "backgroundcolor": "#E5ECF6",
            "gridcolor": "white",
            "gridwidth": 2,
            "linecolor": "white",
            "showbackground": true,
            "ticks": "",
            "zerolinecolor": "white"
           },
           "yaxis": {
            "backgroundcolor": "#E5ECF6",
            "gridcolor": "white",
            "gridwidth": 2,
            "linecolor": "white",
            "showbackground": true,
            "ticks": "",
            "zerolinecolor": "white"
           },
           "zaxis": {
            "backgroundcolor": "#E5ECF6",
            "gridcolor": "white",
            "gridwidth": 2,
            "linecolor": "white",
            "showbackground": true,
            "ticks": "",
            "zerolinecolor": "white"
           }
          },
          "shapedefaults": {
           "line": {
            "color": "#2a3f5f"
           }
          },
          "ternary": {
           "aaxis": {
            "gridcolor": "white",
            "linecolor": "white",
            "ticks": ""
           },
           "baxis": {
            "gridcolor": "white",
            "linecolor": "white",
            "ticks": ""
           },
           "bgcolor": "#E5ECF6",
           "caxis": {
            "gridcolor": "white",
            "linecolor": "white",
            "ticks": ""
           }
          },
          "title": {
           "x": 0.05
          },
          "xaxis": {
           "automargin": true,
           "gridcolor": "white",
           "linecolor": "white",
           "ticks": "",
           "title": {
            "standoff": 15
           },
           "zerolinecolor": "white",
           "zerolinewidth": 2
          },
          "yaxis": {
           "automargin": true,
           "gridcolor": "white",
           "linecolor": "white",
           "ticks": "",
           "title": {
            "standoff": 15
           },
           "zerolinecolor": "white",
           "zerolinewidth": 2
          }
         }
        },
        "xaxis": {
         "anchor": "y",
         "domain": [
          0,
          1
         ],
         "title": {
          "text": "x"
         }
        },
        "yaxis": {
         "anchor": "x",
         "domain": [
          0,
          1
         ],
         "title": {
          "text": "y"
         }
        }
       }
      }
     },
     "metadata": {},
     "output_type": "display_data"
    }
   ],
   "source": [
    "mean = df_ozone.iloc[:,2].mean()\n",
    "std = df_ozone.iloc[:,2].std()\n",
    "min = df_ozone.iloc[:,2].min()\n",
    "max = df_ozone.iloc[:,2].max()\n",
    "show_norm(mean,std,min,max)"
   ]
  },
  {
   "cell_type": "markdown",
   "metadata": {},
   "source": [
    "### 부산광역시 오존의 누적확률 구하기"
   ]
  },
  {
   "cell_type": "code",
   "execution_count": 627,
   "metadata": {},
   "outputs": [],
   "source": [
    "def cal_norm(mean,std,min,max,value):\n",
    "     '''\n",
    "     정규분포에서 value에 대한 누적확률 구하기\n",
    "     mean: 평균값\n",
    "     std: 표준편차\n",
    "     min: 관측된 데이터의 최솟값\n",
    "     max: 관측된 데이터의 최댓값\n",
    "     value: 누적확률을 구하고자 하는 데이터의 측정값\n",
    "     '''\n",
    "   \n",
    "     # x축 설정\n",
    "     x = np.linspace(min,max,100)\n",
    "     fig = go.Figure()\n",
    "     # y축이 확률밀도로 구성된 정규분포 \n",
    "     fig.add_trace(go.Scatter(x=x,y=norm.pdf(x,loc=mean,scale=std),mode='lines+markers'))\n",
    "     # 확률 값을 구할 특정 구간의 범위 설정\n",
    "     cum = np.linspace(min,value,100)\n",
    "     # 구간 사이에 색을 채움\n",
    "     fig.add_trace(go.Scatter(x=cum,y=norm.pdf(cum,mean,std), fill = 'tozeroy'))\n",
    "     # value까지의 누적확률에서 min까지의 누적확률을 뺌\n",
    "     pro = norm(mean,std).cdf(value)-norm(mean,std).cdf(min)\n",
    "     fig.show()\n",
    "\n",
    "     # 최종 누적확률 반환\n",
    "     return pro"
   ]
  },
  {
   "cell_type": "code",
   "execution_count": 628,
   "metadata": {},
   "outputs": [
    {
     "data": {
      "application/vnd.plotly.v1+json": {
       "config": {
        "plotlyServerURL": "https://plot.ly"
       },
       "data": [
        {
         "mode": "lines+markers",
         "type": "scatter",
         "x": [
          0.019,
          0.019404040404040403,
          0.019808080808080806,
          0.020212121212121213,
          0.020616161616161616,
          0.02102020202020202,
          0.021424242424242422,
          0.02182828282828283,
          0.022232323232323232,
          0.022636363636363635,
          0.023040404040404038,
          0.02344444444444444,
          0.023848484848484848,
          0.02425252525252525,
          0.024656565656565654,
          0.02506060606060606,
          0.025464646464646464,
          0.025868686868686867,
          0.02627272727272727,
          0.026676767676767674,
          0.02708080808080808,
          0.027484848484848484,
          0.027888888888888887,
          0.028292929292929293,
          0.028696969696969693,
          0.0291010101010101,
          0.029505050505050503,
          0.029909090909090906,
          0.030313131313131313,
          0.030717171717171716,
          0.03112121212121212,
          0.031525252525252526,
          0.031929292929292925,
          0.03233333333333333,
          0.03273737373737373,
          0.03314141414141414,
          0.033545454545454545,
          0.033949494949494945,
          0.03435353535353535,
          0.03475757575757575,
          0.03516161616161616,
          0.035565656565656564,
          0.03596969696969697,
          0.03637373737373737,
          0.03677777777777777,
          0.03718181818181818,
          0.037585858585858584,
          0.03798989898989899,
          0.03839393939393939,
          0.03879797979797979,
          0.039202020202020196,
          0.0396060606060606,
          0.04001010101010101,
          0.04041414141414141,
          0.040818181818181816,
          0.041222222222222216,
          0.04162626262626262,
          0.04203030303030303,
          0.042434343434343436,
          0.042838383838383835,
          0.043242424242424235,
          0.04364646464646464,
          0.04405050505050505,
          0.044454545454545455,
          0.044858585858585855,
          0.045262626262626254,
          0.04566666666666666,
          0.04607070707070707,
          0.046474747474747474,
          0.046878787878787874,
          0.047282828282828274,
          0.04768686868686868,
          0.04809090909090909,
          0.048494949494949494,
          0.04889898989898989,
          0.0493030303030303,
          0.0497070707070707,
          0.050111111111111106,
          0.05051515151515151,
          0.05091919191919192,
          0.05132323232323231,
          0.05172727272727272,
          0.052131313131313126,
          0.05253535353535353,
          0.05293939393939394,
          0.05334343434343433,
          0.05374747474747474,
          0.054151515151515145,
          0.05455555555555555,
          0.05495959595959596,
          0.055363636363636365,
          0.05576767676767676,
          0.056171717171717164,
          0.05657575757575757,
          0.05697979797979798,
          0.057383838383838384,
          0.05778787878787878,
          0.058191919191919184,
          0.05859595959595959,
          0.059
         ],
         "y": [
          4.192490704899243,
          5.00252459850673,
          5.935672897774332,
          7.003486399156386,
          8.21716905377349,
          9.587243477993848,
          11.12317818796199,
          12.832983465242012,
          14.722785255074978,
          16.79638895482085,
          19.054847229072738,
          21.496047939275098,
          24.114339745573805,
          26.900213779318175,
          29.840059865008953,
          32.91601498688858,
          36.10591998193367,
          39.383397778604284,
          42.718062923699776,
          46.075867739697095,
          49.419585381058646,
          52.70942451283768,
          55.90376456677906,
          58.95999482112847,
          61.83543520130301,
          64.48831201122866,
          66.87875806332958,
          68.96980412570554,
          70.72832744019139,
          72.1259234075637,
          73.13966842866775,
          73.75274528909664,
          73.95490725034097,
          73.74276295139147,
          73.11987105142661,
          72.09664092279978,
          70.69004326683256,
          68.92314189441748,
          66.82446472246586,
          64.4272379532209,
          61.76851214770417,
          58.88821226826894,
          55.82814562050406,
          52.631001930095515,
          49.339378590252025,
          45.99486153456788,
          42.637188422471446,
          39.30351611764168,
          36.02780907844581,
          32.8403595655393,
          29.76744480580628,
          26.831120715269506,
          24.049146723787793,
          21.435031862713164,
          18.998188720896998,
          16.74417923474738,
          14.675034587464994,
          12.789630730782143,
          11.0841011425979,
          9.552269291409496,
          8.186084761736405,
          6.976048955796933,
          5.911618571628206,
          4.9815775164082865,
          4.174370407418002,
          3.4783932212604114,
          2.88223887617552,
          2.374897498459999,
          1.9459127828316407,
          1.5854971823771877,
          1.2846096519868206,
          1.0350003332756665,
          0.8292269363246184,
          0.6606476815694394,
          0.523395557386869,
          0.41233837151184305,
          0.3230286730643463,
          0.2516471394932432,
          0.19494249734616675,
          0.15017050986486075,
          0.11503404407048595,
          0.08762574493410534,
          0.06637440804701493,
          0.049995763081094775,
          0.03744806176893327,
          0.0278926058720913,
          0.020659149507147364,
          0.015215961109712905,
          0.01114422683197717,
          0.008116412284288492,
          0.005878166162240187,
          0.004233340680367731,
          0.003031713685080225,
          0.0021590204252226615,
          0.0015289346404676926,
          0.0010766751573814712,
          0.0007539526416697781,
          0.0005250093580413383,
          0.00036354119006071445,
          0.00025032475926428795
         ]
        },
        {
         "fill": "tozeroy",
         "type": "scatter",
         "x": [
          0.019,
          0.01909090909090909,
          0.019181818181818182,
          0.01927272727272727,
          0.019363636363636364,
          0.019454545454545454,
          0.019545454545454546,
          0.019636363636363636,
          0.019727272727272725,
          0.019818181818181818,
          0.019909090909090908,
          0.02,
          0.02009090909090909,
          0.020181818181818183,
          0.020272727272727272,
          0.02036363636363636,
          0.020454545454545454,
          0.020545454545454544,
          0.020636363636363637,
          0.020727272727272726,
          0.02081818181818182,
          0.02090909090909091,
          0.020999999999999998,
          0.02109090909090909,
          0.02118181818181818,
          0.021272727272727273,
          0.021363636363636362,
          0.021454545454545455,
          0.021545454545454545,
          0.021636363636363638,
          0.021727272727272727,
          0.02181818181818182,
          0.02190909090909091,
          0.022,
          0.02209090909090909,
          0.02218181818181818,
          0.022272727272727274,
          0.022363636363636363,
          0.022454545454545456,
          0.022545454545454546,
          0.022636363636363635,
          0.022727272727272728,
          0.022818181818181817,
          0.02290909090909091,
          0.023,
          0.023090909090909092,
          0.023181818181818182,
          0.02327272727272727,
          0.023363636363636364,
          0.023454545454545454,
          0.023545454545454546,
          0.023636363636363636,
          0.02372727272727273,
          0.023818181818181818,
          0.023909090909090908,
          0.024,
          0.02409090909090909,
          0.024181818181818183,
          0.024272727272727272,
          0.024363636363636365,
          0.024454545454545455,
          0.024545454545454544,
          0.024636363636363637,
          0.024727272727272726,
          0.02481818181818182,
          0.02490909090909091,
          0.025,
          0.02509090909090909,
          0.02518181818181818,
          0.025272727272727273,
          0.025363636363636363,
          0.025454545454545455,
          0.025545454545454545,
          0.025636363636363638,
          0.025727272727272727,
          0.025818181818181817,
          0.02590909090909091,
          0.026000000000000002,
          0.02609090909090909,
          0.02618181818181818,
          0.026272727272727274,
          0.026363636363636363,
          0.026454545454545453,
          0.026545454545454546,
          0.02663636363636364,
          0.026727272727272728,
          0.026818181818181817,
          0.02690909090909091,
          0.027,
          0.02709090909090909,
          0.027181818181818182,
          0.027272727272727275,
          0.027363636363636364,
          0.027454545454545454,
          0.027545454545454547,
          0.027636363636363636,
          0.027727272727272725,
          0.02781818181818182,
          0.02790909090909091,
          0.028
         ],
         "y": [
          4.192490704899243,
          4.364614436402249,
          4.542514461276495,
          4.726323124652498,
          4.9161730110793975,
          5.11219680059798,
          5.314527118873574,
          5.5232963814104785,
          5.738636631882811,
          5.960679374629612,
          6.1895554013759435,
          6.425394612255912,
          6.668325831227703,
          6.9184766159860365,
          7.175973062492093,
          7.440939604256926,
          7.713498806529655,
          7.9937711555580195,
          8.281874843105033,
          8.577925546421566,
          8.882036203891591,
          9.194316786582887,
          9.514874065953334,
          9.843811377978817,
          10.181228383986,
          10.527220828489659,
          10.881880294350351,
          11.245293955585158,
          11.617544328179594,
          11.998709019265341,
          12.388860475043167,
          12.788065727846517,
          13.19638614275491,
          13.613877164181694,
          14.040588062873516,
          14.47656168377264,
          14.921834195205887,
          15.376434839875214,
          15.840385688137205,
          16.313701394067998,
          16.79638895482085,
          17.288447473791425,
          17.78986792811407,
          18.30063294101941,
          18.820716559588508,
          19.35008403844488,
          19.888691629927845,
          20.436486381294465,
          20.993405939497706,
          21.559378364088836,
          22.13432194879125,
          22.71814505228946,
          23.310745938774502,
          23.91201262878033,
          24.5218227608409,
          25.140043464488148,
          25.766531245102826,
          26.40113188111925,
          27.043680334072096,
          27.694000671961145,
          28.351906006393158,
          29.01719844394557,
          29.689669052176846,
          30.369097840690454,
          31.055253757638457,
          31.747894702027853,
          32.446767552170904,
          33.15160821059424,
          33.862141665697266,
          34.57808207042176,
          35.29913283816672,
          36.02498675615347,
          36.75532611641378,
          37.48982286454398,
          38.228138766333544,
          38.96992559234434,
          39.7148253204812,
          40.46247035655981,
          41.21248377284174,
          41.96447956446988,
          42.7180629236998,
          43.47283053178592,
          44.22837086834272,
          44.98426453796278,
          45.740084613835315,
          46.49539699807045,
          47.249760798395386,
          48.002728720850406,
          48.75384747807451,
          49.50265821273258,
          50.24869693559791,
          50.991494977767594,
          51.73057945645142,
          52.46547375373958,
          53.195698007718946,
          53.92076961527456,
          54.64020374587993,
          55.35351386564708,
          56.060212270877905,
          56.75981063032846
         ]
        }
       ],
       "layout": {
        "template": {
         "data": {
          "bar": [
           {
            "error_x": {
             "color": "#2a3f5f"
            },
            "error_y": {
             "color": "#2a3f5f"
            },
            "marker": {
             "line": {
              "color": "#E5ECF6",
              "width": 0.5
             },
             "pattern": {
              "fillmode": "overlay",
              "size": 10,
              "solidity": 0.2
             }
            },
            "type": "bar"
           }
          ],
          "barpolar": [
           {
            "marker": {
             "line": {
              "color": "#E5ECF6",
              "width": 0.5
             },
             "pattern": {
              "fillmode": "overlay",
              "size": 10,
              "solidity": 0.2
             }
            },
            "type": "barpolar"
           }
          ],
          "carpet": [
           {
            "aaxis": {
             "endlinecolor": "#2a3f5f",
             "gridcolor": "white",
             "linecolor": "white",
             "minorgridcolor": "white",
             "startlinecolor": "#2a3f5f"
            },
            "baxis": {
             "endlinecolor": "#2a3f5f",
             "gridcolor": "white",
             "linecolor": "white",
             "minorgridcolor": "white",
             "startlinecolor": "#2a3f5f"
            },
            "type": "carpet"
           }
          ],
          "choropleth": [
           {
            "colorbar": {
             "outlinewidth": 0,
             "ticks": ""
            },
            "type": "choropleth"
           }
          ],
          "contour": [
           {
            "colorbar": {
             "outlinewidth": 0,
             "ticks": ""
            },
            "colorscale": [
             [
              0,
              "#0d0887"
             ],
             [
              0.1111111111111111,
              "#46039f"
             ],
             [
              0.2222222222222222,
              "#7201a8"
             ],
             [
              0.3333333333333333,
              "#9c179e"
             ],
             [
              0.4444444444444444,
              "#bd3786"
             ],
             [
              0.5555555555555556,
              "#d8576b"
             ],
             [
              0.6666666666666666,
              "#ed7953"
             ],
             [
              0.7777777777777778,
              "#fb9f3a"
             ],
             [
              0.8888888888888888,
              "#fdca26"
             ],
             [
              1,
              "#f0f921"
             ]
            ],
            "type": "contour"
           }
          ],
          "contourcarpet": [
           {
            "colorbar": {
             "outlinewidth": 0,
             "ticks": ""
            },
            "type": "contourcarpet"
           }
          ],
          "heatmap": [
           {
            "colorbar": {
             "outlinewidth": 0,
             "ticks": ""
            },
            "colorscale": [
             [
              0,
              "#0d0887"
             ],
             [
              0.1111111111111111,
              "#46039f"
             ],
             [
              0.2222222222222222,
              "#7201a8"
             ],
             [
              0.3333333333333333,
              "#9c179e"
             ],
             [
              0.4444444444444444,
              "#bd3786"
             ],
             [
              0.5555555555555556,
              "#d8576b"
             ],
             [
              0.6666666666666666,
              "#ed7953"
             ],
             [
              0.7777777777777778,
              "#fb9f3a"
             ],
             [
              0.8888888888888888,
              "#fdca26"
             ],
             [
              1,
              "#f0f921"
             ]
            ],
            "type": "heatmap"
           }
          ],
          "heatmapgl": [
           {
            "colorbar": {
             "outlinewidth": 0,
             "ticks": ""
            },
            "colorscale": [
             [
              0,
              "#0d0887"
             ],
             [
              0.1111111111111111,
              "#46039f"
             ],
             [
              0.2222222222222222,
              "#7201a8"
             ],
             [
              0.3333333333333333,
              "#9c179e"
             ],
             [
              0.4444444444444444,
              "#bd3786"
             ],
             [
              0.5555555555555556,
              "#d8576b"
             ],
             [
              0.6666666666666666,
              "#ed7953"
             ],
             [
              0.7777777777777778,
              "#fb9f3a"
             ],
             [
              0.8888888888888888,
              "#fdca26"
             ],
             [
              1,
              "#f0f921"
             ]
            ],
            "type": "heatmapgl"
           }
          ],
          "histogram": [
           {
            "marker": {
             "pattern": {
              "fillmode": "overlay",
              "size": 10,
              "solidity": 0.2
             }
            },
            "type": "histogram"
           }
          ],
          "histogram2d": [
           {
            "colorbar": {
             "outlinewidth": 0,
             "ticks": ""
            },
            "colorscale": [
             [
              0,
              "#0d0887"
             ],
             [
              0.1111111111111111,
              "#46039f"
             ],
             [
              0.2222222222222222,
              "#7201a8"
             ],
             [
              0.3333333333333333,
              "#9c179e"
             ],
             [
              0.4444444444444444,
              "#bd3786"
             ],
             [
              0.5555555555555556,
              "#d8576b"
             ],
             [
              0.6666666666666666,
              "#ed7953"
             ],
             [
              0.7777777777777778,
              "#fb9f3a"
             ],
             [
              0.8888888888888888,
              "#fdca26"
             ],
             [
              1,
              "#f0f921"
             ]
            ],
            "type": "histogram2d"
           }
          ],
          "histogram2dcontour": [
           {
            "colorbar": {
             "outlinewidth": 0,
             "ticks": ""
            },
            "colorscale": [
             [
              0,
              "#0d0887"
             ],
             [
              0.1111111111111111,
              "#46039f"
             ],
             [
              0.2222222222222222,
              "#7201a8"
             ],
             [
              0.3333333333333333,
              "#9c179e"
             ],
             [
              0.4444444444444444,
              "#bd3786"
             ],
             [
              0.5555555555555556,
              "#d8576b"
             ],
             [
              0.6666666666666666,
              "#ed7953"
             ],
             [
              0.7777777777777778,
              "#fb9f3a"
             ],
             [
              0.8888888888888888,
              "#fdca26"
             ],
             [
              1,
              "#f0f921"
             ]
            ],
            "type": "histogram2dcontour"
           }
          ],
          "mesh3d": [
           {
            "colorbar": {
             "outlinewidth": 0,
             "ticks": ""
            },
            "type": "mesh3d"
           }
          ],
          "parcoords": [
           {
            "line": {
             "colorbar": {
              "outlinewidth": 0,
              "ticks": ""
             }
            },
            "type": "parcoords"
           }
          ],
          "pie": [
           {
            "automargin": true,
            "type": "pie"
           }
          ],
          "scatter": [
           {
            "fillpattern": {
             "fillmode": "overlay",
             "size": 10,
             "solidity": 0.2
            },
            "type": "scatter"
           }
          ],
          "scatter3d": [
           {
            "line": {
             "colorbar": {
              "outlinewidth": 0,
              "ticks": ""
             }
            },
            "marker": {
             "colorbar": {
              "outlinewidth": 0,
              "ticks": ""
             }
            },
            "type": "scatter3d"
           }
          ],
          "scattercarpet": [
           {
            "marker": {
             "colorbar": {
              "outlinewidth": 0,
              "ticks": ""
             }
            },
            "type": "scattercarpet"
           }
          ],
          "scattergeo": [
           {
            "marker": {
             "colorbar": {
              "outlinewidth": 0,
              "ticks": ""
             }
            },
            "type": "scattergeo"
           }
          ],
          "scattergl": [
           {
            "marker": {
             "colorbar": {
              "outlinewidth": 0,
              "ticks": ""
             }
            },
            "type": "scattergl"
           }
          ],
          "scattermapbox": [
           {
            "marker": {
             "colorbar": {
              "outlinewidth": 0,
              "ticks": ""
             }
            },
            "type": "scattermapbox"
           }
          ],
          "scatterpolar": [
           {
            "marker": {
             "colorbar": {
              "outlinewidth": 0,
              "ticks": ""
             }
            },
            "type": "scatterpolar"
           }
          ],
          "scatterpolargl": [
           {
            "marker": {
             "colorbar": {
              "outlinewidth": 0,
              "ticks": ""
             }
            },
            "type": "scatterpolargl"
           }
          ],
          "scatterternary": [
           {
            "marker": {
             "colorbar": {
              "outlinewidth": 0,
              "ticks": ""
             }
            },
            "type": "scatterternary"
           }
          ],
          "surface": [
           {
            "colorbar": {
             "outlinewidth": 0,
             "ticks": ""
            },
            "colorscale": [
             [
              0,
              "#0d0887"
             ],
             [
              0.1111111111111111,
              "#46039f"
             ],
             [
              0.2222222222222222,
              "#7201a8"
             ],
             [
              0.3333333333333333,
              "#9c179e"
             ],
             [
              0.4444444444444444,
              "#bd3786"
             ],
             [
              0.5555555555555556,
              "#d8576b"
             ],
             [
              0.6666666666666666,
              "#ed7953"
             ],
             [
              0.7777777777777778,
              "#fb9f3a"
             ],
             [
              0.8888888888888888,
              "#fdca26"
             ],
             [
              1,
              "#f0f921"
             ]
            ],
            "type": "surface"
           }
          ],
          "table": [
           {
            "cells": {
             "fill": {
              "color": "#EBF0F8"
             },
             "line": {
              "color": "white"
             }
            },
            "header": {
             "fill": {
              "color": "#C8D4E3"
             },
             "line": {
              "color": "white"
             }
            },
            "type": "table"
           }
          ]
         },
         "layout": {
          "annotationdefaults": {
           "arrowcolor": "#2a3f5f",
           "arrowhead": 0,
           "arrowwidth": 1
          },
          "autotypenumbers": "strict",
          "coloraxis": {
           "colorbar": {
            "outlinewidth": 0,
            "ticks": ""
           }
          },
          "colorscale": {
           "diverging": [
            [
             0,
             "#8e0152"
            ],
            [
             0.1,
             "#c51b7d"
            ],
            [
             0.2,
             "#de77ae"
            ],
            [
             0.3,
             "#f1b6da"
            ],
            [
             0.4,
             "#fde0ef"
            ],
            [
             0.5,
             "#f7f7f7"
            ],
            [
             0.6,
             "#e6f5d0"
            ],
            [
             0.7,
             "#b8e186"
            ],
            [
             0.8,
             "#7fbc41"
            ],
            [
             0.9,
             "#4d9221"
            ],
            [
             1,
             "#276419"
            ]
           ],
           "sequential": [
            [
             0,
             "#0d0887"
            ],
            [
             0.1111111111111111,
             "#46039f"
            ],
            [
             0.2222222222222222,
             "#7201a8"
            ],
            [
             0.3333333333333333,
             "#9c179e"
            ],
            [
             0.4444444444444444,
             "#bd3786"
            ],
            [
             0.5555555555555556,
             "#d8576b"
            ],
            [
             0.6666666666666666,
             "#ed7953"
            ],
            [
             0.7777777777777778,
             "#fb9f3a"
            ],
            [
             0.8888888888888888,
             "#fdca26"
            ],
            [
             1,
             "#f0f921"
            ]
           ],
           "sequentialminus": [
            [
             0,
             "#0d0887"
            ],
            [
             0.1111111111111111,
             "#46039f"
            ],
            [
             0.2222222222222222,
             "#7201a8"
            ],
            [
             0.3333333333333333,
             "#9c179e"
            ],
            [
             0.4444444444444444,
             "#bd3786"
            ],
            [
             0.5555555555555556,
             "#d8576b"
            ],
            [
             0.6666666666666666,
             "#ed7953"
            ],
            [
             0.7777777777777778,
             "#fb9f3a"
            ],
            [
             0.8888888888888888,
             "#fdca26"
            ],
            [
             1,
             "#f0f921"
            ]
           ]
          },
          "colorway": [
           "#636efa",
           "#EF553B",
           "#00cc96",
           "#ab63fa",
           "#FFA15A",
           "#19d3f3",
           "#FF6692",
           "#B6E880",
           "#FF97FF",
           "#FECB52"
          ],
          "font": {
           "color": "#2a3f5f"
          },
          "geo": {
           "bgcolor": "white",
           "lakecolor": "white",
           "landcolor": "#E5ECF6",
           "showlakes": true,
           "showland": true,
           "subunitcolor": "white"
          },
          "hoverlabel": {
           "align": "left"
          },
          "hovermode": "closest",
          "mapbox": {
           "style": "light"
          },
          "paper_bgcolor": "white",
          "plot_bgcolor": "#E5ECF6",
          "polar": {
           "angularaxis": {
            "gridcolor": "white",
            "linecolor": "white",
            "ticks": ""
           },
           "bgcolor": "#E5ECF6",
           "radialaxis": {
            "gridcolor": "white",
            "linecolor": "white",
            "ticks": ""
           }
          },
          "scene": {
           "xaxis": {
            "backgroundcolor": "#E5ECF6",
            "gridcolor": "white",
            "gridwidth": 2,
            "linecolor": "white",
            "showbackground": true,
            "ticks": "",
            "zerolinecolor": "white"
           },
           "yaxis": {
            "backgroundcolor": "#E5ECF6",
            "gridcolor": "white",
            "gridwidth": 2,
            "linecolor": "white",
            "showbackground": true,
            "ticks": "",
            "zerolinecolor": "white"
           },
           "zaxis": {
            "backgroundcolor": "#E5ECF6",
            "gridcolor": "white",
            "gridwidth": 2,
            "linecolor": "white",
            "showbackground": true,
            "ticks": "",
            "zerolinecolor": "white"
           }
          },
          "shapedefaults": {
           "line": {
            "color": "#2a3f5f"
           }
          },
          "ternary": {
           "aaxis": {
            "gridcolor": "white",
            "linecolor": "white",
            "ticks": ""
           },
           "baxis": {
            "gridcolor": "white",
            "linecolor": "white",
            "ticks": ""
           },
           "bgcolor": "#E5ECF6",
           "caxis": {
            "gridcolor": "white",
            "linecolor": "white",
            "ticks": ""
           }
          },
          "title": {
           "x": 0.05
          },
          "xaxis": {
           "automargin": true,
           "gridcolor": "white",
           "linecolor": "white",
           "ticks": "",
           "title": {
            "standoff": 15
           },
           "zerolinecolor": "white",
           "zerolinewidth": 2
          },
          "yaxis": {
           "automargin": true,
           "gridcolor": "white",
           "linecolor": "white",
           "ticks": "",
           "title": {
            "standoff": 15
           },
           "zerolinecolor": "white",
           "zerolinewidth": 2
          }
         }
        }
       }
      }
     },
     "metadata": {},
     "output_type": "display_data"
    },
    {
     "data": {
      "text/plain": [
       "0.22517026991990952"
      ]
     },
     "execution_count": 628,
     "metadata": {},
     "output_type": "execute_result"
    }
   ],
   "source": [
    "busan_oz = df_ozone[df_ozone['구분(2)']=='부산광역시'].loc[2,'2021.07']\n",
    "ozone_pro = cal_norm(mean,std,min,max,busan_oz)\n",
    "ozone_pro"
   ]
  },
  {
   "cell_type": "markdown",
   "metadata": {
    "collapsed": false
   },
   "source": [
    "### 아황산가스 월별 데이터 불러오기"
   ]
  },
  {
   "cell_type": "code",
   "execution_count": null,
   "metadata": {
    "collapsed": false,
    "pycharm": {
     "name": "#%%\n"
    }
   },
   "outputs": [
    {
     "data": {
      "text/html": [
       "<div>\n",
       "<style scoped>\n",
       "    .dataframe tbody tr th:only-of-type {\n",
       "        vertical-align: middle;\n",
       "    }\n",
       "\n",
       "    .dataframe tbody tr th {\n",
       "        vertical-align: top;\n",
       "    }\n",
       "\n",
       "    .dataframe thead th {\n",
       "        text-align: right;\n",
       "    }\n",
       "</style>\n",
       "<table border=\"1\" class=\"dataframe\">\n",
       "  <thead>\n",
       "    <tr style=\"text-align: right;\">\n",
       "      <th></th>\n",
       "      <th>구분(1)</th>\n",
       "      <th>구분(2)</th>\n",
       "      <th>2021.02</th>\n",
       "      <th>2021.03</th>\n",
       "      <th>2021.04</th>\n",
       "      <th>2021.05</th>\n",
       "      <th>2021.06</th>\n",
       "      <th>2021.07</th>\n",
       "    </tr>\n",
       "  </thead>\n",
       "  <tbody>\n",
       "    <tr>\n",
       "      <th>0</th>\n",
       "      <td>총계</td>\n",
       "      <td>소계</td>\n",
       "      <td>0.003</td>\n",
       "      <td>0.003</td>\n",
       "      <td>0.003</td>\n",
       "      <td>0.003</td>\n",
       "      <td>0.003</td>\n",
       "      <td>0.003</td>\n",
       "    </tr>\n",
       "    <tr>\n",
       "      <th>1</th>\n",
       "      <td>서울특별시</td>\n",
       "      <td>서울특별시</td>\n",
       "      <td>0.003</td>\n",
       "      <td>0.003</td>\n",
       "      <td>0.003</td>\n",
       "      <td>0.003</td>\n",
       "      <td>0.003</td>\n",
       "      <td>0.003</td>\n",
       "    </tr>\n",
       "    <tr>\n",
       "      <th>2</th>\n",
       "      <td>부산광역시</td>\n",
       "      <td>부산광역시</td>\n",
       "      <td>0.004</td>\n",
       "      <td>0.003</td>\n",
       "      <td>0.003</td>\n",
       "      <td>0.002</td>\n",
       "      <td>0.003</td>\n",
       "      <td>0.003</td>\n",
       "    </tr>\n",
       "    <tr>\n",
       "      <th>3</th>\n",
       "      <td>대구광역시</td>\n",
       "      <td>대구광역시</td>\n",
       "      <td>0.002</td>\n",
       "      <td>0.002</td>\n",
       "      <td>0.002</td>\n",
       "      <td>0.002</td>\n",
       "      <td>0.002</td>\n",
       "      <td>0.002</td>\n",
       "    </tr>\n",
       "    <tr>\n",
       "      <th>4</th>\n",
       "      <td>인천광역시</td>\n",
       "      <td>인천광역시</td>\n",
       "      <td>0.004</td>\n",
       "      <td>0.003</td>\n",
       "      <td>0.003</td>\n",
       "      <td>0.003</td>\n",
       "      <td>0.003</td>\n",
       "      <td>0.003</td>\n",
       "    </tr>\n",
       "    <tr>\n",
       "      <th>...</th>\n",
       "      <td>...</td>\n",
       "      <td>...</td>\n",
       "      <td>...</td>\n",
       "      <td>...</td>\n",
       "      <td>...</td>\n",
       "      <td>...</td>\n",
       "      <td>...</td>\n",
       "      <td>...</td>\n",
       "    </tr>\n",
       "    <tr>\n",
       "      <th>167</th>\n",
       "      <td>경상남도</td>\n",
       "      <td>합천</td>\n",
       "      <td>0.003</td>\n",
       "      <td>0.003</td>\n",
       "      <td>0.003</td>\n",
       "      <td>0.003</td>\n",
       "      <td>0.003</td>\n",
       "      <td>0.003**</td>\n",
       "    </tr>\n",
       "    <tr>\n",
       "      <th>168</th>\n",
       "      <td>경상남도</td>\n",
       "      <td>도평균</td>\n",
       "      <td>0.003</td>\n",
       "      <td>0.003</td>\n",
       "      <td>0.003</td>\n",
       "      <td>0.003</td>\n",
       "      <td>0.003</td>\n",
       "      <td>0.003</td>\n",
       "    </tr>\n",
       "    <tr>\n",
       "      <th>169</th>\n",
       "      <td>제주특별자치도</td>\n",
       "      <td>제주특별자치도</td>\n",
       "      <td>0.002</td>\n",
       "      <td>0.001</td>\n",
       "      <td>0.002</td>\n",
       "      <td>0.002</td>\n",
       "      <td>0.002</td>\n",
       "      <td>0.002</td>\n",
       "    </tr>\n",
       "    <tr>\n",
       "      <th>170</th>\n",
       "      <td>제주특별자치도</td>\n",
       "      <td>서귀포</td>\n",
       "      <td>0.001</td>\n",
       "      <td>0.001</td>\n",
       "      <td>0.001</td>\n",
       "      <td>0.001</td>\n",
       "      <td>0.001</td>\n",
       "      <td>0.001</td>\n",
       "    </tr>\n",
       "    <tr>\n",
       "      <th>171</th>\n",
       "      <td>제주특별자치도</td>\n",
       "      <td>도평균</td>\n",
       "      <td>0.002</td>\n",
       "      <td>0.001</td>\n",
       "      <td>0.002</td>\n",
       "      <td>0.001</td>\n",
       "      <td>0.001</td>\n",
       "      <td>0.001</td>\n",
       "    </tr>\n",
       "  </tbody>\n",
       "</table>\n",
       "<p>172 rows × 8 columns</p>\n",
       "</div>"
      ],
      "text/plain": [
       "       구분(1)    구분(2) 2021.02 2021.03 2021.04 2021.05 2021.06  2021.07\n",
       "0         총계       소계   0.003   0.003   0.003   0.003   0.003    0.003\n",
       "1      서울특별시    서울특별시   0.003   0.003   0.003   0.003   0.003    0.003\n",
       "2      부산광역시    부산광역시   0.004   0.003   0.003   0.002   0.003    0.003\n",
       "3      대구광역시    대구광역시   0.002   0.002   0.002   0.002   0.002    0.002\n",
       "4      인천광역시    인천광역시   0.004   0.003   0.003   0.003   0.003    0.003\n",
       "..       ...      ...     ...     ...     ...     ...     ...      ...\n",
       "167     경상남도       합천   0.003   0.003   0.003   0.003   0.003  0.003**\n",
       "168     경상남도      도평균   0.003   0.003   0.003   0.003   0.003    0.003\n",
       "169  제주특별자치도  제주특별자치도   0.002   0.001   0.002   0.002   0.002    0.002\n",
       "170  제주특별자치도      서귀포   0.001   0.001   0.001   0.001   0.001    0.001\n",
       "171  제주특별자치도      도평균   0.002   0.001   0.002   0.001   0.001    0.001\n",
       "\n",
       "[172 rows x 8 columns]"
      ]
     },
     "execution_count": 453,
     "metadata": {},
     "output_type": "execute_result"
    }
   ],
   "source": [
    "so2_file_path = 'C:\\\\Users\\\\SAMSUNG\\\\Desktop\\\\Green-Car-Charging-Station-Site-Selection\\\\Data\\\\아황산가스_월별_도시별_대기오염도.csv'\n",
    "df_so2 = pd.read_csv(so2_file_path, encoding='cp949')\n",
    "df_so2"
   ]
  },
  {
   "cell_type": "code",
   "execution_count": null,
   "metadata": {
    "collapsed": false,
    "pycharm": {
     "name": "#%%\n"
    }
   },
   "outputs": [
    {
     "name": "stdout",
     "output_type": "stream",
     "text": [
      "<class 'pandas.core.frame.DataFrame'>\n",
      "RangeIndex: 172 entries, 0 to 171\n",
      "Data columns (total 8 columns):\n",
      " #   Column   Non-Null Count  Dtype \n",
      "---  ------   --------------  ----- \n",
      " 0   구분(1)    172 non-null    object\n",
      " 1   구분(2)    172 non-null    object\n",
      " 2   2021.02  172 non-null    object\n",
      " 3   2021.03  172 non-null    object\n",
      " 4   2021.04  172 non-null    object\n",
      " 5   2021.05  172 non-null    object\n",
      " 6   2021.06  172 non-null    object\n",
      " 7   2021.07  172 non-null    object\n",
      "dtypes: object(8)\n",
      "memory usage: 10.9+ KB\n"
     ]
    }
   ],
   "source": [
    "df_so2.info()"
   ]
  },
  {
   "cell_type": "code",
   "execution_count": null,
   "metadata": {
    "collapsed": false,
    "pycharm": {
     "name": "#%%\n"
    }
   },
   "outputs": [],
   "source": [
    "so2_col = df_so2.iloc[:,2:-1].columns.tolist()"
   ]
  },
  {
   "cell_type": "code",
   "execution_count": null,
   "metadata": {
    "collapsed": false,
    "pycharm": {
     "name": "#%%\n"
    }
   },
   "outputs": [
    {
     "data": {
      "text/html": [
       "<div>\n",
       "<style scoped>\n",
       "    .dataframe tbody tr th:only-of-type {\n",
       "        vertical-align: middle;\n",
       "    }\n",
       "\n",
       "    .dataframe tbody tr th {\n",
       "        vertical-align: top;\n",
       "    }\n",
       "\n",
       "    .dataframe thead th {\n",
       "        text-align: right;\n",
       "    }\n",
       "</style>\n",
       "<table border=\"1\" class=\"dataframe\">\n",
       "  <thead>\n",
       "    <tr style=\"text-align: right;\">\n",
       "      <th></th>\n",
       "      <th>구분(1)</th>\n",
       "      <th>구분(2)</th>\n",
       "      <th>2021.07</th>\n",
       "    </tr>\n",
       "  </thead>\n",
       "  <tbody>\n",
       "    <tr>\n",
       "      <th>0</th>\n",
       "      <td>총계</td>\n",
       "      <td>소계</td>\n",
       "      <td>0.003</td>\n",
       "    </tr>\n",
       "    <tr>\n",
       "      <th>1</th>\n",
       "      <td>서울특별시</td>\n",
       "      <td>서울특별시</td>\n",
       "      <td>0.003</td>\n",
       "    </tr>\n",
       "    <tr>\n",
       "      <th>2</th>\n",
       "      <td>부산광역시</td>\n",
       "      <td>부산광역시</td>\n",
       "      <td>0.003</td>\n",
       "    </tr>\n",
       "    <tr>\n",
       "      <th>3</th>\n",
       "      <td>대구광역시</td>\n",
       "      <td>대구광역시</td>\n",
       "      <td>0.002</td>\n",
       "    </tr>\n",
       "    <tr>\n",
       "      <th>4</th>\n",
       "      <td>인천광역시</td>\n",
       "      <td>인천광역시</td>\n",
       "      <td>0.003</td>\n",
       "    </tr>\n",
       "    <tr>\n",
       "      <th>...</th>\n",
       "      <td>...</td>\n",
       "      <td>...</td>\n",
       "      <td>...</td>\n",
       "    </tr>\n",
       "    <tr>\n",
       "      <th>167</th>\n",
       "      <td>경상남도</td>\n",
       "      <td>합천</td>\n",
       "      <td>0.003**</td>\n",
       "    </tr>\n",
       "    <tr>\n",
       "      <th>168</th>\n",
       "      <td>경상남도</td>\n",
       "      <td>도평균</td>\n",
       "      <td>0.003</td>\n",
       "    </tr>\n",
       "    <tr>\n",
       "      <th>169</th>\n",
       "      <td>제주특별자치도</td>\n",
       "      <td>제주특별자치도</td>\n",
       "      <td>0.002</td>\n",
       "    </tr>\n",
       "    <tr>\n",
       "      <th>170</th>\n",
       "      <td>제주특별자치도</td>\n",
       "      <td>서귀포</td>\n",
       "      <td>0.001</td>\n",
       "    </tr>\n",
       "    <tr>\n",
       "      <th>171</th>\n",
       "      <td>제주특별자치도</td>\n",
       "      <td>도평균</td>\n",
       "      <td>0.001</td>\n",
       "    </tr>\n",
       "  </tbody>\n",
       "</table>\n",
       "<p>172 rows × 3 columns</p>\n",
       "</div>"
      ],
      "text/plain": [
       "       구분(1)    구분(2)  2021.07\n",
       "0         총계       소계    0.003\n",
       "1      서울특별시    서울특별시    0.003\n",
       "2      부산광역시    부산광역시    0.003\n",
       "3      대구광역시    대구광역시    0.002\n",
       "4      인천광역시    인천광역시    0.003\n",
       "..       ...      ...      ...\n",
       "167     경상남도       합천  0.003**\n",
       "168     경상남도      도평균    0.003\n",
       "169  제주특별자치도  제주특별자치도    0.002\n",
       "170  제주특별자치도      서귀포    0.001\n",
       "171  제주특별자치도      도평균    0.001\n",
       "\n",
       "[172 rows x 3 columns]"
      ]
     },
     "execution_count": 456,
     "metadata": {},
     "output_type": "execute_result"
    }
   ],
   "source": [
    "df_so2.drop(columns=so2_col, inplace=True)\n",
    "df_so2"
   ]
  },
  {
   "cell_type": "code",
   "execution_count": null,
   "metadata": {
    "collapsed": false,
    "pycharm": {
     "name": "#%%\n"
    }
   },
   "outputs": [],
   "source": [
    "advanced_replace(df_so2,'2021.07','-',r'[^0-9.0-9]')\n",
    "df_so2['2021.07'] = df_so2['2021.07'].astype(float)"
   ]
  },
  {
   "cell_type": "code",
   "execution_count": null,
   "metadata": {
    "collapsed": false,
    "pycharm": {
     "name": "#%%\n"
    }
   },
   "outputs": [
    {
     "name": "stdout",
     "output_type": "stream",
     "text": [
      "<class 'pandas.core.frame.DataFrame'>\n",
      "RangeIndex: 172 entries, 0 to 171\n",
      "Data columns (total 3 columns):\n",
      " #   Column   Non-Null Count  Dtype  \n",
      "---  ------   --------------  -----  \n",
      " 0   구분(1)    172 non-null    object \n",
      " 1   구분(2)    172 non-null    object \n",
      " 2   2021.07  172 non-null    float64\n",
      "dtypes: float64(1), object(2)\n",
      "memory usage: 4.2+ KB\n"
     ]
    }
   ],
   "source": [
    "df_so2.info()"
   ]
  },
  {
   "cell_type": "code",
   "execution_count": null,
   "metadata": {
    "collapsed": false,
    "pycharm": {
     "name": "#%%\n"
    }
   },
   "outputs": [
    {
     "data": {
      "text/html": [
       "<div>\n",
       "<style scoped>\n",
       "    .dataframe tbody tr th:only-of-type {\n",
       "        vertical-align: middle;\n",
       "    }\n",
       "\n",
       "    .dataframe tbody tr th {\n",
       "        vertical-align: top;\n",
       "    }\n",
       "\n",
       "    .dataframe thead th {\n",
       "        text-align: right;\n",
       "    }\n",
       "</style>\n",
       "<table border=\"1\" class=\"dataframe\">\n",
       "  <thead>\n",
       "    <tr style=\"text-align: right;\">\n",
       "      <th></th>\n",
       "      <th>2021.07</th>\n",
       "    </tr>\n",
       "  </thead>\n",
       "  <tbody>\n",
       "    <tr>\n",
       "      <th>count</th>\n",
       "      <td>172.000000</td>\n",
       "    </tr>\n",
       "    <tr>\n",
       "      <th>mean</th>\n",
       "      <td>0.002674</td>\n",
       "    </tr>\n",
       "    <tr>\n",
       "      <th>std</th>\n",
       "      <td>0.000764</td>\n",
       "    </tr>\n",
       "    <tr>\n",
       "      <th>min</th>\n",
       "      <td>0.001000</td>\n",
       "    </tr>\n",
       "    <tr>\n",
       "      <th>25%</th>\n",
       "      <td>0.002000</td>\n",
       "    </tr>\n",
       "    <tr>\n",
       "      <th>50%</th>\n",
       "      <td>0.003000</td>\n",
       "    </tr>\n",
       "    <tr>\n",
       "      <th>75%</th>\n",
       "      <td>0.003000</td>\n",
       "    </tr>\n",
       "    <tr>\n",
       "      <th>max</th>\n",
       "      <td>0.005000</td>\n",
       "    </tr>\n",
       "  </tbody>\n",
       "</table>\n",
       "</div>"
      ],
      "text/plain": [
       "          2021.07\n",
       "count  172.000000\n",
       "mean     0.002674\n",
       "std      0.000764\n",
       "min      0.001000\n",
       "25%      0.002000\n",
       "50%      0.003000\n",
       "75%      0.003000\n",
       "max      0.005000"
      ]
     },
     "execution_count": 459,
     "metadata": {},
     "output_type": "execute_result"
    }
   ],
   "source": [
    "df_so2.describe()"
   ]
  },
  {
   "cell_type": "code",
   "execution_count": null,
   "metadata": {},
   "outputs": [
    {
     "name": "stderr",
     "output_type": "stream",
     "text": [
      "C:\\Users\\SAMSUNG\\AppData\\Local\\Temp\\ipykernel_23312\\3903135422.py:1: FutureWarning: Dropping of nuisance columns in DataFrame reductions (with 'numeric_only=None') is deprecated; in a future version this will raise TypeError.  Select only valid columns before calling the reduction.\n",
      "  mean = df_so2.mean().loc['2021.07']\n",
      "C:\\Users\\SAMSUNG\\AppData\\Local\\Temp\\ipykernel_23312\\3903135422.py:2: FutureWarning: Dropping of nuisance columns in DataFrame reductions (with 'numeric_only=None') is deprecated; in a future version this will raise TypeError.  Select only valid columns before calling the reduction.\n",
      "  std = df_so2.std().loc['2021.07']\n"
     ]
    },
    {
     "data": {
      "image/png": "[encoded data removed]",
      "text/plain": [
       "<Figure size 432x288 with 1 Axes>"
      ]
     },
     "metadata": {
      "needs_background": "light"
     },
     "output_type": "display_data"
    }
   ],
   "source": [
    "mean = df_so2.mean().loc['2021.07']\n",
    "std = df_so2.std().loc['2021.07']\n",
    "min = df_so2.min().loc['2021.07']\n",
    "max = df_so2.max().loc['2021.07']\n",
    "show_norm(mean,std,min,max)"
   ]
  },
  {
   "cell_type": "markdown",
   "metadata": {},
   "source": [
    "### 부산광역시 아황산가스의 누적확률 구하기"
   ]
  },
  {
   "cell_type": "code",
   "execution_count": null,
   "metadata": {},
   "outputs": [
    {
     "data": {
      "image/png": "[encoded data removed]",
      "text/plain": [
       "<Figure size 432x288 with 1 Axes>"
      ]
     },
     "metadata": {
      "needs_background": "light"
     },
     "output_type": "display_data"
    }
   ],
   "source": [
    "busan_so2 = df_so2[df_so2['구분(2)']=='부산광역시'].loc[2,'2021.07']\n",
    "so2_pro = cal_norm(mean,std,min,max,busan_so2)"
   ]
  },
  {
   "cell_type": "markdown",
   "metadata": {
    "collapsed": false
   },
   "source": [
    "### 이산화질소 월별 데이터 불러오기"
   ]
  },
  {
   "cell_type": "code",
   "execution_count": null,
   "metadata": {
    "collapsed": false,
    "pycharm": {
     "name": "#%%\n"
    }
   },
   "outputs": [
    {
     "data": {
      "text/html": [
       "<div>\n",
       "<style scoped>\n",
       "    .dataframe tbody tr th:only-of-type {\n",
       "        vertical-align: middle;\n",
       "    }\n",
       "\n",
       "    .dataframe tbody tr th {\n",
       "        vertical-align: top;\n",
       "    }\n",
       "\n",
       "    .dataframe thead th {\n",
       "        text-align: right;\n",
       "    }\n",
       "</style>\n",
       "<table border=\"1\" class=\"dataframe\">\n",
       "  <thead>\n",
       "    <tr style=\"text-align: right;\">\n",
       "      <th></th>\n",
       "      <th>구분(1)</th>\n",
       "      <th>구분(2)</th>\n",
       "      <th>2021.02</th>\n",
       "      <th>2021.03</th>\n",
       "      <th>2021.04</th>\n",
       "      <th>2021.05</th>\n",
       "      <th>2021.06</th>\n",
       "      <th>2021.07</th>\n",
       "    </tr>\n",
       "  </thead>\n",
       "  <tbody>\n",
       "    <tr>\n",
       "      <th>0</th>\n",
       "      <td>총계</td>\n",
       "      <td>소계</td>\n",
       "      <td>0.019</td>\n",
       "      <td>0.019</td>\n",
       "      <td>0.014</td>\n",
       "      <td>0.012</td>\n",
       "      <td>0.011</td>\n",
       "      <td>0.010</td>\n",
       "    </tr>\n",
       "    <tr>\n",
       "      <th>1</th>\n",
       "      <td>서울특별시</td>\n",
       "      <td>서울특별시</td>\n",
       "      <td>0.030</td>\n",
       "      <td>0.032</td>\n",
       "      <td>0.022</td>\n",
       "      <td>0.019</td>\n",
       "      <td>0.018</td>\n",
       "      <td>0.016</td>\n",
       "    </tr>\n",
       "    <tr>\n",
       "      <th>2</th>\n",
       "      <td>부산광역시</td>\n",
       "      <td>부산광역시</td>\n",
       "      <td>0.018</td>\n",
       "      <td>0.017</td>\n",
       "      <td>0.015</td>\n",
       "      <td>0.014</td>\n",
       "      <td>0.014</td>\n",
       "      <td>0.010</td>\n",
       "    </tr>\n",
       "    <tr>\n",
       "      <th>3</th>\n",
       "      <td>대구광역시</td>\n",
       "      <td>대구광역시</td>\n",
       "      <td>0.022</td>\n",
       "      <td>0.018</td>\n",
       "      <td>0.013</td>\n",
       "      <td>0.012</td>\n",
       "      <td>0.010</td>\n",
       "      <td>0.009</td>\n",
       "    </tr>\n",
       "    <tr>\n",
       "      <th>4</th>\n",
       "      <td>인천광역시</td>\n",
       "      <td>인천광역시</td>\n",
       "      <td>0.024</td>\n",
       "      <td>0.028</td>\n",
       "      <td>0.021</td>\n",
       "      <td>0.017</td>\n",
       "      <td>0.017</td>\n",
       "      <td>0.014</td>\n",
       "    </tr>\n",
       "    <tr>\n",
       "      <th>...</th>\n",
       "      <td>...</td>\n",
       "      <td>...</td>\n",
       "      <td>...</td>\n",
       "      <td>...</td>\n",
       "      <td>...</td>\n",
       "      <td>...</td>\n",
       "      <td>...</td>\n",
       "      <td>...</td>\n",
       "    </tr>\n",
       "    <tr>\n",
       "      <th>167</th>\n",
       "      <td>경상남도</td>\n",
       "      <td>합천</td>\n",
       "      <td>0.014</td>\n",
       "      <td>0.011</td>\n",
       "      <td>0.010</td>\n",
       "      <td>0.009</td>\n",
       "      <td>0.010</td>\n",
       "      <td>0.009**</td>\n",
       "    </tr>\n",
       "    <tr>\n",
       "      <th>168</th>\n",
       "      <td>경상남도</td>\n",
       "      <td>도평균</td>\n",
       "      <td>0.016</td>\n",
       "      <td>0.014</td>\n",
       "      <td>0.013</td>\n",
       "      <td>0.011</td>\n",
       "      <td>0.012</td>\n",
       "      <td>0.009</td>\n",
       "    </tr>\n",
       "    <tr>\n",
       "      <th>169</th>\n",
       "      <td>제주특별자치도</td>\n",
       "      <td>제주특별자치도</td>\n",
       "      <td>0.011</td>\n",
       "      <td>0.011</td>\n",
       "      <td>0.010</td>\n",
       "      <td>0.010</td>\n",
       "      <td>0.009</td>\n",
       "      <td>0.006</td>\n",
       "    </tr>\n",
       "    <tr>\n",
       "      <th>170</th>\n",
       "      <td>제주특별자치도</td>\n",
       "      <td>서귀포</td>\n",
       "      <td>0.007</td>\n",
       "      <td>0.007</td>\n",
       "      <td>0.006</td>\n",
       "      <td>0.006</td>\n",
       "      <td>0.005</td>\n",
       "      <td>0.004</td>\n",
       "    </tr>\n",
       "    <tr>\n",
       "      <th>171</th>\n",
       "      <td>제주특별자치도</td>\n",
       "      <td>도평균</td>\n",
       "      <td>0.009</td>\n",
       "      <td>0.009</td>\n",
       "      <td>0.008</td>\n",
       "      <td>0.008</td>\n",
       "      <td>0.007</td>\n",
       "      <td>0.005</td>\n",
       "    </tr>\n",
       "  </tbody>\n",
       "</table>\n",
       "<p>172 rows × 8 columns</p>\n",
       "</div>"
      ],
      "text/plain": [
       "       구분(1)    구분(2) 2021.02 2021.03 2021.04 2021.05 2021.06  2021.07\n",
       "0         총계       소계   0.019   0.019   0.014   0.012   0.011    0.010\n",
       "1      서울특별시    서울특별시   0.030   0.032   0.022   0.019   0.018    0.016\n",
       "2      부산광역시    부산광역시   0.018   0.017   0.015   0.014   0.014    0.010\n",
       "3      대구광역시    대구광역시   0.022   0.018   0.013   0.012   0.010    0.009\n",
       "4      인천광역시    인천광역시   0.024   0.028   0.021   0.017   0.017    0.014\n",
       "..       ...      ...     ...     ...     ...     ...     ...      ...\n",
       "167     경상남도       합천   0.014   0.011   0.010   0.009   0.010  0.009**\n",
       "168     경상남도      도평균   0.016   0.014   0.013   0.011   0.012    0.009\n",
       "169  제주특별자치도  제주특별자치도   0.011   0.011   0.010   0.010   0.009    0.006\n",
       "170  제주특별자치도      서귀포   0.007   0.007   0.006   0.006   0.005    0.004\n",
       "171  제주특별자치도      도평균   0.009   0.009   0.008   0.008   0.007    0.005\n",
       "\n",
       "[172 rows x 8 columns]"
      ]
     },
     "execution_count": 462,
     "metadata": {},
     "output_type": "execute_result"
    }
   ],
   "source": [
    "no2_file_path = 'C:\\\\Users\\\\SAMSUNG\\\\Desktop\\\\Green-Car-Charging-Station-Site-Selection\\\\Data\\\\이산화질소_월별_도시별_대기오염도.csv'\n",
    "df_no2 = pd.read_csv(no2_file_path, encoding='cp949')\n",
    "df_no2"
   ]
  },
  {
   "cell_type": "code",
   "execution_count": null,
   "metadata": {
    "collapsed": false,
    "pycharm": {
     "name": "#%%\n"
    }
   },
   "outputs": [],
   "source": [
    "no2_col = df_no2.iloc[:,2:-1].columns.tolist()"
   ]
  },
  {
   "cell_type": "code",
   "execution_count": null,
   "metadata": {
    "collapsed": false,
    "pycharm": {
     "name": "#%%\n"
    }
   },
   "outputs": [],
   "source": [
    "df_no2.drop(columns=no2_col, inplace=True)"
   ]
  },
  {
   "cell_type": "code",
   "execution_count": null,
   "metadata": {
    "collapsed": false,
    "pycharm": {
     "name": "#%%\n"
    }
   },
   "outputs": [],
   "source": [
    "advanced_replace(df_no2,'2021.07','-',r'[^0-9.0-9]')\n",
    "df_no2['2021.07'] = df_no2['2021.07'].astype(float)"
   ]
  },
  {
   "cell_type": "code",
   "execution_count": null,
   "metadata": {
    "collapsed": false,
    "pycharm": {
     "name": "#%%\n"
    }
   },
   "outputs": [
    {
     "name": "stdout",
     "output_type": "stream",
     "text": [
      "<class 'pandas.core.frame.DataFrame'>\n",
      "RangeIndex: 172 entries, 0 to 171\n",
      "Data columns (total 3 columns):\n",
      " #   Column   Non-Null Count  Dtype  \n",
      "---  ------   --------------  -----  \n",
      " 0   구분(1)    172 non-null    object \n",
      " 1   구분(2)    172 non-null    object \n",
      " 2   2021.07  172 non-null    float64\n",
      "dtypes: float64(1), object(2)\n",
      "memory usage: 4.2+ KB\n"
     ]
    }
   ],
   "source": [
    "df_no2.info()"
   ]
  },
  {
   "cell_type": "code",
   "execution_count": null,
   "metadata": {
    "collapsed": false,
    "pycharm": {
     "name": "#%%\n"
    }
   },
   "outputs": [
    {
     "data": {
      "text/html": [
       "<div>\n",
       "<style scoped>\n",
       "    .dataframe tbody tr th:only-of-type {\n",
       "        vertical-align: middle;\n",
       "    }\n",
       "\n",
       "    .dataframe tbody tr th {\n",
       "        vertical-align: top;\n",
       "    }\n",
       "\n",
       "    .dataframe thead th {\n",
       "        text-align: right;\n",
       "    }\n",
       "</style>\n",
       "<table border=\"1\" class=\"dataframe\">\n",
       "  <thead>\n",
       "    <tr style=\"text-align: right;\">\n",
       "      <th></th>\n",
       "      <th>2021.07</th>\n",
       "    </tr>\n",
       "  </thead>\n",
       "  <tbody>\n",
       "    <tr>\n",
       "      <th>count</th>\n",
       "      <td>172.000000</td>\n",
       "    </tr>\n",
       "    <tr>\n",
       "      <th>mean</th>\n",
       "      <td>0.007610</td>\n",
       "    </tr>\n",
       "    <tr>\n",
       "      <th>std</th>\n",
       "      <td>0.003294</td>\n",
       "    </tr>\n",
       "    <tr>\n",
       "      <th>min</th>\n",
       "      <td>0.003000</td>\n",
       "    </tr>\n",
       "    <tr>\n",
       "      <th>25%</th>\n",
       "      <td>0.005000</td>\n",
       "    </tr>\n",
       "    <tr>\n",
       "      <th>50%</th>\n",
       "      <td>0.007000</td>\n",
       "    </tr>\n",
       "    <tr>\n",
       "      <th>75%</th>\n",
       "      <td>0.009250</td>\n",
       "    </tr>\n",
       "    <tr>\n",
       "      <th>max</th>\n",
       "      <td>0.019000</td>\n",
       "    </tr>\n",
       "  </tbody>\n",
       "</table>\n",
       "</div>"
      ],
      "text/plain": [
       "          2021.07\n",
       "count  172.000000\n",
       "mean     0.007610\n",
       "std      0.003294\n",
       "min      0.003000\n",
       "25%      0.005000\n",
       "50%      0.007000\n",
       "75%      0.009250\n",
       "max      0.019000"
      ]
     },
     "execution_count": 467,
     "metadata": {},
     "output_type": "execute_result"
    }
   ],
   "source": [
    "df_no2.describe()"
   ]
  },
  {
   "cell_type": "code",
   "execution_count": null,
   "metadata": {},
   "outputs": [
    {
     "name": "stderr",
     "output_type": "stream",
     "text": [
      "C:\\Users\\SAMSUNG\\AppData\\Local\\Temp\\ipykernel_23312\\3824945817.py:1: FutureWarning: Dropping of nuisance columns in DataFrame reductions (with 'numeric_only=None') is deprecated; in a future version this will raise TypeError.  Select only valid columns before calling the reduction.\n",
      "  mean = df_no2.mean().loc['2021.07']\n",
      "C:\\Users\\SAMSUNG\\AppData\\Local\\Temp\\ipykernel_23312\\3824945817.py:2: FutureWarning: Dropping of nuisance columns in DataFrame reductions (with 'numeric_only=None') is deprecated; in a future version this will raise TypeError.  Select only valid columns before calling the reduction.\n",
      "  std = df_no2.std().loc['2021.07']\n"
     ]
    },
    {
     "data": {
      "image/png": "[encoded data removed]",
      "text/plain": [
       "<Figure size 432x288 with 1 Axes>"
      ]
     },
     "metadata": {
      "needs_background": "light"
     },
     "output_type": "display_data"
    }
   ],
   "source": [
    "mean = df_no2.mean().loc['2021.07']\n",
    "std = df_no2.std().loc['2021.07']\n",
    "min = df_no2.min().loc['2021.07']\n",
    "max = df_no2.max().loc['2021.07']\n",
    "show_norm(mean,std,min,max)"
   ]
  },
  {
   "cell_type": "markdown",
   "metadata": {},
   "source": [
    "### 부산광역시 이산화질소 누적확률 구하기"
   ]
  },
  {
   "cell_type": "code",
   "execution_count": null,
   "metadata": {},
   "outputs": [
    {
     "data": {
      "image/png": "[encoded data removed]",
      "text/plain": [
       "<Figure size 432x288 with 1 Axes>"
      ]
     },
     "metadata": {
      "needs_background": "light"
     },
     "output_type": "display_data"
    }
   ],
   "source": [
    "busan_no2 = df_no2[df_no2['구분(2)']=='부산광역시'].loc[2,'2021.07']\n",
    "no2_pro = cal_norm(mean,std,min,max,busan_no2)"
   ]
  },
  {
   "cell_type": "markdown",
   "metadata": {
    "collapsed": false
   },
   "source": [
    "### 일산화탄소 월별 데이터 불러오기"
   ]
  },
  {
   "cell_type": "code",
   "execution_count": null,
   "metadata": {
    "collapsed": false,
    "pycharm": {
     "name": "#%%\n"
    }
   },
   "outputs": [
    {
     "data": {
      "text/html": [
       "<div>\n",
       "<style scoped>\n",
       "    .dataframe tbody tr th:only-of-type {\n",
       "        vertical-align: middle;\n",
       "    }\n",
       "\n",
       "    .dataframe tbody tr th {\n",
       "        vertical-align: top;\n",
       "    }\n",
       "\n",
       "    .dataframe thead th {\n",
       "        text-align: right;\n",
       "    }\n",
       "</style>\n",
       "<table border=\"1\" class=\"dataframe\">\n",
       "  <thead>\n",
       "    <tr style=\"text-align: right;\">\n",
       "      <th></th>\n",
       "      <th>구분(1)</th>\n",
       "      <th>구분(2)</th>\n",
       "      <th>2021.02</th>\n",
       "      <th>2021.03</th>\n",
       "      <th>2021.04</th>\n",
       "      <th>2021.05</th>\n",
       "      <th>2021.06</th>\n",
       "      <th>2021.07</th>\n",
       "    </tr>\n",
       "  </thead>\n",
       "  <tbody>\n",
       "    <tr>\n",
       "      <th>0</th>\n",
       "      <td>총계</td>\n",
       "      <td>소계</td>\n",
       "      <td>0.5</td>\n",
       "      <td>0.5</td>\n",
       "      <td>0.4</td>\n",
       "      <td>0.4</td>\n",
       "      <td>0.4</td>\n",
       "      <td>0.3</td>\n",
       "    </tr>\n",
       "    <tr>\n",
       "      <th>1</th>\n",
       "      <td>서울특별시</td>\n",
       "      <td>서울특별시</td>\n",
       "      <td>0.6</td>\n",
       "      <td>0.5</td>\n",
       "      <td>0.4</td>\n",
       "      <td>0.4</td>\n",
       "      <td>0.4</td>\n",
       "      <td>0.3</td>\n",
       "    </tr>\n",
       "    <tr>\n",
       "      <th>2</th>\n",
       "      <td>부산광역시</td>\n",
       "      <td>부산광역시</td>\n",
       "      <td>0.4</td>\n",
       "      <td>0.4</td>\n",
       "      <td>0.3</td>\n",
       "      <td>0.3</td>\n",
       "      <td>0.3</td>\n",
       "      <td>0.2</td>\n",
       "    </tr>\n",
       "    <tr>\n",
       "      <th>3</th>\n",
       "      <td>대구광역시</td>\n",
       "      <td>대구광역시</td>\n",
       "      <td>0.5</td>\n",
       "      <td>0.4</td>\n",
       "      <td>0.3</td>\n",
       "      <td>0.4</td>\n",
       "      <td>0.4</td>\n",
       "      <td>0.3</td>\n",
       "    </tr>\n",
       "    <tr>\n",
       "      <th>4</th>\n",
       "      <td>인천광역시</td>\n",
       "      <td>인천광역시</td>\n",
       "      <td>0.6</td>\n",
       "      <td>0.6</td>\n",
       "      <td>0.4</td>\n",
       "      <td>0.4</td>\n",
       "      <td>0.4</td>\n",
       "      <td>0.4</td>\n",
       "    </tr>\n",
       "    <tr>\n",
       "      <th>...</th>\n",
       "      <td>...</td>\n",
       "      <td>...</td>\n",
       "      <td>...</td>\n",
       "      <td>...</td>\n",
       "      <td>...</td>\n",
       "      <td>...</td>\n",
       "      <td>...</td>\n",
       "      <td>...</td>\n",
       "    </tr>\n",
       "    <tr>\n",
       "      <th>167</th>\n",
       "      <td>경상남도</td>\n",
       "      <td>합천</td>\n",
       "      <td>0.4</td>\n",
       "      <td>0.3</td>\n",
       "      <td>0.3</td>\n",
       "      <td>0.3</td>\n",
       "      <td>0.3</td>\n",
       "      <td>0.2**</td>\n",
       "    </tr>\n",
       "    <tr>\n",
       "      <th>168</th>\n",
       "      <td>경상남도</td>\n",
       "      <td>도평균</td>\n",
       "      <td>0.5</td>\n",
       "      <td>0.4</td>\n",
       "      <td>0.4</td>\n",
       "      <td>0.4</td>\n",
       "      <td>0.4</td>\n",
       "      <td>0.3</td>\n",
       "    </tr>\n",
       "    <tr>\n",
       "      <th>169</th>\n",
       "      <td>제주특별자치도</td>\n",
       "      <td>제주특별자치도</td>\n",
       "      <td>0.3</td>\n",
       "      <td>0.3</td>\n",
       "      <td>0.3</td>\n",
       "      <td>0.3</td>\n",
       "      <td>0.3</td>\n",
       "      <td>0.2</td>\n",
       "    </tr>\n",
       "    <tr>\n",
       "      <th>170</th>\n",
       "      <td>제주특별자치도</td>\n",
       "      <td>서귀포</td>\n",
       "      <td>0.3</td>\n",
       "      <td>0.3</td>\n",
       "      <td>0.3</td>\n",
       "      <td>0.3</td>\n",
       "      <td>0.2</td>\n",
       "      <td>0.2</td>\n",
       "    </tr>\n",
       "    <tr>\n",
       "      <th>171</th>\n",
       "      <td>제주특별자치도</td>\n",
       "      <td>도평균</td>\n",
       "      <td>0.3</td>\n",
       "      <td>0.3</td>\n",
       "      <td>0.3</td>\n",
       "      <td>0.3</td>\n",
       "      <td>0.3</td>\n",
       "      <td>0.2</td>\n",
       "    </tr>\n",
       "  </tbody>\n",
       "</table>\n",
       "<p>172 rows × 8 columns</p>\n",
       "</div>"
      ],
      "text/plain": [
       "       구분(1)    구분(2) 2021.02 2021.03 2021.04 2021.05 2021.06 2021.07\n",
       "0         총계       소계     0.5     0.5     0.4     0.4     0.4     0.3\n",
       "1      서울특별시    서울특별시     0.6     0.5     0.4     0.4     0.4     0.3\n",
       "2      부산광역시    부산광역시     0.4     0.4     0.3     0.3     0.3     0.2\n",
       "3      대구광역시    대구광역시     0.5     0.4     0.3     0.4     0.4     0.3\n",
       "4      인천광역시    인천광역시     0.6     0.6     0.4     0.4     0.4     0.4\n",
       "..       ...      ...     ...     ...     ...     ...     ...     ...\n",
       "167     경상남도       합천     0.4     0.3     0.3     0.3     0.3   0.2**\n",
       "168     경상남도      도평균     0.5     0.4     0.4     0.4     0.4     0.3\n",
       "169  제주특별자치도  제주특별자치도     0.3     0.3     0.3     0.3     0.3     0.2\n",
       "170  제주특별자치도      서귀포     0.3     0.3     0.3     0.3     0.2     0.2\n",
       "171  제주특별자치도      도평균     0.3     0.3     0.3     0.3     0.3     0.2\n",
       "\n",
       "[172 rows x 8 columns]"
      ]
     },
     "execution_count": 470,
     "metadata": {},
     "output_type": "execute_result"
    }
   ],
   "source": [
    "co_file_path = 'C:\\\\Users\\\\SAMSUNG\\\\Desktop\\\\Green-Car-Charging-Station-Site-Selection\\\\Data\\\\일산화탄소_월별_도시별_대기오염도.csv'\n",
    "df_co = pd.read_csv(co_file_path, encoding='cp949')\n",
    "df_co"
   ]
  },
  {
   "cell_type": "code",
   "execution_count": null,
   "metadata": {
    "collapsed": false,
    "pycharm": {
     "name": "#%%\n"
    }
   },
   "outputs": [],
   "source": [
    "co_col = df_co.iloc[:,2:-1].columns.tolist()"
   ]
  },
  {
   "cell_type": "code",
   "execution_count": null,
   "metadata": {
    "collapsed": false,
    "pycharm": {
     "name": "#%%\n"
    }
   },
   "outputs": [],
   "source": [
    "df_co.drop(columns=co_col, inplace=True)"
   ]
  },
  {
   "cell_type": "code",
   "execution_count": null,
   "metadata": {
    "collapsed": false,
    "pycharm": {
     "name": "#%%\n"
    }
   },
   "outputs": [],
   "source": [
    "advanced_replace(df_co, '2021.07','-',r'[^0-9.0-9]')\n",
    "df_co['2021.07'] = df_co['2021.07'].astype(float)"
   ]
  },
  {
   "cell_type": "code",
   "execution_count": null,
   "metadata": {
    "collapsed": false,
    "pycharm": {
     "name": "#%%\n"
    }
   },
   "outputs": [
    {
     "name": "stdout",
     "output_type": "stream",
     "text": [
      "<class 'pandas.core.frame.DataFrame'>\n",
      "RangeIndex: 172 entries, 0 to 171\n",
      "Data columns (total 3 columns):\n",
      " #   Column   Non-Null Count  Dtype  \n",
      "---  ------   --------------  -----  \n",
      " 0   구분(1)    172 non-null    object \n",
      " 1   구분(2)    172 non-null    object \n",
      " 2   2021.07  172 non-null    float64\n",
      "dtypes: float64(1), object(2)\n",
      "memory usage: 4.2+ KB\n"
     ]
    }
   ],
   "source": [
    "df_co.info()"
   ]
  },
  {
   "cell_type": "code",
   "execution_count": null,
   "metadata": {
    "collapsed": false,
    "pycharm": {
     "name": "#%%\n"
    }
   },
   "outputs": [
    {
     "data": {
      "text/html": [
       "<div>\n",
       "<style scoped>\n",
       "    .dataframe tbody tr th:only-of-type {\n",
       "        vertical-align: middle;\n",
       "    }\n",
       "\n",
       "    .dataframe tbody tr th {\n",
       "        vertical-align: top;\n",
       "    }\n",
       "\n",
       "    .dataframe thead th {\n",
       "        text-align: right;\n",
       "    }\n",
       "</style>\n",
       "<table border=\"1\" class=\"dataframe\">\n",
       "  <thead>\n",
       "    <tr style=\"text-align: right;\">\n",
       "      <th></th>\n",
       "      <th>2021.07</th>\n",
       "    </tr>\n",
       "  </thead>\n",
       "  <tbody>\n",
       "    <tr>\n",
       "      <th>count</th>\n",
       "      <td>172.000000</td>\n",
       "    </tr>\n",
       "    <tr>\n",
       "      <th>mean</th>\n",
       "      <td>0.328488</td>\n",
       "    </tr>\n",
       "    <tr>\n",
       "      <th>std</th>\n",
       "      <td>0.084825</td>\n",
       "    </tr>\n",
       "    <tr>\n",
       "      <th>min</th>\n",
       "      <td>0.100000</td>\n",
       "    </tr>\n",
       "    <tr>\n",
       "      <th>25%</th>\n",
       "      <td>0.300000</td>\n",
       "    </tr>\n",
       "    <tr>\n",
       "      <th>50%</th>\n",
       "      <td>0.300000</td>\n",
       "    </tr>\n",
       "    <tr>\n",
       "      <th>75%</th>\n",
       "      <td>0.400000</td>\n",
       "    </tr>\n",
       "    <tr>\n",
       "      <th>max</th>\n",
       "      <td>0.600000</td>\n",
       "    </tr>\n",
       "  </tbody>\n",
       "</table>\n",
       "</div>"
      ],
      "text/plain": [
       "          2021.07\n",
       "count  172.000000\n",
       "mean     0.328488\n",
       "std      0.084825\n",
       "min      0.100000\n",
       "25%      0.300000\n",
       "50%      0.300000\n",
       "75%      0.400000\n",
       "max      0.600000"
      ]
     },
     "execution_count": 475,
     "metadata": {},
     "output_type": "execute_result"
    }
   ],
   "source": [
    "df_co.describe()"
   ]
  },
  {
   "cell_type": "code",
   "execution_count": null,
   "metadata": {},
   "outputs": [
    {
     "name": "stderr",
     "output_type": "stream",
     "text": [
      "C:\\Users\\SAMSUNG\\AppData\\Local\\Temp\\ipykernel_23312\\1455709455.py:1: FutureWarning: Dropping of nuisance columns in DataFrame reductions (with 'numeric_only=None') is deprecated; in a future version this will raise TypeError.  Select only valid columns before calling the reduction.\n",
      "  mean = df_co.mean().loc['2021.07']\n",
      "C:\\Users\\SAMSUNG\\AppData\\Local\\Temp\\ipykernel_23312\\1455709455.py:2: FutureWarning: Dropping of nuisance columns in DataFrame reductions (with 'numeric_only=None') is deprecated; in a future version this will raise TypeError.  Select only valid columns before calling the reduction.\n",
      "  std = df_co.std().loc['2021.07']\n"
     ]
    },
    {
     "data": {
      "image/png": "[encoded data removed]",
      "text/plain": [
       "<Figure size 432x288 with 1 Axes>"
      ]
     },
     "metadata": {
      "needs_background": "light"
     },
     "output_type": "display_data"
    }
   ],
   "source": [
    "mean = df_co.mean().loc['2021.07']\n",
    "std = df_co.std().loc['2021.07']\n",
    "min = df_co.min().loc['2021.07']\n",
    "max = df_co.max().loc['2021.07']\n",
    "show_norm(mean,std,min,max)"
   ]
  },
  {
   "cell_type": "markdown",
   "metadata": {},
   "source": [
    "### 부산광역시 일산화탄소 누적확률 구하기"
   ]
  },
  {
   "cell_type": "code",
   "execution_count": null,
   "metadata": {},
   "outputs": [
    {
     "data": {
      "image/png": "[encoded data removed]",
      "text/plain": [
       "<Figure size 432x288 with 1 Axes>"
      ]
     },
     "metadata": {
      "needs_background": "light"
     },
     "output_type": "display_data"
    }
   ],
   "source": [
    "busan_co = df_co[df_co['구분(2)']=='부산광역시'].loc[2,'2021.07']\n",
    "co_pro = cal_norm(mean,std,min,max,busan_co)"
   ]
  },
  {
   "cell_type": "markdown",
   "metadata": {
    "collapsed": false
   },
   "source": [
    "### 미세먼지 월별 데이터 불러오기"
   ]
  },
  {
   "cell_type": "code",
   "execution_count": null,
   "metadata": {
    "collapsed": false,
    "pycharm": {
     "name": "#%%\n"
    }
   },
   "outputs": [
    {
     "data": {
      "text/html": [
       "<div>\n",
       "<style scoped>\n",
       "    .dataframe tbody tr th:only-of-type {\n",
       "        vertical-align: middle;\n",
       "    }\n",
       "\n",
       "    .dataframe tbody tr th {\n",
       "        vertical-align: top;\n",
       "    }\n",
       "\n",
       "    .dataframe thead th {\n",
       "        text-align: right;\n",
       "    }\n",
       "</style>\n",
       "<table border=\"1\" class=\"dataframe\">\n",
       "  <thead>\n",
       "    <tr style=\"text-align: right;\">\n",
       "      <th></th>\n",
       "      <th>구분(1)</th>\n",
       "      <th>구분(2)</th>\n",
       "      <th>2021.02</th>\n",
       "      <th>2021.03</th>\n",
       "      <th>2021.04</th>\n",
       "      <th>2021.05</th>\n",
       "      <th>2021.06</th>\n",
       "      <th>2021.07</th>\n",
       "    </tr>\n",
       "  </thead>\n",
       "  <tbody>\n",
       "    <tr>\n",
       "      <th>0</th>\n",
       "      <td>총계</td>\n",
       "      <td>소계</td>\n",
       "      <td>25</td>\n",
       "      <td>27</td>\n",
       "      <td>17</td>\n",
       "      <td>19</td>\n",
       "      <td>19</td>\n",
       "      <td>12</td>\n",
       "    </tr>\n",
       "    <tr>\n",
       "      <th>1</th>\n",
       "      <td>서울특별시</td>\n",
       "      <td>서울특별시</td>\n",
       "      <td>29</td>\n",
       "      <td>32</td>\n",
       "      <td>19</td>\n",
       "      <td>20</td>\n",
       "      <td>19</td>\n",
       "      <td>15</td>\n",
       "    </tr>\n",
       "    <tr>\n",
       "      <th>2</th>\n",
       "      <td>부산광역시</td>\n",
       "      <td>부산광역시</td>\n",
       "      <td>21</td>\n",
       "      <td>21</td>\n",
       "      <td>15</td>\n",
       "      <td>16</td>\n",
       "      <td>15</td>\n",
       "      <td>9</td>\n",
       "    </tr>\n",
       "    <tr>\n",
       "      <th>3</th>\n",
       "      <td>대구광역시</td>\n",
       "      <td>대구광역시</td>\n",
       "      <td>24</td>\n",
       "      <td>23</td>\n",
       "      <td>17</td>\n",
       "      <td>18</td>\n",
       "      <td>20</td>\n",
       "      <td>10</td>\n",
       "    </tr>\n",
       "    <tr>\n",
       "      <th>4</th>\n",
       "      <td>인천광역시</td>\n",
       "      <td>인천광역시</td>\n",
       "      <td>28</td>\n",
       "      <td>33</td>\n",
       "      <td>19</td>\n",
       "      <td>20</td>\n",
       "      <td>23</td>\n",
       "      <td>19</td>\n",
       "    </tr>\n",
       "    <tr>\n",
       "      <th>...</th>\n",
       "      <td>...</td>\n",
       "      <td>...</td>\n",
       "      <td>...</td>\n",
       "      <td>...</td>\n",
       "      <td>...</td>\n",
       "      <td>...</td>\n",
       "      <td>...</td>\n",
       "      <td>...</td>\n",
       "    </tr>\n",
       "    <tr>\n",
       "      <th>167</th>\n",
       "      <td>경상남도</td>\n",
       "      <td>합천</td>\n",
       "      <td>18</td>\n",
       "      <td>17</td>\n",
       "      <td>14</td>\n",
       "      <td>15</td>\n",
       "      <td>18</td>\n",
       "      <td>11**</td>\n",
       "    </tr>\n",
       "    <tr>\n",
       "      <th>168</th>\n",
       "      <td>경상남도</td>\n",
       "      <td>도평균</td>\n",
       "      <td>19</td>\n",
       "      <td>19</td>\n",
       "      <td>15</td>\n",
       "      <td>15</td>\n",
       "      <td>16</td>\n",
       "      <td>12*</td>\n",
       "    </tr>\n",
       "    <tr>\n",
       "      <th>169</th>\n",
       "      <td>제주특별자치도</td>\n",
       "      <td>제주특별자치도</td>\n",
       "      <td>18</td>\n",
       "      <td>24</td>\n",
       "      <td>14</td>\n",
       "      <td>16</td>\n",
       "      <td>14</td>\n",
       "      <td>8</td>\n",
       "    </tr>\n",
       "    <tr>\n",
       "      <th>170</th>\n",
       "      <td>제주특별자치도</td>\n",
       "      <td>서귀포</td>\n",
       "      <td>16</td>\n",
       "      <td>23</td>\n",
       "      <td>14</td>\n",
       "      <td>16</td>\n",
       "      <td>12</td>\n",
       "      <td>8</td>\n",
       "    </tr>\n",
       "    <tr>\n",
       "      <th>171</th>\n",
       "      <td>제주특별자치도</td>\n",
       "      <td>도평균</td>\n",
       "      <td>17</td>\n",
       "      <td>23</td>\n",
       "      <td>14</td>\n",
       "      <td>16</td>\n",
       "      <td>13</td>\n",
       "      <td>8</td>\n",
       "    </tr>\n",
       "  </tbody>\n",
       "</table>\n",
       "<p>172 rows × 8 columns</p>\n",
       "</div>"
      ],
      "text/plain": [
       "       구분(1)    구분(2) 2021.02 2021.03 2021.04 2021.05 2021.06 2021.07\n",
       "0         총계       소계      25      27      17      19      19      12\n",
       "1      서울특별시    서울특별시      29      32      19      20      19      15\n",
       "2      부산광역시    부산광역시      21      21      15      16      15       9\n",
       "3      대구광역시    대구광역시      24      23      17      18      20      10\n",
       "4      인천광역시    인천광역시      28      33      19      20      23      19\n",
       "..       ...      ...     ...     ...     ...     ...     ...     ...\n",
       "167     경상남도       합천      18      17      14      15      18    11**\n",
       "168     경상남도      도평균      19      19      15      15      16     12*\n",
       "169  제주특별자치도  제주특별자치도      18      24      14      16      14       8\n",
       "170  제주특별자치도      서귀포      16      23      14      16      12       8\n",
       "171  제주특별자치도      도평균      17      23      14      16      13       8\n",
       "\n",
       "[172 rows x 8 columns]"
      ]
     },
     "execution_count": 478,
     "metadata": {},
     "output_type": "execute_result"
    }
   ],
   "source": [
    "pm25_file_path = 'C:\\\\Users\\\\SAMSUNG\\\\Desktop\\\\Green-Car-Charging-Station-Site-Selection\\\\Data\\\\미세먼지_PM2.5__월별_도시별_대기오염도.csv'\n",
    "df_pm25 = pd.read_csv(pm25_file_path, encoding='cp949')\n",
    "df_pm25"
   ]
  },
  {
   "cell_type": "code",
   "execution_count": null,
   "metadata": {
    "collapsed": false,
    "pycharm": {
     "name": "#%%\n"
    }
   },
   "outputs": [
    {
     "name": "stdout",
     "output_type": "stream",
     "text": [
      "<class 'pandas.core.frame.DataFrame'>\n",
      "RangeIndex: 172 entries, 0 to 171\n",
      "Data columns (total 8 columns):\n",
      " #   Column   Non-Null Count  Dtype \n",
      "---  ------   --------------  ----- \n",
      " 0   구분(1)    172 non-null    object\n",
      " 1   구분(2)    172 non-null    object\n",
      " 2   2021.02  172 non-null    object\n",
      " 3   2021.03  172 non-null    object\n",
      " 4   2021.04  172 non-null    object\n",
      " 5   2021.05  172 non-null    object\n",
      " 6   2021.06  172 non-null    object\n",
      " 7   2021.07  172 non-null    object\n",
      "dtypes: object(8)\n",
      "memory usage: 10.9+ KB\n"
     ]
    }
   ],
   "source": [
    "df_pm25.info()"
   ]
  },
  {
   "cell_type": "code",
   "execution_count": null,
   "metadata": {
    "collapsed": false,
    "pycharm": {
     "name": "#%%\n"
    }
   },
   "outputs": [],
   "source": [
    "pm25_col = df_pm25.iloc[:,2:-1].columns.tolist()"
   ]
  },
  {
   "cell_type": "code",
   "execution_count": null,
   "metadata": {
    "collapsed": false,
    "pycharm": {
     "name": "#%%\n"
    }
   },
   "outputs": [],
   "source": [
    "df_pm25.drop(columns=pm25_col, inplace=True)"
   ]
  },
  {
   "cell_type": "code",
   "execution_count": null,
   "metadata": {
    "collapsed": false,
    "pycharm": {
     "name": "#%%\n"
    }
   },
   "outputs": [],
   "source": [
    "advanced_replace(df_pm25, '2021.07','-',r'[^0-9.0-9]')\n",
    "df_pm25['2021.07'] = df_pm25['2021.07'].astype(float)"
   ]
  },
  {
   "cell_type": "code",
   "execution_count": null,
   "metadata": {
    "collapsed": false,
    "pycharm": {
     "name": "#%%\n"
    }
   },
   "outputs": [
    {
     "name": "stdout",
     "output_type": "stream",
     "text": [
      "<class 'pandas.core.frame.DataFrame'>\n",
      "RangeIndex: 172 entries, 0 to 171\n",
      "Data columns (total 3 columns):\n",
      " #   Column   Non-Null Count  Dtype  \n",
      "---  ------   --------------  -----  \n",
      " 0   구분(1)    172 non-null    object \n",
      " 1   구분(2)    172 non-null    object \n",
      " 2   2021.07  172 non-null    float64\n",
      "dtypes: float64(1), object(2)\n",
      "memory usage: 4.2+ KB\n"
     ]
    }
   ],
   "source": [
    "df_pm25.info()"
   ]
  },
  {
   "cell_type": "code",
   "execution_count": null,
   "metadata": {
    "collapsed": false,
    "pycharm": {
     "name": "#%%\n"
    }
   },
   "outputs": [
    {
     "data": {
      "text/html": [
       "<div>\n",
       "<style scoped>\n",
       "    .dataframe tbody tr th:only-of-type {\n",
       "        vertical-align: middle;\n",
       "    }\n",
       "\n",
       "    .dataframe tbody tr th {\n",
       "        vertical-align: top;\n",
       "    }\n",
       "\n",
       "    .dataframe thead th {\n",
       "        text-align: right;\n",
       "    }\n",
       "</style>\n",
       "<table border=\"1\" class=\"dataframe\">\n",
       "  <thead>\n",
       "    <tr style=\"text-align: right;\">\n",
       "      <th></th>\n",
       "      <th>2021.07</th>\n",
       "    </tr>\n",
       "  </thead>\n",
       "  <tbody>\n",
       "    <tr>\n",
       "      <th>count</th>\n",
       "      <td>172.000000</td>\n",
       "    </tr>\n",
       "    <tr>\n",
       "      <th>mean</th>\n",
       "      <td>11.558140</td>\n",
       "    </tr>\n",
       "    <tr>\n",
       "      <th>std</th>\n",
       "      <td>2.888188</td>\n",
       "    </tr>\n",
       "    <tr>\n",
       "      <th>min</th>\n",
       "      <td>0.000000</td>\n",
       "    </tr>\n",
       "    <tr>\n",
       "      <th>25%</th>\n",
       "      <td>10.000000</td>\n",
       "    </tr>\n",
       "    <tr>\n",
       "      <th>50%</th>\n",
       "      <td>11.000000</td>\n",
       "    </tr>\n",
       "    <tr>\n",
       "      <th>75%</th>\n",
       "      <td>13.000000</td>\n",
       "    </tr>\n",
       "    <tr>\n",
       "      <th>max</th>\n",
       "      <td>19.000000</td>\n",
       "    </tr>\n",
       "  </tbody>\n",
       "</table>\n",
       "</div>"
      ],
      "text/plain": [
       "          2021.07\n",
       "count  172.000000\n",
       "mean    11.558140\n",
       "std      2.888188\n",
       "min      0.000000\n",
       "25%     10.000000\n",
       "50%     11.000000\n",
       "75%     13.000000\n",
       "max     19.000000"
      ]
     },
     "execution_count": 484,
     "metadata": {},
     "output_type": "execute_result"
    }
   ],
   "source": [
    "df_pm25.describe()"
   ]
  },
  {
   "cell_type": "code",
   "execution_count": null,
   "metadata": {},
   "outputs": [
    {
     "name": "stderr",
     "output_type": "stream",
     "text": [
      "C:\\Users\\SAMSUNG\\AppData\\Local\\Temp\\ipykernel_23312\\2716057740.py:1: FutureWarning: Dropping of nuisance columns in DataFrame reductions (with 'numeric_only=None') is deprecated; in a future version this will raise TypeError.  Select only valid columns before calling the reduction.\n",
      "  mean = df_pm25.mean().loc['2021.07']\n",
      "C:\\Users\\SAMSUNG\\AppData\\Local\\Temp\\ipykernel_23312\\2716057740.py:2: FutureWarning: Dropping of nuisance columns in DataFrame reductions (with 'numeric_only=None') is deprecated; in a future version this will raise TypeError.  Select only valid columns before calling the reduction.\n",
      "  std = df_pm25.std().loc['2021.07']\n"
     ]
    },
    {
     "data": {
      "image/png": "[encoded data removed]",
      "text/plain": [
       "<Figure size 432x288 with 1 Axes>"
      ]
     },
     "metadata": {
      "needs_background": "light"
     },
     "output_type": "display_data"
    }
   ],
   "source": [
    "mean = df_pm25.mean().loc['2021.07']\n",
    "std = df_pm25.std().loc['2021.07']\n",
    "min = df_pm25.min().loc['2021.07']\n",
    "max = df_pm25.max().loc['2021.07']\n",
    "show_norm(mean,std,min,max)"
   ]
  },
  {
   "cell_type": "code",
   "execution_count": null,
   "metadata": {},
   "outputs": [
    {
     "data": {
      "image/png": "[encoded data removed]",
      "text/plain": [
       "<Figure size 432x288 with 1 Axes>"
      ]
     },
     "metadata": {
      "needs_background": "light"
     },
     "output_type": "display_data"
    }
   ],
   "source": [
    "busan_pm25 = df_pm25[df_pm25['구분(2)']=='부산광역시'].loc[2,'2021.07']\n",
    "pm25_pro = cal_norm(mean,std,min,max,busan_pm25)"
   ]
  },
  {
   "cell_type": "code",
   "execution_count": null,
   "metadata": {
    "collapsed": false,
    "pycharm": {
     "name": "#%%\n"
    }
   },
   "outputs": [
    {
     "data": {
      "text/html": [
       "<div>\n",
       "<style scoped>\n",
       "    .dataframe tbody tr th:only-of-type {\n",
       "        vertical-align: middle;\n",
       "    }\n",
       "\n",
       "    .dataframe tbody tr th {\n",
       "        vertical-align: top;\n",
       "    }\n",
       "\n",
       "    .dataframe thead th {\n",
       "        text-align: right;\n",
       "    }\n",
       "</style>\n",
       "<table border=\"1\" class=\"dataframe\">\n",
       "  <thead>\n",
       "    <tr style=\"text-align: right;\">\n",
       "      <th></th>\n",
       "      <th>구분(1)</th>\n",
       "      <th>구분(2)</th>\n",
       "      <th>2021.02</th>\n",
       "      <th>2021.03</th>\n",
       "      <th>2021.04</th>\n",
       "      <th>2021.05</th>\n",
       "      <th>2021.06</th>\n",
       "      <th>2021.07</th>\n",
       "    </tr>\n",
       "  </thead>\n",
       "  <tbody>\n",
       "    <tr>\n",
       "      <th>0</th>\n",
       "      <td>총계</td>\n",
       "      <td>소계</td>\n",
       "      <td>43</td>\n",
       "      <td>65</td>\n",
       "      <td>41</td>\n",
       "      <td>52</td>\n",
       "      <td>32</td>\n",
       "      <td>22</td>\n",
       "    </tr>\n",
       "    <tr>\n",
       "      <th>1</th>\n",
       "      <td>서울특별시</td>\n",
       "      <td>서울특별시</td>\n",
       "      <td>48</td>\n",
       "      <td>67</td>\n",
       "      <td>42</td>\n",
       "      <td>61</td>\n",
       "      <td>33</td>\n",
       "      <td>24</td>\n",
       "    </tr>\n",
       "    <tr>\n",
       "      <th>2</th>\n",
       "      <td>부산광역시</td>\n",
       "      <td>부산광역시</td>\n",
       "      <td>37</td>\n",
       "      <td>60</td>\n",
       "      <td>37</td>\n",
       "      <td>36</td>\n",
       "      <td>26</td>\n",
       "      <td>18</td>\n",
       "    </tr>\n",
       "    <tr>\n",
       "      <th>3</th>\n",
       "      <td>대구광역시</td>\n",
       "      <td>대구광역시</td>\n",
       "      <td>41</td>\n",
       "      <td>59</td>\n",
       "      <td>42</td>\n",
       "      <td>41</td>\n",
       "      <td>35</td>\n",
       "      <td>19</td>\n",
       "    </tr>\n",
       "    <tr>\n",
       "      <th>4</th>\n",
       "      <td>인천광역시</td>\n",
       "      <td>인천광역시</td>\n",
       "      <td>46</td>\n",
       "      <td>69</td>\n",
       "      <td>42</td>\n",
       "      <td>59</td>\n",
       "      <td>36</td>\n",
       "      <td>29</td>\n",
       "    </tr>\n",
       "    <tr>\n",
       "      <th>...</th>\n",
       "      <td>...</td>\n",
       "      <td>...</td>\n",
       "      <td>...</td>\n",
       "      <td>...</td>\n",
       "      <td>...</td>\n",
       "      <td>...</td>\n",
       "      <td>...</td>\n",
       "      <td>...</td>\n",
       "    </tr>\n",
       "    <tr>\n",
       "      <th>167</th>\n",
       "      <td>경상남도</td>\n",
       "      <td>합천</td>\n",
       "      <td>29</td>\n",
       "      <td>44</td>\n",
       "      <td>32</td>\n",
       "      <td>36</td>\n",
       "      <td>27</td>\n",
       "      <td>17**</td>\n",
       "    </tr>\n",
       "    <tr>\n",
       "      <th>168</th>\n",
       "      <td>경상남도</td>\n",
       "      <td>도평균</td>\n",
       "      <td>33</td>\n",
       "      <td>53</td>\n",
       "      <td>34</td>\n",
       "      <td>36</td>\n",
       "      <td>27</td>\n",
       "      <td>20</td>\n",
       "    </tr>\n",
       "    <tr>\n",
       "      <th>169</th>\n",
       "      <td>제주특별자치도</td>\n",
       "      <td>제주특별자치도</td>\n",
       "      <td>36</td>\n",
       "      <td>76</td>\n",
       "      <td>37</td>\n",
       "      <td>44</td>\n",
       "      <td>27</td>\n",
       "      <td>17</td>\n",
       "    </tr>\n",
       "    <tr>\n",
       "      <th>170</th>\n",
       "      <td>제주특별자치도</td>\n",
       "      <td>서귀포</td>\n",
       "      <td>33</td>\n",
       "      <td>68</td>\n",
       "      <td>35</td>\n",
       "      <td>40</td>\n",
       "      <td>23</td>\n",
       "      <td>21</td>\n",
       "    </tr>\n",
       "    <tr>\n",
       "      <th>171</th>\n",
       "      <td>제주특별자치도</td>\n",
       "      <td>도평균</td>\n",
       "      <td>34</td>\n",
       "      <td>72</td>\n",
       "      <td>36</td>\n",
       "      <td>42</td>\n",
       "      <td>25</td>\n",
       "      <td>19</td>\n",
       "    </tr>\n",
       "  </tbody>\n",
       "</table>\n",
       "<p>172 rows × 8 columns</p>\n",
       "</div>"
      ],
      "text/plain": [
       "       구분(1)    구분(2) 2021.02 2021.03 2021.04 2021.05 2021.06 2021.07\n",
       "0         총계       소계      43      65      41      52      32      22\n",
       "1      서울특별시    서울특별시      48      67      42      61      33      24\n",
       "2      부산광역시    부산광역시      37      60      37      36      26      18\n",
       "3      대구광역시    대구광역시      41      59      42      41      35      19\n",
       "4      인천광역시    인천광역시      46      69      42      59      36      29\n",
       "..       ...      ...     ...     ...     ...     ...     ...     ...\n",
       "167     경상남도       합천      29      44      32      36      27    17**\n",
       "168     경상남도      도평균      33      53      34      36      27      20\n",
       "169  제주특별자치도  제주특별자치도      36      76      37      44      27      17\n",
       "170  제주특별자치도      서귀포      33      68      35      40      23      21\n",
       "171  제주특별자치도      도평균      34      72      36      42      25      19\n",
       "\n",
       "[172 rows x 8 columns]"
      ]
     },
     "execution_count": 487,
     "metadata": {},
     "output_type": "execute_result"
    }
   ],
   "source": [
    "pm10_file_path = 'C:\\\\Users\\\\SAMSUNG\\\\Desktop\\\\Green-Car-Charging-Station-Site-Selection\\\\Data\\\\미세먼지_PM10__월별_도시별_대기오염도.csv'\n",
    "df_pm10 = pd.read_csv(pm10_file_path, encoding='cp949')\n",
    "df_pm10"
   ]
  },
  {
   "cell_type": "code",
   "execution_count": null,
   "metadata": {
    "collapsed": false,
    "pycharm": {
     "name": "#%%\n"
    }
   },
   "outputs": [],
   "source": [
    "pm10_col = df_pm10.iloc[:,2:-1].columns.tolist()"
   ]
  },
  {
   "cell_type": "code",
   "execution_count": null,
   "metadata": {
    "collapsed": false,
    "pycharm": {
     "name": "#%%\n"
    }
   },
   "outputs": [],
   "source": [
    "df_pm10.drop(columns=pm10_col, inplace=True)"
   ]
  },
  {
   "cell_type": "code",
   "execution_count": null,
   "metadata": {
    "collapsed": false,
    "pycharm": {
     "name": "#%%\n"
    }
   },
   "outputs": [],
   "source": [
    "advanced_replace(df_pm10, '2021.07', '-', r'[^0-9.0-9]')\n",
    "df_pm10['2021.07'] = df_pm10['2021.07'].astype(float)"
   ]
  },
  {
   "cell_type": "code",
   "execution_count": null,
   "metadata": {
    "collapsed": false,
    "pycharm": {
     "name": "#%%\n"
    }
   },
   "outputs": [
    {
     "name": "stdout",
     "output_type": "stream",
     "text": [
      "<class 'pandas.core.frame.DataFrame'>\n",
      "RangeIndex: 172 entries, 0 to 171\n",
      "Data columns (total 3 columns):\n",
      " #   Column   Non-Null Count  Dtype  \n",
      "---  ------   --------------  -----  \n",
      " 0   구분(1)    172 non-null    object \n",
      " 1   구분(2)    172 non-null    object \n",
      " 2   2021.07  172 non-null    float64\n",
      "dtypes: float64(1), object(2)\n",
      "memory usage: 4.2+ KB\n"
     ]
    }
   ],
   "source": [
    "df_pm10.info()"
   ]
  },
  {
   "cell_type": "code",
   "execution_count": null,
   "metadata": {
    "collapsed": false,
    "pycharm": {
     "name": "#%%\n"
    }
   },
   "outputs": [
    {
     "data": {
      "text/html": [
       "<div>\n",
       "<style scoped>\n",
       "    .dataframe tbody tr th:only-of-type {\n",
       "        vertical-align: middle;\n",
       "    }\n",
       "\n",
       "    .dataframe tbody tr th {\n",
       "        vertical-align: top;\n",
       "    }\n",
       "\n",
       "    .dataframe thead th {\n",
       "        text-align: right;\n",
       "    }\n",
       "</style>\n",
       "<table border=\"1\" class=\"dataframe\">\n",
       "  <thead>\n",
       "    <tr style=\"text-align: right;\">\n",
       "      <th></th>\n",
       "      <th>2021.07</th>\n",
       "    </tr>\n",
       "  </thead>\n",
       "  <tbody>\n",
       "    <tr>\n",
       "      <th>count</th>\n",
       "      <td>172.000000</td>\n",
       "    </tr>\n",
       "    <tr>\n",
       "      <th>mean</th>\n",
       "      <td>20.750000</td>\n",
       "    </tr>\n",
       "    <tr>\n",
       "      <th>std</th>\n",
       "      <td>4.725352</td>\n",
       "    </tr>\n",
       "    <tr>\n",
       "      <th>min</th>\n",
       "      <td>0.000000</td>\n",
       "    </tr>\n",
       "    <tr>\n",
       "      <th>25%</th>\n",
       "      <td>18.000000</td>\n",
       "    </tr>\n",
       "    <tr>\n",
       "      <th>50%</th>\n",
       "      <td>20.000000</td>\n",
       "    </tr>\n",
       "    <tr>\n",
       "      <th>75%</th>\n",
       "      <td>23.000000</td>\n",
       "    </tr>\n",
       "    <tr>\n",
       "      <th>max</th>\n",
       "      <td>36.000000</td>\n",
       "    </tr>\n",
       "  </tbody>\n",
       "</table>\n",
       "</div>"
      ],
      "text/plain": [
       "          2021.07\n",
       "count  172.000000\n",
       "mean    20.750000\n",
       "std      4.725352\n",
       "min      0.000000\n",
       "25%     18.000000\n",
       "50%     20.000000\n",
       "75%     23.000000\n",
       "max     36.000000"
      ]
     },
     "execution_count": 492,
     "metadata": {},
     "output_type": "execute_result"
    }
   ],
   "source": [
    "df_pm10.describe()"
   ]
  },
  {
   "cell_type": "markdown",
   "metadata": {
    "collapsed": false
   },
   "source": [
    "## 상위 요소 - 사회적 요인"
   ]
  },
  {
   "cell_type": "markdown",
   "metadata": {
    "collapsed": false
   },
   "source": [
    "### 행정구역 인구 데이터 불러오기"
   ]
  },
  {
   "cell_type": "code",
   "execution_count": null,
   "metadata": {
    "collapsed": false,
    "pycharm": {
     "name": "#%%\n"
    }
   },
   "outputs": [
    {
     "data": {
      "text/html": [
       "<div>\n",
       "<style scoped>\n",
       "    .dataframe tbody tr th:only-of-type {\n",
       "        vertical-align: middle;\n",
       "    }\n",
       "\n",
       "    .dataframe tbody tr th {\n",
       "        vertical-align: top;\n",
       "    }\n",
       "\n",
       "    .dataframe thead th {\n",
       "        text-align: right;\n",
       "    }\n",
       "</style>\n",
       "<table border=\"1\" class=\"dataframe\">\n",
       "  <thead>\n",
       "    <tr style=\"text-align: right;\">\n",
       "      <th></th>\n",
       "      <th>행정구역(시군구)별</th>\n",
       "      <th>총인구수 (명)</th>\n",
       "    </tr>\n",
       "  </thead>\n",
       "  <tbody>\n",
       "    <tr>\n",
       "      <th>0</th>\n",
       "      <td>전국</td>\n",
       "      <td>51592660</td>\n",
       "    </tr>\n",
       "    <tr>\n",
       "      <th>1</th>\n",
       "      <td>서울특별시</td>\n",
       "      <td>9500480</td>\n",
       "    </tr>\n",
       "    <tr>\n",
       "      <th>2</th>\n",
       "      <td>종로구</td>\n",
       "      <td>144005</td>\n",
       "    </tr>\n",
       "    <tr>\n",
       "      <th>3</th>\n",
       "      <td>중구</td>\n",
       "      <td>122087</td>\n",
       "    </tr>\n",
       "    <tr>\n",
       "      <th>4</th>\n",
       "      <td>용산구</td>\n",
       "      <td>222009</td>\n",
       "    </tr>\n",
       "    <tr>\n",
       "      <th>...</th>\n",
       "      <td>...</td>\n",
       "      <td>...</td>\n",
       "    </tr>\n",
       "    <tr>\n",
       "      <th>287</th>\n",
       "      <td>거창군</td>\n",
       "      <td>60756</td>\n",
       "    </tr>\n",
       "    <tr>\n",
       "      <th>288</th>\n",
       "      <td>합천군</td>\n",
       "      <td>42613</td>\n",
       "    </tr>\n",
       "    <tr>\n",
       "      <th>289</th>\n",
       "      <td>제주특별자치도</td>\n",
       "      <td>677413</td>\n",
       "    </tr>\n",
       "    <tr>\n",
       "      <th>290</th>\n",
       "      <td>제주시</td>\n",
       "      <td>493076</td>\n",
       "    </tr>\n",
       "    <tr>\n",
       "      <th>291</th>\n",
       "      <td>서귀포시</td>\n",
       "      <td>184337</td>\n",
       "    </tr>\n",
       "  </tbody>\n",
       "</table>\n",
       "<p>292 rows × 2 columns</p>\n",
       "</div>"
      ],
      "text/plain": [
       "    행정구역(시군구)별  총인구수 (명)\n",
       "0           전국  51592660\n",
       "1        서울특별시   9500480\n",
       "2          종로구    144005\n",
       "3           중구    122087\n",
       "4          용산구    222009\n",
       "..         ...       ...\n",
       "287        거창군     60756\n",
       "288        합천군     42613\n",
       "289    제주특별자치도    677413\n",
       "290        제주시    493076\n",
       "291       서귀포시    184337\n",
       "\n",
       "[292 rows x 2 columns]"
      ]
     },
     "execution_count": 495,
     "metadata": {},
     "output_type": "execute_result"
    }
   ],
   "source": [
    "people_file_path = 'C:\\\\Users\\\\SAMSUNG\\\\Desktop\\\\Green-Car-Charging-Station-Site-Selection\\\\Data\\\\행정구역_시군구_별__성별_인구수.csv'\n",
    "df_people = pd.read_csv(people_file_path, encoding='cp949', header=1)\n",
    "df_people"
   ]
  },
  {
   "cell_type": "code",
   "execution_count": null,
   "metadata": {
    "collapsed": false,
    "pycharm": {
     "name": "#%%\n"
    }
   },
   "outputs": [
    {
     "name": "stdout",
     "output_type": "stream",
     "text": [
      "<class 'pandas.core.frame.DataFrame'>\n",
      "RangeIndex: 292 entries, 0 to 291\n",
      "Data columns (total 2 columns):\n",
      " #   Column      Non-Null Count  Dtype \n",
      "---  ------      --------------  ----- \n",
      " 0   행정구역(시군구)별  292 non-null    object\n",
      " 1   총인구수 (명)    292 non-null    int64 \n",
      "dtypes: int64(1), object(1)\n",
      "memory usage: 4.7+ KB\n"
     ]
    }
   ],
   "source": [
    "df_people.info()"
   ]
  },
  {
   "cell_type": "code",
   "execution_count": null,
   "metadata": {
    "collapsed": false,
    "pycharm": {
     "name": "#%%\n"
    }
   },
   "outputs": [
    {
     "data": {
      "text/html": [
       "<div>\n",
       "<style scoped>\n",
       "    .dataframe tbody tr th:only-of-type {\n",
       "        vertical-align: middle;\n",
       "    }\n",
       "\n",
       "    .dataframe tbody tr th {\n",
       "        vertical-align: top;\n",
       "    }\n",
       "\n",
       "    .dataframe thead th {\n",
       "        text-align: right;\n",
       "    }\n",
       "</style>\n",
       "<table border=\"1\" class=\"dataframe\">\n",
       "  <thead>\n",
       "    <tr style=\"text-align: right;\">\n",
       "      <th></th>\n",
       "      <th>총인구수 (명)</th>\n",
       "    </tr>\n",
       "  </thead>\n",
       "  <tbody>\n",
       "    <tr>\n",
       "      <th>count</th>\n",
       "      <td>2.920000e+02</td>\n",
       "    </tr>\n",
       "    <tr>\n",
       "      <th>mean</th>\n",
       "      <td>5.614314e+05</td>\n",
       "    </tr>\n",
       "    <tr>\n",
       "      <th>std</th>\n",
       "      <td>3.176068e+06</td>\n",
       "    </tr>\n",
       "    <tr>\n",
       "      <th>min</th>\n",
       "      <td>0.000000e+00</td>\n",
       "    </tr>\n",
       "    <tr>\n",
       "      <th>25%</th>\n",
       "      <td>5.282050e+04</td>\n",
       "    </tr>\n",
       "    <tr>\n",
       "      <th>50%</th>\n",
       "      <td>1.935545e+05</td>\n",
       "    </tr>\n",
       "    <tr>\n",
       "      <th>75%</th>\n",
       "      <td>3.709285e+05</td>\n",
       "    </tr>\n",
       "    <tr>\n",
       "      <th>max</th>\n",
       "      <td>5.159266e+07</td>\n",
       "    </tr>\n",
       "  </tbody>\n",
       "</table>\n",
       "</div>"
      ],
      "text/plain": [
       "           총인구수 (명)\n",
       "count  2.920000e+02\n",
       "mean   5.614314e+05\n",
       "std    3.176068e+06\n",
       "min    0.000000e+00\n",
       "25%    5.282050e+04\n",
       "50%    1.935545e+05\n",
       "75%    3.709285e+05\n",
       "max    5.159266e+07"
      ]
     },
     "execution_count": 497,
     "metadata": {},
     "output_type": "execute_result"
    }
   ],
   "source": [
    "df_people.describe()"
   ]
  }
 ],
 "metadata": {
  "interpreter": {
   "hash": "f050bb9fd34efe2ad4050694f9ad3d2282b57f28f06302e823e69ca1f91b4def"
  },
  "kernelspec": {
   "display_name": "Python 3.10.4 ('GVCS')",
   "language": "python",
   "name": "python3"
  },
  "language_info": {
   "codemirror_mode": {
    "name": "ipython",
    "version": 3
   },
   "file_extension": ".py",
   "mimetype": "text/x-python",
   "name": "python",
   "nbconvert_exporter": "python",
   "pygments_lexer": "ipython3",
   "version": "3.10.4"
  }
 },
 "nbformat": 4,
 "nbformat_minor": 4
}
