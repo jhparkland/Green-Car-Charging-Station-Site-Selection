{
 "cells": [
  {
   "cell_type": "markdown",
   "metadata": {
    "collapsed": false
   },
   "source": [
    "# 확률 네트워크기반 친환경 자동차 충전소(GVCS) 로케이션 인텔리전스(Location Intelligence) 대시보드"
   ]
  },
  {
   "cell_type": "markdown",
   "metadata": {
    "pycharm": {
     "name": "#%% md\n"
    }
   },
   "source": [
    "## 제안 배경\n",
    "\n",
    "**친환경 자동차 생산에만 관심이 쏠려 사용자를 고려하지 못한 설치로 인한 잉여 충전소 발생**\n",
    "\n",
    "- 민관 협력을 통해 충전 서비스 관련 사업이 꾸준히 증가함. 하지만 전국에 설치된 공공 급속충전기 총 2,896개(2021년 기준) 중 하루 1회 이하로 사용한 충전기가 1,164개로 전체의 40.1%를 차지하고 있다. 심지어 17개는 전혀 사용하지 않은 것으로 나타남.\n",
    "\n",
    "- 이와 같은 충전소마다 이용 편차가 큰 이유는 전기차 보급 목표에 따라 구역별로  충전소를 나눠 설치했기 때문이라는 지적도 있다.\n",
    "\n",
    "- 한국전기차충전협동조합은 앞으로 수요가 몰리는 거점을 중심을 중심으로 충전기 설치를 해야하 한다는 의견 주장함.\n",
    "\n",
    "- 기존의 정부 중심으로 공급자 입장에서 설치하던 충전소를 친환경 자동차 차주를 고려해 이용자 중심으로 변화 설치가 필요하다는 지적도 있다.\n",
    "\n",
    "즉, **꾸준히 증가하는 친환경 차량의 수요를 위해 저비용 고효율의 충전소 설치를 목표 한다.** 충전소 설치 사업자의 기대 수익 최적화를 위해 사용자 입장을 고려한 체계적이며 최적의 입지 선정 결과를 제시함."
   ]
  },
  {
   "cell_type": "markdown",
   "metadata": {},
   "source": [
    "## 사용 데이터\n",
    "\n",
    "1. 충전소 위치 및 현황 정보\n",
    "2. 급속충전기 보급 현황\n",
    "3. LPG충전소 현황\n",
    "4. 오존 월별 대기오염도\n",
    "5. 아황산가스 월별 대기오염도\n",
    "6. 이산화질소 월별 대기오염도\n",
    "7. 미세먼지 월별 대기오염도\n",
    "8. 행정구역별 인구수\n",
    "9. 항만 현황\n",
    "10. 지역별 전기차 등록대 수"
   ]
  },
  {
   "cell_type": "code",
   "execution_count": 10,
   "metadata": {
    "collapsed": false,
    "jupyter": {
     "outputs_hidden": false
    },
    "pycharm": {
     "name": "#%%\n"
    }
   },
   "outputs": [],
   "source": [
    "import pandas as pd\n",
    "import matplotlib.pyplot as plt\n",
    "import seaborn as sns\n",
    "import osmnx as ox\n",
    "import networkx as nx\n",
    "import numpy as np\n",
    "from scipy.stats import norm\n",
    "import plotly.express as px\n",
    "import plotly.graph_objects as go\n",
    "import pgmpy as pg\n",
    "from pgmpy.factors.discrete import JointProbabilityDistribution as JPD"
   ]
  },
  {
   "cell_type": "markdown",
   "metadata": {},
   "source": [
    "## 데이터 적합성 판단 기준"
   ]
  },
  {
   "cell_type": "code",
   "execution_count": 125,
   "metadata": {},
   "outputs": [],
   "source": [
    "# 환경 요인 판단 기준\n",
    "o3_standard = 0.003     # 오존\n",
    "so2_standard = 0.002    # 아황산가스\n",
    "no2_standard = 0.012    # 이산화질소    \n",
    "co_standard = 0.3       # 일산화탄소\n",
    "pm10_standard = 15      # 미세먼지\n",
    "pm25_standard = 10      # 초미세먼지\n",
    "\n",
    "\n",
    "# 사회 요인 판단 기준\n",
    "density_standard = 40_000  # 인구밀도\n",
    "floating_density_standard = 400_000   # 유동인구밀도\n",
    "\n",
    "EV_per_charger_standard = 5.1     # 전기차충전기당 전기차수\n",
    "HV_per_charger_standard = 346.53    # 수소차충전기당 수소차수\n",
    "street_supply_standard = 0.3     # 도로보급률\n",
    "\n",
    "# 경제 요인 판단 기준\n",
    "EVCS_cost_standard = 35_000_000             # 급속 충전기 설치비용\n",
    "# 17_500_000(정부보조금 최대지원가능금액, 출처 한국에너지공단 '2022년 전기차충전서비스산업육성산업) / 0.5(보조율) = 35_000_000\n",
    "HVCS_construction_cost_standard = 3_000_000_000    # 수소충전소 구축 비용\n",
    "# 1_500_000_000(정부보조금 최대지원가능금액, 출처 환경부'2022년 수소차 보급 및 충전소 설치사업 보조금 업무처리지침 / 0.5 (일반수소충전소 보조율) = 3_000_000_000(구축비용)\n",
    "# 4_200_000_000(정부보조금 최대지원가능금액, 출처 환경부'2022년 수소차 보급 및 충전소 설치사업 보조금 업무처리지침 / 0.7 (특수수소충전소 보조율) = 6_000_000_000(구축비용)\n",
    "income_standard = 3_600          # 연 평균소득\n",
    "maintenance_cost_standard = 100      # 유지비용\n",
    "HVCS_income_standard = 0        # 수소충전소 기대수익\n",
    "\n",
    "# 기술 요인 판단 기준\n",
    "maximum_charge_standard = 45.3    # 충전가능 수소차 수"
   ]
  },
  {
   "cell_type": "code",
   "execution_count": 12,
   "metadata": {
    "collapsed": false,
    "pycharm": {
     "name": "#%%\n"
    }
   },
   "outputs": [],
   "source": [
    "def advanced_replace(df, col, str, regex):\n",
    "    '''\n",
    "    DataFrame 특정 열의 특수문자 제거\n",
    "    :param df: 대상 DataFrame\n",
    "    :param col: column\n",
    "    :param str: 제거할 특수 문자.\n",
    "    :param regex: 적용할 정규표현식\n",
    "    :return:\n",
    "    '''\n",
    "    df[col] = df[col].replace(str,0)\n",
    "    df[col] = df[col].replace(to_replace=regex, value=r'', regex=True)\n",
    "    return df"
   ]
  },
  {
   "cell_type": "code",
   "execution_count": 13,
   "metadata": {},
   "outputs": [],
   "source": [
    "def show_norm(mean,std,min,max):\n",
    "     '''\n",
    "     정규분포 함수를 matplotlib을 통해 시각화\n",
    "     mean: 평균값\n",
    "     std: 표준편차\n",
    "     min: 관측된 데이터의 최솟값\n",
    "     max: 관측된 데이터의 최댓값\n",
    "     '''\n",
    "     min = min - std\n",
    "     # x값 설정(min에서 max까지 unit만큼씩 증가하는 x)\n",
    "     x = np.linspace(min,max,100)\n",
    "     # y값은 평균이 mean이고 표준편차가 std인 확률밀도함수\n",
    "     fig = px.line(x=x,y=norm.pdf(x,loc=mean,scale=std))\n",
    "     fig.show()"
   ]
  },
  {
   "cell_type": "code",
   "execution_count": 14,
   "metadata": {},
   "outputs": [],
   "source": [
    "def cal_norm(mean,std,min,max,value,affect):\n",
    "     '''\n",
    "     정규분포에서 value에 대한 누적확률 구하기\n",
    "     mean: 평균값\n",
    "     std: 표준편차\n",
    "     min: 관측된 데이터의 최솟값\n",
    "     max: 관측된 데이터의 최댓값\n",
    "     value: 누적확률을 구하고자 하는 데이터의 측정값\n",
    "     affect: 입지에 긍정/부정적인 영향(True/False)\n",
    "     '''\n",
    "     min = min - std\n",
    "     red ='rgb(239,85,59)'\n",
    "     blue = 'rgb(100,110,250)'\n",
    "     fig = go.Figure()\n",
    "     \n",
    "     # 확률 값을 구할 특정 구간의 범위 설정\n",
    "     cum_a = np.linspace(min,value,100)\n",
    "     cum_b = np.linspace(value,max,100)\n",
    "     \n",
    "     # value까지의 누적확률에서 min까지의 누적확률을 뺌\n",
    "     pro = norm(mean,std).cdf(value)-norm(mean,std).cdf(min).round(3)\n",
    "     if affect == True:\n",
    "          # 구간 사이에 색을 채움\n",
    "          fig.add_trace(go.Scatter(x=cum_a,y=norm.pdf(cum_a,mean,std), fill = 'tozeroy',name='적합',line=dict(color=blue)))\n",
    "          fig.add_trace(go.Scatter(x=cum_b,y=norm.pdf(cum_b,mean,std), fill = 'tozeroy',name='부적합',line=dict(color=red)))\n",
    "          fig.update_yaxes(visible=False)\n",
    "          annotations = []\n",
    "          annotations.append(dict(x=value, y=norm.pdf(value,loc=mean,scale=std), showarrow=False, text=round(pro,3), font=dict(size=15,color=blue), xshift=-40, yshift=-100, bordercolor=blue,borderwidth=2))\n",
    "          annotations.append(dict(x=value, y=norm.pdf(value,loc=mean,scale=std), showarrow=False, text=round(1-pro,3),font=dict(size=15,color=red),xshift=40, yshift=-100, bordercolor=red,borderwidth=2))\n",
    "     else:\n",
    "          fig.add_trace(go.Scatter(x=cum_a,y=norm.pdf(cum_a,mean,std), fill = 'tozeroy',name='부적합',line=dict(color=red)))\n",
    "          fig.add_trace(go.Scatter(x=cum_b,y=norm.pdf(cum_b,mean,std), fill = 'tozeroy',name='적합',line=dict(color=blue)))\n",
    "          fig.update_yaxes(visible=False)\n",
    "          annotations = []\n",
    "          annotations.append(dict(x=value, y=norm.pdf(value,loc=mean,scale=std), showarrow=False, text=round(pro,3), font=dict(size=15,color=red), xshift=-40, yshift=-100, bordercolor=red,borderwidth=2))\n",
    "          annotations.append(dict(x=value, y=norm.pdf(value,loc=mean,scale=std), showarrow=False, text=round(1-pro,3),font=dict(size=15,color=blue),xshift=40, yshift=-100, bordercolor=blue,borderwidth=2))     \n",
    "          pro = 1 - pro\n",
    "     fig.update_layout(annotations=annotations)\n",
    "     \n",
    "     fig.show()\n",
    "\n",
    "     # 최종 누적확률 반환\n",
    "     return pro, 1-pro"
   ]
  },
  {
   "cell_type": "code",
   "execution_count": 15,
   "metadata": {},
   "outputs": [],
   "source": [
    "# 데이터의 수를 통한 확률 계산\n",
    "def cal_pro(dataframe,column,standard,affect):\n",
    "    if dataframe[column].dtypes == 'dtype(\\'O\\')':\n",
    "        num = dataframe[dataframe[column]==standard].shape[0]\n",
    "        total_num = dataframe.shape[0]\n",
    "    else:\n",
    "        if affect == True:\n",
    "            num = dataframe[dataframe[column]>=standard].shape[0]\n",
    "            total_num = dataframe.shape[0]\n",
    "        else:\n",
    "            num = dataframe[dataframe[column]<standard].shape[0]\n",
    "            total_num = dataframe.shape[0]\n",
    "\n",
    "    probability = num/total_num\n",
    "\n",
    "    return probability, 1-probability"
   ]
  },
  {
   "cell_type": "markdown",
   "metadata": {},
   "source": [
    "## 상위 요소 - 환경적 요인\n",
    "\n",
    "대기오염도를 기반하여 확률 값을 계산한다."
   ]
  },
  {
   "cell_type": "markdown",
   "metadata": {},
   "source": [
    "### 대기오염도 데이터 불러오기"
   ]
  },
  {
   "cell_type": "code",
   "execution_count": 16,
   "metadata": {},
   "outputs": [
    {
     "data": {
      "text/html": [
       "<div>\n",
       "<style scoped>\n",
       "    .dataframe tbody tr th:only-of-type {\n",
       "        vertical-align: middle;\n",
       "    }\n",
       "\n",
       "    .dataframe tbody tr th {\n",
       "        vertical-align: top;\n",
       "    }\n",
       "\n",
       "    .dataframe thead th {\n",
       "        text-align: right;\n",
       "    }\n",
       "</style>\n",
       "<table border=\"1\" class=\"dataframe\">\n",
       "  <thead>\n",
       "    <tr style=\"text-align: right;\">\n",
       "      <th></th>\n",
       "      <th>sidoName</th>\n",
       "      <th>stationName</th>\n",
       "      <th>mangName</th>\n",
       "      <th>so2Value</th>\n",
       "      <th>coValue</th>\n",
       "      <th>o3Value</th>\n",
       "      <th>no2Value</th>\n",
       "      <th>pm10Value</th>\n",
       "      <th>pm25Value</th>\n",
       "      <th>khaiValue</th>\n",
       "    </tr>\n",
       "  </thead>\n",
       "  <tbody>\n",
       "    <tr>\n",
       "      <th>0</th>\n",
       "      <td>충북</td>\n",
       "      <td>송정동(봉명동)</td>\n",
       "      <td>도시대기</td>\n",
       "      <td>0.002</td>\n",
       "      <td>0.6</td>\n",
       "      <td>0.003</td>\n",
       "      <td>0.022</td>\n",
       "      <td>65.0</td>\n",
       "      <td>12.0</td>\n",
       "      <td>56.0</td>\n",
       "    </tr>\n",
       "    <tr>\n",
       "      <th>1</th>\n",
       "      <td>충북</td>\n",
       "      <td>사천동</td>\n",
       "      <td>도시대기</td>\n",
       "      <td>0.002</td>\n",
       "      <td>0.5</td>\n",
       "      <td>0.002</td>\n",
       "      <td>0.019</td>\n",
       "      <td>28.0</td>\n",
       "      <td>22.0</td>\n",
       "      <td>59.0</td>\n",
       "    </tr>\n",
       "    <tr>\n",
       "      <th>2</th>\n",
       "      <td>충북</td>\n",
       "      <td>용담동</td>\n",
       "      <td>도시대기</td>\n",
       "      <td>NaN</td>\n",
       "      <td>0.4</td>\n",
       "      <td>0.002</td>\n",
       "      <td>0.018</td>\n",
       "      <td>12.0</td>\n",
       "      <td>11.0</td>\n",
       "      <td>30.0</td>\n",
       "    </tr>\n",
       "    <tr>\n",
       "      <th>3</th>\n",
       "      <td>충북</td>\n",
       "      <td>용암동</td>\n",
       "      <td>도시대기</td>\n",
       "      <td>0.002</td>\n",
       "      <td>0.5</td>\n",
       "      <td>0.002</td>\n",
       "      <td>0.017</td>\n",
       "      <td>31.0</td>\n",
       "      <td>15.0</td>\n",
       "      <td>52.0</td>\n",
       "    </tr>\n",
       "    <tr>\n",
       "      <th>4</th>\n",
       "      <td>충북</td>\n",
       "      <td>복대동</td>\n",
       "      <td>도로변대기</td>\n",
       "      <td>0.004</td>\n",
       "      <td>0.7</td>\n",
       "      <td>0.002</td>\n",
       "      <td>0.028</td>\n",
       "      <td>25.0</td>\n",
       "      <td>10.0</td>\n",
       "      <td>47.0</td>\n",
       "    </tr>\n",
       "    <tr>\n",
       "      <th>...</th>\n",
       "      <td>...</td>\n",
       "      <td>...</td>\n",
       "      <td>...</td>\n",
       "      <td>...</td>\n",
       "      <td>...</td>\n",
       "      <td>...</td>\n",
       "      <td>...</td>\n",
       "      <td>...</td>\n",
       "      <td>...</td>\n",
       "      <td>...</td>\n",
       "    </tr>\n",
       "    <tr>\n",
       "      <th>10907</th>\n",
       "      <td>강원</td>\n",
       "      <td>묵호항</td>\n",
       "      <td>항만</td>\n",
       "      <td>0.013</td>\n",
       "      <td>1.3</td>\n",
       "      <td>0.003</td>\n",
       "      <td>0.034</td>\n",
       "      <td>33.0</td>\n",
       "      <td>16.0</td>\n",
       "      <td>56.0</td>\n",
       "    </tr>\n",
       "    <tr>\n",
       "      <th>10908</th>\n",
       "      <td>강원</td>\n",
       "      <td>철원(DMZ)</td>\n",
       "      <td>교외대기</td>\n",
       "      <td>0.001</td>\n",
       "      <td>0.3</td>\n",
       "      <td>0.023</td>\n",
       "      <td>0.010</td>\n",
       "      <td>28.0</td>\n",
       "      <td>27.0</td>\n",
       "      <td>82.0</td>\n",
       "    </tr>\n",
       "    <tr>\n",
       "      <th>10909</th>\n",
       "      <td>강원</td>\n",
       "      <td>화천(DMZ)</td>\n",
       "      <td>교외대기</td>\n",
       "      <td>0.001</td>\n",
       "      <td>0.3</td>\n",
       "      <td>0.033</td>\n",
       "      <td>0.007</td>\n",
       "      <td>16.0</td>\n",
       "      <td>15.0</td>\n",
       "      <td>64.0</td>\n",
       "    </tr>\n",
       "    <tr>\n",
       "      <th>10910</th>\n",
       "      <td>강원</td>\n",
       "      <td>인제(DMZ)</td>\n",
       "      <td>교외대기</td>\n",
       "      <td>0.001</td>\n",
       "      <td>0.2</td>\n",
       "      <td>0.038</td>\n",
       "      <td>0.005</td>\n",
       "      <td>10.0</td>\n",
       "      <td>8.0</td>\n",
       "      <td>57.0</td>\n",
       "    </tr>\n",
       "    <tr>\n",
       "      <th>10911</th>\n",
       "      <td>강원</td>\n",
       "      <td>고성(DMZ)</td>\n",
       "      <td>교외대기</td>\n",
       "      <td>0.002</td>\n",
       "      <td>0.2</td>\n",
       "      <td>0.044</td>\n",
       "      <td>0.005</td>\n",
       "      <td>20.0</td>\n",
       "      <td>12.0</td>\n",
       "      <td>62.0</td>\n",
       "    </tr>\n",
       "  </tbody>\n",
       "</table>\n",
       "<p>10912 rows × 10 columns</p>\n",
       "</div>"
      ],
      "text/plain": [
       "      sidoName stationName mangName  so2Value  coValue  o3Value  no2Value  \\\n",
       "0           충북    송정동(봉명동)     도시대기     0.002      0.6    0.003     0.022   \n",
       "1           충북         사천동     도시대기     0.002      0.5    0.002     0.019   \n",
       "2           충북         용담동     도시대기       NaN      0.4    0.002     0.018   \n",
       "3           충북         용암동     도시대기     0.002      0.5    0.002     0.017   \n",
       "4           충북         복대동    도로변대기     0.004      0.7    0.002     0.028   \n",
       "...        ...         ...      ...       ...      ...      ...       ...   \n",
       "10907       강원         묵호항       항만     0.013      1.3    0.003     0.034   \n",
       "10908       강원     철원(DMZ)     교외대기     0.001      0.3    0.023     0.010   \n",
       "10909       강원     화천(DMZ)     교외대기     0.001      0.3    0.033     0.007   \n",
       "10910       강원     인제(DMZ)     교외대기     0.001      0.2    0.038     0.005   \n",
       "10911       강원     고성(DMZ)     교외대기     0.002      0.2    0.044     0.005   \n",
       "\n",
       "       pm10Value  pm25Value  khaiValue  \n",
       "0           65.0       12.0       56.0  \n",
       "1           28.0       22.0       59.0  \n",
       "2           12.0       11.0       30.0  \n",
       "3           31.0       15.0       52.0  \n",
       "4           25.0       10.0       47.0  \n",
       "...          ...        ...        ...  \n",
       "10907       33.0       16.0       56.0  \n",
       "10908       28.0       27.0       82.0  \n",
       "10909       16.0       15.0       64.0  \n",
       "10910       10.0        8.0       57.0  \n",
       "10911       20.0       12.0       62.0  \n",
       "\n",
       "[10912 rows x 10 columns]"
      ]
     },
     "execution_count": 16,
     "metadata": {},
     "output_type": "execute_result"
    }
   ],
   "source": [
    "air_pollution_file_path = \"C:\\\\Users\\\\SAMSUNG\\\\Desktop\\\\Green-Car-Charging-Station-Site-Selection\\\\Data\\\\대기오염시도별실시간측정정보(환경부).csv\"\n",
    "df_air_pollution = pd.read_csv(air_pollution_file_path, encoding='cp949')\n",
    "df_air_pollution"
   ]
  },
  {
   "cell_type": "markdown",
   "metadata": {},
   "source": [
    "### 결측값 보간"
   ]
  },
  {
   "cell_type": "code",
   "execution_count": 17,
   "metadata": {},
   "outputs": [
    {
     "data": {
      "text/html": [
       "<div>\n",
       "<style scoped>\n",
       "    .dataframe tbody tr th:only-of-type {\n",
       "        vertical-align: middle;\n",
       "    }\n",
       "\n",
       "    .dataframe tbody tr th {\n",
       "        vertical-align: top;\n",
       "    }\n",
       "\n",
       "    .dataframe thead th {\n",
       "        text-align: right;\n",
       "    }\n",
       "</style>\n",
       "<table border=\"1\" class=\"dataframe\">\n",
       "  <thead>\n",
       "    <tr style=\"text-align: right;\">\n",
       "      <th></th>\n",
       "      <th>sidoName</th>\n",
       "      <th>stationName</th>\n",
       "      <th>mangName</th>\n",
       "      <th>so2Value</th>\n",
       "      <th>coValue</th>\n",
       "      <th>o3Value</th>\n",
       "      <th>no2Value</th>\n",
       "      <th>pm10Value</th>\n",
       "      <th>pm25Value</th>\n",
       "      <th>khaiValue</th>\n",
       "    </tr>\n",
       "  </thead>\n",
       "  <tbody>\n",
       "    <tr>\n",
       "      <th>0</th>\n",
       "      <td>충북</td>\n",
       "      <td>송정동(봉명동)</td>\n",
       "      <td>도시대기</td>\n",
       "      <td>0.002</td>\n",
       "      <td>0.6</td>\n",
       "      <td>0.003</td>\n",
       "      <td>0.022</td>\n",
       "      <td>65.0</td>\n",
       "      <td>12.0</td>\n",
       "      <td>56.0</td>\n",
       "    </tr>\n",
       "    <tr>\n",
       "      <th>1</th>\n",
       "      <td>충북</td>\n",
       "      <td>사천동</td>\n",
       "      <td>도시대기</td>\n",
       "      <td>0.002</td>\n",
       "      <td>0.5</td>\n",
       "      <td>0.002</td>\n",
       "      <td>0.019</td>\n",
       "      <td>28.0</td>\n",
       "      <td>22.0</td>\n",
       "      <td>59.0</td>\n",
       "    </tr>\n",
       "    <tr>\n",
       "      <th>2</th>\n",
       "      <td>충북</td>\n",
       "      <td>용담동</td>\n",
       "      <td>도시대기</td>\n",
       "      <td>0.002</td>\n",
       "      <td>0.4</td>\n",
       "      <td>0.002</td>\n",
       "      <td>0.018</td>\n",
       "      <td>12.0</td>\n",
       "      <td>11.0</td>\n",
       "      <td>30.0</td>\n",
       "    </tr>\n",
       "    <tr>\n",
       "      <th>3</th>\n",
       "      <td>충북</td>\n",
       "      <td>용암동</td>\n",
       "      <td>도시대기</td>\n",
       "      <td>0.002</td>\n",
       "      <td>0.5</td>\n",
       "      <td>0.002</td>\n",
       "      <td>0.017</td>\n",
       "      <td>31.0</td>\n",
       "      <td>15.0</td>\n",
       "      <td>52.0</td>\n",
       "    </tr>\n",
       "    <tr>\n",
       "      <th>4</th>\n",
       "      <td>충북</td>\n",
       "      <td>복대동</td>\n",
       "      <td>도로변대기</td>\n",
       "      <td>0.004</td>\n",
       "      <td>0.7</td>\n",
       "      <td>0.002</td>\n",
       "      <td>0.028</td>\n",
       "      <td>25.0</td>\n",
       "      <td>10.0</td>\n",
       "      <td>47.0</td>\n",
       "    </tr>\n",
       "    <tr>\n",
       "      <th>...</th>\n",
       "      <td>...</td>\n",
       "      <td>...</td>\n",
       "      <td>...</td>\n",
       "      <td>...</td>\n",
       "      <td>...</td>\n",
       "      <td>...</td>\n",
       "      <td>...</td>\n",
       "      <td>...</td>\n",
       "      <td>...</td>\n",
       "      <td>...</td>\n",
       "    </tr>\n",
       "    <tr>\n",
       "      <th>10907</th>\n",
       "      <td>강원</td>\n",
       "      <td>묵호항</td>\n",
       "      <td>항만</td>\n",
       "      <td>0.013</td>\n",
       "      <td>1.3</td>\n",
       "      <td>0.003</td>\n",
       "      <td>0.034</td>\n",
       "      <td>33.0</td>\n",
       "      <td>16.0</td>\n",
       "      <td>56.0</td>\n",
       "    </tr>\n",
       "    <tr>\n",
       "      <th>10908</th>\n",
       "      <td>강원</td>\n",
       "      <td>철원(DMZ)</td>\n",
       "      <td>교외대기</td>\n",
       "      <td>0.001</td>\n",
       "      <td>0.3</td>\n",
       "      <td>0.023</td>\n",
       "      <td>0.010</td>\n",
       "      <td>28.0</td>\n",
       "      <td>27.0</td>\n",
       "      <td>82.0</td>\n",
       "    </tr>\n",
       "    <tr>\n",
       "      <th>10909</th>\n",
       "      <td>강원</td>\n",
       "      <td>화천(DMZ)</td>\n",
       "      <td>교외대기</td>\n",
       "      <td>0.001</td>\n",
       "      <td>0.3</td>\n",
       "      <td>0.033</td>\n",
       "      <td>0.007</td>\n",
       "      <td>16.0</td>\n",
       "      <td>15.0</td>\n",
       "      <td>64.0</td>\n",
       "    </tr>\n",
       "    <tr>\n",
       "      <th>10910</th>\n",
       "      <td>강원</td>\n",
       "      <td>인제(DMZ)</td>\n",
       "      <td>교외대기</td>\n",
       "      <td>0.001</td>\n",
       "      <td>0.2</td>\n",
       "      <td>0.038</td>\n",
       "      <td>0.005</td>\n",
       "      <td>10.0</td>\n",
       "      <td>8.0</td>\n",
       "      <td>57.0</td>\n",
       "    </tr>\n",
       "    <tr>\n",
       "      <th>10911</th>\n",
       "      <td>강원</td>\n",
       "      <td>고성(DMZ)</td>\n",
       "      <td>교외대기</td>\n",
       "      <td>0.002</td>\n",
       "      <td>0.2</td>\n",
       "      <td>0.044</td>\n",
       "      <td>0.005</td>\n",
       "      <td>20.0</td>\n",
       "      <td>12.0</td>\n",
       "      <td>62.0</td>\n",
       "    </tr>\n",
       "  </tbody>\n",
       "</table>\n",
       "<p>10912 rows × 10 columns</p>\n",
       "</div>"
      ],
      "text/plain": [
       "      sidoName stationName mangName  so2Value  coValue  o3Value  no2Value  \\\n",
       "0           충북    송정동(봉명동)     도시대기     0.002      0.6    0.003     0.022   \n",
       "1           충북         사천동     도시대기     0.002      0.5    0.002     0.019   \n",
       "2           충북         용담동     도시대기     0.002      0.4    0.002     0.018   \n",
       "3           충북         용암동     도시대기     0.002      0.5    0.002     0.017   \n",
       "4           충북         복대동    도로변대기     0.004      0.7    0.002     0.028   \n",
       "...        ...         ...      ...       ...      ...      ...       ...   \n",
       "10907       강원         묵호항       항만     0.013      1.3    0.003     0.034   \n",
       "10908       강원     철원(DMZ)     교외대기     0.001      0.3    0.023     0.010   \n",
       "10909       강원     화천(DMZ)     교외대기     0.001      0.3    0.033     0.007   \n",
       "10910       강원     인제(DMZ)     교외대기     0.001      0.2    0.038     0.005   \n",
       "10911       강원     고성(DMZ)     교외대기     0.002      0.2    0.044     0.005   \n",
       "\n",
       "       pm10Value  pm25Value  khaiValue  \n",
       "0           65.0       12.0       56.0  \n",
       "1           28.0       22.0       59.0  \n",
       "2           12.0       11.0       30.0  \n",
       "3           31.0       15.0       52.0  \n",
       "4           25.0       10.0       47.0  \n",
       "...          ...        ...        ...  \n",
       "10907       33.0       16.0       56.0  \n",
       "10908       28.0       27.0       82.0  \n",
       "10909       16.0       15.0       64.0  \n",
       "10910       10.0        8.0       57.0  \n",
       "10911       20.0       12.0       62.0  \n",
       "\n",
       "[10912 rows x 10 columns]"
      ]
     },
     "execution_count": 17,
     "metadata": {},
     "output_type": "execute_result"
    }
   ],
   "source": [
    "df_air_pollution = df_air_pollution.interpolate(method='pad')\n",
    "df_air_pollution"
   ]
  },
  {
   "cell_type": "markdown",
   "metadata": {},
   "source": [
    "### 부산 대기오염 데이터 추출"
   ]
  },
  {
   "cell_type": "code",
   "execution_count": 18,
   "metadata": {},
   "outputs": [
    {
     "data": {
      "text/html": [
       "<div>\n",
       "<style scoped>\n",
       "    .dataframe tbody tr th:only-of-type {\n",
       "        vertical-align: middle;\n",
       "    }\n",
       "\n",
       "    .dataframe tbody tr th {\n",
       "        vertical-align: top;\n",
       "    }\n",
       "\n",
       "    .dataframe thead th {\n",
       "        text-align: right;\n",
       "    }\n",
       "</style>\n",
       "<table border=\"1\" class=\"dataframe\">\n",
       "  <thead>\n",
       "    <tr style=\"text-align: right;\">\n",
       "      <th></th>\n",
       "      <th>sidoName</th>\n",
       "      <th>stationName</th>\n",
       "      <th>mangName</th>\n",
       "      <th>so2Value</th>\n",
       "      <th>coValue</th>\n",
       "      <th>o3Value</th>\n",
       "      <th>no2Value</th>\n",
       "      <th>pm10Value</th>\n",
       "      <th>pm25Value</th>\n",
       "      <th>khaiValue</th>\n",
       "    </tr>\n",
       "  </thead>\n",
       "  <tbody>\n",
       "    <tr>\n",
       "      <th>0</th>\n",
       "      <td>부산</td>\n",
       "      <td>광복동</td>\n",
       "      <td>도시대기</td>\n",
       "      <td>0.002</td>\n",
       "      <td>0.3</td>\n",
       "      <td>0.016</td>\n",
       "      <td>0.018</td>\n",
       "      <td>11.0</td>\n",
       "      <td>8.0</td>\n",
       "      <td>30.0</td>\n",
       "    </tr>\n",
       "    <tr>\n",
       "      <th>1</th>\n",
       "      <td>부산</td>\n",
       "      <td>초량동</td>\n",
       "      <td>도로변대기</td>\n",
       "      <td>0.002</td>\n",
       "      <td>0.4</td>\n",
       "      <td>0.010</td>\n",
       "      <td>0.028</td>\n",
       "      <td>16.0</td>\n",
       "      <td>5.0</td>\n",
       "      <td>47.0</td>\n",
       "    </tr>\n",
       "    <tr>\n",
       "      <th>2</th>\n",
       "      <td>부산</td>\n",
       "      <td>태종대</td>\n",
       "      <td>도시대기</td>\n",
       "      <td>0.003</td>\n",
       "      <td>0.2</td>\n",
       "      <td>0.019</td>\n",
       "      <td>0.020</td>\n",
       "      <td>15.0</td>\n",
       "      <td>10.0</td>\n",
       "      <td>33.0</td>\n",
       "    </tr>\n",
       "    <tr>\n",
       "      <th>3</th>\n",
       "      <td>부산</td>\n",
       "      <td>청학동</td>\n",
       "      <td>도시대기</td>\n",
       "      <td>0.003</td>\n",
       "      <td>0.2</td>\n",
       "      <td>0.021</td>\n",
       "      <td>0.018</td>\n",
       "      <td>10.0</td>\n",
       "      <td>7.0</td>\n",
       "      <td>35.0</td>\n",
       "    </tr>\n",
       "    <tr>\n",
       "      <th>4</th>\n",
       "      <td>부산</td>\n",
       "      <td>전포동</td>\n",
       "      <td>도시대기</td>\n",
       "      <td>0.002</td>\n",
       "      <td>0.2</td>\n",
       "      <td>0.016</td>\n",
       "      <td>0.014</td>\n",
       "      <td>14.0</td>\n",
       "      <td>10.0</td>\n",
       "      <td>37.0</td>\n",
       "    </tr>\n",
       "    <tr>\n",
       "      <th>...</th>\n",
       "      <td>...</td>\n",
       "      <td>...</td>\n",
       "      <td>...</td>\n",
       "      <td>...</td>\n",
       "      <td>...</td>\n",
       "      <td>...</td>\n",
       "      <td>...</td>\n",
       "      <td>...</td>\n",
       "      <td>...</td>\n",
       "      <td>...</td>\n",
       "    </tr>\n",
       "    <tr>\n",
       "      <th>625</th>\n",
       "      <td>부산</td>\n",
       "      <td>하단동</td>\n",
       "      <td>도시대기</td>\n",
       "      <td>0.003</td>\n",
       "      <td>0.4</td>\n",
       "      <td>0.015</td>\n",
       "      <td>0.029</td>\n",
       "      <td>43.0</td>\n",
       "      <td>23.0</td>\n",
       "      <td>66.0</td>\n",
       "    </tr>\n",
       "    <tr>\n",
       "      <th>626</th>\n",
       "      <td>부산</td>\n",
       "      <td>하단동</td>\n",
       "      <td>도시대기</td>\n",
       "      <td>0.003</td>\n",
       "      <td>0.3</td>\n",
       "      <td>0.023</td>\n",
       "      <td>0.015</td>\n",
       "      <td>31.0</td>\n",
       "      <td>22.0</td>\n",
       "      <td>59.0</td>\n",
       "    </tr>\n",
       "    <tr>\n",
       "      <th>627</th>\n",
       "      <td>부산</td>\n",
       "      <td>하단동</td>\n",
       "      <td>도시대기</td>\n",
       "      <td>0.002</td>\n",
       "      <td>0.5</td>\n",
       "      <td>0.005</td>\n",
       "      <td>0.031</td>\n",
       "      <td>25.0</td>\n",
       "      <td>17.0</td>\n",
       "      <td>51.0</td>\n",
       "    </tr>\n",
       "    <tr>\n",
       "      <th>628</th>\n",
       "      <td>부산</td>\n",
       "      <td>하단동</td>\n",
       "      <td>도시대기</td>\n",
       "      <td>0.004</td>\n",
       "      <td>0.5</td>\n",
       "      <td>0.002</td>\n",
       "      <td>0.047</td>\n",
       "      <td>27.0</td>\n",
       "      <td>17.0</td>\n",
       "      <td>78.0</td>\n",
       "    </tr>\n",
       "    <tr>\n",
       "      <th>629</th>\n",
       "      <td>부산</td>\n",
       "      <td>하단동</td>\n",
       "      <td>도시대기</td>\n",
       "      <td>0.004</td>\n",
       "      <td>0.8</td>\n",
       "      <td>0.002</td>\n",
       "      <td>0.061</td>\n",
       "      <td>32.0</td>\n",
       "      <td>26.0</td>\n",
       "      <td>101.0</td>\n",
       "    </tr>\n",
       "  </tbody>\n",
       "</table>\n",
       "<p>630 rows × 10 columns</p>\n",
       "</div>"
      ],
      "text/plain": [
       "    sidoName stationName mangName  so2Value  coValue  o3Value  no2Value  \\\n",
       "0         부산         광복동     도시대기     0.002      0.3    0.016     0.018   \n",
       "1         부산         초량동    도로변대기     0.002      0.4    0.010     0.028   \n",
       "2         부산         태종대     도시대기     0.003      0.2    0.019     0.020   \n",
       "3         부산         청학동     도시대기     0.003      0.2    0.021     0.018   \n",
       "4         부산         전포동     도시대기     0.002      0.2    0.016     0.014   \n",
       "..       ...         ...      ...       ...      ...      ...       ...   \n",
       "625       부산         하단동     도시대기     0.003      0.4    0.015     0.029   \n",
       "626       부산         하단동     도시대기     0.003      0.3    0.023     0.015   \n",
       "627       부산         하단동     도시대기     0.002      0.5    0.005     0.031   \n",
       "628       부산         하단동     도시대기     0.004      0.5    0.002     0.047   \n",
       "629       부산         하단동     도시대기     0.004      0.8    0.002     0.061   \n",
       "\n",
       "     pm10Value  pm25Value  khaiValue  \n",
       "0         11.0        8.0       30.0  \n",
       "1         16.0        5.0       47.0  \n",
       "2         15.0       10.0       33.0  \n",
       "3         10.0        7.0       35.0  \n",
       "4         14.0       10.0       37.0  \n",
       "..         ...        ...        ...  \n",
       "625       43.0       23.0       66.0  \n",
       "626       31.0       22.0       59.0  \n",
       "627       25.0       17.0       51.0  \n",
       "628       27.0       17.0       78.0  \n",
       "629       32.0       26.0      101.0  \n",
       "\n",
       "[630 rows x 10 columns]"
      ]
     },
     "execution_count": 18,
     "metadata": {},
     "output_type": "execute_result"
    }
   ],
   "source": [
    "df_air_pollution = df_air_pollution[df_air_pollution['sidoName']=='부산']\n",
    "df_air_pollution.reset_index(drop=True,inplace=True)\n",
    "df_air_pollution"
   ]
  },
  {
   "cell_type": "markdown",
   "metadata": {},
   "source": [
    "#### 부산시 오존 적합도"
   ]
  },
  {
   "cell_type": "code",
   "execution_count": 19,
   "metadata": {},
   "outputs": [
    {
     "data": {
      "application/vnd.plotly.v1+json": {
       "config": {
        "plotlyServerURL": "https://plot.ly"
       },
       "data": [
        {
         "fill": "tozeroy",
         "line": {
          "color": "rgb(239,85,59)"
         },
         "name": "부적합",
         "type": "scatter",
         "x": [
          -0.010069783147038231,
          -0.009937765135451986,
          -0.009805747123865742,
          -0.009673729112279497,
          -0.009541711100693252,
          -0.009409693089107007,
          -0.009277675077520763,
          -0.009145657065934518,
          -0.009013639054348273,
          -0.008881621042762028,
          -0.008749603031175784,
          -0.008617585019589539,
          -0.008485567008003294,
          -0.008353548996417048,
          -0.008221530984830805,
          -0.00808951297324456,
          -0.007957494961658314,
          -0.007825476950072071,
          -0.007693458938485826,
          -0.0075614409268995805,
          -0.007429422915313335,
          -0.007297404903727091,
          -0.007165386892140847,
          -0.007033368880554601,
          -0.006901350868968357,
          -0.006769332857382113,
          -0.006637314845795867,
          -0.006505296834209622,
          -0.006373278822623378,
          -0.0062412608110371335,
          -0.006109242799450888,
          -0.005977224787864643,
          -0.005845206776278399,
          -0.005713188764692154,
          -0.005581170753105909,
          -0.005449152741519665,
          -0.0053171347299334195,
          -0.005185116718347175,
          -0.00505309870676093,
          -0.004921080695174686,
          -0.00478906268358844,
          -0.004657044672002196,
          -0.004525026660415951,
          -0.0043930086488297064,
          -0.004260990637243461,
          -0.004128972625657217,
          -0.003996954614070972,
          -0.0038649366024847273,
          -0.003732918590898483,
          -0.0036009005793122377,
          -0.0034688825677259933,
          -0.003336864556139748,
          -0.0032048465445535038,
          -0.0030728285329672585,
          -0.002940810521381014,
          -0.002808792509794769,
          -0.0026767744982085246,
          -0.0025447564866222794,
          -0.002412738475036035,
          -0.00228072046344979,
          -0.0021487024518635454,
          -0.0020166844402773002,
          -0.001884666428691055,
          -0.0017526484171048115,
          -0.0016206304055185663,
          -0.001488612393932321,
          -0.0013565943823460776,
          -0.0012245763707598323,
          -0.0010925583591735871,
          -0.0009605403475873419,
          -0.0008285223360010984,
          -0.0006965043244148532,
          -0.000564486312828608,
          -0.00043246830124236274,
          -0.00030045028965611925,
          -0.00016843227806987403,
          -0.000036414266483628804,
          0.00009560374510261642,
          0.0002276217566888599,
          0.00035963976827510513,
          0.0004916577798613504,
          0.0006236757914475938,
          0.0007556938030338391,
          0.0008877118146200843,
          0.0010197298262063295,
          0.001151747837792573,
          0.0012837658493788182,
          0.0014157838609650635,
          0.0015478018725513087,
          0.0016798198841375522,
          0.0018118378957237974,
          0.0019438559073100426,
          0.002075873918896288,
          0.0022078919304825313,
          0.0023399099420687765,
          0.0024719279536550218,
          0.0026039459652412653,
          0.0027359639768275105,
          0.0028679819884137557,
          0.003
         ],
         "y": [
          5.505372476886441,
          5.6337298395435775,
          5.764259941646827,
          5.896975566447146,
          6.031888849251251,
          6.169011255521749,
          6.308353558956408,
          6.449925819565017,
          6.593737361762667,
          6.73979675249876,
          6.888111779441449,
          7.038689429237446,
          7.191535865867768,
          7.346656409120082,
          7.504055513198859,
          7.663736745494725,
          7.825702765534732,
          7.989955304135674,
          8.1564951427826,
          8.325322093255203,
          8.496434977524745,
          8.669831607944618,
          8.845508767757492,
          9.02346219194257,
          9.203686548426253,
          9.386175419679887,
          9.570921284728096,
          9.75791550159155,
          9.947148290187847,
          10.13860871571416,
          10.332284672535632,
          10.528162868602902,
          10.726228810422606,
          10.926466788604232,
          11.128859864006758,
          11.333389854508244,
          11.54003732242147,
          11.74878156257835,
          11.9596005911057,
          12.172471134914664,
          12.387368621925658,
          12.604267172050598,
          12.823139588953467,
          13.043957352610226,
          13.266690612688365,
          13.491308182766002,
          13.717777535410105,
          13.946064798132582,
          14.176134750242605,
          14.407950820613085,
          14.641475086378161,
          14.876668272578428,
          15.113489752769564,
          15.351897550609463,
          15.5918483424383,
          15.83329746086504,
          16.07619889937316,
          16.32050531795769,
          16.566168049804528,
          16.81313710902235,
          17.06136119943654,
          17.310787724453384,
          17.56136279800218,
          17.813031256561658,
          18.06573667227632,
          18.31942136716707,
          18.57402642843974,
          18.829491724893863,
          19.08575592443303,
          19.34275651267716,
          19.600429812675753,
          19.858711005720316,
          20.11753415325268,
          20.37683221986521,
          20.63653709738736,
          20.89657963005222,
          21.156889640735127,
          21.41739595825575,
          21.678026445733373,
          21.93870802998429,
          22.19936673194887,
          22.45992769813463,
          22.72031523306069,
          22.98045283268752,
          23.24026321881492,
          23.49966837442995,
          23.758589579985298,
          24.016947450587498,
          24.27466197407332,
          24.53165254995129,
          24.78783802918453,
          25.043136754789643,
          25.297466603225594,
          25.55074502654523,
          25.80288909528128,
          26.05381554203731,
          26.303440805753553,
          26.55168107661612,
          26.79845234157744,
          27.043670430454732
         ]
        },
        {
         "fill": "tozeroy",
         "line": {
          "color": "rgb(100,110,250)"
         },
         "name": "적합",
         "type": "scatter",
         "x": [
          0.003,
          0.003494949494949495,
          0.00398989898989899,
          0.004484848484848485,
          0.00497979797979798,
          0.005474747474747474,
          0.0059696969696969695,
          0.006464646464646465,
          0.006959595959595959,
          0.007454545454545454,
          0.00794949494949495,
          0.008444444444444444,
          0.008939393939393938,
          0.009434343434343434,
          0.009929292929292928,
          0.010424242424242423,
          0.010919191919191919,
          0.011414141414141411,
          0.011909090909090907,
          0.012404040404040403,
          0.012898989898989896,
          0.013393939393939392,
          0.013888888888888888,
          0.01438383838383838,
          0.014878787878787877,
          0.015373737373737373,
          0.015868686868686865,
          0.01636363636363636,
          0.016858585858585858,
          0.01735353535353535,
          0.017848484848484846,
          0.018343434343434342,
          0.018838383838383835,
          0.01933333333333333,
          0.019828282828282823,
          0.02032323232323232,
          0.020818181818181816,
          0.021313131313131308,
          0.021808080808080804,
          0.0223030303030303,
          0.022797979797979793,
          0.02329292929292929,
          0.023787878787878785,
          0.024282828282828278,
          0.024777777777777774,
          0.02527272727272727,
          0.025767676767676762,
          0.02626262626262626,
          0.026757575757575754,
          0.027252525252525247,
          0.027747474747474743,
          0.028242424242424236,
          0.02873737373737373,
          0.029232323232323228,
          0.02972727272727272,
          0.030222222222222216,
          0.030717171717171712,
          0.031212121212121205,
          0.031707070707070704,
          0.0322020202020202,
          0.03269696969696969,
          0.03319191919191919,
          0.03368686868686868,
          0.034181818181818174,
          0.034676767676767674,
          0.035171717171717166,
          0.035666666666666666,
          0.03616161616161616,
          0.03665656565656565,
          0.03715151515151515,
          0.03764646464646464,
          0.038141414141414136,
          0.038636363636363635,
          0.03913131313131313,
          0.03962626262626262,
          0.04012121212121212,
          0.04061616161616161,
          0.041111111111111105,
          0.041606060606060605,
          0.0421010101010101,
          0.04259595959595959,
          0.04309090909090909,
          0.04358585858585858,
          0.044080808080808075,
          0.044575757575757574,
          0.04507070707070707,
          0.04556565656565656,
          0.04606060606060606,
          0.04655555555555555,
          0.047050505050505044,
          0.047545454545454544,
          0.048040404040404036,
          0.04853535353535353,
          0.04903030303030303,
          0.04952525252525252,
          0.05002020202020201,
          0.05051515151515151,
          0.051010101010101006,
          0.0515050505050505,
          0.052
         ],
         "y": [
          27.043670430454732,
          27.94775351372452,
          28.824378884121558,
          29.6691288769783,
          30.477645708440402,
          31.24566853138342,
          31.96907055754991,
          32.64389579737734,
          33.266394962644526,
          33.833060077907604,
          34.340657354883305,
          34.78625789948167,
          35.16726584395819,
          35.48144352636501,
          35.726933375706025,
          35.902276203378044,
          36.00642564892081,
          36.03875857999779,
          35.99908130199035,
          35.887631490631705,
          35.70507582070201,
          35.452503323884606,
          35.131414568368704,
          34.74370681061046,
          34.291655324805234,
          33.77789116710787,
          33.20537567857629,
          32.57737207241313,
          31.89741448666437,
          31.169274912552055,
          30.396928430659447,
          29.58451720198439,
          28.736313668310814,
          27.856683416448586,
          26.950048153830895,
          26.020849229044327,
          25.073512110536672,
          24.112412210549373,
          23.141842409903,
          22.165982603354912,
          21.188871545638058,
          20.2143812358156,
          19.246194033106114,
          18.28778265171174,
          17.342393136267738,
          16.413030874143505,
          15.50244965673257,
          14.61314375978071,
          13.747342973351543,
          12.907010475766546,
          12.093843413242057,
          11.3092760183412,
          10.554485076027815,
          9.83039752622066,
          9.137699976367102,
          8.476849886667084,
          7.848088184073482,
          7.251453058890055,
          6.68679469943196,
          6.15379072549624,
          5.651962089952649,
          5.180689229216411,
          4.739228257282887,
          4.326727013957377,
          3.9422407954623995,
          3.5847476143167856,
          3.2531628548366336,
          2.946353210410487,
          2.6631498084790395,
          2.4023604485683547,
          2.162780897484316,
          1.943205203617053,
          1.742435009009279,
          1.5592878532376013,
          1.3926044771075134,
          1.2412551465790156,
          1.1041450281660474,
          0.9802186562712548,
          0.8684635405414278,
          0.767912967400916,
          0.6776480545071594,
          0.596799120062007,
          0.5245464308083274,
          0.4601203932602602,
          0.402801252382106,
          0.3519183606754845,
          0.30684907858867233,
          0.2670173644568042,
          0.23189210894356233,
          0.2009852653054468,
          0.173849822851981,
          0.15007766683393337,
          0.12929736375131454,
          0.11117190681761481,
          0.09539645211949369,
          0.0816960719341679,
          0.0698235477614606,
          0.059557221935061085,
          0.0506989232294502,
          0.04307197869767931
         ]
        }
       ],
       "layout": {
        "annotations": [
         {
          "bordercolor": "rgb(239,85,59)",
          "borderwidth": 2,
          "font": {
           "color": "rgb(239,85,59)",
           "size": 15
          },
          "showarrow": false,
          "text": "0.198",
          "x": 0.003,
          "xshift": -40,
          "y": 27.043670430454732,
          "yshift": -100
         },
         {
          "bordercolor": "rgb(100,110,250)",
          "borderwidth": 2,
          "font": {
           "color": "rgb(100,110,250)",
           "size": 15
          },
          "showarrow": false,
          "text": "0.802",
          "x": 0.003,
          "xshift": 40,
          "y": 27.043670430454732,
          "yshift": -100
         }
        ],
        "template": {
         "data": {
          "bar": [
           {
            "error_x": {
             "color": "#2a3f5f"
            },
            "error_y": {
             "color": "#2a3f5f"
            },
            "marker": {
             "line": {
              "color": "#E5ECF6",
              "width": 0.5
             },
             "pattern": {
              "fillmode": "overlay",
              "size": 10,
              "solidity": 0.2
             }
            },
            "type": "bar"
           }
          ],
          "barpolar": [
           {
            "marker": {
             "line": {
              "color": "#E5ECF6",
              "width": 0.5
             },
             "pattern": {
              "fillmode": "overlay",
              "size": 10,
              "solidity": 0.2
             }
            },
            "type": "barpolar"
           }
          ],
          "carpet": [
           {
            "aaxis": {
             "endlinecolor": "#2a3f5f",
             "gridcolor": "white",
             "linecolor": "white",
             "minorgridcolor": "white",
             "startlinecolor": "#2a3f5f"
            },
            "baxis": {
             "endlinecolor": "#2a3f5f",
             "gridcolor": "white",
             "linecolor": "white",
             "minorgridcolor": "white",
             "startlinecolor": "#2a3f5f"
            },
            "type": "carpet"
           }
          ],
          "choropleth": [
           {
            "colorbar": {
             "outlinewidth": 0,
             "ticks": ""
            },
            "type": "choropleth"
           }
          ],
          "contour": [
           {
            "colorbar": {
             "outlinewidth": 0,
             "ticks": ""
            },
            "colorscale": [
             [
              0,
              "#0d0887"
             ],
             [
              0.1111111111111111,
              "#46039f"
             ],
             [
              0.2222222222222222,
              "#7201a8"
             ],
             [
              0.3333333333333333,
              "#9c179e"
             ],
             [
              0.4444444444444444,
              "#bd3786"
             ],
             [
              0.5555555555555556,
              "#d8576b"
             ],
             [
              0.6666666666666666,
              "#ed7953"
             ],
             [
              0.7777777777777778,
              "#fb9f3a"
             ],
             [
              0.8888888888888888,
              "#fdca26"
             ],
             [
              1,
              "#f0f921"
             ]
            ],
            "type": "contour"
           }
          ],
          "contourcarpet": [
           {
            "colorbar": {
             "outlinewidth": 0,
             "ticks": ""
            },
            "type": "contourcarpet"
           }
          ],
          "heatmap": [
           {
            "colorbar": {
             "outlinewidth": 0,
             "ticks": ""
            },
            "colorscale": [
             [
              0,
              "#0d0887"
             ],
             [
              0.1111111111111111,
              "#46039f"
             ],
             [
              0.2222222222222222,
              "#7201a8"
             ],
             [
              0.3333333333333333,
              "#9c179e"
             ],
             [
              0.4444444444444444,
              "#bd3786"
             ],
             [
              0.5555555555555556,
              "#d8576b"
             ],
             [
              0.6666666666666666,
              "#ed7953"
             ],
             [
              0.7777777777777778,
              "#fb9f3a"
             ],
             [
              0.8888888888888888,
              "#fdca26"
             ],
             [
              1,
              "#f0f921"
             ]
            ],
            "type": "heatmap"
           }
          ],
          "heatmapgl": [
           {
            "colorbar": {
             "outlinewidth": 0,
             "ticks": ""
            },
            "colorscale": [
             [
              0,
              "#0d0887"
             ],
             [
              0.1111111111111111,
              "#46039f"
             ],
             [
              0.2222222222222222,
              "#7201a8"
             ],
             [
              0.3333333333333333,
              "#9c179e"
             ],
             [
              0.4444444444444444,
              "#bd3786"
             ],
             [
              0.5555555555555556,
              "#d8576b"
             ],
             [
              0.6666666666666666,
              "#ed7953"
             ],
             [
              0.7777777777777778,
              "#fb9f3a"
             ],
             [
              0.8888888888888888,
              "#fdca26"
             ],
             [
              1,
              "#f0f921"
             ]
            ],
            "type": "heatmapgl"
           }
          ],
          "histogram": [
           {
            "marker": {
             "pattern": {
              "fillmode": "overlay",
              "size": 10,
              "solidity": 0.2
             }
            },
            "type": "histogram"
           }
          ],
          "histogram2d": [
           {
            "colorbar": {
             "outlinewidth": 0,
             "ticks": ""
            },
            "colorscale": [
             [
              0,
              "#0d0887"
             ],
             [
              0.1111111111111111,
              "#46039f"
             ],
             [
              0.2222222222222222,
              "#7201a8"
             ],
             [
              0.3333333333333333,
              "#9c179e"
             ],
             [
              0.4444444444444444,
              "#bd3786"
             ],
             [
              0.5555555555555556,
              "#d8576b"
             ],
             [
              0.6666666666666666,
              "#ed7953"
             ],
             [
              0.7777777777777778,
              "#fb9f3a"
             ],
             [
              0.8888888888888888,
              "#fdca26"
             ],
             [
              1,
              "#f0f921"
             ]
            ],
            "type": "histogram2d"
           }
          ],
          "histogram2dcontour": [
           {
            "colorbar": {
             "outlinewidth": 0,
             "ticks": ""
            },
            "colorscale": [
             [
              0,
              "#0d0887"
             ],
             [
              0.1111111111111111,
              "#46039f"
             ],
             [
              0.2222222222222222,
              "#7201a8"
             ],
             [
              0.3333333333333333,
              "#9c179e"
             ],
             [
              0.4444444444444444,
              "#bd3786"
             ],
             [
              0.5555555555555556,
              "#d8576b"
             ],
             [
              0.6666666666666666,
              "#ed7953"
             ],
             [
              0.7777777777777778,
              "#fb9f3a"
             ],
             [
              0.8888888888888888,
              "#fdca26"
             ],
             [
              1,
              "#f0f921"
             ]
            ],
            "type": "histogram2dcontour"
           }
          ],
          "mesh3d": [
           {
            "colorbar": {
             "outlinewidth": 0,
             "ticks": ""
            },
            "type": "mesh3d"
           }
          ],
          "parcoords": [
           {
            "line": {
             "colorbar": {
              "outlinewidth": 0,
              "ticks": ""
             }
            },
            "type": "parcoords"
           }
          ],
          "pie": [
           {
            "automargin": true,
            "type": "pie"
           }
          ],
          "scatter": [
           {
            "marker": {
             "colorbar": {
              "outlinewidth": 0,
              "ticks": ""
             }
            },
            "type": "scatter"
           }
          ],
          "scatter3d": [
           {
            "line": {
             "colorbar": {
              "outlinewidth": 0,
              "ticks": ""
             }
            },
            "marker": {
             "colorbar": {
              "outlinewidth": 0,
              "ticks": ""
             }
            },
            "type": "scatter3d"
           }
          ],
          "scattercarpet": [
           {
            "marker": {
             "colorbar": {
              "outlinewidth": 0,
              "ticks": ""
             }
            },
            "type": "scattercarpet"
           }
          ],
          "scattergeo": [
           {
            "marker": {
             "colorbar": {
              "outlinewidth": 0,
              "ticks": ""
             }
            },
            "type": "scattergeo"
           }
          ],
          "scattergl": [
           {
            "marker": {
             "colorbar": {
              "outlinewidth": 0,
              "ticks": ""
             }
            },
            "type": "scattergl"
           }
          ],
          "scattermapbox": [
           {
            "marker": {
             "colorbar": {
              "outlinewidth": 0,
              "ticks": ""
             }
            },
            "type": "scattermapbox"
           }
          ],
          "scatterpolar": [
           {
            "marker": {
             "colorbar": {
              "outlinewidth": 0,
              "ticks": ""
             }
            },
            "type": "scatterpolar"
           }
          ],
          "scatterpolargl": [
           {
            "marker": {
             "colorbar": {
              "outlinewidth": 0,
              "ticks": ""
             }
            },
            "type": "scatterpolargl"
           }
          ],
          "scatterternary": [
           {
            "marker": {
             "colorbar": {
              "outlinewidth": 0,
              "ticks": ""
             }
            },
            "type": "scatterternary"
           }
          ],
          "surface": [
           {
            "colorbar": {
             "outlinewidth": 0,
             "ticks": ""
            },
            "colorscale": [
             [
              0,
              "#0d0887"
             ],
             [
              0.1111111111111111,
              "#46039f"
             ],
             [
              0.2222222222222222,
              "#7201a8"
             ],
             [
              0.3333333333333333,
              "#9c179e"
             ],
             [
              0.4444444444444444,
              "#bd3786"
             ],
             [
              0.5555555555555556,
              "#d8576b"
             ],
             [
              0.6666666666666666,
              "#ed7953"
             ],
             [
              0.7777777777777778,
              "#fb9f3a"
             ],
             [
              0.8888888888888888,
              "#fdca26"
             ],
             [
              1,
              "#f0f921"
             ]
            ],
            "type": "surface"
           }
          ],
          "table": [
           {
            "cells": {
             "fill": {
              "color": "#EBF0F8"
             },
             "line": {
              "color": "white"
             }
            },
            "header": {
             "fill": {
              "color": "#C8D4E3"
             },
             "line": {
              "color": "white"
             }
            },
            "type": "table"
           }
          ]
         },
         "layout": {
          "annotationdefaults": {
           "arrowcolor": "#2a3f5f",
           "arrowhead": 0,
           "arrowwidth": 1
          },
          "autotypenumbers": "strict",
          "coloraxis": {
           "colorbar": {
            "outlinewidth": 0,
            "ticks": ""
           }
          },
          "colorscale": {
           "diverging": [
            [
             0,
             "#8e0152"
            ],
            [
             0.1,
             "#c51b7d"
            ],
            [
             0.2,
             "#de77ae"
            ],
            [
             0.3,
             "#f1b6da"
            ],
            [
             0.4,
             "#fde0ef"
            ],
            [
             0.5,
             "#f7f7f7"
            ],
            [
             0.6,
             "#e6f5d0"
            ],
            [
             0.7,
             "#b8e186"
            ],
            [
             0.8,
             "#7fbc41"
            ],
            [
             0.9,
             "#4d9221"
            ],
            [
             1,
             "#276419"
            ]
           ],
           "sequential": [
            [
             0,
             "#0d0887"
            ],
            [
             0.1111111111111111,
             "#46039f"
            ],
            [
             0.2222222222222222,
             "#7201a8"
            ],
            [
             0.3333333333333333,
             "#9c179e"
            ],
            [
             0.4444444444444444,
             "#bd3786"
            ],
            [
             0.5555555555555556,
             "#d8576b"
            ],
            [
             0.6666666666666666,
             "#ed7953"
            ],
            [
             0.7777777777777778,
             "#fb9f3a"
            ],
            [
             0.8888888888888888,
             "#fdca26"
            ],
            [
             1,
             "#f0f921"
            ]
           ],
           "sequentialminus": [
            [
             0,
             "#0d0887"
            ],
            [
             0.1111111111111111,
             "#46039f"
            ],
            [
             0.2222222222222222,
             "#7201a8"
            ],
            [
             0.3333333333333333,
             "#9c179e"
            ],
            [
             0.4444444444444444,
             "#bd3786"
            ],
            [
             0.5555555555555556,
             "#d8576b"
            ],
            [
             0.6666666666666666,
             "#ed7953"
            ],
            [
             0.7777777777777778,
             "#fb9f3a"
            ],
            [
             0.8888888888888888,
             "#fdca26"
            ],
            [
             1,
             "#f0f921"
            ]
           ]
          },
          "colorway": [
           "#636efa",
           "#EF553B",
           "#00cc96",
           "#ab63fa",
           "#FFA15A",
           "#19d3f3",
           "#FF6692",
           "#B6E880",
           "#FF97FF",
           "#FECB52"
          ],
          "font": {
           "color": "#2a3f5f"
          },
          "geo": {
           "bgcolor": "white",
           "lakecolor": "white",
           "landcolor": "#E5ECF6",
           "showlakes": true,
           "showland": true,
           "subunitcolor": "white"
          },
          "hoverlabel": {
           "align": "left"
          },
          "hovermode": "closest",
          "mapbox": {
           "style": "light"
          },
          "paper_bgcolor": "white",
          "plot_bgcolor": "#E5ECF6",
          "polar": {
           "angularaxis": {
            "gridcolor": "white",
            "linecolor": "white",
            "ticks": ""
           },
           "bgcolor": "#E5ECF6",
           "radialaxis": {
            "gridcolor": "white",
            "linecolor": "white",
            "ticks": ""
           }
          },
          "scene": {
           "xaxis": {
            "backgroundcolor": "#E5ECF6",
            "gridcolor": "white",
            "gridwidth": 2,
            "linecolor": "white",
            "showbackground": true,
            "ticks": "",
            "zerolinecolor": "white"
           },
           "yaxis": {
            "backgroundcolor": "#E5ECF6",
            "gridcolor": "white",
            "gridwidth": 2,
            "linecolor": "white",
            "showbackground": true,
            "ticks": "",
            "zerolinecolor": "white"
           },
           "zaxis": {
            "backgroundcolor": "#E5ECF6",
            "gridcolor": "white",
            "gridwidth": 2,
            "linecolor": "white",
            "showbackground": true,
            "ticks": "",
            "zerolinecolor": "white"
           }
          },
          "shapedefaults": {
           "line": {
            "color": "#2a3f5f"
           }
          },
          "ternary": {
           "aaxis": {
            "gridcolor": "white",
            "linecolor": "white",
            "ticks": ""
           },
           "baxis": {
            "gridcolor": "white",
            "linecolor": "white",
            "ticks": ""
           },
           "bgcolor": "#E5ECF6",
           "caxis": {
            "gridcolor": "white",
            "linecolor": "white",
            "ticks": ""
           }
          },
          "title": {
           "x": 0.05
          },
          "xaxis": {
           "automargin": true,
           "gridcolor": "white",
           "linecolor": "white",
           "ticks": "",
           "title": {
            "standoff": 15
           },
           "zerolinecolor": "white",
           "zerolinewidth": 2
          },
          "yaxis": {
           "automargin": true,
           "gridcolor": "white",
           "linecolor": "white",
           "ticks": "",
           "title": {
            "standoff": 15
           },
           "zerolinecolor": "white",
           "zerolinewidth": 2
          }
         }
        },
        "yaxis": {
         "visible": false
        }
       }
      }
     },
     "metadata": {},
     "output_type": "display_data"
    },
    {
     "data": {
      "text/plain": [
       "0.8017202428389887"
      ]
     },
     "execution_count": 19,
     "metadata": {},
     "output_type": "execute_result"
    }
   ],
   "source": [
    "o3_pro,o3_pro_negative = cal_norm(df_air_pollution['o3Value'].mean(),df_air_pollution['o3Value'].std(),\n",
    "df_air_pollution['o3Value'].min(),df_air_pollution['o3Value'].max(),o3_standard,False)\n",
    "o3_pro"
   ]
  },
  {
   "cell_type": "markdown",
   "metadata": {},
   "source": [
    "#### 부산시 아황산가스 적합도"
   ]
  },
  {
   "cell_type": "code",
   "execution_count": 20,
   "metadata": {},
   "outputs": [
    {
     "data": {
      "application/vnd.plotly.v1+json": {
       "config": {
        "plotlyServerURL": "https://plot.ly"
       },
       "data": [
        {
         "fill": "tozeroy",
         "line": {
          "color": "rgb(239,85,59)"
         },
         "name": "부적합",
         "type": "scatter",
         "x": [
          -0.0003050176774148498,
          -0.00028173467057227556,
          -0.0002584516637297013,
          -0.00023516865688712706,
          -0.00021188565004455283,
          -0.00018860264320197858,
          -0.00016531963635940433,
          -0.0001420366295168301,
          -0.00011875362267425586,
          -0.00009547061583168161,
          -0.00007218760898910738,
          -0.00004890460214653316,
          -0.000025621595303958883,
          -0.000002338588461384659,
          0.000020944418381189565,
          0.00004422742522376384,
          0.00006751043206633807,
          0.00009079343890891229,
          0.00011407644575148657,
          0.0001373594525940608,
          0.00016064245943663502,
          0.0001839254662792093,
          0.00020720847312178346,
          0.00023049147996435774,
          0.000253774486806932,
          0.0002770574936495062,
          0.00030034050049208047,
          0.00032362350733465474,
          0.0003469065141772289,
          0.0003701895210198032,
          0.00039347252786237747,
          0.00041675553470495164,
          0.0004400385415475259,
          0.0004633215483901002,
          0.00048660455523267436,
          0.0005098875620752486,
          0.0005331705689178229,
          0.0005564535757603971,
          0.0005797365826029714,
          0.0006030195894455456,
          0.0006263025962881198,
          0.0006495856031306941,
          0.0006728686099732684,
          0.0006961516168158426,
          0.0007194346236584167,
          0.000742717630500991,
          0.0007660006373435653,
          0.0007892836441861395,
          0.0008125666510287138,
          0.0008358496578712881,
          0.0008591326647138622,
          0.0008824156715564364,
          0.0009056986783990107,
          0.000928981685241585,
          0.0009522646920841593,
          0.0009755476989267335,
          0.0009988307057693076,
          0.0010221137126118819,
          0.0010453967194544562,
          0.0010686797262970304,
          0.0010919627331396047,
          0.001115245739982179,
          0.001138528746824753,
          0.0011618117536673273,
          0.0011850947605099016,
          0.001208377767352476,
          0.0012316607741950502,
          0.0012549437810376242,
          0.0012782267878801985,
          0.0013015097947227728,
          0.001324792801565347,
          0.0013480758084079213,
          0.0013713588152504956,
          0.0013946418220930697,
          0.001417924828935644,
          0.0014412078357782182,
          0.0014644908426207925,
          0.0014877738494633668,
          0.001511056856305941,
          0.0015343398631485151,
          0.0015576228699910894,
          0.0015809058768336637,
          0.001604188883676238,
          0.0016274718905188122,
          0.0016507548973613865,
          0.0016740379042039606,
          0.001697320911046535,
          0.0017206039178891091,
          0.0017438869247316832,
          0.0017671699315742577,
          0.0017904529384168318,
          0.0018137359452594063,
          0.0018370189521019803,
          0.0018603019589445548,
          0.0018835849657871289,
          0.001906867972629703,
          0.0019301509794722774,
          0.0019534339863148515,
          0.001976716993157426,
          0.002
         ],
         "y": [
          11.560325595614255,
          12.098491823716255,
          12.657681567226495,
          13.238502372403454,
          13.841568638713207,
          14.467501133377166,
          15.116926473366775,
          15.790476574372962,
          16.488788066333573,
          17.212501675158027,
          17.962261570350186,
          18.73871467829412,
          19.542509961035865,
          20.374297660464766,
          21.234728507873346,
          22.124452898951823,
          23.044120034354705,
          23.994377026061105,
          24.97586796983726,
          25.989232984199827,
          27.035107216371383,
          28.114119815813922,
          29.22689287602517,
          30.374040345380575,
          31.556166907906814,
          32.77386683497564,
          34.02772280901192,
          35.31830472041567,
          36.64616843900653,
          38.01185456140496,
          39.415887135875145,
          40.858772366261945,
          42.34099729676335,
          43.8630284793874,
          45.42531062605068,
          47.02826524738071,
          48.67228928038963,
          50.35775370728935,
          52.08500216781901,
          53.85434956755245,
          55.66608068475069,
          57.52044877841318,
          59.41767420027182,
          61.35794301355432,
          63.34140562142318,
          65.36817540807071,
          67.4383273955199,
          69.55189691924457,
          71.70887832577917,
          73.90922369554086,
          76.15284159412953,
          78.43959585540985,
          80.76930439970937,
          83.14173809048877,
          85.55661963285448,
          88.01362251729056,
          90.51237001198344,
          93.05243420710349,
          95.63333511438405,
          98.25453982531302,
          100.91546173120979,
          103.6154598084134,
          106.35383797175068,
          109.12984449938266,
          111.94267153205242,
          114.79145464966871,
          117.6752725280624,
          120.59314667864541,
          123.54404127358559,
          126.52686305898246,
          129.54046135839428,
          132.58362816891946,
          135.65509835188172,
          138.7535499200024,
          141.87760442277272,
          145.02582743155529,
          148.19672912575683,
          151.38876498121442,
          154.6003365617355,
          157.82979241451758,
          161.07542906995894,
          164.33549214614288,
          167.60817755805377,
          170.8916328313439,
          174.18395852023477,
          177.48320972889152,
          180.78739773536483,
          184.09449171694502,
          187.40242057552533,
          190.70907486131694,
          194.01230879300908,
          197.30994237221665,
          200.5997635898034,
          203.87953072142756,
          207.14697470940135,
          210.39980162772298,
          213.63569522689252,
          216.85231955489436,
          220.0473216504995,
          223.21833430481644
         ]
        },
        {
         "fill": "tozeroy",
         "line": {
          "color": "rgb(100,110,250)"
         },
         "name": "적합",
         "type": "scatter",
         "x": [
          0.002,
          0.0020909090909090908,
          0.002181818181818182,
          0.0022727272727272726,
          0.0023636363636363638,
          0.0024545454545454545,
          0.002545454545454545,
          0.0026363636363636363,
          0.0027272727272727275,
          0.002818181818181818,
          0.002909090909090909,
          0.003,
          0.0030909090909090908,
          0.0031818181818181815,
          0.0032727272727272726,
          0.003363636363636364,
          0.0034545454545454545,
          0.003545454545454545,
          0.0036363636363636364,
          0.0037272727272727275,
          0.0038181818181818182,
          0.003909090909090909,
          0.004,
          0.004090909090909091,
          0.0041818181818181815,
          0.004272727272727273,
          0.004363636363636363,
          0.004454545454545454,
          0.004545454545454545,
          0.004636363636363636,
          0.0047272727272727275,
          0.004818181818181819,
          0.004909090909090909,
          0.004999999999999999,
          0.00509090909090909,
          0.0051818181818181815,
          0.005272727272727273,
          0.005363636363636364,
          0.005454545454545455,
          0.005545454545454545,
          0.005636363636363636,
          0.005727272727272727,
          0.005818181818181818,
          0.005909090909090909,
          0.006,
          0.00609090909090909,
          0.0061818181818181816,
          0.006272727272727273,
          0.006363636363636363,
          0.006454545454545454,
          0.006545454545454545,
          0.006636363636363636,
          0.006727272727272727,
          0.006818181818181818,
          0.006909090909090909,
          0.007,
          0.00709090909090909,
          0.007181818181818182,
          0.007272727272727273,
          0.007363636363636363,
          0.007454545454545454,
          0.007545454545454545,
          0.0076363636363636364,
          0.007727272727272727,
          0.007818181818181818,
          0.007909090909090909,
          0.008,
          0.00809090909090909,
          0.008181818181818182,
          0.008272727272727272,
          0.008363636363636363,
          0.008454545454545454,
          0.008545454545454545,
          0.008636363636363636,
          0.008727272727272726,
          0.008818181818181819,
          0.008909090909090908,
          0.009,
          0.00909090909090909,
          0.009181818181818182,
          0.009272727272727273,
          0.009363636363636362,
          0.009454545454545455,
          0.009545454545454544,
          0.009636363636363636,
          0.009727272727272727,
          0.009818181818181818,
          0.009909090909090909,
          0.01,
          0.01009090909090909,
          0.01018181818181818,
          0.010272727272727272,
          0.010363636363636363,
          0.010454545454545454,
          0.010545454545454545,
          0.010636363636363637,
          0.010727272727272726,
          0.010818181818181817,
          0.010909090909090908,
          0.011
         ],
         "y": [
          223.21833430481644,
          235.3250095815844,
          246.8873362763008,
          257.76387380100346,
          267.81678531331795,
          276.91472022172,
          284.9356562333814,
          291.7696154635461,
          297.32117034482155,
          301.5116596389779,
          304.28104266678673,
          305.58933067572104,
          305.417547651797,
          303.7681883081226,
          300.66515780002095,
          296.1531952029427,
          290.2968001874441,
          283.178698882629,
          274.89789992737855,
          265.5674045405319,
          255.3116445833551,
          244.26372966479116,
          232.56258813164342,
          220.35008723369097,
          207.76821495961727,
          194.95640025443265,
          182.04903993367077,
          169.17329008930506,
          156.44716769652865,
          143.97799508002953,
          131.86120649206168,
          120.17952287770727,
          109.00248848863492,
          98.38635181348283,
          88.37426368608763,
          78.99675767377393,
          70.27247209043595,
          62.2090692707976,
          54.804306032275754,
          48.04720940251025,
          41.919313496766115,
          36.395916630612845,
          31.44732205653008,
          27.040030810309393,
          23.137860738261526,
          19.702971560197764,
          16.696781545839947,
          14.080766821622516,
          11.817139302336141,
          9.869403625532364,
          8.202797169820114,
          6.78462021819011,
          5.584465580061774,
          4.574358539415315,
          3.7288189058033656,
          3.0248572839998746,
          2.4419175326133833,
          1.9617768442563215,
          1.5684140424366357,
          1.2478556418254776,
          0.9880080400630764,
          0.7784829719567141,
          0.6104221205666381,
          0.47632559205079805,
          0.3698878582029669,
          0.2858437772303911,
          0.21982643439024063,
          0.16823780602610788,
          0.12813264272652067,
          0.09711548376794354,
          0.0732503457906288,
          0.05498236131325868,
          0.04107046336120119,
          0.030530106886738934,
          0.02258497186429038,
          0.01662659391948644,
          0.012180904348609608,
          0.008880722155079696,
          0.006443317612355295,
          0.00465225277384233,
          0.003342793694317519,
          0.0023902776571290535,
          0.001700903350487632,
          0.0012044906365517012,
          0.0008488280581128543,
          0.000595289924858913,
          0.00041546060072115775,
          0.00028855171781880587,
          0.0001994389552381556,
          0.00013717937622612672,
          0.0000938988263375493,
          0.00006396229103327137,
          0.00004335911060549744,
          0.000029250226022548374,
          0.000019636794458960616,
          0.000013119112892980303,
          0.000008722296610056188,
          0.000005770982269961284,
          0.0000037998034772148586,
          0.0000024898033020516023
         ]
        }
       ],
       "layout": {
        "annotations": [
         {
          "bordercolor": "rgb(239,85,59)",
          "borderwidth": 2,
          "font": {
           "color": "rgb(239,85,59)",
           "size": 15
          },
          "showarrow": false,
          "text": "0.209",
          "x": 0.002,
          "xshift": -40,
          "y": 223.21833430481644,
          "yshift": -100
         },
         {
          "bordercolor": "rgb(100,110,250)",
          "borderwidth": 2,
          "font": {
           "color": "rgb(100,110,250)",
           "size": 15
          },
          "showarrow": false,
          "text": "0.791",
          "x": 0.002,
          "xshift": 40,
          "y": 223.21833430481644,
          "yshift": -100
         }
        ],
        "template": {
         "data": {
          "bar": [
           {
            "error_x": {
             "color": "#2a3f5f"
            },
            "error_y": {
             "color": "#2a3f5f"
            },
            "marker": {
             "line": {
              "color": "#E5ECF6",
              "width": 0.5
             },
             "pattern": {
              "fillmode": "overlay",
              "size": 10,
              "solidity": 0.2
             }
            },
            "type": "bar"
           }
          ],
          "barpolar": [
           {
            "marker": {
             "line": {
              "color": "#E5ECF6",
              "width": 0.5
             },
             "pattern": {
              "fillmode": "overlay",
              "size": 10,
              "solidity": 0.2
             }
            },
            "type": "barpolar"
           }
          ],
          "carpet": [
           {
            "aaxis": {
             "endlinecolor": "#2a3f5f",
             "gridcolor": "white",
             "linecolor": "white",
             "minorgridcolor": "white",
             "startlinecolor": "#2a3f5f"
            },
            "baxis": {
             "endlinecolor": "#2a3f5f",
             "gridcolor": "white",
             "linecolor": "white",
             "minorgridcolor": "white",
             "startlinecolor": "#2a3f5f"
            },
            "type": "carpet"
           }
          ],
          "choropleth": [
           {
            "colorbar": {
             "outlinewidth": 0,
             "ticks": ""
            },
            "type": "choropleth"
           }
          ],
          "contour": [
           {
            "colorbar": {
             "outlinewidth": 0,
             "ticks": ""
            },
            "colorscale": [
             [
              0,
              "#0d0887"
             ],
             [
              0.1111111111111111,
              "#46039f"
             ],
             [
              0.2222222222222222,
              "#7201a8"
             ],
             [
              0.3333333333333333,
              "#9c179e"
             ],
             [
              0.4444444444444444,
              "#bd3786"
             ],
             [
              0.5555555555555556,
              "#d8576b"
             ],
             [
              0.6666666666666666,
              "#ed7953"
             ],
             [
              0.7777777777777778,
              "#fb9f3a"
             ],
             [
              0.8888888888888888,
              "#fdca26"
             ],
             [
              1,
              "#f0f921"
             ]
            ],
            "type": "contour"
           }
          ],
          "contourcarpet": [
           {
            "colorbar": {
             "outlinewidth": 0,
             "ticks": ""
            },
            "type": "contourcarpet"
           }
          ],
          "heatmap": [
           {
            "colorbar": {
             "outlinewidth": 0,
             "ticks": ""
            },
            "colorscale": [
             [
              0,
              "#0d0887"
             ],
             [
              0.1111111111111111,
              "#46039f"
             ],
             [
              0.2222222222222222,
              "#7201a8"
             ],
             [
              0.3333333333333333,
              "#9c179e"
             ],
             [
              0.4444444444444444,
              "#bd3786"
             ],
             [
              0.5555555555555556,
              "#d8576b"
             ],
             [
              0.6666666666666666,
              "#ed7953"
             ],
             [
              0.7777777777777778,
              "#fb9f3a"
             ],
             [
              0.8888888888888888,
              "#fdca26"
             ],
             [
              1,
              "#f0f921"
             ]
            ],
            "type": "heatmap"
           }
          ],
          "heatmapgl": [
           {
            "colorbar": {
             "outlinewidth": 0,
             "ticks": ""
            },
            "colorscale": [
             [
              0,
              "#0d0887"
             ],
             [
              0.1111111111111111,
              "#46039f"
             ],
             [
              0.2222222222222222,
              "#7201a8"
             ],
             [
              0.3333333333333333,
              "#9c179e"
             ],
             [
              0.4444444444444444,
              "#bd3786"
             ],
             [
              0.5555555555555556,
              "#d8576b"
             ],
             [
              0.6666666666666666,
              "#ed7953"
             ],
             [
              0.7777777777777778,
              "#fb9f3a"
             ],
             [
              0.8888888888888888,
              "#fdca26"
             ],
             [
              1,
              "#f0f921"
             ]
            ],
            "type": "heatmapgl"
           }
          ],
          "histogram": [
           {
            "marker": {
             "pattern": {
              "fillmode": "overlay",
              "size": 10,
              "solidity": 0.2
             }
            },
            "type": "histogram"
           }
          ],
          "histogram2d": [
           {
            "colorbar": {
             "outlinewidth": 0,
             "ticks": ""
            },
            "colorscale": [
             [
              0,
              "#0d0887"
             ],
             [
              0.1111111111111111,
              "#46039f"
             ],
             [
              0.2222222222222222,
              "#7201a8"
             ],
             [
              0.3333333333333333,
              "#9c179e"
             ],
             [
              0.4444444444444444,
              "#bd3786"
             ],
             [
              0.5555555555555556,
              "#d8576b"
             ],
             [
              0.6666666666666666,
              "#ed7953"
             ],
             [
              0.7777777777777778,
              "#fb9f3a"
             ],
             [
              0.8888888888888888,
              "#fdca26"
             ],
             [
              1,
              "#f0f921"
             ]
            ],
            "type": "histogram2d"
           }
          ],
          "histogram2dcontour": [
           {
            "colorbar": {
             "outlinewidth": 0,
             "ticks": ""
            },
            "colorscale": [
             [
              0,
              "#0d0887"
             ],
             [
              0.1111111111111111,
              "#46039f"
             ],
             [
              0.2222222222222222,
              "#7201a8"
             ],
             [
              0.3333333333333333,
              "#9c179e"
             ],
             [
              0.4444444444444444,
              "#bd3786"
             ],
             [
              0.5555555555555556,
              "#d8576b"
             ],
             [
              0.6666666666666666,
              "#ed7953"
             ],
             [
              0.7777777777777778,
              "#fb9f3a"
             ],
             [
              0.8888888888888888,
              "#fdca26"
             ],
             [
              1,
              "#f0f921"
             ]
            ],
            "type": "histogram2dcontour"
           }
          ],
          "mesh3d": [
           {
            "colorbar": {
             "outlinewidth": 0,
             "ticks": ""
            },
            "type": "mesh3d"
           }
          ],
          "parcoords": [
           {
            "line": {
             "colorbar": {
              "outlinewidth": 0,
              "ticks": ""
             }
            },
            "type": "parcoords"
           }
          ],
          "pie": [
           {
            "automargin": true,
            "type": "pie"
           }
          ],
          "scatter": [
           {
            "marker": {
             "colorbar": {
              "outlinewidth": 0,
              "ticks": ""
             }
            },
            "type": "scatter"
           }
          ],
          "scatter3d": [
           {
            "line": {
             "colorbar": {
              "outlinewidth": 0,
              "ticks": ""
             }
            },
            "marker": {
             "colorbar": {
              "outlinewidth": 0,
              "ticks": ""
             }
            },
            "type": "scatter3d"
           }
          ],
          "scattercarpet": [
           {
            "marker": {
             "colorbar": {
              "outlinewidth": 0,
              "ticks": ""
             }
            },
            "type": "scattercarpet"
           }
          ],
          "scattergeo": [
           {
            "marker": {
             "colorbar": {
              "outlinewidth": 0,
              "ticks": ""
             }
            },
            "type": "scattergeo"
           }
          ],
          "scattergl": [
           {
            "marker": {
             "colorbar": {
              "outlinewidth": 0,
              "ticks": ""
             }
            },
            "type": "scattergl"
           }
          ],
          "scattermapbox": [
           {
            "marker": {
             "colorbar": {
              "outlinewidth": 0,
              "ticks": ""
             }
            },
            "type": "scattermapbox"
           }
          ],
          "scatterpolar": [
           {
            "marker": {
             "colorbar": {
              "outlinewidth": 0,
              "ticks": ""
             }
            },
            "type": "scatterpolar"
           }
          ],
          "scatterpolargl": [
           {
            "marker": {
             "colorbar": {
              "outlinewidth": 0,
              "ticks": ""
             }
            },
            "type": "scatterpolargl"
           }
          ],
          "scatterternary": [
           {
            "marker": {
             "colorbar": {
              "outlinewidth": 0,
              "ticks": ""
             }
            },
            "type": "scatterternary"
           }
          ],
          "surface": [
           {
            "colorbar": {
             "outlinewidth": 0,
             "ticks": ""
            },
            "colorscale": [
             [
              0,
              "#0d0887"
             ],
             [
              0.1111111111111111,
              "#46039f"
             ],
             [
              0.2222222222222222,
              "#7201a8"
             ],
             [
              0.3333333333333333,
              "#9c179e"
             ],
             [
              0.4444444444444444,
              "#bd3786"
             ],
             [
              0.5555555555555556,
              "#d8576b"
             ],
             [
              0.6666666666666666,
              "#ed7953"
             ],
             [
              0.7777777777777778,
              "#fb9f3a"
             ],
             [
              0.8888888888888888,
              "#fdca26"
             ],
             [
              1,
              "#f0f921"
             ]
            ],
            "type": "surface"
           }
          ],
          "table": [
           {
            "cells": {
             "fill": {
              "color": "#EBF0F8"
             },
             "line": {
              "color": "white"
             }
            },
            "header": {
             "fill": {
              "color": "#C8D4E3"
             },
             "line": {
              "color": "white"
             }
            },
            "type": "table"
           }
          ]
         },
         "layout": {
          "annotationdefaults": {
           "arrowcolor": "#2a3f5f",
           "arrowhead": 0,
           "arrowwidth": 1
          },
          "autotypenumbers": "strict",
          "coloraxis": {
           "colorbar": {
            "outlinewidth": 0,
            "ticks": ""
           }
          },
          "colorscale": {
           "diverging": [
            [
             0,
             "#8e0152"
            ],
            [
             0.1,
             "#c51b7d"
            ],
            [
             0.2,
             "#de77ae"
            ],
            [
             0.3,
             "#f1b6da"
            ],
            [
             0.4,
             "#fde0ef"
            ],
            [
             0.5,
             "#f7f7f7"
            ],
            [
             0.6,
             "#e6f5d0"
            ],
            [
             0.7,
             "#b8e186"
            ],
            [
             0.8,
             "#7fbc41"
            ],
            [
             0.9,
             "#4d9221"
            ],
            [
             1,
             "#276419"
            ]
           ],
           "sequential": [
            [
             0,
             "#0d0887"
            ],
            [
             0.1111111111111111,
             "#46039f"
            ],
            [
             0.2222222222222222,
             "#7201a8"
            ],
            [
             0.3333333333333333,
             "#9c179e"
            ],
            [
             0.4444444444444444,
             "#bd3786"
            ],
            [
             0.5555555555555556,
             "#d8576b"
            ],
            [
             0.6666666666666666,
             "#ed7953"
            ],
            [
             0.7777777777777778,
             "#fb9f3a"
            ],
            [
             0.8888888888888888,
             "#fdca26"
            ],
            [
             1,
             "#f0f921"
            ]
           ],
           "sequentialminus": [
            [
             0,
             "#0d0887"
            ],
            [
             0.1111111111111111,
             "#46039f"
            ],
            [
             0.2222222222222222,
             "#7201a8"
            ],
            [
             0.3333333333333333,
             "#9c179e"
            ],
            [
             0.4444444444444444,
             "#bd3786"
            ],
            [
             0.5555555555555556,
             "#d8576b"
            ],
            [
             0.6666666666666666,
             "#ed7953"
            ],
            [
             0.7777777777777778,
             "#fb9f3a"
            ],
            [
             0.8888888888888888,
             "#fdca26"
            ],
            [
             1,
             "#f0f921"
            ]
           ]
          },
          "colorway": [
           "#636efa",
           "#EF553B",
           "#00cc96",
           "#ab63fa",
           "#FFA15A",
           "#19d3f3",
           "#FF6692",
           "#B6E880",
           "#FF97FF",
           "#FECB52"
          ],
          "font": {
           "color": "#2a3f5f"
          },
          "geo": {
           "bgcolor": "white",
           "lakecolor": "white",
           "landcolor": "#E5ECF6",
           "showlakes": true,
           "showland": true,
           "subunitcolor": "white"
          },
          "hoverlabel": {
           "align": "left"
          },
          "hovermode": "closest",
          "mapbox": {
           "style": "light"
          },
          "paper_bgcolor": "white",
          "plot_bgcolor": "#E5ECF6",
          "polar": {
           "angularaxis": {
            "gridcolor": "white",
            "linecolor": "white",
            "ticks": ""
           },
           "bgcolor": "#E5ECF6",
           "radialaxis": {
            "gridcolor": "white",
            "linecolor": "white",
            "ticks": ""
           }
          },
          "scene": {
           "xaxis": {
            "backgroundcolor": "#E5ECF6",
            "gridcolor": "white",
            "gridwidth": 2,
            "linecolor": "white",
            "showbackground": true,
            "ticks": "",
            "zerolinecolor": "white"
           },
           "yaxis": {
            "backgroundcolor": "#E5ECF6",
            "gridcolor": "white",
            "gridwidth": 2,
            "linecolor": "white",
            "showbackground": true,
            "ticks": "",
            "zerolinecolor": "white"
           },
           "zaxis": {
            "backgroundcolor": "#E5ECF6",
            "gridcolor": "white",
            "gridwidth": 2,
            "linecolor": "white",
            "showbackground": true,
            "ticks": "",
            "zerolinecolor": "white"
           }
          },
          "shapedefaults": {
           "line": {
            "color": "#2a3f5f"
           }
          },
          "ternary": {
           "aaxis": {
            "gridcolor": "white",
            "linecolor": "white",
            "ticks": ""
           },
           "baxis": {
            "gridcolor": "white",
            "linecolor": "white",
            "ticks": ""
           },
           "bgcolor": "#E5ECF6",
           "caxis": {
            "gridcolor": "white",
            "linecolor": "white",
            "ticks": ""
           }
          },
          "title": {
           "x": 0.05
          },
          "xaxis": {
           "automargin": true,
           "gridcolor": "white",
           "linecolor": "white",
           "ticks": "",
           "title": {
            "standoff": 15
           },
           "zerolinecolor": "white",
           "zerolinewidth": 2
          },
          "yaxis": {
           "automargin": true,
           "gridcolor": "white",
           "linecolor": "white",
           "ticks": "",
           "title": {
            "standoff": 15
           },
           "zerolinecolor": "white",
           "zerolinewidth": 2
          }
         }
        },
        "yaxis": {
         "visible": false
        }
       }
      }
     },
     "metadata": {},
     "output_type": "display_data"
    },
    {
     "data": {
      "text/plain": [
       "0.7911203783441816"
      ]
     },
     "execution_count": 20,
     "metadata": {},
     "output_type": "execute_result"
    }
   ],
   "source": [
    "so2_pro,so2_pro_negative = cal_norm(df_air_pollution['so2Value'].mean(),\n",
    "                                    df_air_pollution['so2Value'].std(),\n",
    "                                    df_air_pollution['so2Value'].min(),\n",
    "                                    df_air_pollution['so2Value'].max(),\n",
    "                                    so2_standard,\n",
    "                                    False)\n",
    "so2_pro"
   ]
  },
  {
   "cell_type": "markdown",
   "metadata": {},
   "source": [
    "#### 부산시 이산화질소 적합도"
   ]
  },
  {
   "cell_type": "code",
   "execution_count": 21,
   "metadata": {},
   "outputs": [
    {
     "data": {
      "application/vnd.plotly.v1+json": {
       "config": {
        "plotlyServerURL": "https://plot.ly"
       },
       "data": [
        {
         "fill": "tozeroy",
         "line": {
          "color": "rgb(239,85,59)"
         },
         "name": "부적합",
         "type": "scatter",
         "x": [
          -0.013482172600794599,
          -0.01322477691795829,
          -0.012967381235121981,
          -0.012709985552285672,
          -0.012452589869449363,
          -0.012195194186613053,
          -0.011937798503776744,
          -0.011680402820940435,
          -0.011423007138104126,
          -0.011165611455267817,
          -0.010908215772431508,
          -0.010650820089595198,
          -0.010393424406758889,
          -0.01013602872392258,
          -0.009878633041086271,
          -0.009621237358249962,
          -0.009363841675413653,
          -0.009106445992577344,
          -0.008849050309741036,
          -0.008591654626904727,
          -0.008334258944068418,
          -0.008076863261232109,
          -0.007819467578395798,
          -0.0075620718955594895,
          -0.007304676212723181,
          -0.007047280529886872,
          -0.006789884847050563,
          -0.006532489164214253,
          -0.006275093481377944,
          -0.006017697798541635,
          -0.005760302115705326,
          -0.005502906432869017,
          -0.005245510750032708,
          -0.004988115067196399,
          -0.00473071938436009,
          -0.004473323701523781,
          -0.0042159280186874724,
          -0.003958532335851162,
          -0.003701136653014853,
          -0.003443740970178544,
          -0.0031863452873422352,
          -0.0029289496045059264,
          -0.0026715539216696175,
          -0.0024141582388333086,
          -0.002156762555996998,
          -0.0018993668731606891,
          -0.0016419711903243803,
          -0.0013845755074880714,
          -0.0011271798246517625,
          -0.0008697841418154537,
          -0.0006123884589791448,
          -0.0003549927761428359,
          -0.00009759709330652705,
          0.00015979858952978356,
          0.0004171942723660924,
          0.0006745899552024013,
          0.0009319856380387102,
          0.001189381320875019,
          0.001446777003711328,
          0.0017041726865476368,
          0.0019615683693839474,
          0.0022189640522202563,
          0.002476359735056565,
          0.002733755417892874,
          0.002991151100729183,
          0.0032485467835654917,
          0.0035059424664018006,
          0.0037633381492381095,
          0.004020733832074418,
          0.004278129514910727,
          0.004535525197747036,
          0.004792920880583345,
          0.005050316563419654,
          0.005307712246255966,
          0.005565107929092275,
          0.005822503611928584,
          0.006079899294764893,
          0.006337294977601202,
          0.0065946906604375105,
          0.006852086343273819,
          0.007109482026110128,
          0.007366877708946437,
          0.007624273391782746,
          0.007881669074619055,
          0.008139064757455364,
          0.008396460440291673,
          0.008653856123127981,
          0.00891125180596429,
          0.009168647488800603,
          0.009426043171636912,
          0.00968343885447322,
          0.00994083453730953,
          0.010198230220145838,
          0.010455625902982147,
          0.010713021585818456,
          0.010970417268654765,
          0.011227812951491074,
          0.011485208634327383,
          0.011742604317163691,
          0.012
         ],
         "y": [
          0.23146126863326524,
          0.2444972077367689,
          0.2581857621756191,
          0.2725545808043204,
          0.28763219333400664,
          0.30344802231535845,
          0.32003239433777453,
          0.33741655037966134,
          0.35563265524300713,
          0.3747138060038599,
          0.39469403940880643,
          0.41560833814618175,
          0.4374926359194355,
          0.46038382124893623,
          0.48431973992744826,
          0.5093391960536324,
          0.535481951567163,
          0.5627887242084822,
          0.5913011838257826,
          0.6210619469515788,
          0.6521145695711734,
          0.6845035380054751,
          0.7182742578309836,
          0.753473040760331,
          0.7901470894075684,
          0.828344479863432,
          0.8681141420070981,
          0.9095058374824762,
          0.9525701352688879,
          0.9973583847780402,
          1.0439226864115498,
          1.0923158595158697,
          1.1425914076744483,
          1.1948034812800483,
          1.2490068373337422,
          1.3052567964208626,
          1.3636091968182822,
          1.42412034569182,
          1.4868469673472762,
          1.5518461485036263,
          1.6191752805622175,
          1.6888919988514541,
          1.7610541188323852,
          1.8357195692568242,
          1.912946322276168,
          1.9927923205058793,
          2.0753154010576607,
          2.160573216558747,
          2.2486231531852914,
          2.339522245744732,
          2.4333270898500965,
          2.5300937512375117,
          2.6298776722867325,
          2.732733575813189,
          2.83871536620895,
          2.947876028019058,
          3.0602675220488225,
          3.1759406791069837,
          3.2949450914990166,
          3.417329002394297,
          3.5431391932003096,
          3.6724208690866087,
          3.8052175428107486,
          3.9415709170077506,
          4.081520765114182,
          4.225104811107133,
          4.372358608247529,
          4.523315417026256,
          4.67800608252033,
          4.836458911374979,
          4.9986995486357735,
          5.164750854663047,
          5.334632782368484,
          5.508362255021209,
          5.685953044877579,
          5.867415652895556,
          6.052757189800505,
          6.241981258774956,
          6.435087840049989,
          6.632073177680317,
          6.83292966878926,
          7.037645755573042,
          7.246205820356604,
          7.4585900839951815,
          7.674774507917215,
          7.894730700104852,
          8.118425825308117,
          8.345822519788069,
          8.57687881088253,
          8.81154804168554,
          9.049778801128507,
          9.2915148597468,
          9.536695111410747,
          9.785253521294088,
          10.037119080346445,
          10.292215766528695,
          10.550462513061992,
          10.811773183931793,
          11.076056556878255,
          11.34321631409347
         ]
        },
        {
         "fill": "tozeroy",
         "line": {
          "color": "rgb(100,110,250)"
         },
         "name": "적합",
         "type": "scatter",
         "x": [
          0.012,
          0.012767676767676768,
          0.013535353535353536,
          0.014303030303030304,
          0.015070707070707071,
          0.01583838383838384,
          0.016606060606060607,
          0.017373737373737375,
          0.018141414141414142,
          0.01890909090909091,
          0.019676767676767678,
          0.020444444444444446,
          0.02121212121212121,
          0.02197979797979798,
          0.022747474747474745,
          0.023515151515151517,
          0.02428282828282828,
          0.025050505050505052,
          0.025818181818181817,
          0.026585858585858588,
          0.027353535353535352,
          0.02812121212121212,
          0.028888888888888888,
          0.029656565656565655,
          0.030424242424242423,
          0.03119191919191919,
          0.03195959595959596,
          0.03272727272727273,
          0.033494949494949494,
          0.03426262626262626,
          0.03503030303030303,
          0.0357979797979798,
          0.036565656565656565,
          0.03733333333333333,
          0.0381010101010101,
          0.03886868686868687,
          0.039636363636363636,
          0.0404040404040404,
          0.04117171717171717,
          0.04193939393939394,
          0.04270707070707071,
          0.04347474747474747,
          0.044242424242424236,
          0.045010101010101014,
          0.04577777777777778,
          0.04654545454545454,
          0.04731313131313131,
          0.048080808080808085,
          0.04884848484848485,
          0.049616161616161614,
          0.05038383838383838,
          0.051151515151515156,
          0.05191919191919192,
          0.052686868686868685,
          0.05345454545454545,
          0.05422222222222223,
          0.05498989898989899,
          0.055757575757575756,
          0.05652525252525252,
          0.0572929292929293,
          0.05806060606060606,
          0.05882828282828283,
          0.05959595959595959,
          0.06036363636363637,
          0.061131313131313134,
          0.0618989898989899,
          0.06266666666666666,
          0.06343434343434343,
          0.0642020202020202,
          0.06496969696969697,
          0.06573737373737373,
          0.0665050505050505,
          0.06727272727272728,
          0.06804040404040404,
          0.0688080808080808,
          0.06957575757575757,
          0.07034343434343435,
          0.07111111111111111,
          0.07187878787878788,
          0.07264646464646464,
          0.07341414141414142,
          0.07418181818181818,
          0.07494949494949495,
          0.07571717171717171,
          0.07648484848484847,
          0.07725252525252525,
          0.07802020202020202,
          0.07878787878787878,
          0.07955555555555555,
          0.08032323232323232,
          0.08109090909090909,
          0.08185858585858585,
          0.08262626262626262,
          0.0833939393939394,
          0.08416161616161616,
          0.08492929292929292,
          0.08569696969696969,
          0.08646464646464645,
          0.08723232323232323,
          0.088
         ],
         "y": [
          11.34321631409347,
          12.15607139285878,
          12.990622126620638,
          13.843513813166163,
          14.711007158575738,
          15.588996351943264,
          16.473033597325863,
          17.358360081868174,
          18.239943227795568,
          19.11251994041194,
          19.97064542763289,
          20.80874703240858,
          21.621182391235717,
          22.4023011134253,
          23.14650907038115,
          23.84833429513256,
          24.502493422701942,
          25.103957554087643,
          25.648016402682856,
          26.13033958320331,
          26.547033930352722,
          26.894695787495966,
          27.17045728378047,
          27.372025719967755,
          27.497715306531838,
          27.546470639535155,
          27.517881457028466,
          27.412188387395904,
          27.230279576991567,
          26.973678263173774,
          26.64452153593961,
          26.24553070234392,
          25.77997382849411,
          25.251621180199045,
          24.664694411809556,
          24.02381046044841,
          23.333921187340643,
          22.6002498676547,
          21.828225664206386,
          21.02341722834902,
          20.191466553886393,
          19.33802416809693,
          18.468686679776834,
          17.58893761997787,
          16.704092409678143,
          15.819248173183865,
          14.939238990071319,
          14.068597045523337,
          13.211520002602303,
          12.371844783844793,
          11.55302781688983,
          10.758131672707416,
          9.989817908070908,
          9.250345818492715,
          8.541576715742258,
          7.86498326662876,
          7.221663367815622,
          6.612357985411217,
          6.037472357874661,
          5.497099945883277,
          4.991048512361919,
          4.518867728684895,
          4.079877727688269,
          3.673198058939647,
          3.297776544947129,
          2.952417586825932,
          2.6358095225558182,
          2.34655069857832,
          2.0831739744221713,
          1.8441694387651317,
          1.6280051724652451,
          1.4331459484384779,
          1.2580698088392581,
          1.1012825060427898,
          0.9613298348669563,
          0.8368079189424966,
          0.7263715439644035,
          0.6287406547272951,
          0.5427051515033636,
          0.4671281347307716,
          0.4009477555124402,
          0.3431778335283826,
          0.29290740414227756,
          0.2492993532716942,
          0.2115882925412775,
          0.17907781889542018,
          0.15113729273824553,
          0.1271982572896967,
          0.10675060965190165,
          0.08933862147685176,
          0.07455689447006886,
          0.06204632355660756,
          0.05149012862276493,
          0.042610004524152915,
          0.035162428663871065,
          0.028935155993481308,
          0.023743922833789156,
          0.019429373476001578,
          0.01585421710054161,
          0.012900617109785085
         ]
        }
       ],
       "layout": {
        "annotations": [
         {
          "bordercolor": "rgb(239,85,59)",
          "borderwidth": 2,
          "font": {
           "color": "rgb(239,85,59)",
           "size": 15
          },
          "showarrow": false,
          "text": "0.09",
          "x": 0.012,
          "xshift": -40,
          "y": 11.34321631409347,
          "yshift": -100
         },
         {
          "bordercolor": "rgb(100,110,250)",
          "borderwidth": 2,
          "font": {
           "color": "rgb(100,110,250)",
           "size": 15
          },
          "showarrow": false,
          "text": "0.91",
          "x": 0.012,
          "xshift": 40,
          "y": 11.34321631409347,
          "yshift": -100
         }
        ],
        "template": {
         "data": {
          "bar": [
           {
            "error_x": {
             "color": "#2a3f5f"
            },
            "error_y": {
             "color": "#2a3f5f"
            },
            "marker": {
             "line": {
              "color": "#E5ECF6",
              "width": 0.5
             },
             "pattern": {
              "fillmode": "overlay",
              "size": 10,
              "solidity": 0.2
             }
            },
            "type": "bar"
           }
          ],
          "barpolar": [
           {
            "marker": {
             "line": {
              "color": "#E5ECF6",
              "width": 0.5
             },
             "pattern": {
              "fillmode": "overlay",
              "size": 10,
              "solidity": 0.2
             }
            },
            "type": "barpolar"
           }
          ],
          "carpet": [
           {
            "aaxis": {
             "endlinecolor": "#2a3f5f",
             "gridcolor": "white",
             "linecolor": "white",
             "minorgridcolor": "white",
             "startlinecolor": "#2a3f5f"
            },
            "baxis": {
             "endlinecolor": "#2a3f5f",
             "gridcolor": "white",
             "linecolor": "white",
             "minorgridcolor": "white",
             "startlinecolor": "#2a3f5f"
            },
            "type": "carpet"
           }
          ],
          "choropleth": [
           {
            "colorbar": {
             "outlinewidth": 0,
             "ticks": ""
            },
            "type": "choropleth"
           }
          ],
          "contour": [
           {
            "colorbar": {
             "outlinewidth": 0,
             "ticks": ""
            },
            "colorscale": [
             [
              0,
              "#0d0887"
             ],
             [
              0.1111111111111111,
              "#46039f"
             ],
             [
              0.2222222222222222,
              "#7201a8"
             ],
             [
              0.3333333333333333,
              "#9c179e"
             ],
             [
              0.4444444444444444,
              "#bd3786"
             ],
             [
              0.5555555555555556,
              "#d8576b"
             ],
             [
              0.6666666666666666,
              "#ed7953"
             ],
             [
              0.7777777777777778,
              "#fb9f3a"
             ],
             [
              0.8888888888888888,
              "#fdca26"
             ],
             [
              1,
              "#f0f921"
             ]
            ],
            "type": "contour"
           }
          ],
          "contourcarpet": [
           {
            "colorbar": {
             "outlinewidth": 0,
             "ticks": ""
            },
            "type": "contourcarpet"
           }
          ],
          "heatmap": [
           {
            "colorbar": {
             "outlinewidth": 0,
             "ticks": ""
            },
            "colorscale": [
             [
              0,
              "#0d0887"
             ],
             [
              0.1111111111111111,
              "#46039f"
             ],
             [
              0.2222222222222222,
              "#7201a8"
             ],
             [
              0.3333333333333333,
              "#9c179e"
             ],
             [
              0.4444444444444444,
              "#bd3786"
             ],
             [
              0.5555555555555556,
              "#d8576b"
             ],
             [
              0.6666666666666666,
              "#ed7953"
             ],
             [
              0.7777777777777778,
              "#fb9f3a"
             ],
             [
              0.8888888888888888,
              "#fdca26"
             ],
             [
              1,
              "#f0f921"
             ]
            ],
            "type": "heatmap"
           }
          ],
          "heatmapgl": [
           {
            "colorbar": {
             "outlinewidth": 0,
             "ticks": ""
            },
            "colorscale": [
             [
              0,
              "#0d0887"
             ],
             [
              0.1111111111111111,
              "#46039f"
             ],
             [
              0.2222222222222222,
              "#7201a8"
             ],
             [
              0.3333333333333333,
              "#9c179e"
             ],
             [
              0.4444444444444444,
              "#bd3786"
             ],
             [
              0.5555555555555556,
              "#d8576b"
             ],
             [
              0.6666666666666666,
              "#ed7953"
             ],
             [
              0.7777777777777778,
              "#fb9f3a"
             ],
             [
              0.8888888888888888,
              "#fdca26"
             ],
             [
              1,
              "#f0f921"
             ]
            ],
            "type": "heatmapgl"
           }
          ],
          "histogram": [
           {
            "marker": {
             "pattern": {
              "fillmode": "overlay",
              "size": 10,
              "solidity": 0.2
             }
            },
            "type": "histogram"
           }
          ],
          "histogram2d": [
           {
            "colorbar": {
             "outlinewidth": 0,
             "ticks": ""
            },
            "colorscale": [
             [
              0,
              "#0d0887"
             ],
             [
              0.1111111111111111,
              "#46039f"
             ],
             [
              0.2222222222222222,
              "#7201a8"
             ],
             [
              0.3333333333333333,
              "#9c179e"
             ],
             [
              0.4444444444444444,
              "#bd3786"
             ],
             [
              0.5555555555555556,
              "#d8576b"
             ],
             [
              0.6666666666666666,
              "#ed7953"
             ],
             [
              0.7777777777777778,
              "#fb9f3a"
             ],
             [
              0.8888888888888888,
              "#fdca26"
             ],
             [
              1,
              "#f0f921"
             ]
            ],
            "type": "histogram2d"
           }
          ],
          "histogram2dcontour": [
           {
            "colorbar": {
             "outlinewidth": 0,
             "ticks": ""
            },
            "colorscale": [
             [
              0,
              "#0d0887"
             ],
             [
              0.1111111111111111,
              "#46039f"
             ],
             [
              0.2222222222222222,
              "#7201a8"
             ],
             [
              0.3333333333333333,
              "#9c179e"
             ],
             [
              0.4444444444444444,
              "#bd3786"
             ],
             [
              0.5555555555555556,
              "#d8576b"
             ],
             [
              0.6666666666666666,
              "#ed7953"
             ],
             [
              0.7777777777777778,
              "#fb9f3a"
             ],
             [
              0.8888888888888888,
              "#fdca26"
             ],
             [
              1,
              "#f0f921"
             ]
            ],
            "type": "histogram2dcontour"
           }
          ],
          "mesh3d": [
           {
            "colorbar": {
             "outlinewidth": 0,
             "ticks": ""
            },
            "type": "mesh3d"
           }
          ],
          "parcoords": [
           {
            "line": {
             "colorbar": {
              "outlinewidth": 0,
              "ticks": ""
             }
            },
            "type": "parcoords"
           }
          ],
          "pie": [
           {
            "automargin": true,
            "type": "pie"
           }
          ],
          "scatter": [
           {
            "marker": {
             "colorbar": {
              "outlinewidth": 0,
              "ticks": ""
             }
            },
            "type": "scatter"
           }
          ],
          "scatter3d": [
           {
            "line": {
             "colorbar": {
              "outlinewidth": 0,
              "ticks": ""
             }
            },
            "marker": {
             "colorbar": {
              "outlinewidth": 0,
              "ticks": ""
             }
            },
            "type": "scatter3d"
           }
          ],
          "scattercarpet": [
           {
            "marker": {
             "colorbar": {
              "outlinewidth": 0,
              "ticks": ""
             }
            },
            "type": "scattercarpet"
           }
          ],
          "scattergeo": [
           {
            "marker": {
             "colorbar": {
              "outlinewidth": 0,
              "ticks": ""
             }
            },
            "type": "scattergeo"
           }
          ],
          "scattergl": [
           {
            "marker": {
             "colorbar": {
              "outlinewidth": 0,
              "ticks": ""
             }
            },
            "type": "scattergl"
           }
          ],
          "scattermapbox": [
           {
            "marker": {
             "colorbar": {
              "outlinewidth": 0,
              "ticks": ""
             }
            },
            "type": "scattermapbox"
           }
          ],
          "scatterpolar": [
           {
            "marker": {
             "colorbar": {
              "outlinewidth": 0,
              "ticks": ""
             }
            },
            "type": "scatterpolar"
           }
          ],
          "scatterpolargl": [
           {
            "marker": {
             "colorbar": {
              "outlinewidth": 0,
              "ticks": ""
             }
            },
            "type": "scatterpolargl"
           }
          ],
          "scatterternary": [
           {
            "marker": {
             "colorbar": {
              "outlinewidth": 0,
              "ticks": ""
             }
            },
            "type": "scatterternary"
           }
          ],
          "surface": [
           {
            "colorbar": {
             "outlinewidth": 0,
             "ticks": ""
            },
            "colorscale": [
             [
              0,
              "#0d0887"
             ],
             [
              0.1111111111111111,
              "#46039f"
             ],
             [
              0.2222222222222222,
              "#7201a8"
             ],
             [
              0.3333333333333333,
              "#9c179e"
             ],
             [
              0.4444444444444444,
              "#bd3786"
             ],
             [
              0.5555555555555556,
              "#d8576b"
             ],
             [
              0.6666666666666666,
              "#ed7953"
             ],
             [
              0.7777777777777778,
              "#fb9f3a"
             ],
             [
              0.8888888888888888,
              "#fdca26"
             ],
             [
              1,
              "#f0f921"
             ]
            ],
            "type": "surface"
           }
          ],
          "table": [
           {
            "cells": {
             "fill": {
              "color": "#EBF0F8"
             },
             "line": {
              "color": "white"
             }
            },
            "header": {
             "fill": {
              "color": "#C8D4E3"
             },
             "line": {
              "color": "white"
             }
            },
            "type": "table"
           }
          ]
         },
         "layout": {
          "annotationdefaults": {
           "arrowcolor": "#2a3f5f",
           "arrowhead": 0,
           "arrowwidth": 1
          },
          "autotypenumbers": "strict",
          "coloraxis": {
           "colorbar": {
            "outlinewidth": 0,
            "ticks": ""
           }
          },
          "colorscale": {
           "diverging": [
            [
             0,
             "#8e0152"
            ],
            [
             0.1,
             "#c51b7d"
            ],
            [
             0.2,
             "#de77ae"
            ],
            [
             0.3,
             "#f1b6da"
            ],
            [
             0.4,
             "#fde0ef"
            ],
            [
             0.5,
             "#f7f7f7"
            ],
            [
             0.6,
             "#e6f5d0"
            ],
            [
             0.7,
             "#b8e186"
            ],
            [
             0.8,
             "#7fbc41"
            ],
            [
             0.9,
             "#4d9221"
            ],
            [
             1,
             "#276419"
            ]
           ],
           "sequential": [
            [
             0,
             "#0d0887"
            ],
            [
             0.1111111111111111,
             "#46039f"
            ],
            [
             0.2222222222222222,
             "#7201a8"
            ],
            [
             0.3333333333333333,
             "#9c179e"
            ],
            [
             0.4444444444444444,
             "#bd3786"
            ],
            [
             0.5555555555555556,
             "#d8576b"
            ],
            [
             0.6666666666666666,
             "#ed7953"
            ],
            [
             0.7777777777777778,
             "#fb9f3a"
            ],
            [
             0.8888888888888888,
             "#fdca26"
            ],
            [
             1,
             "#f0f921"
            ]
           ],
           "sequentialminus": [
            [
             0,
             "#0d0887"
            ],
            [
             0.1111111111111111,
             "#46039f"
            ],
            [
             0.2222222222222222,
             "#7201a8"
            ],
            [
             0.3333333333333333,
             "#9c179e"
            ],
            [
             0.4444444444444444,
             "#bd3786"
            ],
            [
             0.5555555555555556,
             "#d8576b"
            ],
            [
             0.6666666666666666,
             "#ed7953"
            ],
            [
             0.7777777777777778,
             "#fb9f3a"
            ],
            [
             0.8888888888888888,
             "#fdca26"
            ],
            [
             1,
             "#f0f921"
            ]
           ]
          },
          "colorway": [
           "#636efa",
           "#EF553B",
           "#00cc96",
           "#ab63fa",
           "#FFA15A",
           "#19d3f3",
           "#FF6692",
           "#B6E880",
           "#FF97FF",
           "#FECB52"
          ],
          "font": {
           "color": "#2a3f5f"
          },
          "geo": {
           "bgcolor": "white",
           "lakecolor": "white",
           "landcolor": "#E5ECF6",
           "showlakes": true,
           "showland": true,
           "subunitcolor": "white"
          },
          "hoverlabel": {
           "align": "left"
          },
          "hovermode": "closest",
          "mapbox": {
           "style": "light"
          },
          "paper_bgcolor": "white",
          "plot_bgcolor": "#E5ECF6",
          "polar": {
           "angularaxis": {
            "gridcolor": "white",
            "linecolor": "white",
            "ticks": ""
           },
           "bgcolor": "#E5ECF6",
           "radialaxis": {
            "gridcolor": "white",
            "linecolor": "white",
            "ticks": ""
           }
          },
          "scene": {
           "xaxis": {
            "backgroundcolor": "#E5ECF6",
            "gridcolor": "white",
            "gridwidth": 2,
            "linecolor": "white",
            "showbackground": true,
            "ticks": "",
            "zerolinecolor": "white"
           },
           "yaxis": {
            "backgroundcolor": "#E5ECF6",
            "gridcolor": "white",
            "gridwidth": 2,
            "linecolor": "white",
            "showbackground": true,
            "ticks": "",
            "zerolinecolor": "white"
           },
           "zaxis": {
            "backgroundcolor": "#E5ECF6",
            "gridcolor": "white",
            "gridwidth": 2,
            "linecolor": "white",
            "showbackground": true,
            "ticks": "",
            "zerolinecolor": "white"
           }
          },
          "shapedefaults": {
           "line": {
            "color": "#2a3f5f"
           }
          },
          "ternary": {
           "aaxis": {
            "gridcolor": "white",
            "linecolor": "white",
            "ticks": ""
           },
           "baxis": {
            "gridcolor": "white",
            "linecolor": "white",
            "ticks": ""
           },
           "bgcolor": "#E5ECF6",
           "caxis": {
            "gridcolor": "white",
            "linecolor": "white",
            "ticks": ""
           }
          },
          "title": {
           "x": 0.05
          },
          "xaxis": {
           "automargin": true,
           "gridcolor": "white",
           "linecolor": "white",
           "ticks": "",
           "title": {
            "standoff": 15
           },
           "zerolinecolor": "white",
           "zerolinewidth": 2
          },
          "yaxis": {
           "automargin": true,
           "gridcolor": "white",
           "linecolor": "white",
           "ticks": "",
           "title": {
            "standoff": 15
           },
           "zerolinecolor": "white",
           "zerolinewidth": 2
          }
         }
        },
        "yaxis": {
         "visible": false
        }
       }
      }
     },
     "metadata": {},
     "output_type": "display_data"
    },
    {
     "data": {
      "text/plain": [
       "0.909590433996196"
      ]
     },
     "execution_count": 21,
     "metadata": {},
     "output_type": "execute_result"
    }
   ],
   "source": [
    "no2_pro,no2_pro_negative = cal_norm(df_air_pollution['no2Value'].mean(),df_air_pollution['no2Value'].std(),\n",
    "df_air_pollution['no2Value'].min(),df_air_pollution['no2Value'].max(),no2_standard,False)\n",
    "no2_pro"
   ]
  },
  {
   "cell_type": "markdown",
   "metadata": {},
   "source": [
    "#### 부산시 일산화탄소 적합도"
   ]
  },
  {
   "cell_type": "code",
   "execution_count": 22,
   "metadata": {},
   "outputs": [
    {
     "data": {
      "application/vnd.plotly.v1+json": {
       "config": {
        "plotlyServerURL": "https://plot.ly"
       },
       "data": [
        {
         "fill": "tozeroy",
         "line": {
          "color": "rgb(239,85,59)"
         },
         "name": "부적합",
         "type": "scatter",
         "x": [
          -0.05011238124923392,
          -0.046575892549746714,
          -0.0430394038502595,
          -0.03950291515077229,
          -0.035966426451285075,
          -0.032429937751797866,
          -0.028893449052310654,
          -0.025356960352823442,
          -0.02182047165333623,
          -0.018283982953849018,
          -0.01474749425436181,
          -0.011211005554874594,
          -0.007674516855387385,
          -0.00413802815590017,
          -0.0006015394564129611,
          0.0029349492430742544,
          0.006471437942561463,
          0.010007926642048671,
          0.013544415341535887,
          0.017080904041023096,
          0.020617392740510304,
          0.024153881439997527,
          0.027690370139484735,
          0.031226858838971944,
          0.03476334753845915,
          0.03829983623794636,
          0.04183632493743358,
          0.04537281363692079,
          0.048909302336408,
          0.05244579103589521,
          0.05598227973538243,
          0.05951876843486964,
          0.06305525713435685,
          0.06659174583384406,
          0.07012823453333127,
          0.07366472323281849,
          0.0772012119323057,
          0.08073770063179292,
          0.08427418933128011,
          0.08781067803076734,
          0.09134716673025453,
          0.09488365542974175,
          0.09842014412922898,
          0.10195663282871617,
          0.10549312152820339,
          0.10902961022769059,
          0.11256609892717781,
          0.11610258762666503,
          0.11963907632615223,
          0.12317556502563945,
          0.12671205372512664,
          0.13024854242461387,
          0.1337850311241011,
          0.13732151982358828,
          0.1408580085230755,
          0.14439449722256273,
          0.14793098592204992,
          0.15146747462153715,
          0.15500396332102434,
          0.15854045202051156,
          0.16207694071999879,
          0.16561342941948598,
          0.1691499181189732,
          0.1726864068184604,
          0.17622289551794762,
          0.17975938421743484,
          0.18329587291692204,
          0.18683236161640926,
          0.19036885031589645,
          0.19390533901538368,
          0.1974418277148709,
          0.20097831641435812,
          0.20451480511384532,
          0.2080512938133325,
          0.21158778251281976,
          0.21512427121230696,
          0.21866075991179415,
          0.22219724861128134,
          0.2257337373107686,
          0.2292702260102558,
          0.23280671470974298,
          0.23634320340923023,
          0.23987969210871743,
          0.24341618080820462,
          0.24695266950769187,
          0.2504891582071791,
          0.2540256469066663,
          0.2575621356061535,
          0.2610986243056407,
          0.2646351130051279,
          0.26817160170461507,
          0.2717080904041024,
          0.27524457910358957,
          0.27878106780307677,
          0.28231755650256396,
          0.28585404520205115,
          0.28939053390153835,
          0.29292702260102566,
          0.29646351130051285,
          0.3
         ],
         "y": [
          0.012350107005380794,
          0.013337843641295987,
          0.014396584796633038,
          0.015530745161459863,
          0.016744958048103723,
          0.018044081928935696,
          0.019433206838400188,
          0.020917660606549843,
          0.02250301488947658,
          0.02419509096017508,
          0.025999965221543207,
          0.027923974401432374,
          0.029973720387914973,
          0.032156074661252323,
          0.034478182277438235,
          0.036947465356672655,
          0.039571626028703316,
          0.04235864878567116,
          0.04531680219193198,
          0.04845463989930597,
          0.0517810009153546,
          0.05530500907160998,
          0.059036071638206435,
          0.06298387703110025,
          0.0671583915580256,
          0.07156985514954955,
          0.07622877602205283,
          0.08114592422021132,
          0.0863323239875861,
          0.09179924491526803,
          0.09755819182017576,
          0.10362089330658719,
          0.10999928896680967,
          0.1167055151795583,
          0.12375188946764179,
          0.13115089337994565,
          0.13891515386646036,
          0.14705742311923317,
          0.1555905568566272,
          0.16452749103314734,
          0.17388121696233913,
          0.18366475484587816,
          0.19389112570793213,
          0.20457332174019835,
          0.21572427506965972,
          0.2273568249680763,
          0.23948368352949734,
          0.25211739984962434,
          0.2652703227486645,
          0.27895456208735603,
          0.29318194873407444,
          0.30796399324935503,
          0.3233118433626998,
          0.339236240325197,
          0.35574747423017955,
          0.37285533840288354,
          0.3905690829687688,
          0.4088973677187987,
          0.427848214398489,
          0.447428958555893,
          0.46764620109181243,
          0.4885057596633965,
          0.5100126200998317,
          0.532170887995977,
          0.5549837406565665,
          0.5784533795698241,
          0.6025809835950805,
          0.6273666630540974,
          0.6528094149203076,
          0.6789070793039789,
          0.7056562974343636,
          0.7330524713421944,
          0.7610897254473236,
          0.7897608702568909,
          0.8190573683790845,
          0.8489693030562939,
          0.8794853494192238,
          0.9105927486603086,
          0.9422772853205215,
          0.974523267878404,
          1.007313512823821,
          1.040629332391574,
          1.0744505261216104,
          1.1087553764031006,
          1.1435206481491857,
          1.1787215927376982,
          1.2143319563407156,
          1.2503239927523446,
          1.2866684808098374,
          1.3233347464879057,
          1.3602906897300995,
          1.397502816064309,
          1.434936273031973,
          1.47255489144247,
          1.5103212314454686,
          1.5481966333948842,
          1.5861412734585303,
          1.6241142239077067,
          1.6620735180008837,
          1.699976219355496
         ]
        },
        {
         "fill": "tozeroy",
         "line": {
          "color": "rgb(100,110,250)"
         },
         "name": "적합",
         "type": "scatter",
         "x": [
          0.3,
          0.30808080808080807,
          0.31616161616161614,
          0.3242424242424242,
          0.3323232323232323,
          0.3404040404040404,
          0.34848484848484845,
          0.35656565656565653,
          0.36464646464646466,
          0.3727272727272727,
          0.3808080808080808,
          0.3888888888888889,
          0.396969696969697,
          0.40505050505050505,
          0.4131313131313131,
          0.4212121212121212,
          0.4292929292929293,
          0.43737373737373736,
          0.44545454545454544,
          0.4535353535353535,
          0.4616161616161616,
          0.4696969696969697,
          0.47777777777777775,
          0.4858585858585859,
          0.4939393939393939,
          0.502020202020202,
          0.51010101010101,
          0.5181818181818182,
          0.5262626262626262,
          0.5343434343434343,
          0.5424242424242425,
          0.5505050505050505,
          0.5585858585858585,
          0.5666666666666667,
          0.5747474747474748,
          0.5828282828282828,
          0.5909090909090908,
          0.598989898989899,
          0.6070707070707071,
          0.6151515151515151,
          0.6232323232323231,
          0.6313131313131313,
          0.6393939393939394,
          0.6474747474747475,
          0.6555555555555556,
          0.6636363636363636,
          0.6717171717171717,
          0.6797979797979798,
          0.6878787878787879,
          0.6959595959595959,
          0.704040404040404,
          0.7121212121212122,
          0.7202020202020202,
          0.7282828282828282,
          0.7363636363636363,
          0.7444444444444445,
          0.7525252525252526,
          0.7606060606060606,
          0.7686868686868686,
          0.7767676767676768,
          0.7848484848484849,
          0.7929292929292929,
          0.801010101010101,
          0.8090909090909091,
          0.8171717171717172,
          0.8252525252525253,
          0.8333333333333333,
          0.8414141414141414,
          0.8494949494949495,
          0.8575757575757577,
          0.8656565656565656,
          0.8737373737373737,
          0.8818181818181818,
          0.88989898989899,
          0.8979797979797979,
          0.906060606060606,
          0.9141414141414141,
          0.9222222222222223,
          0.9303030303030302,
          0.9383838383838383,
          0.9464646464646465,
          0.9545454545454546,
          0.9626262626262627,
          0.9707070707070706,
          0.9787878787878788,
          0.9868686868686869,
          0.994949494949495,
          1.003030303030303,
          1.011111111111111,
          1.0191919191919192,
          1.0272727272727273,
          1.0353535353535352,
          1.0434343434343434,
          1.0515151515151515,
          1.0595959595959596,
          1.0676767676767676,
          1.0757575757575757,
          1.0838383838383838,
          1.091919191919192,
          1.1
         ],
         "y": [
          1.699976219355496,
          1.7861343931955607,
          1.871228821454718,
          1.9547046258754937,
          2.0359957226601133,
          2.1145310153966284,
          2.189740928541526,
          2.2610641800227245,
          2.327954682539281,
          2.389888456398774,
          2.4463704325116167,
          2.496941022650259,
          2.5411823354044327,
          2.5787239204657215,
          2.6092479309176175,
          2.632493602968739,
          2.648260964843258,
          2.6564137010533093,
          2.6568811146736806,
          2.6496591481110108,
          2.6348104417534297,
          2.6124634293149382,
          2.5828104881480227,
          2.5461051817830667,
          2.5026586499741663,
          2.4528352181285973,
          2.397047312756693,
          2.3357497821429987,
          2.2694337315189266,
          2.1986199893982827,
          2.1238523262878815,
          2.045690548657413,
          1.9647035898806224,
          1.8814627159581154,
          1.7965349573892238,
          1.7104768698304225,
          1.6238287154702675,
          1.537109144718782,
          1.4508104442367922,
          1.3653944029195264,
          1.2812888326049945,
          1.1988847653990025,
          1.1185343349725696,
          1.0405493353409032,
          0.9652004377829801,
          0.8927170349676221,
          0.8232876712243814,
          0.7570610093894006,
          0.6941472778658014,
          0.6346201365084285,
          0.5785188966650784,
          0.5258510291241213,
          0.47659489373265823,
          0.430702625925215,
          0.3881031181767838,
          0.3487050382808621,
          0.31239983115421716,
          0.27906465638016326,
          0.2485652197161202,
          0.22075846311056138,
          0.19549508421235526,
          0.17262186274124725,
          0.1519837772708296,
          0.13342590182568653,
          0.11679507710688768,
          0.10194135605296424,
          0.0887192277588899,
          0.07698862747790056,
          0.06661574350566213,
          0.057473634197472256,
          0.049442670217357695,
          0.042410818397098614,
          0.03627378433826593,
          0.03093503117415044,
          0.026305691779314366,
          0.022304391233583565,
          0.018856995576582283,
          0.015896301889091982,
          0.013361683566531933,
          0.011198703361513383,
          0.009358705415504934,
          0.007798396117224519,
          0.00647942225445706,
          0.005367953597385704,
          0.004434275789943292,
          0.0036523982500283564,
          0.0029996807031736133,
          0.00245648100599998,
          0.0020058260598158116,
          0.0016331068716248101,
          0.0013257981871134345,
          0.0010732025929822264,
          0.0008662185574740214,
          0.0006971315400149156,
          0.0005594270445426565,
          0.00044762430693671957,
          0.00035712918548183917,
          0.0002841047551922415,
          0.00022535808322405004,
          0.00017824167523289322
         ]
        }
       ],
       "layout": {
        "annotations": [
         {
          "bordercolor": "rgb(239,85,59)",
          "borderwidth": 2,
          "font": {
           "color": "rgb(239,85,59)",
           "size": 15
          },
          "showarrow": false,
          "text": "0.171",
          "x": 0.3,
          "xshift": -40,
          "y": 1.699976219355496,
          "yshift": -100
         },
         {
          "bordercolor": "rgb(100,110,250)",
          "borderwidth": 2,
          "font": {
           "color": "rgb(100,110,250)",
           "size": 15
          },
          "showarrow": false,
          "text": "0.829",
          "x": 0.3,
          "xshift": 40,
          "y": 1.699976219355496,
          "yshift": -100
         }
        ],
        "template": {
         "data": {
          "bar": [
           {
            "error_x": {
             "color": "#2a3f5f"
            },
            "error_y": {
             "color": "#2a3f5f"
            },
            "marker": {
             "line": {
              "color": "#E5ECF6",
              "width": 0.5
             },
             "pattern": {
              "fillmode": "overlay",
              "size": 10,
              "solidity": 0.2
             }
            },
            "type": "bar"
           }
          ],
          "barpolar": [
           {
            "marker": {
             "line": {
              "color": "#E5ECF6",
              "width": 0.5
             },
             "pattern": {
              "fillmode": "overlay",
              "size": 10,
              "solidity": 0.2
             }
            },
            "type": "barpolar"
           }
          ],
          "carpet": [
           {
            "aaxis": {
             "endlinecolor": "#2a3f5f",
             "gridcolor": "white",
             "linecolor": "white",
             "minorgridcolor": "white",
             "startlinecolor": "#2a3f5f"
            },
            "baxis": {
             "endlinecolor": "#2a3f5f",
             "gridcolor": "white",
             "linecolor": "white",
             "minorgridcolor": "white",
             "startlinecolor": "#2a3f5f"
            },
            "type": "carpet"
           }
          ],
          "choropleth": [
           {
            "colorbar": {
             "outlinewidth": 0,
             "ticks": ""
            },
            "type": "choropleth"
           }
          ],
          "contour": [
           {
            "colorbar": {
             "outlinewidth": 0,
             "ticks": ""
            },
            "colorscale": [
             [
              0,
              "#0d0887"
             ],
             [
              0.1111111111111111,
              "#46039f"
             ],
             [
              0.2222222222222222,
              "#7201a8"
             ],
             [
              0.3333333333333333,
              "#9c179e"
             ],
             [
              0.4444444444444444,
              "#bd3786"
             ],
             [
              0.5555555555555556,
              "#d8576b"
             ],
             [
              0.6666666666666666,
              "#ed7953"
             ],
             [
              0.7777777777777778,
              "#fb9f3a"
             ],
             [
              0.8888888888888888,
              "#fdca26"
             ],
             [
              1,
              "#f0f921"
             ]
            ],
            "type": "contour"
           }
          ],
          "contourcarpet": [
           {
            "colorbar": {
             "outlinewidth": 0,
             "ticks": ""
            },
            "type": "contourcarpet"
           }
          ],
          "heatmap": [
           {
            "colorbar": {
             "outlinewidth": 0,
             "ticks": ""
            },
            "colorscale": [
             [
              0,
              "#0d0887"
             ],
             [
              0.1111111111111111,
              "#46039f"
             ],
             [
              0.2222222222222222,
              "#7201a8"
             ],
             [
              0.3333333333333333,
              "#9c179e"
             ],
             [
              0.4444444444444444,
              "#bd3786"
             ],
             [
              0.5555555555555556,
              "#d8576b"
             ],
             [
              0.6666666666666666,
              "#ed7953"
             ],
             [
              0.7777777777777778,
              "#fb9f3a"
             ],
             [
              0.8888888888888888,
              "#fdca26"
             ],
             [
              1,
              "#f0f921"
             ]
            ],
            "type": "heatmap"
           }
          ],
          "heatmapgl": [
           {
            "colorbar": {
             "outlinewidth": 0,
             "ticks": ""
            },
            "colorscale": [
             [
              0,
              "#0d0887"
             ],
             [
              0.1111111111111111,
              "#46039f"
             ],
             [
              0.2222222222222222,
              "#7201a8"
             ],
             [
              0.3333333333333333,
              "#9c179e"
             ],
             [
              0.4444444444444444,
              "#bd3786"
             ],
             [
              0.5555555555555556,
              "#d8576b"
             ],
             [
              0.6666666666666666,
              "#ed7953"
             ],
             [
              0.7777777777777778,
              "#fb9f3a"
             ],
             [
              0.8888888888888888,
              "#fdca26"
             ],
             [
              1,
              "#f0f921"
             ]
            ],
            "type": "heatmapgl"
           }
          ],
          "histogram": [
           {
            "marker": {
             "pattern": {
              "fillmode": "overlay",
              "size": 10,
              "solidity": 0.2
             }
            },
            "type": "histogram"
           }
          ],
          "histogram2d": [
           {
            "colorbar": {
             "outlinewidth": 0,
             "ticks": ""
            },
            "colorscale": [
             [
              0,
              "#0d0887"
             ],
             [
              0.1111111111111111,
              "#46039f"
             ],
             [
              0.2222222222222222,
              "#7201a8"
             ],
             [
              0.3333333333333333,
              "#9c179e"
             ],
             [
              0.4444444444444444,
              "#bd3786"
             ],
             [
              0.5555555555555556,
              "#d8576b"
             ],
             [
              0.6666666666666666,
              "#ed7953"
             ],
             [
              0.7777777777777778,
              "#fb9f3a"
             ],
             [
              0.8888888888888888,
              "#fdca26"
             ],
             [
              1,
              "#f0f921"
             ]
            ],
            "type": "histogram2d"
           }
          ],
          "histogram2dcontour": [
           {
            "colorbar": {
             "outlinewidth": 0,
             "ticks": ""
            },
            "colorscale": [
             [
              0,
              "#0d0887"
             ],
             [
              0.1111111111111111,
              "#46039f"
             ],
             [
              0.2222222222222222,
              "#7201a8"
             ],
             [
              0.3333333333333333,
              "#9c179e"
             ],
             [
              0.4444444444444444,
              "#bd3786"
             ],
             [
              0.5555555555555556,
              "#d8576b"
             ],
             [
              0.6666666666666666,
              "#ed7953"
             ],
             [
              0.7777777777777778,
              "#fb9f3a"
             ],
             [
              0.8888888888888888,
              "#fdca26"
             ],
             [
              1,
              "#f0f921"
             ]
            ],
            "type": "histogram2dcontour"
           }
          ],
          "mesh3d": [
           {
            "colorbar": {
             "outlinewidth": 0,
             "ticks": ""
            },
            "type": "mesh3d"
           }
          ],
          "parcoords": [
           {
            "line": {
             "colorbar": {
              "outlinewidth": 0,
              "ticks": ""
             }
            },
            "type": "parcoords"
           }
          ],
          "pie": [
           {
            "automargin": true,
            "type": "pie"
           }
          ],
          "scatter": [
           {
            "marker": {
             "colorbar": {
              "outlinewidth": 0,
              "ticks": ""
             }
            },
            "type": "scatter"
           }
          ],
          "scatter3d": [
           {
            "line": {
             "colorbar": {
              "outlinewidth": 0,
              "ticks": ""
             }
            },
            "marker": {
             "colorbar": {
              "outlinewidth": 0,
              "ticks": ""
             }
            },
            "type": "scatter3d"
           }
          ],
          "scattercarpet": [
           {
            "marker": {
             "colorbar": {
              "outlinewidth": 0,
              "ticks": ""
             }
            },
            "type": "scattercarpet"
           }
          ],
          "scattergeo": [
           {
            "marker": {
             "colorbar": {
              "outlinewidth": 0,
              "ticks": ""
             }
            },
            "type": "scattergeo"
           }
          ],
          "scattergl": [
           {
            "marker": {
             "colorbar": {
              "outlinewidth": 0,
              "ticks": ""
             }
            },
            "type": "scattergl"
           }
          ],
          "scattermapbox": [
           {
            "marker": {
             "colorbar": {
              "outlinewidth": 0,
              "ticks": ""
             }
            },
            "type": "scattermapbox"
           }
          ],
          "scatterpolar": [
           {
            "marker": {
             "colorbar": {
              "outlinewidth": 0,
              "ticks": ""
             }
            },
            "type": "scatterpolar"
           }
          ],
          "scatterpolargl": [
           {
            "marker": {
             "colorbar": {
              "outlinewidth": 0,
              "ticks": ""
             }
            },
            "type": "scatterpolargl"
           }
          ],
          "scatterternary": [
           {
            "marker": {
             "colorbar": {
              "outlinewidth": 0,
              "ticks": ""
             }
            },
            "type": "scatterternary"
           }
          ],
          "surface": [
           {
            "colorbar": {
             "outlinewidth": 0,
             "ticks": ""
            },
            "colorscale": [
             [
              0,
              "#0d0887"
             ],
             [
              0.1111111111111111,
              "#46039f"
             ],
             [
              0.2222222222222222,
              "#7201a8"
             ],
             [
              0.3333333333333333,
              "#9c179e"
             ],
             [
              0.4444444444444444,
              "#bd3786"
             ],
             [
              0.5555555555555556,
              "#d8576b"
             ],
             [
              0.6666666666666666,
              "#ed7953"
             ],
             [
              0.7777777777777778,
              "#fb9f3a"
             ],
             [
              0.8888888888888888,
              "#fdca26"
             ],
             [
              1,
              "#f0f921"
             ]
            ],
            "type": "surface"
           }
          ],
          "table": [
           {
            "cells": {
             "fill": {
              "color": "#EBF0F8"
             },
             "line": {
              "color": "white"
             }
            },
            "header": {
             "fill": {
              "color": "#C8D4E3"
             },
             "line": {
              "color": "white"
             }
            },
            "type": "table"
           }
          ]
         },
         "layout": {
          "annotationdefaults": {
           "arrowcolor": "#2a3f5f",
           "arrowhead": 0,
           "arrowwidth": 1
          },
          "autotypenumbers": "strict",
          "coloraxis": {
           "colorbar": {
            "outlinewidth": 0,
            "ticks": ""
           }
          },
          "colorscale": {
           "diverging": [
            [
             0,
             "#8e0152"
            ],
            [
             0.1,
             "#c51b7d"
            ],
            [
             0.2,
             "#de77ae"
            ],
            [
             0.3,
             "#f1b6da"
            ],
            [
             0.4,
             "#fde0ef"
            ],
            [
             0.5,
             "#f7f7f7"
            ],
            [
             0.6,
             "#e6f5d0"
            ],
            [
             0.7,
             "#b8e186"
            ],
            [
             0.8,
             "#7fbc41"
            ],
            [
             0.9,
             "#4d9221"
            ],
            [
             1,
             "#276419"
            ]
           ],
           "sequential": [
            [
             0,
             "#0d0887"
            ],
            [
             0.1111111111111111,
             "#46039f"
            ],
            [
             0.2222222222222222,
             "#7201a8"
            ],
            [
             0.3333333333333333,
             "#9c179e"
            ],
            [
             0.4444444444444444,
             "#bd3786"
            ],
            [
             0.5555555555555556,
             "#d8576b"
            ],
            [
             0.6666666666666666,
             "#ed7953"
            ],
            [
             0.7777777777777778,
             "#fb9f3a"
            ],
            [
             0.8888888888888888,
             "#fdca26"
            ],
            [
             1,
             "#f0f921"
            ]
           ],
           "sequentialminus": [
            [
             0,
             "#0d0887"
            ],
            [
             0.1111111111111111,
             "#46039f"
            ],
            [
             0.2222222222222222,
             "#7201a8"
            ],
            [
             0.3333333333333333,
             "#9c179e"
            ],
            [
             0.4444444444444444,
             "#bd3786"
            ],
            [
             0.5555555555555556,
             "#d8576b"
            ],
            [
             0.6666666666666666,
             "#ed7953"
            ],
            [
             0.7777777777777778,
             "#fb9f3a"
            ],
            [
             0.8888888888888888,
             "#fdca26"
            ],
            [
             1,
             "#f0f921"
            ]
           ]
          },
          "colorway": [
           "#636efa",
           "#EF553B",
           "#00cc96",
           "#ab63fa",
           "#FFA15A",
           "#19d3f3",
           "#FF6692",
           "#B6E880",
           "#FF97FF",
           "#FECB52"
          ],
          "font": {
           "color": "#2a3f5f"
          },
          "geo": {
           "bgcolor": "white",
           "lakecolor": "white",
           "landcolor": "#E5ECF6",
           "showlakes": true,
           "showland": true,
           "subunitcolor": "white"
          },
          "hoverlabel": {
           "align": "left"
          },
          "hovermode": "closest",
          "mapbox": {
           "style": "light"
          },
          "paper_bgcolor": "white",
          "plot_bgcolor": "#E5ECF6",
          "polar": {
           "angularaxis": {
            "gridcolor": "white",
            "linecolor": "white",
            "ticks": ""
           },
           "bgcolor": "#E5ECF6",
           "radialaxis": {
            "gridcolor": "white",
            "linecolor": "white",
            "ticks": ""
           }
          },
          "scene": {
           "xaxis": {
            "backgroundcolor": "#E5ECF6",
            "gridcolor": "white",
            "gridwidth": 2,
            "linecolor": "white",
            "showbackground": true,
            "ticks": "",
            "zerolinecolor": "white"
           },
           "yaxis": {
            "backgroundcolor": "#E5ECF6",
            "gridcolor": "white",
            "gridwidth": 2,
            "linecolor": "white",
            "showbackground": true,
            "ticks": "",
            "zerolinecolor": "white"
           },
           "zaxis": {
            "backgroundcolor": "#E5ECF6",
            "gridcolor": "white",
            "gridwidth": 2,
            "linecolor": "white",
            "showbackground": true,
            "ticks": "",
            "zerolinecolor": "white"
           }
          },
          "shapedefaults": {
           "line": {
            "color": "#2a3f5f"
           }
          },
          "ternary": {
           "aaxis": {
            "gridcolor": "white",
            "linecolor": "white",
            "ticks": ""
           },
           "baxis": {
            "gridcolor": "white",
            "linecolor": "white",
            "ticks": ""
           },
           "bgcolor": "#E5ECF6",
           "caxis": {
            "gridcolor": "white",
            "linecolor": "white",
            "ticks": ""
           }
          },
          "title": {
           "x": 0.05
          },
          "xaxis": {
           "automargin": true,
           "gridcolor": "white",
           "linecolor": "white",
           "ticks": "",
           "title": {
            "standoff": 15
           },
           "zerolinecolor": "white",
           "zerolinewidth": 2
          },
          "yaxis": {
           "automargin": true,
           "gridcolor": "white",
           "linecolor": "white",
           "ticks": "",
           "title": {
            "standoff": 15
           },
           "zerolinecolor": "white",
           "zerolinewidth": 2
          }
         }
        },
        "yaxis": {
         "visible": false
        }
       }
      }
     },
     "metadata": {},
     "output_type": "display_data"
    },
    {
     "data": {
      "text/plain": [
       "0.8287531282163694"
      ]
     },
     "execution_count": 22,
     "metadata": {},
     "output_type": "execute_result"
    }
   ],
   "source": [
    "co_pro,co_pro_negative = cal_norm(df_air_pollution['coValue'].mean(),df_air_pollution['coValue'].std(),\n",
    "df_air_pollution['coValue'].min(),df_air_pollution['coValue'].max(),co_standard,False)\n",
    "co_pro"
   ]
  },
  {
   "cell_type": "markdown",
   "metadata": {},
   "source": [
    "#### 부산시 미세먼지 적합도"
   ]
  },
  {
   "cell_type": "code",
   "execution_count": 23,
   "metadata": {},
   "outputs": [
    {
     "data": {
      "application/vnd.plotly.v1+json": {
       "config": {
        "plotlyServerURL": "https://plot.ly"
       },
       "data": [
        {
         "fill": "tozeroy",
         "line": {
          "color": "rgb(239,85,59)"
         },
         "name": "부적합",
         "type": "scatter",
         "x": [
          -13.035647375307377,
          -12.75245901798104,
          -12.469270660654702,
          -12.186082303328366,
          -11.90289394600203,
          -11.619705588675691,
          -11.336517231349355,
          -11.053328874023018,
          -10.77014051669668,
          -10.486952159370343,
          -10.203763802044005,
          -9.920575444717668,
          -9.637387087391332,
          -9.354198730064994,
          -9.071010372738657,
          -8.78782201541232,
          -8.504633658085982,
          -8.221445300759646,
          -7.938256943433309,
          -7.655068586106972,
          -7.371880228780634,
          -7.088691871454298,
          -6.8055035141279605,
          -6.522315156801623,
          -6.239126799475287,
          -5.955938442148949,
          -5.672750084822612,
          -5.389561727496274,
          -5.106373370169938,
          -4.8231850128436005,
          -4.539996655517264,
          -4.256808298190926,
          -3.973619940864589,
          -3.6904315835382526,
          -3.4072432262119143,
          -3.124054868885578,
          -2.8408665115592413,
          -2.557678154232903,
          -2.2744897969065665,
          -1.99130143958023,
          -1.7081130822538917,
          -1.4249247249275552,
          -1.1417363676012187,
          -0.8585480102748804,
          -0.5753596529485439,
          -0.29217129562220734,
          -0.008982938295869047,
          0.27420541903046747,
          0.557393776356804,
          0.8405821336831423,
          1.1237704910094788,
          1.406958848335817,
          1.6901472056621536,
          1.97333556298849,
          2.2565239203148284,
          2.539712277641165,
          2.8229006349675014,
          3.106088992293838,
          3.3892773496201762,
          3.6724657069465145,
          3.9556540642728493,
          4.238842421599188,
          4.522030778925526,
          4.805219136251861,
          5.088407493578199,
          5.371595850904537,
          5.654784208230872,
          5.93797256555721,
          6.2211609228835485,
          6.504349280209883,
          6.7875376375362215,
          7.07072599486256,
          7.3539143521888946,
          7.637102709515233,
          7.920291066841571,
          8.203479424167906,
          8.486667781494244,
          8.769856138820582,
          9.053044496146917,
          9.336232853473255,
          9.619421210799594,
          9.902609568125929,
          10.185797925452267,
          10.468986282778605,
          10.75217464010494,
          11.035362997431278,
          11.318551354757616,
          11.601739712083951,
          11.88492806941029,
          12.168116426736628,
          12.451304784062962,
          12.7344931413893,
          13.017681498715639,
          13.300869856041974,
          13.584058213368312,
          13.86724657069465,
          14.150434928020985,
          14.433623285347323,
          14.716811642673662,
          15
         ],
         "y": [
          0.0006072954214295694,
          0.0006317514764278818,
          0.0006570469555765575,
          0.0006832040500657714,
          0.0007102452536815397,
          0.0007381933545477333,
          0.0007670714262082442,
          0.0007969028180352793,
          0.0008277111449502487,
          0.0008595202764442669,
          0.0008923543248858907,
          0.0009262376331043627,
          0.0009611947612373279,
          0.0009972504728327039,
          0.0010344297201952024,
          0.0010727576289688162,
          0.0011122594819474442,
          0.0011529607021067993,
          0.0011948868348516809,
          0.0012380635294737012,
          0.001282516519815681,
          0.001328271604139968,
          0.0013753546241991423,
          0.0014237914435087369,
          0.0014736079248228913,
          0.0015248299068150815,
          0.001577483179967468,
          0.0016315934616737298,
          0.001687186370561647,
          0.001744287400043223,
          0.0018029218911015023,
          0.001863115004324873,
          0.0019248916912010935,
          0.0019882766646849587,
          0.002053294369055026,
          0.00211996894907655,
          0.0021883242184893743,
          0.002258383627841231,
          0.0023301702316885684,
          0.002403706655188787,
          0.0024790150601094523,
          0.0025561171102817543,
          0.0026350339365273363,
          0.0027157861010892064,
          0.002798393561599307,
          0.002882875634616993,
          0.00296925095877444,
          0.0030575374575666316,
          0.00314775230182542,
          0.0032399118719186964,
          0.003334031719717454,
          0.0034301265303751213,
          0.0035282100839651416,
          0.003628295217024364,
          0.003730393784051314,
          0.003834516619009869,
          0.003940673496890368,
          0.004048873095381471,
          0.00415912295670749,
          0.004271429449687093,
          0.004385797732070545,
          0.004502231713213759,
          0.004620734017148425,
          0.004741305946108549,
          0.004863947444574544,
          0.004988657063896891,
          0.005115431927562015,
          0.005244267697163753,
          0.0053751585391442,
          0.005508097092368218,
          0.005643074436596235,
          0.005780080061920019,
          0.005919101839226424,
          0.006060125991753949,
          0.0062031370678068114,
          0.0063481179146911105,
          0.006495049653937147,
          0.006643911657871555,
          0.006794681527602229,
          0.006947335072478369,
          0.007101846291086937,
          0.00725818735384596,
          0.007416328587253948,
          0.007576238459853284,
          0.007737883569964292,
          0.007901228635244928,
          0.008066236484129451,
          0.008232868049197753,
          0.008401082362524863,
          0.008570836553058294,
          0.008742085846068618,
          0.008914783564716368,
          0.009088881133775876,
          0.009264328085554226,
          0.009441072068040705,
          0.009619058855319327,
          0.009798232360274276,
          0.00997853464961489,
          0.010159905961243753,
          0.010342284723988382
         ]
        },
        {
         "fill": "tozeroy",
         "line": {
          "color": "rgb(100,110,250)"
         },
         "name": "적합",
         "type": "scatter",
         "x": [
          15,
          15.848484848484848,
          16.696969696969695,
          17.545454545454547,
          18.393939393939394,
          19.242424242424242,
          20.09090909090909,
          20.939393939393938,
          21.78787878787879,
          22.636363636363637,
          23.484848484848484,
          24.333333333333336,
          25.18181818181818,
          26.03030303030303,
          26.87878787878788,
          27.727272727272727,
          28.575757575757578,
          29.424242424242422,
          30.272727272727273,
          31.12121212121212,
          31.96969696969697,
          32.81818181818182,
          33.66666666666667,
          34.515151515151516,
          35.36363636363636,
          36.21212121212121,
          37.06060606060606,
          37.90909090909091,
          38.75757575757576,
          39.60606060606061,
          40.45454545454545,
          41.303030303030305,
          42.151515151515156,
          43,
          43.848484848484844,
          44.6969696969697,
          45.54545454545455,
          46.39393939393939,
          47.24242424242424,
          48.09090909090909,
          48.93939393939394,
          49.78787878787879,
          50.63636363636364,
          51.484848484848484,
          52.333333333333336,
          53.18181818181818,
          54.03030303030303,
          54.87878787878788,
          55.72727272727273,
          56.57575757575758,
          57.42424242424242,
          58.27272727272727,
          59.121212121212125,
          59.96969696969697,
          60.81818181818182,
          61.66666666666667,
          62.515151515151516,
          63.36363636363637,
          64.21212121212122,
          65.06060606060606,
          65.9090909090909,
          66.75757575757575,
          67.60606060606061,
          68.45454545454545,
          69.30303030303031,
          70.15151515151516,
          71,
          71.84848484848484,
          72.69696969696969,
          73.54545454545455,
          74.3939393939394,
          75.24242424242425,
          76.0909090909091,
          76.93939393939394,
          77.78787878787878,
          78.63636363636364,
          79.48484848484848,
          80.33333333333333,
          81.18181818181819,
          82.03030303030303,
          82.87878787878788,
          83.72727272727273,
          84.57575757575758,
          85.42424242424242,
          86.27272727272728,
          87.12121212121212,
          87.96969696969697,
          88.81818181818183,
          89.66666666666667,
          90.51515151515152,
          91.36363636363636,
          92.21212121212122,
          93.06060606060606,
          93.9090909090909,
          94.75757575757576,
          95.60606060606061,
          96.45454545454545,
          97.30303030303031,
          98.15151515151516,
          99
         ],
         "y": [
          0.010342284723988382,
          0.010894116158659005,
          0.01145261495686208,
          0.01201584905756984,
          0.01258176052328534,
          0.013148176082227816,
          0.013712819348496904,
          0.014273324650409366,
          0.014827252371170954,
          0.015372105680397707,
          0.015905348510219228,
          0.016424424606268362,
          0.01692677746226704,
          0.017409870927618296,
          0.01787121026084092,
          0.018308363388229103,
          0.018718982117125152,
          0.019100823046943483,
          0.019451767918793224,
          0.019769843146357314,
          0.020053238276661906,
          0.020300323139491365,
          0.020509663458370606,
          0.020680034714062386,
          0.020810434073148254,
          0.020900090219138027,
          0.020948470951274663,
          0.020955288446299236,
          0.02092050211039353,
          0.020844318981763848,
          0.020727191678280115,
          0.02056981391863452,
          0.020373113679026413,
          0.02013824407982042,
          0.01986657212738931,
          0.019559665464908223,
          0.01921927731172315,
          0.018847329793644788,
          0.018445895885755625,
          0.018017180204772602,
          0.017563498899469707,
          0.017087258895004676,
          0.016590936750165746,
          0.016077057385595325,
          0.01554817293607373,
          0.01500684197115059,
          0.014455609316055556,
          0.013896986689227299,
          0.01333343435434717,
          0.012767343963871301,
          0.012201022748175307,
          0.01163667918003366,
          0.011076410218737913,
          0.010522190212199405,
          0.009975861509359831,
          0.009439126809602748,
          0.008913543251048258,
          0.008400518216013226,
          0.007901306809878491,
          0.007417010949422374,
          0.006948579978605545,
          0.006496812714018634,
          0.006062360808870276,
          0.005645733313582431,
          0.005247302302801814,
          0.0048673094329105505,
          0.0045058732908567324,
          0.0041629973942170825,
          0.0038385787037000805,
          0.0035324165126198992,
          0.003244221583013502,
          0.0029736254048106092,
          0.0027201894625609162,
          0.0024834144034293986,
          0.00226274901024184,
          0.0020575988940557846,
          0.0018673348318118007,
          0.0016913006858644193,
          0.0015288208533953125,
          0.001379207204686132,
          0.0012417654798095405,
          0.0011158011233412442,
          0.0010006245460838735,
          0.0008955558114297879,
          0.0007999287518024448,
          0.0007130945275550328,
          0.0006344246467430367,
          0.0005633134693157281,
          0.0004991802235001611,
          0.0004414705655054066,
          0.00038965771619381027,
          0.00034324321010011777,
          0.00030175729318806014,
          0.0002647590060833805,
          0.0002318359892833454,
          0.00020260404608880798,
          0.00017670649781034934,
          0.00015381336423838757,
          0.00013362040050973384,
          0.00011584801941793138
         ]
        }
       ],
       "layout": {
        "annotations": [
         {
          "bordercolor": "rgb(239,85,59)",
          "borderwidth": 2,
          "font": {
           "color": "rgb(239,85,59)",
           "size": 15
          },
          "showarrow": false,
          "text": "0.113",
          "x": 15,
          "xshift": -40,
          "y": 0.010342284723988382,
          "yshift": -100
         },
         {
          "bordercolor": "rgb(100,110,250)",
          "borderwidth": 2,
          "font": {
           "color": "rgb(100,110,250)",
           "size": 15
          },
          "showarrow": false,
          "text": "0.887",
          "x": 15,
          "xshift": 40,
          "y": 0.010342284723988382,
          "yshift": -100
         }
        ],
        "template": {
         "data": {
          "bar": [
           {
            "error_x": {
             "color": "#2a3f5f"
            },
            "error_y": {
             "color": "#2a3f5f"
            },
            "marker": {
             "line": {
              "color": "#E5ECF6",
              "width": 0.5
             },
             "pattern": {
              "fillmode": "overlay",
              "size": 10,
              "solidity": 0.2
             }
            },
            "type": "bar"
           }
          ],
          "barpolar": [
           {
            "marker": {
             "line": {
              "color": "#E5ECF6",
              "width": 0.5
             },
             "pattern": {
              "fillmode": "overlay",
              "size": 10,
              "solidity": 0.2
             }
            },
            "type": "barpolar"
           }
          ],
          "carpet": [
           {
            "aaxis": {
             "endlinecolor": "#2a3f5f",
             "gridcolor": "white",
             "linecolor": "white",
             "minorgridcolor": "white",
             "startlinecolor": "#2a3f5f"
            },
            "baxis": {
             "endlinecolor": "#2a3f5f",
             "gridcolor": "white",
             "linecolor": "white",
             "minorgridcolor": "white",
             "startlinecolor": "#2a3f5f"
            },
            "type": "carpet"
           }
          ],
          "choropleth": [
           {
            "colorbar": {
             "outlinewidth": 0,
             "ticks": ""
            },
            "type": "choropleth"
           }
          ],
          "contour": [
           {
            "colorbar": {
             "outlinewidth": 0,
             "ticks": ""
            },
            "colorscale": [
             [
              0,
              "#0d0887"
             ],
             [
              0.1111111111111111,
              "#46039f"
             ],
             [
              0.2222222222222222,
              "#7201a8"
             ],
             [
              0.3333333333333333,
              "#9c179e"
             ],
             [
              0.4444444444444444,
              "#bd3786"
             ],
             [
              0.5555555555555556,
              "#d8576b"
             ],
             [
              0.6666666666666666,
              "#ed7953"
             ],
             [
              0.7777777777777778,
              "#fb9f3a"
             ],
             [
              0.8888888888888888,
              "#fdca26"
             ],
             [
              1,
              "#f0f921"
             ]
            ],
            "type": "contour"
           }
          ],
          "contourcarpet": [
           {
            "colorbar": {
             "outlinewidth": 0,
             "ticks": ""
            },
            "type": "contourcarpet"
           }
          ],
          "heatmap": [
           {
            "colorbar": {
             "outlinewidth": 0,
             "ticks": ""
            },
            "colorscale": [
             [
              0,
              "#0d0887"
             ],
             [
              0.1111111111111111,
              "#46039f"
             ],
             [
              0.2222222222222222,
              "#7201a8"
             ],
             [
              0.3333333333333333,
              "#9c179e"
             ],
             [
              0.4444444444444444,
              "#bd3786"
             ],
             [
              0.5555555555555556,
              "#d8576b"
             ],
             [
              0.6666666666666666,
              "#ed7953"
             ],
             [
              0.7777777777777778,
              "#fb9f3a"
             ],
             [
              0.8888888888888888,
              "#fdca26"
             ],
             [
              1,
              "#f0f921"
             ]
            ],
            "type": "heatmap"
           }
          ],
          "heatmapgl": [
           {
            "colorbar": {
             "outlinewidth": 0,
             "ticks": ""
            },
            "colorscale": [
             [
              0,
              "#0d0887"
             ],
             [
              0.1111111111111111,
              "#46039f"
             ],
             [
              0.2222222222222222,
              "#7201a8"
             ],
             [
              0.3333333333333333,
              "#9c179e"
             ],
             [
              0.4444444444444444,
              "#bd3786"
             ],
             [
              0.5555555555555556,
              "#d8576b"
             ],
             [
              0.6666666666666666,
              "#ed7953"
             ],
             [
              0.7777777777777778,
              "#fb9f3a"
             ],
             [
              0.8888888888888888,
              "#fdca26"
             ],
             [
              1,
              "#f0f921"
             ]
            ],
            "type": "heatmapgl"
           }
          ],
          "histogram": [
           {
            "marker": {
             "pattern": {
              "fillmode": "overlay",
              "size": 10,
              "solidity": 0.2
             }
            },
            "type": "histogram"
           }
          ],
          "histogram2d": [
           {
            "colorbar": {
             "outlinewidth": 0,
             "ticks": ""
            },
            "colorscale": [
             [
              0,
              "#0d0887"
             ],
             [
              0.1111111111111111,
              "#46039f"
             ],
             [
              0.2222222222222222,
              "#7201a8"
             ],
             [
              0.3333333333333333,
              "#9c179e"
             ],
             [
              0.4444444444444444,
              "#bd3786"
             ],
             [
              0.5555555555555556,
              "#d8576b"
             ],
             [
              0.6666666666666666,
              "#ed7953"
             ],
             [
              0.7777777777777778,
              "#fb9f3a"
             ],
             [
              0.8888888888888888,
              "#fdca26"
             ],
             [
              1,
              "#f0f921"
             ]
            ],
            "type": "histogram2d"
           }
          ],
          "histogram2dcontour": [
           {
            "colorbar": {
             "outlinewidth": 0,
             "ticks": ""
            },
            "colorscale": [
             [
              0,
              "#0d0887"
             ],
             [
              0.1111111111111111,
              "#46039f"
             ],
             [
              0.2222222222222222,
              "#7201a8"
             ],
             [
              0.3333333333333333,
              "#9c179e"
             ],
             [
              0.4444444444444444,
              "#bd3786"
             ],
             [
              0.5555555555555556,
              "#d8576b"
             ],
             [
              0.6666666666666666,
              "#ed7953"
             ],
             [
              0.7777777777777778,
              "#fb9f3a"
             ],
             [
              0.8888888888888888,
              "#fdca26"
             ],
             [
              1,
              "#f0f921"
             ]
            ],
            "type": "histogram2dcontour"
           }
          ],
          "mesh3d": [
           {
            "colorbar": {
             "outlinewidth": 0,
             "ticks": ""
            },
            "type": "mesh3d"
           }
          ],
          "parcoords": [
           {
            "line": {
             "colorbar": {
              "outlinewidth": 0,
              "ticks": ""
             }
            },
            "type": "parcoords"
           }
          ],
          "pie": [
           {
            "automargin": true,
            "type": "pie"
           }
          ],
          "scatter": [
           {
            "marker": {
             "colorbar": {
              "outlinewidth": 0,
              "ticks": ""
             }
            },
            "type": "scatter"
           }
          ],
          "scatter3d": [
           {
            "line": {
             "colorbar": {
              "outlinewidth": 0,
              "ticks": ""
             }
            },
            "marker": {
             "colorbar": {
              "outlinewidth": 0,
              "ticks": ""
             }
            },
            "type": "scatter3d"
           }
          ],
          "scattercarpet": [
           {
            "marker": {
             "colorbar": {
              "outlinewidth": 0,
              "ticks": ""
             }
            },
            "type": "scattercarpet"
           }
          ],
          "scattergeo": [
           {
            "marker": {
             "colorbar": {
              "outlinewidth": 0,
              "ticks": ""
             }
            },
            "type": "scattergeo"
           }
          ],
          "scattergl": [
           {
            "marker": {
             "colorbar": {
              "outlinewidth": 0,
              "ticks": ""
             }
            },
            "type": "scattergl"
           }
          ],
          "scattermapbox": [
           {
            "marker": {
             "colorbar": {
              "outlinewidth": 0,
              "ticks": ""
             }
            },
            "type": "scattermapbox"
           }
          ],
          "scatterpolar": [
           {
            "marker": {
             "colorbar": {
              "outlinewidth": 0,
              "ticks": ""
             }
            },
            "type": "scatterpolar"
           }
          ],
          "scatterpolargl": [
           {
            "marker": {
             "colorbar": {
              "outlinewidth": 0,
              "ticks": ""
             }
            },
            "type": "scatterpolargl"
           }
          ],
          "scatterternary": [
           {
            "marker": {
             "colorbar": {
              "outlinewidth": 0,
              "ticks": ""
             }
            },
            "type": "scatterternary"
           }
          ],
          "surface": [
           {
            "colorbar": {
             "outlinewidth": 0,
             "ticks": ""
            },
            "colorscale": [
             [
              0,
              "#0d0887"
             ],
             [
              0.1111111111111111,
              "#46039f"
             ],
             [
              0.2222222222222222,
              "#7201a8"
             ],
             [
              0.3333333333333333,
              "#9c179e"
             ],
             [
              0.4444444444444444,
              "#bd3786"
             ],
             [
              0.5555555555555556,
              "#d8576b"
             ],
             [
              0.6666666666666666,
              "#ed7953"
             ],
             [
              0.7777777777777778,
              "#fb9f3a"
             ],
             [
              0.8888888888888888,
              "#fdca26"
             ],
             [
              1,
              "#f0f921"
             ]
            ],
            "type": "surface"
           }
          ],
          "table": [
           {
            "cells": {
             "fill": {
              "color": "#EBF0F8"
             },
             "line": {
              "color": "white"
             }
            },
            "header": {
             "fill": {
              "color": "#C8D4E3"
             },
             "line": {
              "color": "white"
             }
            },
            "type": "table"
           }
          ]
         },
         "layout": {
          "annotationdefaults": {
           "arrowcolor": "#2a3f5f",
           "arrowhead": 0,
           "arrowwidth": 1
          },
          "autotypenumbers": "strict",
          "coloraxis": {
           "colorbar": {
            "outlinewidth": 0,
            "ticks": ""
           }
          },
          "colorscale": {
           "diverging": [
            [
             0,
             "#8e0152"
            ],
            [
             0.1,
             "#c51b7d"
            ],
            [
             0.2,
             "#de77ae"
            ],
            [
             0.3,
             "#f1b6da"
            ],
            [
             0.4,
             "#fde0ef"
            ],
            [
             0.5,
             "#f7f7f7"
            ],
            [
             0.6,
             "#e6f5d0"
            ],
            [
             0.7,
             "#b8e186"
            ],
            [
             0.8,
             "#7fbc41"
            ],
            [
             0.9,
             "#4d9221"
            ],
            [
             1,
             "#276419"
            ]
           ],
           "sequential": [
            [
             0,
             "#0d0887"
            ],
            [
             0.1111111111111111,
             "#46039f"
            ],
            [
             0.2222222222222222,
             "#7201a8"
            ],
            [
             0.3333333333333333,
             "#9c179e"
            ],
            [
             0.4444444444444444,
             "#bd3786"
            ],
            [
             0.5555555555555556,
             "#d8576b"
            ],
            [
             0.6666666666666666,
             "#ed7953"
            ],
            [
             0.7777777777777778,
             "#fb9f3a"
            ],
            [
             0.8888888888888888,
             "#fdca26"
            ],
            [
             1,
             "#f0f921"
            ]
           ],
           "sequentialminus": [
            [
             0,
             "#0d0887"
            ],
            [
             0.1111111111111111,
             "#46039f"
            ],
            [
             0.2222222222222222,
             "#7201a8"
            ],
            [
             0.3333333333333333,
             "#9c179e"
            ],
            [
             0.4444444444444444,
             "#bd3786"
            ],
            [
             0.5555555555555556,
             "#d8576b"
            ],
            [
             0.6666666666666666,
             "#ed7953"
            ],
            [
             0.7777777777777778,
             "#fb9f3a"
            ],
            [
             0.8888888888888888,
             "#fdca26"
            ],
            [
             1,
             "#f0f921"
            ]
           ]
          },
          "colorway": [
           "#636efa",
           "#EF553B",
           "#00cc96",
           "#ab63fa",
           "#FFA15A",
           "#19d3f3",
           "#FF6692",
           "#B6E880",
           "#FF97FF",
           "#FECB52"
          ],
          "font": {
           "color": "#2a3f5f"
          },
          "geo": {
           "bgcolor": "white",
           "lakecolor": "white",
           "landcolor": "#E5ECF6",
           "showlakes": true,
           "showland": true,
           "subunitcolor": "white"
          },
          "hoverlabel": {
           "align": "left"
          },
          "hovermode": "closest",
          "mapbox": {
           "style": "light"
          },
          "paper_bgcolor": "white",
          "plot_bgcolor": "#E5ECF6",
          "polar": {
           "angularaxis": {
            "gridcolor": "white",
            "linecolor": "white",
            "ticks": ""
           },
           "bgcolor": "#E5ECF6",
           "radialaxis": {
            "gridcolor": "white",
            "linecolor": "white",
            "ticks": ""
           }
          },
          "scene": {
           "xaxis": {
            "backgroundcolor": "#E5ECF6",
            "gridcolor": "white",
            "gridwidth": 2,
            "linecolor": "white",
            "showbackground": true,
            "ticks": "",
            "zerolinecolor": "white"
           },
           "yaxis": {
            "backgroundcolor": "#E5ECF6",
            "gridcolor": "white",
            "gridwidth": 2,
            "linecolor": "white",
            "showbackground": true,
            "ticks": "",
            "zerolinecolor": "white"
           },
           "zaxis": {
            "backgroundcolor": "#E5ECF6",
            "gridcolor": "white",
            "gridwidth": 2,
            "linecolor": "white",
            "showbackground": true,
            "ticks": "",
            "zerolinecolor": "white"
           }
          },
          "shapedefaults": {
           "line": {
            "color": "#2a3f5f"
           }
          },
          "ternary": {
           "aaxis": {
            "gridcolor": "white",
            "linecolor": "white",
            "ticks": ""
           },
           "baxis": {
            "gridcolor": "white",
            "linecolor": "white",
            "ticks": ""
           },
           "bgcolor": "#E5ECF6",
           "caxis": {
            "gridcolor": "white",
            "linecolor": "white",
            "ticks": ""
           }
          },
          "title": {
           "x": 0.05
          },
          "xaxis": {
           "automargin": true,
           "gridcolor": "white",
           "linecolor": "white",
           "ticks": "",
           "title": {
            "standoff": 15
           },
           "zerolinecolor": "white",
           "zerolinewidth": 2
          },
          "yaxis": {
           "automargin": true,
           "gridcolor": "white",
           "linecolor": "white",
           "ticks": "",
           "title": {
            "standoff": 15
           },
           "zerolinecolor": "white",
           "zerolinewidth": 2
          }
         }
        },
        "yaxis": {
         "visible": false
        }
       }
      }
     },
     "metadata": {},
     "output_type": "display_data"
    },
    {
     "data": {
      "text/plain": [
       "0.8866811666335976"
      ]
     },
     "execution_count": 23,
     "metadata": {},
     "output_type": "execute_result"
    }
   ],
   "source": [
    "pm10_pro,pm10_pro_negative = cal_norm(df_air_pollution['pm10Value'].mean(),df_air_pollution['pm10Value'].std(),\n",
    "df_air_pollution['pm10Value'].min(),df_air_pollution['pm10Value'].max(),pm10_standard,False)\n",
    "pm10_pro"
   ]
  },
  {
   "cell_type": "code",
   "execution_count": 24,
   "metadata": {},
   "outputs": [
    {
     "data": {
      "application/vnd.plotly.v1+json": {
       "config": {
        "plotlyServerURL": "https://plot.ly"
       },
       "data": [
        {
         "fill": "tozeroy",
         "line": {
          "color": "rgb(239,85,59)"
         },
         "name": "부적합",
         "type": "scatter",
         "x": [
          -8.04725669729813,
          -7.864961175103199,
          -7.682665652908268,
          -7.500370130713337,
          -7.3180746085184065,
          -7.135779086323477,
          -6.953483564128546,
          -6.771188041933615,
          -6.5888925197386845,
          -6.406596997543754,
          -6.224301475348823,
          -6.042005953153893,
          -5.8597104309589625,
          -5.677414908764032,
          -5.495119386569101,
          -5.31282386437417,
          -5.13052834217924,
          -4.948232819984309,
          -4.765937297789378,
          -4.583641775594447,
          -4.401346253399517,
          -4.219050731204586,
          -4.036755209009656,
          -3.8544596868147254,
          -3.6721641646197947,
          -3.489868642424864,
          -3.307573120229933,
          -3.1252775980350025,
          -2.9429820758400727,
          -2.760686553645142,
          -2.578391031450211,
          -2.3960955092552805,
          -2.2137999870603497,
          -2.031504464865419,
          -1.8492089426704883,
          -1.6669134204755576,
          -1.4846178982806268,
          -1.302322376085697,
          -1.1200268538907663,
          -0.9377313316958356,
          -0.7554358095009048,
          -0.5731402873059741,
          -0.3908447651110434,
          -0.20854924291611265,
          -0.026253720721182816,
          0.1560418014737479,
          0.33833732366867864,
          0.5206328458636094,
          0.7029283680585401,
          0.8852238902534708,
          1.0675194124484015,
          1.2498149346433323,
          1.432110456838263,
          1.6144059790331937,
          1.7967015012281244,
          1.9789970234230552,
          2.161292545617984,
          2.343588067812915,
          2.5258835900078456,
          2.7081791122027763,
          2.890474634397707,
          3.0727701565926377,
          3.2550656787875685,
          3.437361200982499,
          3.61965672317743,
          3.8019522453723607,
          3.9842477675672914,
          4.166543289762222,
          4.348838811957153,
          4.5311343341520836,
          4.713429856347014,
          4.895725378541945,
          5.078020900736876,
          5.260316422931805,
          5.442611945126735,
          5.624907467321666,
          5.807202989516597,
          5.989498511711528,
          6.171794033906458,
          6.354089556101389,
          6.53638507829632,
          6.7186806004912505,
          6.900976122686181,
          7.083271644881112,
          7.265567167076043,
          7.447862689270973,
          7.630158211465904,
          7.812453733660835,
          7.994749255855764,
          8.177044778050695,
          8.359340300245625,
          8.541635822440556,
          8.723931344635487,
          8.906226866830417,
          9.088522389025348,
          9.270817911220279,
          9.45311343341521,
          9.63540895561014,
          9.817704477805071,
          10
         ],
         "y": [
          0.001172646105936993,
          0.0012242519441112978,
          0.001277780869782717,
          0.0013332871828091368,
          0.001390825899368388,
          0.0014504527218693493,
          0.0015122240066062953,
          0.001576196729113076,
          0.0016424284471762917,
          0.001710977261469505,
          0.0017819017737734897,
          0.0018552610427507576,
          0.0019311145372460409,
          0.0020095220870880296,
          0.0020905438313715175,
          0.0021742401642031047,
          0.0022606716778979354,
          0.0023498991036193114,
          0.0024419832494577283,
          0.0025369849359506524,
          0.0026349649290494724,
          0.002735983870545165,
          0.0028401022059697206,
          0.0029473801099957823,
          0.0030578774093628696,
          0.003171653503364239,
          0.003288767281934653,
          0.003409277041385302,
          0.0035332403978386353,
          0.003660714198422082,
          0.0037917544302862546,
          0.003926416127519882,
          0.004064753276040256,
          0.004206818716544993,
          0.004352664045617394,
          0.00450233951508488,
          0.004655893929736539,
          0.004813374543513005,
          0.004974826954288446,
          0.0051402949973714685,
          0.005309820637858545,
          0.005483443861980154,
          0.005661202567586541,
          0.00584313245392659,
          0.006029266910879571,
          0.006219636907805924,
          0.006414270882189239,
          0.006613194628247576,
          0.006816431185697904,
          0.0070240007288630245,
          0.00723592045631544,
          0.007452204481257707,
          0.007672863722843466,
          0.007897905798647652,
          0.008127334918498513,
          0.008361151779887667,
          0.008599353465177867,
          0.008841933340830879,
          0.009088880958880729,
          0.009340181960879202,
          0.009595817984542777,
          0.009855766573330597,
          0.010120001089184691,
          0.010388490628662967,
          0.010661199942696181,
          0.010938089360198366,
          0.01121911471575979,
          0.011504227281648889,
          0.011793373704347842,
          0.012086495945842978,
          0.012383531229888212,
          0.012684411993455083,
          0.012989065843578788,
          0.013297415519803976,
          0.013609378862428604,
          0.013924868786737325,
          0.014243793263409452,
          0.014566055305278467,
          0.014891552960612344,
          0.015220179313074943,
          0.015551822488519895,
          0.01588636566875816,
          0.016223687112430652,
          0.016563660183106035,
          0.01690615338471294,
          0.017251030404403563,
          0.01759815016293394,
          0.017947366872632778,
          0.018298530103018403,
          0.01865148485410907,
          0.0190060716374586,
          0.019362126564934766,
          0.01971948144524333,
          0.020077963888185817,
          0.020437397416624124,
          0.020797601586109417,
          0.021158392112117733,
          0.021519581004818485,
          0.021880976711286866,
          0.022242384265054718
         ]
        },
        {
         "fill": "tozeroy",
         "line": {
          "color": "rgb(100,110,250)"
         },
         "name": "적합",
         "type": "scatter",
         "x": [
          10,
          10.454545454545455,
          10.909090909090908,
          11.363636363636363,
          11.818181818181818,
          12.272727272727273,
          12.727272727272727,
          13.181818181818182,
          13.636363636363637,
          14.09090909090909,
          14.545454545454545,
          15,
          15.454545454545453,
          15.90909090909091,
          16.363636363636363,
          16.81818181818182,
          17.272727272727273,
          17.727272727272727,
          18.18181818181818,
          18.636363636363637,
          19.09090909090909,
          19.545454545454547,
          20,
          20.454545454545453,
          20.909090909090907,
          21.363636363636363,
          21.81818181818182,
          22.272727272727273,
          22.727272727272727,
          23.18181818181818,
          23.636363636363637,
          24.09090909090909,
          24.545454545454547,
          25,
          25.454545454545453,
          25.909090909090907,
          26.363636363636363,
          26.818181818181817,
          27.272727272727273,
          27.727272727272727,
          28.18181818181818,
          28.636363636363637,
          29.09090909090909,
          29.545454545454543,
          30,
          30.454545454545453,
          30.90909090909091,
          31.363636363636363,
          31.818181818181817,
          32.27272727272727,
          32.72727272727273,
          33.18181818181818,
          33.63636363636364,
          34.09090909090909,
          34.54545454545455,
          35,
          35.45454545454545,
          35.90909090909091,
          36.36363636363636,
          36.81818181818181,
          37.27272727272727,
          37.72727272727273,
          38.18181818181818,
          38.63636363636364,
          39.09090909090909,
          39.54545454545455,
          40,
          40.45454545454545,
          40.90909090909091,
          41.36363636363636,
          41.81818181818181,
          42.27272727272727,
          42.72727272727273,
          43.18181818181818,
          43.63636363636363,
          44.090909090909086,
          44.54545454545455,
          45,
          45.45454545454545,
          45.90909090909091,
          46.36363636363636,
          46.81818181818182,
          47.27272727272727,
          47.72727272727273,
          48.18181818181818,
          48.63636363636363,
          49.090909090909086,
          49.54545454545455,
          50,
          50.45454545454545,
          50.90909090909091,
          51.36363636363636,
          51.81818181818182,
          52.27272727272727,
          52.72727272727273,
          53.18181818181818,
          53.63636363636363,
          54.090909090909086,
          54.54545454545455,
          55
         ],
         "y": [
          0.022242384265054718,
          0.02314228827135798,
          0.024037871935210686,
          0.02492587963582897,
          0.025802971838889303,
          0.026665744998857675,
          0.02751075272926608,
          0.028334528067114815,
          0.029133606638461155,
          0.02990455051514969,
          0.030643972537874622,
          0.03134856086864076,
          0.03201510352647128,
          0.03264051265411697,
          0.03322184826072829,
          0.03375634118607953,
          0.034241415036048564,
          0.034674706846666285,
          0.035054086245102006,
          0.035377672890337844,
          0.03564385199383239,
          0.035851287740960164,
          0.03599893445715678,
          0.03608604538817536,
          0.036112178991298316,
          0.0360772026633438,
          0.03598129386142521,
          0.03582493860320954,
          0.03560892736440911,
          0.035334348421960975,
          0.03500257872133178,
          0.03461527237518268,
          0.03417434692780713,
          0.03368196754491447,
          0.033140529311110244,
          0.032552637837500654,
          0.031921088398951525,
          0.03124884383444459,
          0.03053901145453419,
          0.029794819207012862,
          0.0290195913555027,
          0.028216723925816145,
          0.02738966017165008,
          0.026541866304619452,
          0.025676807723982772,
          0.024797925968888315,
          0.02390861660084727,
          0.023012208206721903,
          0.022111942693136915,
          0.02121095702223531,
          0.020312266516476087,
          0.019418749837086333,
          0.018533135717212226,
          0.017657991507132036,
          0.016795713565456092,
          0.01594851950738331,
          0.015118442299122077,
          0.014307326166802359,
          0.013516824268855374,
          0.012748398063133595,
          0.012003318284165173,
          0.01128266743202104,
          0.010587343662419356,
          0.009918065957960336,
          0.009275380452795452,
          0.008659667777574303,
          0.008071151288131634,
          0.0075099060399944385,
          0.006975868371299742,
          0.0064688459589837604,
          0.005988528216982999,
          0.005534496910509002,
          0.005106236867042211,
          0.0047031466723492735,
          0.004324549248371807,
          0.003969702219070992,
          0.0036378079800544237,
          0.003328023397877109,
          0.0030394690751250997,
          0.002771238127596836,
          0.0025224044299460642,
          0.0022920302959082216,
          0.002079173568582846,
          0.0018828941050872611,
          0.0017022596481488831,
          0.0015363510847982006,
          0.001384267099212812,
          0.0012451282329107734,
          0.0011180803708807018,
          0.0010022976768617946,
          0.0008969850048574562,
          0.0008013798171007809,
          0.0007147536411181835,
          0.0006364131002964639,
          0.0005657005534928775,
          0.0005019943797873119,
          0.00044470894451369364,
          0.0003932942822807461,
          0.0003472355318573219,
          0.00030605215661245474
         ]
        }
       ],
       "layout": {
        "annotations": [
         {
          "bordercolor": "rgb(239,85,59)",
          "borderwidth": 2,
          "font": {
           "color": "rgb(239,85,59)",
           "size": 15
          },
          "showarrow": false,
          "text": "0.158",
          "x": 10,
          "xshift": -40,
          "y": 0.022242384265054718,
          "yshift": -100
         },
         {
          "bordercolor": "rgb(100,110,250)",
          "borderwidth": 2,
          "font": {
           "color": "rgb(100,110,250)",
           "size": 15
          },
          "showarrow": false,
          "text": "0.842",
          "x": 10,
          "xshift": 40,
          "y": 0.022242384265054718,
          "yshift": -100
         }
        ],
        "template": {
         "data": {
          "bar": [
           {
            "error_x": {
             "color": "#2a3f5f"
            },
            "error_y": {
             "color": "#2a3f5f"
            },
            "marker": {
             "line": {
              "color": "#E5ECF6",
              "width": 0.5
             },
             "pattern": {
              "fillmode": "overlay",
              "size": 10,
              "solidity": 0.2
             }
            },
            "type": "bar"
           }
          ],
          "barpolar": [
           {
            "marker": {
             "line": {
              "color": "#E5ECF6",
              "width": 0.5
             },
             "pattern": {
              "fillmode": "overlay",
              "size": 10,
              "solidity": 0.2
             }
            },
            "type": "barpolar"
           }
          ],
          "carpet": [
           {
            "aaxis": {
             "endlinecolor": "#2a3f5f",
             "gridcolor": "white",
             "linecolor": "white",
             "minorgridcolor": "white",
             "startlinecolor": "#2a3f5f"
            },
            "baxis": {
             "endlinecolor": "#2a3f5f",
             "gridcolor": "white",
             "linecolor": "white",
             "minorgridcolor": "white",
             "startlinecolor": "#2a3f5f"
            },
            "type": "carpet"
           }
          ],
          "choropleth": [
           {
            "colorbar": {
             "outlinewidth": 0,
             "ticks": ""
            },
            "type": "choropleth"
           }
          ],
          "contour": [
           {
            "colorbar": {
             "outlinewidth": 0,
             "ticks": ""
            },
            "colorscale": [
             [
              0,
              "#0d0887"
             ],
             [
              0.1111111111111111,
              "#46039f"
             ],
             [
              0.2222222222222222,
              "#7201a8"
             ],
             [
              0.3333333333333333,
              "#9c179e"
             ],
             [
              0.4444444444444444,
              "#bd3786"
             ],
             [
              0.5555555555555556,
              "#d8576b"
             ],
             [
              0.6666666666666666,
              "#ed7953"
             ],
             [
              0.7777777777777778,
              "#fb9f3a"
             ],
             [
              0.8888888888888888,
              "#fdca26"
             ],
             [
              1,
              "#f0f921"
             ]
            ],
            "type": "contour"
           }
          ],
          "contourcarpet": [
           {
            "colorbar": {
             "outlinewidth": 0,
             "ticks": ""
            },
            "type": "contourcarpet"
           }
          ],
          "heatmap": [
           {
            "colorbar": {
             "outlinewidth": 0,
             "ticks": ""
            },
            "colorscale": [
             [
              0,
              "#0d0887"
             ],
             [
              0.1111111111111111,
              "#46039f"
             ],
             [
              0.2222222222222222,
              "#7201a8"
             ],
             [
              0.3333333333333333,
              "#9c179e"
             ],
             [
              0.4444444444444444,
              "#bd3786"
             ],
             [
              0.5555555555555556,
              "#d8576b"
             ],
             [
              0.6666666666666666,
              "#ed7953"
             ],
             [
              0.7777777777777778,
              "#fb9f3a"
             ],
             [
              0.8888888888888888,
              "#fdca26"
             ],
             [
              1,
              "#f0f921"
             ]
            ],
            "type": "heatmap"
           }
          ],
          "heatmapgl": [
           {
            "colorbar": {
             "outlinewidth": 0,
             "ticks": ""
            },
            "colorscale": [
             [
              0,
              "#0d0887"
             ],
             [
              0.1111111111111111,
              "#46039f"
             ],
             [
              0.2222222222222222,
              "#7201a8"
             ],
             [
              0.3333333333333333,
              "#9c179e"
             ],
             [
              0.4444444444444444,
              "#bd3786"
             ],
             [
              0.5555555555555556,
              "#d8576b"
             ],
             [
              0.6666666666666666,
              "#ed7953"
             ],
             [
              0.7777777777777778,
              "#fb9f3a"
             ],
             [
              0.8888888888888888,
              "#fdca26"
             ],
             [
              1,
              "#f0f921"
             ]
            ],
            "type": "heatmapgl"
           }
          ],
          "histogram": [
           {
            "marker": {
             "pattern": {
              "fillmode": "overlay",
              "size": 10,
              "solidity": 0.2
             }
            },
            "type": "histogram"
           }
          ],
          "histogram2d": [
           {
            "colorbar": {
             "outlinewidth": 0,
             "ticks": ""
            },
            "colorscale": [
             [
              0,
              "#0d0887"
             ],
             [
              0.1111111111111111,
              "#46039f"
             ],
             [
              0.2222222222222222,
              "#7201a8"
             ],
             [
              0.3333333333333333,
              "#9c179e"
             ],
             [
              0.4444444444444444,
              "#bd3786"
             ],
             [
              0.5555555555555556,
              "#d8576b"
             ],
             [
              0.6666666666666666,
              "#ed7953"
             ],
             [
              0.7777777777777778,
              "#fb9f3a"
             ],
             [
              0.8888888888888888,
              "#fdca26"
             ],
             [
              1,
              "#f0f921"
             ]
            ],
            "type": "histogram2d"
           }
          ],
          "histogram2dcontour": [
           {
            "colorbar": {
             "outlinewidth": 0,
             "ticks": ""
            },
            "colorscale": [
             [
              0,
              "#0d0887"
             ],
             [
              0.1111111111111111,
              "#46039f"
             ],
             [
              0.2222222222222222,
              "#7201a8"
             ],
             [
              0.3333333333333333,
              "#9c179e"
             ],
             [
              0.4444444444444444,
              "#bd3786"
             ],
             [
              0.5555555555555556,
              "#d8576b"
             ],
             [
              0.6666666666666666,
              "#ed7953"
             ],
             [
              0.7777777777777778,
              "#fb9f3a"
             ],
             [
              0.8888888888888888,
              "#fdca26"
             ],
             [
              1,
              "#f0f921"
             ]
            ],
            "type": "histogram2dcontour"
           }
          ],
          "mesh3d": [
           {
            "colorbar": {
             "outlinewidth": 0,
             "ticks": ""
            },
            "type": "mesh3d"
           }
          ],
          "parcoords": [
           {
            "line": {
             "colorbar": {
              "outlinewidth": 0,
              "ticks": ""
             }
            },
            "type": "parcoords"
           }
          ],
          "pie": [
           {
            "automargin": true,
            "type": "pie"
           }
          ],
          "scatter": [
           {
            "marker": {
             "colorbar": {
              "outlinewidth": 0,
              "ticks": ""
             }
            },
            "type": "scatter"
           }
          ],
          "scatter3d": [
           {
            "line": {
             "colorbar": {
              "outlinewidth": 0,
              "ticks": ""
             }
            },
            "marker": {
             "colorbar": {
              "outlinewidth": 0,
              "ticks": ""
             }
            },
            "type": "scatter3d"
           }
          ],
          "scattercarpet": [
           {
            "marker": {
             "colorbar": {
              "outlinewidth": 0,
              "ticks": ""
             }
            },
            "type": "scattercarpet"
           }
          ],
          "scattergeo": [
           {
            "marker": {
             "colorbar": {
              "outlinewidth": 0,
              "ticks": ""
             }
            },
            "type": "scattergeo"
           }
          ],
          "scattergl": [
           {
            "marker": {
             "colorbar": {
              "outlinewidth": 0,
              "ticks": ""
             }
            },
            "type": "scattergl"
           }
          ],
          "scattermapbox": [
           {
            "marker": {
             "colorbar": {
              "outlinewidth": 0,
              "ticks": ""
             }
            },
            "type": "scattermapbox"
           }
          ],
          "scatterpolar": [
           {
            "marker": {
             "colorbar": {
              "outlinewidth": 0,
              "ticks": ""
             }
            },
            "type": "scatterpolar"
           }
          ],
          "scatterpolargl": [
           {
            "marker": {
             "colorbar": {
              "outlinewidth": 0,
              "ticks": ""
             }
            },
            "type": "scatterpolargl"
           }
          ],
          "scatterternary": [
           {
            "marker": {
             "colorbar": {
              "outlinewidth": 0,
              "ticks": ""
             }
            },
            "type": "scatterternary"
           }
          ],
          "surface": [
           {
            "colorbar": {
             "outlinewidth": 0,
             "ticks": ""
            },
            "colorscale": [
             [
              0,
              "#0d0887"
             ],
             [
              0.1111111111111111,
              "#46039f"
             ],
             [
              0.2222222222222222,
              "#7201a8"
             ],
             [
              0.3333333333333333,
              "#9c179e"
             ],
             [
              0.4444444444444444,
              "#bd3786"
             ],
             [
              0.5555555555555556,
              "#d8576b"
             ],
             [
              0.6666666666666666,
              "#ed7953"
             ],
             [
              0.7777777777777778,
              "#fb9f3a"
             ],
             [
              0.8888888888888888,
              "#fdca26"
             ],
             [
              1,
              "#f0f921"
             ]
            ],
            "type": "surface"
           }
          ],
          "table": [
           {
            "cells": {
             "fill": {
              "color": "#EBF0F8"
             },
             "line": {
              "color": "white"
             }
            },
            "header": {
             "fill": {
              "color": "#C8D4E3"
             },
             "line": {
              "color": "white"
             }
            },
            "type": "table"
           }
          ]
         },
         "layout": {
          "annotationdefaults": {
           "arrowcolor": "#2a3f5f",
           "arrowhead": 0,
           "arrowwidth": 1
          },
          "autotypenumbers": "strict",
          "coloraxis": {
           "colorbar": {
            "outlinewidth": 0,
            "ticks": ""
           }
          },
          "colorscale": {
           "diverging": [
            [
             0,
             "#8e0152"
            ],
            [
             0.1,
             "#c51b7d"
            ],
            [
             0.2,
             "#de77ae"
            ],
            [
             0.3,
             "#f1b6da"
            ],
            [
             0.4,
             "#fde0ef"
            ],
            [
             0.5,
             "#f7f7f7"
            ],
            [
             0.6,
             "#e6f5d0"
            ],
            [
             0.7,
             "#b8e186"
            ],
            [
             0.8,
             "#7fbc41"
            ],
            [
             0.9,
             "#4d9221"
            ],
            [
             1,
             "#276419"
            ]
           ],
           "sequential": [
            [
             0,
             "#0d0887"
            ],
            [
             0.1111111111111111,
             "#46039f"
            ],
            [
             0.2222222222222222,
             "#7201a8"
            ],
            [
             0.3333333333333333,
             "#9c179e"
            ],
            [
             0.4444444444444444,
             "#bd3786"
            ],
            [
             0.5555555555555556,
             "#d8576b"
            ],
            [
             0.6666666666666666,
             "#ed7953"
            ],
            [
             0.7777777777777778,
             "#fb9f3a"
            ],
            [
             0.8888888888888888,
             "#fdca26"
            ],
            [
             1,
             "#f0f921"
            ]
           ],
           "sequentialminus": [
            [
             0,
             "#0d0887"
            ],
            [
             0.1111111111111111,
             "#46039f"
            ],
            [
             0.2222222222222222,
             "#7201a8"
            ],
            [
             0.3333333333333333,
             "#9c179e"
            ],
            [
             0.4444444444444444,
             "#bd3786"
            ],
            [
             0.5555555555555556,
             "#d8576b"
            ],
            [
             0.6666666666666666,
             "#ed7953"
            ],
            [
             0.7777777777777778,
             "#fb9f3a"
            ],
            [
             0.8888888888888888,
             "#fdca26"
            ],
            [
             1,
             "#f0f921"
            ]
           ]
          },
          "colorway": [
           "#636efa",
           "#EF553B",
           "#00cc96",
           "#ab63fa",
           "#FFA15A",
           "#19d3f3",
           "#FF6692",
           "#B6E880",
           "#FF97FF",
           "#FECB52"
          ],
          "font": {
           "color": "#2a3f5f"
          },
          "geo": {
           "bgcolor": "white",
           "lakecolor": "white",
           "landcolor": "#E5ECF6",
           "showlakes": true,
           "showland": true,
           "subunitcolor": "white"
          },
          "hoverlabel": {
           "align": "left"
          },
          "hovermode": "closest",
          "mapbox": {
           "style": "light"
          },
          "paper_bgcolor": "white",
          "plot_bgcolor": "#E5ECF6",
          "polar": {
           "angularaxis": {
            "gridcolor": "white",
            "linecolor": "white",
            "ticks": ""
           },
           "bgcolor": "#E5ECF6",
           "radialaxis": {
            "gridcolor": "white",
            "linecolor": "white",
            "ticks": ""
           }
          },
          "scene": {
           "xaxis": {
            "backgroundcolor": "#E5ECF6",
            "gridcolor": "white",
            "gridwidth": 2,
            "linecolor": "white",
            "showbackground": true,
            "ticks": "",
            "zerolinecolor": "white"
           },
           "yaxis": {
            "backgroundcolor": "#E5ECF6",
            "gridcolor": "white",
            "gridwidth": 2,
            "linecolor": "white",
            "showbackground": true,
            "ticks": "",
            "zerolinecolor": "white"
           },
           "zaxis": {
            "backgroundcolor": "#E5ECF6",
            "gridcolor": "white",
            "gridwidth": 2,
            "linecolor": "white",
            "showbackground": true,
            "ticks": "",
            "zerolinecolor": "white"
           }
          },
          "shapedefaults": {
           "line": {
            "color": "#2a3f5f"
           }
          },
          "ternary": {
           "aaxis": {
            "gridcolor": "white",
            "linecolor": "white",
            "ticks": ""
           },
           "baxis": {
            "gridcolor": "white",
            "linecolor": "white",
            "ticks": ""
           },
           "bgcolor": "#E5ECF6",
           "caxis": {
            "gridcolor": "white",
            "linecolor": "white",
            "ticks": ""
           }
          },
          "title": {
           "x": 0.05
          },
          "xaxis": {
           "automargin": true,
           "gridcolor": "white",
           "linecolor": "white",
           "ticks": "",
           "title": {
            "standoff": 15
           },
           "zerolinecolor": "white",
           "zerolinewidth": 2
          },
          "yaxis": {
           "automargin": true,
           "gridcolor": "white",
           "linecolor": "white",
           "ticks": "",
           "title": {
            "standoff": 15
           },
           "zerolinecolor": "white",
           "zerolinewidth": 2
          }
         }
        },
        "yaxis": {
         "visible": false
        }
       }
      }
     },
     "metadata": {},
     "output_type": "display_data"
    },
    {
     "data": {
      "text/plain": [
       "0.8415688322677302"
      ]
     },
     "execution_count": 24,
     "metadata": {},
     "output_type": "execute_result"
    }
   ],
   "source": [
    "pm25_pro,pm25_pro_negative = cal_norm(df_air_pollution['pm25Value'].mean(),df_air_pollution['pm25Value'].std(),\n",
    "df_air_pollution['pm25Value'].min(),df_air_pollution['pm25Value'].max(),pm25_standard,False)\n",
    "pm25_pro"
   ]
  },
  {
   "cell_type": "markdown",
   "metadata": {
    "collapsed": false
   },
   "source": [
    "## 상위 요소 - 사회적 요인"
   ]
  },
  {
   "cell_type": "markdown",
   "metadata": {
    "collapsed": false
   },
   "source": [
    "### 인구밀도 "
   ]
  },
  {
   "cell_type": "code",
   "execution_count": 25,
   "metadata": {
    "collapsed": false,
    "pycharm": {
     "name": "#%%\n"
    }
   },
   "outputs": [
    {
     "data": {
      "text/html": [
       "<div>\n",
       "<style scoped>\n",
       "    .dataframe tbody tr th:only-of-type {\n",
       "        vertical-align: middle;\n",
       "    }\n",
       "\n",
       "    .dataframe tbody tr th {\n",
       "        vertical-align: top;\n",
       "    }\n",
       "\n",
       "    .dataframe thead th {\n",
       "        text-align: right;\n",
       "    }\n",
       "</style>\n",
       "<table border=\"1\" class=\"dataframe\">\n",
       "  <thead>\n",
       "    <tr style=\"text-align: right;\">\n",
       "      <th></th>\n",
       "      <th>행정구역(시군구)별</th>\n",
       "      <th>행정구역(동읍면)별</th>\n",
       "      <th>총인구수 (명)</th>\n",
       "      <th>면적(km^2)</th>\n",
       "      <th>인구밀도(km^2)</th>\n",
       "    </tr>\n",
       "  </thead>\n",
       "  <tbody>\n",
       "    <tr>\n",
       "      <th>0</th>\n",
       "      <td>강서구</td>\n",
       "      <td>가덕도동</td>\n",
       "      <td>4081</td>\n",
       "      <td>19.42</td>\n",
       "      <td>210.0</td>\n",
       "    </tr>\n",
       "    <tr>\n",
       "      <th>1</th>\n",
       "      <td>강서구</td>\n",
       "      <td>가락동</td>\n",
       "      <td>2312</td>\n",
       "      <td>14.09</td>\n",
       "      <td>164.0</td>\n",
       "    </tr>\n",
       "    <tr>\n",
       "      <th>2</th>\n",
       "      <td>강서구</td>\n",
       "      <td>강동동</td>\n",
       "      <td>4179</td>\n",
       "      <td>16.31</td>\n",
       "      <td>256.0</td>\n",
       "    </tr>\n",
       "    <tr>\n",
       "      <th>3</th>\n",
       "      <td>강서구</td>\n",
       "      <td>녹산동</td>\n",
       "      <td>35872</td>\n",
       "      <td>58.93</td>\n",
       "      <td>609.0</td>\n",
       "    </tr>\n",
       "    <tr>\n",
       "      <th>4</th>\n",
       "      <td>강서구</td>\n",
       "      <td>대저1동</td>\n",
       "      <td>6417</td>\n",
       "      <td>13.66</td>\n",
       "      <td>470.0</td>\n",
       "    </tr>\n",
       "    <tr>\n",
       "      <th>...</th>\n",
       "      <td>...</td>\n",
       "      <td>...</td>\n",
       "      <td>...</td>\n",
       "      <td>...</td>\n",
       "      <td>...</td>\n",
       "    </tr>\n",
       "    <tr>\n",
       "      <th>200</th>\n",
       "      <td>해운대구</td>\n",
       "      <td>좌2동</td>\n",
       "      <td>31635</td>\n",
       "      <td>0.50</td>\n",
       "      <td>63270.0</td>\n",
       "    </tr>\n",
       "    <tr>\n",
       "      <th>201</th>\n",
       "      <td>해운대구</td>\n",
       "      <td>좌3동</td>\n",
       "      <td>15891</td>\n",
       "      <td>0.72</td>\n",
       "      <td>22071.0</td>\n",
       "    </tr>\n",
       "    <tr>\n",
       "      <th>202</th>\n",
       "      <td>해운대구</td>\n",
       "      <td>좌4동</td>\n",
       "      <td>22883</td>\n",
       "      <td>1.80</td>\n",
       "      <td>12713.0</td>\n",
       "    </tr>\n",
       "    <tr>\n",
       "      <th>203</th>\n",
       "      <td>해운대구</td>\n",
       "      <td>중1동</td>\n",
       "      <td>27840</td>\n",
       "      <td>1.73</td>\n",
       "      <td>16092.0</td>\n",
       "    </tr>\n",
       "    <tr>\n",
       "      <th>204</th>\n",
       "      <td>해운대구</td>\n",
       "      <td>중2동</td>\n",
       "      <td>15790</td>\n",
       "      <td>1.16</td>\n",
       "      <td>13612.0</td>\n",
       "    </tr>\n",
       "  </tbody>\n",
       "</table>\n",
       "<p>205 rows × 5 columns</p>\n",
       "</div>"
      ],
      "text/plain": [
       "    행정구역(시군구)별 행정구역(동읍면)별  총인구수 (명)  면적(km^2)  인구밀도(km^2)\n",
       "0          강서구       가덕도동      4081     19.42       210.0\n",
       "1          강서구        가락동      2312     14.09       164.0\n",
       "2          강서구        강동동      4179     16.31       256.0\n",
       "3          강서구        녹산동     35872     58.93       609.0\n",
       "4          강서구       대저1동      6417     13.66       470.0\n",
       "..         ...        ...       ...       ...         ...\n",
       "200       해운대구        좌2동     31635      0.50     63270.0\n",
       "201       해운대구        좌3동     15891      0.72     22071.0\n",
       "202       해운대구        좌4동     22883      1.80     12713.0\n",
       "203       해운대구        중1동     27840      1.73     16092.0\n",
       "204       해운대구        중2동     15790      1.16     13612.0\n",
       "\n",
       "[205 rows x 5 columns]"
      ]
     },
     "execution_count": 25,
     "metadata": {},
     "output_type": "execute_result"
    }
   ],
   "source": [
    "people_file_path = 'C:\\\\Users\\\\SAMSUNG\\\\Desktop\\\\Green-Car-Charging-Station-Site-Selection\\\\Data\\\\행정구역 읍면동 주민등록인구.csv'\n",
    "df_density = pd.read_csv(people_file_path, encoding='cp949')\n",
    "df_density = df_density.sort_values(by=[\"행정구역(시군구)별\",\"행정구역(동읍면)별\"],ascending=True).reset_index(drop=True)\n",
    "df_density"
   ]
  },
  {
   "cell_type": "code",
   "execution_count": 26,
   "metadata": {},
   "outputs": [
    {
     "data": {
      "text/plain": [
       "6214"
      ]
     },
     "execution_count": 26,
     "metadata": {},
     "output_type": "execute_result"
    }
   ],
   "source": [
    "23107-16893"
   ]
  },
  {
   "cell_type": "code",
   "execution_count": 27,
   "metadata": {},
   "outputs": [
    {
     "data": {
      "application/vnd.plotly.v1+json": {
       "config": {
        "plotlyServerURL": "https://plot.ly"
       },
       "data": [
        {
         "fill": "tozeroy",
         "line": {
          "color": "rgb(239,85,59)"
         },
         "name": "부적합",
         "type": "scatter",
         "x": [
          -22539.356006511385,
          -21907.64533977895,
          -21275.934673046508,
          -20644.22400631407,
          -20012.513339581634,
          -19380.802672849193,
          -18749.092006116756,
          -18117.381339384316,
          -17485.67067265188,
          -16853.96000591944,
          -16222.249339187003,
          -15590.538672454564,
          -14958.828005722127,
          -14327.117338989689,
          -13695.40667225725,
          -13063.696005524813,
          -12431.985338792374,
          -11800.274672059935,
          -11168.564005327498,
          -10536.85333859506,
          -9905.14267186262,
          -9273.432005130184,
          -8641.721338397745,
          -8010.010671665306,
          -7378.300004932869,
          -6746.589338200431,
          -6114.878671467992,
          -5483.168004735555,
          -4851.457338003114,
          -4219.746671270677,
          -3588.0360045382404,
          -2956.3253378058,
          -2324.614671073363,
          -1692.904004340926,
          -1061.1933376084853,
          -429.48267087604836,
          202.2279958563886,
          833.9386625888292,
          1465.6493293212661,
          2097.359996053703,
          2729.0706627861437,
          3360.7813295185806,
          3992.4919962510176,
          4624.202662983458,
          5255.913329715895,
          5887.623996448332,
          6519.334663180773,
          7151.04532991321,
          7782.7559966456465,
          8414.466663378087,
          9046.177330110524,
          9677.887996842965,
          10309.598663575402,
          10941.309330307842,
          11573.019997040275,
          12204.730663772716,
          12836.441330505157,
          13468.15199723759,
          14099.86266397003,
          14731.573330702471,
          15363.283997434904,
          15994.994664167345,
          16626.705330899786,
          17258.41599763222,
          17890.12666436466,
          18521.8373310971,
          19153.547997829533,
          19785.258664561974,
          20416.969331294415,
          21048.679998026848,
          21680.39066475929,
          22312.10133149173,
          22943.811998224162,
          23575.522664956603,
          24207.233331689044,
          24838.943998421477,
          25470.654665153917,
          26102.365331886358,
          26734.07599861879,
          27365.786665351232,
          27997.497332083673,
          28629.207998816106,
          29260.918665548546,
          29892.629332280987,
          30524.33999901342,
          31156.05066574586,
          31787.7613324783,
          32419.471999210735,
          33051.182665943175,
          33682.893332675616,
          34314.60399940805,
          34946.31466614049,
          35578.02533287293,
          36209.735999605364,
          36841.446666337804,
          37473.157333070245,
          38104.86799980268,
          38736.57866653512,
          39368.28933326756,
          40000
         ],
         "y": [
          0.0000022794965811137965,
          0.000002410424102131705,
          0.000002546899124502198,
          0.000002689018522742128,
          0.0000028368711469205186,
          0.000002990537092411218,
          0.000003150086964003724,
          0.000003315581137570594,
          0.0000034870690226779746,
          0.000003664588329702473,
          0.000003848164345181171,
          0.000004037809219269951,
          0.00000423352126931697,
          0.000004435284303670793,
          0.000004643066969935189,
          0.000004856822131952627,
          0.000005076486279845169,
          0.000005301978977462567,
          0.0000055332023515821755,
          0.0000057700406271723135,
          0.000006012359712968858,
          0.000006260006841523516,
          0.000006512810267760589,
          0.00000677057902992662,
          0.00000703310277663406,
          0.000007300151663485907,
          0.000007571476322523334,
          0.000007846807907463429,
          0.000008125858217389742,
          0.000008408319901225635,
          0.000008693866744960758,
          0.000008982154043215671,
          0.000009272819056320773,
          0.000009565481553655229,
          0.000009859744443541732,
          0.000010155194489526348,
          0.000010451403112392212,
          0.000010747927276764,
          0.000011044310460660704,
          0.000011340083705849845,
          0.000011634766746350862,
          0.00001192786921193219,
          0.000012218891902949435,
          0.000012507328132384185,
          0.000012792665130468832,
          0.000013074385506825281,
          0.000013351968764608611,
          0.000013624892860734161,
          0.000013892635805881555,
          0.000014154677297615137,
          0.000014410500379640437,
          0.000014659593119933487,
          0.000014901450300236882,
          0.000015135575109215787,
          0.000015361480831410865,
          0.000015578692524015468,
          0.00001578674867344227,
          0.000015985202823631984,
          0.000016173625168093972,
          0.000016351604097756003,
          0.000016518747696838922,
          0.000016674685179159934,
          0.000016819068257506417,
          0.000016951572439008092,
          0.000017071898239768806,
          0.000017179772312397082,
          0.000017274948480495717,
          0.000017357208674631868,
          0.000017426363764807375,
          0.00001748225428498182,
          0.00001752475104576364,
          0.00001755375563197453,
          0.000017569200782405114,
          0.00001757105064971071,
          0.000017559300939041752,
          0.000017533978924658494,
          0.00001749514334443998,
          0.00001744288417285838,
          0.000017377322273646862,
          0.000017298608934037616,
          0.00001720692528308221,
          0.0000171024815971845,
          0.000016985516496572705,
          0.000016856296037008115,
          0.0000167151127015688,
          0.000016562284297855072,
          0.000016398152766434856,
          0.000016223082906779258,
          0.00001603746102732885,
          0.00001584169352667661,
          0.000015636205413152634,
          0.000015421438770346926,
          0.000015197851176308427,
          0.000014965914084310272,
          0.000014726111173172679,
          0.000014478936675185795,
          0.00001422489368967552,
          0.000013964492490206708,
          0.000013698248833321327,
          0.000013426682276565221
         ]
        },
        {
         "fill": "tozeroy",
         "line": {
          "color": "rgb(100,110,250)"
         },
         "name": "적합",
         "type": "scatter",
         "x": [
          40000,
          42150.757575757576,
          44301.51515151515,
          46452.27272727273,
          48603.030303030304,
          50753.78787878788,
          52904.545454545456,
          55055.30303030303,
          57206.06060606061,
          59356.818181818184,
          61507.57575757576,
          63658.333333333336,
          65809.09090909091,
          67959.84848484848,
          70110.60606060606,
          72261.36363636365,
          74412.12121212122,
          76562.87878787878,
          78713.63636363637,
          80864.39393939395,
          83015.15151515152,
          85165.90909090909,
          87316.66666666667,
          89467.42424242425,
          91618.18181818182,
          93768.93939393939,
          95919.69696969698,
          98070.45454545456,
          100221.21212121213,
          102371.9696969697,
          104522.72727272728,
          106673.48484848486,
          108824.24242424243,
          110975,
          113125.75757575758,
          115276.51515151517,
          117427.27272727274,
          119578.0303030303,
          121728.78787878789,
          123879.54545454547,
          126030.30303030304,
          128181.06060606061,
          130331.81818181819,
          132482.57575757577,
          134633.33333333334,
          136784.0909090909,
          138934.8484848485,
          141085.60606060608,
          143236.36363636365,
          145387.12121212122,
          147537.87878787878,
          149688.63636363638,
          151839.39393939395,
          153990.15151515152,
          156140.90909090912,
          158291.6666666667,
          160442.42424242425,
          162593.18181818182,
          164743.9393939394,
          166894.696969697,
          169045.45454545456,
          171196.21212121213,
          173346.96969696973,
          175497.7272727273,
          177648.48484848486,
          179799.24242424243,
          181950,
          184100.7575757576,
          186251.51515151517,
          188402.27272727274,
          190553.03030303033,
          192703.7878787879,
          194854.54545454547,
          197005.30303030304,
          199156.0606060606,
          201306.8181818182,
          203457.57575757577,
          205608.33333333334,
          207759.09090909094,
          209909.8484848485,
          212060.60606060608,
          214211.36363636365,
          216362.12121212122,
          218512.8787878788,
          220663.63636363638,
          222814.39393939395,
          224965.15151515155,
          227115.90909090912,
          229266.6666666667,
          231417.42424242425,
          233568.18181818182,
          235718.93939393942,
          237869.696969697,
          240020.45454545456,
          242171.21212121216,
          244321.96969696973,
          246472.7272727273,
          248623.48484848486,
          250774.24242424243,
          252925
         ],
         "y": [
          0.000013426682276565221,
          0.000012469227102530773,
          0.00001147658952173091,
          0.000010468601150060492,
          0.000009463830420971339,
          0.000008479060555094303,
          0.000007528891095245693,
          0.000006625471413933787,
          0.000005778365980457164,
          0.000004994543460864243,
          0.000004278475399789821,
          0.000003632325612275497,
          0.00000305620863116574,
          0.0000025484945775743455,
          0.000002106138470409015,
          0.000001725013980300238,
          0.0000014002346112895987,
          0.0000011264488832893688,
          8.980999253819518e-7,
          7.096436531190834e-7,
          5.557231344324443e-7,
          4.3129966556021897e-7,
          3.3174337395273444e-7,
          2.5288780348420597e-7,
          1.9105394177977473e-7,
          1.4304958808455492e-7,
          1.0614992994472531e-7,
          7.806480932762014e-8,
          5.689752637242352e-8,
          4.109925593182498e-8,
          2.942232741923035e-8,
          2.0874812338329314e-8,
          1.4678126520102227e-8,
          1.0228717042274825e-8,
          7.064382304042819e-9,
          4.8353700279887e-9,
          3.2801048436940926e-9,
          2.205201239605326e-9,
          1.4693025132520863e-9,
          9.702344836910283e-10,
          6.349575357467667e-10,
          4.1182731523057907e-10,
          2.6472082435912843e-10,
          1.6864115020246962e-10,
          1.0647349149358997e-10,
          6.662265363155974e-11,
          4.131472338092284e-11,
          2.539161139178958e-11,
          1.5466005749980867e-11,
          9.336165955911238e-12,
          5.5854922003541164e-12,
          3.3117445290840374e-12,
          1.9460531458850567e-12,
          1.13332653332173e-12,
          6.541207223899367e-13,
          3.741650771054115e-13,
          2.1211485444416887e-13,
          1.1917397018742337e-13,
          6.635814289633352e-14,
          3.661925714437525e-14,
          2.002752708537615e-14,
          1.085544463303221e-14,
          5.8313672922170435e-15,
          3.1045286184510328e-15,
          1.6380359531227785e-15,
          8.56551900640651e-16,
          4.439013108125996e-16,
          2.279930786170592e-16,
          1.1605380646891478e-16,
          5.854632068020045e-17,
          2.927132056992222e-17,
          1.4503990808646915e-17,
          7.122545083260874e-18,
          3.46645358076317e-18,
          1.6720068876301805e-18,
          7.992694737644383e-19,
          3.7866126534621453e-19,
          1.7779151403288803e-19,
          8.273202716892807e-20,
          3.81538874811134e-20,
          1.743839113255225e-20,
          7.899080236828833e-21,
          3.546084884319243e-21,
          1.5776992548214436e-21,
          6.956676442137049e-22,
          3.0400580735730716e-22,
          1.3166321217641747e-22,
          5.651314852001726e-23,
          2.404014331928455e-23,
          1.0135077924874918e-23,
          4.234670495034401e-24,
          1.7535358326637606e-24,
          7.196348019792215e-25,
          2.926928827403124e-25,
          1.1798170207577127e-25,
          4.713240964095289e-26,
          1.8660665198721056e-26,
          7.322124171679434e-27,
          2.847407005416393e-27,
          1.0973988479095877e-27
         ]
        }
       ],
       "layout": {
        "annotations": [
         {
          "bordercolor": "rgb(239,85,59)",
          "borderwidth": 2,
          "font": {
           "color": "rgb(239,85,59)",
           "size": 15
          },
          "showarrow": false,
          "text": "0.746",
          "x": 40000,
          "xshift": -40,
          "y": 0.000013426682276565221,
          "yshift": -100
         },
         {
          "bordercolor": "rgb(100,110,250)",
          "borderwidth": 2,
          "font": {
           "color": "rgb(100,110,250)",
           "size": 15
          },
          "showarrow": false,
          "text": "0.254",
          "x": 40000,
          "xshift": 40,
          "y": 0.000013426682276565221,
          "yshift": -100
         }
        ],
        "template": {
         "data": {
          "bar": [
           {
            "error_x": {
             "color": "#2a3f5f"
            },
            "error_y": {
             "color": "#2a3f5f"
            },
            "marker": {
             "line": {
              "color": "#E5ECF6",
              "width": 0.5
             },
             "pattern": {
              "fillmode": "overlay",
              "size": 10,
              "solidity": 0.2
             }
            },
            "type": "bar"
           }
          ],
          "barpolar": [
           {
            "marker": {
             "line": {
              "color": "#E5ECF6",
              "width": 0.5
             },
             "pattern": {
              "fillmode": "overlay",
              "size": 10,
              "solidity": 0.2
             }
            },
            "type": "barpolar"
           }
          ],
          "carpet": [
           {
            "aaxis": {
             "endlinecolor": "#2a3f5f",
             "gridcolor": "white",
             "linecolor": "white",
             "minorgridcolor": "white",
             "startlinecolor": "#2a3f5f"
            },
            "baxis": {
             "endlinecolor": "#2a3f5f",
             "gridcolor": "white",
             "linecolor": "white",
             "minorgridcolor": "white",
             "startlinecolor": "#2a3f5f"
            },
            "type": "carpet"
           }
          ],
          "choropleth": [
           {
            "colorbar": {
             "outlinewidth": 0,
             "ticks": ""
            },
            "type": "choropleth"
           }
          ],
          "contour": [
           {
            "colorbar": {
             "outlinewidth": 0,
             "ticks": ""
            },
            "colorscale": [
             [
              0,
              "#0d0887"
             ],
             [
              0.1111111111111111,
              "#46039f"
             ],
             [
              0.2222222222222222,
              "#7201a8"
             ],
             [
              0.3333333333333333,
              "#9c179e"
             ],
             [
              0.4444444444444444,
              "#bd3786"
             ],
             [
              0.5555555555555556,
              "#d8576b"
             ],
             [
              0.6666666666666666,
              "#ed7953"
             ],
             [
              0.7777777777777778,
              "#fb9f3a"
             ],
             [
              0.8888888888888888,
              "#fdca26"
             ],
             [
              1,
              "#f0f921"
             ]
            ],
            "type": "contour"
           }
          ],
          "contourcarpet": [
           {
            "colorbar": {
             "outlinewidth": 0,
             "ticks": ""
            },
            "type": "contourcarpet"
           }
          ],
          "heatmap": [
           {
            "colorbar": {
             "outlinewidth": 0,
             "ticks": ""
            },
            "colorscale": [
             [
              0,
              "#0d0887"
             ],
             [
              0.1111111111111111,
              "#46039f"
             ],
             [
              0.2222222222222222,
              "#7201a8"
             ],
             [
              0.3333333333333333,
              "#9c179e"
             ],
             [
              0.4444444444444444,
              "#bd3786"
             ],
             [
              0.5555555555555556,
              "#d8576b"
             ],
             [
              0.6666666666666666,
              "#ed7953"
             ],
             [
              0.7777777777777778,
              "#fb9f3a"
             ],
             [
              0.8888888888888888,
              "#fdca26"
             ],
             [
              1,
              "#f0f921"
             ]
            ],
            "type": "heatmap"
           }
          ],
          "heatmapgl": [
           {
            "colorbar": {
             "outlinewidth": 0,
             "ticks": ""
            },
            "colorscale": [
             [
              0,
              "#0d0887"
             ],
             [
              0.1111111111111111,
              "#46039f"
             ],
             [
              0.2222222222222222,
              "#7201a8"
             ],
             [
              0.3333333333333333,
              "#9c179e"
             ],
             [
              0.4444444444444444,
              "#bd3786"
             ],
             [
              0.5555555555555556,
              "#d8576b"
             ],
             [
              0.6666666666666666,
              "#ed7953"
             ],
             [
              0.7777777777777778,
              "#fb9f3a"
             ],
             [
              0.8888888888888888,
              "#fdca26"
             ],
             [
              1,
              "#f0f921"
             ]
            ],
            "type": "heatmapgl"
           }
          ],
          "histogram": [
           {
            "marker": {
             "pattern": {
              "fillmode": "overlay",
              "size": 10,
              "solidity": 0.2
             }
            },
            "type": "histogram"
           }
          ],
          "histogram2d": [
           {
            "colorbar": {
             "outlinewidth": 0,
             "ticks": ""
            },
            "colorscale": [
             [
              0,
              "#0d0887"
             ],
             [
              0.1111111111111111,
              "#46039f"
             ],
             [
              0.2222222222222222,
              "#7201a8"
             ],
             [
              0.3333333333333333,
              "#9c179e"
             ],
             [
              0.4444444444444444,
              "#bd3786"
             ],
             [
              0.5555555555555556,
              "#d8576b"
             ],
             [
              0.6666666666666666,
              "#ed7953"
             ],
             [
              0.7777777777777778,
              "#fb9f3a"
             ],
             [
              0.8888888888888888,
              "#fdca26"
             ],
             [
              1,
              "#f0f921"
             ]
            ],
            "type": "histogram2d"
           }
          ],
          "histogram2dcontour": [
           {
            "colorbar": {
             "outlinewidth": 0,
             "ticks": ""
            },
            "colorscale": [
             [
              0,
              "#0d0887"
             ],
             [
              0.1111111111111111,
              "#46039f"
             ],
             [
              0.2222222222222222,
              "#7201a8"
             ],
             [
              0.3333333333333333,
              "#9c179e"
             ],
             [
              0.4444444444444444,
              "#bd3786"
             ],
             [
              0.5555555555555556,
              "#d8576b"
             ],
             [
              0.6666666666666666,
              "#ed7953"
             ],
             [
              0.7777777777777778,
              "#fb9f3a"
             ],
             [
              0.8888888888888888,
              "#fdca26"
             ],
             [
              1,
              "#f0f921"
             ]
            ],
            "type": "histogram2dcontour"
           }
          ],
          "mesh3d": [
           {
            "colorbar": {
             "outlinewidth": 0,
             "ticks": ""
            },
            "type": "mesh3d"
           }
          ],
          "parcoords": [
           {
            "line": {
             "colorbar": {
              "outlinewidth": 0,
              "ticks": ""
             }
            },
            "type": "parcoords"
           }
          ],
          "pie": [
           {
            "automargin": true,
            "type": "pie"
           }
          ],
          "scatter": [
           {
            "marker": {
             "colorbar": {
              "outlinewidth": 0,
              "ticks": ""
             }
            },
            "type": "scatter"
           }
          ],
          "scatter3d": [
           {
            "line": {
             "colorbar": {
              "outlinewidth": 0,
              "ticks": ""
             }
            },
            "marker": {
             "colorbar": {
              "outlinewidth": 0,
              "ticks": ""
             }
            },
            "type": "scatter3d"
           }
          ],
          "scattercarpet": [
           {
            "marker": {
             "colorbar": {
              "outlinewidth": 0,
              "ticks": ""
             }
            },
            "type": "scattercarpet"
           }
          ],
          "scattergeo": [
           {
            "marker": {
             "colorbar": {
              "outlinewidth": 0,
              "ticks": ""
             }
            },
            "type": "scattergeo"
           }
          ],
          "scattergl": [
           {
            "marker": {
             "colorbar": {
              "outlinewidth": 0,
              "ticks": ""
             }
            },
            "type": "scattergl"
           }
          ],
          "scattermapbox": [
           {
            "marker": {
             "colorbar": {
              "outlinewidth": 0,
              "ticks": ""
             }
            },
            "type": "scattermapbox"
           }
          ],
          "scatterpolar": [
           {
            "marker": {
             "colorbar": {
              "outlinewidth": 0,
              "ticks": ""
             }
            },
            "type": "scatterpolar"
           }
          ],
          "scatterpolargl": [
           {
            "marker": {
             "colorbar": {
              "outlinewidth": 0,
              "ticks": ""
             }
            },
            "type": "scatterpolargl"
           }
          ],
          "scatterternary": [
           {
            "marker": {
             "colorbar": {
              "outlinewidth": 0,
              "ticks": ""
             }
            },
            "type": "scatterternary"
           }
          ],
          "surface": [
           {
            "colorbar": {
             "outlinewidth": 0,
             "ticks": ""
            },
            "colorscale": [
             [
              0,
              "#0d0887"
             ],
             [
              0.1111111111111111,
              "#46039f"
             ],
             [
              0.2222222222222222,
              "#7201a8"
             ],
             [
              0.3333333333333333,
              "#9c179e"
             ],
             [
              0.4444444444444444,
              "#bd3786"
             ],
             [
              0.5555555555555556,
              "#d8576b"
             ],
             [
              0.6666666666666666,
              "#ed7953"
             ],
             [
              0.7777777777777778,
              "#fb9f3a"
             ],
             [
              0.8888888888888888,
              "#fdca26"
             ],
             [
              1,
              "#f0f921"
             ]
            ],
            "type": "surface"
           }
          ],
          "table": [
           {
            "cells": {
             "fill": {
              "color": "#EBF0F8"
             },
             "line": {
              "color": "white"
             }
            },
            "header": {
             "fill": {
              "color": "#C8D4E3"
             },
             "line": {
              "color": "white"
             }
            },
            "type": "table"
           }
          ]
         },
         "layout": {
          "annotationdefaults": {
           "arrowcolor": "#2a3f5f",
           "arrowhead": 0,
           "arrowwidth": 1
          },
          "autotypenumbers": "strict",
          "coloraxis": {
           "colorbar": {
            "outlinewidth": 0,
            "ticks": ""
           }
          },
          "colorscale": {
           "diverging": [
            [
             0,
             "#8e0152"
            ],
            [
             0.1,
             "#c51b7d"
            ],
            [
             0.2,
             "#de77ae"
            ],
            [
             0.3,
             "#f1b6da"
            ],
            [
             0.4,
             "#fde0ef"
            ],
            [
             0.5,
             "#f7f7f7"
            ],
            [
             0.6,
             "#e6f5d0"
            ],
            [
             0.7,
             "#b8e186"
            ],
            [
             0.8,
             "#7fbc41"
            ],
            [
             0.9,
             "#4d9221"
            ],
            [
             1,
             "#276419"
            ]
           ],
           "sequential": [
            [
             0,
             "#0d0887"
            ],
            [
             0.1111111111111111,
             "#46039f"
            ],
            [
             0.2222222222222222,
             "#7201a8"
            ],
            [
             0.3333333333333333,
             "#9c179e"
            ],
            [
             0.4444444444444444,
             "#bd3786"
            ],
            [
             0.5555555555555556,
             "#d8576b"
            ],
            [
             0.6666666666666666,
             "#ed7953"
            ],
            [
             0.7777777777777778,
             "#fb9f3a"
            ],
            [
             0.8888888888888888,
             "#fdca26"
            ],
            [
             1,
             "#f0f921"
            ]
           ],
           "sequentialminus": [
            [
             0,
             "#0d0887"
            ],
            [
             0.1111111111111111,
             "#46039f"
            ],
            [
             0.2222222222222222,
             "#7201a8"
            ],
            [
             0.3333333333333333,
             "#9c179e"
            ],
            [
             0.4444444444444444,
             "#bd3786"
            ],
            [
             0.5555555555555556,
             "#d8576b"
            ],
            [
             0.6666666666666666,
             "#ed7953"
            ],
            [
             0.7777777777777778,
             "#fb9f3a"
            ],
            [
             0.8888888888888888,
             "#fdca26"
            ],
            [
             1,
             "#f0f921"
            ]
           ]
          },
          "colorway": [
           "#636efa",
           "#EF553B",
           "#00cc96",
           "#ab63fa",
           "#FFA15A",
           "#19d3f3",
           "#FF6692",
           "#B6E880",
           "#FF97FF",
           "#FECB52"
          ],
          "font": {
           "color": "#2a3f5f"
          },
          "geo": {
           "bgcolor": "white",
           "lakecolor": "white",
           "landcolor": "#E5ECF6",
           "showlakes": true,
           "showland": true,
           "subunitcolor": "white"
          },
          "hoverlabel": {
           "align": "left"
          },
          "hovermode": "closest",
          "mapbox": {
           "style": "light"
          },
          "paper_bgcolor": "white",
          "plot_bgcolor": "#E5ECF6",
          "polar": {
           "angularaxis": {
            "gridcolor": "white",
            "linecolor": "white",
            "ticks": ""
           },
           "bgcolor": "#E5ECF6",
           "radialaxis": {
            "gridcolor": "white",
            "linecolor": "white",
            "ticks": ""
           }
          },
          "scene": {
           "xaxis": {
            "backgroundcolor": "#E5ECF6",
            "gridcolor": "white",
            "gridwidth": 2,
            "linecolor": "white",
            "showbackground": true,
            "ticks": "",
            "zerolinecolor": "white"
           },
           "yaxis": {
            "backgroundcolor": "#E5ECF6",
            "gridcolor": "white",
            "gridwidth": 2,
            "linecolor": "white",
            "showbackground": true,
            "ticks": "",
            "zerolinecolor": "white"
           },
           "zaxis": {
            "backgroundcolor": "#E5ECF6",
            "gridcolor": "white",
            "gridwidth": 2,
            "linecolor": "white",
            "showbackground": true,
            "ticks": "",
            "zerolinecolor": "white"
           }
          },
          "shapedefaults": {
           "line": {
            "color": "#2a3f5f"
           }
          },
          "ternary": {
           "aaxis": {
            "gridcolor": "white",
            "linecolor": "white",
            "ticks": ""
           },
           "baxis": {
            "gridcolor": "white",
            "linecolor": "white",
            "ticks": ""
           },
           "bgcolor": "#E5ECF6",
           "caxis": {
            "gridcolor": "white",
            "linecolor": "white",
            "ticks": ""
           }
          },
          "title": {
           "x": 0.05
          },
          "xaxis": {
           "automargin": true,
           "gridcolor": "white",
           "linecolor": "white",
           "ticks": "",
           "title": {
            "standoff": 15
           },
           "zerolinecolor": "white",
           "zerolinewidth": 2
          },
          "yaxis": {
           "automargin": true,
           "gridcolor": "white",
           "linecolor": "white",
           "ticks": "",
           "title": {
            "standoff": 15
           },
           "zerolinecolor": "white",
           "zerolinewidth": 2
          }
         }
        },
        "yaxis": {
         "visible": false
        }
       }
      }
     },
     "metadata": {},
     "output_type": "display_data"
    }
   ],
   "source": [
    "density_pro, density_pro_negative = cal_norm(df_density['인구밀도(km^2)'].mean(),\n",
    "                                             df_density['인구밀도(km^2)'].std(),\n",
    "                                             df_density['인구밀도(km^2)'].min(),\n",
    "                                             df_density['인구밀도(km^2)'].max(),\n",
    "                                             density_standard,\n",
    "                                             False)"
   ]
  },
  {
   "cell_type": "markdown",
   "metadata": {},
   "source": [
    "### 유동인구밀도"
   ]
  },
  {
   "cell_type": "code",
   "execution_count": 28,
   "metadata": {},
   "outputs": [
    {
     "data": {
      "text/html": [
       "<div>\n",
       "<style scoped>\n",
       "    .dataframe tbody tr th:only-of-type {\n",
       "        vertical-align: middle;\n",
       "    }\n",
       "\n",
       "    .dataframe tbody tr th {\n",
       "        vertical-align: top;\n",
       "    }\n",
       "\n",
       "    .dataframe thead th {\n",
       "        text-align: right;\n",
       "    }\n",
       "</style>\n",
       "<table border=\"1\" class=\"dataframe\">\n",
       "  <thead>\n",
       "    <tr style=\"text-align: right;\">\n",
       "      <th></th>\n",
       "      <th>구군</th>\n",
       "      <th>1월</th>\n",
       "      <th>2월</th>\n",
       "      <th>3월</th>\n",
       "      <th>4월</th>\n",
       "      <th>5월</th>\n",
       "      <th>6월</th>\n",
       "      <th>7월</th>\n",
       "      <th>8월</th>\n",
       "      <th>9월</th>\n",
       "      <th>10월</th>\n",
       "      <th>11월</th>\n",
       "      <th>12월</th>\n",
       "      <th>월 평균</th>\n",
       "    </tr>\n",
       "  </thead>\n",
       "  <tbody>\n",
       "    <tr>\n",
       "      <th>0</th>\n",
       "      <td>강서구</td>\n",
       "      <td>325,284.39</td>\n",
       "      <td>323,049.87</td>\n",
       "      <td>335,120.06</td>\n",
       "      <td>340,570.52</td>\n",
       "      <td>332,289.77</td>\n",
       "      <td>340,678.45</td>\n",
       "      <td>337,488.64</td>\n",
       "      <td>328,374.74</td>\n",
       "      <td>328,764.38</td>\n",
       "      <td>333,414.26</td>\n",
       "      <td>340,405.10</td>\n",
       "      <td>337,753.15</td>\n",
       "      <td>333,599.44</td>\n",
       "    </tr>\n",
       "    <tr>\n",
       "      <th>1</th>\n",
       "      <td>금정구</td>\n",
       "      <td>482,598.89</td>\n",
       "      <td>477,047.11</td>\n",
       "      <td>484,669.59</td>\n",
       "      <td>490,864.46</td>\n",
       "      <td>487,435.45</td>\n",
       "      <td>484,936.00</td>\n",
       "      <td>483,898.58</td>\n",
       "      <td>482,964.23</td>\n",
       "      <td>487,082.06</td>\n",
       "      <td>484,633.90</td>\n",
       "      <td>485,502.59</td>\n",
       "      <td>488,392.99</td>\n",
       "      <td>485,002.15</td>\n",
       "    </tr>\n",
       "    <tr>\n",
       "      <th>2</th>\n",
       "      <td>기장군</td>\n",
       "      <td>341,181.17</td>\n",
       "      <td>343,398.79</td>\n",
       "      <td>342,489.52</td>\n",
       "      <td>345,184.20</td>\n",
       "      <td>348,793.68</td>\n",
       "      <td>348,500.32</td>\n",
       "      <td>350,763.40</td>\n",
       "      <td>349,328.59</td>\n",
       "      <td>348,077.97</td>\n",
       "      <td>348,449.77</td>\n",
       "      <td>345,905.89</td>\n",
       "      <td>344,245.29</td>\n",
       "      <td>346,359.88</td>\n",
       "    </tr>\n",
       "    <tr>\n",
       "      <th>3</th>\n",
       "      <td>남구</td>\n",
       "      <td>539,072.58</td>\n",
       "      <td>526,693.91</td>\n",
       "      <td>524,611.67</td>\n",
       "      <td>524,961.53</td>\n",
       "      <td>526,758.54</td>\n",
       "      <td>531,078.89</td>\n",
       "      <td>529,810.42</td>\n",
       "      <td>530,199.16</td>\n",
       "      <td>531,658.35</td>\n",
       "      <td>525,870.37</td>\n",
       "      <td>528,106.40</td>\n",
       "      <td>531,610.18</td>\n",
       "      <td>529,202.67</td>\n",
       "    </tr>\n",
       "    <tr>\n",
       "      <th>4</th>\n",
       "      <td>동구</td>\n",
       "      <td>185,466.33</td>\n",
       "      <td>185,459.30</td>\n",
       "      <td>189,082.61</td>\n",
       "      <td>192,702.25</td>\n",
       "      <td>189,819.14</td>\n",
       "      <td>191,618.73</td>\n",
       "      <td>189,864.16</td>\n",
       "      <td>189,368.74</td>\n",
       "      <td>190,328.67</td>\n",
       "      <td>191,182.03</td>\n",
       "      <td>194,732.77</td>\n",
       "      <td>193,341.86</td>\n",
       "      <td>190,247.22</td>\n",
       "    </tr>\n",
       "    <tr>\n",
       "      <th>5</th>\n",
       "      <td>동래구</td>\n",
       "      <td>553,655.76</td>\n",
       "      <td>549,718.60</td>\n",
       "      <td>543,091.96</td>\n",
       "      <td>535,439.53</td>\n",
       "      <td>533,908.61</td>\n",
       "      <td>528,124.07</td>\n",
       "      <td>527,730.64</td>\n",
       "      <td>525,468.79</td>\n",
       "      <td>532,656.70</td>\n",
       "      <td>527,498.20</td>\n",
       "      <td>520,126.56</td>\n",
       "      <td>524,788.88</td>\n",
       "      <td>533,517.36</td>\n",
       "    </tr>\n",
       "    <tr>\n",
       "      <th>6</th>\n",
       "      <td>부산진구</td>\n",
       "      <td>757,261.10</td>\n",
       "      <td>760,742.04</td>\n",
       "      <td>760,212.63</td>\n",
       "      <td>761,728.33</td>\n",
       "      <td>765,460.09</td>\n",
       "      <td>764,636.01</td>\n",
       "      <td>759,638.81</td>\n",
       "      <td>754,837.78</td>\n",
       "      <td>763,942.81</td>\n",
       "      <td>761,731.75</td>\n",
       "      <td>763,818.34</td>\n",
       "      <td>768,957.14</td>\n",
       "      <td>761,913.90</td>\n",
       "    </tr>\n",
       "    <tr>\n",
       "      <th>7</th>\n",
       "      <td>북구</td>\n",
       "      <td>559,133.62</td>\n",
       "      <td>554,946.17</td>\n",
       "      <td>543,084.57</td>\n",
       "      <td>543,479.25</td>\n",
       "      <td>543,145.91</td>\n",
       "      <td>540,381.96</td>\n",
       "      <td>542,289.98</td>\n",
       "      <td>546,905.11</td>\n",
       "      <td>551,394.74</td>\n",
       "      <td>542,887.88</td>\n",
       "      <td>539,732.97</td>\n",
       "      <td>545,952.52</td>\n",
       "      <td>546,111.22</td>\n",
       "    </tr>\n",
       "    <tr>\n",
       "      <th>8</th>\n",
       "      <td>사상구</td>\n",
       "      <td>496,102.34</td>\n",
       "      <td>492,871.78</td>\n",
       "      <td>493,054.71</td>\n",
       "      <td>496,932.63</td>\n",
       "      <td>494,094.59</td>\n",
       "      <td>494,207.66</td>\n",
       "      <td>492,973.61</td>\n",
       "      <td>490,296.85</td>\n",
       "      <td>493,842.47</td>\n",
       "      <td>491,808.21</td>\n",
       "      <td>493,815.86</td>\n",
       "      <td>495,297.44</td>\n",
       "      <td>493,774.85</td>\n",
       "    </tr>\n",
       "    <tr>\n",
       "      <th>9</th>\n",
       "      <td>사하구</td>\n",
       "      <td>641,541.35</td>\n",
       "      <td>632,045.91</td>\n",
       "      <td>628,461.73</td>\n",
       "      <td>633,805.98</td>\n",
       "      <td>630,333.83</td>\n",
       "      <td>629,635.14</td>\n",
       "      <td>630,260.69</td>\n",
       "      <td>631,377.03</td>\n",
       "      <td>633,402.47</td>\n",
       "      <td>627,551.97</td>\n",
       "      <td>625,380.25</td>\n",
       "      <td>631,475.21</td>\n",
       "      <td>631,272.63</td>\n",
       "    </tr>\n",
       "    <tr>\n",
       "      <th>10</th>\n",
       "      <td>서구</td>\n",
       "      <td>244,816.18</td>\n",
       "      <td>247,144.65</td>\n",
       "      <td>246,832.32</td>\n",
       "      <td>249,028.55</td>\n",
       "      <td>245,968.42</td>\n",
       "      <td>232,053.80</td>\n",
       "      <td>230,458.90</td>\n",
       "      <td>229,377.92</td>\n",
       "      <td>228,929.31</td>\n",
       "      <td>225,006.09</td>\n",
       "      <td>222,113.90</td>\n",
       "      <td>223,835.54</td>\n",
       "      <td>235,463.80</td>\n",
       "    </tr>\n",
       "    <tr>\n",
       "      <th>11</th>\n",
       "      <td>수영구</td>\n",
       "      <td>339,989.93</td>\n",
       "      <td>335,887.41</td>\n",
       "      <td>345,588.95</td>\n",
       "      <td>358,682.04</td>\n",
       "      <td>356,153.28</td>\n",
       "      <td>344,222.04</td>\n",
       "      <td>345,425.50</td>\n",
       "      <td>342,987.83</td>\n",
       "      <td>342,228.84</td>\n",
       "      <td>340,723.32</td>\n",
       "      <td>340,813.55</td>\n",
       "      <td>345,960.31</td>\n",
       "      <td>344,888.58</td>\n",
       "    </tr>\n",
       "    <tr>\n",
       "      <th>12</th>\n",
       "      <td>연제구</td>\n",
       "      <td>394,132.20</td>\n",
       "      <td>390,539.12</td>\n",
       "      <td>393,604.79</td>\n",
       "      <td>396,276.36</td>\n",
       "      <td>394,296.80</td>\n",
       "      <td>399,403.98</td>\n",
       "      <td>401,469.81</td>\n",
       "      <td>400,414.71</td>\n",
       "      <td>398,036.79</td>\n",
       "      <td>395,250.20</td>\n",
       "      <td>398,436.74</td>\n",
       "      <td>401,486.80</td>\n",
       "      <td>396,945.69</td>\n",
       "    </tr>\n",
       "    <tr>\n",
       "      <th>13</th>\n",
       "      <td>영도구</td>\n",
       "      <td>248,178.99</td>\n",
       "      <td>246,981.20</td>\n",
       "      <td>242,904.23</td>\n",
       "      <td>243,650.92</td>\n",
       "      <td>245,374.40</td>\n",
       "      <td>244,196.20</td>\n",
       "      <td>243,830.89</td>\n",
       "      <td>244,457.54</td>\n",
       "      <td>244,665.84</td>\n",
       "      <td>242,981.94</td>\n",
       "      <td>241,042.77</td>\n",
       "      <td>240,790.94</td>\n",
       "      <td>244,087.99</td>\n",
       "    </tr>\n",
       "    <tr>\n",
       "      <th>14</th>\n",
       "      <td>중구</td>\n",
       "      <td>105,170.15</td>\n",
       "      <td>106,603.51</td>\n",
       "      <td>110,729.44</td>\n",
       "      <td>110,668.93</td>\n",
       "      <td>113,610.04</td>\n",
       "      <td>128,260.41</td>\n",
       "      <td>127,285.37</td>\n",
       "      <td>124,056.84</td>\n",
       "      <td>127,550.96</td>\n",
       "      <td>131,073.84</td>\n",
       "      <td>135,646.63</td>\n",
       "      <td>134,834.02</td>\n",
       "      <td>121,290.85</td>\n",
       "    </tr>\n",
       "    <tr>\n",
       "      <th>15</th>\n",
       "      <td>해운대구</td>\n",
       "      <td>867,047.22</td>\n",
       "      <td>871,849.92</td>\n",
       "      <td>858,675.53</td>\n",
       "      <td>862,845.41</td>\n",
       "      <td>867,445.21</td>\n",
       "      <td>867,936.68</td>\n",
       "      <td>875,772.89</td>\n",
       "      <td>871,029.74</td>\n",
       "      <td>864,691.10</td>\n",
       "      <td>864,549.71</td>\n",
       "      <td>863,913.89</td>\n",
       "      <td>878,342.31</td>\n",
       "      <td>867,841.63</td>\n",
       "    </tr>\n",
       "  </tbody>\n",
       "</table>\n",
       "</div>"
      ],
      "text/plain": [
       "      구군          1월          2월          3월          4월          5월  \\\n",
       "0    강서구  325,284.39  323,049.87  335,120.06  340,570.52  332,289.77   \n",
       "1    금정구  482,598.89  477,047.11  484,669.59  490,864.46  487,435.45   \n",
       "2    기장군  341,181.17  343,398.79  342,489.52  345,184.20  348,793.68   \n",
       "3     남구  539,072.58  526,693.91  524,611.67  524,961.53  526,758.54   \n",
       "4     동구  185,466.33  185,459.30  189,082.61  192,702.25  189,819.14   \n",
       "5    동래구  553,655.76  549,718.60  543,091.96  535,439.53  533,908.61   \n",
       "6   부산진구  757,261.10  760,742.04  760,212.63  761,728.33  765,460.09   \n",
       "7     북구  559,133.62  554,946.17  543,084.57  543,479.25  543,145.91   \n",
       "8    사상구  496,102.34  492,871.78  493,054.71  496,932.63  494,094.59   \n",
       "9    사하구  641,541.35  632,045.91  628,461.73  633,805.98  630,333.83   \n",
       "10    서구  244,816.18  247,144.65  246,832.32  249,028.55  245,968.42   \n",
       "11   수영구  339,989.93  335,887.41  345,588.95  358,682.04  356,153.28   \n",
       "12   연제구  394,132.20  390,539.12  393,604.79  396,276.36  394,296.80   \n",
       "13   영도구  248,178.99  246,981.20  242,904.23  243,650.92  245,374.40   \n",
       "14    중구  105,170.15  106,603.51  110,729.44  110,668.93  113,610.04   \n",
       "15  해운대구  867,047.22  871,849.92  858,675.53  862,845.41  867,445.21   \n",
       "\n",
       "            6월          7월          8월          9월         10월         11월  \\\n",
       "0   340,678.45  337,488.64  328,374.74  328,764.38  333,414.26  340,405.10   \n",
       "1   484,936.00  483,898.58  482,964.23  487,082.06  484,633.90  485,502.59   \n",
       "2   348,500.32  350,763.40  349,328.59  348,077.97  348,449.77  345,905.89   \n",
       "3   531,078.89  529,810.42  530,199.16  531,658.35  525,870.37  528,106.40   \n",
       "4   191,618.73  189,864.16  189,368.74  190,328.67  191,182.03  194,732.77   \n",
       "5   528,124.07  527,730.64  525,468.79  532,656.70  527,498.20  520,126.56   \n",
       "6   764,636.01  759,638.81  754,837.78  763,942.81  761,731.75  763,818.34   \n",
       "7   540,381.96  542,289.98  546,905.11  551,394.74  542,887.88  539,732.97   \n",
       "8   494,207.66  492,973.61  490,296.85  493,842.47  491,808.21  493,815.86   \n",
       "9   629,635.14  630,260.69  631,377.03  633,402.47  627,551.97  625,380.25   \n",
       "10  232,053.80  230,458.90  229,377.92  228,929.31  225,006.09  222,113.90   \n",
       "11  344,222.04  345,425.50  342,987.83  342,228.84  340,723.32  340,813.55   \n",
       "12  399,403.98  401,469.81  400,414.71  398,036.79  395,250.20  398,436.74   \n",
       "13  244,196.20  243,830.89  244,457.54  244,665.84  242,981.94  241,042.77   \n",
       "14  128,260.41  127,285.37  124,056.84  127,550.96  131,073.84  135,646.63   \n",
       "15  867,936.68  875,772.89  871,029.74  864,691.10  864,549.71  863,913.89   \n",
       "\n",
       "           12월        월 평균  \n",
       "0   337,753.15  333,599.44  \n",
       "1   488,392.99  485,002.15  \n",
       "2   344,245.29  346,359.88  \n",
       "3   531,610.18  529,202.67  \n",
       "4   193,341.86  190,247.22  \n",
       "5   524,788.88  533,517.36  \n",
       "6   768,957.14  761,913.90  \n",
       "7   545,952.52  546,111.22  \n",
       "8   495,297.44  493,774.85  \n",
       "9   631,475.21  631,272.63  \n",
       "10  223,835.54  235,463.80  \n",
       "11  345,960.31  344,888.58  \n",
       "12  401,486.80  396,945.69  \n",
       "13  240,790.94  244,087.99  \n",
       "14  134,834.02  121,290.85  \n",
       "15  878,342.31  867,841.63  "
      ]
     },
     "execution_count": 28,
     "metadata": {},
     "output_type": "execute_result"
    }
   ],
   "source": [
    "foottraffic_file_path = 'C:\\\\Users\\\\SAMSUNG\\\\Desktop\\\\Green-Car-Charging-Station-Site-Selection\\\\Data\\\\부산 유동인구 데이터.csv'\n",
    "df_foottraffic = pd.read_csv(foottraffic_file_path, encoding='cp949')\n",
    "df_foottraffic"
   ]
  },
  {
   "cell_type": "code",
   "execution_count": 29,
   "metadata": {},
   "outputs": [],
   "source": [
    "foottraffic_col = df_foottraffic.iloc[:,1:-1].columns.tolist()"
   ]
  },
  {
   "cell_type": "code",
   "execution_count": 30,
   "metadata": {},
   "outputs": [
    {
     "data": {
      "text/html": [
       "<div>\n",
       "<style scoped>\n",
       "    .dataframe tbody tr th:only-of-type {\n",
       "        vertical-align: middle;\n",
       "    }\n",
       "\n",
       "    .dataframe tbody tr th {\n",
       "        vertical-align: top;\n",
       "    }\n",
       "\n",
       "    .dataframe thead th {\n",
       "        text-align: right;\n",
       "    }\n",
       "</style>\n",
       "<table border=\"1\" class=\"dataframe\">\n",
       "  <thead>\n",
       "    <tr style=\"text-align: right;\">\n",
       "      <th></th>\n",
       "      <th>월 평균</th>\n",
       "    </tr>\n",
       "    <tr>\n",
       "      <th>구군</th>\n",
       "      <th></th>\n",
       "    </tr>\n",
       "  </thead>\n",
       "  <tbody>\n",
       "    <tr>\n",
       "      <th>강서구</th>\n",
       "      <td>333,599.44</td>\n",
       "    </tr>\n",
       "    <tr>\n",
       "      <th>금정구</th>\n",
       "      <td>485,002.15</td>\n",
       "    </tr>\n",
       "    <tr>\n",
       "      <th>기장군</th>\n",
       "      <td>346,359.88</td>\n",
       "    </tr>\n",
       "    <tr>\n",
       "      <th>남구</th>\n",
       "      <td>529,202.67</td>\n",
       "    </tr>\n",
       "    <tr>\n",
       "      <th>동구</th>\n",
       "      <td>190,247.22</td>\n",
       "    </tr>\n",
       "    <tr>\n",
       "      <th>동래구</th>\n",
       "      <td>533,517.36</td>\n",
       "    </tr>\n",
       "    <tr>\n",
       "      <th>부산진구</th>\n",
       "      <td>761,913.90</td>\n",
       "    </tr>\n",
       "    <tr>\n",
       "      <th>북구</th>\n",
       "      <td>546,111.22</td>\n",
       "    </tr>\n",
       "    <tr>\n",
       "      <th>사상구</th>\n",
       "      <td>493,774.85</td>\n",
       "    </tr>\n",
       "    <tr>\n",
       "      <th>사하구</th>\n",
       "      <td>631,272.63</td>\n",
       "    </tr>\n",
       "    <tr>\n",
       "      <th>서구</th>\n",
       "      <td>235,463.80</td>\n",
       "    </tr>\n",
       "    <tr>\n",
       "      <th>수영구</th>\n",
       "      <td>344,888.58</td>\n",
       "    </tr>\n",
       "    <tr>\n",
       "      <th>연제구</th>\n",
       "      <td>396,945.69</td>\n",
       "    </tr>\n",
       "    <tr>\n",
       "      <th>영도구</th>\n",
       "      <td>244,087.99</td>\n",
       "    </tr>\n",
       "    <tr>\n",
       "      <th>중구</th>\n",
       "      <td>121,290.85</td>\n",
       "    </tr>\n",
       "    <tr>\n",
       "      <th>해운대구</th>\n",
       "      <td>867,841.63</td>\n",
       "    </tr>\n",
       "  </tbody>\n",
       "</table>\n",
       "</div>"
      ],
      "text/plain": [
       "            월 평균\n",
       "구군              \n",
       "강서구   333,599.44\n",
       "금정구   485,002.15\n",
       "기장군   346,359.88\n",
       "남구    529,202.67\n",
       "동구    190,247.22\n",
       "동래구   533,517.36\n",
       "부산진구  761,913.90\n",
       "북구    546,111.22\n",
       "사상구   493,774.85\n",
       "사하구   631,272.63\n",
       "서구    235,463.80\n",
       "수영구   344,888.58\n",
       "연제구   396,945.69\n",
       "영도구   244,087.99\n",
       "중구    121,290.85\n",
       "해운대구  867,841.63"
      ]
     },
     "execution_count": 30,
     "metadata": {},
     "output_type": "execute_result"
    }
   ],
   "source": [
    "df_foottraffic.drop(columns=foottraffic_col, inplace=True)\n",
    "df_foottraffic.set_index('구군',inplace=True)\n",
    "df_foottraffic"
   ]
  },
  {
   "cell_type": "code",
   "execution_count": 31,
   "metadata": {},
   "outputs": [],
   "source": [
    "advanced_replace(df_foottraffic, '월 평균','-',r'[^0-9.0-9]')\n",
    "df_foottraffic['월 평균'] = df_foottraffic['월 평균'].astype(float)"
   ]
  },
  {
   "cell_type": "code",
   "execution_count": 32,
   "metadata": {},
   "outputs": [],
   "source": [
    "density = []\n",
    "population = df_foottraffic['월 평균'].tolist()\n",
    "area = df_density['면적(km^2)'].tolist()\n",
    "list_p_a = list(zip(population,area))\n",
    "for x,y in list_p_a:\n",
    "    val = x/y\n",
    "    density.append(val)"
   ]
  },
  {
   "cell_type": "code",
   "execution_count": 33,
   "metadata": {},
   "outputs": [
    {
     "data": {
      "text/html": [
       "<div>\n",
       "<style scoped>\n",
       "    .dataframe tbody tr th:only-of-type {\n",
       "        vertical-align: middle;\n",
       "    }\n",
       "\n",
       "    .dataframe tbody tr th {\n",
       "        vertical-align: top;\n",
       "    }\n",
       "\n",
       "    .dataframe thead th {\n",
       "        text-align: right;\n",
       "    }\n",
       "</style>\n",
       "<table border=\"1\" class=\"dataframe\">\n",
       "  <thead>\n",
       "    <tr style=\"text-align: right;\">\n",
       "      <th></th>\n",
       "      <th>월 평균</th>\n",
       "      <th>유동인구밀도(km2당)</th>\n",
       "    </tr>\n",
       "    <tr>\n",
       "      <th>구군</th>\n",
       "      <th></th>\n",
       "      <th></th>\n",
       "    </tr>\n",
       "  </thead>\n",
       "  <tbody>\n",
       "    <tr>\n",
       "      <th>강서구</th>\n",
       "      <td>333599.44</td>\n",
       "      <td>1.717814e+04</td>\n",
       "    </tr>\n",
       "    <tr>\n",
       "      <th>금정구</th>\n",
       "      <td>485002.15</td>\n",
       "      <td>3.442173e+04</td>\n",
       "    </tr>\n",
       "    <tr>\n",
       "      <th>기장군</th>\n",
       "      <td>346359.88</td>\n",
       "      <td>2.123604e+04</td>\n",
       "    </tr>\n",
       "    <tr>\n",
       "      <th>남구</th>\n",
       "      <td>529202.67</td>\n",
       "      <td>8.980191e+03</td>\n",
       "    </tr>\n",
       "    <tr>\n",
       "      <th>동구</th>\n",
       "      <td>190247.22</td>\n",
       "      <td>1.392732e+04</td>\n",
       "    </tr>\n",
       "    <tr>\n",
       "      <th>동래구</th>\n",
       "      <td>533517.36</td>\n",
       "      <td>1.967973e+04</td>\n",
       "    </tr>\n",
       "    <tr>\n",
       "      <th>부산진구</th>\n",
       "      <td>761913.90</td>\n",
       "      <td>6.144467e+04</td>\n",
       "    </tr>\n",
       "    <tr>\n",
       "      <th>북구</th>\n",
       "      <td>546111.22</td>\n",
       "      <td>1.680342e+05</td>\n",
       "    </tr>\n",
       "    <tr>\n",
       "      <th>사상구</th>\n",
       "      <td>493774.85</td>\n",
       "      <td>4.614718e+05</td>\n",
       "    </tr>\n",
       "    <tr>\n",
       "      <th>사하구</th>\n",
       "      <td>631272.63</td>\n",
       "      <td>6.787878e+05</td>\n",
       "    </tr>\n",
       "    <tr>\n",
       "      <th>서구</th>\n",
       "      <td>235463.80</td>\n",
       "      <td>6.262335e+04</td>\n",
       "    </tr>\n",
       "    <tr>\n",
       "      <th>수영구</th>\n",
       "      <td>344888.58</td>\n",
       "      <td>4.926980e+06</td>\n",
       "    </tr>\n",
       "    <tr>\n",
       "      <th>연제구</th>\n",
       "      <td>396945.69</td>\n",
       "      <td>2.145652e+05</td>\n",
       "    </tr>\n",
       "    <tr>\n",
       "      <th>영도구</th>\n",
       "      <td>244087.99</td>\n",
       "      <td>6.596973e+05</td>\n",
       "    </tr>\n",
       "    <tr>\n",
       "      <th>중구</th>\n",
       "      <td>121290.85</td>\n",
       "      <td>1.810311e+05</td>\n",
       "    </tr>\n",
       "    <tr>\n",
       "      <th>해운대구</th>\n",
       "      <td>867841.63</td>\n",
       "      <td>4.036473e+05</td>\n",
       "    </tr>\n",
       "  </tbody>\n",
       "</table>\n",
       "</div>"
      ],
      "text/plain": [
       "           월 평균  유동인구밀도(km2당)\n",
       "구군                           \n",
       "강서구   333599.44  1.717814e+04\n",
       "금정구   485002.15  3.442173e+04\n",
       "기장군   346359.88  2.123604e+04\n",
       "남구    529202.67  8.980191e+03\n",
       "동구    190247.22  1.392732e+04\n",
       "동래구   533517.36  1.967973e+04\n",
       "부산진구  761913.90  6.144467e+04\n",
       "북구    546111.22  1.680342e+05\n",
       "사상구   493774.85  4.614718e+05\n",
       "사하구   631272.63  6.787878e+05\n",
       "서구    235463.80  6.262335e+04\n",
       "수영구   344888.58  4.926980e+06\n",
       "연제구   396945.69  2.145652e+05\n",
       "영도구   244087.99  6.596973e+05\n",
       "중구    121290.85  1.810311e+05\n",
       "해운대구  867841.63  4.036473e+05"
      ]
     },
     "execution_count": 33,
     "metadata": {},
     "output_type": "execute_result"
    }
   ],
   "source": [
    "df_foottraffic.insert(1,'유동인구밀도(km2당)',density)\n",
    "df_foottraffic"
   ]
  },
  {
   "cell_type": "code",
   "execution_count": 34,
   "metadata": {},
   "outputs": [
    {
     "data": {
      "application/vnd.plotly.v1+json": {
       "config": {
        "plotlyServerURL": "https://plot.ly"
       },
       "data": [
        {
         "fill": "tozeroy",
         "line": {
          "color": "rgb(239,85,59)"
         },
         "name": "부적합",
         "type": "scatter",
         "x": [
          -83854.6885088947,
          -78967.26741284526,
          -74079.84631679583,
          -69192.42522074637,
          -64305.004124696934,
          -59417.583028647496,
          -54530.16193259806,
          -49642.74083654861,
          -44755.31974049917,
          -39867.898644449735,
          -34980.47754840029,
          -30093.05645235085,
          -25205.635356301413,
          -20318.214260251967,
          -15430.793164202521,
          -10543.372068153083,
          -5655.950972103645,
          -768.5298760542064,
          4118.891219995232,
          9006.312316044685,
          13893.733412094123,
          18781.15450814356,
          23668.575604193,
          28555.99670024244,
          33443.41779629188,
          38330.83889234133,
          43218.25998839077,
          48105.681084440206,
          52993.10218048966,
          57880.52327653908,
          62767.944372588536,
          67655.36546863796,
          72542.78656468741,
          77430.20766073687,
          82317.62875678629,
          87205.04985283574,
          92092.47094888517,
          96979.89204493462,
          101867.31314098407,
          106754.7342370335,
          111642.15533308295,
          116529.57642913237,
          121416.99752518183,
          126304.41862123128,
          131191.8397172807,
          136079.26081333015,
          140966.68190937958,
          145854.10300542903,
          150741.52410147846,
          155628.9451975279,
          160516.36629357736,
          165403.78738962678,
          170291.20848567624,
          175178.62958172566,
          180066.0506777751,
          184953.47177382454,
          189840.89286987402,
          194728.31396592344,
          199615.73506197287,
          204503.15615802235,
          209390.57725407177,
          214277.9983501212,
          219165.41944617062,
          224052.8405422201,
          228940.26163826953,
          233827.68273431895,
          238715.10383036843,
          243602.52492641786,
          248489.94602246728,
          253377.3671185167,
          258264.7882145662,
          263152.2093106156,
          268039.63040666503,
          272927.0515027145,
          277814.47259876394,
          282701.89369481336,
          287589.31479086285,
          292476.73588691227,
          297364.1569829617,
          302251.5780790111,
          307138.9991750606,
          312026.42027111,
          316913.84136715945,
          321801.2624632089,
          326688.68355925835,
          331576.1046553078,
          336463.52575135726,
          341350.9468474067,
          346238.3679434561,
          351125.78903950553,
          356013.210135555,
          360900.63123160444,
          365788.05232765386,
          370675.47342370334,
          375562.89451975276,
          380450.3156158022,
          385337.7367118516,
          390225.1578079011,
          395112.5789039505,
          400000
         ],
         "y": [
          7.33846034047919e-8,
          7.797773711058066e-8,
          8.281133821800981e-8,
          8.789465709309427e-8,
          9.323707658321982e-8,
          9.884809820750404e-8,
          1.0473732715704012e-7,
          1.1091445608529414e-7,
          1.1738924767267913e-7,
          1.2417151595338558e-7,
          1.3127110639689986e-7,
          1.3869787474128727e-7,
          1.4646166458024002e-7,
          1.545722837111034e-7,
          1.6303947925655008e-7,
          1.7187291157830032e-7,
          1.8108212700723122e-7,
          1.9067652942038798e-7,
          2.0066535070177646e-7,
          2.11057620130346e-7,
          2.2186213274526473e-7,
          2.330874167453854e-7,
          2.447416999867035e-7,
          2.5683287564855984e-7,
          2.693684671463307e-7,
          2.82355592375315e-7,
          2.9580092737746394e-7,
          3.0971066952944385e-7,
          3.240905003572423e-7,
          3.389455480890854e-7,
          3.542803500647942e-7,
          3.7009881512578805e-7,
          3.864041861157766e-7,
          4.031990026276308e-7,
          4.2048506413701935e-7,
          4.3826339366806736e-7,
          4.565342021404798e-7,
          4.752968535512614e-7,
          4.945498311473047e-7,
          5.1429070474765e-7,
          5.345160993761404e-7,
          5.552216653664481e-7,
          5.764020501019775e-7,
          5.980508715529937e-7,
          6.201606937723695e-7,
          6.427230045096195e-7,
          6.657281951003783e-7,
          6.891655427851202e-7,
          7.130231956067326e-7,
          7.37288160031551e-7,
          7.619462914325613e-7,
          7.869822875667844e-7,
          8.123796851712765e-7,
          8.381208597937938e-7,
          8.641870289649632e-7,
          8.90558258808796e-7,
          9.172134741776032e-7,
          9.441304723858683e-7,
          9.712859406054216e-7,
          9.986554769713775e-7,
          0.0000010262136154348267,
          0.0000010539338543842207,
          0.000001081788689042834,
          0.0000011097496476347078,
          0.0000011377873312960812,
          0.000001165871457693669,
          0.0000011939709082951906,
          0.0000012220537792214958,
          0.0000012500874355934738,
          0.0000012780385692707557,
          0.0000013058732598631564,
          0.0000013335570388798875,
          0.0000013610549568659237,
          0.0000013883316533595833,
          0.000001415351429490499,
          0.0000014420783230228002,
          0.0000014684761856345258,
          0.000001494508762211214,
          0.0000015201397719192908,
          0.0000015453329908133656,
          0.000001570052335720998,
          0.0000015942619491388934,
          0.0000016179262848659578,
          0.0000016410101940912286,
          0.0000016634790116484355,
          0.0000016852986421439369,
          0.0000017064356456610043,
          0.0000017268573227409708,
          0.000001746531798340646,
          0.0000017654281044656216,
          0.0000017835162611807127,
          0.0000018007673557017687,
          0.0000018171536192774591,
          0.0000018326485015754004,
          0.0000018472267422940971,
          0.0000018608644397306253,
          0.0000018735391160437515,
          0.000001885229778963199,
          0.0000018959169797080378,
          0.0000019055828668905936
         ]
        },
        {
         "fill": "tozeroy",
         "line": {
          "color": "rgb(100,110,250)"
         },
         "name": "적합",
         "type": "scatter",
         "x": [
          400000,
          404725.67303030303,
          409451.34606060607,
          414177.0190909091,
          418902.69212121214,
          423628.3651515152,
          428354.0381818182,
          433079.7112121212,
          437805.3842424242,
          442531.05727272725,
          447256.7303030303,
          451982.4033333333,
          456708.07636363636,
          461433.7493939394,
          466159.4224242424,
          470885.09545454546,
          475610.7684848485,
          480336.4415151515,
          485062.1145454545,
          489787.7875757576,
          494513.4606060606,
          499239.1336363636,
          503964.80666666664,
          508690.4796969697,
          513416.1527272727,
          518141.82575757575,
          522867.4987878788,
          527593.1718181819,
          532318.8448484848,
          537044.5178787878,
          541770.1909090909,
          546495.8639393939,
          551221.536969697,
          555947.21,
          560672.883030303,
          565398.556060606,
          570124.229090909,
          574849.9021212121,
          579575.5751515152,
          584301.2481818182,
          589026.9212121211,
          593752.5942424242,
          598478.2672727272,
          603203.9403030303,
          607929.6133333333,
          612655.2863636364,
          617380.9593939394,
          622106.6324242424,
          626832.3054545454,
          631557.9784848485,
          636283.6515151515,
          641009.3245454545,
          645734.9975757576,
          650460.6706060607,
          655186.3436363636,
          659912.0166666666,
          664637.6896969697,
          669363.3627272728,
          674089.0357575756,
          678814.7087878787,
          683540.3818181818,
          688266.0548484848,
          692991.7278787878,
          697717.4009090909,
          702443.073939394,
          707168.746969697,
          711894.4199999999,
          716620.093030303,
          721345.7660606061,
          726071.4390909091,
          730797.1121212121,
          735522.7851515152,
          740248.4581818181,
          744974.1312121211,
          749699.8042424242,
          754425.4772727273,
          759151.1503030303,
          763876.8233333332,
          768602.4963636363,
          773328.1693939394,
          778053.8424242424,
          782779.5154545454,
          787505.1884848485,
          792230.8615151516,
          796956.5345454544,
          801682.2075757575,
          806407.8806060606,
          811133.5536363636,
          815859.2266666666,
          820584.8996969697,
          825310.5727272728,
          830036.2457575757,
          834761.9187878787,
          839487.5918181818,
          844213.2648484849,
          848938.9378787879,
          853664.6109090908,
          858390.2839393939,
          863115.9569696969,
          867841.63
         ],
         "y": [
          0.0000019055828668905936,
          0.000001913942439231443,
          0.0000019213188773335996,
          0.0000019277005506153053,
          0.0000019330773727182177,
          0.0000019374408280717002,
          0.000001940783994366289,
          0.000001943101560853303,
          0.0000019443898424028922,
          0.0000019446467892684317,
          0.000001943871992521044,
          0.0000019420666851340863,
          0.0000019392337387135755,
          0.0000019353776558866814,
          0.0000019305045583765373,
          0.00000192462217080757,
          0.000001917739800301323,
          0.0000019098683119382093,
          0.0000019010201001757536,
          0.0000018912090563285624,
          0.000001880450532229454,
          0.0000018687613002047916,
          0.000001856159509510078,
          0.0000018426646393841624,
          0.0000018282974488919998,
          0.0000018130799237366681,
          0.0000017970352202313111,
          0.0000017801876066307237,
          0.0000017625624020304666,
          0.0000017441859130485835,
          0.0000017250853685112501,
          0.0000017052888523689091,
          0.0000016848252350736803,
          0.000001663724103652064,
          0.0000016420156907091267,
          0.0000016197308026015531,
          0.0000015969007470170783,
          0.0000015735572601969977,
          0.000001549732434036595,
          0.000001525458643295538,
          0.0000015007684731465572,
          0.00000147569464728609,
          0.0000014502699568250374,
          0.0000014245271901714478,
          0.000001398499064109818,
          0.0000013722181562737977,
          0.0000013457168392005472,
          0.0000013190272161457647,
          0.00000129218105882863,
          0.0000012652097472655676,
          0.0000012381442118409746,
          0.000001211014877751834,
          0.0000011838516119516143,
          0.0000011566836727070154,
          0.0000011295396618690737,
          0.0000011024474799479177,
          0.0000010754342840681721,
          0.0000010485264488696297,
          0.0000010217495304054819,
          9.95128233078146e-7,
          9.68686379640609e-7,
          9.424468842792317e-7,
          9.164317287822923e-7,
          8.906619417871268e-7,
          8.651575810876168e-7,
          8.399377189731025e-7,
          8.150204305594788e-7,
          7.904227850634296e-7,
          7.661608399613715e-7,
          7.422496379658713e-7,
          7.187032067439949e-7,
          6.9553456129434e-7,
          6.727557088923433e-7,
          6.503776565069255e-7,
          6.284104205856182e-7,
          6.068630390999915e-7,
          5.857435857385326e-7,
          5.650591861300653e-7,
          5.448160359773729e-7,
          5.250194209778707e-7,
          5.056737384059752e-7,
          4.867825202302161e-7,
          4.683484576371287e-7,
          4.503734268335095e-7,
          4.3285851599873034e-7,
          4.158040532594361e-7,
          3.9920963556011704e-7,
          3.830741583046311e-7,
          3.6739584564587674e-7,
          3.5217228130330145e-7,
          3.374004397908521e-7,
          3.2307671794124896e-7,
          3.091969666160916e-7,
          2.9575652249523087e-7,
          2.827502398430522e-7,
          2.701725221537627e-7,
          2.580173535824523e-7,
          2.462783300735446e-7,
          2.3494869010326812e-7,
          2.240213449578902e-7
         ]
        }
       ],
       "layout": {
        "annotations": [
         {
          "bordercolor": "rgb(239,85,59)",
          "borderwidth": 2,
          "font": {
           "color": "rgb(239,85,59)",
           "size": 15
          },
          "showarrow": false,
          "text": "0.415",
          "x": 400000,
          "xshift": -40,
          "y": 0.0000019055828668905936,
          "yshift": -100
         },
         {
          "bordercolor": "rgb(100,110,250)",
          "borderwidth": 2,
          "font": {
           "color": "rgb(100,110,250)",
           "size": 15
          },
          "showarrow": false,
          "text": "0.585",
          "x": 400000,
          "xshift": 40,
          "y": 0.0000019055828668905936,
          "yshift": -100
         }
        ],
        "template": {
         "data": {
          "bar": [
           {
            "error_x": {
             "color": "#2a3f5f"
            },
            "error_y": {
             "color": "#2a3f5f"
            },
            "marker": {
             "line": {
              "color": "#E5ECF6",
              "width": 0.5
             },
             "pattern": {
              "fillmode": "overlay",
              "size": 10,
              "solidity": 0.2
             }
            },
            "type": "bar"
           }
          ],
          "barpolar": [
           {
            "marker": {
             "line": {
              "color": "#E5ECF6",
              "width": 0.5
             },
             "pattern": {
              "fillmode": "overlay",
              "size": 10,
              "solidity": 0.2
             }
            },
            "type": "barpolar"
           }
          ],
          "carpet": [
           {
            "aaxis": {
             "endlinecolor": "#2a3f5f",
             "gridcolor": "white",
             "linecolor": "white",
             "minorgridcolor": "white",
             "startlinecolor": "#2a3f5f"
            },
            "baxis": {
             "endlinecolor": "#2a3f5f",
             "gridcolor": "white",
             "linecolor": "white",
             "minorgridcolor": "white",
             "startlinecolor": "#2a3f5f"
            },
            "type": "carpet"
           }
          ],
          "choropleth": [
           {
            "colorbar": {
             "outlinewidth": 0,
             "ticks": ""
            },
            "type": "choropleth"
           }
          ],
          "contour": [
           {
            "colorbar": {
             "outlinewidth": 0,
             "ticks": ""
            },
            "colorscale": [
             [
              0,
              "#0d0887"
             ],
             [
              0.1111111111111111,
              "#46039f"
             ],
             [
              0.2222222222222222,
              "#7201a8"
             ],
             [
              0.3333333333333333,
              "#9c179e"
             ],
             [
              0.4444444444444444,
              "#bd3786"
             ],
             [
              0.5555555555555556,
              "#d8576b"
             ],
             [
              0.6666666666666666,
              "#ed7953"
             ],
             [
              0.7777777777777778,
              "#fb9f3a"
             ],
             [
              0.8888888888888888,
              "#fdca26"
             ],
             [
              1,
              "#f0f921"
             ]
            ],
            "type": "contour"
           }
          ],
          "contourcarpet": [
           {
            "colorbar": {
             "outlinewidth": 0,
             "ticks": ""
            },
            "type": "contourcarpet"
           }
          ],
          "heatmap": [
           {
            "colorbar": {
             "outlinewidth": 0,
             "ticks": ""
            },
            "colorscale": [
             [
              0,
              "#0d0887"
             ],
             [
              0.1111111111111111,
              "#46039f"
             ],
             [
              0.2222222222222222,
              "#7201a8"
             ],
             [
              0.3333333333333333,
              "#9c179e"
             ],
             [
              0.4444444444444444,
              "#bd3786"
             ],
             [
              0.5555555555555556,
              "#d8576b"
             ],
             [
              0.6666666666666666,
              "#ed7953"
             ],
             [
              0.7777777777777778,
              "#fb9f3a"
             ],
             [
              0.8888888888888888,
              "#fdca26"
             ],
             [
              1,
              "#f0f921"
             ]
            ],
            "type": "heatmap"
           }
          ],
          "heatmapgl": [
           {
            "colorbar": {
             "outlinewidth": 0,
             "ticks": ""
            },
            "colorscale": [
             [
              0,
              "#0d0887"
             ],
             [
              0.1111111111111111,
              "#46039f"
             ],
             [
              0.2222222222222222,
              "#7201a8"
             ],
             [
              0.3333333333333333,
              "#9c179e"
             ],
             [
              0.4444444444444444,
              "#bd3786"
             ],
             [
              0.5555555555555556,
              "#d8576b"
             ],
             [
              0.6666666666666666,
              "#ed7953"
             ],
             [
              0.7777777777777778,
              "#fb9f3a"
             ],
             [
              0.8888888888888888,
              "#fdca26"
             ],
             [
              1,
              "#f0f921"
             ]
            ],
            "type": "heatmapgl"
           }
          ],
          "histogram": [
           {
            "marker": {
             "pattern": {
              "fillmode": "overlay",
              "size": 10,
              "solidity": 0.2
             }
            },
            "type": "histogram"
           }
          ],
          "histogram2d": [
           {
            "colorbar": {
             "outlinewidth": 0,
             "ticks": ""
            },
            "colorscale": [
             [
              0,
              "#0d0887"
             ],
             [
              0.1111111111111111,
              "#46039f"
             ],
             [
              0.2222222222222222,
              "#7201a8"
             ],
             [
              0.3333333333333333,
              "#9c179e"
             ],
             [
              0.4444444444444444,
              "#bd3786"
             ],
             [
              0.5555555555555556,
              "#d8576b"
             ],
             [
              0.6666666666666666,
              "#ed7953"
             ],
             [
              0.7777777777777778,
              "#fb9f3a"
             ],
             [
              0.8888888888888888,
              "#fdca26"
             ],
             [
              1,
              "#f0f921"
             ]
            ],
            "type": "histogram2d"
           }
          ],
          "histogram2dcontour": [
           {
            "colorbar": {
             "outlinewidth": 0,
             "ticks": ""
            },
            "colorscale": [
             [
              0,
              "#0d0887"
             ],
             [
              0.1111111111111111,
              "#46039f"
             ],
             [
              0.2222222222222222,
              "#7201a8"
             ],
             [
              0.3333333333333333,
              "#9c179e"
             ],
             [
              0.4444444444444444,
              "#bd3786"
             ],
             [
              0.5555555555555556,
              "#d8576b"
             ],
             [
              0.6666666666666666,
              "#ed7953"
             ],
             [
              0.7777777777777778,
              "#fb9f3a"
             ],
             [
              0.8888888888888888,
              "#fdca26"
             ],
             [
              1,
              "#f0f921"
             ]
            ],
            "type": "histogram2dcontour"
           }
          ],
          "mesh3d": [
           {
            "colorbar": {
             "outlinewidth": 0,
             "ticks": ""
            },
            "type": "mesh3d"
           }
          ],
          "parcoords": [
           {
            "line": {
             "colorbar": {
              "outlinewidth": 0,
              "ticks": ""
             }
            },
            "type": "parcoords"
           }
          ],
          "pie": [
           {
            "automargin": true,
            "type": "pie"
           }
          ],
          "scatter": [
           {
            "marker": {
             "colorbar": {
              "outlinewidth": 0,
              "ticks": ""
             }
            },
            "type": "scatter"
           }
          ],
          "scatter3d": [
           {
            "line": {
             "colorbar": {
              "outlinewidth": 0,
              "ticks": ""
             }
            },
            "marker": {
             "colorbar": {
              "outlinewidth": 0,
              "ticks": ""
             }
            },
            "type": "scatter3d"
           }
          ],
          "scattercarpet": [
           {
            "marker": {
             "colorbar": {
              "outlinewidth": 0,
              "ticks": ""
             }
            },
            "type": "scattercarpet"
           }
          ],
          "scattergeo": [
           {
            "marker": {
             "colorbar": {
              "outlinewidth": 0,
              "ticks": ""
             }
            },
            "type": "scattergeo"
           }
          ],
          "scattergl": [
           {
            "marker": {
             "colorbar": {
              "outlinewidth": 0,
              "ticks": ""
             }
            },
            "type": "scattergl"
           }
          ],
          "scattermapbox": [
           {
            "marker": {
             "colorbar": {
              "outlinewidth": 0,
              "ticks": ""
             }
            },
            "type": "scattermapbox"
           }
          ],
          "scatterpolar": [
           {
            "marker": {
             "colorbar": {
              "outlinewidth": 0,
              "ticks": ""
             }
            },
            "type": "scatterpolar"
           }
          ],
          "scatterpolargl": [
           {
            "marker": {
             "colorbar": {
              "outlinewidth": 0,
              "ticks": ""
             }
            },
            "type": "scatterpolargl"
           }
          ],
          "scatterternary": [
           {
            "marker": {
             "colorbar": {
              "outlinewidth": 0,
              "ticks": ""
             }
            },
            "type": "scatterternary"
           }
          ],
          "surface": [
           {
            "colorbar": {
             "outlinewidth": 0,
             "ticks": ""
            },
            "colorscale": [
             [
              0,
              "#0d0887"
             ],
             [
              0.1111111111111111,
              "#46039f"
             ],
             [
              0.2222222222222222,
              "#7201a8"
             ],
             [
              0.3333333333333333,
              "#9c179e"
             ],
             [
              0.4444444444444444,
              "#bd3786"
             ],
             [
              0.5555555555555556,
              "#d8576b"
             ],
             [
              0.6666666666666666,
              "#ed7953"
             ],
             [
              0.7777777777777778,
              "#fb9f3a"
             ],
             [
              0.8888888888888888,
              "#fdca26"
             ],
             [
              1,
              "#f0f921"
             ]
            ],
            "type": "surface"
           }
          ],
          "table": [
           {
            "cells": {
             "fill": {
              "color": "#EBF0F8"
             },
             "line": {
              "color": "white"
             }
            },
            "header": {
             "fill": {
              "color": "#C8D4E3"
             },
             "line": {
              "color": "white"
             }
            },
            "type": "table"
           }
          ]
         },
         "layout": {
          "annotationdefaults": {
           "arrowcolor": "#2a3f5f",
           "arrowhead": 0,
           "arrowwidth": 1
          },
          "autotypenumbers": "strict",
          "coloraxis": {
           "colorbar": {
            "outlinewidth": 0,
            "ticks": ""
           }
          },
          "colorscale": {
           "diverging": [
            [
             0,
             "#8e0152"
            ],
            [
             0.1,
             "#c51b7d"
            ],
            [
             0.2,
             "#de77ae"
            ],
            [
             0.3,
             "#f1b6da"
            ],
            [
             0.4,
             "#fde0ef"
            ],
            [
             0.5,
             "#f7f7f7"
            ],
            [
             0.6,
             "#e6f5d0"
            ],
            [
             0.7,
             "#b8e186"
            ],
            [
             0.8,
             "#7fbc41"
            ],
            [
             0.9,
             "#4d9221"
            ],
            [
             1,
             "#276419"
            ]
           ],
           "sequential": [
            [
             0,
             "#0d0887"
            ],
            [
             0.1111111111111111,
             "#46039f"
            ],
            [
             0.2222222222222222,
             "#7201a8"
            ],
            [
             0.3333333333333333,
             "#9c179e"
            ],
            [
             0.4444444444444444,
             "#bd3786"
            ],
            [
             0.5555555555555556,
             "#d8576b"
            ],
            [
             0.6666666666666666,
             "#ed7953"
            ],
            [
             0.7777777777777778,
             "#fb9f3a"
            ],
            [
             0.8888888888888888,
             "#fdca26"
            ],
            [
             1,
             "#f0f921"
            ]
           ],
           "sequentialminus": [
            [
             0,
             "#0d0887"
            ],
            [
             0.1111111111111111,
             "#46039f"
            ],
            [
             0.2222222222222222,
             "#7201a8"
            ],
            [
             0.3333333333333333,
             "#9c179e"
            ],
            [
             0.4444444444444444,
             "#bd3786"
            ],
            [
             0.5555555555555556,
             "#d8576b"
            ],
            [
             0.6666666666666666,
             "#ed7953"
            ],
            [
             0.7777777777777778,
             "#fb9f3a"
            ],
            [
             0.8888888888888888,
             "#fdca26"
            ],
            [
             1,
             "#f0f921"
            ]
           ]
          },
          "colorway": [
           "#636efa",
           "#EF553B",
           "#00cc96",
           "#ab63fa",
           "#FFA15A",
           "#19d3f3",
           "#FF6692",
           "#B6E880",
           "#FF97FF",
           "#FECB52"
          ],
          "font": {
           "color": "#2a3f5f"
          },
          "geo": {
           "bgcolor": "white",
           "lakecolor": "white",
           "landcolor": "#E5ECF6",
           "showlakes": true,
           "showland": true,
           "subunitcolor": "white"
          },
          "hoverlabel": {
           "align": "left"
          },
          "hovermode": "closest",
          "mapbox": {
           "style": "light"
          },
          "paper_bgcolor": "white",
          "plot_bgcolor": "#E5ECF6",
          "polar": {
           "angularaxis": {
            "gridcolor": "white",
            "linecolor": "white",
            "ticks": ""
           },
           "bgcolor": "#E5ECF6",
           "radialaxis": {
            "gridcolor": "white",
            "linecolor": "white",
            "ticks": ""
           }
          },
          "scene": {
           "xaxis": {
            "backgroundcolor": "#E5ECF6",
            "gridcolor": "white",
            "gridwidth": 2,
            "linecolor": "white",
            "showbackground": true,
            "ticks": "",
            "zerolinecolor": "white"
           },
           "yaxis": {
            "backgroundcolor": "#E5ECF6",
            "gridcolor": "white",
            "gridwidth": 2,
            "linecolor": "white",
            "showbackground": true,
            "ticks": "",
            "zerolinecolor": "white"
           },
           "zaxis": {
            "backgroundcolor": "#E5ECF6",
            "gridcolor": "white",
            "gridwidth": 2,
            "linecolor": "white",
            "showbackground": true,
            "ticks": "",
            "zerolinecolor": "white"
           }
          },
          "shapedefaults": {
           "line": {
            "color": "#2a3f5f"
           }
          },
          "ternary": {
           "aaxis": {
            "gridcolor": "white",
            "linecolor": "white",
            "ticks": ""
           },
           "baxis": {
            "gridcolor": "white",
            "linecolor": "white",
            "ticks": ""
           },
           "bgcolor": "#E5ECF6",
           "caxis": {
            "gridcolor": "white",
            "linecolor": "white",
            "ticks": ""
           }
          },
          "title": {
           "x": 0.05
          },
          "xaxis": {
           "automargin": true,
           "gridcolor": "white",
           "linecolor": "white",
           "ticks": "",
           "title": {
            "standoff": 15
           },
           "zerolinecolor": "white",
           "zerolinewidth": 2
          },
          "yaxis": {
           "automargin": true,
           "gridcolor": "white",
           "linecolor": "white",
           "ticks": "",
           "title": {
            "standoff": 15
           },
           "zerolinecolor": "white",
           "zerolinewidth": 2
          }
         }
        },
        "yaxis": {
         "visible": false
        }
       }
      }
     },
     "metadata": {},
     "output_type": "display_data"
    },
    {
     "data": {
      "text/plain": [
       "0.5848617448890694"
      ]
     },
     "execution_count": 34,
     "metadata": {},
     "output_type": "execute_result"
    }
   ],
   "source": [
    "floating_pro,floating_pro_negative = cal_norm(df_foottraffic['월 평균'].mean(),\n",
    "                                              df_foottraffic['월 평균'].std(),\n",
    "                                              df_foottraffic['월 평균'].min(),          \n",
    "                                              df_foottraffic['월 평균'].max(),  \n",
    "                                              floating_density_standard,\n",
    "                                              False)\n",
    "floating_pro"
   ]
  },
  {
   "cell_type": "markdown",
   "metadata": {},
   "source": [
    "### 친환경차 등록대수"
   ]
  },
  {
   "cell_type": "code",
   "execution_count": 35,
   "metadata": {},
   "outputs": [
    {
     "data": {
      "text/html": [
       "<div>\n",
       "<style scoped>\n",
       "    .dataframe tbody tr th:only-of-type {\n",
       "        vertical-align: middle;\n",
       "    }\n",
       "\n",
       "    .dataframe tbody tr th {\n",
       "        vertical-align: top;\n",
       "    }\n",
       "\n",
       "    .dataframe thead th {\n",
       "        text-align: right;\n",
       "    }\n",
       "</style>\n",
       "<table border=\"1\" class=\"dataframe\">\n",
       "  <thead>\n",
       "    <tr style=\"text-align: right;\">\n",
       "      <th></th>\n",
       "      <th>시도</th>\n",
       "      <th>시군구</th>\n",
       "      <th>읍면동</th>\n",
       "      <th>수소</th>\n",
       "      <th>전기</th>\n",
       "    </tr>\n",
       "  </thead>\n",
       "  <tbody>\n",
       "    <tr>\n",
       "      <th>0</th>\n",
       "      <td>부산광역시</td>\n",
       "      <td>강서구</td>\n",
       "      <td>강동동</td>\n",
       "      <td>6</td>\n",
       "      <td>71</td>\n",
       "    </tr>\n",
       "    <tr>\n",
       "      <th>1</th>\n",
       "      <td>부산광역시</td>\n",
       "      <td>강서구</td>\n",
       "      <td>구랑동</td>\n",
       "      <td>2</td>\n",
       "      <td>35</td>\n",
       "    </tr>\n",
       "    <tr>\n",
       "      <th>2</th>\n",
       "      <td>부산광역시</td>\n",
       "      <td>강서구</td>\n",
       "      <td>녹산동</td>\n",
       "      <td>2</td>\n",
       "      <td>32</td>\n",
       "    </tr>\n",
       "    <tr>\n",
       "      <th>3</th>\n",
       "      <td>부산광역시</td>\n",
       "      <td>강서구</td>\n",
       "      <td>눌차동</td>\n",
       "      <td>0</td>\n",
       "      <td>15</td>\n",
       "    </tr>\n",
       "    <tr>\n",
       "      <th>4</th>\n",
       "      <td>부산광역시</td>\n",
       "      <td>강서구</td>\n",
       "      <td>대저1동</td>\n",
       "      <td>4</td>\n",
       "      <td>290</td>\n",
       "    </tr>\n",
       "    <tr>\n",
       "      <th>...</th>\n",
       "      <td>...</td>\n",
       "      <td>...</td>\n",
       "      <td>...</td>\n",
       "      <td>...</td>\n",
       "      <td>...</td>\n",
       "    </tr>\n",
       "    <tr>\n",
       "      <th>132</th>\n",
       "      <td>부산광역시</td>\n",
       "      <td>해운대구</td>\n",
       "      <td>송정동</td>\n",
       "      <td>2</td>\n",
       "      <td>176</td>\n",
       "    </tr>\n",
       "    <tr>\n",
       "      <th>133</th>\n",
       "      <td>부산광역시</td>\n",
       "      <td>해운대구</td>\n",
       "      <td>우동</td>\n",
       "      <td>35</td>\n",
       "      <td>5091</td>\n",
       "    </tr>\n",
       "    <tr>\n",
       "      <th>134</th>\n",
       "      <td>부산광역시</td>\n",
       "      <td>해운대구</td>\n",
       "      <td>재송동</td>\n",
       "      <td>25</td>\n",
       "      <td>1895</td>\n",
       "    </tr>\n",
       "    <tr>\n",
       "      <th>135</th>\n",
       "      <td>부산광역시</td>\n",
       "      <td>해운대구</td>\n",
       "      <td>좌동</td>\n",
       "      <td>32</td>\n",
       "      <td>1902</td>\n",
       "    </tr>\n",
       "    <tr>\n",
       "      <th>136</th>\n",
       "      <td>부산광역시</td>\n",
       "      <td>해운대구</td>\n",
       "      <td>중동</td>\n",
       "      <td>24</td>\n",
       "      <td>1175</td>\n",
       "    </tr>\n",
       "  </tbody>\n",
       "</table>\n",
       "<p>137 rows × 5 columns</p>\n",
       "</div>"
      ],
      "text/plain": [
       "        시도   시군구   읍면동  수소    전기\n",
       "0    부산광역시   강서구   강동동   6    71\n",
       "1    부산광역시   강서구   구랑동   2    35\n",
       "2    부산광역시   강서구   녹산동   2    32\n",
       "3    부산광역시   강서구   눌차동   0    15\n",
       "4    부산광역시   강서구  대저1동   4   290\n",
       "..     ...   ...   ...  ..   ...\n",
       "132  부산광역시  해운대구   송정동   2   176\n",
       "133  부산광역시  해운대구    우동  35  5091\n",
       "134  부산광역시  해운대구   재송동  25  1895\n",
       "135  부산광역시  해운대구    좌동  32  1902\n",
       "136  부산광역시  해운대구    중동  24  1175\n",
       "\n",
       "[137 rows x 5 columns]"
      ]
     },
     "execution_count": 35,
     "metadata": {},
     "output_type": "execute_result"
    }
   ],
   "source": [
    "vehicle_file_path = 'C:\\\\Users\\\\SAMSUNG\\\\Desktop\\\\Green-Car-Charging-Station-Site-Selection\\\\Data\\\\연료별_자동차등록대수.csv'\n",
    "df_vehicle = pd.read_csv(vehicle_file_path, encoding='cp949')\n",
    "df_vehicle"
   ]
  },
  {
   "cell_type": "markdown",
   "metadata": {},
   "source": [
    "### LPG 충전소 현황 데이터 불러오기 (수소차)"
   ]
  },
  {
   "cell_type": "code",
   "execution_count": 36,
   "metadata": {},
   "outputs": [
    {
     "data": {
      "text/html": [
       "<div>\n",
       "<style scoped>\n",
       "    .dataframe tbody tr th:only-of-type {\n",
       "        vertical-align: middle;\n",
       "    }\n",
       "\n",
       "    .dataframe tbody tr th {\n",
       "        vertical-align: top;\n",
       "    }\n",
       "\n",
       "    .dataframe thead th {\n",
       "        text-align: right;\n",
       "    }\n",
       "</style>\n",
       "<table border=\"1\" class=\"dataframe\">\n",
       "  <thead>\n",
       "    <tr style=\"text-align: right;\">\n",
       "      <th></th>\n",
       "      <th>행정시</th>\n",
       "      <th>행정구</th>\n",
       "      <th>업소명</th>\n",
       "      <th>소재지</th>\n",
       "      <th>관리구분</th>\n",
       "      <th>위도</th>\n",
       "      <th>경도</th>\n",
       "      <th>면적</th>\n",
       "      <th>공시지가</th>\n",
       "      <th>토지비용</th>\n",
       "      <th>교차로 수</th>\n",
       "    </tr>\n",
       "  </thead>\n",
       "  <tbody>\n",
       "    <tr>\n",
       "      <th>0</th>\n",
       "      <td>부산</td>\n",
       "      <td>강서구</td>\n",
       "      <td>개인택시신공항충전소</td>\n",
       "      <td>부산 강서구 경전철로188번길 95</td>\n",
       "      <td>자동차충전</td>\n",
       "      <td>35.198669</td>\n",
       "      <td>128.966594</td>\n",
       "      <td>2545.0</td>\n",
       "      <td>2144000.0</td>\n",
       "      <td>5.456480e+09</td>\n",
       "      <td>52</td>\n",
       "    </tr>\n",
       "    <tr>\n",
       "      <th>1</th>\n",
       "      <td>부산</td>\n",
       "      <td>강서구</td>\n",
       "      <td>부산공항LPG충전소</td>\n",
       "      <td>부산 강서구 공항로 459</td>\n",
       "      <td>자동차충전</td>\n",
       "      <td>35.149064</td>\n",
       "      <td>128.951891</td>\n",
       "      <td>3105.0</td>\n",
       "      <td>1174000.0</td>\n",
       "      <td>3.645270e+09</td>\n",
       "      <td>16</td>\n",
       "    </tr>\n",
       "    <tr>\n",
       "      <th>2</th>\n",
       "      <td>부산</td>\n",
       "      <td>강서구</td>\n",
       "      <td>신항만에너지</td>\n",
       "      <td>부산 강서구 낙동남로 507</td>\n",
       "      <td>자동차충전</td>\n",
       "      <td>35.112947</td>\n",
       "      <td>128.875260</td>\n",
       "      <td>3105.0</td>\n",
       "      <td>1174000.0</td>\n",
       "      <td>3.645270e+09</td>\n",
       "      <td>76</td>\n",
       "    </tr>\n",
       "    <tr>\n",
       "      <th>3</th>\n",
       "      <td>부산</td>\n",
       "      <td>강서구</td>\n",
       "      <td>(주)지원네트웍스 부산강서LPG충전소</td>\n",
       "      <td>부산 강서구 낙동북로 310</td>\n",
       "      <td>자동차충전</td>\n",
       "      <td>35.212507</td>\n",
       "      <td>128.962572</td>\n",
       "      <td>1396.0</td>\n",
       "      <td>1140000.0</td>\n",
       "      <td>1.591440e+09</td>\n",
       "      <td>32</td>\n",
       "    </tr>\n",
       "    <tr>\n",
       "      <th>4</th>\n",
       "      <td>부산</td>\n",
       "      <td>강서구</td>\n",
       "      <td>신명지에너지</td>\n",
       "      <td>부산 강서구 르노삼성대로 560</td>\n",
       "      <td>자동차충전</td>\n",
       "      <td>35.097554</td>\n",
       "      <td>128.927351</td>\n",
       "      <td>481.0</td>\n",
       "      <td>700300.0</td>\n",
       "      <td>3.368443e+08</td>\n",
       "      <td>159</td>\n",
       "    </tr>\n",
       "    <tr>\n",
       "      <th>...</th>\n",
       "      <td>...</td>\n",
       "      <td>...</td>\n",
       "      <td>...</td>\n",
       "      <td>...</td>\n",
       "      <td>...</td>\n",
       "      <td>...</td>\n",
       "      <td>...</td>\n",
       "      <td>...</td>\n",
       "      <td>...</td>\n",
       "      <td>...</td>\n",
       "      <td>...</td>\n",
       "    </tr>\n",
       "    <tr>\n",
       "      <th>58</th>\n",
       "      <td>부산</td>\n",
       "      <td>연제구</td>\n",
       "      <td>부산개인택시엘피지충전소</td>\n",
       "      <td>부산 연제구 월드컵대로 399</td>\n",
       "      <td>자동차충전</td>\n",
       "      <td>35.186013</td>\n",
       "      <td>129.055974</td>\n",
       "      <td>9212.0</td>\n",
       "      <td>688600.0</td>\n",
       "      <td>6.343383e+09</td>\n",
       "      <td>146</td>\n",
       "    </tr>\n",
       "    <tr>\n",
       "      <th>59</th>\n",
       "      <td>부산</td>\n",
       "      <td>영도구</td>\n",
       "      <td>(주)태종에너지</td>\n",
       "      <td>부산 영도구 영선대로 41</td>\n",
       "      <td>자동차충전</td>\n",
       "      <td>35.084996</td>\n",
       "      <td>129.040033</td>\n",
       "      <td>1610.2</td>\n",
       "      <td>2679000.0</td>\n",
       "      <td>4.313726e+09</td>\n",
       "      <td>255</td>\n",
       "    </tr>\n",
       "    <tr>\n",
       "      <th>60</th>\n",
       "      <td>부산</td>\n",
       "      <td>영도구</td>\n",
       "      <td>부산에너지</td>\n",
       "      <td>부산 영도구 해양로 160</td>\n",
       "      <td>용기+자동차+탱크+13kg용기</td>\n",
       "      <td>35.091275</td>\n",
       "      <td>129.069484</td>\n",
       "      <td>5801.0</td>\n",
       "      <td>989400.0</td>\n",
       "      <td>5.739509e+09</td>\n",
       "      <td>67</td>\n",
       "    </tr>\n",
       "    <tr>\n",
       "      <th>61</th>\n",
       "      <td>부산</td>\n",
       "      <td>영도구</td>\n",
       "      <td>개인택시 영도LPG충전소</td>\n",
       "      <td>부산 영도구 해양로 296</td>\n",
       "      <td>자동차충전</td>\n",
       "      <td>35.082176</td>\n",
       "      <td>129.076429</td>\n",
       "      <td>1818.0</td>\n",
       "      <td>349800.0</td>\n",
       "      <td>6.359364e+08</td>\n",
       "      <td>98</td>\n",
       "    </tr>\n",
       "    <tr>\n",
       "      <th>62</th>\n",
       "      <td>부산</td>\n",
       "      <td>해운대구</td>\n",
       "      <td>이원 해운대LPG충전소</td>\n",
       "      <td>부산 해운대구 해운대로 1255</td>\n",
       "      <td>용기+자동차+탱크+13kg용기</td>\n",
       "      <td>35.196728</td>\n",
       "      <td>129.205260</td>\n",
       "      <td>3700.0</td>\n",
       "      <td>1607000.0</td>\n",
       "      <td>5.945900e+09</td>\n",
       "      <td>64</td>\n",
       "    </tr>\n",
       "  </tbody>\n",
       "</table>\n",
       "<p>63 rows × 11 columns</p>\n",
       "</div>"
      ],
      "text/plain": [
       "   행정시   행정구                   업소명                  소재지              관리구분  \\\n",
       "0   부산   강서구            개인택시신공항충전소  부산 강서구 경전철로188번길 95             자동차충전   \n",
       "1   부산   강서구            부산공항LPG충전소       부산 강서구 공항로 459             자동차충전   \n",
       "2   부산   강서구                신항만에너지     부산 강서구 낙동남로 507              자동차충전   \n",
       "3   부산   강서구  (주)지원네트웍스 부산강서LPG충전소     부산 강서구 낙동북로 310              자동차충전   \n",
       "4   부산   강서구                신명지에너지    부산 강서구 르노삼성대로 560             자동차충전   \n",
       "..  ..   ...                   ...                  ...               ...   \n",
       "58  부산   연제구          부산개인택시엘피지충전소     부산 연제구 월드컵대로 399             자동차충전   \n",
       "59  부산   영도구              (주)태종에너지       부산 영도구 영선대로 41             자동차충전   \n",
       "60  부산   영도구                 부산에너지       부산 영도구 해양로 160  용기+자동차+탱크+13kg용기   \n",
       "61  부산   영도구         개인택시 영도LPG충전소       부산 영도구 해양로 296             자동차충전   \n",
       "62  부산  해운대구          이원 해운대LPG충전소    부산 해운대구 해운대로 1255  용기+자동차+탱크+13kg용기   \n",
       "\n",
       "           위도          경도      면적       공시지가          토지비용  교차로 수  \n",
       "0   35.198669  128.966594  2545.0  2144000.0  5.456480e+09     52  \n",
       "1   35.149064  128.951891  3105.0  1174000.0  3.645270e+09     16  \n",
       "2   35.112947  128.875260  3105.0  1174000.0  3.645270e+09     76  \n",
       "3   35.212507  128.962572  1396.0  1140000.0  1.591440e+09     32  \n",
       "4   35.097554  128.927351   481.0   700300.0  3.368443e+08    159  \n",
       "..        ...         ...     ...        ...           ...    ...  \n",
       "58  35.186013  129.055974  9212.0   688600.0  6.343383e+09    146  \n",
       "59  35.084996  129.040033  1610.2  2679000.0  4.313726e+09    255  \n",
       "60  35.091275  129.069484  5801.0   989400.0  5.739509e+09     67  \n",
       "61  35.082176  129.076429  1818.0   349800.0  6.359364e+08     98  \n",
       "62  35.196728  129.205260  3700.0  1607000.0  5.945900e+09     64  \n",
       "\n",
       "[63 rows x 11 columns]"
      ]
     },
     "execution_count": 36,
     "metadata": {},
     "output_type": "execute_result"
    }
   ],
   "source": [
    "LPG_file_path = 'C:\\\\Users\\\\SAMSUNG\\\\Desktop\\\\Green-Car-Charging-Station-Site-Selection\\\\Data\\\\부산 LPG 충전소 현황(한국가스안전공사).csv'\n",
    "df_LPG = pd.read_csv(LPG_file_path, encoding='cp949')\n",
    "df_LPG"
   ]
  },
  {
   "cell_type": "code",
   "execution_count": 37,
   "metadata": {},
   "outputs": [
    {
     "data": {
      "text/html": [
       "<div>\n",
       "<style scoped>\n",
       "    .dataframe tbody tr th:only-of-type {\n",
       "        vertical-align: middle;\n",
       "    }\n",
       "\n",
       "    .dataframe tbody tr th {\n",
       "        vertical-align: top;\n",
       "    }\n",
       "\n",
       "    .dataframe thead th {\n",
       "        text-align: right;\n",
       "    }\n",
       "</style>\n",
       "<table border=\"1\" class=\"dataframe\">\n",
       "  <thead>\n",
       "    <tr style=\"text-align: right;\">\n",
       "      <th></th>\n",
       "      <th>행정시</th>\n",
       "      <th>행정구</th>\n",
       "      <th>업소명</th>\n",
       "      <th>소재지</th>\n",
       "      <th>관리구분</th>\n",
       "      <th>위도</th>\n",
       "      <th>경도</th>\n",
       "      <th>면적</th>\n",
       "      <th>공시지가</th>\n",
       "      <th>토지비용</th>\n",
       "      <th>교차로 수</th>\n",
       "    </tr>\n",
       "  </thead>\n",
       "  <tbody>\n",
       "    <tr>\n",
       "      <th>0</th>\n",
       "      <td>부산</td>\n",
       "      <td>강서구</td>\n",
       "      <td>개인택시신공항충전소</td>\n",
       "      <td>부산 강서구 경전철로188번길 95</td>\n",
       "      <td>자동차충전</td>\n",
       "      <td>35.198669</td>\n",
       "      <td>128.966594</td>\n",
       "      <td>2545.0</td>\n",
       "      <td>2144000.0</td>\n",
       "      <td>5.456480e+09</td>\n",
       "      <td>52</td>\n",
       "    </tr>\n",
       "    <tr>\n",
       "      <th>1</th>\n",
       "      <td>부산</td>\n",
       "      <td>강서구</td>\n",
       "      <td>부산공항LPG충전소</td>\n",
       "      <td>부산 강서구 공항로 459</td>\n",
       "      <td>자동차충전</td>\n",
       "      <td>35.149064</td>\n",
       "      <td>128.951891</td>\n",
       "      <td>3105.0</td>\n",
       "      <td>1174000.0</td>\n",
       "      <td>3.645270e+09</td>\n",
       "      <td>16</td>\n",
       "    </tr>\n",
       "    <tr>\n",
       "      <th>2</th>\n",
       "      <td>부산</td>\n",
       "      <td>강서구</td>\n",
       "      <td>신항만에너지</td>\n",
       "      <td>부산 강서구 낙동남로 507</td>\n",
       "      <td>자동차충전</td>\n",
       "      <td>35.112947</td>\n",
       "      <td>128.875260</td>\n",
       "      <td>3105.0</td>\n",
       "      <td>1174000.0</td>\n",
       "      <td>3.645270e+09</td>\n",
       "      <td>76</td>\n",
       "    </tr>\n",
       "    <tr>\n",
       "      <th>3</th>\n",
       "      <td>부산</td>\n",
       "      <td>강서구</td>\n",
       "      <td>르노삼성자동차(주)</td>\n",
       "      <td>부산 강서구 르노삼성대로 61</td>\n",
       "      <td>자동차충전</td>\n",
       "      <td>35.095408</td>\n",
       "      <td>128.883215</td>\n",
       "      <td>1538.0</td>\n",
       "      <td>640100.0</td>\n",
       "      <td>9.844738e+08</td>\n",
       "      <td>82</td>\n",
       "    </tr>\n",
       "    <tr>\n",
       "      <th>4</th>\n",
       "      <td>부산</td>\n",
       "      <td>강서구</td>\n",
       "      <td>죽림LPG충전소</td>\n",
       "      <td>부산 강서구 호계로 102</td>\n",
       "      <td>자동차충전</td>\n",
       "      <td>35.200736</td>\n",
       "      <td>128.893462</td>\n",
       "      <td>1580.0</td>\n",
       "      <td>1017000.0</td>\n",
       "      <td>1.606860e+09</td>\n",
       "      <td>16</td>\n",
       "    </tr>\n",
       "    <tr>\n",
       "      <th>5</th>\n",
       "      <td>부산</td>\n",
       "      <td>강서구</td>\n",
       "      <td>가락충전소</td>\n",
       "      <td>부산 강서구 호계로 195</td>\n",
       "      <td>자동차충전</td>\n",
       "      <td>35.208847</td>\n",
       "      <td>128.890148</td>\n",
       "      <td>2600.0</td>\n",
       "      <td>1017000.0</td>\n",
       "      <td>2.644200e+09</td>\n",
       "      <td>20</td>\n",
       "    </tr>\n",
       "    <tr>\n",
       "      <th>6</th>\n",
       "      <td>부산</td>\n",
       "      <td>금정구</td>\n",
       "      <td>(주)해연</td>\n",
       "      <td>부산 금정구 개좌로 225-15</td>\n",
       "      <td>용기+탱크+13kg용기</td>\n",
       "      <td>35.230796</td>\n",
       "      <td>129.122388</td>\n",
       "      <td>3346.0</td>\n",
       "      <td>1370000.0</td>\n",
       "      <td>4.584020e+09</td>\n",
       "      <td>119</td>\n",
       "    </tr>\n",
       "    <tr>\n",
       "      <th>7</th>\n",
       "      <td>부산</td>\n",
       "      <td>금정구</td>\n",
       "      <td>(주)신진가스</td>\n",
       "      <td>부산 금정구 반송로 433</td>\n",
       "      <td>자동차충전</td>\n",
       "      <td>35.215006</td>\n",
       "      <td>129.111143</td>\n",
       "      <td>1646.4</td>\n",
       "      <td>2797000.0</td>\n",
       "      <td>4.604981e+09</td>\n",
       "      <td>407</td>\n",
       "    </tr>\n",
       "    <tr>\n",
       "      <th>8</th>\n",
       "      <td>부산</td>\n",
       "      <td>기장군</td>\n",
       "      <td>마라톤가스(주)청강충전소</td>\n",
       "      <td>부산 기장군 기장읍 기장대로 343 A동</td>\n",
       "      <td>자동차충전</td>\n",
       "      <td>35.225657</td>\n",
       "      <td>129.213988</td>\n",
       "      <td>2592.0</td>\n",
       "      <td>1069000.0</td>\n",
       "      <td>2.770848e+09</td>\n",
       "      <td>45</td>\n",
       "    </tr>\n",
       "    <tr>\n",
       "      <th>9</th>\n",
       "      <td>부산</td>\n",
       "      <td>기장군</td>\n",
       "      <td>한국에너지산업(주)</td>\n",
       "      <td>부산 기장군 기장읍 기장대로413번길 38</td>\n",
       "      <td>용기+자동차+탱크+13kg용기</td>\n",
       "      <td>35.235543</td>\n",
       "      <td>129.215629</td>\n",
       "      <td>2473.0</td>\n",
       "      <td>1063000.0</td>\n",
       "      <td>2.628799e+09</td>\n",
       "      <td>241</td>\n",
       "    </tr>\n",
       "    <tr>\n",
       "      <th>10</th>\n",
       "      <td>부산</td>\n",
       "      <td>기장군</td>\n",
       "      <td>선암가스충전소</td>\n",
       "      <td>부산 기장군 장안읍 기장대로 1451</td>\n",
       "      <td>자동차+13kg용기</td>\n",
       "      <td>35.321585</td>\n",
       "      <td>129.241320</td>\n",
       "      <td>2717.0</td>\n",
       "      <td>1060000.0</td>\n",
       "      <td>2.880020e+09</td>\n",
       "      <td>75</td>\n",
       "    </tr>\n",
       "    <tr>\n",
       "      <th>11</th>\n",
       "      <td>부산</td>\n",
       "      <td>기장군</td>\n",
       "      <td>KH에너지(주)직영장안충전소(부산방향)</td>\n",
       "      <td>부산 기장군 장안읍 동해고속도로 25</td>\n",
       "      <td>자동차충전</td>\n",
       "      <td>35.377525</td>\n",
       "      <td>129.246402</td>\n",
       "      <td>15637.0</td>\n",
       "      <td>263500.0</td>\n",
       "      <td>4.120350e+09</td>\n",
       "      <td>20</td>\n",
       "    </tr>\n",
       "    <tr>\n",
       "      <th>12</th>\n",
       "      <td>부산</td>\n",
       "      <td>기장군</td>\n",
       "      <td>KH에너지(주)직영장안충전소(울산방향)</td>\n",
       "      <td>부산 기장군 장안읍 동해고속도로 26</td>\n",
       "      <td>자동차충전</td>\n",
       "      <td>35.382870</td>\n",
       "      <td>129.248394</td>\n",
       "      <td>37294.0</td>\n",
       "      <td>263500.0</td>\n",
       "      <td>9.826969e+09</td>\n",
       "      <td>9</td>\n",
       "    </tr>\n",
       "    <tr>\n",
       "      <th>13</th>\n",
       "      <td>부산</td>\n",
       "      <td>기장군</td>\n",
       "      <td>정림에너지</td>\n",
       "      <td>부산 기장군 정관읍 신정관로 187</td>\n",
       "      <td>자동차충전</td>\n",
       "      <td>35.328714</td>\n",
       "      <td>129.201710</td>\n",
       "      <td>2575.0</td>\n",
       "      <td>743500.0</td>\n",
       "      <td>1.914512e+09</td>\n",
       "      <td>62</td>\n",
       "    </tr>\n",
       "    <tr>\n",
       "      <th>14</th>\n",
       "      <td>부산</td>\n",
       "      <td>기장군</td>\n",
       "      <td>광신개발(주)직영 정관가스충전소</td>\n",
       "      <td>부산 기장군 정관읍 정관로 907</td>\n",
       "      <td>자동차+13kg용기</td>\n",
       "      <td>35.324749</td>\n",
       "      <td>129.210964</td>\n",
       "      <td>1899.0</td>\n",
       "      <td>877400.0</td>\n",
       "      <td>1.666183e+09</td>\n",
       "      <td>81</td>\n",
       "    </tr>\n",
       "    <tr>\n",
       "      <th>15</th>\n",
       "      <td>부산</td>\n",
       "      <td>기장군</td>\n",
       "      <td>개인택시동부산충전소</td>\n",
       "      <td>부산 기장군 철마면 반송로 1022</td>\n",
       "      <td>자동차충전</td>\n",
       "      <td>35.235930</td>\n",
       "      <td>129.163728</td>\n",
       "      <td>2543.0</td>\n",
       "      <td>923000.0</td>\n",
       "      <td>2.347189e+09</td>\n",
       "      <td>71</td>\n",
       "    </tr>\n",
       "    <tr>\n",
       "      <th>16</th>\n",
       "      <td>부산</td>\n",
       "      <td>동구</td>\n",
       "      <td>개인택시남부LPG충전소</td>\n",
       "      <td>부산 동구 성남로 42</td>\n",
       "      <td>자동차충전</td>\n",
       "      <td>35.130627</td>\n",
       "      <td>129.054917</td>\n",
       "      <td>1518.5</td>\n",
       "      <td>1701000.0</td>\n",
       "      <td>2.582968e+09</td>\n",
       "      <td>257</td>\n",
       "    </tr>\n",
       "    <tr>\n",
       "      <th>17</th>\n",
       "      <td>부산</td>\n",
       "      <td>동구</td>\n",
       "      <td>(주)대양씨앤씨(구:녹색에너지 범일영업소)</td>\n",
       "      <td>부산 동구 성남로 74-3</td>\n",
       "      <td>용기+13kg용기</td>\n",
       "      <td>35.130891</td>\n",
       "      <td>129.057587</td>\n",
       "      <td>3169.8</td>\n",
       "      <td>1545000.0</td>\n",
       "      <td>4.897341e+09</td>\n",
       "      <td>258</td>\n",
       "    </tr>\n",
       "    <tr>\n",
       "      <th>18</th>\n",
       "      <td>부산</td>\n",
       "      <td>북구</td>\n",
       "      <td>개인택시 금곡역충전소</td>\n",
       "      <td>부산 북구 금곡대로 704</td>\n",
       "      <td>자동차충전</td>\n",
       "      <td>35.269475</td>\n",
       "      <td>129.018781</td>\n",
       "      <td>2055.0</td>\n",
       "      <td>842500.0</td>\n",
       "      <td>1.731338e+09</td>\n",
       "      <td>47</td>\n",
       "    </tr>\n",
       "    <tr>\n",
       "      <th>19</th>\n",
       "      <td>부산</td>\n",
       "      <td>북구</td>\n",
       "      <td>(주)삼보</td>\n",
       "      <td>부산 북구 만덕대로 327-0</td>\n",
       "      <td>자동차충전</td>\n",
       "      <td>35.213643</td>\n",
       "      <td>129.040635</td>\n",
       "      <td>3837.0</td>\n",
       "      <td>1608000.0</td>\n",
       "      <td>6.169896e+09</td>\n",
       "      <td>169</td>\n",
       "    </tr>\n",
       "    <tr>\n",
       "      <th>20</th>\n",
       "      <td>부산</td>\n",
       "      <td>사상구</td>\n",
       "      <td>팔성가스충전소</td>\n",
       "      <td>부산 사상구 가야대로 75</td>\n",
       "      <td>자동차+13kg용기</td>\n",
       "      <td>35.151317</td>\n",
       "      <td>128.980986</td>\n",
       "      <td>2946.6</td>\n",
       "      <td>3247000.0</td>\n",
       "      <td>9.567610e+09</td>\n",
       "      <td>241</td>\n",
       "    </tr>\n",
       "    <tr>\n",
       "      <th>21</th>\n",
       "      <td>부산</td>\n",
       "      <td>사상구</td>\n",
       "      <td>(주)성은에너지제2충전소</td>\n",
       "      <td>부산 사상구 강변대로 412</td>\n",
       "      <td>자동차충전</td>\n",
       "      <td>35.122092</td>\n",
       "      <td>128.962063</td>\n",
       "      <td>3732.4</td>\n",
       "      <td>2373000.0</td>\n",
       "      <td>8.856985e+09</td>\n",
       "      <td>50</td>\n",
       "    </tr>\n",
       "    <tr>\n",
       "      <th>22</th>\n",
       "      <td>부산</td>\n",
       "      <td>사상구</td>\n",
       "      <td>극동유화(주)감전충전소</td>\n",
       "      <td>부산 사상구 낙동대로 878</td>\n",
       "      <td>용기+자동차+탱크+13kg용기</td>\n",
       "      <td>35.138888</td>\n",
       "      <td>128.971339</td>\n",
       "      <td>2886.1</td>\n",
       "      <td>3201000.0</td>\n",
       "      <td>9.238406e+09</td>\n",
       "      <td>112</td>\n",
       "    </tr>\n",
       "    <tr>\n",
       "      <th>23</th>\n",
       "      <td>부산</td>\n",
       "      <td>사하구</td>\n",
       "      <td>광진기업(주)장림영업소</td>\n",
       "      <td>부산 사하구 다대로 309</td>\n",
       "      <td>용기+자동차+13kg용기</td>\n",
       "      <td>35.075007</td>\n",
       "      <td>128.977163</td>\n",
       "      <td>1604.0</td>\n",
       "      <td>2665000.0</td>\n",
       "      <td>4.274660e+09</td>\n",
       "      <td>54</td>\n",
       "    </tr>\n",
       "    <tr>\n",
       "      <th>24</th>\n",
       "      <td>부산</td>\n",
       "      <td>사하구</td>\n",
       "      <td>광신가스(주)을숙도대로충전소</td>\n",
       "      <td>부산 사하구 을숙도대로 530</td>\n",
       "      <td>자동차충전</td>\n",
       "      <td>35.085225</td>\n",
       "      <td>128.963646</td>\n",
       "      <td>1632.0</td>\n",
       "      <td>1095000.0</td>\n",
       "      <td>1.787040e+09</td>\n",
       "      <td>111</td>\n",
       "    </tr>\n",
       "    <tr>\n",
       "      <th>25</th>\n",
       "      <td>부산</td>\n",
       "      <td>사하구</td>\n",
       "      <td>개인택시사하엘피지충전소</td>\n",
       "      <td>부산 사하구 을숙도대로 583</td>\n",
       "      <td>자동차충전</td>\n",
       "      <td>35.085534</td>\n",
       "      <td>128.969349</td>\n",
       "      <td>1657.0</td>\n",
       "      <td>1498000.0</td>\n",
       "      <td>2.482186e+09</td>\n",
       "      <td>129</td>\n",
       "    </tr>\n",
       "    <tr>\n",
       "      <th>26</th>\n",
       "      <td>부산</td>\n",
       "      <td>연제구</td>\n",
       "      <td>부산개인택시엘피지충전소</td>\n",
       "      <td>부산 연제구 월드컵대로 399</td>\n",
       "      <td>자동차충전</td>\n",
       "      <td>35.186013</td>\n",
       "      <td>129.055974</td>\n",
       "      <td>9212.0</td>\n",
       "      <td>688600.0</td>\n",
       "      <td>6.343383e+09</td>\n",
       "      <td>146</td>\n",
       "    </tr>\n",
       "    <tr>\n",
       "      <th>27</th>\n",
       "      <td>부산</td>\n",
       "      <td>영도구</td>\n",
       "      <td>(주)태종에너지</td>\n",
       "      <td>부산 영도구 영선대로 41</td>\n",
       "      <td>자동차충전</td>\n",
       "      <td>35.084996</td>\n",
       "      <td>129.040033</td>\n",
       "      <td>1610.2</td>\n",
       "      <td>2679000.0</td>\n",
       "      <td>4.313726e+09</td>\n",
       "      <td>255</td>\n",
       "    </tr>\n",
       "    <tr>\n",
       "      <th>28</th>\n",
       "      <td>부산</td>\n",
       "      <td>영도구</td>\n",
       "      <td>부산에너지</td>\n",
       "      <td>부산 영도구 해양로 160</td>\n",
       "      <td>용기+자동차+탱크+13kg용기</td>\n",
       "      <td>35.091275</td>\n",
       "      <td>129.069484</td>\n",
       "      <td>5801.0</td>\n",
       "      <td>989400.0</td>\n",
       "      <td>5.739509e+09</td>\n",
       "      <td>67</td>\n",
       "    </tr>\n",
       "    <tr>\n",
       "      <th>29</th>\n",
       "      <td>부산</td>\n",
       "      <td>영도구</td>\n",
       "      <td>개인택시 영도LPG충전소</td>\n",
       "      <td>부산 영도구 해양로 296</td>\n",
       "      <td>자동차충전</td>\n",
       "      <td>35.082176</td>\n",
       "      <td>129.076429</td>\n",
       "      <td>1818.0</td>\n",
       "      <td>349800.0</td>\n",
       "      <td>6.359364e+08</td>\n",
       "      <td>98</td>\n",
       "    </tr>\n",
       "    <tr>\n",
       "      <th>30</th>\n",
       "      <td>부산</td>\n",
       "      <td>해운대구</td>\n",
       "      <td>이원 해운대LPG충전소</td>\n",
       "      <td>부산 해운대구 해운대로 1255</td>\n",
       "      <td>용기+자동차+탱크+13kg용기</td>\n",
       "      <td>35.196728</td>\n",
       "      <td>129.205260</td>\n",
       "      <td>3700.0</td>\n",
       "      <td>1607000.0</td>\n",
       "      <td>5.945900e+09</td>\n",
       "      <td>64</td>\n",
       "    </tr>\n",
       "  </tbody>\n",
       "</table>\n",
       "</div>"
      ],
      "text/plain": [
       "   행정시   행정구                      업소명                      소재지  \\\n",
       "0   부산   강서구               개인택시신공항충전소      부산 강서구 경전철로188번길 95   \n",
       "1   부산   강서구               부산공항LPG충전소           부산 강서구 공항로 459   \n",
       "2   부산   강서구                   신항만에너지         부산 강서구 낙동남로 507    \n",
       "3   부산   강서구               르노삼성자동차(주)         부산 강서구 르노삼성대로 61   \n",
       "4   부산   강서구                 죽림LPG충전소          부산 강서구 호계로 102    \n",
       "5   부산   강서구                    가락충전소          부산 강서구 호계로 195    \n",
       "6   부산   금정구                    (주)해연       부산 금정구 개좌로 225-15    \n",
       "7   부산   금정구                  (주)신진가스          부산 금정구 반송로 433    \n",
       "8   부산   기장군            마라톤가스(주)청강충전소   부산 기장군 기장읍 기장대로 343 A동   \n",
       "9   부산   기장군               한국에너지산업(주)  부산 기장군 기장읍 기장대로413번길 38   \n",
       "10  부산   기장군                  선암가스충전소    부산 기장군 장안읍 기장대로 1451    \n",
       "11  부산   기장군    KH에너지(주)직영장안충전소(부산방향)     부산 기장군 장안읍 동해고속도로 25   \n",
       "12  부산   기장군    KH에너지(주)직영장안충전소(울산방향)     부산 기장군 장안읍 동해고속도로 26   \n",
       "13  부산   기장군                    정림에너지     부산 기장군 정관읍 신정관로 187    \n",
       "14  부산   기장군        광신개발(주)직영 정관가스충전소       부산 기장군 정관읍 정관로 907   \n",
       "15  부산   기장군               개인택시동부산충전소      부산 기장군 철마면 반송로 1022   \n",
       "16  부산    동구             개인택시남부LPG충전소             부산 동구 성남로 42   \n",
       "17  부산    동구  (주)대양씨앤씨(구:녹색에너지 범일영업소)           부산 동구 성남로 74-3   \n",
       "18  부산    북구              개인택시 금곡역충전소           부산 북구 금곡대로 704   \n",
       "19  부산    북구                    (주)삼보         부산 북구 만덕대로 327-0   \n",
       "20  부산   사상구                  팔성가스충전소           부산 사상구 가야대로 75   \n",
       "21  부산   사상구            (주)성은에너지제2충전소          부산 사상구 강변대로 412   \n",
       "22  부산   사상구             극동유화(주)감전충전소          부산 사상구 낙동대로 878   \n",
       "23  부산   사하구             광진기업(주)장림영업소           부산 사하구 다대로 309   \n",
       "24  부산   사하구          광신가스(주)을숙도대로충전소         부산 사하구 을숙도대로 530   \n",
       "25  부산   사하구             개인택시사하엘피지충전소         부산 사하구 을숙도대로 583   \n",
       "26  부산   연제구             부산개인택시엘피지충전소         부산 연제구 월드컵대로 399   \n",
       "27  부산   영도구                 (주)태종에너지           부산 영도구 영선대로 41   \n",
       "28  부산   영도구                    부산에너지           부산 영도구 해양로 160   \n",
       "29  부산   영도구            개인택시 영도LPG충전소           부산 영도구 해양로 296   \n",
       "30  부산  해운대구             이원 해운대LPG충전소        부산 해운대구 해운대로 1255   \n",
       "\n",
       "                관리구분         위도          경도       면적       공시지가          토지비용  \\\n",
       "0              자동차충전  35.198669  128.966594   2545.0  2144000.0  5.456480e+09   \n",
       "1              자동차충전  35.149064  128.951891   3105.0  1174000.0  3.645270e+09   \n",
       "2              자동차충전  35.112947  128.875260   3105.0  1174000.0  3.645270e+09   \n",
       "3              자동차충전  35.095408  128.883215   1538.0   640100.0  9.844738e+08   \n",
       "4              자동차충전  35.200736  128.893462   1580.0  1017000.0  1.606860e+09   \n",
       "5              자동차충전  35.208847  128.890148   2600.0  1017000.0  2.644200e+09   \n",
       "6       용기+탱크+13kg용기  35.230796  129.122388   3346.0  1370000.0  4.584020e+09   \n",
       "7              자동차충전  35.215006  129.111143   1646.4  2797000.0  4.604981e+09   \n",
       "8              자동차충전  35.225657  129.213988   2592.0  1069000.0  2.770848e+09   \n",
       "9   용기+자동차+탱크+13kg용기  35.235543  129.215629   2473.0  1063000.0  2.628799e+09   \n",
       "10        자동차+13kg용기  35.321585  129.241320   2717.0  1060000.0  2.880020e+09   \n",
       "11             자동차충전  35.377525  129.246402  15637.0   263500.0  4.120350e+09   \n",
       "12             자동차충전  35.382870  129.248394  37294.0   263500.0  9.826969e+09   \n",
       "13             자동차충전  35.328714  129.201710   2575.0   743500.0  1.914512e+09   \n",
       "14        자동차+13kg용기  35.324749  129.210964   1899.0   877400.0  1.666183e+09   \n",
       "15             자동차충전  35.235930  129.163728   2543.0   923000.0  2.347189e+09   \n",
       "16             자동차충전  35.130627  129.054917   1518.5  1701000.0  2.582968e+09   \n",
       "17         용기+13kg용기  35.130891  129.057587   3169.8  1545000.0  4.897341e+09   \n",
       "18             자동차충전  35.269475  129.018781   2055.0   842500.0  1.731338e+09   \n",
       "19             자동차충전  35.213643  129.040635   3837.0  1608000.0  6.169896e+09   \n",
       "20        자동차+13kg용기  35.151317  128.980986   2946.6  3247000.0  9.567610e+09   \n",
       "21             자동차충전  35.122092  128.962063   3732.4  2373000.0  8.856985e+09   \n",
       "22  용기+자동차+탱크+13kg용기  35.138888  128.971339   2886.1  3201000.0  9.238406e+09   \n",
       "23     용기+자동차+13kg용기  35.075007  128.977163   1604.0  2665000.0  4.274660e+09   \n",
       "24             자동차충전  35.085225  128.963646   1632.0  1095000.0  1.787040e+09   \n",
       "25             자동차충전  35.085534  128.969349   1657.0  1498000.0  2.482186e+09   \n",
       "26             자동차충전  35.186013  129.055974   9212.0   688600.0  6.343383e+09   \n",
       "27             자동차충전  35.084996  129.040033   1610.2  2679000.0  4.313726e+09   \n",
       "28  용기+자동차+탱크+13kg용기  35.091275  129.069484   5801.0   989400.0  5.739509e+09   \n",
       "29             자동차충전  35.082176  129.076429   1818.0   349800.0  6.359364e+08   \n",
       "30  용기+자동차+탱크+13kg용기  35.196728  129.205260   3700.0  1607000.0  5.945900e+09   \n",
       "\n",
       "    교차로 수  \n",
       "0      52  \n",
       "1      16  \n",
       "2      76  \n",
       "3      82  \n",
       "4      16  \n",
       "5      20  \n",
       "6     119  \n",
       "7     407  \n",
       "8      45  \n",
       "9     241  \n",
       "10     75  \n",
       "11     20  \n",
       "12      9  \n",
       "13     62  \n",
       "14     81  \n",
       "15     71  \n",
       "16    257  \n",
       "17    258  \n",
       "18     47  \n",
       "19    169  \n",
       "20    241  \n",
       "21     50  \n",
       "22    112  \n",
       "23     54  \n",
       "24    111  \n",
       "25    129  \n",
       "26    146  \n",
       "27    255  \n",
       "28     67  \n",
       "29     98  \n",
       "30     64  "
      ]
     },
     "execution_count": 37,
     "metadata": {},
     "output_type": "execute_result"
    }
   ],
   "source": [
    "# 복합충전소를 위해 1500 m^2이상의 부지가 요구됨\n",
    "df_LPG = df_LPG[df_LPG['면적'] >= 1500].reset_index(drop=True)\n",
    "df_LPG"
   ]
  },
  {
   "cell_type": "code",
   "execution_count": 38,
   "metadata": {},
   "outputs": [
    {
     "data": {
      "text/html": [
       "<div>\n",
       "<style scoped>\n",
       "    .dataframe tbody tr th:only-of-type {\n",
       "        vertical-align: middle;\n",
       "    }\n",
       "\n",
       "    .dataframe tbody tr th {\n",
       "        vertical-align: top;\n",
       "    }\n",
       "\n",
       "    .dataframe thead th {\n",
       "        text-align: right;\n",
       "    }\n",
       "</style>\n",
       "<table border=\"1\" class=\"dataframe\">\n",
       "  <thead>\n",
       "    <tr style=\"text-align: right;\">\n",
       "      <th></th>\n",
       "      <th>행정시</th>\n",
       "      <th>업소명</th>\n",
       "      <th>소재지</th>\n",
       "      <th>관리구분</th>\n",
       "      <th>위도</th>\n",
       "      <th>경도</th>\n",
       "      <th>면적</th>\n",
       "      <th>공시지가</th>\n",
       "      <th>토지비용</th>\n",
       "      <th>교차로 수</th>\n",
       "    </tr>\n",
       "    <tr>\n",
       "      <th>행정구</th>\n",
       "      <th></th>\n",
       "      <th></th>\n",
       "      <th></th>\n",
       "      <th></th>\n",
       "      <th></th>\n",
       "      <th></th>\n",
       "      <th></th>\n",
       "      <th></th>\n",
       "      <th></th>\n",
       "      <th></th>\n",
       "    </tr>\n",
       "  </thead>\n",
       "  <tbody>\n",
       "    <tr>\n",
       "      <th>강서구</th>\n",
       "      <td>6</td>\n",
       "      <td>6</td>\n",
       "      <td>6</td>\n",
       "      <td>6</td>\n",
       "      <td>6</td>\n",
       "      <td>6</td>\n",
       "      <td>6</td>\n",
       "      <td>6</td>\n",
       "      <td>6</td>\n",
       "      <td>6</td>\n",
       "    </tr>\n",
       "    <tr>\n",
       "      <th>금정구</th>\n",
       "      <td>2</td>\n",
       "      <td>2</td>\n",
       "      <td>2</td>\n",
       "      <td>2</td>\n",
       "      <td>2</td>\n",
       "      <td>2</td>\n",
       "      <td>2</td>\n",
       "      <td>2</td>\n",
       "      <td>2</td>\n",
       "      <td>2</td>\n",
       "    </tr>\n",
       "    <tr>\n",
       "      <th>기장군</th>\n",
       "      <td>8</td>\n",
       "      <td>8</td>\n",
       "      <td>8</td>\n",
       "      <td>8</td>\n",
       "      <td>8</td>\n",
       "      <td>8</td>\n",
       "      <td>8</td>\n",
       "      <td>8</td>\n",
       "      <td>8</td>\n",
       "      <td>8</td>\n",
       "    </tr>\n",
       "    <tr>\n",
       "      <th>동구</th>\n",
       "      <td>2</td>\n",
       "      <td>2</td>\n",
       "      <td>2</td>\n",
       "      <td>2</td>\n",
       "      <td>2</td>\n",
       "      <td>2</td>\n",
       "      <td>2</td>\n",
       "      <td>2</td>\n",
       "      <td>2</td>\n",
       "      <td>2</td>\n",
       "    </tr>\n",
       "    <tr>\n",
       "      <th>북구</th>\n",
       "      <td>2</td>\n",
       "      <td>2</td>\n",
       "      <td>2</td>\n",
       "      <td>2</td>\n",
       "      <td>2</td>\n",
       "      <td>2</td>\n",
       "      <td>2</td>\n",
       "      <td>2</td>\n",
       "      <td>2</td>\n",
       "      <td>2</td>\n",
       "    </tr>\n",
       "    <tr>\n",
       "      <th>사상구</th>\n",
       "      <td>3</td>\n",
       "      <td>3</td>\n",
       "      <td>3</td>\n",
       "      <td>3</td>\n",
       "      <td>3</td>\n",
       "      <td>3</td>\n",
       "      <td>3</td>\n",
       "      <td>3</td>\n",
       "      <td>3</td>\n",
       "      <td>3</td>\n",
       "    </tr>\n",
       "    <tr>\n",
       "      <th>사하구</th>\n",
       "      <td>3</td>\n",
       "      <td>3</td>\n",
       "      <td>3</td>\n",
       "      <td>3</td>\n",
       "      <td>3</td>\n",
       "      <td>3</td>\n",
       "      <td>3</td>\n",
       "      <td>3</td>\n",
       "      <td>3</td>\n",
       "      <td>3</td>\n",
       "    </tr>\n",
       "    <tr>\n",
       "      <th>연제구</th>\n",
       "      <td>1</td>\n",
       "      <td>1</td>\n",
       "      <td>1</td>\n",
       "      <td>1</td>\n",
       "      <td>1</td>\n",
       "      <td>1</td>\n",
       "      <td>1</td>\n",
       "      <td>1</td>\n",
       "      <td>1</td>\n",
       "      <td>1</td>\n",
       "    </tr>\n",
       "    <tr>\n",
       "      <th>영도구</th>\n",
       "      <td>3</td>\n",
       "      <td>3</td>\n",
       "      <td>3</td>\n",
       "      <td>3</td>\n",
       "      <td>3</td>\n",
       "      <td>3</td>\n",
       "      <td>3</td>\n",
       "      <td>3</td>\n",
       "      <td>3</td>\n",
       "      <td>3</td>\n",
       "    </tr>\n",
       "    <tr>\n",
       "      <th>해운대구</th>\n",
       "      <td>1</td>\n",
       "      <td>1</td>\n",
       "      <td>1</td>\n",
       "      <td>1</td>\n",
       "      <td>1</td>\n",
       "      <td>1</td>\n",
       "      <td>1</td>\n",
       "      <td>1</td>\n",
       "      <td>1</td>\n",
       "      <td>1</td>\n",
       "    </tr>\n",
       "  </tbody>\n",
       "</table>\n",
       "</div>"
      ],
      "text/plain": [
       "      행정시  업소명  소재지  관리구분  위도  경도  면적  공시지가  토지비용  교차로 수\n",
       "행정구                                                     \n",
       "강서구     6    6    6     6   6   6   6     6     6      6\n",
       "금정구     2    2    2     2   2   2   2     2     2      2\n",
       "기장군     8    8    8     8   8   8   8     8     8      8\n",
       "동구      2    2    2     2   2   2   2     2     2      2\n",
       "북구      2    2    2     2   2   2   2     2     2      2\n",
       "사상구     3    3    3     3   3   3   3     3     3      3\n",
       "사하구     3    3    3     3   3   3   3     3     3      3\n",
       "연제구     1    1    1     1   1   1   1     1     1      1\n",
       "영도구     3    3    3     3   3   3   3     3     3      3\n",
       "해운대구    1    1    1     1   1   1   1     1     1      1"
      ]
     },
     "execution_count": 38,
     "metadata": {},
     "output_type": "execute_result"
    }
   ],
   "source": [
    "LPG_group = df_LPG.groupby('행정구').count()\n",
    "LPG_group"
   ]
  },
  {
   "cell_type": "markdown",
   "metadata": {},
   "source": [
    "### 전기차 충전기수"
   ]
  },
  {
   "cell_type": "code",
   "execution_count": 39,
   "metadata": {},
   "outputs": [
    {
     "data": {
      "text/html": [
       "<div>\n",
       "<style scoped>\n",
       "    .dataframe tbody tr th:only-of-type {\n",
       "        vertical-align: middle;\n",
       "    }\n",
       "\n",
       "    .dataframe tbody tr th {\n",
       "        vertical-align: top;\n",
       "    }\n",
       "\n",
       "    .dataframe thead th {\n",
       "        text-align: right;\n",
       "    }\n",
       "</style>\n",
       "<table border=\"1\" class=\"dataframe\">\n",
       "  <thead>\n",
       "    <tr style=\"text-align: right;\">\n",
       "      <th></th>\n",
       "      <th>운영기관</th>\n",
       "      <th>충전소</th>\n",
       "      <th>충전기ID</th>\n",
       "      <th>충전기타입</th>\n",
       "      <th>지역</th>\n",
       "      <th>시군구</th>\n",
       "      <th>행정동</th>\n",
       "      <th>주소</th>\n",
       "      <th>이용가능시간</th>\n",
       "      <th>이용자 제한</th>\n",
       "      <th>충전용량</th>\n",
       "      <th>비고</th>\n",
       "    </tr>\n",
       "  </thead>\n",
       "  <tbody>\n",
       "    <tr>\n",
       "      <th>0</th>\n",
       "      <td>환경부(한국자동차환경협회)</td>\n",
       "      <td>kbs 부산방송총국</td>\n",
       "      <td>1</td>\n",
       "      <td>DC차데모+AC3상+DC콤보</td>\n",
       "      <td>부산광역시</td>\n",
       "      <td>수영구</td>\n",
       "      <td>남천동</td>\n",
       "      <td>부산광역시 수영구 수영로 429</td>\n",
       "      <td>24시간 이용가능</td>\n",
       "      <td>NaN</td>\n",
       "      <td>200kW멀티</td>\n",
       "      <td>NaN</td>\n",
       "    </tr>\n",
       "    <tr>\n",
       "      <th>1</th>\n",
       "      <td>환경부(한국자동차환경협회)</td>\n",
       "      <td>kbs 부산방송총국</td>\n",
       "      <td>11</td>\n",
       "      <td>DC콤보</td>\n",
       "      <td>부산광역시</td>\n",
       "      <td>수영구</td>\n",
       "      <td>남천동</td>\n",
       "      <td>부산광역시 수영구 수영로 429</td>\n",
       "      <td>24시간 이용가능</td>\n",
       "      <td>NaN</td>\n",
       "      <td>200kW멀티</td>\n",
       "      <td>NaN</td>\n",
       "    </tr>\n",
       "    <tr>\n",
       "      <th>2</th>\n",
       "      <td>환경부(한국자동차환경협회)</td>\n",
       "      <td>kbs 부산방송총국</td>\n",
       "      <td>12</td>\n",
       "      <td>DC콤보</td>\n",
       "      <td>부산광역시</td>\n",
       "      <td>수영구</td>\n",
       "      <td>남천동</td>\n",
       "      <td>부산광역시 수영구 수영로 429</td>\n",
       "      <td>24시간 이용가능</td>\n",
       "      <td>NaN</td>\n",
       "      <td>200kW멀티</td>\n",
       "      <td>NaN</td>\n",
       "    </tr>\n",
       "    <tr>\n",
       "      <th>3</th>\n",
       "      <td>환경부(한국자동차환경협회)</td>\n",
       "      <td>국립부산과학관</td>\n",
       "      <td>11</td>\n",
       "      <td>DC콤보</td>\n",
       "      <td>부산광역시</td>\n",
       "      <td>기장군</td>\n",
       "      <td>기장읍</td>\n",
       "      <td>부산광역시 기장군 기장읍 석산리 293</td>\n",
       "      <td>24시간 이용가능</td>\n",
       "      <td>NaN</td>\n",
       "      <td>100kW멀티</td>\n",
       "      <td>NaN</td>\n",
       "    </tr>\n",
       "    <tr>\n",
       "      <th>4</th>\n",
       "      <td>환경부(한국자동차환경협회)</td>\n",
       "      <td>국립부산과학관</td>\n",
       "      <td>12</td>\n",
       "      <td>DC콤보</td>\n",
       "      <td>부산광역시</td>\n",
       "      <td>기장군</td>\n",
       "      <td>기장읍</td>\n",
       "      <td>부산광역시 기장군 기장읍 석산리 293</td>\n",
       "      <td>24시간 이용가능</td>\n",
       "      <td>NaN</td>\n",
       "      <td>100kW멀티</td>\n",
       "      <td>NaN</td>\n",
       "    </tr>\n",
       "    <tr>\n",
       "      <th>...</th>\n",
       "      <td>...</td>\n",
       "      <td>...</td>\n",
       "      <td>...</td>\n",
       "      <td>...</td>\n",
       "      <td>...</td>\n",
       "      <td>...</td>\n",
       "      <td>...</td>\n",
       "      <td>...</td>\n",
       "      <td>...</td>\n",
       "      <td>...</td>\n",
       "      <td>...</td>\n",
       "      <td>...</td>\n",
       "    </tr>\n",
       "    <tr>\n",
       "      <th>6602</th>\n",
       "      <td>한국전자금융</td>\n",
       "      <td>부산 플러스타워</td>\n",
       "      <td>1</td>\n",
       "      <td>AC완속</td>\n",
       "      <td>부산광역시</td>\n",
       "      <td>강서구</td>\n",
       "      <td>명지동</td>\n",
       "      <td>부산광역시 강서구 명지국제1로 56-1플러스타워(3598-2 플러스타워)</td>\n",
       "      <td>24시간 이용가능</td>\n",
       "      <td>NaN</td>\n",
       "      <td>7kW</td>\n",
       "      <td>NaN</td>\n",
       "    </tr>\n",
       "    <tr>\n",
       "      <th>6603</th>\n",
       "      <td>한국전자금융</td>\n",
       "      <td>부산 플러스타워</td>\n",
       "      <td>2</td>\n",
       "      <td>AC완속</td>\n",
       "      <td>부산광역시</td>\n",
       "      <td>강서구</td>\n",
       "      <td>명지동</td>\n",
       "      <td>부산광역시 강서구 명지국제1로 56-1플러스타워(3598-2 플러스타워)</td>\n",
       "      <td>24시간 이용가능</td>\n",
       "      <td>NaN</td>\n",
       "      <td>7kW</td>\n",
       "      <td>NaN</td>\n",
       "    </tr>\n",
       "    <tr>\n",
       "      <th>6604</th>\n",
       "      <td>한국전자금융</td>\n",
       "      <td>부산 휴마트괴정점</td>\n",
       "      <td>1</td>\n",
       "      <td>AC완속</td>\n",
       "      <td>부산광역시</td>\n",
       "      <td>사하구</td>\n",
       "      <td>괴정동</td>\n",
       "      <td>부산광역시 사하구 낙동대로 123휴마트괴정점(괴정동 358-1)</td>\n",
       "      <td>24시간 이용가능</td>\n",
       "      <td>NaN</td>\n",
       "      <td>7kW</td>\n",
       "      <td>NaN</td>\n",
       "    </tr>\n",
       "    <tr>\n",
       "      <th>6605</th>\n",
       "      <td>한국전자금융</td>\n",
       "      <td>부산 휴마트괴정점</td>\n",
       "      <td>2</td>\n",
       "      <td>AC완속</td>\n",
       "      <td>부산광역시</td>\n",
       "      <td>사하구</td>\n",
       "      <td>괴정동</td>\n",
       "      <td>부산광역시 사하구 낙동대로 123휴마트괴정점(괴정동 358-1)</td>\n",
       "      <td>24시간 이용가능</td>\n",
       "      <td>NaN</td>\n",
       "      <td>7kW</td>\n",
       "      <td>NaN</td>\n",
       "    </tr>\n",
       "    <tr>\n",
       "      <th>6606</th>\n",
       "      <td>한국전자금융</td>\n",
       "      <td>부산 휴마트괴정점</td>\n",
       "      <td>3</td>\n",
       "      <td>AC완속</td>\n",
       "      <td>부산광역시</td>\n",
       "      <td>사하구</td>\n",
       "      <td>괴정동</td>\n",
       "      <td>부산광역시 사하구 낙동대로 123휴마트괴정점(괴정동 358-1)</td>\n",
       "      <td>24시간 이용가능</td>\n",
       "      <td>NaN</td>\n",
       "      <td>7kW</td>\n",
       "      <td>NaN</td>\n",
       "    </tr>\n",
       "  </tbody>\n",
       "</table>\n",
       "<p>6607 rows × 12 columns</p>\n",
       "</div>"
      ],
      "text/plain": [
       "                운영기관         충전소  충전기ID            충전기타입      지역   시군구   행정동  \\\n",
       "0     환경부(한국자동차환경협회)  kbs 부산방송총국      1  DC차데모+AC3상+DC콤보  부산광역시   수영구    남천동   \n",
       "1     환경부(한국자동차환경협회)  kbs 부산방송총국     11             DC콤보  부산광역시   수영구    남천동   \n",
       "2     환경부(한국자동차환경협회)  kbs 부산방송총국     12             DC콤보  부산광역시   수영구    남천동   \n",
       "3     환경부(한국자동차환경협회)     국립부산과학관     11             DC콤보  부산광역시   기장군   기장읍    \n",
       "4     환경부(한국자동차환경협회)     국립부산과학관     12             DC콤보  부산광역시   기장군   기장읍    \n",
       "...              ...         ...    ...              ...     ...   ...   ...   \n",
       "6602          한국전자금융    부산 플러스타워      1             AC완속  부산광역시   강서구    명지동   \n",
       "6603          한국전자금융    부산 플러스타워      2             AC완속  부산광역시   강서구    명지동   \n",
       "6604          한국전자금융   부산 휴마트괴정점      1             AC완속  부산광역시   사하구    괴정동   \n",
       "6605          한국전자금융   부산 휴마트괴정점      2             AC완속  부산광역시   사하구    괴정동   \n",
       "6606          한국전자금융   부산 휴마트괴정점      3             AC완속  부산광역시   사하구    괴정동   \n",
       "\n",
       "                                            주소     이용가능시간 이용자 제한     충전용량  비고  \n",
       "0                            부산광역시 수영구 수영로 429  24시간 이용가능    NaN  200kW멀티 NaN  \n",
       "1                            부산광역시 수영구 수영로 429  24시간 이용가능    NaN  200kW멀티 NaN  \n",
       "2                            부산광역시 수영구 수영로 429  24시간 이용가능    NaN  200kW멀티 NaN  \n",
       "3                        부산광역시 기장군 기장읍 석산리 293  24시간 이용가능    NaN  100kW멀티 NaN  \n",
       "4                        부산광역시 기장군 기장읍 석산리 293  24시간 이용가능    NaN  100kW멀티 NaN  \n",
       "...                                        ...        ...    ...      ...  ..  \n",
       "6602  부산광역시 강서구 명지국제1로 56-1플러스타워(3598-2 플러스타워)  24시간 이용가능    NaN      7kW NaN  \n",
       "6603  부산광역시 강서구 명지국제1로 56-1플러스타워(3598-2 플러스타워)  24시간 이용가능    NaN      7kW NaN  \n",
       "6604       부산광역시 사하구 낙동대로 123휴마트괴정점(괴정동 358-1)  24시간 이용가능    NaN      7kW NaN  \n",
       "6605       부산광역시 사하구 낙동대로 123휴마트괴정점(괴정동 358-1)  24시간 이용가능    NaN      7kW NaN  \n",
       "6606       부산광역시 사하구 낙동대로 123휴마트괴정점(괴정동 358-1)  24시간 이용가능    NaN      7kW NaN  \n",
       "\n",
       "[6607 rows x 12 columns]"
      ]
     },
     "execution_count": 39,
     "metadata": {},
     "output_type": "execute_result"
    }
   ],
   "source": [
    "EVCS_file_path = 'C:\\\\Users\\\\SAMSUNG\\\\Desktop\\\\Green-Car-Charging-Station-Site-Selection\\\\Data\\\\전기차충전소 리스트.csv'\n",
    "df_EVCS = pd.read_csv(EVCS_file_path, encoding='cp949')\n",
    "df_EVCS"
   ]
  },
  {
   "cell_type": "code",
   "execution_count": 40,
   "metadata": {},
   "outputs": [],
   "source": [
    "# si = []\n",
    "# gu = []\n",
    "# for i in range(df_EVCS.shape[0]):\n",
    "#     strings = df_EVCS.iloc[i]['addr'].split()\n",
    "#     si.append(strings[0])\n",
    "#     gu.append(strings[1])\n",
    "# df_EVCS.drop(columns='addr',inplace=True)\n",
    "# df_EVCS.insert(4,'addr_gu',gu)\n",
    "# df_EVCS.insert(4,'addr_si',si)\n",
    "# df_EVCS.to_csv(EVCS_file_path,encoding='cp949',index=False)"
   ]
  },
  {
   "cell_type": "markdown",
   "metadata": {},
   "source": [
    "#### 급속 완속 여부\n",
    "    완속충전타입:AC완속 \n",
    "    급속충전타입:DC차데모, AC3상, DC콤보\n",
    "    chger_type\n",
    "    1:DC차데모\n",
    "    2:AC완속\n",
    "    3:DC차데모+AC3상\n",
    "    4:DC콤보\n",
    "    5:DC차데모+DC콤보\n",
    "    6:DC차데모+AC3상+DC콤보"
   ]
  },
  {
   "cell_type": "code",
   "execution_count": 41,
   "metadata": {},
   "outputs": [
    {
     "data": {
      "text/html": [
       "<div>\n",
       "<style scoped>\n",
       "    .dataframe tbody tr th:only-of-type {\n",
       "        vertical-align: middle;\n",
       "    }\n",
       "\n",
       "    .dataframe tbody tr th {\n",
       "        vertical-align: top;\n",
       "    }\n",
       "\n",
       "    .dataframe thead th {\n",
       "        text-align: right;\n",
       "    }\n",
       "</style>\n",
       "<table border=\"1\" class=\"dataframe\">\n",
       "  <thead>\n",
       "    <tr style=\"text-align: right;\">\n",
       "      <th></th>\n",
       "      <th>운영기관</th>\n",
       "      <th>충전소</th>\n",
       "      <th>충전기ID</th>\n",
       "      <th>충전기타입</th>\n",
       "      <th>지역</th>\n",
       "      <th>시군구</th>\n",
       "      <th>행정동</th>\n",
       "      <th>주소</th>\n",
       "      <th>이용가능시간</th>\n",
       "      <th>이용자 제한</th>\n",
       "      <th>충전용량</th>\n",
       "      <th>비고</th>\n",
       "    </tr>\n",
       "  </thead>\n",
       "  <tbody>\n",
       "    <tr>\n",
       "      <th>0</th>\n",
       "      <td>환경부(한국자동차환경협회)</td>\n",
       "      <td>kbs 부산방송총국</td>\n",
       "      <td>1</td>\n",
       "      <td>DC차데모+AC3상+DC콤보</td>\n",
       "      <td>부산광역시</td>\n",
       "      <td>수영구</td>\n",
       "      <td>남천동</td>\n",
       "      <td>부산광역시 수영구 수영로 429</td>\n",
       "      <td>24시간 이용가능</td>\n",
       "      <td>NaN</td>\n",
       "      <td>200kW멀티</td>\n",
       "      <td>NaN</td>\n",
       "    </tr>\n",
       "    <tr>\n",
       "      <th>1</th>\n",
       "      <td>환경부(한국자동차환경협회)</td>\n",
       "      <td>kbs 부산방송총국</td>\n",
       "      <td>11</td>\n",
       "      <td>DC콤보</td>\n",
       "      <td>부산광역시</td>\n",
       "      <td>수영구</td>\n",
       "      <td>남천동</td>\n",
       "      <td>부산광역시 수영구 수영로 429</td>\n",
       "      <td>24시간 이용가능</td>\n",
       "      <td>NaN</td>\n",
       "      <td>200kW멀티</td>\n",
       "      <td>NaN</td>\n",
       "    </tr>\n",
       "    <tr>\n",
       "      <th>2</th>\n",
       "      <td>환경부(한국자동차환경협회)</td>\n",
       "      <td>kbs 부산방송총국</td>\n",
       "      <td>12</td>\n",
       "      <td>DC콤보</td>\n",
       "      <td>부산광역시</td>\n",
       "      <td>수영구</td>\n",
       "      <td>남천동</td>\n",
       "      <td>부산광역시 수영구 수영로 429</td>\n",
       "      <td>24시간 이용가능</td>\n",
       "      <td>NaN</td>\n",
       "      <td>200kW멀티</td>\n",
       "      <td>NaN</td>\n",
       "    </tr>\n",
       "    <tr>\n",
       "      <th>3</th>\n",
       "      <td>환경부(한국자동차환경협회)</td>\n",
       "      <td>국립부산과학관</td>\n",
       "      <td>11</td>\n",
       "      <td>DC콤보</td>\n",
       "      <td>부산광역시</td>\n",
       "      <td>기장군</td>\n",
       "      <td>기장읍</td>\n",
       "      <td>부산광역시 기장군 기장읍 석산리 293</td>\n",
       "      <td>24시간 이용가능</td>\n",
       "      <td>NaN</td>\n",
       "      <td>100kW멀티</td>\n",
       "      <td>NaN</td>\n",
       "    </tr>\n",
       "    <tr>\n",
       "      <th>4</th>\n",
       "      <td>환경부(한국자동차환경협회)</td>\n",
       "      <td>국립부산과학관</td>\n",
       "      <td>12</td>\n",
       "      <td>DC콤보</td>\n",
       "      <td>부산광역시</td>\n",
       "      <td>기장군</td>\n",
       "      <td>기장읍</td>\n",
       "      <td>부산광역시 기장군 기장읍 석산리 293</td>\n",
       "      <td>24시간 이용가능</td>\n",
       "      <td>NaN</td>\n",
       "      <td>100kW멀티</td>\n",
       "      <td>NaN</td>\n",
       "    </tr>\n",
       "    <tr>\n",
       "      <th>...</th>\n",
       "      <td>...</td>\n",
       "      <td>...</td>\n",
       "      <td>...</td>\n",
       "      <td>...</td>\n",
       "      <td>...</td>\n",
       "      <td>...</td>\n",
       "      <td>...</td>\n",
       "      <td>...</td>\n",
       "      <td>...</td>\n",
       "      <td>...</td>\n",
       "      <td>...</td>\n",
       "      <td>...</td>\n",
       "    </tr>\n",
       "    <tr>\n",
       "      <th>492</th>\n",
       "      <td>모던텍</td>\n",
       "      <td>유엔공원 EV충전소(맘차지)</td>\n",
       "      <td>1</td>\n",
       "      <td>DC차데모+DC콤보</td>\n",
       "      <td>부산광역시</td>\n",
       "      <td>남구</td>\n",
       "      <td>대연동</td>\n",
       "      <td>부산광역시 남구 석포로 134SK 유엔주유소 옆(대연동 949-4)</td>\n",
       "      <td>08:00 ~ 22:00</td>\n",
       "      <td>NaN</td>\n",
       "      <td>50kW단독</td>\n",
       "      <td>NaN</td>\n",
       "    </tr>\n",
       "    <tr>\n",
       "      <th>493</th>\n",
       "      <td>모던텍</td>\n",
       "      <td>유엔공원 EV충전소(맘차지)</td>\n",
       "      <td>2</td>\n",
       "      <td>DC차데모+DC콤보</td>\n",
       "      <td>부산광역시</td>\n",
       "      <td>남구</td>\n",
       "      <td>대연동</td>\n",
       "      <td>부산광역시 남구 석포로 134SK 유엔주유소 옆(대연동 949-4)</td>\n",
       "      <td>08:00 ~ 22:00</td>\n",
       "      <td>NaN</td>\n",
       "      <td>50kW단독</td>\n",
       "      <td>NaN</td>\n",
       "    </tr>\n",
       "    <tr>\n",
       "      <th>494</th>\n",
       "      <td>모던텍</td>\n",
       "      <td>유엔공원 EV충전소(맘차지)</td>\n",
       "      <td>3</td>\n",
       "      <td>DC차데모+DC콤보</td>\n",
       "      <td>부산광역시</td>\n",
       "      <td>남구</td>\n",
       "      <td>대연동</td>\n",
       "      <td>부산광역시 남구 석포로 134SK 유엔주유소 옆(대연동 949-4)</td>\n",
       "      <td>08:00 ~ 22:00</td>\n",
       "      <td>NaN</td>\n",
       "      <td>50kW단독</td>\n",
       "      <td>NaN</td>\n",
       "    </tr>\n",
       "    <tr>\n",
       "      <th>495</th>\n",
       "      <td>모던텍</td>\n",
       "      <td>유엔공원 EV충전소(맘차지)</td>\n",
       "      <td>4</td>\n",
       "      <td>DC차데모+DC콤보</td>\n",
       "      <td>부산광역시</td>\n",
       "      <td>남구</td>\n",
       "      <td>대연동</td>\n",
       "      <td>부산광역시 남구 석포로 134SK 유엔주유소 옆(대연동 949-4)</td>\n",
       "      <td>08:00 ~ 22:00</td>\n",
       "      <td>NaN</td>\n",
       "      <td>50kW단독</td>\n",
       "      <td>NaN</td>\n",
       "    </tr>\n",
       "    <tr>\n",
       "      <th>496</th>\n",
       "      <td>한국전자금융</td>\n",
       "      <td>롯데월드 어드벤처 부산</td>\n",
       "      <td>8</td>\n",
       "      <td>DC차데모+DC콤보</td>\n",
       "      <td>부산광역시</td>\n",
       "      <td>기장군</td>\n",
       "      <td>기장읍</td>\n",
       "      <td>부산광역시 기장군 기장읍 동부산관광로 42롯데월드 어드벤처 부산(시랑리 산46)</td>\n",
       "      <td>24시간 이용가능</td>\n",
       "      <td>시설 상황에 따라 이용이 제한될 수 있음</td>\n",
       "      <td>50kW단독</td>\n",
       "      <td>NaN</td>\n",
       "    </tr>\n",
       "  </tbody>\n",
       "</table>\n",
       "<p>497 rows × 12 columns</p>\n",
       "</div>"
      ],
      "text/plain": [
       "               운영기관              충전소  충전기ID            충전기타입      지역   시군구  \\\n",
       "0    환경부(한국자동차환경협회)       kbs 부산방송총국      1  DC차데모+AC3상+DC콤보  부산광역시   수영구    \n",
       "1    환경부(한국자동차환경협회)       kbs 부산방송총국     11             DC콤보  부산광역시   수영구    \n",
       "2    환경부(한국자동차환경협회)       kbs 부산방송총국     12             DC콤보  부산광역시   수영구    \n",
       "3    환경부(한국자동차환경협회)          국립부산과학관     11             DC콤보  부산광역시   기장군    \n",
       "4    환경부(한국자동차환경협회)          국립부산과학관     12             DC콤보  부산광역시   기장군    \n",
       "..              ...              ...    ...              ...     ...   ...   \n",
       "492             모던텍  유엔공원 EV충전소(맘차지)      1       DC차데모+DC콤보  부산광역시    남구    \n",
       "493             모던텍  유엔공원 EV충전소(맘차지)      2       DC차데모+DC콤보  부산광역시    남구    \n",
       "494             모던텍  유엔공원 EV충전소(맘차지)      3       DC차데모+DC콤보  부산광역시    남구    \n",
       "495             모던텍  유엔공원 EV충전소(맘차지)      4       DC차데모+DC콤보  부산광역시    남구    \n",
       "496          한국전자금융     롯데월드 어드벤처 부산      8       DC차데모+DC콤보  부산광역시   기장군    \n",
       "\n",
       "      행정동                                            주소         이용가능시간  \\\n",
       "0     남천동                             부산광역시 수영구 수영로 429      24시간 이용가능   \n",
       "1     남천동                             부산광역시 수영구 수영로 429      24시간 이용가능   \n",
       "2     남천동                             부산광역시 수영구 수영로 429      24시간 이용가능   \n",
       "3    기장읍                          부산광역시 기장군 기장읍 석산리 293      24시간 이용가능   \n",
       "4    기장읍                          부산광역시 기장군 기장읍 석산리 293      24시간 이용가능   \n",
       "..    ...                                           ...            ...   \n",
       "492   대연동         부산광역시 남구 석포로 134SK 유엔주유소 옆(대연동 949-4)  08:00 ~ 22:00   \n",
       "493   대연동         부산광역시 남구 석포로 134SK 유엔주유소 옆(대연동 949-4)  08:00 ~ 22:00   \n",
       "494   대연동         부산광역시 남구 석포로 134SK 유엔주유소 옆(대연동 949-4)  08:00 ~ 22:00   \n",
       "495   대연동         부산광역시 남구 석포로 134SK 유엔주유소 옆(대연동 949-4)  08:00 ~ 22:00   \n",
       "496  기장읍   부산광역시 기장군 기장읍 동부산관광로 42롯데월드 어드벤처 부산(시랑리 산46)      24시간 이용가능   \n",
       "\n",
       "                     이용자 제한     충전용량  비고  \n",
       "0                       NaN  200kW멀티 NaN  \n",
       "1                       NaN  200kW멀티 NaN  \n",
       "2                       NaN  200kW멀티 NaN  \n",
       "3                       NaN  100kW멀티 NaN  \n",
       "4                       NaN  100kW멀티 NaN  \n",
       "..                      ...      ...  ..  \n",
       "492                     NaN   50kW단독 NaN  \n",
       "493                     NaN   50kW단독 NaN  \n",
       "494                     NaN   50kW단독 NaN  \n",
       "495                     NaN   50kW단독 NaN  \n",
       "496  시설 상황에 따라 이용이 제한될 수 있음   50kW단독 NaN  \n",
       "\n",
       "[497 rows x 12 columns]"
      ]
     },
     "execution_count": 41,
     "metadata": {},
     "output_type": "execute_result"
    }
   ],
   "source": [
    "df_EVCS_standard = df_EVCS[df_EVCS['충전기타입']=='AC완속'].reset_index(drop=True)\n",
    "df_EVCS_fast = df_EVCS[df_EVCS['충전기타입']!='AC완속'].reset_index(drop=True)\n",
    "df_EVCS_fast"
   ]
  },
  {
   "cell_type": "code",
   "execution_count": 42,
   "metadata": {},
   "outputs": [],
   "source": [
    "# 구별 전기차 완속충전기 수\n",
    "EVCS_standard_group = df_EVCS_standard.groupby(by=['시군구','행정동'])\n",
    "\n",
    "# 구별 전기차 급속충전기 수\n",
    "EVCS_fast_group = df_EVCS_fast.groupby(by=['시군구','행정동'])"
   ]
  },
  {
   "cell_type": "markdown",
   "metadata": {},
   "source": [
    "### 전기차 충전기당 전기차 수\n",
    "\n",
    "   충전기 1기당 전기차 수 = 행정구 전기차 수 / 행정구 충전기 수  "
   ]
  },
  {
   "cell_type": "code",
   "execution_count": 43,
   "metadata": {},
   "outputs": [],
   "source": [
    "EV_per_charger = []\n",
    "dong_vehicle = df_vehicle['읍면동'].tolist()\n",
    "dong_EVCS = df_EVCS['행정동'].tolist()\n",
    "dong_EVCS = list(set(dong_EVCS))\n",
    "for dong in dong_vehicle:\n",
    "    if dong in dong_EVCS:           \n",
    "        result = df_vehicle[df_vehicle['읍면동']==dong]['전기'].values[0]  / df_EVCS[df_EVCS['행정동']==dong]['충전기ID'].count()\n",
    "    else:\n",
    "        result = df_vehicle[df_vehicle['읍면동']==dong]['전기'].values[0]\n",
    "    EV_per_charger.append(result)\n",
    "df_vehicle.insert(5,'전기차충전소당 전기차 수', EV_per_charger)"
   ]
  },
  {
   "cell_type": "code",
   "execution_count": 44,
   "metadata": {},
   "outputs": [
    {
     "data": {
      "text/html": [
       "<div>\n",
       "<style scoped>\n",
       "    .dataframe tbody tr th:only-of-type {\n",
       "        vertical-align: middle;\n",
       "    }\n",
       "\n",
       "    .dataframe tbody tr th {\n",
       "        vertical-align: top;\n",
       "    }\n",
       "\n",
       "    .dataframe thead th {\n",
       "        text-align: right;\n",
       "    }\n",
       "</style>\n",
       "<table border=\"1\" class=\"dataframe\">\n",
       "  <thead>\n",
       "    <tr style=\"text-align: right;\">\n",
       "      <th></th>\n",
       "      <th>시도</th>\n",
       "      <th>시군구</th>\n",
       "      <th>읍면동</th>\n",
       "      <th>수소</th>\n",
       "      <th>전기</th>\n",
       "      <th>전기차충전소당 전기차 수</th>\n",
       "    </tr>\n",
       "  </thead>\n",
       "  <tbody>\n",
       "    <tr>\n",
       "      <th>0</th>\n",
       "      <td>부산광역시</td>\n",
       "      <td>강서구</td>\n",
       "      <td>강동동</td>\n",
       "      <td>6</td>\n",
       "      <td>71</td>\n",
       "      <td>14.200000</td>\n",
       "    </tr>\n",
       "    <tr>\n",
       "      <th>1</th>\n",
       "      <td>부산광역시</td>\n",
       "      <td>강서구</td>\n",
       "      <td>구랑동</td>\n",
       "      <td>2</td>\n",
       "      <td>35</td>\n",
       "      <td>17.500000</td>\n",
       "    </tr>\n",
       "    <tr>\n",
       "      <th>2</th>\n",
       "      <td>부산광역시</td>\n",
       "      <td>강서구</td>\n",
       "      <td>녹산동</td>\n",
       "      <td>2</td>\n",
       "      <td>32</td>\n",
       "      <td>32.000000</td>\n",
       "    </tr>\n",
       "    <tr>\n",
       "      <th>3</th>\n",
       "      <td>부산광역시</td>\n",
       "      <td>강서구</td>\n",
       "      <td>눌차동</td>\n",
       "      <td>0</td>\n",
       "      <td>15</td>\n",
       "      <td>15.000000</td>\n",
       "    </tr>\n",
       "    <tr>\n",
       "      <th>4</th>\n",
       "      <td>부산광역시</td>\n",
       "      <td>강서구</td>\n",
       "      <td>대저1동</td>\n",
       "      <td>4</td>\n",
       "      <td>290</td>\n",
       "      <td>24.166667</td>\n",
       "    </tr>\n",
       "    <tr>\n",
       "      <th>...</th>\n",
       "      <td>...</td>\n",
       "      <td>...</td>\n",
       "      <td>...</td>\n",
       "      <td>...</td>\n",
       "      <td>...</td>\n",
       "      <td>...</td>\n",
       "    </tr>\n",
       "    <tr>\n",
       "      <th>132</th>\n",
       "      <td>부산광역시</td>\n",
       "      <td>해운대구</td>\n",
       "      <td>송정동</td>\n",
       "      <td>2</td>\n",
       "      <td>176</td>\n",
       "      <td>3.914894</td>\n",
       "    </tr>\n",
       "    <tr>\n",
       "      <th>133</th>\n",
       "      <td>부산광역시</td>\n",
       "      <td>해운대구</td>\n",
       "      <td>우동</td>\n",
       "      <td>35</td>\n",
       "      <td>5091</td>\n",
       "      <td>10.695378</td>\n",
       "    </tr>\n",
       "    <tr>\n",
       "      <th>134</th>\n",
       "      <td>부산광역시</td>\n",
       "      <td>해운대구</td>\n",
       "      <td>재송동</td>\n",
       "      <td>25</td>\n",
       "      <td>1895</td>\n",
       "      <td>21.292135</td>\n",
       "    </tr>\n",
       "    <tr>\n",
       "      <th>135</th>\n",
       "      <td>부산광역시</td>\n",
       "      <td>해운대구</td>\n",
       "      <td>좌동</td>\n",
       "      <td>32</td>\n",
       "      <td>1902</td>\n",
       "      <td>6.558621</td>\n",
       "    </tr>\n",
       "    <tr>\n",
       "      <th>136</th>\n",
       "      <td>부산광역시</td>\n",
       "      <td>해운대구</td>\n",
       "      <td>중동</td>\n",
       "      <td>24</td>\n",
       "      <td>1175</td>\n",
       "      <td>4.916318</td>\n",
       "    </tr>\n",
       "  </tbody>\n",
       "</table>\n",
       "<p>137 rows × 6 columns</p>\n",
       "</div>"
      ],
      "text/plain": [
       "        시도   시군구   읍면동  수소    전기  전기차충전소당 전기차 수\n",
       "0    부산광역시   강서구   강동동   6    71      14.200000\n",
       "1    부산광역시   강서구   구랑동   2    35      17.500000\n",
       "2    부산광역시   강서구   녹산동   2    32      32.000000\n",
       "3    부산광역시   강서구   눌차동   0    15      15.000000\n",
       "4    부산광역시   강서구  대저1동   4   290      24.166667\n",
       "..     ...   ...   ...  ..   ...            ...\n",
       "132  부산광역시  해운대구   송정동   2   176       3.914894\n",
       "133  부산광역시  해운대구    우동  35  5091      10.695378\n",
       "134  부산광역시  해운대구   재송동  25  1895      21.292135\n",
       "135  부산광역시  해운대구    좌동  32  1902       6.558621\n",
       "136  부산광역시  해운대구    중동  24  1175       4.916318\n",
       "\n",
       "[137 rows x 6 columns]"
      ]
     },
     "execution_count": 44,
     "metadata": {},
     "output_type": "execute_result"
    }
   ],
   "source": [
    "df_vehicle"
   ]
  },
  {
   "cell_type": "code",
   "execution_count": 45,
   "metadata": {},
   "outputs": [
    {
     "data": {
      "application/vnd.plotly.v1+json": {
       "config": {
        "plotlyServerURL": "https://plot.ly"
       },
       "data": [
        {
         "fill": "tozeroy",
         "line": {
          "color": "rgb(239,85,59)"
         },
         "name": "부적합",
         "type": "scatter",
         "x": [
          -26.61206139373434,
          -26.291737541272376,
          -25.971413688810415,
          -25.65108983634845,
          -25.330765983886486,
          -25.010442131424526,
          -24.69011827896256,
          -24.369794426500597,
          -24.049470574038637,
          -23.729146721576672,
          -23.40882286911471,
          -23.088499016652747,
          -22.768175164190783,
          -22.447851311728822,
          -22.127527459266858,
          -21.807203606804897,
          -21.486879754342933,
          -21.16655590188097,
          -20.846232049419008,
          -20.525908196957044,
          -20.20558434449508,
          -19.88526049203312,
          -19.564936639571155,
          -19.24461278710919,
          -18.92428893464723,
          -18.603965082185265,
          -18.2836412297233,
          -17.96331737726134,
          -17.642993524799376,
          -17.322669672337412,
          -17.00234581987545,
          -16.682021967413487,
          -16.361698114951523,
          -16.041374262489562,
          -15.721050410027598,
          -15.400726557565635,
          -15.080402705103673,
          -14.76007885264171,
          -14.439755000179746,
          -14.119431147717783,
          -13.799107295255821,
          -13.478783442793857,
          -13.158459590331894,
          -12.838135737869932,
          -12.51781188540797,
          -12.197488032946005,
          -11.877164180484042,
          -11.55684032802208,
          -11.236516475560116,
          -10.916192623098153,
          -10.59586877063619,
          -10.275544918174226,
          -9.955221065712266,
          -9.634897213250301,
          -9.314573360788337,
          -8.994249508326376,
          -8.673925655864412,
          -8.353601803402448,
          -8.033277950940487,
          -7.712954098478523,
          -7.392630246016562,
          -7.072306393554598,
          -6.751982541092634,
          -6.431658688630673,
          -6.111334836168709,
          -5.7910109837067445,
          -5.470687131244784,
          -5.1503632787828195,
          -4.830039426320855,
          -4.5097155738588945,
          -4.18939172139693,
          -3.8690678689349696,
          -3.5487440164730053,
          -3.228420164011041,
          -2.9080963115490803,
          -2.587772459087116,
          -2.267448606625152,
          -1.947124754163191,
          -1.6268009017012268,
          -1.3064770492392626,
          -0.9861531967773018,
          -0.6658293443153376,
          -0.3455054918533733,
          -0.025181639391412602,
          0.29514221307055166,
          0.6154660655325124,
          0.9357899179944766,
          1.256113770456441,
          1.5764376229184016,
          1.8967614753803659,
          2.21708532784233,
          2.537409180304291,
          2.857733032766255,
          3.1780568852282194,
          3.49838073769018,
          3.8187045901521444,
          4.139028442614109,
          4.459352295076069,
          4.779676147538034,
          5.1
         ],
         "y": [
          0.0037116237329614665,
          0.0037867551446721013,
          0.0038628476742945833,
          0.003939898365750274,
          0.004017903783193051,
          0.004096860003450828,
          0.0041767626086733605,
          0.004257606679196826,
          0.004339386786635784,
          0.00442209698721297,
          0.00450573081533735,
          0.004590281277440915,
          0.004675740846084473,
          0.004762101454342753,
          0.004849354490478976,
          0.00493749079291894,
          0.005026500645534544,
          0.00511637377324663,
          0.005207099337956703,
          0.005298665934817101,
          0.005391061588848895,
          0.005484273751916695,
          0.005578289300069207,
          0.0056730945312543635,
          0.005768675163417404,
          0.005865016332990186,
          0.005962102593779723,
          0.006059917916263579,
          0.006158445687299583,
          0.006257668710256988,
          0.0063575692055758215,
          0.0064581288117609315,
          0.006559328586816874,
          0.0066611490101293825,
          0.006763569984798857,
          0.006866570840430931,
          0.006970130336388734,
          0.007074226665511087,
          0.007178837458300542,
          0.007283939787584593,
          0.0073895101736531155,
          0.007495524589874525,
          0.007601958468792796,
          0.007708786708706905,
          0.007815983680733949,
          0.007923523236356535,
          0.008031378715454703,
          0.008139522954822053,
          0.008247928297165297,
          0.008356566600585966,
          0.0084654092485424,
          0.008574427160289796,
          0.008683590801795382,
          0.008792870197125421,
          0.00890223494030013,
          0.009011654207612116,
          0.009121096770403373,
          0.00923053100829538,
          0.009339924922866302,
          0.009449246151768752,
          0.009558461983281044,
          0.00966753937128442,
          0.009776444950658016,
          0.009885145053083086,
          0.009993605723247215,
          0.010101792735438925,
          0.010209671610522535,
          0.010317207633282508,
          0.010424365870126264,
          0.010531111187133698,
          0.010637408268441388,
          0.010743221634948796,
          0.010848515663333532,
          0.010953254605362095,
          0.011057402607482222,
          0.011160923730682466,
          0.011263781970604247,
          0.011365941277891194,
          0.011467365578760274,
          0.011568018795778737,
          0.011667864868830643,
          0.011766867776256322,
          0.011864991556147883,
          0.011962200327783458,
          0.012058458313182733,
          0.012153729858765871,
          0.012247979457097876,
          0.012341171768699984,
          0.01243327164390972,
          0.012524244144770814,
          0.01261405456693414,
          0.012702668461550682,
          0.012790051657137319,
          0.012876170281396208,
          0.01296099078296838,
          0.013044479953102131,
          0.013126604947216746,
          0.013207333306342028,
          0.013286632978414207,
          0.013364472339408679
         ]
        },
        {
         "fill": "tozeroy",
         "line": {
          "color": "rgb(100,110,250)"
         },
         "name": "적합",
         "type": "scatter",
         "x": [
          5.1,
          7.296520763187429,
          9.49304152637486,
          11.68956228956229,
          13.886083052749719,
          16.082603815937148,
          18.279124579124577,
          20.475645342312006,
          22.672166105499436,
          24.868686868686865,
          27.065207631874294,
          29.261728395061724,
          31.45824915824916,
          33.65476992143659,
          35.85129068462402,
          38.04781144781145,
          40.24433221099888,
          42.440852974186306,
          44.637373737373736,
          46.833894500561165,
          49.030415263748594,
          51.22693602693602,
          53.42345679012345,
          55.61997755331088,
          57.81649831649832,
          60.01301907968575,
          62.20953984287318,
          64.4060606060606,
          66.60258136924803,
          68.79910213243546,
          70.99562289562289,
          73.19214365881031,
          75.38866442199775,
          77.58518518518518,
          79.7817059483726,
          81.97822671156004,
          84.17474747474746,
          86.3712682379349,
          88.56778900112232,
          90.76430976430976,
          92.96083052749718,
          95.15735129068462,
          97.35387205387204,
          99.55039281705947,
          101.7469135802469,
          103.94343434343433,
          106.13995510662176,
          108.33647586980919,
          110.53299663299663,
          112.72951739618405,
          114.92603815937149,
          117.12255892255891,
          119.31907968574635,
          121.51560044893377,
          123.7121212121212,
          125.90864197530863,
          128.10516273849606,
          130.3016835016835,
          132.49820426487094,
          134.69472502805834,
          136.89124579124578,
          139.08776655443322,
          141.28428731762062,
          143.48080808080806,
          145.6773288439955,
          147.87384960718293,
          150.07037037037037,
          152.26689113355778,
          154.4634118967452,
          156.65993265993265,
          158.8564534231201,
          161.0529741863075,
          163.24949494949493,
          165.44601571268237,
          167.6425364758698,
          169.8390572390572,
          172.03557800224465,
          174.23209876543208,
          176.42861952861952,
          178.62514029180693,
          180.82166105499437,
          183.0181818181818,
          185.21470258136924,
          187.41122334455667,
          189.60774410774408,
          191.80426487093152,
          194.00078563411896,
          196.1973063973064,
          198.3938271604938,
          200.59034792368124,
          202.78686868686867,
          204.9833894500561,
          207.17991021324352,
          209.37643097643095,
          211.5729517396184,
          213.76947250280583,
          215.96599326599326,
          218.16251402918067,
          220.3590347923681,
          222.55555555555554
         ],
         "y": [
          0.013364472339408679,
          0.013856469478195677,
          0.01426903762487166,
          0.014594126198845182,
          0.014825277534930598,
          0.01495784015204413,
          0.014989124398872929,
          0.01491849320183255,
          0.014747383638459973,
          0.014479258315789322,
          0.014119488851577808,
          0.01367517693525884,
          0.013154921294266866,
          0.012568541243255918,
          0.011926769218233484,
          0.011240925709202312,
          0.010522590267910734,
          0.009783281796906846,
          0.009034160185022672,
          0.008285759646237897,
          0.007547761978299992,
          0.006828815538831558,
          0.006136403201535737,
          0.005476760060346461,
          0.004854839336268842,
          0.00427432292732317,
          0.0037376714133132345,
          0.0032462071375631784,
          0.002800223257115286,
          0.002399111369609355,
          0.002041500450710917,
          0.0017254003110910676,
          0.001448343532975273,
          0.0012075207923491036,
          0.0009999055325580059,
          0.0008223650518051637,
          0.0006717561339523925,
          0.0005450043346251289,
          0.0004391668926729354,
          0.0003514799448280763,
          0.00027939126695964773,
          0.00022058014873761958,
          0.00017296623973575657,
          0.00013470930125164556,
          0.00010420178136928477,
          0.00008005602531778311,
          0.00006108776350874115,
          0.00004629730885750939,
          0.00003484966357063813,
          0.0000260545005900405,
          0.000019346759674335276,
          0.000014268392294973542,
          0.000010451609293610459,
          0.000007603833735668651,
          0.000005494439281472802,
          0.000003943260472146423,
          0.000002810793062337744,
          0.0000019899565834192882,
          0.0000013992639650335905,
          9.772305142129878e-7,
          6.778532919852814e-7,
          4.669987523163493e-7,
          3.195486974517621e-7,
          2.171699361152372e-7,
          1.4658977430982736e-7,
          9.82763389343958e-8,
          6.54388386563964e-8,
          4.3277634802003565e-8,
          2.8427114116626766e-8,
          1.8545705057253436e-8,
          1.2016977417876636e-8,
          7.733720315368602e-9,
          4.943368657639118e-9,
          3.1383318037668614e-9,
          1.9788644058978773e-9,
          1.2392945401949424e-9,
          7.708579514419786e-10,
          4.762286261256098e-10,
          2.92211940783249e-10,
          1.7808270375930596e-10,
          1.0779207779086965e-10,
          6.480272471367129e-11,
          3.869376686485593e-11,
          2.2947219781270182e-11,
          1.3516382095585878e-11,
          7.907371920849312e-12,
          4.594573386178233e-12,
          2.6515482826330455e-12,
          1.5198306808951514e-12,
          8.652312480540279e-13,
          4.892270983563703e-13,
          2.747452129835443e-13,
          1.532466834918773e-13,
          8.489719771346204e-14,
          4.671291258908898e-14,
          2.5528297881067887e-14,
          1.3856325970154474e-14,
          7.469914740447552e-15,
          3.9996733002675256e-15,
          2.1270353786508352e-15
         ]
        }
       ],
       "layout": {
        "annotations": [
         {
          "bordercolor": "rgb(239,85,59)",
          "borderwidth": 2,
          "font": {
           "color": "rgb(239,85,59)",
           "size": 15
          },
          "showarrow": false,
          "text": "0.269",
          "x": 5.1,
          "xshift": -40,
          "y": 0.013364472339408679,
          "yshift": -100
         },
         {
          "bordercolor": "rgb(100,110,250)",
          "borderwidth": 2,
          "font": {
           "color": "rgb(100,110,250)",
           "size": 15
          },
          "showarrow": false,
          "text": "0.731",
          "x": 5.1,
          "xshift": 40,
          "y": 0.013364472339408679,
          "yshift": -100
         }
        ],
        "template": {
         "data": {
          "bar": [
           {
            "error_x": {
             "color": "#2a3f5f"
            },
            "error_y": {
             "color": "#2a3f5f"
            },
            "marker": {
             "line": {
              "color": "#E5ECF6",
              "width": 0.5
             },
             "pattern": {
              "fillmode": "overlay",
              "size": 10,
              "solidity": 0.2
             }
            },
            "type": "bar"
           }
          ],
          "barpolar": [
           {
            "marker": {
             "line": {
              "color": "#E5ECF6",
              "width": 0.5
             },
             "pattern": {
              "fillmode": "overlay",
              "size": 10,
              "solidity": 0.2
             }
            },
            "type": "barpolar"
           }
          ],
          "carpet": [
           {
            "aaxis": {
             "endlinecolor": "#2a3f5f",
             "gridcolor": "white",
             "linecolor": "white",
             "minorgridcolor": "white",
             "startlinecolor": "#2a3f5f"
            },
            "baxis": {
             "endlinecolor": "#2a3f5f",
             "gridcolor": "white",
             "linecolor": "white",
             "minorgridcolor": "white",
             "startlinecolor": "#2a3f5f"
            },
            "type": "carpet"
           }
          ],
          "choropleth": [
           {
            "colorbar": {
             "outlinewidth": 0,
             "ticks": ""
            },
            "type": "choropleth"
           }
          ],
          "contour": [
           {
            "colorbar": {
             "outlinewidth": 0,
             "ticks": ""
            },
            "colorscale": [
             [
              0,
              "#0d0887"
             ],
             [
              0.1111111111111111,
              "#46039f"
             ],
             [
              0.2222222222222222,
              "#7201a8"
             ],
             [
              0.3333333333333333,
              "#9c179e"
             ],
             [
              0.4444444444444444,
              "#bd3786"
             ],
             [
              0.5555555555555556,
              "#d8576b"
             ],
             [
              0.6666666666666666,
              "#ed7953"
             ],
             [
              0.7777777777777778,
              "#fb9f3a"
             ],
             [
              0.8888888888888888,
              "#fdca26"
             ],
             [
              1,
              "#f0f921"
             ]
            ],
            "type": "contour"
           }
          ],
          "contourcarpet": [
           {
            "colorbar": {
             "outlinewidth": 0,
             "ticks": ""
            },
            "type": "contourcarpet"
           }
          ],
          "heatmap": [
           {
            "colorbar": {
             "outlinewidth": 0,
             "ticks": ""
            },
            "colorscale": [
             [
              0,
              "#0d0887"
             ],
             [
              0.1111111111111111,
              "#46039f"
             ],
             [
              0.2222222222222222,
              "#7201a8"
             ],
             [
              0.3333333333333333,
              "#9c179e"
             ],
             [
              0.4444444444444444,
              "#bd3786"
             ],
             [
              0.5555555555555556,
              "#d8576b"
             ],
             [
              0.6666666666666666,
              "#ed7953"
             ],
             [
              0.7777777777777778,
              "#fb9f3a"
             ],
             [
              0.8888888888888888,
              "#fdca26"
             ],
             [
              1,
              "#f0f921"
             ]
            ],
            "type": "heatmap"
           }
          ],
          "heatmapgl": [
           {
            "colorbar": {
             "outlinewidth": 0,
             "ticks": ""
            },
            "colorscale": [
             [
              0,
              "#0d0887"
             ],
             [
              0.1111111111111111,
              "#46039f"
             ],
             [
              0.2222222222222222,
              "#7201a8"
             ],
             [
              0.3333333333333333,
              "#9c179e"
             ],
             [
              0.4444444444444444,
              "#bd3786"
             ],
             [
              0.5555555555555556,
              "#d8576b"
             ],
             [
              0.6666666666666666,
              "#ed7953"
             ],
             [
              0.7777777777777778,
              "#fb9f3a"
             ],
             [
              0.8888888888888888,
              "#fdca26"
             ],
             [
              1,
              "#f0f921"
             ]
            ],
            "type": "heatmapgl"
           }
          ],
          "histogram": [
           {
            "marker": {
             "pattern": {
              "fillmode": "overlay",
              "size": 10,
              "solidity": 0.2
             }
            },
            "type": "histogram"
           }
          ],
          "histogram2d": [
           {
            "colorbar": {
             "outlinewidth": 0,
             "ticks": ""
            },
            "colorscale": [
             [
              0,
              "#0d0887"
             ],
             [
              0.1111111111111111,
              "#46039f"
             ],
             [
              0.2222222222222222,
              "#7201a8"
             ],
             [
              0.3333333333333333,
              "#9c179e"
             ],
             [
              0.4444444444444444,
              "#bd3786"
             ],
             [
              0.5555555555555556,
              "#d8576b"
             ],
             [
              0.6666666666666666,
              "#ed7953"
             ],
             [
              0.7777777777777778,
              "#fb9f3a"
             ],
             [
              0.8888888888888888,
              "#fdca26"
             ],
             [
              1,
              "#f0f921"
             ]
            ],
            "type": "histogram2d"
           }
          ],
          "histogram2dcontour": [
           {
            "colorbar": {
             "outlinewidth": 0,
             "ticks": ""
            },
            "colorscale": [
             [
              0,
              "#0d0887"
             ],
             [
              0.1111111111111111,
              "#46039f"
             ],
             [
              0.2222222222222222,
              "#7201a8"
             ],
             [
              0.3333333333333333,
              "#9c179e"
             ],
             [
              0.4444444444444444,
              "#bd3786"
             ],
             [
              0.5555555555555556,
              "#d8576b"
             ],
             [
              0.6666666666666666,
              "#ed7953"
             ],
             [
              0.7777777777777778,
              "#fb9f3a"
             ],
             [
              0.8888888888888888,
              "#fdca26"
             ],
             [
              1,
              "#f0f921"
             ]
            ],
            "type": "histogram2dcontour"
           }
          ],
          "mesh3d": [
           {
            "colorbar": {
             "outlinewidth": 0,
             "ticks": ""
            },
            "type": "mesh3d"
           }
          ],
          "parcoords": [
           {
            "line": {
             "colorbar": {
              "outlinewidth": 0,
              "ticks": ""
             }
            },
            "type": "parcoords"
           }
          ],
          "pie": [
           {
            "automargin": true,
            "type": "pie"
           }
          ],
          "scatter": [
           {
            "marker": {
             "colorbar": {
              "outlinewidth": 0,
              "ticks": ""
             }
            },
            "type": "scatter"
           }
          ],
          "scatter3d": [
           {
            "line": {
             "colorbar": {
              "outlinewidth": 0,
              "ticks": ""
             }
            },
            "marker": {
             "colorbar": {
              "outlinewidth": 0,
              "ticks": ""
             }
            },
            "type": "scatter3d"
           }
          ],
          "scattercarpet": [
           {
            "marker": {
             "colorbar": {
              "outlinewidth": 0,
              "ticks": ""
             }
            },
            "type": "scattercarpet"
           }
          ],
          "scattergeo": [
           {
            "marker": {
             "colorbar": {
              "outlinewidth": 0,
              "ticks": ""
             }
            },
            "type": "scattergeo"
           }
          ],
          "scattergl": [
           {
            "marker": {
             "colorbar": {
              "outlinewidth": 0,
              "ticks": ""
             }
            },
            "type": "scattergl"
           }
          ],
          "scattermapbox": [
           {
            "marker": {
             "colorbar": {
              "outlinewidth": 0,
              "ticks": ""
             }
            },
            "type": "scattermapbox"
           }
          ],
          "scatterpolar": [
           {
            "marker": {
             "colorbar": {
              "outlinewidth": 0,
              "ticks": ""
             }
            },
            "type": "scatterpolar"
           }
          ],
          "scatterpolargl": [
           {
            "marker": {
             "colorbar": {
              "outlinewidth": 0,
              "ticks": ""
             }
            },
            "type": "scatterpolargl"
           }
          ],
          "scatterternary": [
           {
            "marker": {
             "colorbar": {
              "outlinewidth": 0,
              "ticks": ""
             }
            },
            "type": "scatterternary"
           }
          ],
          "surface": [
           {
            "colorbar": {
             "outlinewidth": 0,
             "ticks": ""
            },
            "colorscale": [
             [
              0,
              "#0d0887"
             ],
             [
              0.1111111111111111,
              "#46039f"
             ],
             [
              0.2222222222222222,
              "#7201a8"
             ],
             [
              0.3333333333333333,
              "#9c179e"
             ],
             [
              0.4444444444444444,
              "#bd3786"
             ],
             [
              0.5555555555555556,
              "#d8576b"
             ],
             [
              0.6666666666666666,
              "#ed7953"
             ],
             [
              0.7777777777777778,
              "#fb9f3a"
             ],
             [
              0.8888888888888888,
              "#fdca26"
             ],
             [
              1,
              "#f0f921"
             ]
            ],
            "type": "surface"
           }
          ],
          "table": [
           {
            "cells": {
             "fill": {
              "color": "#EBF0F8"
             },
             "line": {
              "color": "white"
             }
            },
            "header": {
             "fill": {
              "color": "#C8D4E3"
             },
             "line": {
              "color": "white"
             }
            },
            "type": "table"
           }
          ]
         },
         "layout": {
          "annotationdefaults": {
           "arrowcolor": "#2a3f5f",
           "arrowhead": 0,
           "arrowwidth": 1
          },
          "autotypenumbers": "strict",
          "coloraxis": {
           "colorbar": {
            "outlinewidth": 0,
            "ticks": ""
           }
          },
          "colorscale": {
           "diverging": [
            [
             0,
             "#8e0152"
            ],
            [
             0.1,
             "#c51b7d"
            ],
            [
             0.2,
             "#de77ae"
            ],
            [
             0.3,
             "#f1b6da"
            ],
            [
             0.4,
             "#fde0ef"
            ],
            [
             0.5,
             "#f7f7f7"
            ],
            [
             0.6,
             "#e6f5d0"
            ],
            [
             0.7,
             "#b8e186"
            ],
            [
             0.8,
             "#7fbc41"
            ],
            [
             0.9,
             "#4d9221"
            ],
            [
             1,
             "#276419"
            ]
           ],
           "sequential": [
            [
             0,
             "#0d0887"
            ],
            [
             0.1111111111111111,
             "#46039f"
            ],
            [
             0.2222222222222222,
             "#7201a8"
            ],
            [
             0.3333333333333333,
             "#9c179e"
            ],
            [
             0.4444444444444444,
             "#bd3786"
            ],
            [
             0.5555555555555556,
             "#d8576b"
            ],
            [
             0.6666666666666666,
             "#ed7953"
            ],
            [
             0.7777777777777778,
             "#fb9f3a"
            ],
            [
             0.8888888888888888,
             "#fdca26"
            ],
            [
             1,
             "#f0f921"
            ]
           ],
           "sequentialminus": [
            [
             0,
             "#0d0887"
            ],
            [
             0.1111111111111111,
             "#46039f"
            ],
            [
             0.2222222222222222,
             "#7201a8"
            ],
            [
             0.3333333333333333,
             "#9c179e"
            ],
            [
             0.4444444444444444,
             "#bd3786"
            ],
            [
             0.5555555555555556,
             "#d8576b"
            ],
            [
             0.6666666666666666,
             "#ed7953"
            ],
            [
             0.7777777777777778,
             "#fb9f3a"
            ],
            [
             0.8888888888888888,
             "#fdca26"
            ],
            [
             1,
             "#f0f921"
            ]
           ]
          },
          "colorway": [
           "#636efa",
           "#EF553B",
           "#00cc96",
           "#ab63fa",
           "#FFA15A",
           "#19d3f3",
           "#FF6692",
           "#B6E880",
           "#FF97FF",
           "#FECB52"
          ],
          "font": {
           "color": "#2a3f5f"
          },
          "geo": {
           "bgcolor": "white",
           "lakecolor": "white",
           "landcolor": "#E5ECF6",
           "showlakes": true,
           "showland": true,
           "subunitcolor": "white"
          },
          "hoverlabel": {
           "align": "left"
          },
          "hovermode": "closest",
          "mapbox": {
           "style": "light"
          },
          "paper_bgcolor": "white",
          "plot_bgcolor": "#E5ECF6",
          "polar": {
           "angularaxis": {
            "gridcolor": "white",
            "linecolor": "white",
            "ticks": ""
           },
           "bgcolor": "#E5ECF6",
           "radialaxis": {
            "gridcolor": "white",
            "linecolor": "white",
            "ticks": ""
           }
          },
          "scene": {
           "xaxis": {
            "backgroundcolor": "#E5ECF6",
            "gridcolor": "white",
            "gridwidth": 2,
            "linecolor": "white",
            "showbackground": true,
            "ticks": "",
            "zerolinecolor": "white"
           },
           "yaxis": {
            "backgroundcolor": "#E5ECF6",
            "gridcolor": "white",
            "gridwidth": 2,
            "linecolor": "white",
            "showbackground": true,
            "ticks": "",
            "zerolinecolor": "white"
           },
           "zaxis": {
            "backgroundcolor": "#E5ECF6",
            "gridcolor": "white",
            "gridwidth": 2,
            "linecolor": "white",
            "showbackground": true,
            "ticks": "",
            "zerolinecolor": "white"
           }
          },
          "shapedefaults": {
           "line": {
            "color": "#2a3f5f"
           }
          },
          "ternary": {
           "aaxis": {
            "gridcolor": "white",
            "linecolor": "white",
            "ticks": ""
           },
           "baxis": {
            "gridcolor": "white",
            "linecolor": "white",
            "ticks": ""
           },
           "bgcolor": "#E5ECF6",
           "caxis": {
            "gridcolor": "white",
            "linecolor": "white",
            "ticks": ""
           }
          },
          "title": {
           "x": 0.05
          },
          "xaxis": {
           "automargin": true,
           "gridcolor": "white",
           "linecolor": "white",
           "ticks": "",
           "title": {
            "standoff": 15
           },
           "zerolinecolor": "white",
           "zerolinewidth": 2
          },
          "yaxis": {
           "automargin": true,
           "gridcolor": "white",
           "linecolor": "white",
           "ticks": "",
           "title": {
            "standoff": 15
           },
           "zerolinecolor": "white",
           "zerolinewidth": 2
          }
         }
        },
        "yaxis": {
         "visible": false
        }
       }
      }
     },
     "metadata": {},
     "output_type": "display_data"
    }
   ],
   "source": [
    "EV_per_charger_pro, EV_per_charger_pro_negative = cal_norm(df_vehicle['전기차충전소당 전기차 수'].mean(),\n",
    "                                                           df_vehicle['전기차충전소당 전기차 수'].std(),\n",
    "                                                           df_vehicle['전기차충전소당 전기차 수'].min(),\n",
    "                                                           df_vehicle['전기차충전소당 전기차 수'].max(),\n",
    "                                                           EV_per_charger_standard,\n",
    "                                                           False)"
   ]
  },
  {
   "cell_type": "markdown",
   "metadata": {},
   "source": [
    "### 전기차 충전소 이용률 계산"
   ]
  },
  {
   "cell_type": "code",
   "execution_count": 46,
   "metadata": {},
   "outputs": [
    {
     "data": {
      "text/html": [
       "<div>\n",
       "<style scoped>\n",
       "    .dataframe tbody tr th:only-of-type {\n",
       "        vertical-align: middle;\n",
       "    }\n",
       "\n",
       "    .dataframe tbody tr th {\n",
       "        vertical-align: top;\n",
       "    }\n",
       "\n",
       "    .dataframe thead th {\n",
       "        text-align: right;\n",
       "    }\n",
       "</style>\n",
       "<table border=\"1\" class=\"dataframe\">\n",
       "  <thead>\n",
       "    <tr style=\"text-align: right;\">\n",
       "      <th></th>\n",
       "      <th>statNm</th>\n",
       "      <th>statId</th>\n",
       "      <th>chgerId</th>\n",
       "      <th>chgerType</th>\n",
       "      <th>addr</th>\n",
       "      <th>region_2depth_name</th>\n",
       "      <th>region_3depth_name</th>\n",
       "      <th>lat</th>\n",
       "      <th>lng</th>\n",
       "      <th>useTime</th>\n",
       "      <th>...</th>\n",
       "      <th>lastTsdt</th>\n",
       "      <th>lastTedt</th>\n",
       "      <th>nowTsdt</th>\n",
       "      <th>output</th>\n",
       "      <th>method</th>\n",
       "      <th>zcode</th>\n",
       "      <th>zscode</th>\n",
       "      <th>kind</th>\n",
       "      <th>kindDetail</th>\n",
       "      <th>parkingFree</th>\n",
       "    </tr>\n",
       "  </thead>\n",
       "  <tbody>\n",
       "    <tr>\n",
       "      <th>74</th>\n",
       "      <td>대저역 (대저차량기지)</td>\n",
       "      <td>ME20C190</td>\n",
       "      <td>91</td>\n",
       "      <td>4</td>\n",
       "      <td>부산광역시 강서구 대저1동 1619</td>\n",
       "      <td>강서구</td>\n",
       "      <td>대저1동</td>\n",
       "      <td>35.213220</td>\n",
       "      <td>128.954243</td>\n",
       "      <td>24시간 이용가능</td>\n",
       "      <td>...</td>\n",
       "      <td>2.020000e+13</td>\n",
       "      <td>2.020000e+13</td>\n",
       "      <td>NaN</td>\n",
       "      <td>100</td>\n",
       "      <td>단독</td>\n",
       "      <td>26</td>\n",
       "      <td>26440.0</td>\n",
       "      <td>A0</td>\n",
       "      <td>A003</td>\n",
       "      <td>Y</td>\n",
       "    </tr>\n",
       "    <tr>\n",
       "      <th>118</th>\n",
       "      <td>(주)응카</td>\n",
       "      <td>KE000593</td>\n",
       "      <td>1</td>\n",
       "      <td>4</td>\n",
       "      <td>부산광역시 강서구 대저중앙로394번길 32</td>\n",
       "      <td>강서구</td>\n",
       "      <td>대저1동</td>\n",
       "      <td>35.219401</td>\n",
       "      <td>128.988252</td>\n",
       "      <td>주중 08:00~19:00, 주말 09:00~18:00</td>\n",
       "      <td>...</td>\n",
       "      <td>2.020000e+13</td>\n",
       "      <td>2.020000e+13</td>\n",
       "      <td>2.020000e+13</td>\n",
       "      <td>100</td>\n",
       "      <td>동시</td>\n",
       "      <td>26</td>\n",
       "      <td>26440.0</td>\n",
       "      <td>H0</td>\n",
       "      <td>H003</td>\n",
       "      <td>Y</td>\n",
       "    </tr>\n",
       "    <tr>\n",
       "      <th>119</th>\n",
       "      <td>(주)응카</td>\n",
       "      <td>KE000593</td>\n",
       "      <td>2</td>\n",
       "      <td>4</td>\n",
       "      <td>부산광역시 강서구 대저중앙로394번길 32</td>\n",
       "      <td>강서구</td>\n",
       "      <td>대저1동</td>\n",
       "      <td>35.219401</td>\n",
       "      <td>128.988252</td>\n",
       "      <td>주중 08:00~19:00, 주말 09:00~18:00</td>\n",
       "      <td>...</td>\n",
       "      <td>2.020000e+13</td>\n",
       "      <td>2.020000e+13</td>\n",
       "      <td>2.020000e+13</td>\n",
       "      <td>100</td>\n",
       "      <td>동시</td>\n",
       "      <td>26</td>\n",
       "      <td>26440.0</td>\n",
       "      <td>H0</td>\n",
       "      <td>H003</td>\n",
       "      <td>Y</td>\n",
       "    </tr>\n",
       "    <tr>\n",
       "      <th>266</th>\n",
       "      <td>대저역 (대저차량기지)</td>\n",
       "      <td>ME20C190</td>\n",
       "      <td>91</td>\n",
       "      <td>4</td>\n",
       "      <td>부산광역시 강서구 대저1동 1619</td>\n",
       "      <td>강서구</td>\n",
       "      <td>대저1동</td>\n",
       "      <td>35.213220</td>\n",
       "      <td>128.954243</td>\n",
       "      <td>24시간 이용가능</td>\n",
       "      <td>...</td>\n",
       "      <td>2.020000e+13</td>\n",
       "      <td>2.020000e+13</td>\n",
       "      <td>NaN</td>\n",
       "      <td>100</td>\n",
       "      <td>단독</td>\n",
       "      <td>26</td>\n",
       "      <td>26440.0</td>\n",
       "      <td>A0</td>\n",
       "      <td>A003</td>\n",
       "      <td>Y</td>\n",
       "    </tr>\n",
       "    <tr>\n",
       "      <th>311</th>\n",
       "      <td>(주)응카</td>\n",
       "      <td>KE000593</td>\n",
       "      <td>1</td>\n",
       "      <td>4</td>\n",
       "      <td>부산광역시 강서구 대저중앙로394번길 32</td>\n",
       "      <td>강서구</td>\n",
       "      <td>대저1동</td>\n",
       "      <td>35.219401</td>\n",
       "      <td>128.988252</td>\n",
       "      <td>주중 08:00~19:00, 주말 09:00~18:00</td>\n",
       "      <td>...</td>\n",
       "      <td>2.020000e+13</td>\n",
       "      <td>2.020000e+13</td>\n",
       "      <td>2.020000e+13</td>\n",
       "      <td>100</td>\n",
       "      <td>동시</td>\n",
       "      <td>26</td>\n",
       "      <td>26440.0</td>\n",
       "      <td>H0</td>\n",
       "      <td>H003</td>\n",
       "      <td>Y</td>\n",
       "    </tr>\n",
       "    <tr>\n",
       "      <th>...</th>\n",
       "      <td>...</td>\n",
       "      <td>...</td>\n",
       "      <td>...</td>\n",
       "      <td>...</td>\n",
       "      <td>...</td>\n",
       "      <td>...</td>\n",
       "      <td>...</td>\n",
       "      <td>...</td>\n",
       "      <td>...</td>\n",
       "      <td>...</td>\n",
       "      <td>...</td>\n",
       "      <td>...</td>\n",
       "      <td>...</td>\n",
       "      <td>...</td>\n",
       "      <td>...</td>\n",
       "      <td>...</td>\n",
       "      <td>...</td>\n",
       "      <td>...</td>\n",
       "      <td>...</td>\n",
       "      <td>...</td>\n",
       "      <td>...</td>\n",
       "    </tr>\n",
       "    <tr>\n",
       "      <th>6791</th>\n",
       "      <td>부산달맞이주유소</td>\n",
       "      <td>GS000075</td>\n",
       "      <td>2</td>\n",
       "      <td>4</td>\n",
       "      <td>부산광역시 해운대구 달맞이길 57</td>\n",
       "      <td>해운대구</td>\n",
       "      <td>중동</td>\n",
       "      <td>35.161533</td>\n",
       "      <td>129.171133</td>\n",
       "      <td>24시간 이용가능</td>\n",
       "      <td>...</td>\n",
       "      <td>2.020000e+13</td>\n",
       "      <td>2.020000e+13</td>\n",
       "      <td>2.020000e+13</td>\n",
       "      <td>200</td>\n",
       "      <td>단독</td>\n",
       "      <td>26</td>\n",
       "      <td>26350.0</td>\n",
       "      <td>E0</td>\n",
       "      <td>E007</td>\n",
       "      <td>Y</td>\n",
       "    </tr>\n",
       "    <tr>\n",
       "      <th>6890</th>\n",
       "      <td>중동역 공영주차장</td>\n",
       "      <td>ME174114</td>\n",
       "      <td>1</td>\n",
       "      <td>6</td>\n",
       "      <td>부산광역시 해운대구 해운대로 731</td>\n",
       "      <td>해운대구</td>\n",
       "      <td>중동</td>\n",
       "      <td>35.166826</td>\n",
       "      <td>129.169979</td>\n",
       "      <td>24시간 이용가능</td>\n",
       "      <td>...</td>\n",
       "      <td>2.020000e+13</td>\n",
       "      <td>2.020000e+13</td>\n",
       "      <td>2.020000e+13</td>\n",
       "      <td>50</td>\n",
       "      <td>단독</td>\n",
       "      <td>26</td>\n",
       "      <td>26350.0</td>\n",
       "      <td>B0</td>\n",
       "      <td>B001</td>\n",
       "      <td>N</td>\n",
       "    </tr>\n",
       "    <tr>\n",
       "      <th>6907</th>\n",
       "      <td>이마트 해운대점</td>\n",
       "      <td>ME184074</td>\n",
       "      <td>1</td>\n",
       "      <td>6</td>\n",
       "      <td>부산광역시 해운대구 좌동순환로 511</td>\n",
       "      <td>해운대구</td>\n",
       "      <td>중동</td>\n",
       "      <td>35.165994</td>\n",
       "      <td>129.167388</td>\n",
       "      <td>10:00~24:00</td>\n",
       "      <td>...</td>\n",
       "      <td>2.020000e+13</td>\n",
       "      <td>2.020000e+13</td>\n",
       "      <td>NaN</td>\n",
       "      <td>50</td>\n",
       "      <td>단독</td>\n",
       "      <td>26</td>\n",
       "      <td>26350.0</td>\n",
       "      <td>E0</td>\n",
       "      <td>E001</td>\n",
       "      <td>Y</td>\n",
       "    </tr>\n",
       "    <tr>\n",
       "      <th>6980</th>\n",
       "      <td>부산달맞이주유소</td>\n",
       "      <td>GS000075</td>\n",
       "      <td>1</td>\n",
       "      <td>4</td>\n",
       "      <td>부산광역시 해운대구 달맞이길 57</td>\n",
       "      <td>해운대구</td>\n",
       "      <td>중동</td>\n",
       "      <td>35.161533</td>\n",
       "      <td>129.171133</td>\n",
       "      <td>24시간 이용가능</td>\n",
       "      <td>...</td>\n",
       "      <td>2.020000e+13</td>\n",
       "      <td>2.020000e+13</td>\n",
       "      <td>2.020000e+13</td>\n",
       "      <td>200</td>\n",
       "      <td>단독</td>\n",
       "      <td>26</td>\n",
       "      <td>26350.0</td>\n",
       "      <td>E0</td>\n",
       "      <td>E007</td>\n",
       "      <td>Y</td>\n",
       "    </tr>\n",
       "    <tr>\n",
       "      <th>6981</th>\n",
       "      <td>부산달맞이주유소</td>\n",
       "      <td>GS000075</td>\n",
       "      <td>2</td>\n",
       "      <td>4</td>\n",
       "      <td>부산광역시 해운대구 달맞이길 57</td>\n",
       "      <td>해운대구</td>\n",
       "      <td>중동</td>\n",
       "      <td>35.161533</td>\n",
       "      <td>129.171133</td>\n",
       "      <td>24시간 이용가능</td>\n",
       "      <td>...</td>\n",
       "      <td>2.020000e+13</td>\n",
       "      <td>2.020000e+13</td>\n",
       "      <td>2.020000e+13</td>\n",
       "      <td>200</td>\n",
       "      <td>단독</td>\n",
       "      <td>26</td>\n",
       "      <td>26350.0</td>\n",
       "      <td>E0</td>\n",
       "      <td>E007</td>\n",
       "      <td>Y</td>\n",
       "    </tr>\n",
       "  </tbody>\n",
       "</table>\n",
       "<p>7068 rows × 26 columns</p>\n",
       "</div>"
      ],
      "text/plain": [
       "             statNm    statId  chgerId  chgerType                     addr  \\\n",
       "74    대저역 (대저차량기지)   ME20C190       91          4      부산광역시 강서구 대저1동 1619   \n",
       "118           (주)응카  KE000593        1          4  부산광역시 강서구 대저중앙로394번길 32   \n",
       "119           (주)응카  KE000593        2          4  부산광역시 강서구 대저중앙로394번길 32   \n",
       "266   대저역 (대저차량기지)   ME20C190       91          4      부산광역시 강서구 대저1동 1619   \n",
       "311           (주)응카  KE000593        1          4  부산광역시 강서구 대저중앙로394번길 32   \n",
       "...             ...       ...      ...        ...                      ...   \n",
       "6791       부산달맞이주유소  GS000075        2          4       부산광역시 해운대구 달맞이길 57   \n",
       "6890      중동역 공영주차장  ME174114        1          6      부산광역시 해운대구 해운대로 731   \n",
       "6907       이마트 해운대점  ME184074        1          6     부산광역시 해운대구 좌동순환로 511   \n",
       "6980       부산달맞이주유소  GS000075        1          4       부산광역시 해운대구 달맞이길 57   \n",
       "6981       부산달맞이주유소  GS000075        2          4       부산광역시 해운대구 달맞이길 57   \n",
       "\n",
       "     region_2depth_name region_3depth_name        lat         lng  \\\n",
       "74                  강서구               대저1동  35.213220  128.954243   \n",
       "118                 강서구               대저1동  35.219401  128.988252   \n",
       "119                 강서구               대저1동  35.219401  128.988252   \n",
       "266                 강서구               대저1동  35.213220  128.954243   \n",
       "311                 강서구               대저1동  35.219401  128.988252   \n",
       "...                 ...                ...        ...         ...   \n",
       "6791               해운대구                 중동  35.161533  129.171133   \n",
       "6890               해운대구                 중동  35.166826  129.169979   \n",
       "6907               해운대구                 중동  35.165994  129.167388   \n",
       "6980               해운대구                 중동  35.161533  129.171133   \n",
       "6981               해운대구                 중동  35.161533  129.171133   \n",
       "\n",
       "                             useTime  ...      lastTsdt      lastTedt  \\\n",
       "74                         24시간 이용가능  ...  2.020000e+13  2.020000e+13   \n",
       "118   주중 08:00~19:00, 주말 09:00~18:00  ...  2.020000e+13  2.020000e+13   \n",
       "119   주중 08:00~19:00, 주말 09:00~18:00  ...  2.020000e+13  2.020000e+13   \n",
       "266                        24시간 이용가능  ...  2.020000e+13  2.020000e+13   \n",
       "311   주중 08:00~19:00, 주말 09:00~18:00  ...  2.020000e+13  2.020000e+13   \n",
       "...                              ...  ...           ...           ...   \n",
       "6791                       24시간 이용가능  ...  2.020000e+13  2.020000e+13   \n",
       "6890                       24시간 이용가능  ...  2.020000e+13  2.020000e+13   \n",
       "6907                     10:00~24:00  ...  2.020000e+13  2.020000e+13   \n",
       "6980                       24시간 이용가능  ...  2.020000e+13  2.020000e+13   \n",
       "6981                       24시간 이용가능  ...  2.020000e+13  2.020000e+13   \n",
       "\n",
       "           nowTsdt output  method  zcode   zscode  kind  kindDetail  \\\n",
       "74             NaN    100      단독     26  26440.0    A0        A003   \n",
       "118   2.020000e+13    100      동시     26  26440.0    H0        H003   \n",
       "119   2.020000e+13    100      동시     26  26440.0    H0        H003   \n",
       "266            NaN    100      단독     26  26440.0    A0        A003   \n",
       "311   2.020000e+13    100      동시     26  26440.0    H0        H003   \n",
       "...            ...    ...     ...    ...      ...   ...         ...   \n",
       "6791  2.020000e+13    200      단독     26  26350.0    E0        E007   \n",
       "6890  2.020000e+13     50      단독     26  26350.0    B0        B001   \n",
       "6907           NaN     50      단독     26  26350.0    E0        E001   \n",
       "6980  2.020000e+13    200      단독     26  26350.0    E0        E007   \n",
       "6981  2.020000e+13    200      단독     26  26350.0    E0        E007   \n",
       "\n",
       "      parkingFree  \n",
       "74              Y  \n",
       "118             Y  \n",
       "119             Y  \n",
       "266             Y  \n",
       "311             Y  \n",
       "...           ...  \n",
       "6791            Y  \n",
       "6890            N  \n",
       "6907            Y  \n",
       "6980            Y  \n",
       "6981            Y  \n",
       "\n",
       "[7068 rows x 26 columns]"
      ]
     },
     "execution_count": 46,
     "metadata": {},
     "output_type": "execute_result"
    }
   ],
   "source": [
    "userate_file_path = 'C:\\\\Users\\\\SAMSUNG\\\\Desktop\\\\Green-Car-Charging-Station-Site-Selection\\\\Data\\\\실시간 전기차 충전소 상태정보.csv'\n",
    "df_userate = pd.read_csv(userate_file_path,encoding='cp949')\n",
    "df_userate.sort_values(by=['region_2depth_name','region_3depth_name'])"
   ]
  },
  {
   "cell_type": "code",
   "execution_count": 110,
   "metadata": {},
   "outputs": [
    {
     "data": {
      "text/html": [
       "<div>\n",
       "<style scoped>\n",
       "    .dataframe tbody tr th:only-of-type {\n",
       "        vertical-align: middle;\n",
       "    }\n",
       "\n",
       "    .dataframe tbody tr th {\n",
       "        vertical-align: top;\n",
       "    }\n",
       "\n",
       "    .dataframe thead th {\n",
       "        text-align: right;\n",
       "    }\n",
       "</style>\n",
       "<table border=\"1\" class=\"dataframe\">\n",
       "  <thead>\n",
       "    <tr style=\"text-align: right;\">\n",
       "      <th></th>\n",
       "      <th>chgerId</th>\n",
       "      <th>chgerType</th>\n",
       "      <th>lat</th>\n",
       "      <th>lng</th>\n",
       "      <th>stat</th>\n",
       "      <th>statUpdDt</th>\n",
       "      <th>lastTsdt</th>\n",
       "      <th>lastTedt</th>\n",
       "      <th>nowTsdt</th>\n",
       "      <th>output</th>\n",
       "      <th>zcode</th>\n",
       "      <th>zscode</th>\n",
       "    </tr>\n",
       "    <tr>\n",
       "      <th>statId</th>\n",
       "      <th></th>\n",
       "      <th></th>\n",
       "      <th></th>\n",
       "      <th></th>\n",
       "      <th></th>\n",
       "      <th></th>\n",
       "      <th></th>\n",
       "      <th></th>\n",
       "      <th></th>\n",
       "      <th></th>\n",
       "      <th></th>\n",
       "      <th></th>\n",
       "    </tr>\n",
       "  </thead>\n",
       "  <tbody>\n",
       "    <tr>\n",
       "      <th>EP200480</th>\n",
       "      <td>37</td>\n",
       "      <td>222</td>\n",
       "      <td>1300.406436</td>\n",
       "      <td>4773.259633</td>\n",
       "      <td>8</td>\n",
       "      <td>7.474000e+14</td>\n",
       "      <td>7.474000e+14</td>\n",
       "      <td>7.474000e+14</td>\n",
       "      <td>7.474000e+14</td>\n",
       "      <td>1850</td>\n",
       "      <td>962</td>\n",
       "      <td>981610.0</td>\n",
       "    </tr>\n",
       "    <tr>\n",
       "      <th>GN000986</th>\n",
       "      <td>266</td>\n",
       "      <td>190</td>\n",
       "      <td>1342.815466</td>\n",
       "      <td>4908.255055</td>\n",
       "      <td>6</td>\n",
       "      <td>7.676000e+14</td>\n",
       "      <td>7.676000e+14</td>\n",
       "      <td>7.676000e+14</td>\n",
       "      <td>7.676000e+14</td>\n",
       "      <td>1900</td>\n",
       "      <td>988</td>\n",
       "      <td>1014980.0</td>\n",
       "    </tr>\n",
       "    <tr>\n",
       "      <th>GS000075</th>\n",
       "      <td>114</td>\n",
       "      <td>304</td>\n",
       "      <td>2672.276508</td>\n",
       "      <td>9817.006108</td>\n",
       "      <td>22</td>\n",
       "      <td>1.535200e+15</td>\n",
       "      <td>1.535200e+15</td>\n",
       "      <td>1.535200e+15</td>\n",
       "      <td>1.535200e+15</td>\n",
       "      <td>15200</td>\n",
       "      <td>1976</td>\n",
       "      <td>2002600.0</td>\n",
       "    </tr>\n",
       "    <tr>\n",
       "      <th>HE001095</th>\n",
       "      <td>38</td>\n",
       "      <td>190</td>\n",
       "      <td>1333.227872</td>\n",
       "      <td>4900.908906</td>\n",
       "      <td>12</td>\n",
       "      <td>7.676000e+14</td>\n",
       "      <td>7.676000e+14</td>\n",
       "      <td>7.676000e+14</td>\n",
       "      <td>7.676000e+14</td>\n",
       "      <td>3800</td>\n",
       "      <td>988</td>\n",
       "      <td>1002440.0</td>\n",
       "    </tr>\n",
       "    <tr>\n",
       "      <th>HE001097</th>\n",
       "      <td>38</td>\n",
       "      <td>228</td>\n",
       "      <td>1333.844080</td>\n",
       "      <td>4901.232400</td>\n",
       "      <td>13</td>\n",
       "      <td>7.676000e+14</td>\n",
       "      <td>7.676000e+14</td>\n",
       "      <td>7.676000e+14</td>\n",
       "      <td>7.676000e+14</td>\n",
       "      <td>1900</td>\n",
       "      <td>988</td>\n",
       "      <td>1002440.0</td>\n",
       "    </tr>\n",
       "    <tr>\n",
       "      <th>...</th>\n",
       "      <td>...</td>\n",
       "      <td>...</td>\n",
       "      <td>...</td>\n",
       "      <td>...</td>\n",
       "      <td>...</td>\n",
       "      <td>...</td>\n",
       "      <td>...</td>\n",
       "      <td>...</td>\n",
       "      <td>...</td>\n",
       "      <td>...</td>\n",
       "      <td>...</td>\n",
       "      <td>...</td>\n",
       "    </tr>\n",
       "    <tr>\n",
       "      <th>ST265308</th>\n",
       "      <td>380</td>\n",
       "      <td>608</td>\n",
       "      <td>5348.080161</td>\n",
       "      <td>19604.961110</td>\n",
       "      <td>9</td>\n",
       "      <td>3.070400e+15</td>\n",
       "      <td>3.070400e+15</td>\n",
       "      <td>3.070400e+15</td>\n",
       "      <td>3.070400e+15</td>\n",
       "      <td>15200</td>\n",
       "      <td>3952</td>\n",
       "      <td>4032560.0</td>\n",
       "    </tr>\n",
       "    <tr>\n",
       "      <th>ST265309</th>\n",
       "      <td>380</td>\n",
       "      <td>608</td>\n",
       "      <td>5348.080161</td>\n",
       "      <td>19604.961110</td>\n",
       "      <td>9</td>\n",
       "      <td>3.070400e+15</td>\n",
       "      <td>3.070400e+15</td>\n",
       "      <td>3.070400e+15</td>\n",
       "      <td>3.070400e+15</td>\n",
       "      <td>15200</td>\n",
       "      <td>3952</td>\n",
       "      <td>4032560.0</td>\n",
       "    </tr>\n",
       "    <tr>\n",
       "      <th>ST267115</th>\n",
       "      <td>38</td>\n",
       "      <td>228</td>\n",
       "      <td>1337.230826</td>\n",
       "      <td>4909.990302</td>\n",
       "      <td>6</td>\n",
       "      <td>7.676000e+14</td>\n",
       "      <td>7.676000e+14</td>\n",
       "      <td>7.676000e+14</td>\n",
       "      <td>7.676000e+14</td>\n",
       "      <td>1900</td>\n",
       "      <td>988</td>\n",
       "      <td>1014980.0</td>\n",
       "    </tr>\n",
       "    <tr>\n",
       "      <th>ST267116</th>\n",
       "      <td>38</td>\n",
       "      <td>228</td>\n",
       "      <td>1337.296697</td>\n",
       "      <td>4910.275173</td>\n",
       "      <td>35</td>\n",
       "      <td>7.676000e+14</td>\n",
       "      <td>7.676000e+14</td>\n",
       "      <td>7.676000e+14</td>\n",
       "      <td>7.676000e+14</td>\n",
       "      <td>1900</td>\n",
       "      <td>988</td>\n",
       "      <td>1014980.0</td>\n",
       "    </tr>\n",
       "    <tr>\n",
       "      <th>ST267119</th>\n",
       "      <td>570</td>\n",
       "      <td>1140</td>\n",
       "      <td>6685.849713</td>\n",
       "      <td>24550.668227</td>\n",
       "      <td>10</td>\n",
       "      <td>3.838000e+15</td>\n",
       "      <td>3.838000e+15</td>\n",
       "      <td>3.838000e+15</td>\n",
       "      <td>3.838000e+15</td>\n",
       "      <td>9500</td>\n",
       "      <td>4940</td>\n",
       "      <td>5074900.0</td>\n",
       "    </tr>\n",
       "  </tbody>\n",
       "</table>\n",
       "<p>68 rows × 12 columns</p>\n",
       "</div>"
      ],
      "text/plain": [
       "          chgerId  chgerType          lat           lng  stat     statUpdDt  \\\n",
       "statId                                                                        \n",
       "EP200480       37        222  1300.406436   4773.259633     8  7.474000e+14   \n",
       "GN000986      266        190  1342.815466   4908.255055     6  7.676000e+14   \n",
       "GS000075      114        304  2672.276508   9817.006108    22  1.535200e+15   \n",
       "HE001095       38        190  1333.227872   4900.908906    12  7.676000e+14   \n",
       "HE001097       38        228  1333.844080   4901.232400    13  7.676000e+14   \n",
       "...           ...        ...          ...           ...   ...           ...   \n",
       "ST265308      380        608  5348.080161  19604.961110     9  3.070400e+15   \n",
       "ST265309      380        608  5348.080161  19604.961110     9  3.070400e+15   \n",
       "ST267115       38        228  1337.230826   4909.990302     6  7.676000e+14   \n",
       "ST267116       38        228  1337.296697   4910.275173    35  7.676000e+14   \n",
       "ST267119      570       1140  6685.849713  24550.668227    10  3.838000e+15   \n",
       "\n",
       "              lastTsdt      lastTedt       nowTsdt  output  zcode     zscode  \n",
       "statId                                                                        \n",
       "EP200480  7.474000e+14  7.474000e+14  7.474000e+14    1850    962   981610.0  \n",
       "GN000986  7.676000e+14  7.676000e+14  7.676000e+14    1900    988  1014980.0  \n",
       "GS000075  1.535200e+15  1.535200e+15  1.535200e+15   15200   1976  2002600.0  \n",
       "HE001095  7.676000e+14  7.676000e+14  7.676000e+14    3800    988  1002440.0  \n",
       "HE001097  7.676000e+14  7.676000e+14  7.676000e+14    1900    988  1002440.0  \n",
       "...                ...           ...           ...     ...    ...        ...  \n",
       "ST265308  3.070400e+15  3.070400e+15  3.070400e+15   15200   3952  4032560.0  \n",
       "ST265309  3.070400e+15  3.070400e+15  3.070400e+15   15200   3952  4032560.0  \n",
       "ST267115  7.676000e+14  7.676000e+14  7.676000e+14    1900    988  1014980.0  \n",
       "ST267116  7.676000e+14  7.676000e+14  7.676000e+14    1900    988  1014980.0  \n",
       "ST267119  3.838000e+15  3.838000e+15  3.838000e+15    9500   4940  5074900.0  \n",
       "\n",
       "[68 rows x 12 columns]"
      ]
     },
     "execution_count": 110,
     "metadata": {},
     "output_type": "execute_result"
    }
   ],
   "source": [
    "# stat : 하루 이용자 수\n",
    "use_rate = df_userate.groupby('statId').sum()\n",
    "high_rate = use_rate[use_rate['stat']>=5.1].index.tolist()\n",
    "use_rate[use_rate['stat']>=EV_per_charger_standard]"
   ]
  },
  {
   "cell_type": "code",
   "execution_count": 48,
   "metadata": {},
   "outputs": [],
   "source": [
    "high_rate_dong = []\n",
    "for name in high_rate:\n",
    "    dong = df_userate[df_userate['statId']==name]['region_3depth_name'].values[0]\n",
    "    high_rate_dong.append(dong)\n",
    "high_rate_dong = list(set(high_rate_dong))"
   ]
  },
  {
   "cell_type": "code",
   "execution_count": 49,
   "metadata": {},
   "outputs": [
    {
     "data": {
      "text/plain": [
       "7.30327868852459"
      ]
     },
     "execution_count": 49,
     "metadata": {},
     "output_type": "execute_result"
    }
   ],
   "source": [
    "use_rate['stat'].mean()"
   ]
  },
  {
   "cell_type": "markdown",
   "metadata": {},
   "source": [
    "#### 부산 전기차 충전소 적합확률"
   ]
  },
  {
   "cell_type": "code",
   "execution_count": 50,
   "metadata": {},
   "outputs": [
    {
     "data": {
      "application/vnd.plotly.v1+json": {
       "config": {
        "plotlyServerURL": "https://plot.ly"
       },
       "data": [
        {
         "fill": "tozeroy",
         "line": {
          "color": "rgb(239,85,59)"
         },
         "name": "부적합",
         "type": "scatter",
         "x": [
          -7.146506219463558,
          -7.0228041364386735,
          -6.899102053413789,
          -6.7753999703889045,
          -6.65169788736402,
          -6.5279958043391355,
          -6.404293721314252,
          -6.280591638289367,
          -6.156889555264483,
          -6.033187472239598,
          -5.909485389214714,
          -5.785783306189829,
          -5.662081223164945,
          -5.53837914014006,
          -5.414677057115176,
          -5.290974974090291,
          -5.167272891065407,
          -5.043570808040522,
          -4.919868725015638,
          -4.796166641990753,
          -4.672464558965869,
          -4.548762475940984,
          -4.4250603929161,
          -4.301358309891216,
          -4.177656226866332,
          -4.053954143841447,
          -3.9302520608165628,
          -3.8065499777916783,
          -3.6828478947667938,
          -3.5591458117419097,
          -3.435443728717025,
          -3.3117416456921407,
          -3.188039562667256,
          -3.064337479642372,
          -2.9406353966174876,
          -2.816933313592603,
          -2.6932312305677186,
          -2.569529147542834,
          -2.4458270645179496,
          -2.322124981493065,
          -2.1984228984681806,
          -2.074720815443296,
          -1.9510187324184116,
          -1.8273166493935271,
          -1.7036145663686426,
          -1.579912483343759,
          -1.4562104003188745,
          -1.33250831729399,
          -1.2088062342691055,
          -1.085104151244221,
          -0.9614020682193365,
          -0.837699985194452,
          -0.7139979021695675,
          -0.590295819144683,
          -0.4665937361197985,
          -0.342891653094914,
          -0.21918957007002948,
          -0.09548748704514498,
          0.028214595979738633,
          0.15191667900462313,
          0.27561876202950764,
          0.39932084505439214,
          0.5230229280792766,
          0.6467250111041611,
          0.7704270941290456,
          0.8941291771539293,
          1.0178312601788138,
          1.1415333432036983,
          1.2652354262285828,
          1.3889375092534673,
          1.5126395922783518,
          1.6363416753032363,
          1.7600437583281208,
          1.8837458413530053,
          2.0074479243778898,
          2.1311500074027743,
          2.2548520904276588,
          2.3785541734525433,
          2.5022562564774278,
          2.6259583395023123,
          2.749660422527197,
          2.8733625055520813,
          2.997064588576966,
          3.1207666716018503,
          3.244468754626735,
          3.3681708376516193,
          3.491872920676504,
          3.6155750037013883,
          3.739277086726273,
          3.8629791697511573,
          3.98668125277604,
          4.1103833358009245,
          4.234085418825809,
          4.3577875018506935,
          4.481489584875578,
          4.6051916679004625,
          4.728893750925347,
          4.8525958339502315,
          4.976297916975116,
          5.1
         ],
         "y": [
          0.007228840551804466,
          0.007485197939209782,
          0.007748324686899803,
          0.008018298335991483,
          0.008295192880850543,
          0.008579078555329554,
          0.008870021617321158,
          0.009168084131962136,
          0.009473323753838265,
          0.00978579350855422,
          0.010105541574046235,
          0.010432611062028441,
          0.01076703979997656,
          0.011108860114064636,
          0.011458098613482005,
          0.01181477597656859,
          0.012178906739216537,
          0.012550499085995787,
          0.012929554644469413,
          0.01331606828317237,
          0.013710027913734057,
          0.014111414297630628,
          0.014520200858058045,
          0.014936353497420283,
          0.015359830420929869,
          0.01579058196681946,
          0.01622855044366321,
          0.016673669975306143,
          0.017125866353897286,
          0.017585056901519066,
          0.018051150340900952,
          0.018524046675698857,
          0.01900363708081506,
          0.019489803803224234,
          0.019982420073761407,
          0.020481350030316238,
          0.02098644865286504,
          0.021497561710758013,
          0.022014525722663568,
          0.02253716792955458,
          0.023065306281103468,
          0.02359874943583308,
          0.024137296775349693,
          0.024680738432962285,
          0.025228855336968545,
          0.025781419268863806,
          0.02633819293670289,
          0.02689893006381808,
          0.027463375493068473,
          0.02803126530676639,
          0.02860232696239711,
          0.02917627944421659,
          0.029752833430780237,
          0.030331691478423253,
          0.030912548220679334,
          0.03149509058359092,
          0.03207899801682942,
          0.03266394274050858,
          0.03324959000753943,
          0.03383559838133852,
          0.03442162002866615,
          0.03500730102733472,
          0.03559228168849135,
          0.03617619689314303,
          0.03675867644255674,
          0.037339345422131215,
          0.03791782457830237,
          0.03849373070800906,
          0.03906667706021248,
          0.0396362737489285,
          0.04020212817720007,
          0.04076384547140475,
          0.04132102892526198,
          0.04187328045287492,
          0.042420201050113134,
          0.0429613912636154,
          0.04349645166666597,
          0.04402498334117317,
          0.04454658836495672,
          0.04506087030352846,
          0.04556743470553213,
          0.046065889600989784,
          0.04655584600148681,
          0.04703691840141327,
          0.04750872527936747,
          0.04797088959881769,
          0.04842303930710985,
          0.04886480783190345,
          0.0492958345741141,
          0.04971576539643986,
          0.050124253106549055,
          0.05052095793401024,
          0.05090554800005048,
          0.05127769977923521,
          0.05163709855217272,
          0.05198343884835849,
          0.0523164248782884,
          0.05263577095398634,
          0.05294120189711032,
          0.05323245343382177
         ]
        },
        {
         "fill": "tozeroy",
         "line": {
          "color": "rgb(100,110,250)"
         },
         "name": "적합",
         "type": "scatter",
         "x": [
          5.1,
          5.462626262626262,
          5.825252525252525,
          6.1878787878787875,
          6.55050505050505,
          6.913131313131313,
          7.275757575757575,
          7.638383838383838,
          8.0010101010101,
          8.363636363636363,
          8.726262626262626,
          9.088888888888889,
          9.451515151515151,
          9.814141414141414,
          10.176767676767676,
          10.539393939393939,
          10.902020202020202,
          11.264646464646464,
          11.627272727272727,
          11.98989898989899,
          12.352525252525252,
          12.715151515151515,
          13.077777777777778,
          13.44040404040404,
          13.803030303030303,
          14.165656565656565,
          14.528282828282828,
          14.89090909090909,
          15.253535353535353,
          15.616161616161616,
          15.978787878787879,
          16.34141414141414,
          16.704040404040406,
          17.066666666666666,
          17.429292929292927,
          17.79191919191919,
          18.154545454545456,
          18.517171717171717,
          18.879797979797978,
          19.242424242424242,
          19.605050505050507,
          19.967676767676767,
          20.33030303030303,
          20.692929292929293,
          21.055555555555557,
          21.41818181818182,
          21.78080808080808,
          22.143434343434343,
          22.506060606060608,
          22.868686868686872,
          23.23131313131313,
          23.593939393939394,
          23.956565656565658,
          24.319191919191923,
          24.68181818181818,
          25.044444444444444,
          25.40707070707071,
          25.769696969696973,
          26.13232323232323,
          26.494949494949495,
          26.85757575757576,
          27.220202020202024,
          27.58282828282828,
          27.945454545454545,
          28.30808080808081,
          28.670707070707074,
          29.03333333333333,
          29.395959595959596,
          29.75858585858586,
          30.121212121212125,
          30.483838383838382,
          30.846464646464646,
          31.20909090909091,
          31.571717171717175,
          31.934343434343432,
          32.2969696969697,
          32.65959595959596,
          33.022222222222226,
          33.38484848484848,
          33.74747474747475,
          34.11010101010101,
          34.472727272727276,
          34.83535353535353,
          35.1979797979798,
          35.56060606060606,
          35.92323232323233,
          36.285858585858584,
          36.64848484848485,
          37.01111111111111,
          37.37373737373738,
          37.73636363636364,
          38.0989898989899,
          38.46161616161616,
          38.82424242424243,
          39.186868686868685,
          39.54949494949495,
          39.912121212121214,
          40.27474747474748,
          40.63737373737374,
          41
         ],
         "y": [
          0.05323245343382177,
          0.05400219177539718,
          0.05464219056961587,
          0.05514760132055673,
          0.055514567900298996,
          0.05574027554005872,
          0.05582298678290638,
          0.05576206375571353,
          0.05555797636097472,
          0.055212296241346846,
          0.05472767662534101,
          0.05410781841569135,
          0.05335742312668481,
          0.052482133507570236,
          0.05148846290087297,
          0.05038371457235152,
          0.049175892409436844,
          0.04787360451404466,
          0.04648596131124344,
          0.04502246985588505,
          0.04349292604437237,
          0.041907306428570816,
          0.040275661284677515,
          0.03860801051367223,
          0.03691424384456377,
          0.03520402668043116,
          0.03348671277418158,
          0.031771264750345876,
          0.030066183305704937,
          0.028379445729808522,
          0.026718454191220736,
          0.025089994041168344,
          0.02350020219748911,
          0.021954545492314716,
          0.02045780870026997,
          0.01901409181309036,
          0.017626815993848896,
          0.01629873753123268,
          0.015031969022699865,
          0.013828006945453957,
          0.012687764725994163,
          0.011611610392001334,
          0.010599407883478575,
          0.00965056111194941,
          0.008764059885340443,
          0.007938526859890457,
          0.007172264736789434,
          0.006463302987901475,
          0.005809443469467051,
          0.005208304362739223,
          0.004657361963803261,
          0.004153989929216141,
          0.0036954956676245906,
          0.0032791536484379617,
          0.0029022354754502564,
          0.0025620366447839027,
          0.002255899971691863,
          0.0019812357288876065,
          0.0017355385897102832,
          0.001516401512342994,
          0.0013215267364686339,
          0.001148734091340256,
          0.0009959668345942082,
          0.0008612952547086378,
          0.0007429182773766223,
          0.0006391633178663705,
          0.0005484846183744641,
          0.0004694603021594904,
          0.0004007883655929053,
          0.0003412818158843595,
          0.00028986314680029616,
          0.00024555832782117043,
          0.0002074904644427875,
          0.00017487326922678958,
          0.00014700446518395663,
          0.00012325922550312078,
          0.00010308373682251246,
          0.00008598895741851725,
          0.00007154462703760938,
          0.000059373571742960656,
          0.00004914633516021878,
          0.000040576156915500185,
          0.00003341430985371114,
          0.000027445799766862978,
          0.000022485424785373583,
          0.00001837418620691259,
          0.000014976038260215846,
          0.0000121749610199148,
          0.00000987233829293153,
          0.000007984620676695161,
          0.000006441253035902939,
          0.000005182845253861283,
          0.0000041595651890686366,
          0.000003329733217752474,
          0.0000026585984871404113,
          0.0000021172779698468945,
          0.0000016818405334365327,
          0.0000013325194663937528,
          0.0000010530381862891823,
          8.300351597430526e-7
         ]
        }
       ],
       "layout": {
        "annotations": [
         {
          "bordercolor": "rgb(239,85,59)",
          "borderwidth": 2,
          "font": {
           "color": "rgb(239,85,59)",
           "size": 15
          },
          "showarrow": false,
          "text": "0.357",
          "x": 5.1,
          "xshift": -40,
          "y": 0.05323245343382177,
          "yshift": -100
         },
         {
          "bordercolor": "rgb(100,110,250)",
          "borderwidth": 2,
          "font": {
           "color": "rgb(100,110,250)",
           "size": 15
          },
          "showarrow": false,
          "text": "0.643",
          "x": 5.1,
          "xshift": 40,
          "y": 0.05323245343382177,
          "yshift": -100
         }
        ],
        "template": {
         "data": {
          "bar": [
           {
            "error_x": {
             "color": "#2a3f5f"
            },
            "error_y": {
             "color": "#2a3f5f"
            },
            "marker": {
             "line": {
              "color": "#E5ECF6",
              "width": 0.5
             },
             "pattern": {
              "fillmode": "overlay",
              "size": 10,
              "solidity": 0.2
             }
            },
            "type": "bar"
           }
          ],
          "barpolar": [
           {
            "marker": {
             "line": {
              "color": "#E5ECF6",
              "width": 0.5
             },
             "pattern": {
              "fillmode": "overlay",
              "size": 10,
              "solidity": 0.2
             }
            },
            "type": "barpolar"
           }
          ],
          "carpet": [
           {
            "aaxis": {
             "endlinecolor": "#2a3f5f",
             "gridcolor": "white",
             "linecolor": "white",
             "minorgridcolor": "white",
             "startlinecolor": "#2a3f5f"
            },
            "baxis": {
             "endlinecolor": "#2a3f5f",
             "gridcolor": "white",
             "linecolor": "white",
             "minorgridcolor": "white",
             "startlinecolor": "#2a3f5f"
            },
            "type": "carpet"
           }
          ],
          "choropleth": [
           {
            "colorbar": {
             "outlinewidth": 0,
             "ticks": ""
            },
            "type": "choropleth"
           }
          ],
          "contour": [
           {
            "colorbar": {
             "outlinewidth": 0,
             "ticks": ""
            },
            "colorscale": [
             [
              0,
              "#0d0887"
             ],
             [
              0.1111111111111111,
              "#46039f"
             ],
             [
              0.2222222222222222,
              "#7201a8"
             ],
             [
              0.3333333333333333,
              "#9c179e"
             ],
             [
              0.4444444444444444,
              "#bd3786"
             ],
             [
              0.5555555555555556,
              "#d8576b"
             ],
             [
              0.6666666666666666,
              "#ed7953"
             ],
             [
              0.7777777777777778,
              "#fb9f3a"
             ],
             [
              0.8888888888888888,
              "#fdca26"
             ],
             [
              1,
              "#f0f921"
             ]
            ],
            "type": "contour"
           }
          ],
          "contourcarpet": [
           {
            "colorbar": {
             "outlinewidth": 0,
             "ticks": ""
            },
            "type": "contourcarpet"
           }
          ],
          "heatmap": [
           {
            "colorbar": {
             "outlinewidth": 0,
             "ticks": ""
            },
            "colorscale": [
             [
              0,
              "#0d0887"
             ],
             [
              0.1111111111111111,
              "#46039f"
             ],
             [
              0.2222222222222222,
              "#7201a8"
             ],
             [
              0.3333333333333333,
              "#9c179e"
             ],
             [
              0.4444444444444444,
              "#bd3786"
             ],
             [
              0.5555555555555556,
              "#d8576b"
             ],
             [
              0.6666666666666666,
              "#ed7953"
             ],
             [
              0.7777777777777778,
              "#fb9f3a"
             ],
             [
              0.8888888888888888,
              "#fdca26"
             ],
             [
              1,
              "#f0f921"
             ]
            ],
            "type": "heatmap"
           }
          ],
          "heatmapgl": [
           {
            "colorbar": {
             "outlinewidth": 0,
             "ticks": ""
            },
            "colorscale": [
             [
              0,
              "#0d0887"
             ],
             [
              0.1111111111111111,
              "#46039f"
             ],
             [
              0.2222222222222222,
              "#7201a8"
             ],
             [
              0.3333333333333333,
              "#9c179e"
             ],
             [
              0.4444444444444444,
              "#bd3786"
             ],
             [
              0.5555555555555556,
              "#d8576b"
             ],
             [
              0.6666666666666666,
              "#ed7953"
             ],
             [
              0.7777777777777778,
              "#fb9f3a"
             ],
             [
              0.8888888888888888,
              "#fdca26"
             ],
             [
              1,
              "#f0f921"
             ]
            ],
            "type": "heatmapgl"
           }
          ],
          "histogram": [
           {
            "marker": {
             "pattern": {
              "fillmode": "overlay",
              "size": 10,
              "solidity": 0.2
             }
            },
            "type": "histogram"
           }
          ],
          "histogram2d": [
           {
            "colorbar": {
             "outlinewidth": 0,
             "ticks": ""
            },
            "colorscale": [
             [
              0,
              "#0d0887"
             ],
             [
              0.1111111111111111,
              "#46039f"
             ],
             [
              0.2222222222222222,
              "#7201a8"
             ],
             [
              0.3333333333333333,
              "#9c179e"
             ],
             [
              0.4444444444444444,
              "#bd3786"
             ],
             [
              0.5555555555555556,
              "#d8576b"
             ],
             [
              0.6666666666666666,
              "#ed7953"
             ],
             [
              0.7777777777777778,
              "#fb9f3a"
             ],
             [
              0.8888888888888888,
              "#fdca26"
             ],
             [
              1,
              "#f0f921"
             ]
            ],
            "type": "histogram2d"
           }
          ],
          "histogram2dcontour": [
           {
            "colorbar": {
             "outlinewidth": 0,
             "ticks": ""
            },
            "colorscale": [
             [
              0,
              "#0d0887"
             ],
             [
              0.1111111111111111,
              "#46039f"
             ],
             [
              0.2222222222222222,
              "#7201a8"
             ],
             [
              0.3333333333333333,
              "#9c179e"
             ],
             [
              0.4444444444444444,
              "#bd3786"
             ],
             [
              0.5555555555555556,
              "#d8576b"
             ],
             [
              0.6666666666666666,
              "#ed7953"
             ],
             [
              0.7777777777777778,
              "#fb9f3a"
             ],
             [
              0.8888888888888888,
              "#fdca26"
             ],
             [
              1,
              "#f0f921"
             ]
            ],
            "type": "histogram2dcontour"
           }
          ],
          "mesh3d": [
           {
            "colorbar": {
             "outlinewidth": 0,
             "ticks": ""
            },
            "type": "mesh3d"
           }
          ],
          "parcoords": [
           {
            "line": {
             "colorbar": {
              "outlinewidth": 0,
              "ticks": ""
             }
            },
            "type": "parcoords"
           }
          ],
          "pie": [
           {
            "automargin": true,
            "type": "pie"
           }
          ],
          "scatter": [
           {
            "marker": {
             "colorbar": {
              "outlinewidth": 0,
              "ticks": ""
             }
            },
            "type": "scatter"
           }
          ],
          "scatter3d": [
           {
            "line": {
             "colorbar": {
              "outlinewidth": 0,
              "ticks": ""
             }
            },
            "marker": {
             "colorbar": {
              "outlinewidth": 0,
              "ticks": ""
             }
            },
            "type": "scatter3d"
           }
          ],
          "scattercarpet": [
           {
            "marker": {
             "colorbar": {
              "outlinewidth": 0,
              "ticks": ""
             }
            },
            "type": "scattercarpet"
           }
          ],
          "scattergeo": [
           {
            "marker": {
             "colorbar": {
              "outlinewidth": 0,
              "ticks": ""
             }
            },
            "type": "scattergeo"
           }
          ],
          "scattergl": [
           {
            "marker": {
             "colorbar": {
              "outlinewidth": 0,
              "ticks": ""
             }
            },
            "type": "scattergl"
           }
          ],
          "scattermapbox": [
           {
            "marker": {
             "colorbar": {
              "outlinewidth": 0,
              "ticks": ""
             }
            },
            "type": "scattermapbox"
           }
          ],
          "scatterpolar": [
           {
            "marker": {
             "colorbar": {
              "outlinewidth": 0,
              "ticks": ""
             }
            },
            "type": "scatterpolar"
           }
          ],
          "scatterpolargl": [
           {
            "marker": {
             "colorbar": {
              "outlinewidth": 0,
              "ticks": ""
             }
            },
            "type": "scatterpolargl"
           }
          ],
          "scatterternary": [
           {
            "marker": {
             "colorbar": {
              "outlinewidth": 0,
              "ticks": ""
             }
            },
            "type": "scatterternary"
           }
          ],
          "surface": [
           {
            "colorbar": {
             "outlinewidth": 0,
             "ticks": ""
            },
            "colorscale": [
             [
              0,
              "#0d0887"
             ],
             [
              0.1111111111111111,
              "#46039f"
             ],
             [
              0.2222222222222222,
              "#7201a8"
             ],
             [
              0.3333333333333333,
              "#9c179e"
             ],
             [
              0.4444444444444444,
              "#bd3786"
             ],
             [
              0.5555555555555556,
              "#d8576b"
             ],
             [
              0.6666666666666666,
              "#ed7953"
             ],
             [
              0.7777777777777778,
              "#fb9f3a"
             ],
             [
              0.8888888888888888,
              "#fdca26"
             ],
             [
              1,
              "#f0f921"
             ]
            ],
            "type": "surface"
           }
          ],
          "table": [
           {
            "cells": {
             "fill": {
              "color": "#EBF0F8"
             },
             "line": {
              "color": "white"
             }
            },
            "header": {
             "fill": {
              "color": "#C8D4E3"
             },
             "line": {
              "color": "white"
             }
            },
            "type": "table"
           }
          ]
         },
         "layout": {
          "annotationdefaults": {
           "arrowcolor": "#2a3f5f",
           "arrowhead": 0,
           "arrowwidth": 1
          },
          "autotypenumbers": "strict",
          "coloraxis": {
           "colorbar": {
            "outlinewidth": 0,
            "ticks": ""
           }
          },
          "colorscale": {
           "diverging": [
            [
             0,
             "#8e0152"
            ],
            [
             0.1,
             "#c51b7d"
            ],
            [
             0.2,
             "#de77ae"
            ],
            [
             0.3,
             "#f1b6da"
            ],
            [
             0.4,
             "#fde0ef"
            ],
            [
             0.5,
             "#f7f7f7"
            ],
            [
             0.6,
             "#e6f5d0"
            ],
            [
             0.7,
             "#b8e186"
            ],
            [
             0.8,
             "#7fbc41"
            ],
            [
             0.9,
             "#4d9221"
            ],
            [
             1,
             "#276419"
            ]
           ],
           "sequential": [
            [
             0,
             "#0d0887"
            ],
            [
             0.1111111111111111,
             "#46039f"
            ],
            [
             0.2222222222222222,
             "#7201a8"
            ],
            [
             0.3333333333333333,
             "#9c179e"
            ],
            [
             0.4444444444444444,
             "#bd3786"
            ],
            [
             0.5555555555555556,
             "#d8576b"
            ],
            [
             0.6666666666666666,
             "#ed7953"
            ],
            [
             0.7777777777777778,
             "#fb9f3a"
            ],
            [
             0.8888888888888888,
             "#fdca26"
            ],
            [
             1,
             "#f0f921"
            ]
           ],
           "sequentialminus": [
            [
             0,
             "#0d0887"
            ],
            [
             0.1111111111111111,
             "#46039f"
            ],
            [
             0.2222222222222222,
             "#7201a8"
            ],
            [
             0.3333333333333333,
             "#9c179e"
            ],
            [
             0.4444444444444444,
             "#bd3786"
            ],
            [
             0.5555555555555556,
             "#d8576b"
            ],
            [
             0.6666666666666666,
             "#ed7953"
            ],
            [
             0.7777777777777778,
             "#fb9f3a"
            ],
            [
             0.8888888888888888,
             "#fdca26"
            ],
            [
             1,
             "#f0f921"
            ]
           ]
          },
          "colorway": [
           "#636efa",
           "#EF553B",
           "#00cc96",
           "#ab63fa",
           "#FFA15A",
           "#19d3f3",
           "#FF6692",
           "#B6E880",
           "#FF97FF",
           "#FECB52"
          ],
          "font": {
           "color": "#2a3f5f"
          },
          "geo": {
           "bgcolor": "white",
           "lakecolor": "white",
           "landcolor": "#E5ECF6",
           "showlakes": true,
           "showland": true,
           "subunitcolor": "white"
          },
          "hoverlabel": {
           "align": "left"
          },
          "hovermode": "closest",
          "mapbox": {
           "style": "light"
          },
          "paper_bgcolor": "white",
          "plot_bgcolor": "#E5ECF6",
          "polar": {
           "angularaxis": {
            "gridcolor": "white",
            "linecolor": "white",
            "ticks": ""
           },
           "bgcolor": "#E5ECF6",
           "radialaxis": {
            "gridcolor": "white",
            "linecolor": "white",
            "ticks": ""
           }
          },
          "scene": {
           "xaxis": {
            "backgroundcolor": "#E5ECF6",
            "gridcolor": "white",
            "gridwidth": 2,
            "linecolor": "white",
            "showbackground": true,
            "ticks": "",
            "zerolinecolor": "white"
           },
           "yaxis": {
            "backgroundcolor": "#E5ECF6",
            "gridcolor": "white",
            "gridwidth": 2,
            "linecolor": "white",
            "showbackground": true,
            "ticks": "",
            "zerolinecolor": "white"
           },
           "zaxis": {
            "backgroundcolor": "#E5ECF6",
            "gridcolor": "white",
            "gridwidth": 2,
            "linecolor": "white",
            "showbackground": true,
            "ticks": "",
            "zerolinecolor": "white"
           }
          },
          "shapedefaults": {
           "line": {
            "color": "#2a3f5f"
           }
          },
          "ternary": {
           "aaxis": {
            "gridcolor": "white",
            "linecolor": "white",
            "ticks": ""
           },
           "baxis": {
            "gridcolor": "white",
            "linecolor": "white",
            "ticks": ""
           },
           "bgcolor": "#E5ECF6",
           "caxis": {
            "gridcolor": "white",
            "linecolor": "white",
            "ticks": ""
           }
          },
          "title": {
           "x": 0.05
          },
          "xaxis": {
           "automargin": true,
           "gridcolor": "white",
           "linecolor": "white",
           "ticks": "",
           "title": {
            "standoff": 15
           },
           "zerolinecolor": "white",
           "zerolinewidth": 2
          },
          "yaxis": {
           "automargin": true,
           "gridcolor": "white",
           "linecolor": "white",
           "ticks": "",
           "title": {
            "standoff": 15
           },
           "zerolinecolor": "white",
           "zerolinewidth": 2
          }
         }
        },
        "yaxis": {
         "visible": false
        }
       }
      }
     },
     "metadata": {},
     "output_type": "display_data"
    }
   ],
   "source": [
    "pro,pro_negative = cal_norm(use_rate['stat'].mean(),\n",
    "                            use_rate['stat'].std(),\n",
    "                            use_rate['stat'].min(),\n",
    "                            use_rate['stat'].max(),\n",
    "                            EV_per_charger_standard,\n",
    "                            False)"
   ]
  },
  {
   "cell_type": "markdown",
   "metadata": {},
   "source": [
    "### 수소충전소 수"
   ]
  },
  {
   "cell_type": "code",
   "execution_count": 51,
   "metadata": {},
   "outputs": [],
   "source": [
    "HVCS_file_path = 'C:\\\\Users\\\\SAMSUNG\\\\Desktop\\\\Green-Car-Charging-Station-Site-Selection\\\\Data\\\\부산 수소차 충전소 현황.csv'\n",
    "df_HVCS = pd.read_csv(HVCS_file_path, encoding='cp949')"
   ]
  },
  {
   "cell_type": "code",
   "execution_count": 52,
   "metadata": {},
   "outputs": [
    {
     "data": {
      "text/html": [
       "<div>\n",
       "<style scoped>\n",
       "    .dataframe tbody tr th:only-of-type {\n",
       "        vertical-align: middle;\n",
       "    }\n",
       "\n",
       "    .dataframe tbody tr th {\n",
       "        vertical-align: top;\n",
       "    }\n",
       "\n",
       "    .dataframe thead th {\n",
       "        text-align: right;\n",
       "    }\n",
       "</style>\n",
       "<table border=\"1\" class=\"dataframe\">\n",
       "  <thead>\n",
       "    <tr style=\"text-align: right;\">\n",
       "      <th></th>\n",
       "      <th>충전소</th>\n",
       "      <th>충전기</th>\n",
       "      <th>시</th>\n",
       "      <th>구</th>\n",
       "      <th>주소</th>\n",
       "      <th>위도</th>\n",
       "      <th>경도</th>\n",
       "      <th>하루평균충전횟수</th>\n",
       "      <th>최대 충전 수소차수</th>\n",
       "      <th>공급방식</th>\n",
       "      <th>충전소 설치방식</th>\n",
       "      <th>압축기용량</th>\n",
       "      <th>충전기용량</th>\n",
       "      <th>충전압력</th>\n",
       "      <th>운영시간</th>\n",
       "      <th>평균가동률</th>\n",
       "      <th>충전가격</th>\n",
       "    </tr>\n",
       "  </thead>\n",
       "  <tbody>\n",
       "    <tr>\n",
       "      <th>0</th>\n",
       "      <td>서부산NK수소충전소</td>\n",
       "      <td>1</td>\n",
       "      <td>부산광역시</td>\n",
       "      <td>강서구</td>\n",
       "      <td>부산광역시 강서구 가락대로 347</td>\n",
       "      <td>35.113171</td>\n",
       "      <td>128.843291</td>\n",
       "      <td>14</td>\n",
       "      <td>67</td>\n",
       "      <td>튜브트레일러</td>\n",
       "      <td>단독</td>\n",
       "      <td>302.63</td>\n",
       "      <td>33.4</td>\n",
       "      <td>700</td>\n",
       "      <td>10</td>\n",
       "      <td>35.0</td>\n",
       "      <td>8800</td>\n",
       "    </tr>\n",
       "    <tr>\n",
       "      <th>1</th>\n",
       "      <td>H부산수소충전소</td>\n",
       "      <td>3</td>\n",
       "      <td>부산광역시</td>\n",
       "      <td>사상구</td>\n",
       "      <td>부산광역시 사상구 학감대로 167</td>\n",
       "      <td>35.145864</td>\n",
       "      <td>128.987651</td>\n",
       "      <td>60</td>\n",
       "      <td>70</td>\n",
       "      <td>천연가스개질</td>\n",
       "      <td>복합</td>\n",
       "      <td>308.00</td>\n",
       "      <td>25.0</td>\n",
       "      <td>700</td>\n",
       "      <td>12</td>\n",
       "      <td>41.6</td>\n",
       "      <td>8800</td>\n",
       "    </tr>\n",
       "    <tr>\n",
       "      <th>2</th>\n",
       "      <td>하이넷부산정관수소충</td>\n",
       "      <td>1</td>\n",
       "      <td>부산광역시</td>\n",
       "      <td>기장군</td>\n",
       "      <td>부산광역시 기장군 정관읍 신정관로 187</td>\n",
       "      <td>35.328714</td>\n",
       "      <td>129.201710</td>\n",
       "      <td>16</td>\n",
       "      <td>60</td>\n",
       "      <td>천연가스개질</td>\n",
       "      <td>복합</td>\n",
       "      <td>NaN</td>\n",
       "      <td>25.0</td>\n",
       "      <td>700</td>\n",
       "      <td>12</td>\n",
       "      <td>33.3</td>\n",
       "      <td>8800</td>\n",
       "    </tr>\n",
       "  </tbody>\n",
       "</table>\n",
       "</div>"
      ],
      "text/plain": [
       "          충전소  충전기      시    구                       주소         위도  \\\n",
       "0  서부산NK수소충전소    1  부산광역시  강서구      부산광역시 강서구 가락대로 347   35.113171   \n",
       "1    H부산수소충전소    3  부산광역시  사상구      부산광역시 사상구 학감대로 167   35.145864   \n",
       "2  하이넷부산정관수소충    1  부산광역시  기장군  부산광역시 기장군 정관읍 신정관로 187   35.328714   \n",
       "\n",
       "           경도  하루평균충전횟수  최대 충전 수소차수    공급방식 충전소 설치방식   압축기용량  충전기용량  충전압력  \\\n",
       "0  128.843291        14          67  튜브트레일러       단독  302.63   33.4   700   \n",
       "1  128.987651        60          70  천연가스개질       복합  308.00   25.0   700   \n",
       "2  129.201710        16          60  천연가스개질       복합     NaN   25.0   700   \n",
       "\n",
       "   운영시간  평균가동률  충전가격  \n",
       "0    10   35.0  8800  \n",
       "1    12   41.6  8800  \n",
       "2    12   33.3  8800  "
      ]
     },
     "execution_count": 52,
     "metadata": {},
     "output_type": "execute_result"
    }
   ],
   "source": [
    "address_city = []\n",
    "address_gu = []\n",
    "for i in range(df_HVCS.shape[0]):\n",
    "    strings = df_HVCS.iloc[i]['주소'].split()\n",
    "    address_city.append(strings.pop(0))\n",
    "    address_gu.append(strings.pop(0))\n",
    "df_HVCS.insert(2,\"시\",address_city)\n",
    "df_HVCS.insert(3,\"구\",address_gu)    \n",
    "df_HVCS"
   ]
  },
  {
   "cell_type": "markdown",
   "metadata": {},
   "source": [
    "### 수소차충전기당 수소자동차 수 "
   ]
  },
  {
   "cell_type": "code",
   "execution_count": 138,
   "metadata": {},
   "outputs": [
    {
     "data": {
      "text/plain": [
       "513.0"
      ]
     },
     "execution_count": 138,
     "metadata": {},
     "output_type": "execute_result"
    }
   ],
   "source": [
    "# 부산시에 충전소는 3곳으로, 구단위로 구하는 것이 불가능\n",
    "# 부산시의 수소충전소당 수소자동차 수\n",
    "HV_per_charger = df_vehicle['수소'].sum() / df_HVCS['충전소'].count()\n",
    "HV_per_charger"
   ]
  },
  {
   "cell_type": "code",
   "execution_count": 131,
   "metadata": {},
   "outputs": [
    {
     "data": {
      "text/plain": [
       "33.45652173913044"
      ]
     },
     "execution_count": 131,
     "metadata": {},
     "output_type": "execute_result"
    }
   ],
   "source": [
    "#### 수소차 충전기당 1일 충전 수요\n",
    "# 수소차 1일 평균 충전수요\n",
    "need_HVCS = df_vehicle['수소'].sum() * (1/9.2) \n",
    "# 수소차 충전기당 1일 평균 충전수요\n",
    "need_HVCS_per_charger = need_HVCS / df_HVCS['충전기'].sum()\n",
    "need_HVCS_per_charger"
   ]
  },
  {
   "cell_type": "markdown",
   "metadata": {},
   "source": [
    "#### 가동률이 50%가 되도록 하는 수소 충전소당 수소차 수\n",
    "충전소요시간 15분, 가동률 50% => 시간당 2대 충전\n",
    "\n",
    "충전소 평균 운영시간 11.3h\n",
    "\n",
    "충전주기 9.2일\n",
    "\n",
    "충전기 수\n",
    "\n",
    "충전소 수\n",
    "\n",
    "2 * 11.3 * 9.2 * 5 / 3 = 346.533"
   ]
  },
  {
   "cell_type": "code",
   "execution_count": 55,
   "metadata": {},
   "outputs": [],
   "source": [
    "if HV_per_charger >= HV_per_charger_standard:\n",
    "    HV_per_charger_pro = 1.0\n",
    "    HV_per_charger_pro_negative = 0\n",
    "else:\n",
    "    HV_per_charger_pro = 0\n",
    "    HV_per_charger_pro_negative = 1.0"
   ]
  },
  {
   "cell_type": "markdown",
   "metadata": {},
   "source": [
    "### 도로 보급률"
   ]
  },
  {
   "cell_type": "code",
   "execution_count": 56,
   "metadata": {},
   "outputs": [
    {
     "data": {
      "text/html": [
       "<div>\n",
       "<style scoped>\n",
       "    .dataframe tbody tr th:only-of-type {\n",
       "        vertical-align: middle;\n",
       "    }\n",
       "\n",
       "    .dataframe tbody tr th {\n",
       "        vertical-align: top;\n",
       "    }\n",
       "\n",
       "    .dataframe thead th {\n",
       "        text-align: right;\n",
       "    }\n",
       "</style>\n",
       "<table border=\"1\" class=\"dataframe\">\n",
       "  <thead>\n",
       "    <tr style=\"text-align: right;\">\n",
       "      <th></th>\n",
       "      <th>행정구</th>\n",
       "      <th>행정동</th>\n",
       "      <th>도로연장(km)</th>\n",
       "      <th>면적(km^2)</th>\n",
       "      <th>도로보급률</th>\n",
       "      <th>도로보급률 지수</th>\n",
       "    </tr>\n",
       "  </thead>\n",
       "  <tbody>\n",
       "    <tr>\n",
       "      <th>0</th>\n",
       "      <td>강서구</td>\n",
       "      <td>가덕도동</td>\n",
       "      <td>63.024042</td>\n",
       "      <td>19.42</td>\n",
       "      <td>7.079431</td>\n",
       "      <td>0.397613</td>\n",
       "    </tr>\n",
       "    <tr>\n",
       "      <th>1</th>\n",
       "      <td>강서구</td>\n",
       "      <td>가락동</td>\n",
       "      <td>50.605329</td>\n",
       "      <td>14.09</td>\n",
       "      <td>8.866390</td>\n",
       "      <td>0.776725</td>\n",
       "    </tr>\n",
       "    <tr>\n",
       "      <th>2</th>\n",
       "      <td>강서구</td>\n",
       "      <td>강동동</td>\n",
       "      <td>28.907008</td>\n",
       "      <td>16.31</td>\n",
       "      <td>3.501386</td>\n",
       "      <td>0.212054</td>\n",
       "    </tr>\n",
       "    <tr>\n",
       "      <th>3</th>\n",
       "      <td>강서구</td>\n",
       "      <td>녹산동</td>\n",
       "      <td>305.938534</td>\n",
       "      <td>58.93</td>\n",
       "      <td>6.654082</td>\n",
       "      <td>0.072362</td>\n",
       "    </tr>\n",
       "    <tr>\n",
       "      <th>4</th>\n",
       "      <td>강서구</td>\n",
       "      <td>대저1동</td>\n",
       "      <td>86.238678</td>\n",
       "      <td>13.66</td>\n",
       "      <td>9.211084</td>\n",
       "      <td>0.491914</td>\n",
       "    </tr>\n",
       "    <tr>\n",
       "      <th>...</th>\n",
       "      <td>...</td>\n",
       "      <td>...</td>\n",
       "      <td>...</td>\n",
       "      <td>...</td>\n",
       "      <td>...</td>\n",
       "      <td>...</td>\n",
       "    </tr>\n",
       "    <tr>\n",
       "      <th>200</th>\n",
       "      <td>해운대구</td>\n",
       "      <td>좌2동</td>\n",
       "      <td>5.592018</td>\n",
       "      <td>0.50</td>\n",
       "      <td>1.406046</td>\n",
       "      <td>0.176767</td>\n",
       "    </tr>\n",
       "    <tr>\n",
       "      <th>201</th>\n",
       "      <td>해운대구</td>\n",
       "      <td>좌3동</td>\n",
       "      <td>7.319492</td>\n",
       "      <td>0.72</td>\n",
       "      <td>2.163909</td>\n",
       "      <td>0.319865</td>\n",
       "    </tr>\n",
       "    <tr>\n",
       "      <th>202</th>\n",
       "      <td>해운대구</td>\n",
       "      <td>좌4동</td>\n",
       "      <td>15.660067</td>\n",
       "      <td>1.80</td>\n",
       "      <td>2.440062</td>\n",
       "      <td>0.190098</td>\n",
       "    </tr>\n",
       "    <tr>\n",
       "      <th>203</th>\n",
       "      <td>해운대구</td>\n",
       "      <td>중1동</td>\n",
       "      <td>21.117586</td>\n",
       "      <td>1.73</td>\n",
       "      <td>3.042892</td>\n",
       "      <td>0.219229</td>\n",
       "    </tr>\n",
       "    <tr>\n",
       "      <th>204</th>\n",
       "      <td>해운대구</td>\n",
       "      <td>중2동</td>\n",
       "      <td>17.039749</td>\n",
       "      <td>1.16</td>\n",
       "      <td>3.981467</td>\n",
       "      <td>0.465150</td>\n",
       "    </tr>\n",
       "  </tbody>\n",
       "</table>\n",
       "<p>205 rows × 6 columns</p>\n",
       "</div>"
      ],
      "text/plain": [
       "      행정구   행정동    도로연장(km)  면적(km^2)     도로보급률  도로보급률 지수\n",
       "0     강서구  가덕도동   63.024042     19.42  7.079431  0.397613\n",
       "1     강서구   가락동   50.605329     14.09  8.866390  0.776725\n",
       "2     강서구   강동동   28.907008     16.31  3.501386  0.212054\n",
       "3     강서구   녹산동  305.938534     58.93  6.654082  0.072362\n",
       "4     강서구  대저1동   86.238678     13.66  9.211084  0.491914\n",
       "..    ...   ...         ...       ...       ...       ...\n",
       "200  해운대구   좌2동    5.592018      0.50  1.406046  0.176767\n",
       "201  해운대구   좌3동    7.319492      0.72  2.163909  0.319865\n",
       "202  해운대구   좌4동   15.660067      1.80  2.440062  0.190098\n",
       "203  해운대구   중1동   21.117586      1.73  3.042892  0.219229\n",
       "204  해운대구   중2동   17.039749      1.16  3.981467  0.465150\n",
       "\n",
       "[205 rows x 6 columns]"
      ]
     },
     "execution_count": 56,
     "metadata": {},
     "output_type": "execute_result"
    }
   ],
   "source": [
    "# 주차장 정보\n",
    "street_supply_file_path = 'C:\\\\Users\\\\SAMSUNG\\\\Desktop\\\\Green-Car-Charging-Station-Site-Selection\\\\Data\\\\도로보급률.csv'\n",
    "df_street_supply = pd.read_csv(street_supply_file_path, encoding='cp949')\n",
    "df_street_supply"
   ]
  },
  {
   "cell_type": "code",
   "execution_count": 57,
   "metadata": {},
   "outputs": [
    {
     "data": {
      "application/vnd.plotly.v1+json": {
       "config": {
        "plotlyServerURL": "https://plot.ly"
       },
       "data": [
        {
         "fill": "tozeroy",
         "line": {
          "color": "rgb(239,85,59)"
         },
         "name": "부적합",
         "type": "scatter",
         "x": [
          -2.1154448187440114,
          -2.0910463862314455,
          -2.06664795371888,
          -2.042249521206314,
          -2.017851088693748,
          -1.9934526561811825,
          -1.9690542236686168,
          -1.944655791156051,
          -1.9202573586434852,
          -1.8958589261309196,
          -1.8714604936183536,
          -1.847062061105788,
          -1.822663628593222,
          -1.7982651960806564,
          -1.7738667635680905,
          -1.7494683310555248,
          -1.7250698985429591,
          -1.7006714660303932,
          -1.6762730335178275,
          -1.6518746010052618,
          -1.627476168492696,
          -1.6030777359801303,
          -1.5786793034675646,
          -1.5542808709549987,
          -1.5298824384424328,
          -1.505484005929867,
          -1.4810855734173014,
          -1.4566871409047355,
          -1.4322887083921698,
          -1.4078902758796041,
          -1.3834918433670382,
          -1.3590934108544726,
          -1.3346949783419069,
          -1.310296545829341,
          -1.285898113316775,
          -1.2614996808042096,
          -1.2371012482916437,
          -1.2127028157790778,
          -1.188304383266512,
          -1.1639059507539464,
          -1.1395075182413805,
          -1.1151090857288148,
          -1.0907106532162492,
          -1.0663122207036833,
          -1.0419137881911176,
          -1.0175153556785517,
          -0.993116923165986,
          -0.9687184906534203,
          -0.9443200581408544,
          -0.9199216256282887,
          -0.8955231931157228,
          -0.8711247606031571,
          -0.8467263280905915,
          -0.8223278955780255,
          -0.7979294630654599,
          -0.7735310305528942,
          -0.7491325980403283,
          -0.7247341655277626,
          -0.7003357330151967,
          -0.675937300502631,
          -0.6515388679900653,
          -0.6271404354774994,
          -0.6027420029649337,
          -0.5783435704523678,
          -0.5539451379398022,
          -0.5295467054272365,
          -0.5051482729146706,
          -0.4807498404021049,
          -0.456351407889539,
          -0.4319529753769733,
          -0.4075545428644076,
          -0.3831561103518417,
          -0.35875767783927603,
          -0.33435924532671013,
          -0.30996081281414445,
          -0.28556238030157877,
          -0.26116394778901286,
          -0.23676551527644718,
          -0.2123670827638815,
          -0.1879686502513156,
          -0.1635702177387499,
          -0.139171785226184,
          -0.11477335271361833,
          -0.09037492020105242,
          -0.06597648768848696,
          -0.04157805517592106,
          -0.017179622663355154,
          0.007218809849210306,
          0.03161724236177621,
          0.056015674874342114,
          0.08041410738690802,
          0.10481253989947348,
          0.12921097241203938,
          0.1536094049246053,
          0.17800783743717075,
          0.20240626994973665,
          0.22680470246230255,
          0.251203134974868,
          0.2756015674874339,
          0.3
         ],
         "y": [
          0.0657375453785563,
          0.06684310632371653,
          0.06795821989600397,
          0.06908274633571665,
          0.07021653977397804,
          0.07135944820989833,
          0.07251131349147052,
          0.07367197130027865,
          0.07484125114009162,
          0.07601897632941552,
          0.07720496399807295,
          0.07839902508787643,
          0.07960096435745975,
          0.08081058039132823,
          0.08202766561318561,
          0.08325200630359272,
          0.0844833826220096,
          0.08572156863326899,
          0.08696633233852627,
          0.08821743571072736,
          0.08947463473463187,
          0.09073767945142577,
          0.09200631400795398,
          0.0932802767105981,
          0.09455930008382304,
          0.09584311093340957,
          0.09713143041438745,
          0.09842397410367892,
          0.09972045207745786,
          0.10102056899322655,
          0.10232402417660569,
          0.10363051171283139,
          0.10493972054294597,
          0.10625133456466661,
          0.10756503273790981,
          0.10888048919494643,
          0.11019737335515664,
          0.11151535004434865,
          0.11283407961860252,
          0.11415321809259373,
          0.11547241727234643,
          0.11679132489236362,
          0.11810958475707413,
          0.11942683688653313,
          0.12074271766630819,
          0.12205686000147717,
          0.12336889347466086,
          0.12467844450800773,
          0.1259851365290436,
          0.12728859014029514,
          0.12858842329259107,
          0.12988425146194021,
          0.13117568782988218,
          0.13246234346720082,
          0.13374382752088748,
          0.1350197474042361,
          0.13628970898994877,
          0.1375533168061256,
          0.13881017423500963,
          0.14005988371435327,
          0.14130204694126888,
          0.14253626507842315,
          0.14376213896243095,
          0.14497926931430075,
          0.14618725695178159,
          0.1473857030034573,
          0.14857420912443103,
          0.14975237771344097,
          0.1509198121312445,
          0.1520761169201069,
          0.15322089802422617,
          0.15435376301092607,
          0.15547432129244515,
          0.15658218434814888,
          0.15767696594699032,
          0.15875828237004222,
          0.1598257526329239,
          0.1608789987079429,
          0.16191764574577253,
          0.16294132229648414,
          0.16394966052975313,
          0.16494229645405692,
          0.16591887013468315,
          0.1668790259103663,
          0.16782241260837072,
          0.16874868375783922,
          0.16965749780122577,
          0.17054851830363307,
          0.17142141415987522,
          0.1722758597990879,
          0.17311153538670948,
          0.17392812702365784,
          0.17472532694252976,
          0.17550283370065137,
          0.17626035236981039,
          0.17699759472250343,
          0.17771427941453322,
          0.17841013216379514,
          0.17908488592509275,
          0.17973828106082781
         ]
        },
        {
         "fill": "tozeroy",
         "line": {
          "color": "rgb(100,110,250)"
         },
         "name": "적합",
         "type": "scatter",
         "x": [
          0.3,
          0.49379780838383835,
          0.6875956167676767,
          0.8813934251515152,
          1.0751912335353535,
          1.2689890419191918,
          1.4627868503030304,
          1.6565846586868687,
          1.850382467070707,
          2.0441802754545453,
          2.2379780838383834,
          2.431775892222222,
          2.6255737006060604,
          2.8193715089898985,
          3.013169317373737,
          3.206967125757575,
          3.4007649341414137,
          3.594562742525252,
          3.7883605509090903,
          3.982158359292929,
          4.175956167676767,
          4.369753976060606,
          4.563551784444444,
          4.757349592828282,
          4.951147401212121,
          5.144945209595959,
          5.338743017979797,
          5.532540826363635,
          5.726338634747474,
          5.920136443131312,
          6.1139342515151505,
          6.307732059898989,
          6.5015298682828275,
          6.695327676666666,
          6.889125485050505,
          7.082923293434343,
          7.276721101818181,
          7.47051891020202,
          7.664316718585858,
          7.858114526969696,
          8.051912335353535,
          8.245710143737373,
          8.439507952121213,
          8.633305760505051,
          8.827103568888889,
          9.020901377272727,
          9.214699185656565,
          9.408496994040403,
          9.602294802424243,
          9.796092610808081,
          9.98989041919192,
          10.183688227575757,
          10.377486035959596,
          10.571283844343434,
          10.765081652727272,
          10.958879461111112,
          11.15267726949495,
          11.346475077878788,
          11.540272886262626,
          11.734070694646464,
          11.927868503030302,
          12.121666311414142,
          12.31546411979798,
          12.509261928181818,
          12.703059736565656,
          12.896857544949494,
          13.090655353333332,
          13.28445316171717,
          13.47825097010101,
          13.672048778484848,
          13.865846586868686,
          14.059644395252525,
          14.253442203636363,
          14.4472400120202,
          14.64103782040404,
          14.834835628787879,
          15.028633437171717,
          15.222431245555555,
          15.416229053939393,
          15.610026862323231,
          15.803824670707069,
          15.997622479090909,
          16.191420287474745,
          16.385218095858583,
          16.579015904242425,
          16.772813712626263,
          16.9666115210101,
          17.16040932939394,
          17.354207137777777,
          17.548004946161615,
          17.741802754545454,
          17.93560056292929,
          18.12939837131313,
          18.323196179696968,
          18.516993988080806,
          18.710791796464644,
          18.904589604848486,
          19.098387413232324,
          19.292185221616162,
          19.48598303
         ],
         "y": [
          0.17973828106082781,
          0.1841415679018525,
          0.18707607437961024,
          0.18846895305290745,
          0.18828535723351175,
          0.18652988992063294,
          0.18324641199754263,
          0.17851622084843152,
          0.17245470499111767,
          0.16520666690945995,
          0.15694057870243647,
          0.14784208840964774,
          0.13810712558616495,
          0.12793496148817918,
          0.11752156269521989,
          0.10705353958608947,
          0.09670293679039499,
          0.08662304663166857,
          0.07694535430685781,
          0.06777765078830889,
          0.0592032814022543,
          0.05128143907363721,
          0.04404836451225081,
          0.03751928302215248,
          0.03169088969860487,
          0.026544190882522523,
          0.022047518225450962,
          0.01815955021286762,
          0.014832201717407385,
          0.012013272202856501,
          0.009648774811319103,
          0.007684899323839472,
          0.006069589960537672,
          0.004753742811137315,
          0.003692046560075102,
          0.0028435038162387192,
          0.002171678942633816,
          0.0016447223110596988,
          0.0012352211120146876,
          0.0009199240789215977,
          0.0006793826097708284,
          0.0004975446079337979,
          0.0003613306319633265,
          0.00026021522061726507,
          0.00018582997557069076,
          0.00013159942821922764,
          0.00009241604815154733,
          0.00006435702252770632,
          0.00004444261979399877,
          0.000030433963735230032,
          0.00002066676706037306,
          0.000013916875074641313,
          0.00000929321686192445,
          0.000006153831114821689,
          0.0000040409198228484355,
          0.000002631298101650129,
          0.0000016990847028950315,
          0.0000010879656055816356,
          6.908288415972347e-7,
          4.349916437006933e-7,
          2.716104819377651e-7,
          1.6817726939032737e-7,
          1.0326264049492922e-7,
          6.287446663596478e-8,
          3.7963003108682193e-8,
          2.2730132411893833e-8,
          1.3495796763035302e-8,
          7.946030942515353e-9,
          4.639349950227403e-9,
          2.6860814192494432e-9,
          1.5421846318724911e-9,
          8.780287325374008e-10,
          4.957197745921876e-10,
          2.7753573994594194e-10,
          1.5408371846426397e-10,
          8.483005373776132e-11,
          4.631246448018732e-11,
          2.5072705583229626e-11,
          1.346045276541139e-11,
          7.165942093320751e-12,
          3.783049979982195e-12,
          1.9804597586574735e-12,
          1.0281231170116758e-12,
          5.292725674134324e-13,
          2.7018970923503544e-13,
          1.3677709695661627e-13,
          6.866147332418351e-14,
          3.4179681641025424e-14,
          1.687244678108747e-14,
          8.259300725702023e-15,
          4.009254730238675e-15,
          1.9299194359807148e-15,
          9.212338090826688e-16,
          4.3606950308800266e-16,
          2.0469004451857978e-16,
          9.527805536760838e-17,
          4.397888427860606e-17,
          2.0130320466255006e-17,
          9.13718311948072e-18,
          4.112719851264201e-18
         ]
        }
       ],
       "layout": {
        "annotations": [
         {
          "bordercolor": "rgb(239,85,59)",
          "borderwidth": 2,
          "font": {
           "color": "rgb(239,85,59)",
           "size": 15
          },
          "showarrow": false,
          "text": "0.305",
          "x": 0.3,
          "xshift": -40,
          "y": 0.17973828106082781,
          "yshift": -100
         },
         {
          "bordercolor": "rgb(100,110,250)",
          "borderwidth": 2,
          "font": {
           "color": "rgb(100,110,250)",
           "size": 15
          },
          "showarrow": false,
          "text": "0.695",
          "x": 0.3,
          "xshift": 40,
          "y": 0.17973828106082781,
          "yshift": -100
         }
        ],
        "template": {
         "data": {
          "bar": [
           {
            "error_x": {
             "color": "#2a3f5f"
            },
            "error_y": {
             "color": "#2a3f5f"
            },
            "marker": {
             "line": {
              "color": "#E5ECF6",
              "width": 0.5
             },
             "pattern": {
              "fillmode": "overlay",
              "size": 10,
              "solidity": 0.2
             }
            },
            "type": "bar"
           }
          ],
          "barpolar": [
           {
            "marker": {
             "line": {
              "color": "#E5ECF6",
              "width": 0.5
             },
             "pattern": {
              "fillmode": "overlay",
              "size": 10,
              "solidity": 0.2
             }
            },
            "type": "barpolar"
           }
          ],
          "carpet": [
           {
            "aaxis": {
             "endlinecolor": "#2a3f5f",
             "gridcolor": "white",
             "linecolor": "white",
             "minorgridcolor": "white",
             "startlinecolor": "#2a3f5f"
            },
            "baxis": {
             "endlinecolor": "#2a3f5f",
             "gridcolor": "white",
             "linecolor": "white",
             "minorgridcolor": "white",
             "startlinecolor": "#2a3f5f"
            },
            "type": "carpet"
           }
          ],
          "choropleth": [
           {
            "colorbar": {
             "outlinewidth": 0,
             "ticks": ""
            },
            "type": "choropleth"
           }
          ],
          "contour": [
           {
            "colorbar": {
             "outlinewidth": 0,
             "ticks": ""
            },
            "colorscale": [
             [
              0,
              "#0d0887"
             ],
             [
              0.1111111111111111,
              "#46039f"
             ],
             [
              0.2222222222222222,
              "#7201a8"
             ],
             [
              0.3333333333333333,
              "#9c179e"
             ],
             [
              0.4444444444444444,
              "#bd3786"
             ],
             [
              0.5555555555555556,
              "#d8576b"
             ],
             [
              0.6666666666666666,
              "#ed7953"
             ],
             [
              0.7777777777777778,
              "#fb9f3a"
             ],
             [
              0.8888888888888888,
              "#fdca26"
             ],
             [
              1,
              "#f0f921"
             ]
            ],
            "type": "contour"
           }
          ],
          "contourcarpet": [
           {
            "colorbar": {
             "outlinewidth": 0,
             "ticks": ""
            },
            "type": "contourcarpet"
           }
          ],
          "heatmap": [
           {
            "colorbar": {
             "outlinewidth": 0,
             "ticks": ""
            },
            "colorscale": [
             [
              0,
              "#0d0887"
             ],
             [
              0.1111111111111111,
              "#46039f"
             ],
             [
              0.2222222222222222,
              "#7201a8"
             ],
             [
              0.3333333333333333,
              "#9c179e"
             ],
             [
              0.4444444444444444,
              "#bd3786"
             ],
             [
              0.5555555555555556,
              "#d8576b"
             ],
             [
              0.6666666666666666,
              "#ed7953"
             ],
             [
              0.7777777777777778,
              "#fb9f3a"
             ],
             [
              0.8888888888888888,
              "#fdca26"
             ],
             [
              1,
              "#f0f921"
             ]
            ],
            "type": "heatmap"
           }
          ],
          "heatmapgl": [
           {
            "colorbar": {
             "outlinewidth": 0,
             "ticks": ""
            },
            "colorscale": [
             [
              0,
              "#0d0887"
             ],
             [
              0.1111111111111111,
              "#46039f"
             ],
             [
              0.2222222222222222,
              "#7201a8"
             ],
             [
              0.3333333333333333,
              "#9c179e"
             ],
             [
              0.4444444444444444,
              "#bd3786"
             ],
             [
              0.5555555555555556,
              "#d8576b"
             ],
             [
              0.6666666666666666,
              "#ed7953"
             ],
             [
              0.7777777777777778,
              "#fb9f3a"
             ],
             [
              0.8888888888888888,
              "#fdca26"
             ],
             [
              1,
              "#f0f921"
             ]
            ],
            "type": "heatmapgl"
           }
          ],
          "histogram": [
           {
            "marker": {
             "pattern": {
              "fillmode": "overlay",
              "size": 10,
              "solidity": 0.2
             }
            },
            "type": "histogram"
           }
          ],
          "histogram2d": [
           {
            "colorbar": {
             "outlinewidth": 0,
             "ticks": ""
            },
            "colorscale": [
             [
              0,
              "#0d0887"
             ],
             [
              0.1111111111111111,
              "#46039f"
             ],
             [
              0.2222222222222222,
              "#7201a8"
             ],
             [
              0.3333333333333333,
              "#9c179e"
             ],
             [
              0.4444444444444444,
              "#bd3786"
             ],
             [
              0.5555555555555556,
              "#d8576b"
             ],
             [
              0.6666666666666666,
              "#ed7953"
             ],
             [
              0.7777777777777778,
              "#fb9f3a"
             ],
             [
              0.8888888888888888,
              "#fdca26"
             ],
             [
              1,
              "#f0f921"
             ]
            ],
            "type": "histogram2d"
           }
          ],
          "histogram2dcontour": [
           {
            "colorbar": {
             "outlinewidth": 0,
             "ticks": ""
            },
            "colorscale": [
             [
              0,
              "#0d0887"
             ],
             [
              0.1111111111111111,
              "#46039f"
             ],
             [
              0.2222222222222222,
              "#7201a8"
             ],
             [
              0.3333333333333333,
              "#9c179e"
             ],
             [
              0.4444444444444444,
              "#bd3786"
             ],
             [
              0.5555555555555556,
              "#d8576b"
             ],
             [
              0.6666666666666666,
              "#ed7953"
             ],
             [
              0.7777777777777778,
              "#fb9f3a"
             ],
             [
              0.8888888888888888,
              "#fdca26"
             ],
             [
              1,
              "#f0f921"
             ]
            ],
            "type": "histogram2dcontour"
           }
          ],
          "mesh3d": [
           {
            "colorbar": {
             "outlinewidth": 0,
             "ticks": ""
            },
            "type": "mesh3d"
           }
          ],
          "parcoords": [
           {
            "line": {
             "colorbar": {
              "outlinewidth": 0,
              "ticks": ""
             }
            },
            "type": "parcoords"
           }
          ],
          "pie": [
           {
            "automargin": true,
            "type": "pie"
           }
          ],
          "scatter": [
           {
            "marker": {
             "colorbar": {
              "outlinewidth": 0,
              "ticks": ""
             }
            },
            "type": "scatter"
           }
          ],
          "scatter3d": [
           {
            "line": {
             "colorbar": {
              "outlinewidth": 0,
              "ticks": ""
             }
            },
            "marker": {
             "colorbar": {
              "outlinewidth": 0,
              "ticks": ""
             }
            },
            "type": "scatter3d"
           }
          ],
          "scattercarpet": [
           {
            "marker": {
             "colorbar": {
              "outlinewidth": 0,
              "ticks": ""
             }
            },
            "type": "scattercarpet"
           }
          ],
          "scattergeo": [
           {
            "marker": {
             "colorbar": {
              "outlinewidth": 0,
              "ticks": ""
             }
            },
            "type": "scattergeo"
           }
          ],
          "scattergl": [
           {
            "marker": {
             "colorbar": {
              "outlinewidth": 0,
              "ticks": ""
             }
            },
            "type": "scattergl"
           }
          ],
          "scattermapbox": [
           {
            "marker": {
             "colorbar": {
              "outlinewidth": 0,
              "ticks": ""
             }
            },
            "type": "scattermapbox"
           }
          ],
          "scatterpolar": [
           {
            "marker": {
             "colorbar": {
              "outlinewidth": 0,
              "ticks": ""
             }
            },
            "type": "scatterpolar"
           }
          ],
          "scatterpolargl": [
           {
            "marker": {
             "colorbar": {
              "outlinewidth": 0,
              "ticks": ""
             }
            },
            "type": "scatterpolargl"
           }
          ],
          "scatterternary": [
           {
            "marker": {
             "colorbar": {
              "outlinewidth": 0,
              "ticks": ""
             }
            },
            "type": "scatterternary"
           }
          ],
          "surface": [
           {
            "colorbar": {
             "outlinewidth": 0,
             "ticks": ""
            },
            "colorscale": [
             [
              0,
              "#0d0887"
             ],
             [
              0.1111111111111111,
              "#46039f"
             ],
             [
              0.2222222222222222,
              "#7201a8"
             ],
             [
              0.3333333333333333,
              "#9c179e"
             ],
             [
              0.4444444444444444,
              "#bd3786"
             ],
             [
              0.5555555555555556,
              "#d8576b"
             ],
             [
              0.6666666666666666,
              "#ed7953"
             ],
             [
              0.7777777777777778,
              "#fb9f3a"
             ],
             [
              0.8888888888888888,
              "#fdca26"
             ],
             [
              1,
              "#f0f921"
             ]
            ],
            "type": "surface"
           }
          ],
          "table": [
           {
            "cells": {
             "fill": {
              "color": "#EBF0F8"
             },
             "line": {
              "color": "white"
             }
            },
            "header": {
             "fill": {
              "color": "#C8D4E3"
             },
             "line": {
              "color": "white"
             }
            },
            "type": "table"
           }
          ]
         },
         "layout": {
          "annotationdefaults": {
           "arrowcolor": "#2a3f5f",
           "arrowhead": 0,
           "arrowwidth": 1
          },
          "autotypenumbers": "strict",
          "coloraxis": {
           "colorbar": {
            "outlinewidth": 0,
            "ticks": ""
           }
          },
          "colorscale": {
           "diverging": [
            [
             0,
             "#8e0152"
            ],
            [
             0.1,
             "#c51b7d"
            ],
            [
             0.2,
             "#de77ae"
            ],
            [
             0.3,
             "#f1b6da"
            ],
            [
             0.4,
             "#fde0ef"
            ],
            [
             0.5,
             "#f7f7f7"
            ],
            [
             0.6,
             "#e6f5d0"
            ],
            [
             0.7,
             "#b8e186"
            ],
            [
             0.8,
             "#7fbc41"
            ],
            [
             0.9,
             "#4d9221"
            ],
            [
             1,
             "#276419"
            ]
           ],
           "sequential": [
            [
             0,
             "#0d0887"
            ],
            [
             0.1111111111111111,
             "#46039f"
            ],
            [
             0.2222222222222222,
             "#7201a8"
            ],
            [
             0.3333333333333333,
             "#9c179e"
            ],
            [
             0.4444444444444444,
             "#bd3786"
            ],
            [
             0.5555555555555556,
             "#d8576b"
            ],
            [
             0.6666666666666666,
             "#ed7953"
            ],
            [
             0.7777777777777778,
             "#fb9f3a"
            ],
            [
             0.8888888888888888,
             "#fdca26"
            ],
            [
             1,
             "#f0f921"
            ]
           ],
           "sequentialminus": [
            [
             0,
             "#0d0887"
            ],
            [
             0.1111111111111111,
             "#46039f"
            ],
            [
             0.2222222222222222,
             "#7201a8"
            ],
            [
             0.3333333333333333,
             "#9c179e"
            ],
            [
             0.4444444444444444,
             "#bd3786"
            ],
            [
             0.5555555555555556,
             "#d8576b"
            ],
            [
             0.6666666666666666,
             "#ed7953"
            ],
            [
             0.7777777777777778,
             "#fb9f3a"
            ],
            [
             0.8888888888888888,
             "#fdca26"
            ],
            [
             1,
             "#f0f921"
            ]
           ]
          },
          "colorway": [
           "#636efa",
           "#EF553B",
           "#00cc96",
           "#ab63fa",
           "#FFA15A",
           "#19d3f3",
           "#FF6692",
           "#B6E880",
           "#FF97FF",
           "#FECB52"
          ],
          "font": {
           "color": "#2a3f5f"
          },
          "geo": {
           "bgcolor": "white",
           "lakecolor": "white",
           "landcolor": "#E5ECF6",
           "showlakes": true,
           "showland": true,
           "subunitcolor": "white"
          },
          "hoverlabel": {
           "align": "left"
          },
          "hovermode": "closest",
          "mapbox": {
           "style": "light"
          },
          "paper_bgcolor": "white",
          "plot_bgcolor": "#E5ECF6",
          "polar": {
           "angularaxis": {
            "gridcolor": "white",
            "linecolor": "white",
            "ticks": ""
           },
           "bgcolor": "#E5ECF6",
           "radialaxis": {
            "gridcolor": "white",
            "linecolor": "white",
            "ticks": ""
           }
          },
          "scene": {
           "xaxis": {
            "backgroundcolor": "#E5ECF6",
            "gridcolor": "white",
            "gridwidth": 2,
            "linecolor": "white",
            "showbackground": true,
            "ticks": "",
            "zerolinecolor": "white"
           },
           "yaxis": {
            "backgroundcolor": "#E5ECF6",
            "gridcolor": "white",
            "gridwidth": 2,
            "linecolor": "white",
            "showbackground": true,
            "ticks": "",
            "zerolinecolor": "white"
           },
           "zaxis": {
            "backgroundcolor": "#E5ECF6",
            "gridcolor": "white",
            "gridwidth": 2,
            "linecolor": "white",
            "showbackground": true,
            "ticks": "",
            "zerolinecolor": "white"
           }
          },
          "shapedefaults": {
           "line": {
            "color": "#2a3f5f"
           }
          },
          "ternary": {
           "aaxis": {
            "gridcolor": "white",
            "linecolor": "white",
            "ticks": ""
           },
           "baxis": {
            "gridcolor": "white",
            "linecolor": "white",
            "ticks": ""
           },
           "bgcolor": "#E5ECF6",
           "caxis": {
            "gridcolor": "white",
            "linecolor": "white",
            "ticks": ""
           }
          },
          "title": {
           "x": 0.05
          },
          "xaxis": {
           "automargin": true,
           "gridcolor": "white",
           "linecolor": "white",
           "ticks": "",
           "title": {
            "standoff": 15
           },
           "zerolinecolor": "white",
           "zerolinewidth": 2
          },
          "yaxis": {
           "automargin": true,
           "gridcolor": "white",
           "linecolor": "white",
           "ticks": "",
           "title": {
            "standoff": 15
           },
           "zerolinecolor": "white",
           "zerolinewidth": 2
          }
         }
        },
        "yaxis": {
         "visible": false
        }
       }
      }
     },
     "metadata": {},
     "output_type": "display_data"
    }
   ],
   "source": [
    "street_supply_pro, street_supply_pro_negative = cal_norm(df_street_supply['도로보급률 지수'].mean(),\n",
    "                                                         df_street_supply['도로보급률 지수'].std(),\n",
    "                                                         df_street_supply['도로보급률 지수'].min(),\n",
    "                                                         df_street_supply['도로보급률 지수'].max(),\n",
    "                                                         street_supply_standard,\n",
    "                                                         False)"
   ]
  },
  {
   "cell_type": "markdown",
   "metadata": {},
   "source": [
    "## 상위 요소 - 경제적 요소"
   ]
  },
  {
   "cell_type": "markdown",
   "metadata": {},
   "source": [
    "### 전기차 충전기 비용"
   ]
  },
  {
   "cell_type": "code",
   "execution_count": 58,
   "metadata": {},
   "outputs": [
    {
     "data": {
      "text/html": [
       "<div>\n",
       "<style scoped>\n",
       "    .dataframe tbody tr th:only-of-type {\n",
       "        vertical-align: middle;\n",
       "    }\n",
       "\n",
       "    .dataframe tbody tr th {\n",
       "        vertical-align: top;\n",
       "    }\n",
       "\n",
       "    .dataframe thead th {\n",
       "        text-align: right;\n",
       "    }\n",
       "</style>\n",
       "<table border=\"1\" class=\"dataframe\">\n",
       "  <thead>\n",
       "    <tr style=\"text-align: right;\">\n",
       "      <th></th>\n",
       "      <th>모델명</th>\n",
       "      <th>타입</th>\n",
       "      <th>충전기가격</th>\n",
       "      <th>전격용량</th>\n",
       "      <th>충전기</th>\n",
       "    </tr>\n",
       "  </thead>\n",
       "  <tbody>\n",
       "    <tr>\n",
       "      <th>0</th>\n",
       "      <td>JC-6511PS-B-PO-BC</td>\n",
       "      <td>벽부착형 또는 스탠드형(폴 포함)</td>\n",
       "      <td>1800000</td>\n",
       "      <td>7 kW</td>\n",
       "      <td>완속</td>\n",
       "    </tr>\n",
       "    <tr>\n",
       "      <th>1</th>\n",
       "      <td>JEV-AW-107</td>\n",
       "      <td>벽부착형</td>\n",
       "      <td>2000000</td>\n",
       "      <td>7 kWh</td>\n",
       "      <td>완속</td>\n",
       "    </tr>\n",
       "    <tr>\n",
       "      <th>2</th>\n",
       "      <td>JEV-AS-107</td>\n",
       "      <td>스탠드형</td>\n",
       "      <td>2000000</td>\n",
       "      <td>7 kWh</td>\n",
       "      <td>완속</td>\n",
       "    </tr>\n",
       "    <tr>\n",
       "      <th>3</th>\n",
       "      <td>CS 100X 2BC01W</td>\n",
       "      <td>벽부착형</td>\n",
       "      <td>1452080</td>\n",
       "      <td>7 kWh</td>\n",
       "      <td>완속</td>\n",
       "    </tr>\n",
       "    <tr>\n",
       "      <th>4</th>\n",
       "      <td>CS 500A 2BC04W</td>\n",
       "      <td>벽부착형</td>\n",
       "      <td>1889248</td>\n",
       "      <td>7 kWh</td>\n",
       "      <td>완속</td>\n",
       "    </tr>\n",
       "    <tr>\n",
       "      <th>5</th>\n",
       "      <td>CS 200A 2BC03C</td>\n",
       "      <td>스탠드형</td>\n",
       "      <td>2018074</td>\n",
       "      <td>7 kWh</td>\n",
       "      <td>완속</td>\n",
       "    </tr>\n",
       "    <tr>\n",
       "      <th>6</th>\n",
       "      <td>CS 200A 3BC01C</td>\n",
       "      <td>스탠드형</td>\n",
       "      <td>3435449</td>\n",
       "      <td>14 kWh</td>\n",
       "      <td>완속</td>\n",
       "    </tr>\n",
       "    <tr>\n",
       "      <th>7</th>\n",
       "      <td>UK-NC7W-TCE</td>\n",
       "      <td>벽부착형 또는 스탠드형(폴 포함)</td>\n",
       "      <td>1800000</td>\n",
       "      <td>7 kW</td>\n",
       "      <td>완속</td>\n",
       "    </tr>\n",
       "    <tr>\n",
       "      <th>8</th>\n",
       "      <td>PECOH-HSC</td>\n",
       "      <td>벽부착형 또는 스탠드형(폴 포함)</td>\n",
       "      <td>770000</td>\n",
       "      <td>7 kW</td>\n",
       "      <td>완속</td>\n",
       "    </tr>\n",
       "    <tr>\n",
       "      <th>9</th>\n",
       "      <td>SPVseries</td>\n",
       "      <td>스탠드형</td>\n",
       "      <td>27500000</td>\n",
       "      <td>100kW</td>\n",
       "      <td>급속</td>\n",
       "    </tr>\n",
       "    <tr>\n",
       "      <th>10</th>\n",
       "      <td>SSEVC21F-BCCI100KW</td>\n",
       "      <td>스탠드형</td>\n",
       "      <td>58000000</td>\n",
       "      <td>100kW</td>\n",
       "      <td>급속</td>\n",
       "    </tr>\n",
       "    <tr>\n",
       "      <th>11</th>\n",
       "      <td>SSEVC21F-BCCI200KW</td>\n",
       "      <td>스탠드형</td>\n",
       "      <td>40000000</td>\n",
       "      <td>200kW</td>\n",
       "      <td>급속</td>\n",
       "    </tr>\n",
       "    <tr>\n",
       "      <th>12</th>\n",
       "      <td>FC100-DCM-PS</td>\n",
       "      <td>스탠드형</td>\n",
       "      <td>26000000</td>\n",
       "      <td>100kW</td>\n",
       "      <td>급속</td>\n",
       "    </tr>\n",
       "    <tr>\n",
       "      <th>13</th>\n",
       "      <td>EVD100J-DBB</td>\n",
       "      <td>스탠드형</td>\n",
       "      <td>48000000</td>\n",
       "      <td>100kW</td>\n",
       "      <td>급속</td>\n",
       "    </tr>\n",
       "    <tr>\n",
       "      <th>14</th>\n",
       "      <td>FC50K-CC</td>\n",
       "      <td>스탠드형</td>\n",
       "      <td>18000000</td>\n",
       "      <td>50kW</td>\n",
       "      <td>급속</td>\n",
       "    </tr>\n",
       "    <tr>\n",
       "      <th>15</th>\n",
       "      <td>CF-100M</td>\n",
       "      <td>스탠드형</td>\n",
       "      <td>21500000</td>\n",
       "      <td>50kW</td>\n",
       "      <td>급속</td>\n",
       "    </tr>\n",
       "    <tr>\n",
       "      <th>16</th>\n",
       "      <td>SVI-OF50T</td>\n",
       "      <td>스탠드형</td>\n",
       "      <td>16900000</td>\n",
       "      <td>50kW</td>\n",
       "      <td>급속</td>\n",
       "    </tr>\n",
       "    <tr>\n",
       "      <th>17</th>\n",
       "      <td>CF-200M(1CH)</td>\n",
       "      <td>스탠드형</td>\n",
       "      <td>30000000</td>\n",
       "      <td>100kW</td>\n",
       "      <td>급속</td>\n",
       "    </tr>\n",
       "    <tr>\n",
       "      <th>18</th>\n",
       "      <td>CF-200M(2CH)</td>\n",
       "      <td>스탠드형</td>\n",
       "      <td>33500000</td>\n",
       "      <td>100kW</td>\n",
       "      <td>급속</td>\n",
       "    </tr>\n",
       "  </tbody>\n",
       "</table>\n",
       "</div>"
      ],
      "text/plain": [
       "                   모델명                  타입     충전기가격    전격용량 충전기\n",
       "0    JC-6511PS-B-PO-BC  벽부착형 또는 스탠드형(폴 포함)   1800000    7 kW  완속\n",
       "1           JEV-AW-107                벽부착형   2000000   7 kWh  완속\n",
       "2           JEV-AS-107                스탠드형   2000000   7 kWh  완속\n",
       "3       CS 100X 2BC01W                벽부착형   1452080   7 kWh  완속\n",
       "4       CS 500A 2BC04W                벽부착형   1889248   7 kWh  완속\n",
       "5       CS 200A 2BC03C                스탠드형   2018074   7 kWh  완속\n",
       "6       CS 200A 3BC01C                스탠드형   3435449  14 kWh  완속\n",
       "7          UK-NC7W-TCE  벽부착형 또는 스탠드형(폴 포함)   1800000    7 kW  완속\n",
       "8            PECOH-HSC  벽부착형 또는 스탠드형(폴 포함)    770000    7 kW  완속\n",
       "9            SPVseries                스탠드형  27500000   100kW  급속\n",
       "10  SSEVC21F-BCCI100KW                스탠드형  58000000   100kW  급속\n",
       "11  SSEVC21F-BCCI200KW                스탠드형  40000000   200kW  급속\n",
       "12        FC100-DCM-PS                스탠드형  26000000   100kW  급속\n",
       "13         EVD100J-DBB                스탠드형  48000000   100kW  급속\n",
       "14            FC50K-CC                스탠드형  18000000    50kW  급속\n",
       "15             CF-100M                스탠드형  21500000    50kW  급속\n",
       "16           SVI-OF50T                스탠드형  16900000    50kW  급속\n",
       "17        CF-200M(1CH)                스탠드형  30000000   100kW  급속\n",
       "18        CF-200M(2CH)                스탠드형  33500000   100kW  급속"
      ]
     },
     "execution_count": 58,
     "metadata": {},
     "output_type": "execute_result"
    }
   ],
   "source": [
    "EVCS_cost_file_path = 'C:\\\\Users\\\\SAMSUNG\\\\Desktop\\\\Green-Car-Charging-Station-Site-Selection\\\\Data\\\\전기차 충전기 가격.csv'\n",
    "df_EVCS_cost = pd.read_csv(EVCS_cost_file_path, encoding='cp949')\n",
    "df_EVCS_cost"
   ]
  },
  {
   "cell_type": "code",
   "execution_count": 59,
   "metadata": {},
   "outputs": [
    {
     "data": {
      "application/vnd.plotly.v1+json": {
       "config": {
        "plotlyServerURL": "https://plot.ly"
       },
       "data": [
        {
         "fill": "tozeroy",
         "line": {
          "color": "rgb(100,110,250)"
         },
         "name": "적합",
         "type": "scatter",
         "x": [
          3597017.878184857,
          3914219.7177991513,
          4231421.557413446,
          4548623.39702774,
          4865825.236642035,
          5183027.076256329,
          5500228.915870624,
          5817430.755484918,
          6134632.595099213,
          6451834.434713507,
          6769036.274327802,
          7086238.113942096,
          7403439.95355639,
          7720641.793170684,
          8037843.6327849785,
          8355045.472399273,
          8672247.312013566,
          8989449.151627861,
          9306650.991242155,
          9623852.83085645,
          9941054.670470744,
          10258256.510085039,
          10575458.349699333,
          10892660.189313628,
          11209862.028927922,
          11527063.868542217,
          11844265.708156511,
          12161467.547770806,
          12478669.3873851,
          12795871.226999395,
          13113073.066613689,
          13430274.906227984,
          13747476.745842278,
          14064678.585456572,
          14381880.425070867,
          14699082.264685161,
          15016284.104299456,
          15333485.94391375,
          15650687.783528045,
          15967889.62314234,
          16285091.462756634,
          16602293.302370928,
          16919495.141985223,
          17236696.981599517,
          17553898.82121381,
          17871100.660828106,
          18188302.5004424,
          18505504.340056695,
          18822706.17967099,
          19139908.019285284,
          19457109.85889958,
          19774311.698513873,
          20091513.538128167,
          20408715.37774246,
          20725917.217356756,
          21043119.05697105,
          21360320.896585345,
          21677522.73619964,
          21994724.575813934,
          22311926.41542823,
          22629128.255042523,
          22946330.094656818,
          23263531.934271112,
          23580733.773885407,
          23897935.6134997,
          24215137.453113995,
          24532339.29272829,
          24849541.132342584,
          25166742.97195688,
          25483944.811571173,
          25801146.651185468,
          26118348.490799762,
          26435550.330414057,
          26752752.17002835,
          27069954.009642646,
          27387155.84925694,
          27704357.688871235,
          28021559.52848553,
          28338761.368099824,
          28655963.207714118,
          28973165.047328413,
          29290366.886942707,
          29607568.726557,
          29924770.566171296,
          30241972.40578559,
          30559174.245399885,
          30876376.08501418,
          31193577.924628474,
          31510779.76424277,
          31827981.603857063,
          32145183.443471357,
          32462385.28308565,
          32779587.122699946,
          33096788.96231424,
          33413990.801928535,
          33731192.64154283,
          34048394.48115712,
          34365596.32077141,
          34682798.160385706,
          35000000
         ],
         "y": [
          3.099239149314937e-9,
          3.259828706872526e-9,
          3.426790464066388e-9,
          3.6002561310187983e-9,
          3.780352753642521e-9,
          3.967202181526271e-9,
          4.160920524182357e-9,
          4.3616175969743e-9,
          4.569396358149732e-9,
          4.78435233851014e-9,
          5.006573065353302e-9,
          5.236137482425985e-9,
          5.4731153677229336e-9,
          5.717566751062724e-9,
          5.969541333461077e-9,
          6.229077910406869e-9,
          6.496203801224877e-9,
          6.7709342867814326e-9,
          7.053272057853908e-9,
          7.343206676541945e-9,
          7.640714053146469e-9,
          7.945755940981706e-9,
          8.258279451614566e-9,
          8.578216593044698e-9,
          8.90548383334646e-9,
          9.239981692290718e-9,
          9.58159436344917e-9,
          9.930189369256545e-9,
          1.0285617251466186e-8,
          1.0647711299381826e-8,
          1.1016287318182852e-8,
          1.1391143439581501e-8,
          1.1772059976958688e-8,
          1.2158799327020009e-8,
          1.2551105919895373e-8,
          1.2948706219474692e-8,
          1.3351308775628355e-8,
          1.3758604329805202e-8,
          1.4170265975332736e-8,
          1.4585949373564945e-8,
          1.5005293026832857e-8,
          1.542791860895246e-8,
          1.5853431353834787e-8,
          1.6281420502524203e-8,
          1.671145980876473e-8,
          1.714310810296089e-8,
          1.7575909914160542e-8,
          1.8009396149443525e-8,
          1.8443084829852342e-8,
          1.8876481881751594e-8,
          1.9309081982251686e-8,
          1.9740369457081612e-8,
          2.0169819229046103e-8,
          2.05968978149556e-8,
          2.102106436867491e-8,
          2.144177176769902e-8,
          2.1858467740433933e-8,
          2.2270596031138044e-8,
          2.267759759926636e-8,
          2.3078911849757487e-8,
          2.3473977890612913e-8,
          2.3862235813940804e-8,
          2.424312799647348e-8,
          2.461610041542021e-8,
          2.4980603975385987e-8,
          2.5336095841972924e-8,
          2.568204077758571e-8,
          2.601791247488602e-8,
          2.6343194883284153e-8,
          2.6657383523819642e-8,
          2.6959986787767157e-8,
          2.725052721430933e-8,
          2.752854274264517e-8,
          2.779358793395102e-8,
          2.8045235158680882e-8,
          2.8283075744784235e-8,
          2.8506721082531805e-8,
          2.8715803681772843e-8,
          2.8909978177601006e-8,
          2.9088922280578815e-8,
          2.9252337667862848e-8,
          2.9399950811781798e-8,
          2.9531513742646837e-8,
          2.9646804742816976e-8,
          2.9745628969300513e-8,
          2.982781900244542e-8,
          2.989323531855601e-8,
          2.994176668456837e-8,
          2.9973330473221974e-8,
          2.9987872897477315e-8,
          2.998536916324882e-8,
          2.9965823539845925e-8,
          2.9929269347842126e-8,
          2.9875768864420364e-8,
          2.9805413146571055e-8,
          2.971832177284531e-8,
          2.96146425046886e-8,
          2.9494550868697373e-8,
          2.935824966145175e-8,
          2.920596837887954e-8
         ]
        },
        {
         "fill": "tozeroy",
         "line": {
          "color": "rgb(239,85,59)"
         },
         "name": "부적합",
         "type": "scatter",
         "x": [
          35000000,
          35232323.23232323,
          35464646.464646466,
          35696969.696969695,
          35929292.92929293,
          36161616.16161616,
          36393939.39393939,
          36626262.62626263,
          36858585.85858586,
          37090909.09090909,
          37323232.32323232,
          37555555.55555555,
          37787878.78787879,
          38020202.02020202,
          38252525.252525255,
          38484848.484848484,
          38717171.71717171,
          38949494.94949495,
          39181818.18181818,
          39414141.41414142,
          39646464.646464646,
          39878787.878787875,
          40111111.11111111,
          40343434.34343434,
          40575757.57575758,
          40808080.80808081,
          41040404.04040404,
          41272727.27272727,
          41505050.5050505,
          41737373.73737374,
          41969696.96969697,
          42202020.2020202,
          42434343.434343435,
          42666666.666666664,
          42898989.8989899,
          43131313.13131313,
          43363636.36363636,
          43595959.5959596,
          43828282.828282826,
          44060606.06060606,
          44292929.29292929,
          44525252.52525252,
          44757575.75757576,
          44989898.98989899,
          45222222.222222224,
          45454545.45454545,
          45686868.68686868,
          45919191.91919192,
          46151515.15151515,
          46383838.383838385,
          46616161.616161615,
          46848484.848484844,
          47080808.08080808,
          47313131.31313131,
          47545454.54545455,
          47777777.777777776,
          48010101.010101005,
          48242424.24242424,
          48474747.47474747,
          48707070.70707071,
          48939393.93939394,
          49171717.17171717,
          49404040.4040404,
          49636363.63636363,
          49868686.86868687,
          50101010.1010101,
          50333333.33333333,
          50565656.565656565,
          50797979.797979794,
          51030303.03030303,
          51262626.26262626,
          51494949.49494949,
          51727272.72727273,
          51959595.95959596,
          52191919.19191919,
          52424242.42424242,
          52656565.65656565,
          52888888.88888889,
          53121212.121212125,
          53353535.353535354,
          53585858.58585858,
          53818181.81818181,
          54050505.05050505,
          54282828.28282829,
          54515151.515151516,
          54747474.747474745,
          54979797.979797974,
          55212121.21212121,
          55444444.44444445,
          55676767.67676768,
          55909090.90909091,
          56141414.141414136,
          56373737.37373737,
          56606060.60606061,
          56838383.83838384,
          57070707.07070707,
          57303030.3030303,
          57535353.535353534,
          57767676.76767677,
          58000000
         ],
         "y": [
          2.920596837887954e-8,
          2.9084443912756407e-8,
          2.8954592861407215e-8,
          2.8816531417872166e-8,
          2.8670382732441864e-8,
          2.851627672964084e-8,
          2.835434991580921e-8,
          2.8184745177681375e-8,
          2.8007611572377634e-8,
          2.782310410924039e-8,
          2.7631383523961866e-8,
          2.7432616045463446e-8,
          2.722697315599957e-8,
          2.701463134497018e-8,
          2.679577185693564e-8,
          2.657058043433691e-8,
          2.6339247055431025e-8,
          2.6101965667958112e-8,
          2.585893391906097e-8,
          2.5610352881981767e-8,
          2.5356426780062568e-8,
          2.5097362708577348e-8,
          2.4833370354922766e-8,
          2.4564661717693306e-8,
          2.4291450825163324e-8,
          2.4013953453694832e-8,
          2.3732386846583716e-8,
          2.3446969433851385e-8,
          2.315792055348053e-8,
          2.286546017458493e-8,
          2.2569808622993687e-8,
          2.2271186309718703e-8,
          2.196981346276286e-8,
          2.1665909862713e-8,
          2.13596945825481e-8,
          2.105138573207853e-8,
          2.0741200207416334e-8,
          2.042935344586079e-8,
          2.0116059186566126e-8,
          1.9801529237340623e-8,
          1.948597324790874e-8,
          1.9169598489948245e-8,
          1.8852609644196126e-8,
          1.853520859489672e-8,
          1.8217594231845843e-8,
          1.7899962260264696e-8,
          1.7582505018716272e-8,
          1.726541130525698e-8,
          1.6948866211995097e-8,
          1.6633050968206758e-8,
          1.6318142792139905e-8,
          1.600431475161521e-8,
          1.5691735633512965e-8,
          1.5380569822214027e-8,
          1.5070977187042953e-8,
          1.4763112978741497e-8,
          1.4457127734980711e-8,
          1.415316719490107e-8,
          1.3851372222650876e-8,
          1.3551878739874756e-8,
          1.325481766708664e-8,
          1.2960314873843453e-8,
          1.2668491137619836e-8,
          1.237946211126738e-8,
          1.2093338298926511e-8,
          1.1810225040244455e-8,
          1.1530222502738158e-8,
          1.1253425682127926e-8,
          1.097992441045452e-8,
          1.0709803371780435e-8,
          1.0443142125265205e-8,
          1.0180015135393524e-8,
          9.920491809125917e-9,
          9.664636539732315e-9,
          9.412508757061106e-9,
          9.164162983988764e-9,
          8.919648898788843e-9,
          8.679011403153259e-9,
          8.44229069559403e-9,
          8.209522349949384e-9,
          7.98073739871492e-9,
          7.755962420917908e-9,
          7.535219634250904e-9,
          7.3185269911798946e-9,
          7.105898278741622e-9,
          6.897343221745164e-9,
          6.6928675890939734e-9,
          6.492473302945832e-9,
          6.296158550430913e-9,
          6.103917897650649e-9,
          5.91574240568376e-9,
          5.731619748329843e-9,
          5.5515343313252705e-9,
          5.37546741277143e-9,
          5.203397224520586e-9,
          5.035299094270829e-9,
          4.871145568127831e-9,
          4.710906533397794e-9,
          4.554549341383237e-9,
          4.402038929960474e-9
         ]
        }
       ],
       "layout": {
        "annotations": [
         {
          "bordercolor": "rgb(100,110,250)",
          "borderwidth": 2,
          "font": {
           "color": "rgb(100,110,250)",
           "size": 15
          },
          "showarrow": false,
          "text": "0.574",
          "x": 35000000,
          "xshift": -40,
          "y": 2.920596837887954e-8,
          "yshift": -100
         },
         {
          "bordercolor": "rgb(239,85,59)",
          "borderwidth": 2,
          "font": {
           "color": "rgb(239,85,59)",
           "size": 15
          },
          "showarrow": false,
          "text": "0.426",
          "x": 35000000,
          "xshift": 40,
          "y": 2.920596837887954e-8,
          "yshift": -100
         }
        ],
        "template": {
         "data": {
          "bar": [
           {
            "error_x": {
             "color": "#2a3f5f"
            },
            "error_y": {
             "color": "#2a3f5f"
            },
            "marker": {
             "line": {
              "color": "#E5ECF6",
              "width": 0.5
             },
             "pattern": {
              "fillmode": "overlay",
              "size": 10,
              "solidity": 0.2
             }
            },
            "type": "bar"
           }
          ],
          "barpolar": [
           {
            "marker": {
             "line": {
              "color": "#E5ECF6",
              "width": 0.5
             },
             "pattern": {
              "fillmode": "overlay",
              "size": 10,
              "solidity": 0.2
             }
            },
            "type": "barpolar"
           }
          ],
          "carpet": [
           {
            "aaxis": {
             "endlinecolor": "#2a3f5f",
             "gridcolor": "white",
             "linecolor": "white",
             "minorgridcolor": "white",
             "startlinecolor": "#2a3f5f"
            },
            "baxis": {
             "endlinecolor": "#2a3f5f",
             "gridcolor": "white",
             "linecolor": "white",
             "minorgridcolor": "white",
             "startlinecolor": "#2a3f5f"
            },
            "type": "carpet"
           }
          ],
          "choropleth": [
           {
            "colorbar": {
             "outlinewidth": 0,
             "ticks": ""
            },
            "type": "choropleth"
           }
          ],
          "contour": [
           {
            "colorbar": {
             "outlinewidth": 0,
             "ticks": ""
            },
            "colorscale": [
             [
              0,
              "#0d0887"
             ],
             [
              0.1111111111111111,
              "#46039f"
             ],
             [
              0.2222222222222222,
              "#7201a8"
             ],
             [
              0.3333333333333333,
              "#9c179e"
             ],
             [
              0.4444444444444444,
              "#bd3786"
             ],
             [
              0.5555555555555556,
              "#d8576b"
             ],
             [
              0.6666666666666666,
              "#ed7953"
             ],
             [
              0.7777777777777778,
              "#fb9f3a"
             ],
             [
              0.8888888888888888,
              "#fdca26"
             ],
             [
              1,
              "#f0f921"
             ]
            ],
            "type": "contour"
           }
          ],
          "contourcarpet": [
           {
            "colorbar": {
             "outlinewidth": 0,
             "ticks": ""
            },
            "type": "contourcarpet"
           }
          ],
          "heatmap": [
           {
            "colorbar": {
             "outlinewidth": 0,
             "ticks": ""
            },
            "colorscale": [
             [
              0,
              "#0d0887"
             ],
             [
              0.1111111111111111,
              "#46039f"
             ],
             [
              0.2222222222222222,
              "#7201a8"
             ],
             [
              0.3333333333333333,
              "#9c179e"
             ],
             [
              0.4444444444444444,
              "#bd3786"
             ],
             [
              0.5555555555555556,
              "#d8576b"
             ],
             [
              0.6666666666666666,
              "#ed7953"
             ],
             [
              0.7777777777777778,
              "#fb9f3a"
             ],
             [
              0.8888888888888888,
              "#fdca26"
             ],
             [
              1,
              "#f0f921"
             ]
            ],
            "type": "heatmap"
           }
          ],
          "heatmapgl": [
           {
            "colorbar": {
             "outlinewidth": 0,
             "ticks": ""
            },
            "colorscale": [
             [
              0,
              "#0d0887"
             ],
             [
              0.1111111111111111,
              "#46039f"
             ],
             [
              0.2222222222222222,
              "#7201a8"
             ],
             [
              0.3333333333333333,
              "#9c179e"
             ],
             [
              0.4444444444444444,
              "#bd3786"
             ],
             [
              0.5555555555555556,
              "#d8576b"
             ],
             [
              0.6666666666666666,
              "#ed7953"
             ],
             [
              0.7777777777777778,
              "#fb9f3a"
             ],
             [
              0.8888888888888888,
              "#fdca26"
             ],
             [
              1,
              "#f0f921"
             ]
            ],
            "type": "heatmapgl"
           }
          ],
          "histogram": [
           {
            "marker": {
             "pattern": {
              "fillmode": "overlay",
              "size": 10,
              "solidity": 0.2
             }
            },
            "type": "histogram"
           }
          ],
          "histogram2d": [
           {
            "colorbar": {
             "outlinewidth": 0,
             "ticks": ""
            },
            "colorscale": [
             [
              0,
              "#0d0887"
             ],
             [
              0.1111111111111111,
              "#46039f"
             ],
             [
              0.2222222222222222,
              "#7201a8"
             ],
             [
              0.3333333333333333,
              "#9c179e"
             ],
             [
              0.4444444444444444,
              "#bd3786"
             ],
             [
              0.5555555555555556,
              "#d8576b"
             ],
             [
              0.6666666666666666,
              "#ed7953"
             ],
             [
              0.7777777777777778,
              "#fb9f3a"
             ],
             [
              0.8888888888888888,
              "#fdca26"
             ],
             [
              1,
              "#f0f921"
             ]
            ],
            "type": "histogram2d"
           }
          ],
          "histogram2dcontour": [
           {
            "colorbar": {
             "outlinewidth": 0,
             "ticks": ""
            },
            "colorscale": [
             [
              0,
              "#0d0887"
             ],
             [
              0.1111111111111111,
              "#46039f"
             ],
             [
              0.2222222222222222,
              "#7201a8"
             ],
             [
              0.3333333333333333,
              "#9c179e"
             ],
             [
              0.4444444444444444,
              "#bd3786"
             ],
             [
              0.5555555555555556,
              "#d8576b"
             ],
             [
              0.6666666666666666,
              "#ed7953"
             ],
             [
              0.7777777777777778,
              "#fb9f3a"
             ],
             [
              0.8888888888888888,
              "#fdca26"
             ],
             [
              1,
              "#f0f921"
             ]
            ],
            "type": "histogram2dcontour"
           }
          ],
          "mesh3d": [
           {
            "colorbar": {
             "outlinewidth": 0,
             "ticks": ""
            },
            "type": "mesh3d"
           }
          ],
          "parcoords": [
           {
            "line": {
             "colorbar": {
              "outlinewidth": 0,
              "ticks": ""
             }
            },
            "type": "parcoords"
           }
          ],
          "pie": [
           {
            "automargin": true,
            "type": "pie"
           }
          ],
          "scatter": [
           {
            "marker": {
             "colorbar": {
              "outlinewidth": 0,
              "ticks": ""
             }
            },
            "type": "scatter"
           }
          ],
          "scatter3d": [
           {
            "line": {
             "colorbar": {
              "outlinewidth": 0,
              "ticks": ""
             }
            },
            "marker": {
             "colorbar": {
              "outlinewidth": 0,
              "ticks": ""
             }
            },
            "type": "scatter3d"
           }
          ],
          "scattercarpet": [
           {
            "marker": {
             "colorbar": {
              "outlinewidth": 0,
              "ticks": ""
             }
            },
            "type": "scattercarpet"
           }
          ],
          "scattergeo": [
           {
            "marker": {
             "colorbar": {
              "outlinewidth": 0,
              "ticks": ""
             }
            },
            "type": "scattergeo"
           }
          ],
          "scattergl": [
           {
            "marker": {
             "colorbar": {
              "outlinewidth": 0,
              "ticks": ""
             }
            },
            "type": "scattergl"
           }
          ],
          "scattermapbox": [
           {
            "marker": {
             "colorbar": {
              "outlinewidth": 0,
              "ticks": ""
             }
            },
            "type": "scattermapbox"
           }
          ],
          "scatterpolar": [
           {
            "marker": {
             "colorbar": {
              "outlinewidth": 0,
              "ticks": ""
             }
            },
            "type": "scatterpolar"
           }
          ],
          "scatterpolargl": [
           {
            "marker": {
             "colorbar": {
              "outlinewidth": 0,
              "ticks": ""
             }
            },
            "type": "scatterpolargl"
           }
          ],
          "scatterternary": [
           {
            "marker": {
             "colorbar": {
              "outlinewidth": 0,
              "ticks": ""
             }
            },
            "type": "scatterternary"
           }
          ],
          "surface": [
           {
            "colorbar": {
             "outlinewidth": 0,
             "ticks": ""
            },
            "colorscale": [
             [
              0,
              "#0d0887"
             ],
             [
              0.1111111111111111,
              "#46039f"
             ],
             [
              0.2222222222222222,
              "#7201a8"
             ],
             [
              0.3333333333333333,
              "#9c179e"
             ],
             [
              0.4444444444444444,
              "#bd3786"
             ],
             [
              0.5555555555555556,
              "#d8576b"
             ],
             [
              0.6666666666666666,
              "#ed7953"
             ],
             [
              0.7777777777777778,
              "#fb9f3a"
             ],
             [
              0.8888888888888888,
              "#fdca26"
             ],
             [
              1,
              "#f0f921"
             ]
            ],
            "type": "surface"
           }
          ],
          "table": [
           {
            "cells": {
             "fill": {
              "color": "#EBF0F8"
             },
             "line": {
              "color": "white"
             }
            },
            "header": {
             "fill": {
              "color": "#C8D4E3"
             },
             "line": {
              "color": "white"
             }
            },
            "type": "table"
           }
          ]
         },
         "layout": {
          "annotationdefaults": {
           "arrowcolor": "#2a3f5f",
           "arrowhead": 0,
           "arrowwidth": 1
          },
          "autotypenumbers": "strict",
          "coloraxis": {
           "colorbar": {
            "outlinewidth": 0,
            "ticks": ""
           }
          },
          "colorscale": {
           "diverging": [
            [
             0,
             "#8e0152"
            ],
            [
             0.1,
             "#c51b7d"
            ],
            [
             0.2,
             "#de77ae"
            ],
            [
             0.3,
             "#f1b6da"
            ],
            [
             0.4,
             "#fde0ef"
            ],
            [
             0.5,
             "#f7f7f7"
            ],
            [
             0.6,
             "#e6f5d0"
            ],
            [
             0.7,
             "#b8e186"
            ],
            [
             0.8,
             "#7fbc41"
            ],
            [
             0.9,
             "#4d9221"
            ],
            [
             1,
             "#276419"
            ]
           ],
           "sequential": [
            [
             0,
             "#0d0887"
            ],
            [
             0.1111111111111111,
             "#46039f"
            ],
            [
             0.2222222222222222,
             "#7201a8"
            ],
            [
             0.3333333333333333,
             "#9c179e"
            ],
            [
             0.4444444444444444,
             "#bd3786"
            ],
            [
             0.5555555555555556,
             "#d8576b"
            ],
            [
             0.6666666666666666,
             "#ed7953"
            ],
            [
             0.7777777777777778,
             "#fb9f3a"
            ],
            [
             0.8888888888888888,
             "#fdca26"
            ],
            [
             1,
             "#f0f921"
            ]
           ],
           "sequentialminus": [
            [
             0,
             "#0d0887"
            ],
            [
             0.1111111111111111,
             "#46039f"
            ],
            [
             0.2222222222222222,
             "#7201a8"
            ],
            [
             0.3333333333333333,
             "#9c179e"
            ],
            [
             0.4444444444444444,
             "#bd3786"
            ],
            [
             0.5555555555555556,
             "#d8576b"
            ],
            [
             0.6666666666666666,
             "#ed7953"
            ],
            [
             0.7777777777777778,
             "#fb9f3a"
            ],
            [
             0.8888888888888888,
             "#fdca26"
            ],
            [
             1,
             "#f0f921"
            ]
           ]
          },
          "colorway": [
           "#636efa",
           "#EF553B",
           "#00cc96",
           "#ab63fa",
           "#FFA15A",
           "#19d3f3",
           "#FF6692",
           "#B6E880",
           "#FF97FF",
           "#FECB52"
          ],
          "font": {
           "color": "#2a3f5f"
          },
          "geo": {
           "bgcolor": "white",
           "lakecolor": "white",
           "landcolor": "#E5ECF6",
           "showlakes": true,
           "showland": true,
           "subunitcolor": "white"
          },
          "hoverlabel": {
           "align": "left"
          },
          "hovermode": "closest",
          "mapbox": {
           "style": "light"
          },
          "paper_bgcolor": "white",
          "plot_bgcolor": "#E5ECF6",
          "polar": {
           "angularaxis": {
            "gridcolor": "white",
            "linecolor": "white",
            "ticks": ""
           },
           "bgcolor": "#E5ECF6",
           "radialaxis": {
            "gridcolor": "white",
            "linecolor": "white",
            "ticks": ""
           }
          },
          "scene": {
           "xaxis": {
            "backgroundcolor": "#E5ECF6",
            "gridcolor": "white",
            "gridwidth": 2,
            "linecolor": "white",
            "showbackground": true,
            "ticks": "",
            "zerolinecolor": "white"
           },
           "yaxis": {
            "backgroundcolor": "#E5ECF6",
            "gridcolor": "white",
            "gridwidth": 2,
            "linecolor": "white",
            "showbackground": true,
            "ticks": "",
            "zerolinecolor": "white"
           },
           "zaxis": {
            "backgroundcolor": "#E5ECF6",
            "gridcolor": "white",
            "gridwidth": 2,
            "linecolor": "white",
            "showbackground": true,
            "ticks": "",
            "zerolinecolor": "white"
           }
          },
          "shapedefaults": {
           "line": {
            "color": "#2a3f5f"
           }
          },
          "ternary": {
           "aaxis": {
            "gridcolor": "white",
            "linecolor": "white",
            "ticks": ""
           },
           "baxis": {
            "gridcolor": "white",
            "linecolor": "white",
            "ticks": ""
           },
           "bgcolor": "#E5ECF6",
           "caxis": {
            "gridcolor": "white",
            "linecolor": "white",
            "ticks": ""
           }
          },
          "title": {
           "x": 0.05
          },
          "xaxis": {
           "automargin": true,
           "gridcolor": "white",
           "linecolor": "white",
           "ticks": "",
           "title": {
            "standoff": 15
           },
           "zerolinecolor": "white",
           "zerolinewidth": 2
          },
          "yaxis": {
           "automargin": true,
           "gridcolor": "white",
           "linecolor": "white",
           "ticks": "",
           "title": {
            "standoff": 15
           },
           "zerolinecolor": "white",
           "zerolinewidth": 2
          }
         }
        },
        "yaxis": {
         "visible": false
        }
       }
      }
     },
     "metadata": {},
     "output_type": "display_data"
    }
   ],
   "source": [
    "EVCS_cost, EVCS_cost_negative = cal_norm(df_EVCS_cost[df_EVCS_cost['충전기']=='급속']['충전기가격'].mean(),\n",
    "                                         df_EVCS_cost[df_EVCS_cost['충전기']=='급속']['충전기가격'].std(),\n",
    "                                         df_EVCS_cost[df_EVCS_cost['충전기']=='급속']['충전기가격'].min(),\n",
    "                                         df_EVCS_cost[df_EVCS_cost['충전기']=='급속']['충전기가격'].max(),\n",
    "                                         EVCS_cost_standard,\n",
    "                                         True)"
   ]
  },
  {
   "cell_type": "markdown",
   "metadata": {},
   "source": [
    "### 수소충전소 구축비용"
   ]
  },
  {
   "cell_type": "code",
   "execution_count": 60,
   "metadata": {},
   "outputs": [
    {
     "data": {
      "text/html": [
       "<div>\n",
       "<style scoped>\n",
       "    .dataframe tbody tr th:only-of-type {\n",
       "        vertical-align: middle;\n",
       "    }\n",
       "\n",
       "    .dataframe tbody tr th {\n",
       "        vertical-align: top;\n",
       "    }\n",
       "\n",
       "    .dataframe thead th {\n",
       "        text-align: right;\n",
       "    }\n",
       "</style>\n",
       "<table border=\"1\" class=\"dataframe\">\n",
       "  <thead>\n",
       "    <tr style=\"text-align: right;\">\n",
       "      <th></th>\n",
       "      <th>구축 비용</th>\n",
       "    </tr>\n",
       "    <tr>\n",
       "      <th>충전소 종류</th>\n",
       "      <th></th>\n",
       "    </tr>\n",
       "  </thead>\n",
       "  <tbody>\n",
       "    <tr>\n",
       "      <th>파이프라인</th>\n",
       "      <td>2400000000</td>\n",
       "    </tr>\n",
       "    <tr>\n",
       "      <th>튜브트레일러</th>\n",
       "      <td>2200000000</td>\n",
       "    </tr>\n",
       "    <tr>\n",
       "      <th>이동식</th>\n",
       "      <td>1800000000</td>\n",
       "    </tr>\n",
       "    <tr>\n",
       "      <th>천연가스개질</th>\n",
       "      <td>4600000000</td>\n",
       "    </tr>\n",
       "    <tr>\n",
       "      <th>수전해</th>\n",
       "      <td>3100000000</td>\n",
       "    </tr>\n",
       "  </tbody>\n",
       "</table>\n",
       "</div>"
      ],
      "text/plain": [
       "             구축 비용\n",
       "충전소 종류            \n",
       "파이프라인   2400000000\n",
       "튜브트레일러  2200000000\n",
       "이동식     1800000000\n",
       "천연가스개질  4600000000\n",
       "수전해     3100000000"
      ]
     },
     "execution_count": 60,
     "metadata": {},
     "output_type": "execute_result"
    }
   ],
   "source": [
    "HVCS_construction_cost_file_path = 'C:\\\\Users\\\\SAMSUNG\\\\Desktop\\\\Green-Car-Charging-Station-Site-Selection\\\\Data\\\\수소 충전소 종류별 구축 비용.csv'\n",
    "df_HVCS_construction_cost = pd.read_csv(HVCS_construction_cost_file_path, encoding='cp949')\n",
    "df_HVCS_construction_cost = df_HVCS_construction_cost.set_index('충전소 종류')\n",
    "df_HVCS_construction_cost"
   ]
  },
  {
   "cell_type": "markdown",
   "metadata": {},
   "source": [
    "#### 수소 충전소 구축 비용 적합도"
   ]
  },
  {
   "cell_type": "code",
   "execution_count": 61,
   "metadata": {},
   "outputs": [
    {
     "data": {
      "application/vnd.plotly.v1+json": {
       "config": {
        "plotlyServerURL": "https://plot.ly"
       },
       "data": [
        {
         "fill": "tozeroy",
         "line": {
          "color": "rgb(100,110,250)"
         },
         "name": "적합",
         "type": "scatter",
         "x": [
          699091284.4381692,
          722332786.6155615,
          745574288.7929537,
          768815790.970346,
          792057293.1477381,
          815298795.3251303,
          838540297.5025226,
          861781799.6799148,
          885023301.8573071,
          908264804.0346992,
          931506306.2120914,
          954747808.3894837,
          977989310.5668759,
          1001230812.7442682,
          1024472314.9216604,
          1047713817.0990527,
          1070955319.2764449,
          1094196821.4538372,
          1117438323.6312294,
          1140679825.8086214,
          1163921327.986014,
          1187162830.163406,
          1210404332.3407981,
          1233645834.5181904,
          1256887336.6955826,
          1280128838.8729749,
          1303370341.050367,
          1326611843.2277594,
          1349853345.4051516,
          1373094847.5825438,
          1396336349.7599359,
          1419577851.9373283,
          1442819354.1147203,
          1466060856.2921128,
          1489302358.4695048,
          1512543860.6468973,
          1535785362.8242893,
          1559026865.0016816,
          1582268367.1790738,
          1605509869.356466,
          1628751371.5338583,
          1651992873.7112505,
          1675234375.8886428,
          1698475878.0660348,
          1721717380.2434273,
          1744958882.4208193,
          1768200384.5982118,
          1791441886.7756038,
          1814683388.952996,
          1837924891.1303883,
          1861166393.3077805,
          1884407895.4851727,
          1907649397.662565,
          1930890899.8399572,
          1954132402.0173495,
          1977373904.1947417,
          2000615406.372134,
          2023856908.5495262,
          2047098410.7269182,
          2070339912.9043105,
          2093581415.0817027,
          2116822917.259095,
          2140064419.4364872,
          2163305921.613879,
          2186547423.7912717,
          2209788925.968664,
          2233030428.146056,
          2256271930.323448,
          2279513432.5008407,
          2302754934.678233,
          2325996436.855625,
          2349237939.033017,
          2372479441.210409,
          2395720943.3878016,
          2418962445.565194,
          2442203947.742586,
          2465445449.919978,
          2488686952.0973706,
          2511928454.274763,
          2535169956.452155,
          2558411458.629547,
          2581652960.8069396,
          2604894462.984332,
          2628135965.161724,
          2651377467.339116,
          2674618969.516508,
          2697860471.6939006,
          2721101973.871293,
          2744343476.048685,
          2767584978.226077,
          2790826480.4034696,
          2814067982.580862,
          2837309484.758254,
          2860550986.935646,
          2883792489.113038,
          2907033991.290431,
          2930275493.467823,
          2953516995.645215,
          2976758497.822607,
          3000000000
         ],
         "y": [
          5.6654167259799576e-11,
          5.899269267460261e-11,
          6.140037468826754e-11,
          6.387784637299155e-11,
          6.642567132095136e-11,
          6.9044339816723e-11,
          7.173426502272308e-11,
          7.449577918858903e-11,
          7.732912989577104e-11,
          8.02344763489401e-11,
          8.32118857261143e-11,
          8.626132959967724e-11,
          8.938268044069543e-11,
          9.257570821914032e-11,
          9.584007711278172e-11,
          9.917534233763853e-11,
          1.025809471129495e-10,
          1.0605621977366189e-10,
          1.0960037104342022e-10,
          1.1321249148097978e-10,
          1.168915491128586e-10,
          1.2063638726488207e-10,
          1.2444572260506602e-10,
          1.283181434100186e-10,
          1.322521080667282e-10,
          1.3624594382123588e-10,
          1.4029784578526927e-10,
          1.444058762114398e-10,
          1.4856796404707872e-10,
          1.527819047762066e-10,
          1.570453605584988e-10,
          1.6135586067343034e-10,
          1.6571080227704778e-10,
          1.7010745147804174e-10,
          1.7454294473896477e-10,
          1.7901429060757454e-10,
          1.8351837178236813e-10,
          1.8805194751542997e-10,
          1.926116563547258e-10,
          1.9719401922696098e-10,
          2.0179544286107365e-10,
          2.0641222355135877e-10,
          2.1104055125812367e-10,
          2.1567651404266328e-10,
          2.2031610283221205e-10,
          2.249552165093912e-10,
          2.2958966731952878e-10,
          2.3421518658807733e-10,
          2.388274307392197e-10,
          2.434219876056115e-10,
          2.4799438301809255e-10,
          2.5254008766309217e-10,
          2.57054524194374e-10,
          2.615330745847094e-10,
          2.6597108770204786e-10,
          2.7036388709376636e-10,
          2.7470677896163594e-10,
          2.7899506030924477e-10,
          2.8322402724276997e-10,
          2.87388983405197e-10,
          2.9148524852335034e-10,
          2.955081670464278e-10,
          2.9945311685412643e-10,
          3.033155180119097e-10,
          3.0709084155050517e-10,
          3.107746182463332e-10,
          3.1436244737926025e-10,
          3.178500054438408e-10,
          3.21233054790067e-10,
          3.245074521695856e-10,
          3.276691571633632e-10,
          3.307142404668946e-10,
          3.336388920092438e-10,
          3.364394288824942e-10,
          3.391123030585532e-10,
          3.4165410887071474e-10,
          3.4406159023792625e-10,
          3.463316476103287e-10,
          3.484613446153493e-10,
          3.5044791438440953e-10,
          3.522887655411779e-10,
          3.539814878332294e-10,
          3.5552385738998684e-10,
          3.569138415908885e-10,
          3.58149603528869e-10,
          3.5922950605543296e-10,
          3.601521153948539e-10,
          3.6091620431632926e-10,
          3.615207548542698e-10,
          3.619649605682799e-10,
          3.6224822833580767e-10,
          3.623701796718868e-10,
          3.6233065157185816e-10,
          3.6212969687444613e-10,
          3.6176758414405674e-10,
          3.612447970726651e-10,
          3.605620334031563e-10,
          3.5972020337747516e-10,
          3.5872042771441485e-10,
          3.5756403512333453e-10
         ]
        },
        {
         "fill": "tozeroy",
         "line": {
          "color": "rgb(239,85,59)"
         },
         "name": "부적합",
         "type": "scatter",
         "x": [
          3000000000,
          3016161616.1616163,
          3032323232.323232,
          3048484848.4848485,
          3064646464.646465,
          3080808080.8080807,
          3096969696.969697,
          3113131313.1313133,
          3129292929.292929,
          3145454545.4545455,
          3161616161.616162,
          3177777777.7777777,
          3193939393.939394,
          3210101010.1010103,
          3226262626.262626,
          3242424242.4242425,
          3258585858.5858583,
          3274747474.7474747,
          3290909090.909091,
          3307070707.0707073,
          3323232323.232323,
          3339393939.3939395,
          3355555555.5555553,
          3371717171.7171717,
          3387878787.878788,
          3404040404.040404,
          3420202020.20202,
          3436363636.3636365,
          3452525252.5252523,
          3468686868.6868687,
          3484848484.848485,
          3501010101.010101,
          3517171717.171717,
          3533333333.3333335,
          3549494949.4949493,
          3565656565.6565657,
          3581818181.818182,
          3597979797.979798,
          3614141414.141414,
          3630303030.30303,
          3646464646.4646463,
          3662626262.6262627,
          3678787878.787879,
          3694949494.949495,
          3711111111.111111,
          3727272727.272727,
          3743434343.4343433,
          3759595959.5959597,
          3775757575.757576,
          3791919191.919192,
          3808080808.080808,
          3824242424.242424,
          3840404040.4040403,
          3856565656.5656567,
          3872727272.727273,
          3888888888.888889,
          3905050505.050505,
          3921212121.212121,
          3937373737.3737373,
          3953535353.5353537,
          3969696969.69697,
          3985858585.858586,
          4002020202.020202,
          4018181818.181818,
          4034343434.3434343,
          4050505050.5050507,
          4066666666.6666665,
          4082828282.828283,
          4098989898.9898987,
          4115151515.151515,
          4131313131.3131313,
          4147474747.4747477,
          4163636363.6363635,
          4179797979.79798,
          4195959595.9595957,
          4212121212.121212,
          4228282828.2828283,
          4244444444.4444447,
          4260606060.6060605,
          4276767676.767677,
          4292929292.9292927,
          4309090909.090909,
          4325252525.252525,
          4341414141.414142,
          4357575757.575758,
          4373737373.737373,
          4389898989.89899,
          4406060606.060606,
          4422222222.222222,
          4438383838.383839,
          4454545454.545454,
          4470707070.70707,
          4486868686.868687,
          4503030303.030303,
          4519191919.191919,
          4535353535.353536,
          4551515151.515152,
          4567676767.676767,
          4583838383.838384,
          4600000000
         ],
         "y": [
          3.5756403512333453e-10,
          3.5666838995047115e-10,
          3.556983235133382e-10,
          3.546544557268331e-10,
          3.535374523945561e-10,
          3.523480245011369e-10,
          3.5108692745811265e-10,
          3.497549603044773e-10,
          3.4835296486308653e-10,
          3.46881824854164e-10,
          3.4534246496721737e-10,
          3.4373584989272606e-10,
          3.420629833150209e-10,
          3.403249068678272e-10,
          3.3852269905399124e-10,
          3.366574741309575e-10,
          3.3473038096360935e-10,
          3.327426018461226e-10,
          3.306953512945241e-10,
          3.285898748116769e-10,
          3.2642744762645015e-10,
          3.242093734088553e-10,
          3.219369829629587e-10,
          3.196116328994002e-10,
          3.1723470428936724e-10,
          3.14807601301888e-10,
          3.1233174982631904e-10,
          3.0980859608191273e-10,
          3.072396052163528e-10,
          3.046262598951495e-10,
          3.0197005888378594e-10,
          2.9927251562449854e-10,
          2.9653515680957114e-10,
          2.937595209530089e-10,
          2.9094715696244496e-10,
          2.880996227131142e-10,
          2.8521848362571215e-10,
          2.823053112499287e-10,
          2.7936168185542494e-10,
          2.763891750319911e-10,
          2.733893723005911e-10,
          2.7036385573696777e-10,
          2.673142066094443e-10,
          2.642420040325186e-10,
          2.6114882363780834e-10,
          2.5803623626385805e-10,
          2.5490580666627607e-10,
          2.517590922496213e-10,
          2.4859764182240926e-10,
          2.454229943765582e-10,
          2.4223667789253956e-10,
          2.3904020817144797e-10,
          2.358350876951435e-10,
          2.3262280451556938e-10,
          2.2940483117428407e-10,
          2.2618262365319106e-10,
          2.2295762035738808e-10,
          2.1973124113099867e-10,
          2.1650488630678404e-10,
          2.1327993579027562e-10,
          2.1005774817910269e-10,
          2.068396599181291e-10,
          2.0362698449094957e-10,
          2.004210116482346e-10,
          1.9722300667334728e-10,
          1.9403420968559776e-10,
          1.9085583498143417e-10,
          1.876890704138109e-10,
          1.84535076809913e-10,
          1.8139498742735366e-10,
          1.7826990744890552e-10,
          1.7516091351576417e-10,
          1.7206905329928831e-10,
          1.6899534511110055e-10,
          1.6594077755138185e-10,
          1.6290630919513363e-10,
          1.5989286831613424e-10,
          1.5690135264825933e-10,
          1.5393262918379045e-10,
          1.5098753400828514e-10,
          1.4806687217153763e-10,
          1.451714175941096e-10,
          1.423019130088736e-10,
          1.3945906993696413e-10,
          1.366435686974957e-10,
          1.3385605845036808e-10,
          1.310971572714417e-10,
          1.2836745225933624e-10,
          1.2566749967306772e-10,
          1.2299782509971388e-10,
          1.2035892365126901e-10,
          1.1775126018982e-10,
          1.1517526958015775e-10,
          1.1263135696890848e-10,
          1.1011989808925609e-10,
          1.0764123959030505e-10,
          1.0519569939011911e-10,
          1.0278356705145641e-10,
          1.0040510417920917e-10,
          9.806054483854934e-11
         ]
        }
       ],
       "layout": {
        "annotations": [
         {
          "bordercolor": "rgb(100,110,250)",
          "borderwidth": 2,
          "font": {
           "color": "rgb(100,110,250)",
           "size": 15
          },
          "showarrow": false,
          "text": "0.538",
          "x": 3000000000,
          "xshift": -40,
          "y": 3.5756403512333453e-10,
          "yshift": -100
         },
         {
          "bordercolor": "rgb(239,85,59)",
          "borderwidth": 2,
          "font": {
           "color": "rgb(239,85,59)",
           "size": 15
          },
          "showarrow": false,
          "text": "0.462",
          "x": 3000000000,
          "xshift": 40,
          "y": 3.5756403512333453e-10,
          "yshift": -100
         }
        ],
        "template": {
         "data": {
          "bar": [
           {
            "error_x": {
             "color": "#2a3f5f"
            },
            "error_y": {
             "color": "#2a3f5f"
            },
            "marker": {
             "line": {
              "color": "#E5ECF6",
              "width": 0.5
             },
             "pattern": {
              "fillmode": "overlay",
              "size": 10,
              "solidity": 0.2
             }
            },
            "type": "bar"
           }
          ],
          "barpolar": [
           {
            "marker": {
             "line": {
              "color": "#E5ECF6",
              "width": 0.5
             },
             "pattern": {
              "fillmode": "overlay",
              "size": 10,
              "solidity": 0.2
             }
            },
            "type": "barpolar"
           }
          ],
          "carpet": [
           {
            "aaxis": {
             "endlinecolor": "#2a3f5f",
             "gridcolor": "white",
             "linecolor": "white",
             "minorgridcolor": "white",
             "startlinecolor": "#2a3f5f"
            },
            "baxis": {
             "endlinecolor": "#2a3f5f",
             "gridcolor": "white",
             "linecolor": "white",
             "minorgridcolor": "white",
             "startlinecolor": "#2a3f5f"
            },
            "type": "carpet"
           }
          ],
          "choropleth": [
           {
            "colorbar": {
             "outlinewidth": 0,
             "ticks": ""
            },
            "type": "choropleth"
           }
          ],
          "contour": [
           {
            "colorbar": {
             "outlinewidth": 0,
             "ticks": ""
            },
            "colorscale": [
             [
              0,
              "#0d0887"
             ],
             [
              0.1111111111111111,
              "#46039f"
             ],
             [
              0.2222222222222222,
              "#7201a8"
             ],
             [
              0.3333333333333333,
              "#9c179e"
             ],
             [
              0.4444444444444444,
              "#bd3786"
             ],
             [
              0.5555555555555556,
              "#d8576b"
             ],
             [
              0.6666666666666666,
              "#ed7953"
             ],
             [
              0.7777777777777778,
              "#fb9f3a"
             ],
             [
              0.8888888888888888,
              "#fdca26"
             ],
             [
              1,
              "#f0f921"
             ]
            ],
            "type": "contour"
           }
          ],
          "contourcarpet": [
           {
            "colorbar": {
             "outlinewidth": 0,
             "ticks": ""
            },
            "type": "contourcarpet"
           }
          ],
          "heatmap": [
           {
            "colorbar": {
             "outlinewidth": 0,
             "ticks": ""
            },
            "colorscale": [
             [
              0,
              "#0d0887"
             ],
             [
              0.1111111111111111,
              "#46039f"
             ],
             [
              0.2222222222222222,
              "#7201a8"
             ],
             [
              0.3333333333333333,
              "#9c179e"
             ],
             [
              0.4444444444444444,
              "#bd3786"
             ],
             [
              0.5555555555555556,
              "#d8576b"
             ],
             [
              0.6666666666666666,
              "#ed7953"
             ],
             [
              0.7777777777777778,
              "#fb9f3a"
             ],
             [
              0.8888888888888888,
              "#fdca26"
             ],
             [
              1,
              "#f0f921"
             ]
            ],
            "type": "heatmap"
           }
          ],
          "heatmapgl": [
           {
            "colorbar": {
             "outlinewidth": 0,
             "ticks": ""
            },
            "colorscale": [
             [
              0,
              "#0d0887"
             ],
             [
              0.1111111111111111,
              "#46039f"
             ],
             [
              0.2222222222222222,
              "#7201a8"
             ],
             [
              0.3333333333333333,
              "#9c179e"
             ],
             [
              0.4444444444444444,
              "#bd3786"
             ],
             [
              0.5555555555555556,
              "#d8576b"
             ],
             [
              0.6666666666666666,
              "#ed7953"
             ],
             [
              0.7777777777777778,
              "#fb9f3a"
             ],
             [
              0.8888888888888888,
              "#fdca26"
             ],
             [
              1,
              "#f0f921"
             ]
            ],
            "type": "heatmapgl"
           }
          ],
          "histogram": [
           {
            "marker": {
             "pattern": {
              "fillmode": "overlay",
              "size": 10,
              "solidity": 0.2
             }
            },
            "type": "histogram"
           }
          ],
          "histogram2d": [
           {
            "colorbar": {
             "outlinewidth": 0,
             "ticks": ""
            },
            "colorscale": [
             [
              0,
              "#0d0887"
             ],
             [
              0.1111111111111111,
              "#46039f"
             ],
             [
              0.2222222222222222,
              "#7201a8"
             ],
             [
              0.3333333333333333,
              "#9c179e"
             ],
             [
              0.4444444444444444,
              "#bd3786"
             ],
             [
              0.5555555555555556,
              "#d8576b"
             ],
             [
              0.6666666666666666,
              "#ed7953"
             ],
             [
              0.7777777777777778,
              "#fb9f3a"
             ],
             [
              0.8888888888888888,
              "#fdca26"
             ],
             [
              1,
              "#f0f921"
             ]
            ],
            "type": "histogram2d"
           }
          ],
          "histogram2dcontour": [
           {
            "colorbar": {
             "outlinewidth": 0,
             "ticks": ""
            },
            "colorscale": [
             [
              0,
              "#0d0887"
             ],
             [
              0.1111111111111111,
              "#46039f"
             ],
             [
              0.2222222222222222,
              "#7201a8"
             ],
             [
              0.3333333333333333,
              "#9c179e"
             ],
             [
              0.4444444444444444,
              "#bd3786"
             ],
             [
              0.5555555555555556,
              "#d8576b"
             ],
             [
              0.6666666666666666,
              "#ed7953"
             ],
             [
              0.7777777777777778,
              "#fb9f3a"
             ],
             [
              0.8888888888888888,
              "#fdca26"
             ],
             [
              1,
              "#f0f921"
             ]
            ],
            "type": "histogram2dcontour"
           }
          ],
          "mesh3d": [
           {
            "colorbar": {
             "outlinewidth": 0,
             "ticks": ""
            },
            "type": "mesh3d"
           }
          ],
          "parcoords": [
           {
            "line": {
             "colorbar": {
              "outlinewidth": 0,
              "ticks": ""
             }
            },
            "type": "parcoords"
           }
          ],
          "pie": [
           {
            "automargin": true,
            "type": "pie"
           }
          ],
          "scatter": [
           {
            "marker": {
             "colorbar": {
              "outlinewidth": 0,
              "ticks": ""
             }
            },
            "type": "scatter"
           }
          ],
          "scatter3d": [
           {
            "line": {
             "colorbar": {
              "outlinewidth": 0,
              "ticks": ""
             }
            },
            "marker": {
             "colorbar": {
              "outlinewidth": 0,
              "ticks": ""
             }
            },
            "type": "scatter3d"
           }
          ],
          "scattercarpet": [
           {
            "marker": {
             "colorbar": {
              "outlinewidth": 0,
              "ticks": ""
             }
            },
            "type": "scattercarpet"
           }
          ],
          "scattergeo": [
           {
            "marker": {
             "colorbar": {
              "outlinewidth": 0,
              "ticks": ""
             }
            },
            "type": "scattergeo"
           }
          ],
          "scattergl": [
           {
            "marker": {
             "colorbar": {
              "outlinewidth": 0,
              "ticks": ""
             }
            },
            "type": "scattergl"
           }
          ],
          "scattermapbox": [
           {
            "marker": {
             "colorbar": {
              "outlinewidth": 0,
              "ticks": ""
             }
            },
            "type": "scattermapbox"
           }
          ],
          "scatterpolar": [
           {
            "marker": {
             "colorbar": {
              "outlinewidth": 0,
              "ticks": ""
             }
            },
            "type": "scatterpolar"
           }
          ],
          "scatterpolargl": [
           {
            "marker": {
             "colorbar": {
              "outlinewidth": 0,
              "ticks": ""
             }
            },
            "type": "scatterpolargl"
           }
          ],
          "scatterternary": [
           {
            "marker": {
             "colorbar": {
              "outlinewidth": 0,
              "ticks": ""
             }
            },
            "type": "scatterternary"
           }
          ],
          "surface": [
           {
            "colorbar": {
             "outlinewidth": 0,
             "ticks": ""
            },
            "colorscale": [
             [
              0,
              "#0d0887"
             ],
             [
              0.1111111111111111,
              "#46039f"
             ],
             [
              0.2222222222222222,
              "#7201a8"
             ],
             [
              0.3333333333333333,
              "#9c179e"
             ],
             [
              0.4444444444444444,
              "#bd3786"
             ],
             [
              0.5555555555555556,
              "#d8576b"
             ],
             [
              0.6666666666666666,
              "#ed7953"
             ],
             [
              0.7777777777777778,
              "#fb9f3a"
             ],
             [
              0.8888888888888888,
              "#fdca26"
             ],
             [
              1,
              "#f0f921"
             ]
            ],
            "type": "surface"
           }
          ],
          "table": [
           {
            "cells": {
             "fill": {
              "color": "#EBF0F8"
             },
             "line": {
              "color": "white"
             }
            },
            "header": {
             "fill": {
              "color": "#C8D4E3"
             },
             "line": {
              "color": "white"
             }
            },
            "type": "table"
           }
          ]
         },
         "layout": {
          "annotationdefaults": {
           "arrowcolor": "#2a3f5f",
           "arrowhead": 0,
           "arrowwidth": 1
          },
          "autotypenumbers": "strict",
          "coloraxis": {
           "colorbar": {
            "outlinewidth": 0,
            "ticks": ""
           }
          },
          "colorscale": {
           "diverging": [
            [
             0,
             "#8e0152"
            ],
            [
             0.1,
             "#c51b7d"
            ],
            [
             0.2,
             "#de77ae"
            ],
            [
             0.3,
             "#f1b6da"
            ],
            [
             0.4,
             "#fde0ef"
            ],
            [
             0.5,
             "#f7f7f7"
            ],
            [
             0.6,
             "#e6f5d0"
            ],
            [
             0.7,
             "#b8e186"
            ],
            [
             0.8,
             "#7fbc41"
            ],
            [
             0.9,
             "#4d9221"
            ],
            [
             1,
             "#276419"
            ]
           ],
           "sequential": [
            [
             0,
             "#0d0887"
            ],
            [
             0.1111111111111111,
             "#46039f"
            ],
            [
             0.2222222222222222,
             "#7201a8"
            ],
            [
             0.3333333333333333,
             "#9c179e"
            ],
            [
             0.4444444444444444,
             "#bd3786"
            ],
            [
             0.5555555555555556,
             "#d8576b"
            ],
            [
             0.6666666666666666,
             "#ed7953"
            ],
            [
             0.7777777777777778,
             "#fb9f3a"
            ],
            [
             0.8888888888888888,
             "#fdca26"
            ],
            [
             1,
             "#f0f921"
            ]
           ],
           "sequentialminus": [
            [
             0,
             "#0d0887"
            ],
            [
             0.1111111111111111,
             "#46039f"
            ],
            [
             0.2222222222222222,
             "#7201a8"
            ],
            [
             0.3333333333333333,
             "#9c179e"
            ],
            [
             0.4444444444444444,
             "#bd3786"
            ],
            [
             0.5555555555555556,
             "#d8576b"
            ],
            [
             0.6666666666666666,
             "#ed7953"
            ],
            [
             0.7777777777777778,
             "#fb9f3a"
            ],
            [
             0.8888888888888888,
             "#fdca26"
            ],
            [
             1,
             "#f0f921"
            ]
           ]
          },
          "colorway": [
           "#636efa",
           "#EF553B",
           "#00cc96",
           "#ab63fa",
           "#FFA15A",
           "#19d3f3",
           "#FF6692",
           "#B6E880",
           "#FF97FF",
           "#FECB52"
          ],
          "font": {
           "color": "#2a3f5f"
          },
          "geo": {
           "bgcolor": "white",
           "lakecolor": "white",
           "landcolor": "#E5ECF6",
           "showlakes": true,
           "showland": true,
           "subunitcolor": "white"
          },
          "hoverlabel": {
           "align": "left"
          },
          "hovermode": "closest",
          "mapbox": {
           "style": "light"
          },
          "paper_bgcolor": "white",
          "plot_bgcolor": "#E5ECF6",
          "polar": {
           "angularaxis": {
            "gridcolor": "white",
            "linecolor": "white",
            "ticks": ""
           },
           "bgcolor": "#E5ECF6",
           "radialaxis": {
            "gridcolor": "white",
            "linecolor": "white",
            "ticks": ""
           }
          },
          "scene": {
           "xaxis": {
            "backgroundcolor": "#E5ECF6",
            "gridcolor": "white",
            "gridwidth": 2,
            "linecolor": "white",
            "showbackground": true,
            "ticks": "",
            "zerolinecolor": "white"
           },
           "yaxis": {
            "backgroundcolor": "#E5ECF6",
            "gridcolor": "white",
            "gridwidth": 2,
            "linecolor": "white",
            "showbackground": true,
            "ticks": "",
            "zerolinecolor": "white"
           },
           "zaxis": {
            "backgroundcolor": "#E5ECF6",
            "gridcolor": "white",
            "gridwidth": 2,
            "linecolor": "white",
            "showbackground": true,
            "ticks": "",
            "zerolinecolor": "white"
           }
          },
          "shapedefaults": {
           "line": {
            "color": "#2a3f5f"
           }
          },
          "ternary": {
           "aaxis": {
            "gridcolor": "white",
            "linecolor": "white",
            "ticks": ""
           },
           "baxis": {
            "gridcolor": "white",
            "linecolor": "white",
            "ticks": ""
           },
           "bgcolor": "#E5ECF6",
           "caxis": {
            "gridcolor": "white",
            "linecolor": "white",
            "ticks": ""
           }
          },
          "title": {
           "x": 0.05
          },
          "xaxis": {
           "automargin": true,
           "gridcolor": "white",
           "linecolor": "white",
           "ticks": "",
           "title": {
            "standoff": 15
           },
           "zerolinecolor": "white",
           "zerolinewidth": 2
          },
          "yaxis": {
           "automargin": true,
           "gridcolor": "white",
           "linecolor": "white",
           "ticks": "",
           "title": {
            "standoff": 15
           },
           "zerolinecolor": "white",
           "zerolinewidth": 2
          }
         }
        },
        "yaxis": {
         "visible": false
        }
       }
      }
     },
     "metadata": {},
     "output_type": "display_data"
    },
    {
     "data": {
      "text/plain": [
       "0.5379381229554602"
      ]
     },
     "execution_count": 61,
     "metadata": {},
     "output_type": "execute_result"
    }
   ],
   "source": [
    "HVCS_construction_cost_pro,HVCS_construction_cost_pro_negative  = cal_norm(df_HVCS_construction_cost['구축 비용'].mean(),\n",
    "                                                                           df_HVCS_construction_cost['구축 비용'].std(),\n",
    "                                                                           df_HVCS_construction_cost['구축 비용'].min(),\n",
    "                                                                           df_HVCS_construction_cost['구축 비용'].max(),\n",
    "                                                                           HVCS_construction_cost_standard,\n",
    "                                                                           True)\n",
    "HVCS_construction_cost_pro"
   ]
  },
  {
   "cell_type": "markdown",
   "metadata": {},
   "source": [
    "### 평균소득"
   ]
  },
  {
   "cell_type": "code",
   "execution_count": 62,
   "metadata": {},
   "outputs": [
    {
     "data": {
      "text/html": [
       "<div>\n",
       "<style scoped>\n",
       "    .dataframe tbody tr th:only-of-type {\n",
       "        vertical-align: middle;\n",
       "    }\n",
       "\n",
       "    .dataframe tbody tr th {\n",
       "        vertical-align: top;\n",
       "    }\n",
       "\n",
       "    .dataframe thead th {\n",
       "        text-align: right;\n",
       "    }\n",
       "</style>\n",
       "<table border=\"1\" class=\"dataframe\">\n",
       "  <thead>\n",
       "    <tr style=\"text-align: right;\">\n",
       "      <th></th>\n",
       "      <th>행정구</th>\n",
       "      <th>행정동</th>\n",
       "      <th>가구당인구수</th>\n",
       "      <th>평균소득금액(만)</th>\n",
       "    </tr>\n",
       "  </thead>\n",
       "  <tbody>\n",
       "    <tr>\n",
       "      <th>0</th>\n",
       "      <td>강서구</td>\n",
       "      <td>가덕도동</td>\n",
       "      <td>2.00</td>\n",
       "      <td>2414.330000</td>\n",
       "    </tr>\n",
       "    <tr>\n",
       "      <th>1</th>\n",
       "      <td>강서구</td>\n",
       "      <td>가락동</td>\n",
       "      <td>1.77</td>\n",
       "      <td>1765.034000</td>\n",
       "    </tr>\n",
       "    <tr>\n",
       "      <th>2</th>\n",
       "      <td>강서구</td>\n",
       "      <td>강동동</td>\n",
       "      <td>1.99</td>\n",
       "      <td>2650.385000</td>\n",
       "    </tr>\n",
       "    <tr>\n",
       "      <th>3</th>\n",
       "      <td>강서구</td>\n",
       "      <td>녹산동</td>\n",
       "      <td>1.94</td>\n",
       "      <td>2143.833333</td>\n",
       "    </tr>\n",
       "    <tr>\n",
       "      <th>4</th>\n",
       "      <td>강서구</td>\n",
       "      <td>대저1동</td>\n",
       "      <td>1.91</td>\n",
       "      <td>3128.142500</td>\n",
       "    </tr>\n",
       "    <tr>\n",
       "      <th>...</th>\n",
       "      <td>...</td>\n",
       "      <td>...</td>\n",
       "      <td>...</td>\n",
       "      <td>...</td>\n",
       "    </tr>\n",
       "    <tr>\n",
       "      <th>200</th>\n",
       "      <td>해운대구</td>\n",
       "      <td>좌2동</td>\n",
       "      <td>2.37</td>\n",
       "      <td>3611.697857</td>\n",
       "    </tr>\n",
       "    <tr>\n",
       "      <th>201</th>\n",
       "      <td>해운대구</td>\n",
       "      <td>좌3동</td>\n",
       "      <td>2.35</td>\n",
       "      <td>3054.358462</td>\n",
       "    </tr>\n",
       "    <tr>\n",
       "      <th>202</th>\n",
       "      <td>해운대구</td>\n",
       "      <td>좌4동</td>\n",
       "      <td>2.49</td>\n",
       "      <td>3271.529231</td>\n",
       "    </tr>\n",
       "    <tr>\n",
       "      <th>203</th>\n",
       "      <td>해운대구</td>\n",
       "      <td>중1동</td>\n",
       "      <td>2.69</td>\n",
       "      <td>4010.241000</td>\n",
       "    </tr>\n",
       "    <tr>\n",
       "      <th>204</th>\n",
       "      <td>해운대구</td>\n",
       "      <td>중2동</td>\n",
       "      <td>2.25</td>\n",
       "      <td>3184.035455</td>\n",
       "    </tr>\n",
       "  </tbody>\n",
       "</table>\n",
       "<p>205 rows × 4 columns</p>\n",
       "</div>"
      ],
      "text/plain": [
       "      행정구   행정동  가구당인구수    평균소득금액(만)\n",
       "0     강서구  가덕도동    2.00  2414.330000\n",
       "1     강서구   가락동    1.77  1765.034000\n",
       "2     강서구   강동동    1.99  2650.385000\n",
       "3     강서구   녹산동    1.94  2143.833333\n",
       "4     강서구  대저1동    1.91  3128.142500\n",
       "..    ...   ...     ...          ...\n",
       "200  해운대구   좌2동    2.37  3611.697857\n",
       "201  해운대구   좌3동    2.35  3054.358462\n",
       "202  해운대구   좌4동    2.49  3271.529231\n",
       "203  해운대구   중1동    2.69  4010.241000\n",
       "204  해운대구   중2동    2.25  3184.035455\n",
       "\n",
       "[205 rows x 4 columns]"
      ]
     },
     "execution_count": 62,
     "metadata": {},
     "output_type": "execute_result"
    }
   ],
   "source": [
    "income_file_path = 'C:\\\\Users\\\\SAMSUNG\\\\Desktop\\\\Green-Car-Charging-Station-Site-Selection\\\\Data\\\\부산 평균소득.csv'\n",
    "df_income = pd.read_csv(income_file_path,encoding='cp949')\n",
    "df_income"
   ]
  },
  {
   "cell_type": "code",
   "execution_count": 63,
   "metadata": {},
   "outputs": [],
   "source": [
    "# gu = []\n",
    "# dong = []\n",
    "# for i in range(df_income.shape[0]):\n",
    "#     text = df_income.iloc[i]['행정동']\n",
    "#     strings = text.split()\n",
    "#     gu.append(strings[1])\n",
    "#     dong.append(strings[2])"
   ]
  },
  {
   "cell_type": "code",
   "execution_count": 64,
   "metadata": {},
   "outputs": [],
   "source": [
    "# df_income.drop(columns='행정동',inplace=True)\n",
    "# df_income.insert(0,'행정구',gu)\n",
    "# df_income.insert(1,'행정동',dong)\n",
    "# df_income.to_csv(income_file_path,encoding='cp949',index=False)"
   ]
  },
  {
   "cell_type": "code",
   "execution_count": 65,
   "metadata": {},
   "outputs": [
    {
     "data": {
      "application/vnd.plotly.v1+json": {
       "config": {
        "plotlyServerURL": "https://plot.ly"
       },
       "data": [
        {
         "fill": "tozeroy",
         "line": {
          "color": "rgb(239,85,59)"
         },
         "name": "부적합",
         "type": "scatter",
         "x": [
          999.7211389932572,
          1025.9865820337293,
          1052.2520250742016,
          1078.5174681146736,
          1104.782911155146,
          1131.048354195618,
          1157.31379723609,
          1183.5792402765624,
          1209.8446833170344,
          1236.1101263575065,
          1262.3755693979788,
          1288.6410124384508,
          1314.906455478923,
          1341.1718985193952,
          1367.4373415598673,
          1393.7027846003393,
          1419.9682276408116,
          1446.233670681284,
          1472.499113721756,
          1498.764556762228,
          1525.0299998027003,
          1551.2954428431724,
          1577.5608858836445,
          1603.8263289241168,
          1630.0917719645888,
          1656.3572150050609,
          1682.6226580455332,
          1708.8881010860052,
          1735.1535441264773,
          1761.4189871669496,
          1787.6844302074217,
          1813.9498732478937,
          1840.215316288366,
          1866.4807593288383,
          1892.7462023693104,
          1919.0116454097824,
          1945.2770884502547,
          1971.5425314907268,
          1997.8079745311989,
          2024.0734175716711,
          2050.3388606121434,
          2076.6043036526153,
          2102.8697466930876,
          2129.13518973356,
          2155.4006327740317,
          2181.666075814504,
          2207.9315188549763,
          2234.196961895448,
          2260.4624049359204,
          2286.7278479763927,
          2312.9932910168645,
          2339.258734057337,
          2365.524177097809,
          2391.789620138281,
          2418.0550631787532,
          2444.3205062192255,
          2470.5859492596974,
          2496.8513923001697,
          2523.116835340642,
          2549.382278381114,
          2575.647721421586,
          2601.9131644620584,
          2628.17860750253,
          2654.444050543003,
          2680.709493583475,
          2706.9749366239466,
          2733.2403796644194,
          2759.505822704891,
          2785.7712657453635,
          2812.036708785836,
          2838.3021518263076,
          2864.56759486678,
          2890.833037907252,
          2917.098480947724,
          2943.3639239881963,
          2969.6293670286686,
          2995.8948100691405,
          3022.1602531096128,
          3048.425696150085,
          3074.691139190557,
          3100.956582231029,
          3127.2220252715015,
          3153.4874683119733,
          3179.7529113524456,
          3206.018354392918,
          3232.2837974333897,
          3258.549240473862,
          3284.8146835143343,
          3311.080126554806,
          3337.3455695952784,
          3363.6110126357507,
          3389.876455676223,
          3416.141898716695,
          3442.407341757167,
          3468.6727847976395,
          3494.9382278381113,
          3521.2036708785836,
          3547.469113919056,
          3573.7345569595277,
          3600
         ],
         "y": [
          0.000014431465306125227,
          0.000015837866738354822,
          0.00001736020651153544,
          0.00001900575110847199,
          0.000020781990215206387,
          0.00002269661977782645,
          0.000024757522154797502,
          0.00002697274324479896,
          0.000029350466485797437,
          0.00003189898363934384,
          0.000034626662294867335,
          0.0000375419100520446,
          0.00004065313536510444,
          0.000043968705061110864,
          0.000047496898574735765,
          0.00005124585897463489,
          0.00005522354089108211,
          0.000059437655490765854,
          0.00006389561268233503,
          0.00006860446077508461,
          0.00007357082385273784,
          0.00007880083716423261,
          0.00008430008087331744,
          0.00009007351254816213,
          0.00009612539881060237,
          0.00010245924660156349,
          0.0001090777345541213,
          0.00011598264499802843,
          0.00012317479714882152,
          0.000130653982060293,
          0.00013841889994063803,
          0.00014646710044946505,
          0.00015479492660459924,
          0.00016339746293377947,
          0.0001722684885065317,
          0.00018140043547535138,
          0.0001907843537425458,
          0.00020040988234944665,
          0.00021026522815804913,
          0.0002203371523613802,
          0.00023061096531806923,
          0.00024107053015876725,
          0.0002516982755574362,
          0.0002624752179993757,
          0.00027338099381057034,
          0.00028439390113995955,
          0.00029549095200815105,
          0.00030664793445354553,
          0.0003178394847205528,
          0.0003290391693453651,
          0.00034021957690349823,
          0.00035135241909093864,
          0.00036240864071823665,
          0.0003733585381052999,
          0.0003841718852749894,
          0.0003948180672569795,
          0.0004052662197307844,
          0.00041548537415937676,
          0.000425444607493484,
          0.00043511319546238276,
          0.0004444607684107241,
          0.000453457468593453,
          0.00046207410780296955,
          0.00047028232417495373,
          0.00047805473700227757,
          0.000485365098380577,
          0.0004921884405146071,
          0.00049850121753164,
          0.0005042814406768775,
          0.0005095088058059933,
          0.0005141648121412613,
          0.0005182328713198006,
          0.0005216984058347674,
          0.0005245489360521379,
          0.0005267741550762666,
          0.0005283659908357412,
          0.0005293186548661762,
          0.0005296286773773762,
          0.0005292949283075717,
          0.0005283186241859444,
          0.0005267033207451215,
          0.0005244548913464202,
          0.0005215814914010373,
          0.0005180935090887948,
          0.0005140035027911846,
          0.0005093261257660508,
          0.0005040780386961419,
          0.0004982778108418311,
          0.000491945810618536,
          0.000485104086500848,
          0.00047777623922731245,
          0.0004699872863414919,
          0.0004617635201558759,
          0.00045313236026492875,
          0.0004441222017618569,
          0.0004347622603303759,
          0.000425082415387894,
          0.00041511305245025984,
          0.00040488490587081043,
          0.00039442890307835884
         ]
        },
        {
         "fill": "tozeroy",
         "line": {
          "color": "rgb(100,110,250)"
         },
         "name": "적합",
         "type": "scatter",
         "x": [
          3600,
          3614.8115151515153,
          3629.62303030303,
          3644.4345454545455,
          3659.2460606060604,
          3674.0575757575757,
          3688.869090909091,
          3703.680606060606,
          3718.492121212121,
          3733.3036363636365,
          3748.1151515151514,
          3762.9266666666667,
          3777.738181818182,
          3792.549696969697,
          3807.3612121212122,
          3822.172727272727,
          3836.9842424242424,
          3851.7957575757578,
          3866.6072727272726,
          3881.418787878788,
          3896.230303030303,
          3911.041818181818,
          3925.8533333333335,
          3940.6648484848483,
          3955.4763636363637,
          3970.287878787879,
          3985.099393939394,
          3999.910909090909,
          4014.7224242424245,
          4029.5339393939394,
          4044.3454545454547,
          4059.1569696969696,
          4073.968484848485,
          4088.78,
          4103.5915151515155,
          4118.40303030303,
          4133.214545454545,
          4148.02606060606,
          4162.837575757576,
          4177.649090909091,
          4192.460606060606,
          4207.272121212121,
          4222.083636363636,
          4236.895151515151,
          4251.706666666667,
          4266.518181818182,
          4281.329696969697,
          4296.141212121212,
          4310.952727272727,
          4325.764242424242,
          4340.575757575758,
          4355.387272727273,
          4370.198787878788,
          4385.0103030303035,
          4399.821818181818,
          4414.633333333333,
          4429.444848484849,
          4444.256363636364,
          4459.067878787879,
          4473.8793939393945,
          4488.690909090909,
          4503.502424242424,
          4518.313939393939,
          4533.125454545455,
          4547.93696969697,
          4562.748484848485,
          4577.56,
          4592.371515151515,
          4607.18303030303,
          4621.994545454545,
          4636.806060606061,
          4651.617575757576,
          4666.4290909090905,
          4681.240606060606,
          4696.052121212121,
          4710.863636363636,
          4725.675151515152,
          4740.486666666667,
          4755.298181818182,
          4770.109696969697,
          4784.921212121212,
          4799.732727272727,
          4814.544242424243,
          4829.355757575758,
          4844.167272727273,
          4858.978787878788,
          4873.790303030303,
          4888.601818181818,
          4903.413333333334,
          4918.224848484849,
          4933.036363636364,
          4947.847878787879,
          4962.659393939394,
          4977.470909090909,
          4992.282424242425,
          5007.09393939394,
          5021.905454545455,
          5036.7169696969695,
          5051.528484848484,
          5066.34
         ],
         "y": [
          0.00039442890307835884,
          0.0003884437890713768,
          0.000382401608410942,
          0.00037630788398506607,
          0.00037016811103492695,
          0.00036398774916669035,
          0.0003577722145604396,
          0.00035152687239091283,
          0.0003452570294739408,
          0.0003389679271516426,
          0.0003326647344285617,
          0.00032635254137004425,
          0.00032003635277325396,
          0.00031372108212029276,
          0.00030741154582196277,
          0.00030111245775977044,
          0.0002948284241328119,
          0.0002885639386152464,
          0.00028232337782910347,
          0.000276110997136234,
          0.00026993092675228254,
          0.0002637871681846261,
          0.0002576835909953274,
          0.00025162392988924696,
          0.00024561178212659127,
          0.0002396506052583241,
          0.00023374371518203633,
          0.00022789428451507494,
          0.0002221053412809603,
          0.00021637976790437656,
          0.00021072030050931837,
          0.000205129528514302,
          0.00019960989451790778,
          0.0001941636944673272,
          0.0001887930781020194,
          0.00018350004966406189,
          0.00017828646886629507,
          0.00017315405210891838,
          0.00016810437393479134,
          0.00016313886871333313,
          0.0001582588325425902,
          0.00015346542535876813,
          0.00014875967324228036,
          0.0001441424709091657,
          0.0001396145843765772,
          0.00013517665379091722,
          0.00013082919640711266,
          0.0001265726097074895,
          0.00012240717464868977,
          0.00011833305902510422,
          0.000114350320937363,
          0.00011045891235451505,
          0.00010665868275865359,
          0.00010294938286091023,
          0.00009933066837791593,
          0.00009580210385804224,
          0.00009236316654697757,
          0.0000890132502824489,
          0.00008575166940818086,
          0.00008257766269749437,
          0.00007949039727725914,
          0.0000764889725432553,
          0.00007357242405835383,
          0.0000707397274252862,
          0.00006798980212615422,
          0.0000653215153212125,
          0.00006273368559985595,
          0.00006022508667714032,
          0.00005779445102956906,
          0.00005544047346429116,
          0.000053161814616260645,
          0.00005095710436832034,
          0.00004882494518957889,
          0.0000467639153878591,
          0.0000447725722723948,
          0.00004284945522335064,
          0.000040993088665131917,
          0.00003920198494083296,
          0.000037474647085546794,
          0.00003580957149662836,
          0.00003420525049935562,
          0.00003266017480677822,
          0.00003117283587287968,
          0.000029741728138496975,
          0.000028365351169750783,
          0.000027042211689036596,
          0.00002577082549890677,
          0.000024549719299440955,
          0.000023377432399959032,
          0.00002225251832616633,
          0.000021173546324046947,
          0.000020139102762032168,
          0.0000191477924331647,
          0.000018198239759160626,
          0.00001728908989843833,
          0.000016419009760334542,
          0.000015586688927865242,
          0.00001479084049151456,
          0.000014030201796643051,
          0.000013303535107204911
         ]
        }
       ],
       "layout": {
        "annotations": [
         {
          "bordercolor": "rgb(239,85,59)",
          "borderwidth": 2,
          "font": {
           "color": "rgb(239,85,59)",
           "size": 15
          },
          "showarrow": false,
          "text": "0.775",
          "x": 3600,
          "xshift": -40,
          "y": 0.00039442890307835884,
          "yshift": -100
         },
         {
          "bordercolor": "rgb(100,110,250)",
          "borderwidth": 2,
          "font": {
           "color": "rgb(100,110,250)",
           "size": 15
          },
          "showarrow": false,
          "text": "0.225",
          "x": 3600,
          "xshift": 40,
          "y": 0.00039442890307835884,
          "yshift": -100
         }
        ],
        "template": {
         "data": {
          "bar": [
           {
            "error_x": {
             "color": "#2a3f5f"
            },
            "error_y": {
             "color": "#2a3f5f"
            },
            "marker": {
             "line": {
              "color": "#E5ECF6",
              "width": 0.5
             },
             "pattern": {
              "fillmode": "overlay",
              "size": 10,
              "solidity": 0.2
             }
            },
            "type": "bar"
           }
          ],
          "barpolar": [
           {
            "marker": {
             "line": {
              "color": "#E5ECF6",
              "width": 0.5
             },
             "pattern": {
              "fillmode": "overlay",
              "size": 10,
              "solidity": 0.2
             }
            },
            "type": "barpolar"
           }
          ],
          "carpet": [
           {
            "aaxis": {
             "endlinecolor": "#2a3f5f",
             "gridcolor": "white",
             "linecolor": "white",
             "minorgridcolor": "white",
             "startlinecolor": "#2a3f5f"
            },
            "baxis": {
             "endlinecolor": "#2a3f5f",
             "gridcolor": "white",
             "linecolor": "white",
             "minorgridcolor": "white",
             "startlinecolor": "#2a3f5f"
            },
            "type": "carpet"
           }
          ],
          "choropleth": [
           {
            "colorbar": {
             "outlinewidth": 0,
             "ticks": ""
            },
            "type": "choropleth"
           }
          ],
          "contour": [
           {
            "colorbar": {
             "outlinewidth": 0,
             "ticks": ""
            },
            "colorscale": [
             [
              0,
              "#0d0887"
             ],
             [
              0.1111111111111111,
              "#46039f"
             ],
             [
              0.2222222222222222,
              "#7201a8"
             ],
             [
              0.3333333333333333,
              "#9c179e"
             ],
             [
              0.4444444444444444,
              "#bd3786"
             ],
             [
              0.5555555555555556,
              "#d8576b"
             ],
             [
              0.6666666666666666,
              "#ed7953"
             ],
             [
              0.7777777777777778,
              "#fb9f3a"
             ],
             [
              0.8888888888888888,
              "#fdca26"
             ],
             [
              1,
              "#f0f921"
             ]
            ],
            "type": "contour"
           }
          ],
          "contourcarpet": [
           {
            "colorbar": {
             "outlinewidth": 0,
             "ticks": ""
            },
            "type": "contourcarpet"
           }
          ],
          "heatmap": [
           {
            "colorbar": {
             "outlinewidth": 0,
             "ticks": ""
            },
            "colorscale": [
             [
              0,
              "#0d0887"
             ],
             [
              0.1111111111111111,
              "#46039f"
             ],
             [
              0.2222222222222222,
              "#7201a8"
             ],
             [
              0.3333333333333333,
              "#9c179e"
             ],
             [
              0.4444444444444444,
              "#bd3786"
             ],
             [
              0.5555555555555556,
              "#d8576b"
             ],
             [
              0.6666666666666666,
              "#ed7953"
             ],
             [
              0.7777777777777778,
              "#fb9f3a"
             ],
             [
              0.8888888888888888,
              "#fdca26"
             ],
             [
              1,
              "#f0f921"
             ]
            ],
            "type": "heatmap"
           }
          ],
          "heatmapgl": [
           {
            "colorbar": {
             "outlinewidth": 0,
             "ticks": ""
            },
            "colorscale": [
             [
              0,
              "#0d0887"
             ],
             [
              0.1111111111111111,
              "#46039f"
             ],
             [
              0.2222222222222222,
              "#7201a8"
             ],
             [
              0.3333333333333333,
              "#9c179e"
             ],
             [
              0.4444444444444444,
              "#bd3786"
             ],
             [
              0.5555555555555556,
              "#d8576b"
             ],
             [
              0.6666666666666666,
              "#ed7953"
             ],
             [
              0.7777777777777778,
              "#fb9f3a"
             ],
             [
              0.8888888888888888,
              "#fdca26"
             ],
             [
              1,
              "#f0f921"
             ]
            ],
            "type": "heatmapgl"
           }
          ],
          "histogram": [
           {
            "marker": {
             "pattern": {
              "fillmode": "overlay",
              "size": 10,
              "solidity": 0.2
             }
            },
            "type": "histogram"
           }
          ],
          "histogram2d": [
           {
            "colorbar": {
             "outlinewidth": 0,
             "ticks": ""
            },
            "colorscale": [
             [
              0,
              "#0d0887"
             ],
             [
              0.1111111111111111,
              "#46039f"
             ],
             [
              0.2222222222222222,
              "#7201a8"
             ],
             [
              0.3333333333333333,
              "#9c179e"
             ],
             [
              0.4444444444444444,
              "#bd3786"
             ],
             [
              0.5555555555555556,
              "#d8576b"
             ],
             [
              0.6666666666666666,
              "#ed7953"
             ],
             [
              0.7777777777777778,
              "#fb9f3a"
             ],
             [
              0.8888888888888888,
              "#fdca26"
             ],
             [
              1,
              "#f0f921"
             ]
            ],
            "type": "histogram2d"
           }
          ],
          "histogram2dcontour": [
           {
            "colorbar": {
             "outlinewidth": 0,
             "ticks": ""
            },
            "colorscale": [
             [
              0,
              "#0d0887"
             ],
             [
              0.1111111111111111,
              "#46039f"
             ],
             [
              0.2222222222222222,
              "#7201a8"
             ],
             [
              0.3333333333333333,
              "#9c179e"
             ],
             [
              0.4444444444444444,
              "#bd3786"
             ],
             [
              0.5555555555555556,
              "#d8576b"
             ],
             [
              0.6666666666666666,
              "#ed7953"
             ],
             [
              0.7777777777777778,
              "#fb9f3a"
             ],
             [
              0.8888888888888888,
              "#fdca26"
             ],
             [
              1,
              "#f0f921"
             ]
            ],
            "type": "histogram2dcontour"
           }
          ],
          "mesh3d": [
           {
            "colorbar": {
             "outlinewidth": 0,
             "ticks": ""
            },
            "type": "mesh3d"
           }
          ],
          "parcoords": [
           {
            "line": {
             "colorbar": {
              "outlinewidth": 0,
              "ticks": ""
             }
            },
            "type": "parcoords"
           }
          ],
          "pie": [
           {
            "automargin": true,
            "type": "pie"
           }
          ],
          "scatter": [
           {
            "marker": {
             "colorbar": {
              "outlinewidth": 0,
              "ticks": ""
             }
            },
            "type": "scatter"
           }
          ],
          "scatter3d": [
           {
            "line": {
             "colorbar": {
              "outlinewidth": 0,
              "ticks": ""
             }
            },
            "marker": {
             "colorbar": {
              "outlinewidth": 0,
              "ticks": ""
             }
            },
            "type": "scatter3d"
           }
          ],
          "scattercarpet": [
           {
            "marker": {
             "colorbar": {
              "outlinewidth": 0,
              "ticks": ""
             }
            },
            "type": "scattercarpet"
           }
          ],
          "scattergeo": [
           {
            "marker": {
             "colorbar": {
              "outlinewidth": 0,
              "ticks": ""
             }
            },
            "type": "scattergeo"
           }
          ],
          "scattergl": [
           {
            "marker": {
             "colorbar": {
              "outlinewidth": 0,
              "ticks": ""
             }
            },
            "type": "scattergl"
           }
          ],
          "scattermapbox": [
           {
            "marker": {
             "colorbar": {
              "outlinewidth": 0,
              "ticks": ""
             }
            },
            "type": "scattermapbox"
           }
          ],
          "scatterpolar": [
           {
            "marker": {
             "colorbar": {
              "outlinewidth": 0,
              "ticks": ""
             }
            },
            "type": "scatterpolar"
           }
          ],
          "scatterpolargl": [
           {
            "marker": {
             "colorbar": {
              "outlinewidth": 0,
              "ticks": ""
             }
            },
            "type": "scatterpolargl"
           }
          ],
          "scatterternary": [
           {
            "marker": {
             "colorbar": {
              "outlinewidth": 0,
              "ticks": ""
             }
            },
            "type": "scatterternary"
           }
          ],
          "surface": [
           {
            "colorbar": {
             "outlinewidth": 0,
             "ticks": ""
            },
            "colorscale": [
             [
              0,
              "#0d0887"
             ],
             [
              0.1111111111111111,
              "#46039f"
             ],
             [
              0.2222222222222222,
              "#7201a8"
             ],
             [
              0.3333333333333333,
              "#9c179e"
             ],
             [
              0.4444444444444444,
              "#bd3786"
             ],
             [
              0.5555555555555556,
              "#d8576b"
             ],
             [
              0.6666666666666666,
              "#ed7953"
             ],
             [
              0.7777777777777778,
              "#fb9f3a"
             ],
             [
              0.8888888888888888,
              "#fdca26"
             ],
             [
              1,
              "#f0f921"
             ]
            ],
            "type": "surface"
           }
          ],
          "table": [
           {
            "cells": {
             "fill": {
              "color": "#EBF0F8"
             },
             "line": {
              "color": "white"
             }
            },
            "header": {
             "fill": {
              "color": "#C8D4E3"
             },
             "line": {
              "color": "white"
             }
            },
            "type": "table"
           }
          ]
         },
         "layout": {
          "annotationdefaults": {
           "arrowcolor": "#2a3f5f",
           "arrowhead": 0,
           "arrowwidth": 1
          },
          "autotypenumbers": "strict",
          "coloraxis": {
           "colorbar": {
            "outlinewidth": 0,
            "ticks": ""
           }
          },
          "colorscale": {
           "diverging": [
            [
             0,
             "#8e0152"
            ],
            [
             0.1,
             "#c51b7d"
            ],
            [
             0.2,
             "#de77ae"
            ],
            [
             0.3,
             "#f1b6da"
            ],
            [
             0.4,
             "#fde0ef"
            ],
            [
             0.5,
             "#f7f7f7"
            ],
            [
             0.6,
             "#e6f5d0"
            ],
            [
             0.7,
             "#b8e186"
            ],
            [
             0.8,
             "#7fbc41"
            ],
            [
             0.9,
             "#4d9221"
            ],
            [
             1,
             "#276419"
            ]
           ],
           "sequential": [
            [
             0,
             "#0d0887"
            ],
            [
             0.1111111111111111,
             "#46039f"
            ],
            [
             0.2222222222222222,
             "#7201a8"
            ],
            [
             0.3333333333333333,
             "#9c179e"
            ],
            [
             0.4444444444444444,
             "#bd3786"
            ],
            [
             0.5555555555555556,
             "#d8576b"
            ],
            [
             0.6666666666666666,
             "#ed7953"
            ],
            [
             0.7777777777777778,
             "#fb9f3a"
            ],
            [
             0.8888888888888888,
             "#fdca26"
            ],
            [
             1,
             "#f0f921"
            ]
           ],
           "sequentialminus": [
            [
             0,
             "#0d0887"
            ],
            [
             0.1111111111111111,
             "#46039f"
            ],
            [
             0.2222222222222222,
             "#7201a8"
            ],
            [
             0.3333333333333333,
             "#9c179e"
            ],
            [
             0.4444444444444444,
             "#bd3786"
            ],
            [
             0.5555555555555556,
             "#d8576b"
            ],
            [
             0.6666666666666666,
             "#ed7953"
            ],
            [
             0.7777777777777778,
             "#fb9f3a"
            ],
            [
             0.8888888888888888,
             "#fdca26"
            ],
            [
             1,
             "#f0f921"
            ]
           ]
          },
          "colorway": [
           "#636efa",
           "#EF553B",
           "#00cc96",
           "#ab63fa",
           "#FFA15A",
           "#19d3f3",
           "#FF6692",
           "#B6E880",
           "#FF97FF",
           "#FECB52"
          ],
          "font": {
           "color": "#2a3f5f"
          },
          "geo": {
           "bgcolor": "white",
           "lakecolor": "white",
           "landcolor": "#E5ECF6",
           "showlakes": true,
           "showland": true,
           "subunitcolor": "white"
          },
          "hoverlabel": {
           "align": "left"
          },
          "hovermode": "closest",
          "mapbox": {
           "style": "light"
          },
          "paper_bgcolor": "white",
          "plot_bgcolor": "#E5ECF6",
          "polar": {
           "angularaxis": {
            "gridcolor": "white",
            "linecolor": "white",
            "ticks": ""
           },
           "bgcolor": "#E5ECF6",
           "radialaxis": {
            "gridcolor": "white",
            "linecolor": "white",
            "ticks": ""
           }
          },
          "scene": {
           "xaxis": {
            "backgroundcolor": "#E5ECF6",
            "gridcolor": "white",
            "gridwidth": 2,
            "linecolor": "white",
            "showbackground": true,
            "ticks": "",
            "zerolinecolor": "white"
           },
           "yaxis": {
            "backgroundcolor": "#E5ECF6",
            "gridcolor": "white",
            "gridwidth": 2,
            "linecolor": "white",
            "showbackground": true,
            "ticks": "",
            "zerolinecolor": "white"
           },
           "zaxis": {
            "backgroundcolor": "#E5ECF6",
            "gridcolor": "white",
            "gridwidth": 2,
            "linecolor": "white",
            "showbackground": true,
            "ticks": "",
            "zerolinecolor": "white"
           }
          },
          "shapedefaults": {
           "line": {
            "color": "#2a3f5f"
           }
          },
          "ternary": {
           "aaxis": {
            "gridcolor": "white",
            "linecolor": "white",
            "ticks": ""
           },
           "baxis": {
            "gridcolor": "white",
            "linecolor": "white",
            "ticks": ""
           },
           "bgcolor": "#E5ECF6",
           "caxis": {
            "gridcolor": "white",
            "linecolor": "white",
            "ticks": ""
           }
          },
          "title": {
           "x": 0.05
          },
          "xaxis": {
           "automargin": true,
           "gridcolor": "white",
           "linecolor": "white",
           "ticks": "",
           "title": {
            "standoff": 15
           },
           "zerolinecolor": "white",
           "zerolinewidth": 2
          },
          "yaxis": {
           "automargin": true,
           "gridcolor": "white",
           "linecolor": "white",
           "ticks": "",
           "title": {
            "standoff": 15
           },
           "zerolinecolor": "white",
           "zerolinewidth": 2
          }
         }
        },
        "yaxis": {
         "visible": false
        }
       }
      }
     },
     "metadata": {},
     "output_type": "display_data"
    }
   ],
   "source": [
    "income_pro, income_pro_negative = cal_norm(df_income['평균소득금액(만)'].mean(),\n",
    "                                           df_income['평균소득금액(만)'].std(),\n",
    "                                           df_income['평균소득금액(만)'].min(),\n",
    "                                           df_income['평균소득금액(만)'].max(),\n",
    "                                           income_standard,\n",
    "                                           False)"
   ]
  },
  {
   "cell_type": "markdown",
   "metadata": {},
   "source": [
    "### 수소차충전소 기대수익"
   ]
  },
  {
   "cell_type": "markdown",
   "metadata": {},
   "source": [
    "#### 연간 유지비용"
   ]
  },
  {
   "cell_type": "markdown",
   "metadata": {},
   "source": [
    "연간 운영비는 약 3.25억원이 소요되며, 그 세부내역은 아래와 같다.\n",
    "\n",
    "- 인건비: 6,000만 원(인건비: 안전관리책임자 1인 4천만 원 + 충전원 1인 2천만 원)\n",
    "- 전기세 비용: 16,200만 원(칠러: 5 kWh/kg, 압축기: 3.3 kWh/kg 등) [10% 가동 시 1,620만 원, 50% 가동 시 8,100만 원]\n",
    "- 유지보수비: 3,000만 원(장비 수리비 및 노후장비 교체비용)\n",
    "- 고압가스 품질검사: 400만 원(100만 원 × 4회)\n",
    "- 연간 도로점용료: 500만 원(부지 공시지가의5% 가정, 10만 원/m2, 1,000 m2)\n",
    "- 카드수수료: 5,400만 원(3%, 10,000원/kg) [10% 가동 시 540만 원, 50% 가동 시 2,700만 원]\n",
    "- 기타: 1,000만 원(공과금, 교육훈련비, 물품구입비, 경비용역비 등)\n",
    "\n",
    "정부보조금을 제외한 본인 투자금 15억 원, 할인율 10%, 회수기간 15년을 가정하면, 연간수익 2\n",
    "억 원이 손익분기점이 된다. 수소충전소가 100%가동할 경우에는 판매마진 3,000원/kg으로 유지\n",
    "가능하며, 초기에 가동률이 10%로 낮을 경우에는판매마진이 3,000원/kg이라면 운영비 보조금을 연\n",
    "간 2.8억 원 지원하여야 적자를 면할 수 있다"
   ]
  },
  {
   "cell_type": "markdown",
   "metadata": {},
   "source": [
    "연간 기대수익 = 연간 판매수익 - 연간 유지비용"
   ]
  },
  {
   "cell_type": "code",
   "execution_count": 66,
   "metadata": {},
   "outputs": [],
   "source": [
    "def cal_maintenance_cost(station_type, operating_rate):\n",
    "    # 인건비\n",
    "    if station_type == '복합':\n",
    "        labor_cost = 40_000_000\n",
    "    else:\n",
    "        labor_cost = 60_000_000\n",
    "    # 전기세\n",
    "    # 가동률 1%당 162만원\n",
    "    elec_cost = operating_rate * 1_620_000\n",
    "    # 카드수수료\n",
    "    # 가동률 1%당 54만원\n",
    "    card_cost = operating_rate * 540_000 \n",
    "    # 기타(장비 교체비용, 품질검사비, 연간 도로점용료, 물품구입비, 공과금 등)\n",
    "    etc = 30_000_000 + 4_000_000 + 5_000_000 + 10_000_000\n",
    "    maintenance_cost = labor_cost + elec_cost + card_cost + etc\n",
    "\n",
    "    return maintenance_cost"
   ]
  },
  {
   "cell_type": "markdown",
   "metadata": {},
   "source": [
    "#### 연간 판매수익"
   ]
  },
  {
   "cell_type": "code",
   "execution_count": 67,
   "metadata": {},
   "outputs": [],
   "source": [
    "def cal_revenue(charge_time_average, sale_cost, maintenance_cost):\n",
    "    # 수소연료 평균 공급단가(1kg당)\n",
    "    hidrogen_cost = 6_000\n",
    "    # 수소연료 판매 마진(1kg당)\n",
    "    revenue_per_kg = sale_cost - hidrogen_cost\n",
    "    # 수소차 1회 평균 수소연료 충전량(kg)\n",
    "    charge_amount = 3.736 \n",
    "    # 일평균 판매수익\n",
    "    day_revenue = revenue_per_kg * charge_amount * charge_time_average \n",
    "    year_revenue = day_revenue * 365\n",
    "    # 수소연료구입비 보조금\n",
    "    grant = 0\n",
    "\n",
    "    # 수소연료구입비 보조금 지원금 반영\n",
    "    diff = year_revenue - maintenance_cost\n",
    "    \n",
    "    if diff < 0:\n",
    "        diff = -diff\n",
    "        # 기준단가\n",
    "        grant_cost_standard = sale_cost - (maintenance_cost / charge_amount * charge_time_average * 365)\n",
    "        # 지원단가 (수소연료공급단가에 기준단가와 차액의 70%)\n",
    "        grant_cost = (hidrogen_cost - grant_cost_standard) * 0.7\n",
    "        # 지원금액\n",
    "        grant = grant_cost * charge_amount * charge_time_average * 365\n",
    "        # 최대지원금액은 적자의 80%\n",
    "        if grant > diff * 0.8:\n",
    "            grant = diff * 0.8\n",
    "    # 연간수입 + 보조금\n",
    "    year_revenue = year_revenue + grant\n",
    "    # 연간수입에 유지보수비용을 뺀 순수익\n",
    "    diff = year_revenue - maintenance_cost    \n",
    "\n",
    "    return diff"
   ]
  },
  {
   "cell_type": "markdown",
   "metadata": {},
   "source": [
    "#### 연간 기대 수익"
   ]
  },
  {
   "cell_type": "code",
   "execution_count": 68,
   "metadata": {},
   "outputs": [
    {
     "data": {
      "text/plain": [
       "[-26229062.399999976, 50235520.00000003, -19967385.599999994]"
      ]
     },
     "execution_count": 68,
     "metadata": {},
     "output_type": "execute_result"
    }
   ],
   "source": [
    "revenue = []\n",
    "for i in range(df_HVCS.shape[0]):\n",
    "    maintenance_cost = cal_maintenance_cost(df_HVCS.iloc[i]['충전소 설치방식'],df_HVCS.iloc[i]['평균가동률'])\n",
    "    rev = cal_revenue(df_HVCS.iloc[i]['하루평균충전횟수'], df_HVCS.iloc[i]['충전가격'], maintenance_cost)\n",
    "    revenue.append(rev)\n",
    "revenue    "
   ]
  },
  {
   "cell_type": "code",
   "execution_count": 69,
   "metadata": {},
   "outputs": [
    {
     "data": {
      "text/html": [
       "<div>\n",
       "<style scoped>\n",
       "    .dataframe tbody tr th:only-of-type {\n",
       "        vertical-align: middle;\n",
       "    }\n",
       "\n",
       "    .dataframe tbody tr th {\n",
       "        vertical-align: top;\n",
       "    }\n",
       "\n",
       "    .dataframe thead th {\n",
       "        text-align: right;\n",
       "    }\n",
       "</style>\n",
       "<table border=\"1\" class=\"dataframe\">\n",
       "  <thead>\n",
       "    <tr style=\"text-align: right;\">\n",
       "      <th></th>\n",
       "      <th>충전소</th>\n",
       "      <th>충전기</th>\n",
       "      <th>시</th>\n",
       "      <th>구</th>\n",
       "      <th>주소</th>\n",
       "      <th>위도</th>\n",
       "      <th>경도</th>\n",
       "      <th>하루평균충전횟수</th>\n",
       "      <th>최대 충전 수소차수</th>\n",
       "      <th>공급방식</th>\n",
       "      <th>충전소 설치방식</th>\n",
       "      <th>압축기용량</th>\n",
       "      <th>충전기용량</th>\n",
       "      <th>충전압력</th>\n",
       "      <th>운영시간</th>\n",
       "      <th>평균가동률</th>\n",
       "      <th>충전가격</th>\n",
       "      <th>연간기대수익</th>\n",
       "    </tr>\n",
       "  </thead>\n",
       "  <tbody>\n",
       "    <tr>\n",
       "      <th>0</th>\n",
       "      <td>서부산NK수소충전소</td>\n",
       "      <td>1</td>\n",
       "      <td>부산광역시</td>\n",
       "      <td>강서구</td>\n",
       "      <td>부산광역시 강서구 가락대로 347</td>\n",
       "      <td>35.113171</td>\n",
       "      <td>128.843291</td>\n",
       "      <td>14</td>\n",
       "      <td>67</td>\n",
       "      <td>튜브트레일러</td>\n",
       "      <td>단독</td>\n",
       "      <td>302.63</td>\n",
       "      <td>33.4</td>\n",
       "      <td>700</td>\n",
       "      <td>10</td>\n",
       "      <td>35.0</td>\n",
       "      <td>8800</td>\n",
       "      <td>-26229062.4</td>\n",
       "    </tr>\n",
       "    <tr>\n",
       "      <th>1</th>\n",
       "      <td>H부산수소충전소</td>\n",
       "      <td>3</td>\n",
       "      <td>부산광역시</td>\n",
       "      <td>사상구</td>\n",
       "      <td>부산광역시 사상구 학감대로 167</td>\n",
       "      <td>35.145864</td>\n",
       "      <td>128.987651</td>\n",
       "      <td>60</td>\n",
       "      <td>70</td>\n",
       "      <td>천연가스개질</td>\n",
       "      <td>복합</td>\n",
       "      <td>308.00</td>\n",
       "      <td>25.0</td>\n",
       "      <td>700</td>\n",
       "      <td>12</td>\n",
       "      <td>41.6</td>\n",
       "      <td>8800</td>\n",
       "      <td>50235520.0</td>\n",
       "    </tr>\n",
       "    <tr>\n",
       "      <th>2</th>\n",
       "      <td>하이넷부산정관수소충</td>\n",
       "      <td>1</td>\n",
       "      <td>부산광역시</td>\n",
       "      <td>기장군</td>\n",
       "      <td>부산광역시 기장군 정관읍 신정관로 187</td>\n",
       "      <td>35.328714</td>\n",
       "      <td>129.201710</td>\n",
       "      <td>16</td>\n",
       "      <td>60</td>\n",
       "      <td>천연가스개질</td>\n",
       "      <td>복합</td>\n",
       "      <td>NaN</td>\n",
       "      <td>25.0</td>\n",
       "      <td>700</td>\n",
       "      <td>12</td>\n",
       "      <td>33.3</td>\n",
       "      <td>8800</td>\n",
       "      <td>-19967385.6</td>\n",
       "    </tr>\n",
       "  </tbody>\n",
       "</table>\n",
       "</div>"
      ],
      "text/plain": [
       "          충전소  충전기      시    구                       주소         위도  \\\n",
       "0  서부산NK수소충전소    1  부산광역시  강서구      부산광역시 강서구 가락대로 347   35.113171   \n",
       "1    H부산수소충전소    3  부산광역시  사상구      부산광역시 사상구 학감대로 167   35.145864   \n",
       "2  하이넷부산정관수소충    1  부산광역시  기장군  부산광역시 기장군 정관읍 신정관로 187   35.328714   \n",
       "\n",
       "           경도  하루평균충전횟수  최대 충전 수소차수    공급방식 충전소 설치방식   압축기용량  충전기용량  충전압력  \\\n",
       "0  128.843291        14          67  튜브트레일러       단독  302.63   33.4   700   \n",
       "1  128.987651        60          70  천연가스개질       복합  308.00   25.0   700   \n",
       "2  129.201710        16          60  천연가스개질       복합     NaN   25.0   700   \n",
       "\n",
       "   운영시간  평균가동률  충전가격      연간기대수익  \n",
       "0    10   35.0  8800 -26229062.4  \n",
       "1    12   41.6  8800  50235520.0  \n",
       "2    12   33.3  8800 -19967385.6  "
      ]
     },
     "execution_count": 69,
     "metadata": {},
     "output_type": "execute_result"
    }
   ],
   "source": [
    "df_HVCS.insert(17,'연간기대수익',revenue)\n",
    "df_HVCS"
   ]
  },
  {
   "cell_type": "code",
   "execution_count": 70,
   "metadata": {},
   "outputs": [
    {
     "data": {
      "text/plain": [
       "count    3.000000e+00\n",
       "mean     1.346357e+06\n",
       "std      4.245486e+07\n",
       "min     -2.622906e+07\n",
       "25%     -2.309822e+07\n",
       "50%     -1.996739e+07\n",
       "75%      1.513407e+07\n",
       "max      5.023552e+07\n",
       "Name: 연간기대수익, dtype: float64"
      ]
     },
     "execution_count": 70,
     "metadata": {},
     "output_type": "execute_result"
    }
   ],
   "source": [
    "df_HVCS['연간기대수익'].describe()"
   ]
  },
  {
   "cell_type": "code",
   "execution_count": 77,
   "metadata": {},
   "outputs": [
    {
     "data": {
      "application/vnd.plotly.v1+json": {
       "config": {
        "plotlyServerURL": "https://plot.ly"
       },
       "data": [
        {
         "fill": "tozeroy",
         "line": {
          "color": "rgb(239,85,59)"
         },
         "name": "부적합",
         "type": "scatter",
         "x": [
          -400000000,
          -395959595.959596,
          -391919191.9191919,
          -387878787.8787879,
          -383838383.83838385,
          -379797979.7979798,
          -375757575.75757575,
          -371717171.7171717,
          -367676767.6767677,
          -363636363.6363636,
          -359595959.5959596,
          -355555555.5555556,
          -351515151.5151515,
          -347474747.4747475,
          -343434343.43434346,
          -339393939.3939394,
          -335353535.35353535,
          -331313131.31313133,
          -327272727.27272725,
          -323232323.2323232,
          -319191919.1919192,
          -315151515.1515151,
          -311111111.1111111,
          -307070707.0707071,
          -303030303.030303,
          -298989898.989899,
          -294949494.94949496,
          -290909090.9090909,
          -286868686.86868685,
          -282828282.82828283,
          -278787878.78787875,
          -274747474.74747473,
          -270707070.7070707,
          -266666666.6666667,
          -262626262.62626263,
          -258585858.58585858,
          -254545454.54545456,
          -250505050.5050505,
          -246464646.46464646,
          -242424242.42424244,
          -238383838.3838384,
          -234343434.34343433,
          -230303030.3030303,
          -226262626.26262626,
          -222222222.2222222,
          -218181818.1818182,
          -214141414.14141414,
          -210101010.1010101,
          -206060606.06060606,
          -202020202.020202,
          -197979797.979798,
          -193939393.93939394,
          -189898989.89898992,
          -185858585.85858586,
          -181818181.8181818,
          -177777777.7777778,
          -173737373.73737374,
          -169696969.6969697,
          -165656565.65656567,
          -161616161.6161616,
          -157575757.57575756,
          -153535353.53535354,
          -149494949.4949495,
          -145454545.45454547,
          -141414141.41414142,
          -137373737.37373737,
          -133333333.33333334,
          -129292929.29292929,
          -125252525.25252527,
          -121212121.21212119,
          -117171717.17171717,
          -113131313.13131315,
          -109090909.09090912,
          -105050505.05050504,
          -101010101.01010102,
          -96969696.969697,
          -92929292.92929292,
          -88888888.8888889,
          -84848484.84848487,
          -80808080.80808079,
          -76767676.76767677,
          -72727272.72727275,
          -68686868.68686867,
          -64646464.646464646,
          -60606060.606060624,
          -56565656.56565654,
          -52525252.52525252,
          -48484848.4848485,
          -44444444.44444442,
          -40404040.404040396,
          -36363636.363636374,
          -32323232.323232353,
          -28282828.28282827,
          -24242424.24242425,
          -20202020.202020228,
          -16161616.161616147,
          -12121212.121212125,
          -8080808.080808103,
          -4040404.0404040217,
          0
         ],
         "y": [
          5.952532419775854e-11,
          6.687045984228753e-11,
          7.499941399854121e-11,
          8.397933873285059e-11,
          9.388107442780467e-11,
          1.0477910200130521e-10,
          1.167514580526084e-10,
          1.2987960944559387e-10,
          1.4424828392074678e-10,
          1.5994525346494222e-10,
          1.7706106736643918e-10,
          1.956887321453324e-10,
          2.159233358801746e-10,
          2.3786161485192506e-10,
          2.6160146089811295e-10,
          2.87241368413435e-10,
          3.1487982054703147e-10,
          3.44614614829165e-10,
          3.765421292073656e-10,
          4.1075653027922406e-10,
          4.473489263693329e-10,
          4.86406469003204e-10,
          5.28011407271749e-10,
          5.722401005448428e-10,
          6.191619959690646e-10,
          6.688385781589868e-10,
          7.213222994483178e-10,
          7.766554999906425e-10,
          8.34869327872699e-10,
          8.959826702086206e-10,
          9.600011069037221e-10,
          1.026915899393736e-9,
          1.0967030271626491e-9,
          1.1693222852030048e-9,
          1.2447164557915058e-9,
          1.3228105679959605e-9,
          1.4035112581950978e-9,
          1.486706244570677e-9,
          1.5722639280141722e-9,
          1.6600331311736835e-9,
          1.7498429864489625e-9,
          1.841502982625442e-9,
          1.9348031785270524e-9,
          2.029514590571194e-9,
          2.12538975943987e-9,
          2.2221634992545746e-9,
          2.3195538306784343e-9,
          2.417263097289965e-9,
          2.514979262404322e-9,
          2.6123773812884103e-9,
          2.709121241456428e-9,
          2.804865161474756e-9,
          2.899255936483568e-9,
          2.9919349164916036e-9,
          3.0825402014551046e-9,
          3.170708935246235e-9,
          3.2560796788836623e-9,
          3.3382948418697066e-9,
          3.4170031491839547e-9,
          3.4918621204481763e-9,
          3.5625405370248025e-9,
          3.6287208723593195e-9,
          3.6901016607398778e-9,
          3.7463997798344055e-9,
          3.797352622880551e-9,
          3.842720137245591e-9,
          3.882286707235469e-9,
          3.915862860502207e-9,
          3.943286779159938e-9,
          3.964425598749401e-9,
          3.97917648046202e-9,
          3.987467444516496e-9,
          3.989257955238333e-9,
          3.984539251187869e-9,
          3.973334416574804e-9,
          3.955698193144735e-9,
          3.9317165346826366e-9,
          3.901505909206271e-9,
          3.8652123567762405e-9,
          3.823010313587553e-9,
          3.775101215590455e-9,
          3.7217118972795123e-9,
          3.663092803456021e-9,
          3.5995160336806666e-9,
          3.5312732407658252e-9,
          3.4586734059902785e-9,
          3.3820405147381237e-9,
          3.3017111569589784e-9,
          3.218032077213816e-9,
          3.1313576991111137e-9,
          3.0420476486578336e-9,
          2.9504643004605364e-9,
          2.85697036982967e-9,
          2.761926572685284e-9,
          2.6656893737592236e-9,
          2.5686088419649507e-9,
          2.471026629991547e-9,
          2.37327409320571e-9,
          2.2756705608483683e-9,
          2.1785217703255054e-9
         ]
        },
        {
         "fill": "tozeroy",
         "line": {
          "color": "rgb(100,110,250)"
         },
         "name": "적합",
         "type": "scatter",
         "x": [
          0,
          1616161.616161616,
          3232323.232323232,
          4848484.848484848,
          6464646.464646464,
          8080808.080808081,
          9696969.696969695,
          11313131.313131312,
          12929292.929292928,
          14545454.545454545,
          16161616.161616161,
          17777777.777777776,
          19393939.39393939,
          21010101.01010101,
          22626262.626262624,
          24242424.242424242,
          25858585.858585857,
          27474747.47474747,
          29090909.09090909,
          30707070.707070705,
          32323232.323232323,
          33939393.93939394,
          35555555.55555555,
          37171717.17171717,
          38787878.78787878,
          40404040.4040404,
          42020202.02020202,
          43636363.63636363,
          45252525.25252525,
          46868686.86868686,
          48484848.484848484,
          50101010.1010101,
          51717171.71717171,
          53333333.33333333,
          54949494.94949494,
          56565656.565656565,
          58181818.18181818,
          59797979.797979794,
          61414141.41414141,
          63030303.030303024,
          64646464.646464646,
          66262626.26262626,
          67878787.87878788,
          69494949.49494949,
          71111111.1111111,
          72727272.72727272,
          74343434.34343433,
          75959595.95959595,
          77575757.57575756,
          79191919.1919192,
          80808080.8080808,
          82424242.42424242,
          84040404.04040404,
          85656565.65656565,
          87272727.27272727,
          88888888.88888888,
          90505050.5050505,
          92121212.12121211,
          93737373.73737372,
          95353535.35353535,
          96969696.96969697,
          98585858.58585858,
          100202020.2020202,
          101818181.81818181,
          103434343.43434343,
          105050505.05050504,
          106666666.66666666,
          108282828.28282827,
          109898989.89898989,
          111515151.5151515,
          113131313.13131313,
          114747474.74747474,
          116363636.36363636,
          117979797.97979797,
          119595959.59595959,
          121212121.2121212,
          122828282.82828282,
          124444444.44444443,
          126060606.06060605,
          127676767.67676766,
          129292929.29292929,
          130909090.9090909,
          132525252.52525252,
          134141414.14141414,
          135757575.75757575,
          137373737.37373737,
          138989898.98989898,
          140606060.6060606,
          142222222.2222222,
          143838383.83838382,
          145454545.45454544,
          147070707.07070705,
          148686868.68686867,
          150303030.30303028,
          151919191.9191919,
          153535353.5353535,
          155151515.15151513,
          156767676.76767677,
          158383838.3838384,
          160000000
         ],
         "y": [
          2.1785217703255054e-9,
          2.1398552425832065e-9,
          2.1013260725508946e-9,
          2.062951730698293e-9,
          2.0247492505098847e-9,
          1.9867352188344346e-9,
          1.9489257669897543e-9,
          1.911336562622514e-9,
          1.8739828023215947e-9,
          1.836879204982065e-9,
          1.8000400059156394e-9,
          1.7634789517021465e-9,
          1.7272092957753254e-9,
          1.691243794735085e-9,
          1.6555947053771723e-9,
          1.6202737824301205e-9,
          1.5852922769882474e-9,
          1.550660935628467e-9,
          1.5163900001976999e-9,
          1.4824892082567292e-9,
          1.4489677941654835e-9,
          1.4158344907938818e-9,
          1.3830975318416178e-9,
          1.3507646547495075e-9,
          1.3188431041843882e-9,
          1.287339636078886e-9,
          1.2562605222068507e-9,
          1.2256115552746979e-9,
          1.195398054508473e-9,
          1.1656248717160093e-9,
          1.1362963978032142e-9,
          1.1074165697232122e-9,
          1.0789888778368e-9,
          1.0510163736625021e-9,
          1.0235016779943071e-9,
          9.96446989365132e-10,
          9.698540928339257e-10,
          9.437243690743826e-10,
          9.180588037432327e-10,
          8.92857997106169e-10,
          8.681221738995892e-10,
          8.438511934065114e-10,
          8.200445597252031e-10,
          7.967014322093315e-10,
          7.738206360587068e-10,
          7.514006730400162e-10,
          7.294397323172878e-10,
          7.07935701372217e-10,
          6.868861769948822e-10,
          6.662884763258387e-10,
          6.461396479310169e-10,
          6.264364828913697e-10,
          6.071755258897129e-10,
          5.88353086277725e-10,
          5.699652491066591e-10,
          5.520078861058411e-10,
          5.344766665936692e-10,
          5.173670683063673e-10,
          5.006743881304169e-10,
          4.843937527251483e-10,
          4.685201290226607e-10,
          4.5304833459282456e-10,
          4.37973047861786e-10,
          4.2328881817303163e-10,
          4.0899007568070225e-10,
          3.9507114106550176e-10,
          3.815262350641798e-10,
          3.6834948780421213e-10,
          3.5553494793592607e-10,
          3.4307659155496046e-10,
          3.309683309085575e-10,
          3.192040228798133e-10,
          3.077774772445941e-10,
          2.9668246469644986e-10,
          2.859127246354084e-10,
          2.7546197271712984e-10,
          2.6532390815943366e-10,
          2.554922208037792e-10,
          2.4596059792978404e-10,
          2.367227308213988e-10,
          2.277723210838344e-10,
          2.1910308671083744e-10,
          2.107087679023562e-10,
          2.0258313263309386e-10,
          1.9471998197287458e-10,
          1.871131551601507e-10,
          1.7975653443037766e-10,
          1.7264404960135138e-10,
          1.6576968241796138e-10,
          1.591274706591404e-10,
          1.5271151201011645e-10,
          1.465159677033623e-10,
          1.4053506593192456e-10,
          1.34763105039064e-10,
          1.2919445648839032e-10,
          1.238235676188896e-10,
          1.1864496418945402e-10,
          1.1365325271770347e-10,
          1.0884312261806535e-10,
          1.0420934814422591e-10
         ]
        }
       ],
       "layout": {
        "annotations": [
         {
          "bordercolor": "rgb(239,85,59)",
          "borderwidth": 2,
          "font": {
           "color": "rgb(239,85,59)",
           "size": 15
          },
          "showarrow": false,
          "text": "0.862",
          "x": 0,
          "xshift": -40,
          "y": 2.1785217703255054e-9,
          "yshift": -100
         },
         {
          "bordercolor": "rgb(100,110,250)",
          "borderwidth": 2,
          "font": {
           "color": "rgb(100,110,250)",
           "size": 15
          },
          "showarrow": false,
          "text": "0.138",
          "x": 0,
          "xshift": 40,
          "y": 2.1785217703255054e-9,
          "yshift": -100
         }
        ],
        "template": {
         "data": {
          "bar": [
           {
            "error_x": {
             "color": "#2a3f5f"
            },
            "error_y": {
             "color": "#2a3f5f"
            },
            "marker": {
             "line": {
              "color": "#E5ECF6",
              "width": 0.5
             },
             "pattern": {
              "fillmode": "overlay",
              "size": 10,
              "solidity": 0.2
             }
            },
            "type": "bar"
           }
          ],
          "barpolar": [
           {
            "marker": {
             "line": {
              "color": "#E5ECF6",
              "width": 0.5
             },
             "pattern": {
              "fillmode": "overlay",
              "size": 10,
              "solidity": 0.2
             }
            },
            "type": "barpolar"
           }
          ],
          "carpet": [
           {
            "aaxis": {
             "endlinecolor": "#2a3f5f",
             "gridcolor": "white",
             "linecolor": "white",
             "minorgridcolor": "white",
             "startlinecolor": "#2a3f5f"
            },
            "baxis": {
             "endlinecolor": "#2a3f5f",
             "gridcolor": "white",
             "linecolor": "white",
             "minorgridcolor": "white",
             "startlinecolor": "#2a3f5f"
            },
            "type": "carpet"
           }
          ],
          "choropleth": [
           {
            "colorbar": {
             "outlinewidth": 0,
             "ticks": ""
            },
            "type": "choropleth"
           }
          ],
          "contour": [
           {
            "colorbar": {
             "outlinewidth": 0,
             "ticks": ""
            },
            "colorscale": [
             [
              0,
              "#0d0887"
             ],
             [
              0.1111111111111111,
              "#46039f"
             ],
             [
              0.2222222222222222,
              "#7201a8"
             ],
             [
              0.3333333333333333,
              "#9c179e"
             ],
             [
              0.4444444444444444,
              "#bd3786"
             ],
             [
              0.5555555555555556,
              "#d8576b"
             ],
             [
              0.6666666666666666,
              "#ed7953"
             ],
             [
              0.7777777777777778,
              "#fb9f3a"
             ],
             [
              0.8888888888888888,
              "#fdca26"
             ],
             [
              1,
              "#f0f921"
             ]
            ],
            "type": "contour"
           }
          ],
          "contourcarpet": [
           {
            "colorbar": {
             "outlinewidth": 0,
             "ticks": ""
            },
            "type": "contourcarpet"
           }
          ],
          "heatmap": [
           {
            "colorbar": {
             "outlinewidth": 0,
             "ticks": ""
            },
            "colorscale": [
             [
              0,
              "#0d0887"
             ],
             [
              0.1111111111111111,
              "#46039f"
             ],
             [
              0.2222222222222222,
              "#7201a8"
             ],
             [
              0.3333333333333333,
              "#9c179e"
             ],
             [
              0.4444444444444444,
              "#bd3786"
             ],
             [
              0.5555555555555556,
              "#d8576b"
             ],
             [
              0.6666666666666666,
              "#ed7953"
             ],
             [
              0.7777777777777778,
              "#fb9f3a"
             ],
             [
              0.8888888888888888,
              "#fdca26"
             ],
             [
              1,
              "#f0f921"
             ]
            ],
            "type": "heatmap"
           }
          ],
          "heatmapgl": [
           {
            "colorbar": {
             "outlinewidth": 0,
             "ticks": ""
            },
            "colorscale": [
             [
              0,
              "#0d0887"
             ],
             [
              0.1111111111111111,
              "#46039f"
             ],
             [
              0.2222222222222222,
              "#7201a8"
             ],
             [
              0.3333333333333333,
              "#9c179e"
             ],
             [
              0.4444444444444444,
              "#bd3786"
             ],
             [
              0.5555555555555556,
              "#d8576b"
             ],
             [
              0.6666666666666666,
              "#ed7953"
             ],
             [
              0.7777777777777778,
              "#fb9f3a"
             ],
             [
              0.8888888888888888,
              "#fdca26"
             ],
             [
              1,
              "#f0f921"
             ]
            ],
            "type": "heatmapgl"
           }
          ],
          "histogram": [
           {
            "marker": {
             "pattern": {
              "fillmode": "overlay",
              "size": 10,
              "solidity": 0.2
             }
            },
            "type": "histogram"
           }
          ],
          "histogram2d": [
           {
            "colorbar": {
             "outlinewidth": 0,
             "ticks": ""
            },
            "colorscale": [
             [
              0,
              "#0d0887"
             ],
             [
              0.1111111111111111,
              "#46039f"
             ],
             [
              0.2222222222222222,
              "#7201a8"
             ],
             [
              0.3333333333333333,
              "#9c179e"
             ],
             [
              0.4444444444444444,
              "#bd3786"
             ],
             [
              0.5555555555555556,
              "#d8576b"
             ],
             [
              0.6666666666666666,
              "#ed7953"
             ],
             [
              0.7777777777777778,
              "#fb9f3a"
             ],
             [
              0.8888888888888888,
              "#fdca26"
             ],
             [
              1,
              "#f0f921"
             ]
            ],
            "type": "histogram2d"
           }
          ],
          "histogram2dcontour": [
           {
            "colorbar": {
             "outlinewidth": 0,
             "ticks": ""
            },
            "colorscale": [
             [
              0,
              "#0d0887"
             ],
             [
              0.1111111111111111,
              "#46039f"
             ],
             [
              0.2222222222222222,
              "#7201a8"
             ],
             [
              0.3333333333333333,
              "#9c179e"
             ],
             [
              0.4444444444444444,
              "#bd3786"
             ],
             [
              0.5555555555555556,
              "#d8576b"
             ],
             [
              0.6666666666666666,
              "#ed7953"
             ],
             [
              0.7777777777777778,
              "#fb9f3a"
             ],
             [
              0.8888888888888888,
              "#fdca26"
             ],
             [
              1,
              "#f0f921"
             ]
            ],
            "type": "histogram2dcontour"
           }
          ],
          "mesh3d": [
           {
            "colorbar": {
             "outlinewidth": 0,
             "ticks": ""
            },
            "type": "mesh3d"
           }
          ],
          "parcoords": [
           {
            "line": {
             "colorbar": {
              "outlinewidth": 0,
              "ticks": ""
             }
            },
            "type": "parcoords"
           }
          ],
          "pie": [
           {
            "automargin": true,
            "type": "pie"
           }
          ],
          "scatter": [
           {
            "marker": {
             "colorbar": {
              "outlinewidth": 0,
              "ticks": ""
             }
            },
            "type": "scatter"
           }
          ],
          "scatter3d": [
           {
            "line": {
             "colorbar": {
              "outlinewidth": 0,
              "ticks": ""
             }
            },
            "marker": {
             "colorbar": {
              "outlinewidth": 0,
              "ticks": ""
             }
            },
            "type": "scatter3d"
           }
          ],
          "scattercarpet": [
           {
            "marker": {
             "colorbar": {
              "outlinewidth": 0,
              "ticks": ""
             }
            },
            "type": "scattercarpet"
           }
          ],
          "scattergeo": [
           {
            "marker": {
             "colorbar": {
              "outlinewidth": 0,
              "ticks": ""
             }
            },
            "type": "scattergeo"
           }
          ],
          "scattergl": [
           {
            "marker": {
             "colorbar": {
              "outlinewidth": 0,
              "ticks": ""
             }
            },
            "type": "scattergl"
           }
          ],
          "scattermapbox": [
           {
            "marker": {
             "colorbar": {
              "outlinewidth": 0,
              "ticks": ""
             }
            },
            "type": "scattermapbox"
           }
          ],
          "scatterpolar": [
           {
            "marker": {
             "colorbar": {
              "outlinewidth": 0,
              "ticks": ""
             }
            },
            "type": "scatterpolar"
           }
          ],
          "scatterpolargl": [
           {
            "marker": {
             "colorbar": {
              "outlinewidth": 0,
              "ticks": ""
             }
            },
            "type": "scatterpolargl"
           }
          ],
          "scatterternary": [
           {
            "marker": {
             "colorbar": {
              "outlinewidth": 0,
              "ticks": ""
             }
            },
            "type": "scatterternary"
           }
          ],
          "surface": [
           {
            "colorbar": {
             "outlinewidth": 0,
             "ticks": ""
            },
            "colorscale": [
             [
              0,
              "#0d0887"
             ],
             [
              0.1111111111111111,
              "#46039f"
             ],
             [
              0.2222222222222222,
              "#7201a8"
             ],
             [
              0.3333333333333333,
              "#9c179e"
             ],
             [
              0.4444444444444444,
              "#bd3786"
             ],
             [
              0.5555555555555556,
              "#d8576b"
             ],
             [
              0.6666666666666666,
              "#ed7953"
             ],
             [
              0.7777777777777778,
              "#fb9f3a"
             ],
             [
              0.8888888888888888,
              "#fdca26"
             ],
             [
              1,
              "#f0f921"
             ]
            ],
            "type": "surface"
           }
          ],
          "table": [
           {
            "cells": {
             "fill": {
              "color": "#EBF0F8"
             },
             "line": {
              "color": "white"
             }
            },
            "header": {
             "fill": {
              "color": "#C8D4E3"
             },
             "line": {
              "color": "white"
             }
            },
            "type": "table"
           }
          ]
         },
         "layout": {
          "annotationdefaults": {
           "arrowcolor": "#2a3f5f",
           "arrowhead": 0,
           "arrowwidth": 1
          },
          "autotypenumbers": "strict",
          "coloraxis": {
           "colorbar": {
            "outlinewidth": 0,
            "ticks": ""
           }
          },
          "colorscale": {
           "diverging": [
            [
             0,
             "#8e0152"
            ],
            [
             0.1,
             "#c51b7d"
            ],
            [
             0.2,
             "#de77ae"
            ],
            [
             0.3,
             "#f1b6da"
            ],
            [
             0.4,
             "#fde0ef"
            ],
            [
             0.5,
             "#f7f7f7"
            ],
            [
             0.6,
             "#e6f5d0"
            ],
            [
             0.7,
             "#b8e186"
            ],
            [
             0.8,
             "#7fbc41"
            ],
            [
             0.9,
             "#4d9221"
            ],
            [
             1,
             "#276419"
            ]
           ],
           "sequential": [
            [
             0,
             "#0d0887"
            ],
            [
             0.1111111111111111,
             "#46039f"
            ],
            [
             0.2222222222222222,
             "#7201a8"
            ],
            [
             0.3333333333333333,
             "#9c179e"
            ],
            [
             0.4444444444444444,
             "#bd3786"
            ],
            [
             0.5555555555555556,
             "#d8576b"
            ],
            [
             0.6666666666666666,
             "#ed7953"
            ],
            [
             0.7777777777777778,
             "#fb9f3a"
            ],
            [
             0.8888888888888888,
             "#fdca26"
            ],
            [
             1,
             "#f0f921"
            ]
           ],
           "sequentialminus": [
            [
             0,
             "#0d0887"
            ],
            [
             0.1111111111111111,
             "#46039f"
            ],
            [
             0.2222222222222222,
             "#7201a8"
            ],
            [
             0.3333333333333333,
             "#9c179e"
            ],
            [
             0.4444444444444444,
             "#bd3786"
            ],
            [
             0.5555555555555556,
             "#d8576b"
            ],
            [
             0.6666666666666666,
             "#ed7953"
            ],
            [
             0.7777777777777778,
             "#fb9f3a"
            ],
            [
             0.8888888888888888,
             "#fdca26"
            ],
            [
             1,
             "#f0f921"
            ]
           ]
          },
          "colorway": [
           "#636efa",
           "#EF553B",
           "#00cc96",
           "#ab63fa",
           "#FFA15A",
           "#19d3f3",
           "#FF6692",
           "#B6E880",
           "#FF97FF",
           "#FECB52"
          ],
          "font": {
           "color": "#2a3f5f"
          },
          "geo": {
           "bgcolor": "white",
           "lakecolor": "white",
           "landcolor": "#E5ECF6",
           "showlakes": true,
           "showland": true,
           "subunitcolor": "white"
          },
          "hoverlabel": {
           "align": "left"
          },
          "hovermode": "closest",
          "mapbox": {
           "style": "light"
          },
          "paper_bgcolor": "white",
          "plot_bgcolor": "#E5ECF6",
          "polar": {
           "angularaxis": {
            "gridcolor": "white",
            "linecolor": "white",
            "ticks": ""
           },
           "bgcolor": "#E5ECF6",
           "radialaxis": {
            "gridcolor": "white",
            "linecolor": "white",
            "ticks": ""
           }
          },
          "scene": {
           "xaxis": {
            "backgroundcolor": "#E5ECF6",
            "gridcolor": "white",
            "gridwidth": 2,
            "linecolor": "white",
            "showbackground": true,
            "ticks": "",
            "zerolinecolor": "white"
           },
           "yaxis": {
            "backgroundcolor": "#E5ECF6",
            "gridcolor": "white",
            "gridwidth": 2,
            "linecolor": "white",
            "showbackground": true,
            "ticks": "",
            "zerolinecolor": "white"
           },
           "zaxis": {
            "backgroundcolor": "#E5ECF6",
            "gridcolor": "white",
            "gridwidth": 2,
            "linecolor": "white",
            "showbackground": true,
            "ticks": "",
            "zerolinecolor": "white"
           }
          },
          "shapedefaults": {
           "line": {
            "color": "#2a3f5f"
           }
          },
          "ternary": {
           "aaxis": {
            "gridcolor": "white",
            "linecolor": "white",
            "ticks": ""
           },
           "baxis": {
            "gridcolor": "white",
            "linecolor": "white",
            "ticks": ""
           },
           "bgcolor": "#E5ECF6",
           "caxis": {
            "gridcolor": "white",
            "linecolor": "white",
            "ticks": ""
           }
          },
          "title": {
           "x": 0.05
          },
          "xaxis": {
           "automargin": true,
           "gridcolor": "white",
           "linecolor": "white",
           "ticks": "",
           "title": {
            "standoff": 15
           },
           "zerolinecolor": "white",
           "zerolinewidth": 2
          },
          "yaxis": {
           "automargin": true,
           "gridcolor": "white",
           "linecolor": "white",
           "ticks": "",
           "title": {
            "standoff": 15
           },
           "zerolinecolor": "white",
           "zerolinewidth": 2
          }
         }
        },
        "yaxis": {
         "visible": false
        }
       }
      }
     },
     "metadata": {},
     "output_type": "display_data"
    }
   ],
   "source": [
    "# 수소충전소 \n",
    "# 평균 수익: -110_000_000\n",
    "HVCS_income_pro, HVCS_income_pro_negative = cal_norm(-110_000_000,\n",
    "                                                     100_000_000,\n",
    "                                                     -300_000_000,\n",
    "                                                     160_000_000,\n",
    "                                                     HVCS_income_standard,\n",
    "                                                     False)"
   ]
  },
  {
   "cell_type": "markdown",
   "metadata": {},
   "source": [
    "## 상위 요소 - 기술적 요소"
   ]
  },
  {
   "cell_type": "markdown",
   "metadata": {},
   "source": [
    "### 전기차 충전기 용량"
   ]
  },
  {
   "cell_type": "code",
   "execution_count": 79,
   "metadata": {},
   "outputs": [
    {
     "data": {
      "text/html": [
       "<div>\n",
       "<style scoped>\n",
       "    .dataframe tbody tr th:only-of-type {\n",
       "        vertical-align: middle;\n",
       "    }\n",
       "\n",
       "    .dataframe tbody tr th {\n",
       "        vertical-align: top;\n",
       "    }\n",
       "\n",
       "    .dataframe thead tr th {\n",
       "        text-align: left;\n",
       "    }\n",
       "\n",
       "    .dataframe thead tr:last-of-type th {\n",
       "        text-align: right;\n",
       "    }\n",
       "</style>\n",
       "<table border=\"1\" class=\"dataframe\">\n",
       "  <thead>\n",
       "    <tr>\n",
       "      <th></th>\n",
       "      <th colspan=\"8\" halign=\"left\">충전기ID</th>\n",
       "      <th colspan=\"8\" halign=\"left\">비고</th>\n",
       "    </tr>\n",
       "    <tr>\n",
       "      <th></th>\n",
       "      <th>count</th>\n",
       "      <th>mean</th>\n",
       "      <th>std</th>\n",
       "      <th>min</th>\n",
       "      <th>25%</th>\n",
       "      <th>50%</th>\n",
       "      <th>75%</th>\n",
       "      <th>max</th>\n",
       "      <th>count</th>\n",
       "      <th>mean</th>\n",
       "      <th>std</th>\n",
       "      <th>min</th>\n",
       "      <th>25%</th>\n",
       "      <th>50%</th>\n",
       "      <th>75%</th>\n",
       "      <th>max</th>\n",
       "    </tr>\n",
       "    <tr>\n",
       "      <th>충전용량</th>\n",
       "      <th></th>\n",
       "      <th></th>\n",
       "      <th></th>\n",
       "      <th></th>\n",
       "      <th></th>\n",
       "      <th></th>\n",
       "      <th></th>\n",
       "      <th></th>\n",
       "      <th></th>\n",
       "      <th></th>\n",
       "      <th></th>\n",
       "      <th></th>\n",
       "      <th></th>\n",
       "      <th></th>\n",
       "      <th></th>\n",
       "      <th></th>\n",
       "    </tr>\n",
       "  </thead>\n",
       "  <tbody>\n",
       "    <tr>\n",
       "      <th>100kW단독</th>\n",
       "      <td>308.0</td>\n",
       "      <td>2.860390</td>\n",
       "      <td>10.316016</td>\n",
       "      <td>1.0</td>\n",
       "      <td>1.0</td>\n",
       "      <td>1.0</td>\n",
       "      <td>2.0</td>\n",
       "      <td>91.0</td>\n",
       "      <td>0.0</td>\n",
       "      <td>NaN</td>\n",
       "      <td>NaN</td>\n",
       "      <td>NaN</td>\n",
       "      <td>NaN</td>\n",
       "      <td>NaN</td>\n",
       "      <td>NaN</td>\n",
       "      <td>NaN</td>\n",
       "    </tr>\n",
       "    <tr>\n",
       "      <th>100kW멀티</th>\n",
       "      <td>35.0</td>\n",
       "      <td>10.971429</td>\n",
       "      <td>23.319376</td>\n",
       "      <td>1.0</td>\n",
       "      <td>1.0</td>\n",
       "      <td>1.0</td>\n",
       "      <td>11.0</td>\n",
       "      <td>91.0</td>\n",
       "      <td>0.0</td>\n",
       "      <td>NaN</td>\n",
       "      <td>NaN</td>\n",
       "      <td>NaN</td>\n",
       "      <td>NaN</td>\n",
       "      <td>NaN</td>\n",
       "      <td>NaN</td>\n",
       "      <td>NaN</td>\n",
       "    </tr>\n",
       "    <tr>\n",
       "      <th>200kW단독</th>\n",
       "      <td>6.0</td>\n",
       "      <td>1.500000</td>\n",
       "      <td>0.547723</td>\n",
       "      <td>1.0</td>\n",
       "      <td>1.0</td>\n",
       "      <td>1.5</td>\n",
       "      <td>2.0</td>\n",
       "      <td>2.0</td>\n",
       "      <td>0.0</td>\n",
       "      <td>NaN</td>\n",
       "      <td>NaN</td>\n",
       "      <td>NaN</td>\n",
       "      <td>NaN</td>\n",
       "      <td>NaN</td>\n",
       "      <td>NaN</td>\n",
       "      <td>NaN</td>\n",
       "    </tr>\n",
       "    <tr>\n",
       "      <th>200kW멀티</th>\n",
       "      <td>27.0</td>\n",
       "      <td>17.333333</td>\n",
       "      <td>6.120583</td>\n",
       "      <td>1.0</td>\n",
       "      <td>12.0</td>\n",
       "      <td>21.0</td>\n",
       "      <td>22.0</td>\n",
       "      <td>24.0</td>\n",
       "      <td>0.0</td>\n",
       "      <td>NaN</td>\n",
       "      <td>NaN</td>\n",
       "      <td>NaN</td>\n",
       "      <td>NaN</td>\n",
       "      <td>NaN</td>\n",
       "      <td>NaN</td>\n",
       "      <td>NaN</td>\n",
       "    </tr>\n",
       "    <tr>\n",
       "      <th>50kW단독</th>\n",
       "      <td>121.0</td>\n",
       "      <td>1.991736</td>\n",
       "      <td>2.006223</td>\n",
       "      <td>1.0</td>\n",
       "      <td>1.0</td>\n",
       "      <td>1.0</td>\n",
       "      <td>2.0</td>\n",
       "      <td>11.0</td>\n",
       "      <td>0.0</td>\n",
       "      <td>NaN</td>\n",
       "      <td>NaN</td>\n",
       "      <td>NaN</td>\n",
       "      <td>NaN</td>\n",
       "      <td>NaN</td>\n",
       "      <td>NaN</td>\n",
       "      <td>NaN</td>\n",
       "    </tr>\n",
       "  </tbody>\n",
       "</table>\n",
       "</div>"
      ],
      "text/plain": [
       "         충전기ID                                                       비고       \\\n",
       "         count       mean        std  min   25%   50%   75%   max count mean   \n",
       "충전용량                                                                           \n",
       "100kW단독  308.0   2.860390  10.316016  1.0   1.0   1.0   2.0  91.0   0.0  NaN   \n",
       "100kW멀티   35.0  10.971429  23.319376  1.0   1.0   1.0  11.0  91.0   0.0  NaN   \n",
       "200kW단독    6.0   1.500000   0.547723  1.0   1.0   1.5   2.0   2.0   0.0  NaN   \n",
       "200kW멀티   27.0  17.333333   6.120583  1.0  12.0  21.0  22.0  24.0   0.0  NaN   \n",
       "50kW단독   121.0   1.991736   2.006223  1.0   1.0   1.0   2.0  11.0   0.0  NaN   \n",
       "\n",
       "                                 \n",
       "        std min 25% 50% 75% max  \n",
       "충전용량                             \n",
       "100kW단독 NaN NaN NaN NaN NaN NaN  \n",
       "100kW멀티 NaN NaN NaN NaN NaN NaN  \n",
       "200kW단독 NaN NaN NaN NaN NaN NaN  \n",
       "200kW멀티 NaN NaN NaN NaN NaN NaN  \n",
       "50kW단독  NaN NaN NaN NaN NaN NaN  "
      ]
     },
     "execution_count": 79,
     "metadata": {},
     "output_type": "execute_result"
    }
   ],
   "source": [
    "charge_capacity = df_EVCS_fast.groupby('충전용량')\n",
    "charge_capacity.describe()"
   ]
  },
  {
   "cell_type": "code",
   "execution_count": 99,
   "metadata": {},
   "outputs": [],
   "source": [
    "capacity_50only_pro = df_EVCS_fast[df_EVCS_fast['충전용량']=='50kW단독']['운영기관'].count() / df_EVCS_fast['충전용량'].shape[0]\n",
    "capacity_100only_pro = df_EVCS_fast[df_EVCS_fast['충전용량']=='100kW단독']['운영기관'].count() / df_EVCS_fast['충전용량'].shape[0]\n",
    "capacity_100multi_pro = df_EVCS_fast[df_EVCS_fast['충전용량']=='100kW멀티']['운영기관'].count() / df_EVCS_fast['충전용량'].shape[0]\n",
    "capacity_200only_pro = df_EVCS_fast[df_EVCS_fast['충전용량']=='200kW단독']['운영기관'].count() / df_EVCS_fast['충전용량'].shape[0]\n",
    "capacity_200multi_pro = df_EVCS_fast[df_EVCS_fast['충전용량']=='200kW멀티']['운영기관'].count() / df_EVCS_fast['충전용량'].shape[0]"
   ]
  },
  {
   "cell_type": "markdown",
   "metadata": {},
   "source": [
    "### 수소차 충전소 공급방식"
   ]
  },
  {
   "cell_type": "code",
   "execution_count": 82,
   "metadata": {},
   "outputs": [
    {
     "data": {
      "text/html": [
       "<div>\n",
       "<style scoped>\n",
       "    .dataframe tbody tr th:only-of-type {\n",
       "        vertical-align: middle;\n",
       "    }\n",
       "\n",
       "    .dataframe tbody tr th {\n",
       "        vertical-align: top;\n",
       "    }\n",
       "\n",
       "    .dataframe thead th {\n",
       "        text-align: right;\n",
       "    }\n",
       "</style>\n",
       "<table border=\"1\" class=\"dataframe\">\n",
       "  <thead>\n",
       "    <tr style=\"text-align: right;\">\n",
       "      <th></th>\n",
       "      <th>충전소</th>\n",
       "      <th>충전기</th>\n",
       "      <th>시</th>\n",
       "      <th>구</th>\n",
       "      <th>주소</th>\n",
       "      <th>위도</th>\n",
       "      <th>경도</th>\n",
       "      <th>하루평균충전횟수</th>\n",
       "      <th>최대 충전 수소차수</th>\n",
       "      <th>공급방식</th>\n",
       "      <th>충전소 설치방식</th>\n",
       "      <th>압축기용량</th>\n",
       "      <th>충전기용량</th>\n",
       "      <th>충전압력</th>\n",
       "      <th>운영시간</th>\n",
       "      <th>평균가동률</th>\n",
       "      <th>충전가격</th>\n",
       "      <th>연간기대수익</th>\n",
       "    </tr>\n",
       "  </thead>\n",
       "  <tbody>\n",
       "    <tr>\n",
       "      <th>0</th>\n",
       "      <td>서부산NK수소충전소</td>\n",
       "      <td>1</td>\n",
       "      <td>부산광역시</td>\n",
       "      <td>강서구</td>\n",
       "      <td>부산광역시 강서구 가락대로 347</td>\n",
       "      <td>35.113171</td>\n",
       "      <td>128.843291</td>\n",
       "      <td>14</td>\n",
       "      <td>67</td>\n",
       "      <td>튜브트레일러</td>\n",
       "      <td>단독</td>\n",
       "      <td>302.63</td>\n",
       "      <td>33.4</td>\n",
       "      <td>700</td>\n",
       "      <td>10</td>\n",
       "      <td>35.0</td>\n",
       "      <td>8800</td>\n",
       "      <td>-26229062.4</td>\n",
       "    </tr>\n",
       "    <tr>\n",
       "      <th>1</th>\n",
       "      <td>H부산수소충전소</td>\n",
       "      <td>3</td>\n",
       "      <td>부산광역시</td>\n",
       "      <td>사상구</td>\n",
       "      <td>부산광역시 사상구 학감대로 167</td>\n",
       "      <td>35.145864</td>\n",
       "      <td>128.987651</td>\n",
       "      <td>60</td>\n",
       "      <td>70</td>\n",
       "      <td>천연가스개질</td>\n",
       "      <td>복합</td>\n",
       "      <td>308.00</td>\n",
       "      <td>25.0</td>\n",
       "      <td>700</td>\n",
       "      <td>12</td>\n",
       "      <td>41.6</td>\n",
       "      <td>8800</td>\n",
       "      <td>50235520.0</td>\n",
       "    </tr>\n",
       "    <tr>\n",
       "      <th>2</th>\n",
       "      <td>하이넷부산정관수소충</td>\n",
       "      <td>1</td>\n",
       "      <td>부산광역시</td>\n",
       "      <td>기장군</td>\n",
       "      <td>부산광역시 기장군 정관읍 신정관로 187</td>\n",
       "      <td>35.328714</td>\n",
       "      <td>129.201710</td>\n",
       "      <td>16</td>\n",
       "      <td>60</td>\n",
       "      <td>천연가스개질</td>\n",
       "      <td>복합</td>\n",
       "      <td>NaN</td>\n",
       "      <td>25.0</td>\n",
       "      <td>700</td>\n",
       "      <td>12</td>\n",
       "      <td>33.3</td>\n",
       "      <td>8800</td>\n",
       "      <td>-19967385.6</td>\n",
       "    </tr>\n",
       "  </tbody>\n",
       "</table>\n",
       "</div>"
      ],
      "text/plain": [
       "          충전소  충전기      시    구                       주소         위도  \\\n",
       "0  서부산NK수소충전소    1  부산광역시  강서구      부산광역시 강서구 가락대로 347   35.113171   \n",
       "1    H부산수소충전소    3  부산광역시  사상구      부산광역시 사상구 학감대로 167   35.145864   \n",
       "2  하이넷부산정관수소충    1  부산광역시  기장군  부산광역시 기장군 정관읍 신정관로 187   35.328714   \n",
       "\n",
       "           경도  하루평균충전횟수  최대 충전 수소차수    공급방식 충전소 설치방식   압축기용량  충전기용량  충전압력  \\\n",
       "0  128.843291        14          67  튜브트레일러       단독  302.63   33.4   700   \n",
       "1  128.987651        60          70  천연가스개질       복합  308.00   25.0   700   \n",
       "2  129.201710        16          60  천연가스개질       복합     NaN   25.0   700   \n",
       "\n",
       "   운영시간  평균가동률  충전가격      연간기대수익  \n",
       "0    10   35.0  8800 -26229062.4  \n",
       "1    12   41.6  8800  50235520.0  \n",
       "2    12   33.3  8800 -19967385.6  "
      ]
     },
     "execution_count": 82,
     "metadata": {},
     "output_type": "execute_result"
    }
   ],
   "source": [
    "df_HVCS"
   ]
  },
  {
   "cell_type": "code",
   "execution_count": 101,
   "metadata": {},
   "outputs": [],
   "source": [
    "HVCS_type_tube_pro = df_HVCS[df_HVCS['공급방식']=='튜브트레일러']['충전소'].count() / df_HVCS['충전소'].shape[0]\n",
    "HVCS_type_reformation_pro = df_HVCS[df_HVCS['공급방식']=='천연가스개질']['충전소'].count() / df_HVCS['충전소'].shape[0]"
   ]
  },
  {
   "cell_type": "markdown",
   "metadata": {},
   "source": [
    "### 최대 충전 가능한 수소차 수 "
   ]
  },
  {
   "cell_type": "markdown",
   "metadata": {},
   "source": [
    "수소차 1대 충전시 15분 가량 소요\n",
    "\n",
    "시간당 충전 가능 차량 수 : 60 / 15 = 4\n",
    "\n",
    "충전소 평균 운영시간 11.3h\n",
    "\n",
    "하루 충전가능 수 : 4 * 11.3 = 45.3"
   ]
  },
  {
   "cell_type": "code",
   "execution_count": 133,
   "metadata": {},
   "outputs": [
    {
     "data": {
      "application/vnd.plotly.v1+json": {
       "config": {
        "plotlyServerURL": "https://plot.ly"
       },
       "data": [
        {
         "fill": "tozeroy",
         "line": {
          "color": "rgb(239,85,59)"
         },
         "name": "부적합",
         "type": "scatter",
         "x": [
          45.140260908879135,
          45.141874435052074,
          45.14348796122501,
          45.14510148739795,
          45.14671501357089,
          45.14832853974382,
          45.14994206591676,
          45.1515555920897,
          45.15316911826264,
          45.15478264443558,
          45.15639617060852,
          45.158009696781455,
          45.159623222954394,
          45.161236749127326,
          45.162850275300265,
          45.164463801473204,
          45.16607732764614,
          45.16769085381908,
          45.16930437999202,
          45.17091790616496,
          45.1725314323379,
          45.17414495851083,
          45.17575848468377,
          45.17737201085671,
          45.17898553702965,
          45.180599063202585,
          45.182212589375524,
          45.18382611554846,
          45.1854396417214,
          45.187053167894334,
          45.18866669406727,
          45.19028022024021,
          45.19189374641315,
          45.19350727258609,
          45.19512079875903,
          45.19673432493197,
          45.198347851104906,
          45.199961377277845,
          45.201574903450776,
          45.203188429623715,
          45.204801955796654,
          45.20641548196959,
          45.20802900814253,
          45.20964253431547,
          45.21125606048841,
          45.21286958666135,
          45.21448311283428,
          45.21609663900722,
          45.21771016518016,
          45.2193236913531,
          45.220937217526036,
          45.222550743698974,
          45.22416426987191,
          45.22577779604485,
          45.227391322217784,
          45.22900484839072,
          45.23061837456366,
          45.2322319007366,
          45.23384542690954,
          45.23545895308248,
          45.23707247925542,
          45.238686005428356,
          45.24029953160129,
          45.24191305777423,
          45.243526583947165,
          45.245140110120104,
          45.24675363629304,
          45.24836716246598,
          45.24998068863892,
          45.25159421481186,
          45.2532077409848,
          45.25482126715773,
          45.25643479333067,
          45.25804831950361,
          45.25966184567655,
          45.261275371849486,
          45.262888898022425,
          45.26450242419536,
          45.2661159503683,
          45.267729476541234,
          45.26934300271417,
          45.27095652888711,
          45.27257005506005,
          45.27418358123299,
          45.27579710740593,
          45.27741063357887,
          45.279024159751806,
          45.28063768592474,
          45.28225121209768,
          45.283864738270616,
          45.285478264443555,
          45.28709179061649,
          45.28870531678943,
          45.29031884296237,
          45.29193236913531,
          45.29354589530824,
          45.29515942148118,
          45.29677294765412,
          45.29838647382706,
          45.3
         ],
         "y": [
          0.000026079621994047615,
          0.00002611244213469769,
          0.000026145300993279357,
          0.000026178198612012473,
          0.000026211135033158327,
          0.000026244110299019882,
          0.000026277124451942196,
          0.000026310177534311617,
          0.000026343269588556396,
          0.000026376400657146555,
          0.000026409570782593977,
          0.000026442780007452425,
          0.00002647602837431759,
          0.000026509315925826962,
          0.000026542642704660326,
          0.000026576008753539205,
          0.000026609414115227263,
          0.00002664285883253023,
          0.000026676342948296013,
          0.00002670986650541456,
          0.000026743429546818136,
          0.000026777032115481066,
          0.000026810674254420338,
          0.000026844356006694904,
          0.000026878077415406018,
          0.000026911838523697486,
          0.00002694563937475544,
          0.00002697948001180848,
          0.000027013360478127773,
          0.000027047280817026652,
          0.000027081241071861655,
          0.00002711524128603136,
          0.000027149281502977182,
          0.000027183361766183196,
          0.000027217482119176095,
          0.000027251642605525385,
          0.000027285843268843365,
          0.000027320084152785095,
          0.000027354365301048345,
          0.000027388686757374302,
          0.000027423048565546436,
          0.000027457450769391508,
          0.000027491893412779167,
          0.000027526376539622223,
          0.000027560900193876317,
          0.000027595464419540428,
          0.000027630069260656385,
          0.00002766471476130971,
          0.000027699400965628698,
          0.000027734127917785047,
          0.000027768895661993583,
          0.000027803704242512702,
          0.000027838553703643997,
          0.000027873444089732563,
          0.00002790837544516661,
          0.000027943347814378478,
          0.000027978361241843407,
          0.00002801341577208045,
          0.00002804851144965222,
          0.000028083648319164774,
          0.000028118826425268094,
          0.00002815404581265568,
          0.000028189306526064646,
          0.000028224608610276382,
          0.000028259952110115594,
          0.00002829533707045089,
          0.000028330763536194927,
          0.000028366231552304124,
          0.000028401741163779016,
          0.000028437292415663937,
          0.000028472885353047332,
          0.00002850852002106165,
          0.000028544196464883783,
          0.000028579914729734316,
          0.000028615674860878253,
          0.000028651476903624695,
          0.000028687320903327018,
          0.000028723206905382966,
          0.000028759134955234613,
          0.000028795105098368056,
          0.000028831117380314445,
          0.00002886717184664887,
          0.000028903268542991003,
          0.000028939407515005084,
          0.00002897558880839991,
          0.000029011812468928748,
          0.00002904807854238961,
          0.000029084387074625016,
          0.000029120738111522585,
          0.000029157131699014306,
          0.000029193567883076968,
          0.000029230046709732273,
          0.00002926656822504679,
          0.000029303132475131902,
          0.00002933973950614405,
          0.000029376389364284255,
          0.000029413082095799245,
          0.000029449817746980193,
          0.00002948659636416357,
          0.00002952341799373098
         ]
        },
        {
         "fill": "tozeroy",
         "line": {
          "color": "rgb(100,110,250)"
         },
         "name": "적합",
         "type": "scatter",
         "x": [
          45.3,
          45.70499802341758,
          46.109996046835164,
          46.51499407025275,
          46.919992093670324,
          47.32499011708791,
          47.72998814050549,
          48.134986163923074,
          48.53998418734066,
          48.94498221075824,
          49.34998023417582,
          49.7549782575934,
          50.159976281010984,
          50.56497430442857,
          50.96997232784615,
          51.374970351263734,
          51.77996837468132,
          52.184966398098894,
          52.58996442151648,
          52.99496244493406,
          53.399960468351644,
          53.80495849176923,
          54.20995651518681,
          54.614954538604394,
          55.01995256202197,
          55.424950585439554,
          55.82994860885714,
          56.23494663227472,
          56.639944655692304,
          57.04494267910989,
          57.44994070252747,
          57.85493872594505,
          58.25993674936263,
          58.664934772780214,
          59.0699327961978,
          59.47493081961538,
          59.879928843032964,
          60.28492686645055,
          60.689924889868124,
          61.09492291328571,
          61.49992093670329,
          61.904918960120874,
          62.30991698353846,
          62.71491500695603,
          63.119913030373624,
          63.5249110537912,
          63.929909077208784,
          64.33490710062637,
          64.73990512404396,
          65.14490314746153,
          65.54990117087911,
          65.9548991942967,
          66.35989721771428,
          66.76489524113185,
          67.16989326454944,
          67.57489128796703,
          67.97988931138461,
          68.38488733480219,
          68.78988535821978,
          69.19488338163735,
          69.59988140505493,
          70.00487942847252,
          70.40987745189011,
          70.81487547530769,
          71.21987349872526,
          71.62487152214285,
          72.02986954556043,
          72.434867568978,
          72.8398655923956,
          73.24486361581319,
          73.64986163923076,
          74.05485966264834,
          74.45985768606593,
          74.8648557094835,
          75.26985373290108,
          75.67485175631867,
          76.07984977973625,
          76.48484780315384,
          76.88984582657142,
          77.29484384998901,
          77.69984187340658,
          78.10483989682416,
          78.50983792024175,
          78.91483594365934,
          79.31983396707692,
          79.7248319904945,
          80.12983001391208,
          80.53482803732966,
          80.93982606074724,
          81.34482408416483,
          81.74982210758242,
          82.15482013099998,
          82.55981815441757,
          82.96481617783516,
          83.36981420125274,
          83.77481222467031,
          84.1798102480879,
          84.5848082715055,
          84.98980629492306,
          85.39480431834065
         ],
         "y": [
          0.00002952341799373098,
          0.000040257730956793104,
          0.00005455403085327451,
          0.00007346818160713758,
          0.00009832560578355738,
          0.00013077624544846793,
          0.00017285661047190416,
          0.00022705863083622785,
          0.00029640459417609857,
          0.0003845269125094718,
          0.0004957508243075057,
          0.0006351774086702609,
          0.0008087634856775545,
          0.0010233941299385163,
          0.0012869426736176106,
          0.0016083122733662983,
          0.0019974524265240533,
          0.002465343319059122,
          0.0030239406508243295,
          0.0036860736946633956,
          0.004465289882903612,
          0.005375640245508763,
          0.006431401598268405,
          0.00764673352054679,
          0.009035270860529248,
          0.010609655711921191,
          0.012381016425595635,
          0.014358405112404514,
          0.01654820907418111,
          0.01895355544445836,
          0.021573731774424273,
          0.024403648092751057,
          0.02743336783072111,
          0.03064773568778045,
          0.03402612981035936,
          0.03754236342427416,
          0.041164757235533166,
          0.04485639852951796,
          0.048575596093398114,
          0.05227653210783551,
          0.05591010334942253,
          0.05942493484944033,
          0.06276854006588813,
          0.06588859317704725,
          0.06873427182827545,
          0.07125762305355911,
          0.07341490156892903,
          0.07516782850688628,
          0.07648472010432553,
          0.07734143989158754,
          0.07772213441591287,
          0.07761972116987564,
          0.0770361077442912,
          0.07598213273150468,
          0.07447723093688531,
          0.07254883734622461,
          0.07023155538663663,
          0.06756612470458717,
          0.06459823145706176,
          0.0613772095876339,
          0.05795468450486839,
          0.054383210923467325,
          0.050714954456258225,
          0.047000462092715724,
          0.043287560327679914,
          0.03962041186772363,
          0.03603875305716538,
          0.03257732496790243,
          0.02926550200927477,
          0.02612711341072839,
          0.023180445411320437,
          0.02043840576238346,
          0.017908827414272625,
          0.015594885108810422,
          0.013495597027154216,
          0.011606383549020147,
          0.009919656390265716,
          0.008425413674536902,
          0.0071118196009763756,
          0.005965751021733061,
          0.004973297174795647,
          0.0041202027864724764,
          0.003392248554983678,
          0.00277556648554088,
          0.0022568905472357056,
          0.0018237455881628545,
          0.0014645793453695285,
          0.0011688437257051294,
          0.0009270323480623137,
          0.0007306816850878598,
          0.0005723430962267635,
          0.00044553268445985886,
          0.0003446653179239813,
          0.00026497841232538295,
          0.00020245024033441902,
          0.00015371667923855999,
          0.00011598947559052337,
          0.00008697833104427971,
          0.00006481842130511325,
          0.000048004364260650184
         ]
        }
       ],
       "layout": {
        "annotations": [
         {
          "bordercolor": "rgb(239,85,59)",
          "borderwidth": 2,
          "font": {
           "color": "rgb(239,85,59)",
           "size": 15
          },
          "showarrow": false,
          "text": "0.0",
          "x": 45.3,
          "xshift": -40,
          "y": 0.00002952341799373098,
          "yshift": -100
         },
         {
          "bordercolor": "rgb(100,110,250)",
          "borderwidth": 2,
          "font": {
           "color": "rgb(100,110,250)",
           "size": 15
          },
          "showarrow": false,
          "text": "1.0",
          "x": 45.3,
          "xshift": 40,
          "y": 0.00002952341799373098,
          "yshift": -100
         }
        ],
        "template": {
         "data": {
          "bar": [
           {
            "error_x": {
             "color": "#2a3f5f"
            },
            "error_y": {
             "color": "#2a3f5f"
            },
            "marker": {
             "line": {
              "color": "#E5ECF6",
              "width": 0.5
             },
             "pattern": {
              "fillmode": "overlay",
              "size": 10,
              "solidity": 0.2
             }
            },
            "type": "bar"
           }
          ],
          "barpolar": [
           {
            "marker": {
             "line": {
              "color": "#E5ECF6",
              "width": 0.5
             },
             "pattern": {
              "fillmode": "overlay",
              "size": 10,
              "solidity": 0.2
             }
            },
            "type": "barpolar"
           }
          ],
          "carpet": [
           {
            "aaxis": {
             "endlinecolor": "#2a3f5f",
             "gridcolor": "white",
             "linecolor": "white",
             "minorgridcolor": "white",
             "startlinecolor": "#2a3f5f"
            },
            "baxis": {
             "endlinecolor": "#2a3f5f",
             "gridcolor": "white",
             "linecolor": "white",
             "minorgridcolor": "white",
             "startlinecolor": "#2a3f5f"
            },
            "type": "carpet"
           }
          ],
          "choropleth": [
           {
            "colorbar": {
             "outlinewidth": 0,
             "ticks": ""
            },
            "type": "choropleth"
           }
          ],
          "contour": [
           {
            "colorbar": {
             "outlinewidth": 0,
             "ticks": ""
            },
            "colorscale": [
             [
              0,
              "#0d0887"
             ],
             [
              0.1111111111111111,
              "#46039f"
             ],
             [
              0.2222222222222222,
              "#7201a8"
             ],
             [
              0.3333333333333333,
              "#9c179e"
             ],
             [
              0.4444444444444444,
              "#bd3786"
             ],
             [
              0.5555555555555556,
              "#d8576b"
             ],
             [
              0.6666666666666666,
              "#ed7953"
             ],
             [
              0.7777777777777778,
              "#fb9f3a"
             ],
             [
              0.8888888888888888,
              "#fdca26"
             ],
             [
              1,
              "#f0f921"
             ]
            ],
            "type": "contour"
           }
          ],
          "contourcarpet": [
           {
            "colorbar": {
             "outlinewidth": 0,
             "ticks": ""
            },
            "type": "contourcarpet"
           }
          ],
          "heatmap": [
           {
            "colorbar": {
             "outlinewidth": 0,
             "ticks": ""
            },
            "colorscale": [
             [
              0,
              "#0d0887"
             ],
             [
              0.1111111111111111,
              "#46039f"
             ],
             [
              0.2222222222222222,
              "#7201a8"
             ],
             [
              0.3333333333333333,
              "#9c179e"
             ],
             [
              0.4444444444444444,
              "#bd3786"
             ],
             [
              0.5555555555555556,
              "#d8576b"
             ],
             [
              0.6666666666666666,
              "#ed7953"
             ],
             [
              0.7777777777777778,
              "#fb9f3a"
             ],
             [
              0.8888888888888888,
              "#fdca26"
             ],
             [
              1,
              "#f0f921"
             ]
            ],
            "type": "heatmap"
           }
          ],
          "heatmapgl": [
           {
            "colorbar": {
             "outlinewidth": 0,
             "ticks": ""
            },
            "colorscale": [
             [
              0,
              "#0d0887"
             ],
             [
              0.1111111111111111,
              "#46039f"
             ],
             [
              0.2222222222222222,
              "#7201a8"
             ],
             [
              0.3333333333333333,
              "#9c179e"
             ],
             [
              0.4444444444444444,
              "#bd3786"
             ],
             [
              0.5555555555555556,
              "#d8576b"
             ],
             [
              0.6666666666666666,
              "#ed7953"
             ],
             [
              0.7777777777777778,
              "#fb9f3a"
             ],
             [
              0.8888888888888888,
              "#fdca26"
             ],
             [
              1,
              "#f0f921"
             ]
            ],
            "type": "heatmapgl"
           }
          ],
          "histogram": [
           {
            "marker": {
             "pattern": {
              "fillmode": "overlay",
              "size": 10,
              "solidity": 0.2
             }
            },
            "type": "histogram"
           }
          ],
          "histogram2d": [
           {
            "colorbar": {
             "outlinewidth": 0,
             "ticks": ""
            },
            "colorscale": [
             [
              0,
              "#0d0887"
             ],
             [
              0.1111111111111111,
              "#46039f"
             ],
             [
              0.2222222222222222,
              "#7201a8"
             ],
             [
              0.3333333333333333,
              "#9c179e"
             ],
             [
              0.4444444444444444,
              "#bd3786"
             ],
             [
              0.5555555555555556,
              "#d8576b"
             ],
             [
              0.6666666666666666,
              "#ed7953"
             ],
             [
              0.7777777777777778,
              "#fb9f3a"
             ],
             [
              0.8888888888888888,
              "#fdca26"
             ],
             [
              1,
              "#f0f921"
             ]
            ],
            "type": "histogram2d"
           }
          ],
          "histogram2dcontour": [
           {
            "colorbar": {
             "outlinewidth": 0,
             "ticks": ""
            },
            "colorscale": [
             [
              0,
              "#0d0887"
             ],
             [
              0.1111111111111111,
              "#46039f"
             ],
             [
              0.2222222222222222,
              "#7201a8"
             ],
             [
              0.3333333333333333,
              "#9c179e"
             ],
             [
              0.4444444444444444,
              "#bd3786"
             ],
             [
              0.5555555555555556,
              "#d8576b"
             ],
             [
              0.6666666666666666,
              "#ed7953"
             ],
             [
              0.7777777777777778,
              "#fb9f3a"
             ],
             [
              0.8888888888888888,
              "#fdca26"
             ],
             [
              1,
              "#f0f921"
             ]
            ],
            "type": "histogram2dcontour"
           }
          ],
          "mesh3d": [
           {
            "colorbar": {
             "outlinewidth": 0,
             "ticks": ""
            },
            "type": "mesh3d"
           }
          ],
          "parcoords": [
           {
            "line": {
             "colorbar": {
              "outlinewidth": 0,
              "ticks": ""
             }
            },
            "type": "parcoords"
           }
          ],
          "pie": [
           {
            "automargin": true,
            "type": "pie"
           }
          ],
          "scatter": [
           {
            "marker": {
             "colorbar": {
              "outlinewidth": 0,
              "ticks": ""
             }
            },
            "type": "scatter"
           }
          ],
          "scatter3d": [
           {
            "line": {
             "colorbar": {
              "outlinewidth": 0,
              "ticks": ""
             }
            },
            "marker": {
             "colorbar": {
              "outlinewidth": 0,
              "ticks": ""
             }
            },
            "type": "scatter3d"
           }
          ],
          "scattercarpet": [
           {
            "marker": {
             "colorbar": {
              "outlinewidth": 0,
              "ticks": ""
             }
            },
            "type": "scattercarpet"
           }
          ],
          "scattergeo": [
           {
            "marker": {
             "colorbar": {
              "outlinewidth": 0,
              "ticks": ""
             }
            },
            "type": "scattergeo"
           }
          ],
          "scattergl": [
           {
            "marker": {
             "colorbar": {
              "outlinewidth": 0,
              "ticks": ""
             }
            },
            "type": "scattergl"
           }
          ],
          "scattermapbox": [
           {
            "marker": {
             "colorbar": {
              "outlinewidth": 0,
              "ticks": ""
             }
            },
            "type": "scattermapbox"
           }
          ],
          "scatterpolar": [
           {
            "marker": {
             "colorbar": {
              "outlinewidth": 0,
              "ticks": ""
             }
            },
            "type": "scatterpolar"
           }
          ],
          "scatterpolargl": [
           {
            "marker": {
             "colorbar": {
              "outlinewidth": 0,
              "ticks": ""
             }
            },
            "type": "scatterpolargl"
           }
          ],
          "scatterternary": [
           {
            "marker": {
             "colorbar": {
              "outlinewidth": 0,
              "ticks": ""
             }
            },
            "type": "scatterternary"
           }
          ],
          "surface": [
           {
            "colorbar": {
             "outlinewidth": 0,
             "ticks": ""
            },
            "colorscale": [
             [
              0,
              "#0d0887"
             ],
             [
              0.1111111111111111,
              "#46039f"
             ],
             [
              0.2222222222222222,
              "#7201a8"
             ],
             [
              0.3333333333333333,
              "#9c179e"
             ],
             [
              0.4444444444444444,
              "#bd3786"
             ],
             [
              0.5555555555555556,
              "#d8576b"
             ],
             [
              0.6666666666666666,
              "#ed7953"
             ],
             [
              0.7777777777777778,
              "#fb9f3a"
             ],
             [
              0.8888888888888888,
              "#fdca26"
             ],
             [
              1,
              "#f0f921"
             ]
            ],
            "type": "surface"
           }
          ],
          "table": [
           {
            "cells": {
             "fill": {
              "color": "#EBF0F8"
             },
             "line": {
              "color": "white"
             }
            },
            "header": {
             "fill": {
              "color": "#C8D4E3"
             },
             "line": {
              "color": "white"
             }
            },
            "type": "table"
           }
          ]
         },
         "layout": {
          "annotationdefaults": {
           "arrowcolor": "#2a3f5f",
           "arrowhead": 0,
           "arrowwidth": 1
          },
          "autotypenumbers": "strict",
          "coloraxis": {
           "colorbar": {
            "outlinewidth": 0,
            "ticks": ""
           }
          },
          "colorscale": {
           "diverging": [
            [
             0,
             "#8e0152"
            ],
            [
             0.1,
             "#c51b7d"
            ],
            [
             0.2,
             "#de77ae"
            ],
            [
             0.3,
             "#f1b6da"
            ],
            [
             0.4,
             "#fde0ef"
            ],
            [
             0.5,
             "#f7f7f7"
            ],
            [
             0.6,
             "#e6f5d0"
            ],
            [
             0.7,
             "#b8e186"
            ],
            [
             0.8,
             "#7fbc41"
            ],
            [
             0.9,
             "#4d9221"
            ],
            [
             1,
             "#276419"
            ]
           ],
           "sequential": [
            [
             0,
             "#0d0887"
            ],
            [
             0.1111111111111111,
             "#46039f"
            ],
            [
             0.2222222222222222,
             "#7201a8"
            ],
            [
             0.3333333333333333,
             "#9c179e"
            ],
            [
             0.4444444444444444,
             "#bd3786"
            ],
            [
             0.5555555555555556,
             "#d8576b"
            ],
            [
             0.6666666666666666,
             "#ed7953"
            ],
            [
             0.7777777777777778,
             "#fb9f3a"
            ],
            [
             0.8888888888888888,
             "#fdca26"
            ],
            [
             1,
             "#f0f921"
            ]
           ],
           "sequentialminus": [
            [
             0,
             "#0d0887"
            ],
            [
             0.1111111111111111,
             "#46039f"
            ],
            [
             0.2222222222222222,
             "#7201a8"
            ],
            [
             0.3333333333333333,
             "#9c179e"
            ],
            [
             0.4444444444444444,
             "#bd3786"
            ],
            [
             0.5555555555555556,
             "#d8576b"
            ],
            [
             0.6666666666666666,
             "#ed7953"
            ],
            [
             0.7777777777777778,
             "#fb9f3a"
            ],
            [
             0.8888888888888888,
             "#fdca26"
            ],
            [
             1,
             "#f0f921"
            ]
           ]
          },
          "colorway": [
           "#636efa",
           "#EF553B",
           "#00cc96",
           "#ab63fa",
           "#FFA15A",
           "#19d3f3",
           "#FF6692",
           "#B6E880",
           "#FF97FF",
           "#FECB52"
          ],
          "font": {
           "color": "#2a3f5f"
          },
          "geo": {
           "bgcolor": "white",
           "lakecolor": "white",
           "landcolor": "#E5ECF6",
           "showlakes": true,
           "showland": true,
           "subunitcolor": "white"
          },
          "hoverlabel": {
           "align": "left"
          },
          "hovermode": "closest",
          "mapbox": {
           "style": "light"
          },
          "paper_bgcolor": "white",
          "plot_bgcolor": "#E5ECF6",
          "polar": {
           "angularaxis": {
            "gridcolor": "white",
            "linecolor": "white",
            "ticks": ""
           },
           "bgcolor": "#E5ECF6",
           "radialaxis": {
            "gridcolor": "white",
            "linecolor": "white",
            "ticks": ""
           }
          },
          "scene": {
           "xaxis": {
            "backgroundcolor": "#E5ECF6",
            "gridcolor": "white",
            "gridwidth": 2,
            "linecolor": "white",
            "showbackground": true,
            "ticks": "",
            "zerolinecolor": "white"
           },
           "yaxis": {
            "backgroundcolor": "#E5ECF6",
            "gridcolor": "white",
            "gridwidth": 2,
            "linecolor": "white",
            "showbackground": true,
            "ticks": "",
            "zerolinecolor": "white"
           },
           "zaxis": {
            "backgroundcolor": "#E5ECF6",
            "gridcolor": "white",
            "gridwidth": 2,
            "linecolor": "white",
            "showbackground": true,
            "ticks": "",
            "zerolinecolor": "white"
           }
          },
          "shapedefaults": {
           "line": {
            "color": "#2a3f5f"
           }
          },
          "ternary": {
           "aaxis": {
            "gridcolor": "white",
            "linecolor": "white",
            "ticks": ""
           },
           "baxis": {
            "gridcolor": "white",
            "linecolor": "white",
            "ticks": ""
           },
           "bgcolor": "#E5ECF6",
           "caxis": {
            "gridcolor": "white",
            "linecolor": "white",
            "ticks": ""
           }
          },
          "title": {
           "x": 0.05
          },
          "xaxis": {
           "automargin": true,
           "gridcolor": "white",
           "linecolor": "white",
           "ticks": "",
           "title": {
            "standoff": 15
           },
           "zerolinecolor": "white",
           "zerolinewidth": 2
          },
          "yaxis": {
           "automargin": true,
           "gridcolor": "white",
           "linecolor": "white",
           "ticks": "",
           "title": {
            "standoff": 15
           },
           "zerolinecolor": "white",
           "zerolinewidth": 2
          }
         }
        },
        "yaxis": {
         "visible": false
        }
       }
      }
     },
     "metadata": {},
     "output_type": "display_data"
    }
   ],
   "source": [
    "maximum_charge_pro, maximum_charge_pro_negative = cal_norm(df_HVCS['최대 충전 수소차수'].mean(),\n",
    "                                                           df_HVCS['최대 충전 수소차수'].std(),\n",
    "                                                           df_HVCS['최대 충전 수소차수'].mean()-3*df_HVCS['최대 충전 수소차수'].std(),\n",
    "                                                           df_HVCS['최대 충전 수소차수'].max()+3*df_HVCS['최대 충전 수소차수'].std(),\n",
    "                                                           maximum_charge_standard,\n",
    "                                                           False)"
   ]
  },
  {
   "cell_type": "markdown",
   "metadata": {},
   "source": [
    "## 결합 확률로 상위 요인 도출하기\n"
   ]
  },
  {
   "cell_type": "code",
   "execution_count": 141,
   "metadata": {},
   "outputs": [
    {
     "name": "stdout",
     "output_type": "stream",
     "text": [
      "환경변수(전기,수소) [0.8287531282163694, 0.7911203783441816, 0.909590433996196, 0.8017202428389887, 0.8866811666335976, 0.8415688322677302]\n",
      "사회변수(전기) [0.253606432432148, 0.5848617448890694, 0.7311285465884958, 0.6947193261807018]\n",
      "사회변수(수소) [0.253606432432148, 0.5848617448890694, 1.0, 0.6947193261807018]\n",
      "경제변수(전기) [0.5739632891115474, 0.22531111975287588]\n",
      "경제변수(수소) [0.5379381229554602, 0.22531111975287588, 0.13766606094638267]\n",
      "기술변수(전기) [[0.24346076458752516, 0.6197183098591549, 0.07042253521126761, 0.012072434607645875, 0.05432595573440644]]\n",
      "기술변수(수소) [[0.3333333333333333, 0.6666666666666666], 0.9999638930949155]\n"
     ]
    }
   ],
   "source": [
    "## 상위 요인별 하위변수 \n",
    "# E는 전기차, H는 수소차\n",
    "variable_environment = [] # 환경변수는 전기/수소 동일\n",
    "variable_social_E = []\n",
    "variable_social_H = []\n",
    "variable_economic_E = []\n",
    "variable_economic_H = []\n",
    "variable_technical_E = []\n",
    "variable_technical_H = []\n",
    "\n",
    "variable_environment.append(co_pro)\n",
    "variable_environment.append(so2_pro)\n",
    "variable_environment.append(no2_pro)\n",
    "variable_environment.append(o3_pro)\n",
    "variable_environment.append(pm10_pro)\n",
    "variable_environment.append(pm25_pro)\n",
    "\n",
    "\n",
    "variable_social_E.append(density_pro)\n",
    "variable_social_E.append(floating_pro)\n",
    "variable_social_E.append(EV_per_charger_pro)\n",
    "variable_social_E.append(street_supply_pro)\n",
    "\n",
    "variable_social_H.append(density_pro)\n",
    "variable_social_H.append(floating_pro)\n",
    "variable_social_H.append(HV_per_charger_pro)\n",
    "variable_social_H.append(street_supply_pro)\n",
    "\n",
    "\n",
    "variable_economic_E.append(EVCS_cost)\n",
    "variable_economic_E.append(income_pro)\n",
    "\n",
    "variable_economic_H.append(HVCS_construction_cost_pro)\n",
    "variable_economic_H.append(income_pro)\n",
    "variable_economic_H.append(HVCS_income_pro)\n",
    "\n",
    "capacity_pro = [capacity_50only_pro, capacity_100only_pro, capacity_100multi_pro, capacity_200only_pro, capacity_200multi_pro]\n",
    "variable_technical_E.append(capacity_pro)\n",
    "\n",
    "HVCS_type_pro = [HVCS_type_tube_pro, HVCS_type_reformation_pro]\n",
    "variable_technical_H.append(HVCS_type_pro)\n",
    "variable_technical_H.append(maximum_charge_pro)\n",
    "\n",
    "\n",
    "## 상위 요인 결합 가중치\n",
    "weight_environment = [0.3,0.05,0.3,0.05,0.15,0.15]      # co, so2, no2, ozone, pm10, pm25\n",
    "weight_social_E = [0.3,0.2,0.3,0.2]                     # 인구밀도, 유동인구밀도, 충전기당 전기차 수, 도로보급률\n",
    "weight_social_H = [0.3,0.2,0.3,0.2]                     # 인구밀도, 유동인구밀도, 충전기당 수소차 수, 도로보급률\n",
    "weight_economic_E = [0.8,0.2]                           # 전기차충전기 설치비용, 평균소득\n",
    "weight_economic_H = [0.4,0.2,0.4]                       # 수소차충전기 설치비용, 평균소득, 수소차충전소 기대수익\n",
    "weight_technical_E = [[0.7,0.7,0.9,0.7,1.0]]            # 충전기용량\n",
    "weight_technical_H = [[0.35,0.7],0.3]                   # 수소연료 공급방식, 최대 충전 가능한 수소차 수\n",
    "\n",
    "\n",
    "## 최종 확률 결합 가중치\n",
    "weight_total = [0.1, 0.4, 0.3, 0.2]     # 환경적 요인, 사회적 요인, 경제적 요인, 기술적 요인\n",
    "\n",
    "\n",
    "print(\"환경변수(전기,수소)\",variable_environment)\n",
    "print(\"사회변수(전기)\",variable_social_E)\n",
    "print(\"사회변수(수소)\",variable_social_H)\n",
    "print(\"경제변수(전기)\",variable_economic_E)\n",
    "print(\"경제변수(수소)\",variable_economic_H)\n",
    "print(\"기술변수(전기)\",variable_technical_E)\n",
    "print(\"기술변수(수소)\",variable_technical_H)"
   ]
  },
  {
   "cell_type": "markdown",
   "metadata": {},
   "source": [
    "### 결합확률(Joint Probability) 함수"
   ]
  },
  {
   "cell_type": "code",
   "execution_count": 146,
   "metadata": {},
   "outputs": [
    {
     "name": "stdout",
     "output_type": "stream",
     "text": [
      "[([0.24346076458752516, 0.6197183098591549, 0.07042253521126761, 0.012072434607645875, 0.05432595573440644], [0.7, 0.7, 0.9, 0.7, 1.0])]\n"
     ]
    }
   ],
   "source": [
    "a = list(zip(variable_technical_E,weight_technical_E))\n",
    "print(a)"
   ]
  },
  {
   "cell_type": "code",
   "execution_count": 147,
   "metadata": {},
   "outputs": [],
   "source": [
    "# 결합 확률 구하기\n",
    "def joint_pro(variable, weight):\n",
    "    result = 0.0\n",
    "    variable_weight = list(zip(variable,weight))\n",
    "    for pro, wei in variable_weight:\n",
    "        # 이중리스트인 경우\n",
    "        if isinstance(pro,list) and isinstance(wei,list):\n",
    "            max = 0.0\n",
    "            value_w = -1\n",
    "            v_w = list(zip(pro,wei))\n",
    "            for p,w in v_w:\n",
    "                if max <= p:\n",
    "                    max = p\n",
    "                    value_w = w\n",
    "            result += max*value_w\n",
    "            \n",
    "        else:\n",
    "            result += pro*wei\n",
    "    return result"
   ]
  },
  {
   "cell_type": "code",
   "execution_count": 148,
   "metadata": {},
   "outputs": [
    {
     "name": "stdout",
     "output_type": "stream",
     "text": [
      "Joint Probability\n",
      "0.860383 / 0.139617\n",
      "0.551337 / 0.448663\n",
      "0.631998 / 0.368002\n",
      "0.504233 / 0.495767\n",
      "0.315304 / 0.684696\n",
      "0.433803 / 0.566197\n",
      "0.766656 / 0.233344\n"
     ]
    }
   ],
   "source": [
    "# 상위 요소 결합 확률\n",
    "environment_joint_pro = round(joint_pro(variable_environment,weight_environment),6)\n",
    "social_joint_pro_E = round(joint_pro(variable_social_E,weight_social_E),6)\n",
    "social_joint_pro_H = round(joint_pro(variable_social_H,weight_social_H),6)\n",
    "economic_joint_pro_E = round(joint_pro(variable_economic_E,weight_economic_E),6)\n",
    "economic_joint_pro_H = round(joint_pro(variable_economic_H,weight_economic_H),6)\n",
    "technical_joint_pro_E = round(joint_pro(variable_technical_E,weight_technical_E),6)\n",
    "technical_joint_pro_H = round(joint_pro(variable_technical_H,weight_technical_H),6)\n",
    "\n",
    "print(\"Joint Probability\")\n",
    "print(environment_joint_pro, \"/\", round(1-environment_joint_pro,6))\n",
    "print(social_joint_pro_E,\"/\", round(1-social_joint_pro_E,6))\n",
    "print(social_joint_pro_H,\"/\", round(1-social_joint_pro_H,6))\n",
    "print(economic_joint_pro_E,\"/\", round(1-economic_joint_pro_E,6))\n",
    "print(economic_joint_pro_H,\"/\", round(1-economic_joint_pro_H,6))\n",
    "print(technical_joint_pro_E,\"/\", round(1-technical_joint_pro_E,6))\n",
    "print(technical_joint_pro_H,\"/\", round(1-technical_joint_pro_H,6))"
   ]
  },
  {
   "cell_type": "markdown",
   "metadata": {},
   "source": [
    "### 조건부확률(Conditional Probability) 분포표\n",
    "\n",
    " - 환경적 요인\n",
    "\n",
    "    오존, 아황산가스, 이산화질소, 일산화탄소, 미세먼지(pm10, pm25)\n",
    "\n",
    " - 사회적 요인\n",
    "   \n",
    "    고정인구수, 유동인구 수, 친환경 자동차 등록대수, LPG 충전소 수, 충전소 수(전기,수소), 교통 편의성, 주변 충전소와의 거리, 고속도로 여부\n",
    "\n",
    " - 경제적 요인\n",
    "   \n",
    "    전기차 충전기 설치 비용, 수소 충전소 구축 비용, LPG 충전소 토지비용, 총 유지비용, 주차 구획 수\n",
    "\n",
    " - 기술적 요소\n",
    "\n",
    "    복합 충전소 여부(수소), 충전시간에 따른 급속/완속 충전 방식"
   ]
  },
  {
   "cell_type": "code",
   "execution_count": null,
   "metadata": {},
   "outputs": [],
   "source": [
    "# 결합 확률 구하기\n",
    "def joint_pro(variable, weight):\n",
    "    result = 0.0\n",
    "    variable_weight = list(zip(variable,weight))\n",
    "    for pro, wei in variable_weight:\n",
    "        # 이중리스트인 경우\n",
    "        if isinstance(pro,list) and isinstance(wei,list):\n",
    "            max = 0.0\n",
    "            value_w = -1\n",
    "            v_w = list(zip(pro,wei))\n",
    "            for p,w in v_w:\n",
    "                if max <= p:\n",
    "                    max = p\n",
    "                    value_w = w\n",
    "            result += max*value_w\n",
    "            \n",
    "        else:\n",
    "            result += pro*wei\n",
    "    return result"
   ]
  },
  {
   "cell_type": "code",
   "execution_count": 144,
   "metadata": {},
   "outputs": [],
   "source": [
    "# 조건부 확률 구하기\n",
    "def conditional_pro(weight):\n",
    "    '''\n",
    "    weight : 결합할 변수의 가중치 값(list)\n",
    "    '''\n",
    "    weight_len = 0\n",
    "    table_len = 1\n",
    "    for wei in weight:\n",
    "        if isinstance(wei,list):    # 상태가 3개 이상인 정성적인 변수의 가중치인 경우\n",
    "            for i in wei:\n",
    "                weight_len += 1\n",
    "            # 조건부확률테이블의 길이는 (변수 cardinality들의 곱)의 크기를 가짐\n",
    "            table_len *= weight_len\n",
    "        else:\n",
    "            table_len *= 2\n",
    "    \n",
    "    # 결과 리스트 초기화\n",
    "    result_True = [0.0]*table_len\n",
    "    \n",
    "    for i in range(len(weight)): # 3번\n",
    "        # cardinality가 2인 변수의 가중치인 경우\n",
    "        if not isinstance(wei,list):\n",
    "            for j in range(table_len): # 8번\n",
    "                # 변수의 T,F 거짓값\n",
    "                cycle = table_len/(2**(i+1))\n",
    "                if int(j/cycle)%2 == 0:\n",
    "                    result_True[j] += weight[i]\n",
    "                    # 부동소수점 오차 제거\n",
    "                    result_True[j] = round(result_True[j],6)\n",
    "\n",
    "    result_False = list(reversed(result_True))\n",
    "\n",
    "    return result_True, result_False\n"
   ]
  },
  {
   "cell_type": "code",
   "execution_count": 145,
   "metadata": {},
   "outputs": [
    {
     "ename": "TypeError",
     "evalue": "unsupported operand type(s) for +=: 'float' and 'list'",
     "output_type": "error",
     "traceback": [
      "\u001b[1;31m---------------------------------------------------------------------------\u001b[0m",
      "\u001b[1;31mTypeError\u001b[0m                                 Traceback (most recent call last)",
      "\u001b[1;32mc:\\Users\\SAMSUNG\\Desktop\\Green-Car-Charging-Station-Site-Selection\\Notebook\\GVCS\\GVCS.ipynb 셀 118\u001b[0m in \u001b[0;36m<cell line: 7>\u001b[1;34m()\u001b[0m\n\u001b[0;32m      <a href='vscode-notebook-cell:/c%3A/Users/SAMSUNG/Desktop/Green-Car-Charging-Station-Site-Selection/Notebook/GVCS/GVCS.ipynb#ch0000119?line=4'>5</a>\u001b[0m economic_E_pro, economic_E_pro_negative \u001b[39m=\u001b[39m conditional_pro(weight_economic_E)\n\u001b[0;32m      <a href='vscode-notebook-cell:/c%3A/Users/SAMSUNG/Desktop/Green-Car-Charging-Station-Site-Selection/Notebook/GVCS/GVCS.ipynb#ch0000119?line=5'>6</a>\u001b[0m economic_H_pro, economic_H_pro_negative \u001b[39m=\u001b[39m conditional_pro(weight_economic_H)\n\u001b[1;32m----> <a href='vscode-notebook-cell:/c%3A/Users/SAMSUNG/Desktop/Green-Car-Charging-Station-Site-Selection/Notebook/GVCS/GVCS.ipynb#ch0000119?line=6'>7</a>\u001b[0m technical_E_pro, technical_E_pro_negative \u001b[39m=\u001b[39m conditional_pro(weight_technical_E)\n\u001b[0;32m      <a href='vscode-notebook-cell:/c%3A/Users/SAMSUNG/Desktop/Green-Car-Charging-Station-Site-Selection/Notebook/GVCS/GVCS.ipynb#ch0000119?line=7'>8</a>\u001b[0m technical_H_pro, technical_H_pro_negative \u001b[39m=\u001b[39m conditional_pro(weight_technical_H)\n\u001b[0;32m     <a href='vscode-notebook-cell:/c%3A/Users/SAMSUNG/Desktop/Green-Car-Charging-Station-Site-Selection/Notebook/GVCS/GVCS.ipynb#ch0000119?line=9'>10</a>\u001b[0m \u001b[39mprint\u001b[39m(\u001b[39m\"\u001b[39m\u001b[39m환경적 요소 조건부 확률\u001b[39m\u001b[39m\"\u001b[39m,\u001b[39m'\u001b[39m\u001b[39m\\n\u001b[39;00m\u001b[39m'\u001b[39m, environment_pro,\u001b[39m'\u001b[39m\u001b[39m\\n\u001b[39;00m\u001b[39m'\u001b[39m,environment_pro_negative)\n",
      "\u001b[1;32mc:\\Users\\SAMSUNG\\Desktop\\Green-Car-Charging-Station-Site-Selection\\Notebook\\GVCS\\GVCS.ipynb 셀 118\u001b[0m in \u001b[0;36mconditional_pro\u001b[1;34m(weight)\u001b[0m\n\u001b[0;32m     <a href='vscode-notebook-cell:/c%3A/Users/SAMSUNG/Desktop/Green-Car-Charging-Station-Site-Selection/Notebook/GVCS/GVCS.ipynb#ch0000119?line=13'>14</a>\u001b[0m cycle \u001b[39m=\u001b[39m table_len\u001b[39m/\u001b[39m(\u001b[39m2\u001b[39m\u001b[39m*\u001b[39m\u001b[39m*\u001b[39m(i\u001b[39m+\u001b[39m\u001b[39m1\u001b[39m))\n\u001b[0;32m     <a href='vscode-notebook-cell:/c%3A/Users/SAMSUNG/Desktop/Green-Car-Charging-Station-Site-Selection/Notebook/GVCS/GVCS.ipynb#ch0000119?line=14'>15</a>\u001b[0m \u001b[39mif\u001b[39;00m \u001b[39mint\u001b[39m(j\u001b[39m/\u001b[39mcycle)\u001b[39m%\u001b[39m\u001b[39m2\u001b[39m \u001b[39m==\u001b[39m \u001b[39m0\u001b[39m:\n\u001b[1;32m---> <a href='vscode-notebook-cell:/c%3A/Users/SAMSUNG/Desktop/Green-Car-Charging-Station-Site-Selection/Notebook/GVCS/GVCS.ipynb#ch0000119?line=15'>16</a>\u001b[0m     result_True[j] \u001b[39m+\u001b[39m\u001b[39m=\u001b[39m weight[i]\n\u001b[0;32m     <a href='vscode-notebook-cell:/c%3A/Users/SAMSUNG/Desktop/Green-Car-Charging-Station-Site-Selection/Notebook/GVCS/GVCS.ipynb#ch0000119?line=16'>17</a>\u001b[0m     \u001b[39m# 부동소수점 오차 제거\u001b[39;00m\n\u001b[0;32m     <a href='vscode-notebook-cell:/c%3A/Users/SAMSUNG/Desktop/Green-Car-Charging-Station-Site-Selection/Notebook/GVCS/GVCS.ipynb#ch0000119?line=17'>18</a>\u001b[0m     result_True[j] \u001b[39m=\u001b[39m \u001b[39mround\u001b[39m(result_True[j],\u001b[39m6\u001b[39m)\n",
      "\u001b[1;31mTypeError\u001b[0m: unsupported operand type(s) for +=: 'float' and 'list'"
     ]
    }
   ],
   "source": [
    "# 상위 요인 조건부 확률\n",
    "environment_pro, environment_pro_negative = conditional_pro(weight_environment)\n",
    "social_E_pro, social_E_pro_negative = conditional_pro(weight_social_E)\n",
    "social_H_pro, social_H_pro_negative = conditional_pro(weight_social_H)\n",
    "economic_E_pro, economic_E_pro_negative = conditional_pro(weight_economic_E)\n",
    "economic_H_pro, economic_H_pro_negative = conditional_pro(weight_economic_H)\n",
    "technical_E_pro, technical_E_pro_negative = conditional_pro(weight_technical_E)\n",
    "technical_H_pro, technical_H_pro_negative = conditional_pro(weight_technical_H)\n",
    "\n",
    "print(\"환경적 요소 조건부 확률\",'\\n', environment_pro,'\\n',environment_pro_negative)\n",
    "print(\"사회적(전기) 요소 조건부 확률\",'\\n', social_E_pro,'\\n',social_E_pro_negative)\n",
    "print(\"사회적(수소) 요소 조건부 확률\",'\\n', social_H_pro,'\\n',social_H_pro_negative)\n",
    "print(\"경제적(전기) 요소 조건부 확률\",'\\n', economic_E_pro,'\\n',economic_E_pro_negative)\n",
    "print(\"경제적(수소) 요소 조건부 확률\",'\\n', economic_H_pro,'\\n',economic_H_pro_negative)\n",
    "print(\"기술적(전기) 요소 조건부 확률\",'\\n', technical_E_pro,'\\n',technical_E_pro_negative)\n",
    "print(\"기술적(수소) 요소 조건부 확률\",'\\n', technical_H_pro,'\\n',technical_H_pro_negative)"
   ]
  },
  {
   "cell_type": "markdown",
   "metadata": {},
   "source": [
    "## 베이지안 네트워크 모델 구성"
   ]
  },
  {
   "cell_type": "code",
   "execution_count": null,
   "metadata": {},
   "outputs": [],
   "source": [
    "from IPython.core.display import Image\n",
    "from networkx.drawing.nx_pydot import to_pydot\n",
    "\n",
    "from pgmpy.factors.discrete import TabularCPD\n",
    "from pgmpy.models import BayesianModel"
   ]
  },
  {
   "cell_type": "code",
   "execution_count": null,
   "metadata": {},
   "outputs": [],
   "source": [
    "from pgmpy.inference import VariableElimination\n",
    "from pgmpy.factors.discrete import DiscreteFactor\n",
    "from pgmpy.models import FactorGraph"
   ]
  },
  {
   "cell_type": "code",
   "execution_count": null,
   "metadata": {},
   "outputs": [
    {
     "name": "stderr",
     "output_type": "stream",
     "text": [
      "c:\\Users\\SAMSUNG\\anaconda3\\envs\\GVCS\\lib\\site-packages\\pgmpy\\models\\BayesianModel.py:8: FutureWarning:\n",
      "\n",
      "BayesianModel has been renamed to BayesianNetwork. Please use BayesianNetwork class, BayesianModel will be removed in future.\n",
      "\n"
     ]
    }
   ],
   "source": [
    "### 전기차 요인\n",
    "# 환경적 요인 하위 변수 확률\n",
    "o3 = [[o3_pro], [1-o3_pro]]\n",
    "so2 = [[so2_pro], [1-so2_pro]]\n",
    "no2 = [[no2_pro], [1-no2_pro]]\n",
    "co = [[co_pro], [1-co_pro]]\n",
    "pm10 = [[pm10_pro], [1-pm10_pro]]\n",
    "pm25 = [[pm25_pro], [1-pm25_pro]]\n",
    "\n",
    "# 사회적 요인 하위 변수 확률\n",
    "people = [[density_pro],[1-density_pro]]\n",
    "floating = [[floating_pro],[1-floating_pro]]\n",
    "EV = [[elec_vehicle_pro],[1-elec_vehicle_pro]]\n",
    "EVCS = [[EVCS_pro],[1-EVCS_pro]]\n",
    "intersection_E = [[intersection_E_pro],[1-intersection_E_pro]]\n",
    "distance_E = [[EV_distance_pro],[1-EV_distance_pro]]\n",
    "highway_E = [[highway_E_pro],[1-highway_E_pro]]\n",
    "\n",
    "# 경제적 요인 하위 변수 확률\n",
    "cost_E = [[EVCS_cost],[1-EVCS_cost]]\n",
    "area = [[parking_area_pro],[1-parking_area_pro]]\n",
    "\n",
    "# 기술적 요인 하위 변수 확률\n",
    "type = [[charger_pro_fast],[1-charger_pro_fast]]\n",
    "\n",
    "\n",
    "### 수소차 요인\n",
    "# 환경적 요인은 전기차와 동일 -> 환경적 모델 하나로 구성\n",
    "\n",
    "# 사회적 요인 하위 변수 확률\n",
    "people = [[busan_people_pro],[1-busan_people_pro]]\n",
    "floating = [[foottraffic_pro],[1-foottraffic_pro]]\n",
    "LPG = [[LPG_pro],[1-LPG_pro]]\n",
    "HV = [[hidro_vehicle_pro],[1-hidro_vehicle_pro]]\n",
    "HVCS = [[HVCS_pro],[1-HVCS_pro]]\n",
    "intersection_H = [[intersection_H_pro],[1-intersection_H_pro]]\n",
    "distance_H = [[HV_distance_pro],[1-HV_distance_pro]]\n",
    "highway_H = [[highway_H_pro],[1-highway_H_pro]] \n",
    "\n",
    "# 경제적 요인 하위 변수 확률\n",
    "cost_H = [[HVCS_construction_cost_pro],[1-HVCS_construction_cost_pro]]\n",
    "LPG_land = [[LPG_land_pro],[1-LPG_land_pro]]\n",
    "\n",
    "# 기술적 요인 하위 변수 확률\n",
    "complex = [[complex_pro],[1-complex_pro]]\n",
    "\n",
    "environment_model = BayesianModel([('o3', 'environment'), ('so2', 'environment'), ('no2', 'environment'), ('co', 'environment'),\n",
    "                                   ('pm10', 'environment'), ('pm25', 'environment'), ('khai', 'environment')])\n",
    "social_model_E = BayesianModel([('people','social_E'),('floating','social_E'),('EV','social_E'),('EVCS','social_E'),\n",
    "                                ('intersection_E','social_E'),('distance_E','social_E'),('highway_E','social_E')])\n",
    "social_model_H = BayesianModel([('people','social_H'),('floating','social_H'),('LPG','social_H'),('HV','social_H'),('HVCS','social_H'),\n",
    "                                ('intersection_H','social_H'),('distance_H','social_H'),('highway_H','social_H')])\n",
    "economic_model_E = BayesianModel([('cost_E','economic_E'),('area','economic_E')])\n",
    "economic_model_H = BayesianModel([('cost_H','economic_H'),('LPG_land','economic_H')])\n",
    "technical_model_E = BayesianModel([('type','technical_E')])\n",
    "technical_model_H = BayesianModel([('complex','technical_H')])\n",
    "\n",
    "\n",
    "### 환경적 요인의 하위 변수 모델링 \n",
    "P_o3 = TabularCPD('o3', 2,values=o3)\n",
    "P_so2 = TabularCPD('so2', 2,values=so2)\n",
    "P_no2 = TabularCPD('no2', 2,values=no2)\n",
    "P_co = TabularCPD('co', 2,values=co)\n",
    "P_pm10 = TabularCPD('pm10', 2,values=pm10)\n",
    "P_pm25 = TabularCPD('pm25', 2,values=pm25)\n",
    "P_khai = TabularCPD('khai',2,values=khai)\n",
    "P_environment_I_o3_so2_no2_co_pm10_pm25_khai = TabularCPD('environment',2,[environment_pro,environment_pro_negative],\n",
    "                                                            evidence=['o3','so2','no2','co','pm10','pm25','khai'],\n",
    "                                                            evidence_card=[2,2,2,2,2,2,2]\n",
    "                                                            )\n",
    "\n",
    "environment_model.add_cpds(P_o3,P_so2,P_no2,P_co,P_pm10,P_pm25,P_khai, P_environment_I_o3_so2_no2_co_pm10_pm25_khai)                                \n",
    "\n",
    "\n",
    "### 사회적 요인의 하위 변수 모델링(전기)\n",
    "P_people = TabularCPD('people',2,values=people)\n",
    "P_floating = TabularCPD('floating',2,values=floating)\n",
    "P_EV = TabularCPD('EV',2,values=EV)\n",
    "P_EVCS = TabularCPD('EVCS',2,values=EVCS)\n",
    "P_intersection_E = TabularCPD('intersection_E',2,values=intersection_E)\n",
    "P_distance_E = TabularCPD('distance_E',2,values=distance_E)\n",
    "P_highway_E = TabularCPD('highway_E',2,values=highway_E)\n",
    "P_social_E_I_people_floating_EV_EVCS_intersection_E_distance_E_highway_E = TabularCPD('social_E',2,[social_E_pro,social_E_pro_negative],\n",
    "                                                                                        evidence=['people','floating','EV','EVCS',\n",
    "                                                                                                  'intersection_E','distance_E','highway_E'],\n",
    "                                                                                        evidence_card=[2,2,2,2,2,2,2])\n",
    "\n",
    "social_model_E.add_cpds(P_people,P_floating,P_EV,P_EVCS,P_intersection_E,P_distance_E,P_highway_E,P_social_E_I_people_floating_EV_EVCS_intersection_E_distance_E_highway_E)\n",
    "\n",
    "\n",
    "### 사회적 요인의 하위 변수 모델링(수소)\n",
    "P_people = TabularCPD('people',2,values=people)\n",
    "P_floating = TabularCPD('floating',2,values=floating)\n",
    "P_LPG = TabularCPD('LPG',2,values=LPG)\n",
    "P_HV = TabularCPD('HV',2,values=HV)\n",
    "P_HVCS = TabularCPD('HVCS',2,values=HVCS)\n",
    "P_intersection_H = TabularCPD('intersection_H',2,values=intersection_H)\n",
    "P_distance_H = TabularCPD('distance_H',2,values=distance_H)\n",
    "P_highway_H = TabularCPD('highway_H',2,values=highway_H)\n",
    "P_social_H_I_people_floating_LPG_HV_HVCS_intersection_H_distance_H_highway_H = TabularCPD('social_H',2,[social_H_pro,social_H_pro_negative],\n",
    "                                                                                            evidence=['people','floating','LPG','HV',\n",
    "                                                                                                      'HVCS','intersection_H','distance_H','highway_H'],\n",
    "                                                                                            evidence_card=[2,2,2,2,2,2,2,2])\n",
    "\n",
    "social_model_H.add_cpds(P_people,P_floating,P_LPG,P_HV,P_HVCS,P_intersection_H,P_distance_H,P_highway_H,P_social_H_I_people_floating_LPG_HV_HVCS_intersection_H_distance_H_highway_H) \n",
    "\n",
    "### 경제적 요인의 하위 변수 모델링(전기)\n",
    "P_cost_E = TabularCPD('cost_E',2,values=cost_E)\n",
    "P_area = TabularCPD('area',2,values=area)\n",
    "P_economic_E_I_cost_E_area = TabularCPD('economic_E',2,[economic_E_pro,economic_E_pro_negative],\n",
    "                                        evidence=['cost_E','area'],\n",
    "                                        evidence_card=[2,2])\n",
    "\n",
    "economic_model_E.add_cpds(P_cost_E,P_area,P_economic_E_I_cost_E_area)   \n",
    "\n",
    "### 경제적 요인의 하위 변수 모델링(수소)\n",
    "P_cost_H = TabularCPD('cost_H',2,values=cost_H)\n",
    "P_LPG_land = TabularCPD('LPG_land',2,values=LPG_land)\n",
    "P_economic_H_I_cost_H_LPG_land = TabularCPD('economic_H',2,[economic_H_pro,economic_H_pro_negative],\n",
    "                                            evidence=['cost_H','LPG_land'],\n",
    "                                            evidence_card=[2,2])\n",
    "\n",
    "economic_model_H.add_cpds(P_cost_H,P_LPG_land,P_economic_H_I_cost_H_LPG_land)       \n",
    "\n",
    "### 기술적 요인의 하위 변수 모델링(전기)\n",
    "P_type = TabularCPD('type',2,values=type)\n",
    "P_technical_E_I_type = TabularCPD('technical_E',2,[technical_E_pro,technical_E_pro_negative],\n",
    "                            evidence=['type'],\n",
    "                            evidence_card=[2])\n",
    "\n",
    "technical_model_E.add_cpds(P_type,P_technical_E_I_type)\n",
    "\n",
    "\n",
    "### 기술적 요인의 하위 변수 모델링(수소)\n",
    "P_complex = TabularCPD('complex',2,values=complex)\n",
    "P_technical_H_I_complex = TabularCPD('technical_H',2,[technical_H_pro,technical_H_pro_negative],\n",
    "                                    evidence=['complex'],\n",
    "                                    evidence_card=[2])\n",
    "\n",
    "technical_model_H.add_cpds(P_complex,P_technical_H_I_complex)\n",
    "\n",
    "\n",
    "infer_environment = VariableElimination(environment_model)\n",
    "infer_social_E = VariableElimination(social_model_E)\n",
    "infer_social_H = VariableElimination(social_model_H)\n",
    "infer_economic_E = VariableElimination(economic_model_E)\n",
    "infer_economic_H = VariableElimination(economic_model_H)\n",
    "infer_technical_E = VariableElimination(technical_model_E)\n",
    "infer_technical_H = VariableElimination(technical_model_H)"
   ]
  },
  {
   "cell_type": "code",
   "execution_count": null,
   "metadata": {},
   "outputs": [
    {
     "name": "stdout",
     "output_type": "stream",
     "text": [
      "+----------------+---------+-----+---------+---------+---------+\n",
      "| o3             | o3(0)   | ... | o3(1)   | o3(1)   | o3(1)   |\n",
      "+----------------+---------+-----+---------+---------+---------+\n",
      "| so2            | so2(0)  | ... | so2(1)  | so2(1)  | so2(1)  |\n",
      "+----------------+---------+-----+---------+---------+---------+\n",
      "| no2            | no2(0)  | ... | no2(1)  | no2(1)  | no2(1)  |\n",
      "+----------------+---------+-----+---------+---------+---------+\n",
      "| co             | co(0)   | ... | co(1)   | co(1)   | co(1)   |\n",
      "+----------------+---------+-----+---------+---------+---------+\n",
      "| pm10           | pm10(0) | ... | pm10(1) | pm10(1) | pm10(1) |\n",
      "+----------------+---------+-----+---------+---------+---------+\n",
      "| pm25           | pm25(0) | ... | pm25(0) | pm25(1) | pm25(1) |\n",
      "+----------------+---------+-----+---------+---------+---------+\n",
      "| khai           | khai(0) | ... | khai(1) | khai(0) | khai(1) |\n",
      "+----------------+---------+-----+---------+---------+---------+\n",
      "| environment(0) | 1.0     | ... | 0.13    | 0.22    | 0.0     |\n",
      "+----------------+---------+-----+---------+---------+---------+\n",
      "| environment(1) | 0.0     | ... | 0.87    | 0.78    | 1.0     |\n",
      "+----------------+---------+-----+---------+---------+---------+\n",
      "+----------------+-----+-------------------+\n",
      "| people         | ... | people(1)         |\n",
      "+----------------+-----+-------------------+\n",
      "| floating       | ... | floating(1)       |\n",
      "+----------------+-----+-------------------+\n",
      "| EV             | ... | EV(1)             |\n",
      "+----------------+-----+-------------------+\n",
      "| EVCS           | ... | EVCS(1)           |\n",
      "+----------------+-----+-------------------+\n",
      "| intersection_E | ... | intersection_E(1) |\n",
      "+----------------+-----+-------------------+\n",
      "| distance_E     | ... | distance_E(1)     |\n",
      "+----------------+-----+-------------------+\n",
      "| highway_E      | ... | highway_E(1)      |\n",
      "+----------------+-----+-------------------+\n",
      "| social_E(0)    | ... | 0.0               |\n",
      "+----------------+-----+-------------------+\n",
      "| social_E(1)    | ... | 1.0               |\n",
      "+----------------+-----+-------------------+\n",
      "+---------------+-----------+-----------+-----------+-----------+\n",
      "| cost_E        | cost_E(0) | cost_E(0) | cost_E(1) | cost_E(1) |\n",
      "+---------------+-----------+-----------+-----------+-----------+\n",
      "| area          | area(0)   | area(1)   | area(0)   | area(1)   |\n",
      "+---------------+-----------+-----------+-----------+-----------+\n",
      "| economic_E(0) | 1.0       | 0.5       | 0.5       | 0.0       |\n",
      "+---------------+-----------+-----------+-----------+-----------+\n",
      "| economic_E(1) | 0.0       | 0.5       | 0.5       | 1.0       |\n",
      "+---------------+-----------+-----------+-----------+-----------+\n",
      "+----------------+---------+---------+\n",
      "| type           | type(0) | type(1) |\n",
      "+----------------+---------+---------+\n",
      "| technical_E(0) | 1.0     | 0.0     |\n",
      "+----------------+---------+---------+\n",
      "| technical_E(1) | 0.0     | 1.0     |\n",
      "+----------------+---------+---------+\n"
     ]
    }
   ],
   "source": [
    "### 전기차\n",
    "# 조건부확률 분포표\n",
    "print(P_environment_I_o3_so2_no2_co_pm10_pm25_khai)                             # 환경적 요인\n",
    "print(P_social_E_I_people_floating_EV_EVCS_intersection_E_distance_E_highway_E) # 사회적 요인\n",
    "print(P_economic_E_I_cost_E_area)                                               # 경제적 요인\n",
    "print(P_technical_E_I_type)                                                     # 기술적 요인"
   ]
  },
  {
   "cell_type": "code",
   "execution_count": null,
   "metadata": {},
   "outputs": [
    {
     "name": "stdout",
     "output_type": "stream",
     "text": [
      "+-------+-----------+\n",
      "| o3    |   phi(o3) |\n",
      "+=======+===========+\n",
      "| o3(0) |    0.8264 |\n",
      "+-------+-----------+\n",
      "| o3(1) |    0.1736 |\n",
      "+-------+-----------+\n",
      "+--------+------------+\n",
      "| so2    |   phi(so2) |\n",
      "+========+============+\n",
      "| so2(0) |     0.8167 |\n",
      "+--------+------------+\n",
      "| so2(1) |     0.1833 |\n",
      "+--------+------------+\n",
      "+--------+------------+\n",
      "| no2    |   phi(no2) |\n",
      "+========+============+\n",
      "| no2(0) |     0.9223 |\n",
      "+--------+------------+\n",
      "| no2(1) |     0.0777 |\n",
      "+--------+------------+\n",
      "+-------+-----------+\n",
      "| co    |   phi(co) |\n",
      "+=======+===========+\n",
      "| co(0) |    0.8508 |\n",
      "+-------+-----------+\n",
      "| co(1) |    0.1492 |\n",
      "+-------+-----------+\n",
      "+---------+-------------+\n",
      "| pm10    |   phi(pm10) |\n",
      "+=========+=============+\n",
      "| pm10(0) |      0.9023 |\n",
      "+---------+-------------+\n",
      "| pm10(1) |      0.0977 |\n",
      "+---------+-------------+\n",
      "+---------+-------------+\n",
      "| pm25    |   phi(pm25) |\n",
      "+=========+=============+\n",
      "| pm25(0) |      0.8622 |\n",
      "+---------+-------------+\n",
      "| pm25(1) |      0.1378 |\n",
      "+---------+-------------+\n",
      "+---------+-------------+\n",
      "| khai    |   phi(khai) |\n",
      "+=========+=============+\n",
      "| khai(0) |      0.8604 |\n",
      "+---------+-------------+\n",
      "| khai(1) |      0.1396 |\n",
      "+---------+-------------+\n"
     ]
    }
   ],
   "source": [
    "# 환경적요인의 상태(True:0)를 아는 경우, 각 하위 요인의 확률(True:0,False:1)\n",
    "print(infer_environment.query([\"o3\"], evidence={\"environment\":0},show_progress=False))\n",
    "print(infer_environment.query([\"so2\"], evidence={\"environment\":0},show_progress=False))\n",
    "print(infer_environment.query([\"no2\"], evidence={\"environment\":0},show_progress=False))\n",
    "print(infer_environment.query([\"co\"], evidence={\"environment\":0},show_progress=False))\n",
    "print(infer_environment.query([\"pm10\"], evidence={\"environment\":0},show_progress=False))\n",
    "print(infer_environment.query([\"pm25\"], evidence={\"environment\":0},show_progress=False))\n",
    "print(infer_environment.query([\"khai\"], evidence={\"environment\":0},show_progress=False))"
   ]
  },
  {
   "cell_type": "code",
   "execution_count": null,
   "metadata": {},
   "outputs": [
    {
     "name": "stdout",
     "output_type": "stream",
     "text": [
      "+----------------+--------------------+\n",
      "| environment    |   phi(environment) |\n",
      "+================+====================+\n",
      "| environment(0) |             0.8386 |\n",
      "+----------------+--------------------+\n",
      "| environment(1) |             0.1614 |\n",
      "+----------------+--------------------+\n",
      "+-------------+-----------------+\n",
      "| social_E    |   phi(social_E) |\n",
      "+=============+=================+\n",
      "| social_E(0) |          0.4154 |\n",
      "+-------------+-----------------+\n",
      "| social_E(1) |          0.5846 |\n",
      "+-------------+-----------------+\n",
      "+---------------+-------------------+\n",
      "| economic_E    |   phi(economic_E) |\n",
      "+===============+===================+\n",
      "| economic_E(0) |            0.4381 |\n",
      "+---------------+-------------------+\n",
      "| economic_E(1) |            0.5619 |\n",
      "+---------------+-------------------+\n",
      "+----------------+--------------------+\n",
      "| technical_E    |   phi(technical_E) |\n",
      "+================+====================+\n",
      "| technical_E(0) |             0.3800 |\n",
      "+----------------+--------------------+\n",
      "| technical_E(1) |             0.6200 |\n",
      "+----------------+--------------------+\n"
     ]
    }
   ],
   "source": [
    "### 전기차\n",
    "# 하위요인의 상태를 모르는 경우, 상위 요인의 상태(적합:0, 부적합:1)에 대한 확률\n",
    "print(infer_environment.query([\"environment\"],show_progress=False))\n",
    "print(infer_social_E.query([\"social_E\"],show_progress=False))\n",
    "print(infer_economic_E.query([\"economic_E\"],show_progress=False))\n",
    "print(infer_technical_E.query([\"technical_E\"],show_progress=False))"
   ]
  },
  {
   "cell_type": "code",
   "execution_count": null,
   "metadata": {},
   "outputs": [
    {
     "name": "stdout",
     "output_type": "stream",
     "text": [
      "+----------------+--------------------+\n",
      "| environment    |   phi(environment) |\n",
      "+================+====================+\n",
      "| environment(0) |             0.7461 |\n",
      "+----------------+--------------------+\n",
      "| environment(1) |             0.2539 |\n",
      "+----------------+--------------------+\n"
     ]
    },
    {
     "data": {
      "text/plain": [
       "0.7461023537134321"
      ]
     },
     "execution_count": 496,
     "metadata": {},
     "output_type": "execute_result"
    }
   ],
   "source": [
    "# 하위 요인(o3, no2)의 상태(o3:적합, no2:부적합)가 밝혀진 경우, 환경적 요인의 상태에 대한 확률\n",
    "result = infer_environment.query([\"environment\"], evidence={\"o3\":0, \"no2\":1}, show_progress=False)\n",
    "print(result)\n",
    "# 환경적 요인이 적합할 확률\n",
    "result.get_value(environment=0)"
   ]
  },
  {
   "cell_type": "markdown",
   "metadata": {},
   "source": [
    "## 입지에 대한 확률 업데이트"
   ]
  },
  {
   "cell_type": "markdown",
   "metadata": {},
   "source": [
    "#### 관측된 데이트에 따른 확률 업데이트(전기차)"
   ]
  },
  {
   "cell_type": "code",
   "execution_count": null,
   "metadata": {},
   "outputs": [],
   "source": [
    "def parking_update(name, infer_environment, infer_social_E, infer_economic_E, infer_technical_E):\n",
    "    parking_area = df_parking[df_parking['주차장명']==name]['주차구획수'].values[0]\n",
    "    parking_distance = df_parking[df_parking['주차장명']==name]['주변충전소 최단거리'].values[0]\n",
    "    parking_highway= df_parking[df_parking['주차장명']==name]['주변고속도로까지 최단거리'].values[0]\n",
    "    parking_intersection = df_parking[df_parking['주차장명']==name]['교차로'].values[0]\n",
    "    gu = df_parking[df_parking['주차장명']==name]['행정구'].values[0]  \n",
    "    parking_people = df_busan_people.loc[gu].values[0] \n",
    "    parking_floating = df_foottraffic.loc[gu].values[0]\n",
    "    charger_pro_fast,charger_pro_standard = charge_type(parking_people,parking_floating)\n",
    "    type = [[charger_pro_fast],[charger_pro_standard]]\n",
    "\n",
    "    ### 관측된 수치를 기준치로 적합성 판단\n",
    "    # 0:적합, 1:부적합\n",
    "    if parking_area > parking_area_standard:\n",
    "        area_state = 0 \n",
    "    else:\n",
    "        area_state = 1\n",
    "    \n",
    "    if parking_distance > EV_distance_standard:\n",
    "        distance_E_state = 0 \n",
    "    else:\n",
    "        distance_E_state = 1\n",
    "\n",
    "    if parking_highway > highway_standard_E:\n",
    "        highway_E_state = 1 \n",
    "    else:\n",
    "        highway_E_state = 0\n",
    "    \n",
    "    if parking_intersection > intersection_standard:\n",
    "        intersection_E_state = 0 \n",
    "    else:\n",
    "        intersection_E_state = 1\n",
    "    \n",
    "    if parking_people > busan_people_standard:\n",
    "        people_state = 0 \n",
    "    else:\n",
    "        people_state = 1\n",
    "        \n",
    "    if parking_floating > foottraffic_standard:\n",
    "        floating_state = 0 \n",
    "    else:\n",
    "        floating_state = 1\n",
    "\n",
    "    ### 기술적 요인의 하위 변수 업데이트(전기)\n",
    "    technical_model_E = BayesianModel([('type','technical_E')])\n",
    "\n",
    "    P_type = TabularCPD('type',2,values=type)\n",
    "    P_technical_E_I_type = TabularCPD('technical_E',2,[technical_E_pro,technical_E_pro_negative],\n",
    "                                evidence=['type'],\n",
    "                                evidence_card=[2])\n",
    "\n",
    "    technical_model_E.add_cpds(P_type,P_technical_E_I_type)\n",
    "    infer_technical_E = VariableElimination(technical_model_E)\n",
    "    \n",
    "    result_env = infer_environment.query([\"environment\"],show_progress=False)\n",
    "    result_soc = infer_social_E.query([\"social_E\"],evidence={\"distance_E\":distance_E_state,\"highway_E\":highway_E_state,\"intersection_E\":intersection_E_state,\n",
    "                                                \"people\":people_state,\"floating\":floating_state}, show_progress=False)\n",
    "    result_eco = infer_economic_E.query([\"economic_E\"],evidence={\"area\":area_state},show_progress=False)\n",
    "    result_tec = infer_technical_E.query([\"technical_E\"],show_progress=False)\n",
    "\n",
    "    pro_env = result_env.get_value(environment=0)\n",
    "    pro_soc = result_soc.get_value(social_E=0)\n",
    "    pro_eco = result_eco.get_value(economic_E=0)\n",
    "    pro_tec = result_tec.get_value(technical_E=0)\n",
    "\n",
    "    return pro_env, pro_soc, pro_eco, pro_tec"
   ]
  },
  {
   "cell_type": "code",
   "execution_count": null,
   "metadata": {},
   "outputs": [],
   "source": [
    "# parking_list = df_parking['주차장명'].tolist()\n",
    "# list_env_E = []\n",
    "# list_soc_E = []\n",
    "# list_eco_E = []\n",
    "# list_tec_E = []\n",
    "# list_total_E = []\n",
    "# for place in parking_list:\n",
    "#     pro_env_E, pro_soc_E, pro_eco_E, pro_tec_E = parking_update(place, infer_environment, infer_social_E, infer_economic_E, infer_technical_E)\n",
    "#     list_env_E.append(round(pro_env_E,6))\n",
    "#     list_soc_E.append(round(pro_soc_E,6))\n",
    "#     list_eco_E.append(round(pro_eco_E,6))\n",
    "#     list_tec_E.append(round(pro_tec_E,6))\n",
    "#     # 가중치를 통해 최종확률 도출\n",
    "#     total_pro = 0\n",
    "#     total_pro += pro_env_E * weight_total[0]\n",
    "#     total_pro += pro_soc_E * weight_total[1]\n",
    "#     total_pro += pro_eco_E * weight_total[2]\n",
    "#     total_pro += pro_tec_E * weight_total[3]\n",
    "#     list_total_E.append(round(total_pro,6))"
   ]
  },
  {
   "cell_type": "code",
   "execution_count": null,
   "metadata": {},
   "outputs": [],
   "source": [
    "# df_parking.insert(14,'기술적요인',list_tec_E)\n",
    "# df_parking.insert(14,'경제적요인',list_eco_E)\n",
    "# df_parking.insert(14,'사회적요인',list_soc_E)\n",
    "# df_parking.insert(14,'환경적요인',list_env_E)\n",
    "# df_parking.insert(18,'최종확률',list_total_E)\n",
    "# df_parking.to_csv(parking_file_path,encoding='cp949')"
   ]
  },
  {
   "cell_type": "markdown",
   "metadata": {},
   "source": [
    "#### 관측된 데이터에 대한 확률 업데이트(수소차)"
   ]
  },
  {
   "cell_type": "code",
   "execution_count": null,
   "metadata": {},
   "outputs": [],
   "source": [
    "def LPG_update(name, infer_environment, infer_social_H, infer_economic_H, infer_technical_H):\n",
    "    gu = df_LPG[df_LPG['업소명']==name]['행정구'].values[0]                              \n",
    "    LPG_people = df_busan_people.loc[gu].values[0] \n",
    "    LPG_floating = df_foottraffic.loc[gu].values[0]\n",
    "    LPG_land = df_LPG[df_LPG['업소명']==name]['토지비용'].values[0]                    \n",
    "    LPG_distance = df_LPG[df_LPG['업소명']==name]['주변충전소 최단거리'].values[0]     \n",
    "    LPG_highway = df_LPG[df_LPG['업소명']==name]['주변고속도로 최단거리'].values[0]    \n",
    "    LPG_intersection = df_LPG[df_LPG['업소명']==name]['교차로 수'].values[0]     \n",
    "    LPG_type = charge_type(LPG_people,LPG_floating)\n",
    "\n",
    "    # 기존 LPG 충전소 위경도 추출\n",
    "    LPG_lat = df_LPG['위도'].tolist()\n",
    "    LPG_lon = df_LPG['경도'].tolist()\n",
    "    location_LPG = list(zip(LPG_lat,LPG_lon))\n",
    "    location_place = (df_LPG[df_LPG['업소명']==name]['위도'].values[0], df_LPG[df_LPG['업소명']==name]['경도'].values[0]) \n",
    "    if location_place in location_LPG:\n",
    "        complex_pro = 1.0\n",
    "    else:\n",
    "        complex_pro = 0.0\n",
    "    \n",
    "    ### 관측된 수치를 기준치로 적합성 판단\n",
    "    # 0:적합, 1:부적합\n",
    "    if LPG_people > busan_people_standard:\n",
    "        people_state = 0\n",
    "    else:\n",
    "        people_state = 1\n",
    "    \n",
    "    if LPG_floating > foottraffic_standard:\n",
    "        floating_state = 0\n",
    "    else:\n",
    "        floating_state = 1\n",
    "    \n",
    "    if LPG_land > LPG_land_standard:\n",
    "        land_state = 1\n",
    "    else:\n",
    "        land_state = 0\n",
    "\n",
    "    if LPG_distance > HV_distance_standard:\n",
    "        distance_state = 0\n",
    "    else:\n",
    "        distance_state = 1\n",
    "    \n",
    "    if LPG_highway > highway_standard_H:\n",
    "        highway_state = 1\n",
    "    else:\n",
    "        highway_state = 0\n",
    "    \n",
    "    if LPG_intersection > intersection_standard:\n",
    "        intersection_state = 0\n",
    "    else:\n",
    "        intersection_state = 1\n",
    "\n",
    "    if complex_pro == 1.0:\n",
    "        complex_state = 0\n",
    "    else: \n",
    "        complex_state = 1\n",
    "    \n",
    "    result_env = infer_environment.query([\"environment\"],show_progress=False)\n",
    "    result_soc = infer_social_H.query([\"social_H\"],evidence={\"distance_H\":distance_state,\"highway_H\":highway_state,\"intersection_H\":intersection_state,\n",
    "                                                             \"people\":people_state,\"floating\":floating_state}, show_progress=False)\n",
    "    result_eco = infer_economic_H.query([\"economic_H\"],evidence={\"LPG_land\":land_state},show_progress=False)\n",
    "    result_tec = infer_technical_H.query([\"technical_H\"],evidence={\"complex\":complex_state},show_progress=False)\n",
    "\n",
    "    pro_env = result_env.get_value(environment=0)\n",
    "    pro_soc = result_soc.get_value(social_H=0)\n",
    "    pro_eco = result_eco.get_value(economic_H=0)\n",
    "    pro_tec = result_tec.get_value(technical_H=0)\n",
    "\n",
    "    return pro_env, pro_soc, pro_eco, pro_tec"
   ]
  },
  {
   "cell_type": "code",
   "execution_count": null,
   "metadata": {},
   "outputs": [],
   "source": [
    "# LPG_list = df_LPG['업소명'].tolist()\n",
    "# list_env_H = []\n",
    "# list_soc_H = []\n",
    "# list_eco_H = []\n",
    "# list_tec_H = []\n",
    "# list_total_H = []\n",
    "# for place in LPG_list:\n",
    "#     pro_env_H, pro_soc_H, pro_eco_H, pro_tec_H = LPG_update(place, infer_environment, infer_social_H, infer_economic_H, infer_technical_H)\n",
    "#     list_env_H.append(round(pro_env_H,6))\n",
    "#     list_soc_H.append(round(pro_soc_H,6))\n",
    "#     list_eco_H.append(round(pro_eco_H,6))\n",
    "#     list_tec_H.append(round(pro_tec_H,6))\n",
    "#     # 가중치를 통해 최종확률 도출\n",
    "#     total_pro = 0\n",
    "#     total_pro += pro_env_H * weight_total[0]\n",
    "#     total_pro += pro_soc_H * weight_total[1]\n",
    "#     total_pro += pro_eco_H * weight_total[2]\n",
    "#     total_pro += pro_tec_H * weight_total[3]\n",
    "#     list_total_H.append(round(total_pro,6))"
   ]
  },
  {
   "cell_type": "code",
   "execution_count": null,
   "metadata": {},
   "outputs": [],
   "source": [
    "# df_LPG.insert(13,'기술적요인',list_tec_H)\n",
    "# df_LPG.insert(13,'경제적요인',list_eco_H)\n",
    "# df_LPG.insert(13,'사회적요인',list_soc_H)\n",
    "# df_LPG.insert(13,'환경적요인',list_env_H)\n",
    "# df_LPG.insert(17,'최종확률',list_total_H)\n",
    "# df_LPG.to_csv(LPG_file_path,encoding='cp949')"
   ]
  },
  {
   "cell_type": "code",
   "execution_count": null,
   "metadata": {},
   "outputs": [
    {
     "data": {
      "text/html": [
       "<div>\n",
       "<style scoped>\n",
       "    .dataframe tbody tr th:only-of-type {\n",
       "        vertical-align: middle;\n",
       "    }\n",
       "\n",
       "    .dataframe tbody tr th {\n",
       "        vertical-align: top;\n",
       "    }\n",
       "\n",
       "    .dataframe thead th {\n",
       "        text-align: right;\n",
       "    }\n",
       "</style>\n",
       "<table border=\"1\" class=\"dataframe\">\n",
       "  <thead>\n",
       "    <tr style=\"text-align: right;\">\n",
       "      <th></th>\n",
       "      <th>운영형태</th>\n",
       "      <th>행정구</th>\n",
       "      <th>관리기관명</th>\n",
       "      <th>주차장명</th>\n",
       "      <th>주차장관리번호</th>\n",
       "      <th>소재지도로명주소</th>\n",
       "      <th>주차장구분</th>\n",
       "      <th>주차장유형</th>\n",
       "      <th>주차구획수</th>\n",
       "      <th>위도</th>\n",
       "      <th>경도</th>\n",
       "      <th>교차로</th>\n",
       "      <th>주변고속도로까지 최단거리</th>\n",
       "      <th>주변충전소 최단거리</th>\n",
       "      <th>환경적요인</th>\n",
       "      <th>사회적요인</th>\n",
       "      <th>경제적요인</th>\n",
       "      <th>기술적요인</th>\n",
       "      <th>최종확률</th>\n",
       "    </tr>\n",
       "  </thead>\n",
       "  <tbody>\n",
       "    <tr>\n",
       "      <th>0</th>\n",
       "      <td>구(군)직영</td>\n",
       "      <td>사상구</td>\n",
       "      <td>부산광역시 사상구청</td>\n",
       "      <td>감전동주변</td>\n",
       "      <td>2010000013</td>\n",
       "      <td>사상구 감전동 589-2</td>\n",
       "      <td>공영</td>\n",
       "      <td>노외</td>\n",
       "      <td>26</td>\n",
       "      <td>35.154108</td>\n",
       "      <td>128.980071</td>\n",
       "      <td>239</td>\n",
       "      <td>4346.343726</td>\n",
       "      <td>0.061228</td>\n",
       "      <td>0.838573</td>\n",
       "      <td>0.643981</td>\n",
       "      <td>0.252453</td>\n",
       "      <td>0.488554</td>\n",
       "      <td>0.532397</td>\n",
       "    </tr>\n",
       "    <tr>\n",
       "      <th>1</th>\n",
       "      <td>민간위탁</td>\n",
       "      <td>사상구</td>\n",
       "      <td>부산광역시 사상구청</td>\n",
       "      <td>엄궁초등학교지하주차장</td>\n",
       "      <td>2010000016</td>\n",
       "      <td>사상구 엄궁로191번길 23</td>\n",
       "      <td>공영</td>\n",
       "      <td>노외</td>\n",
       "      <td>93</td>\n",
       "      <td>35.128446</td>\n",
       "      <td>128.973403</td>\n",
       "      <td>85</td>\n",
       "      <td>7240.940505</td>\n",
       "      <td>0.112529</td>\n",
       "      <td>0.838573</td>\n",
       "      <td>0.493981</td>\n",
       "      <td>0.252453</td>\n",
       "      <td>0.488554</td>\n",
       "      <td>0.472397</td>\n",
       "    </tr>\n",
       "    <tr>\n",
       "      <th>2</th>\n",
       "      <td>구(군)직영</td>\n",
       "      <td>사상구</td>\n",
       "      <td>부산광역시 사상구청</td>\n",
       "      <td>일신주택주변</td>\n",
       "      <td>2011000003</td>\n",
       "      <td>사상구 주례3동 545-3</td>\n",
       "      <td>공영</td>\n",
       "      <td>노외</td>\n",
       "      <td>10</td>\n",
       "      <td>35.145207</td>\n",
       "      <td>129.000672</td>\n",
       "      <td>165</td>\n",
       "      <td>5584.115172</td>\n",
       "      <td>0.247823</td>\n",
       "      <td>0.838573</td>\n",
       "      <td>0.643981</td>\n",
       "      <td>0.252453</td>\n",
       "      <td>0.488554</td>\n",
       "      <td>0.532397</td>\n",
       "    </tr>\n",
       "    <tr>\n",
       "      <th>3</th>\n",
       "      <td>구(군)직영</td>\n",
       "      <td>사상구</td>\n",
       "      <td>부산광역시 사상구청</td>\n",
       "      <td>주례중학교주변</td>\n",
       "      <td>2012000004</td>\n",
       "      <td>사상구 주례2동 82-13</td>\n",
       "      <td>공영</td>\n",
       "      <td>노외</td>\n",
       "      <td>8</td>\n",
       "      <td>35.154384</td>\n",
       "      <td>129.011131</td>\n",
       "      <td>276</td>\n",
       "      <td>5040.598424</td>\n",
       "      <td>0.094006</td>\n",
       "      <td>0.838573</td>\n",
       "      <td>0.643981</td>\n",
       "      <td>0.252453</td>\n",
       "      <td>0.488554</td>\n",
       "      <td>0.532397</td>\n",
       "    </tr>\n",
       "    <tr>\n",
       "      <th>4</th>\n",
       "      <td>민간위탁</td>\n",
       "      <td>사상구</td>\n",
       "      <td>부산광역시 사상구청</td>\n",
       "      <td>모라1동행정복지센터주변</td>\n",
       "      <td>2007001725</td>\n",
       "      <td>사상구 백양대로 949-6</td>\n",
       "      <td>공영</td>\n",
       "      <td>노상</td>\n",
       "      <td>156</td>\n",
       "      <td>35.171044</td>\n",
       "      <td>128.988085</td>\n",
       "      <td>249</td>\n",
       "      <td>2512.034932</td>\n",
       "      <td>0.190308</td>\n",
       "      <td>0.838573</td>\n",
       "      <td>0.643981</td>\n",
       "      <td>0.752453</td>\n",
       "      <td>0.488554</td>\n",
       "      <td>0.682397</td>\n",
       "    </tr>\n",
       "    <tr>\n",
       "      <th>...</th>\n",
       "      <td>...</td>\n",
       "      <td>...</td>\n",
       "      <td>...</td>\n",
       "      <td>...</td>\n",
       "      <td>...</td>\n",
       "      <td>...</td>\n",
       "      <td>...</td>\n",
       "      <td>...</td>\n",
       "      <td>...</td>\n",
       "      <td>...</td>\n",
       "      <td>...</td>\n",
       "      <td>...</td>\n",
       "      <td>...</td>\n",
       "      <td>...</td>\n",
       "      <td>...</td>\n",
       "      <td>...</td>\n",
       "      <td>...</td>\n",
       "      <td>...</td>\n",
       "      <td>...</td>\n",
       "    </tr>\n",
       "    <tr>\n",
       "      <th>468</th>\n",
       "      <td>민간위탁</td>\n",
       "      <td>중구</td>\n",
       "      <td>부산광역시 중구청</td>\n",
       "      <td>중앙동 노외공영주차장</td>\n",
       "      <td>2009000002</td>\n",
       "      <td>중구 대청로135번길 36</td>\n",
       "      <td>공영</td>\n",
       "      <td>노외</td>\n",
       "      <td>29</td>\n",
       "      <td>35.104229</td>\n",
       "      <td>129.034810</td>\n",
       "      <td>593</td>\n",
       "      <td>10976.446670</td>\n",
       "      <td>0.143217</td>\n",
       "      <td>0.838573</td>\n",
       "      <td>0.443981</td>\n",
       "      <td>0.252453</td>\n",
       "      <td>0.393172</td>\n",
       "      <td>0.438090</td>\n",
       "    </tr>\n",
       "    <tr>\n",
       "      <th>469</th>\n",
       "      <td>민간운영</td>\n",
       "      <td>기장군</td>\n",
       "      <td>부산광역시 기장군청</td>\n",
       "      <td>1구역 2소</td>\n",
       "      <td>2008000002</td>\n",
       "      <td>기장군 기장읍 280-2</td>\n",
       "      <td>공영</td>\n",
       "      <td>노상</td>\n",
       "      <td>12</td>\n",
       "      <td>35.222141</td>\n",
       "      <td>129.206947</td>\n",
       "      <td>19</td>\n",
       "      <td>162.104257</td>\n",
       "      <td>1.603011</td>\n",
       "      <td>0.838573</td>\n",
       "      <td>0.493981</td>\n",
       "      <td>0.252453</td>\n",
       "      <td>0.327783</td>\n",
       "      <td>0.448282</td>\n",
       "    </tr>\n",
       "    <tr>\n",
       "      <th>470</th>\n",
       "      <td>민간운영</td>\n",
       "      <td>기장군</td>\n",
       "      <td>부산광역시 기장군청</td>\n",
       "      <td>1구역 3소</td>\n",
       "      <td>2008000003</td>\n",
       "      <td>기장군 기장읍 444-1</td>\n",
       "      <td>공영</td>\n",
       "      <td>노상</td>\n",
       "      <td>13</td>\n",
       "      <td>35.222141</td>\n",
       "      <td>129.206947</td>\n",
       "      <td>19</td>\n",
       "      <td>162.104257</td>\n",
       "      <td>1.603011</td>\n",
       "      <td>0.838573</td>\n",
       "      <td>0.493981</td>\n",
       "      <td>0.252453</td>\n",
       "      <td>0.327783</td>\n",
       "      <td>0.448282</td>\n",
       "    </tr>\n",
       "    <tr>\n",
       "      <th>471</th>\n",
       "      <td>민간운영</td>\n",
       "      <td>기장군</td>\n",
       "      <td>부산광역시 기장군청</td>\n",
       "      <td>3구역 1소</td>\n",
       "      <td>2008000006</td>\n",
       "      <td>기장군 기장읍 418-12</td>\n",
       "      <td>공영</td>\n",
       "      <td>노상</td>\n",
       "      <td>24</td>\n",
       "      <td>35.222141</td>\n",
       "      <td>129.206947</td>\n",
       "      <td>19</td>\n",
       "      <td>162.104257</td>\n",
       "      <td>1.603011</td>\n",
       "      <td>0.838573</td>\n",
       "      <td>0.493981</td>\n",
       "      <td>0.252453</td>\n",
       "      <td>0.327783</td>\n",
       "      <td>0.448282</td>\n",
       "    </tr>\n",
       "    <tr>\n",
       "      <th>472</th>\n",
       "      <td>시설관리공단위탁</td>\n",
       "      <td>기장군</td>\n",
       "      <td>부산광역시 기장군청</td>\n",
       "      <td>기장시장 공영주차장</td>\n",
       "      <td>2018000001</td>\n",
       "      <td>기장군 읍내로94번길 9</td>\n",
       "      <td>공영</td>\n",
       "      <td>노외</td>\n",
       "      <td>216</td>\n",
       "      <td>35.244174</td>\n",
       "      <td>129.214471</td>\n",
       "      <td>341</td>\n",
       "      <td>1051.519295</td>\n",
       "      <td>0.079494</td>\n",
       "      <td>0.838573</td>\n",
       "      <td>0.443981</td>\n",
       "      <td>0.752453</td>\n",
       "      <td>0.327783</td>\n",
       "      <td>0.578282</td>\n",
       "    </tr>\n",
       "  </tbody>\n",
       "</table>\n",
       "<p>473 rows × 19 columns</p>\n",
       "</div>"
      ],
      "text/plain": [
       "         운영형태  행정구       관리기관명          주차장명     주차장관리번호          소재지도로명주소  \\\n",
       "0      구(군)직영  사상구  부산광역시 사상구청         감전동주변  2010000013     사상구 감전동 589-2   \n",
       "1        민간위탁  사상구  부산광역시 사상구청   엄궁초등학교지하주차장  2010000016  사상구 엄궁로191번길 23    \n",
       "2      구(군)직영  사상구  부산광역시 사상구청        일신주택주변  2011000003    사상구 주례3동 545-3   \n",
       "3      구(군)직영  사상구  부산광역시 사상구청       주례중학교주변  2012000004    사상구 주례2동 82-13   \n",
       "4        민간위탁  사상구  부산광역시 사상구청  모라1동행정복지센터주변  2007001725    사상구 백양대로 949-6   \n",
       "..        ...  ...         ...           ...         ...               ...   \n",
       "468      민간위탁   중구   부산광역시 중구청   중앙동 노외공영주차장  2009000002   중구 대청로135번길 36    \n",
       "469      민간운영  기장군  부산광역시 기장군청        1구역 2소  2008000002     기장군 기장읍 280-2   \n",
       "470      민간운영  기장군  부산광역시 기장군청        1구역 3소  2008000003     기장군 기장읍 444-1   \n",
       "471      민간운영  기장군  부산광역시 기장군청        3구역 1소  2008000006    기장군 기장읍 418-12   \n",
       "472  시설관리공단위탁  기장군  부산광역시 기장군청    기장시장 공영주차장  2018000001    기장군 읍내로94번길 9    \n",
       "\n",
       "    주차장구분 주차장유형  주차구획수         위도          경도  교차로  주변고속도로까지 최단거리  주변충전소 최단거리  \\\n",
       "0      공영    노외     26  35.154108  128.980071  239    4346.343726    0.061228   \n",
       "1      공영    노외     93  35.128446  128.973403   85    7240.940505    0.112529   \n",
       "2      공영    노외     10  35.145207  129.000672  165    5584.115172    0.247823   \n",
       "3      공영    노외      8  35.154384  129.011131  276    5040.598424    0.094006   \n",
       "4      공영    노상    156  35.171044  128.988085  249    2512.034932    0.190308   \n",
       "..    ...   ...    ...        ...         ...  ...            ...         ...   \n",
       "468    공영    노외     29  35.104229  129.034810  593   10976.446670    0.143217   \n",
       "469    공영    노상     12  35.222141  129.206947   19     162.104257    1.603011   \n",
       "470    공영    노상     13  35.222141  129.206947   19     162.104257    1.603011   \n",
       "471    공영    노상     24  35.222141  129.206947   19     162.104257    1.603011   \n",
       "472    공영    노외    216  35.244174  129.214471  341    1051.519295    0.079494   \n",
       "\n",
       "        환경적요인     사회적요인     경제적요인     기술적요인      최종확률  \n",
       "0    0.838573  0.643981  0.252453  0.488554  0.532397  \n",
       "1    0.838573  0.493981  0.252453  0.488554  0.472397  \n",
       "2    0.838573  0.643981  0.252453  0.488554  0.532397  \n",
       "3    0.838573  0.643981  0.252453  0.488554  0.532397  \n",
       "4    0.838573  0.643981  0.752453  0.488554  0.682397  \n",
       "..        ...       ...       ...       ...       ...  \n",
       "468  0.838573  0.443981  0.252453  0.393172  0.438090  \n",
       "469  0.838573  0.493981  0.252453  0.327783  0.448282  \n",
       "470  0.838573  0.493981  0.252453  0.327783  0.448282  \n",
       "471  0.838573  0.493981  0.252453  0.327783  0.448282  \n",
       "472  0.838573  0.443981  0.752453  0.327783  0.578282  \n",
       "\n",
       "[473 rows x 19 columns]"
      ]
     },
     "execution_count": 503,
     "metadata": {},
     "output_type": "execute_result"
    }
   ],
   "source": [
    "df_parking"
   ]
  },
  {
   "cell_type": "code",
   "execution_count": null,
   "metadata": {},
   "outputs": [
    {
     "data": {
      "text/html": [
       "<div>\n",
       "<style scoped>\n",
       "    .dataframe tbody tr th:only-of-type {\n",
       "        vertical-align: middle;\n",
       "    }\n",
       "\n",
       "    .dataframe tbody tr th {\n",
       "        vertical-align: top;\n",
       "    }\n",
       "\n",
       "    .dataframe thead th {\n",
       "        text-align: right;\n",
       "    }\n",
       "</style>\n",
       "<table border=\"1\" class=\"dataframe\">\n",
       "  <thead>\n",
       "    <tr style=\"text-align: right;\">\n",
       "      <th></th>\n",
       "      <th>행정시</th>\n",
       "      <th>행정구</th>\n",
       "      <th>업소명</th>\n",
       "      <th>소재지</th>\n",
       "      <th>관리구분</th>\n",
       "      <th>위도</th>\n",
       "      <th>경도</th>\n",
       "      <th>면적</th>\n",
       "      <th>공시지가</th>\n",
       "      <th>토지비용</th>\n",
       "      <th>교차로 수</th>\n",
       "    </tr>\n",
       "  </thead>\n",
       "  <tbody>\n",
       "    <tr>\n",
       "      <th>0</th>\n",
       "      <td>부산</td>\n",
       "      <td>강서구</td>\n",
       "      <td>개인택시신공항충전소</td>\n",
       "      <td>부산 강서구 경전철로188번길 95</td>\n",
       "      <td>자동차충전</td>\n",
       "      <td>35.198669</td>\n",
       "      <td>128.966594</td>\n",
       "      <td>2545.0</td>\n",
       "      <td>2144000.0</td>\n",
       "      <td>5.456480e+09</td>\n",
       "      <td>52</td>\n",
       "    </tr>\n",
       "    <tr>\n",
       "      <th>1</th>\n",
       "      <td>부산</td>\n",
       "      <td>강서구</td>\n",
       "      <td>부산공항LPG충전소</td>\n",
       "      <td>부산 강서구 공항로 459</td>\n",
       "      <td>자동차충전</td>\n",
       "      <td>35.149064</td>\n",
       "      <td>128.951891</td>\n",
       "      <td>3105.0</td>\n",
       "      <td>1174000.0</td>\n",
       "      <td>3.645270e+09</td>\n",
       "      <td>16</td>\n",
       "    </tr>\n",
       "    <tr>\n",
       "      <th>2</th>\n",
       "      <td>부산</td>\n",
       "      <td>강서구</td>\n",
       "      <td>신항만에너지</td>\n",
       "      <td>부산 강서구 낙동남로 507</td>\n",
       "      <td>자동차충전</td>\n",
       "      <td>35.112947</td>\n",
       "      <td>128.875260</td>\n",
       "      <td>3105.0</td>\n",
       "      <td>1174000.0</td>\n",
       "      <td>3.645270e+09</td>\n",
       "      <td>76</td>\n",
       "    </tr>\n",
       "    <tr>\n",
       "      <th>3</th>\n",
       "      <td>부산</td>\n",
       "      <td>강서구</td>\n",
       "      <td>르노삼성자동차(주)</td>\n",
       "      <td>부산 강서구 르노삼성대로 61</td>\n",
       "      <td>자동차충전</td>\n",
       "      <td>35.095408</td>\n",
       "      <td>128.883215</td>\n",
       "      <td>1538.0</td>\n",
       "      <td>640100.0</td>\n",
       "      <td>9.844738e+08</td>\n",
       "      <td>82</td>\n",
       "    </tr>\n",
       "    <tr>\n",
       "      <th>4</th>\n",
       "      <td>부산</td>\n",
       "      <td>강서구</td>\n",
       "      <td>죽림LPG충전소</td>\n",
       "      <td>부산 강서구 호계로 102</td>\n",
       "      <td>자동차충전</td>\n",
       "      <td>35.200736</td>\n",
       "      <td>128.893462</td>\n",
       "      <td>1580.0</td>\n",
       "      <td>1017000.0</td>\n",
       "      <td>1.606860e+09</td>\n",
       "      <td>16</td>\n",
       "    </tr>\n",
       "    <tr>\n",
       "      <th>5</th>\n",
       "      <td>부산</td>\n",
       "      <td>강서구</td>\n",
       "      <td>가락충전소</td>\n",
       "      <td>부산 강서구 호계로 195</td>\n",
       "      <td>자동차충전</td>\n",
       "      <td>35.208847</td>\n",
       "      <td>128.890148</td>\n",
       "      <td>2600.0</td>\n",
       "      <td>1017000.0</td>\n",
       "      <td>2.644200e+09</td>\n",
       "      <td>20</td>\n",
       "    </tr>\n",
       "    <tr>\n",
       "      <th>6</th>\n",
       "      <td>부산</td>\n",
       "      <td>금정구</td>\n",
       "      <td>(주)해연</td>\n",
       "      <td>부산 금정구 개좌로 225-15</td>\n",
       "      <td>용기+탱크+13kg용기</td>\n",
       "      <td>35.230796</td>\n",
       "      <td>129.122388</td>\n",
       "      <td>3346.0</td>\n",
       "      <td>1370000.0</td>\n",
       "      <td>4.584020e+09</td>\n",
       "      <td>119</td>\n",
       "    </tr>\n",
       "    <tr>\n",
       "      <th>7</th>\n",
       "      <td>부산</td>\n",
       "      <td>금정구</td>\n",
       "      <td>(주)신진가스</td>\n",
       "      <td>부산 금정구 반송로 433</td>\n",
       "      <td>자동차충전</td>\n",
       "      <td>35.215006</td>\n",
       "      <td>129.111143</td>\n",
       "      <td>1646.4</td>\n",
       "      <td>2797000.0</td>\n",
       "      <td>4.604981e+09</td>\n",
       "      <td>407</td>\n",
       "    </tr>\n",
       "    <tr>\n",
       "      <th>8</th>\n",
       "      <td>부산</td>\n",
       "      <td>기장군</td>\n",
       "      <td>마라톤가스(주)청강충전소</td>\n",
       "      <td>부산 기장군 기장읍 기장대로 343 A동</td>\n",
       "      <td>자동차충전</td>\n",
       "      <td>35.225657</td>\n",
       "      <td>129.213988</td>\n",
       "      <td>2592.0</td>\n",
       "      <td>1069000.0</td>\n",
       "      <td>2.770848e+09</td>\n",
       "      <td>45</td>\n",
       "    </tr>\n",
       "    <tr>\n",
       "      <th>9</th>\n",
       "      <td>부산</td>\n",
       "      <td>기장군</td>\n",
       "      <td>한국에너지산업(주)</td>\n",
       "      <td>부산 기장군 기장읍 기장대로413번길 38</td>\n",
       "      <td>용기+자동차+탱크+13kg용기</td>\n",
       "      <td>35.235543</td>\n",
       "      <td>129.215629</td>\n",
       "      <td>2473.0</td>\n",
       "      <td>1063000.0</td>\n",
       "      <td>2.628799e+09</td>\n",
       "      <td>241</td>\n",
       "    </tr>\n",
       "    <tr>\n",
       "      <th>10</th>\n",
       "      <td>부산</td>\n",
       "      <td>기장군</td>\n",
       "      <td>선암가스충전소</td>\n",
       "      <td>부산 기장군 장안읍 기장대로 1451</td>\n",
       "      <td>자동차+13kg용기</td>\n",
       "      <td>35.321585</td>\n",
       "      <td>129.241320</td>\n",
       "      <td>2717.0</td>\n",
       "      <td>1060000.0</td>\n",
       "      <td>2.880020e+09</td>\n",
       "      <td>75</td>\n",
       "    </tr>\n",
       "    <tr>\n",
       "      <th>11</th>\n",
       "      <td>부산</td>\n",
       "      <td>기장군</td>\n",
       "      <td>KH에너지(주)직영장안충전소(부산방향)</td>\n",
       "      <td>부산 기장군 장안읍 동해고속도로 25</td>\n",
       "      <td>자동차충전</td>\n",
       "      <td>35.377525</td>\n",
       "      <td>129.246402</td>\n",
       "      <td>15637.0</td>\n",
       "      <td>263500.0</td>\n",
       "      <td>4.120350e+09</td>\n",
       "      <td>20</td>\n",
       "    </tr>\n",
       "    <tr>\n",
       "      <th>12</th>\n",
       "      <td>부산</td>\n",
       "      <td>기장군</td>\n",
       "      <td>KH에너지(주)직영장안충전소(울산방향)</td>\n",
       "      <td>부산 기장군 장안읍 동해고속도로 26</td>\n",
       "      <td>자동차충전</td>\n",
       "      <td>35.382870</td>\n",
       "      <td>129.248394</td>\n",
       "      <td>37294.0</td>\n",
       "      <td>263500.0</td>\n",
       "      <td>9.826969e+09</td>\n",
       "      <td>9</td>\n",
       "    </tr>\n",
       "    <tr>\n",
       "      <th>13</th>\n",
       "      <td>부산</td>\n",
       "      <td>기장군</td>\n",
       "      <td>정림에너지</td>\n",
       "      <td>부산 기장군 정관읍 신정관로 187</td>\n",
       "      <td>자동차충전</td>\n",
       "      <td>35.328714</td>\n",
       "      <td>129.201710</td>\n",
       "      <td>2575.0</td>\n",
       "      <td>743500.0</td>\n",
       "      <td>1.914512e+09</td>\n",
       "      <td>62</td>\n",
       "    </tr>\n",
       "    <tr>\n",
       "      <th>14</th>\n",
       "      <td>부산</td>\n",
       "      <td>기장군</td>\n",
       "      <td>광신개발(주)직영 정관가스충전소</td>\n",
       "      <td>부산 기장군 정관읍 정관로 907</td>\n",
       "      <td>자동차+13kg용기</td>\n",
       "      <td>35.324749</td>\n",
       "      <td>129.210964</td>\n",
       "      <td>1899.0</td>\n",
       "      <td>877400.0</td>\n",
       "      <td>1.666183e+09</td>\n",
       "      <td>81</td>\n",
       "    </tr>\n",
       "    <tr>\n",
       "      <th>15</th>\n",
       "      <td>부산</td>\n",
       "      <td>기장군</td>\n",
       "      <td>개인택시동부산충전소</td>\n",
       "      <td>부산 기장군 철마면 반송로 1022</td>\n",
       "      <td>자동차충전</td>\n",
       "      <td>35.235930</td>\n",
       "      <td>129.163728</td>\n",
       "      <td>2543.0</td>\n",
       "      <td>923000.0</td>\n",
       "      <td>2.347189e+09</td>\n",
       "      <td>71</td>\n",
       "    </tr>\n",
       "    <tr>\n",
       "      <th>16</th>\n",
       "      <td>부산</td>\n",
       "      <td>동구</td>\n",
       "      <td>개인택시남부LPG충전소</td>\n",
       "      <td>부산 동구 성남로 42</td>\n",
       "      <td>자동차충전</td>\n",
       "      <td>35.130627</td>\n",
       "      <td>129.054917</td>\n",
       "      <td>1518.5</td>\n",
       "      <td>1701000.0</td>\n",
       "      <td>2.582968e+09</td>\n",
       "      <td>257</td>\n",
       "    </tr>\n",
       "    <tr>\n",
       "      <th>17</th>\n",
       "      <td>부산</td>\n",
       "      <td>동구</td>\n",
       "      <td>(주)대양씨앤씨(구:녹색에너지 범일영업소)</td>\n",
       "      <td>부산 동구 성남로 74-3</td>\n",
       "      <td>용기+13kg용기</td>\n",
       "      <td>35.130891</td>\n",
       "      <td>129.057587</td>\n",
       "      <td>3169.8</td>\n",
       "      <td>1545000.0</td>\n",
       "      <td>4.897341e+09</td>\n",
       "      <td>258</td>\n",
       "    </tr>\n",
       "    <tr>\n",
       "      <th>18</th>\n",
       "      <td>부산</td>\n",
       "      <td>북구</td>\n",
       "      <td>개인택시 금곡역충전소</td>\n",
       "      <td>부산 북구 금곡대로 704</td>\n",
       "      <td>자동차충전</td>\n",
       "      <td>35.269475</td>\n",
       "      <td>129.018781</td>\n",
       "      <td>2055.0</td>\n",
       "      <td>842500.0</td>\n",
       "      <td>1.731338e+09</td>\n",
       "      <td>47</td>\n",
       "    </tr>\n",
       "    <tr>\n",
       "      <th>19</th>\n",
       "      <td>부산</td>\n",
       "      <td>북구</td>\n",
       "      <td>(주)삼보</td>\n",
       "      <td>부산 북구 만덕대로 327-0</td>\n",
       "      <td>자동차충전</td>\n",
       "      <td>35.213643</td>\n",
       "      <td>129.040635</td>\n",
       "      <td>3837.0</td>\n",
       "      <td>1608000.0</td>\n",
       "      <td>6.169896e+09</td>\n",
       "      <td>169</td>\n",
       "    </tr>\n",
       "    <tr>\n",
       "      <th>20</th>\n",
       "      <td>부산</td>\n",
       "      <td>사상구</td>\n",
       "      <td>팔성가스충전소</td>\n",
       "      <td>부산 사상구 가야대로 75</td>\n",
       "      <td>자동차+13kg용기</td>\n",
       "      <td>35.151317</td>\n",
       "      <td>128.980986</td>\n",
       "      <td>2946.6</td>\n",
       "      <td>3247000.0</td>\n",
       "      <td>9.567610e+09</td>\n",
       "      <td>241</td>\n",
       "    </tr>\n",
       "    <tr>\n",
       "      <th>21</th>\n",
       "      <td>부산</td>\n",
       "      <td>사상구</td>\n",
       "      <td>(주)성은에너지제2충전소</td>\n",
       "      <td>부산 사상구 강변대로 412</td>\n",
       "      <td>자동차충전</td>\n",
       "      <td>35.122092</td>\n",
       "      <td>128.962063</td>\n",
       "      <td>3732.4</td>\n",
       "      <td>2373000.0</td>\n",
       "      <td>8.856985e+09</td>\n",
       "      <td>50</td>\n",
       "    </tr>\n",
       "    <tr>\n",
       "      <th>22</th>\n",
       "      <td>부산</td>\n",
       "      <td>사상구</td>\n",
       "      <td>극동유화(주)감전충전소</td>\n",
       "      <td>부산 사상구 낙동대로 878</td>\n",
       "      <td>용기+자동차+탱크+13kg용기</td>\n",
       "      <td>35.138888</td>\n",
       "      <td>128.971339</td>\n",
       "      <td>2886.1</td>\n",
       "      <td>3201000.0</td>\n",
       "      <td>9.238406e+09</td>\n",
       "      <td>112</td>\n",
       "    </tr>\n",
       "    <tr>\n",
       "      <th>23</th>\n",
       "      <td>부산</td>\n",
       "      <td>사하구</td>\n",
       "      <td>광진기업(주)장림영업소</td>\n",
       "      <td>부산 사하구 다대로 309</td>\n",
       "      <td>용기+자동차+13kg용기</td>\n",
       "      <td>35.075007</td>\n",
       "      <td>128.977163</td>\n",
       "      <td>1604.0</td>\n",
       "      <td>2665000.0</td>\n",
       "      <td>4.274660e+09</td>\n",
       "      <td>54</td>\n",
       "    </tr>\n",
       "    <tr>\n",
       "      <th>24</th>\n",
       "      <td>부산</td>\n",
       "      <td>사하구</td>\n",
       "      <td>광신가스(주)을숙도대로충전소</td>\n",
       "      <td>부산 사하구 을숙도대로 530</td>\n",
       "      <td>자동차충전</td>\n",
       "      <td>35.085225</td>\n",
       "      <td>128.963646</td>\n",
       "      <td>1632.0</td>\n",
       "      <td>1095000.0</td>\n",
       "      <td>1.787040e+09</td>\n",
       "      <td>111</td>\n",
       "    </tr>\n",
       "    <tr>\n",
       "      <th>25</th>\n",
       "      <td>부산</td>\n",
       "      <td>사하구</td>\n",
       "      <td>개인택시사하엘피지충전소</td>\n",
       "      <td>부산 사하구 을숙도대로 583</td>\n",
       "      <td>자동차충전</td>\n",
       "      <td>35.085534</td>\n",
       "      <td>128.969349</td>\n",
       "      <td>1657.0</td>\n",
       "      <td>1498000.0</td>\n",
       "      <td>2.482186e+09</td>\n",
       "      <td>129</td>\n",
       "    </tr>\n",
       "    <tr>\n",
       "      <th>26</th>\n",
       "      <td>부산</td>\n",
       "      <td>연제구</td>\n",
       "      <td>부산개인택시엘피지충전소</td>\n",
       "      <td>부산 연제구 월드컵대로 399</td>\n",
       "      <td>자동차충전</td>\n",
       "      <td>35.186013</td>\n",
       "      <td>129.055974</td>\n",
       "      <td>9212.0</td>\n",
       "      <td>688600.0</td>\n",
       "      <td>6.343383e+09</td>\n",
       "      <td>146</td>\n",
       "    </tr>\n",
       "    <tr>\n",
       "      <th>27</th>\n",
       "      <td>부산</td>\n",
       "      <td>영도구</td>\n",
       "      <td>(주)태종에너지</td>\n",
       "      <td>부산 영도구 영선대로 41</td>\n",
       "      <td>자동차충전</td>\n",
       "      <td>35.084996</td>\n",
       "      <td>129.040033</td>\n",
       "      <td>1610.2</td>\n",
       "      <td>2679000.0</td>\n",
       "      <td>4.313726e+09</td>\n",
       "      <td>255</td>\n",
       "    </tr>\n",
       "    <tr>\n",
       "      <th>28</th>\n",
       "      <td>부산</td>\n",
       "      <td>영도구</td>\n",
       "      <td>부산에너지</td>\n",
       "      <td>부산 영도구 해양로 160</td>\n",
       "      <td>용기+자동차+탱크+13kg용기</td>\n",
       "      <td>35.091275</td>\n",
       "      <td>129.069484</td>\n",
       "      <td>5801.0</td>\n",
       "      <td>989400.0</td>\n",
       "      <td>5.739509e+09</td>\n",
       "      <td>67</td>\n",
       "    </tr>\n",
       "    <tr>\n",
       "      <th>29</th>\n",
       "      <td>부산</td>\n",
       "      <td>영도구</td>\n",
       "      <td>개인택시 영도LPG충전소</td>\n",
       "      <td>부산 영도구 해양로 296</td>\n",
       "      <td>자동차충전</td>\n",
       "      <td>35.082176</td>\n",
       "      <td>129.076429</td>\n",
       "      <td>1818.0</td>\n",
       "      <td>349800.0</td>\n",
       "      <td>6.359364e+08</td>\n",
       "      <td>98</td>\n",
       "    </tr>\n",
       "    <tr>\n",
       "      <th>30</th>\n",
       "      <td>부산</td>\n",
       "      <td>해운대구</td>\n",
       "      <td>이원 해운대LPG충전소</td>\n",
       "      <td>부산 해운대구 해운대로 1255</td>\n",
       "      <td>용기+자동차+탱크+13kg용기</td>\n",
       "      <td>35.196728</td>\n",
       "      <td>129.205260</td>\n",
       "      <td>3700.0</td>\n",
       "      <td>1607000.0</td>\n",
       "      <td>5.945900e+09</td>\n",
       "      <td>64</td>\n",
       "    </tr>\n",
       "  </tbody>\n",
       "</table>\n",
       "</div>"
      ],
      "text/plain": [
       "   행정시   행정구                      업소명                      소재지  \\\n",
       "0   부산   강서구               개인택시신공항충전소      부산 강서구 경전철로188번길 95   \n",
       "1   부산   강서구               부산공항LPG충전소           부산 강서구 공항로 459   \n",
       "2   부산   강서구                   신항만에너지         부산 강서구 낙동남로 507    \n",
       "3   부산   강서구               르노삼성자동차(주)         부산 강서구 르노삼성대로 61   \n",
       "4   부산   강서구                 죽림LPG충전소          부산 강서구 호계로 102    \n",
       "5   부산   강서구                    가락충전소          부산 강서구 호계로 195    \n",
       "6   부산   금정구                    (주)해연       부산 금정구 개좌로 225-15    \n",
       "7   부산   금정구                  (주)신진가스          부산 금정구 반송로 433    \n",
       "8   부산   기장군            마라톤가스(주)청강충전소   부산 기장군 기장읍 기장대로 343 A동   \n",
       "9   부산   기장군               한국에너지산업(주)  부산 기장군 기장읍 기장대로413번길 38   \n",
       "10  부산   기장군                  선암가스충전소    부산 기장군 장안읍 기장대로 1451    \n",
       "11  부산   기장군    KH에너지(주)직영장안충전소(부산방향)     부산 기장군 장안읍 동해고속도로 25   \n",
       "12  부산   기장군    KH에너지(주)직영장안충전소(울산방향)     부산 기장군 장안읍 동해고속도로 26   \n",
       "13  부산   기장군                    정림에너지     부산 기장군 정관읍 신정관로 187    \n",
       "14  부산   기장군        광신개발(주)직영 정관가스충전소       부산 기장군 정관읍 정관로 907   \n",
       "15  부산   기장군               개인택시동부산충전소      부산 기장군 철마면 반송로 1022   \n",
       "16  부산    동구             개인택시남부LPG충전소             부산 동구 성남로 42   \n",
       "17  부산    동구  (주)대양씨앤씨(구:녹색에너지 범일영업소)           부산 동구 성남로 74-3   \n",
       "18  부산    북구              개인택시 금곡역충전소           부산 북구 금곡대로 704   \n",
       "19  부산    북구                    (주)삼보         부산 북구 만덕대로 327-0   \n",
       "20  부산   사상구                  팔성가스충전소           부산 사상구 가야대로 75   \n",
       "21  부산   사상구            (주)성은에너지제2충전소          부산 사상구 강변대로 412   \n",
       "22  부산   사상구             극동유화(주)감전충전소          부산 사상구 낙동대로 878   \n",
       "23  부산   사하구             광진기업(주)장림영업소           부산 사하구 다대로 309   \n",
       "24  부산   사하구          광신가스(주)을숙도대로충전소         부산 사하구 을숙도대로 530   \n",
       "25  부산   사하구             개인택시사하엘피지충전소         부산 사하구 을숙도대로 583   \n",
       "26  부산   연제구             부산개인택시엘피지충전소         부산 연제구 월드컵대로 399   \n",
       "27  부산   영도구                 (주)태종에너지           부산 영도구 영선대로 41   \n",
       "28  부산   영도구                    부산에너지           부산 영도구 해양로 160   \n",
       "29  부산   영도구            개인택시 영도LPG충전소           부산 영도구 해양로 296   \n",
       "30  부산  해운대구             이원 해운대LPG충전소        부산 해운대구 해운대로 1255   \n",
       "\n",
       "                관리구분         위도          경도       면적       공시지가          토지비용  \\\n",
       "0              자동차충전  35.198669  128.966594   2545.0  2144000.0  5.456480e+09   \n",
       "1              자동차충전  35.149064  128.951891   3105.0  1174000.0  3.645270e+09   \n",
       "2              자동차충전  35.112947  128.875260   3105.0  1174000.0  3.645270e+09   \n",
       "3              자동차충전  35.095408  128.883215   1538.0   640100.0  9.844738e+08   \n",
       "4              자동차충전  35.200736  128.893462   1580.0  1017000.0  1.606860e+09   \n",
       "5              자동차충전  35.208847  128.890148   2600.0  1017000.0  2.644200e+09   \n",
       "6       용기+탱크+13kg용기  35.230796  129.122388   3346.0  1370000.0  4.584020e+09   \n",
       "7              자동차충전  35.215006  129.111143   1646.4  2797000.0  4.604981e+09   \n",
       "8              자동차충전  35.225657  129.213988   2592.0  1069000.0  2.770848e+09   \n",
       "9   용기+자동차+탱크+13kg용기  35.235543  129.215629   2473.0  1063000.0  2.628799e+09   \n",
       "10        자동차+13kg용기  35.321585  129.241320   2717.0  1060000.0  2.880020e+09   \n",
       "11             자동차충전  35.377525  129.246402  15637.0   263500.0  4.120350e+09   \n",
       "12             자동차충전  35.382870  129.248394  37294.0   263500.0  9.826969e+09   \n",
       "13             자동차충전  35.328714  129.201710   2575.0   743500.0  1.914512e+09   \n",
       "14        자동차+13kg용기  35.324749  129.210964   1899.0   877400.0  1.666183e+09   \n",
       "15             자동차충전  35.235930  129.163728   2543.0   923000.0  2.347189e+09   \n",
       "16             자동차충전  35.130627  129.054917   1518.5  1701000.0  2.582968e+09   \n",
       "17         용기+13kg용기  35.130891  129.057587   3169.8  1545000.0  4.897341e+09   \n",
       "18             자동차충전  35.269475  129.018781   2055.0   842500.0  1.731338e+09   \n",
       "19             자동차충전  35.213643  129.040635   3837.0  1608000.0  6.169896e+09   \n",
       "20        자동차+13kg용기  35.151317  128.980986   2946.6  3247000.0  9.567610e+09   \n",
       "21             자동차충전  35.122092  128.962063   3732.4  2373000.0  8.856985e+09   \n",
       "22  용기+자동차+탱크+13kg용기  35.138888  128.971339   2886.1  3201000.0  9.238406e+09   \n",
       "23     용기+자동차+13kg용기  35.075007  128.977163   1604.0  2665000.0  4.274660e+09   \n",
       "24             자동차충전  35.085225  128.963646   1632.0  1095000.0  1.787040e+09   \n",
       "25             자동차충전  35.085534  128.969349   1657.0  1498000.0  2.482186e+09   \n",
       "26             자동차충전  35.186013  129.055974   9212.0   688600.0  6.343383e+09   \n",
       "27             자동차충전  35.084996  129.040033   1610.2  2679000.0  4.313726e+09   \n",
       "28  용기+자동차+탱크+13kg용기  35.091275  129.069484   5801.0   989400.0  5.739509e+09   \n",
       "29             자동차충전  35.082176  129.076429   1818.0   349800.0  6.359364e+08   \n",
       "30  용기+자동차+탱크+13kg용기  35.196728  129.205260   3700.0  1607000.0  5.945900e+09   \n",
       "\n",
       "    교차로 수  \n",
       "0      52  \n",
       "1      16  \n",
       "2      76  \n",
       "3      82  \n",
       "4      16  \n",
       "5      20  \n",
       "6     119  \n",
       "7     407  \n",
       "8      45  \n",
       "9     241  \n",
       "10     75  \n",
       "11     20  \n",
       "12      9  \n",
       "13     62  \n",
       "14     81  \n",
       "15     71  \n",
       "16    257  \n",
       "17    258  \n",
       "18     47  \n",
       "19    169  \n",
       "20    241  \n",
       "21     50  \n",
       "22    112  \n",
       "23     54  \n",
       "24    111  \n",
       "25    129  \n",
       "26    146  \n",
       "27    255  \n",
       "28     67  \n",
       "29     98  \n",
       "30     64  "
      ]
     },
     "execution_count": 504,
     "metadata": {},
     "output_type": "execute_result"
    }
   ],
   "source": [
    "df_LPG"
   ]
  },
  {
   "cell_type": "code",
   "execution_count": null,
   "metadata": {},
   "outputs": [],
   "source": []
  }
 ],
 "metadata": {
  "kernelspec": {
   "display_name": "Python 3.10.4 ('GVCS')",
   "language": "python",
   "name": "python3"
  },
  "language_info": {
   "codemirror_mode": {
    "name": "ipython",
    "version": 3
   },
   "file_extension": ".py",
   "mimetype": "text/x-python",
   "name": "python",
   "nbconvert_exporter": "python",
   "pygments_lexer": "ipython3",
   "version": "3.10.4"
  },
  "vscode": {
   "interpreter": {
    "hash": "f050bb9fd34efe2ad4050694f9ad3d2282b57f28f06302e823e69ca1f91b4def"
   }
  }
 },
 "nbformat": 4,
 "nbformat_minor": 4
}
