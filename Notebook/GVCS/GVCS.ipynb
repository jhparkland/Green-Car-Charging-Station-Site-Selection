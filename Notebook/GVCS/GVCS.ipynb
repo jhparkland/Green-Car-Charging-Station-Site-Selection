{
 "cells": [
  {
   "cell_type": "markdown",
   "source": [
    "# 확률 네트워크기반 친환경 자동차 충전소(GVCS) 로케이션 인텔리전스(Location Intelligence) 대시보드"
   ],
   "metadata": {
    "collapsed": false
   }
  },
  {
   "cell_type": "markdown",
   "metadata": {
    "pycharm": {
     "name": "#%% md\n"
    }
   },
   "source": [
    "## 제안 배경\n",
    "\n",
    "**친환경 자동차 생산에만 관심이 쏠려 사용자를 고려하지 못한 설치로 인한 잉여 충전소 발생**\n",
    "\n",
    "- 민관 협력을 통해 충전 서비스 관련 사업이 꾸준히 증가함. 하지만 전국에 설치된 공공 급속충전기 총 2,896개(2021년 기준) 중 하루 1회 이하로 사용한 충전기가 1,164개로 전체의 40.1%를 차지하고 있다. 심지어 17개는 전혀 사용하지 않은 것으로 나타남.\n",
    "\n",
    "- 이와 같은 충전소마다 이용 편차가 큰 이유는 전기차 보급 목표에 따라 구역별로  충전소를 나눠 설치했기 때문이라는 지적도 있다.\n",
    "\n",
    "- 한국전기차충전협동조합은 앞으로 수요가 몰리는 거점을 중심을 중심으로 충전기 설치를 해야하 한다는 의견 주장함.\n",
    "\n",
    "- 기존의 정부 중심으로 공급자 입장에서 설치하던 충전소를 친환경 자동차 차주를 고려해 이용자 중심으로 변화 설치가 필요하다는 지적도 있다.\n",
    "\n",
    "즉, **꾸준히 증가하는 친환경 차량의 수요를 위해 저비용 고효율의 충전소 설치를 목표 한다.** 충전소 설치 사업자의 기대 수익 최적화를 위해 사용자 입장을 고려한 체계적이며 최적의 입지 선정 결과를 제시함."
   ]
  },
  {
   "cell_type": "markdown",
   "metadata": {},
   "source": [
    "## 사용 데이터\n",
    "\n",
    "1. 충전소 위치 및 현황 정보\n",
    "2. 급속충전기 보급 현황\n",
    "3. LPG충전소 현황\n",
    "4. 오존 월별 대기오염도\n",
    "5. 아황산가스 월별 대기오염도\n",
    "6. 이산화질소 월별 대기오염도\n",
    "7. 미세먼지 월별 대기오염도\n",
    "8. 행정구역별 인구수\n",
    "9. 항만 현황\n",
    "10. 지역별 전기차 등록대 수"
   ]
  },
  {
   "cell_type": "code",
   "execution_count": 89,
   "metadata": {
    "collapsed": false,
    "jupyter": {
     "outputs_hidden": false
    },
    "pycharm": {
     "name": "#%%\n"
    }
   },
   "outputs": [],
   "source": [
    "import numpy as np\n",
    "import pandas as pd\n",
    "import matplotlib.pyplot as plt\n",
    "import seaborn as sns\n",
    "import osmnx as ox\n",
    "import networkx as nx\n",
    "import folium as fl\n",
    "import plotly.express as px\n",
    "import plotly.graph_objects as go\n",
    "import plotly.graph_objs as gos"
   ]
  },
  {
   "cell_type": "markdown",
   "metadata": {},
   "source": [
    "## 상위 요소 - 환경적 요인\n",
    "\n",
    "- 오존\n",
    "- 미세먼지\n",
    "- 아황산가스\n",
    "- 이산화질소\n",
    "- 일산화탄소\n",
    "- 주차장 정보"
   ]
  },
  {
   "cell_type": "markdown",
   "metadata": {},
   "source": [
    "### 오존 월별 대기오염도 데이터 불러오기"
   ]
  },
  {
   "cell_type": "code",
   "execution_count": 2,
   "metadata": {
    "collapsed": false,
    "jupyter": {
     "outputs_hidden": false
    },
    "pycharm": {
     "name": "#%%\n"
    }
   },
   "outputs": [
    {
     "data": {
      "text/plain": "       구분(1)    구분(2) 2021.02 2021.03 2021.04 2021.05 2021.06  2021.07\n0         총계       소계   0.029   0.034   0.043   0.042   0.044    0.033\n1      서울특별시    서울특별시   0.022   0.025   0.037   0.036   0.041    0.038\n2      부산광역시    부산광역시   0.031   0.036   0.043   0.041   0.041    0.028\n3      대구광역시    대구광역시   0.025   0.032   0.043   0.040   0.045    0.031\n4      인천광역시    인천광역시   0.026   0.030   0.040   0.042   0.044    0.041\n..       ...      ...     ...     ...     ...     ...     ...      ...\n167     경상남도       합천   0.034   0.039   0.050   0.048   0.051  0.038**\n168     경상남도      도평균   0.032   0.037   0.044   0.044   0.045    0.031\n169  제주특별자치도  제주특별자치도   0.044   0.046   0.051   0.051   0.045    0.029\n170  제주특별자치도      서귀포   0.045   0.048   0.054   0.052   0.046    0.028\n171  제주특별자치도      도평균   0.044   0.047   0.053   0.051   0.045    0.029\n\n[172 rows x 8 columns]",
      "text/html": "<div>\n<style scoped>\n    .dataframe tbody tr th:only-of-type {\n        vertical-align: middle;\n    }\n\n    .dataframe tbody tr th {\n        vertical-align: top;\n    }\n\n    .dataframe thead th {\n        text-align: right;\n    }\n</style>\n<table border=\"1\" class=\"dataframe\">\n  <thead>\n    <tr style=\"text-align: right;\">\n      <th></th>\n      <th>구분(1)</th>\n      <th>구분(2)</th>\n      <th>2021.02</th>\n      <th>2021.03</th>\n      <th>2021.04</th>\n      <th>2021.05</th>\n      <th>2021.06</th>\n      <th>2021.07</th>\n    </tr>\n  </thead>\n  <tbody>\n    <tr>\n      <th>0</th>\n      <td>총계</td>\n      <td>소계</td>\n      <td>0.029</td>\n      <td>0.034</td>\n      <td>0.043</td>\n      <td>0.042</td>\n      <td>0.044</td>\n      <td>0.033</td>\n    </tr>\n    <tr>\n      <th>1</th>\n      <td>서울특별시</td>\n      <td>서울특별시</td>\n      <td>0.022</td>\n      <td>0.025</td>\n      <td>0.037</td>\n      <td>0.036</td>\n      <td>0.041</td>\n      <td>0.038</td>\n    </tr>\n    <tr>\n      <th>2</th>\n      <td>부산광역시</td>\n      <td>부산광역시</td>\n      <td>0.031</td>\n      <td>0.036</td>\n      <td>0.043</td>\n      <td>0.041</td>\n      <td>0.041</td>\n      <td>0.028</td>\n    </tr>\n    <tr>\n      <th>3</th>\n      <td>대구광역시</td>\n      <td>대구광역시</td>\n      <td>0.025</td>\n      <td>0.032</td>\n      <td>0.043</td>\n      <td>0.040</td>\n      <td>0.045</td>\n      <td>0.031</td>\n    </tr>\n    <tr>\n      <th>4</th>\n      <td>인천광역시</td>\n      <td>인천광역시</td>\n      <td>0.026</td>\n      <td>0.030</td>\n      <td>0.040</td>\n      <td>0.042</td>\n      <td>0.044</td>\n      <td>0.041</td>\n    </tr>\n    <tr>\n      <th>...</th>\n      <td>...</td>\n      <td>...</td>\n      <td>...</td>\n      <td>...</td>\n      <td>...</td>\n      <td>...</td>\n      <td>...</td>\n      <td>...</td>\n    </tr>\n    <tr>\n      <th>167</th>\n      <td>경상남도</td>\n      <td>합천</td>\n      <td>0.034</td>\n      <td>0.039</td>\n      <td>0.050</td>\n      <td>0.048</td>\n      <td>0.051</td>\n      <td>0.038**</td>\n    </tr>\n    <tr>\n      <th>168</th>\n      <td>경상남도</td>\n      <td>도평균</td>\n      <td>0.032</td>\n      <td>0.037</td>\n      <td>0.044</td>\n      <td>0.044</td>\n      <td>0.045</td>\n      <td>0.031</td>\n    </tr>\n    <tr>\n      <th>169</th>\n      <td>제주특별자치도</td>\n      <td>제주특별자치도</td>\n      <td>0.044</td>\n      <td>0.046</td>\n      <td>0.051</td>\n      <td>0.051</td>\n      <td>0.045</td>\n      <td>0.029</td>\n    </tr>\n    <tr>\n      <th>170</th>\n      <td>제주특별자치도</td>\n      <td>서귀포</td>\n      <td>0.045</td>\n      <td>0.048</td>\n      <td>0.054</td>\n      <td>0.052</td>\n      <td>0.046</td>\n      <td>0.028</td>\n    </tr>\n    <tr>\n      <th>171</th>\n      <td>제주특별자치도</td>\n      <td>도평균</td>\n      <td>0.044</td>\n      <td>0.047</td>\n      <td>0.053</td>\n      <td>0.051</td>\n      <td>0.045</td>\n      <td>0.029</td>\n    </tr>\n  </tbody>\n</table>\n<p>172 rows × 8 columns</p>\n</div>"
     },
     "execution_count": 2,
     "metadata": {},
     "output_type": "execute_result"
    }
   ],
   "source": [
    "ozone_file_path = \"C:\\\\Users\\\\pwjdg\\\\바탕 화면\\\\Green-Car-Charging-Station-Site-Selection\\\\Data\\\\오존_월별_도시별_대기오염도.csv\"\n",
    "df_ozone = pd.read_csv(ozone_file_path, encoding='cp949')\n",
    "df_ozone"
   ]
  },
  {
   "cell_type": "code",
   "execution_count": 3,
   "outputs": [
    {
     "name": "stdout",
     "output_type": "stream",
     "text": [
      "<class 'pandas.core.frame.DataFrame'>\n",
      "RangeIndex: 172 entries, 0 to 171\n",
      "Data columns (total 8 columns):\n",
      " #   Column   Non-Null Count  Dtype \n",
      "---  ------   --------------  ----- \n",
      " 0   구분(1)    172 non-null    object\n",
      " 1   구분(2)    172 non-null    object\n",
      " 2   2021.02  172 non-null    object\n",
      " 3   2021.03  172 non-null    object\n",
      " 4   2021.04  172 non-null    object\n",
      " 5   2021.05  172 non-null    object\n",
      " 6   2021.06  172 non-null    object\n",
      " 7   2021.07  172 non-null    object\n",
      "dtypes: object(8)\n",
      "memory usage: 10.9+ KB\n"
     ]
    }
   ],
   "source": [
    "df_ozone.info()"
   ],
   "metadata": {
    "collapsed": false,
    "pycharm": {
     "name": "#%%\n"
    }
   }
  },
  {
   "cell_type": "code",
   "execution_count": 4,
   "outputs": [],
   "source": [
    "ozen_col =  df_ozone.iloc[:,2:-1].columns.tolist()"
   ],
   "metadata": {
    "collapsed": false,
    "pycharm": {
     "name": "#%%\n"
    }
   }
  },
  {
   "cell_type": "code",
   "execution_count": 5,
   "outputs": [],
   "source": [
    "df_ozone.drop(columns=ozen_col, inplace=True)"
   ],
   "metadata": {
    "collapsed": false,
    "pycharm": {
     "name": "#%%\n"
    }
   }
  },
  {
   "cell_type": "code",
   "execution_count": 6,
   "outputs": [],
   "source": [
    "def advanced_replace(df, col, str, regex):\n",
    "    '''\n",
    "    DataFrame 특정 열의 특수문자 제거\n",
    "    :param df: 대상 DataFrame\n",
    "    :param col: column\n",
    "    :param str: 제거할 특수 문자.\n",
    "    :param regex: 적용할 정규표현식\n",
    "    :return:\n",
    "    '''\n",
    "    df[col] = df[col].replace(str,0)\n",
    "    df[col] = df[col].replace(to_replace=regex, value=r'', regex=True)\n",
    "    return df"
   ],
   "metadata": {
    "collapsed": false,
    "pycharm": {
     "name": "#%%\n"
    }
   }
  },
  {
   "cell_type": "code",
   "execution_count": 7,
   "outputs": [
    {
     "name": "stdout",
     "output_type": "stream",
     "text": [
      "<class 'pandas.core.frame.DataFrame'>\n",
      "RangeIndex: 172 entries, 0 to 171\n",
      "Data columns (total 3 columns):\n",
      " #   Column   Non-Null Count  Dtype  \n",
      "---  ------   --------------  -----  \n",
      " 0   구분(1)    172 non-null    object \n",
      " 1   구분(2)    172 non-null    object \n",
      " 2   2021.07  172 non-null    float64\n",
      "dtypes: float64(1), object(2)\n",
      "memory usage: 4.2+ KB\n"
     ]
    }
   ],
   "source": [
    "# 해당 컬럼 float 타입으로 변경\n",
    "advanced_replace(df_ozone, df_ozone.iloc[:,2:].columns.tolist(), '-', r'[^0-9.0-9]')\n",
    "df_ozone['2021.07'] = df_ozone['2021.07'].astype(float)\n",
    "df_ozone.info()"
   ],
   "metadata": {
    "collapsed": false,
    "pycharm": {
     "name": "#%%\n"
    }
   }
  },
  {
   "cell_type": "code",
   "execution_count": 8,
   "outputs": [
    {
     "data": {
      "text/plain": "          2021.07\ncount  172.000000\nmean     0.031924\nstd      0.005394\nmin      0.019000\n25%      0.028000\n50%      0.031000\n75%      0.035000\nmax      0.059000",
      "text/html": "<div>\n<style scoped>\n    .dataframe tbody tr th:only-of-type {\n        vertical-align: middle;\n    }\n\n    .dataframe tbody tr th {\n        vertical-align: top;\n    }\n\n    .dataframe thead th {\n        text-align: right;\n    }\n</style>\n<table border=\"1\" class=\"dataframe\">\n  <thead>\n    <tr style=\"text-align: right;\">\n      <th></th>\n      <th>2021.07</th>\n    </tr>\n  </thead>\n  <tbody>\n    <tr>\n      <th>count</th>\n      <td>172.000000</td>\n    </tr>\n    <tr>\n      <th>mean</th>\n      <td>0.031924</td>\n    </tr>\n    <tr>\n      <th>std</th>\n      <td>0.005394</td>\n    </tr>\n    <tr>\n      <th>min</th>\n      <td>0.019000</td>\n    </tr>\n    <tr>\n      <th>25%</th>\n      <td>0.028000</td>\n    </tr>\n    <tr>\n      <th>50%</th>\n      <td>0.031000</td>\n    </tr>\n    <tr>\n      <th>75%</th>\n      <td>0.035000</td>\n    </tr>\n    <tr>\n      <th>max</th>\n      <td>0.059000</td>\n    </tr>\n  </tbody>\n</table>\n</div>"
     },
     "execution_count": 8,
     "metadata": {},
     "output_type": "execute_result"
    }
   ],
   "source": [
    "df_ozone.describe()"
   ],
   "metadata": {
    "collapsed": false,
    "pycharm": {
     "name": "#%%\n"
    }
   }
  },
  {
   "cell_type": "markdown",
   "source": [
    "### 아황산가스 월별 데이터 불러오기"
   ],
   "metadata": {
    "collapsed": false
   }
  },
  {
   "cell_type": "code",
   "execution_count": 9,
   "outputs": [
    {
     "data": {
      "text/plain": "       구분(1)    구분(2) 2021.02 2021.03 2021.04 2021.05 2021.06  2021.07\n0         총계       소계   0.003   0.003   0.003   0.003   0.003    0.003\n1      서울특별시    서울특별시   0.003   0.003   0.003   0.003   0.003    0.003\n2      부산광역시    부산광역시   0.004   0.003   0.003   0.002   0.003    0.003\n3      대구광역시    대구광역시   0.002   0.002   0.002   0.002   0.002    0.002\n4      인천광역시    인천광역시   0.004   0.003   0.003   0.003   0.003    0.003\n..       ...      ...     ...     ...     ...     ...     ...      ...\n167     경상남도       합천   0.003   0.003   0.003   0.003   0.003  0.003**\n168     경상남도      도평균   0.003   0.003   0.003   0.003   0.003    0.003\n169  제주특별자치도  제주특별자치도   0.002   0.001   0.002   0.002   0.002    0.002\n170  제주특별자치도      서귀포   0.001   0.001   0.001   0.001   0.001    0.001\n171  제주특별자치도      도평균   0.002   0.001   0.002   0.001   0.001    0.001\n\n[172 rows x 8 columns]",
      "text/html": "<div>\n<style scoped>\n    .dataframe tbody tr th:only-of-type {\n        vertical-align: middle;\n    }\n\n    .dataframe tbody tr th {\n        vertical-align: top;\n    }\n\n    .dataframe thead th {\n        text-align: right;\n    }\n</style>\n<table border=\"1\" class=\"dataframe\">\n  <thead>\n    <tr style=\"text-align: right;\">\n      <th></th>\n      <th>구분(1)</th>\n      <th>구분(2)</th>\n      <th>2021.02</th>\n      <th>2021.03</th>\n      <th>2021.04</th>\n      <th>2021.05</th>\n      <th>2021.06</th>\n      <th>2021.07</th>\n    </tr>\n  </thead>\n  <tbody>\n    <tr>\n      <th>0</th>\n      <td>총계</td>\n      <td>소계</td>\n      <td>0.003</td>\n      <td>0.003</td>\n      <td>0.003</td>\n      <td>0.003</td>\n      <td>0.003</td>\n      <td>0.003</td>\n    </tr>\n    <tr>\n      <th>1</th>\n      <td>서울특별시</td>\n      <td>서울특별시</td>\n      <td>0.003</td>\n      <td>0.003</td>\n      <td>0.003</td>\n      <td>0.003</td>\n      <td>0.003</td>\n      <td>0.003</td>\n    </tr>\n    <tr>\n      <th>2</th>\n      <td>부산광역시</td>\n      <td>부산광역시</td>\n      <td>0.004</td>\n      <td>0.003</td>\n      <td>0.003</td>\n      <td>0.002</td>\n      <td>0.003</td>\n      <td>0.003</td>\n    </tr>\n    <tr>\n      <th>3</th>\n      <td>대구광역시</td>\n      <td>대구광역시</td>\n      <td>0.002</td>\n      <td>0.002</td>\n      <td>0.002</td>\n      <td>0.002</td>\n      <td>0.002</td>\n      <td>0.002</td>\n    </tr>\n    <tr>\n      <th>4</th>\n      <td>인천광역시</td>\n      <td>인천광역시</td>\n      <td>0.004</td>\n      <td>0.003</td>\n      <td>0.003</td>\n      <td>0.003</td>\n      <td>0.003</td>\n      <td>0.003</td>\n    </tr>\n    <tr>\n      <th>...</th>\n      <td>...</td>\n      <td>...</td>\n      <td>...</td>\n      <td>...</td>\n      <td>...</td>\n      <td>...</td>\n      <td>...</td>\n      <td>...</td>\n    </tr>\n    <tr>\n      <th>167</th>\n      <td>경상남도</td>\n      <td>합천</td>\n      <td>0.003</td>\n      <td>0.003</td>\n      <td>0.003</td>\n      <td>0.003</td>\n      <td>0.003</td>\n      <td>0.003**</td>\n    </tr>\n    <tr>\n      <th>168</th>\n      <td>경상남도</td>\n      <td>도평균</td>\n      <td>0.003</td>\n      <td>0.003</td>\n      <td>0.003</td>\n      <td>0.003</td>\n      <td>0.003</td>\n      <td>0.003</td>\n    </tr>\n    <tr>\n      <th>169</th>\n      <td>제주특별자치도</td>\n      <td>제주특별자치도</td>\n      <td>0.002</td>\n      <td>0.001</td>\n      <td>0.002</td>\n      <td>0.002</td>\n      <td>0.002</td>\n      <td>0.002</td>\n    </tr>\n    <tr>\n      <th>170</th>\n      <td>제주특별자치도</td>\n      <td>서귀포</td>\n      <td>0.001</td>\n      <td>0.001</td>\n      <td>0.001</td>\n      <td>0.001</td>\n      <td>0.001</td>\n      <td>0.001</td>\n    </tr>\n    <tr>\n      <th>171</th>\n      <td>제주특별자치도</td>\n      <td>도평균</td>\n      <td>0.002</td>\n      <td>0.001</td>\n      <td>0.002</td>\n      <td>0.001</td>\n      <td>0.001</td>\n      <td>0.001</td>\n    </tr>\n  </tbody>\n</table>\n<p>172 rows × 8 columns</p>\n</div>"
     },
     "execution_count": 9,
     "metadata": {},
     "output_type": "execute_result"
    }
   ],
   "source": [
    "so2_file_path = 'C:\\\\Users\\\\pwjdg\\\\바탕 화면\\\\Green-Car-Charging-Station-Site-Selection\\\\Data\\\\아황산가스_월별_도시별_대기오염도.csv'\n",
    "df_so2 = pd.read_csv(so2_file_path, encoding='cp949')\n",
    "df_so2"
   ],
   "metadata": {
    "collapsed": false,
    "pycharm": {
     "name": "#%%\n"
    }
   }
  },
  {
   "cell_type": "code",
   "execution_count": 10,
   "outputs": [
    {
     "name": "stdout",
     "output_type": "stream",
     "text": [
      "<class 'pandas.core.frame.DataFrame'>\n",
      "RangeIndex: 172 entries, 0 to 171\n",
      "Data columns (total 8 columns):\n",
      " #   Column   Non-Null Count  Dtype \n",
      "---  ------   --------------  ----- \n",
      " 0   구분(1)    172 non-null    object\n",
      " 1   구분(2)    172 non-null    object\n",
      " 2   2021.02  172 non-null    object\n",
      " 3   2021.03  172 non-null    object\n",
      " 4   2021.04  172 non-null    object\n",
      " 5   2021.05  172 non-null    object\n",
      " 6   2021.06  172 non-null    object\n",
      " 7   2021.07  172 non-null    object\n",
      "dtypes: object(8)\n",
      "memory usage: 10.9+ KB\n"
     ]
    }
   ],
   "source": [
    "df_so2.info()"
   ],
   "metadata": {
    "collapsed": false,
    "pycharm": {
     "name": "#%%\n"
    }
   }
  },
  {
   "cell_type": "code",
   "execution_count": 11,
   "outputs": [],
   "source": [
    "so2_col = df_so2.iloc[:,2:-1].columns.tolist()"
   ],
   "metadata": {
    "collapsed": false,
    "pycharm": {
     "name": "#%%\n"
    }
   }
  },
  {
   "cell_type": "code",
   "execution_count": 12,
   "outputs": [
    {
     "data": {
      "text/plain": "       구분(1)    구분(2)  2021.07\n0         총계       소계    0.003\n1      서울특별시    서울특별시    0.003\n2      부산광역시    부산광역시    0.003\n3      대구광역시    대구광역시    0.002\n4      인천광역시    인천광역시    0.003\n..       ...      ...      ...\n167     경상남도       합천  0.003**\n168     경상남도      도평균    0.003\n169  제주특별자치도  제주특별자치도    0.002\n170  제주특별자치도      서귀포    0.001\n171  제주특별자치도      도평균    0.001\n\n[172 rows x 3 columns]",
      "text/html": "<div>\n<style scoped>\n    .dataframe tbody tr th:only-of-type {\n        vertical-align: middle;\n    }\n\n    .dataframe tbody tr th {\n        vertical-align: top;\n    }\n\n    .dataframe thead th {\n        text-align: right;\n    }\n</style>\n<table border=\"1\" class=\"dataframe\">\n  <thead>\n    <tr style=\"text-align: right;\">\n      <th></th>\n      <th>구분(1)</th>\n      <th>구분(2)</th>\n      <th>2021.07</th>\n    </tr>\n  </thead>\n  <tbody>\n    <tr>\n      <th>0</th>\n      <td>총계</td>\n      <td>소계</td>\n      <td>0.003</td>\n    </tr>\n    <tr>\n      <th>1</th>\n      <td>서울특별시</td>\n      <td>서울특별시</td>\n      <td>0.003</td>\n    </tr>\n    <tr>\n      <th>2</th>\n      <td>부산광역시</td>\n      <td>부산광역시</td>\n      <td>0.003</td>\n    </tr>\n    <tr>\n      <th>3</th>\n      <td>대구광역시</td>\n      <td>대구광역시</td>\n      <td>0.002</td>\n    </tr>\n    <tr>\n      <th>4</th>\n      <td>인천광역시</td>\n      <td>인천광역시</td>\n      <td>0.003</td>\n    </tr>\n    <tr>\n      <th>...</th>\n      <td>...</td>\n      <td>...</td>\n      <td>...</td>\n    </tr>\n    <tr>\n      <th>167</th>\n      <td>경상남도</td>\n      <td>합천</td>\n      <td>0.003**</td>\n    </tr>\n    <tr>\n      <th>168</th>\n      <td>경상남도</td>\n      <td>도평균</td>\n      <td>0.003</td>\n    </tr>\n    <tr>\n      <th>169</th>\n      <td>제주특별자치도</td>\n      <td>제주특별자치도</td>\n      <td>0.002</td>\n    </tr>\n    <tr>\n      <th>170</th>\n      <td>제주특별자치도</td>\n      <td>서귀포</td>\n      <td>0.001</td>\n    </tr>\n    <tr>\n      <th>171</th>\n      <td>제주특별자치도</td>\n      <td>도평균</td>\n      <td>0.001</td>\n    </tr>\n  </tbody>\n</table>\n<p>172 rows × 3 columns</p>\n</div>"
     },
     "execution_count": 12,
     "metadata": {},
     "output_type": "execute_result"
    }
   ],
   "source": [
    "df_so2.drop(columns=so2_col, inplace=True)\n",
    "df_so2"
   ],
   "metadata": {
    "collapsed": false,
    "pycharm": {
     "name": "#%%\n"
    }
   }
  },
  {
   "cell_type": "code",
   "execution_count": 13,
   "outputs": [],
   "source": [
    "advanced_replace(df_so2,'2021.07','-',r'[^0-9.0-9]')\n",
    "df_so2['2021.07'] = df_so2['2021.07'].astype(float)"
   ],
   "metadata": {
    "collapsed": false,
    "pycharm": {
     "name": "#%%\n"
    }
   }
  },
  {
   "cell_type": "code",
   "execution_count": 14,
   "outputs": [
    {
     "name": "stdout",
     "output_type": "stream",
     "text": [
      "<class 'pandas.core.frame.DataFrame'>\n",
      "RangeIndex: 172 entries, 0 to 171\n",
      "Data columns (total 3 columns):\n",
      " #   Column   Non-Null Count  Dtype  \n",
      "---  ------   --------------  -----  \n",
      " 0   구분(1)    172 non-null    object \n",
      " 1   구분(2)    172 non-null    object \n",
      " 2   2021.07  172 non-null    float64\n",
      "dtypes: float64(1), object(2)\n",
      "memory usage: 4.2+ KB\n"
     ]
    }
   ],
   "source": [
    "df_so2.info()"
   ],
   "metadata": {
    "collapsed": false,
    "pycharm": {
     "name": "#%%\n"
    }
   }
  },
  {
   "cell_type": "code",
   "execution_count": 15,
   "outputs": [
    {
     "data": {
      "text/plain": "          2021.07\ncount  172.000000\nmean     0.002674\nstd      0.000764\nmin      0.001000\n25%      0.002000\n50%      0.003000\n75%      0.003000\nmax      0.005000",
      "text/html": "<div>\n<style scoped>\n    .dataframe tbody tr th:only-of-type {\n        vertical-align: middle;\n    }\n\n    .dataframe tbody tr th {\n        vertical-align: top;\n    }\n\n    .dataframe thead th {\n        text-align: right;\n    }\n</style>\n<table border=\"1\" class=\"dataframe\">\n  <thead>\n    <tr style=\"text-align: right;\">\n      <th></th>\n      <th>2021.07</th>\n    </tr>\n  </thead>\n  <tbody>\n    <tr>\n      <th>count</th>\n      <td>172.000000</td>\n    </tr>\n    <tr>\n      <th>mean</th>\n      <td>0.002674</td>\n    </tr>\n    <tr>\n      <th>std</th>\n      <td>0.000764</td>\n    </tr>\n    <tr>\n      <th>min</th>\n      <td>0.001000</td>\n    </tr>\n    <tr>\n      <th>25%</th>\n      <td>0.002000</td>\n    </tr>\n    <tr>\n      <th>50%</th>\n      <td>0.003000</td>\n    </tr>\n    <tr>\n      <th>75%</th>\n      <td>0.003000</td>\n    </tr>\n    <tr>\n      <th>max</th>\n      <td>0.005000</td>\n    </tr>\n  </tbody>\n</table>\n</div>"
     },
     "execution_count": 15,
     "metadata": {},
     "output_type": "execute_result"
    }
   ],
   "source": [
    "df_so2.describe()"
   ],
   "metadata": {
    "collapsed": false,
    "pycharm": {
     "name": "#%%\n"
    }
   }
  },
  {
   "cell_type": "markdown",
   "source": [
    "### 이산화질소 월별 데이터 불러오기"
   ],
   "metadata": {
    "collapsed": false
   }
  },
  {
   "cell_type": "code",
   "execution_count": 16,
   "outputs": [
    {
     "data": {
      "text/plain": "       구분(1)    구분(2) 2021.02 2021.03 2021.04 2021.05 2021.06  2021.07\n0         총계       소계   0.019   0.019   0.014   0.012   0.011    0.010\n1      서울특별시    서울특별시   0.030   0.032   0.022   0.019   0.018    0.016\n2      부산광역시    부산광역시   0.018   0.017   0.015   0.014   0.014    0.010\n3      대구광역시    대구광역시   0.022   0.018   0.013   0.012   0.010    0.009\n4      인천광역시    인천광역시   0.024   0.028   0.021   0.017   0.017    0.014\n..       ...      ...     ...     ...     ...     ...     ...      ...\n167     경상남도       합천   0.014   0.011   0.010   0.009   0.010  0.009**\n168     경상남도      도평균   0.016   0.014   0.013   0.011   0.012    0.009\n169  제주특별자치도  제주특별자치도   0.011   0.011   0.010   0.010   0.009    0.006\n170  제주특별자치도      서귀포   0.007   0.007   0.006   0.006   0.005    0.004\n171  제주특별자치도      도평균   0.009   0.009   0.008   0.008   0.007    0.005\n\n[172 rows x 8 columns]",
      "text/html": "<div>\n<style scoped>\n    .dataframe tbody tr th:only-of-type {\n        vertical-align: middle;\n    }\n\n    .dataframe tbody tr th {\n        vertical-align: top;\n    }\n\n    .dataframe thead th {\n        text-align: right;\n    }\n</style>\n<table border=\"1\" class=\"dataframe\">\n  <thead>\n    <tr style=\"text-align: right;\">\n      <th></th>\n      <th>구분(1)</th>\n      <th>구분(2)</th>\n      <th>2021.02</th>\n      <th>2021.03</th>\n      <th>2021.04</th>\n      <th>2021.05</th>\n      <th>2021.06</th>\n      <th>2021.07</th>\n    </tr>\n  </thead>\n  <tbody>\n    <tr>\n      <th>0</th>\n      <td>총계</td>\n      <td>소계</td>\n      <td>0.019</td>\n      <td>0.019</td>\n      <td>0.014</td>\n      <td>0.012</td>\n      <td>0.011</td>\n      <td>0.010</td>\n    </tr>\n    <tr>\n      <th>1</th>\n      <td>서울특별시</td>\n      <td>서울특별시</td>\n      <td>0.030</td>\n      <td>0.032</td>\n      <td>0.022</td>\n      <td>0.019</td>\n      <td>0.018</td>\n      <td>0.016</td>\n    </tr>\n    <tr>\n      <th>2</th>\n      <td>부산광역시</td>\n      <td>부산광역시</td>\n      <td>0.018</td>\n      <td>0.017</td>\n      <td>0.015</td>\n      <td>0.014</td>\n      <td>0.014</td>\n      <td>0.010</td>\n    </tr>\n    <tr>\n      <th>3</th>\n      <td>대구광역시</td>\n      <td>대구광역시</td>\n      <td>0.022</td>\n      <td>0.018</td>\n      <td>0.013</td>\n      <td>0.012</td>\n      <td>0.010</td>\n      <td>0.009</td>\n    </tr>\n    <tr>\n      <th>4</th>\n      <td>인천광역시</td>\n      <td>인천광역시</td>\n      <td>0.024</td>\n      <td>0.028</td>\n      <td>0.021</td>\n      <td>0.017</td>\n      <td>0.017</td>\n      <td>0.014</td>\n    </tr>\n    <tr>\n      <th>...</th>\n      <td>...</td>\n      <td>...</td>\n      <td>...</td>\n      <td>...</td>\n      <td>...</td>\n      <td>...</td>\n      <td>...</td>\n      <td>...</td>\n    </tr>\n    <tr>\n      <th>167</th>\n      <td>경상남도</td>\n      <td>합천</td>\n      <td>0.014</td>\n      <td>0.011</td>\n      <td>0.010</td>\n      <td>0.009</td>\n      <td>0.010</td>\n      <td>0.009**</td>\n    </tr>\n    <tr>\n      <th>168</th>\n      <td>경상남도</td>\n      <td>도평균</td>\n      <td>0.016</td>\n      <td>0.014</td>\n      <td>0.013</td>\n      <td>0.011</td>\n      <td>0.012</td>\n      <td>0.009</td>\n    </tr>\n    <tr>\n      <th>169</th>\n      <td>제주특별자치도</td>\n      <td>제주특별자치도</td>\n      <td>0.011</td>\n      <td>0.011</td>\n      <td>0.010</td>\n      <td>0.010</td>\n      <td>0.009</td>\n      <td>0.006</td>\n    </tr>\n    <tr>\n      <th>170</th>\n      <td>제주특별자치도</td>\n      <td>서귀포</td>\n      <td>0.007</td>\n      <td>0.007</td>\n      <td>0.006</td>\n      <td>0.006</td>\n      <td>0.005</td>\n      <td>0.004</td>\n    </tr>\n    <tr>\n      <th>171</th>\n      <td>제주특별자치도</td>\n      <td>도평균</td>\n      <td>0.009</td>\n      <td>0.009</td>\n      <td>0.008</td>\n      <td>0.008</td>\n      <td>0.007</td>\n      <td>0.005</td>\n    </tr>\n  </tbody>\n</table>\n<p>172 rows × 8 columns</p>\n</div>"
     },
     "execution_count": 16,
     "metadata": {},
     "output_type": "execute_result"
    }
   ],
   "source": [
    "no2_file_path = 'C:\\\\Users\\\\pwjdg\\\\바탕 화면\\\\Green-Car-Charging-Station-Site-Selection\\\\Data\\\\이산화질소_월별_도시별_대기오염도.csv'\n",
    "df_no2 = pd.read_csv(no2_file_path, encoding='cp949')\n",
    "df_no2"
   ],
   "metadata": {
    "collapsed": false,
    "pycharm": {
     "name": "#%%\n"
    }
   }
  },
  {
   "cell_type": "code",
   "execution_count": 17,
   "outputs": [],
   "source": [
    "no2_col = df_no2.iloc[:,2:-1].columns.tolist()"
   ],
   "metadata": {
    "collapsed": false,
    "pycharm": {
     "name": "#%%\n"
    }
   }
  },
  {
   "cell_type": "code",
   "execution_count": 18,
   "outputs": [],
   "source": [
    "df_no2.drop(columns=no2_col, inplace=True)"
   ],
   "metadata": {
    "collapsed": false,
    "pycharm": {
     "name": "#%%\n"
    }
   }
  },
  {
   "cell_type": "code",
   "execution_count": 19,
   "outputs": [],
   "source": [
    "advanced_replace(df_no2,'2021.07','-',r'[^0-9.0-9]')\n",
    "df_no2['2021.07'] = df_no2['2021.07'].astype(float)"
   ],
   "metadata": {
    "collapsed": false,
    "pycharm": {
     "name": "#%%\n"
    }
   }
  },
  {
   "cell_type": "code",
   "execution_count": 20,
   "outputs": [
    {
     "name": "stdout",
     "output_type": "stream",
     "text": [
      "<class 'pandas.core.frame.DataFrame'>\n",
      "RangeIndex: 172 entries, 0 to 171\n",
      "Data columns (total 3 columns):\n",
      " #   Column   Non-Null Count  Dtype  \n",
      "---  ------   --------------  -----  \n",
      " 0   구분(1)    172 non-null    object \n",
      " 1   구분(2)    172 non-null    object \n",
      " 2   2021.07  172 non-null    float64\n",
      "dtypes: float64(1), object(2)\n",
      "memory usage: 4.2+ KB\n"
     ]
    }
   ],
   "source": [
    "df_no2.info()"
   ],
   "metadata": {
    "collapsed": false,
    "pycharm": {
     "name": "#%%\n"
    }
   }
  },
  {
   "cell_type": "code",
   "execution_count": 21,
   "outputs": [
    {
     "data": {
      "text/plain": "          2021.07\ncount  172.000000\nmean     0.007610\nstd      0.003294\nmin      0.003000\n25%      0.005000\n50%      0.007000\n75%      0.009250\nmax      0.019000",
      "text/html": "<div>\n<style scoped>\n    .dataframe tbody tr th:only-of-type {\n        vertical-align: middle;\n    }\n\n    .dataframe tbody tr th {\n        vertical-align: top;\n    }\n\n    .dataframe thead th {\n        text-align: right;\n    }\n</style>\n<table border=\"1\" class=\"dataframe\">\n  <thead>\n    <tr style=\"text-align: right;\">\n      <th></th>\n      <th>2021.07</th>\n    </tr>\n  </thead>\n  <tbody>\n    <tr>\n      <th>count</th>\n      <td>172.000000</td>\n    </tr>\n    <tr>\n      <th>mean</th>\n      <td>0.007610</td>\n    </tr>\n    <tr>\n      <th>std</th>\n      <td>0.003294</td>\n    </tr>\n    <tr>\n      <th>min</th>\n      <td>0.003000</td>\n    </tr>\n    <tr>\n      <th>25%</th>\n      <td>0.005000</td>\n    </tr>\n    <tr>\n      <th>50%</th>\n      <td>0.007000</td>\n    </tr>\n    <tr>\n      <th>75%</th>\n      <td>0.009250</td>\n    </tr>\n    <tr>\n      <th>max</th>\n      <td>0.019000</td>\n    </tr>\n  </tbody>\n</table>\n</div>"
     },
     "execution_count": 21,
     "metadata": {},
     "output_type": "execute_result"
    }
   ],
   "source": [
    "df_no2.describe()"
   ],
   "metadata": {
    "collapsed": false,
    "pycharm": {
     "name": "#%%\n"
    }
   }
  },
  {
   "cell_type": "markdown",
   "source": [
    "### 일산화탄소 월별 데이터 불러오기"
   ],
   "metadata": {
    "collapsed": false
   }
  },
  {
   "cell_type": "code",
   "execution_count": 22,
   "outputs": [
    {
     "data": {
      "text/plain": "       구분(1)    구분(2) 2021.02 2021.03 2021.04 2021.05 2021.06 2021.07\n0         총계       소계     0.5     0.5     0.4     0.4     0.4     0.3\n1      서울특별시    서울특별시     0.6     0.5     0.4     0.4     0.4     0.3\n2      부산광역시    부산광역시     0.4     0.4     0.3     0.3     0.3     0.2\n3      대구광역시    대구광역시     0.5     0.4     0.3     0.4     0.4     0.3\n4      인천광역시    인천광역시     0.6     0.6     0.4     0.4     0.4     0.4\n..       ...      ...     ...     ...     ...     ...     ...     ...\n167     경상남도       합천     0.4     0.3     0.3     0.3     0.3   0.2**\n168     경상남도      도평균     0.5     0.4     0.4     0.4     0.4     0.3\n169  제주특별자치도  제주특별자치도     0.3     0.3     0.3     0.3     0.3     0.2\n170  제주특별자치도      서귀포     0.3     0.3     0.3     0.3     0.2     0.2\n171  제주특별자치도      도평균     0.3     0.3     0.3     0.3     0.3     0.2\n\n[172 rows x 8 columns]",
      "text/html": "<div>\n<style scoped>\n    .dataframe tbody tr th:only-of-type {\n        vertical-align: middle;\n    }\n\n    .dataframe tbody tr th {\n        vertical-align: top;\n    }\n\n    .dataframe thead th {\n        text-align: right;\n    }\n</style>\n<table border=\"1\" class=\"dataframe\">\n  <thead>\n    <tr style=\"text-align: right;\">\n      <th></th>\n      <th>구분(1)</th>\n      <th>구분(2)</th>\n      <th>2021.02</th>\n      <th>2021.03</th>\n      <th>2021.04</th>\n      <th>2021.05</th>\n      <th>2021.06</th>\n      <th>2021.07</th>\n    </tr>\n  </thead>\n  <tbody>\n    <tr>\n      <th>0</th>\n      <td>총계</td>\n      <td>소계</td>\n      <td>0.5</td>\n      <td>0.5</td>\n      <td>0.4</td>\n      <td>0.4</td>\n      <td>0.4</td>\n      <td>0.3</td>\n    </tr>\n    <tr>\n      <th>1</th>\n      <td>서울특별시</td>\n      <td>서울특별시</td>\n      <td>0.6</td>\n      <td>0.5</td>\n      <td>0.4</td>\n      <td>0.4</td>\n      <td>0.4</td>\n      <td>0.3</td>\n    </tr>\n    <tr>\n      <th>2</th>\n      <td>부산광역시</td>\n      <td>부산광역시</td>\n      <td>0.4</td>\n      <td>0.4</td>\n      <td>0.3</td>\n      <td>0.3</td>\n      <td>0.3</td>\n      <td>0.2</td>\n    </tr>\n    <tr>\n      <th>3</th>\n      <td>대구광역시</td>\n      <td>대구광역시</td>\n      <td>0.5</td>\n      <td>0.4</td>\n      <td>0.3</td>\n      <td>0.4</td>\n      <td>0.4</td>\n      <td>0.3</td>\n    </tr>\n    <tr>\n      <th>4</th>\n      <td>인천광역시</td>\n      <td>인천광역시</td>\n      <td>0.6</td>\n      <td>0.6</td>\n      <td>0.4</td>\n      <td>0.4</td>\n      <td>0.4</td>\n      <td>0.4</td>\n    </tr>\n    <tr>\n      <th>...</th>\n      <td>...</td>\n      <td>...</td>\n      <td>...</td>\n      <td>...</td>\n      <td>...</td>\n      <td>...</td>\n      <td>...</td>\n      <td>...</td>\n    </tr>\n    <tr>\n      <th>167</th>\n      <td>경상남도</td>\n      <td>합천</td>\n      <td>0.4</td>\n      <td>0.3</td>\n      <td>0.3</td>\n      <td>0.3</td>\n      <td>0.3</td>\n      <td>0.2**</td>\n    </tr>\n    <tr>\n      <th>168</th>\n      <td>경상남도</td>\n      <td>도평균</td>\n      <td>0.5</td>\n      <td>0.4</td>\n      <td>0.4</td>\n      <td>0.4</td>\n      <td>0.4</td>\n      <td>0.3</td>\n    </tr>\n    <tr>\n      <th>169</th>\n      <td>제주특별자치도</td>\n      <td>제주특별자치도</td>\n      <td>0.3</td>\n      <td>0.3</td>\n      <td>0.3</td>\n      <td>0.3</td>\n      <td>0.3</td>\n      <td>0.2</td>\n    </tr>\n    <tr>\n      <th>170</th>\n      <td>제주특별자치도</td>\n      <td>서귀포</td>\n      <td>0.3</td>\n      <td>0.3</td>\n      <td>0.3</td>\n      <td>0.3</td>\n      <td>0.2</td>\n      <td>0.2</td>\n    </tr>\n    <tr>\n      <th>171</th>\n      <td>제주특별자치도</td>\n      <td>도평균</td>\n      <td>0.3</td>\n      <td>0.3</td>\n      <td>0.3</td>\n      <td>0.3</td>\n      <td>0.3</td>\n      <td>0.2</td>\n    </tr>\n  </tbody>\n</table>\n<p>172 rows × 8 columns</p>\n</div>"
     },
     "execution_count": 22,
     "metadata": {},
     "output_type": "execute_result"
    }
   ],
   "source": [
    "co_file_path = 'C:\\\\Users\\\\pwjdg\\\\바탕 화면\\\\Green-Car-Charging-Station-Site-Selection\\\\Data\\\\일산화탄소_월별_도시별_대기오염도.csv'\n",
    "df_co = pd.read_csv(co_file_path, encoding='cp949')\n",
    "df_co"
   ],
   "metadata": {
    "collapsed": false,
    "pycharm": {
     "name": "#%%\n"
    }
   }
  },
  {
   "cell_type": "code",
   "execution_count": 23,
   "outputs": [],
   "source": [
    "co_col = df_co.iloc[:,2:-1].columns.tolist()"
   ],
   "metadata": {
    "collapsed": false,
    "pycharm": {
     "name": "#%%\n"
    }
   }
  },
  {
   "cell_type": "code",
   "execution_count": 24,
   "outputs": [],
   "source": [
    "df_co.drop(columns=co_col, inplace=True)"
   ],
   "metadata": {
    "collapsed": false,
    "pycharm": {
     "name": "#%%\n"
    }
   }
  },
  {
   "cell_type": "code",
   "execution_count": 25,
   "outputs": [],
   "source": [
    "advanced_replace(df_co, '2021.07','-',r'[^0-9.0-9]')\n",
    "df_co['2021.07'] = df_co['2021.07'].astype(float)"
   ],
   "metadata": {
    "collapsed": false,
    "pycharm": {
     "name": "#%%\n"
    }
   }
  },
  {
   "cell_type": "code",
   "execution_count": 26,
   "outputs": [
    {
     "name": "stdout",
     "output_type": "stream",
     "text": [
      "<class 'pandas.core.frame.DataFrame'>\n",
      "RangeIndex: 172 entries, 0 to 171\n",
      "Data columns (total 3 columns):\n",
      " #   Column   Non-Null Count  Dtype  \n",
      "---  ------   --------------  -----  \n",
      " 0   구분(1)    172 non-null    object \n",
      " 1   구분(2)    172 non-null    object \n",
      " 2   2021.07  172 non-null    float64\n",
      "dtypes: float64(1), object(2)\n",
      "memory usage: 4.2+ KB\n"
     ]
    }
   ],
   "source": [
    "df_co.info()"
   ],
   "metadata": {
    "collapsed": false,
    "pycharm": {
     "name": "#%%\n"
    }
   }
  },
  {
   "cell_type": "code",
   "execution_count": 27,
   "outputs": [
    {
     "data": {
      "text/plain": "          2021.07\ncount  172.000000\nmean     0.328488\nstd      0.084825\nmin      0.100000\n25%      0.300000\n50%      0.300000\n75%      0.400000\nmax      0.600000",
      "text/html": "<div>\n<style scoped>\n    .dataframe tbody tr th:only-of-type {\n        vertical-align: middle;\n    }\n\n    .dataframe tbody tr th {\n        vertical-align: top;\n    }\n\n    .dataframe thead th {\n        text-align: right;\n    }\n</style>\n<table border=\"1\" class=\"dataframe\">\n  <thead>\n    <tr style=\"text-align: right;\">\n      <th></th>\n      <th>2021.07</th>\n    </tr>\n  </thead>\n  <tbody>\n    <tr>\n      <th>count</th>\n      <td>172.000000</td>\n    </tr>\n    <tr>\n      <th>mean</th>\n      <td>0.328488</td>\n    </tr>\n    <tr>\n      <th>std</th>\n      <td>0.084825</td>\n    </tr>\n    <tr>\n      <th>min</th>\n      <td>0.100000</td>\n    </tr>\n    <tr>\n      <th>25%</th>\n      <td>0.300000</td>\n    </tr>\n    <tr>\n      <th>50%</th>\n      <td>0.300000</td>\n    </tr>\n    <tr>\n      <th>75%</th>\n      <td>0.400000</td>\n    </tr>\n    <tr>\n      <th>max</th>\n      <td>0.600000</td>\n    </tr>\n  </tbody>\n</table>\n</div>"
     },
     "execution_count": 27,
     "metadata": {},
     "output_type": "execute_result"
    }
   ],
   "source": [
    "df_co.describe()"
   ],
   "metadata": {
    "collapsed": false,
    "pycharm": {
     "name": "#%%\n"
    }
   }
  },
  {
   "cell_type": "markdown",
   "source": [
    "### 미세먼지 월별 데이터 불러오기"
   ],
   "metadata": {
    "collapsed": false
   }
  },
  {
   "cell_type": "code",
   "execution_count": 28,
   "outputs": [
    {
     "data": {
      "text/plain": "       구분(1)    구분(2) 2021.02 2021.03 2021.04 2021.05 2021.06 2021.07\n0         총계       소계      25      27      17      19      19      12\n1      서울특별시    서울특별시      29      32      19      20      19      15\n2      부산광역시    부산광역시      21      21      15      16      15       9\n3      대구광역시    대구광역시      24      23      17      18      20      10\n4      인천광역시    인천광역시      28      33      19      20      23      19\n..       ...      ...     ...     ...     ...     ...     ...     ...\n167     경상남도       합천      18      17      14      15      18    11**\n168     경상남도      도평균      19      19      15      15      16     12*\n169  제주특별자치도  제주특별자치도      18      24      14      16      14       8\n170  제주특별자치도      서귀포      16      23      14      16      12       8\n171  제주특별자치도      도평균      17      23      14      16      13       8\n\n[172 rows x 8 columns]",
      "text/html": "<div>\n<style scoped>\n    .dataframe tbody tr th:only-of-type {\n        vertical-align: middle;\n    }\n\n    .dataframe tbody tr th {\n        vertical-align: top;\n    }\n\n    .dataframe thead th {\n        text-align: right;\n    }\n</style>\n<table border=\"1\" class=\"dataframe\">\n  <thead>\n    <tr style=\"text-align: right;\">\n      <th></th>\n      <th>구분(1)</th>\n      <th>구분(2)</th>\n      <th>2021.02</th>\n      <th>2021.03</th>\n      <th>2021.04</th>\n      <th>2021.05</th>\n      <th>2021.06</th>\n      <th>2021.07</th>\n    </tr>\n  </thead>\n  <tbody>\n    <tr>\n      <th>0</th>\n      <td>총계</td>\n      <td>소계</td>\n      <td>25</td>\n      <td>27</td>\n      <td>17</td>\n      <td>19</td>\n      <td>19</td>\n      <td>12</td>\n    </tr>\n    <tr>\n      <th>1</th>\n      <td>서울특별시</td>\n      <td>서울특별시</td>\n      <td>29</td>\n      <td>32</td>\n      <td>19</td>\n      <td>20</td>\n      <td>19</td>\n      <td>15</td>\n    </tr>\n    <tr>\n      <th>2</th>\n      <td>부산광역시</td>\n      <td>부산광역시</td>\n      <td>21</td>\n      <td>21</td>\n      <td>15</td>\n      <td>16</td>\n      <td>15</td>\n      <td>9</td>\n    </tr>\n    <tr>\n      <th>3</th>\n      <td>대구광역시</td>\n      <td>대구광역시</td>\n      <td>24</td>\n      <td>23</td>\n      <td>17</td>\n      <td>18</td>\n      <td>20</td>\n      <td>10</td>\n    </tr>\n    <tr>\n      <th>4</th>\n      <td>인천광역시</td>\n      <td>인천광역시</td>\n      <td>28</td>\n      <td>33</td>\n      <td>19</td>\n      <td>20</td>\n      <td>23</td>\n      <td>19</td>\n    </tr>\n    <tr>\n      <th>...</th>\n      <td>...</td>\n      <td>...</td>\n      <td>...</td>\n      <td>...</td>\n      <td>...</td>\n      <td>...</td>\n      <td>...</td>\n      <td>...</td>\n    </tr>\n    <tr>\n      <th>167</th>\n      <td>경상남도</td>\n      <td>합천</td>\n      <td>18</td>\n      <td>17</td>\n      <td>14</td>\n      <td>15</td>\n      <td>18</td>\n      <td>11**</td>\n    </tr>\n    <tr>\n      <th>168</th>\n      <td>경상남도</td>\n      <td>도평균</td>\n      <td>19</td>\n      <td>19</td>\n      <td>15</td>\n      <td>15</td>\n      <td>16</td>\n      <td>12*</td>\n    </tr>\n    <tr>\n      <th>169</th>\n      <td>제주특별자치도</td>\n      <td>제주특별자치도</td>\n      <td>18</td>\n      <td>24</td>\n      <td>14</td>\n      <td>16</td>\n      <td>14</td>\n      <td>8</td>\n    </tr>\n    <tr>\n      <th>170</th>\n      <td>제주특별자치도</td>\n      <td>서귀포</td>\n      <td>16</td>\n      <td>23</td>\n      <td>14</td>\n      <td>16</td>\n      <td>12</td>\n      <td>8</td>\n    </tr>\n    <tr>\n      <th>171</th>\n      <td>제주특별자치도</td>\n      <td>도평균</td>\n      <td>17</td>\n      <td>23</td>\n      <td>14</td>\n      <td>16</td>\n      <td>13</td>\n      <td>8</td>\n    </tr>\n  </tbody>\n</table>\n<p>172 rows × 8 columns</p>\n</div>"
     },
     "execution_count": 28,
     "metadata": {},
     "output_type": "execute_result"
    }
   ],
   "source": [
    "pm25_file_path = 'C:\\\\Users\\\\pwjdg\\\\바탕 화면\\\\Green-Car-Charging-Station-Site-Selection\\\\Data\\\\미세먼지_PM2.5__월별_도시별_대기오염도.csv'\n",
    "df_pm25 = pd.read_csv(pm25_file_path, encoding='cp949')\n",
    "df_pm25"
   ],
   "metadata": {
    "collapsed": false,
    "pycharm": {
     "name": "#%%\n"
    }
   }
  },
  {
   "cell_type": "code",
   "execution_count": 29,
   "outputs": [
    {
     "name": "stdout",
     "output_type": "stream",
     "text": [
      "<class 'pandas.core.frame.DataFrame'>\n",
      "RangeIndex: 172 entries, 0 to 171\n",
      "Data columns (total 8 columns):\n",
      " #   Column   Non-Null Count  Dtype \n",
      "---  ------   --------------  ----- \n",
      " 0   구분(1)    172 non-null    object\n",
      " 1   구분(2)    172 non-null    object\n",
      " 2   2021.02  172 non-null    object\n",
      " 3   2021.03  172 non-null    object\n",
      " 4   2021.04  172 non-null    object\n",
      " 5   2021.05  172 non-null    object\n",
      " 6   2021.06  172 non-null    object\n",
      " 7   2021.07  172 non-null    object\n",
      "dtypes: object(8)\n",
      "memory usage: 10.9+ KB\n"
     ]
    }
   ],
   "source": [
    "df_pm25.info()"
   ],
   "metadata": {
    "collapsed": false,
    "pycharm": {
     "name": "#%%\n"
    }
   }
  },
  {
   "cell_type": "code",
   "execution_count": 30,
   "outputs": [],
   "source": [
    "pm25_col = df_pm25.iloc[:,2:-1].columns.tolist()"
   ],
   "metadata": {
    "collapsed": false,
    "pycharm": {
     "name": "#%%\n"
    }
   }
  },
  {
   "cell_type": "code",
   "execution_count": 31,
   "outputs": [],
   "source": [
    "df_pm25.drop(columns=pm25_col, inplace=True)"
   ],
   "metadata": {
    "collapsed": false,
    "pycharm": {
     "name": "#%%\n"
    }
   }
  },
  {
   "cell_type": "code",
   "execution_count": 32,
   "outputs": [],
   "source": [
    "advanced_replace(df_pm25, '2021.07','-',r'[^0-9.0-9]')\n",
    "df_pm25['2021.07'] = df_pm25['2021.07'].astype(float)"
   ],
   "metadata": {
    "collapsed": false,
    "pycharm": {
     "name": "#%%\n"
    }
   }
  },
  {
   "cell_type": "code",
   "execution_count": 33,
   "outputs": [
    {
     "name": "stdout",
     "output_type": "stream",
     "text": [
      "<class 'pandas.core.frame.DataFrame'>\n",
      "RangeIndex: 172 entries, 0 to 171\n",
      "Data columns (total 3 columns):\n",
      " #   Column   Non-Null Count  Dtype  \n",
      "---  ------   --------------  -----  \n",
      " 0   구분(1)    172 non-null    object \n",
      " 1   구분(2)    172 non-null    object \n",
      " 2   2021.07  172 non-null    float64\n",
      "dtypes: float64(1), object(2)\n",
      "memory usage: 4.2+ KB\n"
     ]
    }
   ],
   "source": [
    "df_pm25.info()"
   ],
   "metadata": {
    "collapsed": false,
    "pycharm": {
     "name": "#%%\n"
    }
   }
  },
  {
   "cell_type": "code",
   "execution_count": 34,
   "outputs": [
    {
     "data": {
      "text/plain": "          2021.07\ncount  172.000000\nmean    11.558140\nstd      2.888188\nmin      0.000000\n25%     10.000000\n50%     11.000000\n75%     13.000000\nmax     19.000000",
      "text/html": "<div>\n<style scoped>\n    .dataframe tbody tr th:only-of-type {\n        vertical-align: middle;\n    }\n\n    .dataframe tbody tr th {\n        vertical-align: top;\n    }\n\n    .dataframe thead th {\n        text-align: right;\n    }\n</style>\n<table border=\"1\" class=\"dataframe\">\n  <thead>\n    <tr style=\"text-align: right;\">\n      <th></th>\n      <th>2021.07</th>\n    </tr>\n  </thead>\n  <tbody>\n    <tr>\n      <th>count</th>\n      <td>172.000000</td>\n    </tr>\n    <tr>\n      <th>mean</th>\n      <td>11.558140</td>\n    </tr>\n    <tr>\n      <th>std</th>\n      <td>2.888188</td>\n    </tr>\n    <tr>\n      <th>min</th>\n      <td>0.000000</td>\n    </tr>\n    <tr>\n      <th>25%</th>\n      <td>10.000000</td>\n    </tr>\n    <tr>\n      <th>50%</th>\n      <td>11.000000</td>\n    </tr>\n    <tr>\n      <th>75%</th>\n      <td>13.000000</td>\n    </tr>\n    <tr>\n      <th>max</th>\n      <td>19.000000</td>\n    </tr>\n  </tbody>\n</table>\n</div>"
     },
     "execution_count": 34,
     "metadata": {},
     "output_type": "execute_result"
    }
   ],
   "source": [
    "df_pm25.describe()"
   ],
   "metadata": {
    "collapsed": false,
    "pycharm": {
     "name": "#%%\n"
    }
   }
  },
  {
   "cell_type": "code",
   "execution_count": 35,
   "outputs": [
    {
     "data": {
      "text/plain": "       구분(1)    구분(2) 2021.02 2021.03 2021.04 2021.05 2021.06 2021.07\n0         총계       소계      43      65      41      52      32      22\n1      서울특별시    서울특별시      48      67      42      61      33      24\n2      부산광역시    부산광역시      37      60      37      36      26      18\n3      대구광역시    대구광역시      41      59      42      41      35      19\n4      인천광역시    인천광역시      46      69      42      59      36      29\n..       ...      ...     ...     ...     ...     ...     ...     ...\n167     경상남도       합천      29      44      32      36      27    17**\n168     경상남도      도평균      33      53      34      36      27      20\n169  제주특별자치도  제주특별자치도      36      76      37      44      27      17\n170  제주특별자치도      서귀포      33      68      35      40      23      21\n171  제주특별자치도      도평균      34      72      36      42      25      19\n\n[172 rows x 8 columns]",
      "text/html": "<div>\n<style scoped>\n    .dataframe tbody tr th:only-of-type {\n        vertical-align: middle;\n    }\n\n    .dataframe tbody tr th {\n        vertical-align: top;\n    }\n\n    .dataframe thead th {\n        text-align: right;\n    }\n</style>\n<table border=\"1\" class=\"dataframe\">\n  <thead>\n    <tr style=\"text-align: right;\">\n      <th></th>\n      <th>구분(1)</th>\n      <th>구분(2)</th>\n      <th>2021.02</th>\n      <th>2021.03</th>\n      <th>2021.04</th>\n      <th>2021.05</th>\n      <th>2021.06</th>\n      <th>2021.07</th>\n    </tr>\n  </thead>\n  <tbody>\n    <tr>\n      <th>0</th>\n      <td>총계</td>\n      <td>소계</td>\n      <td>43</td>\n      <td>65</td>\n      <td>41</td>\n      <td>52</td>\n      <td>32</td>\n      <td>22</td>\n    </tr>\n    <tr>\n      <th>1</th>\n      <td>서울특별시</td>\n      <td>서울특별시</td>\n      <td>48</td>\n      <td>67</td>\n      <td>42</td>\n      <td>61</td>\n      <td>33</td>\n      <td>24</td>\n    </tr>\n    <tr>\n      <th>2</th>\n      <td>부산광역시</td>\n      <td>부산광역시</td>\n      <td>37</td>\n      <td>60</td>\n      <td>37</td>\n      <td>36</td>\n      <td>26</td>\n      <td>18</td>\n    </tr>\n    <tr>\n      <th>3</th>\n      <td>대구광역시</td>\n      <td>대구광역시</td>\n      <td>41</td>\n      <td>59</td>\n      <td>42</td>\n      <td>41</td>\n      <td>35</td>\n      <td>19</td>\n    </tr>\n    <tr>\n      <th>4</th>\n      <td>인천광역시</td>\n      <td>인천광역시</td>\n      <td>46</td>\n      <td>69</td>\n      <td>42</td>\n      <td>59</td>\n      <td>36</td>\n      <td>29</td>\n    </tr>\n    <tr>\n      <th>...</th>\n      <td>...</td>\n      <td>...</td>\n      <td>...</td>\n      <td>...</td>\n      <td>...</td>\n      <td>...</td>\n      <td>...</td>\n      <td>...</td>\n    </tr>\n    <tr>\n      <th>167</th>\n      <td>경상남도</td>\n      <td>합천</td>\n      <td>29</td>\n      <td>44</td>\n      <td>32</td>\n      <td>36</td>\n      <td>27</td>\n      <td>17**</td>\n    </tr>\n    <tr>\n      <th>168</th>\n      <td>경상남도</td>\n      <td>도평균</td>\n      <td>33</td>\n      <td>53</td>\n      <td>34</td>\n      <td>36</td>\n      <td>27</td>\n      <td>20</td>\n    </tr>\n    <tr>\n      <th>169</th>\n      <td>제주특별자치도</td>\n      <td>제주특별자치도</td>\n      <td>36</td>\n      <td>76</td>\n      <td>37</td>\n      <td>44</td>\n      <td>27</td>\n      <td>17</td>\n    </tr>\n    <tr>\n      <th>170</th>\n      <td>제주특별자치도</td>\n      <td>서귀포</td>\n      <td>33</td>\n      <td>68</td>\n      <td>35</td>\n      <td>40</td>\n      <td>23</td>\n      <td>21</td>\n    </tr>\n    <tr>\n      <th>171</th>\n      <td>제주특별자치도</td>\n      <td>도평균</td>\n      <td>34</td>\n      <td>72</td>\n      <td>36</td>\n      <td>42</td>\n      <td>25</td>\n      <td>19</td>\n    </tr>\n  </tbody>\n</table>\n<p>172 rows × 8 columns</p>\n</div>"
     },
     "execution_count": 35,
     "metadata": {},
     "output_type": "execute_result"
    }
   ],
   "source": [
    "pm10_file_path = 'C:\\\\Users\\\\pwjdg\\\\바탕 화면\\\\Green-Car-Charging-Station-Site-Selection\\\\Data\\\\미세먼지_PM10__월별_도시별_대기오염도.csv'\n",
    "df_pm10 = pd.read_csv(pm10_file_path, encoding='cp949')\n",
    "df_pm10"
   ],
   "metadata": {
    "collapsed": false,
    "pycharm": {
     "name": "#%%\n"
    }
   }
  },
  {
   "cell_type": "code",
   "execution_count": 36,
   "outputs": [],
   "source": [
    "pm10_col = df_pm10.iloc[:,2:-1].columns.tolist()"
   ],
   "metadata": {
    "collapsed": false,
    "pycharm": {
     "name": "#%%\n"
    }
   }
  },
  {
   "cell_type": "code",
   "execution_count": 37,
   "outputs": [],
   "source": [
    "df_pm10.drop(columns=pm10_col, inplace=True)"
   ],
   "metadata": {
    "collapsed": false,
    "pycharm": {
     "name": "#%%\n"
    }
   }
  },
  {
   "cell_type": "code",
   "execution_count": 38,
   "outputs": [],
   "source": [
    "advanced_replace(df_pm10, '2021.07', '-', r'[^0-9.0-9]')\n",
    "df_pm10['2021.07'] = df_pm10['2021.07'].astype(float)"
   ],
   "metadata": {
    "collapsed": false,
    "pycharm": {
     "name": "#%%\n"
    }
   }
  },
  {
   "cell_type": "code",
   "execution_count": 39,
   "outputs": [
    {
     "name": "stdout",
     "output_type": "stream",
     "text": [
      "<class 'pandas.core.frame.DataFrame'>\n",
      "RangeIndex: 172 entries, 0 to 171\n",
      "Data columns (total 3 columns):\n",
      " #   Column   Non-Null Count  Dtype  \n",
      "---  ------   --------------  -----  \n",
      " 0   구분(1)    172 non-null    object \n",
      " 1   구분(2)    172 non-null    object \n",
      " 2   2021.07  172 non-null    float64\n",
      "dtypes: float64(1), object(2)\n",
      "memory usage: 4.2+ KB\n"
     ]
    }
   ],
   "source": [
    "df_pm10.info()"
   ],
   "metadata": {
    "collapsed": false,
    "pycharm": {
     "name": "#%%\n"
    }
   }
  },
  {
   "cell_type": "code",
   "execution_count": 40,
   "outputs": [
    {
     "data": {
      "text/plain": "          2021.07\ncount  172.000000\nmean    20.750000\nstd      4.725352\nmin      0.000000\n25%     18.000000\n50%     20.000000\n75%     23.000000\nmax     36.000000",
      "text/html": "<div>\n<style scoped>\n    .dataframe tbody tr th:only-of-type {\n        vertical-align: middle;\n    }\n\n    .dataframe tbody tr th {\n        vertical-align: top;\n    }\n\n    .dataframe thead th {\n        text-align: right;\n    }\n</style>\n<table border=\"1\" class=\"dataframe\">\n  <thead>\n    <tr style=\"text-align: right;\">\n      <th></th>\n      <th>2021.07</th>\n    </tr>\n  </thead>\n  <tbody>\n    <tr>\n      <th>count</th>\n      <td>172.000000</td>\n    </tr>\n    <tr>\n      <th>mean</th>\n      <td>20.750000</td>\n    </tr>\n    <tr>\n      <th>std</th>\n      <td>4.725352</td>\n    </tr>\n    <tr>\n      <th>min</th>\n      <td>0.000000</td>\n    </tr>\n    <tr>\n      <th>25%</th>\n      <td>18.000000</td>\n    </tr>\n    <tr>\n      <th>50%</th>\n      <td>20.000000</td>\n    </tr>\n    <tr>\n      <th>75%</th>\n      <td>23.000000</td>\n    </tr>\n    <tr>\n      <th>max</th>\n      <td>36.000000</td>\n    </tr>\n  </tbody>\n</table>\n</div>"
     },
     "execution_count": 40,
     "metadata": {},
     "output_type": "execute_result"
    }
   ],
   "source": [
    "df_pm10.describe()"
   ],
   "metadata": {
    "collapsed": false,
    "pycharm": {
     "name": "#%%\n"
    }
   }
  },
  {
   "cell_type": "markdown",
   "source": [
    "### 부산광역시 공영주차장 정보 불러오기"
   ],
   "metadata": {
    "collapsed": false
   }
  },
  {
   "cell_type": "code",
   "execution_count": 41,
   "outputs": [
    {
     "data": {
      "text/plain": "         운영형태       관리기관명            주차장명     주차장관리번호          소재지도로명주소 주차장구분  \\\n0      구(군)직영  부산광역시 사상구청           감전동주변  2010000013     사상구 감전동 589-2    공영   \n1      구(군)직영  부산광역시 사상구청           장성주차장  2010000015   사상구 주례2동 92-278    공영   \n2        민간위탁  부산광역시 사상구청     엄궁초등학교지하주차장  2010000016  사상구 엄궁로191번길 23     공영   \n3      구(군)직영  부산광역시 사상구청          일신주택주변  2011000003    사상구 주례3동 545-3    공영   \n4      구(군)직영  부산광역시 사상구청         주례중학교주변  2012000004    사상구 주례2동 82-13    공영   \n..        ...         ...             ...         ...               ...   ...   \n609    구(군)직영  부산광역시 기장군청  정관읍 상업지역 노상주차장  2016000017       기장군 정관면 732    공영   \n610      민간운영  부산광역시 기장군청          1구역 2소  2008000002     기장군 기장읍 280-2    공영   \n611      민간운영  부산광역시 기장군청          1구역 3소  2008000003     기장군 기장읍 444-1    공영   \n612      민간운영  부산광역시 기장군청          3구역 1소  2008000006    기장군 기장읍 418-12    공영   \n613  시설관리공단위탁  부산광역시 기장군청      기장시장 공영주차장  2018000001    기장군 읍내로94번길 9     공영   \n\n    주차장유형  주차구획수         위도          경도  \n0      노외     26  35.154108  128.980071  \n1      노외     16   0.000000    0.000000  \n2      노외     93  35.128446  128.973403  \n3      노외     10  35.145207  129.000672  \n4      노외      8  35.154384  129.011131  \n..    ...    ...        ...         ...  \n609    노상     46   0.000000    0.000000  \n610    노상     12  35.222141  129.206947  \n611    노상     13  35.222141  129.206947  \n612    노상     24  35.222141  129.206947  \n613    노외    216  35.244174  129.214471  \n\n[614 rows x 10 columns]",
      "text/html": "<div>\n<style scoped>\n    .dataframe tbody tr th:only-of-type {\n        vertical-align: middle;\n    }\n\n    .dataframe tbody tr th {\n        vertical-align: top;\n    }\n\n    .dataframe thead th {\n        text-align: right;\n    }\n</style>\n<table border=\"1\" class=\"dataframe\">\n  <thead>\n    <tr style=\"text-align: right;\">\n      <th></th>\n      <th>운영형태</th>\n      <th>관리기관명</th>\n      <th>주차장명</th>\n      <th>주차장관리번호</th>\n      <th>소재지도로명주소</th>\n      <th>주차장구분</th>\n      <th>주차장유형</th>\n      <th>주차구획수</th>\n      <th>위도</th>\n      <th>경도</th>\n    </tr>\n  </thead>\n  <tbody>\n    <tr>\n      <th>0</th>\n      <td>구(군)직영</td>\n      <td>부산광역시 사상구청</td>\n      <td>감전동주변</td>\n      <td>2010000013</td>\n      <td>사상구 감전동 589-2</td>\n      <td>공영</td>\n      <td>노외</td>\n      <td>26</td>\n      <td>35.154108</td>\n      <td>128.980071</td>\n    </tr>\n    <tr>\n      <th>1</th>\n      <td>구(군)직영</td>\n      <td>부산광역시 사상구청</td>\n      <td>장성주차장</td>\n      <td>2010000015</td>\n      <td>사상구 주례2동 92-278</td>\n      <td>공영</td>\n      <td>노외</td>\n      <td>16</td>\n      <td>0.000000</td>\n      <td>0.000000</td>\n    </tr>\n    <tr>\n      <th>2</th>\n      <td>민간위탁</td>\n      <td>부산광역시 사상구청</td>\n      <td>엄궁초등학교지하주차장</td>\n      <td>2010000016</td>\n      <td>사상구 엄궁로191번길 23</td>\n      <td>공영</td>\n      <td>노외</td>\n      <td>93</td>\n      <td>35.128446</td>\n      <td>128.973403</td>\n    </tr>\n    <tr>\n      <th>3</th>\n      <td>구(군)직영</td>\n      <td>부산광역시 사상구청</td>\n      <td>일신주택주변</td>\n      <td>2011000003</td>\n      <td>사상구 주례3동 545-3</td>\n      <td>공영</td>\n      <td>노외</td>\n      <td>10</td>\n      <td>35.145207</td>\n      <td>129.000672</td>\n    </tr>\n    <tr>\n      <th>4</th>\n      <td>구(군)직영</td>\n      <td>부산광역시 사상구청</td>\n      <td>주례중학교주변</td>\n      <td>2012000004</td>\n      <td>사상구 주례2동 82-13</td>\n      <td>공영</td>\n      <td>노외</td>\n      <td>8</td>\n      <td>35.154384</td>\n      <td>129.011131</td>\n    </tr>\n    <tr>\n      <th>...</th>\n      <td>...</td>\n      <td>...</td>\n      <td>...</td>\n      <td>...</td>\n      <td>...</td>\n      <td>...</td>\n      <td>...</td>\n      <td>...</td>\n      <td>...</td>\n      <td>...</td>\n    </tr>\n    <tr>\n      <th>609</th>\n      <td>구(군)직영</td>\n      <td>부산광역시 기장군청</td>\n      <td>정관읍 상업지역 노상주차장</td>\n      <td>2016000017</td>\n      <td>기장군 정관면 732</td>\n      <td>공영</td>\n      <td>노상</td>\n      <td>46</td>\n      <td>0.000000</td>\n      <td>0.000000</td>\n    </tr>\n    <tr>\n      <th>610</th>\n      <td>민간운영</td>\n      <td>부산광역시 기장군청</td>\n      <td>1구역 2소</td>\n      <td>2008000002</td>\n      <td>기장군 기장읍 280-2</td>\n      <td>공영</td>\n      <td>노상</td>\n      <td>12</td>\n      <td>35.222141</td>\n      <td>129.206947</td>\n    </tr>\n    <tr>\n      <th>611</th>\n      <td>민간운영</td>\n      <td>부산광역시 기장군청</td>\n      <td>1구역 3소</td>\n      <td>2008000003</td>\n      <td>기장군 기장읍 444-1</td>\n      <td>공영</td>\n      <td>노상</td>\n      <td>13</td>\n      <td>35.222141</td>\n      <td>129.206947</td>\n    </tr>\n    <tr>\n      <th>612</th>\n      <td>민간운영</td>\n      <td>부산광역시 기장군청</td>\n      <td>3구역 1소</td>\n      <td>2008000006</td>\n      <td>기장군 기장읍 418-12</td>\n      <td>공영</td>\n      <td>노상</td>\n      <td>24</td>\n      <td>35.222141</td>\n      <td>129.206947</td>\n    </tr>\n    <tr>\n      <th>613</th>\n      <td>시설관리공단위탁</td>\n      <td>부산광역시 기장군청</td>\n      <td>기장시장 공영주차장</td>\n      <td>2018000001</td>\n      <td>기장군 읍내로94번길 9</td>\n      <td>공영</td>\n      <td>노외</td>\n      <td>216</td>\n      <td>35.244174</td>\n      <td>129.214471</td>\n    </tr>\n  </tbody>\n</table>\n<p>614 rows × 10 columns</p>\n</div>"
     },
     "execution_count": 41,
     "metadata": {},
     "output_type": "execute_result"
    }
   ],
   "source": [
    "parkinglot_file_path = \"C:\\\\Users\\\\pwjdg\\\\바탕 화면\\\\Green-Car-Charging-Station-Site-Selection\\\\Data\\\\부산광역시 공영주차장 정보 조회.csv\"\n",
    "df_parkinglot = pd.read_csv(parkinglot_file_path,encoding='cp949')\n",
    "df_parkinglot"
   ],
   "metadata": {
    "collapsed": false,
    "pycharm": {
     "name": "#%%\n"
    }
   }
  },
  {
   "cell_type": "code",
   "execution_count": 54,
   "outputs": [
    {
     "data": {
      "text/plain": "count    614.000000\nmean      62.245928\nstd       70.352247\nmin       -4.000000\n25%       18.000000\n50%       37.500000\n75%       78.750000\nmax      414.000000\nName: 주차구획수, dtype: float64"
     },
     "execution_count": 54,
     "metadata": {},
     "output_type": "execute_result"
    }
   ],
   "source": [
    "df_parkinglot['주차구획수'].describe()"
   ],
   "metadata": {
    "collapsed": false,
    "pycharm": {
     "name": "#%%\n"
    }
   }
  },
  {
   "cell_type": "code",
   "execution_count": 49,
   "outputs": [
    {
     "data": {
      "text/plain": "관리기관명\n부산광역시 강서구청      847\n부산광역시 금정구청     4494\n부산광역시 기장군청     1515\n부산광역시 남구청      1217\n부산광역시 동구청      2496\n부산광역시 동래구청     1709\n부산광역시 부산진구청    2496\n부산광역시 북구청      2180\n부산광역시 사상구청     5671\n부산광역시 사하구청     3961\n부산광역시 서구청      2500\n부산광역시 수영구청      871\n부산광역시 연제구청      655\n부산광역시 영도구청     1691\n부산광역시 중구청      1481\n부산광역시 해운대구청    4353\nName: 주차구획수, dtype: int64"
     },
     "execution_count": 49,
     "metadata": {},
     "output_type": "execute_result"
    }
   ],
   "source": [
    "parkinglot_group = df_parkinglot.groupby('관리기관명')['주차구획수'].sum()\n",
    "parkinglot_group"
   ],
   "metadata": {
    "collapsed": false,
    "pycharm": {
     "name": "#%%\n"
    }
   }
  },
  {
   "cell_type": "markdown",
   "source": [
    "## 상위 요소 - 사회적 요인\n",
    "\n",
    "- 유동차량\n",
    "- 인구 밀집도\n",
    "- 교통 편의성(?)\n",
    "- 주변 충전소와의 거리"
   ],
   "metadata": {
    "collapsed": false
   }
  },
  {
   "cell_type": "markdown",
   "source": [
    "### 행정구역 인구 데이터 불러오기"
   ],
   "metadata": {
    "collapsed": false
   }
  },
  {
   "cell_type": "code",
   "execution_count": 42,
   "outputs": [
    {
     "data": {
      "text/plain": "    행정구역(시군구)별  총인구수 (명)\n0           전국  51592660\n1        서울특별시   9500480\n2          종로구    144005\n3           중구    122087\n4          용산구    222009\n..         ...       ...\n287        거창군     60756\n288        합천군     42613\n289    제주특별자치도    677413\n290        제주시    493076\n291       서귀포시    184337\n\n[292 rows x 2 columns]",
      "text/html": "<div>\n<style scoped>\n    .dataframe tbody tr th:only-of-type {\n        vertical-align: middle;\n    }\n\n    .dataframe tbody tr th {\n        vertical-align: top;\n    }\n\n    .dataframe thead th {\n        text-align: right;\n    }\n</style>\n<table border=\"1\" class=\"dataframe\">\n  <thead>\n    <tr style=\"text-align: right;\">\n      <th></th>\n      <th>행정구역(시군구)별</th>\n      <th>총인구수 (명)</th>\n    </tr>\n  </thead>\n  <tbody>\n    <tr>\n      <th>0</th>\n      <td>전국</td>\n      <td>51592660</td>\n    </tr>\n    <tr>\n      <th>1</th>\n      <td>서울특별시</td>\n      <td>9500480</td>\n    </tr>\n    <tr>\n      <th>2</th>\n      <td>종로구</td>\n      <td>144005</td>\n    </tr>\n    <tr>\n      <th>3</th>\n      <td>중구</td>\n      <td>122087</td>\n    </tr>\n    <tr>\n      <th>4</th>\n      <td>용산구</td>\n      <td>222009</td>\n    </tr>\n    <tr>\n      <th>...</th>\n      <td>...</td>\n      <td>...</td>\n    </tr>\n    <tr>\n      <th>287</th>\n      <td>거창군</td>\n      <td>60756</td>\n    </tr>\n    <tr>\n      <th>288</th>\n      <td>합천군</td>\n      <td>42613</td>\n    </tr>\n    <tr>\n      <th>289</th>\n      <td>제주특별자치도</td>\n      <td>677413</td>\n    </tr>\n    <tr>\n      <th>290</th>\n      <td>제주시</td>\n      <td>493076</td>\n    </tr>\n    <tr>\n      <th>291</th>\n      <td>서귀포시</td>\n      <td>184337</td>\n    </tr>\n  </tbody>\n</table>\n<p>292 rows × 2 columns</p>\n</div>"
     },
     "execution_count": 42,
     "metadata": {},
     "output_type": "execute_result"
    }
   ],
   "source": [
    "people_file_path = 'C:\\\\Users\\\\pwjdg\\\\바탕 화면\\\\Green-Car-Charging-Station-Site-Selection\\\\Data\\\\행정구역_시군구_별__성별_인구수.csv'\n",
    "df_people = pd.read_csv(people_file_path, encoding='cp949', header=1)\n",
    "df_people"
   ],
   "metadata": {
    "collapsed": false,
    "pycharm": {
     "name": "#%%\n"
    }
   }
  },
  {
   "cell_type": "code",
   "execution_count": 43,
   "outputs": [],
   "source": [
    "df_people['총인구수 (명)'] = df_people['총인구수 (명)'].astype(float)"
   ],
   "metadata": {
    "collapsed": false,
    "pycharm": {
     "name": "#%%\n"
    }
   }
  },
  {
   "cell_type": "code",
   "execution_count": 44,
   "outputs": [
    {
     "name": "stdout",
     "output_type": "stream",
     "text": [
      "<class 'pandas.core.frame.DataFrame'>\n",
      "RangeIndex: 292 entries, 0 to 291\n",
      "Data columns (total 2 columns):\n",
      " #   Column      Non-Null Count  Dtype  \n",
      "---  ------      --------------  -----  \n",
      " 0   행정구역(시군구)별  292 non-null    object \n",
      " 1   총인구수 (명)    292 non-null    float64\n",
      "dtypes: float64(1), object(1)\n",
      "memory usage: 4.7+ KB\n"
     ]
    }
   ],
   "source": [
    "df_people.info()"
   ],
   "metadata": {
    "collapsed": false,
    "pycharm": {
     "name": "#%%\n"
    }
   }
  },
  {
   "cell_type": "code",
   "execution_count": 45,
   "outputs": [],
   "source": [
    "# 0번 행(전국 수치) 삭제\n",
    "df_people.drop([0],inplace=True)"
   ],
   "metadata": {
    "collapsed": false,
    "pycharm": {
     "name": "#%%\n"
    }
   }
  },
  {
   "cell_type": "code",
   "execution_count": 46,
   "outputs": [
    {
     "data": {
      "text/plain": "    행정구역(시군구)별   총인구수 (명)\n1        서울특별시  9500480.0\n2          종로구   144005.0\n3           중구   122087.0\n4          용산구   222009.0\n5          성동구   284573.0\n..         ...        ...\n287        거창군    60756.0\n288        합천군    42613.0\n289    제주특별자치도   677413.0\n290        제주시   493076.0\n291       서귀포시   184337.0\n\n[291 rows x 2 columns]",
      "text/html": "<div>\n<style scoped>\n    .dataframe tbody tr th:only-of-type {\n        vertical-align: middle;\n    }\n\n    .dataframe tbody tr th {\n        vertical-align: top;\n    }\n\n    .dataframe thead th {\n        text-align: right;\n    }\n</style>\n<table border=\"1\" class=\"dataframe\">\n  <thead>\n    <tr style=\"text-align: right;\">\n      <th></th>\n      <th>행정구역(시군구)별</th>\n      <th>총인구수 (명)</th>\n    </tr>\n  </thead>\n  <tbody>\n    <tr>\n      <th>1</th>\n      <td>서울특별시</td>\n      <td>9500480.0</td>\n    </tr>\n    <tr>\n      <th>2</th>\n      <td>종로구</td>\n      <td>144005.0</td>\n    </tr>\n    <tr>\n      <th>3</th>\n      <td>중구</td>\n      <td>122087.0</td>\n    </tr>\n    <tr>\n      <th>4</th>\n      <td>용산구</td>\n      <td>222009.0</td>\n    </tr>\n    <tr>\n      <th>5</th>\n      <td>성동구</td>\n      <td>284573.0</td>\n    </tr>\n    <tr>\n      <th>...</th>\n      <td>...</td>\n      <td>...</td>\n    </tr>\n    <tr>\n      <th>287</th>\n      <td>거창군</td>\n      <td>60756.0</td>\n    </tr>\n    <tr>\n      <th>288</th>\n      <td>합천군</td>\n      <td>42613.0</td>\n    </tr>\n    <tr>\n      <th>289</th>\n      <td>제주특별자치도</td>\n      <td>677413.0</td>\n    </tr>\n    <tr>\n      <th>290</th>\n      <td>제주시</td>\n      <td>493076.0</td>\n    </tr>\n    <tr>\n      <th>291</th>\n      <td>서귀포시</td>\n      <td>184337.0</td>\n    </tr>\n  </tbody>\n</table>\n<p>291 rows × 2 columns</p>\n</div>"
     },
     "execution_count": 46,
     "metadata": {},
     "output_type": "execute_result"
    }
   ],
   "source": [
    "df_people"
   ],
   "metadata": {
    "collapsed": false,
    "pycharm": {
     "name": "#%%\n"
    }
   }
  },
  {
   "cell_type": "code",
   "execution_count": 47,
   "outputs": [
    {
     "data": {
      "text/plain": "            총인구수 (명)\ncount      16.000000\nmean   208763.375000\nstd     98697.592227\nmin     40585.000000\n25%    135080.250000\n50%    206521.000000\n75%    275695.000000\nmax    393130.000000",
      "text/html": "<div>\n<style scoped>\n    .dataframe tbody tr th:only-of-type {\n        vertical-align: middle;\n    }\n\n    .dataframe tbody tr th {\n        vertical-align: top;\n    }\n\n    .dataframe thead th {\n        text-align: right;\n    }\n</style>\n<table border=\"1\" class=\"dataframe\">\n  <thead>\n    <tr style=\"text-align: right;\">\n      <th></th>\n      <th>총인구수 (명)</th>\n    </tr>\n  </thead>\n  <tbody>\n    <tr>\n      <th>count</th>\n      <td>16.000000</td>\n    </tr>\n    <tr>\n      <th>mean</th>\n      <td>208763.375000</td>\n    </tr>\n    <tr>\n      <th>std</th>\n      <td>98697.592227</td>\n    </tr>\n    <tr>\n      <th>min</th>\n      <td>40585.000000</td>\n    </tr>\n    <tr>\n      <th>25%</th>\n      <td>135080.250000</td>\n    </tr>\n    <tr>\n      <th>50%</th>\n      <td>206521.000000</td>\n    </tr>\n    <tr>\n      <th>75%</th>\n      <td>275695.000000</td>\n    </tr>\n    <tr>\n      <th>max</th>\n      <td>393130.000000</td>\n    </tr>\n  </tbody>\n</table>\n</div>"
     },
     "execution_count": 47,
     "metadata": {},
     "output_type": "execute_result"
    }
   ],
   "source": [
    "# 부산에 대한 통계 요약.\n",
    "busan_people_describe  = df_people.iloc[27:43, :].describe()\n",
    "busan_people_describe"
   ],
   "metadata": {
    "collapsed": false,
    "pycharm": {
     "name": "#%%\n"
    }
   }
  },
  {
   "cell_type": "markdown",
   "source": [
    "### 전기차 충전소 데이터 불러오기"
   ],
   "metadata": {
    "collapsed": false,
    "pycharm": {
     "name": "#%% md\n"
    }
   }
  },
  {
   "cell_type": "code",
   "execution_count": 107,
   "outputs": [
    {
     "data": {
      "text/plain": "                운영기관         충전소  충전기ID            충전기타입      지역   시군구  \\\n0     환경부(한국자동차환경협회)  kbs 부산방송총국      1  DC차데모+AC3상+DC콤보  부산광역시   수영구    \n1     환경부(한국자동차환경협회)  kbs 부산방송총국     11             DC콤보  부산광역시   수영구    \n2     환경부(한국자동차환경협회)  kbs 부산방송총국     12             DC콤보  부산광역시   수영구    \n3     환경부(한국자동차환경협회)     국립부산과학관     11             DC콤보  부산광역시   기장군    \n4     환경부(한국자동차환경협회)     국립부산과학관     12             DC콤보  부산광역시   기장군    \n...              ...         ...    ...              ...     ...   ...   \n6291          한국전자금융    부산 플러스타워      1             AC완속  부산광역시   강서구    \n6292          한국전자금융    부산 플러스타워      2             AC완속  부산광역시   강서구    \n6293          한국전자금융   부산 휴마트괴정점      1             AC완속  부산광역시   사하구    \n6294          한국전자금융   부산 휴마트괴정점      2             AC완속  부산광역시   사하구    \n6295          한국전자금융   부산 휴마트괴정점      3             AC완속  부산광역시   사하구    \n\n                                            주소         위도          경도  \n0                            부산광역시 수영구 수영로 429  35.144806  129.107595  \n1                            부산광역시 수영구 수영로 429  35.144806  129.107595  \n2                            부산광역시 수영구 수영로 429  35.144806  129.107595  \n3                        부산광역시 기장군 기장읍 석산리 293  35.204002  129.212987  \n4                        부산광역시 기장군 기장읍 석산리 293  35.204002  129.212987  \n...                                        ...        ...         ...  \n6291  부산광역시 강서구 명지국제1로 56-1플러스타워(3598-2 플러스타워)  35.093685  128.905372  \n6292  부산광역시 강서구 명지국제1로 56-1플러스타워(3598-2 플러스타워)  35.093685  128.905372  \n6293       부산광역시 사하구 낙동대로 123휴마트괴정점(괴정동 358-1)  35.103200  129.002528  \n6294       부산광역시 사하구 낙동대로 123휴마트괴정점(괴정동 358-1)  35.103200  129.002528  \n6295       부산광역시 사하구 낙동대로 123휴마트괴정점(괴정동 358-1)  35.103200  129.002528  \n\n[6296 rows x 9 columns]",
      "text/html": "<div>\n<style scoped>\n    .dataframe tbody tr th:only-of-type {\n        vertical-align: middle;\n    }\n\n    .dataframe tbody tr th {\n        vertical-align: top;\n    }\n\n    .dataframe thead th {\n        text-align: right;\n    }\n</style>\n<table border=\"1\" class=\"dataframe\">\n  <thead>\n    <tr style=\"text-align: right;\">\n      <th></th>\n      <th>운영기관</th>\n      <th>충전소</th>\n      <th>충전기ID</th>\n      <th>충전기타입</th>\n      <th>지역</th>\n      <th>시군구</th>\n      <th>주소</th>\n      <th>위도</th>\n      <th>경도</th>\n    </tr>\n  </thead>\n  <tbody>\n    <tr>\n      <th>0</th>\n      <td>환경부(한국자동차환경협회)</td>\n      <td>kbs 부산방송총국</td>\n      <td>1</td>\n      <td>DC차데모+AC3상+DC콤보</td>\n      <td>부산광역시</td>\n      <td>수영구</td>\n      <td>부산광역시 수영구 수영로 429</td>\n      <td>35.144806</td>\n      <td>129.107595</td>\n    </tr>\n    <tr>\n      <th>1</th>\n      <td>환경부(한국자동차환경협회)</td>\n      <td>kbs 부산방송총국</td>\n      <td>11</td>\n      <td>DC콤보</td>\n      <td>부산광역시</td>\n      <td>수영구</td>\n      <td>부산광역시 수영구 수영로 429</td>\n      <td>35.144806</td>\n      <td>129.107595</td>\n    </tr>\n    <tr>\n      <th>2</th>\n      <td>환경부(한국자동차환경협회)</td>\n      <td>kbs 부산방송총국</td>\n      <td>12</td>\n      <td>DC콤보</td>\n      <td>부산광역시</td>\n      <td>수영구</td>\n      <td>부산광역시 수영구 수영로 429</td>\n      <td>35.144806</td>\n      <td>129.107595</td>\n    </tr>\n    <tr>\n      <th>3</th>\n      <td>환경부(한국자동차환경협회)</td>\n      <td>국립부산과학관</td>\n      <td>11</td>\n      <td>DC콤보</td>\n      <td>부산광역시</td>\n      <td>기장군</td>\n      <td>부산광역시 기장군 기장읍 석산리 293</td>\n      <td>35.204002</td>\n      <td>129.212987</td>\n    </tr>\n    <tr>\n      <th>4</th>\n      <td>환경부(한국자동차환경협회)</td>\n      <td>국립부산과학관</td>\n      <td>12</td>\n      <td>DC콤보</td>\n      <td>부산광역시</td>\n      <td>기장군</td>\n      <td>부산광역시 기장군 기장읍 석산리 293</td>\n      <td>35.204002</td>\n      <td>129.212987</td>\n    </tr>\n    <tr>\n      <th>...</th>\n      <td>...</td>\n      <td>...</td>\n      <td>...</td>\n      <td>...</td>\n      <td>...</td>\n      <td>...</td>\n      <td>...</td>\n      <td>...</td>\n      <td>...</td>\n    </tr>\n    <tr>\n      <th>6291</th>\n      <td>한국전자금융</td>\n      <td>부산 플러스타워</td>\n      <td>1</td>\n      <td>AC완속</td>\n      <td>부산광역시</td>\n      <td>강서구</td>\n      <td>부산광역시 강서구 명지국제1로 56-1플러스타워(3598-2 플러스타워)</td>\n      <td>35.093685</td>\n      <td>128.905372</td>\n    </tr>\n    <tr>\n      <th>6292</th>\n      <td>한국전자금융</td>\n      <td>부산 플러스타워</td>\n      <td>2</td>\n      <td>AC완속</td>\n      <td>부산광역시</td>\n      <td>강서구</td>\n      <td>부산광역시 강서구 명지국제1로 56-1플러스타워(3598-2 플러스타워)</td>\n      <td>35.093685</td>\n      <td>128.905372</td>\n    </tr>\n    <tr>\n      <th>6293</th>\n      <td>한국전자금융</td>\n      <td>부산 휴마트괴정점</td>\n      <td>1</td>\n      <td>AC완속</td>\n      <td>부산광역시</td>\n      <td>사하구</td>\n      <td>부산광역시 사하구 낙동대로 123휴마트괴정점(괴정동 358-1)</td>\n      <td>35.103200</td>\n      <td>129.002528</td>\n    </tr>\n    <tr>\n      <th>6294</th>\n      <td>한국전자금융</td>\n      <td>부산 휴마트괴정점</td>\n      <td>2</td>\n      <td>AC완속</td>\n      <td>부산광역시</td>\n      <td>사하구</td>\n      <td>부산광역시 사하구 낙동대로 123휴마트괴정점(괴정동 358-1)</td>\n      <td>35.103200</td>\n      <td>129.002528</td>\n    </tr>\n    <tr>\n      <th>6295</th>\n      <td>한국전자금융</td>\n      <td>부산 휴마트괴정점</td>\n      <td>3</td>\n      <td>AC완속</td>\n      <td>부산광역시</td>\n      <td>사하구</td>\n      <td>부산광역시 사하구 낙동대로 123휴마트괴정점(괴정동 358-1)</td>\n      <td>35.103200</td>\n      <td>129.002528</td>\n    </tr>\n  </tbody>\n</table>\n<p>6296 rows × 9 columns</p>\n</div>"
     },
     "execution_count": 107,
     "metadata": {},
     "output_type": "execute_result"
    }
   ],
   "source": [
    "evcs_file_path = \"C:\\\\Users\\\\pwjdg\\\\바탕 화면\\\\Green-Car-Charging-Station-Site-Selection\\\\Data\\\\부산 충전소 정보.csv\"\n",
    "df_evcs = pd.read_csv(evcs_file_path, encoding='cp949')\n",
    "df_evcs"
   ],
   "metadata": {
    "collapsed": false,
    "pycharm": {
     "name": "#%%\n"
    }
   }
  },
  {
   "cell_type": "markdown",
   "source": [
    "### 수소차 충전소 데이터 불러오기"
   ],
   "metadata": {
    "collapsed": false
   }
  },
  {
   "cell_type": "code",
   "execution_count": 59,
   "outputs": [
    {
     "data": {
      "text/plain": "               충전소  충전기                       주소         위도          경도\n0          상암수소충전소    1     서울특별시 마포구 하늘공원로 108   37.569685  126.880073\n1        마곡에코수소충전소    1       서울특별시 강서구 양천로 225   37.573016  126.829208\n2          오곡수소충전소    1       서울특별시 강서구 벌말로 271   37.555845  126.768181\n3         H국회수소충전소    1      서울특별시 영등포구 의사당대로 1   37.532912  126.916404\n4          양재수소충전소    1    서울특별시 서초구 바우뫼로12길 73   37.468378  127.034374\n..             ...  ...                      ...        ...         ...\n105  하이넷 통영용남수소충전소    1   경상남도 통영시 용남면 남해안대로 38   34.891246  128.471819\n106        김해수소충전소    2  경상남도 김해시 김해대로2596번길 53    0.000000    0.000000\n107  하이넷 거제장평수소충전소    1      경상남도 거제시 거제대로 5050   34.894764  128.587447\n108     양산시증산수소충전소    1    경상남도 양산시 물금읍 메기로 114   35.303404  129.010257\n109       H함안수소충전소    1    경상남도 함안군 군북면 현포로 205   35.293467  128.348064\n\n[110 rows x 5 columns]",
      "text/html": "<div>\n<style scoped>\n    .dataframe tbody tr th:only-of-type {\n        vertical-align: middle;\n    }\n\n    .dataframe tbody tr th {\n        vertical-align: top;\n    }\n\n    .dataframe thead th {\n        text-align: right;\n    }\n</style>\n<table border=\"1\" class=\"dataframe\">\n  <thead>\n    <tr style=\"text-align: right;\">\n      <th></th>\n      <th>충전소</th>\n      <th>충전기</th>\n      <th>주소</th>\n      <th>위도</th>\n      <th>경도</th>\n    </tr>\n  </thead>\n  <tbody>\n    <tr>\n      <th>0</th>\n      <td>상암수소충전소</td>\n      <td>1</td>\n      <td>서울특별시 마포구 하늘공원로 108</td>\n      <td>37.569685</td>\n      <td>126.880073</td>\n    </tr>\n    <tr>\n      <th>1</th>\n      <td>마곡에코수소충전소</td>\n      <td>1</td>\n      <td>서울특별시 강서구 양천로 225</td>\n      <td>37.573016</td>\n      <td>126.829208</td>\n    </tr>\n    <tr>\n      <th>2</th>\n      <td>오곡수소충전소</td>\n      <td>1</td>\n      <td>서울특별시 강서구 벌말로 271</td>\n      <td>37.555845</td>\n      <td>126.768181</td>\n    </tr>\n    <tr>\n      <th>3</th>\n      <td>H국회수소충전소</td>\n      <td>1</td>\n      <td>서울특별시 영등포구 의사당대로 1</td>\n      <td>37.532912</td>\n      <td>126.916404</td>\n    </tr>\n    <tr>\n      <th>4</th>\n      <td>양재수소충전소</td>\n      <td>1</td>\n      <td>서울특별시 서초구 바우뫼로12길 73</td>\n      <td>37.468378</td>\n      <td>127.034374</td>\n    </tr>\n    <tr>\n      <th>...</th>\n      <td>...</td>\n      <td>...</td>\n      <td>...</td>\n      <td>...</td>\n      <td>...</td>\n    </tr>\n    <tr>\n      <th>105</th>\n      <td>하이넷 통영용남수소충전소</td>\n      <td>1</td>\n      <td>경상남도 통영시 용남면 남해안대로 38</td>\n      <td>34.891246</td>\n      <td>128.471819</td>\n    </tr>\n    <tr>\n      <th>106</th>\n      <td>김해수소충전소</td>\n      <td>2</td>\n      <td>경상남도 김해시 김해대로2596번길 53</td>\n      <td>0.000000</td>\n      <td>0.000000</td>\n    </tr>\n    <tr>\n      <th>107</th>\n      <td>하이넷 거제장평수소충전소</td>\n      <td>1</td>\n      <td>경상남도 거제시 거제대로 5050</td>\n      <td>34.894764</td>\n      <td>128.587447</td>\n    </tr>\n    <tr>\n      <th>108</th>\n      <td>양산시증산수소충전소</td>\n      <td>1</td>\n      <td>경상남도 양산시 물금읍 메기로 114</td>\n      <td>35.303404</td>\n      <td>129.010257</td>\n    </tr>\n    <tr>\n      <th>109</th>\n      <td>H함안수소충전소</td>\n      <td>1</td>\n      <td>경상남도 함안군 군북면 현포로 205</td>\n      <td>35.293467</td>\n      <td>128.348064</td>\n    </tr>\n  </tbody>\n</table>\n<p>110 rows × 5 columns</p>\n</div>"
     },
     "execution_count": 59,
     "metadata": {},
     "output_type": "execute_result"
    }
   ],
   "source": [
    "hvcs_file_path = 'C:\\\\Users\\\\pwjdg\\\\바탕 화면\\\\Green-Car-Charging-Station-Site-Selection\\\\Data\\\\수소차 충전소.csv'\n",
    "df_hvcs = pd.read_csv(hvcs_file_path, encoding='cp949')\n",
    "df_hvcs"
   ],
   "metadata": {
    "collapsed": false,
    "pycharm": {
     "name": "#%%\n"
    }
   }
  },
  {
   "cell_type": "code",
   "execution_count": 67,
   "outputs": [
    {
     "name": "stdout",
     "output_type": "stream",
     "text": [
      "<class 'pandas.core.frame.DataFrame'>\n",
      "RangeIndex: 110 entries, 0 to 109\n",
      "Data columns (total 5 columns):\n",
      " #   Column  Non-Null Count  Dtype  \n",
      "---  ------  --------------  -----  \n",
      " 0   충전소     110 non-null    object \n",
      " 1   충전기     110 non-null    int64  \n",
      " 2   주소      110 non-null    object \n",
      " 3   위도      110 non-null    float64\n",
      " 4   경도      110 non-null    float64\n",
      "dtypes: float64(2), int64(1), object(2)\n",
      "memory usage: 4.4+ KB\n"
     ]
    }
   ],
   "source": [
    "df_hvcs.info()"
   ],
   "metadata": {
    "collapsed": false,
    "pycharm": {
     "name": "#%%\n"
    }
   }
  },
  {
   "cell_type": "code",
   "execution_count": 70,
   "outputs": [
    {
     "data": {
      "text/plain": "136"
     },
     "execution_count": 70,
     "metadata": {},
     "output_type": "execute_result"
    }
   ],
   "source": [
    "# 전국 수소 충전소 총 갯수\n",
    "df_hvcs['충전기'].sum()"
   ],
   "metadata": {
    "collapsed": false,
    "pycharm": {
     "name": "#%%\n"
    }
   }
  },
  {
   "cell_type": "markdown",
   "source": [
    "## 상위 요소 - 경제적 요인\n",
    "\n",
    "전기차의 경우\n",
    "- 충전소 설치 비용\n",
    "- 유지 보수 비용\n",
    "\n",
    "수소차의 경우\n",
    "- 연료 운송비\n",
    "- 충전소 구축 비용\n",
    "- 유지 보수 비용"
   ],
   "metadata": {
    "collapsed": false,
    "pycharm": {
     "name": "#%% md\n"
    }
   }
  }
 ],
 "metadata": {
  "kernelspec": {
   "display_name": "Python 3 (ipykernel)",
   "language": "python",
   "name": "python3"
  },
  "language_info": {
   "codemirror_mode": {
    "name": "ipython",
    "version": 3
   },
   "file_extension": ".py",
   "mimetype": "text/x-python",
   "name": "python",
   "nbconvert_exporter": "python",
   "pygments_lexer": "ipython3",
   "version": "3.10.4"
  }
 },
 "nbformat": 4,
 "nbformat_minor": 4
}