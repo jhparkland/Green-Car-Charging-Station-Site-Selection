{
 "cells": [
  {
   "cell_type": "code",
   "execution_count": 266,
   "outputs": [],
   "source": [
    "from bs4 import BeautifulSoup\n",
    "from selenium import webdriver\n",
    "from selenium.webdriver.common.by import By\n",
    "import pandas as pd\n",
    "import time"
   ],
   "metadata": {
    "collapsed": false,
    "pycharm": {
     "name": "#%%\n"
    }
   }
  },
  {
   "cell_type": "code",
   "execution_count": 267,
   "outputs": [],
   "source": [
    "# query_txt = input('주소 입력')"
   ],
   "metadata": {
    "collapsed": false,
    "pycharm": {
     "name": "#%%\n"
    }
   }
  },
  {
   "cell_type": "code",
   "execution_count": 268,
   "outputs": [],
   "source": [
    "# query_txt"
   ],
   "metadata": {
    "collapsed": false,
    "pycharm": {
     "name": "#%%\n"
    }
   }
  },
  {
   "cell_type": "code",
   "execution_count": 269,
   "outputs": [],
   "source": [
    "# # 크롬 드라이버 사용해서 웹 실행\n",
    "# chromedriver_path = 'chromedriver.exe'\n",
    "# driver = webdriver.Chrome(chromedriver_path)\n",
    "# #recent > input"
   ],
   "metadata": {
    "collapsed": false,
    "pycharm": {
     "name": "#%%\n"
    }
   }
  },
  {
   "cell_type": "code",
   "execution_count": 270,
   "outputs": [],
   "source": [
    "# driver.get(\"https://www.eum.go.kr/web/am/amMain.jsp\")\n",
    "# time.sleep(1)"
   ],
   "metadata": {
    "collapsed": false,
    "pycharm": {
     "name": "#%%\n"
    }
   }
  },
  {
   "cell_type": "code",
   "execution_count": 271,
   "outputs": [],
   "source": [
    "# driver.find_element(By.CSS_SELECTOR, \"#recent > input\").click()\n",
    "# element_input = driver.find_element(By.CSS_SELECTOR, \"#recent > input\")\n",
    "# element_input.send_keys(query_txt)"
   ],
   "metadata": {
    "collapsed": false,
    "pycharm": {
     "name": "#%%\n"
    }
   }
  },
  {
   "cell_type": "code",
   "execution_count": 272,
   "outputs": [],
   "source": [
    "# time.sleep(2)\n",
    "# select = driver.find_element(By.CSS_SELECTOR, \"#recent > div.recent_list.addrDiv > div > ul > li:nth-child(1) \")\n",
    "# select.find_element(By.CSS_SELECTOR, \"a\").click()"
   ],
   "metadata": {
    "collapsed": false,
    "pycharm": {
     "name": "#%%\n"
    }
   }
  },
  {
   "cell_type": "code",
   "execution_count": 273,
   "outputs": [
    {
     "data": {
      "text/plain": "['부산 강서구 경전철로188번길 95',\n '부산 강서구 공항로 459',\n '부산 강서구 낙동남로 507 ',\n '부산 강서구 낙동북로 310 ',\n '부산 강서구 르노삼성대로 560',\n '부산 강서구 르노삼성대로 61',\n '부산 강서구 체육공원로 24 ',\n '부산 강서구 호계로 102 ',\n '부산 강서구 호계로 195 ',\n '부산 금정구 개좌로 225-15 ',\n '부산 금정구 반송로 433 ',\n '부산 금정구 반송로 494',\n '부산 기장군 기장읍 기장대로 333 A동',\n '부산 기장군 기장읍 기장대로 530 ',\n '부산 기장군 기장읍 기장대로413번길 38',\n '부산 기장군 일광면 기장대로 1000 ',\n '부산 기장군 일광면 기장대로 1216 ',\n '부산 기장군 일광면 기장대로 693',\n '부산 기장군 장안읍 기장대로 1451 ',\n '부산 기장군 장안읍 동해고속도로 25',\n '부산 기장군 장안읍 동해고속도로 26',\n '부산 기장군 정관읍 신정관로 187 ',\n '부산 기장군 정관읍 정관로 907',\n '부산 기장군 정관읍 정관산업로 1143',\n '부산 기장군 철마면 반송로 1022',\n '부산 남구 수영로 212',\n '부산 동구 성남로 42',\n '부산 동구 성남로 74-3',\n '부산 동구 자성로133번길 39',\n '부산 동구 중앙대로 310',\n '부산 동구 중앙대로 334',\n '부산 동구 중앙대로 348',\n '부산 동래구 명륜로 48',\n '부산 북구 금곡대로 103',\n '부산 북구 금곡대로 704',\n '부산 북구 만덕대로 327-0',\n '부산 북구 사상로 613',\n '부산 사상구 가야대로 157',\n '부산 사상구 가야대로 203',\n '부산 사상구 가야대로 75',\n '부산 사상구 가야대로176번길 92 ',\n '부산 사상구 강변대로 412',\n '부산 사상구 낙동대로 1384',\n '부산 사상구 낙동대로 878',\n '부산 사상구 낙동대로 939',\n '부산 사상구 사상로 339',\n '부산 사상구 학감대로 102',\n '부산 사상구 학장로 165',\n '부산 사상구 학장로 21',\n '부산 사하구 다대로 309',\n '부산 사하구 사하로 90',\n '부산 사하구 을숙도대로 530',\n '부산 사하구 을숙도대로 583',\n '부산 사하구 장림로 139',\n '부산 사하구 장림로 278',\n '부산 서구 충무대로 180',\n '부산 수영구 수영로 749',\n '부산 연제구 명륜로 15',\n '부산 연제구 월드컵대로 399',\n '부산 영도구 영선대로 41',\n '부산 영도구 해양로 160',\n '부산 영도구 해양로 296',\n '부산 해운대구 해운대로 1255']"
     },
     "execution_count": 273,
     "metadata": {},
     "output_type": "execute_result"
    }
   ],
   "source": [
    "path = \"C:\\\\Users\\\\pwjdg\\\\바탕 화면\\\\Green-Car-Charging-Station-Site-Selection\\\\Data\\\\부산 LPG 충전소 현황.csv\"\n",
    "df_lpg = pd.read_csv(path, encoding='cp949')\n",
    "addr = df_lpg['소재지'].tolist()\n",
    "addr"
   ],
   "metadata": {
    "collapsed": false,
    "pycharm": {
     "name": "#%%\n"
    }
   }
  },
  {
   "cell_type": "code",
   "execution_count": 274,
   "outputs": [],
   "source": [
    "area = []\n",
    "money = []"
   ],
   "metadata": {
    "collapsed": false,
    "pycharm": {
     "name": "#%%\n"
    }
   }
  },
  {
   "cell_type": "code",
   "execution_count": 275,
   "outputs": [
    {
     "name": "stderr",
     "output_type": "stream",
     "text": [
      "C:\\Users\\pwjdg\\AppData\\Local\\Temp\\ipykernel_28000\\3809460767.py:3: DeprecationWarning: executable_path has been deprecated, please pass in a Service object\n",
      "  driver = webdriver.Chrome(chromedriver_path)\n"
     ]
    },
    {
     "ename": "ElementNotInteractableException",
     "evalue": "Message: element not interactable\n  (Session info: chrome=103.0.5060.114)\nStacktrace:\nBacktrace:\n\tOrdinal0 [0x010C6463+2188387]\n\tOrdinal0 [0x0105E461+1762401]\n\tOrdinal0 [0x00F73C40+801856]\n\tOrdinal0 [0x00FA2873+993395]\n\tOrdinal0 [0x00F98613+951827]\n\tOrdinal0 [0x00FBC7DC+1099740]\n\tOrdinal0 [0x00F97FF4+950260]\n\tOrdinal0 [0x00FBC9F4+1100276]\n\tOrdinal0 [0x00FCCC22+1166370]\n\tOrdinal0 [0x00FBC5F6+1099254]\n\tOrdinal0 [0x00F96BE0+945120]\n\tOrdinal0 [0x00F97AD6+948950]\n\tGetHandleVerifier [0x013671F2+2712546]\n\tGetHandleVerifier [0x0135886D+2652765]\n\tGetHandleVerifier [0x0115002A+520730]\n\tGetHandleVerifier [0x0114EE06+516086]\n\tOrdinal0 [0x0106468B+1787531]\n\tOrdinal0 [0x01068E88+1805960]\n\tOrdinal0 [0x01068F75+1806197]\n\tOrdinal0 [0x01071DF1+1842673]\n\tBaseThreadInitThunk [0x75C16739+25]\n\tRtlGetFullPathName_UEx [0x77858FEF+1215]\n\tRtlGetFullPathName_UEx [0x77858FBD+1165]\n",
     "output_type": "error",
     "traceback": [
      "\u001B[1;31m---------------------------------------------------------------------------\u001B[0m",
      "\u001B[1;31mElementNotInteractableException\u001B[0m           Traceback (most recent call last)",
      "Input \u001B[1;32mIn [275]\u001B[0m, in \u001B[0;36m<cell line: 1>\u001B[1;34m()\u001B[0m\n\u001B[0;32m     11\u001B[0m time\u001B[38;5;241m.\u001B[39msleep(\u001B[38;5;241m2\u001B[39m)\n\u001B[0;32m     12\u001B[0m select \u001B[38;5;241m=\u001B[39m driver\u001B[38;5;241m.\u001B[39mfind_element(By\u001B[38;5;241m.\u001B[39mCSS_SELECTOR, \u001B[38;5;124m\"\u001B[39m\u001B[38;5;124m#recent > div.recent_list.addrDiv > div > ul > li:nth-child(1) \u001B[39m\u001B[38;5;124m\"\u001B[39m)\n\u001B[1;32m---> 13\u001B[0m \u001B[43mselect\u001B[49m\u001B[38;5;241;43m.\u001B[39;49m\u001B[43mfind_element\u001B[49m\u001B[43m(\u001B[49m\u001B[43mBy\u001B[49m\u001B[38;5;241;43m.\u001B[39;49m\u001B[43mCSS_SELECTOR\u001B[49m\u001B[43m,\u001B[49m\u001B[43m \u001B[49m\u001B[38;5;124;43m\"\u001B[39;49m\u001B[38;5;124;43ma\u001B[39;49m\u001B[38;5;124;43m\"\u001B[39;49m\u001B[43m)\u001B[49m\u001B[38;5;241;43m.\u001B[39;49m\u001B[43mclick\u001B[49m\u001B[43m(\u001B[49m\u001B[43m)\u001B[49m\n\u001B[0;32m     14\u001B[0m time\u001B[38;5;241m.\u001B[39msleep(\u001B[38;5;241m2\u001B[39m)\n\u001B[0;32m     16\u001B[0m area\u001B[38;5;241m.\u001B[39mappend(driver\u001B[38;5;241m.\u001B[39mfind_element(By\u001B[38;5;241m.\u001B[39mCSS_SELECTOR, \u001B[38;5;124m\"\u001B[39m\u001B[38;5;124m#present_area\u001B[39m\u001B[38;5;124m\"\u001B[39m)\u001B[38;5;241m.\u001B[39mtext)\n",
      "File \u001B[1;32m~\\anaconda3\\envs\\GVCS\\lib\\site-packages\\selenium\\webdriver\\remote\\webelement.py:88\u001B[0m, in \u001B[0;36mWebElement.click\u001B[1;34m(self)\u001B[0m\n\u001B[0;32m     86\u001B[0m \u001B[38;5;28;01mdef\u001B[39;00m \u001B[38;5;21mclick\u001B[39m(\u001B[38;5;28mself\u001B[39m) \u001B[38;5;241m-\u001B[39m\u001B[38;5;241m>\u001B[39m \u001B[38;5;28;01mNone\u001B[39;00m:\n\u001B[0;32m     87\u001B[0m     \u001B[38;5;124;03m\"\"\"Clicks the element.\"\"\"\u001B[39;00m\n\u001B[1;32m---> 88\u001B[0m     \u001B[38;5;28;43mself\u001B[39;49m\u001B[38;5;241;43m.\u001B[39;49m\u001B[43m_execute\u001B[49m\u001B[43m(\u001B[49m\u001B[43mCommand\u001B[49m\u001B[38;5;241;43m.\u001B[39;49m\u001B[43mCLICK_ELEMENT\u001B[49m\u001B[43m)\u001B[49m\n",
      "File \u001B[1;32m~\\anaconda3\\envs\\GVCS\\lib\\site-packages\\selenium\\webdriver\\remote\\webelement.py:396\u001B[0m, in \u001B[0;36mWebElement._execute\u001B[1;34m(self, command, params)\u001B[0m\n\u001B[0;32m    394\u001B[0m     params \u001B[38;5;241m=\u001B[39m {}\n\u001B[0;32m    395\u001B[0m params[\u001B[38;5;124m'\u001B[39m\u001B[38;5;124mid\u001B[39m\u001B[38;5;124m'\u001B[39m] \u001B[38;5;241m=\u001B[39m \u001B[38;5;28mself\u001B[39m\u001B[38;5;241m.\u001B[39m_id\n\u001B[1;32m--> 396\u001B[0m \u001B[38;5;28;01mreturn\u001B[39;00m \u001B[38;5;28;43mself\u001B[39;49m\u001B[38;5;241;43m.\u001B[39;49m\u001B[43m_parent\u001B[49m\u001B[38;5;241;43m.\u001B[39;49m\u001B[43mexecute\u001B[49m\u001B[43m(\u001B[49m\u001B[43mcommand\u001B[49m\u001B[43m,\u001B[49m\u001B[43m \u001B[49m\u001B[43mparams\u001B[49m\u001B[43m)\u001B[49m\n",
      "File \u001B[1;32m~\\anaconda3\\envs\\GVCS\\lib\\site-packages\\selenium\\webdriver\\remote\\webdriver.py:435\u001B[0m, in \u001B[0;36mWebDriver.execute\u001B[1;34m(self, driver_command, params)\u001B[0m\n\u001B[0;32m    433\u001B[0m response \u001B[38;5;241m=\u001B[39m \u001B[38;5;28mself\u001B[39m\u001B[38;5;241m.\u001B[39mcommand_executor\u001B[38;5;241m.\u001B[39mexecute(driver_command, params)\n\u001B[0;32m    434\u001B[0m \u001B[38;5;28;01mif\u001B[39;00m response:\n\u001B[1;32m--> 435\u001B[0m     \u001B[38;5;28;43mself\u001B[39;49m\u001B[38;5;241;43m.\u001B[39;49m\u001B[43merror_handler\u001B[49m\u001B[38;5;241;43m.\u001B[39;49m\u001B[43mcheck_response\u001B[49m\u001B[43m(\u001B[49m\u001B[43mresponse\u001B[49m\u001B[43m)\u001B[49m\n\u001B[0;32m    436\u001B[0m     response[\u001B[38;5;124m'\u001B[39m\u001B[38;5;124mvalue\u001B[39m\u001B[38;5;124m'\u001B[39m] \u001B[38;5;241m=\u001B[39m \u001B[38;5;28mself\u001B[39m\u001B[38;5;241m.\u001B[39m_unwrap_value(\n\u001B[0;32m    437\u001B[0m         response\u001B[38;5;241m.\u001B[39mget(\u001B[38;5;124m'\u001B[39m\u001B[38;5;124mvalue\u001B[39m\u001B[38;5;124m'\u001B[39m, \u001B[38;5;28;01mNone\u001B[39;00m))\n\u001B[0;32m    438\u001B[0m     \u001B[38;5;28;01mreturn\u001B[39;00m response\n",
      "File \u001B[1;32m~\\anaconda3\\envs\\GVCS\\lib\\site-packages\\selenium\\webdriver\\remote\\errorhandler.py:247\u001B[0m, in \u001B[0;36mErrorHandler.check_response\u001B[1;34m(self, response)\u001B[0m\n\u001B[0;32m    245\u001B[0m         alert_text \u001B[38;5;241m=\u001B[39m value[\u001B[38;5;124m'\u001B[39m\u001B[38;5;124malert\u001B[39m\u001B[38;5;124m'\u001B[39m]\u001B[38;5;241m.\u001B[39mget(\u001B[38;5;124m'\u001B[39m\u001B[38;5;124mtext\u001B[39m\u001B[38;5;124m'\u001B[39m)\n\u001B[0;32m    246\u001B[0m     \u001B[38;5;28;01mraise\u001B[39;00m exception_class(message, screen, stacktrace, alert_text)  \u001B[38;5;66;03m# type: ignore[call-arg]  # mypy is not smart enough here\u001B[39;00m\n\u001B[1;32m--> 247\u001B[0m \u001B[38;5;28;01mraise\u001B[39;00m exception_class(message, screen, stacktrace)\n",
      "\u001B[1;31mElementNotInteractableException\u001B[0m: Message: element not interactable\n  (Session info: chrome=103.0.5060.114)\nStacktrace:\nBacktrace:\n\tOrdinal0 [0x010C6463+2188387]\n\tOrdinal0 [0x0105E461+1762401]\n\tOrdinal0 [0x00F73C40+801856]\n\tOrdinal0 [0x00FA2873+993395]\n\tOrdinal0 [0x00F98613+951827]\n\tOrdinal0 [0x00FBC7DC+1099740]\n\tOrdinal0 [0x00F97FF4+950260]\n\tOrdinal0 [0x00FBC9F4+1100276]\n\tOrdinal0 [0x00FCCC22+1166370]\n\tOrdinal0 [0x00FBC5F6+1099254]\n\tOrdinal0 [0x00F96BE0+945120]\n\tOrdinal0 [0x00F97AD6+948950]\n\tGetHandleVerifier [0x013671F2+2712546]\n\tGetHandleVerifier [0x0135886D+2652765]\n\tGetHandleVerifier [0x0115002A+520730]\n\tGetHandleVerifier [0x0114EE06+516086]\n\tOrdinal0 [0x0106468B+1787531]\n\tOrdinal0 [0x01068E88+1805960]\n\tOrdinal0 [0x01068F75+1806197]\n\tOrdinal0 [0x01071DF1+1842673]\n\tBaseThreadInitThunk [0x75C16739+25]\n\tRtlGetFullPathName_UEx [0x77858FEF+1215]\n\tRtlGetFullPathName_UEx [0x77858FBD+1165]\n"
     ]
    }
   ],
   "source": [
    "for a in addr:\n",
    "    chromedriver_path = 'chromedriver.exe'\n",
    "    driver = webdriver.Chrome(chromedriver_path)\n",
    "    driver.get(\"https://www.eum.go.kr/web/am/amMain.jsp\")\n",
    "    time.sleep(2)\n",
    "\n",
    "    driver.find_element(By.CSS_SELECTOR, \"#recent > input\").click()\n",
    "    element_input = driver.find_element(By.CSS_SELECTOR, \"#recent > input\")\n",
    "    element_input.send_keys(a)\n",
    "\n",
    "    time.sleep(2)\n",
    "    select = driver.find_element(By.CSS_SELECTOR, \"#recent > div.recent_list.addrDiv > div > ul > li:nth-child(1) \")\n",
    "    select.find_element(By.CSS_SELECTOR, \"a\").click()\n",
    "    time.sleep(2)\n",
    "\n",
    "    area.append(driver.find_element(By.CSS_SELECTOR, \"#present_area\").text)\n",
    "\n",
    "    money.append(driver.find_element(By.CSS_SELECTOR, \"#appoint > div:nth-child(2) > table > tbody > tr:nth-child(3) > td\").text)"
   ],
   "metadata": {
    "collapsed": false,
    "pycharm": {
     "name": "#%%\n"
    }
   }
  }
 ],
 "metadata": {
  "kernelspec": {
   "display_name": "Python 3",
   "language": "python",
   "name": "python3"
  },
  "language_info": {
   "codemirror_mode": {
    "name": "ipython",
    "version": 2
   },
   "file_extension": ".py",
   "mimetype": "text/x-python",
   "name": "python",
   "nbconvert_exporter": "python",
   "pygments_lexer": "ipython2",
   "version": "2.7.6"
  }
 },
 "nbformat": 4,
 "nbformat_minor": 0
}