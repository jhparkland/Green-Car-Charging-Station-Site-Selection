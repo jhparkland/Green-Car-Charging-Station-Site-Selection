{
 "cells": [
  {
   "cell_type": "markdown",
   "source": [
    "# 베이지안 네트워크 기반 친환경 자동차 충전소 입지 선정"
   ],
   "metadata": {
    "collapsed": false
   }
  },
  {
   "cell_type": "markdown",
   "source": [
    "### 베이지안 네트워크 모델 구조 정의"
   ],
   "metadata": {
    "collapsed": false
   }
  },
  {
   "cell_type": "code",
   "execution_count": 9,
   "metadata": {
    "collapsed": true
   },
   "outputs": [],
   "source": [
    "from pgmpy.models import BayesianNetwork as bn\n",
    "from pgmpy.factors.discrete import TabularCPD\n",
    "import networkx as nx"
   ]
  },
  {
   "cell_type": "code",
   "execution_count": 10,
   "outputs": [],
   "source": [
    "eco_charging_place = bn(\n",
    "    [\n",
    "        (\"환경적\",\"최종 부지 선정\"),\n",
    "        (\"경제적\",\"최종 부지 선정\"),\n",
    "        (\"기술적\", \"최종 부지 선정\"),\n",
    "        (\"사회적\", \"최종 부지 선정\")\n",
    "    ]\n",
    ")"
   ],
   "metadata": {
    "collapsed": false,
    "pycharm": {
     "name": "#%%\n"
    }
   }
  },
  {
   "cell_type": "code",
   "execution_count": 18,
   "outputs": [],
   "source": [
    "cpd_environment = TabularCPD(\"환경적\", 2, [[0.9],\n",
    "                                        [0.1]])\n",
    "cpd_economic = TabularCPD('경제적', 2, [[0.3],\n",
    "                                     [0.7]])\n",
    "cpd_technical = TabularCPD('기술적', 2, [[0.02],\n",
    "                                      [0.98]])\n",
    "cpd_societal = TabularCPD(\"사회적\", 2, [[0.5],\n",
    "                                     [0.5]])\n",
    "cpd_final_site = TabularCPD(\"최종 부지 선정\", 2, [[0.01,0.02,0.03,0.04,0.05,0.06,0.07,0.08,0.09,0.1,0.2,0.3,0.4,0.5,0.6,0.7],\n",
    "                                            [0.99,0.98,0.97,0.96,0.95,0.94,0.93,0.92,0.91,0.9,0.8,0.7,0.6,0.5,0.4,0.3]],\n",
    "                            evidence = ['환경적', '경제적', '기술적', '사회적'], evidence_card = [2,2,2,2])"
   ],
   "metadata": {
    "collapsed": false,
    "pycharm": {
     "name": "#%%\n"
    }
   }
  },
  {
   "cell_type": "markdown",
   "source": [
    "모델에 CPD(조건부 확률 분포) 추가"
   ],
   "metadata": {
    "collapsed": false
   }
  },
  {
   "cell_type": "code",
   "execution_count": 19,
   "outputs": [],
   "source": [
    "eco_charging_place.add_cpds(cpd_environment, cpd_economic, cpd_technical, cpd_societal, cpd_final_site)"
   ],
   "metadata": {
    "collapsed": false,
    "pycharm": {
     "name": "#%%\n"
    }
   }
  },
  {
   "cell_type": "code",
   "execution_count": null,
   "outputs": [],
   "source": [
    "print(f\"노드:{eco_charging_place.nodes()} 엣지:{eco_charging_place.edges()}\")"
   ],
   "metadata": {
    "collapsed": false,
    "pycharm": {
     "name": "#%%\n"
    }
   }
  },
  {
   "cell_type": "code",
   "execution_count": 20,
   "outputs": [
    {
     "data": {
      "text/plain": "True"
     },
     "execution_count": 20,
     "metadata": {},
     "output_type": "execute_result"
    }
   ],
   "source": [
    "eco_charging_place.check_model() #모델 검증"
   ],
   "metadata": {
    "collapsed": false,
    "pycharm": {
     "name": "#%%\n"
    }
   }
  },
  {
   "cell_type": "markdown",
   "source": [
    "### 기본 작업"
   ],
   "metadata": {
    "collapsed": false
   }
  },
  {
   "cell_type": "code",
   "execution_count": 25,
   "outputs": [
    {
     "name": "stdout",
     "output_type": "stream",
     "text": [
      "False\n",
      "True\n"
     ]
    }
   ],
   "source": [
    "print(eco_charging_place.is_dconnected(\"환경적\", \"기술적\"))\n",
    "print(eco_charging_place.is_dconnected(\"환경적\", \"기술적\", observed=[\"최종 부지 선정\"]))"
   ],
   "metadata": {
    "collapsed": false,
    "pycharm": {
     "name": "#%%\n"
    }
   }
  },
  {
   "cell_type": "code",
   "execution_count": 28,
   "outputs": [
    {
     "data": {
      "text/plain": "{'최종 부지 선정': {'경제적', '기술적', '사회적', '최종 부지 선정', '환경적'}}"
     },
     "execution_count": 28,
     "metadata": {},
     "output_type": "execute_result"
    }
   ],
   "source": [
    "eco_charging_place.active_trail_nodes(\"최종 부지 선정\") #모든 d-connected 노드 가져오기"
   ],
   "metadata": {
    "collapsed": false,
    "pycharm": {
     "name": "#%%\n"
    }
   }
  },
  {
   "cell_type": "code",
   "execution_count": 29,
   "outputs": [
    {
     "data": {
      "text/plain": "(환경적 ⟂ 기술적, 경제적, 사회적)"
     },
     "execution_count": 29,
     "metadata": {},
     "output_type": "execute_result"
    }
   ],
   "source": [
    "eco_charging_place.local_independencies(\"환경적\")"
   ],
   "metadata": {
    "collapsed": false,
    "pycharm": {
     "name": "#%%\n"
    }
   }
  },
  {
   "cell_type": "code",
   "execution_count": 24,
   "outputs": [
    {
     "data": {
      "text/plain": "[<TabularCPD representing P(환경적:2) at 0x2143daff880>,\n <TabularCPD representing P(경제적:2) at 0x2143daffee0>,\n <TabularCPD representing P(기술적:2) at 0x2143daffe80>,\n <TabularCPD representing P(사회적:2) at 0x2143daffc40>,\n <TabularCPD representing P(최종 부지 선정:2 | 환경적:2, 경제적:2, 기술적:2, 사회적:2) at 0x2143cd70280>]"
     },
     "execution_count": 24,
     "metadata": {},
     "output_type": "execute_result"
    }
   ],
   "source": [
    "eco_charging_place.get_cpds()"
   ],
   "metadata": {
    "collapsed": false,
    "pycharm": {
     "name": "#%%\n"
    }
   }
  }
 ],
 "metadata": {
  "kernelspec": {
   "display_name": "Python 3",
   "language": "python",
   "name": "python3"
  },
  "language_info": {
   "codemirror_mode": {
    "name": "ipython",
    "version": 2
   },
   "file_extension": ".py",
   "mimetype": "text/x-python",
   "name": "python",
   "nbconvert_exporter": "python",
   "pygments_lexer": "ipython2",
   "version": "2.7.6"
  }
 },
 "nbformat": 4,
 "nbformat_minor": 0
}