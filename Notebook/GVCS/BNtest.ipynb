{
 "cells": [
  {
   "cell_type": "code",
   "execution_count": 19,
   "metadata": {
    "collapsed": true,
    "pycharm": {
     "name": "#%%\n"
    }
   },
   "outputs": [],
   "source": [
    "from pomegranate import *\n",
    "import numpy as np"
   ]
  },
  {
   "cell_type": "markdown",
   "source": [
    "# 몬티홀 게임쇼\n"
   ],
   "metadata": {
    "collapsed": false
   }
  },
  {
   "cell_type": "markdown",
   "source": [
    "Monty Hall 문제는 게임쇼 Let's Make Deal에서 게스트가 세 개의 문 중 어떤 문 뒤에 상이 있는지 선택해야 하는 게임에서 발생했습니다.\n",
    "반전은 손님이 선택한 후 원래 Monty Hall이었던 호스트가 손님이 선택하지 않은 문 중 하나를 열고 손님이 선택한 문을 전환하기를 원하는지 묻습니다.\n",
    "초기 검사를 통해 문이 두 개뿐인 경우 올바른 문을 고를 확률이 50-50이므로 어떤 이점도 없다고 믿게 될 수 있습니다.\n",
    "그러나 시뮬레이션과 분석을 통해 게스트가 처음에 갔던 문과 상관없이 손님이 문을 바꾸면 실제로 상품을 받을 확률이 66%라는 것이 입증되었습니다.\n",
    "\n",
    "우리는 3개의 노드가 있는 베이지안 네트워크를 사용하여 이 결과를 재현할 수 있습니다. 하나는 게스트, 하나는 상금, 하나는 Monty가 열기로 선택한 문입니다.\n",
    "손님이 처음 선택하는 문과 상품 뒤에 있는 문은 세 개의 문에 걸쳐 완전히 무작위 프로세스이지만 Monty가 여는 문은 손님이 선택하는 문(손님이 선택한 문이 될 수 없음)에 따라 다릅니다.\n",
    "상품이 뒤에 있는 문입니다(상품이 뒤에 있는 문일 수 없음).\n",
    "\n",
    "석류에 베이지안 네트워크를 생성하려면 먼저 그래프의 각 노드에 있는 분포를 생성합니다.\n",
    "이산(범주형) 베이지안 네트워크의 경우 루트 노드에는 DiscreteDistribution 개체를 사용하고 내부 및 리프 노드에는 ConditionalProbabilityTable 개체를 사용합니다.\n",
    "ConditionalProbabilityTable의 열은 부모(두 번째 인수)가 지정된 순서에 해당하며 마지막 열은 ConditionalProbabilityTable 자체가 취하는 값입니다.\n",
    "아래의 경우 첫 번째 열은 'guest' 값, 그 다음 'prize' 값, 'monty' 값에 해당합니다.\n",
    "'B', 'C', 'A'는 손님이 문 'B'를 선택했고 상품이 실제로 문 'C' 뒤에 있는 경우 Monty가 문 'A'를 드러낼 확률 또는 P(Monty= 'A'|손님='B', 상품='C')."
   ],
   "metadata": {
    "collapsed": false
   }
  },
  {
   "cell_type": "code",
   "execution_count": 2,
   "outputs": [],
   "source": [
    "# The guests initial door selection is completely random\n",
    "guest = DiscreteDistribution({'A': 1./3, 'B': 1./3, 'C': 1./3})\n",
    "\n",
    "# The door the prize is behind is also completely random\n",
    "prize = DiscreteDistribution({'A': 1./3, 'B': 1./3, 'C': 1./3})\n",
    "\n",
    "# Monty is dependent on both the guest and the prize.\n",
    "monty = ConditionalProbabilityTable(\n",
    "    [[ 'A', 'A', 'A', 0.0 ],\n",
    "     [ 'A', 'A', 'B', 0.5 ],\n",
    "     [ 'A', 'A', 'C', 0.5 ],\n",
    "     [ 'A', 'B', 'A', 0.0 ],\n",
    "     [ 'A', 'B', 'B', 0.0 ],\n",
    "     [ 'A', 'B', 'C', 1.0 ],\n",
    "     [ 'A', 'C', 'A', 0.0 ],\n",
    "     [ 'A', 'C', 'B', 1.0 ],\n",
    "     [ 'A', 'C', 'C', 0.0 ],\n",
    "     [ 'B', 'A', 'A', 0.0 ],\n",
    "     [ 'B', 'A', 'B', 0.0 ],\n",
    "     [ 'B', 'A', 'C', 1.0 ],\n",
    "     [ 'B', 'B', 'A', 0.5 ],\n",
    "     [ 'B', 'B', 'B', 0.0 ],\n",
    "     [ 'B', 'B', 'C', 0.5 ],\n",
    "     [ 'B', 'C', 'A', 1.0 ],\n",
    "     [ 'B', 'C', 'B', 0.0 ],\n",
    "     [ 'B', 'C', 'C', 0.0 ],\n",
    "     [ 'C', 'A', 'A', 0.0 ],\n",
    "     [ 'C', 'A', 'B', 1.0 ],\n",
    "     [ 'C', 'A', 'C', 0.0 ],\n",
    "     [ 'C', 'B', 'A', 1.0 ],\n",
    "     [ 'C', 'B', 'B', 0.0 ],\n",
    "     [ 'C', 'B', 'C', 0.0 ],\n",
    "     [ 'C', 'C', 'A', 0.5 ],\n",
    "     [ 'C', 'C', 'B', 0.5 ],\n",
    "     [ 'C', 'C', 'C', 0.0 ]], [guest, prize])"
   ],
   "metadata": {
    "collapsed": false,
    "pycharm": {
     "name": "#%%\n"
    }
   }
  },
  {
   "cell_type": "code",
   "execution_count": 9,
   "outputs": [],
   "source": [
    "s1 = Node(guest, name=\"guest\")\n",
    "s2 = Node(prize, name=\"prize\")\n",
    "s3 = Node(monty, name=\"monty\")"
   ],
   "metadata": {
    "collapsed": false,
    "pycharm": {
     "name": "#%%\n"
    }
   }
  },
  {
   "cell_type": "code",
   "execution_count": 10,
   "outputs": [
    {
     "name": "stdout",
     "output_type": "stream",
     "text": [
      "{\n",
      "    \"class\" : \"State\",\n",
      "    \"distribution\" : {\n",
      "        \"class\" : \"Distribution\",\n",
      "        \"dtype\" : \"str\",\n",
      "        \"name\" : \"DiscreteDistribution\",\n",
      "        \"parameters\" : [\n",
      "            {\n",
      "                \"A\" : 0.3333333333333333,\n",
      "                \"B\" : 0.3333333333333333,\n",
      "                \"C\" : 0.3333333333333333\n",
      "            }\n",
      "        ],\n",
      "        \"frozen\" : false\n",
      "    },\n",
      "    \"name\" : \"guest\",\n",
      "    \"weight\" : 1.0\n",
      "}\n",
      "{\n",
      "    \"class\" : \"State\",\n",
      "    \"distribution\" : {\n",
      "        \"class\" : \"Distribution\",\n",
      "        \"dtype\" : \"str\",\n",
      "        \"name\" : \"DiscreteDistribution\",\n",
      "        \"parameters\" : [\n",
      "            {\n",
      "                \"A\" : 0.3333333333333333,\n",
      "                \"B\" : 0.3333333333333333,\n",
      "                \"C\" : 0.3333333333333333\n",
      "            }\n",
      "        ],\n",
      "        \"frozen\" : false\n",
      "    },\n",
      "    \"name\" : \"prize\",\n",
      "    \"weight\" : 1.0\n",
      "}\n",
      "{\n",
      "    \"class\" : \"State\",\n",
      "    \"distribution\" : {\n",
      "        \"class\" : \"Distribution\",\n",
      "        \"name\" : \"ConditionalProbabilityTable\",\n",
      "        \"table\" : [\n",
      "            [\n",
      "                \"A\",\n",
      "                \"A\",\n",
      "                \"A\",\n",
      "                \"0.0\"\n",
      "            ],\n",
      "            [\n",
      "                \"A\",\n",
      "                \"A\",\n",
      "                \"B\",\n",
      "                \"0.5\"\n",
      "            ],\n",
      "            [\n",
      "                \"A\",\n",
      "                \"A\",\n",
      "                \"C\",\n",
      "                \"0.5\"\n",
      "            ],\n",
      "            [\n",
      "                \"A\",\n",
      "                \"B\",\n",
      "                \"A\",\n",
      "                \"0.0\"\n",
      "            ],\n",
      "            [\n",
      "                \"A\",\n",
      "                \"B\",\n",
      "                \"B\",\n",
      "                \"0.0\"\n",
      "            ],\n",
      "            [\n",
      "                \"A\",\n",
      "                \"B\",\n",
      "                \"C\",\n",
      "                \"1.0\"\n",
      "            ],\n",
      "            [\n",
      "                \"A\",\n",
      "                \"C\",\n",
      "                \"A\",\n",
      "                \"0.0\"\n",
      "            ],\n",
      "            [\n",
      "                \"A\",\n",
      "                \"C\",\n",
      "                \"B\",\n",
      "                \"1.0\"\n",
      "            ],\n",
      "            [\n",
      "                \"A\",\n",
      "                \"C\",\n",
      "                \"C\",\n",
      "                \"0.0\"\n",
      "            ],\n",
      "            [\n",
      "                \"B\",\n",
      "                \"A\",\n",
      "                \"A\",\n",
      "                \"0.0\"\n",
      "            ],\n",
      "            [\n",
      "                \"B\",\n",
      "                \"A\",\n",
      "                \"B\",\n",
      "                \"0.0\"\n",
      "            ],\n",
      "            [\n",
      "                \"B\",\n",
      "                \"A\",\n",
      "                \"C\",\n",
      "                \"1.0\"\n",
      "            ],\n",
      "            [\n",
      "                \"B\",\n",
      "                \"B\",\n",
      "                \"A\",\n",
      "                \"0.5\"\n",
      "            ],\n",
      "            [\n",
      "                \"B\",\n",
      "                \"B\",\n",
      "                \"B\",\n",
      "                \"0.0\"\n",
      "            ],\n",
      "            [\n",
      "                \"B\",\n",
      "                \"B\",\n",
      "                \"C\",\n",
      "                \"0.5\"\n",
      "            ],\n",
      "            [\n",
      "                \"B\",\n",
      "                \"C\",\n",
      "                \"A\",\n",
      "                \"1.0\"\n",
      "            ],\n",
      "            [\n",
      "                \"B\",\n",
      "                \"C\",\n",
      "                \"B\",\n",
      "                \"0.0\"\n",
      "            ],\n",
      "            [\n",
      "                \"B\",\n",
      "                \"C\",\n",
      "                \"C\",\n",
      "                \"0.0\"\n",
      "            ],\n",
      "            [\n",
      "                \"C\",\n",
      "                \"A\",\n",
      "                \"A\",\n",
      "                \"0.0\"\n",
      "            ],\n",
      "            [\n",
      "                \"C\",\n",
      "                \"A\",\n",
      "                \"B\",\n",
      "                \"1.0\"\n",
      "            ],\n",
      "            [\n",
      "                \"C\",\n",
      "                \"A\",\n",
      "                \"C\",\n",
      "                \"0.0\"\n",
      "            ],\n",
      "            [\n",
      "                \"C\",\n",
      "                \"B\",\n",
      "                \"A\",\n",
      "                \"1.0\"\n",
      "            ],\n",
      "            [\n",
      "                \"C\",\n",
      "                \"B\",\n",
      "                \"B\",\n",
      "                \"0.0\"\n",
      "            ],\n",
      "            [\n",
      "                \"C\",\n",
      "                \"B\",\n",
      "                \"C\",\n",
      "                \"0.0\"\n",
      "            ],\n",
      "            [\n",
      "                \"C\",\n",
      "                \"C\",\n",
      "                \"A\",\n",
      "                \"0.5\"\n",
      "            ],\n",
      "            [\n",
      "                \"C\",\n",
      "                \"C\",\n",
      "                \"B\",\n",
      "                \"0.5\"\n",
      "            ],\n",
      "            [\n",
      "                \"C\",\n",
      "                \"C\",\n",
      "                \"C\",\n",
      "                \"0.0\"\n",
      "            ]\n",
      "        ],\n",
      "        \"dtypes\" : [\n",
      "            \"str\",\n",
      "            \"str\",\n",
      "            \"str\",\n",
      "            \"float\"\n",
      "        ],\n",
      "        \"parents\" : [\n",
      "            {\n",
      "                \"class\" : \"Distribution\",\n",
      "                \"dtype\" : \"str\",\n",
      "                \"name\" : \"DiscreteDistribution\",\n",
      "                \"parameters\" : [\n",
      "                    {\n",
      "                        \"A\" : 0.3333333333333333,\n",
      "                        \"B\" : 0.3333333333333333,\n",
      "                        \"C\" : 0.3333333333333333\n",
      "                    }\n",
      "                ],\n",
      "                \"frozen\" : false\n",
      "            },\n",
      "            {\n",
      "                \"class\" : \"Distribution\",\n",
      "                \"dtype\" : \"str\",\n",
      "                \"name\" : \"DiscreteDistribution\",\n",
      "                \"parameters\" : [\n",
      "                    {\n",
      "                        \"A\" : 0.3333333333333333,\n",
      "                        \"B\" : 0.3333333333333333,\n",
      "                        \"C\" : 0.3333333333333333\n",
      "                    }\n",
      "                ],\n",
      "                \"frozen\" : false\n",
      "            }\n",
      "        ]\n",
      "    },\n",
      "    \"name\" : \"monty\",\n",
      "    \"weight\" : 1.0\n",
      "}\n"
     ]
    }
   ],
   "source": [
    "print(s1)\n",
    "print(s2)\n",
    "print(s3)"
   ],
   "metadata": {
    "collapsed": false,
    "pycharm": {
     "name": "#%%\n"
    }
   }
  },
  {
   "cell_type": "code",
   "execution_count": 11,
   "outputs": [],
   "source": [
    "model = BayesianNetwork(\"Monty Hall Problem\")\n",
    "model.add_states(s1, s2, s3)\n",
    "model.add_edge(s1, s3)\n",
    "model.add_edge(s2, s3)\n",
    "model.bake()"
   ],
   "metadata": {
    "collapsed": false,
    "pycharm": {
     "name": "#%%\n"
    }
   }
  },
  {
   "cell_type": "code",
   "execution_count": 22,
   "outputs": [
    {
     "data": {
      "text/plain": "0.11111111111111109"
     },
     "execution_count": 22,
     "metadata": {},
     "output_type": "execute_result"
    }
   ],
   "source": [
    "model.probability([['A', 'B', 'C']])"
   ],
   "metadata": {
    "collapsed": false,
    "pycharm": {
     "name": "#%%\n"
    }
   }
  },
  {
   "cell_type": "code",
   "execution_count": 23,
   "outputs": [
    {
     "data": {
      "text/plain": "0.0"
     },
     "execution_count": 23,
     "metadata": {},
     "output_type": "execute_result"
    }
   ],
   "source": [
    "\n",
    "model.probability([['A', 'B', 'B']])"
   ],
   "metadata": {
    "collapsed": false,
    "pycharm": {
     "name": "#%%\n"
    }
   }
  },
  {
   "cell_type": "code",
   "execution_count": 16,
   "outputs": [
    {
     "name": "stdout",
     "output_type": "stream",
     "text": [
      "[0.         0.05555556 0.05555556]\n"
     ]
    }
   ],
   "source": [
    "print(model.probability([['A', 'A', 'A'],\n",
    "                         ['A', 'A', 'B'],\n",
    "                         ['C', 'C', 'B']]))"
   ],
   "metadata": {
    "collapsed": false,
    "pycharm": {
     "name": "#%%\n"
    }
   }
  },
  {
   "cell_type": "code",
   "execution_count": 21,
   "outputs": [
    {
     "name": "stdout",
     "output_type": "stream",
     "text": [
      "[array(['A', 'B', 'C'], dtype=object), array(['A', 'B', 'C'], dtype=object), array(['C', 'B', 'A'], dtype=object)]\n"
     ]
    },
    {
     "name": "stderr",
     "output_type": "stream",
     "text": [
      "C:\\Users\\pwjdg\\AppData\\Local\\Temp\\ipykernel_16728\\1168950580.py:1: DeprecationWarning: `np.float` is a deprecated alias for the builtin `float`. To silence this warning, use `float` by itself. Doing this will not modify any behavior and is safe. If you specifically wanted the numpy scalar type, use `np.float64` here.\n",
      "Deprecated in NumPy 1.20; for more details and guidance: https://numpy.org/devdocs/release/1.20.0-notes.html#deprecations\n",
      "  print(model.predict([['A', 'B', None],\n"
     ]
    }
   ],
   "source": [
    "print(model.predict([['A', 'B', None],\n",
    "                     ['A', None, 'C'],\n",
    "                     [None, 'B', 'A']]))"
   ],
   "metadata": {
    "collapsed": false,
    "pycharm": {
     "name": "#%%\n"
    }
   }
  },
  {
   "cell_type": "code",
   "execution_count": 20,
   "outputs": [
    {
     "name": "stdout",
     "output_type": "stream",
     "text": [
      "[array(['A', 'B', 'C'], dtype=object), array(['A', 'C', 'B'], dtype=object), array(['C', 'B', 'A'], dtype=object)]\n"
     ]
    },
    {
     "name": "stderr",
     "output_type": "stream",
     "text": [
      "C:\\Users\\pwjdg\\AppData\\Local\\Temp\\ipykernel_16728\\2013110763.py:1: DeprecationWarning: `np.float` is a deprecated alias for the builtin `float`. To silence this warning, use `float` by itself. Doing this will not modify any behavior and is safe. If you specifically wanted the numpy scalar type, use `np.float64` here.\n",
      "Deprecated in NumPy 1.20; for more details and guidance: https://numpy.org/devdocs/release/1.20.0-notes.html#deprecations\n",
      "  print(model.predict([['A', 'B', None],\n"
     ]
    }
   ],
   "source": [
    "print(model.predict([['A', 'B', None],\n",
    "                     ['A', 'C', None],\n",
    "                     ['C', 'B', None]]))"
   ],
   "metadata": {
    "collapsed": false,
    "pycharm": {
     "name": "#%%\n"
    }
   }
  }
 ],
 "metadata": {
  "kernelspec": {
   "display_name": "Python 3",
   "language": "python",
   "name": "python3"
  },
  "language_info": {
   "codemirror_mode": {
    "name": "ipython",
    "version": 2
   },
   "file_extension": ".py",
   "mimetype": "text/x-python",
   "name": "python",
   "nbconvert_exporter": "python",
   "pygments_lexer": "ipython2",
   "version": "2.7.6"
  }
 },
 "nbformat": 4,
 "nbformat_minor": 0
}