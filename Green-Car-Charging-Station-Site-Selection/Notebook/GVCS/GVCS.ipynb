{
 "cells": [
  {
   "cell_type": "markdown",
   "metadata": {
    "collapsed": false
   },
   "source": [
    "# 확률 네트워크기반 친환경 자동차 충전소(GVCS) 로케이션 인텔리전스(Location Intelligence) 대시보드"
   ]
  },
  {
   "cell_type": "markdown",
   "metadata": {
    "pycharm": {
     "name": "#%% md\n"
    }
   },
   "source": [
    "## 제안 배경\n",
    "\n",
    "**친환경 자동차 생산에만 관심이 쏠려 사용자를 고려하지 못한 설치로 인한 잉여 충전소 발생**\n",
    "\n",
    "- 민관 협력을 통해 충전 서비스 관련 사업이 꾸준히 증가함. 하지만 전국에 설치된 공공 급속충전기 총 2,896개(2021년 기준) 중 하루 1회 이하로 사용한 충전기가 1,164개로 전체의 40.1%를 차지하고 있다. 심지어 17개는 전혀 사용하지 않은 것으로 나타남.\n",
    "\n",
    "- 이와 같은 충전소마다 이용 편차가 큰 이유는 전기차 보급 목표에 따라 구역별로  충전소를 나눠 설치했기 때문이라는 지적도 있다.\n",
    "\n",
    "- 한국전기차충전협동조합은 앞으로 수요가 몰리는 거점을 중심을 중심으로 충전기 설치를 해야하 한다는 의견 주장함.\n",
    "\n",
    "- 기존의 정부 중심으로 공급자 입장에서 설치하던 충전소를 친환경 자동차 차주를 고려해 이용자 중심으로 변화 설치가 필요하다는 지적도 있다.\n",
    "\n",
    "즉, **꾸준히 증가하는 친환경 차량의 수요를 위해 저비용 고효율의 충전소 설치를 목표 한다.** 충전소 설치 사업자의 기대 수익 최적화를 위해 사용자 입장을 고려한 체계적이며 최적의 입지 선정 결과를 제시함."
   ]
  },
  {
   "cell_type": "markdown",
   "metadata": {},
   "source": [
    "## 사용 데이터\n",
    "\n",
    "1. 충전소 위치 및 현황 정보\n",
    "2. 급속충전기 보급 현황\n",
    "3. LPG충전소 현황\n",
    "4. 오존 월별 대기오염도\n",
    "5. 아황산가스 월별 대기오염도\n",
    "6. 이산화질소 월별 대기오염도\n",
    "7. 미세먼지 월별 대기오염도\n",
    "8. 행정구역별 인구수\n",
    "9. 항만 현황\n",
    "10. 지역별 전기차 등록대 수"
   ]
  },
  {
   "cell_type": "code",
   "execution_count": 679,
   "metadata": {
    "collapsed": false,
    "jupyter": {
     "outputs_hidden": false
    },
    "pycharm": {
     "name": "#%%\n"
    }
   },
   "outputs": [],
   "source": [
    "import pandas as pd\n",
    "import matplotlib.pyplot as plt\n",
    "import seaborn as sns\n",
    "import osmnx as ox\n",
    "import networkx as nx\n",
    "import numpy as np\n",
    "from scipy.stats import norm\n",
    "import plotly.express as px\n",
    "import plotly.graph_objects as go"
   ]
  },
  {
   "cell_type": "markdown",
   "metadata": {},
   "source": [
    "## 상위 요소 - 환경적 요인\n",
    "\n",
    "대기오염도를 기반하여 확률 값을 계산한다."
   ]
  },
  {
   "cell_type": "markdown",
   "metadata": {},
   "source": [
    "### 오존 월별 대기오염도 데이터 불러오기"
   ]
  },
  {
   "cell_type": "code",
   "execution_count": 680,
   "metadata": {
    "collapsed": false,
    "jupyter": {
     "outputs_hidden": false
    },
    "pycharm": {
     "name": "#%%\n"
    }
   },
   "outputs": [
    {
     "data": {
      "text/html": [
       "<div>\n",
       "<style scoped>\n",
       "    .dataframe tbody tr th:only-of-type {\n",
       "        vertical-align: middle;\n",
       "    }\n",
       "\n",
       "    .dataframe tbody tr th {\n",
       "        vertical-align: top;\n",
       "    }\n",
       "\n",
       "    .dataframe thead th {\n",
       "        text-align: right;\n",
       "    }\n",
       "</style>\n",
       "<table border=\"1\" class=\"dataframe\">\n",
       "  <thead>\n",
       "    <tr style=\"text-align: right;\">\n",
       "      <th></th>\n",
       "      <th>구분(1)</th>\n",
       "      <th>구분(2)</th>\n",
       "      <th>2021.02</th>\n",
       "      <th>2021.03</th>\n",
       "      <th>2021.04</th>\n",
       "      <th>2021.05</th>\n",
       "      <th>2021.06</th>\n",
       "      <th>2021.07</th>\n",
       "    </tr>\n",
       "  </thead>\n",
       "  <tbody>\n",
       "    <tr>\n",
       "      <th>0</th>\n",
       "      <td>총계</td>\n",
       "      <td>소계</td>\n",
       "      <td>0.029</td>\n",
       "      <td>0.034</td>\n",
       "      <td>0.043</td>\n",
       "      <td>0.042</td>\n",
       "      <td>0.044</td>\n",
       "      <td>0.033</td>\n",
       "    </tr>\n",
       "    <tr>\n",
       "      <th>1</th>\n",
       "      <td>서울특별시</td>\n",
       "      <td>서울특별시</td>\n",
       "      <td>0.022</td>\n",
       "      <td>0.025</td>\n",
       "      <td>0.037</td>\n",
       "      <td>0.036</td>\n",
       "      <td>0.041</td>\n",
       "      <td>0.038</td>\n",
       "    </tr>\n",
       "    <tr>\n",
       "      <th>2</th>\n",
       "      <td>부산광역시</td>\n",
       "      <td>부산광역시</td>\n",
       "      <td>0.031</td>\n",
       "      <td>0.036</td>\n",
       "      <td>0.043</td>\n",
       "      <td>0.041</td>\n",
       "      <td>0.041</td>\n",
       "      <td>0.028</td>\n",
       "    </tr>\n",
       "    <tr>\n",
       "      <th>3</th>\n",
       "      <td>대구광역시</td>\n",
       "      <td>대구광역시</td>\n",
       "      <td>0.025</td>\n",
       "      <td>0.032</td>\n",
       "      <td>0.043</td>\n",
       "      <td>0.040</td>\n",
       "      <td>0.045</td>\n",
       "      <td>0.031</td>\n",
       "    </tr>\n",
       "    <tr>\n",
       "      <th>4</th>\n",
       "      <td>인천광역시</td>\n",
       "      <td>인천광역시</td>\n",
       "      <td>0.026</td>\n",
       "      <td>0.030</td>\n",
       "      <td>0.040</td>\n",
       "      <td>0.042</td>\n",
       "      <td>0.044</td>\n",
       "      <td>0.041</td>\n",
       "    </tr>\n",
       "    <tr>\n",
       "      <th>...</th>\n",
       "      <td>...</td>\n",
       "      <td>...</td>\n",
       "      <td>...</td>\n",
       "      <td>...</td>\n",
       "      <td>...</td>\n",
       "      <td>...</td>\n",
       "      <td>...</td>\n",
       "      <td>...</td>\n",
       "    </tr>\n",
       "    <tr>\n",
       "      <th>167</th>\n",
       "      <td>경상남도</td>\n",
       "      <td>합천</td>\n",
       "      <td>0.034</td>\n",
       "      <td>0.039</td>\n",
       "      <td>0.050</td>\n",
       "      <td>0.048</td>\n",
       "      <td>0.051</td>\n",
       "      <td>0.038**</td>\n",
       "    </tr>\n",
       "    <tr>\n",
       "      <th>168</th>\n",
       "      <td>경상남도</td>\n",
       "      <td>도평균</td>\n",
       "      <td>0.032</td>\n",
       "      <td>0.037</td>\n",
       "      <td>0.044</td>\n",
       "      <td>0.044</td>\n",
       "      <td>0.045</td>\n",
       "      <td>0.031</td>\n",
       "    </tr>\n",
       "    <tr>\n",
       "      <th>169</th>\n",
       "      <td>제주특별자치도</td>\n",
       "      <td>제주특별자치도</td>\n",
       "      <td>0.044</td>\n",
       "      <td>0.046</td>\n",
       "      <td>0.051</td>\n",
       "      <td>0.051</td>\n",
       "      <td>0.045</td>\n",
       "      <td>0.029</td>\n",
       "    </tr>\n",
       "    <tr>\n",
       "      <th>170</th>\n",
       "      <td>제주특별자치도</td>\n",
       "      <td>서귀포</td>\n",
       "      <td>0.045</td>\n",
       "      <td>0.048</td>\n",
       "      <td>0.054</td>\n",
       "      <td>0.052</td>\n",
       "      <td>0.046</td>\n",
       "      <td>0.028</td>\n",
       "    </tr>\n",
       "    <tr>\n",
       "      <th>171</th>\n",
       "      <td>제주특별자치도</td>\n",
       "      <td>도평균</td>\n",
       "      <td>0.044</td>\n",
       "      <td>0.047</td>\n",
       "      <td>0.053</td>\n",
       "      <td>0.051</td>\n",
       "      <td>0.045</td>\n",
       "      <td>0.029</td>\n",
       "    </tr>\n",
       "  </tbody>\n",
       "</table>\n",
       "<p>172 rows × 8 columns</p>\n",
       "</div>"
      ],
      "text/plain": [
       "       구분(1)    구분(2) 2021.02 2021.03 2021.04 2021.05 2021.06  2021.07\n",
       "0         총계       소계   0.029   0.034   0.043   0.042   0.044    0.033\n",
       "1      서울특별시    서울특별시   0.022   0.025   0.037   0.036   0.041    0.038\n",
       "2      부산광역시    부산광역시   0.031   0.036   0.043   0.041   0.041    0.028\n",
       "3      대구광역시    대구광역시   0.025   0.032   0.043   0.040   0.045    0.031\n",
       "4      인천광역시    인천광역시   0.026   0.030   0.040   0.042   0.044    0.041\n",
       "..       ...      ...     ...     ...     ...     ...     ...      ...\n",
       "167     경상남도       합천   0.034   0.039   0.050   0.048   0.051  0.038**\n",
       "168     경상남도      도평균   0.032   0.037   0.044   0.044   0.045    0.031\n",
       "169  제주특별자치도  제주특별자치도   0.044   0.046   0.051   0.051   0.045    0.029\n",
       "170  제주특별자치도      서귀포   0.045   0.048   0.054   0.052   0.046    0.028\n",
       "171  제주특별자치도      도평균   0.044   0.047   0.053   0.051   0.045    0.029\n",
       "\n",
       "[172 rows x 8 columns]"
      ]
     },
     "execution_count": 680,
     "metadata": {},
     "output_type": "execute_result"
    }
   ],
   "source": [
    "ozone_file_path = \"C:\\\\Users\\\\SAMSUNG\\\\Desktop\\\\Green-Car-Charging-Station-Site-Selection\\\\Data\\\\오존_월별_도시별_대기오염도.csv\"\n",
    "df_ozone = pd.read_csv(ozone_file_path, encoding='cp949')\n",
    "df_ozone"
   ]
  },
  {
   "cell_type": "code",
   "execution_count": 681,
   "metadata": {
    "collapsed": false,
    "pycharm": {
     "name": "#%%\n"
    }
   },
   "outputs": [
    {
     "name": "stdout",
     "output_type": "stream",
     "text": [
      "<class 'pandas.core.frame.DataFrame'>\n",
      "RangeIndex: 172 entries, 0 to 171\n",
      "Data columns (total 8 columns):\n",
      " #   Column   Non-Null Count  Dtype \n",
      "---  ------   --------------  ----- \n",
      " 0   구분(1)    172 non-null    object\n",
      " 1   구분(2)    172 non-null    object\n",
      " 2   2021.02  172 non-null    object\n",
      " 3   2021.03  172 non-null    object\n",
      " 4   2021.04  172 non-null    object\n",
      " 5   2021.05  172 non-null    object\n",
      " 6   2021.06  172 non-null    object\n",
      " 7   2021.07  172 non-null    object\n",
      "dtypes: object(8)\n",
      "memory usage: 10.9+ KB\n"
     ]
    }
   ],
   "source": [
    "df_ozone.info()"
   ]
  },
  {
   "cell_type": "code",
   "execution_count": 682,
   "metadata": {
    "collapsed": false,
    "pycharm": {
     "name": "#%%\n"
    }
   },
   "outputs": [],
   "source": [
    "ozen_col =  df_ozone.iloc[:,2:-1].columns.tolist()"
   ]
  },
  {
   "cell_type": "code",
   "execution_count": 683,
   "metadata": {
    "collapsed": false,
    "pycharm": {
     "name": "#%%\n"
    }
   },
   "outputs": [],
   "source": [
    "df_ozone.drop(columns=ozen_col, inplace=True)"
   ]
  },
  {
   "cell_type": "code",
   "execution_count": 684,
   "metadata": {
    "collapsed": false,
    "pycharm": {
     "name": "#%%\n"
    }
   },
   "outputs": [],
   "source": [
    "def advanced_replace(df, col, str, regex):\n",
    "    '''\n",
    "    DataFrame 특정 열의 특수문자 제거\n",
    "    :param df: 대상 DataFrame\n",
    "    :param col: column\n",
    "    :param str: 제거할 특수 문자.\n",
    "    :param regex: 적용할 정규표현식\n",
    "    :return:\n",
    "    '''\n",
    "    df[col] = df[col].replace(str,0)\n",
    "    df[col] = df[col].replace(to_replace=regex, value=r'', regex=True)\n",
    "    return df"
   ]
  },
  {
   "cell_type": "code",
   "execution_count": 685,
   "metadata": {
    "collapsed": false,
    "pycharm": {
     "name": "#%%\n"
    }
   },
   "outputs": [
    {
     "name": "stdout",
     "output_type": "stream",
     "text": [
      "<class 'pandas.core.frame.DataFrame'>\n",
      "RangeIndex: 172 entries, 0 to 171\n",
      "Data columns (total 3 columns):\n",
      " #   Column   Non-Null Count  Dtype  \n",
      "---  ------   --------------  -----  \n",
      " 0   구분(1)    172 non-null    object \n",
      " 1   구분(2)    172 non-null    object \n",
      " 2   2021.07  172 non-null    float64\n",
      "dtypes: float64(1), object(2)\n",
      "memory usage: 4.2+ KB\n"
     ]
    }
   ],
   "source": [
    "# 해당 컬럼 float 타입으로 변경\n",
    "advanced_replace(df_ozone, df_ozone.iloc[:,2:].columns.tolist(), '-', r'[^0-9.0-9]')\n",
    "df_ozone['2021.07'] = df_ozone['2021.07'].astype(float)\n",
    "df_ozone.info()"
   ]
  },
  {
   "cell_type": "code",
   "execution_count": 686,
   "metadata": {},
   "outputs": [],
   "source": [
    "def show_norm(mean,std,min,max):\n",
    "     '''\n",
    "     정규분포 함수를 matplotlib을 통해 시각화\n",
    "     mean: 평균값\n",
    "     std: 표준편차\n",
    "     min: 관측된 데이터의 최솟값\n",
    "     max: 관측된 데이터의 최댓값\n",
    "     '''\n",
    "     min = min - std\n",
    "     # x값 설정(min에서 max까지 unit만큼씩 증가하는 x)\n",
    "     x = np.linspace(min,max,100)\n",
    "     # y값은 평균이 mean이고 표준편차가 std인 확률밀도함수\n",
    "     fig = px.line(x=x,y=norm.pdf(x,loc=mean,scale=std))\n",
    "     fig.show()"
   ]
  },
  {
   "cell_type": "code",
   "execution_count": 687,
   "metadata": {},
   "outputs": [
    {
     "data": {
      "application/vnd.plotly.v1+json": {
       "config": {
        "plotlyServerURL": "https://plot.ly"
       },
       "data": [
        {
         "hovertemplate": "x=%{x}<br>y=%{y}<extra></extra>",
         "legendgroup": "",
         "line": {
          "color": "#636efa",
          "dash": "solid"
         },
         "mode": "lines",
         "name": "",
         "orientation": "v",
         "showlegend": false,
         "type": "scatter",
         "x": [
          0.013605603165889407,
          0.01406413242684002,
          0.014522661687790631,
          0.014981190948741244,
          0.015439720209691855,
          0.015898249470642466,
          0.01635677873159308,
          0.01681530799254369,
          0.017273837253494302,
          0.017732366514444917,
          0.018190895775395528,
          0.01864942503634614,
          0.019107954297296753,
          0.019566483558247364,
          0.020025012819197975,
          0.02048354208014859,
          0.0209420713410992,
          0.02140060060204981,
          0.021859129863000426,
          0.022317659123951034,
          0.022776188384901648,
          0.02323471764585226,
          0.02369324690680287,
          0.024151776167753485,
          0.024610305428704096,
          0.025068834689654707,
          0.02552736395060532,
          0.025985893211555932,
          0.026444422472506543,
          0.026902951733457157,
          0.02736148099440777,
          0.02782001025535838,
          0.028278539516308994,
          0.028737068777259605,
          0.029195598038210216,
          0.029654127299160827,
          0.03011265656011144,
          0.030571185821062052,
          0.031029715082012663,
          0.03148824434296328,
          0.03194677360391389,
          0.032405302864864496,
          0.03286383212581511,
          0.033322361386765725,
          0.03378089064771633,
          0.03423941990866695,
          0.03469794916961756,
          0.03515647843056817,
          0.035615007691518784,
          0.0360735369524694,
          0.036532066213420006,
          0.03699059547437062,
          0.037449124735321235,
          0.03790765399627184,
          0.03836618325722246,
          0.03882471251817307,
          0.03928324177912368,
          0.03974177104007429,
          0.04020030030102491,
          0.040658829561975515,
          0.04111735882292613,
          0.041575888083876744,
          0.04203441734482735,
          0.042492946605777966,
          0.04295147586672858,
          0.04341000512767919,
          0.0438685343886298,
          0.04432706364958042,
          0.044785592910531025,
          0.04524412217148164,
          0.04570265143243225,
          0.04616118069338286,
          0.046619709954333476,
          0.04707823921528408,
          0.0475367684762347,
          0.04799529773718531,
          0.04845382699813592,
          0.048912356259086534,
          0.04937088552003715,
          0.049829414780987756,
          0.05028794404193837,
          0.050746473302888985,
          0.05120500256383959,
          0.05166353182479021,
          0.052122061085740815,
          0.05258059034669143,
          0.053039119607642043,
          0.05349764886859265,
          0.053956178129543265,
          0.05441470739049388,
          0.05487323665144449,
          0.0553317659123951,
          0.055790295173345716,
          0.056248824434296324,
          0.05670735369524694,
          0.05716588295619755,
          0.05762441221714816,
          0.058082941478098775,
          0.05854147073904939,
          0.059
         ],
         "xaxis": "x",
         "y": [
          0.23163280608591946,
          0.3080294869805355,
          0.40667423964826876,
          0.5330441492379837,
          0.6936523229533839,
          0.8961540170283431,
          1.1494381660704707,
          1.4636954325234917,
          1.8504526150987235,
          2.3225622669879775,
          2.8941358327529887,
          3.580408679718312,
          4.397526233292164,
          5.362242163539762,
          6.491522312665093,
          7.802051844321985,
          9.309647907514472,
          11.028585824684654,
          12.970853223284093,
          15.145353321723347,
          17.557085350869574,
          20.206336362247278,
          23.08792391584719,
          26.190532813242374,
          29.4961906358003,
          32.979925932517396,
          36.60964917432015,
          40.34628992013037,
          44.144214099345795,
          47.951933207070816,
          51.713103063000304,
          55.36779434403998,
          58.854001278528095,
          62.10933971426542,
          65.0728723114448,
          67.68698788919991,
          69.89925486480988,
          71.66416595027727,
          72.94469321596927,
          73.71357937372656,
          73.95430240479247,
          73.66166585645635,
          72.84198535204423,
          71.51286196485559,
          69.70255381374285,
          67.44897721503938,
          64.79838669846619,
          61.80379804577361,
          58.52322936346961,
          55.01784148205936,
          51.35006045008671,
          47.58176167347619,
          43.772587772767174,
          39.97846119932934,
          36.25033897691991,
          32.63324164927175,
          29.165572685453526,
          25.878729242402784,
          22.79699120776655,
          19.937663568508025,
          17.311437880318287,
          14.922932228611918,
          12.771365627283306,
          10.851322146567332,
          9.153561878724867,
          7.665839699340431,
          6.373698147930115,
          5.261207093015858,
          4.31162963920369,
          3.508000504514285,
          2.833609450464464,
          2.27238798372823,
          1.8092022641228893,
          1.4300588426036878,
          1.122232494351547,
          0.8743270566143387,
          0.6762809332953407,
          0.5193289287158207,
          0.3959314804367415,
          0.29968133800207525,
          0.2251964349513399,
          0.16800626214329878,
          0.12443758525097684,
          0.09150394683707755,
          0.06680211696774155,
          0.04841754567080244,
          0.034839945173904506,
          0.02488939279378529,
          0.017652787243317085,
          0.012430094175861977,
          0.008689558229436074,
          0.006030913829184536,
          0.004155570889933407,
          0.0028427614283116636,
          0.0019306888105570892,
          0.0013018060686211615,
          0.0008714499525528425,
          0.0005791629294049209,
          0.0003821388640672589,
          0.00025032475926428795
         ],
         "yaxis": "y"
        }
       ],
       "layout": {
        "legend": {
         "tracegroupgap": 0
        },
        "margin": {
         "t": 60
        },
        "template": {
         "data": {
          "bar": [
           {
            "error_x": {
             "color": "#2a3f5f"
            },
            "error_y": {
             "color": "#2a3f5f"
            },
            "marker": {
             "line": {
              "color": "#E5ECF6",
              "width": 0.5
             },
             "pattern": {
              "fillmode": "overlay",
              "size": 10,
              "solidity": 0.2
             }
            },
            "type": "bar"
           }
          ],
          "barpolar": [
           {
            "marker": {
             "line": {
              "color": "#E5ECF6",
              "width": 0.5
             },
             "pattern": {
              "fillmode": "overlay",
              "size": 10,
              "solidity": 0.2
             }
            },
            "type": "barpolar"
           }
          ],
          "carpet": [
           {
            "aaxis": {
             "endlinecolor": "#2a3f5f",
             "gridcolor": "white",
             "linecolor": "white",
             "minorgridcolor": "white",
             "startlinecolor": "#2a3f5f"
            },
            "baxis": {
             "endlinecolor": "#2a3f5f",
             "gridcolor": "white",
             "linecolor": "white",
             "minorgridcolor": "white",
             "startlinecolor": "#2a3f5f"
            },
            "type": "carpet"
           }
          ],
          "choropleth": [
           {
            "colorbar": {
             "outlinewidth": 0,
             "ticks": ""
            },
            "type": "choropleth"
           }
          ],
          "contour": [
           {
            "colorbar": {
             "outlinewidth": 0,
             "ticks": ""
            },
            "colorscale": [
             [
              0,
              "#0d0887"
             ],
             [
              0.1111111111111111,
              "#46039f"
             ],
             [
              0.2222222222222222,
              "#7201a8"
             ],
             [
              0.3333333333333333,
              "#9c179e"
             ],
             [
              0.4444444444444444,
              "#bd3786"
             ],
             [
              0.5555555555555556,
              "#d8576b"
             ],
             [
              0.6666666666666666,
              "#ed7953"
             ],
             [
              0.7777777777777778,
              "#fb9f3a"
             ],
             [
              0.8888888888888888,
              "#fdca26"
             ],
             [
              1,
              "#f0f921"
             ]
            ],
            "type": "contour"
           }
          ],
          "contourcarpet": [
           {
            "colorbar": {
             "outlinewidth": 0,
             "ticks": ""
            },
            "type": "contourcarpet"
           }
          ],
          "heatmap": [
           {
            "colorbar": {
             "outlinewidth": 0,
             "ticks": ""
            },
            "colorscale": [
             [
              0,
              "#0d0887"
             ],
             [
              0.1111111111111111,
              "#46039f"
             ],
             [
              0.2222222222222222,
              "#7201a8"
             ],
             [
              0.3333333333333333,
              "#9c179e"
             ],
             [
              0.4444444444444444,
              "#bd3786"
             ],
             [
              0.5555555555555556,
              "#d8576b"
             ],
             [
              0.6666666666666666,
              "#ed7953"
             ],
             [
              0.7777777777777778,
              "#fb9f3a"
             ],
             [
              0.8888888888888888,
              "#fdca26"
             ],
             [
              1,
              "#f0f921"
             ]
            ],
            "type": "heatmap"
           }
          ],
          "heatmapgl": [
           {
            "colorbar": {
             "outlinewidth": 0,
             "ticks": ""
            },
            "colorscale": [
             [
              0,
              "#0d0887"
             ],
             [
              0.1111111111111111,
              "#46039f"
             ],
             [
              0.2222222222222222,
              "#7201a8"
             ],
             [
              0.3333333333333333,
              "#9c179e"
             ],
             [
              0.4444444444444444,
              "#bd3786"
             ],
             [
              0.5555555555555556,
              "#d8576b"
             ],
             [
              0.6666666666666666,
              "#ed7953"
             ],
             [
              0.7777777777777778,
              "#fb9f3a"
             ],
             [
              0.8888888888888888,
              "#fdca26"
             ],
             [
              1,
              "#f0f921"
             ]
            ],
            "type": "heatmapgl"
           }
          ],
          "histogram": [
           {
            "marker": {
             "pattern": {
              "fillmode": "overlay",
              "size": 10,
              "solidity": 0.2
             }
            },
            "type": "histogram"
           }
          ],
          "histogram2d": [
           {
            "colorbar": {
             "outlinewidth": 0,
             "ticks": ""
            },
            "colorscale": [
             [
              0,
              "#0d0887"
             ],
             [
              0.1111111111111111,
              "#46039f"
             ],
             [
              0.2222222222222222,
              "#7201a8"
             ],
             [
              0.3333333333333333,
              "#9c179e"
             ],
             [
              0.4444444444444444,
              "#bd3786"
             ],
             [
              0.5555555555555556,
              "#d8576b"
             ],
             [
              0.6666666666666666,
              "#ed7953"
             ],
             [
              0.7777777777777778,
              "#fb9f3a"
             ],
             [
              0.8888888888888888,
              "#fdca26"
             ],
             [
              1,
              "#f0f921"
             ]
            ],
            "type": "histogram2d"
           }
          ],
          "histogram2dcontour": [
           {
            "colorbar": {
             "outlinewidth": 0,
             "ticks": ""
            },
            "colorscale": [
             [
              0,
              "#0d0887"
             ],
             [
              0.1111111111111111,
              "#46039f"
             ],
             [
              0.2222222222222222,
              "#7201a8"
             ],
             [
              0.3333333333333333,
              "#9c179e"
             ],
             [
              0.4444444444444444,
              "#bd3786"
             ],
             [
              0.5555555555555556,
              "#d8576b"
             ],
             [
              0.6666666666666666,
              "#ed7953"
             ],
             [
              0.7777777777777778,
              "#fb9f3a"
             ],
             [
              0.8888888888888888,
              "#fdca26"
             ],
             [
              1,
              "#f0f921"
             ]
            ],
            "type": "histogram2dcontour"
           }
          ],
          "mesh3d": [
           {
            "colorbar": {
             "outlinewidth": 0,
             "ticks": ""
            },
            "type": "mesh3d"
           }
          ],
          "parcoords": [
           {
            "line": {
             "colorbar": {
              "outlinewidth": 0,
              "ticks": ""
             }
            },
            "type": "parcoords"
           }
          ],
          "pie": [
           {
            "automargin": true,
            "type": "pie"
           }
          ],
          "scatter": [
           {
            "marker": {
             "colorbar": {
              "outlinewidth": 0,
              "ticks": ""
             }
            },
            "type": "scatter"
           }
          ],
          "scatter3d": [
           {
            "line": {
             "colorbar": {
              "outlinewidth": 0,
              "ticks": ""
             }
            },
            "marker": {
             "colorbar": {
              "outlinewidth": 0,
              "ticks": ""
             }
            },
            "type": "scatter3d"
           }
          ],
          "scattercarpet": [
           {
            "marker": {
             "colorbar": {
              "outlinewidth": 0,
              "ticks": ""
             }
            },
            "type": "scattercarpet"
           }
          ],
          "scattergeo": [
           {
            "marker": {
             "colorbar": {
              "outlinewidth": 0,
              "ticks": ""
             }
            },
            "type": "scattergeo"
           }
          ],
          "scattergl": [
           {
            "marker": {
             "colorbar": {
              "outlinewidth": 0,
              "ticks": ""
             }
            },
            "type": "scattergl"
           }
          ],
          "scattermapbox": [
           {
            "marker": {
             "colorbar": {
              "outlinewidth": 0,
              "ticks": ""
             }
            },
            "type": "scattermapbox"
           }
          ],
          "scatterpolar": [
           {
            "marker": {
             "colorbar": {
              "outlinewidth": 0,
              "ticks": ""
             }
            },
            "type": "scatterpolar"
           }
          ],
          "scatterpolargl": [
           {
            "marker": {
             "colorbar": {
              "outlinewidth": 0,
              "ticks": ""
             }
            },
            "type": "scatterpolargl"
           }
          ],
          "scatterternary": [
           {
            "marker": {
             "colorbar": {
              "outlinewidth": 0,
              "ticks": ""
             }
            },
            "type": "scatterternary"
           }
          ],
          "surface": [
           {
            "colorbar": {
             "outlinewidth": 0,
             "ticks": ""
            },
            "colorscale": [
             [
              0,
              "#0d0887"
             ],
             [
              0.1111111111111111,
              "#46039f"
             ],
             [
              0.2222222222222222,
              "#7201a8"
             ],
             [
              0.3333333333333333,
              "#9c179e"
             ],
             [
              0.4444444444444444,
              "#bd3786"
             ],
             [
              0.5555555555555556,
              "#d8576b"
             ],
             [
              0.6666666666666666,
              "#ed7953"
             ],
             [
              0.7777777777777778,
              "#fb9f3a"
             ],
             [
              0.8888888888888888,
              "#fdca26"
             ],
             [
              1,
              "#f0f921"
             ]
            ],
            "type": "surface"
           }
          ],
          "table": [
           {
            "cells": {
             "fill": {
              "color": "#EBF0F8"
             },
             "line": {
              "color": "white"
             }
            },
            "header": {
             "fill": {
              "color": "#C8D4E3"
             },
             "line": {
              "color": "white"
             }
            },
            "type": "table"
           }
          ]
         },
         "layout": {
          "annotationdefaults": {
           "arrowcolor": "#2a3f5f",
           "arrowhead": 0,
           "arrowwidth": 1
          },
          "autotypenumbers": "strict",
          "coloraxis": {
           "colorbar": {
            "outlinewidth": 0,
            "ticks": ""
           }
          },
          "colorscale": {
           "diverging": [
            [
             0,
             "#8e0152"
            ],
            [
             0.1,
             "#c51b7d"
            ],
            [
             0.2,
             "#de77ae"
            ],
            [
             0.3,
             "#f1b6da"
            ],
            [
             0.4,
             "#fde0ef"
            ],
            [
             0.5,
             "#f7f7f7"
            ],
            [
             0.6,
             "#e6f5d0"
            ],
            [
             0.7,
             "#b8e186"
            ],
            [
             0.8,
             "#7fbc41"
            ],
            [
             0.9,
             "#4d9221"
            ],
            [
             1,
             "#276419"
            ]
           ],
           "sequential": [
            [
             0,
             "#0d0887"
            ],
            [
             0.1111111111111111,
             "#46039f"
            ],
            [
             0.2222222222222222,
             "#7201a8"
            ],
            [
             0.3333333333333333,
             "#9c179e"
            ],
            [
             0.4444444444444444,
             "#bd3786"
            ],
            [
             0.5555555555555556,
             "#d8576b"
            ],
            [
             0.6666666666666666,
             "#ed7953"
            ],
            [
             0.7777777777777778,
             "#fb9f3a"
            ],
            [
             0.8888888888888888,
             "#fdca26"
            ],
            [
             1,
             "#f0f921"
            ]
           ],
           "sequentialminus": [
            [
             0,
             "#0d0887"
            ],
            [
             0.1111111111111111,
             "#46039f"
            ],
            [
             0.2222222222222222,
             "#7201a8"
            ],
            [
             0.3333333333333333,
             "#9c179e"
            ],
            [
             0.4444444444444444,
             "#bd3786"
            ],
            [
             0.5555555555555556,
             "#d8576b"
            ],
            [
             0.6666666666666666,
             "#ed7953"
            ],
            [
             0.7777777777777778,
             "#fb9f3a"
            ],
            [
             0.8888888888888888,
             "#fdca26"
            ],
            [
             1,
             "#f0f921"
            ]
           ]
          },
          "colorway": [
           "#636efa",
           "#EF553B",
           "#00cc96",
           "#ab63fa",
           "#FFA15A",
           "#19d3f3",
           "#FF6692",
           "#B6E880",
           "#FF97FF",
           "#FECB52"
          ],
          "font": {
           "color": "#2a3f5f"
          },
          "geo": {
           "bgcolor": "white",
           "lakecolor": "white",
           "landcolor": "#E5ECF6",
           "showlakes": true,
           "showland": true,
           "subunitcolor": "white"
          },
          "hoverlabel": {
           "align": "left"
          },
          "hovermode": "closest",
          "mapbox": {
           "style": "light"
          },
          "paper_bgcolor": "white",
          "plot_bgcolor": "#E5ECF6",
          "polar": {
           "angularaxis": {
            "gridcolor": "white",
            "linecolor": "white",
            "ticks": ""
           },
           "bgcolor": "#E5ECF6",
           "radialaxis": {
            "gridcolor": "white",
            "linecolor": "white",
            "ticks": ""
           }
          },
          "scene": {
           "xaxis": {
            "backgroundcolor": "#E5ECF6",
            "gridcolor": "white",
            "gridwidth": 2,
            "linecolor": "white",
            "showbackground": true,
            "ticks": "",
            "zerolinecolor": "white"
           },
           "yaxis": {
            "backgroundcolor": "#E5ECF6",
            "gridcolor": "white",
            "gridwidth": 2,
            "linecolor": "white",
            "showbackground": true,
            "ticks": "",
            "zerolinecolor": "white"
           },
           "zaxis": {
            "backgroundcolor": "#E5ECF6",
            "gridcolor": "white",
            "gridwidth": 2,
            "linecolor": "white",
            "showbackground": true,
            "ticks": "",
            "zerolinecolor": "white"
           }
          },
          "shapedefaults": {
           "line": {
            "color": "#2a3f5f"
           }
          },
          "ternary": {
           "aaxis": {
            "gridcolor": "white",
            "linecolor": "white",
            "ticks": ""
           },
           "baxis": {
            "gridcolor": "white",
            "linecolor": "white",
            "ticks": ""
           },
           "bgcolor": "#E5ECF6",
           "caxis": {
            "gridcolor": "white",
            "linecolor": "white",
            "ticks": ""
           }
          },
          "title": {
           "x": 0.05
          },
          "xaxis": {
           "automargin": true,
           "gridcolor": "white",
           "linecolor": "white",
           "ticks": "",
           "title": {
            "standoff": 15
           },
           "zerolinecolor": "white",
           "zerolinewidth": 2
          },
          "yaxis": {
           "automargin": true,
           "gridcolor": "white",
           "linecolor": "white",
           "ticks": "",
           "title": {
            "standoff": 15
           },
           "zerolinecolor": "white",
           "zerolinewidth": 2
          }
         }
        },
        "xaxis": {
         "anchor": "y",
         "domain": [
          0,
          1
         ],
         "title": {
          "text": "x"
         }
        },
        "yaxis": {
         "anchor": "x",
         "domain": [
          0,
          1
         ],
         "title": {
          "text": "y"
         }
        }
       }
      }
     },
     "metadata": {},
     "output_type": "display_data"
    }
   ],
   "source": [
    "mean = df_ozone.iloc[:,2].mean()\n",
    "std = df_ozone.iloc[:,2].std()\n",
    "min = df_ozone.iloc[:,2].min()\n",
    "max = df_ozone.iloc[:,2].max()\n",
    "show_norm(mean,std,min,max)"
   ]
  },
  {
   "cell_type": "markdown",
   "metadata": {},
   "source": [
    "### 부산광역시 오존의 누적확률 구하기"
   ]
  },
  {
   "cell_type": "code",
   "execution_count": 688,
   "metadata": {},
   "outputs": [],
   "source": [
    "def cal_norm(mean,std,min,max,value):\n",
    "     '''\n",
    "     정규분포에서 value에 대한 누적확률 구하기\n",
    "     mean: 평균값\n",
    "     std: 표준편차\n",
    "     min: 관측된 데이터의 최솟값\n",
    "     max: 관측된 데이터의 최댓값\n",
    "     value: 누적확률을 구하고자 하는 데이터의 측정값\n",
    "     '''\n",
    "     min = min - std\n",
    "     red ='rgb(239,85,59)'\n",
    "     blue = 'rgb(100,110,250)'\n",
    "     fig = go.Figure()\n",
    "     \n",
    "     # 확률 값을 구할 특정 구간의 범위 설정\n",
    "     cum_a = np.linspace(min,value,100)\n",
    "     cum_b = np.linspace(value,max,100)\n",
    "     \n",
    "     pro = norm(mean,std).cdf(value)-norm(mean,std).cdf(min).round(3)\n",
    "     # 구간 사이에 색을 채움\n",
    "     fig.add_trace(go.Scatter(x=cum_a,y=norm.pdf(cum_a,mean,std), fill = 'tozeroy',name='적합',text=pro,line=dict(color=blue)))\n",
    "     fig.add_trace(go.Scatter(x=cum_b,y=norm.pdf(cum_b,mean,std), fill = 'tozeroy',name='부적합',text=pro,line=dict(color=red)))\n",
    "     annotations =[]\n",
    "     annotations.append(dict(x=value, y=norm.pdf(value,loc=mean,scale=std), showarrow=False, text=round(pro,3), font=dict(size=15,color=blue), xshift=-40, yshift=-100, bordercolor=blue,borderwidth=2))\n",
    "     annotations.append(dict(x=value, y=norm.pdf(value,loc=mean,scale=std), showarrow=False, text=round(1-pro,3),font=dict(size=15,color=red),xshift=40, yshift=-100, bordercolor=red,borderwidth=2))\n",
    "     fig.update_layout(annotations=annotations)\n",
    "     # value까지의 누적확률에서 min까지의 누적확률을 뺌\n",
    "     fig.show()\n",
    "\n",
    "     # 최종 누적확률 반환\n",
    "     return pro"
   ]
  },
  {
   "cell_type": "code",
   "execution_count": 689,
   "metadata": {},
   "outputs": [
    {
     "data": {
      "application/vnd.plotly.v1+json": {
       "config": {
        "plotlyServerURL": "https://plot.ly"
       },
       "data": [
        {
         "fill": "tozeroy",
         "line": {
          "color": "rgb(100,110,250)"
         },
         "name": "적합",
         "text": "0.23346014669602194",
         "type": "scatter",
         "x": [
          0.013605603165889407,
          0.013751001113708706,
          0.013896399061528005,
          0.014041797009347304,
          0.014187194957166603,
          0.014332592904985902,
          0.014477990852805201,
          0.0146233888006245,
          0.014768786748443799,
          0.014914184696263098,
          0.015059582644082397,
          0.015204980591901696,
          0.015350378539720995,
          0.015495776487540294,
          0.015641174435359593,
          0.01578657238317889,
          0.01593197033099819,
          0.016077368278817488,
          0.01622276622663679,
          0.016368164174456086,
          0.016513562122275387,
          0.016658960070094684,
          0.016804358017913985,
          0.016949755965733282,
          0.017095153913552583,
          0.01724055186137188,
          0.01738594980919118,
          0.017531347757010478,
          0.01767674570482978,
          0.017822143652649076,
          0.017967541600468373,
          0.018112939548287674,
          0.018258337496106974,
          0.01840373544392627,
          0.01854913339174557,
          0.01869453133956487,
          0.01883992928738417,
          0.018985327235203468,
          0.019130725183022765,
          0.019276123130842066,
          0.019421521078661366,
          0.019566919026480663,
          0.01971231697429996,
          0.01985771492211926,
          0.02000311286993856,
          0.02014851081775786,
          0.020293908765577157,
          0.020439306713396457,
          0.020584704661215755,
          0.020730102609035055,
          0.020875500556854353,
          0.021020898504673653,
          0.02116629645249295,
          0.02131169440031225,
          0.02145709234813155,
          0.02160249029595085,
          0.021747888243770146,
          0.021893286191589444,
          0.022038684139408744,
          0.022184082087228045,
          0.022329480035047342,
          0.02247487798286664,
          0.02262027593068594,
          0.02276567387850524,
          0.022911071826324538,
          0.023056469774143835,
          0.023201867721963136,
          0.023347265669782437,
          0.023492663617601734,
          0.02363806156542103,
          0.023783459513240332,
          0.023928857461059633,
          0.02407425540887893,
          0.024219653356698227,
          0.024365051304517528,
          0.02451044925233683,
          0.024655847200156126,
          0.024801245147975423,
          0.024946643095794724,
          0.025092041043614025,
          0.025237438991433322,
          0.02538283693925262,
          0.02552823488707192,
          0.025673632834891217,
          0.025819030782710514,
          0.025964428730529815,
          0.026109826678349116,
          0.026255224626168413,
          0.02640062257398771,
          0.02654602052180701,
          0.02669141846962631,
          0.02683681641744561,
          0.026982214365264906,
          0.027127612313084207,
          0.027273010260903507,
          0.027418408208722805,
          0.027563806156542102,
          0.027709204104361403,
          0.027854602052180703,
          0.028
         ],
         "y": [
          0.23163280608591946,
          0.2537428854035232,
          0.27776157642952154,
          0.30383300654453604,
          0.33211020643903977,
          0.3627554805876673,
          0.3959407771255559,
          0.431848055386245,
          0.47066964921186466,
          0.5126086239953216,
          0.5578791252616648,
          0.606706716442859,
          0.6593287033475936,
          0.7159944426768615,
          0.7769656317877317,
          0.8425165767635056,
          0.9129344357094468,
          0.98851943406103,
          1.06958504856758,
          1.15645815649976,
          1.2494791465263981,
          1.349001987615928,
          1.4553942522423697,
          1.5690370901165402,
          1.690325148622205,
          1.8196664361154462,
          1.95748212424598,
          2.1042062854821713,
          2.260285562070128,
          2.4261787627314075,
          2.6023563835067907,
          2.789300049285074,
          2.98750187271843,
          3.197463727420015,
          3.4196964325664303,
          3.6547188462881834,
          3.9030568655260804,
          4.16524233036088,
          4.441811831187863,
          4.73330541750692,
          5.040265207532453,
          5.363233898294744,
          5.702753176404899,
          6.059362030187645,
          6.433594964448697,
          6.8259801197347345,
          7.237037298560436,
          7.667275901718938,
          8.117192778453123,
          8.58726999494539,
          9.07797252627701,
          9.589745877712865,
          10.123013641877689,
          10.678174999102845,
          11.25560216893213,
          11.855637821477638,
          12.478592458005572,
          13.124741770803567,
          13.794323993028092,
          14.487537249849085,
          15.20453692279222,
          15.945433039721925,
          16.710287703404028,
          17.499112572031827,
          18.311866405485343,
          19.148452691417177,
          20.008717365513593,
          20.89244664046127,
          21.799364958254813,
          22.729133080501413,
          23.681346331315464,
          24.65553300724244,
          25.651152968405615,
          26.66759642472896,
          27.704182930652465,
          28.760160601222466,
          29.83470556180748,
          30.926921642960203,
          32.035840331120575,
          33.16042098493363,
          34.29955132594355,
          35.45204821132274,
          36.61665869510828,
          37.79206138315203,
          38.976868085649826,
          40.16962576970616,
          41.36881881292197,
          42.5728715574711,
          43.780151162563456,
          44.988970751591,
          46.197592848624495,
          47.40423309728443,
          48.60706425335986,
          49.80422044090386,
          50.99380165990674,
          52.17387853204699,
          53.34249726945753,
          54.49768484993334,
          55.63745438055547,
          56.75981063032846
         ]
        },
        {
         "fill": "tozeroy",
         "line": {
          "color": "rgb(239,85,59)"
         },
         "name": "부적합",
         "text": "0.23346014669602194",
         "type": "scatter",
         "x": [
          0.028,
          0.028313131313131314,
          0.028626262626262628,
          0.02893939393939394,
          0.029252525252525252,
          0.029565656565656566,
          0.02987878787878788,
          0.030191919191919193,
          0.030505050505050507,
          0.030818181818181817,
          0.03113131313131313,
          0.03144444444444444,
          0.031757575757575755,
          0.03207070707070707,
          0.03238383838383838,
          0.0326969696969697,
          0.03301010101010101,
          0.033323232323232324,
          0.03363636363636364,
          0.03394949494949495,
          0.034262626262626265,
          0.03457575757575758,
          0.034888888888888886,
          0.0352020202020202,
          0.035515151515151513,
          0.03582828282828283,
          0.03614141414141414,
          0.036454545454545455,
          0.03676767676767677,
          0.03708080808080808,
          0.037393939393939396,
          0.0377070707070707,
          0.038020202020202024,
          0.03833333333333333,
          0.038646464646464644,
          0.03895959595959596,
          0.03927272727272727,
          0.039585858585858585,
          0.0398989898989899,
          0.04021212121212121,
          0.04052525252525253,
          0.04083838383838384,
          0.04115151515151515,
          0.04146464646464647,
          0.041777777777777775,
          0.04209090909090909,
          0.0424040404040404,
          0.042717171717171716,
          0.04303030303030303,
          0.043343434343434344,
          0.04365656565656566,
          0.043969696969696964,
          0.044282828282828285,
          0.04459595959595959,
          0.04490909090909091,
          0.04522222222222222,
          0.04553535353535354,
          0.04584848484848485,
          0.04616161616161616,
          0.046474747474747474,
          0.04678787878787879,
          0.0471010101010101,
          0.04741414141414141,
          0.04772727272727273,
          0.048040404040404036,
          0.04835353535353536,
          0.048666666666666664,
          0.04897979797979798,
          0.04929292929292929,
          0.049606060606060605,
          0.04991919191919192,
          0.05023232323232323,
          0.050545454545454546,
          0.05085858585858585,
          0.051171717171717174,
          0.05148484848484848,
          0.0517979797979798,
          0.05211111111111111,
          0.05242424242424242,
          0.052737373737373736,
          0.05305050505050505,
          0.05336363636363636,
          0.05367676767676768,
          0.05398989898989899,
          0.0543030303030303,
          0.05461616161616162,
          0.054929292929292925,
          0.055242424242424246,
          0.05555555555555555,
          0.055868686868686866,
          0.05618181818181818,
          0.056494949494949494,
          0.05680808080808081,
          0.05712121212121212,
          0.057434343434343435,
          0.05774747474747474,
          0.05806060606060606,
          0.05837373737373737,
          0.05868686868686869,
          0.059
         ],
         "y": [
          56.75981063032846,
          59.10841316963048,
          61.34713732012705,
          63.45647479195396,
          65.41754187170982,
          67.21235908192479,
          68.8241245228445,
          70.2374751110579,
          71.43873004947167,
          72.41611114045446,
          73.1599349842071,
          73.66277267783136,
          73.91957333240023,
          73.92774853621476,
          73.68721578906407,
          73.20039988825661,
          72.47219223385926,
          71.50986900823129,
          70.32297014380347,
          68.92314189441745,
          67.32394664280442,
          65.54064428641138,
          63.58995012613503,
          61.489774622509174,
          59.25895067144554,
          56.91695418195817,
          54.483623711948596,
          51.97888474077799,
          49.422483839481565,
          46.833737555809364,
          44.23130028007337,
          41.6329547200596,
          39.055427911908176,
          36.51423495271374,
          34.02355188354057,
          31.596118401677607,
          29.24317035976199,
          26.974401336133603,
          24.797951951875646,
          22.720425078693868,
          20.746924637879356,
          18.88111534033535,
          17.125300463776682,
          15.480514605163656,
          13.946628280616517,
          12.522461265231467,
          11.20590166296601,
          9.994027861947233,
          8.88323075189292,
          7.869333845842511,
          6.947709245924187,
          6.1133877105380705,
          5.361161406865809,
          4.685678257740681,
          4.081527106560958,
          3.5433132204270064,
          3.065723923836571,
          2.643584398424219,
          2.2719038952052073,
          1.9459127828316407,
          1.6610909980213988,
          1.4131885732526188,
          1.1982389936557036,
          1.0125661821800613,
          0.8527859325412216,
          0.7158026065349542,
          0.5988018896306373,
          0.4992403599810695,
          0.4148325746994564,
          0.34353631686313707,
          0.28353658035076185,
          0.23322880011710237,
          0.1912017653003657,
          0.1562205836931857,
          0.1272100002496565,
          0.10323831072578069,
          0.08350205518134042,
          0.0673116255058584,
          0.05407787668256955,
          0.04329979324215689,
          0.03455323015161241,
          0.02748072094473501,
          0.0217823248228045,
          0.017207468248839425,
          0.013547724689033919,
          0.010630468061267783,
          0.008313330574857097,
          0.006479393449051951,
          0.005033038974238389,
          0.0038963940659434023,
          0.0030062984428750866,
          0.002311734473303545,
          0.0017716602683452765,
          0.001353192496169651,
          0.001030090435724918,
          0.000781497814127139,
          0.0005909038495281668,
          0.00044528955661754597,
          0.0003344296998305457,
          0.00025032475926428795
         ]
        }
       ],
       "layout": {
        "annotations": [
         {
          "bordercolor": "rgb(100,110,250)",
          "borderwidth": 2,
          "font": {
           "color": "rgb(100,110,250)",
           "size": 15
          },
          "showarrow": false,
          "text": "0.233",
          "x": 0.028,
          "xshift": -40,
          "y": 56.75981063032846,
          "yshift": -100
         },
         {
          "bordercolor": "rgb(239,85,59)",
          "borderwidth": 2,
          "font": {
           "color": "rgb(239,85,59)",
           "size": 15
          },
          "showarrow": false,
          "text": "0.767",
          "x": 0.028,
          "xshift": 40,
          "y": 56.75981063032846,
          "yshift": -100
         }
        ],
        "template": {
         "data": {
          "bar": [
           {
            "error_x": {
             "color": "#2a3f5f"
            },
            "error_y": {
             "color": "#2a3f5f"
            },
            "marker": {
             "line": {
              "color": "#E5ECF6",
              "width": 0.5
             },
             "pattern": {
              "fillmode": "overlay",
              "size": 10,
              "solidity": 0.2
             }
            },
            "type": "bar"
           }
          ],
          "barpolar": [
           {
            "marker": {
             "line": {
              "color": "#E5ECF6",
              "width": 0.5
             },
             "pattern": {
              "fillmode": "overlay",
              "size": 10,
              "solidity": 0.2
             }
            },
            "type": "barpolar"
           }
          ],
          "carpet": [
           {
            "aaxis": {
             "endlinecolor": "#2a3f5f",
             "gridcolor": "white",
             "linecolor": "white",
             "minorgridcolor": "white",
             "startlinecolor": "#2a3f5f"
            },
            "baxis": {
             "endlinecolor": "#2a3f5f",
             "gridcolor": "white",
             "linecolor": "white",
             "minorgridcolor": "white",
             "startlinecolor": "#2a3f5f"
            },
            "type": "carpet"
           }
          ],
          "choropleth": [
           {
            "colorbar": {
             "outlinewidth": 0,
             "ticks": ""
            },
            "type": "choropleth"
           }
          ],
          "contour": [
           {
            "colorbar": {
             "outlinewidth": 0,
             "ticks": ""
            },
            "colorscale": [
             [
              0,
              "#0d0887"
             ],
             [
              0.1111111111111111,
              "#46039f"
             ],
             [
              0.2222222222222222,
              "#7201a8"
             ],
             [
              0.3333333333333333,
              "#9c179e"
             ],
             [
              0.4444444444444444,
              "#bd3786"
             ],
             [
              0.5555555555555556,
              "#d8576b"
             ],
             [
              0.6666666666666666,
              "#ed7953"
             ],
             [
              0.7777777777777778,
              "#fb9f3a"
             ],
             [
              0.8888888888888888,
              "#fdca26"
             ],
             [
              1,
              "#f0f921"
             ]
            ],
            "type": "contour"
           }
          ],
          "contourcarpet": [
           {
            "colorbar": {
             "outlinewidth": 0,
             "ticks": ""
            },
            "type": "contourcarpet"
           }
          ],
          "heatmap": [
           {
            "colorbar": {
             "outlinewidth": 0,
             "ticks": ""
            },
            "colorscale": [
             [
              0,
              "#0d0887"
             ],
             [
              0.1111111111111111,
              "#46039f"
             ],
             [
              0.2222222222222222,
              "#7201a8"
             ],
             [
              0.3333333333333333,
              "#9c179e"
             ],
             [
              0.4444444444444444,
              "#bd3786"
             ],
             [
              0.5555555555555556,
              "#d8576b"
             ],
             [
              0.6666666666666666,
              "#ed7953"
             ],
             [
              0.7777777777777778,
              "#fb9f3a"
             ],
             [
              0.8888888888888888,
              "#fdca26"
             ],
             [
              1,
              "#f0f921"
             ]
            ],
            "type": "heatmap"
           }
          ],
          "heatmapgl": [
           {
            "colorbar": {
             "outlinewidth": 0,
             "ticks": ""
            },
            "colorscale": [
             [
              0,
              "#0d0887"
             ],
             [
              0.1111111111111111,
              "#46039f"
             ],
             [
              0.2222222222222222,
              "#7201a8"
             ],
             [
              0.3333333333333333,
              "#9c179e"
             ],
             [
              0.4444444444444444,
              "#bd3786"
             ],
             [
              0.5555555555555556,
              "#d8576b"
             ],
             [
              0.6666666666666666,
              "#ed7953"
             ],
             [
              0.7777777777777778,
              "#fb9f3a"
             ],
             [
              0.8888888888888888,
              "#fdca26"
             ],
             [
              1,
              "#f0f921"
             ]
            ],
            "type": "heatmapgl"
           }
          ],
          "histogram": [
           {
            "marker": {
             "pattern": {
              "fillmode": "overlay",
              "size": 10,
              "solidity": 0.2
             }
            },
            "type": "histogram"
           }
          ],
          "histogram2d": [
           {
            "colorbar": {
             "outlinewidth": 0,
             "ticks": ""
            },
            "colorscale": [
             [
              0,
              "#0d0887"
             ],
             [
              0.1111111111111111,
              "#46039f"
             ],
             [
              0.2222222222222222,
              "#7201a8"
             ],
             [
              0.3333333333333333,
              "#9c179e"
             ],
             [
              0.4444444444444444,
              "#bd3786"
             ],
             [
              0.5555555555555556,
              "#d8576b"
             ],
             [
              0.6666666666666666,
              "#ed7953"
             ],
             [
              0.7777777777777778,
              "#fb9f3a"
             ],
             [
              0.8888888888888888,
              "#fdca26"
             ],
             [
              1,
              "#f0f921"
             ]
            ],
            "type": "histogram2d"
           }
          ],
          "histogram2dcontour": [
           {
            "colorbar": {
             "outlinewidth": 0,
             "ticks": ""
            },
            "colorscale": [
             [
              0,
              "#0d0887"
             ],
             [
              0.1111111111111111,
              "#46039f"
             ],
             [
              0.2222222222222222,
              "#7201a8"
             ],
             [
              0.3333333333333333,
              "#9c179e"
             ],
             [
              0.4444444444444444,
              "#bd3786"
             ],
             [
              0.5555555555555556,
              "#d8576b"
             ],
             [
              0.6666666666666666,
              "#ed7953"
             ],
             [
              0.7777777777777778,
              "#fb9f3a"
             ],
             [
              0.8888888888888888,
              "#fdca26"
             ],
             [
              1,
              "#f0f921"
             ]
            ],
            "type": "histogram2dcontour"
           }
          ],
          "mesh3d": [
           {
            "colorbar": {
             "outlinewidth": 0,
             "ticks": ""
            },
            "type": "mesh3d"
           }
          ],
          "parcoords": [
           {
            "line": {
             "colorbar": {
              "outlinewidth": 0,
              "ticks": ""
             }
            },
            "type": "parcoords"
           }
          ],
          "pie": [
           {
            "automargin": true,
            "type": "pie"
           }
          ],
          "scatter": [
           {
            "marker": {
             "colorbar": {
              "outlinewidth": 0,
              "ticks": ""
             }
            },
            "type": "scatter"
           }
          ],
          "scatter3d": [
           {
            "line": {
             "colorbar": {
              "outlinewidth": 0,
              "ticks": ""
             }
            },
            "marker": {
             "colorbar": {
              "outlinewidth": 0,
              "ticks": ""
             }
            },
            "type": "scatter3d"
           }
          ],
          "scattercarpet": [
           {
            "marker": {
             "colorbar": {
              "outlinewidth": 0,
              "ticks": ""
             }
            },
            "type": "scattercarpet"
           }
          ],
          "scattergeo": [
           {
            "marker": {
             "colorbar": {
              "outlinewidth": 0,
              "ticks": ""
             }
            },
            "type": "scattergeo"
           }
          ],
          "scattergl": [
           {
            "marker": {
             "colorbar": {
              "outlinewidth": 0,
              "ticks": ""
             }
            },
            "type": "scattergl"
           }
          ],
          "scattermapbox": [
           {
            "marker": {
             "colorbar": {
              "outlinewidth": 0,
              "ticks": ""
             }
            },
            "type": "scattermapbox"
           }
          ],
          "scatterpolar": [
           {
            "marker": {
             "colorbar": {
              "outlinewidth": 0,
              "ticks": ""
             }
            },
            "type": "scatterpolar"
           }
          ],
          "scatterpolargl": [
           {
            "marker": {
             "colorbar": {
              "outlinewidth": 0,
              "ticks": ""
             }
            },
            "type": "scatterpolargl"
           }
          ],
          "scatterternary": [
           {
            "marker": {
             "colorbar": {
              "outlinewidth": 0,
              "ticks": ""
             }
            },
            "type": "scatterternary"
           }
          ],
          "surface": [
           {
            "colorbar": {
             "outlinewidth": 0,
             "ticks": ""
            },
            "colorscale": [
             [
              0,
              "#0d0887"
             ],
             [
              0.1111111111111111,
              "#46039f"
             ],
             [
              0.2222222222222222,
              "#7201a8"
             ],
             [
              0.3333333333333333,
              "#9c179e"
             ],
             [
              0.4444444444444444,
              "#bd3786"
             ],
             [
              0.5555555555555556,
              "#d8576b"
             ],
             [
              0.6666666666666666,
              "#ed7953"
             ],
             [
              0.7777777777777778,
              "#fb9f3a"
             ],
             [
              0.8888888888888888,
              "#fdca26"
             ],
             [
              1,
              "#f0f921"
             ]
            ],
            "type": "surface"
           }
          ],
          "table": [
           {
            "cells": {
             "fill": {
              "color": "#EBF0F8"
             },
             "line": {
              "color": "white"
             }
            },
            "header": {
             "fill": {
              "color": "#C8D4E3"
             },
             "line": {
              "color": "white"
             }
            },
            "type": "table"
           }
          ]
         },
         "layout": {
          "annotationdefaults": {
           "arrowcolor": "#2a3f5f",
           "arrowhead": 0,
           "arrowwidth": 1
          },
          "autotypenumbers": "strict",
          "coloraxis": {
           "colorbar": {
            "outlinewidth": 0,
            "ticks": ""
           }
          },
          "colorscale": {
           "diverging": [
            [
             0,
             "#8e0152"
            ],
            [
             0.1,
             "#c51b7d"
            ],
            [
             0.2,
             "#de77ae"
            ],
            [
             0.3,
             "#f1b6da"
            ],
            [
             0.4,
             "#fde0ef"
            ],
            [
             0.5,
             "#f7f7f7"
            ],
            [
             0.6,
             "#e6f5d0"
            ],
            [
             0.7,
             "#b8e186"
            ],
            [
             0.8,
             "#7fbc41"
            ],
            [
             0.9,
             "#4d9221"
            ],
            [
             1,
             "#276419"
            ]
           ],
           "sequential": [
            [
             0,
             "#0d0887"
            ],
            [
             0.1111111111111111,
             "#46039f"
            ],
            [
             0.2222222222222222,
             "#7201a8"
            ],
            [
             0.3333333333333333,
             "#9c179e"
            ],
            [
             0.4444444444444444,
             "#bd3786"
            ],
            [
             0.5555555555555556,
             "#d8576b"
            ],
            [
             0.6666666666666666,
             "#ed7953"
            ],
            [
             0.7777777777777778,
             "#fb9f3a"
            ],
            [
             0.8888888888888888,
             "#fdca26"
            ],
            [
             1,
             "#f0f921"
            ]
           ],
           "sequentialminus": [
            [
             0,
             "#0d0887"
            ],
            [
             0.1111111111111111,
             "#46039f"
            ],
            [
             0.2222222222222222,
             "#7201a8"
            ],
            [
             0.3333333333333333,
             "#9c179e"
            ],
            [
             0.4444444444444444,
             "#bd3786"
            ],
            [
             0.5555555555555556,
             "#d8576b"
            ],
            [
             0.6666666666666666,
             "#ed7953"
            ],
            [
             0.7777777777777778,
             "#fb9f3a"
            ],
            [
             0.8888888888888888,
             "#fdca26"
            ],
            [
             1,
             "#f0f921"
            ]
           ]
          },
          "colorway": [
           "#636efa",
           "#EF553B",
           "#00cc96",
           "#ab63fa",
           "#FFA15A",
           "#19d3f3",
           "#FF6692",
           "#B6E880",
           "#FF97FF",
           "#FECB52"
          ],
          "font": {
           "color": "#2a3f5f"
          },
          "geo": {
           "bgcolor": "white",
           "lakecolor": "white",
           "landcolor": "#E5ECF6",
           "showlakes": true,
           "showland": true,
           "subunitcolor": "white"
          },
          "hoverlabel": {
           "align": "left"
          },
          "hovermode": "closest",
          "mapbox": {
           "style": "light"
          },
          "paper_bgcolor": "white",
          "plot_bgcolor": "#E5ECF6",
          "polar": {
           "angularaxis": {
            "gridcolor": "white",
            "linecolor": "white",
            "ticks": ""
           },
           "bgcolor": "#E5ECF6",
           "radialaxis": {
            "gridcolor": "white",
            "linecolor": "white",
            "ticks": ""
           }
          },
          "scene": {
           "xaxis": {
            "backgroundcolor": "#E5ECF6",
            "gridcolor": "white",
            "gridwidth": 2,
            "linecolor": "white",
            "showbackground": true,
            "ticks": "",
            "zerolinecolor": "white"
           },
           "yaxis": {
            "backgroundcolor": "#E5ECF6",
            "gridcolor": "white",
            "gridwidth": 2,
            "linecolor": "white",
            "showbackground": true,
            "ticks": "",
            "zerolinecolor": "white"
           },
           "zaxis": {
            "backgroundcolor": "#E5ECF6",
            "gridcolor": "white",
            "gridwidth": 2,
            "linecolor": "white",
            "showbackground": true,
            "ticks": "",
            "zerolinecolor": "white"
           }
          },
          "shapedefaults": {
           "line": {
            "color": "#2a3f5f"
           }
          },
          "ternary": {
           "aaxis": {
            "gridcolor": "white",
            "linecolor": "white",
            "ticks": ""
           },
           "baxis": {
            "gridcolor": "white",
            "linecolor": "white",
            "ticks": ""
           },
           "bgcolor": "#E5ECF6",
           "caxis": {
            "gridcolor": "white",
            "linecolor": "white",
            "ticks": ""
           }
          },
          "title": {
           "x": 0.05
          },
          "xaxis": {
           "automargin": true,
           "gridcolor": "white",
           "linecolor": "white",
           "ticks": "",
           "title": {
            "standoff": 15
           },
           "zerolinecolor": "white",
           "zerolinewidth": 2
          },
          "yaxis": {
           "automargin": true,
           "gridcolor": "white",
           "linecolor": "white",
           "ticks": "",
           "title": {
            "standoff": 15
           },
           "zerolinecolor": "white",
           "zerolinewidth": 2
          }
         }
        }
       }
      }
     },
     "metadata": {},
     "output_type": "display_data"
    },
    {
     "data": {
      "text/plain": [
       "0.23346014669602194"
      ]
     },
     "execution_count": 689,
     "metadata": {},
     "output_type": "execute_result"
    }
   ],
   "source": [
    "busan_oz = df_ozone[df_ozone['구분(2)']=='부산광역시'].loc[2,'2021.07']\n",
    "ozone_pro = cal_norm(mean,std,min,max,busan_oz)\n",
    "ozone_pro"
   ]
  },
  {
   "cell_type": "markdown",
   "metadata": {
    "collapsed": false
   },
   "source": [
    "### 아황산가스 월별 데이터 불러오기"
   ]
  },
  {
   "cell_type": "code",
   "execution_count": 690,
   "metadata": {
    "collapsed": false,
    "pycharm": {
     "name": "#%%\n"
    }
   },
   "outputs": [
    {
     "data": {
      "text/html": [
       "<div>\n",
       "<style scoped>\n",
       "    .dataframe tbody tr th:only-of-type {\n",
       "        vertical-align: middle;\n",
       "    }\n",
       "\n",
       "    .dataframe tbody tr th {\n",
       "        vertical-align: top;\n",
       "    }\n",
       "\n",
       "    .dataframe thead th {\n",
       "        text-align: right;\n",
       "    }\n",
       "</style>\n",
       "<table border=\"1\" class=\"dataframe\">\n",
       "  <thead>\n",
       "    <tr style=\"text-align: right;\">\n",
       "      <th></th>\n",
       "      <th>구분(1)</th>\n",
       "      <th>구분(2)</th>\n",
       "      <th>2021.02</th>\n",
       "      <th>2021.03</th>\n",
       "      <th>2021.04</th>\n",
       "      <th>2021.05</th>\n",
       "      <th>2021.06</th>\n",
       "      <th>2021.07</th>\n",
       "    </tr>\n",
       "  </thead>\n",
       "  <tbody>\n",
       "    <tr>\n",
       "      <th>0</th>\n",
       "      <td>총계</td>\n",
       "      <td>소계</td>\n",
       "      <td>0.003</td>\n",
       "      <td>0.003</td>\n",
       "      <td>0.003</td>\n",
       "      <td>0.003</td>\n",
       "      <td>0.003</td>\n",
       "      <td>0.003</td>\n",
       "    </tr>\n",
       "    <tr>\n",
       "      <th>1</th>\n",
       "      <td>서울특별시</td>\n",
       "      <td>서울특별시</td>\n",
       "      <td>0.003</td>\n",
       "      <td>0.003</td>\n",
       "      <td>0.003</td>\n",
       "      <td>0.003</td>\n",
       "      <td>0.003</td>\n",
       "      <td>0.003</td>\n",
       "    </tr>\n",
       "    <tr>\n",
       "      <th>2</th>\n",
       "      <td>부산광역시</td>\n",
       "      <td>부산광역시</td>\n",
       "      <td>0.004</td>\n",
       "      <td>0.003</td>\n",
       "      <td>0.003</td>\n",
       "      <td>0.002</td>\n",
       "      <td>0.003</td>\n",
       "      <td>0.003</td>\n",
       "    </tr>\n",
       "    <tr>\n",
       "      <th>3</th>\n",
       "      <td>대구광역시</td>\n",
       "      <td>대구광역시</td>\n",
       "      <td>0.002</td>\n",
       "      <td>0.002</td>\n",
       "      <td>0.002</td>\n",
       "      <td>0.002</td>\n",
       "      <td>0.002</td>\n",
       "      <td>0.002</td>\n",
       "    </tr>\n",
       "    <tr>\n",
       "      <th>4</th>\n",
       "      <td>인천광역시</td>\n",
       "      <td>인천광역시</td>\n",
       "      <td>0.004</td>\n",
       "      <td>0.003</td>\n",
       "      <td>0.003</td>\n",
       "      <td>0.003</td>\n",
       "      <td>0.003</td>\n",
       "      <td>0.003</td>\n",
       "    </tr>\n",
       "    <tr>\n",
       "      <th>...</th>\n",
       "      <td>...</td>\n",
       "      <td>...</td>\n",
       "      <td>...</td>\n",
       "      <td>...</td>\n",
       "      <td>...</td>\n",
       "      <td>...</td>\n",
       "      <td>...</td>\n",
       "      <td>...</td>\n",
       "    </tr>\n",
       "    <tr>\n",
       "      <th>167</th>\n",
       "      <td>경상남도</td>\n",
       "      <td>합천</td>\n",
       "      <td>0.003</td>\n",
       "      <td>0.003</td>\n",
       "      <td>0.003</td>\n",
       "      <td>0.003</td>\n",
       "      <td>0.003</td>\n",
       "      <td>0.003**</td>\n",
       "    </tr>\n",
       "    <tr>\n",
       "      <th>168</th>\n",
       "      <td>경상남도</td>\n",
       "      <td>도평균</td>\n",
       "      <td>0.003</td>\n",
       "      <td>0.003</td>\n",
       "      <td>0.003</td>\n",
       "      <td>0.003</td>\n",
       "      <td>0.003</td>\n",
       "      <td>0.003</td>\n",
       "    </tr>\n",
       "    <tr>\n",
       "      <th>169</th>\n",
       "      <td>제주특별자치도</td>\n",
       "      <td>제주특별자치도</td>\n",
       "      <td>0.002</td>\n",
       "      <td>0.001</td>\n",
       "      <td>0.002</td>\n",
       "      <td>0.002</td>\n",
       "      <td>0.002</td>\n",
       "      <td>0.002</td>\n",
       "    </tr>\n",
       "    <tr>\n",
       "      <th>170</th>\n",
       "      <td>제주특별자치도</td>\n",
       "      <td>서귀포</td>\n",
       "      <td>0.001</td>\n",
       "      <td>0.001</td>\n",
       "      <td>0.001</td>\n",
       "      <td>0.001</td>\n",
       "      <td>0.001</td>\n",
       "      <td>0.001</td>\n",
       "    </tr>\n",
       "    <tr>\n",
       "      <th>171</th>\n",
       "      <td>제주특별자치도</td>\n",
       "      <td>도평균</td>\n",
       "      <td>0.002</td>\n",
       "      <td>0.001</td>\n",
       "      <td>0.002</td>\n",
       "      <td>0.001</td>\n",
       "      <td>0.001</td>\n",
       "      <td>0.001</td>\n",
       "    </tr>\n",
       "  </tbody>\n",
       "</table>\n",
       "<p>172 rows × 8 columns</p>\n",
       "</div>"
      ],
      "text/plain": [
       "       구분(1)    구분(2) 2021.02 2021.03 2021.04 2021.05 2021.06  2021.07\n",
       "0         총계       소계   0.003   0.003   0.003   0.003   0.003    0.003\n",
       "1      서울특별시    서울특별시   0.003   0.003   0.003   0.003   0.003    0.003\n",
       "2      부산광역시    부산광역시   0.004   0.003   0.003   0.002   0.003    0.003\n",
       "3      대구광역시    대구광역시   0.002   0.002   0.002   0.002   0.002    0.002\n",
       "4      인천광역시    인천광역시   0.004   0.003   0.003   0.003   0.003    0.003\n",
       "..       ...      ...     ...     ...     ...     ...     ...      ...\n",
       "167     경상남도       합천   0.003   0.003   0.003   0.003   0.003  0.003**\n",
       "168     경상남도      도평균   0.003   0.003   0.003   0.003   0.003    0.003\n",
       "169  제주특별자치도  제주특별자치도   0.002   0.001   0.002   0.002   0.002    0.002\n",
       "170  제주특별자치도      서귀포   0.001   0.001   0.001   0.001   0.001    0.001\n",
       "171  제주특별자치도      도평균   0.002   0.001   0.002   0.001   0.001    0.001\n",
       "\n",
       "[172 rows x 8 columns]"
      ]
     },
     "execution_count": 690,
     "metadata": {},
     "output_type": "execute_result"
    }
   ],
   "source": [
    "so2_file_path = 'C:\\\\Users\\\\SAMSUNG\\\\Desktop\\\\Green-Car-Charging-Station-Site-Selection\\\\Data\\\\아황산가스_월별_도시별_대기오염도.csv'\n",
    "df_so2 = pd.read_csv(so2_file_path, encoding='cp949')\n",
    "df_so2"
   ]
  },
  {
   "cell_type": "code",
   "execution_count": 691,
   "metadata": {
    "collapsed": false,
    "pycharm": {
     "name": "#%%\n"
    }
   },
   "outputs": [
    {
     "name": "stdout",
     "output_type": "stream",
     "text": [
      "<class 'pandas.core.frame.DataFrame'>\n",
      "RangeIndex: 172 entries, 0 to 171\n",
      "Data columns (total 8 columns):\n",
      " #   Column   Non-Null Count  Dtype \n",
      "---  ------   --------------  ----- \n",
      " 0   구분(1)    172 non-null    object\n",
      " 1   구분(2)    172 non-null    object\n",
      " 2   2021.02  172 non-null    object\n",
      " 3   2021.03  172 non-null    object\n",
      " 4   2021.04  172 non-null    object\n",
      " 5   2021.05  172 non-null    object\n",
      " 6   2021.06  172 non-null    object\n",
      " 7   2021.07  172 non-null    object\n",
      "dtypes: object(8)\n",
      "memory usage: 10.9+ KB\n"
     ]
    }
   ],
   "source": [
    "df_so2.info()"
   ]
  },
  {
   "cell_type": "code",
   "execution_count": 692,
   "metadata": {
    "collapsed": false,
    "pycharm": {
     "name": "#%%\n"
    }
   },
   "outputs": [],
   "source": [
    "so2_col = df_so2.iloc[:,2:-1].columns.tolist()"
   ]
  },
  {
   "cell_type": "code",
   "execution_count": 693,
   "metadata": {
    "collapsed": false,
    "pycharm": {
     "name": "#%%\n"
    }
   },
   "outputs": [
    {
     "data": {
      "text/html": [
       "<div>\n",
       "<style scoped>\n",
       "    .dataframe tbody tr th:only-of-type {\n",
       "        vertical-align: middle;\n",
       "    }\n",
       "\n",
       "    .dataframe tbody tr th {\n",
       "        vertical-align: top;\n",
       "    }\n",
       "\n",
       "    .dataframe thead th {\n",
       "        text-align: right;\n",
       "    }\n",
       "</style>\n",
       "<table border=\"1\" class=\"dataframe\">\n",
       "  <thead>\n",
       "    <tr style=\"text-align: right;\">\n",
       "      <th></th>\n",
       "      <th>구분(1)</th>\n",
       "      <th>구분(2)</th>\n",
       "      <th>2021.07</th>\n",
       "    </tr>\n",
       "  </thead>\n",
       "  <tbody>\n",
       "    <tr>\n",
       "      <th>0</th>\n",
       "      <td>총계</td>\n",
       "      <td>소계</td>\n",
       "      <td>0.003</td>\n",
       "    </tr>\n",
       "    <tr>\n",
       "      <th>1</th>\n",
       "      <td>서울특별시</td>\n",
       "      <td>서울특별시</td>\n",
       "      <td>0.003</td>\n",
       "    </tr>\n",
       "    <tr>\n",
       "      <th>2</th>\n",
       "      <td>부산광역시</td>\n",
       "      <td>부산광역시</td>\n",
       "      <td>0.003</td>\n",
       "    </tr>\n",
       "    <tr>\n",
       "      <th>3</th>\n",
       "      <td>대구광역시</td>\n",
       "      <td>대구광역시</td>\n",
       "      <td>0.002</td>\n",
       "    </tr>\n",
       "    <tr>\n",
       "      <th>4</th>\n",
       "      <td>인천광역시</td>\n",
       "      <td>인천광역시</td>\n",
       "      <td>0.003</td>\n",
       "    </tr>\n",
       "    <tr>\n",
       "      <th>...</th>\n",
       "      <td>...</td>\n",
       "      <td>...</td>\n",
       "      <td>...</td>\n",
       "    </tr>\n",
       "    <tr>\n",
       "      <th>167</th>\n",
       "      <td>경상남도</td>\n",
       "      <td>합천</td>\n",
       "      <td>0.003**</td>\n",
       "    </tr>\n",
       "    <tr>\n",
       "      <th>168</th>\n",
       "      <td>경상남도</td>\n",
       "      <td>도평균</td>\n",
       "      <td>0.003</td>\n",
       "    </tr>\n",
       "    <tr>\n",
       "      <th>169</th>\n",
       "      <td>제주특별자치도</td>\n",
       "      <td>제주특별자치도</td>\n",
       "      <td>0.002</td>\n",
       "    </tr>\n",
       "    <tr>\n",
       "      <th>170</th>\n",
       "      <td>제주특별자치도</td>\n",
       "      <td>서귀포</td>\n",
       "      <td>0.001</td>\n",
       "    </tr>\n",
       "    <tr>\n",
       "      <th>171</th>\n",
       "      <td>제주특별자치도</td>\n",
       "      <td>도평균</td>\n",
       "      <td>0.001</td>\n",
       "    </tr>\n",
       "  </tbody>\n",
       "</table>\n",
       "<p>172 rows × 3 columns</p>\n",
       "</div>"
      ],
      "text/plain": [
       "       구분(1)    구분(2)  2021.07\n",
       "0         총계       소계    0.003\n",
       "1      서울특별시    서울특별시    0.003\n",
       "2      부산광역시    부산광역시    0.003\n",
       "3      대구광역시    대구광역시    0.002\n",
       "4      인천광역시    인천광역시    0.003\n",
       "..       ...      ...      ...\n",
       "167     경상남도       합천  0.003**\n",
       "168     경상남도      도평균    0.003\n",
       "169  제주특별자치도  제주특별자치도    0.002\n",
       "170  제주특별자치도      서귀포    0.001\n",
       "171  제주특별자치도      도평균    0.001\n",
       "\n",
       "[172 rows x 3 columns]"
      ]
     },
     "execution_count": 693,
     "metadata": {},
     "output_type": "execute_result"
    }
   ],
   "source": [
    "df_so2.drop(columns=so2_col, inplace=True)\n",
    "df_so2"
   ]
  },
  {
   "cell_type": "code",
   "execution_count": 694,
   "metadata": {
    "collapsed": false,
    "pycharm": {
     "name": "#%%\n"
    }
   },
   "outputs": [],
   "source": [
    "advanced_replace(df_so2,'2021.07','-',r'[^0-9.0-9]')\n",
    "df_so2['2021.07'] = df_so2['2021.07'].astype(float)"
   ]
  },
  {
   "cell_type": "code",
   "execution_count": 695,
   "metadata": {
    "collapsed": false,
    "pycharm": {
     "name": "#%%\n"
    }
   },
   "outputs": [
    {
     "name": "stdout",
     "output_type": "stream",
     "text": [
      "<class 'pandas.core.frame.DataFrame'>\n",
      "RangeIndex: 172 entries, 0 to 171\n",
      "Data columns (total 3 columns):\n",
      " #   Column   Non-Null Count  Dtype  \n",
      "---  ------   --------------  -----  \n",
      " 0   구분(1)    172 non-null    object \n",
      " 1   구분(2)    172 non-null    object \n",
      " 2   2021.07  172 non-null    float64\n",
      "dtypes: float64(1), object(2)\n",
      "memory usage: 4.2+ KB\n"
     ]
    }
   ],
   "source": [
    "df_so2.info()"
   ]
  },
  {
   "cell_type": "code",
   "execution_count": 696,
   "metadata": {
    "collapsed": false,
    "pycharm": {
     "name": "#%%\n"
    }
   },
   "outputs": [
    {
     "data": {
      "text/html": [
       "<div>\n",
       "<style scoped>\n",
       "    .dataframe tbody tr th:only-of-type {\n",
       "        vertical-align: middle;\n",
       "    }\n",
       "\n",
       "    .dataframe tbody tr th {\n",
       "        vertical-align: top;\n",
       "    }\n",
       "\n",
       "    .dataframe thead th {\n",
       "        text-align: right;\n",
       "    }\n",
       "</style>\n",
       "<table border=\"1\" class=\"dataframe\">\n",
       "  <thead>\n",
       "    <tr style=\"text-align: right;\">\n",
       "      <th></th>\n",
       "      <th>2021.07</th>\n",
       "    </tr>\n",
       "  </thead>\n",
       "  <tbody>\n",
       "    <tr>\n",
       "      <th>count</th>\n",
       "      <td>172.000000</td>\n",
       "    </tr>\n",
       "    <tr>\n",
       "      <th>mean</th>\n",
       "      <td>0.002674</td>\n",
       "    </tr>\n",
       "    <tr>\n",
       "      <th>std</th>\n",
       "      <td>0.000764</td>\n",
       "    </tr>\n",
       "    <tr>\n",
       "      <th>min</th>\n",
       "      <td>0.001000</td>\n",
       "    </tr>\n",
       "    <tr>\n",
       "      <th>25%</th>\n",
       "      <td>0.002000</td>\n",
       "    </tr>\n",
       "    <tr>\n",
       "      <th>50%</th>\n",
       "      <td>0.003000</td>\n",
       "    </tr>\n",
       "    <tr>\n",
       "      <th>75%</th>\n",
       "      <td>0.003000</td>\n",
       "    </tr>\n",
       "    <tr>\n",
       "      <th>max</th>\n",
       "      <td>0.005000</td>\n",
       "    </tr>\n",
       "  </tbody>\n",
       "</table>\n",
       "</div>"
      ],
      "text/plain": [
       "          2021.07\n",
       "count  172.000000\n",
       "mean     0.002674\n",
       "std      0.000764\n",
       "min      0.001000\n",
       "25%      0.002000\n",
       "50%      0.003000\n",
       "75%      0.003000\n",
       "max      0.005000"
      ]
     },
     "execution_count": 696,
     "metadata": {},
     "output_type": "execute_result"
    }
   ],
   "source": [
    "df_so2.describe()"
   ]
  },
  {
   "cell_type": "code",
   "execution_count": 697,
   "metadata": {},
   "outputs": [
    {
     "data": {
      "application/vnd.plotly.v1+json": {
       "config": {
        "plotlyServerURL": "https://plot.ly"
       },
       "data": [
        {
         "hovertemplate": "x=%{x}<br>y=%{y}<extra></extra>",
         "legendgroup": "",
         "line": {
          "color": "#636efa",
          "dash": "solid"
         },
         "mode": "lines",
         "name": "",
         "orientation": "v",
         "showlegend": false,
         "type": "scatter",
         "x": [
          0.00023617061295251303,
          0.00028429010171056844,
          0.00033240959046862385,
          0.0003805290792266793,
          0.0004286485679847347,
          0.0004767680567427901,
          0.0005248875455008456,
          0.000573007034258901,
          0.0006211265230169564,
          0.0006692460117750118,
          0.0007173655005330672,
          0.0007654849892911226,
          0.0008136044780491781,
          0.0008617239668072336,
          0.000909843455565289,
          0.0009579629443233444,
          0.0010060824330814,
          0.0010542019218394553,
          0.0011023214105975107,
          0.0011504408993555661,
          0.0011985603881136215,
          0.001246679876871677,
          0.0012947993656297323,
          0.0013429188543877878,
          0.0013910383431458432,
          0.0014391578319038986,
          0.001487277320661954,
          0.0015353968094200094,
          0.0015835162981780648,
          0.0016316357869361202,
          0.0016797552756941756,
          0.001727874764452231,
          0.0017759942532102864,
          0.0018241137419683418,
          0.0018722332307263972,
          0.0019203527194844527,
          0.001968472208242508,
          0.0020165916970005635,
          0.002064711185758619,
          0.0021128306745166743,
          0.0021609501632747297,
          0.002209069652032785,
          0.0022571891407908405,
          0.002305308629548896,
          0.0023534281183069513,
          0.0024015476070650067,
          0.002449667095823062,
          0.0024977865845811176,
          0.0025459060733391734,
          0.002594025562097229,
          0.0026421450508552842,
          0.0026902645396133396,
          0.002738384028371395,
          0.0027865035171294504,
          0.002834623005887506,
          0.0028827424946455613,
          0.0029308619834036167,
          0.002978981472161672,
          0.0030271009609197275,
          0.003075220449677783,
          0.0031233399384358383,
          0.0031714594271938937,
          0.003219578915951949,
          0.0032676984047100045,
          0.00331581789346806,
          0.0033639373822261153,
          0.0034120568709841708,
          0.003460176359742226,
          0.0035082958485002816,
          0.003556415337258337,
          0.0036045348260163924,
          0.003652654314774448,
          0.003700773803532503,
          0.0037488932922905586,
          0.003797012781048614,
          0.0038451322698066694,
          0.003893251758564725,
          0.00394137124732278,
          0.003989490736080836,
          0.004037610224838891,
          0.004085729713596947,
          0.004133849202355003,
          0.004181968691113058,
          0.004230088179871114,
          0.0042782076686291685,
          0.004326327157387224,
          0.004374446646145279,
          0.004422566134903335,
          0.00447068562366139,
          0.004518805112419446,
          0.004566924601177501,
          0.004615044089935557,
          0.004663163578693612,
          0.004711283067451668,
          0.004759402556209723,
          0.0048075220449677785,
          0.004855641533725834,
          0.004903761022483889,
          0.004951880511241945,
          0.005
         ],
         "xaxis": "x",
         "y": [
          3.200664671758005,
          3.905834276635241,
          4.747487828394513,
          5.747650064921739,
          6.930956762737038,
          8.324774373254153,
          9.95928510541828,
          11.867528138299916,
          14.085387088278317,
          16.651513526516503,
          19.607176301872236,
          22.996026729527355,
          26.86377040984803,
          31.25773759147431,
          36.226345622850886,
          41.81844916849687,
          48.08257650363838,
          55.06605332577094,
          62.81401909305401,
          71.36834485044331,
          80.76646574208152,
          91.04014581360856,
          102.21419713734765,
          114.30517958226686,
          127.32011151828564,
          141.2552251997018,
          156.09480332128464,
          171.81013509472896,
          188.35863097962698,
          205.6831347736105,
          223.7114700068856,
          242.3562544262523,
          261.5150117729294,
          281.070604093866,
          300.89200057487614,
          320.8353905044205,
          340.7456386871663,
          360.45807169903196,
          379.8005731290488,
          398.5959557422761,
          416.6645686983416,
          433.8270889546953,
          449.9074381449289,
          464.7357598958745,
          478.15138803392045,
          490.0057336729325,
          500.1650189424224,
          508.5127871912804,
          514.9521238857997,
          519.407529014949,
          521.8263904343199,
          522.1800179519123,
          520.4642097387327,
          516.6993354296885,
          510.92993361689463,
          503.2238348557359,
          493.67083432775354,
          482.38095047468227,
          469.4823168125558,
          455.11876338627434,
          439.4471516356962,
          422.6345315979109,
          404.85519323955765,
          386.2876842628057,
          367.1118650148954,
          347.5060672957266,
          327.64441811921773,
          307.69438212469396,
          287.81456768652475,
          268.1528321988191,
          248.84471189839445,
          230.0121913136781,
          211.76281735301265,
          194.18915350527342,
          177.3685609080845,
          161.36328538154612,
          146.22082310746248,
          131.9745325737243,
          118.64445675787228,
          106.23831729179282,
          94.7526414767815,
          84.17398340469494,
          74.48020194896596,
          65.6417608532118,
          57.62301938090346,
          50.38348580407809,
          43.87901020934597,
          38.06289750024797,
          32.886925905672975,
          28.302260613506387,
          24.26025620932361,
          20.7131453097087,
          17.61461406300532,
          14.920267997218211,
          12.587993999971484,
          10.578226015422093,
          8.854123353289422,
          7.3816713566700685,
          6.129714610982479,
          5.0699329475349275
         ],
         "yaxis": "y"
        }
       ],
       "layout": {
        "legend": {
         "tracegroupgap": 0
        },
        "margin": {
         "t": 60
        },
        "template": {
         "data": {
          "bar": [
           {
            "error_x": {
             "color": "#2a3f5f"
            },
            "error_y": {
             "color": "#2a3f5f"
            },
            "marker": {
             "line": {
              "color": "#E5ECF6",
              "width": 0.5
             },
             "pattern": {
              "fillmode": "overlay",
              "size": 10,
              "solidity": 0.2
             }
            },
            "type": "bar"
           }
          ],
          "barpolar": [
           {
            "marker": {
             "line": {
              "color": "#E5ECF6",
              "width": 0.5
             },
             "pattern": {
              "fillmode": "overlay",
              "size": 10,
              "solidity": 0.2
             }
            },
            "type": "barpolar"
           }
          ],
          "carpet": [
           {
            "aaxis": {
             "endlinecolor": "#2a3f5f",
             "gridcolor": "white",
             "linecolor": "white",
             "minorgridcolor": "white",
             "startlinecolor": "#2a3f5f"
            },
            "baxis": {
             "endlinecolor": "#2a3f5f",
             "gridcolor": "white",
             "linecolor": "white",
             "minorgridcolor": "white",
             "startlinecolor": "#2a3f5f"
            },
            "type": "carpet"
           }
          ],
          "choropleth": [
           {
            "colorbar": {
             "outlinewidth": 0,
             "ticks": ""
            },
            "type": "choropleth"
           }
          ],
          "contour": [
           {
            "colorbar": {
             "outlinewidth": 0,
             "ticks": ""
            },
            "colorscale": [
             [
              0,
              "#0d0887"
             ],
             [
              0.1111111111111111,
              "#46039f"
             ],
             [
              0.2222222222222222,
              "#7201a8"
             ],
             [
              0.3333333333333333,
              "#9c179e"
             ],
             [
              0.4444444444444444,
              "#bd3786"
             ],
             [
              0.5555555555555556,
              "#d8576b"
             ],
             [
              0.6666666666666666,
              "#ed7953"
             ],
             [
              0.7777777777777778,
              "#fb9f3a"
             ],
             [
              0.8888888888888888,
              "#fdca26"
             ],
             [
              1,
              "#f0f921"
             ]
            ],
            "type": "contour"
           }
          ],
          "contourcarpet": [
           {
            "colorbar": {
             "outlinewidth": 0,
             "ticks": ""
            },
            "type": "contourcarpet"
           }
          ],
          "heatmap": [
           {
            "colorbar": {
             "outlinewidth": 0,
             "ticks": ""
            },
            "colorscale": [
             [
              0,
              "#0d0887"
             ],
             [
              0.1111111111111111,
              "#46039f"
             ],
             [
              0.2222222222222222,
              "#7201a8"
             ],
             [
              0.3333333333333333,
              "#9c179e"
             ],
             [
              0.4444444444444444,
              "#bd3786"
             ],
             [
              0.5555555555555556,
              "#d8576b"
             ],
             [
              0.6666666666666666,
              "#ed7953"
             ],
             [
              0.7777777777777778,
              "#fb9f3a"
             ],
             [
              0.8888888888888888,
              "#fdca26"
             ],
             [
              1,
              "#f0f921"
             ]
            ],
            "type": "heatmap"
           }
          ],
          "heatmapgl": [
           {
            "colorbar": {
             "outlinewidth": 0,
             "ticks": ""
            },
            "colorscale": [
             [
              0,
              "#0d0887"
             ],
             [
              0.1111111111111111,
              "#46039f"
             ],
             [
              0.2222222222222222,
              "#7201a8"
             ],
             [
              0.3333333333333333,
              "#9c179e"
             ],
             [
              0.4444444444444444,
              "#bd3786"
             ],
             [
              0.5555555555555556,
              "#d8576b"
             ],
             [
              0.6666666666666666,
              "#ed7953"
             ],
             [
              0.7777777777777778,
              "#fb9f3a"
             ],
             [
              0.8888888888888888,
              "#fdca26"
             ],
             [
              1,
              "#f0f921"
             ]
            ],
            "type": "heatmapgl"
           }
          ],
          "histogram": [
           {
            "marker": {
             "pattern": {
              "fillmode": "overlay",
              "size": 10,
              "solidity": 0.2
             }
            },
            "type": "histogram"
           }
          ],
          "histogram2d": [
           {
            "colorbar": {
             "outlinewidth": 0,
             "ticks": ""
            },
            "colorscale": [
             [
              0,
              "#0d0887"
             ],
             [
              0.1111111111111111,
              "#46039f"
             ],
             [
              0.2222222222222222,
              "#7201a8"
             ],
             [
              0.3333333333333333,
              "#9c179e"
             ],
             [
              0.4444444444444444,
              "#bd3786"
             ],
             [
              0.5555555555555556,
              "#d8576b"
             ],
             [
              0.6666666666666666,
              "#ed7953"
             ],
             [
              0.7777777777777778,
              "#fb9f3a"
             ],
             [
              0.8888888888888888,
              "#fdca26"
             ],
             [
              1,
              "#f0f921"
             ]
            ],
            "type": "histogram2d"
           }
          ],
          "histogram2dcontour": [
           {
            "colorbar": {
             "outlinewidth": 0,
             "ticks": ""
            },
            "colorscale": [
             [
              0,
              "#0d0887"
             ],
             [
              0.1111111111111111,
              "#46039f"
             ],
             [
              0.2222222222222222,
              "#7201a8"
             ],
             [
              0.3333333333333333,
              "#9c179e"
             ],
             [
              0.4444444444444444,
              "#bd3786"
             ],
             [
              0.5555555555555556,
              "#d8576b"
             ],
             [
              0.6666666666666666,
              "#ed7953"
             ],
             [
              0.7777777777777778,
              "#fb9f3a"
             ],
             [
              0.8888888888888888,
              "#fdca26"
             ],
             [
              1,
              "#f0f921"
             ]
            ],
            "type": "histogram2dcontour"
           }
          ],
          "mesh3d": [
           {
            "colorbar": {
             "outlinewidth": 0,
             "ticks": ""
            },
            "type": "mesh3d"
           }
          ],
          "parcoords": [
           {
            "line": {
             "colorbar": {
              "outlinewidth": 0,
              "ticks": ""
             }
            },
            "type": "parcoords"
           }
          ],
          "pie": [
           {
            "automargin": true,
            "type": "pie"
           }
          ],
          "scatter": [
           {
            "marker": {
             "colorbar": {
              "outlinewidth": 0,
              "ticks": ""
             }
            },
            "type": "scatter"
           }
          ],
          "scatter3d": [
           {
            "line": {
             "colorbar": {
              "outlinewidth": 0,
              "ticks": ""
             }
            },
            "marker": {
             "colorbar": {
              "outlinewidth": 0,
              "ticks": ""
             }
            },
            "type": "scatter3d"
           }
          ],
          "scattercarpet": [
           {
            "marker": {
             "colorbar": {
              "outlinewidth": 0,
              "ticks": ""
             }
            },
            "type": "scattercarpet"
           }
          ],
          "scattergeo": [
           {
            "marker": {
             "colorbar": {
              "outlinewidth": 0,
              "ticks": ""
             }
            },
            "type": "scattergeo"
           }
          ],
          "scattergl": [
           {
            "marker": {
             "colorbar": {
              "outlinewidth": 0,
              "ticks": ""
             }
            },
            "type": "scattergl"
           }
          ],
          "scattermapbox": [
           {
            "marker": {
             "colorbar": {
              "outlinewidth": 0,
              "ticks": ""
             }
            },
            "type": "scattermapbox"
           }
          ],
          "scatterpolar": [
           {
            "marker": {
             "colorbar": {
              "outlinewidth": 0,
              "ticks": ""
             }
            },
            "type": "scatterpolar"
           }
          ],
          "scatterpolargl": [
           {
            "marker": {
             "colorbar": {
              "outlinewidth": 0,
              "ticks": ""
             }
            },
            "type": "scatterpolargl"
           }
          ],
          "scatterternary": [
           {
            "marker": {
             "colorbar": {
              "outlinewidth": 0,
              "ticks": ""
             }
            },
            "type": "scatterternary"
           }
          ],
          "surface": [
           {
            "colorbar": {
             "outlinewidth": 0,
             "ticks": ""
            },
            "colorscale": [
             [
              0,
              "#0d0887"
             ],
             [
              0.1111111111111111,
              "#46039f"
             ],
             [
              0.2222222222222222,
              "#7201a8"
             ],
             [
              0.3333333333333333,
              "#9c179e"
             ],
             [
              0.4444444444444444,
              "#bd3786"
             ],
             [
              0.5555555555555556,
              "#d8576b"
             ],
             [
              0.6666666666666666,
              "#ed7953"
             ],
             [
              0.7777777777777778,
              "#fb9f3a"
             ],
             [
              0.8888888888888888,
              "#fdca26"
             ],
             [
              1,
              "#f0f921"
             ]
            ],
            "type": "surface"
           }
          ],
          "table": [
           {
            "cells": {
             "fill": {
              "color": "#EBF0F8"
             },
             "line": {
              "color": "white"
             }
            },
            "header": {
             "fill": {
              "color": "#C8D4E3"
             },
             "line": {
              "color": "white"
             }
            },
            "type": "table"
           }
          ]
         },
         "layout": {
          "annotationdefaults": {
           "arrowcolor": "#2a3f5f",
           "arrowhead": 0,
           "arrowwidth": 1
          },
          "autotypenumbers": "strict",
          "coloraxis": {
           "colorbar": {
            "outlinewidth": 0,
            "ticks": ""
           }
          },
          "colorscale": {
           "diverging": [
            [
             0,
             "#8e0152"
            ],
            [
             0.1,
             "#c51b7d"
            ],
            [
             0.2,
             "#de77ae"
            ],
            [
             0.3,
             "#f1b6da"
            ],
            [
             0.4,
             "#fde0ef"
            ],
            [
             0.5,
             "#f7f7f7"
            ],
            [
             0.6,
             "#e6f5d0"
            ],
            [
             0.7,
             "#b8e186"
            ],
            [
             0.8,
             "#7fbc41"
            ],
            [
             0.9,
             "#4d9221"
            ],
            [
             1,
             "#276419"
            ]
           ],
           "sequential": [
            [
             0,
             "#0d0887"
            ],
            [
             0.1111111111111111,
             "#46039f"
            ],
            [
             0.2222222222222222,
             "#7201a8"
            ],
            [
             0.3333333333333333,
             "#9c179e"
            ],
            [
             0.4444444444444444,
             "#bd3786"
            ],
            [
             0.5555555555555556,
             "#d8576b"
            ],
            [
             0.6666666666666666,
             "#ed7953"
            ],
            [
             0.7777777777777778,
             "#fb9f3a"
            ],
            [
             0.8888888888888888,
             "#fdca26"
            ],
            [
             1,
             "#f0f921"
            ]
           ],
           "sequentialminus": [
            [
             0,
             "#0d0887"
            ],
            [
             0.1111111111111111,
             "#46039f"
            ],
            [
             0.2222222222222222,
             "#7201a8"
            ],
            [
             0.3333333333333333,
             "#9c179e"
            ],
            [
             0.4444444444444444,
             "#bd3786"
            ],
            [
             0.5555555555555556,
             "#d8576b"
            ],
            [
             0.6666666666666666,
             "#ed7953"
            ],
            [
             0.7777777777777778,
             "#fb9f3a"
            ],
            [
             0.8888888888888888,
             "#fdca26"
            ],
            [
             1,
             "#f0f921"
            ]
           ]
          },
          "colorway": [
           "#636efa",
           "#EF553B",
           "#00cc96",
           "#ab63fa",
           "#FFA15A",
           "#19d3f3",
           "#FF6692",
           "#B6E880",
           "#FF97FF",
           "#FECB52"
          ],
          "font": {
           "color": "#2a3f5f"
          },
          "geo": {
           "bgcolor": "white",
           "lakecolor": "white",
           "landcolor": "#E5ECF6",
           "showlakes": true,
           "showland": true,
           "subunitcolor": "white"
          },
          "hoverlabel": {
           "align": "left"
          },
          "hovermode": "closest",
          "mapbox": {
           "style": "light"
          },
          "paper_bgcolor": "white",
          "plot_bgcolor": "#E5ECF6",
          "polar": {
           "angularaxis": {
            "gridcolor": "white",
            "linecolor": "white",
            "ticks": ""
           },
           "bgcolor": "#E5ECF6",
           "radialaxis": {
            "gridcolor": "white",
            "linecolor": "white",
            "ticks": ""
           }
          },
          "scene": {
           "xaxis": {
            "backgroundcolor": "#E5ECF6",
            "gridcolor": "white",
            "gridwidth": 2,
            "linecolor": "white",
            "showbackground": true,
            "ticks": "",
            "zerolinecolor": "white"
           },
           "yaxis": {
            "backgroundcolor": "#E5ECF6",
            "gridcolor": "white",
            "gridwidth": 2,
            "linecolor": "white",
            "showbackground": true,
            "ticks": "",
            "zerolinecolor": "white"
           },
           "zaxis": {
            "backgroundcolor": "#E5ECF6",
            "gridcolor": "white",
            "gridwidth": 2,
            "linecolor": "white",
            "showbackground": true,
            "ticks": "",
            "zerolinecolor": "white"
           }
          },
          "shapedefaults": {
           "line": {
            "color": "#2a3f5f"
           }
          },
          "ternary": {
           "aaxis": {
            "gridcolor": "white",
            "linecolor": "white",
            "ticks": ""
           },
           "baxis": {
            "gridcolor": "white",
            "linecolor": "white",
            "ticks": ""
           },
           "bgcolor": "#E5ECF6",
           "caxis": {
            "gridcolor": "white",
            "linecolor": "white",
            "ticks": ""
           }
          },
          "title": {
           "x": 0.05
          },
          "xaxis": {
           "automargin": true,
           "gridcolor": "white",
           "linecolor": "white",
           "ticks": "",
           "title": {
            "standoff": 15
           },
           "zerolinecolor": "white",
           "zerolinewidth": 2
          },
          "yaxis": {
           "automargin": true,
           "gridcolor": "white",
           "linecolor": "white",
           "ticks": "",
           "title": {
            "standoff": 15
           },
           "zerolinecolor": "white",
           "zerolinewidth": 2
          }
         }
        },
        "xaxis": {
         "anchor": "y",
         "domain": [
          0,
          1
         ],
         "title": {
          "text": "x"
         }
        },
        "yaxis": {
         "anchor": "x",
         "domain": [
          0,
          1
         ],
         "title": {
          "text": "y"
         }
        }
       }
      }
     },
     "metadata": {},
     "output_type": "display_data"
    }
   ],
   "source": [
    "mean = df_so2.iloc[:,2].mean()\n",
    "std = df_so2.iloc[:,2].std()\n",
    "min = df_so2.iloc[:,2].min()\n",
    "max = df_so2.iloc[:,2].max()\n",
    "show_norm(mean,std,min,max)"
   ]
  },
  {
   "cell_type": "markdown",
   "metadata": {},
   "source": [
    "### 부산광역시 아황산가스의 누적확률 구하기"
   ]
  },
  {
   "cell_type": "code",
   "execution_count": 698,
   "metadata": {},
   "outputs": [
    {
     "data": {
      "application/vnd.plotly.v1+json": {
       "config": {
        "plotlyServerURL": "https://plot.ly"
       },
       "data": [
        {
         "fill": "tozeroy",
         "line": {
          "color": "rgb(100,110,250)"
         },
         "name": "적합",
         "text": "0.6640367362231872",
         "type": "scatter",
         "x": [
          0.00023617061295251303,
          0.0002640880815085483,
          0.0002920055500645835,
          0.00031992301862061867,
          0.0003478404871766539,
          0.00037575795573268917,
          0.00040367542428872437,
          0.00043159289284475956,
          0.0004595103614007948,
          0.00048742782995683006,
          0.0005153452985128652,
          0.0005432627670689005,
          0.0005711802356249357,
          0.000599097704180971,
          0.0006270151727370062,
          0.0006549326412930413,
          0.0006828501098490766,
          0.0007107675784051118,
          0.0007386850469611471,
          0.0007666025155171822,
          0.0007945199840732175,
          0.0008224374526292527,
          0.0008503549211852879,
          0.0008782723897413231,
          0.0009061898582973584,
          0.0009341073268533936,
          0.0009620247954094289,
          0.000989942263965464,
          0.0010178597325214993,
          0.0010457772010775345,
          0.0010736946696335696,
          0.0011016121381896048,
          0.00112952960674564,
          0.0011574470753016753,
          0.0011853645438577106,
          0.0012132820124137458,
          0.001241199480969781,
          0.0012691169495258163,
          0.0012970344180818516,
          0.0013249518866378868,
          0.001352869355193922,
          0.0013807868237499573,
          0.0014087042923059926,
          0.0014366217608620278,
          0.0014645392294180626,
          0.0014924566979740979,
          0.0015203741665301331,
          0.0015482916350861684,
          0.0015762091036422036,
          0.0016041265721982389,
          0.0016320440407542741,
          0.0016599615093103094,
          0.0016878789778663446,
          0.0017157964464223799,
          0.0017437139149784151,
          0.0017716313835344504,
          0.0017995488520904856,
          0.0018274663206465209,
          0.0018553837892025561,
          0.0018833012577585914,
          0.0019112187263146262,
          0.0019391361948706614,
          0.0019670536634266967,
          0.001994971131982732,
          0.002022888600538767,
          0.0020508060690948024,
          0.0020787235376508377,
          0.002106641006206873,
          0.002134558474762908,
          0.0021624759433189434,
          0.0021903934118749787,
          0.002218310880431014,
          0.002246228348987049,
          0.002274145817543084,
          0.0023020632860991192,
          0.0023299807546551545,
          0.0023578982232111897,
          0.002385815691767225,
          0.0024137331603232602,
          0.0024416506288792955,
          0.0024695680974353307,
          0.002497485565991366,
          0.0025254030345474012,
          0.0025533205031034365,
          0.0025812379716594717,
          0.002609155440215507,
          0.0026370729087715422,
          0.0026649903773275775,
          0.0026929078458836123,
          0.0027208253144396476,
          0.002748742782995683,
          0.002776660251551718,
          0.0028045777201077533,
          0.0028324951886637886,
          0.002860412657219824,
          0.002888330125775859,
          0.0029162475943318943,
          0.0029441650628879296,
          0.002972082531443965,
          0.003
         ],
         "y": [
          3.200664671758005,
          3.5943425819909773,
          4.031053900184206,
          4.514790349176071,
          5.0498260263204005,
          5.640727115252971,
          6.292360692672349,
          7.009902448382207,
          7.798843126187337,
          8.664993483505379,
          9.614487558981267,
          10.653784030212975,
          11.789665438163462,
          13.029235051200553,
          14.379911140225461,
          15.849418437279965,
          17.44577655360185,
          19.17728513957058,
          21.05250557856365,
          23.080239019632167,
          25.26950057027248,
          27.629489490561497,
          30.16955525364175,
          32.89915936505123,
          35.82783286470961,
          38.96512947046032,
          42.32057436083779,
          45.90360863702827,
          49.72352954960985,
          53.789426624312355,
          58.11011387238572,
          62.69405832479656,
          67.54930518490234,
          72.68339995094668,
          78.10330791706028,
          83.81533151878963,
          89.82502604578397,
          96.13711429939663,
          102.75540082579992,
          109.68268640494448,
          116.92068352148095,
          124.46993358474029,
          132.32972670021508,
          140.49802482385772,
          148.97138915213867,
          157.74491261443808,
          166.81215833930108,
          176.16510496177727,
          185.7940996249567,
          195.68781950452376,
          205.8332426503629,
          216.21562889381644,
          226.81851151307112,
          237.62370028246815,
          248.61129645454096,
          259.75972013671947,
          271.0457504284697,
          282.4445785798957,
          293.92987432040337,
          305.4738653869425,
          317.0474301567628,
          328.62020316085164,
          340.1606931226412,
          351.6364130337131,
          363.0140216456301,
          374.25947562634065,
          385.3381915024907,
          396.2152163871058,
          406.855406377143,
          417.22361139897225,
          427.28486518348126,
          437.0045789676807,
          446.3487374477517,
          455.28409545065244,
          463.77837374872456,
          471.8004524150886,
          479.3205601076793,
          486.3104576769857,
          492.7436145172028,
          498.5953761225629,
          503.8431213698862,
          508.46640812441444,
          512.4471058580866,
          515.7695140766635,
          518.4204654733956,
          520.3894128609193,
          521.6684990782662,
          522.2526092245994,
          522.1394047337498,
          521.3293389718987,
          519.8256542128241,
          517.6343600189512,
          514.7641932299279,
          511.2265599315144,
          507.0354599441706,
          502.207394530884,
          496.76125817561103,
          490.7182154254373,
          484.101563919591,
          476.93658484530704
         ]
        },
        {
         "fill": "tozeroy",
         "line": {
          "color": "rgb(239,85,59)"
         },
         "name": "부적합",
         "text": "0.6640367362231872",
         "type": "scatter",
         "x": [
          0.003,
          0.0030202020202020202,
          0.0030404040404040404,
          0.0030606060606060605,
          0.0030808080808080807,
          0.003101010101010101,
          0.0031212121212121214,
          0.0031414141414141416,
          0.0031616161616161618,
          0.003181818181818182,
          0.003202020202020202,
          0.0032222222222222222,
          0.0032424242424242424,
          0.0032626262626262626,
          0.0032828282828282827,
          0.0033030303030303033,
          0.0033232323232323235,
          0.0033434343434343436,
          0.003363636363636364,
          0.003383838383838384,
          0.003404040404040404,
          0.0034242424242424243,
          0.0034444444444444444,
          0.0034646464646464646,
          0.0034848484848484847,
          0.003505050505050505,
          0.0035252525252525255,
          0.0035454545454545456,
          0.003565656565656566,
          0.003585858585858586,
          0.003606060606060606,
          0.0036262626262626263,
          0.0036464646464646464,
          0.0036666666666666666,
          0.003686868686868687,
          0.0037070707070707073,
          0.0037272727272727275,
          0.0037474747474747477,
          0.003767676767676768,
          0.003787878787878788,
          0.003808080808080808,
          0.0038282828282828283,
          0.0038484848484848485,
          0.0038686868686868686,
          0.0038888888888888888,
          0.003909090909090909,
          0.003929292929292929,
          0.003949494949494949,
          0.00396969696969697,
          0.00398989898989899,
          0.004010101010101011,
          0.00403030303030303,
          0.004050505050505051,
          0.004070707070707071,
          0.004090909090909091,
          0.004111111111111111,
          0.0041313131313131315,
          0.004151515151515152,
          0.004171717171717172,
          0.004191919191919192,
          0.004212121212121212,
          0.004232323232323232,
          0.0042525252525252525,
          0.004272727272727273,
          0.004292929292929293,
          0.004313131313131313,
          0.004333333333333333,
          0.004353535353535354,
          0.0043737373737373735,
          0.0043939393939393945,
          0.004414141414141414,
          0.004434343434343435,
          0.004454545454545455,
          0.004474747474747475,
          0.004494949494949495,
          0.004515151515151515,
          0.004535353535353536,
          0.004555555555555556,
          0.004575757575757576,
          0.004595959595959596,
          0.004616161616161616,
          0.004636363636363636,
          0.0046565656565656565,
          0.004676767676767677,
          0.004696969696969697,
          0.004717171717171717,
          0.004737373737373737,
          0.004757575757575757,
          0.004777777777777778,
          0.004797979797979798,
          0.004818181818181819,
          0.004838383838383838,
          0.004858585858585859,
          0.004878787878787879,
          0.004898989898989899,
          0.0049191919191919195,
          0.00493939393939394,
          0.00495959595959596,
          0.00497979797979798,
          0.005
         ],
         "y": [
          476.93658484530704,
          471.4250854862471,
          465.65143324848225,
          459.6268640180636,
          453.3629952412536,
          446.87178871039305,
          440.1655126483509,
          433.25670325904014,
          426.1581259117376,
          418.88273612626966,
          411.44364052452306,
          403.8540579112549,
          396.1272806438216,
          388.27663644626665,
          380.3154508182414,
          372.25701018352186,
          364.11452591648634,
          355.90109937787435,
          347.6296880835298,
          339.31307312168093,
          330.9638279257071,
          322.5942885003374,
          314.2165251898896,
          305.84231606756015,
          297.4831220149702,
          289.1500635512388,
          280.8538994608495,
          272.60500725956547,
          264.41336552769485,
          256.28853813017435,
          248.23966033327412,
          240.2754268182988,
          232.40408158350684,
          224.63340971665048,
          216.97073101209125,
          209.42289539841266,
          201.99628013486776,
          194.6967887279021,
          187.52985151239852,
          180.50042783623638,
          173.61300978124999,
          166.871627348734,
          160.2798550332793,
          153.84081970494157,
          147.5572097165465,
          141.43128515031685,
          135.46488911596077,
          129.65946001088136,
          124.0160446522335,
          118.53531219015774,
          113.21756871162762,
          108.06277244496714,
          103.07054947614097,
          98.24020988945665,
          93.5707642472094,
          89.06094032511945,
          84.70920002304467,
          80.51375637341808,
          76.47259057310225,
          72.58346896784589,
          68.84395992223651,
          65.25145051193313,
          61.80316297900379,
          58.496170895348925,
          55.32741498343478,
          52.29371854785769,
          49.391802475584775,
          46.61829976703717,
          43.96976956447601,
          41.44271064838952,
          39.033574376749826,
          36.73877704606523,
          34.554711657116485,
          32.47775907207026,
          30.50429855333972,
          28.63071767805939,
          26.853421625373947,
          25.168841836882375,
          23.57344405353192,
          22.06373573500681,
          20.636272870206746,
          19.2876661897517,
          18.014586793584126,
          16.813771208668154,
          15.682025893505429,
          14.616231207707564,
          13.613344866183775,
          12.670404898629887,
          11.784532135942742,
          10.952932245943561,
          10.172897341377594,
          9.441807183581448,
          8.757130005471051,
          8.116422977626938,
          7.51733234123208,
          6.957593231476662,
          6.4350292147814905,
          5.947551562825088,
          5.493158285895156,
          5.0699329475349275
         ]
        }
       ],
       "layout": {
        "annotations": [
         {
          "bordercolor": "rgb(100,110,250)",
          "borderwidth": 2,
          "font": {
           "color": "rgb(100,110,250)",
           "size": 15
          },
          "showarrow": false,
          "text": "0.664",
          "x": 0.003,
          "xshift": -40,
          "y": 476.93658484530704,
          "yshift": -100
         },
         {
          "bordercolor": "rgb(239,85,59)",
          "borderwidth": 2,
          "font": {
           "color": "rgb(239,85,59)",
           "size": 15
          },
          "showarrow": false,
          "text": "0.336",
          "x": 0.003,
          "xshift": 40,
          "y": 476.93658484530704,
          "yshift": -100
         }
        ],
        "template": {
         "data": {
          "bar": [
           {
            "error_x": {
             "color": "#2a3f5f"
            },
            "error_y": {
             "color": "#2a3f5f"
            },
            "marker": {
             "line": {
              "color": "#E5ECF6",
              "width": 0.5
             },
             "pattern": {
              "fillmode": "overlay",
              "size": 10,
              "solidity": 0.2
             }
            },
            "type": "bar"
           }
          ],
          "barpolar": [
           {
            "marker": {
             "line": {
              "color": "#E5ECF6",
              "width": 0.5
             },
             "pattern": {
              "fillmode": "overlay",
              "size": 10,
              "solidity": 0.2
             }
            },
            "type": "barpolar"
           }
          ],
          "carpet": [
           {
            "aaxis": {
             "endlinecolor": "#2a3f5f",
             "gridcolor": "white",
             "linecolor": "white",
             "minorgridcolor": "white",
             "startlinecolor": "#2a3f5f"
            },
            "baxis": {
             "endlinecolor": "#2a3f5f",
             "gridcolor": "white",
             "linecolor": "white",
             "minorgridcolor": "white",
             "startlinecolor": "#2a3f5f"
            },
            "type": "carpet"
           }
          ],
          "choropleth": [
           {
            "colorbar": {
             "outlinewidth": 0,
             "ticks": ""
            },
            "type": "choropleth"
           }
          ],
          "contour": [
           {
            "colorbar": {
             "outlinewidth": 0,
             "ticks": ""
            },
            "colorscale": [
             [
              0,
              "#0d0887"
             ],
             [
              0.1111111111111111,
              "#46039f"
             ],
             [
              0.2222222222222222,
              "#7201a8"
             ],
             [
              0.3333333333333333,
              "#9c179e"
             ],
             [
              0.4444444444444444,
              "#bd3786"
             ],
             [
              0.5555555555555556,
              "#d8576b"
             ],
             [
              0.6666666666666666,
              "#ed7953"
             ],
             [
              0.7777777777777778,
              "#fb9f3a"
             ],
             [
              0.8888888888888888,
              "#fdca26"
             ],
             [
              1,
              "#f0f921"
             ]
            ],
            "type": "contour"
           }
          ],
          "contourcarpet": [
           {
            "colorbar": {
             "outlinewidth": 0,
             "ticks": ""
            },
            "type": "contourcarpet"
           }
          ],
          "heatmap": [
           {
            "colorbar": {
             "outlinewidth": 0,
             "ticks": ""
            },
            "colorscale": [
             [
              0,
              "#0d0887"
             ],
             [
              0.1111111111111111,
              "#46039f"
             ],
             [
              0.2222222222222222,
              "#7201a8"
             ],
             [
              0.3333333333333333,
              "#9c179e"
             ],
             [
              0.4444444444444444,
              "#bd3786"
             ],
             [
              0.5555555555555556,
              "#d8576b"
             ],
             [
              0.6666666666666666,
              "#ed7953"
             ],
             [
              0.7777777777777778,
              "#fb9f3a"
             ],
             [
              0.8888888888888888,
              "#fdca26"
             ],
             [
              1,
              "#f0f921"
             ]
            ],
            "type": "heatmap"
           }
          ],
          "heatmapgl": [
           {
            "colorbar": {
             "outlinewidth": 0,
             "ticks": ""
            },
            "colorscale": [
             [
              0,
              "#0d0887"
             ],
             [
              0.1111111111111111,
              "#46039f"
             ],
             [
              0.2222222222222222,
              "#7201a8"
             ],
             [
              0.3333333333333333,
              "#9c179e"
             ],
             [
              0.4444444444444444,
              "#bd3786"
             ],
             [
              0.5555555555555556,
              "#d8576b"
             ],
             [
              0.6666666666666666,
              "#ed7953"
             ],
             [
              0.7777777777777778,
              "#fb9f3a"
             ],
             [
              0.8888888888888888,
              "#fdca26"
             ],
             [
              1,
              "#f0f921"
             ]
            ],
            "type": "heatmapgl"
           }
          ],
          "histogram": [
           {
            "marker": {
             "pattern": {
              "fillmode": "overlay",
              "size": 10,
              "solidity": 0.2
             }
            },
            "type": "histogram"
           }
          ],
          "histogram2d": [
           {
            "colorbar": {
             "outlinewidth": 0,
             "ticks": ""
            },
            "colorscale": [
             [
              0,
              "#0d0887"
             ],
             [
              0.1111111111111111,
              "#46039f"
             ],
             [
              0.2222222222222222,
              "#7201a8"
             ],
             [
              0.3333333333333333,
              "#9c179e"
             ],
             [
              0.4444444444444444,
              "#bd3786"
             ],
             [
              0.5555555555555556,
              "#d8576b"
             ],
             [
              0.6666666666666666,
              "#ed7953"
             ],
             [
              0.7777777777777778,
              "#fb9f3a"
             ],
             [
              0.8888888888888888,
              "#fdca26"
             ],
             [
              1,
              "#f0f921"
             ]
            ],
            "type": "histogram2d"
           }
          ],
          "histogram2dcontour": [
           {
            "colorbar": {
             "outlinewidth": 0,
             "ticks": ""
            },
            "colorscale": [
             [
              0,
              "#0d0887"
             ],
             [
              0.1111111111111111,
              "#46039f"
             ],
             [
              0.2222222222222222,
              "#7201a8"
             ],
             [
              0.3333333333333333,
              "#9c179e"
             ],
             [
              0.4444444444444444,
              "#bd3786"
             ],
             [
              0.5555555555555556,
              "#d8576b"
             ],
             [
              0.6666666666666666,
              "#ed7953"
             ],
             [
              0.7777777777777778,
              "#fb9f3a"
             ],
             [
              0.8888888888888888,
              "#fdca26"
             ],
             [
              1,
              "#f0f921"
             ]
            ],
            "type": "histogram2dcontour"
           }
          ],
          "mesh3d": [
           {
            "colorbar": {
             "outlinewidth": 0,
             "ticks": ""
            },
            "type": "mesh3d"
           }
          ],
          "parcoords": [
           {
            "line": {
             "colorbar": {
              "outlinewidth": 0,
              "ticks": ""
             }
            },
            "type": "parcoords"
           }
          ],
          "pie": [
           {
            "automargin": true,
            "type": "pie"
           }
          ],
          "scatter": [
           {
            "marker": {
             "colorbar": {
              "outlinewidth": 0,
              "ticks": ""
             }
            },
            "type": "scatter"
           }
          ],
          "scatter3d": [
           {
            "line": {
             "colorbar": {
              "outlinewidth": 0,
              "ticks": ""
             }
            },
            "marker": {
             "colorbar": {
              "outlinewidth": 0,
              "ticks": ""
             }
            },
            "type": "scatter3d"
           }
          ],
          "scattercarpet": [
           {
            "marker": {
             "colorbar": {
              "outlinewidth": 0,
              "ticks": ""
             }
            },
            "type": "scattercarpet"
           }
          ],
          "scattergeo": [
           {
            "marker": {
             "colorbar": {
              "outlinewidth": 0,
              "ticks": ""
             }
            },
            "type": "scattergeo"
           }
          ],
          "scattergl": [
           {
            "marker": {
             "colorbar": {
              "outlinewidth": 0,
              "ticks": ""
             }
            },
            "type": "scattergl"
           }
          ],
          "scattermapbox": [
           {
            "marker": {
             "colorbar": {
              "outlinewidth": 0,
              "ticks": ""
             }
            },
            "type": "scattermapbox"
           }
          ],
          "scatterpolar": [
           {
            "marker": {
             "colorbar": {
              "outlinewidth": 0,
              "ticks": ""
             }
            },
            "type": "scatterpolar"
           }
          ],
          "scatterpolargl": [
           {
            "marker": {
             "colorbar": {
              "outlinewidth": 0,
              "ticks": ""
             }
            },
            "type": "scatterpolargl"
           }
          ],
          "scatterternary": [
           {
            "marker": {
             "colorbar": {
              "outlinewidth": 0,
              "ticks": ""
             }
            },
            "type": "scatterternary"
           }
          ],
          "surface": [
           {
            "colorbar": {
             "outlinewidth": 0,
             "ticks": ""
            },
            "colorscale": [
             [
              0,
              "#0d0887"
             ],
             [
              0.1111111111111111,
              "#46039f"
             ],
             [
              0.2222222222222222,
              "#7201a8"
             ],
             [
              0.3333333333333333,
              "#9c179e"
             ],
             [
              0.4444444444444444,
              "#bd3786"
             ],
             [
              0.5555555555555556,
              "#d8576b"
             ],
             [
              0.6666666666666666,
              "#ed7953"
             ],
             [
              0.7777777777777778,
              "#fb9f3a"
             ],
             [
              0.8888888888888888,
              "#fdca26"
             ],
             [
              1,
              "#f0f921"
             ]
            ],
            "type": "surface"
           }
          ],
          "table": [
           {
            "cells": {
             "fill": {
              "color": "#EBF0F8"
             },
             "line": {
              "color": "white"
             }
            },
            "header": {
             "fill": {
              "color": "#C8D4E3"
             },
             "line": {
              "color": "white"
             }
            },
            "type": "table"
           }
          ]
         },
         "layout": {
          "annotationdefaults": {
           "arrowcolor": "#2a3f5f",
           "arrowhead": 0,
           "arrowwidth": 1
          },
          "autotypenumbers": "strict",
          "coloraxis": {
           "colorbar": {
            "outlinewidth": 0,
            "ticks": ""
           }
          },
          "colorscale": {
           "diverging": [
            [
             0,
             "#8e0152"
            ],
            [
             0.1,
             "#c51b7d"
            ],
            [
             0.2,
             "#de77ae"
            ],
            [
             0.3,
             "#f1b6da"
            ],
            [
             0.4,
             "#fde0ef"
            ],
            [
             0.5,
             "#f7f7f7"
            ],
            [
             0.6,
             "#e6f5d0"
            ],
            [
             0.7,
             "#b8e186"
            ],
            [
             0.8,
             "#7fbc41"
            ],
            [
             0.9,
             "#4d9221"
            ],
            [
             1,
             "#276419"
            ]
           ],
           "sequential": [
            [
             0,
             "#0d0887"
            ],
            [
             0.1111111111111111,
             "#46039f"
            ],
            [
             0.2222222222222222,
             "#7201a8"
            ],
            [
             0.3333333333333333,
             "#9c179e"
            ],
            [
             0.4444444444444444,
             "#bd3786"
            ],
            [
             0.5555555555555556,
             "#d8576b"
            ],
            [
             0.6666666666666666,
             "#ed7953"
            ],
            [
             0.7777777777777778,
             "#fb9f3a"
            ],
            [
             0.8888888888888888,
             "#fdca26"
            ],
            [
             1,
             "#f0f921"
            ]
           ],
           "sequentialminus": [
            [
             0,
             "#0d0887"
            ],
            [
             0.1111111111111111,
             "#46039f"
            ],
            [
             0.2222222222222222,
             "#7201a8"
            ],
            [
             0.3333333333333333,
             "#9c179e"
            ],
            [
             0.4444444444444444,
             "#bd3786"
            ],
            [
             0.5555555555555556,
             "#d8576b"
            ],
            [
             0.6666666666666666,
             "#ed7953"
            ],
            [
             0.7777777777777778,
             "#fb9f3a"
            ],
            [
             0.8888888888888888,
             "#fdca26"
            ],
            [
             1,
             "#f0f921"
            ]
           ]
          },
          "colorway": [
           "#636efa",
           "#EF553B",
           "#00cc96",
           "#ab63fa",
           "#FFA15A",
           "#19d3f3",
           "#FF6692",
           "#B6E880",
           "#FF97FF",
           "#FECB52"
          ],
          "font": {
           "color": "#2a3f5f"
          },
          "geo": {
           "bgcolor": "white",
           "lakecolor": "white",
           "landcolor": "#E5ECF6",
           "showlakes": true,
           "showland": true,
           "subunitcolor": "white"
          },
          "hoverlabel": {
           "align": "left"
          },
          "hovermode": "closest",
          "mapbox": {
           "style": "light"
          },
          "paper_bgcolor": "white",
          "plot_bgcolor": "#E5ECF6",
          "polar": {
           "angularaxis": {
            "gridcolor": "white",
            "linecolor": "white",
            "ticks": ""
           },
           "bgcolor": "#E5ECF6",
           "radialaxis": {
            "gridcolor": "white",
            "linecolor": "white",
            "ticks": ""
           }
          },
          "scene": {
           "xaxis": {
            "backgroundcolor": "#E5ECF6",
            "gridcolor": "white",
            "gridwidth": 2,
            "linecolor": "white",
            "showbackground": true,
            "ticks": "",
            "zerolinecolor": "white"
           },
           "yaxis": {
            "backgroundcolor": "#E5ECF6",
            "gridcolor": "white",
            "gridwidth": 2,
            "linecolor": "white",
            "showbackground": true,
            "ticks": "",
            "zerolinecolor": "white"
           },
           "zaxis": {
            "backgroundcolor": "#E5ECF6",
            "gridcolor": "white",
            "gridwidth": 2,
            "linecolor": "white",
            "showbackground": true,
            "ticks": "",
            "zerolinecolor": "white"
           }
          },
          "shapedefaults": {
           "line": {
            "color": "#2a3f5f"
           }
          },
          "ternary": {
           "aaxis": {
            "gridcolor": "white",
            "linecolor": "white",
            "ticks": ""
           },
           "baxis": {
            "gridcolor": "white",
            "linecolor": "white",
            "ticks": ""
           },
           "bgcolor": "#E5ECF6",
           "caxis": {
            "gridcolor": "white",
            "linecolor": "white",
            "ticks": ""
           }
          },
          "title": {
           "x": 0.05
          },
          "xaxis": {
           "automargin": true,
           "gridcolor": "white",
           "linecolor": "white",
           "ticks": "",
           "title": {
            "standoff": 15
           },
           "zerolinecolor": "white",
           "zerolinewidth": 2
          },
          "yaxis": {
           "automargin": true,
           "gridcolor": "white",
           "linecolor": "white",
           "ticks": "",
           "title": {
            "standoff": 15
           },
           "zerolinecolor": "white",
           "zerolinewidth": 2
          }
         }
        }
       }
      }
     },
     "metadata": {},
     "output_type": "display_data"
    },
    {
     "data": {
      "text/plain": [
       "0.6640367362231872"
      ]
     },
     "execution_count": 698,
     "metadata": {},
     "output_type": "execute_result"
    }
   ],
   "source": [
    "busan_so2 = df_so2[df_so2['구분(2)']=='부산광역시'].loc[2,'2021.07']\n",
    "so2_pro = cal_norm(mean,std,min,max,busan_so2)\n",
    "so2_pro"
   ]
  },
  {
   "cell_type": "markdown",
   "metadata": {
    "collapsed": false
   },
   "source": [
    "### 이산화질소 월별 데이터 불러오기"
   ]
  },
  {
   "cell_type": "code",
   "execution_count": 699,
   "metadata": {
    "collapsed": false,
    "pycharm": {
     "name": "#%%\n"
    }
   },
   "outputs": [
    {
     "data": {
      "text/html": [
       "<div>\n",
       "<style scoped>\n",
       "    .dataframe tbody tr th:only-of-type {\n",
       "        vertical-align: middle;\n",
       "    }\n",
       "\n",
       "    .dataframe tbody tr th {\n",
       "        vertical-align: top;\n",
       "    }\n",
       "\n",
       "    .dataframe thead th {\n",
       "        text-align: right;\n",
       "    }\n",
       "</style>\n",
       "<table border=\"1\" class=\"dataframe\">\n",
       "  <thead>\n",
       "    <tr style=\"text-align: right;\">\n",
       "      <th></th>\n",
       "      <th>구분(1)</th>\n",
       "      <th>구분(2)</th>\n",
       "      <th>2021.02</th>\n",
       "      <th>2021.03</th>\n",
       "      <th>2021.04</th>\n",
       "      <th>2021.05</th>\n",
       "      <th>2021.06</th>\n",
       "      <th>2021.07</th>\n",
       "    </tr>\n",
       "  </thead>\n",
       "  <tbody>\n",
       "    <tr>\n",
       "      <th>0</th>\n",
       "      <td>총계</td>\n",
       "      <td>소계</td>\n",
       "      <td>0.019</td>\n",
       "      <td>0.019</td>\n",
       "      <td>0.014</td>\n",
       "      <td>0.012</td>\n",
       "      <td>0.011</td>\n",
       "      <td>0.010</td>\n",
       "    </tr>\n",
       "    <tr>\n",
       "      <th>1</th>\n",
       "      <td>서울특별시</td>\n",
       "      <td>서울특별시</td>\n",
       "      <td>0.030</td>\n",
       "      <td>0.032</td>\n",
       "      <td>0.022</td>\n",
       "      <td>0.019</td>\n",
       "      <td>0.018</td>\n",
       "      <td>0.016</td>\n",
       "    </tr>\n",
       "    <tr>\n",
       "      <th>2</th>\n",
       "      <td>부산광역시</td>\n",
       "      <td>부산광역시</td>\n",
       "      <td>0.018</td>\n",
       "      <td>0.017</td>\n",
       "      <td>0.015</td>\n",
       "      <td>0.014</td>\n",
       "      <td>0.014</td>\n",
       "      <td>0.010</td>\n",
       "    </tr>\n",
       "    <tr>\n",
       "      <th>3</th>\n",
       "      <td>대구광역시</td>\n",
       "      <td>대구광역시</td>\n",
       "      <td>0.022</td>\n",
       "      <td>0.018</td>\n",
       "      <td>0.013</td>\n",
       "      <td>0.012</td>\n",
       "      <td>0.010</td>\n",
       "      <td>0.009</td>\n",
       "    </tr>\n",
       "    <tr>\n",
       "      <th>4</th>\n",
       "      <td>인천광역시</td>\n",
       "      <td>인천광역시</td>\n",
       "      <td>0.024</td>\n",
       "      <td>0.028</td>\n",
       "      <td>0.021</td>\n",
       "      <td>0.017</td>\n",
       "      <td>0.017</td>\n",
       "      <td>0.014</td>\n",
       "    </tr>\n",
       "    <tr>\n",
       "      <th>...</th>\n",
       "      <td>...</td>\n",
       "      <td>...</td>\n",
       "      <td>...</td>\n",
       "      <td>...</td>\n",
       "      <td>...</td>\n",
       "      <td>...</td>\n",
       "      <td>...</td>\n",
       "      <td>...</td>\n",
       "    </tr>\n",
       "    <tr>\n",
       "      <th>167</th>\n",
       "      <td>경상남도</td>\n",
       "      <td>합천</td>\n",
       "      <td>0.014</td>\n",
       "      <td>0.011</td>\n",
       "      <td>0.010</td>\n",
       "      <td>0.009</td>\n",
       "      <td>0.010</td>\n",
       "      <td>0.009**</td>\n",
       "    </tr>\n",
       "    <tr>\n",
       "      <th>168</th>\n",
       "      <td>경상남도</td>\n",
       "      <td>도평균</td>\n",
       "      <td>0.016</td>\n",
       "      <td>0.014</td>\n",
       "      <td>0.013</td>\n",
       "      <td>0.011</td>\n",
       "      <td>0.012</td>\n",
       "      <td>0.009</td>\n",
       "    </tr>\n",
       "    <tr>\n",
       "      <th>169</th>\n",
       "      <td>제주특별자치도</td>\n",
       "      <td>제주특별자치도</td>\n",
       "      <td>0.011</td>\n",
       "      <td>0.011</td>\n",
       "      <td>0.010</td>\n",
       "      <td>0.010</td>\n",
       "      <td>0.009</td>\n",
       "      <td>0.006</td>\n",
       "    </tr>\n",
       "    <tr>\n",
       "      <th>170</th>\n",
       "      <td>제주특별자치도</td>\n",
       "      <td>서귀포</td>\n",
       "      <td>0.007</td>\n",
       "      <td>0.007</td>\n",
       "      <td>0.006</td>\n",
       "      <td>0.006</td>\n",
       "      <td>0.005</td>\n",
       "      <td>0.004</td>\n",
       "    </tr>\n",
       "    <tr>\n",
       "      <th>171</th>\n",
       "      <td>제주특별자치도</td>\n",
       "      <td>도평균</td>\n",
       "      <td>0.009</td>\n",
       "      <td>0.009</td>\n",
       "      <td>0.008</td>\n",
       "      <td>0.008</td>\n",
       "      <td>0.007</td>\n",
       "      <td>0.005</td>\n",
       "    </tr>\n",
       "  </tbody>\n",
       "</table>\n",
       "<p>172 rows × 8 columns</p>\n",
       "</div>"
      ],
      "text/plain": [
       "       구분(1)    구분(2) 2021.02 2021.03 2021.04 2021.05 2021.06  2021.07\n",
       "0         총계       소계   0.019   0.019   0.014   0.012   0.011    0.010\n",
       "1      서울특별시    서울특별시   0.030   0.032   0.022   0.019   0.018    0.016\n",
       "2      부산광역시    부산광역시   0.018   0.017   0.015   0.014   0.014    0.010\n",
       "3      대구광역시    대구광역시   0.022   0.018   0.013   0.012   0.010    0.009\n",
       "4      인천광역시    인천광역시   0.024   0.028   0.021   0.017   0.017    0.014\n",
       "..       ...      ...     ...     ...     ...     ...     ...      ...\n",
       "167     경상남도       합천   0.014   0.011   0.010   0.009   0.010  0.009**\n",
       "168     경상남도      도평균   0.016   0.014   0.013   0.011   0.012    0.009\n",
       "169  제주특별자치도  제주특별자치도   0.011   0.011   0.010   0.010   0.009    0.006\n",
       "170  제주특별자치도      서귀포   0.007   0.007   0.006   0.006   0.005    0.004\n",
       "171  제주특별자치도      도평균   0.009   0.009   0.008   0.008   0.007    0.005\n",
       "\n",
       "[172 rows x 8 columns]"
      ]
     },
     "execution_count": 699,
     "metadata": {},
     "output_type": "execute_result"
    }
   ],
   "source": [
    "no2_file_path = 'C:\\\\Users\\\\SAMSUNG\\\\Desktop\\\\Green-Car-Charging-Station-Site-Selection\\\\Data\\\\이산화질소_월별_도시별_대기오염도.csv'\n",
    "df_no2 = pd.read_csv(no2_file_path, encoding='cp949')\n",
    "df_no2"
   ]
  },
  {
   "cell_type": "code",
   "execution_count": 700,
   "metadata": {
    "collapsed": false,
    "pycharm": {
     "name": "#%%\n"
    }
   },
   "outputs": [],
   "source": [
    "no2_col = df_no2.iloc[:,2:-1].columns.tolist()"
   ]
  },
  {
   "cell_type": "code",
   "execution_count": 701,
   "metadata": {
    "collapsed": false,
    "pycharm": {
     "name": "#%%\n"
    }
   },
   "outputs": [],
   "source": [
    "df_no2.drop(columns=no2_col, inplace=True)"
   ]
  },
  {
   "cell_type": "code",
   "execution_count": 702,
   "metadata": {
    "collapsed": false,
    "pycharm": {
     "name": "#%%\n"
    }
   },
   "outputs": [],
   "source": [
    "advanced_replace(df_no2,'2021.07','-',r'[^0-9.0-9]')\n",
    "df_no2['2021.07'] = df_no2['2021.07'].astype(float)"
   ]
  },
  {
   "cell_type": "code",
   "execution_count": 703,
   "metadata": {
    "collapsed": false,
    "pycharm": {
     "name": "#%%\n"
    }
   },
   "outputs": [
    {
     "name": "stdout",
     "output_type": "stream",
     "text": [
      "<class 'pandas.core.frame.DataFrame'>\n",
      "RangeIndex: 172 entries, 0 to 171\n",
      "Data columns (total 3 columns):\n",
      " #   Column   Non-Null Count  Dtype  \n",
      "---  ------   --------------  -----  \n",
      " 0   구분(1)    172 non-null    object \n",
      " 1   구분(2)    172 non-null    object \n",
      " 2   2021.07  172 non-null    float64\n",
      "dtypes: float64(1), object(2)\n",
      "memory usage: 4.2+ KB\n"
     ]
    }
   ],
   "source": [
    "df_no2.info()"
   ]
  },
  {
   "cell_type": "code",
   "execution_count": 704,
   "metadata": {
    "collapsed": false,
    "pycharm": {
     "name": "#%%\n"
    }
   },
   "outputs": [
    {
     "data": {
      "text/html": [
       "<div>\n",
       "<style scoped>\n",
       "    .dataframe tbody tr th:only-of-type {\n",
       "        vertical-align: middle;\n",
       "    }\n",
       "\n",
       "    .dataframe tbody tr th {\n",
       "        vertical-align: top;\n",
       "    }\n",
       "\n",
       "    .dataframe thead th {\n",
       "        text-align: right;\n",
       "    }\n",
       "</style>\n",
       "<table border=\"1\" class=\"dataframe\">\n",
       "  <thead>\n",
       "    <tr style=\"text-align: right;\">\n",
       "      <th></th>\n",
       "      <th>2021.07</th>\n",
       "    </tr>\n",
       "  </thead>\n",
       "  <tbody>\n",
       "    <tr>\n",
       "      <th>count</th>\n",
       "      <td>172.000000</td>\n",
       "    </tr>\n",
       "    <tr>\n",
       "      <th>mean</th>\n",
       "      <td>0.007610</td>\n",
       "    </tr>\n",
       "    <tr>\n",
       "      <th>std</th>\n",
       "      <td>0.003294</td>\n",
       "    </tr>\n",
       "    <tr>\n",
       "      <th>min</th>\n",
       "      <td>0.003000</td>\n",
       "    </tr>\n",
       "    <tr>\n",
       "      <th>25%</th>\n",
       "      <td>0.005000</td>\n",
       "    </tr>\n",
       "    <tr>\n",
       "      <th>50%</th>\n",
       "      <td>0.007000</td>\n",
       "    </tr>\n",
       "    <tr>\n",
       "      <th>75%</th>\n",
       "      <td>0.009250</td>\n",
       "    </tr>\n",
       "    <tr>\n",
       "      <th>max</th>\n",
       "      <td>0.019000</td>\n",
       "    </tr>\n",
       "  </tbody>\n",
       "</table>\n",
       "</div>"
      ],
      "text/plain": [
       "          2021.07\n",
       "count  172.000000\n",
       "mean     0.007610\n",
       "std      0.003294\n",
       "min      0.003000\n",
       "25%      0.005000\n",
       "50%      0.007000\n",
       "75%      0.009250\n",
       "max      0.019000"
      ]
     },
     "execution_count": 704,
     "metadata": {},
     "output_type": "execute_result"
    }
   ],
   "source": [
    "df_no2.describe()"
   ]
  },
  {
   "cell_type": "code",
   "execution_count": 705,
   "metadata": {},
   "outputs": [
    {
     "data": {
      "application/vnd.plotly.v1+json": {
       "config": {
        "plotlyServerURL": "https://plot.ly"
       },
       "data": [
        {
         "hovertemplate": "x=%{x}<br>y=%{y}<extra></extra>",
         "legendgroup": "",
         "line": {
          "color": "#636efa",
          "dash": "solid"
         },
         "mode": "lines",
         "name": "",
         "orientation": "v",
         "showlegend": false,
         "type": "scatter",
         "x": [
          -0.0002935353681110288,
          -0.00009865117247354364,
          0.00009623302316394151,
          0.00029111721880142665,
          0.0004860014144389118,
          0.000680885610076397,
          0.0008757698057138821,
          0.0010706540013513672,
          0.0012655381969888524,
          0.0014604223926263375,
          0.0016553065882638227,
          0.0018501907839013078,
          0.002045074979538793,
          0.002239959175176278,
          0.0024348433708137633,
          0.0026297275664512484,
          0.0028246117620887336,
          0.0030194959577262187,
          0.003214380153363704,
          0.003409264349001189,
          0.003604148544638674,
          0.003799032740276159,
          0.0039939169359136445,
          0.00418880113155113,
          0.004383685327188615,
          0.0045785695228260995,
          0.004773453718463585,
          0.004968337914101071,
          0.005163222109738555,
          0.00535810630537604,
          0.005552990501013526,
          0.005747874696651011,
          0.005942758892288496,
          0.006137643087925981,
          0.006332527283563466,
          0.006527411479200952,
          0.0067222956748384365,
          0.006917179870475921,
          0.007112064066113407,
          0.007306948261750892,
          0.007501832457388377,
          0.007696716653025862,
          0.007891600848663347,
          0.008086485044300833,
          0.008281369239938318,
          0.008476253435575802,
          0.008671137631213289,
          0.008866021826850774,
          0.009060906022488258,
          0.009255790218125743,
          0.009450674413763228,
          0.009645558609400714,
          0.009840442805038199,
          0.010035327000675684,
          0.01023021119631317,
          0.010425095391950655,
          0.01061997958758814,
          0.010814863783225624,
          0.011009747978863109,
          0.011204632174500595,
          0.01139951637013808,
          0.011594400565775565,
          0.011789284761413051,
          0.011984168957050536,
          0.01217905315268802,
          0.012373937348325505,
          0.01256882154396299,
          0.012763705739600477,
          0.012958589935237961,
          0.013153474130875446,
          0.013348358326512932,
          0.013543242522150417,
          0.013738126717787902,
          0.013933010913425387,
          0.014127895109062871,
          0.014322779304700358,
          0.014517663500337842,
          0.014712547695975327,
          0.014907431891612814,
          0.015102316087250298,
          0.015297200282887783,
          0.015492084478525268,
          0.015686968674162752,
          0.015881852869800237,
          0.016076737065437722,
          0.01627162126107521,
          0.016466505456712695,
          0.01666138965235018,
          0.016856273847987664,
          0.01705115804362515,
          0.017246042239262634,
          0.01744092643490012,
          0.017635810630537607,
          0.01783069482617509,
          0.018025579021812576,
          0.01822046321745006,
          0.018415347413087545,
          0.01861023160872503,
          0.018805115804362515,
          0.019
         ],
         "xaxis": "x",
         "y": [
          6.801941926782865,
          7.826073836491913,
          8.972931857793574,
          10.251896325019468,
          11.672219578304862,
          13.242869506134577,
          14.972356438405008,
          16.868544955566506,
          18.93845278534839,
          21.188039581340384,
          23.621988998755917,
          26.243488081127396,
          29.05400852477253,
          32.05309487180898,
          35.238165073192555,
          38.60432913729125,
          42.14423171515255,
          45.84792445189155,
          49.70277373934017,
          53.693409127862864,
          57.80171709035074,
          62.00688408053114,
          66.285491899456,
          70.61166729408237,
          74.95728648307163,
          79.29223396689504,
          83.58471356772,
          87.8016082001367,
          91.90888344117826,
          95.8720285942077,
          99.65652767361611,
          103.22835162219462,
          106.55446215368212,
          109.60331692758255,
          112.34536534344107,
          114.75352411074267,
          116.80362192243089,
          118.4748030384588,
          119.74988036378437,
          120.61562966508822,
          121.06301788420674,
          121.08736003641144,
          120.68840088268476,
          119.87031938502706,
          118.64165583604463,
          117.01516343969189,
          115.0075879500235,
          112.63938069222768,
          109.93435184242881,
          106.91927218338553,
          103.62343264383982,
          100.0781717407438,
          96.31638155697145,
          92.37200309417416,
          88.27952174367371,
          84.07347323053614,
          79.78796972959057,
          75.45625495783536,
          71.11029595294902,
          66.78041799520477,
          62.494987766000385,
          58.28014840793969,
          54.1596087060207,
          50.15448719194484,
          46.28321062515627,
          42.56146506125907,
          39.002196611273966,
          35.61565804741956,
          32.40949663928572,
          29.388878017801485,
          26.556640465739488,
          23.913473818628763,
          21.458117119090062,
          19.187569286083164,
          17.097307319760052,
          15.18150694108686,
          13.433261039847812,
          11.844791851015005,
          10.407653373868833,
          9.112921167808274,
          7.951367282355973,
          6.913618687592857,
          5.990298149009798,
          5.172147024367078,
          4.450129939501991,
          3.815521718070385,
          3.2599772928050235,
          2.7755856115540434,
          2.3549087710239207,
          1.991007767698003,
          1.6774563533644995,
          1.4083445278229232,
          1.1782732002500809,
          0.9823415104835569,
          0.8161282293731283,
          0.675668560490001,
          0.557427550650874,
          0.4582711901581119,
          0.3754361509641794,
          0.30649897697638057
         ],
         "yaxis": "y"
        }
       ],
       "layout": {
        "legend": {
         "tracegroupgap": 0
        },
        "margin": {
         "t": 60
        },
        "template": {
         "data": {
          "bar": [
           {
            "error_x": {
             "color": "#2a3f5f"
            },
            "error_y": {
             "color": "#2a3f5f"
            },
            "marker": {
             "line": {
              "color": "#E5ECF6",
              "width": 0.5
             },
             "pattern": {
              "fillmode": "overlay",
              "size": 10,
              "solidity": 0.2
             }
            },
            "type": "bar"
           }
          ],
          "barpolar": [
           {
            "marker": {
             "line": {
              "color": "#E5ECF6",
              "width": 0.5
             },
             "pattern": {
              "fillmode": "overlay",
              "size": 10,
              "solidity": 0.2
             }
            },
            "type": "barpolar"
           }
          ],
          "carpet": [
           {
            "aaxis": {
             "endlinecolor": "#2a3f5f",
             "gridcolor": "white",
             "linecolor": "white",
             "minorgridcolor": "white",
             "startlinecolor": "#2a3f5f"
            },
            "baxis": {
             "endlinecolor": "#2a3f5f",
             "gridcolor": "white",
             "linecolor": "white",
             "minorgridcolor": "white",
             "startlinecolor": "#2a3f5f"
            },
            "type": "carpet"
           }
          ],
          "choropleth": [
           {
            "colorbar": {
             "outlinewidth": 0,
             "ticks": ""
            },
            "type": "choropleth"
           }
          ],
          "contour": [
           {
            "colorbar": {
             "outlinewidth": 0,
             "ticks": ""
            },
            "colorscale": [
             [
              0,
              "#0d0887"
             ],
             [
              0.1111111111111111,
              "#46039f"
             ],
             [
              0.2222222222222222,
              "#7201a8"
             ],
             [
              0.3333333333333333,
              "#9c179e"
             ],
             [
              0.4444444444444444,
              "#bd3786"
             ],
             [
              0.5555555555555556,
              "#d8576b"
             ],
             [
              0.6666666666666666,
              "#ed7953"
             ],
             [
              0.7777777777777778,
              "#fb9f3a"
             ],
             [
              0.8888888888888888,
              "#fdca26"
             ],
             [
              1,
              "#f0f921"
             ]
            ],
            "type": "contour"
           }
          ],
          "contourcarpet": [
           {
            "colorbar": {
             "outlinewidth": 0,
             "ticks": ""
            },
            "type": "contourcarpet"
           }
          ],
          "heatmap": [
           {
            "colorbar": {
             "outlinewidth": 0,
             "ticks": ""
            },
            "colorscale": [
             [
              0,
              "#0d0887"
             ],
             [
              0.1111111111111111,
              "#46039f"
             ],
             [
              0.2222222222222222,
              "#7201a8"
             ],
             [
              0.3333333333333333,
              "#9c179e"
             ],
             [
              0.4444444444444444,
              "#bd3786"
             ],
             [
              0.5555555555555556,
              "#d8576b"
             ],
             [
              0.6666666666666666,
              "#ed7953"
             ],
             [
              0.7777777777777778,
              "#fb9f3a"
             ],
             [
              0.8888888888888888,
              "#fdca26"
             ],
             [
              1,
              "#f0f921"
             ]
            ],
            "type": "heatmap"
           }
          ],
          "heatmapgl": [
           {
            "colorbar": {
             "outlinewidth": 0,
             "ticks": ""
            },
            "colorscale": [
             [
              0,
              "#0d0887"
             ],
             [
              0.1111111111111111,
              "#46039f"
             ],
             [
              0.2222222222222222,
              "#7201a8"
             ],
             [
              0.3333333333333333,
              "#9c179e"
             ],
             [
              0.4444444444444444,
              "#bd3786"
             ],
             [
              0.5555555555555556,
              "#d8576b"
             ],
             [
              0.6666666666666666,
              "#ed7953"
             ],
             [
              0.7777777777777778,
              "#fb9f3a"
             ],
             [
              0.8888888888888888,
              "#fdca26"
             ],
             [
              1,
              "#f0f921"
             ]
            ],
            "type": "heatmapgl"
           }
          ],
          "histogram": [
           {
            "marker": {
             "pattern": {
              "fillmode": "overlay",
              "size": 10,
              "solidity": 0.2
             }
            },
            "type": "histogram"
           }
          ],
          "histogram2d": [
           {
            "colorbar": {
             "outlinewidth": 0,
             "ticks": ""
            },
            "colorscale": [
             [
              0,
              "#0d0887"
             ],
             [
              0.1111111111111111,
              "#46039f"
             ],
             [
              0.2222222222222222,
              "#7201a8"
             ],
             [
              0.3333333333333333,
              "#9c179e"
             ],
             [
              0.4444444444444444,
              "#bd3786"
             ],
             [
              0.5555555555555556,
              "#d8576b"
             ],
             [
              0.6666666666666666,
              "#ed7953"
             ],
             [
              0.7777777777777778,
              "#fb9f3a"
             ],
             [
              0.8888888888888888,
              "#fdca26"
             ],
             [
              1,
              "#f0f921"
             ]
            ],
            "type": "histogram2d"
           }
          ],
          "histogram2dcontour": [
           {
            "colorbar": {
             "outlinewidth": 0,
             "ticks": ""
            },
            "colorscale": [
             [
              0,
              "#0d0887"
             ],
             [
              0.1111111111111111,
              "#46039f"
             ],
             [
              0.2222222222222222,
              "#7201a8"
             ],
             [
              0.3333333333333333,
              "#9c179e"
             ],
             [
              0.4444444444444444,
              "#bd3786"
             ],
             [
              0.5555555555555556,
              "#d8576b"
             ],
             [
              0.6666666666666666,
              "#ed7953"
             ],
             [
              0.7777777777777778,
              "#fb9f3a"
             ],
             [
              0.8888888888888888,
              "#fdca26"
             ],
             [
              1,
              "#f0f921"
             ]
            ],
            "type": "histogram2dcontour"
           }
          ],
          "mesh3d": [
           {
            "colorbar": {
             "outlinewidth": 0,
             "ticks": ""
            },
            "type": "mesh3d"
           }
          ],
          "parcoords": [
           {
            "line": {
             "colorbar": {
              "outlinewidth": 0,
              "ticks": ""
             }
            },
            "type": "parcoords"
           }
          ],
          "pie": [
           {
            "automargin": true,
            "type": "pie"
           }
          ],
          "scatter": [
           {
            "marker": {
             "colorbar": {
              "outlinewidth": 0,
              "ticks": ""
             }
            },
            "type": "scatter"
           }
          ],
          "scatter3d": [
           {
            "line": {
             "colorbar": {
              "outlinewidth": 0,
              "ticks": ""
             }
            },
            "marker": {
             "colorbar": {
              "outlinewidth": 0,
              "ticks": ""
             }
            },
            "type": "scatter3d"
           }
          ],
          "scattercarpet": [
           {
            "marker": {
             "colorbar": {
              "outlinewidth": 0,
              "ticks": ""
             }
            },
            "type": "scattercarpet"
           }
          ],
          "scattergeo": [
           {
            "marker": {
             "colorbar": {
              "outlinewidth": 0,
              "ticks": ""
             }
            },
            "type": "scattergeo"
           }
          ],
          "scattergl": [
           {
            "marker": {
             "colorbar": {
              "outlinewidth": 0,
              "ticks": ""
             }
            },
            "type": "scattergl"
           }
          ],
          "scattermapbox": [
           {
            "marker": {
             "colorbar": {
              "outlinewidth": 0,
              "ticks": ""
             }
            },
            "type": "scattermapbox"
           }
          ],
          "scatterpolar": [
           {
            "marker": {
             "colorbar": {
              "outlinewidth": 0,
              "ticks": ""
             }
            },
            "type": "scatterpolar"
           }
          ],
          "scatterpolargl": [
           {
            "marker": {
             "colorbar": {
              "outlinewidth": 0,
              "ticks": ""
             }
            },
            "type": "scatterpolargl"
           }
          ],
          "scatterternary": [
           {
            "marker": {
             "colorbar": {
              "outlinewidth": 0,
              "ticks": ""
             }
            },
            "type": "scatterternary"
           }
          ],
          "surface": [
           {
            "colorbar": {
             "outlinewidth": 0,
             "ticks": ""
            },
            "colorscale": [
             [
              0,
              "#0d0887"
             ],
             [
              0.1111111111111111,
              "#46039f"
             ],
             [
              0.2222222222222222,
              "#7201a8"
             ],
             [
              0.3333333333333333,
              "#9c179e"
             ],
             [
              0.4444444444444444,
              "#bd3786"
             ],
             [
              0.5555555555555556,
              "#d8576b"
             ],
             [
              0.6666666666666666,
              "#ed7953"
             ],
             [
              0.7777777777777778,
              "#fb9f3a"
             ],
             [
              0.8888888888888888,
              "#fdca26"
             ],
             [
              1,
              "#f0f921"
             ]
            ],
            "type": "surface"
           }
          ],
          "table": [
           {
            "cells": {
             "fill": {
              "color": "#EBF0F8"
             },
             "line": {
              "color": "white"
             }
            },
            "header": {
             "fill": {
              "color": "#C8D4E3"
             },
             "line": {
              "color": "white"
             }
            },
            "type": "table"
           }
          ]
         },
         "layout": {
          "annotationdefaults": {
           "arrowcolor": "#2a3f5f",
           "arrowhead": 0,
           "arrowwidth": 1
          },
          "autotypenumbers": "strict",
          "coloraxis": {
           "colorbar": {
            "outlinewidth": 0,
            "ticks": ""
           }
          },
          "colorscale": {
           "diverging": [
            [
             0,
             "#8e0152"
            ],
            [
             0.1,
             "#c51b7d"
            ],
            [
             0.2,
             "#de77ae"
            ],
            [
             0.3,
             "#f1b6da"
            ],
            [
             0.4,
             "#fde0ef"
            ],
            [
             0.5,
             "#f7f7f7"
            ],
            [
             0.6,
             "#e6f5d0"
            ],
            [
             0.7,
             "#b8e186"
            ],
            [
             0.8,
             "#7fbc41"
            ],
            [
             0.9,
             "#4d9221"
            ],
            [
             1,
             "#276419"
            ]
           ],
           "sequential": [
            [
             0,
             "#0d0887"
            ],
            [
             0.1111111111111111,
             "#46039f"
            ],
            [
             0.2222222222222222,
             "#7201a8"
            ],
            [
             0.3333333333333333,
             "#9c179e"
            ],
            [
             0.4444444444444444,
             "#bd3786"
            ],
            [
             0.5555555555555556,
             "#d8576b"
            ],
            [
             0.6666666666666666,
             "#ed7953"
            ],
            [
             0.7777777777777778,
             "#fb9f3a"
            ],
            [
             0.8888888888888888,
             "#fdca26"
            ],
            [
             1,
             "#f0f921"
            ]
           ],
           "sequentialminus": [
            [
             0,
             "#0d0887"
            ],
            [
             0.1111111111111111,
             "#46039f"
            ],
            [
             0.2222222222222222,
             "#7201a8"
            ],
            [
             0.3333333333333333,
             "#9c179e"
            ],
            [
             0.4444444444444444,
             "#bd3786"
            ],
            [
             0.5555555555555556,
             "#d8576b"
            ],
            [
             0.6666666666666666,
             "#ed7953"
            ],
            [
             0.7777777777777778,
             "#fb9f3a"
            ],
            [
             0.8888888888888888,
             "#fdca26"
            ],
            [
             1,
             "#f0f921"
            ]
           ]
          },
          "colorway": [
           "#636efa",
           "#EF553B",
           "#00cc96",
           "#ab63fa",
           "#FFA15A",
           "#19d3f3",
           "#FF6692",
           "#B6E880",
           "#FF97FF",
           "#FECB52"
          ],
          "font": {
           "color": "#2a3f5f"
          },
          "geo": {
           "bgcolor": "white",
           "lakecolor": "white",
           "landcolor": "#E5ECF6",
           "showlakes": true,
           "showland": true,
           "subunitcolor": "white"
          },
          "hoverlabel": {
           "align": "left"
          },
          "hovermode": "closest",
          "mapbox": {
           "style": "light"
          },
          "paper_bgcolor": "white",
          "plot_bgcolor": "#E5ECF6",
          "polar": {
           "angularaxis": {
            "gridcolor": "white",
            "linecolor": "white",
            "ticks": ""
           },
           "bgcolor": "#E5ECF6",
           "radialaxis": {
            "gridcolor": "white",
            "linecolor": "white",
            "ticks": ""
           }
          },
          "scene": {
           "xaxis": {
            "backgroundcolor": "#E5ECF6",
            "gridcolor": "white",
            "gridwidth": 2,
            "linecolor": "white",
            "showbackground": true,
            "ticks": "",
            "zerolinecolor": "white"
           },
           "yaxis": {
            "backgroundcolor": "#E5ECF6",
            "gridcolor": "white",
            "gridwidth": 2,
            "linecolor": "white",
            "showbackground": true,
            "ticks": "",
            "zerolinecolor": "white"
           },
           "zaxis": {
            "backgroundcolor": "#E5ECF6",
            "gridcolor": "white",
            "gridwidth": 2,
            "linecolor": "white",
            "showbackground": true,
            "ticks": "",
            "zerolinecolor": "white"
           }
          },
          "shapedefaults": {
           "line": {
            "color": "#2a3f5f"
           }
          },
          "ternary": {
           "aaxis": {
            "gridcolor": "white",
            "linecolor": "white",
            "ticks": ""
           },
           "baxis": {
            "gridcolor": "white",
            "linecolor": "white",
            "ticks": ""
           },
           "bgcolor": "#E5ECF6",
           "caxis": {
            "gridcolor": "white",
            "linecolor": "white",
            "ticks": ""
           }
          },
          "title": {
           "x": 0.05
          },
          "xaxis": {
           "automargin": true,
           "gridcolor": "white",
           "linecolor": "white",
           "ticks": "",
           "title": {
            "standoff": 15
           },
           "zerolinecolor": "white",
           "zerolinewidth": 2
          },
          "yaxis": {
           "automargin": true,
           "gridcolor": "white",
           "linecolor": "white",
           "ticks": "",
           "title": {
            "standoff": 15
           },
           "zerolinecolor": "white",
           "zerolinewidth": 2
          }
         }
        },
        "xaxis": {
         "anchor": "y",
         "domain": [
          0,
          1
         ],
         "title": {
          "text": "x"
         }
        },
        "yaxis": {
         "anchor": "x",
         "domain": [
          0,
          1
         ],
         "title": {
          "text": "y"
         }
        }
       }
      }
     },
     "metadata": {},
     "output_type": "display_data"
    }
   ],
   "source": [
    "mean = df_no2.iloc[:,2].mean()\n",
    "std = df_no2.iloc[:,2].std()\n",
    "min = df_no2.iloc[:,2].min()\n",
    "max = df_no2.iloc[:,2].max()\n",
    "show_norm(mean,std,min,max)"
   ]
  },
  {
   "cell_type": "markdown",
   "metadata": {},
   "source": [
    "### 부산광역시 이산화질소 누적확률 구하기"
   ]
  },
  {
   "cell_type": "code",
   "execution_count": 706,
   "metadata": {},
   "outputs": [
    {
     "data": {
      "application/vnd.plotly.v1+json": {
       "config": {
        "plotlyServerURL": "https://plot.ly"
       },
       "data": [
        {
         "fill": "tozeroy",
         "line": {
          "color": "rgb(100,110,250)"
         },
         "name": "적합",
         "text": "0.7579343076402061",
         "type": "scatter",
         "x": [
          -0.0002935353681110288,
          -0.00018956026338263457,
          -0.00008558515865424033,
          0.000018389946074153917,
          0.00012236505080254813,
          0.0002263401555309424,
          0.0003303152602593366,
          0.00043429036498773084,
          0.0005382654697161251,
          0.0006422405744445193,
          0.0007462156791729136,
          0.0008501907839013078,
          0.000954165888629702,
          0.0010581409933580962,
          0.0011621160980864905,
          0.0012660912028148847,
          0.001370066307543279,
          0.0014740414122716731,
          0.0015780165170000673,
          0.0016819916217284616,
          0.001785966726456856,
          0.00188994183118525,
          0.0019939169359136444,
          0.0020978920406420384,
          0.002201867145370433,
          0.002305842250098827,
          0.0024098173548272213,
          0.0025137924595556153,
          0.0026177675642840097,
          0.0027217426690124037,
          0.002825717773740798,
          0.002929692878469192,
          0.0030336679831975866,
          0.003137643087925981,
          0.003241618192654375,
          0.0033455932973827695,
          0.0034495684021111635,
          0.003553543506839558,
          0.003657518611567952,
          0.0037614937162963463,
          0.0038654688210247408,
          0.003969443925753134,
          0.004073419030481529,
          0.004177394135209923,
          0.004281369239938318,
          0.004385344344666711,
          0.004489319449395106,
          0.0045932945541235,
          0.0046972696588518945,
          0.004801244763580289,
          0.0049052198683086825,
          0.005009194973037077,
          0.005113170077765471,
          0.005217145182493866,
          0.005321120287222259,
          0.005425095391950654,
          0.005529070496679048,
          0.005633045601407443,
          0.005737020706135836,
          0.005840995810864231,
          0.005944970915592625,
          0.0060489460203210195,
          0.006152921125049413,
          0.0062568962297778075,
          0.006360871334506202,
          0.006464846439234596,
          0.006568821543962991,
          0.006672796648691384,
          0.006776771753419779,
          0.006880746858148173,
          0.006984721962876568,
          0.007088697067604961,
          0.007192672172333356,
          0.00729664727706175,
          0.007400622381790145,
          0.007504597486518538,
          0.007608572591246933,
          0.007712547695975326,
          0.007816522800703721,
          0.007920497905432115,
          0.00802447301016051,
          0.008128448114888904,
          0.008232423219617297,
          0.008336398324345693,
          0.008440373429074086,
          0.008544348533802482,
          0.008648323638530875,
          0.008752298743259269,
          0.008856273847987664,
          0.008960248952716058,
          0.009064224057444451,
          0.009168199162172846,
          0.00927217426690124,
          0.009376149371629635,
          0.009480124476358029,
          0.009584099581086422,
          0.009688074685814818,
          0.009792049790543211,
          0.009896024895271607,
          0.01
         ],
         "y": [
          6.801941926782865,
          7.3336392080086235,
          7.899022114721165,
          8.499517808405075,
          9.136553794407304,
          9.811552048102575,
          10.525922726418269,
          11.281057472610586,
          12.078322325709367,
          12.91905024973985,
          13.804533301664927,
          14.736014460945501,
          15.714679147660698,
          16.741646460234215,
          17.817960167941873,
          18.944579497494743,
          20.12236975706042,
          21.352092845063197,
          22.634397694949122,
          23.96981071076853,
          25.358726251874565,
          26.801397228212924,
          28.29792587054231,
          29.848254742430868,
          31.452158062976718,
          33.109233410859424,
          34.81889388150271,
          36.58036076977841,
          38.3926568507761,
          40.25460033066789,
          42.164799538590216,
          44.12164842872198,
          46.12332295934525,
          48.16777841261991,
          50.25274771508778,
          52.37574081453995,
          54.53404516385265,
          56.72472735673068,
          58.944635954021244,
          61.1904055324074,
          63.458461979893045,
          65.74502905460163,
          68.04613621507649,
          70.35762772155407,
          72.67517299864451,
          74.99427824057138,
          77.31029923066583,
          79.61845533726283,
          81.91384463859228,
          84.19146011977992,
          86.44620687576425,
          88.67292024488306,
          90.86638478917742,
          93.02135402919149,
          95.13257083329948,
          97.1947883544509,
          99.20279140077065,
          101.15141812076075,
          103.03558187898817,
          104.850293194177,
          106.59068160860464,
          108.25201735567724,
          109.82973269156865,
          111.3194427568742,
          112.71696583537576,
          114.01834287924498,
          115.21985617331943,
          116.31804701546397,
          117.30973229544365,
          118.192019861155,
          118.96232256843986,
          119.6183709189821,
          120.15822419990053,
          120.58028004852015,
          120.88328237635105,
          121.06632759743407,
          121.12886911783104,
          121.0707200550415,
          120.89205416841051,
          120.59340499404487,
          120.17566319026558,
          119.6400721120804,
          118.98822164545221,
          118.22204034415418,
          117.34378592363765,
          116.3560341774881,
          115.26166639261434,
          114.06385534921122,
          112.76605000067768,
          111.37195893698063,
          109.88553274236547,
          108.31094536477018,
          106.65257461975277,
          104.91498195615479,
          103.10289161407437,
          101.22116930798893,
          99.27480056905382,
          97.26886888070932,
          95.20853374077423,
          93.09900878121897
         ]
        },
        {
         "fill": "tozeroy",
         "line": {
          "color": "rgb(239,85,59)"
         },
         "name": "부적합",
         "text": "0.7579343076402061",
         "type": "scatter",
         "x": [
          0.01,
          0.010090909090909091,
          0.010181818181818183,
          0.010272727272727274,
          0.010363636363636363,
          0.010454545454545454,
          0.010545454545454545,
          0.010636363636363637,
          0.010727272727272728,
          0.010818181818181819,
          0.01090909090909091,
          0.011,
          0.01109090909090909,
          0.011181818181818182,
          0.011272727272727273,
          0.011363636363636364,
          0.011454545454545455,
          0.011545454545454546,
          0.011636363636363636,
          0.011727272727272727,
          0.011818181818181818,
          0.011909090909090909,
          0.012,
          0.012090909090909091,
          0.012181818181818183,
          0.012272727272727272,
          0.012363636363636363,
          0.012454545454545454,
          0.012545454545454545,
          0.012636363636363637,
          0.012727272727272728,
          0.012818181818181819,
          0.012909090909090908,
          0.013,
          0.01309090909090909,
          0.013181818181818182,
          0.013272727272727273,
          0.013363636363636364,
          0.013454545454545455,
          0.013545454545454545,
          0.013636363636363637,
          0.013727272727272727,
          0.013818181818181818,
          0.01390909090909091,
          0.014,
          0.014090909090909091,
          0.01418181818181818,
          0.014272727272727274,
          0.014363636363636363,
          0.014454545454545454,
          0.014545454545454545,
          0.014636363636363637,
          0.014727272727272728,
          0.014818181818181817,
          0.01490909090909091,
          0.015,
          0.01509090909090909,
          0.015181818181818182,
          0.015272727272727273,
          0.015363636363636364,
          0.015454545454545453,
          0.015545454545454546,
          0.015636363636363636,
          0.01572727272727273,
          0.015818181818181818,
          0.015909090909090907,
          0.016,
          0.01609090909090909,
          0.016181818181818183,
          0.016272727272727272,
          0.016363636363636365,
          0.016454545454545454,
          0.016545454545454544,
          0.016636363636363637,
          0.016727272727272726,
          0.01681818181818182,
          0.01690909090909091,
          0.017,
          0.01709090909090909,
          0.01718181818181818,
          0.017272727272727273,
          0.017363636363636362,
          0.017454545454545455,
          0.017545454545454545,
          0.017636363636363638,
          0.017727272727272727,
          0.017818181818181816,
          0.01790909090909091,
          0.018000000000000002,
          0.018090909090909088,
          0.01818181818181818,
          0.018272727272727274,
          0.018363636363636363,
          0.018454545454545453,
          0.018545454545454546,
          0.01863636363636364,
          0.018727272727272724,
          0.018818181818181817,
          0.01890909090909091,
          0.019
         ],
         "y": [
          93.09900878121897,
          91.21838901972758,
          89.30768997574613,
          87.37042158255433,
          85.41007901035576,
          83.43013245669383,
          81.43401725608138,
          79.42512434634976,
          77.40679112649096,
          75.3822927378845,
          73.35483379779984,
          71.32754061096057,
          69.30345388177957,
          67.28552194664155,
          65.27659454234885,
          63.27941712357865,
          61.296625738947654,
          59.33074247206476,
          57.38417145079551,
          55.459195424881095,
          53.55797290907154,
          51.68253588605869,
          49.83478806075326,
          48.01650365484802,
          46.22932672816397,
          44.47477101099731,
          42.75422022958097,
          41.06892890485583,
          39.420023603014954,
          37.80850461475016,
          36.235248038790004,
          34.701008244179405,
          33.20642068480755,
          31.75200503894626,
          30.338168646008402,
          28.965210212372167,
          27.633323757937998,
          26.34260277508071,
          25.093044571825367,
          23.884554771400932,
          22.716951940801593,
          21.58997232160339,
          20.50327463702835,
          19.456444950115966,
          18.44900154883141,
          17.480399835009013,
          16.550037195179286,
          15.657257832550517,
          14.801357540697815,
          13.981588400841654,
          13.197163385966007,
          12.447260856416253,
          11.731028933025769,
          11.047589735230204,
          10.396043473036277,
          9.775472383103796,
          9.184944500569577,
          8.623517259582663,
          8.090240916821234,
          7.584161793521185,
          7.104325332754597,
          6.649778969850678,
          6.2195748149473244,
          5.812772147693884,
          5.428439725093491,
          5.065657904372653,
          4.723520583596575,
          4.401136963508452,
          4.097633134760491,
          3.812153495323562,
          3.5438620034106134,
          3.291943271729963,
          3.0556035092965153,
          2.834071317377263,
          2.626598346431345,
          2.43245982112901,
          2.2509549407004568,
          2.0814071619767733,
          1.9231643725461516,
          1.7755989614604628,
          1.6381077948957072,
          1.5101121040965488,
          1.3910572928248388,
          1.2804126713880886,
          1.1776711241491526,
          1.082348717217589,
          0.9939842527984409,
          0.9121387764300048,
          0.8363950430807484,
          0.7663569478006491,
          0.7016489263364883,
          0.6419153308268677,
          0.586819785393324,
          0.5360445261418203,
          0.4892897297856833,
          0.4462728347992964,
          0.40672785871313083,
          0.370404714866817,
          0.3370685316494608,
          0.30649897697638057
         ]
        }
       ],
       "layout": {
        "annotations": [
         {
          "bordercolor": "rgb(100,110,250)",
          "borderwidth": 2,
          "font": {
           "color": "rgb(100,110,250)",
           "size": 15
          },
          "showarrow": false,
          "text": "0.758",
          "x": 0.01,
          "xshift": -40,
          "y": 93.09900878121897,
          "yshift": -100
         },
         {
          "bordercolor": "rgb(239,85,59)",
          "borderwidth": 2,
          "font": {
           "color": "rgb(239,85,59)",
           "size": 15
          },
          "showarrow": false,
          "text": "0.242",
          "x": 0.01,
          "xshift": 40,
          "y": 93.09900878121897,
          "yshift": -100
         }
        ],
        "template": {
         "data": {
          "bar": [
           {
            "error_x": {
             "color": "#2a3f5f"
            },
            "error_y": {
             "color": "#2a3f5f"
            },
            "marker": {
             "line": {
              "color": "#E5ECF6",
              "width": 0.5
             },
             "pattern": {
              "fillmode": "overlay",
              "size": 10,
              "solidity": 0.2
             }
            },
            "type": "bar"
           }
          ],
          "barpolar": [
           {
            "marker": {
             "line": {
              "color": "#E5ECF6",
              "width": 0.5
             },
             "pattern": {
              "fillmode": "overlay",
              "size": 10,
              "solidity": 0.2
             }
            },
            "type": "barpolar"
           }
          ],
          "carpet": [
           {
            "aaxis": {
             "endlinecolor": "#2a3f5f",
             "gridcolor": "white",
             "linecolor": "white",
             "minorgridcolor": "white",
             "startlinecolor": "#2a3f5f"
            },
            "baxis": {
             "endlinecolor": "#2a3f5f",
             "gridcolor": "white",
             "linecolor": "white",
             "minorgridcolor": "white",
             "startlinecolor": "#2a3f5f"
            },
            "type": "carpet"
           }
          ],
          "choropleth": [
           {
            "colorbar": {
             "outlinewidth": 0,
             "ticks": ""
            },
            "type": "choropleth"
           }
          ],
          "contour": [
           {
            "colorbar": {
             "outlinewidth": 0,
             "ticks": ""
            },
            "colorscale": [
             [
              0,
              "#0d0887"
             ],
             [
              0.1111111111111111,
              "#46039f"
             ],
             [
              0.2222222222222222,
              "#7201a8"
             ],
             [
              0.3333333333333333,
              "#9c179e"
             ],
             [
              0.4444444444444444,
              "#bd3786"
             ],
             [
              0.5555555555555556,
              "#d8576b"
             ],
             [
              0.6666666666666666,
              "#ed7953"
             ],
             [
              0.7777777777777778,
              "#fb9f3a"
             ],
             [
              0.8888888888888888,
              "#fdca26"
             ],
             [
              1,
              "#f0f921"
             ]
            ],
            "type": "contour"
           }
          ],
          "contourcarpet": [
           {
            "colorbar": {
             "outlinewidth": 0,
             "ticks": ""
            },
            "type": "contourcarpet"
           }
          ],
          "heatmap": [
           {
            "colorbar": {
             "outlinewidth": 0,
             "ticks": ""
            },
            "colorscale": [
             [
              0,
              "#0d0887"
             ],
             [
              0.1111111111111111,
              "#46039f"
             ],
             [
              0.2222222222222222,
              "#7201a8"
             ],
             [
              0.3333333333333333,
              "#9c179e"
             ],
             [
              0.4444444444444444,
              "#bd3786"
             ],
             [
              0.5555555555555556,
              "#d8576b"
             ],
             [
              0.6666666666666666,
              "#ed7953"
             ],
             [
              0.7777777777777778,
              "#fb9f3a"
             ],
             [
              0.8888888888888888,
              "#fdca26"
             ],
             [
              1,
              "#f0f921"
             ]
            ],
            "type": "heatmap"
           }
          ],
          "heatmapgl": [
           {
            "colorbar": {
             "outlinewidth": 0,
             "ticks": ""
            },
            "colorscale": [
             [
              0,
              "#0d0887"
             ],
             [
              0.1111111111111111,
              "#46039f"
             ],
             [
              0.2222222222222222,
              "#7201a8"
             ],
             [
              0.3333333333333333,
              "#9c179e"
             ],
             [
              0.4444444444444444,
              "#bd3786"
             ],
             [
              0.5555555555555556,
              "#d8576b"
             ],
             [
              0.6666666666666666,
              "#ed7953"
             ],
             [
              0.7777777777777778,
              "#fb9f3a"
             ],
             [
              0.8888888888888888,
              "#fdca26"
             ],
             [
              1,
              "#f0f921"
             ]
            ],
            "type": "heatmapgl"
           }
          ],
          "histogram": [
           {
            "marker": {
             "pattern": {
              "fillmode": "overlay",
              "size": 10,
              "solidity": 0.2
             }
            },
            "type": "histogram"
           }
          ],
          "histogram2d": [
           {
            "colorbar": {
             "outlinewidth": 0,
             "ticks": ""
            },
            "colorscale": [
             [
              0,
              "#0d0887"
             ],
             [
              0.1111111111111111,
              "#46039f"
             ],
             [
              0.2222222222222222,
              "#7201a8"
             ],
             [
              0.3333333333333333,
              "#9c179e"
             ],
             [
              0.4444444444444444,
              "#bd3786"
             ],
             [
              0.5555555555555556,
              "#d8576b"
             ],
             [
              0.6666666666666666,
              "#ed7953"
             ],
             [
              0.7777777777777778,
              "#fb9f3a"
             ],
             [
              0.8888888888888888,
              "#fdca26"
             ],
             [
              1,
              "#f0f921"
             ]
            ],
            "type": "histogram2d"
           }
          ],
          "histogram2dcontour": [
           {
            "colorbar": {
             "outlinewidth": 0,
             "ticks": ""
            },
            "colorscale": [
             [
              0,
              "#0d0887"
             ],
             [
              0.1111111111111111,
              "#46039f"
             ],
             [
              0.2222222222222222,
              "#7201a8"
             ],
             [
              0.3333333333333333,
              "#9c179e"
             ],
             [
              0.4444444444444444,
              "#bd3786"
             ],
             [
              0.5555555555555556,
              "#d8576b"
             ],
             [
              0.6666666666666666,
              "#ed7953"
             ],
             [
              0.7777777777777778,
              "#fb9f3a"
             ],
             [
              0.8888888888888888,
              "#fdca26"
             ],
             [
              1,
              "#f0f921"
             ]
            ],
            "type": "histogram2dcontour"
           }
          ],
          "mesh3d": [
           {
            "colorbar": {
             "outlinewidth": 0,
             "ticks": ""
            },
            "type": "mesh3d"
           }
          ],
          "parcoords": [
           {
            "line": {
             "colorbar": {
              "outlinewidth": 0,
              "ticks": ""
             }
            },
            "type": "parcoords"
           }
          ],
          "pie": [
           {
            "automargin": true,
            "type": "pie"
           }
          ],
          "scatter": [
           {
            "marker": {
             "colorbar": {
              "outlinewidth": 0,
              "ticks": ""
             }
            },
            "type": "scatter"
           }
          ],
          "scatter3d": [
           {
            "line": {
             "colorbar": {
              "outlinewidth": 0,
              "ticks": ""
             }
            },
            "marker": {
             "colorbar": {
              "outlinewidth": 0,
              "ticks": ""
             }
            },
            "type": "scatter3d"
           }
          ],
          "scattercarpet": [
           {
            "marker": {
             "colorbar": {
              "outlinewidth": 0,
              "ticks": ""
             }
            },
            "type": "scattercarpet"
           }
          ],
          "scattergeo": [
           {
            "marker": {
             "colorbar": {
              "outlinewidth": 0,
              "ticks": ""
             }
            },
            "type": "scattergeo"
           }
          ],
          "scattergl": [
           {
            "marker": {
             "colorbar": {
              "outlinewidth": 0,
              "ticks": ""
             }
            },
            "type": "scattergl"
           }
          ],
          "scattermapbox": [
           {
            "marker": {
             "colorbar": {
              "outlinewidth": 0,
              "ticks": ""
             }
            },
            "type": "scattermapbox"
           }
          ],
          "scatterpolar": [
           {
            "marker": {
             "colorbar": {
              "outlinewidth": 0,
              "ticks": ""
             }
            },
            "type": "scatterpolar"
           }
          ],
          "scatterpolargl": [
           {
            "marker": {
             "colorbar": {
              "outlinewidth": 0,
              "ticks": ""
             }
            },
            "type": "scatterpolargl"
           }
          ],
          "scatterternary": [
           {
            "marker": {
             "colorbar": {
              "outlinewidth": 0,
              "ticks": ""
             }
            },
            "type": "scatterternary"
           }
          ],
          "surface": [
           {
            "colorbar": {
             "outlinewidth": 0,
             "ticks": ""
            },
            "colorscale": [
             [
              0,
              "#0d0887"
             ],
             [
              0.1111111111111111,
              "#46039f"
             ],
             [
              0.2222222222222222,
              "#7201a8"
             ],
             [
              0.3333333333333333,
              "#9c179e"
             ],
             [
              0.4444444444444444,
              "#bd3786"
             ],
             [
              0.5555555555555556,
              "#d8576b"
             ],
             [
              0.6666666666666666,
              "#ed7953"
             ],
             [
              0.7777777777777778,
              "#fb9f3a"
             ],
             [
              0.8888888888888888,
              "#fdca26"
             ],
             [
              1,
              "#f0f921"
             ]
            ],
            "type": "surface"
           }
          ],
          "table": [
           {
            "cells": {
             "fill": {
              "color": "#EBF0F8"
             },
             "line": {
              "color": "white"
             }
            },
            "header": {
             "fill": {
              "color": "#C8D4E3"
             },
             "line": {
              "color": "white"
             }
            },
            "type": "table"
           }
          ]
         },
         "layout": {
          "annotationdefaults": {
           "arrowcolor": "#2a3f5f",
           "arrowhead": 0,
           "arrowwidth": 1
          },
          "autotypenumbers": "strict",
          "coloraxis": {
           "colorbar": {
            "outlinewidth": 0,
            "ticks": ""
           }
          },
          "colorscale": {
           "diverging": [
            [
             0,
             "#8e0152"
            ],
            [
             0.1,
             "#c51b7d"
            ],
            [
             0.2,
             "#de77ae"
            ],
            [
             0.3,
             "#f1b6da"
            ],
            [
             0.4,
             "#fde0ef"
            ],
            [
             0.5,
             "#f7f7f7"
            ],
            [
             0.6,
             "#e6f5d0"
            ],
            [
             0.7,
             "#b8e186"
            ],
            [
             0.8,
             "#7fbc41"
            ],
            [
             0.9,
             "#4d9221"
            ],
            [
             1,
             "#276419"
            ]
           ],
           "sequential": [
            [
             0,
             "#0d0887"
            ],
            [
             0.1111111111111111,
             "#46039f"
            ],
            [
             0.2222222222222222,
             "#7201a8"
            ],
            [
             0.3333333333333333,
             "#9c179e"
            ],
            [
             0.4444444444444444,
             "#bd3786"
            ],
            [
             0.5555555555555556,
             "#d8576b"
            ],
            [
             0.6666666666666666,
             "#ed7953"
            ],
            [
             0.7777777777777778,
             "#fb9f3a"
            ],
            [
             0.8888888888888888,
             "#fdca26"
            ],
            [
             1,
             "#f0f921"
            ]
           ],
           "sequentialminus": [
            [
             0,
             "#0d0887"
            ],
            [
             0.1111111111111111,
             "#46039f"
            ],
            [
             0.2222222222222222,
             "#7201a8"
            ],
            [
             0.3333333333333333,
             "#9c179e"
            ],
            [
             0.4444444444444444,
             "#bd3786"
            ],
            [
             0.5555555555555556,
             "#d8576b"
            ],
            [
             0.6666666666666666,
             "#ed7953"
            ],
            [
             0.7777777777777778,
             "#fb9f3a"
            ],
            [
             0.8888888888888888,
             "#fdca26"
            ],
            [
             1,
             "#f0f921"
            ]
           ]
          },
          "colorway": [
           "#636efa",
           "#EF553B",
           "#00cc96",
           "#ab63fa",
           "#FFA15A",
           "#19d3f3",
           "#FF6692",
           "#B6E880",
           "#FF97FF",
           "#FECB52"
          ],
          "font": {
           "color": "#2a3f5f"
          },
          "geo": {
           "bgcolor": "white",
           "lakecolor": "white",
           "landcolor": "#E5ECF6",
           "showlakes": true,
           "showland": true,
           "subunitcolor": "white"
          },
          "hoverlabel": {
           "align": "left"
          },
          "hovermode": "closest",
          "mapbox": {
           "style": "light"
          },
          "paper_bgcolor": "white",
          "plot_bgcolor": "#E5ECF6",
          "polar": {
           "angularaxis": {
            "gridcolor": "white",
            "linecolor": "white",
            "ticks": ""
           },
           "bgcolor": "#E5ECF6",
           "radialaxis": {
            "gridcolor": "white",
            "linecolor": "white",
            "ticks": ""
           }
          },
          "scene": {
           "xaxis": {
            "backgroundcolor": "#E5ECF6",
            "gridcolor": "white",
            "gridwidth": 2,
            "linecolor": "white",
            "showbackground": true,
            "ticks": "",
            "zerolinecolor": "white"
           },
           "yaxis": {
            "backgroundcolor": "#E5ECF6",
            "gridcolor": "white",
            "gridwidth": 2,
            "linecolor": "white",
            "showbackground": true,
            "ticks": "",
            "zerolinecolor": "white"
           },
           "zaxis": {
            "backgroundcolor": "#E5ECF6",
            "gridcolor": "white",
            "gridwidth": 2,
            "linecolor": "white",
            "showbackground": true,
            "ticks": "",
            "zerolinecolor": "white"
           }
          },
          "shapedefaults": {
           "line": {
            "color": "#2a3f5f"
           }
          },
          "ternary": {
           "aaxis": {
            "gridcolor": "white",
            "linecolor": "white",
            "ticks": ""
           },
           "baxis": {
            "gridcolor": "white",
            "linecolor": "white",
            "ticks": ""
           },
           "bgcolor": "#E5ECF6",
           "caxis": {
            "gridcolor": "white",
            "linecolor": "white",
            "ticks": ""
           }
          },
          "title": {
           "x": 0.05
          },
          "xaxis": {
           "automargin": true,
           "gridcolor": "white",
           "linecolor": "white",
           "ticks": "",
           "title": {
            "standoff": 15
           },
           "zerolinecolor": "white",
           "zerolinewidth": 2
          },
          "yaxis": {
           "automargin": true,
           "gridcolor": "white",
           "linecolor": "white",
           "ticks": "",
           "title": {
            "standoff": 15
           },
           "zerolinecolor": "white",
           "zerolinewidth": 2
          }
         }
        }
       }
      }
     },
     "metadata": {},
     "output_type": "display_data"
    }
   ],
   "source": [
    "busan_no2 = df_no2[df_no2['구분(2)']=='부산광역시'].loc[2,'2021.07']\n",
    "no2_pro = cal_norm(mean,std,min,max,busan_no2)"
   ]
  },
  {
   "cell_type": "markdown",
   "metadata": {
    "collapsed": false
   },
   "source": [
    "### 일산화탄소 월별 데이터 불러오기"
   ]
  },
  {
   "cell_type": "code",
   "execution_count": 707,
   "metadata": {
    "collapsed": false,
    "pycharm": {
     "name": "#%%\n"
    }
   },
   "outputs": [
    {
     "data": {
      "text/html": [
       "<div>\n",
       "<style scoped>\n",
       "    .dataframe tbody tr th:only-of-type {\n",
       "        vertical-align: middle;\n",
       "    }\n",
       "\n",
       "    .dataframe tbody tr th {\n",
       "        vertical-align: top;\n",
       "    }\n",
       "\n",
       "    .dataframe thead th {\n",
       "        text-align: right;\n",
       "    }\n",
       "</style>\n",
       "<table border=\"1\" class=\"dataframe\">\n",
       "  <thead>\n",
       "    <tr style=\"text-align: right;\">\n",
       "      <th></th>\n",
       "      <th>구분(1)</th>\n",
       "      <th>구분(2)</th>\n",
       "      <th>2021.02</th>\n",
       "      <th>2021.03</th>\n",
       "      <th>2021.04</th>\n",
       "      <th>2021.05</th>\n",
       "      <th>2021.06</th>\n",
       "      <th>2021.07</th>\n",
       "    </tr>\n",
       "  </thead>\n",
       "  <tbody>\n",
       "    <tr>\n",
       "      <th>0</th>\n",
       "      <td>총계</td>\n",
       "      <td>소계</td>\n",
       "      <td>0.5</td>\n",
       "      <td>0.5</td>\n",
       "      <td>0.4</td>\n",
       "      <td>0.4</td>\n",
       "      <td>0.4</td>\n",
       "      <td>0.3</td>\n",
       "    </tr>\n",
       "    <tr>\n",
       "      <th>1</th>\n",
       "      <td>서울특별시</td>\n",
       "      <td>서울특별시</td>\n",
       "      <td>0.6</td>\n",
       "      <td>0.5</td>\n",
       "      <td>0.4</td>\n",
       "      <td>0.4</td>\n",
       "      <td>0.4</td>\n",
       "      <td>0.3</td>\n",
       "    </tr>\n",
       "    <tr>\n",
       "      <th>2</th>\n",
       "      <td>부산광역시</td>\n",
       "      <td>부산광역시</td>\n",
       "      <td>0.4</td>\n",
       "      <td>0.4</td>\n",
       "      <td>0.3</td>\n",
       "      <td>0.3</td>\n",
       "      <td>0.3</td>\n",
       "      <td>0.2</td>\n",
       "    </tr>\n",
       "    <tr>\n",
       "      <th>3</th>\n",
       "      <td>대구광역시</td>\n",
       "      <td>대구광역시</td>\n",
       "      <td>0.5</td>\n",
       "      <td>0.4</td>\n",
       "      <td>0.3</td>\n",
       "      <td>0.4</td>\n",
       "      <td>0.4</td>\n",
       "      <td>0.3</td>\n",
       "    </tr>\n",
       "    <tr>\n",
       "      <th>4</th>\n",
       "      <td>인천광역시</td>\n",
       "      <td>인천광역시</td>\n",
       "      <td>0.6</td>\n",
       "      <td>0.6</td>\n",
       "      <td>0.4</td>\n",
       "      <td>0.4</td>\n",
       "      <td>0.4</td>\n",
       "      <td>0.4</td>\n",
       "    </tr>\n",
       "    <tr>\n",
       "      <th>...</th>\n",
       "      <td>...</td>\n",
       "      <td>...</td>\n",
       "      <td>...</td>\n",
       "      <td>...</td>\n",
       "      <td>...</td>\n",
       "      <td>...</td>\n",
       "      <td>...</td>\n",
       "      <td>...</td>\n",
       "    </tr>\n",
       "    <tr>\n",
       "      <th>167</th>\n",
       "      <td>경상남도</td>\n",
       "      <td>합천</td>\n",
       "      <td>0.4</td>\n",
       "      <td>0.3</td>\n",
       "      <td>0.3</td>\n",
       "      <td>0.3</td>\n",
       "      <td>0.3</td>\n",
       "      <td>0.2**</td>\n",
       "    </tr>\n",
       "    <tr>\n",
       "      <th>168</th>\n",
       "      <td>경상남도</td>\n",
       "      <td>도평균</td>\n",
       "      <td>0.5</td>\n",
       "      <td>0.4</td>\n",
       "      <td>0.4</td>\n",
       "      <td>0.4</td>\n",
       "      <td>0.4</td>\n",
       "      <td>0.3</td>\n",
       "    </tr>\n",
       "    <tr>\n",
       "      <th>169</th>\n",
       "      <td>제주특별자치도</td>\n",
       "      <td>제주특별자치도</td>\n",
       "      <td>0.3</td>\n",
       "      <td>0.3</td>\n",
       "      <td>0.3</td>\n",
       "      <td>0.3</td>\n",
       "      <td>0.3</td>\n",
       "      <td>0.2</td>\n",
       "    </tr>\n",
       "    <tr>\n",
       "      <th>170</th>\n",
       "      <td>제주특별자치도</td>\n",
       "      <td>서귀포</td>\n",
       "      <td>0.3</td>\n",
       "      <td>0.3</td>\n",
       "      <td>0.3</td>\n",
       "      <td>0.3</td>\n",
       "      <td>0.2</td>\n",
       "      <td>0.2</td>\n",
       "    </tr>\n",
       "    <tr>\n",
       "      <th>171</th>\n",
       "      <td>제주특별자치도</td>\n",
       "      <td>도평균</td>\n",
       "      <td>0.3</td>\n",
       "      <td>0.3</td>\n",
       "      <td>0.3</td>\n",
       "      <td>0.3</td>\n",
       "      <td>0.3</td>\n",
       "      <td>0.2</td>\n",
       "    </tr>\n",
       "  </tbody>\n",
       "</table>\n",
       "<p>172 rows × 8 columns</p>\n",
       "</div>"
      ],
      "text/plain": [
       "       구분(1)    구분(2) 2021.02 2021.03 2021.04 2021.05 2021.06 2021.07\n",
       "0         총계       소계     0.5     0.5     0.4     0.4     0.4     0.3\n",
       "1      서울특별시    서울특별시     0.6     0.5     0.4     0.4     0.4     0.3\n",
       "2      부산광역시    부산광역시     0.4     0.4     0.3     0.3     0.3     0.2\n",
       "3      대구광역시    대구광역시     0.5     0.4     0.3     0.4     0.4     0.3\n",
       "4      인천광역시    인천광역시     0.6     0.6     0.4     0.4     0.4     0.4\n",
       "..       ...      ...     ...     ...     ...     ...     ...     ...\n",
       "167     경상남도       합천     0.4     0.3     0.3     0.3     0.3   0.2**\n",
       "168     경상남도      도평균     0.5     0.4     0.4     0.4     0.4     0.3\n",
       "169  제주특별자치도  제주특별자치도     0.3     0.3     0.3     0.3     0.3     0.2\n",
       "170  제주특별자치도      서귀포     0.3     0.3     0.3     0.3     0.2     0.2\n",
       "171  제주특별자치도      도평균     0.3     0.3     0.3     0.3     0.3     0.2\n",
       "\n",
       "[172 rows x 8 columns]"
      ]
     },
     "execution_count": 707,
     "metadata": {},
     "output_type": "execute_result"
    }
   ],
   "source": [
    "co_file_path = 'C:\\\\Users\\\\SAMSUNG\\\\Desktop\\\\Green-Car-Charging-Station-Site-Selection\\\\Data\\\\일산화탄소_월별_도시별_대기오염도.csv'\n",
    "df_co = pd.read_csv(co_file_path, encoding='cp949')\n",
    "df_co"
   ]
  },
  {
   "cell_type": "code",
   "execution_count": 708,
   "metadata": {
    "collapsed": false,
    "pycharm": {
     "name": "#%%\n"
    }
   },
   "outputs": [],
   "source": [
    "co_col = df_co.iloc[:,2:-1].columns.tolist()"
   ]
  },
  {
   "cell_type": "code",
   "execution_count": 709,
   "metadata": {
    "collapsed": false,
    "pycharm": {
     "name": "#%%\n"
    }
   },
   "outputs": [],
   "source": [
    "df_co.drop(columns=co_col, inplace=True)"
   ]
  },
  {
   "cell_type": "code",
   "execution_count": 710,
   "metadata": {
    "collapsed": false,
    "pycharm": {
     "name": "#%%\n"
    }
   },
   "outputs": [],
   "source": [
    "advanced_replace(df_co, '2021.07','-',r'[^0-9.0-9]')\n",
    "df_co['2021.07'] = df_co['2021.07'].astype(float)"
   ]
  },
  {
   "cell_type": "code",
   "execution_count": 711,
   "metadata": {
    "collapsed": false,
    "pycharm": {
     "name": "#%%\n"
    }
   },
   "outputs": [
    {
     "name": "stdout",
     "output_type": "stream",
     "text": [
      "<class 'pandas.core.frame.DataFrame'>\n",
      "RangeIndex: 172 entries, 0 to 171\n",
      "Data columns (total 3 columns):\n",
      " #   Column   Non-Null Count  Dtype  \n",
      "---  ------   --------------  -----  \n",
      " 0   구분(1)    172 non-null    object \n",
      " 1   구분(2)    172 non-null    object \n",
      " 2   2021.07  172 non-null    float64\n",
      "dtypes: float64(1), object(2)\n",
      "memory usage: 4.2+ KB\n"
     ]
    }
   ],
   "source": [
    "df_co.info()"
   ]
  },
  {
   "cell_type": "code",
   "execution_count": 712,
   "metadata": {
    "collapsed": false,
    "pycharm": {
     "name": "#%%\n"
    }
   },
   "outputs": [
    {
     "data": {
      "text/html": [
       "<div>\n",
       "<style scoped>\n",
       "    .dataframe tbody tr th:only-of-type {\n",
       "        vertical-align: middle;\n",
       "    }\n",
       "\n",
       "    .dataframe tbody tr th {\n",
       "        vertical-align: top;\n",
       "    }\n",
       "\n",
       "    .dataframe thead th {\n",
       "        text-align: right;\n",
       "    }\n",
       "</style>\n",
       "<table border=\"1\" class=\"dataframe\">\n",
       "  <thead>\n",
       "    <tr style=\"text-align: right;\">\n",
       "      <th></th>\n",
       "      <th>2021.07</th>\n",
       "    </tr>\n",
       "  </thead>\n",
       "  <tbody>\n",
       "    <tr>\n",
       "      <th>count</th>\n",
       "      <td>172.000000</td>\n",
       "    </tr>\n",
       "    <tr>\n",
       "      <th>mean</th>\n",
       "      <td>0.328488</td>\n",
       "    </tr>\n",
       "    <tr>\n",
       "      <th>std</th>\n",
       "      <td>0.084825</td>\n",
       "    </tr>\n",
       "    <tr>\n",
       "      <th>min</th>\n",
       "      <td>0.100000</td>\n",
       "    </tr>\n",
       "    <tr>\n",
       "      <th>25%</th>\n",
       "      <td>0.300000</td>\n",
       "    </tr>\n",
       "    <tr>\n",
       "      <th>50%</th>\n",
       "      <td>0.300000</td>\n",
       "    </tr>\n",
       "    <tr>\n",
       "      <th>75%</th>\n",
       "      <td>0.400000</td>\n",
       "    </tr>\n",
       "    <tr>\n",
       "      <th>max</th>\n",
       "      <td>0.600000</td>\n",
       "    </tr>\n",
       "  </tbody>\n",
       "</table>\n",
       "</div>"
      ],
      "text/plain": [
       "          2021.07\n",
       "count  172.000000\n",
       "mean     0.328488\n",
       "std      0.084825\n",
       "min      0.100000\n",
       "25%      0.300000\n",
       "50%      0.300000\n",
       "75%      0.400000\n",
       "max      0.600000"
      ]
     },
     "execution_count": 712,
     "metadata": {},
     "output_type": "execute_result"
    }
   ],
   "source": [
    "df_co.describe()"
   ]
  },
  {
   "cell_type": "code",
   "execution_count": 713,
   "metadata": {},
   "outputs": [
    {
     "data": {
      "application/vnd.plotly.v1+json": {
       "config": {
        "plotlyServerURL": "https://plot.ly"
       },
       "data": [
        {
         "hovertemplate": "x=%{x}<br>y=%{y}<extra></extra>",
         "legendgroup": "",
         "line": {
          "color": "#636efa",
          "dash": "solid"
         },
         "mode": "lines",
         "name": "",
         "orientation": "v",
         "showlegend": false,
         "type": "scatter",
         "x": [
          0.01517451776087285,
          0.021081845864298378,
          0.026989173967723903,
          0.03289650207114943,
          0.038803830174574956,
          0.044711158278000485,
          0.050618486381426006,
          0.056525814484851535,
          0.06243314258827706,
          0.0683404706917026,
          0.07424779879512812,
          0.08015512689855364,
          0.08606245500197916,
          0.0919697831054047,
          0.09787711120883022,
          0.10378443931225576,
          0.10969176741568128,
          0.1155990955191068,
          0.12150642362253233,
          0.12741375172595787,
          0.1333210798293834,
          0.1392284079328089,
          0.14513573603623442,
          0.15104306413965995,
          0.1569503922430855,
          0.16285772034651103,
          0.16876504844993656,
          0.1746723765533621,
          0.18057970465678758,
          0.1864870327602131,
          0.19239436086363865,
          0.19830168896706418,
          0.20420901707048972,
          0.21011634517391525,
          0.21602367327734073,
          0.22193100138076627,
          0.2278383294841918,
          0.23374565758761734,
          0.23965298569104287,
          0.2455603137944684,
          0.25146764189789395,
          0.2573749700013194,
          0.26328229810474496,
          0.2691896262081705,
          0.27509695431159603,
          0.28100428241502157,
          0.2869116105184471,
          0.29281893862187264,
          0.2987262667252981,
          0.30463359482872365,
          0.3105409229321492,
          0.3164482510355747,
          0.32235557913900026,
          0.3282629072424258,
          0.33417023534585133,
          0.3400775634492768,
          0.34598489155270234,
          0.3518922196561279,
          0.3577995477595534,
          0.36370687586297895,
          0.3696142039664045,
          0.37552153206982997,
          0.3814288601732555,
          0.38733618827668104,
          0.3932435163801066,
          0.3991508444835321,
          0.40505817258695764,
          0.4109655006903832,
          0.41687282879380866,
          0.4227801568972342,
          0.42868748500065973,
          0.43459481310408526,
          0.4405021412075108,
          0.44640946931093634,
          0.4523167974143618,
          0.45822412551778735,
          0.4641314536212129,
          0.4700387817246384,
          0.47594610982806396,
          0.4818534379314895,
          0.487760766034915,
          0.4936680941383405,
          0.49957542224176604,
          0.5054827503451915,
          0.5113900784486171,
          0.5172974065520426,
          0.5232047346554681,
          0.5291120627588937,
          0.5350193908623192,
          0.5409267189657447,
          0.5468340470691703,
          0.5527413751725958,
          0.5586487032760213,
          0.5645560313794469,
          0.5704633594828724,
          0.576370687586298,
          0.5822780156897234,
          0.5881853437931489,
          0.5940926718965744,
          0.6
         ],
         "xaxis": "x",
         "y": [
          0.005127041209480273,
          0.006614946212953231,
          0.008493360485930558,
          0.010852418387511168,
          0.013799623284972515,
          0.017462308806851026,
          0.021990232872178765,
          0.027558255603899188,
          0.03436903595457045,
          0.04265566411761341,
          0.05268412804784467,
          0.0647554933288757,
          0.07920765704418148,
          0.09641651925526977,
          0.1167964013497848,
          0.14079953021218428,
          0.16891440229284474,
          0.2016628436334728,
          0.2395955921168746,
          0.28328624786899276,
          0.33332346782259553,
          0.3903013215708302,
          0.45480777794902444,
          0.5274113548804166,
          0.6086460378637105,
          0.6989946533332736,
          0.7988709695399567,
          0.9086008864437597,
          1.028403163616276,
          1.1583702170504582,
          1.2984495874550663,
          1.4484267393280201,
          1.6079098872324151,
          1.7763175590124558,
          1.9528695916389225,
          2.136582211386624,
          2.326267774765717,
          2.5205396401385927,
          2.7178225039242188,
          2.916368373047927,
          3.1142781617920283,
          3.3095287029019715,
          3.500004757442674,
          3.6835354041744655,
          3.8579339963733754,
          4.0210407013855445,
          4.170766494690637,
          4.305137373834717,
          4.422337494846301,
          4.520749919397625,
          4.598993697567374,
          4.655956098751195,
          4.690818939710948,
          4.703078139171428,
          4.692555845739326,
          4.659404731294985,
          4.6041043049891215,
          4.527449372233101,
          4.4305310269393035,
          4.314710812369838,
          4.181588905792572,
          4.03296736565588,
          3.8708096199932087,
          3.69719746629444,
          3.5142868936014837,
          3.3242640270622883,
          3.1293024359838717,
          2.9315229431333125,
          2.7329569320863905,
          2.5355139787060947,
          2.3409544412044725,
          2.150867440016632,
          1.9666544531643988,
          1.7895185536603981,
          1.620459130625658,
          1.4602717717323168,
          1.3095528464140642,
          1.1687082204621253,
          1.0379654549394841,
          0.9173887960007788,
          0.8068962459491797,
          0.7062780172008633,
          0.6152157062815072,
          0.5333015803606296,
          0.4600574395345477,
          0.39495259935390215,
          0.33742062532637984,
          0.28687454000640616,
          0.24272031000498984,
          0.2043685016257966,
          0.17124406735735695,
          0.1427942893377011,
          0.1184949590632262,
          0.09785491458775826,
          0.08041908736529335,
          0.06577023131485982,
          0.053529517576911996,
          0.043356180993776534,
          0.034946399943399244,
          0.028031581210024418
         ],
         "yaxis": "y"
        }
       ],
       "layout": {
        "legend": {
         "tracegroupgap": 0
        },
        "margin": {
         "t": 60
        },
        "template": {
         "data": {
          "bar": [
           {
            "error_x": {
             "color": "#2a3f5f"
            },
            "error_y": {
             "color": "#2a3f5f"
            },
            "marker": {
             "line": {
              "color": "#E5ECF6",
              "width": 0.5
             },
             "pattern": {
              "fillmode": "overlay",
              "size": 10,
              "solidity": 0.2
             }
            },
            "type": "bar"
           }
          ],
          "barpolar": [
           {
            "marker": {
             "line": {
              "color": "#E5ECF6",
              "width": 0.5
             },
             "pattern": {
              "fillmode": "overlay",
              "size": 10,
              "solidity": 0.2
             }
            },
            "type": "barpolar"
           }
          ],
          "carpet": [
           {
            "aaxis": {
             "endlinecolor": "#2a3f5f",
             "gridcolor": "white",
             "linecolor": "white",
             "minorgridcolor": "white",
             "startlinecolor": "#2a3f5f"
            },
            "baxis": {
             "endlinecolor": "#2a3f5f",
             "gridcolor": "white",
             "linecolor": "white",
             "minorgridcolor": "white",
             "startlinecolor": "#2a3f5f"
            },
            "type": "carpet"
           }
          ],
          "choropleth": [
           {
            "colorbar": {
             "outlinewidth": 0,
             "ticks": ""
            },
            "type": "choropleth"
           }
          ],
          "contour": [
           {
            "colorbar": {
             "outlinewidth": 0,
             "ticks": ""
            },
            "colorscale": [
             [
              0,
              "#0d0887"
             ],
             [
              0.1111111111111111,
              "#46039f"
             ],
             [
              0.2222222222222222,
              "#7201a8"
             ],
             [
              0.3333333333333333,
              "#9c179e"
             ],
             [
              0.4444444444444444,
              "#bd3786"
             ],
             [
              0.5555555555555556,
              "#d8576b"
             ],
             [
              0.6666666666666666,
              "#ed7953"
             ],
             [
              0.7777777777777778,
              "#fb9f3a"
             ],
             [
              0.8888888888888888,
              "#fdca26"
             ],
             [
              1,
              "#f0f921"
             ]
            ],
            "type": "contour"
           }
          ],
          "contourcarpet": [
           {
            "colorbar": {
             "outlinewidth": 0,
             "ticks": ""
            },
            "type": "contourcarpet"
           }
          ],
          "heatmap": [
           {
            "colorbar": {
             "outlinewidth": 0,
             "ticks": ""
            },
            "colorscale": [
             [
              0,
              "#0d0887"
             ],
             [
              0.1111111111111111,
              "#46039f"
             ],
             [
              0.2222222222222222,
              "#7201a8"
             ],
             [
              0.3333333333333333,
              "#9c179e"
             ],
             [
              0.4444444444444444,
              "#bd3786"
             ],
             [
              0.5555555555555556,
              "#d8576b"
             ],
             [
              0.6666666666666666,
              "#ed7953"
             ],
             [
              0.7777777777777778,
              "#fb9f3a"
             ],
             [
              0.8888888888888888,
              "#fdca26"
             ],
             [
              1,
              "#f0f921"
             ]
            ],
            "type": "heatmap"
           }
          ],
          "heatmapgl": [
           {
            "colorbar": {
             "outlinewidth": 0,
             "ticks": ""
            },
            "colorscale": [
             [
              0,
              "#0d0887"
             ],
             [
              0.1111111111111111,
              "#46039f"
             ],
             [
              0.2222222222222222,
              "#7201a8"
             ],
             [
              0.3333333333333333,
              "#9c179e"
             ],
             [
              0.4444444444444444,
              "#bd3786"
             ],
             [
              0.5555555555555556,
              "#d8576b"
             ],
             [
              0.6666666666666666,
              "#ed7953"
             ],
             [
              0.7777777777777778,
              "#fb9f3a"
             ],
             [
              0.8888888888888888,
              "#fdca26"
             ],
             [
              1,
              "#f0f921"
             ]
            ],
            "type": "heatmapgl"
           }
          ],
          "histogram": [
           {
            "marker": {
             "pattern": {
              "fillmode": "overlay",
              "size": 10,
              "solidity": 0.2
             }
            },
            "type": "histogram"
           }
          ],
          "histogram2d": [
           {
            "colorbar": {
             "outlinewidth": 0,
             "ticks": ""
            },
            "colorscale": [
             [
              0,
              "#0d0887"
             ],
             [
              0.1111111111111111,
              "#46039f"
             ],
             [
              0.2222222222222222,
              "#7201a8"
             ],
             [
              0.3333333333333333,
              "#9c179e"
             ],
             [
              0.4444444444444444,
              "#bd3786"
             ],
             [
              0.5555555555555556,
              "#d8576b"
             ],
             [
              0.6666666666666666,
              "#ed7953"
             ],
             [
              0.7777777777777778,
              "#fb9f3a"
             ],
             [
              0.8888888888888888,
              "#fdca26"
             ],
             [
              1,
              "#f0f921"
             ]
            ],
            "type": "histogram2d"
           }
          ],
          "histogram2dcontour": [
           {
            "colorbar": {
             "outlinewidth": 0,
             "ticks": ""
            },
            "colorscale": [
             [
              0,
              "#0d0887"
             ],
             [
              0.1111111111111111,
              "#46039f"
             ],
             [
              0.2222222222222222,
              "#7201a8"
             ],
             [
              0.3333333333333333,
              "#9c179e"
             ],
             [
              0.4444444444444444,
              "#bd3786"
             ],
             [
              0.5555555555555556,
              "#d8576b"
             ],
             [
              0.6666666666666666,
              "#ed7953"
             ],
             [
              0.7777777777777778,
              "#fb9f3a"
             ],
             [
              0.8888888888888888,
              "#fdca26"
             ],
             [
              1,
              "#f0f921"
             ]
            ],
            "type": "histogram2dcontour"
           }
          ],
          "mesh3d": [
           {
            "colorbar": {
             "outlinewidth": 0,
             "ticks": ""
            },
            "type": "mesh3d"
           }
          ],
          "parcoords": [
           {
            "line": {
             "colorbar": {
              "outlinewidth": 0,
              "ticks": ""
             }
            },
            "type": "parcoords"
           }
          ],
          "pie": [
           {
            "automargin": true,
            "type": "pie"
           }
          ],
          "scatter": [
           {
            "marker": {
             "colorbar": {
              "outlinewidth": 0,
              "ticks": ""
             }
            },
            "type": "scatter"
           }
          ],
          "scatter3d": [
           {
            "line": {
             "colorbar": {
              "outlinewidth": 0,
              "ticks": ""
             }
            },
            "marker": {
             "colorbar": {
              "outlinewidth": 0,
              "ticks": ""
             }
            },
            "type": "scatter3d"
           }
          ],
          "scattercarpet": [
           {
            "marker": {
             "colorbar": {
              "outlinewidth": 0,
              "ticks": ""
             }
            },
            "type": "scattercarpet"
           }
          ],
          "scattergeo": [
           {
            "marker": {
             "colorbar": {
              "outlinewidth": 0,
              "ticks": ""
             }
            },
            "type": "scattergeo"
           }
          ],
          "scattergl": [
           {
            "marker": {
             "colorbar": {
              "outlinewidth": 0,
              "ticks": ""
             }
            },
            "type": "scattergl"
           }
          ],
          "scattermapbox": [
           {
            "marker": {
             "colorbar": {
              "outlinewidth": 0,
              "ticks": ""
             }
            },
            "type": "scattermapbox"
           }
          ],
          "scatterpolar": [
           {
            "marker": {
             "colorbar": {
              "outlinewidth": 0,
              "ticks": ""
             }
            },
            "type": "scatterpolar"
           }
          ],
          "scatterpolargl": [
           {
            "marker": {
             "colorbar": {
              "outlinewidth": 0,
              "ticks": ""
             }
            },
            "type": "scatterpolargl"
           }
          ],
          "scatterternary": [
           {
            "marker": {
             "colorbar": {
              "outlinewidth": 0,
              "ticks": ""
             }
            },
            "type": "scatterternary"
           }
          ],
          "surface": [
           {
            "colorbar": {
             "outlinewidth": 0,
             "ticks": ""
            },
            "colorscale": [
             [
              0,
              "#0d0887"
             ],
             [
              0.1111111111111111,
              "#46039f"
             ],
             [
              0.2222222222222222,
              "#7201a8"
             ],
             [
              0.3333333333333333,
              "#9c179e"
             ],
             [
              0.4444444444444444,
              "#bd3786"
             ],
             [
              0.5555555555555556,
              "#d8576b"
             ],
             [
              0.6666666666666666,
              "#ed7953"
             ],
             [
              0.7777777777777778,
              "#fb9f3a"
             ],
             [
              0.8888888888888888,
              "#fdca26"
             ],
             [
              1,
              "#f0f921"
             ]
            ],
            "type": "surface"
           }
          ],
          "table": [
           {
            "cells": {
             "fill": {
              "color": "#EBF0F8"
             },
             "line": {
              "color": "white"
             }
            },
            "header": {
             "fill": {
              "color": "#C8D4E3"
             },
             "line": {
              "color": "white"
             }
            },
            "type": "table"
           }
          ]
         },
         "layout": {
          "annotationdefaults": {
           "arrowcolor": "#2a3f5f",
           "arrowhead": 0,
           "arrowwidth": 1
          },
          "autotypenumbers": "strict",
          "coloraxis": {
           "colorbar": {
            "outlinewidth": 0,
            "ticks": ""
           }
          },
          "colorscale": {
           "diverging": [
            [
             0,
             "#8e0152"
            ],
            [
             0.1,
             "#c51b7d"
            ],
            [
             0.2,
             "#de77ae"
            ],
            [
             0.3,
             "#f1b6da"
            ],
            [
             0.4,
             "#fde0ef"
            ],
            [
             0.5,
             "#f7f7f7"
            ],
            [
             0.6,
             "#e6f5d0"
            ],
            [
             0.7,
             "#b8e186"
            ],
            [
             0.8,
             "#7fbc41"
            ],
            [
             0.9,
             "#4d9221"
            ],
            [
             1,
             "#276419"
            ]
           ],
           "sequential": [
            [
             0,
             "#0d0887"
            ],
            [
             0.1111111111111111,
             "#46039f"
            ],
            [
             0.2222222222222222,
             "#7201a8"
            ],
            [
             0.3333333333333333,
             "#9c179e"
            ],
            [
             0.4444444444444444,
             "#bd3786"
            ],
            [
             0.5555555555555556,
             "#d8576b"
            ],
            [
             0.6666666666666666,
             "#ed7953"
            ],
            [
             0.7777777777777778,
             "#fb9f3a"
            ],
            [
             0.8888888888888888,
             "#fdca26"
            ],
            [
             1,
             "#f0f921"
            ]
           ],
           "sequentialminus": [
            [
             0,
             "#0d0887"
            ],
            [
             0.1111111111111111,
             "#46039f"
            ],
            [
             0.2222222222222222,
             "#7201a8"
            ],
            [
             0.3333333333333333,
             "#9c179e"
            ],
            [
             0.4444444444444444,
             "#bd3786"
            ],
            [
             0.5555555555555556,
             "#d8576b"
            ],
            [
             0.6666666666666666,
             "#ed7953"
            ],
            [
             0.7777777777777778,
             "#fb9f3a"
            ],
            [
             0.8888888888888888,
             "#fdca26"
            ],
            [
             1,
             "#f0f921"
            ]
           ]
          },
          "colorway": [
           "#636efa",
           "#EF553B",
           "#00cc96",
           "#ab63fa",
           "#FFA15A",
           "#19d3f3",
           "#FF6692",
           "#B6E880",
           "#FF97FF",
           "#FECB52"
          ],
          "font": {
           "color": "#2a3f5f"
          },
          "geo": {
           "bgcolor": "white",
           "lakecolor": "white",
           "landcolor": "#E5ECF6",
           "showlakes": true,
           "showland": true,
           "subunitcolor": "white"
          },
          "hoverlabel": {
           "align": "left"
          },
          "hovermode": "closest",
          "mapbox": {
           "style": "light"
          },
          "paper_bgcolor": "white",
          "plot_bgcolor": "#E5ECF6",
          "polar": {
           "angularaxis": {
            "gridcolor": "white",
            "linecolor": "white",
            "ticks": ""
           },
           "bgcolor": "#E5ECF6",
           "radialaxis": {
            "gridcolor": "white",
            "linecolor": "white",
            "ticks": ""
           }
          },
          "scene": {
           "xaxis": {
            "backgroundcolor": "#E5ECF6",
            "gridcolor": "white",
            "gridwidth": 2,
            "linecolor": "white",
            "showbackground": true,
            "ticks": "",
            "zerolinecolor": "white"
           },
           "yaxis": {
            "backgroundcolor": "#E5ECF6",
            "gridcolor": "white",
            "gridwidth": 2,
            "linecolor": "white",
            "showbackground": true,
            "ticks": "",
            "zerolinecolor": "white"
           },
           "zaxis": {
            "backgroundcolor": "#E5ECF6",
            "gridcolor": "white",
            "gridwidth": 2,
            "linecolor": "white",
            "showbackground": true,
            "ticks": "",
            "zerolinecolor": "white"
           }
          },
          "shapedefaults": {
           "line": {
            "color": "#2a3f5f"
           }
          },
          "ternary": {
           "aaxis": {
            "gridcolor": "white",
            "linecolor": "white",
            "ticks": ""
           },
           "baxis": {
            "gridcolor": "white",
            "linecolor": "white",
            "ticks": ""
           },
           "bgcolor": "#E5ECF6",
           "caxis": {
            "gridcolor": "white",
            "linecolor": "white",
            "ticks": ""
           }
          },
          "title": {
           "x": 0.05
          },
          "xaxis": {
           "automargin": true,
           "gridcolor": "white",
           "linecolor": "white",
           "ticks": "",
           "title": {
            "standoff": 15
           },
           "zerolinecolor": "white",
           "zerolinewidth": 2
          },
          "yaxis": {
           "automargin": true,
           "gridcolor": "white",
           "linecolor": "white",
           "ticks": "",
           "title": {
            "standoff": 15
           },
           "zerolinecolor": "white",
           "zerolinewidth": 2
          }
         }
        },
        "xaxis": {
         "anchor": "y",
         "domain": [
          0,
          1
         ],
         "title": {
          "text": "x"
         }
        },
        "yaxis": {
         "anchor": "x",
         "domain": [
          0,
          1
         ],
         "title": {
          "text": "y"
         }
        }
       }
      }
     },
     "metadata": {},
     "output_type": "display_data"
    }
   ],
   "source": [
    "mean = df_co.iloc[:,2].mean()\n",
    "std = df_co.iloc[:,2].std()\n",
    "min = df_co.iloc[:,2].min()\n",
    "max = df_co.iloc[:,2].max()\n",
    "show_norm(mean,std,min,max)"
   ]
  },
  {
   "cell_type": "markdown",
   "metadata": {},
   "source": [
    "### 부산광역시 일산화탄소 누적확률 구하기"
   ]
  },
  {
   "cell_type": "code",
   "execution_count": 714,
   "metadata": {},
   "outputs": [
    {
     "data": {
      "application/vnd.plotly.v1+json": {
       "config": {
        "plotlyServerURL": "https://plot.ly"
       },
       "data": [
        {
         "fill": "tozeroy",
         "line": {
          "color": "rgb(100,110,250)"
         },
         "name": "적합",
         "text": "0.064919397312361",
         "type": "scatter",
         "x": [
          0.01517451776087285,
          0.017041441823894336,
          0.018908365886915822,
          0.020775289949937308,
          0.022642214012958795,
          0.02450913807598028,
          0.026376062139001767,
          0.028242986202023253,
          0.03010991026504474,
          0.03197683432806622,
          0.03384375839108771,
          0.0357106824541092,
          0.037577606517130685,
          0.03944453058015217,
          0.04131145464317366,
          0.04317837870619515,
          0.04504530276921663,
          0.04691222683223811,
          0.0487791508952596,
          0.05064607495828109,
          0.052512999021302575,
          0.05437992308432406,
          0.05624684714734555,
          0.05811377121036704,
          0.05998069527338852,
          0.061847619336410004,
          0.0637145433994315,
          0.06558146746245298,
          0.06744839152547447,
          0.06931531558849595,
          0.07118223965151743,
          0.07304916371453893,
          0.07491608777756041,
          0.0767830118405819,
          0.07864993590360338,
          0.08051685996662487,
          0.08238378402964636,
          0.08425070809266784,
          0.08611763215568934,
          0.08798455621871082,
          0.0898514802817323,
          0.09171840434475378,
          0.09358532840777527,
          0.09545225247079676,
          0.09731917653381825,
          0.09918610059683973,
          0.10105302465986123,
          0.10291994872288271,
          0.10478687278590419,
          0.10665379684892567,
          0.10852072091194716,
          0.11038764497496865,
          0.11225456903799014,
          0.11412149310101162,
          0.11598841716403312,
          0.1178553412270546,
          0.11972226529007608,
          0.12158918935309757,
          0.12345611341611905,
          0.12532303747914053,
          0.12718996154216203,
          0.12905688560518352,
          0.130923809668205,
          0.1327907337312265,
          0.134657657794248,
          0.13652458185726946,
          0.13839150592029092,
          0.14025842998331245,
          0.14212535404633392,
          0.1439922781093554,
          0.1458592021723769,
          0.14772612623539838,
          0.14959305029841985,
          0.15145997436144137,
          0.15332689842446284,
          0.1551938224874843,
          0.15706074655050584,
          0.1589276706135273,
          0.16079459467654877,
          0.16266151873957024,
          0.16452844280259177,
          0.16639536686561324,
          0.1682622909286347,
          0.17012921499165623,
          0.1719961390546777,
          0.17386306311769917,
          0.1757299871807207,
          0.17759691124374216,
          0.17946383530676363,
          0.18133075936978515,
          0.18319768343280662,
          0.1850646074958281,
          0.18693153155884962,
          0.1887984556218711,
          0.19066537968489256,
          0.19253230374791402,
          0.19439922781093555,
          0.19626615187395702,
          0.1981330759369785,
          0.2
         ],
         "y": [
          0.005127041209480273,
          0.005559897164058981,
          0.006026377586096722,
          0.0065288328320357416,
          0.007069755394134087,
          0.007651786722993589,
          0.008277724241616028,
          0.008950528545644897,
          0.009673330783351683,
          0.010449440207763816,
          0.01128235189210469,
          0.01217575459842522,
          0.01313353878795336,
          0.01415980476026952,
          0.015258870906940733,
          0.01643528206370748,
          0.01769381794372517,
          0.019039501632713743,
          0.0204776081251712,
          0.02201367287906023,
          0.0236535003645892,
          0.025403172580883555,
          0.0272690575124816,
          0.029257817495706228,
          0.03137641746305567,
          0.033632133031839116,
          0.03603255840135667,
          0.03858561402100382,
          0.04129955398976966,
          0.04418297314570941,
          0.047244813802115135,
          0.05049437208529512,
          0.053941303827105894,
          0.057595629963688916,
          0.06146774139023873,
          0.06556840322010159,
          0.06990875839507216,
          0.07450033059244798,
          0.07935502637321072,
          0.08448513651467215,
          0.08990333647003536,
          0.09562268589661399,
          0.1016566271939315,
          0.10801898299259759,
          0.11472395253475569,
          0.12178610688701635,
          0.1292203829271622,
          0.13704207604653199,
          0.14526683151088732,
          0.15391063442374606,
          0.16298979823763912,
          0.1725209517605287,
          0.1825210246067222,
          0.19300723104404938,
          0.20399705219181483,
          0.21550821652715918,
          0.22755867866090007,
          0.2401665963477327,
          0.25335030569983547,
          0.2671282945774381,
          0.2815191741347915,
          0.29654164850520814,
          0.3122144826144298,
          0.3285564681175092,
          0.3455863874606598,
          0.36332297607613034,
          0.38178488272507627,
          0.4009906280106089,
          0.4209585610907175,
          0.4417068146285307,
          0.46325325802537975,
          0.48561544899039644,
          0.5088105835087892,
          0.532855444279552,
          0.5577663477021197,
          0.5835590895003083,
          0.6102488890808271,
          0.6378503327325836,
          0.6663773157819936,
          0.6958429838283786,
          0.7262596731924057,
          0.7576388507191963,
          0.7899910530862961,
          0.8233258257749672,
          0.8576516618713614,
          0.8929759408718508,
          0.9293048676741673,
          0.96664341194299,
          1.0049952480451438,
          1.0443626957555687,
          1.0847466619406974,
          1.1261465834307698,
          1.1685603712967938,
          1.2119843567514463,
          1.256413238896012,
          1.3018400345374828,
          1.348256030301203,
          1.395650737264815,
          1.4440118483388238,
          1.4933251986176361
         ]
        },
        {
         "fill": "tozeroy",
         "line": {
          "color": "rgb(239,85,59)"
         },
         "name": "부적합",
         "text": "0.064919397312361",
         "type": "scatter",
         "x": [
          0.2,
          0.20404040404040405,
          0.2080808080808081,
          0.21212121212121213,
          0.21616161616161617,
          0.2202020202020202,
          0.22424242424242424,
          0.2282828282828283,
          0.23232323232323232,
          0.2363636363636364,
          0.2404040404040404,
          0.24444444444444446,
          0.2484848484848485,
          0.25252525252525254,
          0.25656565656565655,
          0.2606060606060606,
          0.2646464646464647,
          0.2686868686868687,
          0.2727272727272727,
          0.2767676767676768,
          0.28080808080808084,
          0.28484848484848485,
          0.2888888888888889,
          0.29292929292929293,
          0.296969696969697,
          0.301010101010101,
          0.30505050505050507,
          0.3090909090909091,
          0.31313131313131315,
          0.3171717171717172,
          0.3212121212121212,
          0.32525252525252524,
          0.3292929292929293,
          0.33333333333333337,
          0.3373737373737374,
          0.3414141414141414,
          0.34545454545454546,
          0.3494949494949495,
          0.35353535353535354,
          0.35757575757575755,
          0.3616161616161616,
          0.3656565656565657,
          0.36969696969696975,
          0.37373737373737376,
          0.37777777777777777,
          0.38181818181818183,
          0.3858585858585859,
          0.3898989898989899,
          0.3939393939393939,
          0.397979797979798,
          0.40202020202020206,
          0.40606060606060607,
          0.4101010101010101,
          0.41414141414141414,
          0.4181818181818182,
          0.4222222222222222,
          0.4262626262626263,
          0.4303030303030303,
          0.43434343434343436,
          0.43838383838383843,
          0.44242424242424244,
          0.44646464646464645,
          0.4505050505050505,
          0.45454545454545453,
          0.4585858585858586,
          0.46262626262626266,
          0.4666666666666667,
          0.47070707070707074,
          0.47474747474747475,
          0.4787878787878788,
          0.48282828282828283,
          0.4868686868686869,
          0.4909090909090909,
          0.494949494949495,
          0.498989898989899,
          0.503030303030303,
          0.507070707070707,
          0.5111111111111111,
          0.5151515151515151,
          0.5191919191919192,
          0.5232323232323233,
          0.5272727272727273,
          0.5313131313131314,
          0.5353535353535354,
          0.5393939393939394,
          0.5434343434343434,
          0.5474747474747474,
          0.5515151515151515,
          0.5555555555555556,
          0.5595959595959596,
          0.5636363636363637,
          0.5676767676767677,
          0.5717171717171717,
          0.5757575757575757,
          0.5797979797979798,
          0.5838383838383838,
          0.5878787878787879,
          0.591919191919192,
          0.595959595959596,
          0.6
         ],
         "y": [
          1.4933251986176361,
          1.6032308016457166,
          1.7173245310714083,
          1.835368908120309,
          1.9570820697251188,
          2.08213736039614,
          2.210163420547861,
          2.34074480292702,
          2.473423142212668,
          2.6076988953964695,
          2.743033662302793,
          2.87885308669869,
          3.0145503290216413,
          3.1494900919869027,
          3.283013170411711,
          3.4144414867098467,
          3.543083563874668,
          3.668240378593884,
          3.7892115286355432,
          3.905301641016291,
          4.015826940901991,
          4.120121895872113,
          4.217545846255258,
          4.307489529839195,
          4.3893814084692675,
          4.462693704933789,
          4.5269480611176025,
          4.5817207326700045,
          4.626647241327307,
          4.661426413461084,
          4.685823742262498,
          4.699674021058335,
          4.702883206392979,
          4.695429481483937,
          4.67736350322766,
          4.648807828843424,
          4.6099555312337035,
          4.561068024945427,
          4.5024721369781044,
          4.434556468353348,
          4.357767103104281,
          4.272602730953841,
          4.179609258246999,
          4.079373988534136,
          3.972519459456946,
          3.8596970261875705,
          3.7415802835776573,
          3.618858419387139,
          3.492229589520859,
          3.362394403178705,
          3.2300496013288087,
          3.0958820060803025,
          2.9605628115240377,
          2.8247422786087912,
          2.6890448878245077,
          2.554064994080393,
          2.420363018406143,
          2.2884622011800406,
          2.158845931702997,
          2.0319556592871706,
          1.908189381790632,
          1.7879006988666863,
          1.6713984092473215,
          1.558946624260643,
          1.45076536358312,
          1.3470315940142559,
          1.2478806678732233,
          1.153408114468997,
          1.0636717359781986,
          0.9786939579473364,
          0.898464384468025,
          0.8229425087873609,
          0.7520605316296636,
          0.6857262417274463,
          0.6238259158884412,
          0.566227199256096,
          0.5127819301459163,
          0.4633288778523895,
          0.4176963660176729,
          0.3757047584352884,
          0.3371687884390247,
          0.3018997172165882,
          0.26970731041686996,
          0.24040162622705163,
          0.21379461163017427,
          0.18970150677537947,
          0.1679420602727089,
          0.1483415607435606,
          0.13073169210761612,
          0.11495122186732787,
          0.1008465330696215,
          0.0882720116959948,
          0.07709030197695463,
          0.06717244256956732,
          0.05839789670601703,
          0.05065448934709332,
          0.04383826408932481,
          0.037853272110433774,
          0.03261130482684249,
          0.028031581210024418
         ]
        }
       ],
       "layout": {
        "annotations": [
         {
          "bordercolor": "rgb(100,110,250)",
          "borderwidth": 2,
          "font": {
           "color": "rgb(100,110,250)",
           "size": 15
          },
          "showarrow": false,
          "text": "0.065",
          "x": 0.2,
          "xshift": -40,
          "y": 1.4933251986176361,
          "yshift": -100
         },
         {
          "bordercolor": "rgb(239,85,59)",
          "borderwidth": 2,
          "font": {
           "color": "rgb(239,85,59)",
           "size": 15
          },
          "showarrow": false,
          "text": "0.935",
          "x": 0.2,
          "xshift": 40,
          "y": 1.4933251986176361,
          "yshift": -100
         }
        ],
        "template": {
         "data": {
          "bar": [
           {
            "error_x": {
             "color": "#2a3f5f"
            },
            "error_y": {
             "color": "#2a3f5f"
            },
            "marker": {
             "line": {
              "color": "#E5ECF6",
              "width": 0.5
             },
             "pattern": {
              "fillmode": "overlay",
              "size": 10,
              "solidity": 0.2
             }
            },
            "type": "bar"
           }
          ],
          "barpolar": [
           {
            "marker": {
             "line": {
              "color": "#E5ECF6",
              "width": 0.5
             },
             "pattern": {
              "fillmode": "overlay",
              "size": 10,
              "solidity": 0.2
             }
            },
            "type": "barpolar"
           }
          ],
          "carpet": [
           {
            "aaxis": {
             "endlinecolor": "#2a3f5f",
             "gridcolor": "white",
             "linecolor": "white",
             "minorgridcolor": "white",
             "startlinecolor": "#2a3f5f"
            },
            "baxis": {
             "endlinecolor": "#2a3f5f",
             "gridcolor": "white",
             "linecolor": "white",
             "minorgridcolor": "white",
             "startlinecolor": "#2a3f5f"
            },
            "type": "carpet"
           }
          ],
          "choropleth": [
           {
            "colorbar": {
             "outlinewidth": 0,
             "ticks": ""
            },
            "type": "choropleth"
           }
          ],
          "contour": [
           {
            "colorbar": {
             "outlinewidth": 0,
             "ticks": ""
            },
            "colorscale": [
             [
              0,
              "#0d0887"
             ],
             [
              0.1111111111111111,
              "#46039f"
             ],
             [
              0.2222222222222222,
              "#7201a8"
             ],
             [
              0.3333333333333333,
              "#9c179e"
             ],
             [
              0.4444444444444444,
              "#bd3786"
             ],
             [
              0.5555555555555556,
              "#d8576b"
             ],
             [
              0.6666666666666666,
              "#ed7953"
             ],
             [
              0.7777777777777778,
              "#fb9f3a"
             ],
             [
              0.8888888888888888,
              "#fdca26"
             ],
             [
              1,
              "#f0f921"
             ]
            ],
            "type": "contour"
           }
          ],
          "contourcarpet": [
           {
            "colorbar": {
             "outlinewidth": 0,
             "ticks": ""
            },
            "type": "contourcarpet"
           }
          ],
          "heatmap": [
           {
            "colorbar": {
             "outlinewidth": 0,
             "ticks": ""
            },
            "colorscale": [
             [
              0,
              "#0d0887"
             ],
             [
              0.1111111111111111,
              "#46039f"
             ],
             [
              0.2222222222222222,
              "#7201a8"
             ],
             [
              0.3333333333333333,
              "#9c179e"
             ],
             [
              0.4444444444444444,
              "#bd3786"
             ],
             [
              0.5555555555555556,
              "#d8576b"
             ],
             [
              0.6666666666666666,
              "#ed7953"
             ],
             [
              0.7777777777777778,
              "#fb9f3a"
             ],
             [
              0.8888888888888888,
              "#fdca26"
             ],
             [
              1,
              "#f0f921"
             ]
            ],
            "type": "heatmap"
           }
          ],
          "heatmapgl": [
           {
            "colorbar": {
             "outlinewidth": 0,
             "ticks": ""
            },
            "colorscale": [
             [
              0,
              "#0d0887"
             ],
             [
              0.1111111111111111,
              "#46039f"
             ],
             [
              0.2222222222222222,
              "#7201a8"
             ],
             [
              0.3333333333333333,
              "#9c179e"
             ],
             [
              0.4444444444444444,
              "#bd3786"
             ],
             [
              0.5555555555555556,
              "#d8576b"
             ],
             [
              0.6666666666666666,
              "#ed7953"
             ],
             [
              0.7777777777777778,
              "#fb9f3a"
             ],
             [
              0.8888888888888888,
              "#fdca26"
             ],
             [
              1,
              "#f0f921"
             ]
            ],
            "type": "heatmapgl"
           }
          ],
          "histogram": [
           {
            "marker": {
             "pattern": {
              "fillmode": "overlay",
              "size": 10,
              "solidity": 0.2
             }
            },
            "type": "histogram"
           }
          ],
          "histogram2d": [
           {
            "colorbar": {
             "outlinewidth": 0,
             "ticks": ""
            },
            "colorscale": [
             [
              0,
              "#0d0887"
             ],
             [
              0.1111111111111111,
              "#46039f"
             ],
             [
              0.2222222222222222,
              "#7201a8"
             ],
             [
              0.3333333333333333,
              "#9c179e"
             ],
             [
              0.4444444444444444,
              "#bd3786"
             ],
             [
              0.5555555555555556,
              "#d8576b"
             ],
             [
              0.6666666666666666,
              "#ed7953"
             ],
             [
              0.7777777777777778,
              "#fb9f3a"
             ],
             [
              0.8888888888888888,
              "#fdca26"
             ],
             [
              1,
              "#f0f921"
             ]
            ],
            "type": "histogram2d"
           }
          ],
          "histogram2dcontour": [
           {
            "colorbar": {
             "outlinewidth": 0,
             "ticks": ""
            },
            "colorscale": [
             [
              0,
              "#0d0887"
             ],
             [
              0.1111111111111111,
              "#46039f"
             ],
             [
              0.2222222222222222,
              "#7201a8"
             ],
             [
              0.3333333333333333,
              "#9c179e"
             ],
             [
              0.4444444444444444,
              "#bd3786"
             ],
             [
              0.5555555555555556,
              "#d8576b"
             ],
             [
              0.6666666666666666,
              "#ed7953"
             ],
             [
              0.7777777777777778,
              "#fb9f3a"
             ],
             [
              0.8888888888888888,
              "#fdca26"
             ],
             [
              1,
              "#f0f921"
             ]
            ],
            "type": "histogram2dcontour"
           }
          ],
          "mesh3d": [
           {
            "colorbar": {
             "outlinewidth": 0,
             "ticks": ""
            },
            "type": "mesh3d"
           }
          ],
          "parcoords": [
           {
            "line": {
             "colorbar": {
              "outlinewidth": 0,
              "ticks": ""
             }
            },
            "type": "parcoords"
           }
          ],
          "pie": [
           {
            "automargin": true,
            "type": "pie"
           }
          ],
          "scatter": [
           {
            "marker": {
             "colorbar": {
              "outlinewidth": 0,
              "ticks": ""
             }
            },
            "type": "scatter"
           }
          ],
          "scatter3d": [
           {
            "line": {
             "colorbar": {
              "outlinewidth": 0,
              "ticks": ""
             }
            },
            "marker": {
             "colorbar": {
              "outlinewidth": 0,
              "ticks": ""
             }
            },
            "type": "scatter3d"
           }
          ],
          "scattercarpet": [
           {
            "marker": {
             "colorbar": {
              "outlinewidth": 0,
              "ticks": ""
             }
            },
            "type": "scattercarpet"
           }
          ],
          "scattergeo": [
           {
            "marker": {
             "colorbar": {
              "outlinewidth": 0,
              "ticks": ""
             }
            },
            "type": "scattergeo"
           }
          ],
          "scattergl": [
           {
            "marker": {
             "colorbar": {
              "outlinewidth": 0,
              "ticks": ""
             }
            },
            "type": "scattergl"
           }
          ],
          "scattermapbox": [
           {
            "marker": {
             "colorbar": {
              "outlinewidth": 0,
              "ticks": ""
             }
            },
            "type": "scattermapbox"
           }
          ],
          "scatterpolar": [
           {
            "marker": {
             "colorbar": {
              "outlinewidth": 0,
              "ticks": ""
             }
            },
            "type": "scatterpolar"
           }
          ],
          "scatterpolargl": [
           {
            "marker": {
             "colorbar": {
              "outlinewidth": 0,
              "ticks": ""
             }
            },
            "type": "scatterpolargl"
           }
          ],
          "scatterternary": [
           {
            "marker": {
             "colorbar": {
              "outlinewidth": 0,
              "ticks": ""
             }
            },
            "type": "scatterternary"
           }
          ],
          "surface": [
           {
            "colorbar": {
             "outlinewidth": 0,
             "ticks": ""
            },
            "colorscale": [
             [
              0,
              "#0d0887"
             ],
             [
              0.1111111111111111,
              "#46039f"
             ],
             [
              0.2222222222222222,
              "#7201a8"
             ],
             [
              0.3333333333333333,
              "#9c179e"
             ],
             [
              0.4444444444444444,
              "#bd3786"
             ],
             [
              0.5555555555555556,
              "#d8576b"
             ],
             [
              0.6666666666666666,
              "#ed7953"
             ],
             [
              0.7777777777777778,
              "#fb9f3a"
             ],
             [
              0.8888888888888888,
              "#fdca26"
             ],
             [
              1,
              "#f0f921"
             ]
            ],
            "type": "surface"
           }
          ],
          "table": [
           {
            "cells": {
             "fill": {
              "color": "#EBF0F8"
             },
             "line": {
              "color": "white"
             }
            },
            "header": {
             "fill": {
              "color": "#C8D4E3"
             },
             "line": {
              "color": "white"
             }
            },
            "type": "table"
           }
          ]
         },
         "layout": {
          "annotationdefaults": {
           "arrowcolor": "#2a3f5f",
           "arrowhead": 0,
           "arrowwidth": 1
          },
          "autotypenumbers": "strict",
          "coloraxis": {
           "colorbar": {
            "outlinewidth": 0,
            "ticks": ""
           }
          },
          "colorscale": {
           "diverging": [
            [
             0,
             "#8e0152"
            ],
            [
             0.1,
             "#c51b7d"
            ],
            [
             0.2,
             "#de77ae"
            ],
            [
             0.3,
             "#f1b6da"
            ],
            [
             0.4,
             "#fde0ef"
            ],
            [
             0.5,
             "#f7f7f7"
            ],
            [
             0.6,
             "#e6f5d0"
            ],
            [
             0.7,
             "#b8e186"
            ],
            [
             0.8,
             "#7fbc41"
            ],
            [
             0.9,
             "#4d9221"
            ],
            [
             1,
             "#276419"
            ]
           ],
           "sequential": [
            [
             0,
             "#0d0887"
            ],
            [
             0.1111111111111111,
             "#46039f"
            ],
            [
             0.2222222222222222,
             "#7201a8"
            ],
            [
             0.3333333333333333,
             "#9c179e"
            ],
            [
             0.4444444444444444,
             "#bd3786"
            ],
            [
             0.5555555555555556,
             "#d8576b"
            ],
            [
             0.6666666666666666,
             "#ed7953"
            ],
            [
             0.7777777777777778,
             "#fb9f3a"
            ],
            [
             0.8888888888888888,
             "#fdca26"
            ],
            [
             1,
             "#f0f921"
            ]
           ],
           "sequentialminus": [
            [
             0,
             "#0d0887"
            ],
            [
             0.1111111111111111,
             "#46039f"
            ],
            [
             0.2222222222222222,
             "#7201a8"
            ],
            [
             0.3333333333333333,
             "#9c179e"
            ],
            [
             0.4444444444444444,
             "#bd3786"
            ],
            [
             0.5555555555555556,
             "#d8576b"
            ],
            [
             0.6666666666666666,
             "#ed7953"
            ],
            [
             0.7777777777777778,
             "#fb9f3a"
            ],
            [
             0.8888888888888888,
             "#fdca26"
            ],
            [
             1,
             "#f0f921"
            ]
           ]
          },
          "colorway": [
           "#636efa",
           "#EF553B",
           "#00cc96",
           "#ab63fa",
           "#FFA15A",
           "#19d3f3",
           "#FF6692",
           "#B6E880",
           "#FF97FF",
           "#FECB52"
          ],
          "font": {
           "color": "#2a3f5f"
          },
          "geo": {
           "bgcolor": "white",
           "lakecolor": "white",
           "landcolor": "#E5ECF6",
           "showlakes": true,
           "showland": true,
           "subunitcolor": "white"
          },
          "hoverlabel": {
           "align": "left"
          },
          "hovermode": "closest",
          "mapbox": {
           "style": "light"
          },
          "paper_bgcolor": "white",
          "plot_bgcolor": "#E5ECF6",
          "polar": {
           "angularaxis": {
            "gridcolor": "white",
            "linecolor": "white",
            "ticks": ""
           },
           "bgcolor": "#E5ECF6",
           "radialaxis": {
            "gridcolor": "white",
            "linecolor": "white",
            "ticks": ""
           }
          },
          "scene": {
           "xaxis": {
            "backgroundcolor": "#E5ECF6",
            "gridcolor": "white",
            "gridwidth": 2,
            "linecolor": "white",
            "showbackground": true,
            "ticks": "",
            "zerolinecolor": "white"
           },
           "yaxis": {
            "backgroundcolor": "#E5ECF6",
            "gridcolor": "white",
            "gridwidth": 2,
            "linecolor": "white",
            "showbackground": true,
            "ticks": "",
            "zerolinecolor": "white"
           },
           "zaxis": {
            "backgroundcolor": "#E5ECF6",
            "gridcolor": "white",
            "gridwidth": 2,
            "linecolor": "white",
            "showbackground": true,
            "ticks": "",
            "zerolinecolor": "white"
           }
          },
          "shapedefaults": {
           "line": {
            "color": "#2a3f5f"
           }
          },
          "ternary": {
           "aaxis": {
            "gridcolor": "white",
            "linecolor": "white",
            "ticks": ""
           },
           "baxis": {
            "gridcolor": "white",
            "linecolor": "white",
            "ticks": ""
           },
           "bgcolor": "#E5ECF6",
           "caxis": {
            "gridcolor": "white",
            "linecolor": "white",
            "ticks": ""
           }
          },
          "title": {
           "x": 0.05
          },
          "xaxis": {
           "automargin": true,
           "gridcolor": "white",
           "linecolor": "white",
           "ticks": "",
           "title": {
            "standoff": 15
           },
           "zerolinecolor": "white",
           "zerolinewidth": 2
          },
          "yaxis": {
           "automargin": true,
           "gridcolor": "white",
           "linecolor": "white",
           "ticks": "",
           "title": {
            "standoff": 15
           },
           "zerolinecolor": "white",
           "zerolinewidth": 2
          }
         }
        }
       }
      }
     },
     "metadata": {},
     "output_type": "display_data"
    }
   ],
   "source": [
    "busan_co = df_co[df_co['구분(2)']=='부산광역시'].loc[2,'2021.07']\n",
    "co_pro = cal_norm(mean,std,min,max,busan_co)"
   ]
  },
  {
   "cell_type": "markdown",
   "metadata": {
    "collapsed": false
   },
   "source": [
    "### 미세먼지 월별 데이터 불러오기"
   ]
  },
  {
   "cell_type": "code",
   "execution_count": 715,
   "metadata": {
    "collapsed": false,
    "pycharm": {
     "name": "#%%\n"
    }
   },
   "outputs": [
    {
     "data": {
      "text/html": [
       "<div>\n",
       "<style scoped>\n",
       "    .dataframe tbody tr th:only-of-type {\n",
       "        vertical-align: middle;\n",
       "    }\n",
       "\n",
       "    .dataframe tbody tr th {\n",
       "        vertical-align: top;\n",
       "    }\n",
       "\n",
       "    .dataframe thead th {\n",
       "        text-align: right;\n",
       "    }\n",
       "</style>\n",
       "<table border=\"1\" class=\"dataframe\">\n",
       "  <thead>\n",
       "    <tr style=\"text-align: right;\">\n",
       "      <th></th>\n",
       "      <th>구분(1)</th>\n",
       "      <th>구분(2)</th>\n",
       "      <th>2021.02</th>\n",
       "      <th>2021.03</th>\n",
       "      <th>2021.04</th>\n",
       "      <th>2021.05</th>\n",
       "      <th>2021.06</th>\n",
       "      <th>2021.07</th>\n",
       "    </tr>\n",
       "  </thead>\n",
       "  <tbody>\n",
       "    <tr>\n",
       "      <th>0</th>\n",
       "      <td>총계</td>\n",
       "      <td>소계</td>\n",
       "      <td>25</td>\n",
       "      <td>27</td>\n",
       "      <td>17</td>\n",
       "      <td>19</td>\n",
       "      <td>19</td>\n",
       "      <td>12</td>\n",
       "    </tr>\n",
       "    <tr>\n",
       "      <th>1</th>\n",
       "      <td>서울특별시</td>\n",
       "      <td>서울특별시</td>\n",
       "      <td>29</td>\n",
       "      <td>32</td>\n",
       "      <td>19</td>\n",
       "      <td>20</td>\n",
       "      <td>19</td>\n",
       "      <td>15</td>\n",
       "    </tr>\n",
       "    <tr>\n",
       "      <th>2</th>\n",
       "      <td>부산광역시</td>\n",
       "      <td>부산광역시</td>\n",
       "      <td>21</td>\n",
       "      <td>21</td>\n",
       "      <td>15</td>\n",
       "      <td>16</td>\n",
       "      <td>15</td>\n",
       "      <td>9</td>\n",
       "    </tr>\n",
       "    <tr>\n",
       "      <th>3</th>\n",
       "      <td>대구광역시</td>\n",
       "      <td>대구광역시</td>\n",
       "      <td>24</td>\n",
       "      <td>23</td>\n",
       "      <td>17</td>\n",
       "      <td>18</td>\n",
       "      <td>20</td>\n",
       "      <td>10</td>\n",
       "    </tr>\n",
       "    <tr>\n",
       "      <th>4</th>\n",
       "      <td>인천광역시</td>\n",
       "      <td>인천광역시</td>\n",
       "      <td>28</td>\n",
       "      <td>33</td>\n",
       "      <td>19</td>\n",
       "      <td>20</td>\n",
       "      <td>23</td>\n",
       "      <td>19</td>\n",
       "    </tr>\n",
       "    <tr>\n",
       "      <th>...</th>\n",
       "      <td>...</td>\n",
       "      <td>...</td>\n",
       "      <td>...</td>\n",
       "      <td>...</td>\n",
       "      <td>...</td>\n",
       "      <td>...</td>\n",
       "      <td>...</td>\n",
       "      <td>...</td>\n",
       "    </tr>\n",
       "    <tr>\n",
       "      <th>167</th>\n",
       "      <td>경상남도</td>\n",
       "      <td>합천</td>\n",
       "      <td>18</td>\n",
       "      <td>17</td>\n",
       "      <td>14</td>\n",
       "      <td>15</td>\n",
       "      <td>18</td>\n",
       "      <td>11**</td>\n",
       "    </tr>\n",
       "    <tr>\n",
       "      <th>168</th>\n",
       "      <td>경상남도</td>\n",
       "      <td>도평균</td>\n",
       "      <td>19</td>\n",
       "      <td>19</td>\n",
       "      <td>15</td>\n",
       "      <td>15</td>\n",
       "      <td>16</td>\n",
       "      <td>12*</td>\n",
       "    </tr>\n",
       "    <tr>\n",
       "      <th>169</th>\n",
       "      <td>제주특별자치도</td>\n",
       "      <td>제주특별자치도</td>\n",
       "      <td>18</td>\n",
       "      <td>24</td>\n",
       "      <td>14</td>\n",
       "      <td>16</td>\n",
       "      <td>14</td>\n",
       "      <td>8</td>\n",
       "    </tr>\n",
       "    <tr>\n",
       "      <th>170</th>\n",
       "      <td>제주특별자치도</td>\n",
       "      <td>서귀포</td>\n",
       "      <td>16</td>\n",
       "      <td>23</td>\n",
       "      <td>14</td>\n",
       "      <td>16</td>\n",
       "      <td>12</td>\n",
       "      <td>8</td>\n",
       "    </tr>\n",
       "    <tr>\n",
       "      <th>171</th>\n",
       "      <td>제주특별자치도</td>\n",
       "      <td>도평균</td>\n",
       "      <td>17</td>\n",
       "      <td>23</td>\n",
       "      <td>14</td>\n",
       "      <td>16</td>\n",
       "      <td>13</td>\n",
       "      <td>8</td>\n",
       "    </tr>\n",
       "  </tbody>\n",
       "</table>\n",
       "<p>172 rows × 8 columns</p>\n",
       "</div>"
      ],
      "text/plain": [
       "       구분(1)    구분(2) 2021.02 2021.03 2021.04 2021.05 2021.06 2021.07\n",
       "0         총계       소계      25      27      17      19      19      12\n",
       "1      서울특별시    서울특별시      29      32      19      20      19      15\n",
       "2      부산광역시    부산광역시      21      21      15      16      15       9\n",
       "3      대구광역시    대구광역시      24      23      17      18      20      10\n",
       "4      인천광역시    인천광역시      28      33      19      20      23      19\n",
       "..       ...      ...     ...     ...     ...     ...     ...     ...\n",
       "167     경상남도       합천      18      17      14      15      18    11**\n",
       "168     경상남도      도평균      19      19      15      15      16     12*\n",
       "169  제주특별자치도  제주특별자치도      18      24      14      16      14       8\n",
       "170  제주특별자치도      서귀포      16      23      14      16      12       8\n",
       "171  제주특별자치도      도평균      17      23      14      16      13       8\n",
       "\n",
       "[172 rows x 8 columns]"
      ]
     },
     "execution_count": 715,
     "metadata": {},
     "output_type": "execute_result"
    }
   ],
   "source": [
    "pm25_file_path = 'C:\\\\Users\\\\SAMSUNG\\\\Desktop\\\\Green-Car-Charging-Station-Site-Selection\\\\Data\\\\미세먼지_PM2.5__월별_도시별_대기오염도.csv'\n",
    "df_pm25 = pd.read_csv(pm25_file_path, encoding='cp949')\n",
    "df_pm25"
   ]
  },
  {
   "cell_type": "code",
   "execution_count": 716,
   "metadata": {
    "collapsed": false,
    "pycharm": {
     "name": "#%%\n"
    }
   },
   "outputs": [
    {
     "name": "stdout",
     "output_type": "stream",
     "text": [
      "<class 'pandas.core.frame.DataFrame'>\n",
      "RangeIndex: 172 entries, 0 to 171\n",
      "Data columns (total 8 columns):\n",
      " #   Column   Non-Null Count  Dtype \n",
      "---  ------   --------------  ----- \n",
      " 0   구분(1)    172 non-null    object\n",
      " 1   구분(2)    172 non-null    object\n",
      " 2   2021.02  172 non-null    object\n",
      " 3   2021.03  172 non-null    object\n",
      " 4   2021.04  172 non-null    object\n",
      " 5   2021.05  172 non-null    object\n",
      " 6   2021.06  172 non-null    object\n",
      " 7   2021.07  172 non-null    object\n",
      "dtypes: object(8)\n",
      "memory usage: 10.9+ KB\n"
     ]
    }
   ],
   "source": [
    "df_pm25.info()"
   ]
  },
  {
   "cell_type": "code",
   "execution_count": 717,
   "metadata": {
    "collapsed": false,
    "pycharm": {
     "name": "#%%\n"
    }
   },
   "outputs": [],
   "source": [
    "pm25_col = df_pm25.iloc[:,2:-1].columns.tolist()"
   ]
  },
  {
   "cell_type": "code",
   "execution_count": 718,
   "metadata": {
    "collapsed": false,
    "pycharm": {
     "name": "#%%\n"
    }
   },
   "outputs": [],
   "source": [
    "df_pm25.drop(columns=pm25_col, inplace=True)"
   ]
  },
  {
   "cell_type": "code",
   "execution_count": 719,
   "metadata": {
    "collapsed": false,
    "pycharm": {
     "name": "#%%\n"
    }
   },
   "outputs": [],
   "source": [
    "advanced_replace(df_pm25, '2021.07','-',r'[^0-9.0-9]')\n",
    "df_pm25['2021.07'] = df_pm25['2021.07'].astype(float)"
   ]
  },
  {
   "cell_type": "code",
   "execution_count": 720,
   "metadata": {
    "collapsed": false,
    "pycharm": {
     "name": "#%%\n"
    }
   },
   "outputs": [
    {
     "name": "stdout",
     "output_type": "stream",
     "text": [
      "<class 'pandas.core.frame.DataFrame'>\n",
      "RangeIndex: 172 entries, 0 to 171\n",
      "Data columns (total 3 columns):\n",
      " #   Column   Non-Null Count  Dtype  \n",
      "---  ------   --------------  -----  \n",
      " 0   구분(1)    172 non-null    object \n",
      " 1   구분(2)    172 non-null    object \n",
      " 2   2021.07  172 non-null    float64\n",
      "dtypes: float64(1), object(2)\n",
      "memory usage: 4.2+ KB\n"
     ]
    }
   ],
   "source": [
    "df_pm25.info()"
   ]
  },
  {
   "cell_type": "code",
   "execution_count": 721,
   "metadata": {
    "collapsed": false,
    "pycharm": {
     "name": "#%%\n"
    }
   },
   "outputs": [
    {
     "data": {
      "text/html": [
       "<div>\n",
       "<style scoped>\n",
       "    .dataframe tbody tr th:only-of-type {\n",
       "        vertical-align: middle;\n",
       "    }\n",
       "\n",
       "    .dataframe tbody tr th {\n",
       "        vertical-align: top;\n",
       "    }\n",
       "\n",
       "    .dataframe thead th {\n",
       "        text-align: right;\n",
       "    }\n",
       "</style>\n",
       "<table border=\"1\" class=\"dataframe\">\n",
       "  <thead>\n",
       "    <tr style=\"text-align: right;\">\n",
       "      <th></th>\n",
       "      <th>2021.07</th>\n",
       "    </tr>\n",
       "  </thead>\n",
       "  <tbody>\n",
       "    <tr>\n",
       "      <th>count</th>\n",
       "      <td>172.000000</td>\n",
       "    </tr>\n",
       "    <tr>\n",
       "      <th>mean</th>\n",
       "      <td>11.558140</td>\n",
       "    </tr>\n",
       "    <tr>\n",
       "      <th>std</th>\n",
       "      <td>2.888188</td>\n",
       "    </tr>\n",
       "    <tr>\n",
       "      <th>min</th>\n",
       "      <td>0.000000</td>\n",
       "    </tr>\n",
       "    <tr>\n",
       "      <th>25%</th>\n",
       "      <td>10.000000</td>\n",
       "    </tr>\n",
       "    <tr>\n",
       "      <th>50%</th>\n",
       "      <td>11.000000</td>\n",
       "    </tr>\n",
       "    <tr>\n",
       "      <th>75%</th>\n",
       "      <td>13.000000</td>\n",
       "    </tr>\n",
       "    <tr>\n",
       "      <th>max</th>\n",
       "      <td>19.000000</td>\n",
       "    </tr>\n",
       "  </tbody>\n",
       "</table>\n",
       "</div>"
      ],
      "text/plain": [
       "          2021.07\n",
       "count  172.000000\n",
       "mean    11.558140\n",
       "std      2.888188\n",
       "min      0.000000\n",
       "25%     10.000000\n",
       "50%     11.000000\n",
       "75%     13.000000\n",
       "max     19.000000"
      ]
     },
     "execution_count": 721,
     "metadata": {},
     "output_type": "execute_result"
    }
   ],
   "source": [
    "df_pm25.describe()"
   ]
  },
  {
   "cell_type": "code",
   "execution_count": 722,
   "metadata": {},
   "outputs": [
    {
     "data": {
      "application/vnd.plotly.v1+json": {
       "config": {
        "plotlyServerURL": "https://plot.ly"
       },
       "data": [
        {
         "hovertemplate": "x=%{x}<br>y=%{y}<extra></extra>",
         "legendgroup": "",
         "line": {
          "color": "#636efa",
          "dash": "solid"
         },
         "mode": "lines",
         "name": "",
         "orientation": "v",
         "showlegend": false,
         "type": "scatter",
         "x": [
          -2.8881878863685206,
          -2.667095079435505,
          -2.44600227250249,
          -2.2249094655694748,
          -2.003816658636459,
          -1.7827238517034438,
          -1.5616310447704285,
          -1.340538237837413,
          -1.1194454309043977,
          -0.8983526239713824,
          -0.677259817038367,
          -0.45616701010535143,
          -0.2350742031723363,
          -0.013981396239321153,
          0.20711141069369443,
          0.42820421762671,
          0.6492970245597252,
          0.8703898314927403,
          1.0914826384257559,
          1.3125754453587715,
          1.5336682522917866,
          1.7547610592248017,
          1.9758538661578178,
          2.196946673090833,
          2.418039480023848,
          2.639132286956863,
          2.8602250938898783,
          3.0813179008228944,
          3.3024107077559095,
          3.5235035146889246,
          3.7445963216219407,
          3.965689128554956,
          4.186781935487971,
          4.4078747424209865,
          4.628967549354002,
          4.850060356287017,
          5.071153163220032,
          5.292245970153049,
          5.513338777086064,
          5.734431584019079,
          5.955524390952094,
          6.176617197885109,
          6.397710004818125,
          6.61880281175114,
          6.839895618684157,
          7.060988425617172,
          7.282081232550187,
          7.503174039483202,
          7.724266846416217,
          7.945359653349232,
          8.166452460282247,
          8.387545267215263,
          8.608638074148278,
          8.829730881081295,
          9.05082368801431,
          9.271916494947325,
          9.49300930188034,
          9.714102108813355,
          9.93519491574637,
          10.156287722679386,
          10.377380529612402,
          10.598473336545418,
          10.819566143478433,
          11.040658950411448,
          11.261751757344463,
          11.482844564277478,
          11.703937371210493,
          11.925030178143508,
          12.146122985076524,
          12.36721579200954,
          12.588308598942556,
          12.80940140587557,
          13.030494212808586,
          13.251587019741603,
          13.472679826674618,
          13.693772633607633,
          13.914865440540648,
          14.135958247473663,
          14.357051054406679,
          14.578143861339694,
          14.799236668272709,
          15.020329475205724,
          15.241422282138739,
          15.462515089071754,
          15.68360789600477,
          15.904700702937784,
          16.1257935098708,
          16.346886316803815,
          16.567979123736833,
          16.78907193066985,
          17.010164737602864,
          17.23125754453588,
          17.452350351468894,
          17.67344315840191,
          17.894535965334924,
          18.11562877226794,
          18.336721579200955,
          18.55781438613397,
          18.778907193066985,
          19
         ],
         "xaxis": "x",
         "y": [
          5.099785456332414e-7,
          7.457086424463244e-7,
          0.0000010840304382083028,
          0.0000015666385440642002,
          0.0000022508739130914707,
          0.0000032150561230326194,
          0.000004565422546091181,
          0.000006445081745168948,
          0.000009045465278521702,
          0.000012620844674049163,
          0.000017506565898699487,
          0.000024141738089893073,
          0.000033097190922716423,
          0.00004510957822736583,
          0.00006112254484245643,
          0.00008233587766646192,
          0.0001102635170029353,
          0.0001468011955042432,
          0.00019430428312234584,
          0.00025567613100648917,
          0.00033446680961685604,
          0.00043498161310161725,
          0.0005623980438907219,
          0.0007228891951953486,
          0.000923750519549566,
          0.001173525923932179,
          0.0014821279939848423,
          0.0018609459630433357,
          0.0023229338628015985,
          0.0028826701932553453,
          0.003556379516039075,
          0.004361905704946282,
          0.00531862628554522,
          0.0064472974696788985,
          0.007769820242509728,
          0.00930891927835561,
          0.0110877286126903,
          0.013129280914560766,
          0.015455900877575004,
          0.018088507619771807,
          0.021045835938382336,
          0.02434359163124229,
          0.027993561641242344,
          0.03200270522053179,
          0.0363722573226002,
          0.041096879662297116,
          0.046163897979762565,
          0.05155266566509417,
          0.05723409375055489,
          0.0631703851297719,
          0.06931500658616471,
          0.07561292578795373,
          0.08200113194633213,
          0.08840944858523118,
          0.09476163521865401,
          0.1009767621802801,
          0.10697083000559084,
          0.1126585923033977,
          0.11795552967509565,
          0.12277991263511112,
          0.12705488428251138,
          0.13071048919294212,
          0.13368557401692804,
          0.13592948778188735,
          0.13740351589899039,
          0.13808199116409606,
          0.1379530372071293,
          0.13701891430112298,
          0.13529595346163473,
          0.13281408152126492,
          0.12961595647766863,
          0.12575574802084288,
          0.12129761194466167,
          0.11631391845096044,
          0.11088330263027901,
          0.10508861030622466,
          0.09901481381786223,
          0.09274697024942857,
          0.08636828935542717,
          0.07995837039734904,
          0.07359165686578842,
          0.06733614626078978,
          0.06125237944250103,
          0.055392721242577034,
          0.04980093170058036,
          0.04451201603557497,
          0.03955233174959782,
          0.034939923427722515,
          0.030685050053669272,
          0.02679086606965476,
          0.02325421591807437,
          0.02006650224571374,
          0.017214590077126824,
          0.014681712760147316,
          0.012448350005874699,
          0.010493053530853799,
          0.00879320131629486,
          0.007325667015203983,
          0.006067396295703869,
          0.004995886694459349
         ],
         "yaxis": "y"
        }
       ],
       "layout": {
        "legend": {
         "tracegroupgap": 0
        },
        "margin": {
         "t": 60
        },
        "template": {
         "data": {
          "bar": [
           {
            "error_x": {
             "color": "#2a3f5f"
            },
            "error_y": {
             "color": "#2a3f5f"
            },
            "marker": {
             "line": {
              "color": "#E5ECF6",
              "width": 0.5
             },
             "pattern": {
              "fillmode": "overlay",
              "size": 10,
              "solidity": 0.2
             }
            },
            "type": "bar"
           }
          ],
          "barpolar": [
           {
            "marker": {
             "line": {
              "color": "#E5ECF6",
              "width": 0.5
             },
             "pattern": {
              "fillmode": "overlay",
              "size": 10,
              "solidity": 0.2
             }
            },
            "type": "barpolar"
           }
          ],
          "carpet": [
           {
            "aaxis": {
             "endlinecolor": "#2a3f5f",
             "gridcolor": "white",
             "linecolor": "white",
             "minorgridcolor": "white",
             "startlinecolor": "#2a3f5f"
            },
            "baxis": {
             "endlinecolor": "#2a3f5f",
             "gridcolor": "white",
             "linecolor": "white",
             "minorgridcolor": "white",
             "startlinecolor": "#2a3f5f"
            },
            "type": "carpet"
           }
          ],
          "choropleth": [
           {
            "colorbar": {
             "outlinewidth": 0,
             "ticks": ""
            },
            "type": "choropleth"
           }
          ],
          "contour": [
           {
            "colorbar": {
             "outlinewidth": 0,
             "ticks": ""
            },
            "colorscale": [
             [
              0,
              "#0d0887"
             ],
             [
              0.1111111111111111,
              "#46039f"
             ],
             [
              0.2222222222222222,
              "#7201a8"
             ],
             [
              0.3333333333333333,
              "#9c179e"
             ],
             [
              0.4444444444444444,
              "#bd3786"
             ],
             [
              0.5555555555555556,
              "#d8576b"
             ],
             [
              0.6666666666666666,
              "#ed7953"
             ],
             [
              0.7777777777777778,
              "#fb9f3a"
             ],
             [
              0.8888888888888888,
              "#fdca26"
             ],
             [
              1,
              "#f0f921"
             ]
            ],
            "type": "contour"
           }
          ],
          "contourcarpet": [
           {
            "colorbar": {
             "outlinewidth": 0,
             "ticks": ""
            },
            "type": "contourcarpet"
           }
          ],
          "heatmap": [
           {
            "colorbar": {
             "outlinewidth": 0,
             "ticks": ""
            },
            "colorscale": [
             [
              0,
              "#0d0887"
             ],
             [
              0.1111111111111111,
              "#46039f"
             ],
             [
              0.2222222222222222,
              "#7201a8"
             ],
             [
              0.3333333333333333,
              "#9c179e"
             ],
             [
              0.4444444444444444,
              "#bd3786"
             ],
             [
              0.5555555555555556,
              "#d8576b"
             ],
             [
              0.6666666666666666,
              "#ed7953"
             ],
             [
              0.7777777777777778,
              "#fb9f3a"
             ],
             [
              0.8888888888888888,
              "#fdca26"
             ],
             [
              1,
              "#f0f921"
             ]
            ],
            "type": "heatmap"
           }
          ],
          "heatmapgl": [
           {
            "colorbar": {
             "outlinewidth": 0,
             "ticks": ""
            },
            "colorscale": [
             [
              0,
              "#0d0887"
             ],
             [
              0.1111111111111111,
              "#46039f"
             ],
             [
              0.2222222222222222,
              "#7201a8"
             ],
             [
              0.3333333333333333,
              "#9c179e"
             ],
             [
              0.4444444444444444,
              "#bd3786"
             ],
             [
              0.5555555555555556,
              "#d8576b"
             ],
             [
              0.6666666666666666,
              "#ed7953"
             ],
             [
              0.7777777777777778,
              "#fb9f3a"
             ],
             [
              0.8888888888888888,
              "#fdca26"
             ],
             [
              1,
              "#f0f921"
             ]
            ],
            "type": "heatmapgl"
           }
          ],
          "histogram": [
           {
            "marker": {
             "pattern": {
              "fillmode": "overlay",
              "size": 10,
              "solidity": 0.2
             }
            },
            "type": "histogram"
           }
          ],
          "histogram2d": [
           {
            "colorbar": {
             "outlinewidth": 0,
             "ticks": ""
            },
            "colorscale": [
             [
              0,
              "#0d0887"
             ],
             [
              0.1111111111111111,
              "#46039f"
             ],
             [
              0.2222222222222222,
              "#7201a8"
             ],
             [
              0.3333333333333333,
              "#9c179e"
             ],
             [
              0.4444444444444444,
              "#bd3786"
             ],
             [
              0.5555555555555556,
              "#d8576b"
             ],
             [
              0.6666666666666666,
              "#ed7953"
             ],
             [
              0.7777777777777778,
              "#fb9f3a"
             ],
             [
              0.8888888888888888,
              "#fdca26"
             ],
             [
              1,
              "#f0f921"
             ]
            ],
            "type": "histogram2d"
           }
          ],
          "histogram2dcontour": [
           {
            "colorbar": {
             "outlinewidth": 0,
             "ticks": ""
            },
            "colorscale": [
             [
              0,
              "#0d0887"
             ],
             [
              0.1111111111111111,
              "#46039f"
             ],
             [
              0.2222222222222222,
              "#7201a8"
             ],
             [
              0.3333333333333333,
              "#9c179e"
             ],
             [
              0.4444444444444444,
              "#bd3786"
             ],
             [
              0.5555555555555556,
              "#d8576b"
             ],
             [
              0.6666666666666666,
              "#ed7953"
             ],
             [
              0.7777777777777778,
              "#fb9f3a"
             ],
             [
              0.8888888888888888,
              "#fdca26"
             ],
             [
              1,
              "#f0f921"
             ]
            ],
            "type": "histogram2dcontour"
           }
          ],
          "mesh3d": [
           {
            "colorbar": {
             "outlinewidth": 0,
             "ticks": ""
            },
            "type": "mesh3d"
           }
          ],
          "parcoords": [
           {
            "line": {
             "colorbar": {
              "outlinewidth": 0,
              "ticks": ""
             }
            },
            "type": "parcoords"
           }
          ],
          "pie": [
           {
            "automargin": true,
            "type": "pie"
           }
          ],
          "scatter": [
           {
            "marker": {
             "colorbar": {
              "outlinewidth": 0,
              "ticks": ""
             }
            },
            "type": "scatter"
           }
          ],
          "scatter3d": [
           {
            "line": {
             "colorbar": {
              "outlinewidth": 0,
              "ticks": ""
             }
            },
            "marker": {
             "colorbar": {
              "outlinewidth": 0,
              "ticks": ""
             }
            },
            "type": "scatter3d"
           }
          ],
          "scattercarpet": [
           {
            "marker": {
             "colorbar": {
              "outlinewidth": 0,
              "ticks": ""
             }
            },
            "type": "scattercarpet"
           }
          ],
          "scattergeo": [
           {
            "marker": {
             "colorbar": {
              "outlinewidth": 0,
              "ticks": ""
             }
            },
            "type": "scattergeo"
           }
          ],
          "scattergl": [
           {
            "marker": {
             "colorbar": {
              "outlinewidth": 0,
              "ticks": ""
             }
            },
            "type": "scattergl"
           }
          ],
          "scattermapbox": [
           {
            "marker": {
             "colorbar": {
              "outlinewidth": 0,
              "ticks": ""
             }
            },
            "type": "scattermapbox"
           }
          ],
          "scatterpolar": [
           {
            "marker": {
             "colorbar": {
              "outlinewidth": 0,
              "ticks": ""
             }
            },
            "type": "scatterpolar"
           }
          ],
          "scatterpolargl": [
           {
            "marker": {
             "colorbar": {
              "outlinewidth": 0,
              "ticks": ""
             }
            },
            "type": "scatterpolargl"
           }
          ],
          "scatterternary": [
           {
            "marker": {
             "colorbar": {
              "outlinewidth": 0,
              "ticks": ""
             }
            },
            "type": "scatterternary"
           }
          ],
          "surface": [
           {
            "colorbar": {
             "outlinewidth": 0,
             "ticks": ""
            },
            "colorscale": [
             [
              0,
              "#0d0887"
             ],
             [
              0.1111111111111111,
              "#46039f"
             ],
             [
              0.2222222222222222,
              "#7201a8"
             ],
             [
              0.3333333333333333,
              "#9c179e"
             ],
             [
              0.4444444444444444,
              "#bd3786"
             ],
             [
              0.5555555555555556,
              "#d8576b"
             ],
             [
              0.6666666666666666,
              "#ed7953"
             ],
             [
              0.7777777777777778,
              "#fb9f3a"
             ],
             [
              0.8888888888888888,
              "#fdca26"
             ],
             [
              1,
              "#f0f921"
             ]
            ],
            "type": "surface"
           }
          ],
          "table": [
           {
            "cells": {
             "fill": {
              "color": "#EBF0F8"
             },
             "line": {
              "color": "white"
             }
            },
            "header": {
             "fill": {
              "color": "#C8D4E3"
             },
             "line": {
              "color": "white"
             }
            },
            "type": "table"
           }
          ]
         },
         "layout": {
          "annotationdefaults": {
           "arrowcolor": "#2a3f5f",
           "arrowhead": 0,
           "arrowwidth": 1
          },
          "autotypenumbers": "strict",
          "coloraxis": {
           "colorbar": {
            "outlinewidth": 0,
            "ticks": ""
           }
          },
          "colorscale": {
           "diverging": [
            [
             0,
             "#8e0152"
            ],
            [
             0.1,
             "#c51b7d"
            ],
            [
             0.2,
             "#de77ae"
            ],
            [
             0.3,
             "#f1b6da"
            ],
            [
             0.4,
             "#fde0ef"
            ],
            [
             0.5,
             "#f7f7f7"
            ],
            [
             0.6,
             "#e6f5d0"
            ],
            [
             0.7,
             "#b8e186"
            ],
            [
             0.8,
             "#7fbc41"
            ],
            [
             0.9,
             "#4d9221"
            ],
            [
             1,
             "#276419"
            ]
           ],
           "sequential": [
            [
             0,
             "#0d0887"
            ],
            [
             0.1111111111111111,
             "#46039f"
            ],
            [
             0.2222222222222222,
             "#7201a8"
            ],
            [
             0.3333333333333333,
             "#9c179e"
            ],
            [
             0.4444444444444444,
             "#bd3786"
            ],
            [
             0.5555555555555556,
             "#d8576b"
            ],
            [
             0.6666666666666666,
             "#ed7953"
            ],
            [
             0.7777777777777778,
             "#fb9f3a"
            ],
            [
             0.8888888888888888,
             "#fdca26"
            ],
            [
             1,
             "#f0f921"
            ]
           ],
           "sequentialminus": [
            [
             0,
             "#0d0887"
            ],
            [
             0.1111111111111111,
             "#46039f"
            ],
            [
             0.2222222222222222,
             "#7201a8"
            ],
            [
             0.3333333333333333,
             "#9c179e"
            ],
            [
             0.4444444444444444,
             "#bd3786"
            ],
            [
             0.5555555555555556,
             "#d8576b"
            ],
            [
             0.6666666666666666,
             "#ed7953"
            ],
            [
             0.7777777777777778,
             "#fb9f3a"
            ],
            [
             0.8888888888888888,
             "#fdca26"
            ],
            [
             1,
             "#f0f921"
            ]
           ]
          },
          "colorway": [
           "#636efa",
           "#EF553B",
           "#00cc96",
           "#ab63fa",
           "#FFA15A",
           "#19d3f3",
           "#FF6692",
           "#B6E880",
           "#FF97FF",
           "#FECB52"
          ],
          "font": {
           "color": "#2a3f5f"
          },
          "geo": {
           "bgcolor": "white",
           "lakecolor": "white",
           "landcolor": "#E5ECF6",
           "showlakes": true,
           "showland": true,
           "subunitcolor": "white"
          },
          "hoverlabel": {
           "align": "left"
          },
          "hovermode": "closest",
          "mapbox": {
           "style": "light"
          },
          "paper_bgcolor": "white",
          "plot_bgcolor": "#E5ECF6",
          "polar": {
           "angularaxis": {
            "gridcolor": "white",
            "linecolor": "white",
            "ticks": ""
           },
           "bgcolor": "#E5ECF6",
           "radialaxis": {
            "gridcolor": "white",
            "linecolor": "white",
            "ticks": ""
           }
          },
          "scene": {
           "xaxis": {
            "backgroundcolor": "#E5ECF6",
            "gridcolor": "white",
            "gridwidth": 2,
            "linecolor": "white",
            "showbackground": true,
            "ticks": "",
            "zerolinecolor": "white"
           },
           "yaxis": {
            "backgroundcolor": "#E5ECF6",
            "gridcolor": "white",
            "gridwidth": 2,
            "linecolor": "white",
            "showbackground": true,
            "ticks": "",
            "zerolinecolor": "white"
           },
           "zaxis": {
            "backgroundcolor": "#E5ECF6",
            "gridcolor": "white",
            "gridwidth": 2,
            "linecolor": "white",
            "showbackground": true,
            "ticks": "",
            "zerolinecolor": "white"
           }
          },
          "shapedefaults": {
           "line": {
            "color": "#2a3f5f"
           }
          },
          "ternary": {
           "aaxis": {
            "gridcolor": "white",
            "linecolor": "white",
            "ticks": ""
           },
           "baxis": {
            "gridcolor": "white",
            "linecolor": "white",
            "ticks": ""
           },
           "bgcolor": "#E5ECF6",
           "caxis": {
            "gridcolor": "white",
            "linecolor": "white",
            "ticks": ""
           }
          },
          "title": {
           "x": 0.05
          },
          "xaxis": {
           "automargin": true,
           "gridcolor": "white",
           "linecolor": "white",
           "ticks": "",
           "title": {
            "standoff": 15
           },
           "zerolinecolor": "white",
           "zerolinewidth": 2
          },
          "yaxis": {
           "automargin": true,
           "gridcolor": "white",
           "linecolor": "white",
           "ticks": "",
           "title": {
            "standoff": 15
           },
           "zerolinecolor": "white",
           "zerolinewidth": 2
          }
         }
        },
        "xaxis": {
         "anchor": "y",
         "domain": [
          0,
          1
         ],
         "title": {
          "text": "x"
         }
        },
        "yaxis": {
         "anchor": "x",
         "domain": [
          0,
          1
         ],
         "title": {
          "text": "y"
         }
        }
       }
      }
     },
     "metadata": {},
     "output_type": "display_data"
    }
   ],
   "source": [
    "mean = df_pm25.iloc[:,2].mean()\n",
    "std = df_pm25.iloc[:,2].std()\n",
    "min = df_pm25.iloc[:,2].min()\n",
    "max = df_pm25.iloc[:,2].max()\n",
    "show_norm(mean,std,min,max)"
   ]
  },
  {
   "cell_type": "code",
   "execution_count": 723,
   "metadata": {},
   "outputs": [
    {
     "data": {
      "application/vnd.plotly.v1+json": {
       "config": {
        "plotlyServerURL": "https://plot.ly"
       },
       "data": [
        {
         "fill": "tozeroy",
         "line": {
          "color": "rgb(100,110,250)"
         },
         "name": "적합",
         "text": "0.18788293015230972",
         "type": "scatter",
         "x": [
          -2.8881878863685206,
          -2.7681051804456063,
          -2.648022474522692,
          -2.5279397685997775,
          -2.407857062676863,
          -2.287774356753949,
          -2.167691650831035,
          -2.04760894490812,
          -1.927526238985206,
          -1.8074435330622916,
          -1.6873608271393772,
          -1.5672781212164628,
          -1.4471954152935487,
          -1.3271127093706343,
          -1.20703000344772,
          -1.0869472975248056,
          -0.9668645916018912,
          -0.8467818856789768,
          -0.7266991797560625,
          -0.6066164738331481,
          -0.4865337679102337,
          -0.36645106198731936,
          -0.246368356064405,
          -0.12628565014149062,
          -0.0062029442185767,
          0.11387976170433767,
          0.23396246762725204,
          0.3540451735501664,
          0.47412787947308077,
          0.5942105853959951,
          0.7142932913189095,
          0.8343759972418239,
          0.9544587031647382,
          1.0745414090876526,
          1.194624115010567,
          1.314706820933481,
          1.4347895268563957,
          1.5548722327793096,
          1.6749549387022244,
          1.7950376446251384,
          1.9151203505480532,
          2.035203056470967,
          2.155285762393882,
          2.275368468316796,
          2.3954511742397107,
          2.5155338801626246,
          2.6356165860855394,
          2.7556992920084533,
          2.8757819979313672,
          2.995864703854282,
          3.115947409777196,
          3.236030115700111,
          3.3561128216230247,
          3.4761955275459395,
          3.5962782334688534,
          3.7163609393917683,
          3.836443645314682,
          3.956526351237597,
          4.0766090571605105,
          4.196691763083425,
          4.31677446900634,
          4.436857174929255,
          4.556939880852168,
          4.677022586775083,
          4.797105292697998,
          4.917187998620911,
          5.037270704543825,
          5.15735341046674,
          5.277436116389655,
          5.39751882231257,
          5.517601528235483,
          5.637684234158398,
          5.7577669400813125,
          5.877849646004227,
          5.99793235192714,
          6.118015057850055,
          6.23809776377297,
          6.358180469695885,
          6.478263175618798,
          6.598345881541713,
          6.7184285874646275,
          6.8385112933875405,
          6.958593999310455,
          7.07867670523337,
          7.198759411156285,
          7.318842117079198,
          7.438924823002113,
          7.559007528925028,
          7.679090234847942,
          7.799172940770855,
          7.91925564669377,
          8.039338352616685,
          8.1594210585396,
          8.279503764462513,
          8.399586470385428,
          8.519669176308343,
          8.639751882231256,
          8.75983458815417,
          8.879917294077085,
          9
         ],
         "y": [
          5.099785456332414e-7,
          6.273269065908844e-7,
          7.703448367025075e-7,
          9.443341351182754e-7,
          0.0000011556210731484293,
          0.0000014117391826403309,
          0.0000017216415536874115,
          0.000002095946802627501,
          0.0000025472233465812125,
          0.000003090317130476636,
          0.0000037427284954314437,
          0.000004525044451454272,
          0.000005461433219579918,
          0.00000658020853446054,
          0.000007914471842423358,
          0.000009502841184863029,
          0.000011390276213633401,
          0.00001362900943304,
          0.000016279594389253943,
          0.000019412082117441055,
          0.000023107337692260024,
          0.000027458509188861,
          0.000032572661726844455,
          0.000038572589514043066,
          0.00004559881890322317,
          0.00005381181539320362,
          0.00006339440721461071,
          0.00007455443760563819,
          0.00008752765706927104,
          0.00010258086577371174,
          0.00012001531477477449,
          0.0001401703728653609,
          0.00016342746355599763,
          0.0001902142739267115,
          0.0002210092338316964,
          0.00025634626015543795,
          0.00029681975648839756,
          0.0003430898536942846,
          0.0003958878713694995,
          0.00045602197414743126,
          0.0005243829901857852,
          0.0006019503520154646,
          0.000689798112260157,
          0.0007891009786064294,
          0.000901140303881167,
          0.0010273099582597588,
          0.001169122001585891,
          0.0013282120646521676,
          0.0015063443392088506,
          0.0017054160675932955,
          0.001927461414381313,
          0.0021746545945463057,
          0.0024493121254814906,
          0.002753894064117146,
          0.0030910040854812155,
          0.0034633882556487326,
          0.0038739323503474976,
          0.004325657570777693,
          0.004821714510699606,
          0.005365375233772641,
          0.005960023327699667,
          0.0066091418121300635,
          0.007316298790657364,
          0.008085130753734512,
          0.0089193234589962,
          0.009822590338353188,
          0.01079864840727717,
          0.01185119168084117,
          0.012983862133162929,
          0.014200218271696765,
          0.015503701435036292,
          0.016897599962160042,
          0.018385011421933946,
          0.019968803133666016,
          0.021651571252012447,
          0.02343559873191681,
          0.025322812530829155,
          0.02731474044545703,
          0.02941246801796271,
          0.03161659598104205,
          0.03392719874188173,
          0.036343784430792295,
          0.038865257060563235,
          0.04148988135653906,
          0.044215250824385835,
          0.04703825962188235,
          0.049955078792314485,
          0.05296113739975424,
          0.05605110908037826,
          0.05921890448887106,
          0.06245767007486283,
          0.0657597935714259,
          0.0691169165162246,
          0.07251995405646591,
          0.07595912221200188,
          0.07942397268761298,
          0.08290343523664467,
          0.08638586748491124,
          0.08985911202739139,
          0.09331056051210472
         ]
        },
        {
         "fill": "tozeroy",
         "line": {
          "color": "rgb(239,85,59)"
         },
         "name": "부적합",
         "text": "0.18788293015230972",
         "type": "scatter",
         "x": [
          9,
          9.1010101010101,
          9.202020202020202,
          9.303030303030303,
          9.404040404040405,
          9.505050505050505,
          9.606060606060606,
          9.707070707070708,
          9.808080808080808,
          9.909090909090908,
          10.01010101010101,
          10.11111111111111,
          10.212121212121213,
          10.313131313131313,
          10.414141414141413,
          10.515151515151516,
          10.616161616161616,
          10.717171717171716,
          10.818181818181818,
          10.919191919191919,
          11.02020202020202,
          11.121212121212121,
          11.222222222222221,
          11.323232323232324,
          11.424242424242424,
          11.525252525252526,
          11.626262626262626,
          11.727272727272727,
          11.828282828282829,
          11.929292929292929,
          12.030303030303031,
          12.131313131313131,
          12.232323232323232,
          12.333333333333334,
          12.434343434343434,
          12.535353535353536,
          12.636363636363637,
          12.737373737373737,
          12.838383838383837,
          12.93939393939394,
          13.040404040404042,
          13.141414141414142,
          13.242424242424242,
          13.343434343434343,
          13.444444444444445,
          13.545454545454545,
          13.646464646464647,
          13.747474747474747,
          13.848484848484848,
          13.94949494949495,
          14.05050505050505,
          14.151515151515152,
          14.252525252525253,
          14.353535353535353,
          14.454545454545453,
          14.555555555555555,
          14.656565656565657,
          14.757575757575758,
          14.858585858585858,
          14.959595959595958,
          15.06060606060606,
          15.161616161616163,
          15.262626262626263,
          15.363636363636363,
          15.464646464646464,
          15.565656565656566,
          15.666666666666668,
          15.767676767676768,
          15.868686868686869,
          15.969696969696969,
          16.070707070707073,
          16.17171717171717,
          16.272727272727273,
          16.373737373737374,
          16.474747474747474,
          16.575757575757574,
          16.676767676767675,
          16.77777777777778,
          16.87878787878788,
          16.97979797979798,
          17.080808080808083,
          17.18181818181818,
          17.282828282828284,
          17.383838383838384,
          17.484848484848484,
          17.58585858585859,
          17.686868686868685,
          17.78787878787879,
          17.88888888888889,
          17.98989898989899,
          18.09090909090909,
          18.19191919191919,
          18.292929292929294,
          18.393939393939394,
          18.494949494949495,
          18.595959595959595,
          18.696969696969695,
          18.7979797979798,
          18.8989898989899,
          19
         ],
         "y": [
          0.09331056051210472,
          0.09618742488366186,
          0.09903178150350932,
          0.10183561238896109,
          0.10459081831697475,
          0.10728925667243665,
          0.10992278061241631,
          0.11248327929106632,
          0.11496271887391593,
          0.11735318405665074,
          0.11964691979229487,
          0.12183637292220555,
          0.12391423340060138,
          0.12587347479960062,
          0.1277073937820382,
          0.1294096482327057,
          0.1309742937451435,
          0.13239581817068077,
          0.1336691739490115,
          0.13478980795511553,
          0.13575368861564796,
          0.1365573300688564,
          0.13719781316544302,
          0.13767280313332664,
          0.13798056375671652,
          0.13811996794899625,
          0.13809050462931463,
          0.13789228184417077,
          0.13752602610731154,
          0.13699307796358481,
          0.13629538381465583,
          0.13543548407634032,
          0.13441649776839057,
          0.13324210366754885,
          0.13191651818323427,
          0.13044447014204827,
          0.12883117269209107,
          0.12708229256061765,
          0.12520391691860722,
          0.12320251812317534,
          0.12108491662327224,
          0.11885824232565577,
          0.11652989472662424,
          0.11410750212039526,
          0.11159888019731212,
          0.10901199034428542,
          0.10635489795609122,
          0.10363573105946433,
          0.10086263954246248,
          0.09804375526951954,
          0.09518715334812923,
          0.09230081479643193,
          0.08939259084235363,
          0.08647016906461712,
          0.08354104156418764,
          0.0806124753318007,
          0.07769148495343473,
          0.07478480777122005,
          0.0718988815926016,
          0.06903982501587186,
          0.06621342041573099,
          0.06342509960856696,
          0.06067993219392037,
          0.05798261654632722,
          0.055337473410619266,
          0.05274844203398426,
          0.0502190787498056,
          0.04775255791163931,
          0.04535167506075597,
          0.04301885219755486,
          0.04075614501589996,
          0.038565251950068824,
          0.036447524876541945,
          0.03440398130729188,
          0.032435317907494175,
          0.03054192516864941,
          0.028723903067871714,
          0.026981077545491575,
          0.02531301763602406,
          0.02371905309184959,
          0.022198292344521017,
          0.020749640655304297,
          0.019371818314245812,
          0.01806337875559548,
          0.016822726466646,
          0.015648134576847692,
          0.014537762024269275,
          0.013489670206969272,
          0.012501839037491564,
          0.011572182329369235,
          0.010698562455111263,
          0.009878804225538261,
          0.009110707950440068,
          0.008392061650257725,
          0.007720652397773682,
          0.007094276777562614,
          0.006510750459155807,
          0.00596791688746615,
          0.005463655100973323,
          0.004995886694459349
         ]
        }
       ],
       "layout": {
        "annotations": [
         {
          "bordercolor": "rgb(100,110,250)",
          "borderwidth": 2,
          "font": {
           "color": "rgb(100,110,250)",
           "size": 15
          },
          "showarrow": false,
          "text": "0.188",
          "x": 9,
          "xshift": -40,
          "y": 0.09331056051210472,
          "yshift": -100
         },
         {
          "bordercolor": "rgb(239,85,59)",
          "borderwidth": 2,
          "font": {
           "color": "rgb(239,85,59)",
           "size": 15
          },
          "showarrow": false,
          "text": "0.812",
          "x": 9,
          "xshift": 40,
          "y": 0.09331056051210472,
          "yshift": -100
         }
        ],
        "template": {
         "data": {
          "bar": [
           {
            "error_x": {
             "color": "#2a3f5f"
            },
            "error_y": {
             "color": "#2a3f5f"
            },
            "marker": {
             "line": {
              "color": "#E5ECF6",
              "width": 0.5
             },
             "pattern": {
              "fillmode": "overlay",
              "size": 10,
              "solidity": 0.2
             }
            },
            "type": "bar"
           }
          ],
          "barpolar": [
           {
            "marker": {
             "line": {
              "color": "#E5ECF6",
              "width": 0.5
             },
             "pattern": {
              "fillmode": "overlay",
              "size": 10,
              "solidity": 0.2
             }
            },
            "type": "barpolar"
           }
          ],
          "carpet": [
           {
            "aaxis": {
             "endlinecolor": "#2a3f5f",
             "gridcolor": "white",
             "linecolor": "white",
             "minorgridcolor": "white",
             "startlinecolor": "#2a3f5f"
            },
            "baxis": {
             "endlinecolor": "#2a3f5f",
             "gridcolor": "white",
             "linecolor": "white",
             "minorgridcolor": "white",
             "startlinecolor": "#2a3f5f"
            },
            "type": "carpet"
           }
          ],
          "choropleth": [
           {
            "colorbar": {
             "outlinewidth": 0,
             "ticks": ""
            },
            "type": "choropleth"
           }
          ],
          "contour": [
           {
            "colorbar": {
             "outlinewidth": 0,
             "ticks": ""
            },
            "colorscale": [
             [
              0,
              "#0d0887"
             ],
             [
              0.1111111111111111,
              "#46039f"
             ],
             [
              0.2222222222222222,
              "#7201a8"
             ],
             [
              0.3333333333333333,
              "#9c179e"
             ],
             [
              0.4444444444444444,
              "#bd3786"
             ],
             [
              0.5555555555555556,
              "#d8576b"
             ],
             [
              0.6666666666666666,
              "#ed7953"
             ],
             [
              0.7777777777777778,
              "#fb9f3a"
             ],
             [
              0.8888888888888888,
              "#fdca26"
             ],
             [
              1,
              "#f0f921"
             ]
            ],
            "type": "contour"
           }
          ],
          "contourcarpet": [
           {
            "colorbar": {
             "outlinewidth": 0,
             "ticks": ""
            },
            "type": "contourcarpet"
           }
          ],
          "heatmap": [
           {
            "colorbar": {
             "outlinewidth": 0,
             "ticks": ""
            },
            "colorscale": [
             [
              0,
              "#0d0887"
             ],
             [
              0.1111111111111111,
              "#46039f"
             ],
             [
              0.2222222222222222,
              "#7201a8"
             ],
             [
              0.3333333333333333,
              "#9c179e"
             ],
             [
              0.4444444444444444,
              "#bd3786"
             ],
             [
              0.5555555555555556,
              "#d8576b"
             ],
             [
              0.6666666666666666,
              "#ed7953"
             ],
             [
              0.7777777777777778,
              "#fb9f3a"
             ],
             [
              0.8888888888888888,
              "#fdca26"
             ],
             [
              1,
              "#f0f921"
             ]
            ],
            "type": "heatmap"
           }
          ],
          "heatmapgl": [
           {
            "colorbar": {
             "outlinewidth": 0,
             "ticks": ""
            },
            "colorscale": [
             [
              0,
              "#0d0887"
             ],
             [
              0.1111111111111111,
              "#46039f"
             ],
             [
              0.2222222222222222,
              "#7201a8"
             ],
             [
              0.3333333333333333,
              "#9c179e"
             ],
             [
              0.4444444444444444,
              "#bd3786"
             ],
             [
              0.5555555555555556,
              "#d8576b"
             ],
             [
              0.6666666666666666,
              "#ed7953"
             ],
             [
              0.7777777777777778,
              "#fb9f3a"
             ],
             [
              0.8888888888888888,
              "#fdca26"
             ],
             [
              1,
              "#f0f921"
             ]
            ],
            "type": "heatmapgl"
           }
          ],
          "histogram": [
           {
            "marker": {
             "pattern": {
              "fillmode": "overlay",
              "size": 10,
              "solidity": 0.2
             }
            },
            "type": "histogram"
           }
          ],
          "histogram2d": [
           {
            "colorbar": {
             "outlinewidth": 0,
             "ticks": ""
            },
            "colorscale": [
             [
              0,
              "#0d0887"
             ],
             [
              0.1111111111111111,
              "#46039f"
             ],
             [
              0.2222222222222222,
              "#7201a8"
             ],
             [
              0.3333333333333333,
              "#9c179e"
             ],
             [
              0.4444444444444444,
              "#bd3786"
             ],
             [
              0.5555555555555556,
              "#d8576b"
             ],
             [
              0.6666666666666666,
              "#ed7953"
             ],
             [
              0.7777777777777778,
              "#fb9f3a"
             ],
             [
              0.8888888888888888,
              "#fdca26"
             ],
             [
              1,
              "#f0f921"
             ]
            ],
            "type": "histogram2d"
           }
          ],
          "histogram2dcontour": [
           {
            "colorbar": {
             "outlinewidth": 0,
             "ticks": ""
            },
            "colorscale": [
             [
              0,
              "#0d0887"
             ],
             [
              0.1111111111111111,
              "#46039f"
             ],
             [
              0.2222222222222222,
              "#7201a8"
             ],
             [
              0.3333333333333333,
              "#9c179e"
             ],
             [
              0.4444444444444444,
              "#bd3786"
             ],
             [
              0.5555555555555556,
              "#d8576b"
             ],
             [
              0.6666666666666666,
              "#ed7953"
             ],
             [
              0.7777777777777778,
              "#fb9f3a"
             ],
             [
              0.8888888888888888,
              "#fdca26"
             ],
             [
              1,
              "#f0f921"
             ]
            ],
            "type": "histogram2dcontour"
           }
          ],
          "mesh3d": [
           {
            "colorbar": {
             "outlinewidth": 0,
             "ticks": ""
            },
            "type": "mesh3d"
           }
          ],
          "parcoords": [
           {
            "line": {
             "colorbar": {
              "outlinewidth": 0,
              "ticks": ""
             }
            },
            "type": "parcoords"
           }
          ],
          "pie": [
           {
            "automargin": true,
            "type": "pie"
           }
          ],
          "scatter": [
           {
            "marker": {
             "colorbar": {
              "outlinewidth": 0,
              "ticks": ""
             }
            },
            "type": "scatter"
           }
          ],
          "scatter3d": [
           {
            "line": {
             "colorbar": {
              "outlinewidth": 0,
              "ticks": ""
             }
            },
            "marker": {
             "colorbar": {
              "outlinewidth": 0,
              "ticks": ""
             }
            },
            "type": "scatter3d"
           }
          ],
          "scattercarpet": [
           {
            "marker": {
             "colorbar": {
              "outlinewidth": 0,
              "ticks": ""
             }
            },
            "type": "scattercarpet"
           }
          ],
          "scattergeo": [
           {
            "marker": {
             "colorbar": {
              "outlinewidth": 0,
              "ticks": ""
             }
            },
            "type": "scattergeo"
           }
          ],
          "scattergl": [
           {
            "marker": {
             "colorbar": {
              "outlinewidth": 0,
              "ticks": ""
             }
            },
            "type": "scattergl"
           }
          ],
          "scattermapbox": [
           {
            "marker": {
             "colorbar": {
              "outlinewidth": 0,
              "ticks": ""
             }
            },
            "type": "scattermapbox"
           }
          ],
          "scatterpolar": [
           {
            "marker": {
             "colorbar": {
              "outlinewidth": 0,
              "ticks": ""
             }
            },
            "type": "scatterpolar"
           }
          ],
          "scatterpolargl": [
           {
            "marker": {
             "colorbar": {
              "outlinewidth": 0,
              "ticks": ""
             }
            },
            "type": "scatterpolargl"
           }
          ],
          "scatterternary": [
           {
            "marker": {
             "colorbar": {
              "outlinewidth": 0,
              "ticks": ""
             }
            },
            "type": "scatterternary"
           }
          ],
          "surface": [
           {
            "colorbar": {
             "outlinewidth": 0,
             "ticks": ""
            },
            "colorscale": [
             [
              0,
              "#0d0887"
             ],
             [
              0.1111111111111111,
              "#46039f"
             ],
             [
              0.2222222222222222,
              "#7201a8"
             ],
             [
              0.3333333333333333,
              "#9c179e"
             ],
             [
              0.4444444444444444,
              "#bd3786"
             ],
             [
              0.5555555555555556,
              "#d8576b"
             ],
             [
              0.6666666666666666,
              "#ed7953"
             ],
             [
              0.7777777777777778,
              "#fb9f3a"
             ],
             [
              0.8888888888888888,
              "#fdca26"
             ],
             [
              1,
              "#f0f921"
             ]
            ],
            "type": "surface"
           }
          ],
          "table": [
           {
            "cells": {
             "fill": {
              "color": "#EBF0F8"
             },
             "line": {
              "color": "white"
             }
            },
            "header": {
             "fill": {
              "color": "#C8D4E3"
             },
             "line": {
              "color": "white"
             }
            },
            "type": "table"
           }
          ]
         },
         "layout": {
          "annotationdefaults": {
           "arrowcolor": "#2a3f5f",
           "arrowhead": 0,
           "arrowwidth": 1
          },
          "autotypenumbers": "strict",
          "coloraxis": {
           "colorbar": {
            "outlinewidth": 0,
            "ticks": ""
           }
          },
          "colorscale": {
           "diverging": [
            [
             0,
             "#8e0152"
            ],
            [
             0.1,
             "#c51b7d"
            ],
            [
             0.2,
             "#de77ae"
            ],
            [
             0.3,
             "#f1b6da"
            ],
            [
             0.4,
             "#fde0ef"
            ],
            [
             0.5,
             "#f7f7f7"
            ],
            [
             0.6,
             "#e6f5d0"
            ],
            [
             0.7,
             "#b8e186"
            ],
            [
             0.8,
             "#7fbc41"
            ],
            [
             0.9,
             "#4d9221"
            ],
            [
             1,
             "#276419"
            ]
           ],
           "sequential": [
            [
             0,
             "#0d0887"
            ],
            [
             0.1111111111111111,
             "#46039f"
            ],
            [
             0.2222222222222222,
             "#7201a8"
            ],
            [
             0.3333333333333333,
             "#9c179e"
            ],
            [
             0.4444444444444444,
             "#bd3786"
            ],
            [
             0.5555555555555556,
             "#d8576b"
            ],
            [
             0.6666666666666666,
             "#ed7953"
            ],
            [
             0.7777777777777778,
             "#fb9f3a"
            ],
            [
             0.8888888888888888,
             "#fdca26"
            ],
            [
             1,
             "#f0f921"
            ]
           ],
           "sequentialminus": [
            [
             0,
             "#0d0887"
            ],
            [
             0.1111111111111111,
             "#46039f"
            ],
            [
             0.2222222222222222,
             "#7201a8"
            ],
            [
             0.3333333333333333,
             "#9c179e"
            ],
            [
             0.4444444444444444,
             "#bd3786"
            ],
            [
             0.5555555555555556,
             "#d8576b"
            ],
            [
             0.6666666666666666,
             "#ed7953"
            ],
            [
             0.7777777777777778,
             "#fb9f3a"
            ],
            [
             0.8888888888888888,
             "#fdca26"
            ],
            [
             1,
             "#f0f921"
            ]
           ]
          },
          "colorway": [
           "#636efa",
           "#EF553B",
           "#00cc96",
           "#ab63fa",
           "#FFA15A",
           "#19d3f3",
           "#FF6692",
           "#B6E880",
           "#FF97FF",
           "#FECB52"
          ],
          "font": {
           "color": "#2a3f5f"
          },
          "geo": {
           "bgcolor": "white",
           "lakecolor": "white",
           "landcolor": "#E5ECF6",
           "showlakes": true,
           "showland": true,
           "subunitcolor": "white"
          },
          "hoverlabel": {
           "align": "left"
          },
          "hovermode": "closest",
          "mapbox": {
           "style": "light"
          },
          "paper_bgcolor": "white",
          "plot_bgcolor": "#E5ECF6",
          "polar": {
           "angularaxis": {
            "gridcolor": "white",
            "linecolor": "white",
            "ticks": ""
           },
           "bgcolor": "#E5ECF6",
           "radialaxis": {
            "gridcolor": "white",
            "linecolor": "white",
            "ticks": ""
           }
          },
          "scene": {
           "xaxis": {
            "backgroundcolor": "#E5ECF6",
            "gridcolor": "white",
            "gridwidth": 2,
            "linecolor": "white",
            "showbackground": true,
            "ticks": "",
            "zerolinecolor": "white"
           },
           "yaxis": {
            "backgroundcolor": "#E5ECF6",
            "gridcolor": "white",
            "gridwidth": 2,
            "linecolor": "white",
            "showbackground": true,
            "ticks": "",
            "zerolinecolor": "white"
           },
           "zaxis": {
            "backgroundcolor": "#E5ECF6",
            "gridcolor": "white",
            "gridwidth": 2,
            "linecolor": "white",
            "showbackground": true,
            "ticks": "",
            "zerolinecolor": "white"
           }
          },
          "shapedefaults": {
           "line": {
            "color": "#2a3f5f"
           }
          },
          "ternary": {
           "aaxis": {
            "gridcolor": "white",
            "linecolor": "white",
            "ticks": ""
           },
           "baxis": {
            "gridcolor": "white",
            "linecolor": "white",
            "ticks": ""
           },
           "bgcolor": "#E5ECF6",
           "caxis": {
            "gridcolor": "white",
            "linecolor": "white",
            "ticks": ""
           }
          },
          "title": {
           "x": 0.05
          },
          "xaxis": {
           "automargin": true,
           "gridcolor": "white",
           "linecolor": "white",
           "ticks": "",
           "title": {
            "standoff": 15
           },
           "zerolinecolor": "white",
           "zerolinewidth": 2
          },
          "yaxis": {
           "automargin": true,
           "gridcolor": "white",
           "linecolor": "white",
           "ticks": "",
           "title": {
            "standoff": 15
           },
           "zerolinecolor": "white",
           "zerolinewidth": 2
          }
         }
        }
       }
      }
     },
     "metadata": {},
     "output_type": "display_data"
    }
   ],
   "source": [
    "busan_pm25 = df_pm25[df_pm25['구분(2)']=='부산광역시'].loc[2,'2021.07']\n",
    "pm25_pro = cal_norm(mean,std,min,max,busan_pm25)"
   ]
  },
  {
   "cell_type": "code",
   "execution_count": 724,
   "metadata": {
    "collapsed": false,
    "pycharm": {
     "name": "#%%\n"
    }
   },
   "outputs": [
    {
     "data": {
      "text/html": [
       "<div>\n",
       "<style scoped>\n",
       "    .dataframe tbody tr th:only-of-type {\n",
       "        vertical-align: middle;\n",
       "    }\n",
       "\n",
       "    .dataframe tbody tr th {\n",
       "        vertical-align: top;\n",
       "    }\n",
       "\n",
       "    .dataframe thead th {\n",
       "        text-align: right;\n",
       "    }\n",
       "</style>\n",
       "<table border=\"1\" class=\"dataframe\">\n",
       "  <thead>\n",
       "    <tr style=\"text-align: right;\">\n",
       "      <th></th>\n",
       "      <th>구분(1)</th>\n",
       "      <th>구분(2)</th>\n",
       "      <th>2021.02</th>\n",
       "      <th>2021.03</th>\n",
       "      <th>2021.04</th>\n",
       "      <th>2021.05</th>\n",
       "      <th>2021.06</th>\n",
       "      <th>2021.07</th>\n",
       "    </tr>\n",
       "  </thead>\n",
       "  <tbody>\n",
       "    <tr>\n",
       "      <th>0</th>\n",
       "      <td>총계</td>\n",
       "      <td>소계</td>\n",
       "      <td>43</td>\n",
       "      <td>65</td>\n",
       "      <td>41</td>\n",
       "      <td>52</td>\n",
       "      <td>32</td>\n",
       "      <td>22</td>\n",
       "    </tr>\n",
       "    <tr>\n",
       "      <th>1</th>\n",
       "      <td>서울특별시</td>\n",
       "      <td>서울특별시</td>\n",
       "      <td>48</td>\n",
       "      <td>67</td>\n",
       "      <td>42</td>\n",
       "      <td>61</td>\n",
       "      <td>33</td>\n",
       "      <td>24</td>\n",
       "    </tr>\n",
       "    <tr>\n",
       "      <th>2</th>\n",
       "      <td>부산광역시</td>\n",
       "      <td>부산광역시</td>\n",
       "      <td>37</td>\n",
       "      <td>60</td>\n",
       "      <td>37</td>\n",
       "      <td>36</td>\n",
       "      <td>26</td>\n",
       "      <td>18</td>\n",
       "    </tr>\n",
       "    <tr>\n",
       "      <th>3</th>\n",
       "      <td>대구광역시</td>\n",
       "      <td>대구광역시</td>\n",
       "      <td>41</td>\n",
       "      <td>59</td>\n",
       "      <td>42</td>\n",
       "      <td>41</td>\n",
       "      <td>35</td>\n",
       "      <td>19</td>\n",
       "    </tr>\n",
       "    <tr>\n",
       "      <th>4</th>\n",
       "      <td>인천광역시</td>\n",
       "      <td>인천광역시</td>\n",
       "      <td>46</td>\n",
       "      <td>69</td>\n",
       "      <td>42</td>\n",
       "      <td>59</td>\n",
       "      <td>36</td>\n",
       "      <td>29</td>\n",
       "    </tr>\n",
       "    <tr>\n",
       "      <th>...</th>\n",
       "      <td>...</td>\n",
       "      <td>...</td>\n",
       "      <td>...</td>\n",
       "      <td>...</td>\n",
       "      <td>...</td>\n",
       "      <td>...</td>\n",
       "      <td>...</td>\n",
       "      <td>...</td>\n",
       "    </tr>\n",
       "    <tr>\n",
       "      <th>167</th>\n",
       "      <td>경상남도</td>\n",
       "      <td>합천</td>\n",
       "      <td>29</td>\n",
       "      <td>44</td>\n",
       "      <td>32</td>\n",
       "      <td>36</td>\n",
       "      <td>27</td>\n",
       "      <td>17**</td>\n",
       "    </tr>\n",
       "    <tr>\n",
       "      <th>168</th>\n",
       "      <td>경상남도</td>\n",
       "      <td>도평균</td>\n",
       "      <td>33</td>\n",
       "      <td>53</td>\n",
       "      <td>34</td>\n",
       "      <td>36</td>\n",
       "      <td>27</td>\n",
       "      <td>20</td>\n",
       "    </tr>\n",
       "    <tr>\n",
       "      <th>169</th>\n",
       "      <td>제주특별자치도</td>\n",
       "      <td>제주특별자치도</td>\n",
       "      <td>36</td>\n",
       "      <td>76</td>\n",
       "      <td>37</td>\n",
       "      <td>44</td>\n",
       "      <td>27</td>\n",
       "      <td>17</td>\n",
       "    </tr>\n",
       "    <tr>\n",
       "      <th>170</th>\n",
       "      <td>제주특별자치도</td>\n",
       "      <td>서귀포</td>\n",
       "      <td>33</td>\n",
       "      <td>68</td>\n",
       "      <td>35</td>\n",
       "      <td>40</td>\n",
       "      <td>23</td>\n",
       "      <td>21</td>\n",
       "    </tr>\n",
       "    <tr>\n",
       "      <th>171</th>\n",
       "      <td>제주특별자치도</td>\n",
       "      <td>도평균</td>\n",
       "      <td>34</td>\n",
       "      <td>72</td>\n",
       "      <td>36</td>\n",
       "      <td>42</td>\n",
       "      <td>25</td>\n",
       "      <td>19</td>\n",
       "    </tr>\n",
       "  </tbody>\n",
       "</table>\n",
       "<p>172 rows × 8 columns</p>\n",
       "</div>"
      ],
      "text/plain": [
       "       구분(1)    구분(2) 2021.02 2021.03 2021.04 2021.05 2021.06 2021.07\n",
       "0         총계       소계      43      65      41      52      32      22\n",
       "1      서울특별시    서울특별시      48      67      42      61      33      24\n",
       "2      부산광역시    부산광역시      37      60      37      36      26      18\n",
       "3      대구광역시    대구광역시      41      59      42      41      35      19\n",
       "4      인천광역시    인천광역시      46      69      42      59      36      29\n",
       "..       ...      ...     ...     ...     ...     ...     ...     ...\n",
       "167     경상남도       합천      29      44      32      36      27    17**\n",
       "168     경상남도      도평균      33      53      34      36      27      20\n",
       "169  제주특별자치도  제주특별자치도      36      76      37      44      27      17\n",
       "170  제주특별자치도      서귀포      33      68      35      40      23      21\n",
       "171  제주특별자치도      도평균      34      72      36      42      25      19\n",
       "\n",
       "[172 rows x 8 columns]"
      ]
     },
     "execution_count": 724,
     "metadata": {},
     "output_type": "execute_result"
    }
   ],
   "source": [
    "pm10_file_path = 'C:\\\\Users\\\\SAMSUNG\\\\Desktop\\\\Green-Car-Charging-Station-Site-Selection\\\\Data\\\\미세먼지_PM10__월별_도시별_대기오염도.csv'\n",
    "df_pm10 = pd.read_csv(pm10_file_path, encoding='cp949')\n",
    "df_pm10"
   ]
  },
  {
   "cell_type": "code",
   "execution_count": 725,
   "metadata": {
    "collapsed": false,
    "pycharm": {
     "name": "#%%\n"
    }
   },
   "outputs": [],
   "source": [
    "pm10_col = df_pm10.iloc[:,2:-1].columns.tolist()"
   ]
  },
  {
   "cell_type": "code",
   "execution_count": 726,
   "metadata": {
    "collapsed": false,
    "pycharm": {
     "name": "#%%\n"
    }
   },
   "outputs": [],
   "source": [
    "df_pm10.drop(columns=pm10_col, inplace=True)"
   ]
  },
  {
   "cell_type": "code",
   "execution_count": 727,
   "metadata": {
    "collapsed": false,
    "pycharm": {
     "name": "#%%\n"
    }
   },
   "outputs": [],
   "source": [
    "advanced_replace(df_pm10, '2021.07', '-', r'[^0-9.0-9]')\n",
    "df_pm10['2021.07'] = df_pm10['2021.07'].astype(float)"
   ]
  },
  {
   "cell_type": "code",
   "execution_count": 728,
   "metadata": {
    "collapsed": false,
    "pycharm": {
     "name": "#%%\n"
    }
   },
   "outputs": [
    {
     "name": "stdout",
     "output_type": "stream",
     "text": [
      "<class 'pandas.core.frame.DataFrame'>\n",
      "RangeIndex: 172 entries, 0 to 171\n",
      "Data columns (total 3 columns):\n",
      " #   Column   Non-Null Count  Dtype  \n",
      "---  ------   --------------  -----  \n",
      " 0   구분(1)    172 non-null    object \n",
      " 1   구분(2)    172 non-null    object \n",
      " 2   2021.07  172 non-null    float64\n",
      "dtypes: float64(1), object(2)\n",
      "memory usage: 4.2+ KB\n"
     ]
    }
   ],
   "source": [
    "df_pm10.info()"
   ]
  },
  {
   "cell_type": "code",
   "execution_count": 729,
   "metadata": {
    "collapsed": false,
    "pycharm": {
     "name": "#%%\n"
    }
   },
   "outputs": [
    {
     "data": {
      "text/html": [
       "<div>\n",
       "<style scoped>\n",
       "    .dataframe tbody tr th:only-of-type {\n",
       "        vertical-align: middle;\n",
       "    }\n",
       "\n",
       "    .dataframe tbody tr th {\n",
       "        vertical-align: top;\n",
       "    }\n",
       "\n",
       "    .dataframe thead th {\n",
       "        text-align: right;\n",
       "    }\n",
       "</style>\n",
       "<table border=\"1\" class=\"dataframe\">\n",
       "  <thead>\n",
       "    <tr style=\"text-align: right;\">\n",
       "      <th></th>\n",
       "      <th>2021.07</th>\n",
       "    </tr>\n",
       "  </thead>\n",
       "  <tbody>\n",
       "    <tr>\n",
       "      <th>count</th>\n",
       "      <td>172.000000</td>\n",
       "    </tr>\n",
       "    <tr>\n",
       "      <th>mean</th>\n",
       "      <td>20.750000</td>\n",
       "    </tr>\n",
       "    <tr>\n",
       "      <th>std</th>\n",
       "      <td>4.725352</td>\n",
       "    </tr>\n",
       "    <tr>\n",
       "      <th>min</th>\n",
       "      <td>0.000000</td>\n",
       "    </tr>\n",
       "    <tr>\n",
       "      <th>25%</th>\n",
       "      <td>18.000000</td>\n",
       "    </tr>\n",
       "    <tr>\n",
       "      <th>50%</th>\n",
       "      <td>20.000000</td>\n",
       "    </tr>\n",
       "    <tr>\n",
       "      <th>75%</th>\n",
       "      <td>23.000000</td>\n",
       "    </tr>\n",
       "    <tr>\n",
       "      <th>max</th>\n",
       "      <td>36.000000</td>\n",
       "    </tr>\n",
       "  </tbody>\n",
       "</table>\n",
       "</div>"
      ],
      "text/plain": [
       "          2021.07\n",
       "count  172.000000\n",
       "mean    20.750000\n",
       "std      4.725352\n",
       "min      0.000000\n",
       "25%     18.000000\n",
       "50%     20.000000\n",
       "75%     23.000000\n",
       "max     36.000000"
      ]
     },
     "execution_count": 729,
     "metadata": {},
     "output_type": "execute_result"
    }
   ],
   "source": [
    "df_pm10.describe()"
   ]
  },
  {
   "cell_type": "code",
   "execution_count": 730,
   "metadata": {},
   "outputs": [
    {
     "data": {
      "application/vnd.plotly.v1+json": {
       "config": {
        "plotlyServerURL": "https://plot.ly"
       },
       "data": [
        {
         "hovertemplate": "x=%{x}<br>y=%{y}<extra></extra>",
         "legendgroup": "",
         "line": {
          "color": "#636efa",
          "dash": "solid"
         },
         "mode": "lines",
         "name": "",
         "orientation": "v",
         "showlegend": false,
         "type": "scatter",
         "x": [
          -4.7253515602990905,
          -4.313984372821322,
          -3.902617185343553,
          -3.491249997865785,
          -3.0798828103880163,
          -2.6685156229102476,
          -2.2571484354324793,
          -1.8457812479547107,
          -1.434414060476942,
          -1.0230468729991733,
          -0.6116796855214046,
          -0.20031249804363593,
          0.21105468943413186,
          0.6224218769119005,
          1.0337890643896692,
          1.445156251867438,
          1.8565234393452066,
          2.2678906268229753,
          2.679257814300744,
          3.0906250017785126,
          3.5019921892562813,
          3.91335937673405,
          4.324726564211819,
          4.736093751689587,
          5.147460939167354,
          5.558828126645123,
          5.970195314122892,
          6.38156250160066,
          6.792929689078429,
          7.204296876556198,
          7.615664064033966,
          8.027031251511735,
          8.438398438989504,
          8.849765626467272,
          9.261132813945041,
          9.67250000142281,
          10.083867188900578,
          10.495234376378347,
          10.906601563856116,
          11.317968751333884,
          11.729335938811653,
          12.140703126289422,
          12.55207031376719,
          12.96343750124496,
          13.374804688722728,
          13.786171876200497,
          14.197539063678265,
          14.608906251156034,
          15.020273438633799,
          15.431640626111568,
          15.843007813589336,
          16.254375001067103,
          16.665742188544876,
          17.07710937602264,
          17.488476563500413,
          17.899843750978178,
          18.31121093845595,
          18.722578125933715,
          19.133945313411488,
          19.545312500889253,
          19.956679688367025,
          20.36804687584479,
          20.779414063322562,
          21.190781250800327,
          21.6021484382781,
          22.013515625755865,
          22.424882813233637,
          22.836250000711402,
          23.247617188189174,
          23.65898437566694,
          24.070351563144712,
          24.481718750622477,
          24.89308593810025,
          25.304453125578014,
          25.715820313055787,
          26.12718750053355,
          26.538554688011324,
          26.94992187548909,
          27.36128906296686,
          27.772656250444626,
          28.1840234379224,
          28.595390625400164,
          29.006757812877936,
          29.4181250003557,
          29.829492187833473,
          30.24085937531124,
          30.65222656278901,
          31.063593750266776,
          31.474960937744548,
          31.886328125222313,
          32.297695312700085,
          32.70906250017785,
          33.12042968765562,
          33.53179687513339,
          33.94316406261116,
          34.354531250088925,
          34.76589843756669,
          35.17726562504446,
          35.58863281252223,
          36
         ],
         "xaxis": "x",
         "y": [
          4.1215948785132514e-8,
          6.565209430714918e-8,
          1.037864143126332e-7,
          1.6283249272898072e-7,
          2.535422120391129e-7,
          3.918033265096082e-7,
          6.008894832821432e-7,
          9.14596905174727e-7,
          0.0000013815719019795437,
          0.000002071218406530048,
          0.0000030816757581188743,
          0.000004550473895687641,
          0.000006668604372970962,
          0.000009698887428372712,
          0.000013999661169099504,
          0.00002005495865159737,
          0.000028512457923499095,
          0.000040230569838226735,
          0.00005633604453394095,
          0.00007829340088263459,
          0.0001079872808417994,
          0.00014781846675811233,
          0.0002008137383891247,
          0.00027074895510658753,
          0.00036228370253654866,
          0.0004811045299832207,
          0.0006340722326736231,
          0.0008293668337224242,
          0.0010766219583400254,
          0.0013870382662824058,
          0.001773463654766539,
          0.0022504262369012866,
          0.0028341048459857325,
          0.0035422212419840564,
          0.004393838538709778,
          0.00540905185190677,
          0.006608559976107383,
          0.00801311115508457,
          0.009642821749325289,
          0.011516373740835245,
          0.013650105332037766,
          0.01605701802707245,
          0.01874573302183187,
          0.02171943883710388,
          0.02497488017489314,
          0.02850144418086166,
          0.032280403888221426,
          0.03628437891609632,
          0.04047706997165542,
          0.044813316061698555,
          0.04923951154474384,
          0.053694404565351524,
          0.05811027966626184,
          0.06241450645368829,
          0.06653141435525493,
          0.07038443221230926,
          0.07389841223105179,
          0.07700204218657622,
          0.0796302390698561,
          0.08172641263663116,
          0.08324448920652851,
          0.08415059474283447,
          0.08442431137900308,
          0.08405944230579385,
          0.08306424500423427,
          0.08146112056561881,
          0.07928577542211347,
          0.07658589929394857,
          0.07341942770572406,
          0.06985247743898788,
          0.06595705754123046,
          0.06180866623084861,
          0.05748388495799601,
          0.05305807524600237,
          0.048603272457244544,
          0.04418635439666761,
          0.0398675430567655,
          0.03569927633939861,
          0.03172546479933383,
          0.02798112777365586,
          0.024492384913468567,
          0.02127676405815033,
          0.018343775197099666,
          0.015695693217392895,
          0.013328489182873014,
          0.011232850695792471,
          0.009395235902514194,
          0.0077989122192530435,
          0.006424939098772475,
          0.005253063357259014,
          0.004262505011088385,
          0.0034326206160832772,
          0.0027434392685144996,
          0.00217607337409946,
          0.0017130118201341422,
          0.0013383072311853813,
          0.0010376715975004662,
          0.0007984958714295692,
          0.0006098093241380965,
          0.0004621937690477559
         ],
         "yaxis": "y"
        }
       ],
       "layout": {
        "legend": {
         "tracegroupgap": 0
        },
        "margin": {
         "t": 60
        },
        "template": {
         "data": {
          "bar": [
           {
            "error_x": {
             "color": "#2a3f5f"
            },
            "error_y": {
             "color": "#2a3f5f"
            },
            "marker": {
             "line": {
              "color": "#E5ECF6",
              "width": 0.5
             },
             "pattern": {
              "fillmode": "overlay",
              "size": 10,
              "solidity": 0.2
             }
            },
            "type": "bar"
           }
          ],
          "barpolar": [
           {
            "marker": {
             "line": {
              "color": "#E5ECF6",
              "width": 0.5
             },
             "pattern": {
              "fillmode": "overlay",
              "size": 10,
              "solidity": 0.2
             }
            },
            "type": "barpolar"
           }
          ],
          "carpet": [
           {
            "aaxis": {
             "endlinecolor": "#2a3f5f",
             "gridcolor": "white",
             "linecolor": "white",
             "minorgridcolor": "white",
             "startlinecolor": "#2a3f5f"
            },
            "baxis": {
             "endlinecolor": "#2a3f5f",
             "gridcolor": "white",
             "linecolor": "white",
             "minorgridcolor": "white",
             "startlinecolor": "#2a3f5f"
            },
            "type": "carpet"
           }
          ],
          "choropleth": [
           {
            "colorbar": {
             "outlinewidth": 0,
             "ticks": ""
            },
            "type": "choropleth"
           }
          ],
          "contour": [
           {
            "colorbar": {
             "outlinewidth": 0,
             "ticks": ""
            },
            "colorscale": [
             [
              0,
              "#0d0887"
             ],
             [
              0.1111111111111111,
              "#46039f"
             ],
             [
              0.2222222222222222,
              "#7201a8"
             ],
             [
              0.3333333333333333,
              "#9c179e"
             ],
             [
              0.4444444444444444,
              "#bd3786"
             ],
             [
              0.5555555555555556,
              "#d8576b"
             ],
             [
              0.6666666666666666,
              "#ed7953"
             ],
             [
              0.7777777777777778,
              "#fb9f3a"
             ],
             [
              0.8888888888888888,
              "#fdca26"
             ],
             [
              1,
              "#f0f921"
             ]
            ],
            "type": "contour"
           }
          ],
          "contourcarpet": [
           {
            "colorbar": {
             "outlinewidth": 0,
             "ticks": ""
            },
            "type": "contourcarpet"
           }
          ],
          "heatmap": [
           {
            "colorbar": {
             "outlinewidth": 0,
             "ticks": ""
            },
            "colorscale": [
             [
              0,
              "#0d0887"
             ],
             [
              0.1111111111111111,
              "#46039f"
             ],
             [
              0.2222222222222222,
              "#7201a8"
             ],
             [
              0.3333333333333333,
              "#9c179e"
             ],
             [
              0.4444444444444444,
              "#bd3786"
             ],
             [
              0.5555555555555556,
              "#d8576b"
             ],
             [
              0.6666666666666666,
              "#ed7953"
             ],
             [
              0.7777777777777778,
              "#fb9f3a"
             ],
             [
              0.8888888888888888,
              "#fdca26"
             ],
             [
              1,
              "#f0f921"
             ]
            ],
            "type": "heatmap"
           }
          ],
          "heatmapgl": [
           {
            "colorbar": {
             "outlinewidth": 0,
             "ticks": ""
            },
            "colorscale": [
             [
              0,
              "#0d0887"
             ],
             [
              0.1111111111111111,
              "#46039f"
             ],
             [
              0.2222222222222222,
              "#7201a8"
             ],
             [
              0.3333333333333333,
              "#9c179e"
             ],
             [
              0.4444444444444444,
              "#bd3786"
             ],
             [
              0.5555555555555556,
              "#d8576b"
             ],
             [
              0.6666666666666666,
              "#ed7953"
             ],
             [
              0.7777777777777778,
              "#fb9f3a"
             ],
             [
              0.8888888888888888,
              "#fdca26"
             ],
             [
              1,
              "#f0f921"
             ]
            ],
            "type": "heatmapgl"
           }
          ],
          "histogram": [
           {
            "marker": {
             "pattern": {
              "fillmode": "overlay",
              "size": 10,
              "solidity": 0.2
             }
            },
            "type": "histogram"
           }
          ],
          "histogram2d": [
           {
            "colorbar": {
             "outlinewidth": 0,
             "ticks": ""
            },
            "colorscale": [
             [
              0,
              "#0d0887"
             ],
             [
              0.1111111111111111,
              "#46039f"
             ],
             [
              0.2222222222222222,
              "#7201a8"
             ],
             [
              0.3333333333333333,
              "#9c179e"
             ],
             [
              0.4444444444444444,
              "#bd3786"
             ],
             [
              0.5555555555555556,
              "#d8576b"
             ],
             [
              0.6666666666666666,
              "#ed7953"
             ],
             [
              0.7777777777777778,
              "#fb9f3a"
             ],
             [
              0.8888888888888888,
              "#fdca26"
             ],
             [
              1,
              "#f0f921"
             ]
            ],
            "type": "histogram2d"
           }
          ],
          "histogram2dcontour": [
           {
            "colorbar": {
             "outlinewidth": 0,
             "ticks": ""
            },
            "colorscale": [
             [
              0,
              "#0d0887"
             ],
             [
              0.1111111111111111,
              "#46039f"
             ],
             [
              0.2222222222222222,
              "#7201a8"
             ],
             [
              0.3333333333333333,
              "#9c179e"
             ],
             [
              0.4444444444444444,
              "#bd3786"
             ],
             [
              0.5555555555555556,
              "#d8576b"
             ],
             [
              0.6666666666666666,
              "#ed7953"
             ],
             [
              0.7777777777777778,
              "#fb9f3a"
             ],
             [
              0.8888888888888888,
              "#fdca26"
             ],
             [
              1,
              "#f0f921"
             ]
            ],
            "type": "histogram2dcontour"
           }
          ],
          "mesh3d": [
           {
            "colorbar": {
             "outlinewidth": 0,
             "ticks": ""
            },
            "type": "mesh3d"
           }
          ],
          "parcoords": [
           {
            "line": {
             "colorbar": {
              "outlinewidth": 0,
              "ticks": ""
             }
            },
            "type": "parcoords"
           }
          ],
          "pie": [
           {
            "automargin": true,
            "type": "pie"
           }
          ],
          "scatter": [
           {
            "marker": {
             "colorbar": {
              "outlinewidth": 0,
              "ticks": ""
             }
            },
            "type": "scatter"
           }
          ],
          "scatter3d": [
           {
            "line": {
             "colorbar": {
              "outlinewidth": 0,
              "ticks": ""
             }
            },
            "marker": {
             "colorbar": {
              "outlinewidth": 0,
              "ticks": ""
             }
            },
            "type": "scatter3d"
           }
          ],
          "scattercarpet": [
           {
            "marker": {
             "colorbar": {
              "outlinewidth": 0,
              "ticks": ""
             }
            },
            "type": "scattercarpet"
           }
          ],
          "scattergeo": [
           {
            "marker": {
             "colorbar": {
              "outlinewidth": 0,
              "ticks": ""
             }
            },
            "type": "scattergeo"
           }
          ],
          "scattergl": [
           {
            "marker": {
             "colorbar": {
              "outlinewidth": 0,
              "ticks": ""
             }
            },
            "type": "scattergl"
           }
          ],
          "scattermapbox": [
           {
            "marker": {
             "colorbar": {
              "outlinewidth": 0,
              "ticks": ""
             }
            },
            "type": "scattermapbox"
           }
          ],
          "scatterpolar": [
           {
            "marker": {
             "colorbar": {
              "outlinewidth": 0,
              "ticks": ""
             }
            },
            "type": "scatterpolar"
           }
          ],
          "scatterpolargl": [
           {
            "marker": {
             "colorbar": {
              "outlinewidth": 0,
              "ticks": ""
             }
            },
            "type": "scatterpolargl"
           }
          ],
          "scatterternary": [
           {
            "marker": {
             "colorbar": {
              "outlinewidth": 0,
              "ticks": ""
             }
            },
            "type": "scatterternary"
           }
          ],
          "surface": [
           {
            "colorbar": {
             "outlinewidth": 0,
             "ticks": ""
            },
            "colorscale": [
             [
              0,
              "#0d0887"
             ],
             [
              0.1111111111111111,
              "#46039f"
             ],
             [
              0.2222222222222222,
              "#7201a8"
             ],
             [
              0.3333333333333333,
              "#9c179e"
             ],
             [
              0.4444444444444444,
              "#bd3786"
             ],
             [
              0.5555555555555556,
              "#d8576b"
             ],
             [
              0.6666666666666666,
              "#ed7953"
             ],
             [
              0.7777777777777778,
              "#fb9f3a"
             ],
             [
              0.8888888888888888,
              "#fdca26"
             ],
             [
              1,
              "#f0f921"
             ]
            ],
            "type": "surface"
           }
          ],
          "table": [
           {
            "cells": {
             "fill": {
              "color": "#EBF0F8"
             },
             "line": {
              "color": "white"
             }
            },
            "header": {
             "fill": {
              "color": "#C8D4E3"
             },
             "line": {
              "color": "white"
             }
            },
            "type": "table"
           }
          ]
         },
         "layout": {
          "annotationdefaults": {
           "arrowcolor": "#2a3f5f",
           "arrowhead": 0,
           "arrowwidth": 1
          },
          "autotypenumbers": "strict",
          "coloraxis": {
           "colorbar": {
            "outlinewidth": 0,
            "ticks": ""
           }
          },
          "colorscale": {
           "diverging": [
            [
             0,
             "#8e0152"
            ],
            [
             0.1,
             "#c51b7d"
            ],
            [
             0.2,
             "#de77ae"
            ],
            [
             0.3,
             "#f1b6da"
            ],
            [
             0.4,
             "#fde0ef"
            ],
            [
             0.5,
             "#f7f7f7"
            ],
            [
             0.6,
             "#e6f5d0"
            ],
            [
             0.7,
             "#b8e186"
            ],
            [
             0.8,
             "#7fbc41"
            ],
            [
             0.9,
             "#4d9221"
            ],
            [
             1,
             "#276419"
            ]
           ],
           "sequential": [
            [
             0,
             "#0d0887"
            ],
            [
             0.1111111111111111,
             "#46039f"
            ],
            [
             0.2222222222222222,
             "#7201a8"
            ],
            [
             0.3333333333333333,
             "#9c179e"
            ],
            [
             0.4444444444444444,
             "#bd3786"
            ],
            [
             0.5555555555555556,
             "#d8576b"
            ],
            [
             0.6666666666666666,
             "#ed7953"
            ],
            [
             0.7777777777777778,
             "#fb9f3a"
            ],
            [
             0.8888888888888888,
             "#fdca26"
            ],
            [
             1,
             "#f0f921"
            ]
           ],
           "sequentialminus": [
            [
             0,
             "#0d0887"
            ],
            [
             0.1111111111111111,
             "#46039f"
            ],
            [
             0.2222222222222222,
             "#7201a8"
            ],
            [
             0.3333333333333333,
             "#9c179e"
            ],
            [
             0.4444444444444444,
             "#bd3786"
            ],
            [
             0.5555555555555556,
             "#d8576b"
            ],
            [
             0.6666666666666666,
             "#ed7953"
            ],
            [
             0.7777777777777778,
             "#fb9f3a"
            ],
            [
             0.8888888888888888,
             "#fdca26"
            ],
            [
             1,
             "#f0f921"
            ]
           ]
          },
          "colorway": [
           "#636efa",
           "#EF553B",
           "#00cc96",
           "#ab63fa",
           "#FFA15A",
           "#19d3f3",
           "#FF6692",
           "#B6E880",
           "#FF97FF",
           "#FECB52"
          ],
          "font": {
           "color": "#2a3f5f"
          },
          "geo": {
           "bgcolor": "white",
           "lakecolor": "white",
           "landcolor": "#E5ECF6",
           "showlakes": true,
           "showland": true,
           "subunitcolor": "white"
          },
          "hoverlabel": {
           "align": "left"
          },
          "hovermode": "closest",
          "mapbox": {
           "style": "light"
          },
          "paper_bgcolor": "white",
          "plot_bgcolor": "#E5ECF6",
          "polar": {
           "angularaxis": {
            "gridcolor": "white",
            "linecolor": "white",
            "ticks": ""
           },
           "bgcolor": "#E5ECF6",
           "radialaxis": {
            "gridcolor": "white",
            "linecolor": "white",
            "ticks": ""
           }
          },
          "scene": {
           "xaxis": {
            "backgroundcolor": "#E5ECF6",
            "gridcolor": "white",
            "gridwidth": 2,
            "linecolor": "white",
            "showbackground": true,
            "ticks": "",
            "zerolinecolor": "white"
           },
           "yaxis": {
            "backgroundcolor": "#E5ECF6",
            "gridcolor": "white",
            "gridwidth": 2,
            "linecolor": "white",
            "showbackground": true,
            "ticks": "",
            "zerolinecolor": "white"
           },
           "zaxis": {
            "backgroundcolor": "#E5ECF6",
            "gridcolor": "white",
            "gridwidth": 2,
            "linecolor": "white",
            "showbackground": true,
            "ticks": "",
            "zerolinecolor": "white"
           }
          },
          "shapedefaults": {
           "line": {
            "color": "#2a3f5f"
           }
          },
          "ternary": {
           "aaxis": {
            "gridcolor": "white",
            "linecolor": "white",
            "ticks": ""
           },
           "baxis": {
            "gridcolor": "white",
            "linecolor": "white",
            "ticks": ""
           },
           "bgcolor": "#E5ECF6",
           "caxis": {
            "gridcolor": "white",
            "linecolor": "white",
            "ticks": ""
           }
          },
          "title": {
           "x": 0.05
          },
          "xaxis": {
           "automargin": true,
           "gridcolor": "white",
           "linecolor": "white",
           "ticks": "",
           "title": {
            "standoff": 15
           },
           "zerolinecolor": "white",
           "zerolinewidth": 2
          },
          "yaxis": {
           "automargin": true,
           "gridcolor": "white",
           "linecolor": "white",
           "ticks": "",
           "title": {
            "standoff": 15
           },
           "zerolinecolor": "white",
           "zerolinewidth": 2
          }
         }
        },
        "xaxis": {
         "anchor": "y",
         "domain": [
          0,
          1
         ],
         "title": {
          "text": "x"
         }
        },
        "yaxis": {
         "anchor": "x",
         "domain": [
          0,
          1
         ],
         "title": {
          "text": "y"
         }
        }
       }
      }
     },
     "metadata": {},
     "output_type": "display_data"
    }
   ],
   "source": [
    "mean = df_pm10.iloc[:,2].mean()\n",
    "std = df_pm10.iloc[:,2].std()\n",
    "min = df_pm10.iloc[:,2].min()\n",
    "max = df_pm10.iloc[:,2].max()\n",
    "show_norm(mean,std,min,max)"
   ]
  },
  {
   "cell_type": "code",
   "execution_count": 731,
   "metadata": {},
   "outputs": [
    {
     "data": {
      "application/vnd.plotly.v1+json": {
       "config": {
        "plotlyServerURL": "https://plot.ly"
       },
       "data": [
        {
         "fill": "tozeroy",
         "line": {
          "color": "rgb(100,110,250)"
         },
         "name": "적합",
         "text": "0.2802943598724571",
         "type": "scatter",
         "x": [
          -4.7253515602990905,
          -4.4958025546395035,
          -4.266253548979917,
          -4.03670454332033,
          -3.8071555376607433,
          -3.5776065320011567,
          -3.34805752634157,
          -3.118508520681983,
          -2.8889595150223966,
          -2.65941050936281,
          -2.429861503703223,
          -2.2003124980436364,
          -1.9707634923840498,
          -1.7412144867244628,
          -1.5116654810648762,
          -1.2821164754052892,
          -1.0525674697457026,
          -0.823018464086116,
          -0.5934694584265294,
          -0.3639204527669424,
          -0.13437144710735538,
          0.09517755855223076,
          0.3247265642118178,
          0.5542755698714048,
          0.7838245755309909,
          1.013373581190578,
          1.242922586850165,
          1.472471592509752,
          1.7020205981693382,
          1.9315696038289252,
          2.161118609488512,
          2.3906676151480983,
          2.6202166208076854,
          2.8497656264672724,
          3.0793146321268585,
          3.3088636377864464,
          3.5384126434460317,
          3.7679616491056187,
          3.9975106547652057,
          4.227059660424793,
          4.45660866608438,
          4.686157671743967,
          4.915706677403552,
          5.145255683063139,
          5.374804688722726,
          5.604353694382313,
          5.8339027000419,
          6.063451705701487,
          6.293000711361072,
          6.522549717020659,
          6.7520987226802465,
          6.9816477283398335,
          7.2111967339994205,
          7.4407457396590075,
          7.670294745318595,
          7.89984375097818,
          8.129392756637767,
          8.358941762297354,
          8.58849076795694,
          8.818039773616528,
          9.047588779276115,
          9.2771377849357,
          9.506686790595287,
          9.736235796254874,
          9.965784801914461,
          10.195333807574048,
          10.424882813233635,
          10.654431818893222,
          10.883980824552808,
          11.113529830212395,
          11.343078835871983,
          11.572627841531569,
          11.802176847191154,
          12.031725852850743,
          12.261274858510328,
          12.490823864169917,
          12.720372869829502,
          12.949921875489087,
          13.179470881148676,
          13.409019886808261,
          13.63856889246785,
          13.868117898127435,
          14.097666903787024,
          14.32721590944661,
          14.556764915106195,
          14.786313920765783,
          15.015862926425369,
          15.245411932084957,
          15.474960937744543,
          15.704509943404132,
          15.934058949063717,
          16.163607954723304,
          16.39315696038289,
          16.622705966042474,
          16.852254971702067,
          17.081803977361652,
          17.311352983021237,
          17.540901988680822,
          17.770450994340408,
          18
         ],
         "y": [
          4.1215948785132514e-8,
          5.3492446396401596e-8,
          6.926195615007959e-8,
          8.946891702004526e-8,
          1.152987880459445e-7,
          1.4823557371170365e-7,
          1.9013202307710692e-7,
          2.4329502841066574e-7,
          3.105891885700197e-7,
          3.955620037839947e-7,
          5.025947373132741e-7,
          6.3708362096349e-7,
          8.056568003854458e-7,
          0.000001016433216572305,
          0.000001279330504942433,
          0.0000016064299644321378,
          0.0000020124077058005375,
          0.000002515042228202064,
          0.0000031358098904480853,
          0.000003900581029215036,
          0.000004840430817601337,
          0.000005992580335957949,
          0.000007401484719426347,
          0.000009120086623601281,
          0.000011211254574901178,
          0.000013749427001919368,
          0.00001682248382672386,
          0.000020533868371000027,
          0.000025004982932883812,
          0.000030377881639668833,
          0.00003681828399449782,
          0.00004451893181933681,
          0.00005370331095305074,
          0.00006462975698815739,
          0.0000775959614153732,
          0.00009294389068295413,
          0.00011106512576151822,
          0.00013240662373329652,
          0.00015747689560562225,
          0.00018685258590373505,
          0.00022118542956812664,
          0.00026120955023123616,
          0.0003077490510715365,
          0.00036172583516969704,
          0.0004241675766925546,
          0.0004962157474242292,
          0.000579133585319885,
          0.0006743138731035293,
          0.0007832863757539803,
          0.0009077247663730391,
          0.0010494528508207264,
          0.0012104498831111347,
          0.0013928547464255858,
          0.0015989687593090435,
          0.0018312568538096199,
          0.0020923468626747373,
          0.0023850266469298527,
          0.00271223879394312,
          0.0030770726201178994,
          0.0034827532223186577,
          0.003932627338634628,
          0.004430145802650577,
          0.004978842406451247,
          0.0055823090264319674,
          0.00624416691276239,
          0.0069680340980135215,
          0.007757488942768177,
          0.008616029905529937,
          0.00954703170022764,
          0.010553698086141611,
          0.011639011620965525,
          0.012805680796535551,
          0.014056085066844486,
          0.01539221836744301,
          0.01681563181215988,
          0.018327376335050567,
          0.019927946120309306,
          0.021617223728210497,
          0.023394427878642696,
          0.025258064893205864,
          0.027205884820042242,
          0.029234843270657652,
          0.03134106998334622,
          0.03351984509217976,
          0.03576558402300888,
          0.03807183185814892,
          0.040431267909513235,
          0.04283572111657639,
          0.045276196741933124,
          0.04774291467518194,
          0.050225359477768974,
          0.05271234211019613,
          0.05519207308201787,
          0.057652246558158635,
          0.060080134746450437,
          0.06246269168535903,
          0.06478666535222827,
          0.06703871682565367,
          0.06920554506535734,
          0.0712740157235164
         ]
        },
        {
         "fill": "tozeroy",
         "line": {
          "color": "rgb(239,85,59)"
         },
         "name": "부적합",
         "text": "0.2802943598724571",
         "type": "scatter",
         "x": [
          18,
          18.181818181818183,
          18.363636363636363,
          18.545454545454547,
          18.727272727272727,
          18.90909090909091,
          19.09090909090909,
          19.272727272727273,
          19.454545454545453,
          19.636363636363637,
          19.81818181818182,
          20,
          20.18181818181818,
          20.363636363636363,
          20.545454545454547,
          20.727272727272727,
          20.90909090909091,
          21.09090909090909,
          21.272727272727273,
          21.454545454545453,
          21.636363636363637,
          21.81818181818182,
          22,
          22.18181818181818,
          22.363636363636363,
          22.545454545454547,
          22.727272727272727,
          22.90909090909091,
          23.09090909090909,
          23.272727272727273,
          23.454545454545453,
          23.636363636363637,
          23.81818181818182,
          24,
          24.18181818181818,
          24.363636363636363,
          24.545454545454547,
          24.727272727272727,
          24.90909090909091,
          25.09090909090909,
          25.272727272727273,
          25.454545454545453,
          25.636363636363637,
          25.81818181818182,
          26,
          26.18181818181818,
          26.363636363636363,
          26.545454545454547,
          26.727272727272727,
          26.90909090909091,
          27.090909090909093,
          27.272727272727273,
          27.454545454545453,
          27.636363636363637,
          27.81818181818182,
          28,
          28.18181818181818,
          28.363636363636363,
          28.545454545454547,
          28.727272727272727,
          28.90909090909091,
          29.090909090909093,
          29.272727272727273,
          29.454545454545453,
          29.636363636363637,
          29.81818181818182,
          30,
          30.18181818181818,
          30.363636363636363,
          30.545454545454547,
          30.727272727272727,
          30.90909090909091,
          31.090909090909093,
          31.272727272727273,
          31.454545454545453,
          31.636363636363637,
          31.81818181818182,
          32,
          32.18181818181818,
          32.36363636363636,
          32.54545454545455,
          32.72727272727273,
          32.90909090909091,
          33.09090909090909,
          33.27272727272727,
          33.45454545454545,
          33.63636363636364,
          33.81818181818182,
          34,
          34.18181818181819,
          34.36363636363636,
          34.54545454545455,
          34.72727272727273,
          34.90909090909091,
          35.09090909090909,
          35.27272727272727,
          35.45454545454545,
          35.63636363636364,
          35.81818181818182,
          36
         ],
         "y": [
          0.0712740157235164,
          0.07283408425109221,
          0.07431819100672092,
          0.07572035224567315,
          0.07703483405703317,
          0.07825619131216846,
          0.07937930516416933,
          0.08039941873767469,
          0.0813121706613899,
          0.08211362611284109,
          0.08280030506632696,
          0.08336920746039918,
          0.08381783503023003,
          0.08414420958256477,
          0.0843468875262032,
          0.08442497050866297,
          0.08437811204935623,
          0.08420652010074552,
          0.08391095551098673,
          0.08349272640396369,
          0.08295367853480118,
          0.08229618172035678,
          0.08152311248428418,
          0.08063783309450898,
          0.07964416720686349,
          0.07854637236173258,
          0.0773491096104532,
          0.07605741057452373,
          0.07467664226310919,
          0.07321246999262826,
          0.07167081876619816,
          0.07005783348027578,
          0.06837983833092139,
          0.06664329579273959,
          0.06485476553980621,
          0.06302086366991133,
          0.061148222581442216,
          0.05924345183645155,
          0.05731310032421255,
          0.05536362001720036,
          0.053401331586339924,
          0.05143239211494173,
          0.04946276512143193,
          0.04749819307022952,
          0.045544172518370965,
          0.04360593201319189,
          0.04168841282398123,
          0.03979625255845463,
          0.03793377168355462,
          0.036104962939852873,
          0.03431348361005005,
          0.03256265057504833,
          0.03085543806608535,
          0.02919447799868826,
          0.027582062753920784,
          0.026020150254693404,
          0.02451037116988314,
          0.023054038066716662,
          0.021652156322318983,
          0.020305436598489716,
          0.019014308679574016,
          0.01777893647164333,
          0.016599233961960662,
          0.01547488194072001,
          0.014405345292137493,
          0.013389890668934479,
          0.012427604372878716,
          0.011517410274115984,
          0.01065808761330351,
          0.009848288542819076,
          0.00908655527633882,
          0.008371336729631022,
          0.007701004549289654,
          0.007073868440127256,
          0.006488190715876536,
          0.005942200011538372,
          0.0054341041090066105,
          0.0049621018403598,
          0.004524394045317076,
          0.004119193570710929,
          0.00374473431035189,
          0.0033992792932885057,
          0.0030811278371543445,
          0.002788621791017847,
          0.0025201508988967,
          0.002274157320872395,
          0.002049139353558844,
          0.001843654395570028,
          0.00165632120663561,
          0.00148582151117831,
          0.00133090099854674,
          0.0011903697727538947,
          0.001063102304569336,
          0.0009480369382183133,
          0.0008441750038245618,
          0.0007505795851618872,
          0.000666373990322505,
          0.0005907399706328035,
          0.0005229157306131386,
          0.0004621937690477559
         ]
        }
       ],
       "layout": {
        "annotations": [
         {
          "bordercolor": "rgb(100,110,250)",
          "borderwidth": 2,
          "font": {
           "color": "rgb(100,110,250)",
           "size": 15
          },
          "showarrow": false,
          "text": "0.28",
          "x": 18,
          "xshift": -40,
          "y": 0.0712740157235164,
          "yshift": -100
         },
         {
          "bordercolor": "rgb(239,85,59)",
          "borderwidth": 2,
          "font": {
           "color": "rgb(239,85,59)",
           "size": 15
          },
          "showarrow": false,
          "text": "0.72",
          "x": 18,
          "xshift": 40,
          "y": 0.0712740157235164,
          "yshift": -100
         }
        ],
        "template": {
         "data": {
          "bar": [
           {
            "error_x": {
             "color": "#2a3f5f"
            },
            "error_y": {
             "color": "#2a3f5f"
            },
            "marker": {
             "line": {
              "color": "#E5ECF6",
              "width": 0.5
             },
             "pattern": {
              "fillmode": "overlay",
              "size": 10,
              "solidity": 0.2
             }
            },
            "type": "bar"
           }
          ],
          "barpolar": [
           {
            "marker": {
             "line": {
              "color": "#E5ECF6",
              "width": 0.5
             },
             "pattern": {
              "fillmode": "overlay",
              "size": 10,
              "solidity": 0.2
             }
            },
            "type": "barpolar"
           }
          ],
          "carpet": [
           {
            "aaxis": {
             "endlinecolor": "#2a3f5f",
             "gridcolor": "white",
             "linecolor": "white",
             "minorgridcolor": "white",
             "startlinecolor": "#2a3f5f"
            },
            "baxis": {
             "endlinecolor": "#2a3f5f",
             "gridcolor": "white",
             "linecolor": "white",
             "minorgridcolor": "white",
             "startlinecolor": "#2a3f5f"
            },
            "type": "carpet"
           }
          ],
          "choropleth": [
           {
            "colorbar": {
             "outlinewidth": 0,
             "ticks": ""
            },
            "type": "choropleth"
           }
          ],
          "contour": [
           {
            "colorbar": {
             "outlinewidth": 0,
             "ticks": ""
            },
            "colorscale": [
             [
              0,
              "#0d0887"
             ],
             [
              0.1111111111111111,
              "#46039f"
             ],
             [
              0.2222222222222222,
              "#7201a8"
             ],
             [
              0.3333333333333333,
              "#9c179e"
             ],
             [
              0.4444444444444444,
              "#bd3786"
             ],
             [
              0.5555555555555556,
              "#d8576b"
             ],
             [
              0.6666666666666666,
              "#ed7953"
             ],
             [
              0.7777777777777778,
              "#fb9f3a"
             ],
             [
              0.8888888888888888,
              "#fdca26"
             ],
             [
              1,
              "#f0f921"
             ]
            ],
            "type": "contour"
           }
          ],
          "contourcarpet": [
           {
            "colorbar": {
             "outlinewidth": 0,
             "ticks": ""
            },
            "type": "contourcarpet"
           }
          ],
          "heatmap": [
           {
            "colorbar": {
             "outlinewidth": 0,
             "ticks": ""
            },
            "colorscale": [
             [
              0,
              "#0d0887"
             ],
             [
              0.1111111111111111,
              "#46039f"
             ],
             [
              0.2222222222222222,
              "#7201a8"
             ],
             [
              0.3333333333333333,
              "#9c179e"
             ],
             [
              0.4444444444444444,
              "#bd3786"
             ],
             [
              0.5555555555555556,
              "#d8576b"
             ],
             [
              0.6666666666666666,
              "#ed7953"
             ],
             [
              0.7777777777777778,
              "#fb9f3a"
             ],
             [
              0.8888888888888888,
              "#fdca26"
             ],
             [
              1,
              "#f0f921"
             ]
            ],
            "type": "heatmap"
           }
          ],
          "heatmapgl": [
           {
            "colorbar": {
             "outlinewidth": 0,
             "ticks": ""
            },
            "colorscale": [
             [
              0,
              "#0d0887"
             ],
             [
              0.1111111111111111,
              "#46039f"
             ],
             [
              0.2222222222222222,
              "#7201a8"
             ],
             [
              0.3333333333333333,
              "#9c179e"
             ],
             [
              0.4444444444444444,
              "#bd3786"
             ],
             [
              0.5555555555555556,
              "#d8576b"
             ],
             [
              0.6666666666666666,
              "#ed7953"
             ],
             [
              0.7777777777777778,
              "#fb9f3a"
             ],
             [
              0.8888888888888888,
              "#fdca26"
             ],
             [
              1,
              "#f0f921"
             ]
            ],
            "type": "heatmapgl"
           }
          ],
          "histogram": [
           {
            "marker": {
             "pattern": {
              "fillmode": "overlay",
              "size": 10,
              "solidity": 0.2
             }
            },
            "type": "histogram"
           }
          ],
          "histogram2d": [
           {
            "colorbar": {
             "outlinewidth": 0,
             "ticks": ""
            },
            "colorscale": [
             [
              0,
              "#0d0887"
             ],
             [
              0.1111111111111111,
              "#46039f"
             ],
             [
              0.2222222222222222,
              "#7201a8"
             ],
             [
              0.3333333333333333,
              "#9c179e"
             ],
             [
              0.4444444444444444,
              "#bd3786"
             ],
             [
              0.5555555555555556,
              "#d8576b"
             ],
             [
              0.6666666666666666,
              "#ed7953"
             ],
             [
              0.7777777777777778,
              "#fb9f3a"
             ],
             [
              0.8888888888888888,
              "#fdca26"
             ],
             [
              1,
              "#f0f921"
             ]
            ],
            "type": "histogram2d"
           }
          ],
          "histogram2dcontour": [
           {
            "colorbar": {
             "outlinewidth": 0,
             "ticks": ""
            },
            "colorscale": [
             [
              0,
              "#0d0887"
             ],
             [
              0.1111111111111111,
              "#46039f"
             ],
             [
              0.2222222222222222,
              "#7201a8"
             ],
             [
              0.3333333333333333,
              "#9c179e"
             ],
             [
              0.4444444444444444,
              "#bd3786"
             ],
             [
              0.5555555555555556,
              "#d8576b"
             ],
             [
              0.6666666666666666,
              "#ed7953"
             ],
             [
              0.7777777777777778,
              "#fb9f3a"
             ],
             [
              0.8888888888888888,
              "#fdca26"
             ],
             [
              1,
              "#f0f921"
             ]
            ],
            "type": "histogram2dcontour"
           }
          ],
          "mesh3d": [
           {
            "colorbar": {
             "outlinewidth": 0,
             "ticks": ""
            },
            "type": "mesh3d"
           }
          ],
          "parcoords": [
           {
            "line": {
             "colorbar": {
              "outlinewidth": 0,
              "ticks": ""
             }
            },
            "type": "parcoords"
           }
          ],
          "pie": [
           {
            "automargin": true,
            "type": "pie"
           }
          ],
          "scatter": [
           {
            "marker": {
             "colorbar": {
              "outlinewidth": 0,
              "ticks": ""
             }
            },
            "type": "scatter"
           }
          ],
          "scatter3d": [
           {
            "line": {
             "colorbar": {
              "outlinewidth": 0,
              "ticks": ""
             }
            },
            "marker": {
             "colorbar": {
              "outlinewidth": 0,
              "ticks": ""
             }
            },
            "type": "scatter3d"
           }
          ],
          "scattercarpet": [
           {
            "marker": {
             "colorbar": {
              "outlinewidth": 0,
              "ticks": ""
             }
            },
            "type": "scattercarpet"
           }
          ],
          "scattergeo": [
           {
            "marker": {
             "colorbar": {
              "outlinewidth": 0,
              "ticks": ""
             }
            },
            "type": "scattergeo"
           }
          ],
          "scattergl": [
           {
            "marker": {
             "colorbar": {
              "outlinewidth": 0,
              "ticks": ""
             }
            },
            "type": "scattergl"
           }
          ],
          "scattermapbox": [
           {
            "marker": {
             "colorbar": {
              "outlinewidth": 0,
              "ticks": ""
             }
            },
            "type": "scattermapbox"
           }
          ],
          "scatterpolar": [
           {
            "marker": {
             "colorbar": {
              "outlinewidth": 0,
              "ticks": ""
             }
            },
            "type": "scatterpolar"
           }
          ],
          "scatterpolargl": [
           {
            "marker": {
             "colorbar": {
              "outlinewidth": 0,
              "ticks": ""
             }
            },
            "type": "scatterpolargl"
           }
          ],
          "scatterternary": [
           {
            "marker": {
             "colorbar": {
              "outlinewidth": 0,
              "ticks": ""
             }
            },
            "type": "scatterternary"
           }
          ],
          "surface": [
           {
            "colorbar": {
             "outlinewidth": 0,
             "ticks": ""
            },
            "colorscale": [
             [
              0,
              "#0d0887"
             ],
             [
              0.1111111111111111,
              "#46039f"
             ],
             [
              0.2222222222222222,
              "#7201a8"
             ],
             [
              0.3333333333333333,
              "#9c179e"
             ],
             [
              0.4444444444444444,
              "#bd3786"
             ],
             [
              0.5555555555555556,
              "#d8576b"
             ],
             [
              0.6666666666666666,
              "#ed7953"
             ],
             [
              0.7777777777777778,
              "#fb9f3a"
             ],
             [
              0.8888888888888888,
              "#fdca26"
             ],
             [
              1,
              "#f0f921"
             ]
            ],
            "type": "surface"
           }
          ],
          "table": [
           {
            "cells": {
             "fill": {
              "color": "#EBF0F8"
             },
             "line": {
              "color": "white"
             }
            },
            "header": {
             "fill": {
              "color": "#C8D4E3"
             },
             "line": {
              "color": "white"
             }
            },
            "type": "table"
           }
          ]
         },
         "layout": {
          "annotationdefaults": {
           "arrowcolor": "#2a3f5f",
           "arrowhead": 0,
           "arrowwidth": 1
          },
          "autotypenumbers": "strict",
          "coloraxis": {
           "colorbar": {
            "outlinewidth": 0,
            "ticks": ""
           }
          },
          "colorscale": {
           "diverging": [
            [
             0,
             "#8e0152"
            ],
            [
             0.1,
             "#c51b7d"
            ],
            [
             0.2,
             "#de77ae"
            ],
            [
             0.3,
             "#f1b6da"
            ],
            [
             0.4,
             "#fde0ef"
            ],
            [
             0.5,
             "#f7f7f7"
            ],
            [
             0.6,
             "#e6f5d0"
            ],
            [
             0.7,
             "#b8e186"
            ],
            [
             0.8,
             "#7fbc41"
            ],
            [
             0.9,
             "#4d9221"
            ],
            [
             1,
             "#276419"
            ]
           ],
           "sequential": [
            [
             0,
             "#0d0887"
            ],
            [
             0.1111111111111111,
             "#46039f"
            ],
            [
             0.2222222222222222,
             "#7201a8"
            ],
            [
             0.3333333333333333,
             "#9c179e"
            ],
            [
             0.4444444444444444,
             "#bd3786"
            ],
            [
             0.5555555555555556,
             "#d8576b"
            ],
            [
             0.6666666666666666,
             "#ed7953"
            ],
            [
             0.7777777777777778,
             "#fb9f3a"
            ],
            [
             0.8888888888888888,
             "#fdca26"
            ],
            [
             1,
             "#f0f921"
            ]
           ],
           "sequentialminus": [
            [
             0,
             "#0d0887"
            ],
            [
             0.1111111111111111,
             "#46039f"
            ],
            [
             0.2222222222222222,
             "#7201a8"
            ],
            [
             0.3333333333333333,
             "#9c179e"
            ],
            [
             0.4444444444444444,
             "#bd3786"
            ],
            [
             0.5555555555555556,
             "#d8576b"
            ],
            [
             0.6666666666666666,
             "#ed7953"
            ],
            [
             0.7777777777777778,
             "#fb9f3a"
            ],
            [
             0.8888888888888888,
             "#fdca26"
            ],
            [
             1,
             "#f0f921"
            ]
           ]
          },
          "colorway": [
           "#636efa",
           "#EF553B",
           "#00cc96",
           "#ab63fa",
           "#FFA15A",
           "#19d3f3",
           "#FF6692",
           "#B6E880",
           "#FF97FF",
           "#FECB52"
          ],
          "font": {
           "color": "#2a3f5f"
          },
          "geo": {
           "bgcolor": "white",
           "lakecolor": "white",
           "landcolor": "#E5ECF6",
           "showlakes": true,
           "showland": true,
           "subunitcolor": "white"
          },
          "hoverlabel": {
           "align": "left"
          },
          "hovermode": "closest",
          "mapbox": {
           "style": "light"
          },
          "paper_bgcolor": "white",
          "plot_bgcolor": "#E5ECF6",
          "polar": {
           "angularaxis": {
            "gridcolor": "white",
            "linecolor": "white",
            "ticks": ""
           },
           "bgcolor": "#E5ECF6",
           "radialaxis": {
            "gridcolor": "white",
            "linecolor": "white",
            "ticks": ""
           }
          },
          "scene": {
           "xaxis": {
            "backgroundcolor": "#E5ECF6",
            "gridcolor": "white",
            "gridwidth": 2,
            "linecolor": "white",
            "showbackground": true,
            "ticks": "",
            "zerolinecolor": "white"
           },
           "yaxis": {
            "backgroundcolor": "#E5ECF6",
            "gridcolor": "white",
            "gridwidth": 2,
            "linecolor": "white",
            "showbackground": true,
            "ticks": "",
            "zerolinecolor": "white"
           },
           "zaxis": {
            "backgroundcolor": "#E5ECF6",
            "gridcolor": "white",
            "gridwidth": 2,
            "linecolor": "white",
            "showbackground": true,
            "ticks": "",
            "zerolinecolor": "white"
           }
          },
          "shapedefaults": {
           "line": {
            "color": "#2a3f5f"
           }
          },
          "ternary": {
           "aaxis": {
            "gridcolor": "white",
            "linecolor": "white",
            "ticks": ""
           },
           "baxis": {
            "gridcolor": "white",
            "linecolor": "white",
            "ticks": ""
           },
           "bgcolor": "#E5ECF6",
           "caxis": {
            "gridcolor": "white",
            "linecolor": "white",
            "ticks": ""
           }
          },
          "title": {
           "x": 0.05
          },
          "xaxis": {
           "automargin": true,
           "gridcolor": "white",
           "linecolor": "white",
           "ticks": "",
           "title": {
            "standoff": 15
           },
           "zerolinecolor": "white",
           "zerolinewidth": 2
          },
          "yaxis": {
           "automargin": true,
           "gridcolor": "white",
           "linecolor": "white",
           "ticks": "",
           "title": {
            "standoff": 15
           },
           "zerolinecolor": "white",
           "zerolinewidth": 2
          }
         }
        }
       }
      }
     },
     "metadata": {},
     "output_type": "display_data"
    }
   ],
   "source": [
    "busan_pm10 = df_pm10[df_pm10['구분(2)']=='부산광역시'].loc[2,'2021.07']\n",
    "pm10_pro = cal_norm(mean,std,min,max,busan_pm10)"
   ]
  },
  {
   "cell_type": "markdown",
   "metadata": {
    "collapsed": false
   },
   "source": [
    "## 상위 요소 - 사회적 요인"
   ]
  },
  {
   "cell_type": "markdown",
   "metadata": {
    "collapsed": false
   },
   "source": [
    "### 행정구역 인구 데이터 불러오기"
   ]
  },
  {
   "cell_type": "code",
   "execution_count": 768,
   "metadata": {
    "collapsed": false,
    "pycharm": {
     "name": "#%%\n"
    }
   },
   "outputs": [
    {
     "data": {
      "text/html": [
       "<div>\n",
       "<style scoped>\n",
       "    .dataframe tbody tr th:only-of-type {\n",
       "        vertical-align: middle;\n",
       "    }\n",
       "\n",
       "    .dataframe tbody tr th {\n",
       "        vertical-align: top;\n",
       "    }\n",
       "\n",
       "    .dataframe thead th {\n",
       "        text-align: right;\n",
       "    }\n",
       "</style>\n",
       "<table border=\"1\" class=\"dataframe\">\n",
       "  <thead>\n",
       "    <tr style=\"text-align: right;\">\n",
       "      <th></th>\n",
       "      <th>행정구역(시군구)별</th>\n",
       "      <th>총인구수 (명)</th>\n",
       "    </tr>\n",
       "  </thead>\n",
       "  <tbody>\n",
       "    <tr>\n",
       "      <th>0</th>\n",
       "      <td>전국</td>\n",
       "      <td>51592660</td>\n",
       "    </tr>\n",
       "    <tr>\n",
       "      <th>1</th>\n",
       "      <td>서울특별시</td>\n",
       "      <td>9500480</td>\n",
       "    </tr>\n",
       "    <tr>\n",
       "      <th>2</th>\n",
       "      <td>종로구</td>\n",
       "      <td>144005</td>\n",
       "    </tr>\n",
       "    <tr>\n",
       "      <th>3</th>\n",
       "      <td>중구</td>\n",
       "      <td>122087</td>\n",
       "    </tr>\n",
       "    <tr>\n",
       "      <th>4</th>\n",
       "      <td>용산구</td>\n",
       "      <td>222009</td>\n",
       "    </tr>\n",
       "    <tr>\n",
       "      <th>...</th>\n",
       "      <td>...</td>\n",
       "      <td>...</td>\n",
       "    </tr>\n",
       "    <tr>\n",
       "      <th>287</th>\n",
       "      <td>거창군</td>\n",
       "      <td>60756</td>\n",
       "    </tr>\n",
       "    <tr>\n",
       "      <th>288</th>\n",
       "      <td>합천군</td>\n",
       "      <td>42613</td>\n",
       "    </tr>\n",
       "    <tr>\n",
       "      <th>289</th>\n",
       "      <td>제주특별자치도</td>\n",
       "      <td>677413</td>\n",
       "    </tr>\n",
       "    <tr>\n",
       "      <th>290</th>\n",
       "      <td>제주시</td>\n",
       "      <td>493076</td>\n",
       "    </tr>\n",
       "    <tr>\n",
       "      <th>291</th>\n",
       "      <td>서귀포시</td>\n",
       "      <td>184337</td>\n",
       "    </tr>\n",
       "  </tbody>\n",
       "</table>\n",
       "<p>292 rows × 2 columns</p>\n",
       "</div>"
      ],
      "text/plain": [
       "    행정구역(시군구)별  총인구수 (명)\n",
       "0           전국  51592660\n",
       "1        서울특별시   9500480\n",
       "2          종로구    144005\n",
       "3           중구    122087\n",
       "4          용산구    222009\n",
       "..         ...       ...\n",
       "287        거창군     60756\n",
       "288        합천군     42613\n",
       "289    제주특별자치도    677413\n",
       "290        제주시    493076\n",
       "291       서귀포시    184337\n",
       "\n",
       "[292 rows x 2 columns]"
      ]
     },
     "execution_count": 768,
     "metadata": {},
     "output_type": "execute_result"
    }
   ],
   "source": [
    "people_file_path = 'C:\\\\Users\\\\SAMSUNG\\\\Desktop\\\\Green-Car-Charging-Station-Site-Selection\\\\Data\\\\행정구역_시군구_별__성별_인구수.csv'\n",
    "df_people = pd.read_csv(people_file_path, encoding='cp949', header=1)\n",
    "df_people"
   ]
  },
  {
   "cell_type": "code",
   "execution_count": 733,
   "metadata": {
    "collapsed": false,
    "pycharm": {
     "name": "#%%\n"
    }
   },
   "outputs": [
    {
     "name": "stdout",
     "output_type": "stream",
     "text": [
      "<class 'pandas.core.frame.DataFrame'>\n",
      "RangeIndex: 292 entries, 0 to 291\n",
      "Data columns (total 2 columns):\n",
      " #   Column      Non-Null Count  Dtype \n",
      "---  ------      --------------  ----- \n",
      " 0   행정구역(시군구)별  292 non-null    object\n",
      " 1   총인구수 (명)    292 non-null    int64 \n",
      "dtypes: int64(1), object(1)\n",
      "memory usage: 4.7+ KB\n"
     ]
    }
   ],
   "source": [
    "df_people.info()"
   ]
  },
  {
   "cell_type": "code",
   "execution_count": 734,
   "metadata": {
    "collapsed": false,
    "pycharm": {
     "name": "#%%\n"
    }
   },
   "outputs": [
    {
     "data": {
      "text/html": [
       "<div>\n",
       "<style scoped>\n",
       "    .dataframe tbody tr th:only-of-type {\n",
       "        vertical-align: middle;\n",
       "    }\n",
       "\n",
       "    .dataframe tbody tr th {\n",
       "        vertical-align: top;\n",
       "    }\n",
       "\n",
       "    .dataframe thead th {\n",
       "        text-align: right;\n",
       "    }\n",
       "</style>\n",
       "<table border=\"1\" class=\"dataframe\">\n",
       "  <thead>\n",
       "    <tr style=\"text-align: right;\">\n",
       "      <th></th>\n",
       "      <th>총인구수 (명)</th>\n",
       "    </tr>\n",
       "  </thead>\n",
       "  <tbody>\n",
       "    <tr>\n",
       "      <th>count</th>\n",
       "      <td>2.920000e+02</td>\n",
       "    </tr>\n",
       "    <tr>\n",
       "      <th>mean</th>\n",
       "      <td>5.614314e+05</td>\n",
       "    </tr>\n",
       "    <tr>\n",
       "      <th>std</th>\n",
       "      <td>3.176068e+06</td>\n",
       "    </tr>\n",
       "    <tr>\n",
       "      <th>min</th>\n",
       "      <td>0.000000e+00</td>\n",
       "    </tr>\n",
       "    <tr>\n",
       "      <th>25%</th>\n",
       "      <td>5.282050e+04</td>\n",
       "    </tr>\n",
       "    <tr>\n",
       "      <th>50%</th>\n",
       "      <td>1.935545e+05</td>\n",
       "    </tr>\n",
       "    <tr>\n",
       "      <th>75%</th>\n",
       "      <td>3.709285e+05</td>\n",
       "    </tr>\n",
       "    <tr>\n",
       "      <th>max</th>\n",
       "      <td>5.159266e+07</td>\n",
       "    </tr>\n",
       "  </tbody>\n",
       "</table>\n",
       "</div>"
      ],
      "text/plain": [
       "           총인구수 (명)\n",
       "count  2.920000e+02\n",
       "mean   5.614314e+05\n",
       "std    3.176068e+06\n",
       "min    0.000000e+00\n",
       "25%    5.282050e+04\n",
       "50%    1.935545e+05\n",
       "75%    3.709285e+05\n",
       "max    5.159266e+07"
      ]
     },
     "execution_count": 734,
     "metadata": {},
     "output_type": "execute_result"
    }
   ],
   "source": [
    "df_people.describe()"
   ]
  },
  {
   "cell_type": "markdown",
   "metadata": {},
   "source": [
    "### 부산광역시 인구 데이터 추출"
   ]
  },
  {
   "cell_type": "code",
   "execution_count": 775,
   "metadata": {},
   "outputs": [
    {
     "data": {
      "text/html": [
       "<div>\n",
       "<style scoped>\n",
       "    .dataframe tbody tr th:only-of-type {\n",
       "        vertical-align: middle;\n",
       "    }\n",
       "\n",
       "    .dataframe tbody tr th {\n",
       "        vertical-align: top;\n",
       "    }\n",
       "\n",
       "    .dataframe thead th {\n",
       "        text-align: right;\n",
       "    }\n",
       "</style>\n",
       "<table border=\"1\" class=\"dataframe\">\n",
       "  <thead>\n",
       "    <tr style=\"text-align: right;\">\n",
       "      <th></th>\n",
       "      <th>행정구역(시군구)별</th>\n",
       "      <th>총인구수 (명)</th>\n",
       "    </tr>\n",
       "  </thead>\n",
       "  <tbody>\n",
       "    <tr>\n",
       "      <th>0</th>\n",
       "      <td>부산광역시</td>\n",
       "      <td>3340214</td>\n",
       "    </tr>\n",
       "    <tr>\n",
       "      <th>1</th>\n",
       "      <td>중구</td>\n",
       "      <td>40585</td>\n",
       "    </tr>\n",
       "    <tr>\n",
       "      <th>2</th>\n",
       "      <td>서구</td>\n",
       "      <td>103961</td>\n",
       "    </tr>\n",
       "    <tr>\n",
       "      <th>3</th>\n",
       "      <td>동구</td>\n",
       "      <td>88257</td>\n",
       "    </tr>\n",
       "    <tr>\n",
       "      <th>4</th>\n",
       "      <td>영도구</td>\n",
       "      <td>109407</td>\n",
       "    </tr>\n",
       "    <tr>\n",
       "      <th>5</th>\n",
       "      <td>부산진구</td>\n",
       "      <td>351022</td>\n",
       "    </tr>\n",
       "    <tr>\n",
       "      <th>6</th>\n",
       "      <td>동래구</td>\n",
       "      <td>273976</td>\n",
       "    </tr>\n",
       "    <tr>\n",
       "      <th>7</th>\n",
       "      <td>남구</td>\n",
       "      <td>260617</td>\n",
       "    </tr>\n",
       "    <tr>\n",
       "      <th>8</th>\n",
       "      <td>북구</td>\n",
       "      <td>280852</td>\n",
       "    </tr>\n",
       "    <tr>\n",
       "      <th>9</th>\n",
       "      <td>해운대구</td>\n",
       "      <td>393130</td>\n",
       "    </tr>\n",
       "    <tr>\n",
       "      <th>10</th>\n",
       "      <td>사하구</td>\n",
       "      <td>305556</td>\n",
       "    </tr>\n",
       "    <tr>\n",
       "      <th>11</th>\n",
       "      <td>금정구</td>\n",
       "      <td>225033</td>\n",
       "    </tr>\n",
       "    <tr>\n",
       "      <th>12</th>\n",
       "      <td>강서구</td>\n",
       "      <td>143638</td>\n",
       "    </tr>\n",
       "    <tr>\n",
       "      <th>13</th>\n",
       "      <td>연제구</td>\n",
       "      <td>206677</td>\n",
       "    </tr>\n",
       "    <tr>\n",
       "      <th>14</th>\n",
       "      <td>수영구</td>\n",
       "      <td>174633</td>\n",
       "    </tr>\n",
       "    <tr>\n",
       "      <th>15</th>\n",
       "      <td>사상구</td>\n",
       "      <td>206365</td>\n",
       "    </tr>\n",
       "    <tr>\n",
       "      <th>16</th>\n",
       "      <td>기장군</td>\n",
       "      <td>176505</td>\n",
       "    </tr>\n",
       "  </tbody>\n",
       "</table>\n",
       "</div>"
      ],
      "text/plain": [
       "   행정구역(시군구)별  총인구수 (명)\n",
       "0       부산광역시   3340214\n",
       "1          중구     40585\n",
       "2          서구    103961\n",
       "3          동구     88257\n",
       "4         영도구    109407\n",
       "5        부산진구    351022\n",
       "6         동래구    273976\n",
       "7          남구    260617\n",
       "8          북구    280852\n",
       "9        해운대구    393130\n",
       "10        사하구    305556\n",
       "11        금정구    225033\n",
       "12        강서구    143638\n",
       "13        연제구    206677\n",
       "14        수영구    174633\n",
       "15        사상구    206365\n",
       "16        기장군    176505"
      ]
     },
     "execution_count": 775,
     "metadata": {},
     "output_type": "execute_result"
    }
   ],
   "source": [
    "df_busan_people = df_people[27:44]\n",
    "df_busan_people = df_busan_people.reset_index()\n",
    "df_busan_people.drop(columns='index',inplace=True)\n",
    "df_busan_people"
   ]
  },
  {
   "cell_type": "code",
   "execution_count": null,
   "metadata": {},
   "outputs": [],
   "source": [
    "cal_norm(df_busan_people.mean(), df_busan_people.std(), df_busan_people.min(), df_busan_people.max(), df_busan_people[df_busan_people['행정구역(시군구)별']=='사하구'])"
   ]
  },
  {
   "cell_type": "markdown",
   "metadata": {},
   "source": [
    "### 유동인구 데이터 불러오기"
   ]
  },
  {
   "cell_type": "code",
   "execution_count": 735,
   "metadata": {},
   "outputs": [
    {
     "data": {
      "text/html": [
       "<div>\n",
       "<style scoped>\n",
       "    .dataframe tbody tr th:only-of-type {\n",
       "        vertical-align: middle;\n",
       "    }\n",
       "\n",
       "    .dataframe tbody tr th {\n",
       "        vertical-align: top;\n",
       "    }\n",
       "\n",
       "    .dataframe thead th {\n",
       "        text-align: right;\n",
       "    }\n",
       "</style>\n",
       "<table border=\"1\" class=\"dataframe\">\n",
       "  <thead>\n",
       "    <tr style=\"text-align: right;\">\n",
       "      <th></th>\n",
       "      <th>구군</th>\n",
       "      <th>1월</th>\n",
       "      <th>2월</th>\n",
       "      <th>3월</th>\n",
       "      <th>4월</th>\n",
       "      <th>5월</th>\n",
       "      <th>6월</th>\n",
       "      <th>7월</th>\n",
       "      <th>8월</th>\n",
       "      <th>9월</th>\n",
       "      <th>10월</th>\n",
       "      <th>11월</th>\n",
       "      <th>12월</th>\n",
       "      <th>월 평균</th>\n",
       "    </tr>\n",
       "  </thead>\n",
       "  <tbody>\n",
       "    <tr>\n",
       "      <th>0</th>\n",
       "      <td>강서구</td>\n",
       "      <td>325,284.39</td>\n",
       "      <td>323,049.87</td>\n",
       "      <td>335,120.06</td>\n",
       "      <td>340,570.52</td>\n",
       "      <td>332,289.77</td>\n",
       "      <td>340,678.45</td>\n",
       "      <td>337,488.64</td>\n",
       "      <td>328,374.74</td>\n",
       "      <td>328,764.38</td>\n",
       "      <td>333,414.26</td>\n",
       "      <td>340,405.10</td>\n",
       "      <td>337,753.15</td>\n",
       "      <td>333,599.44</td>\n",
       "    </tr>\n",
       "    <tr>\n",
       "      <th>1</th>\n",
       "      <td>금정구</td>\n",
       "      <td>482,598.89</td>\n",
       "      <td>477,047.11</td>\n",
       "      <td>484,669.59</td>\n",
       "      <td>490,864.46</td>\n",
       "      <td>487,435.45</td>\n",
       "      <td>484,936.00</td>\n",
       "      <td>483,898.58</td>\n",
       "      <td>482,964.23</td>\n",
       "      <td>487,082.06</td>\n",
       "      <td>484,633.90</td>\n",
       "      <td>485,502.59</td>\n",
       "      <td>488,392.99</td>\n",
       "      <td>485,002.15</td>\n",
       "    </tr>\n",
       "    <tr>\n",
       "      <th>2</th>\n",
       "      <td>기장군</td>\n",
       "      <td>341,181.17</td>\n",
       "      <td>343,398.79</td>\n",
       "      <td>342,489.52</td>\n",
       "      <td>345,184.20</td>\n",
       "      <td>348,793.68</td>\n",
       "      <td>348,500.32</td>\n",
       "      <td>350,763.40</td>\n",
       "      <td>349,328.59</td>\n",
       "      <td>348,077.97</td>\n",
       "      <td>348,449.77</td>\n",
       "      <td>345,905.89</td>\n",
       "      <td>344,245.29</td>\n",
       "      <td>346,359.88</td>\n",
       "    </tr>\n",
       "    <tr>\n",
       "      <th>3</th>\n",
       "      <td>남구</td>\n",
       "      <td>539,072.58</td>\n",
       "      <td>526,693.91</td>\n",
       "      <td>524,611.67</td>\n",
       "      <td>524,961.53</td>\n",
       "      <td>526,758.54</td>\n",
       "      <td>531,078.89</td>\n",
       "      <td>529,810.42</td>\n",
       "      <td>530,199.16</td>\n",
       "      <td>531,658.35</td>\n",
       "      <td>525,870.37</td>\n",
       "      <td>528,106.40</td>\n",
       "      <td>531,610.18</td>\n",
       "      <td>529,202.67</td>\n",
       "    </tr>\n",
       "    <tr>\n",
       "      <th>4</th>\n",
       "      <td>동구</td>\n",
       "      <td>185,466.33</td>\n",
       "      <td>185,459.30</td>\n",
       "      <td>189,082.61</td>\n",
       "      <td>192,702.25</td>\n",
       "      <td>189,819.14</td>\n",
       "      <td>191,618.73</td>\n",
       "      <td>189,864.16</td>\n",
       "      <td>189,368.74</td>\n",
       "      <td>190,328.67</td>\n",
       "      <td>191,182.03</td>\n",
       "      <td>194,732.77</td>\n",
       "      <td>193,341.86</td>\n",
       "      <td>190,247.22</td>\n",
       "    </tr>\n",
       "    <tr>\n",
       "      <th>5</th>\n",
       "      <td>동래구</td>\n",
       "      <td>553,655.76</td>\n",
       "      <td>549,718.60</td>\n",
       "      <td>543,091.96</td>\n",
       "      <td>535,439.53</td>\n",
       "      <td>533,908.61</td>\n",
       "      <td>528,124.07</td>\n",
       "      <td>527,730.64</td>\n",
       "      <td>525,468.79</td>\n",
       "      <td>532,656.70</td>\n",
       "      <td>527,498.20</td>\n",
       "      <td>520,126.56</td>\n",
       "      <td>524,788.88</td>\n",
       "      <td>533,517.36</td>\n",
       "    </tr>\n",
       "    <tr>\n",
       "      <th>6</th>\n",
       "      <td>부산진구</td>\n",
       "      <td>757,261.10</td>\n",
       "      <td>760,742.04</td>\n",
       "      <td>760,212.63</td>\n",
       "      <td>761,728.33</td>\n",
       "      <td>765,460.09</td>\n",
       "      <td>764,636.01</td>\n",
       "      <td>759,638.81</td>\n",
       "      <td>754,837.78</td>\n",
       "      <td>763,942.81</td>\n",
       "      <td>761,731.75</td>\n",
       "      <td>763,818.34</td>\n",
       "      <td>768,957.14</td>\n",
       "      <td>761,913.90</td>\n",
       "    </tr>\n",
       "    <tr>\n",
       "      <th>7</th>\n",
       "      <td>북구</td>\n",
       "      <td>559,133.62</td>\n",
       "      <td>554,946.17</td>\n",
       "      <td>543,084.57</td>\n",
       "      <td>543,479.25</td>\n",
       "      <td>543,145.91</td>\n",
       "      <td>540,381.96</td>\n",
       "      <td>542,289.98</td>\n",
       "      <td>546,905.11</td>\n",
       "      <td>551,394.74</td>\n",
       "      <td>542,887.88</td>\n",
       "      <td>539,732.97</td>\n",
       "      <td>545,952.52</td>\n",
       "      <td>546,111.22</td>\n",
       "    </tr>\n",
       "    <tr>\n",
       "      <th>8</th>\n",
       "      <td>사상구</td>\n",
       "      <td>496,102.34</td>\n",
       "      <td>492,871.78</td>\n",
       "      <td>493,054.71</td>\n",
       "      <td>496,932.63</td>\n",
       "      <td>494,094.59</td>\n",
       "      <td>494,207.66</td>\n",
       "      <td>492,973.61</td>\n",
       "      <td>490,296.85</td>\n",
       "      <td>493,842.47</td>\n",
       "      <td>491,808.21</td>\n",
       "      <td>493,815.86</td>\n",
       "      <td>495,297.44</td>\n",
       "      <td>493,774.85</td>\n",
       "    </tr>\n",
       "    <tr>\n",
       "      <th>9</th>\n",
       "      <td>사하구</td>\n",
       "      <td>641,541.35</td>\n",
       "      <td>632,045.91</td>\n",
       "      <td>628,461.73</td>\n",
       "      <td>633,805.98</td>\n",
       "      <td>630,333.83</td>\n",
       "      <td>629,635.14</td>\n",
       "      <td>630,260.69</td>\n",
       "      <td>631,377.03</td>\n",
       "      <td>633,402.47</td>\n",
       "      <td>627,551.97</td>\n",
       "      <td>625,380.25</td>\n",
       "      <td>631,475.21</td>\n",
       "      <td>631,272.63</td>\n",
       "    </tr>\n",
       "    <tr>\n",
       "      <th>10</th>\n",
       "      <td>서구</td>\n",
       "      <td>244,816.18</td>\n",
       "      <td>247,144.65</td>\n",
       "      <td>246,832.32</td>\n",
       "      <td>249,028.55</td>\n",
       "      <td>245,968.42</td>\n",
       "      <td>232,053.80</td>\n",
       "      <td>230,458.90</td>\n",
       "      <td>229,377.92</td>\n",
       "      <td>228,929.31</td>\n",
       "      <td>225,006.09</td>\n",
       "      <td>222,113.90</td>\n",
       "      <td>223,835.54</td>\n",
       "      <td>235,463.80</td>\n",
       "    </tr>\n",
       "    <tr>\n",
       "      <th>11</th>\n",
       "      <td>수영구</td>\n",
       "      <td>339,989.93</td>\n",
       "      <td>335,887.41</td>\n",
       "      <td>345,588.95</td>\n",
       "      <td>358,682.04</td>\n",
       "      <td>356,153.28</td>\n",
       "      <td>344,222.04</td>\n",
       "      <td>345,425.50</td>\n",
       "      <td>342,987.83</td>\n",
       "      <td>342,228.84</td>\n",
       "      <td>340,723.32</td>\n",
       "      <td>340,813.55</td>\n",
       "      <td>345,960.31</td>\n",
       "      <td>344,888.58</td>\n",
       "    </tr>\n",
       "    <tr>\n",
       "      <th>12</th>\n",
       "      <td>연제구</td>\n",
       "      <td>394,132.20</td>\n",
       "      <td>390,539.12</td>\n",
       "      <td>393,604.79</td>\n",
       "      <td>396,276.36</td>\n",
       "      <td>394,296.80</td>\n",
       "      <td>399,403.98</td>\n",
       "      <td>401,469.81</td>\n",
       "      <td>400,414.71</td>\n",
       "      <td>398,036.79</td>\n",
       "      <td>395,250.20</td>\n",
       "      <td>398,436.74</td>\n",
       "      <td>401,486.80</td>\n",
       "      <td>396,945.69</td>\n",
       "    </tr>\n",
       "    <tr>\n",
       "      <th>13</th>\n",
       "      <td>영도구</td>\n",
       "      <td>248,178.99</td>\n",
       "      <td>246,981.20</td>\n",
       "      <td>242,904.23</td>\n",
       "      <td>243,650.92</td>\n",
       "      <td>245,374.40</td>\n",
       "      <td>244,196.20</td>\n",
       "      <td>243,830.89</td>\n",
       "      <td>244,457.54</td>\n",
       "      <td>244,665.84</td>\n",
       "      <td>242,981.94</td>\n",
       "      <td>241,042.77</td>\n",
       "      <td>240,790.94</td>\n",
       "      <td>244,087.99</td>\n",
       "    </tr>\n",
       "    <tr>\n",
       "      <th>14</th>\n",
       "      <td>중구</td>\n",
       "      <td>105,170.15</td>\n",
       "      <td>106,603.51</td>\n",
       "      <td>110,729.44</td>\n",
       "      <td>110,668.93</td>\n",
       "      <td>113,610.04</td>\n",
       "      <td>128,260.41</td>\n",
       "      <td>127,285.37</td>\n",
       "      <td>124,056.84</td>\n",
       "      <td>127,550.96</td>\n",
       "      <td>131,073.84</td>\n",
       "      <td>135,646.63</td>\n",
       "      <td>134,834.02</td>\n",
       "      <td>121,290.85</td>\n",
       "    </tr>\n",
       "    <tr>\n",
       "      <th>15</th>\n",
       "      <td>해운대구</td>\n",
       "      <td>867,047.22</td>\n",
       "      <td>871,849.92</td>\n",
       "      <td>858,675.53</td>\n",
       "      <td>862,845.41</td>\n",
       "      <td>867,445.21</td>\n",
       "      <td>867,936.68</td>\n",
       "      <td>875,772.89</td>\n",
       "      <td>871,029.74</td>\n",
       "      <td>864,691.10</td>\n",
       "      <td>864,549.71</td>\n",
       "      <td>863,913.89</td>\n",
       "      <td>878,342.31</td>\n",
       "      <td>867,841.63</td>\n",
       "    </tr>\n",
       "  </tbody>\n",
       "</table>\n",
       "</div>"
      ],
      "text/plain": [
       "      구군          1월          2월          3월          4월          5월  \\\n",
       "0    강서구  325,284.39  323,049.87  335,120.06  340,570.52  332,289.77   \n",
       "1    금정구  482,598.89  477,047.11  484,669.59  490,864.46  487,435.45   \n",
       "2    기장군  341,181.17  343,398.79  342,489.52  345,184.20  348,793.68   \n",
       "3     남구  539,072.58  526,693.91  524,611.67  524,961.53  526,758.54   \n",
       "4     동구  185,466.33  185,459.30  189,082.61  192,702.25  189,819.14   \n",
       "5    동래구  553,655.76  549,718.60  543,091.96  535,439.53  533,908.61   \n",
       "6   부산진구  757,261.10  760,742.04  760,212.63  761,728.33  765,460.09   \n",
       "7     북구  559,133.62  554,946.17  543,084.57  543,479.25  543,145.91   \n",
       "8    사상구  496,102.34  492,871.78  493,054.71  496,932.63  494,094.59   \n",
       "9    사하구  641,541.35  632,045.91  628,461.73  633,805.98  630,333.83   \n",
       "10    서구  244,816.18  247,144.65  246,832.32  249,028.55  245,968.42   \n",
       "11   수영구  339,989.93  335,887.41  345,588.95  358,682.04  356,153.28   \n",
       "12   연제구  394,132.20  390,539.12  393,604.79  396,276.36  394,296.80   \n",
       "13   영도구  248,178.99  246,981.20  242,904.23  243,650.92  245,374.40   \n",
       "14    중구  105,170.15  106,603.51  110,729.44  110,668.93  113,610.04   \n",
       "15  해운대구  867,047.22  871,849.92  858,675.53  862,845.41  867,445.21   \n",
       "\n",
       "            6월          7월          8월          9월         10월         11월  \\\n",
       "0   340,678.45  337,488.64  328,374.74  328,764.38  333,414.26  340,405.10   \n",
       "1   484,936.00  483,898.58  482,964.23  487,082.06  484,633.90  485,502.59   \n",
       "2   348,500.32  350,763.40  349,328.59  348,077.97  348,449.77  345,905.89   \n",
       "3   531,078.89  529,810.42  530,199.16  531,658.35  525,870.37  528,106.40   \n",
       "4   191,618.73  189,864.16  189,368.74  190,328.67  191,182.03  194,732.77   \n",
       "5   528,124.07  527,730.64  525,468.79  532,656.70  527,498.20  520,126.56   \n",
       "6   764,636.01  759,638.81  754,837.78  763,942.81  761,731.75  763,818.34   \n",
       "7   540,381.96  542,289.98  546,905.11  551,394.74  542,887.88  539,732.97   \n",
       "8   494,207.66  492,973.61  490,296.85  493,842.47  491,808.21  493,815.86   \n",
       "9   629,635.14  630,260.69  631,377.03  633,402.47  627,551.97  625,380.25   \n",
       "10  232,053.80  230,458.90  229,377.92  228,929.31  225,006.09  222,113.90   \n",
       "11  344,222.04  345,425.50  342,987.83  342,228.84  340,723.32  340,813.55   \n",
       "12  399,403.98  401,469.81  400,414.71  398,036.79  395,250.20  398,436.74   \n",
       "13  244,196.20  243,830.89  244,457.54  244,665.84  242,981.94  241,042.77   \n",
       "14  128,260.41  127,285.37  124,056.84  127,550.96  131,073.84  135,646.63   \n",
       "15  867,936.68  875,772.89  871,029.74  864,691.10  864,549.71  863,913.89   \n",
       "\n",
       "           12월        월 평균  \n",
       "0   337,753.15  333,599.44  \n",
       "1   488,392.99  485,002.15  \n",
       "2   344,245.29  346,359.88  \n",
       "3   531,610.18  529,202.67  \n",
       "4   193,341.86  190,247.22  \n",
       "5   524,788.88  533,517.36  \n",
       "6   768,957.14  761,913.90  \n",
       "7   545,952.52  546,111.22  \n",
       "8   495,297.44  493,774.85  \n",
       "9   631,475.21  631,272.63  \n",
       "10  223,835.54  235,463.80  \n",
       "11  345,960.31  344,888.58  \n",
       "12  401,486.80  396,945.69  \n",
       "13  240,790.94  244,087.99  \n",
       "14  134,834.02  121,290.85  \n",
       "15  878,342.31  867,841.63  "
      ]
     },
     "execution_count": 735,
     "metadata": {},
     "output_type": "execute_result"
    }
   ],
   "source": [
    "foottraffic_file_path = 'C:\\\\Users\\\\SAMSUNG\\\\Desktop\\\\Green-Car-Charging-Station-Site-Selection\\\\Data\\\\부산 유동인구 데이터.csv'\n",
    "df_foottraffic = pd.read_csv(foottraffic_file_path, encoding='cp949')\n",
    "df_foottraffic"
   ]
  },
  {
   "cell_type": "code",
   "execution_count": 736,
   "metadata": {},
   "outputs": [],
   "source": [
    "foottraffic_col = df_foottraffic.iloc[:,1:-1].columns.tolist()"
   ]
  },
  {
   "cell_type": "code",
   "execution_count": 737,
   "metadata": {},
   "outputs": [
    {
     "data": {
      "text/html": [
       "<div>\n",
       "<style scoped>\n",
       "    .dataframe tbody tr th:only-of-type {\n",
       "        vertical-align: middle;\n",
       "    }\n",
       "\n",
       "    .dataframe tbody tr th {\n",
       "        vertical-align: top;\n",
       "    }\n",
       "\n",
       "    .dataframe thead th {\n",
       "        text-align: right;\n",
       "    }\n",
       "</style>\n",
       "<table border=\"1\" class=\"dataframe\">\n",
       "  <thead>\n",
       "    <tr style=\"text-align: right;\">\n",
       "      <th></th>\n",
       "      <th>구군</th>\n",
       "      <th>월 평균</th>\n",
       "    </tr>\n",
       "  </thead>\n",
       "  <tbody>\n",
       "    <tr>\n",
       "      <th>0</th>\n",
       "      <td>강서구</td>\n",
       "      <td>333,599.44</td>\n",
       "    </tr>\n",
       "    <tr>\n",
       "      <th>1</th>\n",
       "      <td>금정구</td>\n",
       "      <td>485,002.15</td>\n",
       "    </tr>\n",
       "    <tr>\n",
       "      <th>2</th>\n",
       "      <td>기장군</td>\n",
       "      <td>346,359.88</td>\n",
       "    </tr>\n",
       "    <tr>\n",
       "      <th>3</th>\n",
       "      <td>남구</td>\n",
       "      <td>529,202.67</td>\n",
       "    </tr>\n",
       "    <tr>\n",
       "      <th>4</th>\n",
       "      <td>동구</td>\n",
       "      <td>190,247.22</td>\n",
       "    </tr>\n",
       "    <tr>\n",
       "      <th>5</th>\n",
       "      <td>동래구</td>\n",
       "      <td>533,517.36</td>\n",
       "    </tr>\n",
       "    <tr>\n",
       "      <th>6</th>\n",
       "      <td>부산진구</td>\n",
       "      <td>761,913.90</td>\n",
       "    </tr>\n",
       "    <tr>\n",
       "      <th>7</th>\n",
       "      <td>북구</td>\n",
       "      <td>546,111.22</td>\n",
       "    </tr>\n",
       "    <tr>\n",
       "      <th>8</th>\n",
       "      <td>사상구</td>\n",
       "      <td>493,774.85</td>\n",
       "    </tr>\n",
       "    <tr>\n",
       "      <th>9</th>\n",
       "      <td>사하구</td>\n",
       "      <td>631,272.63</td>\n",
       "    </tr>\n",
       "    <tr>\n",
       "      <th>10</th>\n",
       "      <td>서구</td>\n",
       "      <td>235,463.80</td>\n",
       "    </tr>\n",
       "    <tr>\n",
       "      <th>11</th>\n",
       "      <td>수영구</td>\n",
       "      <td>344,888.58</td>\n",
       "    </tr>\n",
       "    <tr>\n",
       "      <th>12</th>\n",
       "      <td>연제구</td>\n",
       "      <td>396,945.69</td>\n",
       "    </tr>\n",
       "    <tr>\n",
       "      <th>13</th>\n",
       "      <td>영도구</td>\n",
       "      <td>244,087.99</td>\n",
       "    </tr>\n",
       "    <tr>\n",
       "      <th>14</th>\n",
       "      <td>중구</td>\n",
       "      <td>121,290.85</td>\n",
       "    </tr>\n",
       "    <tr>\n",
       "      <th>15</th>\n",
       "      <td>해운대구</td>\n",
       "      <td>867,841.63</td>\n",
       "    </tr>\n",
       "  </tbody>\n",
       "</table>\n",
       "</div>"
      ],
      "text/plain": [
       "      구군        월 평균\n",
       "0    강서구  333,599.44\n",
       "1    금정구  485,002.15\n",
       "2    기장군  346,359.88\n",
       "3     남구  529,202.67\n",
       "4     동구  190,247.22\n",
       "5    동래구  533,517.36\n",
       "6   부산진구  761,913.90\n",
       "7     북구  546,111.22\n",
       "8    사상구  493,774.85\n",
       "9    사하구  631,272.63\n",
       "10    서구  235,463.80\n",
       "11   수영구  344,888.58\n",
       "12   연제구  396,945.69\n",
       "13   영도구  244,087.99\n",
       "14    중구  121,290.85\n",
       "15  해운대구  867,841.63"
      ]
     },
     "execution_count": 737,
     "metadata": {},
     "output_type": "execute_result"
    }
   ],
   "source": [
    "df_foottraffic.drop(columns=foottraffic_col, inplace=True)\n",
    "df_foottraffic"
   ]
  },
  {
   "cell_type": "code",
   "execution_count": 738,
   "metadata": {},
   "outputs": [],
   "source": [
    "advanced_replace(df_foottraffic, '월 평균','-',r'[^0-9.0-9]')\n",
    "df_foottraffic['월 평균'] = df_foottraffic['월 평균'].astype(float)"
   ]
  },
  {
   "cell_type": "code",
   "execution_count": 739,
   "metadata": {},
   "outputs": [
    {
     "data": {
      "text/html": [
       "<div>\n",
       "<style scoped>\n",
       "    .dataframe tbody tr th:only-of-type {\n",
       "        vertical-align: middle;\n",
       "    }\n",
       "\n",
       "    .dataframe tbody tr th {\n",
       "        vertical-align: top;\n",
       "    }\n",
       "\n",
       "    .dataframe thead th {\n",
       "        text-align: right;\n",
       "    }\n",
       "</style>\n",
       "<table border=\"1\" class=\"dataframe\">\n",
       "  <thead>\n",
       "    <tr style=\"text-align: right;\">\n",
       "      <th></th>\n",
       "      <th>월 평균</th>\n",
       "    </tr>\n",
       "  </thead>\n",
       "  <tbody>\n",
       "    <tr>\n",
       "      <th>count</th>\n",
       "      <td>16.000000</td>\n",
       "    </tr>\n",
       "    <tr>\n",
       "      <th>mean</th>\n",
       "      <td>441344.991250</td>\n",
       "    </tr>\n",
       "    <tr>\n",
       "      <th>std</th>\n",
       "      <td>205145.538509</td>\n",
       "    </tr>\n",
       "    <tr>\n",
       "      <th>min</th>\n",
       "      <td>121290.850000</td>\n",
       "    </tr>\n",
       "    <tr>\n",
       "      <th>25%</th>\n",
       "      <td>311221.577500</td>\n",
       "    </tr>\n",
       "    <tr>\n",
       "      <th>50%</th>\n",
       "      <td>440973.920000</td>\n",
       "    </tr>\n",
       "    <tr>\n",
       "      <th>75%</th>\n",
       "      <td>536665.825000</td>\n",
       "    </tr>\n",
       "    <tr>\n",
       "      <th>max</th>\n",
       "      <td>867841.630000</td>\n",
       "    </tr>\n",
       "  </tbody>\n",
       "</table>\n",
       "</div>"
      ],
      "text/plain": [
       "                월 평균\n",
       "count      16.000000\n",
       "mean   441344.991250\n",
       "std    205145.538509\n",
       "min    121290.850000\n",
       "25%    311221.577500\n",
       "50%    440973.920000\n",
       "75%    536665.825000\n",
       "max    867841.630000"
      ]
     },
     "execution_count": 739,
     "metadata": {},
     "output_type": "execute_result"
    }
   ],
   "source": [
    "df_foottraffic.describe()"
   ]
  },
  {
   "cell_type": "code",
   "execution_count": 740,
   "metadata": {},
   "outputs": [
    {
     "data": {
      "application/vnd.plotly.v1+json": {
       "config": {
        "plotlyServerURL": "https://plot.ly"
       },
       "data": [
        {
         "hovertemplate": "x=%{x}<br>y=%{y}<extra></extra>",
         "legendgroup": "",
         "line": {
          "color": "#636efa",
          "dash": "solid"
         },
         "mode": "lines",
         "name": "",
         "orientation": "v",
         "showlegend": false,
         "type": "scatter",
         "x": [
          -83854.6885088947,
          -74241.59438254223,
          -64628.500256189756,
          -55015.40612983729,
          -45402.31200348482,
          -35789.217877132345,
          -26176.12375077988,
          -16563.029624427407,
          -6949.935498074934,
          2663.158628277539,
          12276.252754630012,
          21889.346880982484,
          31502.441007334943,
          41115.535133687416,
          50728.62926003989,
          60341.723386392376,
          69954.81751274483,
          79567.91163909729,
          89181.00576544978,
          98794.09989180224,
          108407.19401815473,
          118020.28814450718,
          127633.38227085967,
          137246.47639721213,
          146859.5705235646,
          156472.66464991707,
          166085.75877626953,
          175698.85290262202,
          185311.94702897448,
          194925.04115532694,
          204538.13528167945,
          214151.2294080319,
          223764.32353438437,
          233377.41766073683,
          242990.5117870893,
          252603.6059134418,
          262216.70003979426,
          271829.7941661467,
          281442.8882924992,
          291055.9824188517,
          300669.07654520415,
          310282.1706715566,
          319895.26479790907,
          329508.3589242615,
          339121.45305061404,
          348734.5471769665,
          358347.64130331896,
          367960.7354296714,
          377573.8295560239,
          387186.9236823764,
          396800.01780872885,
          406413.1119350813,
          416026.20606143377,
          425639.3001877863,
          435252.39431413874,
          444865.4884404912,
          454478.58256684366,
          464091.6766931961,
          473704.7708195486,
          483317.86494590103,
          492930.9590722536,
          502544.05319860607,
          512157.1473249585,
          521770.241451311,
          531383.3355776635,
          540996.4297040158,
          550609.5238303684,
          560222.6179567208,
          569835.7120830733,
          579448.8062094259,
          589061.9003357782,
          598674.9944621308,
          608288.0885884832,
          617901.1827148357,
          627514.2768411881,
          637127.3709675407,
          646740.465093893,
          656353.5592202456,
          665966.6533465981,
          675579.7474729505,
          685192.8415993031,
          694805.9357256554,
          704419.029852008,
          714032.1239783603,
          723645.2181047129,
          733258.3122310652,
          742871.4063574178,
          752484.5004837704,
          762097.5946101227,
          771710.6887364753,
          781323.7828628276,
          790936.8769891802,
          800549.9711155326,
          810163.0652418851,
          819776.1593682375,
          829389.25349459,
          839002.3476209424,
          848615.441747295,
          858228.5358736475,
          867841.63
         ],
         "xaxis": "x",
         "y": [
          7.33846034047919e-8,
          8.264742723064996e-8,
          9.287526831684424e-8,
          1.041399055708089e-7,
          1.1651467632502156e-7,
          1.300739838908819e-7,
          1.4489273368061123e-7,
          1.6104569726200075e-7,
          1.7860680480461143e-7,
          1.976483675884135e-7,
          2.1824023356524052e-7,
          2.404488803744608e-7,
          2.64336451697711e-7,
          2.899597443704449e-7,
          3.1736915522387313e-7,
          3.4660759817975953e-7,
          3.7770940362982026e-7,
          4.1069921356606793e-7,
          4.455908872516666e-7,
          4.823864333960637e-7,
          5.210749857856623e-7,
          5.616318400852949e-7,
          6.04017570031352e-7,
          6.481772414526225e-7,
          6.940397424517289e-7,
          7.415172476354806e-7,
          7.905048334794646e-7,
          8.408802607406052e-7,
          8.925039382886181e-7,
          9.452190808189532e-7,
          9.988520706502213e-7,
          0.0000010532130312214232,
          0.0000011080966170206074,
          0.0000011632830215375124,
          0.0000012185392014871768,
          0.000001273620312055662,
          0.0000013282713443355532,
          0.0000013822289525157544,
          0.0000014352234548389057,
          0.0000014869809889145573,
          0.0000015372257987514286,
          0.0000015856826279208945,
          0.0000016320791906562963,
          0.0000016761486904938386,
          0.00000171763235432901,
          0.0000017562819485475411,
          0.000001791862243231863,
          0.0000018241533903716179,
          0.000001852953182536594,
          0.0000018780791596061365,
          0.000001899370532880975,
          0.0000019166898982084334,
          0.000001929924712594079,
          0.000001938988512103496,
          0.0000019438218526170766,
          0.000001944392959118559,
          0.000001940698073595815,
          0.0000019327614962250203,
          0.000001920635319206806,
          0.000001904398857332855,
          0.0000018841577839910706,
          0.0000018600429857759118,
          0.0000018322091530712552,
          0.000001800833127835541,
          0.0000017661120332705782,
          0.0000017282612130334437,
          0.0000016875120101036824,
          0.0000016441094173060925,
          0.0000015983096327860398,
          0.000001550377554426413,
          0.000001500584247282909,
          0.0000014492044176106738,
          0.0000013965139259859418,
          0.000001342787370428236,
          0.0000012882957683494957,
          0.0000012333043636521003,
          0.0000011780705824319038,
          0.0000011228421575836498,
          0.0000010678554392273625,
          0.0000010133339043494562,
          9.594868754559568e-7,
          9.065084544396552e-7,
          8.545766743372944e-7,
          8.038528682613829e-7,
          7.544812515917291e-7,
          7.065887105555101e-7,
          6.602847876542238e-7,
          6.156618520459341e-7,
          5.727954409870621e-7,
          5.317447567965198e-7,
          4.925533025339716e-7,
          4.552496386830619e-7,
          4.1984824259143093e-7,
          3.8635045222679176e-7,
          3.5474547594096606e-7,
          3.2501145036461316e-7,
          2.971165292536069e-7,
          2.710199870392125e-7,
          2.466733219621807e-7,
          2.240213449578902e-7
         ],
         "yaxis": "y"
        }
       ],
       "layout": {
        "legend": {
         "tracegroupgap": 0
        },
        "margin": {
         "t": 60
        },
        "template": {
         "data": {
          "bar": [
           {
            "error_x": {
             "color": "#2a3f5f"
            },
            "error_y": {
             "color": "#2a3f5f"
            },
            "marker": {
             "line": {
              "color": "#E5ECF6",
              "width": 0.5
             },
             "pattern": {
              "fillmode": "overlay",
              "size": 10,
              "solidity": 0.2
             }
            },
            "type": "bar"
           }
          ],
          "barpolar": [
           {
            "marker": {
             "line": {
              "color": "#E5ECF6",
              "width": 0.5
             },
             "pattern": {
              "fillmode": "overlay",
              "size": 10,
              "solidity": 0.2
             }
            },
            "type": "barpolar"
           }
          ],
          "carpet": [
           {
            "aaxis": {
             "endlinecolor": "#2a3f5f",
             "gridcolor": "white",
             "linecolor": "white",
             "minorgridcolor": "white",
             "startlinecolor": "#2a3f5f"
            },
            "baxis": {
             "endlinecolor": "#2a3f5f",
             "gridcolor": "white",
             "linecolor": "white",
             "minorgridcolor": "white",
             "startlinecolor": "#2a3f5f"
            },
            "type": "carpet"
           }
          ],
          "choropleth": [
           {
            "colorbar": {
             "outlinewidth": 0,
             "ticks": ""
            },
            "type": "choropleth"
           }
          ],
          "contour": [
           {
            "colorbar": {
             "outlinewidth": 0,
             "ticks": ""
            },
            "colorscale": [
             [
              0,
              "#0d0887"
             ],
             [
              0.1111111111111111,
              "#46039f"
             ],
             [
              0.2222222222222222,
              "#7201a8"
             ],
             [
              0.3333333333333333,
              "#9c179e"
             ],
             [
              0.4444444444444444,
              "#bd3786"
             ],
             [
              0.5555555555555556,
              "#d8576b"
             ],
             [
              0.6666666666666666,
              "#ed7953"
             ],
             [
              0.7777777777777778,
              "#fb9f3a"
             ],
             [
              0.8888888888888888,
              "#fdca26"
             ],
             [
              1,
              "#f0f921"
             ]
            ],
            "type": "contour"
           }
          ],
          "contourcarpet": [
           {
            "colorbar": {
             "outlinewidth": 0,
             "ticks": ""
            },
            "type": "contourcarpet"
           }
          ],
          "heatmap": [
           {
            "colorbar": {
             "outlinewidth": 0,
             "ticks": ""
            },
            "colorscale": [
             [
              0,
              "#0d0887"
             ],
             [
              0.1111111111111111,
              "#46039f"
             ],
             [
              0.2222222222222222,
              "#7201a8"
             ],
             [
              0.3333333333333333,
              "#9c179e"
             ],
             [
              0.4444444444444444,
              "#bd3786"
             ],
             [
              0.5555555555555556,
              "#d8576b"
             ],
             [
              0.6666666666666666,
              "#ed7953"
             ],
             [
              0.7777777777777778,
              "#fb9f3a"
             ],
             [
              0.8888888888888888,
              "#fdca26"
             ],
             [
              1,
              "#f0f921"
             ]
            ],
            "type": "heatmap"
           }
          ],
          "heatmapgl": [
           {
            "colorbar": {
             "outlinewidth": 0,
             "ticks": ""
            },
            "colorscale": [
             [
              0,
              "#0d0887"
             ],
             [
              0.1111111111111111,
              "#46039f"
             ],
             [
              0.2222222222222222,
              "#7201a8"
             ],
             [
              0.3333333333333333,
              "#9c179e"
             ],
             [
              0.4444444444444444,
              "#bd3786"
             ],
             [
              0.5555555555555556,
              "#d8576b"
             ],
             [
              0.6666666666666666,
              "#ed7953"
             ],
             [
              0.7777777777777778,
              "#fb9f3a"
             ],
             [
              0.8888888888888888,
              "#fdca26"
             ],
             [
              1,
              "#f0f921"
             ]
            ],
            "type": "heatmapgl"
           }
          ],
          "histogram": [
           {
            "marker": {
             "pattern": {
              "fillmode": "overlay",
              "size": 10,
              "solidity": 0.2
             }
            },
            "type": "histogram"
           }
          ],
          "histogram2d": [
           {
            "colorbar": {
             "outlinewidth": 0,
             "ticks": ""
            },
            "colorscale": [
             [
              0,
              "#0d0887"
             ],
             [
              0.1111111111111111,
              "#46039f"
             ],
             [
              0.2222222222222222,
              "#7201a8"
             ],
             [
              0.3333333333333333,
              "#9c179e"
             ],
             [
              0.4444444444444444,
              "#bd3786"
             ],
             [
              0.5555555555555556,
              "#d8576b"
             ],
             [
              0.6666666666666666,
              "#ed7953"
             ],
             [
              0.7777777777777778,
              "#fb9f3a"
             ],
             [
              0.8888888888888888,
              "#fdca26"
             ],
             [
              1,
              "#f0f921"
             ]
            ],
            "type": "histogram2d"
           }
          ],
          "histogram2dcontour": [
           {
            "colorbar": {
             "outlinewidth": 0,
             "ticks": ""
            },
            "colorscale": [
             [
              0,
              "#0d0887"
             ],
             [
              0.1111111111111111,
              "#46039f"
             ],
             [
              0.2222222222222222,
              "#7201a8"
             ],
             [
              0.3333333333333333,
              "#9c179e"
             ],
             [
              0.4444444444444444,
              "#bd3786"
             ],
             [
              0.5555555555555556,
              "#d8576b"
             ],
             [
              0.6666666666666666,
              "#ed7953"
             ],
             [
              0.7777777777777778,
              "#fb9f3a"
             ],
             [
              0.8888888888888888,
              "#fdca26"
             ],
             [
              1,
              "#f0f921"
             ]
            ],
            "type": "histogram2dcontour"
           }
          ],
          "mesh3d": [
           {
            "colorbar": {
             "outlinewidth": 0,
             "ticks": ""
            },
            "type": "mesh3d"
           }
          ],
          "parcoords": [
           {
            "line": {
             "colorbar": {
              "outlinewidth": 0,
              "ticks": ""
             }
            },
            "type": "parcoords"
           }
          ],
          "pie": [
           {
            "automargin": true,
            "type": "pie"
           }
          ],
          "scatter": [
           {
            "marker": {
             "colorbar": {
              "outlinewidth": 0,
              "ticks": ""
             }
            },
            "type": "scatter"
           }
          ],
          "scatter3d": [
           {
            "line": {
             "colorbar": {
              "outlinewidth": 0,
              "ticks": ""
             }
            },
            "marker": {
             "colorbar": {
              "outlinewidth": 0,
              "ticks": ""
             }
            },
            "type": "scatter3d"
           }
          ],
          "scattercarpet": [
           {
            "marker": {
             "colorbar": {
              "outlinewidth": 0,
              "ticks": ""
             }
            },
            "type": "scattercarpet"
           }
          ],
          "scattergeo": [
           {
            "marker": {
             "colorbar": {
              "outlinewidth": 0,
              "ticks": ""
             }
            },
            "type": "scattergeo"
           }
          ],
          "scattergl": [
           {
            "marker": {
             "colorbar": {
              "outlinewidth": 0,
              "ticks": ""
             }
            },
            "type": "scattergl"
           }
          ],
          "scattermapbox": [
           {
            "marker": {
             "colorbar": {
              "outlinewidth": 0,
              "ticks": ""
             }
            },
            "type": "scattermapbox"
           }
          ],
          "scatterpolar": [
           {
            "marker": {
             "colorbar": {
              "outlinewidth": 0,
              "ticks": ""
             }
            },
            "type": "scatterpolar"
           }
          ],
          "scatterpolargl": [
           {
            "marker": {
             "colorbar": {
              "outlinewidth": 0,
              "ticks": ""
             }
            },
            "type": "scatterpolargl"
           }
          ],
          "scatterternary": [
           {
            "marker": {
             "colorbar": {
              "outlinewidth": 0,
              "ticks": ""
             }
            },
            "type": "scatterternary"
           }
          ],
          "surface": [
           {
            "colorbar": {
             "outlinewidth": 0,
             "ticks": ""
            },
            "colorscale": [
             [
              0,
              "#0d0887"
             ],
             [
              0.1111111111111111,
              "#46039f"
             ],
             [
              0.2222222222222222,
              "#7201a8"
             ],
             [
              0.3333333333333333,
              "#9c179e"
             ],
             [
              0.4444444444444444,
              "#bd3786"
             ],
             [
              0.5555555555555556,
              "#d8576b"
             ],
             [
              0.6666666666666666,
              "#ed7953"
             ],
             [
              0.7777777777777778,
              "#fb9f3a"
             ],
             [
              0.8888888888888888,
              "#fdca26"
             ],
             [
              1,
              "#f0f921"
             ]
            ],
            "type": "surface"
           }
          ],
          "table": [
           {
            "cells": {
             "fill": {
              "color": "#EBF0F8"
             },
             "line": {
              "color": "white"
             }
            },
            "header": {
             "fill": {
              "color": "#C8D4E3"
             },
             "line": {
              "color": "white"
             }
            },
            "type": "table"
           }
          ]
         },
         "layout": {
          "annotationdefaults": {
           "arrowcolor": "#2a3f5f",
           "arrowhead": 0,
           "arrowwidth": 1
          },
          "autotypenumbers": "strict",
          "coloraxis": {
           "colorbar": {
            "outlinewidth": 0,
            "ticks": ""
           }
          },
          "colorscale": {
           "diverging": [
            [
             0,
             "#8e0152"
            ],
            [
             0.1,
             "#c51b7d"
            ],
            [
             0.2,
             "#de77ae"
            ],
            [
             0.3,
             "#f1b6da"
            ],
            [
             0.4,
             "#fde0ef"
            ],
            [
             0.5,
             "#f7f7f7"
            ],
            [
             0.6,
             "#e6f5d0"
            ],
            [
             0.7,
             "#b8e186"
            ],
            [
             0.8,
             "#7fbc41"
            ],
            [
             0.9,
             "#4d9221"
            ],
            [
             1,
             "#276419"
            ]
           ],
           "sequential": [
            [
             0,
             "#0d0887"
            ],
            [
             0.1111111111111111,
             "#46039f"
            ],
            [
             0.2222222222222222,
             "#7201a8"
            ],
            [
             0.3333333333333333,
             "#9c179e"
            ],
            [
             0.4444444444444444,
             "#bd3786"
            ],
            [
             0.5555555555555556,
             "#d8576b"
            ],
            [
             0.6666666666666666,
             "#ed7953"
            ],
            [
             0.7777777777777778,
             "#fb9f3a"
            ],
            [
             0.8888888888888888,
             "#fdca26"
            ],
            [
             1,
             "#f0f921"
            ]
           ],
           "sequentialminus": [
            [
             0,
             "#0d0887"
            ],
            [
             0.1111111111111111,
             "#46039f"
            ],
            [
             0.2222222222222222,
             "#7201a8"
            ],
            [
             0.3333333333333333,
             "#9c179e"
            ],
            [
             0.4444444444444444,
             "#bd3786"
            ],
            [
             0.5555555555555556,
             "#d8576b"
            ],
            [
             0.6666666666666666,
             "#ed7953"
            ],
            [
             0.7777777777777778,
             "#fb9f3a"
            ],
            [
             0.8888888888888888,
             "#fdca26"
            ],
            [
             1,
             "#f0f921"
            ]
           ]
          },
          "colorway": [
           "#636efa",
           "#EF553B",
           "#00cc96",
           "#ab63fa",
           "#FFA15A",
           "#19d3f3",
           "#FF6692",
           "#B6E880",
           "#FF97FF",
           "#FECB52"
          ],
          "font": {
           "color": "#2a3f5f"
          },
          "geo": {
           "bgcolor": "white",
           "lakecolor": "white",
           "landcolor": "#E5ECF6",
           "showlakes": true,
           "showland": true,
           "subunitcolor": "white"
          },
          "hoverlabel": {
           "align": "left"
          },
          "hovermode": "closest",
          "mapbox": {
           "style": "light"
          },
          "paper_bgcolor": "white",
          "plot_bgcolor": "#E5ECF6",
          "polar": {
           "angularaxis": {
            "gridcolor": "white",
            "linecolor": "white",
            "ticks": ""
           },
           "bgcolor": "#E5ECF6",
           "radialaxis": {
            "gridcolor": "white",
            "linecolor": "white",
            "ticks": ""
           }
          },
          "scene": {
           "xaxis": {
            "backgroundcolor": "#E5ECF6",
            "gridcolor": "white",
            "gridwidth": 2,
            "linecolor": "white",
            "showbackground": true,
            "ticks": "",
            "zerolinecolor": "white"
           },
           "yaxis": {
            "backgroundcolor": "#E5ECF6",
            "gridcolor": "white",
            "gridwidth": 2,
            "linecolor": "white",
            "showbackground": true,
            "ticks": "",
            "zerolinecolor": "white"
           },
           "zaxis": {
            "backgroundcolor": "#E5ECF6",
            "gridcolor": "white",
            "gridwidth": 2,
            "linecolor": "white",
            "showbackground": true,
            "ticks": "",
            "zerolinecolor": "white"
           }
          },
          "shapedefaults": {
           "line": {
            "color": "#2a3f5f"
           }
          },
          "ternary": {
           "aaxis": {
            "gridcolor": "white",
            "linecolor": "white",
            "ticks": ""
           },
           "baxis": {
            "gridcolor": "white",
            "linecolor": "white",
            "ticks": ""
           },
           "bgcolor": "#E5ECF6",
           "caxis": {
            "gridcolor": "white",
            "linecolor": "white",
            "ticks": ""
           }
          },
          "title": {
           "x": 0.05
          },
          "xaxis": {
           "automargin": true,
           "gridcolor": "white",
           "linecolor": "white",
           "ticks": "",
           "title": {
            "standoff": 15
           },
           "zerolinecolor": "white",
           "zerolinewidth": 2
          },
          "yaxis": {
           "automargin": true,
           "gridcolor": "white",
           "linecolor": "white",
           "ticks": "",
           "title": {
            "standoff": 15
           },
           "zerolinecolor": "white",
           "zerolinewidth": 2
          }
         }
        },
        "xaxis": {
         "anchor": "y",
         "domain": [
          0,
          1
         ],
         "title": {
          "text": "x"
         }
        },
        "yaxis": {
         "anchor": "x",
         "domain": [
          0,
          1
         ],
         "title": {
          "text": "y"
         }
        }
       }
      }
     },
     "metadata": {},
     "output_type": "display_data"
    }
   ],
   "source": [
    "# 부산 행정구 단위 유동인구 정규분포\n",
    "mean = df_foottraffic.iloc[:,1].mean()\n",
    "std = df_foottraffic.iloc[:,1].std()\n",
    "min = df_foottraffic.iloc[:,1].min()\n",
    "max = df_foottraffic.iloc[:,1].max()\n",
    "show_norm(mean,std,min,max)"
   ]
  },
  {
   "cell_type": "code",
   "execution_count": 741,
   "metadata": {},
   "outputs": [
    {
     "data": {
      "application/vnd.plotly.v1+json": {
       "config": {
        "plotlyServerURL": "https://plot.ly"
       },
       "data": [
        {
         "fill": "tozeroy",
         "line": {
          "color": "rgb(100,110,250)"
         },
         "name": "적합",
         "text": "0.8177299761126527",
         "type": "scatter",
         "x": [
          -83854.6885088947,
          -76631.1802411281,
          -69407.67197336147,
          -62184.16370559487,
          -54960.65543782825,
          -47737.14717006164,
          -40513.63890229503,
          -33290.13063452842,
          -26066.622366761803,
          -18843.11409899519,
          -11619.605831228575,
          -4396.097563461968,
          2827.410704304639,
          10050.91897207126,
          17274.427239837867,
          24497.93550760449,
          31721.443775371095,
          38944.9520431377,
          46168.460310904324,
          53391.96857867093,
          60615.47684643755,
          67838.98511420414,
          75062.49338197077,
          82286.00164973739,
          89509.50991750398,
          96733.0181852706,
          103956.52645303722,
          111180.03472080384,
          118403.54298857044,
          125627.05125633706,
          132850.55952410368,
          140074.06779187027,
          147297.5760596369,
          154521.0843274035,
          161744.5925951701,
          168968.10086293673,
          176191.60913070335,
          183415.11739846994,
          190638.62566623656,
          197862.13393400318,
          205085.6422017698,
          212309.15046953643,
          219532.658737303,
          226756.1670050696,
          233979.67527283623,
          241203.18354060285,
          248426.69180836948,
          255650.2000761361,
          262873.70834390266,
          270097.2166116693,
          277320.7248794359,
          284544.2331472025,
          291767.74141496915,
          298991.24968273577,
          306214.7579505024,
          313438.26621826895,
          320661.7744860356,
          327885.2827538022,
          335108.7910215688,
          342332.29928933544,
          349555.80755710206,
          356779.3158248686,
          364002.82409263524,
          371226.33236040187,
          378449.8406281685,
          385673.3488959351,
          392896.85716370173,
          400120.36543146835,
          407343.8736992349,
          414567.38196700154,
          421790.89023476816,
          429014.3985025348,
          436237.9067703014,
          443461.415038068,
          450684.9233058346,
          457908.43157360126,
          465131.9398413678,
          472355.4481091344,
          479578.9563769011,
          486802.46464466763,
          494025.9729124343,
          501249.4811802009,
          508472.98944796756,
          515696.4977157341,
          522920.0059835007,
          530143.5142512673,
          537367.0225190339,
          544590.5307868007,
          551814.0390545672,
          559037.5473223338,
          566261.0555901004,
          573484.5638578669,
          580708.0721256337,
          587931.5803934003,
          595155.0886611668,
          602378.5969289334,
          609602.1051967,
          616825.6134644668,
          624049.1217322333,
          631272.63
         ],
         "y": [
          7.33846034047919e-8,
          8.025753400403151e-8,
          8.766539775282492e-8,
          9.563836434389757e-8,
          1.0420717163728573e-7,
          1.1340301818844578e-7,
          1.232574431003512e-7,
          1.338021929965812e-7,
          1.4506907601086243e-7,
          1.5708980279673638e-7,
          1.6989581467860406e-7,
          1.8351809919176713e-7,
          1.9798699339353875e-7,
          2.1333197546914017e-7,
          2.2958144530388469e-7,
          2.467624948458723e-7,
          2.649006692396746e-7,
          2.8401971986978993e-7,
          3.041413506112724e-7,
          3.252849587421236e-7,
          3.4746737212582724e-7,
          3.707025844207945e-7,
          3.9500149021439027e-7,
          4.2037162211044214e-7,
          4.4681689191856956e-7,
          4.743373381990773e-7,
          5.029288825064658e-7,
          5.325830967456845e-7,
          5.632869841061596e-7,
          5.950227760675272e-7,
          6.277677479761777e-7,
          6.614940556717824e-7,
          6.961685955965844e-7,
          7.317528907465236e-7,
          7.682030047214786e-7,
          8.054694860017235e-7,
          8.434973444190742e-7,
          8.822260616045111e-7,
          9.215896369799914e-7,
          9.615166706218108e-7,
          0.0000010019304840577663,
          0.000001042749279772303,
          0.0000010838863398851115,
          0.0000011252502641418433,
          0.0000011667452470136812,
          0.0000012082713933487224,
          0.0000012497250716560131,
          0.0000012909993037364307,
          0.0000013319841890074222,
          0.0000013725673615050132,
          0.000001412634477190758,
          0.0000014520697288476842,
          0.0000014907563855220995,
          0.00000152857735316155,
          0.0000015654157528173655,
          0.0000016011555125269655,
          0.0000016356819687700524,
          0.0000016688824732073656,
          0.0000017006470002637327,
          0.0000017308687510113033,
          0.0000017594447487462199,
          0.0000017862764216341296,
          0.0000018112701678279853,
          0.000001834337898536048,
          0.0000018553975546388256,
          0.000001874373592620265,
          0.00000189119743578965,
          0.0000019058078870245563,
          0.0000019181514995595996,
          0.000001928182902677634,
          0.000001935865079526288,
          0.000001941169594679325,
          0.0000019440767694851738,
          0.000001944575803689438,
          0.000001942664842279479,
          0.0000019383509869721065,
          0.000001931650252244825,
          0.0000019225874662915903,
          0.0000019111961177603,
          0.0000018975181495959731,
          0.0000018816037017656181,
          0.0000018635108050731493,
          0.0000018433050286807293,
          0.000001821059084332201,
          0.000001796852390620824,
          0.0000017707706009538482,
          0.0000017429050991374138,
          0.0000017133524667343684,
          0.0000016822139265327919,
          0.0000016495947666028885,
          0.0000016156037495136242,
          0.0000015803525113276911,
          0.0000015439549549944468,
          0.000001506526642716229,
          0.000001468184191775217,
          0.000001429044678177876,
          0.0000013892250523040946,
          0.0000013488415705414823,
          0.0000013080092466449352,
          0.0000012668413262910747
         ]
        },
        {
         "fill": "tozeroy",
         "line": {
          "color": "rgb(239,85,59)"
         },
         "name": "부적합",
         "text": "0.8177299761126527",
         "type": "scatter",
         "x": [
          631272.63,
          633662.2158585859,
          636051.8017171717,
          638441.3875757576,
          640830.9734343435,
          643220.5592929292,
          645610.1451515151,
          647999.731010101,
          650389.3168686868,
          652778.9027272727,
          655168.4885858586,
          657558.0744444445,
          659947.6603030303,
          662337.2461616162,
          664726.8320202021,
          667116.4178787878,
          669506.0037373737,
          671895.5895959596,
          674285.1754545454,
          676674.7613131313,
          679064.3471717172,
          681453.933030303,
          683843.5188888889,
          686233.1047474748,
          688622.6906060607,
          691012.2764646464,
          693401.8623232323,
          695791.4481818182,
          698181.034040404,
          700570.6198989899,
          702960.2057575758,
          705349.7916161616,
          707739.3774747475,
          710128.9633333334,
          712518.5491919192,
          714908.135050505,
          717297.720909091,
          719687.3067676767,
          722076.8926262626,
          724466.4784848485,
          726856.0643434343,
          729245.6502020202,
          731635.2360606061,
          734024.8219191919,
          736414.4077777778,
          738803.9936363637,
          741193.5794949495,
          743583.1653535353,
          745972.7512121212,
          748362.3370707071,
          750751.9229292929,
          753141.5087878788,
          755531.0946464647,
          757920.6805050506,
          760310.2663636364,
          762699.8522222223,
          765089.4380808081,
          767479.0239393939,
          769868.6097979798,
          772258.1956565657,
          774647.7815151515,
          777037.3673737374,
          779426.9532323233,
          781816.5390909091,
          784206.124949495,
          786595.7108080809,
          788985.2966666666,
          791374.8825252525,
          793764.4683838384,
          796154.0542424242,
          798543.6401010101,
          800933.225959596,
          803322.8118181818,
          805712.3976767677,
          808101.9835353536,
          810491.5693939393,
          812881.1552525252,
          815270.7411111111,
          817660.3269696969,
          820049.9128282828,
          822439.4986868687,
          824829.0845454546,
          827218.6704040405,
          829608.2562626263,
          831997.8421212122,
          834387.427979798,
          836777.0138383838,
          839166.5996969697,
          841556.1855555556,
          843945.7714141414,
          846335.3572727273,
          848724.9431313132,
          851114.528989899,
          853504.1148484849,
          855893.7007070708,
          858283.2865656565,
          860672.8724242424,
          863062.4582828283,
          865452.0441414141,
          867841.63
         ],
         "y": [
          0.0000012668413262910747,
          0.000001253167879072427,
          0.00000123947382873003,
          0.0000012257630959138152,
          0.0000012120395649216055,
          0.000001198307082004997,
          0.0000011845694537197517,
          0.0000011708304453215556,
          0.0000011570937792079033,
          0.0000011433631334068555,
          0.0000011296421401133511,
          0.0000011159343842736876,
          0.0000011022434022187538,
          0.0000010885726803465335,
          0.000001074925653854348,
          0.0000010613057055212505,
          0.0000010477161645409365,
          0.0000010341603054054858,
          0.0000010206413468401873,
          0.0000010071624507896537,
          9.937267214553987e-7,
          9.803372043849557e-7,
          9.669968856126137e-7,
          9.53708690851775e-7,
          9.40475484738881e-7,
          9.273000701288274e-7,
          9.141851874417215e-7,
          9.011335140608088e-7,
          8.881476637813257e-7,
          8.752301863100096e-7,
          8.623835668149541e-7,
          8.496102255254348e-7,
          8.36912517381309e-7,
          8.242927317315503e-7,
          8.117530920814229e-7,
          7.992957558877787e-7,
          7.869228144019212e-7,
          7.746362925594307e-7,
          7.624381489163237e-7,
          7.503302756308841e-7,
          7.38314498490462e-7,
          7.263925769825099e-7,
          7.145662044091075e-7,
          7.028370080441705e-7,
          6.912065493325354e-7,
          6.796763241300849e-7,
          6.682477629840296e-7,
          6.569222314524708e-7,
          6.457010304623201e-7,
          6.345853967046534e-7,
          6.235765030665334e-7,
          6.126754590983377e-7,
          6.018833115156018e-7,
          5.912010447343739e-7,
          5.806295814390617e-7,
          5.701697831817406e-7,
          5.598224510118886e-7,
          5.49588326135486e-7,
          5.394680906024223e-7,
          5.294623680211482e-7,
          5.195717242994917e-7,
          5.097966684105571e-7,
          5.001376531826362e-7,
          4.905950761120299e-7,
          4.81169280197706e-7,
          4.718605547967036e-7,
          4.6266913649919457e-7,
          4.5359521002212294e-7,
          4.4463890912034475e-7,
          4.358003175141852e-7,
          4.270794698323504e-7,
          4.1847635256913073e-7,
          4.0999090505483584e-7,
          4.0162302043841495e-7,
          3.9337254668123356e-7,
          3.8523928756096793e-7,
          3.772230036846076e-7,
          3.693234135095676e-7,
          3.615401943719104e-7,
          3.5387298352070726e-7,
          3.463213791575793e-7,
          3.388849414804656e-7,
          3.315631937306933e-7,
          3.243556232424352e-7,
          3.172616824936537e-7,
          3.102807901576637e-7,
          3.034123321544415e-7,
          2.9665566270084644e-7,
          2.900101053589353e-7,
          2.8347495408156145e-7,
          2.7704947425448126e-7,
          2.7073290373421037e-7,
          2.6452445388088356e-7,
          2.58423310585404e-7,
          2.524286352901897e-7,
          2.465395660028328e-7,
          2.4075521830202745e-7,
          2.350746863351364e-7,
          2.2949704380678327e-7,
          2.240213449578902e-7
         ]
        }
       ],
       "layout": {
        "annotations": [
         {
          "bordercolor": "rgb(100,110,250)",
          "borderwidth": 2,
          "font": {
           "color": "rgb(100,110,250)",
           "size": 15
          },
          "showarrow": false,
          "text": "0.818",
          "x": 631272.63,
          "xshift": -40,
          "y": 0.0000012668413262910747,
          "yshift": -100
         },
         {
          "bordercolor": "rgb(239,85,59)",
          "borderwidth": 2,
          "font": {
           "color": "rgb(239,85,59)",
           "size": 15
          },
          "showarrow": false,
          "text": "0.182",
          "x": 631272.63,
          "xshift": 40,
          "y": 0.0000012668413262910747,
          "yshift": -100
         }
        ],
        "template": {
         "data": {
          "bar": [
           {
            "error_x": {
             "color": "#2a3f5f"
            },
            "error_y": {
             "color": "#2a3f5f"
            },
            "marker": {
             "line": {
              "color": "#E5ECF6",
              "width": 0.5
             },
             "pattern": {
              "fillmode": "overlay",
              "size": 10,
              "solidity": 0.2
             }
            },
            "type": "bar"
           }
          ],
          "barpolar": [
           {
            "marker": {
             "line": {
              "color": "#E5ECF6",
              "width": 0.5
             },
             "pattern": {
              "fillmode": "overlay",
              "size": 10,
              "solidity": 0.2
             }
            },
            "type": "barpolar"
           }
          ],
          "carpet": [
           {
            "aaxis": {
             "endlinecolor": "#2a3f5f",
             "gridcolor": "white",
             "linecolor": "white",
             "minorgridcolor": "white",
             "startlinecolor": "#2a3f5f"
            },
            "baxis": {
             "endlinecolor": "#2a3f5f",
             "gridcolor": "white",
             "linecolor": "white",
             "minorgridcolor": "white",
             "startlinecolor": "#2a3f5f"
            },
            "type": "carpet"
           }
          ],
          "choropleth": [
           {
            "colorbar": {
             "outlinewidth": 0,
             "ticks": ""
            },
            "type": "choropleth"
           }
          ],
          "contour": [
           {
            "colorbar": {
             "outlinewidth": 0,
             "ticks": ""
            },
            "colorscale": [
             [
              0,
              "#0d0887"
             ],
             [
              0.1111111111111111,
              "#46039f"
             ],
             [
              0.2222222222222222,
              "#7201a8"
             ],
             [
              0.3333333333333333,
              "#9c179e"
             ],
             [
              0.4444444444444444,
              "#bd3786"
             ],
             [
              0.5555555555555556,
              "#d8576b"
             ],
             [
              0.6666666666666666,
              "#ed7953"
             ],
             [
              0.7777777777777778,
              "#fb9f3a"
             ],
             [
              0.8888888888888888,
              "#fdca26"
             ],
             [
              1,
              "#f0f921"
             ]
            ],
            "type": "contour"
           }
          ],
          "contourcarpet": [
           {
            "colorbar": {
             "outlinewidth": 0,
             "ticks": ""
            },
            "type": "contourcarpet"
           }
          ],
          "heatmap": [
           {
            "colorbar": {
             "outlinewidth": 0,
             "ticks": ""
            },
            "colorscale": [
             [
              0,
              "#0d0887"
             ],
             [
              0.1111111111111111,
              "#46039f"
             ],
             [
              0.2222222222222222,
              "#7201a8"
             ],
             [
              0.3333333333333333,
              "#9c179e"
             ],
             [
              0.4444444444444444,
              "#bd3786"
             ],
             [
              0.5555555555555556,
              "#d8576b"
             ],
             [
              0.6666666666666666,
              "#ed7953"
             ],
             [
              0.7777777777777778,
              "#fb9f3a"
             ],
             [
              0.8888888888888888,
              "#fdca26"
             ],
             [
              1,
              "#f0f921"
             ]
            ],
            "type": "heatmap"
           }
          ],
          "heatmapgl": [
           {
            "colorbar": {
             "outlinewidth": 0,
             "ticks": ""
            },
            "colorscale": [
             [
              0,
              "#0d0887"
             ],
             [
              0.1111111111111111,
              "#46039f"
             ],
             [
              0.2222222222222222,
              "#7201a8"
             ],
             [
              0.3333333333333333,
              "#9c179e"
             ],
             [
              0.4444444444444444,
              "#bd3786"
             ],
             [
              0.5555555555555556,
              "#d8576b"
             ],
             [
              0.6666666666666666,
              "#ed7953"
             ],
             [
              0.7777777777777778,
              "#fb9f3a"
             ],
             [
              0.8888888888888888,
              "#fdca26"
             ],
             [
              1,
              "#f0f921"
             ]
            ],
            "type": "heatmapgl"
           }
          ],
          "histogram": [
           {
            "marker": {
             "pattern": {
              "fillmode": "overlay",
              "size": 10,
              "solidity": 0.2
             }
            },
            "type": "histogram"
           }
          ],
          "histogram2d": [
           {
            "colorbar": {
             "outlinewidth": 0,
             "ticks": ""
            },
            "colorscale": [
             [
              0,
              "#0d0887"
             ],
             [
              0.1111111111111111,
              "#46039f"
             ],
             [
              0.2222222222222222,
              "#7201a8"
             ],
             [
              0.3333333333333333,
              "#9c179e"
             ],
             [
              0.4444444444444444,
              "#bd3786"
             ],
             [
              0.5555555555555556,
              "#d8576b"
             ],
             [
              0.6666666666666666,
              "#ed7953"
             ],
             [
              0.7777777777777778,
              "#fb9f3a"
             ],
             [
              0.8888888888888888,
              "#fdca26"
             ],
             [
              1,
              "#f0f921"
             ]
            ],
            "type": "histogram2d"
           }
          ],
          "histogram2dcontour": [
           {
            "colorbar": {
             "outlinewidth": 0,
             "ticks": ""
            },
            "colorscale": [
             [
              0,
              "#0d0887"
             ],
             [
              0.1111111111111111,
              "#46039f"
             ],
             [
              0.2222222222222222,
              "#7201a8"
             ],
             [
              0.3333333333333333,
              "#9c179e"
             ],
             [
              0.4444444444444444,
              "#bd3786"
             ],
             [
              0.5555555555555556,
              "#d8576b"
             ],
             [
              0.6666666666666666,
              "#ed7953"
             ],
             [
              0.7777777777777778,
              "#fb9f3a"
             ],
             [
              0.8888888888888888,
              "#fdca26"
             ],
             [
              1,
              "#f0f921"
             ]
            ],
            "type": "histogram2dcontour"
           }
          ],
          "mesh3d": [
           {
            "colorbar": {
             "outlinewidth": 0,
             "ticks": ""
            },
            "type": "mesh3d"
           }
          ],
          "parcoords": [
           {
            "line": {
             "colorbar": {
              "outlinewidth": 0,
              "ticks": ""
             }
            },
            "type": "parcoords"
           }
          ],
          "pie": [
           {
            "automargin": true,
            "type": "pie"
           }
          ],
          "scatter": [
           {
            "marker": {
             "colorbar": {
              "outlinewidth": 0,
              "ticks": ""
             }
            },
            "type": "scatter"
           }
          ],
          "scatter3d": [
           {
            "line": {
             "colorbar": {
              "outlinewidth": 0,
              "ticks": ""
             }
            },
            "marker": {
             "colorbar": {
              "outlinewidth": 0,
              "ticks": ""
             }
            },
            "type": "scatter3d"
           }
          ],
          "scattercarpet": [
           {
            "marker": {
             "colorbar": {
              "outlinewidth": 0,
              "ticks": ""
             }
            },
            "type": "scattercarpet"
           }
          ],
          "scattergeo": [
           {
            "marker": {
             "colorbar": {
              "outlinewidth": 0,
              "ticks": ""
             }
            },
            "type": "scattergeo"
           }
          ],
          "scattergl": [
           {
            "marker": {
             "colorbar": {
              "outlinewidth": 0,
              "ticks": ""
             }
            },
            "type": "scattergl"
           }
          ],
          "scattermapbox": [
           {
            "marker": {
             "colorbar": {
              "outlinewidth": 0,
              "ticks": ""
             }
            },
            "type": "scattermapbox"
           }
          ],
          "scatterpolar": [
           {
            "marker": {
             "colorbar": {
              "outlinewidth": 0,
              "ticks": ""
             }
            },
            "type": "scatterpolar"
           }
          ],
          "scatterpolargl": [
           {
            "marker": {
             "colorbar": {
              "outlinewidth": 0,
              "ticks": ""
             }
            },
            "type": "scatterpolargl"
           }
          ],
          "scatterternary": [
           {
            "marker": {
             "colorbar": {
              "outlinewidth": 0,
              "ticks": ""
             }
            },
            "type": "scatterternary"
           }
          ],
          "surface": [
           {
            "colorbar": {
             "outlinewidth": 0,
             "ticks": ""
            },
            "colorscale": [
             [
              0,
              "#0d0887"
             ],
             [
              0.1111111111111111,
              "#46039f"
             ],
             [
              0.2222222222222222,
              "#7201a8"
             ],
             [
              0.3333333333333333,
              "#9c179e"
             ],
             [
              0.4444444444444444,
              "#bd3786"
             ],
             [
              0.5555555555555556,
              "#d8576b"
             ],
             [
              0.6666666666666666,
              "#ed7953"
             ],
             [
              0.7777777777777778,
              "#fb9f3a"
             ],
             [
              0.8888888888888888,
              "#fdca26"
             ],
             [
              1,
              "#f0f921"
             ]
            ],
            "type": "surface"
           }
          ],
          "table": [
           {
            "cells": {
             "fill": {
              "color": "#EBF0F8"
             },
             "line": {
              "color": "white"
             }
            },
            "header": {
             "fill": {
              "color": "#C8D4E3"
             },
             "line": {
              "color": "white"
             }
            },
            "type": "table"
           }
          ]
         },
         "layout": {
          "annotationdefaults": {
           "arrowcolor": "#2a3f5f",
           "arrowhead": 0,
           "arrowwidth": 1
          },
          "autotypenumbers": "strict",
          "coloraxis": {
           "colorbar": {
            "outlinewidth": 0,
            "ticks": ""
           }
          },
          "colorscale": {
           "diverging": [
            [
             0,
             "#8e0152"
            ],
            [
             0.1,
             "#c51b7d"
            ],
            [
             0.2,
             "#de77ae"
            ],
            [
             0.3,
             "#f1b6da"
            ],
            [
             0.4,
             "#fde0ef"
            ],
            [
             0.5,
             "#f7f7f7"
            ],
            [
             0.6,
             "#e6f5d0"
            ],
            [
             0.7,
             "#b8e186"
            ],
            [
             0.8,
             "#7fbc41"
            ],
            [
             0.9,
             "#4d9221"
            ],
            [
             1,
             "#276419"
            ]
           ],
           "sequential": [
            [
             0,
             "#0d0887"
            ],
            [
             0.1111111111111111,
             "#46039f"
            ],
            [
             0.2222222222222222,
             "#7201a8"
            ],
            [
             0.3333333333333333,
             "#9c179e"
            ],
            [
             0.4444444444444444,
             "#bd3786"
            ],
            [
             0.5555555555555556,
             "#d8576b"
            ],
            [
             0.6666666666666666,
             "#ed7953"
            ],
            [
             0.7777777777777778,
             "#fb9f3a"
            ],
            [
             0.8888888888888888,
             "#fdca26"
            ],
            [
             1,
             "#f0f921"
            ]
           ],
           "sequentialminus": [
            [
             0,
             "#0d0887"
            ],
            [
             0.1111111111111111,
             "#46039f"
            ],
            [
             0.2222222222222222,
             "#7201a8"
            ],
            [
             0.3333333333333333,
             "#9c179e"
            ],
            [
             0.4444444444444444,
             "#bd3786"
            ],
            [
             0.5555555555555556,
             "#d8576b"
            ],
            [
             0.6666666666666666,
             "#ed7953"
            ],
            [
             0.7777777777777778,
             "#fb9f3a"
            ],
            [
             0.8888888888888888,
             "#fdca26"
            ],
            [
             1,
             "#f0f921"
            ]
           ]
          },
          "colorway": [
           "#636efa",
           "#EF553B",
           "#00cc96",
           "#ab63fa",
           "#FFA15A",
           "#19d3f3",
           "#FF6692",
           "#B6E880",
           "#FF97FF",
           "#FECB52"
          ],
          "font": {
           "color": "#2a3f5f"
          },
          "geo": {
           "bgcolor": "white",
           "lakecolor": "white",
           "landcolor": "#E5ECF6",
           "showlakes": true,
           "showland": true,
           "subunitcolor": "white"
          },
          "hoverlabel": {
           "align": "left"
          },
          "hovermode": "closest",
          "mapbox": {
           "style": "light"
          },
          "paper_bgcolor": "white",
          "plot_bgcolor": "#E5ECF6",
          "polar": {
           "angularaxis": {
            "gridcolor": "white",
            "linecolor": "white",
            "ticks": ""
           },
           "bgcolor": "#E5ECF6",
           "radialaxis": {
            "gridcolor": "white",
            "linecolor": "white",
            "ticks": ""
           }
          },
          "scene": {
           "xaxis": {
            "backgroundcolor": "#E5ECF6",
            "gridcolor": "white",
            "gridwidth": 2,
            "linecolor": "white",
            "showbackground": true,
            "ticks": "",
            "zerolinecolor": "white"
           },
           "yaxis": {
            "backgroundcolor": "#E5ECF6",
            "gridcolor": "white",
            "gridwidth": 2,
            "linecolor": "white",
            "showbackground": true,
            "ticks": "",
            "zerolinecolor": "white"
           },
           "zaxis": {
            "backgroundcolor": "#E5ECF6",
            "gridcolor": "white",
            "gridwidth": 2,
            "linecolor": "white",
            "showbackground": true,
            "ticks": "",
            "zerolinecolor": "white"
           }
          },
          "shapedefaults": {
           "line": {
            "color": "#2a3f5f"
           }
          },
          "ternary": {
           "aaxis": {
            "gridcolor": "white",
            "linecolor": "white",
            "ticks": ""
           },
           "baxis": {
            "gridcolor": "white",
            "linecolor": "white",
            "ticks": ""
           },
           "bgcolor": "#E5ECF6",
           "caxis": {
            "gridcolor": "white",
            "linecolor": "white",
            "ticks": ""
           }
          },
          "title": {
           "x": 0.05
          },
          "xaxis": {
           "automargin": true,
           "gridcolor": "white",
           "linecolor": "white",
           "ticks": "",
           "title": {
            "standoff": 15
           },
           "zerolinecolor": "white",
           "zerolinewidth": 2
          },
          "yaxis": {
           "automargin": true,
           "gridcolor": "white",
           "linecolor": "white",
           "ticks": "",
           "title": {
            "standoff": 15
           },
           "zerolinecolor": "white",
           "zerolinewidth": 2
          }
         }
        }
       }
      }
     },
     "metadata": {},
     "output_type": "display_data"
    },
    {
     "data": {
      "text/plain": [
       "0.8177299761126527"
      ]
     },
     "execution_count": 741,
     "metadata": {},
     "output_type": "execute_result"
    }
   ],
   "source": [
    "# 사하구 유동인구 확률 밀도 계산 \n",
    "busan_foottraffic = df_foottraffic[df_foottraffic['구군']=='사하구'].iloc[0,1]\n",
    "foottraffic_pro = cal_norm(mean,std,min,max,busan_foottraffic)\n",
    "foottraffic_pro\n"
   ]
  },
  {
   "cell_type": "markdown",
   "metadata": {},
   "source": [
    "### 친환경 자동차 등록수 데이터 불러오기"
   ]
  },
  {
   "cell_type": "code",
   "execution_count": 742,
   "metadata": {},
   "outputs": [
    {
     "data": {
      "text/html": [
       "<div>\n",
       "<style scoped>\n",
       "    .dataframe tbody tr th:only-of-type {\n",
       "        vertical-align: middle;\n",
       "    }\n",
       "\n",
       "    .dataframe tbody tr th {\n",
       "        vertical-align: top;\n",
       "    }\n",
       "\n",
       "    .dataframe thead th {\n",
       "        text-align: right;\n",
       "    }\n",
       "</style>\n",
       "<table border=\"1\" class=\"dataframe\">\n",
       "  <thead>\n",
       "    <tr style=\"text-align: right;\">\n",
       "      <th></th>\n",
       "      <th>연료</th>\n",
       "      <th>서울</th>\n",
       "      <th>부산</th>\n",
       "      <th>대구</th>\n",
       "      <th>인천</th>\n",
       "      <th>광주</th>\n",
       "      <th>대전</th>\n",
       "      <th>울산</th>\n",
       "      <th>세종</th>\n",
       "      <th>경기</th>\n",
       "      <th>강원</th>\n",
       "      <th>충북</th>\n",
       "      <th>충남</th>\n",
       "      <th>전북</th>\n",
       "      <th>전남</th>\n",
       "      <th>경북</th>\n",
       "      <th>경남</th>\n",
       "      <th>제주</th>\n",
       "      <th>계</th>\n",
       "    </tr>\n",
       "  </thead>\n",
       "  <tbody>\n",
       "    <tr>\n",
       "      <th>0</th>\n",
       "      <td>휘발유</td>\n",
       "      <td>1,649,518</td>\n",
       "      <td>714,221</td>\n",
       "      <td>584,780</td>\n",
       "      <td>818,874</td>\n",
       "      <td>312,081</td>\n",
       "      <td>341,412</td>\n",
       "      <td>297,231</td>\n",
       "      <td>94,929</td>\n",
       "      <td>3,056,798</td>\n",
       "      <td>365,724</td>\n",
       "      <td>403,958</td>\n",
       "      <td>525,588</td>\n",
       "      <td>398,182</td>\n",
       "      <td>466,016</td>\n",
       "      <td>654,776</td>\n",
       "      <td>886,361</td>\n",
       "      <td>302,434</td>\n",
       "      <td>11,872,883</td>\n",
       "    </tr>\n",
       "    <tr>\n",
       "      <th>1</th>\n",
       "      <td>경유</td>\n",
       "      <td>1,077,183</td>\n",
       "      <td>550,411</td>\n",
       "      <td>449,206</td>\n",
       "      <td>627,029</td>\n",
       "      <td>266,237</td>\n",
       "      <td>247,724</td>\n",
       "      <td>217,553</td>\n",
       "      <td>66,126</td>\n",
       "      <td>2,450,214</td>\n",
       "      <td>371,277</td>\n",
       "      <td>380,402</td>\n",
       "      <td>516,001</td>\n",
       "      <td>430,676</td>\n",
       "      <td>547,999</td>\n",
       "      <td>664,042</td>\n",
       "      <td>736,135</td>\n",
       "      <td>253,205</td>\n",
       "      <td>9,851,420</td>\n",
       "    </tr>\n",
       "    <tr>\n",
       "      <th>2</th>\n",
       "      <td>엘피지</td>\n",
       "      <td>240,940</td>\n",
       "      <td>111,371</td>\n",
       "      <td>106,654</td>\n",
       "      <td>113,654</td>\n",
       "      <td>88,883</td>\n",
       "      <td>67,456</td>\n",
       "      <td>36,101</td>\n",
       "      <td>12,985</td>\n",
       "      <td>404,449</td>\n",
       "      <td>58,335</td>\n",
       "      <td>70,304</td>\n",
       "      <td>89,210</td>\n",
       "      <td>93,615</td>\n",
       "      <td>111,494</td>\n",
       "      <td>127,818</td>\n",
       "      <td>139,592</td>\n",
       "      <td>58,412</td>\n",
       "      <td>1,931,273</td>\n",
       "    </tr>\n",
       "    <tr>\n",
       "      <th>3</th>\n",
       "      <td>전기</td>\n",
       "      <td>45,133</td>\n",
       "      <td>16,059</td>\n",
       "      <td>18,076</td>\n",
       "      <td>15,191</td>\n",
       "      <td>6,233</td>\n",
       "      <td>9,550</td>\n",
       "      <td>3,948</td>\n",
       "      <td>2,180</td>\n",
       "      <td>50,111</td>\n",
       "      <td>9,117</td>\n",
       "      <td>10,421</td>\n",
       "      <td>12,142</td>\n",
       "      <td>8,931</td>\n",
       "      <td>10,658</td>\n",
       "      <td>13,018</td>\n",
       "      <td>14,957</td>\n",
       "      <td>26,931</td>\n",
       "      <td>272,656</td>\n",
       "    </tr>\n",
       "    <tr>\n",
       "      <th>4</th>\n",
       "      <td>하이브리드(휘발유+전기)</td>\n",
       "      <td>147,022</td>\n",
       "      <td>61,167</td>\n",
       "      <td>48,320</td>\n",
       "      <td>90,275</td>\n",
       "      <td>24,091</td>\n",
       "      <td>24,167</td>\n",
       "      <td>19,593</td>\n",
       "      <td>11,034</td>\n",
       "      <td>256,643</td>\n",
       "      <td>24,001</td>\n",
       "      <td>25,842</td>\n",
       "      <td>32,669</td>\n",
       "      <td>25,448</td>\n",
       "      <td>38,154</td>\n",
       "      <td>36,999</td>\n",
       "      <td>56,219</td>\n",
       "      <td>30,057</td>\n",
       "      <td>951,701</td>\n",
       "    </tr>\n",
       "    <tr>\n",
       "      <th>5</th>\n",
       "      <td>하이브리드(경유+전기)</td>\n",
       "      <td>2,656</td>\n",
       "      <td>4,187</td>\n",
       "      <td>2,146</td>\n",
       "      <td>7,672</td>\n",
       "      <td>464</td>\n",
       "      <td>393</td>\n",
       "      <td>194</td>\n",
       "      <td>141</td>\n",
       "      <td>3,964</td>\n",
       "      <td>286</td>\n",
       "      <td>580</td>\n",
       "      <td>461</td>\n",
       "      <td>694</td>\n",
       "      <td>486</td>\n",
       "      <td>405</td>\n",
       "      <td>1,774</td>\n",
       "      <td>341</td>\n",
       "      <td>26,844</td>\n",
       "    </tr>\n",
       "    <tr>\n",
       "      <th>6</th>\n",
       "      <td>하이브리드(LPG+전기)</td>\n",
       "      <td>1,601</td>\n",
       "      <td>735</td>\n",
       "      <td>806</td>\n",
       "      <td>696</td>\n",
       "      <td>628</td>\n",
       "      <td>481</td>\n",
       "      <td>457</td>\n",
       "      <td>153</td>\n",
       "      <td>3,453</td>\n",
       "      <td>611</td>\n",
       "      <td>639</td>\n",
       "      <td>728</td>\n",
       "      <td>785</td>\n",
       "      <td>833</td>\n",
       "      <td>974</td>\n",
       "      <td>1,034</td>\n",
       "      <td>335</td>\n",
       "      <td>14,949</td>\n",
       "    </tr>\n",
       "    <tr>\n",
       "      <th>7</th>\n",
       "      <td>기타연료</td>\n",
       "      <td>7,172</td>\n",
       "      <td>16,097</td>\n",
       "      <td>4,545</td>\n",
       "      <td>13,915</td>\n",
       "      <td>4,036</td>\n",
       "      <td>3,830</td>\n",
       "      <td>5,205</td>\n",
       "      <td>1,208</td>\n",
       "      <td>29,809</td>\n",
       "      <td>4,376</td>\n",
       "      <td>6,918</td>\n",
       "      <td>9,574</td>\n",
       "      <td>5,182</td>\n",
       "      <td>9,666</td>\n",
       "      <td>10,974</td>\n",
       "      <td>9,161</td>\n",
       "      <td>886</td>\n",
       "      <td>142,554</td>\n",
       "    </tr>\n",
       "    <tr>\n",
       "      <th>8</th>\n",
       "      <td>수소</td>\n",
       "      <td>2,435</td>\n",
       "      <td>1,473</td>\n",
       "      <td>352</td>\n",
       "      <td>1,139</td>\n",
       "      <td>1,018</td>\n",
       "      <td>1,045</td>\n",
       "      <td>2,395</td>\n",
       "      <td>205</td>\n",
       "      <td>4,004</td>\n",
       "      <td>1,959</td>\n",
       "      <td>1,095</td>\n",
       "      <td>908</td>\n",
       "      <td>1,435</td>\n",
       "      <td>448</td>\n",
       "      <td>77</td>\n",
       "      <td>1,899</td>\n",
       "      <td>5</td>\n",
       "      <td>21,892</td>\n",
       "    </tr>\n",
       "    <tr>\n",
       "      <th>9</th>\n",
       "      <td>총합</td>\n",
       "      <td>3,173,660</td>\n",
       "      <td>1,475,721</td>\n",
       "      <td>1,214,885</td>\n",
       "      <td>1,688,445</td>\n",
       "      <td>703,671</td>\n",
       "      <td>696,058</td>\n",
       "      <td>582,677</td>\n",
       "      <td>188,961</td>\n",
       "      <td>6,259,445</td>\n",
       "      <td>835,686</td>\n",
       "      <td>900,159</td>\n",
       "      <td>1,187,281</td>\n",
       "      <td>964,948</td>\n",
       "      <td>1,185,754</td>\n",
       "      <td>1,509,083</td>\n",
       "      <td>1,847,132</td>\n",
       "      <td>672,606</td>\n",
       "      <td>25,086,172</td>\n",
       "    </tr>\n",
       "  </tbody>\n",
       "</table>\n",
       "</div>"
      ],
      "text/plain": [
       "              연료         서울         부산         대구         인천       광주  \\\n",
       "0            휘발유  1,649,518    714,221    584,780    818,874  312,081   \n",
       "1             경유  1,077,183    550,411    449,206    627,029  266,237   \n",
       "2            엘피지    240,940    111,371    106,654    113,654   88,883   \n",
       "3             전기     45,133     16,059     18,076     15,191    6,233   \n",
       "4  하이브리드(휘발유+전기)    147,022     61,167     48,320     90,275   24,091   \n",
       "5   하이브리드(경유+전기)      2,656      4,187      2,146      7,672      464   \n",
       "6  하이브리드(LPG+전기)      1,601        735        806        696      628   \n",
       "7           기타연료      7,172     16,097      4,545     13,915    4,036   \n",
       "8             수소      2,435      1,473        352      1,139    1,018   \n",
       "9             총합  3,173,660  1,475,721  1,214,885  1,688,445  703,671   \n",
       "\n",
       "        대전       울산       세종         경기       강원       충북         충남       전북  \\\n",
       "0  341,412  297,231   94,929  3,056,798  365,724  403,958    525,588  398,182   \n",
       "1  247,724  217,553   66,126  2,450,214  371,277  380,402    516,001  430,676   \n",
       "2   67,456   36,101   12,985    404,449   58,335   70,304     89,210   93,615   \n",
       "3    9,550    3,948    2,180     50,111    9,117   10,421     12,142    8,931   \n",
       "4   24,167   19,593   11,034    256,643   24,001   25,842     32,669   25,448   \n",
       "5      393      194      141      3,964      286      580        461      694   \n",
       "6      481      457      153      3,453      611      639        728      785   \n",
       "7    3,830    5,205    1,208     29,809    4,376    6,918      9,574    5,182   \n",
       "8    1,045    2,395      205      4,004    1,959    1,095        908    1,435   \n",
       "9  696,058  582,677  188,961  6,259,445  835,686  900,159  1,187,281  964,948   \n",
       "\n",
       "          전남         경북         경남       제주           계  \n",
       "0    466,016    654,776    886,361  302,434  11,872,883  \n",
       "1    547,999    664,042    736,135  253,205   9,851,420  \n",
       "2    111,494    127,818    139,592   58,412   1,931,273  \n",
       "3     10,658     13,018     14,957   26,931     272,656  \n",
       "4     38,154     36,999     56,219   30,057     951,701  \n",
       "5        486        405      1,774      341      26,844  \n",
       "6        833        974      1,034      335      14,949  \n",
       "7      9,666     10,974      9,161      886     142,554  \n",
       "8        448         77      1,899        5      21,892  \n",
       "9  1,185,754  1,509,083  1,847,132  672,606  25,086,172  "
      ]
     },
     "execution_count": 742,
     "metadata": {},
     "output_type": "execute_result"
    }
   ],
   "source": [
    "vehicle_file_path = 'C:\\\\Users\\\\SAMSUNG\\\\Desktop\\\\Green-Car-Charging-Station-Site-Selection\\\\Data\\\\연료별 자동차 등록 수.csv'\n",
    "df_vehicle = pd.read_csv(vehicle_file_path, encoding='cp949')\n",
    "drop_col = df_vehicle.iloc[:,1:3].columns.tolist()\n",
    "df_vehicle.drop(columns=drop_col,inplace=True)\n",
    "df_vehicle"
   ]
  },
  {
   "cell_type": "code",
   "execution_count": 743,
   "metadata": {},
   "outputs": [
    {
     "data": {
      "text/plain": [
       "count        17.000000\n",
       "mean      74479.411765\n",
       "std       75151.087588\n",
       "min       13508.000000\n",
       "25%       34591.000000\n",
       "50%       50131.000000\n",
       "75%       73984.000000\n",
       "max      314171.000000\n",
       "dtype: float64"
      ]
     },
     "execution_count": 743,
     "metadata": {},
     "output_type": "execute_result"
    }
   ],
   "source": [
    "# 전국 자동차 수 통계값 구하기 (전기, 수소)\n",
    "col = df_vehicle.iloc[:,1:].columns.tolist()\n",
    "for c in col:\n",
    "    advanced_replace(df_vehicle,c,'-',r'[^0-9.0-9]')\n",
    "    df_vehicle[c] = df_vehicle[c].astype(float)\n",
    "df_elec_vehicle = df_vehicle.iloc[3:7,:-1].sum()\n",
    "df_elec_vehicle = df_elec_vehicle[1:]\n",
    "\n",
    "df_elec_vehicle = df_elec_vehicle.astype(float)\n",
    "df_elec_vehicle.describe()\n"
   ]
  },
  {
   "cell_type": "code",
   "execution_count": 744,
   "metadata": {},
   "outputs": [
    {
     "data": {
      "text/plain": [
       "count      17.000000\n",
       "mean     1287.764706\n",
       "std      1030.779531\n",
       "min         5.000000\n",
       "25%       448.000000\n",
       "50%      1095.000000\n",
       "75%      1899.000000\n",
       "max      4004.000000\n",
       "Name: 8, dtype: float64"
      ]
     },
     "execution_count": 744,
     "metadata": {},
     "output_type": "execute_result"
    }
   ],
   "source": [
    "df_hidro_vehicle = df_vehicle.iloc[8,1:-1]\n",
    "df_hidro_vehicle = df_hidro_vehicle.astype(float)\n",
    "df_hidro_vehicle.describe()"
   ]
  },
  {
   "cell_type": "code",
   "execution_count": 745,
   "metadata": {},
   "outputs": [
    {
     "data": {
      "application/vnd.plotly.v1+json": {
       "config": {
        "plotlyServerURL": "https://plot.ly"
       },
       "data": [
        {
         "hovertemplate": "x=%{x}<br>y=%{y}<extra></extra>",
         "legendgroup": "",
         "line": {
          "color": "#636efa",
          "dash": "solid"
         },
         "mode": "lines",
         "name": "",
         "orientation": "v",
         "showlegend": false,
         "type": "scatter",
         "x": [
          -61643.08758782105,
          -57846.985692994574,
          -54050.8837981681,
          -50254.78190334162,
          -46458.68000851515,
          -42662.57811368867,
          -38866.4762188622,
          -35070.37432403572,
          -31274.272429209246,
          -27478.17053438277,
          -23682.068639556295,
          -19885.96674472982,
          -16089.864849903344,
          -12293.762955076869,
          -8497.661060250393,
          -4701.559165423918,
          -905.4572705974424,
          2890.644624229033,
          6686.7465190555085,
          10482.848413881977,
          14278.95030870846,
          18075.052203534942,
          21871.15409836141,
          25667.25599318788,
          29463.35788801436,
          33259.459782840844,
          37055.56167766731,
          40851.66357249378,
          44647.76546732026,
          48443.867362146746,
          52239.969256973214,
          56036.07115179968,
          59832.173046626165,
          63628.27494145265,
          67424.37683627912,
          71220.47873110558,
          75016.58062593207,
          78812.68252075855,
          82608.784415585,
          86404.88631041149,
          90200.98820523797,
          93997.09010006445,
          97793.19199489093,
          101589.29388971739,
          105385.39578454387,
          109181.49767937035,
          112977.5995741968,
          116773.70146902329,
          120569.80336384977,
          124365.90525867626,
          128162.00715350274,
          131958.10904832918,
          135754.2109431557,
          139550.31283798214,
          143346.4147328086,
          147142.5166276351,
          150938.61852246156,
          154734.72041728807,
          158530.82231211453,
          162326.92420694098,
          166123.0261017675,
          169919.12799659395,
          173715.2298914204,
          177511.3317862469,
          181307.43368107337,
          185103.53557589988,
          188899.63747072633,
          192695.73936555278,
          196491.8412603793,
          200287.94315520575,
          204084.0450500322,
          207880.14694485872,
          211676.24883968517,
          215472.35073451162,
          219268.45262933814,
          223064.5545241646,
          226860.65641899104,
          230656.75831381755,
          234452.860208644,
          238248.96210347052,
          242045.06399829697,
          245841.16589312343,
          249637.26778794994,
          253433.3696827764,
          257229.4715776029,
          261025.57347242936,
          264821.6753672558,
          268617.7772620823,
          272413.8791569088,
          276209.98105173523,
          280006.08294656174,
          283802.1848413882,
          287598.28673621465,
          291394.38863104116,
          295190.4905258676,
          298986.5924206941,
          302782.6943155206,
          306578.79621034703,
          310374.89810517355,
          314171
         ],
         "xaxis": "x",
         "y": [
          0.0000010293012256662106,
          0.0000011264818237310633,
          0.0000012296960000385188,
          0.0000013389464411196047,
          0.0000014541878886041046,
          0.0000015753233646137669,
          0.000001702200754050023,
          0.0000018346098288431818,
          0.0000019722797982258083,
          0.0000021148774662254307,
          0.0000022620060727565954,
          0.0000024132048878902575,
          0.000002567949620099425,
          0.0000027256536885865815,
          0.0000028856703973083804,
          0.000003047296034199272,
          0.000003209773903585383,
          0.0000033722992831512715,
          0.0000035340252793997088,
          0.0000036940695376928033,
          0.0000038515217450773975,
          0.000004005451846596654,
          0.000004154918879102059,
          0.000004298980311133943,
          0.000004436701763649623,
          0.000004567166974636431,
          0.000004689487861304888,
          0.000004802814526918839,
          0.00000490634505562872,
          0.000004999334938107554,
          0.0000050811059734472324,
          0.0000051510544986758396,
          0.000005208658806342498,
          0.000005253485622738967,
          0.0000052851955342609166,
          0.000005303547266854307,
          0.000005308400743073811,
          0.0000052997188625713825,
          0.000005277567974358032,
          0.000005242117032429729,
          0.000005193635449788689,
          0.000005132489688987796,
          0.000005059138649552273,
          0.000004974127933486511,
          0.0000048780830890912796,
          0.000004771701950083811,
          0.000004655746201178831,
          0.000004531032312571413,
          0.00000439842199395872,
          0.000004258812323725202,
          0.000004113125710655574,
          0.000003962299844075558,
          0.0000038072777837745044,
          0.000003648998333632923,
          0.000003488386832823517,
          0.0000033263464860956348,
          0.0000031637503403540225,
          0.000003001433998902393,
          0.000002840189147760763,
          0.0000026807579508123583,
          0.000002523828352618528,
          0.0000023700303099706624,
          0.0000022199329560149864,
          0.0000020740426844428985,
          0.000001932802126098256,
          0.0000017965899766780344,
          0.0000016657216222061027,
          0.0000015404504987986177,
          0.0000014209701150160635,
          0.0000013074166588584177,
          0.000001199872107202002,
          0.000001098367753146729,
          0.0000010028880662447346,
          9.133748017828681e-7,
          8.297312780283027e-7,
          7.518267444307532e-7,
          6.795007690017732e-7,
          6.125675792467583e-7,
          5.508202978902826e-7,
          4.940350219951551e-7,
          4.4197470172279284e-7,
          3.943927827229904e-7,
          3.5103658379766474e-7,
          3.116503888980329e-7,
          2.7597823955255695e-7,
          2.4376642037172173e-7,
          2.147656362468128e-7,
          1.8873288518868049e-7,
          1.654330353966762e-7,
          1.4464011908665932e-7,
          1.2613835883847428e-7,
          1.097229447629594e-7,
          9.52005826664352e-8,
          8.238983464877737e-8,
          7.112127426113796e-8,
          6.123747852958101e-8,
          5.259287888430252e-8,
          4.5053492385878185e-8,
          3.8496553675649175e-8,
          3.281006686089094e-8
         ],
         "yaxis": "y"
        }
       ],
       "layout": {
        "legend": {
         "tracegroupgap": 0
        },
        "margin": {
         "t": 60
        },
        "template": {
         "data": {
          "bar": [
           {
            "error_x": {
             "color": "#2a3f5f"
            },
            "error_y": {
             "color": "#2a3f5f"
            },
            "marker": {
             "line": {
              "color": "#E5ECF6",
              "width": 0.5
             },
             "pattern": {
              "fillmode": "overlay",
              "size": 10,
              "solidity": 0.2
             }
            },
            "type": "bar"
           }
          ],
          "barpolar": [
           {
            "marker": {
             "line": {
              "color": "#E5ECF6",
              "width": 0.5
             },
             "pattern": {
              "fillmode": "overlay",
              "size": 10,
              "solidity": 0.2
             }
            },
            "type": "barpolar"
           }
          ],
          "carpet": [
           {
            "aaxis": {
             "endlinecolor": "#2a3f5f",
             "gridcolor": "white",
             "linecolor": "white",
             "minorgridcolor": "white",
             "startlinecolor": "#2a3f5f"
            },
            "baxis": {
             "endlinecolor": "#2a3f5f",
             "gridcolor": "white",
             "linecolor": "white",
             "minorgridcolor": "white",
             "startlinecolor": "#2a3f5f"
            },
            "type": "carpet"
           }
          ],
          "choropleth": [
           {
            "colorbar": {
             "outlinewidth": 0,
             "ticks": ""
            },
            "type": "choropleth"
           }
          ],
          "contour": [
           {
            "colorbar": {
             "outlinewidth": 0,
             "ticks": ""
            },
            "colorscale": [
             [
              0,
              "#0d0887"
             ],
             [
              0.1111111111111111,
              "#46039f"
             ],
             [
              0.2222222222222222,
              "#7201a8"
             ],
             [
              0.3333333333333333,
              "#9c179e"
             ],
             [
              0.4444444444444444,
              "#bd3786"
             ],
             [
              0.5555555555555556,
              "#d8576b"
             ],
             [
              0.6666666666666666,
              "#ed7953"
             ],
             [
              0.7777777777777778,
              "#fb9f3a"
             ],
             [
              0.8888888888888888,
              "#fdca26"
             ],
             [
              1,
              "#f0f921"
             ]
            ],
            "type": "contour"
           }
          ],
          "contourcarpet": [
           {
            "colorbar": {
             "outlinewidth": 0,
             "ticks": ""
            },
            "type": "contourcarpet"
           }
          ],
          "heatmap": [
           {
            "colorbar": {
             "outlinewidth": 0,
             "ticks": ""
            },
            "colorscale": [
             [
              0,
              "#0d0887"
             ],
             [
              0.1111111111111111,
              "#46039f"
             ],
             [
              0.2222222222222222,
              "#7201a8"
             ],
             [
              0.3333333333333333,
              "#9c179e"
             ],
             [
              0.4444444444444444,
              "#bd3786"
             ],
             [
              0.5555555555555556,
              "#d8576b"
             ],
             [
              0.6666666666666666,
              "#ed7953"
             ],
             [
              0.7777777777777778,
              "#fb9f3a"
             ],
             [
              0.8888888888888888,
              "#fdca26"
             ],
             [
              1,
              "#f0f921"
             ]
            ],
            "type": "heatmap"
           }
          ],
          "heatmapgl": [
           {
            "colorbar": {
             "outlinewidth": 0,
             "ticks": ""
            },
            "colorscale": [
             [
              0,
              "#0d0887"
             ],
             [
              0.1111111111111111,
              "#46039f"
             ],
             [
              0.2222222222222222,
              "#7201a8"
             ],
             [
              0.3333333333333333,
              "#9c179e"
             ],
             [
              0.4444444444444444,
              "#bd3786"
             ],
             [
              0.5555555555555556,
              "#d8576b"
             ],
             [
              0.6666666666666666,
              "#ed7953"
             ],
             [
              0.7777777777777778,
              "#fb9f3a"
             ],
             [
              0.8888888888888888,
              "#fdca26"
             ],
             [
              1,
              "#f0f921"
             ]
            ],
            "type": "heatmapgl"
           }
          ],
          "histogram": [
           {
            "marker": {
             "pattern": {
              "fillmode": "overlay",
              "size": 10,
              "solidity": 0.2
             }
            },
            "type": "histogram"
           }
          ],
          "histogram2d": [
           {
            "colorbar": {
             "outlinewidth": 0,
             "ticks": ""
            },
            "colorscale": [
             [
              0,
              "#0d0887"
             ],
             [
              0.1111111111111111,
              "#46039f"
             ],
             [
              0.2222222222222222,
              "#7201a8"
             ],
             [
              0.3333333333333333,
              "#9c179e"
             ],
             [
              0.4444444444444444,
              "#bd3786"
             ],
             [
              0.5555555555555556,
              "#d8576b"
             ],
             [
              0.6666666666666666,
              "#ed7953"
             ],
             [
              0.7777777777777778,
              "#fb9f3a"
             ],
             [
              0.8888888888888888,
              "#fdca26"
             ],
             [
              1,
              "#f0f921"
             ]
            ],
            "type": "histogram2d"
           }
          ],
          "histogram2dcontour": [
           {
            "colorbar": {
             "outlinewidth": 0,
             "ticks": ""
            },
            "colorscale": [
             [
              0,
              "#0d0887"
             ],
             [
              0.1111111111111111,
              "#46039f"
             ],
             [
              0.2222222222222222,
              "#7201a8"
             ],
             [
              0.3333333333333333,
              "#9c179e"
             ],
             [
              0.4444444444444444,
              "#bd3786"
             ],
             [
              0.5555555555555556,
              "#d8576b"
             ],
             [
              0.6666666666666666,
              "#ed7953"
             ],
             [
              0.7777777777777778,
              "#fb9f3a"
             ],
             [
              0.8888888888888888,
              "#fdca26"
             ],
             [
              1,
              "#f0f921"
             ]
            ],
            "type": "histogram2dcontour"
           }
          ],
          "mesh3d": [
           {
            "colorbar": {
             "outlinewidth": 0,
             "ticks": ""
            },
            "type": "mesh3d"
           }
          ],
          "parcoords": [
           {
            "line": {
             "colorbar": {
              "outlinewidth": 0,
              "ticks": ""
             }
            },
            "type": "parcoords"
           }
          ],
          "pie": [
           {
            "automargin": true,
            "type": "pie"
           }
          ],
          "scatter": [
           {
            "marker": {
             "colorbar": {
              "outlinewidth": 0,
              "ticks": ""
             }
            },
            "type": "scatter"
           }
          ],
          "scatter3d": [
           {
            "line": {
             "colorbar": {
              "outlinewidth": 0,
              "ticks": ""
             }
            },
            "marker": {
             "colorbar": {
              "outlinewidth": 0,
              "ticks": ""
             }
            },
            "type": "scatter3d"
           }
          ],
          "scattercarpet": [
           {
            "marker": {
             "colorbar": {
              "outlinewidth": 0,
              "ticks": ""
             }
            },
            "type": "scattercarpet"
           }
          ],
          "scattergeo": [
           {
            "marker": {
             "colorbar": {
              "outlinewidth": 0,
              "ticks": ""
             }
            },
            "type": "scattergeo"
           }
          ],
          "scattergl": [
           {
            "marker": {
             "colorbar": {
              "outlinewidth": 0,
              "ticks": ""
             }
            },
            "type": "scattergl"
           }
          ],
          "scattermapbox": [
           {
            "marker": {
             "colorbar": {
              "outlinewidth": 0,
              "ticks": ""
             }
            },
            "type": "scattermapbox"
           }
          ],
          "scatterpolar": [
           {
            "marker": {
             "colorbar": {
              "outlinewidth": 0,
              "ticks": ""
             }
            },
            "type": "scatterpolar"
           }
          ],
          "scatterpolargl": [
           {
            "marker": {
             "colorbar": {
              "outlinewidth": 0,
              "ticks": ""
             }
            },
            "type": "scatterpolargl"
           }
          ],
          "scatterternary": [
           {
            "marker": {
             "colorbar": {
              "outlinewidth": 0,
              "ticks": ""
             }
            },
            "type": "scatterternary"
           }
          ],
          "surface": [
           {
            "colorbar": {
             "outlinewidth": 0,
             "ticks": ""
            },
            "colorscale": [
             [
              0,
              "#0d0887"
             ],
             [
              0.1111111111111111,
              "#46039f"
             ],
             [
              0.2222222222222222,
              "#7201a8"
             ],
             [
              0.3333333333333333,
              "#9c179e"
             ],
             [
              0.4444444444444444,
              "#bd3786"
             ],
             [
              0.5555555555555556,
              "#d8576b"
             ],
             [
              0.6666666666666666,
              "#ed7953"
             ],
             [
              0.7777777777777778,
              "#fb9f3a"
             ],
             [
              0.8888888888888888,
              "#fdca26"
             ],
             [
              1,
              "#f0f921"
             ]
            ],
            "type": "surface"
           }
          ],
          "table": [
           {
            "cells": {
             "fill": {
              "color": "#EBF0F8"
             },
             "line": {
              "color": "white"
             }
            },
            "header": {
             "fill": {
              "color": "#C8D4E3"
             },
             "line": {
              "color": "white"
             }
            },
            "type": "table"
           }
          ]
         },
         "layout": {
          "annotationdefaults": {
           "arrowcolor": "#2a3f5f",
           "arrowhead": 0,
           "arrowwidth": 1
          },
          "autotypenumbers": "strict",
          "coloraxis": {
           "colorbar": {
            "outlinewidth": 0,
            "ticks": ""
           }
          },
          "colorscale": {
           "diverging": [
            [
             0,
             "#8e0152"
            ],
            [
             0.1,
             "#c51b7d"
            ],
            [
             0.2,
             "#de77ae"
            ],
            [
             0.3,
             "#f1b6da"
            ],
            [
             0.4,
             "#fde0ef"
            ],
            [
             0.5,
             "#f7f7f7"
            ],
            [
             0.6,
             "#e6f5d0"
            ],
            [
             0.7,
             "#b8e186"
            ],
            [
             0.8,
             "#7fbc41"
            ],
            [
             0.9,
             "#4d9221"
            ],
            [
             1,
             "#276419"
            ]
           ],
           "sequential": [
            [
             0,
             "#0d0887"
            ],
            [
             0.1111111111111111,
             "#46039f"
            ],
            [
             0.2222222222222222,
             "#7201a8"
            ],
            [
             0.3333333333333333,
             "#9c179e"
            ],
            [
             0.4444444444444444,
             "#bd3786"
            ],
            [
             0.5555555555555556,
             "#d8576b"
            ],
            [
             0.6666666666666666,
             "#ed7953"
            ],
            [
             0.7777777777777778,
             "#fb9f3a"
            ],
            [
             0.8888888888888888,
             "#fdca26"
            ],
            [
             1,
             "#f0f921"
            ]
           ],
           "sequentialminus": [
            [
             0,
             "#0d0887"
            ],
            [
             0.1111111111111111,
             "#46039f"
            ],
            [
             0.2222222222222222,
             "#7201a8"
            ],
            [
             0.3333333333333333,
             "#9c179e"
            ],
            [
             0.4444444444444444,
             "#bd3786"
            ],
            [
             0.5555555555555556,
             "#d8576b"
            ],
            [
             0.6666666666666666,
             "#ed7953"
            ],
            [
             0.7777777777777778,
             "#fb9f3a"
            ],
            [
             0.8888888888888888,
             "#fdca26"
            ],
            [
             1,
             "#f0f921"
            ]
           ]
          },
          "colorway": [
           "#636efa",
           "#EF553B",
           "#00cc96",
           "#ab63fa",
           "#FFA15A",
           "#19d3f3",
           "#FF6692",
           "#B6E880",
           "#FF97FF",
           "#FECB52"
          ],
          "font": {
           "color": "#2a3f5f"
          },
          "geo": {
           "bgcolor": "white",
           "lakecolor": "white",
           "landcolor": "#E5ECF6",
           "showlakes": true,
           "showland": true,
           "subunitcolor": "white"
          },
          "hoverlabel": {
           "align": "left"
          },
          "hovermode": "closest",
          "mapbox": {
           "style": "light"
          },
          "paper_bgcolor": "white",
          "plot_bgcolor": "#E5ECF6",
          "polar": {
           "angularaxis": {
            "gridcolor": "white",
            "linecolor": "white",
            "ticks": ""
           },
           "bgcolor": "#E5ECF6",
           "radialaxis": {
            "gridcolor": "white",
            "linecolor": "white",
            "ticks": ""
           }
          },
          "scene": {
           "xaxis": {
            "backgroundcolor": "#E5ECF6",
            "gridcolor": "white",
            "gridwidth": 2,
            "linecolor": "white",
            "showbackground": true,
            "ticks": "",
            "zerolinecolor": "white"
           },
           "yaxis": {
            "backgroundcolor": "#E5ECF6",
            "gridcolor": "white",
            "gridwidth": 2,
            "linecolor": "white",
            "showbackground": true,
            "ticks": "",
            "zerolinecolor": "white"
           },
           "zaxis": {
            "backgroundcolor": "#E5ECF6",
            "gridcolor": "white",
            "gridwidth": 2,
            "linecolor": "white",
            "showbackground": true,
            "ticks": "",
            "zerolinecolor": "white"
           }
          },
          "shapedefaults": {
           "line": {
            "color": "#2a3f5f"
           }
          },
          "ternary": {
           "aaxis": {
            "gridcolor": "white",
            "linecolor": "white",
            "ticks": ""
           },
           "baxis": {
            "gridcolor": "white",
            "linecolor": "white",
            "ticks": ""
           },
           "bgcolor": "#E5ECF6",
           "caxis": {
            "gridcolor": "white",
            "linecolor": "white",
            "ticks": ""
           }
          },
          "title": {
           "x": 0.05
          },
          "xaxis": {
           "automargin": true,
           "gridcolor": "white",
           "linecolor": "white",
           "ticks": "",
           "title": {
            "standoff": 15
           },
           "zerolinecolor": "white",
           "zerolinewidth": 2
          },
          "yaxis": {
           "automargin": true,
           "gridcolor": "white",
           "linecolor": "white",
           "ticks": "",
           "title": {
            "standoff": 15
           },
           "zerolinecolor": "white",
           "zerolinewidth": 2
          }
         }
        },
        "xaxis": {
         "anchor": "y",
         "domain": [
          0,
          1
         ],
         "title": {
          "text": "x"
         }
        },
        "yaxis": {
         "anchor": "x",
         "domain": [
          0,
          1
         ],
         "title": {
          "text": "y"
         }
        }
       }
      }
     },
     "metadata": {},
     "output_type": "display_data"
    },
    {
     "data": {
      "application/vnd.plotly.v1+json": {
       "config": {
        "plotlyServerURL": "https://plot.ly"
       },
       "data": [
        {
         "hovertemplate": "x=%{x}<br>y=%{y}<extra></extra>",
         "legendgroup": "",
         "line": {
          "color": "#636efa",
          "dash": "solid"
         },
         "mode": "lines",
         "name": "",
         "orientation": "v",
         "showlegend": false,
         "type": "scatter",
         "x": [
          -1025.7795308292025,
          -974.9736769824428,
          -924.1678231356832,
          -873.3619692889237,
          -822.556115442164,
          -771.7502615954044,
          -720.9444077486448,
          -670.1385539018852,
          -619.3327000551255,
          -568.5268462083659,
          -517.7209923616062,
          -466.9151385148467,
          -416.10928466808707,
          -365.3034308213274,
          -314.4975769745679,
          -263.69172312780825,
          -212.8858692810486,
          -162.08001543428895,
          -111.2741615875293,
          -60.468307740769774,
          -9.662453894010127,
          41.143399952749405,
          91.94925379950905,
          142.7551076462687,
          193.56096149302834,
          244.366815339788,
          295.17266918654764,
          345.9785230333073,
          396.7843768800667,
          447.59023072682635,
          498.396084573586,
          549.2019384203456,
          600.0077922671053,
          650.8136461138649,
          701.6194999606246,
          752.4253538073842,
          803.2312076541439,
          854.0370615009033,
          904.8429153476629,
          955.6487691944226,
          1006.4546230411822,
          1057.2604768879419,
          1108.0663307347013,
          1158.8721845814612,
          1209.6780384282206,
          1260.4838922749805,
          1311.2897461217399,
          1362.0955999684998,
          1412.9014538152592,
          1463.7073076620186,
          1514.5131615087785,
          1565.3190153555379,
          1616.1248692022978,
          1666.9307230490572,
          1717.736576895817,
          1768.5424307425765,
          1819.348284589336,
          1870.1541384360958,
          1920.9599922828552,
          1971.765846129615,
          2022.5716999763745,
          2073.3775538231343,
          2124.1834076698938,
          2174.9892615166536,
          2225.795115363413,
          2276.6009692101725,
          2327.4068230569324,
          2378.2126769036918,
          2429.0185307504516,
          2479.824384597211,
          2530.630238443971,
          2581.4360922907304,
          2632.2419461374902,
          2683.0477999842497,
          2733.853653831009,
          2784.659507677769,
          2835.4653615245284,
          2886.2712153712882,
          2937.0770692180477,
          2987.8829230648075,
          3038.688776911567,
          3089.494630758327,
          3140.3004846050862,
          3191.1063384518457,
          3241.912192298605,
          3292.7180461453654,
          3343.523899992125,
          3394.3297538388842,
          3445.1356076856437,
          3495.941461532403,
          3546.7473153791634,
          3597.553169225923,
          3648.3590230726822,
          3699.1648769194417,
          3749.970730766202,
          3800.7765846129614,
          3851.582438459721,
          3902.3882923064803,
          3953.1941461532397,
          4004
         ],
         "xaxis": "x",
         "y": [
          0.00003117758141504347,
          0.0000347823929593478,
          0.000038709844353046125,
          0.000042976231001428364,
          0.000047597063323649606,
          0.00005258682172129097,
          0.00005795869805039856,
          0.00006372432610455252,
          0.00006989350407838146,
          0.00007647391243066841,
          0.00008347083099224081,
          0.00009088685955407897,
          0.00009872164651309973,
          0.00010697163043447785,
          0.00011562979959813403,
          0.000124685474721858,
          0.00013412412008428153,
          0.00014392718819889887,
          0.00015407200300874568,
          0.00016453168627559607,
          0.00017527513142553212,
          0.0001862670285851472,
          0.00019746794390308812,
          0.00020883445550678756,
          0.00022031934760384977,
          0.0002318718633144067,
          0.0002434380158305035,
          0.00025496095645945524,
          0.00026638139704065583,
          0.00027763808315187013,
          0.00028866831346525756,
          0.00029940849959968023,
          0.000309794759868742,
          0.0003197635394674687,
          0.00032925224889730325,
          0.0003381999118200067,
          0.00034654781307444084,
          0.00035424013730125736,
          0.00036122458851080215,
          0.0003674529810065635,
          0.00037288179234339276,
          0.0003774726694550557,
          0.00038119287972336336,
          0.00038401569957052225,
          0.0003859207341224123,
          0.0003868941625941833,
          0.00038692890526819995,
          0.0003860247092423093,
          0.000384188151495607,
          0.0003814325592197176,
          0.0003777778487655633,
          0.0003732502859281765,
          0.000367882171605559,
          0.00036171145809375105,
          0.0003547813023932625,
          0.0003471395638789656,
          0.000338838254507084,
          0.0003299329503837165,
          0.00032048217398841284,
          0.00031054675662724825,
          0.00030018919078085446,
          0.0002894729819167412,
          0.00027846200905920113,
          0.00026721990296538136,
          0.00025580945015771185,
          0.0002442920303288662,
          0.0002327270937865158,
          0.00022117168466391808,
          0.0002096800146127652,
          0.00019830309064121463,
          0.00018708839968704994,
          0.00017607965144723735,
          0.00016531657994319946,
          0.0001548348033066063,
          0.00014466574034180442,
          0.00013483658157402702,
          0.0001253703117402413,
          0.00011628578003187788,
          0.00010759781386266326,
          0.00009931737151416295,
          0.0000914517287073392,
          0.00008400469395852762,
          0.00007697684749833132,
          0.00007036579855535094,
          0.00006416645592489161,
          0.00005837130694571866,
          0.00005297070028437984,
          0.00004795312826457014,
          0.000043305504866123754,
          0.000039013435942034574,
          0.00003506147865029146,
          0.00003143338755865988,
          0.000028112345344051097,
          0.00002508117646399355,
          0.00002232254261728664,
          0.000019819119226780996,
          0.00001755375256327467,
          0.00001550959748097925,
          0.00001367023604841193,
          0.000012019777631697858
         ],
         "yaxis": "y"
        }
       ],
       "layout": {
        "legend": {
         "tracegroupgap": 0
        },
        "margin": {
         "t": 60
        },
        "template": {
         "data": {
          "bar": [
           {
            "error_x": {
             "color": "#2a3f5f"
            },
            "error_y": {
             "color": "#2a3f5f"
            },
            "marker": {
             "line": {
              "color": "#E5ECF6",
              "width": 0.5
             },
             "pattern": {
              "fillmode": "overlay",
              "size": 10,
              "solidity": 0.2
             }
            },
            "type": "bar"
           }
          ],
          "barpolar": [
           {
            "marker": {
             "line": {
              "color": "#E5ECF6",
              "width": 0.5
             },
             "pattern": {
              "fillmode": "overlay",
              "size": 10,
              "solidity": 0.2
             }
            },
            "type": "barpolar"
           }
          ],
          "carpet": [
           {
            "aaxis": {
             "endlinecolor": "#2a3f5f",
             "gridcolor": "white",
             "linecolor": "white",
             "minorgridcolor": "white",
             "startlinecolor": "#2a3f5f"
            },
            "baxis": {
             "endlinecolor": "#2a3f5f",
             "gridcolor": "white",
             "linecolor": "white",
             "minorgridcolor": "white",
             "startlinecolor": "#2a3f5f"
            },
            "type": "carpet"
           }
          ],
          "choropleth": [
           {
            "colorbar": {
             "outlinewidth": 0,
             "ticks": ""
            },
            "type": "choropleth"
           }
          ],
          "contour": [
           {
            "colorbar": {
             "outlinewidth": 0,
             "ticks": ""
            },
            "colorscale": [
             [
              0,
              "#0d0887"
             ],
             [
              0.1111111111111111,
              "#46039f"
             ],
             [
              0.2222222222222222,
              "#7201a8"
             ],
             [
              0.3333333333333333,
              "#9c179e"
             ],
             [
              0.4444444444444444,
              "#bd3786"
             ],
             [
              0.5555555555555556,
              "#d8576b"
             ],
             [
              0.6666666666666666,
              "#ed7953"
             ],
             [
              0.7777777777777778,
              "#fb9f3a"
             ],
             [
              0.8888888888888888,
              "#fdca26"
             ],
             [
              1,
              "#f0f921"
             ]
            ],
            "type": "contour"
           }
          ],
          "contourcarpet": [
           {
            "colorbar": {
             "outlinewidth": 0,
             "ticks": ""
            },
            "type": "contourcarpet"
           }
          ],
          "heatmap": [
           {
            "colorbar": {
             "outlinewidth": 0,
             "ticks": ""
            },
            "colorscale": [
             [
              0,
              "#0d0887"
             ],
             [
              0.1111111111111111,
              "#46039f"
             ],
             [
              0.2222222222222222,
              "#7201a8"
             ],
             [
              0.3333333333333333,
              "#9c179e"
             ],
             [
              0.4444444444444444,
              "#bd3786"
             ],
             [
              0.5555555555555556,
              "#d8576b"
             ],
             [
              0.6666666666666666,
              "#ed7953"
             ],
             [
              0.7777777777777778,
              "#fb9f3a"
             ],
             [
              0.8888888888888888,
              "#fdca26"
             ],
             [
              1,
              "#f0f921"
             ]
            ],
            "type": "heatmap"
           }
          ],
          "heatmapgl": [
           {
            "colorbar": {
             "outlinewidth": 0,
             "ticks": ""
            },
            "colorscale": [
             [
              0,
              "#0d0887"
             ],
             [
              0.1111111111111111,
              "#46039f"
             ],
             [
              0.2222222222222222,
              "#7201a8"
             ],
             [
              0.3333333333333333,
              "#9c179e"
             ],
             [
              0.4444444444444444,
              "#bd3786"
             ],
             [
              0.5555555555555556,
              "#d8576b"
             ],
             [
              0.6666666666666666,
              "#ed7953"
             ],
             [
              0.7777777777777778,
              "#fb9f3a"
             ],
             [
              0.8888888888888888,
              "#fdca26"
             ],
             [
              1,
              "#f0f921"
             ]
            ],
            "type": "heatmapgl"
           }
          ],
          "histogram": [
           {
            "marker": {
             "pattern": {
              "fillmode": "overlay",
              "size": 10,
              "solidity": 0.2
             }
            },
            "type": "histogram"
           }
          ],
          "histogram2d": [
           {
            "colorbar": {
             "outlinewidth": 0,
             "ticks": ""
            },
            "colorscale": [
             [
              0,
              "#0d0887"
             ],
             [
              0.1111111111111111,
              "#46039f"
             ],
             [
              0.2222222222222222,
              "#7201a8"
             ],
             [
              0.3333333333333333,
              "#9c179e"
             ],
             [
              0.4444444444444444,
              "#bd3786"
             ],
             [
              0.5555555555555556,
              "#d8576b"
             ],
             [
              0.6666666666666666,
              "#ed7953"
             ],
             [
              0.7777777777777778,
              "#fb9f3a"
             ],
             [
              0.8888888888888888,
              "#fdca26"
             ],
             [
              1,
              "#f0f921"
             ]
            ],
            "type": "histogram2d"
           }
          ],
          "histogram2dcontour": [
           {
            "colorbar": {
             "outlinewidth": 0,
             "ticks": ""
            },
            "colorscale": [
             [
              0,
              "#0d0887"
             ],
             [
              0.1111111111111111,
              "#46039f"
             ],
             [
              0.2222222222222222,
              "#7201a8"
             ],
             [
              0.3333333333333333,
              "#9c179e"
             ],
             [
              0.4444444444444444,
              "#bd3786"
             ],
             [
              0.5555555555555556,
              "#d8576b"
             ],
             [
              0.6666666666666666,
              "#ed7953"
             ],
             [
              0.7777777777777778,
              "#fb9f3a"
             ],
             [
              0.8888888888888888,
              "#fdca26"
             ],
             [
              1,
              "#f0f921"
             ]
            ],
            "type": "histogram2dcontour"
           }
          ],
          "mesh3d": [
           {
            "colorbar": {
             "outlinewidth": 0,
             "ticks": ""
            },
            "type": "mesh3d"
           }
          ],
          "parcoords": [
           {
            "line": {
             "colorbar": {
              "outlinewidth": 0,
              "ticks": ""
             }
            },
            "type": "parcoords"
           }
          ],
          "pie": [
           {
            "automargin": true,
            "type": "pie"
           }
          ],
          "scatter": [
           {
            "marker": {
             "colorbar": {
              "outlinewidth": 0,
              "ticks": ""
             }
            },
            "type": "scatter"
           }
          ],
          "scatter3d": [
           {
            "line": {
             "colorbar": {
              "outlinewidth": 0,
              "ticks": ""
             }
            },
            "marker": {
             "colorbar": {
              "outlinewidth": 0,
              "ticks": ""
             }
            },
            "type": "scatter3d"
           }
          ],
          "scattercarpet": [
           {
            "marker": {
             "colorbar": {
              "outlinewidth": 0,
              "ticks": ""
             }
            },
            "type": "scattercarpet"
           }
          ],
          "scattergeo": [
           {
            "marker": {
             "colorbar": {
              "outlinewidth": 0,
              "ticks": ""
             }
            },
            "type": "scattergeo"
           }
          ],
          "scattergl": [
           {
            "marker": {
             "colorbar": {
              "outlinewidth": 0,
              "ticks": ""
             }
            },
            "type": "scattergl"
           }
          ],
          "scattermapbox": [
           {
            "marker": {
             "colorbar": {
              "outlinewidth": 0,
              "ticks": ""
             }
            },
            "type": "scattermapbox"
           }
          ],
          "scatterpolar": [
           {
            "marker": {
             "colorbar": {
              "outlinewidth": 0,
              "ticks": ""
             }
            },
            "type": "scatterpolar"
           }
          ],
          "scatterpolargl": [
           {
            "marker": {
             "colorbar": {
              "outlinewidth": 0,
              "ticks": ""
             }
            },
            "type": "scatterpolargl"
           }
          ],
          "scatterternary": [
           {
            "marker": {
             "colorbar": {
              "outlinewidth": 0,
              "ticks": ""
             }
            },
            "type": "scatterternary"
           }
          ],
          "surface": [
           {
            "colorbar": {
             "outlinewidth": 0,
             "ticks": ""
            },
            "colorscale": [
             [
              0,
              "#0d0887"
             ],
             [
              0.1111111111111111,
              "#46039f"
             ],
             [
              0.2222222222222222,
              "#7201a8"
             ],
             [
              0.3333333333333333,
              "#9c179e"
             ],
             [
              0.4444444444444444,
              "#bd3786"
             ],
             [
              0.5555555555555556,
              "#d8576b"
             ],
             [
              0.6666666666666666,
              "#ed7953"
             ],
             [
              0.7777777777777778,
              "#fb9f3a"
             ],
             [
              0.8888888888888888,
              "#fdca26"
             ],
             [
              1,
              "#f0f921"
             ]
            ],
            "type": "surface"
           }
          ],
          "table": [
           {
            "cells": {
             "fill": {
              "color": "#EBF0F8"
             },
             "line": {
              "color": "white"
             }
            },
            "header": {
             "fill": {
              "color": "#C8D4E3"
             },
             "line": {
              "color": "white"
             }
            },
            "type": "table"
           }
          ]
         },
         "layout": {
          "annotationdefaults": {
           "arrowcolor": "#2a3f5f",
           "arrowhead": 0,
           "arrowwidth": 1
          },
          "autotypenumbers": "strict",
          "coloraxis": {
           "colorbar": {
            "outlinewidth": 0,
            "ticks": ""
           }
          },
          "colorscale": {
           "diverging": [
            [
             0,
             "#8e0152"
            ],
            [
             0.1,
             "#c51b7d"
            ],
            [
             0.2,
             "#de77ae"
            ],
            [
             0.3,
             "#f1b6da"
            ],
            [
             0.4,
             "#fde0ef"
            ],
            [
             0.5,
             "#f7f7f7"
            ],
            [
             0.6,
             "#e6f5d0"
            ],
            [
             0.7,
             "#b8e186"
            ],
            [
             0.8,
             "#7fbc41"
            ],
            [
             0.9,
             "#4d9221"
            ],
            [
             1,
             "#276419"
            ]
           ],
           "sequential": [
            [
             0,
             "#0d0887"
            ],
            [
             0.1111111111111111,
             "#46039f"
            ],
            [
             0.2222222222222222,
             "#7201a8"
            ],
            [
             0.3333333333333333,
             "#9c179e"
            ],
            [
             0.4444444444444444,
             "#bd3786"
            ],
            [
             0.5555555555555556,
             "#d8576b"
            ],
            [
             0.6666666666666666,
             "#ed7953"
            ],
            [
             0.7777777777777778,
             "#fb9f3a"
            ],
            [
             0.8888888888888888,
             "#fdca26"
            ],
            [
             1,
             "#f0f921"
            ]
           ],
           "sequentialminus": [
            [
             0,
             "#0d0887"
            ],
            [
             0.1111111111111111,
             "#46039f"
            ],
            [
             0.2222222222222222,
             "#7201a8"
            ],
            [
             0.3333333333333333,
             "#9c179e"
            ],
            [
             0.4444444444444444,
             "#bd3786"
            ],
            [
             0.5555555555555556,
             "#d8576b"
            ],
            [
             0.6666666666666666,
             "#ed7953"
            ],
            [
             0.7777777777777778,
             "#fb9f3a"
            ],
            [
             0.8888888888888888,
             "#fdca26"
            ],
            [
             1,
             "#f0f921"
            ]
           ]
          },
          "colorway": [
           "#636efa",
           "#EF553B",
           "#00cc96",
           "#ab63fa",
           "#FFA15A",
           "#19d3f3",
           "#FF6692",
           "#B6E880",
           "#FF97FF",
           "#FECB52"
          ],
          "font": {
           "color": "#2a3f5f"
          },
          "geo": {
           "bgcolor": "white",
           "lakecolor": "white",
           "landcolor": "#E5ECF6",
           "showlakes": true,
           "showland": true,
           "subunitcolor": "white"
          },
          "hoverlabel": {
           "align": "left"
          },
          "hovermode": "closest",
          "mapbox": {
           "style": "light"
          },
          "paper_bgcolor": "white",
          "plot_bgcolor": "#E5ECF6",
          "polar": {
           "angularaxis": {
            "gridcolor": "white",
            "linecolor": "white",
            "ticks": ""
           },
           "bgcolor": "#E5ECF6",
           "radialaxis": {
            "gridcolor": "white",
            "linecolor": "white",
            "ticks": ""
           }
          },
          "scene": {
           "xaxis": {
            "backgroundcolor": "#E5ECF6",
            "gridcolor": "white",
            "gridwidth": 2,
            "linecolor": "white",
            "showbackground": true,
            "ticks": "",
            "zerolinecolor": "white"
           },
           "yaxis": {
            "backgroundcolor": "#E5ECF6",
            "gridcolor": "white",
            "gridwidth": 2,
            "linecolor": "white",
            "showbackground": true,
            "ticks": "",
            "zerolinecolor": "white"
           },
           "zaxis": {
            "backgroundcolor": "#E5ECF6",
            "gridcolor": "white",
            "gridwidth": 2,
            "linecolor": "white",
            "showbackground": true,
            "ticks": "",
            "zerolinecolor": "white"
           }
          },
          "shapedefaults": {
           "line": {
            "color": "#2a3f5f"
           }
          },
          "ternary": {
           "aaxis": {
            "gridcolor": "white",
            "linecolor": "white",
            "ticks": ""
           },
           "baxis": {
            "gridcolor": "white",
            "linecolor": "white",
            "ticks": ""
           },
           "bgcolor": "#E5ECF6",
           "caxis": {
            "gridcolor": "white",
            "linecolor": "white",
            "ticks": ""
           }
          },
          "title": {
           "x": 0.05
          },
          "xaxis": {
           "automargin": true,
           "gridcolor": "white",
           "linecolor": "white",
           "ticks": "",
           "title": {
            "standoff": 15
           },
           "zerolinecolor": "white",
           "zerolinewidth": 2
          },
          "yaxis": {
           "automargin": true,
           "gridcolor": "white",
           "linecolor": "white",
           "ticks": "",
           "title": {
            "standoff": 15
           },
           "zerolinecolor": "white",
           "zerolinewidth": 2
          }
         }
        },
        "xaxis": {
         "anchor": "y",
         "domain": [
          0,
          1
         ],
         "title": {
          "text": "x"
         }
        },
        "yaxis": {
         "anchor": "x",
         "domain": [
          0,
          1
         ],
         "title": {
          "text": "y"
         }
        }
       }
      }
     },
     "metadata": {},
     "output_type": "display_data"
    }
   ],
   "source": [
    "# 전국 전기차 정규분포\n",
    "show_norm(df_elec_vehicle.mean(), df_elec_vehicle.std(), df_elec_vehicle.min(), df_elec_vehicle.max())\n",
    "show_norm(df_hidro_vehicle.mean(), df_hidro_vehicle.std(), df_hidro_vehicle.min(), df_hidro_vehicle.max())"
   ]
  },
  {
   "cell_type": "code",
   "execution_count": 746,
   "metadata": {},
   "outputs": [
    {
     "data": {
      "text/plain": [
       "서울    2435.0\n",
       "부산    1473.0\n",
       "대구     352.0\n",
       "인천    1139.0\n",
       "광주    1018.0\n",
       "대전    1045.0\n",
       "울산    2395.0\n",
       "세종     205.0\n",
       "경기    4004.0\n",
       "강원    1959.0\n",
       "충북    1095.0\n",
       "충남     908.0\n",
       "전북    1435.0\n",
       "전남     448.0\n",
       "경북      77.0\n",
       "경남    1899.0\n",
       "제주       5.0\n",
       "Name: 8, dtype: float64"
      ]
     },
     "execution_count": 746,
     "metadata": {},
     "output_type": "execute_result"
    }
   ],
   "source": [
    "df_hidro_vehicle"
   ]
  },
  {
   "cell_type": "code",
   "execution_count": 747,
   "metadata": {},
   "outputs": [
    {
     "data": {
      "application/vnd.plotly.v1+json": {
       "config": {
        "plotlyServerURL": "https://plot.ly"
       },
       "data": [
        {
         "fill": "tozeroy",
         "line": {
          "color": "rgb(100,110,250)"
         },
         "name": "적합",
         "text": "0.034978348735681564",
         "type": "scatter",
         "x": [
          -83854.6885088947,
          -82177.89367547153,
          -80501.09884204835,
          -78824.30400862517,
          -77147.509175202,
          -75470.7143417788,
          -73793.91950835563,
          -72117.12467493245,
          -70440.32984150927,
          -68763.5350080861,
          -67086.74017466292,
          -65409.945341239734,
          -63733.15050781656,
          -62056.35567439338,
          -60379.560840970196,
          -58702.76600754702,
          -57025.97117412384,
          -55349.176340700666,
          -53672.38150727749,
          -51995.586673854305,
          -50318.79184043113,
          -48641.99700700795,
          -46965.20217358477,
          -45288.40734016159,
          -43611.61250673841,
          -41934.817673315236,
          -40258.02283989206,
          -38581.228006468875,
          -36904.4331730457,
          -35227.63833962252,
          -33550.84350619934,
          -31874.04867277616,
          -30197.253839352983,
          -28520.459005929806,
          -26843.66417250663,
          -25166.869339083445,
          -23490.07450566027,
          -21813.27967223709,
          -20136.484838813907,
          -18459.69000539073,
          -16782.895171967553,
          -15106.100338544376,
          -13429.3055051212,
          -11752.510671698023,
          -10075.715838274831,
          -8398.921004851654,
          -6722.126171428477,
          -5045.3313380053005,
          -3368.5365045821236,
          -1691.7416711589467,
          -14.946837735769805,
          1661.847995687407,
          3338.642829110584,
          5015.437662533775,
          6692.232495956952,
          8369.02732938013,
          10045.822162803306,
          11722.616996226483,
          13399.41182964966,
          15076.206663072837,
          16753.00149649603,
          18429.796329919205,
          20106.591163342382,
          21783.38599676556,
          23460.180830188736,
          25136.975663611913,
          26813.77049703509,
          28490.565330458267,
          30167.360163881443,
          31844.154997304635,
          33520.94983072781,
          35197.74466415099,
          36874.539497574166,
          38551.33433099734,
          40228.12916442052,
          41904.923997843696,
          43581.71883126689,
          45258.513664690065,
          46935.30849811324,
          48612.103331536404,
          50288.898164959595,
          51965.69299838279,
          53642.48783180595,
          55319.28266522914,
          56996.0774986523,
          58672.872332075494,
          60349.66716549866,
          62026.46199892185,
          63703.25683234504,
          65380.0516657682,
          67056.8464991914,
          68733.64133261456,
          70410.43616603775,
          72087.23099946091,
          73764.0258328841,
          75440.82066630726,
          77117.61549973045,
          78794.41033315365,
          80471.20516657681,
          82148
         ],
         "y": [
          7.33846034047919e-8,
          7.493390492836474e-8,
          7.651080363802663e-8,
          7.811566737284697e-8,
          7.974886603656413e-8,
          8.141077154101207e-8,
          8.310175774768518e-8,
          8.4822200407425e-8,
          8.657247709821441e-8,
          8.835296716106546e-8,
          9.016405163398711e-8,
          9.200611318401989e-8,
          9.387953603732585e-8,
          9.578470590732159e-8,
          9.772200992084295e-8,
          9.969183654233347e-8,
          1.016945754960444e-7,
          1.0373061768623887e-7,
          1.0580035511539328e-7,
          1.0790418080038675e-7,
          1.100424886866734e-7,
          1.1221567356043208e-7,
          1.1442413095868882e-7,
          1.1666825707740771e-7,
          1.1894844867754767e-7,
          1.2126510298908288e-7,
          1.2361861761298666e-7,
          1.2600939042117722e-7,
          1.2843781945442672e-7,
          1.3090430281823671e-7,
          1.334092385766802e-7,
          1.3595302464421608e-7,
          1.3853605867548063e-7,
          1.4115873795306027e-7,
          1.438214592732555e-7,
          1.465246188298408e-7,
          1.492686120958321e-7,
          1.520538337032705e-7,
          1.5488067732103392e-7,
          1.57749535530691e-7,
          1.6066079970040739e-7,
          1.636148598569229e-7,
          1.66612104555612e-7,
          1.696529207486493e-7,
          1.72737693651294e-7,
          1.758668066063147e-7,
          1.7904064094657802e-7,
          1.8225957585581794e-7,
          1.8552398822761413e-7,
          1.8883425252260125e-7,
          1.9219074062393565e-7,
          1.95593821691048e-7,
          1.990438620117084e-7,
          2.0254122485243424e-7,
          2.06086270307275e-7,
          2.0967935514500116e-7,
          2.1332083265473472e-7,
          2.170110524900568e-7,
          2.2075036051162574e-7,
          2.245390986283465e-7,
          2.2837760463712868e-7,
          2.322662120612741e-7,
          2.3620524998753683e-7,
          2.4019504290189666e-7,
          2.442359105240927e-7,
          2.4832816764096166e-7,
          2.52472123938627e-7,
          2.566680838335922e-7,
          2.6091634630278036e-7,
          2.6521720471257924e-7,
          2.695709466469369e-7,
          2.739778537345694e-7,
          2.784382014753284e-7,
          2.829522590657897e-7,
          2.875202892241195e-7,
          2.921425480142757e-7,
          2.9681928466960737e-7,
          3.0155074141591127e-7,
          3.0633715329400897e-7,
          3.111787479819106e-7,
          3.160757456166272e-7,
          3.2102835861569987e-7,
          3.2603679149851333e-7,
          3.31101240707464e-7,
          3.362218944290473e-7,
          3.4139893241494367e-7,
          3.4663252580316636e-7,
          3.51922836939352e-7,
          3.572700191982632e-7,
          3.6267421680558053e-7,
          3.681355646600609e-7,
          3.7365418815613815e-7,
          3.792302030070437e-7,
          3.848637150685311e-7,
          3.90554820163278e-7,
          3.963036039060506e-7,
          4.021101415297145e-7,
          4.0797449771216706e-7,
          4.1389672640428443e-7,
          4.198768706589607e-7
         ]
        },
        {
         "fill": "tozeroy",
         "line": {
          "color": "rgb(239,85,59)"
         },
         "name": "부적합",
         "text": "0.034978348735681564",
         "type": "scatter",
         "x": [
          82148,
          90084.2992929293,
          98020.59858585859,
          105956.89787878789,
          113893.19717171717,
          121829.49646464647,
          129765.79575757576,
          137702.09505050504,
          145638.39434343434,
          153574.69363636363,
          161510.99292929293,
          169447.29222222223,
          177383.59151515152,
          185319.89080808082,
          193256.19010101008,
          201192.48939393938,
          209128.78868686868,
          217065.08797979797,
          225001.38727272727,
          232937.68656565656,
          240873.98585858586,
          248810.28515151516,
          256746.58444444445,
          264682.88373737375,
          272619.18303030304,
          280555.48232323234,
          288491.78161616164,
          296428.08090909093,
          304364.38020202017,
          312300.6794949495,
          320236.97878787876,
          328173.2780808081,
          336109.57737373735,
          344045.8766666667,
          351982.17595959594,
          359918.47525252524,
          367854.77454545454,
          375791.07383838383,
          383727.3731313131,
          391663.6724242424,
          399599.9717171717,
          407536.271010101,
          415472.5703030303,
          423408.8695959596,
          431345.1688888889,
          439281.4681818182,
          447217.7674747475,
          455154.0667676768,
          463090.3660606061,
          471026.6653535354,
          478962.9646464647,
          486899.263939394,
          494835.5632323233,
          502771.86252525257,
          510708.1618181818,
          518644.4611111111,
          526580.7604040403,
          534517.0596969697,
          542453.358989899,
          550389.6582828283,
          558325.9575757575,
          566262.2568686869,
          574198.5561616162,
          582134.8554545455,
          590071.1547474747,
          598007.4540404041,
          605943.7533333334,
          613880.0526262627,
          621816.3519191919,
          629752.6512121212,
          637688.9505050505,
          645625.2497979798,
          653561.5490909091,
          661497.8483838384,
          669434.1476767677,
          677370.446969697,
          685306.7462626263,
          693243.0455555556,
          701179.3448484848,
          709115.6441414142,
          717051.9434343434,
          724988.2427272728,
          732924.542020202,
          740860.8413131314,
          748797.1406060606,
          756733.43989899,
          764669.7391919192,
          772606.0384848485,
          780542.3377777778,
          788478.637070707,
          796414.9363636364,
          804351.2356565656,
          812287.534949495,
          820223.8342424242,
          828160.1335353536,
          836096.4328282828,
          844032.7321212122,
          851969.0314141414,
          859905.3307070708,
          867841.63
         ],
         "y": [
          4.198768706589607e-7,
          4.489674042256348e-7,
          4.793554806471023e-7,
          5.110349564969962e-7,
          5.439932928752148e-7,
          5.782112103934351e-7,
          6.136623736457095e-7,
          6.503131099832586e-7,
          6.881221673492384e-7,
          7.270405158033707e-7,
          7.670111971757512e-7,
          8.079692270325503e-7,
          8.498415528134755e-7,
          8.925470716122926e-7,
          9.359967106192722e-7,
          9.800935727307556e-7,
          0.0000010247331492601386,
          0.0000010698036010612963,
          0.0000011151861087058416,
          0.0000011607552916466454,
          0.0000012063796955596342,
          0.0000012519223462927913,
          0.0000012972413680750556,
          0.0000013421906628584675,
          0.0000013866206468950929,
          0.0000014303790398967372,
          0.000001473311701401306,
          0.0000015152635082857676,
          0.0000015560792667327553,
          0.0000015956046513861897,
          0.0000016336871639305991,
          0.0000016701771029079652,
          0.000001704928536252838,
          0.000001737800267788045,
          0.0000017686567887850272,
          0.0000017973692056589964,
          0.0000018238161349422986,
          0.0000018478845568608385,
          0.0000018694706191276647,
          0.000001888480382962733,
          0.0000019048305038447963,
          0.0000019184488400949497,
          0.000001929274983074789,
          0.0000019372607035472035,
          0.0000019423703095848724,
          0.000001944580912309938,
          0.0000019438825966963014,
          0.000001940278495651039,
          0.000001933784766600408,
          0.0000019244304708253056,
          0.00000191225735680713,
          0.0000018973195498441546,
          0.0000018796831511674025,
          0.0000018594257507106729,
          0.0000018366358585597759,
          0.0000018114122609097576,
          0.0000017838633070859253,
          0.0000017541061348257096,
          0.0000017222658415663665,
          0.0000016884746099320398,
          0.0000016528707959582784,
          0.0000016155979888297697,
          0.0000015768040510365146,
          0.0000015366401478752329,
          0.0000014952597751383959,
          0.0000014528177936463206,
          0.0000014094694789931206,
          0.0000013653695945011762,
          0.0000013206714949185624,
          0.000001275526267857943,
          0.000001230081919373131,
          0.0000011844826094108107,
          0.000001138867942170348,
          0.0000010933723156649736,
          0.000001048124334013986,
          0.0000010032462852188115,
          9.58853686396655e-7,
          9.150548976742793e-7,
          8.719508051911581e-7,
          8.296345729348292e-7,
          7.881914624402969e-7,
          7.476987187371177e-7,
          7.082255203289986e-7,
          6.69832990446733e-7,
          6.325742663306443e-7,
          5.964946228765983e-7,
          5.616316466225245e-7,
          5.280154557612657e-7,
          4.956689616408153e-7,
          4.6460816705365323e-7,
          4.3484249652135846e-7,
          4.0637515374640195e-7,
          3.792035014267231e-7,
          3.5331945870652795e-7,
          3.2870991166420526e-7,
          3.053571324105552e-7,
          2.8323920258236713e-7,
          2.623304372624501e-7,
          2.426018056318699e-7,
          2.240213449578902e-7
         ]
        }
       ],
       "layout": {
        "annotations": [
         {
          "bordercolor": "rgb(100,110,250)",
          "borderwidth": 2,
          "font": {
           "color": "rgb(100,110,250)",
           "size": 15
          },
          "showarrow": false,
          "text": "0.035",
          "x": 82148,
          "xshift": -40,
          "y": 4.198768706589607e-7,
          "yshift": -100
         },
         {
          "bordercolor": "rgb(239,85,59)",
          "borderwidth": 2,
          "font": {
           "color": "rgb(239,85,59)",
           "size": 15
          },
          "showarrow": false,
          "text": "0.965",
          "x": 82148,
          "xshift": 40,
          "y": 4.198768706589607e-7,
          "yshift": -100
         }
        ],
        "template": {
         "data": {
          "bar": [
           {
            "error_x": {
             "color": "#2a3f5f"
            },
            "error_y": {
             "color": "#2a3f5f"
            },
            "marker": {
             "line": {
              "color": "#E5ECF6",
              "width": 0.5
             },
             "pattern": {
              "fillmode": "overlay",
              "size": 10,
              "solidity": 0.2
             }
            },
            "type": "bar"
           }
          ],
          "barpolar": [
           {
            "marker": {
             "line": {
              "color": "#E5ECF6",
              "width": 0.5
             },
             "pattern": {
              "fillmode": "overlay",
              "size": 10,
              "solidity": 0.2
             }
            },
            "type": "barpolar"
           }
          ],
          "carpet": [
           {
            "aaxis": {
             "endlinecolor": "#2a3f5f",
             "gridcolor": "white",
             "linecolor": "white",
             "minorgridcolor": "white",
             "startlinecolor": "#2a3f5f"
            },
            "baxis": {
             "endlinecolor": "#2a3f5f",
             "gridcolor": "white",
             "linecolor": "white",
             "minorgridcolor": "white",
             "startlinecolor": "#2a3f5f"
            },
            "type": "carpet"
           }
          ],
          "choropleth": [
           {
            "colorbar": {
             "outlinewidth": 0,
             "ticks": ""
            },
            "type": "choropleth"
           }
          ],
          "contour": [
           {
            "colorbar": {
             "outlinewidth": 0,
             "ticks": ""
            },
            "colorscale": [
             [
              0,
              "#0d0887"
             ],
             [
              0.1111111111111111,
              "#46039f"
             ],
             [
              0.2222222222222222,
              "#7201a8"
             ],
             [
              0.3333333333333333,
              "#9c179e"
             ],
             [
              0.4444444444444444,
              "#bd3786"
             ],
             [
              0.5555555555555556,
              "#d8576b"
             ],
             [
              0.6666666666666666,
              "#ed7953"
             ],
             [
              0.7777777777777778,
              "#fb9f3a"
             ],
             [
              0.8888888888888888,
              "#fdca26"
             ],
             [
              1,
              "#f0f921"
             ]
            ],
            "type": "contour"
           }
          ],
          "contourcarpet": [
           {
            "colorbar": {
             "outlinewidth": 0,
             "ticks": ""
            },
            "type": "contourcarpet"
           }
          ],
          "heatmap": [
           {
            "colorbar": {
             "outlinewidth": 0,
             "ticks": ""
            },
            "colorscale": [
             [
              0,
              "#0d0887"
             ],
             [
              0.1111111111111111,
              "#46039f"
             ],
             [
              0.2222222222222222,
              "#7201a8"
             ],
             [
              0.3333333333333333,
              "#9c179e"
             ],
             [
              0.4444444444444444,
              "#bd3786"
             ],
             [
              0.5555555555555556,
              "#d8576b"
             ],
             [
              0.6666666666666666,
              "#ed7953"
             ],
             [
              0.7777777777777778,
              "#fb9f3a"
             ],
             [
              0.8888888888888888,
              "#fdca26"
             ],
             [
              1,
              "#f0f921"
             ]
            ],
            "type": "heatmap"
           }
          ],
          "heatmapgl": [
           {
            "colorbar": {
             "outlinewidth": 0,
             "ticks": ""
            },
            "colorscale": [
             [
              0,
              "#0d0887"
             ],
             [
              0.1111111111111111,
              "#46039f"
             ],
             [
              0.2222222222222222,
              "#7201a8"
             ],
             [
              0.3333333333333333,
              "#9c179e"
             ],
             [
              0.4444444444444444,
              "#bd3786"
             ],
             [
              0.5555555555555556,
              "#d8576b"
             ],
             [
              0.6666666666666666,
              "#ed7953"
             ],
             [
              0.7777777777777778,
              "#fb9f3a"
             ],
             [
              0.8888888888888888,
              "#fdca26"
             ],
             [
              1,
              "#f0f921"
             ]
            ],
            "type": "heatmapgl"
           }
          ],
          "histogram": [
           {
            "marker": {
             "pattern": {
              "fillmode": "overlay",
              "size": 10,
              "solidity": 0.2
             }
            },
            "type": "histogram"
           }
          ],
          "histogram2d": [
           {
            "colorbar": {
             "outlinewidth": 0,
             "ticks": ""
            },
            "colorscale": [
             [
              0,
              "#0d0887"
             ],
             [
              0.1111111111111111,
              "#46039f"
             ],
             [
              0.2222222222222222,
              "#7201a8"
             ],
             [
              0.3333333333333333,
              "#9c179e"
             ],
             [
              0.4444444444444444,
              "#bd3786"
             ],
             [
              0.5555555555555556,
              "#d8576b"
             ],
             [
              0.6666666666666666,
              "#ed7953"
             ],
             [
              0.7777777777777778,
              "#fb9f3a"
             ],
             [
              0.8888888888888888,
              "#fdca26"
             ],
             [
              1,
              "#f0f921"
             ]
            ],
            "type": "histogram2d"
           }
          ],
          "histogram2dcontour": [
           {
            "colorbar": {
             "outlinewidth": 0,
             "ticks": ""
            },
            "colorscale": [
             [
              0,
              "#0d0887"
             ],
             [
              0.1111111111111111,
              "#46039f"
             ],
             [
              0.2222222222222222,
              "#7201a8"
             ],
             [
              0.3333333333333333,
              "#9c179e"
             ],
             [
              0.4444444444444444,
              "#bd3786"
             ],
             [
              0.5555555555555556,
              "#d8576b"
             ],
             [
              0.6666666666666666,
              "#ed7953"
             ],
             [
              0.7777777777777778,
              "#fb9f3a"
             ],
             [
              0.8888888888888888,
              "#fdca26"
             ],
             [
              1,
              "#f0f921"
             ]
            ],
            "type": "histogram2dcontour"
           }
          ],
          "mesh3d": [
           {
            "colorbar": {
             "outlinewidth": 0,
             "ticks": ""
            },
            "type": "mesh3d"
           }
          ],
          "parcoords": [
           {
            "line": {
             "colorbar": {
              "outlinewidth": 0,
              "ticks": ""
             }
            },
            "type": "parcoords"
           }
          ],
          "pie": [
           {
            "automargin": true,
            "type": "pie"
           }
          ],
          "scatter": [
           {
            "marker": {
             "colorbar": {
              "outlinewidth": 0,
              "ticks": ""
             }
            },
            "type": "scatter"
           }
          ],
          "scatter3d": [
           {
            "line": {
             "colorbar": {
              "outlinewidth": 0,
              "ticks": ""
             }
            },
            "marker": {
             "colorbar": {
              "outlinewidth": 0,
              "ticks": ""
             }
            },
            "type": "scatter3d"
           }
          ],
          "scattercarpet": [
           {
            "marker": {
             "colorbar": {
              "outlinewidth": 0,
              "ticks": ""
             }
            },
            "type": "scattercarpet"
           }
          ],
          "scattergeo": [
           {
            "marker": {
             "colorbar": {
              "outlinewidth": 0,
              "ticks": ""
             }
            },
            "type": "scattergeo"
           }
          ],
          "scattergl": [
           {
            "marker": {
             "colorbar": {
              "outlinewidth": 0,
              "ticks": ""
             }
            },
            "type": "scattergl"
           }
          ],
          "scattermapbox": [
           {
            "marker": {
             "colorbar": {
              "outlinewidth": 0,
              "ticks": ""
             }
            },
            "type": "scattermapbox"
           }
          ],
          "scatterpolar": [
           {
            "marker": {
             "colorbar": {
              "outlinewidth": 0,
              "ticks": ""
             }
            },
            "type": "scatterpolar"
           }
          ],
          "scatterpolargl": [
           {
            "marker": {
             "colorbar": {
              "outlinewidth": 0,
              "ticks": ""
             }
            },
            "type": "scatterpolargl"
           }
          ],
          "scatterternary": [
           {
            "marker": {
             "colorbar": {
              "outlinewidth": 0,
              "ticks": ""
             }
            },
            "type": "scatterternary"
           }
          ],
          "surface": [
           {
            "colorbar": {
             "outlinewidth": 0,
             "ticks": ""
            },
            "colorscale": [
             [
              0,
              "#0d0887"
             ],
             [
              0.1111111111111111,
              "#46039f"
             ],
             [
              0.2222222222222222,
              "#7201a8"
             ],
             [
              0.3333333333333333,
              "#9c179e"
             ],
             [
              0.4444444444444444,
              "#bd3786"
             ],
             [
              0.5555555555555556,
              "#d8576b"
             ],
             [
              0.6666666666666666,
              "#ed7953"
             ],
             [
              0.7777777777777778,
              "#fb9f3a"
             ],
             [
              0.8888888888888888,
              "#fdca26"
             ],
             [
              1,
              "#f0f921"
             ]
            ],
            "type": "surface"
           }
          ],
          "table": [
           {
            "cells": {
             "fill": {
              "color": "#EBF0F8"
             },
             "line": {
              "color": "white"
             }
            },
            "header": {
             "fill": {
              "color": "#C8D4E3"
             },
             "line": {
              "color": "white"
             }
            },
            "type": "table"
           }
          ]
         },
         "layout": {
          "annotationdefaults": {
           "arrowcolor": "#2a3f5f",
           "arrowhead": 0,
           "arrowwidth": 1
          },
          "autotypenumbers": "strict",
          "coloraxis": {
           "colorbar": {
            "outlinewidth": 0,
            "ticks": ""
           }
          },
          "colorscale": {
           "diverging": [
            [
             0,
             "#8e0152"
            ],
            [
             0.1,
             "#c51b7d"
            ],
            [
             0.2,
             "#de77ae"
            ],
            [
             0.3,
             "#f1b6da"
            ],
            [
             0.4,
             "#fde0ef"
            ],
            [
             0.5,
             "#f7f7f7"
            ],
            [
             0.6,
             "#e6f5d0"
            ],
            [
             0.7,
             "#b8e186"
            ],
            [
             0.8,
             "#7fbc41"
            ],
            [
             0.9,
             "#4d9221"
            ],
            [
             1,
             "#276419"
            ]
           ],
           "sequential": [
            [
             0,
             "#0d0887"
            ],
            [
             0.1111111111111111,
             "#46039f"
            ],
            [
             0.2222222222222222,
             "#7201a8"
            ],
            [
             0.3333333333333333,
             "#9c179e"
            ],
            [
             0.4444444444444444,
             "#bd3786"
            ],
            [
             0.5555555555555556,
             "#d8576b"
            ],
            [
             0.6666666666666666,
             "#ed7953"
            ],
            [
             0.7777777777777778,
             "#fb9f3a"
            ],
            [
             0.8888888888888888,
             "#fdca26"
            ],
            [
             1,
             "#f0f921"
            ]
           ],
           "sequentialminus": [
            [
             0,
             "#0d0887"
            ],
            [
             0.1111111111111111,
             "#46039f"
            ],
            [
             0.2222222222222222,
             "#7201a8"
            ],
            [
             0.3333333333333333,
             "#9c179e"
            ],
            [
             0.4444444444444444,
             "#bd3786"
            ],
            [
             0.5555555555555556,
             "#d8576b"
            ],
            [
             0.6666666666666666,
             "#ed7953"
            ],
            [
             0.7777777777777778,
             "#fb9f3a"
            ],
            [
             0.8888888888888888,
             "#fdca26"
            ],
            [
             1,
             "#f0f921"
            ]
           ]
          },
          "colorway": [
           "#636efa",
           "#EF553B",
           "#00cc96",
           "#ab63fa",
           "#FFA15A",
           "#19d3f3",
           "#FF6692",
           "#B6E880",
           "#FF97FF",
           "#FECB52"
          ],
          "font": {
           "color": "#2a3f5f"
          },
          "geo": {
           "bgcolor": "white",
           "lakecolor": "white",
           "landcolor": "#E5ECF6",
           "showlakes": true,
           "showland": true,
           "subunitcolor": "white"
          },
          "hoverlabel": {
           "align": "left"
          },
          "hovermode": "closest",
          "mapbox": {
           "style": "light"
          },
          "paper_bgcolor": "white",
          "plot_bgcolor": "#E5ECF6",
          "polar": {
           "angularaxis": {
            "gridcolor": "white",
            "linecolor": "white",
            "ticks": ""
           },
           "bgcolor": "#E5ECF6",
           "radialaxis": {
            "gridcolor": "white",
            "linecolor": "white",
            "ticks": ""
           }
          },
          "scene": {
           "xaxis": {
            "backgroundcolor": "#E5ECF6",
            "gridcolor": "white",
            "gridwidth": 2,
            "linecolor": "white",
            "showbackground": true,
            "ticks": "",
            "zerolinecolor": "white"
           },
           "yaxis": {
            "backgroundcolor": "#E5ECF6",
            "gridcolor": "white",
            "gridwidth": 2,
            "linecolor": "white",
            "showbackground": true,
            "ticks": "",
            "zerolinecolor": "white"
           },
           "zaxis": {
            "backgroundcolor": "#E5ECF6",
            "gridcolor": "white",
            "gridwidth": 2,
            "linecolor": "white",
            "showbackground": true,
            "ticks": "",
            "zerolinecolor": "white"
           }
          },
          "shapedefaults": {
           "line": {
            "color": "#2a3f5f"
           }
          },
          "ternary": {
           "aaxis": {
            "gridcolor": "white",
            "linecolor": "white",
            "ticks": ""
           },
           "baxis": {
            "gridcolor": "white",
            "linecolor": "white",
            "ticks": ""
           },
           "bgcolor": "#E5ECF6",
           "caxis": {
            "gridcolor": "white",
            "linecolor": "white",
            "ticks": ""
           }
          },
          "title": {
           "x": 0.05
          },
          "xaxis": {
           "automargin": true,
           "gridcolor": "white",
           "linecolor": "white",
           "ticks": "",
           "title": {
            "standoff": 15
           },
           "zerolinecolor": "white",
           "zerolinewidth": 2
          },
          "yaxis": {
           "automargin": true,
           "gridcolor": "white",
           "linecolor": "white",
           "ticks": "",
           "title": {
            "standoff": 15
           },
           "zerolinecolor": "white",
           "zerolinewidth": 2
          }
         }
        }
       }
      }
     },
     "metadata": {},
     "output_type": "display_data"
    },
    {
     "name": "stdout",
     "output_type": "stream",
     "text": [
      "0.034978348735681564\n"
     ]
    },
    {
     "data": {
      "application/vnd.plotly.v1+json": {
       "config": {
        "plotlyServerURL": "https://plot.ly"
       },
       "data": [
        {
         "fill": "tozeroy",
         "line": {
          "color": "rgb(100,110,250)"
         },
         "name": "적합",
         "text": "0.011008641890079197",
         "type": "scatter",
         "x": [
          -83854.6885088947,
          -82992.7926653705,
          -82130.89682184633,
          -81269.00097832213,
          -80407.10513479795,
          -79545.20929127376,
          -78683.31344774956,
          -77821.41760422538,
          -76959.52176070119,
          -76097.625917177,
          -75235.73007365281,
          -74373.83423012862,
          -73511.93838660444,
          -72650.04254308024,
          -71788.14669955606,
          -70926.25085603187,
          -70064.35501250767,
          -69202.45916898349,
          -68340.5633254593,
          -67478.66748193512,
          -66616.77163841092,
          -65754.87579488673,
          -64892.97995136255,
          -64031.08410783835,
          -63169.18826431417,
          -62307.29242078998,
          -61445.39657726579,
          -60583.5007337416,
          -59721.604890217415,
          -58859.70904669323,
          -57997.81320316903,
          -57135.917359644845,
          -56274.02151612066,
          -55412.12567259647,
          -54550.22982907228,
          -53688.33398554809,
          -52826.4381420239,
          -51964.54229849971,
          -51102.646454975526,
          -50240.75061145134,
          -49378.85476792714,
          -48516.958924402956,
          -47655.06308087877,
          -46793.16723735458,
          -45931.27139383039,
          -45069.375550306206,
          -44207.47970678201,
          -43345.58386325782,
          -42483.688019733636,
          -41621.79217620945,
          -40759.89633268526,
          -39898.000489161066,
          -39036.10464563688,
          -38174.20880211269,
          -37312.3129585885,
          -36450.417115064316,
          -35588.52127154013,
          -34726.625428015934,
          -33864.729584491746,
          -33002.83374096756,
          -32140.93789744337,
          -31279.042053919184,
          -30417.14621039499,
          -29555.2503668708,
          -28693.354523346614,
          -27831.458679822426,
          -26969.56283629824,
          -26107.666992774044,
          -25245.771149249857,
          -24383.87530572567,
          -23521.97946220148,
          -22660.083618677294,
          -21798.1877751531,
          -20936.29193162891,
          -20074.396088104724,
          -19212.500244580537,
          -18350.60440105635,
          -17488.708557532154,
          -16626.812714007974,
          -15764.91687048378,
          -14903.021026959585,
          -14041.125183435404,
          -13179.22933991121,
          -12317.33349638703,
          -11455.437652862835,
          -10593.541809338654,
          -9731.64596581446,
          -8869.750122290265,
          -8007.8542787660845,
          -7145.95843524189,
          -6284.062591717709,
          -5422.166748193515,
          -4560.27090466932,
          -3698.3750611451396,
          -2836.479217620945,
          -1974.5833740967646,
          -1112.6875305725698,
          -250.79168704837502,
          611.1041564758052,
          1473
         ],
         "y": [
          7.33846034047919e-8,
          7.417754165355968e-8,
          7.497772429780435e-8,
          7.578520108448971e-8,
          7.660002190843833e-8,
          7.742223681038285e-8,
          7.825189597498182e-8,
          7.908904972880338e-8,
          7.993374853827221e-8,
          8.078604300758485e-8,
          8.164598387658806e-8,
          8.251362201862439e-8,
          8.33890084383418e-8,
          8.427219426946855e-8,
          8.516323077255359e-8,
          8.606216933267075e-8,
          8.696906145708894e-8,
          8.78839587729051e-8,
          8.88069130246435e-8,
          8.973797607181766e-8,
          9.067719988645766e-8,
          9.162463655060112e-8,
          9.258033825374734e-8,
          9.354435729027707e-8,
          9.451674605683381e-8,
          9.549755704967137e-8,
          9.64868428619618e-8,
          9.748465618107014e-8,
          9.849104978578962e-8,
          9.950607654354235e-8,
          1.005297894075421e-7,
          1.0156224141391968e-7,
          1.0260348567881344e-7,
          1.0365357539542002e-7,
          1.0471256383101057e-7,
          1.057805043239079e-7,
          1.0685745028042772e-7,
          1.0794345517178148e-7,
          1.0903857253094307e-7,
          1.1014285594947752e-7,
          1.1125635907433192e-7,
          1.1237913560459023e-7,
          1.135112392881887e-7,
          1.146527239185958e-7,
          1.158036433314532e-7,
          1.1696405140117987e-7,
          1.1813400203753798e-7,
          1.1931354918216241e-7,
          1.2050274680505162e-7,
          1.217016489010209e-7,
          1.2291030948611913e-7,
          1.241287825940064e-7,
          1.2535712227229594e-7,
          1.2659538257885674e-7,
          1.278436175780793e-7,
          1.2910188133710467e-7,
          1.3037022792201476e-7,
          1.316487113939861e-7,
          1.3293738580540542e-7,
          1.342363051959491e-7,
          1.3554552358862387e-7,
          1.368650949857715e-7,
          1.381950733650358e-7,
          1.3953551267529206e-7,
          1.4088646683254048e-7,
          1.4224798971576174e-7,
          1.4362013516273636e-7,
          1.4500295696582632e-7,
          1.4639650886772154e-7,
          1.4780084455714778e-7,
          1.4921601766454014e-7,
          1.506420817576787e-7,
          1.5207909033728786e-7,
          1.5352709683260096e-7,
          1.5498615459688695e-7,
          1.564563169029433e-7,
          1.579376369385509e-7,
          1.5943016780189527e-7,
          1.6093396249695103e-7,
          1.624490739288317e-7,
          1.6397555489910473e-7,
          1.6551345810106983e-7,
          1.6706283611500543e-7,
          1.6862374140337702e-7,
          1.7019622630601445e-7,
          1.717803430352523e-7,
          1.733761436710377e-7,
          1.7498368015600428e-7,
          1.7660300429051083e-7,
          1.7823416772764967e-7,
          1.7987722196821824e-7,
          1.815322183556606e-7,
          1.8319920807097465e-7,
          1.8487824212758704e-7,
          1.8656937136619667e-7,
          1.8827264644958436e-7,
          1.8998811785739393e-7,
          1.9171583588087774e-7,
          1.9345585061761483e-7,
          1.952082119661951e-7
         ]
        },
        {
         "fill": "tozeroy",
         "line": {
          "color": "rgb(239,85,59)"
         },
         "name": "부적합",
         "text": "0.011008641890079197",
         "type": "scatter",
         "x": [
          1473,
          10224.198282828283,
          18975.396565656567,
          27726.59484848485,
          36477.793131313134,
          45228.99141414142,
          53980.1896969697,
          62731.38797979798,
          71482.58626262627,
          80233.78454545455,
          88984.98282828284,
          97736.18111111112,
          106487.3793939394,
          115238.57767676769,
          123989.77595959597,
          132740.97424242424,
          141492.17252525254,
          150243.37080808083,
          158994.5690909091,
          167745.76737373738,
          176496.96565656568,
          185248.16393939394,
          193999.36222222223,
          202750.56050505053,
          211501.7587878788,
          220252.95707070708,
          229004.15535353537,
          237755.35363636367,
          246506.55191919193,
          255257.75020202022,
          264008.9484848485,
          272760.1467676768,
          281511.3450505051,
          290262.54333333333,
          299013.74161616166,
          307764.9398989899,
          316516.1381818182,
          325267.3364646465,
          334018.53474747477,
          342769.73303030303,
          351520.93131313135,
          360272.1295959596,
          369023.3278787879,
          377774.5261616162,
          386525.72444444447,
          395276.92272727273,
          404028.12101010105,
          412779.3192929293,
          421530.5175757576,
          430281.7158585859,
          439032.91414141416,
          447784.1124242425,
          456535.31070707075,
          465286.508989899,
          474037.70727272733,
          482788.9055555556,
          491540.10383838386,
          500291.3021212122,
          509042.50040404045,
          517793.6986868687,
          526544.896969697,
          535296.0952525253,
          544047.2935353536,
          552798.4918181818,
          561549.6901010101,
          570300.8883838385,
          579052.0866666667,
          587803.284949495,
          596554.4832323233,
          605305.6815151515,
          614056.8797979798,
          622808.0780808082,
          631559.2763636364,
          640310.4746464647,
          649061.672929293,
          657812.8712121212,
          666564.0694949495,
          675315.2677777779,
          684066.4660606061,
          692817.6643434344,
          701568.8626262627,
          710320.0609090909,
          719071.2591919192,
          727822.4574747476,
          736573.6557575758,
          745324.8540404041,
          754076.0523232324,
          762827.2506060606,
          771578.4488888889,
          780329.6471717173,
          789080.8454545455,
          797832.0437373738,
          806583.2420202021,
          815334.4403030303,
          824085.6385858586,
          832836.836868687,
          841588.0351515152,
          850339.2334343435,
          859090.4317171718,
          867841.63
         ],
         "y": [
          1.952082119661951e-7,
          2.137110724655269e-7,
          2.3354235654039782e-7,
          2.547498791240076e-7,
          2.7737799798116707e-7,
          3.0146696311001355e-7,
          3.270522467193794e-7,
          3.541638596786881e-7,
          3.82825661033981e-7,
          4.130546678410145e-7,
          4.448603731697296e-7,
          4.782440806689945e-7,
          5.131982645316778e-7,
          5.497059640534653e-7,
          5.877402222208177e-7,
          6.272635778815018e-7,
          6.682276210340491e-7,
          7.105726206108767e-7,
          7.542272338162414e-7,
          7.991083056096178e-7,
          8.45120766295068e-7,
          8.921576343880585e-7,
          9.401001309863393e-7,
          9.888179107774512e-7,
          0.0000010381694135817913,
          0.000001088002338969805,
          0.000001138154245020631,
          0.0000011884532707262586,
          0.000001238718979911447,
          0.000001288763322859157,
          0.0000013383917101299956,
          0.0000013874041913696108,
          0.0000014355967302386283,
          0.0000014827625650047977,
          0.0000015286936428354537,
          0.0000015731821144488554,
          0.0000016160218745525564,
          0.0000016570101324412642,
          0.0000016959489962686814,
          0.000001732647053867768,
          0.000001766920932588431,
          0.0000017985968204637267,
          0.0000018275119311138781,
          0.000001853515895155925,
          0.0000018764720615051272,
          0.000001896258692826971,
          0.0000019127700405158163,
          0.000001925917285923106,
          0.0000019356293361156,
          0.0000019418534641891087,
          0.0000019445557860688425,
          0.0000019437215677638,
          0.0000019393553591769816,
          0.000001931480952771146,
          0.0000019201411676154833,
          0.0000019053974615557201,
          0.0000018873293764224735,
          0.0000018660338232850336,
          0.0000018416242167363093,
          0.0000018142294690281645,
          0.0000017839928565360614,
          0.000001751070772492801,
          0.0000017156313811718045,
          0.0000016778531897038469,
          0.0000016379235544648448,
          0.0000015960371394684808,
          0.0000015523943444329484,
          0.0000015071997201677593,
          0.0000014606603886505477,
          0.0000014129844846458792,
          0.000001364379634972954,
          0.000001315051490575171,
          0.0000012652023254034001,
          0.0000012150297148207629,
          0.000001164725304796168,
          0.0000011144736816046318,
          0.0000010644513501234888,
          0.0000010148258271340264,
          9.657548543368704e-7,
          9.173857340946171e-7,
          8.698547892536695e-7,
          8.232869467937897e-7,
          7.777954435315364e-7,
          7.334816506826323e-7,
          6.90435012785883e-7,
          6.487330953220901e-7,
          6.084417343366896e-7,
          5.696152805028407e-7,
          5.322969293473603e-7,
          4.965191288072202e-7,
          4.623040548882321e-7,
          4.296641459564462e-7,
          3.9860268610037863e-7,
          3.691144280501035e-7,
          3.4118624631723463e-7,
          3.147978115159579e-7,
          2.8992227722649623e-7,
          2.66526971254718e-7,
          2.445740837104741e-7,
          2.240213449578902e-7
         ]
        }
       ],
       "layout": {
        "annotations": [
         {
          "bordercolor": "rgb(100,110,250)",
          "borderwidth": 2,
          "font": {
           "color": "rgb(100,110,250)",
           "size": 15
          },
          "showarrow": false,
          "text": "0.011",
          "x": 1473,
          "xshift": -40,
          "y": 1.952082119661951e-7,
          "yshift": -100
         },
         {
          "bordercolor": "rgb(239,85,59)",
          "borderwidth": 2,
          "font": {
           "color": "rgb(239,85,59)",
           "size": 15
          },
          "showarrow": false,
          "text": "0.989",
          "x": 1473,
          "xshift": 40,
          "y": 1.952082119661951e-7,
          "yshift": -100
         }
        ],
        "template": {
         "data": {
          "bar": [
           {
            "error_x": {
             "color": "#2a3f5f"
            },
            "error_y": {
             "color": "#2a3f5f"
            },
            "marker": {
             "line": {
              "color": "#E5ECF6",
              "width": 0.5
             },
             "pattern": {
              "fillmode": "overlay",
              "size": 10,
              "solidity": 0.2
             }
            },
            "type": "bar"
           }
          ],
          "barpolar": [
           {
            "marker": {
             "line": {
              "color": "#E5ECF6",
              "width": 0.5
             },
             "pattern": {
              "fillmode": "overlay",
              "size": 10,
              "solidity": 0.2
             }
            },
            "type": "barpolar"
           }
          ],
          "carpet": [
           {
            "aaxis": {
             "endlinecolor": "#2a3f5f",
             "gridcolor": "white",
             "linecolor": "white",
             "minorgridcolor": "white",
             "startlinecolor": "#2a3f5f"
            },
            "baxis": {
             "endlinecolor": "#2a3f5f",
             "gridcolor": "white",
             "linecolor": "white",
             "minorgridcolor": "white",
             "startlinecolor": "#2a3f5f"
            },
            "type": "carpet"
           }
          ],
          "choropleth": [
           {
            "colorbar": {
             "outlinewidth": 0,
             "ticks": ""
            },
            "type": "choropleth"
           }
          ],
          "contour": [
           {
            "colorbar": {
             "outlinewidth": 0,
             "ticks": ""
            },
            "colorscale": [
             [
              0,
              "#0d0887"
             ],
             [
              0.1111111111111111,
              "#46039f"
             ],
             [
              0.2222222222222222,
              "#7201a8"
             ],
             [
              0.3333333333333333,
              "#9c179e"
             ],
             [
              0.4444444444444444,
              "#bd3786"
             ],
             [
              0.5555555555555556,
              "#d8576b"
             ],
             [
              0.6666666666666666,
              "#ed7953"
             ],
             [
              0.7777777777777778,
              "#fb9f3a"
             ],
             [
              0.8888888888888888,
              "#fdca26"
             ],
             [
              1,
              "#f0f921"
             ]
            ],
            "type": "contour"
           }
          ],
          "contourcarpet": [
           {
            "colorbar": {
             "outlinewidth": 0,
             "ticks": ""
            },
            "type": "contourcarpet"
           }
          ],
          "heatmap": [
           {
            "colorbar": {
             "outlinewidth": 0,
             "ticks": ""
            },
            "colorscale": [
             [
              0,
              "#0d0887"
             ],
             [
              0.1111111111111111,
              "#46039f"
             ],
             [
              0.2222222222222222,
              "#7201a8"
             ],
             [
              0.3333333333333333,
              "#9c179e"
             ],
             [
              0.4444444444444444,
              "#bd3786"
             ],
             [
              0.5555555555555556,
              "#d8576b"
             ],
             [
              0.6666666666666666,
              "#ed7953"
             ],
             [
              0.7777777777777778,
              "#fb9f3a"
             ],
             [
              0.8888888888888888,
              "#fdca26"
             ],
             [
              1,
              "#f0f921"
             ]
            ],
            "type": "heatmap"
           }
          ],
          "heatmapgl": [
           {
            "colorbar": {
             "outlinewidth": 0,
             "ticks": ""
            },
            "colorscale": [
             [
              0,
              "#0d0887"
             ],
             [
              0.1111111111111111,
              "#46039f"
             ],
             [
              0.2222222222222222,
              "#7201a8"
             ],
             [
              0.3333333333333333,
              "#9c179e"
             ],
             [
              0.4444444444444444,
              "#bd3786"
             ],
             [
              0.5555555555555556,
              "#d8576b"
             ],
             [
              0.6666666666666666,
              "#ed7953"
             ],
             [
              0.7777777777777778,
              "#fb9f3a"
             ],
             [
              0.8888888888888888,
              "#fdca26"
             ],
             [
              1,
              "#f0f921"
             ]
            ],
            "type": "heatmapgl"
           }
          ],
          "histogram": [
           {
            "marker": {
             "pattern": {
              "fillmode": "overlay",
              "size": 10,
              "solidity": 0.2
             }
            },
            "type": "histogram"
           }
          ],
          "histogram2d": [
           {
            "colorbar": {
             "outlinewidth": 0,
             "ticks": ""
            },
            "colorscale": [
             [
              0,
              "#0d0887"
             ],
             [
              0.1111111111111111,
              "#46039f"
             ],
             [
              0.2222222222222222,
              "#7201a8"
             ],
             [
              0.3333333333333333,
              "#9c179e"
             ],
             [
              0.4444444444444444,
              "#bd3786"
             ],
             [
              0.5555555555555556,
              "#d8576b"
             ],
             [
              0.6666666666666666,
              "#ed7953"
             ],
             [
              0.7777777777777778,
              "#fb9f3a"
             ],
             [
              0.8888888888888888,
              "#fdca26"
             ],
             [
              1,
              "#f0f921"
             ]
            ],
            "type": "histogram2d"
           }
          ],
          "histogram2dcontour": [
           {
            "colorbar": {
             "outlinewidth": 0,
             "ticks": ""
            },
            "colorscale": [
             [
              0,
              "#0d0887"
             ],
             [
              0.1111111111111111,
              "#46039f"
             ],
             [
              0.2222222222222222,
              "#7201a8"
             ],
             [
              0.3333333333333333,
              "#9c179e"
             ],
             [
              0.4444444444444444,
              "#bd3786"
             ],
             [
              0.5555555555555556,
              "#d8576b"
             ],
             [
              0.6666666666666666,
              "#ed7953"
             ],
             [
              0.7777777777777778,
              "#fb9f3a"
             ],
             [
              0.8888888888888888,
              "#fdca26"
             ],
             [
              1,
              "#f0f921"
             ]
            ],
            "type": "histogram2dcontour"
           }
          ],
          "mesh3d": [
           {
            "colorbar": {
             "outlinewidth": 0,
             "ticks": ""
            },
            "type": "mesh3d"
           }
          ],
          "parcoords": [
           {
            "line": {
             "colorbar": {
              "outlinewidth": 0,
              "ticks": ""
             }
            },
            "type": "parcoords"
           }
          ],
          "pie": [
           {
            "automargin": true,
            "type": "pie"
           }
          ],
          "scatter": [
           {
            "marker": {
             "colorbar": {
              "outlinewidth": 0,
              "ticks": ""
             }
            },
            "type": "scatter"
           }
          ],
          "scatter3d": [
           {
            "line": {
             "colorbar": {
              "outlinewidth": 0,
              "ticks": ""
             }
            },
            "marker": {
             "colorbar": {
              "outlinewidth": 0,
              "ticks": ""
             }
            },
            "type": "scatter3d"
           }
          ],
          "scattercarpet": [
           {
            "marker": {
             "colorbar": {
              "outlinewidth": 0,
              "ticks": ""
             }
            },
            "type": "scattercarpet"
           }
          ],
          "scattergeo": [
           {
            "marker": {
             "colorbar": {
              "outlinewidth": 0,
              "ticks": ""
             }
            },
            "type": "scattergeo"
           }
          ],
          "scattergl": [
           {
            "marker": {
             "colorbar": {
              "outlinewidth": 0,
              "ticks": ""
             }
            },
            "type": "scattergl"
           }
          ],
          "scattermapbox": [
           {
            "marker": {
             "colorbar": {
              "outlinewidth": 0,
              "ticks": ""
             }
            },
            "type": "scattermapbox"
           }
          ],
          "scatterpolar": [
           {
            "marker": {
             "colorbar": {
              "outlinewidth": 0,
              "ticks": ""
             }
            },
            "type": "scatterpolar"
           }
          ],
          "scatterpolargl": [
           {
            "marker": {
             "colorbar": {
              "outlinewidth": 0,
              "ticks": ""
             }
            },
            "type": "scatterpolargl"
           }
          ],
          "scatterternary": [
           {
            "marker": {
             "colorbar": {
              "outlinewidth": 0,
              "ticks": ""
             }
            },
            "type": "scatterternary"
           }
          ],
          "surface": [
           {
            "colorbar": {
             "outlinewidth": 0,
             "ticks": ""
            },
            "colorscale": [
             [
              0,
              "#0d0887"
             ],
             [
              0.1111111111111111,
              "#46039f"
             ],
             [
              0.2222222222222222,
              "#7201a8"
             ],
             [
              0.3333333333333333,
              "#9c179e"
             ],
             [
              0.4444444444444444,
              "#bd3786"
             ],
             [
              0.5555555555555556,
              "#d8576b"
             ],
             [
              0.6666666666666666,
              "#ed7953"
             ],
             [
              0.7777777777777778,
              "#fb9f3a"
             ],
             [
              0.8888888888888888,
              "#fdca26"
             ],
             [
              1,
              "#f0f921"
             ]
            ],
            "type": "surface"
           }
          ],
          "table": [
           {
            "cells": {
             "fill": {
              "color": "#EBF0F8"
             },
             "line": {
              "color": "white"
             }
            },
            "header": {
             "fill": {
              "color": "#C8D4E3"
             },
             "line": {
              "color": "white"
             }
            },
            "type": "table"
           }
          ]
         },
         "layout": {
          "annotationdefaults": {
           "arrowcolor": "#2a3f5f",
           "arrowhead": 0,
           "arrowwidth": 1
          },
          "autotypenumbers": "strict",
          "coloraxis": {
           "colorbar": {
            "outlinewidth": 0,
            "ticks": ""
           }
          },
          "colorscale": {
           "diverging": [
            [
             0,
             "#8e0152"
            ],
            [
             0.1,
             "#c51b7d"
            ],
            [
             0.2,
             "#de77ae"
            ],
            [
             0.3,
             "#f1b6da"
            ],
            [
             0.4,
             "#fde0ef"
            ],
            [
             0.5,
             "#f7f7f7"
            ],
            [
             0.6,
             "#e6f5d0"
            ],
            [
             0.7,
             "#b8e186"
            ],
            [
             0.8,
             "#7fbc41"
            ],
            [
             0.9,
             "#4d9221"
            ],
            [
             1,
             "#276419"
            ]
           ],
           "sequential": [
            [
             0,
             "#0d0887"
            ],
            [
             0.1111111111111111,
             "#46039f"
            ],
            [
             0.2222222222222222,
             "#7201a8"
            ],
            [
             0.3333333333333333,
             "#9c179e"
            ],
            [
             0.4444444444444444,
             "#bd3786"
            ],
            [
             0.5555555555555556,
             "#d8576b"
            ],
            [
             0.6666666666666666,
             "#ed7953"
            ],
            [
             0.7777777777777778,
             "#fb9f3a"
            ],
            [
             0.8888888888888888,
             "#fdca26"
            ],
            [
             1,
             "#f0f921"
            ]
           ],
           "sequentialminus": [
            [
             0,
             "#0d0887"
            ],
            [
             0.1111111111111111,
             "#46039f"
            ],
            [
             0.2222222222222222,
             "#7201a8"
            ],
            [
             0.3333333333333333,
             "#9c179e"
            ],
            [
             0.4444444444444444,
             "#bd3786"
            ],
            [
             0.5555555555555556,
             "#d8576b"
            ],
            [
             0.6666666666666666,
             "#ed7953"
            ],
            [
             0.7777777777777778,
             "#fb9f3a"
            ],
            [
             0.8888888888888888,
             "#fdca26"
            ],
            [
             1,
             "#f0f921"
            ]
           ]
          },
          "colorway": [
           "#636efa",
           "#EF553B",
           "#00cc96",
           "#ab63fa",
           "#FFA15A",
           "#19d3f3",
           "#FF6692",
           "#B6E880",
           "#FF97FF",
           "#FECB52"
          ],
          "font": {
           "color": "#2a3f5f"
          },
          "geo": {
           "bgcolor": "white",
           "lakecolor": "white",
           "landcolor": "#E5ECF6",
           "showlakes": true,
           "showland": true,
           "subunitcolor": "white"
          },
          "hoverlabel": {
           "align": "left"
          },
          "hovermode": "closest",
          "mapbox": {
           "style": "light"
          },
          "paper_bgcolor": "white",
          "plot_bgcolor": "#E5ECF6",
          "polar": {
           "angularaxis": {
            "gridcolor": "white",
            "linecolor": "white",
            "ticks": ""
           },
           "bgcolor": "#E5ECF6",
           "radialaxis": {
            "gridcolor": "white",
            "linecolor": "white",
            "ticks": ""
           }
          },
          "scene": {
           "xaxis": {
            "backgroundcolor": "#E5ECF6",
            "gridcolor": "white",
            "gridwidth": 2,
            "linecolor": "white",
            "showbackground": true,
            "ticks": "",
            "zerolinecolor": "white"
           },
           "yaxis": {
            "backgroundcolor": "#E5ECF6",
            "gridcolor": "white",
            "gridwidth": 2,
            "linecolor": "white",
            "showbackground": true,
            "ticks": "",
            "zerolinecolor": "white"
           },
           "zaxis": {
            "backgroundcolor": "#E5ECF6",
            "gridcolor": "white",
            "gridwidth": 2,
            "linecolor": "white",
            "showbackground": true,
            "ticks": "",
            "zerolinecolor": "white"
           }
          },
          "shapedefaults": {
           "line": {
            "color": "#2a3f5f"
           }
          },
          "ternary": {
           "aaxis": {
            "gridcolor": "white",
            "linecolor": "white",
            "ticks": ""
           },
           "baxis": {
            "gridcolor": "white",
            "linecolor": "white",
            "ticks": ""
           },
           "bgcolor": "#E5ECF6",
           "caxis": {
            "gridcolor": "white",
            "linecolor": "white",
            "ticks": ""
           }
          },
          "title": {
           "x": 0.05
          },
          "xaxis": {
           "automargin": true,
           "gridcolor": "white",
           "linecolor": "white",
           "ticks": "",
           "title": {
            "standoff": 15
           },
           "zerolinecolor": "white",
           "zerolinewidth": 2
          },
          "yaxis": {
           "automargin": true,
           "gridcolor": "white",
           "linecolor": "white",
           "ticks": "",
           "title": {
            "standoff": 15
           },
           "zerolinecolor": "white",
           "zerolinewidth": 2
          }
         }
        }
       }
      }
     },
     "metadata": {},
     "output_type": "display_data"
    },
    {
     "name": "stdout",
     "output_type": "stream",
     "text": [
      "0.011008641890079197\n"
     ]
    }
   ],
   "source": [
    "num_elec = df_elec_vehicle['부산']\n",
    "num_hidro = df_hidro_vehicle['부산']\n",
    "elec_vehicle_pro = cal_norm(mean,std,min,max,num_elec)\n",
    "print(elec_vehicle_pro)\n",
    "hidro_vehicle_pro = cal_norm(mean,std,min,max,num_hidro)\n",
    "print(hidro_vehicle_pro)"
   ]
  },
  {
   "cell_type": "markdown",
   "metadata": {},
   "source": [
    "### LPG 충전소 현황 데이터 불러오기 (수소차)"
   ]
  },
  {
   "cell_type": "code",
   "execution_count": 748,
   "metadata": {},
   "outputs": [
    {
     "data": {
      "text/html": [
       "<div>\n",
       "<style scoped>\n",
       "    .dataframe tbody tr th:only-of-type {\n",
       "        vertical-align: middle;\n",
       "    }\n",
       "\n",
       "    .dataframe tbody tr th {\n",
       "        vertical-align: top;\n",
       "    }\n",
       "\n",
       "    .dataframe thead th {\n",
       "        text-align: right;\n",
       "    }\n",
       "</style>\n",
       "<table border=\"1\" class=\"dataframe\">\n",
       "  <thead>\n",
       "    <tr style=\"text-align: right;\">\n",
       "      <th></th>\n",
       "      <th>행정구역</th>\n",
       "      <th>업소명</th>\n",
       "      <th>소재지</th>\n",
       "      <th>관리구분</th>\n",
       "      <th>위도</th>\n",
       "      <th>경도</th>\n",
       "    </tr>\n",
       "  </thead>\n",
       "  <tbody>\n",
       "    <tr>\n",
       "      <th>0</th>\n",
       "      <td>부산 강서구</td>\n",
       "      <td>개인택시신공항충전소</td>\n",
       "      <td>부산 강서구 경전철로188번길 95</td>\n",
       "      <td>자동차충전</td>\n",
       "      <td>35.198669</td>\n",
       "      <td>128.966594</td>\n",
       "    </tr>\n",
       "    <tr>\n",
       "      <th>1</th>\n",
       "      <td>부산 강서구</td>\n",
       "      <td>부산공항LPG충전소</td>\n",
       "      <td>부산 강서구 공항로 459</td>\n",
       "      <td>자동차충전</td>\n",
       "      <td>35.149064</td>\n",
       "      <td>128.951891</td>\n",
       "    </tr>\n",
       "    <tr>\n",
       "      <th>2</th>\n",
       "      <td>부산 강서구</td>\n",
       "      <td>신항만에너지</td>\n",
       "      <td>부산 강서구 낙동남로 507</td>\n",
       "      <td>자동차충전</td>\n",
       "      <td>35.112947</td>\n",
       "      <td>128.875260</td>\n",
       "    </tr>\n",
       "    <tr>\n",
       "      <th>3</th>\n",
       "      <td>부산 강서구</td>\n",
       "      <td>(주)지원네트웍스 부산강서LPG충전소</td>\n",
       "      <td>부산 강서구 낙동북로 310</td>\n",
       "      <td>자동차충전</td>\n",
       "      <td>35.212507</td>\n",
       "      <td>128.962572</td>\n",
       "    </tr>\n",
       "    <tr>\n",
       "      <th>4</th>\n",
       "      <td>부산 강서구</td>\n",
       "      <td>신명지에너지</td>\n",
       "      <td>부산 강서구 르노삼성대로 560</td>\n",
       "      <td>자동차충전</td>\n",
       "      <td>35.097554</td>\n",
       "      <td>128.927351</td>\n",
       "    </tr>\n",
       "    <tr>\n",
       "      <th>...</th>\n",
       "      <td>...</td>\n",
       "      <td>...</td>\n",
       "      <td>...</td>\n",
       "      <td>...</td>\n",
       "      <td>...</td>\n",
       "      <td>...</td>\n",
       "    </tr>\n",
       "    <tr>\n",
       "      <th>58</th>\n",
       "      <td>부산 연제구</td>\n",
       "      <td>부산개인택시엘피지충전소</td>\n",
       "      <td>부산 연제구 월드컵대로 399</td>\n",
       "      <td>자동차충전</td>\n",
       "      <td>35.186013</td>\n",
       "      <td>129.055974</td>\n",
       "    </tr>\n",
       "    <tr>\n",
       "      <th>59</th>\n",
       "      <td>부산 영도구</td>\n",
       "      <td>(주)태종에너지</td>\n",
       "      <td>부산 영도구 영선대로 41</td>\n",
       "      <td>자동차충전</td>\n",
       "      <td>35.084996</td>\n",
       "      <td>129.040033</td>\n",
       "    </tr>\n",
       "    <tr>\n",
       "      <th>60</th>\n",
       "      <td>부산 영도구</td>\n",
       "      <td>부산에너지</td>\n",
       "      <td>부산 영도구 해양로 160</td>\n",
       "      <td>용기+자동차+탱크+13kg용기</td>\n",
       "      <td>35.091275</td>\n",
       "      <td>129.069484</td>\n",
       "    </tr>\n",
       "    <tr>\n",
       "      <th>61</th>\n",
       "      <td>부산 영도구</td>\n",
       "      <td>개인택시 영도LPG충전소</td>\n",
       "      <td>부산 영도구 해양로 296</td>\n",
       "      <td>자동차충전</td>\n",
       "      <td>35.082176</td>\n",
       "      <td>129.076429</td>\n",
       "    </tr>\n",
       "    <tr>\n",
       "      <th>62</th>\n",
       "      <td>부산 해운대구</td>\n",
       "      <td>이원 해운대LPG충전소</td>\n",
       "      <td>부산 해운대구 해운대로 1255</td>\n",
       "      <td>용기+자동차+탱크+13kg용기</td>\n",
       "      <td>35.196728</td>\n",
       "      <td>129.205260</td>\n",
       "    </tr>\n",
       "  </tbody>\n",
       "</table>\n",
       "<p>63 rows × 6 columns</p>\n",
       "</div>"
      ],
      "text/plain": [
       "       행정구역                   업소명                  소재지              관리구분  \\\n",
       "0    부산 강서구            개인택시신공항충전소  부산 강서구 경전철로188번길 95             자동차충전   \n",
       "1    부산 강서구            부산공항LPG충전소       부산 강서구 공항로 459             자동차충전   \n",
       "2    부산 강서구                신항만에너지     부산 강서구 낙동남로 507              자동차충전   \n",
       "3    부산 강서구  (주)지원네트웍스 부산강서LPG충전소     부산 강서구 낙동북로 310              자동차충전   \n",
       "4    부산 강서구                신명지에너지    부산 강서구 르노삼성대로 560             자동차충전   \n",
       "..      ...                   ...                  ...               ...   \n",
       "58   부산 연제구          부산개인택시엘피지충전소     부산 연제구 월드컵대로 399             자동차충전   \n",
       "59   부산 영도구              (주)태종에너지       부산 영도구 영선대로 41             자동차충전   \n",
       "60   부산 영도구                 부산에너지       부산 영도구 해양로 160  용기+자동차+탱크+13kg용기   \n",
       "61   부산 영도구         개인택시 영도LPG충전소       부산 영도구 해양로 296             자동차충전   \n",
       "62  부산 해운대구          이원 해운대LPG충전소    부산 해운대구 해운대로 1255  용기+자동차+탱크+13kg용기   \n",
       "\n",
       "           위도          경도  \n",
       "0   35.198669  128.966594  \n",
       "1   35.149064  128.951891  \n",
       "2   35.112947  128.875260  \n",
       "3   35.212507  128.962572  \n",
       "4   35.097554  128.927351  \n",
       "..        ...         ...  \n",
       "58  35.186013  129.055974  \n",
       "59  35.084996  129.040033  \n",
       "60  35.091275  129.069484  \n",
       "61  35.082176  129.076429  \n",
       "62  35.196728  129.205260  \n",
       "\n",
       "[63 rows x 6 columns]"
      ]
     },
     "execution_count": 748,
     "metadata": {},
     "output_type": "execute_result"
    }
   ],
   "source": [
    "LPG_file_path = 'C:\\\\Users\\\\SAMSUNG\\\\Desktop\\\\Green-Car-Charging-Station-Site-Selection\\\\Data\\\\부산 LPG 충전소 현황(한국가스안전공사).csv'\n",
    "df_LPG = pd.read_csv(LPG_file_path, encoding='cp949')\n",
    "df_LPG"
   ]
  },
  {
   "cell_type": "code",
   "execution_count": 749,
   "metadata": {},
   "outputs": [
    {
     "data": {
      "text/plain": [
       "63"
      ]
     },
     "execution_count": 749,
     "metadata": {},
     "output_type": "execute_result"
    }
   ],
   "source": [
    "df_LPG.shape[0]"
   ]
  },
  {
   "cell_type": "markdown",
   "metadata": {},
   "source": [
    "### 전기차 충전소 현황 데이터 불러오기"
   ]
  },
  {
   "cell_type": "code",
   "execution_count": 750,
   "metadata": {},
   "outputs": [
    {
     "data": {
      "text/html": [
       "<div>\n",
       "<style scoped>\n",
       "    .dataframe tbody tr th:only-of-type {\n",
       "        vertical-align: middle;\n",
       "    }\n",
       "\n",
       "    .dataframe tbody tr th {\n",
       "        vertical-align: top;\n",
       "    }\n",
       "\n",
       "    .dataframe thead th {\n",
       "        text-align: right;\n",
       "    }\n",
       "</style>\n",
       "<table border=\"1\" class=\"dataframe\">\n",
       "  <thead>\n",
       "    <tr style=\"text-align: right;\">\n",
       "      <th></th>\n",
       "      <th>운영기관</th>\n",
       "      <th>충전소</th>\n",
       "      <th>충전기ID</th>\n",
       "      <th>충전기타입</th>\n",
       "      <th>지역</th>\n",
       "      <th>시군구</th>\n",
       "      <th>주소</th>\n",
       "      <th>위도</th>\n",
       "      <th>경도</th>\n",
       "    </tr>\n",
       "  </thead>\n",
       "  <tbody>\n",
       "    <tr>\n",
       "      <th>0</th>\n",
       "      <td>환경부(한국자동차환경협회)</td>\n",
       "      <td>kbs 부산방송총국</td>\n",
       "      <td>1</td>\n",
       "      <td>DC차데모+AC3상+DC콤보</td>\n",
       "      <td>부산광역시</td>\n",
       "      <td>수영구</td>\n",
       "      <td>부산광역시 수영구 수영로 429</td>\n",
       "      <td>35.144806</td>\n",
       "      <td>129.107595</td>\n",
       "    </tr>\n",
       "    <tr>\n",
       "      <th>1</th>\n",
       "      <td>환경부(한국자동차환경협회)</td>\n",
       "      <td>kbs 부산방송총국</td>\n",
       "      <td>11</td>\n",
       "      <td>DC콤보</td>\n",
       "      <td>부산광역시</td>\n",
       "      <td>수영구</td>\n",
       "      <td>부산광역시 수영구 수영로 429</td>\n",
       "      <td>35.144806</td>\n",
       "      <td>129.107595</td>\n",
       "    </tr>\n",
       "    <tr>\n",
       "      <th>2</th>\n",
       "      <td>환경부(한국자동차환경협회)</td>\n",
       "      <td>kbs 부산방송총국</td>\n",
       "      <td>12</td>\n",
       "      <td>DC콤보</td>\n",
       "      <td>부산광역시</td>\n",
       "      <td>수영구</td>\n",
       "      <td>부산광역시 수영구 수영로 429</td>\n",
       "      <td>35.144806</td>\n",
       "      <td>129.107595</td>\n",
       "    </tr>\n",
       "    <tr>\n",
       "      <th>3</th>\n",
       "      <td>환경부(한국자동차환경협회)</td>\n",
       "      <td>국립부산과학관</td>\n",
       "      <td>11</td>\n",
       "      <td>DC콤보</td>\n",
       "      <td>부산광역시</td>\n",
       "      <td>기장군</td>\n",
       "      <td>부산광역시 기장군 기장읍 석산리 293</td>\n",
       "      <td>35.204002</td>\n",
       "      <td>129.212987</td>\n",
       "    </tr>\n",
       "    <tr>\n",
       "      <th>4</th>\n",
       "      <td>환경부(한국자동차환경협회)</td>\n",
       "      <td>국립부산과학관</td>\n",
       "      <td>12</td>\n",
       "      <td>DC콤보</td>\n",
       "      <td>부산광역시</td>\n",
       "      <td>기장군</td>\n",
       "      <td>부산광역시 기장군 기장읍 석산리 293</td>\n",
       "      <td>35.204002</td>\n",
       "      <td>129.212987</td>\n",
       "    </tr>\n",
       "    <tr>\n",
       "      <th>...</th>\n",
       "      <td>...</td>\n",
       "      <td>...</td>\n",
       "      <td>...</td>\n",
       "      <td>...</td>\n",
       "      <td>...</td>\n",
       "      <td>...</td>\n",
       "      <td>...</td>\n",
       "      <td>...</td>\n",
       "      <td>...</td>\n",
       "    </tr>\n",
       "    <tr>\n",
       "      <th>6291</th>\n",
       "      <td>한국전자금융</td>\n",
       "      <td>부산 플러스타워</td>\n",
       "      <td>1</td>\n",
       "      <td>AC완속</td>\n",
       "      <td>부산광역시</td>\n",
       "      <td>강서구</td>\n",
       "      <td>부산광역시 강서구 명지국제1로 56-1플러스타워(3598-2 플러스타워)</td>\n",
       "      <td>35.093685</td>\n",
       "      <td>128.905372</td>\n",
       "    </tr>\n",
       "    <tr>\n",
       "      <th>6292</th>\n",
       "      <td>한국전자금융</td>\n",
       "      <td>부산 플러스타워</td>\n",
       "      <td>2</td>\n",
       "      <td>AC완속</td>\n",
       "      <td>부산광역시</td>\n",
       "      <td>강서구</td>\n",
       "      <td>부산광역시 강서구 명지국제1로 56-1플러스타워(3598-2 플러스타워)</td>\n",
       "      <td>35.093685</td>\n",
       "      <td>128.905372</td>\n",
       "    </tr>\n",
       "    <tr>\n",
       "      <th>6293</th>\n",
       "      <td>한국전자금융</td>\n",
       "      <td>부산 휴마트괴정점</td>\n",
       "      <td>1</td>\n",
       "      <td>AC완속</td>\n",
       "      <td>부산광역시</td>\n",
       "      <td>사하구</td>\n",
       "      <td>부산광역시 사하구 낙동대로 123휴마트괴정점(괴정동 358-1)</td>\n",
       "      <td>35.103200</td>\n",
       "      <td>129.002528</td>\n",
       "    </tr>\n",
       "    <tr>\n",
       "      <th>6294</th>\n",
       "      <td>한국전자금융</td>\n",
       "      <td>부산 휴마트괴정점</td>\n",
       "      <td>2</td>\n",
       "      <td>AC완속</td>\n",
       "      <td>부산광역시</td>\n",
       "      <td>사하구</td>\n",
       "      <td>부산광역시 사하구 낙동대로 123휴마트괴정점(괴정동 358-1)</td>\n",
       "      <td>35.103200</td>\n",
       "      <td>129.002528</td>\n",
       "    </tr>\n",
       "    <tr>\n",
       "      <th>6295</th>\n",
       "      <td>한국전자금융</td>\n",
       "      <td>부산 휴마트괴정점</td>\n",
       "      <td>3</td>\n",
       "      <td>AC완속</td>\n",
       "      <td>부산광역시</td>\n",
       "      <td>사하구</td>\n",
       "      <td>부산광역시 사하구 낙동대로 123휴마트괴정점(괴정동 358-1)</td>\n",
       "      <td>35.103200</td>\n",
       "      <td>129.002528</td>\n",
       "    </tr>\n",
       "  </tbody>\n",
       "</table>\n",
       "<p>6296 rows × 9 columns</p>\n",
       "</div>"
      ],
      "text/plain": [
       "                운영기관         충전소  충전기ID            충전기타입      지역   시군구  \\\n",
       "0     환경부(한국자동차환경협회)  kbs 부산방송총국      1  DC차데모+AC3상+DC콤보  부산광역시   수영구    \n",
       "1     환경부(한국자동차환경협회)  kbs 부산방송총국     11             DC콤보  부산광역시   수영구    \n",
       "2     환경부(한국자동차환경협회)  kbs 부산방송총국     12             DC콤보  부산광역시   수영구    \n",
       "3     환경부(한국자동차환경협회)     국립부산과학관     11             DC콤보  부산광역시   기장군    \n",
       "4     환경부(한국자동차환경협회)     국립부산과학관     12             DC콤보  부산광역시   기장군    \n",
       "...              ...         ...    ...              ...     ...   ...   \n",
       "6291          한국전자금융    부산 플러스타워      1             AC완속  부산광역시   강서구    \n",
       "6292          한국전자금융    부산 플러스타워      2             AC완속  부산광역시   강서구    \n",
       "6293          한국전자금융   부산 휴마트괴정점      1             AC완속  부산광역시   사하구    \n",
       "6294          한국전자금융   부산 휴마트괴정점      2             AC완속  부산광역시   사하구    \n",
       "6295          한국전자금융   부산 휴마트괴정점      3             AC완속  부산광역시   사하구    \n",
       "\n",
       "                                            주소         위도          경도  \n",
       "0                            부산광역시 수영구 수영로 429  35.144806  129.107595  \n",
       "1                            부산광역시 수영구 수영로 429  35.144806  129.107595  \n",
       "2                            부산광역시 수영구 수영로 429  35.144806  129.107595  \n",
       "3                        부산광역시 기장군 기장읍 석산리 293  35.204002  129.212987  \n",
       "4                        부산광역시 기장군 기장읍 석산리 293  35.204002  129.212987  \n",
       "...                                        ...        ...         ...  \n",
       "6291  부산광역시 강서구 명지국제1로 56-1플러스타워(3598-2 플러스타워)  35.093685  128.905372  \n",
       "6292  부산광역시 강서구 명지국제1로 56-1플러스타워(3598-2 플러스타워)  35.093685  128.905372  \n",
       "6293       부산광역시 사하구 낙동대로 123휴마트괴정점(괴정동 358-1)  35.103200  129.002528  \n",
       "6294       부산광역시 사하구 낙동대로 123휴마트괴정점(괴정동 358-1)  35.103200  129.002528  \n",
       "6295       부산광역시 사하구 낙동대로 123휴마트괴정점(괴정동 358-1)  35.103200  129.002528  \n",
       "\n",
       "[6296 rows x 9 columns]"
      ]
     },
     "execution_count": 750,
     "metadata": {},
     "output_type": "execute_result"
    }
   ],
   "source": [
    "EVCS_file_path = 'C:\\\\Users\\\\SAMSUNG\\\\Desktop\\\\Green-Car-Charging-Station-Site-Selection\\\\Data\\\\부산 전기차 충전소 정보.csv'\n",
    "df_EVCS = pd.read_csv(EVCS_file_path, encoding='cp949')\n",
    "df_EVCS"
   ]
  },
  {
   "cell_type": "code",
   "execution_count": 751,
   "metadata": {},
   "outputs": [
    {
     "data": {
      "text/plain": [
       "6296"
      ]
     },
     "execution_count": 751,
     "metadata": {},
     "output_type": "execute_result"
    }
   ],
   "source": [
    "# 부산 전체 충전기 수 구하기\n",
    "df_EVCS.shape[0]"
   ]
  },
  {
   "cell_type": "markdown",
   "metadata": {},
   "source": [
    "### 교통 편의성 데이터"
   ]
  },
  {
   "cell_type": "markdown",
   "metadata": {},
   "source": [
    "### 주변 충전소와의 거리 데이터"
   ]
  },
  {
   "cell_type": "markdown",
   "metadata": {},
   "source": [
    "### 고속도로 여부"
   ]
  },
  {
   "cell_type": "markdown",
   "metadata": {},
   "source": [
    "## 상위 요소 - 경제적 요소"
   ]
  },
  {
   "cell_type": "markdown",
   "metadata": {},
   "source": [
    "### 충전소 설치 비용 불러오기 (전기차)"
   ]
  },
  {
   "cell_type": "markdown",
   "metadata": {},
   "source": [
    "### 충전소 설치 비용 데이터 불러오기 (수소차) "
   ]
  },
  {
   "cell_type": "markdown",
   "metadata": {},
   "source": [
    "### 총 유지비용"
   ]
  },
  {
   "cell_type": "markdown",
   "metadata": {},
   "source": [
    "### 주차 구획 수 데이터 불러오기"
   ]
  },
  {
   "cell_type": "code",
   "execution_count": 752,
   "metadata": {},
   "outputs": [
    {
     "data": {
      "text/html": [
       "<div>\n",
       "<style scoped>\n",
       "    .dataframe tbody tr th:only-of-type {\n",
       "        vertical-align: middle;\n",
       "    }\n",
       "\n",
       "    .dataframe tbody tr th {\n",
       "        vertical-align: top;\n",
       "    }\n",
       "\n",
       "    .dataframe thead th {\n",
       "        text-align: right;\n",
       "    }\n",
       "</style>\n",
       "<table border=\"1\" class=\"dataframe\">\n",
       "  <thead>\n",
       "    <tr style=\"text-align: right;\">\n",
       "      <th></th>\n",
       "      <th>운영형태</th>\n",
       "      <th>관리기관명</th>\n",
       "      <th>주차장명</th>\n",
       "      <th>주차장관리번호</th>\n",
       "      <th>소재지지번주소</th>\n",
       "      <th>소재지도로명주소</th>\n",
       "      <th>전화번호</th>\n",
       "      <th>주차장유형</th>\n",
       "      <th>주차구획수</th>\n",
       "      <th>평일운영시작시각</th>\n",
       "      <th>...</th>\n",
       "      <th>부제시행구분</th>\n",
       "      <th>운영요일</th>\n",
       "      <th>요금정보</th>\n",
       "      <th>주차기본시간</th>\n",
       "      <th>추가단위시간</th>\n",
       "      <th>추가단위요금</th>\n",
       "      <th>1일주차권요금적용시간</th>\n",
       "      <th>결제방법</th>\n",
       "      <th>특기사항</th>\n",
       "      <th>실시간주차면수</th>\n",
       "    </tr>\n",
       "  </thead>\n",
       "  <tbody>\n",
       "    <tr>\n",
       "      <th>0</th>\n",
       "      <td>구(군)직영</td>\n",
       "      <td>부산광역시 사상구청</td>\n",
       "      <td>감전동주변</td>\n",
       "      <td>2010000013</td>\n",
       "      <td>-</td>\n",
       "      <td>사상구 감전동 589-2</td>\n",
       "      <td>051-310-4501</td>\n",
       "      <td>노외</td>\n",
       "      <td>26</td>\n",
       "      <td>0:00</td>\n",
       "      <td>...</td>\n",
       "      <td>-</td>\n",
       "      <td>-</td>\n",
       "      <td>-</td>\n",
       "      <td>10</td>\n",
       "      <td>10</td>\n",
       "      <td>0</td>\n",
       "      <td>-</td>\n",
       "      <td>-</td>\n",
       "      <td>-</td>\n",
       "      <td>-</td>\n",
       "    </tr>\n",
       "    <tr>\n",
       "      <th>1</th>\n",
       "      <td>구(군)직영</td>\n",
       "      <td>부산광역시 사상구청</td>\n",
       "      <td>장성주차장</td>\n",
       "      <td>2010000015</td>\n",
       "      <td>-</td>\n",
       "      <td>사상구 주례2동 92-278</td>\n",
       "      <td>051-310-4501</td>\n",
       "      <td>노외</td>\n",
       "      <td>16</td>\n",
       "      <td>0:00</td>\n",
       "      <td>...</td>\n",
       "      <td>-</td>\n",
       "      <td>-</td>\n",
       "      <td>-</td>\n",
       "      <td>10</td>\n",
       "      <td>10</td>\n",
       "      <td>0</td>\n",
       "      <td>-</td>\n",
       "      <td>-</td>\n",
       "      <td>-</td>\n",
       "      <td>-</td>\n",
       "    </tr>\n",
       "    <tr>\n",
       "      <th>2</th>\n",
       "      <td>민간위탁</td>\n",
       "      <td>부산광역시 사상구청</td>\n",
       "      <td>엄궁초등학교지하주차장</td>\n",
       "      <td>2010000016</td>\n",
       "      <td>사상구 엄궁로191번길 23 (엄궁동 47)</td>\n",
       "      <td>-</td>\n",
       "      <td>051-310-4503</td>\n",
       "      <td>노외</td>\n",
       "      <td>93</td>\n",
       "      <td>0:00</td>\n",
       "      <td>...</td>\n",
       "      <td>-</td>\n",
       "      <td>-</td>\n",
       "      <td>-</td>\n",
       "      <td>10</td>\n",
       "      <td>10</td>\n",
       "      <td>100</td>\n",
       "      <td>-</td>\n",
       "      <td>-</td>\n",
       "      <td>-</td>\n",
       "      <td>-</td>\n",
       "    </tr>\n",
       "    <tr>\n",
       "      <th>3</th>\n",
       "      <td>구(군)직영</td>\n",
       "      <td>부산광역시 사상구청</td>\n",
       "      <td>일신주택주변</td>\n",
       "      <td>2011000003</td>\n",
       "      <td>-</td>\n",
       "      <td>사상구 주례3동 545-3</td>\n",
       "      <td>051-310-4501</td>\n",
       "      <td>노외</td>\n",
       "      <td>10</td>\n",
       "      <td>0:00</td>\n",
       "      <td>...</td>\n",
       "      <td>-</td>\n",
       "      <td>-</td>\n",
       "      <td>-</td>\n",
       "      <td>10</td>\n",
       "      <td>10</td>\n",
       "      <td>0</td>\n",
       "      <td>-</td>\n",
       "      <td>-</td>\n",
       "      <td>-</td>\n",
       "      <td>-</td>\n",
       "    </tr>\n",
       "    <tr>\n",
       "      <th>4</th>\n",
       "      <td>구(군)직영</td>\n",
       "      <td>부산광역시 사상구청</td>\n",
       "      <td>주례중학교주변</td>\n",
       "      <td>2012000004</td>\n",
       "      <td>-</td>\n",
       "      <td>사상구 주례2동 82-13</td>\n",
       "      <td>051-310-4501</td>\n",
       "      <td>노외</td>\n",
       "      <td>8</td>\n",
       "      <td>0:00</td>\n",
       "      <td>...</td>\n",
       "      <td>-</td>\n",
       "      <td>-</td>\n",
       "      <td>-</td>\n",
       "      <td>10</td>\n",
       "      <td>10</td>\n",
       "      <td>0</td>\n",
       "      <td>-</td>\n",
       "      <td>-</td>\n",
       "      <td>-</td>\n",
       "      <td>-</td>\n",
       "    </tr>\n",
       "    <tr>\n",
       "      <th>...</th>\n",
       "      <td>...</td>\n",
       "      <td>...</td>\n",
       "      <td>...</td>\n",
       "      <td>...</td>\n",
       "      <td>...</td>\n",
       "      <td>...</td>\n",
       "      <td>...</td>\n",
       "      <td>...</td>\n",
       "      <td>...</td>\n",
       "      <td>...</td>\n",
       "      <td>...</td>\n",
       "      <td>...</td>\n",
       "      <td>...</td>\n",
       "      <td>...</td>\n",
       "      <td>...</td>\n",
       "      <td>...</td>\n",
       "      <td>...</td>\n",
       "      <td>...</td>\n",
       "      <td>...</td>\n",
       "      <td>...</td>\n",
       "      <td>...</td>\n",
       "    </tr>\n",
       "    <tr>\n",
       "      <th>610</th>\n",
       "      <td>구(군)직영</td>\n",
       "      <td>부산광역시 기장군청</td>\n",
       "      <td>정관읍 상업지역 노상주차장</td>\n",
       "      <td>2016000017</td>\n",
       "      <td>-</td>\n",
       "      <td>기장군 정관면 732</td>\n",
       "      <td>-</td>\n",
       "      <td>노상</td>\n",
       "      <td>46</td>\n",
       "      <td>0:00</td>\n",
       "      <td>...</td>\n",
       "      <td>-</td>\n",
       "      <td>-</td>\n",
       "      <td>-</td>\n",
       "      <td>10</td>\n",
       "      <td>10</td>\n",
       "      <td>0</td>\n",
       "      <td>-</td>\n",
       "      <td>-</td>\n",
       "      <td>-</td>\n",
       "      <td>-</td>\n",
       "    </tr>\n",
       "    <tr>\n",
       "      <th>611</th>\n",
       "      <td>민간운영</td>\n",
       "      <td>부산광역시 기장군청</td>\n",
       "      <td>1구역 2소</td>\n",
       "      <td>2008000002</td>\n",
       "      <td>-</td>\n",
       "      <td>기장군 기장읍 280-2</td>\n",
       "      <td>051-792-4719</td>\n",
       "      <td>노상</td>\n",
       "      <td>12</td>\n",
       "      <td>9:00</td>\n",
       "      <td>...</td>\n",
       "      <td>-</td>\n",
       "      <td>-</td>\n",
       "      <td>-</td>\n",
       "      <td>10</td>\n",
       "      <td>10</td>\n",
       "      <td>200</td>\n",
       "      <td>-</td>\n",
       "      <td>-</td>\n",
       "      <td>-</td>\n",
       "      <td>-</td>\n",
       "    </tr>\n",
       "    <tr>\n",
       "      <th>612</th>\n",
       "      <td>민간운영</td>\n",
       "      <td>부산광역시 기장군청</td>\n",
       "      <td>1구역 3소</td>\n",
       "      <td>2008000003</td>\n",
       "      <td>-</td>\n",
       "      <td>기장군 기장읍 444-1</td>\n",
       "      <td>051-792-4719</td>\n",
       "      <td>노상</td>\n",
       "      <td>13</td>\n",
       "      <td>9:00</td>\n",
       "      <td>...</td>\n",
       "      <td>-</td>\n",
       "      <td>-</td>\n",
       "      <td>-</td>\n",
       "      <td>10</td>\n",
       "      <td>10</td>\n",
       "      <td>200</td>\n",
       "      <td>-</td>\n",
       "      <td>-</td>\n",
       "      <td>-</td>\n",
       "      <td>-</td>\n",
       "    </tr>\n",
       "    <tr>\n",
       "      <th>613</th>\n",
       "      <td>민간운영</td>\n",
       "      <td>부산광역시 기장군청</td>\n",
       "      <td>3구역 1소</td>\n",
       "      <td>2008000006</td>\n",
       "      <td>-</td>\n",
       "      <td>기장군 기장읍 418-12</td>\n",
       "      <td>051-792-4719</td>\n",
       "      <td>노상</td>\n",
       "      <td>24</td>\n",
       "      <td>9:00</td>\n",
       "      <td>...</td>\n",
       "      <td>-</td>\n",
       "      <td>-</td>\n",
       "      <td>-</td>\n",
       "      <td>10</td>\n",
       "      <td>10</td>\n",
       "      <td>200</td>\n",
       "      <td>-</td>\n",
       "      <td>-</td>\n",
       "      <td>-</td>\n",
       "      <td>-</td>\n",
       "    </tr>\n",
       "    <tr>\n",
       "      <th>614</th>\n",
       "      <td>시설관리공단위탁</td>\n",
       "      <td>부산광역시 기장군청</td>\n",
       "      <td>기장시장 공영주차장</td>\n",
       "      <td>2018000001</td>\n",
       "      <td>기장군 읍내로94번길 9 (기장읍 대라리 70-3)</td>\n",
       "      <td>-</td>\n",
       "      <td>-</td>\n",
       "      <td>노외</td>\n",
       "      <td>216</td>\n",
       "      <td>0:00</td>\n",
       "      <td>...</td>\n",
       "      <td>-</td>\n",
       "      <td>-</td>\n",
       "      <td>-</td>\n",
       "      <td>10</td>\n",
       "      <td>10</td>\n",
       "      <td>-</td>\n",
       "      <td>-</td>\n",
       "      <td>-</td>\n",
       "      <td>-</td>\n",
       "      <td>-</td>\n",
       "    </tr>\n",
       "  </tbody>\n",
       "</table>\n",
       "<p>615 rows × 33 columns</p>\n",
       "</div>"
      ],
      "text/plain": [
       "         운영형태       관리기관명            주차장명     주차장관리번호  \\\n",
       "0      구(군)직영  부산광역시 사상구청           감전동주변  2010000013   \n",
       "1      구(군)직영  부산광역시 사상구청           장성주차장  2010000015   \n",
       "2        민간위탁  부산광역시 사상구청     엄궁초등학교지하주차장  2010000016   \n",
       "3      구(군)직영  부산광역시 사상구청          일신주택주변  2011000003   \n",
       "4      구(군)직영  부산광역시 사상구청         주례중학교주변  2012000004   \n",
       "..        ...         ...             ...         ...   \n",
       "610    구(군)직영  부산광역시 기장군청  정관읍 상업지역 노상주차장  2016000017   \n",
       "611      민간운영  부산광역시 기장군청          1구역 2소  2008000002   \n",
       "612      민간운영  부산광역시 기장군청          1구역 3소  2008000003   \n",
       "613      민간운영  부산광역시 기장군청          3구역 1소  2008000006   \n",
       "614  시설관리공단위탁  부산광역시 기장군청      기장시장 공영주차장  2018000001   \n",
       "\n",
       "                          소재지지번주소         소재지도로명주소          전화번호 주차장유형  주차구획수  \\\n",
       "0                               -    사상구 감전동 589-2  051-310-4501    노외     26   \n",
       "1                               -  사상구 주례2동 92-278  051-310-4501    노외     16   \n",
       "2        사상구 엄궁로191번길 23 (엄궁동 47)                -  051-310-4503    노외     93   \n",
       "3                               -   사상구 주례3동 545-3  051-310-4501    노외     10   \n",
       "4                               -   사상구 주례2동 82-13  051-310-4501    노외      8   \n",
       "..                            ...              ...           ...   ...    ...   \n",
       "610                             -      기장군 정관면 732             -    노상     46   \n",
       "611                             -    기장군 기장읍 280-2  051-792-4719    노상     12   \n",
       "612                             -    기장군 기장읍 444-1  051-792-4719    노상     13   \n",
       "613                             -   기장군 기장읍 418-12  051-792-4719    노상     24   \n",
       "614  기장군 읍내로94번길 9 (기장읍 대라리 70-3)                -             -    노외    216   \n",
       "\n",
       "    평일운영시작시각  ... 부제시행구분 운영요일 요금정보 주차기본시간 추가단위시간 추가단위요금 1일주차권요금적용시간 결제방법 특기사항  \\\n",
       "0       0:00  ...      -    -    -     10     10      0           -    -    -   \n",
       "1       0:00  ...      -    -    -     10     10      0           -    -    -   \n",
       "2       0:00  ...      -    -    -     10     10    100           -    -    -   \n",
       "3       0:00  ...      -    -    -     10     10      0           -    -    -   \n",
       "4       0:00  ...      -    -    -     10     10      0           -    -    -   \n",
       "..       ...  ...    ...  ...  ...    ...    ...    ...         ...  ...  ...   \n",
       "610     0:00  ...      -    -    -     10     10      0           -    -    -   \n",
       "611     9:00  ...      -    -    -     10     10    200           -    -    -   \n",
       "612     9:00  ...      -    -    -     10     10    200           -    -    -   \n",
       "613     9:00  ...      -    -    -     10     10    200           -    -    -   \n",
       "614     0:00  ...      -    -    -     10     10      -           -    -    -   \n",
       "\n",
       "    실시간주차면수  \n",
       "0         -  \n",
       "1         -  \n",
       "2         -  \n",
       "3         -  \n",
       "4         -  \n",
       "..      ...  \n",
       "610       -  \n",
       "611       -  \n",
       "612       -  \n",
       "613       -  \n",
       "614       -  \n",
       "\n",
       "[615 rows x 33 columns]"
      ]
     },
     "execution_count": 752,
     "metadata": {},
     "output_type": "execute_result"
    }
   ],
   "source": [
    "parking_file_path = 'C:\\\\Users\\\\SAMSUNG\\\\Desktop\\\\Green-Car-Charging-Station-Site-Selection\\\\Data\\\\부산광역시 공영주차장 정보 조회.csv'\n",
    "df_parking = pd.read_csv(parking_file_path, encoding='cp949')\n",
    "df_parking"
   ]
  },
  {
   "cell_type": "markdown",
   "metadata": {},
   "source": [
    "### 주차 구획수 통계 구하기"
   ]
  },
  {
   "cell_type": "code",
   "execution_count": 753,
   "metadata": {},
   "outputs": [
    {
     "data": {
      "text/plain": [
       "count    615.000000\n",
       "mean      62.378862\n",
       "std       70.372193\n",
       "min       -4.000000\n",
       "25%       18.000000\n",
       "50%       38.000000\n",
       "75%       79.000000\n",
       "max      414.000000\n",
       "Name: 주차구획수, dtype: float64"
      ]
     },
     "execution_count": 753,
     "metadata": {},
     "output_type": "execute_result"
    }
   ],
   "source": [
    "df_parking_area = df_parking['주차구획수'].astype(int)\n",
    "df_parking_area.describe()"
   ]
  },
  {
   "cell_type": "code",
   "execution_count": 758,
   "metadata": {},
   "outputs": [
    {
     "data": {
      "application/vnd.plotly.v1+json": {
       "config": {
        "plotlyServerURL": "https://plot.ly"
       },
       "data": [
        {
         "hovertemplate": "x=%{x}<br>y=%{y}<extra></extra>",
         "legendgroup": "",
         "line": {
          "color": "#636efa",
          "dash": "solid"
         },
         "mode": "lines",
         "name": "",
         "orientation": "v",
         "showlegend": false,
         "type": "scatter",
         "x": [
          -74.37219252508093,
          -69.43914007533265,
          -64.50608762558434,
          -59.573035175836054,
          -54.639982726087766,
          -49.70693027633947,
          -44.773877826591175,
          -39.840825376842886,
          -34.90777292709459,
          -29.974720477346295,
          -25.041668027598007,
          -20.10861557784971,
          -15.175563128101416,
          -10.242510678353128,
          -5.309458228604839,
          -0.3764057788565367,
          4.556646670891752,
          9.48969912064004,
          14.422751570388343,
          19.35580402013663,
          24.28885646988492,
          29.221908919633222,
          34.15496136938151,
          39.0880138191298,
          44.0210662688781,
          48.95411871862639,
          53.88717116837468,
          58.82022361812297,
          63.753276067871255,
          68.68632851761957,
          73.61938096736786,
          78.55243341711615,
          83.48548586686444,
          88.41853831661273,
          93.35159076636101,
          98.2846432161093,
          103.21769566585762,
          108.15074811560591,
          113.0838005653542,
          118.01685301510248,
          122.94990546485077,
          127.88295791459906,
          132.8160103643474,
          137.74906281409568,
          142.68211526384397,
          147.61516771359226,
          152.54822016334055,
          157.48127261308883,
          162.41432506283712,
          167.3473775125854,
          172.2804299623337,
          177.213482412082,
          182.14653486183028,
          187.07958731157856,
          192.01263976132685,
          196.94569221107514,
          201.87874466082343,
          206.81179711057172,
          211.74484956032006,
          216.67790201006835,
          221.61095445981664,
          226.54400690956493,
          231.47705935931322,
          236.4101118090615,
          241.3431642588098,
          246.27621670855808,
          251.20926915830637,
          256.14232160805466,
          261.07537405780295,
          266.00842650755123,
          270.9414789572995,
          275.87453140704787,
          280.80758385679616,
          285.74063630654445,
          290.67368875629273,
          295.606741206041,
          300.5397936557893,
          305.4728461055376,
          310.4058985552859,
          315.3389510050342,
          320.27200345478246,
          325.20505590453075,
          330.13810835427904,
          335.07116080402733,
          340.0042132537757,
          344.93726570352396,
          349.87031815327225,
          354.80337060302054,
          359.7364230527688,
          364.6694755025171,
          369.6025279522654,
          374.5355804020137,
          379.468632851762,
          384.40168530151027,
          389.33473775125856,
          394.26779020100685,
          399.2008426507552,
          404.1338951005035,
          409.06694755025177,
          414
         ],
         "xaxis": "x",
         "y": [
          0.0008580441113860472,
          0.0009808500582564352,
          0.0011157362281452607,
          0.0012629505701402363,
          0.0014225812403555597,
          0.0015945337171855154,
          0.001778509717360807,
          0.0019739887963678834,
          0.0021802135283785044,
          0.0023961791368086707,
          0.0026206283839076074,
          0.002852052424931398,
          0.003088698189947676,
          0.0033285826766926664,
          0.003569514325852071,
          0.003809121412445047,
          0.004044887132337909,
          0.004274190801560521,
          0.004494354329435314,
          0.004702692886532703,
          0.004896568477075004,
          0.005073444953861354,
          0.005230942891954976,
          0.005366892673160674,
          0.005479384132116905,
          0.005566811179114834,
          0.005627909943858971,
          0.005661789174396246,
          0.005667951869351329,
          0.005646307409605089,
          0.005597173775508567,
          0.005521269773807185,
          0.005419697539860848,
          0.005293915910508431,
          0.005145705566686809,
          0.004977127109707392,
          0.004790473450010428,
          0.004588218043959765,
          0.004372960607502352,
          0.00414737196318861,
          0.003914139640235283,
          0.0036759157501560225,
          0.0034352685098348744,
          0.0031946385888466447,
          0.0029563012290506467,
          0.002722334833710848,
          0.0024945964626649645,
          0.0022747044111010822,
          0.002064027803124976,
          0.0018636829069424582,
          0.0016745356837935045,
          0.0014972099233912103,
          0.001332100198033332,
          0.0011793887871379475,
          0.0010390656830847843,
          0.0009109507855327211,
          0.0007947174209832328,
          0.0006899163823112382,
          0.0005959997635964648,
          0.0005123439628049922,
          0.0004382713326226295,
          0.0003730700722512321,
          0.0003160120650109037,
          0.00026636847364172405,
          0.00022342300361977534,
          0.0001864828318600741,
          0.00015488727205668088,
          0.0001280143076594068,
          0.00010528516894028733,
          0.00008616716226015379,
          0.00007017497853797127,
          0.000056870715478546495,
          0.00004586284600998294,
          0.0000368043554330081,
          0.000029390253820887646,
          0.000023354649988291645,
          0.000018467550482701904,
          0.000014531522960187906,
          0.000011378339180850227,
          0.000008865689652368994,
          0.000006874040381991563,
          0.0000053036827659244244,
          0.000004072010650071726,
          0.0000031110441668747333,
          0.0000023652080799661,
          0.0000017893629339286675,
          0.0000013470801151593406,
          0.0000010091467353509273,
          7.522827776732681e-7,
          5.580509155462485e-7,
          4.1193855019942486e-7,
          3.0259165942199197e-7,
          2.2118077505585643e-7,
          1.608806098101431e-7,
          1.1644636540593478e-7,
          8.387143567443856e-8,
          6.011296123208026e-8,
          4.2873414545448874e-8,
          3.042803658096837e-8,
          2.1489469374785214e-8
         ],
         "yaxis": "y"
        }
       ],
       "layout": {
        "legend": {
         "tracegroupgap": 0
        },
        "margin": {
         "t": 60
        },
        "template": {
         "data": {
          "bar": [
           {
            "error_x": {
             "color": "#2a3f5f"
            },
            "error_y": {
             "color": "#2a3f5f"
            },
            "marker": {
             "line": {
              "color": "#E5ECF6",
              "width": 0.5
             },
             "pattern": {
              "fillmode": "overlay",
              "size": 10,
              "solidity": 0.2
             }
            },
            "type": "bar"
           }
          ],
          "barpolar": [
           {
            "marker": {
             "line": {
              "color": "#E5ECF6",
              "width": 0.5
             },
             "pattern": {
              "fillmode": "overlay",
              "size": 10,
              "solidity": 0.2
             }
            },
            "type": "barpolar"
           }
          ],
          "carpet": [
           {
            "aaxis": {
             "endlinecolor": "#2a3f5f",
             "gridcolor": "white",
             "linecolor": "white",
             "minorgridcolor": "white",
             "startlinecolor": "#2a3f5f"
            },
            "baxis": {
             "endlinecolor": "#2a3f5f",
             "gridcolor": "white",
             "linecolor": "white",
             "minorgridcolor": "white",
             "startlinecolor": "#2a3f5f"
            },
            "type": "carpet"
           }
          ],
          "choropleth": [
           {
            "colorbar": {
             "outlinewidth": 0,
             "ticks": ""
            },
            "type": "choropleth"
           }
          ],
          "contour": [
           {
            "colorbar": {
             "outlinewidth": 0,
             "ticks": ""
            },
            "colorscale": [
             [
              0,
              "#0d0887"
             ],
             [
              0.1111111111111111,
              "#46039f"
             ],
             [
              0.2222222222222222,
              "#7201a8"
             ],
             [
              0.3333333333333333,
              "#9c179e"
             ],
             [
              0.4444444444444444,
              "#bd3786"
             ],
             [
              0.5555555555555556,
              "#d8576b"
             ],
             [
              0.6666666666666666,
              "#ed7953"
             ],
             [
              0.7777777777777778,
              "#fb9f3a"
             ],
             [
              0.8888888888888888,
              "#fdca26"
             ],
             [
              1,
              "#f0f921"
             ]
            ],
            "type": "contour"
           }
          ],
          "contourcarpet": [
           {
            "colorbar": {
             "outlinewidth": 0,
             "ticks": ""
            },
            "type": "contourcarpet"
           }
          ],
          "heatmap": [
           {
            "colorbar": {
             "outlinewidth": 0,
             "ticks": ""
            },
            "colorscale": [
             [
              0,
              "#0d0887"
             ],
             [
              0.1111111111111111,
              "#46039f"
             ],
             [
              0.2222222222222222,
              "#7201a8"
             ],
             [
              0.3333333333333333,
              "#9c179e"
             ],
             [
              0.4444444444444444,
              "#bd3786"
             ],
             [
              0.5555555555555556,
              "#d8576b"
             ],
             [
              0.6666666666666666,
              "#ed7953"
             ],
             [
              0.7777777777777778,
              "#fb9f3a"
             ],
             [
              0.8888888888888888,
              "#fdca26"
             ],
             [
              1,
              "#f0f921"
             ]
            ],
            "type": "heatmap"
           }
          ],
          "heatmapgl": [
           {
            "colorbar": {
             "outlinewidth": 0,
             "ticks": ""
            },
            "colorscale": [
             [
              0,
              "#0d0887"
             ],
             [
              0.1111111111111111,
              "#46039f"
             ],
             [
              0.2222222222222222,
              "#7201a8"
             ],
             [
              0.3333333333333333,
              "#9c179e"
             ],
             [
              0.4444444444444444,
              "#bd3786"
             ],
             [
              0.5555555555555556,
              "#d8576b"
             ],
             [
              0.6666666666666666,
              "#ed7953"
             ],
             [
              0.7777777777777778,
              "#fb9f3a"
             ],
             [
              0.8888888888888888,
              "#fdca26"
             ],
             [
              1,
              "#f0f921"
             ]
            ],
            "type": "heatmapgl"
           }
          ],
          "histogram": [
           {
            "marker": {
             "pattern": {
              "fillmode": "overlay",
              "size": 10,
              "solidity": 0.2
             }
            },
            "type": "histogram"
           }
          ],
          "histogram2d": [
           {
            "colorbar": {
             "outlinewidth": 0,
             "ticks": ""
            },
            "colorscale": [
             [
              0,
              "#0d0887"
             ],
             [
              0.1111111111111111,
              "#46039f"
             ],
             [
              0.2222222222222222,
              "#7201a8"
             ],
             [
              0.3333333333333333,
              "#9c179e"
             ],
             [
              0.4444444444444444,
              "#bd3786"
             ],
             [
              0.5555555555555556,
              "#d8576b"
             ],
             [
              0.6666666666666666,
              "#ed7953"
             ],
             [
              0.7777777777777778,
              "#fb9f3a"
             ],
             [
              0.8888888888888888,
              "#fdca26"
             ],
             [
              1,
              "#f0f921"
             ]
            ],
            "type": "histogram2d"
           }
          ],
          "histogram2dcontour": [
           {
            "colorbar": {
             "outlinewidth": 0,
             "ticks": ""
            },
            "colorscale": [
             [
              0,
              "#0d0887"
             ],
             [
              0.1111111111111111,
              "#46039f"
             ],
             [
              0.2222222222222222,
              "#7201a8"
             ],
             [
              0.3333333333333333,
              "#9c179e"
             ],
             [
              0.4444444444444444,
              "#bd3786"
             ],
             [
              0.5555555555555556,
              "#d8576b"
             ],
             [
              0.6666666666666666,
              "#ed7953"
             ],
             [
              0.7777777777777778,
              "#fb9f3a"
             ],
             [
              0.8888888888888888,
              "#fdca26"
             ],
             [
              1,
              "#f0f921"
             ]
            ],
            "type": "histogram2dcontour"
           }
          ],
          "mesh3d": [
           {
            "colorbar": {
             "outlinewidth": 0,
             "ticks": ""
            },
            "type": "mesh3d"
           }
          ],
          "parcoords": [
           {
            "line": {
             "colorbar": {
              "outlinewidth": 0,
              "ticks": ""
             }
            },
            "type": "parcoords"
           }
          ],
          "pie": [
           {
            "automargin": true,
            "type": "pie"
           }
          ],
          "scatter": [
           {
            "marker": {
             "colorbar": {
              "outlinewidth": 0,
              "ticks": ""
             }
            },
            "type": "scatter"
           }
          ],
          "scatter3d": [
           {
            "line": {
             "colorbar": {
              "outlinewidth": 0,
              "ticks": ""
             }
            },
            "marker": {
             "colorbar": {
              "outlinewidth": 0,
              "ticks": ""
             }
            },
            "type": "scatter3d"
           }
          ],
          "scattercarpet": [
           {
            "marker": {
             "colorbar": {
              "outlinewidth": 0,
              "ticks": ""
             }
            },
            "type": "scattercarpet"
           }
          ],
          "scattergeo": [
           {
            "marker": {
             "colorbar": {
              "outlinewidth": 0,
              "ticks": ""
             }
            },
            "type": "scattergeo"
           }
          ],
          "scattergl": [
           {
            "marker": {
             "colorbar": {
              "outlinewidth": 0,
              "ticks": ""
             }
            },
            "type": "scattergl"
           }
          ],
          "scattermapbox": [
           {
            "marker": {
             "colorbar": {
              "outlinewidth": 0,
              "ticks": ""
             }
            },
            "type": "scattermapbox"
           }
          ],
          "scatterpolar": [
           {
            "marker": {
             "colorbar": {
              "outlinewidth": 0,
              "ticks": ""
             }
            },
            "type": "scatterpolar"
           }
          ],
          "scatterpolargl": [
           {
            "marker": {
             "colorbar": {
              "outlinewidth": 0,
              "ticks": ""
             }
            },
            "type": "scatterpolargl"
           }
          ],
          "scatterternary": [
           {
            "marker": {
             "colorbar": {
              "outlinewidth": 0,
              "ticks": ""
             }
            },
            "type": "scatterternary"
           }
          ],
          "surface": [
           {
            "colorbar": {
             "outlinewidth": 0,
             "ticks": ""
            },
            "colorscale": [
             [
              0,
              "#0d0887"
             ],
             [
              0.1111111111111111,
              "#46039f"
             ],
             [
              0.2222222222222222,
              "#7201a8"
             ],
             [
              0.3333333333333333,
              "#9c179e"
             ],
             [
              0.4444444444444444,
              "#bd3786"
             ],
             [
              0.5555555555555556,
              "#d8576b"
             ],
             [
              0.6666666666666666,
              "#ed7953"
             ],
             [
              0.7777777777777778,
              "#fb9f3a"
             ],
             [
              0.8888888888888888,
              "#fdca26"
             ],
             [
              1,
              "#f0f921"
             ]
            ],
            "type": "surface"
           }
          ],
          "table": [
           {
            "cells": {
             "fill": {
              "color": "#EBF0F8"
             },
             "line": {
              "color": "white"
             }
            },
            "header": {
             "fill": {
              "color": "#C8D4E3"
             },
             "line": {
              "color": "white"
             }
            },
            "type": "table"
           }
          ]
         },
         "layout": {
          "annotationdefaults": {
           "arrowcolor": "#2a3f5f",
           "arrowhead": 0,
           "arrowwidth": 1
          },
          "autotypenumbers": "strict",
          "coloraxis": {
           "colorbar": {
            "outlinewidth": 0,
            "ticks": ""
           }
          },
          "colorscale": {
           "diverging": [
            [
             0,
             "#8e0152"
            ],
            [
             0.1,
             "#c51b7d"
            ],
            [
             0.2,
             "#de77ae"
            ],
            [
             0.3,
             "#f1b6da"
            ],
            [
             0.4,
             "#fde0ef"
            ],
            [
             0.5,
             "#f7f7f7"
            ],
            [
             0.6,
             "#e6f5d0"
            ],
            [
             0.7,
             "#b8e186"
            ],
            [
             0.8,
             "#7fbc41"
            ],
            [
             0.9,
             "#4d9221"
            ],
            [
             1,
             "#276419"
            ]
           ],
           "sequential": [
            [
             0,
             "#0d0887"
            ],
            [
             0.1111111111111111,
             "#46039f"
            ],
            [
             0.2222222222222222,
             "#7201a8"
            ],
            [
             0.3333333333333333,
             "#9c179e"
            ],
            [
             0.4444444444444444,
             "#bd3786"
            ],
            [
             0.5555555555555556,
             "#d8576b"
            ],
            [
             0.6666666666666666,
             "#ed7953"
            ],
            [
             0.7777777777777778,
             "#fb9f3a"
            ],
            [
             0.8888888888888888,
             "#fdca26"
            ],
            [
             1,
             "#f0f921"
            ]
           ],
           "sequentialminus": [
            [
             0,
             "#0d0887"
            ],
            [
             0.1111111111111111,
             "#46039f"
            ],
            [
             0.2222222222222222,
             "#7201a8"
            ],
            [
             0.3333333333333333,
             "#9c179e"
            ],
            [
             0.4444444444444444,
             "#bd3786"
            ],
            [
             0.5555555555555556,
             "#d8576b"
            ],
            [
             0.6666666666666666,
             "#ed7953"
            ],
            [
             0.7777777777777778,
             "#fb9f3a"
            ],
            [
             0.8888888888888888,
             "#fdca26"
            ],
            [
             1,
             "#f0f921"
            ]
           ]
          },
          "colorway": [
           "#636efa",
           "#EF553B",
           "#00cc96",
           "#ab63fa",
           "#FFA15A",
           "#19d3f3",
           "#FF6692",
           "#B6E880",
           "#FF97FF",
           "#FECB52"
          ],
          "font": {
           "color": "#2a3f5f"
          },
          "geo": {
           "bgcolor": "white",
           "lakecolor": "white",
           "landcolor": "#E5ECF6",
           "showlakes": true,
           "showland": true,
           "subunitcolor": "white"
          },
          "hoverlabel": {
           "align": "left"
          },
          "hovermode": "closest",
          "mapbox": {
           "style": "light"
          },
          "paper_bgcolor": "white",
          "plot_bgcolor": "#E5ECF6",
          "polar": {
           "angularaxis": {
            "gridcolor": "white",
            "linecolor": "white",
            "ticks": ""
           },
           "bgcolor": "#E5ECF6",
           "radialaxis": {
            "gridcolor": "white",
            "linecolor": "white",
            "ticks": ""
           }
          },
          "scene": {
           "xaxis": {
            "backgroundcolor": "#E5ECF6",
            "gridcolor": "white",
            "gridwidth": 2,
            "linecolor": "white",
            "showbackground": true,
            "ticks": "",
            "zerolinecolor": "white"
           },
           "yaxis": {
            "backgroundcolor": "#E5ECF6",
            "gridcolor": "white",
            "gridwidth": 2,
            "linecolor": "white",
            "showbackground": true,
            "ticks": "",
            "zerolinecolor": "white"
           },
           "zaxis": {
            "backgroundcolor": "#E5ECF6",
            "gridcolor": "white",
            "gridwidth": 2,
            "linecolor": "white",
            "showbackground": true,
            "ticks": "",
            "zerolinecolor": "white"
           }
          },
          "shapedefaults": {
           "line": {
            "color": "#2a3f5f"
           }
          },
          "ternary": {
           "aaxis": {
            "gridcolor": "white",
            "linecolor": "white",
            "ticks": ""
           },
           "baxis": {
            "gridcolor": "white",
            "linecolor": "white",
            "ticks": ""
           },
           "bgcolor": "#E5ECF6",
           "caxis": {
            "gridcolor": "white",
            "linecolor": "white",
            "ticks": ""
           }
          },
          "title": {
           "x": 0.05
          },
          "xaxis": {
           "automargin": true,
           "gridcolor": "white",
           "linecolor": "white",
           "ticks": "",
           "title": {
            "standoff": 15
           },
           "zerolinecolor": "white",
           "zerolinewidth": 2
          },
          "yaxis": {
           "automargin": true,
           "gridcolor": "white",
           "linecolor": "white",
           "ticks": "",
           "title": {
            "standoff": 15
           },
           "zerolinecolor": "white",
           "zerolinewidth": 2
          }
         }
        },
        "xaxis": {
         "anchor": "y",
         "domain": [
          0,
          1
         ],
         "title": {
          "text": "x"
         }
        },
        "yaxis": {
         "anchor": "x",
         "domain": [
          0,
          1
         ],
         "title": {
          "text": "y"
         }
        }
       }
      }
     },
     "metadata": {},
     "output_type": "display_data"
    },
    {
     "data": {
      "application/vnd.plotly.v1+json": {
       "config": {
        "plotlyServerURL": "https://plot.ly"
       },
       "data": [
        {
         "fill": "tozeroy",
         "line": {
          "color": "rgb(100,110,250)"
         },
         "name": "적합",
         "text": "0.381979238207332",
         "type": "scatter",
         "x": [
          -74.37219252508093,
          -73.15631179250435,
          -71.94043105992779,
          -70.72455032735121,
          -69.50866959477463,
          -68.29278886219805,
          -67.07690812962149,
          -65.86102739704491,
          -64.64514666446833,
          -63.429265931891756,
          -62.213385199315184,
          -60.997504466738604,
          -59.78162373416203,
          -58.56574300158546,
          -57.34986226900888,
          -56.13398153643231,
          -54.91810080385574,
          -53.70222007127916,
          -52.48633933870258,
          -51.27045860612601,
          -50.054577873549434,
          -48.838697140972855,
          -47.62281640839628,
          -46.40693567581971,
          -45.19105494324313,
          -43.97517421066656,
          -42.75929347808999,
          -41.54341274551341,
          -40.327532012936835,
          -39.111651280360256,
          -37.895770547783684,
          -36.679889815207105,
          -35.46400908263053,
          -34.24812835005396,
          -33.03224761747738,
          -31.81636688490081,
          -30.60048615232423,
          -29.384605419747658,
          -28.168724687171085,
          -26.952843954594506,
          -25.736963222017934,
          -24.521082489441355,
          -23.305201756864783,
          -22.08932102428821,
          -20.87344029171163,
          -19.65755955913506,
          -18.44167882655848,
          -17.225798093981908,
          -16.00991736140533,
          -14.794036628828756,
          -13.578155896252184,
          -12.362275163675605,
          -11.146394431099033,
          -9.93051369852246,
          -8.714632965945881,
          -7.498752233369302,
          -6.282871500792737,
          -5.066990768216158,
          -3.8511100356395787,
          -2.6352293030630136,
          -1.4193485704864344,
          -0.20346783790985512,
          1.0124128946667241,
          2.228293627243289,
          3.4441743598198684,
          4.660055092396448,
          5.875935824973013,
          7.091816557549592,
          8.307697290126171,
          9.52357802270275,
          10.739458755279315,
          11.955339487855895,
          13.171220220432474,
          14.387100953009039,
          15.602981685585618,
          16.818862418162198,
          18.034743150738763,
          19.250623883315342,
          20.46650461589192,
          21.6823853484685,
          22.898266081045065,
          24.114146813621645,
          25.330027546198224,
          26.54590827877479,
          27.761789011351368,
          28.977669743927947,
          30.193550476504512,
          31.40943120908109,
          32.62531194165767,
          33.84119267423425,
          35.057073406810815,
          36.272954139387394,
          37.488834871963974,
          38.70471560454054,
          39.92059633711712,
          41.1364770696937,
          42.35235780227028,
          43.56823853484684,
          44.78411926742342,
          46
         ],
         "y": [
          0.0008580441113860472,
          0.0008872098305847923,
          0.0009170931042585777,
          0.0009476999617582145,
          0.0009790359758609904,
          0.0010111062407712798,
          0.0010439153501163683,
          0.001077467374977376,
          0.0011117658419964077,
          0.001146813711602243,
          0.0011826133563979714,
          0.0012191665397550586,
          0.0012564743946592643,
          0.0012945374028547423,
          0.0013333553743334623,
          0.0013729274272177919,
          0.001413251968084726,
          0.0014543266727807453,
          0.0014961484677767365,
          0.0015387135121126972,
          0.0015820171799821705,
          0.0016260540440064162,
          0.0016708178592483372,
          0.0017163015480159772,
          0.0017624971855051618,
          0.0018093959863304454,
          0.001856988291992977,
          0.001905263559333247,
          0.0019542103500158592,
          0.0020038163210925547,
          0.002054068216688621,
          0.00210495186085662,
          0.0021564521516400288,
          0.002208553056387881,
          0.002261237608359894,
          0.0023144879046597963,
          0.002368285105532695,
          0.002422609435060287,
          0.00247744018328556,
          0.002532755709796368,
          0.0025885334487948416,
          0.0026447499156770833,
          0.002701380715144944,
          0.0027584005508689458,
          0.0028157832367185238,
          0.002873501709572836,
          0.002931528043722318,
          0.0029898334668679925,
          0.0030483883777223794,
          0.0031071623652124706,
          0.0031661242292819313,
          0.003225242003286214,
          0.003284482977970821,
          0.0033438137270194084,
          0.0034032001341548603,
          0.003462607421772887,
          0.0035220001810841047,
          0.003581342403736923,
          0.0036405975148899633,
          0.003699728407699168,
          0.003758697479181138,
          0.0038174666674107263,
          0.003875997490007424,
          0.003934251083861602,
          0.003992188246048312,
          0.004049769475873024,
          0.004106955017990479,
          0.004163704906534665,
          0.004219979010194914,
          0.004275737078170208,
          0.004330938786930975,
          0.004385543787714973,
          0.004439511754681378,
          0.004492802433644787,
          0.004545375691308631,
          0.004597191564915444,
          0.004648210312229574,
          0.0046983924617661765,
          0.004747698863178884,
          0.004796090737717152,
          0.004843529728663228,
          0.004889977951657735,
          0.004935398044822162,
          0.004979753218586068,
          0.005023007305126522,
          0.0050651248073272336,
          0.0051060709471650164,
          0.0051458117134315804,
          0.005184313908699286,
          0.005221545195440301,
          0.005257474141209685,
          0.005292070262804194,
          0.0053253040693100745,
          0.005357147103954893,
          0.0053875719846803215,
          0.005416552443354975,
          0.005444063363548765,
          0.005470080816792747,
          0.005494582097251239,
          0.005517545754735883
         ]
        },
        {
         "fill": "tozeroy",
         "line": {
          "color": "rgb(239,85,59)"
         },
         "name": "부적합",
         "text": "0.381979238207332",
         "type": "scatter",
         "x": [
          46,
          49.717171717171716,
          53.43434343434343,
          57.151515151515156,
          60.868686868686865,
          64.58585858585859,
          68.30303030303031,
          72.02020202020202,
          75.73737373737373,
          79.45454545454545,
          83.17171717171718,
          86.88888888888889,
          90.60606060606061,
          94.32323232323233,
          98.04040404040404,
          101.75757575757575,
          105.47474747474747,
          109.1919191919192,
          112.9090909090909,
          116.62626262626263,
          120.34343434343434,
          124.06060606060606,
          127.77777777777777,
          131.49494949494948,
          135.21212121212122,
          138.92929292929293,
          142.64646464646466,
          146.36363636363637,
          150.08080808080808,
          153.7979797979798,
          157.5151515151515,
          161.2323232323232,
          164.94949494949495,
          168.66666666666669,
          172.3838383838384,
          176.1010101010101,
          179.8181818181818,
          183.53535353535352,
          187.25252525252526,
          190.96969696969697,
          194.68686868686868,
          198.40404040404042,
          202.12121212121212,
          205.83838383838383,
          209.55555555555554,
          213.27272727272728,
          216.989898989899,
          220.7070707070707,
          224.42424242424244,
          228.14141414141415,
          231.85858585858585,
          235.57575757575756,
          239.2929292929293,
          243.010101010101,
          246.72727272727272,
          250.44444444444443,
          254.16161616161617,
          257.8787878787879,
          261.5959595959596,
          265.3131313131313,
          269.030303030303,
          272.7474747474747,
          276.4646464646464,
          280.1818181818182,
          283.8989898989899,
          287.6161616161616,
          291.33333333333337,
          295.0505050505051,
          298.7676767676768,
          302.4848484848485,
          306.2020202020202,
          309.9191919191919,
          313.6363636363636,
          317.35353535353534,
          321.07070707070704,
          324.7878787878788,
          328.5050505050505,
          332.22222222222223,
          335.93939393939394,
          339.65656565656565,
          343.37373737373736,
          347.09090909090907,
          350.80808080808083,
          354.52525252525254,
          358.24242424242425,
          361.95959595959596,
          365.67676767676767,
          369.3939393939394,
          373.1111111111111,
          376.82828282828285,
          380.54545454545456,
          384.26262626262627,
          387.979797979798,
          391.6969696969697,
          395.4141414141414,
          399.1313131313131,
          402.8484848484849,
          406.5656565656566,
          410.2828282828283,
          414
         ],
         "y": [
          0.005517545754735883,
          0.005578010204137701,
          0.005623425310220493,
          0.005653414439739856,
          0.0056677277686272365,
          0.005666245747357291,
          0.005648980763596536,
          0.005616076969790433,
          0.005567808279045325,
          0.005504574568276941,
          0.005426896162239047,
          0.0053354067048543416,
          0.005230844554440936,
          0.005114042866237202,
          0.004985918548452449,
          0.0048474602964058856,
          0.004699715922789351,
          0.004543779210468633,
          0.004380776517437272,
          0.00421185336161329,
          0.004038161206319478,
          0.003860844655836699,
          0.0036810292548071196,
          0.0034998100660277565,
          0.003318241178930063,
          0.003137326276460231,
          0.0029580103618637344,
          0.0027811727197537303,
          0.002607621158513082,
          0.002438087554220095,
          0.002273224690524695,
          0.0021136043647961332,
          0.001959716708898203,
          0.0018119706535189239,
          0.0016706954483902156,
          0.0015361431371845285,
          0.0014084918754789803,
          0.0012878499729503372,
          0.0011742605368373785,
          0.0010677065925345586,
          0.0009681165587493055,
          0.0008753699586964859,
          0.0007893032550063123,
          0.0007097157040452897,
          0.0006363751348352942,
          0.0005690235683397407,
          0.0005073826042101769,
          0.00045115851380900923,
          0.00040004699012616366,
          0.0003537375168014354,
          0.00031191732959841127,
          0.00027427495413749815,
          0.00024050331331336908,
          0.0002103024064660595,
          0.00018338156995550346,
          0.00015946133525527695,
          0.0001382749060167148,
          0.00011956927977477784,
          0.00010310604311451833,
          0.0000886618712565621,
          0.00007602876423425838,
          0.00006501405221956226,
          0.000055440202213435244,
          0.00004714445735806696,
          0.00003997833866183394,
          0.0000338070370603874,
          0.000028508721570310835,
          0.000023973786919793415,
          0.000020104061549339657,
          0.00001681199434031165,
          0.000014019835915211723,
          0.000011658827915448821,
          0.0000096684113437227,
          0.00000799546289282596,
          0.000006593566194926513,
          0.0000054223231310223285,
          0.000004446708747482601,
          0.0000036364719371141703,
          0.000002965582852300651,
          0.000002411727019335793,
          0.000001955845304612078,
          0.0000015817182308541748,
          0.0000012755926394992321,
          0.0000010258483271083305,
          8.227020325524538e-7,
          6.579460010932735e-7,
          5.247182854591274e-7,
          4.1730194764711626e-7,
          3.3095038469169933e-7,
          2.6173610458733795e-7,
          2.0642041390078733e-7,
          1.623416367462863e-7,
          1.2731965751022793e-7,
          9.957476012208809e-8,
          7.765891914167315e-8,
          6.039787797261246e-8,
          4.6842523640138964e-8,
          3.622823320396723e-8,
          2.7941022201804606e-8,
          2.1489469374785214e-8
         ]
        }
       ],
       "layout": {
        "annotations": [
         {
          "bordercolor": "rgb(100,110,250)",
          "borderwidth": 2,
          "font": {
           "color": "rgb(100,110,250)",
           "size": 15
          },
          "showarrow": false,
          "text": "0.382",
          "x": 46,
          "xshift": -40,
          "y": 0.005517545754735883,
          "yshift": -100
         },
         {
          "bordercolor": "rgb(239,85,59)",
          "borderwidth": 2,
          "font": {
           "color": "rgb(239,85,59)",
           "size": 15
          },
          "showarrow": false,
          "text": "0.618",
          "x": 46,
          "xshift": 40,
          "y": 0.005517545754735883,
          "yshift": -100
         }
        ],
        "template": {
         "data": {
          "bar": [
           {
            "error_x": {
             "color": "#2a3f5f"
            },
            "error_y": {
             "color": "#2a3f5f"
            },
            "marker": {
             "line": {
              "color": "#E5ECF6",
              "width": 0.5
             },
             "pattern": {
              "fillmode": "overlay",
              "size": 10,
              "solidity": 0.2
             }
            },
            "type": "bar"
           }
          ],
          "barpolar": [
           {
            "marker": {
             "line": {
              "color": "#E5ECF6",
              "width": 0.5
             },
             "pattern": {
              "fillmode": "overlay",
              "size": 10,
              "solidity": 0.2
             }
            },
            "type": "barpolar"
           }
          ],
          "carpet": [
           {
            "aaxis": {
             "endlinecolor": "#2a3f5f",
             "gridcolor": "white",
             "linecolor": "white",
             "minorgridcolor": "white",
             "startlinecolor": "#2a3f5f"
            },
            "baxis": {
             "endlinecolor": "#2a3f5f",
             "gridcolor": "white",
             "linecolor": "white",
             "minorgridcolor": "white",
             "startlinecolor": "#2a3f5f"
            },
            "type": "carpet"
           }
          ],
          "choropleth": [
           {
            "colorbar": {
             "outlinewidth": 0,
             "ticks": ""
            },
            "type": "choropleth"
           }
          ],
          "contour": [
           {
            "colorbar": {
             "outlinewidth": 0,
             "ticks": ""
            },
            "colorscale": [
             [
              0,
              "#0d0887"
             ],
             [
              0.1111111111111111,
              "#46039f"
             ],
             [
              0.2222222222222222,
              "#7201a8"
             ],
             [
              0.3333333333333333,
              "#9c179e"
             ],
             [
              0.4444444444444444,
              "#bd3786"
             ],
             [
              0.5555555555555556,
              "#d8576b"
             ],
             [
              0.6666666666666666,
              "#ed7953"
             ],
             [
              0.7777777777777778,
              "#fb9f3a"
             ],
             [
              0.8888888888888888,
              "#fdca26"
             ],
             [
              1,
              "#f0f921"
             ]
            ],
            "type": "contour"
           }
          ],
          "contourcarpet": [
           {
            "colorbar": {
             "outlinewidth": 0,
             "ticks": ""
            },
            "type": "contourcarpet"
           }
          ],
          "heatmap": [
           {
            "colorbar": {
             "outlinewidth": 0,
             "ticks": ""
            },
            "colorscale": [
             [
              0,
              "#0d0887"
             ],
             [
              0.1111111111111111,
              "#46039f"
             ],
             [
              0.2222222222222222,
              "#7201a8"
             ],
             [
              0.3333333333333333,
              "#9c179e"
             ],
             [
              0.4444444444444444,
              "#bd3786"
             ],
             [
              0.5555555555555556,
              "#d8576b"
             ],
             [
              0.6666666666666666,
              "#ed7953"
             ],
             [
              0.7777777777777778,
              "#fb9f3a"
             ],
             [
              0.8888888888888888,
              "#fdca26"
             ],
             [
              1,
              "#f0f921"
             ]
            ],
            "type": "heatmap"
           }
          ],
          "heatmapgl": [
           {
            "colorbar": {
             "outlinewidth": 0,
             "ticks": ""
            },
            "colorscale": [
             [
              0,
              "#0d0887"
             ],
             [
              0.1111111111111111,
              "#46039f"
             ],
             [
              0.2222222222222222,
              "#7201a8"
             ],
             [
              0.3333333333333333,
              "#9c179e"
             ],
             [
              0.4444444444444444,
              "#bd3786"
             ],
             [
              0.5555555555555556,
              "#d8576b"
             ],
             [
              0.6666666666666666,
              "#ed7953"
             ],
             [
              0.7777777777777778,
              "#fb9f3a"
             ],
             [
              0.8888888888888888,
              "#fdca26"
             ],
             [
              1,
              "#f0f921"
             ]
            ],
            "type": "heatmapgl"
           }
          ],
          "histogram": [
           {
            "marker": {
             "pattern": {
              "fillmode": "overlay",
              "size": 10,
              "solidity": 0.2
             }
            },
            "type": "histogram"
           }
          ],
          "histogram2d": [
           {
            "colorbar": {
             "outlinewidth": 0,
             "ticks": ""
            },
            "colorscale": [
             [
              0,
              "#0d0887"
             ],
             [
              0.1111111111111111,
              "#46039f"
             ],
             [
              0.2222222222222222,
              "#7201a8"
             ],
             [
              0.3333333333333333,
              "#9c179e"
             ],
             [
              0.4444444444444444,
              "#bd3786"
             ],
             [
              0.5555555555555556,
              "#d8576b"
             ],
             [
              0.6666666666666666,
              "#ed7953"
             ],
             [
              0.7777777777777778,
              "#fb9f3a"
             ],
             [
              0.8888888888888888,
              "#fdca26"
             ],
             [
              1,
              "#f0f921"
             ]
            ],
            "type": "histogram2d"
           }
          ],
          "histogram2dcontour": [
           {
            "colorbar": {
             "outlinewidth": 0,
             "ticks": ""
            },
            "colorscale": [
             [
              0,
              "#0d0887"
             ],
             [
              0.1111111111111111,
              "#46039f"
             ],
             [
              0.2222222222222222,
              "#7201a8"
             ],
             [
              0.3333333333333333,
              "#9c179e"
             ],
             [
              0.4444444444444444,
              "#bd3786"
             ],
             [
              0.5555555555555556,
              "#d8576b"
             ],
             [
              0.6666666666666666,
              "#ed7953"
             ],
             [
              0.7777777777777778,
              "#fb9f3a"
             ],
             [
              0.8888888888888888,
              "#fdca26"
             ],
             [
              1,
              "#f0f921"
             ]
            ],
            "type": "histogram2dcontour"
           }
          ],
          "mesh3d": [
           {
            "colorbar": {
             "outlinewidth": 0,
             "ticks": ""
            },
            "type": "mesh3d"
           }
          ],
          "parcoords": [
           {
            "line": {
             "colorbar": {
              "outlinewidth": 0,
              "ticks": ""
             }
            },
            "type": "parcoords"
           }
          ],
          "pie": [
           {
            "automargin": true,
            "type": "pie"
           }
          ],
          "scatter": [
           {
            "marker": {
             "colorbar": {
              "outlinewidth": 0,
              "ticks": ""
             }
            },
            "type": "scatter"
           }
          ],
          "scatter3d": [
           {
            "line": {
             "colorbar": {
              "outlinewidth": 0,
              "ticks": ""
             }
            },
            "marker": {
             "colorbar": {
              "outlinewidth": 0,
              "ticks": ""
             }
            },
            "type": "scatter3d"
           }
          ],
          "scattercarpet": [
           {
            "marker": {
             "colorbar": {
              "outlinewidth": 0,
              "ticks": ""
             }
            },
            "type": "scattercarpet"
           }
          ],
          "scattergeo": [
           {
            "marker": {
             "colorbar": {
              "outlinewidth": 0,
              "ticks": ""
             }
            },
            "type": "scattergeo"
           }
          ],
          "scattergl": [
           {
            "marker": {
             "colorbar": {
              "outlinewidth": 0,
              "ticks": ""
             }
            },
            "type": "scattergl"
           }
          ],
          "scattermapbox": [
           {
            "marker": {
             "colorbar": {
              "outlinewidth": 0,
              "ticks": ""
             }
            },
            "type": "scattermapbox"
           }
          ],
          "scatterpolar": [
           {
            "marker": {
             "colorbar": {
              "outlinewidth": 0,
              "ticks": ""
             }
            },
            "type": "scatterpolar"
           }
          ],
          "scatterpolargl": [
           {
            "marker": {
             "colorbar": {
              "outlinewidth": 0,
              "ticks": ""
             }
            },
            "type": "scatterpolargl"
           }
          ],
          "scatterternary": [
           {
            "marker": {
             "colorbar": {
              "outlinewidth": 0,
              "ticks": ""
             }
            },
            "type": "scatterternary"
           }
          ],
          "surface": [
           {
            "colorbar": {
             "outlinewidth": 0,
             "ticks": ""
            },
            "colorscale": [
             [
              0,
              "#0d0887"
             ],
             [
              0.1111111111111111,
              "#46039f"
             ],
             [
              0.2222222222222222,
              "#7201a8"
             ],
             [
              0.3333333333333333,
              "#9c179e"
             ],
             [
              0.4444444444444444,
              "#bd3786"
             ],
             [
              0.5555555555555556,
              "#d8576b"
             ],
             [
              0.6666666666666666,
              "#ed7953"
             ],
             [
              0.7777777777777778,
              "#fb9f3a"
             ],
             [
              0.8888888888888888,
              "#fdca26"
             ],
             [
              1,
              "#f0f921"
             ]
            ],
            "type": "surface"
           }
          ],
          "table": [
           {
            "cells": {
             "fill": {
              "color": "#EBF0F8"
             },
             "line": {
              "color": "white"
             }
            },
            "header": {
             "fill": {
              "color": "#C8D4E3"
             },
             "line": {
              "color": "white"
             }
            },
            "type": "table"
           }
          ]
         },
         "layout": {
          "annotationdefaults": {
           "arrowcolor": "#2a3f5f",
           "arrowhead": 0,
           "arrowwidth": 1
          },
          "autotypenumbers": "strict",
          "coloraxis": {
           "colorbar": {
            "outlinewidth": 0,
            "ticks": ""
           }
          },
          "colorscale": {
           "diverging": [
            [
             0,
             "#8e0152"
            ],
            [
             0.1,
             "#c51b7d"
            ],
            [
             0.2,
             "#de77ae"
            ],
            [
             0.3,
             "#f1b6da"
            ],
            [
             0.4,
             "#fde0ef"
            ],
            [
             0.5,
             "#f7f7f7"
            ],
            [
             0.6,
             "#e6f5d0"
            ],
            [
             0.7,
             "#b8e186"
            ],
            [
             0.8,
             "#7fbc41"
            ],
            [
             0.9,
             "#4d9221"
            ],
            [
             1,
             "#276419"
            ]
           ],
           "sequential": [
            [
             0,
             "#0d0887"
            ],
            [
             0.1111111111111111,
             "#46039f"
            ],
            [
             0.2222222222222222,
             "#7201a8"
            ],
            [
             0.3333333333333333,
             "#9c179e"
            ],
            [
             0.4444444444444444,
             "#bd3786"
            ],
            [
             0.5555555555555556,
             "#d8576b"
            ],
            [
             0.6666666666666666,
             "#ed7953"
            ],
            [
             0.7777777777777778,
             "#fb9f3a"
            ],
            [
             0.8888888888888888,
             "#fdca26"
            ],
            [
             1,
             "#f0f921"
            ]
           ],
           "sequentialminus": [
            [
             0,
             "#0d0887"
            ],
            [
             0.1111111111111111,
             "#46039f"
            ],
            [
             0.2222222222222222,
             "#7201a8"
            ],
            [
             0.3333333333333333,
             "#9c179e"
            ],
            [
             0.4444444444444444,
             "#bd3786"
            ],
            [
             0.5555555555555556,
             "#d8576b"
            ],
            [
             0.6666666666666666,
             "#ed7953"
            ],
            [
             0.7777777777777778,
             "#fb9f3a"
            ],
            [
             0.8888888888888888,
             "#fdca26"
            ],
            [
             1,
             "#f0f921"
            ]
           ]
          },
          "colorway": [
           "#636efa",
           "#EF553B",
           "#00cc96",
           "#ab63fa",
           "#FFA15A",
           "#19d3f3",
           "#FF6692",
           "#B6E880",
           "#FF97FF",
           "#FECB52"
          ],
          "font": {
           "color": "#2a3f5f"
          },
          "geo": {
           "bgcolor": "white",
           "lakecolor": "white",
           "landcolor": "#E5ECF6",
           "showlakes": true,
           "showland": true,
           "subunitcolor": "white"
          },
          "hoverlabel": {
           "align": "left"
          },
          "hovermode": "closest",
          "mapbox": {
           "style": "light"
          },
          "paper_bgcolor": "white",
          "plot_bgcolor": "#E5ECF6",
          "polar": {
           "angularaxis": {
            "gridcolor": "white",
            "linecolor": "white",
            "ticks": ""
           },
           "bgcolor": "#E5ECF6",
           "radialaxis": {
            "gridcolor": "white",
            "linecolor": "white",
            "ticks": ""
           }
          },
          "scene": {
           "xaxis": {
            "backgroundcolor": "#E5ECF6",
            "gridcolor": "white",
            "gridwidth": 2,
            "linecolor": "white",
            "showbackground": true,
            "ticks": "",
            "zerolinecolor": "white"
           },
           "yaxis": {
            "backgroundcolor": "#E5ECF6",
            "gridcolor": "white",
            "gridwidth": 2,
            "linecolor": "white",
            "showbackground": true,
            "ticks": "",
            "zerolinecolor": "white"
           },
           "zaxis": {
            "backgroundcolor": "#E5ECF6",
            "gridcolor": "white",
            "gridwidth": 2,
            "linecolor": "white",
            "showbackground": true,
            "ticks": "",
            "zerolinecolor": "white"
           }
          },
          "shapedefaults": {
           "line": {
            "color": "#2a3f5f"
           }
          },
          "ternary": {
           "aaxis": {
            "gridcolor": "white",
            "linecolor": "white",
            "ticks": ""
           },
           "baxis": {
            "gridcolor": "white",
            "linecolor": "white",
            "ticks": ""
           },
           "bgcolor": "#E5ECF6",
           "caxis": {
            "gridcolor": "white",
            "linecolor": "white",
            "ticks": ""
           }
          },
          "title": {
           "x": 0.05
          },
          "xaxis": {
           "automargin": true,
           "gridcolor": "white",
           "linecolor": "white",
           "ticks": "",
           "title": {
            "standoff": 15
           },
           "zerolinecolor": "white",
           "zerolinewidth": 2
          },
          "yaxis": {
           "automargin": true,
           "gridcolor": "white",
           "linecolor": "white",
           "ticks": "",
           "title": {
            "standoff": 15
           },
           "zerolinecolor": "white",
           "zerolinewidth": 2
          }
         }
        }
       }
      }
     },
     "metadata": {},
     "output_type": "display_data"
    },
    {
     "data": {
      "text/plain": [
       "0.381979238207332"
      ]
     },
     "execution_count": 758,
     "metadata": {},
     "output_type": "execute_result"
    }
   ],
   "source": [
    "show_norm(df_parking_area.mean(),df_parking_area.std(),df_parking_area.min(),df_parking_area.max())\n",
    "a = df_parking_area.iloc[610]\n",
    "cal_norm(df_parking_area.mean(),df_parking_area.std(),df_parking_area.min(),df_parking_area.max(), a)"
   ]
  },
  {
   "cell_type": "markdown",
   "metadata": {},
   "source": [
    "## 상위 요소 - 기술적 요소"
   ]
  },
  {
   "cell_type": "markdown",
   "metadata": {},
   "source": [
    "### 복합 충전소 여부 (수소차)"
   ]
  },
  {
   "cell_type": "markdown",
   "metadata": {},
   "source": [
    "### 충전시간 (전기차)\n",
    " 급속의 경우는 50분으로 \"적합\" 또는 \"True\" 의 비율을 100%로 설정\n",
    " 완속의 경우는 "
   ]
  },
  {
   "cell_type": "markdown",
   "metadata": {},
   "source": []
  },
  {
   "cell_type": "code",
   "execution_count": null,
   "metadata": {},
   "outputs": [],
   "source": []
  }
 ],
 "metadata": {
  "interpreter": {
   "hash": "f050bb9fd34efe2ad4050694f9ad3d2282b57f28f06302e823e69ca1f91b4def"
  },
  "kernelspec": {
   "display_name": "Python 3.10.4 ('GVCS')",
   "language": "python",
   "name": "python3"
  },
  "language_info": {
   "codemirror_mode": {
    "name": "ipython",
    "version": 3
   },
   "file_extension": ".py",
   "mimetype": "text/x-python",
   "name": "python",
   "nbconvert_exporter": "python",
   "pygments_lexer": "ipython3",
   "version": "3.10.4"
  }
 },
 "nbformat": 4,
 "nbformat_minor": 4
}
